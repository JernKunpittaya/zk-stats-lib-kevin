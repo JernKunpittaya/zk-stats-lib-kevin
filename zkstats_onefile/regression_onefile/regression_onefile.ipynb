{
 "cells": [
  {
   "cell_type": "code",
   "execution_count": 56,
   "metadata": {},
   "outputs": [
    {
     "name": "stdout",
     "output_type": "stream",
     "text": [
      "Requirement already satisfied: ezkl==7.0.0 in /Library/Frameworks/Python.framework/Versions/3.10/lib/python3.10/site-packages (from -r ../../requirements.txt (line 1)) (7.0.0)\n",
      "Requirement already satisfied: torch in /Library/Frameworks/Python.framework/Versions/3.10/lib/python3.10/site-packages (from -r ../../requirements.txt (line 2)) (2.1.1)\n",
      "Requirement already satisfied: requests in /Library/Frameworks/Python.framework/Versions/3.10/lib/python3.10/site-packages (from -r ../../requirements.txt (line 3)) (2.31.0)\n",
      "Requirement already satisfied: scipy in /Library/Frameworks/Python.framework/Versions/3.10/lib/python3.10/site-packages (from -r ../../requirements.txt (line 4)) (1.11.4)\n",
      "Requirement already satisfied: numpy in /Library/Frameworks/Python.framework/Versions/3.10/lib/python3.10/site-packages (from -r ../../requirements.txt (line 5)) (1.26.2)\n",
      "Requirement already satisfied: matplotlib in /Library/Frameworks/Python.framework/Versions/3.10/lib/python3.10/site-packages (from -r ../../requirements.txt (line 6)) (3.8.2)\n",
      "Requirement already satisfied: statistics in /Library/Frameworks/Python.framework/Versions/3.10/lib/python3.10/site-packages (from -r ../../requirements.txt (line 7)) (1.0.3.5)\n",
      "Requirement already satisfied: onnx in /Library/Frameworks/Python.framework/Versions/3.10/lib/python3.10/site-packages (from -r ../../requirements.txt (line 8)) (1.15.0)\n",
      "Requirement already satisfied: networkx in /Library/Frameworks/Python.framework/Versions/3.10/lib/python3.10/site-packages (from torch->-r ../../requirements.txt (line 2)) (3.2.1)\n",
      "Requirement already satisfied: jinja2 in /Library/Frameworks/Python.framework/Versions/3.10/lib/python3.10/site-packages (from torch->-r ../../requirements.txt (line 2)) (3.1.2)\n",
      "Requirement already satisfied: sympy in /Library/Frameworks/Python.framework/Versions/3.10/lib/python3.10/site-packages (from torch->-r ../../requirements.txt (line 2)) (1.12)\n",
      "Requirement already satisfied: typing-extensions in /Library/Frameworks/Python.framework/Versions/3.10/lib/python3.10/site-packages (from torch->-r ../../requirements.txt (line 2)) (4.8.0)\n",
      "Requirement already satisfied: fsspec in /Library/Frameworks/Python.framework/Versions/3.10/lib/python3.10/site-packages (from torch->-r ../../requirements.txt (line 2)) (2023.10.0)\n",
      "Requirement already satisfied: filelock in /Library/Frameworks/Python.framework/Versions/3.10/lib/python3.10/site-packages (from torch->-r ../../requirements.txt (line 2)) (3.13.1)\n",
      "Requirement already satisfied: idna<4,>=2.5 in /Library/Frameworks/Python.framework/Versions/3.10/lib/python3.10/site-packages (from requests->-r ../../requirements.txt (line 3)) (3.6)\n",
      "Requirement already satisfied: charset-normalizer<4,>=2 in /Library/Frameworks/Python.framework/Versions/3.10/lib/python3.10/site-packages (from requests->-r ../../requirements.txt (line 3)) (3.3.2)\n",
      "Requirement already satisfied: urllib3<3,>=1.21.1 in /Library/Frameworks/Python.framework/Versions/3.10/lib/python3.10/site-packages (from requests->-r ../../requirements.txt (line 3)) (2.1.0)\n",
      "Requirement already satisfied: certifi>=2017.4.17 in /Library/Frameworks/Python.framework/Versions/3.10/lib/python3.10/site-packages (from requests->-r ../../requirements.txt (line 3)) (2023.11.17)\n",
      "Requirement already satisfied: pyparsing>=2.3.1 in /Library/Frameworks/Python.framework/Versions/3.10/lib/python3.10/site-packages (from matplotlib->-r ../../requirements.txt (line 6)) (3.1.1)\n",
      "Requirement already satisfied: kiwisolver>=1.3.1 in /Library/Frameworks/Python.framework/Versions/3.10/lib/python3.10/site-packages (from matplotlib->-r ../../requirements.txt (line 6)) (1.4.5)\n",
      "Requirement already satisfied: packaging>=20.0 in /Users/jernkun/Library/Python/3.10/lib/python/site-packages (from matplotlib->-r ../../requirements.txt (line 6)) (23.2)\n",
      "Requirement already satisfied: cycler>=0.10 in /Library/Frameworks/Python.framework/Versions/3.10/lib/python3.10/site-packages (from matplotlib->-r ../../requirements.txt (line 6)) (0.12.1)\n",
      "Requirement already satisfied: pillow>=8 in /Library/Frameworks/Python.framework/Versions/3.10/lib/python3.10/site-packages (from matplotlib->-r ../../requirements.txt (line 6)) (10.1.0)\n",
      "Requirement already satisfied: fonttools>=4.22.0 in /Library/Frameworks/Python.framework/Versions/3.10/lib/python3.10/site-packages (from matplotlib->-r ../../requirements.txt (line 6)) (4.45.1)\n",
      "Requirement already satisfied: contourpy>=1.0.1 in /Library/Frameworks/Python.framework/Versions/3.10/lib/python3.10/site-packages (from matplotlib->-r ../../requirements.txt (line 6)) (1.2.0)\n",
      "Requirement already satisfied: python-dateutil>=2.7 in /Users/jernkun/Library/Python/3.10/lib/python/site-packages (from matplotlib->-r ../../requirements.txt (line 6)) (2.8.2)\n",
      "Requirement already satisfied: docutils>=0.3 in /Library/Frameworks/Python.framework/Versions/3.10/lib/python3.10/site-packages (from statistics->-r ../../requirements.txt (line 7)) (0.20.1)\n",
      "Requirement already satisfied: protobuf>=3.20.2 in /Library/Frameworks/Python.framework/Versions/3.10/lib/python3.10/site-packages (from onnx->-r ../../requirements.txt (line 8)) (4.25.1)\n",
      "Requirement already satisfied: six>=1.5 in /Users/jernkun/Library/Python/3.10/lib/python/site-packages (from python-dateutil>=2.7->matplotlib->-r ../../requirements.txt (line 6)) (1.16.0)\n",
      "Requirement already satisfied: MarkupSafe>=2.0 in /Library/Frameworks/Python.framework/Versions/3.10/lib/python3.10/site-packages (from jinja2->torch->-r ../../requirements.txt (line 2)) (2.1.3)\n",
      "Requirement already satisfied: mpmath>=0.19 in /Library/Frameworks/Python.framework/Versions/3.10/lib/python3.10/site-packages (from sympy->torch->-r ../../requirements.txt (line 2)) (1.3.0)\n",
      "\u001b[33mWARNING: You are using pip version 21.2.3; however, version 23.3.2 is available.\n",
      "You should consider upgrading via the '/usr/local/bin/python3 -m pip install --upgrade pip' command.\u001b[0m\n",
      "Note: you may need to restart the kernel to use updated packages.\n"
     ]
    }
   ],
   "source": [
    "pip install -r ../../requirements.txt"
   ]
  },
  {
   "cell_type": "code",
   "execution_count": 57,
   "metadata": {},
   "outputs": [],
   "source": [
    "import ezkl\n",
    "import torch\n",
    "from torch import nn\n",
    "import json\n",
    "import os\n",
    "import time\n",
    "import scipy\n",
    "import numpy as np\n",
    "import matplotlib.pyplot as plt\n",
    "import statistics\n",
    "import math"
   ]
  },
  {
   "cell_type": "code",
   "execution_count": 58,
   "metadata": {},
   "outputs": [],
   "source": [
    "%run -i ../core_onefile.py"
   ]
  },
  {
   "cell_type": "code",
   "execution_count": 59,
   "metadata": {},
   "outputs": [],
   "source": [
    "# init path\n",
    "os.makedirs(os.path.dirname('shared/'), exist_ok=True)\n",
    "os.makedirs(os.path.dirname('prover/'), exist_ok=True)\n",
    "verifier_model_path = os.path.join('shared/verifier.onnx')\n",
    "prover_model_path = os.path.join('prover/prover.onnx')\n",
    "verifier_compiled_model_path = os.path.join('shared/verifier.compiled')\n",
    "prover_compiled_model_path = os.path.join('prover/prover.compiled')\n",
    "pk_path = os.path.join('shared/test.pk')\n",
    "vk_path = os.path.join('shared/test.vk')\n",
    "proof_path = os.path.join('shared/test.pf')\n",
    "settings_path = os.path.join('shared/settings.json')\n",
    "srs_path = os.path.join('shared/kzg.srs')\n",
    "witness_path = os.path.join('prover/witness.json')\n",
    "# this is private to prover since it contains actual data\n",
    "sel_data_path = os.path.join('prover/sel_data.json')\n",
    "sel_dummy_data_path = os.path.join('shared/sel_dummy_data.json')"
   ]
  },
  {
   "attachments": {},
   "cell_type": "markdown",
   "metadata": {},
   "source": [
    "=======================  ZK-STATS FLOW ======================="
   ]
  },
  {
   "cell_type": "code",
   "execution_count": 60,
   "metadata": {},
   "outputs": [
    {
     "name": "stdout",
     "output_type": "stream",
     "text": [
      "reg fit:  [1.98835287 3.14238058 0.06413647]\n"
     ]
    }
   ],
   "source": [
    "table_path = os.path.join('table.json')\n",
    "dummy_table_path = os.path.join('shared/dummy_table.json')\n",
    "\n",
    "def createDummy(table_path, dummy_table_path):\n",
    "    # assume all columns have same number of rows\n",
    "    table_data = np.array(json.loads(open(table_path, \"r\").read())['input_data'])\n",
    "    row_num = len(table_data[0])\n",
    "    dummy_table_vals = []\n",
    "    for index in range(row_num):\n",
    "        # not use same value for every column to prevent something weird, like singular matrix\n",
    "        dummy_table_vals.append(np.round(np.random.uniform(1,10,row_num),1).tolist())\n",
    "    json.dump({\"input_data\":dummy_table_vals}, open(dummy_table_path, 'w'))\n",
    "\n",
    "\n",
    "table_data = np.array(json.loads(open(table_path, \"r\").read())['input_data'])\n",
    "x1_vals = table_data[0]\n",
    "x2_vals = table_data[1]\n",
    "y_vals = table_data[2]\n",
    "createDummy(table_path, dummy_table_path)\n",
    "dummy_table_data = np.array(json.loads(open(dummy_table_path, \"r\").read())['input_data'])\n",
    "dummy_x1_vals = dummy_table_data[0]\n",
    "dummy_x2_vals = dummy_table_data[1]\n",
    "dummy_y_vals = dummy_table_data[2]\n",
    "\n",
    "\n",
    "def stacked_x(*args):\n",
    "    result = np.column_stack((*args, np.ones_like(args[0])))\n",
    "    return result\n",
    "\n",
    "x_one = stacked_x(x1_vals, x2_vals)\n",
    "dummy_x_one = stacked_x(dummy_x1_vals, dummy_x2_vals)\n",
    "\n",
    "w_vals = np.matmul(np.matmul(np.linalg.inv(np.matmul(x_one.transpose(), x_one)), x_one.transpose()), y_vals)\n",
    "dummy_w_vals = np.matmul(np.matmul(np.linalg.inv(np.matmul(dummy_x_one.transpose(), dummy_x_one)), dummy_x_one.transpose()), dummy_y_vals)\n",
    "\n",
    "print(\"reg fit: \", w_vals)\n",
    "w_tensor = torch.tensor(w_vals).reshape(1,-1,1)\n",
    "dummy_w_tensor = torch.tensor(dummy_w_vals).reshape(1,-1,1)\n"
   ]
  },
  {
   "cell_type": "code",
   "execution_count": 61,
   "metadata": {},
   "outputs": [],
   "source": [
    "# Verifier/ data consumer side:\n",
    "class verifier_model(nn.Module):\n",
    "    def __init__(self):\n",
    "        super(verifier_model, self).__init__()\n",
    "        self.w = nn.Parameter(data = dummy_w_tensor, requires_grad = False)\n",
    "\n",
    "    def forward(self, *args):\n",
    "        # infer Y from the last parameter\n",
    "        Y = args[-1]\n",
    "        X_one = torch.cat((*args[:-1], torch.ones_like(args[0][:, :, -1:])), dim=2)\n",
    "        X_T = torch.transpose(X_one, 1, 2)\n",
    "        return (\n",
    "            torch.sum(torch.abs(X_T @ X_one @ self.w - X_T @ Y)) <= 0.01 * torch.sum(torch.abs(X_T @ Y)),\n",
    "            self.w\n",
    "        )\n",
    "    \n",
    "\n",
    "verifier_define_calculation(dummy_table_path, [0,1,2],sel_dummy_data_path,verifier_model, verifier_model_path)"
   ]
  },
  {
   "cell_type": "code",
   "execution_count": 62,
   "metadata": {},
   "outputs": [
    {
     "name": "stdout",
     "output_type": "stream",
     "text": [
      "Theory output:  tensor([[[1.9884],\n",
      "         [3.1424],\n",
      "         [0.0641]]], dtype=torch.float64)\n",
      "==== Generate & Calibrate Setting ====\n",
      "scale:  [0]\n",
      "setting:  {\"run_args\":{\"tolerance\":{\"val\":0.0,\"scale\":1.0},\"input_scale\":0,\"param_scale\":0,\"scale_rebase_multiplier\":10,\"lookup_range\":[-23296,18300],\"logrows\":16,\"num_inner_cols\":2,\"variables\":[[\"batch_size\",1]],\"input_visibility\":{\"Hashed\":{\"hash_is_public\":true,\"outlets\":[]}},\"output_visibility\":\"Public\",\"param_visibility\":\"Private\"},\"num_rows\":11808,\"total_assignments\":794,\"total_const_size\":13,\"model_instance_shapes\":[[1],[1,3,1]],\"model_output_scales\":[0,0],\"model_input_scales\":[0,0,0],\"module_sizes\":{\"kzg\":[],\"poseidon\":[11808,[3]],\"elgamal\":[0,[0]]},\"required_lookups\":[\"Abs\",{\"Div\":{\"denom\":100.0}},{\"GreaterThan\":{\"a\":0.0}}],\"check_mode\":\"UNSAFE\",\"version\":\"7.0.0\",\"num_blinding_factors\":null}\n"
     ]
    }
   ],
   "source": [
    "# prover calculates settings, send to verifier\n",
    "\n",
    "theory_output = w_tensor\n",
    "print(\"Theory output: \", theory_output)\n",
    "class prover_model(nn.Module):\n",
    "    def __init__(self):\n",
    "        super(prover_model, self).__init__()\n",
    "        self.w = nn.Parameter(data = w_tensor, requires_grad = False)\n",
    "\n",
    "    def forward(self, *args):\n",
    "        # infer Y from the last parameter\n",
    "        Y = args[-1]\n",
    "        X_one = torch.cat((*args[:-1], torch.ones_like(args[0][:, :, -1:])), dim=2)\n",
    "        X_T = torch.transpose(X_one, 1, 2)\n",
    "        return (\n",
    "            torch.sum(torch.abs(X_T @ X_one @ self.w - X_T @ Y)) <= 0.01 * torch.sum(torch.abs(X_T @ Y)),\n",
    "            self.w\n",
    "        )\n",
    "# try scale = [3] for more accuracy\n",
    "prover_gen_settings(table_path,[0,1,2], sel_data_path, prover_model,prover_model_path, [0], \"resources\", settings_path)"
   ]
  },
  {
   "cell_type": "code",
   "execution_count": 64,
   "metadata": {},
   "outputs": [
    {
     "name": "stderr",
     "output_type": "stream",
     "text": [
      "spawning module 0\n",
      "spawning module 2\n"
     ]
    },
    {
     "name": "stdout",
     "output_type": "stream",
     "text": [
      "==== setting up ezkl ====\n"
     ]
    },
    {
     "name": "stderr",
     "output_type": "stream",
     "text": [
      "spawning module 0\n",
      "spawning module 2\n"
     ]
    },
    {
     "name": "stdout",
     "output_type": "stream",
     "text": [
      "Time setup: 6.509712219238281 seconds\n",
      "=======================================\n",
      "Theory output:  tensor([[[1.9884],\n",
      "         [3.1424],\n",
      "         [0.0641]]], dtype=torch.float64)\n",
      "!@# compiled_model exists? True\n",
      "!@# compiled_model exists? True\n",
      "==== Generating Witness ====\n",
      "witness boolean:  1.0\n",
      "witness result 1 : 2.0\n",
      "witness result 2 : 3.0\n",
      "witness result 3 : 0.0\n",
      "==== Generating Proof ====\n"
     ]
    },
    {
     "name": "stderr",
     "output_type": "stream",
     "text": [
      "spawning module 0\n",
      "spawning module 2\n"
     ]
    },
    {
     "name": "stdout",
     "output_type": "stream",
     "text": [
      "proof:  {'instances': [[[6145674602038562713, 11796601694033167407, 3132644448460071153, 1431119980703310933], [17187590983289934876, 11857991285122296962, 971807162298867662, 379283799527326290], [3957842973089931008, 9845595232537184463, 786695466761881781, 2995319695946854765], [12436184717236109307, 3962172157175319849, 7381016538464732718, 1011752739694698287], [6425625360762666998, 7924344314350639699, 14762033076929465436, 2023505479389396574], [415066004289224689, 11886516471525959549, 3696305541684646538, 3035258219084094862], [0, 0, 0, 0]]], 'proof': '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', 'transcript_type': 'EVM'}\n",
      "Time gen prf: 9.169008255004883 seconds\n"
     ]
    }
   ],
   "source": [
    "# Here verifier & prover can concurrently call setup since all params are public to get pk. \n",
    "# Here write as verifier function to emphasize that verifier must calculate its own vk to be sure\n",
    "verifier_setup(verifier_model_path, verifier_compiled_model_path, settings_path,vk_path, pk_path )\n",
    "\n",
    "print(\"=======================================\")\n",
    "# Prover generates proof\n",
    "print(\"Theory output: \", theory_output)\n",
    "prover_gen_proof(prover_model_path, sel_data_path, witness_path, prover_compiled_model_path, settings_path, proof_path, pk_path)"
   ]
  },
  {
   "cell_type": "code",
   "execution_count": 65,
   "metadata": {},
   "outputs": [
    {
     "name": "stdout",
     "output_type": "stream",
     "text": [
      "num_inputs:  3\n",
      "prf instances:  [[[6145674602038562713, 11796601694033167407, 3132644448460071153, 1431119980703310933], [17187590983289934876, 11857991285122296962, 971807162298867662, 379283799527326290], [3957842973089931008, 9845595232537184463, 786695466761881781, 2995319695946854765], [12436184717236109307, 3962172157175319849, 7381016538464732718, 1011752739694698287], [6425625360762666998, 7924344314350639699, 14762033076929465436, 2023505479389396574], [415066004289224689, 11886516471525959549, 3696305541684646538, 3035258219084094862], [0, 0, 0, 0]]]\n",
      "proof boolean:  1.0\n",
      "proof result 1 : 2.0\n",
      "proof result 2 : 3.0\n",
      "proof result 3 : 0.0\n",
      "verified\n"
     ]
    }
   ],
   "source": [
    "verifier_verify(proof_path, settings_path, vk_path)"
   ]
  },
  {
   "cell_type": "code",
   "execution_count": null,
   "metadata": {},
   "outputs": [],
   "source": []
  }
 ],
 "metadata": {
  "kernelspec": {
   "display_name": "Python 3",
   "language": "python",
   "name": "python3"
  },
  "language_info": {
   "codemirror_mode": {
    "name": "ipython",
    "version": 3
   },
   "file_extension": ".py",
   "mimetype": "text/x-python",
   "name": "python",
   "nbconvert_exporter": "python",
   "pygments_lexer": "ipython3",
   "version": "3.10.0"
  },
  "orig_nbformat": 4
 },
 "nbformat": 4,
 "nbformat_minor": 2
}
