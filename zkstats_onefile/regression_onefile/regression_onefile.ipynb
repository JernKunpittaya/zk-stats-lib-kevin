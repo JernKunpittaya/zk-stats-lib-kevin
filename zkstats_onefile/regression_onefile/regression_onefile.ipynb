{
 "cells": [
  {
   "cell_type": "code",
   "execution_count": 167,
   "metadata": {},
   "outputs": [
    {
     "name": "stdout",
     "output_type": "stream",
     "text": [
      "Requirement already satisfied: ezkl==7.0.0 in /Library/Frameworks/Python.framework/Versions/3.10/lib/python3.10/site-packages (from -r ../../requirements.txt (line 1)) (7.0.0)\n",
      "Requirement already satisfied: torch in /Library/Frameworks/Python.framework/Versions/3.10/lib/python3.10/site-packages (from -r ../../requirements.txt (line 2)) (2.1.1)\n",
      "Requirement already satisfied: requests in /Library/Frameworks/Python.framework/Versions/3.10/lib/python3.10/site-packages (from -r ../../requirements.txt (line 3)) (2.31.0)\n",
      "Requirement already satisfied: scipy in /Library/Frameworks/Python.framework/Versions/3.10/lib/python3.10/site-packages (from -r ../../requirements.txt (line 4)) (1.11.4)\n",
      "Requirement already satisfied: numpy in /Library/Frameworks/Python.framework/Versions/3.10/lib/python3.10/site-packages (from -r ../../requirements.txt (line 5)) (1.26.2)\n",
      "Requirement already satisfied: matplotlib in /Library/Frameworks/Python.framework/Versions/3.10/lib/python3.10/site-packages (from -r ../../requirements.txt (line 6)) (3.8.2)\n",
      "Requirement already satisfied: statistics in /Library/Frameworks/Python.framework/Versions/3.10/lib/python3.10/site-packages (from -r ../../requirements.txt (line 7)) (1.0.3.5)\n",
      "Requirement already satisfied: onnx in /Library/Frameworks/Python.framework/Versions/3.10/lib/python3.10/site-packages (from -r ../../requirements.txt (line 8)) (1.15.0)\n",
      "Requirement already satisfied: fsspec in /Library/Frameworks/Python.framework/Versions/3.10/lib/python3.10/site-packages (from torch->-r ../../requirements.txt (line 2)) (2023.10.0)\n",
      "Requirement already satisfied: typing-extensions in /Library/Frameworks/Python.framework/Versions/3.10/lib/python3.10/site-packages (from torch->-r ../../requirements.txt (line 2)) (4.8.0)\n",
      "Requirement already satisfied: sympy in /Library/Frameworks/Python.framework/Versions/3.10/lib/python3.10/site-packages (from torch->-r ../../requirements.txt (line 2)) (1.12)\n",
      "Requirement already satisfied: jinja2 in /Library/Frameworks/Python.framework/Versions/3.10/lib/python3.10/site-packages (from torch->-r ../../requirements.txt (line 2)) (3.1.2)\n",
      "Requirement already satisfied: filelock in /Library/Frameworks/Python.framework/Versions/3.10/lib/python3.10/site-packages (from torch->-r ../../requirements.txt (line 2)) (3.13.1)\n",
      "Requirement already satisfied: networkx in /Library/Frameworks/Python.framework/Versions/3.10/lib/python3.10/site-packages (from torch->-r ../../requirements.txt (line 2)) (3.2.1)\n",
      "Requirement already satisfied: charset-normalizer<4,>=2 in /Library/Frameworks/Python.framework/Versions/3.10/lib/python3.10/site-packages (from requests->-r ../../requirements.txt (line 3)) (3.3.2)\n",
      "Requirement already satisfied: certifi>=2017.4.17 in /Library/Frameworks/Python.framework/Versions/3.10/lib/python3.10/site-packages (from requests->-r ../../requirements.txt (line 3)) (2023.11.17)\n",
      "Requirement already satisfied: urllib3<3,>=1.21.1 in /Library/Frameworks/Python.framework/Versions/3.10/lib/python3.10/site-packages (from requests->-r ../../requirements.txt (line 3)) (2.1.0)\n",
      "Requirement already satisfied: idna<4,>=2.5 in /Library/Frameworks/Python.framework/Versions/3.10/lib/python3.10/site-packages (from requests->-r ../../requirements.txt (line 3)) (3.6)\n",
      "Requirement already satisfied: packaging>=20.0 in /Users/jernkun/Library/Python/3.10/lib/python/site-packages (from matplotlib->-r ../../requirements.txt (line 6)) (23.2)\n",
      "Requirement already satisfied: cycler>=0.10 in /Library/Frameworks/Python.framework/Versions/3.10/lib/python3.10/site-packages (from matplotlib->-r ../../requirements.txt (line 6)) (0.12.1)\n",
      "Requirement already satisfied: contourpy>=1.0.1 in /Library/Frameworks/Python.framework/Versions/3.10/lib/python3.10/site-packages (from matplotlib->-r ../../requirements.txt (line 6)) (1.2.0)\n",
      "Requirement already satisfied: pillow>=8 in /Library/Frameworks/Python.framework/Versions/3.10/lib/python3.10/site-packages (from matplotlib->-r ../../requirements.txt (line 6)) (10.1.0)\n",
      "Requirement already satisfied: pyparsing>=2.3.1 in /Library/Frameworks/Python.framework/Versions/3.10/lib/python3.10/site-packages (from matplotlib->-r ../../requirements.txt (line 6)) (3.1.1)\n",
      "Requirement already satisfied: python-dateutil>=2.7 in /Users/jernkun/Library/Python/3.10/lib/python/site-packages (from matplotlib->-r ../../requirements.txt (line 6)) (2.8.2)\n",
      "Requirement already satisfied: kiwisolver>=1.3.1 in /Library/Frameworks/Python.framework/Versions/3.10/lib/python3.10/site-packages (from matplotlib->-r ../../requirements.txt (line 6)) (1.4.5)\n",
      "Requirement already satisfied: fonttools>=4.22.0 in /Library/Frameworks/Python.framework/Versions/3.10/lib/python3.10/site-packages (from matplotlib->-r ../../requirements.txt (line 6)) (4.45.1)\n",
      "Requirement already satisfied: docutils>=0.3 in /Library/Frameworks/Python.framework/Versions/3.10/lib/python3.10/site-packages (from statistics->-r ../../requirements.txt (line 7)) (0.20.1)\n",
      "Requirement already satisfied: protobuf>=3.20.2 in /Library/Frameworks/Python.framework/Versions/3.10/lib/python3.10/site-packages (from onnx->-r ../../requirements.txt (line 8)) (4.25.1)\n",
      "Requirement already satisfied: six>=1.5 in /Users/jernkun/Library/Python/3.10/lib/python/site-packages (from python-dateutil>=2.7->matplotlib->-r ../../requirements.txt (line 6)) (1.16.0)\n",
      "Requirement already satisfied: MarkupSafe>=2.0 in /Library/Frameworks/Python.framework/Versions/3.10/lib/python3.10/site-packages (from jinja2->torch->-r ../../requirements.txt (line 2)) (2.1.3)\n",
      "Requirement already satisfied: mpmath>=0.19 in /Library/Frameworks/Python.framework/Versions/3.10/lib/python3.10/site-packages (from sympy->torch->-r ../../requirements.txt (line 2)) (1.3.0)\n",
      "\u001b[33mWARNING: You are using pip version 21.2.3; however, version 23.3.2 is available.\n",
      "You should consider upgrading via the '/usr/local/bin/python3 -m pip install --upgrade pip' command.\u001b[0m\n",
      "Note: you may need to restart the kernel to use updated packages.\n"
     ]
    }
   ],
   "source": [
    "pip install -r ../../requirements.txt"
   ]
  },
  {
   "cell_type": "code",
   "execution_count": 168,
   "metadata": {},
   "outputs": [],
   "source": [
    "import ezkl\n",
    "import torch\n",
    "from torch import nn\n",
    "import json\n",
    "import os\n",
    "import time\n",
    "import scipy\n",
    "import numpy as np\n",
    "import matplotlib.pyplot as plt\n",
    "import statistics\n",
    "import math"
   ]
  },
  {
   "cell_type": "code",
   "execution_count": 198,
   "metadata": {},
   "outputs": [],
   "source": [
    "%run -i ../core_onefile.py"
   ]
  },
  {
   "cell_type": "code",
   "execution_count": 199,
   "metadata": {},
   "outputs": [],
   "source": [
    "# init path\n",
    "os.makedirs(os.path.dirname('shared/'), exist_ok=True)\n",
    "os.makedirs(os.path.dirname('prover/'), exist_ok=True)\n",
    "verifier_model_path = os.path.join('shared/verifier.onnx')\n",
    "prover_model_path = os.path.join('prover/prover.onnx')\n",
    "verifier_compiled_model_path = os.path.join('shared/verifier.compiled')\n",
    "prover_compiled_model_path = os.path.join('prover/prover.compiled')\n",
    "pk_path = os.path.join('shared/test.pk')\n",
    "vk_path = os.path.join('shared/test.vk')\n",
    "proof_path = os.path.join('shared/test.pf')\n",
    "settings_path = os.path.join('shared/settings.json')\n",
    "srs_path = os.path.join('shared/kzg.srs')\n",
    "witness_path = os.path.join('prover/witness.json')\n",
    "# this is private to prover since it contains actual data\n",
    "sel_data_path = os.path.join('prover/sel_data.json')\n",
    "sel_dummy_data_path = os.path.join('shared/sel_dummy_data.json')"
   ]
  },
  {
   "attachments": {},
   "cell_type": "markdown",
   "metadata": {},
   "source": [
    "=======================  ZK-STATS FLOW ======================="
   ]
  },
  {
   "cell_type": "code",
   "execution_count": 200,
   "metadata": {},
   "outputs": [
    {
     "name": "stdout",
     "output_type": "stream",
     "text": [
      "{'x1': [7.1, 3.2, 8.6, 3.5, 0.1, 9.7, 2.3, 5.7, 2.8, 10.0, 6.0, 6.0, 9.1, 1.7, 9.2, 0.2, 7.8, 3.7, 7.0, 2.5, 2.8, 5.9, 7.3, 2.9, 2.9, 3.5, 1.0, 9.7, 4.8, 0.9, 7.1, 3.6, 8.2, 3.0, 7.6, 4.2, 5.2, 8.1, 6.3, 9.3, 8.8, 8.2, 6.7, 4.9, 5.4, 9.8, 5.9, 7.1, 3.9, 9.3], 'x2': [1.1, 0.2, 0.2, 0.9, 1.3, 0.3, 2.4, 2.2, 3.0, 0.7, 0.3, 2.2, 4.6, 4.6, 1.5, 2.5, 1.0, 4.8, 5.0, 3.1, 1.1, 0.6, 3.7, 3.9, 1.9, 3.7, 2.3, 2.2, 3.5, 4.4, 0.0, 0.2, 4.4, 3.4, 2.9, 0.4, 4.0, 1.2, 3.0, 0.1, 4.7, 1.5, 3.2, 2.7, 4.1, 1.5, 2.1, 0.4, 4.3, 0.2], 'y': [18.5, 5.5, 18.2, 9.0, 4.0, 19.5, 11.7, 17.9, 15.3, 20.8, 12.5, 21.5, 32.5, 18.6, 23.9, 7.0, 16.9, 22.9, 31.0, 15.0, 8.5, 8.7, 28.9, 19.7, 12.5, 17.4, 7.2, 25.5, 21.4, 15.7, 15.5, 8.2, 28.2, 19.5, 25.5, 12.5, 20.3, 21.7, 22.1, 19.6, 32.2, 22.4, 20.6, 19.7, 20.8, 21.1, 21.8, 17.7, 21.1, 19.4]}\n",
      "reg fit:  [1.98835287 3.14238058 0.06413647]\n"
     ]
    }
   ],
   "source": [
    "table_path = os.path.join('table.json')\n",
    "dummy_table_path = os.path.join('shared/dummy_table.json')\n",
    "\n",
    "def createDummy(table_path, dummy_table_path):\n",
    "    table_data = json.loads(open(table_path, \"r\").read())\n",
    "    # assume all columns have same number of rows\n",
    "    dummy_table_data ={}\n",
    "    for col in table_data:\n",
    "        # not use same value for every column to prevent something weird, like singular matrix\n",
    "        dummy_table_data[col] = np.round(np.random.uniform(1,10,len(table_data[col])),1).tolist()\n",
    "    \n",
    "    json.dump(dummy_table_data, open(dummy_table_path, 'w'))\n",
    "\n",
    "\n",
    "table_data = json.loads(open(table_path, \"r\").read())\n",
    "print(table_data)\n",
    "x1_vals = table_data['x1']\n",
    "x2_vals = table_data['x2']\n",
    "y_vals = table_data['y']\n",
    "createDummy(table_path, dummy_table_path)\n",
    "dummy_table_data = json.loads(open(dummy_table_path, \"r\").read())\n",
    "dummy_x1_vals = dummy_table_data['x1']\n",
    "dummy_x2_vals = dummy_table_data['x2']\n",
    "dummy_y_vals = dummy_table_data['y']\n",
    "\n",
    "\n",
    "def stacked_x(*args):\n",
    "    result = np.column_stack((*args, np.ones_like(args[0])))\n",
    "    return result\n",
    "\n",
    "x_one = stacked_x(x1_vals, x2_vals)\n",
    "dummy_x_one = stacked_x(dummy_x1_vals, dummy_x2_vals)\n",
    "\n",
    "w_vals = np.matmul(np.matmul(np.linalg.inv(np.matmul(x_one.transpose(), x_one)), x_one.transpose()), y_vals)\n",
    "dummy_w_vals = np.matmul(np.matmul(np.linalg.inv(np.matmul(dummy_x_one.transpose(), dummy_x_one)), dummy_x_one.transpose()), dummy_y_vals)\n",
    "\n",
    "print(\"reg fit: \", w_vals)\n",
    "w_tensor = torch.tensor(w_vals).reshape(1,-1,1)\n",
    "dummy_w_tensor = torch.tensor(dummy_w_vals).reshape(1,-1,1)\n"
   ]
  },
  {
   "cell_type": "code",
   "execution_count": 201,
   "metadata": {},
   "outputs": [],
   "source": [
    "# Verifier/ data consumer side:\n",
    "class verifier_model(nn.Module):\n",
    "    def __init__(self):\n",
    "        super(verifier_model, self).__init__()\n",
    "        self.w = nn.Parameter(data = dummy_w_tensor, requires_grad = False)\n",
    "\n",
    "    def forward(self, *args):\n",
    "        # infer Y from the last parameter\n",
    "        Y = args[-1]\n",
    "        X_one = torch.cat((*args[:-1], torch.ones_like(args[0][:, :, -1:])), dim=2)\n",
    "        X_T = torch.transpose(X_one, 1, 2)\n",
    "        return (\n",
    "            torch.sum(torch.abs(X_T @ X_one @ self.w - X_T @ Y)) <= 0.01 * torch.sum(torch.abs(X_T @ Y)),\n",
    "            self.w\n",
    "        )\n",
    "    \n",
    "\n",
    "verifier_define_calculation(dummy_table_path, ['x1','x2','y'],sel_dummy_data_path,verifier_model, verifier_model_path)"
   ]
  },
  {
   "cell_type": "code",
   "execution_count": 202,
   "metadata": {},
   "outputs": [
    {
     "name": "stdout",
     "output_type": "stream",
     "text": [
      "Theory output:  tensor([[[1.9884],\n",
      "         [3.1424],\n",
      "         [0.0641]]], dtype=torch.float64)\n",
      "==== Generate & Calibrate Setting ====\n",
      "scale:  [0]\n",
      "setting:  {\"run_args\":{\"tolerance\":{\"val\":0.0,\"scale\":1.0},\"input_scale\":0,\"param_scale\":0,\"scale_rebase_multiplier\":10,\"lookup_range\":[-23296,18300],\"logrows\":16,\"num_inner_cols\":2,\"variables\":[[\"batch_size\",1]],\"input_visibility\":{\"Hashed\":{\"hash_is_public\":true,\"outlets\":[]}},\"output_visibility\":\"Public\",\"param_visibility\":\"Private\"},\"num_rows\":11808,\"total_assignments\":794,\"total_const_size\":13,\"model_instance_shapes\":[[1],[1,3,1]],\"model_output_scales\":[0,0],\"model_input_scales\":[0,0,0],\"module_sizes\":{\"kzg\":[],\"poseidon\":[11808,[3]],\"elgamal\":[0,[0]]},\"required_lookups\":[\"Abs\",{\"Div\":{\"denom\":100.0}},{\"GreaterThan\":{\"a\":0.0}}],\"check_mode\":\"UNSAFE\",\"version\":\"7.0.0\",\"num_blinding_factors\":null}\n"
     ]
    }
   ],
   "source": [
    "# prover calculates settings, send to verifier\n",
    "\n",
    "theory_output = w_tensor\n",
    "print(\"Theory output: \", theory_output)\n",
    "class prover_model(nn.Module):\n",
    "    def __init__(self):\n",
    "        super(prover_model, self).__init__()\n",
    "        self.w = nn.Parameter(data = w_tensor, requires_grad = False)\n",
    "\n",
    "    def forward(self, *args):\n",
    "        # infer Y from the last parameter\n",
    "        Y = args[-1]\n",
    "        X_one = torch.cat((*args[:-1], torch.ones_like(args[0][:, :, -1:])), dim=2)\n",
    "        X_T = torch.transpose(X_one, 1, 2)\n",
    "        return (\n",
    "            torch.sum(torch.abs(X_T @ X_one @ self.w - X_T @ Y)) <= 0.01 * torch.sum(torch.abs(X_T @ Y)),\n",
    "            self.w\n",
    "        )\n",
    "# try scale = [3] for more accuracy\n",
    "prover_gen_settings(table_path,['x1','x2','y'], sel_data_path, prover_model,prover_model_path, [0], \"resources\", settings_path)"
   ]
  },
  {
   "cell_type": "code",
   "execution_count": 203,
   "metadata": {},
   "outputs": [
    {
     "name": "stderr",
     "output_type": "stream",
     "text": [
      "spawning module 0\n",
      "spawning module 2\n"
     ]
    },
    {
     "name": "stdout",
     "output_type": "stream",
     "text": [
      "==== setting up ezkl ====\n"
     ]
    },
    {
     "name": "stderr",
     "output_type": "stream",
     "text": [
      "spawning module 0\n",
      "spawning module 2\n"
     ]
    },
    {
     "name": "stdout",
     "output_type": "stream",
     "text": [
      "Time setup: 6.9944376945495605 seconds\n",
      "=======================================\n",
      "Theory output:  tensor([[[1.9884],\n",
      "         [3.1424],\n",
      "         [0.0641]]], dtype=torch.float64)\n",
      "!@# compiled_model exists? False\n",
      "!@# compiled_model exists? True\n",
      "==== Generating Witness ====\n",
      "witness boolean:  1.0\n",
      "witness result 1 : 2.0\n",
      "witness result 2 : 3.0\n",
      "witness result 3 : 0.0\n",
      "==== Generating Proof ====\n"
     ]
    },
    {
     "name": "stderr",
     "output_type": "stream",
     "text": [
      "spawning module 0\n",
      "spawning module 2\n"
     ]
    },
    {
     "name": "stdout",
     "output_type": "stream",
     "text": [
      "proof:  {'instances': [[[6145674602038562713, 11796601694033167407, 3132644448460071153, 1431119980703310933], [17187590983289934876, 11857991285122296962, 971807162298867662, 379283799527326290], [3957842973089931008, 9845595232537184463, 786695466761881781, 2995319695946854765], [12436184717236109307, 3962172157175319849, 7381016538464732718, 1011752739694698287], [6425625360762666998, 7924344314350639699, 14762033076929465436, 2023505479389396574], [415066004289224689, 11886516471525959549, 3696305541684646538, 3035258219084094862], [0, 0, 0, 0]]], 'proof': '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', 'transcript_type': 'EVM'}\n",
      "Time gen prf: 10.229664087295532 seconds\n"
     ]
    }
   ],
   "source": [
    "# Here verifier & prover can concurrently call setup since all params are public to get pk. \n",
    "# Here write as verifier function to emphasize that verifier must calculate its own vk to be sure\n",
    "verifier_setup(verifier_model_path, verifier_compiled_model_path, settings_path,vk_path, pk_path )\n",
    "\n",
    "print(\"=======================================\")\n",
    "# Prover generates proof\n",
    "print(\"Theory output: \", theory_output)\n",
    "prover_gen_proof(prover_model_path, sel_data_path, witness_path, prover_compiled_model_path, settings_path, proof_path, pk_path)"
   ]
  },
  {
   "cell_type": "code",
   "execution_count": 204,
   "metadata": {},
   "outputs": [
    {
     "name": "stdout",
     "output_type": "stream",
     "text": [
      "num_inputs:  3\n",
      "prf instances:  [[[6145674602038562713, 11796601694033167407, 3132644448460071153, 1431119980703310933], [17187590983289934876, 11857991285122296962, 971807162298867662, 379283799527326290], [3957842973089931008, 9845595232537184463, 786695466761881781, 2995319695946854765], [12436184717236109307, 3962172157175319849, 7381016538464732718, 1011752739694698287], [6425625360762666998, 7924344314350639699, 14762033076929465436, 2023505479389396574], [415066004289224689, 11886516471525959549, 3696305541684646538, 3035258219084094862], [0, 0, 0, 0]]]\n",
      "proof boolean:  1.0\n",
      "proof result 1 : 2.0\n",
      "proof result 2 : 3.0\n",
      "proof result 3 : 0.0\n",
      "verified\n"
     ]
    }
   ],
   "source": [
    "verifier_verify(proof_path, settings_path, vk_path)"
   ]
  },
  {
   "cell_type": "code",
   "execution_count": null,
   "metadata": {},
   "outputs": [],
   "source": []
  }
 ],
 "metadata": {
  "kernelspec": {
   "display_name": "Python 3",
   "language": "python",
   "name": "python3"
  },
  "language_info": {
   "codemirror_mode": {
    "name": "ipython",
    "version": 3
   },
   "file_extension": ".py",
   "mimetype": "text/x-python",
   "name": "python",
   "nbconvert_exporter": "python",
   "pygments_lexer": "ipython3",
   "version": "3.10.0"
  },
  "orig_nbformat": 4
 },
 "nbformat": 4,
 "nbformat_minor": 2
}
