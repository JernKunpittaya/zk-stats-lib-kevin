{
 "cells": [
  {
   "cell_type": "code",
   "execution_count": 1,
   "metadata": {},
   "outputs": [
    {
     "name": "stdout",
     "output_type": "stream",
     "text": [
      "Requirement already satisfied: ezkl==5.4.2 in /Library/Frameworks/Python.framework/Versions/3.10/lib/python3.10/site-packages (from -r ../../requirements.txt (line 1)) (5.4.2)\n",
      "Requirement already satisfied: torch in /Library/Frameworks/Python.framework/Versions/3.10/lib/python3.10/site-packages (from -r ../../requirements.txt (line 2)) (2.1.1)\n",
      "Requirement already satisfied: requests in /Library/Frameworks/Python.framework/Versions/3.10/lib/python3.10/site-packages (from -r ../../requirements.txt (line 3)) (2.31.0)\n",
      "Requirement already satisfied: scipy in /Library/Frameworks/Python.framework/Versions/3.10/lib/python3.10/site-packages (from -r ../../requirements.txt (line 4)) (1.11.4)\n",
      "Requirement already satisfied: numpy in /Library/Frameworks/Python.framework/Versions/3.10/lib/python3.10/site-packages (from -r ../../requirements.txt (line 5)) (1.26.2)\n",
      "Requirement already satisfied: matplotlib in /Library/Frameworks/Python.framework/Versions/3.10/lib/python3.10/site-packages (from -r ../../requirements.txt (line 6)) (3.8.2)\n",
      "Requirement already satisfied: statistics in /Library/Frameworks/Python.framework/Versions/3.10/lib/python3.10/site-packages (from -r ../../requirements.txt (line 7)) (1.0.3.5)\n",
      "Requirement already satisfied: onnx in /Library/Frameworks/Python.framework/Versions/3.10/lib/python3.10/site-packages (from -r ../../requirements.txt (line 8)) (1.15.0)\n",
      "Requirement already satisfied: typing-extensions in /Library/Frameworks/Python.framework/Versions/3.10/lib/python3.10/site-packages (from torch->-r ../../requirements.txt (line 2)) (4.8.0)\n",
      "Requirement already satisfied: filelock in /Library/Frameworks/Python.framework/Versions/3.10/lib/python3.10/site-packages (from torch->-r ../../requirements.txt (line 2)) (3.13.1)\n",
      "Requirement already satisfied: fsspec in /Library/Frameworks/Python.framework/Versions/3.10/lib/python3.10/site-packages (from torch->-r ../../requirements.txt (line 2)) (2023.10.0)\n",
      "Requirement already satisfied: networkx in /Library/Frameworks/Python.framework/Versions/3.10/lib/python3.10/site-packages (from torch->-r ../../requirements.txt (line 2)) (3.2.1)\n",
      "Requirement already satisfied: sympy in /Library/Frameworks/Python.framework/Versions/3.10/lib/python3.10/site-packages (from torch->-r ../../requirements.txt (line 2)) (1.12)\n",
      "Requirement already satisfied: jinja2 in /Library/Frameworks/Python.framework/Versions/3.10/lib/python3.10/site-packages (from torch->-r ../../requirements.txt (line 2)) (3.1.2)\n",
      "Requirement already satisfied: charset-normalizer<4,>=2 in /Library/Frameworks/Python.framework/Versions/3.10/lib/python3.10/site-packages (from requests->-r ../../requirements.txt (line 3)) (3.3.2)\n",
      "Requirement already satisfied: idna<4,>=2.5 in /Library/Frameworks/Python.framework/Versions/3.10/lib/python3.10/site-packages (from requests->-r ../../requirements.txt (line 3)) (3.6)\n",
      "Requirement already satisfied: certifi>=2017.4.17 in /Library/Frameworks/Python.framework/Versions/3.10/lib/python3.10/site-packages (from requests->-r ../../requirements.txt (line 3)) (2023.11.17)\n",
      "Requirement already satisfied: urllib3<3,>=1.21.1 in /Library/Frameworks/Python.framework/Versions/3.10/lib/python3.10/site-packages (from requests->-r ../../requirements.txt (line 3)) (2.1.0)\n",
      "Requirement already satisfied: pyparsing>=2.3.1 in /Library/Frameworks/Python.framework/Versions/3.10/lib/python3.10/site-packages (from matplotlib->-r ../../requirements.txt (line 6)) (3.1.1)\n",
      "Requirement already satisfied: contourpy>=1.0.1 in /Library/Frameworks/Python.framework/Versions/3.10/lib/python3.10/site-packages (from matplotlib->-r ../../requirements.txt (line 6)) (1.2.0)\n",
      "Requirement already satisfied: cycler>=0.10 in /Library/Frameworks/Python.framework/Versions/3.10/lib/python3.10/site-packages (from matplotlib->-r ../../requirements.txt (line 6)) (0.12.1)\n",
      "Requirement already satisfied: pillow>=8 in /Library/Frameworks/Python.framework/Versions/3.10/lib/python3.10/site-packages (from matplotlib->-r ../../requirements.txt (line 6)) (10.1.0)\n",
      "Requirement already satisfied: kiwisolver>=1.3.1 in /Library/Frameworks/Python.framework/Versions/3.10/lib/python3.10/site-packages (from matplotlib->-r ../../requirements.txt (line 6)) (1.4.5)\n",
      "Requirement already satisfied: packaging>=20.0 in /Users/jernkun/Library/Python/3.10/lib/python/site-packages (from matplotlib->-r ../../requirements.txt (line 6)) (23.2)\n",
      "Requirement already satisfied: python-dateutil>=2.7 in /Users/jernkun/Library/Python/3.10/lib/python/site-packages (from matplotlib->-r ../../requirements.txt (line 6)) (2.8.2)\n",
      "Requirement already satisfied: fonttools>=4.22.0 in /Library/Frameworks/Python.framework/Versions/3.10/lib/python3.10/site-packages (from matplotlib->-r ../../requirements.txt (line 6)) (4.45.1)\n",
      "Requirement already satisfied: docutils>=0.3 in /Library/Frameworks/Python.framework/Versions/3.10/lib/python3.10/site-packages (from statistics->-r ../../requirements.txt (line 7)) (0.20.1)\n",
      "Requirement already satisfied: protobuf>=3.20.2 in /Library/Frameworks/Python.framework/Versions/3.10/lib/python3.10/site-packages (from onnx->-r ../../requirements.txt (line 8)) (4.25.1)\n",
      "Requirement already satisfied: six>=1.5 in /Users/jernkun/Library/Python/3.10/lib/python/site-packages (from python-dateutil>=2.7->matplotlib->-r ../../requirements.txt (line 6)) (1.16.0)\n",
      "Requirement already satisfied: MarkupSafe>=2.0 in /Library/Frameworks/Python.framework/Versions/3.10/lib/python3.10/site-packages (from jinja2->torch->-r ../../requirements.txt (line 2)) (2.1.3)\n",
      "Requirement already satisfied: mpmath>=0.19 in /Library/Frameworks/Python.framework/Versions/3.10/lib/python3.10/site-packages (from sympy->torch->-r ../../requirements.txt (line 2)) (1.3.0)\n",
      "\u001b[33mWARNING: You are using pip version 21.2.3; however, version 23.3.1 is available.\n",
      "You should consider upgrading via the '/usr/local/bin/python3 -m pip install --upgrade pip' command.\u001b[0m\n",
      "Note: you may need to restart the kernel to use updated packages.\n"
     ]
    }
   ],
   "source": [
    "pip install -r ../../requirements.txt"
   ]
  },
  {
   "cell_type": "code",
   "execution_count": 39,
   "metadata": {},
   "outputs": [],
   "source": [
    "import ezkl\n",
    "import torch\n",
    "from torch import nn\n",
    "import json\n",
    "import os\n",
    "import time\n",
    "import scipy\n",
    "import numpy as np\n",
    "import matplotlib.pyplot as plt\n",
    "import statistics\n",
    "import math"
   ]
  },
  {
   "cell_type": "code",
   "execution_count": 40,
   "metadata": {},
   "outputs": [],
   "source": [
    "%run -i ../../core.py"
   ]
  },
  {
   "attachments": {},
   "cell_type": "markdown",
   "metadata": {},
   "source": []
  },
  {
   "cell_type": "code",
   "execution_count": 41,
   "metadata": {},
   "outputs": [],
   "source": [
    "# init path\n",
    "os.makedirs(os.path.dirname('shared/'), exist_ok=True)\n",
    "os.makedirs(os.path.dirname('prover/'), exist_ok=True)\n",
    "verifier_model_path = os.path.join('shared/verifier.onnx')\n",
    "prover_model_path = os.path.join('prover/prover.onnx')\n",
    "verifier_compiled_model_path = os.path.join('shared/verifier.compiled')\n",
    "prover_compiled_model_path = os.path.join('prover/prover.compiled')\n",
    "pk_path = os.path.join('shared/test.pk')\n",
    "vk_path = os.path.join('shared/test.vk')\n",
    "proof_path = os.path.join('shared/test.pf')\n",
    "settings_path = os.path.join('shared/settings.json')\n",
    "srs_path = os.path.join('shared/kzg.srs')\n",
    "witness_path = os.path.join('prover/witness.json')\n",
    "# this is private to prover since it contains actual data\n",
    "comb_data_path = os.path.join('prover/comb_data.json')"
   ]
  },
  {
   "attachments": {},
   "cell_type": "markdown",
   "metadata": {},
   "source": [
    "=======================  ZK-STATS FLOW ======================="
   ]
  },
  {
   "cell_type": "code",
   "execution_count": 42,
   "metadata": {},
   "outputs": [],
   "source": [
    "data_path = os.path.join('data.json')\n",
    "dummy_data_path = os.path.join('shared/dummy_data.json')\n",
    "\n",
    "f_raw_input = open(data_path, \"r\")\n",
    "data = json.loads(f_raw_input.read())[\"input_data\"][0]\n",
    "data_tensor = torch.reshape(torch.tensor(data),(1, len(data), 1))\n",
    "\n",
    "dummy_data = np.round(np.random.uniform(1,10,len(data)),1)\n",
    "json.dump({\"input_data\":[dummy_data.tolist()]}, open(dummy_data_path, 'w'))\n",
    "\n",
    "dummy_data_tensor = torch.reshape(torch.tensor(dummy_data), (1, len(dummy_data),1 ))\n",
    "dummy_theory_output = torch.mean(dummy_data_tensor)\n",
    "\n"
   ]
  },
  {
   "cell_type": "code",
   "execution_count": 43,
   "metadata": {},
   "outputs": [
    {
     "name": "stderr",
     "output_type": "stream",
     "text": [
      "/var/folders/89/y9dw12v976ngdmqz4l7wbsnr0000gn/T/ipykernel_60428/1451395984.py:8: TracerWarning: torch.tensor results are registered as constants in the trace. You can safely ignore this warning if you use this function to create tensors out of constant variables that would be the same every time you call this function. In any other case, this might cause the trace to be incorrect.\n",
      "  return (torch.tensor(1), torch.mean(X))\n"
     ]
    }
   ],
   "source": [
    "# Verifier/ data consumer side: send desired calculation\n",
    "class verifier_model(nn.Module):\n",
    "    def __init__(self):\n",
    "        super(verifier_model, self).__init__()\n",
    "        # self.w = nn.Parameter(data = dummy_theory_output, requires_grad = False)\n",
    "\n",
    "    def forward(self,X):\n",
    "        return (torch.tensor(1), torch.mean(X))\n",
    "        # return (torch.abs(torch.sum(X)-X.size()[1]*(self.w))<=torch.abs(0.01*X.size()[1]*self.w), self.w)\n",
    "    \n",
    "verifier_define_calculation(verifier_model, verifier_model_path, [dummy_data_path])"
   ]
  },
  {
   "cell_type": "code",
   "execution_count": 44,
   "metadata": {},
   "outputs": [
    {
     "name": "stdout",
     "output_type": "stream",
     "text": [
      "Theory_output:  tensor(49.9700)\n",
      "==== Generate & Calibrate Setting ====\n",
      "scale:  [15]\n",
      "setting:  {\"run_args\":{\"tolerance\":{\"val\":0.0,\"scale\":1.0},\"input_scale\":15,\"param_scale\":15,\"scale_rebase_multiplier\":10,\"lookup_range\":[0,600],\"logrows\":14,\"num_inner_cols\":2,\"variables\":[[\"batch_size\",1]],\"input_visibility\":{\"Hashed\":{\"hash_is_public\":true,\"outlets\":[]}},\"output_visibility\":\"Public\",\"param_visibility\":\"Private\"},\"num_rows\":14432,\"total_assignments\":604,\"total_const_size\":0,\"model_instance_shapes\":[[1],[1]],\"model_output_scales\":[0,30],\"model_input_scales\":[15],\"module_sizes\":{\"kzg\":[],\"poseidon\":[14432,[1]],\"elgamal\":[0,[0]]},\"required_lookups\":[{\"Recip\":{\"scale\":32768.0}}],\"check_mode\":\"UNSAFE\",\"version\":\"5.4.2\",\"num_blinding_factors\":null}\n"
     ]
    },
    {
     "name": "stderr",
     "output_type": "stream",
     "text": [
      "/var/folders/89/y9dw12v976ngdmqz4l7wbsnr0000gn/T/ipykernel_60428/1057230449.py:11: TracerWarning: torch.tensor results are registered as constants in the trace. You can safely ignore this warning if you use this function to create tensors out of constant variables that would be the same every time you call this function. In any other case, this might cause the trace to be incorrect.\n",
      "  return (torch.tensor(1),torch.mean(X))\n"
     ]
    }
   ],
   "source": [
    "# prover calculates settings, send to verifier\n",
    "# In linearity, scale doesnt affect lookup size\n",
    "theory_output = torch.mean(data_tensor)\n",
    "print(\"Theory_output: \", theory_output)\n",
    "class prover_model(nn.Module):\n",
    "    def __init__(self):\n",
    "        super(prover_model, self).__init__()\n",
    "        # self.w = nn.Parameter(data = theory_output, requires_grad = False)\n",
    "\n",
    "    def forward(self,X):\n",
    "        return (torch.tensor(1),torch.mean(X))\n",
    "        # return (torch.abs(torch.sum(X)-X.size()[1]*(self.w))<=torch.abs(0.01*X.size()[1]*self.w), self.w)\n",
    "prover_gen_settings([data_path], comb_data_path, prover_model,prover_model_path, [15], \"resources\", settings_path)"
   ]
  },
  {
   "cell_type": "code",
   "execution_count": 45,
   "metadata": {},
   "outputs": [
    {
     "name": "stderr",
     "output_type": "stream",
     "text": [
      "spawning module 0\n",
      "spawning module 2\n"
     ]
    },
    {
     "name": "stdout",
     "output_type": "stream",
     "text": [
      "==== setting up ezkl ====\n"
     ]
    },
    {
     "name": "stderr",
     "output_type": "stream",
     "text": [
      "spawning module 0\n",
      "spawning module 2\n",
      "spawning module 0\n"
     ]
    },
    {
     "name": "stdout",
     "output_type": "stream",
     "text": [
      "Time setup: 1.5255029201507568 seconds\n",
      "=======================================\n",
      "Theory output:  tensor(49.9700)\n",
      "==== Generating Witness ====\n",
      "witness boolean:  1.0\n",
      "witness result 1 : 49.866302490234375\n",
      "==== Generating Proof ====\n"
     ]
    },
    {
     "name": "stderr",
     "output_type": "stream",
     "text": [
      "spawning module 2\n"
     ]
    },
    {
     "name": "stdout",
     "output_type": "stream",
     "text": [
      "proof:  {'instances': [[[3148702633260319778, 12567662588507959291, 5496310355884410072, 3006741169691532095], [12436184717236109307, 3962172157175319849, 7381016538464732718, 1011752739694698287], [17482780814609032706, 7615535357985293566, 4755406845152436647, 3486774616844464877]]], 'proof': '1b11774a10b3e71bc1e36b4a59598066258b49ef32a8a64ea45bbd53d1fe9710196262993e549845664d9d3b76b4f0de7d204357b6b0e93e04ff6bc227a9959d06a2f8bacdd7671f8e53420f8d3f77830ee2ac1ebc12b887f1c36b55e486a44720161344743abe7efb74492000045d82e269dee03bcab6b30f9e1290f523a96b20a74c4256c0c1a72858993ec8d0c8cfacc1bb339b52502b2961ca6b1f50bec720b53c0f957939a52713f8898f28fc790281f36bff9a206819a0b52d5f66c8eb2e7ec9a0adea38f83468e6c68d37648eec29a76160d7f093a3cb7cd75f487f661a7f3058bca8665787b88108c5ac1dcac0f2d7c3c74774168376f63bd81df5dd18ea93cb121119112fd7083b5bc206d4c45ebb6e3b99a5f6bfa9458a9c53367109afbf6d1fbabbf59e3f24170b6cecfd8117c9d8a953ec75d4174a2d3ad3e7ed08dbe31c561893cad5ad34bbd17ee556bf7127377fc64fa23d56bc1c7b7dd8a70405f2f7a92eb77d522b042bd438515baccefb6b33229a2dafcad283925366f4059b63239b2f0a5c57b6d77660e36858bbb2845311fdacfb96091e54b5ba276d2e8837e13d951f17848c952d8af3e2af8eed42d216ccc3ecef64adcd21ed7ef62654d6df3c40728715a29ee89d87f9b15e385cf8c9259fcca2049bda03591b4a1821d071d2ee2bc491bb5e58f1bb00ea30b1107fcd2f6d4621ea35241e63ad322ee85844156b627fde4a595b5feecd4bad7adc1d9e8fcdf840032356da53068307eb5079f550426872a9fe7748b71805686d4d79d3f975df5929e0a73f41d454105dade3188d564c2098eec6848b2bb72cc74b2de6f4966517af714da24f2cca2e415654867b72c619f9d6e70bfb58fccd62b25b201f8d4bff39a0921a024bf71eee509dac91bd3eb355bbfbbf9812596facec59cd3392a1bdc409e3205c799307d3a6bb0517184651920f826b8d340b1ef51c9c5bc423f874677f45cfd616a026637fcf5799fbe66cca979e6f94108bd6a2b6cf0fa8ab4f790f563bf0a4f48603c9884036e18ac3d8de64169d4d29baa5bf137ce8e706c12cea5111e22292a10d0cfc319778ff68282482e737c69d4915d7422ff21bb270acb8304c223177090481b041ec44b2bf0936650d514602bf7864b7bb69f19cd53fb3edaff816cafc2a35091347387670dc2da8110201f167533b69eb9b7146a308b2c8416186539a27d768f560ce746d5156fd53eaff87363ae8aeb83e5bd2bcd4bfa973b302693a277d64a82d7cca53daf0ae474c0fbaff4e3aa7a956c9680c768fa0697f63941d2f2ca9c756d7629c33663ce16ffba0bc57307057b0fd2ba440dbedb106da3fe02bbc497a5bc4f55d069c9352a3ead3a1195d6c63eeb02b22d4f05683ee99ace902ccd9b70622a215e4d5137e3351c44012d7fb3b52f57477c7c8540154241f3f0a0d75221c798b3d1184cca91b9d869b3123e71b238858cef0cd85cea7bef516285c1a27f73994c651b8132fcdc66b1cf64b0f054c458eca316c7089328a0df718c0d4238831cf467172ac2209151b57a49014073b293a0f3fcd5503756c630807401a6d9557511e899804314db45e426cac952cb841aa6ebd85dd8fdffe6f290c02788706fa9eb39cfb6da007df529b6b202f7b921a85b1f3e6094898d60e69106f04c95e0b2687cba7cd343d396cefd03e0027579eb4a4577fc5ab30d674772875c022fc03f2431ec1f64b8645694449ed326ebe8877605520d9b17d05cdf00e6e857e4259297ada845c9d361aac5c02c660d1c1979d332b0fe647ab848a36199484bce75d1e798270a83124e673cb6a6fcdb98c68c3049112ac43bc2f39232ad82c98c81fc657a20f3db7f31db9615b1c4fc02c95205768ff718a5d356fc212d8a4d0de8c1b664eff921380acf0f1f5edacbbd42f9796565e2785b4cf90912220f6cb7b5f9d1f59d69ab829278a44eb088934aaa96a22359853b8d6f85dd614d3b99b4f0d506e5151b291781c563318f83ca3f113879fa745310809ed46c611885e4b5cc82ff6b279ed93849342a0c156fae29f957e998e1c9fb4ef942f4b2f72724ef29802912eb5cc1d5648ba54e669b3c5efb55776197e379c61b0944322de5dc20a124ab994669dfd8bc387152c53d280728de2dcc31a6c4343caa57925c7289a0d56ffe9d4654a9c9932008e9cfbc4faf315d847e5dc5d27cb9619a4252681c88c73ee9e5c90c274e3339f17c42468b3b5f47c7fa9a5be421a2c35e517b7afb9a049d44093a3b817f2cc10c3b2ddb96416bdb840de242af6c7ef7242136bbc531b67b0ee6565bb07163bca83339bc54eb2468f66ae169e7138571f4802a0e6001795c95553beb88751ff34f9e9af3cec6d96801632c73547f25b4a421d90f59c800eef8d30a4408b14b610ae22dc565b0c3bc5af3da2059a1d5d781617f46e94873e83cfb74836b36a0f0f9c674fc86bd19a23f7a968a68ed7b23b340c92e8c7931537a874c1548de7b260be91084c988c40060b060c268526a79a9412bb5dfe2a65f72b20cc805561a0f9fb272509fd561ad735e4ff898b1ba40c83146bba7873aa2595a8de830be4e00f8a652f672120dd668b8fbff4ded0eb76532e516293c69db02ed96d499be4659a3ed3386cf81b87cc1e10d61caa2b97ef4104d59febc0f6b28ece56528ac38f2910478c770de2f4208108857bdd0045b10302c6b1128a17d686b1a285cabfbae10088cf7bef9ddcfa6c45ee2c5507c57ad40e036879220ac7cb92fe604014d7e87f119751e47cdef8b3aac5843ebcc9163913811b284fb6956841548fbcdcf53bec809a6ae34a540e9626613a520c5fb0ca268529e7980868aef10bf829e4a78dafc67d141f83d5460767e36e18357601820a8f3b3f4bce21bd2b5dee2e26cf2fb2a7ac8fed3e13af62b8d244cec9c5e11100000000000000000000000000000000000000000000000000000000000000000f4901582fe9fe3ee87a7e491c5c2af7f97c423b9faa8f77398e5737d860481b1af2db32eca2871399e63408f51288e1298c53d07c4d26bc1d1a6cd0594005bd25da27e55b619a927ddc069a5d05ab7fbbd599b90e822b717310c6a7db2f9a81145f121fb72acd047c99c4049a24257edb3aa1b77b0a1f444e7f5347bcad59071872cc67bdcb7c8977269f64d9889cd38ef23530936ab71f886844e82844b251000000000000000000000000000000000000000000000000000000000000000000000000000000000000000000000000000000000000000000000000000000001209100c8a903c0e9c329af34f25498ab88d060daa3ee726474af9e24b7f64cd1c232fd62db3e31ba4b39fa2a5b04d9192f549fcbdb06a659e62a45c800297d125af36cfbcb61467eec83bc7bfe12049113631ab894cf7b853f327fe2ec3838914da455fbb6aa578cbb607dd8c242a5fcb4679e6941331fd20177b296e49e763152011dc70e1f06d73602a0e6e19540bef08e1da7ff3ddaf225ca93c19e453cf15348e1b0166d7f6e6887ced920f3e3eab8d1892cb1a71df2d7445d818fbcda127039461da7c75c7720f715c7055c23642a89d0de77d3ef04038dbc4aa7cc6190779f99287f66009f37f4520ea2ed07bc19c2937e73a02ff67c967e99129fbe91648962bcfc5b72ecc1fdbdc4b66ba3110fed30d90677b38881d8f78abe589fb069e523f9b592f23f844d1a4a6836ccee80067c41c1488c93eeea1392c936ccb2520bd5874ea4c5efdc1512e19f4b4e8800e458cf4e71462783272c170b77992152057dc4b0ba1b3964b4a5c8dbeded68710114d0a7ae27ec53763e7d274077a2efe28c92460f8b20cff2965cae7a3f8618b1bfa7f7513e6d61286be80cada641be41018b2d731581aeedf6f4c740959eec6cf118811286be6491e1c79322674221daafde5b0a5da33c265d81fa20dc334ba9c3d4badd2202e0616870cc86ff72d9c483f5880c68a9cf93f4f16561af007f1b04d61499e76be3eb1c0c22ae3a41a8d4e08a8717855826fc819c992a0ea33e18d5f0a4e4b5c790968bddf8567b61e6adab1e6fdf3a177cd7039a0ee48955555160e06c43282fbaca5686b816efc04bd0076b2b7c7987a3915cb1c7bbac64710328e913f46cf5b4363a0768ad5051af675c2bee6d59f640fdf7c59abca4872cd0344a66a73565fe3c49b0b2e13831861a95662d1f53754e86ac6238d7ae8a166d5bc2ded86f644f3b9ecaca14b0b0b2efabc476b7810c960b089800d0f828e6bb884d7f73d439659ba376550549d2a29f822a0428d782104e4d882bfe9f80c2fcc3ea3085848e8a8b2769b6144a3179a0bf538417274be9d9f3a0aff8b97f463869dfa401166e274de3d5904959b29f6f205c17294455219f3e652f2ff592ce8807c27fe30dbab53793e9009c4da29789436607c8b4ad1012bc3b3b2235fc47acfc0b7dbc80f6f905e1f67b75e9f2a1991f25e5402def35f97b12222f7d71a2aea859d6add714fe9929724cda2c7209214e5d180060aae454887c94243416bad53787165b5438990816be947433b04e1fb327d7531d3cf1036ef6f3b5a2977e245971128ee9290129dfcd0a9f9dd108313e55846bc49a28207f5da165d550560e927b8a0a4c9befbc9864cff83ce2bdcf7be5261b22712d767571e64070ef15303ed124ea8e226949b8bae46a18113b58591e431b93ff971a8b6b9b31efe3bae73ba41e8c40b428cdeb69c95055f2867def5070f13c910066756a54c47aac468f16f7f460b54d265c156673a126a', 'transcript_type': 'EVM'}\n",
      "Time gen prf: 2.228740930557251 seconds\n"
     ]
    }
   ],
   "source": [
    "# Here verifier & prover can concurrently call setup since all params are public to get pk. \n",
    "# Here write as verifier function to emphasize that verifier must calculate its own vk to be sure\n",
    "verifier_setup(verifier_model_path, verifier_compiled_model_path, settings_path, srs_path,vk_path, pk_path )\n",
    "\n",
    "print(\"=======================================\")\n",
    "# Prover generates proof\n",
    "print(\"Theory output: \", theory_output)\n",
    "prover_gen_proof(prover_model_path, comb_data_path, witness_path, prover_compiled_model_path, settings_path, proof_path, pk_path, srs_path)"
   ]
  },
  {
   "cell_type": "code",
   "execution_count": 46,
   "metadata": {},
   "outputs": [
    {
     "name": "stdout",
     "output_type": "stream",
     "text": [
      "num_inputs:  1\n",
      "prf instances:  [[[3148702633260319778, 12567662588507959291, 5496310355884410072, 3006741169691532095], [12436184717236109307, 3962172157175319849, 7381016538464732718, 1011752739694698287], [17482780814609032706, 7615535357985293566, 4755406845152436647, 3486774616844464877]]]\n",
      "proof boolean:  1.0\n",
      "proof result 1 : 49.866302490234375\n",
      "verified\n"
     ]
    }
   ],
   "source": [
    "# Verifier verifies\n",
    "verifier_verify(proof_path, settings_path, vk_path, srs_path)"
   ]
  },
  {
   "cell_type": "code",
   "execution_count": null,
   "metadata": {},
   "outputs": [],
   "source": []
  }
 ],
 "metadata": {
  "kernelspec": {
   "display_name": "Python 3",
   "language": "python",
   "name": "python3"
  },
  "language_info": {
   "codemirror_mode": {
    "name": "ipython",
    "version": 3
   },
   "file_extension": ".py",
   "mimetype": "text/x-python",
   "name": "python",
   "nbconvert_exporter": "python",
   "pygments_lexer": "ipython3",
   "version": "3.10.0"
  },
  "orig_nbformat": 4
 },
 "nbformat": 4,
 "nbformat_minor": 2
}
