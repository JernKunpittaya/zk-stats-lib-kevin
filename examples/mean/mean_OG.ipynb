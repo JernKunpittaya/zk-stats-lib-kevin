{
 "cells": [
  {
   "cell_type": "code",
   "execution_count": 2,
   "metadata": {},
   "outputs": [
    {
     "name": "stdout",
     "output_type": "stream",
     "text": [
      "Requirement already satisfied: ezkl==7.0.0 in /Library/Frameworks/Python.framework/Versions/3.10/lib/python3.10/site-packages (from -r ../../requirements.txt (line 1)) (7.0.0)\n",
      "Requirement already satisfied: torch in /Library/Frameworks/Python.framework/Versions/3.10/lib/python3.10/site-packages (from -r ../../requirements.txt (line 2)) (2.1.1)\n",
      "Requirement already satisfied: requests in /Library/Frameworks/Python.framework/Versions/3.10/lib/python3.10/site-packages (from -r ../../requirements.txt (line 3)) (2.31.0)\n",
      "Requirement already satisfied: scipy in /Library/Frameworks/Python.framework/Versions/3.10/lib/python3.10/site-packages (from -r ../../requirements.txt (line 4)) (1.11.4)\n",
      "Requirement already satisfied: numpy in /Library/Frameworks/Python.framework/Versions/3.10/lib/python3.10/site-packages (from -r ../../requirements.txt (line 5)) (1.26.2)\n",
      "Requirement already satisfied: matplotlib in /Library/Frameworks/Python.framework/Versions/3.10/lib/python3.10/site-packages (from -r ../../requirements.txt (line 6)) (3.8.2)\n",
      "Requirement already satisfied: statistics in /Library/Frameworks/Python.framework/Versions/3.10/lib/python3.10/site-packages (from -r ../../requirements.txt (line 7)) (1.0.3.5)\n",
      "Requirement already satisfied: onnx in /Library/Frameworks/Python.framework/Versions/3.10/lib/python3.10/site-packages (from -r ../../requirements.txt (line 8)) (1.15.0)\n",
      "Requirement already satisfied: jinja2 in /Library/Frameworks/Python.framework/Versions/3.10/lib/python3.10/site-packages (from torch->-r ../../requirements.txt (line 2)) (3.1.2)\n",
      "Requirement already satisfied: filelock in /Library/Frameworks/Python.framework/Versions/3.10/lib/python3.10/site-packages (from torch->-r ../../requirements.txt (line 2)) (3.13.1)\n",
      "Requirement already satisfied: networkx in /Library/Frameworks/Python.framework/Versions/3.10/lib/python3.10/site-packages (from torch->-r ../../requirements.txt (line 2)) (3.2.1)\n",
      "Requirement already satisfied: typing-extensions in /Library/Frameworks/Python.framework/Versions/3.10/lib/python3.10/site-packages (from torch->-r ../../requirements.txt (line 2)) (4.8.0)\n",
      "Requirement already satisfied: sympy in /Library/Frameworks/Python.framework/Versions/3.10/lib/python3.10/site-packages (from torch->-r ../../requirements.txt (line 2)) (1.12)\n",
      "Requirement already satisfied: fsspec in /Library/Frameworks/Python.framework/Versions/3.10/lib/python3.10/site-packages (from torch->-r ../../requirements.txt (line 2)) (2023.10.0)\n",
      "Requirement already satisfied: idna<4,>=2.5 in /Library/Frameworks/Python.framework/Versions/3.10/lib/python3.10/site-packages (from requests->-r ../../requirements.txt (line 3)) (3.6)\n",
      "Requirement already satisfied: urllib3<3,>=1.21.1 in /Library/Frameworks/Python.framework/Versions/3.10/lib/python3.10/site-packages (from requests->-r ../../requirements.txt (line 3)) (2.1.0)\n",
      "Requirement already satisfied: charset-normalizer<4,>=2 in /Library/Frameworks/Python.framework/Versions/3.10/lib/python3.10/site-packages (from requests->-r ../../requirements.txt (line 3)) (3.3.2)\n",
      "Requirement already satisfied: certifi>=2017.4.17 in /Library/Frameworks/Python.framework/Versions/3.10/lib/python3.10/site-packages (from requests->-r ../../requirements.txt (line 3)) (2023.11.17)\n",
      "Requirement already satisfied: cycler>=0.10 in /Library/Frameworks/Python.framework/Versions/3.10/lib/python3.10/site-packages (from matplotlib->-r ../../requirements.txt (line 6)) (0.12.1)\n",
      "Requirement already satisfied: python-dateutil>=2.7 in /Users/jernkun/Library/Python/3.10/lib/python/site-packages (from matplotlib->-r ../../requirements.txt (line 6)) (2.8.2)\n",
      "Requirement already satisfied: contourpy>=1.0.1 in /Library/Frameworks/Python.framework/Versions/3.10/lib/python3.10/site-packages (from matplotlib->-r ../../requirements.txt (line 6)) (1.2.0)\n",
      "Requirement already satisfied: pyparsing>=2.3.1 in /Library/Frameworks/Python.framework/Versions/3.10/lib/python3.10/site-packages (from matplotlib->-r ../../requirements.txt (line 6)) (3.1.1)\n",
      "Requirement already satisfied: pillow>=8 in /Library/Frameworks/Python.framework/Versions/3.10/lib/python3.10/site-packages (from matplotlib->-r ../../requirements.txt (line 6)) (10.1.0)\n",
      "Requirement already satisfied: packaging>=20.0 in /Users/jernkun/Library/Python/3.10/lib/python/site-packages (from matplotlib->-r ../../requirements.txt (line 6)) (23.2)\n",
      "Requirement already satisfied: kiwisolver>=1.3.1 in /Library/Frameworks/Python.framework/Versions/3.10/lib/python3.10/site-packages (from matplotlib->-r ../../requirements.txt (line 6)) (1.4.5)\n",
      "Requirement already satisfied: fonttools>=4.22.0 in /Library/Frameworks/Python.framework/Versions/3.10/lib/python3.10/site-packages (from matplotlib->-r ../../requirements.txt (line 6)) (4.45.1)\n",
      "Requirement already satisfied: docutils>=0.3 in /Library/Frameworks/Python.framework/Versions/3.10/lib/python3.10/site-packages (from statistics->-r ../../requirements.txt (line 7)) (0.20.1)\n",
      "Requirement already satisfied: protobuf>=3.20.2 in /Library/Frameworks/Python.framework/Versions/3.10/lib/python3.10/site-packages (from onnx->-r ../../requirements.txt (line 8)) (4.25.1)\n",
      "Requirement already satisfied: six>=1.5 in /Users/jernkun/Library/Python/3.10/lib/python/site-packages (from python-dateutil>=2.7->matplotlib->-r ../../requirements.txt (line 6)) (1.16.0)\n",
      "Requirement already satisfied: MarkupSafe>=2.0 in /Library/Frameworks/Python.framework/Versions/3.10/lib/python3.10/site-packages (from jinja2->torch->-r ../../requirements.txt (line 2)) (2.1.3)\n",
      "Requirement already satisfied: mpmath>=0.19 in /Library/Frameworks/Python.framework/Versions/3.10/lib/python3.10/site-packages (from sympy->torch->-r ../../requirements.txt (line 2)) (1.3.0)\n",
      "\u001b[33mWARNING: You are using pip version 21.2.3; however, version 23.3.2 is available.\n",
      "You should consider upgrading via the '/usr/local/bin/python3 -m pip install --upgrade pip' command.\u001b[0m\n",
      "Note: you may need to restart the kernel to use updated packages.\n"
     ]
    }
   ],
   "source": [
    "pip install -r ../../requirements.txt"
   ]
  },
  {
   "cell_type": "code",
   "execution_count": 3,
   "metadata": {},
   "outputs": [],
   "source": [
    "import ezkl\n",
    "import torch\n",
    "from torch import nn\n",
    "import json\n",
    "import os\n",
    "import time\n",
    "import scipy\n",
    "import numpy as np\n",
    "import matplotlib.pyplot as plt\n",
    "import statistics\n",
    "import math"
   ]
  },
  {
   "cell_type": "code",
   "execution_count": 4,
   "metadata": {},
   "outputs": [],
   "source": [
    "%run -i ../../zkstats/core.py"
   ]
  },
  {
   "attachments": {},
   "cell_type": "markdown",
   "metadata": {},
   "source": []
  },
  {
   "cell_type": "code",
   "execution_count": 5,
   "metadata": {},
   "outputs": [],
   "source": [
    "# init path\n",
    "os.makedirs(os.path.dirname('shared/'), exist_ok=True)\n",
    "os.makedirs(os.path.dirname('prover/'), exist_ok=True)\n",
    "verifier_model_path = os.path.join('shared/verifier.onnx')\n",
    "prover_model_path = os.path.join('prover/prover.onnx')\n",
    "verifier_compiled_model_path = os.path.join('shared/verifier.compiled')\n",
    "prover_compiled_model_path = os.path.join('prover/prover.compiled')\n",
    "pk_path = os.path.join('shared/test.pk')\n",
    "vk_path = os.path.join('shared/test.vk')\n",
    "proof_path = os.path.join('shared/test.pf')\n",
    "settings_path = os.path.join('shared/settings.json')\n",
    "srs_path = os.path.join('shared/kzg.srs')\n",
    "witness_path = os.path.join('prover/witness.json')\n",
    "# this is private to prover since it contains actual data\n",
    "sel_data_path = os.path.join('prover/sel_data.json')\n",
    "# this is just dummy random value\n",
    "sel_dummy_data_path = os.path.join('shared/sel_dummy_data.json')"
   ]
  },
  {
   "attachments": {},
   "cell_type": "markdown",
   "metadata": {},
   "source": [
    "=======================  ZK-STATS FLOW ======================="
   ]
  },
  {
   "cell_type": "code",
   "execution_count": 6,
   "metadata": {},
   "outputs": [],
   "source": [
    "data_path = os.path.join('data.json')\n",
    "dummy_data_path = os.path.join('shared/dummy_data.json')\n",
    "\n",
    "data = json.loads(open(data_path, \"r\").read())['col_name']\n",
    "data_tensor = torch.reshape(torch.tensor(data),(1,-1, 1))\n",
    "\n",
    "create_dummy(data_path, dummy_data_path)\n",
    "dummy_data = json.loads(open(dummy_data_path, \"r\").read())['col_name']\n",
    "dummy_data_tensor = torch.reshape(torch.tensor(dummy_data), (1,-1,1))\n",
    "\n",
    "dummy_theory_output = torch.mean(dummy_data_tensor)\n",
    "theory_output = torch.mean(data_tensor)"
   ]
  },
  {
   "cell_type": "code",
   "execution_count": 7,
   "metadata": {},
   "outputs": [
    {
     "name": "stderr",
     "output_type": "stream",
     "text": [
      "/var/folders/89/y9dw12v976ngdmqz4l7wbsnr0000gn/T/ipykernel_2410/3357874280.py:8: TracerWarning: torch.tensor results are registered as constants in the trace. You can safely ignore this warning if you use this function to create tensors out of constant variables that would be the same every time you call this function. In any other case, this might cause the trace to be incorrect.\n",
      "  return (torch.tensor(1), torch.mean(X))\n"
     ]
    }
   ],
   "source": [
    "# Verifier/ data consumer side: send desired calculation\n",
    "class verifier_model(nn.Module):\n",
    "    def __init__(self):\n",
    "        super(verifier_model, self).__init__()\n",
    "        # self.w = nn.Parameter(data = dummy_theory_output, requires_grad = False)\n",
    "\n",
    "    def forward(self,X):\n",
    "        return (torch.tensor(1), torch.mean(X))\n",
    "        # return (torch.abs(torch.sum(X)-X.size()[1]*(self.w))<=torch.abs(0.01*X.size()[1]*self.w), self.w)\n",
    "    \n",
    "verifier_define_calculation(dummy_data_path, ['col_name'],sel_dummy_data_path,verifier_model, verifier_model_path)"
   ]
  },
  {
   "cell_type": "code",
   "execution_count": 8,
   "metadata": {},
   "outputs": [
    {
     "name": "stdout",
     "output_type": "stream",
     "text": [
      "Theory_output:  tensor(42.1340)\n",
      "==== Generate & Calibrate Setting ====\n",
      "scale:  [15]\n",
      "setting:  {\"run_args\":{\"tolerance\":{\"val\":0.0,\"scale\":1.0},\"input_scale\":15,\"param_scale\":15,\"scale_rebase_multiplier\":10,\"lookup_range\":[0,100],\"logrows\":12,\"num_inner_cols\":2,\"variables\":[[\"batch_size\",1]],\"input_visibility\":{\"Hashed\":{\"hash_is_public\":true,\"outlets\":[]}},\"output_visibility\":\"Public\",\"param_visibility\":\"Private\"},\"num_rows\":3936,\"total_assignments\":104,\"total_const_size\":0,\"model_instance_shapes\":[[1],[1]],\"model_output_scales\":[0,30],\"model_input_scales\":[15],\"module_sizes\":{\"kzg\":[],\"poseidon\":[3936,[1]],\"elgamal\":[0,[0]]},\"required_lookups\":[{\"Recip\":{\"scale\":32768.0}}],\"check_mode\":\"UNSAFE\",\"version\":\"7.0.0\",\"num_blinding_factors\":null}\n"
     ]
    },
    {
     "name": "stderr",
     "output_type": "stream",
     "text": [
      "/var/folders/89/y9dw12v976ngdmqz4l7wbsnr0000gn/T/ipykernel_2410/3070331555.py:10: TracerWarning: torch.tensor results are registered as constants in the trace. You can safely ignore this warning if you use this function to create tensors out of constant variables that would be the same every time you call this function. In any other case, this might cause the trace to be incorrect.\n",
      "  return (torch.tensor(1),torch.mean(X))\n"
     ]
    }
   ],
   "source": [
    "# prover calculates settings, send to verifier\n",
    "# In linearity, scale doesnt affect lookup size\n",
    "print(\"Theory_output: \", theory_output)\n",
    "class prover_model(nn.Module):\n",
    "    def __init__(self):\n",
    "        super(prover_model, self).__init__()\n",
    "        # self.w = nn.Parameter(data = theory_output, requires_grad = False)\n",
    "\n",
    "    def forward(self,X):\n",
    "        return (torch.tensor(1),torch.mean(X))\n",
    "        # return (torch.abs(torch.sum(X)-X.size()[1]*(self.w))<=torch.abs(0.01*X.size()[1]*self.w), self.w)\n",
    "prover_gen_settings(data_path,['col_name'], sel_data_path, prover_model,prover_model_path, [15], \"resources\", settings_path)"
   ]
  },
  {
   "cell_type": "code",
   "execution_count": 10,
   "metadata": {},
   "outputs": [
    {
     "name": "stderr",
     "output_type": "stream",
     "text": [
      "spawning module 0\n",
      "spawning module 2\n"
     ]
    },
    {
     "name": "stdout",
     "output_type": "stream",
     "text": [
      "==== setting up ezkl ====\n"
     ]
    },
    {
     "name": "stderr",
     "output_type": "stream",
     "text": [
      "spawning module 0\n",
      "spawning module 2\n",
      "spawning module 0\n",
      "spawning module 2\n"
     ]
    },
    {
     "name": "stdout",
     "output_type": "stream",
     "text": [
      "Time setup: 0.5562019348144531 seconds\n",
      "=======================================\n",
      "Theory output:  tensor(42.1340)\n",
      "!@# compiled_model exists? True\n",
      "!@# compiled_model exists? True\n",
      "==== Generating Witness ====\n",
      "witness boolean:  1.0\n",
      "witness result 1 : 42.11085656657815\n",
      "==== Generating Proof ====\n",
      "proof:  {'instances': [[[1277732943169287410, 11224309302358461726, 16043747437431270579, 166757665308549999], [12436184717236109307, 3962172157175319849, 7381016538464732718, 1011752739694698287], [3768192631512449736, 6795967255881867556, 15128129630253277759, 52147006479543043]]], 'proof': '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', 'transcript_type': 'EVM'}\n",
      "Time gen prf: 0.7123100757598877 seconds\n"
     ]
    }
   ],
   "source": [
    "# Here verifier & prover can concurrently call setup since all params are public to get pk. \n",
    "# Here write as verifier function to emphasize that verifier must calculate its own vk to be sure\n",
    "verifier_setup(verifier_model_path, verifier_compiled_model_path, settings_path,vk_path, pk_path )\n",
    "\n",
    "print(\"=======================================\")\n",
    "# Prover generates proof\n",
    "print(\"Theory output: \", theory_output)\n",
    "prover_gen_proof(prover_model_path, sel_data_path, witness_path, prover_compiled_model_path, settings_path, proof_path, pk_path)"
   ]
  },
  {
   "cell_type": "code",
   "execution_count": 12,
   "metadata": {},
   "outputs": [
    {
     "name": "stdout",
     "output_type": "stream",
     "text": [
      "num_inputs:  1\n",
      "prf instances:  [[[1277732943169287410, 11224309302358461726, 16043747437431270579, 166757665308549999], [12436184717236109307, 3962172157175319849, 7381016538464732718, 1011752739694698287], [3768192631512449736, 6795967255881867556, 15128129630253277759, 52147006479543043]]]\n",
      "proof boolean:  1.0\n",
      "proof result 1 : 42.11085656657815\n",
      "verified\n"
     ]
    }
   ],
   "source": [
    "# Verifier verifies\n",
    "verifier_verify(proof_path, settings_path, vk_path)"
   ]
  },
  {
   "cell_type": "code",
   "execution_count": null,
   "metadata": {},
   "outputs": [],
   "source": []
  }
 ],
 "metadata": {
  "kernelspec": {
   "display_name": "Python 3",
   "language": "python",
   "name": "python3"
  },
  "language_info": {
   "codemirror_mode": {
    "name": "ipython",
    "version": 3
   },
   "file_extension": ".py",
   "mimetype": "text/x-python",
   "name": "python",
   "nbconvert_exporter": "python",
   "pygments_lexer": "ipython3",
   "version": "3.10.0"
  },
  "orig_nbformat": 4
 },
 "nbformat": 4,
 "nbformat_minor": 2
}
