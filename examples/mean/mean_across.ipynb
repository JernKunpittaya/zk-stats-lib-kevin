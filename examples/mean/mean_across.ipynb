{
 "cells": [
  {
   "cell_type": "code",
   "execution_count": 1,
   "metadata": {},
   "outputs": [
    {
     "name": "stdout",
     "output_type": "stream",
     "text": [
      "Requirement already satisfied: ezkl==7.0.0 in /Library/Frameworks/Python.framework/Versions/3.10/lib/python3.10/site-packages (from -r ../../requirements.txt (line 1)) (7.0.0)\n",
      "Requirement already satisfied: torch in /Library/Frameworks/Python.framework/Versions/3.10/lib/python3.10/site-packages (from -r ../../requirements.txt (line 2)) (2.1.1)\n",
      "Requirement already satisfied: requests in /Library/Frameworks/Python.framework/Versions/3.10/lib/python3.10/site-packages (from -r ../../requirements.txt (line 3)) (2.31.0)\n",
      "Requirement already satisfied: scipy in /Library/Frameworks/Python.framework/Versions/3.10/lib/python3.10/site-packages (from -r ../../requirements.txt (line 4)) (1.11.4)\n",
      "Requirement already satisfied: numpy in /Library/Frameworks/Python.framework/Versions/3.10/lib/python3.10/site-packages (from -r ../../requirements.txt (line 5)) (1.26.2)\n",
      "Requirement already satisfied: matplotlib in /Library/Frameworks/Python.framework/Versions/3.10/lib/python3.10/site-packages (from -r ../../requirements.txt (line 6)) (3.8.2)\n",
      "Requirement already satisfied: statistics in /Library/Frameworks/Python.framework/Versions/3.10/lib/python3.10/site-packages (from -r ../../requirements.txt (line 7)) (1.0.3.5)\n",
      "Requirement already satisfied: onnx in /Library/Frameworks/Python.framework/Versions/3.10/lib/python3.10/site-packages (from -r ../../requirements.txt (line 8)) (1.15.0)\n",
      "Requirement already satisfied: typing-extensions in /Library/Frameworks/Python.framework/Versions/3.10/lib/python3.10/site-packages (from torch->-r ../../requirements.txt (line 2)) (4.8.0)\n",
      "Requirement already satisfied: sympy in /Library/Frameworks/Python.framework/Versions/3.10/lib/python3.10/site-packages (from torch->-r ../../requirements.txt (line 2)) (1.12)\n",
      "Requirement already satisfied: jinja2 in /Library/Frameworks/Python.framework/Versions/3.10/lib/python3.10/site-packages (from torch->-r ../../requirements.txt (line 2)) (3.1.2)\n",
      "Requirement already satisfied: fsspec in /Library/Frameworks/Python.framework/Versions/3.10/lib/python3.10/site-packages (from torch->-r ../../requirements.txt (line 2)) (2023.10.0)\n",
      "Requirement already satisfied: networkx in /Library/Frameworks/Python.framework/Versions/3.10/lib/python3.10/site-packages (from torch->-r ../../requirements.txt (line 2)) (3.2.1)\n",
      "Requirement already satisfied: filelock in /Library/Frameworks/Python.framework/Versions/3.10/lib/python3.10/site-packages (from torch->-r ../../requirements.txt (line 2)) (3.13.1)\n",
      "Requirement already satisfied: certifi>=2017.4.17 in /Library/Frameworks/Python.framework/Versions/3.10/lib/python3.10/site-packages (from requests->-r ../../requirements.txt (line 3)) (2023.11.17)\n",
      "Requirement already satisfied: urllib3<3,>=1.21.1 in /Library/Frameworks/Python.framework/Versions/3.10/lib/python3.10/site-packages (from requests->-r ../../requirements.txt (line 3)) (2.1.0)\n",
      "Requirement already satisfied: charset-normalizer<4,>=2 in /Library/Frameworks/Python.framework/Versions/3.10/lib/python3.10/site-packages (from requests->-r ../../requirements.txt (line 3)) (3.3.2)\n",
      "Requirement already satisfied: idna<4,>=2.5 in /Library/Frameworks/Python.framework/Versions/3.10/lib/python3.10/site-packages (from requests->-r ../../requirements.txt (line 3)) (3.6)\n",
      "Requirement already satisfied: fonttools>=4.22.0 in /Library/Frameworks/Python.framework/Versions/3.10/lib/python3.10/site-packages (from matplotlib->-r ../../requirements.txt (line 6)) (4.45.1)\n",
      "Requirement already satisfied: kiwisolver>=1.3.1 in /Library/Frameworks/Python.framework/Versions/3.10/lib/python3.10/site-packages (from matplotlib->-r ../../requirements.txt (line 6)) (1.4.5)\n",
      "Requirement already satisfied: packaging>=20.0 in /Users/jernkun/Library/Python/3.10/lib/python/site-packages (from matplotlib->-r ../../requirements.txt (line 6)) (23.2)\n",
      "Requirement already satisfied: pyparsing>=2.3.1 in /Library/Frameworks/Python.framework/Versions/3.10/lib/python3.10/site-packages (from matplotlib->-r ../../requirements.txt (line 6)) (3.1.1)\n",
      "Requirement already satisfied: python-dateutil>=2.7 in /Users/jernkun/Library/Python/3.10/lib/python/site-packages (from matplotlib->-r ../../requirements.txt (line 6)) (2.8.2)\n",
      "Requirement already satisfied: cycler>=0.10 in /Library/Frameworks/Python.framework/Versions/3.10/lib/python3.10/site-packages (from matplotlib->-r ../../requirements.txt (line 6)) (0.12.1)\n",
      "Requirement already satisfied: pillow>=8 in /Library/Frameworks/Python.framework/Versions/3.10/lib/python3.10/site-packages (from matplotlib->-r ../../requirements.txt (line 6)) (10.1.0)\n",
      "Requirement already satisfied: contourpy>=1.0.1 in /Library/Frameworks/Python.framework/Versions/3.10/lib/python3.10/site-packages (from matplotlib->-r ../../requirements.txt (line 6)) (1.2.0)\n",
      "Requirement already satisfied: docutils>=0.3 in /Library/Frameworks/Python.framework/Versions/3.10/lib/python3.10/site-packages (from statistics->-r ../../requirements.txt (line 7)) (0.20.1)\n",
      "Requirement already satisfied: protobuf>=3.20.2 in /Library/Frameworks/Python.framework/Versions/3.10/lib/python3.10/site-packages (from onnx->-r ../../requirements.txt (line 8)) (4.25.1)\n",
      "Requirement already satisfied: six>=1.5 in /Users/jernkun/Library/Python/3.10/lib/python/site-packages (from python-dateutil>=2.7->matplotlib->-r ../../requirements.txt (line 6)) (1.16.0)\n",
      "Requirement already satisfied: MarkupSafe>=2.0 in /Library/Frameworks/Python.framework/Versions/3.10/lib/python3.10/site-packages (from jinja2->torch->-r ../../requirements.txt (line 2)) (2.1.3)\n",
      "Requirement already satisfied: mpmath>=0.19 in /Library/Frameworks/Python.framework/Versions/3.10/lib/python3.10/site-packages (from sympy->torch->-r ../../requirements.txt (line 2)) (1.3.0)\n",
      "\u001b[33mWARNING: You are using pip version 21.2.3; however, version 23.3.2 is available.\n",
      "You should consider upgrading via the '/usr/local/bin/python3 -m pip install --upgrade pip' command.\u001b[0m\n",
      "Note: you may need to restart the kernel to use updated packages.\n"
     ]
    }
   ],
   "source": [
    "pip install -r ../../requirements.txt"
   ]
  },
  {
   "cell_type": "code",
   "execution_count": 29,
   "metadata": {},
   "outputs": [],
   "source": [
    "import ezkl\n",
    "import torch\n",
    "from torch import nn\n",
    "import json\n",
    "import os\n",
    "import time\n",
    "import scipy\n",
    "import numpy as np\n",
    "import matplotlib.pyplot as plt\n",
    "import statistics\n",
    "import math"
   ]
  },
  {
   "cell_type": "code",
   "execution_count": 30,
   "metadata": {},
   "outputs": [],
   "source": [
    "%run -i ../../zkstats/core.py"
   ]
  },
  {
   "attachments": {},
   "cell_type": "markdown",
   "metadata": {},
   "source": []
  },
  {
   "cell_type": "code",
   "execution_count": 32,
   "metadata": {},
   "outputs": [],
   "source": [
    "# init path\n",
    "os.makedirs(os.path.dirname('shared/'), exist_ok=True)\n",
    "os.makedirs(os.path.dirname('prover/'), exist_ok=True)\n",
    "verifier_model_path = os.path.join('shared/verifier.onnx')\n",
    "prover_model_path = os.path.join('prover/prover.onnx')\n",
    "verifier_compiled_model_path = os.path.join('shared/verifier.compiled')\n",
    "prover_compiled_model_path = os.path.join('prover/prover.compiled')\n",
    "pk_path = os.path.join('shared/test.pk')\n",
    "vk_path = os.path.join('shared/test.vk')\n",
    "proof_path = os.path.join('shared/test.pf')\n",
    "settings_path = os.path.join('shared/settings.json')\n",
    "# srs_path = os.path.join('shared/kzg.srs')\n",
    "witness_path = os.path.join('prover/witness.json')\n",
    "# this is private to prover since it contains actual data\n",
    "comb_data_path = os.path.join('prover/comb_data.json')"
   ]
  },
  {
   "attachments": {},
   "cell_type": "markdown",
   "metadata": {},
   "source": [
    "=======================  ZK-STATS FLOW ======================="
   ]
  },
  {
   "attachments": {},
   "cell_type": "markdown",
   "metadata": {},
   "source": [
    "## Step 1\n",
    "Verifier calls `export_onnx` with dummy data, to generate the onnx model. Dummy data is used to infer the shape of the model\n",
    "\n",
    "### Output\n",
    "- `verifier.onnx` file"
   ]
  },
  {
   "cell_type": "code",
   "execution_count": 33,
   "metadata": {},
   "outputs": [],
   "source": [
    "data_path1 = os.path.join('data1.json')\n",
    "data_path2 = os.path.join('data2.json')\n",
    "dummy_data_path1 = os.path.join('shared/dummy_data1.json')\n",
    "dummy_data_path2 = os.path.join('shared/dummy_data2.json')\n",
    "\n",
    "f_raw_input1 = open(data_path1, \"r\")\n",
    "data1 = json.loads(f_raw_input1.read())[\"input_data\"][0]\n",
    "data_tensor1 = torch.reshape(torch.tensor(data1),(1, len(data1), 1))\n",
    "\n",
    "f_raw_input2 = open(data_path2, \"r\")\n",
    "data2 = json.loads(f_raw_input2.read())[\"input_data\"][0]\n",
    "data_tensor2 = torch.reshape(torch.tensor(data2),(1, len(data2), 1))\n",
    "\n",
    "#  dummy data for data consumer. Just need to be the same len as private data\n",
    "dummy_data1 = np.round(np.random.uniform(1,10,len(data1)),1)\n",
    "json.dump({\"input_data\":[dummy_data1.tolist()]}, open(dummy_data_path1, 'w'))\n",
    "\n",
    "dummy_data2 = np.round(np.random.uniform(1,10,len(data2)),1)\n",
    "json.dump({\"input_data\":[dummy_data2.tolist()]}, open(dummy_data_path2, 'w'))\n",
    "\n",
    "dummy_data_tensor1 = torch.reshape(torch.tensor(dummy_data1), (1, len(dummy_data1),1 ))\n",
    "dummy_data_tensor2 = torch.reshape(torch.tensor(dummy_data2), (1, len(dummy_data2),1 ))\n",
    "# dummy_theory_output = torch.mean(dummy_data_tensor)\n",
    "\n",
    "dummy_combined = torch.concat((dummy_data_tensor1[0], dummy_data_tensor2[0]))\n"
   ]
  },
  {
   "cell_type": "code",
   "execution_count": 34,
   "metadata": {},
   "outputs": [
    {
     "name": "stdout",
     "output_type": "stream",
     "text": [
      "[5.8 3.1 2.9]\n",
      "[2.3 1.6 2.3]\n",
      "tensor([[[5.8000],\n",
      "         [3.1000],\n",
      "         [2.9000]]], dtype=torch.float64)\n",
      "tensor([[[2.3000],\n",
      "         [1.6000],\n",
      "         [2.3000]]], dtype=torch.float64)\n",
      "combined:  tensor([[5.8000],\n",
      "        [3.1000],\n",
      "        [2.9000],\n",
      "        [2.3000],\n",
      "        [1.6000],\n",
      "        [2.3000]], dtype=torch.float64)\n",
      "tensor(3., dtype=torch.float64)\n"
     ]
    }
   ],
   "source": [
    "print(dummy_data1)\n",
    "print(dummy_data2)\n",
    "\n",
    "print(dummy_data_tensor1)\n",
    "print(dummy_data_tensor2)\n",
    "print(\"combined: \",dummy_combined )\n",
    "print(torch.mean(dummy_combined))\n",
    "dummy_theory_output = torch.mean(dummy_combined)\n",
    "# print((torch.sum(dummy_data_tensor1)+torch.sum(dummy_data_tensor2))/(dummy_data_tensor1.size()[1]+dummy_data_tensor2.size()[1]))"
   ]
  },
  {
   "cell_type": "code",
   "execution_count": 35,
   "metadata": {},
   "outputs": [],
   "source": [
    "# Verifier/ data consumer side: send desired calculation\n",
    "class verifier_model(nn.Module):\n",
    "    def __init__(self):\n",
    "        super(verifier_model, self).__init__()\n",
    "        self.w = nn.Parameter(data = dummy_theory_output, requires_grad = False)\n",
    "\n",
    "    def forward(self,*args):\n",
    "        # print(X) \n",
    "        # for data_tensor in args:\n",
    "        #     print(data_tensor)\n",
    "        # X_comb = torch.cat(args)\n",
    "        # X_combined = X_comb.reshape(1,int(X_comb.size()[0].item()*X_comb.size()[1].item()),1)\n",
    "        # print(X_combined)\n",
    "        args_unpacked= tuple(arg[0] for arg in args)\n",
    "        X_combined = torch.unsqueeze(torch.cat(args_unpacked),0)\n",
    "        # print(X_combined.reshape(1,X_combined.size()[0]*X_combined.size()[1],1))\n",
    "        # return torch.tensor(True)\n",
    "        # return (X_combined.size()[1]==(6.0), self.w)\n",
    "        return (torch.abs(torch.sum(X_combined)-X_combined.size()[1]*(self.w))<=torch.abs(0.01*X_combined.size()[1]*self.w), self.w)\n",
    "        # return (torch.abs(torch.sum(X)-X.size()[1]*(self.w))<=torch.abs(0.01*X.size()[1]*self.w), self.w)\n",
    "    \n",
    "verifier_define_calculation(verifier_model, verifier_model_path, [dummy_data_path1, dummy_data_path2])"
   ]
  },
  {
   "attachments": {},
   "cell_type": "markdown",
   "metadata": {},
   "source": [
    "## Step 2\n",
    "- Prover gets the model from the verifier.\n",
    "- Prover overrides the `dummy_theory_output` with `theory_output`\n",
    "- Prover calls `prover_gen_settings`: export onnx file and compute the settings required by `ezkl.calibrate_settings`"
   ]
  },
  {
   "cell_type": "code",
   "execution_count": 36,
   "metadata": {},
   "outputs": [
    {
     "name": "stdout",
     "output_type": "stream",
     "text": [
      "Theory_output:  tensor(7.5000)\n",
      "==== Generate & Calibrate Setting ====\n",
      "scale:  [5]\n",
      "setting:  {\"run_args\":{\"tolerance\":{\"val\":0.0,\"scale\":1.0},\"input_scale\":5,\"param_scale\":5,\"scale_rebase_multiplier\":10,\"lookup_range\":[-28,0],\"logrows\":12,\"num_inner_cols\":2,\"variables\":[[\"batch_size\",1]],\"input_visibility\":{\"Hashed\":{\"hash_is_public\":true,\"outlets\":[]}},\"output_visibility\":\"Public\",\"param_visibility\":\"Private\"},\"num_rows\":2624,\"total_assignments\":22,\"total_const_size\":4,\"model_instance_shapes\":[[1],[1]],\"model_output_scales\":[0,5],\"model_input_scales\":[5,5],\"module_sizes\":{\"kzg\":[],\"poseidon\":[2624,[2]],\"elgamal\":[0,[0]]},\"required_lookups\":[\"Abs\",{\"GreaterThan\":{\"a\":0.0}}],\"check_mode\":\"UNSAFE\",\"version\":\"7.0.0\",\"num_blinding_factors\":null}\n"
     ]
    }
   ],
   "source": [
    "# prover calculates settings, send to verifier\n",
    "theory_combined = torch.concat((data_tensor1[0], data_tensor2[0]))\n",
    "# print(\"theory combined: \", theory_combined)\n",
    "theory_output = torch.mean(theory_combined)\n",
    "print(\"Theory_output: \", theory_output)\n",
    "class prover_model(nn.Module):\n",
    "    def __init__(self):\n",
    "        super(prover_model, self).__init__()\n",
    "        self.w = nn.Parameter(data = theory_output, requires_grad = False)\n",
    "\n",
    "    def forward(self,*args):\n",
    "        args_unpacked= tuple(arg[0] for arg in args)\n",
    "        X_combined = torch.unsqueeze(torch.cat(args_unpacked),0)\n",
    "        # print(X_combined)\n",
    "        # print(X_comb.size()[1].item())\n",
    "        # X_combined = X_comb.reshape(1,int(X_comb.size()[0].item()*X_comb.size()[1].item()),1)\n",
    "        # print(X_combined.size()[1]==torch.tensor(6))\n",
    "        \n",
    "        # print(X_combined.reshape(1,X_combined.size()[0]*X_combined.size()[1],1))\n",
    "        # return torch.tensor(True)\n",
    "        # return (X_combined.size()[1]==(6.0), self.w)\n",
    "        return (torch.abs(torch.sum(X_combined)-X_combined.size()[1]*(self.w))<=torch.abs(0.01*X_combined.size()[1]*self.w), self.w)\n",
    "\n",
    "prover_gen_settings([data_path1, data_path2], comb_data_path, prover_model,prover_model_path, [5], \"resources\", settings_path)"
   ]
  },
  {
   "attachments": {},
   "cell_type": "markdown",
   "metadata": {},
   "source": [
    "## Step 3\n",
    "- Prover generates proof with `prover_gen_proof`:\n",
    "    - 1. Compile circuit with `compile_circuit`\n",
    "        - Inputs: onnx model, settings path\n",
    "        - Outputs: compiled \n",
    "    - 2. Generate witness with\n",
    "- Verifier generates keys with "
   ]
  },
  {
   "cell_type": "code",
   "execution_count": 37,
   "metadata": {},
   "outputs": [
    {
     "name": "stderr",
     "output_type": "stream",
     "text": [
      "spawning module 0\n",
      "spawning module 2\n"
     ]
    },
    {
     "name": "stdout",
     "output_type": "stream",
     "text": [
      "==== setting up ezkl ====\n"
     ]
    },
    {
     "name": "stderr",
     "output_type": "stream",
     "text": [
      "spawning module 0\n",
      "spawning module 2\n",
      "spawning module 0\n",
      "spawning module 2\n"
     ]
    },
    {
     "name": "stdout",
     "output_type": "stream",
     "text": [
      "Time setup: 0.5612740516662598 seconds\n",
      "=======================================\n",
      "Theory output:  tensor(7.5000)\n",
      "!@# compiled_model exists? False\n",
      "!@# compiled_model exists? True\n",
      "==== Generating Witness ====\n",
      "witness boolean:  1.0\n",
      "witness result 1 : 7.5\n",
      "==== Generating Proof ====\n",
      "proof:  {'instances': [[[8904404911306193061, 5124839717833657588, 13990643389064988878, 325114654614251823], [204021950110864147, 12826522842573340045, 723298428150408977, 979262544395208927], [12436184717236109307, 3962172157175319849, 7381016538464732718, 1011752739694698287], [9289142259675036427, 13164462325522300906, 6491497202942540343, 2217777117322613041]]], 'proof': '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', 'transcript_type': 'EVM'}\n",
      "Time gen prf: 0.7072460651397705 seconds\n"
     ]
    }
   ],
   "source": [
    "# Here verifier & prover can concurrently call setup since all params are public to get pk.\n",
    "# Here write as verifier function to emphasize that verifier must calculate its own vk to be sure\n",
    "verifier_setup(verifier_model_path, verifier_compiled_model_path, settings_path,vk_path, pk_path )\n",
    "\n",
    "print(\"=======================================\")\n",
    "# Prover generates proof\n",
    "print(\"Theory output: \", theory_output)\n",
    "prover_gen_proof(prover_model_path, comb_data_path, witness_path, prover_compiled_model_path, settings_path, proof_path, pk_path)"
   ]
  },
  {
   "cell_type": "code",
   "execution_count": 38,
   "metadata": {},
   "outputs": [
    {
     "name": "stdout",
     "output_type": "stream",
     "text": [
      "num_inputs:  2\n",
      "prf instances:  [[[8904404911306193061, 5124839717833657588, 13990643389064988878, 325114654614251823], [204021950110864147, 12826522842573340045, 723298428150408977, 979262544395208927], [12436184717236109307, 3962172157175319849, 7381016538464732718, 1011752739694698287], [9289142259675036427, 13164462325522300906, 6491497202942540343, 2217777117322613041]]]\n",
      "proof boolean:  1.0\n",
      "proof result 1 : 7.5\n",
      "verified\n"
     ]
    }
   ],
   "source": [
    "# Verifier verifies\n",
    "verifier_verify(proof_path, settings_path, vk_path)"
   ]
  },
  {
   "cell_type": "code",
   "execution_count": null,
   "metadata": {},
   "outputs": [],
   "source": []
  }
 ],
 "metadata": {
  "kernelspec": {
   "display_name": "Python 3",
   "language": "python",
   "name": "python3"
  },
  "language_info": {
   "codemirror_mode": {
    "name": "ipython",
    "version": 3
   },
   "file_extension": ".py",
   "mimetype": "text/x-python",
   "name": "python",
   "nbconvert_exporter": "python",
   "pygments_lexer": "ipython3",
   "version": "3.10.0"
  },
  "orig_nbformat": 4
 },
 "nbformat": 4,
 "nbformat_minor": 2
}
