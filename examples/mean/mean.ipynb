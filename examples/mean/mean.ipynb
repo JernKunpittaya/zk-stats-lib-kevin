{
 "cells": [
  {
   "cell_type": "code",
   "execution_count": 1,
   "metadata": {},
   "outputs": [
    {
     "name": "stdout",
     "output_type": "stream",
     "text": [
      "Requirement already satisfied: ezkl==5.0.8 in /Library/Frameworks/Python.framework/Versions/3.10/lib/python3.10/site-packages (from -r ../../requirements.txt (line 1)) (5.0.8)\n",
      "Requirement already satisfied: torch in /Library/Frameworks/Python.framework/Versions/3.10/lib/python3.10/site-packages (from -r ../../requirements.txt (line 2)) (2.1.1)\n",
      "Requirement already satisfied: requests in /Library/Frameworks/Python.framework/Versions/3.10/lib/python3.10/site-packages (from -r ../../requirements.txt (line 3)) (2.31.0)\n",
      "Requirement already satisfied: scipy in /Library/Frameworks/Python.framework/Versions/3.10/lib/python3.10/site-packages (from -r ../../requirements.txt (line 4)) (1.11.4)\n",
      "Requirement already satisfied: numpy in /Library/Frameworks/Python.framework/Versions/3.10/lib/python3.10/site-packages (from -r ../../requirements.txt (line 5)) (1.26.2)\n",
      "Requirement already satisfied: matplotlib in /Library/Frameworks/Python.framework/Versions/3.10/lib/python3.10/site-packages (from -r ../../requirements.txt (line 6)) (3.8.2)\n",
      "Requirement already satisfied: statistics in /Library/Frameworks/Python.framework/Versions/3.10/lib/python3.10/site-packages (from -r ../../requirements.txt (line 7)) (1.0.3.5)\n",
      "Requirement already satisfied: onnx in /Library/Frameworks/Python.framework/Versions/3.10/lib/python3.10/site-packages (from -r ../../requirements.txt (line 8)) (1.15.0)\n",
      "Requirement already satisfied: filelock in /Library/Frameworks/Python.framework/Versions/3.10/lib/python3.10/site-packages (from torch->-r ../../requirements.txt (line 2)) (3.13.1)\n",
      "Requirement already satisfied: networkx in /Library/Frameworks/Python.framework/Versions/3.10/lib/python3.10/site-packages (from torch->-r ../../requirements.txt (line 2)) (3.2.1)\n",
      "Requirement already satisfied: fsspec in /Library/Frameworks/Python.framework/Versions/3.10/lib/python3.10/site-packages (from torch->-r ../../requirements.txt (line 2)) (2023.10.0)\n",
      "Requirement already satisfied: sympy in /Library/Frameworks/Python.framework/Versions/3.10/lib/python3.10/site-packages (from torch->-r ../../requirements.txt (line 2)) (1.12)\n",
      "Requirement already satisfied: typing-extensions in /Library/Frameworks/Python.framework/Versions/3.10/lib/python3.10/site-packages (from torch->-r ../../requirements.txt (line 2)) (4.8.0)\n",
      "Requirement already satisfied: jinja2 in /Library/Frameworks/Python.framework/Versions/3.10/lib/python3.10/site-packages (from torch->-r ../../requirements.txt (line 2)) (3.1.2)\n",
      "Requirement already satisfied: urllib3<3,>=1.21.1 in /Library/Frameworks/Python.framework/Versions/3.10/lib/python3.10/site-packages (from requests->-r ../../requirements.txt (line 3)) (2.1.0)\n",
      "Requirement already satisfied: certifi>=2017.4.17 in /Library/Frameworks/Python.framework/Versions/3.10/lib/python3.10/site-packages (from requests->-r ../../requirements.txt (line 3)) (2023.11.17)\n",
      "Requirement already satisfied: charset-normalizer<4,>=2 in /Library/Frameworks/Python.framework/Versions/3.10/lib/python3.10/site-packages (from requests->-r ../../requirements.txt (line 3)) (3.3.2)\n",
      "Requirement already satisfied: idna<4,>=2.5 in /Library/Frameworks/Python.framework/Versions/3.10/lib/python3.10/site-packages (from requests->-r ../../requirements.txt (line 3)) (3.6)\n",
      "Requirement already satisfied: cycler>=0.10 in /Library/Frameworks/Python.framework/Versions/3.10/lib/python3.10/site-packages (from matplotlib->-r ../../requirements.txt (line 6)) (0.12.1)\n",
      "Requirement already satisfied: kiwisolver>=1.3.1 in /Library/Frameworks/Python.framework/Versions/3.10/lib/python3.10/site-packages (from matplotlib->-r ../../requirements.txt (line 6)) (1.4.5)\n",
      "Requirement already satisfied: fonttools>=4.22.0 in /Library/Frameworks/Python.framework/Versions/3.10/lib/python3.10/site-packages (from matplotlib->-r ../../requirements.txt (line 6)) (4.45.1)\n",
      "Requirement already satisfied: packaging>=20.0 in /Users/jernkun/Library/Python/3.10/lib/python/site-packages (from matplotlib->-r ../../requirements.txt (line 6)) (23.2)\n",
      "Requirement already satisfied: python-dateutil>=2.7 in /Users/jernkun/Library/Python/3.10/lib/python/site-packages (from matplotlib->-r ../../requirements.txt (line 6)) (2.8.2)\n",
      "Requirement already satisfied: contourpy>=1.0.1 in /Library/Frameworks/Python.framework/Versions/3.10/lib/python3.10/site-packages (from matplotlib->-r ../../requirements.txt (line 6)) (1.2.0)\n",
      "Requirement already satisfied: pillow>=8 in /Library/Frameworks/Python.framework/Versions/3.10/lib/python3.10/site-packages (from matplotlib->-r ../../requirements.txt (line 6)) (10.1.0)\n",
      "Requirement already satisfied: pyparsing>=2.3.1 in /Library/Frameworks/Python.framework/Versions/3.10/lib/python3.10/site-packages (from matplotlib->-r ../../requirements.txt (line 6)) (3.1.1)\n",
      "Requirement already satisfied: docutils>=0.3 in /Library/Frameworks/Python.framework/Versions/3.10/lib/python3.10/site-packages (from statistics->-r ../../requirements.txt (line 7)) (0.20.1)\n",
      "Requirement already satisfied: protobuf>=3.20.2 in /Library/Frameworks/Python.framework/Versions/3.10/lib/python3.10/site-packages (from onnx->-r ../../requirements.txt (line 8)) (4.25.1)\n",
      "Requirement already satisfied: six>=1.5 in /Users/jernkun/Library/Python/3.10/lib/python/site-packages (from python-dateutil>=2.7->matplotlib->-r ../../requirements.txt (line 6)) (1.16.0)\n",
      "Requirement already satisfied: MarkupSafe>=2.0 in /Library/Frameworks/Python.framework/Versions/3.10/lib/python3.10/site-packages (from jinja2->torch->-r ../../requirements.txt (line 2)) (2.1.3)\n",
      "Requirement already satisfied: mpmath>=0.19 in /Library/Frameworks/Python.framework/Versions/3.10/lib/python3.10/site-packages (from sympy->torch->-r ../../requirements.txt (line 2)) (1.3.0)\n",
      "\u001b[33mWARNING: You are using pip version 21.2.3; however, version 23.3.1 is available.\n",
      "You should consider upgrading via the '/usr/local/bin/python3 -m pip install --upgrade pip' command.\u001b[0m\n",
      "Note: you may need to restart the kernel to use updated packages.\n"
     ]
    }
   ],
   "source": [
    "pip install -r ../../requirements.txt"
   ]
  },
  {
   "cell_type": "code",
   "execution_count": 57,
   "metadata": {},
   "outputs": [],
   "source": [
    "import ezkl\n",
    "import torch\n",
    "from torch import nn\n",
    "import json\n",
    "import os\n",
    "import time\n",
    "import scipy\n",
    "import numpy as np\n",
    "import matplotlib.pyplot as plt\n",
    "import statistics\n",
    "import math"
   ]
  },
  {
   "cell_type": "code",
   "execution_count": 58,
   "metadata": {},
   "outputs": [],
   "source": [
    "%run -i ../../core.py"
   ]
  },
  {
   "attachments": {},
   "cell_type": "markdown",
   "metadata": {},
   "source": []
  },
  {
   "cell_type": "code",
   "execution_count": 59,
   "metadata": {},
   "outputs": [],
   "source": [
    "# init path\n",
    "os.makedirs(os.path.dirname('shared/'), exist_ok=True)\n",
    "os.makedirs(os.path.dirname('prover/'), exist_ok=True)\n",
    "verifier_model_path = os.path.join('shared/verifier.onnx')\n",
    "prover_model_path = os.path.join('prover/prover.onnx')\n",
    "verifier_compiled_model_path = os.path.join('shared/verifier.compiled')\n",
    "prover_compiled_model_path = os.path.join('prover/prover.compiled')\n",
    "pk_path = os.path.join('shared/test.pk')\n",
    "vk_path = os.path.join('shared/test.vk')\n",
    "proof_path = os.path.join('shared/test.pf')\n",
    "settings_path = os.path.join('shared/settings.json')\n",
    "srs_path = os.path.join('shared/kzg.srs')\n",
    "witness_path = os.path.join('prover/witness.json')\n",
    "# this is private to prover since it contains actual data\n",
    "comb_data_path = os.path.join('prover/comb_data.json')"
   ]
  },
  {
   "attachments": {},
   "cell_type": "markdown",
   "metadata": {},
   "source": [
    "=======================  ZK-STATS FLOW ======================="
   ]
  },
  {
   "cell_type": "code",
   "execution_count": 60,
   "metadata": {},
   "outputs": [],
   "source": [
    "data_path = os.path.join('data.json')\n",
    "dummy_data_path = os.path.join('shared/dummy_data.json')\n",
    "\n",
    "f_raw_input = open(data_path, \"r\")\n",
    "data = json.loads(f_raw_input.read())[\"input_data\"][0]\n",
    "data_tensor = torch.reshape(torch.tensor(data),(1, len(data), 1))\n",
    "\n",
    "#  dummy data for data consumer: make the bound approx same as real data\n",
    "dummy_data = np.random.uniform(min(data), max(data), len(data))\n",
    "json.dump({\"input_data\":[dummy_data.tolist()]}, open(dummy_data_path, 'w'))\n",
    "\n",
    "dummy_data_tensor = torch.reshape(torch.tensor(dummy_data), (1, len(dummy_data),1 ))\n",
    "dummy_theory_output = torch.mean(dummy_data_tensor)\n",
    "\n"
   ]
  },
  {
   "cell_type": "code",
   "execution_count": 61,
   "metadata": {},
   "outputs": [],
   "source": [
    "# Verifier/ data consumer side: send desired calculation\n",
    "class verifier_model(nn.Module):\n",
    "    def __init__(self):\n",
    "        super(verifier_model, self).__init__()\n",
    "        # w represents mean in this case\n",
    "        self.w = nn.Parameter(data = dummy_theory_output, requires_grad = False)\n",
    "\n",
    "    def forward(self,X):\n",
    "        # some expression of tolerance to error in the inference\n",
    "        return (torch.abs(torch.sum(X)-X.size()[1]*(self.w))<0.01*X.size()[1]*(self.w), self.w)\n",
    "    \n",
    "verifier_define_calculation(verifier_model, verifier_model_path, [dummy_data_path])"
   ]
  },
  {
   "cell_type": "code",
   "execution_count": 62,
   "metadata": {},
   "outputs": [
    {
     "name": "stdout",
     "output_type": "stream",
     "text": [
      "Theory_output:  tensor(49.9700)\n",
      "==== Generate & Calibrate Setting ====\n",
      "scale:  default\n",
      "setting:  {\"run_args\":{\"tolerance\":{\"val\":0.0,\"scale\":1.0},\"input_scale\":5,\"param_scale\":5,\"scale_rebase_multiplier\":10,\"lookup_range\":[0,9594],\"logrows\":14,\"num_inner_cols\":1,\"variables\":[[\"batch_size\",1]],\"input_visibility\":{\"Hashed\":{\"hash_is_public\":true,\"outlets\":[]}},\"output_visibility\":\"Public\",\"param_visibility\":\"Private\"},\"num_rows\":14432,\"total_assignments\":606,\"total_const_size\":0,\"model_instance_shapes\":[[1],[1]],\"model_output_scales\":[0,5],\"model_input_scales\":[5],\"module_sizes\":{\"kzg\":[],\"poseidon\":[14432,[1]],\"elgamal\":[0,[0]]},\"required_lookups\":[\"Abs\",{\"GreaterThan\":{\"a\":0.0}}],\"check_mode\":\"UNSAFE\",\"version\":\"5.0.8\",\"num_blinding_factors\":null}\n"
     ]
    }
   ],
   "source": [
    "# prover calculates settings, send to verifier\n",
    "\n",
    "theory_output = torch.mean(data_tensor)\n",
    "print(\"Theory_output: \", theory_output)\n",
    "class prover_model(nn.Module):\n",
    "    def __init__(self):\n",
    "        super(prover_model, self).__init__()\n",
    "        # w represents mean in this case\n",
    "        self.w = nn.Parameter(data = theory_output, requires_grad = False)\n",
    "\n",
    "    def forward(self,X):\n",
    "        # some expression of tolerance to error in the inference\n",
    "        return (torch.abs(torch.sum(X)-X.size()[1]*(self.w))<0.01*X.size()[1]*(self.w), self.w)\n",
    "prover_gen_settings([data_path], comb_data_path, prover_model,prover_model_path, \"default\", \"resources\", settings_path)"
   ]
  },
  {
   "cell_type": "code",
   "execution_count": 63,
   "metadata": {},
   "outputs": [
    {
     "name": "stderr",
     "output_type": "stream",
     "text": [
      "spawning module 0\n",
      "spawning module 2\n"
     ]
    },
    {
     "name": "stdout",
     "output_type": "stream",
     "text": [
      "==== setting up ezkl ====\n"
     ]
    },
    {
     "name": "stderr",
     "output_type": "stream",
     "text": [
      "spawning module 0\n",
      "spawning module 2\n",
      "spawning module 0\n"
     ]
    },
    {
     "name": "stdout",
     "output_type": "stream",
     "text": [
      "Time setup: 1.393484115600586 seconds\n",
      "=======================================\n",
      "Theory output:  tensor(49.9700)\n",
      "==== Generating Witness ====\n",
      "witness boolean:  1.0\n",
      "witness result 1 : 49.96875\n",
      "==== Generating Proof ====\n"
     ]
    },
    {
     "name": "stderr",
     "output_type": "stream",
     "text": [
      "spawning module 2\n"
     ]
    },
    {
     "name": "stdout",
     "output_type": "stream",
     "text": [
      "proof:  {'instances': [[[17236403609878300513, 8975289109583201277, 11033320042856086930, 2298871365537728986], [12436184717236109307, 3962172157175319849, 7381016538464732718, 1011752739694698287], [4072474832971751158, 13621019950687641747, 8349885009801153069, 3312433242047143324]]], 'proof': '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', 'transcript_type': 'EVM'}\n",
      "Time gen prf: 1.9407520294189453 seconds\n"
     ]
    }
   ],
   "source": [
    "# Here verifier & prover can concurrently call setup since all params are public to get pk. \n",
    "# Here write as verifier function to emphasize that verifier must calculate its own vk to be sure\n",
    "verifier_setup(verifier_model_path, verifier_compiled_model_path, settings_path, srs_path,vk_path, pk_path )\n",
    "\n",
    "print(\"=======================================\")\n",
    "# Prover generates proof\n",
    "print(\"Theory output: \", theory_output)\n",
    "prover_gen_proof(prover_model_path, comb_data_path, witness_path, prover_compiled_model_path, settings_path, proof_path, pk_path, srs_path)"
   ]
  },
  {
   "cell_type": "code",
   "execution_count": 64,
   "metadata": {},
   "outputs": [
    {
     "name": "stdout",
     "output_type": "stream",
     "text": [
      "num_inputs:  1\n",
      "prf instances:  [[[17236403609878300513, 8975289109583201277, 11033320042856086930, 2298871365537728986], [12436184717236109307, 3962172157175319849, 7381016538464732718, 1011752739694698287], [4072474832971751158, 13621019950687641747, 8349885009801153069, 3312433242047143324]]]\n",
      "proof boolean:  1.0\n",
      "proof result 1 : 49.96875\n",
      "verified\n"
     ]
    }
   ],
   "source": [
    "# Verifier verifies\n",
    "verifier_verify(proof_path, settings_path, vk_path, srs_path)"
   ]
  },
  {
   "cell_type": "code",
   "execution_count": null,
   "metadata": {},
   "outputs": [],
   "source": []
  }
 ],
 "metadata": {
  "kernelspec": {
   "display_name": "Python 3",
   "language": "python",
   "name": "python3"
  },
  "language_info": {
   "codemirror_mode": {
    "name": "ipython",
    "version": 3
   },
   "file_extension": ".py",
   "mimetype": "text/x-python",
   "name": "python",
   "nbconvert_exporter": "python",
   "pygments_lexer": "ipython3",
   "version": "3.10.0"
  },
  "orig_nbformat": 4
 },
 "nbformat": 4,
 "nbformat_minor": 2
}
