{
 "cells": [
  {
   "cell_type": "code",
   "execution_count": 1,
   "metadata": {},
   "outputs": [],
   "source": [
    "import ezkl\n",
    "import torch\n",
    "from torch import nn\n",
    "import json\n",
    "import os\n",
    "import time\n",
    "import scipy\n",
    "import numpy as np\n",
    "import matplotlib.pyplot as plt\n",
    "import statistics\n",
    "import math"
   ]
  },
  {
   "cell_type": "code",
   "execution_count": 2,
   "metadata": {},
   "outputs": [],
   "source": [
    "from zkstats.core import create_dummy, verifier_define_calculation,prover_gen_settings, setup, prover_gen_proof, verifier_verify, generate_data_commitment"
   ]
  },
  {
   "attachments": {},
   "cell_type": "markdown",
   "metadata": {},
   "source": []
  },
  {
   "cell_type": "code",
   "execution_count": 3,
   "metadata": {},
   "outputs": [],
   "source": [
    "# init path\n",
    "os.makedirs(os.path.dirname('shared/'), exist_ok=True)\n",
    "os.makedirs(os.path.dirname('prover/'), exist_ok=True)\n",
    "verifier_model_path = os.path.join('shared/verifier.onnx')\n",
    "prover_model_path = os.path.join('prover/prover.onnx')\n",
    "verifier_compiled_model_path = os.path.join('shared/verifier.compiled')\n",
    "prover_compiled_model_path = os.path.join('prover/prover.compiled')\n",
    "pk_path = os.path.join('shared/test.pk')\n",
    "vk_path = os.path.join('shared/test.vk')\n",
    "proof_path = os.path.join('shared/test.pf')\n",
    "settings_path = os.path.join('shared/settings.json')\n",
    "srs_path = os.path.join('shared/kzg.srs')\n",
    "witness_path = os.path.join('prover/witness.json')\n",
    "# this is private to prover since it contains actual data\n",
    "sel_data_path = os.path.join('prover/sel_data.json')\n",
    "# this is just dummy random value\n",
    "sel_dummy_data_path = os.path.join('shared/sel_dummy_data.json')\n",
    "data_commitment_path = os.path.join('shared/data_commitment.json')\n",
    "precal_witness_path = os.path.join('shared/precal_witness_arr.json')"
   ]
  },
  {
   "attachments": {},
   "cell_type": "markdown",
   "metadata": {},
   "source": [
    "=======================  ZK-STATS FLOW ======================="
   ]
  },
  {
   "attachments": {},
   "cell_type": "markdown",
   "metadata": {},
   "source": [
    "## Step 1\n",
    "Verifier calls `export_onnx` with dummy data, to generate the onnx model. Dummy data is used to infer the shape of the model\n",
    "\n",
    "### Output\n",
    "- `verifier.onnx` file"
   ]
  },
  {
   "cell_type": "code",
   "execution_count": 4,
   "metadata": {},
   "outputs": [],
   "source": [
    "data_path = os.path.join('data.json')\n",
    "dummy_data_path = os.path.join('shared/dummy_data.json')\n",
    "\n",
    "create_dummy(data_path, dummy_data_path)"
   ]
  },
  {
   "cell_type": "code",
   "execution_count": 5,
   "metadata": {},
   "outputs": [],
   "source": [
    "scales = [3]\n",
    "selected_columns = ['col_name']\n",
    "generate_data_commitment(data_path, scales, data_commitment_path)"
   ]
  },
  {
   "cell_type": "code",
   "execution_count": 6,
   "metadata": {},
   "outputs": [
    {
     "name": "stdout",
     "output_type": "stream",
     "text": [
      "Prover side\n",
      "final op:  <zkstats.ops.Mean object at 0x107f08610>\n",
      "==== Generate & Calibrate Setting ====\n"
     ]
    },
    {
     "name": "stderr",
     "output_type": "stream",
     "text": [
      "/Users/jernkun/Desktop/zk-stats-lib/zkstats/computation.py:198: TracerWarning: torch.tensor results are registered as constants in the trace. You can safely ignore this warning if you use this function to create tensors out of constant variables that would be the same every time you call this function. In any other case, this might cause the trace to be incorrect.\n",
      "  is_precise_aggregated = torch.tensor(1.0)\n",
      "/Users/jernkun/Library/Caches/pypoetry/virtualenvs/zkstats-OJpceffF-py3.11/lib/python3.11/site-packages/torch/onnx/symbolic_opset9.py:2174: FutureWarning: 'torch.onnx.symbolic_opset9._cast_Bool' is deprecated in version 2.0 and will be removed in the future. Please Avoid using this function and create a Cast node instead.\n",
      "  return fn(g, to_cast_func(g, input, False), to_cast_func(g, other, False))\n",
      "/Users/jernkun/Library/Caches/pypoetry/virtualenvs/zkstats-OJpceffF-py3.11/lib/python3.11/site-packages/torch/onnx/utils.py:1703: UserWarning: The exported ONNX model failed ONNX shape inference. The model will not be executable by the ONNX Runtime. If this is unintended and you believe there is a bug, please report an issue at https://github.com/pytorch/pytorch/issues. Error reported by strict ONNX shape inference: [ShapeInferenceError] (op_type:Where, node name: /Where): Y has inconsistent type tensor(float) (Triggered internally at /Users/runner/work/pytorch/pytorch/pytorch/torch/csrc/jit/serialization/export.cpp:1490.)\n",
      "  _C._check_onnx_proto(proto)\n",
      "\n",
      "\n",
      " <------------- Numerical Fidelity Report (input_scale: 3, param_scale: 3, scale_input_multiplier: 10) ------------->\n",
      "\n",
      "+--------------+--------------+-------------+-----------+----------------+------------------+---------------+---------------+--------------------+--------------------+------------------------+\n",
      "| mean_error   | median_error | max_error   | min_error | mean_abs_error | median_abs_error | max_abs_error | min_abs_error | mean_squared_error | mean_percent_error | mean_abs_percent_error |\n",
      "+--------------+--------------+-------------+-----------+----------------+------------------+---------------+---------------+--------------------+--------------------+------------------------+\n",
      "| 0.0044994354 | 0.008998871  | 0.008998871 | 0         | 0.0044994354   | 0.008998871      | 0.008998871   | 0             | 0.00004048984      | 0.00010678871      | 0.00010678871          |\n",
      "+--------------+--------------+-------------+-----------+----------------+------------------+---------------+---------------+--------------------+--------------------+------------------------+\n",
      "\n",
      "\n"
     ]
    },
    {
     "name": "stdout",
     "output_type": "stream",
     "text": [
      "scale:  [3]\n",
      "setting:  {\"run_args\":{\"tolerance\":{\"val\":0.0,\"scale\":1.0},\"input_scale\":3,\"param_scale\":3,\"scale_rebase_multiplier\":10,\"lookup_range\":[-288,300],\"logrows\":12,\"num_inner_cols\":2,\"variables\":[[\"batch_size\",1]],\"input_visibility\":{\"Hashed\":{\"hash_is_public\":true,\"outlets\":[]}},\"output_visibility\":\"Public\",\"param_visibility\":\"Fixed\",\"div_rebasing\":false,\"rebase_frac_zero_constants\":false,\"check_mode\":\"UNSAFE\"},\"num_rows\":3936,\"total_assignments\":1017,\"total_const_size\":361,\"model_instance_shapes\":[[1],[1]],\"model_output_scales\":[0,3],\"model_input_scales\":[3],\"module_sizes\":{\"kzg\":[],\"poseidon\":[3936,[1]]},\"required_lookups\":[\"Abs\",{\"GreaterThan\":{\"a\":0.0}}],\"required_range_checks\":[],\"check_mode\":\"UNSAFE\",\"version\":\"9.1.0\",\"num_blinding_factors\":null,\"timestamp\":1714803593323}\n"
     ]
    }
   ],
   "source": [
    "# Verifier/ data consumer side: send desired calculation\n",
    "from zkstats.computation import computation_to_model, State\n",
    "\n",
    "\n",
    "def computation(s: State, data: list[torch.Tensor]) -> torch.Tensor:\n",
    "    x = data[0]\n",
    "    # print('x comm: ', x)\n",
    "    return s.mean(x)\n",
    "\n",
    "error = 0.01\n",
    "\n",
    "\n",
    "# Prover/ data owner side\n",
    "_, prover_model = computation_to_model(computation, precal_witness_path, True, error)\n",
    "prover_gen_settings(data_path, selected_columns, sel_data_path, prover_model, prover_model_path, scales, \"resources\", settings_path)\n",
    "\n"
   ]
  },
  {
   "attachments": {},
   "cell_type": "markdown",
   "metadata": {},
   "source": [
    "## Step 2\n",
    "- Prover gets the model from the verifier.\n",
    "- Prover overrides the `dummy_theory_output` with `theory_output`\n",
    "- Prover calls `prover_gen_settings`: export onnx file and compute the settings required by `ezkl.calibrate_settings`"
   ]
  },
  {
   "cell_type": "code",
   "execution_count": 7,
   "metadata": {},
   "outputs": [
    {
     "name": "stdout",
     "output_type": "stream",
     "text": [
      "Verifier side\n",
      "mean tensor arr:  [tensor(42.1340)]\n",
      "finish create\n",
      "final op:  <zkstats.ops.Mean object at 0x15ebb8c50>\n"
     ]
    }
   ],
   "source": [
    "# witness_array_data = json.loads(open(witness_array_path, \"r\").read())['value']\n",
    "# witness_array = [torch.tensor(witness_array_data[0])]\n",
    "# print('witness array: ', witness_array)\n",
    "_, verifier_model = computation_to_model(computation, precal_witness_path, False,error)\n",
    "verifier_define_calculation(dummy_data_path, selected_columns, sel_dummy_data_path,verifier_model, verifier_model_path)"
   ]
  },
  {
   "attachments": {},
   "cell_type": "markdown",
   "metadata": {},
   "source": [
    "## Step 3\n",
    "- Prover generates proof with `prover_gen_proof`:\n",
    "    - 1. Compile circuit with `compile_circuit`\n",
    "        - Inputs: onnx model, settings path\n",
    "        - Outputs: compiled \n",
    "    - 2. Generate witness with\n",
    "- Verifier generates keys with "
   ]
  },
  {
   "cell_type": "code",
   "execution_count": 8,
   "metadata": {},
   "outputs": [
    {
     "name": "stdout",
     "output_type": "stream",
     "text": [
      "==== setting up ezkl ====\n",
      "Time setup: 0.581294059753418 seconds\n",
      "=======================================\n",
      "==== Generating Witness ====\n",
      "witness boolean:  1.0\n",
      "witness result 1 : 42.125\n",
      "==== Generating Proof ====\n",
      "proof:  {'instances': [['11e5950d0c875140b38d8b4bc0997697b7b183cfdbc19e767d87caf0020da12a', '0100000000000000000000000000000000000000000000000000000000000000', '5101000000000000000000000000000000000000000000000000000000000000']], 'proof': '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', 'transcript_type': 'EVM'}\n",
      "Time gen prf: 0.6469340324401855 seconds\n"
     ]
    }
   ],
   "source": [
    "# Here verifier & prover can concurrently call setup since all params are public to get pk.\n",
    "# Here write as verifier function to emphasize that verifier must calculate its own vk to be sure\n",
    "setup(verifier_model_path, verifier_compiled_model_path, settings_path,vk_path, pk_path )\n",
    "\n",
    "print(\"=======================================\")\n",
    "# Prover generates proof\n",
    "prover_gen_proof(prover_model_path, sel_data_path, witness_path, prover_compiled_model_path, settings_path, proof_path, pk_path)"
   ]
  },
  {
   "cell_type": "code",
   "execution_count": 9,
   "metadata": {},
   "outputs": [
    {
     "name": "stdout",
     "output_type": "stream",
     "text": [
      "Verifier gets result: [42.125]\n"
     ]
    }
   ],
   "source": [
    "# Verifier verifies\n",
    "res = verifier_verify(proof_path, settings_path, vk_path, selected_columns, data_commitment_path)\n",
    "print(\"Verifier gets result:\", res)"
   ]
  },
  {
   "cell_type": "code",
   "execution_count": null,
   "metadata": {},
   "outputs": [],
   "source": []
  }
 ],
 "metadata": {
  "kernelspec": {
   "display_name": "Python 3",
   "language": "python",
   "name": "python3"
  },
  "language_info": {
   "codemirror_mode": {
    "name": "ipython",
    "version": 3
   },
   "file_extension": ".py",
   "mimetype": "text/x-python",
   "name": "python",
   "nbconvert_exporter": "python",
   "pygments_lexer": "ipython3",
   "version": "3.11.4"
  },
  "orig_nbformat": 4
 },
 "nbformat": 4,
 "nbformat_minor": 2
}
