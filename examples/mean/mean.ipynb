{
 "cells": [
  {
   "cell_type": "code",
   "execution_count": 1,
   "metadata": {},
   "outputs": [
    {
     "name": "stdout",
     "output_type": "stream",
     "text": [
      "Requirement already satisfied: ezkl==5.0.8 in /Library/Frameworks/Python.framework/Versions/3.10/lib/python3.10/site-packages (from -r ../../requirements.txt (line 1)) (5.0.8)\n",
      "Requirement already satisfied: torch in /Library/Frameworks/Python.framework/Versions/3.10/lib/python3.10/site-packages (from -r ../../requirements.txt (line 2)) (2.1.1)\n",
      "Requirement already satisfied: requests in /Library/Frameworks/Python.framework/Versions/3.10/lib/python3.10/site-packages (from -r ../../requirements.txt (line 3)) (2.31.0)\n",
      "Requirement already satisfied: scipy in /Library/Frameworks/Python.framework/Versions/3.10/lib/python3.10/site-packages (from -r ../../requirements.txt (line 4)) (1.11.4)\n",
      "Requirement already satisfied: numpy in /Library/Frameworks/Python.framework/Versions/3.10/lib/python3.10/site-packages (from -r ../../requirements.txt (line 5)) (1.26.2)\n",
      "Requirement already satisfied: matplotlib in /Library/Frameworks/Python.framework/Versions/3.10/lib/python3.10/site-packages (from -r ../../requirements.txt (line 6)) (3.8.2)\n",
      "Requirement already satisfied: statistics in /Library/Frameworks/Python.framework/Versions/3.10/lib/python3.10/site-packages (from -r ../../requirements.txt (line 7)) (1.0.3.5)\n",
      "Requirement already satisfied: onnx in /Library/Frameworks/Python.framework/Versions/3.10/lib/python3.10/site-packages (from -r ../../requirements.txt (line 8)) (1.15.0)\n",
      "Requirement already satisfied: filelock in /Library/Frameworks/Python.framework/Versions/3.10/lib/python3.10/site-packages (from torch->-r ../../requirements.txt (line 2)) (3.13.1)\n",
      "Requirement already satisfied: networkx in /Library/Frameworks/Python.framework/Versions/3.10/lib/python3.10/site-packages (from torch->-r ../../requirements.txt (line 2)) (3.2.1)\n",
      "Requirement already satisfied: fsspec in /Library/Frameworks/Python.framework/Versions/3.10/lib/python3.10/site-packages (from torch->-r ../../requirements.txt (line 2)) (2023.10.0)\n",
      "Requirement already satisfied: sympy in /Library/Frameworks/Python.framework/Versions/3.10/lib/python3.10/site-packages (from torch->-r ../../requirements.txt (line 2)) (1.12)\n",
      "Requirement already satisfied: typing-extensions in /Library/Frameworks/Python.framework/Versions/3.10/lib/python3.10/site-packages (from torch->-r ../../requirements.txt (line 2)) (4.8.0)\n",
      "Requirement already satisfied: jinja2 in /Library/Frameworks/Python.framework/Versions/3.10/lib/python3.10/site-packages (from torch->-r ../../requirements.txt (line 2)) (3.1.2)\n",
      "Requirement already satisfied: urllib3<3,>=1.21.1 in /Library/Frameworks/Python.framework/Versions/3.10/lib/python3.10/site-packages (from requests->-r ../../requirements.txt (line 3)) (2.1.0)\n",
      "Requirement already satisfied: certifi>=2017.4.17 in /Library/Frameworks/Python.framework/Versions/3.10/lib/python3.10/site-packages (from requests->-r ../../requirements.txt (line 3)) (2023.11.17)\n",
      "Requirement already satisfied: charset-normalizer<4,>=2 in /Library/Frameworks/Python.framework/Versions/3.10/lib/python3.10/site-packages (from requests->-r ../../requirements.txt (line 3)) (3.3.2)\n",
      "Requirement already satisfied: idna<4,>=2.5 in /Library/Frameworks/Python.framework/Versions/3.10/lib/python3.10/site-packages (from requests->-r ../../requirements.txt (line 3)) (3.6)\n",
      "Requirement already satisfied: cycler>=0.10 in /Library/Frameworks/Python.framework/Versions/3.10/lib/python3.10/site-packages (from matplotlib->-r ../../requirements.txt (line 6)) (0.12.1)\n",
      "Requirement already satisfied: kiwisolver>=1.3.1 in /Library/Frameworks/Python.framework/Versions/3.10/lib/python3.10/site-packages (from matplotlib->-r ../../requirements.txt (line 6)) (1.4.5)\n",
      "Requirement already satisfied: fonttools>=4.22.0 in /Library/Frameworks/Python.framework/Versions/3.10/lib/python3.10/site-packages (from matplotlib->-r ../../requirements.txt (line 6)) (4.45.1)\n",
      "Requirement already satisfied: packaging>=20.0 in /Users/jernkun/Library/Python/3.10/lib/python/site-packages (from matplotlib->-r ../../requirements.txt (line 6)) (23.2)\n",
      "Requirement already satisfied: python-dateutil>=2.7 in /Users/jernkun/Library/Python/3.10/lib/python/site-packages (from matplotlib->-r ../../requirements.txt (line 6)) (2.8.2)\n",
      "Requirement already satisfied: contourpy>=1.0.1 in /Library/Frameworks/Python.framework/Versions/3.10/lib/python3.10/site-packages (from matplotlib->-r ../../requirements.txt (line 6)) (1.2.0)\n",
      "Requirement already satisfied: pillow>=8 in /Library/Frameworks/Python.framework/Versions/3.10/lib/python3.10/site-packages (from matplotlib->-r ../../requirements.txt (line 6)) (10.1.0)\n",
      "Requirement already satisfied: pyparsing>=2.3.1 in /Library/Frameworks/Python.framework/Versions/3.10/lib/python3.10/site-packages (from matplotlib->-r ../../requirements.txt (line 6)) (3.1.1)\n",
      "Requirement already satisfied: docutils>=0.3 in /Library/Frameworks/Python.framework/Versions/3.10/lib/python3.10/site-packages (from statistics->-r ../../requirements.txt (line 7)) (0.20.1)\n",
      "Requirement already satisfied: protobuf>=3.20.2 in /Library/Frameworks/Python.framework/Versions/3.10/lib/python3.10/site-packages (from onnx->-r ../../requirements.txt (line 8)) (4.25.1)\n",
      "Requirement already satisfied: six>=1.5 in /Users/jernkun/Library/Python/3.10/lib/python/site-packages (from python-dateutil>=2.7->matplotlib->-r ../../requirements.txt (line 6)) (1.16.0)\n",
      "Requirement already satisfied: MarkupSafe>=2.0 in /Library/Frameworks/Python.framework/Versions/3.10/lib/python3.10/site-packages (from jinja2->torch->-r ../../requirements.txt (line 2)) (2.1.3)\n",
      "Requirement already satisfied: mpmath>=0.19 in /Library/Frameworks/Python.framework/Versions/3.10/lib/python3.10/site-packages (from sympy->torch->-r ../../requirements.txt (line 2)) (1.3.0)\n",
      "\u001b[33mWARNING: You are using pip version 21.2.3; however, version 23.3.1 is available.\n",
      "You should consider upgrading via the '/usr/local/bin/python3 -m pip install --upgrade pip' command.\u001b[0m\n",
      "Note: you may need to restart the kernel to use updated packages.\n"
     ]
    }
   ],
   "source": [
    "pip install -r ../../requirements.txt"
   ]
  },
  {
   "cell_type": "code",
   "execution_count": 1,
   "metadata": {},
   "outputs": [],
   "source": [
    "import ezkl\n",
    "import torch\n",
    "from torch import nn\n",
    "import json\n",
    "import os\n",
    "import time\n",
    "import scipy\n",
    "import numpy as np\n",
    "import matplotlib.pyplot as plt\n",
    "import statistics\n",
    "import math"
   ]
  },
  {
   "cell_type": "code",
   "execution_count": 5,
   "metadata": {},
   "outputs": [],
   "source": [
    "%run -i ../../core.py"
   ]
  },
  {
   "attachments": {},
   "cell_type": "markdown",
   "metadata": {},
   "source": []
  },
  {
   "cell_type": "code",
   "execution_count": 2,
   "metadata": {},
   "outputs": [],
   "source": [
    "# init path\n",
    "os.makedirs(os.path.dirname('shared/'), exist_ok=True)\n",
    "os.makedirs(os.path.dirname('prover/'), exist_ok=True)\n",
    "verifier_model_path = os.path.join('shared/verifier.onnx')\n",
    "prover_model_path = os.path.join('prover/prover.onnx')\n",
    "verifier_compiled_model_path = os.path.join('shared/verifier.compiled')\n",
    "prover_compiled_model_path = os.path.join('prover/prover.compiled')\n",
    "pk_path = os.path.join('shared/test.pk')\n",
    "vk_path = os.path.join('shared/test.vk')\n",
    "proof_path = os.path.join('shared/test.pf')\n",
    "settings_path = os.path.join('shared/settings.json')\n",
    "srs_path = os.path.join('shared/kzg.srs')\n",
    "witness_path = os.path.join('prover/witness.json')\n",
    "# this is private to prover since it contains actual data\n",
    "comb_data_path = os.path.join('prover/comb_data.json')"
   ]
  },
  {
   "attachments": {},
   "cell_type": "markdown",
   "metadata": {},
   "source": [
    "=======================  ZK-STATS FLOW ======================="
   ]
  },
  {
   "cell_type": "code",
   "execution_count": 3,
   "metadata": {},
   "outputs": [],
   "source": [
    "data_path = os.path.join('data.json')\n",
    "dummy_data_path = os.path.join('shared/dummy_data.json')\n",
    "\n",
    "f_raw_input = open(data_path, \"r\")\n",
    "data = json.loads(f_raw_input.read())[\"input_data\"][0]\n",
    "data_tensor = torch.reshape(torch.tensor(data),(1, len(data), 1))\n",
    "\n",
    "#  dummy data for data consumer: make the bound approx same as real data\n",
    "dummy_data = np.random.uniform(min(data), max(data), len(data))\n",
    "json.dump({\"input_data\":[dummy_data.tolist()]}, open(dummy_data_path, 'w'))\n",
    "\n",
    "dummy_data_tensor = torch.reshape(torch.tensor(dummy_data), (1, len(dummy_data),1 ))\n",
    "dummy_theory_output = torch.mean(dummy_data_tensor)\n",
    "\n"
   ]
  },
  {
   "cell_type": "code",
   "execution_count": 11,
   "metadata": {},
   "outputs": [],
   "source": [
    "# Verifier/ data consumer side: send desired calculation\n",
    "class verifier_model(nn.Module):\n",
    "    def __init__(self):\n",
    "        super(verifier_model, self).__init__()\n",
    "        # w represents mean in this case\n",
    "        self.w = nn.Parameter(data = dummy_theory_output, requires_grad = False)\n",
    "\n",
    "    def forward(self,X):\n",
    "        # some expression of tolerance to error in the inference\n",
    "        return (torch.abs(torch.sum(X)-X.size()[1]*(self.w))<0.01*X.size()[1]*(self.w), self.w)\n",
    "    \n",
    "verifier_define_calculation(verifier_model, verifier_model_path, [dummy_data_path])"
   ]
  },
  {
   "cell_type": "code",
   "execution_count": 12,
   "metadata": {},
   "outputs": [
    {
     "name": "stdout",
     "output_type": "stream",
     "text": [
      "Theory_output:  tensor(49.9700)\n",
      "==== Generate & Calibrate Setting ====\n",
      "scale:  [0]\n",
      "setting:  {\"run_args\":{\"tolerance\":{\"val\":0.0,\"scale\":1.0},\"input_scale\":0,\"param_scale\":0,\"scale_rebase_multiplier\":10,\"lookup_range\":[0,300],\"logrows\":14,\"num_inner_cols\":1,\"variables\":[[\"batch_size\",1]],\"input_visibility\":{\"Hashed\":{\"hash_is_public\":true,\"outlets\":[]}},\"output_visibility\":\"Public\",\"param_visibility\":\"Private\"},\"num_rows\":14432,\"total_assignments\":606,\"total_const_size\":0,\"model_instance_shapes\":[[1],[1]],\"model_output_scales\":[0,0],\"model_input_scales\":[0],\"module_sizes\":{\"kzg\":[],\"poseidon\":[14432,[1]],\"elgamal\":[0,[0]]},\"required_lookups\":[\"Abs\",{\"GreaterThan\":{\"a\":0.0}}],\"check_mode\":\"UNSAFE\",\"version\":\"5.0.8\",\"num_blinding_factors\":null}\n"
     ]
    }
   ],
   "source": [
    "# prover calculates settings, send to verifier\n",
    "\n",
    "theory_output = torch.mean(data_tensor)\n",
    "print(\"Theory_output: \", theory_output)\n",
    "class prover_model(nn.Module):\n",
    "    def __init__(self):\n",
    "        super(prover_model, self).__init__()\n",
    "        # w represents mean in this case\n",
    "        self.w = nn.Parameter(data = theory_output, requires_grad = False)\n",
    "\n",
    "    def forward(self,X):\n",
    "        # some expression of tolerance to error in the inference\n",
    "        return (torch.abs(torch.sum(X)-X.size()[1]*(self.w))<0.01*X.size()[1]*(self.w), self.w)\n",
    "prover_gen_settings([data_path], comb_data_path, prover_model,prover_model_path, [0], \"resources\", settings_path)"
   ]
  },
  {
   "cell_type": "code",
   "execution_count": 13,
   "metadata": {},
   "outputs": [
    {
     "name": "stderr",
     "output_type": "stream",
     "text": [
      "spawning module 0\n",
      "spawning module 2\n"
     ]
    },
    {
     "name": "stdout",
     "output_type": "stream",
     "text": [
      "==== setting up ezkl ====\n"
     ]
    },
    {
     "name": "stderr",
     "output_type": "stream",
     "text": [
      "spawning module 0\n",
      "spawning module 2\n",
      "spawning module 0\n"
     ]
    },
    {
     "name": "stdout",
     "output_type": "stream",
     "text": [
      "Time setup: 1.4108660221099854 seconds\n",
      "=======================================\n",
      "Theory output:  tensor(49.9700)\n",
      "==== Generating Witness ====\n",
      "witness boolean:  1.0\n",
      "witness result 1 : 50.0\n",
      "==== Generating Proof ====\n"
     ]
    },
    {
     "name": "stderr",
     "output_type": "stream",
     "text": [
      "spawning module 2\n"
     ]
    },
    {
     "name": "stdout",
     "output_type": "stream",
     "text": [
      "proof:  {'instances': [[[10512373747352303962, 11798585516934984832, 13421675179368312123, 2200257403316998104], [12436184717236109307, 3962172157175319849, 7381016538464732718, 1011752739694698287], [18373208119716085496, 9977853902793730609, 17093442942004944878, 1769661249493325049]]], 'proof': '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', 'transcript_type': 'EVM'}\n",
      "Time gen prf: 1.9174342155456543 seconds\n"
     ]
    }
   ],
   "source": [
    "# Here verifier & prover can concurrently call setup since all params are public to get pk. \n",
    "# Here write as verifier function to emphasize that verifier must calculate its own vk to be sure\n",
    "verifier_setup(verifier_model_path, verifier_compiled_model_path, settings_path, srs_path,vk_path, pk_path )\n",
    "\n",
    "print(\"=======================================\")\n",
    "# Prover generates proof\n",
    "print(\"Theory output: \", theory_output)\n",
    "prover_gen_proof(prover_model_path, comb_data_path, witness_path, prover_compiled_model_path, settings_path, proof_path, pk_path, srs_path)"
   ]
  },
  {
   "cell_type": "code",
   "execution_count": 14,
   "metadata": {},
   "outputs": [
    {
     "name": "stdout",
     "output_type": "stream",
     "text": [
      "num_inputs:  1\n",
      "prf instances:  [[[10512373747352303962, 11798585516934984832, 13421675179368312123, 2200257403316998104], [12436184717236109307, 3962172157175319849, 7381016538464732718, 1011752739694698287], [18373208119716085496, 9977853902793730609, 17093442942004944878, 1769661249493325049]]]\n",
      "proof boolean:  1.0\n",
      "proof result 1 : 50.0\n",
      "verified\n"
     ]
    }
   ],
   "source": [
    "# Verifier verifies\n",
    "verifier_verify(proof_path, settings_path, vk_path, srs_path)"
   ]
  },
  {
   "cell_type": "code",
   "execution_count": null,
   "metadata": {},
   "outputs": [],
   "source": []
  }
 ],
 "metadata": {
  "kernelspec": {
   "display_name": "Python 3",
   "language": "python",
   "name": "python3"
  },
  "language_info": {
   "codemirror_mode": {
    "name": "ipython",
    "version": 3
   },
   "file_extension": ".py",
   "mimetype": "text/x-python",
   "name": "python",
   "nbconvert_exporter": "python",
   "pygments_lexer": "ipython3",
   "version": "3.10.0"
  },
  "orig_nbformat": 4
 },
 "nbformat": 4,
 "nbformat_minor": 2
}
