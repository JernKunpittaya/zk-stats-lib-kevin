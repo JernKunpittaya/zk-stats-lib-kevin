{
 "cells": [
  {
   "cell_type": "code",
   "execution_count": 1,
   "metadata": {},
   "outputs": [
    {
     "name": "stdout",
     "output_type": "stream",
     "text": [
      "Requirement already satisfied: ezkl==9.1.0 in /Users/jernkun/Library/Caches/pypoetry/virtualenvs/zkstats-OJpceffF-py3.11/lib/python3.11/site-packages (from -r ../../requirements.txt (line 1)) (9.1.0)\n",
      "Requirement already satisfied: torch in /Users/jernkun/Library/Caches/pypoetry/virtualenvs/zkstats-OJpceffF-py3.11/lib/python3.11/site-packages (from -r ../../requirements.txt (line 2)) (2.2.1)\n",
      "Requirement already satisfied: requests in /Users/jernkun/Library/Caches/pypoetry/virtualenvs/zkstats-OJpceffF-py3.11/lib/python3.11/site-packages (from -r ../../requirements.txt (line 3)) (2.31.0)\n",
      "Requirement already satisfied: scipy in /Users/jernkun/Library/Caches/pypoetry/virtualenvs/zkstats-OJpceffF-py3.11/lib/python3.11/site-packages (from -r ../../requirements.txt (line 4)) (1.12.0)\n",
      "Requirement already satisfied: numpy in /Users/jernkun/Library/Caches/pypoetry/virtualenvs/zkstats-OJpceffF-py3.11/lib/python3.11/site-packages (from -r ../../requirements.txt (line 5)) (1.26.4)\n",
      "Requirement already satisfied: matplotlib in /Users/jernkun/Library/Caches/pypoetry/virtualenvs/zkstats-OJpceffF-py3.11/lib/python3.11/site-packages (from -r ../../requirements.txt (line 6)) (3.8.3)\n",
      "Requirement already satisfied: statistics in /Users/jernkun/Library/Caches/pypoetry/virtualenvs/zkstats-OJpceffF-py3.11/lib/python3.11/site-packages (from -r ../../requirements.txt (line 7)) (1.0.3.5)\n",
      "Requirement already satisfied: onnx in /Users/jernkun/Library/Caches/pypoetry/virtualenvs/zkstats-OJpceffF-py3.11/lib/python3.11/site-packages (from -r ../../requirements.txt (line 8)) (1.15.0)\n",
      "Requirement already satisfied: filelock in /Users/jernkun/Library/Caches/pypoetry/virtualenvs/zkstats-OJpceffF-py3.11/lib/python3.11/site-packages (from torch->-r ../../requirements.txt (line 2)) (3.13.1)\n",
      "Requirement already satisfied: typing-extensions>=4.8.0 in /Users/jernkun/Library/Caches/pypoetry/virtualenvs/zkstats-OJpceffF-py3.11/lib/python3.11/site-packages (from torch->-r ../../requirements.txt (line 2)) (4.10.0)\n",
      "Requirement already satisfied: sympy in /Users/jernkun/Library/Caches/pypoetry/virtualenvs/zkstats-OJpceffF-py3.11/lib/python3.11/site-packages (from torch->-r ../../requirements.txt (line 2)) (1.12)\n",
      "Requirement already satisfied: networkx in /Users/jernkun/Library/Caches/pypoetry/virtualenvs/zkstats-OJpceffF-py3.11/lib/python3.11/site-packages (from torch->-r ../../requirements.txt (line 2)) (3.2.1)\n",
      "Requirement already satisfied: jinja2 in /Users/jernkun/Library/Caches/pypoetry/virtualenvs/zkstats-OJpceffF-py3.11/lib/python3.11/site-packages (from torch->-r ../../requirements.txt (line 2)) (3.1.3)\n",
      "Requirement already satisfied: fsspec in /Users/jernkun/Library/Caches/pypoetry/virtualenvs/zkstats-OJpceffF-py3.11/lib/python3.11/site-packages (from torch->-r ../../requirements.txt (line 2)) (2024.2.0)\n",
      "Requirement already satisfied: charset-normalizer<4,>=2 in /Users/jernkun/Library/Caches/pypoetry/virtualenvs/zkstats-OJpceffF-py3.11/lib/python3.11/site-packages (from requests->-r ../../requirements.txt (line 3)) (3.3.2)\n",
      "Requirement already satisfied: idna<4,>=2.5 in /Users/jernkun/Library/Caches/pypoetry/virtualenvs/zkstats-OJpceffF-py3.11/lib/python3.11/site-packages (from requests->-r ../../requirements.txt (line 3)) (3.6)\n",
      "Requirement already satisfied: urllib3<3,>=1.21.1 in /Users/jernkun/Library/Caches/pypoetry/virtualenvs/zkstats-OJpceffF-py3.11/lib/python3.11/site-packages (from requests->-r ../../requirements.txt (line 3)) (2.2.1)\n",
      "Requirement already satisfied: certifi>=2017.4.17 in /Users/jernkun/Library/Caches/pypoetry/virtualenvs/zkstats-OJpceffF-py3.11/lib/python3.11/site-packages (from requests->-r ../../requirements.txt (line 3)) (2024.2.2)\n",
      "Requirement already satisfied: contourpy>=1.0.1 in /Users/jernkun/Library/Caches/pypoetry/virtualenvs/zkstats-OJpceffF-py3.11/lib/python3.11/site-packages (from matplotlib->-r ../../requirements.txt (line 6)) (1.2.0)\n",
      "Requirement already satisfied: cycler>=0.10 in /Users/jernkun/Library/Caches/pypoetry/virtualenvs/zkstats-OJpceffF-py3.11/lib/python3.11/site-packages (from matplotlib->-r ../../requirements.txt (line 6)) (0.12.1)\n",
      "Requirement already satisfied: fonttools>=4.22.0 in /Users/jernkun/Library/Caches/pypoetry/virtualenvs/zkstats-OJpceffF-py3.11/lib/python3.11/site-packages (from matplotlib->-r ../../requirements.txt (line 6)) (4.49.0)\n",
      "Requirement already satisfied: kiwisolver>=1.3.1 in /Users/jernkun/Library/Caches/pypoetry/virtualenvs/zkstats-OJpceffF-py3.11/lib/python3.11/site-packages (from matplotlib->-r ../../requirements.txt (line 6)) (1.4.5)\n",
      "Requirement already satisfied: packaging>=20.0 in /Users/jernkun/Library/Caches/pypoetry/virtualenvs/zkstats-OJpceffF-py3.11/lib/python3.11/site-packages (from matplotlib->-r ../../requirements.txt (line 6)) (23.2)\n",
      "Requirement already satisfied: pillow>=8 in /Users/jernkun/Library/Caches/pypoetry/virtualenvs/zkstats-OJpceffF-py3.11/lib/python3.11/site-packages (from matplotlib->-r ../../requirements.txt (line 6)) (10.2.0)\n",
      "Requirement already satisfied: pyparsing>=2.3.1 in /Users/jernkun/Library/Caches/pypoetry/virtualenvs/zkstats-OJpceffF-py3.11/lib/python3.11/site-packages (from matplotlib->-r ../../requirements.txt (line 6)) (3.1.1)\n",
      "Requirement already satisfied: python-dateutil>=2.7 in /Users/jernkun/Library/Caches/pypoetry/virtualenvs/zkstats-OJpceffF-py3.11/lib/python3.11/site-packages (from matplotlib->-r ../../requirements.txt (line 6)) (2.9.0.post0)\n",
      "Requirement already satisfied: docutils>=0.3 in /Users/jernkun/Library/Caches/pypoetry/virtualenvs/zkstats-OJpceffF-py3.11/lib/python3.11/site-packages (from statistics->-r ../../requirements.txt (line 7)) (0.20.1)\n",
      "Requirement already satisfied: protobuf>=3.20.2 in /Users/jernkun/Library/Caches/pypoetry/virtualenvs/zkstats-OJpceffF-py3.11/lib/python3.11/site-packages (from onnx->-r ../../requirements.txt (line 8)) (4.25.3)\n",
      "Requirement already satisfied: six>=1.5 in /Users/jernkun/Library/Caches/pypoetry/virtualenvs/zkstats-OJpceffF-py3.11/lib/python3.11/site-packages (from python-dateutil>=2.7->matplotlib->-r ../../requirements.txt (line 6)) (1.16.0)\n",
      "Requirement already satisfied: MarkupSafe>=2.0 in /Users/jernkun/Library/Caches/pypoetry/virtualenvs/zkstats-OJpceffF-py3.11/lib/python3.11/site-packages (from jinja2->torch->-r ../../requirements.txt (line 2)) (2.1.5)\n",
      "Requirement already satisfied: mpmath>=0.19 in /Users/jernkun/Library/Caches/pypoetry/virtualenvs/zkstats-OJpceffF-py3.11/lib/python3.11/site-packages (from sympy->torch->-r ../../requirements.txt (line 2)) (1.3.0)\n",
      "\n",
      "\u001b[1m[\u001b[0m\u001b[34;49mnotice\u001b[0m\u001b[1;39;49m]\u001b[0m\u001b[39;49m A new release of pip is available: \u001b[0m\u001b[31;49m23.2.1\u001b[0m\u001b[39;49m -> \u001b[0m\u001b[32;49m24.0\u001b[0m\n",
      "\u001b[1m[\u001b[0m\u001b[34;49mnotice\u001b[0m\u001b[1;39;49m]\u001b[0m\u001b[39;49m To update, run: \u001b[0m\u001b[32;49mpip install --upgrade pip\u001b[0m\n",
      "Note: you may need to restart the kernel to use updated packages.\n"
     ]
    }
   ],
   "source": [
    "pip install -r ../../requirements.txt"
   ]
  },
  {
   "cell_type": "code",
   "execution_count": 2,
   "metadata": {},
   "outputs": [],
   "source": [
    "import ezkl\n",
    "import torch\n",
    "from torch import nn\n",
    "import json\n",
    "import os\n",
    "import time\n",
    "import scipy\n",
    "import numpy as np\n",
    "import matplotlib.pyplot as plt\n",
    "import statistics\n",
    "import math"
   ]
  },
  {
   "cell_type": "code",
   "execution_count": 3,
   "metadata": {},
   "outputs": [],
   "source": [
    "from zkstats.core import create_dummy, verifier_define_calculation, prover_gen_settings, setup, prover_gen_proof, verifier_verify, get_data_commitment_maps"
   ]
  },
  {
   "attachments": {},
   "cell_type": "markdown",
   "metadata": {},
   "source": []
  },
  {
   "cell_type": "code",
   "execution_count": 4,
   "metadata": {},
   "outputs": [],
   "source": [
    "# init path\n",
    "os.makedirs(os.path.dirname('shared/'), exist_ok=True)\n",
    "os.makedirs(os.path.dirname('prover/'), exist_ok=True)\n",
    "verifier_model_path = os.path.join('shared/verifier.onnx')\n",
    "prover_model_path = os.path.join('prover/prover.onnx')\n",
    "verifier_compiled_model_path = os.path.join('shared/verifier.compiled')\n",
    "prover_compiled_model_path = os.path.join('prover/prover.compiled')\n",
    "pk_path = os.path.join('shared/test.pk')\n",
    "vk_path = os.path.join('shared/test.vk')\n",
    "proof_path = os.path.join('shared/test.pf')\n",
    "settings_path = os.path.join('shared/settings.json')\n",
    "srs_path = os.path.join('shared/kzg.srs')\n",
    "witness_path = os.path.join('prover/witness.json')\n",
    "# this is private to prover since it contains actual data\n",
    "sel_data_path = os.path.join('prover/sel_data.json')\n",
    "# this is just dummy random value\n",
    "sel_dummy_data_path = os.path.join('shared/sel_dummy_data.json')"
   ]
  },
  {
   "attachments": {},
   "cell_type": "markdown",
   "metadata": {},
   "source": [
    "=======================  ZK-STATS FLOW ======================="
   ]
  },
  {
   "attachments": {},
   "cell_type": "markdown",
   "metadata": {},
   "source": [
    "## Step 1\n",
    "Verifier calls `export_onnx` with dummy data, to generate the onnx model. Dummy data is used to infer the shape of the model\n",
    "\n",
    "### Output\n",
    "- `verifier.onnx` file"
   ]
  },
  {
   "cell_type": "code",
   "execution_count": 5,
   "metadata": {},
   "outputs": [],
   "source": [
    "data_path = os.path.join('data.json')\n",
    "dummy_data_path = os.path.join('shared/dummy_data.json')\n",
    "\n",
    "create_dummy(data_path, dummy_data_path)"
   ]
  },
  {
   "cell_type": "code",
   "execution_count": 6,
   "metadata": {},
   "outputs": [],
   "source": [
    "scales = [6]\n",
    "selected_columns = ['col_name']\n",
    "commitment_maps = get_data_commitment_maps(data_path, scales)"
   ]
  },
  {
   "cell_type": "code",
   "execution_count": 7,
   "metadata": {},
   "outputs": [
    {
     "name": "stderr",
     "output_type": "stream",
     "text": [
      "/Users/jernkun/Desktop/zk-stats-lib/zkstats/computation.py:172: TracerWarning: torch.tensor results are registered as constants in the trace. You can safely ignore this warning if you use this function to create tensors out of constant variables that would be the same every time you call this function. In any other case, this might cause the trace to be incorrect.\n",
      "  is_precise_aggregated = torch.tensor(1.0)\n",
      "/Users/jernkun/Library/Caches/pypoetry/virtualenvs/zkstats-OJpceffF-py3.11/lib/python3.11/site-packages/torch/onnx/symbolic_opset9.py:2174: FutureWarning: 'torch.onnx.symbolic_opset9._cast_Bool' is deprecated in version 2.0 and will be removed in the future. Please Avoid using this function and create a Cast node instead.\n",
      "  return fn(g, to_cast_func(g, input, False), to_cast_func(g, other, False))\n",
      "/Users/jernkun/Library/Caches/pypoetry/virtualenvs/zkstats-OJpceffF-py3.11/lib/python3.11/site-packages/torch/onnx/utils.py:1703: UserWarning: The exported ONNX model failed ONNX shape inference. The model will not be executable by the ONNX Runtime. If this is unintended and you believe there is a bug, please report an issue at https://github.com/pytorch/pytorch/issues. Error reported by strict ONNX shape inference: [ShapeInferenceError] (op_type:Where, node name: /Where): Y has inconsistent type tensor(float) (Triggered internally at /Users/runner/work/pytorch/pytorch/pytorch/torch/csrc/jit/serialization/export.cpp:1490.)\n",
      "  _C._check_onnx_proto(proto)\n"
     ]
    }
   ],
   "source": [
    "# Verifier/ data consumer side: send desired calculation\n",
    "from zkstats.computation import computation_to_model, State\n",
    "\n",
    "\n",
    "def computation(s: State, data: list[torch.Tensor]) -> torch.Tensor:\n",
    "    x = data[0]\n",
    "    return s.mean(x)\n",
    "\n",
    "error = 0.01\n",
    "_, verifier_model = computation_to_model(computation, error)\n",
    "\n",
    "verifier_define_calculation(dummy_data_path, selected_columns, sel_dummy_data_path,verifier_model, verifier_model_path)"
   ]
  },
  {
   "attachments": {},
   "cell_type": "markdown",
   "metadata": {},
   "source": [
    "## Step 2\n",
    "- Prover gets the model from the verifier.\n",
    "- Prover overrides the `dummy_theory_output` with `theory_output`\n",
    "- Prover calls `prover_gen_settings`: export onnx file and compute the settings required by `ezkl.calibrate_settings`"
   ]
  },
  {
   "cell_type": "code",
   "execution_count": 8,
   "metadata": {},
   "outputs": [
    {
     "name": "stderr",
     "output_type": "stream",
     "text": [
      "\n",
      "\n",
      " <------------- Numerical Fidelity Report (input_scale: 6, param_scale: 6, scale_input_multiplier: 1) ------------->\n",
      "\n",
      "+---------------+--------------+-----------+--------------+----------------+------------------+---------------+---------------+--------------------+--------------------+------------------------+\n",
      "| mean_error    | median_error | max_error | min_error    | mean_abs_error | median_abs_error | max_abs_error | min_abs_error | mean_squared_error | mean_percent_error | mean_abs_percent_error |\n",
      "+---------------+--------------+-----------+--------------+----------------+------------------+---------------+---------------+--------------------+--------------------+------------------------+\n",
      "| -0.0033130646 | -0.006626129 | 0         | -0.006626129 | 0.0033130646   | 0.006626129      | 0.006626129   | 0             | 0.000021952794     | -0.00007863162     | 0.00007863162          |\n",
      "+---------------+--------------+-----------+--------------+----------------+------------------+---------------+---------------+--------------------+--------------------+------------------------+\n",
      "\n",
      "\n"
     ]
    },
    {
     "name": "stdout",
     "output_type": "stream",
     "text": [
      "==== Generate & Calibrate Setting ====\n",
      "scale:  [6]\n",
      "setting:  {\"run_args\":{\"tolerance\":{\"val\":0.0,\"scale\":1.0},\"input_scale\":6,\"param_scale\":6,\"scale_rebase_multiplier\":1,\"lookup_range\":[-4178,4214],\"logrows\":14,\"num_inner_cols\":2,\"variables\":[[\"batch_size\",1]],\"input_visibility\":{\"Hashed\":{\"hash_is_public\":true,\"outlets\":[]}},\"output_visibility\":\"Public\",\"param_visibility\":\"Private\",\"div_rebasing\":false,\"rebase_frac_zero_constants\":false,\"check_mode\":\"UNSAFE\"},\"num_rows\":3936,\"total_assignments\":1072,\"total_const_size\":259,\"model_instance_shapes\":[[1],[1]],\"model_output_scales\":[0,6],\"model_input_scales\":[6],\"module_sizes\":{\"kzg\":[],\"poseidon\":[3936,[1]]},\"required_lookups\":[{\"GreaterThan\":{\"a\":0.0}},\"Abs\"],\"required_range_checks\":[[-32,32]],\"check_mode\":\"UNSAFE\",\"version\":\"9.1.0\",\"num_blinding_factors\":null,\"timestamp\":1709648929093}\n"
     ]
    }
   ],
   "source": [
    "# Prover/ data owner side\n",
    "_, prover_model = computation_to_model(computation, error)\n",
    "\n",
    "prover_gen_settings(data_path, selected_columns, sel_data_path, prover_model, prover_model_path, scales, \"resources\", settings_path)"
   ]
  },
  {
   "attachments": {},
   "cell_type": "markdown",
   "metadata": {},
   "source": [
    "## Step 3\n",
    "- Prover generates proof with `prover_gen_proof`:\n",
    "    - 1. Compile circuit with `compile_circuit`\n",
    "        - Inputs: onnx model, settings path\n",
    "        - Outputs: compiled \n",
    "    - 2. Generate witness with\n",
    "- Verifier generates keys with "
   ]
  },
  {
   "cell_type": "code",
   "execution_count": 9,
   "metadata": {},
   "outputs": [
    {
     "name": "stdout",
     "output_type": "stream",
     "text": [
      "==== setting up ezkl ====\n",
      "Time setup: 1.5370519161224365 seconds\n",
      "=======================================\n",
      "==== Generating Witness ====\n",
      "witness boolean:  1.0\n",
      "witness result 1 : 42.140625\n",
      "==== Generating Proof ====\n",
      "proof:  {'instances': [['159d5a48320dc54ddd1509cbce7735d7023208f7ef0fbd15f52b3d492af42613', '0100000000000000000000000000000000000000000000000000000000000000', '890a000000000000000000000000000000000000000000000000000000000000']], 'proof': '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', 'transcript_type': 'EVM'}\n",
      "Time gen prf: 1.9972820281982422 seconds\n"
     ]
    }
   ],
   "source": [
    "# Here verifier & prover can concurrently call setup since all params are public to get pk.\n",
    "# Here write as verifier function to emphasize that verifier must calculate its own vk to be sure\n",
    "setup(verifier_model_path, verifier_compiled_model_path, settings_path,vk_path, pk_path )\n",
    "\n",
    "print(\"=======================================\")\n",
    "# Prover generates proof\n",
    "prover_gen_proof(prover_model_path, sel_data_path, witness_path, prover_compiled_model_path, settings_path, proof_path, pk_path)"
   ]
  },
  {
   "cell_type": "code",
   "execution_count": 10,
   "metadata": {},
   "outputs": [
    {
     "name": "stdout",
     "output_type": "stream",
     "text": [
      "Verifier gets result: [42.140625]\n"
     ]
    }
   ],
   "source": [
    "# Verifier verifies\n",
    "res = verifier_verify(proof_path, settings_path, vk_path, selected_columns, commitment_maps)\n",
    "print(\"Verifier gets result:\", res)"
   ]
  },
  {
   "cell_type": "code",
   "execution_count": null,
   "metadata": {},
   "outputs": [],
   "source": []
  }
 ],
 "metadata": {
  "kernelspec": {
   "display_name": "Python 3",
   "language": "python",
   "name": "python3"
  },
  "language_info": {
   "codemirror_mode": {
    "name": "ipython",
    "version": 3
   },
   "file_extension": ".py",
   "mimetype": "text/x-python",
   "name": "python",
   "nbconvert_exporter": "python",
   "pygments_lexer": "ipython3",
   "version": "3.11.4"
  },
  "orig_nbformat": 4
 },
 "nbformat": 4,
 "nbformat_minor": 2
}
