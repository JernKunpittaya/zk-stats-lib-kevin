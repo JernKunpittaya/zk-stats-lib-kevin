{
 "cells": [
  {
   "cell_type": "code",
   "execution_count": 1,
   "metadata": {},
   "outputs": [
    {
     "name": "stdout",
     "output_type": "stream",
     "text": [
      "Requirement already satisfied: ezkl==7.0.0 in /Users/mhchia/Library/Caches/pypoetry/virtualenvs/zkstats-brXmXluj-py3.12/lib/python3.12/site-packages (from -r ../../requirements.txt (line 1)) (7.0.0)\n",
      "Requirement already satisfied: torch in /Users/mhchia/Library/Caches/pypoetry/virtualenvs/zkstats-brXmXluj-py3.12/lib/python3.12/site-packages (from -r ../../requirements.txt (line 2)) (2.2.0)\n",
      "Requirement already satisfied: requests in /Users/mhchia/Library/Caches/pypoetry/virtualenvs/zkstats-brXmXluj-py3.12/lib/python3.12/site-packages (from -r ../../requirements.txt (line 3)) (2.31.0)\n",
      "Requirement already satisfied: scipy in /Users/mhchia/Library/Caches/pypoetry/virtualenvs/zkstats-brXmXluj-py3.12/lib/python3.12/site-packages (from -r ../../requirements.txt (line 4)) (1.12.0)\n",
      "Requirement already satisfied: numpy in /Users/mhchia/Library/Caches/pypoetry/virtualenvs/zkstats-brXmXluj-py3.12/lib/python3.12/site-packages (from -r ../../requirements.txt (line 5)) (1.26.3)\n",
      "Requirement already satisfied: matplotlib in /Users/mhchia/Library/Caches/pypoetry/virtualenvs/zkstats-brXmXluj-py3.12/lib/python3.12/site-packages (from -r ../../requirements.txt (line 6)) (3.8.2)\n",
      "Requirement already satisfied: statistics in /Users/mhchia/Library/Caches/pypoetry/virtualenvs/zkstats-brXmXluj-py3.12/lib/python3.12/site-packages (from -r ../../requirements.txt (line 7)) (1.0.3.5)\n",
      "Requirement already satisfied: onnx in /Users/mhchia/Library/Caches/pypoetry/virtualenvs/zkstats-brXmXluj-py3.12/lib/python3.12/site-packages (from -r ../../requirements.txt (line 8)) (1.15.0)\n",
      "Requirement already satisfied: filelock in /Users/mhchia/Library/Caches/pypoetry/virtualenvs/zkstats-brXmXluj-py3.12/lib/python3.12/site-packages (from torch->-r ../../requirements.txt (line 2)) (3.13.1)\n",
      "Requirement already satisfied: typing-extensions>=4.8.0 in /Users/mhchia/Library/Caches/pypoetry/virtualenvs/zkstats-brXmXluj-py3.12/lib/python3.12/site-packages (from torch->-r ../../requirements.txt (line 2)) (4.9.0)\n",
      "Requirement already satisfied: sympy in /Users/mhchia/Library/Caches/pypoetry/virtualenvs/zkstats-brXmXluj-py3.12/lib/python3.12/site-packages (from torch->-r ../../requirements.txt (line 2)) (1.12)\n",
      "Requirement already satisfied: networkx in /Users/mhchia/Library/Caches/pypoetry/virtualenvs/zkstats-brXmXluj-py3.12/lib/python3.12/site-packages (from torch->-r ../../requirements.txt (line 2)) (3.2.1)\n",
      "Requirement already satisfied: jinja2 in /Users/mhchia/Library/Caches/pypoetry/virtualenvs/zkstats-brXmXluj-py3.12/lib/python3.12/site-packages (from torch->-r ../../requirements.txt (line 2)) (3.1.3)\n",
      "Requirement already satisfied: fsspec in /Users/mhchia/Library/Caches/pypoetry/virtualenvs/zkstats-brXmXluj-py3.12/lib/python3.12/site-packages (from torch->-r ../../requirements.txt (line 2)) (2023.12.2)\n",
      "Requirement already satisfied: charset-normalizer<4,>=2 in /Users/mhchia/Library/Caches/pypoetry/virtualenvs/zkstats-brXmXluj-py3.12/lib/python3.12/site-packages (from requests->-r ../../requirements.txt (line 3)) (3.3.2)\n",
      "Requirement already satisfied: idna<4,>=2.5 in /Users/mhchia/Library/Caches/pypoetry/virtualenvs/zkstats-brXmXluj-py3.12/lib/python3.12/site-packages (from requests->-r ../../requirements.txt (line 3)) (3.6)\n",
      "Requirement already satisfied: urllib3<3,>=1.21.1 in /Users/mhchia/Library/Caches/pypoetry/virtualenvs/zkstats-brXmXluj-py3.12/lib/python3.12/site-packages (from requests->-r ../../requirements.txt (line 3)) (2.2.0)\n",
      "Requirement already satisfied: certifi>=2017.4.17 in /Users/mhchia/Library/Caches/pypoetry/virtualenvs/zkstats-brXmXluj-py3.12/lib/python3.12/site-packages (from requests->-r ../../requirements.txt (line 3)) (2024.2.2)\n",
      "Requirement already satisfied: contourpy>=1.0.1 in /Users/mhchia/Library/Caches/pypoetry/virtualenvs/zkstats-brXmXluj-py3.12/lib/python3.12/site-packages (from matplotlib->-r ../../requirements.txt (line 6)) (1.2.0)\n",
      "Requirement already satisfied: cycler>=0.10 in /Users/mhchia/Library/Caches/pypoetry/virtualenvs/zkstats-brXmXluj-py3.12/lib/python3.12/site-packages (from matplotlib->-r ../../requirements.txt (line 6)) (0.12.1)\n",
      "Requirement already satisfied: fonttools>=4.22.0 in /Users/mhchia/Library/Caches/pypoetry/virtualenvs/zkstats-brXmXluj-py3.12/lib/python3.12/site-packages (from matplotlib->-r ../../requirements.txt (line 6)) (4.47.2)\n",
      "Requirement already satisfied: kiwisolver>=1.3.1 in /Users/mhchia/Library/Caches/pypoetry/virtualenvs/zkstats-brXmXluj-py3.12/lib/python3.12/site-packages (from matplotlib->-r ../../requirements.txt (line 6)) (1.4.5)\n",
      "Requirement already satisfied: packaging>=20.0 in /Users/mhchia/Library/Caches/pypoetry/virtualenvs/zkstats-brXmXluj-py3.12/lib/python3.12/site-packages (from matplotlib->-r ../../requirements.txt (line 6)) (23.2)\n",
      "Requirement already satisfied: pillow>=8 in /Users/mhchia/Library/Caches/pypoetry/virtualenvs/zkstats-brXmXluj-py3.12/lib/python3.12/site-packages (from matplotlib->-r ../../requirements.txt (line 6)) (10.2.0)\n",
      "Requirement already satisfied: pyparsing>=2.3.1 in /Users/mhchia/Library/Caches/pypoetry/virtualenvs/zkstats-brXmXluj-py3.12/lib/python3.12/site-packages (from matplotlib->-r ../../requirements.txt (line 6)) (3.1.1)\n",
      "Requirement already satisfied: python-dateutil>=2.7 in /Users/mhchia/Library/Caches/pypoetry/virtualenvs/zkstats-brXmXluj-py3.12/lib/python3.12/site-packages (from matplotlib->-r ../../requirements.txt (line 6)) (2.8.2)\n",
      "Requirement already satisfied: docutils>=0.3 in /Users/mhchia/Library/Caches/pypoetry/virtualenvs/zkstats-brXmXluj-py3.12/lib/python3.12/site-packages (from statistics->-r ../../requirements.txt (line 7)) (0.20.1)\n",
      "Requirement already satisfied: protobuf>=3.20.2 in /Users/mhchia/Library/Caches/pypoetry/virtualenvs/zkstats-brXmXluj-py3.12/lib/python3.12/site-packages (from onnx->-r ../../requirements.txt (line 8)) (4.25.2)\n",
      "Requirement already satisfied: six>=1.5 in /Users/mhchia/Library/Caches/pypoetry/virtualenvs/zkstats-brXmXluj-py3.12/lib/python3.12/site-packages (from python-dateutil>=2.7->matplotlib->-r ../../requirements.txt (line 6)) (1.16.0)\n",
      "Requirement already satisfied: MarkupSafe>=2.0 in /Users/mhchia/Library/Caches/pypoetry/virtualenvs/zkstats-brXmXluj-py3.12/lib/python3.12/site-packages (from jinja2->torch->-r ../../requirements.txt (line 2)) (2.1.4)\n",
      "Requirement already satisfied: mpmath>=0.19 in /Users/mhchia/Library/Caches/pypoetry/virtualenvs/zkstats-brXmXluj-py3.12/lib/python3.12/site-packages (from sympy->torch->-r ../../requirements.txt (line 2)) (1.3.0)\n",
      "\n",
      "\u001b[1m[\u001b[0m\u001b[34;49mnotice\u001b[0m\u001b[1;39;49m]\u001b[0m\u001b[39;49m A new release of pip is available: \u001b[0m\u001b[31;49m23.3.1\u001b[0m\u001b[39;49m -> \u001b[0m\u001b[32;49m24.0\u001b[0m\n",
      "\u001b[1m[\u001b[0m\u001b[34;49mnotice\u001b[0m\u001b[1;39;49m]\u001b[0m\u001b[39;49m To update, run: \u001b[0m\u001b[32;49mpip install --upgrade pip\u001b[0m\n",
      "Note: you may need to restart the kernel to use updated packages.\n"
     ]
    }
   ],
   "source": [
    "pip install -r ../../requirements.txt"
   ]
  },
  {
   "cell_type": "code",
   "execution_count": 2,
   "metadata": {},
   "outputs": [],
   "source": [
    "import ezkl\n",
    "import torch\n",
    "from torch import nn\n",
    "import json\n",
    "import os\n",
    "import time\n",
    "import scipy\n",
    "import numpy as np\n",
    "import matplotlib.pyplot as plt\n",
    "import statistics\n",
    "import math"
   ]
  },
  {
   "cell_type": "code",
   "execution_count": 3,
   "metadata": {},
   "outputs": [],
   "source": [
    "%run -i ../../zkstats/core.py"
   ]
  },
  {
   "attachments": {},
   "cell_type": "markdown",
   "metadata": {},
   "source": []
  },
  {
   "cell_type": "code",
   "execution_count": 4,
   "metadata": {},
   "outputs": [],
   "source": [
    "# init path\n",
    "os.makedirs(os.path.dirname('shared/'), exist_ok=True)\n",
    "os.makedirs(os.path.dirname('prover/'), exist_ok=True)\n",
    "verifier_model_path = os.path.join('shared/verifier.onnx')\n",
    "prover_model_path = os.path.join('prover/prover.onnx')\n",
    "verifier_compiled_model_path = os.path.join('shared/verifier.compiled')\n",
    "prover_compiled_model_path = os.path.join('prover/prover.compiled')\n",
    "pk_path = os.path.join('shared/test.pk')\n",
    "vk_path = os.path.join('shared/test.vk')\n",
    "proof_path = os.path.join('shared/test.pf')\n",
    "settings_path = os.path.join('shared/settings.json')\n",
    "srs_path = os.path.join('shared/kzg.srs')\n",
    "witness_path = os.path.join('prover/witness.json')\n",
    "# this is private to prover since it contains actual data\n",
    "sel_data_path = os.path.join('prover/sel_data.json')\n",
    "# this is just dummy random value\n",
    "sel_dummy_data_path = os.path.join('shared/sel_dummy_data.json')"
   ]
  },
  {
   "attachments": {},
   "cell_type": "markdown",
   "metadata": {},
   "source": [
    "=======================  ZK-STATS FLOW ======================="
   ]
  },
  {
   "attachments": {},
   "cell_type": "markdown",
   "metadata": {},
   "source": [
    "## Step 1\n",
    "Verifier calls `export_onnx` with dummy data, to generate the onnx model. Dummy data is used to infer the shape of the model\n",
    "\n",
    "### Output\n",
    "- `verifier.onnx` file"
   ]
  },
  {
   "cell_type": "code",
   "execution_count": 5,
   "metadata": {},
   "outputs": [],
   "source": [
    "data_path = os.path.join('data.json')\n",
    "dummy_data_path = os.path.join('shared/dummy_data.json')\n",
    "\n",
    "create_dummy(data_path, dummy_data_path)"
   ]
  },
  {
   "cell_type": "code",
   "execution_count": 6,
   "metadata": {},
   "outputs": [],
   "source": [
    "scales = [5]\n",
    "selected_columns = ['col_name']\n",
    "commitment_maps = get_data_commitment_maps(data_path, scales)"
   ]
  },
  {
   "cell_type": "code",
   "execution_count": 7,
   "metadata": {},
   "outputs": [
    {
     "name": "stderr",
     "output_type": "stream",
     "text": [
      "/Users/mhchia/projects/work/pse/zk-stats-lib/zkstats/computation.py:166: TracerWarning: torch.tensor results are registered as constants in the trace. You can safely ignore this warning if you use this function to create tensors out of constant variables that would be the same every time you call this function. In any other case, this might cause the trace to be incorrect.\n",
      "  is_precise_aggregated = torch.tensor(1.0)\n",
      "/Users/mhchia/Library/Caches/pypoetry/virtualenvs/zkstats-brXmXluj-py3.12/lib/python3.12/site-packages/torch/onnx/symbolic_opset9.py:2174: FutureWarning: 'torch.onnx.symbolic_opset9._cast_Bool' is deprecated in version 2.0 and will be removed in the future. Please Avoid using this function and create a Cast node instead.\n",
      "  return fn(g, to_cast_func(g, input, False), to_cast_func(g, other, False))\n"
     ]
    }
   ],
   "source": [
    "# Verifier/ data consumer side: send desired calculation\n",
    "from zkstats.computation import computation_to_model, State\n",
    "\n",
    "\n",
    "def computation(s: State, data: list[torch.Tensor]) -> torch.Tensor:\n",
    "    x = data[0]\n",
    "    return s.mean(x)\n",
    "\n",
    "error = 0.01\n",
    "_, verifier_model = computation_to_model(computation, error)\n",
    "\n",
    "verifier_define_calculation(dummy_data_path, selected_columns, sel_dummy_data_path,verifier_model, verifier_model_path)"
   ]
  },
  {
   "attachments": {},
   "cell_type": "markdown",
   "metadata": {},
   "source": [
    "## Step 2\n",
    "- Prover gets the model from the verifier.\n",
    "- Prover overrides the `dummy_theory_output` with `theory_output`\n",
    "- Prover calls `prover_gen_settings`: export onnx file and compute the settings required by `ezkl.calibrate_settings`"
   ]
  },
  {
   "cell_type": "code",
   "execution_count": 8,
   "metadata": {},
   "outputs": [
    {
     "name": "stdout",
     "output_type": "stream",
     "text": [
      "==== Generate & Calibrate Setting ====\n",
      "scale:  [5]\n",
      "setting:  {\"run_args\":{\"tolerance\":{\"val\":0.0,\"scale\":1.0},\"input_scale\":5,\"param_scale\":5,\"scale_rebase_multiplier\":10,\"lookup_range\":[-1344,0],\"logrows\":12,\"num_inner_cols\":2,\"variables\":[[\"batch_size\",1]],\"input_visibility\":{\"Hashed\":{\"hash_is_public\":true,\"outlets\":[]}},\"output_visibility\":\"Public\",\"param_visibility\":\"Private\"},\"num_rows\":3936,\"total_assignments\":111,\"total_const_size\":4,\"model_instance_shapes\":[[1],[1]],\"model_output_scales\":[0,5],\"model_input_scales\":[5],\"module_sizes\":{\"kzg\":[],\"poseidon\":[3936,[1]],\"elgamal\":[0,[0]]},\"required_lookups\":[\"Abs\",{\"GreaterThan\":{\"a\":0.0}}],\"check_mode\":\"UNSAFE\",\"version\":\"7.0.0\",\"num_blinding_factors\":null}\n"
     ]
    }
   ],
   "source": [
    "# Prover/ data owner side\n",
    "_, prover_model = computation_to_model(computation, error)\n",
    "\n",
    "prover_gen_settings(data_path, selected_columns, sel_data_path, prover_model, prover_model_path, scales, \"resources\", settings_path)"
   ]
  },
  {
   "attachments": {},
   "cell_type": "markdown",
   "metadata": {},
   "source": [
    "## Step 3\n",
    "- Prover generates proof with `prover_gen_proof`:\n",
    "    - 1. Compile circuit with `compile_circuit`\n",
    "        - Inputs: onnx model, settings path\n",
    "        - Outputs: compiled \n",
    "    - 2. Generate witness with\n",
    "- Verifier generates keys with "
   ]
  },
  {
   "cell_type": "code",
   "execution_count": 9,
   "metadata": {},
   "outputs": [
    {
     "name": "stderr",
     "output_type": "stream",
     "text": [
      "spawning module 0\n",
      "spawning module 2\n"
     ]
    },
    {
     "name": "stdout",
     "output_type": "stream",
     "text": [
      "==== setting up ezkl ====\n"
     ]
    },
    {
     "name": "stderr",
     "output_type": "stream",
     "text": [
      "spawning module 0\n",
      "spawning module 2\n",
      "spawning module 0\n"
     ]
    },
    {
     "name": "stdout",
     "output_type": "stream",
     "text": [
      "Time setup: 1.2376949787139893 seconds\n",
      "=======================================\n",
      "==== Generating Witness ====\n",
      "witness boolean:  1.0\n",
      "witness result 1 : 42.125\n",
      "==== Generating Proof ====\n"
     ]
    },
    {
     "name": "stderr",
     "output_type": "stream",
     "text": [
      "spawning module 2\n"
     ]
    },
    {
     "name": "stdout",
     "output_type": "stream",
     "text": [
      "proof:  {'instances': [[[13487293430113784910, 12778393823498462323, 6887806571578554205, 1244238496825937973], [12436184717236109307, 3962172157175319849, 7381016538464732718, 1011752739694698287], [1786891257776170021, 2456895193576464786, 15851013958699291921, 426370788491761118]]], 'proof': '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', 'transcript_type': 'EVM'}\n",
      "Time gen prf: 1.646104097366333 seconds\n"
     ]
    }
   ],
   "source": [
    "# Here verifier & prover can concurrently call setup since all params are public to get pk.\n",
    "# Here write as verifier function to emphasize that verifier must calculate its own vk to be sure\n",
    "setup(verifier_model_path, verifier_compiled_model_path, settings_path,vk_path, pk_path )\n",
    "\n",
    "print(\"=======================================\")\n",
    "# Prover generates proof\n",
    "prover_gen_proof(prover_model_path, sel_data_path, witness_path, prover_compiled_model_path, settings_path, proof_path, pk_path)"
   ]
  },
  {
   "cell_type": "code",
   "execution_count": 10,
   "metadata": {},
   "outputs": [
    {
     "name": "stdout",
     "output_type": "stream",
     "text": [
      "Verifier gets result: 42.125\n"
     ]
    }
   ],
   "source": [
    "# Verifier verifies\n",
    "res = verifier_verify(proof_path, settings_path, vk_path, selected_columns, commitment_maps)\n",
    "print(\"Verifier gets result:\", res)"
   ]
  }
 ],
 "metadata": {
  "kernelspec": {
   "display_name": "Python 3",
   "language": "python",
   "name": "python3"
  },
  "language_info": {
   "codemirror_mode": {
    "name": "ipython",
    "version": 3
   },
   "file_extension": ".py",
   "mimetype": "text/x-python",
   "name": "python",
   "nbconvert_exporter": "python",
   "pygments_lexer": "ipython3",
   "version": "3.12.1"
  },
  "orig_nbformat": 4
 },
 "nbformat": 4,
 "nbformat_minor": 2
}
