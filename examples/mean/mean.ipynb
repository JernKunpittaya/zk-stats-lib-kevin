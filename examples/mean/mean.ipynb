{
 "cells": [
  {
   "cell_type": "code",
   "execution_count": 1,
   "metadata": {},
   "outputs": [
    {
     "name": "stdout",
     "output_type": "stream",
     "text": [
      "Requirement already satisfied: ezkl==9.1.0 in /Users/jernkun/Library/Caches/pypoetry/virtualenvs/zkstats-OJpceffF-py3.11/lib/python3.11/site-packages (from -r ../../requirements.txt (line 1)) (9.1.0)\n",
      "Requirement already satisfied: torch in /Users/jernkun/Library/Caches/pypoetry/virtualenvs/zkstats-OJpceffF-py3.11/lib/python3.11/site-packages (from -r ../../requirements.txt (line 2)) (2.2.1)\n",
      "Requirement already satisfied: requests in /Users/jernkun/Library/Caches/pypoetry/virtualenvs/zkstats-OJpceffF-py3.11/lib/python3.11/site-packages (from -r ../../requirements.txt (line 3)) (2.31.0)\n",
      "Requirement already satisfied: scipy in /Users/jernkun/Library/Caches/pypoetry/virtualenvs/zkstats-OJpceffF-py3.11/lib/python3.11/site-packages (from -r ../../requirements.txt (line 4)) (1.12.0)\n",
      "Requirement already satisfied: numpy in /Users/jernkun/Library/Caches/pypoetry/virtualenvs/zkstats-OJpceffF-py3.11/lib/python3.11/site-packages (from -r ../../requirements.txt (line 5)) (1.26.4)\n",
      "Requirement already satisfied: matplotlib in /Users/jernkun/Library/Caches/pypoetry/virtualenvs/zkstats-OJpceffF-py3.11/lib/python3.11/site-packages (from -r ../../requirements.txt (line 6)) (3.8.3)\n",
      "Requirement already satisfied: statistics in /Users/jernkun/Library/Caches/pypoetry/virtualenvs/zkstats-OJpceffF-py3.11/lib/python3.11/site-packages (from -r ../../requirements.txt (line 7)) (1.0.3.5)\n",
      "Requirement already satisfied: onnx in /Users/jernkun/Library/Caches/pypoetry/virtualenvs/zkstats-OJpceffF-py3.11/lib/python3.11/site-packages (from -r ../../requirements.txt (line 8)) (1.15.0)\n",
      "Requirement already satisfied: filelock in /Users/jernkun/Library/Caches/pypoetry/virtualenvs/zkstats-OJpceffF-py3.11/lib/python3.11/site-packages (from torch->-r ../../requirements.txt (line 2)) (3.13.1)\n",
      "Requirement already satisfied: typing-extensions>=4.8.0 in /Users/jernkun/Library/Caches/pypoetry/virtualenvs/zkstats-OJpceffF-py3.11/lib/python3.11/site-packages (from torch->-r ../../requirements.txt (line 2)) (4.10.0)\n",
      "Requirement already satisfied: sympy in /Users/jernkun/Library/Caches/pypoetry/virtualenvs/zkstats-OJpceffF-py3.11/lib/python3.11/site-packages (from torch->-r ../../requirements.txt (line 2)) (1.12)\n",
      "Requirement already satisfied: networkx in /Users/jernkun/Library/Caches/pypoetry/virtualenvs/zkstats-OJpceffF-py3.11/lib/python3.11/site-packages (from torch->-r ../../requirements.txt (line 2)) (3.2.1)\n",
      "Requirement already satisfied: jinja2 in /Users/jernkun/Library/Caches/pypoetry/virtualenvs/zkstats-OJpceffF-py3.11/lib/python3.11/site-packages (from torch->-r ../../requirements.txt (line 2)) (3.1.3)\n",
      "Requirement already satisfied: fsspec in /Users/jernkun/Library/Caches/pypoetry/virtualenvs/zkstats-OJpceffF-py3.11/lib/python3.11/site-packages (from torch->-r ../../requirements.txt (line 2)) (2024.2.0)\n",
      "Requirement already satisfied: charset-normalizer<4,>=2 in /Users/jernkun/Library/Caches/pypoetry/virtualenvs/zkstats-OJpceffF-py3.11/lib/python3.11/site-packages (from requests->-r ../../requirements.txt (line 3)) (3.3.2)\n",
      "Requirement already satisfied: idna<4,>=2.5 in /Users/jernkun/Library/Caches/pypoetry/virtualenvs/zkstats-OJpceffF-py3.11/lib/python3.11/site-packages (from requests->-r ../../requirements.txt (line 3)) (3.6)\n",
      "Requirement already satisfied: urllib3<3,>=1.21.1 in /Users/jernkun/Library/Caches/pypoetry/virtualenvs/zkstats-OJpceffF-py3.11/lib/python3.11/site-packages (from requests->-r ../../requirements.txt (line 3)) (2.2.1)\n",
      "Requirement already satisfied: certifi>=2017.4.17 in /Users/jernkun/Library/Caches/pypoetry/virtualenvs/zkstats-OJpceffF-py3.11/lib/python3.11/site-packages (from requests->-r ../../requirements.txt (line 3)) (2024.2.2)\n",
      "Requirement already satisfied: contourpy>=1.0.1 in /Users/jernkun/Library/Caches/pypoetry/virtualenvs/zkstats-OJpceffF-py3.11/lib/python3.11/site-packages (from matplotlib->-r ../../requirements.txt (line 6)) (1.2.0)\n",
      "Requirement already satisfied: cycler>=0.10 in /Users/jernkun/Library/Caches/pypoetry/virtualenvs/zkstats-OJpceffF-py3.11/lib/python3.11/site-packages (from matplotlib->-r ../../requirements.txt (line 6)) (0.12.1)\n",
      "Requirement already satisfied: fonttools>=4.22.0 in /Users/jernkun/Library/Caches/pypoetry/virtualenvs/zkstats-OJpceffF-py3.11/lib/python3.11/site-packages (from matplotlib->-r ../../requirements.txt (line 6)) (4.49.0)\n",
      "Requirement already satisfied: kiwisolver>=1.3.1 in /Users/jernkun/Library/Caches/pypoetry/virtualenvs/zkstats-OJpceffF-py3.11/lib/python3.11/site-packages (from matplotlib->-r ../../requirements.txt (line 6)) (1.4.5)\n",
      "Requirement already satisfied: packaging>=20.0 in /Users/jernkun/Library/Caches/pypoetry/virtualenvs/zkstats-OJpceffF-py3.11/lib/python3.11/site-packages (from matplotlib->-r ../../requirements.txt (line 6)) (23.2)\n",
      "Requirement already satisfied: pillow>=8 in /Users/jernkun/Library/Caches/pypoetry/virtualenvs/zkstats-OJpceffF-py3.11/lib/python3.11/site-packages (from matplotlib->-r ../../requirements.txt (line 6)) (10.2.0)\n",
      "Requirement already satisfied: pyparsing>=2.3.1 in /Users/jernkun/Library/Caches/pypoetry/virtualenvs/zkstats-OJpceffF-py3.11/lib/python3.11/site-packages (from matplotlib->-r ../../requirements.txt (line 6)) (3.1.1)\n",
      "Requirement already satisfied: python-dateutil>=2.7 in /Users/jernkun/Library/Caches/pypoetry/virtualenvs/zkstats-OJpceffF-py3.11/lib/python3.11/site-packages (from matplotlib->-r ../../requirements.txt (line 6)) (2.9.0.post0)\n",
      "Requirement already satisfied: docutils>=0.3 in /Users/jernkun/Library/Caches/pypoetry/virtualenvs/zkstats-OJpceffF-py3.11/lib/python3.11/site-packages (from statistics->-r ../../requirements.txt (line 7)) (0.20.1)\n",
      "Requirement already satisfied: protobuf>=3.20.2 in /Users/jernkun/Library/Caches/pypoetry/virtualenvs/zkstats-OJpceffF-py3.11/lib/python3.11/site-packages (from onnx->-r ../../requirements.txt (line 8)) (4.25.3)\n",
      "Requirement already satisfied: six>=1.5 in /Users/jernkun/Library/Caches/pypoetry/virtualenvs/zkstats-OJpceffF-py3.11/lib/python3.11/site-packages (from python-dateutil>=2.7->matplotlib->-r ../../requirements.txt (line 6)) (1.16.0)\n",
      "Requirement already satisfied: MarkupSafe>=2.0 in /Users/jernkun/Library/Caches/pypoetry/virtualenvs/zkstats-OJpceffF-py3.11/lib/python3.11/site-packages (from jinja2->torch->-r ../../requirements.txt (line 2)) (2.1.5)\n",
      "Requirement already satisfied: mpmath>=0.19 in /Users/jernkun/Library/Caches/pypoetry/virtualenvs/zkstats-OJpceffF-py3.11/lib/python3.11/site-packages (from sympy->torch->-r ../../requirements.txt (line 2)) (1.3.0)\n",
      "\n",
      "\u001b[1m[\u001b[0m\u001b[34;49mnotice\u001b[0m\u001b[1;39;49m]\u001b[0m\u001b[39;49m A new release of pip is available: \u001b[0m\u001b[31;49m23.2.1\u001b[0m\u001b[39;49m -> \u001b[0m\u001b[32;49m24.0\u001b[0m\n",
      "\u001b[1m[\u001b[0m\u001b[34;49mnotice\u001b[0m\u001b[1;39;49m]\u001b[0m\u001b[39;49m To update, run: \u001b[0m\u001b[32;49mpip install --upgrade pip\u001b[0m\n",
      "Note: you may need to restart the kernel to use updated packages.\n"
     ]
    }
   ],
   "source": [
    "pip install -r ../../requirements.txt"
   ]
  },
  {
   "cell_type": "code",
   "execution_count": 2,
   "metadata": {},
   "outputs": [],
   "source": [
    "import ezkl\n",
    "import torch\n",
    "from torch import nn\n",
    "import json\n",
    "import os\n",
    "import time\n",
    "import scipy\n",
    "import numpy as np\n",
    "import matplotlib.pyplot as plt\n",
    "import statistics\n",
    "import math"
   ]
  },
  {
   "cell_type": "code",
   "execution_count": 3,
   "metadata": {},
   "outputs": [],
   "source": [
    "from zkstats.core import create_dummy, verifier_define_calculation, prover_gen_settings, setup, prover_gen_proof, verifier_verify, get_data_commitment_maps"
   ]
  },
  {
   "attachments": {},
   "cell_type": "markdown",
   "metadata": {},
   "source": []
  },
  {
   "cell_type": "code",
   "execution_count": 4,
   "metadata": {},
   "outputs": [],
   "source": [
    "# init path\n",
    "os.makedirs(os.path.dirname('shared/'), exist_ok=True)\n",
    "os.makedirs(os.path.dirname('prover/'), exist_ok=True)\n",
    "verifier_model_path = os.path.join('shared/verifier.onnx')\n",
    "prover_model_path = os.path.join('prover/prover.onnx')\n",
    "verifier_compiled_model_path = os.path.join('shared/verifier.compiled')\n",
    "prover_compiled_model_path = os.path.join('prover/prover.compiled')\n",
    "pk_path = os.path.join('shared/test.pk')\n",
    "vk_path = os.path.join('shared/test.vk')\n",
    "proof_path = os.path.join('shared/test.pf')\n",
    "settings_path = os.path.join('shared/settings.json')\n",
    "srs_path = os.path.join('shared/kzg.srs')\n",
    "witness_path = os.path.join('prover/witness.json')\n",
    "# this is private to prover since it contains actual data\n",
    "sel_data_path = os.path.join('prover/sel_data.json')\n",
    "# this is just dummy random value\n",
    "sel_dummy_data_path = os.path.join('shared/sel_dummy_data.json')"
   ]
  },
  {
   "attachments": {},
   "cell_type": "markdown",
   "metadata": {},
   "source": [
    "=======================  ZK-STATS FLOW ======================="
   ]
  },
  {
   "attachments": {},
   "cell_type": "markdown",
   "metadata": {},
   "source": [
    "## Step 1\n",
    "Verifier calls `export_onnx` with dummy data, to generate the onnx model. Dummy data is used to infer the shape of the model\n",
    "\n",
    "### Output\n",
    "- `verifier.onnx` file"
   ]
  },
  {
   "cell_type": "code",
   "execution_count": 5,
   "metadata": {},
   "outputs": [],
   "source": [
    "data_path = os.path.join('data.json')\n",
    "dummy_data_path = os.path.join('shared/dummy_data.json')\n",
    "\n",
    "create_dummy(data_path, dummy_data_path)"
   ]
  },
  {
   "cell_type": "code",
   "execution_count": 10,
   "metadata": {},
   "outputs": [],
   "source": [
    "scales = [6]\n",
    "selected_columns = ['col_name']\n",
    "commitment_maps = get_data_commitment_maps(data_path, scales)"
   ]
  },
  {
   "cell_type": "code",
   "execution_count": 11,
   "metadata": {},
   "outputs": [],
   "source": [
    "# Verifier/ data consumer side: send desired calculation\n",
    "from zkstats.computation import computation_to_model, State\n",
    "\n",
    "\n",
    "def computation(s: State, data: list[torch.Tensor]) -> torch.Tensor:\n",
    "    x = data[0]\n",
    "    return s.mean(x)\n",
    "\n",
    "error = 0.01\n",
    "_, verifier_model = computation_to_model(computation, error)\n",
    "\n",
    "verifier_define_calculation(dummy_data_path, selected_columns, sel_dummy_data_path,verifier_model, verifier_model_path)"
   ]
  },
  {
   "attachments": {},
   "cell_type": "markdown",
   "metadata": {},
   "source": [
    "## Step 2\n",
    "- Prover gets the model from the verifier.\n",
    "- Prover overrides the `dummy_theory_output` with `theory_output`\n",
    "- Prover calls `prover_gen_settings`: export onnx file and compute the settings required by `ezkl.calibrate_settings`"
   ]
  },
  {
   "cell_type": "code",
   "execution_count": 12,
   "metadata": {},
   "outputs": [
    {
     "name": "stderr",
     "output_type": "stream",
     "text": [
      "\n",
      "\n",
      " <------------- Numerical Fidelity Report (input_scale: 6, param_scale: 6, scale_input_multiplier: 1) ------------->\n",
      "\n",
      "+---------------+--------------+-----------+--------------+----------------+------------------+---------------+---------------+--------------------+--------------------+------------------------+\n",
      "| mean_error    | median_error | max_error | min_error    | mean_abs_error | median_abs_error | max_abs_error | min_abs_error | mean_squared_error | mean_percent_error | mean_abs_percent_error |\n",
      "+---------------+--------------+-----------+--------------+----------------+------------------+---------------+---------------+--------------------+--------------------+------------------------+\n",
      "| -0.0033130646 | -0.006626129 | 0         | -0.006626129 | 0.0033130646   | 0.006626129      | 0.006626129   | 0             | 0.000021952794     | -0.00007863162     | 0.00007863162          |\n",
      "+---------------+--------------+-----------+--------------+----------------+------------------+---------------+---------------+--------------------+--------------------+------------------------+\n",
      "\n",
      "\n"
     ]
    },
    {
     "name": "stdout",
     "output_type": "stream",
     "text": [
      "==== Generate & Calibrate Setting ====\n",
      "scale:  [6]\n",
      "setting:  {\"run_args\":{\"tolerance\":{\"val\":0.0,\"scale\":1.0},\"input_scale\":6,\"param_scale\":6,\"scale_rebase_multiplier\":1,\"lookup_range\":[-4178,4214],\"logrows\":14,\"num_inner_cols\":2,\"variables\":[[\"batch_size\",1]],\"input_visibility\":{\"Hashed\":{\"hash_is_public\":true,\"outlets\":[]}},\"output_visibility\":\"Public\",\"param_visibility\":\"Private\",\"div_rebasing\":false,\"rebase_frac_zero_constants\":false,\"check_mode\":\"UNSAFE\"},\"num_rows\":3936,\"total_assignments\":1072,\"total_const_size\":259,\"model_instance_shapes\":[[1],[1]],\"model_output_scales\":[0,6],\"model_input_scales\":[6],\"module_sizes\":{\"kzg\":[],\"poseidon\":[3936,[1]]},\"required_lookups\":[\"Abs\",{\"GreaterThan\":{\"a\":0.0}}],\"required_range_checks\":[[-32,32]],\"check_mode\":\"UNSAFE\",\"version\":\"9.1.0\",\"num_blinding_factors\":null,\"timestamp\":1709616788239}\n"
     ]
    }
   ],
   "source": [
    "# Prover/ data owner side\n",
    "_, prover_model = computation_to_model(computation, error)\n",
    "\n",
    "prover_gen_settings(data_path, selected_columns, sel_data_path, prover_model, prover_model_path, scales, \"resources\", settings_path)"
   ]
  },
  {
   "attachments": {},
   "cell_type": "markdown",
   "metadata": {},
   "source": [
    "## Step 3\n",
    "- Prover generates proof with `prover_gen_proof`:\n",
    "    - 1. Compile circuit with `compile_circuit`\n",
    "        - Inputs: onnx model, settings path\n",
    "        - Outputs: compiled \n",
    "    - 2. Generate witness with\n",
    "- Verifier generates keys with "
   ]
  },
  {
   "cell_type": "code",
   "execution_count": 13,
   "metadata": {},
   "outputs": [
    {
     "name": "stdout",
     "output_type": "stream",
     "text": [
      "==== setting up ezkl ====\n",
      "Time setup: 1.5691401958465576 seconds\n",
      "=======================================\n",
      "==== Generating Witness ====\n",
      "witness boolean:  1.0\n",
      "witness result 1 : 42.140625\n",
      "==== Generating Proof ====\n",
      "proof:  {'instances': [['159d5a48320dc54ddd1509cbce7735d7023208f7ef0fbd15f52b3d492af42613', '0100000000000000000000000000000000000000000000000000000000000000', '890a000000000000000000000000000000000000000000000000000000000000']], 'proof': '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', 'transcript_type': 'EVM'}\n",
      "Time gen prf: 2.0392348766326904 seconds\n"
     ]
    }
   ],
   "source": [
    "# Here verifier & prover can concurrently call setup since all params are public to get pk.\n",
    "# Here write as verifier function to emphasize that verifier must calculate its own vk to be sure\n",
    "setup(verifier_model_path, verifier_compiled_model_path, settings_path,vk_path, pk_path )\n",
    "\n",
    "print(\"=======================================\")\n",
    "# Prover generates proof\n",
    "prover_gen_proof(prover_model_path, sel_data_path, witness_path, prover_compiled_model_path, settings_path, proof_path, pk_path)"
   ]
  },
  {
   "cell_type": "code",
   "execution_count": 14,
   "metadata": {},
   "outputs": [
    {
     "name": "stdout",
     "output_type": "stream",
     "text": [
      "Verifier gets result: [42.140625]\n"
     ]
    }
   ],
   "source": [
    "# Verifier verifies\n",
    "res = verifier_verify(proof_path, settings_path, vk_path, selected_columns, commitment_maps)\n",
    "print(\"Verifier gets result:\", res)"
   ]
  },
  {
   "cell_type": "code",
   "execution_count": null,
   "metadata": {},
   "outputs": [],
   "source": []
  }
 ],
 "metadata": {
  "kernelspec": {
   "display_name": "Python 3",
   "language": "python",
   "name": "python3"
  },
  "language_info": {
   "codemirror_mode": {
    "name": "ipython",
    "version": 3
   },
   "file_extension": ".py",
   "mimetype": "text/x-python",
   "name": "python",
   "nbconvert_exporter": "python",
   "pygments_lexer": "ipython3",
   "version": "3.11.4"
  },
  "orig_nbformat": 4
 },
 "nbformat": 4,
 "nbformat_minor": 2
}
