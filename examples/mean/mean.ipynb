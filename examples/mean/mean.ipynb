{
 "cells": [
  {
   "cell_type": "code",
   "execution_count": 1,
   "metadata": {},
   "outputs": [
    {
     "name": "stdout",
     "output_type": "stream",
     "text": [
      "Requirement already satisfied: ezkl==7.0.0 in /Users/jernkun/Library/Caches/pypoetry/virtualenvs/zkstats-OJpceffF-py3.11/lib/python3.11/site-packages (from -r ../../requirements.txt (line 1)) (7.0.0)\n",
      "Requirement already satisfied: torch in /Users/jernkun/Library/Caches/pypoetry/virtualenvs/zkstats-OJpceffF-py3.11/lib/python3.11/site-packages (from -r ../../requirements.txt (line 2)) (2.2.0)\n",
      "Requirement already satisfied: requests in /Users/jernkun/Library/Caches/pypoetry/virtualenvs/zkstats-OJpceffF-py3.11/lib/python3.11/site-packages (from -r ../../requirements.txt (line 3)) (2.31.0)\n",
      "Requirement already satisfied: scipy in /Users/jernkun/Library/Caches/pypoetry/virtualenvs/zkstats-OJpceffF-py3.11/lib/python3.11/site-packages (from -r ../../requirements.txt (line 4)) (1.12.0)\n",
      "Requirement already satisfied: numpy in /Users/jernkun/Library/Caches/pypoetry/virtualenvs/zkstats-OJpceffF-py3.11/lib/python3.11/site-packages (from -r ../../requirements.txt (line 5)) (1.26.3)\n",
      "Requirement already satisfied: matplotlib in /Users/jernkun/Library/Caches/pypoetry/virtualenvs/zkstats-OJpceffF-py3.11/lib/python3.11/site-packages (from -r ../../requirements.txt (line 6)) (3.8.2)\n",
      "Requirement already satisfied: statistics in /Users/jernkun/Library/Caches/pypoetry/virtualenvs/zkstats-OJpceffF-py3.11/lib/python3.11/site-packages (from -r ../../requirements.txt (line 7)) (1.0.3.5)\n",
      "Requirement already satisfied: onnx in /Users/jernkun/Library/Caches/pypoetry/virtualenvs/zkstats-OJpceffF-py3.11/lib/python3.11/site-packages (from -r ../../requirements.txt (line 8)) (1.15.0)\n",
      "Requirement already satisfied: filelock in /Users/jernkun/Library/Caches/pypoetry/virtualenvs/zkstats-OJpceffF-py3.11/lib/python3.11/site-packages (from torch->-r ../../requirements.txt (line 2)) (3.13.1)\n",
      "Requirement already satisfied: typing-extensions>=4.8.0 in /Users/jernkun/Library/Caches/pypoetry/virtualenvs/zkstats-OJpceffF-py3.11/lib/python3.11/site-packages (from torch->-r ../../requirements.txt (line 2)) (4.9.0)\n",
      "Requirement already satisfied: sympy in /Users/jernkun/Library/Caches/pypoetry/virtualenvs/zkstats-OJpceffF-py3.11/lib/python3.11/site-packages (from torch->-r ../../requirements.txt (line 2)) (1.12)\n",
      "Requirement already satisfied: networkx in /Users/jernkun/Library/Caches/pypoetry/virtualenvs/zkstats-OJpceffF-py3.11/lib/python3.11/site-packages (from torch->-r ../../requirements.txt (line 2)) (3.2.1)\n",
      "Requirement already satisfied: jinja2 in /Users/jernkun/Library/Caches/pypoetry/virtualenvs/zkstats-OJpceffF-py3.11/lib/python3.11/site-packages (from torch->-r ../../requirements.txt (line 2)) (3.1.3)\n",
      "Requirement already satisfied: fsspec in /Users/jernkun/Library/Caches/pypoetry/virtualenvs/zkstats-OJpceffF-py3.11/lib/python3.11/site-packages (from torch->-r ../../requirements.txt (line 2)) (2023.12.2)\n",
      "Requirement already satisfied: charset-normalizer<4,>=2 in /Users/jernkun/Library/Caches/pypoetry/virtualenvs/zkstats-OJpceffF-py3.11/lib/python3.11/site-packages (from requests->-r ../../requirements.txt (line 3)) (3.3.2)\n",
      "Requirement already satisfied: idna<4,>=2.5 in /Users/jernkun/Library/Caches/pypoetry/virtualenvs/zkstats-OJpceffF-py3.11/lib/python3.11/site-packages (from requests->-r ../../requirements.txt (line 3)) (3.6)\n",
      "Requirement already satisfied: urllib3<3,>=1.21.1 in /Users/jernkun/Library/Caches/pypoetry/virtualenvs/zkstats-OJpceffF-py3.11/lib/python3.11/site-packages (from requests->-r ../../requirements.txt (line 3)) (2.2.0)\n",
      "Requirement already satisfied: certifi>=2017.4.17 in /Users/jernkun/Library/Caches/pypoetry/virtualenvs/zkstats-OJpceffF-py3.11/lib/python3.11/site-packages (from requests->-r ../../requirements.txt (line 3)) (2024.2.2)\n",
      "Requirement already satisfied: contourpy>=1.0.1 in /Users/jernkun/Library/Caches/pypoetry/virtualenvs/zkstats-OJpceffF-py3.11/lib/python3.11/site-packages (from matplotlib->-r ../../requirements.txt (line 6)) (1.2.0)\n",
      "Requirement already satisfied: cycler>=0.10 in /Users/jernkun/Library/Caches/pypoetry/virtualenvs/zkstats-OJpceffF-py3.11/lib/python3.11/site-packages (from matplotlib->-r ../../requirements.txt (line 6)) (0.12.1)\n",
      "Requirement already satisfied: fonttools>=4.22.0 in /Users/jernkun/Library/Caches/pypoetry/virtualenvs/zkstats-OJpceffF-py3.11/lib/python3.11/site-packages (from matplotlib->-r ../../requirements.txt (line 6)) (4.47.2)\n",
      "Requirement already satisfied: kiwisolver>=1.3.1 in /Users/jernkun/Library/Caches/pypoetry/virtualenvs/zkstats-OJpceffF-py3.11/lib/python3.11/site-packages (from matplotlib->-r ../../requirements.txt (line 6)) (1.4.5)\n",
      "Requirement already satisfied: packaging>=20.0 in /Users/jernkun/Library/Caches/pypoetry/virtualenvs/zkstats-OJpceffF-py3.11/lib/python3.11/site-packages (from matplotlib->-r ../../requirements.txt (line 6)) (23.2)\n",
      "Requirement already satisfied: pillow>=8 in /Users/jernkun/Library/Caches/pypoetry/virtualenvs/zkstats-OJpceffF-py3.11/lib/python3.11/site-packages (from matplotlib->-r ../../requirements.txt (line 6)) (10.2.0)\n",
      "Requirement already satisfied: pyparsing>=2.3.1 in /Users/jernkun/Library/Caches/pypoetry/virtualenvs/zkstats-OJpceffF-py3.11/lib/python3.11/site-packages (from matplotlib->-r ../../requirements.txt (line 6)) (3.1.1)\n",
      "Requirement already satisfied: python-dateutil>=2.7 in /Users/jernkun/Library/Caches/pypoetry/virtualenvs/zkstats-OJpceffF-py3.11/lib/python3.11/site-packages (from matplotlib->-r ../../requirements.txt (line 6)) (2.8.2)\n",
      "Requirement already satisfied: docutils>=0.3 in /Users/jernkun/Library/Caches/pypoetry/virtualenvs/zkstats-OJpceffF-py3.11/lib/python3.11/site-packages (from statistics->-r ../../requirements.txt (line 7)) (0.20.1)\n",
      "Requirement already satisfied: protobuf>=3.20.2 in /Users/jernkun/Library/Caches/pypoetry/virtualenvs/zkstats-OJpceffF-py3.11/lib/python3.11/site-packages (from onnx->-r ../../requirements.txt (line 8)) (4.25.2)\n",
      "Requirement already satisfied: six>=1.5 in /Users/jernkun/Library/Caches/pypoetry/virtualenvs/zkstats-OJpceffF-py3.11/lib/python3.11/site-packages (from python-dateutil>=2.7->matplotlib->-r ../../requirements.txt (line 6)) (1.16.0)\n",
      "Requirement already satisfied: MarkupSafe>=2.0 in /Users/jernkun/Library/Caches/pypoetry/virtualenvs/zkstats-OJpceffF-py3.11/lib/python3.11/site-packages (from jinja2->torch->-r ../../requirements.txt (line 2)) (2.1.4)\n",
      "Requirement already satisfied: mpmath>=0.19 in /Users/jernkun/Library/Caches/pypoetry/virtualenvs/zkstats-OJpceffF-py3.11/lib/python3.11/site-packages (from sympy->torch->-r ../../requirements.txt (line 2)) (1.3.0)\n",
      "\n",
      "\u001b[1m[\u001b[0m\u001b[34;49mnotice\u001b[0m\u001b[1;39;49m]\u001b[0m\u001b[39;49m A new release of pip is available: \u001b[0m\u001b[31;49m23.2.1\u001b[0m\u001b[39;49m -> \u001b[0m\u001b[32;49m24.0\u001b[0m\n",
      "\u001b[1m[\u001b[0m\u001b[34;49mnotice\u001b[0m\u001b[1;39;49m]\u001b[0m\u001b[39;49m To update, run: \u001b[0m\u001b[32;49mpip install --upgrade pip\u001b[0m\n",
      "Note: you may need to restart the kernel to use updated packages.\n"
     ]
    }
   ],
   "source": [
    "pip install -r ../../requirements.txt"
   ]
  },
  {
   "cell_type": "code",
   "execution_count": 2,
   "metadata": {},
   "outputs": [],
   "source": [
    "import ezkl\n",
    "import torch\n",
    "from torch import nn\n",
    "import json\n",
    "import os\n",
    "import time\n",
    "import scipy\n",
    "import numpy as np\n",
    "import matplotlib.pyplot as plt\n",
    "import statistics\n",
    "import math"
   ]
  },
  {
   "cell_type": "code",
   "execution_count": 3,
   "metadata": {},
   "outputs": [],
   "source": [
    "from zkstats.core import create_dummy, verifier_define_calculation, prover_gen_settings, setup, prover_gen_proof, verifier_verify, get_data_commitment_maps"
   ]
  },
  {
   "attachments": {},
   "cell_type": "markdown",
   "metadata": {},
   "source": []
  },
  {
   "cell_type": "code",
   "execution_count": 4,
   "metadata": {},
   "outputs": [],
   "source": [
    "# init path\n",
    "os.makedirs(os.path.dirname('shared/'), exist_ok=True)\n",
    "os.makedirs(os.path.dirname('prover/'), exist_ok=True)\n",
    "verifier_model_path = os.path.join('shared/verifier.onnx')\n",
    "prover_model_path = os.path.join('prover/prover.onnx')\n",
    "verifier_compiled_model_path = os.path.join('shared/verifier.compiled')\n",
    "prover_compiled_model_path = os.path.join('prover/prover.compiled')\n",
    "pk_path = os.path.join('shared/test.pk')\n",
    "vk_path = os.path.join('shared/test.vk')\n",
    "proof_path = os.path.join('shared/test.pf')\n",
    "settings_path = os.path.join('shared/settings.json')\n",
    "srs_path = os.path.join('shared/kzg.srs')\n",
    "witness_path = os.path.join('prover/witness.json')\n",
    "# this is private to prover since it contains actual data\n",
    "sel_data_path = os.path.join('prover/sel_data.json')\n",
    "# this is just dummy random value\n",
    "sel_dummy_data_path = os.path.join('shared/sel_dummy_data.json')"
   ]
  },
  {
   "attachments": {},
   "cell_type": "markdown",
   "metadata": {},
   "source": [
    "=======================  ZK-STATS FLOW ======================="
   ]
  },
  {
   "attachments": {},
   "cell_type": "markdown",
   "metadata": {},
   "source": [
    "## Step 1\n",
    "Verifier calls `export_onnx` with dummy data, to generate the onnx model. Dummy data is used to infer the shape of the model\n",
    "\n",
    "### Output\n",
    "- `verifier.onnx` file"
   ]
  },
  {
   "cell_type": "code",
   "execution_count": 5,
   "metadata": {},
   "outputs": [],
   "source": [
    "data_path = os.path.join('data.json')\n",
    "dummy_data_path = os.path.join('shared/dummy_data.json')\n",
    "\n",
    "create_dummy(data_path, dummy_data_path)"
   ]
  },
  {
   "cell_type": "code",
   "execution_count": 6,
   "metadata": {},
   "outputs": [],
   "source": [
    "scales = [5]\n",
    "selected_columns = ['col_name']\n",
    "commitment_maps = get_data_commitment_maps(data_path, scales)"
   ]
  },
  {
   "cell_type": "code",
   "execution_count": 7,
   "metadata": {},
   "outputs": [
    {
     "name": "stderr",
     "output_type": "stream",
     "text": [
      "/Users/jernkun/Desktop/zk-stats-lib/zkstats/computation.py:166: TracerWarning: torch.tensor results are registered as constants in the trace. You can safely ignore this warning if you use this function to create tensors out of constant variables that would be the same every time you call this function. In any other case, this might cause the trace to be incorrect.\n",
      "  is_precise_aggregated = torch.tensor(1.0)\n",
      "/Users/jernkun/Library/Caches/pypoetry/virtualenvs/zkstats-OJpceffF-py3.11/lib/python3.11/site-packages/torch/onnx/symbolic_opset9.py:2174: FutureWarning: 'torch.onnx.symbolic_opset9._cast_Bool' is deprecated in version 2.0 and will be removed in the future. Please Avoid using this function and create a Cast node instead.\n",
      "  return fn(g, to_cast_func(g, input, False), to_cast_func(g, other, False))\n"
     ]
    }
   ],
   "source": [
    "# Verifier/ data consumer side: send desired calculation\n",
    "from zkstats.computation import computation_to_model, State\n",
    "\n",
    "\n",
    "def computation(s: State, data: list[torch.Tensor]) -> torch.Tensor:\n",
    "    x = data[0]\n",
    "    return s.mean(x)\n",
    "\n",
    "error = 0.01\n",
    "_, verifier_model = computation_to_model(computation, error)\n",
    "\n",
    "verifier_define_calculation(dummy_data_path, selected_columns, sel_dummy_data_path,verifier_model, verifier_model_path)"
   ]
  },
  {
   "attachments": {},
   "cell_type": "markdown",
   "metadata": {},
   "source": [
    "## Step 2\n",
    "- Prover gets the model from the verifier.\n",
    "- Prover overrides the `dummy_theory_output` with `theory_output`\n",
    "- Prover calls `prover_gen_settings`: export onnx file and compute the settings required by `ezkl.calibrate_settings`"
   ]
  },
  {
   "cell_type": "code",
   "execution_count": 8,
   "metadata": {},
   "outputs": [
    {
     "name": "stdout",
     "output_type": "stream",
     "text": [
      "==== Generate & Calibrate Setting ====\n",
      "scale:  [5]\n",
      "setting:  {\"run_args\":{\"tolerance\":{\"val\":0.0,\"scale\":1.0},\"input_scale\":5,\"param_scale\":5,\"scale_rebase_multiplier\":10,\"lookup_range\":[-1344,0],\"logrows\":12,\"num_inner_cols\":2,\"variables\":[[\"batch_size\",1]],\"input_visibility\":{\"Hashed\":{\"hash_is_public\":true,\"outlets\":[]}},\"output_visibility\":\"Public\",\"param_visibility\":\"Private\"},\"num_rows\":3936,\"total_assignments\":110,\"total_const_size\":4,\"model_instance_shapes\":[[1],[1]],\"model_output_scales\":[0,5],\"model_input_scales\":[5],\"module_sizes\":{\"kzg\":[],\"poseidon\":[3936,[1]],\"elgamal\":[0,[0]]},\"required_lookups\":[\"Abs\",{\"GreaterThan\":{\"a\":0.0}}],\"check_mode\":\"UNSAFE\",\"version\":\"7.0.0\",\"num_blinding_factors\":null}\n"
     ]
    }
   ],
   "source": [
    "# Prover/ data owner side\n",
    "_, prover_model = computation_to_model(computation, error)\n",
    "\n",
    "prover_gen_settings(data_path, selected_columns, sel_data_path, prover_model, prover_model_path, scales, \"resources\", settings_path)"
   ]
  },
  {
   "attachments": {},
   "cell_type": "markdown",
   "metadata": {},
   "source": [
    "## Step 3\n",
    "- Prover generates proof with `prover_gen_proof`:\n",
    "    - 1. Compile circuit with `compile_circuit`\n",
    "        - Inputs: onnx model, settings path\n",
    "        - Outputs: compiled \n",
    "    - 2. Generate witness with\n",
    "- Verifier generates keys with "
   ]
  },
  {
   "cell_type": "code",
   "execution_count": 9,
   "metadata": {},
   "outputs": [
    {
     "name": "stderr",
     "output_type": "stream",
     "text": [
      "spawning module 0\n",
      "spawning module 2\n"
     ]
    },
    {
     "name": "stdout",
     "output_type": "stream",
     "text": [
      "==== setting up ezkl ====\n"
     ]
    },
    {
     "name": "stderr",
     "output_type": "stream",
     "text": [
      "spawning module 0\n",
      "spawning module 2\n",
      "spawning module 0\n",
      "spawning module 2\n"
     ]
    },
    {
     "name": "stdout",
     "output_type": "stream",
     "text": [
      "Time setup: 0.5652117729187012 seconds\n",
      "=======================================\n",
      "==== Generating Witness ====\n",
      "witness boolean:  1.0\n",
      "witness result 1 : 42.125\n",
      "==== Generating Proof ====\n",
      "proof:  {'instances': [[[13487293430113784910, 12778393823498462323, 6887806571578554205, 1244238496825937973], [12436184717236109307, 3962172157175319849, 7381016538464732718, 1011752739694698287], [1786891257776170021, 2456895193576464786, 15851013958699291921, 426370788491761118]]], 'proof': '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', 'transcript_type': 'EVM'}\n",
      "Time gen prf: 0.7567589282989502 seconds\n"
     ]
    }
   ],
   "source": [
    "# Here verifier & prover can concurrently call setup since all params are public to get pk.\n",
    "# Here write as verifier function to emphasize that verifier must calculate its own vk to be sure\n",
    "setup(verifier_model_path, verifier_compiled_model_path, settings_path,vk_path, pk_path )\n",
    "\n",
    "print(\"=======================================\")\n",
    "# Prover generates proof\n",
    "prover_gen_proof(prover_model_path, sel_data_path, witness_path, prover_compiled_model_path, settings_path, proof_path, pk_path)"
   ]
  },
  {
   "cell_type": "code",
   "execution_count": 10,
   "metadata": {},
   "outputs": [
    {
     "name": "stdout",
     "output_type": "stream",
     "text": [
      "Verifier gets result: 42.125\n"
     ]
    }
   ],
   "source": [
    "# Verifier verifies\n",
    "res = verifier_verify(proof_path, settings_path, vk_path, selected_columns, commitment_maps)\n",
    "print(\"Verifier gets result:\", res)"
   ]
  },
  {
   "cell_type": "code",
   "execution_count": null,
   "metadata": {},
   "outputs": [],
   "source": []
  }
 ],
 "metadata": {
  "kernelspec": {
   "display_name": "Python 3",
   "language": "python",
   "name": "python3"
  },
  "language_info": {
   "codemirror_mode": {
    "name": "ipython",
    "version": 3
   },
   "file_extension": ".py",
   "mimetype": "text/x-python",
   "name": "python",
   "nbconvert_exporter": "python",
   "pygments_lexer": "ipython3",
   "version": "3.11.4"
  },
  "orig_nbformat": 4
 },
 "nbformat": 4,
 "nbformat_minor": 2
}
