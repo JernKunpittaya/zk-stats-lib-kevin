{
 "cells": [
  {
   "cell_type": "code",
   "execution_count": 1,
   "metadata": {},
   "outputs": [
    {
     "name": "stdout",
     "output_type": "stream",
     "text": [
      "Requirement already satisfied: ezkl==5.0.8 in /Library/Frameworks/Python.framework/Versions/3.10/lib/python3.10/site-packages (from -r ../../requirements.txt (line 1)) (5.0.8)\n",
      "Requirement already satisfied: torch in /Library/Frameworks/Python.framework/Versions/3.10/lib/python3.10/site-packages (from -r ../../requirements.txt (line 2)) (2.1.1)\n",
      "Requirement already satisfied: requests in /Library/Frameworks/Python.framework/Versions/3.10/lib/python3.10/site-packages (from -r ../../requirements.txt (line 3)) (2.31.0)\n",
      "Requirement already satisfied: scipy in /Library/Frameworks/Python.framework/Versions/3.10/lib/python3.10/site-packages (from -r ../../requirements.txt (line 4)) (1.11.4)\n",
      "Requirement already satisfied: numpy in /Library/Frameworks/Python.framework/Versions/3.10/lib/python3.10/site-packages (from -r ../../requirements.txt (line 5)) (1.26.2)\n",
      "Requirement already satisfied: matplotlib in /Library/Frameworks/Python.framework/Versions/3.10/lib/python3.10/site-packages (from -r ../../requirements.txt (line 6)) (3.8.2)\n",
      "Requirement already satisfied: statistics in /Library/Frameworks/Python.framework/Versions/3.10/lib/python3.10/site-packages (from -r ../../requirements.txt (line 7)) (1.0.3.5)\n",
      "Requirement already satisfied: onnx in /Library/Frameworks/Python.framework/Versions/3.10/lib/python3.10/site-packages (from -r ../../requirements.txt (line 8)) (1.15.0)\n",
      "Requirement already satisfied: filelock in /Library/Frameworks/Python.framework/Versions/3.10/lib/python3.10/site-packages (from torch->-r ../../requirements.txt (line 2)) (3.13.1)\n",
      "Requirement already satisfied: networkx in /Library/Frameworks/Python.framework/Versions/3.10/lib/python3.10/site-packages (from torch->-r ../../requirements.txt (line 2)) (3.2.1)\n",
      "Requirement already satisfied: fsspec in /Library/Frameworks/Python.framework/Versions/3.10/lib/python3.10/site-packages (from torch->-r ../../requirements.txt (line 2)) (2023.10.0)\n",
      "Requirement already satisfied: sympy in /Library/Frameworks/Python.framework/Versions/3.10/lib/python3.10/site-packages (from torch->-r ../../requirements.txt (line 2)) (1.12)\n",
      "Requirement already satisfied: typing-extensions in /Library/Frameworks/Python.framework/Versions/3.10/lib/python3.10/site-packages (from torch->-r ../../requirements.txt (line 2)) (4.8.0)\n",
      "Requirement already satisfied: jinja2 in /Library/Frameworks/Python.framework/Versions/3.10/lib/python3.10/site-packages (from torch->-r ../../requirements.txt (line 2)) (3.1.2)\n",
      "Requirement already satisfied: urllib3<3,>=1.21.1 in /Library/Frameworks/Python.framework/Versions/3.10/lib/python3.10/site-packages (from requests->-r ../../requirements.txt (line 3)) (2.1.0)\n",
      "Requirement already satisfied: certifi>=2017.4.17 in /Library/Frameworks/Python.framework/Versions/3.10/lib/python3.10/site-packages (from requests->-r ../../requirements.txt (line 3)) (2023.11.17)\n",
      "Requirement already satisfied: charset-normalizer<4,>=2 in /Library/Frameworks/Python.framework/Versions/3.10/lib/python3.10/site-packages (from requests->-r ../../requirements.txt (line 3)) (3.3.2)\n",
      "Requirement already satisfied: idna<4,>=2.5 in /Library/Frameworks/Python.framework/Versions/3.10/lib/python3.10/site-packages (from requests->-r ../../requirements.txt (line 3)) (3.6)\n",
      "Requirement already satisfied: cycler>=0.10 in /Library/Frameworks/Python.framework/Versions/3.10/lib/python3.10/site-packages (from matplotlib->-r ../../requirements.txt (line 6)) (0.12.1)\n",
      "Requirement already satisfied: kiwisolver>=1.3.1 in /Library/Frameworks/Python.framework/Versions/3.10/lib/python3.10/site-packages (from matplotlib->-r ../../requirements.txt (line 6)) (1.4.5)\n",
      "Requirement already satisfied: fonttools>=4.22.0 in /Library/Frameworks/Python.framework/Versions/3.10/lib/python3.10/site-packages (from matplotlib->-r ../../requirements.txt (line 6)) (4.45.1)\n",
      "Requirement already satisfied: packaging>=20.0 in /Users/jernkun/Library/Python/3.10/lib/python/site-packages (from matplotlib->-r ../../requirements.txt (line 6)) (23.2)\n",
      "Requirement already satisfied: python-dateutil>=2.7 in /Users/jernkun/Library/Python/3.10/lib/python/site-packages (from matplotlib->-r ../../requirements.txt (line 6)) (2.8.2)\n",
      "Requirement already satisfied: contourpy>=1.0.1 in /Library/Frameworks/Python.framework/Versions/3.10/lib/python3.10/site-packages (from matplotlib->-r ../../requirements.txt (line 6)) (1.2.0)\n",
      "Requirement already satisfied: pillow>=8 in /Library/Frameworks/Python.framework/Versions/3.10/lib/python3.10/site-packages (from matplotlib->-r ../../requirements.txt (line 6)) (10.1.0)\n",
      "Requirement already satisfied: pyparsing>=2.3.1 in /Library/Frameworks/Python.framework/Versions/3.10/lib/python3.10/site-packages (from matplotlib->-r ../../requirements.txt (line 6)) (3.1.1)\n",
      "Requirement already satisfied: docutils>=0.3 in /Library/Frameworks/Python.framework/Versions/3.10/lib/python3.10/site-packages (from statistics->-r ../../requirements.txt (line 7)) (0.20.1)\n",
      "Requirement already satisfied: protobuf>=3.20.2 in /Library/Frameworks/Python.framework/Versions/3.10/lib/python3.10/site-packages (from onnx->-r ../../requirements.txt (line 8)) (4.25.1)\n",
      "Requirement already satisfied: six>=1.5 in /Users/jernkun/Library/Python/3.10/lib/python/site-packages (from python-dateutil>=2.7->matplotlib->-r ../../requirements.txt (line 6)) (1.16.0)\n",
      "Requirement already satisfied: MarkupSafe>=2.0 in /Library/Frameworks/Python.framework/Versions/3.10/lib/python3.10/site-packages (from jinja2->torch->-r ../../requirements.txt (line 2)) (2.1.3)\n",
      "Requirement already satisfied: mpmath>=0.19 in /Library/Frameworks/Python.framework/Versions/3.10/lib/python3.10/site-packages (from sympy->torch->-r ../../requirements.txt (line 2)) (1.3.0)\n",
      "\u001b[33mWARNING: You are using pip version 21.2.3; however, version 23.3.1 is available.\n",
      "You should consider upgrading via the '/usr/local/bin/python3 -m pip install --upgrade pip' command.\u001b[0m\n",
      "Note: you may need to restart the kernel to use updated packages.\n"
     ]
    }
   ],
   "source": [
    "pip install -r ../../requirements.txt"
   ]
  },
  {
   "cell_type": "code",
   "execution_count": 34,
   "metadata": {},
   "outputs": [],
   "source": [
    "import ezkl\n",
    "import torch\n",
    "from torch import nn\n",
    "import json\n",
    "import os\n",
    "import time\n",
    "import scipy\n",
    "import numpy as np\n",
    "import matplotlib.pyplot as plt\n",
    "import statistics\n",
    "import math"
   ]
  },
  {
   "cell_type": "code",
   "execution_count": 35,
   "metadata": {},
   "outputs": [],
   "source": [
    "%run -i ../../core.py"
   ]
  },
  {
   "attachments": {},
   "cell_type": "markdown",
   "metadata": {},
   "source": []
  },
  {
   "cell_type": "code",
   "execution_count": 36,
   "metadata": {},
   "outputs": [],
   "source": [
    "# init path\n",
    "os.makedirs(os.path.dirname('shared/'), exist_ok=True)\n",
    "os.makedirs(os.path.dirname('prover/'), exist_ok=True)\n",
    "verifier_model_path = os.path.join('shared/verifier.onnx')\n",
    "prover_model_path = os.path.join('prover/prover.onnx')\n",
    "verifier_compiled_model_path = os.path.join('shared/verifier.compiled')\n",
    "prover_compiled_model_path = os.path.join('prover/prover.compiled')\n",
    "pk_path = os.path.join('shared/test.pk')\n",
    "vk_path = os.path.join('shared/test.vk')\n",
    "proof_path = os.path.join('shared/test.pf')\n",
    "settings_path = os.path.join('shared/settings.json')\n",
    "srs_path = os.path.join('shared/kzg.srs')\n",
    "witness_path = os.path.join('prover/witness.json')\n",
    "# this is private to prover since it contains actual data\n",
    "comb_data_path = os.path.join('prover/comb_data.json')"
   ]
  },
  {
   "attachments": {},
   "cell_type": "markdown",
   "metadata": {},
   "source": [
    "=======================  ZK-STATS FLOW ======================="
   ]
  },
  {
   "cell_type": "code",
   "execution_count": 37,
   "metadata": {},
   "outputs": [],
   "source": [
    "data_path = os.path.join('data.json')\n",
    "dummy_data_path = os.path.join('shared/dummy_data.json')\n",
    "\n",
    "f_raw_input = open(data_path, \"r\")\n",
    "data = json.loads(f_raw_input.read())[\"input_data\"][0]\n",
    "data_tensor = torch.reshape(torch.tensor(data),(1, len(data), 1))\n",
    "\n",
    "#  dummy data for data consumer: make the bound approx same as real data\n",
    "dummy_data = np.random.uniform(min(data), max(data), len(data))\n",
    "json.dump({\"input_data\":[dummy_data.tolist()]}, open(dummy_data_path, 'w'))\n",
    "\n",
    "dummy_data_tensor = torch.reshape(torch.tensor(dummy_data), (1, len(dummy_data),1 ))\n",
    "dummy_theory_output = torch.mean(dummy_data_tensor)\n",
    "\n"
   ]
  },
  {
   "cell_type": "code",
   "execution_count": 38,
   "metadata": {},
   "outputs": [],
   "source": [
    "# Verifier/ data consumer side: send desired calculation\n",
    "class verifier_model(nn.Module):\n",
    "    def __init__(self):\n",
    "        super(verifier_model, self).__init__()\n",
    "        # w represents mean in this case\n",
    "        self.w = nn.Parameter(data = dummy_theory_output, requires_grad = False)\n",
    "\n",
    "    def forward(self,X):\n",
    "        # some expression of tolerance to error in the inference\n",
    "        return (torch.abs(torch.sum(X)-X.size()[1]*(self.w))<0.01*X.size()[1]*(self.w), self.w)\n",
    "    \n",
    "verifier_define_calculation(verifier_model, verifier_model_path, [dummy_data_path])"
   ]
  },
  {
   "cell_type": "code",
   "execution_count": 39,
   "metadata": {},
   "outputs": [
    {
     "name": "stdout",
     "output_type": "stream",
     "text": [
      "Theory_output:  tensor(49.9700)\n",
      "==== Generate & Calibrate Setting ====\n",
      "scale:  [0]\n",
      "setting:  {\"run_args\":{\"tolerance\":{\"val\":0.0,\"scale\":1.0},\"input_scale\":0,\"param_scale\":0,\"scale_rebase_multiplier\":10,\"lookup_range\":[0,300],\"logrows\":14,\"num_inner_cols\":1,\"variables\":[[\"batch_size\",1]],\"input_visibility\":{\"Hashed\":{\"hash_is_public\":true,\"outlets\":[]}},\"output_visibility\":\"Public\",\"param_visibility\":\"Private\"},\"num_rows\":14432,\"total_assignments\":606,\"total_const_size\":0,\"model_instance_shapes\":[[1],[1]],\"model_output_scales\":[0,0],\"model_input_scales\":[0],\"module_sizes\":{\"kzg\":[],\"poseidon\":[14432,[1]],\"elgamal\":[0,[0]]},\"required_lookups\":[\"Abs\",{\"GreaterThan\":{\"a\":0.0}}],\"check_mode\":\"UNSAFE\",\"version\":\"5.0.8\",\"num_blinding_factors\":null}\n"
     ]
    }
   ],
   "source": [
    "# prover calculates settings, send to verifier\n",
    "\n",
    "theory_output = torch.mean(data_tensor)\n",
    "print(\"Theory_output: \", theory_output)\n",
    "class prover_model(nn.Module):\n",
    "    def __init__(self):\n",
    "        super(prover_model, self).__init__()\n",
    "        # w represents mean in this case\n",
    "        self.w = nn.Parameter(data = theory_output, requires_grad = False)\n",
    "\n",
    "    def forward(self,X):\n",
    "        # some expression of tolerance to error in the inference\n",
    "        return (torch.abs(torch.sum(X)-X.size()[1]*(self.w))<0.01*X.size()[1]*(self.w), self.w)\n",
    "prover_gen_settings([data_path], comb_data_path, prover_model,prover_model_path, [0], \"resources\", settings_path)"
   ]
  },
  {
   "cell_type": "code",
   "execution_count": 40,
   "metadata": {},
   "outputs": [
    {
     "name": "stderr",
     "output_type": "stream",
     "text": [
      "spawning module 0\n",
      "spawning module 2\n"
     ]
    },
    {
     "name": "stdout",
     "output_type": "stream",
     "text": [
      "==== setting up ezkl ====\n"
     ]
    },
    {
     "name": "stderr",
     "output_type": "stream",
     "text": [
      "spawning module 0\n",
      "spawning module 2\n",
      "spawning module 0\n"
     ]
    },
    {
     "name": "stdout",
     "output_type": "stream",
     "text": [
      "Time setup: 1.4083738327026367 seconds\n",
      "=======================================\n",
      "Theory output:  tensor(49.9700)\n",
      "==== Generating Witness ====\n",
      "witness boolean:  1.0\n",
      "witness result 1 : 50.0\n",
      "==== Generating Proof ====\n"
     ]
    },
    {
     "name": "stderr",
     "output_type": "stream",
     "text": [
      "spawning module 2\n"
     ]
    },
    {
     "name": "stdout",
     "output_type": "stream",
     "text": [
      "proof:  {'instances': [[[10512373747352303962, 11798585516934984832, 13421675179368312123, 2200257403316998104], [12436184717236109307, 3962172157175319849, 7381016538464732718, 1011752739694698287], [18373208119716085496, 9977853902793730609, 17093442942004944878, 1769661249493325049]]], 'proof': '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', 'transcript_type': 'EVM'}\n",
      "Time gen prf: 1.9013843536376953 seconds\n"
     ]
    }
   ],
   "source": [
    "# Here verifier & prover can concurrently call setup since all params are public to get pk. \n",
    "# Here write as verifier function to emphasize that verifier must calculate its own vk to be sure\n",
    "verifier_setup(verifier_model_path, verifier_compiled_model_path, settings_path, srs_path,vk_path, pk_path )\n",
    "\n",
    "print(\"=======================================\")\n",
    "# Prover generates proof\n",
    "print(\"Theory output: \", theory_output)\n",
    "prover_gen_proof(prover_model_path, comb_data_path, witness_path, prover_compiled_model_path, settings_path, proof_path, pk_path, srs_path)"
   ]
  },
  {
   "cell_type": "code",
   "execution_count": 41,
   "metadata": {},
   "outputs": [
    {
     "name": "stdout",
     "output_type": "stream",
     "text": [
      "num_inputs:  1\n",
      "prf instances:  [[[10512373747352303962, 11798585516934984832, 13421675179368312123, 2200257403316998104], [12436184717236109307, 3962172157175319849, 7381016538464732718, 1011752739694698287], [18373208119716085496, 9977853902793730609, 17093442942004944878, 1769661249493325049]]]\n",
      "proof boolean:  1.0\n",
      "proof result 1 : 50.0\n",
      "verified\n"
     ]
    }
   ],
   "source": [
    "# Verifier verifies\n",
    "verifier_verify(proof_path, settings_path, vk_path, srs_path)"
   ]
  },
  {
   "cell_type": "code",
   "execution_count": null,
   "metadata": {},
   "outputs": [],
   "source": []
  }
 ],
 "metadata": {
  "kernelspec": {
   "display_name": "Python 3",
   "language": "python",
   "name": "python3"
  },
  "language_info": {
   "codemirror_mode": {
    "name": "ipython",
    "version": 3
   },
   "file_extension": ".py",
   "mimetype": "text/x-python",
   "name": "python",
   "nbconvert_exporter": "python",
   "pygments_lexer": "ipython3",
   "version": "3.10.0"
  },
  "orig_nbformat": 4
 },
 "nbformat": 4,
 "nbformat_minor": 2
}
