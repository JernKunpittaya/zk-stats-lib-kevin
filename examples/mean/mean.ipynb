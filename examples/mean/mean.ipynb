{
 "cells": [
  {
   "cell_type": "code",
   "execution_count": 1,
   "metadata": {},
   "outputs": [
    {
     "name": "stdout",
     "output_type": "stream",
     "text": [
      "Requirement already satisfied: ezkl==9.1.0 in /Users/jernkun/Library/Caches/pypoetry/virtualenvs/zkstats-OJpceffF-py3.11/lib/python3.11/site-packages (from -r ../../requirements.txt (line 1)) (9.1.0)\n",
      "Requirement already satisfied: torch in /Users/jernkun/Library/Caches/pypoetry/virtualenvs/zkstats-OJpceffF-py3.11/lib/python3.11/site-packages (from -r ../../requirements.txt (line 2)) (2.2.0)\n",
      "Requirement already satisfied: requests in /Users/jernkun/Library/Caches/pypoetry/virtualenvs/zkstats-OJpceffF-py3.11/lib/python3.11/site-packages (from -r ../../requirements.txt (line 3)) (2.31.0)\n",
      "Requirement already satisfied: scipy in /Users/jernkun/Library/Caches/pypoetry/virtualenvs/zkstats-OJpceffF-py3.11/lib/python3.11/site-packages (from -r ../../requirements.txt (line 4)) (1.12.0)\n",
      "Requirement already satisfied: numpy in /Users/jernkun/Library/Caches/pypoetry/virtualenvs/zkstats-OJpceffF-py3.11/lib/python3.11/site-packages (from -r ../../requirements.txt (line 5)) (1.26.3)\n",
      "Requirement already satisfied: matplotlib in /Users/jernkun/Library/Caches/pypoetry/virtualenvs/zkstats-OJpceffF-py3.11/lib/python3.11/site-packages (from -r ../../requirements.txt (line 6)) (3.8.2)\n",
      "Requirement already satisfied: statistics in /Users/jernkun/Library/Caches/pypoetry/virtualenvs/zkstats-OJpceffF-py3.11/lib/python3.11/site-packages (from -r ../../requirements.txt (line 7)) (1.0.3.5)\n",
      "Requirement already satisfied: onnx in /Users/jernkun/Library/Caches/pypoetry/virtualenvs/zkstats-OJpceffF-py3.11/lib/python3.11/site-packages (from -r ../../requirements.txt (line 8)) (1.15.0)\n",
      "Requirement already satisfied: filelock in /Users/jernkun/Library/Caches/pypoetry/virtualenvs/zkstats-OJpceffF-py3.11/lib/python3.11/site-packages (from torch->-r ../../requirements.txt (line 2)) (3.13.1)\n",
      "Requirement already satisfied: typing-extensions>=4.8.0 in /Users/jernkun/Library/Caches/pypoetry/virtualenvs/zkstats-OJpceffF-py3.11/lib/python3.11/site-packages (from torch->-r ../../requirements.txt (line 2)) (4.9.0)\n",
      "Requirement already satisfied: sympy in /Users/jernkun/Library/Caches/pypoetry/virtualenvs/zkstats-OJpceffF-py3.11/lib/python3.11/site-packages (from torch->-r ../../requirements.txt (line 2)) (1.12)\n",
      "Requirement already satisfied: networkx in /Users/jernkun/Library/Caches/pypoetry/virtualenvs/zkstats-OJpceffF-py3.11/lib/python3.11/site-packages (from torch->-r ../../requirements.txt (line 2)) (3.2.1)\n",
      "Requirement already satisfied: jinja2 in /Users/jernkun/Library/Caches/pypoetry/virtualenvs/zkstats-OJpceffF-py3.11/lib/python3.11/site-packages (from torch->-r ../../requirements.txt (line 2)) (3.1.3)\n",
      "Requirement already satisfied: fsspec in /Users/jernkun/Library/Caches/pypoetry/virtualenvs/zkstats-OJpceffF-py3.11/lib/python3.11/site-packages (from torch->-r ../../requirements.txt (line 2)) (2023.12.2)\n",
      "Requirement already satisfied: charset-normalizer<4,>=2 in /Users/jernkun/Library/Caches/pypoetry/virtualenvs/zkstats-OJpceffF-py3.11/lib/python3.11/site-packages (from requests->-r ../../requirements.txt (line 3)) (3.3.2)\n",
      "Requirement already satisfied: idna<4,>=2.5 in /Users/jernkun/Library/Caches/pypoetry/virtualenvs/zkstats-OJpceffF-py3.11/lib/python3.11/site-packages (from requests->-r ../../requirements.txt (line 3)) (3.6)\n",
      "Requirement already satisfied: urllib3<3,>=1.21.1 in /Users/jernkun/Library/Caches/pypoetry/virtualenvs/zkstats-OJpceffF-py3.11/lib/python3.11/site-packages (from requests->-r ../../requirements.txt (line 3)) (2.2.0)\n",
      "Requirement already satisfied: certifi>=2017.4.17 in /Users/jernkun/Library/Caches/pypoetry/virtualenvs/zkstats-OJpceffF-py3.11/lib/python3.11/site-packages (from requests->-r ../../requirements.txt (line 3)) (2024.2.2)\n",
      "Requirement already satisfied: contourpy>=1.0.1 in /Users/jernkun/Library/Caches/pypoetry/virtualenvs/zkstats-OJpceffF-py3.11/lib/python3.11/site-packages (from matplotlib->-r ../../requirements.txt (line 6)) (1.2.0)\n",
      "Requirement already satisfied: cycler>=0.10 in /Users/jernkun/Library/Caches/pypoetry/virtualenvs/zkstats-OJpceffF-py3.11/lib/python3.11/site-packages (from matplotlib->-r ../../requirements.txt (line 6)) (0.12.1)\n",
      "Requirement already satisfied: fonttools>=4.22.0 in /Users/jernkun/Library/Caches/pypoetry/virtualenvs/zkstats-OJpceffF-py3.11/lib/python3.11/site-packages (from matplotlib->-r ../../requirements.txt (line 6)) (4.47.2)\n",
      "Requirement already satisfied: kiwisolver>=1.3.1 in /Users/jernkun/Library/Caches/pypoetry/virtualenvs/zkstats-OJpceffF-py3.11/lib/python3.11/site-packages (from matplotlib->-r ../../requirements.txt (line 6)) (1.4.5)\n",
      "Requirement already satisfied: packaging>=20.0 in /Users/jernkun/Library/Caches/pypoetry/virtualenvs/zkstats-OJpceffF-py3.11/lib/python3.11/site-packages (from matplotlib->-r ../../requirements.txt (line 6)) (23.2)\n",
      "Requirement already satisfied: pillow>=8 in /Users/jernkun/Library/Caches/pypoetry/virtualenvs/zkstats-OJpceffF-py3.11/lib/python3.11/site-packages (from matplotlib->-r ../../requirements.txt (line 6)) (10.2.0)\n",
      "Requirement already satisfied: pyparsing>=2.3.1 in /Users/jernkun/Library/Caches/pypoetry/virtualenvs/zkstats-OJpceffF-py3.11/lib/python3.11/site-packages (from matplotlib->-r ../../requirements.txt (line 6)) (3.1.1)\n",
      "Requirement already satisfied: python-dateutil>=2.7 in /Users/jernkun/Library/Caches/pypoetry/virtualenvs/zkstats-OJpceffF-py3.11/lib/python3.11/site-packages (from matplotlib->-r ../../requirements.txt (line 6)) (2.8.2)\n",
      "Requirement already satisfied: docutils>=0.3 in /Users/jernkun/Library/Caches/pypoetry/virtualenvs/zkstats-OJpceffF-py3.11/lib/python3.11/site-packages (from statistics->-r ../../requirements.txt (line 7)) (0.20.1)\n",
      "Requirement already satisfied: protobuf>=3.20.2 in /Users/jernkun/Library/Caches/pypoetry/virtualenvs/zkstats-OJpceffF-py3.11/lib/python3.11/site-packages (from onnx->-r ../../requirements.txt (line 8)) (4.25.2)\n",
      "Requirement already satisfied: six>=1.5 in /Users/jernkun/Library/Caches/pypoetry/virtualenvs/zkstats-OJpceffF-py3.11/lib/python3.11/site-packages (from python-dateutil>=2.7->matplotlib->-r ../../requirements.txt (line 6)) (1.16.0)\n",
      "Requirement already satisfied: MarkupSafe>=2.0 in /Users/jernkun/Library/Caches/pypoetry/virtualenvs/zkstats-OJpceffF-py3.11/lib/python3.11/site-packages (from jinja2->torch->-r ../../requirements.txt (line 2)) (2.1.4)\n",
      "Requirement already satisfied: mpmath>=0.19 in /Users/jernkun/Library/Caches/pypoetry/virtualenvs/zkstats-OJpceffF-py3.11/lib/python3.11/site-packages (from sympy->torch->-r ../../requirements.txt (line 2)) (1.3.0)\n",
      "\n",
      "\u001b[1m[\u001b[0m\u001b[34;49mnotice\u001b[0m\u001b[1;39;49m]\u001b[0m\u001b[39;49m A new release of pip is available: \u001b[0m\u001b[31;49m23.2.1\u001b[0m\u001b[39;49m -> \u001b[0m\u001b[32;49m24.0\u001b[0m\n",
      "\u001b[1m[\u001b[0m\u001b[34;49mnotice\u001b[0m\u001b[1;39;49m]\u001b[0m\u001b[39;49m To update, run: \u001b[0m\u001b[32;49mpip install --upgrade pip\u001b[0m\n",
      "Note: you may need to restart the kernel to use updated packages.\n"
     ]
    }
   ],
   "source": [
    "pip install -r ../../requirements.txt"
   ]
  },
  {
   "cell_type": "code",
   "execution_count": 2,
   "metadata": {},
   "outputs": [],
   "source": [
    "import ezkl\n",
    "import torch\n",
    "from torch import nn\n",
    "import json\n",
    "import os\n",
    "import time\n",
    "import scipy\n",
    "import numpy as np\n",
    "import matplotlib.pyplot as plt\n",
    "import statistics\n",
    "import math"
   ]
  },
  {
   "cell_type": "code",
   "execution_count": 3,
   "metadata": {},
   "outputs": [],
   "source": [
    "from zkstats.core import create_dummy, verifier_define_calculation, prover_gen_settings, setup, prover_gen_proof, verifier_verify, get_data_commitment_maps"
   ]
  },
  {
   "attachments": {},
   "cell_type": "markdown",
   "metadata": {},
   "source": []
  },
  {
   "cell_type": "code",
   "execution_count": 4,
   "metadata": {},
   "outputs": [],
   "source": [
    "# init path\n",
    "os.makedirs(os.path.dirname('shared/'), exist_ok=True)\n",
    "os.makedirs(os.path.dirname('prover/'), exist_ok=True)\n",
    "verifier_model_path = os.path.join('shared/verifier.onnx')\n",
    "prover_model_path = os.path.join('prover/prover.onnx')\n",
    "verifier_compiled_model_path = os.path.join('shared/verifier.compiled')\n",
    "prover_compiled_model_path = os.path.join('prover/prover.compiled')\n",
    "pk_path = os.path.join('shared/test.pk')\n",
    "vk_path = os.path.join('shared/test.vk')\n",
    "proof_path = os.path.join('shared/test.pf')\n",
    "settings_path = os.path.join('shared/settings.json')\n",
    "srs_path = os.path.join('shared/kzg.srs')\n",
    "witness_path = os.path.join('prover/witness.json')\n",
    "# this is private to prover since it contains actual data\n",
    "sel_data_path = os.path.join('prover/sel_data.json')\n",
    "# this is just dummy random value\n",
    "sel_dummy_data_path = os.path.join('shared/sel_dummy_data.json')"
   ]
  },
  {
   "attachments": {},
   "cell_type": "markdown",
   "metadata": {},
   "source": [
    "=======================  ZK-STATS FLOW ======================="
   ]
  },
  {
   "attachments": {},
   "cell_type": "markdown",
   "metadata": {},
   "source": [
    "## Step 1\n",
    "Verifier calls `export_onnx` with dummy data, to generate the onnx model. Dummy data is used to infer the shape of the model\n",
    "\n",
    "### Output\n",
    "- `verifier.onnx` file"
   ]
  },
  {
   "cell_type": "code",
   "execution_count": 5,
   "metadata": {},
   "outputs": [],
   "source": [
    "data_path = os.path.join('data.json')\n",
    "dummy_data_path = os.path.join('shared/dummy_data.json')\n",
    "\n",
    "create_dummy(data_path, dummy_data_path)"
   ]
  },
  {
   "cell_type": "code",
   "execution_count": 6,
   "metadata": {},
   "outputs": [],
   "source": [
    "scales = [5]\n",
    "selected_columns = ['col_name']\n",
    "commitment_maps = get_data_commitment_maps(data_path, scales)"
   ]
  },
  {
   "cell_type": "code",
   "execution_count": 7,
   "metadata": {},
   "outputs": [
    {
     "name": "stderr",
     "output_type": "stream",
     "text": [
      "/Users/jernkun/Desktop/zk-stats-lib/zkstats/computation.py:166: TracerWarning: torch.tensor results are registered as constants in the trace. You can safely ignore this warning if you use this function to create tensors out of constant variables that would be the same every time you call this function. In any other case, this might cause the trace to be incorrect.\n",
      "  is_precise_aggregated = torch.tensor(1.0)\n",
      "/Users/jernkun/Library/Caches/pypoetry/virtualenvs/zkstats-OJpceffF-py3.11/lib/python3.11/site-packages/torch/onnx/symbolic_opset9.py:2174: FutureWarning: 'torch.onnx.symbolic_opset9._cast_Bool' is deprecated in version 2.0 and will be removed in the future. Please Avoid using this function and create a Cast node instead.\n",
      "  return fn(g, to_cast_func(g, input, False), to_cast_func(g, other, False))\n"
     ]
    }
   ],
   "source": [
    "# Verifier/ data consumer side: send desired calculation\n",
    "from zkstats.computation import computation_to_model, State\n",
    "\n",
    "\n",
    "def computation(s: State, data: list[torch.Tensor]) -> torch.Tensor:\n",
    "    x = data[0]\n",
    "    return s.mean(x)\n",
    "\n",
    "error = 0.01\n",
    "_, verifier_model = computation_to_model(computation, error)\n",
    "\n",
    "verifier_define_calculation(dummy_data_path, selected_columns, sel_dummy_data_path,verifier_model, verifier_model_path)"
   ]
  },
  {
   "attachments": {},
   "cell_type": "markdown",
   "metadata": {},
   "source": [
    "## Step 2\n",
    "- Prover gets the model from the verifier.\n",
    "- Prover overrides the `dummy_theory_output` with `theory_output`\n",
    "- Prover calls `prover_gen_settings`: export onnx file and compute the settings required by `ezkl.calibrate_settings`"
   ]
  },
  {
   "cell_type": "code",
   "execution_count": 8,
   "metadata": {},
   "outputs": [
    {
     "name": "stderr",
     "output_type": "stream",
     "text": [
      "\n",
      "\n",
      " <------------- Numerical Fidelity Report (input_scale: 5, param_scale: 5, scale_input_multiplier: 10) ------------->\n",
      "\n",
      "+--------------+--------------+-------------+-----------+----------------+------------------+---------------+---------------+--------------------+--------------------+------------------------+\n",
      "| mean_error   | median_error | max_error   | min_error | mean_abs_error | median_abs_error | max_abs_error | min_abs_error | mean_squared_error | mean_percent_error | mean_abs_percent_error |\n",
      "+--------------+--------------+-------------+-----------+----------------+------------------+---------------+---------------+--------------------+--------------------+------------------------+\n",
      "| 0.0044994354 | 0.008998871  | 0.008998871 | 0         | 0.0044994354   | 0.008998871      | 0.008998871   | 0             | 0.00004048984      | 0.00010678871      | 0.00010678871          |\n",
      "+--------------+--------------+-------------+-----------+----------------+------------------+---------------+---------------+--------------------+--------------------+------------------------+\n",
      "\n",
      "\n"
     ]
    },
    {
     "name": "stdout",
     "output_type": "stream",
     "text": [
      "==== Generate & Calibrate Setting ====\n",
      "scale:  [5]\n",
      "setting:  {\"run_args\":{\"tolerance\":{\"val\":0.0,\"scale\":1.0},\"input_scale\":5,\"param_scale\":5,\"scale_rebase_multiplier\":10,\"lookup_range\":[-1344,0],\"logrows\":12,\"num_inner_cols\":2,\"variables\":[[\"batch_size\",1]],\"input_visibility\":{\"Hashed\":{\"hash_is_public\":true,\"outlets\":[]}},\"output_visibility\":\"Public\",\"param_visibility\":\"Private\",\"div_rebasing\":false,\"rebase_frac_zero_constants\":false,\"check_mode\":\"UNSAFE\"},\"num_rows\":3936,\"total_assignments\":111,\"total_const_size\":4,\"model_instance_shapes\":[[1],[1]],\"model_output_scales\":[0,5],\"model_input_scales\":[5],\"module_sizes\":{\"kzg\":[],\"poseidon\":[3936,[1]]},\"required_lookups\":[{\"GreaterThan\":{\"a\":0.0}},\"Abs\"],\"required_range_checks\":[],\"check_mode\":\"UNSAFE\",\"version\":\"9.1.0\",\"num_blinding_factors\":null,\"timestamp\":1709450364929}\n"
     ]
    }
   ],
   "source": [
    "# Prover/ data owner side\n",
    "_, prover_model = computation_to_model(computation, error)\n",
    "\n",
    "prover_gen_settings(data_path, selected_columns, sel_data_path, prover_model, prover_model_path, scales, \"resources\", settings_path)"
   ]
  },
  {
   "attachments": {},
   "cell_type": "markdown",
   "metadata": {},
   "source": [
    "## Step 3\n",
    "- Prover generates proof with `prover_gen_proof`:\n",
    "    - 1. Compile circuit with `compile_circuit`\n",
    "        - Inputs: onnx model, settings path\n",
    "        - Outputs: compiled \n",
    "    - 2. Generate witness with\n",
    "- Verifier generates keys with "
   ]
  },
  {
   "cell_type": "code",
   "execution_count": 9,
   "metadata": {},
   "outputs": [
    {
     "name": "stdout",
     "output_type": "stream",
     "text": [
      "==== setting up ezkl ====\n",
      "Time setup: 0.5032918453216553 seconds\n",
      "=======================================\n",
      "==== Generating Witness ====\n",
      "witness boolean:  1.0\n",
      "witness result 1 : 42.125\n",
      "==== Generating Proof ====\n",
      "proof:  {'instances': [['cde4916bd205742cffb14e51076823185ef1d3df4377d71dddd8ab4fd1be1002', '0100000000000000000000000000000000000000000000000000000000000000', '4405000000000000000000000000000000000000000000000000000000000000']], 'proof': '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', 'transcript_type': 'EVM'}\n",
      "Time gen prf: 0.6178569793701172 seconds\n"
     ]
    }
   ],
   "source": [
    "# Here verifier & prover can concurrently call setup since all params are public to get pk.\n",
    "# Here write as verifier function to emphasize that verifier must calculate its own vk to be sure\n",
    "setup(verifier_model_path, verifier_compiled_model_path, settings_path,vk_path, pk_path )\n",
    "\n",
    "print(\"=======================================\")\n",
    "# Prover generates proof\n",
    "prover_gen_proof(prover_model_path, sel_data_path, witness_path, prover_compiled_model_path, settings_path, proof_path, pk_path)"
   ]
  },
  {
   "cell_type": "code",
   "execution_count": 10,
   "metadata": {},
   "outputs": [
    {
     "name": "stdout",
     "output_type": "stream",
     "text": [
      "Verifier gets result: [42.125]\n"
     ]
    }
   ],
   "source": [
    "# Verifier verifies\n",
    "res = verifier_verify(proof_path, settings_path, vk_path, selected_columns, commitment_maps)\n",
    "print(\"Verifier gets result:\", res)"
   ]
  },
  {
   "cell_type": "code",
   "execution_count": null,
   "metadata": {},
   "outputs": [],
   "source": []
  }
 ],
 "metadata": {
  "kernelspec": {
   "display_name": "Python 3",
   "language": "python",
   "name": "python3"
  },
  "language_info": {
   "codemirror_mode": {
    "name": "ipython",
    "version": 3
   },
   "file_extension": ".py",
   "mimetype": "text/x-python",
   "name": "python",
   "nbconvert_exporter": "python",
   "pygments_lexer": "ipython3",
   "version": "3.11.4"
  },
  "orig_nbformat": 4
 },
 "nbformat": 4,
 "nbformat_minor": 2
}
