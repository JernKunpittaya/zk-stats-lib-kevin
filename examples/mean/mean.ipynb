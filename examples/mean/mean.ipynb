{
 "cells": [
  {
   "cell_type": "code",
   "execution_count": 1,
   "metadata": {},
   "outputs": [],
   "source": [
    "import ezkl\n",
    "import torch\n",
    "from torch import nn\n",
    "import json\n",
    "import os\n",
    "import time\n",
    "import scipy\n",
    "import numpy as np\n",
    "import matplotlib.pyplot as plt\n",
    "import statistics\n",
    "import math"
   ]
  },
  {
   "cell_type": "code",
   "execution_count": 2,
   "metadata": {},
   "outputs": [],
   "source": [
    "from zkstats.core import create_dummy, verifier_define_calculation, prover_gen_settings, setup, prover_gen_proof, verifier_verify, generate_data_commitment"
   ]
  },
  {
   "attachments": {},
   "cell_type": "markdown",
   "metadata": {},
   "source": []
  },
  {
   "cell_type": "code",
   "execution_count": 3,
   "metadata": {},
   "outputs": [],
   "source": [
    "# init path\n",
    "os.makedirs(os.path.dirname('shared/'), exist_ok=True)\n",
    "os.makedirs(os.path.dirname('prover/'), exist_ok=True)\n",
    "verifier_model_path = os.path.join('shared/verifier.onnx')\n",
    "prover_model_path = os.path.join('prover/prover.onnx')\n",
    "verifier_compiled_model_path = os.path.join('shared/verifier.compiled')\n",
    "prover_compiled_model_path = os.path.join('prover/prover.compiled')\n",
    "pk_path = os.path.join('shared/test.pk')\n",
    "vk_path = os.path.join('shared/test.vk')\n",
    "proof_path = os.path.join('shared/test.pf')\n",
    "settings_path = os.path.join('shared/settings.json')\n",
    "srs_path = os.path.join('shared/kzg.srs')\n",
    "witness_path = os.path.join('prover/witness.json')\n",
    "# this is private to prover since it contains actual data\n",
    "sel_data_path = os.path.join('prover/sel_data.json')\n",
    "# this is just dummy random value\n",
    "sel_dummy_data_path = os.path.join('shared/sel_dummy_data.json')\n",
    "data_commitment_path = os.path.join('shared/data_commitment.json')"
   ]
  },
  {
   "attachments": {},
   "cell_type": "markdown",
   "metadata": {},
   "source": [
    "=======================  ZK-STATS FLOW ======================="
   ]
  },
  {
   "attachments": {},
   "cell_type": "markdown",
   "metadata": {},
   "source": [
    "## Step 1\n",
    "Verifier calls `export_onnx` with dummy data, to generate the onnx model. Dummy data is used to infer the shape of the model\n",
    "\n",
    "### Output\n",
    "- `verifier.onnx` file"
   ]
  },
  {
   "cell_type": "code",
   "execution_count": 4,
   "metadata": {},
   "outputs": [],
   "source": [
    "data_path = os.path.join('data.json')\n",
    "dummy_data_path = os.path.join('shared/dummy_data.json')\n",
    "\n",
    "create_dummy(data_path, dummy_data_path)"
   ]
  },
  {
   "cell_type": "code",
   "execution_count": 5,
   "metadata": {},
   "outputs": [],
   "source": [
    "scales = [3]\n",
    "selected_columns = ['col_name']\n",
    "generate_data_commitment(data_path, scales, data_commitment_path)"
   ]
  },
  {
   "cell_type": "code",
   "execution_count": 6,
   "metadata": {},
   "outputs": [
    {
     "name": "stderr",
     "output_type": "stream",
     "text": [
      "/Users/jernkun/Desktop/zk-stats-lib/zkstats/computation.py:172: TracerWarning: torch.tensor results are registered as constants in the trace. You can safely ignore this warning if you use this function to create tensors out of constant variables that would be the same every time you call this function. In any other case, this might cause the trace to be incorrect.\n",
      "  is_precise_aggregated = torch.tensor(1.0)\n",
      "/Users/jernkun/Library/Caches/pypoetry/virtualenvs/zkstats-OJpceffF-py3.11/lib/python3.11/site-packages/torch/onnx/symbolic_opset9.py:2174: FutureWarning: 'torch.onnx.symbolic_opset9._cast_Bool' is deprecated in version 2.0 and will be removed in the future. Please Avoid using this function and create a Cast node instead.\n",
      "  return fn(g, to_cast_func(g, input, False), to_cast_func(g, other, False))\n",
      "/Users/jernkun/Library/Caches/pypoetry/virtualenvs/zkstats-OJpceffF-py3.11/lib/python3.11/site-packages/torch/onnx/utils.py:1703: UserWarning: The exported ONNX model failed ONNX shape inference. The model will not be executable by the ONNX Runtime. If this is unintended and you believe there is a bug, please report an issue at https://github.com/pytorch/pytorch/issues. Error reported by strict ONNX shape inference: [ShapeInferenceError] (op_type:Where, node name: /Where): Y has inconsistent type tensor(float) (Triggered internally at /Users/runner/work/pytorch/pytorch/pytorch/torch/csrc/jit/serialization/export.cpp:1490.)\n",
      "  _C._check_onnx_proto(proto)\n"
     ]
    }
   ],
   "source": [
    "# Verifier/ data consumer side: send desired calculation\n",
    "from zkstats.computation import computation_to_model, State\n",
    "\n",
    "\n",
    "def computation(s: State, data: list[torch.Tensor]) -> torch.Tensor:\n",
    "    x = data[0]\n",
    "    return s.mean(x)\n",
    "\n",
    "error = 0.01\n",
    "_, verifier_model = computation_to_model(computation, error)\n",
    "\n",
    "verifier_define_calculation(dummy_data_path, selected_columns, sel_dummy_data_path,verifier_model, verifier_model_path)"
   ]
  },
  {
   "attachments": {},
   "cell_type": "markdown",
   "metadata": {},
   "source": [
    "## Step 2\n",
    "- Prover gets the model from the verifier.\n",
    "- Prover overrides the `dummy_theory_output` with `theory_output`\n",
    "- Prover calls `prover_gen_settings`: export onnx file and compute the settings required by `ezkl.calibrate_settings`"
   ]
  },
  {
   "cell_type": "code",
   "execution_count": 7,
   "metadata": {},
   "outputs": [
    {
     "name": "stderr",
     "output_type": "stream",
     "text": [
      "\n",
      "\n",
      " <------------- Numerical Fidelity Report (input_scale: 3, param_scale: 3, scale_input_multiplier: 10) ------------->\n",
      "\n",
      "+--------------+--------------+-------------+-----------+----------------+------------------+---------------+---------------+--------------------+--------------------+------------------------+\n",
      "| mean_error   | median_error | max_error   | min_error | mean_abs_error | median_abs_error | max_abs_error | min_abs_error | mean_squared_error | mean_percent_error | mean_abs_percent_error |\n",
      "+--------------+--------------+-------------+-----------+----------------+------------------+---------------+---------------+--------------------+--------------------+------------------------+\n",
      "| 0.0044994354 | 0.008998871  | 0.008998871 | 0         | 0.0044994354   | 0.008998871      | 0.008998871   | 0             | 0.00004048984      | 0.00010678871      | 0.00010678871          |\n",
      "+--------------+--------------+-------------+-----------+----------------+------------------+---------------+---------------+--------------------+--------------------+------------------------+\n",
      "\n",
      "\n"
     ]
    },
    {
     "name": "stdout",
     "output_type": "stream",
     "text": [
      "==== Generate & Calibrate Setting ====\n",
      "scale:  [3]\n",
      "setting:  {\"run_args\":{\"tolerance\":{\"val\":0.0,\"scale\":1.0},\"input_scale\":3,\"param_scale\":3,\"scale_rebase_multiplier\":10,\"lookup_range\":[-288,300],\"logrows\":12,\"num_inner_cols\":2,\"variables\":[[\"batch_size\",1]],\"input_visibility\":{\"Hashed\":{\"hash_is_public\":true,\"outlets\":[]}},\"output_visibility\":\"Public\",\"param_visibility\":\"Private\",\"div_rebasing\":false,\"rebase_frac_zero_constants\":false,\"check_mode\":\"UNSAFE\"},\"num_rows\":3936,\"total_assignments\":1066,\"total_const_size\":257,\"model_instance_shapes\":[[1],[1]],\"model_output_scales\":[0,3],\"model_input_scales\":[3],\"module_sizes\":{\"kzg\":[],\"poseidon\":[3936,[1]]},\"required_lookups\":[\"Abs\",{\"GreaterThan\":{\"a\":0.0}}],\"required_range_checks\":[],\"check_mode\":\"UNSAFE\",\"version\":\"9.1.0\",\"num_blinding_factors\":null,\"timestamp\":1709715505688}\n"
     ]
    }
   ],
   "source": [
    "# Prover/ data owner side\n",
    "_, prover_model = computation_to_model(computation, error)\n",
    "\n",
    "prover_gen_settings(data_path, selected_columns, sel_data_path, prover_model, prover_model_path, scales, \"resources\", settings_path)"
   ]
  },
  {
   "attachments": {},
   "cell_type": "markdown",
   "metadata": {},
   "source": [
    "## Step 3\n",
    "- Prover generates proof with `prover_gen_proof`:\n",
    "    - 1. Compile circuit with `compile_circuit`\n",
    "        - Inputs: onnx model, settings path\n",
    "        - Outputs: compiled \n",
    "    - 2. Generate witness with\n",
    "- Verifier generates keys with "
   ]
  },
  {
   "cell_type": "code",
   "execution_count": 8,
   "metadata": {},
   "outputs": [
    {
     "name": "stdout",
     "output_type": "stream",
     "text": [
      "==== setting up ezkl ====\n",
      "Time setup: 0.5041768550872803 seconds\n",
      "=======================================\n",
      "==== Generating Witness ====\n",
      "witness boolean:  1.0\n",
      "witness result 1 : 42.125\n",
      "==== Generating Proof ====\n",
      "proof:  {'instances': [['11e5950d0c875140b38d8b4bc0997697b7b183cfdbc19e767d87caf0020da12a', '0100000000000000000000000000000000000000000000000000000000000000', '5101000000000000000000000000000000000000000000000000000000000000']], 'proof': '0x1625012d949e4eb4c27586f66261b621031dbe0ccdfc3e9f52befe7924a7e13511cfee3b0378f23c55d5197d2a1c5751cda3cb062d292c11bc0f91b395b23bf227e3edd21e1f2d40bc64cff0f9c7aa4e1dcd64338f8be2e11c8a97b78802aa35220781683cbc8df886fcf6ac8198b03e64ba5ab877b44edd9b06294c82a0cbfd1d2b261ace15131a732d6d445a157c4c1b80f33c218964f15650c09eaccbe12d1248f27ed4372ab8342381484d5ad7e91765eeec71c34cf1673ff334ca8212672e1972b44bf73699e64b18285a0445d88b004a396ae2b699c21d32a9bd5ac0641e2d54bf5a1f3fb18a5ef4205e67126342656ba76c284e1cb69650ef14b56d210b81357b44cae0b8d93760a9fcb2aa7f1d1a897fa22491a6051cdc7d8b71565b17255e6cb186e5eaa63a34e81b65dade0d0c946057bbf0b0e8c4f40e016e4958189c2025a8dd3c756ea2daf9a91782e66df03e19dca4472cb4ac64423e8b61a01b2390aeb646f59b85a15a11ff19149101df8b33c028da2d43f73ff96b09e86e1188a34fd8f553c8822d912564269ac094396847f6ef904bee356e479294b73a1d0493b86498fde8786bac282390d28e07823fcea047af5b712c52153ec8ef3706f80c24e3571aae172352b6a39af53b7441bd2a6fc032866f780246d46c03bd190b74594201a2f5645fd82182b726b0fd2a34f51c580918ebe40260f1412b5e1ac80f190c254648e9966fca81ef5edd572e91f5e36dce675ea48eb34f9439c10dda2ca4defb8482fd8906b12828002b216dcd199d044117ae6a7cc457b5ed0603613a24a193edd56e5bca0c3437a2d5f87ae479cc2ac3427212f2e29698ab892d441b5dd7a532e8b36eddffad661530aaaa65f3a7dcc8f164d88e53be1605ad161377416d8cbb451075147c682ef3ceb7dd50cb874f4d3cecd973e4434b60d512106651494e9a0f64c81b849c2dba84b44cd19fb74299d861c8ff68c2fbbcd5196403b8f091e092508911daa32fd847e3b83ab431fed0baa60106a26e3d7f730e23a3cb4386422e41e24b1eeae4ea86419b937beb321d0a9dafcf9570afb341161377416d8cbb451075147c682ef3ceb7dd50cb874f4d3cecd973e4434b60d512106651494e9a0f64c81b849c2dba84b44cd19fb74299d861c8ff68c2fbbcd52fa10bb354be5e6ec932170e2a1b8356231f3e209a1da54d05347cb3d4e8c859038adc5a7877a02ec7ecd220b34d4b9ec18df059e3cade0aab21539e47a8cda82d75aa5d59e81a9c4c9ef676321caff10370b2c2c03f1c22f5e2c7df6fd5c6632d9ccb3b84b0fd674f38b122a3a26e09cc9da46ce62edccdce426a5f8846dfb80f22b5d9da0377c0bdd3a5f7b14d4dad0ca3cd2ef05833e85658a310f0a587ec060ada629ffb042379ac967389ef170d7494bebf5593d06bce476e3fd25f39e6139eed3bddca151a37375830c105177dff7f07394b2932fc4f0dc0814ee3d4390766a21542a7f03f26347e0a9121676b04911683f462a6c27e583823b90cec5f0c5f64f34bc0ae840422899c1f0976309341d0034cbc7582e1c7c2fbfa9aa02c08ea7b343793b0672b5a6dd5ab0f6ce57d5d59bc021152ab9b75189d0d17f1c42e54246a4b7e479591e5994ca46a6e0f49242a45ebff717b6786b3c4de2a77822f8bbdcb64998c00931a0c39cd3370f52910640448bd9661a38065054e67270a29945c4f681b87e47efd2e0e7b82937f2f48fdffa3248063e7bc39966a1b4c152a48aaa6872f7412f6a980439ecc94e0262ecc93b787f3cb47ff4408531066f50f58ffe77c7d216a0213c86f830bac422535cc6f06c50755070c0336689f64d127a2087daa005d5424605446a2c2c4050cc0fa1b1dbb3393cf1bfda1c299696108d1b50adc4a2a3aee6bf36cc992491fa90ded97bd9ec18721a0326a440574e601c3759aba736716de86ca7ce00428318fa31d8f1bbc93f1785e48cac9b4fa4d2159de308cbb36e8e5ae552a8eea2639bc3d32ba480edb25fe14ec77b33cd2bf0071d54f80945d72597bf2650457061ee66145dc7d13decb13ca43043877403b1c83dbc35480f7e506ea83b089ed961765dc218a22bfb03df3eb5013295e6a7c25aca004a86b88fec211aa6c391f9f20db0e08f8145e045a7fc361c2893f9d952fec0028b749a558d3455aa5553186b305c8b51884c096defa0a0bb2f9d37ca62f3b5fefa6d760c86ec3d2a41546113603d2f323ad83e34948ccf603ffa5fe51062856e7a55244dd179fa0910afbcca887d84241266667cab4f7f426338bcdc41cdd5bd701696ee4d987b03d848d90fdaffa44b204eee3d7c94ad12c72acd62c08ae789cb9252c1f1ccd34a4ee9fd2216c328dc4892e81b100150ed46378c59507aa0c385365078a432b63e31a46f90b740820dbaa474e6771ae588f12aee2d12f85ed91da1b5cf8681541329b32756995ec0bc1b9d25323080587c5fde6abda19f2f282a847c04b966fa9a3f24f0d94c85c836ace6976665077066ae787f809302a0f53df64092dec0c927d4087004df8ef1c8ce117d3c74dc09cb0ae3a0fad09b41de4f06482d30a272eefa409e4f2ff20fde8e97639d8076767cfd0c4bc5321d976744929ccc8713f6697f553c45d43900d1d432b2a7e516ff7d12f2ce97801d7a0bea0b768aef253445013a0507843b02002d802293e8b8eb37d492f5b2c0724df612608742eca66a3cc44c11e785833456c7918eb64eb60ce72fc6819a71bf922d5c63db9e7c8b63a33b0bc045dd6807123b040567f8dc3430db5b07c3716e80dc11d92b62575d73b8d83cd51672773e1c2247feef16468718f539854011b42abc7cee45b0faf1752b65de157d551bc93f75dbf303833ec7d4bb929d43419b863682ae42fb4eb0c770e26cee7ac5b14493e6ff9c0cf0dcdebf56609ab2921072e03ef34a312f7f3e2a0d2966925c8cf308c71eae0c50b3ad0e0dbb366d21772279e07a986017ff2dc380d75d7b864e473c9ed1099c588f28f93a1b115d62bfcfe113e4f959b40463bc9a6d9222de8373011ae0760b2deb3c73c67d27e40034fbe114fcf1bd82945d173d13b2c59750758f8d7d0b17857d4dc03c5d3c4c2160bf8dd70e690beaa1b8d75e2d1adc93c7d5499e486a248b959d4e1f33ab64d0e583434d0c9f61cc4e7cb5204646fd215c789c11dee736631443868fb8e803b22d009d4494249579522f22bbbe2631eca590e129d499c61937f5af0a51456e120078e3ed074064ebd69d7da85f18fbe2fcac27a33d1e8ffc7c762c96e57d6f008e3cbd2014140e8266e0a36a1da48c4073afdc17f9f08279b1c608fa8e6192c0d4f90ff767da0703a31da976c3834a95820a0382afb5d18d67f6b9f7c5df87516aad58f6653d1c72e62063a0e4ab185f3547b7e94d8eb2b39deec937bda42302f5c4314a3e5a0674eb4d9662d0da9a0c0bab2485ac8a655ea47366ad14b9c050f8fd7ce54919496bf264645643cb332b3887e0b437a4b083d3163fd9aa3544a2cc4e411733f13742df7284bed2d7bfeb83ea2d711dff368f11e3bcf94c2113200000000000000000000000000000000000000000000000000000000000000002fc47709a5eb0e1852f749e2522f3d3c114b3948ea78097731324f2c0065f24b011cbd99902939c3ed8d2f4a41fd33379ef1a61be2455648a6a3744a30912a3f00000000000000000000000000000000000000000000000000000000000000002b1c6b4e4387c5a47460681e8eb9e41d8bed017342e2b8cae5c54090867465390f8fd7ce54919496bf264645643cb332b3887e0b437a4b083d3163fd9aa3544a2a9a9248480f63881a95a37276075dbb9afdcc142a36a5a9aa6975296439312b00000000000000000000000000000000000000000000000000000000000000002cfb814c9face62e4f0e7f985bc04a2d18d15f7a6072f79e33331d7593f2a6c1011cbd99902939c3ed8d2f4a41fd33379ef1a61be2455648a6a3744a30912a3f00000000000000000000000000000000000000000000000000000000000000001924bba11b3314ba88ee54c522dc683c4c78dbfdc1394e77e4be4c1f6f409878000000000000000000000000000000000000000000000000000000000000000000000000000000000000000000000000000000000000000000000000000000000000000000000000000000000000000000000000000000000000000000000000000000000000000000000000000000000000000000000000000000000000000000e92fa6c1fc62e20560a63c9bd8ec70b134bd6a12a6c8030ddc4e218e57decb032e82a2c29ad5ee22c2a40c018bbd7c6d2efebb2ccdbbe5476241ba5bbb768b09e517ace0d1e51754f6f4d42effc5fd6524511327b0576960c58f5f7084ed5a00000000000000000000000000000000000000000000000000000000000000000e20cfb1fe98464d8691407d26188aeabff6471c2bd91502049c8f5d63337daa000000000000000000000000000000000000000000000000000000000000000029b6dec3f8d5fdcf110e02236bfac98843016f07f895a0d60fbe6043276d7e49277bc7bb0644cccc92df01f13d4e0fecb932375b835d295c3c4a476d18290f9804ea647d338fffc392b26a03f69ba7ae913eb6707018e0ae9e440540f944b2ea0666d07759ccc36e99f75121c1145fd70027c23470a0cf481be9c3a7e47a2d7c29ffa527eb3dcdff4493cdd0c16a3dd915da10fef9a66b811bc391ea7b0d763101ddfc8cb2c986dcbdb2fae90e8ee03e3d92f3b756a317b5e5cd9ee89c61be521e07be4b1a6882b314e7029d297cf9fd06d0122a52dd7ed00f257fbef6e3656d2152d69f4d05e60ee53b604bfea0318f070fed13fd7588fb75f64cd5ba611eb20208d0730a6b0756b237020ad535454581f2c3d8936b506888c6f1bfbc11fbd126e0574c9346eaa4b3ff7c5b450bfb579a2879629628660c8af12069cc6cac452c522dd4a45a88c528a294ab126cef73d6ad8c3f0a11174659eb3495c98fecf329397bde7de0c0ea5ce70bf2f276adfbcc2642b4181768b2f445b5b1349b365b06c4e783ec23b7f3b18a29cb174bda5a4d29c77b851ac16f63e0805b34053a7d1cfe1015ac8113030510bef7660c7ed7f029d790bcd1c65baaaeb350764825ae2808716e8163b590c5e77934b671a657042b648ce760c1e62e796336fb6faa2a13e9948aff5d12984b1a51ee16b021a0bcd42701cf45d377a57e822de0e61c14225027355945a1b2e69eb78592ddcaf94ff009e6c0d8958be72dd844b9e365921178531cc3e541d53cdf00c677c9eccae476e847880b0b18e2c321c0c82a54be2d47830c95c0439eaaf849be911a032d973edf4b2bd9f2008e88e2a51d266e47237f37d0f9703825c9dd8cb969f58b477e432acb08d4ac125456fc2dc74fd5f22faeebc4a83c3edff47ad93745178509ae9392f1b13c7926d85bf4f3121386bb18ec4c2bd7bd9663a4804dc6e994b3fa06480c1bbce05096ae6995439828353121bb4a2598deecd403ccbf40eb168d74e9834debe5cdc22f6ccd9dd1b4eb32942de6478eac74adda45fef45166ca1f3896db1483f4debdc2b48d5a3b4e047a381d50c777d2e730ad63c949a9cfaa7c769ac61c1cc3737a60453f5345218bee1510a4c7c8b894d92f65c904a934b80bedcaa8186735b5cb9e51d1c248cba9970c2354d52b158ebfd1e0ab8d5d15f76d4791733b6844b2c32f01d7025e6dcfc9d82fdc674871dc3246039019cdf34096107a4a9b88a01a6fe99ffaa1253257029a2a043c55ba31c9f12112338b1b5a68d6a0d629265039f63d6e9aa2eee7386390225325cf00a9270d49c6f90d5cdcbb9e81f4f231c315b38edd2ab0f87bdab3671a39bfa7003c699079c51e9950e1383f79d482eec3a3b6819a016ed5eedb9c8e0035093987780ce1bb7596ff02146d8d83339965f02d3499330677942da7daaf2354d52b158ebfd1e0ab8d5d15f76d4791733b6844b2c32f01d7025e6dcfc9d81a378ecdcd0d5f354172384ae309163860a62149767b2fe4e854b2edb1a88fa40ee46edbc44bdb366ff382cb052a2476b8740059aac22c2de970b3c0949c1eaf2e19191ad6fa9dc58f0668d496bef854656b1b4f2f7a68dbc61da8cec2d2c8292ce85538f40676f104781987214810a4e547a4a0c3c67ce3583180017bcd3aa4', 'transcript_type': 'EVM'}\n",
      "Time gen prf: 0.6045958995819092 seconds\n"
     ]
    }
   ],
   "source": [
    "# Here verifier & prover can concurrently call setup since all params are public to get pk.\n",
    "# Here write as verifier function to emphasize that verifier must calculate its own vk to be sure\n",
    "setup(verifier_model_path, verifier_compiled_model_path, settings_path,vk_path, pk_path )\n",
    "\n",
    "print(\"=======================================\")\n",
    "# Prover generates proof\n",
    "prover_gen_proof(prover_model_path, sel_data_path, witness_path, prover_compiled_model_path, settings_path, proof_path, pk_path)"
   ]
  },
  {
   "cell_type": "code",
   "execution_count": 9,
   "metadata": {},
   "outputs": [
    {
     "name": "stdout",
     "output_type": "stream",
     "text": [
      "Verifier gets result: [42.125]\n"
     ]
    }
   ],
   "source": [
    "# Verifier verifies\n",
    "res = verifier_verify(proof_path, settings_path, vk_path, selected_columns, data_commitment_path)\n",
    "print(\"Verifier gets result:\", res)"
   ]
  }
 ],
 "metadata": {
  "kernelspec": {
   "display_name": "Python 3",
   "language": "python",
   "name": "python3"
  },
  "language_info": {
   "codemirror_mode": {
    "name": "ipython",
    "version": 3
   },
   "file_extension": ".py",
   "mimetype": "text/x-python",
   "name": "python",
   "nbconvert_exporter": "python",
   "pygments_lexer": "ipython3",
   "version": "3.11.4"
  },
  "orig_nbformat": 4
 },
 "nbformat": 4,
 "nbformat_minor": 2
}
