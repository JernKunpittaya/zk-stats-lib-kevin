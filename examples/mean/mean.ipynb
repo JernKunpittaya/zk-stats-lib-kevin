{
 "cells": [
  {
   "cell_type": "code",
   "execution_count": 1,
   "metadata": {},
   "outputs": [
    {
     "name": "stdout",
     "output_type": "stream",
     "text": [
      "Requirement already satisfied: ezkl==7.0.0 in /Library/Frameworks/Python.framework/Versions/3.10/lib/python3.10/site-packages (from -r ../../requirements.txt (line 1)) (7.0.0)\n",
      "Requirement already satisfied: torch in /Library/Frameworks/Python.framework/Versions/3.10/lib/python3.10/site-packages (from -r ../../requirements.txt (line 2)) (2.1.1)\n",
      "Requirement already satisfied: requests in /Library/Frameworks/Python.framework/Versions/3.10/lib/python3.10/site-packages (from -r ../../requirements.txt (line 3)) (2.31.0)\n",
      "Requirement already satisfied: scipy in /Library/Frameworks/Python.framework/Versions/3.10/lib/python3.10/site-packages (from -r ../../requirements.txt (line 4)) (1.11.4)\n",
      "Requirement already satisfied: numpy in /Library/Frameworks/Python.framework/Versions/3.10/lib/python3.10/site-packages (from -r ../../requirements.txt (line 5)) (1.26.2)\n",
      "Requirement already satisfied: matplotlib in /Library/Frameworks/Python.framework/Versions/3.10/lib/python3.10/site-packages (from -r ../../requirements.txt (line 6)) (3.8.2)\n",
      "Requirement already satisfied: statistics in /Library/Frameworks/Python.framework/Versions/3.10/lib/python3.10/site-packages (from -r ../../requirements.txt (line 7)) (1.0.3.5)\n",
      "Requirement already satisfied: onnx in /Library/Frameworks/Python.framework/Versions/3.10/lib/python3.10/site-packages (from -r ../../requirements.txt (line 8)) (1.15.0)\n",
      "Requirement already satisfied: fsspec in /Library/Frameworks/Python.framework/Versions/3.10/lib/python3.10/site-packages (from torch->-r ../../requirements.txt (line 2)) (2023.10.0)\n",
      "Requirement already satisfied: jinja2 in /Library/Frameworks/Python.framework/Versions/3.10/lib/python3.10/site-packages (from torch->-r ../../requirements.txt (line 2)) (3.1.2)\n",
      "Requirement already satisfied: typing-extensions in /Library/Frameworks/Python.framework/Versions/3.10/lib/python3.10/site-packages (from torch->-r ../../requirements.txt (line 2)) (4.8.0)\n",
      "Requirement already satisfied: sympy in /Library/Frameworks/Python.framework/Versions/3.10/lib/python3.10/site-packages (from torch->-r ../../requirements.txt (line 2)) (1.12)\n",
      "Requirement already satisfied: filelock in /Library/Frameworks/Python.framework/Versions/3.10/lib/python3.10/site-packages (from torch->-r ../../requirements.txt (line 2)) (3.13.1)\n",
      "Requirement already satisfied: networkx in /Library/Frameworks/Python.framework/Versions/3.10/lib/python3.10/site-packages (from torch->-r ../../requirements.txt (line 2)) (3.2.1)\n",
      "Requirement already satisfied: charset-normalizer<4,>=2 in /Library/Frameworks/Python.framework/Versions/3.10/lib/python3.10/site-packages (from requests->-r ../../requirements.txt (line 3)) (3.3.2)\n",
      "Requirement already satisfied: urllib3<3,>=1.21.1 in /Library/Frameworks/Python.framework/Versions/3.10/lib/python3.10/site-packages (from requests->-r ../../requirements.txt (line 3)) (2.1.0)\n",
      "Requirement already satisfied: certifi>=2017.4.17 in /Library/Frameworks/Python.framework/Versions/3.10/lib/python3.10/site-packages (from requests->-r ../../requirements.txt (line 3)) (2023.11.17)\n",
      "Requirement already satisfied: idna<4,>=2.5 in /Library/Frameworks/Python.framework/Versions/3.10/lib/python3.10/site-packages (from requests->-r ../../requirements.txt (line 3)) (3.6)\n",
      "Requirement already satisfied: fonttools>=4.22.0 in /Library/Frameworks/Python.framework/Versions/3.10/lib/python3.10/site-packages (from matplotlib->-r ../../requirements.txt (line 6)) (4.45.1)\n",
      "Requirement already satisfied: kiwisolver>=1.3.1 in /Library/Frameworks/Python.framework/Versions/3.10/lib/python3.10/site-packages (from matplotlib->-r ../../requirements.txt (line 6)) (1.4.5)\n",
      "Requirement already satisfied: python-dateutil>=2.7 in /Users/jernkun/Library/Python/3.10/lib/python/site-packages (from matplotlib->-r ../../requirements.txt (line 6)) (2.8.2)\n",
      "Requirement already satisfied: pyparsing>=2.3.1 in /Library/Frameworks/Python.framework/Versions/3.10/lib/python3.10/site-packages (from matplotlib->-r ../../requirements.txt (line 6)) (3.1.1)\n",
      "Requirement already satisfied: contourpy>=1.0.1 in /Library/Frameworks/Python.framework/Versions/3.10/lib/python3.10/site-packages (from matplotlib->-r ../../requirements.txt (line 6)) (1.2.0)\n",
      "Requirement already satisfied: pillow>=8 in /Library/Frameworks/Python.framework/Versions/3.10/lib/python3.10/site-packages (from matplotlib->-r ../../requirements.txt (line 6)) (10.1.0)\n",
      "Requirement already satisfied: packaging>=20.0 in /Users/jernkun/Library/Python/3.10/lib/python/site-packages (from matplotlib->-r ../../requirements.txt (line 6)) (23.2)\n",
      "Requirement already satisfied: cycler>=0.10 in /Library/Frameworks/Python.framework/Versions/3.10/lib/python3.10/site-packages (from matplotlib->-r ../../requirements.txt (line 6)) (0.12.1)\n",
      "Requirement already satisfied: docutils>=0.3 in /Library/Frameworks/Python.framework/Versions/3.10/lib/python3.10/site-packages (from statistics->-r ../../requirements.txt (line 7)) (0.20.1)\n",
      "Requirement already satisfied: protobuf>=3.20.2 in /Library/Frameworks/Python.framework/Versions/3.10/lib/python3.10/site-packages (from onnx->-r ../../requirements.txt (line 8)) (4.25.1)\n",
      "Requirement already satisfied: six>=1.5 in /Users/jernkun/Library/Python/3.10/lib/python/site-packages (from python-dateutil>=2.7->matplotlib->-r ../../requirements.txt (line 6)) (1.16.0)\n",
      "Requirement already satisfied: MarkupSafe>=2.0 in /Library/Frameworks/Python.framework/Versions/3.10/lib/python3.10/site-packages (from jinja2->torch->-r ../../requirements.txt (line 2)) (2.1.3)\n",
      "Requirement already satisfied: mpmath>=0.19 in /Library/Frameworks/Python.framework/Versions/3.10/lib/python3.10/site-packages (from sympy->torch->-r ../../requirements.txt (line 2)) (1.3.0)\n",
      "\u001b[33mWARNING: You are using pip version 21.2.3; however, version 23.3.2 is available.\n",
      "You should consider upgrading via the '/usr/local/bin/python3 -m pip install --upgrade pip' command.\u001b[0m\n",
      "Note: you may need to restart the kernel to use updated packages.\n"
     ]
    }
   ],
   "source": [
    "pip install -r ../../requirements.txt"
   ]
  },
  {
   "cell_type": "code",
   "execution_count": 2,
   "metadata": {},
   "outputs": [],
   "source": [
    "import ezkl\n",
    "import torch\n",
    "from torch import nn\n",
    "import json\n",
    "import os\n",
    "import time\n",
    "import scipy\n",
    "import numpy as np\n",
    "import matplotlib.pyplot as plt\n",
    "import statistics\n",
    "import math"
   ]
  },
  {
   "cell_type": "code",
   "execution_count": 3,
   "metadata": {},
   "outputs": [],
   "source": [
    "%run -i ../../zkstats/core.py"
   ]
  },
  {
   "attachments": {},
   "cell_type": "markdown",
   "metadata": {},
   "source": []
  },
  {
   "cell_type": "code",
   "execution_count": 4,
   "metadata": {},
   "outputs": [],
   "source": [
    "# init path\n",
    "os.makedirs(os.path.dirname('shared/'), exist_ok=True)\n",
    "os.makedirs(os.path.dirname('prover/'), exist_ok=True)\n",
    "verifier_model_path = os.path.join('shared/verifier.onnx')\n",
    "prover_model_path = os.path.join('prover/prover.onnx')\n",
    "verifier_compiled_model_path = os.path.join('shared/verifier.compiled')\n",
    "prover_compiled_model_path = os.path.join('prover/prover.compiled')\n",
    "pk_path = os.path.join('shared/test.pk')\n",
    "vk_path = os.path.join('shared/test.vk')\n",
    "proof_path = os.path.join('shared/test.pf')\n",
    "settings_path = os.path.join('shared/settings.json')\n",
    "# srs_path = os.path.join('shared/kzg.srs')\n",
    "witness_path = os.path.join('prover/witness.json')\n",
    "# this is private to prover since it contains actual data\n",
    "comb_data_path = os.path.join('prover/comb_data.json')"
   ]
  },
  {
   "attachments": {},
   "cell_type": "markdown",
   "metadata": {},
   "source": [
    "=======================  ZK-STATS FLOW ======================="
   ]
  },
  {
   "attachments": {},
   "cell_type": "markdown",
   "metadata": {},
   "source": [
    "## Step 1\n",
    "Verifier calls `export_onnx` with dummy data, to generate the onnx model. Dummy data is used to infer the shape of the model\n",
    "\n",
    "### Output\n",
    "- `verifier.onnx` file"
   ]
  },
  {
   "cell_type": "code",
   "execution_count": 5,
   "metadata": {},
   "outputs": [],
   "source": [
    "data_path = os.path.join('data.json')\n",
    "dummy_data_path = os.path.join('shared/dummy_data.json')\n",
    "\n",
    "f_raw_input = open(data_path, \"r\")\n",
    "data = json.loads(f_raw_input.read())[\"input_data\"][0]\n",
    "data_tensor = torch.reshape(torch.tensor(data),(1, len(data), 1))\n",
    "\n",
    "#  dummy data for data consumer. Just need to be the same len as private data\n",
    "dummy_data = np.round(np.random.uniform(1,10,len(data)),1)\n",
    "json.dump({\"input_data\":[dummy_data.tolist()]}, open(dummy_data_path, 'w'))\n",
    "\n",
    "dummy_data_tensor = torch.reshape(torch.tensor(dummy_data), (1, len(dummy_data),1 ))\n",
    "dummy_theory_output = torch.mean(dummy_data_tensor)\n",
    "\n",
    "\n"
   ]
  },
  {
   "cell_type": "code",
   "execution_count": 6,
   "metadata": {},
   "outputs": [],
   "source": [
    "# Verifier/ data consumer side: send desired calculation\n",
    "class verifier_model(nn.Module):\n",
    "    def __init__(self):\n",
    "        super(verifier_model, self).__init__()\n",
    "        self.w = nn.Parameter(data = dummy_theory_output, requires_grad = False)\n",
    "\n",
    "    def forward(self,X):\n",
    "        return (torch.abs(torch.sum(X)-X.size()[1]*(self.w))<=torch.abs(0.01*X.size()[1]*self.w), self.w)\n",
    "    \n",
    "verifier_define_calculation(verifier_model, verifier_model_path, [dummy_data_path])"
   ]
  },
  {
   "attachments": {},
   "cell_type": "markdown",
   "metadata": {},
   "source": [
    "## Step 2\n",
    "- Prover gets the model from the verifier.\n",
    "- Prover overrides the `dummy_theory_output` with `theory_output`\n",
    "- Prover calls `prover_gen_settings`: export onnx file and compute the settings required by `ezkl.calibrate_settings`"
   ]
  },
  {
   "cell_type": "code",
   "execution_count": 7,
   "metadata": {},
   "outputs": [
    {
     "name": "stdout",
     "output_type": "stream",
     "text": [
      "Theory_output:  tensor(42.1340)\n",
      "==== Generate & Calibrate Setting ====\n",
      "scale:  [5]\n",
      "setting:  {\"run_args\":{\"tolerance\":{\"val\":0.0,\"scale\":1.0},\"input_scale\":5,\"param_scale\":5,\"scale_rebase_multiplier\":10,\"lookup_range\":[-1344,0],\"logrows\":12,\"num_inner_cols\":2,\"variables\":[[\"batch_size\",1]],\"input_visibility\":{\"Hashed\":{\"hash_is_public\":true,\"outlets\":[]}},\"output_visibility\":\"Public\",\"param_visibility\":\"Private\"},\"num_rows\":3936,\"total_assignments\":110,\"total_const_size\":4,\"model_instance_shapes\":[[1],[1]],\"model_output_scales\":[0,5],\"model_input_scales\":[5],\"module_sizes\":{\"kzg\":[],\"poseidon\":[3936,[1]],\"elgamal\":[0,[0]]},\"required_lookups\":[\"Abs\",{\"GreaterThan\":{\"a\":0.0}}],\"check_mode\":\"UNSAFE\",\"version\":\"7.0.0\",\"num_blinding_factors\":null}\n"
     ]
    }
   ],
   "source": [
    "# prover calculates settings, send to verifier\n",
    "\n",
    "theory_output = torch.mean(data_tensor)\n",
    "print(\"Theory_output: \", theory_output)\n",
    "class prover_model(nn.Module):\n",
    "    def __init__(self):\n",
    "        super(prover_model, self).__init__()\n",
    "        self.w = nn.Parameter(data = theory_output, requires_grad = False)\n",
    "\n",
    "    def forward(self,X):\n",
    "        return (torch.abs(torch.sum(X)-X.size()[1]*(self.w))<=torch.abs(0.01*X.size()[1]*self.w), self.w)\n",
    "prover_gen_settings([data_path], comb_data_path, prover_model,prover_model_path, [5], \"resources\", settings_path)"
   ]
  },
  {
   "attachments": {},
   "cell_type": "markdown",
   "metadata": {},
   "source": [
    "## Step 3\n",
    "- Prover generates proof with `prover_gen_proof`:\n",
    "    - 1. Compile circuit with `compile_circuit`\n",
    "        - Inputs: onnx model, settings path\n",
    "        - Outputs: compiled \n",
    "    - 2. Generate witness with\n",
    "- Verifier generates keys with "
   ]
  },
  {
   "cell_type": "code",
   "execution_count": 8,
   "metadata": {},
   "outputs": [
    {
     "name": "stderr",
     "output_type": "stream",
     "text": [
      "spawning module 0\n",
      "spawning module 2\n"
     ]
    },
    {
     "name": "stdout",
     "output_type": "stream",
     "text": [
      "==== setting up ezkl ====\n"
     ]
    },
    {
     "name": "stderr",
     "output_type": "stream",
     "text": [
      "spawning module 0\n",
      "spawning module 2\n",
      "spawning module 0\n",
      "spawning module 2\n"
     ]
    },
    {
     "name": "stdout",
     "output_type": "stream",
     "text": [
      "Time setup: 0.6443536281585693 seconds\n",
      "=======================================\n",
      "Theory output:  tensor(42.1340)\n",
      "!@# compiled_model exists? True\n",
      "!@# compiled_model exists? True\n",
      "==== Generating Witness ====\n",
      "witness boolean:  1.0\n",
      "witness result 1 : 42.125\n",
      "==== Generating Proof ====\n",
      "proof:  {'instances': [[[13487293430113784910, 12778393823498462323, 6887806571578554205, 1244238496825937973], [12436184717236109307, 3962172157175319849, 7381016538464732718, 1011752739694698287], [1786891257776170021, 2456895193576464786, 15851013958699291921, 426370788491761118]]], 'proof': '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', 'transcript_type': 'EVM'}\n",
      "Time gen prf: 0.7968389987945557 seconds\n"
     ]
    }
   ],
   "source": [
    "# Here verifier & prover can concurrently call setup since all params are public to get pk.\n",
    "# Here write as verifier function to emphasize that verifier must calculate its own vk to be sure\n",
    "verifier_setup(verifier_model_path, verifier_compiled_model_path, settings_path,vk_path, pk_path )\n",
    "\n",
    "print(\"=======================================\")\n",
    "# Prover generates proof\n",
    "print(\"Theory output: \", theory_output)\n",
    "prover_gen_proof(prover_model_path, comb_data_path, witness_path, prover_compiled_model_path, settings_path, proof_path, pk_path)"
   ]
  },
  {
   "cell_type": "code",
   "execution_count": 9,
   "metadata": {},
   "outputs": [
    {
     "name": "stdout",
     "output_type": "stream",
     "text": [
      "num_inputs:  1\n",
      "prf instances:  [[[13487293430113784910, 12778393823498462323, 6887806571578554205, 1244238496825937973], [12436184717236109307, 3962172157175319849, 7381016538464732718, 1011752739694698287], [1786891257776170021, 2456895193576464786, 15851013958699291921, 426370788491761118]]]\n",
      "proof boolean:  1.0\n",
      "proof result 1 : 42.125\n",
      "verified\n"
     ]
    }
   ],
   "source": [
    "# Verifier verifies\n",
    "verifier_verify(proof_path, settings_path, vk_path)"
   ]
  },
  {
   "cell_type": "code",
   "execution_count": null,
   "metadata": {},
   "outputs": [],
   "source": []
  }
 ],
 "metadata": {
  "kernelspec": {
   "display_name": "Python 3",
   "language": "python",
   "name": "python3"
  },
  "language_info": {
   "codemirror_mode": {
    "name": "ipython",
    "version": 3
   },
   "file_extension": ".py",
   "mimetype": "text/x-python",
   "name": "python",
   "nbconvert_exporter": "python",
   "pygments_lexer": "ipython3",
   "version": "3.9.6"
  },
  "orig_nbformat": 4
 },
 "nbformat": 4,
 "nbformat_minor": 2
}
