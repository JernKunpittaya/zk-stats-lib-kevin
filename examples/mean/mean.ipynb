{
 "cells": [
  {
   "cell_type": "code",
   "execution_count": 25,
   "metadata": {},
   "outputs": [
    {
     "name": "stdout",
     "output_type": "stream",
     "text": [
      "Requirement already satisfied: ezkl==5.0.8 in /Users/mhchia/projects/work/pse/zk-stats-lib/.venv/lib/python3.9/site-packages (from -r ../../requirements.txt (line 1)) (5.0.8)\n",
      "Requirement already satisfied: torch in /Users/mhchia/projects/work/pse/zk-stats-lib/.venv/lib/python3.9/site-packages (from -r ../../requirements.txt (line 2)) (2.1.1)\n",
      "Requirement already satisfied: requests in /Users/mhchia/projects/work/pse/zk-stats-lib/.venv/lib/python3.9/site-packages (from -r ../../requirements.txt (line 3)) (2.31.0)\n",
      "Requirement already satisfied: scipy in /Users/mhchia/projects/work/pse/zk-stats-lib/.venv/lib/python3.9/site-packages (from -r ../../requirements.txt (line 4)) (1.11.4)\n",
      "Requirement already satisfied: numpy in /Users/mhchia/projects/work/pse/zk-stats-lib/.venv/lib/python3.9/site-packages (from -r ../../requirements.txt (line 5)) (1.26.2)\n",
      "Requirement already satisfied: matplotlib in /Users/mhchia/projects/work/pse/zk-stats-lib/.venv/lib/python3.9/site-packages (from -r ../../requirements.txt (line 6)) (3.8.2)\n",
      "Requirement already satisfied: statistics in /Users/mhchia/projects/work/pse/zk-stats-lib/.venv/lib/python3.9/site-packages (from -r ../../requirements.txt (line 7)) (1.0.3.5)\n",
      "Requirement already satisfied: onnx in /Users/mhchia/projects/work/pse/zk-stats-lib/.venv/lib/python3.9/site-packages (from -r ../../requirements.txt (line 8)) (1.15.0)\n",
      "Requirement already satisfied: filelock in /Users/mhchia/projects/work/pse/zk-stats-lib/.venv/lib/python3.9/site-packages (from torch->-r ../../requirements.txt (line 2)) (3.13.1)\n",
      "Requirement already satisfied: jinja2 in /Users/mhchia/projects/work/pse/zk-stats-lib/.venv/lib/python3.9/site-packages (from torch->-r ../../requirements.txt (line 2)) (3.1.2)\n",
      "Requirement already satisfied: typing-extensions in /Users/mhchia/projects/work/pse/zk-stats-lib/.venv/lib/python3.9/site-packages (from torch->-r ../../requirements.txt (line 2)) (4.8.0)\n",
      "Requirement already satisfied: networkx in /Users/mhchia/projects/work/pse/zk-stats-lib/.venv/lib/python3.9/site-packages (from torch->-r ../../requirements.txt (line 2)) (3.2.1)\n",
      "Requirement already satisfied: fsspec in /Users/mhchia/projects/work/pse/zk-stats-lib/.venv/lib/python3.9/site-packages (from torch->-r ../../requirements.txt (line 2)) (2023.12.0)\n",
      "Requirement already satisfied: sympy in /Users/mhchia/projects/work/pse/zk-stats-lib/.venv/lib/python3.9/site-packages (from torch->-r ../../requirements.txt (line 2)) (1.12)\n",
      "Requirement already satisfied: charset-normalizer<4,>=2 in /Users/mhchia/projects/work/pse/zk-stats-lib/.venv/lib/python3.9/site-packages (from requests->-r ../../requirements.txt (line 3)) (3.3.2)\n",
      "Requirement already satisfied: certifi>=2017.4.17 in /Users/mhchia/projects/work/pse/zk-stats-lib/.venv/lib/python3.9/site-packages (from requests->-r ../../requirements.txt (line 3)) (2023.11.17)\n",
      "Requirement already satisfied: urllib3<3,>=1.21.1 in /Users/mhchia/projects/work/pse/zk-stats-lib/.venv/lib/python3.9/site-packages (from requests->-r ../../requirements.txt (line 3)) (2.1.0)\n",
      "Requirement already satisfied: idna<4,>=2.5 in /Users/mhchia/projects/work/pse/zk-stats-lib/.venv/lib/python3.9/site-packages (from requests->-r ../../requirements.txt (line 3)) (3.6)\n",
      "Requirement already satisfied: kiwisolver>=1.3.1 in /Users/mhchia/projects/work/pse/zk-stats-lib/.venv/lib/python3.9/site-packages (from matplotlib->-r ../../requirements.txt (line 6)) (1.4.5)\n",
      "Requirement already satisfied: pillow>=8 in /Users/mhchia/projects/work/pse/zk-stats-lib/.venv/lib/python3.9/site-packages (from matplotlib->-r ../../requirements.txt (line 6)) (10.1.0)\n",
      "Requirement already satisfied: python-dateutil>=2.7 in /Users/mhchia/projects/work/pse/zk-stats-lib/.venv/lib/python3.9/site-packages (from matplotlib->-r ../../requirements.txt (line 6)) (2.8.2)\n",
      "Requirement already satisfied: packaging>=20.0 in /Users/mhchia/projects/work/pse/zk-stats-lib/.venv/lib/python3.9/site-packages (from matplotlib->-r ../../requirements.txt (line 6)) (23.2)\n",
      "Requirement already satisfied: cycler>=0.10 in /Users/mhchia/projects/work/pse/zk-stats-lib/.venv/lib/python3.9/site-packages (from matplotlib->-r ../../requirements.txt (line 6)) (0.12.1)\n",
      "Requirement already satisfied: fonttools>=4.22.0 in /Users/mhchia/projects/work/pse/zk-stats-lib/.venv/lib/python3.9/site-packages (from matplotlib->-r ../../requirements.txt (line 6)) (4.46.0)\n",
      "Requirement already satisfied: contourpy>=1.0.1 in /Users/mhchia/projects/work/pse/zk-stats-lib/.venv/lib/python3.9/site-packages (from matplotlib->-r ../../requirements.txt (line 6)) (1.2.0)\n",
      "Requirement already satisfied: pyparsing>=2.3.1 in /Users/mhchia/projects/work/pse/zk-stats-lib/.venv/lib/python3.9/site-packages (from matplotlib->-r ../../requirements.txt (line 6)) (3.1.1)\n",
      "Requirement already satisfied: importlib-resources>=3.2.0 in /Users/mhchia/projects/work/pse/zk-stats-lib/.venv/lib/python3.9/site-packages (from matplotlib->-r ../../requirements.txt (line 6)) (6.1.1)\n",
      "Requirement already satisfied: docutils>=0.3 in /Users/mhchia/projects/work/pse/zk-stats-lib/.venv/lib/python3.9/site-packages (from statistics->-r ../../requirements.txt (line 7)) (0.20.1)\n",
      "Requirement already satisfied: protobuf>=3.20.2 in /Users/mhchia/projects/work/pse/zk-stats-lib/.venv/lib/python3.9/site-packages (from onnx->-r ../../requirements.txt (line 8)) (4.25.1)\n",
      "Requirement already satisfied: zipp>=3.1.0 in /Users/mhchia/projects/work/pse/zk-stats-lib/.venv/lib/python3.9/site-packages (from importlib-resources>=3.2.0->matplotlib->-r ../../requirements.txt (line 6)) (3.17.0)\n",
      "Requirement already satisfied: six>=1.5 in /Users/mhchia/projects/work/pse/zk-stats-lib/.venv/lib/python3.9/site-packages (from python-dateutil>=2.7->matplotlib->-r ../../requirements.txt (line 6)) (1.16.0)\n",
      "Requirement already satisfied: MarkupSafe>=2.0 in /Users/mhchia/projects/work/pse/zk-stats-lib/.venv/lib/python3.9/site-packages (from jinja2->torch->-r ../../requirements.txt (line 2)) (2.1.3)\n",
      "Requirement already satisfied: mpmath>=0.19 in /Users/mhchia/projects/work/pse/zk-stats-lib/.venv/lib/python3.9/site-packages (from sympy->torch->-r ../../requirements.txt (line 2)) (1.3.0)\n",
      "\n",
      "\u001b[1m[\u001b[0m\u001b[34;49mnotice\u001b[0m\u001b[1;39;49m]\u001b[0m\u001b[39;49m A new release of pip available: \u001b[0m\u001b[31;49m22.3.1\u001b[0m\u001b[39;49m -> \u001b[0m\u001b[32;49m23.3.1\u001b[0m\n",
      "\u001b[1m[\u001b[0m\u001b[34;49mnotice\u001b[0m\u001b[1;39;49m]\u001b[0m\u001b[39;49m To update, run: \u001b[0m\u001b[32;49mpip install --upgrade pip\u001b[0m\n",
      "Note: you may need to restart the kernel to use updated packages.\n"
     ]
    }
   ],
   "source": [
    "pip install -r ../../requirements.txt"
   ]
  },
  {
   "cell_type": "code",
   "execution_count": 26,
   "metadata": {},
   "outputs": [],
   "source": [
    "import ezkl\n",
    "import torch\n",
    "from torch import nn\n",
    "import json\n",
    "import os\n",
    "import time\n",
    "import scipy\n",
    "import numpy as np\n",
    "import matplotlib.pyplot as plt\n",
    "import statistics\n",
    "import math"
   ]
  },
  {
   "cell_type": "code",
   "execution_count": 27,
   "metadata": {},
   "outputs": [],
   "source": [
    "%run -i ../../zkstats/core.py"
   ]
  },
  {
   "attachments": {},
   "cell_type": "markdown",
   "metadata": {},
   "source": []
  },
  {
   "cell_type": "code",
   "execution_count": 28,
   "metadata": {},
   "outputs": [],
   "source": [
    "# init path\n",
    "os.makedirs(os.path.dirname('shared/'), exist_ok=True)\n",
    "os.makedirs(os.path.dirname('prover/'), exist_ok=True)\n",
    "verifier_model_path = os.path.join('shared/verifier.onnx')\n",
    "prover_model_path = os.path.join('prover/prover.onnx')\n",
    "verifier_compiled_model_path = os.path.join('shared/verifier.compiled')\n",
    "prover_compiled_model_path = os.path.join('prover/prover.compiled')\n",
    "pk_path = os.path.join('shared/test.pk')\n",
    "vk_path = os.path.join('shared/test.vk')\n",
    "proof_path = os.path.join('shared/test.pf')\n",
    "settings_path = os.path.join('shared/settings.json')\n",
    "srs_path = os.path.join('shared/kzg.srs')\n",
    "witness_path = os.path.join('prover/witness.json')\n",
    "# this is private to prover since it contains actual data\n",
    "comb_data_path = os.path.join('prover/comb_data.json')"
   ]
  },
  {
   "attachments": {},
   "cell_type": "markdown",
   "metadata": {},
   "source": [
    "=======================  ZK-STATS FLOW ======================="
   ]
  },
  {
   "cell_type": "markdown",
   "metadata": {},
   "source": [
    "## Step 1\n",
    "Verifier calls `export_onnx` with dummy data, to generate the onnx model. Dummy data is used to infer the shape of the model\n",
    "\n",
    "### Output\n",
    "- `verifier.onnx` file"
   ]
  },
  {
   "cell_type": "code",
   "execution_count": 29,
   "metadata": {},
   "outputs": [],
   "source": [
    "data_path = os.path.join('data.json')\n",
    "dummy_data_path = os.path.join('shared/dummy_data.json')\n",
    "\n",
    "f_raw_input = open(data_path, \"r\")\n",
    "data = json.loads(f_raw_input.read())[\"input_data\"][0]\n",
    "data_tensor = torch.reshape(torch.tensor(data),(1, len(data), 1))\n",
    "\n",
    "#  dummy data for data consumer: make the bound approx same as real data\n",
    "dummy_data = np.random.uniform(min(data), max(data), len(data))\n",
    "json.dump({\"input_data\":[dummy_data.tolist()]}, open(dummy_data_path, 'w'))\n",
    "\n",
    "dummy_data_tensor = torch.reshape(torch.tensor(dummy_data), (1, len(dummy_data),1 ))\n",
    "dummy_theory_output = torch.mean(dummy_data_tensor)\n",
    "\n"
   ]
  },
  {
   "cell_type": "code",
   "execution_count": 30,
   "metadata": {},
   "outputs": [
    {
     "name": "stdout",
     "output_type": "stream",
     "text": [
      "!@# circuit.eval= verifier_model()\n"
     ]
    }
   ],
   "source": [
    "# Verifier/ data consumer side: send desired calculation\n",
    "class verifier_model(nn.Module):\n",
    "    def __init__(self):\n",
    "        super(verifier_model, self).__init__()\n",
    "        # w represents mean in this case\n",
    "        self.w = nn.Parameter(data = dummy_theory_output, requires_grad = False)\n",
    "\n",
    "    def forward(self,X):\n",
    "        # some expression of tolerance to error in the inference\n",
    "        return (torch.abs(torch.sum(X)-X.size()[1]*(self.w))<0.01*X.size()[1]*(self.w), self.w)\n",
    "\n",
    "verifier_define_calculation(verifier_model, verifier_model_path, [dummy_data_path])"
   ]
  },
  {
   "cell_type": "markdown",
   "metadata": {},
   "source": [
    "## Step 2\n",
    "- Prover gets the model from the verifier.\n",
    "- Prover overrides the `dummy_theory_output` with `theory_output`\n",
    "- Prover calls `prover_gen_settings`: export onnx file and compute the settings required by `ezkl.calibrate_settings`"
   ]
  },
  {
   "cell_type": "code",
   "execution_count": 31,
   "metadata": {},
   "outputs": [
    {
     "name": "stdout",
     "output_type": "stream",
     "text": [
      "Theory_output:  tensor(49.9700)\n",
      "!@# data= [33. 75. 38. 38. 70. 44. 34. 67. 54. 78. 80. 21. 41. 47. 57. 50. 65. 43.\n",
      " 51. 54. 62. 68. 45. 39. 51. 48. 48. 42. 37. 75. 40. 48. 65. 26. 42. 53.\n",
      " 51. 56. 74. 54. 55. 15. 58. 46. 64. 59. 39. 36. 62. 39. 72. 32. 82. 76.\n",
      " 88. 51. 44. 35. 18. 53. 52. 45. 64. 31. 32. 61. 66. 59. 50. 69. 44. 22.\n",
      " 45. 45. 46. 42. 83. 53. 53. 69. 53. 33. 48. 49. 34. 66. 29. 66. 52. 45.\n",
      " 83. 54. 53. 31. 71. 60. 30. 33. 43. 26. 55. 56. 56. 54. 57. 68. 58. 61.\n",
      " 62. 38. 52. 74. 76. 37. 42. 54. 38. 38. 30. 31. 52. 41. 69. 40. 46. 69.\n",
      " 29. 28. 66. 41. 40. 36. 52. 58. 46. 42. 85. 45. 70. 49. 48. 34. 18. 39.\n",
      " 64. 46. 54. 42. 45. 64. 46. 68. 46. 54. 47. 41. 69. 27. 61. 37. 25. 66.\n",
      " 30. 59. 67. 34. 36. 40. 55. 58. 74. 55. 66. 55. 72. 40. 27. 38. 74. 52.\n",
      " 45. 40. 35. 46. 64. 41. 50. 45. 42. 22. 25. 55. 39. 58. 56. 62. 55. 65.\n",
      " 57. 34. 44. 47. 70. 60. 34. 50. 43. 60. 66. 46. 58. 76. 40. 49. 64. 45.\n",
      " 22. 50. 34. 44. 76. 63. 59. 36. 59. 47. 70. 64. 44. 55. 50. 48. 66. 40.\n",
      " 76. 48. 75. 73. 55. 41. 43. 50. 34. 57. 50. 53. 28. 35. 52. 52. 49. 67.\n",
      " 41. 41. 61. 24. 43. 51. 40. 52. 44. 25. 81. 54. 64. 76. 37. 45. 48. 46.\n",
      " 43. 67. 28. 35. 25. 71. 50. 31. 43. 54. 40. 51. 40. 49. 34. 26. 46. 62.\n",
      " 40. 25. 61. 58. 56. 39. 46. 53. 21. 57. 42. 80.]\n",
      "!@# circuit.eval= prover_model()\n",
      "==== Generate & Calibrate Setting ====\n",
      "scale:  default\n",
      "setting:  {\"run_args\":{\"tolerance\":{\"val\":0.0,\"scale\":1.0},\"input_scale\":5,\"param_scale\":5,\"scale_rebase_multiplier\":10,\"lookup_range\":[0,9594],\"logrows\":14,\"num_inner_cols\":1,\"variables\":[[\"batch_size\",1]],\"input_visibility\":{\"Hashed\":{\"hash_is_public\":true,\"outlets\":[]}},\"output_visibility\":\"Public\",\"param_visibility\":\"Private\"},\"num_rows\":14432,\"total_assignments\":606,\"total_const_size\":0,\"model_instance_shapes\":[[1],[1]],\"model_output_scales\":[0,5],\"model_input_scales\":[5],\"module_sizes\":{\"kzg\":[],\"poseidon\":[14432,[1]],\"elgamal\":[0,[0]]},\"required_lookups\":[\"Abs\",{\"GreaterThan\":{\"a\":0.0}}],\"check_mode\":\"UNSAFE\",\"version\":\"5.0.8\",\"num_blinding_factors\":null}\n"
     ]
    }
   ],
   "source": [
    "# prover calculates settings, send to verifier\n",
    "\n",
    "theory_output = torch.mean(data_tensor)\n",
    "print(\"Theory_output: \", theory_output)\n",
    "class prover_model(nn.Module):\n",
    "    def __init__(self):\n",
    "        super(prover_model, self).__init__()\n",
    "        # w represents mean in this case\n",
    "        self.w = nn.Parameter(data = theory_output, requires_grad = False)\n",
    "\n",
    "    def forward(self,X):\n",
    "        # some expression of tolerance to error in the inference\n",
    "        return (torch.abs(torch.sum(X)-X.size()[1]*(self.w))<0.01*X.size()[1]*(self.w), self.w)\n",
    "prover_gen_settings([data_path], comb_data_path, prover_model,prover_model_path, \"default\", \"resources\", settings_path)"
   ]
  },
  {
   "cell_type": "markdown",
   "metadata": {},
   "source": [
    "## Step 3\n",
    "- Prover generates proof with `prover_gen_proof`:\n",
    "    - 1. Compile circuit with `compile_circuit`\n",
    "        - Inputs: onnx model, settings path\n",
    "        - Outputs: compiled \n",
    "    - 2. Generate witness with\n",
    "- Verifier generates keys with "
   ]
  },
  {
   "cell_type": "code",
   "execution_count": 32,
   "metadata": {},
   "outputs": [
    {
     "name": "stdout",
     "output_type": "stream",
     "text": [
      "==== setting up ezkl ===="
     ]
    },
    {
     "name": "stderr",
     "output_type": "stream",
     "text": [
      "spawning module 0\n",
      "spawning module 2\n"
     ]
    },
    {
     "name": "stdout",
     "output_type": "stream",
     "text": [
      "\n"
     ]
    },
    {
     "name": "stderr",
     "output_type": "stream",
     "text": [
      "spawning module 0\n",
      "spawning module 2\n"
     ]
    },
    {
     "name": "stdout",
     "output_type": "stream",
     "text": [
      "Time setup: 2.0680389404296875 seconds\n",
      "=======================================\n",
      "Theory output:  tensor(49.9700)\n",
      "!@# compiled_model exists? True\n",
      "!@# compiled_model exists? True\n",
      "==== Generating Witness ====\n",
      "witness boolean:  1.0\n",
      "witness result 1 : 49.96875\n",
      "==== Generating Proof ====\n"
     ]
    },
    {
     "name": "stderr",
     "output_type": "stream",
     "text": [
      "spawning module 0\n",
      "spawning module 2\n"
     ]
    },
    {
     "name": "stdout",
     "output_type": "stream",
     "text": [
      "proof:  {'instances': [[[17236403609878300513, 8975289109583201277, 11033320042856086930, 2298871365537728986], [12436184717236109307, 3962172157175319849, 7381016538464732718, 1011752739694698287], [4072474832971751158, 13621019950687641747, 8349885009801153069, 3312433242047143324]]], 'proof': '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', 'transcript_type': 'EVM'}\n",
      "Time gen prf: 2.795754909515381 seconds\n"
     ]
    }
   ],
   "source": [
    "# Here verifier & prover can concurrently call setup since all params are public to get pk.\n",
    "# Here write as verifier function to emphasize that verifier must calculate its own vk to be sure\n",
    "verifier_setup(verifier_model_path, verifier_compiled_model_path, settings_path, srs_path,vk_path, pk_path )\n",
    "\n",
    "print(\"=======================================\")\n",
    "# Prover generates proof\n",
    "print(\"Theory output: \", theory_output)\n",
    "prover_gen_proof(prover_model_path, comb_data_path, witness_path, prover_compiled_model_path, settings_path, proof_path, pk_path, srs_path)"
   ]
  },
  {
   "cell_type": "code",
   "execution_count": 33,
   "metadata": {},
   "outputs": [
    {
     "name": "stdout",
     "output_type": "stream",
     "text": [
      "num_inputs:  1\n",
      "prf instances:  [[[17236403609878300513, 8975289109583201277, 11033320042856086930, 2298871365537728986], [12436184717236109307, 3962172157175319849, 7381016538464732718, 1011752739694698287], [4072474832971751158, 13621019950687641747, 8349885009801153069, 3312433242047143324]]]\n",
      "proof boolean:  1.0\n",
      "proof result 1 : 49.96875\n",
      "verified\n"
     ]
    }
   ],
   "source": [
    "# Verifier verifies\n",
    "verifier_verify(proof_path, settings_path, vk_path, srs_path)"
   ]
  },
  {
   "cell_type": "code",
   "execution_count": null,
   "metadata": {},
   "outputs": [],
   "source": []
  }
 ],
 "metadata": {
  "kernelspec": {
   "display_name": "Python 3",
   "language": "python",
   "name": "python3"
  },
  "language_info": {
   "codemirror_mode": {
    "name": "ipython",
    "version": 3
   },
   "file_extension": ".py",
   "mimetype": "text/x-python",
   "name": "python",
   "nbconvert_exporter": "python",
   "pygments_lexer": "ipython3",
   "version": "3.9.6"
  },
  "orig_nbformat": 4
 },
 "nbformat": 4,
 "nbformat_minor": 2
}
