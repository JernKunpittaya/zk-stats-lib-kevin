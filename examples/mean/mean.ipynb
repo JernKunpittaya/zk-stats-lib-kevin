{
 "cells": [
  {
   "cell_type": "code",
   "execution_count": 1,
   "metadata": {},
   "outputs": [
    {
     "name": "stdout",
     "output_type": "stream",
     "text": [
      "Requirement already satisfied: ezkl==5.0.8 in /Library/Frameworks/Python.framework/Versions/3.10/lib/python3.10/site-packages (from -r ../../requirements.txt (line 1)) (5.0.8)\n",
      "Requirement already satisfied: torch in /Library/Frameworks/Python.framework/Versions/3.10/lib/python3.10/site-packages (from -r ../../requirements.txt (line 2)) (2.1.1)\n",
      "Requirement already satisfied: requests in /Library/Frameworks/Python.framework/Versions/3.10/lib/python3.10/site-packages (from -r ../../requirements.txt (line 3)) (2.31.0)\n",
      "Requirement already satisfied: scipy in /Library/Frameworks/Python.framework/Versions/3.10/lib/python3.10/site-packages (from -r ../../requirements.txt (line 4)) (1.11.4)\n",
      "Requirement already satisfied: numpy in /Library/Frameworks/Python.framework/Versions/3.10/lib/python3.10/site-packages (from -r ../../requirements.txt (line 5)) (1.26.2)\n",
      "Requirement already satisfied: matplotlib in /Library/Frameworks/Python.framework/Versions/3.10/lib/python3.10/site-packages (from -r ../../requirements.txt (line 6)) (3.8.2)\n",
      "Requirement already satisfied: statistics in /Library/Frameworks/Python.framework/Versions/3.10/lib/python3.10/site-packages (from -r ../../requirements.txt (line 7)) (1.0.3.5)\n",
      "Requirement already satisfied: onnx in /Library/Frameworks/Python.framework/Versions/3.10/lib/python3.10/site-packages (from -r ../../requirements.txt (line 8)) (1.15.0)\n",
      "Requirement already satisfied: filelock in /Library/Frameworks/Python.framework/Versions/3.10/lib/python3.10/site-packages (from torch->-r ../../requirements.txt (line 2)) (3.13.1)\n",
      "Requirement already satisfied: networkx in /Library/Frameworks/Python.framework/Versions/3.10/lib/python3.10/site-packages (from torch->-r ../../requirements.txt (line 2)) (3.2.1)\n",
      "Requirement already satisfied: fsspec in /Library/Frameworks/Python.framework/Versions/3.10/lib/python3.10/site-packages (from torch->-r ../../requirements.txt (line 2)) (2023.10.0)\n",
      "Requirement already satisfied: sympy in /Library/Frameworks/Python.framework/Versions/3.10/lib/python3.10/site-packages (from torch->-r ../../requirements.txt (line 2)) (1.12)\n",
      "Requirement already satisfied: typing-extensions in /Library/Frameworks/Python.framework/Versions/3.10/lib/python3.10/site-packages (from torch->-r ../../requirements.txt (line 2)) (4.8.0)\n",
      "Requirement already satisfied: jinja2 in /Library/Frameworks/Python.framework/Versions/3.10/lib/python3.10/site-packages (from torch->-r ../../requirements.txt (line 2)) (3.1.2)\n",
      "Requirement already satisfied: urllib3<3,>=1.21.1 in /Library/Frameworks/Python.framework/Versions/3.10/lib/python3.10/site-packages (from requests->-r ../../requirements.txt (line 3)) (2.1.0)\n",
      "Requirement already satisfied: certifi>=2017.4.17 in /Library/Frameworks/Python.framework/Versions/3.10/lib/python3.10/site-packages (from requests->-r ../../requirements.txt (line 3)) (2023.11.17)\n",
      "Requirement already satisfied: charset-normalizer<4,>=2 in /Library/Frameworks/Python.framework/Versions/3.10/lib/python3.10/site-packages (from requests->-r ../../requirements.txt (line 3)) (3.3.2)\n",
      "Requirement already satisfied: idna<4,>=2.5 in /Library/Frameworks/Python.framework/Versions/3.10/lib/python3.10/site-packages (from requests->-r ../../requirements.txt (line 3)) (3.6)\n",
      "Requirement already satisfied: cycler>=0.10 in /Library/Frameworks/Python.framework/Versions/3.10/lib/python3.10/site-packages (from matplotlib->-r ../../requirements.txt (line 6)) (0.12.1)\n",
      "Requirement already satisfied: kiwisolver>=1.3.1 in /Library/Frameworks/Python.framework/Versions/3.10/lib/python3.10/site-packages (from matplotlib->-r ../../requirements.txt (line 6)) (1.4.5)\n",
      "Requirement already satisfied: fonttools>=4.22.0 in /Library/Frameworks/Python.framework/Versions/3.10/lib/python3.10/site-packages (from matplotlib->-r ../../requirements.txt (line 6)) (4.45.1)\n",
      "Requirement already satisfied: packaging>=20.0 in /Users/jernkun/Library/Python/3.10/lib/python/site-packages (from matplotlib->-r ../../requirements.txt (line 6)) (23.2)\n",
      "Requirement already satisfied: python-dateutil>=2.7 in /Users/jernkun/Library/Python/3.10/lib/python/site-packages (from matplotlib->-r ../../requirements.txt (line 6)) (2.8.2)\n",
      "Requirement already satisfied: contourpy>=1.0.1 in /Library/Frameworks/Python.framework/Versions/3.10/lib/python3.10/site-packages (from matplotlib->-r ../../requirements.txt (line 6)) (1.2.0)\n",
      "Requirement already satisfied: pillow>=8 in /Library/Frameworks/Python.framework/Versions/3.10/lib/python3.10/site-packages (from matplotlib->-r ../../requirements.txt (line 6)) (10.1.0)\n",
      "Requirement already satisfied: pyparsing>=2.3.1 in /Library/Frameworks/Python.framework/Versions/3.10/lib/python3.10/site-packages (from matplotlib->-r ../../requirements.txt (line 6)) (3.1.1)\n",
      "Requirement already satisfied: docutils>=0.3 in /Library/Frameworks/Python.framework/Versions/3.10/lib/python3.10/site-packages (from statistics->-r ../../requirements.txt (line 7)) (0.20.1)\n",
      "Requirement already satisfied: protobuf>=3.20.2 in /Library/Frameworks/Python.framework/Versions/3.10/lib/python3.10/site-packages (from onnx->-r ../../requirements.txt (line 8)) (4.25.1)\n",
      "Requirement already satisfied: six>=1.5 in /Users/jernkun/Library/Python/3.10/lib/python/site-packages (from python-dateutil>=2.7->matplotlib->-r ../../requirements.txt (line 6)) (1.16.0)\n",
      "Requirement already satisfied: MarkupSafe>=2.0 in /Library/Frameworks/Python.framework/Versions/3.10/lib/python3.10/site-packages (from jinja2->torch->-r ../../requirements.txt (line 2)) (2.1.3)\n",
      "Requirement already satisfied: mpmath>=0.19 in /Library/Frameworks/Python.framework/Versions/3.10/lib/python3.10/site-packages (from sympy->torch->-r ../../requirements.txt (line 2)) (1.3.0)\n",
      "\u001b[33mWARNING: You are using pip version 21.2.3; however, version 23.3.1 is available.\n",
      "You should consider upgrading via the '/usr/local/bin/python3 -m pip install --upgrade pip' command.\u001b[0m\n",
      "Note: you may need to restart the kernel to use updated packages.\n"
     ]
    }
   ],
   "source": [
    "pip install -r ../../requirements.txt"
   ]
  },
  {
   "cell_type": "code",
   "execution_count": 81,
   "metadata": {},
   "outputs": [],
   "source": [
    "import ezkl\n",
    "import torch\n",
    "from torch import nn\n",
    "import json\n",
    "import os\n",
    "import time\n",
    "import scipy\n",
    "import numpy as np\n",
    "import matplotlib.pyplot as plt\n",
    "import statistics\n",
    "import math"
   ]
  },
  {
   "cell_type": "code",
   "execution_count": 82,
   "metadata": {},
   "outputs": [],
   "source": [
    "%run -i ../../core.py"
   ]
  },
  {
   "attachments": {},
   "cell_type": "markdown",
   "metadata": {},
   "source": []
  },
  {
   "cell_type": "code",
   "execution_count": 83,
   "metadata": {},
   "outputs": [],
   "source": [
    "# init path\n",
    "os.makedirs(os.path.dirname('shared/'), exist_ok=True)\n",
    "os.makedirs(os.path.dirname('prover/'), exist_ok=True)\n",
    "verifier_model_path = os.path.join('shared/verifier.onnx')\n",
    "prover_model_path = os.path.join('prover/prover.onnx')\n",
    "verifier_compiled_model_path = os.path.join('shared/verifier.compiled')\n",
    "prover_compiled_model_path = os.path.join('prover/prover.compiled')\n",
    "pk_path = os.path.join('shared/test.pk')\n",
    "vk_path = os.path.join('shared/test.vk')\n",
    "proof_path = os.path.join('shared/test.pf')\n",
    "settings_path = os.path.join('shared/settings.json')\n",
    "srs_path = os.path.join('shared/kzg.srs')\n",
    "witness_path = os.path.join('prover/witness.json')\n",
    "# this is private to prover since it contains actual data\n",
    "comb_data_path = os.path.join('prover/comb_data.json')"
   ]
  },
  {
   "attachments": {},
   "cell_type": "markdown",
   "metadata": {},
   "source": [
    "=======================  ZK-STATS FLOW ======================="
   ]
  },
  {
   "cell_type": "code",
   "execution_count": 84,
   "metadata": {},
   "outputs": [],
   "source": [
    "data_path = os.path.join('data.json')\n",
    "dummy_data_path = os.path.join('shared/dummy_data.json')\n",
    "\n",
    "f_raw_input = open(data_path, \"r\")\n",
    "data = json.loads(f_raw_input.read())[\"input_data\"][0]\n",
    "data_tensor = torch.reshape(torch.tensor(data),(1, len(data), 1))\n",
    "\n",
    "#  dummy data for data consumer: make the bound approx same as real data\n",
    "dummy_data = np.random.uniform(min(data), max(data), len(data))\n",
    "json.dump({\"input_data\":[dummy_data.tolist()]}, open(dummy_data_path, 'w'))\n",
    "\n",
    "dummy_data_tensor = torch.reshape(torch.tensor(dummy_data), (1, len(dummy_data),1 ))\n",
    "dummy_theory_output = torch.mean(dummy_data_tensor)\n",
    "\n"
   ]
  },
  {
   "cell_type": "code",
   "execution_count": 85,
   "metadata": {},
   "outputs": [],
   "source": [
    "# Verifier/ data consumer side: send desired calculation\n",
    "class verifier_model(nn.Module):\n",
    "    def __init__(self):\n",
    "        super(verifier_model, self).__init__()\n",
    "        self.w = nn.Parameter(data = dummy_theory_output, requires_grad = False)\n",
    "\n",
    "    def forward(self,X):\n",
    "        return (torch.abs(torch.sum(X)-X.size()[1]*(self.w))<=torch.abs(0.01*X.size()[1]*self.w), self.w)\n",
    "    \n",
    "verifier_define_calculation(verifier_model, verifier_model_path, [dummy_data_path])"
   ]
  },
  {
   "cell_type": "code",
   "execution_count": 86,
   "metadata": {},
   "outputs": [
    {
     "name": "stdout",
     "output_type": "stream",
     "text": [
      "Theory_output:  tensor(49.9700)\n",
      "==== Generate & Calibrate Setting ====\n",
      "scale:  default\n",
      "setting:  {\"run_args\":{\"tolerance\":{\"val\":0.0,\"scale\":1.0},\"input_scale\":5,\"param_scale\":5,\"scale_rebase_multiplier\":10,\"lookup_range\":[-9594,0],\"logrows\":14,\"num_inner_cols\":1,\"variables\":[[\"batch_size\",1]],\"input_visibility\":{\"Hashed\":{\"hash_is_public\":true,\"outlets\":[]}},\"output_visibility\":\"Public\",\"param_visibility\":\"Private\"},\"num_rows\":14432,\"total_assignments\":610,\"total_const_size\":4,\"model_instance_shapes\":[[1],[1]],\"model_output_scales\":[0,5],\"model_input_scales\":[5],\"module_sizes\":{\"kzg\":[],\"poseidon\":[14432,[1]],\"elgamal\":[0,[0]]},\"required_lookups\":[\"Abs\",{\"GreaterThan\":{\"a\":0.0}}],\"check_mode\":\"UNSAFE\",\"version\":\"5.0.8\",\"num_blinding_factors\":null}\n"
     ]
    }
   ],
   "source": [
    "# prover calculates settings, send to verifier\n",
    "\n",
    "theory_output = torch.mean(data_tensor)\n",
    "print(\"Theory_output: \", theory_output)\n",
    "class prover_model(nn.Module):\n",
    "    def __init__(self):\n",
    "        super(prover_model, self).__init__()\n",
    "        self.w = nn.Parameter(data = theory_output, requires_grad = False)\n",
    "\n",
    "    def forward(self,X):\n",
    "        return (torch.abs(torch.sum(X)-X.size()[1]*(self.w))<=torch.abs(0.01*X.size()[1]*self.w), self.w)\n",
    "prover_gen_settings([data_path], comb_data_path, prover_model,prover_model_path, \"default\", \"resources\", settings_path)"
   ]
  },
  {
   "cell_type": "code",
   "execution_count": 87,
   "metadata": {},
   "outputs": [
    {
     "name": "stdout",
     "output_type": "stream",
     "text": [
      "==== setting up ezkl ====\n"
     ]
    },
    {
     "name": "stderr",
     "output_type": "stream",
     "text": [
      "spawning module 0\n",
      "spawning module 2\n",
      "spawning module 0\n",
      "spawning module 2\n",
      "spawning module 0\n"
     ]
    },
    {
     "name": "stdout",
     "output_type": "stream",
     "text": [
      "Time setup: 1.6543021202087402 seconds\n",
      "=======================================\n",
      "Theory output:  tensor(49.9700)\n",
      "==== Generating Witness ====\n",
      "witness boolean:  1.0\n",
      "witness result 1 : 49.96875\n",
      "==== Generating Proof ====\n"
     ]
    },
    {
     "name": "stderr",
     "output_type": "stream",
     "text": [
      "spawning module 2\n"
     ]
    },
    {
     "name": "stdout",
     "output_type": "stream",
     "text": [
      "proof:  {'instances': [[[17236403609878300513, 8975289109583201277, 11033320042856086930, 2298871365537728986], [12436184717236109307, 3962172157175319849, 7381016538464732718, 1011752739694698287], [4072474832971751158, 13621019950687641747, 8349885009801153069, 3312433242047143324]]], 'proof': '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', 'transcript_type': 'EVM'}\n",
      "Time gen prf: 2.046539068222046 seconds\n"
     ]
    }
   ],
   "source": [
    "# Here verifier & prover can concurrently call setup since all params are public to get pk. \n",
    "# Here write as verifier function to emphasize that verifier must calculate its own vk to be sure\n",
    "verifier_setup(verifier_model_path, verifier_compiled_model_path, settings_path, srs_path,vk_path, pk_path )\n",
    "\n",
    "print(\"=======================================\")\n",
    "# Prover generates proof\n",
    "print(\"Theory output: \", theory_output)\n",
    "prover_gen_proof(prover_model_path, comb_data_path, witness_path, prover_compiled_model_path, settings_path, proof_path, pk_path, srs_path)"
   ]
  },
  {
   "cell_type": "code",
   "execution_count": 88,
   "metadata": {},
   "outputs": [
    {
     "name": "stdout",
     "output_type": "stream",
     "text": [
      "num_inputs:  1\n",
      "prf instances:  [[[17236403609878300513, 8975289109583201277, 11033320042856086930, 2298871365537728986], [12436184717236109307, 3962172157175319849, 7381016538464732718, 1011752739694698287], [4072474832971751158, 13621019950687641747, 8349885009801153069, 3312433242047143324]]]\n",
      "proof boolean:  1.0\n",
      "proof result 1 : 49.96875\n",
      "verified\n"
     ]
    }
   ],
   "source": [
    "# Verifier verifies\n",
    "verifier_verify(proof_path, settings_path, vk_path, srs_path)"
   ]
  },
  {
   "cell_type": "code",
   "execution_count": null,
   "metadata": {},
   "outputs": [],
   "source": []
  }
 ],
 "metadata": {
  "kernelspec": {
   "display_name": "Python 3",
   "language": "python",
   "name": "python3"
  },
  "language_info": {
   "codemirror_mode": {
    "name": "ipython",
    "version": 3
   },
   "file_extension": ".py",
   "mimetype": "text/x-python",
   "name": "python",
   "nbconvert_exporter": "python",
   "pygments_lexer": "ipython3",
   "version": "3.10.0"
  },
  "orig_nbformat": 4
 },
 "nbformat": 4,
 "nbformat_minor": 2
}
