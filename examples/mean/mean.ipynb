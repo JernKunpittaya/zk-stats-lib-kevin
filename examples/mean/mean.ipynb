{
 "cells": [
  {
   "cell_type": "code",
   "execution_count": 1,
   "metadata": {},
   "outputs": [
    {
     "name": "stdout",
     "output_type": "stream",
     "text": [
      "Requirement already satisfied: ezkl==7.0.0 in /Library/Frameworks/Python.framework/Versions/3.10/lib/python3.10/site-packages (from -r ../../requirements.txt (line 1)) (7.0.0)\n",
      "Requirement already satisfied: torch in /Library/Frameworks/Python.framework/Versions/3.10/lib/python3.10/site-packages (from -r ../../requirements.txt (line 2)) (2.1.1)\n",
      "Requirement already satisfied: requests in /Library/Frameworks/Python.framework/Versions/3.10/lib/python3.10/site-packages (from -r ../../requirements.txt (line 3)) (2.31.0)\n",
      "Requirement already satisfied: scipy in /Library/Frameworks/Python.framework/Versions/3.10/lib/python3.10/site-packages (from -r ../../requirements.txt (line 4)) (1.11.4)\n",
      "Requirement already satisfied: numpy in /Library/Frameworks/Python.framework/Versions/3.10/lib/python3.10/site-packages (from -r ../../requirements.txt (line 5)) (1.26.2)\n",
      "Requirement already satisfied: matplotlib in /Library/Frameworks/Python.framework/Versions/3.10/lib/python3.10/site-packages (from -r ../../requirements.txt (line 6)) (3.8.2)\n",
      "Requirement already satisfied: statistics in /Library/Frameworks/Python.framework/Versions/3.10/lib/python3.10/site-packages (from -r ../../requirements.txt (line 7)) (1.0.3.5)\n",
      "Requirement already satisfied: onnx in /Library/Frameworks/Python.framework/Versions/3.10/lib/python3.10/site-packages (from -r ../../requirements.txt (line 8)) (1.15.0)\n",
      "Requirement already satisfied: filelock in /Library/Frameworks/Python.framework/Versions/3.10/lib/python3.10/site-packages (from torch->-r ../../requirements.txt (line 2)) (3.13.1)\n",
      "Requirement already satisfied: fsspec in /Library/Frameworks/Python.framework/Versions/3.10/lib/python3.10/site-packages (from torch->-r ../../requirements.txt (line 2)) (2023.10.0)\n",
      "Requirement already satisfied: typing-extensions in /Library/Frameworks/Python.framework/Versions/3.10/lib/python3.10/site-packages (from torch->-r ../../requirements.txt (line 2)) (4.8.0)\n",
      "Requirement already satisfied: jinja2 in /Library/Frameworks/Python.framework/Versions/3.10/lib/python3.10/site-packages (from torch->-r ../../requirements.txt (line 2)) (3.1.2)\n",
      "Requirement already satisfied: sympy in /Library/Frameworks/Python.framework/Versions/3.10/lib/python3.10/site-packages (from torch->-r ../../requirements.txt (line 2)) (1.12)\n",
      "Requirement already satisfied: networkx in /Library/Frameworks/Python.framework/Versions/3.10/lib/python3.10/site-packages (from torch->-r ../../requirements.txt (line 2)) (3.2.1)\n",
      "Requirement already satisfied: idna<4,>=2.5 in /Library/Frameworks/Python.framework/Versions/3.10/lib/python3.10/site-packages (from requests->-r ../../requirements.txt (line 3)) (3.6)\n",
      "Requirement already satisfied: urllib3<3,>=1.21.1 in /Library/Frameworks/Python.framework/Versions/3.10/lib/python3.10/site-packages (from requests->-r ../../requirements.txt (line 3)) (2.1.0)\n",
      "Requirement already satisfied: charset-normalizer<4,>=2 in /Library/Frameworks/Python.framework/Versions/3.10/lib/python3.10/site-packages (from requests->-r ../../requirements.txt (line 3)) (3.3.2)\n",
      "Requirement already satisfied: certifi>=2017.4.17 in /Library/Frameworks/Python.framework/Versions/3.10/lib/python3.10/site-packages (from requests->-r ../../requirements.txt (line 3)) (2023.11.17)\n",
      "Requirement already satisfied: pillow>=8 in /Library/Frameworks/Python.framework/Versions/3.10/lib/python3.10/site-packages (from matplotlib->-r ../../requirements.txt (line 6)) (10.1.0)\n",
      "Requirement already satisfied: python-dateutil>=2.7 in /Users/jernkun/Library/Python/3.10/lib/python/site-packages (from matplotlib->-r ../../requirements.txt (line 6)) (2.8.2)\n",
      "Requirement already satisfied: cycler>=0.10 in /Library/Frameworks/Python.framework/Versions/3.10/lib/python3.10/site-packages (from matplotlib->-r ../../requirements.txt (line 6)) (0.12.1)\n",
      "Requirement already satisfied: kiwisolver>=1.3.1 in /Library/Frameworks/Python.framework/Versions/3.10/lib/python3.10/site-packages (from matplotlib->-r ../../requirements.txt (line 6)) (1.4.5)\n",
      "Requirement already satisfied: packaging>=20.0 in /Users/jernkun/Library/Python/3.10/lib/python/site-packages (from matplotlib->-r ../../requirements.txt (line 6)) (23.2)\n",
      "Requirement already satisfied: fonttools>=4.22.0 in /Library/Frameworks/Python.framework/Versions/3.10/lib/python3.10/site-packages (from matplotlib->-r ../../requirements.txt (line 6)) (4.45.1)\n",
      "Requirement already satisfied: contourpy>=1.0.1 in /Library/Frameworks/Python.framework/Versions/3.10/lib/python3.10/site-packages (from matplotlib->-r ../../requirements.txt (line 6)) (1.2.0)\n",
      "Requirement already satisfied: pyparsing>=2.3.1 in /Library/Frameworks/Python.framework/Versions/3.10/lib/python3.10/site-packages (from matplotlib->-r ../../requirements.txt (line 6)) (3.1.1)\n",
      "Requirement already satisfied: docutils>=0.3 in /Library/Frameworks/Python.framework/Versions/3.10/lib/python3.10/site-packages (from statistics->-r ../../requirements.txt (line 7)) (0.20.1)\n",
      "Requirement already satisfied: protobuf>=3.20.2 in /Library/Frameworks/Python.framework/Versions/3.10/lib/python3.10/site-packages (from onnx->-r ../../requirements.txt (line 8)) (4.25.1)\n",
      "Requirement already satisfied: six>=1.5 in /Users/jernkun/Library/Python/3.10/lib/python/site-packages (from python-dateutil>=2.7->matplotlib->-r ../../requirements.txt (line 6)) (1.16.0)\n",
      "Requirement already satisfied: MarkupSafe>=2.0 in /Library/Frameworks/Python.framework/Versions/3.10/lib/python3.10/site-packages (from jinja2->torch->-r ../../requirements.txt (line 2)) (2.1.3)\n",
      "Requirement already satisfied: mpmath>=0.19 in /Library/Frameworks/Python.framework/Versions/3.10/lib/python3.10/site-packages (from sympy->torch->-r ../../requirements.txt (line 2)) (1.3.0)\n",
      "\u001b[33mWARNING: You are using pip version 21.2.3; however, version 23.3.2 is available.\n",
      "You should consider upgrading via the '/usr/local/bin/python3 -m pip install --upgrade pip' command.\u001b[0m\n",
      "Note: you may need to restart the kernel to use updated packages.\n"
     ]
    }
   ],
   "source": [
    "pip install -r ../../requirements.txt"
   ]
  },
  {
   "cell_type": "code",
   "execution_count": 2,
   "metadata": {},
   "outputs": [],
   "source": [
    "import ezkl\n",
    "import torch\n",
    "from torch import nn\n",
    "import json\n",
    "import os\n",
    "import time\n",
    "import scipy\n",
    "import numpy as np\n",
    "import matplotlib.pyplot as plt\n",
    "import statistics\n",
    "import math"
   ]
  },
  {
   "cell_type": "code",
   "execution_count": 6,
   "metadata": {},
   "outputs": [],
   "source": [
    "%run -i ../../zkstats/core.py"
   ]
  },
  {
   "attachments": {},
   "cell_type": "markdown",
   "metadata": {},
   "source": []
  },
  {
   "cell_type": "code",
   "execution_count": 7,
   "metadata": {},
   "outputs": [],
   "source": [
    "# init path\n",
    "os.makedirs(os.path.dirname('shared/'), exist_ok=True)\n",
    "os.makedirs(os.path.dirname('prover/'), exist_ok=True)\n",
    "verifier_model_path = os.path.join('shared/verifier.onnx')\n",
    "prover_model_path = os.path.join('prover/prover.onnx')\n",
    "verifier_compiled_model_path = os.path.join('shared/verifier.compiled')\n",
    "prover_compiled_model_path = os.path.join('prover/prover.compiled')\n",
    "pk_path = os.path.join('shared/test.pk')\n",
    "vk_path = os.path.join('shared/test.vk')\n",
    "proof_path = os.path.join('shared/test.pf')\n",
    "settings_path = os.path.join('shared/settings.json')\n",
    "srs_path = os.path.join('shared/kzg.srs')\n",
    "witness_path = os.path.join('prover/witness.json')\n",
    "# this is private to prover since it contains actual data\n",
    "sel_data_path = os.path.join('prover/sel_data.json')\n",
    "# this is just dummy random value\n",
    "sel_dummy_data_path = os.path.join('shared/sel_dummy_data.json')"
   ]
  },
  {
   "attachments": {},
   "cell_type": "markdown",
   "metadata": {},
   "source": [
    "=======================  ZK-STATS FLOW ======================="
   ]
  },
  {
   "attachments": {},
   "cell_type": "markdown",
   "metadata": {},
   "source": [
    "## Step 1\n",
    "Verifier calls `export_onnx` with dummy data, to generate the onnx model. Dummy data is used to infer the shape of the model\n",
    "\n",
    "### Output\n",
    "- `verifier.onnx` file"
   ]
  },
  {
   "cell_type": "code",
   "execution_count": 15,
   "metadata": {},
   "outputs": [],
   "source": [
    "data_path = os.path.join('data.json')\n",
    "dummy_data_path = os.path.join('shared/dummy_data.json')\n",
    "\n",
    "data = json.loads(open(data_path, \"r\").read())['col_name']\n",
    "data_tensor = torch.reshape(torch.tensor(data),(1,-1, 1))\n",
    "\n",
    "create_dummy(data_path, dummy_data_path)\n",
    "dummy_data = json.loads(open(dummy_data_path, \"r\").read())['col_name']\n",
    "dummy_data_tensor = torch.reshape(torch.tensor(dummy_data), (1,-1,1))\n",
    "\n",
    "dummy_theory_output = torch.mean(dummy_data_tensor)\n",
    "theory_output = torch.mean(data_tensor)"
   ]
  },
  {
   "cell_type": "code",
   "execution_count": 16,
   "metadata": {},
   "outputs": [],
   "source": [
    "# Verifier/ data consumer side: send desired calculation\n",
    "class verifier_model(nn.Module):\n",
    "    def __init__(self):\n",
    "        super(verifier_model, self).__init__()\n",
    "        self.w = nn.Parameter(data = dummy_theory_output, requires_grad = False)\n",
    "\n",
    "    def forward(self,X):\n",
    "        return (torch.abs(torch.sum(X)-X.size()[1]*(self.w))<=torch.abs(0.01*X.size()[1]*self.w), self.w)\n",
    "\n",
    "\n",
    "verifier_define_calculation(dummy_data_path, ['col_name'],sel_dummy_data_path,verifier_model, verifier_model_path)"
   ]
  },
  {
   "attachments": {},
   "cell_type": "markdown",
   "metadata": {},
   "source": [
    "## Step 2\n",
    "- Prover gets the model from the verifier.\n",
    "- Prover overrides the `dummy_theory_output` with `theory_output`\n",
    "- Prover calls `prover_gen_settings`: export onnx file and compute the settings required by `ezkl.calibrate_settings`"
   ]
  },
  {
   "cell_type": "code",
   "execution_count": 17,
   "metadata": {},
   "outputs": [
    {
     "name": "stdout",
     "output_type": "stream",
     "text": [
      "Theory_output:  tensor(42.1340)\n",
      "==== Generate & Calibrate Setting ====\n",
      "scale:  [5]\n",
      "setting:  {\"run_args\":{\"tolerance\":{\"val\":0.0,\"scale\":1.0},\"input_scale\":5,\"param_scale\":5,\"scale_rebase_multiplier\":10,\"lookup_range\":[-1344,0],\"logrows\":12,\"num_inner_cols\":2,\"variables\":[[\"batch_size\",1]],\"input_visibility\":{\"Hashed\":{\"hash_is_public\":true,\"outlets\":[]}},\"output_visibility\":\"Public\",\"param_visibility\":\"Private\"},\"num_rows\":3936,\"total_assignments\":110,\"total_const_size\":4,\"model_instance_shapes\":[[1],[1]],\"model_output_scales\":[0,5],\"model_input_scales\":[5],\"module_sizes\":{\"kzg\":[],\"poseidon\":[3936,[1]],\"elgamal\":[0,[0]]},\"required_lookups\":[\"Abs\",{\"GreaterThan\":{\"a\":0.0}}],\"check_mode\":\"UNSAFE\",\"version\":\"7.0.0\",\"num_blinding_factors\":null}\n"
     ]
    }
   ],
   "source": [
    "# prover calculates settings, send to verifier\n",
    "print(\"Theory_output: \", theory_output)\n",
    "class prover_model(nn.Module):\n",
    "    def __init__(self):\n",
    "        super(prover_model, self).__init__()\n",
    "        self.w = nn.Parameter(data = theory_output, requires_grad = False)\n",
    "\n",
    "    def forward(self,X):\n",
    "        return (torch.abs(torch.sum(X)-X.size()[1]*(self.w))<=torch.abs(0.01*X.size()[1]*self.w), self.w)\n",
    "        \n",
    "prover_gen_settings(data_path,['col_name'], sel_data_path, prover_model,prover_model_path, [5], \"resources\", settings_path)"
   ]
  },
  {
   "attachments": {},
   "cell_type": "markdown",
   "metadata": {},
   "source": [
    "## Step 3\n",
    "- Prover generates proof with `prover_gen_proof`:\n",
    "    - 1. Compile circuit with `compile_circuit`\n",
    "        - Inputs: onnx model, settings path\n",
    "        - Outputs: compiled \n",
    "    - 2. Generate witness with\n",
    "- Verifier generates keys with "
   ]
  },
  {
   "cell_type": "code",
   "execution_count": 18,
   "metadata": {},
   "outputs": [
    {
     "name": "stderr",
     "output_type": "stream",
     "text": [
      "spawning module 0\n",
      "spawning module 2\n"
     ]
    },
    {
     "name": "stdout",
     "output_type": "stream",
     "text": [
      "==== setting up ezkl ====\n"
     ]
    },
    {
     "name": "stderr",
     "output_type": "stream",
     "text": [
      "spawning module 0\n",
      "spawning module 2\n",
      "spawning module 0\n",
      "spawning module 2\n"
     ]
    },
    {
     "name": "stdout",
     "output_type": "stream",
     "text": [
      "Time setup: 0.6005728244781494 seconds\n",
      "=======================================\n",
      "Theory output:  tensor(42.1340)\n",
      "!@# compiled_model exists? True\n",
      "!@# compiled_model exists? True\n",
      "==== Generating Witness ====\n",
      "witness boolean:  1.0\n",
      "witness result 1 : 42.125\n",
      "==== Generating Proof ====\n",
      "proof:  {'instances': [[[13487293430113784910, 12778393823498462323, 6887806571578554205, 1244238496825937973], [12436184717236109307, 3962172157175319849, 7381016538464732718, 1011752739694698287], [1786891257776170021, 2456895193576464786, 15851013958699291921, 426370788491761118]]], 'proof': '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', 'transcript_type': 'EVM'}\n",
      "Time gen prf: 0.8041813373565674 seconds\n"
     ]
    }
   ],
   "source": [
    "# Here verifier & prover can concurrently call setup since all params are public to get pk.\n",
    "# Here write as verifier function to emphasize that verifier must calculate its own vk to be sure\n",
    "verifier_setup(verifier_model_path, verifier_compiled_model_path, settings_path,vk_path, pk_path )\n",
    "\n",
    "print(\"=======================================\")\n",
    "# Prover generates proof\n",
    "print(\"Theory output: \", theory_output)\n",
    "prover_gen_proof(prover_model_path, sel_data_path, witness_path, prover_compiled_model_path, settings_path, proof_path, pk_path)"
   ]
  },
  {
   "cell_type": "code",
   "execution_count": 19,
   "metadata": {},
   "outputs": [
    {
     "name": "stdout",
     "output_type": "stream",
     "text": [
      "num_inputs:  1\n",
      "prf instances:  [[[13487293430113784910, 12778393823498462323, 6887806571578554205, 1244238496825937973], [12436184717236109307, 3962172157175319849, 7381016538464732718, 1011752739694698287], [1786891257776170021, 2456895193576464786, 15851013958699291921, 426370788491761118]]]\n",
      "proof boolean:  1.0\n",
      "proof result 1 : 42.125\n",
      "verified\n"
     ]
    }
   ],
   "source": [
    "# Verifier verifies\n",
    "verifier_verify(proof_path, settings_path, vk_path)"
   ]
  }
 ],
 "metadata": {
  "kernelspec": {
   "display_name": "Python 3",
   "language": "python",
   "name": "python3"
  },
  "language_info": {
   "codemirror_mode": {
    "name": "ipython",
    "version": 3
   },
   "file_extension": ".py",
   "mimetype": "text/x-python",
   "name": "python",
   "nbconvert_exporter": "python",
   "pygments_lexer": "ipython3",
   "version": "3.10.0"
  },
  "orig_nbformat": 4
 },
 "nbformat": 4,
 "nbformat_minor": 2
}
