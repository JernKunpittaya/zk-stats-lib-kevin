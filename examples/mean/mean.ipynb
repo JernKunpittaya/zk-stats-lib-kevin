{
 "cells": [
  {
   "cell_type": "code",
   "execution_count": 25,
   "metadata": {},
   "outputs": [
    {
     "name": "stdout",
     "output_type": "stream",
     "text": [
      "Requirement already satisfied: ezkl==5.4.2 in /Library/Frameworks/Python.framework/Versions/3.10/lib/python3.10/site-packages (from -r ../../requirements.txt (line 1)) (5.4.2)\n",
      "Requirement already satisfied: torch in /Library/Frameworks/Python.framework/Versions/3.10/lib/python3.10/site-packages (from -r ../../requirements.txt (line 2)) (2.1.1)\n",
      "Requirement already satisfied: requests in /Library/Frameworks/Python.framework/Versions/3.10/lib/python3.10/site-packages (from -r ../../requirements.txt (line 3)) (2.31.0)\n",
      "Requirement already satisfied: scipy in /Library/Frameworks/Python.framework/Versions/3.10/lib/python3.10/site-packages (from -r ../../requirements.txt (line 4)) (1.11.4)\n",
      "Requirement already satisfied: numpy in /Library/Frameworks/Python.framework/Versions/3.10/lib/python3.10/site-packages (from -r ../../requirements.txt (line 5)) (1.26.2)\n",
      "Requirement already satisfied: matplotlib in /Library/Frameworks/Python.framework/Versions/3.10/lib/python3.10/site-packages (from -r ../../requirements.txt (line 6)) (3.8.2)\n",
      "Requirement already satisfied: statistics in /Library/Frameworks/Python.framework/Versions/3.10/lib/python3.10/site-packages (from -r ../../requirements.txt (line 7)) (1.0.3.5)\n",
      "Requirement already satisfied: onnx in /Library/Frameworks/Python.framework/Versions/3.10/lib/python3.10/site-packages (from -r ../../requirements.txt (line 8)) (1.15.0)\n",
      "Requirement already satisfied: sympy in /Library/Frameworks/Python.framework/Versions/3.10/lib/python3.10/site-packages (from torch->-r ../../requirements.txt (line 2)) (1.12)\n",
      "Requirement already satisfied: networkx in /Library/Frameworks/Python.framework/Versions/3.10/lib/python3.10/site-packages (from torch->-r ../../requirements.txt (line 2)) (3.2.1)\n",
      "Requirement already satisfied: jinja2 in /Library/Frameworks/Python.framework/Versions/3.10/lib/python3.10/site-packages (from torch->-r ../../requirements.txt (line 2)) (3.1.2)\n",
      "Requirement already satisfied: filelock in /Library/Frameworks/Python.framework/Versions/3.10/lib/python3.10/site-packages (from torch->-r ../../requirements.txt (line 2)) (3.13.1)\n",
      "Requirement already satisfied: typing-extensions in /Library/Frameworks/Python.framework/Versions/3.10/lib/python3.10/site-packages (from torch->-r ../../requirements.txt (line 2)) (4.8.0)\n",
      "Requirement already satisfied: fsspec in /Library/Frameworks/Python.framework/Versions/3.10/lib/python3.10/site-packages (from torch->-r ../../requirements.txt (line 2)) (2023.10.0)\n",
      "Requirement already satisfied: idna<4,>=2.5 in /Library/Frameworks/Python.framework/Versions/3.10/lib/python3.10/site-packages (from requests->-r ../../requirements.txt (line 3)) (3.6)\n",
      "Requirement already satisfied: charset-normalizer<4,>=2 in /Library/Frameworks/Python.framework/Versions/3.10/lib/python3.10/site-packages (from requests->-r ../../requirements.txt (line 3)) (3.3.2)\n",
      "Requirement already satisfied: certifi>=2017.4.17 in /Library/Frameworks/Python.framework/Versions/3.10/lib/python3.10/site-packages (from requests->-r ../../requirements.txt (line 3)) (2023.11.17)\n",
      "Requirement already satisfied: urllib3<3,>=1.21.1 in /Library/Frameworks/Python.framework/Versions/3.10/lib/python3.10/site-packages (from requests->-r ../../requirements.txt (line 3)) (2.1.0)\n",
      "Requirement already satisfied: fonttools>=4.22.0 in /Library/Frameworks/Python.framework/Versions/3.10/lib/python3.10/site-packages (from matplotlib->-r ../../requirements.txt (line 6)) (4.45.1)\n",
      "Requirement already satisfied: pillow>=8 in /Library/Frameworks/Python.framework/Versions/3.10/lib/python3.10/site-packages (from matplotlib->-r ../../requirements.txt (line 6)) (10.1.0)\n",
      "Requirement already satisfied: pyparsing>=2.3.1 in /Library/Frameworks/Python.framework/Versions/3.10/lib/python3.10/site-packages (from matplotlib->-r ../../requirements.txt (line 6)) (3.1.1)\n",
      "Requirement already satisfied: kiwisolver>=1.3.1 in /Library/Frameworks/Python.framework/Versions/3.10/lib/python3.10/site-packages (from matplotlib->-r ../../requirements.txt (line 6)) (1.4.5)\n",
      "Requirement already satisfied: contourpy>=1.0.1 in /Library/Frameworks/Python.framework/Versions/3.10/lib/python3.10/site-packages (from matplotlib->-r ../../requirements.txt (line 6)) (1.2.0)\n",
      "Requirement already satisfied: cycler>=0.10 in /Library/Frameworks/Python.framework/Versions/3.10/lib/python3.10/site-packages (from matplotlib->-r ../../requirements.txt (line 6)) (0.12.1)\n",
      "Requirement already satisfied: python-dateutil>=2.7 in /Users/jernkun/Library/Python/3.10/lib/python/site-packages (from matplotlib->-r ../../requirements.txt (line 6)) (2.8.2)\n",
      "Requirement already satisfied: packaging>=20.0 in /Users/jernkun/Library/Python/3.10/lib/python/site-packages (from matplotlib->-r ../../requirements.txt (line 6)) (23.2)\n",
      "Requirement already satisfied: docutils>=0.3 in /Library/Frameworks/Python.framework/Versions/3.10/lib/python3.10/site-packages (from statistics->-r ../../requirements.txt (line 7)) (0.20.1)\n",
      "Requirement already satisfied: protobuf>=3.20.2 in /Library/Frameworks/Python.framework/Versions/3.10/lib/python3.10/site-packages (from onnx->-r ../../requirements.txt (line 8)) (4.25.1)\n",
      "Requirement already satisfied: six>=1.5 in /Users/jernkun/Library/Python/3.10/lib/python/site-packages (from python-dateutil>=2.7->matplotlib->-r ../../requirements.txt (line 6)) (1.16.0)\n",
      "Requirement already satisfied: MarkupSafe>=2.0 in /Library/Frameworks/Python.framework/Versions/3.10/lib/python3.10/site-packages (from jinja2->torch->-r ../../requirements.txt (line 2)) (2.1.3)\n",
      "Requirement already satisfied: mpmath>=0.19 in /Library/Frameworks/Python.framework/Versions/3.10/lib/python3.10/site-packages (from sympy->torch->-r ../../requirements.txt (line 2)) (1.3.0)\n",
      "\u001b[33mWARNING: You are using pip version 21.2.3; however, version 23.3.1 is available.\n",
      "You should consider upgrading via the '/usr/local/bin/python3 -m pip install --upgrade pip' command.\u001b[0m\n",
      "Note: you may need to restart the kernel to use updated packages.\n"
     ]
    }
   ],
   "source": [
    "pip install -r ../../requirements.txt"
   ]
  },
  {
   "cell_type": "code",
   "execution_count": 21,
   "metadata": {},
   "outputs": [],
   "source": [
    "import ezkl\n",
    "import torch\n",
    "from torch import nn\n",
    "import json\n",
    "import os\n",
    "import time\n",
    "import scipy\n",
    "import numpy as np\n",
    "import matplotlib.pyplot as plt\n",
    "import statistics\n",
    "import math"
   ]
  },
  {
   "cell_type": "code",
   "execution_count": 22,
   "metadata": {},
   "outputs": [],
   "source": [
    "%run -i ../../zkstats/core.py"
   ]
  },
  {
   "attachments": {},
   "cell_type": "markdown",
   "metadata": {},
   "source": []
  },
  {
   "cell_type": "code",
   "execution_count": 23,
   "metadata": {},
   "outputs": [],
   "source": [
    "# init path\n",
    "os.makedirs(os.path.dirname('shared/'), exist_ok=True)\n",
    "os.makedirs(os.path.dirname('prover/'), exist_ok=True)\n",
    "verifier_model_path = os.path.join('shared/verifier.onnx')\n",
    "prover_model_path = os.path.join('prover/prover.onnx')\n",
    "verifier_compiled_model_path = os.path.join('shared/verifier.compiled')\n",
    "prover_compiled_model_path = os.path.join('prover/prover.compiled')\n",
    "pk_path = os.path.join('shared/test.pk')\n",
    "vk_path = os.path.join('shared/test.vk')\n",
    "proof_path = os.path.join('shared/test.pf')\n",
    "settings_path = os.path.join('shared/settings.json')\n",
    "srs_path = os.path.join('shared/kzg.srs')\n",
    "witness_path = os.path.join('prover/witness.json')\n",
    "# this is private to prover since it contains actual data\n",
    "comb_data_path = os.path.join('prover/comb_data.json')"
   ]
  },
  {
   "attachments": {},
   "cell_type": "markdown",
   "metadata": {},
   "source": [
    "=======================  ZK-STATS FLOW ======================="
   ]
  },
  {
   "cell_type": "markdown",
   "metadata": {},
   "source": [
    "## Step 1\n",
    "Verifier calls `export_onnx` with dummy data, to generate the onnx model. Dummy data is used to infer the shape of the model\n",
    "\n",
    "### Output\n",
    "- `verifier.onnx` file"
   ]
  },
  {
   "cell_type": "code",
   "execution_count": 24,
   "metadata": {},
   "outputs": [],
   "source": [
    "data_path = os.path.join('data.json')\n",
    "dummy_data_path = os.path.join('shared/dummy_data.json')\n",
    "\n",
    "f_raw_input = open(data_path, \"r\")\n",
    "data = json.loads(f_raw_input.read())[\"input_data\"][0]\n",
    "data_tensor = torch.reshape(torch.tensor(data),(1, len(data), 1))\n",
    "\n",
    "#  dummy data for data consumer. Just need to be the same len as private data\n",
    "dummy_data = np.round(np.random.uniform(1,10,len(data)),1)\n",
    "json.dump({\"input_data\":[dummy_data.tolist()]}, open(dummy_data_path, 'w'))\n",
    "\n",
    "dummy_data_tensor = torch.reshape(torch.tensor(dummy_data), (1, len(dummy_data),1 ))\n",
    "dummy_theory_output = torch.mean(dummy_data_tensor)\n",
    "\n",
    "\n"
   ]
  },
  {
   "cell_type": "code",
   "execution_count": 25,
   "metadata": {},
   "outputs": [
    {
     "name": "stdout",
     "output_type": "stream",
     "text": [
      "!@# circuit.eval= verifier_model()\n"
     ]
    }
   ],
   "source": [
    "# Verifier/ data consumer side: send desired calculation\n",
    "class verifier_model(nn.Module):\n",
    "    def __init__(self):\n",
    "        super(verifier_model, self).__init__()\n",
    "        self.w = nn.Parameter(data = dummy_theory_output, requires_grad = False)\n",
    "\n",
    "    def forward(self,X):\n",
    "        return (torch.abs(torch.sum(X)-X.size()[1]*(self.w))<=torch.abs(0.01*X.size()[1]*self.w), self.w)\n",
    "    \n",
    "verifier_define_calculation(verifier_model, verifier_model_path, [dummy_data_path])"
   ]
  },
  {
   "cell_type": "markdown",
   "metadata": {},
   "source": [
    "## Step 2\n",
    "- Prover gets the model from the verifier.\n",
    "- Prover overrides the `dummy_theory_output` with `theory_output`\n",
    "- Prover calls `prover_gen_settings`: export onnx file and compute the settings required by `ezkl.calibrate_settings`"
   ]
  },
  {
   "cell_type": "code",
   "execution_count": 26,
   "metadata": {},
   "outputs": [
    {
     "name": "stdout",
     "output_type": "stream",
     "text": [
      "Theory_output:  tensor(49.9700)\n",
      "!@# data= [33. 75. 38. 38. 70. 44. 34. 67. 54. 78. 80. 21. 41. 47. 57. 50. 65. 43.\n",
      " 51. 54. 62. 68. 45. 39. 51. 48. 48. 42. 37. 75. 40. 48. 65. 26. 42. 53.\n",
      " 51. 56. 74. 54. 55. 15. 58. 46. 64. 59. 39. 36. 62. 39. 72. 32. 82. 76.\n",
      " 88. 51. 44. 35. 18. 53. 52. 45. 64. 31. 32. 61. 66. 59. 50. 69. 44. 22.\n",
      " 45. 45. 46. 42. 83. 53. 53. 69. 53. 33. 48. 49. 34. 66. 29. 66. 52. 45.\n",
      " 83. 54. 53. 31. 71. 60. 30. 33. 43. 26. 55. 56. 56. 54. 57. 68. 58. 61.\n",
      " 62. 38. 52. 74. 76. 37. 42. 54. 38. 38. 30. 31. 52. 41. 69. 40. 46. 69.\n",
      " 29. 28. 66. 41. 40. 36. 52. 58. 46. 42. 85. 45. 70. 49. 48. 34. 18. 39.\n",
      " 64. 46. 54. 42. 45. 64. 46. 68. 46. 54. 47. 41. 69. 27. 61. 37. 25. 66.\n",
      " 30. 59. 67. 34. 36. 40. 55. 58. 74. 55. 66. 55. 72. 40. 27. 38. 74. 52.\n",
      " 45. 40. 35. 46. 64. 41. 50. 45. 42. 22. 25. 55. 39. 58. 56. 62. 55. 65.\n",
      " 57. 34. 44. 47. 70. 60. 34. 50. 43. 60. 66. 46. 58. 76. 40. 49. 64. 45.\n",
      " 22. 50. 34. 44. 76. 63. 59. 36. 59. 47. 70. 64. 44. 55. 50. 48. 66. 40.\n",
      " 76. 48. 75. 73. 55. 41. 43. 50. 34. 57. 50. 53. 28. 35. 52. 52. 49. 67.\n",
      " 41. 41. 61. 24. 43. 51. 40. 52. 44. 25. 81. 54. 64. 76. 37. 45. 48. 46.\n",
      " 43. 67. 28. 35. 25. 71. 50. 31. 43. 54. 40. 51. 40. 49. 34. 26. 46. 62.\n",
      " 40. 25. 61. 58. 56. 39. 46. 53. 21. 57. 42. 80.]\n",
      "!@# circuit.eval= prover_model()\n",
      "==== Generate & Calibrate Setting ====\n",
      "scale:  [5]\n",
      "setting:  {\"run_args\":{\"tolerance\":{\"val\":0.0,\"scale\":1.0},\"input_scale\":5,\"param_scale\":5,\"scale_rebase_multiplier\":10,\"lookup_range\":[-9594,0],\"logrows\":14,\"num_inner_cols\":2,\"variables\":[[\"batch_size\",1]],\"input_visibility\":{\"Hashed\":{\"hash_is_public\":true,\"outlets\":[]}},\"output_visibility\":\"Public\",\"param_visibility\":\"Private\"},\"num_rows\":14432,\"total_assignments\":610,\"total_const_size\":4,\"model_instance_shapes\":[[1],[1]],\"model_output_scales\":[0,5],\"model_input_scales\":[5],\"module_sizes\":{\"kzg\":[],\"poseidon\":[14432,[1]],\"elgamal\":[0,[0]]},\"required_lookups\":[\"Abs\",{\"GreaterThan\":{\"a\":0.0}}],\"check_mode\":\"UNSAFE\",\"version\":\"5.4.2\",\"num_blinding_factors\":null}\n"
     ]
    }
   ],
   "source": [
    "# prover calculates settings, send to verifier\n",
    "\n",
    "theory_output = torch.mean(data_tensor)\n",
    "print(\"Theory_output: \", theory_output)\n",
    "class prover_model(nn.Module):\n",
    "    def __init__(self):\n",
    "        super(prover_model, self).__init__()\n",
    "        self.w = nn.Parameter(data = theory_output, requires_grad = False)\n",
    "\n",
    "    def forward(self,X):\n",
    "        return (torch.abs(torch.sum(X)-X.size()[1]*(self.w))<=torch.abs(0.01*X.size()[1]*self.w), self.w)\n",
    "prover_gen_settings([data_path], comb_data_path, prover_model,prover_model_path, [5], \"resources\", settings_path)"
   ]
  },
  {
   "cell_type": "markdown",
   "metadata": {},
   "source": [
    "## Step 3\n",
    "- Prover generates proof with `prover_gen_proof`:\n",
    "    - 1. Compile circuit with `compile_circuit`\n",
    "        - Inputs: onnx model, settings path\n",
    "        - Outputs: compiled \n",
    "    - 2. Generate witness with\n",
    "- Verifier generates keys with "
   ]
  },
  {
   "cell_type": "code",
   "execution_count": 27,
   "metadata": {},
   "outputs": [
    {
     "name": "stdout",
     "output_type": "stream",
     "text": [
      "==== setting up ezkl ===="
     ]
    },
    {
     "name": "stderr",
     "output_type": "stream",
     "text": [
      "spawning module 0\n",
      "spawning module 2\n"
     ]
    },
    {
     "name": "stdout",
     "output_type": "stream",
     "text": [
      "\n"
     ]
    },
    {
     "name": "stderr",
     "output_type": "stream",
     "text": [
      "spawning module 0\n",
      "spawning module 2\n"
     ]
    },
    {
     "name": "stdout",
     "output_type": "stream",
     "text": [
      "Time setup: 1.709338903427124 seconds\n",
      "=======================================\n",
      "Theory output:  tensor(49.9700)\n",
      "!@# compiled_model exists? True\n",
      "!@# compiled_model exists? True\n",
      "==== Generating Witness ====\n",
      "witness boolean:  1.0\n",
      "witness result 1 : 49.96875\n",
      "==== Generating Proof ====\n"
     ]
    },
    {
     "name": "stderr",
     "output_type": "stream",
     "text": [
      "spawning module 0\n",
      "spawning module 2\n"
     ]
    },
    {
     "name": "stdout",
     "output_type": "stream",
     "text": [
      "proof:  {'instances': [[[17236403609878300513, 8975289109583201277, 11033320042856086930, 2298871365537728986], [12436184717236109307, 3962172157175319849, 7381016538464732718, 1011752739694698287], [4072474832971751158, 13621019950687641747, 8349885009801153069, 3312433242047143324]]], 'proof': '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', 'transcript_type': 'EVM'}\n",
      "Time gen prf: 2.6244640350341797 seconds\n"
     ]
    }
   ],
   "source": [
    "# Here verifier & prover can concurrently call setup since all params are public to get pk.\n",
    "# Here write as verifier function to emphasize that verifier must calculate its own vk to be sure\n",
    "verifier_setup(verifier_model_path, verifier_compiled_model_path, settings_path, srs_path,vk_path, pk_path )\n",
    "\n",
    "print(\"=======================================\")\n",
    "# Prover generates proof\n",
    "print(\"Theory output: \", theory_output)\n",
    "prover_gen_proof(prover_model_path, comb_data_path, witness_path, prover_compiled_model_path, settings_path, proof_path, pk_path, srs_path)"
   ]
  },
  {
   "cell_type": "code",
   "execution_count": 28,
   "metadata": {},
   "outputs": [
    {
     "name": "stdout",
     "output_type": "stream",
     "text": [
      "num_inputs:  1\n",
      "prf instances:  [[[17236403609878300513, 8975289109583201277, 11033320042856086930, 2298871365537728986], [12436184717236109307, 3962172157175319849, 7381016538464732718, 1011752739694698287], [4072474832971751158, 13621019950687641747, 8349885009801153069, 3312433242047143324]]]\n",
      "proof boolean:  1.0\n",
      "proof result 1 : 49.96875\n",
      "verified\n"
     ]
    }
   ],
   "source": [
    "# Verifier verifies\n",
    "verifier_verify(proof_path, settings_path, vk_path, srs_path)"
   ]
  },
  {
   "cell_type": "code",
   "execution_count": null,
   "metadata": {},
   "outputs": [],
   "source": []
  }
 ],
 "metadata": {
  "kernelspec": {
   "display_name": "Python 3",
   "language": "python",
   "name": "python3"
  },
  "language_info": {
   "codemirror_mode": {
    "name": "ipython",
    "version": 3
   },
   "file_extension": ".py",
   "mimetype": "text/x-python",
   "name": "python",
   "nbconvert_exporter": "python",
   "pygments_lexer": "ipython3",
   "version": "3.9.6"
  },
  "orig_nbformat": 4
 },
 "nbformat": 4,
 "nbformat_minor": 2
}
