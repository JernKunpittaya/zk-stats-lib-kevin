{
 "cells": [
  {
   "cell_type": "code",
   "execution_count": 1,
   "metadata": {},
   "outputs": [
    {
     "name": "stdout",
     "output_type": "stream",
     "text": [
      "Requirement already satisfied: ezkl==5.0.8 in /Library/Frameworks/Python.framework/Versions/3.10/lib/python3.10/site-packages (from -r ../../requirements.txt (line 1)) (5.0.8)\n",
      "Requirement already satisfied: torch in /Library/Frameworks/Python.framework/Versions/3.10/lib/python3.10/site-packages (from -r ../../requirements.txt (line 2)) (2.1.1)\n",
      "Requirement already satisfied: requests in /Library/Frameworks/Python.framework/Versions/3.10/lib/python3.10/site-packages (from -r ../../requirements.txt (line 3)) (2.31.0)\n",
      "Requirement already satisfied: scipy in /Library/Frameworks/Python.framework/Versions/3.10/lib/python3.10/site-packages (from -r ../../requirements.txt (line 4)) (1.11.4)\n",
      "Requirement already satisfied: numpy in /Library/Frameworks/Python.framework/Versions/3.10/lib/python3.10/site-packages (from -r ../../requirements.txt (line 5)) (1.26.2)\n",
      "Requirement already satisfied: matplotlib in /Library/Frameworks/Python.framework/Versions/3.10/lib/python3.10/site-packages (from -r ../../requirements.txt (line 6)) (3.8.2)\n",
      "Requirement already satisfied: statistics in /Library/Frameworks/Python.framework/Versions/3.10/lib/python3.10/site-packages (from -r ../../requirements.txt (line 7)) (1.0.3.5)\n",
      "Requirement already satisfied: onnx in /Library/Frameworks/Python.framework/Versions/3.10/lib/python3.10/site-packages (from -r ../../requirements.txt (line 8)) (1.15.0)\n",
      "Requirement already satisfied: filelock in /Library/Frameworks/Python.framework/Versions/3.10/lib/python3.10/site-packages (from torch->-r ../../requirements.txt (line 2)) (3.13.1)\n",
      "Requirement already satisfied: networkx in /Library/Frameworks/Python.framework/Versions/3.10/lib/python3.10/site-packages (from torch->-r ../../requirements.txt (line 2)) (3.2.1)\n",
      "Requirement already satisfied: fsspec in /Library/Frameworks/Python.framework/Versions/3.10/lib/python3.10/site-packages (from torch->-r ../../requirements.txt (line 2)) (2023.10.0)\n",
      "Requirement already satisfied: sympy in /Library/Frameworks/Python.framework/Versions/3.10/lib/python3.10/site-packages (from torch->-r ../../requirements.txt (line 2)) (1.12)\n",
      "Requirement already satisfied: typing-extensions in /Library/Frameworks/Python.framework/Versions/3.10/lib/python3.10/site-packages (from torch->-r ../../requirements.txt (line 2)) (4.8.0)\n",
      "Requirement already satisfied: jinja2 in /Library/Frameworks/Python.framework/Versions/3.10/lib/python3.10/site-packages (from torch->-r ../../requirements.txt (line 2)) (3.1.2)\n",
      "Requirement already satisfied: urllib3<3,>=1.21.1 in /Library/Frameworks/Python.framework/Versions/3.10/lib/python3.10/site-packages (from requests->-r ../../requirements.txt (line 3)) (2.1.0)\n",
      "Requirement already satisfied: certifi>=2017.4.17 in /Library/Frameworks/Python.framework/Versions/3.10/lib/python3.10/site-packages (from requests->-r ../../requirements.txt (line 3)) (2023.11.17)\n",
      "Requirement already satisfied: charset-normalizer<4,>=2 in /Library/Frameworks/Python.framework/Versions/3.10/lib/python3.10/site-packages (from requests->-r ../../requirements.txt (line 3)) (3.3.2)\n",
      "Requirement already satisfied: idna<4,>=2.5 in /Library/Frameworks/Python.framework/Versions/3.10/lib/python3.10/site-packages (from requests->-r ../../requirements.txt (line 3)) (3.6)\n",
      "Requirement already satisfied: cycler>=0.10 in /Library/Frameworks/Python.framework/Versions/3.10/lib/python3.10/site-packages (from matplotlib->-r ../../requirements.txt (line 6)) (0.12.1)\n",
      "Requirement already satisfied: kiwisolver>=1.3.1 in /Library/Frameworks/Python.framework/Versions/3.10/lib/python3.10/site-packages (from matplotlib->-r ../../requirements.txt (line 6)) (1.4.5)\n",
      "Requirement already satisfied: fonttools>=4.22.0 in /Library/Frameworks/Python.framework/Versions/3.10/lib/python3.10/site-packages (from matplotlib->-r ../../requirements.txt (line 6)) (4.45.1)\n",
      "Requirement already satisfied: packaging>=20.0 in /Users/jernkun/Library/Python/3.10/lib/python/site-packages (from matplotlib->-r ../../requirements.txt (line 6)) (23.2)\n",
      "Requirement already satisfied: python-dateutil>=2.7 in /Users/jernkun/Library/Python/3.10/lib/python/site-packages (from matplotlib->-r ../../requirements.txt (line 6)) (2.8.2)\n",
      "Requirement already satisfied: contourpy>=1.0.1 in /Library/Frameworks/Python.framework/Versions/3.10/lib/python3.10/site-packages (from matplotlib->-r ../../requirements.txt (line 6)) (1.2.0)\n",
      "Requirement already satisfied: pillow>=8 in /Library/Frameworks/Python.framework/Versions/3.10/lib/python3.10/site-packages (from matplotlib->-r ../../requirements.txt (line 6)) (10.1.0)\n",
      "Requirement already satisfied: pyparsing>=2.3.1 in /Library/Frameworks/Python.framework/Versions/3.10/lib/python3.10/site-packages (from matplotlib->-r ../../requirements.txt (line 6)) (3.1.1)\n",
      "Requirement already satisfied: docutils>=0.3 in /Library/Frameworks/Python.framework/Versions/3.10/lib/python3.10/site-packages (from statistics->-r ../../requirements.txt (line 7)) (0.20.1)\n",
      "Requirement already satisfied: protobuf>=3.20.2 in /Library/Frameworks/Python.framework/Versions/3.10/lib/python3.10/site-packages (from onnx->-r ../../requirements.txt (line 8)) (4.25.1)\n",
      "Requirement already satisfied: six>=1.5 in /Users/jernkun/Library/Python/3.10/lib/python/site-packages (from python-dateutil>=2.7->matplotlib->-r ../../requirements.txt (line 6)) (1.16.0)\n",
      "Requirement already satisfied: MarkupSafe>=2.0 in /Library/Frameworks/Python.framework/Versions/3.10/lib/python3.10/site-packages (from jinja2->torch->-r ../../requirements.txt (line 2)) (2.1.3)\n",
      "Requirement already satisfied: mpmath>=0.19 in /Library/Frameworks/Python.framework/Versions/3.10/lib/python3.10/site-packages (from sympy->torch->-r ../../requirements.txt (line 2)) (1.3.0)\n",
      "\u001b[33mWARNING: You are using pip version 21.2.3; however, version 23.3.1 is available.\n",
      "You should consider upgrading via the '/usr/local/bin/python3 -m pip install --upgrade pip' command.\u001b[0m\n",
      "Note: you may need to restart the kernel to use updated packages.\n"
     ]
    }
   ],
   "source": [
    "pip install -r ../../requirements.txt"
   ]
  },
  {
   "cell_type": "code",
   "execution_count": 12,
   "metadata": {},
   "outputs": [],
   "source": [
    "import ezkl\n",
    "import torch\n",
    "from torch import nn\n",
    "import json\n",
    "import os\n",
    "import time\n",
    "import scipy\n",
    "import numpy as np\n",
    "import matplotlib.pyplot as plt\n",
    "import statistics\n",
    "import math"
   ]
  },
  {
   "cell_type": "code",
   "execution_count": 13,
   "metadata": {},
   "outputs": [],
   "source": [
    "%run -i ../../zkstats/core.py"
   ]
  },
  {
   "cell_type": "code",
   "execution_count": 14,
   "metadata": {},
   "outputs": [],
   "source": [
    "# init path\n",
    "os.makedirs(os.path.dirname('shared/'), exist_ok=True)\n",
    "os.makedirs(os.path.dirname('prover/'), exist_ok=True)\n",
    "verifier_model_path = os.path.join('shared/verifier.onnx')\n",
    "prover_model_path = os.path.join('prover/prover.onnx')\n",
    "verifier_compiled_model_path = os.path.join('shared/verifier.compiled')\n",
    "prover_compiled_model_path = os.path.join('prover/prover.compiled')\n",
    "pk_path = os.path.join('shared/test.pk')\n",
    "vk_path = os.path.join('shared/test.vk')\n",
    "proof_path = os.path.join('shared/test.pf')\n",
    "settings_path = os.path.join('shared/settings.json')\n",
    "srs_path = os.path.join('shared/kzg.srs')\n",
    "witness_path = os.path.join('prover/witness.json')\n",
    "# this is private to prover since it contains actual data\n",
    "comb_data_path = os.path.join('prover/comb_data.json')"
   ]
  },
  {
   "attachments": {},
   "cell_type": "markdown",
   "metadata": {},
   "source": [
    "=======================  ZK-STATS FLOW ======================="
   ]
  },
  {
   "cell_type": "code",
   "execution_count": 15,
   "metadata": {},
   "outputs": [],
   "source": [
    "data_path = os.path.join('data.json')\n",
    "dummy_data_path = os.path.join('shared/dummy_data.json')\n",
    "\n",
    "f_raw_input = open(data_path, \"r\")\n",
    "data = json.loads(f_raw_input.read())[\"input_data\"][0]\n",
    "data_tensor = torch.reshape(torch.tensor(data),(1, len(data), 1))\n",
    "\n",
    "#  dummy data for data consumer: make the bound approx same as real data\n",
    "dummy_data = np.random.uniform(min(data), max(data), len(data))\n",
    "json.dump({\"input_data\":[dummy_data.tolist()]}, open(dummy_data_path, 'w'))\n",
    "\n",
    "dummy_data_tensor = torch.reshape(torch.tensor(dummy_data), (1, len(dummy_data),1 ))\n",
    "dummy_theory_output = torch.var(dummy_data_tensor, correction = 1)\n",
    "dummy_data_mean = torch.mean(dummy_data_tensor)"
   ]
  },
  {
   "cell_type": "code",
   "execution_count": 16,
   "metadata": {},
   "outputs": [
    {
     "name": "stderr",
     "output_type": "stream",
     "text": [
      "/Library/Frameworks/Python.framework/Versions/3.10/lib/python3.10/site-packages/torch/onnx/symbolic_opset9.py:2174: FutureWarning: 'torch.onnx.symbolic_opset9._cast_Bool' is deprecated in version 2.0 and will be removed in the future. Please Avoid using this function and create a Cast node instead.\n",
      "  return fn(g, to_cast_func(g, input, False), to_cast_func(g, other, False))\n"
     ]
    }
   ],
   "source": [
    "# Verifier/ data consumer side:\n",
    "class verifier_model(nn.Module):\n",
    "    def __init__(self):\n",
    "        super(verifier_model, self).__init__()\n",
    "        # w represents mean in this case\n",
    "        self.w = nn.Parameter(data = dummy_theory_output, requires_grad = False)\n",
    "        self.data_mean = nn.Parameter(data = dummy_data_mean, requires_grad = False)\n",
    "\n",
    "    def forward(self,X):\n",
    "        # some expression of tolerance to error in the inference\n",
    "        x_mean_cons = torch.abs(torch.sum(X)-X.size()[1]*(self.data_mean))<0.01*X.size()[1]*(self.data_mean)\n",
    "        return (torch.logical_and(torch.abs(torch.sum((X-self.data_mean)*(X-self.data_mean))-self.w*(X.size()[1]-1))<0.01*self.w*(X.size()[1]-1),x_mean_cons ),self.w)\n",
    "\n",
    "verifier_define_calculation(verifier_model, verifier_model_path, [dummy_data_path])"
   ]
  },
  {
   "cell_type": "code",
   "execution_count": 17,
   "metadata": {},
   "outputs": [
    {
     "name": "stdout",
     "output_type": "stream",
     "text": [
      "theory output:  tensor(212.5777)\n",
      "==== Generate & Calibrate Setting ====\n",
      "scale:  default\n",
      "setting:  {\"run_args\":{\"tolerance\":{\"val\":0.0,\"scale\":1.0},\"input_scale\":2,\"param_scale\":2,\"scale_rebase_multiplier\":10,\"lookup_range\":[0,20332],\"logrows\":15,\"num_inner_cols\":1,\"variables\":[[\"batch_size\",1]],\"input_visibility\":{\"Hashed\":{\"hash_is_public\":true,\"outlets\":[]}},\"output_visibility\":\"Public\",\"param_visibility\":\"Private\"},\"num_rows\":14432,\"total_assignments\":1512,\"total_const_size\":0,\"model_instance_shapes\":[[1],[1]],\"model_output_scales\":[0,2],\"model_input_scales\":[2],\"module_sizes\":{\"kzg\":[],\"poseidon\":[14432,[1]],\"elgamal\":[0,[0]]},\"required_lookups\":[\"Abs\",{\"GreaterThan\":{\"a\":0.0}}],\"check_mode\":\"UNSAFE\",\"version\":\"5.0.8\",\"num_blinding_factors\":null}\n"
     ]
    }
   ],
   "source": [
    "# Prover/ data owner side\n",
    "theory_output = torch.var(data_tensor, correction = 1)\n",
    "data_mean = torch.mean(data_tensor)\n",
    "print(\"theory output: \", theory_output)\n",
    "class prover_model(nn.Module):\n",
    "    def __init__(self):\n",
    "        super(prover_model, self).__init__()\n",
    "        # w represents mean in this case\n",
    "        self.w = nn.Parameter(data = theory_output, requires_grad = False)\n",
    "        self.data_mean = nn.Parameter(data = data_mean, requires_grad = False)\n",
    "    def forward(self,X):\n",
    "        # some expression of tolerance to error in the inference\n",
    "        x_mean_cons = torch.abs(torch.sum(X)-X.size()[1]*(self.data_mean))<0.01*X.size()[1]*(self.data_mean)\n",
    "        return (torch.logical_and(torch.abs(torch.sum((X-self.data_mean)*(X-self.data_mean))-self.w*(X.size()[1]-1))<0.01*self.w*(X.size()[1]-1),x_mean_cons ),self.w)\n",
    "\n",
    "\n",
    "prover_gen_settings([data_path], comb_data_path, prover_model,prover_model_path, \"default\", \"resources\", settings_path)"
   ]
  },
  {
   "cell_type": "code",
   "execution_count": 18,
   "metadata": {},
   "outputs": [
    {
     "name": "stdout",
     "output_type": "stream",
     "text": [
      "==== setting up ezkl ====\n"
     ]
    },
    {
     "name": "stderr",
     "output_type": "stream",
     "text": [
      "spawning module 0\n"
     ]
    },
    {
     "name": "stderr",
     "output_type": "stream",
     "text": [
      "spawning module 2\n",
      "spawning module 0\n",
      "spawning module 2\n"
     ]
    },
    {
     "name": "stdout",
     "output_type": "stream",
     "text": [
      "Time setup: 2.717027187347412 seconds\n",
      "=======================================\n",
      "Theory output:  tensor(212.5777)\n",
      "==== Generating Witness ====\n",
      "witness boolean:  1.0\n",
      "witness result 1 : 212.5\n",
      "==== Generating Proof ====\n"
     ]
    },
    {
     "name": "stderr",
     "output_type": "stream",
     "text": [
      "spawning module 0\n",
      "spawning module 2\n"
     ]
    },
    {
     "name": "stdout",
     "output_type": "stream",
     "text": [
      "proof:  {'instances': [[[12907834141446617622, 16863260785082668294, 2215826187815521673, 2191547160659437828], [12436184717236109307, 3962172157175319849, 7381016538464732718, 1011752739694698287], [14958435514946940528, 17320992765071788231, 18318297740500540397, 2188255106962760522]]], 'proof': '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', 'transcript_type': 'EVM'}\n",
      "Time gen prf: 3.2633180618286133 seconds\n"
     ]
    }
   ],
   "source": [
    "# Here verifier & prover can concurrently call setup since all params are public to get pk. \n",
    "# Here write as verifier function to emphasize that verifier must calculate its own vk to be sure\n",
    "verifier_setup(verifier_model_path, verifier_compiled_model_path, settings_path, srs_path,vk_path, pk_path )\n",
    "\n",
    "print(\"=======================================\")\n",
    "# Prover generates proof\n",
    "print(\"Theory output: \", theory_output)\n",
    "prover_gen_proof(prover_model_path, comb_data_path, witness_path, prover_compiled_model_path, settings_path, proof_path, pk_path, srs_path)"
   ]
  },
  {
   "cell_type": "code",
   "execution_count": 19,
   "metadata": {},
   "outputs": [
    {
     "name": "stdout",
     "output_type": "stream",
     "text": [
      "num_inputs:  1\n",
      "prf instances:  [[[12907834141446617622, 16863260785082668294, 2215826187815521673, 2191547160659437828], [12436184717236109307, 3962172157175319849, 7381016538464732718, 1011752739694698287], [14958435514946940528, 17320992765071788231, 18318297740500540397, 2188255106962760522]]]\n",
      "proof boolean:  1.0\n",
      "proof result 1 : 212.5\n",
      "verified\n"
     ]
    }
   ],
   "source": [
    "# Verifier verifies\n",
    "verifier_verify(proof_path, settings_path, vk_path, srs_path)"
   ]
  },
  {
   "cell_type": "code",
   "execution_count": null,
   "metadata": {},
   "outputs": [],
   "source": []
  }
 ],
 "metadata": {
  "kernelspec": {
   "display_name": "Python 3",
   "language": "python",
   "name": "python3"
  },
  "language_info": {
   "codemirror_mode": {
    "name": "ipython",
    "version": 3
   },
   "file_extension": ".py",
   "mimetype": "text/x-python",
   "name": "python",
   "nbconvert_exporter": "python",
   "pygments_lexer": "ipython3",
   "version": "3.10.0"
  },
  "orig_nbformat": 4
 },
 "nbformat": 4,
 "nbformat_minor": 2
}
