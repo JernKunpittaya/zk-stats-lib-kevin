{
 "cells": [
  {
   "cell_type": "code",
   "execution_count": 1,
   "metadata": {},
   "outputs": [
    {
     "name": "stdout",
     "output_type": "stream",
     "text": [
      "Requirement already satisfied: ezkl==7.0.0 in /Users/mhchia/Library/Caches/pypoetry/virtualenvs/zkstats-brXmXluj-py3.12/lib/python3.12/site-packages (from -r ../../requirements.txt (line 1)) (7.0.0)\n",
      "Requirement already satisfied: torch in /Users/mhchia/Library/Caches/pypoetry/virtualenvs/zkstats-brXmXluj-py3.12/lib/python3.12/site-packages (from -r ../../requirements.txt (line 2)) (2.2.0)\n",
      "Requirement already satisfied: requests in /Users/mhchia/Library/Caches/pypoetry/virtualenvs/zkstats-brXmXluj-py3.12/lib/python3.12/site-packages (from -r ../../requirements.txt (line 3)) (2.31.0)\n",
      "Requirement already satisfied: scipy in /Users/mhchia/Library/Caches/pypoetry/virtualenvs/zkstats-brXmXluj-py3.12/lib/python3.12/site-packages (from -r ../../requirements.txt (line 4)) (1.12.0)\n",
      "Requirement already satisfied: numpy in /Users/mhchia/Library/Caches/pypoetry/virtualenvs/zkstats-brXmXluj-py3.12/lib/python3.12/site-packages (from -r ../../requirements.txt (line 5)) (1.26.3)\n",
      "Requirement already satisfied: matplotlib in /Users/mhchia/Library/Caches/pypoetry/virtualenvs/zkstats-brXmXluj-py3.12/lib/python3.12/site-packages (from -r ../../requirements.txt (line 6)) (3.8.2)\n",
      "Requirement already satisfied: statistics in /Users/mhchia/Library/Caches/pypoetry/virtualenvs/zkstats-brXmXluj-py3.12/lib/python3.12/site-packages (from -r ../../requirements.txt (line 7)) (1.0.3.5)\n",
      "Requirement already satisfied: onnx in /Users/mhchia/Library/Caches/pypoetry/virtualenvs/zkstats-brXmXluj-py3.12/lib/python3.12/site-packages (from -r ../../requirements.txt (line 8)) (1.15.0)\n",
      "Requirement already satisfied: filelock in /Users/mhchia/Library/Caches/pypoetry/virtualenvs/zkstats-brXmXluj-py3.12/lib/python3.12/site-packages (from torch->-r ../../requirements.txt (line 2)) (3.13.1)\n",
      "Requirement already satisfied: typing-extensions>=4.8.0 in /Users/mhchia/Library/Caches/pypoetry/virtualenvs/zkstats-brXmXluj-py3.12/lib/python3.12/site-packages (from torch->-r ../../requirements.txt (line 2)) (4.9.0)\n",
      "Requirement already satisfied: sympy in /Users/mhchia/Library/Caches/pypoetry/virtualenvs/zkstats-brXmXluj-py3.12/lib/python3.12/site-packages (from torch->-r ../../requirements.txt (line 2)) (1.12)\n",
      "Requirement already satisfied: networkx in /Users/mhchia/Library/Caches/pypoetry/virtualenvs/zkstats-brXmXluj-py3.12/lib/python3.12/site-packages (from torch->-r ../../requirements.txt (line 2)) (3.2.1)\n",
      "Requirement already satisfied: jinja2 in /Users/mhchia/Library/Caches/pypoetry/virtualenvs/zkstats-brXmXluj-py3.12/lib/python3.12/site-packages (from torch->-r ../../requirements.txt (line 2)) (3.1.3)\n",
      "Requirement already satisfied: fsspec in /Users/mhchia/Library/Caches/pypoetry/virtualenvs/zkstats-brXmXluj-py3.12/lib/python3.12/site-packages (from torch->-r ../../requirements.txt (line 2)) (2023.12.2)\n",
      "Requirement already satisfied: charset-normalizer<4,>=2 in /Users/mhchia/Library/Caches/pypoetry/virtualenvs/zkstats-brXmXluj-py3.12/lib/python3.12/site-packages (from requests->-r ../../requirements.txt (line 3)) (3.3.2)\n",
      "Requirement already satisfied: idna<4,>=2.5 in /Users/mhchia/Library/Caches/pypoetry/virtualenvs/zkstats-brXmXluj-py3.12/lib/python3.12/site-packages (from requests->-r ../../requirements.txt (line 3)) (3.6)\n",
      "Requirement already satisfied: urllib3<3,>=1.21.1 in /Users/mhchia/Library/Caches/pypoetry/virtualenvs/zkstats-brXmXluj-py3.12/lib/python3.12/site-packages (from requests->-r ../../requirements.txt (line 3)) (2.2.0)\n",
      "Requirement already satisfied: certifi>=2017.4.17 in /Users/mhchia/Library/Caches/pypoetry/virtualenvs/zkstats-brXmXluj-py3.12/lib/python3.12/site-packages (from requests->-r ../../requirements.txt (line 3)) (2024.2.2)\n",
      "Requirement already satisfied: contourpy>=1.0.1 in /Users/mhchia/Library/Caches/pypoetry/virtualenvs/zkstats-brXmXluj-py3.12/lib/python3.12/site-packages (from matplotlib->-r ../../requirements.txt (line 6)) (1.2.0)\n",
      "Requirement already satisfied: cycler>=0.10 in /Users/mhchia/Library/Caches/pypoetry/virtualenvs/zkstats-brXmXluj-py3.12/lib/python3.12/site-packages (from matplotlib->-r ../../requirements.txt (line 6)) (0.12.1)\n",
      "Requirement already satisfied: fonttools>=4.22.0 in /Users/mhchia/Library/Caches/pypoetry/virtualenvs/zkstats-brXmXluj-py3.12/lib/python3.12/site-packages (from matplotlib->-r ../../requirements.txt (line 6)) (4.47.2)\n",
      "Requirement already satisfied: kiwisolver>=1.3.1 in /Users/mhchia/Library/Caches/pypoetry/virtualenvs/zkstats-brXmXluj-py3.12/lib/python3.12/site-packages (from matplotlib->-r ../../requirements.txt (line 6)) (1.4.5)\n",
      "Requirement already satisfied: packaging>=20.0 in /Users/mhchia/Library/Caches/pypoetry/virtualenvs/zkstats-brXmXluj-py3.12/lib/python3.12/site-packages (from matplotlib->-r ../../requirements.txt (line 6)) (23.2)\n",
      "Requirement already satisfied: pillow>=8 in /Users/mhchia/Library/Caches/pypoetry/virtualenvs/zkstats-brXmXluj-py3.12/lib/python3.12/site-packages (from matplotlib->-r ../../requirements.txt (line 6)) (10.2.0)\n",
      "Requirement already satisfied: pyparsing>=2.3.1 in /Users/mhchia/Library/Caches/pypoetry/virtualenvs/zkstats-brXmXluj-py3.12/lib/python3.12/site-packages (from matplotlib->-r ../../requirements.txt (line 6)) (3.1.1)\n",
      "Requirement already satisfied: python-dateutil>=2.7 in /Users/mhchia/Library/Caches/pypoetry/virtualenvs/zkstats-brXmXluj-py3.12/lib/python3.12/site-packages (from matplotlib->-r ../../requirements.txt (line 6)) (2.8.2)\n",
      "Requirement already satisfied: docutils>=0.3 in /Users/mhchia/Library/Caches/pypoetry/virtualenvs/zkstats-brXmXluj-py3.12/lib/python3.12/site-packages (from statistics->-r ../../requirements.txt (line 7)) (0.20.1)\n",
      "Requirement already satisfied: protobuf>=3.20.2 in /Users/mhchia/Library/Caches/pypoetry/virtualenvs/zkstats-brXmXluj-py3.12/lib/python3.12/site-packages (from onnx->-r ../../requirements.txt (line 8)) (4.25.2)\n",
      "Requirement already satisfied: six>=1.5 in /Users/mhchia/Library/Caches/pypoetry/virtualenvs/zkstats-brXmXluj-py3.12/lib/python3.12/site-packages (from python-dateutil>=2.7->matplotlib->-r ../../requirements.txt (line 6)) (1.16.0)\n",
      "Requirement already satisfied: MarkupSafe>=2.0 in /Users/mhchia/Library/Caches/pypoetry/virtualenvs/zkstats-brXmXluj-py3.12/lib/python3.12/site-packages (from jinja2->torch->-r ../../requirements.txt (line 2)) (2.1.4)\n",
      "Requirement already satisfied: mpmath>=0.19 in /Users/mhchia/Library/Caches/pypoetry/virtualenvs/zkstats-brXmXluj-py3.12/lib/python3.12/site-packages (from sympy->torch->-r ../../requirements.txt (line 2)) (1.3.0)\n",
      "\n",
      "\u001b[1m[\u001b[0m\u001b[34;49mnotice\u001b[0m\u001b[1;39;49m]\u001b[0m\u001b[39;49m A new release of pip is available: \u001b[0m\u001b[31;49m23.3.1\u001b[0m\u001b[39;49m -> \u001b[0m\u001b[32;49m24.0\u001b[0m\n",
      "\u001b[1m[\u001b[0m\u001b[34;49mnotice\u001b[0m\u001b[1;39;49m]\u001b[0m\u001b[39;49m To update, run: \u001b[0m\u001b[32;49mpip install --upgrade pip\u001b[0m\n",
      "Note: you may need to restart the kernel to use updated packages.\n"
     ]
    }
   ],
   "source": [
    "pip install -r ../../requirements.txt"
   ]
  },
  {
   "cell_type": "code",
   "execution_count": 2,
   "metadata": {},
   "outputs": [],
   "source": [
    "import ezkl\n",
    "import torch\n",
    "from torch import nn\n",
    "import json\n",
    "import os\n",
    "import time\n",
    "import scipy\n",
    "import numpy as np\n",
    "import matplotlib.pyplot as plt\n",
    "import statistics\n",
    "import math"
   ]
  },
  {
   "cell_type": "code",
   "execution_count": 3,
   "metadata": {},
   "outputs": [],
   "source": [
    "%run -i ../../zkstats/core.py"
   ]
  },
  {
   "cell_type": "code",
   "execution_count": 4,
   "metadata": {},
   "outputs": [],
   "source": [
    "# init path\n",
    "os.makedirs(os.path.dirname('shared/'), exist_ok=True)\n",
    "os.makedirs(os.path.dirname('prover/'), exist_ok=True)\n",
    "verifier_model_path = os.path.join('shared/verifier.onnx')\n",
    "prover_model_path = os.path.join('prover/prover.onnx')\n",
    "verifier_compiled_model_path = os.path.join('shared/verifier.compiled')\n",
    "prover_compiled_model_path = os.path.join('prover/prover.compiled')\n",
    "pk_path = os.path.join('shared/test.pk')\n",
    "vk_path = os.path.join('shared/test.vk')\n",
    "proof_path = os.path.join('shared/test.pf')\n",
    "settings_path = os.path.join('shared/settings.json')\n",
    "srs_path = os.path.join('shared/kzg.srs')\n",
    "witness_path = os.path.join('prover/witness.json')\n",
    "# this is private to prover since it contains actual data\n",
    "sel_data_path = os.path.join('prover/sel_data.json')\n",
    "# this is just dummy random value\n",
    "sel_dummy_data_path = os.path.join('shared/sel_dummy_data.json')"
   ]
  },
  {
   "attachments": {},
   "cell_type": "markdown",
   "metadata": {},
   "source": [
    "=======================  ZK-STATS FLOW ======================="
   ]
  },
  {
   "cell_type": "code",
   "execution_count": 5,
   "metadata": {},
   "outputs": [],
   "source": [
    "data_path = os.path.join('data.json')\n",
    "dummy_data_path = os.path.join('shared/dummy_data.json')\n",
    "create_dummy(data_path, dummy_data_path)"
   ]
  },
  {
   "cell_type": "code",
   "execution_count": 6,
   "metadata": {},
   "outputs": [],
   "source": [
    "scales = [2]\n",
    "selected_columns = ['col_name']\n",
    "commitment_maps = get_data_commitment_maps(data_path, scales)"
   ]
  },
  {
   "cell_type": "code",
   "execution_count": 7,
   "metadata": {},
   "outputs": [
    {
     "name": "stderr",
     "output_type": "stream",
     "text": [
      "/Users/mhchia/projects/work/pse/zk-stats-lib/zkstats/computation.py:166: TracerWarning: torch.tensor results are registered as constants in the trace. You can safely ignore this warning if you use this function to create tensors out of constant variables that would be the same every time you call this function. In any other case, this might cause the trace to be incorrect.\n",
      "  is_precise_aggregated = torch.tensor(1.0)\n",
      "/Users/mhchia/Library/Caches/pypoetry/virtualenvs/zkstats-brXmXluj-py3.12/lib/python3.12/site-packages/torch/onnx/symbolic_opset9.py:2174: FutureWarning: 'torch.onnx.symbolic_opset9._cast_Bool' is deprecated in version 2.0 and will be removed in the future. Please Avoid using this function and create a Cast node instead.\n",
      "  return fn(g, to_cast_func(g, input, False), to_cast_func(g, other, False))\n"
     ]
    }
   ],
   "source": [
    "# Verifier/ data consumer side: send desired calculation\n",
    "from zkstats.computation import computation_to_model, State\n",
    "\n",
    "\n",
    "def computation(s: State, data: list[torch.Tensor]) -> torch.Tensor:\n",
    "    x = data[0]\n",
    "    return s.variance(x)\n",
    "\n",
    "error = 0.01\n",
    "_, verifier_model = computation_to_model(computation, error)\n",
    "\n",
    "verifier_define_calculation(dummy_data_path, selected_columns, sel_dummy_data_path, verifier_model, verifier_model_path)"
   ]
  },
  {
   "cell_type": "code",
   "execution_count": 8,
   "metadata": {},
   "outputs": [
    {
     "name": "stdout",
     "output_type": "stream",
     "text": [
      "==== Generate & Calibrate Setting ====\n",
      "scale:  [2]\n",
      "setting:  {\"run_args\":{\"tolerance\":{\"val\":0.0,\"scale\":1.0},\"input_scale\":2,\"param_scale\":2,\"scale_rebase_multiplier\":10,\"lookup_range\":[-20332,8],\"logrows\":15,\"num_inner_cols\":2,\"variables\":[[\"batch_size\",1]],\"input_visibility\":{\"Hashed\":{\"hash_is_public\":true,\"outlets\":[]}},\"output_visibility\":\"Public\",\"param_visibility\":\"Private\"},\"num_rows\":14432,\"total_assignments\":1522,\"total_const_size\":8,\"model_instance_shapes\":[[1],[1]],\"model_output_scales\":[0,2],\"model_input_scales\":[2],\"module_sizes\":{\"kzg\":[],\"poseidon\":[14432,[1]],\"elgamal\":[0,[0]]},\"required_lookups\":[\"Abs\",{\"GreaterThan\":{\"a\":0.0}}],\"check_mode\":\"UNSAFE\",\"version\":\"7.0.0\",\"num_blinding_factors\":null}\n"
     ]
    }
   ],
   "source": [
    "# Prover/ data owner side\n",
    "_, prover_model = computation_to_model(computation, error)\n",
    "\n",
    "prover_gen_settings(data_path, selected_columns, sel_data_path, prover_model,prover_model_path, scales, \"resources\", settings_path)"
   ]
  },
  {
   "cell_type": "code",
   "execution_count": 9,
   "metadata": {},
   "outputs": [
    {
     "name": "stderr",
     "output_type": "stream",
     "text": [
      "spawning module 0\n",
      "spawning module 2\n",
      "spawning module 0\n"
     ]
    },
    {
     "name": "stdout",
     "output_type": "stream",
     "text": [
      "==== setting up ezkl ====\n"
     ]
    },
    {
     "name": "stderr",
     "output_type": "stream",
     "text": [
      "spawning module 2\n"
     ]
    },
    {
     "name": "stdout",
     "output_type": "stream",
     "text": [
      "Time setup: 5.551003932952881 seconds\n",
      "=======================================\n",
      "==== Generating Witness ====\n",
      "witness boolean:  1.0\n",
      "witness result 1 : 212.5\n",
      "==== Generating Proof ====\n"
     ]
    },
    {
     "name": "stderr",
     "output_type": "stream",
     "text": [
      "spawning module 0\n",
      "spawning module 2\n"
     ]
    },
    {
     "name": "stdout",
     "output_type": "stream",
     "text": [
      "proof:  {'instances': [[[12907834141446617622, 16863260785082668294, 2215826187815521673, 2191547160659437828], [12436184717236109307, 3962172157175319849, 7381016538464732718, 1011752739694698287], [14958435514946940528, 17320992765071788231, 18318297740500540397, 2188255106962760522]]], 'proof': '1f0949a3d16a29bc0c7d507041d4e23eba622d7d95014b3fe517b2f87271449418f659bed1a19751424393ed7c9c64af49e1d7a18ea32f4f4b27f0d4361cad3a139b7c54f6f731508a22398170a6a0118dde982c311972e1db48bea10c7b6d320bf22d264491a58ad9338fba310ce5ab34d379eab53f495674873c694f88fb7210d5004d8fbfd229a37ee9130493df24448d5d410e3258fe9f4fe6fcd6968713206c1e70b1071974893ac91395ca85a421aaaf516c7f7607216820df7e24a9322fa18f5a737bd5c3f8653ffd6906ae355bb2df8a02088105f5ba63e65f21217f1e321c2ac92f9241a383f8f1dc511817011646f1f5e2d21e3106aabcc4831d0528fe0cc1d842e2e6b360f6801db87f2451daf25b8d9e66652661eaa5ca7952110aa2092093e47f56de99b3008f592fa574178d364a0238b7fdcae53b387d3283187dccfc5aac72e0a0a643b9876408b1b1c5a8a37c83ad2dc9aab57b8ebbf9512c51218180981ba4d5a2ca622667264f004b41e2df073cfdf1b452dbf2e9a24c2e21a55184fb54c4a7edd2ac716c86c26ad7eaa8fe754efdea164c37823376412d869f9e9066097995656d98043804fbc1d0555bb4ea4858b25424299d9844961fea70a675d9ba3bc2311d60afca5a0d47328fcb4d8232b5811751a1dbcbd5e31d2e9a9f108c980f870c7ff4922efd3b6318acb1efef3266a80e7d9dbb9d08d42f563c422f7fae287684bbda4647e19513b48359a109f792cd5ab568b4edc0e024e6b01e715e0aa747e9ab1a1315cc3d6cd7c22f78f1cd8197f244507181428800577c5dc7510b687fd03b40c8718ca1b8a1330daa170d56349c5a79de6d10f90593096b71407e34ff579ee7b86792ea873f58f24933247328a34c3e0d1f9118281d6bf0c4f7413fe786410bd96d5eb27b4eebd12a00163fb19e3cc763f6af1012b5c71136c79acde2997608774ea110d86bce04e23a5c06259bc055726a49f500577c5dc7510b687fd03b40c8718ca1b8a1330daa170d56349c5a79de6d10f90593096b71407e34ff579ee7b86792ea873f58f24933247328a34c3e0d1f91180ebaf320c6e4cb0349ecc6f755cc4d09e29dd54ff3b3d5acc6dc046e25f2e30a215d3405ad6dcab3e31140e93dcc2d2ecc1c81fa8e1a59dafc94d4a8a2ba51a6037979f17084ee732ce9bc0f7c18eb7011864c17767229cd8efe45ead6cdae221e2367a312e1aa92f5d16906fa8cd6d76db1283f2775466cd2939dff35d826121f07308f4cdca7071aae40f469739801ee91047688e3b2c97aaba7da4431e71c000cba78263bc215d46f33a10d5b0233902ed9d9af77e92133fc6b42fb240df5045a43d403dcbbaa02652afbf0a33435ef19e01d983641749e7c841f26e0b3052723fd9ab0d0cfa565d37b9f6ce80183648c60d1deef4076c9e26c11211afcbe1974a0856ac551c5dd7552dacb9f5f69beb0daffed5778151adc0b47b48eeedc14e81097cffd01b281f5a67abcb29925b086444617f7bc0f3ff55a02db27590b0179a7fa9e1404adca74a9af5ea6a92bc4191243119fdee06cdd5316b5e68521165c85ad17209dc463004bb849af68ef8f8960e8ac5820be47d816561e5c917c1988bbbcefccf787f3c547e9152b328a95120fb83c8073ac72b4f479667c9b10175665bcd190ea08ffab5975b5f0a6de7f691c0ff2e60759bf15523ce3b703d22df4934451f6d0b32ba381e363cb861f1c7be2a8b90f5159a83fd5478de1b17c2c442d0562d1894f786d68079f2ebe62693d032a7beddbc6595daf0b2c41b863053853fb2f4c5a01eba2773d494b7224ebf870cc4d469a816b07e077040b130217f90ec1955bd769b3e9752f39cebd580d1e96ad4cd9509fa9065e5b18cc2f6e0a9a64ccf661f25f65f72c8667919dbe027c73830bae22d0d49a765ff656d4e22f49f04724111271bd9600b50f93f5c6c05c19a3941c6983678c1384587fad272512af8142a4a4414d8eb1639366b17cef229be5eb46297b0c68a4096213350216b2359c1f6542fb5333c863df5f3cf32450830d146d33f6b512639963246b1e00b077f6b588f3431ec69222cb41a465eb8224c990647f158c8d773a3e07e9900b4fa409c4016b18834a0be4467f91bc9009290f51960fa21ec637f319dbb620257a5c1498165907dc32cbe30a4916c33237a2522c4a7b8effb4c6ac07b29dd115368ada94d4e77e462ea482deb2a2a9c51202e79bbcbcd677ccdae838585c3a26575bbae413f5b16837c6e791f67d19d5c3dd1e16cbebc763dc84b382891ad926dab09c802f7fdcc624ef87b0b5303a654ded956fdcc2d79954639f21556d071f58620fff87a6b2a232adf5af6915d106d21e20cee9b96df5ecade35cb052b215b7a381ce96e90ecdc118906b3a0b38c40ebad57dd89c083d3cb7f8f85a07cc203a3a8594a12eef5e9fce71905c6a8b1c2a791c1a50e0bb2d673a55e838b12d04047974d6286d785b7016310af0f5f92b30461e778a5bef7939d0facf4bf92e1ece4c144a2b97c5c6869afee9efd13c451236e3812d07a5933eb8d02e35bcf20b9c63e6ff8feb89b67c8e3b4334556f0142c9cbfe799c26b9211c7ac520edbc2b9785087a262ebc9145c7efcd71a3b47b73de16e235a1a6cf4762accfa6495617a18ae19fb36ba56550c4fdb1a7ab272519fb41dfb6f70405a5180b946a3d670a5dd32966de7c7e22d7d01850e9cbe8ac1e5c76f926fd85c9d6747a17628af41fa2b16e683fb09ed4823edf59646fa0170ef91607bde15726dfc94a1484e9f51c6919a2acecb1768f3b822368c457ecf43299ccff109e49579a0c2d04ff42c3022a86aeaf521c2af900470a52ebcda0eaed47cea68b1947f23f1065d7227bcb1d625b7cfc548377dde85f33f873ab3403f1312a809cdc2a68597440f0488ff7188372c6123add04f03361eb443784c70cc763348db1b0071f395cc6d6434bb02d48b9d831233ca09ca412a5a06b2bfd96749e2ff81905637f205e62327b938320afc5ecc5ddb3720479f21459759123e3be14d0d9aa4ee5a1281f2c95bcf2b00aa22933d74c2b94074d1cad9c180ce1f679728fc931905581c53dcb964aa52a27962737d4e593bdfe547d7d0c049032f5155122f0d2f6897f2fd31bc1f2b5cf238c5aca93dce58a10101b8d3ac340d4b521518e01d7859d121dfd9ca700237d1a69795c8151e8f80b04b0eb1ef48073bc3a63c9dfb683897f8ae7b6d807ec9f2eb4493af6ff110ca82750896e3e97ef1a3b94d80921e43eaafbbdb3b5ade9ca18eedf36757212b83349382c2a2e8915eabc2094a2edaa382f85f433f7fbfb72000000000000000000000000000000000000000000000000000000000000000017f5b7d9e5868dfb223b51a5561d0a4bb36d904648c7628e4a7cb3b8c2b70f460000000000000000000000000000000000000000000000000000000000000000226e97c80662f3759286e9e4e5f5830d905b7d5f954b3cc27bf57f54fd234bc212de4cee3bc242445e913e8d92b90796c8a328a7040292a37c6c3e99b41a56f8214f3101ebdd067a3e30c6e97c3019f625680062468dc47fc2a50cd5ac039fc511020ac62796d53dde1cf3a22bf0afc33f27fe78a81061dee86b1ef6ec05a1aa1c0db70fad82c4b212794cfc102e939806f84b2b18749413fc8eba8d790b6a602de9de0b5e6408001945cdab3f57645a176f43052ba04ec463dcbc0e7ad625241fd2a177e947dc481c160c3475e39d25fd98f76fcc494734a1c56ca976190fe914a10bde00e6de545e6ce5ae57bdcd2b54470c5e7761724e69405c43ec5fbdb8096858ec951ae93f9e197545a666787ca645f9a687c6d646650ca5f574af217f02bb611de3cb69fa40a4df5907594c2c39945ed792c60831bcfc0a9cfa70d7242d21f9785d4f5bed9e966053b1f2ac7d2152e0618f9e8f1311b3de11f58108e72abfe30816ee8c6bf0320571e17e099e7d8572989f2b870f28256c69c44297231afa473e6978bc09fa9f6cfebdfb7c740421c0d12b841040418833b945e0bfbe3005ca7343bf9f48487c3fe5d6fd841950347bc25cd1809ca284a4681e3e90f9251098cab7331fa5f4e87fdd1eecf37558a61756ee0a55df028832c19ec6329222cde4c6f615def0b5f8ccb535e05054f75b549e2e6e0e9a240cf3512089507a1974b99f8578f574c1ad74435c7956d3fbed63087674ba8e9b900f01d51abd2b0e3334d8e59274edfbc4f0790b78e7bb02e08fe8feaaea9abb60583979c604e40fb6faeff4b2389b965365f691bcf8f46300504eada6f0cd318a46f105ffd7e50d1b0ae51f309efb80f1b955fd1bd7ff1094b0fc5f9c51626ac62b7d7b1b2129106189cc7024bb2d063df4f883c3553fa6492922339081995aafc449801955b01c2f8679200d6272bff8378e9e6fb692494fb6168f6fe8c0a7343ed4cbb89f5e27a2dd50430fad2aad26f962128e1668afb5f1e74d9ea303af01216610e942e729392f00056cbc510eeb65987aa2ac5491d2422b73542707ba57888b6580397725919160dc8c060bb17ff0ba10c9a541c2d530f65ebe82a24464625fb501336e1b8e1d5b680f84d131363d3c0dffc42afb519abc9942261d0682e0e387c27dbf19298e5ce7a234b73b7d02d6fa5c0071497eaa91867a1da62e918e3b3f2c828d234cfbec08e4c39314ce3c6ef570744b0c200da6d6968f8409a0d72ac0a5aba01ac8af0aee443827d46e099d096927719a115b89fb7d8a55d0aead414ccb84b3277fd635d2beff83660f2dc70d253ed28791bae6eb69e85225a95e51bd0254c40612c39bf12445d861b02fb1f480b3d8a3508f3fc4be846d79436614321f86f6010e8d1c7ea7489e18f108adc637fdc375bf96572a9540f336d51d3695ca6064008fc0c950e08ccd41ddaee12f72f0d94267df6212b8c58323bb74edca865b4c2951b269f54c9149101ca888c8155416c81067714d7252d28b2e601153d9e80600be9d38502229f1c0038fd7efe14cc466e3117ca0d30665358097818de59f2629f48eabee75223578d489d27e92293c3354ac37f9b768745bd241deb422fcb626be27727f924aa90aca317b743d24d80d106eb671b52f9d9db7ef1332aa584c13e4be9e15958dd2f8d2c96d2704d65f7040bef610ddd1c18b7b8c332c4e3e51008fc0c950e08ccd41ddaee12f72f0d94267df6212b8c58323bb74edca865b4c2d6ccdbdb911e6dc942ae256b7b6a20485e595d0fa5bc2a40c79b3498ec1f76007be6ccffd6a800203ce7acd5106dc744692e329fbd94dae7c8001e78523a1172c4a4b3fef0711f0507f46e0c3d517df02d02dd28a59b5c25136a7f4fef932940b864b518ec975393fc7e13617e8577bfbb23a09a2f3c5e718584b11d7c8409a1026a13b30990bf48da2df95264de82da588626dbb955adf159eb33037ee53900ffbf1425e74f1ef3d753304a291305441960397d5f077b9944bd8f58ad111d720b88d0a8c9d7f5e509f498be72605a89ea70882be83b3705f4a87be48c2bb06', 'transcript_type': 'EVM'}\n",
      "Time gen prf: 6.322366952896118 seconds\n"
     ]
    }
   ],
   "source": [
    "# Here verifier & prover can concurrently call setup since all params are public to get pk.\n",
    "# Here write as verifier function to emphasize that verifier must calculate its own vk to be sure\n",
    "setup(verifier_model_path, verifier_compiled_model_path, settings_path,vk_path, pk_path )\n",
    "\n",
    "print(\"=======================================\")\n",
    "# Prover generates proof\n",
    "prover_gen_proof(prover_model_path, sel_data_path, witness_path, prover_compiled_model_path, settings_path, proof_path, pk_path)"
   ]
  },
  {
   "cell_type": "code",
   "execution_count": 10,
   "metadata": {},
   "outputs": [
    {
     "name": "stdout",
     "output_type": "stream",
     "text": [
      "Verifier gets result: 212.5\n"
     ]
    }
   ],
   "source": [
    "# Verifier verifies\n",
    "res = verifier_verify(proof_path, settings_path, vk_path, selected_columns, commitment_maps)\n",
    "print(\"Verifier gets result:\", res)"
   ]
  }
 ],
 "metadata": {
  "kernelspec": {
   "display_name": "Python 3",
   "language": "python",
   "name": "python3"
  },
  "language_info": {
   "codemirror_mode": {
    "name": "ipython",
    "version": 3
   },
   "file_extension": ".py",
   "mimetype": "text/x-python",
   "name": "python",
   "nbconvert_exporter": "python",
   "pygments_lexer": "ipython3",
   "version": "3.12.1"
  },
  "orig_nbformat": 4
 },
 "nbformat": 4,
 "nbformat_minor": 2
}
