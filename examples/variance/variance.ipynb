{
 "cells": [
  {
   "cell_type": "code",
   "execution_count": 1,
   "metadata": {},
   "outputs": [
    {
     "name": "stdout",
     "output_type": "stream",
     "text": [
      "Requirement already satisfied: ezkl==5.0.8 in /Library/Frameworks/Python.framework/Versions/3.10/lib/python3.10/site-packages (from -r ../../requirements.txt (line 1)) (5.0.8)\n",
      "Requirement already satisfied: torch in /Library/Frameworks/Python.framework/Versions/3.10/lib/python3.10/site-packages (from -r ../../requirements.txt (line 2)) (2.1.1)\n",
      "Requirement already satisfied: requests in /Library/Frameworks/Python.framework/Versions/3.10/lib/python3.10/site-packages (from -r ../../requirements.txt (line 3)) (2.31.0)\n",
      "Requirement already satisfied: scipy in /Library/Frameworks/Python.framework/Versions/3.10/lib/python3.10/site-packages (from -r ../../requirements.txt (line 4)) (1.11.4)\n",
      "Requirement already satisfied: numpy in /Library/Frameworks/Python.framework/Versions/3.10/lib/python3.10/site-packages (from -r ../../requirements.txt (line 5)) (1.26.2)\n",
      "Requirement already satisfied: matplotlib in /Library/Frameworks/Python.framework/Versions/3.10/lib/python3.10/site-packages (from -r ../../requirements.txt (line 6)) (3.8.2)\n",
      "Requirement already satisfied: statistics in /Library/Frameworks/Python.framework/Versions/3.10/lib/python3.10/site-packages (from -r ../../requirements.txt (line 7)) (1.0.3.5)\n",
      "Requirement already satisfied: onnx in /Library/Frameworks/Python.framework/Versions/3.10/lib/python3.10/site-packages (from -r ../../requirements.txt (line 8)) (1.15.0)\n",
      "Requirement already satisfied: filelock in /Library/Frameworks/Python.framework/Versions/3.10/lib/python3.10/site-packages (from torch->-r ../../requirements.txt (line 2)) (3.13.1)\n",
      "Requirement already satisfied: networkx in /Library/Frameworks/Python.framework/Versions/3.10/lib/python3.10/site-packages (from torch->-r ../../requirements.txt (line 2)) (3.2.1)\n",
      "Requirement already satisfied: fsspec in /Library/Frameworks/Python.framework/Versions/3.10/lib/python3.10/site-packages (from torch->-r ../../requirements.txt (line 2)) (2023.10.0)\n",
      "Requirement already satisfied: sympy in /Library/Frameworks/Python.framework/Versions/3.10/lib/python3.10/site-packages (from torch->-r ../../requirements.txt (line 2)) (1.12)\n",
      "Requirement already satisfied: typing-extensions in /Library/Frameworks/Python.framework/Versions/3.10/lib/python3.10/site-packages (from torch->-r ../../requirements.txt (line 2)) (4.8.0)\n",
      "Requirement already satisfied: jinja2 in /Library/Frameworks/Python.framework/Versions/3.10/lib/python3.10/site-packages (from torch->-r ../../requirements.txt (line 2)) (3.1.2)\n",
      "Requirement already satisfied: urllib3<3,>=1.21.1 in /Library/Frameworks/Python.framework/Versions/3.10/lib/python3.10/site-packages (from requests->-r ../../requirements.txt (line 3)) (2.1.0)\n",
      "Requirement already satisfied: certifi>=2017.4.17 in /Library/Frameworks/Python.framework/Versions/3.10/lib/python3.10/site-packages (from requests->-r ../../requirements.txt (line 3)) (2023.11.17)\n",
      "Requirement already satisfied: charset-normalizer<4,>=2 in /Library/Frameworks/Python.framework/Versions/3.10/lib/python3.10/site-packages (from requests->-r ../../requirements.txt (line 3)) (3.3.2)\n",
      "Requirement already satisfied: idna<4,>=2.5 in /Library/Frameworks/Python.framework/Versions/3.10/lib/python3.10/site-packages (from requests->-r ../../requirements.txt (line 3)) (3.6)\n",
      "Requirement already satisfied: cycler>=0.10 in /Library/Frameworks/Python.framework/Versions/3.10/lib/python3.10/site-packages (from matplotlib->-r ../../requirements.txt (line 6)) (0.12.1)\n",
      "Requirement already satisfied: kiwisolver>=1.3.1 in /Library/Frameworks/Python.framework/Versions/3.10/lib/python3.10/site-packages (from matplotlib->-r ../../requirements.txt (line 6)) (1.4.5)\n",
      "Requirement already satisfied: fonttools>=4.22.0 in /Library/Frameworks/Python.framework/Versions/3.10/lib/python3.10/site-packages (from matplotlib->-r ../../requirements.txt (line 6)) (4.45.1)\n",
      "Requirement already satisfied: packaging>=20.0 in /Users/jernkun/Library/Python/3.10/lib/python/site-packages (from matplotlib->-r ../../requirements.txt (line 6)) (23.2)\n",
      "Requirement already satisfied: python-dateutil>=2.7 in /Users/jernkun/Library/Python/3.10/lib/python/site-packages (from matplotlib->-r ../../requirements.txt (line 6)) (2.8.2)\n",
      "Requirement already satisfied: contourpy>=1.0.1 in /Library/Frameworks/Python.framework/Versions/3.10/lib/python3.10/site-packages (from matplotlib->-r ../../requirements.txt (line 6)) (1.2.0)\n",
      "Requirement already satisfied: pillow>=8 in /Library/Frameworks/Python.framework/Versions/3.10/lib/python3.10/site-packages (from matplotlib->-r ../../requirements.txt (line 6)) (10.1.0)\n",
      "Requirement already satisfied: pyparsing>=2.3.1 in /Library/Frameworks/Python.framework/Versions/3.10/lib/python3.10/site-packages (from matplotlib->-r ../../requirements.txt (line 6)) (3.1.1)\n",
      "Requirement already satisfied: docutils>=0.3 in /Library/Frameworks/Python.framework/Versions/3.10/lib/python3.10/site-packages (from statistics->-r ../../requirements.txt (line 7)) (0.20.1)\n",
      "Requirement already satisfied: protobuf>=3.20.2 in /Library/Frameworks/Python.framework/Versions/3.10/lib/python3.10/site-packages (from onnx->-r ../../requirements.txt (line 8)) (4.25.1)\n",
      "Requirement already satisfied: six>=1.5 in /Users/jernkun/Library/Python/3.10/lib/python/site-packages (from python-dateutil>=2.7->matplotlib->-r ../../requirements.txt (line 6)) (1.16.0)\n",
      "Requirement already satisfied: MarkupSafe>=2.0 in /Library/Frameworks/Python.framework/Versions/3.10/lib/python3.10/site-packages (from jinja2->torch->-r ../../requirements.txt (line 2)) (2.1.3)\n",
      "Requirement already satisfied: mpmath>=0.19 in /Library/Frameworks/Python.framework/Versions/3.10/lib/python3.10/site-packages (from sympy->torch->-r ../../requirements.txt (line 2)) (1.3.0)\n",
      "\u001b[33mWARNING: You are using pip version 21.2.3; however, version 23.3.1 is available.\n",
      "You should consider upgrading via the '/usr/local/bin/python3 -m pip install --upgrade pip' command.\u001b[0m\n",
      "Note: you may need to restart the kernel to use updated packages.\n"
     ]
    }
   ],
   "source": [
    "pip install -r ../../requirements.txt"
   ]
  },
  {
   "cell_type": "code",
   "execution_count": 20,
   "metadata": {},
   "outputs": [],
   "source": [
    "import ezkl\n",
    "import torch\n",
    "from torch import nn\n",
    "import json\n",
    "import os\n",
    "import time\n",
    "import scipy\n",
    "import numpy as np\n",
    "import matplotlib.pyplot as plt\n",
    "import statistics\n",
    "import math"
   ]
  },
  {
   "cell_type": "code",
   "execution_count": 21,
   "metadata": {},
   "outputs": [],
   "source": [
    "%run -i ../../core.py"
   ]
  },
  {
   "cell_type": "code",
   "execution_count": 22,
   "metadata": {},
   "outputs": [],
   "source": [
    "# init path\n",
    "os.makedirs(os.path.dirname('shared/'), exist_ok=True)\n",
    "os.makedirs(os.path.dirname('prover/'), exist_ok=True)\n",
    "verifier_model_path = os.path.join('shared/verifier.onnx')\n",
    "prover_model_path = os.path.join('prover/prover.onnx')\n",
    "verifier_compiled_model_path = os.path.join('shared/verifier.compiled')\n",
    "prover_compiled_model_path = os.path.join('prover/prover.compiled')\n",
    "pk_path = os.path.join('shared/test.pk')\n",
    "vk_path = os.path.join('shared/test.vk')\n",
    "proof_path = os.path.join('shared/test.pf')\n",
    "settings_path = os.path.join('shared/settings.json')\n",
    "srs_path = os.path.join('shared/kzg.srs')\n",
    "witness_path = os.path.join('prover/witness.json')\n",
    "# this is private to prover since it contains actual data\n",
    "comb_data_path = os.path.join('prover/comb_data.json')"
   ]
  },
  {
   "attachments": {},
   "cell_type": "markdown",
   "metadata": {},
   "source": [
    "=======================  ZK-STATS FLOW ======================="
   ]
  },
  {
   "cell_type": "code",
   "execution_count": 23,
   "metadata": {},
   "outputs": [],
   "source": [
    "data_path = os.path.join('data.json')\n",
    "dummy_data_path = os.path.join('shared/dummy_data.json')\n",
    "\n",
    "f_raw_input = open(data_path, \"r\")\n",
    "data = json.loads(f_raw_input.read())[\"input_data\"][0]\n",
    "data_tensor = torch.reshape(torch.tensor(data),(1, len(data), 1))\n",
    "\n",
    "#  dummy data for data consumer: make the bound approx same as real data\n",
    "dummy_data = np.random.uniform(min(data), max(data), len(data))\n",
    "json.dump({\"input_data\":[dummy_data.tolist()]}, open(dummy_data_path, 'w'))\n",
    "\n",
    "dummy_data_tensor = torch.reshape(torch.tensor(dummy_data), (1, len(dummy_data),1 ))\n",
    "dummy_theory_output = torch.var(dummy_data_tensor, correction = 1)\n",
    "dummy_data_mean = torch.mean(dummy_data_tensor)"
   ]
  },
  {
   "cell_type": "code",
   "execution_count": 24,
   "metadata": {},
   "outputs": [
    {
     "name": "stderr",
     "output_type": "stream",
     "text": [
      "/Library/Frameworks/Python.framework/Versions/3.10/lib/python3.10/site-packages/torch/onnx/symbolic_opset9.py:2174: FutureWarning: 'torch.onnx.symbolic_opset9._cast_Bool' is deprecated in version 2.0 and will be removed in the future. Please Avoid using this function and create a Cast node instead.\n",
      "  return fn(g, to_cast_func(g, input, False), to_cast_func(g, other, False))\n"
     ]
    }
   ],
   "source": [
    "# Verifier/ data consumer side:\n",
    "class verifier_model(nn.Module):\n",
    "    def __init__(self):\n",
    "        super(verifier_model, self).__init__()\n",
    "        # w represents mean in this case\n",
    "        self.w = nn.Parameter(data = dummy_theory_output, requires_grad = False)\n",
    "        self.data_mean = nn.Parameter(data = dummy_data_mean, requires_grad = False)\n",
    "\n",
    "    def forward(self,X):\n",
    "        x_mean_cons = torch.abs(torch.sum(X)-X.size()[1]*(self.data_mean))<=torch.abs(0.01*X.size()[1]*self.data_mean)\n",
    "        return (torch.logical_and(torch.abs(torch.sum((X-self.data_mean)*(X-self.data_mean))-self.w*(X.size()[1]-1))<=torch.abs(0.01*self.w*(X.size()[1]-1)),x_mean_cons ),self.w)\n",
    "\n",
    "verifier_define_calculation(verifier_model, verifier_model_path, [dummy_data_path])"
   ]
  },
  {
   "cell_type": "code",
   "execution_count": 25,
   "metadata": {},
   "outputs": [
    {
     "name": "stdout",
     "output_type": "stream",
     "text": [
      "theory output:  tensor(212.5777)\n",
      "==== Generate & Calibrate Setting ====\n",
      "scale:  default\n",
      "setting:  {\"run_args\":{\"tolerance\":{\"val\":0.0,\"scale\":1.0},\"input_scale\":2,\"param_scale\":2,\"scale_rebase_multiplier\":10,\"lookup_range\":[-20332,8],\"logrows\":15,\"num_inner_cols\":1,\"variables\":[[\"batch_size\",1]],\"input_visibility\":{\"Hashed\":{\"hash_is_public\":true,\"outlets\":[]}},\"output_visibility\":\"Public\",\"param_visibility\":\"Private\"},\"num_rows\":14432,\"total_assignments\":1520,\"total_const_size\":8,\"model_instance_shapes\":[[1],[1]],\"model_output_scales\":[0,2],\"model_input_scales\":[2],\"module_sizes\":{\"kzg\":[],\"poseidon\":[14432,[1]],\"elgamal\":[0,[0]]},\"required_lookups\":[\"Abs\",{\"GreaterThan\":{\"a\":0.0}}],\"check_mode\":\"UNSAFE\",\"version\":\"5.0.8\",\"num_blinding_factors\":null}\n"
     ]
    }
   ],
   "source": [
    "# Prover/ data owner side\n",
    "theory_output = torch.var(data_tensor, correction = 1)\n",
    "data_mean = torch.mean(data_tensor)\n",
    "print(\"theory output: \", theory_output)\n",
    "class prover_model(nn.Module):\n",
    "    def __init__(self):\n",
    "        super(prover_model, self).__init__()\n",
    "        # w represents mean in this case\n",
    "        self.w = nn.Parameter(data = theory_output, requires_grad = False)\n",
    "        self.data_mean = nn.Parameter(data = data_mean, requires_grad = False)\n",
    "    def forward(self,X):\n",
    "        x_mean_cons = torch.abs(torch.sum(X)-X.size()[1]*(self.data_mean))<=torch.abs(0.01*X.size()[1]*self.data_mean)\n",
    "        return (torch.logical_and(torch.abs(torch.sum((X-self.data_mean)*(X-self.data_mean))-self.w*(X.size()[1]-1))<=torch.abs(0.01*self.w*(X.size()[1]-1)),x_mean_cons ),self.w)\n",
    "\n",
    "\n",
    "prover_gen_settings([data_path], comb_data_path, prover_model,prover_model_path, \"default\", \"resources\", settings_path)"
   ]
  },
  {
   "cell_type": "code",
   "execution_count": 26,
   "metadata": {},
   "outputs": [
    {
     "name": "stdout",
     "output_type": "stream",
     "text": [
      "==== setting up ezkl ===="
     ]
    },
    {
     "name": "stderr",
     "output_type": "stream",
     "text": [
      "spawning module 0\n",
      "spawning module 2\n"
     ]
    },
    {
     "name": "stdout",
     "output_type": "stream",
     "text": [
      "\n"
     ]
    },
    {
     "name": "stderr",
     "output_type": "stream",
     "text": [
      "spawning module 0\n",
      "spawning module 2\n"
     ]
    },
    {
     "name": "stdout",
     "output_type": "stream",
     "text": [
      "Time setup: 2.832247734069824 seconds\n",
      "=======================================\n",
      "Theory output:  tensor(212.5777)\n",
      "==== Generating Witness ====\n",
      "witness boolean:  1.0\n",
      "witness result 1 : 212.5\n",
      "==== Generating Proof ====\n"
     ]
    },
    {
     "name": "stderr",
     "output_type": "stream",
     "text": [
      "spawning module 0\n",
      "spawning module 2\n"
     ]
    },
    {
     "name": "stdout",
     "output_type": "stream",
     "text": [
      "proof:  {'instances': [[[12907834141446617622, 16863260785082668294, 2215826187815521673, 2191547160659437828], [12436184717236109307, 3962172157175319849, 7381016538464732718, 1011752739694698287], [14958435514946940528, 17320992765071788231, 18318297740500540397, 2188255106962760522]]], 'proof': '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', 'transcript_type': 'EVM'}\n",
      "Time gen prf: 3.246212959289551 seconds\n"
     ]
    }
   ],
   "source": [
    "# Here verifier & prover can concurrently call setup since all params are public to get pk. \n",
    "# Here write as verifier function to emphasize that verifier must calculate its own vk to be sure\n",
    "verifier_setup(verifier_model_path, verifier_compiled_model_path, settings_path, srs_path,vk_path, pk_path )\n",
    "\n",
    "print(\"=======================================\")\n",
    "# Prover generates proof\n",
    "print(\"Theory output: \", theory_output)\n",
    "prover_gen_proof(prover_model_path, comb_data_path, witness_path, prover_compiled_model_path, settings_path, proof_path, pk_path, srs_path)"
   ]
  },
  {
   "cell_type": "code",
   "execution_count": 27,
   "metadata": {},
   "outputs": [
    {
     "name": "stdout",
     "output_type": "stream",
     "text": [
      "num_inputs:  1\n",
      "prf instances:  [[[12907834141446617622, 16863260785082668294, 2215826187815521673, 2191547160659437828], [12436184717236109307, 3962172157175319849, 7381016538464732718, 1011752739694698287], [14958435514946940528, 17320992765071788231, 18318297740500540397, 2188255106962760522]]]\n",
      "proof boolean:  1.0\n",
      "proof result 1 : 212.5\n",
      "verified\n"
     ]
    }
   ],
   "source": [
    "# Verifier verifies\n",
    "verifier_verify(proof_path, settings_path, vk_path, srs_path)"
   ]
  },
  {
   "cell_type": "code",
   "execution_count": null,
   "metadata": {},
   "outputs": [],
   "source": []
  }
 ],
 "metadata": {
  "kernelspec": {
   "display_name": "Python 3",
   "language": "python",
   "name": "python3"
  },
  "language_info": {
   "codemirror_mode": {
    "name": "ipython",
    "version": 3
   },
   "file_extension": ".py",
   "mimetype": "text/x-python",
   "name": "python",
   "nbconvert_exporter": "python",
   "pygments_lexer": "ipython3",
   "version": "3.10.0"
  },
  "orig_nbformat": 4
 },
 "nbformat": 4,
 "nbformat_minor": 2
}
