{
 "cells": [
  {
   "cell_type": "code",
   "execution_count": 28,
   "metadata": {},
   "outputs": [
    {
     "name": "stdout",
     "output_type": "stream",
     "text": [
      "Requirement already satisfied: ezkl==5.4.2 in /Library/Frameworks/Python.framework/Versions/3.10/lib/python3.10/site-packages (from -r ../../requirements.txt (line 1)) (5.4.2)\n",
      "Requirement already satisfied: torch in /Library/Frameworks/Python.framework/Versions/3.10/lib/python3.10/site-packages (from -r ../../requirements.txt (line 2)) (2.1.1)\n",
      "Requirement already satisfied: requests in /Library/Frameworks/Python.framework/Versions/3.10/lib/python3.10/site-packages (from -r ../../requirements.txt (line 3)) (2.31.0)\n",
      "Requirement already satisfied: scipy in /Library/Frameworks/Python.framework/Versions/3.10/lib/python3.10/site-packages (from -r ../../requirements.txt (line 4)) (1.11.4)\n",
      "Requirement already satisfied: numpy in /Library/Frameworks/Python.framework/Versions/3.10/lib/python3.10/site-packages (from -r ../../requirements.txt (line 5)) (1.26.2)\n",
      "Requirement already satisfied: matplotlib in /Library/Frameworks/Python.framework/Versions/3.10/lib/python3.10/site-packages (from -r ../../requirements.txt (line 6)) (3.8.2)\n",
      "Requirement already satisfied: statistics in /Library/Frameworks/Python.framework/Versions/3.10/lib/python3.10/site-packages (from -r ../../requirements.txt (line 7)) (1.0.3.5)\n",
      "Requirement already satisfied: onnx in /Library/Frameworks/Python.framework/Versions/3.10/lib/python3.10/site-packages (from -r ../../requirements.txt (line 8)) (1.15.0)\n",
      "Requirement already satisfied: typing-extensions in /Library/Frameworks/Python.framework/Versions/3.10/lib/python3.10/site-packages (from torch->-r ../../requirements.txt (line 2)) (4.8.0)\n",
      "Requirement already satisfied: networkx in /Library/Frameworks/Python.framework/Versions/3.10/lib/python3.10/site-packages (from torch->-r ../../requirements.txt (line 2)) (3.2.1)\n",
      "Requirement already satisfied: jinja2 in /Library/Frameworks/Python.framework/Versions/3.10/lib/python3.10/site-packages (from torch->-r ../../requirements.txt (line 2)) (3.1.2)\n",
      "Requirement already satisfied: filelock in /Library/Frameworks/Python.framework/Versions/3.10/lib/python3.10/site-packages (from torch->-r ../../requirements.txt (line 2)) (3.13.1)\n",
      "Requirement already satisfied: fsspec in /Library/Frameworks/Python.framework/Versions/3.10/lib/python3.10/site-packages (from torch->-r ../../requirements.txt (line 2)) (2023.10.0)\n",
      "Requirement already satisfied: sympy in /Library/Frameworks/Python.framework/Versions/3.10/lib/python3.10/site-packages (from torch->-r ../../requirements.txt (line 2)) (1.12)\n",
      "Requirement already satisfied: urllib3<3,>=1.21.1 in /Library/Frameworks/Python.framework/Versions/3.10/lib/python3.10/site-packages (from requests->-r ../../requirements.txt (line 3)) (2.1.0)\n",
      "Requirement already satisfied: charset-normalizer<4,>=2 in /Library/Frameworks/Python.framework/Versions/3.10/lib/python3.10/site-packages (from requests->-r ../../requirements.txt (line 3)) (3.3.2)\n",
      "Requirement already satisfied: idna<4,>=2.5 in /Library/Frameworks/Python.framework/Versions/3.10/lib/python3.10/site-packages (from requests->-r ../../requirements.txt (line 3)) (3.6)\n",
      "Requirement already satisfied: certifi>=2017.4.17 in /Library/Frameworks/Python.framework/Versions/3.10/lib/python3.10/site-packages (from requests->-r ../../requirements.txt (line 3)) (2023.11.17)\n",
      "Requirement already satisfied: kiwisolver>=1.3.1 in /Library/Frameworks/Python.framework/Versions/3.10/lib/python3.10/site-packages (from matplotlib->-r ../../requirements.txt (line 6)) (1.4.5)\n",
      "Requirement already satisfied: pyparsing>=2.3.1 in /Library/Frameworks/Python.framework/Versions/3.10/lib/python3.10/site-packages (from matplotlib->-r ../../requirements.txt (line 6)) (3.1.1)\n",
      "Requirement already satisfied: contourpy>=1.0.1 in /Library/Frameworks/Python.framework/Versions/3.10/lib/python3.10/site-packages (from matplotlib->-r ../../requirements.txt (line 6)) (1.2.0)\n",
      "Requirement already satisfied: packaging>=20.0 in /Users/jernkun/Library/Python/3.10/lib/python/site-packages (from matplotlib->-r ../../requirements.txt (line 6)) (23.2)\n",
      "Requirement already satisfied: pillow>=8 in /Library/Frameworks/Python.framework/Versions/3.10/lib/python3.10/site-packages (from matplotlib->-r ../../requirements.txt (line 6)) (10.1.0)\n",
      "Requirement already satisfied: fonttools>=4.22.0 in /Library/Frameworks/Python.framework/Versions/3.10/lib/python3.10/site-packages (from matplotlib->-r ../../requirements.txt (line 6)) (4.45.1)\n",
      "Requirement already satisfied: cycler>=0.10 in /Library/Frameworks/Python.framework/Versions/3.10/lib/python3.10/site-packages (from matplotlib->-r ../../requirements.txt (line 6)) (0.12.1)\n",
      "Requirement already satisfied: python-dateutil>=2.7 in /Users/jernkun/Library/Python/3.10/lib/python/site-packages (from matplotlib->-r ../../requirements.txt (line 6)) (2.8.2)\n",
      "Requirement already satisfied: docutils>=0.3 in /Library/Frameworks/Python.framework/Versions/3.10/lib/python3.10/site-packages (from statistics->-r ../../requirements.txt (line 7)) (0.20.1)\n",
      "Requirement already satisfied: protobuf>=3.20.2 in /Library/Frameworks/Python.framework/Versions/3.10/lib/python3.10/site-packages (from onnx->-r ../../requirements.txt (line 8)) (4.25.1)\n",
      "Requirement already satisfied: six>=1.5 in /Users/jernkun/Library/Python/3.10/lib/python/site-packages (from python-dateutil>=2.7->matplotlib->-r ../../requirements.txt (line 6)) (1.16.0)\n",
      "Requirement already satisfied: MarkupSafe>=2.0 in /Library/Frameworks/Python.framework/Versions/3.10/lib/python3.10/site-packages (from jinja2->torch->-r ../../requirements.txt (line 2)) (2.1.3)\n",
      "Requirement already satisfied: mpmath>=0.19 in /Library/Frameworks/Python.framework/Versions/3.10/lib/python3.10/site-packages (from sympy->torch->-r ../../requirements.txt (line 2)) (1.3.0)\n",
      "\u001b[33mWARNING: You are using pip version 21.2.3; however, version 23.3.1 is available.\n",
      "You should consider upgrading via the '/usr/local/bin/python3 -m pip install --upgrade pip' command.\u001b[0m\n",
      "Note: you may need to restart the kernel to use updated packages.\n"
     ]
    }
   ],
   "source": [
    "pip install -r ../../requirements.txt"
   ]
  },
  {
   "cell_type": "code",
   "execution_count": 29,
   "metadata": {},
   "outputs": [],
   "source": [
    "import ezkl\n",
    "import torch\n",
    "from torch import nn\n",
    "import json\n",
    "import os\n",
    "import time\n",
    "import scipy\n",
    "import numpy as np\n",
    "import matplotlib.pyplot as plt\n",
    "import statistics\n",
    "import math"
   ]
  },
  {
   "cell_type": "code",
   "execution_count": 30,
   "metadata": {},
   "outputs": [],
   "source": [
    "%run -i ../../core.py"
   ]
  },
  {
   "cell_type": "code",
   "execution_count": 31,
   "metadata": {},
   "outputs": [],
   "source": [
    "# init path\n",
    "os.makedirs(os.path.dirname('shared/'), exist_ok=True)\n",
    "os.makedirs(os.path.dirname('prover/'), exist_ok=True)\n",
    "verifier_model_path = os.path.join('shared/verifier.onnx')\n",
    "prover_model_path = os.path.join('prover/prover.onnx')\n",
    "verifier_compiled_model_path = os.path.join('shared/verifier.compiled')\n",
    "prover_compiled_model_path = os.path.join('prover/prover.compiled')\n",
    "pk_path = os.path.join('shared/test.pk')\n",
    "vk_path = os.path.join('shared/test.vk')\n",
    "proof_path = os.path.join('shared/test.pf')\n",
    "settings_path = os.path.join('shared/settings.json')\n",
    "srs_path = os.path.join('shared/kzg.srs')\n",
    "witness_path = os.path.join('prover/witness.json')\n",
    "# this is private to prover since it contains actual data\n",
    "comb_data_path = os.path.join('prover/comb_data.json')"
   ]
  },
  {
   "attachments": {},
   "cell_type": "markdown",
   "metadata": {},
   "source": [
    "=======================  ZK-STATS FLOW ======================="
   ]
  },
  {
   "cell_type": "code",
   "execution_count": 32,
   "metadata": {},
   "outputs": [],
   "source": [
    "data_path = os.path.join('data.json')\n",
    "dummy_data_path = os.path.join('shared/dummy_data.json')\n",
    "\n",
    "f_raw_input = open(data_path, \"r\")\n",
    "data = json.loads(f_raw_input.read())[\"input_data\"][0]\n",
    "data_tensor = torch.reshape(torch.tensor(data),(1, len(data), 1))\n",
    "\n",
    "#  dummy data for data consumer: make the bound approx same as real data\n",
    "dummy_data = np.round(np.random.uniform(1,10,len(data)),1)\n",
    "json.dump({\"input_data\":[dummy_data.tolist()]}, open(dummy_data_path, 'w'))\n",
    "\n",
    "dummy_data_tensor = torch.reshape(torch.tensor(dummy_data), (1, len(dummy_data),1 ))\n",
    "dummy_theory_output = torch.var(dummy_data_tensor, correction = 1)\n",
    "dummy_data_mean = torch.mean(dummy_data_tensor)"
   ]
  },
  {
   "cell_type": "code",
   "execution_count": 33,
   "metadata": {},
   "outputs": [],
   "source": [
    "# Verifier/ data consumer side:\n",
    "class verifier_model(nn.Module):\n",
    "    def __init__(self):\n",
    "        super(verifier_model, self).__init__()\n",
    "        # w represents mean in this case\n",
    "        self.w = nn.Parameter(data = dummy_theory_output, requires_grad = False)\n",
    "        self.data_mean = nn.Parameter(data = dummy_data_mean, requires_grad = False)\n",
    "\n",
    "    def forward(self,X):\n",
    "        x_mean_cons = torch.abs(torch.sum(X)-X.size()[1]*(self.data_mean))<=torch.abs(0.01*X.size()[1]*self.data_mean)\n",
    "        return (torch.logical_and(torch.abs(torch.sum((X-self.data_mean)*(X-self.data_mean))-self.w*(X.size()[1]-1))<=torch.abs(0.01*self.w*(X.size()[1]-1)),x_mean_cons ),self.w)\n",
    "\n",
    "verifier_define_calculation(verifier_model, verifier_model_path, [dummy_data_path])"
   ]
  },
  {
   "cell_type": "code",
   "execution_count": 34,
   "metadata": {},
   "outputs": [
    {
     "name": "stdout",
     "output_type": "stream",
     "text": [
      "theory output:  tensor(212.5777)\n",
      "==== Generate & Calibrate Setting ====\n",
      "scale:  default\n",
      "setting:  {\"run_args\":{\"tolerance\":{\"val\":0.0,\"scale\":1.0},\"input_scale\":2,\"param_scale\":2,\"scale_rebase_multiplier\":10,\"lookup_range\":[-20332,8],\"logrows\":15,\"num_inner_cols\":1,\"variables\":[[\"batch_size\",1]],\"input_visibility\":{\"Hashed\":{\"hash_is_public\":true,\"outlets\":[]}},\"output_visibility\":\"Public\",\"param_visibility\":\"Private\"},\"num_rows\":14432,\"total_assignments\":1520,\"total_const_size\":8,\"model_instance_shapes\":[[1],[1]],\"model_output_scales\":[0,2],\"model_input_scales\":[2],\"module_sizes\":{\"kzg\":[],\"poseidon\":[14432,[1]],\"elgamal\":[0,[0]]},\"required_lookups\":[\"Abs\",{\"GreaterThan\":{\"a\":0.0}}],\"check_mode\":\"UNSAFE\",\"version\":\"5.0.8\",\"num_blinding_factors\":null}\n"
     ]
    }
   ],
   "source": [
    "# Prover/ data owner side\n",
    "theory_output = torch.var(data_tensor, correction = 1)\n",
    "data_mean = torch.mean(data_tensor)\n",
    "print(\"theory output: \", theory_output)\n",
    "class prover_model(nn.Module):\n",
    "    def __init__(self):\n",
    "        super(prover_model, self).__init__()\n",
    "        # w represents mean in this case\n",
    "        self.w = nn.Parameter(data = theory_output, requires_grad = False)\n",
    "        self.data_mean = nn.Parameter(data = data_mean, requires_grad = False)\n",
    "    def forward(self,X):\n",
    "        x_mean_cons = torch.abs(torch.sum(X)-X.size()[1]*(self.data_mean))<=torch.abs(0.01*X.size()[1]*self.data_mean)\n",
    "        return (torch.logical_and(torch.abs(torch.sum((X-self.data_mean)*(X-self.data_mean))-self.w*(X.size()[1]-1))<=torch.abs(0.01*self.w*(X.size()[1]-1)),x_mean_cons ),self.w)\n",
    "\n",
    "\n",
    "prover_gen_settings([data_path], comb_data_path, prover_model,prover_model_path, \"default\", \"resources\", settings_path)"
   ]
  },
  {
   "cell_type": "code",
   "execution_count": 35,
   "metadata": {},
   "outputs": [
    {
     "name": "stdout",
     "output_type": "stream",
     "text": [
      "==== setting up ezkl ====\n"
     ]
    },
    {
     "name": "stderr",
     "output_type": "stream",
     "text": [
      "spawning module 0\n",
      "spawning module 2\n",
      "spawning module 0\n",
      "spawning module 2\n"
     ]
    },
    {
     "name": "stdout",
     "output_type": "stream",
     "text": [
      "Time setup: 4.619431257247925 seconds\n",
      "=======================================\n",
      "Theory output:  tensor(212.5777)\n",
      "==== Generating Witness ====\n",
      "witness boolean:  1.0\n",
      "witness result 1 : 212.5\n",
      "==== Generating Proof ====\n"
     ]
    },
    {
     "name": "stderr",
     "output_type": "stream",
     "text": [
      "spawning module 0\n",
      "spawning module 2\n"
     ]
    },
    {
     "name": "stdout",
     "output_type": "stream",
     "text": [
      "proof:  {'instances': [[[12907834141446617622, 16863260785082668294, 2215826187815521673, 2191547160659437828], [12436184717236109307, 3962172157175319849, 7381016538464732718, 1011752739694698287], [14958435514946940528, 17320992765071788231, 18318297740500540397, 2188255106962760522]]], 'proof': '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', 'transcript_type': 'EVM'}\n",
      "Time gen prf: 3.4878621101379395 seconds\n"
     ]
    }
   ],
   "source": [
    "# Here verifier & prover can concurrently call setup since all params are public to get pk. \n",
    "# Here write as verifier function to emphasize that verifier must calculate its own vk to be sure\n",
    "verifier_setup(verifier_model_path, verifier_compiled_model_path, settings_path, srs_path,vk_path, pk_path )\n",
    "\n",
    "print(\"=======================================\")\n",
    "# Prover generates proof\n",
    "print(\"Theory output: \", theory_output)\n",
    "prover_gen_proof(prover_model_path, comb_data_path, witness_path, prover_compiled_model_path, settings_path, proof_path, pk_path, srs_path)"
   ]
  },
  {
   "cell_type": "code",
   "execution_count": 36,
   "metadata": {},
   "outputs": [
    {
     "name": "stdout",
     "output_type": "stream",
     "text": [
      "num_inputs:  1\n",
      "prf instances:  [[[12907834141446617622, 16863260785082668294, 2215826187815521673, 2191547160659437828], [12436184717236109307, 3962172157175319849, 7381016538464732718, 1011752739694698287], [14958435514946940528, 17320992765071788231, 18318297740500540397, 2188255106962760522]]]\n",
      "proof boolean:  1.0\n",
      "proof result 1 : 212.5\n",
      "verified\n"
     ]
    }
   ],
   "source": [
    "# Verifier verifies\n",
    "verifier_verify(proof_path, settings_path, vk_path, srs_path)"
   ]
  },
  {
   "cell_type": "code",
   "execution_count": null,
   "metadata": {},
   "outputs": [],
   "source": []
  }
 ],
 "metadata": {
  "kernelspec": {
   "display_name": "Python 3",
   "language": "python",
   "name": "python3"
  },
  "language_info": {
   "codemirror_mode": {
    "name": "ipython",
    "version": 3
   },
   "file_extension": ".py",
   "mimetype": "text/x-python",
   "name": "python",
   "nbconvert_exporter": "python",
   "pygments_lexer": "ipython3",
   "version": "3.10.0"
  },
  "orig_nbformat": 4
 },
 "nbformat": 4,
 "nbformat_minor": 2
}
