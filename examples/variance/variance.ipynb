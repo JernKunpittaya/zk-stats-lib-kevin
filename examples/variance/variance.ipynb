{
 "cells": [
  {
   "cell_type": "code",
   "execution_count": 1,
   "metadata": {},
   "outputs": [
    {
     "name": "stdout",
     "output_type": "stream",
     "text": [
      "Requirement already satisfied: ezkl==7.0.0 in /Users/jernkun/Library/Caches/pypoetry/virtualenvs/zkstats-OJpceffF-py3.11/lib/python3.11/site-packages (from -r ../../requirements.txt (line 1)) (7.0.0)\n",
      "Requirement already satisfied: torch in /Users/jernkun/Library/Caches/pypoetry/virtualenvs/zkstats-OJpceffF-py3.11/lib/python3.11/site-packages (from -r ../../requirements.txt (line 2)) (2.2.0)\n",
      "Requirement already satisfied: requests in /Users/jernkun/Library/Caches/pypoetry/virtualenvs/zkstats-OJpceffF-py3.11/lib/python3.11/site-packages (from -r ../../requirements.txt (line 3)) (2.31.0)\n",
      "Requirement already satisfied: scipy in /Users/jernkun/Library/Caches/pypoetry/virtualenvs/zkstats-OJpceffF-py3.11/lib/python3.11/site-packages (from -r ../../requirements.txt (line 4)) (1.12.0)\n",
      "Requirement already satisfied: numpy in /Users/jernkun/Library/Caches/pypoetry/virtualenvs/zkstats-OJpceffF-py3.11/lib/python3.11/site-packages (from -r ../../requirements.txt (line 5)) (1.26.3)\n",
      "Requirement already satisfied: matplotlib in /Users/jernkun/Library/Caches/pypoetry/virtualenvs/zkstats-OJpceffF-py3.11/lib/python3.11/site-packages (from -r ../../requirements.txt (line 6)) (3.8.2)\n",
      "Requirement already satisfied: statistics in /Users/jernkun/Library/Caches/pypoetry/virtualenvs/zkstats-OJpceffF-py3.11/lib/python3.11/site-packages (from -r ../../requirements.txt (line 7)) (1.0.3.5)\n",
      "Requirement already satisfied: onnx in /Users/jernkun/Library/Caches/pypoetry/virtualenvs/zkstats-OJpceffF-py3.11/lib/python3.11/site-packages (from -r ../../requirements.txt (line 8)) (1.15.0)\n",
      "Requirement already satisfied: filelock in /Users/jernkun/Library/Caches/pypoetry/virtualenvs/zkstats-OJpceffF-py3.11/lib/python3.11/site-packages (from torch->-r ../../requirements.txt (line 2)) (3.13.1)\n",
      "Requirement already satisfied: typing-extensions>=4.8.0 in /Users/jernkun/Library/Caches/pypoetry/virtualenvs/zkstats-OJpceffF-py3.11/lib/python3.11/site-packages (from torch->-r ../../requirements.txt (line 2)) (4.9.0)\n",
      "Requirement already satisfied: sympy in /Users/jernkun/Library/Caches/pypoetry/virtualenvs/zkstats-OJpceffF-py3.11/lib/python3.11/site-packages (from torch->-r ../../requirements.txt (line 2)) (1.12)\n",
      "Requirement already satisfied: networkx in /Users/jernkun/Library/Caches/pypoetry/virtualenvs/zkstats-OJpceffF-py3.11/lib/python3.11/site-packages (from torch->-r ../../requirements.txt (line 2)) (3.2.1)\n",
      "Requirement already satisfied: jinja2 in /Users/jernkun/Library/Caches/pypoetry/virtualenvs/zkstats-OJpceffF-py3.11/lib/python3.11/site-packages (from torch->-r ../../requirements.txt (line 2)) (3.1.3)\n",
      "Requirement already satisfied: fsspec in /Users/jernkun/Library/Caches/pypoetry/virtualenvs/zkstats-OJpceffF-py3.11/lib/python3.11/site-packages (from torch->-r ../../requirements.txt (line 2)) (2023.12.2)\n",
      "Requirement already satisfied: charset-normalizer<4,>=2 in /Users/jernkun/Library/Caches/pypoetry/virtualenvs/zkstats-OJpceffF-py3.11/lib/python3.11/site-packages (from requests->-r ../../requirements.txt (line 3)) (3.3.2)\n",
      "Requirement already satisfied: idna<4,>=2.5 in /Users/jernkun/Library/Caches/pypoetry/virtualenvs/zkstats-OJpceffF-py3.11/lib/python3.11/site-packages (from requests->-r ../../requirements.txt (line 3)) (3.6)\n",
      "Requirement already satisfied: urllib3<3,>=1.21.1 in /Users/jernkun/Library/Caches/pypoetry/virtualenvs/zkstats-OJpceffF-py3.11/lib/python3.11/site-packages (from requests->-r ../../requirements.txt (line 3)) (2.2.0)\n",
      "Requirement already satisfied: certifi>=2017.4.17 in /Users/jernkun/Library/Caches/pypoetry/virtualenvs/zkstats-OJpceffF-py3.11/lib/python3.11/site-packages (from requests->-r ../../requirements.txt (line 3)) (2024.2.2)\n",
      "Requirement already satisfied: contourpy>=1.0.1 in /Users/jernkun/Library/Caches/pypoetry/virtualenvs/zkstats-OJpceffF-py3.11/lib/python3.11/site-packages (from matplotlib->-r ../../requirements.txt (line 6)) (1.2.0)\n",
      "Requirement already satisfied: cycler>=0.10 in /Users/jernkun/Library/Caches/pypoetry/virtualenvs/zkstats-OJpceffF-py3.11/lib/python3.11/site-packages (from matplotlib->-r ../../requirements.txt (line 6)) (0.12.1)\n",
      "Requirement already satisfied: fonttools>=4.22.0 in /Users/jernkun/Library/Caches/pypoetry/virtualenvs/zkstats-OJpceffF-py3.11/lib/python3.11/site-packages (from matplotlib->-r ../../requirements.txt (line 6)) (4.47.2)\n",
      "Requirement already satisfied: kiwisolver>=1.3.1 in /Users/jernkun/Library/Caches/pypoetry/virtualenvs/zkstats-OJpceffF-py3.11/lib/python3.11/site-packages (from matplotlib->-r ../../requirements.txt (line 6)) (1.4.5)\n",
      "Requirement already satisfied: packaging>=20.0 in /Users/jernkun/Library/Caches/pypoetry/virtualenvs/zkstats-OJpceffF-py3.11/lib/python3.11/site-packages (from matplotlib->-r ../../requirements.txt (line 6)) (23.2)\n",
      "Requirement already satisfied: pillow>=8 in /Users/jernkun/Library/Caches/pypoetry/virtualenvs/zkstats-OJpceffF-py3.11/lib/python3.11/site-packages (from matplotlib->-r ../../requirements.txt (line 6)) (10.2.0)\n",
      "Requirement already satisfied: pyparsing>=2.3.1 in /Users/jernkun/Library/Caches/pypoetry/virtualenvs/zkstats-OJpceffF-py3.11/lib/python3.11/site-packages (from matplotlib->-r ../../requirements.txt (line 6)) (3.1.1)\n",
      "Requirement already satisfied: python-dateutil>=2.7 in /Users/jernkun/Library/Caches/pypoetry/virtualenvs/zkstats-OJpceffF-py3.11/lib/python3.11/site-packages (from matplotlib->-r ../../requirements.txt (line 6)) (2.8.2)\n",
      "Requirement already satisfied: docutils>=0.3 in /Users/jernkun/Library/Caches/pypoetry/virtualenvs/zkstats-OJpceffF-py3.11/lib/python3.11/site-packages (from statistics->-r ../../requirements.txt (line 7)) (0.20.1)\n",
      "Requirement already satisfied: protobuf>=3.20.2 in /Users/jernkun/Library/Caches/pypoetry/virtualenvs/zkstats-OJpceffF-py3.11/lib/python3.11/site-packages (from onnx->-r ../../requirements.txt (line 8)) (4.25.2)\n",
      "Requirement already satisfied: six>=1.5 in /Users/jernkun/Library/Caches/pypoetry/virtualenvs/zkstats-OJpceffF-py3.11/lib/python3.11/site-packages (from python-dateutil>=2.7->matplotlib->-r ../../requirements.txt (line 6)) (1.16.0)\n",
      "Requirement already satisfied: MarkupSafe>=2.0 in /Users/jernkun/Library/Caches/pypoetry/virtualenvs/zkstats-OJpceffF-py3.11/lib/python3.11/site-packages (from jinja2->torch->-r ../../requirements.txt (line 2)) (2.1.4)\n",
      "Requirement already satisfied: mpmath>=0.19 in /Users/jernkun/Library/Caches/pypoetry/virtualenvs/zkstats-OJpceffF-py3.11/lib/python3.11/site-packages (from sympy->torch->-r ../../requirements.txt (line 2)) (1.3.0)\n",
      "\n",
      "\u001b[1m[\u001b[0m\u001b[34;49mnotice\u001b[0m\u001b[1;39;49m]\u001b[0m\u001b[39;49m A new release of pip is available: \u001b[0m\u001b[31;49m23.2.1\u001b[0m\u001b[39;49m -> \u001b[0m\u001b[32;49m24.0\u001b[0m\n",
      "\u001b[1m[\u001b[0m\u001b[34;49mnotice\u001b[0m\u001b[1;39;49m]\u001b[0m\u001b[39;49m To update, run: \u001b[0m\u001b[32;49mpip install --upgrade pip\u001b[0m\n",
      "Note: you may need to restart the kernel to use updated packages.\n"
     ]
    }
   ],
   "source": [
    "pip install -r ../../requirements.txt"
   ]
  },
  {
   "cell_type": "code",
   "execution_count": 2,
   "metadata": {},
   "outputs": [],
   "source": [
    "import ezkl\n",
    "import torch\n",
    "from torch import nn\n",
    "import json\n",
    "import os\n",
    "import time\n",
    "import scipy\n",
    "import numpy as np\n",
    "import matplotlib.pyplot as plt\n",
    "import statistics\n",
    "import math"
   ]
  },
  {
   "cell_type": "code",
   "execution_count": 3,
   "metadata": {},
   "outputs": [],
   "source": [
    "from zkstats.core import create_dummy, verifier_define_calculation, prover_gen_settings, setup, prover_gen_proof, verifier_verify, get_data_commitment_maps"
   ]
  },
  {
   "cell_type": "code",
   "execution_count": 4,
   "metadata": {},
   "outputs": [],
   "source": [
    "# init path\n",
    "os.makedirs(os.path.dirname('shared/'), exist_ok=True)\n",
    "os.makedirs(os.path.dirname('prover/'), exist_ok=True)\n",
    "verifier_model_path = os.path.join('shared/verifier.onnx')\n",
    "prover_model_path = os.path.join('prover/prover.onnx')\n",
    "verifier_compiled_model_path = os.path.join('shared/verifier.compiled')\n",
    "prover_compiled_model_path = os.path.join('prover/prover.compiled')\n",
    "pk_path = os.path.join('shared/test.pk')\n",
    "vk_path = os.path.join('shared/test.vk')\n",
    "proof_path = os.path.join('shared/test.pf')\n",
    "settings_path = os.path.join('shared/settings.json')\n",
    "srs_path = os.path.join('shared/kzg.srs')\n",
    "witness_path = os.path.join('prover/witness.json')\n",
    "# this is private to prover since it contains actual data\n",
    "sel_data_path = os.path.join('prover/sel_data.json')\n",
    "# this is just dummy random value\n",
    "sel_dummy_data_path = os.path.join('shared/sel_dummy_data.json')"
   ]
  },
  {
   "attachments": {},
   "cell_type": "markdown",
   "metadata": {},
   "source": [
    "=======================  ZK-STATS FLOW ======================="
   ]
  },
  {
   "cell_type": "code",
   "execution_count": 5,
   "metadata": {},
   "outputs": [],
   "source": [
    "data_path = os.path.join('data.json')\n",
    "dummy_data_path = os.path.join('shared/dummy_data.json')\n",
    "create_dummy(data_path, dummy_data_path)"
   ]
  },
  {
   "cell_type": "code",
   "execution_count": 6,
   "metadata": {},
   "outputs": [],
   "source": [
    "scales = [2]\n",
    "selected_columns = ['col_name']\n",
    "commitment_maps = get_data_commitment_maps(data_path, scales)"
   ]
  },
  {
   "cell_type": "code",
   "execution_count": 7,
   "metadata": {},
   "outputs": [
    {
     "name": "stderr",
     "output_type": "stream",
     "text": [
      "/Users/jernkun/Desktop/zk-stats-lib/zkstats/computation.py:166: TracerWarning: torch.tensor results are registered as constants in the trace. You can safely ignore this warning if you use this function to create tensors out of constant variables that would be the same every time you call this function. In any other case, this might cause the trace to be incorrect.\n",
      "  is_precise_aggregated = torch.tensor(1.0)\n",
      "/Users/jernkun/Library/Caches/pypoetry/virtualenvs/zkstats-OJpceffF-py3.11/lib/python3.11/site-packages/torch/onnx/symbolic_opset9.py:2174: FutureWarning: 'torch.onnx.symbolic_opset9._cast_Bool' is deprecated in version 2.0 and will be removed in the future. Please Avoid using this function and create a Cast node instead.\n",
      "  return fn(g, to_cast_func(g, input, False), to_cast_func(g, other, False))\n"
     ]
    }
   ],
   "source": [
    "# Verifier/ data consumer side: send desired calculation\n",
    "from zkstats.computation import computation_to_model, State\n",
    "\n",
    "\n",
    "def computation(s: State, data: list[torch.Tensor]) -> torch.Tensor:\n",
    "    x = data[0]\n",
    "    return s.variance(x)\n",
    "\n",
    "error = 0.01\n",
    "_, verifier_model = computation_to_model(computation, error)\n",
    "\n",
    "verifier_define_calculation(dummy_data_path, selected_columns, sel_dummy_data_path, verifier_model, verifier_model_path)"
   ]
  },
  {
   "cell_type": "code",
   "execution_count": 8,
   "metadata": {},
   "outputs": [
    {
     "name": "stdout",
     "output_type": "stream",
     "text": [
      "==== Generate & Calibrate Setting ====\n",
      "scale:  [2]\n",
      "setting:  {\"run_args\":{\"tolerance\":{\"val\":0.0,\"scale\":1.0},\"input_scale\":2,\"param_scale\":2,\"scale_rebase_multiplier\":10,\"lookup_range\":[-20332,8],\"logrows\":15,\"num_inner_cols\":2,\"variables\":[[\"batch_size\",1]],\"input_visibility\":{\"Hashed\":{\"hash_is_public\":true,\"outlets\":[]}},\"output_visibility\":\"Public\",\"param_visibility\":\"Private\"},\"num_rows\":14432,\"total_assignments\":1519,\"total_const_size\":8,\"model_instance_shapes\":[[1],[1]],\"model_output_scales\":[0,2],\"model_input_scales\":[2],\"module_sizes\":{\"kzg\":[],\"poseidon\":[14432,[1]],\"elgamal\":[0,[0]]},\"required_lookups\":[\"Abs\",{\"GreaterThan\":{\"a\":0.0}}],\"check_mode\":\"UNSAFE\",\"version\":\"7.0.0\",\"num_blinding_factors\":null}\n"
     ]
    }
   ],
   "source": [
    "# Prover/ data owner side\n",
    "_, prover_model = computation_to_model(computation, error)\n",
    "\n",
    "prover_gen_settings(data_path, selected_columns, sel_data_path, prover_model,prover_model_path, scales, \"resources\", settings_path)"
   ]
  },
  {
   "cell_type": "code",
   "execution_count": 9,
   "metadata": {},
   "outputs": [
    {
     "name": "stderr",
     "output_type": "stream",
     "text": [
      "spawning module 0\n",
      "spawning module 2\n"
     ]
    },
    {
     "name": "stdout",
     "output_type": "stream",
     "text": [
      "==== setting up ezkl ====\n"
     ]
    },
    {
     "name": "stderr",
     "output_type": "stream",
     "text": [
      "spawning module 0\n",
      "spawning module 2\n"
     ]
    },
    {
     "name": "stdout",
     "output_type": "stream",
     "text": [
      "Time setup: 3.293224334716797 seconds\n",
      "=======================================\n",
      "==== Generating Witness ====\n",
      "witness boolean:  1.0\n",
      "witness result 1 : 212.5\n",
      "==== Generating Proof ====\n"
     ]
    },
    {
     "name": "stderr",
     "output_type": "stream",
     "text": [
      "spawning module 0\n",
      "spawning module 2\n"
     ]
    },
    {
     "name": "stdout",
     "output_type": "stream",
     "text": [
      "proof:  {'instances': [[[12907834141446617622, 16863260785082668294, 2215826187815521673, 2191547160659437828], [12436184717236109307, 3962172157175319849, 7381016538464732718, 1011752739694698287], [14958435514946940528, 17320992765071788231, 18318297740500540397, 2188255106962760522]]], 'proof': '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', 'transcript_type': 'EVM'}\n",
      "Time gen prf: 4.451239824295044 seconds\n"
     ]
    }
   ],
   "source": [
    "# Here verifier & prover can concurrently call setup since all params are public to get pk.\n",
    "# Here write as verifier function to emphasize that verifier must calculate its own vk to be sure\n",
    "setup(verifier_model_path, verifier_compiled_model_path, settings_path,vk_path, pk_path )\n",
    "\n",
    "print(\"=======================================\")\n",
    "# Prover generates proof\n",
    "prover_gen_proof(prover_model_path, sel_data_path, witness_path, prover_compiled_model_path, settings_path, proof_path, pk_path)"
   ]
  },
  {
   "cell_type": "code",
   "execution_count": 10,
   "metadata": {},
   "outputs": [
    {
     "name": "stdout",
     "output_type": "stream",
     "text": [
      "Verifier gets result: 212.5\n"
     ]
    }
   ],
   "source": [
    "# Verifier verifies\n",
    "res = verifier_verify(proof_path, settings_path, vk_path, selected_columns, commitment_maps)\n",
    "print(\"Verifier gets result:\", res)"
   ]
  },
  {
   "cell_type": "code",
   "execution_count": null,
   "metadata": {},
   "outputs": [],
   "source": []
  }
 ],
 "metadata": {
  "kernelspec": {
   "display_name": "Python 3",
   "language": "python",
   "name": "python3"
  },
  "language_info": {
   "codemirror_mode": {
    "name": "ipython",
    "version": 3
   },
   "file_extension": ".py",
   "mimetype": "text/x-python",
   "name": "python",
   "nbconvert_exporter": "python",
   "pygments_lexer": "ipython3",
   "version": "3.11.4"
  },
  "orig_nbformat": 4
 },
 "nbformat": 4,
 "nbformat_minor": 2
}
