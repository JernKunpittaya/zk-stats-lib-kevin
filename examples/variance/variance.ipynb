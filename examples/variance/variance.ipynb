{
 "cells": [
  {
   "cell_type": "code",
   "execution_count": 1,
   "metadata": {},
   "outputs": [],
   "source": [
    "import ezkl\n",
    "import torch\n",
    "from torch import nn\n",
    "import json\n",
    "import os\n",
    "import time\n",
    "import scipy\n",
    "import numpy as np\n",
    "import matplotlib.pyplot as plt\n",
    "import statistics\n",
    "import math"
   ]
  },
  {
   "cell_type": "code",
   "execution_count": 2,
   "metadata": {},
   "outputs": [],
   "source": [
    "from zkstats.core import create_dummy, verifier_define_calculation, prover_gen_settings, setup, prover_gen_proof, verifier_verify, generate_data_commitment"
   ]
  },
  {
   "cell_type": "code",
   "execution_count": 3,
   "metadata": {},
   "outputs": [],
   "source": [
    "# init path\n",
    "os.makedirs(os.path.dirname('shared/'), exist_ok=True)\n",
    "os.makedirs(os.path.dirname('prover/'), exist_ok=True)\n",
    "verifier_model_path = os.path.join('shared/verifier.onnx')\n",
    "prover_model_path = os.path.join('prover/prover.onnx')\n",
    "verifier_compiled_model_path = os.path.join('shared/verifier.compiled')\n",
    "prover_compiled_model_path = os.path.join('prover/prover.compiled')\n",
    "pk_path = os.path.join('shared/test.pk')\n",
    "vk_path = os.path.join('shared/test.vk')\n",
    "proof_path = os.path.join('shared/test.pf')\n",
    "settings_path = os.path.join('shared/settings.json')\n",
    "srs_path = os.path.join('shared/kzg.srs')\n",
    "witness_path = os.path.join('prover/witness.json')\n",
    "# this is private to prover since it contains actual data\n",
    "sel_data_path = os.path.join('prover/sel_data.json')\n",
    "# this is just dummy random value\n",
    "sel_dummy_data_path = os.path.join('shared/sel_dummy_data.json')\n",
    "data_commitment_path = os.path.join('shared/data_commitment.json')"
   ]
  },
  {
   "attachments": {},
   "cell_type": "markdown",
   "metadata": {},
   "source": [
    "=======================  ZK-STATS FLOW ======================="
   ]
  },
  {
   "cell_type": "code",
   "execution_count": 4,
   "metadata": {},
   "outputs": [],
   "source": [
    "data_path = os.path.join('data.json')\n",
    "dummy_data_path = os.path.join('shared/dummy_data.json')\n",
    "create_dummy(data_path, dummy_data_path)"
   ]
  },
  {
   "cell_type": "code",
   "execution_count": 5,
   "metadata": {},
   "outputs": [],
   "source": [
    "scales = [2]\n",
    "selected_columns = ['col_name']\n",
    "generate_data_commitment(data_path, scales, data_commitment_path)"
   ]
  },
  {
   "cell_type": "code",
   "execution_count": 6,
   "metadata": {},
   "outputs": [
    {
     "name": "stderr",
     "output_type": "stream",
     "text": [
      "/Users/jernkun/Desktop/zk-stats-lib/zkstats/computation.py:172: TracerWarning: torch.tensor results are registered as constants in the trace. You can safely ignore this warning if you use this function to create tensors out of constant variables that would be the same every time you call this function. In any other case, this might cause the trace to be incorrect.\n",
      "  is_precise_aggregated = torch.tensor(1.0)\n",
      "/Users/jernkun/Library/Caches/pypoetry/virtualenvs/zkstats-OJpceffF-py3.11/lib/python3.11/site-packages/torch/onnx/symbolic_opset9.py:2174: FutureWarning: 'torch.onnx.symbolic_opset9._cast_Bool' is deprecated in version 2.0 and will be removed in the future. Please Avoid using this function and create a Cast node instead.\n",
      "  return fn(g, to_cast_func(g, input, False), to_cast_func(g, other, False))\n",
      "/Users/jernkun/Library/Caches/pypoetry/virtualenvs/zkstats-OJpceffF-py3.11/lib/python3.11/site-packages/torch/onnx/utils.py:1703: UserWarning: The exported ONNX model failed ONNX shape inference. The model will not be executable by the ONNX Runtime. If this is unintended and you believe there is a bug, please report an issue at https://github.com/pytorch/pytorch/issues. Error reported by strict ONNX shape inference: [ShapeInferenceError] (op_type:Where, node name: /Where): Y has inconsistent type tensor(float) (Triggered internally at /Users/runner/work/pytorch/pytorch/pytorch/torch/csrc/jit/serialization/export.cpp:1490.)\n",
      "  _C._check_onnx_proto(proto)\n"
     ]
    }
   ],
   "source": [
    "# Verifier/ data consumer side: send desired calculation\n",
    "from zkstats.computation import computation_to_model, State\n",
    "\n",
    "\n",
    "def computation(s: State, data: list[torch.Tensor]) -> torch.Tensor:\n",
    "    x = data[0]\n",
    "    return s.variance(x)\n",
    "\n",
    "error = 0.01\n",
    "_, verifier_model = computation_to_model(computation, error)\n",
    "\n",
    "verifier_define_calculation(dummy_data_path, selected_columns, sel_dummy_data_path, verifier_model, verifier_model_path)"
   ]
  },
  {
   "cell_type": "code",
   "execution_count": 7,
   "metadata": {},
   "outputs": [
    {
     "name": "stderr",
     "output_type": "stream",
     "text": [
      "\n",
      "\n",
      " <------------- Numerical Fidelity Report (input_scale: 2, param_scale: 2, scale_input_multiplier: 1) ------------->\n",
      "\n",
      "+-------------+--------------+-------------+-----------+----------------+------------------+---------------+---------------+--------------------+--------------------+------------------------+\n",
      "| mean_error  | median_error | max_error   | min_error | mean_abs_error | median_abs_error | max_abs_error | min_abs_error | mean_squared_error | mean_percent_error | mean_abs_percent_error |\n",
      "+-------------+--------------+-------------+-----------+----------------+------------------+---------------+---------------+--------------------+--------------------+------------------------+\n",
      "| 0.038848877 | 0.077697754  | 0.077697754 | 0         | 0.038848877    | 0.077697754      | 0.077697754   | 0             | 0.0030184705       | 0.00018275142      | 0.00018275142          |\n",
      "+-------------+--------------+-------------+-----------+----------------+------------------+---------------+---------------+--------------------+--------------------+------------------------+\n",
      "\n",
      "\n"
     ]
    },
    {
     "name": "stdout",
     "output_type": "stream",
     "text": [
      "==== Generate & Calibrate Setting ====\n",
      "scale:  [2]\n",
      "setting:  {\"run_args\":{\"tolerance\":{\"val\":0.0,\"scale\":1.0},\"input_scale\":2,\"param_scale\":2,\"scale_rebase_multiplier\":1,\"lookup_range\":[-5194,5382],\"logrows\":14,\"num_inner_cols\":2,\"variables\":[[\"batch_size\",1]],\"input_visibility\":{\"Hashed\":{\"hash_is_public\":true,\"outlets\":[]}},\"output_visibility\":\"Public\",\"param_visibility\":\"Private\",\"div_rebasing\":false,\"rebase_frac_zero_constants\":false,\"check_mode\":\"UNSAFE\"},\"num_rows\":14432,\"total_assignments\":9944,\"total_const_size\":2118,\"model_instance_shapes\":[[1],[1]],\"model_output_scales\":[0,2],\"model_input_scales\":[2],\"module_sizes\":{\"kzg\":[],\"poseidon\":[14432,[1]]},\"required_lookups\":[{\"GreaterThan\":{\"a\":0.0}},\"Abs\"],\"required_range_checks\":[[-2,2]],\"check_mode\":\"UNSAFE\",\"version\":\"9.1.0\",\"num_blinding_factors\":null,\"timestamp\":1709726342062}\n"
     ]
    }
   ],
   "source": [
    "# Prover/ data owner side\n",
    "_, prover_model = computation_to_model(computation, error)\n",
    "\n",
    "prover_gen_settings(data_path, selected_columns, sel_data_path, prover_model,prover_model_path, scales, \"resources\", settings_path)"
   ]
  },
  {
   "cell_type": "code",
   "execution_count": 8,
   "metadata": {},
   "outputs": [
    {
     "name": "stdout",
     "output_type": "stream",
     "text": [
      "==== setting up ezkl ====\n",
      "Time setup: 1.7752339839935303 seconds\n",
      "=======================================\n",
      "==== Generating Witness ====\n",
      "witness boolean:  1.0\n",
      "witness result 1 : 212.5\n",
      "==== Generating Proof ====\n",
      "proof:  {'instances': [['31220e5513f6e9b7d0f59d8f019cd197642a431b2136f0311abf6046c9006227', '0100000000000000000000000000000000000000000000000000000000000000', '5203000000000000000000000000000000000000000000000000000000000000']], 'proof': '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', 'transcript_type': 'EVM'}\n",
      "Time gen prf: 2.364812135696411 seconds\n"
     ]
    }
   ],
   "source": [
    "# Here verifier & prover can concurrently call setup since all params are public to get pk.\n",
    "# Here write as verifier function to emphasize that verifier must calculate its own vk to be sure\n",
    "setup(verifier_model_path, verifier_compiled_model_path, settings_path,vk_path, pk_path )\n",
    "\n",
    "print(\"=======================================\")\n",
    "# Prover generates proof\n",
    "prover_gen_proof(prover_model_path, sel_data_path, witness_path, prover_compiled_model_path, settings_path, proof_path, pk_path)"
   ]
  },
  {
   "cell_type": "code",
   "execution_count": 9,
   "metadata": {},
   "outputs": [
    {
     "name": "stdout",
     "output_type": "stream",
     "text": [
      "Verifier gets result: [212.5]\n"
     ]
    }
   ],
   "source": [
    "# Verifier verifies\n",
    "res = verifier_verify(proof_path, settings_path, vk_path, selected_columns, data_commitment_path)\n",
    "print(\"Verifier gets result:\", res)"
   ]
  },
  {
   "cell_type": "code",
   "execution_count": null,
   "metadata": {},
   "outputs": [],
   "source": []
  }
 ],
 "metadata": {
  "kernelspec": {
   "display_name": "Python 3",
   "language": "python",
   "name": "python3"
  },
  "language_info": {
   "codemirror_mode": {
    "name": "ipython",
    "version": 3
   },
   "file_extension": ".py",
   "mimetype": "text/x-python",
   "name": "python",
   "nbconvert_exporter": "python",
   "pygments_lexer": "ipython3",
   "version": "3.11.4"
  },
  "orig_nbformat": 4
 },
 "nbformat": 4,
 "nbformat_minor": 2
}
