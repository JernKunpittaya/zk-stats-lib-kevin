{
 "cells": [
  {
   "cell_type": "code",
   "execution_count": 1,
   "metadata": {},
   "outputs": [
    {
     "name": "stdout",
     "output_type": "stream",
     "text": [
      "Requirement already satisfied: ezkl==7.0.0 in /Library/Frameworks/Python.framework/Versions/3.10/lib/python3.10/site-packages (from -r ../../requirements.txt (line 1)) (7.0.0)\n",
      "Requirement already satisfied: torch in /Library/Frameworks/Python.framework/Versions/3.10/lib/python3.10/site-packages (from -r ../../requirements.txt (line 2)) (2.1.1)\n",
      "Requirement already satisfied: requests in /Library/Frameworks/Python.framework/Versions/3.10/lib/python3.10/site-packages (from -r ../../requirements.txt (line 3)) (2.31.0)\n",
      "Requirement already satisfied: scipy in /Library/Frameworks/Python.framework/Versions/3.10/lib/python3.10/site-packages (from -r ../../requirements.txt (line 4)) (1.11.4)\n",
      "Requirement already satisfied: numpy in /Library/Frameworks/Python.framework/Versions/3.10/lib/python3.10/site-packages (from -r ../../requirements.txt (line 5)) (1.26.2)\n",
      "Requirement already satisfied: matplotlib in /Library/Frameworks/Python.framework/Versions/3.10/lib/python3.10/site-packages (from -r ../../requirements.txt (line 6)) (3.8.2)\n",
      "Requirement already satisfied: statistics in /Library/Frameworks/Python.framework/Versions/3.10/lib/python3.10/site-packages (from -r ../../requirements.txt (line 7)) (1.0.3.5)\n",
      "Requirement already satisfied: onnx in /Library/Frameworks/Python.framework/Versions/3.10/lib/python3.10/site-packages (from -r ../../requirements.txt (line 8)) (1.15.0)\n",
      "Requirement already satisfied: filelock in /Library/Frameworks/Python.framework/Versions/3.10/lib/python3.10/site-packages (from torch->-r ../../requirements.txt (line 2)) (3.13.1)\n",
      "Requirement already satisfied: fsspec in /Library/Frameworks/Python.framework/Versions/3.10/lib/python3.10/site-packages (from torch->-r ../../requirements.txt (line 2)) (2023.10.0)\n",
      "Requirement already satisfied: typing-extensions in /Library/Frameworks/Python.framework/Versions/3.10/lib/python3.10/site-packages (from torch->-r ../../requirements.txt (line 2)) (4.8.0)\n",
      "Requirement already satisfied: jinja2 in /Library/Frameworks/Python.framework/Versions/3.10/lib/python3.10/site-packages (from torch->-r ../../requirements.txt (line 2)) (3.1.2)\n",
      "Requirement already satisfied: sympy in /Library/Frameworks/Python.framework/Versions/3.10/lib/python3.10/site-packages (from torch->-r ../../requirements.txt (line 2)) (1.12)\n",
      "Requirement already satisfied: networkx in /Library/Frameworks/Python.framework/Versions/3.10/lib/python3.10/site-packages (from torch->-r ../../requirements.txt (line 2)) (3.2.1)\n",
      "Requirement already satisfied: certifi>=2017.4.17 in /Library/Frameworks/Python.framework/Versions/3.10/lib/python3.10/site-packages (from requests->-r ../../requirements.txt (line 3)) (2023.11.17)\n",
      "Requirement already satisfied: charset-normalizer<4,>=2 in /Library/Frameworks/Python.framework/Versions/3.10/lib/python3.10/site-packages (from requests->-r ../../requirements.txt (line 3)) (3.3.2)\n",
      "Requirement already satisfied: idna<4,>=2.5 in /Library/Frameworks/Python.framework/Versions/3.10/lib/python3.10/site-packages (from requests->-r ../../requirements.txt (line 3)) (3.6)\n",
      "Requirement already satisfied: urllib3<3,>=1.21.1 in /Library/Frameworks/Python.framework/Versions/3.10/lib/python3.10/site-packages (from requests->-r ../../requirements.txt (line 3)) (2.1.0)\n",
      "Requirement already satisfied: contourpy>=1.0.1 in /Library/Frameworks/Python.framework/Versions/3.10/lib/python3.10/site-packages (from matplotlib->-r ../../requirements.txt (line 6)) (1.2.0)\n",
      "Requirement already satisfied: cycler>=0.10 in /Library/Frameworks/Python.framework/Versions/3.10/lib/python3.10/site-packages (from matplotlib->-r ../../requirements.txt (line 6)) (0.12.1)\n",
      "Requirement already satisfied: python-dateutil>=2.7 in /Users/jernkun/Library/Python/3.10/lib/python/site-packages (from matplotlib->-r ../../requirements.txt (line 6)) (2.8.2)\n",
      "Requirement already satisfied: packaging>=20.0 in /Users/jernkun/Library/Python/3.10/lib/python/site-packages (from matplotlib->-r ../../requirements.txt (line 6)) (23.2)\n",
      "Requirement already satisfied: pillow>=8 in /Library/Frameworks/Python.framework/Versions/3.10/lib/python3.10/site-packages (from matplotlib->-r ../../requirements.txt (line 6)) (10.1.0)\n",
      "Requirement already satisfied: kiwisolver>=1.3.1 in /Library/Frameworks/Python.framework/Versions/3.10/lib/python3.10/site-packages (from matplotlib->-r ../../requirements.txt (line 6)) (1.4.5)\n",
      "Requirement already satisfied: fonttools>=4.22.0 in /Library/Frameworks/Python.framework/Versions/3.10/lib/python3.10/site-packages (from matplotlib->-r ../../requirements.txt (line 6)) (4.45.1)\n",
      "Requirement already satisfied: pyparsing>=2.3.1 in /Library/Frameworks/Python.framework/Versions/3.10/lib/python3.10/site-packages (from matplotlib->-r ../../requirements.txt (line 6)) (3.1.1)\n",
      "Requirement already satisfied: docutils>=0.3 in /Library/Frameworks/Python.framework/Versions/3.10/lib/python3.10/site-packages (from statistics->-r ../../requirements.txt (line 7)) (0.20.1)\n",
      "Requirement already satisfied: protobuf>=3.20.2 in /Library/Frameworks/Python.framework/Versions/3.10/lib/python3.10/site-packages (from onnx->-r ../../requirements.txt (line 8)) (4.25.1)\n",
      "Requirement already satisfied: six>=1.5 in /Users/jernkun/Library/Python/3.10/lib/python/site-packages (from python-dateutil>=2.7->matplotlib->-r ../../requirements.txt (line 6)) (1.16.0)\n",
      "Requirement already satisfied: MarkupSafe>=2.0 in /Library/Frameworks/Python.framework/Versions/3.10/lib/python3.10/site-packages (from jinja2->torch->-r ../../requirements.txt (line 2)) (2.1.3)\n",
      "Requirement already satisfied: mpmath>=0.19 in /Library/Frameworks/Python.framework/Versions/3.10/lib/python3.10/site-packages (from sympy->torch->-r ../../requirements.txt (line 2)) (1.3.0)\n",
      "\u001b[33mWARNING: You are using pip version 21.2.3; however, version 23.3.2 is available.\n",
      "You should consider upgrading via the '/usr/local/bin/python3 -m pip install --upgrade pip' command.\u001b[0m\n",
      "Note: you may need to restart the kernel to use updated packages.\n"
     ]
    }
   ],
   "source": [
    "pip install -r ../../requirements.txt"
   ]
  },
  {
   "cell_type": "code",
   "execution_count": 2,
   "metadata": {},
   "outputs": [],
   "source": [
    "import ezkl\n",
    "import torch\n",
    "from torch import nn\n",
    "import json\n",
    "import os\n",
    "import time\n",
    "import scipy\n",
    "import numpy as np\n",
    "import matplotlib.pyplot as plt\n",
    "import statistics\n",
    "import math"
   ]
  },
  {
   "cell_type": "code",
   "execution_count": 3,
   "metadata": {},
   "outputs": [],
   "source": [
    "%run -i ../../zkstats/core.py"
   ]
  },
  {
   "cell_type": "code",
   "execution_count": 4,
   "metadata": {},
   "outputs": [],
   "source": [
    "# init path\n",
    "os.makedirs(os.path.dirname('shared/'), exist_ok=True)\n",
    "os.makedirs(os.path.dirname('prover/'), exist_ok=True)\n",
    "verifier_model_path = os.path.join('shared/verifier.onnx')\n",
    "prover_model_path = os.path.join('prover/prover.onnx')\n",
    "verifier_compiled_model_path = os.path.join('shared/verifier.compiled')\n",
    "prover_compiled_model_path = os.path.join('prover/prover.compiled')\n",
    "pk_path = os.path.join('shared/test.pk')\n",
    "vk_path = os.path.join('shared/test.vk')\n",
    "proof_path = os.path.join('shared/test.pf')\n",
    "settings_path = os.path.join('shared/settings.json')\n",
    "srs_path = os.path.join('shared/kzg.srs')\n",
    "witness_path = os.path.join('prover/witness.json')\n",
    "# this is private to prover since it contains actual data\n",
    "comb_data_path = os.path.join('prover/comb_data.json')"
   ]
  },
  {
   "attachments": {},
   "cell_type": "markdown",
   "metadata": {},
   "source": [
    "=======================  ZK-STATS FLOW ======================="
   ]
  },
  {
   "cell_type": "code",
   "execution_count": 5,
   "metadata": {},
   "outputs": [],
   "source": [
    "data_path = os.path.join('data.json')\n",
    "dummy_data_path = os.path.join('shared/dummy_data.json')\n",
    "\n",
    "f_raw_input = open(data_path, \"r\")\n",
    "data = json.loads(f_raw_input.read())[\"input_data\"][0]\n",
    "data_tensor = torch.reshape(torch.tensor(data),(1, len(data), 1))\n",
    "\n",
    "#  dummy data for data consumer: make the bound approx same as real data\n",
    "dummy_data = np.round(np.random.uniform(1,10,len(data)),1)\n",
    "json.dump({\"input_data\":[dummy_data.tolist()]}, open(dummy_data_path, 'w'))\n",
    "\n",
    "dummy_data_tensor = torch.reshape(torch.tensor(dummy_data), (1, len(dummy_data),1 ))\n",
    "dummy_theory_output = torch.var(dummy_data_tensor, correction = 1)\n",
    "dummy_data_mean = torch.mean(dummy_data_tensor)"
   ]
  },
  {
   "cell_type": "code",
   "execution_count": 6,
   "metadata": {},
   "outputs": [
    {
     "name": "stderr",
     "output_type": "stream",
     "text": [
      "/Library/Frameworks/Python.framework/Versions/3.10/lib/python3.10/site-packages/torch/onnx/symbolic_opset9.py:2174: FutureWarning: 'torch.onnx.symbolic_opset9._cast_Bool' is deprecated in version 2.0 and will be removed in the future. Please Avoid using this function and create a Cast node instead.\n",
      "  return fn(g, to_cast_func(g, input, False), to_cast_func(g, other, False))\n"
     ]
    }
   ],
   "source": [
    "# Verifier/ data consumer side:\n",
    "class verifier_model(nn.Module):\n",
    "    def __init__(self):\n",
    "        super(verifier_model, self).__init__()\n",
    "        # w represents mean in this case\n",
    "        self.w = nn.Parameter(data = dummy_theory_output, requires_grad = False)\n",
    "        self.data_mean = nn.Parameter(data = dummy_data_mean, requires_grad = False)\n",
    "\n",
    "    def forward(self,X):\n",
    "        x_mean_cons = torch.abs(torch.sum(X)-X.size()[1]*(self.data_mean))<=torch.abs(0.01*X.size()[1]*self.data_mean)\n",
    "        return (torch.logical_and(torch.abs(torch.sum((X-self.data_mean)*(X-self.data_mean))-self.w*(X.size()[1]-1))<=torch.abs(0.01*self.w*(X.size()[1]-1)),x_mean_cons ),self.w)\n",
    "\n",
    "verifier_define_calculation(verifier_model, verifier_model_path, [dummy_data_path])"
   ]
  },
  {
   "cell_type": "code",
   "execution_count": 7,
   "metadata": {},
   "outputs": [
    {
     "name": "stdout",
     "output_type": "stream",
     "text": [
      "theory output:  tensor(212.5777)\n",
      "==== Generate & Calibrate Setting ====\n",
      "scale:  [2]\n",
      "setting:  {\"run_args\":{\"tolerance\":{\"val\":0.0,\"scale\":1.0},\"input_scale\":2,\"param_scale\":2,\"scale_rebase_multiplier\":10,\"lookup_range\":[-20332,8],\"logrows\":15,\"num_inner_cols\":2,\"variables\":[[\"batch_size\",1]],\"input_visibility\":{\"Hashed\":{\"hash_is_public\":true,\"outlets\":[]}},\"output_visibility\":\"Public\",\"param_visibility\":\"Private\"},\"num_rows\":14432,\"total_assignments\":1521,\"total_const_size\":8,\"model_instance_shapes\":[[1],[1]],\"model_output_scales\":[0,2],\"model_input_scales\":[2],\"module_sizes\":{\"kzg\":[],\"poseidon\":[14432,[1]],\"elgamal\":[0,[0]]},\"required_lookups\":[\"Abs\",{\"GreaterThan\":{\"a\":0.0}}],\"check_mode\":\"UNSAFE\",\"version\":\"7.0.0\",\"num_blinding_factors\":null}\n"
     ]
    }
   ],
   "source": [
    "# Prover/ data owner side\n",
    "theory_output = torch.var(data_tensor, correction = 1)\n",
    "data_mean = torch.mean(data_tensor)\n",
    "print(\"theory output: \", theory_output)\n",
    "class prover_model(nn.Module):\n",
    "    def __init__(self):\n",
    "        super(prover_model, self).__init__()\n",
    "        # w represents mean in this case\n",
    "        self.w = nn.Parameter(data = theory_output, requires_grad = False)\n",
    "        self.data_mean = nn.Parameter(data = data_mean, requires_grad = False)\n",
    "    def forward(self,X):\n",
    "        x_mean_cons = torch.abs(torch.sum(X)-X.size()[1]*(self.data_mean))<=torch.abs(0.01*X.size()[1]*self.data_mean)\n",
    "        return (torch.logical_and(torch.abs(torch.sum((X-self.data_mean)*(X-self.data_mean))-self.w*(X.size()[1]-1))<=torch.abs(0.01*self.w*(X.size()[1]-1)),x_mean_cons ),self.w)\n",
    "\n",
    "\n",
    "prover_gen_settings([data_path], comb_data_path, prover_model,prover_model_path, [2], \"resources\", settings_path)"
   ]
  },
  {
   "cell_type": "code",
   "execution_count": 8,
   "metadata": {},
   "outputs": [
    {
     "name": "stderr",
     "output_type": "stream",
     "text": [
      "spawning module 0\n",
      "spawning module 2\n",
      "spawning module 0\n"
     ]
    },
    {
     "name": "stdout",
     "output_type": "stream",
     "text": [
      "==== setting up ezkl ====\n"
     ]
    },
    {
     "name": "stderr",
     "output_type": "stream",
     "text": [
      "spawning module 2\n"
     ]
    },
    {
     "name": "stdout",
     "output_type": "stream",
     "text": [
      "Time setup: 3.288594961166382 seconds\n",
      "=======================================\n",
      "Theory output:  tensor(212.5777)\n",
      "!@# compiled_model exists? True\n",
      "!@# compiled_model exists? True\n",
      "==== Generating Witness ====\n",
      "witness boolean:  1.0\n",
      "witness result 1 : 212.5\n",
      "==== Generating Proof ====\n"
     ]
    },
    {
     "name": "stderr",
     "output_type": "stream",
     "text": [
      "spawning module 0\n",
      "spawning module 2\n"
     ]
    },
    {
     "name": "stdout",
     "output_type": "stream",
     "text": [
      "proof:  {'instances': [[[12907834141446617622, 16863260785082668294, 2215826187815521673, 2191547160659437828], [12436184717236109307, 3962172157175319849, 7381016538464732718, 1011752739694698287], [14958435514946940528, 17320992765071788231, 18318297740500540397, 2188255106962760522]]], 'proof': '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', 'transcript_type': 'EVM'}\n",
      "Time gen prf: 4.393862247467041 seconds\n"
     ]
    }
   ],
   "source": [
    "# Here verifier & prover can concurrently call setup since all params are public to get pk. \n",
    "# Here write as verifier function to emphasize that verifier must calculate its own vk to be sure\n",
    "verifier_setup(verifier_model_path, verifier_compiled_model_path, settings_path,vk_path, pk_path )\n",
    "\n",
    "print(\"=======================================\")\n",
    "# Prover generates proof\n",
    "print(\"Theory output: \", theory_output)\n",
    "prover_gen_proof(prover_model_path, comb_data_path, witness_path, prover_compiled_model_path, settings_path, proof_path, pk_path)"
   ]
  },
  {
   "cell_type": "code",
   "execution_count": 9,
   "metadata": {},
   "outputs": [
    {
     "name": "stdout",
     "output_type": "stream",
     "text": [
      "num_inputs:  1\n",
      "prf instances:  [[[12907834141446617622, 16863260785082668294, 2215826187815521673, 2191547160659437828], [12436184717236109307, 3962172157175319849, 7381016538464732718, 1011752739694698287], [14958435514946940528, 17320992765071788231, 18318297740500540397, 2188255106962760522]]]\n",
      "proof boolean:  1.0\n",
      "proof result 1 : 212.5\n",
      "verified\n"
     ]
    }
   ],
   "source": [
    "# Verifier verifies\n",
    "verifier_verify(proof_path, settings_path, vk_path)"
   ]
  },
  {
   "cell_type": "code",
   "execution_count": null,
   "metadata": {},
   "outputs": [],
   "source": []
  }
 ],
 "metadata": {
  "kernelspec": {
   "display_name": "Python 3",
   "language": "python",
   "name": "python3"
  },
  "language_info": {
   "codemirror_mode": {
    "name": "ipython",
    "version": 3
   },
   "file_extension": ".py",
   "mimetype": "text/x-python",
   "name": "python",
   "nbconvert_exporter": "python",
   "pygments_lexer": "ipython3",
   "version": "3.10.0"
  },
  "orig_nbformat": 4
 },
 "nbformat": 4,
 "nbformat_minor": 2
}
