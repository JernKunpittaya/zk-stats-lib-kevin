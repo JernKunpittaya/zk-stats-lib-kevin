{
 "cells": [
  {
   "cell_type": "code",
   "execution_count": 1,
   "metadata": {},
   "outputs": [
    {
     "name": "stdout",
     "output_type": "stream",
     "text": [
      "Requirement already satisfied: ezkl==5.0.8 in /Library/Frameworks/Python.framework/Versions/3.10/lib/python3.10/site-packages (from -r ../../requirements.txt (line 1)) (5.0.8)\n",
      "Requirement already satisfied: torch in /Library/Frameworks/Python.framework/Versions/3.10/lib/python3.10/site-packages (from -r ../../requirements.txt (line 2)) (2.1.1)\n",
      "Requirement already satisfied: requests in /Library/Frameworks/Python.framework/Versions/3.10/lib/python3.10/site-packages (from -r ../../requirements.txt (line 3)) (2.31.0)\n",
      "Requirement already satisfied: scipy in /Library/Frameworks/Python.framework/Versions/3.10/lib/python3.10/site-packages (from -r ../../requirements.txt (line 4)) (1.11.4)\n",
      "Requirement already satisfied: numpy in /Library/Frameworks/Python.framework/Versions/3.10/lib/python3.10/site-packages (from -r ../../requirements.txt (line 5)) (1.26.2)\n",
      "Requirement already satisfied: matplotlib in /Library/Frameworks/Python.framework/Versions/3.10/lib/python3.10/site-packages (from -r ../../requirements.txt (line 6)) (3.8.2)\n",
      "Requirement already satisfied: statistics in /Library/Frameworks/Python.framework/Versions/3.10/lib/python3.10/site-packages (from -r ../../requirements.txt (line 7)) (1.0.3.5)\n",
      "Requirement already satisfied: onnx in /Library/Frameworks/Python.framework/Versions/3.10/lib/python3.10/site-packages (from -r ../../requirements.txt (line 8)) (1.15.0)\n",
      "Requirement already satisfied: filelock in /Library/Frameworks/Python.framework/Versions/3.10/lib/python3.10/site-packages (from torch->-r ../../requirements.txt (line 2)) (3.13.1)\n",
      "Requirement already satisfied: networkx in /Library/Frameworks/Python.framework/Versions/3.10/lib/python3.10/site-packages (from torch->-r ../../requirements.txt (line 2)) (3.2.1)\n",
      "Requirement already satisfied: fsspec in /Library/Frameworks/Python.framework/Versions/3.10/lib/python3.10/site-packages (from torch->-r ../../requirements.txt (line 2)) (2023.10.0)\n",
      "Requirement already satisfied: sympy in /Library/Frameworks/Python.framework/Versions/3.10/lib/python3.10/site-packages (from torch->-r ../../requirements.txt (line 2)) (1.12)\n",
      "Requirement already satisfied: typing-extensions in /Library/Frameworks/Python.framework/Versions/3.10/lib/python3.10/site-packages (from torch->-r ../../requirements.txt (line 2)) (4.8.0)\n",
      "Requirement already satisfied: jinja2 in /Library/Frameworks/Python.framework/Versions/3.10/lib/python3.10/site-packages (from torch->-r ../../requirements.txt (line 2)) (3.1.2)\n",
      "Requirement already satisfied: urllib3<3,>=1.21.1 in /Library/Frameworks/Python.framework/Versions/3.10/lib/python3.10/site-packages (from requests->-r ../../requirements.txt (line 3)) (2.1.0)\n",
      "Requirement already satisfied: certifi>=2017.4.17 in /Library/Frameworks/Python.framework/Versions/3.10/lib/python3.10/site-packages (from requests->-r ../../requirements.txt (line 3)) (2023.11.17)\n",
      "Requirement already satisfied: charset-normalizer<4,>=2 in /Library/Frameworks/Python.framework/Versions/3.10/lib/python3.10/site-packages (from requests->-r ../../requirements.txt (line 3)) (3.3.2)\n",
      "Requirement already satisfied: idna<4,>=2.5 in /Library/Frameworks/Python.framework/Versions/3.10/lib/python3.10/site-packages (from requests->-r ../../requirements.txt (line 3)) (3.6)\n",
      "Requirement already satisfied: cycler>=0.10 in /Library/Frameworks/Python.framework/Versions/3.10/lib/python3.10/site-packages (from matplotlib->-r ../../requirements.txt (line 6)) (0.12.1)\n",
      "Requirement already satisfied: kiwisolver>=1.3.1 in /Library/Frameworks/Python.framework/Versions/3.10/lib/python3.10/site-packages (from matplotlib->-r ../../requirements.txt (line 6)) (1.4.5)\n",
      "Requirement already satisfied: fonttools>=4.22.0 in /Library/Frameworks/Python.framework/Versions/3.10/lib/python3.10/site-packages (from matplotlib->-r ../../requirements.txt (line 6)) (4.45.1)\n",
      "Requirement already satisfied: packaging>=20.0 in /Users/jernkun/Library/Python/3.10/lib/python/site-packages (from matplotlib->-r ../../requirements.txt (line 6)) (23.2)\n",
      "Requirement already satisfied: python-dateutil>=2.7 in /Users/jernkun/Library/Python/3.10/lib/python/site-packages (from matplotlib->-r ../../requirements.txt (line 6)) (2.8.2)\n",
      "Requirement already satisfied: contourpy>=1.0.1 in /Library/Frameworks/Python.framework/Versions/3.10/lib/python3.10/site-packages (from matplotlib->-r ../../requirements.txt (line 6)) (1.2.0)\n",
      "Requirement already satisfied: pillow>=8 in /Library/Frameworks/Python.framework/Versions/3.10/lib/python3.10/site-packages (from matplotlib->-r ../../requirements.txt (line 6)) (10.1.0)\n",
      "Requirement already satisfied: pyparsing>=2.3.1 in /Library/Frameworks/Python.framework/Versions/3.10/lib/python3.10/site-packages (from matplotlib->-r ../../requirements.txt (line 6)) (3.1.1)\n",
      "Requirement already satisfied: docutils>=0.3 in /Library/Frameworks/Python.framework/Versions/3.10/lib/python3.10/site-packages (from statistics->-r ../../requirements.txt (line 7)) (0.20.1)\n",
      "Requirement already satisfied: protobuf>=3.20.2 in /Library/Frameworks/Python.framework/Versions/3.10/lib/python3.10/site-packages (from onnx->-r ../../requirements.txt (line 8)) (4.25.1)\n",
      "Requirement already satisfied: six>=1.5 in /Users/jernkun/Library/Python/3.10/lib/python/site-packages (from python-dateutil>=2.7->matplotlib->-r ../../requirements.txt (line 6)) (1.16.0)\n",
      "Requirement already satisfied: MarkupSafe>=2.0 in /Library/Frameworks/Python.framework/Versions/3.10/lib/python3.10/site-packages (from jinja2->torch->-r ../../requirements.txt (line 2)) (2.1.3)\n",
      "Requirement already satisfied: mpmath>=0.19 in /Library/Frameworks/Python.framework/Versions/3.10/lib/python3.10/site-packages (from sympy->torch->-r ../../requirements.txt (line 2)) (1.3.0)\n",
      "\u001b[33mWARNING: You are using pip version 21.2.3; however, version 23.3.1 is available.\n",
      "You should consider upgrading via the '/usr/local/bin/python3 -m pip install --upgrade pip' command.\u001b[0m\n",
      "Note: you may need to restart the kernel to use updated packages.\n"
     ]
    }
   ],
   "source": [
    "pip install -r ../../requirements.txt"
   ]
  },
  {
   "cell_type": "code",
   "execution_count": 1,
   "metadata": {},
   "outputs": [],
   "source": [
    "import ezkl\n",
    "import torch\n",
    "from torch import nn\n",
    "import json\n",
    "import os\n",
    "import time\n",
    "import scipy\n",
    "import numpy as np\n",
    "import matplotlib.pyplot as plt\n",
    "import statistics\n",
    "import math"
   ]
  },
  {
   "cell_type": "code",
   "execution_count": 2,
   "metadata": {},
   "outputs": [],
   "source": [
    "%run -i ../../core.py"
   ]
  },
  {
   "cell_type": "code",
   "execution_count": 3,
   "metadata": {},
   "outputs": [],
   "source": [
    "# init path\n",
    "os.makedirs(os.path.dirname('shared/'), exist_ok=True)\n",
    "os.makedirs(os.path.dirname('prover/'), exist_ok=True)\n",
    "verifier_model_path = os.path.join('shared/verifier.onnx')\n",
    "prover_model_path = os.path.join('prover/prover.onnx')\n",
    "verifier_compiled_model_path = os.path.join('shared/verifier.compiled')\n",
    "prover_compiled_model_path = os.path.join('prover/prover.compiled')\n",
    "pk_path = os.path.join('shared/test.pk')\n",
    "vk_path = os.path.join('shared/test.vk')\n",
    "proof_path = os.path.join('shared/test.pf')\n",
    "settings_path = os.path.join('shared/settings.json')\n",
    "srs_path = os.path.join('shared/kzg.srs')\n",
    "witness_path = os.path.join('prover/witness.json')\n",
    "# this is private to prover since it contains actual data\n",
    "comb_data_path = os.path.join('prover/comb_data.json')"
   ]
  },
  {
   "attachments": {},
   "cell_type": "markdown",
   "metadata": {},
   "source": [
    "=======================  ZK-STATS FLOW ======================="
   ]
  },
  {
   "cell_type": "code",
   "execution_count": 7,
   "metadata": {},
   "outputs": [],
   "source": [
    "data_path = os.path.join('data.json')\n",
    "dummy_data_path = os.path.join('shared/dummy_data.json')\n",
    "\n",
    "f_raw_input = open(data_path, \"r\")\n",
    "data = json.loads(f_raw_input.read())[\"input_data\"][0]\n",
    "data_tensor = torch.reshape(torch.tensor(data),(1, len(data), 1))\n",
    "\n",
    "#  dummy data for data consumer: make the bound approx same as real data\n",
    "dummy_data = np.random.uniform(min(data), max(data), len(data))\n",
    "json.dump({\"input_data\":[dummy_data.tolist()]}, open(dummy_data_path, 'w'))\n",
    "\n",
    "dummy_data_tensor = torch.reshape(torch.tensor(dummy_data), (1, len(dummy_data),1 ))\n",
    "dummy_theory_output = torch.var(dummy_data_tensor, correction = 1)\n",
    "dummy_data_mean = torch.mean(dummy_data_tensor)"
   ]
  },
  {
   "cell_type": "code",
   "execution_count": 8,
   "metadata": {},
   "outputs": [],
   "source": [
    "# Verifier/ data consumer side:\n",
    "class verifier_model(nn.Module):\n",
    "    def __init__(self):\n",
    "        super(verifier_model, self).__init__()\n",
    "        # w represents mean in this case\n",
    "        self.w = nn.Parameter(data = dummy_theory_output, requires_grad = False)\n",
    "        self.data_mean = nn.Parameter(data = dummy_data_mean, requires_grad = False)\n",
    "\n",
    "    def forward(self,X):\n",
    "        # some expression of tolerance to error in the inference\n",
    "        x_mean_cons = torch.abs(torch.sum(X)-X.size()[1]*(self.data_mean))<0.01*X.size()[1]*(self.data_mean)\n",
    "        return (torch.logical_and(torch.abs(torch.sum((X-self.data_mean)*(X-self.data_mean))-self.w*(X.size()[1]-1))<0.01*self.w*(X.size()[1]-1),x_mean_cons ),self.w)\n",
    "\n",
    "verifier_define_calculation(verifier_model, verifier_model_path, [dummy_data_path])"
   ]
  },
  {
   "cell_type": "code",
   "execution_count": 9,
   "metadata": {},
   "outputs": [
    {
     "name": "stdout",
     "output_type": "stream",
     "text": [
      "theory output:  tensor(212.5777)\n",
      "==== Generate & Calibrate Setting ====\n",
      "scale:  [0]\n",
      "setting:  {\"run_args\":{\"tolerance\":{\"val\":0.0,\"scale\":1.0},\"input_scale\":0,\"param_scale\":0,\"scale_rebase_multiplier\":10,\"lookup_range\":[0,1272],\"logrows\":14,\"num_inner_cols\":1,\"variables\":[[\"batch_size\",1]],\"input_visibility\":{\"Hashed\":{\"hash_is_public\":true,\"outlets\":[]}},\"output_visibility\":\"Public\",\"param_visibility\":\"Private\"},\"num_rows\":14432,\"total_assignments\":1512,\"total_const_size\":0,\"model_instance_shapes\":[[1],[1]],\"model_output_scales\":[0,0],\"model_input_scales\":[0],\"module_sizes\":{\"kzg\":[],\"poseidon\":[14432,[1]],\"elgamal\":[0,[0]]},\"required_lookups\":[\"Abs\",{\"GreaterThan\":{\"a\":0.0}}],\"check_mode\":\"UNSAFE\",\"version\":\"5.0.8\",\"num_blinding_factors\":null}\n"
     ]
    }
   ],
   "source": [
    "# Prover/ data owner side\n",
    "theory_output = torch.var(data_tensor, correction = 1)\n",
    "data_mean = torch.mean(data_tensor)\n",
    "print(\"theory output: \", theory_output)\n",
    "class prover_model(nn.Module):\n",
    "    def __init__(self):\n",
    "        super(prover_model, self).__init__()\n",
    "        # w represents mean in this case\n",
    "        self.w = nn.Parameter(data = theory_output, requires_grad = False)\n",
    "        self.data_mean = nn.Parameter(data = data_mean, requires_grad = False)\n",
    "    def forward(self,X):\n",
    "        # some expression of tolerance to error in the inference\n",
    "        x_mean_cons = torch.abs(torch.sum(X)-X.size()[1]*(self.data_mean))<0.01*X.size()[1]*(self.data_mean)\n",
    "        return (torch.logical_and(torch.abs(torch.sum((X-self.data_mean)*(X-self.data_mean))-self.w*(X.size()[1]-1))<0.01*self.w*(X.size()[1]-1),x_mean_cons ),self.w)\n",
    "\n",
    "\n",
    "prover_gen_settings([data_path], comb_data_path, prover_model,prover_model_path, [0], \"resources\", settings_path)"
   ]
  },
  {
   "cell_type": "code",
   "execution_count": 10,
   "metadata": {},
   "outputs": [
    {
     "name": "stderr",
     "output_type": "stream",
     "text": [
      "spawning module 0\n",
      "spawning module 2\n"
     ]
    },
    {
     "name": "stdout",
     "output_type": "stream",
     "text": [
      "==== setting up ezkl ====\n"
     ]
    },
    {
     "name": "stderr",
     "output_type": "stream",
     "text": [
      "spawning module 0\n",
      "spawning module 2\n",
      "spawning module 0\n"
     ]
    },
    {
     "name": "stdout",
     "output_type": "stream",
     "text": [
      "Time setup: 1.3916938304901123 seconds\n",
      "=======================================\n",
      "Theory output:  tensor(212.5777)\n",
      "==== Generating Witness ====\n",
      "witness boolean:  1.0\n",
      "witness result 1 : 213.0\n",
      "==== Generating Proof ====\n"
     ]
    },
    {
     "name": "stderr",
     "output_type": "stream",
     "text": [
      "spawning module 2\n"
     ]
    },
    {
     "name": "stdout",
     "output_type": "stream",
     "text": [
      "proof:  {'instances': [[[10512373747352303962, 11798585516934984832, 13421675179368312123, 2200257403316998104], [12436184717236109307, 3962172157175319849, 7381016538464732718, 1011752739694698287], [7791745561945701274, 3148105443081642255, 5687306643140073025, 2796439279989524607]]], 'proof': '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', 'transcript_type': 'EVM'}\n",
      "Time gen prf: 1.9907357692718506 seconds\n"
     ]
    }
   ],
   "source": [
    "# Here verifier & prover can concurrently call setup since all params are public to get pk. \n",
    "# Here write as verifier function to emphasize that verifier must calculate its own vk to be sure\n",
    "verifier_setup(verifier_model_path, verifier_compiled_model_path, settings_path, srs_path,vk_path, pk_path )\n",
    "\n",
    "print(\"=======================================\")\n",
    "# Prover generates proof\n",
    "print(\"Theory output: \", theory_output)\n",
    "prover_gen_proof(prover_model_path, comb_data_path, witness_path, prover_compiled_model_path, settings_path, proof_path, pk_path, srs_path)"
   ]
  },
  {
   "cell_type": "code",
   "execution_count": 11,
   "metadata": {},
   "outputs": [
    {
     "name": "stdout",
     "output_type": "stream",
     "text": [
      "num_inputs:  1\n",
      "prf instances:  [[[10512373747352303962, 11798585516934984832, 13421675179368312123, 2200257403316998104], [12436184717236109307, 3962172157175319849, 7381016538464732718, 1011752739694698287], [7791745561945701274, 3148105443081642255, 5687306643140073025, 2796439279989524607]]]\n",
      "proof boolean:  1.0\n",
      "proof result 1 : 213.0\n",
      "verified\n"
     ]
    }
   ],
   "source": [
    "# Verifier verifies\n",
    "verifier_verify(proof_path, settings_path, vk_path, srs_path)"
   ]
  },
  {
   "cell_type": "code",
   "execution_count": null,
   "metadata": {},
   "outputs": [],
   "source": []
  }
 ],
 "metadata": {
  "kernelspec": {
   "display_name": "Python 3",
   "language": "python",
   "name": "python3"
  },
  "language_info": {
   "codemirror_mode": {
    "name": "ipython",
    "version": 3
   },
   "file_extension": ".py",
   "mimetype": "text/x-python",
   "name": "python",
   "nbconvert_exporter": "python",
   "pygments_lexer": "ipython3",
   "version": "3.10.0"
  },
  "orig_nbformat": 4
 },
 "nbformat": 4,
 "nbformat_minor": 2
}
