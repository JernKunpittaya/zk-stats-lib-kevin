{
 "cells": [
  {
   "cell_type": "code",
   "execution_count": 1,
   "metadata": {},
   "outputs": [
    {
     "name": "stdout",
     "output_type": "stream",
     "text": [
      "Requirement already satisfied: ezkl==9.1.0 in /Users/jernkun/Library/Caches/pypoetry/virtualenvs/zkstats-OJpceffF-py3.11/lib/python3.11/site-packages (from -r ../../requirements.txt (line 1)) (9.1.0)\n",
      "Requirement already satisfied: torch in /Users/jernkun/Library/Caches/pypoetry/virtualenvs/zkstats-OJpceffF-py3.11/lib/python3.11/site-packages (from -r ../../requirements.txt (line 2)) (2.2.0)\n",
      "Requirement already satisfied: requests in /Users/jernkun/Library/Caches/pypoetry/virtualenvs/zkstats-OJpceffF-py3.11/lib/python3.11/site-packages (from -r ../../requirements.txt (line 3)) (2.31.0)\n",
      "Requirement already satisfied: scipy in /Users/jernkun/Library/Caches/pypoetry/virtualenvs/zkstats-OJpceffF-py3.11/lib/python3.11/site-packages (from -r ../../requirements.txt (line 4)) (1.12.0)\n",
      "Requirement already satisfied: numpy in /Users/jernkun/Library/Caches/pypoetry/virtualenvs/zkstats-OJpceffF-py3.11/lib/python3.11/site-packages (from -r ../../requirements.txt (line 5)) (1.26.3)\n",
      "Requirement already satisfied: matplotlib in /Users/jernkun/Library/Caches/pypoetry/virtualenvs/zkstats-OJpceffF-py3.11/lib/python3.11/site-packages (from -r ../../requirements.txt (line 6)) (3.8.2)\n",
      "Requirement already satisfied: statistics in /Users/jernkun/Library/Caches/pypoetry/virtualenvs/zkstats-OJpceffF-py3.11/lib/python3.11/site-packages (from -r ../../requirements.txt (line 7)) (1.0.3.5)\n",
      "Requirement already satisfied: onnx in /Users/jernkun/Library/Caches/pypoetry/virtualenvs/zkstats-OJpceffF-py3.11/lib/python3.11/site-packages (from -r ../../requirements.txt (line 8)) (1.15.0)\n",
      "Requirement already satisfied: filelock in /Users/jernkun/Library/Caches/pypoetry/virtualenvs/zkstats-OJpceffF-py3.11/lib/python3.11/site-packages (from torch->-r ../../requirements.txt (line 2)) (3.13.1)\n",
      "Requirement already satisfied: typing-extensions>=4.8.0 in /Users/jernkun/Library/Caches/pypoetry/virtualenvs/zkstats-OJpceffF-py3.11/lib/python3.11/site-packages (from torch->-r ../../requirements.txt (line 2)) (4.9.0)\n",
      "Requirement already satisfied: sympy in /Users/jernkun/Library/Caches/pypoetry/virtualenvs/zkstats-OJpceffF-py3.11/lib/python3.11/site-packages (from torch->-r ../../requirements.txt (line 2)) (1.12)\n",
      "Requirement already satisfied: networkx in /Users/jernkun/Library/Caches/pypoetry/virtualenvs/zkstats-OJpceffF-py3.11/lib/python3.11/site-packages (from torch->-r ../../requirements.txt (line 2)) (3.2.1)\n",
      "Requirement already satisfied: jinja2 in /Users/jernkun/Library/Caches/pypoetry/virtualenvs/zkstats-OJpceffF-py3.11/lib/python3.11/site-packages (from torch->-r ../../requirements.txt (line 2)) (3.1.3)\n",
      "Requirement already satisfied: fsspec in /Users/jernkun/Library/Caches/pypoetry/virtualenvs/zkstats-OJpceffF-py3.11/lib/python3.11/site-packages (from torch->-r ../../requirements.txt (line 2)) (2023.12.2)\n",
      "Requirement already satisfied: charset-normalizer<4,>=2 in /Users/jernkun/Library/Caches/pypoetry/virtualenvs/zkstats-OJpceffF-py3.11/lib/python3.11/site-packages (from requests->-r ../../requirements.txt (line 3)) (3.3.2)\n",
      "Requirement already satisfied: idna<4,>=2.5 in /Users/jernkun/Library/Caches/pypoetry/virtualenvs/zkstats-OJpceffF-py3.11/lib/python3.11/site-packages (from requests->-r ../../requirements.txt (line 3)) (3.6)\n",
      "Requirement already satisfied: urllib3<3,>=1.21.1 in /Users/jernkun/Library/Caches/pypoetry/virtualenvs/zkstats-OJpceffF-py3.11/lib/python3.11/site-packages (from requests->-r ../../requirements.txt (line 3)) (2.2.0)\n",
      "Requirement already satisfied: certifi>=2017.4.17 in /Users/jernkun/Library/Caches/pypoetry/virtualenvs/zkstats-OJpceffF-py3.11/lib/python3.11/site-packages (from requests->-r ../../requirements.txt (line 3)) (2024.2.2)\n",
      "Requirement already satisfied: contourpy>=1.0.1 in /Users/jernkun/Library/Caches/pypoetry/virtualenvs/zkstats-OJpceffF-py3.11/lib/python3.11/site-packages (from matplotlib->-r ../../requirements.txt (line 6)) (1.2.0)\n",
      "Requirement already satisfied: cycler>=0.10 in /Users/jernkun/Library/Caches/pypoetry/virtualenvs/zkstats-OJpceffF-py3.11/lib/python3.11/site-packages (from matplotlib->-r ../../requirements.txt (line 6)) (0.12.1)\n",
      "Requirement already satisfied: fonttools>=4.22.0 in /Users/jernkun/Library/Caches/pypoetry/virtualenvs/zkstats-OJpceffF-py3.11/lib/python3.11/site-packages (from matplotlib->-r ../../requirements.txt (line 6)) (4.47.2)\n",
      "Requirement already satisfied: kiwisolver>=1.3.1 in /Users/jernkun/Library/Caches/pypoetry/virtualenvs/zkstats-OJpceffF-py3.11/lib/python3.11/site-packages (from matplotlib->-r ../../requirements.txt (line 6)) (1.4.5)\n",
      "Requirement already satisfied: packaging>=20.0 in /Users/jernkun/Library/Caches/pypoetry/virtualenvs/zkstats-OJpceffF-py3.11/lib/python3.11/site-packages (from matplotlib->-r ../../requirements.txt (line 6)) (23.2)\n",
      "Requirement already satisfied: pillow>=8 in /Users/jernkun/Library/Caches/pypoetry/virtualenvs/zkstats-OJpceffF-py3.11/lib/python3.11/site-packages (from matplotlib->-r ../../requirements.txt (line 6)) (10.2.0)\n",
      "Requirement already satisfied: pyparsing>=2.3.1 in /Users/jernkun/Library/Caches/pypoetry/virtualenvs/zkstats-OJpceffF-py3.11/lib/python3.11/site-packages (from matplotlib->-r ../../requirements.txt (line 6)) (3.1.1)\n",
      "Requirement already satisfied: python-dateutil>=2.7 in /Users/jernkun/Library/Caches/pypoetry/virtualenvs/zkstats-OJpceffF-py3.11/lib/python3.11/site-packages (from matplotlib->-r ../../requirements.txt (line 6)) (2.8.2)\n",
      "Requirement already satisfied: docutils>=0.3 in /Users/jernkun/Library/Caches/pypoetry/virtualenvs/zkstats-OJpceffF-py3.11/lib/python3.11/site-packages (from statistics->-r ../../requirements.txt (line 7)) (0.20.1)\n",
      "Requirement already satisfied: protobuf>=3.20.2 in /Users/jernkun/Library/Caches/pypoetry/virtualenvs/zkstats-OJpceffF-py3.11/lib/python3.11/site-packages (from onnx->-r ../../requirements.txt (line 8)) (4.25.2)\n",
      "Requirement already satisfied: six>=1.5 in /Users/jernkun/Library/Caches/pypoetry/virtualenvs/zkstats-OJpceffF-py3.11/lib/python3.11/site-packages (from python-dateutil>=2.7->matplotlib->-r ../../requirements.txt (line 6)) (1.16.0)\n",
      "Requirement already satisfied: MarkupSafe>=2.0 in /Users/jernkun/Library/Caches/pypoetry/virtualenvs/zkstats-OJpceffF-py3.11/lib/python3.11/site-packages (from jinja2->torch->-r ../../requirements.txt (line 2)) (2.1.4)\n",
      "Requirement already satisfied: mpmath>=0.19 in /Users/jernkun/Library/Caches/pypoetry/virtualenvs/zkstats-OJpceffF-py3.11/lib/python3.11/site-packages (from sympy->torch->-r ../../requirements.txt (line 2)) (1.3.0)\n",
      "\n",
      "\u001b[1m[\u001b[0m\u001b[34;49mnotice\u001b[0m\u001b[1;39;49m]\u001b[0m\u001b[39;49m A new release of pip is available: \u001b[0m\u001b[31;49m23.2.1\u001b[0m\u001b[39;49m -> \u001b[0m\u001b[32;49m24.0\u001b[0m\n",
      "\u001b[1m[\u001b[0m\u001b[34;49mnotice\u001b[0m\u001b[1;39;49m]\u001b[0m\u001b[39;49m To update, run: \u001b[0m\u001b[32;49mpip install --upgrade pip\u001b[0m\n",
      "Note: you may need to restart the kernel to use updated packages.\n"
     ]
    }
   ],
   "source": [
    "pip install -r ../../requirements.txt"
   ]
  },
  {
   "cell_type": "code",
   "execution_count": 2,
   "metadata": {},
   "outputs": [],
   "source": [
    "import ezkl\n",
    "import torch\n",
    "from torch import nn\n",
    "import json\n",
    "import os\n",
    "import time\n",
    "import scipy\n",
    "import numpy as np\n",
    "import matplotlib.pyplot as plt\n",
    "import statistics\n",
    "import math"
   ]
  },
  {
   "cell_type": "code",
   "execution_count": 3,
   "metadata": {},
   "outputs": [],
   "source": [
    "from zkstats.core import create_dummy, verifier_define_calculation, prover_gen_settings, setup, prover_gen_proof, verifier_verify, get_data_commitment_maps"
   ]
  },
  {
   "cell_type": "code",
   "execution_count": 4,
   "metadata": {},
   "outputs": [],
   "source": [
    "# init path\n",
    "os.makedirs(os.path.dirname('shared/'), exist_ok=True)\n",
    "os.makedirs(os.path.dirname('prover/'), exist_ok=True)\n",
    "verifier_model_path = os.path.join('shared/verifier.onnx')\n",
    "prover_model_path = os.path.join('prover/prover.onnx')\n",
    "verifier_compiled_model_path = os.path.join('shared/verifier.compiled')\n",
    "prover_compiled_model_path = os.path.join('prover/prover.compiled')\n",
    "pk_path = os.path.join('shared/test.pk')\n",
    "vk_path = os.path.join('shared/test.vk')\n",
    "proof_path = os.path.join('shared/test.pf')\n",
    "settings_path = os.path.join('shared/settings.json')\n",
    "srs_path = os.path.join('shared/kzg.srs')\n",
    "witness_path = os.path.join('prover/witness.json')\n",
    "# this is private to prover since it contains actual data\n",
    "sel_data_path = os.path.join('prover/sel_data.json')\n",
    "# this is just dummy random value\n",
    "sel_dummy_data_path = os.path.join('shared/sel_dummy_data.json')"
   ]
  },
  {
   "attachments": {},
   "cell_type": "markdown",
   "metadata": {},
   "source": [
    "=======================  ZK-STATS FLOW ======================="
   ]
  },
  {
   "cell_type": "code",
   "execution_count": 5,
   "metadata": {},
   "outputs": [],
   "source": [
    "data_path = os.path.join('data.json')\n",
    "dummy_data_path = os.path.join('shared/dummy_data.json')\n",
    "create_dummy(data_path, dummy_data_path)"
   ]
  },
  {
   "cell_type": "code",
   "execution_count": 6,
   "metadata": {},
   "outputs": [],
   "source": [
    "scales = [2]\n",
    "selected_columns = ['col_name']\n",
    "commitment_maps = get_data_commitment_maps(data_path, scales)"
   ]
  },
  {
   "cell_type": "code",
   "execution_count": 7,
   "metadata": {},
   "outputs": [
    {
     "name": "stderr",
     "output_type": "stream",
     "text": [
      "/Users/jernkun/Desktop/zk-stats-lib/zkstats/computation.py:166: TracerWarning: torch.tensor results are registered as constants in the trace. You can safely ignore this warning if you use this function to create tensors out of constant variables that would be the same every time you call this function. In any other case, this might cause the trace to be incorrect.\n",
      "  is_precise_aggregated = torch.tensor(1.0)\n",
      "/Users/jernkun/Library/Caches/pypoetry/virtualenvs/zkstats-OJpceffF-py3.11/lib/python3.11/site-packages/torch/onnx/symbolic_opset9.py:2174: FutureWarning: 'torch.onnx.symbolic_opset9._cast_Bool' is deprecated in version 2.0 and will be removed in the future. Please Avoid using this function and create a Cast node instead.\n",
      "  return fn(g, to_cast_func(g, input, False), to_cast_func(g, other, False))\n"
     ]
    }
   ],
   "source": [
    "# Verifier/ data consumer side: send desired calculation\n",
    "from zkstats.computation import computation_to_model, State\n",
    "\n",
    "\n",
    "def computation(s: State, data: list[torch.Tensor]) -> torch.Tensor:\n",
    "    x = data[0]\n",
    "    return s.variance(x)\n",
    "\n",
    "error = 0.01\n",
    "_, verifier_model = computation_to_model(computation, error)\n",
    "\n",
    "verifier_define_calculation(dummy_data_path, selected_columns, sel_dummy_data_path, verifier_model, verifier_model_path)"
   ]
  },
  {
   "cell_type": "code",
   "execution_count": 8,
   "metadata": {},
   "outputs": [
    {
     "name": "stderr",
     "output_type": "stream",
     "text": [
      "\n",
      "\n",
      " <------------- Numerical Fidelity Report (input_scale: 2, param_scale: 2, scale_input_multiplier: 1) ------------->\n",
      "\n",
      "+-------------+--------------+-------------+-----------+----------------+------------------+---------------+---------------+--------------------+--------------------+------------------------+\n",
      "| mean_error  | median_error | max_error   | min_error | mean_abs_error | median_abs_error | max_abs_error | min_abs_error | mean_squared_error | mean_percent_error | mean_abs_percent_error |\n",
      "+-------------+--------------+-------------+-----------+----------------+------------------+---------------+---------------+--------------------+--------------------+------------------------+\n",
      "| 0.038848877 | 0.077697754  | 0.077697754 | 0         | 0.038848877    | 0.077697754      | 0.077697754   | 0             | 0.0030184705       | 0.00018275142      | 0.00018275142          |\n",
      "+-------------+--------------+-------------+-----------+----------------+------------------+---------------+---------------+--------------------+--------------------+------------------------+\n",
      "\n",
      "\n"
     ]
    },
    {
     "name": "stdout",
     "output_type": "stream",
     "text": [
      "==== Generate & Calibrate Setting ====\n",
      "scale:  [2]\n",
      "setting:  {\"run_args\":{\"tolerance\":{\"val\":0.0,\"scale\":1.0},\"input_scale\":2,\"param_scale\":2,\"scale_rebase_multiplier\":1,\"lookup_range\":[-5082,2],\"logrows\":14,\"num_inner_cols\":2,\"variables\":[[\"batch_size\",1]],\"input_visibility\":{\"Hashed\":{\"hash_is_public\":true,\"outlets\":[]}},\"output_visibility\":\"Public\",\"param_visibility\":\"Private\",\"div_rebasing\":false,\"rebase_frac_zero_constants\":false,\"check_mode\":\"UNSAFE\"},\"num_rows\":14432,\"total_assignments\":2722,\"total_const_size\":309,\"model_instance_shapes\":[[1],[1]],\"model_output_scales\":[0,2],\"model_input_scales\":[2],\"module_sizes\":{\"kzg\":[],\"poseidon\":[14432,[1]]},\"required_lookups\":[\"Abs\",{\"GreaterThan\":{\"a\":0.0}}],\"required_range_checks\":[[-2,2]],\"check_mode\":\"UNSAFE\",\"version\":\"9.1.0\",\"num_blinding_factors\":null,\"timestamp\":1709451045416}\n"
     ]
    }
   ],
   "source": [
    "# Prover/ data owner side\n",
    "_, prover_model = computation_to_model(computation, error)\n",
    "\n",
    "prover_gen_settings(data_path, selected_columns, sel_data_path, prover_model,prover_model_path, scales, \"resources\", settings_path)"
   ]
  },
  {
   "cell_type": "code",
   "execution_count": 9,
   "metadata": {},
   "outputs": [
    {
     "name": "stdout",
     "output_type": "stream",
     "text": [
      "==== setting up ezkl ====\n",
      "Time setup: 1.666565179824829 seconds\n",
      "=======================================\n",
      "==== Generating Witness ====\n",
      "witness boolean:  1.0\n",
      "witness result 1 : 212.5\n",
      "==== Generating Proof ====\n",
      "proof:  {'instances': [['31220e5513f6e9b7d0f59d8f019cd197642a431b2136f0311abf6046c9006227', '0100000000000000000000000000000000000000000000000000000000000000', '5203000000000000000000000000000000000000000000000000000000000000']], 'proof': '0x04c63f5018b3c3e85803cd04109b86b6db628a889f6620a3dedc99830f4fa23816b46f09d935186373d669afe3551d407726bd229cbbfe9171add8468c1e3e6c1d8c75274ac68bb8b341e170840465668eea872b55f9ce297ab920a681be1fa7188215ac288ede99f7aa95b1c5d2a0a9befc12e0a362ea343454ffaceaf57f4607c2a58156dd68dda2228df43484d1bc1eb777df0cb00ac4bc145d33dc005c192121cf09d689aa74a86c2f87ae17117eb1b1c26453390d87df487c097723785607da72f5d0253a7fd00cc0b3ad2c7c9d594fbfa24505caf78757996eba62523f03a2c7dad42713bd8b7c3b6d4b146e7484eebeb91a234c65bab5c4c8777d3c7b1e014853b2b5c4fe215eadc92650eea8a0b3a7c9745491c9822f990ab8aca08b18b45d44749e6dfc46b3a8337b0a6250f1f56b59fe49f343f88157c44109256726ef97bd7654e2d91905d67087450f39ce73ccded6d64326475491fa940ea46d0769a70081ccc8a8f2254d4ece5526c4cf2b4ee2e45d454ebffab744b5a8bb5c1c79a66117c858c88ccc66ee8e418be34e2045cd970fe91b4079209dd72821391c54d9317992059d6aba5e4e38edc90aaafba4119f14fa8fdf27f7a6062d577308a25542ed3d6568b1279ba0542f56675ca5e2560cae47c58b71c6061267809526e2d6eb5914b87ffa1e538318c485bbaa93b7dbb2137dfca6e09a43af5a6dfc1950a49a29541a50f7a8c11f891556f644496668d8708b884a8591f5193ec1622416ed521fb5be6ecc484c4e4d34101826797d97df9a3933b013738402ed7467105dade3188d564c2098eec6848b2bb72cc74b2de6f4966517af714da24f2cca2e415654867b72c619f9d6e70bfb58fccd62b25b201f8d4bff39a0921a024bf7115478743ca949680bee8c2e2a8942911176755b39f8e63efcba876659d119df23bb25125bf2b4c56985b2f3c4f54c0130a5060e650dcf6bc6ab5cd08f3ca2e6105dade3188d564c2098eec6848b2bb72cc74b2de6f4966517af714da24f2cca2e415654867b72c619f9d6e70bfb58fccd62b25b201f8d4bff39a0921a024bf7090ff4a98df10b9d2cdc9066cebe5c2df6322ef595dfe3cf08892aaaf49bbd920425383c5983a87b273825e40ab4a5d53d97c1ba5757f2abc6ceeefe85492b042955882248dfdf8582188055c89d887d8edd98b4f2dc3b3d86e7e063c912f2c315e5ce320007f82bdc7ebe84b498513476fa56af5ec852e8f27fa8e88f07d7632955882248dfdf8582188055c89d887d8edd98b4f2dc3b3d86e7e063c912f2c315e5ce320007f82bdc7ebe84b498513476fa56af5ec852e8f27fa8e88f07d7631c914788892d71a78dc2583ded5f88280665a9fd74c9340e6f13f93b9dc2b17b1e5d5a4cf97f18e278523fbb6ecfe94992821dffb2828a1b96efd3e77192a9a21b20157031ac78cc867916acb336ae159540aea93b9e826cc998ca70b79f28391fc492482c0650faca9c465d7bb1fd90826c308b0752e5ef956532655c3b50220dbbc69dba219b0ccbd391300b037cfe31b886826e4a042090f1843d15668af806173d0c009fc4c7e2c9c93b1eb59f0f0c81910a7d6b57462ed2c11f89a8011f11205f0bd03f294e5cb7abd4bf7b35d4a57721e75e258407e83d421b2f1f2ebc189d294087c19c580c6a77e580895401f6d848b059d2585ff9ac3d3dd8c3d4fe2354db6778ea18fcc7106e042da235560ce619890ad91e758d95e18b30acba0200c5c44017e2d93b6e0dbdd0b2eb2d00118132d85dd8b0d24fc5899a3b347f561005f81ab4063b76fca76ff087a00984c892c8c58cf5c487810d1a26c24d32610fab13907d85d60855284d677d7ef6507a9e2daf0a8bbf3f05df11e2b82e68ab2f1348ce94c6a630cadee0f523e07f594a8ed3a26ecc06bba3196e39d73e890a267eca57f7b816dc06a825cd3edccbaa5f3db0e40697023e81bdf810a9aae72d28479f6408e4b3155cd6611ca493fc6db89453a2a0f75d344dbed4671ef236f423aea3d6bfd643cc170d76e6c5bbbeab67461372eedec4e75f1359b0cb9b0147098222a3105c9a30d5bec46419877f1e6d08e35f822aac71cee1aade75b5d1c82b982e857e877e294a3b876386e6d65f7fee7453808813ceb1ba655312832ddd281506fa46749fcd3d9369189b6460250fbd1b545801f1f57a98cb3ca34ff77c1a03a122ef3702e44ff2b1f26ea0d05a8df8a0dbfb7f26b1cf558e9a8d56e86c1f5a7348401e660e1501f2b32e748f301a6450bef2dd86e328db849b5e7fea23232cc2216e3abdca7000dd009370b3d5038d66f22ea2dc8a48f0dd04525d04691821355ecfe849fc3e6783de238b991183c378348ed9ac9e1ddaf34259d0654d24cfe9bfbd51aacbafa6a06bc46f7de1505532f19aeefe81a3b72d1ff8ca288c0dff67cb7e7ff16e14c7efbbe8978a93c7903ad12e720ad90f7dd73cc3fc5cfb1480a788b8a7da9b1a79e0570403c9110ea801188a61814b1c26c7f8671e8ca1013662f83bea239b33d90ce54ad19dbf980f57e2eb3336040ecc0c0cb672111f073062f3c38fa183653c820a6309e9dbc7f0c11d85433bad6558789c1d90e29820c5fe3ffd4549d4d88d06d5655b5fb7e9dd44ee4a5fb20e592886f4c293ac531fccb65c23689d4d160a6baed637c825fb9ba595e080a5e841d68c848d01352d0245af72b9ca6de23300f5c7df741043ebb1a712c0a377c7b779d9133d70901d09ea52cfcc5ba9f04c38958db1075b0bcdb4eb7dfbb74ded6ae8194bca7527332d101a875452392ef3944112f5d23968c4129d517860efbafab5187dfab443f115e29a956d22ba595dc3bae6985fbba13efd32b14b1c2dfa4db067719160c0c91c559ced2016f0b8382d128a25f973e401278c8782dcf13436c31f721511fda5265d7e1a67f07ce85958bfa763eceecbd1cc2da6341d605b73fcc1303421f893216826d18799794fa110674be7f8ea7c18893f1d3a17df4bc5c7a7c26ea00f742e7966b7652342f22e8087c2c2d36961ddf18fcfd2675d4be72a35b9a24cd97c0381989071f3449717d7ab9f00664758c6a8800a9326844e999e624186ddfc742a9fd99cb68ef62f0b2159b7683586ce41925c51b3fa16c819b334bca039844110d2e449ba1cb838776277efb9b345759f20838ededbc7c4dba02f3cea734c1e24bd076050c3ccdcf7ea0220a3ed673ace96750bfd2c8d4fd0978c3c965c43882ce0660948fbf570dcce773b41534ee169b91b43a84542f45ec0d2422dc7206f2c29d7fcb200909f40d0ceb558f2314d2de3c24bcd3f862c5feb21ecfc0f1db71432e9952619c0362cdb452c62dfefc92fa5ba08a7b1200fb0d6ac94b54101911bc74505b7e21c3f5bb4c37263e835026d0672d4bf110cc8b969f27e2a2b8a8c1a9a1eb0a65f58016cd51cae5b0926bd8dbb972d05281e0f6653e7553be426852e0a96e6b8c1671b9094b612e3547f702621402e28b4833cdff123ee0d5dba791dcf79001eb34522b4b77899bb8b9e64b5c8c5a076a6ffc8516bff3a5a8dcfdd024c64f90c3fcaddeaf7cbedb5e6b82b35593785829278bfc443a921f474be3320f775c8f1b824e3a5974c2507d351df8ccb403011554b0ae3d43ef676e26958198da1392d46b2dd973dfcfef5a07f540e454e2f0354022278166d2386c2c96e0815b7b76cbae2f37abb45d78b86053c5e7ee277e08ed176ef8eede868ff67d703ee1b6c84e6c424e03bcf07de8a331f7553d4f088b2f2a0f0fc98ac4cfead261c697950a5c8e109cdfbe8c21cc00ac1922ab74956beb48eab791dd8fd9588492239b40860d91b6879be45dadd3212abb00fc5dcc8f3326e1ff2ecbc97476d56000000000000000000000000000000000000000000000000000000000000000007f5bf8e528f9a1ed9e081073cee9bdb9bb5013865e1065426f73fa14f63278f000000000000000000000000000000000000000000000000000000000000000018f49fe785f238cdf3aaac16d92f79dcc3b1e430b84d4b18ee2680f4f13282c4000000000000000000000000000000000000000000000000000000000000000000000000000000000000000000000000000000000000000000000000000000000000000000000000000000000000000000000000000000000000000000000000000000000000000000000000000000000000000000000000000000000000000018af3c2d372830d69165e787319d74f0e2707e09499eca89238835102d2346fb0000000000000000000000000000000000000000000000000000000000000000026c265ef564de952a1e0f973983fcbadbc23c8b9b14a1bfd755164b85da879d000000000000000000000000000000000000000000000000000000000000000000000000000000000000000000000000000000000000000000000000000000001974f56e47dd47081c9e8372f840585d479d686ea60cecbe5e47a1ef6aba642b00000000000000000000000000000000000000000000000000000000000000000000000000000000000000000000000000000000000000000000000000000000000000000000000000000000000000000000000000000000000000000000000000000000000000000000000000000000000000000000000000000000000000000819406767d0baa017d01239de5720e159b1af19ae872f17e116a2a558471e162266fdcb67776469d9b110cf32e162eb58feb8fd370c42ca27d2c71f92a813680000000000000000000000000000000000000000000000000000000000000000047f89a6759fd22271d2a0274b340c7c7f7b75c49efc2800dcce6edd84038a3c00000000000000000000000000000000000000000000000000000000000000000cf981f561e6f8daeb35d5075870305f73497f40488b955f2d395c4d19807c6e089dc86ec25fdf3849bf69656ac890814b2b02e768e21344b9ce745d06eaac8810fe5afe7b98459c0f11750d86f08ee0b49ed530863790519be044bcfa1c2018069560c22860af504147a527e663a6d8c0151c70f33ab41059905bc3f4d4d40e0f01fac6c28df86ad960947073a031c6fc69a5265470ad390b7bd8b4c790267d27e25b1586e1a6696b4de46a5b1b3df33e385fabcc1c6d5b7b9df684f2de2b652a87c90ba1c0da85a5943c9e9529e620a85d0a214cacbd6cc39698eaf7e9a88e2649da5a38b3713d3067af5af3aa4bac554a7d839e32535f018b0317366d63372fefb1a0ec0f502990f6921f020a5e3e0ef407bbc4d293f7694a7a8f7ee4260629a0e6d6aadcb9efe9756921aa2a3e138d6ecf7d619fa77cd41842044d52d7e6052942b0f2102750bb3a6f81b68e82c14b538c85e2d3db2110f4a2b0917e2cac23e07f8c0707a3345a35e28fbf0dc6fb0c79f6d1f9af5bb31773a400047c58ac2037165928c4e2a77dde203bdece63371302b7dfa3a3cd0c6dd5a3c3aac59cca1fd4b2ff7a354dfac10e4e247990f655407db0c360f56f54fbaaa6f7c83622ab11575757cabe50d26dcc3582f82ffe82c2a89b1708c513a82f77e4a6a434d1de00d62f267c7876b288176497ac58983ea91f568bdf37ff9347ba45462af8e04a057a203fd7965227425d7ee6d0e5d212b97550c8176bd677154ee59c4d65e0ae0b8c581120bb2dc122b799dd36e4bfb2f744965fa2b6ad0e7488f897ee7720dc2da591270f81ca50b6039e94d3199a324c78aa01655cfabd6a1744a596d25a261a833493c978b6f6207ca48d168c0672b0544f10f3af0f52fa597a20f0d5efb721f6a67024b73d7dd39c1bd1620f1fc98b26eee0aca7eaec67dcf76a4c79a972251e1ad021d2a2e2216b51150d4bd8638b13355e419b992025ef974978bb5a1d1571ac049c10d788414cc3e3c5c662a2e33680255e31a19eef0d1a613c5d93840300af57df29079309ddbdd089d32363cf710369b235a19f8d4d22c87361a911180df59df18893c688f348b0330d4ac99cb90b73ded0d48fabb6d2d7e9de4d741adc12eee9aebfbdc1d89ff2d1846e8f0c23ca509c4b704ed4d100621c9c46971dae7d991f5c2555c81acc25e29ba13eb00db6f6ef8c2075b4551c7c1ed837c3050e77e1be106cd3c540942e371884cadcd16cbd00d889f79b3c0436a3c759fe2a0c278a293ca7f6d6cf08342492c9530f5b8ef348869993598d1618dd05c77312fa5e673acbbafc81478faf70d800e14d3e898f3e9f0d1f46204407551a318122c31a0cce17e368eb8fc114924ce688be353aaf7b4935216be3a2b8d65cc1b11cc08aa6ee50cb49ab5aedc921db6fd0e0c1f239a83a6c0562c791b863c950b41dae7d991f5c2555c81acc25e29ba13eb00db6f6ef8c2075b4551c7c1ed837c3125822383e908c8e838aee6f3389fca95feaefc6891f555c486dbc2559066693179e7786f0f8cff5c0f66a3c256cabb41a133cce5061e2645ff0fc826eddccac24f7674857649c3c3a71d9984a7bcc3012c36603f69cc787bb01ba7316014d992c0a90a7ab6c93ce245284278da9a6310a277b1a8e2ff203a373df9a0c8960852cd0bc7bb59d6b333b0cb038150054ba7d4aadbdaa9f841a2f207a3669a77fc22026e9a1871239fddfb9c8a1ba46fb3955edbbcd86ba01c83a473db0c4ef6dd71b64034b26e67c662e646c1a1fa9676a9b10673e863e69dedee732d28fb8d6780743ac63c180d4fc05ee254fe70efa699efe3ecaed1cbeafe9ef95b97c5b66ca2026e9a1871239fddfb9c8a1ba46fb3955edbbcd86ba01c83a473db0c4ef6dd70d6952d24b6451fdf162c0ab6bd5c96fd34fb6757680c26b54e86a51c14d86a6265ed71fcf5edff698bbe4c8fe3e14c164f3a42551f339ea276b80e9f8175aa505e39b7b9527cfcb3fcf73d9491db5b16755fd87590699c7427988afe3aa6ac227e513f5d6254f9dd0778c26177982251d32f636a2350b210e2ca33d0ef212d5', 'transcript_type': 'EVM'}\n",
      "Time gen prf: 2.5115292072296143 seconds\n"
     ]
    }
   ],
   "source": [
    "# Here verifier & prover can concurrently call setup since all params are public to get pk.\n",
    "# Here write as verifier function to emphasize that verifier must calculate its own vk to be sure\n",
    "setup(verifier_model_path, verifier_compiled_model_path, settings_path,vk_path, pk_path )\n",
    "\n",
    "print(\"=======================================\")\n",
    "# Prover generates proof\n",
    "prover_gen_proof(prover_model_path, sel_data_path, witness_path, prover_compiled_model_path, settings_path, proof_path, pk_path)"
   ]
  },
  {
   "cell_type": "code",
   "execution_count": 10,
   "metadata": {},
   "outputs": [
    {
     "name": "stdout",
     "output_type": "stream",
     "text": [
      "Verifier gets result: [212.5]\n"
     ]
    }
   ],
   "source": [
    "# Verifier verifies\n",
    "res = verifier_verify(proof_path, settings_path, vk_path, selected_columns, commitment_maps)\n",
    "print(\"Verifier gets result:\", res)"
   ]
  }
 ],
 "metadata": {
  "kernelspec": {
   "display_name": "Python 3",
   "language": "python",
   "name": "python3"
  },
  "language_info": {
   "codemirror_mode": {
    "name": "ipython",
    "version": 3
   },
   "file_extension": ".py",
   "mimetype": "text/x-python",
   "name": "python",
   "nbconvert_exporter": "python",
   "pygments_lexer": "ipython3",
   "version": "3.11.4"
  },
  "orig_nbformat": 4
 },
 "nbformat": 4,
 "nbformat_minor": 2
}
