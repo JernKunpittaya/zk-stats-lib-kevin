{
 "cells": [
  {
   "cell_type": "code",
   "execution_count": 1,
   "metadata": {},
   "outputs": [
    {
     "name": "stdout",
     "output_type": "stream",
     "text": [
      "Requirement already satisfied: ezkl==7.0.0 in /Users/mhchia/Library/Caches/pypoetry/virtualenvs/zkstats-brXmXluj-py3.12/lib/python3.12/site-packages (from -r ../../requirements.txt (line 1)) (7.0.0)\n",
      "Requirement already satisfied: torch in /Users/mhchia/Library/Caches/pypoetry/virtualenvs/zkstats-brXmXluj-py3.12/lib/python3.12/site-packages (from -r ../../requirements.txt (line 2)) (2.2.0)\n",
      "Requirement already satisfied: requests in /Users/mhchia/Library/Caches/pypoetry/virtualenvs/zkstats-brXmXluj-py3.12/lib/python3.12/site-packages (from -r ../../requirements.txt (line 3)) (2.31.0)\n",
      "Requirement already satisfied: scipy in /Users/mhchia/Library/Caches/pypoetry/virtualenvs/zkstats-brXmXluj-py3.12/lib/python3.12/site-packages (from -r ../../requirements.txt (line 4)) (1.12.0)\n",
      "Requirement already satisfied: numpy in /Users/mhchia/Library/Caches/pypoetry/virtualenvs/zkstats-brXmXluj-py3.12/lib/python3.12/site-packages (from -r ../../requirements.txt (line 5)) (1.26.3)\n",
      "Requirement already satisfied: matplotlib in /Users/mhchia/Library/Caches/pypoetry/virtualenvs/zkstats-brXmXluj-py3.12/lib/python3.12/site-packages (from -r ../../requirements.txt (line 6)) (3.8.2)\n",
      "Requirement already satisfied: statistics in /Users/mhchia/Library/Caches/pypoetry/virtualenvs/zkstats-brXmXluj-py3.12/lib/python3.12/site-packages (from -r ../../requirements.txt (line 7)) (1.0.3.5)\n",
      "Requirement already satisfied: onnx in /Users/mhchia/Library/Caches/pypoetry/virtualenvs/zkstats-brXmXluj-py3.12/lib/python3.12/site-packages (from -r ../../requirements.txt (line 8)) (1.15.0)\n",
      "Requirement already satisfied: filelock in /Users/mhchia/Library/Caches/pypoetry/virtualenvs/zkstats-brXmXluj-py3.12/lib/python3.12/site-packages (from torch->-r ../../requirements.txt (line 2)) (3.13.1)\n",
      "Requirement already satisfied: typing-extensions>=4.8.0 in /Users/mhchia/Library/Caches/pypoetry/virtualenvs/zkstats-brXmXluj-py3.12/lib/python3.12/site-packages (from torch->-r ../../requirements.txt (line 2)) (4.9.0)\n",
      "Requirement already satisfied: sympy in /Users/mhchia/Library/Caches/pypoetry/virtualenvs/zkstats-brXmXluj-py3.12/lib/python3.12/site-packages (from torch->-r ../../requirements.txt (line 2)) (1.12)\n",
      "Requirement already satisfied: networkx in /Users/mhchia/Library/Caches/pypoetry/virtualenvs/zkstats-brXmXluj-py3.12/lib/python3.12/site-packages (from torch->-r ../../requirements.txt (line 2)) (3.2.1)\n",
      "Requirement already satisfied: jinja2 in /Users/mhchia/Library/Caches/pypoetry/virtualenvs/zkstats-brXmXluj-py3.12/lib/python3.12/site-packages (from torch->-r ../../requirements.txt (line 2)) (3.1.3)\n",
      "Requirement already satisfied: fsspec in /Users/mhchia/Library/Caches/pypoetry/virtualenvs/zkstats-brXmXluj-py3.12/lib/python3.12/site-packages (from torch->-r ../../requirements.txt (line 2)) (2023.12.2)\n",
      "Requirement already satisfied: charset-normalizer<4,>=2 in /Users/mhchia/Library/Caches/pypoetry/virtualenvs/zkstats-brXmXluj-py3.12/lib/python3.12/site-packages (from requests->-r ../../requirements.txt (line 3)) (3.3.2)\n",
      "Requirement already satisfied: idna<4,>=2.5 in /Users/mhchia/Library/Caches/pypoetry/virtualenvs/zkstats-brXmXluj-py3.12/lib/python3.12/site-packages (from requests->-r ../../requirements.txt (line 3)) (3.6)\n",
      "Requirement already satisfied: urllib3<3,>=1.21.1 in /Users/mhchia/Library/Caches/pypoetry/virtualenvs/zkstats-brXmXluj-py3.12/lib/python3.12/site-packages (from requests->-r ../../requirements.txt (line 3)) (2.2.0)\n",
      "Requirement already satisfied: certifi>=2017.4.17 in /Users/mhchia/Library/Caches/pypoetry/virtualenvs/zkstats-brXmXluj-py3.12/lib/python3.12/site-packages (from requests->-r ../../requirements.txt (line 3)) (2024.2.2)\n",
      "Requirement already satisfied: contourpy>=1.0.1 in /Users/mhchia/Library/Caches/pypoetry/virtualenvs/zkstats-brXmXluj-py3.12/lib/python3.12/site-packages (from matplotlib->-r ../../requirements.txt (line 6)) (1.2.0)\n",
      "Requirement already satisfied: cycler>=0.10 in /Users/mhchia/Library/Caches/pypoetry/virtualenvs/zkstats-brXmXluj-py3.12/lib/python3.12/site-packages (from matplotlib->-r ../../requirements.txt (line 6)) (0.12.1)\n",
      "Requirement already satisfied: fonttools>=4.22.0 in /Users/mhchia/Library/Caches/pypoetry/virtualenvs/zkstats-brXmXluj-py3.12/lib/python3.12/site-packages (from matplotlib->-r ../../requirements.txt (line 6)) (4.47.2)\n",
      "Requirement already satisfied: kiwisolver>=1.3.1 in /Users/mhchia/Library/Caches/pypoetry/virtualenvs/zkstats-brXmXluj-py3.12/lib/python3.12/site-packages (from matplotlib->-r ../../requirements.txt (line 6)) (1.4.5)\n",
      "Requirement already satisfied: packaging>=20.0 in /Users/mhchia/Library/Caches/pypoetry/virtualenvs/zkstats-brXmXluj-py3.12/lib/python3.12/site-packages (from matplotlib->-r ../../requirements.txt (line 6)) (23.2)\n",
      "Requirement already satisfied: pillow>=8 in /Users/mhchia/Library/Caches/pypoetry/virtualenvs/zkstats-brXmXluj-py3.12/lib/python3.12/site-packages (from matplotlib->-r ../../requirements.txt (line 6)) (10.2.0)\n",
      "Requirement already satisfied: pyparsing>=2.3.1 in /Users/mhchia/Library/Caches/pypoetry/virtualenvs/zkstats-brXmXluj-py3.12/lib/python3.12/site-packages (from matplotlib->-r ../../requirements.txt (line 6)) (3.1.1)\n",
      "Requirement already satisfied: python-dateutil>=2.7 in /Users/mhchia/Library/Caches/pypoetry/virtualenvs/zkstats-brXmXluj-py3.12/lib/python3.12/site-packages (from matplotlib->-r ../../requirements.txt (line 6)) (2.8.2)\n",
      "Requirement already satisfied: docutils>=0.3 in /Users/mhchia/Library/Caches/pypoetry/virtualenvs/zkstats-brXmXluj-py3.12/lib/python3.12/site-packages (from statistics->-r ../../requirements.txt (line 7)) (0.20.1)\n",
      "Requirement already satisfied: protobuf>=3.20.2 in /Users/mhchia/Library/Caches/pypoetry/virtualenvs/zkstats-brXmXluj-py3.12/lib/python3.12/site-packages (from onnx->-r ../../requirements.txt (line 8)) (4.25.2)\n",
      "Requirement already satisfied: six>=1.5 in /Users/mhchia/Library/Caches/pypoetry/virtualenvs/zkstats-brXmXluj-py3.12/lib/python3.12/site-packages (from python-dateutil>=2.7->matplotlib->-r ../../requirements.txt (line 6)) (1.16.0)\n",
      "Requirement already satisfied: MarkupSafe>=2.0 in /Users/mhchia/Library/Caches/pypoetry/virtualenvs/zkstats-brXmXluj-py3.12/lib/python3.12/site-packages (from jinja2->torch->-r ../../requirements.txt (line 2)) (2.1.4)\n",
      "Requirement already satisfied: mpmath>=0.19 in /Users/mhchia/Library/Caches/pypoetry/virtualenvs/zkstats-brXmXluj-py3.12/lib/python3.12/site-packages (from sympy->torch->-r ../../requirements.txt (line 2)) (1.3.0)\n",
      "\n",
      "\u001b[1m[\u001b[0m\u001b[34;49mnotice\u001b[0m\u001b[1;39;49m]\u001b[0m\u001b[39;49m A new release of pip is available: \u001b[0m\u001b[31;49m23.3.1\u001b[0m\u001b[39;49m -> \u001b[0m\u001b[32;49m24.0\u001b[0m\n",
      "\u001b[1m[\u001b[0m\u001b[34;49mnotice\u001b[0m\u001b[1;39;49m]\u001b[0m\u001b[39;49m To update, run: \u001b[0m\u001b[32;49mpip install --upgrade pip\u001b[0m\n",
      "Note: you may need to restart the kernel to use updated packages.\n"
     ]
    }
   ],
   "source": [
    "pip install -r ../../requirements.txt"
   ]
  },
  {
   "cell_type": "code",
   "execution_count": 2,
   "metadata": {},
   "outputs": [],
   "source": [
    "import ezkl\n",
    "import torch\n",
    "from torch import nn\n",
    "import json\n",
    "import os\n",
    "import time\n",
    "import scipy\n",
    "import numpy as np\n",
    "import matplotlib.pyplot as plt\n",
    "import statistics\n",
    "import math"
   ]
  },
  {
   "cell_type": "code",
   "execution_count": 3,
   "metadata": {},
   "outputs": [],
   "source": [
    "%run -i ../../zkstats/core.py"
   ]
  },
  {
   "attachments": {},
   "cell_type": "markdown",
   "metadata": {},
   "source": []
  },
  {
   "cell_type": "code",
   "execution_count": 4,
   "metadata": {},
   "outputs": [],
   "source": [
    "# init path\n",
    "os.makedirs(os.path.dirname('shared/'), exist_ok=True)\n",
    "os.makedirs(os.path.dirname('prover/'), exist_ok=True)\n",
    "verifier_model_path = os.path.join('shared/verifier.onnx')\n",
    "prover_model_path = os.path.join('prover/prover.onnx')\n",
    "verifier_compiled_model_path = os.path.join('shared/verifier.compiled')\n",
    "prover_compiled_model_path = os.path.join('prover/prover.compiled')\n",
    "pk_path = os.path.join('shared/test.pk')\n",
    "vk_path = os.path.join('shared/test.vk')\n",
    "proof_path = os.path.join('shared/test.pf')\n",
    "settings_path = os.path.join('shared/settings.json')\n",
    "srs_path = os.path.join('shared/kzg.srs')\n",
    "witness_path = os.path.join('prover/witness.json')\n",
    "# this is private to prover since it contains actual data\n",
    "sel_data_path = os.path.join('prover/sel_data.json')\n",
    "# this is just dummy random value\n",
    "sel_dummy_data_path = os.path.join('shared/sel_dummy_data.json')"
   ]
  },
  {
   "attachments": {},
   "cell_type": "markdown",
   "metadata": {},
   "source": [
    "=======================  ZK-STATS FLOW ======================="
   ]
  },
  {
   "cell_type": "code",
   "execution_count": 5,
   "metadata": {},
   "outputs": [],
   "source": [
    "def mode_within(data_array, percent):\n",
    "    max_sum_freq = 0\n",
    "    mode = data_array[0]\n",
    "\n",
    "    for check_val in set(data_array):\n",
    "        sum_freq = sum(1 for ele in data_array if abs(ele - check_val) <= abs(percent * check_val / 100))\n",
    "\n",
    "        if sum_freq > max_sum_freq:\n",
    "            mode = check_val\n",
    "            max_sum_freq = sum_freq\n",
    "\n",
    "    return mode"
   ]
  },
  {
   "cell_type": "code",
   "execution_count": 6,
   "metadata": {},
   "outputs": [],
   "source": [
    "data_path = os.path.join('data.json')\n",
    "dummy_data_path = os.path.join('shared/dummy_data.json')\n",
    "\n",
    "data = np.array(json.loads(open(data_path, \"r\").read())['col_name'])\n",
    "\n",
    "create_dummy(data_path, dummy_data_path)\n",
    "dummy_data = np.array(json.loads(open(dummy_data_path, \"r\").read())['col_name'])\n",
    "\n",
    "dummy_theory_output = torch.tensor(mode_within(dummy_data[dummy_data>20],1))"
   ]
  },
  {
   "cell_type": "code",
   "execution_count": 7,
   "metadata": {},
   "outputs": [],
   "source": [
    "scales = [2]\n",
    "selected_columns = ['col_name']\n",
    "commitment_maps = get_data_commitment_maps(data_path, scales)"
   ]
  },
  {
   "cell_type": "code",
   "execution_count": 8,
   "metadata": {},
   "outputs": [
    {
     "name": "stderr",
     "output_type": "stream",
     "text": [
      "/Users/mhchia/projects/work/pse/zk-stats-lib/zkstats/ops.py:144: UserWarning: To copy construct from a tensor, it is recommended to use sourceTensor.clone().detach() or sourceTensor.clone().detach().requires_grad_(True), rather than torch.tensor(sourceTensor).\n",
      "  result = torch.tensor(mode_within(x_1d, 0.01))\n",
      "/Users/mhchia/projects/work/pse/zk-stats-lib/zkstats/computation.py:166: TracerWarning: torch.tensor results are registered as constants in the trace. You can safely ignore this warning if you use this function to create tensors out of constant variables that would be the same every time you call this function. In any other case, this might cause the trace to be incorrect.\n",
      "  is_precise_aggregated = torch.tensor(1.0)\n",
      "/Users/mhchia/projects/work/pse/zk-stats-lib/zkstats/ops.py:152: TracerWarning: Iterating over a tensor might cause the trace to be incorrect. Passing a tensor of different shape won't change the number of iterations executed (and might lead to errors or silently give incorrect results).\n",
      "  _result = torch.tensor([\n",
      "/Users/mhchia/projects/work/pse/zk-stats-lib/zkstats/ops.py:152: TracerWarning: torch.tensor results are registered as constants in the trace. You can safely ignore this warning if you use this function to create tensors out of constant variables that would be the same every time you call this function. In any other case, this might cause the trace to be incorrect.\n",
      "  _result = torch.tensor([\n",
      "/Users/mhchia/projects/work/pse/zk-stats-lib/zkstats/ops.py:152: TracerWarning: Converting a tensor to a Python float might cause the trace to be incorrect. We can't record the data flow of Python values, so this value will be treated as a constant in the future. This means that the trace might not generalize to other inputs!\n",
      "  _result = torch.tensor([\n",
      "/Users/mhchia/Library/Caches/pypoetry/virtualenvs/zkstats-brXmXluj-py3.12/lib/python3.12/site-packages/torch/onnx/symbolic_opset9.py:2174: FutureWarning: 'torch.onnx.symbolic_opset9._cast_Bool' is deprecated in version 2.0 and will be removed in the future. Please Avoid using this function and create a Cast node instead.\n",
      "  return fn(g, to_cast_func(g, input, False), to_cast_func(g, other, False))\n"
     ]
    }
   ],
   "source": [
    "# Verifier/ data consumer side: send desired calculation\n",
    "from zkstats.computation import computation_to_model, State\n",
    "\n",
    "\n",
    "def computation(s: State, data: list[torch.Tensor]) -> torch.Tensor:\n",
    "    x = data[0]\n",
    "    # FIXME: should be replaced by `s.where` when it's available. Now the result may be incorrect\n",
    "    filter = (x > 20)\n",
    "    min_x = torch.min(x)\n",
    "    filtered_x = torch.where(filter, x, min_x - 1)\n",
    "    return s.mode(filtered_x)\n",
    "\n",
    "error = 0.01\n",
    "_, verifier_model = computation_to_model(computation, error)\n",
    "\n",
    "verifier_define_calculation(dummy_data_path, selected_columns, sel_dummy_data_path,verifier_model, verifier_model_path)"
   ]
  },
  {
   "cell_type": "code",
   "execution_count": 9,
   "metadata": {},
   "outputs": [
    {
     "name": "stdout",
     "output_type": "stream",
     "text": [
      "==== Generate & Calibrate Setting ====\n",
      "scale:  [2]\n",
      "setting:  {\"run_args\":{\"tolerance\":{\"val\":0.0,\"scale\":1.0},\"input_scale\":2,\"param_scale\":2,\"scale_rebase_multiplier\":10,\"lookup_range\":[0,0],\"logrows\":14,\"num_inner_cols\":2,\"variables\":[[\"batch_size\",1]],\"input_visibility\":{\"Hashed\":{\"hash_is_public\":true,\"outlets\":[]}},\"output_visibility\":\"Public\",\"param_visibility\":\"Private\"},\"num_rows\":14432,\"total_assignments\":299,\"total_const_size\":0,\"model_instance_shapes\":[[1],[1]],\"model_output_scales\":[0,2],\"model_input_scales\":[2],\"module_sizes\":{\"kzg\":[],\"poseidon\":[14432,[1]],\"elgamal\":[0,[0]]},\"required_lookups\":[],\"check_mode\":\"UNSAFE\",\"version\":\"7.0.0\",\"num_blinding_factors\":null}\n"
     ]
    }
   ],
   "source": [
    "# Prover/ data owner side\n",
    "_, prover_model = computation_to_model(computation, error)\n",
    "\n",
    "prover_gen_settings(data_path, selected_columns, sel_data_path, prover_model, prover_model_path, scales, \"resources\", settings_path)"
   ]
  },
  {
   "cell_type": "code",
   "execution_count": 10,
   "metadata": {},
   "outputs": [
    {
     "name": "stderr",
     "output_type": "stream",
     "text": [
      "spawning module 0\n"
     ]
    },
    {
     "name": "stderr",
     "output_type": "stream",
     "text": [
      "spawning module 2\n"
     ]
    },
    {
     "name": "stdout",
     "output_type": "stream",
     "text": [
      "==== setting up ezkl ====\n"
     ]
    },
    {
     "name": "stderr",
     "output_type": "stream",
     "text": [
      "spawning module 0\n",
      "spawning module 2\n"
     ]
    },
    {
     "name": "stdout",
     "output_type": "stream",
     "text": [
      "Time setup: 2.9408609867095947 seconds\n",
      "=======================================\n",
      "Theory output:  tensor(40., dtype=torch.float64)\n",
      "==== Generating Witness ====\n",
      "witness boolean:  1.0\n",
      "witness result 1 : 40.0\n",
      "==== Generating Proof ====\n"
     ]
    },
    {
     "name": "stderr",
     "output_type": "stream",
     "text": [
      "spawning module 0\n",
      "spawning module 2\n"
     ]
    },
    {
     "name": "stdout",
     "output_type": "stream",
     "text": [
      "proof:  {'instances': [[[1780239215148830498, 13236513277824664467, 10913529727158264423, 131860697733488968], [12436184717236109307, 3962172157175319849, 7381016538464732718, 1011752739694698287], [12341676197686541490, 2627393525778350065, 16625494184434727973, 1478518078215075360]]], 'proof': '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', 'transcript_type': 'EVM'}\n",
      "Time gen prf: 2.9697458744049072 seconds\n"
     ]
    }
   ],
   "source": [
    "# Here verifier & prover can concurrently call setup since all params are public to get pk.\n",
    "# Here write as verifier function to emphasize that verifier must calculate its own vk to be sure\n",
    "setup(verifier_model_path, verifier_compiled_model_path, settings_path,vk_path, pk_path )\n",
    "\n",
    "print(\"=======================================\")\n",
    "# Prover generates proof\n",
    "prover_gen_proof(prover_model_path, sel_data_path, witness_path, prover_compiled_model_path, settings_path, proof_path, pk_path)"
   ]
  },
  {
   "cell_type": "code",
   "execution_count": 11,
   "metadata": {},
   "outputs": [
    {
     "name": "stdout",
     "output_type": "stream",
     "text": [
      "Verifier gets result: 40.0\n"
     ]
    }
   ],
   "source": [
    "# Verifier verifies\n",
    "res = verifier_verify(proof_path, settings_path, vk_path, selected_columns, commitment_maps)\n",
    "print(\"Verifier gets result:\", res)"
   ]
  }
 ],
 "metadata": {
  "kernelspec": {
   "display_name": "Python 3",
   "language": "python",
   "name": "python3"
  },
  "language_info": {
   "codemirror_mode": {
    "name": "ipython",
    "version": 3
   },
   "file_extension": ".py",
   "mimetype": "text/x-python",
   "name": "python",
   "nbconvert_exporter": "python",
   "pygments_lexer": "ipython3",
   "version": "3.12.1"
  },
  "orig_nbformat": 4
 },
 "nbformat": 4,
 "nbformat_minor": 2
}
