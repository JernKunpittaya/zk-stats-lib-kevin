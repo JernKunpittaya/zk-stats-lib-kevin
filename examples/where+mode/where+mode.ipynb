{
 "cells": [
  {
   "cell_type": "code",
   "execution_count": 1,
   "metadata": {},
   "outputs": [
    {
     "name": "stdout",
     "output_type": "stream",
     "text": [
      "Requirement already satisfied: ezkl==7.0.0 in /Library/Frameworks/Python.framework/Versions/3.10/lib/python3.10/site-packages (from -r ../../requirements.txt (line 1)) (7.0.0)\n",
      "Requirement already satisfied: torch in /Library/Frameworks/Python.framework/Versions/3.10/lib/python3.10/site-packages (from -r ../../requirements.txt (line 2)) (2.1.1)\n",
      "Requirement already satisfied: requests in /Library/Frameworks/Python.framework/Versions/3.10/lib/python3.10/site-packages (from -r ../../requirements.txt (line 3)) (2.31.0)\n",
      "Requirement already satisfied: scipy in /Library/Frameworks/Python.framework/Versions/3.10/lib/python3.10/site-packages (from -r ../../requirements.txt (line 4)) (1.11.4)\n",
      "Requirement already satisfied: numpy in /Library/Frameworks/Python.framework/Versions/3.10/lib/python3.10/site-packages (from -r ../../requirements.txt (line 5)) (1.26.2)\n",
      "Requirement already satisfied: matplotlib in /Library/Frameworks/Python.framework/Versions/3.10/lib/python3.10/site-packages (from -r ../../requirements.txt (line 6)) (3.8.2)\n",
      "Requirement already satisfied: statistics in /Library/Frameworks/Python.framework/Versions/3.10/lib/python3.10/site-packages (from -r ../../requirements.txt (line 7)) (1.0.3.5)\n",
      "Requirement already satisfied: onnx in /Library/Frameworks/Python.framework/Versions/3.10/lib/python3.10/site-packages (from -r ../../requirements.txt (line 8)) (1.15.0)\n",
      "Requirement already satisfied: jinja2 in /Library/Frameworks/Python.framework/Versions/3.10/lib/python3.10/site-packages (from torch->-r ../../requirements.txt (line 2)) (3.1.2)\n",
      "Requirement already satisfied: typing-extensions in /Library/Frameworks/Python.framework/Versions/3.10/lib/python3.10/site-packages (from torch->-r ../../requirements.txt (line 2)) (4.8.0)\n",
      "Requirement already satisfied: fsspec in /Library/Frameworks/Python.framework/Versions/3.10/lib/python3.10/site-packages (from torch->-r ../../requirements.txt (line 2)) (2023.10.0)\n",
      "Requirement already satisfied: networkx in /Library/Frameworks/Python.framework/Versions/3.10/lib/python3.10/site-packages (from torch->-r ../../requirements.txt (line 2)) (3.2.1)\n",
      "Requirement already satisfied: filelock in /Library/Frameworks/Python.framework/Versions/3.10/lib/python3.10/site-packages (from torch->-r ../../requirements.txt (line 2)) (3.13.1)\n",
      "Requirement already satisfied: sympy in /Library/Frameworks/Python.framework/Versions/3.10/lib/python3.10/site-packages (from torch->-r ../../requirements.txt (line 2)) (1.12)\n",
      "Requirement already satisfied: charset-normalizer<4,>=2 in /Library/Frameworks/Python.framework/Versions/3.10/lib/python3.10/site-packages (from requests->-r ../../requirements.txt (line 3)) (3.3.2)\n",
      "Requirement already satisfied: urllib3<3,>=1.21.1 in /Library/Frameworks/Python.framework/Versions/3.10/lib/python3.10/site-packages (from requests->-r ../../requirements.txt (line 3)) (2.1.0)\n",
      "Requirement already satisfied: idna<4,>=2.5 in /Library/Frameworks/Python.framework/Versions/3.10/lib/python3.10/site-packages (from requests->-r ../../requirements.txt (line 3)) (3.6)\n",
      "Requirement already satisfied: certifi>=2017.4.17 in /Library/Frameworks/Python.framework/Versions/3.10/lib/python3.10/site-packages (from requests->-r ../../requirements.txt (line 3)) (2023.11.17)\n",
      "Requirement already satisfied: pyparsing>=2.3.1 in /Library/Frameworks/Python.framework/Versions/3.10/lib/python3.10/site-packages (from matplotlib->-r ../../requirements.txt (line 6)) (3.1.1)\n",
      "Requirement already satisfied: kiwisolver>=1.3.1 in /Library/Frameworks/Python.framework/Versions/3.10/lib/python3.10/site-packages (from matplotlib->-r ../../requirements.txt (line 6)) (1.4.5)\n",
      "Requirement already satisfied: packaging>=20.0 in /Users/jernkun/Library/Python/3.10/lib/python/site-packages (from matplotlib->-r ../../requirements.txt (line 6)) (23.2)\n",
      "Requirement already satisfied: cycler>=0.10 in /Library/Frameworks/Python.framework/Versions/3.10/lib/python3.10/site-packages (from matplotlib->-r ../../requirements.txt (line 6)) (0.12.1)\n",
      "Requirement already satisfied: python-dateutil>=2.7 in /Users/jernkun/Library/Python/3.10/lib/python/site-packages (from matplotlib->-r ../../requirements.txt (line 6)) (2.8.2)\n",
      "Requirement already satisfied: pillow>=8 in /Library/Frameworks/Python.framework/Versions/3.10/lib/python3.10/site-packages (from matplotlib->-r ../../requirements.txt (line 6)) (10.1.0)\n",
      "Requirement already satisfied: fonttools>=4.22.0 in /Library/Frameworks/Python.framework/Versions/3.10/lib/python3.10/site-packages (from matplotlib->-r ../../requirements.txt (line 6)) (4.45.1)\n",
      "Requirement already satisfied: contourpy>=1.0.1 in /Library/Frameworks/Python.framework/Versions/3.10/lib/python3.10/site-packages (from matplotlib->-r ../../requirements.txt (line 6)) (1.2.0)\n",
      "Requirement already satisfied: docutils>=0.3 in /Library/Frameworks/Python.framework/Versions/3.10/lib/python3.10/site-packages (from statistics->-r ../../requirements.txt (line 7)) (0.20.1)\n",
      "Requirement already satisfied: protobuf>=3.20.2 in /Library/Frameworks/Python.framework/Versions/3.10/lib/python3.10/site-packages (from onnx->-r ../../requirements.txt (line 8)) (4.25.1)\n",
      "Requirement already satisfied: six>=1.5 in /Users/jernkun/Library/Python/3.10/lib/python/site-packages (from python-dateutil>=2.7->matplotlib->-r ../../requirements.txt (line 6)) (1.16.0)\n",
      "Requirement already satisfied: MarkupSafe>=2.0 in /Library/Frameworks/Python.framework/Versions/3.10/lib/python3.10/site-packages (from jinja2->torch->-r ../../requirements.txt (line 2)) (2.1.3)\n",
      "Requirement already satisfied: mpmath>=0.19 in /Library/Frameworks/Python.framework/Versions/3.10/lib/python3.10/site-packages (from sympy->torch->-r ../../requirements.txt (line 2)) (1.3.0)\n",
      "\u001b[33mWARNING: You are using pip version 21.2.3; however, version 23.3.2 is available.\n",
      "You should consider upgrading via the '/usr/local/bin/python3 -m pip install --upgrade pip' command.\u001b[0m\n",
      "Note: you may need to restart the kernel to use updated packages.\n"
     ]
    }
   ],
   "source": [
    "pip install -r ../../requirements.txt"
   ]
  },
  {
   "cell_type": "code",
   "execution_count": 2,
   "metadata": {},
   "outputs": [],
   "source": [
    "import ezkl\n",
    "import torch\n",
    "from torch import nn\n",
    "import json\n",
    "import os\n",
    "import time\n",
    "import scipy\n",
    "import numpy as np\n",
    "import matplotlib.pyplot as plt\n",
    "import statistics\n",
    "import math"
   ]
  },
  {
   "cell_type": "code",
   "execution_count": 3,
   "metadata": {},
   "outputs": [],
   "source": [
    "%run -i ../../zkstats/core.py"
   ]
  },
  {
   "attachments": {},
   "cell_type": "markdown",
   "metadata": {},
   "source": []
  },
  {
   "cell_type": "code",
   "execution_count": 4,
   "metadata": {},
   "outputs": [],
   "source": [
    "# init path\n",
    "os.makedirs(os.path.dirname('shared/'), exist_ok=True)\n",
    "os.makedirs(os.path.dirname('prover/'), exist_ok=True)\n",
    "verifier_model_path = os.path.join('shared/verifier.onnx')\n",
    "prover_model_path = os.path.join('prover/prover.onnx')\n",
    "verifier_compiled_model_path = os.path.join('shared/verifier.compiled')\n",
    "prover_compiled_model_path = os.path.join('prover/prover.compiled')\n",
    "pk_path = os.path.join('shared/test.pk')\n",
    "vk_path = os.path.join('shared/test.vk')\n",
    "proof_path = os.path.join('shared/test.pf')\n",
    "settings_path = os.path.join('shared/settings.json')\n",
    "srs_path = os.path.join('shared/kzg.srs')\n",
    "witness_path = os.path.join('prover/witness.json')\n",
    "# this is private to prover since it contains actual data\n",
    "sel_data_path = os.path.join('prover/sel_data.json')\n",
    "# this is just dummy random value\n",
    "sel_dummy_data_path = os.path.join('shared/sel_dummy_data.json')"
   ]
  },
  {
   "attachments": {},
   "cell_type": "markdown",
   "metadata": {},
   "source": [
    "=======================  ZK-STATS FLOW ======================="
   ]
  },
  {
   "cell_type": "code",
   "execution_count": 5,
   "metadata": {},
   "outputs": [],
   "source": [
    "def mode_within(data_array, percent):\n",
    "    max_sum_freq = 0\n",
    "    mode = data_array[0]\n",
    "\n",
    "    for check_val in set(data_array):\n",
    "        sum_freq = sum(1 for ele in data_array if abs(ele - check_val) <= abs(percent * check_val / 100))\n",
    "\n",
    "        if sum_freq > max_sum_freq:\n",
    "            mode = check_val\n",
    "            max_sum_freq = sum_freq\n",
    "\n",
    "    return mode"
   ]
  },
  {
   "cell_type": "code",
   "execution_count": 6,
   "metadata": {},
   "outputs": [],
   "source": [
    "data_path = os.path.join('data.json')\n",
    "dummy_data_path = os.path.join('shared/dummy_data.json')\n",
    "\n",
    "data = np.array(json.loads(open(data_path, \"r\").read())['col_name'])\n",
    "\n",
    "create_dummy(data_path, dummy_data_path)\n",
    "dummy_data = np.array(json.loads(open(dummy_data_path, \"r\").read())['col_name'])\n",
    "\n",
    "dummy_theory_output = torch.tensor(mode_within(dummy_data[dummy_data>20],1))\n",
    "theory_output = torch.tensor(mode_within(data[data>20],1))"
   ]
  },
  {
   "cell_type": "code",
   "execution_count": null,
   "metadata": {},
   "outputs": [],
   "source": [
    "scales = [2]\n",
    "selected_columns = ['col_name']\n",
    "commitment_maps = get_data_commitment_maps(data_path, scales)"
   ]
  },
  {
   "cell_type": "code",
   "execution_count": 7,
   "metadata": {},
   "outputs": [
    {
     "name": "stderr",
     "output_type": "stream",
     "text": [
      "/var/folders/89/y9dw12v976ngdmqz4l7wbsnr0000gn/T/ipykernel_10339/1524068298.py:14: TracerWarning: Iterating over a tensor might cause the trace to be incorrect. Passing a tensor of different shape won't change the number of iterations executed (and might lead to errors or silently give incorrect results).\n",
      "  result = torch.tensor([torch.logical_or(torch.sum((torch.abs(X-ele[0])<=torch.abs(0.01*ele[0])).double())<=count_equal, torch.abs(min_X-1-ele[0])<=torch.abs(0.01*ele[0])) for ele in X[0]])\n",
      "/var/folders/89/y9dw12v976ngdmqz4l7wbsnr0000gn/T/ipykernel_10339/1524068298.py:14: TracerWarning: torch.tensor results are registered as constants in the trace. You can safely ignore this warning if you use this function to create tensors out of constant variables that would be the same every time you call this function. In any other case, this might cause the trace to be incorrect.\n",
      "  result = torch.tensor([torch.logical_or(torch.sum((torch.abs(X-ele[0])<=torch.abs(0.01*ele[0])).double())<=count_equal, torch.abs(min_X-1-ele[0])<=torch.abs(0.01*ele[0])) for ele in X[0]])\n"
     ]
    }
   ],
   "source": [
    "# Verifier/ data consumer side: send desired calculation\n",
    "class verifier_model(nn.Module):\n",
    "    def __init__(self):\n",
    "        super(verifier_model, self).__init__()\n",
    "        # w represents mean in this case\n",
    "        self.w = nn.Parameter(data = dummy_theory_output, requires_grad = False)\n",
    "\n",
    "    def forward(self,X):\n",
    "        # where part\n",
    "        filter = (X>20)\n",
    "        min_X = torch.min(X)\n",
    "        fil_X = torch.where(filter, X, min_X-1)\n",
    "        count_equal = torch.sum((torch.abs(X-self.w)<=torch.abs(0.01*self.w)).double())\n",
    "        result = torch.tensor([torch.logical_or(torch.sum((torch.abs(X-ele[0])<=torch.abs(0.01*ele[0])).double())<=count_equal, torch.abs(min_X-1-ele[0])<=torch.abs(0.01*ele[0])) for ele in X[0]])\n",
    "        return (torch.sum(result) == X.size()[1], self.w)\n",
    "\n",
    "\n",
    "verifier_define_calculation(dummy_data_path, selected_columns,sel_dummy_data_path,verifier_model, verifier_model_path)"
   ]
  },
  {
   "cell_type": "code",
   "execution_count": 8,
   "metadata": {},
   "outputs": [
    {
     "name": "stderr",
     "output_type": "stream",
     "text": [
      "/var/folders/89/y9dw12v976ngdmqz4l7wbsnr0000gn/T/ipykernel_10339/2893268206.py:15: TracerWarning: Iterating over a tensor might cause the trace to be incorrect. Passing a tensor of different shape won't change the number of iterations executed (and might lead to errors or silently give incorrect results).\n",
      "  result = torch.tensor([torch.logical_or(torch.sum((torch.abs(X-ele[0])<=torch.abs(0.01*ele[0])).double())<=count_equal, torch.abs(min_X-1-ele[0])<=torch.abs(0.01*ele[0])) for ele in X[0]])\n"
     ]
    },
    {
     "name": "stdout",
     "output_type": "stream",
     "text": [
      "Theory_output:  tensor(40., dtype=torch.float64)\n",
      "==== Generate & Calibrate Setting ====\n",
      "scale:  [2]\n",
      "setting:  {\"run_args\":{\"tolerance\":{\"val\":0.0,\"scale\":1.0},\"input_scale\":2,\"param_scale\":2,\"scale_rebase_multiplier\":10,\"lookup_range\":[0,0],\"logrows\":14,\"num_inner_cols\":2,\"variables\":[[\"batch_size\",1]],\"input_visibility\":{\"Hashed\":{\"hash_is_public\":true,\"outlets\":[]}},\"output_visibility\":\"Public\",\"param_visibility\":\"Private\"},\"num_rows\":14432,\"total_assignments\":299,\"total_const_size\":0,\"model_instance_shapes\":[[1],[1]],\"model_output_scales\":[0,2],\"model_input_scales\":[2],\"module_sizes\":{\"kzg\":[],\"poseidon\":[14432,[1]],\"elgamal\":[0,[0]]},\"required_lookups\":[],\"check_mode\":\"UNSAFE\",\"version\":\"7.0.0\",\"num_blinding_factors\":null}\n"
     ]
    },
    {
     "name": "stderr",
     "output_type": "stream",
     "text": [
      "/var/folders/89/y9dw12v976ngdmqz4l7wbsnr0000gn/T/ipykernel_10339/2893268206.py:15: TracerWarning: torch.tensor results are registered as constants in the trace. You can safely ignore this warning if you use this function to create tensors out of constant variables that would be the same every time you call this function. In any other case, this might cause the trace to be incorrect.\n",
      "  result = torch.tensor([torch.logical_or(torch.sum((torch.abs(X-ele[0])<=torch.abs(0.01*ele[0])).double())<=count_equal, torch.abs(min_X-1-ele[0])<=torch.abs(0.01*ele[0])) for ele in X[0]])\n"
     ]
    }
   ],
   "source": [
    "# prover calculates settings, send to verifier\n",
    "print(\"Theory_output: \", theory_output)\n",
    "class prover_model(nn.Module):\n",
    "    def __init__(self):\n",
    "        super(prover_model, self).__init__()\n",
    "        # w represents mean in this case\n",
    "        self.w = nn.Parameter(data = theory_output, requires_grad = False)\n",
    "\n",
    "    def forward(self,X):\n",
    "        # where part\n",
    "        filter = (X>20)\n",
    "        min_X = torch.min(X)\n",
    "        fil_X = torch.where(filter, X, min_X-1)\n",
    "        count_equal = torch.sum((torch.abs(X-self.w)<=torch.abs(0.01*self.w)).double())\n",
    "        result = torch.tensor([torch.logical_or(torch.sum((torch.abs(X-ele[0])<=torch.abs(0.01*ele[0])).double())<=count_equal, torch.abs(min_X-1-ele[0])<=torch.abs(0.01*ele[0])) for ele in X[0]])\n",
    "        return (torch.sum(result) == X.size()[1], self.w)\n",
    "\n",
    "prover_gen_settings(data_path,selected_columns, sel_data_path, prover_model,prover_model_path, scales, \"resources\", settings_path)"
   ]
  },
  {
   "cell_type": "code",
   "execution_count": 9,
   "metadata": {},
   "outputs": [
    {
     "name": "stderr",
     "output_type": "stream",
     "text": [
      "spawning module 0\n",
      "spawning module 2\n"
     ]
    },
    {
     "name": "stdout",
     "output_type": "stream",
     "text": [
      "==== setting up ezkl ====\n"
     ]
    },
    {
     "name": "stderr",
     "output_type": "stream",
     "text": [
      "spawning module 0\n",
      "spawning module 2\n",
      "spawning module 0\n"
     ]
    },
    {
     "name": "stdout",
     "output_type": "stream",
     "text": [
      "Time setup: 1.478428840637207 seconds\n",
      "=======================================\n",
      "Theory output:  tensor(40., dtype=torch.float64)\n",
      "!@# compiled_model exists? True\n",
      "!@# compiled_model exists? True\n",
      "==== Generating Witness ====\n",
      "witness boolean:  1.0\n",
      "witness result 1 : 40.0\n",
      "==== Generating Proof ====\n"
     ]
    },
    {
     "name": "stderr",
     "output_type": "stream",
     "text": [
      "spawning module 2\n"
     ]
    },
    {
     "name": "stdout",
     "output_type": "stream",
     "text": [
      "proof:  {'instances': [[[1780239215148830498, 13236513277824664467, 10913529727158264423, 131860697733488968], [12436184717236109307, 3962172157175319849, 7381016538464732718, 1011752739694698287], [12341676197686541490, 2627393525778350065, 16625494184434727973, 1478518078215075360]]], 'proof': '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', 'transcript_type': 'EVM'}\n",
      "Time gen prf: 1.8047478199005127 seconds\n"
     ]
    }
   ],
   "source": [
    "# Here verifier & prover can concurrently call setup since all params are public to get pk.\n",
    "# Here write as verifier function to emphasize that verifier must calculate its own vk to be sure\n",
    "setup(verifier_model_path, verifier_compiled_model_path, settings_path,vk_path, pk_path )\n",
    "\n",
    "print(\"=======================================\")\n",
    "# Prover generates proof\n",
    "print(\"Theory output: \", theory_output)\n",
    "prover_gen_proof(prover_model_path, sel_data_path, witness_path, prover_compiled_model_path, settings_path, proof_path, pk_path)"
   ]
  },
  {
   "cell_type": "code",
   "execution_count": 10,
   "metadata": {},
   "outputs": [
    {
     "name": "stdout",
     "output_type": "stream",
     "text": [
      "num_inputs:  1\n",
      "prf instances:  [[[1780239215148830498, 13236513277824664467, 10913529727158264423, 131860697733488968], [12436184717236109307, 3962172157175319849, 7381016538464732718, 1011752739694698287], [12341676197686541490, 2627393525778350065, 16625494184434727973, 1478518078215075360]]]\n",
      "proof boolean:  1.0\n",
      "proof result 1 : 40.0\n",
      "verified\n"
     ]
    }
   ],
   "source": [
    "# Verifier verifies\n",
    "verifier_verify(proof_path, settings_path, vk_path, selected_columns, commitment_maps)"
   ]
  },
  {
   "cell_type": "code",
   "execution_count": null,
   "metadata": {},
   "outputs": [],
   "source": []
  }
 ],
 "metadata": {
  "kernelspec": {
   "display_name": "Python 3",
   "language": "python",
   "name": "python3"
  },
  "language_info": {
   "codemirror_mode": {
    "name": "ipython",
    "version": 3
   },
   "file_extension": ".py",
   "mimetype": "text/x-python",
   "name": "python",
   "nbconvert_exporter": "python",
   "pygments_lexer": "ipython3",
   "version": "3.10.0"
  },
  "orig_nbformat": 4
 },
 "nbformat": 4,
 "nbformat_minor": 2
}
