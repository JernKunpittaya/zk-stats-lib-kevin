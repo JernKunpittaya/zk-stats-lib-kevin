{
 "cells": [
  {
   "cell_type": "code",
   "execution_count": 1,
   "metadata": {},
   "outputs": [
    {
     "name": "stdout",
     "output_type": "stream",
     "text": [
      "Requirement already satisfied: ezkl==7.0.0 in /Users/mhchia/Library/Caches/pypoetry/virtualenvs/zkstats-brXmXluj-py3.12/lib/python3.12/site-packages (from -r ../../requirements.txt (line 1)) (7.0.0)\n",
      "Requirement already satisfied: torch in /Users/mhchia/Library/Caches/pypoetry/virtualenvs/zkstats-brXmXluj-py3.12/lib/python3.12/site-packages (from -r ../../requirements.txt (line 2)) (2.2.0)\n",
      "Requirement already satisfied: requests in /Users/mhchia/Library/Caches/pypoetry/virtualenvs/zkstats-brXmXluj-py3.12/lib/python3.12/site-packages (from -r ../../requirements.txt (line 3)) (2.31.0)\n",
      "Requirement already satisfied: scipy in /Users/mhchia/Library/Caches/pypoetry/virtualenvs/zkstats-brXmXluj-py3.12/lib/python3.12/site-packages (from -r ../../requirements.txt (line 4)) (1.12.0)\n",
      "Requirement already satisfied: numpy in /Users/mhchia/Library/Caches/pypoetry/virtualenvs/zkstats-brXmXluj-py3.12/lib/python3.12/site-packages (from -r ../../requirements.txt (line 5)) (1.26.3)\n",
      "Requirement already satisfied: matplotlib in /Users/mhchia/Library/Caches/pypoetry/virtualenvs/zkstats-brXmXluj-py3.12/lib/python3.12/site-packages (from -r ../../requirements.txt (line 6)) (3.8.2)\n",
      "Requirement already satisfied: statistics in /Users/mhchia/Library/Caches/pypoetry/virtualenvs/zkstats-brXmXluj-py3.12/lib/python3.12/site-packages (from -r ../../requirements.txt (line 7)) (1.0.3.5)\n",
      "Requirement already satisfied: onnx in /Users/mhchia/Library/Caches/pypoetry/virtualenvs/zkstats-brXmXluj-py3.12/lib/python3.12/site-packages (from -r ../../requirements.txt (line 8)) (1.15.0)\n",
      "Requirement already satisfied: filelock in /Users/mhchia/Library/Caches/pypoetry/virtualenvs/zkstats-brXmXluj-py3.12/lib/python3.12/site-packages (from torch->-r ../../requirements.txt (line 2)) (3.13.1)\n",
      "Requirement already satisfied: typing-extensions>=4.8.0 in /Users/mhchia/Library/Caches/pypoetry/virtualenvs/zkstats-brXmXluj-py3.12/lib/python3.12/site-packages (from torch->-r ../../requirements.txt (line 2)) (4.9.0)\n",
      "Requirement already satisfied: sympy in /Users/mhchia/Library/Caches/pypoetry/virtualenvs/zkstats-brXmXluj-py3.12/lib/python3.12/site-packages (from torch->-r ../../requirements.txt (line 2)) (1.12)\n",
      "Requirement already satisfied: networkx in /Users/mhchia/Library/Caches/pypoetry/virtualenvs/zkstats-brXmXluj-py3.12/lib/python3.12/site-packages (from torch->-r ../../requirements.txt (line 2)) (3.2.1)\n",
      "Requirement already satisfied: jinja2 in /Users/mhchia/Library/Caches/pypoetry/virtualenvs/zkstats-brXmXluj-py3.12/lib/python3.12/site-packages (from torch->-r ../../requirements.txt (line 2)) (3.1.3)\n",
      "Requirement already satisfied: fsspec in /Users/mhchia/Library/Caches/pypoetry/virtualenvs/zkstats-brXmXluj-py3.12/lib/python3.12/site-packages (from torch->-r ../../requirements.txt (line 2)) (2023.12.2)\n",
      "Requirement already satisfied: charset-normalizer<4,>=2 in /Users/mhchia/Library/Caches/pypoetry/virtualenvs/zkstats-brXmXluj-py3.12/lib/python3.12/site-packages (from requests->-r ../../requirements.txt (line 3)) (3.3.2)\n",
      "Requirement already satisfied: idna<4,>=2.5 in /Users/mhchia/Library/Caches/pypoetry/virtualenvs/zkstats-brXmXluj-py3.12/lib/python3.12/site-packages (from requests->-r ../../requirements.txt (line 3)) (3.6)\n",
      "Requirement already satisfied: urllib3<3,>=1.21.1 in /Users/mhchia/Library/Caches/pypoetry/virtualenvs/zkstats-brXmXluj-py3.12/lib/python3.12/site-packages (from requests->-r ../../requirements.txt (line 3)) (2.2.0)\n",
      "Requirement already satisfied: certifi>=2017.4.17 in /Users/mhchia/Library/Caches/pypoetry/virtualenvs/zkstats-brXmXluj-py3.12/lib/python3.12/site-packages (from requests->-r ../../requirements.txt (line 3)) (2024.2.2)\n",
      "Requirement already satisfied: contourpy>=1.0.1 in /Users/mhchia/Library/Caches/pypoetry/virtualenvs/zkstats-brXmXluj-py3.12/lib/python3.12/site-packages (from matplotlib->-r ../../requirements.txt (line 6)) (1.2.0)\n",
      "Requirement already satisfied: cycler>=0.10 in /Users/mhchia/Library/Caches/pypoetry/virtualenvs/zkstats-brXmXluj-py3.12/lib/python3.12/site-packages (from matplotlib->-r ../../requirements.txt (line 6)) (0.12.1)\n",
      "Requirement already satisfied: fonttools>=4.22.0 in /Users/mhchia/Library/Caches/pypoetry/virtualenvs/zkstats-brXmXluj-py3.12/lib/python3.12/site-packages (from matplotlib->-r ../../requirements.txt (line 6)) (4.47.2)\n",
      "Requirement already satisfied: kiwisolver>=1.3.1 in /Users/mhchia/Library/Caches/pypoetry/virtualenvs/zkstats-brXmXluj-py3.12/lib/python3.12/site-packages (from matplotlib->-r ../../requirements.txt (line 6)) (1.4.5)\n",
      "Requirement already satisfied: packaging>=20.0 in /Users/mhchia/Library/Caches/pypoetry/virtualenvs/zkstats-brXmXluj-py3.12/lib/python3.12/site-packages (from matplotlib->-r ../../requirements.txt (line 6)) (23.2)\n",
      "Requirement already satisfied: pillow>=8 in /Users/mhchia/Library/Caches/pypoetry/virtualenvs/zkstats-brXmXluj-py3.12/lib/python3.12/site-packages (from matplotlib->-r ../../requirements.txt (line 6)) (10.2.0)\n",
      "Requirement already satisfied: pyparsing>=2.3.1 in /Users/mhchia/Library/Caches/pypoetry/virtualenvs/zkstats-brXmXluj-py3.12/lib/python3.12/site-packages (from matplotlib->-r ../../requirements.txt (line 6)) (3.1.1)\n",
      "Requirement already satisfied: python-dateutil>=2.7 in /Users/mhchia/Library/Caches/pypoetry/virtualenvs/zkstats-brXmXluj-py3.12/lib/python3.12/site-packages (from matplotlib->-r ../../requirements.txt (line 6)) (2.8.2)\n",
      "Requirement already satisfied: docutils>=0.3 in /Users/mhchia/Library/Caches/pypoetry/virtualenvs/zkstats-brXmXluj-py3.12/lib/python3.12/site-packages (from statistics->-r ../../requirements.txt (line 7)) (0.20.1)\n",
      "Requirement already satisfied: protobuf>=3.20.2 in /Users/mhchia/Library/Caches/pypoetry/virtualenvs/zkstats-brXmXluj-py3.12/lib/python3.12/site-packages (from onnx->-r ../../requirements.txt (line 8)) (4.25.2)\n",
      "Requirement already satisfied: six>=1.5 in /Users/mhchia/Library/Caches/pypoetry/virtualenvs/zkstats-brXmXluj-py3.12/lib/python3.12/site-packages (from python-dateutil>=2.7->matplotlib->-r ../../requirements.txt (line 6)) (1.16.0)\n",
      "Requirement already satisfied: MarkupSafe>=2.0 in /Users/mhchia/Library/Caches/pypoetry/virtualenvs/zkstats-brXmXluj-py3.12/lib/python3.12/site-packages (from jinja2->torch->-r ../../requirements.txt (line 2)) (2.1.4)\n",
      "Requirement already satisfied: mpmath>=0.19 in /Users/mhchia/Library/Caches/pypoetry/virtualenvs/zkstats-brXmXluj-py3.12/lib/python3.12/site-packages (from sympy->torch->-r ../../requirements.txt (line 2)) (1.3.0)\n",
      "\n",
      "\u001b[1m[\u001b[0m\u001b[34;49mnotice\u001b[0m\u001b[1;39;49m]\u001b[0m\u001b[39;49m A new release of pip is available: \u001b[0m\u001b[31;49m23.3.1\u001b[0m\u001b[39;49m -> \u001b[0m\u001b[32;49m23.3.2\u001b[0m\n",
      "\u001b[1m[\u001b[0m\u001b[34;49mnotice\u001b[0m\u001b[1;39;49m]\u001b[0m\u001b[39;49m To update, run: \u001b[0m\u001b[32;49mpip install --upgrade pip\u001b[0m\n",
      "Note: you may need to restart the kernel to use updated packages.\n"
     ]
    }
   ],
   "source": [
    "pip install -r ../../requirements.txt"
   ]
  },
  {
   "attachments": {},
   "cell_type": "markdown",
   "metadata": {},
   "source": [
    "NOTE: Currently, the circuit is too huge, we would do it by requesting covariance and stdev and just calculate it on verifier side instead! Other circuits in this example can run well!"
   ]
  },
  {
   "cell_type": "code",
   "execution_count": 2,
   "metadata": {},
   "outputs": [],
   "source": [
    "import ezkl\n",
    "import torch\n",
    "from torch import nn\n",
    "import json\n",
    "import os\n",
    "import time\n",
    "import scipy\n",
    "import numpy as np\n",
    "import matplotlib.pyplot as plt\n",
    "import statistics\n",
    "import math"
   ]
  },
  {
   "cell_type": "code",
   "execution_count": 3,
   "metadata": {},
   "outputs": [],
   "source": [
    "%run -i ../../zkstats/core.py"
   ]
  },
  {
   "cell_type": "code",
   "execution_count": 4,
   "metadata": {},
   "outputs": [],
   "source": [
    "# init path\n",
    "os.makedirs(os.path.dirname('shared/'), exist_ok=True)\n",
    "os.makedirs(os.path.dirname('prover/'), exist_ok=True)\n",
    "verifier_model_path = os.path.join('shared/verifier.onnx')\n",
    "prover_model_path = os.path.join('prover/prover.onnx')\n",
    "verifier_compiled_model_path = os.path.join('shared/verifier.compiled')\n",
    "prover_compiled_model_path = os.path.join('prover/prover.compiled')\n",
    "pk_path = os.path.join('shared/test.pk')\n",
    "vk_path = os.path.join('shared/test.vk')\n",
    "proof_path = os.path.join('shared/test.pf')\n",
    "settings_path = os.path.join('shared/settings.json')\n",
    "srs_path = os.path.join('shared/kzg.srs')\n",
    "witness_path = os.path.join('prover/witness.json')\n",
    "# this is private to prover since it contains actual data\n",
    "sel_data_path = os.path.join('prover/sel_data.json')\n",
    "# this is just dummy random value\n",
    "sel_dummy_data_path = os.path.join('shared/sel_dummy_data.json')"
   ]
  },
  {
   "attachments": {},
   "cell_type": "markdown",
   "metadata": {},
   "source": [
    "=======================  ZK-STATS FLOW ======================="
   ]
  },
  {
   "attachments": {},
   "cell_type": "markdown",
   "metadata": {},
   "source": [
    "This example is not necessary. In fact, a person can just request cov(x,y), std(x), and std(y). Then just compute correlation on his own as well, but here we show that the code is composable enough to do all at once. "
   ]
  },
  {
   "cell_type": "code",
   "execution_count": 5,
   "metadata": {},
   "outputs": [
    {
     "name": "stdout",
     "output_type": "stream",
     "text": [
      "corr:  tensor(0.5182)\n",
      "check:  tensor(0.5182, dtype=torch.float64)\n",
      "x mean:  tensor(2.5000, dtype=torch.float64)\n",
      "y mean:  tensor(21.6667)\n",
      "dummy corr:  tensor(-0.1834)\n",
      "dummy x mean:  tensor(11.2000)\n",
      "dummy y mean:  tensor(20.8333)\n"
     ]
    }
   ],
   "source": [
    "data_path = os.path.join('data.json')\n",
    "dummy_data_path = os.path.join('shared/dummy_data.json')\n",
    "\n",
    "data = json.loads(open(data_path, \"r\").read())\n",
    "x_vals = data['x']\n",
    "y_vals = data['y']\n",
    "x_vals_tensor = torch.reshape(torch.tensor(x_vals, dtype = torch.float64),(1,-1, 1))\n",
    "y_vals_tensor = torch.reshape(torch.tensor(y_vals),(1,-1, 1))\n",
    "\n",
    "\n",
    "create_dummy(data_path, dummy_data_path)\n",
    "dummy_data = json.loads(open(dummy_data_path, \"r\").read())\n",
    "dummy_x_vals = dummy_data['x']\n",
    "dummy_y_vals = dummy_data['y']\n",
    "dummy_x_vals_tensor = torch.reshape(torch.tensor(dummy_x_vals),(1,-1, 1))\n",
    "dummy_y_vals_tensor = torch.reshape(torch.tensor(dummy_y_vals),(1,-1, 1))\n",
    "\n",
    "real_corr = torch.tensor(statistics.correlation(x_vals, y_vals))\n",
    "real_cov = torch.tensor(statistics.covariance(x_vals, y_vals))\n",
    "x_mean = torch.mean(x_vals_tensor)\n",
    "y_mean = torch.mean(y_vals_tensor)\n",
    "x_std = torch.sqrt(torch.var(x_vals_tensor, correction = 1))\n",
    "y_std = torch.sqrt(torch.var(y_vals_tensor, correction = 1))\n",
    "\n",
    "print(\"corr: \",real_corr )\n",
    "print(\"check: \", real_cov/(x_std*y_std))\n",
    "print(\"x mean: \", x_mean)\n",
    "print(\"y mean: \", y_mean)\n",
    "\n",
    "dummy_corr = torch.tensor(statistics.correlation(dummy_x_vals, dummy_y_vals))\n",
    "dummy_cov = torch.tensor(statistics.covariance(dummy_x_vals, dummy_y_vals))\n",
    "dummy_x_mean = torch.mean(dummy_x_vals_tensor)\n",
    "dummy_y_mean = torch.mean(dummy_y_vals_tensor)\n",
    "dummy_x_std = torch.sqrt(torch.var(dummy_x_vals_tensor, correction = 1))\n",
    "dummy_y_std = torch.sqrt(torch.var(dummy_y_vals_tensor, correction = 1))\n",
    "print(\"dummy corr: \",dummy_corr )\n",
    "print(\"dummy x mean: \", dummy_x_mean)\n",
    "print(\"dummy y mean: \", dummy_y_mean)"
   ]
  },
  {
   "cell_type": "code",
   "execution_count": 6,
   "metadata": {},
   "outputs": [],
   "source": [
    "scales = [3]\n",
    "selected_columns = ['x', 'y']\n",
    "commitment_maps = get_data_commitment_maps(data_path, scales)"
   ]
  },
  {
   "cell_type": "code",
   "execution_count": 7,
   "metadata": {},
   "outputs": [],
   "source": [
    "def covariance(X, Y, cov, x_mean, y_mean):\n",
    "    x_mean_cons = torch.abs(torch.sum(X)-X.size()[1]*(x_mean))<=torch.abs(0.01*X.size()[1]*(x_mean))\n",
    "    y_mean_cons = torch.abs(torch.sum(Y)-Y.size()[1]*(y_mean))<=torch.abs(0.01*Y.size()[1]*(y_mean))\n",
    "    return (torch.logical_and(torch.logical_and(x_mean_cons,y_mean_cons), torch.abs(torch.sum((X-x_mean)*(Y-y_mean))-(X.size()[1]-1)*(cov))<0.01*(X.size()[1]-1)*(cov)), cov)"
   ]
  },
  {
   "cell_type": "code",
   "execution_count": 8,
   "metadata": {},
   "outputs": [],
   "source": [
    "def stdev(X, x_std, x_mean):\n",
    "    x_mean_cons = torch.abs(torch.sum(X)-X.size()[1]*(x_mean))<=torch.abs(0.01*X.size()[1]*x_mean)\n",
    "    return (torch.logical_and(torch.abs(torch.sum((X-x_mean)*(X-x_mean))-x_std*x_std*(X.size()[1]-1))<=torch.abs(0.02*x_std*x_std*(X.size()[1]-1)),x_mean_cons),x_std)"
   ]
  },
  {
   "cell_type": "code",
   "execution_count": 9,
   "metadata": {},
   "outputs": [
    {
     "name": "stderr",
     "output_type": "stream",
     "text": [
      "/Users/mhchia/Library/Caches/pypoetry/virtualenvs/zkstats-brXmXluj-py3.12/lib/python3.12/site-packages/torch/onnx/symbolic_opset9.py:2174: FutureWarning: 'torch.onnx.symbolic_opset9._cast_Bool' is deprecated in version 2.0 and will be removed in the future. Please Avoid using this function and create a Cast node instead.\n",
      "  return fn(g, to_cast_func(g, input, False), to_cast_func(g, other, False))\n"
     ]
    }
   ],
   "source": [
    "# precise float number is hard, so we calculate 100*correlation instead.\n",
    "# Verifier/ data consumer side:\n",
    "class verifier_model(nn.Module):\n",
    "    def __init__(self):\n",
    "        super(verifier_model, self).__init__()\n",
    "        self.corr = nn.Parameter(data = dummy_corr, requires_grad = False)\n",
    "        self.cov = nn.Parameter(data = dummy_cov, requires_grad = False)\n",
    "        self.x_mean = nn.Parameter(data = dummy_x_mean, requires_grad = False)\n",
    "        self.y_mean = nn.Parameter(data = dummy_y_mean, requires_grad = False)\n",
    "        self.x_std = nn.Parameter(data = dummy_x_std, requires_grad = False)\n",
    "        self.y_std = nn.Parameter(data = dummy_y_std, requires_grad = False)\n",
    "    def forward(self, *x):\n",
    "        X, Y = x\n",
    "        #  need to enforce same length, not yet\n",
    "        bool1, cov = covariance(X,Y, self.cov, self.x_mean, self.y_mean)\n",
    "        bool2, x_std = stdev(X, self.x_std, self.x_mean)\n",
    "        bool3, y_std = stdev(Y, self.y_std, self.y_mean)\n",
    "        bool4 = torch.abs(cov - self.corr*x_std*y_std)<=0.01*cov\n",
    "        return (torch.logical_and(torch.logical_and(bool1, bool2),torch.logical_and(bool3, bool4)), self.corr )\n",
    "\n",
    "verifier_define_calculation(dummy_data_path, ['x', 'y'],sel_dummy_data_path,verifier_model, verifier_model_path)"
   ]
  },
  {
   "cell_type": "code",
   "execution_count": 10,
   "metadata": {},
   "outputs": [
    {
     "name": "stderr",
     "output_type": "stream",
     "text": [
      "/var/folders/t3/5psrvr1x0w1_6n9kx2n7d9700000gn/T/ipykernel_36279/280034176.py:2: UserWarning: To copy construct from a tensor, it is recommended to use sourceTensor.clone().detach() or sourceTensor.clone().detach().requires_grad_(True), rather than torch.tensor(sourceTensor).\n",
      "  theory_output = torch.tensor(real_corr)\n"
     ]
    },
    {
     "name": "stdout",
     "output_type": "stream",
     "text": [
      "theory output:  tensor(0.5182)\n",
      "==== Generate & Calibrate Setting ====\n",
      "scale:  [3]\n",
      "setting:  {\"run_args\":{\"tolerance\":{\"val\":0.0,\"scale\":1.0},\"input_scale\":3,\"param_scale\":3,\"scale_rebase_multiplier\":10,\"lookup_range\":[-3086,86],\"logrows\":12,\"num_inner_cols\":2,\"variables\":[[\"batch_size\",1]],\"input_visibility\":{\"Hashed\":{\"hash_is_public\":true,\"outlets\":[]}},\"output_visibility\":\"Public\",\"param_visibility\":\"Private\"},\"num_rows\":2624,\"total_assignments\":123,\"total_const_size\":16,\"model_instance_shapes\":[[1],[1]],\"model_output_scales\":[0,3],\"model_input_scales\":[3,3],\"module_sizes\":{\"kzg\":[],\"poseidon\":[2624,[2]],\"elgamal\":[0,[0]]},\"required_lookups\":[\"Abs\",{\"GreaterThan\":{\"a\":0.0}}],\"check_mode\":\"UNSAFE\",\"version\":\"7.0.0\",\"num_blinding_factors\":null}\n"
     ]
    }
   ],
   "source": [
    "# Prover/ data owner side\n",
    "theory_output = torch.tensor(real_corr)\n",
    "print(\"theory output: \", theory_output)\n",
    "class prover_model(nn.Module):\n",
    "    def __init__(self):\n",
    "        super(prover_model, self).__init__()\n",
    "        self.corr = nn.Parameter(data = real_corr, requires_grad = False)\n",
    "        self.cov = nn.Parameter(data = real_cov, requires_grad = False)\n",
    "        self.x_mean = nn.Parameter(data = x_mean, requires_grad = False)\n",
    "        self.y_mean = nn.Parameter(data = y_mean, requires_grad = False)\n",
    "        self.x_std = nn.Parameter(data = x_std, requires_grad = False)\n",
    "        self.y_std = nn.Parameter(data = y_std, requires_grad = False)\n",
    "    def forward(self, *x):\n",
    "        X, Y = x\n",
    "        #  need to enforce same length, not yet\n",
    "        bool1, cov = covariance(X,Y, self.cov, self.x_mean, self.y_mean)\n",
    "        bool2, x_std = stdev(X, self.x_std, self.x_mean)\n",
    "        bool3, y_std = stdev(Y, self.y_std, self.y_mean)\n",
    "        bool4 = torch.abs(cov - self.corr*x_std*y_std)<=0.01*cov\n",
    "        return (torch.logical_and(torch.logical_and(bool1, bool2),torch.logical_and(bool3, bool4)), self.corr )\n",
    "\n",
    "prover_gen_settings(data_path, selected_columns, sel_data_path, prover_model,prover_model_path, scales, \"resources\", settings_path)"
   ]
  },
  {
   "cell_type": "code",
   "execution_count": 11,
   "metadata": {},
   "outputs": [
    {
     "name": "stderr",
     "output_type": "stream",
     "text": [
      "spawning module 0\n",
      "spawning module 2\n"
     ]
    },
    {
     "name": "stdout",
     "output_type": "stream",
     "text": [
      "==== setting up ezkl ====\n"
     ]
    },
    {
     "name": "stderr",
     "output_type": "stream",
     "text": [
      "spawning module 0\n",
      "spawning module 2\n",
      "spawning module 0\n",
      "spawning module 2\n"
     ]
    },
    {
     "name": "stdout",
     "output_type": "stream",
     "text": [
      "Time setup: 0.8543050289154053 seconds\n",
      "=======================================\n",
      "Theory output:  tensor(0.5182)\n",
      "==== Generating Witness ====\n",
      "witness boolean:  1.0\n",
      "witness result 1 : 0.5\n",
      "==== Generating Proof ====\n",
      "proof:  {'instances': [[[7878865789954254792, 13676651756402193216, 14598220794878025105, 2053479320262803094], [957313277933440172, 8558673717091004388, 16115511877586365498, 2713079561337169730], [12436184717236109307, 3962172157175319849, 7381016538464732718, 1011752739694698287], [7959790035488735211, 12951774245394433045, 16242874202584236123, 560012691975822483]]], 'proof': '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', 'transcript_type': 'EVM'}\n",
      "Time gen prf: 1.203679084777832 seconds\n"
     ]
    }
   ],
   "source": [
    "# Here verifier & prover can concurrently call setup since all params are public to get pk.\n",
    "# Here write as verifier function to emphasize that verifier must calculate its own vk to be sure\n",
    "verifier_setup(verifier_model_path, verifier_compiled_model_path, settings_path,vk_path, pk_path )\n",
    "\n",
    "print(\"=======================================\")\n",
    "# Prover generates proof\n",
    "print(\"Theory output: \", theory_output)\n",
    "prover_gen_proof(prover_model_path, sel_data_path, witness_path, prover_compiled_model_path, settings_path, proof_path, pk_path)"
   ]
  },
  {
   "cell_type": "code",
   "execution_count": 12,
   "metadata": {},
   "outputs": [
    {
     "data": {
      "text/plain": [
       "0.5"
      ]
     },
     "execution_count": 12,
     "metadata": {},
     "output_type": "execute_result"
    }
   ],
   "source": [
    "# Verifier verifies\n",
    "verifier_verify(proof_path, settings_path, vk_path, selected_columns, commitment_maps)"
   ]
  },
  {
   "cell_type": "code",
   "execution_count": null,
   "metadata": {},
   "outputs": [],
   "source": []
  }
 ],
 "metadata": {
  "kernelspec": {
   "display_name": "Python 3",
   "language": "python",
   "name": "python3"
  },
  "language_info": {
   "codemirror_mode": {
    "name": "ipython",
    "version": 3
   },
   "file_extension": ".py",
   "mimetype": "text/x-python",
   "name": "python",
   "nbconvert_exporter": "python",
   "pygments_lexer": "ipython3",
   "version": "3.12.1"
  },
  "orig_nbformat": 4
 },
 "nbformat": 4,
 "nbformat_minor": 2
}
