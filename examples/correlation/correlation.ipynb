{
 "cells": [
  {
   "attachments": {},
   "cell_type": "markdown",
   "metadata": {},
   "source": [
    "Note that it might make more sense to just request cov(x,y), std(x), std(y) and compute correlation on requester's end instead of requesting the whole HUGE circuit of correlation. "
   ]
  },
  {
   "cell_type": "code",
   "execution_count": 1,
   "metadata": {},
   "outputs": [],
   "source": [
    "import ezkl\n",
    "import torch\n",
    "from torch import nn\n",
    "import json\n",
    "import os\n",
    "import time\n",
    "import scipy\n",
    "import numpy as np\n",
    "import matplotlib.pyplot as plt\n",
    "import statistics\n",
    "import math"
   ]
  },
  {
   "cell_type": "code",
   "execution_count": 2,
   "metadata": {},
   "outputs": [],
   "source": [
    "from zkstats.core import create_dummy, verifier_define_calculation, prover_gen_settings, setup, prover_gen_proof, verifier_verify, generate_data_commitment"
   ]
  },
  {
   "cell_type": "code",
   "execution_count": 3,
   "metadata": {},
   "outputs": [],
   "source": [
    "# init path\n",
    "os.makedirs(os.path.dirname('shared/'), exist_ok=True)\n",
    "os.makedirs(os.path.dirname('prover/'), exist_ok=True)\n",
    "verifier_model_path = os.path.join('shared/verifier.onnx')\n",
    "prover_model_path = os.path.join('prover/prover.onnx')\n",
    "verifier_compiled_model_path = os.path.join('shared/verifier.compiled')\n",
    "prover_compiled_model_path = os.path.join('prover/prover.compiled')\n",
    "pk_path = os.path.join('shared/test.pk')\n",
    "vk_path = os.path.join('shared/test.vk')\n",
    "proof_path = os.path.join('shared/test.pf')\n",
    "settings_path = os.path.join('shared/settings.json')\n",
    "srs_path = os.path.join('shared/kzg.srs')\n",
    "witness_path = os.path.join('prover/witness.json')\n",
    "# this is private to prover since it contains actual data\n",
    "sel_data_path = os.path.join('prover/sel_data.json')\n",
    "# this is just dummy random value\n",
    "sel_dummy_data_path = os.path.join('shared/sel_dummy_data.json')\n",
    "data_commitment_path = os.path.join('shared/data_commitment.json')"
   ]
  },
  {
   "attachments": {},
   "cell_type": "markdown",
   "metadata": {},
   "source": [
    "=======================  ZK-STATS FLOW ======================="
   ]
  },
  {
   "attachments": {},
   "cell_type": "markdown",
   "metadata": {},
   "source": [
    "This example is not necessary. In fact, a person can just request cov(x,y), std(x), and std(y). Then just compute correlation on his own as well, but here we show that the code is composable enough to do all at once. "
   ]
  },
  {
   "cell_type": "code",
   "execution_count": 4,
   "metadata": {},
   "outputs": [],
   "source": [
    "data_path = os.path.join('data.json')\n",
    "dummy_data_path = os.path.join('shared/dummy_data.json')\n",
    "\n",
    "create_dummy(data_path, dummy_data_path)"
   ]
  },
  {
   "cell_type": "code",
   "execution_count": 5,
   "metadata": {},
   "outputs": [],
   "source": [
    "scales = [5]\n",
    "selected_columns = ['x', 'y']\n",
    "generate_data_commitment(data_path, scales, data_commitment_path)"
   ]
  },
  {
   "cell_type": "code",
   "execution_count": 6,
   "metadata": {},
   "outputs": [
    {
     "name": "stderr",
     "output_type": "stream",
     "text": [
      "/Users/mhchia/projects/work/pse/zk-stats-lib/zkstats/computation.py:179: TracerWarning: torch.tensor results are registered as constants in the trace. You can safely ignore this warning if you use this function to create tensors out of constant variables that would be the same every time you call this function. In any other case, this might cause the trace to be incorrect.\n",
      "  is_precise_aggregated = torch.tensor(1.0)\n",
      "/Users/mhchia/Library/Caches/pypoetry/virtualenvs/zkstats-brXmXluj-py3.12/lib/python3.12/site-packages/torch/onnx/symbolic_opset9.py:2174: FutureWarning: 'torch.onnx.symbolic_opset9._cast_Bool' is deprecated in version 2.0 and will be removed in the future. Please Avoid using this function and create a Cast node instead.\n",
      "  return fn(g, to_cast_func(g, input, False), to_cast_func(g, other, False))\n",
      "/Users/mhchia/Library/Caches/pypoetry/virtualenvs/zkstats-brXmXluj-py3.12/lib/python3.12/site-packages/torch/onnx/utils.py:1703: UserWarning: The exported ONNX model failed ONNX shape inference. The model will not be executable by the ONNX Runtime. If this is unintended and you believe there is a bug, please report an issue at https://github.com/pytorch/pytorch/issues. Error reported by strict ONNX shape inference: [ShapeInferenceError] (op_type:Where, node name: /Where): Y has inconsistent type tensor(float) (Triggered internally at /Users/runner/work/pytorch/pytorch/pytorch/torch/csrc/jit/serialization/export.cpp:1490.)\n",
      "  _C._check_onnx_proto(proto)\n"
     ]
    }
   ],
   "source": [
    "# Verifier/ data consumer side: send desired calculation\n",
    "from zkstats.computation import computation_to_model, State\n",
    "\n",
    "\n",
    "def computation(s: State, data: list[torch.Tensor]) -> torch.Tensor:\n",
    "    x, y = data[0], data[1]\n",
    "    return s.correlation(x, y)\n",
    "\n",
    "error = 0.01\n",
    "_, verifier_model = computation_to_model(computation, error)\n",
    "\n",
    "verifier_define_calculation(dummy_data_path, selected_columns, sel_dummy_data_path, verifier_model, verifier_model_path)"
   ]
  },
  {
   "cell_type": "code",
   "execution_count": 7,
   "metadata": {},
   "outputs": [
    {
     "name": "stderr",
     "output_type": "stream",
     "text": [
      "Using 2 columns for non-linearity table.\n",
      "Using 2 columns for non-linearity table.\n",
      "Using 2 columns for non-linearity table.\n",
      "Using 2 columns for non-linearity table.\n",
      "Using 2 columns for non-linearity table.\n",
      "Using 2 columns for non-linearity table.\n"
     ]
    },
    {
     "name": "stdout",
     "output_type": "stream",
     "text": [
      "==== Generate & Calibrate Setting ====\n"
     ]
    },
    {
     "name": "stderr",
     "output_type": "stream",
     "text": [
      "\n",
      "\n",
      " <------------- Numerical Fidelity Report (input_scale: 5, param_scale: 5, scale_input_multiplier: 1) ------------->\n",
      "\n",
      "+------------+--------------+------------+-----------+----------------+------------------+---------------+---------------+--------------------+--------------------+------------------------+\n",
      "| mean_error | median_error | max_error  | min_error | mean_abs_error | median_abs_error | max_abs_error | min_abs_error | mean_squared_error | mean_percent_error | mean_abs_percent_error |\n",
      "+------------+--------------+------------+-----------+----------------+------------------+---------------+---------------+--------------------+--------------------+------------------------+\n",
      "| 0.00537169 | 0.01074338   | 0.01074338 | 0         | 0.00537169     | 0.01074338       | 0.01074338    | 0             | 0.000057710102     | 0.0073635895       | 0.0073635895           |\n",
      "+------------+--------------+------------+-----------+----------------+------------------+---------------+---------------+--------------------+--------------------+------------------------+\n",
      "\n",
      "\n"
     ]
    },
    {
     "name": "stdout",
     "output_type": "stream",
     "text": [
      "scale:  [5]\n",
      "setting:  {\"run_args\":{\"tolerance\":{\"val\":0.0,\"scale\":1.0},\"input_scale\":5,\"param_scale\":5,\"scale_rebase_multiplier\":1,\"lookup_range\":[-32360,32536],\"logrows\":16,\"num_inner_cols\":2,\"variables\":[[\"batch_size\",1]],\"input_visibility\":{\"Hashed\":{\"hash_is_public\":true,\"outlets\":[]}},\"output_visibility\":\"Public\",\"param_visibility\":\"Private\",\"div_rebasing\":false,\"rebase_frac_zero_constants\":false,\"check_mode\":\"UNSAFE\"},\"num_rows\":7872,\"total_assignments\":3710,\"total_const_size\":792,\"model_instance_shapes\":[[1],[1]],\"model_output_scales\":[0,5],\"model_input_scales\":[5,5],\"module_sizes\":{\"kzg\":[],\"poseidon\":[7872,[2]]},\"required_lookups\":[\"Abs\",{\"GreaterThan\":{\"a\":0.0}}],\"required_range_checks\":[[-16,16]],\"check_mode\":\"UNSAFE\",\"version\":\"9.1.0\",\"num_blinding_factors\":null,\"timestamp\":1712758149946}\n"
     ]
    }
   ],
   "source": [
    "# Prover/ data owner side\n",
    "_, prover_model = computation_to_model(computation, error)\n",
    "\n",
    "prover_gen_settings(data_path, selected_columns, sel_data_path, prover_model,prover_model_path, scales, \"resources\", settings_path)"
   ]
  },
  {
   "cell_type": "code",
   "execution_count": 8,
   "metadata": {},
   "outputs": [
    {
     "name": "stdout",
     "output_type": "stream",
     "text": [
      "==== setting up ezkl ====\n",
      "Time setup: 11.122047185897827 seconds\n",
      "=======================================\n",
      "==== Generating Witness ====\n",
      "witness boolean:  1.0\n",
      "witness result 1 : 0.71875\n",
      "==== Generating Proof ====\n",
      "proof:  {'instances': [['7469705c7b45875730aac31b009e8f9e9f9e57031bba148110877f78e4518c22', 'c1f946e3fd2b2229bfcc2dc9ff7f4dfc1fddad53635becb58d130bcae5504712', '0100000000000000000000000000000000000000000000000000000000000000', '1700000000000000000000000000000000000000000000000000000000000000']], 'proof': '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', 'transcript_type': 'EVM'}\n",
      "Time gen prf: 12.377808094024658 seconds\n"
     ]
    }
   ],
   "source": [
    "# Here verifier & prover can concurrently call setup since all params are public to get pk.\n",
    "# Here write as verifier function to emphasize that verifier must calculate its own vk to be sure\n",
    "setup(verifier_model_path, verifier_compiled_model_path, settings_path,vk_path, pk_path )\n",
    "\n",
    "print(\"=======================================\")\n",
    "# Prover generates proof\n",
    "prover_gen_proof(prover_model_path, sel_data_path, witness_path, prover_compiled_model_path, settings_path, proof_path, pk_path)"
   ]
  },
  {
   "cell_type": "code",
   "execution_count": 9,
   "metadata": {},
   "outputs": [
    {
     "name": "stdout",
     "output_type": "stream",
     "text": [
      "Verifier gets result: [0.71875]\n"
     ]
    }
   ],
   "source": [
    "# Verifier verifies\n",
    "res = verifier_verify(proof_path, settings_path, vk_path, selected_columns, data_commitment_path)\n",
    "print(\"Verifier gets result:\", res)"
   ]
  },
  {
   "cell_type": "code",
   "execution_count": null,
   "metadata": {},
   "outputs": [],
   "source": []
  }
 ],
 "metadata": {
  "kernelspec": {
   "display_name": "Python 3",
   "language": "python",
   "name": "python3"
  },
  "language_info": {
   "codemirror_mode": {
    "name": "ipython",
    "version": 3
   },
   "file_extension": ".py",
   "mimetype": "text/x-python",
   "name": "python",
   "nbconvert_exporter": "python",
   "pygments_lexer": "ipython3",
   "version": "3.12.1"
  },
  "orig_nbformat": 4
 },
 "nbformat": 4,
 "nbformat_minor": 2
}
