{
 "cells": [
  {
   "cell_type": "code",
   "execution_count": 11,
   "metadata": {},
   "outputs": [
    {
     "name": "stdout",
     "output_type": "stream",
     "text": [
      "Requirement already satisfied: ezkl==7.0.0 in /Users/mhchia/Library/Caches/pypoetry/virtualenvs/zkstats-brXmXluj-py3.12/lib/python3.12/site-packages (from -r ../../requirements.txt (line 1)) (7.0.0)\n",
      "Requirement already satisfied: torch in /Users/mhchia/Library/Caches/pypoetry/virtualenvs/zkstats-brXmXluj-py3.12/lib/python3.12/site-packages (from -r ../../requirements.txt (line 2)) (2.2.0)\n",
      "Requirement already satisfied: requests in /Users/mhchia/Library/Caches/pypoetry/virtualenvs/zkstats-brXmXluj-py3.12/lib/python3.12/site-packages (from -r ../../requirements.txt (line 3)) (2.31.0)\n",
      "Requirement already satisfied: scipy in /Users/mhchia/Library/Caches/pypoetry/virtualenvs/zkstats-brXmXluj-py3.12/lib/python3.12/site-packages (from -r ../../requirements.txt (line 4)) (1.12.0)\n",
      "Requirement already satisfied: numpy in /Users/mhchia/Library/Caches/pypoetry/virtualenvs/zkstats-brXmXluj-py3.12/lib/python3.12/site-packages (from -r ../../requirements.txt (line 5)) (1.26.3)\n",
      "Requirement already satisfied: matplotlib in /Users/mhchia/Library/Caches/pypoetry/virtualenvs/zkstats-brXmXluj-py3.12/lib/python3.12/site-packages (from -r ../../requirements.txt (line 6)) (3.8.2)\n",
      "Requirement already satisfied: statistics in /Users/mhchia/Library/Caches/pypoetry/virtualenvs/zkstats-brXmXluj-py3.12/lib/python3.12/site-packages (from -r ../../requirements.txt (line 7)) (1.0.3.5)\n",
      "Requirement already satisfied: onnx in /Users/mhchia/Library/Caches/pypoetry/virtualenvs/zkstats-brXmXluj-py3.12/lib/python3.12/site-packages (from -r ../../requirements.txt (line 8)) (1.15.0)\n",
      "Requirement already satisfied: filelock in /Users/mhchia/Library/Caches/pypoetry/virtualenvs/zkstats-brXmXluj-py3.12/lib/python3.12/site-packages (from torch->-r ../../requirements.txt (line 2)) (3.13.1)\n",
      "Requirement already satisfied: typing-extensions>=4.8.0 in /Users/mhchia/Library/Caches/pypoetry/virtualenvs/zkstats-brXmXluj-py3.12/lib/python3.12/site-packages (from torch->-r ../../requirements.txt (line 2)) (4.9.0)\n",
      "Requirement already satisfied: sympy in /Users/mhchia/Library/Caches/pypoetry/virtualenvs/zkstats-brXmXluj-py3.12/lib/python3.12/site-packages (from torch->-r ../../requirements.txt (line 2)) (1.12)\n",
      "Requirement already satisfied: networkx in /Users/mhchia/Library/Caches/pypoetry/virtualenvs/zkstats-brXmXluj-py3.12/lib/python3.12/site-packages (from torch->-r ../../requirements.txt (line 2)) (3.2.1)\n",
      "Requirement already satisfied: jinja2 in /Users/mhchia/Library/Caches/pypoetry/virtualenvs/zkstats-brXmXluj-py3.12/lib/python3.12/site-packages (from torch->-r ../../requirements.txt (line 2)) (3.1.3)\n",
      "Requirement already satisfied: fsspec in /Users/mhchia/Library/Caches/pypoetry/virtualenvs/zkstats-brXmXluj-py3.12/lib/python3.12/site-packages (from torch->-r ../../requirements.txt (line 2)) (2023.12.2)\n",
      "Requirement already satisfied: charset-normalizer<4,>=2 in /Users/mhchia/Library/Caches/pypoetry/virtualenvs/zkstats-brXmXluj-py3.12/lib/python3.12/site-packages (from requests->-r ../../requirements.txt (line 3)) (3.3.2)\n",
      "Requirement already satisfied: idna<4,>=2.5 in /Users/mhchia/Library/Caches/pypoetry/virtualenvs/zkstats-brXmXluj-py3.12/lib/python3.12/site-packages (from requests->-r ../../requirements.txt (line 3)) (3.6)\n",
      "Requirement already satisfied: urllib3<3,>=1.21.1 in /Users/mhchia/Library/Caches/pypoetry/virtualenvs/zkstats-brXmXluj-py3.12/lib/python3.12/site-packages (from requests->-r ../../requirements.txt (line 3)) (2.2.0)\n",
      "Requirement already satisfied: certifi>=2017.4.17 in /Users/mhchia/Library/Caches/pypoetry/virtualenvs/zkstats-brXmXluj-py3.12/lib/python3.12/site-packages (from requests->-r ../../requirements.txt (line 3)) (2024.2.2)\n",
      "Requirement already satisfied: contourpy>=1.0.1 in /Users/mhchia/Library/Caches/pypoetry/virtualenvs/zkstats-brXmXluj-py3.12/lib/python3.12/site-packages (from matplotlib->-r ../../requirements.txt (line 6)) (1.2.0)\n",
      "Requirement already satisfied: cycler>=0.10 in /Users/mhchia/Library/Caches/pypoetry/virtualenvs/zkstats-brXmXluj-py3.12/lib/python3.12/site-packages (from matplotlib->-r ../../requirements.txt (line 6)) (0.12.1)\n",
      "Requirement already satisfied: fonttools>=4.22.0 in /Users/mhchia/Library/Caches/pypoetry/virtualenvs/zkstats-brXmXluj-py3.12/lib/python3.12/site-packages (from matplotlib->-r ../../requirements.txt (line 6)) (4.47.2)\n",
      "Requirement already satisfied: kiwisolver>=1.3.1 in /Users/mhchia/Library/Caches/pypoetry/virtualenvs/zkstats-brXmXluj-py3.12/lib/python3.12/site-packages (from matplotlib->-r ../../requirements.txt (line 6)) (1.4.5)\n",
      "Requirement already satisfied: packaging>=20.0 in /Users/mhchia/Library/Caches/pypoetry/virtualenvs/zkstats-brXmXluj-py3.12/lib/python3.12/site-packages (from matplotlib->-r ../../requirements.txt (line 6)) (23.2)\n",
      "Requirement already satisfied: pillow>=8 in /Users/mhchia/Library/Caches/pypoetry/virtualenvs/zkstats-brXmXluj-py3.12/lib/python3.12/site-packages (from matplotlib->-r ../../requirements.txt (line 6)) (10.2.0)\n",
      "Requirement already satisfied: pyparsing>=2.3.1 in /Users/mhchia/Library/Caches/pypoetry/virtualenvs/zkstats-brXmXluj-py3.12/lib/python3.12/site-packages (from matplotlib->-r ../../requirements.txt (line 6)) (3.1.1)\n",
      "Requirement already satisfied: python-dateutil>=2.7 in /Users/mhchia/Library/Caches/pypoetry/virtualenvs/zkstats-brXmXluj-py3.12/lib/python3.12/site-packages (from matplotlib->-r ../../requirements.txt (line 6)) (2.8.2)\n",
      "Requirement already satisfied: docutils>=0.3 in /Users/mhchia/Library/Caches/pypoetry/virtualenvs/zkstats-brXmXluj-py3.12/lib/python3.12/site-packages (from statistics->-r ../../requirements.txt (line 7)) (0.20.1)\n",
      "Requirement already satisfied: protobuf>=3.20.2 in /Users/mhchia/Library/Caches/pypoetry/virtualenvs/zkstats-brXmXluj-py3.12/lib/python3.12/site-packages (from onnx->-r ../../requirements.txt (line 8)) (4.25.2)\n",
      "Requirement already satisfied: six>=1.5 in /Users/mhchia/Library/Caches/pypoetry/virtualenvs/zkstats-brXmXluj-py3.12/lib/python3.12/site-packages (from python-dateutil>=2.7->matplotlib->-r ../../requirements.txt (line 6)) (1.16.0)\n",
      "Requirement already satisfied: MarkupSafe>=2.0 in /Users/mhchia/Library/Caches/pypoetry/virtualenvs/zkstats-brXmXluj-py3.12/lib/python3.12/site-packages (from jinja2->torch->-r ../../requirements.txt (line 2)) (2.1.4)\n",
      "Requirement already satisfied: mpmath>=0.19 in /Users/mhchia/Library/Caches/pypoetry/virtualenvs/zkstats-brXmXluj-py3.12/lib/python3.12/site-packages (from sympy->torch->-r ../../requirements.txt (line 2)) (1.3.0)\n",
      "\n",
      "\u001b[1m[\u001b[0m\u001b[34;49mnotice\u001b[0m\u001b[1;39;49m]\u001b[0m\u001b[39;49m A new release of pip is available: \u001b[0m\u001b[31;49m23.3.1\u001b[0m\u001b[39;49m -> \u001b[0m\u001b[32;49m24.0\u001b[0m\n",
      "\u001b[1m[\u001b[0m\u001b[34;49mnotice\u001b[0m\u001b[1;39;49m]\u001b[0m\u001b[39;49m To update, run: \u001b[0m\u001b[32;49mpip install --upgrade pip\u001b[0m\n",
      "Note: you may need to restart the kernel to use updated packages.\n"
     ]
    }
   ],
   "source": [
    "pip install -r ../../requirements.txt"
   ]
  },
  {
   "attachments": {},
   "cell_type": "markdown",
   "metadata": {},
   "source": [
    "NOTE: Currently, the circuit is too huge, we would do it by requesting covariance and stdev and just calculate it on verifier side instead! Other circuits in this example can run well!"
   ]
  },
  {
   "cell_type": "code",
   "execution_count": 12,
   "metadata": {},
   "outputs": [],
   "source": [
    "import ezkl\n",
    "import torch\n",
    "from torch import nn\n",
    "import json\n",
    "import os\n",
    "import time\n",
    "import scipy\n",
    "import numpy as np\n",
    "import matplotlib.pyplot as plt\n",
    "import statistics\n",
    "import math"
   ]
  },
  {
   "cell_type": "code",
   "execution_count": 13,
   "metadata": {},
   "outputs": [],
   "source": [
    "%run -i ../../zkstats/core.py"
   ]
  },
  {
   "cell_type": "code",
   "execution_count": 14,
   "metadata": {},
   "outputs": [],
   "source": [
    "# init path\n",
    "os.makedirs(os.path.dirname('shared/'), exist_ok=True)\n",
    "os.makedirs(os.path.dirname('prover/'), exist_ok=True)\n",
    "verifier_model_path = os.path.join('shared/verifier.onnx')\n",
    "prover_model_path = os.path.join('prover/prover.onnx')\n",
    "verifier_compiled_model_path = os.path.join('shared/verifier.compiled')\n",
    "prover_compiled_model_path = os.path.join('prover/prover.compiled')\n",
    "pk_path = os.path.join('shared/test.pk')\n",
    "vk_path = os.path.join('shared/test.vk')\n",
    "proof_path = os.path.join('shared/test.pf')\n",
    "settings_path = os.path.join('shared/settings.json')\n",
    "srs_path = os.path.join('shared/kzg.srs')\n",
    "witness_path = os.path.join('prover/witness.json')\n",
    "# this is private to prover since it contains actual data\n",
    "sel_data_path = os.path.join('prover/sel_data.json')\n",
    "# this is just dummy random value\n",
    "sel_dummy_data_path = os.path.join('shared/sel_dummy_data.json')"
   ]
  },
  {
   "attachments": {},
   "cell_type": "markdown",
   "metadata": {},
   "source": [
    "=======================  ZK-STATS FLOW ======================="
   ]
  },
  {
   "attachments": {},
   "cell_type": "markdown",
   "metadata": {},
   "source": [
    "This example is not necessary. In fact, a person can just request cov(x,y), std(x), and std(y). Then just compute correlation on his own as well, but here we show that the code is composable enough to do all at once. "
   ]
  },
  {
   "cell_type": "code",
   "execution_count": 15,
   "metadata": {},
   "outputs": [],
   "source": [
    "data_path = os.path.join('data.json')\n",
    "dummy_data_path = os.path.join('shared/dummy_data.json')\n",
    "\n",
    "create_dummy(data_path, dummy_data_path)"
   ]
  },
  {
   "cell_type": "code",
   "execution_count": 16,
   "metadata": {},
   "outputs": [],
   "source": [
    "scales = [3]\n",
    "selected_columns = ['x', 'y']\n",
    "commitment_maps = get_data_commitment_maps(data_path, scales)"
   ]
  },
  {
   "cell_type": "code",
   "execution_count": 17,
   "metadata": {},
   "outputs": [],
   "source": [
    "# Verifier/ data consumer side: send desired calculation\n",
    "from zkstats.computation import computation_to_model, State\n",
    "\n",
    "\n",
    "def computation(s: State, data: list[torch.Tensor]) -> torch.Tensor:\n",
    "    x, y = data[0], data[1]\n",
    "    return s.correlation(x, y)\n",
    "\n",
    "error = 0.01\n",
    "_, verifier_model = computation_to_model(computation, error)\n",
    "\n",
    "verifier_define_calculation(dummy_data_path, selected_columns, sel_dummy_data_path, verifier_model, verifier_model_path)"
   ]
  },
  {
   "cell_type": "code",
   "execution_count": 18,
   "metadata": {},
   "outputs": [
    {
     "name": "stdout",
     "output_type": "stream",
     "text": [
      "==== Generate & Calibrate Setting ====\n",
      "scale:  [3]\n",
      "setting:  {\"run_args\":{\"tolerance\":{\"val\":0.0,\"scale\":1.0},\"input_scale\":3,\"param_scale\":3,\"scale_rebase_multiplier\":10,\"lookup_range\":[-9470,584],\"logrows\":14,\"num_inner_cols\":2,\"variables\":[[\"batch_size\",1]],\"input_visibility\":{\"Hashed\":{\"hash_is_public\":true,\"outlets\":[]}},\"output_visibility\":\"Public\",\"param_visibility\":\"Private\"},\"num_rows\":2624,\"total_assignments\":172,\"total_const_size\":16,\"model_instance_shapes\":[[1],[1]],\"model_output_scales\":[0,3],\"model_input_scales\":[3,3],\"module_sizes\":{\"kzg\":[],\"poseidon\":[2624,[2]],\"elgamal\":[0,[0]]},\"required_lookups\":[\"Abs\",{\"GreaterThan\":{\"a\":0.0}}],\"check_mode\":\"UNSAFE\",\"version\":\"7.0.0\",\"num_blinding_factors\":null}\n"
     ]
    }
   ],
   "source": [
    "# Prover/ data owner side\n",
    "_, prover_model = computation_to_model(computation, error)\n",
    "\n",
    "prover_gen_settings(data_path, selected_columns, sel_data_path, prover_model,prover_model_path, scales, \"resources\", settings_path)"
   ]
  },
  {
   "cell_type": "code",
   "execution_count": 19,
   "metadata": {},
   "outputs": [
    {
     "name": "stdout",
     "output_type": "stream",
     "text": [
      "==== setting up ezkl ====\n"
     ]
    },
    {
     "name": "stderr",
     "output_type": "stream",
     "text": [
      "spawning module 0\n",
      "spawning module 2\n"
     ]
    },
    {
     "name": "stderr",
     "output_type": "stream",
     "text": [
      "spawning module 0\n",
      "spawning module 2\n"
     ]
    },
    {
     "name": "stdout",
     "output_type": "stream",
     "text": [
      "Time setup: 3.3124349117279053 seconds\n",
      "=======================================\n",
      "==== Generating Witness ====\n",
      "witness boolean:  1.0\n",
      "witness result 1 : 0.875\n",
      "==== Generating Proof ====\n"
     ]
    },
    {
     "name": "stderr",
     "output_type": "stream",
     "text": [
      "spawning module 0\n",
      "spawning module 2\n"
     ]
    },
    {
     "name": "stdout",
     "output_type": "stream",
     "text": [
      "proof:  {'instances': [[[2677402660762584588, 7694868747867669253, 13590833677657947629, 1708151667573093226], [18108060115775388783, 7809885797225827088, 715653157360373353, 3125030121935745365], [12436184717236109307, 3962172157175319849, 7381016538464732718, 1011752739694698287], [3483395353741361115, 3494632259903994625, 6657987792994187913, 108272644256946680]]], 'proof': '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', 'transcript_type': 'EVM'}\n",
      "Time gen prf: 3.2448008060455322 seconds\n"
     ]
    }
   ],
   "source": [
    "# Here verifier & prover can concurrently call setup since all params are public to get pk.\n",
    "# Here write as verifier function to emphasize that verifier must calculate its own vk to be sure\n",
    "setup(verifier_model_path, verifier_compiled_model_path, settings_path,vk_path, pk_path )\n",
    "\n",
    "print(\"=======================================\")\n",
    "# Prover generates proof\n",
    "prover_gen_proof(prover_model_path, sel_data_path, witness_path, prover_compiled_model_path, settings_path, proof_path, pk_path)"
   ]
  },
  {
   "cell_type": "code",
   "execution_count": 20,
   "metadata": {},
   "outputs": [
    {
     "name": "stdout",
     "output_type": "stream",
     "text": [
      "Verifier gets result: 0.875\n"
     ]
    }
   ],
   "source": [
    "# Verifier verifies\n",
    "res = verifier_verify(proof_path, settings_path, vk_path, selected_columns, commitment_maps)\n",
    "print(\"Verifier gets result:\", res)"
   ]
  }
 ],
 "metadata": {
  "kernelspec": {
   "display_name": "Python 3",
   "language": "python",
   "name": "python3"
  },
  "language_info": {
   "codemirror_mode": {
    "name": "ipython",
    "version": 3
   },
   "file_extension": ".py",
   "mimetype": "text/x-python",
   "name": "python",
   "nbconvert_exporter": "python",
   "pygments_lexer": "ipython3",
   "version": "3.12.1"
  },
  "orig_nbformat": 4
 },
 "nbformat": 4,
 "nbformat_minor": 2
}
