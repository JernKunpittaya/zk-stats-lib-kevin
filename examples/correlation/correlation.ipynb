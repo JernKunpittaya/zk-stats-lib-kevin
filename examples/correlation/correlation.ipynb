{
 "cells": [
  {
   "cell_type": "code",
   "execution_count": 1,
   "metadata": {},
   "outputs": [
    {
     "name": "stdout",
     "output_type": "stream",
     "text": [
      "Requirement already satisfied: ezkl==7.0.0 in /Library/Frameworks/Python.framework/Versions/3.10/lib/python3.10/site-packages (from -r ../../requirements.txt (line 1)) (7.0.0)\n",
      "Requirement already satisfied: torch in /Library/Frameworks/Python.framework/Versions/3.10/lib/python3.10/site-packages (from -r ../../requirements.txt (line 2)) (2.1.1)\n",
      "Requirement already satisfied: requests in /Library/Frameworks/Python.framework/Versions/3.10/lib/python3.10/site-packages (from -r ../../requirements.txt (line 3)) (2.31.0)\n",
      "Requirement already satisfied: scipy in /Library/Frameworks/Python.framework/Versions/3.10/lib/python3.10/site-packages (from -r ../../requirements.txt (line 4)) (1.11.4)\n",
      "Requirement already satisfied: numpy in /Library/Frameworks/Python.framework/Versions/3.10/lib/python3.10/site-packages (from -r ../../requirements.txt (line 5)) (1.26.2)\n",
      "Requirement already satisfied: matplotlib in /Library/Frameworks/Python.framework/Versions/3.10/lib/python3.10/site-packages (from -r ../../requirements.txt (line 6)) (3.8.2)\n",
      "Requirement already satisfied: statistics in /Library/Frameworks/Python.framework/Versions/3.10/lib/python3.10/site-packages (from -r ../../requirements.txt (line 7)) (1.0.3.5)\n",
      "Requirement already satisfied: onnx in /Library/Frameworks/Python.framework/Versions/3.10/lib/python3.10/site-packages (from -r ../../requirements.txt (line 8)) (1.15.0)\n",
      "Requirement already satisfied: sympy in /Library/Frameworks/Python.framework/Versions/3.10/lib/python3.10/site-packages (from torch->-r ../../requirements.txt (line 2)) (1.12)\n",
      "Requirement already satisfied: networkx in /Library/Frameworks/Python.framework/Versions/3.10/lib/python3.10/site-packages (from torch->-r ../../requirements.txt (line 2)) (3.2.1)\n",
      "Requirement already satisfied: fsspec in /Library/Frameworks/Python.framework/Versions/3.10/lib/python3.10/site-packages (from torch->-r ../../requirements.txt (line 2)) (2023.10.0)\n",
      "Requirement already satisfied: typing-extensions in /Library/Frameworks/Python.framework/Versions/3.10/lib/python3.10/site-packages (from torch->-r ../../requirements.txt (line 2)) (4.8.0)\n",
      "Requirement already satisfied: jinja2 in /Library/Frameworks/Python.framework/Versions/3.10/lib/python3.10/site-packages (from torch->-r ../../requirements.txt (line 2)) (3.1.2)\n",
      "Requirement already satisfied: filelock in /Library/Frameworks/Python.framework/Versions/3.10/lib/python3.10/site-packages (from torch->-r ../../requirements.txt (line 2)) (3.13.1)\n",
      "Requirement already satisfied: urllib3<3,>=1.21.1 in /Library/Frameworks/Python.framework/Versions/3.10/lib/python3.10/site-packages (from requests->-r ../../requirements.txt (line 3)) (2.1.0)\n",
      "Requirement already satisfied: idna<4,>=2.5 in /Library/Frameworks/Python.framework/Versions/3.10/lib/python3.10/site-packages (from requests->-r ../../requirements.txt (line 3)) (3.6)\n",
      "Requirement already satisfied: charset-normalizer<4,>=2 in /Library/Frameworks/Python.framework/Versions/3.10/lib/python3.10/site-packages (from requests->-r ../../requirements.txt (line 3)) (3.3.2)\n",
      "Requirement already satisfied: certifi>=2017.4.17 in /Library/Frameworks/Python.framework/Versions/3.10/lib/python3.10/site-packages (from requests->-r ../../requirements.txt (line 3)) (2023.11.17)\n",
      "Requirement already satisfied: cycler>=0.10 in /Library/Frameworks/Python.framework/Versions/3.10/lib/python3.10/site-packages (from matplotlib->-r ../../requirements.txt (line 6)) (0.12.1)\n",
      "Requirement already satisfied: fonttools>=4.22.0 in /Library/Frameworks/Python.framework/Versions/3.10/lib/python3.10/site-packages (from matplotlib->-r ../../requirements.txt (line 6)) (4.45.1)\n",
      "Requirement already satisfied: packaging>=20.0 in /Users/jernkun/Library/Python/3.10/lib/python/site-packages (from matplotlib->-r ../../requirements.txt (line 6)) (23.2)\n",
      "Requirement already satisfied: python-dateutil>=2.7 in /Users/jernkun/Library/Python/3.10/lib/python/site-packages (from matplotlib->-r ../../requirements.txt (line 6)) (2.8.2)\n",
      "Requirement already satisfied: pyparsing>=2.3.1 in /Library/Frameworks/Python.framework/Versions/3.10/lib/python3.10/site-packages (from matplotlib->-r ../../requirements.txt (line 6)) (3.1.1)\n",
      "Requirement already satisfied: kiwisolver>=1.3.1 in /Library/Frameworks/Python.framework/Versions/3.10/lib/python3.10/site-packages (from matplotlib->-r ../../requirements.txt (line 6)) (1.4.5)\n",
      "Requirement already satisfied: contourpy>=1.0.1 in /Library/Frameworks/Python.framework/Versions/3.10/lib/python3.10/site-packages (from matplotlib->-r ../../requirements.txt (line 6)) (1.2.0)\n",
      "Requirement already satisfied: pillow>=8 in /Library/Frameworks/Python.framework/Versions/3.10/lib/python3.10/site-packages (from matplotlib->-r ../../requirements.txt (line 6)) (10.1.0)\n",
      "Requirement already satisfied: docutils>=0.3 in /Library/Frameworks/Python.framework/Versions/3.10/lib/python3.10/site-packages (from statistics->-r ../../requirements.txt (line 7)) (0.20.1)\n",
      "Requirement already satisfied: protobuf>=3.20.2 in /Library/Frameworks/Python.framework/Versions/3.10/lib/python3.10/site-packages (from onnx->-r ../../requirements.txt (line 8)) (4.25.1)\n",
      "Requirement already satisfied: six>=1.5 in /Users/jernkun/Library/Python/3.10/lib/python/site-packages (from python-dateutil>=2.7->matplotlib->-r ../../requirements.txt (line 6)) (1.16.0)\n",
      "Requirement already satisfied: MarkupSafe>=2.0 in /Library/Frameworks/Python.framework/Versions/3.10/lib/python3.10/site-packages (from jinja2->torch->-r ../../requirements.txt (line 2)) (2.1.3)\n",
      "Requirement already satisfied: mpmath>=0.19 in /Library/Frameworks/Python.framework/Versions/3.10/lib/python3.10/site-packages (from sympy->torch->-r ../../requirements.txt (line 2)) (1.3.0)\n",
      "\u001b[33mWARNING: You are using pip version 21.2.3; however, version 23.3.2 is available.\n",
      "You should consider upgrading via the '/usr/local/bin/python3 -m pip install --upgrade pip' command.\u001b[0m\n",
      "Note: you may need to restart the kernel to use updated packages.\n"
     ]
    }
   ],
   "source": [
    "pip install -r ../../requirements.txt"
   ]
  },
  {
   "attachments": {},
   "cell_type": "markdown",
   "metadata": {},
   "source": [
    "NOTE: Currently, the circuit is too huge, we would do it by requesting covariance and stdev and just calculate it on verifier side instead! Other circuits in this example can run well!"
   ]
  },
  {
   "cell_type": "code",
   "execution_count": 2,
   "metadata": {},
   "outputs": [],
   "source": [
    "import ezkl\n",
    "import torch\n",
    "from torch import nn\n",
    "import json\n",
    "import os\n",
    "import time\n",
    "import scipy\n",
    "import numpy as np\n",
    "import matplotlib.pyplot as plt\n",
    "import statistics\n",
    "import math"
   ]
  },
  {
   "cell_type": "code",
   "execution_count": 3,
   "metadata": {},
   "outputs": [],
   "source": [
    "%run -i ../../zkstats/core.py"
   ]
  },
  {
   "cell_type": "code",
   "execution_count": 4,
   "metadata": {},
   "outputs": [],
   "source": [
    "# init path\n",
    "os.makedirs(os.path.dirname('shared/'), exist_ok=True)\n",
    "os.makedirs(os.path.dirname('prover/'), exist_ok=True)\n",
    "verifier_model_path = os.path.join('shared/verifier.onnx')\n",
    "prover_model_path = os.path.join('prover/prover.onnx')\n",
    "verifier_compiled_model_path = os.path.join('shared/verifier.compiled')\n",
    "prover_compiled_model_path = os.path.join('prover/prover.compiled')\n",
    "pk_path = os.path.join('shared/test.pk')\n",
    "vk_path = os.path.join('shared/test.vk')\n",
    "proof_path = os.path.join('shared/test.pf')\n",
    "settings_path = os.path.join('shared/settings.json')\n",
    "srs_path = os.path.join('shared/kzg.srs')\n",
    "witness_path = os.path.join('prover/witness.json')\n",
    "# this is private to prover since it contains actual data\n",
    "sel_data_path = os.path.join('prover/sel_data.json')\n",
    "# this is just dummy random value\n",
    "sel_dummy_data_path = os.path.join('shared/sel_dummy_data.json')"
   ]
  },
  {
   "attachments": {},
   "cell_type": "markdown",
   "metadata": {},
   "source": [
    "=======================  ZK-STATS FLOW ======================="
   ]
  },
  {
   "attachments": {},
   "cell_type": "markdown",
   "metadata": {},
   "source": [
    "This example is not necessary. In fact, a person can just request cov(x,y), std(x), and std(y). Then just compute correlation on his own as well, but here we show that the code is composable enough to do all at once. "
   ]
  },
  {
   "cell_type": "code",
   "execution_count": 5,
   "metadata": {},
   "outputs": [
    {
     "name": "stdout",
     "output_type": "stream",
     "text": [
      "corr:  tensor(0.7295)\n",
      "check:  tensor(0.7295, dtype=torch.float64)\n",
      "x mean:  tensor(24.5000, dtype=torch.float64)\n",
      "y mean:  tensor(56.2012)\n",
      "dummy corr:  tensor(0.1248)\n",
      "dummy x mean:  tensor(5.6500)\n",
      "dummy y mean:  tensor(5.5680)\n"
     ]
    }
   ],
   "source": [
    "data_path = os.path.join('data.json')\n",
    "dummy_data_path = os.path.join('shared/dummy_data.json')\n",
    "\n",
    "data = json.loads(open(data_path, \"r\").read())\n",
    "x_vals = data['x']\n",
    "y_vals = data['y']\n",
    "x_vals_tensor = torch.reshape(torch.tensor(x_vals, dtype = torch.float64),(1,-1, 1))\n",
    "y_vals_tensor = torch.reshape(torch.tensor(y_vals),(1,-1, 1))\n",
    "\n",
    "\n",
    "create_dummy(data_path, dummy_data_path)\n",
    "dummy_data = json.loads(open(dummy_data_path, \"r\").read())\n",
    "dummy_x_vals = dummy_data['x']\n",
    "dummy_y_vals = dummy_data['y']\n",
    "dummy_x_vals_tensor = torch.reshape(torch.tensor(dummy_x_vals),(1,-1, 1))\n",
    "dummy_y_vals_tensor = torch.reshape(torch.tensor(dummy_y_vals),(1,-1, 1))\n",
    "\n",
    "real_corr = torch.tensor(statistics.correlation(x_vals, y_vals))\n",
    "real_cov = torch.tensor(statistics.covariance(x_vals, y_vals))\n",
    "x_mean = torch.mean(x_vals_tensor)\n",
    "y_mean = torch.mean(y_vals_tensor)\n",
    "x_std = torch.sqrt(torch.var(x_vals_tensor, correction = 1))\n",
    "y_std = torch.sqrt(torch.var(y_vals_tensor, correction = 1))\n",
    "\n",
    "print(\"corr: \",real_corr )\n",
    "print(\"check: \", real_cov/(x_std*y_std))\n",
    "print(\"x mean: \", x_mean)\n",
    "print(\"y mean: \", y_mean)\n",
    "\n",
    "dummy_corr = torch.tensor(statistics.correlation(dummy_x_vals, dummy_y_vals))\n",
    "dummy_cov = torch.tensor(statistics.covariance(dummy_x_vals, dummy_y_vals))\n",
    "dummy_x_mean = torch.mean(dummy_x_vals_tensor)\n",
    "dummy_y_mean = torch.mean(dummy_y_vals_tensor)\n",
    "dummy_x_std = torch.sqrt(torch.var(dummy_x_vals_tensor, correction = 1))\n",
    "dummy_y_std = torch.sqrt(torch.var(dummy_y_vals_tensor, correction = 1))\n",
    "print(\"dummy corr: \",dummy_corr )\n",
    "print(\"dummy x mean: \", dummy_x_mean)\n",
    "print(\"dummy y mean: \", dummy_y_mean)"
   ]
  },
  {
   "cell_type": "code",
   "execution_count": 6,
   "metadata": {},
   "outputs": [],
   "source": [
    "    def covariance(X, Y, cov, x_mean, y_mean):\n",
    "        x_mean_cons = torch.abs(torch.sum(X)-X.size()[1]*(x_mean))<=torch.abs(0.01*X.size()[1]*(x_mean))\n",
    "        y_mean_cons = torch.abs(torch.sum(Y)-Y.size()[1]*(y_mean))<=torch.abs(0.01*Y.size()[1]*(y_mean))\n",
    "        return (torch.logical_and(torch.logical_and(x_mean_cons,y_mean_cons), torch.abs(torch.sum((X-x_mean)*(Y-y_mean))-(X.size()[1]-1)*(cov))<0.01*(X.size()[1]-1)*(cov)), cov)"
   ]
  },
  {
   "cell_type": "code",
   "execution_count": 7,
   "metadata": {},
   "outputs": [],
   "source": [
    "    def stdev(X, x_std, x_mean):\n",
    "        x_mean_cons = torch.abs(torch.sum(X)-X.size()[1]*(x_mean))<=torch.abs(0.01*X.size()[1]*x_mean)\n",
    "        return (torch.logical_and(torch.abs(torch.sum((X-x_mean)*(X-x_mean))-x_std*x_std*(X.size()[1]-1))<=torch.abs(0.02*x_std*x_std*(X.size()[1]-1)),x_mean_cons),x_std)"
   ]
  },
  {
   "cell_type": "code",
   "execution_count": 8,
   "metadata": {},
   "outputs": [
    {
     "name": "stderr",
     "output_type": "stream",
     "text": [
      "/Library/Frameworks/Python.framework/Versions/3.10/lib/python3.10/site-packages/torch/onnx/symbolic_opset9.py:2174: FutureWarning: 'torch.onnx.symbolic_opset9._cast_Bool' is deprecated in version 2.0 and will be removed in the future. Please Avoid using this function and create a Cast node instead.\n",
      "  return fn(g, to_cast_func(g, input, False), to_cast_func(g, other, False))\n"
     ]
    }
   ],
   "source": [
    "# precise float number is hard, so we calculate 100*correlation instead.\n",
    "# Verifier/ data consumer side:\n",
    "class verifier_model(nn.Module):\n",
    "    def __init__(self):\n",
    "        super(verifier_model, self).__init__()\n",
    "        self.corr = nn.Parameter(data = dummy_corr, requires_grad = False)\n",
    "        self.cov = nn.Parameter(data = dummy_cov, requires_grad = False)\n",
    "        self.x_mean = nn.Parameter(data = dummy_x_mean, requires_grad = False)\n",
    "        self.y_mean = nn.Parameter(data = dummy_y_mean, requires_grad = False)\n",
    "        self.x_std = nn.Parameter(data = dummy_x_std, requires_grad = False)\n",
    "        self.y_std = nn.Parameter(data = dummy_y_std, requires_grad = False)\n",
    "    def forward(self,X,Y):\n",
    "        #  need to enforce same length, not yet\n",
    "        bool1, cov = covariance(X,Y, self.cov, self.x_mean, self.y_mean)\n",
    "        bool2, x_std = stdev(X, self.x_std, self.x_mean)\n",
    "        bool3, y_std = stdev(Y, self.y_std, self.y_mean)\n",
    "        bool4 = torch.abs(cov - self.corr*x_std*y_std)<=0.01*cov\n",
    "        return (torch.logical_and(torch.logical_and(bool1, bool2),torch.logical_and(bool3, bool4)), self.corr )\n",
    "\n",
    "verifier_define_calculation(dummy_data_path, ['x', 'y'],sel_dummy_data_path,verifier_model, verifier_model_path)"
   ]
  },
  {
   "cell_type": "code",
   "execution_count": 12,
   "metadata": {},
   "outputs": [
    {
     "name": "stdout",
     "output_type": "stream",
     "text": [
      "theory output:  tensor(0.7295)\n",
      "==== Generate & Calibrate Setting ====\n",
      "scale:  [3]\n",
      "setting:  {\"run_args\":{\"tolerance\":{\"val\":0.0,\"scale\":1.0},\"input_scale\":3,\"param_scale\":3,\"scale_rebase_multiplier\":10,\"lookup_range\":[-64240,14942],\"logrows\":17,\"num_inner_cols\":2,\"variables\":[[\"batch_size\",1]],\"input_visibility\":{\"Hashed\":{\"hash_is_public\":true,\"outlets\":[]}},\"output_visibility\":\"Public\",\"param_visibility\":\"Private\"},\"num_rows\":7872,\"total_assignments\":651,\"total_const_size\":16,\"model_instance_shapes\":[[1],[1]],\"model_output_scales\":[0,3],\"model_input_scales\":[3,3],\"module_sizes\":{\"kzg\":[],\"poseidon\":[7872,[2]],\"elgamal\":[0,[0]]},\"required_lookups\":[\"Abs\",{\"GreaterThan\":{\"a\":0.0}}],\"check_mode\":\"UNSAFE\",\"version\":\"7.0.0\",\"num_blinding_factors\":null}\n"
     ]
    },
    {
     "name": "stderr",
     "output_type": "stream",
     "text": [
      "/var/folders/89/y9dw12v976ngdmqz4l7wbsnr0000gn/T/ipykernel_7472/4119416261.py:2: UserWarning: To copy construct from a tensor, it is recommended to use sourceTensor.clone().detach() or sourceTensor.clone().detach().requires_grad_(True), rather than torch.tensor(sourceTensor).\n",
      "  theory_output = torch.tensor(real_corr)\n"
     ]
    }
   ],
   "source": [
    "# Prover/ data owner side\n",
    "theory_output = torch.tensor(real_corr)\n",
    "print(\"theory output: \", theory_output)\n",
    "class prover_model(nn.Module):\n",
    "    def __init__(self):\n",
    "        super(prover_model, self).__init__()\n",
    "        self.corr = nn.Parameter(data = real_corr, requires_grad = False)\n",
    "        self.cov = nn.Parameter(data = real_cov, requires_grad = False)\n",
    "        self.x_mean = nn.Parameter(data = x_mean, requires_grad = False)\n",
    "        self.y_mean = nn.Parameter(data = y_mean, requires_grad = False)\n",
    "        self.x_std = nn.Parameter(data = x_std, requires_grad = False)\n",
    "        self.y_std = nn.Parameter(data = y_std, requires_grad = False)\n",
    "    def forward(self,X,Y):\n",
    "        #  need to enforce same length, not yet\n",
    "        bool1, cov = covariance(X,Y, self.cov, self.x_mean, self.y_mean)\n",
    "        bool2, x_std = stdev(X, self.x_std, self.x_mean)\n",
    "        bool3, y_std = stdev(Y, self.y_std, self.y_mean)\n",
    "        bool4 = torch.abs(cov - self.corr*x_std*y_std)<=0.01*cov\n",
    "        return (torch.logical_and(torch.logical_and(bool1, bool2),torch.logical_and(bool3, bool4)), self.corr )\n",
    "\n",
    "prover_gen_settings(data_path,['x', 'y'], sel_data_path, prover_model,prover_model_path, [3], \"resources\", settings_path)"
   ]
  },
  {
   "cell_type": "code",
   "execution_count": 13,
   "metadata": {},
   "outputs": [
    {
     "name": "stderr",
     "output_type": "stream",
     "text": [
      "spawning module 0\n",
      "spawning module 2\n"
     ]
    },
    {
     "name": "stdout",
     "output_type": "stream",
     "text": [
      "==== setting up ezkl ====\n"
     ]
    },
    {
     "name": "stderr",
     "output_type": "stream",
     "text": [
      "spawning module 0\n",
      "spawning module 2\n"
     ]
    },
    {
     "name": "stdout",
     "output_type": "stream",
     "text": [
      "Time setup: 11.328320980072021 seconds\n",
      "=======================================\n",
      "Theory output:  tensor(0.7295)\n",
      "!@# compiled_model exists? True\n",
      "!@# compiled_model exists? True\n",
      "==== Generating Witness ====\n",
      "witness boolean:  1.0\n",
      "witness result 1 : 0.75\n",
      "==== Generating Proof ====\n"
     ]
    },
    {
     "name": "stderr",
     "output_type": "stream",
     "text": [
      "spawning module 0\n",
      "spawning module 2\n"
     ]
    },
    {
     "name": "stdout",
     "output_type": "stream",
     "text": [
      "proof:  {'instances': [[[4361588021930202802, 11452771843424695699, 17406203981540687110, 449645176536645986], [17475259421703607016, 4715985628661660007, 18118935885768207713, 749760773435915941], [12436184717236109307, 3962172157175319849, 7381016538464732718, 1011752739694698287], [14385415396251402209, 2429374486035521128, 12558163205804149944, 2583518171365219058]]], 'proof': '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', 'transcript_type': 'EVM'}\n",
      "Time gen prf: 14.686086177825928 seconds\n"
     ]
    }
   ],
   "source": [
    "# Here verifier & prover can concurrently call setup since all params are public to get pk.\n",
    "# Here write as verifier function to emphasize that verifier must calculate its own vk to be sure\n",
    "verifier_setup(verifier_model_path, verifier_compiled_model_path, settings_path,vk_path, pk_path )\n",
    "\n",
    "print(\"=======================================\")\n",
    "# Prover generates proof\n",
    "print(\"Theory output: \", theory_output)\n",
    "prover_gen_proof(prover_model_path, sel_data_path, witness_path, prover_compiled_model_path, settings_path, proof_path, pk_path)"
   ]
  },
  {
   "cell_type": "code",
   "execution_count": 14,
   "metadata": {},
   "outputs": [
    {
     "name": "stdout",
     "output_type": "stream",
     "text": [
      "num_inputs:  2\n",
      "prf instances:  [[[4361588021930202802, 11452771843424695699, 17406203981540687110, 449645176536645986], [17475259421703607016, 4715985628661660007, 18118935885768207713, 749760773435915941], [12436184717236109307, 3962172157175319849, 7381016538464732718, 1011752739694698287], [14385415396251402209, 2429374486035521128, 12558163205804149944, 2583518171365219058]]]\n",
      "proof boolean:  1.0\n",
      "proof result 1 : 0.75\n",
      "verified\n"
     ]
    }
   ],
   "source": [
    "# Verifier verifies\n",
    "verifier_verify(proof_path, settings_path, vk_path)"
   ]
  },
  {
   "cell_type": "code",
   "execution_count": null,
   "metadata": {},
   "outputs": [],
   "source": []
  }
 ],
 "metadata": {
  "kernelspec": {
   "display_name": "Python 3",
   "language": "python",
   "name": "python3"
  },
  "language_info": {
   "codemirror_mode": {
    "name": "ipython",
    "version": 3
   },
   "file_extension": ".py",
   "mimetype": "text/x-python",
   "name": "python",
   "nbconvert_exporter": "python",
   "pygments_lexer": "ipython3",
   "version": "3.10.0"
  },
  "orig_nbformat": 4
 },
 "nbformat": 4,
 "nbformat_minor": 2
}
