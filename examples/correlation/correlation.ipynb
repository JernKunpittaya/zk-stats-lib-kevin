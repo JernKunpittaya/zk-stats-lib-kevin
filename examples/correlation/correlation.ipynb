{
 "cells": [
  {
   "cell_type": "code",
   "execution_count": 1,
   "metadata": {},
   "outputs": [
    {
     "name": "stdout",
     "output_type": "stream",
     "text": [
      "Requirement already satisfied: ezkl==7.0.0 in /Users/jernkun/Library/Caches/pypoetry/virtualenvs/zkstats-OJpceffF-py3.11/lib/python3.11/site-packages (from -r ../../requirements.txt (line 1)) (7.0.0)\n",
      "Requirement already satisfied: torch in /Users/jernkun/Library/Caches/pypoetry/virtualenvs/zkstats-OJpceffF-py3.11/lib/python3.11/site-packages (from -r ../../requirements.txt (line 2)) (2.2.0)\n",
      "Requirement already satisfied: requests in /Users/jernkun/Library/Caches/pypoetry/virtualenvs/zkstats-OJpceffF-py3.11/lib/python3.11/site-packages (from -r ../../requirements.txt (line 3)) (2.31.0)\n",
      "Requirement already satisfied: scipy in /Users/jernkun/Library/Caches/pypoetry/virtualenvs/zkstats-OJpceffF-py3.11/lib/python3.11/site-packages (from -r ../../requirements.txt (line 4)) (1.12.0)\n",
      "Requirement already satisfied: numpy in /Users/jernkun/Library/Caches/pypoetry/virtualenvs/zkstats-OJpceffF-py3.11/lib/python3.11/site-packages (from -r ../../requirements.txt (line 5)) (1.26.3)\n",
      "Requirement already satisfied: matplotlib in /Users/jernkun/Library/Caches/pypoetry/virtualenvs/zkstats-OJpceffF-py3.11/lib/python3.11/site-packages (from -r ../../requirements.txt (line 6)) (3.8.2)\n",
      "Requirement already satisfied: statistics in /Users/jernkun/Library/Caches/pypoetry/virtualenvs/zkstats-OJpceffF-py3.11/lib/python3.11/site-packages (from -r ../../requirements.txt (line 7)) (1.0.3.5)\n",
      "Requirement already satisfied: onnx in /Users/jernkun/Library/Caches/pypoetry/virtualenvs/zkstats-OJpceffF-py3.11/lib/python3.11/site-packages (from -r ../../requirements.txt (line 8)) (1.15.0)\n",
      "Requirement already satisfied: filelock in /Users/jernkun/Library/Caches/pypoetry/virtualenvs/zkstats-OJpceffF-py3.11/lib/python3.11/site-packages (from torch->-r ../../requirements.txt (line 2)) (3.13.1)\n",
      "Requirement already satisfied: typing-extensions>=4.8.0 in /Users/jernkun/Library/Caches/pypoetry/virtualenvs/zkstats-OJpceffF-py3.11/lib/python3.11/site-packages (from torch->-r ../../requirements.txt (line 2)) (4.9.0)\n",
      "Requirement already satisfied: sympy in /Users/jernkun/Library/Caches/pypoetry/virtualenvs/zkstats-OJpceffF-py3.11/lib/python3.11/site-packages (from torch->-r ../../requirements.txt (line 2)) (1.12)\n",
      "Requirement already satisfied: networkx in /Users/jernkun/Library/Caches/pypoetry/virtualenvs/zkstats-OJpceffF-py3.11/lib/python3.11/site-packages (from torch->-r ../../requirements.txt (line 2)) (3.2.1)\n",
      "Requirement already satisfied: jinja2 in /Users/jernkun/Library/Caches/pypoetry/virtualenvs/zkstats-OJpceffF-py3.11/lib/python3.11/site-packages (from torch->-r ../../requirements.txt (line 2)) (3.1.3)\n",
      "Requirement already satisfied: fsspec in /Users/jernkun/Library/Caches/pypoetry/virtualenvs/zkstats-OJpceffF-py3.11/lib/python3.11/site-packages (from torch->-r ../../requirements.txt (line 2)) (2023.12.2)\n",
      "Requirement already satisfied: charset-normalizer<4,>=2 in /Users/jernkun/Library/Caches/pypoetry/virtualenvs/zkstats-OJpceffF-py3.11/lib/python3.11/site-packages (from requests->-r ../../requirements.txt (line 3)) (3.3.2)\n",
      "Requirement already satisfied: idna<4,>=2.5 in /Users/jernkun/Library/Caches/pypoetry/virtualenvs/zkstats-OJpceffF-py3.11/lib/python3.11/site-packages (from requests->-r ../../requirements.txt (line 3)) (3.6)\n",
      "Requirement already satisfied: urllib3<3,>=1.21.1 in /Users/jernkun/Library/Caches/pypoetry/virtualenvs/zkstats-OJpceffF-py3.11/lib/python3.11/site-packages (from requests->-r ../../requirements.txt (line 3)) (2.2.0)\n",
      "Requirement already satisfied: certifi>=2017.4.17 in /Users/jernkun/Library/Caches/pypoetry/virtualenvs/zkstats-OJpceffF-py3.11/lib/python3.11/site-packages (from requests->-r ../../requirements.txt (line 3)) (2024.2.2)\n",
      "Requirement already satisfied: contourpy>=1.0.1 in /Users/jernkun/Library/Caches/pypoetry/virtualenvs/zkstats-OJpceffF-py3.11/lib/python3.11/site-packages (from matplotlib->-r ../../requirements.txt (line 6)) (1.2.0)\n",
      "Requirement already satisfied: cycler>=0.10 in /Users/jernkun/Library/Caches/pypoetry/virtualenvs/zkstats-OJpceffF-py3.11/lib/python3.11/site-packages (from matplotlib->-r ../../requirements.txt (line 6)) (0.12.1)\n",
      "Requirement already satisfied: fonttools>=4.22.0 in /Users/jernkun/Library/Caches/pypoetry/virtualenvs/zkstats-OJpceffF-py3.11/lib/python3.11/site-packages (from matplotlib->-r ../../requirements.txt (line 6)) (4.47.2)\n",
      "Requirement already satisfied: kiwisolver>=1.3.1 in /Users/jernkun/Library/Caches/pypoetry/virtualenvs/zkstats-OJpceffF-py3.11/lib/python3.11/site-packages (from matplotlib->-r ../../requirements.txt (line 6)) (1.4.5)\n",
      "Requirement already satisfied: packaging>=20.0 in /Users/jernkun/Library/Caches/pypoetry/virtualenvs/zkstats-OJpceffF-py3.11/lib/python3.11/site-packages (from matplotlib->-r ../../requirements.txt (line 6)) (23.2)\n",
      "Requirement already satisfied: pillow>=8 in /Users/jernkun/Library/Caches/pypoetry/virtualenvs/zkstats-OJpceffF-py3.11/lib/python3.11/site-packages (from matplotlib->-r ../../requirements.txt (line 6)) (10.2.0)\n",
      "Requirement already satisfied: pyparsing>=2.3.1 in /Users/jernkun/Library/Caches/pypoetry/virtualenvs/zkstats-OJpceffF-py3.11/lib/python3.11/site-packages (from matplotlib->-r ../../requirements.txt (line 6)) (3.1.1)\n",
      "Requirement already satisfied: python-dateutil>=2.7 in /Users/jernkun/Library/Caches/pypoetry/virtualenvs/zkstats-OJpceffF-py3.11/lib/python3.11/site-packages (from matplotlib->-r ../../requirements.txt (line 6)) (2.8.2)\n",
      "Requirement already satisfied: docutils>=0.3 in /Users/jernkun/Library/Caches/pypoetry/virtualenvs/zkstats-OJpceffF-py3.11/lib/python3.11/site-packages (from statistics->-r ../../requirements.txt (line 7)) (0.20.1)\n",
      "Requirement already satisfied: protobuf>=3.20.2 in /Users/jernkun/Library/Caches/pypoetry/virtualenvs/zkstats-OJpceffF-py3.11/lib/python3.11/site-packages (from onnx->-r ../../requirements.txt (line 8)) (4.25.2)\n",
      "Requirement already satisfied: six>=1.5 in /Users/jernkun/Library/Caches/pypoetry/virtualenvs/zkstats-OJpceffF-py3.11/lib/python3.11/site-packages (from python-dateutil>=2.7->matplotlib->-r ../../requirements.txt (line 6)) (1.16.0)\n",
      "Requirement already satisfied: MarkupSafe>=2.0 in /Users/jernkun/Library/Caches/pypoetry/virtualenvs/zkstats-OJpceffF-py3.11/lib/python3.11/site-packages (from jinja2->torch->-r ../../requirements.txt (line 2)) (2.1.4)\n",
      "Requirement already satisfied: mpmath>=0.19 in /Users/jernkun/Library/Caches/pypoetry/virtualenvs/zkstats-OJpceffF-py3.11/lib/python3.11/site-packages (from sympy->torch->-r ../../requirements.txt (line 2)) (1.3.0)\n",
      "\n",
      "\u001b[1m[\u001b[0m\u001b[34;49mnotice\u001b[0m\u001b[1;39;49m]\u001b[0m\u001b[39;49m A new release of pip is available: \u001b[0m\u001b[31;49m23.2.1\u001b[0m\u001b[39;49m -> \u001b[0m\u001b[32;49m24.0\u001b[0m\n",
      "\u001b[1m[\u001b[0m\u001b[34;49mnotice\u001b[0m\u001b[1;39;49m]\u001b[0m\u001b[39;49m To update, run: \u001b[0m\u001b[32;49mpip install --upgrade pip\u001b[0m\n",
      "Note: you may need to restart the kernel to use updated packages.\n"
     ]
    }
   ],
   "source": [
    "pip install -r ../../requirements.txt"
   ]
  },
  {
   "attachments": {},
   "cell_type": "markdown",
   "metadata": {},
   "source": [
    "NOTE: Currently, the circuit is too huge, we would do it by requesting covariance and stdev and just calculate it on verifier side instead! Other circuits in this example can run well!"
   ]
  },
  {
   "cell_type": "code",
   "execution_count": 2,
   "metadata": {},
   "outputs": [],
   "source": [
    "import ezkl\n",
    "import torch\n",
    "from torch import nn\n",
    "import json\n",
    "import os\n",
    "import time\n",
    "import scipy\n",
    "import numpy as np\n",
    "import matplotlib.pyplot as plt\n",
    "import statistics\n",
    "import math"
   ]
  },
  {
   "cell_type": "code",
   "execution_count": 3,
   "metadata": {},
   "outputs": [],
   "source": [
    "from zkstats.core import create_dummy, verifier_define_calculation, prover_gen_settings, setup, prover_gen_proof, verifier_verify, get_data_commitment_maps"
   ]
  },
  {
   "cell_type": "code",
   "execution_count": 4,
   "metadata": {},
   "outputs": [],
   "source": [
    "# init path\n",
    "os.makedirs(os.path.dirname('shared/'), exist_ok=True)\n",
    "os.makedirs(os.path.dirname('prover/'), exist_ok=True)\n",
    "verifier_model_path = os.path.join('shared/verifier.onnx')\n",
    "prover_model_path = os.path.join('prover/prover.onnx')\n",
    "verifier_compiled_model_path = os.path.join('shared/verifier.compiled')\n",
    "prover_compiled_model_path = os.path.join('prover/prover.compiled')\n",
    "pk_path = os.path.join('shared/test.pk')\n",
    "vk_path = os.path.join('shared/test.vk')\n",
    "proof_path = os.path.join('shared/test.pf')\n",
    "settings_path = os.path.join('shared/settings.json')\n",
    "srs_path = os.path.join('shared/kzg.srs')\n",
    "witness_path = os.path.join('prover/witness.json')\n",
    "# this is private to prover since it contains actual data\n",
    "sel_data_path = os.path.join('prover/sel_data.json')\n",
    "# this is just dummy random value\n",
    "sel_dummy_data_path = os.path.join('shared/sel_dummy_data.json')"
   ]
  },
  {
   "attachments": {},
   "cell_type": "markdown",
   "metadata": {},
   "source": [
    "=======================  ZK-STATS FLOW ======================="
   ]
  },
  {
   "attachments": {},
   "cell_type": "markdown",
   "metadata": {},
   "source": [
    "This example is not necessary. In fact, a person can just request cov(x,y), std(x), and std(y). Then just compute correlation on his own as well, but here we show that the code is composable enough to do all at once. "
   ]
  },
  {
   "cell_type": "code",
   "execution_count": 5,
   "metadata": {},
   "outputs": [],
   "source": [
    "data_path = os.path.join('data.json')\n",
    "dummy_data_path = os.path.join('shared/dummy_data.json')\n",
    "\n",
    "create_dummy(data_path, dummy_data_path)"
   ]
  },
  {
   "cell_type": "code",
   "execution_count": 6,
   "metadata": {},
   "outputs": [],
   "source": [
    "scales = [3]\n",
    "selected_columns = ['x', 'y']\n",
    "commitment_maps = get_data_commitment_maps(data_path, scales)"
   ]
  },
  {
   "cell_type": "code",
   "execution_count": 7,
   "metadata": {},
   "outputs": [
    {
     "name": "stderr",
     "output_type": "stream",
     "text": [
      "/Users/jernkun/Desktop/zk-stats-lib/zkstats/computation.py:166: TracerWarning: torch.tensor results are registered as constants in the trace. You can safely ignore this warning if you use this function to create tensors out of constant variables that would be the same every time you call this function. In any other case, this might cause the trace to be incorrect.\n",
      "  is_precise_aggregated = torch.tensor(1.0)\n",
      "/Users/jernkun/Library/Caches/pypoetry/virtualenvs/zkstats-OJpceffF-py3.11/lib/python3.11/site-packages/torch/onnx/symbolic_opset9.py:2174: FutureWarning: 'torch.onnx.symbolic_opset9._cast_Bool' is deprecated in version 2.0 and will be removed in the future. Please Avoid using this function and create a Cast node instead.\n",
      "  return fn(g, to_cast_func(g, input, False), to_cast_func(g, other, False))\n"
     ]
    }
   ],
   "source": [
    "# Verifier/ data consumer side: send desired calculation\n",
    "from zkstats.computation import computation_to_model, State\n",
    "\n",
    "\n",
    "def computation(s: State, data: list[torch.Tensor]) -> torch.Tensor:\n",
    "    x, y = data[0], data[1]\n",
    "    return s.correlation(x, y)\n",
    "\n",
    "error = 0.01\n",
    "_, verifier_model = computation_to_model(computation, error)\n",
    "\n",
    "verifier_define_calculation(dummy_data_path, selected_columns, sel_dummy_data_path, verifier_model, verifier_model_path)"
   ]
  },
  {
   "cell_type": "code",
   "execution_count": 8,
   "metadata": {},
   "outputs": [
    {
     "name": "stdout",
     "output_type": "stream",
     "text": [
      "==== Generate & Calibrate Setting ====\n",
      "scale:  [3]\n",
      "setting:  {\"run_args\":{\"tolerance\":{\"val\":0.0,\"scale\":1.0},\"input_scale\":3,\"param_scale\":3,\"scale_rebase_multiplier\":10,\"lookup_range\":[-64240,14942],\"logrows\":17,\"num_inner_cols\":2,\"variables\":[[\"batch_size\",1]],\"input_visibility\":{\"Hashed\":{\"hash_is_public\":true,\"outlets\":[]}},\"output_visibility\":\"Public\",\"param_visibility\":\"Private\"},\"num_rows\":7872,\"total_assignments\":647,\"total_const_size\":16,\"model_instance_shapes\":[[1],[1]],\"model_output_scales\":[0,3],\"model_input_scales\":[3,3],\"module_sizes\":{\"kzg\":[],\"poseidon\":[7872,[2]],\"elgamal\":[0,[0]]},\"required_lookups\":[\"Abs\",{\"GreaterThan\":{\"a\":0.0}}],\"check_mode\":\"UNSAFE\",\"version\":\"7.0.0\",\"num_blinding_factors\":null}\n"
     ]
    }
   ],
   "source": [
    "# Prover/ data owner side\n",
    "_, prover_model = computation_to_model(computation, error)\n",
    "\n",
    "prover_gen_settings(data_path, selected_columns, sel_data_path, prover_model,prover_model_path, scales, \"resources\", settings_path)"
   ]
  },
  {
   "cell_type": "code",
   "execution_count": 9,
   "metadata": {},
   "outputs": [
    {
     "name": "stderr",
     "output_type": "stream",
     "text": [
      "spawning module 0\n",
      "spawning module 2\n"
     ]
    },
    {
     "name": "stdout",
     "output_type": "stream",
     "text": [
      "==== setting up ezkl ====\n"
     ]
    },
    {
     "name": "stderr",
     "output_type": "stream",
     "text": [
      "spawning module 0\n",
      "spawning module 2\n"
     ]
    },
    {
     "name": "stdout",
     "output_type": "stream",
     "text": [
      "Time setup: 11.341283798217773 seconds\n",
      "=======================================\n",
      "==== Generating Witness ====\n",
      "witness boolean:  1.0\n",
      "witness result 1 : 0.75\n",
      "==== Generating Proof ====\n"
     ]
    },
    {
     "name": "stderr",
     "output_type": "stream",
     "text": [
      "spawning module 0\n",
      "spawning module 2\n"
     ]
    },
    {
     "name": "stdout",
     "output_type": "stream",
     "text": [
      "proof:  {'instances': [[[4361588021930202802, 11452771843424695699, 17406203981540687110, 449645176536645986], [17475259421703607016, 4715985628661660007, 18118935885768207713, 749760773435915941], [12436184717236109307, 3962172157175319849, 7381016538464732718, 1011752739694698287], [14385415396251402209, 2429374486035521128, 12558163205804149944, 2583518171365219058]]], 'proof': '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', 'transcript_type': 'EVM'}\n",
      "Time gen prf: 14.648373126983643 seconds\n"
     ]
    }
   ],
   "source": [
    "# Here verifier & prover can concurrently call setup since all params are public to get pk.\n",
    "# Here write as verifier function to emphasize that verifier must calculate its own vk to be sure\n",
    "setup(verifier_model_path, verifier_compiled_model_path, settings_path,vk_path, pk_path )\n",
    "\n",
    "print(\"=======================================\")\n",
    "# Prover generates proof\n",
    "prover_gen_proof(prover_model_path, sel_data_path, witness_path, prover_compiled_model_path, settings_path, proof_path, pk_path)"
   ]
  },
  {
   "cell_type": "code",
   "execution_count": 10,
   "metadata": {},
   "outputs": [
    {
     "name": "stdout",
     "output_type": "stream",
     "text": [
      "Verifier gets result: 0.75\n"
     ]
    }
   ],
   "source": [
    "# Verifier verifies\n",
    "res = verifier_verify(proof_path, settings_path, vk_path, selected_columns, commitment_maps)\n",
    "print(\"Verifier gets result:\", res)"
   ]
  },
  {
   "cell_type": "code",
   "execution_count": null,
   "metadata": {},
   "outputs": [],
   "source": []
  }
 ],
 "metadata": {
  "kernelspec": {
   "display_name": "Python 3",
   "language": "python",
   "name": "python3"
  },
  "language_info": {
   "codemirror_mode": {
    "name": "ipython",
    "version": 3
   },
   "file_extension": ".py",
   "mimetype": "text/x-python",
   "name": "python",
   "nbconvert_exporter": "python",
   "pygments_lexer": "ipython3",
   "version": "3.12.1"
  },
  "orig_nbformat": 4
 },
 "nbformat": 4,
 "nbformat_minor": 2
}
