{
 "cells": [
  {
   "cell_type": "code",
   "execution_count": 1,
   "metadata": {},
   "outputs": [
    {
     "name": "stdout",
     "output_type": "stream",
     "text": [
      "Requirement already satisfied: ezkl==9.1.0 in /Users/jernkun/Library/Caches/pypoetry/virtualenvs/zkstats-OJpceffF-py3.11/lib/python3.11/site-packages (from -r ../../requirements.txt (line 1)) (9.1.0)\n",
      "Requirement already satisfied: torch in /Users/jernkun/Library/Caches/pypoetry/virtualenvs/zkstats-OJpceffF-py3.11/lib/python3.11/site-packages (from -r ../../requirements.txt (line 2)) (2.2.0)\n",
      "Requirement already satisfied: requests in /Users/jernkun/Library/Caches/pypoetry/virtualenvs/zkstats-OJpceffF-py3.11/lib/python3.11/site-packages (from -r ../../requirements.txt (line 3)) (2.31.0)\n",
      "Requirement already satisfied: scipy in /Users/jernkun/Library/Caches/pypoetry/virtualenvs/zkstats-OJpceffF-py3.11/lib/python3.11/site-packages (from -r ../../requirements.txt (line 4)) (1.12.0)\n",
      "Requirement already satisfied: numpy in /Users/jernkun/Library/Caches/pypoetry/virtualenvs/zkstats-OJpceffF-py3.11/lib/python3.11/site-packages (from -r ../../requirements.txt (line 5)) (1.26.3)\n",
      "Requirement already satisfied: matplotlib in /Users/jernkun/Library/Caches/pypoetry/virtualenvs/zkstats-OJpceffF-py3.11/lib/python3.11/site-packages (from -r ../../requirements.txt (line 6)) (3.8.2)\n",
      "Requirement already satisfied: statistics in /Users/jernkun/Library/Caches/pypoetry/virtualenvs/zkstats-OJpceffF-py3.11/lib/python3.11/site-packages (from -r ../../requirements.txt (line 7)) (1.0.3.5)\n",
      "Requirement already satisfied: onnx in /Users/jernkun/Library/Caches/pypoetry/virtualenvs/zkstats-OJpceffF-py3.11/lib/python3.11/site-packages (from -r ../../requirements.txt (line 8)) (1.15.0)\n",
      "Requirement already satisfied: filelock in /Users/jernkun/Library/Caches/pypoetry/virtualenvs/zkstats-OJpceffF-py3.11/lib/python3.11/site-packages (from torch->-r ../../requirements.txt (line 2)) (3.13.1)\n",
      "Requirement already satisfied: typing-extensions>=4.8.0 in /Users/jernkun/Library/Caches/pypoetry/virtualenvs/zkstats-OJpceffF-py3.11/lib/python3.11/site-packages (from torch->-r ../../requirements.txt (line 2)) (4.9.0)\n",
      "Requirement already satisfied: sympy in /Users/jernkun/Library/Caches/pypoetry/virtualenvs/zkstats-OJpceffF-py3.11/lib/python3.11/site-packages (from torch->-r ../../requirements.txt (line 2)) (1.12)\n",
      "Requirement already satisfied: networkx in /Users/jernkun/Library/Caches/pypoetry/virtualenvs/zkstats-OJpceffF-py3.11/lib/python3.11/site-packages (from torch->-r ../../requirements.txt (line 2)) (3.2.1)\n",
      "Requirement already satisfied: jinja2 in /Users/jernkun/Library/Caches/pypoetry/virtualenvs/zkstats-OJpceffF-py3.11/lib/python3.11/site-packages (from torch->-r ../../requirements.txt (line 2)) (3.1.3)\n",
      "Requirement already satisfied: fsspec in /Users/jernkun/Library/Caches/pypoetry/virtualenvs/zkstats-OJpceffF-py3.11/lib/python3.11/site-packages (from torch->-r ../../requirements.txt (line 2)) (2023.12.2)\n",
      "Requirement already satisfied: charset-normalizer<4,>=2 in /Users/jernkun/Library/Caches/pypoetry/virtualenvs/zkstats-OJpceffF-py3.11/lib/python3.11/site-packages (from requests->-r ../../requirements.txt (line 3)) (3.3.2)\n",
      "Requirement already satisfied: idna<4,>=2.5 in /Users/jernkun/Library/Caches/pypoetry/virtualenvs/zkstats-OJpceffF-py3.11/lib/python3.11/site-packages (from requests->-r ../../requirements.txt (line 3)) (3.6)\n",
      "Requirement already satisfied: urllib3<3,>=1.21.1 in /Users/jernkun/Library/Caches/pypoetry/virtualenvs/zkstats-OJpceffF-py3.11/lib/python3.11/site-packages (from requests->-r ../../requirements.txt (line 3)) (2.2.0)\n",
      "Requirement already satisfied: certifi>=2017.4.17 in /Users/jernkun/Library/Caches/pypoetry/virtualenvs/zkstats-OJpceffF-py3.11/lib/python3.11/site-packages (from requests->-r ../../requirements.txt (line 3)) (2024.2.2)\n",
      "Requirement already satisfied: contourpy>=1.0.1 in /Users/jernkun/Library/Caches/pypoetry/virtualenvs/zkstats-OJpceffF-py3.11/lib/python3.11/site-packages (from matplotlib->-r ../../requirements.txt (line 6)) (1.2.0)\n",
      "Requirement already satisfied: cycler>=0.10 in /Users/jernkun/Library/Caches/pypoetry/virtualenvs/zkstats-OJpceffF-py3.11/lib/python3.11/site-packages (from matplotlib->-r ../../requirements.txt (line 6)) (0.12.1)\n",
      "Requirement already satisfied: fonttools>=4.22.0 in /Users/jernkun/Library/Caches/pypoetry/virtualenvs/zkstats-OJpceffF-py3.11/lib/python3.11/site-packages (from matplotlib->-r ../../requirements.txt (line 6)) (4.47.2)\n",
      "Requirement already satisfied: kiwisolver>=1.3.1 in /Users/jernkun/Library/Caches/pypoetry/virtualenvs/zkstats-OJpceffF-py3.11/lib/python3.11/site-packages (from matplotlib->-r ../../requirements.txt (line 6)) (1.4.5)\n",
      "Requirement already satisfied: packaging>=20.0 in /Users/jernkun/Library/Caches/pypoetry/virtualenvs/zkstats-OJpceffF-py3.11/lib/python3.11/site-packages (from matplotlib->-r ../../requirements.txt (line 6)) (23.2)\n",
      "Requirement already satisfied: pillow>=8 in /Users/jernkun/Library/Caches/pypoetry/virtualenvs/zkstats-OJpceffF-py3.11/lib/python3.11/site-packages (from matplotlib->-r ../../requirements.txt (line 6)) (10.2.0)\n",
      "Requirement already satisfied: pyparsing>=2.3.1 in /Users/jernkun/Library/Caches/pypoetry/virtualenvs/zkstats-OJpceffF-py3.11/lib/python3.11/site-packages (from matplotlib->-r ../../requirements.txt (line 6)) (3.1.1)\n",
      "Requirement already satisfied: python-dateutil>=2.7 in /Users/jernkun/Library/Caches/pypoetry/virtualenvs/zkstats-OJpceffF-py3.11/lib/python3.11/site-packages (from matplotlib->-r ../../requirements.txt (line 6)) (2.8.2)\n",
      "Requirement already satisfied: docutils>=0.3 in /Users/jernkun/Library/Caches/pypoetry/virtualenvs/zkstats-OJpceffF-py3.11/lib/python3.11/site-packages (from statistics->-r ../../requirements.txt (line 7)) (0.20.1)\n",
      "Requirement already satisfied: protobuf>=3.20.2 in /Users/jernkun/Library/Caches/pypoetry/virtualenvs/zkstats-OJpceffF-py3.11/lib/python3.11/site-packages (from onnx->-r ../../requirements.txt (line 8)) (4.25.2)\n",
      "Requirement already satisfied: six>=1.5 in /Users/jernkun/Library/Caches/pypoetry/virtualenvs/zkstats-OJpceffF-py3.11/lib/python3.11/site-packages (from python-dateutil>=2.7->matplotlib->-r ../../requirements.txt (line 6)) (1.16.0)\n",
      "Requirement already satisfied: MarkupSafe>=2.0 in /Users/jernkun/Library/Caches/pypoetry/virtualenvs/zkstats-OJpceffF-py3.11/lib/python3.11/site-packages (from jinja2->torch->-r ../../requirements.txt (line 2)) (2.1.4)\n",
      "Requirement already satisfied: mpmath>=0.19 in /Users/jernkun/Library/Caches/pypoetry/virtualenvs/zkstats-OJpceffF-py3.11/lib/python3.11/site-packages (from sympy->torch->-r ../../requirements.txt (line 2)) (1.3.0)\n",
      "\n",
      "\u001b[1m[\u001b[0m\u001b[34;49mnotice\u001b[0m\u001b[1;39;49m]\u001b[0m\u001b[39;49m A new release of pip is available: \u001b[0m\u001b[31;49m23.2.1\u001b[0m\u001b[39;49m -> \u001b[0m\u001b[32;49m24.0\u001b[0m\n",
      "\u001b[1m[\u001b[0m\u001b[34;49mnotice\u001b[0m\u001b[1;39;49m]\u001b[0m\u001b[39;49m To update, run: \u001b[0m\u001b[32;49mpip install --upgrade pip\u001b[0m\n",
      "Note: you may need to restart the kernel to use updated packages.\n"
     ]
    }
   ],
   "source": [
    "pip install -r ../../requirements.txt"
   ]
  },
  {
   "attachments": {},
   "cell_type": "markdown",
   "metadata": {},
   "source": [
    "NOTE: Currently, the circuit is too huge, we would do it by requesting covariance and stdev and just calculate it on verifier side instead! Other circuits in this example can run well!"
   ]
  },
  {
   "cell_type": "code",
   "execution_count": 2,
   "metadata": {},
   "outputs": [],
   "source": [
    "import ezkl\n",
    "import torch\n",
    "from torch import nn\n",
    "import json\n",
    "import os\n",
    "import time\n",
    "import scipy\n",
    "import numpy as np\n",
    "import matplotlib.pyplot as plt\n",
    "import statistics\n",
    "import math"
   ]
  },
  {
   "cell_type": "code",
   "execution_count": 3,
   "metadata": {},
   "outputs": [],
   "source": [
    "from zkstats.core import create_dummy, verifier_define_calculation, prover_gen_settings, setup, prover_gen_proof, verifier_verify, get_data_commitment_maps"
   ]
  },
  {
   "cell_type": "code",
   "execution_count": 4,
   "metadata": {},
   "outputs": [],
   "source": [
    "# init path\n",
    "os.makedirs(os.path.dirname('shared/'), exist_ok=True)\n",
    "os.makedirs(os.path.dirname('prover/'), exist_ok=True)\n",
    "verifier_model_path = os.path.join('shared/verifier.onnx')\n",
    "prover_model_path = os.path.join('prover/prover.onnx')\n",
    "verifier_compiled_model_path = os.path.join('shared/verifier.compiled')\n",
    "prover_compiled_model_path = os.path.join('prover/prover.compiled')\n",
    "pk_path = os.path.join('shared/test.pk')\n",
    "vk_path = os.path.join('shared/test.vk')\n",
    "proof_path = os.path.join('shared/test.pf')\n",
    "settings_path = os.path.join('shared/settings.json')\n",
    "srs_path = os.path.join('shared/kzg.srs')\n",
    "witness_path = os.path.join('prover/witness.json')\n",
    "# this is private to prover since it contains actual data\n",
    "sel_data_path = os.path.join('prover/sel_data.json')\n",
    "# this is just dummy random value\n",
    "sel_dummy_data_path = os.path.join('shared/sel_dummy_data.json')"
   ]
  },
  {
   "attachments": {},
   "cell_type": "markdown",
   "metadata": {},
   "source": [
    "=======================  ZK-STATS FLOW ======================="
   ]
  },
  {
   "attachments": {},
   "cell_type": "markdown",
   "metadata": {},
   "source": [
    "This example is not necessary. In fact, a person can just request cov(x,y), std(x), and std(y). Then just compute correlation on his own as well, but here we show that the code is composable enough to do all at once. "
   ]
  },
  {
   "cell_type": "code",
   "execution_count": 5,
   "metadata": {},
   "outputs": [],
   "source": [
    "data_path = os.path.join('data.json')\n",
    "dummy_data_path = os.path.join('shared/dummy_data.json')\n",
    "\n",
    "create_dummy(data_path, dummy_data_path)"
   ]
  },
  {
   "cell_type": "code",
   "execution_count": 12,
   "metadata": {},
   "outputs": [],
   "source": [
    "scales = [5]\n",
    "selected_columns = ['x', 'y']\n",
    "commitment_maps = get_data_commitment_maps(data_path, scales)"
   ]
  },
  {
   "cell_type": "code",
   "execution_count": 13,
   "metadata": {},
   "outputs": [],
   "source": [
    "# Verifier/ data consumer side: send desired calculation\n",
    "from zkstats.computation import computation_to_model, State\n",
    "\n",
    "\n",
    "def computation(s: State, data: list[torch.Tensor]) -> torch.Tensor:\n",
    "    x, y = data[0], data[1]\n",
    "    return s.correlation(x, y)\n",
    "\n",
    "error = 0.01\n",
    "_, verifier_model = computation_to_model(computation, error)\n",
    "\n",
    "verifier_define_calculation(dummy_data_path, selected_columns, sel_dummy_data_path, verifier_model, verifier_model_path)"
   ]
  },
  {
   "cell_type": "code",
   "execution_count": 14,
   "metadata": {},
   "outputs": [
    {
     "name": "stderr",
     "output_type": "stream",
     "text": [
      "\n",
      "\n",
      " <------------- Numerical Fidelity Report (input_scale: 5, param_scale: 5, scale_input_multiplier: 1) ------------->\n",
      "\n",
      "+------------+--------------+------------+-----------+----------------+------------------+---------------+---------------+--------------------+--------------------+------------------------+\n",
      "| mean_error | median_error | max_error  | min_error | mean_abs_error | median_abs_error | max_abs_error | min_abs_error | mean_squared_error | mean_percent_error | mean_abs_percent_error |\n",
      "+------------+--------------+------------+-----------+----------------+------------------+---------------+---------------+--------------------+--------------------+------------------------+\n",
      "| 0.00537169 | 0.01074338   | 0.01074338 | 0         | 0.00537169     | 0.01074338       | 0.01074338    | 0             | 0.000057710102     | 0.0073635895       | 0.0073635895           |\n",
      "+------------+--------------+------------+-----------+----------------+------------------+---------------+---------------+--------------------+--------------------+------------------------+\n",
      "\n",
      "\n"
     ]
    },
    {
     "name": "stdout",
     "output_type": "stream",
     "text": [
      "==== Generate & Calibrate Setting ====\n",
      "scale:  [5]\n",
      "setting:  {\"run_args\":{\"tolerance\":{\"val\":0.0,\"scale\":1.0},\"input_scale\":5,\"param_scale\":5,\"scale_rebase_multiplier\":1,\"lookup_range\":[-32398,7566],\"logrows\":16,\"num_inner_cols\":2,\"variables\":[[\"batch_size\",1]],\"input_visibility\":{\"Hashed\":{\"hash_is_public\":true,\"outlets\":[]}},\"output_visibility\":\"Public\",\"param_visibility\":\"Private\",\"div_rebasing\":false,\"rebase_frac_zero_constants\":false,\"check_mode\":\"UNSAFE\"},\"num_rows\":7872,\"total_assignments\":1250,\"total_const_size\":169,\"model_instance_shapes\":[[1],[1]],\"model_output_scales\":[0,5],\"model_input_scales\":[5,5],\"module_sizes\":{\"kzg\":[],\"poseidon\":[7872,[2]]},\"required_lookups\":[{\"GreaterThan\":{\"a\":0.0}},\"Abs\"],\"required_range_checks\":[[-16,16]],\"check_mode\":\"UNSAFE\",\"version\":\"9.1.0\",\"num_blinding_factors\":null,\"timestamp\":1709450442648}\n"
     ]
    }
   ],
   "source": [
    "# Prover/ data owner side\n",
    "_, prover_model = computation_to_model(computation, error)\n",
    "\n",
    "prover_gen_settings(data_path, selected_columns, sel_data_path, prover_model,prover_model_path, scales, \"resources\", settings_path)"
   ]
  },
  {
   "cell_type": "code",
   "execution_count": 15,
   "metadata": {},
   "outputs": [
    {
     "name": "stdout",
     "output_type": "stream",
     "text": [
      "==== setting up ezkl ====\n",
      "Time setup: 6.017360210418701 seconds\n",
      "=======================================\n",
      "==== Generating Witness ====\n",
      "witness boolean:  1.0\n",
      "witness result 1 : 0.71875\n",
      "==== Generating Proof ====\n",
      "proof:  {'instances': [['7469705c7b45875730aac31b009e8f9e9f9e57031bba148110877f78e4518c22', 'c1f946e3fd2b2229bfcc2dc9ff7f4dfc1fddad53635becb58d130bcae5504712', '0100000000000000000000000000000000000000000000000000000000000000', '1700000000000000000000000000000000000000000000000000000000000000']], 'proof': '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', 'transcript_type': 'EVM'}\n",
      "Time gen prf: 7.439970970153809 seconds\n"
     ]
    }
   ],
   "source": [
    "# Here verifier & prover can concurrently call setup since all params are public to get pk.\n",
    "# Here write as verifier function to emphasize that verifier must calculate its own vk to be sure\n",
    "setup(verifier_model_path, verifier_compiled_model_path, settings_path,vk_path, pk_path )\n",
    "\n",
    "print(\"=======================================\")\n",
    "# Prover generates proof\n",
    "prover_gen_proof(prover_model_path, sel_data_path, witness_path, prover_compiled_model_path, settings_path, proof_path, pk_path)"
   ]
  },
  {
   "cell_type": "code",
   "execution_count": 17,
   "metadata": {},
   "outputs": [
    {
     "name": "stdout",
     "output_type": "stream",
     "text": [
      "Verifier gets result: [0.71875]\n"
     ]
    }
   ],
   "source": [
    "# Verifier verifies\n",
    "res = verifier_verify(proof_path, settings_path, vk_path, selected_columns, commitment_maps)\n",
    "print(\"Verifier gets result:\", res)"
   ]
  },
  {
   "cell_type": "code",
   "execution_count": null,
   "metadata": {},
   "outputs": [],
   "source": []
  }
 ],
 "metadata": {
  "kernelspec": {
   "display_name": "Python 3",
   "language": "python",
   "name": "python3"
  },
  "language_info": {
   "codemirror_mode": {
    "name": "ipython",
    "version": 3
   },
   "file_extension": ".py",
   "mimetype": "text/x-python",
   "name": "python",
   "nbconvert_exporter": "python",
   "pygments_lexer": "ipython3",
   "version": "3.12.1"
  },
  "orig_nbformat": 4
 },
 "nbformat": 4,
 "nbformat_minor": 2
}
