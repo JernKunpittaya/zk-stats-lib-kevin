{
 "cells": [
  {
   "attachments": {},
   "cell_type": "markdown",
   "metadata": {},
   "source": [
    "Note that it might make more sense to just request cov(x,y), std(x), std(y) and compute correlation on requester's end instead of requesting the whole HUGE circuit of correlation. "
   ]
  },
  {
   "cell_type": "code",
   "execution_count": 1,
   "metadata": {},
   "outputs": [],
   "source": [
    "import ezkl\n",
    "import torch\n",
    "from torch import nn\n",
    "import json\n",
    "import os\n",
    "import time\n",
    "import scipy\n",
    "import numpy as np\n",
    "import matplotlib.pyplot as plt\n",
    "import statistics\n",
    "import math"
   ]
  },
  {
   "cell_type": "code",
   "execution_count": 2,
   "metadata": {},
   "outputs": [],
   "source": [
    "from zkstats.core import create_dummy, verifier_define_calculation, prover_gen_settings, setup, prover_gen_proof, verifier_verify, get_data_commitment_maps"
   ]
  },
  {
   "cell_type": "code",
   "execution_count": 3,
   "metadata": {},
   "outputs": [],
   "source": [
    "# init path\n",
    "os.makedirs(os.path.dirname('shared/'), exist_ok=True)\n",
    "os.makedirs(os.path.dirname('prover/'), exist_ok=True)\n",
    "verifier_model_path = os.path.join('shared/verifier.onnx')\n",
    "prover_model_path = os.path.join('prover/prover.onnx')\n",
    "verifier_compiled_model_path = os.path.join('shared/verifier.compiled')\n",
    "prover_compiled_model_path = os.path.join('prover/prover.compiled')\n",
    "pk_path = os.path.join('shared/test.pk')\n",
    "vk_path = os.path.join('shared/test.vk')\n",
    "proof_path = os.path.join('shared/test.pf')\n",
    "settings_path = os.path.join('shared/settings.json')\n",
    "srs_path = os.path.join('shared/kzg.srs')\n",
    "witness_path = os.path.join('prover/witness.json')\n",
    "# this is private to prover since it contains actual data\n",
    "sel_data_path = os.path.join('prover/sel_data.json')\n",
    "# this is just dummy random value\n",
    "sel_dummy_data_path = os.path.join('shared/sel_dummy_data.json')"
   ]
  },
  {
   "attachments": {},
   "cell_type": "markdown",
   "metadata": {},
   "source": [
    "=======================  ZK-STATS FLOW ======================="
   ]
  },
  {
   "attachments": {},
   "cell_type": "markdown",
   "metadata": {},
   "source": [
    "This example is not necessary. In fact, a person can just request cov(x,y), std(x), and std(y). Then just compute correlation on his own as well, but here we show that the code is composable enough to do all at once. "
   ]
  },
  {
   "cell_type": "code",
   "execution_count": 4,
   "metadata": {},
   "outputs": [],
   "source": [
    "data_path = os.path.join('data.json')\n",
    "dummy_data_path = os.path.join('shared/dummy_data.json')\n",
    "\n",
    "create_dummy(data_path, dummy_data_path)"
   ]
  },
  {
   "cell_type": "code",
   "execution_count": 14,
   "metadata": {},
   "outputs": [],
   "source": [
    "scales = [5]\n",
    "selected_columns = ['x', 'y']\n",
    "commitment_maps = get_data_commitment_maps(data_path, scales)"
   ]
  },
  {
   "cell_type": "code",
   "execution_count": 15,
   "metadata": {},
   "outputs": [],
   "source": [
    "# Verifier/ data consumer side: send desired calculation\n",
    "from zkstats.computation import computation_to_model, State\n",
    "\n",
    "\n",
    "def computation(s: State, data: list[torch.Tensor]) -> torch.Tensor:\n",
    "    x, y = data[0], data[1]\n",
    "    return s.correlation(x, y)\n",
    "\n",
    "error = 0.01\n",
    "_, verifier_model = computation_to_model(computation, error)\n",
    "\n",
    "verifier_define_calculation(dummy_data_path, selected_columns, sel_dummy_data_path, verifier_model, verifier_model_path)"
   ]
  },
  {
   "cell_type": "code",
   "execution_count": 16,
   "metadata": {},
   "outputs": [
    {
     "name": "stderr",
     "output_type": "stream",
     "text": [
      "Using 2 columns for non-linearity table.\n",
      "Using 2 columns for non-linearity table.\n",
      "Using 2 columns for non-linearity table.\n",
      "Using 2 columns for non-linearity table.\n",
      "Using 2 columns for non-linearity table.\n",
      "Using 2 columns for non-linearity table.\n"
     ]
    },
    {
     "name": "stdout",
     "output_type": "stream",
     "text": [
      "==== Generate & Calibrate Setting ====\n"
     ]
    },
    {
     "name": "stderr",
     "output_type": "stream",
     "text": [
      "\n",
      "\n",
      " <------------- Numerical Fidelity Report (input_scale: 5, param_scale: 5, scale_input_multiplier: 1) ------------->\n",
      "\n",
      "+------------+--------------+------------+-----------+----------------+------------------+---------------+---------------+--------------------+--------------------+------------------------+\n",
      "| mean_error | median_error | max_error  | min_error | mean_abs_error | median_abs_error | max_abs_error | min_abs_error | mean_squared_error | mean_percent_error | mean_abs_percent_error |\n",
      "+------------+--------------+------------+-----------+----------------+------------------+---------------+---------------+--------------------+--------------------+------------------------+\n",
      "| 0.00537169 | 0.01074338   | 0.01074338 | 0         | 0.00537169     | 0.01074338       | 0.01074338    | 0             | 0.000057710102     | 0.0073635895       | 0.0073635895           |\n",
      "+------------+--------------+------------+-----------+----------------+------------------+---------------+---------------+--------------------+--------------------+------------------------+\n",
      "\n",
      "\n"
     ]
    },
    {
     "name": "stdout",
     "output_type": "stream",
     "text": [
      "scale:  [5]\n",
      "setting:  {\"run_args\":{\"tolerance\":{\"val\":0.0,\"scale\":1.0},\"input_scale\":5,\"param_scale\":5,\"scale_rebase_multiplier\":1,\"lookup_range\":[-32360,32536],\"logrows\":16,\"num_inner_cols\":2,\"variables\":[[\"batch_size\",1]],\"input_visibility\":{\"Hashed\":{\"hash_is_public\":true,\"outlets\":[]}},\"output_visibility\":\"Public\",\"param_visibility\":\"Private\",\"div_rebasing\":false,\"rebase_frac_zero_constants\":false,\"check_mode\":\"UNSAFE\"},\"num_rows\":7872,\"total_assignments\":3710,\"total_const_size\":792,\"model_instance_shapes\":[[1],[1]],\"model_output_scales\":[0,5],\"model_input_scales\":[5,5],\"module_sizes\":{\"kzg\":[],\"poseidon\":[7872,[2]]},\"required_lookups\":[\"Abs\",{\"GreaterThan\":{\"a\":0.0}}],\"required_range_checks\":[[-16,16]],\"check_mode\":\"UNSAFE\",\"version\":\"9.1.0\",\"num_blinding_factors\":null,\"timestamp\":1709724514721}\n"
     ]
    }
   ],
   "source": [
    "# Prover/ data owner side\n",
    "_, prover_model = computation_to_model(computation, error)\n",
    "\n",
    "prover_gen_settings(data_path, selected_columns, sel_data_path, prover_model,prover_model_path, scales, \"resources\", settings_path)"
   ]
  },
  {
   "cell_type": "code",
   "execution_count": 17,
   "metadata": {},
   "outputs": [
    {
     "name": "stdout",
     "output_type": "stream",
     "text": [
      "==== setting up ezkl ====\n",
      "Time setup: 6.577926874160767 seconds\n",
      "=======================================\n",
      "==== Generating Witness ====\n",
      "witness boolean:  1.0\n",
      "witness result 1 : 0.71875\n",
      "==== Generating Proof ====\n",
      "proof:  {'instances': [['7469705c7b45875730aac31b009e8f9e9f9e57031bba148110877f78e4518c22', 'c1f946e3fd2b2229bfcc2dc9ff7f4dfc1fddad53635becb58d130bcae5504712', '0100000000000000000000000000000000000000000000000000000000000000', '1700000000000000000000000000000000000000000000000000000000000000']], 'proof': '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', 'transcript_type': 'EVM'}\n",
      "Time gen prf: 7.614093065261841 seconds\n"
     ]
    }
   ],
   "source": [
    "# Here verifier & prover can concurrently call setup since all params are public to get pk.\n",
    "# Here write as verifier function to emphasize that verifier must calculate its own vk to be sure\n",
    "setup(verifier_model_path, verifier_compiled_model_path, settings_path,vk_path, pk_path )\n",
    "\n",
    "print(\"=======================================\")\n",
    "# Prover generates proof\n",
    "prover_gen_proof(prover_model_path, sel_data_path, witness_path, prover_compiled_model_path, settings_path, proof_path, pk_path)"
   ]
  },
  {
   "cell_type": "code",
   "execution_count": 18,
   "metadata": {},
   "outputs": [
    {
     "name": "stdout",
     "output_type": "stream",
     "text": [
      "Verifier gets result: [0.71875]\n"
     ]
    }
   ],
   "source": [
    "# Verifier verifies\n",
    "res = verifier_verify(proof_path, settings_path, vk_path, selected_columns, commitment_maps)\n",
    "print(\"Verifier gets result:\", res)"
   ]
  },
  {
   "cell_type": "code",
   "execution_count": null,
   "metadata": {},
   "outputs": [],
   "source": []
  }
 ],
 "metadata": {
  "kernelspec": {
   "display_name": "Python 3",
   "language": "python",
   "name": "python3"
  },
  "language_info": {
   "codemirror_mode": {
    "name": "ipython",
    "version": 3
   },
   "file_extension": ".py",
   "mimetype": "text/x-python",
   "name": "python",
   "nbconvert_exporter": "python",
   "pygments_lexer": "ipython3",
   "version": "3.12.1"
  },
  "orig_nbformat": 4
 },
 "nbformat": 4,
 "nbformat_minor": 2
}
