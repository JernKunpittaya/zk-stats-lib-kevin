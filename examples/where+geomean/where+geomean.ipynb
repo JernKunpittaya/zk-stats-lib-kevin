{
 "cells": [
  {
   "cell_type": "code",
   "execution_count": 1,
   "metadata": {},
   "outputs": [
    {
     "name": "stdout",
     "output_type": "stream",
     "text": [
      "Requirement already satisfied: ezkl==7.0.0 in /Library/Frameworks/Python.framework/Versions/3.10/lib/python3.10/site-packages (from -r ../../requirements.txt (line 1)) (7.0.0)\n",
      "Requirement already satisfied: torch in /Library/Frameworks/Python.framework/Versions/3.10/lib/python3.10/site-packages (from -r ../../requirements.txt (line 2)) (2.1.1)\n",
      "Requirement already satisfied: requests in /Library/Frameworks/Python.framework/Versions/3.10/lib/python3.10/site-packages (from -r ../../requirements.txt (line 3)) (2.31.0)\n",
      "Requirement already satisfied: scipy in /Library/Frameworks/Python.framework/Versions/3.10/lib/python3.10/site-packages (from -r ../../requirements.txt (line 4)) (1.11.4)\n",
      "Requirement already satisfied: numpy in /Library/Frameworks/Python.framework/Versions/3.10/lib/python3.10/site-packages (from -r ../../requirements.txt (line 5)) (1.26.2)\n",
      "Requirement already satisfied: matplotlib in /Library/Frameworks/Python.framework/Versions/3.10/lib/python3.10/site-packages (from -r ../../requirements.txt (line 6)) (3.8.2)\n",
      "Requirement already satisfied: statistics in /Library/Frameworks/Python.framework/Versions/3.10/lib/python3.10/site-packages (from -r ../../requirements.txt (line 7)) (1.0.3.5)\n",
      "Requirement already satisfied: onnx in /Library/Frameworks/Python.framework/Versions/3.10/lib/python3.10/site-packages (from -r ../../requirements.txt (line 8)) (1.15.0)\n",
      "Requirement already satisfied: filelock in /Library/Frameworks/Python.framework/Versions/3.10/lib/python3.10/site-packages (from torch->-r ../../requirements.txt (line 2)) (3.13.1)\n",
      "Requirement already satisfied: jinja2 in /Library/Frameworks/Python.framework/Versions/3.10/lib/python3.10/site-packages (from torch->-r ../../requirements.txt (line 2)) (3.1.2)\n",
      "Requirement already satisfied: typing-extensions in /Library/Frameworks/Python.framework/Versions/3.10/lib/python3.10/site-packages (from torch->-r ../../requirements.txt (line 2)) (4.8.0)\n",
      "Requirement already satisfied: fsspec in /Library/Frameworks/Python.framework/Versions/3.10/lib/python3.10/site-packages (from torch->-r ../../requirements.txt (line 2)) (2023.10.0)\n",
      "Requirement already satisfied: networkx in /Library/Frameworks/Python.framework/Versions/3.10/lib/python3.10/site-packages (from torch->-r ../../requirements.txt (line 2)) (3.2.1)\n",
      "Requirement already satisfied: sympy in /Library/Frameworks/Python.framework/Versions/3.10/lib/python3.10/site-packages (from torch->-r ../../requirements.txt (line 2)) (1.12)\n",
      "Requirement already satisfied: certifi>=2017.4.17 in /Library/Frameworks/Python.framework/Versions/3.10/lib/python3.10/site-packages (from requests->-r ../../requirements.txt (line 3)) (2023.11.17)\n",
      "Requirement already satisfied: idna<4,>=2.5 in /Library/Frameworks/Python.framework/Versions/3.10/lib/python3.10/site-packages (from requests->-r ../../requirements.txt (line 3)) (3.6)\n",
      "Requirement already satisfied: urllib3<3,>=1.21.1 in /Library/Frameworks/Python.framework/Versions/3.10/lib/python3.10/site-packages (from requests->-r ../../requirements.txt (line 3)) (2.1.0)\n",
      "Requirement already satisfied: charset-normalizer<4,>=2 in /Library/Frameworks/Python.framework/Versions/3.10/lib/python3.10/site-packages (from requests->-r ../../requirements.txt (line 3)) (3.3.2)\n",
      "Requirement already satisfied: cycler>=0.10 in /Library/Frameworks/Python.framework/Versions/3.10/lib/python3.10/site-packages (from matplotlib->-r ../../requirements.txt (line 6)) (0.12.1)\n",
      "Requirement already satisfied: contourpy>=1.0.1 in /Library/Frameworks/Python.framework/Versions/3.10/lib/python3.10/site-packages (from matplotlib->-r ../../requirements.txt (line 6)) (1.2.0)\n",
      "Requirement already satisfied: python-dateutil>=2.7 in /Users/jernkun/Library/Python/3.10/lib/python/site-packages (from matplotlib->-r ../../requirements.txt (line 6)) (2.8.2)\n",
      "Requirement already satisfied: packaging>=20.0 in /Users/jernkun/Library/Python/3.10/lib/python/site-packages (from matplotlib->-r ../../requirements.txt (line 6)) (23.2)\n",
      "Requirement already satisfied: pyparsing>=2.3.1 in /Library/Frameworks/Python.framework/Versions/3.10/lib/python3.10/site-packages (from matplotlib->-r ../../requirements.txt (line 6)) (3.1.1)\n",
      "Requirement already satisfied: kiwisolver>=1.3.1 in /Library/Frameworks/Python.framework/Versions/3.10/lib/python3.10/site-packages (from matplotlib->-r ../../requirements.txt (line 6)) (1.4.5)\n",
      "Requirement already satisfied: pillow>=8 in /Library/Frameworks/Python.framework/Versions/3.10/lib/python3.10/site-packages (from matplotlib->-r ../../requirements.txt (line 6)) (10.1.0)\n",
      "Requirement already satisfied: fonttools>=4.22.0 in /Library/Frameworks/Python.framework/Versions/3.10/lib/python3.10/site-packages (from matplotlib->-r ../../requirements.txt (line 6)) (4.45.1)\n",
      "Requirement already satisfied: docutils>=0.3 in /Library/Frameworks/Python.framework/Versions/3.10/lib/python3.10/site-packages (from statistics->-r ../../requirements.txt (line 7)) (0.20.1)\n",
      "Requirement already satisfied: protobuf>=3.20.2 in /Library/Frameworks/Python.framework/Versions/3.10/lib/python3.10/site-packages (from onnx->-r ../../requirements.txt (line 8)) (4.25.1)\n",
      "Requirement already satisfied: six>=1.5 in /Users/jernkun/Library/Python/3.10/lib/python/site-packages (from python-dateutil>=2.7->matplotlib->-r ../../requirements.txt (line 6)) (1.16.0)\n",
      "Requirement already satisfied: MarkupSafe>=2.0 in /Library/Frameworks/Python.framework/Versions/3.10/lib/python3.10/site-packages (from jinja2->torch->-r ../../requirements.txt (line 2)) (2.1.3)\n",
      "Requirement already satisfied: mpmath>=0.19 in /Library/Frameworks/Python.framework/Versions/3.10/lib/python3.10/site-packages (from sympy->torch->-r ../../requirements.txt (line 2)) (1.3.0)\n",
      "\u001b[33mWARNING: You are using pip version 21.2.3; however, version 23.3.2 is available.\n",
      "You should consider upgrading via the '/usr/local/bin/python3 -m pip install --upgrade pip' command.\u001b[0m\n",
      "Note: you may need to restart the kernel to use updated packages.\n"
     ]
    }
   ],
   "source": [
    "pip install -r ../../requirements.txt"
   ]
  },
  {
   "cell_type": "code",
   "execution_count": 2,
   "metadata": {},
   "outputs": [],
   "source": [
    "import ezkl\n",
    "import torch\n",
    "from torch import nn\n",
    "import json\n",
    "import os\n",
    "import time\n",
    "import scipy\n",
    "import numpy as np\n",
    "import matplotlib.pyplot as plt\n",
    "import statistics\n",
    "import math"
   ]
  },
  {
   "cell_type": "code",
   "execution_count": 3,
   "metadata": {},
   "outputs": [],
   "source": [
    "%run -i ../../zkstats/core.py"
   ]
  },
  {
   "attachments": {},
   "cell_type": "markdown",
   "metadata": {},
   "source": []
  },
  {
   "cell_type": "code",
   "execution_count": 13,
   "metadata": {},
   "outputs": [],
   "source": [
    "# init path\n",
    "os.makedirs(os.path.dirname('shared/'), exist_ok=True)\n",
    "os.makedirs(os.path.dirname('prover/'), exist_ok=True)\n",
    "verifier_model_path = os.path.join('shared/verifier.onnx')\n",
    "prover_model_path = os.path.join('prover/prover.onnx')\n",
    "verifier_compiled_model_path = os.path.join('shared/verifier.compiled')\n",
    "prover_compiled_model_path = os.path.join('prover/prover.compiled')\n",
    "pk_path = os.path.join('shared/test.pk')\n",
    "vk_path = os.path.join('shared/test.vk')\n",
    "proof_path = os.path.join('shared/test.pf')\n",
    "settings_path = os.path.join('shared/settings.json')\n",
    "srs_path = os.path.join('shared/kzg.srs')\n",
    "witness_path = os.path.join('prover/witness.json')\n",
    "# this is private to prover since it contains actual data\n",
    "comb_data_path = os.path.join('prover/comb_data.json')"
   ]
  },
  {
   "attachments": {},
   "cell_type": "markdown",
   "metadata": {},
   "source": [
    "=======================  ZK-STATS FLOW ======================="
   ]
  },
  {
   "cell_type": "code",
   "execution_count": 14,
   "metadata": {},
   "outputs": [],
   "source": [
    "data_path = os.path.join('data.json')\n",
    "dummy_data_path = os.path.join('shared/dummy_data.json')\n",
    "\n",
    "f_raw_input = open(data_path, \"r\")\n",
    "data = json.loads(f_raw_input.read())[\"input_data\"][0]\n",
    "data_tensor = torch.reshape(torch.tensor(data),(1, len(data), 1))\n",
    "\n",
    "#  dummy data for data consumer: arbitraryyy, just to make sure after filtered, it's not empty\n",
    "dummy_data = np.random.uniform(1, 100, len(data))\n",
    "json.dump({\"input_data\":[dummy_data.tolist()]}, open(dummy_data_path, 'w'))\n",
    "\n",
    "# where(element > 30)\n",
    "dummy_data_tensor = torch.reshape(torch.tensor(dummy_data), (1, len(dummy_data),1 ))\n",
    "gt30_dummy_data_tensor = dummy_data_tensor[dummy_data_tensor > 30].reshape(1,-1,1)\n",
    "dummy_theory_output = torch.exp(torch.mean(torch.log(gt30_dummy_data_tensor)))\n",
    "\n"
   ]
  },
  {
   "cell_type": "code",
   "execution_count": 15,
   "metadata": {},
   "outputs": [
    {
     "name": "stderr",
     "output_type": "stream",
     "text": [
      "/var/folders/89/y9dw12v976ngdmqz4l7wbsnr0000gn/T/ipykernel_88041/1017795205.py:11: TracerWarning: Iterating over a tensor might cause the trace to be incorrect. Passing a tensor of different shape won't change the number of iterations executed (and might lead to errors or silently give incorrect results).\n",
      "  fil_X = torch.tensor([ele[0] if ele[0]>30 else 1 for ele in X[0]])\n",
      "/var/folders/89/y9dw12v976ngdmqz4l7wbsnr0000gn/T/ipykernel_88041/1017795205.py:11: TracerWarning: Converting a tensor to a Python boolean might cause the trace to be incorrect. We can't record the data flow of Python values, so this value will be treated as a constant in the future. This means that the trace might not generalize to other inputs!\n",
      "  fil_X = torch.tensor([ele[0] if ele[0]>30 else 1 for ele in X[0]])\n",
      "/var/folders/89/y9dw12v976ngdmqz4l7wbsnr0000gn/T/ipykernel_88041/1017795205.py:11: TracerWarning: torch.tensor results are registered as constants in the trace. You can safely ignore this warning if you use this function to create tensors out of constant variables that would be the same every time you call this function. In any other case, this might cause the trace to be incorrect.\n",
      "  fil_X = torch.tensor([ele[0] if ele[0]>30 else 1 for ele in X[0]])\n",
      "/var/folders/89/y9dw12v976ngdmqz4l7wbsnr0000gn/T/ipykernel_88041/1017795205.py:11: TracerWarning: Converting a tensor to a Python float might cause the trace to be incorrect. We can't record the data flow of Python values, so this value will be treated as a constant in the future. This means that the trace might not generalize to other inputs!\n",
      "  fil_X = torch.tensor([ele[0] if ele[0]>30 else 1 for ele in X[0]])\n",
      "/var/folders/89/y9dw12v976ngdmqz4l7wbsnr0000gn/T/ipykernel_88041/1017795205.py:13: TracerWarning: torch.tensor results are registered as constants in the trace. You can safely ignore this warning if you use this function to create tensors out of constant variables that would be the same every time you call this function. In any other case, this might cause the trace to be incorrect.\n",
      "  return (torch.abs((torch.log(self.w)*num_fil_X)-torch.sum(torch.log(fil_X)))<=num_fil_X*torch.log(torch.tensor(1.01)), self.w)\n"
     ]
    }
   ],
   "source": [
    "# Verifier/ data consumer side: send desired calculation\n",
    "class verifier_model(nn.Module):\n",
    "    def __init__(self):\n",
    "        super(verifier_model, self).__init__()\n",
    "        # w represents mean in this case\n",
    "        self.w = nn.Parameter(data = dummy_theory_output, requires_grad = False)\n",
    "\n",
    "    def forward(self,X):\n",
    "        # where part\n",
    "        num_fil_X = torch.sum((X>30).double())\n",
    "        fil_X = torch.tensor([ele[0] if ele[0]>30 else 1 for ele in X[0]])\n",
    "        # fil_X = torch.where(X>30, X, 1)\n",
    "        return (torch.abs((torch.log(self.w)*num_fil_X)-torch.sum(torch.log(fil_X)))<=num_fil_X*torch.log(torch.tensor(1.01)), self.w)\n",
    "    \n",
    "verifier_define_calculation(verifier_model, verifier_model_path, [dummy_data_path])"
   ]
  },
  {
   "cell_type": "code",
   "execution_count": 16,
   "metadata": {},
   "outputs": [
    {
     "name": "stdout",
     "output_type": "stream",
     "text": [
      "new tensor:  torch.Size([1, 272, 1])\n",
      "Theory_output:  tensor(50.8632)\n",
      "==== Generate & Calibrate Setting ====\n",
      "scale:  [8]\n",
      "setting:  {\"run_args\":{\"tolerance\":{\"val\":0.0,\"scale\":1.0},\"input_scale\":8,\"param_scale\":8,\"scale_rebase_multiplier\":10,\"lookup_range\":[-196532,29696],\"logrows\":18,\"num_inner_cols\":2,\"variables\":[[\"batch_size\",1]],\"input_visibility\":{\"Hashed\":{\"hash_is_public\":true,\"outlets\":[]}},\"output_visibility\":\"Public\",\"param_visibility\":\"Private\"},\"num_rows\":14432,\"total_assignments\":1514,\"total_const_size\":5,\"model_instance_shapes\":[[1],[1]],\"model_output_scales\":[0,8],\"model_input_scales\":[8],\"module_sizes\":{\"kzg\":[],\"poseidon\":[14432,[1]],\"elgamal\":[0,[0]]},\"required_lookups\":[\"Abs\",{\"Div\":{\"denom\":100.49927}},{\"GreaterThan\":{\"a\":0.0}}],\"check_mode\":\"UNSAFE\",\"version\":\"7.0.0\",\"num_blinding_factors\":null}\n"
     ]
    },
    {
     "name": "stderr",
     "output_type": "stream",
     "text": [
      "/var/folders/89/y9dw12v976ngdmqz4l7wbsnr0000gn/T/ipykernel_88041/609443682.py:15: TracerWarning: Iterating over a tensor might cause the trace to be incorrect. Passing a tensor of different shape won't change the number of iterations executed (and might lead to errors or silently give incorrect results).\n",
      "  fil_X = torch.tensor([ele[0] if ele[0]>30 else 1 for ele in X[0]])\n",
      "/var/folders/89/y9dw12v976ngdmqz4l7wbsnr0000gn/T/ipykernel_88041/609443682.py:15: TracerWarning: Converting a tensor to a Python boolean might cause the trace to be incorrect. We can't record the data flow of Python values, so this value will be treated as a constant in the future. This means that the trace might not generalize to other inputs!\n",
      "  fil_X = torch.tensor([ele[0] if ele[0]>30 else 1 for ele in X[0]])\n",
      "/var/folders/89/y9dw12v976ngdmqz4l7wbsnr0000gn/T/ipykernel_88041/609443682.py:15: TracerWarning: torch.tensor results are registered as constants in the trace. You can safely ignore this warning if you use this function to create tensors out of constant variables that would be the same every time you call this function. In any other case, this might cause the trace to be incorrect.\n",
      "  fil_X = torch.tensor([ele[0] if ele[0]>30 else 1 for ele in X[0]])\n",
      "/var/folders/89/y9dw12v976ngdmqz4l7wbsnr0000gn/T/ipykernel_88041/609443682.py:15: TracerWarning: Converting a tensor to a Python float might cause the trace to be incorrect. We can't record the data flow of Python values, so this value will be treated as a constant in the future. This means that the trace might not generalize to other inputs!\n",
      "  fil_X = torch.tensor([ele[0] if ele[0]>30 else 1 for ele in X[0]])\n",
      "/var/folders/89/y9dw12v976ngdmqz4l7wbsnr0000gn/T/ipykernel_88041/609443682.py:18: TracerWarning: torch.tensor results are registered as constants in the trace. You can safely ignore this warning if you use this function to create tensors out of constant variables that would be the same every time you call this function. In any other case, this might cause the trace to be incorrect.\n",
      "  return (torch.abs((torch.log(self.w)*num_fil_X)-torch.sum(torch.log(fil_X)))<=num_fil_X*torch.log(torch.tensor(1.01)), self.w)\n"
     ]
    }
   ],
   "source": [
    "# prover calculates settings, send to verifier\n",
    "gt30_data_tensor = data_tensor[data_tensor > 30].reshape(1,-1,1)\n",
    "print(\"new tensor: \", gt30_data_tensor.size())\n",
    "theory_output = torch.exp(torch.mean(torch.log(gt30_data_tensor)))\n",
    "print(\"Theory_output: \", theory_output)\n",
    "class prover_model(nn.Module):\n",
    "    def __init__(self):\n",
    "        super(prover_model, self).__init__()\n",
    "        # w represents mean in this case\n",
    "        self.w = nn.Parameter(data = theory_output, requires_grad = False)\n",
    "        \n",
    "    def forward(self,X):\n",
    "        # where part\n",
    "        num_fil_X = torch.sum((X>30).double())\n",
    "        fil_X = torch.tensor([ele[0] if ele[0]>30 else 1 for ele in X[0]])\n",
    "        # fil_X = torch.where(X>30, X, 1)\n",
    "\n",
    "        return (torch.abs((torch.log(self.w)*num_fil_X)-torch.sum(torch.log(fil_X)))<=num_fil_X*torch.log(torch.tensor(1.01)), self.w)\n",
    "\n",
    "    \n",
    "\n",
    "prover_gen_settings([data_path], comb_data_path, prover_model,prover_model_path,[8], \"resources\", settings_path)"
   ]
  },
  {
   "cell_type": "code",
   "execution_count": 17,
   "metadata": {},
   "outputs": [
    {
     "name": "stderr",
     "output_type": "stream",
     "text": [
      "spawning module 0\n",
      "spawning module 2\n"
     ]
    },
    {
     "name": "stdout",
     "output_type": "stream",
     "text": [
      "==== setting up ezkl ====\n"
     ]
    },
    {
     "name": "stderr",
     "output_type": "stream",
     "text": [
      "spawning module 0\n",
      "spawning module 2\n"
     ]
    },
    {
     "name": "stdout",
     "output_type": "stream",
     "text": [
      "Time setup: 25.365365266799927 seconds\n",
      "=======================================\n",
      "Theory output:  tensor(50.8632)\n",
      "!@# compiled_model exists? True\n",
      "!@# compiled_model exists? True\n",
      "==== Generating Witness ====\n",
      "witness boolean:  1.0\n",
      "witness result 1 : 50.86328125\n",
      "==== Generating Proof ====\n"
     ]
    },
    {
     "name": "stderr",
     "output_type": "stream",
     "text": [
      "spawning module 0\n",
      "spawning module 2\n"
     ]
    },
    {
     "name": "stdout",
     "output_type": "stream",
     "text": [
      "proof:  {'instances': [[[11768814371718170976, 435173728250646979, 519717007263840094, 1741290966923863957], [12436184717236109307, 3962172157175319849, 7381016538464732718, 1011752739694698287], [9740814119635710701, 8723924064432029923, 17927155970413989335, 152971583043225146]]], 'proof': '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', 'transcript_type': 'EVM'}\n",
      "Time gen prf: 34.68142795562744 seconds\n"
     ]
    }
   ],
   "source": [
    "# Here verifier & prover can concurrently call setup since all params are public to get pk. \n",
    "# Here write as verifier function to emphasize that verifier must calculate its own vk to be sure\n",
    "verifier_setup(verifier_model_path, verifier_compiled_model_path, settings_path,vk_path, pk_path )\n",
    "\n",
    "print(\"=======================================\")\n",
    "# Prover generates proof\n",
    "print(\"Theory output: \", theory_output)\n",
    "prover_gen_proof(prover_model_path, comb_data_path, witness_path, prover_compiled_model_path, settings_path, proof_path, pk_path)"
   ]
  },
  {
   "attachments": {},
   "cell_type": "markdown",
   "metadata": {},
   "source": []
  },
  {
   "cell_type": "code",
   "execution_count": 18,
   "metadata": {},
   "outputs": [
    {
     "name": "stdout",
     "output_type": "stream",
     "text": [
      "num_inputs:  1\n",
      "prf instances:  [[[11768814371718170976, 435173728250646979, 519717007263840094, 1741290966923863957], [12436184717236109307, 3962172157175319849, 7381016538464732718, 1011752739694698287], [9740814119635710701, 8723924064432029923, 17927155970413989335, 152971583043225146]]]\n",
      "proof boolean:  1.0\n",
      "proof result 1 : 50.86328125\n",
      "verified\n"
     ]
    }
   ],
   "source": [
    "# Verifier verifies\n",
    "verifier_verify(proof_path, settings_path, vk_path)"
   ]
  },
  {
   "cell_type": "code",
   "execution_count": null,
   "metadata": {},
   "outputs": [],
   "source": []
  }
 ],
 "metadata": {
  "kernelspec": {
   "display_name": "Python 3",
   "language": "python",
   "name": "python3"
  },
  "language_info": {
   "codemirror_mode": {
    "name": "ipython",
    "version": 3
   },
   "file_extension": ".py",
   "mimetype": "text/x-python",
   "name": "python",
   "nbconvert_exporter": "python",
   "pygments_lexer": "ipython3",
   "version": "3.10.0"
  },
  "orig_nbformat": 4
 },
 "nbformat": 4,
 "nbformat_minor": 2
}
