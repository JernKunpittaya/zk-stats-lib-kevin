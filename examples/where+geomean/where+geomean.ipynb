{
 "cells": [
  {
   "cell_type": "code",
   "execution_count": 1,
   "metadata": {},
   "outputs": [
    {
     "name": "stdout",
     "output_type": "stream",
     "text": [
      "Requirement already satisfied: ezkl==7.0.0 in /Users/mhchia/Library/Caches/pypoetry/virtualenvs/zkstats-brXmXluj-py3.12/lib/python3.12/site-packages (from -r ../../requirements.txt (line 1)) (7.0.0)\n",
      "Requirement already satisfied: torch in /Users/mhchia/Library/Caches/pypoetry/virtualenvs/zkstats-brXmXluj-py3.12/lib/python3.12/site-packages (from -r ../../requirements.txt (line 2)) (2.2.0)\n",
      "Requirement already satisfied: requests in /Users/mhchia/Library/Caches/pypoetry/virtualenvs/zkstats-brXmXluj-py3.12/lib/python3.12/site-packages (from -r ../../requirements.txt (line 3)) (2.31.0)\n",
      "Requirement already satisfied: scipy in /Users/mhchia/Library/Caches/pypoetry/virtualenvs/zkstats-brXmXluj-py3.12/lib/python3.12/site-packages (from -r ../../requirements.txt (line 4)) (1.12.0)\n",
      "Requirement already satisfied: numpy in /Users/mhchia/Library/Caches/pypoetry/virtualenvs/zkstats-brXmXluj-py3.12/lib/python3.12/site-packages (from -r ../../requirements.txt (line 5)) (1.26.3)\n",
      "Requirement already satisfied: matplotlib in /Users/mhchia/Library/Caches/pypoetry/virtualenvs/zkstats-brXmXluj-py3.12/lib/python3.12/site-packages (from -r ../../requirements.txt (line 6)) (3.8.2)\n",
      "Requirement already satisfied: statistics in /Users/mhchia/Library/Caches/pypoetry/virtualenvs/zkstats-brXmXluj-py3.12/lib/python3.12/site-packages (from -r ../../requirements.txt (line 7)) (1.0.3.5)\n",
      "Requirement already satisfied: onnx in /Users/mhchia/Library/Caches/pypoetry/virtualenvs/zkstats-brXmXluj-py3.12/lib/python3.12/site-packages (from -r ../../requirements.txt (line 8)) (1.15.0)\n",
      "Requirement already satisfied: filelock in /Users/mhchia/Library/Caches/pypoetry/virtualenvs/zkstats-brXmXluj-py3.12/lib/python3.12/site-packages (from torch->-r ../../requirements.txt (line 2)) (3.13.1)\n",
      "Requirement already satisfied: typing-extensions>=4.8.0 in /Users/mhchia/Library/Caches/pypoetry/virtualenvs/zkstats-brXmXluj-py3.12/lib/python3.12/site-packages (from torch->-r ../../requirements.txt (line 2)) (4.9.0)\n",
      "Requirement already satisfied: sympy in /Users/mhchia/Library/Caches/pypoetry/virtualenvs/zkstats-brXmXluj-py3.12/lib/python3.12/site-packages (from torch->-r ../../requirements.txt (line 2)) (1.12)\n",
      "Requirement already satisfied: networkx in /Users/mhchia/Library/Caches/pypoetry/virtualenvs/zkstats-brXmXluj-py3.12/lib/python3.12/site-packages (from torch->-r ../../requirements.txt (line 2)) (3.2.1)\n",
      "Requirement already satisfied: jinja2 in /Users/mhchia/Library/Caches/pypoetry/virtualenvs/zkstats-brXmXluj-py3.12/lib/python3.12/site-packages (from torch->-r ../../requirements.txt (line 2)) (3.1.3)\n",
      "Requirement already satisfied: fsspec in /Users/mhchia/Library/Caches/pypoetry/virtualenvs/zkstats-brXmXluj-py3.12/lib/python3.12/site-packages (from torch->-r ../../requirements.txt (line 2)) (2023.12.2)\n",
      "Requirement already satisfied: charset-normalizer<4,>=2 in /Users/mhchia/Library/Caches/pypoetry/virtualenvs/zkstats-brXmXluj-py3.12/lib/python3.12/site-packages (from requests->-r ../../requirements.txt (line 3)) (3.3.2)\n",
      "Requirement already satisfied: idna<4,>=2.5 in /Users/mhchia/Library/Caches/pypoetry/virtualenvs/zkstats-brXmXluj-py3.12/lib/python3.12/site-packages (from requests->-r ../../requirements.txt (line 3)) (3.6)\n",
      "Requirement already satisfied: urllib3<3,>=1.21.1 in /Users/mhchia/Library/Caches/pypoetry/virtualenvs/zkstats-brXmXluj-py3.12/lib/python3.12/site-packages (from requests->-r ../../requirements.txt (line 3)) (2.2.0)\n",
      "Requirement already satisfied: certifi>=2017.4.17 in /Users/mhchia/Library/Caches/pypoetry/virtualenvs/zkstats-brXmXluj-py3.12/lib/python3.12/site-packages (from requests->-r ../../requirements.txt (line 3)) (2024.2.2)\n",
      "Requirement already satisfied: contourpy>=1.0.1 in /Users/mhchia/Library/Caches/pypoetry/virtualenvs/zkstats-brXmXluj-py3.12/lib/python3.12/site-packages (from matplotlib->-r ../../requirements.txt (line 6)) (1.2.0)\n",
      "Requirement already satisfied: cycler>=0.10 in /Users/mhchia/Library/Caches/pypoetry/virtualenvs/zkstats-brXmXluj-py3.12/lib/python3.12/site-packages (from matplotlib->-r ../../requirements.txt (line 6)) (0.12.1)\n",
      "Requirement already satisfied: fonttools>=4.22.0 in /Users/mhchia/Library/Caches/pypoetry/virtualenvs/zkstats-brXmXluj-py3.12/lib/python3.12/site-packages (from matplotlib->-r ../../requirements.txt (line 6)) (4.47.2)\n",
      "Requirement already satisfied: kiwisolver>=1.3.1 in /Users/mhchia/Library/Caches/pypoetry/virtualenvs/zkstats-brXmXluj-py3.12/lib/python3.12/site-packages (from matplotlib->-r ../../requirements.txt (line 6)) (1.4.5)\n",
      "Requirement already satisfied: packaging>=20.0 in /Users/mhchia/Library/Caches/pypoetry/virtualenvs/zkstats-brXmXluj-py3.12/lib/python3.12/site-packages (from matplotlib->-r ../../requirements.txt (line 6)) (23.2)\n",
      "Requirement already satisfied: pillow>=8 in /Users/mhchia/Library/Caches/pypoetry/virtualenvs/zkstats-brXmXluj-py3.12/lib/python3.12/site-packages (from matplotlib->-r ../../requirements.txt (line 6)) (10.2.0)\n",
      "Requirement already satisfied: pyparsing>=2.3.1 in /Users/mhchia/Library/Caches/pypoetry/virtualenvs/zkstats-brXmXluj-py3.12/lib/python3.12/site-packages (from matplotlib->-r ../../requirements.txt (line 6)) (3.1.1)\n",
      "Requirement already satisfied: python-dateutil>=2.7 in /Users/mhchia/Library/Caches/pypoetry/virtualenvs/zkstats-brXmXluj-py3.12/lib/python3.12/site-packages (from matplotlib->-r ../../requirements.txt (line 6)) (2.8.2)\n",
      "Requirement already satisfied: docutils>=0.3 in /Users/mhchia/Library/Caches/pypoetry/virtualenvs/zkstats-brXmXluj-py3.12/lib/python3.12/site-packages (from statistics->-r ../../requirements.txt (line 7)) (0.20.1)\n",
      "Requirement already satisfied: protobuf>=3.20.2 in /Users/mhchia/Library/Caches/pypoetry/virtualenvs/zkstats-brXmXluj-py3.12/lib/python3.12/site-packages (from onnx->-r ../../requirements.txt (line 8)) (4.25.2)\n",
      "Requirement already satisfied: six>=1.5 in /Users/mhchia/Library/Caches/pypoetry/virtualenvs/zkstats-brXmXluj-py3.12/lib/python3.12/site-packages (from python-dateutil>=2.7->matplotlib->-r ../../requirements.txt (line 6)) (1.16.0)\n",
      "Requirement already satisfied: MarkupSafe>=2.0 in /Users/mhchia/Library/Caches/pypoetry/virtualenvs/zkstats-brXmXluj-py3.12/lib/python3.12/site-packages (from jinja2->torch->-r ../../requirements.txt (line 2)) (2.1.4)\n",
      "Requirement already satisfied: mpmath>=0.19 in /Users/mhchia/Library/Caches/pypoetry/virtualenvs/zkstats-brXmXluj-py3.12/lib/python3.12/site-packages (from sympy->torch->-r ../../requirements.txt (line 2)) (1.3.0)\n",
      "\n",
      "\u001b[1m[\u001b[0m\u001b[34;49mnotice\u001b[0m\u001b[1;39;49m]\u001b[0m\u001b[39;49m A new release of pip is available: \u001b[0m\u001b[31;49m23.3.1\u001b[0m\u001b[39;49m -> \u001b[0m\u001b[32;49m24.0\u001b[0m\n",
      "\u001b[1m[\u001b[0m\u001b[34;49mnotice\u001b[0m\u001b[1;39;49m]\u001b[0m\u001b[39;49m To update, run: \u001b[0m\u001b[32;49mpip install --upgrade pip\u001b[0m\n",
      "Note: you may need to restart the kernel to use updated packages.\n"
     ]
    }
   ],
   "source": [
    "pip install -r ../../requirements.txt"
   ]
  },
  {
   "cell_type": "code",
   "execution_count": 2,
   "metadata": {},
   "outputs": [],
   "source": [
    "import ezkl\n",
    "import torch\n",
    "from torch import nn\n",
    "import json\n",
    "import os\n",
    "import time\n",
    "import scipy\n",
    "import numpy as np\n",
    "import matplotlib.pyplot as plt\n",
    "import statistics\n",
    "import math"
   ]
  },
  {
   "cell_type": "code",
   "execution_count": 3,
   "metadata": {},
   "outputs": [],
   "source": [
    "%run -i ../../zkstats/core.py"
   ]
  },
  {
   "attachments": {},
   "cell_type": "markdown",
   "metadata": {},
   "source": []
  },
  {
   "cell_type": "code",
   "execution_count": 4,
   "metadata": {},
   "outputs": [],
   "source": [
    "# init path\n",
    "os.makedirs(os.path.dirname('shared/'), exist_ok=True)\n",
    "os.makedirs(os.path.dirname('prover/'), exist_ok=True)\n",
    "verifier_model_path = os.path.join('shared/verifier.onnx')\n",
    "prover_model_path = os.path.join('prover/prover.onnx')\n",
    "verifier_compiled_model_path = os.path.join('shared/verifier.compiled')\n",
    "prover_compiled_model_path = os.path.join('prover/prover.compiled')\n",
    "pk_path = os.path.join('shared/test.pk')\n",
    "vk_path = os.path.join('shared/test.vk')\n",
    "proof_path = os.path.join('shared/test.pf')\n",
    "settings_path = os.path.join('shared/settings.json')\n",
    "srs_path = os.path.join('shared/kzg.srs')\n",
    "witness_path = os.path.join('prover/witness.json')\n",
    "# this is private to prover since it contains actual data\n",
    "sel_data_path = os.path.join('prover/sel_data.json')\n",
    "# this is just dummy random value\n",
    "sel_dummy_data_path = os.path.join('shared/sel_dummy_data.json')"
   ]
  },
  {
   "attachments": {},
   "cell_type": "markdown",
   "metadata": {},
   "source": [
    "=======================  ZK-STATS FLOW ======================="
   ]
  },
  {
   "cell_type": "code",
   "execution_count": 5,
   "metadata": {},
   "outputs": [],
   "source": [
    "data_path = os.path.join('data.json')\n",
    "dummy_data_path = os.path.join('shared/dummy_data.json')\n",
    "\n",
    "create_dummy(data_path, dummy_data_path)"
   ]
  },
  {
   "cell_type": "code",
   "execution_count": 6,
   "metadata": {},
   "outputs": [],
   "source": [
    "scales = [8]\n",
    "selected_columns = ['col_name']\n",
    "commitment_maps = get_data_commitment_maps(data_path, scales)"
   ]
  },
  {
   "cell_type": "code",
   "execution_count": 7,
   "metadata": {},
   "outputs": [
    {
     "name": "stderr",
     "output_type": "stream",
     "text": [
      "/Users/mhchia/projects/work/pse/zk-stats-lib/zkstats/computation.py:166: TracerWarning: torch.tensor results are registered as constants in the trace. You can safely ignore this warning if you use this function to create tensors out of constant variables that would be the same every time you call this function. In any other case, this might cause the trace to be incorrect.\n",
      "  is_precise_aggregated = torch.tensor(1.0)\n",
      "/Users/mhchia/projects/work/pse/zk-stats-lib/zkstats/ops.py:102: TracerWarning: torch.tensor results are registered as constants in the trace. You can safely ignore this warning if you use this function to create tensors out of constant variables that would be the same every time you call this function. In any other case, this might cause the trace to be incorrect.\n",
      "  return torch.abs((torch.log(self.result)*size)-torch.sum(torch.log(x)))<=size*torch.log(torch.tensor(1+self.error))\n",
      "/Users/mhchia/Library/Caches/pypoetry/virtualenvs/zkstats-brXmXluj-py3.12/lib/python3.12/site-packages/torch/onnx/symbolic_opset9.py:2174: FutureWarning: 'torch.onnx.symbolic_opset9._cast_Bool' is deprecated in version 2.0 and will be removed in the future. Please Avoid using this function and create a Cast node instead.\n",
      "  return fn(g, to_cast_func(g, input, False), to_cast_func(g, other, False))\n",
      "/Users/mhchia/Library/Caches/pypoetry/virtualenvs/zkstats-brXmXluj-py3.12/lib/python3.12/site-packages/torch/onnx/utils.py:1703: UserWarning: The exported ONNX model failed ONNX shape inference. The model will not be executable by the ONNX Runtime. If this is unintended and you believe there is a bug, please report an issue at https://github.com/pytorch/pytorch/issues. Error reported by strict ONNX shape inference: [ShapeInferenceError] (op_type:Where, node name: /Where): Y has inconsistent type tensor(double) (Triggered internally at /Users/runner/work/pytorch/pytorch/pytorch/torch/csrc/jit/serialization/export.cpp:1490.)\n",
      "  _C._check_onnx_proto(proto)\n"
     ]
    }
   ],
   "source": [
    "# Verifier/ data consumer side: send desired calculation\n",
    "from zkstats.computation import computation_to_model, State\n",
    "\n",
    "\n",
    "def computation(s: State, data: list[torch.Tensor]) -> torch.Tensor:\n",
    "    x = data[0]\n",
    "    # FIXME: should be replaced by `s.where` when it's available. Now the result may be incorrect\n",
    "    filter = (x > 20)\n",
    "    filtered_x = torch.where(filter, x, 1.0)\n",
    "    return s.geometric_mean(filtered_x)\n",
    "\n",
    "error = 0.01\n",
    "_, verifier_model = computation_to_model(computation, error)\n",
    "\n",
    "verifier_define_calculation(dummy_data_path, selected_columns, sel_dummy_data_path,verifier_model, verifier_model_path)"
   ]
  },
  {
   "cell_type": "code",
   "execution_count": 8,
   "metadata": {},
   "outputs": [
    {
     "name": "stdout",
     "output_type": "stream",
     "text": [
      "==== Generate & Calibrate Setting ====\n",
      "scale:  [8]\n",
      "setting:  {\"run_args\":{\"tolerance\":{\"val\":0.0,\"scale\":1.0},\"input_scale\":8,\"param_scale\":8,\"scale_rebase_multiplier\":10,\"lookup_range\":[-2560,45056],\"logrows\":16,\"num_inner_cols\":2,\"variables\":[[\"batch_size\",1]],\"input_visibility\":{\"Hashed\":{\"hash_is_public\":true,\"outlets\":[]}},\"output_visibility\":\"Public\",\"param_visibility\":\"Private\"},\"num_rows\":14432,\"total_assignments\":3310,\"total_const_size\":305,\"model_instance_shapes\":[[1],[1]],\"model_output_scales\":[0,8],\"model_input_scales\":[8],\"module_sizes\":{\"kzg\":[],\"poseidon\":[14432,[1]],\"elgamal\":[0,[0]]},\"required_lookups\":[\"Abs\",{\"Ln\":{\"scale\":256.0}},{\"GreaterThan\":{\"a\":0.0}}],\"check_mode\":\"UNSAFE\",\"version\":\"7.0.0\",\"num_blinding_factors\":null}\n"
     ]
    }
   ],
   "source": [
    "# Prover/ data owner side\n",
    "_, prover_model = computation_to_model(computation, error)\n",
    "\n",
    "prover_gen_settings(data_path, selected_columns, sel_data_path, prover_model, prover_model_path, scales, \"resources\", settings_path)"
   ]
  },
  {
   "cell_type": "code",
   "execution_count": 9,
   "metadata": {},
   "outputs": [
    {
     "name": "stderr",
     "output_type": "stream",
     "text": [
      "spawning module 0\n"
     ]
    },
    {
     "name": "stdout",
     "output_type": "stream",
     "text": [
      "==== setting up ezkl ====\n"
     ]
    },
    {
     "name": "stderr",
     "output_type": "stream",
     "text": [
      "spawning module 2\n",
      "spawning module 0\n",
      "spawning module 2\n"
     ]
    },
    {
     "name": "stdout",
     "output_type": "stream",
     "text": [
      "Time setup: 13.265241861343384 seconds\n",
      "=======================================\n",
      "Theory output:  tensor(48.1276, dtype=torch.float64)\n",
      "==== Generating Witness ====\n",
      "witness boolean:  1.0\n",
      "witness result 1 : 45.703125\n",
      "==== Generating Proof ====\n"
     ]
    },
    {
     "name": "stderr",
     "output_type": "stream",
     "text": [
      "spawning module 0\n",
      "spawning module 2\n"
     ]
    },
    {
     "name": "stdout",
     "output_type": "stream",
     "text": [
      "proof:  {'instances': [[[11768814371718170976, 435173728250646979, 519717007263840094, 1741290966923863957], [12436184717236109307, 3962172157175319849, 7381016538464732718, 1011752739694698287], [14342780245625474618, 733556062893518525, 16161524522791859482, 2634936898687523127]]], 'proof': '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', 'transcript_type': 'EVM'}\n",
      "Time gen prf: 19.63252091407776 seconds\n"
     ]
    }
   ],
   "source": [
    "# Here verifier & prover can concurrently call setup since all params are public to get pk.\n",
    "# Here write as verifier function to emphasize that verifier must calculate its own vk to be sure\n",
    "setup(verifier_model_path, verifier_compiled_model_path, settings_path,vk_path, pk_path )\n",
    "\n",
    "print(\"=======================================\")\n",
    "# Prover generates proof\n",
    "print(\"Theory output: \", theory_output)\n",
    "prover_gen_proof(prover_model_path, sel_data_path, witness_path, prover_compiled_model_path, settings_path, proof_path, pk_path)"
   ]
  },
  {
   "attachments": {},
   "cell_type": "markdown",
   "metadata": {},
   "source": []
  },
  {
   "cell_type": "code",
   "execution_count": 10,
   "metadata": {},
   "outputs": [
    {
     "name": "stdout",
     "output_type": "stream",
     "text": [
      "Verifier gets result: 45.703125\n"
     ]
    }
   ],
   "source": [
    "# Verifier verifies\n",
    "res = verifier_verify(proof_path, settings_path, vk_path, selected_columns, commitment_maps)\n",
    "print(\"Verifier gets result:\", res)"
   ]
  }
 ],
 "metadata": {
  "kernelspec": {
   "display_name": "Python 3",
   "language": "python",
   "name": "python3"
  },
  "language_info": {
   "codemirror_mode": {
    "name": "ipython",
    "version": 3
   },
   "file_extension": ".py",
   "mimetype": "text/x-python",
   "name": "python",
   "nbconvert_exporter": "python",
   "pygments_lexer": "ipython3",
   "version": "3.12.1"
  },
  "orig_nbformat": 4
 },
 "nbformat": 4,
 "nbformat_minor": 2
}
