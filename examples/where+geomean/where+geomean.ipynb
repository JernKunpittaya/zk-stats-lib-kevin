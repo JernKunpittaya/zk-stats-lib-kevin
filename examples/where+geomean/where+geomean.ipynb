{
 "cells": [
  {
   "cell_type": "code",
   "execution_count": 19,
   "metadata": {},
   "outputs": [
    {
     "name": "stdout",
     "output_type": "stream",
     "text": [
      "Requirement already satisfied: ezkl==7.0.0 in /Library/Frameworks/Python.framework/Versions/3.10/lib/python3.10/site-packages (from -r ../../requirements.txt (line 1)) (7.0.0)\n",
      "Requirement already satisfied: torch in /Library/Frameworks/Python.framework/Versions/3.10/lib/python3.10/site-packages (from -r ../../requirements.txt (line 2)) (2.1.1)\n",
      "Requirement already satisfied: requests in /Library/Frameworks/Python.framework/Versions/3.10/lib/python3.10/site-packages (from -r ../../requirements.txt (line 3)) (2.31.0)\n",
      "Requirement already satisfied: scipy in /Library/Frameworks/Python.framework/Versions/3.10/lib/python3.10/site-packages (from -r ../../requirements.txt (line 4)) (1.11.4)\n",
      "Requirement already satisfied: numpy in /Library/Frameworks/Python.framework/Versions/3.10/lib/python3.10/site-packages (from -r ../../requirements.txt (line 5)) (1.26.2)\n",
      "Requirement already satisfied: matplotlib in /Library/Frameworks/Python.framework/Versions/3.10/lib/python3.10/site-packages (from -r ../../requirements.txt (line 6)) (3.8.2)\n",
      "Requirement already satisfied: statistics in /Library/Frameworks/Python.framework/Versions/3.10/lib/python3.10/site-packages (from -r ../../requirements.txt (line 7)) (1.0.3.5)\n",
      "Requirement already satisfied: onnx in /Library/Frameworks/Python.framework/Versions/3.10/lib/python3.10/site-packages (from -r ../../requirements.txt (line 8)) (1.15.0)\n",
      "Requirement already satisfied: fsspec in /Library/Frameworks/Python.framework/Versions/3.10/lib/python3.10/site-packages (from torch->-r ../../requirements.txt (line 2)) (2023.10.0)\n",
      "Requirement already satisfied: filelock in /Library/Frameworks/Python.framework/Versions/3.10/lib/python3.10/site-packages (from torch->-r ../../requirements.txt (line 2)) (3.13.1)\n",
      "Requirement already satisfied: sympy in /Library/Frameworks/Python.framework/Versions/3.10/lib/python3.10/site-packages (from torch->-r ../../requirements.txt (line 2)) (1.12)\n",
      "Requirement already satisfied: networkx in /Library/Frameworks/Python.framework/Versions/3.10/lib/python3.10/site-packages (from torch->-r ../../requirements.txt (line 2)) (3.2.1)\n",
      "Requirement already satisfied: jinja2 in /Library/Frameworks/Python.framework/Versions/3.10/lib/python3.10/site-packages (from torch->-r ../../requirements.txt (line 2)) (3.1.2)\n",
      "Requirement already satisfied: typing-extensions in /Library/Frameworks/Python.framework/Versions/3.10/lib/python3.10/site-packages (from torch->-r ../../requirements.txt (line 2)) (4.8.0)\n",
      "Requirement already satisfied: idna<4,>=2.5 in /Library/Frameworks/Python.framework/Versions/3.10/lib/python3.10/site-packages (from requests->-r ../../requirements.txt (line 3)) (3.6)\n",
      "Requirement already satisfied: urllib3<3,>=1.21.1 in /Library/Frameworks/Python.framework/Versions/3.10/lib/python3.10/site-packages (from requests->-r ../../requirements.txt (line 3)) (2.1.0)\n",
      "Requirement already satisfied: charset-normalizer<4,>=2 in /Library/Frameworks/Python.framework/Versions/3.10/lib/python3.10/site-packages (from requests->-r ../../requirements.txt (line 3)) (3.3.2)\n",
      "Requirement already satisfied: certifi>=2017.4.17 in /Library/Frameworks/Python.framework/Versions/3.10/lib/python3.10/site-packages (from requests->-r ../../requirements.txt (line 3)) (2023.11.17)\n",
      "Requirement already satisfied: fonttools>=4.22.0 in /Library/Frameworks/Python.framework/Versions/3.10/lib/python3.10/site-packages (from matplotlib->-r ../../requirements.txt (line 6)) (4.45.1)\n",
      "Requirement already satisfied: pyparsing>=2.3.1 in /Library/Frameworks/Python.framework/Versions/3.10/lib/python3.10/site-packages (from matplotlib->-r ../../requirements.txt (line 6)) (3.1.1)\n",
      "Requirement already satisfied: contourpy>=1.0.1 in /Library/Frameworks/Python.framework/Versions/3.10/lib/python3.10/site-packages (from matplotlib->-r ../../requirements.txt (line 6)) (1.2.0)\n",
      "Requirement already satisfied: cycler>=0.10 in /Library/Frameworks/Python.framework/Versions/3.10/lib/python3.10/site-packages (from matplotlib->-r ../../requirements.txt (line 6)) (0.12.1)\n",
      "Requirement already satisfied: pillow>=8 in /Library/Frameworks/Python.framework/Versions/3.10/lib/python3.10/site-packages (from matplotlib->-r ../../requirements.txt (line 6)) (10.1.0)\n",
      "Requirement already satisfied: python-dateutil>=2.7 in /Users/jernkun/Library/Python/3.10/lib/python/site-packages (from matplotlib->-r ../../requirements.txt (line 6)) (2.8.2)\n",
      "Requirement already satisfied: packaging>=20.0 in /Users/jernkun/Library/Python/3.10/lib/python/site-packages (from matplotlib->-r ../../requirements.txt (line 6)) (23.2)\n",
      "Requirement already satisfied: kiwisolver>=1.3.1 in /Library/Frameworks/Python.framework/Versions/3.10/lib/python3.10/site-packages (from matplotlib->-r ../../requirements.txt (line 6)) (1.4.5)\n",
      "Requirement already satisfied: docutils>=0.3 in /Library/Frameworks/Python.framework/Versions/3.10/lib/python3.10/site-packages (from statistics->-r ../../requirements.txt (line 7)) (0.20.1)\n",
      "Requirement already satisfied: protobuf>=3.20.2 in /Library/Frameworks/Python.framework/Versions/3.10/lib/python3.10/site-packages (from onnx->-r ../../requirements.txt (line 8)) (4.25.1)\n",
      "Requirement already satisfied: six>=1.5 in /Users/jernkun/Library/Python/3.10/lib/python/site-packages (from python-dateutil>=2.7->matplotlib->-r ../../requirements.txt (line 6)) (1.16.0)\n",
      "Requirement already satisfied: MarkupSafe>=2.0 in /Library/Frameworks/Python.framework/Versions/3.10/lib/python3.10/site-packages (from jinja2->torch->-r ../../requirements.txt (line 2)) (2.1.3)\n",
      "Requirement already satisfied: mpmath>=0.19 in /Library/Frameworks/Python.framework/Versions/3.10/lib/python3.10/site-packages (from sympy->torch->-r ../../requirements.txt (line 2)) (1.3.0)\n",
      "\u001b[33mWARNING: You are using pip version 21.2.3; however, version 23.3.2 is available.\n",
      "You should consider upgrading via the '/usr/local/bin/python3 -m pip install --upgrade pip' command.\u001b[0m\n",
      "Note: you may need to restart the kernel to use updated packages.\n"
     ]
    }
   ],
   "source": [
    "pip install -r ../../requirements.txt"
   ]
  },
  {
   "cell_type": "code",
   "execution_count": 20,
   "metadata": {},
   "outputs": [],
   "source": [
    "import ezkl\n",
    "import torch\n",
    "from torch import nn\n",
    "import json\n",
    "import os\n",
    "import time\n",
    "import scipy\n",
    "import numpy as np\n",
    "import matplotlib.pyplot as plt\n",
    "import statistics\n",
    "import math"
   ]
  },
  {
   "cell_type": "code",
   "execution_count": 21,
   "metadata": {},
   "outputs": [],
   "source": [
    "%run -i ../../zkstats/core.py"
   ]
  },
  {
   "attachments": {},
   "cell_type": "markdown",
   "metadata": {},
   "source": []
  },
  {
   "cell_type": "code",
   "execution_count": 22,
   "metadata": {},
   "outputs": [],
   "source": [
    "# init path\n",
    "os.makedirs(os.path.dirname('shared/'), exist_ok=True)\n",
    "os.makedirs(os.path.dirname('prover/'), exist_ok=True)\n",
    "verifier_model_path = os.path.join('shared/verifier.onnx')\n",
    "prover_model_path = os.path.join('prover/prover.onnx')\n",
    "verifier_compiled_model_path = os.path.join('shared/verifier.compiled')\n",
    "prover_compiled_model_path = os.path.join('prover/prover.compiled')\n",
    "pk_path = os.path.join('shared/test.pk')\n",
    "vk_path = os.path.join('shared/test.vk')\n",
    "proof_path = os.path.join('shared/test.pf')\n",
    "settings_path = os.path.join('shared/settings.json')\n",
    "srs_path = os.path.join('shared/kzg.srs')\n",
    "witness_path = os.path.join('prover/witness.json')\n",
    "# this is private to prover since it contains actual data\n",
    "comb_data_path = os.path.join('prover/comb_data.json')"
   ]
  },
  {
   "attachments": {},
   "cell_type": "markdown",
   "metadata": {},
   "source": [
    "=======================  ZK-STATS FLOW ======================="
   ]
  },
  {
   "cell_type": "code",
   "execution_count": 23,
   "metadata": {},
   "outputs": [],
   "source": [
    "data_path = os.path.join('data.json')\n",
    "dummy_data_path = os.path.join('shared/dummy_data.json')\n",
    "\n",
    "f_raw_input = open(data_path, \"r\")\n",
    "data = json.loads(f_raw_input.read())[\"input_data\"][0]\n",
    "data_tensor = torch.reshape(torch.tensor(data),(1, len(data), 1))\n",
    "\n",
    "#  dummy data for data consumer: arbitraryyy, just to make sure after filtered, it's not empty\n",
    "dummy_data = np.random.uniform(1, 100, len(data))\n",
    "json.dump({\"input_data\":[dummy_data.tolist()]}, open(dummy_data_path, 'w'))\n",
    "\n",
    "# where(element > 30)\n",
    "dummy_data_tensor = torch.reshape(torch.tensor(dummy_data), (1, len(dummy_data),1 ))\n",
    "gt30_dummy_data_tensor = dummy_data_tensor[dummy_data_tensor > 30].reshape(1,-1,1)\n",
    "dummy_theory_output = torch.exp(torch.mean(torch.log(gt30_dummy_data_tensor)))\n",
    "\n"
   ]
  },
  {
   "cell_type": "code",
   "execution_count": 24,
   "metadata": {},
   "outputs": [
    {
     "name": "stderr",
     "output_type": "stream",
     "text": [
      "/var/folders/89/y9dw12v976ngdmqz4l7wbsnr0000gn/T/ipykernel_88041/2680539101.py:12: TracerWarning: torch.tensor results are registered as constants in the trace. You can safely ignore this warning if you use this function to create tensors out of constant variables that would be the same every time you call this function. In any other case, this might cause the trace to be incorrect.\n",
      "  return (torch.abs((torch.log(self.w)*num_fil_X)-torch.sum(torch.log(fil_X)))<=num_fil_X*torch.log(torch.tensor(1.01)), self.w)\n"
     ]
    }
   ],
   "source": [
    "# Verifier/ data consumer side: send desired calculation\n",
    "class verifier_model(nn.Module):\n",
    "    def __init__(self):\n",
    "        super(verifier_model, self).__init__()\n",
    "        # w represents mean in this case\n",
    "        self.w = nn.Parameter(data = dummy_theory_output, requires_grad = False)\n",
    "\n",
    "    def forward(self,X):\n",
    "        # where part\n",
    "        num_fil_X = torch.sum((X>30).double())\n",
    "        fil_X = torch.where(X>30, X, 1.0)\n",
    "        return (torch.abs((torch.log(self.w)*num_fil_X)-torch.sum(torch.log(fil_X)))<=num_fil_X*torch.log(torch.tensor(1.01)), self.w)\n",
    "    \n",
    "verifier_define_calculation(verifier_model, verifier_model_path, [dummy_data_path])"
   ]
  },
  {
   "cell_type": "code",
   "execution_count": 25,
   "metadata": {},
   "outputs": [
    {
     "name": "stderr",
     "output_type": "stream",
     "text": [
      "/var/folders/89/y9dw12v976ngdmqz4l7wbsnr0000gn/T/ipykernel_88041/2135116582.py:17: TracerWarning: torch.tensor results are registered as constants in the trace. You can safely ignore this warning if you use this function to create tensors out of constant variables that would be the same every time you call this function. In any other case, this might cause the trace to be incorrect.\n",
      "  return (torch.abs((torch.log(self.w)*num_fil_X)-torch.sum(torch.log(fil_X)))<=num_fil_X*torch.log(torch.tensor(1.01)), self.w)\n"
     ]
    },
    {
     "name": "stdout",
     "output_type": "stream",
     "text": [
      "new tensor:  torch.Size([1, 272, 1])\n",
      "Theory_output:  tensor(50.8632)\n",
      "==== Generate & Calibrate Setting ====\n",
      "scale:  [8]\n",
      "setting:  {\"run_args\":{\"tolerance\":{\"val\":0.0,\"scale\":1.0},\"input_scale\":8,\"param_scale\":8,\"scale_rebase_multiplier\":10,\"lookup_range\":[-196540,45056],\"logrows\":18,\"num_inner_cols\":2,\"variables\":[[\"batch_size\",1]],\"input_visibility\":{\"Hashed\":{\"hash_is_public\":true,\"outlets\":[]}},\"output_visibility\":\"Public\",\"param_visibility\":\"Private\"},\"num_rows\":14432,\"total_assignments\":3615,\"total_const_size\":306,\"model_instance_shapes\":[[1],[1]],\"model_output_scales\":[0,8],\"model_input_scales\":[8],\"module_sizes\":{\"kzg\":[],\"poseidon\":[14432,[1]],\"elgamal\":[0,[0]]},\"required_lookups\":[\"Abs\",{\"Div\":{\"denom\":100.49927}},{\"Ln\":{\"scale\":256.0}},{\"GreaterThan\":{\"a\":0.0}}],\"check_mode\":\"UNSAFE\",\"version\":\"7.0.0\",\"num_blinding_factors\":null}\n"
     ]
    }
   ],
   "source": [
    "# prover calculates settings, send to verifier\n",
    "gt30_data_tensor = data_tensor[data_tensor > 30].reshape(1,-1,1)\n",
    "print(\"new tensor: \", gt30_data_tensor.size())\n",
    "theory_output = torch.exp(torch.mean(torch.log(gt30_data_tensor)))\n",
    "print(\"Theory_output: \", theory_output)\n",
    "class prover_model(nn.Module):\n",
    "    def __init__(self):\n",
    "        super(prover_model, self).__init__()\n",
    "        # w represents mean in this case\n",
    "        self.w = nn.Parameter(data = theory_output, requires_grad = False)\n",
    "        \n",
    "    def forward(self,X):\n",
    "        # where part\n",
    "        num_fil_X = torch.sum((X>30).double())\n",
    "        fil_X = torch.where(X>30, X, 1.0)\n",
    "\n",
    "        return (torch.abs((torch.log(self.w)*num_fil_X)-torch.sum(torch.log(fil_X)))<=num_fil_X*torch.log(torch.tensor(1.01)), self.w)\n",
    "\n",
    "    \n",
    "\n",
    "prover_gen_settings([data_path], comb_data_path, prover_model,prover_model_path,[8], \"resources\", settings_path)"
   ]
  },
  {
   "cell_type": "code",
   "execution_count": 26,
   "metadata": {},
   "outputs": [
    {
     "name": "stdout",
     "output_type": "stream",
     "text": [
      "==== setting up ezkl ====\n"
     ]
    },
    {
     "name": "stderr",
     "output_type": "stream",
     "text": [
      "spawning module 0\n",
      "spawning module 2\n",
      "spawning module 0\n",
      "spawning module 2\n"
     ]
    },
    {
     "name": "stdout",
     "output_type": "stream",
     "text": [
      "Time setup: 32.721121072769165 seconds\n",
      "=======================================\n",
      "Theory output:  tensor(50.8632)\n",
      "!@# compiled_model exists? True\n",
      "!@# compiled_model exists? True\n",
      "==== Generating Witness ====\n",
      "witness boolean:  1.0\n",
      "witness result 1 : 50.86328125\n",
      "==== Generating Proof ====\n"
     ]
    },
    {
     "name": "stderr",
     "output_type": "stream",
     "text": [
      "spawning module 0\n",
      "spawning module 2\n"
     ]
    },
    {
     "name": "stdout",
     "output_type": "stream",
     "text": [
      "proof:  {'instances': [[[11768814371718170976, 435173728250646979, 519717007263840094, 1741290966923863957], [12436184717236109307, 3962172157175319849, 7381016538464732718, 1011752739694698287], [9740814119635710701, 8723924064432029923, 17927155970413989335, 152971583043225146]]], 'proof': '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', 'transcript_type': 'EVM'}\n",
      "Time gen prf: 45.01396584510803 seconds\n"
     ]
    }
   ],
   "source": [
    "# Here verifier & prover can concurrently call setup since all params are public to get pk. \n",
    "# Here write as verifier function to emphasize that verifier must calculate its own vk to be sure\n",
    "verifier_setup(verifier_model_path, verifier_compiled_model_path, settings_path,vk_path, pk_path )\n",
    "\n",
    "print(\"=======================================\")\n",
    "# Prover generates proof\n",
    "print(\"Theory output: \", theory_output)\n",
    "prover_gen_proof(prover_model_path, comb_data_path, witness_path, prover_compiled_model_path, settings_path, proof_path, pk_path)"
   ]
  },
  {
   "attachments": {},
   "cell_type": "markdown",
   "metadata": {},
   "source": []
  },
  {
   "cell_type": "code",
   "execution_count": 27,
   "metadata": {},
   "outputs": [
    {
     "name": "stdout",
     "output_type": "stream",
     "text": [
      "num_inputs:  1\n",
      "prf instances:  [[[11768814371718170976, 435173728250646979, 519717007263840094, 1741290966923863957], [12436184717236109307, 3962172157175319849, 7381016538464732718, 1011752739694698287], [9740814119635710701, 8723924064432029923, 17927155970413989335, 152971583043225146]]]\n",
      "proof boolean:  1.0\n",
      "proof result 1 : 50.86328125\n",
      "verified\n"
     ]
    }
   ],
   "source": [
    "# Verifier verifies\n",
    "verifier_verify(proof_path, settings_path, vk_path)"
   ]
  },
  {
   "cell_type": "code",
   "execution_count": null,
   "metadata": {},
   "outputs": [],
   "source": []
  }
 ],
 "metadata": {
  "kernelspec": {
   "display_name": "Python 3",
   "language": "python",
   "name": "python3"
  },
  "language_info": {
   "codemirror_mode": {
    "name": "ipython",
    "version": 3
   },
   "file_extension": ".py",
   "mimetype": "text/x-python",
   "name": "python",
   "nbconvert_exporter": "python",
   "pygments_lexer": "ipython3",
   "version": "3.10.0"
  },
  "orig_nbformat": 4
 },
 "nbformat": 4,
 "nbformat_minor": 2
}
