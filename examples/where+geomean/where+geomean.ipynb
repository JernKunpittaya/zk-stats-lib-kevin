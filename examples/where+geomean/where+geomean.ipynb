{
 "cells": [
  {
   "cell_type": "code",
   "execution_count": 13,
   "metadata": {},
   "outputs": [
    {
     "name": "stdout",
     "output_type": "stream",
     "text": [
      "Requirement already satisfied: ezkl==7.0.0 in /Library/Frameworks/Python.framework/Versions/3.10/lib/python3.10/site-packages (from -r ../../requirements.txt (line 1)) (7.0.0)\n",
      "Requirement already satisfied: torch in /Library/Frameworks/Python.framework/Versions/3.10/lib/python3.10/site-packages (from -r ../../requirements.txt (line 2)) (2.1.1)\n",
      "Requirement already satisfied: requests in /Library/Frameworks/Python.framework/Versions/3.10/lib/python3.10/site-packages (from -r ../../requirements.txt (line 3)) (2.31.0)\n",
      "Requirement already satisfied: scipy in /Library/Frameworks/Python.framework/Versions/3.10/lib/python3.10/site-packages (from -r ../../requirements.txt (line 4)) (1.11.4)\n",
      "Requirement already satisfied: numpy in /Library/Frameworks/Python.framework/Versions/3.10/lib/python3.10/site-packages (from -r ../../requirements.txt (line 5)) (1.26.2)\n",
      "Requirement already satisfied: matplotlib in /Library/Frameworks/Python.framework/Versions/3.10/lib/python3.10/site-packages (from -r ../../requirements.txt (line 6)) (3.8.2)\n",
      "Requirement already satisfied: statistics in /Library/Frameworks/Python.framework/Versions/3.10/lib/python3.10/site-packages (from -r ../../requirements.txt (line 7)) (1.0.3.5)\n",
      "Requirement already satisfied: onnx in /Library/Frameworks/Python.framework/Versions/3.10/lib/python3.10/site-packages (from -r ../../requirements.txt (line 8)) (1.15.0)\n",
      "Requirement already satisfied: filelock in /Library/Frameworks/Python.framework/Versions/3.10/lib/python3.10/site-packages (from torch->-r ../../requirements.txt (line 2)) (3.13.1)\n",
      "Requirement already satisfied: sympy in /Library/Frameworks/Python.framework/Versions/3.10/lib/python3.10/site-packages (from torch->-r ../../requirements.txt (line 2)) (1.12)\n",
      "Requirement already satisfied: typing-extensions in /Library/Frameworks/Python.framework/Versions/3.10/lib/python3.10/site-packages (from torch->-r ../../requirements.txt (line 2)) (4.8.0)\n",
      "Requirement already satisfied: networkx in /Library/Frameworks/Python.framework/Versions/3.10/lib/python3.10/site-packages (from torch->-r ../../requirements.txt (line 2)) (3.2.1)\n",
      "Requirement already satisfied: jinja2 in /Library/Frameworks/Python.framework/Versions/3.10/lib/python3.10/site-packages (from torch->-r ../../requirements.txt (line 2)) (3.1.2)\n",
      "Requirement already satisfied: fsspec in /Library/Frameworks/Python.framework/Versions/3.10/lib/python3.10/site-packages (from torch->-r ../../requirements.txt (line 2)) (2023.10.0)\n",
      "Requirement already satisfied: certifi>=2017.4.17 in /Library/Frameworks/Python.framework/Versions/3.10/lib/python3.10/site-packages (from requests->-r ../../requirements.txt (line 3)) (2023.11.17)\n",
      "Requirement already satisfied: charset-normalizer<4,>=2 in /Library/Frameworks/Python.framework/Versions/3.10/lib/python3.10/site-packages (from requests->-r ../../requirements.txt (line 3)) (3.3.2)\n",
      "Requirement already satisfied: urllib3<3,>=1.21.1 in /Library/Frameworks/Python.framework/Versions/3.10/lib/python3.10/site-packages (from requests->-r ../../requirements.txt (line 3)) (2.1.0)\n",
      "Requirement already satisfied: idna<4,>=2.5 in /Library/Frameworks/Python.framework/Versions/3.10/lib/python3.10/site-packages (from requests->-r ../../requirements.txt (line 3)) (3.6)\n",
      "Requirement already satisfied: pillow>=8 in /Library/Frameworks/Python.framework/Versions/3.10/lib/python3.10/site-packages (from matplotlib->-r ../../requirements.txt (line 6)) (10.1.0)\n",
      "Requirement already satisfied: kiwisolver>=1.3.1 in /Library/Frameworks/Python.framework/Versions/3.10/lib/python3.10/site-packages (from matplotlib->-r ../../requirements.txt (line 6)) (1.4.5)\n",
      "Requirement already satisfied: fonttools>=4.22.0 in /Library/Frameworks/Python.framework/Versions/3.10/lib/python3.10/site-packages (from matplotlib->-r ../../requirements.txt (line 6)) (4.45.1)\n",
      "Requirement already satisfied: python-dateutil>=2.7 in /Users/jernkun/Library/Python/3.10/lib/python/site-packages (from matplotlib->-r ../../requirements.txt (line 6)) (2.8.2)\n",
      "Requirement already satisfied: cycler>=0.10 in /Library/Frameworks/Python.framework/Versions/3.10/lib/python3.10/site-packages (from matplotlib->-r ../../requirements.txt (line 6)) (0.12.1)\n",
      "Requirement already satisfied: packaging>=20.0 in /Users/jernkun/Library/Python/3.10/lib/python/site-packages (from matplotlib->-r ../../requirements.txt (line 6)) (23.2)\n",
      "Requirement already satisfied: contourpy>=1.0.1 in /Library/Frameworks/Python.framework/Versions/3.10/lib/python3.10/site-packages (from matplotlib->-r ../../requirements.txt (line 6)) (1.2.0)\n",
      "Requirement already satisfied: pyparsing>=2.3.1 in /Library/Frameworks/Python.framework/Versions/3.10/lib/python3.10/site-packages (from matplotlib->-r ../../requirements.txt (line 6)) (3.1.1)\n",
      "Requirement already satisfied: docutils>=0.3 in /Library/Frameworks/Python.framework/Versions/3.10/lib/python3.10/site-packages (from statistics->-r ../../requirements.txt (line 7)) (0.20.1)\n",
      "Requirement already satisfied: protobuf>=3.20.2 in /Library/Frameworks/Python.framework/Versions/3.10/lib/python3.10/site-packages (from onnx->-r ../../requirements.txt (line 8)) (4.25.1)\n",
      "Requirement already satisfied: six>=1.5 in /Users/jernkun/Library/Python/3.10/lib/python/site-packages (from python-dateutil>=2.7->matplotlib->-r ../../requirements.txt (line 6)) (1.16.0)\n",
      "Requirement already satisfied: MarkupSafe>=2.0 in /Library/Frameworks/Python.framework/Versions/3.10/lib/python3.10/site-packages (from jinja2->torch->-r ../../requirements.txt (line 2)) (2.1.3)\n",
      "Requirement already satisfied: mpmath>=0.19 in /Library/Frameworks/Python.framework/Versions/3.10/lib/python3.10/site-packages (from sympy->torch->-r ../../requirements.txt (line 2)) (1.3.0)\n",
      "\u001b[33mWARNING: You are using pip version 21.2.3; however, version 23.3.2 is available.\n",
      "You should consider upgrading via the '/usr/local/bin/python3 -m pip install --upgrade pip' command.\u001b[0m\n",
      "Note: you may need to restart the kernel to use updated packages.\n"
     ]
    }
   ],
   "source": [
    "pip install -r ../../requirements.txt"
   ]
  },
  {
   "cell_type": "code",
   "execution_count": 14,
   "metadata": {},
   "outputs": [],
   "source": [
    "import ezkl\n",
    "import torch\n",
    "from torch import nn\n",
    "import json\n",
    "import os\n",
    "import time\n",
    "import scipy\n",
    "import numpy as np\n",
    "import matplotlib.pyplot as plt\n",
    "import statistics\n",
    "import math"
   ]
  },
  {
   "cell_type": "code",
   "execution_count": 15,
   "metadata": {},
   "outputs": [],
   "source": [
    "%run -i ../../zkstats/core.py"
   ]
  },
  {
   "attachments": {},
   "cell_type": "markdown",
   "metadata": {},
   "source": []
  },
  {
   "cell_type": "code",
   "execution_count": 16,
   "metadata": {},
   "outputs": [],
   "source": [
    "# init path\n",
    "os.makedirs(os.path.dirname('shared/'), exist_ok=True)\n",
    "os.makedirs(os.path.dirname('prover/'), exist_ok=True)\n",
    "verifier_model_path = os.path.join('shared/verifier.onnx')\n",
    "prover_model_path = os.path.join('prover/prover.onnx')\n",
    "verifier_compiled_model_path = os.path.join('shared/verifier.compiled')\n",
    "prover_compiled_model_path = os.path.join('prover/prover.compiled')\n",
    "pk_path = os.path.join('shared/test.pk')\n",
    "vk_path = os.path.join('shared/test.vk')\n",
    "proof_path = os.path.join('shared/test.pf')\n",
    "settings_path = os.path.join('shared/settings.json')\n",
    "srs_path = os.path.join('shared/kzg.srs')\n",
    "witness_path = os.path.join('prover/witness.json')\n",
    "# this is private to prover since it contains actual data\n",
    "sel_data_path = os.path.join('prover/sel_data.json')\n",
    "# this is just dummy random value\n",
    "sel_dummy_data_path = os.path.join('shared/sel_dummy_data.json')"
   ]
  },
  {
   "attachments": {},
   "cell_type": "markdown",
   "metadata": {},
   "source": [
    "=======================  ZK-STATS FLOW ======================="
   ]
  },
  {
   "cell_type": "code",
   "execution_count": 17,
   "metadata": {},
   "outputs": [],
   "source": [
    "data_path = os.path.join('data.json')\n",
    "dummy_data_path = os.path.join('shared/dummy_data.json')\n",
    "\n",
    "data = np.array(json.loads(open(data_path, \"r\").read())['col_name'])\n",
    "data_tensor = torch.reshape(torch.tensor(data),(1,-1, 1))\n",
    "\n",
    "create_dummy(data_path, dummy_data_path)\n",
    "dummy_data = np.array(json.loads(open(dummy_data_path, \"r\").read())['col_name'])\n",
    "dummy_data_tensor = torch.reshape(torch.tensor(dummy_data), (1,-1,1))\n",
    "\n",
    "gt20_dummy_data_tensor = dummy_data_tensor[dummy_data_tensor > 20].reshape(1,-1,1)\n",
    "dummy_theory_output = torch.exp(torch.mean(torch.log(gt20_dummy_data_tensor)))\n",
    "gt20_data_tensor = data_tensor[data_tensor > 20].reshape(1,-1,1)\n",
    "theory_output = torch.exp(torch.mean(torch.log(gt20_data_tensor)))\n"
   ]
  },
  {
   "cell_type": "code",
   "execution_count": null,
   "metadata": {},
   "outputs": [],
   "source": [
    "scales = [8]\n",
    "selected_columns = ['col_name']\n",
    "commitment_maps = get_data_commitment_maps(data_path, scales)"
   ]
  },
  {
   "cell_type": "code",
   "execution_count": 18,
   "metadata": {},
   "outputs": [
    {
     "name": "stderr",
     "output_type": "stream",
     "text": [
      "/var/folders/89/y9dw12v976ngdmqz4l7wbsnr0000gn/T/ipykernel_11911/721953102.py:13: TracerWarning: torch.tensor results are registered as constants in the trace. You can safely ignore this warning if you use this function to create tensors out of constant variables that would be the same every time you call this function. In any other case, this might cause the trace to be incorrect.\n",
      "  return (torch.abs((torch.log(self.w)*num_fil_X)-torch.sum(torch.log(fil_X)))<=num_fil_X*torch.log(torch.tensor(1.01)), self.w)\n"
     ]
    }
   ],
   "source": [
    "# Verifier/ data consumer side: send desired calculation\n",
    "class verifier_model(nn.Module):\n",
    "    def __init__(self):\n",
    "        super(verifier_model, self).__init__()\n",
    "        # w represents mean in this case\n",
    "        self.w = nn.Parameter(data = dummy_theory_output, requires_grad = False)\n",
    "\n",
    "    def forward(self,X):\n",
    "        # where part\n",
    "        filter = (X>20)\n",
    "        num_fil_X = torch.sum(filter.double())\n",
    "        fil_X = torch.where(filter, X, 1.0)\n",
    "        return (torch.abs((torch.log(self.w)*num_fil_X)-torch.sum(torch.log(fil_X)))<=num_fil_X*torch.log(torch.tensor(1.01)), self.w)\n",
    "\n",
    "verifier_define_calculation(dummy_data_path, selected_columns, sel_dummy_data_path,verifier_model, verifier_model_path)"
   ]
  },
  {
   "cell_type": "code",
   "execution_count": 19,
   "metadata": {},
   "outputs": [
    {
     "name": "stdout",
     "output_type": "stream",
     "text": [
      "Theory_output:  tensor(48.1276, dtype=torch.float64)\n",
      "self w:  Parameter containing:\n",
      "tensor(48.1276, dtype=torch.float64)\n",
      "==== Generate & Calibrate Setting ====\n",
      "scale:  [8]\n",
      "setting:  {\"run_args\":{\"tolerance\":{\"val\":0.0,\"scale\":1.0},\"input_scale\":8,\"param_scale\":8,\"scale_rebase_multiplier\":10,\"lookup_range\":[-196442,45056],\"logrows\":18,\"num_inner_cols\":2,\"variables\":[[\"batch_size\",1]],\"input_visibility\":{\"Hashed\":{\"hash_is_public\":true,\"outlets\":[]}},\"output_visibility\":\"Public\",\"param_visibility\":\"Private\"},\"num_rows\":14432,\"total_assignments\":3615,\"total_const_size\":306,\"model_instance_shapes\":[[1],[1]],\"model_output_scales\":[0,8],\"model_input_scales\":[8],\"module_sizes\":{\"kzg\":[],\"poseidon\":[14432,[1]],\"elgamal\":[0,[0]]},\"required_lookups\":[\"Abs\",{\"Div\":{\"denom\":100.49927}},{\"Ln\":{\"scale\":256.0}},{\"GreaterThan\":{\"a\":0.0}}],\"check_mode\":\"UNSAFE\",\"version\":\"7.0.0\",\"num_blinding_factors\":null}\n"
     ]
    },
    {
     "name": "stderr",
     "output_type": "stream",
     "text": [
      "/var/folders/89/y9dw12v976ngdmqz4l7wbsnr0000gn/T/ipykernel_11911/1804498770.py:15: TracerWarning: torch.tensor results are registered as constants in the trace. You can safely ignore this warning if you use this function to create tensors out of constant variables that would be the same every time you call this function. In any other case, this might cause the trace to be incorrect.\n",
      "  return (torch.abs((torch.log(self.w)*num_fil_X)-torch.sum(torch.log(fil_X)))<=num_fil_X*torch.log(torch.tensor(1.01)), self.w)\n"
     ]
    }
   ],
   "source": [
    "# prover calculates settings, send to verifier\n",
    "print(\"Theory_output: \", theory_output)\n",
    "class prover_model(nn.Module):\n",
    "    def __init__(self):\n",
    "        super(prover_model, self).__init__()\n",
    "        # w represents mean in this case\n",
    "        self.w = nn.Parameter(data = theory_output, requires_grad = False)\n",
    "\n",
    "    def forward(self,X):\n",
    "        # where part\n",
    "        filter = (X>20)\n",
    "        num_fil_X = torch.sum(filter.double())\n",
    "        fil_X = torch.where(filter, X, 1.0)\n",
    "        print('self w: ', self.w)\n",
    "        return (torch.abs((torch.log(self.w)*num_fil_X)-torch.sum(torch.log(fil_X)))<=num_fil_X*torch.log(torch.tensor(1.01)), self.w)\n",
    "\n",
    "\n",
    "prover_gen_settings(data_path, selected_columns, sel_data_path, prover_model,prover_model_path, scales, \"resources\", settings_path)"
   ]
  },
  {
   "cell_type": "code",
   "execution_count": 20,
   "metadata": {},
   "outputs": [
    {
     "name": "stderr",
     "output_type": "stream",
     "text": [
      "spawning module 0\n",
      "spawning module 2\n"
     ]
    },
    {
     "name": "stdout",
     "output_type": "stream",
     "text": [
      "==== setting up ezkl ====\n"
     ]
    },
    {
     "name": "stderr",
     "output_type": "stream",
     "text": [
      "spawning module 0\n",
      "spawning module 2\n"
     ]
    },
    {
     "name": "stdout",
     "output_type": "stream",
     "text": [
      "Time setup: 29.234658002853394 seconds\n",
      "=======================================\n",
      "Theory output:  tensor(48.1276, dtype=torch.float64)\n",
      "!@# compiled_model exists? False\n",
      "!@# compiled_model exists? True\n",
      "==== Generating Witness ====\n",
      "witness boolean:  1.0\n",
      "witness result 1 : 48.12890625\n",
      "==== Generating Proof ====\n"
     ]
    },
    {
     "name": "stderr",
     "output_type": "stream",
     "text": [
      "spawning module 0\n",
      "spawning module 2\n"
     ]
    },
    {
     "name": "stdout",
     "output_type": "stream",
     "text": [
      "proof:  {'instances': [[[11768814371718170976, 435173728250646979, 519717007263840094, 1741290966923863957], [12436184717236109307, 3962172157175319849, 7381016538464732718, 1011752739694698287], [13008514816417923429, 2889748934031881905, 13995698908509180341, 3273700224560439773]]], 'proof': '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', 'transcript_type': 'EVM'}\n",
      "Time gen prf: 42.45082402229309 seconds\n"
     ]
    }
   ],
   "source": [
    "# Here verifier & prover can concurrently call setup since all params are public to get pk.\n",
    "# Here write as verifier function to emphasize that verifier must calculate its own vk to be sure\n",
    "verifier_setup(verifier_model_path, verifier_compiled_model_path, settings_path,vk_path, pk_path )\n",
    "\n",
    "print(\"=======================================\")\n",
    "# Prover generates proof\n",
    "print(\"Theory output: \", theory_output)\n",
    "prover_gen_proof(prover_model_path, sel_data_path, witness_path, prover_compiled_model_path, settings_path, proof_path, pk_path)"
   ]
  },
  {
   "attachments": {},
   "cell_type": "markdown",
   "metadata": {},
   "source": []
  },
  {
   "cell_type": "code",
   "execution_count": 21,
   "metadata": {},
   "outputs": [
    {
     "name": "stdout",
     "output_type": "stream",
     "text": [
      "num_inputs:  1\n",
      "prf instances:  [[[11768814371718170976, 435173728250646979, 519717007263840094, 1741290966923863957], [12436184717236109307, 3962172157175319849, 7381016538464732718, 1011752739694698287], [13008514816417923429, 2889748934031881905, 13995698908509180341, 3273700224560439773]]]\n",
      "proof boolean:  1.0\n",
      "proof result 1 : 48.12890625\n",
      "verified\n"
     ]
    }
   ],
   "source": [
    "# Verifier verifies\n",
    "verifier_verify(proof_path, settings_path, vk_path, selected_columns, commitment_maps)"
   ]
  },
  {
   "cell_type": "code",
   "execution_count": null,
   "metadata": {},
   "outputs": [],
   "source": []
  }
 ],
 "metadata": {
  "kernelspec": {
   "display_name": "Python 3",
   "language": "python",
   "name": "python3"
  },
  "language_info": {
   "codemirror_mode": {
    "name": "ipython",
    "version": 3
   },
   "file_extension": ".py",
   "mimetype": "text/x-python",
   "name": "python",
   "nbconvert_exporter": "python",
   "pygments_lexer": "ipython3",
   "version": "3.10.0"
  },
  "orig_nbformat": 4
 },
 "nbformat": 4,
 "nbformat_minor": 2
}
