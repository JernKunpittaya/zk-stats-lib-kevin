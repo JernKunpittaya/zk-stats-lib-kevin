{
 "cells": [
  {
   "cell_type": "code",
   "execution_count": 1,
   "metadata": {},
   "outputs": [
    {
     "name": "stdout",
     "output_type": "stream",
     "text": [
      "Requirement already satisfied: ezkl==7.0.0 in /Users/jernkun/Library/Caches/pypoetry/virtualenvs/zkstats-OJpceffF-py3.11/lib/python3.11/site-packages (from -r ../../requirements.txt (line 1)) (7.0.0)\n",
      "Requirement already satisfied: torch in /Users/jernkun/Library/Caches/pypoetry/virtualenvs/zkstats-OJpceffF-py3.11/lib/python3.11/site-packages (from -r ../../requirements.txt (line 2)) (2.2.0)\n",
      "Requirement already satisfied: requests in /Users/jernkun/Library/Caches/pypoetry/virtualenvs/zkstats-OJpceffF-py3.11/lib/python3.11/site-packages (from -r ../../requirements.txt (line 3)) (2.31.0)\n",
      "Requirement already satisfied: scipy in /Users/jernkun/Library/Caches/pypoetry/virtualenvs/zkstats-OJpceffF-py3.11/lib/python3.11/site-packages (from -r ../../requirements.txt (line 4)) (1.12.0)\n",
      "Requirement already satisfied: numpy in /Users/jernkun/Library/Caches/pypoetry/virtualenvs/zkstats-OJpceffF-py3.11/lib/python3.11/site-packages (from -r ../../requirements.txt (line 5)) (1.26.3)\n",
      "Requirement already satisfied: matplotlib in /Users/jernkun/Library/Caches/pypoetry/virtualenvs/zkstats-OJpceffF-py3.11/lib/python3.11/site-packages (from -r ../../requirements.txt (line 6)) (3.8.2)\n",
      "Requirement already satisfied: statistics in /Users/jernkun/Library/Caches/pypoetry/virtualenvs/zkstats-OJpceffF-py3.11/lib/python3.11/site-packages (from -r ../../requirements.txt (line 7)) (1.0.3.5)\n",
      "Requirement already satisfied: onnx in /Users/jernkun/Library/Caches/pypoetry/virtualenvs/zkstats-OJpceffF-py3.11/lib/python3.11/site-packages (from -r ../../requirements.txt (line 8)) (1.15.0)\n",
      "Requirement already satisfied: filelock in /Users/jernkun/Library/Caches/pypoetry/virtualenvs/zkstats-OJpceffF-py3.11/lib/python3.11/site-packages (from torch->-r ../../requirements.txt (line 2)) (3.13.1)\n",
      "Requirement already satisfied: typing-extensions>=4.8.0 in /Users/jernkun/Library/Caches/pypoetry/virtualenvs/zkstats-OJpceffF-py3.11/lib/python3.11/site-packages (from torch->-r ../../requirements.txt (line 2)) (4.9.0)\n",
      "Requirement already satisfied: sympy in /Users/jernkun/Library/Caches/pypoetry/virtualenvs/zkstats-OJpceffF-py3.11/lib/python3.11/site-packages (from torch->-r ../../requirements.txt (line 2)) (1.12)\n",
      "Requirement already satisfied: networkx in /Users/jernkun/Library/Caches/pypoetry/virtualenvs/zkstats-OJpceffF-py3.11/lib/python3.11/site-packages (from torch->-r ../../requirements.txt (line 2)) (3.2.1)\n",
      "Requirement already satisfied: jinja2 in /Users/jernkun/Library/Caches/pypoetry/virtualenvs/zkstats-OJpceffF-py3.11/lib/python3.11/site-packages (from torch->-r ../../requirements.txt (line 2)) (3.1.3)\n",
      "Requirement already satisfied: fsspec in /Users/jernkun/Library/Caches/pypoetry/virtualenvs/zkstats-OJpceffF-py3.11/lib/python3.11/site-packages (from torch->-r ../../requirements.txt (line 2)) (2023.12.2)\n",
      "Requirement already satisfied: charset-normalizer<4,>=2 in /Users/jernkun/Library/Caches/pypoetry/virtualenvs/zkstats-OJpceffF-py3.11/lib/python3.11/site-packages (from requests->-r ../../requirements.txt (line 3)) (3.3.2)\n",
      "Requirement already satisfied: idna<4,>=2.5 in /Users/jernkun/Library/Caches/pypoetry/virtualenvs/zkstats-OJpceffF-py3.11/lib/python3.11/site-packages (from requests->-r ../../requirements.txt (line 3)) (3.6)\n",
      "Requirement already satisfied: urllib3<3,>=1.21.1 in /Users/jernkun/Library/Caches/pypoetry/virtualenvs/zkstats-OJpceffF-py3.11/lib/python3.11/site-packages (from requests->-r ../../requirements.txt (line 3)) (2.2.0)\n",
      "Requirement already satisfied: certifi>=2017.4.17 in /Users/jernkun/Library/Caches/pypoetry/virtualenvs/zkstats-OJpceffF-py3.11/lib/python3.11/site-packages (from requests->-r ../../requirements.txt (line 3)) (2024.2.2)\n",
      "Requirement already satisfied: contourpy>=1.0.1 in /Users/jernkun/Library/Caches/pypoetry/virtualenvs/zkstats-OJpceffF-py3.11/lib/python3.11/site-packages (from matplotlib->-r ../../requirements.txt (line 6)) (1.2.0)\n",
      "Requirement already satisfied: cycler>=0.10 in /Users/jernkun/Library/Caches/pypoetry/virtualenvs/zkstats-OJpceffF-py3.11/lib/python3.11/site-packages (from matplotlib->-r ../../requirements.txt (line 6)) (0.12.1)\n",
      "Requirement already satisfied: fonttools>=4.22.0 in /Users/jernkun/Library/Caches/pypoetry/virtualenvs/zkstats-OJpceffF-py3.11/lib/python3.11/site-packages (from matplotlib->-r ../../requirements.txt (line 6)) (4.47.2)\n",
      "Requirement already satisfied: kiwisolver>=1.3.1 in /Users/jernkun/Library/Caches/pypoetry/virtualenvs/zkstats-OJpceffF-py3.11/lib/python3.11/site-packages (from matplotlib->-r ../../requirements.txt (line 6)) (1.4.5)\n",
      "Requirement already satisfied: packaging>=20.0 in /Users/jernkun/Library/Caches/pypoetry/virtualenvs/zkstats-OJpceffF-py3.11/lib/python3.11/site-packages (from matplotlib->-r ../../requirements.txt (line 6)) (23.2)\n",
      "Requirement already satisfied: pillow>=8 in /Users/jernkun/Library/Caches/pypoetry/virtualenvs/zkstats-OJpceffF-py3.11/lib/python3.11/site-packages (from matplotlib->-r ../../requirements.txt (line 6)) (10.2.0)\n",
      "Requirement already satisfied: pyparsing>=2.3.1 in /Users/jernkun/Library/Caches/pypoetry/virtualenvs/zkstats-OJpceffF-py3.11/lib/python3.11/site-packages (from matplotlib->-r ../../requirements.txt (line 6)) (3.1.1)\n",
      "Requirement already satisfied: python-dateutil>=2.7 in /Users/jernkun/Library/Caches/pypoetry/virtualenvs/zkstats-OJpceffF-py3.11/lib/python3.11/site-packages (from matplotlib->-r ../../requirements.txt (line 6)) (2.8.2)\n",
      "Requirement already satisfied: docutils>=0.3 in /Users/jernkun/Library/Caches/pypoetry/virtualenvs/zkstats-OJpceffF-py3.11/lib/python3.11/site-packages (from statistics->-r ../../requirements.txt (line 7)) (0.20.1)\n",
      "Requirement already satisfied: protobuf>=3.20.2 in /Users/jernkun/Library/Caches/pypoetry/virtualenvs/zkstats-OJpceffF-py3.11/lib/python3.11/site-packages (from onnx->-r ../../requirements.txt (line 8)) (4.25.2)\n",
      "Requirement already satisfied: six>=1.5 in /Users/jernkun/Library/Caches/pypoetry/virtualenvs/zkstats-OJpceffF-py3.11/lib/python3.11/site-packages (from python-dateutil>=2.7->matplotlib->-r ../../requirements.txt (line 6)) (1.16.0)\n",
      "Requirement already satisfied: MarkupSafe>=2.0 in /Users/jernkun/Library/Caches/pypoetry/virtualenvs/zkstats-OJpceffF-py3.11/lib/python3.11/site-packages (from jinja2->torch->-r ../../requirements.txt (line 2)) (2.1.4)\n",
      "Requirement already satisfied: mpmath>=0.19 in /Users/jernkun/Library/Caches/pypoetry/virtualenvs/zkstats-OJpceffF-py3.11/lib/python3.11/site-packages (from sympy->torch->-r ../../requirements.txt (line 2)) (1.3.0)\n",
      "\n",
      "\u001b[1m[\u001b[0m\u001b[34;49mnotice\u001b[0m\u001b[1;39;49m]\u001b[0m\u001b[39;49m A new release of pip is available: \u001b[0m\u001b[31;49m23.2.1\u001b[0m\u001b[39;49m -> \u001b[0m\u001b[32;49m24.0\u001b[0m\n",
      "\u001b[1m[\u001b[0m\u001b[34;49mnotice\u001b[0m\u001b[1;39;49m]\u001b[0m\u001b[39;49m To update, run: \u001b[0m\u001b[32;49mpip install --upgrade pip\u001b[0m\n",
      "Note: you may need to restart the kernel to use updated packages.\n"
     ]
    }
   ],
   "source": [
    "pip install -r ../../requirements.txt"
   ]
  },
  {
   "cell_type": "code",
   "execution_count": 2,
   "metadata": {},
   "outputs": [],
   "source": [
    "import ezkl\n",
    "import torch\n",
    "from torch import nn\n",
    "import json\n",
    "import os\n",
    "import time\n",
    "import scipy\n",
    "import numpy as np\n",
    "import matplotlib.pyplot as plt\n",
    "import statistics\n",
    "import math"
   ]
  },
  {
   "cell_type": "code",
   "execution_count": 3,
   "metadata": {},
   "outputs": [],
   "source": [
    "from zkstats.core import create_dummy, verifier_define_calculation, prover_gen_settings, setup, prover_gen_proof, verifier_verify, get_data_commitment_maps"
   ]
  },
  {
   "cell_type": "code",
   "execution_count": 4,
   "metadata": {},
   "outputs": [],
   "source": [
    "# init path\n",
    "os.makedirs(os.path.dirname('shared/'), exist_ok=True)\n",
    "os.makedirs(os.path.dirname('prover/'), exist_ok=True)\n",
    "verifier_model_path = os.path.join('shared/verifier.onnx')\n",
    "prover_model_path = os.path.join('prover/prover.onnx')\n",
    "verifier_compiled_model_path = os.path.join('shared/verifier.compiled')\n",
    "prover_compiled_model_path = os.path.join('prover/prover.compiled')\n",
    "pk_path = os.path.join('shared/test.pk')\n",
    "vk_path = os.path.join('shared/test.vk')\n",
    "proof_path = os.path.join('shared/test.pf')\n",
    "settings_path = os.path.join('shared/settings.json')\n",
    "srs_path = os.path.join('shared/kzg.srs')\n",
    "witness_path = os.path.join('prover/witness.json')\n",
    "# this is private to prover since it contains actual data\n",
    "sel_data_path = os.path.join('prover/sel_data.json')\n",
    "# this is just dummy random value\n",
    "sel_dummy_data_path = os.path.join('shared/sel_dummy_data.json')"
   ]
  },
  {
   "attachments": {},
   "cell_type": "markdown",
   "metadata": {},
   "source": [
    "=======================  ZK-STATS FLOW ======================="
   ]
  },
  {
   "cell_type": "code",
   "execution_count": 5,
   "metadata": {},
   "outputs": [],
   "source": [
    "data_path = os.path.join('data.json')\n",
    "dummy_data_path = os.path.join('shared/dummy_data.json')\n",
    "create_dummy(data_path, dummy_data_path)"
   ]
  },
  {
   "cell_type": "code",
   "execution_count": 6,
   "metadata": {},
   "outputs": [],
   "source": [
    "scales = [3]\n",
    "selected_columns = ['col_name']\n",
    "commitment_maps = get_data_commitment_maps(data_path, scales)"
   ]
  },
  {
   "cell_type": "code",
   "execution_count": 7,
   "metadata": {},
   "outputs": [
    {
     "name": "stderr",
     "output_type": "stream",
     "text": [
      "/Users/jernkun/Desktop/zk-stats-lib/zkstats/computation.py:166: TracerWarning: torch.tensor results are registered as constants in the trace. You can safely ignore this warning if you use this function to create tensors out of constant variables that would be the same every time you call this function. In any other case, this might cause the trace to be incorrect.\n",
      "  is_precise_aggregated = torch.tensor(1.0)\n",
      "/Users/jernkun/Library/Caches/pypoetry/virtualenvs/zkstats-OJpceffF-py3.11/lib/python3.11/site-packages/torch/onnx/symbolic_opset9.py:2174: FutureWarning: 'torch.onnx.symbolic_opset9._cast_Bool' is deprecated in version 2.0 and will be removed in the future. Please Avoid using this function and create a Cast node instead.\n",
      "  return fn(g, to_cast_func(g, input, False), to_cast_func(g, other, False))\n"
     ]
    }
   ],
   "source": [
    "# Verifier/ data consumer side: send desired calculation\n",
    "from zkstats.computation import computation_to_model, State\n",
    "\n",
    "\n",
    "def computation(s: State, data: list[torch.Tensor]) -> torch.Tensor:\n",
    "    x = data[0]\n",
    "    return s.stdev(x)\n",
    "\n",
    "error = 0.01\n",
    "_, verifier_model = computation_to_model(computation, error)\n",
    "\n",
    "verifier_define_calculation(dummy_data_path, selected_columns, sel_dummy_data_path, verifier_model, verifier_model_path)"
   ]
  },
  {
   "cell_type": "code",
   "execution_count": 8,
   "metadata": {},
   "outputs": [
    {
     "name": "stdout",
     "output_type": "stream",
     "text": [
      "==== Generate & Calibrate Setting ====\n",
      "scale:  [3]\n",
      "setting:  {\"run_args\":{\"tolerance\":{\"val\":0.0,\"scale\":1.0},\"input_scale\":3,\"param_scale\":3,\"scale_rebase_multiplier\":10,\"lookup_range\":[-162682,34],\"logrows\":18,\"num_inner_cols\":2,\"variables\":[[\"batch_size\",1]],\"input_visibility\":{\"Hashed\":{\"hash_is_public\":true,\"outlets\":[]}},\"output_visibility\":\"Public\",\"param_visibility\":\"Private\"},\"num_rows\":14432,\"total_assignments\":1519,\"total_const_size\":8,\"model_instance_shapes\":[[1],[1]],\"model_output_scales\":[0,3],\"model_input_scales\":[3],\"module_sizes\":{\"kzg\":[],\"poseidon\":[14432,[1]],\"elgamal\":[0,[0]]},\"required_lookups\":[\"Abs\",{\"GreaterThan\":{\"a\":0.0}}],\"check_mode\":\"UNSAFE\",\"version\":\"7.0.0\",\"num_blinding_factors\":null}\n"
     ]
    }
   ],
   "source": [
    "# Prover/ data owner side\n",
    "_, prover_model = computation_to_model(computation, error)\n",
    "\n",
    "prover_gen_settings(data_path, selected_columns, sel_data_path, prover_model,prover_model_path, scales, \"resources\", settings_path)"
   ]
  },
  {
   "cell_type": "code",
   "execution_count": 9,
   "metadata": {},
   "outputs": [
    {
     "name": "stderr",
     "output_type": "stream",
     "text": [
      "spawning module 0\n",
      "spawning module 2\n"
     ]
    },
    {
     "name": "stdout",
     "output_type": "stream",
     "text": [
      "==== setting up ezkl ====\n"
     ]
    },
    {
     "name": "stderr",
     "output_type": "stream",
     "text": [
      "spawning module 0\n",
      "spawning module 2\n"
     ]
    },
    {
     "name": "stdout",
     "output_type": "stream",
     "text": [
      "Time setup: 23.033539056777954 seconds\n",
      "=======================================\n",
      "==== Generating Witness ====\n",
      "witness boolean:  1.0\n",
      "witness result 1 : 14.625\n",
      "==== Generating Proof ====\n"
     ]
    },
    {
     "name": "stderr",
     "output_type": "stream",
     "text": [
      "spawning module 0\n",
      "spawning module 2\n"
     ]
    },
    {
     "name": "stdout",
     "output_type": "stream",
     "text": [
      "proof:  {'instances': [[[2220140900277941808, 6087627386785158829, 13612075262281438935, 1146358877253972239], [12436184717236109307, 3962172157175319849, 7381016538464732718, 1011752739694698287], [2343324117748415894, 17487830339905012050, 1024486912989114140, 3304127739781667657]]], 'proof': '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', 'transcript_type': 'EVM'}\n",
      "Time gen prf: 28.68826913833618 seconds\n"
     ]
    }
   ],
   "source": [
    "# Here verifier & prover can concurrently call setup since all params are public to get pk.\n",
    "# Here write as verifier function to emphasize that verifier must calculate its own vk to be sure\n",
    "setup(verifier_model_path, verifier_compiled_model_path, settings_path,vk_path, pk_path )\n",
    "\n",
    "print(\"=======================================\")\n",
    "# Prover generates proof\n",
    "prover_gen_proof(prover_model_path, sel_data_path, witness_path, prover_compiled_model_path, settings_path, proof_path, pk_path)"
   ]
  },
  {
   "cell_type": "code",
   "execution_count": 10,
   "metadata": {},
   "outputs": [
    {
     "name": "stdout",
     "output_type": "stream",
     "text": [
      "Verifier gets result: 14.625\n"
     ]
    }
   ],
   "source": [
    "# Verifier verifies\n",
    "res = verifier_verify(proof_path, settings_path, vk_path, selected_columns, commitment_maps)\n",
    "print(\"Verifier gets result:\", res)"
   ]
  },
  {
   "cell_type": "code",
   "execution_count": null,
   "metadata": {},
   "outputs": [],
   "source": []
  }
 ],
 "metadata": {
  "kernelspec": {
   "display_name": "Python 3",
   "language": "python",
   "name": "python3"
  },
  "language_info": {
   "codemirror_mode": {
    "name": "ipython",
    "version": 3
   },
   "file_extension": ".py",
   "mimetype": "text/x-python",
   "name": "python",
   "nbconvert_exporter": "python",
   "pygments_lexer": "ipython3",
   "version": "3.11.4"
  },
  "orig_nbformat": 4
 },
 "nbformat": 4,
 "nbformat_minor": 2
}
