{
 "cells": [
  {
   "cell_type": "code",
   "execution_count": 1,
   "metadata": {},
   "outputs": [
    {
     "name": "stdout",
     "output_type": "stream",
     "text": [
      "Requirement already satisfied: ezkl==7.0.0 in /Users/mhchia/Library/Caches/pypoetry/virtualenvs/zkstats-brXmXluj-py3.12/lib/python3.12/site-packages (from -r ../../requirements.txt (line 1)) (7.0.0)\n",
      "Requirement already satisfied: torch in /Users/mhchia/Library/Caches/pypoetry/virtualenvs/zkstats-brXmXluj-py3.12/lib/python3.12/site-packages (from -r ../../requirements.txt (line 2)) (2.2.0)\n",
      "Requirement already satisfied: requests in /Users/mhchia/Library/Caches/pypoetry/virtualenvs/zkstats-brXmXluj-py3.12/lib/python3.12/site-packages (from -r ../../requirements.txt (line 3)) (2.31.0)\n",
      "Requirement already satisfied: scipy in /Users/mhchia/Library/Caches/pypoetry/virtualenvs/zkstats-brXmXluj-py3.12/lib/python3.12/site-packages (from -r ../../requirements.txt (line 4)) (1.12.0)\n",
      "Requirement already satisfied: numpy in /Users/mhchia/Library/Caches/pypoetry/virtualenvs/zkstats-brXmXluj-py3.12/lib/python3.12/site-packages (from -r ../../requirements.txt (line 5)) (1.26.3)\n",
      "Requirement already satisfied: matplotlib in /Users/mhchia/Library/Caches/pypoetry/virtualenvs/zkstats-brXmXluj-py3.12/lib/python3.12/site-packages (from -r ../../requirements.txt (line 6)) (3.8.2)\n",
      "Requirement already satisfied: statistics in /Users/mhchia/Library/Caches/pypoetry/virtualenvs/zkstats-brXmXluj-py3.12/lib/python3.12/site-packages (from -r ../../requirements.txt (line 7)) (1.0.3.5)\n",
      "Requirement already satisfied: onnx in /Users/mhchia/Library/Caches/pypoetry/virtualenvs/zkstats-brXmXluj-py3.12/lib/python3.12/site-packages (from -r ../../requirements.txt (line 8)) (1.15.0)\n",
      "Requirement already satisfied: filelock in /Users/mhchia/Library/Caches/pypoetry/virtualenvs/zkstats-brXmXluj-py3.12/lib/python3.12/site-packages (from torch->-r ../../requirements.txt (line 2)) (3.13.1)\n",
      "Requirement already satisfied: typing-extensions>=4.8.0 in /Users/mhchia/Library/Caches/pypoetry/virtualenvs/zkstats-brXmXluj-py3.12/lib/python3.12/site-packages (from torch->-r ../../requirements.txt (line 2)) (4.9.0)\n",
      "Requirement already satisfied: sympy in /Users/mhchia/Library/Caches/pypoetry/virtualenvs/zkstats-brXmXluj-py3.12/lib/python3.12/site-packages (from torch->-r ../../requirements.txt (line 2)) (1.12)\n",
      "Requirement already satisfied: networkx in /Users/mhchia/Library/Caches/pypoetry/virtualenvs/zkstats-brXmXluj-py3.12/lib/python3.12/site-packages (from torch->-r ../../requirements.txt (line 2)) (3.2.1)\n",
      "Requirement already satisfied: jinja2 in /Users/mhchia/Library/Caches/pypoetry/virtualenvs/zkstats-brXmXluj-py3.12/lib/python3.12/site-packages (from torch->-r ../../requirements.txt (line 2)) (3.1.3)\n",
      "Requirement already satisfied: fsspec in /Users/mhchia/Library/Caches/pypoetry/virtualenvs/zkstats-brXmXluj-py3.12/lib/python3.12/site-packages (from torch->-r ../../requirements.txt (line 2)) (2023.12.2)\n",
      "Requirement already satisfied: charset-normalizer<4,>=2 in /Users/mhchia/Library/Caches/pypoetry/virtualenvs/zkstats-brXmXluj-py3.12/lib/python3.12/site-packages (from requests->-r ../../requirements.txt (line 3)) (3.3.2)\n",
      "Requirement already satisfied: idna<4,>=2.5 in /Users/mhchia/Library/Caches/pypoetry/virtualenvs/zkstats-brXmXluj-py3.12/lib/python3.12/site-packages (from requests->-r ../../requirements.txt (line 3)) (3.6)\n",
      "Requirement already satisfied: urllib3<3,>=1.21.1 in /Users/mhchia/Library/Caches/pypoetry/virtualenvs/zkstats-brXmXluj-py3.12/lib/python3.12/site-packages (from requests->-r ../../requirements.txt (line 3)) (2.2.0)\n",
      "Requirement already satisfied: certifi>=2017.4.17 in /Users/mhchia/Library/Caches/pypoetry/virtualenvs/zkstats-brXmXluj-py3.12/lib/python3.12/site-packages (from requests->-r ../../requirements.txt (line 3)) (2024.2.2)\n",
      "Requirement already satisfied: contourpy>=1.0.1 in /Users/mhchia/Library/Caches/pypoetry/virtualenvs/zkstats-brXmXluj-py3.12/lib/python3.12/site-packages (from matplotlib->-r ../../requirements.txt (line 6)) (1.2.0)\n",
      "Requirement already satisfied: cycler>=0.10 in /Users/mhchia/Library/Caches/pypoetry/virtualenvs/zkstats-brXmXluj-py3.12/lib/python3.12/site-packages (from matplotlib->-r ../../requirements.txt (line 6)) (0.12.1)\n",
      "Requirement already satisfied: fonttools>=4.22.0 in /Users/mhchia/Library/Caches/pypoetry/virtualenvs/zkstats-brXmXluj-py3.12/lib/python3.12/site-packages (from matplotlib->-r ../../requirements.txt (line 6)) (4.47.2)\n",
      "Requirement already satisfied: kiwisolver>=1.3.1 in /Users/mhchia/Library/Caches/pypoetry/virtualenvs/zkstats-brXmXluj-py3.12/lib/python3.12/site-packages (from matplotlib->-r ../../requirements.txt (line 6)) (1.4.5)\n",
      "Requirement already satisfied: packaging>=20.0 in /Users/mhchia/Library/Caches/pypoetry/virtualenvs/zkstats-brXmXluj-py3.12/lib/python3.12/site-packages (from matplotlib->-r ../../requirements.txt (line 6)) (23.2)\n",
      "Requirement already satisfied: pillow>=8 in /Users/mhchia/Library/Caches/pypoetry/virtualenvs/zkstats-brXmXluj-py3.12/lib/python3.12/site-packages (from matplotlib->-r ../../requirements.txt (line 6)) (10.2.0)\n",
      "Requirement already satisfied: pyparsing>=2.3.1 in /Users/mhchia/Library/Caches/pypoetry/virtualenvs/zkstats-brXmXluj-py3.12/lib/python3.12/site-packages (from matplotlib->-r ../../requirements.txt (line 6)) (3.1.1)\n",
      "Requirement already satisfied: python-dateutil>=2.7 in /Users/mhchia/Library/Caches/pypoetry/virtualenvs/zkstats-brXmXluj-py3.12/lib/python3.12/site-packages (from matplotlib->-r ../../requirements.txt (line 6)) (2.8.2)\n",
      "Requirement already satisfied: docutils>=0.3 in /Users/mhchia/Library/Caches/pypoetry/virtualenvs/zkstats-brXmXluj-py3.12/lib/python3.12/site-packages (from statistics->-r ../../requirements.txt (line 7)) (0.20.1)\n",
      "Requirement already satisfied: protobuf>=3.20.2 in /Users/mhchia/Library/Caches/pypoetry/virtualenvs/zkstats-brXmXluj-py3.12/lib/python3.12/site-packages (from onnx->-r ../../requirements.txt (line 8)) (4.25.2)\n",
      "Requirement already satisfied: six>=1.5 in /Users/mhchia/Library/Caches/pypoetry/virtualenvs/zkstats-brXmXluj-py3.12/lib/python3.12/site-packages (from python-dateutil>=2.7->matplotlib->-r ../../requirements.txt (line 6)) (1.16.0)\n",
      "Requirement already satisfied: MarkupSafe>=2.0 in /Users/mhchia/Library/Caches/pypoetry/virtualenvs/zkstats-brXmXluj-py3.12/lib/python3.12/site-packages (from jinja2->torch->-r ../../requirements.txt (line 2)) (2.1.4)\n",
      "Requirement already satisfied: mpmath>=0.19 in /Users/mhchia/Library/Caches/pypoetry/virtualenvs/zkstats-brXmXluj-py3.12/lib/python3.12/site-packages (from sympy->torch->-r ../../requirements.txt (line 2)) (1.3.0)\n",
      "\n",
      "\u001b[1m[\u001b[0m\u001b[34;49mnotice\u001b[0m\u001b[1;39;49m]\u001b[0m\u001b[39;49m A new release of pip is available: \u001b[0m\u001b[31;49m23.3.1\u001b[0m\u001b[39;49m -> \u001b[0m\u001b[32;49m24.0\u001b[0m\n",
      "\u001b[1m[\u001b[0m\u001b[34;49mnotice\u001b[0m\u001b[1;39;49m]\u001b[0m\u001b[39;49m To update, run: \u001b[0m\u001b[32;49mpip install --upgrade pip\u001b[0m\n",
      "Note: you may need to restart the kernel to use updated packages.\n"
     ]
    }
   ],
   "source": [
    "pip install -r ../../requirements.txt"
   ]
  },
  {
   "cell_type": "code",
   "execution_count": 2,
   "metadata": {},
   "outputs": [],
   "source": [
    "import ezkl\n",
    "import torch\n",
    "from torch import nn\n",
    "import json\n",
    "import os\n",
    "import time\n",
    "import scipy\n",
    "import numpy as np\n",
    "import matplotlib.pyplot as plt\n",
    "import statistics\n",
    "import math"
   ]
  },
  {
   "cell_type": "code",
   "execution_count": 3,
   "metadata": {},
   "outputs": [],
   "source": [
    "%run -i ../../zkstats/core.py"
   ]
  },
  {
   "cell_type": "code",
   "execution_count": 4,
   "metadata": {},
   "outputs": [],
   "source": [
    "# init path\n",
    "os.makedirs(os.path.dirname('shared/'), exist_ok=True)\n",
    "os.makedirs(os.path.dirname('prover/'), exist_ok=True)\n",
    "verifier_model_path = os.path.join('shared/verifier.onnx')\n",
    "prover_model_path = os.path.join('prover/prover.onnx')\n",
    "verifier_compiled_model_path = os.path.join('shared/verifier.compiled')\n",
    "prover_compiled_model_path = os.path.join('prover/prover.compiled')\n",
    "pk_path = os.path.join('shared/test.pk')\n",
    "vk_path = os.path.join('shared/test.vk')\n",
    "proof_path = os.path.join('shared/test.pf')\n",
    "settings_path = os.path.join('shared/settings.json')\n",
    "srs_path = os.path.join('shared/kzg.srs')\n",
    "witness_path = os.path.join('prover/witness.json')\n",
    "# this is private to prover since it contains actual data\n",
    "sel_data_path = os.path.join('prover/sel_data.json')\n",
    "# this is just dummy random value\n",
    "sel_dummy_data_path = os.path.join('shared/sel_dummy_data.json')"
   ]
  },
  {
   "attachments": {},
   "cell_type": "markdown",
   "metadata": {},
   "source": [
    "=======================  ZK-STATS FLOW ======================="
   ]
  },
  {
   "cell_type": "code",
   "execution_count": 5,
   "metadata": {},
   "outputs": [],
   "source": [
    "data_path = os.path.join('data.json')\n",
    "dummy_data_path = os.path.join('shared/dummy_data.json')\n",
    "create_dummy(data_path, dummy_data_path)"
   ]
  },
  {
   "cell_type": "code",
   "execution_count": 6,
   "metadata": {},
   "outputs": [],
   "source": [
    "scales = [2]\n",
    "selected_columns = ['col_name']\n",
    "commitment_maps = get_data_commitment_maps(data_path, scales)"
   ]
  },
  {
   "cell_type": "code",
   "execution_count": 7,
   "metadata": {},
   "outputs": [
    {
     "name": "stderr",
     "output_type": "stream",
     "text": [
      "/Users/mhchia/projects/work/pse/zk-stats-lib/zkstats/computation.py:166: TracerWarning: torch.tensor results are registered as constants in the trace. You can safely ignore this warning if you use this function to create tensors out of constant variables that would be the same every time you call this function. In any other case, this might cause the trace to be incorrect.\n",
      "  is_precise_aggregated = torch.tensor(1.0)\n",
      "/Users/mhchia/Library/Caches/pypoetry/virtualenvs/zkstats-brXmXluj-py3.12/lib/python3.12/site-packages/torch/onnx/symbolic_opset9.py:2174: FutureWarning: 'torch.onnx.symbolic_opset9._cast_Bool' is deprecated in version 2.0 and will be removed in the future. Please Avoid using this function and create a Cast node instead.\n",
      "  return fn(g, to_cast_func(g, input, False), to_cast_func(g, other, False))\n"
     ]
    }
   ],
   "source": [
    "# Verifier/ data consumer side: send desired calculation\n",
    "from zkstats.computation import computation_to_model, State\n",
    "\n",
    "\n",
    "def computation(s: State, data: list[torch.Tensor]) -> torch.Tensor:\n",
    "    x = data[0]\n",
    "    return s.stdev(x)\n",
    "\n",
    "error = 0.01\n",
    "_, verifier_model = computation_to_model(computation, error)\n",
    "\n",
    "verifier_define_calculation(dummy_data_path, selected_columns, sel_dummy_data_path, verifier_model, verifier_model_path)"
   ]
  },
  {
   "cell_type": "code",
   "execution_count": 8,
   "metadata": {},
   "outputs": [
    {
     "name": "stdout",
     "output_type": "stream",
     "text": [
      "==== Generate & Calibrate Setting ====\n",
      "scale:  [2]\n",
      "setting:  {\"run_args\":{\"tolerance\":{\"val\":0.0,\"scale\":1.0},\"input_scale\":2,\"param_scale\":2,\"scale_rebase_multiplier\":10,\"lookup_range\":[-40670,8],\"logrows\":16,\"num_inner_cols\":2,\"variables\":[[\"batch_size\",1]],\"input_visibility\":{\"Hashed\":{\"hash_is_public\":true,\"outlets\":[]}},\"output_visibility\":\"Public\",\"param_visibility\":\"Private\"},\"num_rows\":14432,\"total_assignments\":1522,\"total_const_size\":8,\"model_instance_shapes\":[[1],[1]],\"model_output_scales\":[0,2],\"model_input_scales\":[2],\"module_sizes\":{\"kzg\":[],\"poseidon\":[14432,[1]],\"elgamal\":[0,[0]]},\"required_lookups\":[\"Abs\",{\"GreaterThan\":{\"a\":0.0}}],\"check_mode\":\"UNSAFE\",\"version\":\"7.0.0\",\"num_blinding_factors\":null}\n"
     ]
    }
   ],
   "source": [
    "# Prover/ data owner side\n",
    "_, prover_model = computation_to_model(computation, error)\n",
    "\n",
    "prover_gen_settings(data_path, selected_columns, sel_data_path, prover_model,prover_model_path, scales, \"resources\", settings_path)"
   ]
  },
  {
   "cell_type": "code",
   "execution_count": 9,
   "metadata": {},
   "outputs": [
    {
     "name": "stderr",
     "output_type": "stream",
     "text": [
      "spawning module 0\n",
      "spawning module 2\n"
     ]
    },
    {
     "name": "stdout",
     "output_type": "stream",
     "text": [
      "==== setting up ezkl ====\n"
     ]
    },
    {
     "name": "stderr",
     "output_type": "stream",
     "text": [
      "spawning module 0\n",
      "spawning module 2\n"
     ]
    },
    {
     "name": "stdout",
     "output_type": "stream",
     "text": [
      "Time setup: 11.355451822280884 seconds\n",
      "=======================================\n",
      "==== Generating Witness ====\n",
      "witness boolean:  1.0\n",
      "witness result 1 : 14.5\n",
      "==== Generating Proof ====\n"
     ]
    },
    {
     "name": "stderr",
     "output_type": "stream",
     "text": [
      "spawning module 0\n",
      "spawning module 2\n"
     ]
    },
    {
     "name": "stdout",
     "output_type": "stream",
     "text": [
      "proof:  {'instances': [[[12907834141446617622, 16863260785082668294, 2215826187815521673, 2191547160659437828], [12436184717236109307, 3962172157175319849, 7381016538464732718, 1011752739694698287], [15846044116984004302, 17434658319873045084, 12685703199754313893, 2889686633444970017]]], 'proof': '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', 'transcript_type': 'EVM'}\n",
      "Time gen prf: 13.64739990234375 seconds\n"
     ]
    }
   ],
   "source": [
    "# Here verifier & prover can concurrently call setup since all params are public to get pk.\n",
    "# Here write as verifier function to emphasize that verifier must calculate its own vk to be sure\n",
    "setup(verifier_model_path, verifier_compiled_model_path, settings_path,vk_path, pk_path )\n",
    "\n",
    "print(\"=======================================\")\n",
    "# Prover generates proof\n",
    "prover_gen_proof(prover_model_path, sel_data_path, witness_path, prover_compiled_model_path, settings_path, proof_path, pk_path)"
   ]
  },
  {
   "cell_type": "code",
   "execution_count": 10,
   "metadata": {},
   "outputs": [
    {
     "name": "stdout",
     "output_type": "stream",
     "text": [
      "Verifier gets result: 14.5\n"
     ]
    }
   ],
   "source": [
    "# Verifier verifies\n",
    "res = verifier_verify(proof_path, settings_path, vk_path, selected_columns, commitment_maps)\n",
    "print(\"Verifier gets result:\", res)"
   ]
  }
 ],
 "metadata": {
  "kernelspec": {
   "display_name": "Python 3",
   "language": "python",
   "name": "python3"
  },
  "language_info": {
   "codemirror_mode": {
    "name": "ipython",
    "version": 3
   },
   "file_extension": ".py",
   "mimetype": "text/x-python",
   "name": "python",
   "nbconvert_exporter": "python",
   "pygments_lexer": "ipython3",
   "version": "3.12.1"
  },
  "orig_nbformat": 4
 },
 "nbformat": 4,
 "nbformat_minor": 2
}
