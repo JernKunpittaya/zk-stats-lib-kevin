{
 "cells": [
  {
   "cell_type": "code",
   "execution_count": 9,
   "metadata": {},
   "outputs": [
    {
     "name": "stdout",
     "output_type": "stream",
     "text": [
      "Requirement already satisfied: ezkl==5.4.2 in /Library/Frameworks/Python.framework/Versions/3.10/lib/python3.10/site-packages (from -r ../../requirements.txt (line 1)) (5.4.2)\n",
      "Requirement already satisfied: torch in /Library/Frameworks/Python.framework/Versions/3.10/lib/python3.10/site-packages (from -r ../../requirements.txt (line 2)) (2.1.1)\n",
      "Requirement already satisfied: requests in /Library/Frameworks/Python.framework/Versions/3.10/lib/python3.10/site-packages (from -r ../../requirements.txt (line 3)) (2.31.0)\n",
      "Requirement already satisfied: scipy in /Library/Frameworks/Python.framework/Versions/3.10/lib/python3.10/site-packages (from -r ../../requirements.txt (line 4)) (1.11.4)\n",
      "Requirement already satisfied: numpy in /Library/Frameworks/Python.framework/Versions/3.10/lib/python3.10/site-packages (from -r ../../requirements.txt (line 5)) (1.26.2)\n",
      "Requirement already satisfied: matplotlib in /Library/Frameworks/Python.framework/Versions/3.10/lib/python3.10/site-packages (from -r ../../requirements.txt (line 6)) (3.8.2)\n",
      "Requirement already satisfied: statistics in /Library/Frameworks/Python.framework/Versions/3.10/lib/python3.10/site-packages (from -r ../../requirements.txt (line 7)) (1.0.3.5)\n",
      "Requirement already satisfied: onnx in /Library/Frameworks/Python.framework/Versions/3.10/lib/python3.10/site-packages (from -r ../../requirements.txt (line 8)) (1.15.0)\n",
      "Requirement already satisfied: sympy in /Library/Frameworks/Python.framework/Versions/3.10/lib/python3.10/site-packages (from torch->-r ../../requirements.txt (line 2)) (1.12)\n",
      "Requirement already satisfied: jinja2 in /Library/Frameworks/Python.framework/Versions/3.10/lib/python3.10/site-packages (from torch->-r ../../requirements.txt (line 2)) (3.1.2)\n",
      "Requirement already satisfied: networkx in /Library/Frameworks/Python.framework/Versions/3.10/lib/python3.10/site-packages (from torch->-r ../../requirements.txt (line 2)) (3.2.1)\n",
      "Requirement already satisfied: fsspec in /Library/Frameworks/Python.framework/Versions/3.10/lib/python3.10/site-packages (from torch->-r ../../requirements.txt (line 2)) (2023.10.0)\n",
      "Requirement already satisfied: filelock in /Library/Frameworks/Python.framework/Versions/3.10/lib/python3.10/site-packages (from torch->-r ../../requirements.txt (line 2)) (3.13.1)\n",
      "Requirement already satisfied: typing-extensions in /Library/Frameworks/Python.framework/Versions/3.10/lib/python3.10/site-packages (from torch->-r ../../requirements.txt (line 2)) (4.8.0)\n",
      "Requirement already satisfied: idna<4,>=2.5 in /Library/Frameworks/Python.framework/Versions/3.10/lib/python3.10/site-packages (from requests->-r ../../requirements.txt (line 3)) (3.6)\n",
      "Requirement already satisfied: urllib3<3,>=1.21.1 in /Library/Frameworks/Python.framework/Versions/3.10/lib/python3.10/site-packages (from requests->-r ../../requirements.txt (line 3)) (2.1.0)\n",
      "Requirement already satisfied: charset-normalizer<4,>=2 in /Library/Frameworks/Python.framework/Versions/3.10/lib/python3.10/site-packages (from requests->-r ../../requirements.txt (line 3)) (3.3.2)\n",
      "Requirement already satisfied: certifi>=2017.4.17 in /Library/Frameworks/Python.framework/Versions/3.10/lib/python3.10/site-packages (from requests->-r ../../requirements.txt (line 3)) (2023.11.17)\n",
      "Requirement already satisfied: python-dateutil>=2.7 in /Users/jernkun/Library/Python/3.10/lib/python/site-packages (from matplotlib->-r ../../requirements.txt (line 6)) (2.8.2)\n",
      "Requirement already satisfied: fonttools>=4.22.0 in /Library/Frameworks/Python.framework/Versions/3.10/lib/python3.10/site-packages (from matplotlib->-r ../../requirements.txt (line 6)) (4.45.1)\n",
      "Requirement already satisfied: kiwisolver>=1.3.1 in /Library/Frameworks/Python.framework/Versions/3.10/lib/python3.10/site-packages (from matplotlib->-r ../../requirements.txt (line 6)) (1.4.5)\n",
      "Requirement already satisfied: pyparsing>=2.3.1 in /Library/Frameworks/Python.framework/Versions/3.10/lib/python3.10/site-packages (from matplotlib->-r ../../requirements.txt (line 6)) (3.1.1)\n",
      "Requirement already satisfied: contourpy>=1.0.1 in /Library/Frameworks/Python.framework/Versions/3.10/lib/python3.10/site-packages (from matplotlib->-r ../../requirements.txt (line 6)) (1.2.0)\n",
      "Requirement already satisfied: cycler>=0.10 in /Library/Frameworks/Python.framework/Versions/3.10/lib/python3.10/site-packages (from matplotlib->-r ../../requirements.txt (line 6)) (0.12.1)\n",
      "Requirement already satisfied: packaging>=20.0 in /Users/jernkun/Library/Python/3.10/lib/python/site-packages (from matplotlib->-r ../../requirements.txt (line 6)) (23.2)\n",
      "Requirement already satisfied: pillow>=8 in /Library/Frameworks/Python.framework/Versions/3.10/lib/python3.10/site-packages (from matplotlib->-r ../../requirements.txt (line 6)) (10.1.0)\n",
      "Requirement already satisfied: docutils>=0.3 in /Library/Frameworks/Python.framework/Versions/3.10/lib/python3.10/site-packages (from statistics->-r ../../requirements.txt (line 7)) (0.20.1)\n",
      "Requirement already satisfied: protobuf>=3.20.2 in /Library/Frameworks/Python.framework/Versions/3.10/lib/python3.10/site-packages (from onnx->-r ../../requirements.txt (line 8)) (4.25.1)\n",
      "Requirement already satisfied: six>=1.5 in /Users/jernkun/Library/Python/3.10/lib/python/site-packages (from python-dateutil>=2.7->matplotlib->-r ../../requirements.txt (line 6)) (1.16.0)\n",
      "Requirement already satisfied: MarkupSafe>=2.0 in /Library/Frameworks/Python.framework/Versions/3.10/lib/python3.10/site-packages (from jinja2->torch->-r ../../requirements.txt (line 2)) (2.1.3)\n",
      "Requirement already satisfied: mpmath>=0.19 in /Library/Frameworks/Python.framework/Versions/3.10/lib/python3.10/site-packages (from sympy->torch->-r ../../requirements.txt (line 2)) (1.3.0)\n",
      "\u001b[33mWARNING: You are using pip version 21.2.3; however, version 23.3.1 is available.\n",
      "You should consider upgrading via the '/usr/local/bin/python3 -m pip install --upgrade pip' command.\u001b[0m\n",
      "Note: you may need to restart the kernel to use updated packages.\n"
     ]
    }
   ],
   "source": [
    "pip install -r ../../requirements.txt"
   ]
  },
  {
   "cell_type": "code",
   "execution_count": 10,
   "metadata": {},
   "outputs": [],
   "source": [
    "import ezkl\n",
    "import torch\n",
    "from torch import nn\n",
    "import json\n",
    "import os\n",
    "import time\n",
    "import scipy\n",
    "import numpy as np\n",
    "import matplotlib.pyplot as plt\n",
    "import statistics\n",
    "import math"
   ]
  },
  {
   "cell_type": "code",
   "execution_count": 11,
   "metadata": {},
   "outputs": [],
   "source": [
    "%run -i ../../zkstats/core.py"
   ]
  },
  {
   "cell_type": "code",
   "execution_count": 12,
   "metadata": {},
   "outputs": [],
   "source": [
    "# init path\n",
    "os.makedirs(os.path.dirname('shared/'), exist_ok=True)\n",
    "os.makedirs(os.path.dirname('prover/'), exist_ok=True)\n",
    "verifier_model_path = os.path.join('shared/verifier.onnx')\n",
    "prover_model_path = os.path.join('prover/prover.onnx')\n",
    "verifier_compiled_model_path = os.path.join('shared/verifier.compiled')\n",
    "prover_compiled_model_path = os.path.join('prover/prover.compiled')\n",
    "pk_path = os.path.join('shared/test.pk')\n",
    "vk_path = os.path.join('shared/test.vk')\n",
    "proof_path = os.path.join('shared/test.pf')\n",
    "settings_path = os.path.join('shared/settings.json')\n",
    "srs_path = os.path.join('shared/kzg.srs')\n",
    "witness_path = os.path.join('prover/witness.json')\n",
    "# this is private to prover since it contains actual data\n",
    "comb_data_path = os.path.join('prover/comb_data.json')"
   ]
  },
  {
   "attachments": {},
   "cell_type": "markdown",
   "metadata": {},
   "source": [
    "=======================  ZK-STATS FLOW ======================="
   ]
  },
  {
   "cell_type": "code",
   "execution_count": 13,
   "metadata": {},
   "outputs": [],
   "source": [
    "data_path = os.path.join('data.json')\n",
    "dummy_data_path = os.path.join('shared/dummy_data.json')\n",
    "\n",
    "f_raw_input = open(data_path, \"r\")\n",
    "data = json.loads(f_raw_input.read())[\"input_data\"][0]\n",
    "data_tensor = torch.reshape(torch.tensor(data),(1, len(data), 1))\n",
    "\n",
    "#  dummy data for data consumer: make the bound approx same as real data\n",
    "dummy_data = np.round(np.random.uniform(1,10,len(data)),1)\n",
    "json.dump({\"input_data\":[dummy_data.tolist()]}, open(dummy_data_path, 'w'))\n",
    "\n",
    "dummy_data_tensor = torch.reshape(torch.tensor(dummy_data), (1, len(dummy_data),1 ))\n",
    "dummy_theory_output = torch.sqrt(torch.var(dummy_data_tensor, correction = 1))\n",
    "dummy_data_mean = torch.mean(dummy_data_tensor)"
   ]
  },
  {
   "cell_type": "code",
   "execution_count": 14,
   "metadata": {},
   "outputs": [],
   "source": [
    "# Verifier/ data consumer side:\n",
    "class verifier_model(nn.Module):\n",
    "    def __init__(self):\n",
    "        super(verifier_model, self).__init__()\n",
    "        # w represents mean in this case\n",
    "        self.w = nn.Parameter(data = dummy_theory_output, requires_grad = False)\n",
    "        self.data_mean = nn.Parameter(data = dummy_data_mean, requires_grad = False)\n",
    "\n",
    "    def forward(self,X):\n",
    "        x_mean_cons = torch.abs(torch.sum(X)-X.size()[1]*(self.data_mean))<=torch.abs(0.01*X.size()[1]*self.data_mean)\n",
    "        return (torch.logical_and(torch.abs(torch.sum((X-self.data_mean)*(X-self.data_mean))-self.w*self.w*(X.size()[1]-1))<=torch.abs(0.02*self.w*self.w*(X.size()[1]-1)),x_mean_cons),self.w)\n",
    "\n",
    "verifier_define_calculation(verifier_model, verifier_model_path, [dummy_data_path])"
   ]
  },
  {
   "cell_type": "code",
   "execution_count": 15,
   "metadata": {},
   "outputs": [
    {
     "name": "stdout",
     "output_type": "stream",
     "text": [
      "theory output:  tensor(14.5800)\n",
      "==== Generate & Calibrate Setting ====\n",
      "scale:  default\n",
      "setting:  {\"run_args\":{\"tolerance\":{\"val\":0.0,\"scale\":1.0},\"input_scale\":2,\"param_scale\":2,\"scale_rebase_multiplier\":10,\"lookup_range\":[-40670,8],\"logrows\":16,\"num_inner_cols\":1,\"variables\":[[\"batch_size\",1]],\"input_visibility\":{\"Hashed\":{\"hash_is_public\":true,\"outlets\":[]}},\"output_visibility\":\"Public\",\"param_visibility\":\"Private\"},\"num_rows\":14432,\"total_assignments\":1520,\"total_const_size\":8,\"model_instance_shapes\":[[1],[1]],\"model_output_scales\":[0,2],\"model_input_scales\":[2],\"module_sizes\":{\"kzg\":[],\"poseidon\":[14432,[1]],\"elgamal\":[0,[0]]},\"required_lookups\":[\"Abs\",{\"GreaterThan\":{\"a\":0.0}}],\"check_mode\":\"UNSAFE\",\"version\":\"5.0.8\",\"num_blinding_factors\":null}\n"
     ]
    }
   ],
   "source": [
    "# Prover/ data owner side\n",
    "theory_output = torch.sqrt(torch.var(data_tensor, correction = 1))\n",
    "data_mean = torch.mean(data_tensor)\n",
    "print(\"theory output: \", theory_output)\n",
    "class prover_model(nn.Module):\n",
    "    def __init__(self):\n",
    "        super(prover_model, self).__init__()\n",
    "        # w represents mean in this case\n",
    "        self.w = nn.Parameter(data = theory_output, requires_grad = False)\n",
    "        self.data_mean = nn.Parameter(data = data_mean, requires_grad = False)\n",
    "    def forward(self,X):\n",
    "        x_mean_cons = torch.abs(torch.sum(X)-X.size()[1]*(self.data_mean))<=torch.abs(0.01*X.size()[1]*self.data_mean)\n",
    "        return (torch.logical_and(torch.abs(torch.sum((X-self.data_mean)*(X-self.data_mean))-self.w*self.w*(X.size()[1]-1))<=torch.abs(0.02*self.w*self.w*(X.size()[1]-1)),x_mean_cons),self.w)\n",
    "\n",
    "prover_gen_settings([data_path], comb_data_path, prover_model,prover_model_path, \"default\", \"resources\", settings_path)"
   ]
  },
  {
   "cell_type": "code",
   "execution_count": 16,
   "metadata": {},
   "outputs": [
    {
     "name": "stdout",
     "output_type": "stream",
     "text": [
      "==== setting up ezkl ====\n"
     ]
    },
    {
     "name": "stderr",
     "output_type": "stream",
     "text": [
      "spawning module 0\n",
      "spawning module 2\n",
      "spawning module 0\n",
      "spawning module 2\n"
     ]
    },
    {
     "name": "stdout",
     "output_type": "stream",
     "text": [
      "Time setup: 7.50620174407959 seconds\n",
      "=======================================\n",
      "Theory output:  tensor(14.5800)\n",
      "==== Generating Witness ====\n",
      "witness boolean:  1.0\n",
      "witness result 1 : 14.5\n",
      "==== Generating Proof ====\n"
     ]
    },
    {
     "name": "stderr",
     "output_type": "stream",
     "text": [
      "spawning module 0\n",
      "spawning module 2\n"
     ]
    },
    {
     "name": "stdout",
     "output_type": "stream",
     "text": [
      "proof:  {'instances': [[[12907834141446617622, 16863260785082668294, 2215826187815521673, 2191547160659437828], [12436184717236109307, 3962172157175319849, 7381016538464732718, 1011752739694698287], [15846044116984004302, 17434658319873045084, 12685703199754313893, 2889686633444970017]]], 'proof': '0e104621edcd26304e287e2f55af8ae24b8662a4e0e9ab9977dc6d36ddd150a12a341f43af2c618c708e250c3b18a96b043f917f513f6fc722cee47d5bd7cb3d20c83f6e2cbb3a1f4d6d6367084c2d620a605117c66651d499c3471c4b9b7bab2b3bc2aa2b8d95d2ee1b06f484dfa59ec8f390aa3e087237c617b2c6badf62bf1ea89601dd825a46ab7f9aa7cc03507a24ca1411e34b809322893413dd1ea98a10d95fe89dd9e31644c7d20213c80930d46d4ee4f31c3e2f456f0022275b28291edcfc58424b5cc6e276dbcf905f61bb83ff724c3a7dc0b2f300a4578eb8958a162dcdaeda0c9a74a68a77a8477794e1d36952002b2d949f9d73d82a8065a85b268fc0c176ac020a9cd2f518f1340c70b35b224d9689d5db3dbaf7b7ef52add601c52d0294e6b5c38cc4a318750ad4cb0969be3f8c78a4c23724ccbd201b196b25064ef950b09f544d4b11c0d4c5da39d19d7e871ed8f07b5d693c4149f2a358171dd9fdd07c0241f7823c875b0b7300a515ecb6cb097fe076d3957294da0f812d2e783f88185bd88d8b3ec10dc2c87863b3660329a92e97638548d3edd3094016dad837f0a742b82b8da3d508a022bf9e0a35715bf136007b961f411d53389a26608ba68ed7076c715b64d10b4430ecf5741f90f3659882916f93aabec2c90e15ca733c0be416d43597c731118a9b31ee5d57030018b499580eb29675dc71a62f2dc38974bb4d9314e28dfbb36eb672cff394b73a2c6af396865c538327e5a1301a727b91a78e336175024a746de9ea91252bd94ce66af34520e3d7166e4bc92874ff3020dee552e64db5dd4ef403b076dc15b04ad6071d1efce1ec406c00de0b6f3acf0d761287f59855e944203f2859aacd2fb5e50540b06a0ffb8fda4f72075bb8b54ecc0d36bf815bddc52a1d3387fd7c0d7c52eaf3ab105ef38be55e6a0cb539100a8d642e90a3f28a82cff6fc90258af61508b021f6e1ebe105ecc96e163855c785c39fc47bf28041dc08ab335c2393dd5d0f5a6e4288a2711affe19d1a56ed711581717f7d97bca8ab74cbb22a1949eac35694ee589aac23c3c0ebe916d8c2ac94cf47077486a66cdbab0cf391c54a88e564762894b0f51e7277dd7205d01a0d425ffe751b1ec36dad8c043d04f777b66f563d192dadd29b334ae39a04a193f32ae095ce56c2a6cc310d189b4180dbd593772fa599fd0323ee179be406b9ea7b0510d6bdc1ac40349659ddfbe623af1b4794f6a5a4e73f3f186bb8e22f7fe051f8c40c0421175b5651160447f180c6d5cc929651356b63308968927a068118ef79b74a34c57cf9360e70670113345f963fccbe153fce3a9e2b3c3bf00383b575f7874faecc89b15a90010ece96d05f159ccbe6d4ea0571e7dec57a7a12aaa1bd76d62e0bfd061c4e74a4db7cfa39a07d026e35c16784bd970e5200a204130f22c0c0277e7d10f03b0575ea1ae7cf7a1b8c25552d10f99736c5f4a9c926e579d0f5bf2da4d33000262b19d29d1636ef816ad8f42d5d580435353427ed1f9bd072d069c8ce782d6045ab1d1b84962363f3cd07aedf78c7b7208ac883831e10fbaab4a0b31bd559957f186a80475fcc9e76894393359928e46b7e64551d0b3197bd49051f93c47ab6a2025ec2ae412fd6d13392ed5c7f37cb26bf492eca2a6386bde78541a93c37107c3cda50f3575f99cfcb810c2b03f2d4531c4397122d7c495e51f1e18b1dbfeed56312f6e007fd1f0064906968d2cd7db45c07601d1b638d66b38c0ac16e6728a4f0a60c9658794c3e9c874dee6439ac23f69a326d0ec5ecb803e513790faeeb6a3e72eb2ac5c6b765f30b2c215b11622c8edc669b1e88f77d7496fd3fa9c4d2cd1ce3452ac1514df104c022805e81282ad6ef0ee601e8bc30080159889db9fb2c3465e5b8c7afb81d324ba017556c6af8826b37eb04d6c423990b5517e08ce2ef26351201a95939a8c617a2dd83b7becfd37c1ef50a4dd7933d525a644721db4188e2dce473a10f8a997e5569a008c45e8a50d0c61997c2763bf62c8e2db8b4f04a575756be7c424c5ac250672e23e4c4cd15cdaa1ef8ea524a5bd0a2d7ce3c0201453a496063b7e48f4dd511f759e5fe6b06856c1297487d00c0d7231c8af8228e9b33c8d0d7c70c11e3efb3468a4dff497829ee1cce027dfb1e89b48fbe611b1b00cfcd405e9a7cb749351e07b6aa1d28a7d3740d312c8c4fe55d1776e566c72bae8dd981bbd4ba36300ae5ca8c27410f8afcbf25d447da0443e28216fedb340ae34fe9001c6f9e66df1c76cbbc723db6bf7d000486047653f4950e89af30d80de556d60278c6d5102dede9e7c9ceb4776f55830c566442ecc9b89fd602a259de0089c8088c4fe2a0d473f050bbdc12db6982832532f3f0cf12d9cc9ed54cb9a5ffcef084a33a59362e0657c863d28336688eeb242b67960777860a8094ee4e5a793256e2a9a436b02f5ce67202ef7b06098a162d0c8bab79c7f0f2e278fc953bcbaad6e6145c1982cfdb5a7934904859071aca1798b343f321d11124b3382b50c501915c10249825b476211c8ad0f55960286d1dc8a0744587fec5e41c11516fa69b872e26970bf954f61d8cf2dad9f2ffc64a26d68ae8918743a1f982a74d8f29d0bb6ee7f9a8ea9ca9f4eead32e5006425e11e442b515bfa931bbdd3548d4816774d06c4d23e9856c9695964abd501d3f8391f0f2f82b6de74dbbfc35438328461eb886a38f4332195e92d5dd1beefa577f80f0822972d198d799286cf33f4cff9f588cb265c3e27d5f4a127f3de7b47baf11e3b05ed3c897674b85b80e879980edaad51a818c08205d6dae8f066c947d22c22105c7b92c16c8d3299ca043fa0f1b22b7a829312c1d1f6d769915399468b740f8479e7daa5b289cfefdfe3c678005f6447f53d2494dc7f8d04c9037c504a160a93482ba28f9dcf33aeadc747dcee8f33e5b71b523355514e241a1d89d4d3b71d7639e7ffbc3277c37ac596a8e59821dff9294e984b478e5dc48586fba99d5125183883c01f22a59dc58927c728db90702808e385da32b08671e8d8d9c0ea5c21e35c8a979d752af1fd70c7ba4f434133dc57911c2c0792b58f8c3c5244ff2d25ff0a3c060822c789ac4349a5208f8216ca98b2b3dd83767d812499e2468d00171d6890ec2bd6cb4b0ac51d08a2aa15f372ea6eae0d047db589d834ed92eac61a8dd2c2c6a79eb312441ab175b6046f92339d5ccd23e5c0ba61c0a8eb3eeb570cfc0a442be26c489ce49d872291787e31f4dc3ca4fed65f9a9e5dd0b70879c40707df99a73ac2980de83fcfed7006037f9f95d57f73fdb4066deaeb273130eb03a8d6f724483aa8a24132aa2fe48df7d323e3da2d062c893851da7eadc340c61b715b99c1876959a026f71e50113344c950aed7f2dfced90ce7ef3cf286a8c818b09c708175b608d1a23ece0c09352793e6081a51f9c06614ee701ed6464cf70b6c750c34492975612eff524be1c521b99a9bfe366d13ae38e36e0c8c22950f2ac7884c5d8d222e048dcc33734fa2df22cb99f84a8390197365b5100d88ec2f19a7b03cebc26ad9c9dd227cc44e778ca4e13ecd51ee544e5ae72fd716e22f8f219189822a054112f30514218a44a1232db263acbfa5ac57cca15003ed3fb3ba21365ffbabe069bf01268628a73bee85864d4e0aa1567e5468d7f906912ccd372a607d7880b3439a2c19dd5281acb1bcc2fc58a2b0346267c0ffba99905514cf06736e0ff9e42f44ca4905af158826a8089a20cafffad5bd734d33244b78ff49152821548bbb06781e4c387a4dc265803da145d19ba379d73dc3169697eb26532f282396bf02fea223be1471e3d9d0caa5a00508ab9884a18e0be408e5b2f64a1c966922c098c5ba37b5324edc382259603b211f570775ab482597c832fe0e35249f54b9c23599f3ad45970934e07b2faa0c46b5c9f1548fc7e482191958c0e70c5fa55fbe37ce935a768ad1739bbe598371cc864610e3a6b1895cec321735622eb82471c2ba79e01924dd73b03fb18e41f2a19ab0be10883ae228d1fdd1d88b061a53056f698ba1ecb013dd6e715a4e8903a0ea74066a39ad31352a1d931a4c25e473a8b9f2bf3f4a2346716607ef8e34abe40dd7b5eb7188da75dc5039701f06170fef46c14755ea0ca8a0c8990b4181946de8ebfe232abbec9954f3faa1ef', 'transcript_type': 'EVM'}\n",
      "Time gen prf: 7.277628183364868 seconds\n"
     ]
    }
   ],
   "source": [
    "# Here verifier & prover can concurrently call setup since all params are public to get pk. \n",
    "# Here write as verifier function to emphasize that verifier must calculate its own vk to be sure\n",
    "verifier_setup(verifier_model_path, verifier_compiled_model_path, settings_path, srs_path,vk_path, pk_path )\n",
    "\n",
    "print(\"=======================================\")\n",
    "# Prover generates proof\n",
    "print(\"Theory output: \", theory_output)\n",
    "prover_gen_proof(prover_model_path, comb_data_path, witness_path, prover_compiled_model_path, settings_path, proof_path, pk_path, srs_path)"
   ]
  },
  {
   "cell_type": "code",
   "execution_count": 17,
   "metadata": {},
   "outputs": [
    {
     "name": "stdout",
     "output_type": "stream",
     "text": [
      "num_inputs:  1\n",
      "prf instances:  [[[12907834141446617622, 16863260785082668294, 2215826187815521673, 2191547160659437828], [12436184717236109307, 3962172157175319849, 7381016538464732718, 1011752739694698287], [15846044116984004302, 17434658319873045084, 12685703199754313893, 2889686633444970017]]]\n",
      "proof boolean:  1.0\n",
      "proof result 1 : 14.5\n",
      "verified\n"
     ]
    }
   ],
   "source": [
    "# Verifier verifies\n",
    "verifier_verify(proof_path, settings_path, vk_path, srs_path)"
   ]
  },
  {
   "cell_type": "code",
   "execution_count": null,
   "metadata": {},
   "outputs": [],
   "source": []
  }
 ],
 "metadata": {
  "kernelspec": {
   "display_name": "Python 3",
   "language": "python",
   "name": "python3"
  },
  "language_info": {
   "codemirror_mode": {
    "name": "ipython",
    "version": 3
   },
   "file_extension": ".py",
   "mimetype": "text/x-python",
   "name": "python",
   "nbconvert_exporter": "python",
   "pygments_lexer": "ipython3",
   "version": "3.10.0"
  },
  "orig_nbformat": 4
 },
 "nbformat": 4,
 "nbformat_minor": 2
}
