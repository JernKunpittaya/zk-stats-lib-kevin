{
 "cells": [
  {
   "cell_type": "code",
   "execution_count": 1,
   "metadata": {},
   "outputs": [
    {
     "name": "stdout",
     "output_type": "stream",
     "text": [
      "Requirement already satisfied: ezkl==5.0.8 in /Library/Frameworks/Python.framework/Versions/3.10/lib/python3.10/site-packages (from -r ../../requirements.txt (line 1)) (5.0.8)\n",
      "Requirement already satisfied: torch in /Library/Frameworks/Python.framework/Versions/3.10/lib/python3.10/site-packages (from -r ../../requirements.txt (line 2)) (2.1.1)\n",
      "Requirement already satisfied: requests in /Library/Frameworks/Python.framework/Versions/3.10/lib/python3.10/site-packages (from -r ../../requirements.txt (line 3)) (2.31.0)\n",
      "Requirement already satisfied: scipy in /Library/Frameworks/Python.framework/Versions/3.10/lib/python3.10/site-packages (from -r ../../requirements.txt (line 4)) (1.11.4)\n",
      "Requirement already satisfied: numpy in /Library/Frameworks/Python.framework/Versions/3.10/lib/python3.10/site-packages (from -r ../../requirements.txt (line 5)) (1.26.2)\n",
      "Requirement already satisfied: matplotlib in /Library/Frameworks/Python.framework/Versions/3.10/lib/python3.10/site-packages (from -r ../../requirements.txt (line 6)) (3.8.2)\n",
      "Requirement already satisfied: statistics in /Library/Frameworks/Python.framework/Versions/3.10/lib/python3.10/site-packages (from -r ../../requirements.txt (line 7)) (1.0.3.5)\n",
      "Requirement already satisfied: onnx in /Library/Frameworks/Python.framework/Versions/3.10/lib/python3.10/site-packages (from -r ../../requirements.txt (line 8)) (1.15.0)\n",
      "Requirement already satisfied: filelock in /Library/Frameworks/Python.framework/Versions/3.10/lib/python3.10/site-packages (from torch->-r ../../requirements.txt (line 2)) (3.13.1)\n",
      "Requirement already satisfied: networkx in /Library/Frameworks/Python.framework/Versions/3.10/lib/python3.10/site-packages (from torch->-r ../../requirements.txt (line 2)) (3.2.1)\n",
      "Requirement already satisfied: fsspec in /Library/Frameworks/Python.framework/Versions/3.10/lib/python3.10/site-packages (from torch->-r ../../requirements.txt (line 2)) (2023.10.0)\n",
      "Requirement already satisfied: sympy in /Library/Frameworks/Python.framework/Versions/3.10/lib/python3.10/site-packages (from torch->-r ../../requirements.txt (line 2)) (1.12)\n",
      "Requirement already satisfied: typing-extensions in /Library/Frameworks/Python.framework/Versions/3.10/lib/python3.10/site-packages (from torch->-r ../../requirements.txt (line 2)) (4.8.0)\n",
      "Requirement already satisfied: jinja2 in /Library/Frameworks/Python.framework/Versions/3.10/lib/python3.10/site-packages (from torch->-r ../../requirements.txt (line 2)) (3.1.2)\n",
      "Requirement already satisfied: urllib3<3,>=1.21.1 in /Library/Frameworks/Python.framework/Versions/3.10/lib/python3.10/site-packages (from requests->-r ../../requirements.txt (line 3)) (2.1.0)\n",
      "Requirement already satisfied: certifi>=2017.4.17 in /Library/Frameworks/Python.framework/Versions/3.10/lib/python3.10/site-packages (from requests->-r ../../requirements.txt (line 3)) (2023.11.17)\n",
      "Requirement already satisfied: charset-normalizer<4,>=2 in /Library/Frameworks/Python.framework/Versions/3.10/lib/python3.10/site-packages (from requests->-r ../../requirements.txt (line 3)) (3.3.2)\n",
      "Requirement already satisfied: idna<4,>=2.5 in /Library/Frameworks/Python.framework/Versions/3.10/lib/python3.10/site-packages (from requests->-r ../../requirements.txt (line 3)) (3.6)\n",
      "Requirement already satisfied: cycler>=0.10 in /Library/Frameworks/Python.framework/Versions/3.10/lib/python3.10/site-packages (from matplotlib->-r ../../requirements.txt (line 6)) (0.12.1)\n",
      "Requirement already satisfied: kiwisolver>=1.3.1 in /Library/Frameworks/Python.framework/Versions/3.10/lib/python3.10/site-packages (from matplotlib->-r ../../requirements.txt (line 6)) (1.4.5)\n",
      "Requirement already satisfied: fonttools>=4.22.0 in /Library/Frameworks/Python.framework/Versions/3.10/lib/python3.10/site-packages (from matplotlib->-r ../../requirements.txt (line 6)) (4.45.1)\n",
      "Requirement already satisfied: packaging>=20.0 in /Users/jernkun/Library/Python/3.10/lib/python/site-packages (from matplotlib->-r ../../requirements.txt (line 6)) (23.2)\n",
      "Requirement already satisfied: python-dateutil>=2.7 in /Users/jernkun/Library/Python/3.10/lib/python/site-packages (from matplotlib->-r ../../requirements.txt (line 6)) (2.8.2)\n",
      "Requirement already satisfied: contourpy>=1.0.1 in /Library/Frameworks/Python.framework/Versions/3.10/lib/python3.10/site-packages (from matplotlib->-r ../../requirements.txt (line 6)) (1.2.0)\n",
      "Requirement already satisfied: pillow>=8 in /Library/Frameworks/Python.framework/Versions/3.10/lib/python3.10/site-packages (from matplotlib->-r ../../requirements.txt (line 6)) (10.1.0)\n",
      "Requirement already satisfied: pyparsing>=2.3.1 in /Library/Frameworks/Python.framework/Versions/3.10/lib/python3.10/site-packages (from matplotlib->-r ../../requirements.txt (line 6)) (3.1.1)\n",
      "Requirement already satisfied: docutils>=0.3 in /Library/Frameworks/Python.framework/Versions/3.10/lib/python3.10/site-packages (from statistics->-r ../../requirements.txt (line 7)) (0.20.1)\n",
      "Requirement already satisfied: protobuf>=3.20.2 in /Library/Frameworks/Python.framework/Versions/3.10/lib/python3.10/site-packages (from onnx->-r ../../requirements.txt (line 8)) (4.25.1)\n",
      "Requirement already satisfied: six>=1.5 in /Users/jernkun/Library/Python/3.10/lib/python/site-packages (from python-dateutil>=2.7->matplotlib->-r ../../requirements.txt (line 6)) (1.16.0)\n",
      "Requirement already satisfied: MarkupSafe>=2.0 in /Library/Frameworks/Python.framework/Versions/3.10/lib/python3.10/site-packages (from jinja2->torch->-r ../../requirements.txt (line 2)) (2.1.3)\n",
      "Requirement already satisfied: mpmath>=0.19 in /Library/Frameworks/Python.framework/Versions/3.10/lib/python3.10/site-packages (from sympy->torch->-r ../../requirements.txt (line 2)) (1.3.0)\n",
      "\u001b[33mWARNING: You are using pip version 21.2.3; however, version 23.3.1 is available.\n",
      "You should consider upgrading via the '/usr/local/bin/python3 -m pip install --upgrade pip' command.\u001b[0m\n",
      "Note: you may need to restart the kernel to use updated packages.\n"
     ]
    }
   ],
   "source": [
    "pip install -r ../../requirements.txt"
   ]
  },
  {
   "cell_type": "code",
   "execution_count": 1,
   "metadata": {},
   "outputs": [],
   "source": [
    "import ezkl\n",
    "import torch\n",
    "from torch import nn\n",
    "import json\n",
    "import os\n",
    "import time\n",
    "import scipy\n",
    "import numpy as np\n",
    "import matplotlib.pyplot as plt\n",
    "import statistics\n",
    "import math"
   ]
  },
  {
   "cell_type": "code",
   "execution_count": 2,
   "metadata": {},
   "outputs": [],
   "source": [
    "%run -i ../../core.py"
   ]
  },
  {
   "cell_type": "code",
   "execution_count": 3,
   "metadata": {},
   "outputs": [],
   "source": [
    "# init path\n",
    "os.makedirs(os.path.dirname('shared/'), exist_ok=True)\n",
    "os.makedirs(os.path.dirname('prover/'), exist_ok=True)\n",
    "verifier_model_path = os.path.join('shared/verifier.onnx')\n",
    "prover_model_path = os.path.join('prover/prover.onnx')\n",
    "verifier_compiled_model_path = os.path.join('shared/verifier.compiled')\n",
    "prover_compiled_model_path = os.path.join('prover/prover.compiled')\n",
    "pk_path = os.path.join('shared/test.pk')\n",
    "vk_path = os.path.join('shared/test.vk')\n",
    "proof_path = os.path.join('shared/test.pf')\n",
    "settings_path = os.path.join('shared/settings.json')\n",
    "srs_path = os.path.join('shared/kzg.srs')\n",
    "witness_path = os.path.join('prover/witness.json')\n",
    "# this is private to prover since it contains actual data\n",
    "comb_data_path = os.path.join('prover/comb_data.json')"
   ]
  },
  {
   "attachments": {},
   "cell_type": "markdown",
   "metadata": {},
   "source": [
    "=======================  ZK-STATS FLOW ======================="
   ]
  },
  {
   "cell_type": "code",
   "execution_count": 4,
   "metadata": {},
   "outputs": [],
   "source": [
    "data_path = os.path.join('data.json')\n",
    "dummy_data_path = os.path.join('generated/dummy_data.json')\n",
    "\n",
    "f_raw_input = open(data_path, \"r\")\n",
    "data = json.loads(f_raw_input.read())[\"input_data\"][0]\n",
    "data_tensor = torch.reshape(torch.tensor(data),(1, len(data), 1))\n",
    "\n",
    "#  dummy data for data consumer: make the bound approx same as real data\n",
    "dummy_data = np.random.uniform(min(data), max(data), len(data))\n",
    "json.dump({\"input_data\":[dummy_data.tolist()]}, open(dummy_data_path, 'w'))\n",
    "\n",
    "dummy_data_tensor = torch.reshape(torch.tensor(dummy_data), (1, len(dummy_data),1 ))\n",
    "dummy_theory_output = torch.sqrt(torch.var(dummy_data_tensor, correction = 1))\n",
    "dummy_data_mean = torch.mean(dummy_data_tensor)"
   ]
  },
  {
   "cell_type": "code",
   "execution_count": 5,
   "metadata": {},
   "outputs": [
    {
     "name": "stderr",
     "output_type": "stream",
     "text": [
      "/Library/Frameworks/Python.framework/Versions/3.10/lib/python3.10/site-packages/torch/onnx/symbolic_opset9.py:2174: FutureWarning: 'torch.onnx.symbolic_opset9._cast_Bool' is deprecated in version 2.0 and will be removed in the future. Please Avoid using this function and create a Cast node instead.\n",
      "  return fn(g, to_cast_func(g, input, False), to_cast_func(g, other, False))\n"
     ]
    }
   ],
   "source": [
    "# Verifier/ data consumer side:\n",
    "class verifier_model(nn.Module):\n",
    "    def __init__(self):\n",
    "        super(verifier_model, self).__init__()\n",
    "        # w represents mean in this case\n",
    "        self.w = nn.Parameter(data = dummy_theory_output, requires_grad = False)\n",
    "        self.data_mean = nn.Parameter(data = dummy_data_mean, requires_grad = False)\n",
    "\n",
    "    def forward(self,X):\n",
    "        # some expression of tolerance to error in the inference\n",
    "        x_mean_cons = torch.abs(torch.sum(X)-X.size()[1]*(self.data_mean))<0.01*X.size()[1]*(self.data_mean)\n",
    "        return (torch.logical_and(torch.abs(torch.sum((X-self.data_mean)*(X-self.data_mean))-self.w*self.w*(X.size()[1]-1))<0.02*self.w*self.w*(X.size()[1]-1),x_mean_cons),self.w)\n",
    "\n",
    "verifier_define_calculation(verifier_model, verifier_model_path, [dummy_data_path])"
   ]
  },
  {
   "cell_type": "code",
   "execution_count": 6,
   "metadata": {},
   "outputs": [
    {
     "name": "stdout",
     "output_type": "stream",
     "text": [
      "theory output:  tensor(14.5800)\n",
      "==== Generate & Calibrate Setting ====\n",
      "scale:  [0]\n",
      "setting:  {\"run_args\":{\"tolerance\":{\"val\":0.0,\"scale\":1.0},\"input_scale\":0,\"param_scale\":0,\"scale_rebase_multiplier\":10,\"lookup_range\":[0,1272],\"logrows\":14,\"num_inner_cols\":1,\"variables\":[[\"batch_size\",1]],\"input_visibility\":{\"Hashed\":{\"hash_is_public\":true,\"outlets\":[]}},\"output_visibility\":\"Public\",\"param_visibility\":\"Private\"},\"num_rows\":14432,\"total_assignments\":1512,\"total_const_size\":0,\"model_instance_shapes\":[[1],[1]],\"model_output_scales\":[0,0],\"model_input_scales\":[0],\"module_sizes\":{\"kzg\":[],\"poseidon\":[14432,[1]],\"elgamal\":[0,[0]]},\"required_lookups\":[\"Abs\",{\"GreaterThan\":{\"a\":0.0}}],\"check_mode\":\"UNSAFE\",\"version\":\"5.0.8\",\"num_blinding_factors\":null}\n"
     ]
    }
   ],
   "source": [
    "# Prover/ data owner side\n",
    "theory_output = torch.sqrt(torch.var(data_tensor, correction = 1))\n",
    "data_mean = torch.mean(data_tensor)\n",
    "print(\"theory output: \", theory_output)\n",
    "class prover_model(nn.Module):\n",
    "    def __init__(self):\n",
    "        super(prover_model, self).__init__()\n",
    "        # w represents mean in this case\n",
    "        self.w = nn.Parameter(data = theory_output, requires_grad = False)\n",
    "        self.data_mean = nn.Parameter(data = data_mean, requires_grad = False)\n",
    "    def forward(self,X):\n",
    "        # some expression of tolerance to error in the inference\n",
    "        x_mean_cons = torch.abs(torch.sum(X)-X.size()[1]*(self.data_mean))<0.01*X.size()[1]*(self.data_mean)\n",
    "        return (torch.logical_and(torch.abs(torch.sum((X-self.data_mean)*(X-self.data_mean))-self.w*self.w*(X.size()[1]-1))<0.02*self.w*self.w*(X.size()[1]-1),x_mean_cons),self.w)\n",
    "\n",
    "prover_gen_settings([data_path], comb_data_path, prover_model,prover_model_path, [0], \"resources\", settings_path)"
   ]
  },
  {
   "cell_type": "code",
   "execution_count": 7,
   "metadata": {},
   "outputs": [
    {
     "name": "stdout",
     "output_type": "stream",
     "text": [
      "==== setting up ezkl ====\n"
     ]
    },
    {
     "name": "stderr",
     "output_type": "stream",
     "text": [
      "spawning module 0\n",
      "spawning module 2\n",
      "spawning module 0\n",
      "spawning module 2\n",
      "spawning module 0\n"
     ]
    },
    {
     "name": "stdout",
     "output_type": "stream",
     "text": [
      "Time setup: 1.3867483139038086 seconds\n",
      "=======================================\n",
      "Theory output:  tensor(14.5800)\n",
      "==== Generating Witness ====\n",
      "witness boolean:  1.0\n",
      "witness result 1 : 15.0\n",
      "==== Generating Proof ====\n"
     ]
    },
    {
     "name": "stderr",
     "output_type": "stream",
     "text": [
      "spawning module 2\n"
     ]
    },
    {
     "name": "stdout",
     "output_type": "stream",
     "text": [
      "proof:  {'instances': [[[10512373747352303962, 11798585516934984832, 13421675179368312123, 2200257403316998104], [12436184717236109307, 3962172157175319849, 7381016538464732718, 1011752739694698287], [956231351009279921, 10951436676983309100, 2250248050743556928, 1228298028208591648]]], 'proof': '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', 'transcript_type': 'EVM'}\n",
      "Time gen prf: 1.9291491508483887 seconds\n"
     ]
    }
   ],
   "source": [
    "# Here verifier & prover can concurrently call setup since all params are public to get pk. \n",
    "# Here write as verifier function to emphasize that verifier must calculate its own vk to be sure\n",
    "verifier_setup(verifier_model_path, verifier_compiled_model_path, settings_path, srs_path,vk_path, pk_path )\n",
    "\n",
    "print(\"=======================================\")\n",
    "# Prover generates proof\n",
    "print(\"Theory output: \", theory_output)\n",
    "prover_gen_proof(prover_model_path, comb_data_path, witness_path, prover_compiled_model_path, settings_path, proof_path, pk_path, srs_path)"
   ]
  },
  {
   "cell_type": "code",
   "execution_count": 8,
   "metadata": {},
   "outputs": [
    {
     "name": "stdout",
     "output_type": "stream",
     "text": [
      "num_inputs:  1\n",
      "prf instances:  [[[10512373747352303962, 11798585516934984832, 13421675179368312123, 2200257403316998104], [12436184717236109307, 3962172157175319849, 7381016538464732718, 1011752739694698287], [956231351009279921, 10951436676983309100, 2250248050743556928, 1228298028208591648]]]\n",
      "proof boolean:  1.0\n",
      "proof result 1 : 15.0\n",
      "verified\n"
     ]
    }
   ],
   "source": [
    "# Verifier verifies\n",
    "verifier_verify(proof_path, settings_path, vk_path, srs_path)"
   ]
  },
  {
   "cell_type": "code",
   "execution_count": null,
   "metadata": {},
   "outputs": [],
   "source": []
  }
 ],
 "metadata": {
  "kernelspec": {
   "display_name": "Python 3",
   "language": "python",
   "name": "python3"
  },
  "language_info": {
   "codemirror_mode": {
    "name": "ipython",
    "version": 3
   },
   "file_extension": ".py",
   "mimetype": "text/x-python",
   "name": "python",
   "nbconvert_exporter": "python",
   "pygments_lexer": "ipython3",
   "version": "3.10.0"
  },
  "orig_nbformat": 4
 },
 "nbformat": 4,
 "nbformat_minor": 2
}
