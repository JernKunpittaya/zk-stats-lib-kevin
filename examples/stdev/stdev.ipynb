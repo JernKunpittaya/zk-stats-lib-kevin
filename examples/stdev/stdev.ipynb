{
 "cells": [
  {
   "cell_type": "code",
   "execution_count": 1,
   "metadata": {},
   "outputs": [
    {
     "name": "stdout",
     "output_type": "stream",
     "text": [
      "Requirement already satisfied: ezkl==5.0.8 in /Library/Frameworks/Python.framework/Versions/3.10/lib/python3.10/site-packages (from -r ../../requirements.txt (line 1)) (5.0.8)\n",
      "Requirement already satisfied: torch in /Library/Frameworks/Python.framework/Versions/3.10/lib/python3.10/site-packages (from -r ../../requirements.txt (line 2)) (2.1.1)\n",
      "Requirement already satisfied: requests in /Library/Frameworks/Python.framework/Versions/3.10/lib/python3.10/site-packages (from -r ../../requirements.txt (line 3)) (2.31.0)\n",
      "Requirement already satisfied: scipy in /Library/Frameworks/Python.framework/Versions/3.10/lib/python3.10/site-packages (from -r ../../requirements.txt (line 4)) (1.11.4)\n",
      "Requirement already satisfied: numpy in /Library/Frameworks/Python.framework/Versions/3.10/lib/python3.10/site-packages (from -r ../../requirements.txt (line 5)) (1.26.2)\n",
      "Requirement already satisfied: matplotlib in /Library/Frameworks/Python.framework/Versions/3.10/lib/python3.10/site-packages (from -r ../../requirements.txt (line 6)) (3.8.2)\n",
      "Requirement already satisfied: statistics in /Library/Frameworks/Python.framework/Versions/3.10/lib/python3.10/site-packages (from -r ../../requirements.txt (line 7)) (1.0.3.5)\n",
      "Requirement already satisfied: onnx in /Library/Frameworks/Python.framework/Versions/3.10/lib/python3.10/site-packages (from -r ../../requirements.txt (line 8)) (1.15.0)\n",
      "Requirement already satisfied: filelock in /Library/Frameworks/Python.framework/Versions/3.10/lib/python3.10/site-packages (from torch->-r ../../requirements.txt (line 2)) (3.13.1)\n",
      "Requirement already satisfied: networkx in /Library/Frameworks/Python.framework/Versions/3.10/lib/python3.10/site-packages (from torch->-r ../../requirements.txt (line 2)) (3.2.1)\n",
      "Requirement already satisfied: fsspec in /Library/Frameworks/Python.framework/Versions/3.10/lib/python3.10/site-packages (from torch->-r ../../requirements.txt (line 2)) (2023.10.0)\n",
      "Requirement already satisfied: sympy in /Library/Frameworks/Python.framework/Versions/3.10/lib/python3.10/site-packages (from torch->-r ../../requirements.txt (line 2)) (1.12)\n",
      "Requirement already satisfied: typing-extensions in /Library/Frameworks/Python.framework/Versions/3.10/lib/python3.10/site-packages (from torch->-r ../../requirements.txt (line 2)) (4.8.0)\n",
      "Requirement already satisfied: jinja2 in /Library/Frameworks/Python.framework/Versions/3.10/lib/python3.10/site-packages (from torch->-r ../../requirements.txt (line 2)) (3.1.2)\n",
      "Requirement already satisfied: urllib3<3,>=1.21.1 in /Library/Frameworks/Python.framework/Versions/3.10/lib/python3.10/site-packages (from requests->-r ../../requirements.txt (line 3)) (2.1.0)\n",
      "Requirement already satisfied: certifi>=2017.4.17 in /Library/Frameworks/Python.framework/Versions/3.10/lib/python3.10/site-packages (from requests->-r ../../requirements.txt (line 3)) (2023.11.17)\n",
      "Requirement already satisfied: charset-normalizer<4,>=2 in /Library/Frameworks/Python.framework/Versions/3.10/lib/python3.10/site-packages (from requests->-r ../../requirements.txt (line 3)) (3.3.2)\n",
      "Requirement already satisfied: idna<4,>=2.5 in /Library/Frameworks/Python.framework/Versions/3.10/lib/python3.10/site-packages (from requests->-r ../../requirements.txt (line 3)) (3.6)\n",
      "Requirement already satisfied: cycler>=0.10 in /Library/Frameworks/Python.framework/Versions/3.10/lib/python3.10/site-packages (from matplotlib->-r ../../requirements.txt (line 6)) (0.12.1)\n",
      "Requirement already satisfied: kiwisolver>=1.3.1 in /Library/Frameworks/Python.framework/Versions/3.10/lib/python3.10/site-packages (from matplotlib->-r ../../requirements.txt (line 6)) (1.4.5)\n",
      "Requirement already satisfied: fonttools>=4.22.0 in /Library/Frameworks/Python.framework/Versions/3.10/lib/python3.10/site-packages (from matplotlib->-r ../../requirements.txt (line 6)) (4.45.1)\n",
      "Requirement already satisfied: packaging>=20.0 in /Users/jernkun/Library/Python/3.10/lib/python/site-packages (from matplotlib->-r ../../requirements.txt (line 6)) (23.2)\n",
      "Requirement already satisfied: python-dateutil>=2.7 in /Users/jernkun/Library/Python/3.10/lib/python/site-packages (from matplotlib->-r ../../requirements.txt (line 6)) (2.8.2)\n",
      "Requirement already satisfied: contourpy>=1.0.1 in /Library/Frameworks/Python.framework/Versions/3.10/lib/python3.10/site-packages (from matplotlib->-r ../../requirements.txt (line 6)) (1.2.0)\n",
      "Requirement already satisfied: pillow>=8 in /Library/Frameworks/Python.framework/Versions/3.10/lib/python3.10/site-packages (from matplotlib->-r ../../requirements.txt (line 6)) (10.1.0)\n",
      "Requirement already satisfied: pyparsing>=2.3.1 in /Library/Frameworks/Python.framework/Versions/3.10/lib/python3.10/site-packages (from matplotlib->-r ../../requirements.txt (line 6)) (3.1.1)\n",
      "Requirement already satisfied: docutils>=0.3 in /Library/Frameworks/Python.framework/Versions/3.10/lib/python3.10/site-packages (from statistics->-r ../../requirements.txt (line 7)) (0.20.1)\n",
      "Requirement already satisfied: protobuf>=3.20.2 in /Library/Frameworks/Python.framework/Versions/3.10/lib/python3.10/site-packages (from onnx->-r ../../requirements.txt (line 8)) (4.25.1)\n",
      "Requirement already satisfied: six>=1.5 in /Users/jernkun/Library/Python/3.10/lib/python/site-packages (from python-dateutil>=2.7->matplotlib->-r ../../requirements.txt (line 6)) (1.16.0)\n",
      "Requirement already satisfied: MarkupSafe>=2.0 in /Library/Frameworks/Python.framework/Versions/3.10/lib/python3.10/site-packages (from jinja2->torch->-r ../../requirements.txt (line 2)) (2.1.3)\n",
      "Requirement already satisfied: mpmath>=0.19 in /Library/Frameworks/Python.framework/Versions/3.10/lib/python3.10/site-packages (from sympy->torch->-r ../../requirements.txt (line 2)) (1.3.0)\n",
      "\u001b[33mWARNING: You are using pip version 21.2.3; however, version 23.3.1 is available.\n",
      "You should consider upgrading via the '/usr/local/bin/python3 -m pip install --upgrade pip' command.\u001b[0m\n",
      "Note: you may need to restart the kernel to use updated packages.\n"
     ]
    }
   ],
   "source": [
    "pip install -r ../../requirements.txt"
   ]
  },
  {
   "cell_type": "code",
   "execution_count": 1,
   "metadata": {},
   "outputs": [],
   "source": [
    "import ezkl\n",
    "import torch\n",
    "from torch import nn\n",
    "import json\n",
    "import os\n",
    "import time\n",
    "import scipy\n",
    "import numpy as np\n",
    "import matplotlib.pyplot as plt\n",
    "import statistics\n",
    "import math"
   ]
  },
  {
   "cell_type": "code",
   "execution_count": 2,
   "metadata": {},
   "outputs": [],
   "source": [
    "%run -i ../../core.py"
   ]
  },
  {
   "cell_type": "code",
   "execution_count": 3,
   "metadata": {},
   "outputs": [],
   "source": [
    "# init path\n",
    "os.makedirs(os.path.dirname('shared/'), exist_ok=True)\n",
    "os.makedirs(os.path.dirname('prover/'), exist_ok=True)\n",
    "verifier_model_path = os.path.join('shared/verifier.onnx')\n",
    "prover_model_path = os.path.join('prover/prover.onnx')\n",
    "verifier_compiled_model_path = os.path.join('shared/verifier.compiled')\n",
    "prover_compiled_model_path = os.path.join('prover/prover.compiled')\n",
    "pk_path = os.path.join('shared/test.pk')\n",
    "vk_path = os.path.join('shared/test.vk')\n",
    "proof_path = os.path.join('shared/test.pf')\n",
    "settings_path = os.path.join('shared/settings.json')\n",
    "srs_path = os.path.join('shared/kzg.srs')\n",
    "witness_path = os.path.join('prover/witness.json')\n",
    "# this is private to prover since it contains actual data\n",
    "comb_data_path = os.path.join('prover/comb_data.json')"
   ]
  },
  {
   "attachments": {},
   "cell_type": "markdown",
   "metadata": {},
   "source": [
    "=======================  ZK-STATS FLOW ======================="
   ]
  },
  {
   "cell_type": "code",
   "execution_count": 4,
   "metadata": {},
   "outputs": [],
   "source": [
    "data_path = os.path.join('data.json')\n",
    "dummy_data_path = os.path.join('shared/dummy_data.json')\n",
    "\n",
    "f_raw_input = open(data_path, \"r\")\n",
    "data = json.loads(f_raw_input.read())[\"input_data\"][0]\n",
    "data_tensor = torch.reshape(torch.tensor(data),(1, len(data), 1))\n",
    "\n",
    "#  dummy data for data consumer: make the bound approx same as real data\n",
    "dummy_data = np.random.uniform(min(data), max(data), len(data))\n",
    "json.dump({\"input_data\":[dummy_data.tolist()]}, open(dummy_data_path, 'w'))\n",
    "\n",
    "dummy_data_tensor = torch.reshape(torch.tensor(dummy_data), (1, len(dummy_data),1 ))\n",
    "dummy_theory_output = torch.sqrt(torch.var(dummy_data_tensor, correction = 1))\n",
    "dummy_data_mean = torch.mean(dummy_data_tensor)"
   ]
  },
  {
   "cell_type": "code",
   "execution_count": 5,
   "metadata": {},
   "outputs": [
    {
     "name": "stderr",
     "output_type": "stream",
     "text": [
      "/Library/Frameworks/Python.framework/Versions/3.10/lib/python3.10/site-packages/torch/onnx/symbolic_opset9.py:2174: FutureWarning: 'torch.onnx.symbolic_opset9._cast_Bool' is deprecated in version 2.0 and will be removed in the future. Please Avoid using this function and create a Cast node instead.\n",
      "  return fn(g, to_cast_func(g, input, False), to_cast_func(g, other, False))\n"
     ]
    }
   ],
   "source": [
    "# Verifier/ data consumer side:\n",
    "class verifier_model(nn.Module):\n",
    "    def __init__(self):\n",
    "        super(verifier_model, self).__init__()\n",
    "        # w represents mean in this case\n",
    "        self.w = nn.Parameter(data = dummy_theory_output, requires_grad = False)\n",
    "        self.data_mean = nn.Parameter(data = dummy_data_mean, requires_grad = False)\n",
    "\n",
    "    def forward(self,X):\n",
    "        x_mean_cons = torch.abs(torch.sum(X)-X.size()[1]*(self.data_mean))<=torch.abs(0.01*X.size()[1]*self.data_mean)\n",
    "        return (torch.logical_and(torch.abs(torch.sum((X-self.data_mean)*(X-self.data_mean))-self.w*self.w*(X.size()[1]-1))<=torch.abs(0.02*self.w*self.w*(X.size()[1]-1)),x_mean_cons),self.w)\n",
    "\n",
    "verifier_define_calculation(verifier_model, verifier_model_path, [dummy_data_path])"
   ]
  },
  {
   "cell_type": "code",
   "execution_count": 6,
   "metadata": {},
   "outputs": [
    {
     "name": "stdout",
     "output_type": "stream",
     "text": [
      "theory output:  tensor(14.5800)\n",
      "==== Generate & Calibrate Setting ====\n",
      "scale:  default\n",
      "setting:  {\"run_args\":{\"tolerance\":{\"val\":0.0,\"scale\":1.0},\"input_scale\":2,\"param_scale\":2,\"scale_rebase_multiplier\":10,\"lookup_range\":[-40670,8],\"logrows\":16,\"num_inner_cols\":1,\"variables\":[[\"batch_size\",1]],\"input_visibility\":{\"Hashed\":{\"hash_is_public\":true,\"outlets\":[]}},\"output_visibility\":\"Public\",\"param_visibility\":\"Private\"},\"num_rows\":14432,\"total_assignments\":1520,\"total_const_size\":8,\"model_instance_shapes\":[[1],[1]],\"model_output_scales\":[0,2],\"model_input_scales\":[2],\"module_sizes\":{\"kzg\":[],\"poseidon\":[14432,[1]],\"elgamal\":[0,[0]]},\"required_lookups\":[\"Abs\",{\"GreaterThan\":{\"a\":0.0}}],\"check_mode\":\"UNSAFE\",\"version\":\"5.0.8\",\"num_blinding_factors\":null}\n"
     ]
    }
   ],
   "source": [
    "# Prover/ data owner side\n",
    "theory_output = torch.sqrt(torch.var(data_tensor, correction = 1))\n",
    "data_mean = torch.mean(data_tensor)\n",
    "print(\"theory output: \", theory_output)\n",
    "class prover_model(nn.Module):\n",
    "    def __init__(self):\n",
    "        super(prover_model, self).__init__()\n",
    "        # w represents mean in this case\n",
    "        self.w = nn.Parameter(data = theory_output, requires_grad = False)\n",
    "        self.data_mean = nn.Parameter(data = data_mean, requires_grad = False)\n",
    "    def forward(self,X):\n",
    "        x_mean_cons = torch.abs(torch.sum(X)-X.size()[1]*(self.data_mean))<=torch.abs(0.01*X.size()[1]*self.data_mean)\n",
    "        return (torch.logical_and(torch.abs(torch.sum((X-self.data_mean)*(X-self.data_mean))-self.w*self.w*(X.size()[1]-1))<=torch.abs(0.02*self.w*self.w*(X.size()[1]-1)),x_mean_cons),self.w)\n",
    "\n",
    "prover_gen_settings([data_path], comb_data_path, prover_model,prover_model_path, \"default\", \"resources\", settings_path)"
   ]
  },
  {
   "cell_type": "code",
   "execution_count": 7,
   "metadata": {},
   "outputs": [
    {
     "name": "stdout",
     "output_type": "stream",
     "text": [
      "==== setting up ezkl ====\n"
     ]
    },
    {
     "name": "stderr",
     "output_type": "stream",
     "text": [
      "spawning module 0\n",
      "spawning module 2\n",
      "spawning module 0\n",
      "spawning module 2\n"
     ]
    },
    {
     "name": "stdout",
     "output_type": "stream",
     "text": [
      "Time setup: 5.368739128112793 seconds\n",
      "=======================================\n",
      "Theory output:  tensor(14.5800)\n",
      "==== Generating Witness ====\n",
      "witness boolean:  1.0\n",
      "witness result 1 : 14.5\n",
      "==== Generating Proof ====\n"
     ]
    },
    {
     "name": "stderr",
     "output_type": "stream",
     "text": [
      "spawning module 0\n",
      "spawning module 2\n"
     ]
    },
    {
     "name": "stdout",
     "output_type": "stream",
     "text": [
      "proof:  {'instances': [[[12907834141446617622, 16863260785082668294, 2215826187815521673, 2191547160659437828], [12436184717236109307, 3962172157175319849, 7381016538464732718, 1011752739694698287], [15846044116984004302, 17434658319873045084, 12685703199754313893, 2889686633444970017]]], 'proof': '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', 'transcript_type': 'EVM'}\n",
      "Time gen prf: 6.088902950286865 seconds\n"
     ]
    }
   ],
   "source": [
    "# Here verifier & prover can concurrently call setup since all params are public to get pk. \n",
    "# Here write as verifier function to emphasize that verifier must calculate its own vk to be sure\n",
    "verifier_setup(verifier_model_path, verifier_compiled_model_path, settings_path, srs_path,vk_path, pk_path )\n",
    "\n",
    "print(\"=======================================\")\n",
    "# Prover generates proof\n",
    "print(\"Theory output: \", theory_output)\n",
    "prover_gen_proof(prover_model_path, comb_data_path, witness_path, prover_compiled_model_path, settings_path, proof_path, pk_path, srs_path)"
   ]
  },
  {
   "cell_type": "code",
   "execution_count": 8,
   "metadata": {},
   "outputs": [
    {
     "name": "stdout",
     "output_type": "stream",
     "text": [
      "num_inputs:  1\n",
      "prf instances:  [[[12907834141446617622, 16863260785082668294, 2215826187815521673, 2191547160659437828], [12436184717236109307, 3962172157175319849, 7381016538464732718, 1011752739694698287], [15846044116984004302, 17434658319873045084, 12685703199754313893, 2889686633444970017]]]\n",
      "proof boolean:  1.0\n",
      "proof result 1 : 14.5\n",
      "verified\n"
     ]
    }
   ],
   "source": [
    "# Verifier verifies\n",
    "verifier_verify(proof_path, settings_path, vk_path, srs_path)"
   ]
  },
  {
   "cell_type": "code",
   "execution_count": null,
   "metadata": {},
   "outputs": [],
   "source": []
  }
 ],
 "metadata": {
  "kernelspec": {
   "display_name": "Python 3",
   "language": "python",
   "name": "python3"
  },
  "language_info": {
   "codemirror_mode": {
    "name": "ipython",
    "version": 3
   },
   "file_extension": ".py",
   "mimetype": "text/x-python",
   "name": "python",
   "nbconvert_exporter": "python",
   "pygments_lexer": "ipython3",
   "version": "3.10.0"
  },
  "orig_nbformat": 4
 },
 "nbformat": 4,
 "nbformat_minor": 2
}
