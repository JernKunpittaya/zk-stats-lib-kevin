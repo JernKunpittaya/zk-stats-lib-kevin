{
 "cells": [
  {
   "cell_type": "code",
   "execution_count": 1,
   "metadata": {},
   "outputs": [
    {
     "name": "stdout",
     "output_type": "stream",
     "text": [
      "Requirement already satisfied: ezkl==9.1.0 in /Users/jernkun/Library/Caches/pypoetry/virtualenvs/zkstats-OJpceffF-py3.11/lib/python3.11/site-packages (from -r ../../requirements.txt (line 1)) (9.1.0)\n",
      "Requirement already satisfied: torch in /Users/jernkun/Library/Caches/pypoetry/virtualenvs/zkstats-OJpceffF-py3.11/lib/python3.11/site-packages (from -r ../../requirements.txt (line 2)) (2.2.0)\n",
      "Requirement already satisfied: requests in /Users/jernkun/Library/Caches/pypoetry/virtualenvs/zkstats-OJpceffF-py3.11/lib/python3.11/site-packages (from -r ../../requirements.txt (line 3)) (2.31.0)\n",
      "Requirement already satisfied: scipy in /Users/jernkun/Library/Caches/pypoetry/virtualenvs/zkstats-OJpceffF-py3.11/lib/python3.11/site-packages (from -r ../../requirements.txt (line 4)) (1.12.0)\n",
      "Requirement already satisfied: numpy in /Users/jernkun/Library/Caches/pypoetry/virtualenvs/zkstats-OJpceffF-py3.11/lib/python3.11/site-packages (from -r ../../requirements.txt (line 5)) (1.26.3)\n",
      "Requirement already satisfied: matplotlib in /Users/jernkun/Library/Caches/pypoetry/virtualenvs/zkstats-OJpceffF-py3.11/lib/python3.11/site-packages (from -r ../../requirements.txt (line 6)) (3.8.2)\n",
      "Requirement already satisfied: statistics in /Users/jernkun/Library/Caches/pypoetry/virtualenvs/zkstats-OJpceffF-py3.11/lib/python3.11/site-packages (from -r ../../requirements.txt (line 7)) (1.0.3.5)\n",
      "Requirement already satisfied: onnx in /Users/jernkun/Library/Caches/pypoetry/virtualenvs/zkstats-OJpceffF-py3.11/lib/python3.11/site-packages (from -r ../../requirements.txt (line 8)) (1.15.0)\n",
      "Requirement already satisfied: filelock in /Users/jernkun/Library/Caches/pypoetry/virtualenvs/zkstats-OJpceffF-py3.11/lib/python3.11/site-packages (from torch->-r ../../requirements.txt (line 2)) (3.13.1)\n",
      "Requirement already satisfied: typing-extensions>=4.8.0 in /Users/jernkun/Library/Caches/pypoetry/virtualenvs/zkstats-OJpceffF-py3.11/lib/python3.11/site-packages (from torch->-r ../../requirements.txt (line 2)) (4.9.0)\n",
      "Requirement already satisfied: sympy in /Users/jernkun/Library/Caches/pypoetry/virtualenvs/zkstats-OJpceffF-py3.11/lib/python3.11/site-packages (from torch->-r ../../requirements.txt (line 2)) (1.12)\n",
      "Requirement already satisfied: networkx in /Users/jernkun/Library/Caches/pypoetry/virtualenvs/zkstats-OJpceffF-py3.11/lib/python3.11/site-packages (from torch->-r ../../requirements.txt (line 2)) (3.2.1)\n",
      "Requirement already satisfied: jinja2 in /Users/jernkun/Library/Caches/pypoetry/virtualenvs/zkstats-OJpceffF-py3.11/lib/python3.11/site-packages (from torch->-r ../../requirements.txt (line 2)) (3.1.3)\n",
      "Requirement already satisfied: fsspec in /Users/jernkun/Library/Caches/pypoetry/virtualenvs/zkstats-OJpceffF-py3.11/lib/python3.11/site-packages (from torch->-r ../../requirements.txt (line 2)) (2023.12.2)\n",
      "Requirement already satisfied: charset-normalizer<4,>=2 in /Users/jernkun/Library/Caches/pypoetry/virtualenvs/zkstats-OJpceffF-py3.11/lib/python3.11/site-packages (from requests->-r ../../requirements.txt (line 3)) (3.3.2)\n",
      "Requirement already satisfied: idna<4,>=2.5 in /Users/jernkun/Library/Caches/pypoetry/virtualenvs/zkstats-OJpceffF-py3.11/lib/python3.11/site-packages (from requests->-r ../../requirements.txt (line 3)) (3.6)\n",
      "Requirement already satisfied: urllib3<3,>=1.21.1 in /Users/jernkun/Library/Caches/pypoetry/virtualenvs/zkstats-OJpceffF-py3.11/lib/python3.11/site-packages (from requests->-r ../../requirements.txt (line 3)) (2.2.0)\n",
      "Requirement already satisfied: certifi>=2017.4.17 in /Users/jernkun/Library/Caches/pypoetry/virtualenvs/zkstats-OJpceffF-py3.11/lib/python3.11/site-packages (from requests->-r ../../requirements.txt (line 3)) (2024.2.2)\n",
      "Requirement already satisfied: contourpy>=1.0.1 in /Users/jernkun/Library/Caches/pypoetry/virtualenvs/zkstats-OJpceffF-py3.11/lib/python3.11/site-packages (from matplotlib->-r ../../requirements.txt (line 6)) (1.2.0)\n",
      "Requirement already satisfied: cycler>=0.10 in /Users/jernkun/Library/Caches/pypoetry/virtualenvs/zkstats-OJpceffF-py3.11/lib/python3.11/site-packages (from matplotlib->-r ../../requirements.txt (line 6)) (0.12.1)\n",
      "Requirement already satisfied: fonttools>=4.22.0 in /Users/jernkun/Library/Caches/pypoetry/virtualenvs/zkstats-OJpceffF-py3.11/lib/python3.11/site-packages (from matplotlib->-r ../../requirements.txt (line 6)) (4.47.2)\n",
      "Requirement already satisfied: kiwisolver>=1.3.1 in /Users/jernkun/Library/Caches/pypoetry/virtualenvs/zkstats-OJpceffF-py3.11/lib/python3.11/site-packages (from matplotlib->-r ../../requirements.txt (line 6)) (1.4.5)\n",
      "Requirement already satisfied: packaging>=20.0 in /Users/jernkun/Library/Caches/pypoetry/virtualenvs/zkstats-OJpceffF-py3.11/lib/python3.11/site-packages (from matplotlib->-r ../../requirements.txt (line 6)) (23.2)\n",
      "Requirement already satisfied: pillow>=8 in /Users/jernkun/Library/Caches/pypoetry/virtualenvs/zkstats-OJpceffF-py3.11/lib/python3.11/site-packages (from matplotlib->-r ../../requirements.txt (line 6)) (10.2.0)\n",
      "Requirement already satisfied: pyparsing>=2.3.1 in /Users/jernkun/Library/Caches/pypoetry/virtualenvs/zkstats-OJpceffF-py3.11/lib/python3.11/site-packages (from matplotlib->-r ../../requirements.txt (line 6)) (3.1.1)\n",
      "Requirement already satisfied: python-dateutil>=2.7 in /Users/jernkun/Library/Caches/pypoetry/virtualenvs/zkstats-OJpceffF-py3.11/lib/python3.11/site-packages (from matplotlib->-r ../../requirements.txt (line 6)) (2.8.2)\n",
      "Requirement already satisfied: docutils>=0.3 in /Users/jernkun/Library/Caches/pypoetry/virtualenvs/zkstats-OJpceffF-py3.11/lib/python3.11/site-packages (from statistics->-r ../../requirements.txt (line 7)) (0.20.1)\n",
      "Requirement already satisfied: protobuf>=3.20.2 in /Users/jernkun/Library/Caches/pypoetry/virtualenvs/zkstats-OJpceffF-py3.11/lib/python3.11/site-packages (from onnx->-r ../../requirements.txt (line 8)) (4.25.2)\n",
      "Requirement already satisfied: six>=1.5 in /Users/jernkun/Library/Caches/pypoetry/virtualenvs/zkstats-OJpceffF-py3.11/lib/python3.11/site-packages (from python-dateutil>=2.7->matplotlib->-r ../../requirements.txt (line 6)) (1.16.0)\n",
      "Requirement already satisfied: MarkupSafe>=2.0 in /Users/jernkun/Library/Caches/pypoetry/virtualenvs/zkstats-OJpceffF-py3.11/lib/python3.11/site-packages (from jinja2->torch->-r ../../requirements.txt (line 2)) (2.1.4)\n",
      "Requirement already satisfied: mpmath>=0.19 in /Users/jernkun/Library/Caches/pypoetry/virtualenvs/zkstats-OJpceffF-py3.11/lib/python3.11/site-packages (from sympy->torch->-r ../../requirements.txt (line 2)) (1.3.0)\n",
      "\n",
      "\u001b[1m[\u001b[0m\u001b[34;49mnotice\u001b[0m\u001b[1;39;49m]\u001b[0m\u001b[39;49m A new release of pip is available: \u001b[0m\u001b[31;49m23.2.1\u001b[0m\u001b[39;49m -> \u001b[0m\u001b[32;49m24.0\u001b[0m\n",
      "\u001b[1m[\u001b[0m\u001b[34;49mnotice\u001b[0m\u001b[1;39;49m]\u001b[0m\u001b[39;49m To update, run: \u001b[0m\u001b[32;49mpip install --upgrade pip\u001b[0m\n",
      "Note: you may need to restart the kernel to use updated packages.\n"
     ]
    }
   ],
   "source": [
    "pip install -r ../../requirements.txt"
   ]
  },
  {
   "cell_type": "code",
   "execution_count": 2,
   "metadata": {},
   "outputs": [],
   "source": [
    "import ezkl\n",
    "import torch\n",
    "from torch import nn\n",
    "import json\n",
    "import os\n",
    "import time\n",
    "import scipy\n",
    "import numpy as np\n",
    "import matplotlib.pyplot as plt\n",
    "import statistics\n",
    "import math"
   ]
  },
  {
   "cell_type": "code",
   "execution_count": 3,
   "metadata": {},
   "outputs": [],
   "source": [
    "from zkstats.core import create_dummy, verifier_define_calculation, prover_gen_settings, setup, prover_gen_proof, verifier_verify, get_data_commitment_maps"
   ]
  },
  {
   "cell_type": "code",
   "execution_count": 4,
   "metadata": {},
   "outputs": [],
   "source": [
    "# init path\n",
    "os.makedirs(os.path.dirname('shared/'), exist_ok=True)\n",
    "os.makedirs(os.path.dirname('prover/'), exist_ok=True)\n",
    "verifier_model_path = os.path.join('shared/verifier.onnx')\n",
    "prover_model_path = os.path.join('prover/prover.onnx')\n",
    "verifier_compiled_model_path = os.path.join('shared/verifier.compiled')\n",
    "prover_compiled_model_path = os.path.join('prover/prover.compiled')\n",
    "pk_path = os.path.join('shared/test.pk')\n",
    "vk_path = os.path.join('shared/test.vk')\n",
    "proof_path = os.path.join('shared/test.pf')\n",
    "settings_path = os.path.join('shared/settings.json')\n",
    "srs_path = os.path.join('shared/kzg.srs')\n",
    "witness_path = os.path.join('prover/witness.json')\n",
    "# this is private to prover since it contains actual data\n",
    "sel_data_path = os.path.join('prover/sel_data.json')\n",
    "# this is just dummy random value\n",
    "sel_dummy_data_path = os.path.join('shared/sel_dummy_data.json')"
   ]
  },
  {
   "attachments": {},
   "cell_type": "markdown",
   "metadata": {},
   "source": [
    "=======================  ZK-STATS FLOW ======================="
   ]
  },
  {
   "cell_type": "code",
   "execution_count": 5,
   "metadata": {},
   "outputs": [],
   "source": [
    "data_path = os.path.join('data.json')\n",
    "dummy_data_path = os.path.join('shared/dummy_data.json')\n",
    "create_dummy(data_path, dummy_data_path)"
   ]
  },
  {
   "cell_type": "code",
   "execution_count": 6,
   "metadata": {},
   "outputs": [],
   "source": [
    "scales = [3]\n",
    "selected_columns = ['col_name']\n",
    "commitment_maps = get_data_commitment_maps(data_path, scales)"
   ]
  },
  {
   "cell_type": "code",
   "execution_count": 7,
   "metadata": {},
   "outputs": [
    {
     "name": "stderr",
     "output_type": "stream",
     "text": [
      "/Users/jernkun/Desktop/zk-stats-lib/zkstats/computation.py:166: TracerWarning: torch.tensor results are registered as constants in the trace. You can safely ignore this warning if you use this function to create tensors out of constant variables that would be the same every time you call this function. In any other case, this might cause the trace to be incorrect.\n",
      "  is_precise_aggregated = torch.tensor(1.0)\n",
      "/Users/jernkun/Library/Caches/pypoetry/virtualenvs/zkstats-OJpceffF-py3.11/lib/python3.11/site-packages/torch/onnx/symbolic_opset9.py:2174: FutureWarning: 'torch.onnx.symbolic_opset9._cast_Bool' is deprecated in version 2.0 and will be removed in the future. Please Avoid using this function and create a Cast node instead.\n",
      "  return fn(g, to_cast_func(g, input, False), to_cast_func(g, other, False))\n"
     ]
    }
   ],
   "source": [
    "# Verifier/ data consumer side: send desired calculation\n",
    "from zkstats.computation import computation_to_model, State\n",
    "\n",
    "\n",
    "def computation(s: State, data: list[torch.Tensor]) -> torch.Tensor:\n",
    "    x = data[0]\n",
    "    return s.stdev(x)\n",
    "\n",
    "error = 0.01\n",
    "_, verifier_model = computation_to_model(computation, error)\n",
    "\n",
    "verifier_define_calculation(dummy_data_path, selected_columns, sel_dummy_data_path, verifier_model, verifier_model_path)"
   ]
  },
  {
   "cell_type": "code",
   "execution_count": 8,
   "metadata": {},
   "outputs": [
    {
     "name": "stderr",
     "output_type": "stream",
     "text": [
      "\n",
      "\n",
      " <------------- Numerical Fidelity Report (input_scale: 3, param_scale: 3, scale_input_multiplier: 1) ------------->\n",
      "\n",
      "+--------------+--------------+-----------+--------------+----------------+------------------+---------------+---------------+--------------------+--------------------+------------------------+\n",
      "| mean_error   | median_error | max_error | min_error    | mean_abs_error | median_abs_error | max_abs_error | min_abs_error | mean_squared_error | mean_percent_error | mean_abs_percent_error |\n",
      "+--------------+--------------+-----------+--------------+----------------+------------------+---------------+---------------+--------------------+--------------------+------------------------+\n",
      "| -0.022477627 | -0.044955254 | 0         | -0.044955254 | 0.022477627    | 0.044955254      | 0.044955254   | 0             | 0.0010104874       | -0.0015416706      | 0.0015416706           |\n",
      "+--------------+--------------+-----------+--------------+----------------+------------------+---------------+---------------+--------------------+--------------------+------------------------+\n",
      "\n",
      "\n"
     ]
    },
    {
     "name": "stdout",
     "output_type": "stream",
     "text": [
      "==== Generate & Calibrate Setting ====\n",
      "scale:  [3]\n",
      "setting:  {\"run_args\":{\"tolerance\":{\"val\":0.0,\"scale\":1.0},\"input_scale\":3,\"param_scale\":3,\"scale_rebase_multiplier\":1,\"lookup_range\":[-20336,4],\"logrows\":15,\"num_inner_cols\":2,\"variables\":[[\"batch_size\",1]],\"input_visibility\":{\"Hashed\":{\"hash_is_public\":true,\"outlets\":[]}},\"output_visibility\":\"Public\",\"param_visibility\":\"Private\",\"div_rebasing\":false,\"rebase_frac_zero_constants\":false,\"check_mode\":\"UNSAFE\"},\"num_rows\":14432,\"total_assignments\":2722,\"total_const_size\":309,\"model_instance_shapes\":[[1],[1]],\"model_output_scales\":[0,3],\"model_input_scales\":[3],\"module_sizes\":{\"kzg\":[],\"poseidon\":[14432,[1]]},\"required_lookups\":[\"Abs\",{\"GreaterThan\":{\"a\":0.0}}],\"required_range_checks\":[[-4,4]],\"check_mode\":\"UNSAFE\",\"version\":\"9.1.0\",\"num_blinding_factors\":null,\"timestamp\":1709451015079}\n"
     ]
    }
   ],
   "source": [
    "# Prover/ data owner side\n",
    "_, prover_model = computation_to_model(computation, error)\n",
    "\n",
    "prover_gen_settings(data_path, selected_columns, sel_data_path, prover_model,prover_model_path, scales, \"resources\", settings_path)"
   ]
  },
  {
   "cell_type": "code",
   "execution_count": 9,
   "metadata": {},
   "outputs": [
    {
     "name": "stdout",
     "output_type": "stream",
     "text": [
      "==== setting up ezkl ====\n",
      "Time setup: 3.3544819355010986 seconds\n",
      "=======================================\n",
      "==== Generating Witness ====\n",
      "witness boolean:  1.0\n",
      "witness result 1 : 14.625\n",
      "==== Generating Proof ====\n",
      "proof:  {'instances': [['d57f47950cdabf2cb79306e0f33e75726a2c2960806e902b0fc88d3ff949a108', '0100000000000000000000000000000000000000000000000000000000000000', '7500000000000000000000000000000000000000000000000000000000000000']], 'proof': '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', 'transcript_type': 'EVM'}\n",
      "Time gen prf: 4.1637749671936035 seconds\n"
     ]
    }
   ],
   "source": [
    "# Here verifier & prover can concurrently call setup since all params are public to get pk.\n",
    "# Here write as verifier function to emphasize that verifier must calculate its own vk to be sure\n",
    "setup(verifier_model_path, verifier_compiled_model_path, settings_path,vk_path, pk_path )\n",
    "\n",
    "print(\"=======================================\")\n",
    "# Prover generates proof\n",
    "prover_gen_proof(prover_model_path, sel_data_path, witness_path, prover_compiled_model_path, settings_path, proof_path, pk_path)"
   ]
  },
  {
   "cell_type": "code",
   "execution_count": 11,
   "metadata": {},
   "outputs": [
    {
     "name": "stdout",
     "output_type": "stream",
     "text": [
      "Verifier gets result: [14.625]\n"
     ]
    }
   ],
   "source": [
    "# Verifier verifies\n",
    "res = verifier_verify(proof_path, settings_path, vk_path, selected_columns, commitment_maps)\n",
    "print(\"Verifier gets result:\", res)"
   ]
  },
  {
   "cell_type": "code",
   "execution_count": null,
   "metadata": {},
   "outputs": [],
   "source": []
  }
 ],
 "metadata": {
  "kernelspec": {
   "display_name": "Python 3",
   "language": "python",
   "name": "python3"
  },
  "language_info": {
   "codemirror_mode": {
    "name": "ipython",
    "version": 3
   },
   "file_extension": ".py",
   "mimetype": "text/x-python",
   "name": "python",
   "nbconvert_exporter": "python",
   "pygments_lexer": "ipython3",
   "version": "3.11.4"
  },
  "orig_nbformat": 4
 },
 "nbformat": 4,
 "nbformat_minor": 2
}
