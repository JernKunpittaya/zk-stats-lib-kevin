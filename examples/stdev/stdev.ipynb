{
 "cells": [
  {
   "cell_type": "code",
   "execution_count": 1,
   "metadata": {},
   "outputs": [
    {
     "name": "stdout",
     "output_type": "stream",
     "text": [
      "Requirement already satisfied: ezkl==5.0.8 in /Library/Frameworks/Python.framework/Versions/3.10/lib/python3.10/site-packages (from -r ../../requirements.txt (line 1)) (5.0.8)\n",
      "Requirement already satisfied: torch in /Library/Frameworks/Python.framework/Versions/3.10/lib/python3.10/site-packages (from -r ../../requirements.txt (line 2)) (2.1.1)\n",
      "Requirement already satisfied: requests in /Library/Frameworks/Python.framework/Versions/3.10/lib/python3.10/site-packages (from -r ../../requirements.txt (line 3)) (2.31.0)\n",
      "Requirement already satisfied: scipy in /Library/Frameworks/Python.framework/Versions/3.10/lib/python3.10/site-packages (from -r ../../requirements.txt (line 4)) (1.11.4)\n",
      "Requirement already satisfied: numpy in /Library/Frameworks/Python.framework/Versions/3.10/lib/python3.10/site-packages (from -r ../../requirements.txt (line 5)) (1.26.2)\n",
      "Requirement already satisfied: matplotlib in /Library/Frameworks/Python.framework/Versions/3.10/lib/python3.10/site-packages (from -r ../../requirements.txt (line 6)) (3.8.2)\n",
      "Requirement already satisfied: statistics in /Library/Frameworks/Python.framework/Versions/3.10/lib/python3.10/site-packages (from -r ../../requirements.txt (line 7)) (1.0.3.5)\n",
      "Requirement already satisfied: onnx in /Library/Frameworks/Python.framework/Versions/3.10/lib/python3.10/site-packages (from -r ../../requirements.txt (line 8)) (1.15.0)\n",
      "Requirement already satisfied: filelock in /Library/Frameworks/Python.framework/Versions/3.10/lib/python3.10/site-packages (from torch->-r ../../requirements.txt (line 2)) (3.13.1)\n",
      "Requirement already satisfied: networkx in /Library/Frameworks/Python.framework/Versions/3.10/lib/python3.10/site-packages (from torch->-r ../../requirements.txt (line 2)) (3.2.1)\n",
      "Requirement already satisfied: fsspec in /Library/Frameworks/Python.framework/Versions/3.10/lib/python3.10/site-packages (from torch->-r ../../requirements.txt (line 2)) (2023.10.0)\n",
      "Requirement already satisfied: sympy in /Library/Frameworks/Python.framework/Versions/3.10/lib/python3.10/site-packages (from torch->-r ../../requirements.txt (line 2)) (1.12)\n",
      "Requirement already satisfied: typing-extensions in /Library/Frameworks/Python.framework/Versions/3.10/lib/python3.10/site-packages (from torch->-r ../../requirements.txt (line 2)) (4.8.0)\n",
      "Requirement already satisfied: jinja2 in /Library/Frameworks/Python.framework/Versions/3.10/lib/python3.10/site-packages (from torch->-r ../../requirements.txt (line 2)) (3.1.2)\n",
      "Requirement already satisfied: urllib3<3,>=1.21.1 in /Library/Frameworks/Python.framework/Versions/3.10/lib/python3.10/site-packages (from requests->-r ../../requirements.txt (line 3)) (2.1.0)\n",
      "Requirement already satisfied: certifi>=2017.4.17 in /Library/Frameworks/Python.framework/Versions/3.10/lib/python3.10/site-packages (from requests->-r ../../requirements.txt (line 3)) (2023.11.17)\n",
      "Requirement already satisfied: charset-normalizer<4,>=2 in /Library/Frameworks/Python.framework/Versions/3.10/lib/python3.10/site-packages (from requests->-r ../../requirements.txt (line 3)) (3.3.2)\n",
      "Requirement already satisfied: idna<4,>=2.5 in /Library/Frameworks/Python.framework/Versions/3.10/lib/python3.10/site-packages (from requests->-r ../../requirements.txt (line 3)) (3.6)\n",
      "Requirement already satisfied: cycler>=0.10 in /Library/Frameworks/Python.framework/Versions/3.10/lib/python3.10/site-packages (from matplotlib->-r ../../requirements.txt (line 6)) (0.12.1)\n",
      "Requirement already satisfied: kiwisolver>=1.3.1 in /Library/Frameworks/Python.framework/Versions/3.10/lib/python3.10/site-packages (from matplotlib->-r ../../requirements.txt (line 6)) (1.4.5)\n",
      "Requirement already satisfied: fonttools>=4.22.0 in /Library/Frameworks/Python.framework/Versions/3.10/lib/python3.10/site-packages (from matplotlib->-r ../../requirements.txt (line 6)) (4.45.1)\n",
      "Requirement already satisfied: packaging>=20.0 in /Users/jernkun/Library/Python/3.10/lib/python/site-packages (from matplotlib->-r ../../requirements.txt (line 6)) (23.2)\n",
      "Requirement already satisfied: python-dateutil>=2.7 in /Users/jernkun/Library/Python/3.10/lib/python/site-packages (from matplotlib->-r ../../requirements.txt (line 6)) (2.8.2)\n",
      "Requirement already satisfied: contourpy>=1.0.1 in /Library/Frameworks/Python.framework/Versions/3.10/lib/python3.10/site-packages (from matplotlib->-r ../../requirements.txt (line 6)) (1.2.0)\n",
      "Requirement already satisfied: pillow>=8 in /Library/Frameworks/Python.framework/Versions/3.10/lib/python3.10/site-packages (from matplotlib->-r ../../requirements.txt (line 6)) (10.1.0)\n",
      "Requirement already satisfied: pyparsing>=2.3.1 in /Library/Frameworks/Python.framework/Versions/3.10/lib/python3.10/site-packages (from matplotlib->-r ../../requirements.txt (line 6)) (3.1.1)\n",
      "Requirement already satisfied: docutils>=0.3 in /Library/Frameworks/Python.framework/Versions/3.10/lib/python3.10/site-packages (from statistics->-r ../../requirements.txt (line 7)) (0.20.1)\n",
      "Requirement already satisfied: protobuf>=3.20.2 in /Library/Frameworks/Python.framework/Versions/3.10/lib/python3.10/site-packages (from onnx->-r ../../requirements.txt (line 8)) (4.25.1)\n",
      "Requirement already satisfied: six>=1.5 in /Users/jernkun/Library/Python/3.10/lib/python/site-packages (from python-dateutil>=2.7->matplotlib->-r ../../requirements.txt (line 6)) (1.16.0)\n",
      "Requirement already satisfied: MarkupSafe>=2.0 in /Library/Frameworks/Python.framework/Versions/3.10/lib/python3.10/site-packages (from jinja2->torch->-r ../../requirements.txt (line 2)) (2.1.3)\n",
      "Requirement already satisfied: mpmath>=0.19 in /Library/Frameworks/Python.framework/Versions/3.10/lib/python3.10/site-packages (from sympy->torch->-r ../../requirements.txt (line 2)) (1.3.0)\n",
      "\u001b[33mWARNING: You are using pip version 21.2.3; however, version 23.3.1 is available.\n",
      "You should consider upgrading via the '/usr/local/bin/python3 -m pip install --upgrade pip' command.\u001b[0m\n",
      "Note: you may need to restart the kernel to use updated packages.\n"
     ]
    }
   ],
   "source": [
    "pip install -r ../../requirements.txt"
   ]
  },
  {
   "cell_type": "code",
   "execution_count": 9,
   "metadata": {},
   "outputs": [],
   "source": [
    "import ezkl\n",
    "import torch\n",
    "from torch import nn\n",
    "import json\n",
    "import os\n",
    "import time\n",
    "import scipy\n",
    "import numpy as np\n",
    "import matplotlib.pyplot as plt\n",
    "import statistics\n",
    "import math"
   ]
  },
  {
   "cell_type": "code",
   "execution_count": 10,
   "metadata": {},
   "outputs": [],
   "source": [
    "%run -i ../../zkstats/core.py"
   ]
  },
  {
   "cell_type": "code",
   "execution_count": 11,
   "metadata": {},
   "outputs": [],
   "source": [
    "# init path\n",
    "os.makedirs(os.path.dirname('shared/'), exist_ok=True)\n",
    "os.makedirs(os.path.dirname('prover/'), exist_ok=True)\n",
    "verifier_model_path = os.path.join('shared/verifier.onnx')\n",
    "prover_model_path = os.path.join('prover/prover.onnx')\n",
    "verifier_compiled_model_path = os.path.join('shared/verifier.compiled')\n",
    "prover_compiled_model_path = os.path.join('prover/prover.compiled')\n",
    "pk_path = os.path.join('shared/test.pk')\n",
    "vk_path = os.path.join('shared/test.vk')\n",
    "proof_path = os.path.join('shared/test.pf')\n",
    "settings_path = os.path.join('shared/settings.json')\n",
    "srs_path = os.path.join('shared/kzg.srs')\n",
    "witness_path = os.path.join('prover/witness.json')\n",
    "# this is private to prover since it contains actual data\n",
    "comb_data_path = os.path.join('prover/comb_data.json')"
   ]
  },
  {
   "attachments": {},
   "cell_type": "markdown",
   "metadata": {},
   "source": [
    "=======================  ZK-STATS FLOW ======================="
   ]
  },
  {
   "cell_type": "code",
   "execution_count": 12,
   "metadata": {},
   "outputs": [
    {
     "ename": "FileNotFoundError",
     "evalue": "[Errno 2] No such file or directory: 'generated/dummy_data.json'",
     "output_type": "error",
     "traceback": [
      "\u001b[0;31m---------------------------------------------------------------------------\u001b[0m",
      "\u001b[0;31mFileNotFoundError\u001b[0m                         Traceback (most recent call last)",
      "Cell \u001b[0;32mIn[12], line 10\u001b[0m\n\u001b[1;32m      8\u001b[0m \u001b[39m#  dummy data for data consumer: make the bound approx same as real data\u001b[39;00m\n\u001b[1;32m      9\u001b[0m dummy_data \u001b[39m=\u001b[39m np\u001b[39m.\u001b[39mrandom\u001b[39m.\u001b[39muniform(\u001b[39mmin\u001b[39m(data), \u001b[39mmax\u001b[39m(data), \u001b[39mlen\u001b[39m(data))\n\u001b[0;32m---> 10\u001b[0m json\u001b[39m.\u001b[39mdump({\u001b[39m\"\u001b[39m\u001b[39minput_data\u001b[39m\u001b[39m\"\u001b[39m:[dummy_data\u001b[39m.\u001b[39mtolist()]}, \u001b[39mopen\u001b[39;49m(dummy_data_path, \u001b[39m'\u001b[39;49m\u001b[39mw\u001b[39;49m\u001b[39m'\u001b[39;49m))\n\u001b[1;32m     12\u001b[0m dummy_data_tensor \u001b[39m=\u001b[39m torch\u001b[39m.\u001b[39mreshape(torch\u001b[39m.\u001b[39mtensor(dummy_data), (\u001b[39m1\u001b[39m, \u001b[39mlen\u001b[39m(dummy_data),\u001b[39m1\u001b[39m ))\n\u001b[1;32m     13\u001b[0m dummy_theory_output \u001b[39m=\u001b[39m torch\u001b[39m.\u001b[39msqrt(torch\u001b[39m.\u001b[39mvar(dummy_data_tensor, correction \u001b[39m=\u001b[39m \u001b[39m1\u001b[39m))\n",
      "File \u001b[0;32m~/Library/Python/3.10/lib/python/site-packages/IPython/core/interactiveshell.py:310\u001b[0m, in \u001b[0;36m_modified_open\u001b[0;34m(file, *args, **kwargs)\u001b[0m\n\u001b[1;32m    303\u001b[0m \u001b[39mif\u001b[39;00m file \u001b[39min\u001b[39;00m {\u001b[39m0\u001b[39m, \u001b[39m1\u001b[39m, \u001b[39m2\u001b[39m}:\n\u001b[1;32m    304\u001b[0m     \u001b[39mraise\u001b[39;00m \u001b[39mValueError\u001b[39;00m(\n\u001b[1;32m    305\u001b[0m         \u001b[39mf\u001b[39m\u001b[39m\"\u001b[39m\u001b[39mIPython won\u001b[39m\u001b[39m'\u001b[39m\u001b[39mt let you open fd=\u001b[39m\u001b[39m{\u001b[39;00mfile\u001b[39m}\u001b[39;00m\u001b[39m by default \u001b[39m\u001b[39m\"\u001b[39m\n\u001b[1;32m    306\u001b[0m         \u001b[39m\"\u001b[39m\u001b[39mas it is likely to crash IPython. If you know what you are doing, \u001b[39m\u001b[39m\"\u001b[39m\n\u001b[1;32m    307\u001b[0m         \u001b[39m\"\u001b[39m\u001b[39myou can use builtins\u001b[39m\u001b[39m'\u001b[39m\u001b[39m open.\u001b[39m\u001b[39m\"\u001b[39m\n\u001b[1;32m    308\u001b[0m     )\n\u001b[0;32m--> 310\u001b[0m \u001b[39mreturn\u001b[39;00m io_open(file, \u001b[39m*\u001b[39;49margs, \u001b[39m*\u001b[39;49m\u001b[39m*\u001b[39;49mkwargs)\n",
      "\u001b[0;31mFileNotFoundError\u001b[0m: [Errno 2] No such file or directory: 'generated/dummy_data.json'"
     ]
    }
   ],
   "source": [
    "data_path = os.path.join('data.json')\n",
    "dummy_data_path = os.path.join('generated/dummy_data.json')\n",
    "\n",
    "f_raw_input = open(data_path, \"r\")\n",
    "data = json.loads(f_raw_input.read())[\"input_data\"][0]\n",
    "data_tensor = torch.reshape(torch.tensor(data),(1, len(data), 1))\n",
    "\n",
    "#  dummy data for data consumer: make the bound approx same as real data\n",
    "dummy_data = np.random.uniform(min(data), max(data), len(data))\n",
    "json.dump({\"input_data\":[dummy_data.tolist()]}, open(dummy_data_path, 'w'))\n",
    "\n",
    "dummy_data_tensor = torch.reshape(torch.tensor(dummy_data), (1, len(dummy_data),1 ))\n",
    "dummy_theory_output = torch.sqrt(torch.var(dummy_data_tensor, correction = 1))\n",
    "dummy_data_mean = torch.mean(dummy_data_tensor)"
   ]
  },
  {
   "cell_type": "code",
   "execution_count": null,
   "metadata": {},
   "outputs": [
    {
     "name": "stderr",
     "output_type": "stream",
     "text": [
      "/Library/Frameworks/Python.framework/Versions/3.10/lib/python3.10/site-packages/torch/onnx/symbolic_opset9.py:2174: FutureWarning: 'torch.onnx.symbolic_opset9._cast_Bool' is deprecated in version 2.0 and will be removed in the future. Please Avoid using this function and create a Cast node instead.\n",
      "  return fn(g, to_cast_func(g, input, False), to_cast_func(g, other, False))\n"
     ]
    }
   ],
   "source": [
    "# Verifier/ data consumer side:\n",
    "class verifier_model(nn.Module):\n",
    "    def __init__(self):\n",
    "        super(verifier_model, self).__init__()\n",
    "        # w represents mean in this case\n",
    "        self.w = nn.Parameter(data = dummy_theory_output, requires_grad = False)\n",
    "        self.data_mean = nn.Parameter(data = dummy_data_mean, requires_grad = False)\n",
    "\n",
    "    def forward(self,X):\n",
    "        # some expression of tolerance to error in the inference\n",
    "        x_mean_cons = torch.abs(torch.sum(X)-X.size()[1]*(self.data_mean))<0.01*X.size()[1]*(self.data_mean)\n",
    "        return (torch.logical_and(torch.abs(torch.sum((X-self.data_mean)*(X-self.data_mean))-self.w*self.w*(X.size()[1]-1))<0.02*self.w*self.w*(X.size()[1]-1),x_mean_cons),self.w)\n",
    "\n",
    "verifier_define_calculation(verifier_model, verifier_model_path, [dummy_data_path])"
   ]
  },
  {
   "cell_type": "code",
   "execution_count": null,
   "metadata": {},
   "outputs": [
    {
     "name": "stdout",
     "output_type": "stream",
     "text": [
      "theory output:  tensor(14.5800)\n",
      "==== Generate & Calibrate Setting ====\n",
      "scale:  [0]\n",
      "setting:  {\"run_args\":{\"tolerance\":{\"val\":0.0,\"scale\":1.0},\"input_scale\":0,\"param_scale\":0,\"scale_rebase_multiplier\":10,\"lookup_range\":[0,1272],\"logrows\":14,\"num_inner_cols\":1,\"variables\":[[\"batch_size\",1]],\"input_visibility\":{\"Hashed\":{\"hash_is_public\":true,\"outlets\":[]}},\"output_visibility\":\"Public\",\"param_visibility\":\"Private\"},\"num_rows\":14432,\"total_assignments\":1512,\"total_const_size\":0,\"model_instance_shapes\":[[1],[1]],\"model_output_scales\":[0,0],\"model_input_scales\":[0],\"module_sizes\":{\"kzg\":[],\"poseidon\":[14432,[1]],\"elgamal\":[0,[0]]},\"required_lookups\":[\"Abs\",{\"GreaterThan\":{\"a\":0.0}}],\"check_mode\":\"UNSAFE\",\"version\":\"5.0.8\",\"num_blinding_factors\":null}\n"
     ]
    }
   ],
   "source": [
    "# Prover/ data owner side\n",
    "theory_output = torch.sqrt(torch.var(data_tensor, correction = 1))\n",
    "data_mean = torch.mean(data_tensor)\n",
    "print(\"theory output: \", theory_output)\n",
    "class prover_model(nn.Module):\n",
    "    def __init__(self):\n",
    "        super(prover_model, self).__init__()\n",
    "        # w represents mean in this case\n",
    "        self.w = nn.Parameter(data = theory_output, requires_grad = False)\n",
    "        self.data_mean = nn.Parameter(data = data_mean, requires_grad = False)\n",
    "    def forward(self,X):\n",
    "        # some expression of tolerance to error in the inference\n",
    "        x_mean_cons = torch.abs(torch.sum(X)-X.size()[1]*(self.data_mean))<0.01*X.size()[1]*(self.data_mean)\n",
    "        return (torch.logical_and(torch.abs(torch.sum((X-self.data_mean)*(X-self.data_mean))-self.w*self.w*(X.size()[1]-1))<0.02*self.w*self.w*(X.size()[1]-1),x_mean_cons),self.w)\n",
    "\n",
    "prover_gen_settings([data_path], comb_data_path, prover_model,prover_model_path, \"default\", \"resources\", settings_path)"
   ]
  },
  {
   "cell_type": "code",
   "execution_count": 13,
   "metadata": {},
   "outputs": [
    {
     "name": "stderr",
     "output_type": "stream",
     "text": [
      "spawning module 0\n",
      "spawning module 2\n"
     ]
    },
    {
     "name": "stdout",
     "output_type": "stream",
     "text": [
      "==== setting up ezkl ====\n"
     ]
    },
    {
     "name": "stderr",
     "output_type": "stream",
     "text": [
      "spawning module 0\n",
      "spawning module 2\n",
      "spawning module 0\n"
     ]
    },
    {
     "name": "stdout",
     "output_type": "stream",
     "text": [
      "Time setup: 1.3459670543670654 seconds\n",
      "=======================================\n",
      "Theory output:  tensor(14.5800)\n",
      "==== Generating Witness ====\n",
      "witness boolean:  1.0\n",
      "witness result 1 : 15.0\n",
      "==== Generating Proof ====\n"
     ]
    },
    {
     "name": "stderr",
     "output_type": "stream",
     "text": [
      "spawning module 2\n"
     ]
    },
    {
     "name": "stdout",
     "output_type": "stream",
     "text": [
      "proof:  {'instances': [[[10512373747352303962, 11798585516934984832, 13421675179368312123, 2200257403316998104], [12436184717236109307, 3962172157175319849, 7381016538464732718, 1011752739694698287], [956231351009279921, 10951436676983309100, 2250248050743556928, 1228298028208591648]]], 'proof': '083ddbf380f29f43bbf4cea9af2860eba80a494e1a6f8ea28dad8305fe5f237e073595d5486706200376445624a9cc925fe2701e0829090037b0e19b9238c69c2e014a4cae1b302613f0123b719873e8eef7f3568ad6fa50dcddf62a0afb6bfd1856158aa9ef182eea35bc3ed577c0c67db5be90ba95a36d61bdb5b26a5940d717fc5ef1181f49686408671996e03a586c1924c62875576d2445a4f6e1a6e5e12cb21f737485ffd36cf9614f339ebb26117f9f133b35c5a1b874e38e087cef751640dff7b7406e3dbde0e6d94289dbc7ed6c170095daee15ffc98ff487a6b7070930c515bd6ae6797da4b8c78dafbb00f82a64898e106ba7bab74d531ca1af770e5fdf1e33df7b5031bb79d8ca1e76014b9f184734afef4785a12c70ef1c19fd2692de7a2b197d4a5fc7a1f58901c3a01e25cd4f467ca5894ea2c30e6e06c48a0434d61ebadbd560e2d71518aa75e0f6a9b271bf63654f8c735bbce390ab76330831409cb66ede0257b5722e0029f392f18c7fa21f5787ac36179e9b3b8aac79105dade3188d564c2098eec6848b2bb72cc74b2de6f4966517af714da24f2cca2e415654867b72c619f9d6e70bfb58fccd62b25b201f8d4bff39a0921a024bf71e02a81d1bde5557930887327f3d287cd9449ac3233f293bdb93ad223efd4f8506fa41cd8e48555b6b47f059a1b3111e5b71aae4d713f78c9743f036ab5b66e928db2aab06be12f38fd9d0236c27ed2e364ee3b5c6cdb2d8dabf0eb2529ecdcf1ecff77cdaa0dfbbbd6f63870150e0b4fd65d5abf83df5e1db08511c351ea078130bcb84af92fa253f875fbbc3db75b15989d677a275442493b471a4d16740c314f8f156ffc2001b908d02d175a536ef6f01794f74b8e579b548e044077287c70e42084d3b9b833f44b7653ff08ad87b3e577c299d4fdd5d5439bfc244da035a2ac3320854f1365bd6a3b08a5be485f6c670ef2e5020d763a811a1829985841a14e887b8068e9feedfccd17185d97896cf634a798f0da5523d7254ad23ee16a0045a6dc142ad55314ed249420a7a3aafca216d8b9219c331b2918f76cb6951f903203fe74e9b4eeb9f03d2b3d86eadd1c3693665587889610eb2f59bb9161108287b60f9f71ac5a493efcc85d56d39f6c4e6940cbebd5fde1685aabf1e41a11b15be7cc503a9907d9cd38eac37cfcd93286f76c5bb5ce2badfb2b699aedec93b0bfc1bfa0c77cf822b8d6ccb6baee69cc55dde31b770b1c5776003b078320d7e1f6dffbaf40b81121457594ba1504a126d3c9d4fe249211d36a03ead9420ace21f71d34c04257b7fdee29a0100ddf5f9616aedd7081a0ccc7827071ac7a3675711d0050c08b37767e43731990646fb19db10c7268fc3bffa647729ae516bd9d10ce7f60b605d4c1d57de595c5bcd27cb67155e8c329c031e052083f16926ef1c2b5ff0b3581883eee0c540aed34f6c13197764bda354b92c1a2198ed8c9417f8179e806da75aa1bda081e4d52ca7f99090041923c0266b7338e60ee5aba9172b28d9429bb412d698c5c0baea0dc384aeb479111715a7fb8b94e9814b77387b130c74b43d07ed923e4493716fa026917a8baab7344160e5ce27d7876e9fa3c7871fb38b0e5547fabf77130baf9b39c55f36b708e3ca89a3952e14c5a2810dc0f42434ac999c7baca2f96f982283d0957fd02df4052e014ae3b8cbede25c50f6f50285300e755fbf4edaf7780a4131a75638c341aacf23f70d3bd47154390fbb5d1901ad9fef18a5df839a23adf09e8e47c0864ff025313ec655fcdd948cdbe63f2a8abfc10efdac0b945a8300ad9496d8d49461c9e90fd907b2c6fc588bcaa4ae1718d6d750aa16827977d0a16527b9aa9c092ed2d28cbcd9d8b3248df4ebf6f9142a9bde56e358e1199f624389c5e8449c893a94b50ec80c3041faf68cc0349b24552fefdcc27196f146aa95f5b9c3b137f2c2531fe7d59da932711efb35af7127baa5b53f27bdd7ff7667056ec83d0285e7b46059ec0e512ecf7052f796740518c6031f954da853124e4ef011304c736ce9de662d57c27a9dbad4d940019c52269ec579be72eff473156b399b05cf35e720b6ee8d96a77ca94c93bff2a82f0d0cb15d52a9cdc9d8666db5fb48b7e1698bf0e6c992f08f3b8d97f9088b0ef33601d311d7530e9d404a9791f4850dd75f1d23b6d5bca7254bbf9f502e4e0d447701acc516e86e40ccd8218954f27db1b2d4ede46927f972eac1722f099a7814b818a35358205b9f4d67fcd65003b786c9538c024cddf745c24f0f4412d61d1fd11fea9174c4769e50006f819759c3e0c2289a8636f43b530d26287c246736f1231dd9b3eacf0f59e03fdb419a5208c3128e9622741f53253a859ab9462f6b39620d975d83f94d2236a9358a82d50b3cbcdb4a29a7b2d300157508efeca8c0443d1efb2e1f0a0701d492e9efaedd3bb4c54b02c56318149e9edec47afa97d5ddab1efb2e1f0a0701d492e9efaedd3bb4c54b02c56318149e9edec47afa97d5ddab0c52aa0b7f15e6ede7062803ca96d1f66fbc54b2f0de4a7368e2748fd07cf90e2bef0cb39c2ecb721504d610d867e716cc6142d95df2d8bd8db0b51315f0d44d11f3119690c33a16c07d08f139b65c6d40355ab913dc44de985b74f445a31e4d2b266f4c6b5347304ff9ad0e2b173f4ee4f142f16c7aa547e667577b9d8229360e3c56ed327aca16dbbf0fad7b3d947685460efaf0cf124079b764b8d7f1b9022d18fadc6127fe93934efbef2df1f562aa7fd8f29641fc02e5dc40e1ddc82cdc1df6616e6e06c2bdd84e769589dc619a252bf894edfe764bcb136978eca2ddeb124c5a0de3f65bbfe0b523eeef0aa3a200ce60ada4eeee07d0a6ab8a9ba3e7390d8916048157647c8e514fde604ce718211e976452a190312c6df499a4bc1ac40c8ccc1ab8a8558defbf131c1bb64759c4320e3e73b86d329b630e46c18d71e40efcd75b81cec6da354f6ec06bcc10b4f3606193a0f960b35c4b7fb06a51e54e281759fb5e9d41cf1b9965bcebcb1945924b2be047c74159d3edc53fd5b86bd62a57eb2869bb84ae8a6bc4e3e90e1c018de8f30673a54afc883661d0673ac7ba3050165819d73a18db7870206083c35daaf5ccae3c7af6a74678b76f6c45ee2221a04ca5d914e1f2f97d922de6ce01850b878b16461481bb91c8dc851b82833b1d399834b334ebb1aeab8084da0bbaca66bfffca14187cfda1488c2ad7641f9505eab6606c21221e23866cce1e7fdcf42e078dab5460eff6acd24f9751d89d801ee040fcaac7e756204cf418a669d526ed06979c735e4f69badbd32456f3f96f04fe5813e7f7b46f08238b4c9bcc16a13cb7453e4bb3e6104747edda074759f312982001c513c5cb91ecc2e2a7f654c0edc61f0f999ff9138d3d9119aaad987608f57dd26c8297b00bf921d0e8a02fdfe37a0b49a4e5e2403ede419c961d67541c3743579268fde62d3ed41b87f4024a790213667bf63172b6b99de33d65dc2714bc99895fe0764cf2ba79e8494a9a7c17a65fced4b2827497496f5aeb0c14c91e7190f946e2020d8ac71491de6d4cf7acae76eb7f2f67a3bc7c17fa6fb1432e08ab4dc1c1babc9a09f8df1c275cf97cfe1aefe4c55dc0401cae942a8a73434821776bb342e8fc6995d48cff3f17e2593e79447aa969aee15d5912c9bfb6107e2ae6549b0d4cb85d984aca58c1a7f3eebaab5c4147aee47ff5f571f0cbe8b88525b77a9f5af00c9e2afa26cb7fc7b0d09076e0ff1c6e8173108958c035bc655f1710861a0dec13ec8c2d1e76e4ca59bec105f83abada678e3a337f75645dd72f0c58c164390b1df16f55c7f263573d8a6370ed9afa8f3a53be81fba376296e4609a09862fba8f45c0c7bfa869f82f947b6dbb8f5b6abaf5833d48a0248ed35012b683e97baa22812ac5dd26ed15df58a8e99175b05bf6d5b1d2be4b5290ab56712b9da3b0ea7172a87ec6602d637ecfffafcf66df7e8e0c1d180ae015d75bfd211c892870d334b64292e4fa72e7d5b051a98f9103ade5ba2c45c788023537b60187a0ee5b3ef337645abd030fc07760a9016f3e2f28d3ceb25e65be426390dda0b47d19b2164d6fb10223b0f85c56d18f5d6c4c89d13c396e9edcab5ec7f61862eca69362d2cd4a7f6a74daec024efe99b7a669db3b4b17aa553b877a5ef1e06', 'transcript_type': 'EVM'}\n",
      "Time gen prf: 1.8901939392089844 seconds\n"
     ]
    }
   ],
   "source": [
    "# Here verifier & prover can concurrently call setup since all params are public to get pk. \n",
    "# Here write as verifier function to emphasize that verifier must calculate its own vk to be sure\n",
    "verifier_setup(verifier_model_path, verifier_compiled_model_path, settings_path, srs_path,vk_path, pk_path )\n",
    "\n",
    "print(\"=======================================\")\n",
    "# Prover generates proof\n",
    "print(\"Theory output: \", theory_output)\n",
    "prover_gen_proof(prover_model_path, comb_data_path, witness_path, prover_compiled_model_path, settings_path, proof_path, pk_path, srs_path)"
   ]
  },
  {
   "cell_type": "code",
   "execution_count": 14,
   "metadata": {},
   "outputs": [
    {
     "name": "stdout",
     "output_type": "stream",
     "text": [
      "num_inputs:  1\n",
      "prf instances:  [[[10512373747352303962, 11798585516934984832, 13421675179368312123, 2200257403316998104], [12436184717236109307, 3962172157175319849, 7381016538464732718, 1011752739694698287], [956231351009279921, 10951436676983309100, 2250248050743556928, 1228298028208591648]]]\n",
      "proof boolean:  1.0\n",
      "proof result 1 : 15.0\n",
      "verified\n"
     ]
    }
   ],
   "source": [
    "# Verifier verifies\n",
    "verifier_verify(proof_path, settings_path, vk_path, srs_path)"
   ]
  },
  {
   "cell_type": "code",
   "execution_count": null,
   "metadata": {},
   "outputs": [],
   "source": []
  }
 ],
 "metadata": {
  "kernelspec": {
   "display_name": "Python 3",
   "language": "python",
   "name": "python3"
  },
  "language_info": {
   "codemirror_mode": {
    "name": "ipython",
    "version": 3
   },
   "file_extension": ".py",
   "mimetype": "text/x-python",
   "name": "python",
   "nbconvert_exporter": "python",
   "pygments_lexer": "ipython3",
   "version": "3.10.0"
  },
  "orig_nbformat": 4
 },
 "nbformat": 4,
 "nbformat_minor": 2
}
