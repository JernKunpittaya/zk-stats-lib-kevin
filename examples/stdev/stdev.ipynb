{
 "cells": [
  {
   "cell_type": "code",
   "execution_count": 1,
   "metadata": {},
   "outputs": [
    {
     "name": "stdout",
     "output_type": "stream",
     "text": [
      "Requirement already satisfied: ezkl==7.0.0 in /Library/Frameworks/Python.framework/Versions/3.10/lib/python3.10/site-packages (from -r ../../requirements.txt (line 1)) (7.0.0)\n",
      "Requirement already satisfied: torch in /Library/Frameworks/Python.framework/Versions/3.10/lib/python3.10/site-packages (from -r ../../requirements.txt (line 2)) (2.1.1)\n",
      "Requirement already satisfied: requests in /Library/Frameworks/Python.framework/Versions/3.10/lib/python3.10/site-packages (from -r ../../requirements.txt (line 3)) (2.31.0)\n",
      "Requirement already satisfied: scipy in /Library/Frameworks/Python.framework/Versions/3.10/lib/python3.10/site-packages (from -r ../../requirements.txt (line 4)) (1.11.4)\n",
      "Requirement already satisfied: numpy in /Library/Frameworks/Python.framework/Versions/3.10/lib/python3.10/site-packages (from -r ../../requirements.txt (line 5)) (1.26.2)\n",
      "Requirement already satisfied: matplotlib in /Library/Frameworks/Python.framework/Versions/3.10/lib/python3.10/site-packages (from -r ../../requirements.txt (line 6)) (3.8.2)\n",
      "Requirement already satisfied: statistics in /Library/Frameworks/Python.framework/Versions/3.10/lib/python3.10/site-packages (from -r ../../requirements.txt (line 7)) (1.0.3.5)\n",
      "Requirement already satisfied: onnx in /Library/Frameworks/Python.framework/Versions/3.10/lib/python3.10/site-packages (from -r ../../requirements.txt (line 8)) (1.15.0)\n",
      "Requirement already satisfied: typing-extensions in /Library/Frameworks/Python.framework/Versions/3.10/lib/python3.10/site-packages (from torch->-r ../../requirements.txt (line 2)) (4.8.0)\n",
      "Requirement already satisfied: jinja2 in /Library/Frameworks/Python.framework/Versions/3.10/lib/python3.10/site-packages (from torch->-r ../../requirements.txt (line 2)) (3.1.2)\n",
      "Requirement already satisfied: filelock in /Library/Frameworks/Python.framework/Versions/3.10/lib/python3.10/site-packages (from torch->-r ../../requirements.txt (line 2)) (3.13.1)\n",
      "Requirement already satisfied: networkx in /Library/Frameworks/Python.framework/Versions/3.10/lib/python3.10/site-packages (from torch->-r ../../requirements.txt (line 2)) (3.2.1)\n",
      "Requirement already satisfied: sympy in /Library/Frameworks/Python.framework/Versions/3.10/lib/python3.10/site-packages (from torch->-r ../../requirements.txt (line 2)) (1.12)\n",
      "Requirement already satisfied: fsspec in /Library/Frameworks/Python.framework/Versions/3.10/lib/python3.10/site-packages (from torch->-r ../../requirements.txt (line 2)) (2023.10.0)\n",
      "Requirement already satisfied: urllib3<3,>=1.21.1 in /Library/Frameworks/Python.framework/Versions/3.10/lib/python3.10/site-packages (from requests->-r ../../requirements.txt (line 3)) (2.1.0)\n",
      "Requirement already satisfied: charset-normalizer<4,>=2 in /Library/Frameworks/Python.framework/Versions/3.10/lib/python3.10/site-packages (from requests->-r ../../requirements.txt (line 3)) (3.3.2)\n",
      "Requirement already satisfied: certifi>=2017.4.17 in /Library/Frameworks/Python.framework/Versions/3.10/lib/python3.10/site-packages (from requests->-r ../../requirements.txt (line 3)) (2023.11.17)\n",
      "Requirement already satisfied: idna<4,>=2.5 in /Library/Frameworks/Python.framework/Versions/3.10/lib/python3.10/site-packages (from requests->-r ../../requirements.txt (line 3)) (3.6)\n",
      "Requirement already satisfied: packaging>=20.0 in /Users/jernkun/Library/Python/3.10/lib/python/site-packages (from matplotlib->-r ../../requirements.txt (line 6)) (23.2)\n",
      "Requirement already satisfied: kiwisolver>=1.3.1 in /Library/Frameworks/Python.framework/Versions/3.10/lib/python3.10/site-packages (from matplotlib->-r ../../requirements.txt (line 6)) (1.4.5)\n",
      "Requirement already satisfied: cycler>=0.10 in /Library/Frameworks/Python.framework/Versions/3.10/lib/python3.10/site-packages (from matplotlib->-r ../../requirements.txt (line 6)) (0.12.1)\n",
      "Requirement already satisfied: python-dateutil>=2.7 in /Users/jernkun/Library/Python/3.10/lib/python/site-packages (from matplotlib->-r ../../requirements.txt (line 6)) (2.8.2)\n",
      "Requirement already satisfied: fonttools>=4.22.0 in /Library/Frameworks/Python.framework/Versions/3.10/lib/python3.10/site-packages (from matplotlib->-r ../../requirements.txt (line 6)) (4.45.1)\n",
      "Requirement already satisfied: pillow>=8 in /Library/Frameworks/Python.framework/Versions/3.10/lib/python3.10/site-packages (from matplotlib->-r ../../requirements.txt (line 6)) (10.1.0)\n",
      "Requirement already satisfied: contourpy>=1.0.1 in /Library/Frameworks/Python.framework/Versions/3.10/lib/python3.10/site-packages (from matplotlib->-r ../../requirements.txt (line 6)) (1.2.0)\n",
      "Requirement already satisfied: pyparsing>=2.3.1 in /Library/Frameworks/Python.framework/Versions/3.10/lib/python3.10/site-packages (from matplotlib->-r ../../requirements.txt (line 6)) (3.1.1)\n",
      "Requirement already satisfied: docutils>=0.3 in /Library/Frameworks/Python.framework/Versions/3.10/lib/python3.10/site-packages (from statistics->-r ../../requirements.txt (line 7)) (0.20.1)\n",
      "Requirement already satisfied: protobuf>=3.20.2 in /Library/Frameworks/Python.framework/Versions/3.10/lib/python3.10/site-packages (from onnx->-r ../../requirements.txt (line 8)) (4.25.1)\n",
      "Requirement already satisfied: six>=1.5 in /Users/jernkun/Library/Python/3.10/lib/python/site-packages (from python-dateutil>=2.7->matplotlib->-r ../../requirements.txt (line 6)) (1.16.0)\n",
      "Requirement already satisfied: MarkupSafe>=2.0 in /Library/Frameworks/Python.framework/Versions/3.10/lib/python3.10/site-packages (from jinja2->torch->-r ../../requirements.txt (line 2)) (2.1.3)\n",
      "Requirement already satisfied: mpmath>=0.19 in /Library/Frameworks/Python.framework/Versions/3.10/lib/python3.10/site-packages (from sympy->torch->-r ../../requirements.txt (line 2)) (1.3.0)\n",
      "\u001b[33mWARNING: You are using pip version 21.2.3; however, version 23.3.2 is available.\n",
      "You should consider upgrading via the '/usr/local/bin/python3 -m pip install --upgrade pip' command.\u001b[0m\n",
      "Note: you may need to restart the kernel to use updated packages.\n"
     ]
    }
   ],
   "source": [
    "pip install -r ../../requirements.txt"
   ]
  },
  {
   "cell_type": "code",
   "execution_count": 2,
   "metadata": {},
   "outputs": [],
   "source": [
    "import ezkl\n",
    "import torch\n",
    "from torch import nn\n",
    "import json\n",
    "import os\n",
    "import time\n",
    "import scipy\n",
    "import numpy as np\n",
    "import matplotlib.pyplot as plt\n",
    "import statistics\n",
    "import math"
   ]
  },
  {
   "cell_type": "code",
   "execution_count": 3,
   "metadata": {},
   "outputs": [],
   "source": [
    "%run -i ../../zkstats/core.py"
   ]
  },
  {
   "cell_type": "code",
   "execution_count": 4,
   "metadata": {},
   "outputs": [],
   "source": [
    "# init path\n",
    "os.makedirs(os.path.dirname('shared/'), exist_ok=True)\n",
    "os.makedirs(os.path.dirname('prover/'), exist_ok=True)\n",
    "verifier_model_path = os.path.join('shared/verifier.onnx')\n",
    "prover_model_path = os.path.join('prover/prover.onnx')\n",
    "verifier_compiled_model_path = os.path.join('shared/verifier.compiled')\n",
    "prover_compiled_model_path = os.path.join('prover/prover.compiled')\n",
    "pk_path = os.path.join('shared/test.pk')\n",
    "vk_path = os.path.join('shared/test.vk')\n",
    "proof_path = os.path.join('shared/test.pf')\n",
    "settings_path = os.path.join('shared/settings.json')\n",
    "srs_path = os.path.join('shared/kzg.srs')\n",
    "witness_path = os.path.join('prover/witness.json')\n",
    "# this is private to prover since it contains actual data\n",
    "comb_data_path = os.path.join('prover/comb_data.json')"
   ]
  },
  {
   "attachments": {},
   "cell_type": "markdown",
   "metadata": {},
   "source": [
    "=======================  ZK-STATS FLOW ======================="
   ]
  },
  {
   "cell_type": "code",
   "execution_count": 5,
   "metadata": {},
   "outputs": [],
   "source": [
    "data_path = os.path.join('data.json')\n",
    "dummy_data_path = os.path.join('shared/dummy_data.json')\n",
    "\n",
    "f_raw_input = open(data_path, \"r\")\n",
    "data = json.loads(f_raw_input.read())[\"input_data\"][0]\n",
    "data_tensor = torch.reshape(torch.tensor(data),(1, len(data), 1))\n",
    "\n",
    "#  dummy data for data consumer: make the bound approx same as real data\n",
    "dummy_data = np.round(np.random.uniform(1,10,len(data)),1)\n",
    "json.dump({\"input_data\":[dummy_data.tolist()]}, open(dummy_data_path, 'w'))\n",
    "\n",
    "dummy_data_tensor = torch.reshape(torch.tensor(dummy_data), (1, len(dummy_data),1 ))\n",
    "dummy_theory_output = torch.sqrt(torch.var(dummy_data_tensor, correction = 1))\n",
    "dummy_data_mean = torch.mean(dummy_data_tensor)"
   ]
  },
  {
   "cell_type": "code",
   "execution_count": 6,
   "metadata": {},
   "outputs": [
    {
     "name": "stderr",
     "output_type": "stream",
     "text": [
      "/Library/Frameworks/Python.framework/Versions/3.10/lib/python3.10/site-packages/torch/onnx/symbolic_opset9.py:2174: FutureWarning: 'torch.onnx.symbolic_opset9._cast_Bool' is deprecated in version 2.0 and will be removed in the future. Please Avoid using this function and create a Cast node instead.\n",
      "  return fn(g, to_cast_func(g, input, False), to_cast_func(g, other, False))\n"
     ]
    }
   ],
   "source": [
    "# Verifier/ data consumer side:\n",
    "class verifier_model(nn.Module):\n",
    "    def __init__(self):\n",
    "        super(verifier_model, self).__init__()\n",
    "        # w represents mean in this case\n",
    "        self.w = nn.Parameter(data = dummy_theory_output, requires_grad = False)\n",
    "        self.data_mean = nn.Parameter(data = dummy_data_mean, requires_grad = False)\n",
    "\n",
    "    def forward(self,X):\n",
    "        x_mean_cons = torch.abs(torch.sum(X)-X.size()[1]*(self.data_mean))<=torch.abs(0.01*X.size()[1]*self.data_mean)\n",
    "        return (torch.logical_and(torch.abs(torch.sum((X-self.data_mean)*(X-self.data_mean))-self.w*self.w*(X.size()[1]-1))<=torch.abs(0.02*self.w*self.w*(X.size()[1]-1)),x_mean_cons),self.w)\n",
    "\n",
    "verifier_define_calculation(verifier_model, verifier_model_path, [dummy_data_path])"
   ]
  },
  {
   "cell_type": "code",
   "execution_count": 7,
   "metadata": {},
   "outputs": [
    {
     "name": "stdout",
     "output_type": "stream",
     "text": [
      "theory output:  tensor(14.5800)\n",
      "==== Generate & Calibrate Setting ====\n",
      "scale:  [2]\n",
      "setting:  {\"run_args\":{\"tolerance\":{\"val\":0.0,\"scale\":1.0},\"input_scale\":2,\"param_scale\":2,\"scale_rebase_multiplier\":10,\"lookup_range\":[-40670,8],\"logrows\":16,\"num_inner_cols\":2,\"variables\":[[\"batch_size\",1]],\"input_visibility\":{\"Hashed\":{\"hash_is_public\":true,\"outlets\":[]}},\"output_visibility\":\"Public\",\"param_visibility\":\"Private\"},\"num_rows\":14432,\"total_assignments\":1521,\"total_const_size\":8,\"model_instance_shapes\":[[1],[1]],\"model_output_scales\":[0,2],\"model_input_scales\":[2],\"module_sizes\":{\"kzg\":[],\"poseidon\":[14432,[1]],\"elgamal\":[0,[0]]},\"required_lookups\":[\"Abs\",{\"GreaterThan\":{\"a\":0.0}}],\"check_mode\":\"UNSAFE\",\"version\":\"7.0.0\",\"num_blinding_factors\":null}\n"
     ]
    }
   ],
   "source": [
    "# Prover/ data owner side\n",
    "theory_output = torch.sqrt(torch.var(data_tensor, correction = 1))\n",
    "data_mean = torch.mean(data_tensor)\n",
    "print(\"theory output: \", theory_output)\n",
    "class prover_model(nn.Module):\n",
    "    def __init__(self):\n",
    "        super(prover_model, self).__init__()\n",
    "        # w represents mean in this case\n",
    "        self.w = nn.Parameter(data = theory_output, requires_grad = False)\n",
    "        self.data_mean = nn.Parameter(data = data_mean, requires_grad = False)\n",
    "    def forward(self,X):\n",
    "        x_mean_cons = torch.abs(torch.sum(X)-X.size()[1]*(self.data_mean))<=torch.abs(0.01*X.size()[1]*self.data_mean)\n",
    "        return (torch.logical_and(torch.abs(torch.sum((X-self.data_mean)*(X-self.data_mean))-self.w*self.w*(X.size()[1]-1))<=torch.abs(0.02*self.w*self.w*(X.size()[1]-1)),x_mean_cons),self.w)\n",
    "\n",
    "prover_gen_settings([data_path], comb_data_path, prover_model,prover_model_path, [2], \"resources\", settings_path)"
   ]
  },
  {
   "cell_type": "code",
   "execution_count": 9,
   "metadata": {},
   "outputs": [
    {
     "name": "stderr",
     "output_type": "stream",
     "text": [
      "spawning module 0\n",
      "spawning module 2\n"
     ]
    },
    {
     "name": "stdout",
     "output_type": "stream",
     "text": [
      "==== setting up ezkl ====\n"
     ]
    },
    {
     "name": "stderr",
     "output_type": "stream",
     "text": [
      "spawning module 0\n",
      "spawning module 2\n"
     ]
    },
    {
     "name": "stdout",
     "output_type": "stream",
     "text": [
      "Time setup: 6.441983938217163 seconds\n",
      "=======================================\n",
      "Theory output:  tensor(14.5800)\n",
      "!@# compiled_model exists? True\n",
      "!@# compiled_model exists? True\n",
      "==== Generating Witness ====\n",
      "witness boolean:  1.0\n",
      "witness result 1 : 14.5\n",
      "==== Generating Proof ====\n"
     ]
    },
    {
     "name": "stderr",
     "output_type": "stream",
     "text": [
      "spawning module 0\n",
      "spawning module 2\n"
     ]
    },
    {
     "name": "stdout",
     "output_type": "stream",
     "text": [
      "proof:  {'instances': [[[12907834141446617622, 16863260785082668294, 2215826187815521673, 2191547160659437828], [12436184717236109307, 3962172157175319849, 7381016538464732718, 1011752739694698287], [15846044116984004302, 17434658319873045084, 12685703199754313893, 2889686633444970017]]], 'proof': '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', 'transcript_type': 'EVM'}\n",
      "Time gen prf: 7.901731967926025 seconds\n"
     ]
    }
   ],
   "source": [
    "# Here verifier & prover can concurrently call setup since all params are public to get pk. \n",
    "# Here write as verifier function to emphasize that verifier must calculate its own vk to be sure\n",
    "verifier_setup(verifier_model_path, verifier_compiled_model_path, settings_path,vk_path, pk_path )\n",
    "\n",
    "print(\"=======================================\")\n",
    "# Prover generates proof\n",
    "print(\"Theory output: \", theory_output)\n",
    "prover_gen_proof(prover_model_path, comb_data_path, witness_path, prover_compiled_model_path, settings_path, proof_path, pk_path)"
   ]
  },
  {
   "cell_type": "code",
   "execution_count": 10,
   "metadata": {},
   "outputs": [
    {
     "name": "stdout",
     "output_type": "stream",
     "text": [
      "num_inputs:  1\n",
      "prf instances:  [[[12907834141446617622, 16863260785082668294, 2215826187815521673, 2191547160659437828], [12436184717236109307, 3962172157175319849, 7381016538464732718, 1011752739694698287], [15846044116984004302, 17434658319873045084, 12685703199754313893, 2889686633444970017]]]\n",
      "proof boolean:  1.0\n",
      "proof result 1 : 14.5\n",
      "verified\n"
     ]
    }
   ],
   "source": [
    "# Verifier verifies\n",
    "verifier_verify(proof_path, settings_path, vk_path)"
   ]
  },
  {
   "cell_type": "code",
   "execution_count": null,
   "metadata": {},
   "outputs": [],
   "source": []
  }
 ],
 "metadata": {
  "kernelspec": {
   "display_name": "Python 3",
   "language": "python",
   "name": "python3"
  },
  "language_info": {
   "codemirror_mode": {
    "name": "ipython",
    "version": 3
   },
   "file_extension": ".py",
   "mimetype": "text/x-python",
   "name": "python",
   "nbconvert_exporter": "python",
   "pygments_lexer": "ipython3",
   "version": "3.10.0"
  },
  "orig_nbformat": 4
 },
 "nbformat": 4,
 "nbformat_minor": 2
}
