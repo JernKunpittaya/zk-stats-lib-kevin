{
 "cells": [
  {
   "cell_type": "code",
   "execution_count": 12,
   "metadata": {},
   "outputs": [
    {
     "name": "stderr",
     "output_type": "stream",
     "text": [
      "python(43647) MallocStackLogging: can't turn off malloc stack logging because it was not enabled.\n"
     ]
    },
    {
     "name": "stdout",
     "output_type": "stream",
     "text": [
      "Requirement already satisfied: ezkl==9.1.0 in /Users/jernkun/Library/Caches/pypoetry/virtualenvs/zkstats-OJpceffF-py3.11/lib/python3.11/site-packages (from -r ../../requirements.txt (line 1)) (9.1.0)\n",
      "Requirement already satisfied: torch in /Users/jernkun/Library/Caches/pypoetry/virtualenvs/zkstats-OJpceffF-py3.11/lib/python3.11/site-packages (from -r ../../requirements.txt (line 2)) (2.2.0)\n",
      "Requirement already satisfied: requests in /Users/jernkun/Library/Caches/pypoetry/virtualenvs/zkstats-OJpceffF-py3.11/lib/python3.11/site-packages (from -r ../../requirements.txt (line 3)) (2.31.0)\n",
      "Requirement already satisfied: scipy in /Users/jernkun/Library/Caches/pypoetry/virtualenvs/zkstats-OJpceffF-py3.11/lib/python3.11/site-packages (from -r ../../requirements.txt (line 4)) (1.12.0)\n",
      "Requirement already satisfied: numpy in /Users/jernkun/Library/Caches/pypoetry/virtualenvs/zkstats-OJpceffF-py3.11/lib/python3.11/site-packages (from -r ../../requirements.txt (line 5)) (1.26.3)\n",
      "Requirement already satisfied: matplotlib in /Users/jernkun/Library/Caches/pypoetry/virtualenvs/zkstats-OJpceffF-py3.11/lib/python3.11/site-packages (from -r ../../requirements.txt (line 6)) (3.8.2)\n",
      "Requirement already satisfied: statistics in /Users/jernkun/Library/Caches/pypoetry/virtualenvs/zkstats-OJpceffF-py3.11/lib/python3.11/site-packages (from -r ../../requirements.txt (line 7)) (1.0.3.5)\n",
      "Requirement already satisfied: onnx in /Users/jernkun/Library/Caches/pypoetry/virtualenvs/zkstats-OJpceffF-py3.11/lib/python3.11/site-packages (from -r ../../requirements.txt (line 8)) (1.15.0)\n",
      "Requirement already satisfied: filelock in /Users/jernkun/Library/Caches/pypoetry/virtualenvs/zkstats-OJpceffF-py3.11/lib/python3.11/site-packages (from torch->-r ../../requirements.txt (line 2)) (3.13.1)\n",
      "Requirement already satisfied: typing-extensions>=4.8.0 in /Users/jernkun/Library/Caches/pypoetry/virtualenvs/zkstats-OJpceffF-py3.11/lib/python3.11/site-packages (from torch->-r ../../requirements.txt (line 2)) (4.9.0)\n",
      "Requirement already satisfied: sympy in /Users/jernkun/Library/Caches/pypoetry/virtualenvs/zkstats-OJpceffF-py3.11/lib/python3.11/site-packages (from torch->-r ../../requirements.txt (line 2)) (1.12)\n",
      "Requirement already satisfied: networkx in /Users/jernkun/Library/Caches/pypoetry/virtualenvs/zkstats-OJpceffF-py3.11/lib/python3.11/site-packages (from torch->-r ../../requirements.txt (line 2)) (3.2.1)\n",
      "Requirement already satisfied: jinja2 in /Users/jernkun/Library/Caches/pypoetry/virtualenvs/zkstats-OJpceffF-py3.11/lib/python3.11/site-packages (from torch->-r ../../requirements.txt (line 2)) (3.1.3)\n",
      "Requirement already satisfied: fsspec in /Users/jernkun/Library/Caches/pypoetry/virtualenvs/zkstats-OJpceffF-py3.11/lib/python3.11/site-packages (from torch->-r ../../requirements.txt (line 2)) (2023.12.2)\n",
      "Requirement already satisfied: charset-normalizer<4,>=2 in /Users/jernkun/Library/Caches/pypoetry/virtualenvs/zkstats-OJpceffF-py3.11/lib/python3.11/site-packages (from requests->-r ../../requirements.txt (line 3)) (3.3.2)\n",
      "Requirement already satisfied: idna<4,>=2.5 in /Users/jernkun/Library/Caches/pypoetry/virtualenvs/zkstats-OJpceffF-py3.11/lib/python3.11/site-packages (from requests->-r ../../requirements.txt (line 3)) (3.6)\n",
      "Requirement already satisfied: urllib3<3,>=1.21.1 in /Users/jernkun/Library/Caches/pypoetry/virtualenvs/zkstats-OJpceffF-py3.11/lib/python3.11/site-packages (from requests->-r ../../requirements.txt (line 3)) (2.2.0)\n",
      "Requirement already satisfied: certifi>=2017.4.17 in /Users/jernkun/Library/Caches/pypoetry/virtualenvs/zkstats-OJpceffF-py3.11/lib/python3.11/site-packages (from requests->-r ../../requirements.txt (line 3)) (2024.2.2)\n",
      "Requirement already satisfied: contourpy>=1.0.1 in /Users/jernkun/Library/Caches/pypoetry/virtualenvs/zkstats-OJpceffF-py3.11/lib/python3.11/site-packages (from matplotlib->-r ../../requirements.txt (line 6)) (1.2.0)\n",
      "Requirement already satisfied: cycler>=0.10 in /Users/jernkun/Library/Caches/pypoetry/virtualenvs/zkstats-OJpceffF-py3.11/lib/python3.11/site-packages (from matplotlib->-r ../../requirements.txt (line 6)) (0.12.1)\n",
      "Requirement already satisfied: fonttools>=4.22.0 in /Users/jernkun/Library/Caches/pypoetry/virtualenvs/zkstats-OJpceffF-py3.11/lib/python3.11/site-packages (from matplotlib->-r ../../requirements.txt (line 6)) (4.47.2)\n",
      "Requirement already satisfied: kiwisolver>=1.3.1 in /Users/jernkun/Library/Caches/pypoetry/virtualenvs/zkstats-OJpceffF-py3.11/lib/python3.11/site-packages (from matplotlib->-r ../../requirements.txt (line 6)) (1.4.5)\n",
      "Requirement already satisfied: packaging>=20.0 in /Users/jernkun/Library/Caches/pypoetry/virtualenvs/zkstats-OJpceffF-py3.11/lib/python3.11/site-packages (from matplotlib->-r ../../requirements.txt (line 6)) (23.2)\n",
      "Requirement already satisfied: pillow>=8 in /Users/jernkun/Library/Caches/pypoetry/virtualenvs/zkstats-OJpceffF-py3.11/lib/python3.11/site-packages (from matplotlib->-r ../../requirements.txt (line 6)) (10.2.0)\n",
      "Requirement already satisfied: pyparsing>=2.3.1 in /Users/jernkun/Library/Caches/pypoetry/virtualenvs/zkstats-OJpceffF-py3.11/lib/python3.11/site-packages (from matplotlib->-r ../../requirements.txt (line 6)) (3.1.1)\n",
      "Requirement already satisfied: python-dateutil>=2.7 in /Users/jernkun/Library/Caches/pypoetry/virtualenvs/zkstats-OJpceffF-py3.11/lib/python3.11/site-packages (from matplotlib->-r ../../requirements.txt (line 6)) (2.8.2)\n",
      "Requirement already satisfied: docutils>=0.3 in /Users/jernkun/Library/Caches/pypoetry/virtualenvs/zkstats-OJpceffF-py3.11/lib/python3.11/site-packages (from statistics->-r ../../requirements.txt (line 7)) (0.20.1)\n",
      "Requirement already satisfied: protobuf>=3.20.2 in /Users/jernkun/Library/Caches/pypoetry/virtualenvs/zkstats-OJpceffF-py3.11/lib/python3.11/site-packages (from onnx->-r ../../requirements.txt (line 8)) (4.25.2)\n",
      "Requirement already satisfied: six>=1.5 in /Users/jernkun/Library/Caches/pypoetry/virtualenvs/zkstats-OJpceffF-py3.11/lib/python3.11/site-packages (from python-dateutil>=2.7->matplotlib->-r ../../requirements.txt (line 6)) (1.16.0)\n",
      "Requirement already satisfied: MarkupSafe>=2.0 in /Users/jernkun/Library/Caches/pypoetry/virtualenvs/zkstats-OJpceffF-py3.11/lib/python3.11/site-packages (from jinja2->torch->-r ../../requirements.txt (line 2)) (2.1.4)\n",
      "Requirement already satisfied: mpmath>=0.19 in /Users/jernkun/Library/Caches/pypoetry/virtualenvs/zkstats-OJpceffF-py3.11/lib/python3.11/site-packages (from sympy->torch->-r ../../requirements.txt (line 2)) (1.3.0)\n",
      "\n",
      "\u001b[1m[\u001b[0m\u001b[34;49mnotice\u001b[0m\u001b[1;39;49m]\u001b[0m\u001b[39;49m A new release of pip is available: \u001b[0m\u001b[31;49m23.2.1\u001b[0m\u001b[39;49m -> \u001b[0m\u001b[32;49m24.0\u001b[0m\n",
      "\u001b[1m[\u001b[0m\u001b[34;49mnotice\u001b[0m\u001b[1;39;49m]\u001b[0m\u001b[39;49m To update, run: \u001b[0m\u001b[32;49mpip install --upgrade pip\u001b[0m\n",
      "Note: you may need to restart the kernel to use updated packages.\n"
     ]
    }
   ],
   "source": [
    "pip install -r ../../requirements.txt"
   ]
  },
  {
   "cell_type": "code",
   "execution_count": 13,
   "metadata": {},
   "outputs": [],
   "source": [
    "import ezkl\n",
    "import torch\n",
    "from torch import nn\n",
    "import json\n",
    "import os\n",
    "import time\n",
    "import scipy\n",
    "import numpy as np\n",
    "import matplotlib.pyplot as plt\n",
    "import statistics\n",
    "import math"
   ]
  },
  {
   "cell_type": "code",
   "execution_count": 14,
   "metadata": {},
   "outputs": [],
   "source": [
    "from zkstats.core import create_dummy, verifier_define_calculation, prover_gen_settings, setup, prover_gen_proof, verifier_verify, get_data_commitment_maps"
   ]
  },
  {
   "cell_type": "code",
   "execution_count": 15,
   "metadata": {},
   "outputs": [],
   "source": [
    "# init path\n",
    "os.makedirs(os.path.dirname('shared/'), exist_ok=True)\n",
    "os.makedirs(os.path.dirname('prover/'), exist_ok=True)\n",
    "verifier_model_path = os.path.join('shared/verifier.onnx')\n",
    "prover_model_path = os.path.join('prover/prover.onnx')\n",
    "verifier_compiled_model_path = os.path.join('shared/verifier.compiled')\n",
    "prover_compiled_model_path = os.path.join('prover/prover.compiled')\n",
    "pk_path = os.path.join('shared/test.pk')\n",
    "vk_path = os.path.join('shared/test.vk')\n",
    "proof_path = os.path.join('shared/test.pf')\n",
    "settings_path = os.path.join('shared/settings.json')\n",
    "srs_path = os.path.join('shared/kzg.srs')\n",
    "witness_path = os.path.join('prover/witness.json')\n",
    "# this is private to prover since it contains actual data\n",
    "sel_data_path = os.path.join('prover/sel_data.json')\n",
    "# this is just dummy random value\n",
    "sel_dummy_data_path = os.path.join('shared/sel_dummy_data.json')"
   ]
  },
  {
   "attachments": {},
   "cell_type": "markdown",
   "metadata": {},
   "source": [
    "=======================  ZK-STATS FLOW ======================="
   ]
  },
  {
   "cell_type": "code",
   "execution_count": 16,
   "metadata": {},
   "outputs": [],
   "source": [
    "data_path = os.path.join('data.json')\n",
    "dummy_data_path = os.path.join('shared/dummy_data.json')\n",
    "\n",
    "create_dummy(data_path, dummy_data_path)"
   ]
  },
  {
   "cell_type": "code",
   "execution_count": 17,
   "metadata": {},
   "outputs": [],
   "source": [
    "scales = [6]\n",
    "selected_columns = ['col_name']\n",
    "commitment_maps = get_data_commitment_maps(data_path, scales)"
   ]
  },
  {
   "cell_type": "code",
   "execution_count": 18,
   "metadata": {},
   "outputs": [],
   "source": [
    "# Verifier/ data consumer side:\n",
    "# since have division, scale must be very LARGE, cant use just 0\n",
    "# So, we allow error rate to be 10% instead of 1%\n",
    "from zkstats.computation import computation_to_model, State\n",
    "\n",
    "\n",
    "def computation(s: State, data: list[torch.Tensor]) -> torch.Tensor:\n",
    "    x = data[0]\n",
    "    return s.harmonic_mean(x)\n",
    "\n",
    "error = 0.1\n",
    "_, verifier_model = computation_to_model(computation, error)\n",
    "\n",
    "verifier_define_calculation(dummy_data_path, selected_columns,sel_dummy_data_path,verifier_model, verifier_model_path)"
   ]
  },
  {
   "cell_type": "code",
   "execution_count": 19,
   "metadata": {},
   "outputs": [
    {
     "name": "stdout",
     "output_type": "stream",
     "text": [
      "==== Generate & Calibrate Setting ====\n",
      "scale:  [6]\n",
      "setting:  {\"run_args\":{\"tolerance\":{\"val\":0.0,\"scale\":1.0},\"input_scale\":6,\"param_scale\":6,\"scale_rebase_multiplier\":10,\"lookup_range\":[-184392,11264],\"logrows\":18,\"num_inner_cols\":2,\"variables\":[[\"batch_size\",1]],\"input_visibility\":{\"Hashed\":{\"hash_is_public\":true,\"outlets\":[]}},\"output_visibility\":\"Public\",\"param_visibility\":\"Private\"},\"num_rows\":14432,\"total_assignments\":911,\"total_const_size\":4,\"model_instance_shapes\":[[1],[1]],\"model_output_scales\":[0,6],\"model_input_scales\":[6],\"module_sizes\":{\"kzg\":[],\"poseidon\":[14432,[1]],\"elgamal\":[0,[0]]},\"required_lookups\":[\"Abs\",{\"Recip\":{\"scale\":4096.0}},{\"GreaterThan\":{\"a\":0.0}}],\"check_mode\":\"UNSAFE\",\"version\":\"7.0.0\",\"num_blinding_factors\":null}\n"
     ]
    }
   ],
   "source": [
    "# prover calculates settings, send to verifier\n",
    "_, prover_model = computation_to_model(computation, error)\n",
    "\n",
    "prover_gen_settings(data_path, selected_columns, sel_data_path, prover_model,prover_model_path, scales, \"resources\", settings_path)"
   ]
  },
  {
   "cell_type": "code",
   "execution_count": 20,
   "metadata": {},
   "outputs": [
    {
     "name": "stderr",
     "output_type": "stream",
     "text": [
      "spawning module 0\n",
      "spawning module 2\n"
     ]
    },
    {
     "name": "stdout",
     "output_type": "stream",
     "text": [
      "==== setting up ezkl ====\n"
     ]
    },
    {
     "name": "stderr",
     "output_type": "stream",
     "text": [
      "spawning module 0\n",
      "spawning module 2\n"
     ]
    },
    {
     "name": "stdout",
     "output_type": "stream",
     "text": [
      "Time setup: 25.911302089691162 seconds\n",
      "=======================================\n",
      "==== Generating Witness ====\n",
      "witness boolean:  1.0\n",
      "witness result 1 : 45.21875\n",
      "==== Generating Proof ====\n"
     ]
    },
    {
     "name": "stderr",
     "output_type": "stream",
     "text": [
      "spawning module 0\n",
      "spawning module 2\n"
     ]
    },
    {
     "name": "stdout",
     "output_type": "stream",
     "text": [
      "proof:  {'instances': [[[11712583131456230033, 7998639690917952521, 17628064685104548320, 3364894255067083796], [12436184717236109307, 3962172157175319849, 7381016538464732718, 1011752739694698287], [10409296726488761395, 15557203226960814343, 16692342436085548322, 2420882828764455196]]], 'proof': '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', 'transcript_type': 'EVM'}\n",
      "Time gen prf: 35.821518898010254 seconds\n"
     ]
    }
   ],
   "source": [
    "# Here verifier & prover can concurrently call setup since all params are public to get pk.\n",
    "# Here write as verifier function to emphasize that verifier must calculate its own vk to be sure\n",
    "setup(verifier_model_path, verifier_compiled_model_path, settings_path,vk_path, pk_path )\n",
    "\n",
    "print(\"=======================================\")\n",
    "# Prover generates proof\n",
    "prover_gen_proof(prover_model_path, sel_data_path, witness_path, prover_compiled_model_path, settings_path, proof_path, pk_path)"
   ]
  },
  {
   "cell_type": "code",
   "execution_count": 21,
   "metadata": {},
   "outputs": [
    {
     "name": "stdout",
     "output_type": "stream",
     "text": [
      "Verifier gets result: [45.21875]\n"
     ]
    }
   ],
   "source": [
    "# Verifier verifies\n",
    "res = verifier_verify(proof_path, settings_path, vk_path, selected_columns, commitment_maps)\n",
    "print(\"Verifier gets result:\", res)"
   ]
  },
  {
   "cell_type": "code",
   "execution_count": null,
   "metadata": {},
   "outputs": [],
   "source": []
  }
 ],
 "metadata": {
  "kernelspec": {
   "display_name": "Python 3",
   "language": "python",
   "name": "python3"
  },
  "language_info": {
   "codemirror_mode": {
    "name": "ipython",
    "version": 3
   },
   "file_extension": ".py",
   "mimetype": "text/x-python",
   "name": "python",
   "nbconvert_exporter": "python",
   "pygments_lexer": "ipython3",
   "version": "3.11.4"
  },
  "orig_nbformat": 4
 },
 "nbformat": 4,
 "nbformat_minor": 2
}
