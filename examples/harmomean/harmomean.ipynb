{
 "cells": [
  {
   "cell_type": "code",
   "execution_count": 25,
   "metadata": {},
   "outputs": [
    {
     "name": "stdout",
     "output_type": "stream",
     "text": [
      "Requirement already satisfied: ezkl==5.4.2 in /Library/Frameworks/Python.framework/Versions/3.10/lib/python3.10/site-packages (from -r ../../requirements.txt (line 1)) (5.4.2)\n",
      "Requirement already satisfied: torch in /Library/Frameworks/Python.framework/Versions/3.10/lib/python3.10/site-packages (from -r ../../requirements.txt (line 2)) (2.1.1)\n",
      "Requirement already satisfied: requests in /Library/Frameworks/Python.framework/Versions/3.10/lib/python3.10/site-packages (from -r ../../requirements.txt (line 3)) (2.31.0)\n",
      "Requirement already satisfied: scipy in /Library/Frameworks/Python.framework/Versions/3.10/lib/python3.10/site-packages (from -r ../../requirements.txt (line 4)) (1.11.4)\n",
      "Requirement already satisfied: numpy in /Library/Frameworks/Python.framework/Versions/3.10/lib/python3.10/site-packages (from -r ../../requirements.txt (line 5)) (1.26.2)\n",
      "Requirement already satisfied: matplotlib in /Library/Frameworks/Python.framework/Versions/3.10/lib/python3.10/site-packages (from -r ../../requirements.txt (line 6)) (3.8.2)\n",
      "Requirement already satisfied: statistics in /Library/Frameworks/Python.framework/Versions/3.10/lib/python3.10/site-packages (from -r ../../requirements.txt (line 7)) (1.0.3.5)\n",
      "Requirement already satisfied: onnx in /Library/Frameworks/Python.framework/Versions/3.10/lib/python3.10/site-packages (from -r ../../requirements.txt (line 8)) (1.15.0)\n",
      "Requirement already satisfied: networkx in /Library/Frameworks/Python.framework/Versions/3.10/lib/python3.10/site-packages (from torch->-r ../../requirements.txt (line 2)) (3.2.1)\n",
      "Requirement already satisfied: jinja2 in /Library/Frameworks/Python.framework/Versions/3.10/lib/python3.10/site-packages (from torch->-r ../../requirements.txt (line 2)) (3.1.2)\n",
      "Requirement already satisfied: sympy in /Library/Frameworks/Python.framework/Versions/3.10/lib/python3.10/site-packages (from torch->-r ../../requirements.txt (line 2)) (1.12)\n",
      "Requirement already satisfied: fsspec in /Library/Frameworks/Python.framework/Versions/3.10/lib/python3.10/site-packages (from torch->-r ../../requirements.txt (line 2)) (2023.10.0)\n",
      "Requirement already satisfied: typing-extensions in /Library/Frameworks/Python.framework/Versions/3.10/lib/python3.10/site-packages (from torch->-r ../../requirements.txt (line 2)) (4.8.0)\n",
      "Requirement already satisfied: filelock in /Library/Frameworks/Python.framework/Versions/3.10/lib/python3.10/site-packages (from torch->-r ../../requirements.txt (line 2)) (3.13.1)\n",
      "Requirement already satisfied: charset-normalizer<4,>=2 in /Library/Frameworks/Python.framework/Versions/3.10/lib/python3.10/site-packages (from requests->-r ../../requirements.txt (line 3)) (3.3.2)\n",
      "Requirement already satisfied: certifi>=2017.4.17 in /Library/Frameworks/Python.framework/Versions/3.10/lib/python3.10/site-packages (from requests->-r ../../requirements.txt (line 3)) (2023.11.17)\n",
      "Requirement already satisfied: urllib3<3,>=1.21.1 in /Library/Frameworks/Python.framework/Versions/3.10/lib/python3.10/site-packages (from requests->-r ../../requirements.txt (line 3)) (2.1.0)\n",
      "Requirement already satisfied: idna<4,>=2.5 in /Library/Frameworks/Python.framework/Versions/3.10/lib/python3.10/site-packages (from requests->-r ../../requirements.txt (line 3)) (3.6)\n",
      "Requirement already satisfied: python-dateutil>=2.7 in /Users/jernkun/Library/Python/3.10/lib/python/site-packages (from matplotlib->-r ../../requirements.txt (line 6)) (2.8.2)\n",
      "Requirement already satisfied: fonttools>=4.22.0 in /Library/Frameworks/Python.framework/Versions/3.10/lib/python3.10/site-packages (from matplotlib->-r ../../requirements.txt (line 6)) (4.45.1)\n",
      "Requirement already satisfied: kiwisolver>=1.3.1 in /Library/Frameworks/Python.framework/Versions/3.10/lib/python3.10/site-packages (from matplotlib->-r ../../requirements.txt (line 6)) (1.4.5)\n",
      "Requirement already satisfied: packaging>=20.0 in /Users/jernkun/Library/Python/3.10/lib/python/site-packages (from matplotlib->-r ../../requirements.txt (line 6)) (23.2)\n",
      "Requirement already satisfied: pillow>=8 in /Library/Frameworks/Python.framework/Versions/3.10/lib/python3.10/site-packages (from matplotlib->-r ../../requirements.txt (line 6)) (10.1.0)\n",
      "Requirement already satisfied: contourpy>=1.0.1 in /Library/Frameworks/Python.framework/Versions/3.10/lib/python3.10/site-packages (from matplotlib->-r ../../requirements.txt (line 6)) (1.2.0)\n",
      "Requirement already satisfied: pyparsing>=2.3.1 in /Library/Frameworks/Python.framework/Versions/3.10/lib/python3.10/site-packages (from matplotlib->-r ../../requirements.txt (line 6)) (3.1.1)\n",
      "Requirement already satisfied: cycler>=0.10 in /Library/Frameworks/Python.framework/Versions/3.10/lib/python3.10/site-packages (from matplotlib->-r ../../requirements.txt (line 6)) (0.12.1)\n",
      "Requirement already satisfied: docutils>=0.3 in /Library/Frameworks/Python.framework/Versions/3.10/lib/python3.10/site-packages (from statistics->-r ../../requirements.txt (line 7)) (0.20.1)\n",
      "Requirement already satisfied: protobuf>=3.20.2 in /Library/Frameworks/Python.framework/Versions/3.10/lib/python3.10/site-packages (from onnx->-r ../../requirements.txt (line 8)) (4.25.1)\n",
      "Requirement already satisfied: six>=1.5 in /Users/jernkun/Library/Python/3.10/lib/python/site-packages (from python-dateutil>=2.7->matplotlib->-r ../../requirements.txt (line 6)) (1.16.0)\n",
      "Requirement already satisfied: MarkupSafe>=2.0 in /Library/Frameworks/Python.framework/Versions/3.10/lib/python3.10/site-packages (from jinja2->torch->-r ../../requirements.txt (line 2)) (2.1.3)\n",
      "Requirement already satisfied: mpmath>=0.19 in /Library/Frameworks/Python.framework/Versions/3.10/lib/python3.10/site-packages (from sympy->torch->-r ../../requirements.txt (line 2)) (1.3.0)\n",
      "\u001b[33mWARNING: You are using pip version 21.2.3; however, version 23.3.1 is available.\n",
      "You should consider upgrading via the '/usr/local/bin/python3 -m pip install --upgrade pip' command.\u001b[0m\n",
      "Note: you may need to restart the kernel to use updated packages.\n"
     ]
    }
   ],
   "source": [
    "pip install -r ../../requirements.txt"
   ]
  },
  {
   "cell_type": "code",
   "execution_count": 9,
   "metadata": {},
   "outputs": [],
   "source": [
    "import ezkl\n",
    "import torch\n",
    "from torch import nn\n",
    "import json\n",
    "import os\n",
    "import time\n",
    "import scipy\n",
    "import numpy as np\n",
    "import matplotlib.pyplot as plt\n",
    "import statistics\n",
    "import math"
   ]
  },
  {
   "cell_type": "code",
   "execution_count": 10,
   "metadata": {},
   "outputs": [],
   "source": [
    "%run -i ../../zkstats/core.py"
   ]
  },
  {
   "cell_type": "code",
   "execution_count": 11,
   "metadata": {},
   "outputs": [],
   "source": [
    "# init path\n",
    "os.makedirs(os.path.dirname('shared/'), exist_ok=True)\n",
    "os.makedirs(os.path.dirname('prover/'), exist_ok=True)\n",
    "verifier_model_path = os.path.join('shared/verifier.onnx')\n",
    "prover_model_path = os.path.join('prover/prover.onnx')\n",
    "verifier_compiled_model_path = os.path.join('shared/verifier.compiled')\n",
    "prover_compiled_model_path = os.path.join('prover/prover.compiled')\n",
    "pk_path = os.path.join('shared/test.pk')\n",
    "vk_path = os.path.join('shared/test.vk')\n",
    "proof_path = os.path.join('shared/test.pf')\n",
    "settings_path = os.path.join('shared/settings.json')\n",
    "srs_path = os.path.join('shared/kzg.srs')\n",
    "witness_path = os.path.join('prover/witness.json')\n",
    "# this is private to prover since it contains actual data\n",
    "comb_data_path = os.path.join('prover/comb_data.json')"
   ]
  },
  {
   "attachments": {},
   "cell_type": "markdown",
   "metadata": {},
   "source": [
    "=======================  ZK-STATS FLOW ======================="
   ]
  },
  {
   "cell_type": "code",
   "execution_count": 24,
   "metadata": {},
   "outputs": [
    {
     "name": "stdout",
     "output_type": "stream",
     "text": [
      "dummy:  [ 1.1  7.7  8.6  4.2  2.7  1.3  1.3  1.7  6.6  7.3  9.4  5.5  7.8  3.2\n",
      "  1.5  4.4  6.6  7.5  6.1 10.   9.1  9.3  5.7  8.6  5.9  7.8  4.9  3.8\n",
      "  2.9  9.8  7.7  2.5  8.2  4.4  1.8  6.3  2.8  2.2  7.8  2.6  9.5  9.8\n",
      "  4.8  3.   8.5  7.3  8.4  6.5  2.4  1.7  1.7  6.6  8.   9.7  8.2  2.5\n",
      "  5.3  9.   1.8  4.6  2.6  8.   2.8  7.4  1.8  1.4  6.1  6.7  1.6  5.\n",
      "  8.   9.4  9.1  4.2  7.7  4.7  1.4  2.   8.   7.6  9.5  8.1  8.4  1.3\n",
      "  4.8  4.1  5.9  4.5  8.9  4.1  4.9  6.9  4.3  1.1  2.5  3.5  7.5  5.5\n",
      "  5.3  1.4  8.4  5.1  7.1  1.8  7.2  4.1  7.2  1.9  6.2  8.6  7.6  8.5\n",
      "  6.5  7.1  5.7  1.3  8.2  2.3  1.5  4.3  8.2  6.9  1.2  4.7  1.   4.7\n",
      "  8.3  7.4  3.6  8.2  6.4  1.6  2.3  7.4  8.   4.2  9.4  3.   6.6  1.7\n",
      "  1.8  3.   3.2  6.7  9.1  3.8  6.1  7.3  2.3  8.6  4.2  8.2  3.6  7.4\n",
      "  2.3  6.8  3.2  4.9  8.6  9.1  7.3  9.5  6.3  4.5  8.2  9.4  3.7  1.6\n",
      "  9.8  9.8  7.4  5.4  4.1  5.4  3.3  4.5  1.7  5.4  9.5  2.2  6.1  8.3\n",
      "  6.5  1.7  7.5  8.2  2.6  5.6  3.6  5.7  7.3  5.5  8.   5.2  8.5  2.\n",
      "  8.6  8.9  8.6  2.8  2.9  4.3  5.8  9.1  7.8  7.4  6.6  4.4  1.6  5.3\n",
      "  1.6  9.1  6.1  8.4  3.3  8.6  6.2  2.6  3.5  6.1  1.1  3.8  9.7  8.2\n",
      "  1.5  3.7  7.3  3.8  6.5  9.6  6.   5.1  9.   3.4  6.1  4.6  6.6  2.7\n",
      "  9.7  1.5  3.7  1.1  2.9  5.   8.9  2.6  2.1  8.8  4.2  4.   5.1  6.\n",
      "  3.3  5.1  1.6  5.7  2.   4.9  6.6  1.3  5.8  2.   7.2  2.2  2.3  7.7\n",
      "  3.9  4.9  7.7  6.1  7.8  1.2  8.1  7.7 10.   7.2  6.4  4.4  4.6  4.1\n",
      "  3.4  9.2  3.5  6.5  1.3  7.3  9.7  7.   7.4  7.4  2.1  2.   2.2  7.6\n",
      "  8.   1.9  8.7  4.1  7.8  9.4]\n"
     ]
    }
   ],
   "source": [
    "data_path = os.path.join('data.json')\n",
    "dummy_data_path = os.path.join('shared/dummy_data.json')\n",
    "\n",
    "f_raw_input = open(data_path, \"r\")\n",
    "data = json.loads(f_raw_input.read())[\"input_data\"][0]\n",
    "data_tensor = torch.reshape(torch.tensor(data),(1, len(data), 1))\n",
    "\n",
    "# make sure dummy is not 0 due to harmonic mean\n",
    "dummy_data = np.round(np.random.uniform(1,10,len(data)),1)\n",
    "# print(\"dummy: \", dummy_data)\n",
    "# dummy_data = np.random.uniform(min(data), max(data), len(data))\n",
    "json.dump({\"input_data\":[dummy_data.tolist()]}, open(dummy_data_path, 'w'))\n",
    "\n",
    "dummy_data_tensor = torch.reshape(torch.tensor(dummy_data), (1, len(dummy_data),1 ))\n",
    "dummy_theory_output = torch.div(1.0,torch.mean(torch.div(1.0,dummy_data_tensor)))"
   ]
  },
  {
   "cell_type": "code",
   "execution_count": 25,
   "metadata": {},
   "outputs": [],
   "source": [
    "# Verifier/ data consumer side:\n",
    "# since have division, scale must be very LARGE, cant use just 0\n",
    "# So, we allow error rate to be 10% instead of 1%\n",
    "class verifier_model(nn.Module):\n",
    "    def __init__(self):\n",
    "        super(verifier_model, self).__init__()\n",
    "        self.w = nn.Parameter(data = dummy_theory_output, requires_grad = False)\n",
    "\n",
    "    def forward(self,X):\n",
    "        return (torch.abs((self.w*torch.sum(torch.div(1.0,X)))-X.size()[1])<=torch.abs(0.1*X.size()[1]), self.w)\n",
    "verifier_define_calculation(verifier_model, verifier_model_path, [dummy_data_path])"
   ]
  },
  {
   "cell_type": "code",
   "execution_count": 26,
   "metadata": {},
   "outputs": [
    {
     "name": "stdout",
     "output_type": "stream",
     "text": [
      "Theory_output:  tensor(45.2144)\n",
      "==== Generate & Calibrate Setting ====\n",
      "scale:  [6]\n",
      "setting:  {\"run_args\":{\"tolerance\":{\"val\":0.0,\"scale\":1.0},\"input_scale\":6,\"param_scale\":6,\"scale_rebase_multiplier\":10,\"lookup_range\":[-184392,11264],\"logrows\":18,\"num_inner_cols\":2,\"variables\":[[\"batch_size\",1]],\"input_visibility\":{\"Hashed\":{\"hash_is_public\":true,\"outlets\":[]}},\"output_visibility\":\"Public\",\"param_visibility\":\"Private\"},\"num_rows\":14432,\"total_assignments\":911,\"total_const_size\":4,\"model_instance_shapes\":[[1],[1]],\"model_output_scales\":[0,6],\"model_input_scales\":[6],\"module_sizes\":{\"kzg\":[],\"poseidon\":[14432,[1]],\"elgamal\":[0,[0]]},\"required_lookups\":[\"Abs\",{\"Recip\":{\"scale\":4096.0}},{\"GreaterThan\":{\"a\":0.0}}],\"check_mode\":\"UNSAFE\",\"version\":\"5.4.2\",\"num_blinding_factors\":null}\n"
     ]
    }
   ],
   "source": [
    "# prover calculates settings, send to verifier\n",
    "theory_output = torch.div(1.0,torch.mean(torch.div(1.0,data_tensor)))\n",
    "print(\"Theory_output: \",theory_output)\n",
    "class prover_model(nn.Module):\n",
    "    def __init__(self):\n",
    "        super(prover_model, self).__init__()\n",
    "        # w represents mean in this case\n",
    "        self.w = nn.Parameter(data = theory_output, requires_grad = False)\n",
    "\n",
    "    def forward(self,X):\n",
    "        return (torch.abs((self.w*torch.sum(torch.div(1.0,X)))-X.size()[1])<=torch.abs(0.1*X.size()[1]), self.w)\n",
    "\n",
    "prover_gen_settings([data_path], comb_data_path, prover_model,prover_model_path, [6], \"resources\", settings_path)"
   ]
  },
  {
   "cell_type": "code",
   "execution_count": 27,
   "metadata": {},
   "outputs": [
    {
     "name": "stderr",
     "output_type": "stream",
     "text": [
      "spawning module 0\n",
      "spawning module 2\n"
     ]
    },
    {
     "name": "stdout",
     "output_type": "stream",
     "text": [
      "==== setting up ezkl ====\n"
     ]
    },
    {
     "name": "stderr",
     "output_type": "stream",
     "text": [
      "spawning module 0\n",
      "spawning module 2\n"
     ]
    },
    {
     "name": "stdout",
     "output_type": "stream",
     "text": [
      "Time setup: 26.29948902130127 seconds\n",
      "=======================================\n",
      "Theory output:  tensor(45.2144)\n",
      "==== Generating Witness ====\n",
      "witness boolean:  1.0\n",
      "witness result 1 : 45.21875\n",
      "==== Generating Proof ====\n"
     ]
    },
    {
     "name": "stderr",
     "output_type": "stream",
     "text": [
      "spawning module 0\n",
      "spawning module 2\n"
     ]
    },
    {
     "name": "stdout",
     "output_type": "stream",
     "text": [
      "proof:  {'instances': [[[11712583131456230033, 7998639690917952521, 17628064685104548320, 3364894255067083796], [12436184717236109307, 3962172157175319849, 7381016538464732718, 1011752739694698287], [10409296726488761395, 15557203226960814343, 16692342436085548322, 2420882828764455196]]], 'proof': '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', 'transcript_type': 'EVM'}\n",
      "Time gen prf: 37.07567095756531 seconds\n"
     ]
    }
   ],
   "source": [
    "# Here verifier & prover can concurrently call setup since all params are public to get pk. \n",
    "# Here write as verifier function to emphasize that verifier must calculate its own vk to be sure\n",
    "verifier_setup(verifier_model_path, verifier_compiled_model_path, settings_path, srs_path,vk_path, pk_path )\n",
    "\n",
    "print(\"=======================================\")\n",
    "# Prover generates proof\n",
    "print(\"Theory output: \", theory_output)\n",
    "prover_gen_proof(prover_model_path, comb_data_path, witness_path, prover_compiled_model_path, settings_path, proof_path, pk_path, srs_path)"
   ]
  },
  {
   "cell_type": "code",
   "execution_count": 28,
   "metadata": {},
   "outputs": [
    {
     "name": "stdout",
     "output_type": "stream",
     "text": [
      "num_inputs:  1\n",
      "prf instances:  [[[11712583131456230033, 7998639690917952521, 17628064685104548320, 3364894255067083796], [12436184717236109307, 3962172157175319849, 7381016538464732718, 1011752739694698287], [10409296726488761395, 15557203226960814343, 16692342436085548322, 2420882828764455196]]]\n",
      "proof boolean:  1.0\n",
      "proof result 1 : 45.21875\n",
      "verified\n"
     ]
    }
   ],
   "source": [
    "# Verifier verifies\n",
    "verifier_verify(proof_path, settings_path, vk_path, srs_path)"
   ]
  },
  {
   "cell_type": "code",
   "execution_count": null,
   "metadata": {},
   "outputs": [],
   "source": []
  },
  {
   "cell_type": "code",
   "execution_count": null,
   "metadata": {},
   "outputs": [],
   "source": []
  }
 ],
 "metadata": {
  "kernelspec": {
   "display_name": "Python 3",
   "language": "python",
   "name": "python3"
  },
  "language_info": {
   "codemirror_mode": {
    "name": "ipython",
    "version": 3
   },
   "file_extension": ".py",
   "mimetype": "text/x-python",
   "name": "python",
   "nbconvert_exporter": "python",
   "pygments_lexer": "ipython3",
   "version": "3.10.0"
  },
  "orig_nbformat": 4
 },
 "nbformat": 4,
 "nbformat_minor": 2
}
