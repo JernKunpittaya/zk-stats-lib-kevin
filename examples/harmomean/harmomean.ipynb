{
 "cells": [
  {
   "cell_type": "code",
   "execution_count": 1,
   "metadata": {},
   "outputs": [
    {
     "name": "stdout",
     "output_type": "stream",
     "text": [
      "Requirement already satisfied: ezkl==5.0.8 in /Library/Frameworks/Python.framework/Versions/3.10/lib/python3.10/site-packages (from -r ../../requirements.txt (line 1)) (5.0.8)\n",
      "Requirement already satisfied: torch in /Library/Frameworks/Python.framework/Versions/3.10/lib/python3.10/site-packages (from -r ../../requirements.txt (line 2)) (2.1.1)\n",
      "Requirement already satisfied: requests in /Library/Frameworks/Python.framework/Versions/3.10/lib/python3.10/site-packages (from -r ../../requirements.txt (line 3)) (2.31.0)\n",
      "Requirement already satisfied: scipy in /Library/Frameworks/Python.framework/Versions/3.10/lib/python3.10/site-packages (from -r ../../requirements.txt (line 4)) (1.11.4)\n",
      "Requirement already satisfied: numpy in /Library/Frameworks/Python.framework/Versions/3.10/lib/python3.10/site-packages (from -r ../../requirements.txt (line 5)) (1.26.2)\n",
      "Requirement already satisfied: matplotlib in /Library/Frameworks/Python.framework/Versions/3.10/lib/python3.10/site-packages (from -r ../../requirements.txt (line 6)) (3.8.2)\n",
      "Requirement already satisfied: statistics in /Library/Frameworks/Python.framework/Versions/3.10/lib/python3.10/site-packages (from -r ../../requirements.txt (line 7)) (1.0.3.5)\n",
      "Requirement already satisfied: onnx in /Library/Frameworks/Python.framework/Versions/3.10/lib/python3.10/site-packages (from -r ../../requirements.txt (line 8)) (1.15.0)\n",
      "Requirement already satisfied: filelock in /Library/Frameworks/Python.framework/Versions/3.10/lib/python3.10/site-packages (from torch->-r ../../requirements.txt (line 2)) (3.13.1)\n",
      "Requirement already satisfied: networkx in /Library/Frameworks/Python.framework/Versions/3.10/lib/python3.10/site-packages (from torch->-r ../../requirements.txt (line 2)) (3.2.1)\n",
      "Requirement already satisfied: fsspec in /Library/Frameworks/Python.framework/Versions/3.10/lib/python3.10/site-packages (from torch->-r ../../requirements.txt (line 2)) (2023.10.0)\n",
      "Requirement already satisfied: sympy in /Library/Frameworks/Python.framework/Versions/3.10/lib/python3.10/site-packages (from torch->-r ../../requirements.txt (line 2)) (1.12)\n",
      "Requirement already satisfied: typing-extensions in /Library/Frameworks/Python.framework/Versions/3.10/lib/python3.10/site-packages (from torch->-r ../../requirements.txt (line 2)) (4.8.0)\n",
      "Requirement already satisfied: jinja2 in /Library/Frameworks/Python.framework/Versions/3.10/lib/python3.10/site-packages (from torch->-r ../../requirements.txt (line 2)) (3.1.2)\n",
      "Requirement already satisfied: urllib3<3,>=1.21.1 in /Library/Frameworks/Python.framework/Versions/3.10/lib/python3.10/site-packages (from requests->-r ../../requirements.txt (line 3)) (2.1.0)\n",
      "Requirement already satisfied: certifi>=2017.4.17 in /Library/Frameworks/Python.framework/Versions/3.10/lib/python3.10/site-packages (from requests->-r ../../requirements.txt (line 3)) (2023.11.17)\n",
      "Requirement already satisfied: charset-normalizer<4,>=2 in /Library/Frameworks/Python.framework/Versions/3.10/lib/python3.10/site-packages (from requests->-r ../../requirements.txt (line 3)) (3.3.2)\n",
      "Requirement already satisfied: idna<4,>=2.5 in /Library/Frameworks/Python.framework/Versions/3.10/lib/python3.10/site-packages (from requests->-r ../../requirements.txt (line 3)) (3.6)\n",
      "Requirement already satisfied: cycler>=0.10 in /Library/Frameworks/Python.framework/Versions/3.10/lib/python3.10/site-packages (from matplotlib->-r ../../requirements.txt (line 6)) (0.12.1)\n",
      "Requirement already satisfied: kiwisolver>=1.3.1 in /Library/Frameworks/Python.framework/Versions/3.10/lib/python3.10/site-packages (from matplotlib->-r ../../requirements.txt (line 6)) (1.4.5)\n",
      "Requirement already satisfied: fonttools>=4.22.0 in /Library/Frameworks/Python.framework/Versions/3.10/lib/python3.10/site-packages (from matplotlib->-r ../../requirements.txt (line 6)) (4.45.1)\n",
      "Requirement already satisfied: packaging>=20.0 in /Users/jernkun/Library/Python/3.10/lib/python/site-packages (from matplotlib->-r ../../requirements.txt (line 6)) (23.2)\n",
      "Requirement already satisfied: python-dateutil>=2.7 in /Users/jernkun/Library/Python/3.10/lib/python/site-packages (from matplotlib->-r ../../requirements.txt (line 6)) (2.8.2)\n",
      "Requirement already satisfied: contourpy>=1.0.1 in /Library/Frameworks/Python.framework/Versions/3.10/lib/python3.10/site-packages (from matplotlib->-r ../../requirements.txt (line 6)) (1.2.0)\n",
      "Requirement already satisfied: pillow>=8 in /Library/Frameworks/Python.framework/Versions/3.10/lib/python3.10/site-packages (from matplotlib->-r ../../requirements.txt (line 6)) (10.1.0)\n",
      "Requirement already satisfied: pyparsing>=2.3.1 in /Library/Frameworks/Python.framework/Versions/3.10/lib/python3.10/site-packages (from matplotlib->-r ../../requirements.txt (line 6)) (3.1.1)\n",
      "Requirement already satisfied: docutils>=0.3 in /Library/Frameworks/Python.framework/Versions/3.10/lib/python3.10/site-packages (from statistics->-r ../../requirements.txt (line 7)) (0.20.1)\n",
      "Requirement already satisfied: protobuf>=3.20.2 in /Library/Frameworks/Python.framework/Versions/3.10/lib/python3.10/site-packages (from onnx->-r ../../requirements.txt (line 8)) (4.25.1)\n",
      "Requirement already satisfied: six>=1.5 in /Users/jernkun/Library/Python/3.10/lib/python/site-packages (from python-dateutil>=2.7->matplotlib->-r ../../requirements.txt (line 6)) (1.16.0)\n",
      "Requirement already satisfied: MarkupSafe>=2.0 in /Library/Frameworks/Python.framework/Versions/3.10/lib/python3.10/site-packages (from jinja2->torch->-r ../../requirements.txt (line 2)) (2.1.3)\n",
      "Requirement already satisfied: mpmath>=0.19 in /Library/Frameworks/Python.framework/Versions/3.10/lib/python3.10/site-packages (from sympy->torch->-r ../../requirements.txt (line 2)) (1.3.0)\n",
      "\u001b[33mWARNING: You are using pip version 21.2.3; however, version 23.3.1 is available.\n",
      "You should consider upgrading via the '/usr/local/bin/python3 -m pip install --upgrade pip' command.\u001b[0m\n",
      "Note: you may need to restart the kernel to use updated packages.\n"
     ]
    }
   ],
   "source": [
    "pip install -r ../../requirements.txt"
   ]
  },
  {
   "cell_type": "code",
   "execution_count": 1,
   "metadata": {},
   "outputs": [],
   "source": [
    "import ezkl\n",
    "import torch\n",
    "from torch import nn\n",
    "import json\n",
    "import os\n",
    "import time\n",
    "import scipy\n",
    "import numpy as np\n",
    "import matplotlib.pyplot as plt\n",
    "import statistics\n",
    "import math"
   ]
  },
  {
   "cell_type": "code",
   "execution_count": 2,
   "metadata": {},
   "outputs": [],
   "source": [
    "%run -i ../../zkstats/core.py"
   ]
  },
  {
   "cell_type": "code",
   "execution_count": 3,
   "metadata": {},
   "outputs": [],
   "source": [
    "# init path\n",
    "os.makedirs(os.path.dirname('shared/'), exist_ok=True)\n",
    "os.makedirs(os.path.dirname('prover/'), exist_ok=True)\n",
    "verifier_model_path = os.path.join('shared/verifier.onnx')\n",
    "prover_model_path = os.path.join('prover/prover.onnx')\n",
    "verifier_compiled_model_path = os.path.join('shared/verifier.compiled')\n",
    "prover_compiled_model_path = os.path.join('prover/prover.compiled')\n",
    "pk_path = os.path.join('shared/test.pk')\n",
    "vk_path = os.path.join('shared/test.vk')\n",
    "proof_path = os.path.join('shared/test.pf')\n",
    "settings_path = os.path.join('shared/settings.json')\n",
    "srs_path = os.path.join('shared/kzg.srs')\n",
    "witness_path = os.path.join('prover/witness.json')\n",
    "# this is private to prover since it contains actual data\n",
    "comb_data_path = os.path.join('prover/comb_data.json')"
   ]
  },
  {
   "attachments": {},
   "cell_type": "markdown",
   "metadata": {},
   "source": [
    "=======================  ZK-STATS FLOW ======================="
   ]
  },
  {
   "cell_type": "code",
   "execution_count": 4,
   "metadata": {},
   "outputs": [],
   "source": [
    "data_path = os.path.join('data.json')\n",
    "dummy_data_path = os.path.join('shared/dummy_data.json')\n",
    "\n",
    "f_raw_input = open(data_path, \"r\")\n",
    "data = json.loads(f_raw_input.read())[\"input_data\"][0]\n",
    "data_tensor = torch.reshape(torch.tensor(data),(1, len(data), 1))\n",
    "\n",
    "#  dummy data for data consumer: make the bound approx same as real data\n",
    "dummy_data = np.random.uniform(min(data), max(data), len(data))\n",
    "json.dump({\"input_data\":[dummy_data.tolist()]}, open(dummy_data_path, 'w'))\n",
    "\n",
    "dummy_data_tensor = torch.reshape(torch.tensor(dummy_data), (1, len(dummy_data),1 ))\n",
    "dummy_theory_output = torch.div(1.0,torch.mean(torch.div(1.0,dummy_data_tensor)))"
   ]
  },
  {
   "cell_type": "code",
   "execution_count": 5,
   "metadata": {},
   "outputs": [],
   "source": [
    "# Verifier/ data consumer side:\n",
    "# since have division, scale must be very LARGE, cant use just 0\n",
    "# So, we allow error rate to be 10% instead of 1%\n",
    "class verifier_model(nn.Module):\n",
    "    def __init__(self):\n",
    "        super(verifier_model, self).__init__()\n",
    "        # w represents mean in this case\n",
    "        self.w = nn.Parameter(data = dummy_theory_output, requires_grad = False)\n",
    "\n",
    "    def forward(self,X):\n",
    "        # some expression of tolerance to error in the inference\n",
    "        return (torch.abs((self.w*torch.sum(torch.div(1.0,X)))-X.size()[1])<0.1*X.size()[1], self.w)\n",
    "verifier_define_calculation(verifier_model, verifier_model_path, [dummy_data_path])"
   ]
  },
  {
   "cell_type": "code",
   "execution_count": 9,
   "metadata": {},
   "outputs": [
    {
     "name": "stdout",
     "output_type": "stream",
     "text": [
      "Theory_output:  tensor(45.2144)\n",
      "==== Generate & Calibrate Setting ====\n",
      "scale:  [6]\n",
      "setting:  {\"run_args\":{\"tolerance\":{\"val\":0.0,\"scale\":1.0},\"input_scale\":6,\"param_scale\":6,\"scale_rebase_multiplier\":10,\"lookup_range\":[-61368,184392],\"logrows\":18,\"num_inner_cols\":1,\"variables\":[[\"batch_size\",1]],\"input_visibility\":{\"Hashed\":{\"hash_is_public\":true,\"outlets\":[]}},\"output_visibility\":\"Public\",\"param_visibility\":\"Private\"},\"num_rows\":14432,\"total_assignments\":907,\"total_const_size\":0,\"model_instance_shapes\":[[1],[1]],\"model_output_scales\":[0,6],\"model_input_scales\":[6],\"module_sizes\":{\"kzg\":[],\"poseidon\":[14432,[1]],\"elgamal\":[0,[0]]},\"required_lookups\":[\"Abs\",{\"Recip\":{\"scale\":4096.0}},{\"GreaterThan\":{\"a\":0.0}}],\"check_mode\":\"UNSAFE\",\"version\":\"5.0.8\",\"num_blinding_factors\":null}\n"
     ]
    }
   ],
   "source": [
    "# prover calculates settings, send to verifier\n",
    "theory_output = torch.div(1.0,torch.mean(torch.div(1.0,data_tensor)))\n",
    "print(\"Theory_output: \",theory_output)\n",
    "class prover_model(nn.Module):\n",
    "    def __init__(self):\n",
    "        super(prover_model, self).__init__()\n",
    "        # w represents mean in this case\n",
    "        self.w = nn.Parameter(data = theory_output, requires_grad = False)\n",
    "\n",
    "    def forward(self,X):\n",
    "        # some expression of tolerance to error in the inference\n",
    "        return (torch.abs((self.w*torch.sum(torch.div(1.0,X)))-X.size()[1])<0.1*X.size()[1], self.w)\n",
    "\n",
    "prover_gen_settings([data_path], comb_data_path, prover_model,prover_model_path, [6], \"resources\", settings_path)"
   ]
  },
  {
   "cell_type": "code",
   "execution_count": 10,
   "metadata": {},
   "outputs": [
    {
     "name": "stderr",
     "output_type": "stream",
     "text": [
      "spawning module 0\n",
      "spawning module 2\n"
     ]
    },
    {
     "name": "stdout",
     "output_type": "stream",
     "text": [
      "==== setting up ezkl ====\n"
     ]
    },
    {
     "name": "stderr",
     "output_type": "stream",
     "text": [
      "spawning module 0\n",
      "spawning module 2\n"
     ]
    },
    {
     "name": "stdout",
     "output_type": "stream",
     "text": [
      "Time setup: 20.96218991279602 seconds\n",
      "=======================================\n",
      "Theory output:  tensor(45.2144)\n",
      "==== Generating Witness ====\n",
      "witness boolean:  1.0\n",
      "witness result 1 : 45.21875\n",
      "==== Generating Proof ====\n"
     ]
    },
    {
     "name": "stderr",
     "output_type": "stream",
     "text": [
      "spawning module 0\n",
      "spawning module 2\n"
     ]
    },
    {
     "name": "stdout",
     "output_type": "stream",
     "text": [
      "proof:  {'instances': [[[11712583131456230033, 7998639690917952521, 17628064685104548320, 3364894255067083796], [12436184717236109307, 3962172157175319849, 7381016538464732718, 1011752739694698287], [10409296726488761395, 15557203226960814343, 16692342436085548322, 2420882828764455196]]], 'proof': '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', 'transcript_type': 'EVM'}\n",
      "Time gen prf: 24.752716064453125 seconds\n"
     ]
    }
   ],
   "source": [
    "# Here verifier & prover can concurrently call setup since all params are public to get pk. \n",
    "# Here write as verifier function to emphasize that verifier must calculate its own vk to be sure\n",
    "verifier_setup(verifier_model_path, verifier_compiled_model_path, settings_path, srs_path,vk_path, pk_path )\n",
    "\n",
    "print(\"=======================================\")\n",
    "# Prover generates proof\n",
    "print(\"Theory output: \", theory_output)\n",
    "prover_gen_proof(prover_model_path, comb_data_path, witness_path, prover_compiled_model_path, settings_path, proof_path, pk_path, srs_path)"
   ]
  },
  {
   "cell_type": "code",
   "execution_count": 11,
   "metadata": {},
   "outputs": [
    {
     "name": "stdout",
     "output_type": "stream",
     "text": [
      "num_inputs:  1\n",
      "prf instances:  [[[11712583131456230033, 7998639690917952521, 17628064685104548320, 3364894255067083796], [12436184717236109307, 3962172157175319849, 7381016538464732718, 1011752739694698287], [10409296726488761395, 15557203226960814343, 16692342436085548322, 2420882828764455196]]]\n",
      "proof boolean:  1.0\n",
      "proof result 1 : 45.21875\n",
      "verified\n"
     ]
    }
   ],
   "source": [
    "# Verifier verifies\n",
    "verifier_verify(proof_path, settings_path, vk_path, srs_path)"
   ]
  },
  {
   "cell_type": "code",
   "execution_count": null,
   "metadata": {},
   "outputs": [],
   "source": []
  },
  {
   "cell_type": "code",
   "execution_count": null,
   "metadata": {},
   "outputs": [],
   "source": []
  }
 ],
 "metadata": {
  "kernelspec": {
   "display_name": "Python 3",
   "language": "python",
   "name": "python3"
  },
  "language_info": {
   "codemirror_mode": {
    "name": "ipython",
    "version": 3
   },
   "file_extension": ".py",
   "mimetype": "text/x-python",
   "name": "python",
   "nbconvert_exporter": "python",
   "pygments_lexer": "ipython3",
   "version": "3.10.0"
  },
  "orig_nbformat": 4
 },
 "nbformat": 4,
 "nbformat_minor": 2
}
