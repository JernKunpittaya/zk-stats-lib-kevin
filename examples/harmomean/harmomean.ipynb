{
 "cells": [
  {
   "cell_type": "code",
   "execution_count": 1,
   "metadata": {},
   "outputs": [
    {
     "name": "stdout",
     "output_type": "stream",
     "text": [
      "Requirement already satisfied: ezkl==7.0.0 in /Library/Frameworks/Python.framework/Versions/3.10/lib/python3.10/site-packages (from -r ../../requirements.txt (line 1)) (7.0.0)\n",
      "Requirement already satisfied: torch in /Library/Frameworks/Python.framework/Versions/3.10/lib/python3.10/site-packages (from -r ../../requirements.txt (line 2)) (2.1.1)\n",
      "Requirement already satisfied: requests in /Library/Frameworks/Python.framework/Versions/3.10/lib/python3.10/site-packages (from -r ../../requirements.txt (line 3)) (2.31.0)\n",
      "Requirement already satisfied: scipy in /Library/Frameworks/Python.framework/Versions/3.10/lib/python3.10/site-packages (from -r ../../requirements.txt (line 4)) (1.11.4)\n",
      "Requirement already satisfied: numpy in /Library/Frameworks/Python.framework/Versions/3.10/lib/python3.10/site-packages (from -r ../../requirements.txt (line 5)) (1.26.2)\n",
      "Requirement already satisfied: matplotlib in /Library/Frameworks/Python.framework/Versions/3.10/lib/python3.10/site-packages (from -r ../../requirements.txt (line 6)) (3.8.2)\n",
      "Requirement already satisfied: statistics in /Library/Frameworks/Python.framework/Versions/3.10/lib/python3.10/site-packages (from -r ../../requirements.txt (line 7)) (1.0.3.5)\n",
      "Requirement already satisfied: onnx in /Library/Frameworks/Python.framework/Versions/3.10/lib/python3.10/site-packages (from -r ../../requirements.txt (line 8)) (1.15.0)\n",
      "Requirement already satisfied: networkx in /Library/Frameworks/Python.framework/Versions/3.10/lib/python3.10/site-packages (from torch->-r ../../requirements.txt (line 2)) (3.2.1)\n",
      "Requirement already satisfied: jinja2 in /Library/Frameworks/Python.framework/Versions/3.10/lib/python3.10/site-packages (from torch->-r ../../requirements.txt (line 2)) (3.1.2)\n",
      "Requirement already satisfied: fsspec in /Library/Frameworks/Python.framework/Versions/3.10/lib/python3.10/site-packages (from torch->-r ../../requirements.txt (line 2)) (2023.10.0)\n",
      "Requirement already satisfied: typing-extensions in /Library/Frameworks/Python.framework/Versions/3.10/lib/python3.10/site-packages (from torch->-r ../../requirements.txt (line 2)) (4.8.0)\n",
      "Requirement already satisfied: filelock in /Library/Frameworks/Python.framework/Versions/3.10/lib/python3.10/site-packages (from torch->-r ../../requirements.txt (line 2)) (3.13.1)\n",
      "Requirement already satisfied: sympy in /Library/Frameworks/Python.framework/Versions/3.10/lib/python3.10/site-packages (from torch->-r ../../requirements.txt (line 2)) (1.12)\n",
      "Requirement already satisfied: charset-normalizer<4,>=2 in /Library/Frameworks/Python.framework/Versions/3.10/lib/python3.10/site-packages (from requests->-r ../../requirements.txt (line 3)) (3.3.2)\n",
      "Requirement already satisfied: urllib3<3,>=1.21.1 in /Library/Frameworks/Python.framework/Versions/3.10/lib/python3.10/site-packages (from requests->-r ../../requirements.txt (line 3)) (2.1.0)\n",
      "Requirement already satisfied: idna<4,>=2.5 in /Library/Frameworks/Python.framework/Versions/3.10/lib/python3.10/site-packages (from requests->-r ../../requirements.txt (line 3)) (3.6)\n",
      "Requirement already satisfied: certifi>=2017.4.17 in /Library/Frameworks/Python.framework/Versions/3.10/lib/python3.10/site-packages (from requests->-r ../../requirements.txt (line 3)) (2023.11.17)\n",
      "Requirement already satisfied: packaging>=20.0 in /Users/jernkun/Library/Python/3.10/lib/python/site-packages (from matplotlib->-r ../../requirements.txt (line 6)) (23.2)\n",
      "Requirement already satisfied: kiwisolver>=1.3.1 in /Library/Frameworks/Python.framework/Versions/3.10/lib/python3.10/site-packages (from matplotlib->-r ../../requirements.txt (line 6)) (1.4.5)\n",
      "Requirement already satisfied: cycler>=0.10 in /Library/Frameworks/Python.framework/Versions/3.10/lib/python3.10/site-packages (from matplotlib->-r ../../requirements.txt (line 6)) (0.12.1)\n",
      "Requirement already satisfied: pillow>=8 in /Library/Frameworks/Python.framework/Versions/3.10/lib/python3.10/site-packages (from matplotlib->-r ../../requirements.txt (line 6)) (10.1.0)\n",
      "Requirement already satisfied: python-dateutil>=2.7 in /Users/jernkun/Library/Python/3.10/lib/python/site-packages (from matplotlib->-r ../../requirements.txt (line 6)) (2.8.2)\n",
      "Requirement already satisfied: fonttools>=4.22.0 in /Library/Frameworks/Python.framework/Versions/3.10/lib/python3.10/site-packages (from matplotlib->-r ../../requirements.txt (line 6)) (4.45.1)\n",
      "Requirement already satisfied: pyparsing>=2.3.1 in /Library/Frameworks/Python.framework/Versions/3.10/lib/python3.10/site-packages (from matplotlib->-r ../../requirements.txt (line 6)) (3.1.1)\n",
      "Requirement already satisfied: contourpy>=1.0.1 in /Library/Frameworks/Python.framework/Versions/3.10/lib/python3.10/site-packages (from matplotlib->-r ../../requirements.txt (line 6)) (1.2.0)\n",
      "Requirement already satisfied: docutils>=0.3 in /Library/Frameworks/Python.framework/Versions/3.10/lib/python3.10/site-packages (from statistics->-r ../../requirements.txt (line 7)) (0.20.1)\n",
      "Requirement already satisfied: protobuf>=3.20.2 in /Library/Frameworks/Python.framework/Versions/3.10/lib/python3.10/site-packages (from onnx->-r ../../requirements.txt (line 8)) (4.25.1)\n",
      "Requirement already satisfied: six>=1.5 in /Users/jernkun/Library/Python/3.10/lib/python/site-packages (from python-dateutil>=2.7->matplotlib->-r ../../requirements.txt (line 6)) (1.16.0)\n",
      "Requirement already satisfied: MarkupSafe>=2.0 in /Library/Frameworks/Python.framework/Versions/3.10/lib/python3.10/site-packages (from jinja2->torch->-r ../../requirements.txt (line 2)) (2.1.3)\n",
      "Requirement already satisfied: mpmath>=0.19 in /Library/Frameworks/Python.framework/Versions/3.10/lib/python3.10/site-packages (from sympy->torch->-r ../../requirements.txt (line 2)) (1.3.0)\n",
      "\u001b[33mWARNING: You are using pip version 21.2.3; however, version 23.3.2 is available.\n",
      "You should consider upgrading via the '/usr/local/bin/python3 -m pip install --upgrade pip' command.\u001b[0m\n",
      "Note: you may need to restart the kernel to use updated packages.\n"
     ]
    }
   ],
   "source": [
    "pip install -r ../../requirements.txt"
   ]
  },
  {
   "cell_type": "code",
   "execution_count": 2,
   "metadata": {},
   "outputs": [],
   "source": [
    "import ezkl\n",
    "import torch\n",
    "from torch import nn\n",
    "import json\n",
    "import os\n",
    "import time\n",
    "import scipy\n",
    "import numpy as np\n",
    "import matplotlib.pyplot as plt\n",
    "import statistics\n",
    "import math"
   ]
  },
  {
   "cell_type": "code",
   "execution_count": 3,
   "metadata": {},
   "outputs": [],
   "source": [
    "%run -i ../../zkstats/core.py"
   ]
  },
  {
   "cell_type": "code",
   "execution_count": 4,
   "metadata": {},
   "outputs": [],
   "source": [
    "# init path\n",
    "os.makedirs(os.path.dirname('shared/'), exist_ok=True)\n",
    "os.makedirs(os.path.dirname('prover/'), exist_ok=True)\n",
    "verifier_model_path = os.path.join('shared/verifier.onnx')\n",
    "prover_model_path = os.path.join('prover/prover.onnx')\n",
    "verifier_compiled_model_path = os.path.join('shared/verifier.compiled')\n",
    "prover_compiled_model_path = os.path.join('prover/prover.compiled')\n",
    "pk_path = os.path.join('shared/test.pk')\n",
    "vk_path = os.path.join('shared/test.vk')\n",
    "proof_path = os.path.join('shared/test.pf')\n",
    "settings_path = os.path.join('shared/settings.json')\n",
    "srs_path = os.path.join('shared/kzg.srs')\n",
    "witness_path = os.path.join('prover/witness.json')\n",
    "# this is private to prover since it contains actual data\n",
    "sel_data_path = os.path.join('prover/sel_data.json')\n",
    "# this is just dummy random value\n",
    "sel_dummy_data_path = os.path.join('shared/sel_dummy_data.json')"
   ]
  },
  {
   "attachments": {},
   "cell_type": "markdown",
   "metadata": {},
   "source": [
    "=======================  ZK-STATS FLOW ======================="
   ]
  },
  {
   "cell_type": "code",
   "execution_count": 5,
   "metadata": {},
   "outputs": [],
   "source": [
    "data_path = os.path.join('data.json')\n",
    "dummy_data_path = os.path.join('shared/dummy_data.json')\n",
    "\n",
    "data = json.loads(open(data_path, \"r\").read())['col_name']\n",
    "data_tensor = torch.reshape(torch.tensor(data),(1,-1, 1))\n",
    "\n",
    "create_dummy(data_path, dummy_data_path)\n",
    "dummy_data = json.loads(open(dummy_data_path, \"r\").read())['col_name']\n",
    "dummy_data_tensor = torch.reshape(torch.tensor(dummy_data), (1,-1,1))\n",
    "\n",
    "dummy_theory_output = torch.div(1.0,torch.mean(torch.div(1.0,dummy_data_tensor)))\n",
    "theory_output = torch.div(1.0,torch.mean(torch.div(1.0,data_tensor)))"
   ]
  },
  {
   "cell_type": "code",
   "execution_count": 6,
   "metadata": {},
   "outputs": [],
   "source": [
    "# Verifier/ data consumer side:\n",
    "# since have division, scale must be very LARGE, cant use just 0\n",
    "# So, we allow error rate to be 10% instead of 1%\n",
    "class verifier_model(nn.Module):\n",
    "    def __init__(self):\n",
    "        super(verifier_model, self).__init__()\n",
    "        self.w = nn.Parameter(data = dummy_theory_output, requires_grad = False)\n",
    "\n",
    "    def forward(self,X):\n",
    "        return (torch.abs((self.w*torch.sum(torch.div(1.0,X)))-X.size()[1])<=torch.abs(0.1*X.size()[1]), self.w)\n",
    "\n",
    "\n",
    "verifier_define_calculation(dummy_data_path, ['col_name'],sel_dummy_data_path,verifier_model, verifier_model_path)"
   ]
  },
  {
   "cell_type": "code",
   "execution_count": 7,
   "metadata": {},
   "outputs": [
    {
     "name": "stdout",
     "output_type": "stream",
     "text": [
      "Theory_output:  tensor(45.2144)\n",
      "==== Generate & Calibrate Setting ====\n",
      "scale:  [6]\n",
      "setting:  {\"run_args\":{\"tolerance\":{\"val\":0.0,\"scale\":1.0},\"input_scale\":6,\"param_scale\":6,\"scale_rebase_multiplier\":10,\"lookup_range\":[-184392,11264],\"logrows\":18,\"num_inner_cols\":2,\"variables\":[[\"batch_size\",1]],\"input_visibility\":{\"Hashed\":{\"hash_is_public\":true,\"outlets\":[]}},\"output_visibility\":\"Public\",\"param_visibility\":\"Private\"},\"num_rows\":14432,\"total_assignments\":911,\"total_const_size\":4,\"model_instance_shapes\":[[1],[1]],\"model_output_scales\":[0,6],\"model_input_scales\":[6],\"module_sizes\":{\"kzg\":[],\"poseidon\":[14432,[1]],\"elgamal\":[0,[0]]},\"required_lookups\":[\"Abs\",{\"Recip\":{\"scale\":4096.0}},{\"GreaterThan\":{\"a\":0.0}}],\"check_mode\":\"UNSAFE\",\"version\":\"7.0.0\",\"num_blinding_factors\":null}\n"
     ]
    }
   ],
   "source": [
    "# prover calculates settings, send to verifier\n",
    "theory_output = torch.div(1.0,torch.mean(torch.div(1.0,data_tensor)))\n",
    "print(\"Theory_output: \",theory_output)\n",
    "class prover_model(nn.Module):\n",
    "    def __init__(self):\n",
    "        super(prover_model, self).__init__()\n",
    "        # w represents mean in this case\n",
    "        self.w = nn.Parameter(data = theory_output, requires_grad = False)\n",
    "\n",
    "    def forward(self,X):\n",
    "        return (torch.abs((self.w*torch.sum(torch.div(1.0,X)))-X.size()[1])<=torch.abs(0.1*X.size()[1]), self.w)\n",
    "\n",
    "prover_gen_settings(data_path,['col_name'], sel_data_path, prover_model,prover_model_path, [6], \"resources\", settings_path)"
   ]
  },
  {
   "cell_type": "code",
   "execution_count": 8,
   "metadata": {},
   "outputs": [
    {
     "name": "stderr",
     "output_type": "stream",
     "text": [
      "spawning module 0\n",
      "spawning module 2\n"
     ]
    },
    {
     "name": "stdout",
     "output_type": "stream",
     "text": [
      "==== setting up ezkl ====\n"
     ]
    },
    {
     "name": "stderr",
     "output_type": "stream",
     "text": [
      "spawning module 0\n",
      "spawning module 2\n"
     ]
    },
    {
     "name": "stdout",
     "output_type": "stream",
     "text": [
      "Time setup: 25.3074848651886 seconds\n",
      "=======================================\n",
      "Theory output:  tensor(45.2144)\n",
      "!@# compiled_model exists? True\n",
      "!@# compiled_model exists? True\n",
      "==== Generating Witness ====\n",
      "witness boolean:  1.0\n",
      "witness result 1 : 45.21875\n",
      "==== Generating Proof ====\n"
     ]
    },
    {
     "name": "stderr",
     "output_type": "stream",
     "text": [
      "spawning module 0\n",
      "spawning module 2\n"
     ]
    },
    {
     "name": "stdout",
     "output_type": "stream",
     "text": [
      "proof:  {'instances': [[[11712583131456230033, 7998639690917952521, 17628064685104548320, 3364894255067083796], [12436184717236109307, 3962172157175319849, 7381016538464732718, 1011752739694698287], [10409296726488761395, 15557203226960814343, 16692342436085548322, 2420882828764455196]]], 'proof': '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', 'transcript_type': 'EVM'}\n",
      "Time gen prf: 35.82340693473816 seconds\n"
     ]
    }
   ],
   "source": [
    "# Here verifier & prover can concurrently call setup since all params are public to get pk. \n",
    "# Here write as verifier function to emphasize that verifier must calculate its own vk to be sure\n",
    "verifier_setup(verifier_model_path, verifier_compiled_model_path, settings_path,vk_path, pk_path )\n",
    "\n",
    "print(\"=======================================\")\n",
    "# Prover generates proof\n",
    "print(\"Theory output: \", theory_output)\n",
    "prover_gen_proof(prover_model_path, sel_data_path, witness_path, prover_compiled_model_path, settings_path, proof_path, pk_path)"
   ]
  },
  {
   "cell_type": "code",
   "execution_count": 9,
   "metadata": {},
   "outputs": [
    {
     "name": "stdout",
     "output_type": "stream",
     "text": [
      "num_inputs:  1\n",
      "prf instances:  [[[11712583131456230033, 7998639690917952521, 17628064685104548320, 3364894255067083796], [12436184717236109307, 3962172157175319849, 7381016538464732718, 1011752739694698287], [10409296726488761395, 15557203226960814343, 16692342436085548322, 2420882828764455196]]]\n",
      "proof boolean:  1.0\n",
      "proof result 1 : 45.21875\n",
      "verified\n"
     ]
    }
   ],
   "source": [
    "# Verifier verifies\n",
    "verifier_verify(proof_path, settings_path, vk_path)"
   ]
  },
  {
   "cell_type": "code",
   "execution_count": null,
   "metadata": {},
   "outputs": [],
   "source": []
  },
  {
   "cell_type": "code",
   "execution_count": null,
   "metadata": {},
   "outputs": [],
   "source": []
  }
 ],
 "metadata": {
  "kernelspec": {
   "display_name": "Python 3",
   "language": "python",
   "name": "python3"
  },
  "language_info": {
   "codemirror_mode": {
    "name": "ipython",
    "version": 3
   },
   "file_extension": ".py",
   "mimetype": "text/x-python",
   "name": "python",
   "nbconvert_exporter": "python",
   "pygments_lexer": "ipython3",
   "version": "3.10.0"
  },
  "orig_nbformat": 4
 },
 "nbformat": 4,
 "nbformat_minor": 2
}
