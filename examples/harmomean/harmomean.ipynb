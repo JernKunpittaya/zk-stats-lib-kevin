{
 "cells": [
  {
   "cell_type": "code",
   "execution_count": 1,
   "metadata": {},
   "outputs": [
    {
     "name": "stdout",
     "output_type": "stream",
     "text": [
      "Requirement already satisfied: ezkl==5.0.8 in /Library/Frameworks/Python.framework/Versions/3.10/lib/python3.10/site-packages (from -r ../../requirements.txt (line 1)) (5.0.8)\n",
      "Requirement already satisfied: torch in /Library/Frameworks/Python.framework/Versions/3.10/lib/python3.10/site-packages (from -r ../../requirements.txt (line 2)) (2.1.1)\n",
      "Requirement already satisfied: requests in /Library/Frameworks/Python.framework/Versions/3.10/lib/python3.10/site-packages (from -r ../../requirements.txt (line 3)) (2.31.0)\n",
      "Requirement already satisfied: scipy in /Library/Frameworks/Python.framework/Versions/3.10/lib/python3.10/site-packages (from -r ../../requirements.txt (line 4)) (1.11.4)\n",
      "Requirement already satisfied: numpy in /Library/Frameworks/Python.framework/Versions/3.10/lib/python3.10/site-packages (from -r ../../requirements.txt (line 5)) (1.26.2)\n",
      "Requirement already satisfied: matplotlib in /Library/Frameworks/Python.framework/Versions/3.10/lib/python3.10/site-packages (from -r ../../requirements.txt (line 6)) (3.8.2)\n",
      "Requirement already satisfied: statistics in /Library/Frameworks/Python.framework/Versions/3.10/lib/python3.10/site-packages (from -r ../../requirements.txt (line 7)) (1.0.3.5)\n",
      "Requirement already satisfied: onnx in /Library/Frameworks/Python.framework/Versions/3.10/lib/python3.10/site-packages (from -r ../../requirements.txt (line 8)) (1.15.0)\n",
      "Requirement already satisfied: filelock in /Library/Frameworks/Python.framework/Versions/3.10/lib/python3.10/site-packages (from torch->-r ../../requirements.txt (line 2)) (3.13.1)\n",
      "Requirement already satisfied: networkx in /Library/Frameworks/Python.framework/Versions/3.10/lib/python3.10/site-packages (from torch->-r ../../requirements.txt (line 2)) (3.2.1)\n",
      "Requirement already satisfied: fsspec in /Library/Frameworks/Python.framework/Versions/3.10/lib/python3.10/site-packages (from torch->-r ../../requirements.txt (line 2)) (2023.10.0)\n",
      "Requirement already satisfied: sympy in /Library/Frameworks/Python.framework/Versions/3.10/lib/python3.10/site-packages (from torch->-r ../../requirements.txt (line 2)) (1.12)\n",
      "Requirement already satisfied: typing-extensions in /Library/Frameworks/Python.framework/Versions/3.10/lib/python3.10/site-packages (from torch->-r ../../requirements.txt (line 2)) (4.8.0)\n",
      "Requirement already satisfied: jinja2 in /Library/Frameworks/Python.framework/Versions/3.10/lib/python3.10/site-packages (from torch->-r ../../requirements.txt (line 2)) (3.1.2)\n",
      "Requirement already satisfied: urllib3<3,>=1.21.1 in /Library/Frameworks/Python.framework/Versions/3.10/lib/python3.10/site-packages (from requests->-r ../../requirements.txt (line 3)) (2.1.0)\n",
      "Requirement already satisfied: certifi>=2017.4.17 in /Library/Frameworks/Python.framework/Versions/3.10/lib/python3.10/site-packages (from requests->-r ../../requirements.txt (line 3)) (2023.11.17)\n",
      "Requirement already satisfied: charset-normalizer<4,>=2 in /Library/Frameworks/Python.framework/Versions/3.10/lib/python3.10/site-packages (from requests->-r ../../requirements.txt (line 3)) (3.3.2)\n",
      "Requirement already satisfied: idna<4,>=2.5 in /Library/Frameworks/Python.framework/Versions/3.10/lib/python3.10/site-packages (from requests->-r ../../requirements.txt (line 3)) (3.6)\n",
      "Requirement already satisfied: cycler>=0.10 in /Library/Frameworks/Python.framework/Versions/3.10/lib/python3.10/site-packages (from matplotlib->-r ../../requirements.txt (line 6)) (0.12.1)\n",
      "Requirement already satisfied: kiwisolver>=1.3.1 in /Library/Frameworks/Python.framework/Versions/3.10/lib/python3.10/site-packages (from matplotlib->-r ../../requirements.txt (line 6)) (1.4.5)\n",
      "Requirement already satisfied: fonttools>=4.22.0 in /Library/Frameworks/Python.framework/Versions/3.10/lib/python3.10/site-packages (from matplotlib->-r ../../requirements.txt (line 6)) (4.45.1)\n",
      "Requirement already satisfied: packaging>=20.0 in /Users/jernkun/Library/Python/3.10/lib/python/site-packages (from matplotlib->-r ../../requirements.txt (line 6)) (23.2)\n",
      "Requirement already satisfied: python-dateutil>=2.7 in /Users/jernkun/Library/Python/3.10/lib/python/site-packages (from matplotlib->-r ../../requirements.txt (line 6)) (2.8.2)\n",
      "Requirement already satisfied: contourpy>=1.0.1 in /Library/Frameworks/Python.framework/Versions/3.10/lib/python3.10/site-packages (from matplotlib->-r ../../requirements.txt (line 6)) (1.2.0)\n",
      "Requirement already satisfied: pillow>=8 in /Library/Frameworks/Python.framework/Versions/3.10/lib/python3.10/site-packages (from matplotlib->-r ../../requirements.txt (line 6)) (10.1.0)\n",
      "Requirement already satisfied: pyparsing>=2.3.1 in /Library/Frameworks/Python.framework/Versions/3.10/lib/python3.10/site-packages (from matplotlib->-r ../../requirements.txt (line 6)) (3.1.1)\n",
      "Requirement already satisfied: docutils>=0.3 in /Library/Frameworks/Python.framework/Versions/3.10/lib/python3.10/site-packages (from statistics->-r ../../requirements.txt (line 7)) (0.20.1)\n",
      "Requirement already satisfied: protobuf>=3.20.2 in /Library/Frameworks/Python.framework/Versions/3.10/lib/python3.10/site-packages (from onnx->-r ../../requirements.txt (line 8)) (4.25.1)\n",
      "Requirement already satisfied: six>=1.5 in /Users/jernkun/Library/Python/3.10/lib/python/site-packages (from python-dateutil>=2.7->matplotlib->-r ../../requirements.txt (line 6)) (1.16.0)\n",
      "Requirement already satisfied: MarkupSafe>=2.0 in /Library/Frameworks/Python.framework/Versions/3.10/lib/python3.10/site-packages (from jinja2->torch->-r ../../requirements.txt (line 2)) (2.1.3)\n",
      "Requirement already satisfied: mpmath>=0.19 in /Library/Frameworks/Python.framework/Versions/3.10/lib/python3.10/site-packages (from sympy->torch->-r ../../requirements.txt (line 2)) (1.3.0)\n",
      "\u001b[33mWARNING: You are using pip version 21.2.3; however, version 23.3.1 is available.\n",
      "You should consider upgrading via the '/usr/local/bin/python3 -m pip install --upgrade pip' command.\u001b[0m\n",
      "Note: you may need to restart the kernel to use updated packages.\n"
     ]
    }
   ],
   "source": [
    "pip install -r ../../requirements.txt"
   ]
  },
  {
   "cell_type": "code",
   "execution_count": 17,
   "metadata": {},
   "outputs": [],
   "source": [
    "import ezkl\n",
    "import torch\n",
    "from torch import nn\n",
    "import json\n",
    "import os\n",
    "import time\n",
    "import scipy\n",
    "import numpy as np\n",
    "import matplotlib.pyplot as plt\n",
    "import statistics\n",
    "import math"
   ]
  },
  {
   "cell_type": "code",
   "execution_count": 18,
   "metadata": {},
   "outputs": [],
   "source": [
    "%run -i ../../core.py"
   ]
  },
  {
   "cell_type": "code",
   "execution_count": 19,
   "metadata": {},
   "outputs": [],
   "source": [
    "# init path\n",
    "os.makedirs(os.path.dirname('shared/'), exist_ok=True)\n",
    "os.makedirs(os.path.dirname('prover/'), exist_ok=True)\n",
    "verifier_model_path = os.path.join('shared/verifier.onnx')\n",
    "prover_model_path = os.path.join('prover/prover.onnx')\n",
    "verifier_compiled_model_path = os.path.join('shared/verifier.compiled')\n",
    "prover_compiled_model_path = os.path.join('prover/prover.compiled')\n",
    "pk_path = os.path.join('shared/test.pk')\n",
    "vk_path = os.path.join('shared/test.vk')\n",
    "proof_path = os.path.join('shared/test.pf')\n",
    "settings_path = os.path.join('shared/settings.json')\n",
    "srs_path = os.path.join('shared/kzg.srs')\n",
    "witness_path = os.path.join('prover/witness.json')\n",
    "# this is private to prover since it contains actual data\n",
    "comb_data_path = os.path.join('prover/comb_data.json')"
   ]
  },
  {
   "attachments": {},
   "cell_type": "markdown",
   "metadata": {},
   "source": [
    "=======================  ZK-STATS FLOW ======================="
   ]
  },
  {
   "cell_type": "code",
   "execution_count": 20,
   "metadata": {},
   "outputs": [],
   "source": [
    "data_path = os.path.join('data.json')\n",
    "dummy_data_path = os.path.join('shared/dummy_data.json')\n",
    "\n",
    "f_raw_input = open(data_path, \"r\")\n",
    "data = json.loads(f_raw_input.read())[\"input_data\"][0]\n",
    "data_tensor = torch.reshape(torch.tensor(data),(1, len(data), 1))\n",
    "\n",
    "#  dummy data for data consumer: make the bound approx same as real data\n",
    "dummy_data = np.random.uniform(min(data), max(data), len(data))\n",
    "json.dump({\"input_data\":[dummy_data.tolist()]}, open(dummy_data_path, 'w'))\n",
    "\n",
    "dummy_data_tensor = torch.reshape(torch.tensor(dummy_data), (1, len(dummy_data),1 ))\n",
    "dummy_theory_output = torch.div(1.0,torch.mean(torch.div(1.0,dummy_data_tensor)))"
   ]
  },
  {
   "cell_type": "code",
   "execution_count": 21,
   "metadata": {},
   "outputs": [],
   "source": [
    "# Verifier/ data consumer side:\n",
    "# since have division, scale must be very LARGE, cant use just 0\n",
    "# So, we allow error rate to be 10% instead of 1%\n",
    "class verifier_model(nn.Module):\n",
    "    def __init__(self):\n",
    "        super(verifier_model, self).__init__()\n",
    "        self.w = nn.Parameter(data = dummy_theory_output, requires_grad = False)\n",
    "\n",
    "    def forward(self,X):\n",
    "        return (torch.abs((self.w*torch.sum(torch.div(1.0,X)))-X.size()[1])<=torch.abs(0.1*X.size()[1]), self.w)\n",
    "verifier_define_calculation(verifier_model, verifier_model_path, [dummy_data_path])"
   ]
  },
  {
   "cell_type": "code",
   "execution_count": 22,
   "metadata": {},
   "outputs": [
    {
     "name": "stdout",
     "output_type": "stream",
     "text": [
      "Theory_output:  tensor(45.2144)\n",
      "==== Generate & Calibrate Setting ====\n",
      "scale:  [6]\n",
      "setting:  {\"run_args\":{\"tolerance\":{\"val\":0.0,\"scale\":1.0},\"input_scale\":6,\"param_scale\":6,\"scale_rebase_multiplier\":10,\"lookup_range\":[-184392,11264],\"logrows\":18,\"num_inner_cols\":1,\"variables\":[[\"batch_size\",1]],\"input_visibility\":{\"Hashed\":{\"hash_is_public\":true,\"outlets\":[]}},\"output_visibility\":\"Public\",\"param_visibility\":\"Private\"},\"num_rows\":14432,\"total_assignments\":911,\"total_const_size\":4,\"model_instance_shapes\":[[1],[1]],\"model_output_scales\":[0,6],\"model_input_scales\":[6],\"module_sizes\":{\"kzg\":[],\"poseidon\":[14432,[1]],\"elgamal\":[0,[0]]},\"required_lookups\":[\"Abs\",{\"Recip\":{\"scale\":4096.0}},{\"GreaterThan\":{\"a\":0.0}}],\"check_mode\":\"UNSAFE\",\"version\":\"5.0.8\",\"num_blinding_factors\":null}\n"
     ]
    }
   ],
   "source": [
    "# prover calculates settings, send to verifier\n",
    "theory_output = torch.div(1.0,torch.mean(torch.div(1.0,data_tensor)))\n",
    "print(\"Theory_output: \",theory_output)\n",
    "class prover_model(nn.Module):\n",
    "    def __init__(self):\n",
    "        super(prover_model, self).__init__()\n",
    "        # w represents mean in this case\n",
    "        self.w = nn.Parameter(data = theory_output, requires_grad = False)\n",
    "\n",
    "    def forward(self,X):\n",
    "        return (torch.abs((self.w*torch.sum(torch.div(1.0,X)))-X.size()[1])<=torch.abs(0.1*X.size()[1]), self.w)\n",
    "\n",
    "prover_gen_settings([data_path], comb_data_path, prover_model,prover_model_path, [6], \"resources\", settings_path)"
   ]
  },
  {
   "cell_type": "code",
   "execution_count": 23,
   "metadata": {},
   "outputs": [
    {
     "name": "stderr",
     "output_type": "stream",
     "text": [
      "spawning module 0\n",
      "spawning module 2\n"
     ]
    },
    {
     "name": "stdout",
     "output_type": "stream",
     "text": [
      "==== setting up ezkl ====\n"
     ]
    },
    {
     "name": "stderr",
     "output_type": "stream",
     "text": [
      "spawning module 0\n",
      "spawning module 2\n"
     ]
    },
    {
     "name": "stdout",
     "output_type": "stream",
     "text": [
      "Time setup: 24.533974170684814 seconds\n",
      "=======================================\n",
      "Theory output:  tensor(45.2144)\n",
      "==== Generating Witness ====\n",
      "witness boolean:  1.0\n",
      "witness result 1 : 45.21875\n",
      "==== Generating Proof ====\n"
     ]
    },
    {
     "name": "stderr",
     "output_type": "stream",
     "text": [
      "spawning module 0\n",
      "spawning module 2\n"
     ]
    },
    {
     "name": "stdout",
     "output_type": "stream",
     "text": [
      "proof:  {'instances': [[[11712583131456230033, 7998639690917952521, 17628064685104548320, 3364894255067083796], [12436184717236109307, 3962172157175319849, 7381016538464732718, 1011752739694698287], [10409296726488761395, 15557203226960814343, 16692342436085548322, 2420882828764455196]]], 'proof': '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', 'transcript_type': 'EVM'}\n",
      "Time gen prf: 25.413284063339233 seconds\n"
     ]
    }
   ],
   "source": [
    "# Here verifier & prover can concurrently call setup since all params are public to get pk. \n",
    "# Here write as verifier function to emphasize that verifier must calculate its own vk to be sure\n",
    "verifier_setup(verifier_model_path, verifier_compiled_model_path, settings_path, srs_path,vk_path, pk_path )\n",
    "\n",
    "print(\"=======================================\")\n",
    "# Prover generates proof\n",
    "print(\"Theory output: \", theory_output)\n",
    "prover_gen_proof(prover_model_path, comb_data_path, witness_path, prover_compiled_model_path, settings_path, proof_path, pk_path, srs_path)"
   ]
  },
  {
   "cell_type": "code",
   "execution_count": 24,
   "metadata": {},
   "outputs": [
    {
     "name": "stdout",
     "output_type": "stream",
     "text": [
      "num_inputs:  1\n",
      "prf instances:  [[[11712583131456230033, 7998639690917952521, 17628064685104548320, 3364894255067083796], [12436184717236109307, 3962172157175319849, 7381016538464732718, 1011752739694698287], [10409296726488761395, 15557203226960814343, 16692342436085548322, 2420882828764455196]]]\n",
      "proof boolean:  1.0\n",
      "proof result 1 : 45.21875\n",
      "verified\n"
     ]
    }
   ],
   "source": [
    "# Verifier verifies\n",
    "verifier_verify(proof_path, settings_path, vk_path, srs_path)"
   ]
  },
  {
   "cell_type": "code",
   "execution_count": null,
   "metadata": {},
   "outputs": [],
   "source": []
  },
  {
   "cell_type": "code",
   "execution_count": null,
   "metadata": {},
   "outputs": [],
   "source": []
  }
 ],
 "metadata": {
  "kernelspec": {
   "display_name": "Python 3",
   "language": "python",
   "name": "python3"
  },
  "language_info": {
   "codemirror_mode": {
    "name": "ipython",
    "version": 3
   },
   "file_extension": ".py",
   "mimetype": "text/x-python",
   "name": "python",
   "nbconvert_exporter": "python",
   "pygments_lexer": "ipython3",
   "version": "3.10.0"
  },
  "orig_nbformat": 4
 },
 "nbformat": 4,
 "nbformat_minor": 2
}
