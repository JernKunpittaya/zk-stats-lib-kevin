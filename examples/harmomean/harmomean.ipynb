{
 "cells": [
  {
   "cell_type": "code",
   "execution_count": 1,
   "metadata": {},
   "outputs": [],
   "source": [
    "import ezkl\n",
    "import torch\n",
    "from torch import nn\n",
    "import json\n",
    "import os\n",
    "import time\n",
    "import scipy\n",
    "import numpy as np\n",
    "import matplotlib.pyplot as plt\n",
    "import statistics\n",
    "import math"
   ]
  },
  {
   "cell_type": "code",
   "execution_count": 2,
   "metadata": {},
   "outputs": [],
   "source": [
    "from zkstats.core import create_dummy, verifier_define_calculation, prover_gen_settings, setup, prover_gen_proof, verifier_verify, generate_data_commitment"
   ]
  },
  {
   "cell_type": "code",
   "execution_count": 3,
   "metadata": {},
   "outputs": [],
   "source": [
    "# init path\n",
    "os.makedirs(os.path.dirname('shared/'), exist_ok=True)\n",
    "os.makedirs(os.path.dirname('prover/'), exist_ok=True)\n",
    "verifier_model_path = os.path.join('shared/verifier.onnx')\n",
    "prover_model_path = os.path.join('prover/prover.onnx')\n",
    "verifier_compiled_model_path = os.path.join('shared/verifier.compiled')\n",
    "prover_compiled_model_path = os.path.join('prover/prover.compiled')\n",
    "pk_path = os.path.join('shared/test.pk')\n",
    "vk_path = os.path.join('shared/test.vk')\n",
    "proof_path = os.path.join('shared/test.pf')\n",
    "settings_path = os.path.join('shared/settings.json')\n",
    "srs_path = os.path.join('shared/kzg.srs')\n",
    "witness_path = os.path.join('prover/witness.json')\n",
    "# this is private to prover since it contains actual data\n",
    "sel_data_path = os.path.join('prover/sel_data.json')\n",
    "# this is just dummy random value\n",
    "sel_dummy_data_path = os.path.join('shared/sel_dummy_data.json')\n",
    "data_commitment_path = os.path.join('shared/data_commitment.json')"
   ]
  },
  {
   "attachments": {},
   "cell_type": "markdown",
   "metadata": {},
   "source": [
    "=======================  ZK-STATS FLOW ======================="
   ]
  },
  {
   "cell_type": "code",
   "execution_count": 4,
   "metadata": {},
   "outputs": [],
   "source": [
    "data_path = os.path.join('data.json')\n",
    "dummy_data_path = os.path.join('shared/dummy_data.json')\n",
    "\n",
    "create_dummy(data_path, dummy_data_path)"
   ]
  },
  {
   "cell_type": "code",
   "execution_count": 5,
   "metadata": {},
   "outputs": [],
   "source": [
    "scales = [6]\n",
    "selected_columns = ['col_name']\n",
    "generate_data_commitment(data_path, scales, data_commitment_path)"
   ]
  },
  {
   "cell_type": "code",
   "execution_count": 6,
   "metadata": {},
   "outputs": [
    {
     "name": "stderr",
     "output_type": "stream",
     "text": [
      "/Users/jernkun/Desktop/zk-stats-lib/zkstats/computation.py:172: TracerWarning: torch.tensor results are registered as constants in the trace. You can safely ignore this warning if you use this function to create tensors out of constant variables that would be the same every time you call this function. In any other case, this might cause the trace to be incorrect.\n",
      "  is_precise_aggregated = torch.tensor(1.0)\n",
      "/Users/jernkun/Library/Caches/pypoetry/virtualenvs/zkstats-OJpceffF-py3.11/lib/python3.11/site-packages/torch/onnx/symbolic_opset9.py:2174: FutureWarning: 'torch.onnx.symbolic_opset9._cast_Bool' is deprecated in version 2.0 and will be removed in the future. Please Avoid using this function and create a Cast node instead.\n",
      "  return fn(g, to_cast_func(g, input, False), to_cast_func(g, other, False))\n"
     ]
    }
   ],
   "source": [
    "# Verifier/ data consumer side:\n",
    "# since have division, scale must be very LARGE, cant use just 0\n",
    "# So, we allow error rate to be 10% instead of 1%\n",
    "from zkstats.computation import computation_to_model, State\n",
    "\n",
    "\n",
    "def computation(s: State, data: list[torch.Tensor]) -> torch.Tensor:\n",
    "    x = data[0]\n",
    "    return s.harmonic_mean(x)\n",
    "\n",
    "error = 0.1\n",
    "_, verifier_model = computation_to_model(computation, error)\n",
    "\n",
    "verifier_define_calculation(dummy_data_path, selected_columns,sel_dummy_data_path,verifier_model, verifier_model_path)"
   ]
  },
  {
   "cell_type": "code",
   "execution_count": 7,
   "metadata": {},
   "outputs": [
    {
     "name": "stderr",
     "output_type": "stream",
     "text": [
      "Using 2 columns for non-linearity table.\n",
      "Using 2 columns for non-linearity table.\n",
      "Using 2 columns for non-linearity table.\n",
      "Using 2 columns for non-linearity table.\n",
      "Using 2 columns for non-linearity table.\n",
      "Using 2 columns for non-linearity table.\n",
      "Using 3 columns for non-linearity table.\n",
      "Using 3 columns for non-linearity table.\n",
      "Using 3 columns for non-linearity table.\n",
      "Using 5 columns for non-linearity table.\n",
      "Using 5 columns for non-linearity table.\n",
      "Using 5 columns for non-linearity table.\n",
      "Using 5 columns for non-linearity table.\n",
      "Using 5 columns for non-linearity table.\n",
      "Using 5 columns for non-linearity table.\n",
      "\n",
      "\n",
      " <------------- Numerical Fidelity Report (input_scale: 6, param_scale: 6, scale_input_multiplier: 1) ------------->\n",
      "\n",
      "+-------------+--------------+-----------+-------------+----------------+------------------+---------------+---------------+--------------------+--------------------+------------------------+\n",
      "| mean_error  | median_error | max_error | min_error   | mean_abs_error | median_abs_error | max_abs_error | min_abs_error | mean_squared_error | mean_percent_error | mean_abs_percent_error |\n",
      "+-------------+--------------+-----------+-------------+----------------+------------------+---------------+---------------+--------------------+--------------------+------------------------+\n",
      "| -0.00217247 | -0.00434494  | 0         | -0.00434494 | 0.00217247     | 0.00434494       | 0.00434494    | 0             | 0.000009439253     | -0.000048048183    | 0.000048048183         |\n",
      "+-------------+--------------+-----------+-------------+----------------+------------------+---------------+---------------+--------------------+--------------------+------------------------+\n",
      "\n",
      "\n"
     ]
    },
    {
     "name": "stdout",
     "output_type": "stream",
     "text": [
      "==== Generate & Calibrate Setting ====\n",
      "scale:  [6]\n",
      "setting:  {\"run_args\":{\"tolerance\":{\"val\":0.0,\"scale\":1.0},\"input_scale\":6,\"param_scale\":6,\"scale_rebase_multiplier\":1,\"lookup_range\":[-2642,3600],\"logrows\":14,\"num_inner_cols\":2,\"variables\":[[\"batch_size\",1]],\"input_visibility\":{\"Hashed\":{\"hash_is_public\":true,\"outlets\":[]}},\"output_visibility\":\"Public\",\"param_visibility\":\"Private\",\"div_rebasing\":false,\"rebase_frac_zero_constants\":false,\"check_mode\":\"UNSAFE\"},\"num_rows\":14432,\"total_assignments\":12624,\"total_const_size\":3312,\"model_instance_shapes\":[[1],[1]],\"model_output_scales\":[0,6],\"model_input_scales\":[6],\"module_sizes\":{\"kzg\":[],\"poseidon\":[14432,[1]]},\"required_lookups\":[{\"GreaterThan\":{\"a\":0.0}},\"Abs\"],\"required_range_checks\":[[-32,32],[32,96]],\"check_mode\":\"UNSAFE\",\"version\":\"9.1.0\",\"num_blinding_factors\":null,\"timestamp\":1709725137745}\n"
     ]
    }
   ],
   "source": [
    "# prover calculates settings, send to verifier\n",
    "_, prover_model = computation_to_model(computation, error)\n",
    "\n",
    "prover_gen_settings(data_path, selected_columns, sel_data_path, prover_model,prover_model_path, scales, \"resources\", settings_path)"
   ]
  },
  {
   "cell_type": "code",
   "execution_count": 8,
   "metadata": {},
   "outputs": [
    {
     "name": "stdout",
     "output_type": "stream",
     "text": [
      "==== setting up ezkl ====\n",
      "Time setup: 1.7187037467956543 seconds\n",
      "=======================================\n",
      "==== Generating Witness ====\n",
      "witness boolean:  1.0\n",
      "witness result 1 : 45.21875\n",
      "==== Generating Proof ====\n",
      "proof:  {'instances': [['c371c58876874ace4444c2f2683e0d7bb7ce264f49872aa6deab40635ed90f23', '0100000000000000000000000000000000000000000000000000000000000000', '4e0b000000000000000000000000000000000000000000000000000000000000']], 'proof': '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', 'transcript_type': 'EVM'}\n",
      "Time gen prf: 2.581162929534912 seconds\n"
     ]
    }
   ],
   "source": [
    "# Here verifier & prover can concurrently call setup since all params are public to get pk.\n",
    "# Here write as verifier function to emphasize that verifier must calculate its own vk to be sure\n",
    "setup(verifier_model_path, verifier_compiled_model_path, settings_path,vk_path, pk_path )\n",
    "\n",
    "print(\"=======================================\")\n",
    "# Prover generates proof\n",
    "prover_gen_proof(prover_model_path, sel_data_path, witness_path, prover_compiled_model_path, settings_path, proof_path, pk_path)"
   ]
  },
  {
   "cell_type": "code",
   "execution_count": 9,
   "metadata": {},
   "outputs": [
    {
     "name": "stdout",
     "output_type": "stream",
     "text": [
      "Verifier gets result: [45.21875]\n"
     ]
    }
   ],
   "source": [
    "# Verifier verifies\n",
    "res = verifier_verify(proof_path, settings_path, vk_path, selected_columns, data_commitment_path)\n",
    "print(\"Verifier gets result:\", res)"
   ]
  },
  {
   "cell_type": "code",
   "execution_count": null,
   "metadata": {},
   "outputs": [],
   "source": []
  }
 ],
 "metadata": {
  "kernelspec": {
   "display_name": "Python 3",
   "language": "python",
   "name": "python3"
  },
  "language_info": {
   "codemirror_mode": {
    "name": "ipython",
    "version": 3
   },
   "file_extension": ".py",
   "mimetype": "text/x-python",
   "name": "python",
   "nbconvert_exporter": "python",
   "pygments_lexer": "ipython3",
   "version": "3.11.4"
  },
  "orig_nbformat": 4
 },
 "nbformat": 4,
 "nbformat_minor": 2
}
