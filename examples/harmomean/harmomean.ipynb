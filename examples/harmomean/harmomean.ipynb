{
 "cells": [
  {
   "cell_type": "code",
   "execution_count": 1,
   "metadata": {},
   "outputs": [
    {
     "name": "stdout",
     "output_type": "stream",
     "text": [
      "Requirement already satisfied: ezkl==5.0.8 in /Library/Frameworks/Python.framework/Versions/3.10/lib/python3.10/site-packages (from -r ../../requirements.txt (line 1)) (5.0.8)\n",
      "Requirement already satisfied: torch in /Library/Frameworks/Python.framework/Versions/3.10/lib/python3.10/site-packages (from -r ../../requirements.txt (line 2)) (2.1.1)\n",
      "Requirement already satisfied: requests in /Library/Frameworks/Python.framework/Versions/3.10/lib/python3.10/site-packages (from -r ../../requirements.txt (line 3)) (2.31.0)\n",
      "Requirement already satisfied: scipy in /Library/Frameworks/Python.framework/Versions/3.10/lib/python3.10/site-packages (from -r ../../requirements.txt (line 4)) (1.11.4)\n",
      "Requirement already satisfied: numpy in /Library/Frameworks/Python.framework/Versions/3.10/lib/python3.10/site-packages (from -r ../../requirements.txt (line 5)) (1.26.2)\n",
      "Requirement already satisfied: matplotlib in /Library/Frameworks/Python.framework/Versions/3.10/lib/python3.10/site-packages (from -r ../../requirements.txt (line 6)) (3.8.2)\n",
      "Requirement already satisfied: statistics in /Library/Frameworks/Python.framework/Versions/3.10/lib/python3.10/site-packages (from -r ../../requirements.txt (line 7)) (1.0.3.5)\n",
      "Requirement already satisfied: onnx in /Library/Frameworks/Python.framework/Versions/3.10/lib/python3.10/site-packages (from -r ../../requirements.txt (line 8)) (1.15.0)\n",
      "Requirement already satisfied: filelock in /Library/Frameworks/Python.framework/Versions/3.10/lib/python3.10/site-packages (from torch->-r ../../requirements.txt (line 2)) (3.13.1)\n",
      "Requirement already satisfied: networkx in /Library/Frameworks/Python.framework/Versions/3.10/lib/python3.10/site-packages (from torch->-r ../../requirements.txt (line 2)) (3.2.1)\n",
      "Requirement already satisfied: fsspec in /Library/Frameworks/Python.framework/Versions/3.10/lib/python3.10/site-packages (from torch->-r ../../requirements.txt (line 2)) (2023.10.0)\n",
      "Requirement already satisfied: sympy in /Library/Frameworks/Python.framework/Versions/3.10/lib/python3.10/site-packages (from torch->-r ../../requirements.txt (line 2)) (1.12)\n",
      "Requirement already satisfied: typing-extensions in /Library/Frameworks/Python.framework/Versions/3.10/lib/python3.10/site-packages (from torch->-r ../../requirements.txt (line 2)) (4.8.0)\n",
      "Requirement already satisfied: jinja2 in /Library/Frameworks/Python.framework/Versions/3.10/lib/python3.10/site-packages (from torch->-r ../../requirements.txt (line 2)) (3.1.2)\n",
      "Requirement already satisfied: urllib3<3,>=1.21.1 in /Library/Frameworks/Python.framework/Versions/3.10/lib/python3.10/site-packages (from requests->-r ../../requirements.txt (line 3)) (2.1.0)\n",
      "Requirement already satisfied: certifi>=2017.4.17 in /Library/Frameworks/Python.framework/Versions/3.10/lib/python3.10/site-packages (from requests->-r ../../requirements.txt (line 3)) (2023.11.17)\n",
      "Requirement already satisfied: charset-normalizer<4,>=2 in /Library/Frameworks/Python.framework/Versions/3.10/lib/python3.10/site-packages (from requests->-r ../../requirements.txt (line 3)) (3.3.2)\n",
      "Requirement already satisfied: idna<4,>=2.5 in /Library/Frameworks/Python.framework/Versions/3.10/lib/python3.10/site-packages (from requests->-r ../../requirements.txt (line 3)) (3.6)\n",
      "Requirement already satisfied: cycler>=0.10 in /Library/Frameworks/Python.framework/Versions/3.10/lib/python3.10/site-packages (from matplotlib->-r ../../requirements.txt (line 6)) (0.12.1)\n",
      "Requirement already satisfied: kiwisolver>=1.3.1 in /Library/Frameworks/Python.framework/Versions/3.10/lib/python3.10/site-packages (from matplotlib->-r ../../requirements.txt (line 6)) (1.4.5)\n",
      "Requirement already satisfied: fonttools>=4.22.0 in /Library/Frameworks/Python.framework/Versions/3.10/lib/python3.10/site-packages (from matplotlib->-r ../../requirements.txt (line 6)) (4.45.1)\n",
      "Requirement already satisfied: packaging>=20.0 in /Users/jernkun/Library/Python/3.10/lib/python/site-packages (from matplotlib->-r ../../requirements.txt (line 6)) (23.2)\n",
      "Requirement already satisfied: python-dateutil>=2.7 in /Users/jernkun/Library/Python/3.10/lib/python/site-packages (from matplotlib->-r ../../requirements.txt (line 6)) (2.8.2)\n",
      "Requirement already satisfied: contourpy>=1.0.1 in /Library/Frameworks/Python.framework/Versions/3.10/lib/python3.10/site-packages (from matplotlib->-r ../../requirements.txt (line 6)) (1.2.0)\n",
      "Requirement already satisfied: pillow>=8 in /Library/Frameworks/Python.framework/Versions/3.10/lib/python3.10/site-packages (from matplotlib->-r ../../requirements.txt (line 6)) (10.1.0)\n",
      "Requirement already satisfied: pyparsing>=2.3.1 in /Library/Frameworks/Python.framework/Versions/3.10/lib/python3.10/site-packages (from matplotlib->-r ../../requirements.txt (line 6)) (3.1.1)\n",
      "Requirement already satisfied: docutils>=0.3 in /Library/Frameworks/Python.framework/Versions/3.10/lib/python3.10/site-packages (from statistics->-r ../../requirements.txt (line 7)) (0.20.1)\n",
      "Requirement already satisfied: protobuf>=3.20.2 in /Library/Frameworks/Python.framework/Versions/3.10/lib/python3.10/site-packages (from onnx->-r ../../requirements.txt (line 8)) (4.25.1)\n",
      "Requirement already satisfied: six>=1.5 in /Users/jernkun/Library/Python/3.10/lib/python/site-packages (from python-dateutil>=2.7->matplotlib->-r ../../requirements.txt (line 6)) (1.16.0)\n",
      "Requirement already satisfied: MarkupSafe>=2.0 in /Library/Frameworks/Python.framework/Versions/3.10/lib/python3.10/site-packages (from jinja2->torch->-r ../../requirements.txt (line 2)) (2.1.3)\n",
      "Requirement already satisfied: mpmath>=0.19 in /Library/Frameworks/Python.framework/Versions/3.10/lib/python3.10/site-packages (from sympy->torch->-r ../../requirements.txt (line 2)) (1.3.0)\n",
      "\u001b[33mWARNING: You are using pip version 21.2.3; however, version 23.3.1 is available.\n",
      "You should consider upgrading via the '/usr/local/bin/python3 -m pip install --upgrade pip' command.\u001b[0m\n",
      "Note: you may need to restart the kernel to use updated packages.\n"
     ]
    }
   ],
   "source": [
    "pip install -r ../../requirements.txt"
   ]
  },
  {
   "cell_type": "code",
   "execution_count": 1,
   "metadata": {},
   "outputs": [],
   "source": [
    "import ezkl\n",
    "import torch\n",
    "from torch import nn\n",
    "import json\n",
    "import os\n",
    "import time\n",
    "import scipy\n",
    "import numpy as np\n",
    "import matplotlib.pyplot as plt\n",
    "import statistics\n",
    "import math"
   ]
  },
  {
   "cell_type": "code",
   "execution_count": 2,
   "metadata": {},
   "outputs": [],
   "source": [
    "%run -i ../../core.py"
   ]
  },
  {
   "cell_type": "code",
   "execution_count": 3,
   "metadata": {},
   "outputs": [],
   "source": [
    "# init path\n",
    "os.makedirs(os.path.dirname('shared/'), exist_ok=True)\n",
    "os.makedirs(os.path.dirname('prover/'), exist_ok=True)\n",
    "verifier_model_path = os.path.join('shared/verifier.onnx')\n",
    "prover_model_path = os.path.join('prover/prover.onnx')\n",
    "verifier_compiled_model_path = os.path.join('shared/verifier.compiled')\n",
    "prover_compiled_model_path = os.path.join('prover/prover.compiled')\n",
    "pk_path = os.path.join('shared/test.pk')\n",
    "vk_path = os.path.join('shared/test.vk')\n",
    "proof_path = os.path.join('shared/test.pf')\n",
    "settings_path = os.path.join('shared/settings.json')\n",
    "srs_path = os.path.join('shared/kzg.srs')\n",
    "witness_path = os.path.join('prover/witness.json')\n",
    "# this is private to prover since it contains actual data\n",
    "comb_data_path = os.path.join('prover/comb_data.json')"
   ]
  },
  {
   "attachments": {},
   "cell_type": "markdown",
   "metadata": {},
   "source": [
    "=======================  ZK-STATS FLOW ======================="
   ]
  },
  {
   "cell_type": "code",
   "execution_count": 4,
   "metadata": {},
   "outputs": [],
   "source": [
    "data_path = os.path.join('data.json')\n",
    "dummy_data_path = os.path.join('shared/dummy_data.json')\n",
    "\n",
    "f_raw_input = open(data_path, \"r\")\n",
    "data = json.loads(f_raw_input.read())[\"input_data\"][0]\n",
    "data_tensor = torch.reshape(torch.tensor(data),(1, len(data), 1))\n",
    "\n",
    "#  dummy data for data consumer: make the bound approx same as real data\n",
    "dummy_data = np.random.uniform(min(data), max(data), len(data))\n",
    "json.dump({\"input_data\":[dummy_data.tolist()]}, open(dummy_data_path, 'w'))\n",
    "\n",
    "dummy_data_tensor = torch.reshape(torch.tensor(dummy_data), (1, len(dummy_data),1 ))\n",
    "dummy_theory_output = torch.div(1.0,torch.mean(torch.div(1.0,dummy_data_tensor)))"
   ]
  },
  {
   "cell_type": "code",
   "execution_count": 5,
   "metadata": {},
   "outputs": [],
   "source": [
    "# Verifier/ data consumer side:\n",
    "# since have division, scale must be very LARGE, cant use just 0\n",
    "# So, we allow error rate to be 10% instead of 1%\n",
    "class verifier_model(nn.Module):\n",
    "    def __init__(self):\n",
    "        super(verifier_model, self).__init__()\n",
    "        # w represents mean in this case\n",
    "        self.w = nn.Parameter(data = dummy_theory_output, requires_grad = False)\n",
    "\n",
    "    def forward(self,X):\n",
    "        # some expression of tolerance to error in the inference\n",
    "        return (torch.abs((self.w*torch.sum(torch.div(1.0,X)))-X.size()[1])<0.1*X.size()[1], self.w)\n",
    "verifier_define_calculation(verifier_model, verifier_model_path, [dummy_data_path])"
   ]
  },
  {
   "cell_type": "code",
   "execution_count": 6,
   "metadata": {},
   "outputs": [
    {
     "name": "stdout",
     "output_type": "stream",
     "text": [
      "Theory_output:  tensor(45.2144)\n",
      "==== Generate & Calibrate Setting ====\n",
      "scale:  [6]\n",
      "setting:  {\"run_args\":{\"tolerance\":{\"val\":0.0,\"scale\":1.0},\"input_scale\":6,\"param_scale\":6,\"scale_rebase_multiplier\":10,\"lookup_range\":[-61368,184392],\"logrows\":18,\"num_inner_cols\":1,\"variables\":[[\"batch_size\",1]],\"input_visibility\":{\"Hashed\":{\"hash_is_public\":true,\"outlets\":[]}},\"output_visibility\":\"Public\",\"param_visibility\":\"Private\"},\"num_rows\":14432,\"total_assignments\":907,\"total_const_size\":0,\"model_instance_shapes\":[[1],[1]],\"model_output_scales\":[0,6],\"model_input_scales\":[6],\"module_sizes\":{\"kzg\":[],\"poseidon\":[14432,[1]],\"elgamal\":[0,[0]]},\"required_lookups\":[\"Abs\",{\"Recip\":{\"scale\":4096.0}},{\"GreaterThan\":{\"a\":0.0}}],\"check_mode\":\"UNSAFE\",\"version\":\"5.0.8\",\"num_blinding_factors\":null}\n"
     ]
    }
   ],
   "source": [
    "# prover calculates settings, send to verifier\n",
    "theory_output = torch.div(1.0,torch.mean(torch.div(1.0,data_tensor)))\n",
    "print(\"Theory_output: \",theory_output)\n",
    "class prover_model(nn.Module):\n",
    "    def __init__(self):\n",
    "        super(prover_model, self).__init__()\n",
    "        # w represents mean in this case\n",
    "        self.w = nn.Parameter(data = theory_output, requires_grad = False)\n",
    "\n",
    "    def forward(self,X):\n",
    "        # some expression of tolerance to error in the inference\n",
    "        return (torch.abs((self.w*torch.sum(torch.div(1.0,X)))-X.size()[1])<0.1*X.size()[1], self.w)\n",
    "\n",
    "prover_gen_settings([data_path], comb_data_path, prover_model,prover_model_path, [6], \"resources\", settings_path)"
   ]
  },
  {
   "cell_type": "code",
   "execution_count": 7,
   "metadata": {},
   "outputs": [
    {
     "name": "stderr",
     "output_type": "stream",
     "text": [
      "spawning module 0\n",
      "spawning module 2\n"
     ]
    },
    {
     "name": "stdout",
     "output_type": "stream",
     "text": [
      "==== setting up ezkl ====\n"
     ]
    },
    {
     "name": "stderr",
     "output_type": "stream",
     "text": [
      "spawning module 0\n",
      "spawning module 2\n"
     ]
    },
    {
     "name": "stdout",
     "output_type": "stream",
     "text": [
      "Time setup: 22.003841161727905 seconds\n",
      "=======================================\n",
      "Theory output:  tensor(45.2144)\n",
      "==== Generating Witness ====\n",
      "witness boolean:  1.0\n",
      "witness result 1 : 45.21875\n",
      "==== Generating Proof ====\n"
     ]
    },
    {
     "name": "stderr",
     "output_type": "stream",
     "text": [
      "spawning module 0\n",
      "spawning module 2\n"
     ]
    },
    {
     "name": "stdout",
     "output_type": "stream",
     "text": [
      "proof:  {'instances': [[[11712583131456230033, 7998639690917952521, 17628064685104548320, 3364894255067083796], [12436184717236109307, 3962172157175319849, 7381016538464732718, 1011752739694698287], [10409296726488761395, 15557203226960814343, 16692342436085548322, 2420882828764455196]]], 'proof': '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', 'transcript_type': 'EVM'}\n",
      "Time gen prf: 26.381882905960083 seconds\n"
     ]
    }
   ],
   "source": [
    "# Here verifier & prover can concurrently call setup since all params are public to get pk. \n",
    "# Here write as verifier function to emphasize that verifier must calculate its own vk to be sure\n",
    "verifier_setup(verifier_model_path, verifier_compiled_model_path, settings_path, srs_path,vk_path, pk_path )\n",
    "\n",
    "print(\"=======================================\")\n",
    "# Prover generates proof\n",
    "print(\"Theory output: \", theory_output)\n",
    "prover_gen_proof(prover_model_path, comb_data_path, witness_path, prover_compiled_model_path, settings_path, proof_path, pk_path, srs_path)"
   ]
  },
  {
   "cell_type": "code",
   "execution_count": 8,
   "metadata": {},
   "outputs": [
    {
     "name": "stdout",
     "output_type": "stream",
     "text": [
      "num_inputs:  1\n",
      "prf instances:  [[[11712583131456230033, 7998639690917952521, 17628064685104548320, 3364894255067083796], [12436184717236109307, 3962172157175319849, 7381016538464732718, 1011752739694698287], [10409296726488761395, 15557203226960814343, 16692342436085548322, 2420882828764455196]]]\n",
      "proof boolean:  1.0\n",
      "proof result 1 : 45.21875\n",
      "verified\n"
     ]
    }
   ],
   "source": [
    "# Verifier verifies\n",
    "verifier_verify(proof_path, settings_path, vk_path, srs_path)"
   ]
  },
  {
   "cell_type": "code",
   "execution_count": null,
   "metadata": {},
   "outputs": [],
   "source": []
  },
  {
   "cell_type": "code",
   "execution_count": null,
   "metadata": {},
   "outputs": [],
   "source": []
  }
 ],
 "metadata": {
  "kernelspec": {
   "display_name": "Python 3",
   "language": "python",
   "name": "python3"
  },
  "language_info": {
   "codemirror_mode": {
    "name": "ipython",
    "version": 3
   },
   "file_extension": ".py",
   "mimetype": "text/x-python",
   "name": "python",
   "nbconvert_exporter": "python",
   "pygments_lexer": "ipython3",
   "version": "3.10.0"
  },
  "orig_nbformat": 4
 },
 "nbformat": 4,
 "nbformat_minor": 2
}
