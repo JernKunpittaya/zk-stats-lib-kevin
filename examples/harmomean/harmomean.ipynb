{
 "cells": [
  {
   "cell_type": "code",
   "execution_count": 15,
   "metadata": {},
   "outputs": [
    {
     "name": "stdout",
     "output_type": "stream",
     "text": [
      "Requirement already satisfied: ezkl==7.0.0 in /Users/mhchia/Library/Caches/pypoetry/virtualenvs/zkstats-brXmXluj-py3.12/lib/python3.12/site-packages (from -r ../../requirements.txt (line 1)) (7.0.0)\n",
      "Requirement already satisfied: torch in /Users/mhchia/Library/Caches/pypoetry/virtualenvs/zkstats-brXmXluj-py3.12/lib/python3.12/site-packages (from -r ../../requirements.txt (line 2)) (2.2.0)\n",
      "Requirement already satisfied: requests in /Users/mhchia/Library/Caches/pypoetry/virtualenvs/zkstats-brXmXluj-py3.12/lib/python3.12/site-packages (from -r ../../requirements.txt (line 3)) (2.31.0)\n",
      "Requirement already satisfied: scipy in /Users/mhchia/Library/Caches/pypoetry/virtualenvs/zkstats-brXmXluj-py3.12/lib/python3.12/site-packages (from -r ../../requirements.txt (line 4)) (1.12.0)\n",
      "Requirement already satisfied: numpy in /Users/mhchia/Library/Caches/pypoetry/virtualenvs/zkstats-brXmXluj-py3.12/lib/python3.12/site-packages (from -r ../../requirements.txt (line 5)) (1.26.3)\n",
      "Requirement already satisfied: matplotlib in /Users/mhchia/Library/Caches/pypoetry/virtualenvs/zkstats-brXmXluj-py3.12/lib/python3.12/site-packages (from -r ../../requirements.txt (line 6)) (3.8.2)\n",
      "Requirement already satisfied: statistics in /Users/mhchia/Library/Caches/pypoetry/virtualenvs/zkstats-brXmXluj-py3.12/lib/python3.12/site-packages (from -r ../../requirements.txt (line 7)) (1.0.3.5)\n",
      "Requirement already satisfied: onnx in /Users/mhchia/Library/Caches/pypoetry/virtualenvs/zkstats-brXmXluj-py3.12/lib/python3.12/site-packages (from -r ../../requirements.txt (line 8)) (1.15.0)\n",
      "Requirement already satisfied: filelock in /Users/mhchia/Library/Caches/pypoetry/virtualenvs/zkstats-brXmXluj-py3.12/lib/python3.12/site-packages (from torch->-r ../../requirements.txt (line 2)) (3.13.1)\n",
      "Requirement already satisfied: typing-extensions>=4.8.0 in /Users/mhchia/Library/Caches/pypoetry/virtualenvs/zkstats-brXmXluj-py3.12/lib/python3.12/site-packages (from torch->-r ../../requirements.txt (line 2)) (4.9.0)\n",
      "Requirement already satisfied: sympy in /Users/mhchia/Library/Caches/pypoetry/virtualenvs/zkstats-brXmXluj-py3.12/lib/python3.12/site-packages (from torch->-r ../../requirements.txt (line 2)) (1.12)\n",
      "Requirement already satisfied: networkx in /Users/mhchia/Library/Caches/pypoetry/virtualenvs/zkstats-brXmXluj-py3.12/lib/python3.12/site-packages (from torch->-r ../../requirements.txt (line 2)) (3.2.1)\n",
      "Requirement already satisfied: jinja2 in /Users/mhchia/Library/Caches/pypoetry/virtualenvs/zkstats-brXmXluj-py3.12/lib/python3.12/site-packages (from torch->-r ../../requirements.txt (line 2)) (3.1.3)\n",
      "Requirement already satisfied: fsspec in /Users/mhchia/Library/Caches/pypoetry/virtualenvs/zkstats-brXmXluj-py3.12/lib/python3.12/site-packages (from torch->-r ../../requirements.txt (line 2)) (2023.12.2)\n",
      "Requirement already satisfied: charset-normalizer<4,>=2 in /Users/mhchia/Library/Caches/pypoetry/virtualenvs/zkstats-brXmXluj-py3.12/lib/python3.12/site-packages (from requests->-r ../../requirements.txt (line 3)) (3.3.2)\n",
      "Requirement already satisfied: idna<4,>=2.5 in /Users/mhchia/Library/Caches/pypoetry/virtualenvs/zkstats-brXmXluj-py3.12/lib/python3.12/site-packages (from requests->-r ../../requirements.txt (line 3)) (3.6)\n",
      "Requirement already satisfied: urllib3<3,>=1.21.1 in /Users/mhchia/Library/Caches/pypoetry/virtualenvs/zkstats-brXmXluj-py3.12/lib/python3.12/site-packages (from requests->-r ../../requirements.txt (line 3)) (2.2.0)\n",
      "Requirement already satisfied: certifi>=2017.4.17 in /Users/mhchia/Library/Caches/pypoetry/virtualenvs/zkstats-brXmXluj-py3.12/lib/python3.12/site-packages (from requests->-r ../../requirements.txt (line 3)) (2024.2.2)\n",
      "Requirement already satisfied: contourpy>=1.0.1 in /Users/mhchia/Library/Caches/pypoetry/virtualenvs/zkstats-brXmXluj-py3.12/lib/python3.12/site-packages (from matplotlib->-r ../../requirements.txt (line 6)) (1.2.0)\n",
      "Requirement already satisfied: cycler>=0.10 in /Users/mhchia/Library/Caches/pypoetry/virtualenvs/zkstats-brXmXluj-py3.12/lib/python3.12/site-packages (from matplotlib->-r ../../requirements.txt (line 6)) (0.12.1)\n",
      "Requirement already satisfied: fonttools>=4.22.0 in /Users/mhchia/Library/Caches/pypoetry/virtualenvs/zkstats-brXmXluj-py3.12/lib/python3.12/site-packages (from matplotlib->-r ../../requirements.txt (line 6)) (4.47.2)\n",
      "Requirement already satisfied: kiwisolver>=1.3.1 in /Users/mhchia/Library/Caches/pypoetry/virtualenvs/zkstats-brXmXluj-py3.12/lib/python3.12/site-packages (from matplotlib->-r ../../requirements.txt (line 6)) (1.4.5)\n",
      "Requirement already satisfied: packaging>=20.0 in /Users/mhchia/Library/Caches/pypoetry/virtualenvs/zkstats-brXmXluj-py3.12/lib/python3.12/site-packages (from matplotlib->-r ../../requirements.txt (line 6)) (23.2)\n",
      "Requirement already satisfied: pillow>=8 in /Users/mhchia/Library/Caches/pypoetry/virtualenvs/zkstats-brXmXluj-py3.12/lib/python3.12/site-packages (from matplotlib->-r ../../requirements.txt (line 6)) (10.2.0)\n",
      "Requirement already satisfied: pyparsing>=2.3.1 in /Users/mhchia/Library/Caches/pypoetry/virtualenvs/zkstats-brXmXluj-py3.12/lib/python3.12/site-packages (from matplotlib->-r ../../requirements.txt (line 6)) (3.1.1)\n",
      "Requirement already satisfied: python-dateutil>=2.7 in /Users/mhchia/Library/Caches/pypoetry/virtualenvs/zkstats-brXmXluj-py3.12/lib/python3.12/site-packages (from matplotlib->-r ../../requirements.txt (line 6)) (2.8.2)\n",
      "Requirement already satisfied: docutils>=0.3 in /Users/mhchia/Library/Caches/pypoetry/virtualenvs/zkstats-brXmXluj-py3.12/lib/python3.12/site-packages (from statistics->-r ../../requirements.txt (line 7)) (0.20.1)\n",
      "Requirement already satisfied: protobuf>=3.20.2 in /Users/mhchia/Library/Caches/pypoetry/virtualenvs/zkstats-brXmXluj-py3.12/lib/python3.12/site-packages (from onnx->-r ../../requirements.txt (line 8)) (4.25.2)\n",
      "Requirement already satisfied: six>=1.5 in /Users/mhchia/Library/Caches/pypoetry/virtualenvs/zkstats-brXmXluj-py3.12/lib/python3.12/site-packages (from python-dateutil>=2.7->matplotlib->-r ../../requirements.txt (line 6)) (1.16.0)\n",
      "Requirement already satisfied: MarkupSafe>=2.0 in /Users/mhchia/Library/Caches/pypoetry/virtualenvs/zkstats-brXmXluj-py3.12/lib/python3.12/site-packages (from jinja2->torch->-r ../../requirements.txt (line 2)) (2.1.4)\n",
      "Requirement already satisfied: mpmath>=0.19 in /Users/mhchia/Library/Caches/pypoetry/virtualenvs/zkstats-brXmXluj-py3.12/lib/python3.12/site-packages (from sympy->torch->-r ../../requirements.txt (line 2)) (1.3.0)\n",
      "\n",
      "\u001b[1m[\u001b[0m\u001b[34;49mnotice\u001b[0m\u001b[1;39;49m]\u001b[0m\u001b[39;49m A new release of pip is available: \u001b[0m\u001b[31;49m23.3.1\u001b[0m\u001b[39;49m -> \u001b[0m\u001b[32;49m24.0\u001b[0m\n",
      "\u001b[1m[\u001b[0m\u001b[34;49mnotice\u001b[0m\u001b[1;39;49m]\u001b[0m\u001b[39;49m To update, run: \u001b[0m\u001b[32;49mpip install --upgrade pip\u001b[0m\n",
      "Note: you may need to restart the kernel to use updated packages.\n"
     ]
    }
   ],
   "source": [
    "pip install -r ../../requirements.txt"
   ]
  },
  {
   "cell_type": "code",
   "execution_count": 16,
   "metadata": {},
   "outputs": [],
   "source": [
    "import ezkl\n",
    "import torch\n",
    "from torch import nn\n",
    "import json\n",
    "import os\n",
    "import time\n",
    "import scipy\n",
    "import numpy as np\n",
    "import matplotlib.pyplot as plt\n",
    "import statistics\n",
    "import math"
   ]
  },
  {
   "cell_type": "code",
   "execution_count": 17,
   "metadata": {},
   "outputs": [],
   "source": [
    "%run -i ../../zkstats/core.py"
   ]
  },
  {
   "cell_type": "code",
   "execution_count": 18,
   "metadata": {},
   "outputs": [],
   "source": [
    "# init path\n",
    "os.makedirs(os.path.dirname('shared/'), exist_ok=True)\n",
    "os.makedirs(os.path.dirname('prover/'), exist_ok=True)\n",
    "verifier_model_path = os.path.join('shared/verifier.onnx')\n",
    "prover_model_path = os.path.join('prover/prover.onnx')\n",
    "verifier_compiled_model_path = os.path.join('shared/verifier.compiled')\n",
    "prover_compiled_model_path = os.path.join('prover/prover.compiled')\n",
    "pk_path = os.path.join('shared/test.pk')\n",
    "vk_path = os.path.join('shared/test.vk')\n",
    "proof_path = os.path.join('shared/test.pf')\n",
    "settings_path = os.path.join('shared/settings.json')\n",
    "srs_path = os.path.join('shared/kzg.srs')\n",
    "witness_path = os.path.join('prover/witness.json')\n",
    "# this is private to prover since it contains actual data\n",
    "sel_data_path = os.path.join('prover/sel_data.json')\n",
    "# this is just dummy random value\n",
    "sel_dummy_data_path = os.path.join('shared/sel_dummy_data.json')"
   ]
  },
  {
   "attachments": {},
   "cell_type": "markdown",
   "metadata": {},
   "source": [
    "=======================  ZK-STATS FLOW ======================="
   ]
  },
  {
   "cell_type": "code",
   "execution_count": 19,
   "metadata": {},
   "outputs": [],
   "source": [
    "data_path = os.path.join('data.json')\n",
    "dummy_data_path = os.path.join('shared/dummy_data.json')\n",
    "\n",
    "create_dummy(data_path, dummy_data_path)"
   ]
  },
  {
   "cell_type": "code",
   "execution_count": 20,
   "metadata": {},
   "outputs": [],
   "source": [
    "scales = [6]\n",
    "selected_columns = ['col_name']\n",
    "commitment_maps = get_data_commitment_maps(data_path, scales)"
   ]
  },
  {
   "cell_type": "code",
   "execution_count": 21,
   "metadata": {},
   "outputs": [
    {
     "name": "stderr",
     "output_type": "stream",
     "text": [
      "/Users/mhchia/projects/work/pse/zk-stats-lib/zkstats/computation.py:166: TracerWarning: torch.tensor results are registered as constants in the trace. You can safely ignore this warning if you use this function to create tensors out of constant variables that would be the same every time you call this function. In any other case, this might cause the trace to be incorrect.\n",
      "  is_precise_aggregated = torch.tensor(1.0)\n",
      "/Users/mhchia/Library/Caches/pypoetry/virtualenvs/zkstats-brXmXluj-py3.12/lib/python3.12/site-packages/torch/onnx/symbolic_opset9.py:2174: FutureWarning: 'torch.onnx.symbolic_opset9._cast_Bool' is deprecated in version 2.0 and will be removed in the future. Please Avoid using this function and create a Cast node instead.\n",
      "  return fn(g, to_cast_func(g, input, False), to_cast_func(g, other, False))\n"
     ]
    }
   ],
   "source": [
    "# Verifier/ data consumer side:\n",
    "# since have division, scale must be very LARGE, cant use just 0\n",
    "# So, we allow error rate to be 10% instead of 1%\n",
    "from zkstats.computation import computation_to_model, State\n",
    "\n",
    "\n",
    "def computation(s: State, data: list[torch.Tensor]) -> torch.Tensor:\n",
    "    x = data[0]\n",
    "    return s.harmonic_mean(x)\n",
    "\n",
    "error = 0.1\n",
    "_, verifier_model = computation_to_model(computation, error)\n",
    "\n",
    "verifier_define_calculation(dummy_data_path, selected_columns,sel_dummy_data_path,verifier_model, verifier_model_path)"
   ]
  },
  {
   "cell_type": "code",
   "execution_count": 22,
   "metadata": {},
   "outputs": [
    {
     "name": "stdout",
     "output_type": "stream",
     "text": [
      "==== Generate & Calibrate Setting ====\n",
      "scale:  [6]\n",
      "setting:  {\"run_args\":{\"tolerance\":{\"val\":0.0,\"scale\":1.0},\"input_scale\":6,\"param_scale\":6,\"scale_rebase_multiplier\":10,\"lookup_range\":[-184392,11264],\"logrows\":18,\"num_inner_cols\":2,\"variables\":[[\"batch_size\",1]],\"input_visibility\":{\"Hashed\":{\"hash_is_public\":true,\"outlets\":[]}},\"output_visibility\":\"Public\",\"param_visibility\":\"Private\"},\"num_rows\":14432,\"total_assignments\":912,\"total_const_size\":4,\"model_instance_shapes\":[[1],[1]],\"model_output_scales\":[0,6],\"model_input_scales\":[6],\"module_sizes\":{\"kzg\":[],\"poseidon\":[14432,[1]],\"elgamal\":[0,[0]]},\"required_lookups\":[\"Abs\",{\"Recip\":{\"scale\":4096.0}},{\"GreaterThan\":{\"a\":0.0}}],\"check_mode\":\"UNSAFE\",\"version\":\"7.0.0\",\"num_blinding_factors\":null}\n"
     ]
    }
   ],
   "source": [
    "# prover calculates settings, send to verifier\n",
    "_, prover_model = computation_to_model(computation, error)\n",
    "\n",
    "prover_gen_settings(data_path, selected_columns, sel_data_path, prover_model,prover_model_path, scales, \"resources\", settings_path)"
   ]
  },
  {
   "cell_type": "code",
   "execution_count": 23,
   "metadata": {},
   "outputs": [
    {
     "name": "stderr",
     "output_type": "stream",
     "text": [
      "spawning module 0\n"
     ]
    },
    {
     "name": "stdout",
     "output_type": "stream",
     "text": [
      "==== setting up ezkl ====\n"
     ]
    },
    {
     "name": "stderr",
     "output_type": "stream",
     "text": [
      "spawning module 2\n",
      "spawning module 0\n",
      "spawning module 2\n"
     ]
    },
    {
     "name": "stdout",
     "output_type": "stream",
     "text": [
      "Time setup: 46.1549072265625 seconds\n",
      "=======================================\n",
      "==== Generating Witness ====\n",
      "witness boolean:  1.0\n",
      "witness result 1 : 45.21875\n",
      "==== Generating Proof ====\n"
     ]
    },
    {
     "name": "stderr",
     "output_type": "stream",
     "text": [
      "spawning module 0\n",
      "spawning module 2\n"
     ]
    },
    {
     "name": "stdout",
     "output_type": "stream",
     "text": [
      "proof:  {'instances': [[[11712583131456230033, 7998639690917952521, 17628064685104548320, 3364894255067083796], [12436184717236109307, 3962172157175319849, 7381016538464732718, 1011752739694698287], [10409296726488761395, 15557203226960814343, 16692342436085548322, 2420882828764455196]]], 'proof': '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', 'transcript_type': 'EVM'}\n",
      "Time gen prf: 61.2234320640564 seconds\n"
     ]
    }
   ],
   "source": [
    "# Here verifier & prover can concurrently call setup since all params are public to get pk.\n",
    "# Here write as verifier function to emphasize that verifier must calculate its own vk to be sure\n",
    "setup(verifier_model_path, verifier_compiled_model_path, settings_path,vk_path, pk_path )\n",
    "\n",
    "print(\"=======================================\")\n",
    "# Prover generates proof\n",
    "prover_gen_proof(prover_model_path, sel_data_path, witness_path, prover_compiled_model_path, settings_path, proof_path, pk_path)"
   ]
  },
  {
   "cell_type": "code",
   "execution_count": 24,
   "metadata": {},
   "outputs": [
    {
     "name": "stdout",
     "output_type": "stream",
     "text": [
      "Verifier gets result: 45.21875\n"
     ]
    }
   ],
   "source": [
    "# Verifier verifies\n",
    "res = verifier_verify(proof_path, settings_path, vk_path, selected_columns, commitment_maps)\n",
    "print(\"Verifier gets result:\", res)"
   ]
  }
 ],
 "metadata": {
  "kernelspec": {
   "display_name": "Python 3",
   "language": "python",
   "name": "python3"
  },
  "language_info": {
   "codemirror_mode": {
    "name": "ipython",
    "version": 3
   },
   "file_extension": ".py",
   "mimetype": "text/x-python",
   "name": "python",
   "nbconvert_exporter": "python",
   "pygments_lexer": "ipython3",
   "version": "3.12.1"
  },
  "orig_nbformat": 4
 },
 "nbformat": 4,
 "nbformat_minor": 2
}
