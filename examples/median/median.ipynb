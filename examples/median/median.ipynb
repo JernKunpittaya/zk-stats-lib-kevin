{
 "cells": [
  {
   "cell_type": "code",
   "execution_count": 1,
   "metadata": {},
   "outputs": [
    {
     "name": "stdout",
     "output_type": "stream",
     "text": [
      "Requirement already satisfied: ezkl==7.0.0 in /Users/jernkun/Library/Caches/pypoetry/virtualenvs/zkstats-OJpceffF-py3.11/lib/python3.11/site-packages (from -r ../../requirements.txt (line 1)) (7.0.0)\n",
      "Requirement already satisfied: torch in /Users/jernkun/Library/Caches/pypoetry/virtualenvs/zkstats-OJpceffF-py3.11/lib/python3.11/site-packages (from -r ../../requirements.txt (line 2)) (2.2.0)\n",
      "Requirement already satisfied: requests in /Users/jernkun/Library/Caches/pypoetry/virtualenvs/zkstats-OJpceffF-py3.11/lib/python3.11/site-packages (from -r ../../requirements.txt (line 3)) (2.31.0)\n",
      "Requirement already satisfied: scipy in /Users/jernkun/Library/Caches/pypoetry/virtualenvs/zkstats-OJpceffF-py3.11/lib/python3.11/site-packages (from -r ../../requirements.txt (line 4)) (1.12.0)\n",
      "Requirement already satisfied: numpy in /Users/jernkun/Library/Caches/pypoetry/virtualenvs/zkstats-OJpceffF-py3.11/lib/python3.11/site-packages (from -r ../../requirements.txt (line 5)) (1.26.3)\n",
      "Requirement already satisfied: matplotlib in /Users/jernkun/Library/Caches/pypoetry/virtualenvs/zkstats-OJpceffF-py3.11/lib/python3.11/site-packages (from -r ../../requirements.txt (line 6)) (3.8.2)\n",
      "Requirement already satisfied: statistics in /Users/jernkun/Library/Caches/pypoetry/virtualenvs/zkstats-OJpceffF-py3.11/lib/python3.11/site-packages (from -r ../../requirements.txt (line 7)) (1.0.3.5)\n",
      "Requirement already satisfied: onnx in /Users/jernkun/Library/Caches/pypoetry/virtualenvs/zkstats-OJpceffF-py3.11/lib/python3.11/site-packages (from -r ../../requirements.txt (line 8)) (1.15.0)\n",
      "Requirement already satisfied: filelock in /Users/jernkun/Library/Caches/pypoetry/virtualenvs/zkstats-OJpceffF-py3.11/lib/python3.11/site-packages (from torch->-r ../../requirements.txt (line 2)) (3.13.1)\n",
      "Requirement already satisfied: typing-extensions>=4.8.0 in /Users/jernkun/Library/Caches/pypoetry/virtualenvs/zkstats-OJpceffF-py3.11/lib/python3.11/site-packages (from torch->-r ../../requirements.txt (line 2)) (4.9.0)\n",
      "Requirement already satisfied: sympy in /Users/jernkun/Library/Caches/pypoetry/virtualenvs/zkstats-OJpceffF-py3.11/lib/python3.11/site-packages (from torch->-r ../../requirements.txt (line 2)) (1.12)\n",
      "Requirement already satisfied: networkx in /Users/jernkun/Library/Caches/pypoetry/virtualenvs/zkstats-OJpceffF-py3.11/lib/python3.11/site-packages (from torch->-r ../../requirements.txt (line 2)) (3.2.1)\n",
      "Requirement already satisfied: jinja2 in /Users/jernkun/Library/Caches/pypoetry/virtualenvs/zkstats-OJpceffF-py3.11/lib/python3.11/site-packages (from torch->-r ../../requirements.txt (line 2)) (3.1.3)\n",
      "Requirement already satisfied: fsspec in /Users/jernkun/Library/Caches/pypoetry/virtualenvs/zkstats-OJpceffF-py3.11/lib/python3.11/site-packages (from torch->-r ../../requirements.txt (line 2)) (2023.12.2)\n",
      "Requirement already satisfied: charset-normalizer<4,>=2 in /Users/jernkun/Library/Caches/pypoetry/virtualenvs/zkstats-OJpceffF-py3.11/lib/python3.11/site-packages (from requests->-r ../../requirements.txt (line 3)) (3.3.2)\n",
      "Requirement already satisfied: idna<4,>=2.5 in /Users/jernkun/Library/Caches/pypoetry/virtualenvs/zkstats-OJpceffF-py3.11/lib/python3.11/site-packages (from requests->-r ../../requirements.txt (line 3)) (3.6)\n",
      "Requirement already satisfied: urllib3<3,>=1.21.1 in /Users/jernkun/Library/Caches/pypoetry/virtualenvs/zkstats-OJpceffF-py3.11/lib/python3.11/site-packages (from requests->-r ../../requirements.txt (line 3)) (2.2.0)\n",
      "Requirement already satisfied: certifi>=2017.4.17 in /Users/jernkun/Library/Caches/pypoetry/virtualenvs/zkstats-OJpceffF-py3.11/lib/python3.11/site-packages (from requests->-r ../../requirements.txt (line 3)) (2024.2.2)\n",
      "Requirement already satisfied: contourpy>=1.0.1 in /Users/jernkun/Library/Caches/pypoetry/virtualenvs/zkstats-OJpceffF-py3.11/lib/python3.11/site-packages (from matplotlib->-r ../../requirements.txt (line 6)) (1.2.0)\n",
      "Requirement already satisfied: cycler>=0.10 in /Users/jernkun/Library/Caches/pypoetry/virtualenvs/zkstats-OJpceffF-py3.11/lib/python3.11/site-packages (from matplotlib->-r ../../requirements.txt (line 6)) (0.12.1)\n",
      "Requirement already satisfied: fonttools>=4.22.0 in /Users/jernkun/Library/Caches/pypoetry/virtualenvs/zkstats-OJpceffF-py3.11/lib/python3.11/site-packages (from matplotlib->-r ../../requirements.txt (line 6)) (4.47.2)\n",
      "Requirement already satisfied: kiwisolver>=1.3.1 in /Users/jernkun/Library/Caches/pypoetry/virtualenvs/zkstats-OJpceffF-py3.11/lib/python3.11/site-packages (from matplotlib->-r ../../requirements.txt (line 6)) (1.4.5)\n",
      "Requirement already satisfied: packaging>=20.0 in /Users/jernkun/Library/Caches/pypoetry/virtualenvs/zkstats-OJpceffF-py3.11/lib/python3.11/site-packages (from matplotlib->-r ../../requirements.txt (line 6)) (23.2)\n",
      "Requirement already satisfied: pillow>=8 in /Users/jernkun/Library/Caches/pypoetry/virtualenvs/zkstats-OJpceffF-py3.11/lib/python3.11/site-packages (from matplotlib->-r ../../requirements.txt (line 6)) (10.2.0)\n",
      "Requirement already satisfied: pyparsing>=2.3.1 in /Users/jernkun/Library/Caches/pypoetry/virtualenvs/zkstats-OJpceffF-py3.11/lib/python3.11/site-packages (from matplotlib->-r ../../requirements.txt (line 6)) (3.1.1)\n",
      "Requirement already satisfied: python-dateutil>=2.7 in /Users/jernkun/Library/Caches/pypoetry/virtualenvs/zkstats-OJpceffF-py3.11/lib/python3.11/site-packages (from matplotlib->-r ../../requirements.txt (line 6)) (2.8.2)\n",
      "Requirement already satisfied: docutils>=0.3 in /Users/jernkun/Library/Caches/pypoetry/virtualenvs/zkstats-OJpceffF-py3.11/lib/python3.11/site-packages (from statistics->-r ../../requirements.txt (line 7)) (0.20.1)\n",
      "Requirement already satisfied: protobuf>=3.20.2 in /Users/jernkun/Library/Caches/pypoetry/virtualenvs/zkstats-OJpceffF-py3.11/lib/python3.11/site-packages (from onnx->-r ../../requirements.txt (line 8)) (4.25.2)\n",
      "Requirement already satisfied: six>=1.5 in /Users/jernkun/Library/Caches/pypoetry/virtualenvs/zkstats-OJpceffF-py3.11/lib/python3.11/site-packages (from python-dateutil>=2.7->matplotlib->-r ../../requirements.txt (line 6)) (1.16.0)\n",
      "Requirement already satisfied: MarkupSafe>=2.0 in /Users/jernkun/Library/Caches/pypoetry/virtualenvs/zkstats-OJpceffF-py3.11/lib/python3.11/site-packages (from jinja2->torch->-r ../../requirements.txt (line 2)) (2.1.4)\n",
      "Requirement already satisfied: mpmath>=0.19 in /Users/jernkun/Library/Caches/pypoetry/virtualenvs/zkstats-OJpceffF-py3.11/lib/python3.11/site-packages (from sympy->torch->-r ../../requirements.txt (line 2)) (1.3.0)\n",
      "\n",
      "\u001b[1m[\u001b[0m\u001b[34;49mnotice\u001b[0m\u001b[1;39;49m]\u001b[0m\u001b[39;49m A new release of pip is available: \u001b[0m\u001b[31;49m23.2.1\u001b[0m\u001b[39;49m -> \u001b[0m\u001b[32;49m24.0\u001b[0m\n",
      "\u001b[1m[\u001b[0m\u001b[34;49mnotice\u001b[0m\u001b[1;39;49m]\u001b[0m\u001b[39;49m To update, run: \u001b[0m\u001b[32;49mpip install --upgrade pip\u001b[0m\n",
      "Note: you may need to restart the kernel to use updated packages.\n"
     ]
    }
   ],
   "source": [
    "pip install -r ../../requirements.txt"
   ]
  },
  {
   "cell_type": "code",
   "execution_count": 2,
   "metadata": {},
   "outputs": [],
   "source": [
    "import ezkl\n",
    "import torch\n",
    "from torch import nn\n",
    "import json\n",
    "import os\n",
    "import time\n",
    "import scipy\n",
    "import numpy as np\n",
    "import matplotlib.pyplot as plt\n",
    "import statistics\n",
    "import math"
   ]
  },
  {
   "cell_type": "code",
   "execution_count": 3,
   "metadata": {},
   "outputs": [],
   "source": [
    "from zkstats.core import create_dummy, verifier_define_calculation, prover_gen_settings, setup, prover_gen_proof, verifier_verify, get_data_commitment_maps"
   ]
  },
  {
   "attachments": {},
   "cell_type": "markdown",
   "metadata": {},
   "source": []
  },
  {
   "cell_type": "code",
   "execution_count": 4,
   "metadata": {},
   "outputs": [],
   "source": [
    "# init path\n",
    "os.makedirs(os.path.dirname('shared/'), exist_ok=True)\n",
    "os.makedirs(os.path.dirname('prover/'), exist_ok=True)\n",
    "verifier_model_path = os.path.join('shared/verifier.onnx')\n",
    "prover_model_path = os.path.join('prover/prover.onnx')\n",
    "verifier_compiled_model_path = os.path.join('shared/verifier.compiled')\n",
    "prover_compiled_model_path = os.path.join('prover/prover.compiled')\n",
    "pk_path = os.path.join('shared/test.pk')\n",
    "vk_path = os.path.join('shared/test.vk')\n",
    "proof_path = os.path.join('shared/test.pf')\n",
    "settings_path = os.path.join('shared/settings.json')\n",
    "srs_path = os.path.join('shared/kzg.srs')\n",
    "witness_path = os.path.join('prover/witness.json')\n",
    "# this is private to prover since it contains actual data\n",
    "sel_data_path = os.path.join('prover/sel_data.json')\n",
    "# this is just dummy random value\n",
    "sel_dummy_data_path = os.path.join('shared/sel_dummy_data.json')"
   ]
  },
  {
   "attachments": {},
   "cell_type": "markdown",
   "metadata": {},
   "source": [
    "=======================  ZK-STATS FLOW ======================="
   ]
  },
  {
   "cell_type": "code",
   "execution_count": 5,
   "metadata": {},
   "outputs": [],
   "source": [
    "data_path = os.path.join('data.json')\n",
    "dummy_data_path = os.path.join('shared/dummy_data.json')\n",
    "create_dummy(data_path, dummy_data_path)"
   ]
  },
  {
   "cell_type": "code",
   "execution_count": 18,
   "metadata": {},
   "outputs": [],
   "source": [
    "# use large scale here to get the output really close to the value in dataset, which is important to Median.\n",
    "# Be careful, since we may need to calculate average of 2 values in case of no middle value in dataset, \n",
    "# this means larger scale can still blow up circuit size, unlike Mode func that scale doesnt affect circuit size much.\n",
    "scales = [7]\n",
    "selected_columns = ['col_name']\n",
    "commitment_maps = get_data_commitment_maps(data_path, scales)"
   ]
  },
  {
   "cell_type": "code",
   "execution_count": 19,
   "metadata": {},
   "outputs": [
    {
     "name": "stderr",
     "output_type": "stream",
     "text": [
      "/Users/jernkun/Desktop/zk-stats-lib/zkstats/computation.py:166: TracerWarning: torch.tensor results are registered as constants in the trace. You can safely ignore this warning if you use this function to create tensors out of constant variables that would be the same every time you call this function. In any other case, this might cause the trace to be incorrect.\n",
      "  is_precise_aggregated = torch.tensor(1.0)\n",
      "/Users/jernkun/Library/Caches/pypoetry/virtualenvs/zkstats-OJpceffF-py3.11/lib/python3.11/site-packages/torch/onnx/symbolic_opset9.py:2174: FutureWarning: 'torch.onnx.symbolic_opset9._cast_Bool' is deprecated in version 2.0 and will be removed in the future. Please Avoid using this function and create a Cast node instead.\n",
      "  return fn(g, to_cast_func(g, input, False), to_cast_func(g, other, False))\n"
     ]
    }
   ],
   "source": [
    "# Verifier/ data consumer side: send desired calculation\n",
    "from zkstats.computation import computation_to_model, State\n",
    "\n",
    "\n",
    "def computation(s: State, data: list[torch.Tensor]) -> torch.Tensor:\n",
    "    x = data[0]\n",
    "    return s.median(x)\n",
    "\n",
    "# error here in Median only matters in determining the median value in case it doesnt exist in dataset. (Avg of 2 middle values)\n",
    "error = 0.01\n",
    "_, verifier_model = computation_to_model(computation, error)\n",
    "\n",
    "verifier_define_calculation(dummy_data_path, selected_columns, sel_dummy_data_path, verifier_model, verifier_model_path)"
   ]
  },
  {
   "cell_type": "code",
   "execution_count": 20,
   "metadata": {},
   "outputs": [
    {
     "name": "stdout",
     "output_type": "stream",
     "text": [
      "==== Generate & Calibrate Setting ====\n",
      "scale:  [7]\n",
      "setting:  {\"run_args\":{\"tolerance\":{\"val\":0.0,\"scale\":1.0},\"input_scale\":7,\"param_scale\":7,\"scale_rebase_multiplier\":10,\"lookup_range\":[-12494,12494],\"logrows\":15,\"num_inner_cols\":2,\"variables\":[[\"batch_size\",1]],\"input_visibility\":{\"Hashed\":{\"hash_is_public\":true,\"outlets\":[]}},\"output_visibility\":\"Public\",\"param_visibility\":\"Private\"},\"num_rows\":14432,\"total_assignments\":7536,\"total_const_size\":7,\"model_instance_shapes\":[[1],[1]],\"model_output_scales\":[0,7],\"model_input_scales\":[7],\"module_sizes\":{\"kzg\":[],\"poseidon\":[14432,[1]],\"elgamal\":[0,[0]]},\"required_lookups\":[{\"GreaterThan\":{\"a\":0.0}},\"KroneckerDelta\"],\"check_mode\":\"UNSAFE\",\"version\":\"7.0.0\",\"num_blinding_factors\":null}\n"
     ]
    }
   ],
   "source": [
    "# Prover/ data owner side\n",
    "_, prover_model = computation_to_model(computation, error)\n",
    "\n",
    "prover_gen_settings(data_path, selected_columns, sel_data_path, prover_model,prover_model_path, scales, \"resources\", settings_path)"
   ]
  },
  {
   "cell_type": "code",
   "execution_count": 21,
   "metadata": {},
   "outputs": [
    {
     "name": "stderr",
     "output_type": "stream",
     "text": [
      "spawning module 0\n",
      "spawning module 2\n"
     ]
    },
    {
     "name": "stdout",
     "output_type": "stream",
     "text": [
      "==== setting up ezkl ====\n"
     ]
    },
    {
     "name": "stderr",
     "output_type": "stream",
     "text": [
      "spawning module 0\n",
      "spawning module 2\n"
     ]
    },
    {
     "name": "stdout",
     "output_type": "stream",
     "text": [
      "Time setup: 3.290968894958496 seconds\n",
      "=======================================\n",
      "==== Generating Witness ====\n",
      "witness boolean:  1.0\n",
      "witness result 1 : 49.546875\n",
      "==== Generating Proof ====\n"
     ]
    },
    {
     "name": "stderr",
     "output_type": "stream",
     "text": [
      "spawning module 0\n",
      "spawning module 2\n"
     ]
    },
    {
     "name": "stdout",
     "output_type": "stream",
     "text": [
      "proof:  {'instances': [[[12448964500226922122, 1569304359747940647, 1012944616373047521, 396517790474193570], [12436184717236109307, 3962172157175319849, 7381016538464732718, 1011752739694698287], [12176007265991490802, 4416964430932312657, 15559879261920001877, 459064226310513766]]], 'proof': '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', 'transcript_type': 'EVM'}\n",
      "Time gen prf: 4.551930904388428 seconds\n"
     ]
    }
   ],
   "source": [
    "# Here verifier & prover can concurrently call setup since all params are public to get pk.\n",
    "# Here write as verifier function to emphasize that verifier must calculate its own vk to be sure\n",
    "setup(verifier_model_path, verifier_compiled_model_path, settings_path,vk_path, pk_path )\n",
    "\n",
    "print(\"=======================================\")\n",
    "# Prover generates proof\n",
    "prover_gen_proof(prover_model_path, sel_data_path, witness_path, prover_compiled_model_path, settings_path, proof_path, pk_path)"
   ]
  },
  {
   "cell_type": "code",
   "execution_count": 22,
   "metadata": {},
   "outputs": [
    {
     "name": "stdout",
     "output_type": "stream",
     "text": [
      "Verifier gets result: 49.546875\n"
     ]
    }
   ],
   "source": [
    "# Verifier verifies\n",
    "res = verifier_verify(proof_path, settings_path, vk_path, selected_columns, commitment_maps)\n",
    "print(\"Verifier gets result:\", res)"
   ]
  },
  {
   "cell_type": "code",
   "execution_count": null,
   "metadata": {},
   "outputs": [],
   "source": []
  }
 ],
 "metadata": {
  "kernelspec": {
   "display_name": "Python 3",
   "language": "python",
   "name": "python3"
  },
  "language_info": {
   "codemirror_mode": {
    "name": "ipython",
    "version": 3
   },
   "file_extension": ".py",
   "mimetype": "text/x-python",
   "name": "python",
   "nbconvert_exporter": "python",
   "pygments_lexer": "ipython3",
   "version": "3.11.4"
  },
  "orig_nbformat": 4
 },
 "nbformat": 4,
 "nbformat_minor": 2
}
