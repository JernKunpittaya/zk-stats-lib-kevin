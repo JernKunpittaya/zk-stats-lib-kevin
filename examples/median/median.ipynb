{
 "cells": [
  {
   "cell_type": "code",
   "execution_count": 1,
   "metadata": {},
   "outputs": [
    {
     "name": "stdout",
     "output_type": "stream",
     "text": [
      "Requirement already satisfied: ezkl==7.0.0 in /Library/Frameworks/Python.framework/Versions/3.10/lib/python3.10/site-packages (from -r ../../requirements.txt (line 1)) (7.0.0)\n",
      "Requirement already satisfied: torch in /Library/Frameworks/Python.framework/Versions/3.10/lib/python3.10/site-packages (from -r ../../requirements.txt (line 2)) (2.1.1)\n",
      "Requirement already satisfied: requests in /Library/Frameworks/Python.framework/Versions/3.10/lib/python3.10/site-packages (from -r ../../requirements.txt (line 3)) (2.31.0)\n",
      "Requirement already satisfied: scipy in /Library/Frameworks/Python.framework/Versions/3.10/lib/python3.10/site-packages (from -r ../../requirements.txt (line 4)) (1.11.4)\n",
      "Requirement already satisfied: numpy in /Library/Frameworks/Python.framework/Versions/3.10/lib/python3.10/site-packages (from -r ../../requirements.txt (line 5)) (1.26.2)\n",
      "Requirement already satisfied: matplotlib in /Library/Frameworks/Python.framework/Versions/3.10/lib/python3.10/site-packages (from -r ../../requirements.txt (line 6)) (3.8.2)\n",
      "Requirement already satisfied: statistics in /Library/Frameworks/Python.framework/Versions/3.10/lib/python3.10/site-packages (from -r ../../requirements.txt (line 7)) (1.0.3.5)\n",
      "Requirement already satisfied: onnx in /Library/Frameworks/Python.framework/Versions/3.10/lib/python3.10/site-packages (from -r ../../requirements.txt (line 8)) (1.15.0)\n",
      "Requirement already satisfied: filelock in /Library/Frameworks/Python.framework/Versions/3.10/lib/python3.10/site-packages (from torch->-r ../../requirements.txt (line 2)) (3.13.1)\n",
      "Requirement already satisfied: fsspec in /Library/Frameworks/Python.framework/Versions/3.10/lib/python3.10/site-packages (from torch->-r ../../requirements.txt (line 2)) (2023.10.0)\n",
      "Requirement already satisfied: sympy in /Library/Frameworks/Python.framework/Versions/3.10/lib/python3.10/site-packages (from torch->-r ../../requirements.txt (line 2)) (1.12)\n",
      "Requirement already satisfied: jinja2 in /Library/Frameworks/Python.framework/Versions/3.10/lib/python3.10/site-packages (from torch->-r ../../requirements.txt (line 2)) (3.1.2)\n",
      "Requirement already satisfied: typing-extensions in /Library/Frameworks/Python.framework/Versions/3.10/lib/python3.10/site-packages (from torch->-r ../../requirements.txt (line 2)) (4.8.0)\n",
      "Requirement already satisfied: networkx in /Library/Frameworks/Python.framework/Versions/3.10/lib/python3.10/site-packages (from torch->-r ../../requirements.txt (line 2)) (3.2.1)\n",
      "Requirement already satisfied: idna<4,>=2.5 in /Library/Frameworks/Python.framework/Versions/3.10/lib/python3.10/site-packages (from requests->-r ../../requirements.txt (line 3)) (3.6)\n",
      "Requirement already satisfied: charset-normalizer<4,>=2 in /Library/Frameworks/Python.framework/Versions/3.10/lib/python3.10/site-packages (from requests->-r ../../requirements.txt (line 3)) (3.3.2)\n",
      "Requirement already satisfied: certifi>=2017.4.17 in /Library/Frameworks/Python.framework/Versions/3.10/lib/python3.10/site-packages (from requests->-r ../../requirements.txt (line 3)) (2023.11.17)\n",
      "Requirement already satisfied: urllib3<3,>=1.21.1 in /Library/Frameworks/Python.framework/Versions/3.10/lib/python3.10/site-packages (from requests->-r ../../requirements.txt (line 3)) (2.1.0)\n",
      "Requirement already satisfied: packaging>=20.0 in /Users/jernkun/Library/Python/3.10/lib/python/site-packages (from matplotlib->-r ../../requirements.txt (line 6)) (23.2)\n",
      "Requirement already satisfied: pyparsing>=2.3.1 in /Library/Frameworks/Python.framework/Versions/3.10/lib/python3.10/site-packages (from matplotlib->-r ../../requirements.txt (line 6)) (3.1.1)\n",
      "Requirement already satisfied: fonttools>=4.22.0 in /Library/Frameworks/Python.framework/Versions/3.10/lib/python3.10/site-packages (from matplotlib->-r ../../requirements.txt (line 6)) (4.45.1)\n",
      "Requirement already satisfied: contourpy>=1.0.1 in /Library/Frameworks/Python.framework/Versions/3.10/lib/python3.10/site-packages (from matplotlib->-r ../../requirements.txt (line 6)) (1.2.0)\n",
      "Requirement already satisfied: kiwisolver>=1.3.1 in /Library/Frameworks/Python.framework/Versions/3.10/lib/python3.10/site-packages (from matplotlib->-r ../../requirements.txt (line 6)) (1.4.5)\n",
      "Requirement already satisfied: python-dateutil>=2.7 in /Users/jernkun/Library/Python/3.10/lib/python/site-packages (from matplotlib->-r ../../requirements.txt (line 6)) (2.8.2)\n",
      "Requirement already satisfied: cycler>=0.10 in /Library/Frameworks/Python.framework/Versions/3.10/lib/python3.10/site-packages (from matplotlib->-r ../../requirements.txt (line 6)) (0.12.1)\n",
      "Requirement already satisfied: pillow>=8 in /Library/Frameworks/Python.framework/Versions/3.10/lib/python3.10/site-packages (from matplotlib->-r ../../requirements.txt (line 6)) (10.1.0)\n",
      "Requirement already satisfied: docutils>=0.3 in /Library/Frameworks/Python.framework/Versions/3.10/lib/python3.10/site-packages (from statistics->-r ../../requirements.txt (line 7)) (0.20.1)\n",
      "Requirement already satisfied: protobuf>=3.20.2 in /Library/Frameworks/Python.framework/Versions/3.10/lib/python3.10/site-packages (from onnx->-r ../../requirements.txt (line 8)) (4.25.1)\n",
      "Requirement already satisfied: six>=1.5 in /Users/jernkun/Library/Python/3.10/lib/python/site-packages (from python-dateutil>=2.7->matplotlib->-r ../../requirements.txt (line 6)) (1.16.0)\n",
      "Requirement already satisfied: MarkupSafe>=2.0 in /Library/Frameworks/Python.framework/Versions/3.10/lib/python3.10/site-packages (from jinja2->torch->-r ../../requirements.txt (line 2)) (2.1.3)\n",
      "Requirement already satisfied: mpmath>=0.19 in /Library/Frameworks/Python.framework/Versions/3.10/lib/python3.10/site-packages (from sympy->torch->-r ../../requirements.txt (line 2)) (1.3.0)\n",
      "\u001b[33mWARNING: You are using pip version 21.2.3; however, version 23.3.2 is available.\n",
      "You should consider upgrading via the '/usr/local/bin/python3 -m pip install --upgrade pip' command.\u001b[0m\n",
      "Note: you may need to restart the kernel to use updated packages.\n"
     ]
    }
   ],
   "source": [
    "pip install -r ../../requirements.txt"
   ]
  },
  {
   "cell_type": "code",
   "execution_count": 2,
   "metadata": {},
   "outputs": [],
   "source": [
    "import ezkl\n",
    "import torch\n",
    "from torch import nn\n",
    "import json\n",
    "import os\n",
    "import time\n",
    "import scipy\n",
    "import numpy as np\n",
    "import matplotlib.pyplot as plt\n",
    "import statistics\n",
    "import math"
   ]
  },
  {
   "cell_type": "code",
   "execution_count": 3,
   "metadata": {},
   "outputs": [],
   "source": [
    "%run -i ../../zkstats/core.py"
   ]
  },
  {
   "attachments": {},
   "cell_type": "markdown",
   "metadata": {},
   "source": []
  },
  {
   "cell_type": "code",
   "execution_count": 4,
   "metadata": {},
   "outputs": [],
   "source": [
    "# init path\n",
    "os.makedirs(os.path.dirname('shared/'), exist_ok=True)\n",
    "os.makedirs(os.path.dirname('prover/'), exist_ok=True)\n",
    "verifier_model_path = os.path.join('shared/verifier.onnx')\n",
    "prover_model_path = os.path.join('prover/prover.onnx')\n",
    "verifier_compiled_model_path = os.path.join('shared/verifier.compiled')\n",
    "prover_compiled_model_path = os.path.join('prover/prover.compiled')\n",
    "pk_path = os.path.join('shared/test.pk')\n",
    "vk_path = os.path.join('shared/test.vk')\n",
    "proof_path = os.path.join('shared/test.pf')\n",
    "settings_path = os.path.join('shared/settings.json')\n",
    "srs_path = os.path.join('shared/kzg.srs')\n",
    "witness_path = os.path.join('prover/witness.json')\n",
    "# this is private to prover since it contains actual data\n",
    "sel_data_path = os.path.join('prover/sel_data.json')\n",
    "# this is just dummy random value\n",
    "sel_dummy_data_path = os.path.join('shared/sel_dummy_data.json')"
   ]
  },
  {
   "attachments": {},
   "cell_type": "markdown",
   "metadata": {},
   "source": [
    "=======================  ZK-STATS FLOW ======================="
   ]
  },
  {
   "cell_type": "code",
   "execution_count": 6,
   "metadata": {},
   "outputs": [],
   "source": [
    "data_path = os.path.join('data.json')\n",
    "dummy_data_path = os.path.join('shared/dummy_data.json')\n",
    "\n",
    "data = json.loads(open(data_path, \"r\").read())['col_name']\n",
    "\n",
    "createDummy(data_path, dummy_data_path)\n",
    "dummy_data = json.loads(open(dummy_data_path, \"r\").read())['col_name']\n",
    "\n",
    "dummy_theory_output = torch.tensor(np.median(dummy_data))\n",
    "dummy_lower_to_median = torch.tensor(np.sort(dummy_data)[int(len(dummy_data)/2)-1])\n",
    "dummy_upper_to_median = torch.tensor(np.sort(dummy_data)[int(len(dummy_data)/2)])\n",
    "\n",
    "theory_output = torch.tensor(np.median(data))\n",
    "lower_to_median = torch.tensor(np.sort(data)[int(len(data)/2)-1])\n",
    "upper_to_median = torch.tensor(np.sort(data)[int(len(data)/2)])"
   ]
  },
  {
   "cell_type": "code",
   "execution_count": 7,
   "metadata": {},
   "outputs": [
    {
     "name": "stdout",
     "output_type": "stream",
     "text": [
      "dummy output:  tensor(5.4000, dtype=torch.float64)\n"
     ]
    },
    {
     "name": "stderr",
     "output_type": "stream",
     "text": [
      "/Library/Frameworks/Python.framework/Versions/3.10/lib/python3.10/site-packages/torch/onnx/symbolic_opset9.py:2174: FutureWarning: 'torch.onnx.symbolic_opset9._cast_Bool' is deprecated in version 2.0 and will be removed in the future. Please Avoid using this function and create a Cast node instead.\n",
      "  return fn(g, to_cast_func(g, input, False), to_cast_func(g, other, False))\n"
     ]
    }
   ],
   "source": [
    "print(\"dummy output: \", dummy_theory_output)\n",
    "# Verifier/ data consumer side: send desired calculation\n",
    "class verifier_model(nn.Module):\n",
    "    def __init__(self):\n",
    "        super(verifier_model, self).__init__()\n",
    "        # w represents mean in this case\n",
    "        self.w = nn.Parameter(data = dummy_theory_output, requires_grad = False)\n",
    "        self.lower = nn.Parameter(data = dummy_lower_to_median, requires_grad = False)\n",
    "        self.upper = nn.Parameter(data = dummy_upper_to_median, requires_grad = False)\n",
    "    def forward(self,X):\n",
    "        # since within 1%, we regard as same value\n",
    "        count_less = torch.sum((X < 0.99*self.w).double())\n",
    "        count_equal = torch.sum((torch.abs(X-self.w)<=torch.abs(0.01*self.w)).double())\n",
    "        len = X.size()[1]\n",
    "        half_len = torch.floor(torch.div(len, 2))\n",
    "        \n",
    "        # not support modulo yet\n",
    "        less_cons = count_less<half_len+2*(len/2 - torch.floor(len/2))\n",
    "        more_cons = count_less+count_equal>half_len\n",
    "\n",
    "        # For count_equal == 0\n",
    "        lower_exist = torch.sum((torch.abs(X-self.lower)<=torch.abs(0.01*self.lower)).double())>0\n",
    "        lower_cons = torch.sum((X>1.01*self.lower).double())==half_len\n",
    "        upper_exist = torch.sum((torch.abs(X-self.upper)<=torch.abs(0.01*self.upper)).double())>0\n",
    "        upper_cons = torch.sum((X<0.99*self.upper).double())==half_len\n",
    "        bound = count_less==half_len\n",
    "        # 0.02 since 2*0.01\n",
    "        bound_avg = (torch.abs(self.lower+self.upper-2*self.w)<=torch.abs(0.02*self.w))\n",
    "\n",
    "        median_in_cons = torch.logical_and(less_cons, more_cons)\n",
    "        median_out_cons = torch.logical_and(torch.logical_and(bound, bound_avg), torch.logical_and(torch.logical_and(lower_cons, upper_cons), torch.logical_and(lower_exist, upper_exist)))\n",
    "        \n",
    "        return(torch.where(count_equal==0, median_out_cons, median_in_cons), self.w)\n",
    "\n",
    "    \n",
    "verifier_define_calculation(dummy_data_path, ['col_name'],sel_dummy_data_path,verifier_model, verifier_model_path)"
   ]
  },
  {
   "cell_type": "code",
   "execution_count": 8,
   "metadata": {},
   "outputs": [
    {
     "name": "stdout",
     "output_type": "stream",
     "text": [
      "Theory_output:  tensor(49.5500, dtype=torch.float64)\n",
      "lower:  tensor(49.3000, dtype=torch.float64)\n",
      "upper:  tensor(49.8000, dtype=torch.float64)\n",
      "==== Generate & Calibrate Setting ====\n"
     ]
    },
    {
     "name": "stderr",
     "output_type": "stream",
     "text": [
      "/Library/Frameworks/Python.framework/Versions/3.10/lib/python3.10/site-packages/torch/onnx/symbolic_opset9.py:2174: FutureWarning: 'torch.onnx.symbolic_opset9._cast_Bool' is deprecated in version 2.0 and will be removed in the future. Please Avoid using this function and create a Cast node instead.\n",
      "  return fn(g, to_cast_func(g, input, False), to_cast_func(g, other, False))\n"
     ]
    },
    {
     "name": "stdout",
     "output_type": "stream",
     "text": [
      "scale:  default\n",
      "setting:  {\"run_args\":{\"tolerance\":{\"val\":0.0,\"scale\":1.0},\"input_scale\":8,\"param_scale\":8,\"scale_rebase_multiplier\":10,\"lookup_range\":[-25112,24986],\"logrows\":16,\"num_inner_cols\":2,\"variables\":[[\"batch_size\",1]],\"input_visibility\":{\"Hashed\":{\"hash_is_public\":true,\"outlets\":[]}},\"output_visibility\":\"Public\",\"param_visibility\":\"Private\"},\"num_rows\":14432,\"total_assignments\":12046,\"total_const_size\":1816,\"model_instance_shapes\":[[1],[1]],\"model_output_scales\":[0,8],\"model_input_scales\":[8],\"module_sizes\":{\"kzg\":[],\"poseidon\":[14432,[1]],\"elgamal\":[0,[0]]},\"required_lookups\":[\"Abs\",{\"GreaterThan\":{\"a\":0.0}},\"KroneckerDelta\"],\"check_mode\":\"UNSAFE\",\"version\":\"7.0.0\",\"num_blinding_factors\":null}\n"
     ]
    }
   ],
   "source": [
    "# prover calculates settings, send to verifier\n",
    "print(\"Theory_output: \", theory_output)\n",
    "print(\"lower: \", lower_to_median)\n",
    "print(\"upper: \", upper_to_median)\n",
    "class prover_model(nn.Module):\n",
    "    def __init__(self):\n",
    "        super(prover_model, self).__init__()\n",
    "        # w represents mean in this case\n",
    "        self.w = nn.Parameter(data = theory_output, requires_grad = False)\n",
    "        self.lower = nn.Parameter(data = lower_to_median, requires_grad = False)\n",
    "        self.upper = nn.Parameter(data = upper_to_median, requires_grad = False)\n",
    "    def forward(self,X):\n",
    "        # since within 1%, we regard as same value\n",
    "        count_less = torch.sum((X < 0.99*self.w).double())\n",
    "        count_equal = torch.sum((torch.abs(X-self.w)<=torch.abs(0.01*self.w)).double())\n",
    "        len = X.size()[1]\n",
    "        half_len = torch.floor(torch.div(len, 2))\n",
    "        \n",
    "        # not support modulo yet\n",
    "        less_cons = count_less<half_len+2*(len/2 - torch.floor(len/2))\n",
    "        more_cons = count_less+count_equal>half_len\n",
    "\n",
    "        # For count_equal == 0\n",
    "        lower_exist = torch.sum((torch.abs(X-self.lower)<=torch.abs(0.01*self.lower)).double())>0\n",
    "        lower_cons = torch.sum((X>1.01*self.lower).double())==half_len\n",
    "        upper_exist = torch.sum((torch.abs(X-self.upper)<=torch.abs(0.01*self.upper)).double())>0\n",
    "        upper_cons = torch.sum((X<0.99*self.upper).double())==half_len\n",
    "        bound = count_less==half_len\n",
    "        # 0.02 since 2*0.01\n",
    "        bound_avg = (torch.abs(self.lower+self.upper-2*self.w)<=torch.abs(0.02*self.w))\n",
    "\n",
    "        median_in_cons = torch.logical_and(less_cons, more_cons)\n",
    "        median_out_cons = torch.logical_and(torch.logical_and(bound, bound_avg), torch.logical_and(torch.logical_and(lower_cons, upper_cons), torch.logical_and(lower_exist, upper_exist)))\n",
    "        \n",
    "        return(torch.where(count_equal==0, median_out_cons, median_in_cons), self.w)\n",
    "\n",
    "\n",
    " \n",
    "prover_gen_settings(data_path,['col_name'], sel_data_path, prover_model,prover_model_path, 'default', \"resources\", settings_path)"
   ]
  },
  {
   "cell_type": "code",
   "execution_count": 9,
   "metadata": {},
   "outputs": [
    {
     "name": "stderr",
     "output_type": "stream",
     "text": [
      "spawning module 0\n",
      "spawning module 2\n"
     ]
    },
    {
     "name": "stdout",
     "output_type": "stream",
     "text": [
      "==== setting up ezkl ====\n"
     ]
    },
    {
     "name": "stderr",
     "output_type": "stream",
     "text": [
      "spawning module 0\n",
      "spawning module 2\n"
     ]
    },
    {
     "name": "stdout",
     "output_type": "stream",
     "text": [
      "Time setup: 6.924681186676025 seconds\n",
      "=======================================\n",
      "Theory output:  tensor(49.5500, dtype=torch.float64)\n",
      "!@# compiled_model exists? True\n",
      "!@# compiled_model exists? True\n",
      "==== Generating Witness ====\n",
      "witness boolean:  1.0\n",
      "witness result 1 : 49.55078125\n",
      "==== Generating Proof ====\n"
     ]
    },
    {
     "name": "stderr",
     "output_type": "stream",
     "text": [
      "spawning module 0\n",
      "spawning module 2\n"
     ]
    },
    {
     "name": "stdout",
     "output_type": "stream",
     "text": [
      "proof:  {'instances': [[[3042937791208075219, 8157070662846698822, 3804781648660056856, 172406108020799675], [12436184717236109307, 3962172157175319849, 7381016538464732718, 1011752739694698287], [18341455175509539295, 12796101019039945164, 1607286914885633240, 1929881192315725821]]], 'proof': '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', 'transcript_type': 'EVM'}\n",
      "Time gen prf: 9.689649105072021 seconds\n"
     ]
    }
   ],
   "source": [
    "# Here verifier & prover can concurrently call setup since all params are public to get pk. \n",
    "# Here write as verifier function to emphasize that verifier must calculate its own vk to be sure\n",
    "verifier_setup(verifier_model_path, verifier_compiled_model_path, settings_path,vk_path, pk_path )\n",
    "\n",
    "print(\"=======================================\")\n",
    "# Prover generates proof\n",
    "print(\"Theory output: \", theory_output)\n",
    "prover_gen_proof(prover_model_path, sel_data_path, witness_path, prover_compiled_model_path, settings_path, proof_path, pk_path)"
   ]
  },
  {
   "cell_type": "code",
   "execution_count": 10,
   "metadata": {},
   "outputs": [
    {
     "name": "stdout",
     "output_type": "stream",
     "text": [
      "num_inputs:  1\n",
      "prf instances:  [[[3042937791208075219, 8157070662846698822, 3804781648660056856, 172406108020799675], [12436184717236109307, 3962172157175319849, 7381016538464732718, 1011752739694698287], [18341455175509539295, 12796101019039945164, 1607286914885633240, 1929881192315725821]]]\n",
      "proof boolean:  1.0\n",
      "proof result 1 : 49.55078125\n",
      "verified\n"
     ]
    }
   ],
   "source": [
    "# Verifier verifies\n",
    "verifier_verify(proof_path, settings_path, vk_path)"
   ]
  },
  {
   "cell_type": "code",
   "execution_count": null,
   "metadata": {},
   "outputs": [],
   "source": []
  },
  {
   "cell_type": "code",
   "execution_count": null,
   "metadata": {},
   "outputs": [],
   "source": []
  }
 ],
 "metadata": {
  "kernelspec": {
   "display_name": "Python 3",
   "language": "python",
   "name": "python3"
  },
  "language_info": {
   "codemirror_mode": {
    "name": "ipython",
    "version": 3
   },
   "file_extension": ".py",
   "mimetype": "text/x-python",
   "name": "python",
   "nbconvert_exporter": "python",
   "pygments_lexer": "ipython3",
   "version": "3.10.0"
  },
  "orig_nbformat": 4
 },
 "nbformat": 4,
 "nbformat_minor": 2
}
