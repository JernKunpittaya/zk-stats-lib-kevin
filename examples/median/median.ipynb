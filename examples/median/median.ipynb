{
 "cells": [
  {
   "cell_type": "code",
   "execution_count": 1,
   "metadata": {},
   "outputs": [
    {
     "name": "stdout",
     "output_type": "stream",
     "text": [
      "Requirement already satisfied: ezkl==9.1.0 in /Users/jernkun/Library/Caches/pypoetry/virtualenvs/zkstats-OJpceffF-py3.11/lib/python3.11/site-packages (from -r ../../requirements.txt (line 1)) (9.1.0)\n",
      "Requirement already satisfied: torch in /Users/jernkun/Library/Caches/pypoetry/virtualenvs/zkstats-OJpceffF-py3.11/lib/python3.11/site-packages (from -r ../../requirements.txt (line 2)) (2.2.0)\n",
      "Requirement already satisfied: requests in /Users/jernkun/Library/Caches/pypoetry/virtualenvs/zkstats-OJpceffF-py3.11/lib/python3.11/site-packages (from -r ../../requirements.txt (line 3)) (2.31.0)\n",
      "Requirement already satisfied: scipy in /Users/jernkun/Library/Caches/pypoetry/virtualenvs/zkstats-OJpceffF-py3.11/lib/python3.11/site-packages (from -r ../../requirements.txt (line 4)) (1.12.0)\n",
      "Requirement already satisfied: numpy in /Users/jernkun/Library/Caches/pypoetry/virtualenvs/zkstats-OJpceffF-py3.11/lib/python3.11/site-packages (from -r ../../requirements.txt (line 5)) (1.26.3)\n",
      "Requirement already satisfied: matplotlib in /Users/jernkun/Library/Caches/pypoetry/virtualenvs/zkstats-OJpceffF-py3.11/lib/python3.11/site-packages (from -r ../../requirements.txt (line 6)) (3.8.2)\n",
      "Requirement already satisfied: statistics in /Users/jernkun/Library/Caches/pypoetry/virtualenvs/zkstats-OJpceffF-py3.11/lib/python3.11/site-packages (from -r ../../requirements.txt (line 7)) (1.0.3.5)\n",
      "Requirement already satisfied: onnx in /Users/jernkun/Library/Caches/pypoetry/virtualenvs/zkstats-OJpceffF-py3.11/lib/python3.11/site-packages (from -r ../../requirements.txt (line 8)) (1.15.0)\n",
      "Requirement already satisfied: filelock in /Users/jernkun/Library/Caches/pypoetry/virtualenvs/zkstats-OJpceffF-py3.11/lib/python3.11/site-packages (from torch->-r ../../requirements.txt (line 2)) (3.13.1)\n",
      "Requirement already satisfied: typing-extensions>=4.8.0 in /Users/jernkun/Library/Caches/pypoetry/virtualenvs/zkstats-OJpceffF-py3.11/lib/python3.11/site-packages (from torch->-r ../../requirements.txt (line 2)) (4.9.0)\n",
      "Requirement already satisfied: sympy in /Users/jernkun/Library/Caches/pypoetry/virtualenvs/zkstats-OJpceffF-py3.11/lib/python3.11/site-packages (from torch->-r ../../requirements.txt (line 2)) (1.12)\n",
      "Requirement already satisfied: networkx in /Users/jernkun/Library/Caches/pypoetry/virtualenvs/zkstats-OJpceffF-py3.11/lib/python3.11/site-packages (from torch->-r ../../requirements.txt (line 2)) (3.2.1)\n",
      "Requirement already satisfied: jinja2 in /Users/jernkun/Library/Caches/pypoetry/virtualenvs/zkstats-OJpceffF-py3.11/lib/python3.11/site-packages (from torch->-r ../../requirements.txt (line 2)) (3.1.3)\n",
      "Requirement already satisfied: fsspec in /Users/jernkun/Library/Caches/pypoetry/virtualenvs/zkstats-OJpceffF-py3.11/lib/python3.11/site-packages (from torch->-r ../../requirements.txt (line 2)) (2023.12.2)\n",
      "Requirement already satisfied: charset-normalizer<4,>=2 in /Users/jernkun/Library/Caches/pypoetry/virtualenvs/zkstats-OJpceffF-py3.11/lib/python3.11/site-packages (from requests->-r ../../requirements.txt (line 3)) (3.3.2)\n",
      "Requirement already satisfied: idna<4,>=2.5 in /Users/jernkun/Library/Caches/pypoetry/virtualenvs/zkstats-OJpceffF-py3.11/lib/python3.11/site-packages (from requests->-r ../../requirements.txt (line 3)) (3.6)\n",
      "Requirement already satisfied: urllib3<3,>=1.21.1 in /Users/jernkun/Library/Caches/pypoetry/virtualenvs/zkstats-OJpceffF-py3.11/lib/python3.11/site-packages (from requests->-r ../../requirements.txt (line 3)) (2.2.0)\n",
      "Requirement already satisfied: certifi>=2017.4.17 in /Users/jernkun/Library/Caches/pypoetry/virtualenvs/zkstats-OJpceffF-py3.11/lib/python3.11/site-packages (from requests->-r ../../requirements.txt (line 3)) (2024.2.2)\n",
      "Requirement already satisfied: contourpy>=1.0.1 in /Users/jernkun/Library/Caches/pypoetry/virtualenvs/zkstats-OJpceffF-py3.11/lib/python3.11/site-packages (from matplotlib->-r ../../requirements.txt (line 6)) (1.2.0)\n",
      "Requirement already satisfied: cycler>=0.10 in /Users/jernkun/Library/Caches/pypoetry/virtualenvs/zkstats-OJpceffF-py3.11/lib/python3.11/site-packages (from matplotlib->-r ../../requirements.txt (line 6)) (0.12.1)\n",
      "Requirement already satisfied: fonttools>=4.22.0 in /Users/jernkun/Library/Caches/pypoetry/virtualenvs/zkstats-OJpceffF-py3.11/lib/python3.11/site-packages (from matplotlib->-r ../../requirements.txt (line 6)) (4.47.2)\n",
      "Requirement already satisfied: kiwisolver>=1.3.1 in /Users/jernkun/Library/Caches/pypoetry/virtualenvs/zkstats-OJpceffF-py3.11/lib/python3.11/site-packages (from matplotlib->-r ../../requirements.txt (line 6)) (1.4.5)\n",
      "Requirement already satisfied: packaging>=20.0 in /Users/jernkun/Library/Caches/pypoetry/virtualenvs/zkstats-OJpceffF-py3.11/lib/python3.11/site-packages (from matplotlib->-r ../../requirements.txt (line 6)) (23.2)\n",
      "Requirement already satisfied: pillow>=8 in /Users/jernkun/Library/Caches/pypoetry/virtualenvs/zkstats-OJpceffF-py3.11/lib/python3.11/site-packages (from matplotlib->-r ../../requirements.txt (line 6)) (10.2.0)\n",
      "Requirement already satisfied: pyparsing>=2.3.1 in /Users/jernkun/Library/Caches/pypoetry/virtualenvs/zkstats-OJpceffF-py3.11/lib/python3.11/site-packages (from matplotlib->-r ../../requirements.txt (line 6)) (3.1.1)\n",
      "Requirement already satisfied: python-dateutil>=2.7 in /Users/jernkun/Library/Caches/pypoetry/virtualenvs/zkstats-OJpceffF-py3.11/lib/python3.11/site-packages (from matplotlib->-r ../../requirements.txt (line 6)) (2.8.2)\n",
      "Requirement already satisfied: docutils>=0.3 in /Users/jernkun/Library/Caches/pypoetry/virtualenvs/zkstats-OJpceffF-py3.11/lib/python3.11/site-packages (from statistics->-r ../../requirements.txt (line 7)) (0.20.1)\n",
      "Requirement already satisfied: protobuf>=3.20.2 in /Users/jernkun/Library/Caches/pypoetry/virtualenvs/zkstats-OJpceffF-py3.11/lib/python3.11/site-packages (from onnx->-r ../../requirements.txt (line 8)) (4.25.2)\n",
      "Requirement already satisfied: six>=1.5 in /Users/jernkun/Library/Caches/pypoetry/virtualenvs/zkstats-OJpceffF-py3.11/lib/python3.11/site-packages (from python-dateutil>=2.7->matplotlib->-r ../../requirements.txt (line 6)) (1.16.0)\n",
      "Requirement already satisfied: MarkupSafe>=2.0 in /Users/jernkun/Library/Caches/pypoetry/virtualenvs/zkstats-OJpceffF-py3.11/lib/python3.11/site-packages (from jinja2->torch->-r ../../requirements.txt (line 2)) (2.1.4)\n",
      "Requirement already satisfied: mpmath>=0.19 in /Users/jernkun/Library/Caches/pypoetry/virtualenvs/zkstats-OJpceffF-py3.11/lib/python3.11/site-packages (from sympy->torch->-r ../../requirements.txt (line 2)) (1.3.0)\n",
      "\n",
      "\u001b[1m[\u001b[0m\u001b[34;49mnotice\u001b[0m\u001b[1;39;49m]\u001b[0m\u001b[39;49m A new release of pip is available: \u001b[0m\u001b[31;49m23.2.1\u001b[0m\u001b[39;49m -> \u001b[0m\u001b[32;49m24.0\u001b[0m\n",
      "\u001b[1m[\u001b[0m\u001b[34;49mnotice\u001b[0m\u001b[1;39;49m]\u001b[0m\u001b[39;49m To update, run: \u001b[0m\u001b[32;49mpip install --upgrade pip\u001b[0m\n",
      "Note: you may need to restart the kernel to use updated packages.\n"
     ]
    }
   ],
   "source": [
    "pip install -r ../../requirements.txt"
   ]
  },
  {
   "cell_type": "code",
   "execution_count": 2,
   "metadata": {},
   "outputs": [],
   "source": [
    "import ezkl\n",
    "import torch\n",
    "from torch import nn\n",
    "import json\n",
    "import os\n",
    "import time\n",
    "import scipy\n",
    "import numpy as np\n",
    "import matplotlib.pyplot as plt\n",
    "import statistics\n",
    "import math"
   ]
  },
  {
   "cell_type": "code",
   "execution_count": 3,
   "metadata": {},
   "outputs": [],
   "source": [
    "from zkstats.core import create_dummy, verifier_define_calculation, prover_gen_settings, setup, prover_gen_proof, verifier_verify, get_data_commitment_maps"
   ]
  },
  {
   "attachments": {},
   "cell_type": "markdown",
   "metadata": {},
   "source": []
  },
  {
   "cell_type": "code",
   "execution_count": 4,
   "metadata": {},
   "outputs": [],
   "source": [
    "# init path\n",
    "os.makedirs(os.path.dirname('shared/'), exist_ok=True)\n",
    "os.makedirs(os.path.dirname('prover/'), exist_ok=True)\n",
    "verifier_model_path = os.path.join('shared/verifier.onnx')\n",
    "prover_model_path = os.path.join('prover/prover.onnx')\n",
    "verifier_compiled_model_path = os.path.join('shared/verifier.compiled')\n",
    "prover_compiled_model_path = os.path.join('prover/prover.compiled')\n",
    "pk_path = os.path.join('shared/test.pk')\n",
    "vk_path = os.path.join('shared/test.vk')\n",
    "proof_path = os.path.join('shared/test.pf')\n",
    "settings_path = os.path.join('shared/settings.json')\n",
    "srs_path = os.path.join('shared/kzg.srs')\n",
    "witness_path = os.path.join('prover/witness.json')\n",
    "# this is private to prover since it contains actual data\n",
    "sel_data_path = os.path.join('prover/sel_data.json')\n",
    "# this is just dummy random value\n",
    "sel_dummy_data_path = os.path.join('shared/sel_dummy_data.json')"
   ]
  },
  {
   "attachments": {},
   "cell_type": "markdown",
   "metadata": {},
   "source": [
    "=======================  ZK-STATS FLOW ======================="
   ]
  },
  {
   "cell_type": "code",
   "execution_count": 5,
   "metadata": {},
   "outputs": [],
   "source": [
    "data_path = os.path.join('data.json')\n",
    "dummy_data_path = os.path.join('shared/dummy_data.json')\n",
    "create_dummy(data_path, dummy_data_path)"
   ]
  },
  {
   "cell_type": "code",
   "execution_count": 6,
   "metadata": {},
   "outputs": [],
   "source": [
    "# use large scale here to get the output really close to the value in dataset, which is important to Median.\n",
    "# Be careful, since we may need to calculate average of 2 values in case of no middle value in dataset, \n",
    "# this means larger scale can still blow up circuit size, unlike Mode func that scale doesnt affect circuit size much.\n",
    "scales = [7]\n",
    "selected_columns = ['col_name']\n",
    "commitment_maps = get_data_commitment_maps(data_path, scales)"
   ]
  },
  {
   "cell_type": "code",
   "execution_count": 7,
   "metadata": {},
   "outputs": [
    {
     "name": "stderr",
     "output_type": "stream",
     "text": [
      "/Users/jernkun/Desktop/zk-stats-lib/zkstats/computation.py:166: TracerWarning: torch.tensor results are registered as constants in the trace. You can safely ignore this warning if you use this function to create tensors out of constant variables that would be the same every time you call this function. In any other case, this might cause the trace to be incorrect.\n",
      "  is_precise_aggregated = torch.tensor(1.0)\n",
      "/Users/jernkun/Library/Caches/pypoetry/virtualenvs/zkstats-OJpceffF-py3.11/lib/python3.11/site-packages/torch/onnx/symbolic_opset9.py:2174: FutureWarning: 'torch.onnx.symbolic_opset9._cast_Bool' is deprecated in version 2.0 and will be removed in the future. Please Avoid using this function and create a Cast node instead.\n",
      "  return fn(g, to_cast_func(g, input, False), to_cast_func(g, other, False))\n"
     ]
    }
   ],
   "source": [
    "# Verifier/ data consumer side: send desired calculation\n",
    "from zkstats.computation import computation_to_model, State\n",
    "\n",
    "\n",
    "def computation(s: State, data: list[torch.Tensor]) -> torch.Tensor:\n",
    "    x = data[0]\n",
    "    return s.median(x)\n",
    "\n",
    "# error here in Median only matters in determining the median value in case it doesnt exist in dataset. (Avg of 2 middle values)\n",
    "error = 0.01\n",
    "_, verifier_model = computation_to_model(computation, error)\n",
    "\n",
    "verifier_define_calculation(dummy_data_path, selected_columns, sel_dummy_data_path, verifier_model, verifier_model_path)"
   ]
  },
  {
   "cell_type": "code",
   "execution_count": 8,
   "metadata": {},
   "outputs": [
    {
     "name": "stdout",
     "output_type": "stream",
     "text": [
      "==== Generate & Calibrate Setting ====\n"
     ]
    },
    {
     "name": "stderr",
     "output_type": "stream",
     "text": [
      "\n",
      "\n",
      " <------------- Numerical Fidelity Report (input_scale: 7, param_scale: 7, scale_input_multiplier: 10) ------------->\n",
      "\n",
      "+--------------+--------------+-------------+-----------+----------------+------------------+---------------+---------------+--------------------+--------------------+------------------------+\n",
      "| mean_error   | median_error | max_error   | min_error | mean_abs_error | median_abs_error | max_abs_error | min_abs_error | mean_squared_error | mean_percent_error | mean_abs_percent_error |\n",
      "+--------------+--------------+-------------+-----------+----------------+------------------+---------------+---------------+--------------------+--------------------+------------------------+\n",
      "| 0.0015621185 | 0.003124237  | 0.003124237 | 0         | 0.0015621185   | 0.003124237      | 0.003124237   | 0             | 0.0000048804286    | 0.000031526106     | 0.000031526106         |\n",
      "+--------------+--------------+-------------+-----------+----------------+------------------+---------------+---------------+--------------------+--------------------+------------------------+\n",
      "\n",
      "\n"
     ]
    },
    {
     "name": "stdout",
     "output_type": "stream",
     "text": [
      "scale:  [7]\n",
      "setting:  {\"run_args\":{\"tolerance\":{\"val\":0.0,\"scale\":1.0},\"input_scale\":7,\"param_scale\":7,\"scale_rebase_multiplier\":10,\"lookup_range\":[-12430,12494],\"logrows\":15,\"num_inner_cols\":2,\"variables\":[[\"batch_size\",1]],\"input_visibility\":{\"Hashed\":{\"hash_is_public\":true,\"outlets\":[]}},\"output_visibility\":\"Public\",\"param_visibility\":\"Private\",\"div_rebasing\":false,\"rebase_frac_zero_constants\":false,\"check_mode\":\"UNSAFE\"},\"num_rows\":14432,\"total_assignments\":9345,\"total_const_size\":911,\"model_instance_shapes\":[[1],[1]],\"model_output_scales\":[0,7],\"model_input_scales\":[7],\"module_sizes\":{\"kzg\":[],\"poseidon\":[14432,[1]]},\"required_lookups\":[{\"GreaterThan\":{\"a\":0.0}}],\"required_range_checks\":[],\"check_mode\":\"UNSAFE\",\"version\":\"9.1.0\",\"num_blinding_factors\":null,\"timestamp\":1709450871188}\n"
     ]
    }
   ],
   "source": [
    "# Prover/ data owner side\n",
    "_, prover_model = computation_to_model(computation, error)\n",
    "\n",
    "prover_gen_settings(data_path, selected_columns, sel_data_path, prover_model,prover_model_path, scales, \"resources\", settings_path)"
   ]
  },
  {
   "cell_type": "code",
   "execution_count": 9,
   "metadata": {},
   "outputs": [
    {
     "name": "stdout",
     "output_type": "stream",
     "text": [
      "==== setting up ezkl ====\n",
      "Time setup: 2.8171370029449463 seconds\n",
      "=======================================\n",
      "==== Generating Witness ====\n",
      "witness boolean:  1.0\n",
      "witness result 1 : 49.546875\n",
      "==== Generating Proof ====\n",
      "proof:  {'instances': [['13613be83876b1d6edaa4022f0037a4a0dd2bca4e9a736c5ced55f1d1ec6fb29', '0100000000000000000000000000000000000000000000000000000000000000', 'c618000000000000000000000000000000000000000000000000000000000000']], 'proof': '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', 'transcript_type': 'EVM'}\n",
      "Time gen prf: 3.016767978668213 seconds\n"
     ]
    }
   ],
   "source": [
    "# Here verifier & prover can concurrently call setup since all params are public to get pk.\n",
    "# Here write as verifier function to emphasize that verifier must calculate its own vk to be sure\n",
    "setup(verifier_model_path, verifier_compiled_model_path, settings_path,vk_path, pk_path )\n",
    "\n",
    "print(\"=======================================\")\n",
    "# Prover generates proof\n",
    "prover_gen_proof(prover_model_path, sel_data_path, witness_path, prover_compiled_model_path, settings_path, proof_path, pk_path)"
   ]
  },
  {
   "cell_type": "code",
   "execution_count": 10,
   "metadata": {},
   "outputs": [
    {
     "name": "stdout",
     "output_type": "stream",
     "text": [
      "Verifier gets result: [49.546875]\n"
     ]
    }
   ],
   "source": [
    "# Verifier verifies\n",
    "res = verifier_verify(proof_path, settings_path, vk_path, selected_columns, commitment_maps)\n",
    "print(\"Verifier gets result:\", res)"
   ]
  },
  {
   "cell_type": "code",
   "execution_count": null,
   "metadata": {},
   "outputs": [],
   "source": []
  }
 ],
 "metadata": {
  "kernelspec": {
   "display_name": "Python 3",
   "language": "python",
   "name": "python3"
  },
  "language_info": {
   "codemirror_mode": {
    "name": "ipython",
    "version": 3
   },
   "file_extension": ".py",
   "mimetype": "text/x-python",
   "name": "python",
   "nbconvert_exporter": "python",
   "pygments_lexer": "ipython3",
   "version": "3.11.4"
  },
  "orig_nbformat": 4
 },
 "nbformat": 4,
 "nbformat_minor": 2
}
