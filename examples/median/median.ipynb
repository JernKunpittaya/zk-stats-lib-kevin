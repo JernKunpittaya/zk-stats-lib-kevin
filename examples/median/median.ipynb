{
 "cells": [
  {
   "cell_type": "code",
   "execution_count": 1,
   "metadata": {},
   "outputs": [],
   "source": [
    "import ezkl\n",
    "import torch\n",
    "from torch import nn\n",
    "import json\n",
    "import os\n",
    "import time\n",
    "import scipy\n",
    "import numpy as np\n",
    "import matplotlib.pyplot as plt\n",
    "import statistics\n",
    "import math"
   ]
  },
  {
   "cell_type": "code",
   "execution_count": 2,
   "metadata": {},
   "outputs": [],
   "source": [
    "from zkstats.core import create_dummy, verifier_define_calculation, prover_gen_settings, setup, prover_gen_proof, verifier_verify, generate_data_commitment"
   ]
  },
  {
   "attachments": {},
   "cell_type": "markdown",
   "metadata": {},
   "source": []
  },
  {
   "cell_type": "code",
   "execution_count": 3,
   "metadata": {},
   "outputs": [],
   "source": [
    "# init path\n",
    "os.makedirs(os.path.dirname('shared/'), exist_ok=True)\n",
    "os.makedirs(os.path.dirname('prover/'), exist_ok=True)\n",
    "verifier_model_path = os.path.join('shared/verifier.onnx')\n",
    "prover_model_path = os.path.join('prover/prover.onnx')\n",
    "verifier_compiled_model_path = os.path.join('shared/verifier.compiled')\n",
    "prover_compiled_model_path = os.path.join('prover/prover.compiled')\n",
    "pk_path = os.path.join('shared/test.pk')\n",
    "vk_path = os.path.join('shared/test.vk')\n",
    "proof_path = os.path.join('shared/test.pf')\n",
    "settings_path = os.path.join('shared/settings.json')\n",
    "srs_path = os.path.join('shared/kzg.srs')\n",
    "witness_path = os.path.join('prover/witness.json')\n",
    "# this is private to prover since it contains actual data\n",
    "sel_data_path = os.path.join('prover/sel_data.json')\n",
    "# this is just dummy random value\n",
    "sel_dummy_data_path = os.path.join('shared/sel_dummy_data.json')\n",
    "data_commitment_path = os.path.join('shared/data_commitment.json')\n",
    "precal_witness_path = os.path.join('shared/precal_witness_arr.json')"
   ]
  },
  {
   "attachments": {},
   "cell_type": "markdown",
   "metadata": {},
   "source": [
    "=======================  ZK-STATS FLOW ======================="
   ]
  },
  {
   "cell_type": "code",
   "execution_count": 4,
   "metadata": {},
   "outputs": [],
   "source": [
    "data_path = os.path.join('data.json')\n",
    "dummy_data_path = os.path.join('shared/dummy_data.json')\n",
    "create_dummy(data_path, dummy_data_path)"
   ]
  },
  {
   "cell_type": "code",
   "execution_count": 5,
   "metadata": {},
   "outputs": [],
   "source": [
    "# use large scale here to get the output really close to the value in dataset, which is important to Median.\n",
    "# Be careful, since we may need to calculate average of 2 values in case of no middle value in dataset,\n",
    "# this means larger scale can still blow up circuit size, unlike Mode func that scale doesnt affect circuit size much.\n",
    "scales = [7]\n",
    "selected_columns = ['col_name']\n",
    "generate_data_commitment(data_path, scales, data_commitment_path)"
   ]
  },
  {
   "cell_type": "code",
   "execution_count": 6,
   "metadata": {},
   "outputs": [
    {
     "name": "stdout",
     "output_type": "stream",
     "text": [
      "Prover side\n",
      "final op:  <zkstats.ops.Median object at 0x127707350>\n",
      "==== Generate & Calibrate Setting ====\n"
     ]
    },
    {
     "name": "stderr",
     "output_type": "stream",
     "text": [
      "/Users/jernkun/Desktop/zk-stats-lib/zkstats/computation.py:198: TracerWarning: torch.tensor results are registered as constants in the trace. You can safely ignore this warning if you use this function to create tensors out of constant variables that would be the same every time you call this function. In any other case, this might cause the trace to be incorrect.\n",
      "  is_precise_aggregated = torch.tensor(1.0)\n",
      "/Users/jernkun/Library/Caches/pypoetry/virtualenvs/zkstats-OJpceffF-py3.11/lib/python3.11/site-packages/torch/onnx/symbolic_opset9.py:2174: FutureWarning: 'torch.onnx.symbolic_opset9._cast_Bool' is deprecated in version 2.0 and will be removed in the future. Please Avoid using this function and create a Cast node instead.\n",
      "  return fn(g, to_cast_func(g, input, False), to_cast_func(g, other, False))\n",
      "\n",
      "\n",
      " <------------- Numerical Fidelity Report (input_scale: 7, param_scale: 7, scale_input_multiplier: 10) ------------->\n",
      "\n",
      "+--------------+--------------+-------------+-----------+----------------+------------------+---------------+---------------+--------------------+--------------------+------------------------+\n",
      "| mean_error   | median_error | max_error   | min_error | mean_abs_error | median_abs_error | max_abs_error | min_abs_error | mean_squared_error | mean_percent_error | mean_abs_percent_error |\n",
      "+--------------+--------------+-------------+-----------+----------------+------------------+---------------+---------------+--------------------+--------------------+------------------------+\n",
      "| 0.0015621185 | 0.003124237  | 0.003124237 | 0         | 0.0015621185   | 0.003124237      | 0.003124237   | 0             | 0.0000048804286    | 0.000031526106     | 0.000031526106         |\n",
      "+--------------+--------------+-------------+-----------+----------------+------------------+---------------+---------------+--------------------+--------------------+------------------------+\n",
      "\n",
      "\n"
     ]
    },
    {
     "name": "stdout",
     "output_type": "stream",
     "text": [
      "scale:  [7]\n",
      "setting:  {\"run_args\":{\"tolerance\":{\"val\":0.0,\"scale\":1.0},\"input_scale\":7,\"param_scale\":7,\"scale_rebase_multiplier\":10,\"lookup_range\":[-24804,12494],\"logrows\":16,\"num_inner_cols\":2,\"variables\":[[\"batch_size\",1]],\"input_visibility\":{\"Hashed\":{\"hash_is_public\":true,\"outlets\":[]}},\"output_visibility\":\"Public\",\"param_visibility\":\"Fixed\",\"div_rebasing\":false,\"rebase_frac_zero_constants\":false,\"check_mode\":\"UNSAFE\"},\"num_rows\":14432,\"total_assignments\":15968,\"total_const_size\":4827,\"model_instance_shapes\":[[1],[1]],\"model_output_scales\":[0,7],\"model_input_scales\":[7],\"module_sizes\":{\"kzg\":[],\"poseidon\":[14432,[1]]},\"required_lookups\":[{\"Floor\":{\"scale\":2.0}},\"ReLU\",{\"GreaterThan\":{\"a\":0.0}}],\"required_range_checks\":[],\"check_mode\":\"UNSAFE\",\"version\":\"9.1.0\",\"num_blinding_factors\":null,\"timestamp\":1714803491928}\n"
     ]
    }
   ],
   "source": [
    "# Verifier/ data consumer side: send desired calculation\n",
    "from zkstats.computation import computation_to_model, State\n",
    "\n",
    "\n",
    "def computation(s: State, data: list[torch.Tensor]) -> torch.Tensor:\n",
    "    x = data[0]\n",
    "    return s.median(x)\n",
    "\n",
    "# error here in Median only matters in determining the median value in case it doesnt exist in dataset. (Avg of 2 middle values)\n",
    "error = 0.01\n",
    "# Prover/ data owner side\n",
    "_, prover_model = computation_to_model(computation,precal_witness_path, True, error)\n",
    "\n",
    "prover_gen_settings(data_path, selected_columns, sel_data_path, prover_model,prover_model_path, scales, \"resources\", settings_path)"
   ]
  },
  {
   "cell_type": "code",
   "execution_count": 7,
   "metadata": {},
   "outputs": [
    {
     "name": "stdout",
     "output_type": "stream",
     "text": [
      "Verifier side\n",
      "finish create\n",
      "final op:  <zkstats.ops.Median object at 0x140564c90>\n"
     ]
    }
   ],
   "source": [
    "_, verifier_model = computation_to_model(computation, precal_witness_path, False, error)\n",
    "\n",
    "verifier_define_calculation(dummy_data_path, selected_columns, sel_dummy_data_path, verifier_model, verifier_model_path)"
   ]
  },
  {
   "cell_type": "code",
   "execution_count": 8,
   "metadata": {},
   "outputs": [
    {
     "name": "stdout",
     "output_type": "stream",
     "text": [
      "==== setting up ezkl ====\n",
      "Time setup: 7.38695216178894 seconds\n",
      "=======================================\n",
      "==== Generating Witness ====\n",
      "witness boolean:  1.0\n",
      "witness result 1 : 49.546875\n",
      "==== Generating Proof ====\n",
      "proof:  {'instances': [['13613be83876b1d6edaa4022f0037a4a0dd2bca4e9a736c5ced55f1d1ec6fb29', '0100000000000000000000000000000000000000000000000000000000000000', 'c618000000000000000000000000000000000000000000000000000000000000']], 'proof': '0x1e97941129f68464dd56eb9d579273bbe50981355862c052c406ecacd1bb5ad21645963caa1f2077ccfb530c8ad764b4305dd7a24749f015f19987a019349ba40d446cdd5cf7440e98f80804f80165d15fd3d318547dfb16ffe8c8c6a814b9a21f405b558c16b7f33dd5cf9df321ab92e0c4da36d024c564164550810a950d8d119ba7e5abae1ae75b83345bd70f275bcde52a5a2e2a999ad632653ba578154e2f7bba432aae48fc7bfac2e740024931213fef8283dbd5c0509208d5c91abfb015741f6b42a861b35c1a590cbbdfd4ce1c6ef33197aa73b929f1b04703f10e460ae4770b6dab02f37adbba20908e50aac7870393a731b71f7f61e2fb25ac621a049e9a60538b0b7123cd32525ec4fb63977b80c9c05fd764382bfb62b53d011c1b1e0a21b55023ddfdfdee36579bec51547c9381505d057a054b4082ed4c6716103ba29c26ebb835dafa571757d87469f84677d31a3ef7c17a587aea291faa5f1225f34b31bc90f75b334364b06a3c2a89c122636333492feef88b00a1b054661716af156ab7b352b3147a8de732177af7fa0edfe341f8b170a068cb8c7fded30437bea046f26eda30efa4f55a7774c3ff1d3ca4e8f2658633ebc288144f02dd1bcf5f30fd500e3dfb01c60b445b67970967bb68a84f5307b79a81fc904b845d20aad2d946e3a28ac0d98dfdd90602bc53656180757cb01a337a63d8973cfba00f6cdfecabf10531337413ce4eaeb643d33d73396c041e808ee129668aaed1b92ae00e3943dce6a705455b12d487cd700148175e1a997c80cd12014112835f9b04dbb9c23e94d263626afe21aadadbb583a67f9f6145909e962600335d7f1b3e17662fe2d1ad094cf4cc97277f8e3fbdbde4781b66c3c3e9143565017dcbe89b10923fc17f250f67ea7d803fbab9e04874f72097b6846c22a3c3f63e8991af6e29fc13f6d413264d51b687e311ca85a42d45c84aa11ae401a823f20ff9c6ec4120fea4a44e32e2f2abc42b515953dc4016c717e42ed8a447d51063cdaeed0d2522960ecfb74f6118e0102c9b14a5d5b746b6243c2dbf3e6a609253e8e0ac1c781f2e6b6bfbf5eadd5e33292baaa84d5f090b9012485c461eb82a5a90889ff3241dc792bc05a4616b6b720748acabcc6c866d5b53afd4b96def533a9f541a3910140e1fce98aa3112e48d7321f00b5253d351c480c523c56b8b9b6ca49b3106951383f3f635735c7291f6bbcbe3668ef25ea0ea91784f1dce3b46ed4424ad3fb915a35cf56be6dc5f27fb46cc36939c472a5fc9c45b894d2d5058f39dac0071da26fa2e8c2c79632d53e4fe5bbb8b89808a3e8fdbed00182923574f501d43fdae03a326b6c9687d24a5cab851a27ef052441fb3786a33619c86a8ecfce8189bce101f61e595ea77413dc76635cb32586e2e22636fd9d164d72f58cb48f019e70804681a3c73300dae5e57f6170fb1c40bbb169c55c99684468bbe8da5210be0e40862e4a888569bcd22c8fc37145892ed5e155048e6ea318c0569f8b9f35b897204eb186c9d4031568eba96f10ae9ecc8760ed5a794864e3fad4d7af7f5ac480005c01da0f2058f4e016299a9faa6d9ab6792c159b1534aad195864011b94cd5c0edce036eee141258b485bcd019abdcfff6bfc56412f6f9e5f874d00e9ce64752d5ef336ae46954a1339d75ccc016307ec939d5b0776c7e24eb84c92d9d768a90fe834e836945ff29677392171ba5c6506ecf53c2cc86fa6817b91f9125e224712e8f8916b012f1c8db91d952698fc01612ea3e80256ab912645a142234e14862f0c3c1db333993ce83437ed35b96b0e3c678b7e9c6a981f0d03222b7ba79f8120f25b035d7e84e78f6f7f67089cc1a36f7b85b1319e4d5e09984a7f2881b9bc0e75b59a34e1c98e7b8c3b69832cd55b93babfb8703c9180ca68415882ee1ba62ad88d0d47f14be87708a736f8825b227ba508b73bbf25d6e789d90102adecbf13d22e9c3bd669a6ad28b2b6e6005fe54860a766f604c8e3ddedffe96baa7f8b02f4c5980ec536b38a60393dfe2350cebdb31cda4cd60e4a0a3ac3d79d49a13b113c77a184bbd46fc8ba9a34da043beeb8831c2b1cd7d31b3b8703375873253101774cfc22a2397acb08cce3c405da0d9842611257bfc46bc6c78fb241db99c014328deb461da88886add90cc969d9e26eae9d3f8b9112d51fbb26dfcd6901062058e4091e13b4f758e456308a5bbe0da287307a1cc6c634c817888ffbb967bc2a29e081f5f97190f2dc32a0614a06cfa053ed8c0c560824fa4ba5096bff425f096345cb5daf79fabd45c5abdab5a36a11a074f9170162199d6aa792e3a04e3b2435c727cfdf60e0080e4a6568f1a5c8c1cff3d5e4b8815e6da8680888d8587800329648f70b5621c5e0865e5ab7c3ddc55388ecc586ab323d8cc1331d94d71912ec1890dbfc7806a93811c475cca63dab335f2e212996ac7c3627f6e1ac45b22a592f68b8a076d49a08362bb38ed669f501781b22509704469cb37b970c473303d2ed8db1c18d3be9c95789e04e127ad9d1ea38ea06b37bb0b8936349cc6feb1740a4f7d8971959f717693f5feb4e9448dcd6ffb311389c7fb698437fe9f9db28786015d4526f96b9ab1df5722c17e2ab7e4cabafb81c6786c32532cf5e10a31ddfae520de2e3130a0001b08c55c5f5f805fadb7035423669ffa7c976c367ad28877c3051002fa58f28d332a2c3d93c9c6e9f0e51cea2e9cbaa29fa4cf8804d1ba32a4c50aa98cdb12ccfff4305d5708e54bbcaa08502c4013eb8c1ef4d910c2e63fcb19df71a09aff703fd5f84780767e43bae3ae78c5740ab3a84bc53d1c71a7b4fea74b6a6b29ffd4ba1a86192598b3c9466de32604d5be03e4ffd3b151d29a880acdccfd0302532d0553828ec2a00d400bb6185f042e86943ebfda44c46241e36205fc4de46cf591345c6a333497a8a3a438570211a54503e54954786c227b4e2916cd67f92e25e7ec9146403ebcce87bfcbb39d1c86c66dd45badf98bf03bc71a9d59e4846261ff3b6a2beaf244bde4b28b04591998604737b87c9d1b41691535e4ebabccc2f43e483fa775f5b238d07c0d7f66425753bfead3b04bf5e015c1100d6ae3728123da6813172ecf106fe9939919462eead1c271c0a7a61f30f3e93d26e2749fc79d12dc5b1d83dbfb89f379547749cbae7cb84b12a483b782fde3d7fefc3dcd7555dbb4eacb5bae69f8047680487b2165fccbbae5b4fedbc27224d20b3d873b36f1b749f93fdfac8448bde8b97c7885f8c0592901ec9f4740550d0e7c11b54f613c75b80cea85a72bf0d99ac5656a64fc18de9de4084e201123990a452356984896dd3e009e80822ac238b9537bc9d03ef1208739572675e0060e8cfcebbaf1665ccaa61ea6cf451b933fa9f771ae817a306fa4027a885bf06fce9aba39bea73c5253fae1acf22fba4d41f416a164a4556044de5912eac4e0b68aa52f62bd521001e81d1008e1740eac1a8c89c5c2c79d7c98b370ecdeb230d1d57ef0aedcba5e93da1b79f2576e8e67fa18b66f4935b1f56162eae0747b124e1b097f52a52d7547355b3ec27fb89ba3048456976ec500711b756bacd4e5c02517fb04edad521370b13c641c067fa0fc7c0e6ab62d2bb74b288b1f3c455b515e8c4c22880f266ae9e012df9a4918eaf53b5440006440e7ef418d9473d40fc15a65534cf1be17c75a6ea81647fda06b470bae6f9580fca3f0d3ba048aa7ec90c74ef0193fb9987f5371ed655ee162c526b92e9bb2d271c0555b114d020b7441fa9f24199eec53befbd31cd7d4083f7180b3805276c6751ece0e8e1d82fbbeb110e0ea5e39bf52fd2eb7ec74b3b4745698d2ee5074d99ba93bca59bba25e9a21a88d7df4ac7027ccce89becdba72689e3496947a3f1ca9cbf08d67066cac4ed1fd965d43b9619ae39f9f3f9cdbd5b2fd8603cf14558e1764d658d1071d480eb0000000000000000000000000000000000000000000000000000000000000000002c32fb06849b81e97095888fd59250e5dda2dd5ee1425082e0283f604491f1172e22e94e31d8feeeb057369c3490d5011bbbd9c92a3fe2718ea4f03c101e4200000000000000000000000000000000000000000000000000000000000000002bd4bfc0d0235202c4b2dab79206b0d09891ba1074dc6cd6663fbc3315fce03117da128997e75ff9152d89c6df6415bbc64c698ef957bc1130f8fafc75166daa097673b39d8764ec01fe1c4d4e6abd86dfad808e288695acc4f96c79c118306e00000000000000000000000000000000000000000000000000000000000000000fb060f30b0419ac919d34b9a08ef337b7d0ca8c7d7a7a95fb1c44dbdd418b7e06ca71616d14aeaf3d7d0147cfa1c3597169999cd8cfd636c920fa17dd0ec70d0000000000000000000000000000000000000000000000000000000000000000117a92c09b8044ec8f36f02e636fff1f60f1ddf3f17f2949cafe5bfe3fce0a9a0000000000000000000000000000000000000000000000000000000000000000000000000000000000000000000000000000000000000000000000000000000000000000000000000000000000000000000000000000000000000000000000000000000000000000000000000000000000000000000000000000000000000000027845b4906c997342990e07996d11ac65c19007626c8a2d867a1c5c63c3183d104eafa26b3d5b34bf0decb16c0ccf854fca0e0d9b003d6f77de0b6f09d451a40808995fbadac394fb5a5db616e436373d55a9ba0be2b5a9514430b95fb23b6b0000000000000000000000000000000000000000000000000000000000000000077147b84150b27f3f9300bdfd8acc1ad1dcce461476c9d69ac48060fa19b1792debd8b1e80be821e6302bacc00d50bbab0d9927fa415b2fc2b1e3b939fcce692ee0166db63b6962e1ea76c9d9fbce5a28ca8fedfac2c905ecb73a274c1b70690764472c3681aff7431b9d80c9650a51511c4b015683ad2c875925f7fec8512c1e0be4dd3588f99980c99b05147587727ce29c1d0608cd2758329066d92c20ff03a7310b5471ef296005452a6157baf6646d65ce00f1d8cbf80c0d33c9e6c1430444cd9cf3750fb430d0bca9fa7c522f23409364690a5a7bf0eabcd8299c6d701ad71bc703ff5cdc485df724d38c91581b65f0bf59af26dbb9e30c2809b71dac090294e287906379f129b3f2289a9b74fc9e57ec7584434200926250c436d1672835f2eda60616fa7b121e301b844625f96d0b3e23ce17926c853231898e09dd081dc4a994df0fafe9703dc3c0bbafa646bc8f99a500db792902585c24be8e1b219ce482cbbac2f99920c0179dbd37c071ebcb0b0b7c56b45eb0a7e12279af992ec4e1e4375ee4056afc8dab13c545bdb3e03f4a4c72f3b14f13f97a2c9d3230122f2dfcd9af312bec79ff794b1a2accf6e4a5a95af1988f6a96284c1defaa462b67fa9788711d14c88158a783f6f72901943ca529d779417173cb7b974270cb096bbf41cc1653b393a858a23630e6c0da14e302793c9a6b34db5a226e205f331f66f2049721558d196e9bf8f8876e7bd372dd4d167cc23665861f04eae4c34d1faec500ddc7b1da8e82c72f1239e1679eb563eba8ba7aa279088f1044856f8a206eb3f7fabb2902a1cfd65009b6eeda0027683669c624c8f296044750bfd12c24d5e2b83eab1224140133b55eca990b75deec2ab35be683b943702cb44d722f27cb669093ca91d3940edea1d912c403cb9106282ee65b76b1c1a2da324988fd1bfd9ea60f1d595c8e0d9768285d650fc63c0cd9cd2c2a6fc613f84872fd35a40ac0cf52195033a15ecd5bcc913cb3d57481be9455d6f4e780e41f8c758991f90eb15524ee7230ee0c2029663acf154eddddeb3eaf09fb460dcaf3548c90e1482bade9f8387166d0e6deee5a547871f6439615977505a1a5fe31f954408d8990128b5ac44984b2992b4c83e703ae6d7e4758473111d5399822c1075268338e990479d06edc17afd38262a20b39497e8ef21efaa0c0e23fb413d23e3af409576412d794d16f3308a6dab392578245ab43bb88a9151deed91811cf5e5bbe48a06a2a00e877fdac802b0bec8bab1116714e10d1fb063220259285084d8abc13c2ab2496948f4092612a41d5dd74ff0684b28df023bea9dbe23229339625d72c808f2d6ea6b78ca85bc4ac33c2d1ad19414e1b8c0e89d4093a4970120c1a04ef1e611d11d0cf3da964b68b4f6687afe34ca03bd2e26a1dde1eba9b218f026ab86e02271a9b8aaa946954d1bdd744913ee2b2b0cb40c5a3417a1e2c9a7809c7d317a41c830ce394e34fa98eb633b5f8bad368be211fcf9c43f7078f9f1b25118c4c2026507963c5b6a66e77bd827afc70ea565ccfa3077b42d801b9161e303f2c35a1249579db7caa812468dd8c8452680d49a9e24e241d14c234e2750cca4988015909b9c525811dd598c5a116d718b0dc9528ab9709125d769a702bd7ec400c015c2a97a492b01347d14399dcb255957d58dfa19e326d38a3b39b42b854297f7b3d1f336853f0f6f3cf099efe8f5032beafc72c3b71fc27947ac68e1de6798c6165068f2349d6598f5f5f97e18fc06df60d8e0c856201cc8ae051c0b09e0d41fe260f0467a05ad16c6856f3da7d50ebed0d2ae37066c95a9aa9f7eee9d4b47b6c4b09a21293d955e96030859ccef1cbb06da2815f3e1cdca720b1aea5ee42307bb717c873c8651a958b460f8330a9ec2b964fe62c73aa7705ae25e94d3682e04d4a27605aff49b1d75c1960d00d00cf86abea0ff13f5a1d824353c59cb253cb41a81a04b81a6dd5197a2d85c4b12763e724767ef416e4d2c365fa9e9ef64800c15f26be02ed23822bc98d98392bcce597db401a1f20b879054b89754ba60d020bd616af20f096d69dcd4e5233ed39e844a2815b10166f6266ae933bc879d6734670', 'transcript_type': 'EVM'}\n",
      "Time gen prf: 8.977934837341309 seconds\n"
     ]
    }
   ],
   "source": [
    "# Here verifier & prover can concurrently call setup since all params are public to get pk.\n",
    "# Here write as verifier function to emphasize that verifier must calculate its own vk to be sure\n",
    "setup(verifier_model_path, verifier_compiled_model_path, settings_path,vk_path, pk_path )\n",
    "\n",
    "print(\"=======================================\")\n",
    "# Prover generates proof\n",
    "prover_gen_proof(prover_model_path, sel_data_path, witness_path, prover_compiled_model_path, settings_path, proof_path, pk_path)"
   ]
  },
  {
   "cell_type": "code",
   "execution_count": 9,
   "metadata": {},
   "outputs": [
    {
     "name": "stdout",
     "output_type": "stream",
     "text": [
      "Verifier gets result: [49.546875]\n"
     ]
    }
   ],
   "source": [
    "# Verifier verifies\n",
    "res = verifier_verify(proof_path, settings_path, vk_path, selected_columns, data_commitment_path)\n",
    "print(\"Verifier gets result:\", res)"
   ]
  },
  {
   "cell_type": "code",
   "execution_count": null,
   "metadata": {},
   "outputs": [],
   "source": []
  }
 ],
 "metadata": {
  "kernelspec": {
   "display_name": "Python 3",
   "language": "python",
   "name": "python3"
  },
  "language_info": {
   "codemirror_mode": {
    "name": "ipython",
    "version": 3
   },
   "file_extension": ".py",
   "mimetype": "text/x-python",
   "name": "python",
   "nbconvert_exporter": "python",
   "pygments_lexer": "ipython3",
   "version": "3.11.4"
  },
  "orig_nbformat": 4
 },
 "nbformat": 4,
 "nbformat_minor": 2
}
