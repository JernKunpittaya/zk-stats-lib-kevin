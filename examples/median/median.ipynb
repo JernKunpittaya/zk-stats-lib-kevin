{
 "cells": [
  {
   "cell_type": "code",
   "execution_count": 9,
   "metadata": {},
   "outputs": [
    {
     "name": "stdout",
     "output_type": "stream",
     "text": [
      "Requirement already satisfied: ezkl==5.4.2 in /Library/Frameworks/Python.framework/Versions/3.10/lib/python3.10/site-packages (from -r ../../requirements.txt (line 1)) (5.4.2)\n",
      "Requirement already satisfied: torch in /Library/Frameworks/Python.framework/Versions/3.10/lib/python3.10/site-packages (from -r ../../requirements.txt (line 2)) (2.1.1)\n",
      "Requirement already satisfied: requests in /Library/Frameworks/Python.framework/Versions/3.10/lib/python3.10/site-packages (from -r ../../requirements.txt (line 3)) (2.31.0)\n",
      "Requirement already satisfied: scipy in /Library/Frameworks/Python.framework/Versions/3.10/lib/python3.10/site-packages (from -r ../../requirements.txt (line 4)) (1.11.4)\n",
      "Requirement already satisfied: numpy in /Library/Frameworks/Python.framework/Versions/3.10/lib/python3.10/site-packages (from -r ../../requirements.txt (line 5)) (1.26.2)\n",
      "Requirement already satisfied: matplotlib in /Library/Frameworks/Python.framework/Versions/3.10/lib/python3.10/site-packages (from -r ../../requirements.txt (line 6)) (3.8.2)\n",
      "Requirement already satisfied: statistics in /Library/Frameworks/Python.framework/Versions/3.10/lib/python3.10/site-packages (from -r ../../requirements.txt (line 7)) (1.0.3.5)\n",
      "Requirement already satisfied: onnx in /Library/Frameworks/Python.framework/Versions/3.10/lib/python3.10/site-packages (from -r ../../requirements.txt (line 8)) (1.15.0)\n",
      "Requirement already satisfied: sympy in /Library/Frameworks/Python.framework/Versions/3.10/lib/python3.10/site-packages (from torch->-r ../../requirements.txt (line 2)) (1.12)\n",
      "Requirement already satisfied: fsspec in /Library/Frameworks/Python.framework/Versions/3.10/lib/python3.10/site-packages (from torch->-r ../../requirements.txt (line 2)) (2023.10.0)\n",
      "Requirement already satisfied: networkx in /Library/Frameworks/Python.framework/Versions/3.10/lib/python3.10/site-packages (from torch->-r ../../requirements.txt (line 2)) (3.2.1)\n",
      "Requirement already satisfied: jinja2 in /Library/Frameworks/Python.framework/Versions/3.10/lib/python3.10/site-packages (from torch->-r ../../requirements.txt (line 2)) (3.1.2)\n",
      "Requirement already satisfied: filelock in /Library/Frameworks/Python.framework/Versions/3.10/lib/python3.10/site-packages (from torch->-r ../../requirements.txt (line 2)) (3.13.1)\n",
      "Requirement already satisfied: typing-extensions in /Library/Frameworks/Python.framework/Versions/3.10/lib/python3.10/site-packages (from torch->-r ../../requirements.txt (line 2)) (4.8.0)\n",
      "Requirement already satisfied: urllib3<3,>=1.21.1 in /Library/Frameworks/Python.framework/Versions/3.10/lib/python3.10/site-packages (from requests->-r ../../requirements.txt (line 3)) (2.1.0)\n",
      "Requirement already satisfied: charset-normalizer<4,>=2 in /Library/Frameworks/Python.framework/Versions/3.10/lib/python3.10/site-packages (from requests->-r ../../requirements.txt (line 3)) (3.3.2)\n",
      "Requirement already satisfied: idna<4,>=2.5 in /Library/Frameworks/Python.framework/Versions/3.10/lib/python3.10/site-packages (from requests->-r ../../requirements.txt (line 3)) (3.6)\n",
      "Requirement already satisfied: certifi>=2017.4.17 in /Library/Frameworks/Python.framework/Versions/3.10/lib/python3.10/site-packages (from requests->-r ../../requirements.txt (line 3)) (2023.11.17)\n",
      "Requirement already satisfied: kiwisolver>=1.3.1 in /Library/Frameworks/Python.framework/Versions/3.10/lib/python3.10/site-packages (from matplotlib->-r ../../requirements.txt (line 6)) (1.4.5)\n",
      "Requirement already satisfied: pyparsing>=2.3.1 in /Library/Frameworks/Python.framework/Versions/3.10/lib/python3.10/site-packages (from matplotlib->-r ../../requirements.txt (line 6)) (3.1.1)\n",
      "Requirement already satisfied: contourpy>=1.0.1 in /Library/Frameworks/Python.framework/Versions/3.10/lib/python3.10/site-packages (from matplotlib->-r ../../requirements.txt (line 6)) (1.2.0)\n",
      "Requirement already satisfied: pillow>=8 in /Library/Frameworks/Python.framework/Versions/3.10/lib/python3.10/site-packages (from matplotlib->-r ../../requirements.txt (line 6)) (10.1.0)\n",
      "Requirement already satisfied: packaging>=20.0 in /Users/jernkun/Library/Python/3.10/lib/python/site-packages (from matplotlib->-r ../../requirements.txt (line 6)) (23.2)\n",
      "Requirement already satisfied: python-dateutil>=2.7 in /Users/jernkun/Library/Python/3.10/lib/python/site-packages (from matplotlib->-r ../../requirements.txt (line 6)) (2.8.2)\n",
      "Requirement already satisfied: cycler>=0.10 in /Library/Frameworks/Python.framework/Versions/3.10/lib/python3.10/site-packages (from matplotlib->-r ../../requirements.txt (line 6)) (0.12.1)\n",
      "Requirement already satisfied: fonttools>=4.22.0 in /Library/Frameworks/Python.framework/Versions/3.10/lib/python3.10/site-packages (from matplotlib->-r ../../requirements.txt (line 6)) (4.45.1)\n",
      "Requirement already satisfied: docutils>=0.3 in /Library/Frameworks/Python.framework/Versions/3.10/lib/python3.10/site-packages (from statistics->-r ../../requirements.txt (line 7)) (0.20.1)\n",
      "Requirement already satisfied: protobuf>=3.20.2 in /Library/Frameworks/Python.framework/Versions/3.10/lib/python3.10/site-packages (from onnx->-r ../../requirements.txt (line 8)) (4.25.1)\n",
      "Requirement already satisfied: six>=1.5 in /Users/jernkun/Library/Python/3.10/lib/python/site-packages (from python-dateutil>=2.7->matplotlib->-r ../../requirements.txt (line 6)) (1.16.0)\n",
      "Requirement already satisfied: MarkupSafe>=2.0 in /Library/Frameworks/Python.framework/Versions/3.10/lib/python3.10/site-packages (from jinja2->torch->-r ../../requirements.txt (line 2)) (2.1.3)\n",
      "Requirement already satisfied: mpmath>=0.19 in /Library/Frameworks/Python.framework/Versions/3.10/lib/python3.10/site-packages (from sympy->torch->-r ../../requirements.txt (line 2)) (1.3.0)\n",
      "\u001b[33mWARNING: You are using pip version 21.2.3; however, version 23.3.1 is available.\n",
      "You should consider upgrading via the '/usr/local/bin/python3 -m pip install --upgrade pip' command.\u001b[0m\n",
      "Note: you may need to restart the kernel to use updated packages.\n"
     ]
    }
   ],
   "source": [
    "pip install -r ../../requirements.txt"
   ]
  },
  {
   "cell_type": "code",
   "execution_count": 19,
   "metadata": {},
   "outputs": [],
   "source": [
    "import ezkl\n",
    "import torch\n",
    "from torch import nn\n",
    "import json\n",
    "import os\n",
    "import time\n",
    "import scipy\n",
    "import numpy as np\n",
    "import matplotlib.pyplot as plt\n",
    "import statistics\n",
    "import math"
   ]
  },
  {
   "cell_type": "code",
   "execution_count": 20,
   "metadata": {},
   "outputs": [],
   "source": [
    "%run -i ../../core.py"
   ]
  },
  {
   "attachments": {},
   "cell_type": "markdown",
   "metadata": {},
   "source": []
  },
  {
   "cell_type": "code",
   "execution_count": 21,
   "metadata": {},
   "outputs": [],
   "source": [
    "# init path\n",
    "os.makedirs(os.path.dirname('shared/'), exist_ok=True)\n",
    "os.makedirs(os.path.dirname('prover/'), exist_ok=True)\n",
    "verifier_model_path = os.path.join('shared/verifier.onnx')\n",
    "prover_model_path = os.path.join('prover/prover.onnx')\n",
    "verifier_compiled_model_path = os.path.join('shared/verifier.compiled')\n",
    "prover_compiled_model_path = os.path.join('prover/prover.compiled')\n",
    "pk_path = os.path.join('shared/test.pk')\n",
    "vk_path = os.path.join('shared/test.vk')\n",
    "proof_path = os.path.join('shared/test.pf')\n",
    "settings_path = os.path.join('shared/settings.json')\n",
    "srs_path = os.path.join('shared/kzg.srs')\n",
    "witness_path = os.path.join('prover/witness.json')\n",
    "# this is private to prover since it contains actual data\n",
    "comb_data_path = os.path.join('prover/comb_data.json')"
   ]
  },
  {
   "attachments": {},
   "cell_type": "markdown",
   "metadata": {},
   "source": [
    "=======================  ZK-STATS FLOW ======================="
   ]
  },
  {
   "cell_type": "code",
   "execution_count": 22,
   "metadata": {},
   "outputs": [],
   "source": [
    "data_path = os.path.join('data.json')\n",
    "dummy_data_path = os.path.join('shared/dummy_data.json')\n",
    "\n",
    "f_raw_input = open(data_path, \"r\")\n",
    "data = json.loads(f_raw_input.read())[\"input_data\"][0]\n",
    "data_tensor = torch.reshape(torch.tensor(data),(1, len(data), 1))\n",
    "\n",
    "dummy_data = np.round(np.random.uniform(1,10,len(data)),1)\n",
    "json.dump({\"input_data\":[dummy_data.tolist()]}, open(dummy_data_path, 'w'))\n",
    "\n",
    "dummy_data_tensor = torch.reshape(torch.tensor(dummy_data), (1, len(dummy_data),1 ))\n",
    "dummy_theory_output = torch.tensor(np.median(dummy_data))\n",
    "# print(int(len(dummy_data)/2))\n",
    "dummy_lower_to_median = torch.tensor(np.sort(dummy_data)[int(len(dummy_data)/2)-1])\n",
    "dummy_upper_to_median = torch.tensor(np.sort(dummy_data)[int(len(dummy_data)/2)])\n"
   ]
  },
  {
   "cell_type": "code",
   "execution_count": 23,
   "metadata": {},
   "outputs": [
    {
     "name": "stdout",
     "output_type": "stream",
     "text": [
      "dummy output:  tensor(6.1500, dtype=torch.float64)\n"
     ]
    },
    {
     "name": "stderr",
     "output_type": "stream",
     "text": [
      "/var/folders/89/y9dw12v976ngdmqz4l7wbsnr0000gn/T/ipykernel_55637/4127999846.py:19: TracerWarning: Converting a tensor to a Python boolean might cause the trace to be incorrect. We can't record the data flow of Python values, so this value will be treated as a constant in the future. This means that the trace might not generalize to other inputs!\n",
      "  if(len%2==0):\n"
     ]
    }
   ],
   "source": [
    "print(\"dummy output: \", dummy_theory_output)\n",
    "# Verifier/ data consumer side: send desired calculation\n",
    "class verifier_model(nn.Module):\n",
    "    def __init__(self):\n",
    "        super(verifier_model, self).__init__()\n",
    "        # w represents mean in this case\n",
    "        self.w = nn.Parameter(data = dummy_theory_output, requires_grad = False)\n",
    "        self.lower = nn.Parameter(data = dummy_lower_to_median, requires_grad = False)\n",
    "        self.upper = nn.Parameter(data = dummy_upper_to_median, requires_grad = False)\n",
    "    def forward(self,X):\n",
    "        count_less = torch.sum((X < self.w).double())\n",
    "        count_equal = torch.sum((torch.abs(X-self.w)<=torch.abs(0.01*self.w)).double())\n",
    "        len = X.size()[1]\n",
    "        half_len = torch.floor(torch.div(len, 2))\n",
    "\n",
    "        # doesnt support mod if not in conditional\n",
    "       \n",
    "        # For count_equal > 0\n",
    "        if(len%2==0):\n",
    "            is_odd = 0\n",
    "        else:\n",
    "            is_odd = 1\n",
    "        less_cons = count_less<half_len+is_odd\n",
    "        more_cons = count_less+count_equal>half_len\n",
    "\n",
    "\n",
    "        # For count_equal == 0\n",
    "        lower_exist = torch.sum((torch.abs(X-self.lower)<=torch.abs(0.01*self.lower)).double())>0\n",
    "        lower_cons = torch.sum((X>self.lower).double())==half_len\n",
    "        upper_exist = torch.sum((torch.abs(X-self.upper)<=torch.abs(0.01*self.upper)).double())>0\n",
    "        upper_cons = torch.sum((X<self.upper).double())==half_len\n",
    "        bound = count_less==half_len\n",
    "        # 0.02 since 2*0.01\n",
    "        bound_avg = (torch.abs(self.lower+self.upper-2*self.w)<=torch.abs(0.02*self.w))\n",
    "\n",
    "        median_in_cons = torch.logical_and(less_cons, more_cons)\n",
    "        median_out_cons = torch.logical_and(torch.logical_and(bound, bound_avg), torch.logical_and(torch.logical_and(lower_cons, upper_cons), torch.logical_and(lower_exist, upper_exist)))\n",
    "        \n",
    "        return (median_in_cons*(count_equal!=0)+median_out_cons*(count_equal ==0), self.w)\n",
    "\n",
    "    \n",
    "verifier_define_calculation(verifier_model, verifier_model_path, [dummy_data_path])"
   ]
  },
  {
   "cell_type": "code",
   "execution_count": 24,
   "metadata": {},
   "outputs": [
    {
     "name": "stdout",
     "output_type": "stream",
     "text": [
      "Theory_output:  tensor(4.6500, dtype=torch.float64)\n",
      "lower:  tensor(4.1000, dtype=torch.float64)\n",
      "upper:  tensor(5.2000, dtype=torch.float64)\n",
      "==== Generate & Calibrate Setting ====\n"
     ]
    },
    {
     "name": "stderr",
     "output_type": "stream",
     "text": [
      "/var/folders/89/y9dw12v976ngdmqz4l7wbsnr0000gn/T/ipykernel_55637/2517425331.py:25: TracerWarning: Converting a tensor to a Python boolean might cause the trace to be incorrect. We can't record the data flow of Python values, so this value will be treated as a constant in the future. This means that the trace might not generalize to other inputs!\n",
      "  if(len%2==0):\n"
     ]
    },
    {
     "name": "stdout",
     "output_type": "stream",
     "text": [
      "scale:  default\n",
      "setting:  {\"run_args\":{\"tolerance\":{\"val\":0.0,\"scale\":1.0},\"input_scale\":5,\"param_scale\":5,\"scale_rebase_multiplier\":10,\"lookup_range\":[-790,826],\"logrows\":11,\"num_inner_cols\":1,\"variables\":[[\"batch_size\",1]],\"input_visibility\":{\"Hashed\":{\"hash_is_public\":true,\"outlets\":[]}},\"output_visibility\":\"Public\",\"param_visibility\":\"Private\"},\"num_rows\":1312,\"total_assignments\":287,\"total_const_size\":55,\"model_instance_shapes\":[[1],[1]],\"model_output_scales\":[0,5],\"model_input_scales\":[5],\"module_sizes\":{\"kzg\":[],\"poseidon\":[1312,[1]],\"elgamal\":[0,[0]]},\"required_lookups\":[\"Abs\",{\"GreaterThan\":{\"a\":0.0}},\"KroneckerDelta\"],\"check_mode\":\"UNSAFE\",\"version\":\"5.0.8\",\"num_blinding_factors\":null}\n"
     ]
    }
   ],
   "source": [
    "# prover calculates settings, send to verifier\n",
    "\n",
    "theory_output = torch.tensor(np.median(data))\n",
    "lower_to_median = torch.tensor(np.sort(data)[int(len(data)/2)-1])\n",
    "upper_to_median = torch.tensor(np.sort(data)[int(len(data)/2)])\n",
    "print(\"Theory_output: \", theory_output)\n",
    "print(\"lower: \", lower_to_median)\n",
    "print(\"upper: \", upper_to_median)\n",
    "class prover_model(nn.Module):\n",
    "    def __init__(self):\n",
    "        super(prover_model, self).__init__()\n",
    "        # w represents mean in this case\n",
    "        self.w = nn.Parameter(data = theory_output, requires_grad = False)\n",
    "        self.lower = nn.Parameter(data = lower_to_median, requires_grad = False)\n",
    "        self.upper = nn.Parameter(data = upper_to_median, requires_grad = False)\n",
    "    def forward(self,X):\n",
    "        count_less = torch.sum((X < self.w).double())\n",
    "        count_equal = torch.sum((torch.abs(X-self.w)<=torch.abs(0.01*self.w)).double())\n",
    "        len = X.size()[1]\n",
    "        half_len = torch.floor(torch.div(len, 2))\n",
    "\n",
    "        # doesnt support mod if not in conditional\n",
    "       \n",
    "        # For count_equal > 0\n",
    "        if(len%2==0):\n",
    "            is_odd = 0\n",
    "        else:\n",
    "            is_odd = 1\n",
    "        less_cons = count_less<half_len+is_odd\n",
    "        more_cons = count_less+count_equal>half_len\n",
    "\n",
    "\n",
    "        # For count_equal == 0\n",
    "        lower_exist = torch.sum((torch.abs(X-self.lower)<=torch.abs(0.01*self.lower)).double())>0\n",
    "        lower_cons = torch.sum((X>self.lower).double())==half_len\n",
    "        upper_exist = torch.sum((torch.abs(X-self.upper)<=torch.abs(0.01*self.upper)).double())>0\n",
    "        upper_cons = torch.sum((X<self.upper).double())==half_len\n",
    "        bound = count_less==half_len\n",
    "        # 0.02 since 2*0.01\n",
    "        bound_avg = (torch.abs(self.lower+self.upper-2*self.w)<=torch.abs(0.02*self.w))\n",
    "\n",
    "        median_in_cons = torch.logical_and(less_cons, more_cons)\n",
    "        median_out_cons = torch.logical_and(torch.logical_and(bound, bound_avg), torch.logical_and(torch.logical_and(lower_cons, upper_cons), torch.logical_and(lower_exist, upper_exist)))\n",
    "        \n",
    "        return (median_in_cons*(count_equal!=0)+median_out_cons*(count_equal ==0), self.w)\n",
    "\n",
    " \n",
    "\n",
    "prover_gen_settings([data_path], comb_data_path, prover_model,prover_model_path, \"default\", \"resources\", settings_path)"
   ]
  },
  {
   "cell_type": "code",
   "execution_count": 25,
   "metadata": {},
   "outputs": [
    {
     "name": "stdout",
     "output_type": "stream",
     "text": [
      "==== setting up ezkl ====\n"
     ]
    },
    {
     "name": "stderr",
     "output_type": "stream",
     "text": [
      "spawning module 0\n",
      "spawning module 2\n",
      "spawning module 0\n",
      "spawning module 2\n",
      "spawning module 0\n",
      "spawning module 2\n"
     ]
    },
    {
     "name": "stdout",
     "output_type": "stream",
     "text": [
      "Time setup: 0.3089122772216797 seconds\n",
      "=======================================\n",
      "Theory output:  tensor(4.6500, dtype=torch.float64)\n",
      "==== Generating Witness ====\n",
      "witness boolean:  1.0\n",
      "witness result 1 : 4.65625\n",
      "==== Generating Proof ====\n",
      "proof:  {'instances': [[[15776967246226738966, 14470885921245171519, 5947983710744493689, 2326010236508186386], [12436184717236109307, 3962172157175319849, 7381016538464732718, 1011752739694698287], [898490808456445164, 4627731094189474011, 12171376262565855552, 810232741982306196]]], 'proof': '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', 'transcript_type': 'EVM'}\n",
      "Time gen prf: 0.3554210662841797 seconds\n"
     ]
    }
   ],
   "source": [
    "# Here verifier & prover can concurrently call setup since all params are public to get pk. \n",
    "# Here write as verifier function to emphasize that verifier must calculate its own vk to be sure\n",
    "verifier_setup(verifier_model_path, verifier_compiled_model_path, settings_path, srs_path,vk_path, pk_path )\n",
    "\n",
    "print(\"=======================================\")\n",
    "# Prover generates proof\n",
    "print(\"Theory output: \", theory_output)\n",
    "prover_gen_proof(prover_model_path, comb_data_path, witness_path, prover_compiled_model_path, settings_path, proof_path, pk_path, srs_path)"
   ]
  },
  {
   "cell_type": "code",
   "execution_count": 26,
   "metadata": {},
   "outputs": [
    {
     "name": "stdout",
     "output_type": "stream",
     "text": [
      "num_inputs:  1\n",
      "prf instances:  [[[15776967246226738966, 14470885921245171519, 5947983710744493689, 2326010236508186386], [12436184717236109307, 3962172157175319849, 7381016538464732718, 1011752739694698287], [898490808456445164, 4627731094189474011, 12171376262565855552, 810232741982306196]]]\n",
      "proof boolean:  1.0\n",
      "proof result 1 : 4.65625\n",
      "verified\n"
     ]
    }
   ],
   "source": [
    "# Verifier verifies\n",
    "verifier_verify(proof_path, settings_path, vk_path, srs_path)"
   ]
  },
  {
   "cell_type": "code",
   "execution_count": null,
   "metadata": {},
   "outputs": [],
   "source": []
  },
  {
   "cell_type": "code",
   "execution_count": null,
   "metadata": {},
   "outputs": [],
   "source": []
  }
 ],
 "metadata": {
  "kernelspec": {
   "display_name": "Python 3",
   "language": "python",
   "name": "python3"
  },
  "language_info": {
   "codemirror_mode": {
    "name": "ipython",
    "version": 3
   },
   "file_extension": ".py",
   "mimetype": "text/x-python",
   "name": "python",
   "nbconvert_exporter": "python",
   "pygments_lexer": "ipython3",
   "version": "3.10.0"
  },
  "orig_nbformat": 4
 },
 "nbformat": 4,
 "nbformat_minor": 2
}
