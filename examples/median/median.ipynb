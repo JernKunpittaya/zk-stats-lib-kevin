{
 "cells": [
  {
   "cell_type": "code",
   "execution_count": 2,
   "metadata": {},
   "outputs": [],
   "source": [
    "import ezkl\n",
    "import torch\n",
    "from torch import nn\n",
    "import json\n",
    "import os\n",
    "import time\n",
    "import scipy\n",
    "import numpy as np\n",
    "import matplotlib.pyplot as plt\n",
    "import statistics\n",
    "import math"
   ]
  },
  {
   "cell_type": "code",
   "execution_count": 3,
   "metadata": {},
   "outputs": [],
   "source": [
    "from zkstats.core import create_dummy, verifier_define_calculation, prover_gen_settings, setup, prover_gen_proof, verifier_verify, generate_data_commitment"
   ]
  },
  {
   "attachments": {},
   "cell_type": "markdown",
   "metadata": {},
   "source": []
  },
  {
   "cell_type": "code",
   "execution_count": 4,
   "metadata": {},
   "outputs": [],
   "source": [
    "# init path\n",
    "os.makedirs(os.path.dirname('shared/'), exist_ok=True)\n",
    "os.makedirs(os.path.dirname('prover/'), exist_ok=True)\n",
    "verifier_model_path = os.path.join('shared/verifier.onnx')\n",
    "prover_model_path = os.path.join('prover/prover.onnx')\n",
    "verifier_compiled_model_path = os.path.join('shared/verifier.compiled')\n",
    "prover_compiled_model_path = os.path.join('prover/prover.compiled')\n",
    "pk_path = os.path.join('shared/test.pk')\n",
    "vk_path = os.path.join('shared/test.vk')\n",
    "proof_path = os.path.join('shared/test.pf')\n",
    "settings_path = os.path.join('shared/settings.json')\n",
    "srs_path = os.path.join('shared/kzg.srs')\n",
    "witness_path = os.path.join('prover/witness.json')\n",
    "# this is private to prover since it contains actual data\n",
    "sel_data_path = os.path.join('prover/sel_data.json')\n",
    "# this is just dummy random value\n",
    "sel_dummy_data_path = os.path.join('shared/sel_dummy_data.json')\n",
    "data_commitment_path = os.path.join('shared/data_commitment.json')"
   ]
  },
  {
   "attachments": {},
   "cell_type": "markdown",
   "metadata": {},
   "source": [
    "=======================  ZK-STATS FLOW ======================="
   ]
  },
  {
   "cell_type": "code",
   "execution_count": 5,
   "metadata": {},
   "outputs": [],
   "source": [
    "data_path = os.path.join('data.json')\n",
    "dummy_data_path = os.path.join('shared/dummy_data.json')\n",
    "create_dummy(data_path, dummy_data_path)"
   ]
  },
  {
   "cell_type": "code",
   "execution_count": 19,
   "metadata": {},
   "outputs": [],
   "source": [
    "# use large scale here to get the output really close to the value in dataset, which is important to Median.\n",
    "# Be careful, since we may need to calculate average of 2 values in case of no middle value in dataset,\n",
    "# this means larger scale can still blow up circuit size, unlike Mode func that scale doesnt affect circuit size much.\n",
    "scales = [7]\n",
    "selected_columns = ['col_name']\n",
    "generate_data_commitment(data_path, scales, data_commitment_path)"
   ]
  },
  {
   "cell_type": "code",
   "execution_count": 20,
   "metadata": {},
   "outputs": [],
   "source": [
    "# Verifier/ data consumer side: send desired calculation\n",
    "from zkstats.computation import computation_to_model, State\n",
    "\n",
    "\n",
    "def computation(s: State, data: list[torch.Tensor]) -> torch.Tensor:\n",
    "    x = data[0]\n",
    "    return s.median(x)\n",
    "\n",
    "# error here in Median only matters in determining the median value in case it doesnt exist in dataset. (Avg of 2 middle values)\n",
    "error = 0.01\n",
    "_, verifier_model = computation_to_model(computation, error)\n",
    "\n",
    "verifier_define_calculation(dummy_data_path, selected_columns, sel_dummy_data_path, verifier_model, verifier_model_path)"
   ]
  },
  {
   "cell_type": "code",
   "execution_count": 21,
   "metadata": {},
   "outputs": [
    {
     "name": "stdout",
     "output_type": "stream",
     "text": [
      "==== Generate & Calibrate Setting ====\n"
     ]
    },
    {
     "name": "stderr",
     "output_type": "stream",
     "text": [
      "\n",
      "\n",
      " <------------- Numerical Fidelity Report (input_scale: 7, param_scale: 7, scale_input_multiplier: 10) ------------->\n",
      "\n",
      "+--------------+--------------+-------------+-----------+----------------+------------------+---------------+---------------+--------------------+--------------------+------------------------+\n",
      "| mean_error   | median_error | max_error   | min_error | mean_abs_error | median_abs_error | max_abs_error | min_abs_error | mean_squared_error | mean_percent_error | mean_abs_percent_error |\n",
      "+--------------+--------------+-------------+-----------+----------------+------------------+---------------+---------------+--------------------+--------------------+------------------------+\n",
      "| 0.0015621185 | 0.003124237  | 0.003124237 | 0         | 0.0015621185   | 0.003124237      | 0.003124237   | 0             | 0.0000048804286    | 0.000031526106     | 0.000031526106         |\n",
      "+--------------+--------------+-------------+-----------+----------------+------------------+---------------+---------------+--------------------+--------------------+------------------------+\n",
      "\n",
      "\n"
     ]
    },
    {
     "name": "stdout",
     "output_type": "stream",
     "text": [
      "scale:  [7]\n",
      "setting:  {\"run_args\":{\"tolerance\":{\"val\":0.0,\"scale\":1.0},\"input_scale\":7,\"param_scale\":7,\"scale_rebase_multiplier\":10,\"lookup_range\":[-24804,12494],\"logrows\":16,\"num_inner_cols\":2,\"variables\":[[\"batch_size\",1]],\"input_visibility\":{\"Hashed\":{\"hash_is_public\":true,\"outlets\":[]}},\"output_visibility\":\"Public\",\"param_visibility\":\"Private\",\"div_rebasing\":false,\"rebase_frac_zero_constants\":false,\"check_mode\":\"UNSAFE\"},\"num_rows\":14432,\"total_assignments\":15668,\"total_const_size\":2421,\"model_instance_shapes\":[[1],[1]],\"model_output_scales\":[0,7],\"model_input_scales\":[7],\"module_sizes\":{\"kzg\":[],\"poseidon\":[14432,[1]]},\"required_lookups\":[{\"GreaterThan\":{\"a\":0.0}},\"ReLU\",{\"Floor\":{\"scale\":2.0}}],\"required_range_checks\":[],\"check_mode\":\"UNSAFE\",\"version\":\"9.1.0\",\"num_blinding_factors\":null,\"timestamp\":1709646739459}\n"
     ]
    }
   ],
   "source": [
    "# Prover/ data owner side\n",
    "_, prover_model = computation_to_model(computation, error)\n",
    "\n",
    "prover_gen_settings(data_path, selected_columns, sel_data_path, prover_model,prover_model_path, scales, \"resources\", settings_path)"
   ]
  },
  {
   "cell_type": "code",
   "execution_count": 22,
   "metadata": {},
   "outputs": [
    {
     "name": "stdout",
     "output_type": "stream",
     "text": [
      "==== setting up ezkl ====\n",
      "Time setup: 6.426691770553589 seconds\n",
      "=======================================\n",
      "==== Generating Witness ====\n",
      "witness boolean:  1.0\n",
      "witness result 1 : 49.546875\n",
      "==== Generating Proof ====\n",
      "proof:  {'instances': [['13613be83876b1d6edaa4022f0037a4a0dd2bca4e9a736c5ced55f1d1ec6fb29', '0100000000000000000000000000000000000000000000000000000000000000', 'c618000000000000000000000000000000000000000000000000000000000000']], 'proof': '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', 'transcript_type': 'EVM'}\n",
      "Time gen prf: 7.927674055099487 seconds\n"
     ]
    }
   ],
   "source": [
    "# Here verifier & prover can concurrently call setup since all params are public to get pk.\n",
    "# Here write as verifier function to emphasize that verifier must calculate its own vk to be sure\n",
    "setup(verifier_model_path, verifier_compiled_model_path, settings_path,vk_path, pk_path )\n",
    "\n",
    "print(\"=======================================\")\n",
    "# Prover generates proof\n",
    "prover_gen_proof(prover_model_path, sel_data_path, witness_path, prover_compiled_model_path, settings_path, proof_path, pk_path)"
   ]
  },
  {
   "cell_type": "code",
   "execution_count": 24,
   "metadata": {},
   "outputs": [
    {
     "name": "stdout",
     "output_type": "stream",
     "text": [
      "Verifier gets result: [49.546875]\n"
     ]
    }
   ],
   "source": [
    "# Verifier verifies\n",
    "res = verifier_verify(proof_path, settings_path, vk_path, selected_columns, data_commitment_path)\n",
    "print(\"Verifier gets result:\", res)"
   ]
  },
  {
   "cell_type": "code",
   "execution_count": null,
   "metadata": {},
   "outputs": [],
   "source": []
  }
 ],
 "metadata": {
  "kernelspec": {
   "display_name": "Python 3",
   "language": "python",
   "name": "python3"
  },
  "language_info": {
   "codemirror_mode": {
    "name": "ipython",
    "version": 3
   },
   "file_extension": ".py",
   "mimetype": "text/x-python",
   "name": "python",
   "nbconvert_exporter": "python",
   "pygments_lexer": "ipython3",
   "version": "3.12.1"
  },
  "orig_nbformat": 4
 },
 "nbformat": 4,
 "nbformat_minor": 2
}
