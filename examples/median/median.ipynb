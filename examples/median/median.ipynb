{
 "cells": [
  {
   "cell_type": "code",
   "execution_count": 1,
   "metadata": {},
   "outputs": [
    {
     "name": "stdout",
     "output_type": "stream",
     "text": [
      "Requirement already satisfied: ezkl==7.0.0 in /Users/mhchia/Library/Caches/pypoetry/virtualenvs/zkstats-brXmXluj-py3.12/lib/python3.12/site-packages (from -r ../../requirements.txt (line 1)) (7.0.0)\n",
      "Requirement already satisfied: torch in /Users/mhchia/Library/Caches/pypoetry/virtualenvs/zkstats-brXmXluj-py3.12/lib/python3.12/site-packages (from -r ../../requirements.txt (line 2)) (2.2.0)\n",
      "Requirement already satisfied: requests in /Users/mhchia/Library/Caches/pypoetry/virtualenvs/zkstats-brXmXluj-py3.12/lib/python3.12/site-packages (from -r ../../requirements.txt (line 3)) (2.31.0)\n",
      "Requirement already satisfied: scipy in /Users/mhchia/Library/Caches/pypoetry/virtualenvs/zkstats-brXmXluj-py3.12/lib/python3.12/site-packages (from -r ../../requirements.txt (line 4)) (1.12.0)\n",
      "Requirement already satisfied: numpy in /Users/mhchia/Library/Caches/pypoetry/virtualenvs/zkstats-brXmXluj-py3.12/lib/python3.12/site-packages (from -r ../../requirements.txt (line 5)) (1.26.3)\n",
      "Requirement already satisfied: matplotlib in /Users/mhchia/Library/Caches/pypoetry/virtualenvs/zkstats-brXmXluj-py3.12/lib/python3.12/site-packages (from -r ../../requirements.txt (line 6)) (3.8.2)\n",
      "Requirement already satisfied: statistics in /Users/mhchia/Library/Caches/pypoetry/virtualenvs/zkstats-brXmXluj-py3.12/lib/python3.12/site-packages (from -r ../../requirements.txt (line 7)) (1.0.3.5)\n",
      "Requirement already satisfied: onnx in /Users/mhchia/Library/Caches/pypoetry/virtualenvs/zkstats-brXmXluj-py3.12/lib/python3.12/site-packages (from -r ../../requirements.txt (line 8)) (1.15.0)\n",
      "Requirement already satisfied: filelock in /Users/mhchia/Library/Caches/pypoetry/virtualenvs/zkstats-brXmXluj-py3.12/lib/python3.12/site-packages (from torch->-r ../../requirements.txt (line 2)) (3.13.1)\n",
      "Requirement already satisfied: typing-extensions>=4.8.0 in /Users/mhchia/Library/Caches/pypoetry/virtualenvs/zkstats-brXmXluj-py3.12/lib/python3.12/site-packages (from torch->-r ../../requirements.txt (line 2)) (4.9.0)\n",
      "Requirement already satisfied: sympy in /Users/mhchia/Library/Caches/pypoetry/virtualenvs/zkstats-brXmXluj-py3.12/lib/python3.12/site-packages (from torch->-r ../../requirements.txt (line 2)) (1.12)\n",
      "Requirement already satisfied: networkx in /Users/mhchia/Library/Caches/pypoetry/virtualenvs/zkstats-brXmXluj-py3.12/lib/python3.12/site-packages (from torch->-r ../../requirements.txt (line 2)) (3.2.1)\n",
      "Requirement already satisfied: jinja2 in /Users/mhchia/Library/Caches/pypoetry/virtualenvs/zkstats-brXmXluj-py3.12/lib/python3.12/site-packages (from torch->-r ../../requirements.txt (line 2)) (3.1.3)\n",
      "Requirement already satisfied: fsspec in /Users/mhchia/Library/Caches/pypoetry/virtualenvs/zkstats-brXmXluj-py3.12/lib/python3.12/site-packages (from torch->-r ../../requirements.txt (line 2)) (2023.12.2)\n",
      "Requirement already satisfied: charset-normalizer<4,>=2 in /Users/mhchia/Library/Caches/pypoetry/virtualenvs/zkstats-brXmXluj-py3.12/lib/python3.12/site-packages (from requests->-r ../../requirements.txt (line 3)) (3.3.2)\n",
      "Requirement already satisfied: idna<4,>=2.5 in /Users/mhchia/Library/Caches/pypoetry/virtualenvs/zkstats-brXmXluj-py3.12/lib/python3.12/site-packages (from requests->-r ../../requirements.txt (line 3)) (3.6)\n",
      "Requirement already satisfied: urllib3<3,>=1.21.1 in /Users/mhchia/Library/Caches/pypoetry/virtualenvs/zkstats-brXmXluj-py3.12/lib/python3.12/site-packages (from requests->-r ../../requirements.txt (line 3)) (2.2.0)\n",
      "Requirement already satisfied: certifi>=2017.4.17 in /Users/mhchia/Library/Caches/pypoetry/virtualenvs/zkstats-brXmXluj-py3.12/lib/python3.12/site-packages (from requests->-r ../../requirements.txt (line 3)) (2024.2.2)\n",
      "Requirement already satisfied: contourpy>=1.0.1 in /Users/mhchia/Library/Caches/pypoetry/virtualenvs/zkstats-brXmXluj-py3.12/lib/python3.12/site-packages (from matplotlib->-r ../../requirements.txt (line 6)) (1.2.0)\n",
      "Requirement already satisfied: cycler>=0.10 in /Users/mhchia/Library/Caches/pypoetry/virtualenvs/zkstats-brXmXluj-py3.12/lib/python3.12/site-packages (from matplotlib->-r ../../requirements.txt (line 6)) (0.12.1)\n",
      "Requirement already satisfied: fonttools>=4.22.0 in /Users/mhchia/Library/Caches/pypoetry/virtualenvs/zkstats-brXmXluj-py3.12/lib/python3.12/site-packages (from matplotlib->-r ../../requirements.txt (line 6)) (4.47.2)\n",
      "Requirement already satisfied: kiwisolver>=1.3.1 in /Users/mhchia/Library/Caches/pypoetry/virtualenvs/zkstats-brXmXluj-py3.12/lib/python3.12/site-packages (from matplotlib->-r ../../requirements.txt (line 6)) (1.4.5)\n",
      "Requirement already satisfied: packaging>=20.0 in /Users/mhchia/Library/Caches/pypoetry/virtualenvs/zkstats-brXmXluj-py3.12/lib/python3.12/site-packages (from matplotlib->-r ../../requirements.txt (line 6)) (23.2)\n",
      "Requirement already satisfied: pillow>=8 in /Users/mhchia/Library/Caches/pypoetry/virtualenvs/zkstats-brXmXluj-py3.12/lib/python3.12/site-packages (from matplotlib->-r ../../requirements.txt (line 6)) (10.2.0)\n",
      "Requirement already satisfied: pyparsing>=2.3.1 in /Users/mhchia/Library/Caches/pypoetry/virtualenvs/zkstats-brXmXluj-py3.12/lib/python3.12/site-packages (from matplotlib->-r ../../requirements.txt (line 6)) (3.1.1)\n",
      "Requirement already satisfied: python-dateutil>=2.7 in /Users/mhchia/Library/Caches/pypoetry/virtualenvs/zkstats-brXmXluj-py3.12/lib/python3.12/site-packages (from matplotlib->-r ../../requirements.txt (line 6)) (2.8.2)\n",
      "Requirement already satisfied: docutils>=0.3 in /Users/mhchia/Library/Caches/pypoetry/virtualenvs/zkstats-brXmXluj-py3.12/lib/python3.12/site-packages (from statistics->-r ../../requirements.txt (line 7)) (0.20.1)\n",
      "Requirement already satisfied: protobuf>=3.20.2 in /Users/mhchia/Library/Caches/pypoetry/virtualenvs/zkstats-brXmXluj-py3.12/lib/python3.12/site-packages (from onnx->-r ../../requirements.txt (line 8)) (4.25.2)\n",
      "Requirement already satisfied: six>=1.5 in /Users/mhchia/Library/Caches/pypoetry/virtualenvs/zkstats-brXmXluj-py3.12/lib/python3.12/site-packages (from python-dateutil>=2.7->matplotlib->-r ../../requirements.txt (line 6)) (1.16.0)\n",
      "Requirement already satisfied: MarkupSafe>=2.0 in /Users/mhchia/Library/Caches/pypoetry/virtualenvs/zkstats-brXmXluj-py3.12/lib/python3.12/site-packages (from jinja2->torch->-r ../../requirements.txt (line 2)) (2.1.4)\n",
      "Requirement already satisfied: mpmath>=0.19 in /Users/mhchia/Library/Caches/pypoetry/virtualenvs/zkstats-brXmXluj-py3.12/lib/python3.12/site-packages (from sympy->torch->-r ../../requirements.txt (line 2)) (1.3.0)\n",
      "\n",
      "\u001b[1m[\u001b[0m\u001b[34;49mnotice\u001b[0m\u001b[1;39;49m]\u001b[0m\u001b[39;49m A new release of pip is available: \u001b[0m\u001b[31;49m23.3.1\u001b[0m\u001b[39;49m -> \u001b[0m\u001b[32;49m24.0\u001b[0m\n",
      "\u001b[1m[\u001b[0m\u001b[34;49mnotice\u001b[0m\u001b[1;39;49m]\u001b[0m\u001b[39;49m To update, run: \u001b[0m\u001b[32;49mpip install --upgrade pip\u001b[0m\n",
      "Note: you may need to restart the kernel to use updated packages.\n"
     ]
    }
   ],
   "source": [
    "pip install -r ../../requirements.txt"
   ]
  },
  {
   "cell_type": "code",
   "execution_count": 2,
   "metadata": {},
   "outputs": [],
   "source": [
    "import ezkl\n",
    "import torch\n",
    "from torch import nn\n",
    "import json\n",
    "import os\n",
    "import time\n",
    "import scipy\n",
    "import numpy as np\n",
    "import matplotlib.pyplot as plt\n",
    "import statistics\n",
    "import math"
   ]
  },
  {
   "cell_type": "code",
   "execution_count": 3,
   "metadata": {},
   "outputs": [],
   "source": [
    "%run -i ../../zkstats/core.py"
   ]
  },
  {
   "attachments": {},
   "cell_type": "markdown",
   "metadata": {},
   "source": []
  },
  {
   "cell_type": "code",
   "execution_count": 4,
   "metadata": {},
   "outputs": [],
   "source": [
    "# init path\n",
    "os.makedirs(os.path.dirname('shared/'), exist_ok=True)\n",
    "os.makedirs(os.path.dirname('prover/'), exist_ok=True)\n",
    "verifier_model_path = os.path.join('shared/verifier.onnx')\n",
    "prover_model_path = os.path.join('prover/prover.onnx')\n",
    "verifier_compiled_model_path = os.path.join('shared/verifier.compiled')\n",
    "prover_compiled_model_path = os.path.join('prover/prover.compiled')\n",
    "pk_path = os.path.join('shared/test.pk')\n",
    "vk_path = os.path.join('shared/test.vk')\n",
    "proof_path = os.path.join('shared/test.pf')\n",
    "settings_path = os.path.join('shared/settings.json')\n",
    "srs_path = os.path.join('shared/kzg.srs')\n",
    "witness_path = os.path.join('prover/witness.json')\n",
    "# this is private to prover since it contains actual data\n",
    "sel_data_path = os.path.join('prover/sel_data.json')\n",
    "# this is just dummy random value\n",
    "sel_dummy_data_path = os.path.join('shared/sel_dummy_data.json')"
   ]
  },
  {
   "attachments": {},
   "cell_type": "markdown",
   "metadata": {},
   "source": [
    "=======================  ZK-STATS FLOW ======================="
   ]
  },
  {
   "cell_type": "code",
   "execution_count": 5,
   "metadata": {},
   "outputs": [],
   "source": [
    "data_path = os.path.join('data.json')\n",
    "dummy_data_path = os.path.join('shared/dummy_data.json')\n",
    "create_dummy(data_path, dummy_data_path)"
   ]
  },
  {
   "cell_type": "code",
   "execution_count": 6,
   "metadata": {},
   "outputs": [],
   "source": [
    "scales = [8]\n",
    "selected_columns = ['col_name']\n",
    "commitment_maps = get_data_commitment_maps(data_path, scales)"
   ]
  },
  {
   "cell_type": "code",
   "execution_count": 7,
   "metadata": {},
   "outputs": [
    {
     "name": "stderr",
     "output_type": "stream",
     "text": [
      "/Users/mhchia/projects/work/pse/zk-stats-lib/zkstats/computation.py:166: TracerWarning: torch.tensor results are registered as constants in the trace. You can safely ignore this warning if you use this function to create tensors out of constant variables that would be the same every time you call this function. In any other case, this might cause the trace to be incorrect.\n",
      "  is_precise_aggregated = torch.tensor(1.0)\n",
      "/Users/mhchia/Library/Caches/pypoetry/virtualenvs/zkstats-brXmXluj-py3.12/lib/python3.12/site-packages/torch/onnx/symbolic_opset9.py:2174: FutureWarning: 'torch.onnx.symbolic_opset9._cast_Bool' is deprecated in version 2.0 and will be removed in the future. Please Avoid using this function and create a Cast node instead.\n",
      "  return fn(g, to_cast_func(g, input, False), to_cast_func(g, other, False))\n"
     ]
    }
   ],
   "source": [
    "# Verifier/ data consumer side: send desired calculation\n",
    "from zkstats.computation import computation_to_model, State\n",
    "\n",
    "\n",
    "def computation(s: State, data: list[torch.Tensor]) -> torch.Tensor:\n",
    "    x = data[0]\n",
    "    return s.median(x)\n",
    "\n",
    "error = 0.0001\n",
    "_, verifier_model = computation_to_model(computation, error)\n",
    "\n",
    "verifier_define_calculation(dummy_data_path, selected_columns, sel_dummy_data_path, verifier_model, verifier_model_path)"
   ]
  },
  {
   "cell_type": "code",
   "execution_count": 8,
   "metadata": {},
   "outputs": [
    {
     "name": "stdout",
     "output_type": "stream",
     "text": [
      "==== Generate & Calibrate Setting ====\n",
      "scale:  [8]\n",
      "setting:  {\"run_args\":{\"tolerance\":{\"val\":0.0,\"scale\":1.0},\"input_scale\":8,\"param_scale\":8,\"scale_rebase_multiplier\":10,\"lookup_range\":[-24884,24986],\"logrows\":16,\"num_inner_cols\":2,\"variables\":[[\"batch_size\",1]],\"input_visibility\":{\"Hashed\":{\"hash_is_public\":true,\"outlets\":[]}},\"output_visibility\":\"Public\",\"param_visibility\":\"Private\"},\"num_rows\":14432,\"total_assignments\":12053,\"total_const_size\":1816,\"model_instance_shapes\":[[1],[1]],\"model_output_scales\":[0,8],\"model_input_scales\":[8],\"module_sizes\":{\"kzg\":[],\"poseidon\":[14432,[1]],\"elgamal\":[0,[0]]},\"required_lookups\":[\"Abs\",{\"GreaterThan\":{\"a\":0.0}},\"KroneckerDelta\"],\"check_mode\":\"UNSAFE\",\"version\":\"7.0.0\",\"num_blinding_factors\":null}\n"
     ]
    }
   ],
   "source": [
    "# Prover/ data owner side\n",
    "_, prover_model = computation_to_model(computation, error)\n",
    "\n",
    "prover_gen_settings(data_path, selected_columns, sel_data_path, prover_model,prover_model_path, scales, \"resources\", settings_path)"
   ]
  },
  {
   "cell_type": "code",
   "execution_count": 9,
   "metadata": {},
   "outputs": [
    {
     "name": "stderr",
     "output_type": "stream",
     "text": [
      "spawning module 0\n",
      "spawning module 2\n"
     ]
    },
    {
     "name": "stdout",
     "output_type": "stream",
     "text": [
      "==== setting up ezkl ====\n"
     ]
    },
    {
     "name": "stderr",
     "output_type": "stream",
     "text": [
      "spawning module 0\n",
      "spawning module 2\n"
     ]
    },
    {
     "name": "stdout",
     "output_type": "stream",
     "text": [
      "Time setup: 12.05522108078003 seconds\n",
      "=======================================\n",
      "==== Generating Witness ====\n",
      "witness boolean:  1.0\n",
      "witness result 1 : 49.55078125\n",
      "==== Generating Proof ====\n"
     ]
    },
    {
     "name": "stderr",
     "output_type": "stream",
     "text": [
      "spawning module 0\n",
      "spawning module 2\n"
     ]
    },
    {
     "name": "stdout",
     "output_type": "stream",
     "text": [
      "proof:  {'instances': [[[3042937791208075219, 8157070662846698822, 3804781648660056856, 172406108020799675], [12436184717236109307, 3962172157175319849, 7381016538464732718, 1011752739694698287], [18341455175509539295, 12796101019039945164, 1607286914885633240, 1929881192315725821]]], 'proof': '1855e44b44516d4d9c5bfadbd2fe4399875ffccd667f28f86246f8c00d2cc18b01ed269be180d1899d595710036c63da0d01da1df683cdd7c066c06b44f0c37618b8eca1dd85203d254fc5a1a183353acf4719c85f9241fbfb7def0d939339331d8cd5f67e5610d5dc22d54db26e2646adf0def1519a0f4bf95ee57fd044464d2d2a8cb026954177fd08d139bc6ef98e5bc57ad8cc00149198134eeb0b58b87418353df4bbf72603ac3e20508049d25bc918a8cd2ea689e2158decd7560f585427e88ebde550f7ce1cacff4ee8d92d6777d34683a1df24f8b756f5531b925d46167676f7109bb990cb0dd4705cb1ad5a276fc6604fe513866df4cb5799dc044014f1c9bb8e4e30c6fe736625e5bdf3821274aab29a1ef5fdeac3bba339ea417311cdaa313fe068b20b010a6a81e7447ce79ace746914ce90454120890d34ed230ac49a2b3d74f4d6add7bf00bda28e938beb17baa300a2e845696f9d6e12b997058d831925a855fdece37f532339f94d785c536d27c76f34e79f71bcd9caa8c911d72f37585e002c3e97da8d8f87dc60371d768a2002008131bd7a140f2019ce0c7148081fa54d4e691a006331cece13b8cd378e531489d66c1dc94e4629d95816422acbc7aa28a973416c233bd16be37485bbdb81d5161c056c056187a4424c2fdc99ef0b1bc8190ddc85d96cef2bb1d51b3619231a2209b92408313f38c22e1f6ce69786819074ab9863c7957aabc5a154ad02cf8e157eb2b999fb782f59a619fefed55be32cb3c258102ac8c66c11b4e57a204963531d3bc7aa3aea9cd25215b666e40bb5347c2c3a322bbd78060878149c09c7699080337c52e380ea4b540bcb115725ca3263d761714e561b16f8df2e49d39d6c89a62e43c4c695714642107d9b6aa4776a529e2ca666e4281c91d26e745b51e7088ec0257fe33767f51d06e1adff0454c5a6909a704b1cd4fb1cfaaed2a44eec4f8733f8b567cae23fe41a69b1a4fb9e9d0bd612632d7ef1ebd9b645c4e3dbacf4dcfc79fa527bc346c801e2040911dc546218f1c1647d0152c2f280099e9741fef2136de6578ac55f871c74687957b3332ae9deafa56b2150233407c55911f5963be092cda6646b7b0a23dfc127679ec3d019b221b257719fd0f99433698160b1f4c8fc49b34fa466a7089e642b992a266e759fc9f4204d842396121b6baade0835f2f7f996e3cc3b59275266ffc6aa76449e7889ad069206d6f5adcc25f26dea63be053f111b2cf37810923fc17f250f67ea7d803fbab9e04874f72097b6846c22a3c3f63e8991af6e29fc13f6d413264d51b687e311ca85a42d45c84aa11ae401a823f20ff9c6ec41103bd2da8c3393744e60be533533f176016d8eaf85f28b3b51f1006d2d2b725e0cf26aefc1147a9a946f1c7b98adfed1f7256ebeac3695ed90a97c4fa7a767ba0662a255dcde94c65f59966af81a681be8c64a127b0702630e38af2908ef54a5020899ee2da094cd62bba8699ddd2e3bb17c3023d0c66987fea8f703cbeb8b811fb40117b47721216511c346dd9d68217c47909680c5198e07f30001361a82722ccc7353e3e29087e47e4c778f3a0189219650e9a840f26b65b1998a98c3015126f8515bc7c2abe8070f9296cb234ade37ff771b9f002e206b7eea65c4c25cf622628bcd156e5be764fe3d4bb3c14426cb129c5111b9b463d4ba44ffd827d7911f4c50be3e766e74e67044fe8f517d73385066f8e71233f88a9828905ea6bddd05d03aed0955abe8a71c0932edbc4bdba8827792c4a97902851a36e7868cc1432eae4bca9dabe8de36c158386f770042a9b14d1dc62550e9561c2edf4d0250d918fade03a5b17d52601c0753ce4281f6331f47adaa5093cbf9f496d400874fc5160a3bccda783fdcd5967999fc76d7315ec4c34789f50403d4e8637aed958a031650d058245fc4471bcf1c84727d6ba1137f4154753c62665c4b1da9ce7791f92dbc61801057e0a3dc0363ebdc8e74c022bd089e6161e24e9f5ce666ff223b452f020b13974f32399db26256a2495ff53267106a5ed514a51de75a711db96bfa0db8448cfa49fe268d5fc75b084395cfb04a54a0f14f3f578bd2623dd1266cf824139ab46257f3c10ec5a5842834136f26a8f0c9c4c9f7758e97ce9d3fc95644152fc11256c7161077b9bd68df059184e49ccdd2cdb7157448a389625f5ea68e07b7b460e38c70c02988cdc776f1416311ee14409ae88836f9fc981f4c8b4a502de43ee82272e070c63347e952cb168617e51886fbd5a29b255bba162d037cc301ad008a6526cc845c321936fae259d66f1d119b0f7682ff7b20e7a59ff021281b7d4bfb2bbf42fef82fa660afda749821aa0fbf84af56a8c48c46ca2816d2d51402bc14789ad3f846627cbf76491f26b01db551102c5eaf03bdd6ad093a9bdb1756be2b13d7b87f1a09853430360e4f9b1dead25a8e958b94253bc3cc6cee8b0fade770411f3c4ba29d81588f1fd2c63a56dab5f2d67f6ccee1ac5c6c650d5e071afa6f2677bf150a9bc69003ffeb27f3ca0079d3884870f8cf63bff009da9722d7b7dab238b1bd051b4c7c93b734c91fa83c87c2723185e4a86a3db74596bf2352ab6901311181f9b5636724e479cb07725c2496ba9d17a64806533e80d13219ac7260a89063ad6b20fa483adb5b0bd9c31a321811753f9a1e9a8db6b004720757be3bf14153bd1832df9607a4758025ae479b252ff59d3d3aa5e0fcb2cc48062ed2ff99c1363849daf34e564967dfd6e65700e8d06c2b33b2a4580911d3970687079f95d78838bccf868a26138b4812ff25e59eed35c547c9b8fe5b6b19611c5c56b2cd9777a540fe59d18d8e011f50d361e68b9598ace1ae817e72af96e929ba185f8d6e74861bea8971a70dfa521a8e6369c0da6ca21d8e9e4156d11b3d2676ed203b92965c4f4c21e999b80a23678082d23ce69f124920a8d4ddf3de6c02431505cb95fac59d7249277b5cdd358ec97c41dba05321f3dc3f935f7b05e10d47ec1275084d0441fb0d405160c0fc01544aa3f82c87797a8ac8e69aab739104240ea8c9aaadfe206330e14b40dce22f7144ca313e0070677bb5a6eaf634670597ab9622fdcb1dbd9687efe97513687a4319fa7f0276c66e63c31b5fdc3bdb0d3175d4babc3e20aab92d8d1686b88ce2c08693c79f1014baf9710d670ac0010ccce1a69d1a800e63025be3a677a5801bbb17542116c1a8c7055380564a309020d5201204240336eac75f1351eea510788c9132915fae404ed1251d8afe1ed114d4ed72825d3bc8477096f5fa48b7c582ca6ea3c7a599c9eb4bcc00fb62676f22314fd0f98613ea6b13dbf32497eef53801c21c263af9d0190a636aab86700f03e3a9b4a9aa850b3981feab6ed18846e5b5b9e297bb033022235fca56da67681151a1560c907172e6bb4358509c0cbc995db657abab9db295ad86f2e56e0fa306709520e87eea732a2c3eacc0c50e41b5eacce0db70d3771d4f1151b49765df2049b7a61095f2d2b9d8849971cd40f4cd783bce97ec56754c306df9bea2536d10111cc85c33bffbd7b3cf6110a461db60df9e61edd46a85011e477e5c9808bb201e9c43e5ebc8b3a5b0d60d09e1d6682ca8b591878da15f1a55c9abe108294a23642186f909449085d1bf713eeebbac3914a37eea3e6e9705ac30c7c841049c2d3944363b24692b485496ee35e209a5c8c53934c16493e3152ace44380ac4350a715ecc5c80745c14fa876f9a06185899132a19f0bfccb4406ccc3ed8138b0e065491776c2e149b83d6ae65dcbb1400469e553c8507bffd6f29043e1c6569561edae052e250cc57cfef6783d6e6f39654d8a5f74ae39298d1588de19756e6f7160875fed2134d3afb2e71aa039480b8f3f36d4d789ed4417d7e3afec0aa5d9e1f5933566826cc452f2150b544016f3218e5f4416681102ebaf1cbb3690a5f36000000000000000000000000000000000000000000000000000000000000000021168e7a02b5713a4367bfae69b0bbaf391c9e1bba88ffc645937128659ed9ed2482ebf27a91c556a7ad3e98a5cc57bd00aacd34408631a92d20946fbcbf93c00304e7d25974817d6241d173ae49762e6eedd470b261306ca270cd40ed58f0b1260be481d00be3cd4480e39d02007fb9e1def4ffa5d026f42b624e538b6a8b6c2e78adbcfc2a3c9eab57130ddd73cb06b37d39b560bf9676680eaa19a2e4e2561bb53d22e86de987c46167231da89ab87cbdd5995f6fdeed68dff8d0220a7f7e2a276e5a1d3f505480e99d2ea9a06fcd914e99f5dd210e2defa5ef5ae388a79009a04a4ded77445a8e010d3cf72a38d7868c62dc72439051753deb4f87909266284a5dd2cda366f7dd499f9e9ddfdaa97b911c7305de63eb622ac2513e3fd8831a9b9989309c26a427c2e4dafece8d59291072ccef83e1d946149cc8512fe592265e59b32c4dbd56084ba4145e1d9ec6bc18eb9f128767a746b95dc50a40f2a80c66bd389e75494fcb999e805c8ab293a67654f7728cc9e12ef9727e480d11da1c9255cc41993f961f958bf0ead7ead3812843633e4779990068b84b3e6394dd1ee384be3de86d5d494437a7353d7dc7e4c892b4b53a84c2936f41403b3e2efc2c7fe65a11b0a5c8f780e828d8b4418f64356e95b05287a7b7790b259342383d2be8d1825e5851b07508236d0afcd09c5d51405b64a5bfa2b656e9ad5874c1a215bac3cb8aae0bdfadf55f9b1fccbfe04844e4c6910b81a0cd66c7efa2e9bd1c0abbcc474f0ce16cba372dc9eb213b82d8f3003ea962a52618fb11e2c3d56a610321de0c7eccafc9919fb2e04ffb560dedc9d8a927e9be25f26971f82734ed150c616bf6ec4b60f39fe6e60a2290bfcf975ba3394df757b59a633cc552362c661c5bd6a84ec86abc0a41bf2199ec25245312e9525cbdc420d8ee840fd7050ef819a48bd6676d1b00fff74ede238c9b7bb298293d4b628659475b775bfe59ba952e8d18113027854b272470c2bcf33c84c93a9486329755e3638a2ebe121a57c01a82858c24d620799b70e3f15e112dd594b64f1aed38fc24606beee91ffd82fd156c2be32dd0f95d2afe5c4149e7ecb1f5717021e1f2993c673bcd56a4eb10c8128676bc7eaa8caaa8755c751f99fd1f952547b4ad5060442f5f2f3352c7794a2f79b690250a00cf8fe2a9ef68136149973c682bf33b81af9ede8ee6afae7d8e13345fc632f3da4497d50601a56b3ff2e0f665a7389708a70d2e3e0840d63f5122fd135cbe339a4ecc6124b765beb1e872a3486b6c6436aa3b9c09866e8e4af5206f87a550729645672b308cbbd9e8bdae442f27fa05728eac817d14fe2385ef20f570aa052b3e19fc15e308db5fb6435b0d0e3366a608554d996432aa11ca7c0c8860e3e772499ad697dfc80f84764fd89ee617953bdaeaa13cc45c2336a4732f4b60d30eef92e80a6f443953fa9cfa1f2f626dae2bd46888ae91cd14c6a00a2752831f442f4647655beef395805b78ec751f2fbaa8ec51f16a468be254269d22ce42951b1b4e5af242f24b4c6983383922c180e53a1081e99a3248b7600f9f0dc61081dbfbb5b418a77e4ca4ec33626240599808547e17cc1cd9603dcd9a1b2f892c3e7d981bb79e8546fac20f55a438457d03ffaa71fe070efc8194b29f7c22fbd54a9602159d2b0857e332f461d906e2aacc2ee4b566f9b6dbe652ec73641c68f57a710f040493bb8aa4065f40ad9cf0929ac35b749fcdd1a61847b0ab5706fe58250f762adec113c91477b2902fb34f187e7cb75b182ac889ac98fee8a90a888ab522e2ca0c89d7c0a9f7e088297535539461b1bcfbc78cef6c01ba661d04de488ee1ec4a54b8762ae51475954d35939f03354e40ca296d62ab0d316a5b2a31dad9b2ecad79b6fd73538f24e3d35a93784c0ad65a8a72227921de3d4cd61d109fa8162416590a6432f8bc8e357acb2910cace5d31bc427ec57a26d65bd91782eed2f9dd7c319a4e14d04bd58c2364e6154dd5bc853df038cf2338a26d0c3026adccd0be325f927c3feb694f90ecc00d193b72b22e6272f4728031e17fbb0490904a0480893b2d2ddbc71391b64387ba3658857cbba803479e5e3aa58d7c1d887fdfe67d42e0902623ad703e8ad54f61937a63ba8b92f02030f1a7bfbe192832cdacea56f76d2c8391242c7491336fd903b4799f9d2592523119998b8b5a143e71c920f361c3edec981a6b217cb5318de4ef142f13d24175a664229eab2e0f1355b7a5b46e4f943f6c21d0eec1b5b62f1dcb5af02abca3ad9b5299ee90e4', 'transcript_type': 'EVM'}\n",
      "Time gen prf: 16.33832335472107 seconds\n"
     ]
    }
   ],
   "source": [
    "# Here verifier & prover can concurrently call setup since all params are public to get pk.\n",
    "# Here write as verifier function to emphasize that verifier must calculate its own vk to be sure\n",
    "setup(verifier_model_path, verifier_compiled_model_path, settings_path,vk_path, pk_path )\n",
    "\n",
    "print(\"=======================================\")\n",
    "# Prover generates proof\n",
    "prover_gen_proof(prover_model_path, sel_data_path, witness_path, prover_compiled_model_path, settings_path, proof_path, pk_path)"
   ]
  },
  {
   "cell_type": "code",
   "execution_count": 10,
   "metadata": {},
   "outputs": [
    {
     "name": "stdout",
     "output_type": "stream",
     "text": [
      "Verifier gets result: 49.55078125\n"
     ]
    }
   ],
   "source": [
    "# Verifier verifies\n",
    "res = verifier_verify(proof_path, settings_path, vk_path, selected_columns, commitment_maps)\n",
    "print(\"Verifier gets result:\", res)"
   ]
  }
 ],
 "metadata": {
  "kernelspec": {
   "display_name": "Python 3",
   "language": "python",
   "name": "python3"
  },
  "language_info": {
   "codemirror_mode": {
    "name": "ipython",
    "version": 3
   },
   "file_extension": ".py",
   "mimetype": "text/x-python",
   "name": "python",
   "nbconvert_exporter": "python",
   "pygments_lexer": "ipython3",
   "version": "3.12.1"
  },
  "orig_nbformat": 4
 },
 "nbformat": 4,
 "nbformat_minor": 2
}
