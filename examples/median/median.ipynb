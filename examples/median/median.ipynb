{
 "cells": [
  {
   "cell_type": "code",
   "execution_count": 9,
   "metadata": {},
   "outputs": [
    {
     "name": "stdout",
     "output_type": "stream",
     "text": [
      "Requirement already satisfied: ezkl==5.4.2 in /Library/Frameworks/Python.framework/Versions/3.10/lib/python3.10/site-packages (from -r ../../requirements.txt (line 1)) (5.4.2)\n",
      "Requirement already satisfied: torch in /Library/Frameworks/Python.framework/Versions/3.10/lib/python3.10/site-packages (from -r ../../requirements.txt (line 2)) (2.1.1)\n",
      "Requirement already satisfied: requests in /Library/Frameworks/Python.framework/Versions/3.10/lib/python3.10/site-packages (from -r ../../requirements.txt (line 3)) (2.31.0)\n",
      "Requirement already satisfied: scipy in /Library/Frameworks/Python.framework/Versions/3.10/lib/python3.10/site-packages (from -r ../../requirements.txt (line 4)) (1.11.4)\n",
      "Requirement already satisfied: numpy in /Library/Frameworks/Python.framework/Versions/3.10/lib/python3.10/site-packages (from -r ../../requirements.txt (line 5)) (1.26.2)\n",
      "Requirement already satisfied: matplotlib in /Library/Frameworks/Python.framework/Versions/3.10/lib/python3.10/site-packages (from -r ../../requirements.txt (line 6)) (3.8.2)\n",
      "Requirement already satisfied: statistics in /Library/Frameworks/Python.framework/Versions/3.10/lib/python3.10/site-packages (from -r ../../requirements.txt (line 7)) (1.0.3.5)\n",
      "Requirement already satisfied: onnx in /Library/Frameworks/Python.framework/Versions/3.10/lib/python3.10/site-packages (from -r ../../requirements.txt (line 8)) (1.15.0)\n",
      "Requirement already satisfied: sympy in /Library/Frameworks/Python.framework/Versions/3.10/lib/python3.10/site-packages (from torch->-r ../../requirements.txt (line 2)) (1.12)\n",
      "Requirement already satisfied: fsspec in /Library/Frameworks/Python.framework/Versions/3.10/lib/python3.10/site-packages (from torch->-r ../../requirements.txt (line 2)) (2023.10.0)\n",
      "Requirement already satisfied: networkx in /Library/Frameworks/Python.framework/Versions/3.10/lib/python3.10/site-packages (from torch->-r ../../requirements.txt (line 2)) (3.2.1)\n",
      "Requirement already satisfied: jinja2 in /Library/Frameworks/Python.framework/Versions/3.10/lib/python3.10/site-packages (from torch->-r ../../requirements.txt (line 2)) (3.1.2)\n",
      "Requirement already satisfied: filelock in /Library/Frameworks/Python.framework/Versions/3.10/lib/python3.10/site-packages (from torch->-r ../../requirements.txt (line 2)) (3.13.1)\n",
      "Requirement already satisfied: typing-extensions in /Library/Frameworks/Python.framework/Versions/3.10/lib/python3.10/site-packages (from torch->-r ../../requirements.txt (line 2)) (4.8.0)\n",
      "Requirement already satisfied: urllib3<3,>=1.21.1 in /Library/Frameworks/Python.framework/Versions/3.10/lib/python3.10/site-packages (from requests->-r ../../requirements.txt (line 3)) (2.1.0)\n",
      "Requirement already satisfied: charset-normalizer<4,>=2 in /Library/Frameworks/Python.framework/Versions/3.10/lib/python3.10/site-packages (from requests->-r ../../requirements.txt (line 3)) (3.3.2)\n",
      "Requirement already satisfied: idna<4,>=2.5 in /Library/Frameworks/Python.framework/Versions/3.10/lib/python3.10/site-packages (from requests->-r ../../requirements.txt (line 3)) (3.6)\n",
      "Requirement already satisfied: certifi>=2017.4.17 in /Library/Frameworks/Python.framework/Versions/3.10/lib/python3.10/site-packages (from requests->-r ../../requirements.txt (line 3)) (2023.11.17)\n",
      "Requirement already satisfied: kiwisolver>=1.3.1 in /Library/Frameworks/Python.framework/Versions/3.10/lib/python3.10/site-packages (from matplotlib->-r ../../requirements.txt (line 6)) (1.4.5)\n",
      "Requirement already satisfied: pyparsing>=2.3.1 in /Library/Frameworks/Python.framework/Versions/3.10/lib/python3.10/site-packages (from matplotlib->-r ../../requirements.txt (line 6)) (3.1.1)\n",
      "Requirement already satisfied: contourpy>=1.0.1 in /Library/Frameworks/Python.framework/Versions/3.10/lib/python3.10/site-packages (from matplotlib->-r ../../requirements.txt (line 6)) (1.2.0)\n",
      "Requirement already satisfied: pillow>=8 in /Library/Frameworks/Python.framework/Versions/3.10/lib/python3.10/site-packages (from matplotlib->-r ../../requirements.txt (line 6)) (10.1.0)\n",
      "Requirement already satisfied: packaging>=20.0 in /Users/jernkun/Library/Python/3.10/lib/python/site-packages (from matplotlib->-r ../../requirements.txt (line 6)) (23.2)\n",
      "Requirement already satisfied: python-dateutil>=2.7 in /Users/jernkun/Library/Python/3.10/lib/python/site-packages (from matplotlib->-r ../../requirements.txt (line 6)) (2.8.2)\n",
      "Requirement already satisfied: cycler>=0.10 in /Library/Frameworks/Python.framework/Versions/3.10/lib/python3.10/site-packages (from matplotlib->-r ../../requirements.txt (line 6)) (0.12.1)\n",
      "Requirement already satisfied: fonttools>=4.22.0 in /Library/Frameworks/Python.framework/Versions/3.10/lib/python3.10/site-packages (from matplotlib->-r ../../requirements.txt (line 6)) (4.45.1)\n",
      "Requirement already satisfied: docutils>=0.3 in /Library/Frameworks/Python.framework/Versions/3.10/lib/python3.10/site-packages (from statistics->-r ../../requirements.txt (line 7)) (0.20.1)\n",
      "Requirement already satisfied: protobuf>=3.20.2 in /Library/Frameworks/Python.framework/Versions/3.10/lib/python3.10/site-packages (from onnx->-r ../../requirements.txt (line 8)) (4.25.1)\n",
      "Requirement already satisfied: six>=1.5 in /Users/jernkun/Library/Python/3.10/lib/python/site-packages (from python-dateutil>=2.7->matplotlib->-r ../../requirements.txt (line 6)) (1.16.0)\n",
      "Requirement already satisfied: MarkupSafe>=2.0 in /Library/Frameworks/Python.framework/Versions/3.10/lib/python3.10/site-packages (from jinja2->torch->-r ../../requirements.txt (line 2)) (2.1.3)\n",
      "Requirement already satisfied: mpmath>=0.19 in /Library/Frameworks/Python.framework/Versions/3.10/lib/python3.10/site-packages (from sympy->torch->-r ../../requirements.txt (line 2)) (1.3.0)\n",
      "\u001b[33mWARNING: You are using pip version 21.2.3; however, version 23.3.1 is available.\n",
      "You should consider upgrading via the '/usr/local/bin/python3 -m pip install --upgrade pip' command.\u001b[0m\n",
      "Note: you may need to restart the kernel to use updated packages.\n"
     ]
    }
   ],
   "source": [
    "pip install -r ../../requirements.txt"
   ]
  },
  {
   "cell_type": "code",
   "execution_count": 76,
   "metadata": {},
   "outputs": [],
   "source": [
    "import ezkl\n",
    "import torch\n",
    "from torch import nn\n",
    "import json\n",
    "import os\n",
    "import time\n",
    "import scipy\n",
    "import numpy as np\n",
    "import matplotlib.pyplot as plt\n",
    "import statistics\n",
    "import math"
   ]
  },
  {
   "cell_type": "code",
   "execution_count": 77,
   "metadata": {},
   "outputs": [],
   "source": [
    "%run -i ../../core.py"
   ]
  },
  {
   "attachments": {},
   "cell_type": "markdown",
   "metadata": {},
   "source": []
  },
  {
   "cell_type": "code",
   "execution_count": 78,
   "metadata": {},
   "outputs": [],
   "source": [
    "# init path\n",
    "os.makedirs(os.path.dirname('shared/'), exist_ok=True)\n",
    "os.makedirs(os.path.dirname('prover/'), exist_ok=True)\n",
    "verifier_model_path = os.path.join('shared/verifier.onnx')\n",
    "prover_model_path = os.path.join('prover/prover.onnx')\n",
    "verifier_compiled_model_path = os.path.join('shared/verifier.compiled')\n",
    "prover_compiled_model_path = os.path.join('prover/prover.compiled')\n",
    "pk_path = os.path.join('shared/test.pk')\n",
    "vk_path = os.path.join('shared/test.vk')\n",
    "proof_path = os.path.join('shared/test.pf')\n",
    "settings_path = os.path.join('shared/settings.json')\n",
    "srs_path = os.path.join('shared/kzg.srs')\n",
    "witness_path = os.path.join('prover/witness.json')\n",
    "# this is private to prover since it contains actual data\n",
    "comb_data_path = os.path.join('prover/comb_data.json')"
   ]
  },
  {
   "attachments": {},
   "cell_type": "markdown",
   "metadata": {},
   "source": [
    "=======================  ZK-STATS FLOW ======================="
   ]
  },
  {
   "cell_type": "code",
   "execution_count": 79,
   "metadata": {},
   "outputs": [],
   "source": [
    "data_path = os.path.join('data.json')\n",
    "dummy_data_path = os.path.join('shared/dummy_data.json')\n",
    "\n",
    "f_raw_input = open(data_path, \"r\")\n",
    "data = json.loads(f_raw_input.read())[\"input_data\"][0]\n",
    "data_tensor = torch.reshape(torch.tensor(data),(1, len(data), 1))\n",
    "\n",
    "dummy_data = np.round(np.random.uniform(1,10,len(data)),1)\n",
    "json.dump({\"input_data\":[dummy_data.tolist()]}, open(dummy_data_path, 'w'))\n",
    "\n",
    "dummy_data_tensor = torch.reshape(torch.tensor(dummy_data), (1, len(dummy_data),1 ))\n",
    "dummy_theory_output = torch.tensor(np.median(dummy_data))\n",
    "# print(int(len(dummy_data)/2))\n",
    "dummy_lower_to_median = torch.tensor(np.sort(dummy_data)[int(len(dummy_data)/2)-1])\n",
    "dummy_upper_to_median = torch.tensor(np.sort(dummy_data)[int(len(dummy_data)/2)])\n"
   ]
  },
  {
   "cell_type": "code",
   "execution_count": 80,
   "metadata": {},
   "outputs": [
    {
     "name": "stdout",
     "output_type": "stream",
     "text": [
      "dummy output:  tensor(5.4000, dtype=torch.float64)\n"
     ]
    },
    {
     "name": "stderr",
     "output_type": "stream",
     "text": [
      "/var/folders/89/y9dw12v976ngdmqz4l7wbsnr0000gn/T/ipykernel_55637/3411461829.py:20: TracerWarning: Converting a tensor to a Python boolean might cause the trace to be incorrect. We can't record the data flow of Python values, so this value will be treated as a constant in the future. This means that the trace might not generalize to other inputs!\n",
      "  if(len%2==0):\n"
     ]
    }
   ],
   "source": [
    "print(\"dummy output: \", dummy_theory_output)\n",
    "# Verifier/ data consumer side: send desired calculation\n",
    "class verifier_model(nn.Module):\n",
    "    def __init__(self):\n",
    "        super(verifier_model, self).__init__()\n",
    "        # w represents mean in this case\n",
    "        self.w = nn.Parameter(data = dummy_theory_output, requires_grad = False)\n",
    "        self.lower = nn.Parameter(data = dummy_lower_to_median, requires_grad = False)\n",
    "        self.upper = nn.Parameter(data = dummy_upper_to_median, requires_grad = False)\n",
    "    def forward(self,X):\n",
    "        # since within 1%, we regard as same value\n",
    "        count_less = torch.sum((X < 0.99*self.w).double())\n",
    "        count_equal = torch.sum((torch.abs(X-self.w)<=torch.abs(0.01*self.w)).double())\n",
    "        len = X.size()[1]\n",
    "        half_len = torch.floor(torch.div(len, 2))\n",
    "\n",
    "        # doesnt support mod if not in conditional\n",
    "       \n",
    "        # For count_equal > 0\n",
    "        if(len%2==0):\n",
    "            is_odd = 0\n",
    "        else:\n",
    "            is_odd = 1\n",
    "        less_cons = count_less<half_len+is_odd\n",
    "        more_cons = count_less+count_equal>half_len\n",
    "        # print(\"more: \", more_cons)\n",
    "\n",
    "\n",
    "        # For count_equal == 0\n",
    "        lower_exist = torch.sum((torch.abs(X-self.lower)<=torch.abs(0.01*self.lower)).double())>0\n",
    "        lower_cons = torch.sum((X>1.01*self.lower).double())==half_len\n",
    "        upper_exist = torch.sum((torch.abs(X-self.upper)<=torch.abs(0.01*self.upper)).double())>0\n",
    "        upper_cons = torch.sum((X<0.99*self.upper).double())==half_len\n",
    "        bound = count_less==half_len\n",
    "        # 0.02 since 2*0.01\n",
    "        bound_avg = (torch.abs(self.lower+self.upper-2*self.w)<=torch.abs(0.02*self.w))\n",
    "\n",
    "        median_in_cons = torch.logical_and(less_cons, more_cons)\n",
    "        median_out_cons = torch.logical_and(torch.logical_and(bound, bound_avg), torch.logical_and(torch.logical_and(lower_cons, upper_cons), torch.logical_and(lower_exist, upper_exist)))\n",
    "\n",
    "        return (median_in_cons*(count_equal!=0)+median_out_cons*(count_equal ==0), self.w)\n",
    "    \n",
    "verifier_define_calculation(verifier_model, verifier_model_path, [dummy_data_path])"
   ]
  },
  {
   "cell_type": "code",
   "execution_count": 81,
   "metadata": {},
   "outputs": [
    {
     "name": "stdout",
     "output_type": "stream",
     "text": [
      "Theory_output:  tensor(49.5500, dtype=torch.float64)\n",
      "lower:  tensor(49.3000, dtype=torch.float64)\n",
      "upper:  tensor(49.8000, dtype=torch.float64)\n"
     ]
    },
    {
     "name": "stderr",
     "output_type": "stream",
     "text": [
      "/var/folders/89/y9dw12v976ngdmqz4l7wbsnr0000gn/T/ipykernel_55637/1656333733.py:26: TracerWarning: Converting a tensor to a Python boolean might cause the trace to be incorrect. We can't record the data flow of Python values, so this value will be treated as a constant in the future. This means that the trace might not generalize to other inputs!\n",
      "  if(len%2==0):\n"
     ]
    },
    {
     "name": "stdout",
     "output_type": "stream",
     "text": [
      "==== Generate & Calibrate Setting ====\n",
      "scale:  default\n",
      "setting:  {\"run_args\":{\"tolerance\":{\"val\":0.0,\"scale\":1.0},\"input_scale\":6,\"param_scale\":6,\"scale_rebase_multiplier\":10,\"lookup_range\":[-6278,6246],\"logrows\":14,\"num_inner_cols\":1,\"variables\":[[\"batch_size\",1]],\"input_visibility\":{\"Hashed\":{\"hash_is_public\":true,\"outlets\":[]}},\"output_visibility\":\"Public\",\"param_visibility\":\"Private\"},\"num_rows\":14432,\"total_assignments\":12047,\"total_const_size\":1819,\"model_instance_shapes\":[[1],[1]],\"model_output_scales\":[0,6],\"model_input_scales\":[6],\"module_sizes\":{\"kzg\":[],\"poseidon\":[14432,[1]],\"elgamal\":[0,[0]]},\"required_lookups\":[\"Abs\",{\"GreaterThan\":{\"a\":0.0}},\"KroneckerDelta\"],\"check_mode\":\"UNSAFE\",\"version\":\"5.0.8\",\"num_blinding_factors\":null}\n"
     ]
    }
   ],
   "source": [
    "# prover calculates settings, send to verifier\n",
    "\n",
    "theory_output = torch.tensor(np.median(data))\n",
    "lower_to_median = torch.tensor(np.sort(data)[int(len(data)/2)-1])\n",
    "upper_to_median = torch.tensor(np.sort(data)[int(len(data)/2)])\n",
    "print(\"Theory_output: \", theory_output)\n",
    "print(\"lower: \", lower_to_median)\n",
    "print(\"upper: \", upper_to_median)\n",
    "class prover_model(nn.Module):\n",
    "    def __init__(self):\n",
    "        super(prover_model, self).__init__()\n",
    "        # w represents mean in this case\n",
    "        self.w = nn.Parameter(data = theory_output, requires_grad = False)\n",
    "        self.lower = nn.Parameter(data = lower_to_median, requires_grad = False)\n",
    "        self.upper = nn.Parameter(data = upper_to_median, requires_grad = False)\n",
    "    def forward(self,X):\n",
    "        # since within 1%, we regard as same value\n",
    "        count_less = torch.sum((X < 0.99*self.w).double())\n",
    "        count_equal = torch.sum((torch.abs(X-self.w)<=torch.abs(0.01*self.w)).double())\n",
    "        len = X.size()[1]\n",
    "        half_len = torch.floor(torch.div(len, 2))\n",
    "\n",
    "        # doesnt support mod if not in conditional\n",
    "       \n",
    "        # For count_equal > 0\n",
    "        if(len%2==0):\n",
    "            is_odd = 0\n",
    "        else:\n",
    "            is_odd = 1\n",
    "        less_cons = count_less<half_len+is_odd\n",
    "        more_cons = count_less+count_equal>half_len\n",
    "        # print(\"more: \", more_cons)\n",
    "\n",
    "\n",
    "        # For count_equal == 0\n",
    "        lower_exist = torch.sum((torch.abs(X-self.lower)<=torch.abs(0.01*self.lower)).double())>0\n",
    "        lower_cons = torch.sum((X>1.01*self.lower).double())==half_len\n",
    "        upper_exist = torch.sum((torch.abs(X-self.upper)<=torch.abs(0.01*self.upper)).double())>0\n",
    "        upper_cons = torch.sum((X<0.99*self.upper).double())==half_len\n",
    "        bound = count_less==half_len\n",
    "        # 0.02 since 2*0.01\n",
    "        bound_avg = (torch.abs(self.lower+self.upper-2*self.w)<=torch.abs(0.02*self.w))\n",
    "\n",
    "        median_in_cons = torch.logical_and(less_cons, more_cons)\n",
    "        median_out_cons = torch.logical_and(torch.logical_and(bound, bound_avg), torch.logical_and(torch.logical_and(lower_cons, upper_cons), torch.logical_and(lower_exist, upper_exist)))\n",
    "        \n",
    "        return (median_in_cons*(count_equal!=0)+median_out_cons*(count_equal ==0), self.w)\n",
    "\n",
    " \n",
    "\n",
    "prover_gen_settings([data_path], comb_data_path, prover_model,prover_model_path, \"default\", \"resources\", settings_path)"
   ]
  },
  {
   "cell_type": "code",
   "execution_count": 82,
   "metadata": {},
   "outputs": [
    {
     "name": "stderr",
     "output_type": "stream",
     "text": [
      "spawning module 0\n"
     ]
    },
    {
     "name": "stdout",
     "output_type": "stream",
     "text": [
      "==== setting up ezkl ====\n"
     ]
    },
    {
     "name": "stderr",
     "output_type": "stream",
     "text": [
      "spawning module 2\n",
      "spawning module 0\n",
      "spawning module 2\n",
      "spawning module 0\n"
     ]
    },
    {
     "name": "stdout",
     "output_type": "stream",
     "text": [
      "Time setup: 1.626837968826294 seconds\n",
      "=======================================\n",
      "Theory output:  tensor(49.5500, dtype=torch.float64)\n",
      "==== Generating Witness ====\n",
      "witness boolean:  1.0\n",
      "witness result 1 : 49.546875\n",
      "==== Generating Proof ====\n"
     ]
    },
    {
     "name": "stderr",
     "output_type": "stream",
     "text": [
      "spawning module 2\n"
     ]
    },
    {
     "name": "stdout",
     "output_type": "stream",
     "text": [
      "proof:  {'instances': [[[3241277322567916088, 15136847618162288068, 13095027618627327699, 3297383697173931210], [12436184717236109307, 3962172157175319849, 7381016538464732718, 1011752739694698287], [15311375669850521209, 11431854252320932136, 7779939630960000938, 229532113155256883]]], 'proof': '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', 'transcript_type': 'EVM'}\n",
      "Time gen prf: 2.2880380153656006 seconds\n"
     ]
    }
   ],
   "source": [
    "# Here verifier & prover can concurrently call setup since all params are public to get pk. \n",
    "# Here write as verifier function to emphasize that verifier must calculate its own vk to be sure\n",
    "verifier_setup(verifier_model_path, verifier_compiled_model_path, settings_path, srs_path,vk_path, pk_path )\n",
    "\n",
    "print(\"=======================================\")\n",
    "# Prover generates proof\n",
    "print(\"Theory output: \", theory_output)\n",
    "prover_gen_proof(prover_model_path, comb_data_path, witness_path, prover_compiled_model_path, settings_path, proof_path, pk_path, srs_path)"
   ]
  },
  {
   "cell_type": "code",
   "execution_count": 83,
   "metadata": {},
   "outputs": [
    {
     "name": "stdout",
     "output_type": "stream",
     "text": [
      "num_inputs:  1\n",
      "prf instances:  [[[3241277322567916088, 15136847618162288068, 13095027618627327699, 3297383697173931210], [12436184717236109307, 3962172157175319849, 7381016538464732718, 1011752739694698287], [15311375669850521209, 11431854252320932136, 7779939630960000938, 229532113155256883]]]\n",
      "proof boolean:  1.0\n",
      "proof result 1 : 49.546875\n",
      "verified\n"
     ]
    }
   ],
   "source": [
    "# Verifier verifies\n",
    "verifier_verify(proof_path, settings_path, vk_path, srs_path)"
   ]
  },
  {
   "cell_type": "code",
   "execution_count": null,
   "metadata": {},
   "outputs": [],
   "source": []
  },
  {
   "cell_type": "code",
   "execution_count": null,
   "metadata": {},
   "outputs": [],
   "source": []
  }
 ],
 "metadata": {
  "kernelspec": {
   "display_name": "Python 3",
   "language": "python",
   "name": "python3"
  },
  "language_info": {
   "codemirror_mode": {
    "name": "ipython",
    "version": 3
   },
   "file_extension": ".py",
   "mimetype": "text/x-python",
   "name": "python",
   "nbconvert_exporter": "python",
   "pygments_lexer": "ipython3",
   "version": "3.10.0"
  },
  "orig_nbformat": 4
 },
 "nbformat": 4,
 "nbformat_minor": 2
}
