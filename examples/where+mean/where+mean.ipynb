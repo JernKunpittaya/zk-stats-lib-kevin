{
 "cells": [
  {
   "cell_type": "code",
   "execution_count": 40,
   "metadata": {},
   "outputs": [
    {
     "name": "stdout",
     "output_type": "stream",
     "text": [
      "Requirement already satisfied: ezkl==7.0.0 in /Library/Frameworks/Python.framework/Versions/3.10/lib/python3.10/site-packages (from -r ../../requirements.txt (line 1)) (7.0.0)\n",
      "Requirement already satisfied: torch in /Library/Frameworks/Python.framework/Versions/3.10/lib/python3.10/site-packages (from -r ../../requirements.txt (line 2)) (2.1.1)\n",
      "Requirement already satisfied: requests in /Library/Frameworks/Python.framework/Versions/3.10/lib/python3.10/site-packages (from -r ../../requirements.txt (line 3)) (2.31.0)\n",
      "Requirement already satisfied: scipy in /Library/Frameworks/Python.framework/Versions/3.10/lib/python3.10/site-packages (from -r ../../requirements.txt (line 4)) (1.11.4)\n",
      "Requirement already satisfied: numpy in /Library/Frameworks/Python.framework/Versions/3.10/lib/python3.10/site-packages (from -r ../../requirements.txt (line 5)) (1.26.2)\n",
      "Requirement already satisfied: matplotlib in /Library/Frameworks/Python.framework/Versions/3.10/lib/python3.10/site-packages (from -r ../../requirements.txt (line 6)) (3.8.2)\n",
      "Requirement already satisfied: statistics in /Library/Frameworks/Python.framework/Versions/3.10/lib/python3.10/site-packages (from -r ../../requirements.txt (line 7)) (1.0.3.5)\n",
      "Requirement already satisfied: onnx in /Library/Frameworks/Python.framework/Versions/3.10/lib/python3.10/site-packages (from -r ../../requirements.txt (line 8)) (1.15.0)\n",
      "Requirement already satisfied: jinja2 in /Library/Frameworks/Python.framework/Versions/3.10/lib/python3.10/site-packages (from torch->-r ../../requirements.txt (line 2)) (3.1.2)\n",
      "Requirement already satisfied: typing-extensions in /Library/Frameworks/Python.framework/Versions/3.10/lib/python3.10/site-packages (from torch->-r ../../requirements.txt (line 2)) (4.8.0)\n",
      "Requirement already satisfied: fsspec in /Library/Frameworks/Python.framework/Versions/3.10/lib/python3.10/site-packages (from torch->-r ../../requirements.txt (line 2)) (2023.10.0)\n",
      "Requirement already satisfied: networkx in /Library/Frameworks/Python.framework/Versions/3.10/lib/python3.10/site-packages (from torch->-r ../../requirements.txt (line 2)) (3.2.1)\n",
      "Requirement already satisfied: sympy in /Library/Frameworks/Python.framework/Versions/3.10/lib/python3.10/site-packages (from torch->-r ../../requirements.txt (line 2)) (1.12)\n",
      "Requirement already satisfied: filelock in /Library/Frameworks/Python.framework/Versions/3.10/lib/python3.10/site-packages (from torch->-r ../../requirements.txt (line 2)) (3.13.1)\n",
      "Requirement already satisfied: charset-normalizer<4,>=2 in /Library/Frameworks/Python.framework/Versions/3.10/lib/python3.10/site-packages (from requests->-r ../../requirements.txt (line 3)) (3.3.2)\n",
      "Requirement already satisfied: urllib3<3,>=1.21.1 in /Library/Frameworks/Python.framework/Versions/3.10/lib/python3.10/site-packages (from requests->-r ../../requirements.txt (line 3)) (2.1.0)\n",
      "Requirement already satisfied: idna<4,>=2.5 in /Library/Frameworks/Python.framework/Versions/3.10/lib/python3.10/site-packages (from requests->-r ../../requirements.txt (line 3)) (3.6)\n",
      "Requirement already satisfied: certifi>=2017.4.17 in /Library/Frameworks/Python.framework/Versions/3.10/lib/python3.10/site-packages (from requests->-r ../../requirements.txt (line 3)) (2023.11.17)\n",
      "Requirement already satisfied: cycler>=0.10 in /Library/Frameworks/Python.framework/Versions/3.10/lib/python3.10/site-packages (from matplotlib->-r ../../requirements.txt (line 6)) (0.12.1)\n",
      "Requirement already satisfied: contourpy>=1.0.1 in /Library/Frameworks/Python.framework/Versions/3.10/lib/python3.10/site-packages (from matplotlib->-r ../../requirements.txt (line 6)) (1.2.0)\n",
      "Requirement already satisfied: packaging>=20.0 in /Users/jernkun/Library/Python/3.10/lib/python/site-packages (from matplotlib->-r ../../requirements.txt (line 6)) (23.2)\n",
      "Requirement already satisfied: python-dateutil>=2.7 in /Users/jernkun/Library/Python/3.10/lib/python/site-packages (from matplotlib->-r ../../requirements.txt (line 6)) (2.8.2)\n",
      "Requirement already satisfied: pyparsing>=2.3.1 in /Library/Frameworks/Python.framework/Versions/3.10/lib/python3.10/site-packages (from matplotlib->-r ../../requirements.txt (line 6)) (3.1.1)\n",
      "Requirement already satisfied: fonttools>=4.22.0 in /Library/Frameworks/Python.framework/Versions/3.10/lib/python3.10/site-packages (from matplotlib->-r ../../requirements.txt (line 6)) (4.45.1)\n",
      "Requirement already satisfied: pillow>=8 in /Library/Frameworks/Python.framework/Versions/3.10/lib/python3.10/site-packages (from matplotlib->-r ../../requirements.txt (line 6)) (10.1.0)\n",
      "Requirement already satisfied: kiwisolver>=1.3.1 in /Library/Frameworks/Python.framework/Versions/3.10/lib/python3.10/site-packages (from matplotlib->-r ../../requirements.txt (line 6)) (1.4.5)\n",
      "Requirement already satisfied: docutils>=0.3 in /Library/Frameworks/Python.framework/Versions/3.10/lib/python3.10/site-packages (from statistics->-r ../../requirements.txt (line 7)) (0.20.1)\n",
      "Requirement already satisfied: protobuf>=3.20.2 in /Library/Frameworks/Python.framework/Versions/3.10/lib/python3.10/site-packages (from onnx->-r ../../requirements.txt (line 8)) (4.25.1)\n",
      "Requirement already satisfied: six>=1.5 in /Users/jernkun/Library/Python/3.10/lib/python/site-packages (from python-dateutil>=2.7->matplotlib->-r ../../requirements.txt (line 6)) (1.16.0)\n",
      "Requirement already satisfied: MarkupSafe>=2.0 in /Library/Frameworks/Python.framework/Versions/3.10/lib/python3.10/site-packages (from jinja2->torch->-r ../../requirements.txt (line 2)) (2.1.3)\n",
      "Requirement already satisfied: mpmath>=0.19 in /Library/Frameworks/Python.framework/Versions/3.10/lib/python3.10/site-packages (from sympy->torch->-r ../../requirements.txt (line 2)) (1.3.0)\n",
      "\u001b[33mWARNING: You are using pip version 21.2.3; however, version 23.3.2 is available.\n",
      "You should consider upgrading via the '/usr/local/bin/python3 -m pip install --upgrade pip' command.\u001b[0m\n",
      "Note: you may need to restart the kernel to use updated packages.\n"
     ]
    }
   ],
   "source": [
    "pip install -r ../../requirements.txt"
   ]
  },
  {
   "cell_type": "code",
   "execution_count": 41,
   "metadata": {},
   "outputs": [],
   "source": [
    "import ezkl\n",
    "import torch\n",
    "from torch import nn\n",
    "import json\n",
    "import os\n",
    "import time\n",
    "import scipy\n",
    "import numpy as np\n",
    "import matplotlib.pyplot as plt\n",
    "import statistics\n",
    "import math"
   ]
  },
  {
   "cell_type": "code",
   "execution_count": 42,
   "metadata": {},
   "outputs": [],
   "source": [
    "%run -i ../../zkstats/core.py"
   ]
  },
  {
   "attachments": {},
   "cell_type": "markdown",
   "metadata": {},
   "source": []
  },
  {
   "cell_type": "code",
   "execution_count": 43,
   "metadata": {},
   "outputs": [],
   "source": [
    "# init path\n",
    "os.makedirs(os.path.dirname('shared/'), exist_ok=True)\n",
    "os.makedirs(os.path.dirname('prover/'), exist_ok=True)\n",
    "verifier_model_path = os.path.join('shared/verifier.onnx')\n",
    "prover_model_path = os.path.join('prover/prover.onnx')\n",
    "verifier_compiled_model_path = os.path.join('shared/verifier.compiled')\n",
    "prover_compiled_model_path = os.path.join('prover/prover.compiled')\n",
    "pk_path = os.path.join('shared/test.pk')\n",
    "vk_path = os.path.join('shared/test.vk')\n",
    "proof_path = os.path.join('shared/test.pf')\n",
    "settings_path = os.path.join('shared/settings.json')\n",
    "srs_path = os.path.join('shared/kzg.srs')\n",
    "witness_path = os.path.join('prover/witness.json')\n",
    "# this is private to prover since it contains actual data\n",
    "comb_data_path = os.path.join('prover/comb_data.json')"
   ]
  },
  {
   "attachments": {},
   "cell_type": "markdown",
   "metadata": {},
   "source": [
    "=======================  ZK-STATS FLOW ======================="
   ]
  },
  {
   "cell_type": "code",
   "execution_count": 44,
   "metadata": {},
   "outputs": [],
   "source": [
    "data_path = os.path.join('data.json')\n",
    "dummy_data_path = os.path.join('shared/dummy_data.json')\n",
    "\n",
    "f_raw_input = open(data_path, \"r\")\n",
    "data = json.loads(f_raw_input.read())[\"input_data\"][0]\n",
    "data_tensor = torch.reshape(torch.tensor(data),(1, len(data), 1))\n",
    "\n",
    "#  dummy data for data consumer: arbitraryyy, just to make sure after filtered, it's not empty\n",
    "dummy_data = np.random.uniform(1, 100, len(data))\n",
    "json.dump({\"input_data\":[dummy_data.tolist()]}, open(dummy_data_path, 'w'))\n",
    "\n",
    "# where(element > 30)\n",
    "dummy_data_tensor = torch.reshape(torch.tensor(dummy_data), (1, len(dummy_data),1 ))\n",
    "gt30_dummy_data_tensor = dummy_data_tensor[dummy_data_tensor > 30].reshape(1,-1,1)\n",
    "dummy_theory_output = torch.mean(gt30_dummy_data_tensor)"
   ]
  },
  {
   "cell_type": "code",
   "execution_count": 45,
   "metadata": {},
   "outputs": [],
   "source": [
    "# Verifier/ data consumer side: send desired calculation\n",
    "class verifier_model(nn.Module):\n",
    "    def __init__(self):\n",
    "        super(verifier_model, self).__init__()\n",
    "        # w represents mean in this case\n",
    "        self.w = nn.Parameter(data = dummy_theory_output, requires_grad = False)\n",
    "\n",
    "    def forward(self,X):\n",
    "        # where part\n",
    "        num_fil_X = torch.sum((X>30).double())\n",
    "        fil_X = torch.where(X>30, X, 0.0)\n",
    "        return (torch.abs(torch.sum(fil_X)-num_fil_X*(self.w))<=torch.abs(0.01*num_fil_X*self.w), self.w)\n",
    "    \n",
    "verifier_define_calculation(verifier_model, verifier_model_path, [dummy_data_path])"
   ]
  },
  {
   "cell_type": "code",
   "execution_count": 46,
   "metadata": {},
   "outputs": [
    {
     "name": "stdout",
     "output_type": "stream",
     "text": [
      "new tensor:  torch.Size([1, 272, 1])\n",
      "Theory_output:  tensor(52.3676)\n",
      "==== Generate & Calibrate Setting ====\n",
      "scale:  [2]\n",
      "setting:  {\"run_args\":{\"tolerance\":{\"val\":0.0,\"scale\":1.0},\"input_scale\":2,\"param_scale\":2,\"scale_rebase_multiplier\":10,\"lookup_range\":[-160256,1254],\"logrows\":18,\"num_inner_cols\":2,\"variables\":[[\"batch_size\",1]],\"input_visibility\":{\"Hashed\":{\"hash_is_public\":true,\"outlets\":[]}},\"output_visibility\":\"Public\",\"param_visibility\":\"Private\"},\"num_rows\":14432,\"total_assignments\":3318,\"total_const_size\":306,\"model_instance_shapes\":[[1],[1]],\"model_output_scales\":[0,2],\"model_input_scales\":[2],\"module_sizes\":{\"kzg\":[],\"poseidon\":[14432,[1]],\"elgamal\":[0,[0]]},\"required_lookups\":[\"Abs\",{\"Div\":{\"denom\":100.0}},{\"GreaterThan\":{\"a\":0.0}}],\"check_mode\":\"UNSAFE\",\"version\":\"7.0.0\",\"num_blinding_factors\":null}\n"
     ]
    }
   ],
   "source": [
    "# prover calculates settings, send to verifier\n",
    "gt30_data_tensor = data_tensor[data_tensor > 30].reshape(1,-1,1)\n",
    "print(\"new tensor: \", gt30_data_tensor.size())\n",
    "# gt30_data_tensor = torch.reshape(gt30_data_tensor_raw, (1, int(gt30_data_tensor_raw.size()[0]), 1))\n",
    "theory_output = torch.mean(gt30_data_tensor)\n",
    "print(\"Theory_output: \", theory_output)\n",
    "class prover_model(nn.Module):\n",
    "    def __init__(self):\n",
    "        super(prover_model, self).__init__()\n",
    "        # w represents mean in this case\n",
    "        self.w = nn.Parameter(data = theory_output, requires_grad = False)\n",
    "        \n",
    "    def forward(self,X):\n",
    "        # where part\n",
    "        num_fil_X = torch.sum((X>30).double())\n",
    "        fil_X = torch.where(X>30, X, 0.0)\n",
    "        return (torch.abs(torch.sum(fil_X)-num_fil_X*(self.w))<=torch.abs(0.01*num_fil_X*self.w), self.w)\n",
    "    \n",
    "\n",
    "prover_gen_settings([data_path], comb_data_path, prover_model,prover_model_path, [2], \"resources\", settings_path)"
   ]
  },
  {
   "cell_type": "code",
   "execution_count": 47,
   "metadata": {},
   "outputs": [
    {
     "name": "stderr",
     "output_type": "stream",
     "text": [
      "spawning module 0\n",
      "spawning module 2\n"
     ]
    },
    {
     "name": "stdout",
     "output_type": "stream",
     "text": [
      "==== setting up ezkl ====\n"
     ]
    },
    {
     "name": "stderr",
     "output_type": "stream",
     "text": [
      "spawning module 0\n",
      "spawning module 2\n"
     ]
    },
    {
     "name": "stdout",
     "output_type": "stream",
     "text": [
      "Time setup: 29.613948822021484 seconds\n",
      "=======================================\n",
      "Theory output:  tensor(52.3676)\n",
      "!@# compiled_model exists? True\n",
      "!@# compiled_model exists? True\n",
      "==== Generating Witness ====\n",
      "witness boolean:  1.0\n",
      "witness result 1 : 52.25\n",
      "==== Generating Proof ====\n"
     ]
    },
    {
     "name": "stderr",
     "output_type": "stream",
     "text": [
      "spawning module 0\n",
      "spawning module 2\n"
     ]
    },
    {
     "name": "stdout",
     "output_type": "stream",
     "text": [
      "proof:  {'instances': [[[12572659313263335624, 14443766455855958404, 432930639589567449, 1881177029071802301], [12436184717236109307, 3962172157175319849, 7381016538464732718, 1011752739694698287], [18278699600166517679, 8643075271396760825, 7891176514265388517, 2236426588013702123]]], 'proof': '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', 'transcript_type': 'EVM'}\n",
      "Time gen prf: 36.45411205291748 seconds\n"
     ]
    }
   ],
   "source": [
    "# Here verifier & prover can concurrently call setup since all params are public to get pk. \n",
    "# Here write as verifier function to emphasize that verifier must calculate its own vk to be sure\n",
    "verifier_setup(verifier_model_path, verifier_compiled_model_path, settings_path,vk_path, pk_path )\n",
    "\n",
    "print(\"=======================================\")\n",
    "# Prover generates proof\n",
    "print(\"Theory output: \", theory_output)\n",
    "prover_gen_proof(prover_model_path, comb_data_path, witness_path, prover_compiled_model_path, settings_path, proof_path, pk_path)"
   ]
  },
  {
   "cell_type": "code",
   "execution_count": 49,
   "metadata": {},
   "outputs": [
    {
     "name": "stdout",
     "output_type": "stream",
     "text": [
      "num_inputs:  1\n",
      "prf instances:  [[[12572659313263335624, 14443766455855958404, 432930639589567449, 1881177029071802301], [12436184717236109307, 3962172157175319849, 7381016538464732718, 1011752739694698287], [18278699600166517679, 8643075271396760825, 7891176514265388517, 2236426588013702123]]]\n",
      "proof boolean:  1.0\n",
      "proof result 1 : 52.25\n",
      "verified\n"
     ]
    }
   ],
   "source": [
    "# Verifier verifies\n",
    "verifier_verify(proof_path, settings_path, vk_path)"
   ]
  },
  {
   "cell_type": "code",
   "execution_count": null,
   "metadata": {},
   "outputs": [],
   "source": []
  }
 ],
 "metadata": {
  "kernelspec": {
   "display_name": "Python 3",
   "language": "python",
   "name": "python3"
  },
  "language_info": {
   "codemirror_mode": {
    "name": "ipython",
    "version": 3
   },
   "file_extension": ".py",
   "mimetype": "text/x-python",
   "name": "python",
   "nbconvert_exporter": "python",
   "pygments_lexer": "ipython3",
   "version": "3.10.0"
  },
  "orig_nbformat": 4
 },
 "nbformat": 4,
 "nbformat_minor": 2
}
