{
 "cells": [
  {
   "cell_type": "code",
   "execution_count": 20,
   "metadata": {},
   "outputs": [
    {
     "name": "stdout",
     "output_type": "stream",
     "text": [
      "Requirement already satisfied: ezkl==7.0.0 in /Library/Frameworks/Python.framework/Versions/3.10/lib/python3.10/site-packages (from -r ../../requirements.txt (line 1)) (7.0.0)\n",
      "Requirement already satisfied: torch in /Library/Frameworks/Python.framework/Versions/3.10/lib/python3.10/site-packages (from -r ../../requirements.txt (line 2)) (2.1.1)\n",
      "Requirement already satisfied: requests in /Library/Frameworks/Python.framework/Versions/3.10/lib/python3.10/site-packages (from -r ../../requirements.txt (line 3)) (2.31.0)\n",
      "Requirement already satisfied: scipy in /Library/Frameworks/Python.framework/Versions/3.10/lib/python3.10/site-packages (from -r ../../requirements.txt (line 4)) (1.11.4)\n",
      "Requirement already satisfied: numpy in /Library/Frameworks/Python.framework/Versions/3.10/lib/python3.10/site-packages (from -r ../../requirements.txt (line 5)) (1.26.2)\n",
      "Requirement already satisfied: matplotlib in /Library/Frameworks/Python.framework/Versions/3.10/lib/python3.10/site-packages (from -r ../../requirements.txt (line 6)) (3.8.2)\n",
      "Requirement already satisfied: statistics in /Library/Frameworks/Python.framework/Versions/3.10/lib/python3.10/site-packages (from -r ../../requirements.txt (line 7)) (1.0.3.5)\n",
      "Requirement already satisfied: onnx in /Library/Frameworks/Python.framework/Versions/3.10/lib/python3.10/site-packages (from -r ../../requirements.txt (line 8)) (1.15.0)\n",
      "Requirement already satisfied: jinja2 in /Library/Frameworks/Python.framework/Versions/3.10/lib/python3.10/site-packages (from torch->-r ../../requirements.txt (line 2)) (3.1.2)\n",
      "Requirement already satisfied: typing-extensions in /Library/Frameworks/Python.framework/Versions/3.10/lib/python3.10/site-packages (from torch->-r ../../requirements.txt (line 2)) (4.8.0)\n",
      "Requirement already satisfied: sympy in /Library/Frameworks/Python.framework/Versions/3.10/lib/python3.10/site-packages (from torch->-r ../../requirements.txt (line 2)) (1.12)\n",
      "Requirement already satisfied: filelock in /Library/Frameworks/Python.framework/Versions/3.10/lib/python3.10/site-packages (from torch->-r ../../requirements.txt (line 2)) (3.13.1)\n",
      "Requirement already satisfied: fsspec in /Library/Frameworks/Python.framework/Versions/3.10/lib/python3.10/site-packages (from torch->-r ../../requirements.txt (line 2)) (2023.10.0)\n",
      "Requirement already satisfied: networkx in /Library/Frameworks/Python.framework/Versions/3.10/lib/python3.10/site-packages (from torch->-r ../../requirements.txt (line 2)) (3.2.1)\n",
      "Requirement already satisfied: charset-normalizer<4,>=2 in /Library/Frameworks/Python.framework/Versions/3.10/lib/python3.10/site-packages (from requests->-r ../../requirements.txt (line 3)) (3.3.2)\n",
      "Requirement already satisfied: idna<4,>=2.5 in /Library/Frameworks/Python.framework/Versions/3.10/lib/python3.10/site-packages (from requests->-r ../../requirements.txt (line 3)) (3.6)\n",
      "Requirement already satisfied: urllib3<3,>=1.21.1 in /Library/Frameworks/Python.framework/Versions/3.10/lib/python3.10/site-packages (from requests->-r ../../requirements.txt (line 3)) (2.1.0)\n",
      "Requirement already satisfied: certifi>=2017.4.17 in /Library/Frameworks/Python.framework/Versions/3.10/lib/python3.10/site-packages (from requests->-r ../../requirements.txt (line 3)) (2023.11.17)\n",
      "Requirement already satisfied: cycler>=0.10 in /Library/Frameworks/Python.framework/Versions/3.10/lib/python3.10/site-packages (from matplotlib->-r ../../requirements.txt (line 6)) (0.12.1)\n",
      "Requirement already satisfied: python-dateutil>=2.7 in /Users/jernkun/Library/Python/3.10/lib/python/site-packages (from matplotlib->-r ../../requirements.txt (line 6)) (2.8.2)\n",
      "Requirement already satisfied: packaging>=20.0 in /Users/jernkun/Library/Python/3.10/lib/python/site-packages (from matplotlib->-r ../../requirements.txt (line 6)) (23.2)\n",
      "Requirement already satisfied: contourpy>=1.0.1 in /Library/Frameworks/Python.framework/Versions/3.10/lib/python3.10/site-packages (from matplotlib->-r ../../requirements.txt (line 6)) (1.2.0)\n",
      "Requirement already satisfied: pyparsing>=2.3.1 in /Library/Frameworks/Python.framework/Versions/3.10/lib/python3.10/site-packages (from matplotlib->-r ../../requirements.txt (line 6)) (3.1.1)\n",
      "Requirement already satisfied: kiwisolver>=1.3.1 in /Library/Frameworks/Python.framework/Versions/3.10/lib/python3.10/site-packages (from matplotlib->-r ../../requirements.txt (line 6)) (1.4.5)\n",
      "Requirement already satisfied: fonttools>=4.22.0 in /Library/Frameworks/Python.framework/Versions/3.10/lib/python3.10/site-packages (from matplotlib->-r ../../requirements.txt (line 6)) (4.45.1)\n",
      "Requirement already satisfied: pillow>=8 in /Library/Frameworks/Python.framework/Versions/3.10/lib/python3.10/site-packages (from matplotlib->-r ../../requirements.txt (line 6)) (10.1.0)\n",
      "Requirement already satisfied: docutils>=0.3 in /Library/Frameworks/Python.framework/Versions/3.10/lib/python3.10/site-packages (from statistics->-r ../../requirements.txt (line 7)) (0.20.1)\n",
      "Requirement already satisfied: protobuf>=3.20.2 in /Library/Frameworks/Python.framework/Versions/3.10/lib/python3.10/site-packages (from onnx->-r ../../requirements.txt (line 8)) (4.25.1)\n",
      "Requirement already satisfied: six>=1.5 in /Users/jernkun/Library/Python/3.10/lib/python/site-packages (from python-dateutil>=2.7->matplotlib->-r ../../requirements.txt (line 6)) (1.16.0)\n",
      "Requirement already satisfied: MarkupSafe>=2.0 in /Library/Frameworks/Python.framework/Versions/3.10/lib/python3.10/site-packages (from jinja2->torch->-r ../../requirements.txt (line 2)) (2.1.3)\n",
      "Requirement already satisfied: mpmath>=0.19 in /Library/Frameworks/Python.framework/Versions/3.10/lib/python3.10/site-packages (from sympy->torch->-r ../../requirements.txt (line 2)) (1.3.0)\n",
      "\u001b[33mWARNING: You are using pip version 21.2.3; however, version 23.3.2 is available.\n",
      "You should consider upgrading via the '/usr/local/bin/python3 -m pip install --upgrade pip' command.\u001b[0m\n",
      "Note: you may need to restart the kernel to use updated packages.\n"
     ]
    }
   ],
   "source": [
    "pip install -r ../../requirements.txt"
   ]
  },
  {
   "cell_type": "code",
   "execution_count": 21,
   "metadata": {},
   "outputs": [],
   "source": [
    "import ezkl\n",
    "import torch\n",
    "from torch import nn\n",
    "import json\n",
    "import os\n",
    "import time\n",
    "import scipy\n",
    "import numpy as np\n",
    "import matplotlib.pyplot as plt\n",
    "import statistics\n",
    "import math"
   ]
  },
  {
   "cell_type": "code",
   "execution_count": 22,
   "metadata": {},
   "outputs": [],
   "source": [
    "%run -i ../../zkstats/core.py"
   ]
  },
  {
   "attachments": {},
   "cell_type": "markdown",
   "metadata": {},
   "source": []
  },
  {
   "cell_type": "code",
   "execution_count": 33,
   "metadata": {},
   "outputs": [],
   "source": [
    "# init path\n",
    "os.makedirs(os.path.dirname('shared/'), exist_ok=True)\n",
    "os.makedirs(os.path.dirname('prover/'), exist_ok=True)\n",
    "verifier_model_path = os.path.join('shared/verifier.onnx')\n",
    "prover_model_path = os.path.join('prover/prover.onnx')\n",
    "verifier_compiled_model_path = os.path.join('shared/verifier.compiled')\n",
    "prover_compiled_model_path = os.path.join('prover/prover.compiled')\n",
    "pk_path = os.path.join('shared/test.pk')\n",
    "vk_path = os.path.join('shared/test.vk')\n",
    "proof_path = os.path.join('shared/test.pf')\n",
    "settings_path = os.path.join('shared/settings.json')\n",
    "srs_path = os.path.join('shared/kzg.srs')\n",
    "witness_path = os.path.join('prover/witness.json')\n",
    "# this is private to prover since it contains actual data\n",
    "comb_data_path = os.path.join('prover/comb_data.json')"
   ]
  },
  {
   "attachments": {},
   "cell_type": "markdown",
   "metadata": {},
   "source": [
    "=======================  ZK-STATS FLOW ======================="
   ]
  },
  {
   "cell_type": "code",
   "execution_count": 34,
   "metadata": {},
   "outputs": [],
   "source": [
    "data_path = os.path.join('data.json')\n",
    "dummy_data_path = os.path.join('shared/dummy_data.json')\n",
    "\n",
    "f_raw_input = open(data_path, \"r\")\n",
    "data = json.loads(f_raw_input.read())[\"input_data\"][0]\n",
    "data_tensor = torch.reshape(torch.tensor(data),(1, len(data), 1))\n",
    "\n",
    "#  dummy data for data consumer: arbitraryyy, just to make sure after filtered, it's not empty\n",
    "dummy_data = np.random.uniform(1, 100, len(data))\n",
    "json.dump({\"input_data\":[dummy_data.tolist()]}, open(dummy_data_path, 'w'))\n",
    "\n",
    "# where(element > 30)\n",
    "dummy_data_tensor = torch.reshape(torch.tensor(dummy_data), (1, len(dummy_data),1 ))\n",
    "gt30_dummy_data_tensor = dummy_data_tensor[dummy_data_tensor > 30].reshape(1,-1,1)\n",
    "dummy_theory_output = torch.mean(gt30_dummy_data_tensor)"
   ]
  },
  {
   "cell_type": "code",
   "execution_count": 35,
   "metadata": {},
   "outputs": [
    {
     "name": "stderr",
     "output_type": "stream",
     "text": [
      "/var/folders/89/y9dw12v976ngdmqz4l7wbsnr0000gn/T/ipykernel_83676/2311067536.py:11: TracerWarning: Iterating over a tensor might cause the trace to be incorrect. Passing a tensor of different shape won't change the number of iterations executed (and might lead to errors or silently give incorrect results).\n",
      "  fil_X = torch.tensor([ele[0] if ele[0]>30 else 0 for ele in X[0]])\n",
      "/var/folders/89/y9dw12v976ngdmqz4l7wbsnr0000gn/T/ipykernel_83676/2311067536.py:11: TracerWarning: Converting a tensor to a Python boolean might cause the trace to be incorrect. We can't record the data flow of Python values, so this value will be treated as a constant in the future. This means that the trace might not generalize to other inputs!\n",
      "  fil_X = torch.tensor([ele[0] if ele[0]>30 else 0 for ele in X[0]])\n",
      "/var/folders/89/y9dw12v976ngdmqz4l7wbsnr0000gn/T/ipykernel_83676/2311067536.py:11: TracerWarning: torch.tensor results are registered as constants in the trace. You can safely ignore this warning if you use this function to create tensors out of constant variables that would be the same every time you call this function. In any other case, this might cause the trace to be incorrect.\n",
      "  fil_X = torch.tensor([ele[0] if ele[0]>30 else 0 for ele in X[0]])\n",
      "/var/folders/89/y9dw12v976ngdmqz4l7wbsnr0000gn/T/ipykernel_83676/2311067536.py:11: TracerWarning: Converting a tensor to a Python float might cause the trace to be incorrect. We can't record the data flow of Python values, so this value will be treated as a constant in the future. This means that the trace might not generalize to other inputs!\n",
      "  fil_X = torch.tensor([ele[0] if ele[0]>30 else 0 for ele in X[0]])\n"
     ]
    }
   ],
   "source": [
    "# Verifier/ data consumer side: send desired calculation\n",
    "class verifier_model(nn.Module):\n",
    "    def __init__(self):\n",
    "        super(verifier_model, self).__init__()\n",
    "        # w represents mean in this case\n",
    "        self.w = nn.Parameter(data = dummy_theory_output, requires_grad = False)\n",
    "\n",
    "    def forward(self,X):\n",
    "        # where part\n",
    "        num_fil_X = torch.sum((X>30).double())\n",
    "        fil_X = torch.tensor([ele[0] if ele[0]>30 else 0 for ele in X[0]])\n",
    "        # fil_X = torch.where(X>30, X, 0)\n",
    "        return (torch.abs(torch.sum(fil_X)-num_fil_X*(self.w))<=torch.abs(0.01*num_fil_X*self.w), self.w)\n",
    "    \n",
    "verifier_define_calculation(verifier_model, verifier_model_path, [dummy_data_path])"
   ]
  },
  {
   "cell_type": "code",
   "execution_count": 36,
   "metadata": {},
   "outputs": [
    {
     "name": "stdout",
     "output_type": "stream",
     "text": [
      "new tensor:  torch.Size([1, 272, 1])\n",
      "Theory_output:  tensor(52.3676)\n",
      "==== Generate & Calibrate Setting ====\n"
     ]
    },
    {
     "name": "stderr",
     "output_type": "stream",
     "text": [
      "/var/folders/89/y9dw12v976ngdmqz4l7wbsnr0000gn/T/ipykernel_83676/1510789480.py:16: TracerWarning: Iterating over a tensor might cause the trace to be incorrect. Passing a tensor of different shape won't change the number of iterations executed (and might lead to errors or silently give incorrect results).\n",
      "  fil_X = torch.tensor([ele[0] if ele[0]>30 else 0 for ele in X[0]])\n",
      "/var/folders/89/y9dw12v976ngdmqz4l7wbsnr0000gn/T/ipykernel_83676/1510789480.py:16: TracerWarning: Converting a tensor to a Python boolean might cause the trace to be incorrect. We can't record the data flow of Python values, so this value will be treated as a constant in the future. This means that the trace might not generalize to other inputs!\n",
      "  fil_X = torch.tensor([ele[0] if ele[0]>30 else 0 for ele in X[0]])\n",
      "/var/folders/89/y9dw12v976ngdmqz4l7wbsnr0000gn/T/ipykernel_83676/1510789480.py:16: TracerWarning: torch.tensor results are registered as constants in the trace. You can safely ignore this warning if you use this function to create tensors out of constant variables that would be the same every time you call this function. In any other case, this might cause the trace to be incorrect.\n",
      "  fil_X = torch.tensor([ele[0] if ele[0]>30 else 0 for ele in X[0]])\n",
      "/var/folders/89/y9dw12v976ngdmqz4l7wbsnr0000gn/T/ipykernel_83676/1510789480.py:16: TracerWarning: Converting a tensor to a Python float might cause the trace to be incorrect. We can't record the data flow of Python values, so this value will be treated as a constant in the future. This means that the trace might not generalize to other inputs!\n",
      "  fil_X = torch.tensor([ele[0] if ele[0]>30 else 0 for ele in X[0]])\n"
     ]
    },
    {
     "name": "stdout",
     "output_type": "stream",
     "text": [
      "scale:  [2]\n",
      "setting:  {\"run_args\":{\"tolerance\":{\"val\":0.0,\"scale\":1.0},\"input_scale\":2,\"param_scale\":2,\"scale_rebase_multiplier\":10,\"lookup_range\":[-160256,1254],\"logrows\":18,\"num_inner_cols\":2,\"variables\":[[\"batch_size\",1]],\"input_visibility\":{\"Hashed\":{\"hash_is_public\":true,\"outlets\":[]}},\"output_visibility\":\"Public\",\"param_visibility\":\"Private\"},\"num_rows\":14432,\"total_assignments\":1516,\"total_const_size\":5,\"model_instance_shapes\":[[1],[1]],\"model_output_scales\":[0,2],\"model_input_scales\":[2],\"module_sizes\":{\"kzg\":[],\"poseidon\":[14432,[1]],\"elgamal\":[0,[0]]},\"required_lookups\":[\"Abs\",{\"Div\":{\"denom\":100.0}},{\"GreaterThan\":{\"a\":0.0}}],\"check_mode\":\"UNSAFE\",\"version\":\"7.0.0\",\"num_blinding_factors\":null}\n"
     ]
    }
   ],
   "source": [
    "# prover calculates settings, send to verifier\n",
    "gt30_data_tensor = data_tensor[data_tensor > 30].reshape(1,-1,1)\n",
    "print(\"new tensor: \", gt30_data_tensor.size())\n",
    "# gt30_data_tensor = torch.reshape(gt30_data_tensor_raw, (1, int(gt30_data_tensor_raw.size()[0]), 1))\n",
    "theory_output = torch.mean(gt30_data_tensor)\n",
    "print(\"Theory_output: \", theory_output)\n",
    "class prover_model(nn.Module):\n",
    "    def __init__(self):\n",
    "        super(prover_model, self).__init__()\n",
    "        # w represents mean in this case\n",
    "        self.w = nn.Parameter(data = theory_output, requires_grad = False)\n",
    "        \n",
    "    def forward(self,X):\n",
    "        # where part\n",
    "        num_fil_X = torch.sum((X>30).double())\n",
    "        fil_X = torch.tensor([ele[0] if ele[0]>30 else 0 for ele in X[0]])\n",
    "        # fil_X = torch.where(X>30, X, 0)\n",
    "        # print(\"fil_X: \", fil_X)\n",
    "        return (torch.abs(torch.sum(fil_X)-num_fil_X*(self.w))<=torch.abs(0.01*num_fil_X*self.w), self.w)\n",
    "    \n",
    "\n",
    "prover_gen_settings([data_path], comb_data_path, prover_model,prover_model_path, [2], \"resources\", settings_path)"
   ]
  },
  {
   "cell_type": "code",
   "execution_count": 37,
   "metadata": {},
   "outputs": [
    {
     "name": "stderr",
     "output_type": "stream",
     "text": [
      "spawning module 0\n",
      "spawning module 2\n"
     ]
    },
    {
     "name": "stdout",
     "output_type": "stream",
     "text": [
      "==== setting up ezkl ====\n"
     ]
    },
    {
     "name": "stderr",
     "output_type": "stream",
     "text": [
      "spawning module 0\n",
      "spawning module 2\n"
     ]
    },
    {
     "name": "stdout",
     "output_type": "stream",
     "text": [
      "Time setup: 25.330917835235596 seconds\n",
      "=======================================\n",
      "Theory output:  tensor(52.3676)\n",
      "!@# compiled_model exists? True\n",
      "!@# compiled_model exists? True\n",
      "==== Generating Witness ====\n",
      "witness boolean:  1.0\n",
      "witness result 1 : 52.25\n",
      "==== Generating Proof ====\n"
     ]
    },
    {
     "name": "stderr",
     "output_type": "stream",
     "text": [
      "spawning module 0\n",
      "spawning module 2\n"
     ]
    },
    {
     "name": "stdout",
     "output_type": "stream",
     "text": [
      "proof:  {'instances': [[[12572659313263335624, 14443766455855958404, 432930639589567449, 1881177029071802301], [12436184717236109307, 3962172157175319849, 7381016538464732718, 1011752739694698287], [18278699600166517679, 8643075271396760825, 7891176514265388517, 2236426588013702123]]], 'proof': '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', 'transcript_type': 'EVM'}\n",
      "Time gen prf: 35.382965087890625 seconds\n"
     ]
    }
   ],
   "source": [
    "# Here verifier & prover can concurrently call setup since all params are public to get pk. \n",
    "# Here write as verifier function to emphasize that verifier must calculate its own vk to be sure\n",
    "verifier_setup(verifier_model_path, verifier_compiled_model_path, settings_path,vk_path, pk_path )\n",
    "\n",
    "print(\"=======================================\")\n",
    "# Prover generates proof\n",
    "print(\"Theory output: \", theory_output)\n",
    "prover_gen_proof(prover_model_path, comb_data_path, witness_path, prover_compiled_model_path, settings_path, proof_path, pk_path)"
   ]
  },
  {
   "cell_type": "code",
   "execution_count": 39,
   "metadata": {},
   "outputs": [
    {
     "name": "stdout",
     "output_type": "stream",
     "text": [
      "num_inputs:  1\n",
      "prf instances:  [[[12572659313263335624, 14443766455855958404, 432930639589567449, 1881177029071802301], [12436184717236109307, 3962172157175319849, 7381016538464732718, 1011752739694698287], [18278699600166517679, 8643075271396760825, 7891176514265388517, 2236426588013702123]]]\n",
      "proof boolean:  1.0\n",
      "proof result 1 : 52.25\n",
      "verified\n"
     ]
    }
   ],
   "source": [
    "# Verifier verifies\n",
    "verifier_verify(proof_path, settings_path, vk_path)"
   ]
  },
  {
   "cell_type": "code",
   "execution_count": null,
   "metadata": {},
   "outputs": [],
   "source": []
  }
 ],
 "metadata": {
  "kernelspec": {
   "display_name": "Python 3",
   "language": "python",
   "name": "python3"
  },
  "language_info": {
   "codemirror_mode": {
    "name": "ipython",
    "version": 3
   },
   "file_extension": ".py",
   "mimetype": "text/x-python",
   "name": "python",
   "nbconvert_exporter": "python",
   "pygments_lexer": "ipython3",
   "version": "3.10.0"
  },
  "orig_nbformat": 4
 },
 "nbformat": 4,
 "nbformat_minor": 2
}
