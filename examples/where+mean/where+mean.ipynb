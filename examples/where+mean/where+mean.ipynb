{
 "cells": [
  {
   "cell_type": "code",
   "execution_count": 1,
   "metadata": {},
   "outputs": [
    {
     "name": "stdout",
     "output_type": "stream",
     "text": [
      "Requirement already satisfied: ezkl==5.0.8 in /Library/Frameworks/Python.framework/Versions/3.10/lib/python3.10/site-packages (from -r ../../requirements.txt (line 1)) (5.0.8)\n",
      "Requirement already satisfied: torch in /Library/Frameworks/Python.framework/Versions/3.10/lib/python3.10/site-packages (from -r ../../requirements.txt (line 2)) (2.1.1)\n",
      "Requirement already satisfied: requests in /Library/Frameworks/Python.framework/Versions/3.10/lib/python3.10/site-packages (from -r ../../requirements.txt (line 3)) (2.31.0)\n",
      "Requirement already satisfied: scipy in /Library/Frameworks/Python.framework/Versions/3.10/lib/python3.10/site-packages (from -r ../../requirements.txt (line 4)) (1.11.4)\n",
      "Requirement already satisfied: numpy in /Library/Frameworks/Python.framework/Versions/3.10/lib/python3.10/site-packages (from -r ../../requirements.txt (line 5)) (1.26.2)\n",
      "Requirement already satisfied: matplotlib in /Library/Frameworks/Python.framework/Versions/3.10/lib/python3.10/site-packages (from -r ../../requirements.txt (line 6)) (3.8.2)\n",
      "Requirement already satisfied: statistics in /Library/Frameworks/Python.framework/Versions/3.10/lib/python3.10/site-packages (from -r ../../requirements.txt (line 7)) (1.0.3.5)\n",
      "Requirement already satisfied: onnx in /Library/Frameworks/Python.framework/Versions/3.10/lib/python3.10/site-packages (from -r ../../requirements.txt (line 8)) (1.15.0)\n",
      "Requirement already satisfied: filelock in /Library/Frameworks/Python.framework/Versions/3.10/lib/python3.10/site-packages (from torch->-r ../../requirements.txt (line 2)) (3.13.1)\n",
      "Requirement already satisfied: networkx in /Library/Frameworks/Python.framework/Versions/3.10/lib/python3.10/site-packages (from torch->-r ../../requirements.txt (line 2)) (3.2.1)\n",
      "Requirement already satisfied: fsspec in /Library/Frameworks/Python.framework/Versions/3.10/lib/python3.10/site-packages (from torch->-r ../../requirements.txt (line 2)) (2023.10.0)\n",
      "Requirement already satisfied: sympy in /Library/Frameworks/Python.framework/Versions/3.10/lib/python3.10/site-packages (from torch->-r ../../requirements.txt (line 2)) (1.12)\n",
      "Requirement already satisfied: typing-extensions in /Library/Frameworks/Python.framework/Versions/3.10/lib/python3.10/site-packages (from torch->-r ../../requirements.txt (line 2)) (4.8.0)\n",
      "Requirement already satisfied: jinja2 in /Library/Frameworks/Python.framework/Versions/3.10/lib/python3.10/site-packages (from torch->-r ../../requirements.txt (line 2)) (3.1.2)\n",
      "Requirement already satisfied: urllib3<3,>=1.21.1 in /Library/Frameworks/Python.framework/Versions/3.10/lib/python3.10/site-packages (from requests->-r ../../requirements.txt (line 3)) (2.1.0)\n",
      "Requirement already satisfied: certifi>=2017.4.17 in /Library/Frameworks/Python.framework/Versions/3.10/lib/python3.10/site-packages (from requests->-r ../../requirements.txt (line 3)) (2023.11.17)\n",
      "Requirement already satisfied: charset-normalizer<4,>=2 in /Library/Frameworks/Python.framework/Versions/3.10/lib/python3.10/site-packages (from requests->-r ../../requirements.txt (line 3)) (3.3.2)\n",
      "Requirement already satisfied: idna<4,>=2.5 in /Library/Frameworks/Python.framework/Versions/3.10/lib/python3.10/site-packages (from requests->-r ../../requirements.txt (line 3)) (3.6)\n",
      "Requirement already satisfied: cycler>=0.10 in /Library/Frameworks/Python.framework/Versions/3.10/lib/python3.10/site-packages (from matplotlib->-r ../../requirements.txt (line 6)) (0.12.1)\n",
      "Requirement already satisfied: kiwisolver>=1.3.1 in /Library/Frameworks/Python.framework/Versions/3.10/lib/python3.10/site-packages (from matplotlib->-r ../../requirements.txt (line 6)) (1.4.5)\n",
      "Requirement already satisfied: fonttools>=4.22.0 in /Library/Frameworks/Python.framework/Versions/3.10/lib/python3.10/site-packages (from matplotlib->-r ../../requirements.txt (line 6)) (4.45.1)\n",
      "Requirement already satisfied: packaging>=20.0 in /Users/jernkun/Library/Python/3.10/lib/python/site-packages (from matplotlib->-r ../../requirements.txt (line 6)) (23.2)\n",
      "Requirement already satisfied: python-dateutil>=2.7 in /Users/jernkun/Library/Python/3.10/lib/python/site-packages (from matplotlib->-r ../../requirements.txt (line 6)) (2.8.2)\n",
      "Requirement already satisfied: contourpy>=1.0.1 in /Library/Frameworks/Python.framework/Versions/3.10/lib/python3.10/site-packages (from matplotlib->-r ../../requirements.txt (line 6)) (1.2.0)\n",
      "Requirement already satisfied: pillow>=8 in /Library/Frameworks/Python.framework/Versions/3.10/lib/python3.10/site-packages (from matplotlib->-r ../../requirements.txt (line 6)) (10.1.0)\n",
      "Requirement already satisfied: pyparsing>=2.3.1 in /Library/Frameworks/Python.framework/Versions/3.10/lib/python3.10/site-packages (from matplotlib->-r ../../requirements.txt (line 6)) (3.1.1)\n",
      "Requirement already satisfied: docutils>=0.3 in /Library/Frameworks/Python.framework/Versions/3.10/lib/python3.10/site-packages (from statistics->-r ../../requirements.txt (line 7)) (0.20.1)\n",
      "Requirement already satisfied: protobuf>=3.20.2 in /Library/Frameworks/Python.framework/Versions/3.10/lib/python3.10/site-packages (from onnx->-r ../../requirements.txt (line 8)) (4.25.1)\n",
      "Requirement already satisfied: six>=1.5 in /Users/jernkun/Library/Python/3.10/lib/python/site-packages (from python-dateutil>=2.7->matplotlib->-r ../../requirements.txt (line 6)) (1.16.0)\n",
      "Requirement already satisfied: MarkupSafe>=2.0 in /Library/Frameworks/Python.framework/Versions/3.10/lib/python3.10/site-packages (from jinja2->torch->-r ../../requirements.txt (line 2)) (2.1.3)\n",
      "Requirement already satisfied: mpmath>=0.19 in /Library/Frameworks/Python.framework/Versions/3.10/lib/python3.10/site-packages (from sympy->torch->-r ../../requirements.txt (line 2)) (1.3.0)\n",
      "\u001b[33mWARNING: You are using pip version 21.2.3; however, version 23.3.1 is available.\n",
      "You should consider upgrading via the '/usr/local/bin/python3 -m pip install --upgrade pip' command.\u001b[0m\n",
      "Note: you may need to restart the kernel to use updated packages.\n"
     ]
    }
   ],
   "source": [
    "pip install -r ../../requirements.txt"
   ]
  },
  {
   "cell_type": "code",
   "execution_count": 1,
   "metadata": {},
   "outputs": [],
   "source": [
    "import ezkl\n",
    "import torch\n",
    "from torch import nn\n",
    "import json\n",
    "import os\n",
    "import time\n",
    "import scipy\n",
    "import numpy as np\n",
    "import matplotlib.pyplot as plt\n",
    "import statistics\n",
    "import math"
   ]
  },
  {
   "cell_type": "code",
   "execution_count": 2,
   "metadata": {},
   "outputs": [],
   "source": [
    "%run -i ../../zkstats/core.py"
   ]
  },
  {
   "attachments": {},
   "cell_type": "markdown",
   "metadata": {},
   "source": []
  },
  {
   "cell_type": "code",
   "execution_count": 3,
   "metadata": {},
   "outputs": [],
   "source": [
    "# init path\n",
    "os.makedirs(os.path.dirname('shared/'), exist_ok=True)\n",
    "os.makedirs(os.path.dirname('prover/'), exist_ok=True)\n",
    "verifier_model_path = os.path.join('shared/verifier.onnx')\n",
    "prover_model_path = os.path.join('prover/prover.onnx')\n",
    "verifier_compiled_model_path = os.path.join('shared/verifier.compiled')\n",
    "prover_compiled_model_path = os.path.join('prover/prover.compiled')\n",
    "pk_path = os.path.join('shared/test.pk')\n",
    "vk_path = os.path.join('shared/test.vk')\n",
    "proof_path = os.path.join('shared/test.pf')\n",
    "settings_path = os.path.join('shared/settings.json')\n",
    "srs_path = os.path.join('shared/kzg.srs')\n",
    "witness_path = os.path.join('prover/witness.json')\n",
    "# this is private to prover since it contains actual data\n",
    "comb_data_path = os.path.join('prover/comb_data.json')"
   ]
  },
  {
   "attachments": {},
   "cell_type": "markdown",
   "metadata": {},
   "source": [
    "=======================  ZK-STATS FLOW ======================="
   ]
  },
  {
   "cell_type": "code",
   "execution_count": 4,
   "metadata": {},
   "outputs": [],
   "source": [
    "data_path = os.path.join('data.json')\n",
    "dummy_data_path = os.path.join('shared/dummy_data.json')\n",
    "\n",
    "f_raw_input = open(data_path, \"r\")\n",
    "data = json.loads(f_raw_input.read())[\"input_data\"][0]\n",
    "data_tensor = torch.reshape(torch.tensor(data),(1, len(data), 1))\n",
    "\n",
    "#  dummy data for data consumer: make the bound approx same as real data\n",
    "dummy_data = np.random.uniform(min(data), max(data), len(data))\n",
    "json.dump({\"input_data\":[dummy_data.tolist()]}, open(dummy_data_path, 'w'))\n",
    "\n",
    "# where(element > 30)\n",
    "dummy_data_tensor = torch.reshape(torch.tensor(dummy_data), (1, len(dummy_data),1 ))\n",
    "gt30_dummy_data_tensor = dummy_data_tensor[dummy_data_tensor > 30].reshape(1,-1,1)\n",
    "new_dummy_size = torch.tensor(gt30_dummy_data_tensor.size()[1] )\n",
    "dummy_theory_output = torch.mean(gt30_dummy_data_tensor)\n",
    "\n"
   ]
  },
  {
   "cell_type": "code",
   "execution_count": null,
   "metadata": {},
   "outputs": [],
   "source": []
  },
  {
   "cell_type": "code",
   "execution_count": 5,
   "metadata": {},
   "outputs": [
    {
     "name": "stderr",
     "output_type": "stream",
     "text": [
      "/var/folders/89/y9dw12v976ngdmqz4l7wbsnr0000gn/T/ipykernel_43136/3656555878.py:14: TracerWarning: Converting a tensor to a Python integer might cause the trace to be incorrect. We can't record the data flow of Python values, so this value will be treated as a constant in the future. This means that the trace might not generalize to other inputs!\n",
      "  index_array = torch.tensor(range(int(len_ratio*X.size()[1])))\n",
      "/var/folders/89/y9dw12v976ngdmqz4l7wbsnr0000gn/T/ipykernel_43136/3656555878.py:14: TracerWarning: torch.tensor results are registered as constants in the trace. You can safely ignore this warning if you use this function to create tensors out of constant variables that would be the same every time you call this function. In any other case, this might cause the trace to be incorrect.\n",
      "  index_array = torch.tensor(range(int(len_ratio*X.size()[1])))\n",
      "/var/folders/89/y9dw12v976ngdmqz4l7wbsnr0000gn/T/ipykernel_43136/3656555878.py:15: TracerWarning: Iterating over a tensor might cause the trace to be incorrect. Passing a tensor of different shape won't change the number of iterations executed (and might lead to errors or silently give incorrect results).\n",
      "  for index in index_array:\n",
      "/var/folders/89/y9dw12v976ngdmqz4l7wbsnr0000gn/T/ipykernel_43136/3656555878.py:19: TracerWarning: Converting a tensor to a Python boolean might cause the trace to be incorrect. We can't record the data flow of Python values, so this value will be treated as a constant in the future. This means that the trace might not generalize to other inputs!\n",
      "  if check_bool==self.new_size:\n"
     ]
    },
    {
     "name": "stdout",
     "output_type": "stream",
     "text": [
      "check_bool:  tensor(236., dtype=torch.float64)\n"
     ]
    },
    {
     "name": "stderr",
     "output_type": "stream",
     "text": [
      "/Library/Frameworks/Python.framework/Versions/3.10/lib/python3.10/site-packages/torch/onnx/utils.py:1686: UserWarning: The exported ONNX model failed ONNX shape inference. The model will not be executable by the ONNX Runtime. If this is unintended and you believe there is a bug, please report an issue at https://github.com/pytorch/pytorch/issues. Error reported by strict ONNX shape inference: [ShapeInferenceError] (op_type:ConstantOfShape, node name: /ConstantOfShape): input typestr: T1, has unsupported type: tensor(float) (Triggered internally at /Users/runner/work/pytorch/pytorch/pytorch/torch/csrc/jit/serialization/export.cpp:1421.)\n",
      "  _C._check_onnx_proto(proto)\n"
     ]
    }
   ],
   "source": [
    "# Verifier/ data consumer side: send desired calculation\n",
    "class verifier_model(nn.Module):\n",
    "    def __init__(self):\n",
    "        super(verifier_model, self).__init__()\n",
    "        # w represents mean in this case\n",
    "        self.w = nn.Parameter(data = dummy_theory_output, requires_grad = False)\n",
    "        self.new_size = nn.Parameter(data = new_dummy_size,requires_grad = False )\n",
    "        self.new_X = nn.Parameter(data = gt30_dummy_data_tensor,requires_grad = False )\n",
    "\n",
    "    def forward(self,X):\n",
    "        # where part\n",
    "        # Many of these implementations are weird, but make it satisfy zkp of ezkl.\n",
    "        len_ratio =  self.new_size/X.size()[1]\n",
    "        result = torch.zeros(len_ratio*X.size()[1]).reshape(1,-1,1)\n",
    "        index_array = torch.tensor(range(int(len_ratio*X.size()[1])))\n",
    "        for index in index_array:\n",
    "            result[0][index][0] = self.new_X[0][index][0]\n",
    "        # constraint that new_X is indeed X where element is greater than 30\n",
    "        check_bool = torch.sum((torch.abs(X[X>30].reshape(1,-1,1)-self.new_X)<0.01*self.new_X).double())\n",
    "\n",
    "        if check_bool==self.new_size:\n",
    "            # value from mean calculation\n",
    "            value = torch.abs(torch.sum(result)-result.size()[1]*(self.w))<0.01*result.size()[1]*(self.w)\n",
    "        else:\n",
    "            value = torch.tensor(0)\n",
    "\n",
    "        return (value, self.w)\n",
    "    \n",
    "verifier_define_calculation(verifier_model, verifier_model_path, [dummy_data_path])"
   ]
  },
  {
   "cell_type": "code",
   "execution_count": 11,
   "metadata": {},
   "outputs": [
    {
     "name": "stdout",
     "output_type": "stream",
     "text": [
      "new tensor:  torch.Size([1, 272, 1])\n",
      "Theory_output:  tensor(52.3676)\n",
      "check_bool:  tensor(272., dtype=torch.float64)\n",
      "==== Generate & Calibrate Setting ====\n"
     ]
    },
    {
     "name": "stderr",
     "output_type": "stream",
     "text": [
      "/var/folders/89/y9dw12v976ngdmqz4l7wbsnr0000gn/T/ipykernel_43136/1416464578.py:25: TracerWarning: Converting a tensor to a Python boolean might cause the trace to be incorrect. We can't record the data flow of Python values, so this value will be treated as a constant in the future. This means that the trace might not generalize to other inputs!\n",
      "  if check_bool==self.new_size:\n",
      "thread '<unnamed>' panicked at src/graph/input.rs:493:42:\n",
      "index out of bounds: the len is 0 but the index is 0\n",
      "note: run with `RUST_BACKTRACE=1` environment variable to display a backtrace\n"
     ]
    },
    {
     "ename": "PanicException",
     "evalue": "index out of bounds: the len is 0 but the index is 0",
     "output_type": "error",
     "traceback": [
      "\u001b[0;31m---------------------------------------------------------------------------\u001b[0m",
      "\u001b[0;31mPanicException\u001b[0m                            Traceback (most recent call last)",
      "Cell \u001b[0;32mIn[11], line 32\u001b[0m\n\u001b[1;32m     28\u001b[0m             value \u001b[39m=\u001b[39m torch\u001b[39m.\u001b[39mtensor(\u001b[39m0\u001b[39m)\n\u001b[1;32m     30\u001b[0m         \u001b[39mreturn\u001b[39;00m (value, \u001b[39mself\u001b[39m\u001b[39m.\u001b[39mw)\n\u001b[0;32m---> 32\u001b[0m prover_gen_settings([data_path], comb_data_path, prover_model,prover_model_path, [\u001b[39m0\u001b[39;49m], \u001b[39m\"\u001b[39;49m\u001b[39mresources\u001b[39;49m\u001b[39m\"\u001b[39;49m, settings_path)\n",
      "File \u001b[0;32m~/Desktop/zk-stats-lib/core.py:99\u001b[0m, in \u001b[0;36mprover_gen_settings\u001b[0;34m(data_path_array, comb_data_path, prover_model, prover_model_path, scale, mode, settings_path)\u001b[0m\n\u001b[1;32m     97\u001b[0m export_onnx(prover_model, data_tensor_array, prover_model_path)\n\u001b[1;32m     98\u001b[0m \u001b[39m# gen + calibrate setting\u001b[39;00m\n\u001b[0;32m---> 99\u001b[0m gen_settings(comb_data_path, prover_model_path, scale, mode, settings_path)\n",
      "File \u001b[0;32m~/Desktop/zk-stats-lib/core.py:60\u001b[0m, in \u001b[0;36mgen_settings\u001b[0;34m(comb_data_path, onnx_filename, scale, mode, settings_filename)\u001b[0m\n\u001b[1;32m     57\u001b[0m   ezkl\u001b[39m.\u001b[39mcalibrate_settings(\n\u001b[1;32m     58\u001b[0m   comb_data_path, onnx_filename, settings_filename, mode)\n\u001b[1;32m     59\u001b[0m \u001b[39melse\u001b[39;00m:\n\u001b[0;32m---> 60\u001b[0m   ezkl\u001b[39m.\u001b[39;49mcalibrate_settings(\n\u001b[1;32m     61\u001b[0m   comb_data_path, onnx_filename, settings_filename, mode, scales \u001b[39m=\u001b[39;49m scale)\n\u001b[1;32m     63\u001b[0m \u001b[39massert\u001b[39;00m os\u001b[39m.\u001b[39mpath\u001b[39m.\u001b[39mexists(settings_filename)\n\u001b[1;32m     64\u001b[0m \u001b[39massert\u001b[39;00m os\u001b[39m.\u001b[39mpath\u001b[39m.\u001b[39mexists(comb_data_path)\n",
      "\u001b[0;31mPanicException\u001b[0m: index out of bounds: the len is 0 but the index is 0"
     ]
    }
   ],
   "source": [
    "# prover calculates settings, send to verifier\n",
    "gt30_data_tensor = data_tensor[data_tensor > 30].reshape(1,-1,1)\n",
    "new_size = torch.tensor(gt30_data_tensor.size()[1] )\n",
    "print(\"new tensor: \", gt30_data_tensor.size())\n",
    "# gt30_data_tensor = torch.reshape(gt30_data_tensor_raw, (1, int(gt30_data_tensor_raw.size()[0]), 1))\n",
    "theory_output = torch.mean(gt30_data_tensor)\n",
    "print(\"Theory_output: \", theory_output)\n",
    "class prover_model(nn.Module):\n",
    "    def __init__(self):\n",
    "        super(prover_model, self).__init__()\n",
    "        # w represents mean in this case\n",
    "        self.w = nn.Parameter(data = theory_output, requires_grad = False)\n",
    "        self.new_size = nn.Parameter(data = new_size,requires_grad = False )\n",
    "        self.new_X = nn.Parameter(data = gt30_data_tensor,requires_grad = False )\n",
    "    def forward(self,X):\n",
    "        # where part\n",
    "        # Many of these implementations are weird, but make it satisfy zkp of ezkl.\n",
    "        len_ratio =  self.new_size/X.size()[1]\n",
    "        result = torch.zeros(len_ratio*X.size()[1]).reshape(1,-1,1)\n",
    "        index_array = torch.tensor(range(int(len_ratio*X.size()[1])))\n",
    "        for index in index_array:\n",
    "            result[0][index][0] = self.new_X[0][index][0]\n",
    "        # constraint that new_X is indeed X where element is greater than 30\n",
    "        check_bool = torch.sum((torch.abs(X[X>30].reshape(1,-1,1)-self.new_X)<0.01*self.new_X).double())\n",
    "\n",
    "        if check_bool==self.new_size:\n",
    "            # value from mean calculation\n",
    "            value = torch.abs(torch.sum(result)-result.size()[1]*(self.w))<0.01*result.size()[1]*(self.w)\n",
    "        else:\n",
    "            value = torch.tensor(0)\n",
    "\n",
    "        return (value, self.w)\n",
    "\n",
    "prover_gen_settings([data_path], comb_data_path, prover_model,prover_model_path, [0], \"resources\", settings_path)"
   ]
  },
  {
   "cell_type": "code",
   "execution_count": 10,
   "metadata": {},
   "outputs": [
    {
     "name": "stderr",
     "output_type": "stream",
     "text": [
      "spawning module 0\n",
      "spawning module 2\n"
     ]
    },
    {
     "name": "stdout",
     "output_type": "stream",
     "text": [
      "==== setting up ezkl ====\n"
     ]
    },
    {
     "name": "stderr",
     "output_type": "stream",
     "text": [
      "spawning module 0\n",
      "spawning module 2\n"
     ]
    },
    {
     "name": "stdout",
     "output_type": "stream",
     "text": [
      "Time setup: 1.1819510459899902 seconds\n",
      "=======================================\n",
      "Theory output:  tensor(52.3676)\n"
     ]
    },
    {
     "name": "stderr",
     "output_type": "stream",
     "text": [
      "spawning module 0\n"
     ]
    },
    {
     "name": "stdout",
     "output_type": "stream",
     "text": [
      "==== Generating Witness ====\n",
      "witness boolean:  1.0\n",
      "witness result 1 : 52.0\n",
      "==== Generating Proof ====\n"
     ]
    },
    {
     "name": "stderr",
     "output_type": "stream",
     "text": [
      "spawning module 2\n"
     ]
    },
    {
     "name": "stdout",
     "output_type": "stream",
     "text": [
      "proof:  {'instances': [[[17970410297053518904, 9046703063145816218, 2851759239208196922, 164045840560226117], [12436184717236109307, 3962172157175319849, 7381016538464732718, 1011752739694698287], [1460628720732602093, 15005283833837523956, 127539993950163949, 306168462079750959]]], 'proof': '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', 'transcript_type': 'EVM'}\n",
      "Time gen prf: 1.6551721096038818 seconds\n"
     ]
    }
   ],
   "source": [
    "# Here verifier & prover can concurrently call setup since all params are public to get pk. \n",
    "# Here write as verifier function to emphasize that verifier must calculate its own vk to be sure\n",
    "verifier_setup(verifier_model_path, verifier_compiled_model_path, settings_path, srs_path,vk_path, pk_path )\n",
    "\n",
    "print(\"=======================================\")\n",
    "# Prover generates proof\n",
    "print(\"Theory output: \", theory_output)\n",
    "prover_gen_proof(prover_model_path, comb_data_path, witness_path, prover_compiled_model_path, settings_path, proof_path, pk_path, srs_path)"
   ]
  },
  {
   "cell_type": "code",
   "execution_count": 9,
   "metadata": {},
   "outputs": [
    {
     "name": "stdout",
     "output_type": "stream",
     "text": [
      "num_inputs:  1\n",
      "prf instances:  [[[17970410297053518904, 9046703063145816218, 2851759239208196922, 164045840560226117], [12436184717236109307, 3962172157175319849, 7381016538464732718, 1011752739694698287], [1460628720732602093, 15005283833837523956, 127539993950163949, 306168462079750959]]]\n",
      "proof boolean:  1.0\n",
      "proof result 1 : 52.0\n",
      "verified\n"
     ]
    }
   ],
   "source": [
    "# Verifier verifies\n",
    "verifier_verify(proof_path, settings_path, vk_path, srs_path)"
   ]
  },
  {
   "cell_type": "code",
   "execution_count": null,
   "metadata": {},
   "outputs": [],
   "source": []
  }
 ],
 "metadata": {
  "kernelspec": {
   "display_name": "Python 3",
   "language": "python",
   "name": "python3"
  },
  "language_info": {
   "codemirror_mode": {
    "name": "ipython",
    "version": 3
   },
   "file_extension": ".py",
   "mimetype": "text/x-python",
   "name": "python",
   "nbconvert_exporter": "python",
   "pygments_lexer": "ipython3",
   "version": "3.10.0"
  },
  "orig_nbformat": 4
 },
 "nbformat": 4,
 "nbformat_minor": 2
}
