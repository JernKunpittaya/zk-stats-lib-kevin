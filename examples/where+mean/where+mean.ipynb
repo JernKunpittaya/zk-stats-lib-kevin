{
 "cells": [
  {
   "cell_type": "code",
   "execution_count": 1,
   "metadata": {},
   "outputs": [
    {
     "name": "stdout",
     "output_type": "stream",
     "text": [
      "Requirement already satisfied: ezkl==9.1.0 in /Users/jernkun/Library/Caches/pypoetry/virtualenvs/zkstats-OJpceffF-py3.11/lib/python3.11/site-packages (from -r ../../requirements.txt (line 1)) (9.1.0)\n",
      "Requirement already satisfied: torch in /Users/jernkun/Library/Caches/pypoetry/virtualenvs/zkstats-OJpceffF-py3.11/lib/python3.11/site-packages (from -r ../../requirements.txt (line 2)) (2.2.1)\n",
      "Requirement already satisfied: requests in /Users/jernkun/Library/Caches/pypoetry/virtualenvs/zkstats-OJpceffF-py3.11/lib/python3.11/site-packages (from -r ../../requirements.txt (line 3)) (2.31.0)\n",
      "Requirement already satisfied: scipy in /Users/jernkun/Library/Caches/pypoetry/virtualenvs/zkstats-OJpceffF-py3.11/lib/python3.11/site-packages (from -r ../../requirements.txt (line 4)) (1.12.0)\n",
      "Requirement already satisfied: numpy in /Users/jernkun/Library/Caches/pypoetry/virtualenvs/zkstats-OJpceffF-py3.11/lib/python3.11/site-packages (from -r ../../requirements.txt (line 5)) (1.26.4)\n",
      "Requirement already satisfied: matplotlib in /Users/jernkun/Library/Caches/pypoetry/virtualenvs/zkstats-OJpceffF-py3.11/lib/python3.11/site-packages (from -r ../../requirements.txt (line 6)) (3.8.3)\n",
      "Requirement already satisfied: statistics in /Users/jernkun/Library/Caches/pypoetry/virtualenvs/zkstats-OJpceffF-py3.11/lib/python3.11/site-packages (from -r ../../requirements.txt (line 7)) (1.0.3.5)\n",
      "Requirement already satisfied: onnx in /Users/jernkun/Library/Caches/pypoetry/virtualenvs/zkstats-OJpceffF-py3.11/lib/python3.11/site-packages (from -r ../../requirements.txt (line 8)) (1.15.0)\n",
      "Requirement already satisfied: filelock in /Users/jernkun/Library/Caches/pypoetry/virtualenvs/zkstats-OJpceffF-py3.11/lib/python3.11/site-packages (from torch->-r ../../requirements.txt (line 2)) (3.13.1)\n",
      "Requirement already satisfied: typing-extensions>=4.8.0 in /Users/jernkun/Library/Caches/pypoetry/virtualenvs/zkstats-OJpceffF-py3.11/lib/python3.11/site-packages (from torch->-r ../../requirements.txt (line 2)) (4.10.0)\n",
      "Requirement already satisfied: sympy in /Users/jernkun/Library/Caches/pypoetry/virtualenvs/zkstats-OJpceffF-py3.11/lib/python3.11/site-packages (from torch->-r ../../requirements.txt (line 2)) (1.12)\n",
      "Requirement already satisfied: networkx in /Users/jernkun/Library/Caches/pypoetry/virtualenvs/zkstats-OJpceffF-py3.11/lib/python3.11/site-packages (from torch->-r ../../requirements.txt (line 2)) (3.2.1)\n",
      "Requirement already satisfied: jinja2 in /Users/jernkun/Library/Caches/pypoetry/virtualenvs/zkstats-OJpceffF-py3.11/lib/python3.11/site-packages (from torch->-r ../../requirements.txt (line 2)) (3.1.3)\n",
      "Requirement already satisfied: fsspec in /Users/jernkun/Library/Caches/pypoetry/virtualenvs/zkstats-OJpceffF-py3.11/lib/python3.11/site-packages (from torch->-r ../../requirements.txt (line 2)) (2024.2.0)\n",
      "Requirement already satisfied: charset-normalizer<4,>=2 in /Users/jernkun/Library/Caches/pypoetry/virtualenvs/zkstats-OJpceffF-py3.11/lib/python3.11/site-packages (from requests->-r ../../requirements.txt (line 3)) (3.3.2)\n",
      "Requirement already satisfied: idna<4,>=2.5 in /Users/jernkun/Library/Caches/pypoetry/virtualenvs/zkstats-OJpceffF-py3.11/lib/python3.11/site-packages (from requests->-r ../../requirements.txt (line 3)) (3.6)\n",
      "Requirement already satisfied: urllib3<3,>=1.21.1 in /Users/jernkun/Library/Caches/pypoetry/virtualenvs/zkstats-OJpceffF-py3.11/lib/python3.11/site-packages (from requests->-r ../../requirements.txt (line 3)) (2.2.1)\n",
      "Requirement already satisfied: certifi>=2017.4.17 in /Users/jernkun/Library/Caches/pypoetry/virtualenvs/zkstats-OJpceffF-py3.11/lib/python3.11/site-packages (from requests->-r ../../requirements.txt (line 3)) (2024.2.2)\n",
      "Requirement already satisfied: contourpy>=1.0.1 in /Users/jernkun/Library/Caches/pypoetry/virtualenvs/zkstats-OJpceffF-py3.11/lib/python3.11/site-packages (from matplotlib->-r ../../requirements.txt (line 6)) (1.2.0)\n",
      "Requirement already satisfied: cycler>=0.10 in /Users/jernkun/Library/Caches/pypoetry/virtualenvs/zkstats-OJpceffF-py3.11/lib/python3.11/site-packages (from matplotlib->-r ../../requirements.txt (line 6)) (0.12.1)\n",
      "Requirement already satisfied: fonttools>=4.22.0 in /Users/jernkun/Library/Caches/pypoetry/virtualenvs/zkstats-OJpceffF-py3.11/lib/python3.11/site-packages (from matplotlib->-r ../../requirements.txt (line 6)) (4.49.0)\n",
      "Requirement already satisfied: kiwisolver>=1.3.1 in /Users/jernkun/Library/Caches/pypoetry/virtualenvs/zkstats-OJpceffF-py3.11/lib/python3.11/site-packages (from matplotlib->-r ../../requirements.txt (line 6)) (1.4.5)\n",
      "Requirement already satisfied: packaging>=20.0 in /Users/jernkun/Library/Caches/pypoetry/virtualenvs/zkstats-OJpceffF-py3.11/lib/python3.11/site-packages (from matplotlib->-r ../../requirements.txt (line 6)) (23.2)\n",
      "Requirement already satisfied: pillow>=8 in /Users/jernkun/Library/Caches/pypoetry/virtualenvs/zkstats-OJpceffF-py3.11/lib/python3.11/site-packages (from matplotlib->-r ../../requirements.txt (line 6)) (10.2.0)\n",
      "Requirement already satisfied: pyparsing>=2.3.1 in /Users/jernkun/Library/Caches/pypoetry/virtualenvs/zkstats-OJpceffF-py3.11/lib/python3.11/site-packages (from matplotlib->-r ../../requirements.txt (line 6)) (3.1.1)\n",
      "Requirement already satisfied: python-dateutil>=2.7 in /Users/jernkun/Library/Caches/pypoetry/virtualenvs/zkstats-OJpceffF-py3.11/lib/python3.11/site-packages (from matplotlib->-r ../../requirements.txt (line 6)) (2.9.0.post0)\n",
      "Requirement already satisfied: docutils>=0.3 in /Users/jernkun/Library/Caches/pypoetry/virtualenvs/zkstats-OJpceffF-py3.11/lib/python3.11/site-packages (from statistics->-r ../../requirements.txt (line 7)) (0.20.1)\n",
      "Requirement already satisfied: protobuf>=3.20.2 in /Users/jernkun/Library/Caches/pypoetry/virtualenvs/zkstats-OJpceffF-py3.11/lib/python3.11/site-packages (from onnx->-r ../../requirements.txt (line 8)) (4.25.3)\n",
      "Requirement already satisfied: six>=1.5 in /Users/jernkun/Library/Caches/pypoetry/virtualenvs/zkstats-OJpceffF-py3.11/lib/python3.11/site-packages (from python-dateutil>=2.7->matplotlib->-r ../../requirements.txt (line 6)) (1.16.0)\n",
      "Requirement already satisfied: MarkupSafe>=2.0 in /Users/jernkun/Library/Caches/pypoetry/virtualenvs/zkstats-OJpceffF-py3.11/lib/python3.11/site-packages (from jinja2->torch->-r ../../requirements.txt (line 2)) (2.1.5)\n",
      "Requirement already satisfied: mpmath>=0.19 in /Users/jernkun/Library/Caches/pypoetry/virtualenvs/zkstats-OJpceffF-py3.11/lib/python3.11/site-packages (from sympy->torch->-r ../../requirements.txt (line 2)) (1.3.0)\n",
      "\n",
      "\u001b[1m[\u001b[0m\u001b[34;49mnotice\u001b[0m\u001b[1;39;49m]\u001b[0m\u001b[39;49m A new release of pip is available: \u001b[0m\u001b[31;49m23.2.1\u001b[0m\u001b[39;49m -> \u001b[0m\u001b[32;49m24.0\u001b[0m\n",
      "\u001b[1m[\u001b[0m\u001b[34;49mnotice\u001b[0m\u001b[1;39;49m]\u001b[0m\u001b[39;49m To update, run: \u001b[0m\u001b[32;49mpip install --upgrade pip\u001b[0m\n",
      "Note: you may need to restart the kernel to use updated packages.\n"
     ]
    }
   ],
   "source": [
    "pip install -r ../../requirements.txt"
   ]
  },
  {
   "cell_type": "code",
   "execution_count": 2,
   "metadata": {},
   "outputs": [],
   "source": [
    "import ezkl\n",
    "import torch\n",
    "from torch import nn\n",
    "import json\n",
    "import os\n",
    "import time\n",
    "import scipy\n",
    "import numpy as np\n",
    "import matplotlib.pyplot as plt\n",
    "import statistics\n",
    "import math"
   ]
  },
  {
   "cell_type": "code",
   "execution_count": 3,
   "metadata": {},
   "outputs": [],
   "source": [
    "%run -i ../../zkstats/core.py"
   ]
  },
  {
   "attachments": {},
   "cell_type": "markdown",
   "metadata": {},
   "source": []
  },
  {
   "cell_type": "code",
   "execution_count": 4,
   "metadata": {},
   "outputs": [],
   "source": [
    "# init path\n",
    "os.makedirs(os.path.dirname('shared/'), exist_ok=True)\n",
    "os.makedirs(os.path.dirname('prover/'), exist_ok=True)\n",
    "verifier_model_path = os.path.join('shared/verifier.onnx')\n",
    "prover_model_path = os.path.join('prover/prover.onnx')\n",
    "verifier_compiled_model_path = os.path.join('shared/verifier.compiled')\n",
    "prover_compiled_model_path = os.path.join('prover/prover.compiled')\n",
    "pk_path = os.path.join('shared/test.pk')\n",
    "vk_path = os.path.join('shared/test.vk')\n",
    "proof_path = os.path.join('shared/test.pf')\n",
    "settings_path = os.path.join('shared/settings.json')\n",
    "srs_path = os.path.join('shared/kzg.srs')\n",
    "witness_path = os.path.join('prover/witness.json')\n",
    "# this is private to prover since it contains actual data\n",
    "sel_data_path = os.path.join('prover/sel_data.json')\n",
    "# this is just dummy random value\n",
    "sel_dummy_data_path = os.path.join('shared/sel_dummy_data.json')"
   ]
  },
  {
   "attachments": {},
   "cell_type": "markdown",
   "metadata": {},
   "source": [
    "=======================  ZK-STATS FLOW ======================="
   ]
  },
  {
   "cell_type": "code",
   "execution_count": 5,
   "metadata": {},
   "outputs": [],
   "source": [
    "data_path = os.path.join('data.json')\n",
    "dummy_data_path = os.path.join('shared/dummy_data.json')\n",
    "\n",
    "create_dummy(data_path, dummy_data_path)"
   ]
  },
  {
   "cell_type": "code",
   "execution_count": 6,
   "metadata": {},
   "outputs": [],
   "source": [
    "scales = [5]\n",
    "selected_columns = ['col_name']\n",
    "commitment_maps = get_data_commitment_maps(data_path, scales)"
   ]
  },
  {
   "cell_type": "code",
   "execution_count": 7,
   "metadata": {},
   "outputs": [
    {
     "name": "stderr",
     "output_type": "stream",
     "text": [
      "/Users/jernkun/Desktop/zk-stats-lib/zkstats/computation.py:171: TracerWarning: torch.tensor results are registered as constants in the trace. You can safely ignore this warning if you use this function to create tensors out of constant variables that would be the same every time you call this function. In any other case, this might cause the trace to be incorrect.\n",
      "  is_precise_aggregated = torch.tensor(1.0)\n",
      "/Users/jernkun/Library/Caches/pypoetry/virtualenvs/zkstats-OJpceffF-py3.11/lib/python3.11/site-packages/torch/onnx/symbolic_opset9.py:2174: FutureWarning: 'torch.onnx.symbolic_opset9._cast_Bool' is deprecated in version 2.0 and will be removed in the future. Please Avoid using this function and create a Cast node instead.\n",
      "  return fn(g, to_cast_func(g, input, False), to_cast_func(g, other, False))\n"
     ]
    }
   ],
   "source": [
    "# Verifier/ data consumer side: send desired calculation\n",
    "from zkstats.computation import computation_to_model, State\n",
    "\n",
    "\n",
    "def computation(s: State, data: list[torch.Tensor]) -> torch.Tensor:\n",
    "    x = data[0]\n",
    "    # FIXME: should be replaced by `s.where` when it's available. Now the result may be incorrect\n",
    "    filter = (x > 20)\n",
    "    filtered_x = s.where(filter, x)\n",
    "    return s.mean(filtered_x)\n",
    "\n",
    "error = 0.01\n",
    "_, verifier_model = computation_to_model(computation, error)\n",
    "\n",
    "verifier_define_calculation(dummy_data_path, selected_columns,sel_dummy_data_path,verifier_model, verifier_model_path)"
   ]
  },
  {
   "cell_type": "code",
   "execution_count": 8,
   "metadata": {},
   "outputs": [
    {
     "name": "stderr",
     "output_type": "stream",
     "text": [
      "\n",
      "\n",
      " <------------- Numerical Fidelity Report (input_scale: 5, param_scale: 5, scale_input_multiplier: 10) ------------->\n",
      "\n",
      "+--------------+--------------+-----------+--------------+----------------+------------------+---------------+---------------+--------------------+--------------------+------------------------+\n",
      "| mean_error   | median_error | max_error | min_error    | mean_abs_error | median_abs_error | max_abs_error | min_abs_error | mean_squared_error | mean_percent_error | mean_abs_percent_error |\n",
      "+--------------+--------------+-----------+--------------+----------------+------------------+---------------+---------------+--------------------+--------------------+------------------------+\n",
      "| -0.001045227 | -0.002090454 | 0         | -0.002090454 | 0.001045227    | 0.002090454      | 0.002090454   | 0             | 0.0000021849992    | -0.00001923436     | 0.00001923436          |\n",
      "+--------------+--------------+-----------+--------------+----------------+------------------+---------------+---------------+--------------------+--------------------+------------------------+\n",
      "\n",
      "\n"
     ]
    },
    {
     "name": "stdout",
     "output_type": "stream",
     "text": [
      "==== Generate & Calibrate Setting ====\n",
      "scale:  [5]\n",
      "setting:  {\"run_args\":{\"tolerance\":{\"val\":0.0,\"scale\":1.0},\"input_scale\":5,\"param_scale\":5,\"scale_rebase_multiplier\":10,\"lookup_range\":[-1178,5114],\"logrows\":13,\"num_inner_cols\":2,\"variables\":[[\"batch_size\",1]],\"input_visibility\":{\"Hashed\":{\"hash_is_public\":true,\"outlets\":[]}},\"output_visibility\":\"Public\",\"param_visibility\":\"Private\",\"div_rebasing\":false,\"rebase_frac_zero_constants\":false,\"check_mode\":\"UNSAFE\"},\"num_rows\":3936,\"total_assignments\":911,\"total_const_size\":205,\"model_instance_shapes\":[[1],[1]],\"model_output_scales\":[0,5],\"model_input_scales\":[5],\"module_sizes\":{\"kzg\":[],\"poseidon\":[3936,[1]]},\"required_lookups\":[{\"GreaterThan\":{\"a\":0.0}}],\"required_range_checks\":[],\"check_mode\":\"UNSAFE\",\"version\":\"9.1.0\",\"num_blinding_factors\":null,\"timestamp\":1709616804587}\n"
     ]
    }
   ],
   "source": [
    "# Prover/ data owner side\n",
    "_, prover_model = computation_to_model(computation, error)\n",
    "\n",
    "prover_gen_settings(data_path, selected_columns, sel_data_path, prover_model, prover_model_path, scales, \"resources\", settings_path)"
   ]
  },
  {
   "cell_type": "code",
   "execution_count": 9,
   "metadata": {},
   "outputs": [
    {
     "name": "stdout",
     "output_type": "stream",
     "text": [
      "==== setting up ezkl ====\n",
      "Time setup: 0.7909603118896484 seconds\n",
      "=======================================\n",
      "==== Generating Witness ====\n",
      "witness boolean:  1.0\n",
      "witness result 1 : 54.34375\n",
      "==== Generating Proof ====\n",
      "proof:  {'instances': [['cde4916bd205742cffb14e51076823185ef1d3df4377d71dddd8ab4fd1be1002', '0100000000000000000000000000000000000000000000000000000000000000', 'cb06000000000000000000000000000000000000000000000000000000000000']], 'proof': '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', 'transcript_type': 'EVM'}\n",
      "Time gen prf: 0.8407649993896484 seconds\n"
     ]
    }
   ],
   "source": [
    "# Here verifier & prover can concurrently call setup since all params are public to get pk.\n",
    "# Here write as verifier function to emphasize that verifier must calculate its own vk to be sure\n",
    "setup(verifier_model_path, verifier_compiled_model_path, settings_path,vk_path, pk_path )\n",
    "\n",
    "print(\"=======================================\")\n",
    "# Prover generates proof\n",
    "prover_gen_proof(prover_model_path, sel_data_path, witness_path, prover_compiled_model_path, settings_path, proof_path, pk_path)"
   ]
  },
  {
   "cell_type": "code",
   "execution_count": 10,
   "metadata": {},
   "outputs": [
    {
     "name": "stdout",
     "output_type": "stream",
     "text": [
      "Verifier gets result: [54.34375]\n"
     ]
    }
   ],
   "source": [
    "# Verifier verifies\n",
    "res = verifier_verify(proof_path, settings_path, vk_path, selected_columns, commitment_maps)\n",
    "print(\"Verifier gets result:\", res)"
   ]
  },
  {
   "cell_type": "code",
   "execution_count": null,
   "metadata": {},
   "outputs": [],
   "source": []
  }
 ],
 "metadata": {
  "kernelspec": {
   "display_name": "Python 3",
   "language": "python",
   "name": "python3"
  },
  "language_info": {
   "codemirror_mode": {
    "name": "ipython",
    "version": 3
   },
   "file_extension": ".py",
   "mimetype": "text/x-python",
   "name": "python",
   "nbconvert_exporter": "python",
   "pygments_lexer": "ipython3",
   "version": "3.12.1"
  },
  "orig_nbformat": 4
 },
 "nbformat": 4,
 "nbformat_minor": 2
}
