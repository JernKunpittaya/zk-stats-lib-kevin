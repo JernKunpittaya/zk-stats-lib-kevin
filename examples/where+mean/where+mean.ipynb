{
 "cells": [
  {
   "cell_type": "code",
   "execution_count": 1,
   "metadata": {},
   "outputs": [
    {
     "name": "stdout",
     "output_type": "stream",
     "text": [
      "Requirement already satisfied: ezkl==7.0.0 in /Users/mhchia/Library/Caches/pypoetry/virtualenvs/zkstats-brXmXluj-py3.12/lib/python3.12/site-packages (from -r ../../requirements.txt (line 1)) (7.0.0)\n",
      "Requirement already satisfied: torch in /Users/mhchia/Library/Caches/pypoetry/virtualenvs/zkstats-brXmXluj-py3.12/lib/python3.12/site-packages (from -r ../../requirements.txt (line 2)) (2.2.0)\n",
      "Requirement already satisfied: requests in /Users/mhchia/Library/Caches/pypoetry/virtualenvs/zkstats-brXmXluj-py3.12/lib/python3.12/site-packages (from -r ../../requirements.txt (line 3)) (2.31.0)\n",
      "Requirement already satisfied: scipy in /Users/mhchia/Library/Caches/pypoetry/virtualenvs/zkstats-brXmXluj-py3.12/lib/python3.12/site-packages (from -r ../../requirements.txt (line 4)) (1.12.0)\n",
      "Requirement already satisfied: numpy in /Users/mhchia/Library/Caches/pypoetry/virtualenvs/zkstats-brXmXluj-py3.12/lib/python3.12/site-packages (from -r ../../requirements.txt (line 5)) (1.26.3)\n",
      "Requirement already satisfied: matplotlib in /Users/mhchia/Library/Caches/pypoetry/virtualenvs/zkstats-brXmXluj-py3.12/lib/python3.12/site-packages (from -r ../../requirements.txt (line 6)) (3.8.2)\n",
      "Requirement already satisfied: statistics in /Users/mhchia/Library/Caches/pypoetry/virtualenvs/zkstats-brXmXluj-py3.12/lib/python3.12/site-packages (from -r ../../requirements.txt (line 7)) (1.0.3.5)\n",
      "Requirement already satisfied: onnx in /Users/mhchia/Library/Caches/pypoetry/virtualenvs/zkstats-brXmXluj-py3.12/lib/python3.12/site-packages (from -r ../../requirements.txt (line 8)) (1.15.0)\n",
      "Requirement already satisfied: filelock in /Users/mhchia/Library/Caches/pypoetry/virtualenvs/zkstats-brXmXluj-py3.12/lib/python3.12/site-packages (from torch->-r ../../requirements.txt (line 2)) (3.13.1)\n",
      "Requirement already satisfied: typing-extensions>=4.8.0 in /Users/mhchia/Library/Caches/pypoetry/virtualenvs/zkstats-brXmXluj-py3.12/lib/python3.12/site-packages (from torch->-r ../../requirements.txt (line 2)) (4.9.0)\n",
      "Requirement already satisfied: sympy in /Users/mhchia/Library/Caches/pypoetry/virtualenvs/zkstats-brXmXluj-py3.12/lib/python3.12/site-packages (from torch->-r ../../requirements.txt (line 2)) (1.12)\n",
      "Requirement already satisfied: networkx in /Users/mhchia/Library/Caches/pypoetry/virtualenvs/zkstats-brXmXluj-py3.12/lib/python3.12/site-packages (from torch->-r ../../requirements.txt (line 2)) (3.2.1)\n",
      "Requirement already satisfied: jinja2 in /Users/mhchia/Library/Caches/pypoetry/virtualenvs/zkstats-brXmXluj-py3.12/lib/python3.12/site-packages (from torch->-r ../../requirements.txt (line 2)) (3.1.3)\n",
      "Requirement already satisfied: fsspec in /Users/mhchia/Library/Caches/pypoetry/virtualenvs/zkstats-brXmXluj-py3.12/lib/python3.12/site-packages (from torch->-r ../../requirements.txt (line 2)) (2023.12.2)\n",
      "Requirement already satisfied: charset-normalizer<4,>=2 in /Users/mhchia/Library/Caches/pypoetry/virtualenvs/zkstats-brXmXluj-py3.12/lib/python3.12/site-packages (from requests->-r ../../requirements.txt (line 3)) (3.3.2)\n",
      "Requirement already satisfied: idna<4,>=2.5 in /Users/mhchia/Library/Caches/pypoetry/virtualenvs/zkstats-brXmXluj-py3.12/lib/python3.12/site-packages (from requests->-r ../../requirements.txt (line 3)) (3.6)\n",
      "Requirement already satisfied: urllib3<3,>=1.21.1 in /Users/mhchia/Library/Caches/pypoetry/virtualenvs/zkstats-brXmXluj-py3.12/lib/python3.12/site-packages (from requests->-r ../../requirements.txt (line 3)) (2.2.0)\n",
      "Requirement already satisfied: certifi>=2017.4.17 in /Users/mhchia/Library/Caches/pypoetry/virtualenvs/zkstats-brXmXluj-py3.12/lib/python3.12/site-packages (from requests->-r ../../requirements.txt (line 3)) (2024.2.2)\n",
      "Requirement already satisfied: contourpy>=1.0.1 in /Users/mhchia/Library/Caches/pypoetry/virtualenvs/zkstats-brXmXluj-py3.12/lib/python3.12/site-packages (from matplotlib->-r ../../requirements.txt (line 6)) (1.2.0)\n",
      "Requirement already satisfied: cycler>=0.10 in /Users/mhchia/Library/Caches/pypoetry/virtualenvs/zkstats-brXmXluj-py3.12/lib/python3.12/site-packages (from matplotlib->-r ../../requirements.txt (line 6)) (0.12.1)\n",
      "Requirement already satisfied: fonttools>=4.22.0 in /Users/mhchia/Library/Caches/pypoetry/virtualenvs/zkstats-brXmXluj-py3.12/lib/python3.12/site-packages (from matplotlib->-r ../../requirements.txt (line 6)) (4.47.2)\n",
      "Requirement already satisfied: kiwisolver>=1.3.1 in /Users/mhchia/Library/Caches/pypoetry/virtualenvs/zkstats-brXmXluj-py3.12/lib/python3.12/site-packages (from matplotlib->-r ../../requirements.txt (line 6)) (1.4.5)\n",
      "Requirement already satisfied: packaging>=20.0 in /Users/mhchia/Library/Caches/pypoetry/virtualenvs/zkstats-brXmXluj-py3.12/lib/python3.12/site-packages (from matplotlib->-r ../../requirements.txt (line 6)) (23.2)\n",
      "Requirement already satisfied: pillow>=8 in /Users/mhchia/Library/Caches/pypoetry/virtualenvs/zkstats-brXmXluj-py3.12/lib/python3.12/site-packages (from matplotlib->-r ../../requirements.txt (line 6)) (10.2.0)\n",
      "Requirement already satisfied: pyparsing>=2.3.1 in /Users/mhchia/Library/Caches/pypoetry/virtualenvs/zkstats-brXmXluj-py3.12/lib/python3.12/site-packages (from matplotlib->-r ../../requirements.txt (line 6)) (3.1.1)\n",
      "Requirement already satisfied: python-dateutil>=2.7 in /Users/mhchia/Library/Caches/pypoetry/virtualenvs/zkstats-brXmXluj-py3.12/lib/python3.12/site-packages (from matplotlib->-r ../../requirements.txt (line 6)) (2.8.2)\n",
      "Requirement already satisfied: docutils>=0.3 in /Users/mhchia/Library/Caches/pypoetry/virtualenvs/zkstats-brXmXluj-py3.12/lib/python3.12/site-packages (from statistics->-r ../../requirements.txt (line 7)) (0.20.1)\n",
      "Requirement already satisfied: protobuf>=3.20.2 in /Users/mhchia/Library/Caches/pypoetry/virtualenvs/zkstats-brXmXluj-py3.12/lib/python3.12/site-packages (from onnx->-r ../../requirements.txt (line 8)) (4.25.2)\n",
      "Requirement already satisfied: six>=1.5 in /Users/mhchia/Library/Caches/pypoetry/virtualenvs/zkstats-brXmXluj-py3.12/lib/python3.12/site-packages (from python-dateutil>=2.7->matplotlib->-r ../../requirements.txt (line 6)) (1.16.0)\n",
      "Requirement already satisfied: MarkupSafe>=2.0 in /Users/mhchia/Library/Caches/pypoetry/virtualenvs/zkstats-brXmXluj-py3.12/lib/python3.12/site-packages (from jinja2->torch->-r ../../requirements.txt (line 2)) (2.1.4)\n",
      "Requirement already satisfied: mpmath>=0.19 in /Users/mhchia/Library/Caches/pypoetry/virtualenvs/zkstats-brXmXluj-py3.12/lib/python3.12/site-packages (from sympy->torch->-r ../../requirements.txt (line 2)) (1.3.0)\n",
      "\n",
      "\u001b[1m[\u001b[0m\u001b[34;49mnotice\u001b[0m\u001b[1;39;49m]\u001b[0m\u001b[39;49m A new release of pip is available: \u001b[0m\u001b[31;49m23.3.1\u001b[0m\u001b[39;49m -> \u001b[0m\u001b[32;49m24.0\u001b[0m\n",
      "\u001b[1m[\u001b[0m\u001b[34;49mnotice\u001b[0m\u001b[1;39;49m]\u001b[0m\u001b[39;49m To update, run: \u001b[0m\u001b[32;49mpip install --upgrade pip\u001b[0m\n",
      "Note: you may need to restart the kernel to use updated packages.\n"
     ]
    }
   ],
   "source": [
    "pip install -r ../../requirements.txt"
   ]
  },
  {
   "cell_type": "code",
   "execution_count": 2,
   "metadata": {},
   "outputs": [],
   "source": [
    "import ezkl\n",
    "import torch\n",
    "from torch import nn\n",
    "import json\n",
    "import os\n",
    "import time\n",
    "import scipy\n",
    "import numpy as np\n",
    "import matplotlib.pyplot as plt\n",
    "import statistics\n",
    "import math"
   ]
  },
  {
   "cell_type": "code",
   "execution_count": 3,
   "metadata": {},
   "outputs": [],
   "source": [
    "%run -i ../../zkstats/core.py"
   ]
  },
  {
   "attachments": {},
   "cell_type": "markdown",
   "metadata": {},
   "source": []
  },
  {
   "cell_type": "code",
   "execution_count": 4,
   "metadata": {},
   "outputs": [],
   "source": [
    "# init path\n",
    "os.makedirs(os.path.dirname('shared/'), exist_ok=True)\n",
    "os.makedirs(os.path.dirname('prover/'), exist_ok=True)\n",
    "verifier_model_path = os.path.join('shared/verifier.onnx')\n",
    "prover_model_path = os.path.join('prover/prover.onnx')\n",
    "verifier_compiled_model_path = os.path.join('shared/verifier.compiled')\n",
    "prover_compiled_model_path = os.path.join('prover/prover.compiled')\n",
    "pk_path = os.path.join('shared/test.pk')\n",
    "vk_path = os.path.join('shared/test.vk')\n",
    "proof_path = os.path.join('shared/test.pf')\n",
    "settings_path = os.path.join('shared/settings.json')\n",
    "srs_path = os.path.join('shared/kzg.srs')\n",
    "witness_path = os.path.join('prover/witness.json')\n",
    "# this is private to prover since it contains actual data\n",
    "sel_data_path = os.path.join('prover/sel_data.json')\n",
    "# this is just dummy random value\n",
    "sel_dummy_data_path = os.path.join('shared/sel_dummy_data.json')"
   ]
  },
  {
   "attachments": {},
   "cell_type": "markdown",
   "metadata": {},
   "source": [
    "=======================  ZK-STATS FLOW ======================="
   ]
  },
  {
   "cell_type": "code",
   "execution_count": 5,
   "metadata": {},
   "outputs": [],
   "source": [
    "data_path = os.path.join('data.json')\n",
    "dummy_data_path = os.path.join('shared/dummy_data.json')\n",
    "\n",
    "create_dummy(data_path, dummy_data_path)"
   ]
  },
  {
   "cell_type": "code",
   "execution_count": 6,
   "metadata": {},
   "outputs": [],
   "source": [
    "scales = [2]\n",
    "selected_columns = ['col_name']\n",
    "commitment_maps = get_data_commitment_maps(data_path, scales)"
   ]
  },
  {
   "cell_type": "code",
   "execution_count": 7,
   "metadata": {},
   "outputs": [
    {
     "name": "stderr",
     "output_type": "stream",
     "text": [
      "/Users/mhchia/projects/work/pse/zk-stats-lib/zkstats/computation.py:166: TracerWarning: torch.tensor results are registered as constants in the trace. You can safely ignore this warning if you use this function to create tensors out of constant variables that would be the same every time you call this function. In any other case, this might cause the trace to be incorrect.\n",
      "  is_precise_aggregated = torch.tensor(1.0)\n",
      "/Users/mhchia/Library/Caches/pypoetry/virtualenvs/zkstats-brXmXluj-py3.12/lib/python3.12/site-packages/torch/onnx/symbolic_opset9.py:2174: FutureWarning: 'torch.onnx.symbolic_opset9._cast_Bool' is deprecated in version 2.0 and will be removed in the future. Please Avoid using this function and create a Cast node instead.\n",
      "  return fn(g, to_cast_func(g, input, False), to_cast_func(g, other, False))\n",
      "/Users/mhchia/Library/Caches/pypoetry/virtualenvs/zkstats-brXmXluj-py3.12/lib/python3.12/site-packages/torch/onnx/utils.py:1703: UserWarning: The exported ONNX model failed ONNX shape inference. The model will not be executable by the ONNX Runtime. If this is unintended and you believe there is a bug, please report an issue at https://github.com/pytorch/pytorch/issues. Error reported by strict ONNX shape inference: [ShapeInferenceError] (op_type:Where, node name: /Where): Y has inconsistent type tensor(double) (Triggered internally at /Users/runner/work/pytorch/pytorch/pytorch/torch/csrc/jit/serialization/export.cpp:1490.)\n",
      "  _C._check_onnx_proto(proto)\n"
     ]
    }
   ],
   "source": [
    "# Verifier/ data consumer side: send desired calculation\n",
    "from zkstats.computation import computation_to_model, State\n",
    "\n",
    "\n",
    "def computation(s: State, data: list[torch.Tensor]) -> torch.Tensor:\n",
    "    x = data[0]\n",
    "    # FIXME: should be replaced by `s.where` when it's available. Now the result may be incorrect\n",
    "    filter = (x > 20)\n",
    "    filtered_x = torch.where(filter, x, 0.0)\n",
    "    return s.mean(filtered_x)\n",
    "\n",
    "error = 0.01\n",
    "_, verifier_model = computation_to_model(computation, error)\n",
    "\n",
    "verifier_define_calculation(dummy_data_path, selected_columns,sel_dummy_data_path,verifier_model, verifier_model_path)"
   ]
  },
  {
   "cell_type": "code",
   "execution_count": 8,
   "metadata": {},
   "outputs": [
    {
     "name": "stdout",
     "output_type": "stream",
     "text": [
      "==== Generate & Calibrate Setting ====\n",
      "scale:  [2]\n",
      "setting:  {\"run_args\":{\"tolerance\":{\"val\":0.0,\"scale\":1.0},\"input_scale\":2,\"param_scale\":2,\"scale_rebase_multiplier\":10,\"lookup_range\":[-1190,544],\"logrows\":14,\"num_inner_cols\":2,\"variables\":[[\"batch_size\",1]],\"input_visibility\":{\"Hashed\":{\"hash_is_public\":true,\"outlets\":[]}},\"output_visibility\":\"Public\",\"param_visibility\":\"Private\"},\"num_rows\":14432,\"total_assignments\":3010,\"total_const_size\":305,\"model_instance_shapes\":[[1],[1]],\"model_output_scales\":[0,2],\"model_input_scales\":[2],\"module_sizes\":{\"kzg\":[],\"poseidon\":[14432,[1]],\"elgamal\":[0,[0]]},\"required_lookups\":[\"Abs\",{\"GreaterThan\":{\"a\":0.0}}],\"check_mode\":\"UNSAFE\",\"version\":\"7.0.0\",\"num_blinding_factors\":null}\n"
     ]
    }
   ],
   "source": [
    "# Prover/ data owner side\n",
    "_, prover_model = computation_to_model(computation, error)\n",
    "\n",
    "prover_gen_settings(data_path, selected_columns, sel_data_path, prover_model, prover_model_path, scales, \"resources\", settings_path)"
   ]
  },
  {
   "cell_type": "code",
   "execution_count": 9,
   "metadata": {},
   "outputs": [
    {
     "name": "stderr",
     "output_type": "stream",
     "text": [
      "spawning module 0\n",
      "spawning module 2\n"
     ]
    },
    {
     "name": "stdout",
     "output_type": "stream",
     "text": [
      "==== setting up ezkl ====\n"
     ]
    },
    {
     "name": "stderr",
     "output_type": "stream",
     "text": [
      "spawning module 0\n",
      "spawning module 2\n"
     ]
    },
    {
     "name": "stdout",
     "output_type": "stream",
     "text": [
      "Time setup: 3.5796821117401123 seconds\n",
      "=======================================\n",
      "Theory output:  tensor(50.2196, dtype=torch.float64)\n",
      "==== Generating Witness ====\n",
      "witness boolean:  1.0\n",
      "witness result 1 : 49.5\n",
      "==== Generating Proof ====\n"
     ]
    },
    {
     "name": "stderr",
     "output_type": "stream",
     "text": [
      "spawning module 0\n",
      "spawning module 2\n"
     ]
    },
    {
     "name": "stdout",
     "output_type": "stream",
     "text": [
      "proof:  {'instances': [[[12572659313263335624, 14443766455855958404, 432930639589567449, 1881177029071802301], [12436184717236109307, 3962172157175319849, 7381016538464732718, 1011752739694698287], [6835514210936421353, 10643412839807884771, 3437058592396516096, 1568141251780932959]]], 'proof': '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', 'transcript_type': 'EVM'}\n",
      "Time gen prf: 4.186624050140381 seconds\n"
     ]
    }
   ],
   "source": [
    "# Here verifier & prover can concurrently call setup since all params are public to get pk.\n",
    "# Here write as verifier function to emphasize that verifier must calculate its own vk to be sure\n",
    "setup(verifier_model_path, verifier_compiled_model_path, settings_path,vk_path, pk_path )\n",
    "\n",
    "print(\"=======================================\")\n",
    "# Prover generates proof\n",
    "prover_gen_proof(prover_model_path, sel_data_path, witness_path, prover_compiled_model_path, settings_path, proof_path, pk_path)"
   ]
  },
  {
   "cell_type": "code",
   "execution_count": 10,
   "metadata": {},
   "outputs": [
    {
     "name": "stdout",
     "output_type": "stream",
     "text": [
      "Verifier gets result: 49.5\n"
     ]
    }
   ],
   "source": [
    "# Verifier verifies\n",
    "res = verifier_verify(proof_path, settings_path, vk_path, selected_columns, commitment_maps)\n",
    "print(\"Verifier gets result:\", res)"
   ]
  }
 ],
 "metadata": {
  "kernelspec": {
   "display_name": "Python 3",
   "language": "python",
   "name": "python3"
  },
  "language_info": {
   "codemirror_mode": {
    "name": "ipython",
    "version": 3
   },
   "file_extension": ".py",
   "mimetype": "text/x-python",
   "name": "python",
   "nbconvert_exporter": "python",
   "pygments_lexer": "ipython3",
   "version": "3.12.1"
  },
  "orig_nbformat": 4
 },
 "nbformat": 4,
 "nbformat_minor": 2
}
