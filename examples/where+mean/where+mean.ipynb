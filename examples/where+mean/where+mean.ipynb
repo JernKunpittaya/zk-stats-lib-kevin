{
 "cells": [
  {
   "cell_type": "code",
   "execution_count": 1,
   "metadata": {},
   "outputs": [
    {
     "name": "stdout",
     "output_type": "stream",
     "text": [
      "Requirement already satisfied: ezkl==5.0.8 in /Library/Frameworks/Python.framework/Versions/3.10/lib/python3.10/site-packages (from -r ../../requirements.txt (line 1)) (5.0.8)\n",
      "Requirement already satisfied: torch in /Library/Frameworks/Python.framework/Versions/3.10/lib/python3.10/site-packages (from -r ../../requirements.txt (line 2)) (2.1.1)\n",
      "Requirement already satisfied: requests in /Library/Frameworks/Python.framework/Versions/3.10/lib/python3.10/site-packages (from -r ../../requirements.txt (line 3)) (2.31.0)\n",
      "Requirement already satisfied: scipy in /Library/Frameworks/Python.framework/Versions/3.10/lib/python3.10/site-packages (from -r ../../requirements.txt (line 4)) (1.11.4)\n",
      "Requirement already satisfied: numpy in /Library/Frameworks/Python.framework/Versions/3.10/lib/python3.10/site-packages (from -r ../../requirements.txt (line 5)) (1.26.2)\n",
      "Requirement already satisfied: matplotlib in /Library/Frameworks/Python.framework/Versions/3.10/lib/python3.10/site-packages (from -r ../../requirements.txt (line 6)) (3.8.2)\n",
      "Requirement already satisfied: statistics in /Library/Frameworks/Python.framework/Versions/3.10/lib/python3.10/site-packages (from -r ../../requirements.txt (line 7)) (1.0.3.5)\n",
      "Requirement already satisfied: onnx in /Library/Frameworks/Python.framework/Versions/3.10/lib/python3.10/site-packages (from -r ../../requirements.txt (line 8)) (1.15.0)\n",
      "Requirement already satisfied: filelock in /Library/Frameworks/Python.framework/Versions/3.10/lib/python3.10/site-packages (from torch->-r ../../requirements.txt (line 2)) (3.13.1)\n",
      "Requirement already satisfied: networkx in /Library/Frameworks/Python.framework/Versions/3.10/lib/python3.10/site-packages (from torch->-r ../../requirements.txt (line 2)) (3.2.1)\n",
      "Requirement already satisfied: fsspec in /Library/Frameworks/Python.framework/Versions/3.10/lib/python3.10/site-packages (from torch->-r ../../requirements.txt (line 2)) (2023.10.0)\n",
      "Requirement already satisfied: sympy in /Library/Frameworks/Python.framework/Versions/3.10/lib/python3.10/site-packages (from torch->-r ../../requirements.txt (line 2)) (1.12)\n",
      "Requirement already satisfied: typing-extensions in /Library/Frameworks/Python.framework/Versions/3.10/lib/python3.10/site-packages (from torch->-r ../../requirements.txt (line 2)) (4.8.0)\n",
      "Requirement already satisfied: jinja2 in /Library/Frameworks/Python.framework/Versions/3.10/lib/python3.10/site-packages (from torch->-r ../../requirements.txt (line 2)) (3.1.2)\n",
      "Requirement already satisfied: urllib3<3,>=1.21.1 in /Library/Frameworks/Python.framework/Versions/3.10/lib/python3.10/site-packages (from requests->-r ../../requirements.txt (line 3)) (2.1.0)\n",
      "Requirement already satisfied: certifi>=2017.4.17 in /Library/Frameworks/Python.framework/Versions/3.10/lib/python3.10/site-packages (from requests->-r ../../requirements.txt (line 3)) (2023.11.17)\n",
      "Requirement already satisfied: charset-normalizer<4,>=2 in /Library/Frameworks/Python.framework/Versions/3.10/lib/python3.10/site-packages (from requests->-r ../../requirements.txt (line 3)) (3.3.2)\n",
      "Requirement already satisfied: idna<4,>=2.5 in /Library/Frameworks/Python.framework/Versions/3.10/lib/python3.10/site-packages (from requests->-r ../../requirements.txt (line 3)) (3.6)\n",
      "Requirement already satisfied: cycler>=0.10 in /Library/Frameworks/Python.framework/Versions/3.10/lib/python3.10/site-packages (from matplotlib->-r ../../requirements.txt (line 6)) (0.12.1)\n",
      "Requirement already satisfied: kiwisolver>=1.3.1 in /Library/Frameworks/Python.framework/Versions/3.10/lib/python3.10/site-packages (from matplotlib->-r ../../requirements.txt (line 6)) (1.4.5)\n",
      "Requirement already satisfied: fonttools>=4.22.0 in /Library/Frameworks/Python.framework/Versions/3.10/lib/python3.10/site-packages (from matplotlib->-r ../../requirements.txt (line 6)) (4.45.1)\n",
      "Requirement already satisfied: packaging>=20.0 in /Users/jernkun/Library/Python/3.10/lib/python/site-packages (from matplotlib->-r ../../requirements.txt (line 6)) (23.2)\n",
      "Requirement already satisfied: python-dateutil>=2.7 in /Users/jernkun/Library/Python/3.10/lib/python/site-packages (from matplotlib->-r ../../requirements.txt (line 6)) (2.8.2)\n",
      "Requirement already satisfied: contourpy>=1.0.1 in /Library/Frameworks/Python.framework/Versions/3.10/lib/python3.10/site-packages (from matplotlib->-r ../../requirements.txt (line 6)) (1.2.0)\n",
      "Requirement already satisfied: pillow>=8 in /Library/Frameworks/Python.framework/Versions/3.10/lib/python3.10/site-packages (from matplotlib->-r ../../requirements.txt (line 6)) (10.1.0)\n",
      "Requirement already satisfied: pyparsing>=2.3.1 in /Library/Frameworks/Python.framework/Versions/3.10/lib/python3.10/site-packages (from matplotlib->-r ../../requirements.txt (line 6)) (3.1.1)\n",
      "Requirement already satisfied: docutils>=0.3 in /Library/Frameworks/Python.framework/Versions/3.10/lib/python3.10/site-packages (from statistics->-r ../../requirements.txt (line 7)) (0.20.1)\n",
      "Requirement already satisfied: protobuf>=3.20.2 in /Library/Frameworks/Python.framework/Versions/3.10/lib/python3.10/site-packages (from onnx->-r ../../requirements.txt (line 8)) (4.25.1)\n",
      "Requirement already satisfied: six>=1.5 in /Users/jernkun/Library/Python/3.10/lib/python/site-packages (from python-dateutil>=2.7->matplotlib->-r ../../requirements.txt (line 6)) (1.16.0)\n",
      "Requirement already satisfied: MarkupSafe>=2.0 in /Library/Frameworks/Python.framework/Versions/3.10/lib/python3.10/site-packages (from jinja2->torch->-r ../../requirements.txt (line 2)) (2.1.3)\n",
      "Requirement already satisfied: mpmath>=0.19 in /Library/Frameworks/Python.framework/Versions/3.10/lib/python3.10/site-packages (from sympy->torch->-r ../../requirements.txt (line 2)) (1.3.0)\n",
      "\u001b[33mWARNING: You are using pip version 21.2.3; however, version 23.3.1 is available.\n",
      "You should consider upgrading via the '/usr/local/bin/python3 -m pip install --upgrade pip' command.\u001b[0m\n",
      "Note: you may need to restart the kernel to use updated packages.\n"
     ]
    }
   ],
   "source": [
    "pip install -r ../../requirements.txt"
   ]
  },
  {
   "cell_type": "code",
   "execution_count": 1,
   "metadata": {},
   "outputs": [],
   "source": [
    "import ezkl\n",
    "import torch\n",
    "from torch import nn\n",
    "import json\n",
    "import os\n",
    "import time\n",
    "import scipy\n",
    "import numpy as np\n",
    "import matplotlib.pyplot as plt\n",
    "import statistics\n",
    "import math"
   ]
  },
  {
   "cell_type": "code",
   "execution_count": 2,
   "metadata": {},
   "outputs": [],
   "source": [
    "%run -i ../../zkstats/core.py"
   ]
  },
  {
   "attachments": {},
   "cell_type": "markdown",
   "metadata": {},
   "source": []
  },
  {
   "cell_type": "code",
   "execution_count": 3,
   "metadata": {},
   "outputs": [],
   "source": [
    "# init path\n",
    "os.makedirs(os.path.dirname('shared/'), exist_ok=True)\n",
    "os.makedirs(os.path.dirname('prover/'), exist_ok=True)\n",
    "verifier_model_path = os.path.join('shared/verifier.onnx')\n",
    "prover_model_path = os.path.join('prover/prover.onnx')\n",
    "verifier_compiled_model_path = os.path.join('shared/verifier.compiled')\n",
    "prover_compiled_model_path = os.path.join('prover/prover.compiled')\n",
    "pk_path = os.path.join('shared/test.pk')\n",
    "vk_path = os.path.join('shared/test.vk')\n",
    "proof_path = os.path.join('shared/test.pf')\n",
    "settings_path = os.path.join('shared/settings.json')\n",
    "srs_path = os.path.join('shared/kzg.srs')\n",
    "witness_path = os.path.join('prover/witness.json')\n",
    "# this is private to prover since it contains actual data\n",
    "comb_data_path = os.path.join('prover/comb_data.json')"
   ]
  },
  {
   "attachments": {},
   "cell_type": "markdown",
   "metadata": {},
   "source": [
    "=======================  ZK-STATS FLOW ======================="
   ]
  },
  {
   "cell_type": "code",
   "execution_count": 4,
   "metadata": {},
   "outputs": [],
   "source": [
    "data_path = os.path.join('data.json')\n",
    "dummy_data_path = os.path.join('shared/dummy_data.json')\n",
    "\n",
    "f_raw_input = open(data_path, \"r\")\n",
    "data = json.loads(f_raw_input.read())[\"input_data\"][0]\n",
    "data_tensor = torch.reshape(torch.tensor(data),(1, len(data), 1))\n",
    "\n",
    "#  dummy data for data consumer: make the bound approx same as real data\n",
    "dummy_data = np.random.uniform(min(data), max(data), len(data))\n",
    "json.dump({\"input_data\":[dummy_data.tolist()]}, open(dummy_data_path, 'w'))\n",
    "\n",
    "# where(element > 30)\n",
    "dummy_data_tensor = torch.reshape(torch.tensor(dummy_data), (1, len(dummy_data),1 ))\n",
    "gt30_dummy_data_tensor = dummy_data_tensor[dummy_data_tensor > 30].reshape(1,-1,1)\n",
    "dummy_theory_output = torch.mean(gt30_dummy_data_tensor)\n",
    "\n"
   ]
  },
  {
   "cell_type": "code",
   "execution_count": 5,
   "metadata": {},
   "outputs": [
    {
     "name": "stderr",
     "output_type": "stream",
     "text": [
      "/var/folders/89/y9dw12v976ngdmqz4l7wbsnr0000gn/T/ipykernel_58237/4035532840.py:19: TracerWarning: Converting a tensor to a Python boolean might cause the trace to be incorrect. We can't record the data flow of Python values, so this value will be treated as a constant in the future. This means that the trace might not generalize to other inputs!\n",
      "  if new_X_cons:\n",
      "/Library/Frameworks/Python.framework/Versions/3.10/lib/python3.10/site-packages/torch/onnx/utils.py:1686: UserWarning: The exported ONNX model failed ONNX shape inference. The model will not be executable by the ONNX Runtime. If this is unintended and you believe there is a bug, please report an issue at https://github.com/pytorch/pytorch/issues. Error reported by strict ONNX shape inference: [ShapeInferenceError] (op_type:ConstantOfShape, node name: /ConstantOfShape): input typestr: T1, has unsupported type: tensor(float) (Triggered internally at /Users/runner/work/pytorch/pytorch/pytorch/torch/csrc/jit/serialization/export.cpp:1421.)\n",
      "  _C._check_onnx_proto(proto)\n"
     ]
    }
   ],
   "source": [
    "# Verifier/ data consumer side: send desired calculation\n",
    "class verifier_model(nn.Module):\n",
    "    def __init__(self):\n",
    "        super(verifier_model, self).__init__()\n",
    "        # w represents mean in this case\n",
    "        self.w = nn.Parameter(data = dummy_theory_output, requires_grad = False)\n",
    "        self.new_X = nn.Parameter(data = gt30_dummy_data_tensor,requires_grad = False )\n",
    "\n",
    "    def forward(self,X):\n",
    "        # where part\n",
    "        # Many of these implementations are weird, but make it satisfy zkp of ezkl.\n",
    "        len_ratio =  self.new_X.size()[1]/X.size()[1]\n",
    "        X_where = torch.zeros(len_ratio*X.size()[1]).reshape(1,-1,1)\n",
    "        X_where[0]=self.new_X[0]\n",
    "        # constraint that new_X is indeed X where element is greater than 30\n",
    "        new_X_cons = torch.sum((torch.abs(X[X>30].reshape(1,-1,1)-X_where)<=torch.abs(0.01*X_where)).double())==X_where.size()[1]\n",
    "\n",
    "        # can't put new_X_cons directly into return\n",
    "        if new_X_cons:\n",
    "            # value from mean calculation\n",
    "            value = torch.abs(torch.sum(X_where)-X_where.size()[1]*(self.w))<=torch.abs(0.01*X_where.size()[1]*self.w)\n",
    "        else:\n",
    "            # return false aka 0\n",
    "            value = X_where.size()[1]<0\n",
    "\n",
    "        return (value, self.w)\n",
    "    \n",
    "verifier_define_calculation(verifier_model, verifier_model_path, [dummy_data_path])"
   ]
  },
  {
   "cell_type": "code",
   "execution_count": 6,
   "metadata": {},
   "outputs": [
    {
     "name": "stdout",
     "output_type": "stream",
     "text": [
      "new tensor:  torch.Size([1, 272, 1])\n",
      "Theory_output:  tensor(52.3676)\n",
      "==== Generate & Calibrate Setting ====\n",
      "scale:  [0]\n",
      "setting:  {\"run_args\":{\"tolerance\":{\"val\":0.0,\"scale\":1.0},\"input_scale\":0,\"param_scale\":0,\"scale_rebase_multiplier\":10,\"lookup_range\":[0,0],\"logrows\":14,\"num_inner_cols\":1,\"variables\":[[\"batch_size\",1]],\"input_visibility\":{\"Hashed\":{\"hash_is_public\":true,\"outlets\":[]}},\"output_visibility\":\"Public\",\"param_visibility\":\"Private\"},\"num_rows\":14432,\"total_assignments\":300,\"total_const_size\":0,\"model_instance_shapes\":[[1],[1]],\"model_output_scales\":[0,0],\"model_input_scales\":[0],\"module_sizes\":{\"kzg\":[],\"poseidon\":[14432,[1]],\"elgamal\":[0,[0]]},\"required_lookups\":[],\"check_mode\":\"UNSAFE\",\"version\":\"5.0.8\",\"num_blinding_factors\":null}\n"
     ]
    },
    {
     "name": "stderr",
     "output_type": "stream",
     "text": [
      "/var/folders/89/y9dw12v976ngdmqz4l7wbsnr0000gn/T/ipykernel_58237/605661225.py:23: TracerWarning: Converting a tensor to a Python boolean might cause the trace to be incorrect. We can't record the data flow of Python values, so this value will be treated as a constant in the future. This means that the trace might not generalize to other inputs!\n",
      "  if new_X_cons:\n"
     ]
    }
   ],
   "source": [
    "# prover calculates settings, send to verifier\n",
    "gt30_data_tensor = data_tensor[data_tensor > 30].reshape(1,-1,1)\n",
    "print(\"new tensor: \", gt30_data_tensor.size())\n",
    "# gt30_data_tensor = torch.reshape(gt30_data_tensor_raw, (1, int(gt30_data_tensor_raw.size()[0]), 1))\n",
    "theory_output = torch.mean(gt30_data_tensor)\n",
    "print(\"Theory_output: \", theory_output)\n",
    "class prover_model(nn.Module):\n",
    "    def __init__(self):\n",
    "        super(prover_model, self).__init__()\n",
    "        # w represents mean in this case\n",
    "        self.w = nn.Parameter(data = theory_output, requires_grad = False)\n",
    "        self.new_X = nn.Parameter(data = gt30_data_tensor,requires_grad = False )\n",
    "    def forward(self,X):\n",
    "        # where part\n",
    "        # Many of these implementations are weird, but make it satisfy zkp of ezkl.\n",
    "        len_ratio =  self.new_X.size()[1]/X.size()[1]\n",
    "        X_where = torch.zeros(len_ratio*X.size()[1]).reshape(1,-1,1)\n",
    "        X_where[0]=self.new_X[0]\n",
    "        # constraint that new_X is indeed X where element is greater than 30\n",
    "        new_X_cons = torch.sum((torch.abs(X[X>30].reshape(1,-1,1)-X_where)<=torch.abs(0.01*X_where)).double())==X_where.size()[1]\n",
    "\n",
    "        # can't put new_X_cons directly into return\n",
    "        if new_X_cons:\n",
    "            # value from mean calculation\n",
    "            value = torch.abs(torch.sum(X_where)-X_where.size()[1]*(self.w))<=torch.abs(0.01*X_where.size()[1]*self.w)\n",
    "        else:\n",
    "            # return false aka 0\n",
    "            value = X_where.size()[1]<0\n",
    "\n",
    "        return (value, self.w)\n",
    "    \n",
    "\n",
    "prover_gen_settings([data_path], comb_data_path, prover_model,prover_model_path, [0], \"resources\", settings_path)"
   ]
  },
  {
   "cell_type": "code",
   "execution_count": 7,
   "metadata": {},
   "outputs": [
    {
     "name": "stderr",
     "output_type": "stream",
     "text": [
      "spawning module 0\n",
      "spawning module 2\n"
     ]
    },
    {
     "name": "stdout",
     "output_type": "stream",
     "text": [
      "==== setting up ezkl ====\n"
     ]
    },
    {
     "name": "stderr",
     "output_type": "stream",
     "text": [
      "spawning module 0\n",
      "spawning module 2\n",
      "spawning module 0\n"
     ]
    },
    {
     "name": "stdout",
     "output_type": "stream",
     "text": [
      "Time setup: 1.1477460861206055 seconds\n",
      "=======================================\n",
      "Theory output:  tensor(52.3676)\n",
      "==== Generating Witness ====\n",
      "witness boolean:  1.0\n",
      "witness result 1 : 52.0\n",
      "==== Generating Proof ====\n"
     ]
    },
    {
     "name": "stderr",
     "output_type": "stream",
     "text": [
      "spawning module 2\n"
     ]
    },
    {
     "name": "stdout",
     "output_type": "stream",
     "text": [
      "proof:  {'instances': [[[17970410297053518904, 9046703063145816218, 2851759239208196922, 164045840560226117], [12436184717236109307, 3962172157175319849, 7381016538464732718, 1011752739694698287], [1460628720732602093, 15005283833837523956, 127539993950163949, 306168462079750959]]], 'proof': '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', 'transcript_type': 'EVM'}\n",
      "Time gen prf: 1.5523650646209717 seconds\n"
     ]
    }
   ],
   "source": [
    "# Here verifier & prover can concurrently call setup since all params are public to get pk. \n",
    "# Here write as verifier function to emphasize that verifier must calculate its own vk to be sure\n",
    "verifier_setup(verifier_model_path, verifier_compiled_model_path, settings_path, srs_path,vk_path, pk_path )\n",
    "\n",
    "print(\"=======================================\")\n",
    "# Prover generates proof\n",
    "print(\"Theory output: \", theory_output)\n",
    "prover_gen_proof(prover_model_path, comb_data_path, witness_path, prover_compiled_model_path, settings_path, proof_path, pk_path, srs_path)"
   ]
  },
  {
   "cell_type": "code",
   "execution_count": 8,
   "metadata": {},
   "outputs": [
    {
     "name": "stdout",
     "output_type": "stream",
     "text": [
      "num_inputs:  1\n",
      "prf instances:  [[[17970410297053518904, 9046703063145816218, 2851759239208196922, 164045840560226117], [12436184717236109307, 3962172157175319849, 7381016538464732718, 1011752739694698287], [1460628720732602093, 15005283833837523956, 127539993950163949, 306168462079750959]]]\n",
      "proof boolean:  1.0\n",
      "proof result 1 : 52.0\n",
      "verified\n"
     ]
    }
   ],
   "source": [
    "# Verifier verifies\n",
    "verifier_verify(proof_path, settings_path, vk_path, srs_path)"
   ]
  },
  {
   "cell_type": "code",
   "execution_count": null,
   "metadata": {},
   "outputs": [],
   "source": []
  }
 ],
 "metadata": {
  "kernelspec": {
   "display_name": "Python 3",
   "language": "python",
   "name": "python3"
  },
  "language_info": {
   "codemirror_mode": {
    "name": "ipython",
    "version": 3
   },
   "file_extension": ".py",
   "mimetype": "text/x-python",
   "name": "python",
   "nbconvert_exporter": "python",
   "pygments_lexer": "ipython3",
   "version": "3.10.0"
  },
  "orig_nbformat": 4
 },
 "nbformat": 4,
 "nbformat_minor": 2
}
