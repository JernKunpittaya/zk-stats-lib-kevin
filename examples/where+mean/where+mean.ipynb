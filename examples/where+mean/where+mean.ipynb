{
 "cells": [
  {
   "cell_type": "code",
   "execution_count": 1,
   "metadata": {},
   "outputs": [
    {
     "name": "stdout",
     "output_type": "stream",
     "text": [
      "Requirement already satisfied: ezkl==5.0.8 in /Library/Frameworks/Python.framework/Versions/3.10/lib/python3.10/site-packages (from -r ../../requirements.txt (line 1)) (5.0.8)\n",
      "Requirement already satisfied: torch in /Library/Frameworks/Python.framework/Versions/3.10/lib/python3.10/site-packages (from -r ../../requirements.txt (line 2)) (2.1.1)\n",
      "Requirement already satisfied: requests in /Library/Frameworks/Python.framework/Versions/3.10/lib/python3.10/site-packages (from -r ../../requirements.txt (line 3)) (2.31.0)\n",
      "Requirement already satisfied: scipy in /Library/Frameworks/Python.framework/Versions/3.10/lib/python3.10/site-packages (from -r ../../requirements.txt (line 4)) (1.11.4)\n",
      "Requirement already satisfied: numpy in /Library/Frameworks/Python.framework/Versions/3.10/lib/python3.10/site-packages (from -r ../../requirements.txt (line 5)) (1.26.2)\n",
      "Requirement already satisfied: matplotlib in /Library/Frameworks/Python.framework/Versions/3.10/lib/python3.10/site-packages (from -r ../../requirements.txt (line 6)) (3.8.2)\n",
      "Requirement already satisfied: statistics in /Library/Frameworks/Python.framework/Versions/3.10/lib/python3.10/site-packages (from -r ../../requirements.txt (line 7)) (1.0.3.5)\n",
      "Requirement already satisfied: onnx in /Library/Frameworks/Python.framework/Versions/3.10/lib/python3.10/site-packages (from -r ../../requirements.txt (line 8)) (1.15.0)\n",
      "Requirement already satisfied: filelock in /Library/Frameworks/Python.framework/Versions/3.10/lib/python3.10/site-packages (from torch->-r ../../requirements.txt (line 2)) (3.13.1)\n",
      "Requirement already satisfied: networkx in /Library/Frameworks/Python.framework/Versions/3.10/lib/python3.10/site-packages (from torch->-r ../../requirements.txt (line 2)) (3.2.1)\n",
      "Requirement already satisfied: fsspec in /Library/Frameworks/Python.framework/Versions/3.10/lib/python3.10/site-packages (from torch->-r ../../requirements.txt (line 2)) (2023.10.0)\n",
      "Requirement already satisfied: sympy in /Library/Frameworks/Python.framework/Versions/3.10/lib/python3.10/site-packages (from torch->-r ../../requirements.txt (line 2)) (1.12)\n",
      "Requirement already satisfied: typing-extensions in /Library/Frameworks/Python.framework/Versions/3.10/lib/python3.10/site-packages (from torch->-r ../../requirements.txt (line 2)) (4.8.0)\n",
      "Requirement already satisfied: jinja2 in /Library/Frameworks/Python.framework/Versions/3.10/lib/python3.10/site-packages (from torch->-r ../../requirements.txt (line 2)) (3.1.2)\n",
      "Requirement already satisfied: urllib3<3,>=1.21.1 in /Library/Frameworks/Python.framework/Versions/3.10/lib/python3.10/site-packages (from requests->-r ../../requirements.txt (line 3)) (2.1.0)\n",
      "Requirement already satisfied: certifi>=2017.4.17 in /Library/Frameworks/Python.framework/Versions/3.10/lib/python3.10/site-packages (from requests->-r ../../requirements.txt (line 3)) (2023.11.17)\n",
      "Requirement already satisfied: charset-normalizer<4,>=2 in /Library/Frameworks/Python.framework/Versions/3.10/lib/python3.10/site-packages (from requests->-r ../../requirements.txt (line 3)) (3.3.2)\n",
      "Requirement already satisfied: idna<4,>=2.5 in /Library/Frameworks/Python.framework/Versions/3.10/lib/python3.10/site-packages (from requests->-r ../../requirements.txt (line 3)) (3.6)\n",
      "Requirement already satisfied: cycler>=0.10 in /Library/Frameworks/Python.framework/Versions/3.10/lib/python3.10/site-packages (from matplotlib->-r ../../requirements.txt (line 6)) (0.12.1)\n",
      "Requirement already satisfied: kiwisolver>=1.3.1 in /Library/Frameworks/Python.framework/Versions/3.10/lib/python3.10/site-packages (from matplotlib->-r ../../requirements.txt (line 6)) (1.4.5)\n",
      "Requirement already satisfied: fonttools>=4.22.0 in /Library/Frameworks/Python.framework/Versions/3.10/lib/python3.10/site-packages (from matplotlib->-r ../../requirements.txt (line 6)) (4.45.1)\n",
      "Requirement already satisfied: packaging>=20.0 in /Users/jernkun/Library/Python/3.10/lib/python/site-packages (from matplotlib->-r ../../requirements.txt (line 6)) (23.2)\n",
      "Requirement already satisfied: python-dateutil>=2.7 in /Users/jernkun/Library/Python/3.10/lib/python/site-packages (from matplotlib->-r ../../requirements.txt (line 6)) (2.8.2)\n",
      "Requirement already satisfied: contourpy>=1.0.1 in /Library/Frameworks/Python.framework/Versions/3.10/lib/python3.10/site-packages (from matplotlib->-r ../../requirements.txt (line 6)) (1.2.0)\n",
      "Requirement already satisfied: pillow>=8 in /Library/Frameworks/Python.framework/Versions/3.10/lib/python3.10/site-packages (from matplotlib->-r ../../requirements.txt (line 6)) (10.1.0)\n",
      "Requirement already satisfied: pyparsing>=2.3.1 in /Library/Frameworks/Python.framework/Versions/3.10/lib/python3.10/site-packages (from matplotlib->-r ../../requirements.txt (line 6)) (3.1.1)\n",
      "Requirement already satisfied: docutils>=0.3 in /Library/Frameworks/Python.framework/Versions/3.10/lib/python3.10/site-packages (from statistics->-r ../../requirements.txt (line 7)) (0.20.1)\n",
      "Requirement already satisfied: protobuf>=3.20.2 in /Library/Frameworks/Python.framework/Versions/3.10/lib/python3.10/site-packages (from onnx->-r ../../requirements.txt (line 8)) (4.25.1)\n",
      "Requirement already satisfied: six>=1.5 in /Users/jernkun/Library/Python/3.10/lib/python/site-packages (from python-dateutil>=2.7->matplotlib->-r ../../requirements.txt (line 6)) (1.16.0)\n",
      "Requirement already satisfied: MarkupSafe>=2.0 in /Library/Frameworks/Python.framework/Versions/3.10/lib/python3.10/site-packages (from jinja2->torch->-r ../../requirements.txt (line 2)) (2.1.3)\n",
      "Requirement already satisfied: mpmath>=0.19 in /Library/Frameworks/Python.framework/Versions/3.10/lib/python3.10/site-packages (from sympy->torch->-r ../../requirements.txt (line 2)) (1.3.0)\n",
      "\u001b[33mWARNING: You are using pip version 21.2.3; however, version 23.3.1 is available.\n",
      "You should consider upgrading via the '/usr/local/bin/python3 -m pip install --upgrade pip' command.\u001b[0m\n",
      "Note: you may need to restart the kernel to use updated packages.\n"
     ]
    }
   ],
   "source": [
    "pip install -r ../../requirements.txt"
   ]
  },
  {
   "cell_type": "code",
   "execution_count": 16,
   "metadata": {},
   "outputs": [],
   "source": [
    "import ezkl\n",
    "import torch\n",
    "from torch import nn\n",
    "import json\n",
    "import os\n",
    "import time\n",
    "import scipy\n",
    "import numpy as np\n",
    "import matplotlib.pyplot as plt\n",
    "import statistics\n",
    "import math"
   ]
  },
  {
   "cell_type": "code",
   "execution_count": 17,
   "metadata": {},
   "outputs": [],
   "source": [
    "%run -i ../../core.py"
   ]
  },
  {
   "attachments": {},
   "cell_type": "markdown",
   "metadata": {},
   "source": []
  },
  {
   "cell_type": "code",
   "execution_count": 18,
   "metadata": {},
   "outputs": [],
   "source": [
    "# init path\n",
    "os.makedirs(os.path.dirname('shared/'), exist_ok=True)\n",
    "os.makedirs(os.path.dirname('prover/'), exist_ok=True)\n",
    "verifier_model_path = os.path.join('shared/verifier.onnx')\n",
    "prover_model_path = os.path.join('prover/prover.onnx')\n",
    "verifier_compiled_model_path = os.path.join('shared/verifier.compiled')\n",
    "prover_compiled_model_path = os.path.join('prover/prover.compiled')\n",
    "pk_path = os.path.join('shared/test.pk')\n",
    "vk_path = os.path.join('shared/test.vk')\n",
    "proof_path = os.path.join('shared/test.pf')\n",
    "settings_path = os.path.join('shared/settings.json')\n",
    "srs_path = os.path.join('shared/kzg.srs')\n",
    "witness_path = os.path.join('prover/witness.json')\n",
    "# this is private to prover since it contains actual data\n",
    "comb_data_path = os.path.join('prover/comb_data.json')"
   ]
  },
  {
   "attachments": {},
   "cell_type": "markdown",
   "metadata": {},
   "source": [
    "=======================  ZK-STATS FLOW ======================="
   ]
  },
  {
   "cell_type": "code",
   "execution_count": 19,
   "metadata": {},
   "outputs": [],
   "source": [
    "data_path = os.path.join('data.json')\n",
    "dummy_data_path = os.path.join('shared/dummy_data.json')\n",
    "\n",
    "f_raw_input = open(data_path, \"r\")\n",
    "data = json.loads(f_raw_input.read())[\"input_data\"][0]\n",
    "data_tensor = torch.reshape(torch.tensor(data),(1, len(data), 1))\n",
    "\n",
    "#  dummy data for data consumer: make the bound approx same as real data\n",
    "dummy_data = np.random.uniform(min(data), max(data), len(data))\n",
    "json.dump({\"input_data\":[dummy_data.tolist()]}, open(dummy_data_path, 'w'))\n",
    "\n",
    "# where(element > 30)\n",
    "dummy_data_tensor = torch.reshape(torch.tensor(dummy_data), (1, len(dummy_data),1 ))\n",
    "gt30_dummy_data_tensor = dummy_data_tensor[dummy_data_tensor > 30].reshape(1,-1,1)\n",
    "dummy_theory_output = torch.mean(gt30_dummy_data_tensor)\n",
    "\n"
   ]
  },
  {
   "cell_type": "code",
   "execution_count": 24,
   "metadata": {},
   "outputs": [
    {
     "name": "stderr",
     "output_type": "stream",
     "text": [
      "/var/folders/89/y9dw12v976ngdmqz4l7wbsnr0000gn/T/ipykernel_53805/4269092790.py:18: TracerWarning: Converting a tensor to a Python boolean might cause the trace to be incorrect. We can't record the data flow of Python values, so this value will be treated as a constant in the future. This means that the trace might not generalize to other inputs!\n",
      "  if new_X_cons:\n",
      "/Library/Frameworks/Python.framework/Versions/3.10/lib/python3.10/site-packages/torch/onnx/symbolic_opset9.py:2174: FutureWarning: 'torch.onnx.symbolic_opset9._cast_Bool' is deprecated in version 2.0 and will be removed in the future. Please Avoid using this function and create a Cast node instead.\n",
      "  return fn(g, to_cast_func(g, input, False), to_cast_func(g, other, False))\n",
      "/Library/Frameworks/Python.framework/Versions/3.10/lib/python3.10/site-packages/torch/onnx/utils.py:1686: UserWarning: The exported ONNX model failed ONNX shape inference. The model will not be executable by the ONNX Runtime. If this is unintended and you believe there is a bug, please report an issue at https://github.com/pytorch/pytorch/issues. Error reported by strict ONNX shape inference: [ShapeInferenceError] (op_type:ConstantOfShape, node name: /ConstantOfShape): input typestr: T1, has unsupported type: tensor(float) (Triggered internally at /Users/runner/work/pytorch/pytorch/pytorch/torch/csrc/jit/serialization/export.cpp:1421.)\n",
      "  _C._check_onnx_proto(proto)\n"
     ]
    }
   ],
   "source": [
    "# Verifier/ data consumer side: send desired calculation\n",
    "class verifier_model(nn.Module):\n",
    "    def __init__(self):\n",
    "        super(verifier_model, self).__init__()\n",
    "        # w represents mean in this case\n",
    "        self.w = nn.Parameter(data = dummy_theory_output, requires_grad = False)\n",
    "        self.new_X = nn.Parameter(data = gt30_dummy_data_tensor,requires_grad = False )\n",
    "\n",
    "    def forward(self,X):\n",
    "        # where part\n",
    "        # Many of these implementations are weird, but make it satisfy zkp of ezkl.\n",
    "        len_ratio =  self.new_X.size()[1]/X.size()[1]\n",
    "        X_where = torch.zeros(len_ratio*X.size()[1]).reshape(1,-1,1)\n",
    "        X_where[0]=self.new_X[0]\n",
    "        # constraint that new_X is indeed X where element is greater than 30\n",
    "        new_X_cons = torch.sum((torch.abs(X[X>30].reshape(1,-1,1)[0]-X_where)<0.01*X_where).double())==X_where.size()[1]\n",
    "\n",
    "        if new_X_cons:\n",
    "            # value from mean calculation\n",
    "            value = torch.abs(torch.sum(X_where)-X_where.size()[1]*(self.w))<=torch.abs(0.01*X_where.size()[1]*self.w)\n",
    "        else:\n",
    "            value = torch.tensor(0)\n",
    "\n",
    "        return (value, self.w)\n",
    "    \n",
    "verifier_define_calculation(verifier_model, verifier_model_path, [dummy_data_path])"
   ]
  },
  {
   "cell_type": "code",
   "execution_count": 25,
   "metadata": {},
   "outputs": [
    {
     "name": "stdout",
     "output_type": "stream",
     "text": [
      "new tensor:  torch.Size([1, 272, 1])\n",
      "Theory_output:  tensor(52.3676)\n",
      "==== Generate & Calibrate Setting ====\n"
     ]
    },
    {
     "name": "stderr",
     "output_type": "stream",
     "text": [
      "/var/folders/89/y9dw12v976ngdmqz4l7wbsnr0000gn/T/ipykernel_53805/1512847886.py:22: TracerWarning: Converting a tensor to a Python boolean might cause the trace to be incorrect. We can't record the data flow of Python values, so this value will be treated as a constant in the future. This means that the trace might not generalize to other inputs!\n",
      "  if new_X_cons:\n"
     ]
    },
    {
     "ename": "RuntimeError",
     "evalue": "Failed to generate settings: Translating node #38 \"/Sub\" Sub ToTypedTranslator",
     "output_type": "error",
     "traceback": [
      "\u001b[0;31m---------------------------------------------------------------------------\u001b[0m",
      "\u001b[0;31mRuntimeError\u001b[0m                              Traceback (most recent call last)",
      "Cell \u001b[0;32mIn[25], line 31\u001b[0m\n\u001b[1;32m     27\u001b[0m         \u001b[39mreturn\u001b[39;00m (torch\u001b[39m.\u001b[39mlogical_and(new_X_cons,torch\u001b[39m.\u001b[39mabs(torch\u001b[39m.\u001b[39msum(X_where)\u001b[39m-\u001b[39mX_where\u001b[39m.\u001b[39msize()[\u001b[39m1\u001b[39m]\u001b[39m*\u001b[39m(\u001b[39mself\u001b[39m\u001b[39m.\u001b[39mw))\u001b[39m<\u001b[39m\u001b[39m=\u001b[39mtorch\u001b[39m.\u001b[39mabs(\u001b[39m0.01\u001b[39m\u001b[39m*\u001b[39mX_where\u001b[39m.\u001b[39msize()[\u001b[39m1\u001b[39m]\u001b[39m*\u001b[39m\u001b[39mself\u001b[39m\u001b[39m.\u001b[39mw) ), \u001b[39mself\u001b[39m\u001b[39m.\u001b[39mw)\n\u001b[1;32m     28\u001b[0m         \u001b[39mreturn\u001b[39;00m (value, \u001b[39mself\u001b[39m\u001b[39m.\u001b[39mw)\n\u001b[0;32m---> 31\u001b[0m prover_gen_settings([data_path], comb_data_path, prover_model,prover_model_path, [\u001b[39m0\u001b[39;49m], \u001b[39m\"\u001b[39;49m\u001b[39mresources\u001b[39;49m\u001b[39m\"\u001b[39;49m, settings_path)\n",
      "File \u001b[0;32m~/Desktop/zk-stats-lib/core.py:99\u001b[0m, in \u001b[0;36mprover_gen_settings\u001b[0;34m(data_path_array, comb_data_path, prover_model, prover_model_path, scale, mode, settings_path)\u001b[0m\n\u001b[1;32m     97\u001b[0m export_onnx(prover_model, data_tensor_array, prover_model_path)\n\u001b[1;32m     98\u001b[0m \u001b[39m# gen + calibrate setting\u001b[39;00m\n\u001b[0;32m---> 99\u001b[0m gen_settings(comb_data_path, prover_model_path, scale, mode, settings_path)\n",
      "File \u001b[0;32m~/Desktop/zk-stats-lib/core.py:55\u001b[0m, in \u001b[0;36mgen_settings\u001b[0;34m(comb_data_path, onnx_filename, scale, mode, settings_filename)\u001b[0m\n\u001b[1;32m     52\u001b[0m  gip_run_args\u001b[39m.\u001b[39mparam_visibility \u001b[39m=\u001b[39m \u001b[39m\"\u001b[39m\u001b[39mprivate\u001b[39m\u001b[39m\"\u001b[39m \u001b[39m# should be Tensor(True)--> to enforce arbitrary data in w\u001b[39;00m\n\u001b[1;32m     54\u001b[0m \u001b[39m# generate settings\u001b[39;00m\n\u001b[0;32m---> 55\u001b[0m  ezkl\u001b[39m.\u001b[39;49mgen_settings(onnx_filename, settings_filename, py_run_args\u001b[39m=\u001b[39;49mgip_run_args)\n\u001b[1;32m     56\u001b[0m  \u001b[39mif\u001b[39;00m scale \u001b[39m==\u001b[39m\u001b[39m\"\u001b[39m\u001b[39mdefault\u001b[39m\u001b[39m\"\u001b[39m:\n\u001b[1;32m     57\u001b[0m    ezkl\u001b[39m.\u001b[39mcalibrate_settings(\n\u001b[1;32m     58\u001b[0m    comb_data_path, onnx_filename, settings_filename, mode)\n",
      "\u001b[0;31mRuntimeError\u001b[0m: Failed to generate settings: Translating node #38 \"/Sub\" Sub ToTypedTranslator"
     ]
    }
   ],
   "source": [
    "# prover calculates settings, send to verifier\n",
    "gt30_data_tensor = data_tensor[data_tensor > 30].reshape(1,-1,1)\n",
    "print(\"new tensor: \", gt30_data_tensor.size())\n",
    "# gt30_data_tensor = torch.reshape(gt30_data_tensor_raw, (1, int(gt30_data_tensor_raw.size()[0]), 1))\n",
    "theory_output = torch.mean(gt30_data_tensor)\n",
    "print(\"Theory_output: \", theory_output)\n",
    "class prover_model(nn.Module):\n",
    "    def __init__(self):\n",
    "        super(prover_model, self).__init__()\n",
    "        # w represents mean in this case\n",
    "        self.w = nn.Parameter(data = theory_output, requires_grad = False)\n",
    "        self.new_X = nn.Parameter(data = gt30_data_tensor,requires_grad = False )\n",
    "    def forward(self,X):\n",
    "        # where part\n",
    "        # Many of these implementations are weird, but make it satisfy zkp of ezkl.\n",
    "        len_ratio =  self.new_X.size()[1]/X.size()[1]\n",
    "        X_where = torch.zeros(len_ratio*X.size()[1]).reshape(1,-1,1)\n",
    "        X_where[0]=self.new_X[0]\n",
    "        # constraint that new_X is indeed X where element is greater than 30\n",
    "        new_X_cons = torch.sum((torch.abs(X[X>30].reshape(1,-1,1)[0]-X_where)<0.01*X_where).double())==X_where.size()[1]\n",
    "\n",
    "        if new_X_cons:\n",
    "            # value from mean calculation\n",
    "            value = torch.abs(torch.sum(X_where)-X_where.size()[1]*(self.w))<=torch.abs(0.01*X_where.size()[1]*self.w)\n",
    "        else:\n",
    "            value = torch.tensor(0)\n",
    "        return (value, self.w)\n",
    "    \n",
    "\n",
    "prover_gen_settings([data_path], comb_data_path, prover_model,prover_model_path, [0], \"resources\", settings_path)"
   ]
  },
  {
   "cell_type": "code",
   "execution_count": 22,
   "metadata": {},
   "outputs": [
    {
     "name": "stderr",
     "output_type": "stream",
     "text": [
      "spawning module 0\n",
      "spawning module 2\n"
     ]
    },
    {
     "name": "stdout",
     "output_type": "stream",
     "text": [
      "==== setting up ezkl ====\n"
     ]
    },
    {
     "name": "stderr",
     "output_type": "stream",
     "text": [
      "spawning module 0\n",
      "spawning module 2\n",
      "spawning module 0\n"
     ]
    },
    {
     "name": "stdout",
     "output_type": "stream",
     "text": [
      "Time setup: 1.1649069786071777 seconds\n",
      "=======================================\n",
      "Theory output:  tensor(52.3676)\n",
      "==== Generating Witness ====\n",
      "witness boolean:  1.0\n",
      "witness result 1 : 52.0\n",
      "==== Generating Proof ====\n"
     ]
    },
    {
     "name": "stderr",
     "output_type": "stream",
     "text": [
      "spawning module 2\n"
     ]
    },
    {
     "name": "stdout",
     "output_type": "stream",
     "text": [
      "proof:  {'instances': [[[17970410297053518904, 9046703063145816218, 2851759239208196922, 164045840560226117], [12436184717236109307, 3962172157175319849, 7381016538464732718, 1011752739694698287], [1460628720732602093, 15005283833837523956, 127539993950163949, 306168462079750959]]], 'proof': '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', 'transcript_type': 'EVM'}\n",
      "Time gen prf: 1.6700890064239502 seconds\n"
     ]
    }
   ],
   "source": [
    "# Here verifier & prover can concurrently call setup since all params are public to get pk. \n",
    "# Here write as verifier function to emphasize that verifier must calculate its own vk to be sure\n",
    "verifier_setup(verifier_model_path, verifier_compiled_model_path, settings_path, srs_path,vk_path, pk_path )\n",
    "\n",
    "print(\"=======================================\")\n",
    "# Prover generates proof\n",
    "print(\"Theory output: \", theory_output)\n",
    "prover_gen_proof(prover_model_path, comb_data_path, witness_path, prover_compiled_model_path, settings_path, proof_path, pk_path, srs_path)"
   ]
  },
  {
   "cell_type": "code",
   "execution_count": 23,
   "metadata": {},
   "outputs": [
    {
     "name": "stdout",
     "output_type": "stream",
     "text": [
      "num_inputs:  1\n",
      "prf instances:  [[[17970410297053518904, 9046703063145816218, 2851759239208196922, 164045840560226117], [12436184717236109307, 3962172157175319849, 7381016538464732718, 1011752739694698287], [1460628720732602093, 15005283833837523956, 127539993950163949, 306168462079750959]]]\n",
      "proof boolean:  1.0\n",
      "proof result 1 : 52.0\n",
      "verified\n"
     ]
    }
   ],
   "source": [
    "# Verifier verifies\n",
    "verifier_verify(proof_path, settings_path, vk_path, srs_path)"
   ]
  },
  {
   "cell_type": "code",
   "execution_count": null,
   "metadata": {},
   "outputs": [],
   "source": []
  }
 ],
 "metadata": {
  "kernelspec": {
   "display_name": "Python 3",
   "language": "python",
   "name": "python3"
  },
  "language_info": {
   "codemirror_mode": {
    "name": "ipython",
    "version": 3
   },
   "file_extension": ".py",
   "mimetype": "text/x-python",
   "name": "python",
   "nbconvert_exporter": "python",
   "pygments_lexer": "ipython3",
   "version": "3.10.0"
  },
  "orig_nbformat": 4
 },
 "nbformat": 4,
 "nbformat_minor": 2
}
