{
 "cells": [
  {
   "cell_type": "code",
   "execution_count": 1,
   "metadata": {},
   "outputs": [
    {
     "name": "stdout",
     "output_type": "stream",
     "text": [
      "Requirement already satisfied: ezkl==7.0.0 in /Library/Frameworks/Python.framework/Versions/3.10/lib/python3.10/site-packages (from -r ../../requirements.txt (line 1)) (7.0.0)\n",
      "Requirement already satisfied: torch in /Library/Frameworks/Python.framework/Versions/3.10/lib/python3.10/site-packages (from -r ../../requirements.txt (line 2)) (2.1.1)\n",
      "Requirement already satisfied: requests in /Library/Frameworks/Python.framework/Versions/3.10/lib/python3.10/site-packages (from -r ../../requirements.txt (line 3)) (2.31.0)\n",
      "Requirement already satisfied: scipy in /Library/Frameworks/Python.framework/Versions/3.10/lib/python3.10/site-packages (from -r ../../requirements.txt (line 4)) (1.11.4)\n",
      "Requirement already satisfied: numpy in /Library/Frameworks/Python.framework/Versions/3.10/lib/python3.10/site-packages (from -r ../../requirements.txt (line 5)) (1.26.2)\n",
      "Requirement already satisfied: matplotlib in /Library/Frameworks/Python.framework/Versions/3.10/lib/python3.10/site-packages (from -r ../../requirements.txt (line 6)) (3.8.2)\n",
      "Requirement already satisfied: statistics in /Library/Frameworks/Python.framework/Versions/3.10/lib/python3.10/site-packages (from -r ../../requirements.txt (line 7)) (1.0.3.5)\n",
      "Requirement already satisfied: onnx in /Library/Frameworks/Python.framework/Versions/3.10/lib/python3.10/site-packages (from -r ../../requirements.txt (line 8)) (1.15.0)\n",
      "Requirement already satisfied: fsspec in /Library/Frameworks/Python.framework/Versions/3.10/lib/python3.10/site-packages (from torch->-r ../../requirements.txt (line 2)) (2023.10.0)\n",
      "Requirement already satisfied: typing-extensions in /Library/Frameworks/Python.framework/Versions/3.10/lib/python3.10/site-packages (from torch->-r ../../requirements.txt (line 2)) (4.8.0)\n",
      "Requirement already satisfied: sympy in /Library/Frameworks/Python.framework/Versions/3.10/lib/python3.10/site-packages (from torch->-r ../../requirements.txt (line 2)) (1.12)\n",
      "Requirement already satisfied: filelock in /Library/Frameworks/Python.framework/Versions/3.10/lib/python3.10/site-packages (from torch->-r ../../requirements.txt (line 2)) (3.13.1)\n",
      "Requirement already satisfied: networkx in /Library/Frameworks/Python.framework/Versions/3.10/lib/python3.10/site-packages (from torch->-r ../../requirements.txt (line 2)) (3.2.1)\n",
      "Requirement already satisfied: jinja2 in /Library/Frameworks/Python.framework/Versions/3.10/lib/python3.10/site-packages (from torch->-r ../../requirements.txt (line 2)) (3.1.2)\n",
      "Requirement already satisfied: urllib3<3,>=1.21.1 in /Library/Frameworks/Python.framework/Versions/3.10/lib/python3.10/site-packages (from requests->-r ../../requirements.txt (line 3)) (2.1.0)\n",
      "Requirement already satisfied: idna<4,>=2.5 in /Library/Frameworks/Python.framework/Versions/3.10/lib/python3.10/site-packages (from requests->-r ../../requirements.txt (line 3)) (3.6)\n",
      "Requirement already satisfied: certifi>=2017.4.17 in /Library/Frameworks/Python.framework/Versions/3.10/lib/python3.10/site-packages (from requests->-r ../../requirements.txt (line 3)) (2023.11.17)\n",
      "Requirement already satisfied: charset-normalizer<4,>=2 in /Library/Frameworks/Python.framework/Versions/3.10/lib/python3.10/site-packages (from requests->-r ../../requirements.txt (line 3)) (3.3.2)\n",
      "Requirement already satisfied: fonttools>=4.22.0 in /Library/Frameworks/Python.framework/Versions/3.10/lib/python3.10/site-packages (from matplotlib->-r ../../requirements.txt (line 6)) (4.45.1)\n",
      "Requirement already satisfied: contourpy>=1.0.1 in /Library/Frameworks/Python.framework/Versions/3.10/lib/python3.10/site-packages (from matplotlib->-r ../../requirements.txt (line 6)) (1.2.0)\n",
      "Requirement already satisfied: python-dateutil>=2.7 in /Users/jernkun/Library/Python/3.10/lib/python/site-packages (from matplotlib->-r ../../requirements.txt (line 6)) (2.8.2)\n",
      "Requirement already satisfied: cycler>=0.10 in /Library/Frameworks/Python.framework/Versions/3.10/lib/python3.10/site-packages (from matplotlib->-r ../../requirements.txt (line 6)) (0.12.1)\n",
      "Requirement already satisfied: kiwisolver>=1.3.1 in /Library/Frameworks/Python.framework/Versions/3.10/lib/python3.10/site-packages (from matplotlib->-r ../../requirements.txt (line 6)) (1.4.5)\n",
      "Requirement already satisfied: packaging>=20.0 in /Users/jernkun/Library/Python/3.10/lib/python/site-packages (from matplotlib->-r ../../requirements.txt (line 6)) (23.2)\n",
      "Requirement already satisfied: pillow>=8 in /Library/Frameworks/Python.framework/Versions/3.10/lib/python3.10/site-packages (from matplotlib->-r ../../requirements.txt (line 6)) (10.1.0)\n",
      "Requirement already satisfied: pyparsing>=2.3.1 in /Library/Frameworks/Python.framework/Versions/3.10/lib/python3.10/site-packages (from matplotlib->-r ../../requirements.txt (line 6)) (3.1.1)\n",
      "Requirement already satisfied: docutils>=0.3 in /Library/Frameworks/Python.framework/Versions/3.10/lib/python3.10/site-packages (from statistics->-r ../../requirements.txt (line 7)) (0.20.1)\n",
      "Requirement already satisfied: protobuf>=3.20.2 in /Library/Frameworks/Python.framework/Versions/3.10/lib/python3.10/site-packages (from onnx->-r ../../requirements.txt (line 8)) (4.25.1)\n",
      "Requirement already satisfied: six>=1.5 in /Users/jernkun/Library/Python/3.10/lib/python/site-packages (from python-dateutil>=2.7->matplotlib->-r ../../requirements.txt (line 6)) (1.16.0)\n",
      "Requirement already satisfied: MarkupSafe>=2.0 in /Library/Frameworks/Python.framework/Versions/3.10/lib/python3.10/site-packages (from jinja2->torch->-r ../../requirements.txt (line 2)) (2.1.3)\n",
      "Requirement already satisfied: mpmath>=0.19 in /Library/Frameworks/Python.framework/Versions/3.10/lib/python3.10/site-packages (from sympy->torch->-r ../../requirements.txt (line 2)) (1.3.0)\n",
      "\u001b[33mWARNING: You are using pip version 21.2.3; however, version 23.3.2 is available.\n",
      "You should consider upgrading via the '/usr/local/bin/python3 -m pip install --upgrade pip' command.\u001b[0m\n",
      "Note: you may need to restart the kernel to use updated packages.\n"
     ]
    }
   ],
   "source": [
    "pip install -r ../../requirements.txt"
   ]
  },
  {
   "cell_type": "code",
   "execution_count": 1,
   "metadata": {},
   "outputs": [],
   "source": [
    "import ezkl\n",
    "import torch\n",
    "from torch import nn\n",
    "import json\n",
    "import os\n",
    "import time\n",
    "import scipy\n",
    "import numpy as np\n",
    "import matplotlib.pyplot as plt\n",
    "import statistics\n",
    "import math"
   ]
  },
  {
   "cell_type": "code",
   "execution_count": 2,
   "metadata": {},
   "outputs": [],
   "source": [
    "%run -i ../../zkstats/core.py"
   ]
  },
  {
   "attachments": {},
   "cell_type": "markdown",
   "metadata": {},
   "source": []
  },
  {
   "cell_type": "code",
   "execution_count": 3,
   "metadata": {},
   "outputs": [],
   "source": [
    "# init path\n",
    "os.makedirs(os.path.dirname('shared/'), exist_ok=True)\n",
    "os.makedirs(os.path.dirname('prover/'), exist_ok=True)\n",
    "verifier_model_path = os.path.join('shared/verifier.onnx')\n",
    "prover_model_path = os.path.join('prover/prover.onnx')\n",
    "verifier_compiled_model_path = os.path.join('shared/verifier.compiled')\n",
    "prover_compiled_model_path = os.path.join('prover/prover.compiled')\n",
    "pk_path = os.path.join('shared/test.pk')\n",
    "vk_path = os.path.join('shared/test.vk')\n",
    "proof_path = os.path.join('shared/test.pf')\n",
    "settings_path = os.path.join('shared/settings.json')\n",
    "srs_path = os.path.join('shared/kzg.srs')\n",
    "witness_path = os.path.join('prover/witness.json')\n",
    "# this is private to prover since it contains actual data\n",
    "comb_data_path = os.path.join('prover/comb_data.json')"
   ]
  },
  {
   "attachments": {},
   "cell_type": "markdown",
   "metadata": {},
   "source": [
    "=======================  ZK-STATS FLOW ======================="
   ]
  },
  {
   "cell_type": "code",
   "execution_count": 4,
   "metadata": {},
   "outputs": [],
   "source": [
    "def mode_within(data_array, percent):\n",
    "    max_sum_freq = 0\n",
    "    mode = data_array[0]\n",
    "\n",
    "    for check_val in set(data_array):\n",
    "        sum_freq = sum(1 for ele in data_array if abs(ele - check_val) <= abs(percent * check_val / 100))\n",
    "\n",
    "        if sum_freq > max_sum_freq:\n",
    "            mode = check_val\n",
    "            max_sum_freq = sum_freq\n",
    "\n",
    "    return mode"
   ]
  },
  {
   "cell_type": "code",
   "execution_count": 5,
   "metadata": {},
   "outputs": [],
   "source": [
    "data_path = os.path.join('data.json')\n",
    "dummy_data_path = os.path.join('shared/dummy_data.json')\n",
    "\n",
    "f_raw_input = open(data_path, \"r\")\n",
    "data = json.loads(f_raw_input.read())[\"input_data\"][0]\n",
    "data_tensor = torch.reshape(torch.tensor(data),(1, len(data), 1))\n",
    "\n",
    "\n",
    "dummy_data = np.round(np.random.uniform(1,10,len(data)),1)\n",
    "json.dump({\"input_data\":[dummy_data.tolist()]}, open(dummy_data_path, 'w'))\n",
    "\n",
    "dummy_data_tensor = torch.reshape(torch.tensor(dummy_data), (1, len(dummy_data),1 ))\n",
    "dummy_theory_output = torch.tensor(mode_within(dummy_data,1))\n",
    "\n",
    "\n"
   ]
  },
  {
   "cell_type": "code",
   "execution_count": 6,
   "metadata": {},
   "outputs": [
    {
     "name": "stdout",
     "output_type": "stream",
     "text": [
      "dummy output:  tensor(4.6000, dtype=torch.float64)\n"
     ]
    },
    {
     "name": "stderr",
     "output_type": "stream",
     "text": [
      "/var/folders/89/y9dw12v976ngdmqz4l7wbsnr0000gn/T/ipykernel_44922/1447245977.py:10: TracerWarning: Iterating over a tensor might cause the trace to be incorrect. Passing a tensor of different shape won't change the number of iterations executed (and might lead to errors or silently give incorrect results).\n",
      "  result = torch.tensor([torch.sum((torch.abs(X-ele[0])<=torch.abs(0.01*ele[0])).double())<=count_equal for ele in X[0]])\n",
      "/var/folders/89/y9dw12v976ngdmqz4l7wbsnr0000gn/T/ipykernel_44922/1447245977.py:10: TracerWarning: torch.tensor results are registered as constants in the trace. You can safely ignore this warning if you use this function to create tensors out of constant variables that would be the same every time you call this function. In any other case, this might cause the trace to be incorrect.\n",
      "  result = torch.tensor([torch.sum((torch.abs(X-ele[0])<=torch.abs(0.01*ele[0])).double())<=count_equal for ele in X[0]])\n"
     ]
    }
   ],
   "source": [
    "print(\"dummy output: \", dummy_theory_output)\n",
    "# Verifier/ data consumer side: send desired calculation\n",
    "class verifier_model(nn.Module):\n",
    "    def __init__(self):\n",
    "        super(verifier_model, self).__init__()\n",
    "        # w represents mean in this case\n",
    "        self.w = nn.Parameter(data = dummy_theory_output, requires_grad = False)\n",
    "    def forward(self,X):\n",
    "        count_equal = torch.sum((torch.abs(X-self.w)<=torch.abs(0.01*self.w)).double())\n",
    "        result = torch.tensor([torch.sum((torch.abs(X-ele[0])<=torch.abs(0.01*ele[0])).double())<=count_equal for ele in X[0]])\n",
    "        return (torch.sum(result) == X.size()[1], self.w)\n",
    "    \n",
    "verifier_define_calculation(verifier_model, verifier_model_path, [dummy_data_path])"
   ]
  },
  {
   "cell_type": "code",
   "execution_count": 7,
   "metadata": {},
   "outputs": [
    {
     "name": "stderr",
     "output_type": "stream",
     "text": [
      "/var/folders/89/y9dw12v976ngdmqz4l7wbsnr0000gn/T/ipykernel_44922/436594305.py:14: TracerWarning: Iterating over a tensor might cause the trace to be incorrect. Passing a tensor of different shape won't change the number of iterations executed (and might lead to errors or silently give incorrect results).\n",
      "  result = torch.tensor([torch.sum((torch.abs(X-ele[0])<=torch.abs(0.01*ele[0])).double())<=count_equal for ele in X[0]])\n"
     ]
    },
    {
     "name": "stdout",
     "output_type": "stream",
     "text": [
      "Theory_output:  tensor(77.)\n",
      "==== Generate & Calibrate Setting ====\n",
      "scale:  default\n",
      "setting:  {\"run_args\":{\"tolerance\":{\"val\":0.0,\"scale\":1.0},\"input_scale\":9,\"param_scale\":9,\"scale_rebase_multiplier\":10,\"lookup_range\":[0,0],\"logrows\":14,\"num_inner_cols\":2,\"variables\":[[\"batch_size\",1]],\"input_visibility\":{\"Hashed\":{\"hash_is_public\":true,\"outlets\":[]}},\"output_visibility\":\"Public\",\"param_visibility\":\"Private\"},\"num_rows\":14432,\"total_assignments\":300,\"total_const_size\":0,\"model_instance_shapes\":[[1],[1]],\"model_output_scales\":[0,9],\"model_input_scales\":[9],\"module_sizes\":{\"kzg\":[],\"poseidon\":[14432,[1]],\"elgamal\":[0,[0]]},\"required_lookups\":[],\"check_mode\":\"UNSAFE\",\"version\":\"7.0.0\",\"num_blinding_factors\":null}\n"
     ]
    },
    {
     "name": "stderr",
     "output_type": "stream",
     "text": [
      "/var/folders/89/y9dw12v976ngdmqz4l7wbsnr0000gn/T/ipykernel_44922/436594305.py:14: TracerWarning: torch.tensor results are registered as constants in the trace. You can safely ignore this warning if you use this function to create tensors out of constant variables that would be the same every time you call this function. In any other case, this might cause the trace to be incorrect.\n",
      "  result = torch.tensor([torch.sum((torch.abs(X-ele[0])<=torch.abs(0.01*ele[0])).double())<=count_equal for ele in X[0]])\n"
     ]
    }
   ],
   "source": [
    "# prover calculates settings, send to verifier\n",
    "\n",
    "theory_output = torch.tensor(mode_within(data,1))\n",
    "\n",
    "print(\"Theory_output: \", theory_output)\n",
    "class prover_model(nn.Module):\n",
    "    def __init__(self):\n",
    "        super(prover_model, self).__init__()\n",
    "        # w represents mean in this case\n",
    "        self.w = nn.Parameter(data = theory_output, requires_grad = False)\n",
    "\n",
    "    def forward(self,X):\n",
    "        count_equal = torch.sum((torch.abs(X-self.w)<=torch.abs(0.01*self.w)).double())\n",
    "        result = torch.tensor([torch.sum((torch.abs(X-ele[0])<=torch.abs(0.01*ele[0])).double())<=count_equal for ele in X[0]])\n",
    "        return (torch.sum(result) == X.size()[1], self.w)\n",
    "\n",
    "prover_gen_settings([data_path], comb_data_path, prover_model,prover_model_path, \"default\", \"resources\", settings_path)"
   ]
  },
  {
   "cell_type": "code",
   "execution_count": 8,
   "metadata": {},
   "outputs": [
    {
     "name": "stdout",
     "output_type": "stream",
     "text": [
      "{'run_args': {'tolerance': {'val': 0.0, 'scale': 1.0}, 'input_scale': 9, 'param_scale': 9, 'scale_rebase_multiplier': 10, 'lookup_range': [0, 0], 'logrows': 14, 'num_inner_cols': 2, 'variables': [['batch_size', 1]], 'input_visibility': {'Hashed': {'hash_is_public': True, 'outlets': []}}, 'output_visibility': 'Public', 'param_visibility': 'Private'}, 'num_rows': 14432, 'total_assignments': 300, 'total_const_size': 0, 'model_instance_shapes': [[1], [1]], 'model_output_scales': [0, 9], 'model_input_scales': [9], 'module_sizes': {'kzg': [], 'poseidon': [14432, [1]], 'elgamal': [0, [0]]}, 'required_lookups': [], 'check_mode': 'UNSAFE', 'version': '7.0.0', 'num_blinding_factors': None}\n",
      "<class 'int'>\n"
     ]
    }
   ],
   "source": [
    "settings_read = json.load(open(settings_path, 'r'))\n",
    "print(settings_read)\n",
    "print(type(settings_read['run_args']['logrows']))"
   ]
  },
  {
   "cell_type": "code",
   "execution_count": 9,
   "metadata": {},
   "outputs": [
    {
     "name": "stderr",
     "output_type": "stream",
     "text": [
      "spawning module 0\n",
      "spawning module 2\n",
      "spawning module 0\n"
     ]
    },
    {
     "name": "stdout",
     "output_type": "stream",
     "text": [
      "==== setting up ezkl ====\n"
     ]
    },
    {
     "name": "stderr",
     "output_type": "stream",
     "text": [
      "spawning module 2\n",
      "spawning module 0\n"
     ]
    },
    {
     "name": "stdout",
     "output_type": "stream",
     "text": [
      "Time setup: 1.3558268547058105 seconds\n",
      "=======================================\n",
      "Theory output:  tensor(77.)\n",
      "!@# compiled_model exists? True\n",
      "!@# compiled_model exists? True\n",
      "==== Generating Witness ====\n",
      "witness boolean:  1.0\n",
      "witness result 1 : 77.0\n",
      "==== Generating Proof ====\n"
     ]
    },
    {
     "name": "stderr",
     "output_type": "stream",
     "text": [
      "spawning module 2\n"
     ]
    },
    {
     "name": "stdout",
     "output_type": "stream",
     "text": [
      "proof:  {'instances': [[[8148670344449872040, 3850172417927569887, 9386325907200828332, 1904490596485556704], [12436184717236109307, 3962172157175319849, 7381016538464732718, 1011752739694698287], [7029749938363617618, 11538692499682334571, 8918902057354509017, 3053834031406807957]]], 'proof': '178f3cbb464930eeb074e60aae9f1629dca90b16e81612ca19781fee360054ed0fa5a8b1693ce5df3938e36490f12ec74135c8a04bdae3896e8f327f7500e4cb1fdf6d74557a78e312d902a08f00ade8fb0c6380d1ec7ed932507e3fa63baf74126420f20dfad37b8b9339ed9677994149920f445ec2387d5642c386b515d1180d6127eaa4e659034f25f62d114263691ff09907b18d128aa79c36cf8335ad3e2224e03970e5a0ddd5fad56713c893f213a7f6da80fa92f9e4c274c8c259beeb15438ce6eb717775503cd3a05e611284be196985a7d8925d1aa93ef88dbdf162095a0f8e0745cfee97b3a1ae106ce8290eff0bb7292a0362a05274ea224c16300b9c4ea0c4ac7b434b6a1e335cce0f5f89abde37b9ad96a560f8aa94977f23d5017bca2160a262b93e0fc73a59a231d77ec21163750d9b56fe05de362fed75b328ef5abd13a756ee9165fb2ac25fab2eaa9434e977d3471cd8b80f4bec3027ba2343cb87b5b8799d3a2b4641ace3d1fe389ee16fa794894f51e2178e31c70575287a35b27aa2a96d4b100d9d65f4aed18b146f4fde05f6317778608b955a2f7023ac8b287288178fe3cc730d5f1e27ab1618bbc10c8be0d9f432f97174ee63771ac5209b3f45e34e8c719978f956c00c89e412f05bc1725b27d1eb30bd204f290146e92145e4e2276b531016685de015ab95afb67e50d39f532bb5cb8389b1231f0076576258a75bf0e11d75f772a9887cc3c620b270b1ab1f857f2bac3aa1fc12ddda94595a32437291110e368e79fdebbfca31ec3cf279e37eec2cfe938d6d299d4db257fbfddc54588ba9dab9daf0494f5e83bee9eccba60f893b55051fb01584b200fca9904449a1b1f48ec0ec78515a84b8c0032573c5edea1a10d606a20b412fb1dc6fe980f2c8d2a4cd7d9f2936eedfdcc5f88437e558e41028a90092004597073d8e49fa314fde7c18c614966805aa871a3ff4c711430ad9db09a9562d5bab3d36c4a874d37b1a6f3844e8971d799c519959866d719faf1d23ccc3aa1374ffff2a9243bf9dbf9d5055808100e244917550d526ffa997f332b1aff8cf25c48d66e1dfbcd385fd1e4e205a89cb030ca14ebbe1dc615a03ffd192892af50f7cfca7b303fa636f8183dce107990a4cd35d3e89abe933b41e757c7166f6a3188868542cc54ebe99a475e377f87f643de339d625a8475df2ddee0d25b027fe22fa00fa8209fa52cdac9b75d6e46d0304274c7fe30e56d96ddd2392468bb2f203f4398b026bb9b9e1b144e6beeb59e1fcba5c6eade15e47078b7e393a3c375f2485beda29f37ba646c2ddf615fa4c6b23a550548649cfa0aebb3f8539b1c0260a44ae6f1a28f19884cfe6a404b111dc4bd5039d24573c8623a47c7eb2c2aae1283db34b91b548ac7d515d9499b32c5fca3cbcddd04b8a67afc03d3fd23db46c2721c73bf8e908c3234021d15e468793543e6c306fabeb4befd52d09005f70901859626ba868ee70891fc1df9b9369c566e389c9199815b16e0c4a9adb7c44b926ebf0ebe0a512b77e11f5ca61d19dfd49c8a06e6b551051e7c6daabfcae843c0f2654623325efbfa17896fa243de0bbd09b605a72162750283ad1ae60dc6fb027b93d3adc22517c7ba22e3e20e951270a97cc655ab8fef3cade9990e960a3850ed17b92d8c3e41dddd58caa0b28fa2aeb9340fa11ff6d818a05f1b4aa88d28e195d3bb36f3a6eedbed4b00e04cea73328597dbc1cd2a0467451b1ff753bde3b2d1405ccc99c775a96da88c9cf48585d42206720aab8d2433419495986d39abb2e0460dc7f947dbe09e99fad0f393d13761fbc4cb8f22c2baaf01ec19225125a21b409ff71ce8c8d243e8b7def143bbc519756424e1320cea4da10e44adf7d8b0dc151cec8ba1fa5a6f556287db05d7adf6eba1cb7b26539f27b2d88c158be1217810357cc8a63128d749e8c2e37ca4863be81b0e7cc6f3b203e9ea4e1c01fa804ddb7ff8f2cdc406cb4de36c93bb097caeacdb79e0a16d91589a75d2bc4f05e2f087b05482b48b798d284bb3731f941fdbad4bf042c6fdc73aa2eb47c1dbd440b36dfcee4919a8b711b38f89d510ac4e606846c703dec98972d0e0adeac2d40101c8b5ea75e7c8d2c361015864f7eb4dc4a175a027da6d5d804f88f051ef32b170bb421c26ee062b9b3f4b5b78b76b6f693fc08f5fff505829dcfa89ab23b5109f1c55ff1211ef81fe02728d14eb8501ff2ae249dec56a0bbce0a62c08db054219b58b797941b7e19231b6b452e8fa3470b758e92bb8d9771b884a888a4db3b18120a70ffba5fd1aa36e74b1ad6e79111f5e1bf79125409aacd74715828b5d706002bdf8b6699fd24ab232d8db7a1795cbc8a1dda3de7968221c376e9e1d56315e42df576d9126ab84ddc7c3c2b681462cdd0c0f458ae429122f8ecf2fc58622aaac7d10af3ddce6107e84a13018da5ad9d32fa35916c8b000f9971affefecb067fa3a7fa3b759f6b6e6b0a847697c7c2f269780b09a623ab96141a0188218504e24a4c6eb4d07e2fdbdee15e1a1f721ff6c776f146ccd11834001e94700a1014d236ac433164a8544d1309e6fb64b2d4c27a1c495b3b94e02c9f904db9e19f000000000000000000000000000000000000000000000000000000000000000000000000000000000000000000000000000000000000000000000000000000000000000000000000000000000000000000000000000000000000000000000000000000000000000000000000000000000000000000000000000000000000000000000000000000000000000000000000000000000000000000000000000000000d9bbb8577e5501e0c77c8ca3a081c5012b6b07c77d3beb61d28987456bf005a06515bed972d457adfebc0fb4905dbf2c2293c7a8786b54dca1db625c128bf980ea97a1d90ba1eb1abfd9d76a26558fb18e8f3af246d6dc26fdfe2cbead60ce4119fa716007410c67f0e8c4f76486553abf3fbc53b05f956d79ca9d01293887b292178d7112be13d5376e78e9e7665ed5aa30494aba6b97a96104bf262be80e5253ab4cb44d3bac669c24d94e8d8e613a958da660b9ecc125e66bc8cc5271e711a0d32eca70b7f5f82904c953a856b5989b5184a4a5caad9b200bc3dd6ee34422a258c6c9f676bb188b12a36daaef5af621aab4e71a180cc7837b785b47326750687f425dd3c3359ce291333db6d91d0354040767126153ac21db615505ea62113a80753a8fc692a886eac24dfb261b4237487877995d528943306927fc5bcc51371b9f8df3051ada8e5bf987d6c7a64730c05124c45a41d03db84ce1cea50bb0d69898528ae431a228bda6f85bcaee3b8744f22fa7bbb08526ad31e684bfb1813e0e62944ef94f5ee834eb86b3c606f0b8e06dff0316da6bedaa7892907ce891ddcc3007aade094e363b74007ba577791986440a756184789d32f5ace9de5df1fe5a41bb0edb45d298e72d886c761d407c6b320128036452b73df09169bf6c025108a52797977fd9457b0d93b103d81ed566fef9102f3124e0fbdf035b2139b03a02c08696288e2af0a04b0533c6883733fc36b889349645670c6e8c133dc4c09d2d926817123f8d4a9db1b8a9d745a255fa79991b5e6d9c1e3289a049ca0b811b28856300a29f1e4205773c6c66f96bcd7a2553acb9f94e360269c4e46c569277c57b5556c60105003df150a8312bff41b23d898418f3625406743e79d048708cb7861a9f772b71bee431c83af1748a60ab48a864b0c90448de0b14b2403ab1fa0aa0f45c4bb60fbf6a2fe59050ad40a347c522cd817b7ff2000be12c416cc2e6567773f09dc4e7317c23324ae71926d8541e16d8202f2e55b6b1b5be6bb4a0b976e5a633ed619ab89fc8053d31f6b9495e1e158c3632c73459f03586c49792f4ef59124bf6a81979c9596f581a4aac0c0d1feb20e6c3b0f0e237b7395f41c', 'transcript_type': 'EVM'}\n",
      "Time gen prf: 1.6757171154022217 seconds\n"
     ]
    }
   ],
   "source": [
    "# Here verifier & prover can concurrently call setup since all params are public to get pk. \n",
    "# Here write as verifier function to emphasize that verifier must calculate its own vk to be sure\n",
    "verifier_setup(verifier_model_path, verifier_compiled_model_path, settings_path,vk_path, pk_path )\n",
    "\n",
    "print(\"=======================================\")\n",
    "# Prover generates proof\n",
    "print(\"Theory output: \", theory_output)\n",
    "prover_gen_proof(prover_model_path, comb_data_path, witness_path, prover_compiled_model_path, settings_path, proof_path, pk_path)"
   ]
  },
  {
   "cell_type": "code",
   "execution_count": 10,
   "metadata": {},
   "outputs": [
    {
     "name": "stdout",
     "output_type": "stream",
     "text": [
      "num_inputs:  1\n",
      "prf instances:  [[[8148670344449872040, 3850172417927569887, 9386325907200828332, 1904490596485556704], [12436184717236109307, 3962172157175319849, 7381016538464732718, 1011752739694698287], [7029749938363617618, 11538692499682334571, 8918902057354509017, 3053834031406807957]]]\n",
      "proof boolean:  1.0\n",
      "proof result 1 : 77.0\n",
      "verified\n"
     ]
    }
   ],
   "source": [
    "# Verifier verifies\n",
    "verifier_verify(proof_path, settings_path, vk_path)"
   ]
  },
  {
   "cell_type": "code",
   "execution_count": null,
   "metadata": {},
   "outputs": [],
   "source": []
  }
 ],
 "metadata": {
  "kernelspec": {
   "display_name": "Python 3",
   "language": "python",
   "name": "python3"
  },
  "language_info": {
   "codemirror_mode": {
    "name": "ipython",
    "version": 3
   },
   "file_extension": ".py",
   "mimetype": "text/x-python",
   "name": "python",
   "nbconvert_exporter": "python",
   "pygments_lexer": "ipython3",
   "version": "3.10.0"
  },
  "orig_nbformat": 4
 },
 "nbformat": 4,
 "nbformat_minor": 2
}
