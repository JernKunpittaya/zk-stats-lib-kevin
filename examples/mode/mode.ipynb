{
 "cells": [
  {
   "cell_type": "code",
   "execution_count": 13,
   "metadata": {},
   "outputs": [
    {
     "name": "stdout",
     "output_type": "stream",
     "text": [
      "Requirement already satisfied: ezkl==7.0.0 in /Library/Frameworks/Python.framework/Versions/3.10/lib/python3.10/site-packages (from -r ../../requirements.txt (line 1)) (7.0.0)\n",
      "Requirement already satisfied: torch in /Library/Frameworks/Python.framework/Versions/3.10/lib/python3.10/site-packages (from -r ../../requirements.txt (line 2)) (2.1.1)\n",
      "Requirement already satisfied: requests in /Library/Frameworks/Python.framework/Versions/3.10/lib/python3.10/site-packages (from -r ../../requirements.txt (line 3)) (2.31.0)\n",
      "Requirement already satisfied: scipy in /Library/Frameworks/Python.framework/Versions/3.10/lib/python3.10/site-packages (from -r ../../requirements.txt (line 4)) (1.11.4)\n",
      "Requirement already satisfied: numpy in /Library/Frameworks/Python.framework/Versions/3.10/lib/python3.10/site-packages (from -r ../../requirements.txt (line 5)) (1.26.2)\n",
      "Requirement already satisfied: matplotlib in /Library/Frameworks/Python.framework/Versions/3.10/lib/python3.10/site-packages (from -r ../../requirements.txt (line 6)) (3.8.2)\n",
      "Requirement already satisfied: statistics in /Library/Frameworks/Python.framework/Versions/3.10/lib/python3.10/site-packages (from -r ../../requirements.txt (line 7)) (1.0.3.5)\n",
      "Requirement already satisfied: onnx in /Library/Frameworks/Python.framework/Versions/3.10/lib/python3.10/site-packages (from -r ../../requirements.txt (line 8)) (1.15.0)\n",
      "Requirement already satisfied: networkx in /Library/Frameworks/Python.framework/Versions/3.10/lib/python3.10/site-packages (from torch->-r ../../requirements.txt (line 2)) (3.2.1)\n",
      "Requirement already satisfied: filelock in /Library/Frameworks/Python.framework/Versions/3.10/lib/python3.10/site-packages (from torch->-r ../../requirements.txt (line 2)) (3.13.1)\n",
      "Requirement already satisfied: fsspec in /Library/Frameworks/Python.framework/Versions/3.10/lib/python3.10/site-packages (from torch->-r ../../requirements.txt (line 2)) (2023.10.0)\n",
      "Requirement already satisfied: jinja2 in /Library/Frameworks/Python.framework/Versions/3.10/lib/python3.10/site-packages (from torch->-r ../../requirements.txt (line 2)) (3.1.2)\n",
      "Requirement already satisfied: typing-extensions in /Library/Frameworks/Python.framework/Versions/3.10/lib/python3.10/site-packages (from torch->-r ../../requirements.txt (line 2)) (4.8.0)\n",
      "Requirement already satisfied: sympy in /Library/Frameworks/Python.framework/Versions/3.10/lib/python3.10/site-packages (from torch->-r ../../requirements.txt (line 2)) (1.12)\n",
      "Requirement already satisfied: charset-normalizer<4,>=2 in /Library/Frameworks/Python.framework/Versions/3.10/lib/python3.10/site-packages (from requests->-r ../../requirements.txt (line 3)) (3.3.2)\n",
      "Requirement already satisfied: certifi>=2017.4.17 in /Library/Frameworks/Python.framework/Versions/3.10/lib/python3.10/site-packages (from requests->-r ../../requirements.txt (line 3)) (2023.11.17)\n",
      "Requirement already satisfied: urllib3<3,>=1.21.1 in /Library/Frameworks/Python.framework/Versions/3.10/lib/python3.10/site-packages (from requests->-r ../../requirements.txt (line 3)) (2.1.0)\n",
      "Requirement already satisfied: idna<4,>=2.5 in /Library/Frameworks/Python.framework/Versions/3.10/lib/python3.10/site-packages (from requests->-r ../../requirements.txt (line 3)) (3.6)\n",
      "Requirement already satisfied: cycler>=0.10 in /Library/Frameworks/Python.framework/Versions/3.10/lib/python3.10/site-packages (from matplotlib->-r ../../requirements.txt (line 6)) (0.12.1)\n",
      "Requirement already satisfied: python-dateutil>=2.7 in /Users/jernkun/Library/Python/3.10/lib/python/site-packages (from matplotlib->-r ../../requirements.txt (line 6)) (2.8.2)\n",
      "Requirement already satisfied: kiwisolver>=1.3.1 in /Library/Frameworks/Python.framework/Versions/3.10/lib/python3.10/site-packages (from matplotlib->-r ../../requirements.txt (line 6)) (1.4.5)\n",
      "Requirement already satisfied: fonttools>=4.22.0 in /Library/Frameworks/Python.framework/Versions/3.10/lib/python3.10/site-packages (from matplotlib->-r ../../requirements.txt (line 6)) (4.45.1)\n",
      "Requirement already satisfied: pillow>=8 in /Library/Frameworks/Python.framework/Versions/3.10/lib/python3.10/site-packages (from matplotlib->-r ../../requirements.txt (line 6)) (10.1.0)\n",
      "Requirement already satisfied: packaging>=20.0 in /Users/jernkun/Library/Python/3.10/lib/python/site-packages (from matplotlib->-r ../../requirements.txt (line 6)) (23.2)\n",
      "Requirement already satisfied: pyparsing>=2.3.1 in /Library/Frameworks/Python.framework/Versions/3.10/lib/python3.10/site-packages (from matplotlib->-r ../../requirements.txt (line 6)) (3.1.1)\n",
      "Requirement already satisfied: contourpy>=1.0.1 in /Library/Frameworks/Python.framework/Versions/3.10/lib/python3.10/site-packages (from matplotlib->-r ../../requirements.txt (line 6)) (1.2.0)\n",
      "Requirement already satisfied: docutils>=0.3 in /Library/Frameworks/Python.framework/Versions/3.10/lib/python3.10/site-packages (from statistics->-r ../../requirements.txt (line 7)) (0.20.1)\n",
      "Requirement already satisfied: protobuf>=3.20.2 in /Library/Frameworks/Python.framework/Versions/3.10/lib/python3.10/site-packages (from onnx->-r ../../requirements.txt (line 8)) (4.25.1)\n",
      "Requirement already satisfied: six>=1.5 in /Users/jernkun/Library/Python/3.10/lib/python/site-packages (from python-dateutil>=2.7->matplotlib->-r ../../requirements.txt (line 6)) (1.16.0)\n",
      "Requirement already satisfied: MarkupSafe>=2.0 in /Library/Frameworks/Python.framework/Versions/3.10/lib/python3.10/site-packages (from jinja2->torch->-r ../../requirements.txt (line 2)) (2.1.3)\n",
      "Requirement already satisfied: mpmath>=0.19 in /Library/Frameworks/Python.framework/Versions/3.10/lib/python3.10/site-packages (from sympy->torch->-r ../../requirements.txt (line 2)) (1.3.0)\n",
      "\u001b[33mWARNING: You are using pip version 21.2.3; however, version 23.3.2 is available.\n",
      "You should consider upgrading via the '/usr/local/bin/python3 -m pip install --upgrade pip' command.\u001b[0m\n",
      "Note: you may need to restart the kernel to use updated packages.\n"
     ]
    }
   ],
   "source": [
    "pip install -r ../../requirements.txt"
   ]
  },
  {
   "cell_type": "code",
   "execution_count": 14,
   "metadata": {},
   "outputs": [],
   "source": [
    "import ezkl\n",
    "import torch\n",
    "from torch import nn\n",
    "import json\n",
    "import os\n",
    "import time\n",
    "import scipy\n",
    "import numpy as np\n",
    "import matplotlib.pyplot as plt\n",
    "import statistics\n",
    "import math"
   ]
  },
  {
   "cell_type": "code",
   "execution_count": 15,
   "metadata": {},
   "outputs": [],
   "source": [
    "%run -i ../../zkstats/core.py"
   ]
  },
  {
   "attachments": {},
   "cell_type": "markdown",
   "metadata": {},
   "source": []
  },
  {
   "cell_type": "code",
   "execution_count": 16,
   "metadata": {},
   "outputs": [],
   "source": [
    "# init path\n",
    "os.makedirs(os.path.dirname('shared/'), exist_ok=True)\n",
    "os.makedirs(os.path.dirname('prover/'), exist_ok=True)\n",
    "verifier_model_path = os.path.join('shared/verifier.onnx')\n",
    "prover_model_path = os.path.join('prover/prover.onnx')\n",
    "verifier_compiled_model_path = os.path.join('shared/verifier.compiled')\n",
    "prover_compiled_model_path = os.path.join('prover/prover.compiled')\n",
    "pk_path = os.path.join('shared/test.pk')\n",
    "vk_path = os.path.join('shared/test.vk')\n",
    "proof_path = os.path.join('shared/test.pf')\n",
    "settings_path = os.path.join('shared/settings.json')\n",
    "srs_path = os.path.join('shared/kzg.srs')\n",
    "witness_path = os.path.join('prover/witness.json')\n",
    "# this is private to prover since it contains actual data\n",
    "sel_data_path = os.path.join('prover/sel_data.json')\n",
    "# this is just dummy random value\n",
    "sel_dummy_data_path = os.path.join('shared/sel_dummy_data.json')"
   ]
  },
  {
   "attachments": {},
   "cell_type": "markdown",
   "metadata": {},
   "source": [
    "=======================  ZK-STATS FLOW ======================="
   ]
  },
  {
   "cell_type": "code",
   "execution_count": 17,
   "metadata": {},
   "outputs": [],
   "source": [
    "def mode_within(data_array, percent):\n",
    "    max_sum_freq = 0\n",
    "    mode = data_array[0]\n",
    "\n",
    "    for check_val in set(data_array):\n",
    "        sum_freq = sum(1 for ele in data_array if abs(ele - check_val) <= abs(percent * check_val / 100))\n",
    "\n",
    "        if sum_freq > max_sum_freq:\n",
    "            mode = check_val\n",
    "            max_sum_freq = sum_freq\n",
    "\n",
    "    return mode"
   ]
  },
  {
   "cell_type": "code",
   "execution_count": 18,
   "metadata": {},
   "outputs": [],
   "source": [
    "data_path = os.path.join('data.json')\n",
    "dummy_data_path = os.path.join('shared/dummy_data.json')\n",
    "\n",
    "data = json.loads(open(data_path, \"r\").read())['col_name']\n",
    "data_tensor = torch.reshape(torch.tensor(data),(1,-1, 1))\n",
    "\n",
    "create_dummy(data_path, dummy_data_path)\n",
    "dummy_data = json.loads(open(dummy_data_path, \"r\").read())['col_name']\n",
    "dummy_data_tensor = torch.reshape(torch.tensor(dummy_data), (1,-1,1))\n",
    "\n",
    "dummy_theory_output = torch.tensor(mode_within(dummy_data,1))\n",
    "theory_output = torch.tensor(mode_within(data,1))\n",
    "\n",
    "\n",
    "\n"
   ]
  },
  {
   "cell_type": "code",
   "execution_count": 19,
   "metadata": {},
   "outputs": [
    {
     "name": "stdout",
     "output_type": "stream",
     "text": [
      "dummy output:  tensor(1.2000)\n"
     ]
    },
    {
     "name": "stderr",
     "output_type": "stream",
     "text": [
      "/var/folders/89/y9dw12v976ngdmqz4l7wbsnr0000gn/T/ipykernel_1914/3973307746.py:10: TracerWarning: Iterating over a tensor might cause the trace to be incorrect. Passing a tensor of different shape won't change the number of iterations executed (and might lead to errors or silently give incorrect results).\n",
      "  result = torch.tensor([torch.sum((torch.abs(X-ele[0])<=torch.abs(0.01*ele[0])).double())<=count_equal for ele in X[0]])\n",
      "/var/folders/89/y9dw12v976ngdmqz4l7wbsnr0000gn/T/ipykernel_1914/3973307746.py:10: TracerWarning: torch.tensor results are registered as constants in the trace. You can safely ignore this warning if you use this function to create tensors out of constant variables that would be the same every time you call this function. In any other case, this might cause the trace to be incorrect.\n",
      "  result = torch.tensor([torch.sum((torch.abs(X-ele[0])<=torch.abs(0.01*ele[0])).double())<=count_equal for ele in X[0]])\n"
     ]
    }
   ],
   "source": [
    "print(\"dummy output: \", dummy_theory_output)\n",
    "# Verifier/ data consumer side: send desired calculation\n",
    "class verifier_model(nn.Module):\n",
    "    def __init__(self):\n",
    "        super(verifier_model, self).__init__()\n",
    "        # w represents mean in this case\n",
    "        self.w = nn.Parameter(data = dummy_theory_output, requires_grad = False)\n",
    "    def forward(self,X):\n",
    "        count_equal = torch.sum((torch.abs(X-self.w)<=torch.abs(0.01*self.w)).double())\n",
    "        result = torch.tensor([torch.sum((torch.abs(X-ele[0])<=torch.abs(0.01*ele[0])).double())<=count_equal for ele in X[0]])\n",
    "        return (torch.sum(result) == X.size()[1], self.w)\n",
    "    \n",
    "verifier_define_calculation(dummy_data_path, ['col_name'],sel_dummy_data_path,verifier_model, verifier_model_path)"
   ]
  },
  {
   "cell_type": "code",
   "execution_count": 20,
   "metadata": {},
   "outputs": [
    {
     "name": "stderr",
     "output_type": "stream",
     "text": [
      "/var/folders/89/y9dw12v976ngdmqz4l7wbsnr0000gn/T/ipykernel_1914/4275092354.py:11: TracerWarning: Iterating over a tensor might cause the trace to be incorrect. Passing a tensor of different shape won't change the number of iterations executed (and might lead to errors or silently give incorrect results).\n",
      "  result = torch.tensor([torch.sum((torch.abs(X-ele[0])<=torch.abs(0.01*ele[0])).double())<=count_equal for ele in X[0]])\n"
     ]
    },
    {
     "name": "stdout",
     "output_type": "stream",
     "text": [
      "Theory_output:  tensor(77.)\n",
      "==== Generate & Calibrate Setting ====\n",
      "scale:  default\n",
      "setting:  {\"run_args\":{\"tolerance\":{\"val\":0.0,\"scale\":1.0},\"input_scale\":9,\"param_scale\":9,\"scale_rebase_multiplier\":10,\"lookup_range\":[0,0],\"logrows\":14,\"num_inner_cols\":2,\"variables\":[[\"batch_size\",1]],\"input_visibility\":{\"Hashed\":{\"hash_is_public\":true,\"outlets\":[]}},\"output_visibility\":\"Public\",\"param_visibility\":\"Private\"},\"num_rows\":14432,\"total_assignments\":300,\"total_const_size\":0,\"model_instance_shapes\":[[1],[1]],\"model_output_scales\":[0,9],\"model_input_scales\":[9],\"module_sizes\":{\"kzg\":[],\"poseidon\":[14432,[1]],\"elgamal\":[0,[0]]},\"required_lookups\":[],\"check_mode\":\"UNSAFE\",\"version\":\"7.0.0\",\"num_blinding_factors\":null}\n"
     ]
    },
    {
     "name": "stderr",
     "output_type": "stream",
     "text": [
      "/var/folders/89/y9dw12v976ngdmqz4l7wbsnr0000gn/T/ipykernel_1914/4275092354.py:11: TracerWarning: torch.tensor results are registered as constants in the trace. You can safely ignore this warning if you use this function to create tensors out of constant variables that would be the same every time you call this function. In any other case, this might cause the trace to be incorrect.\n",
      "  result = torch.tensor([torch.sum((torch.abs(X-ele[0])<=torch.abs(0.01*ele[0])).double())<=count_equal for ele in X[0]])\n"
     ]
    }
   ],
   "source": [
    "# prover calculates settings, send to verifier\n",
    "print(\"Theory_output: \", theory_output)\n",
    "class prover_model(nn.Module):\n",
    "    def __init__(self):\n",
    "        super(prover_model, self).__init__()\n",
    "        # w represents mean in this case\n",
    "        self.w = nn.Parameter(data = theory_output, requires_grad = False)\n",
    "\n",
    "    def forward(self,X):\n",
    "        count_equal = torch.sum((torch.abs(X-self.w)<=torch.abs(0.01*self.w)).double())\n",
    "        result = torch.tensor([torch.sum((torch.abs(X-ele[0])<=torch.abs(0.01*ele[0])).double())<=count_equal for ele in X[0]])\n",
    "        return (torch.sum(result) == X.size()[1], self.w)\n",
    "\n",
    "prover_gen_settings(data_path,['col_name'], sel_data_path, prover_model,prover_model_path, 'default', \"resources\", settings_path)"
   ]
  },
  {
   "cell_type": "code",
   "execution_count": 21,
   "metadata": {},
   "outputs": [
    {
     "name": "stderr",
     "output_type": "stream",
     "text": [
      "spawning module 0\n",
      "spawning module 2\n"
     ]
    },
    {
     "name": "stdout",
     "output_type": "stream",
     "text": [
      "==== setting up ezkl ====\n"
     ]
    },
    {
     "name": "stderr",
     "output_type": "stream",
     "text": [
      "spawning module 0\n",
      "spawning module 2\n",
      "spawning module 0\n"
     ]
    },
    {
     "name": "stdout",
     "output_type": "stream",
     "text": [
      "Time setup: 1.4515161514282227 seconds\n",
      "=======================================\n",
      "Theory output:  tensor(77.)\n",
      "!@# compiled_model exists? False\n",
      "!@# compiled_model exists? True\n",
      "==== Generating Witness ====\n",
      "witness boolean:  1.0\n",
      "witness result 1 : 77.0\n",
      "==== Generating Proof ====\n"
     ]
    },
    {
     "name": "stderr",
     "output_type": "stream",
     "text": [
      "spawning module 2\n"
     ]
    },
    {
     "name": "stdout",
     "output_type": "stream",
     "text": [
      "proof:  {'instances': [[[8148670344449872040, 3850172417927569887, 9386325907200828332, 1904490596485556704], [12436184717236109307, 3962172157175319849, 7381016538464732718, 1011752739694698287], [7029749938363617618, 11538692499682334571, 8918902057354509017, 3053834031406807957]]], 'proof': '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', 'transcript_type': 'EVM'}\n",
      "Time gen prf: 1.7317252159118652 seconds\n"
     ]
    }
   ],
   "source": [
    "# Here verifier & prover can concurrently call setup since all params are public to get pk. \n",
    "# Here write as verifier function to emphasize that verifier must calculate its own vk to be sure\n",
    "verifier_setup(verifier_model_path, verifier_compiled_model_path, settings_path,vk_path, pk_path )\n",
    "\n",
    "print(\"=======================================\")\n",
    "# Prover generates proof\n",
    "print(\"Theory output: \", theory_output)\n",
    "prover_gen_proof(prover_model_path, sel_data_path, witness_path, prover_compiled_model_path, settings_path, proof_path, pk_path)"
   ]
  },
  {
   "cell_type": "code",
   "execution_count": 22,
   "metadata": {},
   "outputs": [
    {
     "name": "stdout",
     "output_type": "stream",
     "text": [
      "num_inputs:  1\n",
      "prf instances:  [[[8148670344449872040, 3850172417927569887, 9386325907200828332, 1904490596485556704], [12436184717236109307, 3962172157175319849, 7381016538464732718, 1011752739694698287], [7029749938363617618, 11538692499682334571, 8918902057354509017, 3053834031406807957]]]\n",
      "proof boolean:  1.0\n",
      "proof result 1 : 77.0\n",
      "verified\n"
     ]
    }
   ],
   "source": [
    "# Verifier verifies\n",
    "verifier_verify(proof_path, settings_path, vk_path)"
   ]
  },
  {
   "cell_type": "code",
   "execution_count": null,
   "metadata": {},
   "outputs": [],
   "source": []
  }
 ],
 "metadata": {
  "kernelspec": {
   "display_name": "Python 3",
   "language": "python",
   "name": "python3"
  },
  "language_info": {
   "codemirror_mode": {
    "name": "ipython",
    "version": 3
   },
   "file_extension": ".py",
   "mimetype": "text/x-python",
   "name": "python",
   "nbconvert_exporter": "python",
   "pygments_lexer": "ipython3",
   "version": "3.10.0"
  },
  "orig_nbformat": 4
 },
 "nbformat": 4,
 "nbformat_minor": 2
}
