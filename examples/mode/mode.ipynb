{
 "cells": [
  {
   "cell_type": "code",
   "execution_count": 1,
   "metadata": {},
   "outputs": [
    {
     "name": "stdout",
     "output_type": "stream",
     "text": [
      "Requirement already satisfied: ezkl==5.0.8 in /Library/Frameworks/Python.framework/Versions/3.10/lib/python3.10/site-packages (from -r ../../requirements.txt (line 1)) (5.0.8)\n",
      "Requirement already satisfied: torch in /Library/Frameworks/Python.framework/Versions/3.10/lib/python3.10/site-packages (from -r ../../requirements.txt (line 2)) (2.1.1)\n",
      "Requirement already satisfied: requests in /Library/Frameworks/Python.framework/Versions/3.10/lib/python3.10/site-packages (from -r ../../requirements.txt (line 3)) (2.31.0)\n",
      "Requirement already satisfied: scipy in /Library/Frameworks/Python.framework/Versions/3.10/lib/python3.10/site-packages (from -r ../../requirements.txt (line 4)) (1.11.4)\n",
      "Requirement already satisfied: numpy in /Library/Frameworks/Python.framework/Versions/3.10/lib/python3.10/site-packages (from -r ../../requirements.txt (line 5)) (1.26.2)\n",
      "Requirement already satisfied: matplotlib in /Library/Frameworks/Python.framework/Versions/3.10/lib/python3.10/site-packages (from -r ../../requirements.txt (line 6)) (3.8.2)\n",
      "Requirement already satisfied: statistics in /Library/Frameworks/Python.framework/Versions/3.10/lib/python3.10/site-packages (from -r ../../requirements.txt (line 7)) (1.0.3.5)\n",
      "Requirement already satisfied: onnx in /Library/Frameworks/Python.framework/Versions/3.10/lib/python3.10/site-packages (from -r ../../requirements.txt (line 8)) (1.15.0)\n",
      "Requirement already satisfied: filelock in /Library/Frameworks/Python.framework/Versions/3.10/lib/python3.10/site-packages (from torch->-r ../../requirements.txt (line 2)) (3.13.1)\n",
      "Requirement already satisfied: networkx in /Library/Frameworks/Python.framework/Versions/3.10/lib/python3.10/site-packages (from torch->-r ../../requirements.txt (line 2)) (3.2.1)\n",
      "Requirement already satisfied: fsspec in /Library/Frameworks/Python.framework/Versions/3.10/lib/python3.10/site-packages (from torch->-r ../../requirements.txt (line 2)) (2023.10.0)\n",
      "Requirement already satisfied: sympy in /Library/Frameworks/Python.framework/Versions/3.10/lib/python3.10/site-packages (from torch->-r ../../requirements.txt (line 2)) (1.12)\n",
      "Requirement already satisfied: typing-extensions in /Library/Frameworks/Python.framework/Versions/3.10/lib/python3.10/site-packages (from torch->-r ../../requirements.txt (line 2)) (4.8.0)\n",
      "Requirement already satisfied: jinja2 in /Library/Frameworks/Python.framework/Versions/3.10/lib/python3.10/site-packages (from torch->-r ../../requirements.txt (line 2)) (3.1.2)\n",
      "Requirement already satisfied: urllib3<3,>=1.21.1 in /Library/Frameworks/Python.framework/Versions/3.10/lib/python3.10/site-packages (from requests->-r ../../requirements.txt (line 3)) (2.1.0)\n",
      "Requirement already satisfied: certifi>=2017.4.17 in /Library/Frameworks/Python.framework/Versions/3.10/lib/python3.10/site-packages (from requests->-r ../../requirements.txt (line 3)) (2023.11.17)\n",
      "Requirement already satisfied: charset-normalizer<4,>=2 in /Library/Frameworks/Python.framework/Versions/3.10/lib/python3.10/site-packages (from requests->-r ../../requirements.txt (line 3)) (3.3.2)\n",
      "Requirement already satisfied: idna<4,>=2.5 in /Library/Frameworks/Python.framework/Versions/3.10/lib/python3.10/site-packages (from requests->-r ../../requirements.txt (line 3)) (3.6)\n",
      "Requirement already satisfied: cycler>=0.10 in /Library/Frameworks/Python.framework/Versions/3.10/lib/python3.10/site-packages (from matplotlib->-r ../../requirements.txt (line 6)) (0.12.1)\n",
      "Requirement already satisfied: kiwisolver>=1.3.1 in /Library/Frameworks/Python.framework/Versions/3.10/lib/python3.10/site-packages (from matplotlib->-r ../../requirements.txt (line 6)) (1.4.5)\n",
      "Requirement already satisfied: fonttools>=4.22.0 in /Library/Frameworks/Python.framework/Versions/3.10/lib/python3.10/site-packages (from matplotlib->-r ../../requirements.txt (line 6)) (4.45.1)\n",
      "Requirement already satisfied: packaging>=20.0 in /Users/jernkun/Library/Python/3.10/lib/python/site-packages (from matplotlib->-r ../../requirements.txt (line 6)) (23.2)\n",
      "Requirement already satisfied: python-dateutil>=2.7 in /Users/jernkun/Library/Python/3.10/lib/python/site-packages (from matplotlib->-r ../../requirements.txt (line 6)) (2.8.2)\n",
      "Requirement already satisfied: contourpy>=1.0.1 in /Library/Frameworks/Python.framework/Versions/3.10/lib/python3.10/site-packages (from matplotlib->-r ../../requirements.txt (line 6)) (1.2.0)\n",
      "Requirement already satisfied: pillow>=8 in /Library/Frameworks/Python.framework/Versions/3.10/lib/python3.10/site-packages (from matplotlib->-r ../../requirements.txt (line 6)) (10.1.0)\n",
      "Requirement already satisfied: pyparsing>=2.3.1 in /Library/Frameworks/Python.framework/Versions/3.10/lib/python3.10/site-packages (from matplotlib->-r ../../requirements.txt (line 6)) (3.1.1)\n",
      "Requirement already satisfied: docutils>=0.3 in /Library/Frameworks/Python.framework/Versions/3.10/lib/python3.10/site-packages (from statistics->-r ../../requirements.txt (line 7)) (0.20.1)\n",
      "Requirement already satisfied: protobuf>=3.20.2 in /Library/Frameworks/Python.framework/Versions/3.10/lib/python3.10/site-packages (from onnx->-r ../../requirements.txt (line 8)) (4.25.1)\n",
      "Requirement already satisfied: six>=1.5 in /Users/jernkun/Library/Python/3.10/lib/python/site-packages (from python-dateutil>=2.7->matplotlib->-r ../../requirements.txt (line 6)) (1.16.0)\n",
      "Requirement already satisfied: MarkupSafe>=2.0 in /Library/Frameworks/Python.framework/Versions/3.10/lib/python3.10/site-packages (from jinja2->torch->-r ../../requirements.txt (line 2)) (2.1.3)\n",
      "Requirement already satisfied: mpmath>=0.19 in /Library/Frameworks/Python.framework/Versions/3.10/lib/python3.10/site-packages (from sympy->torch->-r ../../requirements.txt (line 2)) (1.3.0)\n",
      "\u001b[33mWARNING: You are using pip version 21.2.3; however, version 23.3.1 is available.\n",
      "You should consider upgrading via the '/usr/local/bin/python3 -m pip install --upgrade pip' command.\u001b[0m\n",
      "Note: you may need to restart the kernel to use updated packages.\n"
     ]
    }
   ],
   "source": [
    "pip install -r ../../requirements.txt"
   ]
  },
  {
   "cell_type": "code",
   "execution_count": 19,
   "metadata": {},
   "outputs": [],
   "source": [
    "import ezkl\n",
    "import torch\n",
    "from torch import nn\n",
    "import json\n",
    "import os\n",
    "import time\n",
    "import scipy\n",
    "import numpy as np\n",
    "import matplotlib.pyplot as plt\n",
    "import statistics\n",
    "import math"
   ]
  },
  {
   "cell_type": "code",
   "execution_count": 20,
   "metadata": {},
   "outputs": [],
   "source": [
    "%run -i ../../core.py"
   ]
  },
  {
   "attachments": {},
   "cell_type": "markdown",
   "metadata": {},
   "source": []
  },
  {
   "cell_type": "code",
   "execution_count": 21,
   "metadata": {},
   "outputs": [],
   "source": [
    "# init path\n",
    "os.makedirs(os.path.dirname('shared/'), exist_ok=True)\n",
    "os.makedirs(os.path.dirname('prover/'), exist_ok=True)\n",
    "verifier_model_path = os.path.join('shared/verifier.onnx')\n",
    "prover_model_path = os.path.join('prover/prover.onnx')\n",
    "verifier_compiled_model_path = os.path.join('shared/verifier.compiled')\n",
    "prover_compiled_model_path = os.path.join('prover/prover.compiled')\n",
    "pk_path = os.path.join('shared/test.pk')\n",
    "vk_path = os.path.join('shared/test.vk')\n",
    "proof_path = os.path.join('shared/test.pf')\n",
    "settings_path = os.path.join('shared/settings.json')\n",
    "srs_path = os.path.join('shared/kzg.srs')\n",
    "witness_path = os.path.join('prover/witness.json')\n",
    "# this is private to prover since it contains actual data\n",
    "comb_data_path = os.path.join('prover/comb_data.json')"
   ]
  },
  {
   "attachments": {},
   "cell_type": "markdown",
   "metadata": {},
   "source": [
    "=======================  ZK-STATS FLOW ======================="
   ]
  },
  {
   "cell_type": "code",
   "execution_count": 22,
   "metadata": {},
   "outputs": [],
   "source": [
    "data_path = os.path.join('data.json')\n",
    "dummy_data_path = os.path.join('shared/dummy_data.json')\n",
    "\n",
    "f_raw_input = open(data_path, \"r\")\n",
    "data = json.loads(f_raw_input.read())[\"input_data\"][0]\n",
    "data_tensor = torch.reshape(torch.tensor(data),(1, len(data), 1))\n",
    "\n",
    "\n",
    "dummy_data = np.round(np.random.uniform(1,10,len(data)),1)\n",
    "json.dump({\"input_data\":[dummy_data.tolist()]}, open(dummy_data_path, 'w'))\n",
    "\n",
    "dummy_data_tensor = torch.reshape(torch.tensor(dummy_data), (1, len(dummy_data),1 ))\n",
    "dummy_theory_output = torch.tensor(statistics.mode(dummy_data))\n",
    "\n"
   ]
  },
  {
   "cell_type": "code",
   "execution_count": 23,
   "metadata": {},
   "outputs": [
    {
     "name": "stdout",
     "output_type": "stream",
     "text": [
      "theory mode:  tensor(4.1000)\n"
     ]
    }
   ],
   "source": [
    "theory_output = torch.tensor(statistics.mode(data))\n",
    "print(\"theory mode: \", theory_output)"
   ]
  },
  {
   "cell_type": "code",
   "execution_count": 24,
   "metadata": {},
   "outputs": [
    {
     "name": "stdout",
     "output_type": "stream",
     "text": [
      "dummy output:  tensor(8.8000, dtype=torch.float64)\n"
     ]
    },
    {
     "name": "stderr",
     "output_type": "stream",
     "text": [
      "/var/folders/89/y9dw12v976ngdmqz4l7wbsnr0000gn/T/ipykernel_41683/297875866.py:11: TracerWarning: torch.tensor results are registered as constants in the trace. You can safely ignore this warning if you use this function to create tensors out of constant variables that would be the same every time you call this function. In any other case, this might cause the trace to be incorrect.\n",
      "  index_array = torch.tensor(range(X.size()[1]))\n",
      "/var/folders/89/y9dw12v976ngdmqz4l7wbsnr0000gn/T/ipykernel_41683/297875866.py:13: TracerWarning: Iterating over a tensor might cause the trace to be incorrect. Passing a tensor of different shape won't change the number of iterations executed (and might lead to errors or silently give incorrect results).\n",
      "  for index in index_array:\n",
      "/var/folders/89/y9dw12v976ngdmqz4l7wbsnr0000gn/T/ipykernel_41683/297875866.py:15: TracerWarning: Converting a tensor to a Python boolean might cause the trace to be incorrect. We can't record the data flow of Python values, so this value will be treated as a constant in the future. This means that the trace might not generalize to other inputs!\n",
      "  if (torch.sum((torch.abs(X-ele)<=torch.abs(0.01*ele)).double())<=count_equal):\n",
      "/var/folders/89/y9dw12v976ngdmqz4l7wbsnr0000gn/T/ipykernel_41683/297875866.py:16: TracerWarning: torch.tensor results are registered as constants in the trace. You can safely ignore this warning if you use this function to create tensors out of constant variables that would be the same every time you call this function. In any other case, this might cause the trace to be incorrect.\n",
      "  check_bool = torch.tensor(True)\n"
     ]
    }
   ],
   "source": [
    "print(\"dummy output: \", dummy_theory_output)\n",
    "# Verifier/ data consumer side: send desired calculation\n",
    "class verifier_model(nn.Module):\n",
    "    def __init__(self):\n",
    "        super(verifier_model, self).__init__()\n",
    "        # w represents mean in this case\n",
    "        self.w = nn.Parameter(data = dummy_theory_output, requires_grad = False)\n",
    "    def forward(self,X):\n",
    "        count_equal = torch.sum((torch.abs(X-self.w)<=torch.abs(0.01*self.w)).double())\n",
    "        result = torch.zeros(X.size()[1])\n",
    "        index_array = torch.tensor(range(X.size()[1]))\n",
    "\n",
    "        for index in index_array:\n",
    "            ele = X[0][index][0]\n",
    "            if (torch.sum((torch.abs(X-ele)<=torch.abs(0.01*ele)).double())<=count_equal):\n",
    "                check_bool = torch.tensor(True)\n",
    "            else:\n",
    "                check_bool = torch.tensor(False)\n",
    "            result[index] = check_bool\n",
    "\n",
    "        return (torch.sum(result) == X.size()[1], self.w)\n",
    "    \n",
    "verifier_define_calculation(verifier_model, verifier_model_path, [dummy_data_path])"
   ]
  },
  {
   "cell_type": "code",
   "execution_count": 25,
   "metadata": {},
   "outputs": [
    {
     "name": "stdout",
     "output_type": "stream",
     "text": [
      "Theory_output:  tensor(4.1000)\n",
      "==== Generate & Calibrate Setting ====\n"
     ]
    },
    {
     "name": "stderr",
     "output_type": "stream",
     "text": [
      "/var/folders/89/y9dw12v976ngdmqz4l7wbsnr0000gn/T/ipykernel_41683/3319182589.py:15: TracerWarning: torch.tensor results are registered as constants in the trace. You can safely ignore this warning if you use this function to create tensors out of constant variables that would be the same every time you call this function. In any other case, this might cause the trace to be incorrect.\n",
      "  index_array = torch.tensor(range(X.size()[1]))\n",
      "/var/folders/89/y9dw12v976ngdmqz4l7wbsnr0000gn/T/ipykernel_41683/3319182589.py:17: TracerWarning: Iterating over a tensor might cause the trace to be incorrect. Passing a tensor of different shape won't change the number of iterations executed (and might lead to errors or silently give incorrect results).\n",
      "  for index in index_array:\n",
      "/var/folders/89/y9dw12v976ngdmqz4l7wbsnr0000gn/T/ipykernel_41683/3319182589.py:19: TracerWarning: Converting a tensor to a Python boolean might cause the trace to be incorrect. We can't record the data flow of Python values, so this value will be treated as a constant in the future. This means that the trace might not generalize to other inputs!\n",
      "  if (torch.sum((torch.abs(X-ele)<=torch.abs(0.01*ele)).double())<=count_equal):\n",
      "/var/folders/89/y9dw12v976ngdmqz4l7wbsnr0000gn/T/ipykernel_41683/3319182589.py:20: TracerWarning: torch.tensor results are registered as constants in the trace. You can safely ignore this warning if you use this function to create tensors out of constant variables that would be the same every time you call this function. In any other case, this might cause the trace to be incorrect.\n",
      "  check_bool = torch.tensor(True)\n"
     ]
    },
    {
     "name": "stdout",
     "output_type": "stream",
     "text": [
      "scale:  default\n",
      "setting:  {\"run_args\":{\"tolerance\":{\"val\":0.0,\"scale\":1.0},\"input_scale\":7,\"param_scale\":7,\"scale_rebase_multiplier\":10,\"lookup_range\":[0,0],\"logrows\":11,\"num_inner_cols\":1,\"variables\":[[\"batch_size\",1]],\"input_visibility\":{\"Hashed\":{\"hash_is_public\":true,\"outlets\":[]}},\"output_visibility\":\"Public\",\"param_visibility\":\"Private\"},\"num_rows\":1312,\"total_assignments\":8,\"total_const_size\":0,\"model_instance_shapes\":[[1],[1]],\"model_output_scales\":[0,7],\"model_input_scales\":[7],\"module_sizes\":{\"kzg\":[],\"poseidon\":[1312,[1]],\"elgamal\":[0,[0]]},\"required_lookups\":[],\"check_mode\":\"UNSAFE\",\"version\":\"5.0.8\",\"num_blinding_factors\":null}\n"
     ]
    }
   ],
   "source": [
    "# prover calculates settings, send to verifier\n",
    "\n",
    "theory_output = torch.tensor(statistics.mode(data))\n",
    "\n",
    "print(\"Theory_output: \", theory_output)\n",
    "class prover_model(nn.Module):\n",
    "    def __init__(self):\n",
    "        super(prover_model, self).__init__()\n",
    "        # w represents mean in this case\n",
    "        self.w = nn.Parameter(data = theory_output, requires_grad = False)\n",
    "\n",
    "    def forward(self,X):\n",
    "        count_equal = torch.sum((torch.abs(X-self.w)<=torch.abs(0.01*self.w)).double())\n",
    "        result = torch.zeros(X.size()[1])\n",
    "        index_array = torch.tensor(range(X.size()[1]))\n",
    "\n",
    "        for index in index_array:\n",
    "            ele = X[0][index][0]\n",
    "            if (torch.sum((torch.abs(X-ele)<=torch.abs(0.01*ele)).double())<=count_equal):\n",
    "                check_bool = torch.tensor(True)\n",
    "            else:\n",
    "                check_bool = torch.tensor(False)\n",
    "            result[index] = check_bool\n",
    "\n",
    "        return (torch.sum(result) == X.size()[1], self.w)\n",
    "\n",
    "prover_gen_settings([data_path], comb_data_path, prover_model,prover_model_path, \"default\", \"resources\", settings_path)"
   ]
  },
  {
   "cell_type": "code",
   "execution_count": 26,
   "metadata": {},
   "outputs": [
    {
     "name": "stderr",
     "output_type": "stream",
     "text": [
      "spawning module 0\n"
     ]
    },
    {
     "name": "stdout",
     "output_type": "stream",
     "text": [
      "==== setting up ezkl ====\n"
     ]
    },
    {
     "name": "stderr",
     "output_type": "stream",
     "text": [
      "spawning module 2\n",
      "spawning module 0\n",
      "spawning module 2\n"
     ]
    },
    {
     "name": "stdout",
     "output_type": "stream",
     "text": [
      "Time setup: 0.20949316024780273 seconds\n"
     ]
    },
    {
     "name": "stderr",
     "output_type": "stream",
     "text": [
      "spawning module 0\n",
      "spawning module 2\n"
     ]
    },
    {
     "name": "stdout",
     "output_type": "stream",
     "text": [
      "=======================================\n",
      "Theory output:  tensor(4.1000)\n",
      "==== Generating Witness ====\n",
      "witness boolean:  1.0\n",
      "witness result 1 : 4.1015625\n",
      "==== Generating Proof ====\n",
      "proof:  {'instances': [[[8968413016118640008, 13978084904548187999, 5732603028781509343, 2742516011951746503], [12436184717236109307, 3962172157175319849, 7381016538464732718, 1011752739694698287], [11664057200304715047, 16495917767961733174, 11618098729275913590, 1146451785665059695]]], 'proof': '2f895644c8051d5b9e7f5a9e4ba3245e1342e4577827f8e24d80b16f2616d0222b774587403531722c664e79f92b9277580e7a66472aba68118b32a7efbc156d155c62485df991631cb150b357cde0ab55edebf63da2c863467cdb16c7714a250c2d8cd6bef6eab3bb220315a7432ec0b761c5a1b1c1cf6ecea7d875a1e84c34162d9ad9db5676f4072114d8f5602df01428ff28764694561cc023c2273f07c324cd40919ae00ea9768a52b13d1370189bc1d19cb14a5c669bb357fc90ad7c8207967e45b9637e884c8bb63582499a23677f68f6839b081dcf9f58328edb506a2f75b5ec9008665b97aec26595470c22a217647d43df5ba53d7247b605fae5d2031cca0c6dcb9a8f771ae94c3264ab2b7cbb09da720b3d1771fe0845386e6f192a3188f9006765b58a20974f2756accd141024004a7f2ef37f58db72e1d9893c2478169f648fbfcc50ecacf3bac2b8098b04d11a9e1e591a875b653d52b144742c4160dfe5163281ac83fa9f6fc7d6d1372d44a09cf6f0b2d1a18571522440a72dfef69cbc379fef7d52e2ae67a15f3cba9ad4beaf7ef0387071a58879e4fa782e95f43a982f283de3d1036658bb7c63c781257d916288954fc5792a52cd9fed001e50b29ab8f65ec14dbfa88ff0ecd104f2d45ca668b03c0c02aa5409a2a94b176859fd0f8630f359f17df9cfa7142866a0df4d9d110ac8ca6e04a36a925f9c1286a8a392c2b8a1b4e54b91051247c0e4fe6f69f2a50f1ec29d449a8f4b21a70a5f04e214872d53954aa351eb9649637b65aeafef5601c539fd8161788036b40320128bae6b301ebac58718310c68f31a931938345877596c2bda3f8db901c61fbf7737d5d497578af10cc8e078c87f9e4dd30b24d580b139dccda190509ab11ac33dba6b53f773b5a4eb77efa7387a6c75187ef1bdf2a1db1f097f1c76b03a07cdf1aa5f614c33a4c3532b2c4add13900e141bb2a104b1c264692588b533f611700b6cda856a39fb7fca10c3807e6e9905b4fd293a91a6bd81f2a9d45e6ba62de6771431d06015830a1df77f4972e3bd2337ecef2299a1fc4d5cae374c8c3e09dbc3e66e223fbef21f3ee6e2cfd6f7dfbe97ae51c7edb2946ef7cde8b4cbd00bc1b53b80f8f2b89c4083dc05ffceb6bf9916ef88a334d995b1b5a724036f380eb562d95d34b278ee7955de04b33d24c0e6aef2a677d09b17edc44c5da4d84204b5078043cc055e79c0313ac0c807d1064828fa8c419fc746aecf13dd68f2911fa2276172c4b30a5f3f6da94fcff550569376ad7b275ddc18766341b98322f8231acd3a37328ad2dadc81ae4f3454eee7f24ad0ffc811ad1cdde8697205b08a3011287e5dda7074acf4dd7be4084264ae3895938d7e75c2b9dbdfb2fe5bccc32bae88dd20fd539001f3dbb6ddcc03abf09b95e8414bc5ec5ab72dc2033e9e0c0514c505fc936f5d39c39248694f2797788dd50688cd9310b8634ba21e8e64e72f90e698ee84ac48b25b8849e21754f0b133de1f7233ca31e4a497c56debe60926717d5f6ecfc56620f456ca6a439de44ce0e6784b6a8dcec5e0a15fbc518e9e1d6259eaad632e8621349b278b6907f6aee7fea77bdc104ac57e5fa9f8bd95522789c48601d34ed3e1d38e78aad45a9b51c88e4469c5d681478d4b2339eb6d72202e6d96e61536a9cfc81fb16fb126fae5dae12c0c5d8a1738b6451490832e181a16129887deaf6f2218e451d9edb604db8bf977d47e078bef2a03d1f30e4a1d2b1d70fd62672d1a89d93b2abb6d7cd8b9b11b387dad15dfbaa901e01e546cc013751135bf3a51483f2d3ff7efbea4362834b672fca50c26ec772318dfcc89d519c8ca9011905bd4e5fe1b847909db87be584865f14ca5b483be6fa22df921db0ebb11622c88adcb54a768f8ba4c790cb038805890cae21028858325f25f0d900ea32c8407c876ab7e4164e0d582207f393b03d1cc422309f2bf1568814b7bcb02042903b5e4e88bf57f820bbb267ea89f53ee3c8439a198da24fc5eebf83d521cae0f736f7f770da8548eb1bc4e74d233c0dcb4dfaff3db809b91d2503f9f8402b1dd248cb6f0daf578d3af094ded06dc8a4710ea819b3ee9fd1807218996a3286aea4f06658cc4d8342fa79c45a1f4187ce382f88e81017a163b8b578993b211e10405457abd65fdca9de1beaa90fa99d8c9a40f99101c3aa2f2d4f5e0949c00000000000000000000000000000000000000000000000000000000000000000000000000000000000000000000000000000000000000000000000000000000000000000000000000000000000000000000000000000000000000000000000002b419b60a6c28e39a37791c8c7e6b8a6bd9cc0b45852cabf5d0c4fa90e5cee321fa6bad7f725a7a259925b90ea49e20e7ab1aaa129e2eb2f0d6e1cd73c6e75714f120776ba26a64c69d8c6f58d523e386993cfbe07026ca4e4503fa8cc352a40053ba577bf36c637ee26fe83d1b8177bfbfc3dedb4de8b3f58cdad3d22b0474232c3f26a5e356c258615a7a8d9d71d97ebc6e2f55a77414c3113e8ab6878b410557c7ace81d99f2f55909e904c7ba288ce6cc39ceb2266b8d72817944e2ec5f032f2893998afd4119a9ce0c09048a3f3cc03fef924db625c2bf6d56e1f522910cc8bdd97ba76c06d60bff92acdccbb70b913c380f349e9badda5339a038474718404f25864b0131016da7cfbc34aa8e817f527924604d555adcac00b3ed55440abaa3826debcaf6468d645bf237795aa31a8a3c44de37aa8c141c0778e8c8942f1d43a4f47593bc87898ffcda9261c4fe6b3d41dca0422f2cc4c54df712d57e08ef2e4614b663f161582f48571f416601e527d25c1c4ae399b1270e99dbb6a510d0631bf01804d055758920b2787a93ffce216f47595f26942418d33ea3e2101f00b7df2d922557d8c5e508a667404f26531dac2a3a1d0f64242931960183dd2ab6e3722dbfe1a028df83c6ef503b54d01cd2dfabdb77f2fb78b9409f160ffa1e5e7688e15bd11ba20cb094418c46b39e727b55ef27241dfa55ba72c5edcd972580d3d90a7ce2d0fe689c65e13f2b74ff86d44bcbd40442d0fec3cc5ccad5a12ac940d89a2942c425b64e546374c2bc4d4c85c205c5a0e8826d935ab51e908521468b8cc09e42339e3811302968fd36ddc05b6da01e5b16725e136721df02e229fa1b358ea84e795267c63f2b8b85db4fbfec977377bd852fa66c8638dba7f1204dc9f5d95b34a4405321d15904c27c6c63c7904908cf6477579f66243bba5024577d4b16ff595fcbf362c0b8cbc7e0e34266c5a0ba32949356c8e99146783e', 'transcript_type': 'EVM'}\n",
      "Time gen prf: 0.24364376068115234 seconds\n"
     ]
    }
   ],
   "source": [
    "# Here verifier & prover can concurrently call setup since all params are public to get pk. \n",
    "# Here write as verifier function to emphasize that verifier must calculate its own vk to be sure\n",
    "verifier_setup(verifier_model_path, verifier_compiled_model_path, settings_path, srs_path,vk_path, pk_path )\n",
    "\n",
    "print(\"=======================================\")\n",
    "# Prover generates proof\n",
    "print(\"Theory output: \", theory_output)\n",
    "prover_gen_proof(prover_model_path, comb_data_path, witness_path, prover_compiled_model_path, settings_path, proof_path, pk_path, srs_path)"
   ]
  },
  {
   "cell_type": "code",
   "execution_count": 27,
   "metadata": {},
   "outputs": [
    {
     "name": "stdout",
     "output_type": "stream",
     "text": [
      "num_inputs:  1\n",
      "prf instances:  [[[8968413016118640008, 13978084904548187999, 5732603028781509343, 2742516011951746503], [12436184717236109307, 3962172157175319849, 7381016538464732718, 1011752739694698287], [11664057200304715047, 16495917767961733174, 11618098729275913590, 1146451785665059695]]]\n",
      "proof boolean:  1.0\n",
      "proof result 1 : 4.1015625\n",
      "verified\n"
     ]
    }
   ],
   "source": [
    "# Verifier verifies\n",
    "verifier_verify(proof_path, settings_path, vk_path, srs_path)"
   ]
  },
  {
   "cell_type": "code",
   "execution_count": null,
   "metadata": {},
   "outputs": [],
   "source": []
  },
  {
   "cell_type": "code",
   "execution_count": null,
   "metadata": {},
   "outputs": [],
   "source": []
  }
 ],
 "metadata": {
  "kernelspec": {
   "display_name": "Python 3",
   "language": "python",
   "name": "python3"
  },
  "language_info": {
   "codemirror_mode": {
    "name": "ipython",
    "version": 3
   },
   "file_extension": ".py",
   "mimetype": "text/x-python",
   "name": "python",
   "nbconvert_exporter": "python",
   "pygments_lexer": "ipython3",
   "version": "3.10.0"
  },
  "orig_nbformat": 4
 },
 "nbformat": 4,
 "nbformat_minor": 2
}
