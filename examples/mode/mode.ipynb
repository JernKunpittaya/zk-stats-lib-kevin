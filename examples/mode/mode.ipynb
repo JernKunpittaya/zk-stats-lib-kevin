{
 "cells": [
  {
   "cell_type": "code",
   "execution_count": 1,
   "metadata": {},
   "outputs": [
    {
     "name": "stdout",
     "output_type": "stream",
     "text": [
      "Requirement already satisfied: ezkl==7.0.0 in /Users/mhchia/Library/Caches/pypoetry/virtualenvs/zkstats-brXmXluj-py3.12/lib/python3.12/site-packages (from -r ../../requirements.txt (line 1)) (7.0.0)\n",
      "Requirement already satisfied: torch in /Users/mhchia/Library/Caches/pypoetry/virtualenvs/zkstats-brXmXluj-py3.12/lib/python3.12/site-packages (from -r ../../requirements.txt (line 2)) (2.2.0)\n",
      "Requirement already satisfied: requests in /Users/mhchia/Library/Caches/pypoetry/virtualenvs/zkstats-brXmXluj-py3.12/lib/python3.12/site-packages (from -r ../../requirements.txt (line 3)) (2.31.0)\n",
      "Requirement already satisfied: scipy in /Users/mhchia/Library/Caches/pypoetry/virtualenvs/zkstats-brXmXluj-py3.12/lib/python3.12/site-packages (from -r ../../requirements.txt (line 4)) (1.12.0)\n",
      "Requirement already satisfied: numpy in /Users/mhchia/Library/Caches/pypoetry/virtualenvs/zkstats-brXmXluj-py3.12/lib/python3.12/site-packages (from -r ../../requirements.txt (line 5)) (1.26.3)\n",
      "Requirement already satisfied: matplotlib in /Users/mhchia/Library/Caches/pypoetry/virtualenvs/zkstats-brXmXluj-py3.12/lib/python3.12/site-packages (from -r ../../requirements.txt (line 6)) (3.8.2)\n",
      "Requirement already satisfied: statistics in /Users/mhchia/Library/Caches/pypoetry/virtualenvs/zkstats-brXmXluj-py3.12/lib/python3.12/site-packages (from -r ../../requirements.txt (line 7)) (1.0.3.5)\n",
      "Requirement already satisfied: onnx in /Users/mhchia/Library/Caches/pypoetry/virtualenvs/zkstats-brXmXluj-py3.12/lib/python3.12/site-packages (from -r ../../requirements.txt (line 8)) (1.15.0)\n",
      "Requirement already satisfied: filelock in /Users/mhchia/Library/Caches/pypoetry/virtualenvs/zkstats-brXmXluj-py3.12/lib/python3.12/site-packages (from torch->-r ../../requirements.txt (line 2)) (3.13.1)\n",
      "Requirement already satisfied: typing-extensions>=4.8.0 in /Users/mhchia/Library/Caches/pypoetry/virtualenvs/zkstats-brXmXluj-py3.12/lib/python3.12/site-packages (from torch->-r ../../requirements.txt (line 2)) (4.9.0)\n",
      "Requirement already satisfied: sympy in /Users/mhchia/Library/Caches/pypoetry/virtualenvs/zkstats-brXmXluj-py3.12/lib/python3.12/site-packages (from torch->-r ../../requirements.txt (line 2)) (1.12)\n",
      "Requirement already satisfied: networkx in /Users/mhchia/Library/Caches/pypoetry/virtualenvs/zkstats-brXmXluj-py3.12/lib/python3.12/site-packages (from torch->-r ../../requirements.txt (line 2)) (3.2.1)\n",
      "Requirement already satisfied: jinja2 in /Users/mhchia/Library/Caches/pypoetry/virtualenvs/zkstats-brXmXluj-py3.12/lib/python3.12/site-packages (from torch->-r ../../requirements.txt (line 2)) (3.1.3)\n",
      "Requirement already satisfied: fsspec in /Users/mhchia/Library/Caches/pypoetry/virtualenvs/zkstats-brXmXluj-py3.12/lib/python3.12/site-packages (from torch->-r ../../requirements.txt (line 2)) (2023.12.2)\n",
      "Requirement already satisfied: charset-normalizer<4,>=2 in /Users/mhchia/Library/Caches/pypoetry/virtualenvs/zkstats-brXmXluj-py3.12/lib/python3.12/site-packages (from requests->-r ../../requirements.txt (line 3)) (3.3.2)\n",
      "Requirement already satisfied: idna<4,>=2.5 in /Users/mhchia/Library/Caches/pypoetry/virtualenvs/zkstats-brXmXluj-py3.12/lib/python3.12/site-packages (from requests->-r ../../requirements.txt (line 3)) (3.6)\n",
      "Requirement already satisfied: urllib3<3,>=1.21.1 in /Users/mhchia/Library/Caches/pypoetry/virtualenvs/zkstats-brXmXluj-py3.12/lib/python3.12/site-packages (from requests->-r ../../requirements.txt (line 3)) (2.2.0)\n",
      "Requirement already satisfied: certifi>=2017.4.17 in /Users/mhchia/Library/Caches/pypoetry/virtualenvs/zkstats-brXmXluj-py3.12/lib/python3.12/site-packages (from requests->-r ../../requirements.txt (line 3)) (2024.2.2)\n",
      "Requirement already satisfied: contourpy>=1.0.1 in /Users/mhchia/Library/Caches/pypoetry/virtualenvs/zkstats-brXmXluj-py3.12/lib/python3.12/site-packages (from matplotlib->-r ../../requirements.txt (line 6)) (1.2.0)\n",
      "Requirement already satisfied: cycler>=0.10 in /Users/mhchia/Library/Caches/pypoetry/virtualenvs/zkstats-brXmXluj-py3.12/lib/python3.12/site-packages (from matplotlib->-r ../../requirements.txt (line 6)) (0.12.1)\n",
      "Requirement already satisfied: fonttools>=4.22.0 in /Users/mhchia/Library/Caches/pypoetry/virtualenvs/zkstats-brXmXluj-py3.12/lib/python3.12/site-packages (from matplotlib->-r ../../requirements.txt (line 6)) (4.47.2)\n",
      "Requirement already satisfied: kiwisolver>=1.3.1 in /Users/mhchia/Library/Caches/pypoetry/virtualenvs/zkstats-brXmXluj-py3.12/lib/python3.12/site-packages (from matplotlib->-r ../../requirements.txt (line 6)) (1.4.5)\n",
      "Requirement already satisfied: packaging>=20.0 in /Users/mhchia/Library/Caches/pypoetry/virtualenvs/zkstats-brXmXluj-py3.12/lib/python3.12/site-packages (from matplotlib->-r ../../requirements.txt (line 6)) (23.2)\n",
      "Requirement already satisfied: pillow>=8 in /Users/mhchia/Library/Caches/pypoetry/virtualenvs/zkstats-brXmXluj-py3.12/lib/python3.12/site-packages (from matplotlib->-r ../../requirements.txt (line 6)) (10.2.0)\n",
      "Requirement already satisfied: pyparsing>=2.3.1 in /Users/mhchia/Library/Caches/pypoetry/virtualenvs/zkstats-brXmXluj-py3.12/lib/python3.12/site-packages (from matplotlib->-r ../../requirements.txt (line 6)) (3.1.1)\n",
      "Requirement already satisfied: python-dateutil>=2.7 in /Users/mhchia/Library/Caches/pypoetry/virtualenvs/zkstats-brXmXluj-py3.12/lib/python3.12/site-packages (from matplotlib->-r ../../requirements.txt (line 6)) (2.8.2)\n",
      "Requirement already satisfied: docutils>=0.3 in /Users/mhchia/Library/Caches/pypoetry/virtualenvs/zkstats-brXmXluj-py3.12/lib/python3.12/site-packages (from statistics->-r ../../requirements.txt (line 7)) (0.20.1)\n",
      "Requirement already satisfied: protobuf>=3.20.2 in /Users/mhchia/Library/Caches/pypoetry/virtualenvs/zkstats-brXmXluj-py3.12/lib/python3.12/site-packages (from onnx->-r ../../requirements.txt (line 8)) (4.25.2)\n",
      "Requirement already satisfied: six>=1.5 in /Users/mhchia/Library/Caches/pypoetry/virtualenvs/zkstats-brXmXluj-py3.12/lib/python3.12/site-packages (from python-dateutil>=2.7->matplotlib->-r ../../requirements.txt (line 6)) (1.16.0)\n",
      "Requirement already satisfied: MarkupSafe>=2.0 in /Users/mhchia/Library/Caches/pypoetry/virtualenvs/zkstats-brXmXluj-py3.12/lib/python3.12/site-packages (from jinja2->torch->-r ../../requirements.txt (line 2)) (2.1.4)\n",
      "Requirement already satisfied: mpmath>=0.19 in /Users/mhchia/Library/Caches/pypoetry/virtualenvs/zkstats-brXmXluj-py3.12/lib/python3.12/site-packages (from sympy->torch->-r ../../requirements.txt (line 2)) (1.3.0)\n",
      "\n",
      "\u001b[1m[\u001b[0m\u001b[34;49mnotice\u001b[0m\u001b[1;39;49m]\u001b[0m\u001b[39;49m A new release of pip is available: \u001b[0m\u001b[31;49m23.3.1\u001b[0m\u001b[39;49m -> \u001b[0m\u001b[32;49m24.0\u001b[0m\n",
      "\u001b[1m[\u001b[0m\u001b[34;49mnotice\u001b[0m\u001b[1;39;49m]\u001b[0m\u001b[39;49m To update, run: \u001b[0m\u001b[32;49mpip install --upgrade pip\u001b[0m\n",
      "Note: you may need to restart the kernel to use updated packages.\n"
     ]
    }
   ],
   "source": [
    "pip install -r ../../requirements.txt"
   ]
  },
  {
   "cell_type": "code",
   "execution_count": 2,
   "metadata": {},
   "outputs": [],
   "source": [
    "import ezkl\n",
    "import torch\n",
    "from torch import nn\n",
    "import json\n",
    "import os\n",
    "import time\n",
    "import scipy\n",
    "import numpy as np\n",
    "import matplotlib.pyplot as plt\n",
    "import statistics\n",
    "import math"
   ]
  },
  {
   "cell_type": "code",
   "execution_count": 3,
   "metadata": {},
   "outputs": [],
   "source": [
    "%run -i ../../zkstats/core.py"
   ]
  },
  {
   "attachments": {},
   "cell_type": "markdown",
   "metadata": {},
   "source": []
  },
  {
   "cell_type": "code",
   "execution_count": 4,
   "metadata": {},
   "outputs": [],
   "source": [
    "# init path\n",
    "os.makedirs(os.path.dirname('shared/'), exist_ok=True)\n",
    "os.makedirs(os.path.dirname('prover/'), exist_ok=True)\n",
    "verifier_model_path = os.path.join('shared/verifier.onnx')\n",
    "prover_model_path = os.path.join('prover/prover.onnx')\n",
    "verifier_compiled_model_path = os.path.join('shared/verifier.compiled')\n",
    "prover_compiled_model_path = os.path.join('prover/prover.compiled')\n",
    "pk_path = os.path.join('shared/test.pk')\n",
    "vk_path = os.path.join('shared/test.vk')\n",
    "proof_path = os.path.join('shared/test.pf')\n",
    "settings_path = os.path.join('shared/settings.json')\n",
    "srs_path = os.path.join('shared/kzg.srs')\n",
    "witness_path = os.path.join('prover/witness.json')\n",
    "# this is private to prover since it contains actual data\n",
    "sel_data_path = os.path.join('prover/sel_data.json')\n",
    "# this is just dummy random value\n",
    "sel_dummy_data_path = os.path.join('shared/sel_dummy_data.json')"
   ]
  },
  {
   "attachments": {},
   "cell_type": "markdown",
   "metadata": {},
   "source": [
    "=======================  ZK-STATS FLOW ======================="
   ]
  },
  {
   "cell_type": "code",
   "execution_count": 5,
   "metadata": {},
   "outputs": [],
   "source": [
    "data_path = os.path.join('data.json')\n",
    "dummy_data_path = os.path.join('shared/dummy_data.json')\n",
    "create_dummy(data_path, dummy_data_path)"
   ]
  },
  {
   "cell_type": "code",
   "execution_count": 6,
   "metadata": {},
   "outputs": [],
   "source": [
    "scales = [1]\n",
    "selected_columns = ['col_name']\n",
    "commitment_maps = get_data_commitment_maps(data_path, scales)"
   ]
  },
  {
   "cell_type": "code",
   "execution_count": 7,
   "metadata": {},
   "outputs": [
    {
     "name": "stderr",
     "output_type": "stream",
     "text": [
      "/Users/mhchia/projects/work/pse/zk-stats-lib/zkstats/ops.py:141: UserWarning: To copy construct from a tensor, it is recommended to use sourceTensor.clone().detach() or sourceTensor.clone().detach().requires_grad_(True), rather than torch.tensor(sourceTensor).\n",
      "  result = torch.tensor(mode_within(x_1d, error))\n",
      "/Users/mhchia/projects/work/pse/zk-stats-lib/zkstats/computation.py:166: TracerWarning: torch.tensor results are registered as constants in the trace. You can safely ignore this warning if you use this function to create tensors out of constant variables that would be the same every time you call this function. In any other case, this might cause the trace to be incorrect.\n",
      "  is_precise_aggregated = torch.tensor(1.0)\n",
      "/Users/mhchia/projects/work/pse/zk-stats-lib/zkstats/ops.py:149: TracerWarning: Iterating over a tensor might cause the trace to be incorrect. Passing a tensor of different shape won't change the number of iterations executed (and might lead to errors or silently give incorrect results).\n",
      "  _result = torch.tensor([\n",
      "/Users/mhchia/projects/work/pse/zk-stats-lib/zkstats/ops.py:149: TracerWarning: torch.tensor results are registered as constants in the trace. You can safely ignore this warning if you use this function to create tensors out of constant variables that would be the same every time you call this function. In any other case, this might cause the trace to be incorrect.\n",
      "  _result = torch.tensor([\n",
      "/Users/mhchia/Library/Caches/pypoetry/virtualenvs/zkstats-brXmXluj-py3.12/lib/python3.12/site-packages/torch/onnx/symbolic_opset9.py:2174: FutureWarning: 'torch.onnx.symbolic_opset9._cast_Bool' is deprecated in version 2.0 and will be removed in the future. Please Avoid using this function and create a Cast node instead.\n",
      "  return fn(g, to_cast_func(g, input, False), to_cast_func(g, other, False))\n"
     ]
    }
   ],
   "source": [
    "# Verifier/ data consumer side: send desired calculation\n",
    "from zkstats.computation import computation_to_model, State\n",
    "\n",
    "\n",
    "def computation(s: State, data: list[torch.Tensor]) -> torch.Tensor:\n",
    "    x = data[0]\n",
    "    return s.mode(x)\n",
    "\n",
    "error = 0.0001\n",
    "_, verifier_model = computation_to_model(computation, error)\n",
    "\n",
    "verifier_define_calculation(dummy_data_path, selected_columns, sel_dummy_data_path, verifier_model, verifier_model_path)"
   ]
  },
  {
   "cell_type": "code",
   "execution_count": 8,
   "metadata": {},
   "outputs": [
    {
     "name": "stdout",
     "output_type": "stream",
     "text": [
      "==== Generate & Calibrate Setting ====\n",
      "scale:  [1]\n",
      "setting:  {\"run_args\":{\"tolerance\":{\"val\":0.0,\"scale\":1.0},\"input_scale\":1,\"param_scale\":1,\"scale_rebase_multiplier\":10,\"lookup_range\":[0,0],\"logrows\":14,\"num_inner_cols\":2,\"variables\":[[\"batch_size\",1]],\"input_visibility\":{\"Hashed\":{\"hash_is_public\":true,\"outlets\":[]}},\"output_visibility\":\"Public\",\"param_visibility\":\"Private\"},\"num_rows\":14432,\"total_assignments\":300,\"total_const_size\":0,\"model_instance_shapes\":[[1],[1]],\"model_output_scales\":[0,1],\"model_input_scales\":[1],\"module_sizes\":{\"kzg\":[],\"poseidon\":[14432,[1]],\"elgamal\":[0,[0]]},\"required_lookups\":[],\"check_mode\":\"UNSAFE\",\"version\":\"7.0.0\",\"num_blinding_factors\":null}\n"
     ]
    }
   ],
   "source": [
    "# Prover/ data owner side\n",
    "_, prover_model = computation_to_model(computation, error)\n",
    "\n",
    "prover_gen_settings(data_path, selected_columns, sel_data_path, prover_model,prover_model_path, scales, \"resources\", settings_path)"
   ]
  },
  {
   "cell_type": "code",
   "execution_count": 9,
   "metadata": {},
   "outputs": [
    {
     "name": "stderr",
     "output_type": "stream",
     "text": [
      "spawning module 0\n",
      "spawning module 2\n"
     ]
    },
    {
     "name": "stdout",
     "output_type": "stream",
     "text": [
      "==== setting up ezkl ====\n"
     ]
    },
    {
     "name": "stderr",
     "output_type": "stream",
     "text": [
      "spawning module 0\n",
      "spawning module 2\n"
     ]
    },
    {
     "name": "stdout",
     "output_type": "stream",
     "text": [
      "Time setup: 2.4716269969940186 seconds\n",
      "=======================================\n",
      "==== Generating Witness ====\n",
      "witness boolean:  1.0\n",
      "witness result 1 : 39.5\n",
      "==== Generating Proof ====\n"
     ]
    },
    {
     "name": "stderr",
     "output_type": "stream",
     "text": [
      "spawning module 0\n",
      "spawning module 2\n"
     ]
    },
    {
     "name": "stdout",
     "output_type": "stream",
     "text": [
      "proof:  {'instances': [[[8983262245034475985, 4321099455052339947, 15405541267776549565, 129283864358809647], [12436184717236109307, 3962172157175319849, 7381016538464732718, 1011752739694698287], [7849486104498536031, 9471811025875477344, 14212922505027326017, 3214504566215810058]]], 'proof': '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', 'transcript_type': 'EVM'}\n",
      "Time gen prf: 2.4115352630615234 seconds\n"
     ]
    }
   ],
   "source": [
    "# Here verifier & prover can concurrently call setup since all params are public to get pk.\n",
    "# Here write as verifier function to emphasize that verifier must calculate its own vk to be sure\n",
    "setup(verifier_model_path, verifier_compiled_model_path, settings_path,vk_path, pk_path )\n",
    "\n",
    "print(\"=======================================\")\n",
    "# Prover generates proof\n",
    "prover_gen_proof(prover_model_path, sel_data_path, witness_path, prover_compiled_model_path, settings_path, proof_path, pk_path)"
   ]
  },
  {
   "cell_type": "code",
   "execution_count": 10,
   "metadata": {},
   "outputs": [
    {
     "name": "stdout",
     "output_type": "stream",
     "text": [
      "Verifier gets result: 39.5\n"
     ]
    }
   ],
   "source": [
    "# Verifier verifies\n",
    "res = verifier_verify(proof_path, settings_path, vk_path, selected_columns, commitment_maps)\n",
    "print(\"Verifier gets result:\", res)"
   ]
  }
 ],
 "metadata": {
  "kernelspec": {
   "display_name": "Python 3",
   "language": "python",
   "name": "python3"
  },
  "language_info": {
   "codemirror_mode": {
    "name": "ipython",
    "version": 3
   },
   "file_extension": ".py",
   "mimetype": "text/x-python",
   "name": "python",
   "nbconvert_exporter": "python",
   "pygments_lexer": "ipython3",
   "version": "3.12.1"
  },
  "orig_nbformat": 4
 },
 "nbformat": 4,
 "nbformat_minor": 2
}
