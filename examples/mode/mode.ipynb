{
 "cells": [
  {
   "cell_type": "code",
   "execution_count": 1,
   "metadata": {},
   "outputs": [
    {
     "name": "stdout",
     "output_type": "stream",
     "text": [
      "Requirement already satisfied: ezkl==7.0.0 in /Users/jernkun/Library/Caches/pypoetry/virtualenvs/zkstats-OJpceffF-py3.11/lib/python3.11/site-packages (from -r ../../requirements.txt (line 1)) (7.0.0)\n",
      "Requirement already satisfied: torch in /Users/jernkun/Library/Caches/pypoetry/virtualenvs/zkstats-OJpceffF-py3.11/lib/python3.11/site-packages (from -r ../../requirements.txt (line 2)) (2.2.0)\n",
      "Requirement already satisfied: requests in /Users/jernkun/Library/Caches/pypoetry/virtualenvs/zkstats-OJpceffF-py3.11/lib/python3.11/site-packages (from -r ../../requirements.txt (line 3)) (2.31.0)\n",
      "Requirement already satisfied: scipy in /Users/jernkun/Library/Caches/pypoetry/virtualenvs/zkstats-OJpceffF-py3.11/lib/python3.11/site-packages (from -r ../../requirements.txt (line 4)) (1.12.0)\n",
      "Requirement already satisfied: numpy in /Users/jernkun/Library/Caches/pypoetry/virtualenvs/zkstats-OJpceffF-py3.11/lib/python3.11/site-packages (from -r ../../requirements.txt (line 5)) (1.26.3)\n",
      "Requirement already satisfied: matplotlib in /Users/jernkun/Library/Caches/pypoetry/virtualenvs/zkstats-OJpceffF-py3.11/lib/python3.11/site-packages (from -r ../../requirements.txt (line 6)) (3.8.2)\n",
      "Requirement already satisfied: statistics in /Users/jernkun/Library/Caches/pypoetry/virtualenvs/zkstats-OJpceffF-py3.11/lib/python3.11/site-packages (from -r ../../requirements.txt (line 7)) (1.0.3.5)\n",
      "Requirement already satisfied: onnx in /Users/jernkun/Library/Caches/pypoetry/virtualenvs/zkstats-OJpceffF-py3.11/lib/python3.11/site-packages (from -r ../../requirements.txt (line 8)) (1.15.0)\n",
      "Requirement already satisfied: filelock in /Users/jernkun/Library/Caches/pypoetry/virtualenvs/zkstats-OJpceffF-py3.11/lib/python3.11/site-packages (from torch->-r ../../requirements.txt (line 2)) (3.13.1)\n",
      "Requirement already satisfied: typing-extensions>=4.8.0 in /Users/jernkun/Library/Caches/pypoetry/virtualenvs/zkstats-OJpceffF-py3.11/lib/python3.11/site-packages (from torch->-r ../../requirements.txt (line 2)) (4.9.0)\n",
      "Requirement already satisfied: sympy in /Users/jernkun/Library/Caches/pypoetry/virtualenvs/zkstats-OJpceffF-py3.11/lib/python3.11/site-packages (from torch->-r ../../requirements.txt (line 2)) (1.12)\n",
      "Requirement already satisfied: networkx in /Users/jernkun/Library/Caches/pypoetry/virtualenvs/zkstats-OJpceffF-py3.11/lib/python3.11/site-packages (from torch->-r ../../requirements.txt (line 2)) (3.2.1)\n",
      "Requirement already satisfied: jinja2 in /Users/jernkun/Library/Caches/pypoetry/virtualenvs/zkstats-OJpceffF-py3.11/lib/python3.11/site-packages (from torch->-r ../../requirements.txt (line 2)) (3.1.3)\n",
      "Requirement already satisfied: fsspec in /Users/jernkun/Library/Caches/pypoetry/virtualenvs/zkstats-OJpceffF-py3.11/lib/python3.11/site-packages (from torch->-r ../../requirements.txt (line 2)) (2023.12.2)\n",
      "Requirement already satisfied: charset-normalizer<4,>=2 in /Users/jernkun/Library/Caches/pypoetry/virtualenvs/zkstats-OJpceffF-py3.11/lib/python3.11/site-packages (from requests->-r ../../requirements.txt (line 3)) (3.3.2)\n",
      "Requirement already satisfied: idna<4,>=2.5 in /Users/jernkun/Library/Caches/pypoetry/virtualenvs/zkstats-OJpceffF-py3.11/lib/python3.11/site-packages (from requests->-r ../../requirements.txt (line 3)) (3.6)\n",
      "Requirement already satisfied: urllib3<3,>=1.21.1 in /Users/jernkun/Library/Caches/pypoetry/virtualenvs/zkstats-OJpceffF-py3.11/lib/python3.11/site-packages (from requests->-r ../../requirements.txt (line 3)) (2.2.0)\n",
      "Requirement already satisfied: certifi>=2017.4.17 in /Users/jernkun/Library/Caches/pypoetry/virtualenvs/zkstats-OJpceffF-py3.11/lib/python3.11/site-packages (from requests->-r ../../requirements.txt (line 3)) (2024.2.2)\n",
      "Requirement already satisfied: contourpy>=1.0.1 in /Users/jernkun/Library/Caches/pypoetry/virtualenvs/zkstats-OJpceffF-py3.11/lib/python3.11/site-packages (from matplotlib->-r ../../requirements.txt (line 6)) (1.2.0)\n",
      "Requirement already satisfied: cycler>=0.10 in /Users/jernkun/Library/Caches/pypoetry/virtualenvs/zkstats-OJpceffF-py3.11/lib/python3.11/site-packages (from matplotlib->-r ../../requirements.txt (line 6)) (0.12.1)\n",
      "Requirement already satisfied: fonttools>=4.22.0 in /Users/jernkun/Library/Caches/pypoetry/virtualenvs/zkstats-OJpceffF-py3.11/lib/python3.11/site-packages (from matplotlib->-r ../../requirements.txt (line 6)) (4.47.2)\n",
      "Requirement already satisfied: kiwisolver>=1.3.1 in /Users/jernkun/Library/Caches/pypoetry/virtualenvs/zkstats-OJpceffF-py3.11/lib/python3.11/site-packages (from matplotlib->-r ../../requirements.txt (line 6)) (1.4.5)\n",
      "Requirement already satisfied: packaging>=20.0 in /Users/jernkun/Library/Caches/pypoetry/virtualenvs/zkstats-OJpceffF-py3.11/lib/python3.11/site-packages (from matplotlib->-r ../../requirements.txt (line 6)) (23.2)\n",
      "Requirement already satisfied: pillow>=8 in /Users/jernkun/Library/Caches/pypoetry/virtualenvs/zkstats-OJpceffF-py3.11/lib/python3.11/site-packages (from matplotlib->-r ../../requirements.txt (line 6)) (10.2.0)\n",
      "Requirement already satisfied: pyparsing>=2.3.1 in /Users/jernkun/Library/Caches/pypoetry/virtualenvs/zkstats-OJpceffF-py3.11/lib/python3.11/site-packages (from matplotlib->-r ../../requirements.txt (line 6)) (3.1.1)\n",
      "Requirement already satisfied: python-dateutil>=2.7 in /Users/jernkun/Library/Caches/pypoetry/virtualenvs/zkstats-OJpceffF-py3.11/lib/python3.11/site-packages (from matplotlib->-r ../../requirements.txt (line 6)) (2.8.2)\n",
      "Requirement already satisfied: docutils>=0.3 in /Users/jernkun/Library/Caches/pypoetry/virtualenvs/zkstats-OJpceffF-py3.11/lib/python3.11/site-packages (from statistics->-r ../../requirements.txt (line 7)) (0.20.1)\n",
      "Requirement already satisfied: protobuf>=3.20.2 in /Users/jernkun/Library/Caches/pypoetry/virtualenvs/zkstats-OJpceffF-py3.11/lib/python3.11/site-packages (from onnx->-r ../../requirements.txt (line 8)) (4.25.2)\n",
      "Requirement already satisfied: six>=1.5 in /Users/jernkun/Library/Caches/pypoetry/virtualenvs/zkstats-OJpceffF-py3.11/lib/python3.11/site-packages (from python-dateutil>=2.7->matplotlib->-r ../../requirements.txt (line 6)) (1.16.0)\n",
      "Requirement already satisfied: MarkupSafe>=2.0 in /Users/jernkun/Library/Caches/pypoetry/virtualenvs/zkstats-OJpceffF-py3.11/lib/python3.11/site-packages (from jinja2->torch->-r ../../requirements.txt (line 2)) (2.1.4)\n",
      "Requirement already satisfied: mpmath>=0.19 in /Users/jernkun/Library/Caches/pypoetry/virtualenvs/zkstats-OJpceffF-py3.11/lib/python3.11/site-packages (from sympy->torch->-r ../../requirements.txt (line 2)) (1.3.0)\n",
      "\n",
      "\u001b[1m[\u001b[0m\u001b[34;49mnotice\u001b[0m\u001b[1;39;49m]\u001b[0m\u001b[39;49m A new release of pip is available: \u001b[0m\u001b[31;49m23.2.1\u001b[0m\u001b[39;49m -> \u001b[0m\u001b[32;49m24.0\u001b[0m\n",
      "\u001b[1m[\u001b[0m\u001b[34;49mnotice\u001b[0m\u001b[1;39;49m]\u001b[0m\u001b[39;49m To update, run: \u001b[0m\u001b[32;49mpip install --upgrade pip\u001b[0m\n",
      "Note: you may need to restart the kernel to use updated packages.\n"
     ]
    }
   ],
   "source": [
    "pip install -r ../../requirements.txt"
   ]
  },
  {
   "cell_type": "code",
   "execution_count": 2,
   "metadata": {},
   "outputs": [],
   "source": [
    "import ezkl\n",
    "import torch\n",
    "from torch import nn\n",
    "import json\n",
    "import os\n",
    "import time\n",
    "import scipy\n",
    "import numpy as np\n",
    "import matplotlib.pyplot as plt\n",
    "import statistics\n",
    "import math"
   ]
  },
  {
   "cell_type": "code",
   "execution_count": 3,
   "metadata": {},
   "outputs": [],
   "source": [
    "from zkstats.core import create_dummy, verifier_define_calculation, prover_gen_settings, setup, prover_gen_proof, verifier_verify, get_data_commitment_maps"
   ]
  },
  {
   "attachments": {},
   "cell_type": "markdown",
   "metadata": {},
   "source": []
  },
  {
   "cell_type": "code",
   "execution_count": 4,
   "metadata": {},
   "outputs": [],
   "source": [
    "# init path\n",
    "os.makedirs(os.path.dirname('shared/'), exist_ok=True)\n",
    "os.makedirs(os.path.dirname('prover/'), exist_ok=True)\n",
    "verifier_model_path = os.path.join('shared/verifier.onnx')\n",
    "prover_model_path = os.path.join('prover/prover.onnx')\n",
    "verifier_compiled_model_path = os.path.join('shared/verifier.compiled')\n",
    "prover_compiled_model_path = os.path.join('prover/prover.compiled')\n",
    "pk_path = os.path.join('shared/test.pk')\n",
    "vk_path = os.path.join('shared/test.vk')\n",
    "proof_path = os.path.join('shared/test.pf')\n",
    "settings_path = os.path.join('shared/settings.json')\n",
    "srs_path = os.path.join('shared/kzg.srs')\n",
    "witness_path = os.path.join('prover/witness.json')\n",
    "# this is private to prover since it contains actual data\n",
    "sel_data_path = os.path.join('prover/sel_data.json')\n",
    "# this is just dummy random value\n",
    "sel_dummy_data_path = os.path.join('shared/sel_dummy_data.json')"
   ]
  },
  {
   "attachments": {},
   "cell_type": "markdown",
   "metadata": {},
   "source": [
    "=======================  ZK-STATS FLOW ======================="
   ]
  },
  {
   "cell_type": "code",
   "execution_count": 5,
   "metadata": {},
   "outputs": [],
   "source": [
    "data_path = os.path.join('data.json')\n",
    "dummy_data_path = os.path.join('shared/dummy_data.json')\n",
    "create_dummy(data_path, dummy_data_path)"
   ]
  },
  {
   "cell_type": "code",
   "execution_count": 16,
   "metadata": {},
   "outputs": [],
   "source": [
    "# use large scale here to get the output really close to the value in dataset, which is important to Mode.\n",
    "# large scale doesn't blowup circuit size in Mode, so fine.\n",
    "scales = [8]\n",
    "selected_columns = ['col_name']\n",
    "commitment_maps = get_data_commitment_maps(data_path, scales)"
   ]
  },
  {
   "cell_type": "code",
   "execution_count": 17,
   "metadata": {},
   "outputs": [],
   "source": [
    "# Verifier/ data consumer side: send desired calculation\n",
    "from zkstats.computation import computation_to_model, State\n",
    "\n",
    "def computation(s: State, data: list[torch.Tensor]) -> torch.Tensor:\n",
    "    x = data[0]\n",
    "    return s.mode(x)\n",
    "# IMPORTANT: Unlike other functions, error of Mode is num_error, NOT the result error.\n",
    "error = 0\n",
    "_, verifier_model = computation_to_model(computation, error)\n",
    "\n",
    "verifier_define_calculation(dummy_data_path, selected_columns, sel_dummy_data_path, verifier_model, verifier_model_path)"
   ]
  },
  {
   "cell_type": "code",
   "execution_count": 18,
   "metadata": {},
   "outputs": [
    {
     "name": "stdout",
     "output_type": "stream",
     "text": [
      "==== Generate & Calibrate Setting ====\n",
      "scale:  [8]\n",
      "setting:  {\"run_args\":{\"tolerance\":{\"val\":0.0,\"scale\":1.0},\"input_scale\":8,\"param_scale\":8,\"scale_rebase_multiplier\":10,\"lookup_range\":[0,0],\"logrows\":14,\"num_inner_cols\":2,\"variables\":[[\"batch_size\",1]],\"input_visibility\":{\"Hashed\":{\"hash_is_public\":true,\"outlets\":[]}},\"output_visibility\":\"Public\",\"param_visibility\":\"Private\"},\"num_rows\":14432,\"total_assignments\":300,\"total_const_size\":0,\"model_instance_shapes\":[[1],[1]],\"model_output_scales\":[0,8],\"model_input_scales\":[8],\"module_sizes\":{\"kzg\":[],\"poseidon\":[14432,[1]],\"elgamal\":[0,[0]]},\"required_lookups\":[],\"check_mode\":\"UNSAFE\",\"version\":\"7.0.0\",\"num_blinding_factors\":null}\n"
     ]
    }
   ],
   "source": [
    "# Prover/ data owner side\n",
    "_, prover_model = computation_to_model(computation, error)\n",
    "\n",
    "prover_gen_settings(data_path, selected_columns, sel_data_path, prover_model,prover_model_path, scales, \"resources\", settings_path)"
   ]
  },
  {
   "cell_type": "code",
   "execution_count": 19,
   "metadata": {},
   "outputs": [
    {
     "name": "stderr",
     "output_type": "stream",
     "text": [
      "spawning module 0\n",
      "spawning module 2\n"
     ]
    },
    {
     "name": "stdout",
     "output_type": "stream",
     "text": [
      "==== setting up ezkl ====\n"
     ]
    },
    {
     "name": "stderr",
     "output_type": "stream",
     "text": [
      "spawning module 0\n",
      "spawning module 2\n",
      "spawning module 0\n"
     ]
    },
    {
     "name": "stdout",
     "output_type": "stream",
     "text": [
      "Time setup: 1.386570930480957 seconds\n",
      "=======================================\n",
      "==== Generating Witness ====\n",
      "witness boolean:  1.0\n",
      "witness result 1 : 77.6015625\n",
      "==== Generating Proof ====\n"
     ]
    },
    {
     "name": "stderr",
     "output_type": "stream",
     "text": [
      "spawning module 2\n"
     ]
    },
    {
     "name": "stdout",
     "output_type": "stream",
     "text": [
      "proof:  {'instances': [[[3042937791208075219, 8157070662846698822, 3804781648660056856, 172406108020799675], [12436184717236109307, 3962172157175319849, 7381016538464732718, 1011752739694698287], [10694507807471723898, 15190737326438772030, 17750154044162608345, 421916922553260280]]], 'proof': '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', 'transcript_type': 'EVM'}\n",
      "Time gen prf: 1.7840330600738525 seconds\n"
     ]
    }
   ],
   "source": [
    "# Here verifier & prover can concurrently call setup since all params are public to get pk.\n",
    "# Here write as verifier function to emphasize that verifier must calculate its own vk to be sure\n",
    "setup(verifier_model_path, verifier_compiled_model_path, settings_path,vk_path, pk_path )\n",
    "\n",
    "print(\"=======================================\")\n",
    "# Prover generates proof\n",
    "prover_gen_proof(prover_model_path, sel_data_path, witness_path, prover_compiled_model_path, settings_path, proof_path, pk_path)"
   ]
  },
  {
   "cell_type": "code",
   "execution_count": 20,
   "metadata": {},
   "outputs": [
    {
     "name": "stdout",
     "output_type": "stream",
     "text": [
      "Verifier gets result: 77.6015625\n"
     ]
    }
   ],
   "source": [
    "# Verifier verifies\n",
    "res = verifier_verify(proof_path, settings_path, vk_path, selected_columns, commitment_maps)\n",
    "print(\"Verifier gets result:\", res)"
   ]
  },
  {
   "cell_type": "code",
   "execution_count": null,
   "metadata": {},
   "outputs": [],
   "source": []
  },
  {
   "cell_type": "code",
   "execution_count": null,
   "metadata": {},
   "outputs": [],
   "source": []
  }
 ],
 "metadata": {
  "kernelspec": {
   "display_name": "Python 3",
   "language": "python",
   "name": "python3"
  },
  "language_info": {
   "codemirror_mode": {
    "name": "ipython",
    "version": 3
   },
   "file_extension": ".py",
   "mimetype": "text/x-python",
   "name": "python",
   "nbconvert_exporter": "python",
   "pygments_lexer": "ipython3",
   "version": "3.11.4"
  },
  "orig_nbformat": 4
 },
 "nbformat": 4,
 "nbformat_minor": 2
}
