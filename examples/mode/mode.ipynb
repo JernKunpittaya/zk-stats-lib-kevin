{
 "cells": [
  {
   "cell_type": "code",
   "execution_count": 1,
   "metadata": {},
   "outputs": [
    {
     "name": "stdout",
     "output_type": "stream",
     "text": [
      "Requirement already satisfied: ezkl==7.0.0 in /Users/jernkun/Library/Caches/pypoetry/virtualenvs/zkstats-OJpceffF-py3.11/lib/python3.11/site-packages (from -r ../../requirements.txt (line 1)) (7.0.0)\n",
      "Requirement already satisfied: torch in /Users/jernkun/Library/Caches/pypoetry/virtualenvs/zkstats-OJpceffF-py3.11/lib/python3.11/site-packages (from -r ../../requirements.txt (line 2)) (2.2.0)\n",
      "Requirement already satisfied: requests in /Users/jernkun/Library/Caches/pypoetry/virtualenvs/zkstats-OJpceffF-py3.11/lib/python3.11/site-packages (from -r ../../requirements.txt (line 3)) (2.31.0)\n",
      "Requirement already satisfied: scipy in /Users/jernkun/Library/Caches/pypoetry/virtualenvs/zkstats-OJpceffF-py3.11/lib/python3.11/site-packages (from -r ../../requirements.txt (line 4)) (1.12.0)\n",
      "Requirement already satisfied: numpy in /Users/jernkun/Library/Caches/pypoetry/virtualenvs/zkstats-OJpceffF-py3.11/lib/python3.11/site-packages (from -r ../../requirements.txt (line 5)) (1.26.3)\n",
      "Requirement already satisfied: matplotlib in /Users/jernkun/Library/Caches/pypoetry/virtualenvs/zkstats-OJpceffF-py3.11/lib/python3.11/site-packages (from -r ../../requirements.txt (line 6)) (3.8.2)\n",
      "Requirement already satisfied: statistics in /Users/jernkun/Library/Caches/pypoetry/virtualenvs/zkstats-OJpceffF-py3.11/lib/python3.11/site-packages (from -r ../../requirements.txt (line 7)) (1.0.3.5)\n",
      "Requirement already satisfied: onnx in /Users/jernkun/Library/Caches/pypoetry/virtualenvs/zkstats-OJpceffF-py3.11/lib/python3.11/site-packages (from -r ../../requirements.txt (line 8)) (1.15.0)\n",
      "Requirement already satisfied: filelock in /Users/jernkun/Library/Caches/pypoetry/virtualenvs/zkstats-OJpceffF-py3.11/lib/python3.11/site-packages (from torch->-r ../../requirements.txt (line 2)) (3.13.1)\n",
      "Requirement already satisfied: typing-extensions>=4.8.0 in /Users/jernkun/Library/Caches/pypoetry/virtualenvs/zkstats-OJpceffF-py3.11/lib/python3.11/site-packages (from torch->-r ../../requirements.txt (line 2)) (4.9.0)\n",
      "Requirement already satisfied: sympy in /Users/jernkun/Library/Caches/pypoetry/virtualenvs/zkstats-OJpceffF-py3.11/lib/python3.11/site-packages (from torch->-r ../../requirements.txt (line 2)) (1.12)\n",
      "Requirement already satisfied: networkx in /Users/jernkun/Library/Caches/pypoetry/virtualenvs/zkstats-OJpceffF-py3.11/lib/python3.11/site-packages (from torch->-r ../../requirements.txt (line 2)) (3.2.1)\n",
      "Requirement already satisfied: jinja2 in /Users/jernkun/Library/Caches/pypoetry/virtualenvs/zkstats-OJpceffF-py3.11/lib/python3.11/site-packages (from torch->-r ../../requirements.txt (line 2)) (3.1.3)\n",
      "Requirement already satisfied: fsspec in /Users/jernkun/Library/Caches/pypoetry/virtualenvs/zkstats-OJpceffF-py3.11/lib/python3.11/site-packages (from torch->-r ../../requirements.txt (line 2)) (2023.12.2)\n",
      "Requirement already satisfied: charset-normalizer<4,>=2 in /Users/jernkun/Library/Caches/pypoetry/virtualenvs/zkstats-OJpceffF-py3.11/lib/python3.11/site-packages (from requests->-r ../../requirements.txt (line 3)) (3.3.2)\n",
      "Requirement already satisfied: idna<4,>=2.5 in /Users/jernkun/Library/Caches/pypoetry/virtualenvs/zkstats-OJpceffF-py3.11/lib/python3.11/site-packages (from requests->-r ../../requirements.txt (line 3)) (3.6)\n",
      "Requirement already satisfied: urllib3<3,>=1.21.1 in /Users/jernkun/Library/Caches/pypoetry/virtualenvs/zkstats-OJpceffF-py3.11/lib/python3.11/site-packages (from requests->-r ../../requirements.txt (line 3)) (2.2.0)\n",
      "Requirement already satisfied: certifi>=2017.4.17 in /Users/jernkun/Library/Caches/pypoetry/virtualenvs/zkstats-OJpceffF-py3.11/lib/python3.11/site-packages (from requests->-r ../../requirements.txt (line 3)) (2024.2.2)\n",
      "Requirement already satisfied: contourpy>=1.0.1 in /Users/jernkun/Library/Caches/pypoetry/virtualenvs/zkstats-OJpceffF-py3.11/lib/python3.11/site-packages (from matplotlib->-r ../../requirements.txt (line 6)) (1.2.0)\n",
      "Requirement already satisfied: cycler>=0.10 in /Users/jernkun/Library/Caches/pypoetry/virtualenvs/zkstats-OJpceffF-py3.11/lib/python3.11/site-packages (from matplotlib->-r ../../requirements.txt (line 6)) (0.12.1)\n",
      "Requirement already satisfied: fonttools>=4.22.0 in /Users/jernkun/Library/Caches/pypoetry/virtualenvs/zkstats-OJpceffF-py3.11/lib/python3.11/site-packages (from matplotlib->-r ../../requirements.txt (line 6)) (4.47.2)\n",
      "Requirement already satisfied: kiwisolver>=1.3.1 in /Users/jernkun/Library/Caches/pypoetry/virtualenvs/zkstats-OJpceffF-py3.11/lib/python3.11/site-packages (from matplotlib->-r ../../requirements.txt (line 6)) (1.4.5)\n",
      "Requirement already satisfied: packaging>=20.0 in /Users/jernkun/Library/Caches/pypoetry/virtualenvs/zkstats-OJpceffF-py3.11/lib/python3.11/site-packages (from matplotlib->-r ../../requirements.txt (line 6)) (23.2)\n",
      "Requirement already satisfied: pillow>=8 in /Users/jernkun/Library/Caches/pypoetry/virtualenvs/zkstats-OJpceffF-py3.11/lib/python3.11/site-packages (from matplotlib->-r ../../requirements.txt (line 6)) (10.2.0)\n",
      "Requirement already satisfied: pyparsing>=2.3.1 in /Users/jernkun/Library/Caches/pypoetry/virtualenvs/zkstats-OJpceffF-py3.11/lib/python3.11/site-packages (from matplotlib->-r ../../requirements.txt (line 6)) (3.1.1)\n",
      "Requirement already satisfied: python-dateutil>=2.7 in /Users/jernkun/Library/Caches/pypoetry/virtualenvs/zkstats-OJpceffF-py3.11/lib/python3.11/site-packages (from matplotlib->-r ../../requirements.txt (line 6)) (2.8.2)\n",
      "Requirement already satisfied: docutils>=0.3 in /Users/jernkun/Library/Caches/pypoetry/virtualenvs/zkstats-OJpceffF-py3.11/lib/python3.11/site-packages (from statistics->-r ../../requirements.txt (line 7)) (0.20.1)\n",
      "Requirement already satisfied: protobuf>=3.20.2 in /Users/jernkun/Library/Caches/pypoetry/virtualenvs/zkstats-OJpceffF-py3.11/lib/python3.11/site-packages (from onnx->-r ../../requirements.txt (line 8)) (4.25.2)\n",
      "Requirement already satisfied: six>=1.5 in /Users/jernkun/Library/Caches/pypoetry/virtualenvs/zkstats-OJpceffF-py3.11/lib/python3.11/site-packages (from python-dateutil>=2.7->matplotlib->-r ../../requirements.txt (line 6)) (1.16.0)\n",
      "Requirement already satisfied: MarkupSafe>=2.0 in /Users/jernkun/Library/Caches/pypoetry/virtualenvs/zkstats-OJpceffF-py3.11/lib/python3.11/site-packages (from jinja2->torch->-r ../../requirements.txt (line 2)) (2.1.4)\n",
      "Requirement already satisfied: mpmath>=0.19 in /Users/jernkun/Library/Caches/pypoetry/virtualenvs/zkstats-OJpceffF-py3.11/lib/python3.11/site-packages (from sympy->torch->-r ../../requirements.txt (line 2)) (1.3.0)\n",
      "\n",
      "\u001b[1m[\u001b[0m\u001b[34;49mnotice\u001b[0m\u001b[1;39;49m]\u001b[0m\u001b[39;49m A new release of pip is available: \u001b[0m\u001b[31;49m23.2.1\u001b[0m\u001b[39;49m -> \u001b[0m\u001b[32;49m24.0\u001b[0m\n",
      "\u001b[1m[\u001b[0m\u001b[34;49mnotice\u001b[0m\u001b[1;39;49m]\u001b[0m\u001b[39;49m To update, run: \u001b[0m\u001b[32;49mpip install --upgrade pip\u001b[0m\n",
      "Note: you may need to restart the kernel to use updated packages.\n"
     ]
    }
   ],
   "source": [
    "pip install -r ../../requirements.txt"
   ]
  },
  {
   "cell_type": "code",
   "execution_count": 2,
   "metadata": {},
   "outputs": [],
   "source": [
    "import ezkl\n",
    "import torch\n",
    "from torch import nn\n",
    "import json\n",
    "import os\n",
    "import time\n",
    "import scipy\n",
    "import numpy as np\n",
    "import matplotlib.pyplot as plt\n",
    "import statistics\n",
    "import math"
   ]
  },
  {
   "cell_type": "code",
   "execution_count": 3,
   "metadata": {},
   "outputs": [],
   "source": [
    "%run -i ../../zkstats/core.py"
   ]
  },
  {
   "attachments": {},
   "cell_type": "markdown",
   "metadata": {},
   "source": []
  },
  {
   "cell_type": "code",
   "execution_count": 4,
   "metadata": {},
   "outputs": [],
   "source": [
    "# init path\n",
    "os.makedirs(os.path.dirname('shared/'), exist_ok=True)\n",
    "os.makedirs(os.path.dirname('prover/'), exist_ok=True)\n",
    "verifier_model_path = os.path.join('shared/verifier.onnx')\n",
    "prover_model_path = os.path.join('prover/prover.onnx')\n",
    "verifier_compiled_model_path = os.path.join('shared/verifier.compiled')\n",
    "prover_compiled_model_path = os.path.join('prover/prover.compiled')\n",
    "pk_path = os.path.join('shared/test.pk')\n",
    "vk_path = os.path.join('shared/test.vk')\n",
    "proof_path = os.path.join('shared/test.pf')\n",
    "settings_path = os.path.join('shared/settings.json')\n",
    "srs_path = os.path.join('shared/kzg.srs')\n",
    "witness_path = os.path.join('prover/witness.json')\n",
    "# this is private to prover since it contains actual data\n",
    "sel_data_path = os.path.join('prover/sel_data.json')\n",
    "# this is just dummy random value\n",
    "sel_dummy_data_path = os.path.join('shared/sel_dummy_data.json')"
   ]
  },
  {
   "attachments": {},
   "cell_type": "markdown",
   "metadata": {},
   "source": [
    "=======================  ZK-STATS FLOW ======================="
   ]
  },
  {
   "cell_type": "code",
   "execution_count": 5,
   "metadata": {},
   "outputs": [],
   "source": [
    "def mode_within(data_array, percent):\n",
    "    max_sum_freq = 0\n",
    "    mode = data_array[0]\n",
    "\n",
    "    for check_val in set(data_array):\n",
    "        sum_freq = sum(1 for ele in data_array if abs(ele - check_val) <= abs(percent * check_val / 100))\n",
    "\n",
    "        if sum_freq > max_sum_freq:\n",
    "            mode = check_val\n",
    "            max_sum_freq = sum_freq\n",
    "\n",
    "    return mode"
   ]
  },
  {
   "cell_type": "code",
   "execution_count": 6,
   "metadata": {},
   "outputs": [],
   "source": [
    "data_path = os.path.join('data.json')\n",
    "dummy_data_path = os.path.join('shared/dummy_data.json')\n",
    "\n",
    "data = json.loads(open(data_path, \"r\").read())['col_name']\n",
    "data_tensor = torch.reshape(torch.tensor(data),(1,-1, 1))\n",
    "\n",
    "create_dummy(data_path, dummy_data_path)\n",
    "dummy_data = json.loads(open(dummy_data_path, \"r\").read())['col_name']\n",
    "dummy_data_tensor = torch.reshape(torch.tensor(dummy_data), (1,-1,1))\n",
    "\n",
    "dummy_theory_output = torch.tensor(mode_within(dummy_data,1))\n",
    "theory_output = torch.tensor(mode_within(data,1))\n",
    "\n",
    "\n",
    "\n"
   ]
  },
  {
   "cell_type": "code",
   "execution_count": 7,
   "metadata": {},
   "outputs": [],
   "source": [
    "scales = [1]\n",
    "selected_columns = ['col_name']\n",
    "commitment_maps = get_data_commitment_maps(data_path, scales)"
   ]
  },
  {
   "cell_type": "code",
   "execution_count": 8,
   "metadata": {},
   "outputs": [
    {
     "name": "stdout",
     "output_type": "stream",
     "text": [
      "dummy output:  tensor(26.2000)\n"
     ]
    },
    {
     "name": "stderr",
     "output_type": "stream",
     "text": [
      "/var/folders/89/y9dw12v976ngdmqz4l7wbsnr0000gn/T/ipykernel_91066/449633495.py:10: TracerWarning: Iterating over a tensor might cause the trace to be incorrect. Passing a tensor of different shape won't change the number of iterations executed (and might lead to errors or silently give incorrect results).\n",
      "  result = torch.tensor([torch.sum((torch.abs(X-ele[0])<=torch.abs(0.01*ele[0])).double())<=count_equal for ele in X[0]])\n",
      "/var/folders/89/y9dw12v976ngdmqz4l7wbsnr0000gn/T/ipykernel_91066/449633495.py:10: TracerWarning: torch.tensor results are registered as constants in the trace. You can safely ignore this warning if you use this function to create tensors out of constant variables that would be the same every time you call this function. In any other case, this might cause the trace to be incorrect.\n",
      "  result = torch.tensor([torch.sum((torch.abs(X-ele[0])<=torch.abs(0.01*ele[0])).double())<=count_equal for ele in X[0]])\n"
     ]
    }
   ],
   "source": [
    "print(\"dummy output: \", dummy_theory_output)\n",
    "# Verifier/ data consumer side: send desired calculation\n",
    "class verifier_model(nn.Module):\n",
    "    def __init__(self):\n",
    "        super(verifier_model, self).__init__()\n",
    "        # w represents mean in this case\n",
    "        self.w = nn.Parameter(data = dummy_theory_output, requires_grad = False)\n",
    "    def forward(self,X):\n",
    "        count_equal = torch.sum((torch.abs(X-self.w)<=torch.abs(0.01*self.w)).double())\n",
    "        result = torch.tensor([torch.sum((torch.abs(X-ele[0])<=torch.abs(0.01*ele[0])).double())<=count_equal for ele in X[0]])\n",
    "        return (torch.sum(result) == X.size()[1], self.w)\n",
    "\n",
    "verifier_define_calculation(dummy_data_path, selected_columns,sel_dummy_data_path,verifier_model, verifier_model_path)"
   ]
  },
  {
   "cell_type": "code",
   "execution_count": 9,
   "metadata": {},
   "outputs": [
    {
     "name": "stdout",
     "output_type": "stream",
     "text": [
      "Theory_output:  tensor(77.)\n"
     ]
    },
    {
     "name": "stderr",
     "output_type": "stream",
     "text": [
      "/var/folders/89/y9dw12v976ngdmqz4l7wbsnr0000gn/T/ipykernel_91066/1437681360.py:11: TracerWarning: Iterating over a tensor might cause the trace to be incorrect. Passing a tensor of different shape won't change the number of iterations executed (and might lead to errors or silently give incorrect results).\n",
      "  result = torch.tensor([torch.sum((torch.abs(X-ele[0])<=torch.abs(0.01*ele[0])).double())<=count_equal for ele in X[0]])\n"
     ]
    },
    {
     "name": "stdout",
     "output_type": "stream",
     "text": [
      "==== Generate & Calibrate Setting ====\n",
      "scale:  [1]\n",
      "setting:  {\"run_args\":{\"tolerance\":{\"val\":0.0,\"scale\":1.0},\"input_scale\":1,\"param_scale\":1,\"scale_rebase_multiplier\":10,\"lookup_range\":[0,0],\"logrows\":14,\"num_inner_cols\":2,\"variables\":[[\"batch_size\",1]],\"input_visibility\":{\"Hashed\":{\"hash_is_public\":true,\"outlets\":[]}},\"output_visibility\":\"Public\",\"param_visibility\":\"Private\"},\"num_rows\":14432,\"total_assignments\":300,\"total_const_size\":0,\"model_instance_shapes\":[[1],[1]],\"model_output_scales\":[0,1],\"model_input_scales\":[1],\"module_sizes\":{\"kzg\":[],\"poseidon\":[14432,[1]],\"elgamal\":[0,[0]]},\"required_lookups\":[],\"check_mode\":\"UNSAFE\",\"version\":\"7.0.0\",\"num_blinding_factors\":null}\n"
     ]
    },
    {
     "name": "stderr",
     "output_type": "stream",
     "text": [
      "/var/folders/89/y9dw12v976ngdmqz4l7wbsnr0000gn/T/ipykernel_91066/1437681360.py:11: TracerWarning: torch.tensor results are registered as constants in the trace. You can safely ignore this warning if you use this function to create tensors out of constant variables that would be the same every time you call this function. In any other case, this might cause the trace to be incorrect.\n",
      "  result = torch.tensor([torch.sum((torch.abs(X-ele[0])<=torch.abs(0.01*ele[0])).double())<=count_equal for ele in X[0]])\n"
     ]
    }
   ],
   "source": [
    "# prover calculates settings, send to verifier\n",
    "print(\"Theory_output: \", theory_output)\n",
    "class prover_model(nn.Module):\n",
    "    def __init__(self):\n",
    "        super(prover_model, self).__init__()\n",
    "        # w represents mean in this case\n",
    "        self.w = nn.Parameter(data = theory_output, requires_grad = False)\n",
    "\n",
    "    def forward(self,X):\n",
    "        count_equal = torch.sum((torch.abs(X-self.w)<=torch.abs(0.01*self.w)).double())\n",
    "        result = torch.tensor([torch.sum((torch.abs(X-ele[0])<=torch.abs(0.01*ele[0])).double())<=count_equal for ele in X[0]])\n",
    "        return (torch.sum(result) == X.size()[1], self.w)\n",
    "\n",
    "prover_gen_settings(data_path, selected_columns, sel_data_path, prover_model,prover_model_path, scales, \"resources\", settings_path)"
   ]
  },
  {
   "cell_type": "code",
   "execution_count": 10,
   "metadata": {},
   "outputs": [
    {
     "name": "stderr",
     "output_type": "stream",
     "text": [
      "spawning module 0\n"
     ]
    },
    {
     "name": "stderr",
     "output_type": "stream",
     "text": [
      "spawning module 2\n"
     ]
    },
    {
     "name": "stdout",
     "output_type": "stream",
     "text": [
      "==== setting up ezkl ====\n"
     ]
    },
    {
     "name": "stderr",
     "output_type": "stream",
     "text": [
      "spawning module 0\n",
      "spawning module 2\n",
      "spawning module 0\n"
     ]
    },
    {
     "name": "stdout",
     "output_type": "stream",
     "text": [
      "Time setup: 1.646347999572754 seconds\n",
      "=======================================\n",
      "Theory output:  tensor(77.)\n",
      "==== Generating Witness ====\n",
      "witness boolean:  1.0\n",
      "witness result 1 : 77.0\n",
      "==== Generating Proof ====\n"
     ]
    },
    {
     "name": "stderr",
     "output_type": "stream",
     "text": [
      "spawning module 2\n"
     ]
    },
    {
     "name": "stdout",
     "output_type": "stream",
     "text": [
      "proof:  {'instances': [[[8983262245034475985, 4321099455052339947, 15405541267776549565, 129283864358809647], [12436184717236109307, 3962172157175319849, 7381016538464732718, 1011752739694698287], [2847721487471738066, 3094933423049675290, 17348522929905272778, 2381998173652826967]]], 'proof': '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', 'transcript_type': 'EVM'}\n",
      "Time gen prf: 1.740041971206665 seconds\n"
     ]
    }
   ],
   "source": [
    "# Here verifier & prover can concurrently call setup since all params are public to get pk.\n",
    "# Here write as verifier function to emphasize that verifier must calculate its own vk to be sure\n",
    "setup(verifier_model_path, verifier_compiled_model_path, settings_path,vk_path, pk_path )\n",
    "\n",
    "print(\"=======================================\")\n",
    "# Prover generates proof\n",
    "print(\"Theory output: \", theory_output)\n",
    "prover_gen_proof(prover_model_path, sel_data_path, witness_path, prover_compiled_model_path, settings_path, proof_path, pk_path)"
   ]
  },
  {
   "cell_type": "code",
   "execution_count": 11,
   "metadata": {},
   "outputs": [
    {
     "data": {
      "text/plain": [
       "77.0"
      ]
     },
     "execution_count": 11,
     "metadata": {},
     "output_type": "execute_result"
    }
   ],
   "source": [
    "# Verifier verifies\n",
    "verifier_verify(proof_path, settings_path, vk_path, selected_columns, commitment_maps)"
   ]
  },
  {
   "cell_type": "code",
   "execution_count": null,
   "metadata": {},
   "outputs": [],
   "source": []
  }
 ],
 "metadata": {
  "kernelspec": {
   "display_name": "Python 3",
   "language": "python",
   "name": "python3"
  },
  "language_info": {
   "codemirror_mode": {
    "name": "ipython",
    "version": 3
   },
   "file_extension": ".py",
   "mimetype": "text/x-python",
   "name": "python",
   "nbconvert_exporter": "python",
   "pygments_lexer": "ipython3",
   "version": "3.11.4"
  },
  "orig_nbformat": 4
 },
 "nbformat": 4,
 "nbformat_minor": 2
}
