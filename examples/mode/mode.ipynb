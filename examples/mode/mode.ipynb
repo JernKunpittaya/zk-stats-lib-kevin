{
 "cells": [
  {
   "cell_type": "code",
   "execution_count": 1,
   "metadata": {},
   "outputs": [
    {
     "name": "stdout",
     "output_type": "stream",
     "text": [
      "Requirement already satisfied: ezkl==5.0.8 in /Library/Frameworks/Python.framework/Versions/3.10/lib/python3.10/site-packages (from -r ../../requirements.txt (line 1)) (5.0.8)\n",
      "Requirement already satisfied: torch in /Library/Frameworks/Python.framework/Versions/3.10/lib/python3.10/site-packages (from -r ../../requirements.txt (line 2)) (2.1.1)\n",
      "Requirement already satisfied: requests in /Library/Frameworks/Python.framework/Versions/3.10/lib/python3.10/site-packages (from -r ../../requirements.txt (line 3)) (2.31.0)\n",
      "Requirement already satisfied: scipy in /Library/Frameworks/Python.framework/Versions/3.10/lib/python3.10/site-packages (from -r ../../requirements.txt (line 4)) (1.11.4)\n",
      "Requirement already satisfied: numpy in /Library/Frameworks/Python.framework/Versions/3.10/lib/python3.10/site-packages (from -r ../../requirements.txt (line 5)) (1.26.2)\n",
      "Requirement already satisfied: matplotlib in /Library/Frameworks/Python.framework/Versions/3.10/lib/python3.10/site-packages (from -r ../../requirements.txt (line 6)) (3.8.2)\n",
      "Requirement already satisfied: statistics in /Library/Frameworks/Python.framework/Versions/3.10/lib/python3.10/site-packages (from -r ../../requirements.txt (line 7)) (1.0.3.5)\n",
      "Requirement already satisfied: onnx in /Library/Frameworks/Python.framework/Versions/3.10/lib/python3.10/site-packages (from -r ../../requirements.txt (line 8)) (1.15.0)\n",
      "Requirement already satisfied: filelock in /Library/Frameworks/Python.framework/Versions/3.10/lib/python3.10/site-packages (from torch->-r ../../requirements.txt (line 2)) (3.13.1)\n",
      "Requirement already satisfied: networkx in /Library/Frameworks/Python.framework/Versions/3.10/lib/python3.10/site-packages (from torch->-r ../../requirements.txt (line 2)) (3.2.1)\n",
      "Requirement already satisfied: fsspec in /Library/Frameworks/Python.framework/Versions/3.10/lib/python3.10/site-packages (from torch->-r ../../requirements.txt (line 2)) (2023.10.0)\n",
      "Requirement already satisfied: sympy in /Library/Frameworks/Python.framework/Versions/3.10/lib/python3.10/site-packages (from torch->-r ../../requirements.txt (line 2)) (1.12)\n",
      "Requirement already satisfied: typing-extensions in /Library/Frameworks/Python.framework/Versions/3.10/lib/python3.10/site-packages (from torch->-r ../../requirements.txt (line 2)) (4.8.0)\n",
      "Requirement already satisfied: jinja2 in /Library/Frameworks/Python.framework/Versions/3.10/lib/python3.10/site-packages (from torch->-r ../../requirements.txt (line 2)) (3.1.2)\n",
      "Requirement already satisfied: urllib3<3,>=1.21.1 in /Library/Frameworks/Python.framework/Versions/3.10/lib/python3.10/site-packages (from requests->-r ../../requirements.txt (line 3)) (2.1.0)\n",
      "Requirement already satisfied: certifi>=2017.4.17 in /Library/Frameworks/Python.framework/Versions/3.10/lib/python3.10/site-packages (from requests->-r ../../requirements.txt (line 3)) (2023.11.17)\n",
      "Requirement already satisfied: charset-normalizer<4,>=2 in /Library/Frameworks/Python.framework/Versions/3.10/lib/python3.10/site-packages (from requests->-r ../../requirements.txt (line 3)) (3.3.2)\n",
      "Requirement already satisfied: idna<4,>=2.5 in /Library/Frameworks/Python.framework/Versions/3.10/lib/python3.10/site-packages (from requests->-r ../../requirements.txt (line 3)) (3.6)\n",
      "Requirement already satisfied: cycler>=0.10 in /Library/Frameworks/Python.framework/Versions/3.10/lib/python3.10/site-packages (from matplotlib->-r ../../requirements.txt (line 6)) (0.12.1)\n",
      "Requirement already satisfied: kiwisolver>=1.3.1 in /Library/Frameworks/Python.framework/Versions/3.10/lib/python3.10/site-packages (from matplotlib->-r ../../requirements.txt (line 6)) (1.4.5)\n",
      "Requirement already satisfied: fonttools>=4.22.0 in /Library/Frameworks/Python.framework/Versions/3.10/lib/python3.10/site-packages (from matplotlib->-r ../../requirements.txt (line 6)) (4.45.1)\n",
      "Requirement already satisfied: packaging>=20.0 in /Users/jernkun/Library/Python/3.10/lib/python/site-packages (from matplotlib->-r ../../requirements.txt (line 6)) (23.2)\n",
      "Requirement already satisfied: python-dateutil>=2.7 in /Users/jernkun/Library/Python/3.10/lib/python/site-packages (from matplotlib->-r ../../requirements.txt (line 6)) (2.8.2)\n",
      "Requirement already satisfied: contourpy>=1.0.1 in /Library/Frameworks/Python.framework/Versions/3.10/lib/python3.10/site-packages (from matplotlib->-r ../../requirements.txt (line 6)) (1.2.0)\n",
      "Requirement already satisfied: pillow>=8 in /Library/Frameworks/Python.framework/Versions/3.10/lib/python3.10/site-packages (from matplotlib->-r ../../requirements.txt (line 6)) (10.1.0)\n",
      "Requirement already satisfied: pyparsing>=2.3.1 in /Library/Frameworks/Python.framework/Versions/3.10/lib/python3.10/site-packages (from matplotlib->-r ../../requirements.txt (line 6)) (3.1.1)\n",
      "Requirement already satisfied: docutils>=0.3 in /Library/Frameworks/Python.framework/Versions/3.10/lib/python3.10/site-packages (from statistics->-r ../../requirements.txt (line 7)) (0.20.1)\n",
      "Requirement already satisfied: protobuf>=3.20.2 in /Library/Frameworks/Python.framework/Versions/3.10/lib/python3.10/site-packages (from onnx->-r ../../requirements.txt (line 8)) (4.25.1)\n",
      "Requirement already satisfied: six>=1.5 in /Users/jernkun/Library/Python/3.10/lib/python/site-packages (from python-dateutil>=2.7->matplotlib->-r ../../requirements.txt (line 6)) (1.16.0)\n",
      "Requirement already satisfied: MarkupSafe>=2.0 in /Library/Frameworks/Python.framework/Versions/3.10/lib/python3.10/site-packages (from jinja2->torch->-r ../../requirements.txt (line 2)) (2.1.3)\n",
      "Requirement already satisfied: mpmath>=0.19 in /Library/Frameworks/Python.framework/Versions/3.10/lib/python3.10/site-packages (from sympy->torch->-r ../../requirements.txt (line 2)) (1.3.0)\n",
      "\u001b[33mWARNING: You are using pip version 21.2.3; however, version 23.3.1 is available.\n",
      "You should consider upgrading via the '/usr/local/bin/python3 -m pip install --upgrade pip' command.\u001b[0m\n",
      "Note: you may need to restart the kernel to use updated packages.\n"
     ]
    }
   ],
   "source": [
    "pip install -r ../../requirements.txt"
   ]
  },
  {
   "cell_type": "code",
   "execution_count": 68,
   "metadata": {},
   "outputs": [],
   "source": [
    "import ezkl\n",
    "import torch\n",
    "from torch import nn\n",
    "import json\n",
    "import os\n",
    "import time\n",
    "import scipy\n",
    "import numpy as np\n",
    "import matplotlib.pyplot as plt\n",
    "import statistics\n",
    "import math"
   ]
  },
  {
   "cell_type": "code",
   "execution_count": 69,
   "metadata": {},
   "outputs": [],
   "source": [
    "%run -i ../../core.py"
   ]
  },
  {
   "attachments": {},
   "cell_type": "markdown",
   "metadata": {},
   "source": []
  },
  {
   "cell_type": "code",
   "execution_count": 70,
   "metadata": {},
   "outputs": [],
   "source": [
    "# init path\n",
    "os.makedirs(os.path.dirname('shared/'), exist_ok=True)\n",
    "os.makedirs(os.path.dirname('prover/'), exist_ok=True)\n",
    "verifier_model_path = os.path.join('shared/verifier.onnx')\n",
    "prover_model_path = os.path.join('prover/prover.onnx')\n",
    "verifier_compiled_model_path = os.path.join('shared/verifier.compiled')\n",
    "prover_compiled_model_path = os.path.join('prover/prover.compiled')\n",
    "pk_path = os.path.join('shared/test.pk')\n",
    "vk_path = os.path.join('shared/test.vk')\n",
    "proof_path = os.path.join('shared/test.pf')\n",
    "settings_path = os.path.join('shared/settings.json')\n",
    "srs_path = os.path.join('shared/kzg.srs')\n",
    "witness_path = os.path.join('prover/witness.json')\n",
    "# this is private to prover since it contains actual data\n",
    "comb_data_path = os.path.join('prover/comb_data.json')"
   ]
  },
  {
   "attachments": {},
   "cell_type": "markdown",
   "metadata": {},
   "source": [
    "=======================  ZK-STATS FLOW ======================="
   ]
  },
  {
   "cell_type": "code",
   "execution_count": 84,
   "metadata": {},
   "outputs": [],
   "source": [
    "def mode_within(data_array, percent):\n",
    "    max_sum_freq = 0\n",
    "    mode = data_array[0]\n",
    "\n",
    "    for check_val in set(data_array):\n",
    "        sum_freq = sum(1 for ele in data_array if abs(ele - check_val) <= abs(percent * check_val / 100))\n",
    "\n",
    "        if sum_freq > max_sum_freq:\n",
    "            mode = check_val\n",
    "            max_sum_freq = sum_freq\n",
    "\n",
    "    return mode"
   ]
  },
  {
   "cell_type": "code",
   "execution_count": 85,
   "metadata": {},
   "outputs": [],
   "source": [
    "data_path = os.path.join('data.json')\n",
    "dummy_data_path = os.path.join('shared/dummy_data.json')\n",
    "\n",
    "f_raw_input = open(data_path, \"r\")\n",
    "data = json.loads(f_raw_input.read())[\"input_data\"][0]\n",
    "data_tensor = torch.reshape(torch.tensor(data),(1, len(data), 1))\n",
    "\n",
    "\n",
    "dummy_data = np.round(np.random.uniform(1,10,len(data)),1)\n",
    "json.dump({\"input_data\":[dummy_data.tolist()]}, open(dummy_data_path, 'w'))\n",
    "\n",
    "dummy_data_tensor = torch.reshape(torch.tensor(dummy_data), (1, len(dummy_data),1 ))\n",
    "dummy_theory_output = torch.tensor(mode_within(dummy_data,1))\n",
    "\n",
    "\n"
   ]
  },
  {
   "cell_type": "code",
   "execution_count": 86,
   "metadata": {},
   "outputs": [
    {
     "name": "stdout",
     "output_type": "stream",
     "text": [
      "dummy output:  tensor(8.5000, dtype=torch.float64)\n"
     ]
    },
    {
     "name": "stderr",
     "output_type": "stream",
     "text": [
      "/var/folders/89/y9dw12v976ngdmqz4l7wbsnr0000gn/T/ipykernel_41683/297875866.py:11: TracerWarning: torch.tensor results are registered as constants in the trace. You can safely ignore this warning if you use this function to create tensors out of constant variables that would be the same every time you call this function. In any other case, this might cause the trace to be incorrect.\n",
      "  index_array = torch.tensor(range(X.size()[1]))\n",
      "/var/folders/89/y9dw12v976ngdmqz4l7wbsnr0000gn/T/ipykernel_41683/297875866.py:13: TracerWarning: Iterating over a tensor might cause the trace to be incorrect. Passing a tensor of different shape won't change the number of iterations executed (and might lead to errors or silently give incorrect results).\n",
      "  for index in index_array:\n",
      "/var/folders/89/y9dw12v976ngdmqz4l7wbsnr0000gn/T/ipykernel_41683/297875866.py:15: TracerWarning: Converting a tensor to a Python boolean might cause the trace to be incorrect. We can't record the data flow of Python values, so this value will be treated as a constant in the future. This means that the trace might not generalize to other inputs!\n",
      "  if (torch.sum((torch.abs(X-ele)<=torch.abs(0.01*ele)).double())<=count_equal):\n",
      "/var/folders/89/y9dw12v976ngdmqz4l7wbsnr0000gn/T/ipykernel_41683/297875866.py:16: TracerWarning: torch.tensor results are registered as constants in the trace. You can safely ignore this warning if you use this function to create tensors out of constant variables that would be the same every time you call this function. In any other case, this might cause the trace to be incorrect.\n",
      "  check_bool = torch.tensor(True)\n"
     ]
    }
   ],
   "source": [
    "print(\"dummy output: \", dummy_theory_output)\n",
    "# Verifier/ data consumer side: send desired calculation\n",
    "class verifier_model(nn.Module):\n",
    "    def __init__(self):\n",
    "        super(verifier_model, self).__init__()\n",
    "        # w represents mean in this case\n",
    "        self.w = nn.Parameter(data = dummy_theory_output, requires_grad = False)\n",
    "    def forward(self,X):\n",
    "        count_equal = torch.sum((torch.abs(X-self.w)<=torch.abs(0.01*self.w)).double())\n",
    "        result = torch.zeros(X.size()[1])\n",
    "        index_array = torch.tensor(range(X.size()[1]))\n",
    "\n",
    "        for index in index_array:\n",
    "            ele = X[0][index][0]\n",
    "            if (torch.sum((torch.abs(X-ele)<=torch.abs(0.01*ele)).double())<=count_equal):\n",
    "                check_bool = torch.tensor(True)\n",
    "            else:\n",
    "                check_bool = torch.tensor(False)\n",
    "            result[index] = check_bool\n",
    "\n",
    "        return (torch.sum(result) == X.size()[1], self.w)\n",
    "    \n",
    "verifier_define_calculation(verifier_model, verifier_model_path, [dummy_data_path])"
   ]
  },
  {
   "cell_type": "code",
   "execution_count": 87,
   "metadata": {},
   "outputs": [
    {
     "name": "stdout",
     "output_type": "stream",
     "text": [
      "Theory_output:  tensor(77.)\n"
     ]
    },
    {
     "name": "stderr",
     "output_type": "stream",
     "text": [
      "/var/folders/89/y9dw12v976ngdmqz4l7wbsnr0000gn/T/ipykernel_41683/3133542595.py:15: TracerWarning: torch.tensor results are registered as constants in the trace. You can safely ignore this warning if you use this function to create tensors out of constant variables that would be the same every time you call this function. In any other case, this might cause the trace to be incorrect.\n",
      "  index_array = torch.tensor(range(X.size()[1]))\n",
      "/var/folders/89/y9dw12v976ngdmqz4l7wbsnr0000gn/T/ipykernel_41683/3133542595.py:17: TracerWarning: Iterating over a tensor might cause the trace to be incorrect. Passing a tensor of different shape won't change the number of iterations executed (and might lead to errors or silently give incorrect results).\n",
      "  for index in index_array:\n",
      "/var/folders/89/y9dw12v976ngdmqz4l7wbsnr0000gn/T/ipykernel_41683/3133542595.py:19: TracerWarning: Converting a tensor to a Python boolean might cause the trace to be incorrect. We can't record the data flow of Python values, so this value will be treated as a constant in the future. This means that the trace might not generalize to other inputs!\n",
      "  if (torch.sum((torch.abs(X-ele)<=torch.abs(0.01*ele)).double())<=count_equal):\n",
      "/var/folders/89/y9dw12v976ngdmqz4l7wbsnr0000gn/T/ipykernel_41683/3133542595.py:20: TracerWarning: torch.tensor results are registered as constants in the trace. You can safely ignore this warning if you use this function to create tensors out of constant variables that would be the same every time you call this function. In any other case, this might cause the trace to be incorrect.\n",
      "  check_bool = torch.tensor(True)\n"
     ]
    },
    {
     "name": "stdout",
     "output_type": "stream",
     "text": [
      "==== Generate & Calibrate Setting ====\n",
      "scale:  default\n",
      "setting:  {\"run_args\":{\"tolerance\":{\"val\":0.0,\"scale\":1.0},\"input_scale\":7,\"param_scale\":7,\"scale_rebase_multiplier\":10,\"lookup_range\":[0,0],\"logrows\":14,\"num_inner_cols\":1,\"variables\":[[\"batch_size\",1]],\"input_visibility\":{\"Hashed\":{\"hash_is_public\":true,\"outlets\":[]}},\"output_visibility\":\"Public\",\"param_visibility\":\"Private\"},\"num_rows\":14432,\"total_assignments\":300,\"total_const_size\":0,\"model_instance_shapes\":[[1],[1]],\"model_output_scales\":[0,7],\"model_input_scales\":[7],\"module_sizes\":{\"kzg\":[],\"poseidon\":[14432,[1]],\"elgamal\":[0,[0]]},\"required_lookups\":[],\"check_mode\":\"UNSAFE\",\"version\":\"5.0.8\",\"num_blinding_factors\":null}\n"
     ]
    }
   ],
   "source": [
    "# prover calculates settings, send to verifier\n",
    "\n",
    "theory_output = torch.tensor(mode_within(data,1))\n",
    "\n",
    "print(\"Theory_output: \", theory_output)\n",
    "class prover_model(nn.Module):\n",
    "    def __init__(self):\n",
    "        super(prover_model, self).__init__()\n",
    "        # w represents mean in this case\n",
    "        self.w = nn.Parameter(data = theory_output, requires_grad = False)\n",
    "\n",
    "    def forward(self,X):\n",
    "        count_equal = torch.sum((torch.abs(X-self.w)<=torch.abs(0.01*self.w)).double())\n",
    "        result = torch.zeros(X.size()[1])\n",
    "        index_array = torch.tensor(range(X.size()[1]))\n",
    "\n",
    "        for index in index_array:\n",
    "            ele = X[0][index][0]\n",
    "            if (torch.sum((torch.abs(X-ele)<=torch.abs(0.01*ele)).double())<=count_equal):\n",
    "                check_bool = torch.tensor(True)\n",
    "            else:\n",
    "                check_bool = torch.tensor(False)\n",
    "            result[index] = check_bool\n",
    "        return (torch.sum(result) == X.size()[1], self.w)\n",
    "\n",
    "prover_gen_settings([data_path], comb_data_path, prover_model,prover_model_path, \"default\", \"resources\", settings_path)"
   ]
  },
  {
   "cell_type": "code",
   "execution_count": 88,
   "metadata": {},
   "outputs": [
    {
     "name": "stderr",
     "output_type": "stream",
     "text": [
      "spawning module 0\n"
     ]
    },
    {
     "name": "stdout",
     "output_type": "stream",
     "text": [
      "==== setting up ezkl ====\n"
     ]
    },
    {
     "name": "stderr",
     "output_type": "stream",
     "text": [
      "spawning module 2\n",
      "spawning module 0\n",
      "spawning module 2\n"
     ]
    },
    {
     "name": "stdout",
     "output_type": "stream",
     "text": [
      "Time setup: 1.201237440109253 seconds\n",
      "=======================================\n",
      "Theory output:  tensor(77.)\n",
      "==== Generating Witness ====\n",
      "witness boolean:  1.0\n",
      "witness result 1 : 77.0\n",
      "==== Generating Proof ====\n"
     ]
    },
    {
     "name": "stderr",
     "output_type": "stream",
     "text": [
      "spawning module 0\n",
      "spawning module 2\n"
     ]
    },
    {
     "name": "stdout",
     "output_type": "stream",
     "text": [
      "proof:  {'instances': [[[12448964500226922122, 1569304359747940647, 1012944616373047521, 396517790474193570], [12436184717236109307, 3962172157175319849, 7381016538464732718, 1011752739694698287], [8814853846036591701, 18168188371856170531, 4258635471548586724, 2506957641253187322]]], 'proof': '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', 'transcript_type': 'EVM'}\n",
      "Time gen prf: 1.5704410076141357 seconds\n"
     ]
    }
   ],
   "source": [
    "# Here verifier & prover can concurrently call setup since all params are public to get pk. \n",
    "# Here write as verifier function to emphasize that verifier must calculate its own vk to be sure\n",
    "verifier_setup(verifier_model_path, verifier_compiled_model_path, settings_path, srs_path,vk_path, pk_path )\n",
    "\n",
    "print(\"=======================================\")\n",
    "# Prover generates proof\n",
    "print(\"Theory output: \", theory_output)\n",
    "prover_gen_proof(prover_model_path, comb_data_path, witness_path, prover_compiled_model_path, settings_path, proof_path, pk_path, srs_path)"
   ]
  },
  {
   "cell_type": "code",
   "execution_count": 89,
   "metadata": {},
   "outputs": [
    {
     "name": "stdout",
     "output_type": "stream",
     "text": [
      "num_inputs:  1\n",
      "prf instances:  [[[12448964500226922122, 1569304359747940647, 1012944616373047521, 396517790474193570], [12436184717236109307, 3962172157175319849, 7381016538464732718, 1011752739694698287], [8814853846036591701, 18168188371856170531, 4258635471548586724, 2506957641253187322]]]\n",
      "proof boolean:  1.0\n",
      "proof result 1 : 77.0\n",
      "verified\n"
     ]
    }
   ],
   "source": [
    "# Verifier verifies\n",
    "verifier_verify(proof_path, settings_path, vk_path, srs_path)"
   ]
  },
  {
   "cell_type": "code",
   "execution_count": null,
   "metadata": {},
   "outputs": [],
   "source": []
  }
 ],
 "metadata": {
  "kernelspec": {
   "display_name": "Python 3",
   "language": "python",
   "name": "python3"
  },
  "language_info": {
   "codemirror_mode": {
    "name": "ipython",
    "version": 3
   },
   "file_extension": ".py",
   "mimetype": "text/x-python",
   "name": "python",
   "nbconvert_exporter": "python",
   "pygments_lexer": "ipython3",
   "version": "3.10.0"
  },
  "orig_nbformat": 4
 },
 "nbformat": 4,
 "nbformat_minor": 2
}
