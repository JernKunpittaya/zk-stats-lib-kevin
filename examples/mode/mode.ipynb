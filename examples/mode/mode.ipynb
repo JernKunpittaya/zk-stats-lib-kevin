{
 "cells": [
  {
   "cell_type": "code",
   "execution_count": 1,
   "metadata": {},
   "outputs": [
    {
     "name": "stdout",
     "output_type": "stream",
     "text": [
      "Requirement already satisfied: ezkl==5.0.8 in /Library/Frameworks/Python.framework/Versions/3.10/lib/python3.10/site-packages (from -r ../../requirements.txt (line 1)) (5.0.8)\n",
      "Requirement already satisfied: torch in /Library/Frameworks/Python.framework/Versions/3.10/lib/python3.10/site-packages (from -r ../../requirements.txt (line 2)) (2.1.1)\n",
      "Requirement already satisfied: requests in /Library/Frameworks/Python.framework/Versions/3.10/lib/python3.10/site-packages (from -r ../../requirements.txt (line 3)) (2.31.0)\n",
      "Requirement already satisfied: scipy in /Library/Frameworks/Python.framework/Versions/3.10/lib/python3.10/site-packages (from -r ../../requirements.txt (line 4)) (1.11.4)\n",
      "Requirement already satisfied: numpy in /Library/Frameworks/Python.framework/Versions/3.10/lib/python3.10/site-packages (from -r ../../requirements.txt (line 5)) (1.26.2)\n",
      "Requirement already satisfied: matplotlib in /Library/Frameworks/Python.framework/Versions/3.10/lib/python3.10/site-packages (from -r ../../requirements.txt (line 6)) (3.8.2)\n",
      "Requirement already satisfied: statistics in /Library/Frameworks/Python.framework/Versions/3.10/lib/python3.10/site-packages (from -r ../../requirements.txt (line 7)) (1.0.3.5)\n",
      "Requirement already satisfied: onnx in /Library/Frameworks/Python.framework/Versions/3.10/lib/python3.10/site-packages (from -r ../../requirements.txt (line 8)) (1.15.0)\n",
      "Requirement already satisfied: filelock in /Library/Frameworks/Python.framework/Versions/3.10/lib/python3.10/site-packages (from torch->-r ../../requirements.txt (line 2)) (3.13.1)\n",
      "Requirement already satisfied: networkx in /Library/Frameworks/Python.framework/Versions/3.10/lib/python3.10/site-packages (from torch->-r ../../requirements.txt (line 2)) (3.2.1)\n",
      "Requirement already satisfied: fsspec in /Library/Frameworks/Python.framework/Versions/3.10/lib/python3.10/site-packages (from torch->-r ../../requirements.txt (line 2)) (2023.10.0)\n",
      "Requirement already satisfied: sympy in /Library/Frameworks/Python.framework/Versions/3.10/lib/python3.10/site-packages (from torch->-r ../../requirements.txt (line 2)) (1.12)\n",
      "Requirement already satisfied: typing-extensions in /Library/Frameworks/Python.framework/Versions/3.10/lib/python3.10/site-packages (from torch->-r ../../requirements.txt (line 2)) (4.8.0)\n",
      "Requirement already satisfied: jinja2 in /Library/Frameworks/Python.framework/Versions/3.10/lib/python3.10/site-packages (from torch->-r ../../requirements.txt (line 2)) (3.1.2)\n",
      "Requirement already satisfied: urllib3<3,>=1.21.1 in /Library/Frameworks/Python.framework/Versions/3.10/lib/python3.10/site-packages (from requests->-r ../../requirements.txt (line 3)) (2.1.0)\n",
      "Requirement already satisfied: certifi>=2017.4.17 in /Library/Frameworks/Python.framework/Versions/3.10/lib/python3.10/site-packages (from requests->-r ../../requirements.txt (line 3)) (2023.11.17)\n",
      "Requirement already satisfied: charset-normalizer<4,>=2 in /Library/Frameworks/Python.framework/Versions/3.10/lib/python3.10/site-packages (from requests->-r ../../requirements.txt (line 3)) (3.3.2)\n",
      "Requirement already satisfied: idna<4,>=2.5 in /Library/Frameworks/Python.framework/Versions/3.10/lib/python3.10/site-packages (from requests->-r ../../requirements.txt (line 3)) (3.6)\n",
      "Requirement already satisfied: cycler>=0.10 in /Library/Frameworks/Python.framework/Versions/3.10/lib/python3.10/site-packages (from matplotlib->-r ../../requirements.txt (line 6)) (0.12.1)\n",
      "Requirement already satisfied: kiwisolver>=1.3.1 in /Library/Frameworks/Python.framework/Versions/3.10/lib/python3.10/site-packages (from matplotlib->-r ../../requirements.txt (line 6)) (1.4.5)\n",
      "Requirement already satisfied: fonttools>=4.22.0 in /Library/Frameworks/Python.framework/Versions/3.10/lib/python3.10/site-packages (from matplotlib->-r ../../requirements.txt (line 6)) (4.45.1)\n",
      "Requirement already satisfied: packaging>=20.0 in /Users/jernkun/Library/Python/3.10/lib/python/site-packages (from matplotlib->-r ../../requirements.txt (line 6)) (23.2)\n",
      "Requirement already satisfied: python-dateutil>=2.7 in /Users/jernkun/Library/Python/3.10/lib/python/site-packages (from matplotlib->-r ../../requirements.txt (line 6)) (2.8.2)\n",
      "Requirement already satisfied: contourpy>=1.0.1 in /Library/Frameworks/Python.framework/Versions/3.10/lib/python3.10/site-packages (from matplotlib->-r ../../requirements.txt (line 6)) (1.2.0)\n",
      "Requirement already satisfied: pillow>=8 in /Library/Frameworks/Python.framework/Versions/3.10/lib/python3.10/site-packages (from matplotlib->-r ../../requirements.txt (line 6)) (10.1.0)\n",
      "Requirement already satisfied: pyparsing>=2.3.1 in /Library/Frameworks/Python.framework/Versions/3.10/lib/python3.10/site-packages (from matplotlib->-r ../../requirements.txt (line 6)) (3.1.1)\n",
      "Requirement already satisfied: docutils>=0.3 in /Library/Frameworks/Python.framework/Versions/3.10/lib/python3.10/site-packages (from statistics->-r ../../requirements.txt (line 7)) (0.20.1)\n",
      "Requirement already satisfied: protobuf>=3.20.2 in /Library/Frameworks/Python.framework/Versions/3.10/lib/python3.10/site-packages (from onnx->-r ../../requirements.txt (line 8)) (4.25.1)\n",
      "Requirement already satisfied: six>=1.5 in /Users/jernkun/Library/Python/3.10/lib/python/site-packages (from python-dateutil>=2.7->matplotlib->-r ../../requirements.txt (line 6)) (1.16.0)\n",
      "Requirement already satisfied: MarkupSafe>=2.0 in /Library/Frameworks/Python.framework/Versions/3.10/lib/python3.10/site-packages (from jinja2->torch->-r ../../requirements.txt (line 2)) (2.1.3)\n",
      "Requirement already satisfied: mpmath>=0.19 in /Library/Frameworks/Python.framework/Versions/3.10/lib/python3.10/site-packages (from sympy->torch->-r ../../requirements.txt (line 2)) (1.3.0)\n",
      "\u001b[33mWARNING: You are using pip version 21.2.3; however, version 23.3.1 is available.\n",
      "You should consider upgrading via the '/usr/local/bin/python3 -m pip install --upgrade pip' command.\u001b[0m\n",
      "Note: you may need to restart the kernel to use updated packages.\n"
     ]
    }
   ],
   "source": [
    "pip install -r ../../requirements.txt"
   ]
  },
  {
   "cell_type": "code",
   "execution_count": 10,
   "metadata": {},
   "outputs": [],
   "source": [
    "import ezkl\n",
    "import torch\n",
    "from torch import nn\n",
    "import json\n",
    "import os\n",
    "import time\n",
    "import scipy\n",
    "import numpy as np\n",
    "import matplotlib.pyplot as plt\n",
    "import statistics\n",
    "import math"
   ]
  },
  {
   "cell_type": "code",
   "execution_count": 11,
   "metadata": {},
   "outputs": [],
   "source": [
    "%run -i ../../core.py"
   ]
  },
  {
   "attachments": {},
   "cell_type": "markdown",
   "metadata": {},
   "source": []
  },
  {
   "cell_type": "code",
   "execution_count": 12,
   "metadata": {},
   "outputs": [],
   "source": [
    "# init path\n",
    "os.makedirs(os.path.dirname('shared/'), exist_ok=True)\n",
    "os.makedirs(os.path.dirname('prover/'), exist_ok=True)\n",
    "verifier_model_path = os.path.join('shared/verifier.onnx')\n",
    "prover_model_path = os.path.join('prover/prover.onnx')\n",
    "verifier_compiled_model_path = os.path.join('shared/verifier.compiled')\n",
    "prover_compiled_model_path = os.path.join('prover/prover.compiled')\n",
    "pk_path = os.path.join('shared/test.pk')\n",
    "vk_path = os.path.join('shared/test.vk')\n",
    "proof_path = os.path.join('shared/test.pf')\n",
    "settings_path = os.path.join('shared/settings.json')\n",
    "srs_path = os.path.join('shared/kzg.srs')\n",
    "witness_path = os.path.join('prover/witness.json')\n",
    "# this is private to prover since it contains actual data\n",
    "comb_data_path = os.path.join('prover/comb_data.json')"
   ]
  },
  {
   "attachments": {},
   "cell_type": "markdown",
   "metadata": {},
   "source": [
    "=======================  ZK-STATS FLOW ======================="
   ]
  },
  {
   "cell_type": "code",
   "execution_count": 13,
   "metadata": {},
   "outputs": [],
   "source": [
    "data_path = os.path.join('data.json')\n",
    "dummy_data_path = os.path.join('shared/dummy_data.json')\n",
    "\n",
    "f_raw_input = open(data_path, \"r\")\n",
    "data = json.loads(f_raw_input.read())[\"input_data\"][0]\n",
    "data_tensor = torch.reshape(torch.tensor(data),(1, len(data), 1))\n",
    "\n",
    "#  dummy data for data consumer: make the bound approx same as real data\n",
    "dummy_data = np.round(np.random.uniform(min(data), max(data), len(data)),2)\n",
    "json.dump({\"input_data\":[dummy_data.tolist()]}, open(dummy_data_path, 'w'))\n",
    "\n",
    "dummy_data_tensor = torch.reshape(torch.tensor(dummy_data), (1, len(dummy_data),1 ))\n",
    "dummy_theory_output = torch.tensor(statistics.mode(dummy_data))\n",
    "\n"
   ]
  },
  {
   "cell_type": "code",
   "execution_count": 14,
   "metadata": {},
   "outputs": [
    {
     "name": "stdout",
     "output_type": "stream",
     "text": [
      "theory mode:  tensor(4.1000)\n"
     ]
    }
   ],
   "source": [
    "theory_output = torch.tensor(statistics.mode(data))\n",
    "print(\"theory mode: \", theory_output)"
   ]
  },
  {
   "cell_type": "code",
   "execution_count": 15,
   "metadata": {},
   "outputs": [
    {
     "name": "stdout",
     "output_type": "stream",
     "text": [
      "dummy output:  tensor(3.3800, dtype=torch.float64)\n"
     ]
    },
    {
     "name": "stderr",
     "output_type": "stream",
     "text": [
      "/var/folders/89/y9dw12v976ngdmqz4l7wbsnr0000gn/T/ipykernel_41683/2750115300.py:12: TracerWarning: torch.tensor results are registered as constants in the trace. You can safely ignore this warning if you use this function to create tensors out of constant variables that would be the same every time you call this function. In any other case, this might cause the trace to be incorrect.\n",
      "  index_array = torch.tensor(range(X.size()[1]))\n",
      "/var/folders/89/y9dw12v976ngdmqz4l7wbsnr0000gn/T/ipykernel_41683/2750115300.py:14: TracerWarning: Iterating over a tensor might cause the trace to be incorrect. Passing a tensor of different shape won't change the number of iterations executed (and might lead to errors or silently give incorrect results).\n",
      "  for index in index_array:\n",
      "/var/folders/89/y9dw12v976ngdmqz4l7wbsnr0000gn/T/ipykernel_41683/2750115300.py:16: TracerWarning: Converting a tensor to a Python boolean might cause the trace to be incorrect. We can't record the data flow of Python values, so this value will be treated as a constant in the future. This means that the trace might not generalize to other inputs!\n",
      "  if (torch.sum((torch.abs(X-ele)<=torch.abs(0.01*ele)).double())<=count_equal):\n",
      "/var/folders/89/y9dw12v976ngdmqz4l7wbsnr0000gn/T/ipykernel_41683/2750115300.py:17: TracerWarning: torch.tensor results are registered as constants in the trace. You can safely ignore this warning if you use this function to create tensors out of constant variables that would be the same every time you call this function. In any other case, this might cause the trace to be incorrect.\n",
      "  check_bool = torch.tensor(True)\n"
     ]
    }
   ],
   "source": [
    "print(\"dummy output: \", dummy_theory_output)\n",
    "# Verifier/ data consumer side: send desired calculation\n",
    "class verifier_model(nn.Module):\n",
    "    def __init__(self):\n",
    "        super(verifier_model, self).__init__()\n",
    "        # w represents mean in this case\n",
    "        self.w = nn.Parameter(data = dummy_theory_output, requires_grad = False)\n",
    "    def forward(self,X):\n",
    "        count_equal = torch.sum((torch.abs(X-self.w)<=torch.abs(0.01*self.w)).double())\n",
    "        result = torch.zeros(X.size()[1])\n",
    "        index_array = torch.tensor(range(X.size()[1]))\n",
    "\n",
    "        for index in index_array:\n",
    "            ele = X[0][index][0]\n",
    "            if (torch.sum((torch.abs(X-ele)<=torch.abs(0.01*ele)).double())<=count_equal):\n",
    "                check_bool = torch.tensor(True)\n",
    "            else:\n",
    "                check_bool = torch.tensor(False)\n",
    "            result[index] = check_bool\n",
    "\n",
    "        return (torch.sum(result) == X.size()[1], self.w)\n",
    "    \n",
    "verifier_define_calculation(verifier_model, verifier_model_path, [dummy_data_path])"
   ]
  },
  {
   "cell_type": "code",
   "execution_count": 16,
   "metadata": {},
   "outputs": [
    {
     "name": "stdout",
     "output_type": "stream",
     "text": [
      "Theory_output:  tensor(4.1000)\n",
      "==== Generate & Calibrate Setting ====\n"
     ]
    },
    {
     "name": "stderr",
     "output_type": "stream",
     "text": [
      "/var/folders/89/y9dw12v976ngdmqz4l7wbsnr0000gn/T/ipykernel_41683/3179424511.py:16: TracerWarning: torch.tensor results are registered as constants in the trace. You can safely ignore this warning if you use this function to create tensors out of constant variables that would be the same every time you call this function. In any other case, this might cause the trace to be incorrect.\n",
      "  index_array = torch.tensor(range(X.size()[1]))\n",
      "/var/folders/89/y9dw12v976ngdmqz4l7wbsnr0000gn/T/ipykernel_41683/3179424511.py:18: TracerWarning: Iterating over a tensor might cause the trace to be incorrect. Passing a tensor of different shape won't change the number of iterations executed (and might lead to errors or silently give incorrect results).\n",
      "  for index in index_array:\n",
      "/var/folders/89/y9dw12v976ngdmqz4l7wbsnr0000gn/T/ipykernel_41683/3179424511.py:20: TracerWarning: Converting a tensor to a Python boolean might cause the trace to be incorrect. We can't record the data flow of Python values, so this value will be treated as a constant in the future. This means that the trace might not generalize to other inputs!\n",
      "  if (torch.sum((torch.abs(X-ele)<=torch.abs(0.01*ele)).double())<=count_equal):\n",
      "/var/folders/89/y9dw12v976ngdmqz4l7wbsnr0000gn/T/ipykernel_41683/3179424511.py:21: TracerWarning: torch.tensor results are registered as constants in the trace. You can safely ignore this warning if you use this function to create tensors out of constant variables that would be the same every time you call this function. In any other case, this might cause the trace to be incorrect.\n",
      "  check_bool = torch.tensor(True)\n"
     ]
    },
    {
     "name": "stdout",
     "output_type": "stream",
     "text": [
      "scale:  default\n",
      "setting:  {\"run_args\":{\"tolerance\":{\"val\":0.0,\"scale\":1.0},\"input_scale\":7,\"param_scale\":7,\"scale_rebase_multiplier\":10,\"lookup_range\":[0,0],\"logrows\":11,\"num_inner_cols\":1,\"variables\":[[\"batch_size\",1]],\"input_visibility\":{\"Hashed\":{\"hash_is_public\":true,\"outlets\":[]}},\"output_visibility\":\"Public\",\"param_visibility\":\"Private\"},\"num_rows\":1312,\"total_assignments\":8,\"total_const_size\":0,\"model_instance_shapes\":[[1],[1]],\"model_output_scales\":[0,7],\"model_input_scales\":[7],\"module_sizes\":{\"kzg\":[],\"poseidon\":[1312,[1]],\"elgamal\":[0,[0]]},\"required_lookups\":[],\"check_mode\":\"UNSAFE\",\"version\":\"5.0.8\",\"num_blinding_factors\":null}\n"
     ]
    }
   ],
   "source": [
    "# prover calculates settings, send to verifier\n",
    "\n",
    "theory_output = torch.tensor(statistics.mode(data))\n",
    "\n",
    "print(\"Theory_output: \", theory_output)\n",
    "class prover_model(nn.Module):\n",
    "    def __init__(self):\n",
    "        super(prover_model, self).__init__()\n",
    "        # w represents mean in this case\n",
    "        self.w = nn.Parameter(data = theory_output, requires_grad = False)\n",
    "\n",
    "    def forward(self,X):\n",
    "        count_equal = torch.sum((torch.abs(X-self.w)<=torch.abs(0.01*self.w)).double())\n",
    "        result = torch.zeros(X.size()[1])\n",
    "        index_array = torch.tensor(range(X.size()[1]))\n",
    "\n",
    "        for index in index_array:\n",
    "            ele = X[0][index][0]\n",
    "            if (torch.sum((torch.abs(X-ele)<=torch.abs(0.01*ele)).double())<=count_equal):\n",
    "                check_bool = torch.tensor(True)\n",
    "            else:\n",
    "                check_bool = torch.tensor(False)\n",
    "            result[index] = check_bool\n",
    "\n",
    "        return (torch.sum(result) == X.size()[1], self.w)\n",
    "\n",
    "prover_gen_settings([data_path], comb_data_path, prover_model,prover_model_path, \"default\", \"resources\", settings_path)"
   ]
  },
  {
   "cell_type": "code",
   "execution_count": 17,
   "metadata": {},
   "outputs": [
    {
     "name": "stdout",
     "output_type": "stream",
     "text": [
      "==== setting up ezkl ====\n"
     ]
    },
    {
     "name": "stderr",
     "output_type": "stream",
     "text": [
      "spawning module 0\n",
      "spawning module 2\n",
      "spawning module 0\n",
      "spawning module 2\n"
     ]
    },
    {
     "name": "stdout",
     "output_type": "stream",
     "text": [
      "Time setup: 0.2414693832397461 seconds\n"
     ]
    },
    {
     "name": "stderr",
     "output_type": "stream",
     "text": [
      "spawning module 0\n",
      "spawning module 2\n"
     ]
    },
    {
     "name": "stdout",
     "output_type": "stream",
     "text": [
      "=======================================\n",
      "Theory output:  tensor(4.1000)\n",
      "==== Generating Witness ====\n",
      "witness boolean:  1.0\n",
      "witness result 1 : 4.1015625\n",
      "==== Generating Proof ====\n",
      "proof:  {'instances': [[[8968413016118640008, 13978084904548187999, 5732603028781509343, 2742516011951746503], [12436184717236109307, 3962172157175319849, 7381016538464732718, 1011752739694698287], [11664057200304715047, 16495917767961733174, 11618098729275913590, 1146451785665059695]]], 'proof': '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', 'transcript_type': 'EVM'}\n",
      "Time gen prf: 0.24015593528747559 seconds\n"
     ]
    }
   ],
   "source": [
    "# Here verifier & prover can concurrently call setup since all params are public to get pk. \n",
    "# Here write as verifier function to emphasize that verifier must calculate its own vk to be sure\n",
    "verifier_setup(verifier_model_path, verifier_compiled_model_path, settings_path, srs_path,vk_path, pk_path )\n",
    "\n",
    "print(\"=======================================\")\n",
    "# Prover generates proof\n",
    "print(\"Theory output: \", theory_output)\n",
    "prover_gen_proof(prover_model_path, comb_data_path, witness_path, prover_compiled_model_path, settings_path, proof_path, pk_path, srs_path)"
   ]
  },
  {
   "cell_type": "code",
   "execution_count": 18,
   "metadata": {},
   "outputs": [
    {
     "name": "stdout",
     "output_type": "stream",
     "text": [
      "num_inputs:  1\n",
      "prf instances:  [[[8968413016118640008, 13978084904548187999, 5732603028781509343, 2742516011951746503], [12436184717236109307, 3962172157175319849, 7381016538464732718, 1011752739694698287], [11664057200304715047, 16495917767961733174, 11618098729275913590, 1146451785665059695]]]\n",
      "proof boolean:  1.0\n",
      "proof result 1 : 4.1015625\n",
      "verified\n"
     ]
    }
   ],
   "source": [
    "# Verifier verifies\n",
    "verifier_verify(proof_path, settings_path, vk_path, srs_path)"
   ]
  },
  {
   "cell_type": "code",
   "execution_count": null,
   "metadata": {},
   "outputs": [],
   "source": []
  },
  {
   "cell_type": "code",
   "execution_count": null,
   "metadata": {},
   "outputs": [],
   "source": []
  }
 ],
 "metadata": {
  "kernelspec": {
   "display_name": "Python 3",
   "language": "python",
   "name": "python3"
  },
  "language_info": {
   "codemirror_mode": {
    "name": "ipython",
    "version": 3
   },
   "file_extension": ".py",
   "mimetype": "text/x-python",
   "name": "python",
   "nbconvert_exporter": "python",
   "pygments_lexer": "ipython3",
   "version": "3.10.0"
  },
  "orig_nbformat": 4
 },
 "nbformat": 4,
 "nbformat_minor": 2
}
