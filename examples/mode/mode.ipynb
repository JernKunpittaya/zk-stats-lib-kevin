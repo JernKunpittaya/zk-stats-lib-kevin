{
 "cells": [
  {
   "cell_type": "code",
   "execution_count": 1,
   "metadata": {},
   "outputs": [
    {
     "name": "stdout",
     "output_type": "stream",
     "text": [
      "Requirement already satisfied: ezkl==5.0.8 in /Library/Frameworks/Python.framework/Versions/3.10/lib/python3.10/site-packages (from -r ../../requirements.txt (line 1)) (5.0.8)\n",
      "Requirement already satisfied: torch in /Library/Frameworks/Python.framework/Versions/3.10/lib/python3.10/site-packages (from -r ../../requirements.txt (line 2)) (2.1.1)\n",
      "Requirement already satisfied: requests in /Library/Frameworks/Python.framework/Versions/3.10/lib/python3.10/site-packages (from -r ../../requirements.txt (line 3)) (2.31.0)\n",
      "Requirement already satisfied: scipy in /Library/Frameworks/Python.framework/Versions/3.10/lib/python3.10/site-packages (from -r ../../requirements.txt (line 4)) (1.11.4)\n",
      "Requirement already satisfied: numpy in /Library/Frameworks/Python.framework/Versions/3.10/lib/python3.10/site-packages (from -r ../../requirements.txt (line 5)) (1.26.2)\n",
      "Requirement already satisfied: matplotlib in /Library/Frameworks/Python.framework/Versions/3.10/lib/python3.10/site-packages (from -r ../../requirements.txt (line 6)) (3.8.2)\n",
      "Requirement already satisfied: statistics in /Library/Frameworks/Python.framework/Versions/3.10/lib/python3.10/site-packages (from -r ../../requirements.txt (line 7)) (1.0.3.5)\n",
      "Requirement already satisfied: onnx in /Library/Frameworks/Python.framework/Versions/3.10/lib/python3.10/site-packages (from -r ../../requirements.txt (line 8)) (1.15.0)\n",
      "Requirement already satisfied: filelock in /Library/Frameworks/Python.framework/Versions/3.10/lib/python3.10/site-packages (from torch->-r ../../requirements.txt (line 2)) (3.13.1)\n",
      "Requirement already satisfied: networkx in /Library/Frameworks/Python.framework/Versions/3.10/lib/python3.10/site-packages (from torch->-r ../../requirements.txt (line 2)) (3.2.1)\n",
      "Requirement already satisfied: fsspec in /Library/Frameworks/Python.framework/Versions/3.10/lib/python3.10/site-packages (from torch->-r ../../requirements.txt (line 2)) (2023.10.0)\n",
      "Requirement already satisfied: sympy in /Library/Frameworks/Python.framework/Versions/3.10/lib/python3.10/site-packages (from torch->-r ../../requirements.txt (line 2)) (1.12)\n",
      "Requirement already satisfied: typing-extensions in /Library/Frameworks/Python.framework/Versions/3.10/lib/python3.10/site-packages (from torch->-r ../../requirements.txt (line 2)) (4.8.0)\n",
      "Requirement already satisfied: jinja2 in /Library/Frameworks/Python.framework/Versions/3.10/lib/python3.10/site-packages (from torch->-r ../../requirements.txt (line 2)) (3.1.2)\n",
      "Requirement already satisfied: urllib3<3,>=1.21.1 in /Library/Frameworks/Python.framework/Versions/3.10/lib/python3.10/site-packages (from requests->-r ../../requirements.txt (line 3)) (2.1.0)\n",
      "Requirement already satisfied: certifi>=2017.4.17 in /Library/Frameworks/Python.framework/Versions/3.10/lib/python3.10/site-packages (from requests->-r ../../requirements.txt (line 3)) (2023.11.17)\n",
      "Requirement already satisfied: charset-normalizer<4,>=2 in /Library/Frameworks/Python.framework/Versions/3.10/lib/python3.10/site-packages (from requests->-r ../../requirements.txt (line 3)) (3.3.2)\n",
      "Requirement already satisfied: idna<4,>=2.5 in /Library/Frameworks/Python.framework/Versions/3.10/lib/python3.10/site-packages (from requests->-r ../../requirements.txt (line 3)) (3.6)\n",
      "Requirement already satisfied: cycler>=0.10 in /Library/Frameworks/Python.framework/Versions/3.10/lib/python3.10/site-packages (from matplotlib->-r ../../requirements.txt (line 6)) (0.12.1)\n",
      "Requirement already satisfied: kiwisolver>=1.3.1 in /Library/Frameworks/Python.framework/Versions/3.10/lib/python3.10/site-packages (from matplotlib->-r ../../requirements.txt (line 6)) (1.4.5)\n",
      "Requirement already satisfied: fonttools>=4.22.0 in /Library/Frameworks/Python.framework/Versions/3.10/lib/python3.10/site-packages (from matplotlib->-r ../../requirements.txt (line 6)) (4.45.1)\n",
      "Requirement already satisfied: packaging>=20.0 in /Users/jernkun/Library/Python/3.10/lib/python/site-packages (from matplotlib->-r ../../requirements.txt (line 6)) (23.2)\n",
      "Requirement already satisfied: python-dateutil>=2.7 in /Users/jernkun/Library/Python/3.10/lib/python/site-packages (from matplotlib->-r ../../requirements.txt (line 6)) (2.8.2)\n",
      "Requirement already satisfied: contourpy>=1.0.1 in /Library/Frameworks/Python.framework/Versions/3.10/lib/python3.10/site-packages (from matplotlib->-r ../../requirements.txt (line 6)) (1.2.0)\n",
      "Requirement already satisfied: pillow>=8 in /Library/Frameworks/Python.framework/Versions/3.10/lib/python3.10/site-packages (from matplotlib->-r ../../requirements.txt (line 6)) (10.1.0)\n",
      "Requirement already satisfied: pyparsing>=2.3.1 in /Library/Frameworks/Python.framework/Versions/3.10/lib/python3.10/site-packages (from matplotlib->-r ../../requirements.txt (line 6)) (3.1.1)\n",
      "Requirement already satisfied: docutils>=0.3 in /Library/Frameworks/Python.framework/Versions/3.10/lib/python3.10/site-packages (from statistics->-r ../../requirements.txt (line 7)) (0.20.1)\n",
      "Requirement already satisfied: protobuf>=3.20.2 in /Library/Frameworks/Python.framework/Versions/3.10/lib/python3.10/site-packages (from onnx->-r ../../requirements.txt (line 8)) (4.25.1)\n",
      "Requirement already satisfied: six>=1.5 in /Users/jernkun/Library/Python/3.10/lib/python/site-packages (from python-dateutil>=2.7->matplotlib->-r ../../requirements.txt (line 6)) (1.16.0)\n",
      "Requirement already satisfied: MarkupSafe>=2.0 in /Library/Frameworks/Python.framework/Versions/3.10/lib/python3.10/site-packages (from jinja2->torch->-r ../../requirements.txt (line 2)) (2.1.3)\n",
      "Requirement already satisfied: mpmath>=0.19 in /Library/Frameworks/Python.framework/Versions/3.10/lib/python3.10/site-packages (from sympy->torch->-r ../../requirements.txt (line 2)) (1.3.0)\n",
      "\u001b[33mWARNING: You are using pip version 21.2.3; however, version 23.3.1 is available.\n",
      "You should consider upgrading via the '/usr/local/bin/python3 -m pip install --upgrade pip' command.\u001b[0m\n",
      "Note: you may need to restart the kernel to use updated packages.\n"
     ]
    }
   ],
   "source": [
    "pip install -r ../../requirements.txt"
   ]
  },
  {
   "cell_type": "code",
   "execution_count": 1,
   "metadata": {},
   "outputs": [],
   "source": [
    "import ezkl\n",
    "import torch\n",
    "from torch import nn\n",
    "import json\n",
    "import os\n",
    "import time\n",
    "import scipy\n",
    "import numpy as np\n",
    "import matplotlib.pyplot as plt\n",
    "import statistics\n",
    "import math"
   ]
  },
  {
   "cell_type": "code",
   "execution_count": 2,
   "metadata": {},
   "outputs": [],
   "source": [
    "%run -i ../../zkstats/core.py"
   ]
  },
  {
   "attachments": {},
   "cell_type": "markdown",
   "metadata": {},
   "source": []
  },
  {
   "cell_type": "code",
   "execution_count": 3,
   "metadata": {},
   "outputs": [],
   "source": [
    "# init path\n",
    "os.makedirs(os.path.dirname('shared/'), exist_ok=True)\n",
    "os.makedirs(os.path.dirname('prover/'), exist_ok=True)\n",
    "verifier_model_path = os.path.join('shared/verifier.onnx')\n",
    "prover_model_path = os.path.join('prover/prover.onnx')\n",
    "verifier_compiled_model_path = os.path.join('shared/verifier.compiled')\n",
    "prover_compiled_model_path = os.path.join('prover/prover.compiled')\n",
    "pk_path = os.path.join('shared/test.pk')\n",
    "vk_path = os.path.join('shared/test.vk')\n",
    "proof_path = os.path.join('shared/test.pf')\n",
    "settings_path = os.path.join('shared/settings.json')\n",
    "srs_path = os.path.join('shared/kzg.srs')\n",
    "witness_path = os.path.join('prover/witness.json')\n",
    "# this is private to prover since it contains actual data\n",
    "comb_data_path = os.path.join('prover/comb_data.json')"
   ]
  },
  {
   "attachments": {},
   "cell_type": "markdown",
   "metadata": {},
   "source": [
    "=======================  ZK-STATS FLOW ======================="
   ]
  },
  {
   "cell_type": "code",
   "execution_count": 4,
   "metadata": {},
   "outputs": [],
   "source": [
    "data_path = os.path.join('data.json')\n",
    "dummy_data_path = os.path.join('shared/dummy_data.json')\n",
    "\n",
    "f_raw_input = open(data_path, \"r\")\n",
    "data = json.loads(f_raw_input.read())[\"input_data\"][0]\n",
    "data_tensor = torch.reshape(torch.tensor(data),(1, len(data), 1))\n",
    "\n",
    "#  dummy data for data consumer: make the bound approx same as real data\n",
    "dummy_data = np.round(np.random.uniform(min(data), max(data), len(data)),2)\n",
    "json.dump({\"input_data\":[dummy_data.tolist()]}, open(dummy_data_path, 'w'))\n",
    "\n",
    "dummy_data_tensor = torch.reshape(torch.tensor(dummy_data), (1, len(dummy_data),1 ))\n",
    "dummy_theory_output = torch.tensor(statistics.mode(dummy_data))\n",
    "\n"
   ]
  },
  {
   "cell_type": "code",
   "execution_count": 5,
   "metadata": {},
   "outputs": [
    {
     "name": "stdout",
     "output_type": "stream",
     "text": [
      "theory mode:  tensor(4.1000)\n"
     ]
    }
   ],
   "source": [
    "theory_output = torch.tensor(statistics.mode(data))\n",
    "print(\"theory mode: \", theory_output)"
   ]
  },
  {
   "cell_type": "code",
   "execution_count": 6,
   "metadata": {},
   "outputs": [
    {
     "name": "stdout",
     "output_type": "stream",
     "text": [
      "dummy output:  tensor(8.7200, dtype=torch.float64)\n"
     ]
    },
    {
     "name": "stderr",
     "output_type": "stream",
     "text": [
      "/var/folders/89/y9dw12v976ngdmqz4l7wbsnr0000gn/T/ipykernel_41683/3192496014.py:12: TracerWarning: torch.tensor results are registered as constants in the trace. You can safely ignore this warning if you use this function to create tensors out of constant variables that would be the same every time you call this function. In any other case, this might cause the trace to be incorrect.\n",
      "  index_array = torch.tensor(range(X.size()[1]))\n",
      "/var/folders/89/y9dw12v976ngdmqz4l7wbsnr0000gn/T/ipykernel_41683/3192496014.py:14: TracerWarning: Iterating over a tensor might cause the trace to be incorrect. Passing a tensor of different shape won't change the number of iterations executed (and might lead to errors or silently give incorrect results).\n",
      "  for index in index_array:\n",
      "/var/folders/89/y9dw12v976ngdmqz4l7wbsnr0000gn/T/ipykernel_41683/3192496014.py:16: TracerWarning: Converting a tensor to a Python boolean might cause the trace to be incorrect. We can't record the data flow of Python values, so this value will be treated as a constant in the future. This means that the trace might not generalize to other inputs!\n",
      "  if (torch.sum((torch.abs(X-ele)<0.01*ele).double())<=count_equal):\n",
      "/var/folders/89/y9dw12v976ngdmqz4l7wbsnr0000gn/T/ipykernel_41683/3192496014.py:17: TracerWarning: torch.tensor results are registered as constants in the trace. You can safely ignore this warning if you use this function to create tensors out of constant variables that would be the same every time you call this function. In any other case, this might cause the trace to be incorrect.\n",
      "  check_bool = torch.tensor(True)\n"
     ]
    }
   ],
   "source": [
    "print(\"dummy output: \", dummy_theory_output)\n",
    "# Verifier/ data consumer side: send desired calculation\n",
    "class verifier_model(nn.Module):\n",
    "    def __init__(self):\n",
    "        super(verifier_model, self).__init__()\n",
    "        # w represents mean in this case\n",
    "        self.w = nn.Parameter(data = dummy_theory_output, requires_grad = False)\n",
    "    def forward(self,X):\n",
    "        # some expression of tolerance to error in the inference\n",
    "        count_equal = torch.sum((torch.abs(X-self.w)<0.01*self.w).double())\n",
    "        result = torch.zeros(X.size()[1])\n",
    "        index_array = torch.tensor(range(X.size()[1]))\n",
    "\n",
    "        for index in index_array:\n",
    "            ele = X[0][index][0]\n",
    "            if (torch.sum((torch.abs(X-ele)<0.01*ele).double())<=count_equal):\n",
    "                check_bool = torch.tensor(True)\n",
    "            else:\n",
    "                check_bool = torch.tensor(False)\n",
    "            result[index] = check_bool\n",
    "\n",
    "        return (torch.sum(result) == X.size()[1], self.w)\n",
    "    \n",
    "verifier_define_calculation(verifier_model, verifier_model_path, [dummy_data_path])"
   ]
  },
  {
   "cell_type": "code",
   "execution_count": 7,
   "metadata": {},
   "outputs": [
    {
     "name": "stdout",
     "output_type": "stream",
     "text": [
      "Theory_output:  tensor(4.1000)\n",
      "==== Generate & Calibrate Setting ====\n"
     ]
    },
    {
     "name": "stderr",
     "output_type": "stream",
     "text": [
      "/var/folders/89/y9dw12v976ngdmqz4l7wbsnr0000gn/T/ipykernel_41683/3050767087.py:16: TracerWarning: torch.tensor results are registered as constants in the trace. You can safely ignore this warning if you use this function to create tensors out of constant variables that would be the same every time you call this function. In any other case, this might cause the trace to be incorrect.\n",
      "  index_array = torch.tensor(range(X.size()[1]))\n",
      "/var/folders/89/y9dw12v976ngdmqz4l7wbsnr0000gn/T/ipykernel_41683/3050767087.py:18: TracerWarning: Iterating over a tensor might cause the trace to be incorrect. Passing a tensor of different shape won't change the number of iterations executed (and might lead to errors or silently give incorrect results).\n",
      "  for index in index_array:\n",
      "/var/folders/89/y9dw12v976ngdmqz4l7wbsnr0000gn/T/ipykernel_41683/3050767087.py:20: TracerWarning: Converting a tensor to a Python boolean might cause the trace to be incorrect. We can't record the data flow of Python values, so this value will be treated as a constant in the future. This means that the trace might not generalize to other inputs!\n",
      "  if (torch.sum((torch.abs(X-ele)<0.01*ele).double())<=count_equal):\n",
      "/var/folders/89/y9dw12v976ngdmqz4l7wbsnr0000gn/T/ipykernel_41683/3050767087.py:21: TracerWarning: torch.tensor results are registered as constants in the trace. You can safely ignore this warning if you use this function to create tensors out of constant variables that would be the same every time you call this function. In any other case, this might cause the trace to be incorrect.\n",
      "  check_bool = torch.tensor(True)\n"
     ]
    },
    {
     "name": "stdout",
     "output_type": "stream",
     "text": [
      "scale:  default\n",
      "setting:  {\"run_args\":{\"tolerance\":{\"val\":0.0,\"scale\":1.0},\"input_scale\":7,\"param_scale\":7,\"scale_rebase_multiplier\":10,\"lookup_range\":[0,0],\"logrows\":11,\"num_inner_cols\":1,\"variables\":[[\"batch_size\",1]],\"input_visibility\":{\"Hashed\":{\"hash_is_public\":true,\"outlets\":[]}},\"output_visibility\":\"Public\",\"param_visibility\":\"Private\"},\"num_rows\":1312,\"total_assignments\":8,\"total_const_size\":0,\"model_instance_shapes\":[[1],[1]],\"model_output_scales\":[0,7],\"model_input_scales\":[7],\"module_sizes\":{\"kzg\":[],\"poseidon\":[1312,[1]],\"elgamal\":[0,[0]]},\"required_lookups\":[],\"check_mode\":\"UNSAFE\",\"version\":\"5.0.8\",\"num_blinding_factors\":null}\n"
     ]
    }
   ],
   "source": [
    "# prover calculates settings, send to verifier\n",
    "\n",
    "theory_output = torch.tensor(statistics.mode(data))\n",
    "\n",
    "print(\"Theory_output: \", theory_output)\n",
    "class prover_model(nn.Module):\n",
    "    def __init__(self):\n",
    "        super(prover_model, self).__init__()\n",
    "        # w represents mean in this case\n",
    "        self.w = nn.Parameter(data = theory_output, requires_grad = False)\n",
    "\n",
    "    def forward(self,X):\n",
    "        # some expression of tolerance to error in the inference\n",
    "        count_equal = torch.sum((torch.abs(X-self.w)<0.01*self.w).double())\n",
    "        result = torch.zeros(X.size()[1])\n",
    "        index_array = torch.tensor(range(X.size()[1]))\n",
    "        \n",
    "        for index in index_array:\n",
    "            ele = X[0][index][0]\n",
    "            if (torch.sum((torch.abs(X-ele)<0.01*ele).double())<=count_equal):\n",
    "                check_bool = torch.tensor(True)\n",
    "            else:\n",
    "                check_bool = torch.tensor(False)\n",
    "            result[index] = check_bool\n",
    "\n",
    "        return (torch.sum(result) == X.size()[1], self.w)\n",
    "\n",
    "\n",
    "prover_gen_settings([data_path], comb_data_path, prover_model,prover_model_path, \"default\", \"resources\", settings_path)"
   ]
  },
  {
   "cell_type": "code",
   "execution_count": 8,
   "metadata": {},
   "outputs": [
    {
     "name": "stderr",
     "output_type": "stream",
     "text": [
      "spawning module 0\n"
     ]
    },
    {
     "name": "stdout",
     "output_type": "stream",
     "text": [
      "==== setting up ezkl ====\n"
     ]
    },
    {
     "name": "stderr",
     "output_type": "stream",
     "text": [
      "spawning module 2\n",
      "spawning module 0\n",
      "spawning module 2\n"
     ]
    },
    {
     "name": "stdout",
     "output_type": "stream",
     "text": [
      "Time setup: 0.24821925163269043 seconds\n"
     ]
    },
    {
     "name": "stderr",
     "output_type": "stream",
     "text": [
      "spawning module 0\n",
      "spawning module 2\n"
     ]
    },
    {
     "name": "stdout",
     "output_type": "stream",
     "text": [
      "=======================================\n",
      "Theory output:  tensor(4.1000)\n",
      "==== Generating Witness ====\n",
      "witness boolean:  1.0\n",
      "witness result 1 : 4.1015625\n",
      "==== Generating Proof ====\n",
      "proof:  {'instances': [[[8968413016118640008, 13978084904548187999, 5732603028781509343, 2742516011951746503], [12436184717236109307, 3962172157175319849, 7381016538464732718, 1011752739694698287], [11664057200304715047, 16495917767961733174, 11618098729275913590, 1146451785665059695]]], 'proof': '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', 'transcript_type': 'EVM'}\n",
      "Time gen prf: 0.25014495849609375 seconds\n"
     ]
    }
   ],
   "source": [
    "# Here verifier & prover can concurrently call setup since all params are public to get pk. \n",
    "# Here write as verifier function to emphasize that verifier must calculate its own vk to be sure\n",
    "verifier_setup(verifier_model_path, verifier_compiled_model_path, settings_path, srs_path,vk_path, pk_path )\n",
    "\n",
    "print(\"=======================================\")\n",
    "# Prover generates proof\n",
    "print(\"Theory output: \", theory_output)\n",
    "prover_gen_proof(prover_model_path, comb_data_path, witness_path, prover_compiled_model_path, settings_path, proof_path, pk_path, srs_path)"
   ]
  },
  {
   "cell_type": "code",
   "execution_count": 9,
   "metadata": {},
   "outputs": [
    {
     "name": "stdout",
     "output_type": "stream",
     "text": [
      "num_inputs:  1\n",
      "prf instances:  [[[8968413016118640008, 13978084904548187999, 5732603028781509343, 2742516011951746503], [12436184717236109307, 3962172157175319849, 7381016538464732718, 1011752739694698287], [11664057200304715047, 16495917767961733174, 11618098729275913590, 1146451785665059695]]]\n",
      "proof boolean:  1.0\n",
      "proof result 1 : 4.1015625\n",
      "verified\n"
     ]
    }
   ],
   "source": [
    "# Verifier verifies\n",
    "verifier_verify(proof_path, settings_path, vk_path, srs_path)"
   ]
  },
  {
   "cell_type": "code",
   "execution_count": null,
   "metadata": {},
   "outputs": [],
   "source": []
  },
  {
   "cell_type": "code",
   "execution_count": null,
   "metadata": {},
   "outputs": [],
   "source": []
  }
 ],
 "metadata": {
  "kernelspec": {
   "display_name": "Python 3",
   "language": "python",
   "name": "python3"
  },
  "language_info": {
   "codemirror_mode": {
    "name": "ipython",
    "version": 3
   },
   "file_extension": ".py",
   "mimetype": "text/x-python",
   "name": "python",
   "nbconvert_exporter": "python",
   "pygments_lexer": "ipython3",
   "version": "3.10.0"
  },
  "orig_nbformat": 4
 },
 "nbformat": 4,
 "nbformat_minor": 2
}
