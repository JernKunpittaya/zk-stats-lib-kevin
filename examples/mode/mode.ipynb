{
 "cells": [
  {
   "cell_type": "code",
   "execution_count": 1,
   "metadata": {},
   "outputs": [
    {
     "name": "stdout",
     "output_type": "stream",
     "text": [
      "Requirement already satisfied: ezkl==9.1.0 in /Users/jernkun/Library/Caches/pypoetry/virtualenvs/zkstats-OJpceffF-py3.11/lib/python3.11/site-packages (from -r ../../requirements.txt (line 1)) (9.1.0)\n",
      "Requirement already satisfied: torch in /Users/jernkun/Library/Caches/pypoetry/virtualenvs/zkstats-OJpceffF-py3.11/lib/python3.11/site-packages (from -r ../../requirements.txt (line 2)) (2.2.1)\n",
      "Requirement already satisfied: requests in /Users/jernkun/Library/Caches/pypoetry/virtualenvs/zkstats-OJpceffF-py3.11/lib/python3.11/site-packages (from -r ../../requirements.txt (line 3)) (2.31.0)\n",
      "Requirement already satisfied: scipy in /Users/jernkun/Library/Caches/pypoetry/virtualenvs/zkstats-OJpceffF-py3.11/lib/python3.11/site-packages (from -r ../../requirements.txt (line 4)) (1.12.0)\n",
      "Requirement already satisfied: numpy in /Users/jernkun/Library/Caches/pypoetry/virtualenvs/zkstats-OJpceffF-py3.11/lib/python3.11/site-packages (from -r ../../requirements.txt (line 5)) (1.26.4)\n",
      "Requirement already satisfied: matplotlib in /Users/jernkun/Library/Caches/pypoetry/virtualenvs/zkstats-OJpceffF-py3.11/lib/python3.11/site-packages (from -r ../../requirements.txt (line 6)) (3.8.3)\n",
      "Requirement already satisfied: statistics in /Users/jernkun/Library/Caches/pypoetry/virtualenvs/zkstats-OJpceffF-py3.11/lib/python3.11/site-packages (from -r ../../requirements.txt (line 7)) (1.0.3.5)\n",
      "Requirement already satisfied: onnx in /Users/jernkun/Library/Caches/pypoetry/virtualenvs/zkstats-OJpceffF-py3.11/lib/python3.11/site-packages (from -r ../../requirements.txt (line 8)) (1.15.0)\n",
      "Requirement already satisfied: filelock in /Users/jernkun/Library/Caches/pypoetry/virtualenvs/zkstats-OJpceffF-py3.11/lib/python3.11/site-packages (from torch->-r ../../requirements.txt (line 2)) (3.13.1)\n",
      "Requirement already satisfied: typing-extensions>=4.8.0 in /Users/jernkun/Library/Caches/pypoetry/virtualenvs/zkstats-OJpceffF-py3.11/lib/python3.11/site-packages (from torch->-r ../../requirements.txt (line 2)) (4.10.0)\n",
      "Requirement already satisfied: sympy in /Users/jernkun/Library/Caches/pypoetry/virtualenvs/zkstats-OJpceffF-py3.11/lib/python3.11/site-packages (from torch->-r ../../requirements.txt (line 2)) (1.12)\n",
      "Requirement already satisfied: networkx in /Users/jernkun/Library/Caches/pypoetry/virtualenvs/zkstats-OJpceffF-py3.11/lib/python3.11/site-packages (from torch->-r ../../requirements.txt (line 2)) (3.2.1)\n",
      "Requirement already satisfied: jinja2 in /Users/jernkun/Library/Caches/pypoetry/virtualenvs/zkstats-OJpceffF-py3.11/lib/python3.11/site-packages (from torch->-r ../../requirements.txt (line 2)) (3.1.3)\n",
      "Requirement already satisfied: fsspec in /Users/jernkun/Library/Caches/pypoetry/virtualenvs/zkstats-OJpceffF-py3.11/lib/python3.11/site-packages (from torch->-r ../../requirements.txt (line 2)) (2024.2.0)\n",
      "Requirement already satisfied: charset-normalizer<4,>=2 in /Users/jernkun/Library/Caches/pypoetry/virtualenvs/zkstats-OJpceffF-py3.11/lib/python3.11/site-packages (from requests->-r ../../requirements.txt (line 3)) (3.3.2)\n",
      "Requirement already satisfied: idna<4,>=2.5 in /Users/jernkun/Library/Caches/pypoetry/virtualenvs/zkstats-OJpceffF-py3.11/lib/python3.11/site-packages (from requests->-r ../../requirements.txt (line 3)) (3.6)\n",
      "Requirement already satisfied: urllib3<3,>=1.21.1 in /Users/jernkun/Library/Caches/pypoetry/virtualenvs/zkstats-OJpceffF-py3.11/lib/python3.11/site-packages (from requests->-r ../../requirements.txt (line 3)) (2.2.1)\n",
      "Requirement already satisfied: certifi>=2017.4.17 in /Users/jernkun/Library/Caches/pypoetry/virtualenvs/zkstats-OJpceffF-py3.11/lib/python3.11/site-packages (from requests->-r ../../requirements.txt (line 3)) (2024.2.2)\n",
      "Requirement already satisfied: contourpy>=1.0.1 in /Users/jernkun/Library/Caches/pypoetry/virtualenvs/zkstats-OJpceffF-py3.11/lib/python3.11/site-packages (from matplotlib->-r ../../requirements.txt (line 6)) (1.2.0)\n",
      "Requirement already satisfied: cycler>=0.10 in /Users/jernkun/Library/Caches/pypoetry/virtualenvs/zkstats-OJpceffF-py3.11/lib/python3.11/site-packages (from matplotlib->-r ../../requirements.txt (line 6)) (0.12.1)\n",
      "Requirement already satisfied: fonttools>=4.22.0 in /Users/jernkun/Library/Caches/pypoetry/virtualenvs/zkstats-OJpceffF-py3.11/lib/python3.11/site-packages (from matplotlib->-r ../../requirements.txt (line 6)) (4.49.0)\n",
      "Requirement already satisfied: kiwisolver>=1.3.1 in /Users/jernkun/Library/Caches/pypoetry/virtualenvs/zkstats-OJpceffF-py3.11/lib/python3.11/site-packages (from matplotlib->-r ../../requirements.txt (line 6)) (1.4.5)\n",
      "Requirement already satisfied: packaging>=20.0 in /Users/jernkun/Library/Caches/pypoetry/virtualenvs/zkstats-OJpceffF-py3.11/lib/python3.11/site-packages (from matplotlib->-r ../../requirements.txt (line 6)) (23.2)\n",
      "Requirement already satisfied: pillow>=8 in /Users/jernkun/Library/Caches/pypoetry/virtualenvs/zkstats-OJpceffF-py3.11/lib/python3.11/site-packages (from matplotlib->-r ../../requirements.txt (line 6)) (10.2.0)\n",
      "Requirement already satisfied: pyparsing>=2.3.1 in /Users/jernkun/Library/Caches/pypoetry/virtualenvs/zkstats-OJpceffF-py3.11/lib/python3.11/site-packages (from matplotlib->-r ../../requirements.txt (line 6)) (3.1.1)\n",
      "Requirement already satisfied: python-dateutil>=2.7 in /Users/jernkun/Library/Caches/pypoetry/virtualenvs/zkstats-OJpceffF-py3.11/lib/python3.11/site-packages (from matplotlib->-r ../../requirements.txt (line 6)) (2.9.0.post0)\n",
      "Requirement already satisfied: docutils>=0.3 in /Users/jernkun/Library/Caches/pypoetry/virtualenvs/zkstats-OJpceffF-py3.11/lib/python3.11/site-packages (from statistics->-r ../../requirements.txt (line 7)) (0.20.1)\n",
      "Requirement already satisfied: protobuf>=3.20.2 in /Users/jernkun/Library/Caches/pypoetry/virtualenvs/zkstats-OJpceffF-py3.11/lib/python3.11/site-packages (from onnx->-r ../../requirements.txt (line 8)) (4.25.3)\n",
      "Requirement already satisfied: six>=1.5 in /Users/jernkun/Library/Caches/pypoetry/virtualenvs/zkstats-OJpceffF-py3.11/lib/python3.11/site-packages (from python-dateutil>=2.7->matplotlib->-r ../../requirements.txt (line 6)) (1.16.0)\n",
      "Requirement already satisfied: MarkupSafe>=2.0 in /Users/jernkun/Library/Caches/pypoetry/virtualenvs/zkstats-OJpceffF-py3.11/lib/python3.11/site-packages (from jinja2->torch->-r ../../requirements.txt (line 2)) (2.1.5)\n",
      "Requirement already satisfied: mpmath>=0.19 in /Users/jernkun/Library/Caches/pypoetry/virtualenvs/zkstats-OJpceffF-py3.11/lib/python3.11/site-packages (from sympy->torch->-r ../../requirements.txt (line 2)) (1.3.0)\n",
      "\n",
      "\u001b[1m[\u001b[0m\u001b[34;49mnotice\u001b[0m\u001b[1;39;49m]\u001b[0m\u001b[39;49m A new release of pip is available: \u001b[0m\u001b[31;49m23.2.1\u001b[0m\u001b[39;49m -> \u001b[0m\u001b[32;49m24.0\u001b[0m\n",
      "\u001b[1m[\u001b[0m\u001b[34;49mnotice\u001b[0m\u001b[1;39;49m]\u001b[0m\u001b[39;49m To update, run: \u001b[0m\u001b[32;49mpip install --upgrade pip\u001b[0m\n",
      "Note: you may need to restart the kernel to use updated packages.\n"
     ]
    }
   ],
   "source": [
    "pip install -r ../../requirements.txt"
   ]
  },
  {
   "cell_type": "code",
   "execution_count": 2,
   "metadata": {},
   "outputs": [],
   "source": [
    "import ezkl\n",
    "import torch\n",
    "from torch import nn\n",
    "import json\n",
    "import os\n",
    "import time\n",
    "import scipy\n",
    "import numpy as np\n",
    "import matplotlib.pyplot as plt\n",
    "import statistics\n",
    "import math"
   ]
  },
  {
   "cell_type": "code",
   "execution_count": 3,
   "metadata": {},
   "outputs": [],
   "source": [
    "from zkstats.core import create_dummy, verifier_define_calculation, prover_gen_settings, setup, prover_gen_proof, verifier_verify, get_data_commitment_maps"
   ]
  },
  {
   "attachments": {},
   "cell_type": "markdown",
   "metadata": {},
   "source": []
  },
  {
   "cell_type": "code",
   "execution_count": 4,
   "metadata": {},
   "outputs": [],
   "source": [
    "# init path\n",
    "os.makedirs(os.path.dirname('shared/'), exist_ok=True)\n",
    "os.makedirs(os.path.dirname('prover/'), exist_ok=True)\n",
    "verifier_model_path = os.path.join('shared/verifier.onnx')\n",
    "prover_model_path = os.path.join('prover/prover.onnx')\n",
    "verifier_compiled_model_path = os.path.join('shared/verifier.compiled')\n",
    "prover_compiled_model_path = os.path.join('prover/prover.compiled')\n",
    "pk_path = os.path.join('shared/test.pk')\n",
    "vk_path = os.path.join('shared/test.vk')\n",
    "proof_path = os.path.join('shared/test.pf')\n",
    "settings_path = os.path.join('shared/settings.json')\n",
    "srs_path = os.path.join('shared/kzg.srs')\n",
    "witness_path = os.path.join('prover/witness.json')\n",
    "# this is private to prover since it contains actual data\n",
    "sel_data_path = os.path.join('prover/sel_data.json')\n",
    "# this is just dummy random value\n",
    "sel_dummy_data_path = os.path.join('shared/sel_dummy_data.json')"
   ]
  },
  {
   "attachments": {},
   "cell_type": "markdown",
   "metadata": {},
   "source": [
    "=======================  ZK-STATS FLOW ======================="
   ]
  },
  {
   "cell_type": "code",
   "execution_count": 5,
   "metadata": {},
   "outputs": [],
   "source": [
    "data_path = os.path.join('data.json')\n",
    "dummy_data_path = os.path.join('shared/dummy_data.json')\n",
    "create_dummy(data_path, dummy_data_path)"
   ]
  },
  {
   "cell_type": "code",
   "execution_count": 6,
   "metadata": {},
   "outputs": [],
   "source": [
    "# use large scale here to get the output really close to the value in dataset, which is important to Mode.\n",
    "# large scale doesn't blowup circuit size in Mode, so fine.\n",
    "scales = [8]\n",
    "selected_columns = ['col_name']\n",
    "commitment_maps = get_data_commitment_maps(data_path, scales)"
   ]
  },
  {
   "cell_type": "code",
   "execution_count": 10,
   "metadata": {},
   "outputs": [
    {
     "name": "stderr",
     "output_type": "stream",
     "text": [
      "/Users/jernkun/Desktop/zk-stats-lib/zkstats/ops.py:167: UserWarning: To copy construct from a tensor, it is recommended to use sourceTensor.clone().detach() or sourceTensor.clone().detach().requires_grad_(True), rather than torch.tensor(sourceTensor).\n",
      "  result = torch.tensor(mode_within(x_1d, 0))\n",
      "/Users/jernkun/Desktop/zk-stats-lib/zkstats/computation.py:166: TracerWarning: torch.tensor results are registered as constants in the trace. You can safely ignore this warning if you use this function to create tensors out of constant variables that would be the same every time you call this function. In any other case, this might cause the trace to be incorrect.\n",
      "  is_precise_aggregated = torch.tensor(1.0)\n",
      "/Users/jernkun/Desktop/zk-stats-lib/zkstats/ops.py:175: TracerWarning: Iterating over a tensor might cause the trace to be incorrect. Passing a tensor of different shape won't change the number of iterations executed (and might lead to errors or silently give incorrect results).\n",
      "  _result = torch.tensor([\n",
      "/Users/jernkun/Desktop/zk-stats-lib/zkstats/ops.py:175: TracerWarning: torch.tensor results are registered as constants in the trace. You can safely ignore this warning if you use this function to create tensors out of constant variables that would be the same every time you call this function. In any other case, this might cause the trace to be incorrect.\n",
      "  _result = torch.tensor([\n",
      "/Users/jernkun/Desktop/zk-stats-lib/zkstats/ops.py:175: TracerWarning: Converting a tensor to a Python float might cause the trace to be incorrect. We can't record the data flow of Python values, so this value will be treated as a constant in the future. This means that the trace might not generalize to other inputs!\n",
      "  _result = torch.tensor([\n",
      "/Users/jernkun/Library/Caches/pypoetry/virtualenvs/zkstats-OJpceffF-py3.11/lib/python3.11/site-packages/torch/onnx/symbolic_opset9.py:2174: FutureWarning: 'torch.onnx.symbolic_opset9._cast_Bool' is deprecated in version 2.0 and will be removed in the future. Please Avoid using this function and create a Cast node instead.\n",
      "  return fn(g, to_cast_func(g, input, False), to_cast_func(g, other, False))\n"
     ]
    }
   ],
   "source": [
    "# Verifier/ data consumer side: send desired calculation\n",
    "from zkstats.computation import computation_to_model, State\n",
    "\n",
    "def computation(s: State, data: list[torch.Tensor]) -> torch.Tensor:\n",
    "    x = data[0]\n",
    "    return s.mode(x)\n",
    "# IMPORTANT: Here, we use traditional Mode, so there is no result_error at all, since Mode pick the result from dataset, instead of calculating the result\n",
    "# But we still have error stuffs here to just conform to computation_to_model function, though the error's not used at all.\n",
    "error = 0\n",
    "_, verifier_model = computation_to_model(computation, error)\n",
    "\n",
    "verifier_define_calculation(dummy_data_path, selected_columns, sel_dummy_data_path, verifier_model, verifier_model_path)"
   ]
  },
  {
   "cell_type": "code",
   "execution_count": 11,
   "metadata": {},
   "outputs": [
    {
     "name": "stderr",
     "output_type": "stream",
     "text": [
      "\n",
      "\n",
      " <------------- Numerical Fidelity Report (input_scale: 8, param_scale: 8, scale_input_multiplier: 10) ------------->\n",
      "\n",
      "+----------------+---------------+-----------+---------------+----------------+------------------+---------------+---------------+--------------------+--------------------+------------------------+\n",
      "| mean_error     | median_error  | max_error | min_error     | mean_abs_error | median_abs_error | max_abs_error | min_abs_error | mean_squared_error | mean_percent_error | mean_abs_percent_error |\n",
      "+----------------+---------------+-----------+---------------+----------------+------------------+---------------+---------------+--------------------+--------------------+------------------------+\n",
      "| -0.00078201294 | -0.0015640259 | 0         | -0.0015640259 | 0.00078201294  | 0.0015640259     | 0.0015640259  | 0             | 0.0000012230885    | -0.000010077487    | 0.000010077487         |\n",
      "+----------------+---------------+-----------+---------------+----------------+------------------+---------------+---------------+--------------------+--------------------+------------------------+\n",
      "\n",
      "\n"
     ]
    },
    {
     "name": "stdout",
     "output_type": "stream",
     "text": [
      "==== Generate & Calibrate Setting ====\n",
      "scale:  [8]\n",
      "setting:  {\"run_args\":{\"tolerance\":{\"val\":0.0,\"scale\":1.0},\"input_scale\":8,\"param_scale\":8,\"scale_rebase_multiplier\":10,\"lookup_range\":[0,0],\"logrows\":14,\"num_inner_cols\":2,\"variables\":[[\"batch_size\",1]],\"input_visibility\":{\"Hashed\":{\"hash_is_public\":true,\"outlets\":[]}},\"output_visibility\":\"Public\",\"param_visibility\":\"Private\",\"div_rebasing\":false,\"rebase_frac_zero_constants\":false,\"check_mode\":\"UNSAFE\"},\"num_rows\":14432,\"total_assignments\":302,\"total_const_size\":0,\"model_instance_shapes\":[[1],[1]],\"model_output_scales\":[0,8],\"model_input_scales\":[8],\"module_sizes\":{\"kzg\":[],\"poseidon\":[14432,[1]]},\"required_lookups\":[],\"required_range_checks\":[],\"check_mode\":\"UNSAFE\",\"version\":\"9.1.0\",\"num_blinding_factors\":null,\"timestamp\":1709608308053}\n"
     ]
    }
   ],
   "source": [
    "# Prover/ data owner side\n",
    "_, prover_model = computation_to_model(computation, error)\n",
    "\n",
    "prover_gen_settings(data_path, selected_columns, sel_data_path, prover_model,prover_model_path, scales, \"resources\", settings_path)"
   ]
  },
  {
   "cell_type": "code",
   "execution_count": 12,
   "metadata": {},
   "outputs": [
    {
     "name": "stdout",
     "output_type": "stream",
     "text": [
      "==== setting up ezkl ====\n",
      "Time setup: 1.335209846496582 seconds\n",
      "=======================================\n",
      "==== Generating Witness ====\n",
      "witness boolean:  1.0\n",
      "witness result 1 : 77.6015625\n",
      "==== Generating Proof ====\n",
      "proof:  {'instances': [['c2b6968dfce66ece687a00d15dea969a5dab54b503c9ac9d0ad01308cedbb32e', '0100000000000000000000000000000000000000000000000000000000000000', '9a4d000000000000000000000000000000000000000000000000000000000000']], 'proof': '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', 'transcript_type': 'EVM'}\n",
      "Time gen prf: 1.458878993988037 seconds\n"
     ]
    }
   ],
   "source": [
    "# Here verifier & prover can concurrently call setup since all params are public to get pk.\n",
    "# Here write as verifier function to emphasize that verifier must calculate its own vk to be sure\n",
    "setup(verifier_model_path, verifier_compiled_model_path, settings_path,vk_path, pk_path )\n",
    "\n",
    "print(\"=======================================\")\n",
    "# Prover generates proof\n",
    "prover_gen_proof(prover_model_path, sel_data_path, witness_path, prover_compiled_model_path, settings_path, proof_path, pk_path)"
   ]
  },
  {
   "cell_type": "code",
   "execution_count": 13,
   "metadata": {},
   "outputs": [
    {
     "name": "stdout",
     "output_type": "stream",
     "text": [
      "Verifier gets result: [77.6015625]\n"
     ]
    }
   ],
   "source": [
    "# Verifier verifies\n",
    "res = verifier_verify(proof_path, settings_path, vk_path, selected_columns, commitment_maps)\n",
    "print(\"Verifier gets result:\", res)"
   ]
  },
  {
   "cell_type": "code",
   "execution_count": null,
   "metadata": {},
   "outputs": [],
   "source": []
  },
  {
   "cell_type": "code",
   "execution_count": null,
   "metadata": {},
   "outputs": [],
   "source": []
  }
 ],
 "metadata": {
  "kernelspec": {
   "display_name": "Python 3",
   "language": "python",
   "name": "python3"
  },
  "language_info": {
   "codemirror_mode": {
    "name": "ipython",
    "version": 3
   },
   "file_extension": ".py",
   "mimetype": "text/x-python",
   "name": "python",
   "nbconvert_exporter": "python",
   "pygments_lexer": "ipython3",
   "version": "3.11.4"
  },
  "orig_nbformat": 4
 },
 "nbformat": 4,
 "nbformat_minor": 2
}
