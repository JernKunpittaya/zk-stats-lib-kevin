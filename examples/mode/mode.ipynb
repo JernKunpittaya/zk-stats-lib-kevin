{
 "cells": [
  {
   "cell_type": "code",
   "execution_count": 1,
   "metadata": {},
   "outputs": [
    {
     "name": "stdout",
     "output_type": "stream",
     "text": [
      "Requirement already satisfied: ezkl==5.0.8 in /Library/Frameworks/Python.framework/Versions/3.10/lib/python3.10/site-packages (from -r ../../requirements.txt (line 1)) (5.0.8)\n",
      "Requirement already satisfied: torch in /Library/Frameworks/Python.framework/Versions/3.10/lib/python3.10/site-packages (from -r ../../requirements.txt (line 2)) (2.1.1)\n",
      "Requirement already satisfied: requests in /Library/Frameworks/Python.framework/Versions/3.10/lib/python3.10/site-packages (from -r ../../requirements.txt (line 3)) (2.31.0)\n",
      "Requirement already satisfied: scipy in /Library/Frameworks/Python.framework/Versions/3.10/lib/python3.10/site-packages (from -r ../../requirements.txt (line 4)) (1.11.4)\n",
      "Requirement already satisfied: numpy in /Library/Frameworks/Python.framework/Versions/3.10/lib/python3.10/site-packages (from -r ../../requirements.txt (line 5)) (1.26.2)\n",
      "Requirement already satisfied: matplotlib in /Library/Frameworks/Python.framework/Versions/3.10/lib/python3.10/site-packages (from -r ../../requirements.txt (line 6)) (3.8.2)\n",
      "Requirement already satisfied: statistics in /Library/Frameworks/Python.framework/Versions/3.10/lib/python3.10/site-packages (from -r ../../requirements.txt (line 7)) (1.0.3.5)\n",
      "Requirement already satisfied: onnx in /Library/Frameworks/Python.framework/Versions/3.10/lib/python3.10/site-packages (from -r ../../requirements.txt (line 8)) (1.15.0)\n",
      "Requirement already satisfied: filelock in /Library/Frameworks/Python.framework/Versions/3.10/lib/python3.10/site-packages (from torch->-r ../../requirements.txt (line 2)) (3.13.1)\n",
      "Requirement already satisfied: networkx in /Library/Frameworks/Python.framework/Versions/3.10/lib/python3.10/site-packages (from torch->-r ../../requirements.txt (line 2)) (3.2.1)\n",
      "Requirement already satisfied: fsspec in /Library/Frameworks/Python.framework/Versions/3.10/lib/python3.10/site-packages (from torch->-r ../../requirements.txt (line 2)) (2023.10.0)\n",
      "Requirement already satisfied: sympy in /Library/Frameworks/Python.framework/Versions/3.10/lib/python3.10/site-packages (from torch->-r ../../requirements.txt (line 2)) (1.12)\n",
      "Requirement already satisfied: typing-extensions in /Library/Frameworks/Python.framework/Versions/3.10/lib/python3.10/site-packages (from torch->-r ../../requirements.txt (line 2)) (4.8.0)\n",
      "Requirement already satisfied: jinja2 in /Library/Frameworks/Python.framework/Versions/3.10/lib/python3.10/site-packages (from torch->-r ../../requirements.txt (line 2)) (3.1.2)\n",
      "Requirement already satisfied: urllib3<3,>=1.21.1 in /Library/Frameworks/Python.framework/Versions/3.10/lib/python3.10/site-packages (from requests->-r ../../requirements.txt (line 3)) (2.1.0)\n",
      "Requirement already satisfied: certifi>=2017.4.17 in /Library/Frameworks/Python.framework/Versions/3.10/lib/python3.10/site-packages (from requests->-r ../../requirements.txt (line 3)) (2023.11.17)\n",
      "Requirement already satisfied: charset-normalizer<4,>=2 in /Library/Frameworks/Python.framework/Versions/3.10/lib/python3.10/site-packages (from requests->-r ../../requirements.txt (line 3)) (3.3.2)\n",
      "Requirement already satisfied: idna<4,>=2.5 in /Library/Frameworks/Python.framework/Versions/3.10/lib/python3.10/site-packages (from requests->-r ../../requirements.txt (line 3)) (3.6)\n",
      "Requirement already satisfied: cycler>=0.10 in /Library/Frameworks/Python.framework/Versions/3.10/lib/python3.10/site-packages (from matplotlib->-r ../../requirements.txt (line 6)) (0.12.1)\n",
      "Requirement already satisfied: kiwisolver>=1.3.1 in /Library/Frameworks/Python.framework/Versions/3.10/lib/python3.10/site-packages (from matplotlib->-r ../../requirements.txt (line 6)) (1.4.5)\n",
      "Requirement already satisfied: fonttools>=4.22.0 in /Library/Frameworks/Python.framework/Versions/3.10/lib/python3.10/site-packages (from matplotlib->-r ../../requirements.txt (line 6)) (4.45.1)\n",
      "Requirement already satisfied: packaging>=20.0 in /Users/jernkun/Library/Python/3.10/lib/python/site-packages (from matplotlib->-r ../../requirements.txt (line 6)) (23.2)\n",
      "Requirement already satisfied: python-dateutil>=2.7 in /Users/jernkun/Library/Python/3.10/lib/python/site-packages (from matplotlib->-r ../../requirements.txt (line 6)) (2.8.2)\n",
      "Requirement already satisfied: contourpy>=1.0.1 in /Library/Frameworks/Python.framework/Versions/3.10/lib/python3.10/site-packages (from matplotlib->-r ../../requirements.txt (line 6)) (1.2.0)\n",
      "Requirement already satisfied: pillow>=8 in /Library/Frameworks/Python.framework/Versions/3.10/lib/python3.10/site-packages (from matplotlib->-r ../../requirements.txt (line 6)) (10.1.0)\n",
      "Requirement already satisfied: pyparsing>=2.3.1 in /Library/Frameworks/Python.framework/Versions/3.10/lib/python3.10/site-packages (from matplotlib->-r ../../requirements.txt (line 6)) (3.1.1)\n",
      "Requirement already satisfied: docutils>=0.3 in /Library/Frameworks/Python.framework/Versions/3.10/lib/python3.10/site-packages (from statistics->-r ../../requirements.txt (line 7)) (0.20.1)\n",
      "Requirement already satisfied: protobuf>=3.20.2 in /Library/Frameworks/Python.framework/Versions/3.10/lib/python3.10/site-packages (from onnx->-r ../../requirements.txt (line 8)) (4.25.1)\n",
      "Requirement already satisfied: six>=1.5 in /Users/jernkun/Library/Python/3.10/lib/python/site-packages (from python-dateutil>=2.7->matplotlib->-r ../../requirements.txt (line 6)) (1.16.0)\n",
      "Requirement already satisfied: MarkupSafe>=2.0 in /Library/Frameworks/Python.framework/Versions/3.10/lib/python3.10/site-packages (from jinja2->torch->-r ../../requirements.txt (line 2)) (2.1.3)\n",
      "Requirement already satisfied: mpmath>=0.19 in /Library/Frameworks/Python.framework/Versions/3.10/lib/python3.10/site-packages (from sympy->torch->-r ../../requirements.txt (line 2)) (1.3.0)\n",
      "\u001b[33mWARNING: You are using pip version 21.2.3; however, version 23.3.1 is available.\n",
      "You should consider upgrading via the '/usr/local/bin/python3 -m pip install --upgrade pip' command.\u001b[0m\n",
      "Note: you may need to restart the kernel to use updated packages.\n"
     ]
    }
   ],
   "source": [
    "pip install -r ../../requirements.txt"
   ]
  },
  {
   "cell_type": "code",
   "execution_count": 1,
   "metadata": {},
   "outputs": [],
   "source": [
    "import ezkl\n",
    "import torch\n",
    "from torch import nn\n",
    "import json\n",
    "import os\n",
    "import time\n",
    "import scipy\n",
    "import numpy as np\n",
    "import matplotlib.pyplot as plt\n",
    "import statistics\n",
    "import math"
   ]
  },
  {
   "cell_type": "code",
   "execution_count": 2,
   "metadata": {},
   "outputs": [],
   "source": [
    "%run -i ../../core.py"
   ]
  },
  {
   "attachments": {},
   "cell_type": "markdown",
   "metadata": {},
   "source": []
  },
  {
   "cell_type": "code",
   "execution_count": 3,
   "metadata": {},
   "outputs": [],
   "source": [
    "# init path\n",
    "os.makedirs(os.path.dirname('shared/'), exist_ok=True)\n",
    "os.makedirs(os.path.dirname('prover/'), exist_ok=True)\n",
    "verifier_model_path = os.path.join('shared/verifier.onnx')\n",
    "prover_model_path = os.path.join('prover/prover.onnx')\n",
    "verifier_compiled_model_path = os.path.join('shared/verifier.compiled')\n",
    "prover_compiled_model_path = os.path.join('prover/prover.compiled')\n",
    "pk_path = os.path.join('shared/test.pk')\n",
    "vk_path = os.path.join('shared/test.vk')\n",
    "proof_path = os.path.join('shared/test.pf')\n",
    "settings_path = os.path.join('shared/settings.json')\n",
    "srs_path = os.path.join('shared/kzg.srs')\n",
    "witness_path = os.path.join('prover/witness.json')\n",
    "# this is private to prover since it contains actual data\n",
    "comb_data_path = os.path.join('prover/comb_data.json')"
   ]
  },
  {
   "attachments": {},
   "cell_type": "markdown",
   "metadata": {},
   "source": [
    "=======================  ZK-STATS FLOW ======================="
   ]
  },
  {
   "cell_type": "code",
   "execution_count": 4,
   "metadata": {},
   "outputs": [],
   "source": [
    "data_path = os.path.join('data.json')\n",
    "dummy_data_path = os.path.join('shared/dummy_data.json')\n",
    "\n",
    "f_raw_input = open(data_path, \"r\")\n",
    "data = json.loads(f_raw_input.read())[\"input_data\"][0]\n",
    "data_tensor = torch.reshape(torch.tensor(data),(1, len(data), 1))\n",
    "\n",
    "#  dummy data for data consumer: make the bound approx same as real data\n",
    "dummy_data = np.round(np.random.uniform(min(data), max(data), len(data)),2)\n",
    "json.dump({\"input_data\":[dummy_data.tolist()]}, open(dummy_data_path, 'w'))\n",
    "\n",
    "dummy_data_tensor = torch.reshape(torch.tensor(dummy_data), (1, len(dummy_data),1 ))\n",
    "dummy_theory_output = torch.tensor(statistics.mode(dummy_data))\n",
    "\n"
   ]
  },
  {
   "cell_type": "code",
   "execution_count": 5,
   "metadata": {},
   "outputs": [
    {
     "name": "stdout",
     "output_type": "stream",
     "text": [
      "theory mode:  tensor(4.1000)\n"
     ]
    }
   ],
   "source": [
    "theory_output = torch.tensor(statistics.mode(data))\n",
    "print(\"theory mode: \", theory_output)"
   ]
  },
  {
   "cell_type": "code",
   "execution_count": 12,
   "metadata": {},
   "outputs": [
    {
     "name": "stdout",
     "output_type": "stream",
     "text": [
      "dummy output:  tensor(15.9000, dtype=torch.float64)\n"
     ]
    },
    {
     "name": "stderr",
     "output_type": "stream",
     "text": [
      "/var/folders/89/y9dw12v976ngdmqz4l7wbsnr0000gn/T/ipykernel_37220/3192496014.py:12: TracerWarning: torch.tensor results are registered as constants in the trace. You can safely ignore this warning if you use this function to create tensors out of constant variables that would be the same every time you call this function. In any other case, this might cause the trace to be incorrect.\n",
      "  index_array = torch.tensor(range(X.size()[1]))\n",
      "/var/folders/89/y9dw12v976ngdmqz4l7wbsnr0000gn/T/ipykernel_37220/3192496014.py:14: TracerWarning: Iterating over a tensor might cause the trace to be incorrect. Passing a tensor of different shape won't change the number of iterations executed (and might lead to errors or silently give incorrect results).\n",
      "  for index in index_array:\n",
      "/var/folders/89/y9dw12v976ngdmqz4l7wbsnr0000gn/T/ipykernel_37220/3192496014.py:16: TracerWarning: Converting a tensor to a Python boolean might cause the trace to be incorrect. We can't record the data flow of Python values, so this value will be treated as a constant in the future. This means that the trace might not generalize to other inputs!\n",
      "  if (torch.sum((torch.abs(X-ele)<0.01*ele).double())<=count_equal):\n",
      "/var/folders/89/y9dw12v976ngdmqz4l7wbsnr0000gn/T/ipykernel_37220/3192496014.py:17: TracerWarning: torch.tensor results are registered as constants in the trace. You can safely ignore this warning if you use this function to create tensors out of constant variables that would be the same every time you call this function. In any other case, this might cause the trace to be incorrect.\n",
      "  check_bool = torch.tensor(True)\n",
      "/var/folders/89/y9dw12v976ngdmqz4l7wbsnr0000gn/T/ipykernel_37220/3192496014.py:19: TracerWarning: torch.tensor results are registered as constants in the trace. You can safely ignore this warning if you use this function to create tensors out of constant variables that would be the same every time you call this function. In any other case, this might cause the trace to be incorrect.\n",
      "  check_bool = torch.tensor(False)\n"
     ]
    }
   ],
   "source": [
    "print(\"dummy output: \", dummy_theory_output)\n",
    "# Verifier/ data consumer side: send desired calculation\n",
    "class verifier_model(nn.Module):\n",
    "    def __init__(self):\n",
    "        super(verifier_model, self).__init__()\n",
    "        # w represents mean in this case\n",
    "        self.w = nn.Parameter(data = dummy_theory_output, requires_grad = False)\n",
    "    def forward(self,X):\n",
    "        # some expression of tolerance to error in the inference\n",
    "        count_equal = torch.sum((torch.abs(X-self.w)<0.01*self.w).double())\n",
    "        result = torch.zeros(X.size()[1])\n",
    "        index_array = torch.tensor(range(X.size()[1]))\n",
    "\n",
    "        for index in index_array:\n",
    "            ele = X[0][index][0]\n",
    "            if (torch.sum((torch.abs(X-ele)<0.01*ele).double())<=count_equal):\n",
    "                check_bool = torch.tensor(True)\n",
    "            else:\n",
    "                check_bool = torch.tensor(False)\n",
    "            result[index] = check_bool\n",
    "\n",
    "        return (torch.sum(result) == X.size()[1], self.w)\n",
    "    \n",
    "verifier_define_calculation(verifier_model, verifier_model_path, [dummy_data_path])"
   ]
  },
  {
   "cell_type": "code",
   "execution_count": 13,
   "metadata": {},
   "outputs": [
    {
     "name": "stdout",
     "output_type": "stream",
     "text": [
      "Theory_output:  tensor(4.1000)\n"
     ]
    },
    {
     "name": "stderr",
     "output_type": "stream",
     "text": [
      "/var/folders/89/y9dw12v976ngdmqz4l7wbsnr0000gn/T/ipykernel_37220/3050767087.py:16: TracerWarning: torch.tensor results are registered as constants in the trace. You can safely ignore this warning if you use this function to create tensors out of constant variables that would be the same every time you call this function. In any other case, this might cause the trace to be incorrect.\n",
      "  index_array = torch.tensor(range(X.size()[1]))\n",
      "/var/folders/89/y9dw12v976ngdmqz4l7wbsnr0000gn/T/ipykernel_37220/3050767087.py:18: TracerWarning: Iterating over a tensor might cause the trace to be incorrect. Passing a tensor of different shape won't change the number of iterations executed (and might lead to errors or silently give incorrect results).\n",
      "  for index in index_array:\n",
      "/var/folders/89/y9dw12v976ngdmqz4l7wbsnr0000gn/T/ipykernel_37220/3050767087.py:20: TracerWarning: Converting a tensor to a Python boolean might cause the trace to be incorrect. We can't record the data flow of Python values, so this value will be treated as a constant in the future. This means that the trace might not generalize to other inputs!\n",
      "  if (torch.sum((torch.abs(X-ele)<0.01*ele).double())<=count_equal):\n",
      "/var/folders/89/y9dw12v976ngdmqz4l7wbsnr0000gn/T/ipykernel_37220/3050767087.py:21: TracerWarning: torch.tensor results are registered as constants in the trace. You can safely ignore this warning if you use this function to create tensors out of constant variables that would be the same every time you call this function. In any other case, this might cause the trace to be incorrect.\n",
      "  check_bool = torch.tensor(True)\n"
     ]
    },
    {
     "name": "stdout",
     "output_type": "stream",
     "text": [
      "==== Generate & Calibrate Setting ====\n",
      "scale:  default\n",
      "setting:  {\"run_args\":{\"tolerance\":{\"val\":0.0,\"scale\":1.0},\"input_scale\":7,\"param_scale\":7,\"scale_rebase_multiplier\":10,\"lookup_range\":[0,0],\"logrows\":11,\"num_inner_cols\":1,\"variables\":[[\"batch_size\",1]],\"input_visibility\":{\"Hashed\":{\"hash_is_public\":true,\"outlets\":[]}},\"output_visibility\":\"Public\",\"param_visibility\":\"Private\"},\"num_rows\":1312,\"total_assignments\":8,\"total_const_size\":0,\"model_instance_shapes\":[[1],[1]],\"model_output_scales\":[0,7],\"model_input_scales\":[7],\"module_sizes\":{\"kzg\":[],\"poseidon\":[1312,[1]],\"elgamal\":[0,[0]]},\"required_lookups\":[],\"check_mode\":\"UNSAFE\",\"version\":\"5.0.8\",\"num_blinding_factors\":null}\n"
     ]
    }
   ],
   "source": [
    "# prover calculates settings, send to verifier\n",
    "\n",
    "theory_output = torch.tensor(statistics.mode(data))\n",
    "\n",
    "print(\"Theory_output: \", theory_output)\n",
    "class prover_model(nn.Module):\n",
    "    def __init__(self):\n",
    "        super(prover_model, self).__init__()\n",
    "        # w represents mean in this case\n",
    "        self.w = nn.Parameter(data = theory_output, requires_grad = False)\n",
    "\n",
    "    def forward(self,X):\n",
    "        # some expression of tolerance to error in the inference\n",
    "        count_equal = torch.sum((torch.abs(X-self.w)<0.01*self.w).double())\n",
    "        result = torch.zeros(X.size()[1])\n",
    "        index_array = torch.tensor(range(X.size()[1]))\n",
    "\n",
    "        for index in index_array:\n",
    "            ele = X[0][index][0]\n",
    "            if (torch.sum((torch.abs(X-ele)<0.01*ele).double())<=count_equal):\n",
    "                check_bool = torch.tensor(True)\n",
    "            else:\n",
    "                check_bool = torch.tensor(False)\n",
    "            result[index] = check_bool\n",
    "\n",
    "        return (torch.sum(result) == X.size()[1], self.w)\n",
    "\n",
    "\n",
    "prover_gen_settings([data_path], comb_data_path, prover_model,prover_model_path, \"default\", \"resources\", settings_path)"
   ]
  },
  {
   "cell_type": "code",
   "execution_count": 14,
   "metadata": {},
   "outputs": [
    {
     "name": "stdout",
     "output_type": "stream",
     "text": [
      "==== setting up ezkl ====\n"
     ]
    },
    {
     "name": "stderr",
     "output_type": "stream",
     "text": [
      "spawning module 0\n",
      "spawning module 2\n",
      "spawning module 0\n",
      "spawning module 2\n"
     ]
    },
    {
     "name": "stdout",
     "output_type": "stream",
     "text": [
      "Time setup: 0.23106098175048828 seconds\n"
     ]
    },
    {
     "name": "stderr",
     "output_type": "stream",
     "text": [
      "spawning module 0\n",
      "spawning module 2\n"
     ]
    },
    {
     "name": "stdout",
     "output_type": "stream",
     "text": [
      "=======================================\n",
      "Theory output:  tensor(4.1000)\n",
      "==== Generating Witness ====\n",
      "witness boolean:  1.0\n",
      "witness result 1 : 4.1015625\n",
      "==== Generating Proof ====\n",
      "proof:  {'instances': [[[8968413016118640008, 13978084904548187999, 5732603028781509343, 2742516011951746503], [12436184717236109307, 3962172157175319849, 7381016538464732718, 1011752739694698287], [11664057200304715047, 16495917767961733174, 11618098729275913590, 1146451785665059695]]], 'proof': '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', 'transcript_type': 'EVM'}\n",
      "Time gen prf: 0.24623703956604004 seconds\n"
     ]
    }
   ],
   "source": [
    "# Here verifier & prover can concurrently call setup since all params are public to get pk. \n",
    "# Here write as verifier function to emphasize that verifier must calculate its own vk to be sure\n",
    "verifier_setup(verifier_model_path, verifier_compiled_model_path, settings_path, srs_path,vk_path, pk_path )\n",
    "\n",
    "print(\"=======================================\")\n",
    "# Prover generates proof\n",
    "print(\"Theory output: \", theory_output)\n",
    "prover_gen_proof(prover_model_path, comb_data_path, witness_path, prover_compiled_model_path, settings_path, proof_path, pk_path, srs_path)"
   ]
  },
  {
   "cell_type": "code",
   "execution_count": 15,
   "metadata": {},
   "outputs": [
    {
     "name": "stdout",
     "output_type": "stream",
     "text": [
      "num_inputs:  1\n",
      "prf instances:  [[[8968413016118640008, 13978084904548187999, 5732603028781509343, 2742516011951746503], [12436184717236109307, 3962172157175319849, 7381016538464732718, 1011752739694698287], [11664057200304715047, 16495917767961733174, 11618098729275913590, 1146451785665059695]]]\n",
      "proof boolean:  1.0\n",
      "proof result 1 : 4.1015625\n",
      "verified\n"
     ]
    }
   ],
   "source": [
    "# Verifier verifies\n",
    "verifier_verify(proof_path, settings_path, vk_path, srs_path)"
   ]
  },
  {
   "cell_type": "code",
   "execution_count": null,
   "metadata": {},
   "outputs": [],
   "source": []
  },
  {
   "cell_type": "code",
   "execution_count": null,
   "metadata": {},
   "outputs": [],
   "source": []
  }
 ],
 "metadata": {
  "kernelspec": {
   "display_name": "Python 3",
   "language": "python",
   "name": "python3"
  },
  "language_info": {
   "codemirror_mode": {
    "name": "ipython",
    "version": 3
   },
   "file_extension": ".py",
   "mimetype": "text/x-python",
   "name": "python",
   "nbconvert_exporter": "python",
   "pygments_lexer": "ipython3",
   "version": "3.10.0"
  },
  "orig_nbformat": 4
 },
 "nbformat": 4,
 "nbformat_minor": 2
}
