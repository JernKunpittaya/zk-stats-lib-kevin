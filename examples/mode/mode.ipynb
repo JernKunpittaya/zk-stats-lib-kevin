{
 "cells": [
  {
   "cell_type": "code",
   "execution_count": 1,
   "metadata": {},
   "outputs": [
    {
     "name": "stdout",
     "output_type": "stream",
     "text": [
      "Requirement already satisfied: ezkl==9.1.0 in /Users/jernkun/Library/Caches/pypoetry/virtualenvs/zkstats-OJpceffF-py3.11/lib/python3.11/site-packages (from -r ../../requirements.txt (line 1)) (9.1.0)\n",
      "Requirement already satisfied: torch in /Users/jernkun/Library/Caches/pypoetry/virtualenvs/zkstats-OJpceffF-py3.11/lib/python3.11/site-packages (from -r ../../requirements.txt (line 2)) (2.2.0)\n",
      "Requirement already satisfied: requests in /Users/jernkun/Library/Caches/pypoetry/virtualenvs/zkstats-OJpceffF-py3.11/lib/python3.11/site-packages (from -r ../../requirements.txt (line 3)) (2.31.0)\n",
      "Requirement already satisfied: scipy in /Users/jernkun/Library/Caches/pypoetry/virtualenvs/zkstats-OJpceffF-py3.11/lib/python3.11/site-packages (from -r ../../requirements.txt (line 4)) (1.12.0)\n",
      "Requirement already satisfied: numpy in /Users/jernkun/Library/Caches/pypoetry/virtualenvs/zkstats-OJpceffF-py3.11/lib/python3.11/site-packages (from -r ../../requirements.txt (line 5)) (1.26.3)\n",
      "Requirement already satisfied: matplotlib in /Users/jernkun/Library/Caches/pypoetry/virtualenvs/zkstats-OJpceffF-py3.11/lib/python3.11/site-packages (from -r ../../requirements.txt (line 6)) (3.8.2)\n",
      "Requirement already satisfied: statistics in /Users/jernkun/Library/Caches/pypoetry/virtualenvs/zkstats-OJpceffF-py3.11/lib/python3.11/site-packages (from -r ../../requirements.txt (line 7)) (1.0.3.5)\n",
      "Requirement already satisfied: onnx in /Users/jernkun/Library/Caches/pypoetry/virtualenvs/zkstats-OJpceffF-py3.11/lib/python3.11/site-packages (from -r ../../requirements.txt (line 8)) (1.15.0)\n",
      "Requirement already satisfied: filelock in /Users/jernkun/Library/Caches/pypoetry/virtualenvs/zkstats-OJpceffF-py3.11/lib/python3.11/site-packages (from torch->-r ../../requirements.txt (line 2)) (3.13.1)\n",
      "Requirement already satisfied: typing-extensions>=4.8.0 in /Users/jernkun/Library/Caches/pypoetry/virtualenvs/zkstats-OJpceffF-py3.11/lib/python3.11/site-packages (from torch->-r ../../requirements.txt (line 2)) (4.9.0)\n",
      "Requirement already satisfied: sympy in /Users/jernkun/Library/Caches/pypoetry/virtualenvs/zkstats-OJpceffF-py3.11/lib/python3.11/site-packages (from torch->-r ../../requirements.txt (line 2)) (1.12)\n",
      "Requirement already satisfied: networkx in /Users/jernkun/Library/Caches/pypoetry/virtualenvs/zkstats-OJpceffF-py3.11/lib/python3.11/site-packages (from torch->-r ../../requirements.txt (line 2)) (3.2.1)\n",
      "Requirement already satisfied: jinja2 in /Users/jernkun/Library/Caches/pypoetry/virtualenvs/zkstats-OJpceffF-py3.11/lib/python3.11/site-packages (from torch->-r ../../requirements.txt (line 2)) (3.1.3)\n",
      "Requirement already satisfied: fsspec in /Users/jernkun/Library/Caches/pypoetry/virtualenvs/zkstats-OJpceffF-py3.11/lib/python3.11/site-packages (from torch->-r ../../requirements.txt (line 2)) (2023.12.2)\n",
      "Requirement already satisfied: charset-normalizer<4,>=2 in /Users/jernkun/Library/Caches/pypoetry/virtualenvs/zkstats-OJpceffF-py3.11/lib/python3.11/site-packages (from requests->-r ../../requirements.txt (line 3)) (3.3.2)\n",
      "Requirement already satisfied: idna<4,>=2.5 in /Users/jernkun/Library/Caches/pypoetry/virtualenvs/zkstats-OJpceffF-py3.11/lib/python3.11/site-packages (from requests->-r ../../requirements.txt (line 3)) (3.6)\n",
      "Requirement already satisfied: urllib3<3,>=1.21.1 in /Users/jernkun/Library/Caches/pypoetry/virtualenvs/zkstats-OJpceffF-py3.11/lib/python3.11/site-packages (from requests->-r ../../requirements.txt (line 3)) (2.2.0)\n",
      "Requirement already satisfied: certifi>=2017.4.17 in /Users/jernkun/Library/Caches/pypoetry/virtualenvs/zkstats-OJpceffF-py3.11/lib/python3.11/site-packages (from requests->-r ../../requirements.txt (line 3)) (2024.2.2)\n",
      "Requirement already satisfied: contourpy>=1.0.1 in /Users/jernkun/Library/Caches/pypoetry/virtualenvs/zkstats-OJpceffF-py3.11/lib/python3.11/site-packages (from matplotlib->-r ../../requirements.txt (line 6)) (1.2.0)\n",
      "Requirement already satisfied: cycler>=0.10 in /Users/jernkun/Library/Caches/pypoetry/virtualenvs/zkstats-OJpceffF-py3.11/lib/python3.11/site-packages (from matplotlib->-r ../../requirements.txt (line 6)) (0.12.1)\n",
      "Requirement already satisfied: fonttools>=4.22.0 in /Users/jernkun/Library/Caches/pypoetry/virtualenvs/zkstats-OJpceffF-py3.11/lib/python3.11/site-packages (from matplotlib->-r ../../requirements.txt (line 6)) (4.47.2)\n",
      "Requirement already satisfied: kiwisolver>=1.3.1 in /Users/jernkun/Library/Caches/pypoetry/virtualenvs/zkstats-OJpceffF-py3.11/lib/python3.11/site-packages (from matplotlib->-r ../../requirements.txt (line 6)) (1.4.5)\n",
      "Requirement already satisfied: packaging>=20.0 in /Users/jernkun/Library/Caches/pypoetry/virtualenvs/zkstats-OJpceffF-py3.11/lib/python3.11/site-packages (from matplotlib->-r ../../requirements.txt (line 6)) (23.2)\n",
      "Requirement already satisfied: pillow>=8 in /Users/jernkun/Library/Caches/pypoetry/virtualenvs/zkstats-OJpceffF-py3.11/lib/python3.11/site-packages (from matplotlib->-r ../../requirements.txt (line 6)) (10.2.0)\n",
      "Requirement already satisfied: pyparsing>=2.3.1 in /Users/jernkun/Library/Caches/pypoetry/virtualenvs/zkstats-OJpceffF-py3.11/lib/python3.11/site-packages (from matplotlib->-r ../../requirements.txt (line 6)) (3.1.1)\n",
      "Requirement already satisfied: python-dateutil>=2.7 in /Users/jernkun/Library/Caches/pypoetry/virtualenvs/zkstats-OJpceffF-py3.11/lib/python3.11/site-packages (from matplotlib->-r ../../requirements.txt (line 6)) (2.8.2)\n",
      "Requirement already satisfied: docutils>=0.3 in /Users/jernkun/Library/Caches/pypoetry/virtualenvs/zkstats-OJpceffF-py3.11/lib/python3.11/site-packages (from statistics->-r ../../requirements.txt (line 7)) (0.20.1)\n",
      "Requirement already satisfied: protobuf>=3.20.2 in /Users/jernkun/Library/Caches/pypoetry/virtualenvs/zkstats-OJpceffF-py3.11/lib/python3.11/site-packages (from onnx->-r ../../requirements.txt (line 8)) (4.25.2)\n",
      "Requirement already satisfied: six>=1.5 in /Users/jernkun/Library/Caches/pypoetry/virtualenvs/zkstats-OJpceffF-py3.11/lib/python3.11/site-packages (from python-dateutil>=2.7->matplotlib->-r ../../requirements.txt (line 6)) (1.16.0)\n",
      "Requirement already satisfied: MarkupSafe>=2.0 in /Users/jernkun/Library/Caches/pypoetry/virtualenvs/zkstats-OJpceffF-py3.11/lib/python3.11/site-packages (from jinja2->torch->-r ../../requirements.txt (line 2)) (2.1.4)\n",
      "Requirement already satisfied: mpmath>=0.19 in /Users/jernkun/Library/Caches/pypoetry/virtualenvs/zkstats-OJpceffF-py3.11/lib/python3.11/site-packages (from sympy->torch->-r ../../requirements.txt (line 2)) (1.3.0)\n",
      "\n",
      "\u001b[1m[\u001b[0m\u001b[34;49mnotice\u001b[0m\u001b[1;39;49m]\u001b[0m\u001b[39;49m A new release of pip is available: \u001b[0m\u001b[31;49m23.2.1\u001b[0m\u001b[39;49m -> \u001b[0m\u001b[32;49m24.0\u001b[0m\n",
      "\u001b[1m[\u001b[0m\u001b[34;49mnotice\u001b[0m\u001b[1;39;49m]\u001b[0m\u001b[39;49m To update, run: \u001b[0m\u001b[32;49mpip install --upgrade pip\u001b[0m\n",
      "Note: you may need to restart the kernel to use updated packages.\n"
     ]
    }
   ],
   "source": [
    "pip install -r ../../requirements.txt"
   ]
  },
  {
   "cell_type": "code",
   "execution_count": 2,
   "metadata": {},
   "outputs": [],
   "source": [
    "import ezkl\n",
    "import torch\n",
    "from torch import nn\n",
    "import json\n",
    "import os\n",
    "import time\n",
    "import scipy\n",
    "import numpy as np\n",
    "import matplotlib.pyplot as plt\n",
    "import statistics\n",
    "import math"
   ]
  },
  {
   "cell_type": "code",
   "execution_count": 3,
   "metadata": {},
   "outputs": [],
   "source": [
    "from zkstats.core import create_dummy, verifier_define_calculation, prover_gen_settings, setup, prover_gen_proof, verifier_verify, get_data_commitment_maps"
   ]
  },
  {
   "attachments": {},
   "cell_type": "markdown",
   "metadata": {},
   "source": []
  },
  {
   "cell_type": "code",
   "execution_count": 4,
   "metadata": {},
   "outputs": [],
   "source": [
    "# init path\n",
    "os.makedirs(os.path.dirname('shared/'), exist_ok=True)\n",
    "os.makedirs(os.path.dirname('prover/'), exist_ok=True)\n",
    "verifier_model_path = os.path.join('shared/verifier.onnx')\n",
    "prover_model_path = os.path.join('prover/prover.onnx')\n",
    "verifier_compiled_model_path = os.path.join('shared/verifier.compiled')\n",
    "prover_compiled_model_path = os.path.join('prover/prover.compiled')\n",
    "pk_path = os.path.join('shared/test.pk')\n",
    "vk_path = os.path.join('shared/test.vk')\n",
    "proof_path = os.path.join('shared/test.pf')\n",
    "settings_path = os.path.join('shared/settings.json')\n",
    "srs_path = os.path.join('shared/kzg.srs')\n",
    "witness_path = os.path.join('prover/witness.json')\n",
    "# this is private to prover since it contains actual data\n",
    "sel_data_path = os.path.join('prover/sel_data.json')\n",
    "# this is just dummy random value\n",
    "sel_dummy_data_path = os.path.join('shared/sel_dummy_data.json')"
   ]
  },
  {
   "attachments": {},
   "cell_type": "markdown",
   "metadata": {},
   "source": [
    "=======================  ZK-STATS FLOW ======================="
   ]
  },
  {
   "cell_type": "code",
   "execution_count": 5,
   "metadata": {},
   "outputs": [],
   "source": [
    "data_path = os.path.join('data.json')\n",
    "dummy_data_path = os.path.join('shared/dummy_data.json')\n",
    "create_dummy(data_path, dummy_data_path)"
   ]
  },
  {
   "cell_type": "code",
   "execution_count": 6,
   "metadata": {},
   "outputs": [],
   "source": [
    "# use large scale here to get the output really close to the value in dataset, which is important to Mode.\n",
    "# large scale doesn't blowup circuit size in Mode, so fine.\n",
    "scales = [8]\n",
    "selected_columns = ['col_name']\n",
    "commitment_maps = get_data_commitment_maps(data_path, scales)"
   ]
  },
  {
   "cell_type": "code",
   "execution_count": 7,
   "metadata": {},
   "outputs": [
    {
     "name": "stderr",
     "output_type": "stream",
     "text": [
      "/Users/jernkun/Desktop/zk-stats-lib/zkstats/ops.py:146: UserWarning: To copy construct from a tensor, it is recommended to use sourceTensor.clone().detach() or sourceTensor.clone().detach().requires_grad_(True), rather than torch.tensor(sourceTensor).\n",
      "  result = torch.tensor(mode_within(x_1d, error))\n",
      "/Users/jernkun/Desktop/zk-stats-lib/zkstats/computation.py:166: TracerWarning: torch.tensor results are registered as constants in the trace. You can safely ignore this warning if you use this function to create tensors out of constant variables that would be the same every time you call this function. In any other case, this might cause the trace to be incorrect.\n",
      "  is_precise_aggregated = torch.tensor(1.0)\n",
      "/Users/jernkun/Desktop/zk-stats-lib/zkstats/ops.py:154: TracerWarning: Iterating over a tensor might cause the trace to be incorrect. Passing a tensor of different shape won't change the number of iterations executed (and might lead to errors or silently give incorrect results).\n",
      "  _result = torch.tensor([\n",
      "/Users/jernkun/Desktop/zk-stats-lib/zkstats/ops.py:154: TracerWarning: torch.tensor results are registered as constants in the trace. You can safely ignore this warning if you use this function to create tensors out of constant variables that would be the same every time you call this function. In any other case, this might cause the trace to be incorrect.\n",
      "  _result = torch.tensor([\n",
      "/Users/jernkun/Desktop/zk-stats-lib/zkstats/ops.py:154: TracerWarning: Converting a tensor to a Python float might cause the trace to be incorrect. We can't record the data flow of Python values, so this value will be treated as a constant in the future. This means that the trace might not generalize to other inputs!\n",
      "  _result = torch.tensor([\n",
      "/Users/jernkun/Library/Caches/pypoetry/virtualenvs/zkstats-OJpceffF-py3.11/lib/python3.11/site-packages/torch/onnx/symbolic_opset9.py:2174: FutureWarning: 'torch.onnx.symbolic_opset9._cast_Bool' is deprecated in version 2.0 and will be removed in the future. Please Avoid using this function and create a Cast node instead.\n",
      "  return fn(g, to_cast_func(g, input, False), to_cast_func(g, other, False))\n"
     ]
    }
   ],
   "source": [
    "# Verifier/ data consumer side: send desired calculation\n",
    "from zkstats.computation import computation_to_model, State\n",
    "\n",
    "def computation(s: State, data: list[torch.Tensor]) -> torch.Tensor:\n",
    "    x = data[0]\n",
    "    return s.mode(x)\n",
    "# IMPORTANT: Unlike other functions, error of Mode is num_error, NOT the result error.\n",
    "error = 0\n",
    "_, verifier_model = computation_to_model(computation, error)\n",
    "\n",
    "verifier_define_calculation(dummy_data_path, selected_columns, sel_dummy_data_path, verifier_model, verifier_model_path)"
   ]
  },
  {
   "cell_type": "code",
   "execution_count": 8,
   "metadata": {},
   "outputs": [
    {
     "name": "stderr",
     "output_type": "stream",
     "text": [
      "\n",
      "\n",
      " <------------- Numerical Fidelity Report (input_scale: 8, param_scale: 8, scale_input_multiplier: 10) ------------->\n",
      "\n",
      "+----------------+---------------+-----------+---------------+----------------+------------------+---------------+---------------+--------------------+--------------------+------------------------+\n",
      "| mean_error     | median_error  | max_error | min_error     | mean_abs_error | median_abs_error | max_abs_error | min_abs_error | mean_squared_error | mean_percent_error | mean_abs_percent_error |\n",
      "+----------------+---------------+-----------+---------------+----------------+------------------+---------------+---------------+--------------------+--------------------+------------------------+\n",
      "| -0.00078201294 | -0.0015640259 | 0         | -0.0015640259 | 0.00078201294  | 0.0015640259     | 0.0015640259  | 0             | 0.0000012230885    | -0.000010077487    | 0.000010077487         |\n",
      "+----------------+---------------+-----------+---------------+----------------+------------------+---------------+---------------+--------------------+--------------------+------------------------+\n",
      "\n",
      "\n"
     ]
    },
    {
     "name": "stdout",
     "output_type": "stream",
     "text": [
      "==== Generate & Calibrate Setting ====\n",
      "scale:  [8]\n",
      "setting:  {\"run_args\":{\"tolerance\":{\"val\":0.0,\"scale\":1.0},\"input_scale\":8,\"param_scale\":8,\"scale_rebase_multiplier\":10,\"lookup_range\":[0,0],\"logrows\":14,\"num_inner_cols\":2,\"variables\":[[\"batch_size\",1]],\"input_visibility\":{\"Hashed\":{\"hash_is_public\":true,\"outlets\":[]}},\"output_visibility\":\"Public\",\"param_visibility\":\"Private\",\"div_rebasing\":false,\"rebase_frac_zero_constants\":false,\"check_mode\":\"UNSAFE\"},\"num_rows\":14432,\"total_assignments\":302,\"total_const_size\":0,\"model_instance_shapes\":[[1],[1]],\"model_output_scales\":[0,8],\"model_input_scales\":[8],\"module_sizes\":{\"kzg\":[],\"poseidon\":[14432,[1]]},\"required_lookups\":[],\"required_range_checks\":[],\"check_mode\":\"UNSAFE\",\"version\":\"9.1.0\",\"num_blinding_factors\":null,\"timestamp\":1709450905160}\n"
     ]
    }
   ],
   "source": [
    "# Prover/ data owner side\n",
    "_, prover_model = computation_to_model(computation, error)\n",
    "\n",
    "prover_gen_settings(data_path, selected_columns, sel_data_path, prover_model,prover_model_path, scales, \"resources\", settings_path)"
   ]
  },
  {
   "cell_type": "code",
   "execution_count": 9,
   "metadata": {},
   "outputs": [
    {
     "name": "stdout",
     "output_type": "stream",
     "text": [
      "==== setting up ezkl ====\n",
      "Time setup: 1.3435120582580566 seconds\n",
      "=======================================\n",
      "==== Generating Witness ====\n",
      "witness boolean:  1.0\n",
      "witness result 1 : 77.6015625\n",
      "==== Generating Proof ====\n",
      "proof:  {'instances': [['c2b6968dfce66ece687a00d15dea969a5dab54b503c9ac9d0ad01308cedbb32e', '0100000000000000000000000000000000000000000000000000000000000000', '9a4d000000000000000000000000000000000000000000000000000000000000']], 'proof': '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', 'transcript_type': 'EVM'}\n",
      "Time gen prf: 1.5122041702270508 seconds\n"
     ]
    }
   ],
   "source": [
    "# Here verifier & prover can concurrently call setup since all params are public to get pk.\n",
    "# Here write as verifier function to emphasize that verifier must calculate its own vk to be sure\n",
    "setup(verifier_model_path, verifier_compiled_model_path, settings_path,vk_path, pk_path )\n",
    "\n",
    "print(\"=======================================\")\n",
    "# Prover generates proof\n",
    "prover_gen_proof(prover_model_path, sel_data_path, witness_path, prover_compiled_model_path, settings_path, proof_path, pk_path)"
   ]
  },
  {
   "cell_type": "code",
   "execution_count": 10,
   "metadata": {},
   "outputs": [
    {
     "name": "stdout",
     "output_type": "stream",
     "text": [
      "Verifier gets result: [77.6015625]\n"
     ]
    }
   ],
   "source": [
    "# Verifier verifies\n",
    "res = verifier_verify(proof_path, settings_path, vk_path, selected_columns, commitment_maps)\n",
    "print(\"Verifier gets result:\", res)"
   ]
  },
  {
   "cell_type": "code",
   "execution_count": null,
   "metadata": {},
   "outputs": [],
   "source": []
  },
  {
   "cell_type": "code",
   "execution_count": null,
   "metadata": {},
   "outputs": [],
   "source": []
  }
 ],
 "metadata": {
  "kernelspec": {
   "display_name": "Python 3",
   "language": "python",
   "name": "python3"
  },
  "language_info": {
   "codemirror_mode": {
    "name": "ipython",
    "version": 3
   },
   "file_extension": ".py",
   "mimetype": "text/x-python",
   "name": "python",
   "nbconvert_exporter": "python",
   "pygments_lexer": "ipython3",
   "version": "3.11.4"
  },
  "orig_nbformat": 4
 },
 "nbformat": 4,
 "nbformat_minor": 2
}
