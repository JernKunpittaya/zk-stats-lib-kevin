{
 "cells": [
  {
   "cell_type": "code",
   "execution_count": 1,
   "metadata": {},
   "outputs": [
    {
     "name": "stdout",
     "output_type": "stream",
     "text": [
      "Requirement already satisfied: ezkl==7.0.0 in /Library/Frameworks/Python.framework/Versions/3.10/lib/python3.10/site-packages (from -r ../../requirements.txt (line 1)) (7.0.0)\n",
      "Requirement already satisfied: torch in /Library/Frameworks/Python.framework/Versions/3.10/lib/python3.10/site-packages (from -r ../../requirements.txt (line 2)) (2.1.1)\n",
      "Requirement already satisfied: requests in /Library/Frameworks/Python.framework/Versions/3.10/lib/python3.10/site-packages (from -r ../../requirements.txt (line 3)) (2.31.0)\n",
      "Requirement already satisfied: scipy in /Library/Frameworks/Python.framework/Versions/3.10/lib/python3.10/site-packages (from -r ../../requirements.txt (line 4)) (1.11.4)\n",
      "Requirement already satisfied: numpy in /Library/Frameworks/Python.framework/Versions/3.10/lib/python3.10/site-packages (from -r ../../requirements.txt (line 5)) (1.26.2)\n",
      "Requirement already satisfied: matplotlib in /Library/Frameworks/Python.framework/Versions/3.10/lib/python3.10/site-packages (from -r ../../requirements.txt (line 6)) (3.8.2)\n",
      "Requirement already satisfied: statistics in /Library/Frameworks/Python.framework/Versions/3.10/lib/python3.10/site-packages (from -r ../../requirements.txt (line 7)) (1.0.3.5)\n",
      "Requirement already satisfied: onnx in /Library/Frameworks/Python.framework/Versions/3.10/lib/python3.10/site-packages (from -r ../../requirements.txt (line 8)) (1.15.0)\n",
      "Requirement already satisfied: jinja2 in /Library/Frameworks/Python.framework/Versions/3.10/lib/python3.10/site-packages (from torch->-r ../../requirements.txt (line 2)) (3.1.2)\n",
      "Requirement already satisfied: networkx in /Library/Frameworks/Python.framework/Versions/3.10/lib/python3.10/site-packages (from torch->-r ../../requirements.txt (line 2)) (3.2.1)\n",
      "Requirement already satisfied: typing-extensions in /Library/Frameworks/Python.framework/Versions/3.10/lib/python3.10/site-packages (from torch->-r ../../requirements.txt (line 2)) (4.8.0)\n",
      "Requirement already satisfied: sympy in /Library/Frameworks/Python.framework/Versions/3.10/lib/python3.10/site-packages (from torch->-r ../../requirements.txt (line 2)) (1.12)\n",
      "Requirement already satisfied: fsspec in /Library/Frameworks/Python.framework/Versions/3.10/lib/python3.10/site-packages (from torch->-r ../../requirements.txt (line 2)) (2023.10.0)\n",
      "Requirement already satisfied: filelock in /Library/Frameworks/Python.framework/Versions/3.10/lib/python3.10/site-packages (from torch->-r ../../requirements.txt (line 2)) (3.13.1)\n",
      "Requirement already satisfied: certifi>=2017.4.17 in /Library/Frameworks/Python.framework/Versions/3.10/lib/python3.10/site-packages (from requests->-r ../../requirements.txt (line 3)) (2023.11.17)\n",
      "Requirement already satisfied: urllib3<3,>=1.21.1 in /Library/Frameworks/Python.framework/Versions/3.10/lib/python3.10/site-packages (from requests->-r ../../requirements.txt (line 3)) (2.1.0)\n",
      "Requirement already satisfied: charset-normalizer<4,>=2 in /Library/Frameworks/Python.framework/Versions/3.10/lib/python3.10/site-packages (from requests->-r ../../requirements.txt (line 3)) (3.3.2)\n",
      "Requirement already satisfied: idna<4,>=2.5 in /Library/Frameworks/Python.framework/Versions/3.10/lib/python3.10/site-packages (from requests->-r ../../requirements.txt (line 3)) (3.6)\n",
      "Requirement already satisfied: kiwisolver>=1.3.1 in /Library/Frameworks/Python.framework/Versions/3.10/lib/python3.10/site-packages (from matplotlib->-r ../../requirements.txt (line 6)) (1.4.5)\n",
      "Requirement already satisfied: packaging>=20.0 in /Users/jernkun/Library/Python/3.10/lib/python/site-packages (from matplotlib->-r ../../requirements.txt (line 6)) (23.2)\n",
      "Requirement already satisfied: python-dateutil>=2.7 in /Users/jernkun/Library/Python/3.10/lib/python/site-packages (from matplotlib->-r ../../requirements.txt (line 6)) (2.8.2)\n",
      "Requirement already satisfied: pillow>=8 in /Library/Frameworks/Python.framework/Versions/3.10/lib/python3.10/site-packages (from matplotlib->-r ../../requirements.txt (line 6)) (10.1.0)\n",
      "Requirement already satisfied: contourpy>=1.0.1 in /Library/Frameworks/Python.framework/Versions/3.10/lib/python3.10/site-packages (from matplotlib->-r ../../requirements.txt (line 6)) (1.2.0)\n",
      "Requirement already satisfied: cycler>=0.10 in /Library/Frameworks/Python.framework/Versions/3.10/lib/python3.10/site-packages (from matplotlib->-r ../../requirements.txt (line 6)) (0.12.1)\n",
      "Requirement already satisfied: pyparsing>=2.3.1 in /Library/Frameworks/Python.framework/Versions/3.10/lib/python3.10/site-packages (from matplotlib->-r ../../requirements.txt (line 6)) (3.1.1)\n",
      "Requirement already satisfied: fonttools>=4.22.0 in /Library/Frameworks/Python.framework/Versions/3.10/lib/python3.10/site-packages (from matplotlib->-r ../../requirements.txt (line 6)) (4.45.1)\n",
      "Requirement already satisfied: docutils>=0.3 in /Library/Frameworks/Python.framework/Versions/3.10/lib/python3.10/site-packages (from statistics->-r ../../requirements.txt (line 7)) (0.20.1)\n",
      "Requirement already satisfied: protobuf>=3.20.2 in /Library/Frameworks/Python.framework/Versions/3.10/lib/python3.10/site-packages (from onnx->-r ../../requirements.txt (line 8)) (4.25.1)\n",
      "Requirement already satisfied: six>=1.5 in /Users/jernkun/Library/Python/3.10/lib/python/site-packages (from python-dateutil>=2.7->matplotlib->-r ../../requirements.txt (line 6)) (1.16.0)\n",
      "Requirement already satisfied: MarkupSafe>=2.0 in /Library/Frameworks/Python.framework/Versions/3.10/lib/python3.10/site-packages (from jinja2->torch->-r ../../requirements.txt (line 2)) (2.1.3)\n",
      "Requirement already satisfied: mpmath>=0.19 in /Library/Frameworks/Python.framework/Versions/3.10/lib/python3.10/site-packages (from sympy->torch->-r ../../requirements.txt (line 2)) (1.3.0)\n",
      "\u001b[33mWARNING: You are using pip version 21.2.3; however, version 23.3.2 is available.\n",
      "You should consider upgrading via the '/usr/local/bin/python3 -m pip install --upgrade pip' command.\u001b[0m\n",
      "Note: you may need to restart the kernel to use updated packages.\n"
     ]
    }
   ],
   "source": [
    "pip install -r ../../requirements.txt"
   ]
  },
  {
   "cell_type": "code",
   "execution_count": 2,
   "metadata": {},
   "outputs": [],
   "source": [
    "import ezkl\n",
    "import torch\n",
    "from torch import nn\n",
    "import json\n",
    "import os\n",
    "import time\n",
    "import scipy\n",
    "import numpy as np\n",
    "import matplotlib.pyplot as plt\n",
    "import statistics\n",
    "import math"
   ]
  },
  {
   "cell_type": "code",
   "execution_count": 3,
   "metadata": {},
   "outputs": [],
   "source": [
    "%run -i ../../zkstats/core.py"
   ]
  },
  {
   "attachments": {},
   "cell_type": "markdown",
   "metadata": {},
   "source": []
  },
  {
   "cell_type": "code",
   "execution_count": 4,
   "metadata": {},
   "outputs": [],
   "source": [
    "# init path\n",
    "os.makedirs(os.path.dirname('shared/'), exist_ok=True)\n",
    "os.makedirs(os.path.dirname('prover/'), exist_ok=True)\n",
    "verifier_model_path = os.path.join('shared/verifier.onnx')\n",
    "prover_model_path = os.path.join('prover/prover.onnx')\n",
    "verifier_compiled_model_path = os.path.join('shared/verifier.compiled')\n",
    "prover_compiled_model_path = os.path.join('prover/prover.compiled')\n",
    "pk_path = os.path.join('shared/test.pk')\n",
    "vk_path = os.path.join('shared/test.vk')\n",
    "proof_path = os.path.join('shared/test.pf')\n",
    "settings_path = os.path.join('shared/settings.json')\n",
    "srs_path = os.path.join('shared/kzg.srs')\n",
    "witness_path = os.path.join('prover/witness.json')\n",
    "# this is private to prover since it contains actual data\n",
    "comb_data_path = os.path.join('prover/comb_data.json')"
   ]
  },
  {
   "attachments": {},
   "cell_type": "markdown",
   "metadata": {},
   "source": [
    "=======================  ZK-STATS FLOW ======================="
   ]
  },
  {
   "cell_type": "code",
   "execution_count": 10,
   "metadata": {},
   "outputs": [],
   "source": [
    "data_path = os.path.join('data.json')\n",
    "dummy_data_path = os.path.join('shared/dummy_data.json')\n",
    "\n",
    "f_raw_input = open(data_path, \"r\")\n",
    "data = np.array(json.loads(f_raw_input.read())[\"input_data\"][0])\n",
    "# data_tensor = torch.reshape(torch.tensor(data),(1, len(data), 1))\n",
    "\n",
    "#  dummy data for data consumer: arbitraryyy, just to make sure after filtered, it's not empty\n",
    "dummy_data = np.random.uniform(1,100, len(data))\n",
    "json.dump({\"input_data\":[dummy_data.tolist()]}, open(dummy_data_path, 'w'))\n",
    "\n",
    "# where(element > 30)\n",
    "# dummy_data_tensor = torch.reshape(torch.tensor(dummy_data), (1, len(dummy_data),1 ))\n",
    "# gt30_dummy_data_tensor = dummy_data_tensor[dummy_data_tensor > 30].reshape(1,-1,1)\n",
    "dummy_theory_output = torch.tensor(np.median(dummy_data[dummy_data>30]))\n",
    "# print(int(len(dummy_data)/2))\n",
    "dummy_lower_to_median = torch.tensor(np.sort(dummy_data[dummy_data>30])[int(len(dummy_data[dummy_data>30])/2)-1])\n",
    "dummy_upper_to_median = torch.tensor(np.sort(dummy_data[dummy_data>30])[int(len(dummy_data[dummy_data>30])/2)])\n",
    "\n"
   ]
  },
  {
   "cell_type": "code",
   "execution_count": 11,
   "metadata": {},
   "outputs": [],
   "source": [
    "# Verifier/ data consumer side: send desired calculation\n",
    "class verifier_model(nn.Module):\n",
    "    def __init__(self):\n",
    "        super(verifier_model, self).__init__()\n",
    "        # w represents mean in this case\n",
    "        self.w = nn.Parameter(data = dummy_theory_output, requires_grad = False)\n",
    "        self.lower = nn.Parameter(data = dummy_lower_to_median, requires_grad = False)\n",
    "        self.upper = nn.Parameter(data = dummy_upper_to_median, requires_grad = False)\n",
    "    def forward(self,X):\n",
    "        # where part\n",
    "        # to check: why cant do with num_fil_X with X>30 first?\n",
    "        num_lowest = torch.sum((X<=30).double())\n",
    "        num_fil_X = X.size()[1]-num_lowest\n",
    "        min_X = torch.min(X)\n",
    "        fil_X = torch.where(X>30, X, min_X-1)\n",
    "        # fil_X = torch.tensor([ele[0] if ele[0]>30 else min_X -1  for ele in X[0]])\n",
    "        \n",
    "        count_less = torch.sum((fil_X < 0.99*self.w).double()) - num_lowest\n",
    "        count_equal = torch.sum((torch.abs(fil_X-self.w)<=torch.abs(0.01*self.w)).double())\n",
    "        half_len = torch.floor(torch.div(num_fil_X, 2))\n",
    "\n",
    "        # not support modulo yet\n",
    "        less_cons = count_less<half_len+2*(num_fil_X/2 - torch.floor(num_fil_X/2))\n",
    "        more_cons = count_less+count_equal>half_len\n",
    "\n",
    "        # For count_equal == 0 --> imply even length for sure\n",
    "        lower_exist = torch.sum((torch.abs(fil_X-self.lower)<=torch.abs(0.01*self.lower)).double())>0\n",
    "        lower_cons = torch.sum((fil_X>1.01*self.lower).double())==half_len\n",
    "        upper_exist = torch.sum((torch.abs(fil_X-self.upper)<=torch.abs(0.01*self.upper)).double())>0\n",
    "        upper_cons = torch.sum((fil_X<0.99*self.upper).double()) - num_lowest==half_len\n",
    "        bound = count_less==half_len\n",
    "        # 0.02 since 2*0.01\n",
    "        bound_avg = (torch.abs(self.lower+self.upper-2*self.w)<=torch.abs(0.02*self.w))\n",
    "\n",
    "        median_in_cons = torch.logical_and(less_cons, more_cons)\n",
    "        median_out_cons = torch.logical_and(torch.logical_and(bound, bound_avg), torch.logical_and(torch.logical_and(lower_cons, upper_cons), torch.logical_and(lower_exist, upper_exist)))\n",
    "        \n",
    "        return(torch.where(count_equal==0, median_out_cons, median_in_cons), self.w)\n",
    "verifier_define_calculation(verifier_model, verifier_model_path, [dummy_data_path])"
   ]
  },
  {
   "cell_type": "code",
   "execution_count": 12,
   "metadata": {},
   "outputs": [
    {
     "name": "stdout",
     "output_type": "stream",
     "text": [
      "Theory_output:  tensor(51., dtype=torch.float64)\n",
      "==== Generate & Calibrate Setting ====\n",
      "scale:  [2]\n",
      "setting:  {\"run_args\":{\"tolerance\":{\"val\":0.0,\"scale\":1.0},\"input_scale\":2,\"param_scale\":2,\"scale_rebase_multiplier\":10,\"lookup_range\":[-582,2168],\"logrows\":14,\"num_inner_cols\":2,\"variables\":[[\"batch_size\",1]],\"input_visibility\":{\"Hashed\":{\"hash_is_public\":true,\"outlets\":[]}},\"output_visibility\":\"Public\",\"param_visibility\":\"Private\"},\"num_rows\":14432,\"total_assignments\":17417,\"total_const_size\":2720,\"model_instance_shapes\":[[1],[1]],\"model_output_scales\":[0,2],\"model_input_scales\":[2],\"module_sizes\":{\"kzg\":[],\"poseidon\":[14432,[1]],\"elgamal\":[0,[0]]},\"required_lookups\":[\"Abs\",{\"Div\":{\"denom\":2.0}},\"ReLU\",{\"Floor\":{\"scale\":4.0}},{\"GreaterThan\":{\"a\":0.0}},\"KroneckerDelta\"],\"check_mode\":\"UNSAFE\",\"version\":\"7.0.0\",\"num_blinding_factors\":null}\n"
     ]
    }
   ],
   "source": [
    "# prover calculates settings, send to verifier\n",
    "theory_output = torch.tensor(np.median(data[data>30]))\n",
    "lower_to_median = torch.tensor(np.sort(data[data>30])[int(len(data[data>30])/2)-1])\n",
    "upper_to_median = torch.tensor(np.sort(data[data>30])[int(len(data[data>30])/2)])\n",
    "\n",
    "print(\"Theory_output: \", theory_output)\n",
    "class prover_model(nn.Module):\n",
    "    def __init__(self):\n",
    "        super(prover_model, self).__init__()\n",
    "        # w represents mean in this case\n",
    "        self.w = nn.Parameter(data = theory_output, requires_grad = False)\n",
    "        self.lower = nn.Parameter(data = lower_to_median, requires_grad = False)\n",
    "        self.upper = nn.Parameter(data = upper_to_median, requires_grad = False)\n",
    "    def forward(self,X):\n",
    "        # where part\n",
    "        # to check: why cant do with num_fil_X with X>30 first?\n",
    "        num_lowest = torch.sum((X<=30).double())\n",
    "        num_fil_X = X.size()[1]-num_lowest\n",
    "        min_X = torch.min(X)\n",
    "        fil_X = torch.where(X>30, X, min_X-1)\n",
    "        # fil_X = torch.tensor([ele[0] if ele[0]>30 else min_X -1  for ele in X[0]])\n",
    "        \n",
    "        count_less = torch.sum((fil_X < 0.99*self.w).double()) - num_lowest\n",
    "        count_equal = torch.sum((torch.abs(fil_X-self.w)<=torch.abs(0.01*self.w)).double())\n",
    "        half_len = torch.floor(torch.div(num_fil_X, 2))\n",
    "\n",
    "        # not support modulo yet\n",
    "        less_cons = count_less<half_len+2*(num_fil_X/2 - torch.floor(num_fil_X/2))\n",
    "        more_cons = count_less+count_equal>half_len\n",
    "\n",
    "        # For count_equal == 0 --> imply even length for sure\n",
    "        lower_exist = torch.sum((torch.abs(fil_X-self.lower)<=torch.abs(0.01*self.lower)).double())>0\n",
    "        lower_cons = torch.sum((fil_X>1.01*self.lower).double())==half_len\n",
    "        upper_exist = torch.sum((torch.abs(fil_X-self.upper)<=torch.abs(0.01*self.upper)).double())>0\n",
    "        upper_cons = torch.sum((fil_X<0.99*self.upper).double()) - num_lowest==half_len\n",
    "        bound = count_less==half_len\n",
    "        # 0.02 since 2*0.01\n",
    "        bound_avg = (torch.abs(self.lower+self.upper-2*self.w)<=torch.abs(0.02*self.w))\n",
    "\n",
    "        median_in_cons = torch.logical_and(less_cons, more_cons)\n",
    "        median_out_cons = torch.logical_and(torch.logical_and(bound, bound_avg), torch.logical_and(torch.logical_and(lower_cons, upper_cons), torch.logical_and(lower_exist, upper_exist)))\n",
    "        \n",
    "        return(torch.where(count_equal==0, median_out_cons, median_in_cons), self.w)\n",
    "\n",
    "prover_gen_settings([data_path], comb_data_path, prover_model,prover_model_path, [2], \"resources\", settings_path)"
   ]
  },
  {
   "cell_type": "code",
   "execution_count": 13,
   "metadata": {},
   "outputs": [
    {
     "name": "stderr",
     "output_type": "stream",
     "text": [
      "spawning module 0\n",
      "spawning module 2\n"
     ]
    },
    {
     "name": "stdout",
     "output_type": "stream",
     "text": [
      "==== setting up ezkl ====\n"
     ]
    },
    {
     "name": "stderr",
     "output_type": "stream",
     "text": [
      "spawning module 0\n",
      "spawning module 2\n"
     ]
    },
    {
     "name": "stdout",
     "output_type": "stream",
     "text": [
      "Time setup: 2.083611011505127 seconds\n",
      "=======================================\n",
      "Theory output:  tensor(51., dtype=torch.float64)\n",
      "!@# compiled_model exists? True\n",
      "!@# compiled_model exists? True\n",
      "==== Generating Witness ====\n",
      "witness boolean:  1.0\n",
      "witness result 1 : 51.0\n",
      "==== Generating Proof ====\n"
     ]
    },
    {
     "name": "stderr",
     "output_type": "stream",
     "text": [
      "spawning module 0\n",
      "spawning module 2\n"
     ]
    },
    {
     "name": "stdout",
     "output_type": "stream",
     "text": [
      "proof:  {'instances': [[[1780239215148830498, 13236513277824664467, 10913529727158264423, 131860697733488968], [12436184717236109307, 3962172157175319849, 7381016538464732718, 1011752739694698287], [16329468921151224777, 10175872942536559546, 2714029846925971291, 664661156343181352]]], 'proof': '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', 'transcript_type': 'EVM'}\n",
      "Time gen prf: 3.9971389770507812 seconds\n"
     ]
    }
   ],
   "source": [
    "# Here verifier & prover can concurrently call setup since all params are public to get pk. \n",
    "# Here write as verifier function to emphasize that verifier must calculate its own vk to be sure\n",
    "verifier_setup(verifier_model_path, verifier_compiled_model_path, settings_path,vk_path, pk_path )\n",
    "\n",
    "print(\"=======================================\")\n",
    "# Prover generates proof\n",
    "print(\"Theory output: \", theory_output)\n",
    "prover_gen_proof(prover_model_path, comb_data_path, witness_path, prover_compiled_model_path, settings_path, proof_path, pk_path)"
   ]
  },
  {
   "cell_type": "code",
   "execution_count": 14,
   "metadata": {},
   "outputs": [
    {
     "name": "stdout",
     "output_type": "stream",
     "text": [
      "num_inputs:  1\n",
      "prf instances:  [[[1780239215148830498, 13236513277824664467, 10913529727158264423, 131860697733488968], [12436184717236109307, 3962172157175319849, 7381016538464732718, 1011752739694698287], [16329468921151224777, 10175872942536559546, 2714029846925971291, 664661156343181352]]]\n",
      "proof boolean:  1.0\n",
      "proof result 1 : 51.0\n",
      "verified\n"
     ]
    }
   ],
   "source": [
    "# Verifier verifies\n",
    "verifier_verify(proof_path, settings_path, vk_path)"
   ]
  },
  {
   "cell_type": "code",
   "execution_count": null,
   "metadata": {},
   "outputs": [],
   "source": []
  }
 ],
 "metadata": {
  "kernelspec": {
   "display_name": "Python 3",
   "language": "python",
   "name": "python3"
  },
  "language_info": {
   "codemirror_mode": {
    "name": "ipython",
    "version": 3
   },
   "file_extension": ".py",
   "mimetype": "text/x-python",
   "name": "python",
   "nbconvert_exporter": "python",
   "pygments_lexer": "ipython3",
   "version": "3.10.0"
  },
  "orig_nbformat": 4
 },
 "nbformat": 4,
 "nbformat_minor": 2
}
