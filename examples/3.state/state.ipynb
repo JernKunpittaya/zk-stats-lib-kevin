{
 "cells": [
  {
   "cell_type": "code",
   "execution_count": 1,
   "metadata": {},
   "outputs": [],
   "source": [
    "import ezkl\n",
    "import torch\n",
    "from torch import nn\n",
    "import json\n",
    "import os\n",
    "import time\n",
    "import scipy\n",
    "import numpy as np\n",
    "import matplotlib.pyplot as plt\n",
    "import statistics\n",
    "import math"
   ]
  },
  {
   "cell_type": "code",
   "execution_count": 2,
   "metadata": {},
   "outputs": [],
   "source": [
    "from zkstats.core import create_dummy, verifier_define_calculation,prover_gen_settings, setup, prover_gen_proof, verifier_verify, generate_data_commitment"
   ]
  },
  {
   "attachments": {},
   "cell_type": "markdown",
   "metadata": {},
   "source": []
  },
  {
   "cell_type": "code",
   "execution_count": 3,
   "metadata": {},
   "outputs": [],
   "source": [
    "# init path\n",
    "os.makedirs(os.path.dirname('shared/'), exist_ok=True)\n",
    "os.makedirs(os.path.dirname('prover/'), exist_ok=True)\n",
    "verifier_model_path = os.path.join('shared/verifier.onnx')\n",
    "prover_model_path = os.path.join('prover/prover.onnx')\n",
    "verifier_compiled_model_path = os.path.join('shared/verifier.compiled')\n",
    "prover_compiled_model_path = os.path.join('prover/prover.compiled')\n",
    "pk_path = os.path.join('shared/test.pk')\n",
    "vk_path = os.path.join('shared/test.vk')\n",
    "proof_path = os.path.join('shared/test.pf')\n",
    "settings_path = os.path.join('shared/settings.json')\n",
    "srs_path = os.path.join('shared/kzg.srs')\n",
    "witness_path = os.path.join('prover/witness.json')\n",
    "# this is private to prover since it contains actual data\n",
    "sel_data_path = os.path.join('prover/sel_data.json')\n",
    "# this is just dummy random value\n",
    "sel_dummy_data_path = os.path.join('shared/sel_dummy_data.json')\n",
    "data_commitment_path = os.path.join('shared/data_commitment.json')\n",
    "precal_witness_path = os.path.join('shared/precal_witness_arr.json')"
   ]
  },
  {
   "attachments": {},
   "cell_type": "markdown",
   "metadata": {},
   "source": [
    "=======================  ZK-STATS FLOW ======================="
   ]
  },
  {
   "attachments": {},
   "cell_type": "markdown",
   "metadata": {},
   "source": [
    "## Step 1\n",
    "Here're just a preparatory phase for prover\n",
    "- Create dummy data associated with their dataset for verifier to use for generating onnx model.\n",
    "- Generate data commitment for their dataset."
   ]
  },
  {
   "cell_type": "code",
   "execution_count": 4,
   "metadata": {},
   "outputs": [],
   "source": [
    "data_path = os.path.join('data.json')\n",
    "dummy_data_path = os.path.join('shared/dummy_data.json')\n",
    "\n",
    "create_dummy(data_path, dummy_data_path)"
   ]
  },
  {
   "cell_type": "code",
   "execution_count": 5,
   "metadata": {},
   "outputs": [],
   "source": [
    "scales = [2]\n",
    "selected_columns = ['x', 'y']\n",
    "generate_data_commitment(data_path, scales, data_commitment_path)"
   ]
  },
  {
   "attachments": {},
   "cell_type": "markdown",
   "metadata": {},
   "source": [
    "## Step 2\n",
    "- User (Verifier) defines their computation in a function with signature `computation(state: State, x: list[torch.Tensor])`.\n",
    "- Prover calls `computation_to_model()` to derive the actual model.\n",
    "- Prover calls `prover_gen_settings`: export onnx file and compute the settings required by `ezkl.calibrate_settings`, while also export `precal_witness_arr.json` which is the constant witness needed for verifier to generate the same onnx."
   ]
  },
  {
   "cell_type": "code",
   "execution_count": 6,
   "metadata": {},
   "outputs": [
    {
     "name": "stderr",
     "output_type": "stream",
     "text": [
      "/Users/jernkun/Desktop/zk-stats-lib/zkstats/computation.py:249: TracerWarning: torch.tensor results are registered as constants in the trace. You can safely ignore this warning if you use this function to create tensors out of constant variables that would be the same every time you call this function. In any other case, this might cause the trace to be incorrect.\n",
      "  is_precise_aggregated = torch.tensor(1.0)\n",
      "/Users/jernkun/Library/Caches/pypoetry/virtualenvs/zkstats-OJpceffF-py3.11/lib/python3.11/site-packages/torch/onnx/symbolic_opset9.py:2174: FutureWarning: 'torch.onnx.symbolic_opset9._cast_Bool' is deprecated in version 2.0 and will be removed in the future. Please Avoid using this function and create a Cast node instead.\n",
      "  return fn(g, to_cast_func(g, input, False), to_cast_func(g, other, False))\n",
      "/Users/jernkun/Library/Caches/pypoetry/virtualenvs/zkstats-OJpceffF-py3.11/lib/python3.11/site-packages/torch/onnx/utils.py:1703: UserWarning: The exported ONNX model failed ONNX shape inference. The model will not be executable by the ONNX Runtime. If this is unintended and you believe there is a bug, please report an issue at https://github.com/pytorch/pytorch/issues. Error reported by strict ONNX shape inference: [ShapeInferenceError] (op_type:Where, node name: /Where_17): Y has inconsistent type tensor(float) (Triggered internally at /Users/runner/work/pytorch/pytorch/pytorch/torch/csrc/jit/serialization/export.cpp:1490.)\n",
      "  _C._check_onnx_proto(proto)\n"
     ]
    },
    {
     "name": "stdout",
     "output_type": "stream",
     "text": [
      "==== Generate & Calibrate Setting ====\n"
     ]
    },
    {
     "name": "stderr",
     "output_type": "stream",
     "text": [
      "\n",
      "\n",
      " <------------- Numerical Fidelity Report (input_scale: 2, param_scale: 2, scale_input_multiplier: 10) ------------->\n",
      "\n",
      "+-------------+--------------+-------------+-----------+----------------+------------------+---------------+---------------+--------------------+--------------------+------------------------+\n",
      "| mean_error  | median_error | max_error   | min_error | mean_abs_error | median_abs_error | max_abs_error | min_abs_error | mean_squared_error | mean_percent_error | mean_abs_percent_error |\n",
      "+-------------+--------------+-------------+-----------+----------------+------------------+---------------+---------------+--------------------+--------------------+------------------------+\n",
      "| 0.012500048 | 0.025000095  | 0.025000095 | 0         | 0.012500048    | 0.025000095      | 0.025000095   | 0             | 0.00031250238      | 0.0038168083       | 0.0038168083           |\n",
      "+-------------+--------------+-------------+-----------+----------------+------------------+---------------+---------------+--------------------+--------------------+------------------------+\n",
      "\n",
      "\n"
     ]
    },
    {
     "name": "stdout",
     "output_type": "stream",
     "text": [
      "scale:  [2]\n",
      "setting:  {\"run_args\":{\"tolerance\":{\"val\":0.0,\"scale\":1.0},\"input_scale\":2,\"param_scale\":2,\"scale_rebase_multiplier\":10,\"lookup_range\":[-56,64],\"logrows\":12,\"num_inner_cols\":2,\"variables\":[[\"batch_size\",1]],\"input_visibility\":{\"Hashed\":{\"hash_is_public\":true,\"outlets\":[]}},\"output_visibility\":\"Public\",\"param_visibility\":\"Private\",\"div_rebasing\":false,\"rebase_frac_zero_constants\":false,\"check_mode\":\"UNSAFE\"},\"num_rows\":2624,\"total_assignments\":1316,\"total_const_size\":281,\"model_instance_shapes\":[[1],[1]],\"model_output_scales\":[0,2],\"model_input_scales\":[2,2],\"module_sizes\":{\"kzg\":[],\"poseidon\":[2624,[2]]},\"required_lookups\":[{\"Floor\":{\"scale\":8.0}},{\"GreaterThan\":{\"a\":0.0}},\"ReLU\",\"Abs\"],\"required_range_checks\":[],\"check_mode\":\"UNSAFE\",\"version\":\"9.1.0\",\"num_blinding_factors\":null,\"timestamp\":1715672107649}\n"
     ]
    }
   ],
   "source": [
    "from zkstats.computation import State, computation_to_model\n",
    "\n",
    "\n",
    "def computation(state: State, x: list[torch.Tensor]):\n",
    "    out_0 = state.median(x[0])\n",
    "    out_1 = state.median(x[1])\n",
    "    return state.mean(torch.cat((out_0.unsqueeze(0), out_1.unsqueeze(0))).reshape(1,-1,1))\n",
    "\n",
    "error = 0.01\n",
    "\n",
    "_, prover_model = computation_to_model(computation,precal_witness_path, True, error )\n",
    "prover_gen_settings(data_path, selected_columns, sel_data_path, prover_model, prover_model_path, scales, \"resources\", settings_path)\n"
   ]
  },
  {
   "attachments": {},
   "cell_type": "markdown",
   "metadata": {},
   "source": [
    "## Step 3\n",
    "- User (Verifier) gets `precal_witness_arr.json`, and generate the same onnx format with same parameter."
   ]
  },
  {
   "cell_type": "code",
   "execution_count": 7,
   "metadata": {},
   "outputs": [],
   "source": [
    "_, verifier_model = computation_to_model(computation, precal_witness_path, False,error)\n",
    "verifier_define_calculation(dummy_data_path, selected_columns, sel_dummy_data_path,verifier_model, verifier_model_path)"
   ]
  },
  {
   "attachments": {},
   "cell_type": "markdown",
   "metadata": {},
   "source": [
    "## Step 4\n",
    "- Verifier sets up vk, pk.\n",
    "- Prover generates proof with `prover_gen_proof`\n"
   ]
  },
  {
   "cell_type": "code",
   "execution_count": 8,
   "metadata": {},
   "outputs": [
    {
     "name": "stdout",
     "output_type": "stream",
     "text": [
      "==== setting up ezkl ====\n",
      "Time setup: 0.5770092010498047 seconds\n",
      "=======================================\n",
      "==== Generating Witness ====\n",
      "witness boolean:  1.0\n",
      "witness result 1 : 3.25\n",
      "==== Generating Proof ====\n",
      "proof:  {'instances': [['cde936180fb7e379a578309232773e02b017d59f9001712b917a148b525d7b19', 'a38c8628cd223f38f854eade2722b8dd09b5797a0408398dd3d5160b6584e90b', '0100000000000000000000000000000000000000000000000000000000000000', '0d00000000000000000000000000000000000000000000000000000000000000']], 'proof': '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', 'transcript_type': 'EVM'}\n",
      "Time gen prf: 0.7872781753540039 seconds\n"
     ]
    }
   ],
   "source": [
    "# Here verifier & prover can concurrently call setup since all params are public to get pk.\n",
    "# Here write as verifier function to emphasize that verifier must calculate its own vk to be sure\n",
    "setup(verifier_model_path, verifier_compiled_model_path, settings_path, vk_path, pk_path )\n",
    "\n",
    "print(\"=======================================\")\n",
    "# Prover generates proof\n",
    "# print(\"Theory output: \", theory_output)\n",
    "prover_gen_proof(prover_model_path, sel_data_path, witness_path, prover_compiled_model_path, settings_path, proof_path, pk_path)"
   ]
  },
  {
   "cell_type": "code",
   "execution_count": 9,
   "metadata": {},
   "outputs": [
    {
     "data": {
      "text/plain": [
       "[3.25]"
      ]
     },
     "execution_count": 9,
     "metadata": {},
     "output_type": "execute_result"
    }
   ],
   "source": [
    "# Verifier verifies\n",
    "verifier_verify(proof_path, settings_path, vk_path, selected_columns, data_commitment_path)"
   ]
  },
  {
   "cell_type": "code",
   "execution_count": null,
   "metadata": {},
   "outputs": [],
   "source": []
  }
 ],
 "metadata": {
  "kernelspec": {
   "display_name": "Python 3",
   "language": "python",
   "name": "python3"
  },
  "language_info": {
   "codemirror_mode": {
    "name": "ipython",
    "version": 3
   },
   "file_extension": ".py",
   "mimetype": "text/x-python",
   "name": "python",
   "nbconvert_exporter": "python",
   "pygments_lexer": "ipython3",
   "version": "3.11.4"
  },
  "orig_nbformat": 4
 },
 "nbformat": 4,
 "nbformat_minor": 2
}
