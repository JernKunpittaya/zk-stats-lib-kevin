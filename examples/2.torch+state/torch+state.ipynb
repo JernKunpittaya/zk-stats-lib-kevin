{
 "cells": [
  {
   "cell_type": "code",
   "execution_count": 1,
   "metadata": {},
   "outputs": [],
   "source": [
    "import ezkl\n",
    "import torch\n",
    "from torch import nn\n",
    "import json\n",
    "import os\n",
    "import time\n",
    "import scipy\n",
    "import numpy as np\n",
    "import matplotlib.pyplot as plt\n",
    "import statistics\n",
    "import math"
   ]
  },
  {
   "cell_type": "code",
   "execution_count": 2,
   "metadata": {},
   "outputs": [],
   "source": [
    "from zkstats.core import create_dummy, verifier_define_calculation,prover_gen_settings, setup, prover_gen_proof, verifier_verify, generate_data_commitment"
   ]
  },
  {
   "attachments": {},
   "cell_type": "markdown",
   "metadata": {},
   "source": []
  },
  {
   "cell_type": "code",
   "execution_count": 3,
   "metadata": {},
   "outputs": [],
   "source": [
    "# init path\n",
    "os.makedirs(os.path.dirname('shared/'), exist_ok=True)\n",
    "os.makedirs(os.path.dirname('prover/'), exist_ok=True)\n",
    "verifier_model_path = os.path.join('shared/verifier.onnx')\n",
    "prover_model_path = os.path.join('prover/prover.onnx')\n",
    "verifier_compiled_model_path = os.path.join('shared/verifier.compiled')\n",
    "prover_compiled_model_path = os.path.join('prover/prover.compiled')\n",
    "pk_path = os.path.join('shared/test.pk')\n",
    "vk_path = os.path.join('shared/test.vk')\n",
    "proof_path = os.path.join('shared/test.pf')\n",
    "settings_path = os.path.join('shared/settings.json')\n",
    "srs_path = os.path.join('shared/kzg.srs')\n",
    "witness_path = os.path.join('prover/witness.json')\n",
    "# this is private to prover since it contains actual data\n",
    "sel_data_path = os.path.join('prover/sel_data.json')\n",
    "# this is just dummy random value\n",
    "sel_dummy_data_path = os.path.join('shared/sel_dummy_data.json')\n",
    "data_commitment_path = os.path.join('shared/data_commitment.json')\n",
    "precal_witness_path = os.path.join('shared/precal_witness_arr.json')"
   ]
  },
  {
   "attachments": {},
   "cell_type": "markdown",
   "metadata": {},
   "source": [
    "=======================  ZK-STATS FLOW ======================="
   ]
  },
  {
   "attachments": {},
   "cell_type": "markdown",
   "metadata": {},
   "source": [
    "## Step 1\n",
    "Here're just a preparatory phase for prover\n",
    "- Create dummy data associated with their dataset for verifier to use for generating onnx model.\n",
    "- Generate data commitment for their dataset."
   ]
  },
  {
   "cell_type": "code",
   "execution_count": 4,
   "metadata": {},
   "outputs": [],
   "source": [
    "data_path = os.path.join('data.json')\n",
    "dummy_data_path = os.path.join('shared/dummy_data.json')\n",
    "\n",
    "create_dummy(data_path, dummy_data_path)"
   ]
  },
  {
   "cell_type": "code",
   "execution_count": 5,
   "metadata": {},
   "outputs": [],
   "source": [
    "scales = [2]\n",
    "selected_columns = ['x', 'y']\n",
    "generate_data_commitment(data_path, scales, data_commitment_path)"
   ]
  },
  {
   "attachments": {},
   "cell_type": "markdown",
   "metadata": {},
   "source": [
    "## Step 2\n",
    "- User (Verifier) defines their computation in a function with signature `computation(state: State, x: list[torch.Tensor])`.\n",
    "- Prover calls `computation_to_model()` to derive the actual model.\n",
    "- Prover calls `prover_gen_settings`: export onnx file and compute the settings required by `ezkl.calibrate_settings`, while also export `precal_witness_arr.json` which is the constant witness needed for verifier to generate the same onnx."
   ]
  },
  {
   "cell_type": "code",
   "execution_count": 6,
   "metadata": {},
   "outputs": [
    {
     "name": "stderr",
     "output_type": "stream",
     "text": [
      "/Users/jernkun/Desktop/zk-stats-lib/zkstats/computation.py:249: TracerWarning: torch.tensor results are registered as constants in the trace. You can safely ignore this warning if you use this function to create tensors out of constant variables that would be the same every time you call this function. In any other case, this might cause the trace to be incorrect.\n",
      "  is_precise_aggregated = torch.tensor(1.0)\n",
      "/Users/jernkun/Library/Caches/pypoetry/virtualenvs/zkstats-OJpceffF-py3.11/lib/python3.11/site-packages/torch/onnx/symbolic_opset9.py:2174: FutureWarning: 'torch.onnx.symbolic_opset9._cast_Bool' is deprecated in version 2.0 and will be removed in the future. Please Avoid using this function and create a Cast node instead.\n",
      "  return fn(g, to_cast_func(g, input, False), to_cast_func(g, other, False))\n",
      "/Users/jernkun/Library/Caches/pypoetry/virtualenvs/zkstats-OJpceffF-py3.11/lib/python3.11/site-packages/torch/onnx/utils.py:1703: UserWarning: The exported ONNX model failed ONNX shape inference. The model will not be executable by the ONNX Runtime. If this is unintended and you believe there is a bug, please report an issue at https://github.com/pytorch/pytorch/issues. Error reported by strict ONNX shape inference: [ShapeInferenceError] (op_type:Where, node name: /Where_10): Y has inconsistent type tensor(float) (Triggered internally at /Users/runner/work/pytorch/pytorch/pytorch/torch/csrc/jit/serialization/export.cpp:1490.)\n",
      "  _C._check_onnx_proto(proto)\n"
     ]
    },
    {
     "name": "stdout",
     "output_type": "stream",
     "text": [
      "==== Generate & Calibrate Setting ====\n"
     ]
    },
    {
     "name": "stderr",
     "output_type": "stream",
     "text": [
      "\n",
      "\n",
      " <------------- Numerical Fidelity Report (input_scale: 2, param_scale: 2, scale_input_multiplier: 10) ------------->\n",
      "\n",
      "+-------------+--------------+-------------+-----------+----------------+------------------+---------------+---------------+--------------------+--------------------+------------------------+\n",
      "| mean_error  | median_error | max_error   | min_error | mean_abs_error | median_abs_error | max_abs_error | min_abs_error | mean_squared_error | mean_percent_error | mean_abs_percent_error |\n",
      "+-------------+--------------+-------------+-----------+----------------+------------------+---------------+---------------+--------------------+--------------------+------------------------+\n",
      "| 0.012499809 | 0.024999619  | 0.024999619 | 0         | 0.012499809    | 0.024999619      | 0.024999619   | 0             | 0.00031249048      | 0.0009979887       | 0.0009979887           |\n",
      "+-------------+--------------+-------------+-----------+----------------+------------------+---------------+---------------+--------------------+--------------------+------------------------+\n",
      "\n",
      "\n"
     ]
    },
    {
     "name": "stdout",
     "output_type": "stream",
     "text": [
      "scale:  [2]\n",
      "setting:  {\"run_args\":{\"tolerance\":{\"val\":0.0,\"scale\":1.0},\"input_scale\":2,\"param_scale\":2,\"scale_rebase_multiplier\":10,\"lookup_range\":[-56,64],\"logrows\":12,\"num_inner_cols\":2,\"variables\":[[\"batch_size\",1]],\"input_visibility\":{\"Hashed\":{\"hash_is_public\":true,\"outlets\":[]}},\"output_visibility\":\"Public\",\"param_visibility\":\"Private\",\"div_rebasing\":false,\"rebase_frac_zero_constants\":false,\"check_mode\":\"UNSAFE\"},\"num_rows\":2624,\"total_assignments\":812,\"total_const_size\":168,\"model_instance_shapes\":[[1],[1]],\"model_output_scales\":[0,2],\"model_input_scales\":[2,2],\"module_sizes\":{\"kzg\":[],\"poseidon\":[2624,[2]]},\"required_lookups\":[{\"GreaterThan\":{\"a\":0.0}},\"ReLU\",\"Abs\",{\"Floor\":{\"scale\":8.0}}],\"required_range_checks\":[],\"check_mode\":\"UNSAFE\",\"version\":\"9.1.0\",\"num_blinding_factors\":null,\"timestamp\":1715672095084}\n"
     ]
    }
   ],
   "source": [
    "from zkstats.computation import State, computation_to_model\n",
    "\n",
    "\n",
    "def computation(state: State, x: list[torch.Tensor]):\n",
    "    out_0 = torch.sum(x[0])\n",
    "    out_1 = state.median(x[1])\n",
    "    return state.mean(torch.cat((out_0.unsqueeze(0), out_1.unsqueeze(0))).reshape(1,-1,1))\n",
    "\n",
    "error = 0.01\n",
    "\n",
    "_, prover_model = computation_to_model(computation,precal_witness_path, True, error )\n",
    "prover_gen_settings(data_path, selected_columns, sel_data_path, prover_model, prover_model_path, scales, \"resources\", settings_path)\n"
   ]
  },
  {
   "attachments": {},
   "cell_type": "markdown",
   "metadata": {},
   "source": [
    "## Step 3\n",
    "- User (Verifier) gets `precal_witness_arr.json`, and generate the same onnx format with same parameter."
   ]
  },
  {
   "cell_type": "code",
   "execution_count": 7,
   "metadata": {},
   "outputs": [],
   "source": [
    "_, verifier_model = computation_to_model(computation, precal_witness_path, False,error)\n",
    "verifier_define_calculation(dummy_data_path, selected_columns, sel_dummy_data_path,verifier_model, verifier_model_path)"
   ]
  },
  {
   "attachments": {},
   "cell_type": "markdown",
   "metadata": {},
   "source": [
    "## Step 4\n",
    "- Verifier sets up vk, pk.\n",
    "- Prover generates proof with `prover_gen_proof`\n"
   ]
  },
  {
   "cell_type": "code",
   "execution_count": 8,
   "metadata": {},
   "outputs": [
    {
     "name": "stdout",
     "output_type": "stream",
     "text": [
      "==== setting up ezkl ====\n",
      "Time setup: 0.6220359802246094 seconds\n",
      "=======================================\n",
      "==== Generating Witness ====\n",
      "witness boolean:  1.0\n",
      "witness result 1 : 12.5\n",
      "==== Generating Proof ====\n",
      "proof:  {'instances': [['cde936180fb7e379a578309232773e02b017d59f9001712b917a148b525d7b19', 'a38c8628cd223f38f854eade2722b8dd09b5797a0408398dd3d5160b6584e90b', '0100000000000000000000000000000000000000000000000000000000000000', '3200000000000000000000000000000000000000000000000000000000000000']], 'proof': '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', 'transcript_type': 'EVM'}\n",
      "Time gen prf: 0.7742421627044678 seconds\n"
     ]
    }
   ],
   "source": [
    "# Here verifier & prover can concurrently call setup since all params are public to get pk.\n",
    "# Here write as verifier function to emphasize that verifier must calculate its own vk to be sure\n",
    "setup(verifier_model_path, verifier_compiled_model_path, settings_path, vk_path, pk_path )\n",
    "\n",
    "print(\"=======================================\")\n",
    "# Prover generates proof\n",
    "# print(\"Theory output: \", theory_output)\n",
    "prover_gen_proof(prover_model_path, sel_data_path, witness_path, prover_compiled_model_path, settings_path, proof_path, pk_path)"
   ]
  },
  {
   "cell_type": "code",
   "execution_count": 9,
   "metadata": {},
   "outputs": [
    {
     "data": {
      "text/plain": [
       "[12.5]"
      ]
     },
     "execution_count": 9,
     "metadata": {},
     "output_type": "execute_result"
    }
   ],
   "source": [
    "# Verifier verifies\n",
    "verifier_verify(proof_path, settings_path, vk_path, selected_columns, data_commitment_path)"
   ]
  },
  {
   "cell_type": "code",
   "execution_count": null,
   "metadata": {},
   "outputs": [],
   "source": []
  }
 ],
 "metadata": {
  "kernelspec": {
   "display_name": "Python 3",
   "language": "python",
   "name": "python3"
  },
  "language_info": {
   "codemirror_mode": {
    "name": "ipython",
    "version": 3
   },
   "file_extension": ".py",
   "mimetype": "text/x-python",
   "name": "python",
   "nbconvert_exporter": "python",
   "pygments_lexer": "ipython3",
   "version": "3.11.4"
  },
  "orig_nbformat": 4
 },
 "nbformat": 4,
 "nbformat_minor": 2
}
