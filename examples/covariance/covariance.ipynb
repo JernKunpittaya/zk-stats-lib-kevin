{
 "cells": [
  {
   "cell_type": "code",
   "execution_count": 1,
   "metadata": {},
   "outputs": [
    {
     "name": "stdout",
     "output_type": "stream",
     "text": [
      "Requirement already satisfied: ezkl==7.0.0 in /Users/jernkun/Library/Caches/pypoetry/virtualenvs/zkstats-OJpceffF-py3.11/lib/python3.11/site-packages (from -r ../../requirements.txt (line 1)) (7.0.0)\n",
      "Requirement already satisfied: torch in /Users/jernkun/Library/Caches/pypoetry/virtualenvs/zkstats-OJpceffF-py3.11/lib/python3.11/site-packages (from -r ../../requirements.txt (line 2)) (2.2.0)\n",
      "Requirement already satisfied: requests in /Users/jernkun/Library/Caches/pypoetry/virtualenvs/zkstats-OJpceffF-py3.11/lib/python3.11/site-packages (from -r ../../requirements.txt (line 3)) (2.31.0)\n",
      "Requirement already satisfied: scipy in /Users/jernkun/Library/Caches/pypoetry/virtualenvs/zkstats-OJpceffF-py3.11/lib/python3.11/site-packages (from -r ../../requirements.txt (line 4)) (1.12.0)\n",
      "Requirement already satisfied: numpy in /Users/jernkun/Library/Caches/pypoetry/virtualenvs/zkstats-OJpceffF-py3.11/lib/python3.11/site-packages (from -r ../../requirements.txt (line 5)) (1.26.3)\n",
      "Requirement already satisfied: matplotlib in /Users/jernkun/Library/Caches/pypoetry/virtualenvs/zkstats-OJpceffF-py3.11/lib/python3.11/site-packages (from -r ../../requirements.txt (line 6)) (3.8.2)\n",
      "Requirement already satisfied: statistics in /Users/jernkun/Library/Caches/pypoetry/virtualenvs/zkstats-OJpceffF-py3.11/lib/python3.11/site-packages (from -r ../../requirements.txt (line 7)) (1.0.3.5)\n",
      "Requirement already satisfied: onnx in /Users/jernkun/Library/Caches/pypoetry/virtualenvs/zkstats-OJpceffF-py3.11/lib/python3.11/site-packages (from -r ../../requirements.txt (line 8)) (1.15.0)\n",
      "Requirement already satisfied: filelock in /Users/jernkun/Library/Caches/pypoetry/virtualenvs/zkstats-OJpceffF-py3.11/lib/python3.11/site-packages (from torch->-r ../../requirements.txt (line 2)) (3.13.1)\n",
      "Requirement already satisfied: typing-extensions>=4.8.0 in /Users/jernkun/Library/Caches/pypoetry/virtualenvs/zkstats-OJpceffF-py3.11/lib/python3.11/site-packages (from torch->-r ../../requirements.txt (line 2)) (4.9.0)\n",
      "Requirement already satisfied: sympy in /Users/jernkun/Library/Caches/pypoetry/virtualenvs/zkstats-OJpceffF-py3.11/lib/python3.11/site-packages (from torch->-r ../../requirements.txt (line 2)) (1.12)\n",
      "Requirement already satisfied: networkx in /Users/jernkun/Library/Caches/pypoetry/virtualenvs/zkstats-OJpceffF-py3.11/lib/python3.11/site-packages (from torch->-r ../../requirements.txt (line 2)) (3.2.1)\n",
      "Requirement already satisfied: jinja2 in /Users/jernkun/Library/Caches/pypoetry/virtualenvs/zkstats-OJpceffF-py3.11/lib/python3.11/site-packages (from torch->-r ../../requirements.txt (line 2)) (3.1.3)\n",
      "Requirement already satisfied: fsspec in /Users/jernkun/Library/Caches/pypoetry/virtualenvs/zkstats-OJpceffF-py3.11/lib/python3.11/site-packages (from torch->-r ../../requirements.txt (line 2)) (2023.12.2)\n",
      "Requirement already satisfied: charset-normalizer<4,>=2 in /Users/jernkun/Library/Caches/pypoetry/virtualenvs/zkstats-OJpceffF-py3.11/lib/python3.11/site-packages (from requests->-r ../../requirements.txt (line 3)) (3.3.2)\n",
      "Requirement already satisfied: idna<4,>=2.5 in /Users/jernkun/Library/Caches/pypoetry/virtualenvs/zkstats-OJpceffF-py3.11/lib/python3.11/site-packages (from requests->-r ../../requirements.txt (line 3)) (3.6)\n",
      "Requirement already satisfied: urllib3<3,>=1.21.1 in /Users/jernkun/Library/Caches/pypoetry/virtualenvs/zkstats-OJpceffF-py3.11/lib/python3.11/site-packages (from requests->-r ../../requirements.txt (line 3)) (2.2.0)\n",
      "Requirement already satisfied: certifi>=2017.4.17 in /Users/jernkun/Library/Caches/pypoetry/virtualenvs/zkstats-OJpceffF-py3.11/lib/python3.11/site-packages (from requests->-r ../../requirements.txt (line 3)) (2024.2.2)\n",
      "Requirement already satisfied: contourpy>=1.0.1 in /Users/jernkun/Library/Caches/pypoetry/virtualenvs/zkstats-OJpceffF-py3.11/lib/python3.11/site-packages (from matplotlib->-r ../../requirements.txt (line 6)) (1.2.0)\n",
      "Requirement already satisfied: cycler>=0.10 in /Users/jernkun/Library/Caches/pypoetry/virtualenvs/zkstats-OJpceffF-py3.11/lib/python3.11/site-packages (from matplotlib->-r ../../requirements.txt (line 6)) (0.12.1)\n",
      "Requirement already satisfied: fonttools>=4.22.0 in /Users/jernkun/Library/Caches/pypoetry/virtualenvs/zkstats-OJpceffF-py3.11/lib/python3.11/site-packages (from matplotlib->-r ../../requirements.txt (line 6)) (4.47.2)\n",
      "Requirement already satisfied: kiwisolver>=1.3.1 in /Users/jernkun/Library/Caches/pypoetry/virtualenvs/zkstats-OJpceffF-py3.11/lib/python3.11/site-packages (from matplotlib->-r ../../requirements.txt (line 6)) (1.4.5)\n",
      "Requirement already satisfied: packaging>=20.0 in /Users/jernkun/Library/Caches/pypoetry/virtualenvs/zkstats-OJpceffF-py3.11/lib/python3.11/site-packages (from matplotlib->-r ../../requirements.txt (line 6)) (23.2)\n",
      "Requirement already satisfied: pillow>=8 in /Users/jernkun/Library/Caches/pypoetry/virtualenvs/zkstats-OJpceffF-py3.11/lib/python3.11/site-packages (from matplotlib->-r ../../requirements.txt (line 6)) (10.2.0)\n",
      "Requirement already satisfied: pyparsing>=2.3.1 in /Users/jernkun/Library/Caches/pypoetry/virtualenvs/zkstats-OJpceffF-py3.11/lib/python3.11/site-packages (from matplotlib->-r ../../requirements.txt (line 6)) (3.1.1)\n",
      "Requirement already satisfied: python-dateutil>=2.7 in /Users/jernkun/Library/Caches/pypoetry/virtualenvs/zkstats-OJpceffF-py3.11/lib/python3.11/site-packages (from matplotlib->-r ../../requirements.txt (line 6)) (2.8.2)\n",
      "Requirement already satisfied: docutils>=0.3 in /Users/jernkun/Library/Caches/pypoetry/virtualenvs/zkstats-OJpceffF-py3.11/lib/python3.11/site-packages (from statistics->-r ../../requirements.txt (line 7)) (0.20.1)\n",
      "Requirement already satisfied: protobuf>=3.20.2 in /Users/jernkun/Library/Caches/pypoetry/virtualenvs/zkstats-OJpceffF-py3.11/lib/python3.11/site-packages (from onnx->-r ../../requirements.txt (line 8)) (4.25.2)\n",
      "Requirement already satisfied: six>=1.5 in /Users/jernkun/Library/Caches/pypoetry/virtualenvs/zkstats-OJpceffF-py3.11/lib/python3.11/site-packages (from python-dateutil>=2.7->matplotlib->-r ../../requirements.txt (line 6)) (1.16.0)\n",
      "Requirement already satisfied: MarkupSafe>=2.0 in /Users/jernkun/Library/Caches/pypoetry/virtualenvs/zkstats-OJpceffF-py3.11/lib/python3.11/site-packages (from jinja2->torch->-r ../../requirements.txt (line 2)) (2.1.4)\n",
      "Requirement already satisfied: mpmath>=0.19 in /Users/jernkun/Library/Caches/pypoetry/virtualenvs/zkstats-OJpceffF-py3.11/lib/python3.11/site-packages (from sympy->torch->-r ../../requirements.txt (line 2)) (1.3.0)\n",
      "\n",
      "\u001b[1m[\u001b[0m\u001b[34;49mnotice\u001b[0m\u001b[1;39;49m]\u001b[0m\u001b[39;49m A new release of pip is available: \u001b[0m\u001b[31;49m23.2.1\u001b[0m\u001b[39;49m -> \u001b[0m\u001b[32;49m24.0\u001b[0m\n",
      "\u001b[1m[\u001b[0m\u001b[34;49mnotice\u001b[0m\u001b[1;39;49m]\u001b[0m\u001b[39;49m To update, run: \u001b[0m\u001b[32;49mpip install --upgrade pip\u001b[0m\n",
      "Note: you may need to restart the kernel to use updated packages.\n"
     ]
    }
   ],
   "source": [
    "pip install -r ../../requirements.txt"
   ]
  },
  {
   "cell_type": "code",
   "execution_count": 2,
   "metadata": {},
   "outputs": [],
   "source": [
    "import ezkl\n",
    "import torch\n",
    "from torch import nn\n",
    "import json\n",
    "import os\n",
    "import time\n",
    "import scipy\n",
    "import numpy as np\n",
    "import matplotlib.pyplot as plt\n",
    "import statistics\n",
    "import math"
   ]
  },
  {
   "cell_type": "code",
   "execution_count": 3,
   "metadata": {},
   "outputs": [],
   "source": [
    "from zkstats.core import create_dummy, verifier_define_calculation, prover_gen_settings, setup, prover_gen_proof, verifier_verify, get_data_commitment_maps"
   ]
  },
  {
   "cell_type": "code",
   "execution_count": 4,
   "metadata": {},
   "outputs": [],
   "source": [
    "# init path\n",
    "os.makedirs(os.path.dirname('shared/'), exist_ok=True)\n",
    "os.makedirs(os.path.dirname('prover/'), exist_ok=True)\n",
    "verifier_model_path = os.path.join('shared/verifier.onnx')\n",
    "prover_model_path = os.path.join('prover/prover.onnx')\n",
    "verifier_compiled_model_path = os.path.join('shared/verifier.compiled')\n",
    "prover_compiled_model_path = os.path.join('prover/prover.compiled')\n",
    "pk_path = os.path.join('shared/test.pk')\n",
    "vk_path = os.path.join('shared/test.vk')\n",
    "proof_path = os.path.join('shared/test.pf')\n",
    "settings_path = os.path.join('shared/settings.json')\n",
    "srs_path = os.path.join('shared/kzg.srs')\n",
    "witness_path = os.path.join('prover/witness.json')\n",
    "# this is private to prover since it contains actual data\n",
    "sel_data_path = os.path.join('prover/sel_data.json')\n",
    "# this is just dummy random value\n",
    "sel_dummy_data_path = os.path.join('shared/sel_dummy_data.json')"
   ]
  },
  {
   "attachments": {},
   "cell_type": "markdown",
   "metadata": {},
   "source": [
    "=======================  ZK-STATS FLOW ======================="
   ]
  },
  {
   "cell_type": "code",
   "execution_count": 5,
   "metadata": {},
   "outputs": [],
   "source": [
    "data_path = os.path.join('data.json')\n",
    "dummy_data_path = os.path.join('shared/dummy_data.json')\n",
    "\n",
    "create_dummy(data_path, dummy_data_path)"
   ]
  },
  {
   "cell_type": "code",
   "execution_count": 6,
   "metadata": {},
   "outputs": [],
   "source": [
    "# note scale = 2, or 3 makes it more precise, but too big.\n",
    "scales = [0]\n",
    "selected_columns = ['x', 'y']\n",
    "commitment_maps = get_data_commitment_maps(data_path, scales)"
   ]
  },
  {
   "attachments": {},
   "cell_type": "markdown",
   "metadata": {},
   "source": []
  },
  {
   "cell_type": "code",
   "execution_count": 7,
   "metadata": {},
   "outputs": [
    {
     "name": "stderr",
     "output_type": "stream",
     "text": [
      "/Users/jernkun/Desktop/zk-stats-lib/zkstats/computation.py:166: TracerWarning: torch.tensor results are registered as constants in the trace. You can safely ignore this warning if you use this function to create tensors out of constant variables that would be the same every time you call this function. In any other case, this might cause the trace to be incorrect.\n",
      "  is_precise_aggregated = torch.tensor(1.0)\n",
      "/Users/jernkun/Library/Caches/pypoetry/virtualenvs/zkstats-OJpceffF-py3.11/lib/python3.11/site-packages/torch/onnx/symbolic_opset9.py:2174: FutureWarning: 'torch.onnx.symbolic_opset9._cast_Bool' is deprecated in version 2.0 and will be removed in the future. Please Avoid using this function and create a Cast node instead.\n",
      "  return fn(g, to_cast_func(g, input, False), to_cast_func(g, other, False))\n"
     ]
    }
   ],
   "source": [
    "# Verifier/ data consumer side:\n",
    "from zkstats.computation import computation_to_model, State\n",
    "\n",
    "def computation(s: State, data: list[torch.Tensor]) -> torch.Tensor:\n",
    "    x, y = data[0], data[1]\n",
    "    return s.covariance(x, y)\n",
    "\n",
    "error = 0.01\n",
    "_, verifier_model = computation_to_model(computation, error)\n",
    "\n",
    "\n",
    "verifier_define_calculation(dummy_data_path, selected_columns, sel_dummy_data_path,verifier_model, verifier_model_path)"
   ]
  },
  {
   "cell_type": "code",
   "execution_count": 8,
   "metadata": {},
   "outputs": [
    {
     "name": "stdout",
     "output_type": "stream",
     "text": [
      "==== Generate & Calibrate Setting ====\n",
      "scale:  [0]\n",
      "setting:  {\"run_args\":{\"tolerance\":{\"val\":0.0,\"scale\":1.0},\"input_scale\":0,\"param_scale\":0,\"scale_rebase_multiplier\":10,\"lookup_range\":[-448,6246],\"logrows\":14,\"num_inner_cols\":2,\"variables\":[[\"batch_size\",1]],\"input_visibility\":{\"Hashed\":{\"hash_is_public\":true,\"outlets\":[]}},\"output_visibility\":\"Public\",\"param_visibility\":\"Private\"},\"num_rows\":13120,\"total_assignments\":825,\"total_const_size\":8,\"model_instance_shapes\":[[1],[1]],\"model_output_scales\":[0,0],\"model_input_scales\":[0,0],\"module_sizes\":{\"kzg\":[],\"poseidon\":[13120,[2]],\"elgamal\":[0,[0]]},\"required_lookups\":[\"Abs\",{\"GreaterThan\":{\"a\":0.0}}],\"check_mode\":\"UNSAFE\",\"version\":\"7.0.0\",\"num_blinding_factors\":null}\n"
     ]
    }
   ],
   "source": [
    "# prover calculates settings, send to verifier\n",
    "_, prover_model = computation_to_model(computation, error)\n",
    "prover_gen_settings(data_path, selected_columns, sel_data_path, prover_model,prover_model_path, scales, \"resources\", settings_path)"
   ]
  },
  {
   "cell_type": "code",
   "execution_count": 9,
   "metadata": {},
   "outputs": [
    {
     "name": "stderr",
     "output_type": "stream",
     "text": [
      "spawning module 0\n",
      "spawning module 2\n"
     ]
    },
    {
     "name": "stdout",
     "output_type": "stream",
     "text": [
      "==== setting up ezkl ====\n"
     ]
    },
    {
     "name": "stderr",
     "output_type": "stream",
     "text": [
      "spawning module 0\n",
      "spawning module 2\n"
     ]
    },
    {
     "name": "stdout",
     "output_type": "stream",
     "text": [
      "Time setup: 3.4178340435028076 seconds\n",
      "=======================================\n",
      "==== Generating Witness ====\n",
      "witness boolean:  1.0\n",
      "witness result 1 : 3215.0\n",
      "==== Generating Proof ====\n"
     ]
    },
    {
     "name": "stderr",
     "output_type": "stream",
     "text": [
      "spawning module 0\n",
      "spawning module 2\n"
     ]
    },
    {
     "name": "stdout",
     "output_type": "stream",
     "text": [
      "proof:  {'instances': [[[14955570959218682635, 4667139652385906200, 12836539004462631467, 1774684518626433649], [4224417983558473805, 851357164555783563, 5363851773531956453, 1448631618362554917], [12436184717236109307, 3962172157175319849, 7381016538464732718, 1011752739694698287], [5743885005642251665, 3430503978676436355, 7149667244725939006, 2902673458086333540]]], 'proof': '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', 'transcript_type': 'EVM'}\n",
      "Time gen prf: 2.8889949321746826 seconds\n"
     ]
    }
   ],
   "source": [
    "# Here verifier & prover can concurrently call setup since all params are public to get pk.\n",
    "# Here write as verifier function to emphasize that verifier must calculate its own vk to be sure\n",
    "setup(verifier_model_path, verifier_compiled_model_path, settings_path,vk_path, pk_path )\n",
    "\n",
    "print(\"=======================================\")\n",
    "# Prover generates proof\n",
    "prover_gen_proof(prover_model_path, sel_data_path, witness_path, prover_compiled_model_path, settings_path, proof_path, pk_path)"
   ]
  },
  {
   "cell_type": "code",
   "execution_count": 11,
   "metadata": {},
   "outputs": [
    {
     "name": "stdout",
     "output_type": "stream",
     "text": [
      "Verifier gets result: [3215.0]\n"
     ]
    }
   ],
   "source": [
    "# Verifier verifies\n",
    "res = verifier_verify(proof_path, settings_path, vk_path, selected_columns, commitment_maps)\n",
    "print(\"Verifier gets result:\", res)"
   ]
  },
  {
   "cell_type": "code",
   "execution_count": null,
   "metadata": {},
   "outputs": [],
   "source": []
  }
 ],
 "metadata": {
  "kernelspec": {
   "display_name": "Python 3",
   "language": "python",
   "name": "python3"
  },
  "language_info": {
   "codemirror_mode": {
    "name": "ipython",
    "version": 3
   },
   "file_extension": ".py",
   "mimetype": "text/x-python",
   "name": "python",
   "nbconvert_exporter": "python",
   "pygments_lexer": "ipython3",
   "version": "3.11.4"
  },
  "orig_nbformat": 4
 },
 "nbformat": 4,
 "nbformat_minor": 2
}
