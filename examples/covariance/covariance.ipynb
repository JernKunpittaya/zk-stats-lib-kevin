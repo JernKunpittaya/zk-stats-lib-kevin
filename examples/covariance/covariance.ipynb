{
 "cells": [
  {
   "cell_type": "code",
   "execution_count": 1,
   "metadata": {},
   "outputs": [
    {
     "name": "stdout",
     "output_type": "stream",
     "text": [
      "Requirement already satisfied: ezkl==7.0.0 in /Library/Frameworks/Python.framework/Versions/3.10/lib/python3.10/site-packages (from -r ../../requirements.txt (line 1)) (7.0.0)\n",
      "Requirement already satisfied: torch in /Library/Frameworks/Python.framework/Versions/3.10/lib/python3.10/site-packages (from -r ../../requirements.txt (line 2)) (2.1.1)\n",
      "Requirement already satisfied: requests in /Library/Frameworks/Python.framework/Versions/3.10/lib/python3.10/site-packages (from -r ../../requirements.txt (line 3)) (2.31.0)\n",
      "Requirement already satisfied: scipy in /Library/Frameworks/Python.framework/Versions/3.10/lib/python3.10/site-packages (from -r ../../requirements.txt (line 4)) (1.11.4)\n",
      "Requirement already satisfied: numpy in /Library/Frameworks/Python.framework/Versions/3.10/lib/python3.10/site-packages (from -r ../../requirements.txt (line 5)) (1.26.2)\n",
      "Requirement already satisfied: matplotlib in /Library/Frameworks/Python.framework/Versions/3.10/lib/python3.10/site-packages (from -r ../../requirements.txt (line 6)) (3.8.2)\n",
      "Requirement already satisfied: statistics in /Library/Frameworks/Python.framework/Versions/3.10/lib/python3.10/site-packages (from -r ../../requirements.txt (line 7)) (1.0.3.5)\n",
      "Requirement already satisfied: onnx in /Library/Frameworks/Python.framework/Versions/3.10/lib/python3.10/site-packages (from -r ../../requirements.txt (line 8)) (1.15.0)\n",
      "Requirement already satisfied: jinja2 in /Library/Frameworks/Python.framework/Versions/3.10/lib/python3.10/site-packages (from torch->-r ../../requirements.txt (line 2)) (3.1.2)\n",
      "Requirement already satisfied: networkx in /Library/Frameworks/Python.framework/Versions/3.10/lib/python3.10/site-packages (from torch->-r ../../requirements.txt (line 2)) (3.2.1)\n",
      "Requirement already satisfied: filelock in /Library/Frameworks/Python.framework/Versions/3.10/lib/python3.10/site-packages (from torch->-r ../../requirements.txt (line 2)) (3.13.1)\n",
      "Requirement already satisfied: sympy in /Library/Frameworks/Python.framework/Versions/3.10/lib/python3.10/site-packages (from torch->-r ../../requirements.txt (line 2)) (1.12)\n",
      "Requirement already satisfied: typing-extensions in /Library/Frameworks/Python.framework/Versions/3.10/lib/python3.10/site-packages (from torch->-r ../../requirements.txt (line 2)) (4.8.0)\n",
      "Requirement already satisfied: fsspec in /Library/Frameworks/Python.framework/Versions/3.10/lib/python3.10/site-packages (from torch->-r ../../requirements.txt (line 2)) (2023.10.0)\n",
      "Requirement already satisfied: idna<4,>=2.5 in /Library/Frameworks/Python.framework/Versions/3.10/lib/python3.10/site-packages (from requests->-r ../../requirements.txt (line 3)) (3.6)\n",
      "Requirement already satisfied: urllib3<3,>=1.21.1 in /Library/Frameworks/Python.framework/Versions/3.10/lib/python3.10/site-packages (from requests->-r ../../requirements.txt (line 3)) (2.1.0)\n",
      "Requirement already satisfied: certifi>=2017.4.17 in /Library/Frameworks/Python.framework/Versions/3.10/lib/python3.10/site-packages (from requests->-r ../../requirements.txt (line 3)) (2023.11.17)\n",
      "Requirement already satisfied: charset-normalizer<4,>=2 in /Library/Frameworks/Python.framework/Versions/3.10/lib/python3.10/site-packages (from requests->-r ../../requirements.txt (line 3)) (3.3.2)\n",
      "Requirement already satisfied: packaging>=20.0 in /Users/jernkun/Library/Python/3.10/lib/python/site-packages (from matplotlib->-r ../../requirements.txt (line 6)) (23.2)\n",
      "Requirement already satisfied: cycler>=0.10 in /Library/Frameworks/Python.framework/Versions/3.10/lib/python3.10/site-packages (from matplotlib->-r ../../requirements.txt (line 6)) (0.12.1)\n",
      "Requirement already satisfied: kiwisolver>=1.3.1 in /Library/Frameworks/Python.framework/Versions/3.10/lib/python3.10/site-packages (from matplotlib->-r ../../requirements.txt (line 6)) (1.4.5)\n",
      "Requirement already satisfied: pillow>=8 in /Library/Frameworks/Python.framework/Versions/3.10/lib/python3.10/site-packages (from matplotlib->-r ../../requirements.txt (line 6)) (10.1.0)\n",
      "Requirement already satisfied: fonttools>=4.22.0 in /Library/Frameworks/Python.framework/Versions/3.10/lib/python3.10/site-packages (from matplotlib->-r ../../requirements.txt (line 6)) (4.45.1)\n",
      "Requirement already satisfied: python-dateutil>=2.7 in /Users/jernkun/Library/Python/3.10/lib/python/site-packages (from matplotlib->-r ../../requirements.txt (line 6)) (2.8.2)\n",
      "Requirement already satisfied: contourpy>=1.0.1 in /Library/Frameworks/Python.framework/Versions/3.10/lib/python3.10/site-packages (from matplotlib->-r ../../requirements.txt (line 6)) (1.2.0)\n",
      "Requirement already satisfied: pyparsing>=2.3.1 in /Library/Frameworks/Python.framework/Versions/3.10/lib/python3.10/site-packages (from matplotlib->-r ../../requirements.txt (line 6)) (3.1.1)\n",
      "Requirement already satisfied: docutils>=0.3 in /Library/Frameworks/Python.framework/Versions/3.10/lib/python3.10/site-packages (from statistics->-r ../../requirements.txt (line 7)) (0.20.1)\n",
      "Requirement already satisfied: protobuf>=3.20.2 in /Library/Frameworks/Python.framework/Versions/3.10/lib/python3.10/site-packages (from onnx->-r ../../requirements.txt (line 8)) (4.25.1)\n",
      "Requirement already satisfied: six>=1.5 in /Users/jernkun/Library/Python/3.10/lib/python/site-packages (from python-dateutil>=2.7->matplotlib->-r ../../requirements.txt (line 6)) (1.16.0)\n",
      "Requirement already satisfied: MarkupSafe>=2.0 in /Library/Frameworks/Python.framework/Versions/3.10/lib/python3.10/site-packages (from jinja2->torch->-r ../../requirements.txt (line 2)) (2.1.3)\n",
      "Requirement already satisfied: mpmath>=0.19 in /Library/Frameworks/Python.framework/Versions/3.10/lib/python3.10/site-packages (from sympy->torch->-r ../../requirements.txt (line 2)) (1.3.0)\n",
      "\u001b[33mWARNING: You are using pip version 21.2.3; however, version 23.3.2 is available.\n",
      "You should consider upgrading via the '/usr/local/bin/python3 -m pip install --upgrade pip' command.\u001b[0m\n",
      "Note: you may need to restart the kernel to use updated packages.\n"
     ]
    }
   ],
   "source": [
    "pip install -r ../../requirements.txt"
   ]
  },
  {
   "cell_type": "code",
   "execution_count": 2,
   "metadata": {},
   "outputs": [],
   "source": [
    "import ezkl\n",
    "import torch\n",
    "from torch import nn\n",
    "import json\n",
    "import os\n",
    "import time\n",
    "import scipy\n",
    "import numpy as np\n",
    "import matplotlib.pyplot as plt\n",
    "import statistics\n",
    "import math"
   ]
  },
  {
   "cell_type": "code",
   "execution_count": 3,
   "metadata": {},
   "outputs": [],
   "source": [
    "%run -i ../../zkstats/core.py"
   ]
  },
  {
   "cell_type": "code",
   "execution_count": 4,
   "metadata": {},
   "outputs": [],
   "source": [
    "# init path\n",
    "os.makedirs(os.path.dirname('shared/'), exist_ok=True)\n",
    "os.makedirs(os.path.dirname('prover/'), exist_ok=True)\n",
    "verifier_model_path = os.path.join('shared/verifier.onnx')\n",
    "prover_model_path = os.path.join('prover/prover.onnx')\n",
    "verifier_compiled_model_path = os.path.join('shared/verifier.compiled')\n",
    "prover_compiled_model_path = os.path.join('prover/prover.compiled')\n",
    "pk_path = os.path.join('shared/test.pk')\n",
    "vk_path = os.path.join('shared/test.vk')\n",
    "proof_path = os.path.join('shared/test.pf')\n",
    "settings_path = os.path.join('shared/settings.json')\n",
    "srs_path = os.path.join('shared/kzg.srs')\n",
    "witness_path = os.path.join('prover/witness.json')\n",
    "# this is private to prover since it contains actual data\n",
    "comb_data_path = os.path.join('prover/comb_data.json')"
   ]
  },
  {
   "attachments": {},
   "cell_type": "markdown",
   "metadata": {},
   "source": [
    "=======================  ZK-STATS FLOW ======================="
   ]
  },
  {
   "cell_type": "code",
   "execution_count": 5,
   "metadata": {},
   "outputs": [
    {
     "name": "stdout",
     "output_type": "stream",
     "text": [
      "cov:  3214.7648484848482\n",
      "x mean:  49.5\n",
      "y mean:  227.703\n",
      "dummy_cov:  1.174431313131313\n",
      "dummy x mean:  5.287\n",
      "dummy y mean:  5.699\n"
     ]
    }
   ],
   "source": [
    "x_vals_path = os.path.join('x_vals.json')\n",
    "dummy_x_vals_path = os.path.join('shared/dummy_x_vals.json')\n",
    "x_open = open(x_vals_path, \"r\")\n",
    "x_vals= json.loads(x_open.read())['input_data'][0]\n",
    "dummy_x_vals = np.round(np.random.uniform(1,10,len(x_vals)),1)\n",
    "json.dump({\"input_data\":[dummy_x_vals.tolist()]}, open(dummy_x_vals_path, 'w'))\n",
    "\n",
    "# print(\"dummy x vals: \", dummy_x_vals)\n",
    "\n",
    "y_vals_path = os.path.join('y_vals.json')\n",
    "dummy_y_vals_path = os.path.join('shared/dummy_y_vals.json')\n",
    "y_open = open(y_vals_path, \"r\")\n",
    "y_vals= json.loads(y_open.read())[\"input_data\"][0]\n",
    "# dummy_y_vals = np.random.uniform(max(y_vals), max(y_vals), len(y_vals))\n",
    "dummy_y_vals = np.round(np.random.uniform(1,10,len(y_vals)),1)\n",
    "json.dump({\"input_data\":[dummy_y_vals.tolist()]}, open(dummy_y_vals_path, 'w'))\n",
    "\n",
    "\n",
    "real_cov = statistics.covariance(x_vals, y_vals)\n",
    "x_mean = statistics.mean(x_vals)\n",
    "y_mean = statistics.mean(y_vals)\n",
    "print(\"cov: \",real_cov )\n",
    "print(\"x mean: \", x_mean)\n",
    "print(\"y mean: \", y_mean)\n",
    "\n",
    "dummy_cov = statistics.covariance(dummy_x_vals, dummy_y_vals)\n",
    "dummy_x_mean = statistics.mean(dummy_x_vals)\n",
    "dummy_y_mean = statistics.mean(dummy_y_vals)\n",
    "print('dummy_cov: ', dummy_cov)\n",
    "print(\"dummy x mean: \", dummy_x_mean)\n",
    "print(\"dummy y mean: \", dummy_y_mean)"
   ]
  },
  {
   "attachments": {},
   "cell_type": "markdown",
   "metadata": {},
   "source": []
  },
  {
   "cell_type": "code",
   "execution_count": 6,
   "metadata": {},
   "outputs": [
    {
     "name": "stderr",
     "output_type": "stream",
     "text": [
      "/Library/Frameworks/Python.framework/Versions/3.10/lib/python3.10/site-packages/torch/onnx/symbolic_opset9.py:2174: FutureWarning: 'torch.onnx.symbolic_opset9._cast_Bool' is deprecated in version 2.0 and will be removed in the future. Please Avoid using this function and create a Cast node instead.\n",
      "  return fn(g, to_cast_func(g, input, False), to_cast_func(g, other, False))\n"
     ]
    }
   ],
   "source": [
    "# Verifier/ data consumer side:\n",
    "class verifier_model(nn.Module):\n",
    "    def __init__(self):\n",
    "        super(verifier_model, self).__init__()\n",
    "        self.cov = nn.Parameter(data = torch.tensor(dummy_cov), requires_grad = False)\n",
    "        self.x_mean = nn.Parameter(data = torch.tensor(dummy_x_mean), requires_grad = False)\n",
    "        self.y_mean = nn.Parameter(data = torch.tensor(dummy_y_mean), requires_grad = False)\n",
    "    def forward(self,X,Y):\n",
    "        # print(\"x size: \", X.size()[1])\n",
    "        #  need to enforce same length, not yet\n",
    "        x_mean_cons = torch.abs(torch.sum(X)-X.size()[1]*(self.x_mean))<=torch.abs(0.01*X.size()[1]*(self.x_mean))\n",
    "        y_mean_cons = torch.abs(torch.sum(Y)-Y.size()[1]*(self.y_mean))<=torch.abs(0.01*Y.size()[1]*(self.y_mean))\n",
    "        return (torch.logical_and(torch.logical_and(x_mean_cons,y_mean_cons), torch.abs(torch.sum((X-self.x_mean)*(Y-self.y_mean))-(X.size()[1]-1)*(self.cov))<0.01*(X.size()[1]-1)*(self.cov)), self.cov)\n",
    "\n",
    "verifier_define_calculation(verifier_model, verifier_model_path, [dummy_x_vals_path, dummy_y_vals_path])"
   ]
  },
  {
   "cell_type": "code",
   "execution_count": 7,
   "metadata": {},
   "outputs": [
    {
     "name": "stdout",
     "output_type": "stream",
     "text": [
      "Theory output:  tensor(3214.7649)\n",
      "==== Generate & Calibrate Setting ====\n",
      "scale:  [0]\n",
      "setting:  {\"run_args\":{\"tolerance\":{\"val\":0.0,\"scale\":1.0},\"input_scale\":0,\"param_scale\":0,\"scale_rebase_multiplier\":10,\"lookup_range\":[-448,6246],\"logrows\":14,\"num_inner_cols\":2,\"variables\":[[\"batch_size\",1]],\"input_visibility\":{\"Hashed\":{\"hash_is_public\":true,\"outlets\":[]}},\"output_visibility\":\"Public\",\"param_visibility\":\"Private\"},\"num_rows\":13120,\"total_assignments\":1027,\"total_const_size\":8,\"model_instance_shapes\":[[1],[1]],\"model_output_scales\":[0,0],\"model_input_scales\":[0,0],\"module_sizes\":{\"kzg\":[],\"poseidon\":[13120,[2]],\"elgamal\":[0,[0]]},\"required_lookups\":[\"Abs\",{\"GreaterThan\":{\"a\":0.0}}],\"check_mode\":\"UNSAFE\",\"version\":\"7.0.0\",\"num_blinding_factors\":null}\n"
     ]
    }
   ],
   "source": [
    "# prover calculates settings, send to verifier\n",
    "\n",
    "theory_output = torch.tensor(real_cov)\n",
    "print(\"Theory output: \", theory_output)\n",
    "class prover_model(nn.Module):\n",
    "    def __init__(self):\n",
    "        super(prover_model, self).__init__()\n",
    "        self.cov = nn.Parameter(data = torch.tensor(real_cov), requires_grad = False)\n",
    "        self.x_mean = nn.Parameter(data = torch.tensor(x_mean), requires_grad = False)\n",
    "        self.y_mean = nn.Parameter(data = torch.tensor(y_mean), requires_grad = False)\n",
    "    def forward(self,X,Y):\n",
    "        # print(\"x size: \", X.size()[1])\n",
    "        #  need to enforce same length\n",
    "        x_mean_cons = torch.abs(torch.sum(X)-X.size()[1]*(self.x_mean))<=torch.abs(0.01*X.size()[1]*(self.x_mean))\n",
    "        y_mean_cons = torch.abs(torch.sum(Y)-Y.size()[1]*(self.y_mean))<=torch.abs(0.01*Y.size()[1]*(self.y_mean))\n",
    "        return (torch.logical_and(torch.logical_and(x_mean_cons,y_mean_cons), torch.abs(torch.sum((X-self.x_mean)*(Y-self.y_mean))-(X.size()[1]-1)*(self.cov))<0.01*(X.size()[1]-1)*(self.cov)), self.cov)\n",
    "\n",
    "# note scale = 2, or 3 makes it more precise, but too big.\n",
    "prover_gen_settings([x_vals_path, y_vals_path], comb_data_path, prover_model,prover_model_path, [0], \"resources\", settings_path)"
   ]
  },
  {
   "cell_type": "code",
   "execution_count": 8,
   "metadata": {},
   "outputs": [
    {
     "name": "stderr",
     "output_type": "stream",
     "text": [
      "spawning module 0\n"
     ]
    },
    {
     "name": "stderr",
     "output_type": "stream",
     "text": [
      "spawning module 2\n"
     ]
    },
    {
     "name": "stdout",
     "output_type": "stream",
     "text": [
      "==== setting up ezkl ====\n"
     ]
    },
    {
     "name": "stderr",
     "output_type": "stream",
     "text": [
      "spawning module 0\n",
      "spawning module 2\n",
      "spawning module 0\n"
     ]
    },
    {
     "name": "stdout",
     "output_type": "stream",
     "text": [
      "Time setup: 1.8284389972686768 seconds\n",
      "=======================================\n",
      "Theory output:  tensor(3214.7649)\n",
      "!@# compiled_model exists? True\n",
      "!@# compiled_model exists? True\n",
      "==== Generating Witness ====\n",
      "witness boolean:  1.0\n",
      "witness result 1 : 3215.0\n",
      "==== Generating Proof ====\n"
     ]
    },
    {
     "name": "stderr",
     "output_type": "stream",
     "text": [
      "spawning module 2\n"
     ]
    },
    {
     "name": "stdout",
     "output_type": "stream",
     "text": [
      "proof:  {'instances': [[[14955570959218682635, 4667139652385906200, 12836539004462631467, 1774684518626433649], [4224417983558473805, 851357164555783563, 5363851773531956453, 1448631618362554917], [12436184717236109307, 3962172157175319849, 7381016538464732718, 1011752739694698287], [5743885005642251665, 3430503978676436355, 7149667244725939006, 2902673458086333540]]], 'proof': '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', 'transcript_type': 'EVM'}\n",
      "Time gen prf: 2.460557699203491 seconds\n"
     ]
    }
   ],
   "source": [
    "# Here verifier & prover can concurrently call setup since all params are public to get pk. \n",
    "# Here write as verifier function to emphasize that verifier must calculate its own vk to be sure\n",
    "verifier_setup(verifier_model_path, verifier_compiled_model_path, settings_path,vk_path, pk_path )\n",
    "\n",
    "print(\"=======================================\")\n",
    "# Prover generates proof\n",
    "print(\"Theory output: \", theory_output)\n",
    "prover_gen_proof(prover_model_path, comb_data_path, witness_path, prover_compiled_model_path, settings_path, proof_path, pk_path)"
   ]
  },
  {
   "cell_type": "code",
   "execution_count": 10,
   "metadata": {},
   "outputs": [
    {
     "name": "stdout",
     "output_type": "stream",
     "text": [
      "num_inputs:  2\n",
      "prf instances:  [[[14955570959218682635, 4667139652385906200, 12836539004462631467, 1774684518626433649], [4224417983558473805, 851357164555783563, 5363851773531956453, 1448631618362554917], [12436184717236109307, 3962172157175319849, 7381016538464732718, 1011752739694698287], [5743885005642251665, 3430503978676436355, 7149667244725939006, 2902673458086333540]]]\n",
      "proof boolean:  1.0\n",
      "proof result 1 : 3215.0\n",
      "verified\n"
     ]
    }
   ],
   "source": [
    "# Verifier verifies\n",
    "verifier_verify(proof_path, settings_path, vk_path)"
   ]
  },
  {
   "cell_type": "code",
   "execution_count": null,
   "metadata": {},
   "outputs": [],
   "source": []
  }
 ],
 "metadata": {
  "kernelspec": {
   "display_name": "Python 3",
   "language": "python",
   "name": "python3"
  },
  "language_info": {
   "codemirror_mode": {
    "name": "ipython",
    "version": 3
   },
   "file_extension": ".py",
   "mimetype": "text/x-python",
   "name": "python",
   "nbconvert_exporter": "python",
   "pygments_lexer": "ipython3",
   "version": "3.10.0"
  },
  "orig_nbformat": 4
 },
 "nbformat": 4,
 "nbformat_minor": 2
}
