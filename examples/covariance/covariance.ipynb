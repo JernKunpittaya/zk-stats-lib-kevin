{
 "cells": [
  {
   "cell_type": "code",
   "execution_count": 1,
   "metadata": {},
   "outputs": [
    {
     "name": "stdout",
     "output_type": "stream",
     "text": [
      "Requirement already satisfied: ezkl==7.0.0 in /Library/Frameworks/Python.framework/Versions/3.10/lib/python3.10/site-packages (from -r ../../requirements.txt (line 1)) (7.0.0)\n",
      "Requirement already satisfied: torch in /Library/Frameworks/Python.framework/Versions/3.10/lib/python3.10/site-packages (from -r ../../requirements.txt (line 2)) (2.1.1)\n",
      "Requirement already satisfied: requests in /Library/Frameworks/Python.framework/Versions/3.10/lib/python3.10/site-packages (from -r ../../requirements.txt (line 3)) (2.31.0)\n",
      "Requirement already satisfied: scipy in /Library/Frameworks/Python.framework/Versions/3.10/lib/python3.10/site-packages (from -r ../../requirements.txt (line 4)) (1.11.4)\n",
      "Requirement already satisfied: numpy in /Library/Frameworks/Python.framework/Versions/3.10/lib/python3.10/site-packages (from -r ../../requirements.txt (line 5)) (1.26.2)\n",
      "Requirement already satisfied: matplotlib in /Library/Frameworks/Python.framework/Versions/3.10/lib/python3.10/site-packages (from -r ../../requirements.txt (line 6)) (3.8.2)\n",
      "Requirement already satisfied: statistics in /Library/Frameworks/Python.framework/Versions/3.10/lib/python3.10/site-packages (from -r ../../requirements.txt (line 7)) (1.0.3.5)\n",
      "Requirement already satisfied: onnx in /Library/Frameworks/Python.framework/Versions/3.10/lib/python3.10/site-packages (from -r ../../requirements.txt (line 8)) (1.15.0)\n",
      "Requirement already satisfied: networkx in /Library/Frameworks/Python.framework/Versions/3.10/lib/python3.10/site-packages (from torch->-r ../../requirements.txt (line 2)) (3.2.1)\n",
      "Requirement already satisfied: jinja2 in /Library/Frameworks/Python.framework/Versions/3.10/lib/python3.10/site-packages (from torch->-r ../../requirements.txt (line 2)) (3.1.2)\n",
      "Requirement already satisfied: filelock in /Library/Frameworks/Python.framework/Versions/3.10/lib/python3.10/site-packages (from torch->-r ../../requirements.txt (line 2)) (3.13.1)\n",
      "Requirement already satisfied: sympy in /Library/Frameworks/Python.framework/Versions/3.10/lib/python3.10/site-packages (from torch->-r ../../requirements.txt (line 2)) (1.12)\n",
      "Requirement already satisfied: fsspec in /Library/Frameworks/Python.framework/Versions/3.10/lib/python3.10/site-packages (from torch->-r ../../requirements.txt (line 2)) (2023.10.0)\n",
      "Requirement already satisfied: typing-extensions in /Library/Frameworks/Python.framework/Versions/3.10/lib/python3.10/site-packages (from torch->-r ../../requirements.txt (line 2)) (4.8.0)\n",
      "Requirement already satisfied: urllib3<3,>=1.21.1 in /Library/Frameworks/Python.framework/Versions/3.10/lib/python3.10/site-packages (from requests->-r ../../requirements.txt (line 3)) (2.1.0)\n",
      "Requirement already satisfied: idna<4,>=2.5 in /Library/Frameworks/Python.framework/Versions/3.10/lib/python3.10/site-packages (from requests->-r ../../requirements.txt (line 3)) (3.6)\n",
      "Requirement already satisfied: certifi>=2017.4.17 in /Library/Frameworks/Python.framework/Versions/3.10/lib/python3.10/site-packages (from requests->-r ../../requirements.txt (line 3)) (2023.11.17)\n",
      "Requirement already satisfied: charset-normalizer<4,>=2 in /Library/Frameworks/Python.framework/Versions/3.10/lib/python3.10/site-packages (from requests->-r ../../requirements.txt (line 3)) (3.3.2)\n",
      "Requirement already satisfied: contourpy>=1.0.1 in /Library/Frameworks/Python.framework/Versions/3.10/lib/python3.10/site-packages (from matplotlib->-r ../../requirements.txt (line 6)) (1.2.0)\n",
      "Requirement already satisfied: pyparsing>=2.3.1 in /Library/Frameworks/Python.framework/Versions/3.10/lib/python3.10/site-packages (from matplotlib->-r ../../requirements.txt (line 6)) (3.1.1)\n",
      "Requirement already satisfied: kiwisolver>=1.3.1 in /Library/Frameworks/Python.framework/Versions/3.10/lib/python3.10/site-packages (from matplotlib->-r ../../requirements.txt (line 6)) (1.4.5)\n",
      "Requirement already satisfied: pillow>=8 in /Library/Frameworks/Python.framework/Versions/3.10/lib/python3.10/site-packages (from matplotlib->-r ../../requirements.txt (line 6)) (10.1.0)\n",
      "Requirement already satisfied: fonttools>=4.22.0 in /Library/Frameworks/Python.framework/Versions/3.10/lib/python3.10/site-packages (from matplotlib->-r ../../requirements.txt (line 6)) (4.45.1)\n",
      "Requirement already satisfied: python-dateutil>=2.7 in /Users/jernkun/Library/Python/3.10/lib/python/site-packages (from matplotlib->-r ../../requirements.txt (line 6)) (2.8.2)\n",
      "Requirement already satisfied: packaging>=20.0 in /Users/jernkun/Library/Python/3.10/lib/python/site-packages (from matplotlib->-r ../../requirements.txt (line 6)) (23.2)\n",
      "Requirement already satisfied: cycler>=0.10 in /Library/Frameworks/Python.framework/Versions/3.10/lib/python3.10/site-packages (from matplotlib->-r ../../requirements.txt (line 6)) (0.12.1)\n",
      "Requirement already satisfied: docutils>=0.3 in /Library/Frameworks/Python.framework/Versions/3.10/lib/python3.10/site-packages (from statistics->-r ../../requirements.txt (line 7)) (0.20.1)\n",
      "Requirement already satisfied: protobuf>=3.20.2 in /Library/Frameworks/Python.framework/Versions/3.10/lib/python3.10/site-packages (from onnx->-r ../../requirements.txt (line 8)) (4.25.1)\n",
      "Requirement already satisfied: six>=1.5 in /Users/jernkun/Library/Python/3.10/lib/python/site-packages (from python-dateutil>=2.7->matplotlib->-r ../../requirements.txt (line 6)) (1.16.0)\n",
      "Requirement already satisfied: MarkupSafe>=2.0 in /Library/Frameworks/Python.framework/Versions/3.10/lib/python3.10/site-packages (from jinja2->torch->-r ../../requirements.txt (line 2)) (2.1.3)\n",
      "Requirement already satisfied: mpmath>=0.19 in /Library/Frameworks/Python.framework/Versions/3.10/lib/python3.10/site-packages (from sympy->torch->-r ../../requirements.txt (line 2)) (1.3.0)\n",
      "\u001b[33mWARNING: You are using pip version 21.2.3; however, version 23.3.2 is available.\n",
      "You should consider upgrading via the '/usr/local/bin/python3 -m pip install --upgrade pip' command.\u001b[0m\n",
      "Note: you may need to restart the kernel to use updated packages.\n"
     ]
    }
   ],
   "source": [
    "pip install -r ../../requirements.txt"
   ]
  },
  {
   "cell_type": "code",
   "execution_count": 2,
   "metadata": {},
   "outputs": [],
   "source": [
    "import ezkl\n",
    "import torch\n",
    "from torch import nn\n",
    "import json\n",
    "import os\n",
    "import time\n",
    "import scipy\n",
    "import numpy as np\n",
    "import matplotlib.pyplot as plt\n",
    "import statistics\n",
    "import math"
   ]
  },
  {
   "cell_type": "code",
   "execution_count": 3,
   "metadata": {},
   "outputs": [],
   "source": [
    "%run -i ../../zkstats/core.py"
   ]
  },
  {
   "cell_type": "code",
   "execution_count": 4,
   "metadata": {},
   "outputs": [],
   "source": [
    "# init path\n",
    "os.makedirs(os.path.dirname('shared/'), exist_ok=True)\n",
    "os.makedirs(os.path.dirname('prover/'), exist_ok=True)\n",
    "verifier_model_path = os.path.join('shared/verifier.onnx')\n",
    "prover_model_path = os.path.join('prover/prover.onnx')\n",
    "verifier_compiled_model_path = os.path.join('shared/verifier.compiled')\n",
    "prover_compiled_model_path = os.path.join('prover/prover.compiled')\n",
    "pk_path = os.path.join('shared/test.pk')\n",
    "vk_path = os.path.join('shared/test.vk')\n",
    "proof_path = os.path.join('shared/test.pf')\n",
    "settings_path = os.path.join('shared/settings.json')\n",
    "srs_path = os.path.join('shared/kzg.srs')\n",
    "witness_path = os.path.join('prover/witness.json')\n",
    "# this is private to prover since it contains actual data\n",
    "sel_data_path = os.path.join('prover/sel_data.json')\n",
    "# this is just dummy random value\n",
    "sel_dummy_data_path = os.path.join('shared/sel_dummy_data.json')"
   ]
  },
  {
   "attachments": {},
   "cell_type": "markdown",
   "metadata": {},
   "source": [
    "=======================  ZK-STATS FLOW ======================="
   ]
  },
  {
   "cell_type": "code",
   "execution_count": 5,
   "metadata": {},
   "outputs": [
    {
     "name": "stdout",
     "output_type": "stream",
     "text": [
      "cov:  3214.7648484848482\n",
      "x mean:  49.5\n",
      "y mean:  227.703\n",
      "dummy_cov:  0.8019999999999999\n",
      "dummy x mean:  5.491\n",
      "dummy y mean:  5.82\n"
     ]
    }
   ],
   "source": [
    "data_path = os.path.join('data.json')\n",
    "dummy_data_path = os.path.join('shared/dummy_data.json')\n",
    "\n",
    "data = json.loads(open(data_path, \"r\").read())\n",
    "x_vals = data['x']\n",
    "y_vals = data['y']\n",
    "\n",
    "real_cov = statistics.covariance(x_vals, y_vals)\n",
    "x_mean = statistics.mean(x_vals)\n",
    "y_mean = statistics.mean(y_vals)\n",
    "print(\"cov: \",real_cov )\n",
    "print(\"x mean: \", x_mean)\n",
    "print(\"y mean: \", y_mean)\n",
    "\n",
    "\n",
    "createDummy(data_path, dummy_data_path)\n",
    "dummy_data = json.loads(open(dummy_data_path, \"r\").read())\n",
    "dummy_x_vals = dummy_data['x']\n",
    "dummy_y_vals = dummy_data['y']\n",
    "\n",
    "dummy_cov = statistics.covariance(dummy_x_vals, dummy_y_vals)\n",
    "dummy_x_mean = statistics.mean(dummy_x_vals)\n",
    "dummy_y_mean = statistics.mean(dummy_y_vals)\n",
    "print('dummy_cov: ', dummy_cov)\n",
    "print(\"dummy x mean: \", dummy_x_mean)\n",
    "print(\"dummy y mean: \", dummy_y_mean)\n",
    "\n"
   ]
  },
  {
   "attachments": {},
   "cell_type": "markdown",
   "metadata": {},
   "source": []
  },
  {
   "cell_type": "code",
   "execution_count": 6,
   "metadata": {},
   "outputs": [
    {
     "name": "stderr",
     "output_type": "stream",
     "text": [
      "/Library/Frameworks/Python.framework/Versions/3.10/lib/python3.10/site-packages/torch/onnx/symbolic_opset9.py:2174: FutureWarning: 'torch.onnx.symbolic_opset9._cast_Bool' is deprecated in version 2.0 and will be removed in the future. Please Avoid using this function and create a Cast node instead.\n",
      "  return fn(g, to_cast_func(g, input, False), to_cast_func(g, other, False))\n"
     ]
    }
   ],
   "source": [
    "# Verifier/ data consumer side:\n",
    "class verifier_model(nn.Module):\n",
    "    def __init__(self):\n",
    "        super(verifier_model, self).__init__()\n",
    "        self.cov = nn.Parameter(data = torch.tensor(dummy_cov), requires_grad = False)\n",
    "        self.x_mean = nn.Parameter(data = torch.tensor(dummy_x_mean), requires_grad = False)\n",
    "        self.y_mean = nn.Parameter(data = torch.tensor(dummy_y_mean), requires_grad = False)\n",
    "    def forward(self,X,Y):\n",
    "        # print(\"x size: \", X.size()[1])\n",
    "        #  need to enforce same length, not yet\n",
    "        x_mean_cons = torch.abs(torch.sum(X)-X.size()[1]*(self.x_mean))<=torch.abs(0.01*X.size()[1]*(self.x_mean))\n",
    "        y_mean_cons = torch.abs(torch.sum(Y)-Y.size()[1]*(self.y_mean))<=torch.abs(0.01*Y.size()[1]*(self.y_mean))\n",
    "        return (torch.logical_and(torch.logical_and(x_mean_cons,y_mean_cons), torch.abs(torch.sum((X-self.x_mean)*(Y-self.y_mean))-(X.size()[1]-1)*(self.cov))<0.01*(X.size()[1]-1)*(self.cov)), self.cov)\n",
    "\n",
    "\n",
    "\n",
    "verifier_define_calculation(dummy_data_path, ['x', 'y'],sel_dummy_data_path,verifier_model, verifier_model_path)"
   ]
  },
  {
   "cell_type": "code",
   "execution_count": 7,
   "metadata": {},
   "outputs": [
    {
     "name": "stdout",
     "output_type": "stream",
     "text": [
      "Theory output:  tensor(3214.7649)\n",
      "==== Generate & Calibrate Setting ====\n",
      "scale:  [0]\n",
      "setting:  {\"run_args\":{\"tolerance\":{\"val\":0.0,\"scale\":1.0},\"input_scale\":0,\"param_scale\":0,\"scale_rebase_multiplier\":10,\"lookup_range\":[-448,6246],\"logrows\":14,\"num_inner_cols\":2,\"variables\":[[\"batch_size\",1]],\"input_visibility\":{\"Hashed\":{\"hash_is_public\":true,\"outlets\":[]}},\"output_visibility\":\"Public\",\"param_visibility\":\"Private\"},\"num_rows\":13120,\"total_assignments\":827,\"total_const_size\":8,\"model_instance_shapes\":[[1],[1]],\"model_output_scales\":[0,0],\"model_input_scales\":[0,0],\"module_sizes\":{\"kzg\":[],\"poseidon\":[13120,[2]],\"elgamal\":[0,[0]]},\"required_lookups\":[\"Abs\",{\"GreaterThan\":{\"a\":0.0}}],\"check_mode\":\"UNSAFE\",\"version\":\"7.0.0\",\"num_blinding_factors\":null}\n"
     ]
    },
    {
     "name": "stderr",
     "output_type": "stream",
     "text": [
      "/Library/Frameworks/Python.framework/Versions/3.10/lib/python3.10/site-packages/torch/onnx/symbolic_opset9.py:2174: FutureWarning: 'torch.onnx.symbolic_opset9._cast_Bool' is deprecated in version 2.0 and will be removed in the future. Please Avoid using this function and create a Cast node instead.\n",
      "  return fn(g, to_cast_func(g, input, False), to_cast_func(g, other, False))\n"
     ]
    }
   ],
   "source": [
    "# prover calculates settings, send to verifier\n",
    "\n",
    "theory_output = torch.tensor(real_cov)\n",
    "print(\"Theory output: \", theory_output)\n",
    "class prover_model(nn.Module):\n",
    "    def __init__(self):\n",
    "        super(prover_model, self).__init__()\n",
    "        self.cov = nn.Parameter(data = torch.tensor(real_cov), requires_grad = False)\n",
    "        self.x_mean = nn.Parameter(data = torch.tensor(x_mean), requires_grad = False)\n",
    "        self.y_mean = nn.Parameter(data = torch.tensor(y_mean), requires_grad = False)\n",
    "    def forward(self,X,Y):\n",
    "        # print(\"x size: \", X.size()[1])\n",
    "        #  need to enforce same length\n",
    "        x_mean_cons = torch.abs(torch.sum(X)-X.size()[1]*(self.x_mean))<=torch.abs(0.01*X.size()[1]*(self.x_mean))\n",
    "        y_mean_cons = torch.abs(torch.sum(Y)-Y.size()[1]*(self.y_mean))<=torch.abs(0.01*Y.size()[1]*(self.y_mean))\n",
    "        return (torch.logical_and(torch.logical_and(x_mean_cons,y_mean_cons), torch.abs(torch.sum((X-self.x_mean)*(Y-self.y_mean))-(X.size()[1]-1)*(self.cov))<0.01*(X.size()[1]-1)*(self.cov)), self.cov)\n",
    "\n",
    "# note scale = 2, or 3 makes it more precise, but too big.\n",
    "\n",
    "prover_gen_settings(data_path,['x', 'y'], sel_data_path, prover_model,prover_model_path, [0], \"resources\", settings_path)"
   ]
  },
  {
   "cell_type": "code",
   "execution_count": 8,
   "metadata": {},
   "outputs": [
    {
     "name": "stderr",
     "output_type": "stream",
     "text": [
      "spawning module 0\n",
      "spawning module 2\n"
     ]
    },
    {
     "name": "stdout",
     "output_type": "stream",
     "text": [
      "==== setting up ezkl ====\n"
     ]
    },
    {
     "name": "stderr",
     "output_type": "stream",
     "text": [
      "spawning module 0\n",
      "spawning module 2\n",
      "spawning module 0\n"
     ]
    },
    {
     "name": "stdout",
     "output_type": "stream",
     "text": [
      "Time setup: 1.7675788402557373 seconds\n",
      "=======================================\n",
      "Theory output:  tensor(3214.7649)\n",
      "!@# compiled_model exists? True\n",
      "!@# compiled_model exists? True\n",
      "==== Generating Witness ====\n",
      "witness boolean:  1.0\n",
      "witness result 1 : 3215.0\n",
      "==== Generating Proof ====\n"
     ]
    },
    {
     "name": "stderr",
     "output_type": "stream",
     "text": [
      "spawning module 2\n"
     ]
    },
    {
     "name": "stdout",
     "output_type": "stream",
     "text": [
      "proof:  {'instances': [[[14955570959218682635, 4667139652385906200, 12836539004462631467, 1774684518626433649], [4224417983558473805, 851357164555783563, 5363851773531956453, 1448631618362554917], [12436184717236109307, 3962172157175319849, 7381016538464732718, 1011752739694698287], [5743885005642251665, 3430503978676436355, 7149667244725939006, 2902673458086333540]]], 'proof': '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', 'transcript_type': 'EVM'}\n",
      "Time gen prf: 2.553421974182129 seconds\n"
     ]
    }
   ],
   "source": [
    "# Here verifier & prover can concurrently call setup since all params are public to get pk. \n",
    "# Here write as verifier function to emphasize that verifier must calculate its own vk to be sure\n",
    "verifier_setup(verifier_model_path, verifier_compiled_model_path, settings_path,vk_path, pk_path )\n",
    "\n",
    "print(\"=======================================\")\n",
    "# Prover generates proof\n",
    "print(\"Theory output: \", theory_output)\n",
    "prover_gen_proof(prover_model_path, sel_data_path, witness_path, prover_compiled_model_path, settings_path, proof_path, pk_path)"
   ]
  },
  {
   "cell_type": "code",
   "execution_count": 9,
   "metadata": {},
   "outputs": [
    {
     "name": "stdout",
     "output_type": "stream",
     "text": [
      "num_inputs:  2\n",
      "prf instances:  [[[14955570959218682635, 4667139652385906200, 12836539004462631467, 1774684518626433649], [4224417983558473805, 851357164555783563, 5363851773531956453, 1448631618362554917], [12436184717236109307, 3962172157175319849, 7381016538464732718, 1011752739694698287], [5743885005642251665, 3430503978676436355, 7149667244725939006, 2902673458086333540]]]\n",
      "proof boolean:  1.0\n",
      "proof result 1 : 3215.0\n",
      "verified\n"
     ]
    }
   ],
   "source": [
    "# Verifier verifies\n",
    "verifier_verify(proof_path, settings_path, vk_path)"
   ]
  },
  {
   "cell_type": "code",
   "execution_count": null,
   "metadata": {},
   "outputs": [],
   "source": []
  }
 ],
 "metadata": {
  "kernelspec": {
   "display_name": "Python 3",
   "language": "python",
   "name": "python3"
  },
  "language_info": {
   "codemirror_mode": {
    "name": "ipython",
    "version": 3
   },
   "file_extension": ".py",
   "mimetype": "text/x-python",
   "name": "python",
   "nbconvert_exporter": "python",
   "pygments_lexer": "ipython3",
   "version": "3.10.0"
  },
  "orig_nbformat": 4
 },
 "nbformat": 4,
 "nbformat_minor": 2
}
