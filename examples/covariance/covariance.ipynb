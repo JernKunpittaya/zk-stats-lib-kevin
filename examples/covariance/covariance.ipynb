{
 "cells": [
  {
   "cell_type": "code",
   "execution_count": 1,
   "metadata": {},
   "outputs": [
    {
     "name": "stdout",
     "output_type": "stream",
     "text": [
      "Requirement already satisfied: ezkl==5.0.8 in /Library/Frameworks/Python.framework/Versions/3.10/lib/python3.10/site-packages (from -r ../../requirements.txt (line 1)) (5.0.8)\n",
      "Requirement already satisfied: torch in /Library/Frameworks/Python.framework/Versions/3.10/lib/python3.10/site-packages (from -r ../../requirements.txt (line 2)) (2.1.1)\n",
      "Requirement already satisfied: requests in /Library/Frameworks/Python.framework/Versions/3.10/lib/python3.10/site-packages (from -r ../../requirements.txt (line 3)) (2.31.0)\n",
      "Requirement already satisfied: scipy in /Library/Frameworks/Python.framework/Versions/3.10/lib/python3.10/site-packages (from -r ../../requirements.txt (line 4)) (1.11.4)\n",
      "Requirement already satisfied: numpy in /Library/Frameworks/Python.framework/Versions/3.10/lib/python3.10/site-packages (from -r ../../requirements.txt (line 5)) (1.26.2)\n",
      "Requirement already satisfied: matplotlib in /Library/Frameworks/Python.framework/Versions/3.10/lib/python3.10/site-packages (from -r ../../requirements.txt (line 6)) (3.8.2)\n",
      "Requirement already satisfied: statistics in /Library/Frameworks/Python.framework/Versions/3.10/lib/python3.10/site-packages (from -r ../../requirements.txt (line 7)) (1.0.3.5)\n",
      "Requirement already satisfied: onnx in /Library/Frameworks/Python.framework/Versions/3.10/lib/python3.10/site-packages (from -r ../../requirements.txt (line 8)) (1.15.0)\n",
      "Requirement already satisfied: sympy in /Library/Frameworks/Python.framework/Versions/3.10/lib/python3.10/site-packages (from torch->-r ../../requirements.txt (line 2)) (1.12)\n",
      "Requirement already satisfied: jinja2 in /Library/Frameworks/Python.framework/Versions/3.10/lib/python3.10/site-packages (from torch->-r ../../requirements.txt (line 2)) (3.1.2)\n",
      "Requirement already satisfied: networkx in /Library/Frameworks/Python.framework/Versions/3.10/lib/python3.10/site-packages (from torch->-r ../../requirements.txt (line 2)) (3.2.1)\n",
      "Requirement already satisfied: fsspec in /Library/Frameworks/Python.framework/Versions/3.10/lib/python3.10/site-packages (from torch->-r ../../requirements.txt (line 2)) (2023.10.0)\n",
      "Requirement already satisfied: typing-extensions in /Library/Frameworks/Python.framework/Versions/3.10/lib/python3.10/site-packages (from torch->-r ../../requirements.txt (line 2)) (4.8.0)\n",
      "Requirement already satisfied: filelock in /Library/Frameworks/Python.framework/Versions/3.10/lib/python3.10/site-packages (from torch->-r ../../requirements.txt (line 2)) (3.13.1)\n",
      "Requirement already satisfied: certifi>=2017.4.17 in /Library/Frameworks/Python.framework/Versions/3.10/lib/python3.10/site-packages (from requests->-r ../../requirements.txt (line 3)) (2023.11.17)\n",
      "Requirement already satisfied: urllib3<3,>=1.21.1 in /Library/Frameworks/Python.framework/Versions/3.10/lib/python3.10/site-packages (from requests->-r ../../requirements.txt (line 3)) (2.1.0)\n",
      "Requirement already satisfied: charset-normalizer<4,>=2 in /Library/Frameworks/Python.framework/Versions/3.10/lib/python3.10/site-packages (from requests->-r ../../requirements.txt (line 3)) (3.3.2)\n",
      "Requirement already satisfied: idna<4,>=2.5 in /Library/Frameworks/Python.framework/Versions/3.10/lib/python3.10/site-packages (from requests->-r ../../requirements.txt (line 3)) (3.6)\n",
      "Requirement already satisfied: contourpy>=1.0.1 in /Library/Frameworks/Python.framework/Versions/3.10/lib/python3.10/site-packages (from matplotlib->-r ../../requirements.txt (line 6)) (1.2.0)\n",
      "Requirement already satisfied: kiwisolver>=1.3.1 in /Library/Frameworks/Python.framework/Versions/3.10/lib/python3.10/site-packages (from matplotlib->-r ../../requirements.txt (line 6)) (1.4.5)\n",
      "Requirement already satisfied: packaging>=20.0 in /Users/jernkun/Library/Python/3.10/lib/python/site-packages (from matplotlib->-r ../../requirements.txt (line 6)) (23.2)\n",
      "Requirement already satisfied: cycler>=0.10 in /Library/Frameworks/Python.framework/Versions/3.10/lib/python3.10/site-packages (from matplotlib->-r ../../requirements.txt (line 6)) (0.12.1)\n",
      "Requirement already satisfied: pillow>=8 in /Library/Frameworks/Python.framework/Versions/3.10/lib/python3.10/site-packages (from matplotlib->-r ../../requirements.txt (line 6)) (10.1.0)\n",
      "Requirement already satisfied: fonttools>=4.22.0 in /Library/Frameworks/Python.framework/Versions/3.10/lib/python3.10/site-packages (from matplotlib->-r ../../requirements.txt (line 6)) (4.45.1)\n",
      "Requirement already satisfied: python-dateutil>=2.7 in /Users/jernkun/Library/Python/3.10/lib/python/site-packages (from matplotlib->-r ../../requirements.txt (line 6)) (2.8.2)\n",
      "Requirement already satisfied: pyparsing>=2.3.1 in /Library/Frameworks/Python.framework/Versions/3.10/lib/python3.10/site-packages (from matplotlib->-r ../../requirements.txt (line 6)) (3.1.1)\n",
      "Requirement already satisfied: docutils>=0.3 in /Library/Frameworks/Python.framework/Versions/3.10/lib/python3.10/site-packages (from statistics->-r ../../requirements.txt (line 7)) (0.20.1)\n",
      "Requirement already satisfied: protobuf>=3.20.2 in /Library/Frameworks/Python.framework/Versions/3.10/lib/python3.10/site-packages (from onnx->-r ../../requirements.txt (line 8)) (4.25.1)\n",
      "Requirement already satisfied: six>=1.5 in /Users/jernkun/Library/Python/3.10/lib/python/site-packages (from python-dateutil>=2.7->matplotlib->-r ../../requirements.txt (line 6)) (1.16.0)\n",
      "Requirement already satisfied: MarkupSafe>=2.0 in /Library/Frameworks/Python.framework/Versions/3.10/lib/python3.10/site-packages (from jinja2->torch->-r ../../requirements.txt (line 2)) (2.1.3)\n",
      "Requirement already satisfied: mpmath>=0.19 in /Library/Frameworks/Python.framework/Versions/3.10/lib/python3.10/site-packages (from sympy->torch->-r ../../requirements.txt (line 2)) (1.3.0)\n",
      "\u001b[33mWARNING: You are using pip version 21.2.3; however, version 23.3.1 is available.\n",
      "You should consider upgrading via the '/usr/local/bin/python3 -m pip install --upgrade pip' command.\u001b[0m\n",
      "Note: you may need to restart the kernel to use updated packages.\n"
     ]
    }
   ],
   "source": [
    "pip install -r ../../requirements.txt"
   ]
  },
  {
   "cell_type": "code",
   "execution_count": 9,
   "metadata": {},
   "outputs": [],
   "source": [
    "import ezkl\n",
    "import torch\n",
    "from torch import nn\n",
    "import json\n",
    "import os\n",
    "import time\n",
    "import scipy\n",
    "import numpy as np\n",
    "import matplotlib.pyplot as plt\n",
    "import statistics\n",
    "import math"
   ]
  },
  {
   "cell_type": "code",
   "execution_count": 10,
   "metadata": {},
   "outputs": [],
   "source": [
    "%run -i ../../core.py"
   ]
  },
  {
   "cell_type": "code",
   "execution_count": 11,
   "metadata": {},
   "outputs": [],
   "source": [
    "# init path\n",
    "os.makedirs(os.path.dirname('shared/'), exist_ok=True)\n",
    "os.makedirs(os.path.dirname('prover/'), exist_ok=True)\n",
    "verifier_model_path = os.path.join('shared/verifier.onnx')\n",
    "prover_model_path = os.path.join('prover/prover.onnx')\n",
    "verifier_compiled_model_path = os.path.join('shared/verifier.compiled')\n",
    "prover_compiled_model_path = os.path.join('prover/prover.compiled')\n",
    "pk_path = os.path.join('shared/test.pk')\n",
    "vk_path = os.path.join('shared/test.vk')\n",
    "proof_path = os.path.join('shared/test.pf')\n",
    "settings_path = os.path.join('shared/settings.json')\n",
    "srs_path = os.path.join('shared/kzg.srs')\n",
    "witness_path = os.path.join('prover/witness.json')\n",
    "# this is private to prover since it contains actual data\n",
    "comb_data_path = os.path.join('prover/comb_data.json')"
   ]
  },
  {
   "attachments": {},
   "cell_type": "markdown",
   "metadata": {},
   "source": [
    "=======================  ZK-STATS FLOW ======================="
   ]
  },
  {
   "cell_type": "code",
   "execution_count": 12,
   "metadata": {},
   "outputs": [
    {
     "name": "stdout",
     "output_type": "stream",
     "text": [
      "cov:  3214.7648484848482\n",
      "x mean:  49.5\n",
      "y mean:  227.703\n"
     ]
    }
   ],
   "source": [
    "x_vals_path = os.path.join('x_vals.json')\n",
    "dummy_x_vals_path = os.path.join('shared/dummy_x_vals.json')\n",
    "x_open = open(x_vals_path, \"r\")\n",
    "x_vals= json.loads(x_open.read())['input_data'][0]\n",
    "dummy_x_vals = np.random.uniform(min(x_vals), max(x_vals), len(x_vals))\n",
    "json.dump({\"input_data\":[dummy_x_vals.tolist()]}, open(dummy_x_vals_path, 'w'))\n",
    "\n",
    "\n",
    "y_vals_path = os.path.join('y_vals.json')\n",
    "dummy_y_vals_path = os.path.join('shared/dummy_y_vals.json')\n",
    "y_open = open(y_vals_path, \"r\")\n",
    "y_vals= json.loads(y_open.read())[\"input_data\"][0]\n",
    "dummy_y_vals = np.random.uniform(min(y_vals), max(y_vals), len(y_vals))\n",
    "json.dump({\"input_data\":[dummy_y_vals.tolist()]}, open(dummy_y_vals_path, 'w'))\n",
    "\n",
    "\n",
    "real_cov = statistics.covariance(x_vals, y_vals)\n",
    "x_mean = statistics.mean(x_vals)\n",
    "y_mean = statistics.mean(y_vals)\n",
    "print(\"cov: \",real_cov )\n",
    "print(\"x mean: \", x_mean)\n",
    "print(\"y mean: \", y_mean)\n",
    "\n",
    "dummy_cov = statistics.covariance(dummy_x_vals, dummy_y_vals)\n",
    "dummy_x_mean = statistics.mean(dummy_x_vals)\n",
    "dummy_y_mean = statistics.mean(dummy_y_vals)"
   ]
  },
  {
   "attachments": {},
   "cell_type": "markdown",
   "metadata": {},
   "source": []
  },
  {
   "cell_type": "code",
   "execution_count": 13,
   "metadata": {},
   "outputs": [
    {
     "name": "stderr",
     "output_type": "stream",
     "text": [
      "/Library/Frameworks/Python.framework/Versions/3.10/lib/python3.10/site-packages/torch/onnx/symbolic_opset9.py:2174: FutureWarning: 'torch.onnx.symbolic_opset9._cast_Bool' is deprecated in version 2.0 and will be removed in the future. Please Avoid using this function and create a Cast node instead.\n",
      "  return fn(g, to_cast_func(g, input, False), to_cast_func(g, other, False))\n"
     ]
    }
   ],
   "source": [
    "# Verifier/ data consumer side:\n",
    "class verifier_model(nn.Module):\n",
    "    def __init__(self):\n",
    "        super(verifier_model, self).__init__()\n",
    "        self.cov = nn.Parameter(data = torch.tensor(dummy_cov), requires_grad = False)\n",
    "        self.x_mean = nn.Parameter(data = torch.tensor(dummy_x_mean), requires_grad = False)\n",
    "        self.y_mean = nn.Parameter(data = torch.tensor(dummy_y_mean), requires_grad = False)\n",
    "    def forward(self,X,Y):\n",
    "        # print(\"x size: \", X.size()[1])\n",
    "        #  need to enforce same length, not yet\n",
    "        x_mean_cons = torch.abs(torch.sum(X)-X.size()[1]*(self.x_mean))<=torch.abs(0.01*X.size()[1]*(self.x_mean))\n",
    "        y_mean_cons = torch.abs(torch.sum(Y)-Y.size()[1]*(self.y_mean))<=torch.abs(0.01*Y.size()[1]*(self.y_mean))\n",
    "        return (torch.logical_and(torch.logical_and(x_mean_cons,y_mean_cons), torch.abs(torch.sum((X-self.x_mean)*(Y-self.y_mean))-(X.size()[1]-1)*(self.cov))<0.01*(X.size()[1]-1)*(self.cov)), self.cov)\n",
    "\n",
    "verifier_define_calculation(verifier_model, verifier_model_path, [dummy_x_vals_path, dummy_y_vals_path])"
   ]
  },
  {
   "cell_type": "code",
   "execution_count": 14,
   "metadata": {},
   "outputs": [
    {
     "name": "stdout",
     "output_type": "stream",
     "text": [
      "Theory output:  tensor(3214.7649)\n",
      "==== Generate & Calibrate Setting ====\n",
      "scale:  [0]\n",
      "setting:  {\"run_args\":{\"tolerance\":{\"val\":0.0,\"scale\":1.0},\"input_scale\":0,\"param_scale\":0,\"scale_rebase_multiplier\":10,\"lookup_range\":[-448,6246],\"logrows\":14,\"num_inner_cols\":1,\"variables\":[[\"batch_size\",1]],\"input_visibility\":{\"Hashed\":{\"hash_is_public\":true,\"outlets\":[]}},\"output_visibility\":\"Public\",\"param_visibility\":\"Private\"},\"num_rows\":13120,\"total_assignments\":1026,\"total_const_size\":8,\"model_instance_shapes\":[[1],[1]],\"model_output_scales\":[0,0],\"model_input_scales\":[0,0],\"module_sizes\":{\"kzg\":[],\"poseidon\":[13120,[2]],\"elgamal\":[0,[0]]},\"required_lookups\":[\"Abs\",{\"GreaterThan\":{\"a\":0.0}}],\"check_mode\":\"UNSAFE\",\"version\":\"5.0.8\",\"num_blinding_factors\":null}\n"
     ]
    }
   ],
   "source": [
    "# prover calculates settings, send to verifier\n",
    "\n",
    "theory_output = torch.tensor(real_cov)\n",
    "print(\"Theory output: \", theory_output)\n",
    "class prover_model(nn.Module):\n",
    "    def __init__(self):\n",
    "        super(prover_model, self).__init__()\n",
    "        self.cov = nn.Parameter(data = torch.tensor(real_cov), requires_grad = False)\n",
    "        self.x_mean = nn.Parameter(data = torch.tensor(x_mean), requires_grad = False)\n",
    "        self.y_mean = nn.Parameter(data = torch.tensor(y_mean), requires_grad = False)\n",
    "    def forward(self,X,Y):\n",
    "        # print(\"x size: \", X.size()[1])\n",
    "        #  need to enforce same length\n",
    "        x_mean_cons = torch.abs(torch.sum(X)-X.size()[1]*(self.x_mean))<=torch.abs(0.01*X.size()[1]*(self.x_mean))\n",
    "        y_mean_cons = torch.abs(torch.sum(Y)-Y.size()[1]*(self.y_mean))<=torch.abs(0.01*Y.size()[1]*(self.y_mean))\n",
    "        return (torch.logical_and(torch.logical_and(x_mean_cons,y_mean_cons), torch.abs(torch.sum((X-self.x_mean)*(Y-self.y_mean))-(X.size()[1]-1)*(self.cov))<0.01*(X.size()[1]-1)*(self.cov)), self.cov)\n",
    "\n",
    "# note scale = 2, or 3 makes it more precise, but too big.\n",
    "prover_gen_settings([x_vals_path, y_vals_path], comb_data_path, prover_model,prover_model_path, [0], \"resources\", settings_path)"
   ]
  },
  {
   "cell_type": "code",
   "execution_count": 15,
   "metadata": {},
   "outputs": [
    {
     "name": "stderr",
     "output_type": "stream",
     "text": [
      "spawning module 0\n",
      "spawning module 2\n"
     ]
    },
    {
     "name": "stdout",
     "output_type": "stream",
     "text": [
      "==== setting up ezkl ====\n"
     ]
    },
    {
     "name": "stderr",
     "output_type": "stream",
     "text": [
      "spawning module 0\n",
      "spawning module 2\n",
      "spawning module 0\n"
     ]
    },
    {
     "name": "stdout",
     "output_type": "stream",
     "text": [
      "Time setup: 1.4271669387817383 seconds\n",
      "=======================================\n",
      "Theory output:  tensor(3214.7649)\n",
      "==== Generating Witness ====\n",
      "witness boolean:  1.0\n",
      "witness result 1 : 3215.0\n",
      "==== Generating Proof ====\n"
     ]
    },
    {
     "name": "stderr",
     "output_type": "stream",
     "text": [
      "spawning module 2\n"
     ]
    },
    {
     "name": "stdout",
     "output_type": "stream",
     "text": [
      "proof:  {'instances': [[[14955570959218682635, 4667139652385906200, 12836539004462631467, 1774684518626433649], [4224417983558473805, 851357164555783563, 5363851773531956453, 1448631618362554917], [12436184717236109307, 3962172157175319849, 7381016538464732718, 1011752739694698287], [5743885005642251665, 3430503978676436355, 7149667244725939006, 2902673458086333540]]], 'proof': '22c26a8058ecbe1d8614c46aa9e54698f49d2c8fd93da3d57695d36d84f5f1571c8d1244845c17dc002070688ff9b9507fb2696db1a0ceb57c9e6a879ab30af713ae86b4c3b43c3ffec52b71f5c55f2017deede376ec2c605648fbdbb96e07a9253553c28b9d2fd3366c8d1749667c19ff577a0dacc62942259b9c7c2843e5c80efa94aa440b048d20e3ddf44dee4976a3a8a27ced877d54b38cabfbc580101c0874e8514cce45ed3b6b68624accca320b6f633a55d3faca436245f54dc23273024335187b7c76a6620525e5d727fe4555e23783e43231e4eae9d75dc2c059fd0ed0ef8c8e95353de24a27b4fab2740b332acb9742a6181e3dec7bd731978b3a209bb165e72fcc3d6ee8386d2b45173d0e571e68ca274f01a90ea43e93a9d8d7218b8ea42a58191590c351d55804de1aa4690e050b9a7b6af0a6a8e305528d151ebc770002ae8a143df71f25c3be1bae04ebefb143904713ca89e452c33d59581e0a7e127a412226346d63d697b86aaf4ae32f6f19500c093c55b53329837c07123fcfedf2f8de0e89f1bd7b0c9542c1401b3a7c22ffc74f50b0edc74e84c9ff12ddfbfc264b4dd8575d555ba392b120f00d6259947268d08b3c1dad512e03cb26755fdf8425e36069f280491c626203d2df775b1ef47eca8be60efdb05ddb84284d74ad55a6ff524b72e03701bdf084fcdd5bbb0184c8b807bb6f4197822d9a14285a3cf904349a0a0dbb264136b4498751d830acd1baf4abf575afbd7ed95d065405781e07e58ea69cebe97778461131fab2f398398ac38919af22852295f917141f0cd5b4bd6ffebae0984f1f82428afac4fb194fcae1b866489de7c23a1b1088000785989d76baaf450ef0d2bebcc6f37328a55169c02d4218307b3dde1c01afe93cd2ccc80586331a15715db09e795258f17ed5e43af13ae28f582dc6be0ea0f315d1e8b23d1891126e515c597a527f2b10ce373eeaa414343f3105110e218f5624e5b0239eb3fb511aaf435a1ab8760ba792897da597b9caada02db4fe15cec3b3a16500e919d67fbf1130d26b2382d892a7293f373b786a781e33980c1ff723b663404ebc367e671af634b3385f2ecc6f96507941e796be6064a95418042f1eb208a72f8e95e3f3f950de6f5e8f6ae20af82ed74ca043e42b6e5ca18908f833d4c28a9834ea40eddfd0e1db213ef9c06d12ccb62138425bc0b34ff6771c32988ac912bbb193c3581e6e819a5aa0abd3d16e6be04cc2dc21ab8299633222fe6d4c9b0bef107d3109a1b2f681b94720d744c4d39b8e9613892d322e3ab70ae49bed017856f2983382a0c8e7a68eeba496f376a250cd534fca5db14bd6832b0965365758d40c38e61028866a2fd062443c5600eb1cc1e373b1e538b238ac1f49e4f5c934912f9df83194dd223259c9efbfe0a3ccd8824c76c495186d06b30fdffe0efda978f9c7f966829e5f7270cbba2dbb507922268d38e4c5cb02c5f310d8111e04cff773aa443c7a043689e981c1626c6c566bfdbd4244019b82c7be10073184fabf12c26cc264b2221c77873d1a87feca75c000c2178db8ef88f8fa11b0dd7cc6a7a09a983ea5e220bdf182ecbe29536967fdda1ff288e63ccd012700d0f777c61e1757281f2754bb2d3072f5c87f138c4d5da308ad921797ff47ff19f313370d548580307fc4e45d4e149db470a2b5ee29bf855a9e62b7a4b962dc0f255b76ce0ac5849537cf9ce3766427dffa20774494b9a6ed75aa2251ce47cd13dd715122170107cf2a934558fadffb15ad44394112bbc8e5117200ec5e75bd077551bea19a557d4a56fc7753740ead136ddc286dba28f2271087533839cbf811616cb4e803be1bb46783c33a140d1662a4da75ca2ddb374266e0e7be67aec12dd94515199ce07f38c53974e489187b4ea54c83eaef5d0bd205ea1a00f9fa0b20f594ee48b7ce34cb71ddfddeecbad3c8af85abc6a383da72128e5bf48683b10a5535d053c27292d923648c6c0e3fe1abb509b589bc2882d5745aab33262cbb170138e60066df3e1b28528056626b8a7c16e1f8dae80e6e698d2bc94ec6167010429f295295b92dc648d4879c504861163c0a1493cf81285348142d489b935217b6ebc9178e7db5fd82f10c1f08aada01890bf985a50a5f3c3d82638aa7c7392c90370ea6b7809ad9c3db8aacf6d49a3de127049a78c565b6012c098702a5b61b7f94e3419fc5bfb9d2cf2e5f7e110a18be8eabf27f73d1bb74c3c534e12ebc11bd93034095a927b35394ad3426055c3a3c18c803cb5841f96e526a0b0227df03e5009b03981fd151e0ad0dfa3b680a59b135f934f1afcd2b6c914ffcfde31c0a64f2848509bd6e12694f34a93f401bb019504d48f20fe85448fd1d774cfd6a051d7fced1a6822d92b57a7b56cd1c73b0d54459ffc72157a514b0a652adf4982b1c3131d377bd85a1d7663310044a5bd7175a079d8aa2b8f427e61940d08ebd072251a2e1d098b9b2e50a737eb5dffb940e29202c36ac4768671c9f6a3ba5b5030ec6050a4dfc8702d279675542c8eda3a398f6be9a0b969deb90f9731d79d116f1e2407e76cd6298c153260f9db47208c33c48daa20a881c634d967628f4462196424fdaaa39b14f21d387e97d53915f9c3c7f3f6c0a8f22a40fa68e0e451122fef20697d0680fa6c9b70dcfcbc00d796df252b194441c9156546d01faf869054b0b0bac95cce2edd2152f0a76dd922edb36c3f6a1fa1a03c3b7306460cfef065feb44e5d52479831c2e58c2f15e807535a1b7bafab46f5a677f670f29d9d51e9452a40d4403972f536e15774af5aee40e59d29755e25e1f930c001d0fbbdc2904c0b69add264a503d75890596061a349d1eeacbf29f18e8e0b6398532903729c1ca6c5a8ac20e91d28be3a5e35cff4438cf0e98df21b1368762cd602dc8a0011eccedea1c8fd10babde869ba45448df7e7c3d12979d086556285ab7551e8e0e8a558484a6b30680249ece70ed9cafcfb0bd4e85d63093e2a179bf0fd990c60ee8416069fd41b0b1d52612b92d91cc7410d989447be970c50afb49e26bff5c042d5e98da9eb41dca98f4b336425dbfc8a167c7fd38b4d79ec1c3bea3a2ef112719e04bd2104cf80b5b6ba39e426d5da8b377a664d70fb435f857285891141e281f1170c5bc833229c5156382f8b367e29ee2fb03485f6050d5c0ab765b19052e8514f9caa4f1daf91dbb5c81079b6a13805096154679bce58787c2c73b01f31b335a05e50c7fdd20ec2f3c90903511868c89fc6eaa53a4a15d077fae5151be2039fd2cabc76f3fd9725622654d8ef6c9b728a256408e3552e6e4431eed95b00554ae47073093fdf17bea32dd1ba8597e53c32805e60979c7325d268cbd1c810edec23a9439b84d90a1801a5ee8acbe30731e500cb354d31202b9b2eecb3eb810c9f90f8583b3bd520adefd1374e77896b3ad813f8788534bdc86bbb1f3fd611e192f0d0b962f42b4dfcf0c98e3f4cc1b77c51185e94b916204dff2d47a5eaa28e5ff47afbbc18cd8e55ad9e3cfaeab9d69822bc19c4d9a38f0940a14650745221e14d5b226db6827ce4d81f17a0105da3209f679b0e6c092b2a7b65dd67d730788f25ac4c1648873ccf36eb3cac71531189ccb4ac7fc85cf3c2298f83cc9791a6bcfeff5ec5c7e85301e8f5c1d787dc284f9aa03f16bdf665c07344887de712777aa78a36157c271596b6d1b83f8bb36882315dfb130f711c73d42a21495b52522a89816e3bbb7b379a298c5e36f11b1fb0726aab80112bf64ecf10c8735e11879c3717dd3c67093fb1faee2f1b1aa5742dcad071022ff7c9257f91a68d4870dadd2d7758f118e670a77437d2b7f6b0bd92ee467bd49276f99851a0695388d145294f5781f9f3138aca6adf58dbcaec0f08df5fec6d3413a9222470a21ad6315c2ff124d318d39e39e05c92d68954d320ae4551ae08f5bb698150a40117c4609631cd414d92bc0e05eb6a09ebde851db05367b5d92472873b1fb438afd54b914c3476c83f595e6c278ea11704eec4378f8f516a9dfb6fc1cfddb3f7da0a14b042237d14013ff94e2e88ac4b71ebfb52d7bf1f04612c700e0125f8f0c887edb1ac29123fb47caf4c5169e3b2a3c4bf01830f73346c146fc2968fe182a536dc00a7aeb875dd54b2dad5973eb0a0ad331da431947931895510cc72f74a2655cb8', 'transcript_type': 'EVM'}\n",
      "Time gen prf: 1.9903337955474854 seconds\n"
     ]
    }
   ],
   "source": [
    "# Here verifier & prover can concurrently call setup since all params are public to get pk. \n",
    "# Here write as verifier function to emphasize that verifier must calculate its own vk to be sure\n",
    "verifier_setup(verifier_model_path, verifier_compiled_model_path, settings_path, srs_path,vk_path, pk_path )\n",
    "\n",
    "print(\"=======================================\")\n",
    "# Prover generates proof\n",
    "print(\"Theory output: \", theory_output)\n",
    "prover_gen_proof(prover_model_path, comb_data_path, witness_path, prover_compiled_model_path, settings_path, proof_path, pk_path, srs_path)"
   ]
  },
  {
   "cell_type": "code",
   "execution_count": 16,
   "metadata": {},
   "outputs": [
    {
     "name": "stdout",
     "output_type": "stream",
     "text": [
      "num_inputs:  2\n",
      "prf instances:  [[[14955570959218682635, 4667139652385906200, 12836539004462631467, 1774684518626433649], [4224417983558473805, 851357164555783563, 5363851773531956453, 1448631618362554917], [12436184717236109307, 3962172157175319849, 7381016538464732718, 1011752739694698287], [5743885005642251665, 3430503978676436355, 7149667244725939006, 2902673458086333540]]]\n",
      "proof boolean:  1.0\n",
      "proof result 1 : 3215.0\n",
      "verified\n"
     ]
    }
   ],
   "source": [
    "# Verifier verifies\n",
    "verifier_verify(proof_path, settings_path, vk_path, srs_path)"
   ]
  },
  {
   "cell_type": "code",
   "execution_count": null,
   "metadata": {},
   "outputs": [],
   "source": []
  },
  {
   "cell_type": "code",
   "execution_count": null,
   "metadata": {},
   "outputs": [],
   "source": []
  },
  {
   "cell_type": "code",
   "execution_count": null,
   "metadata": {},
   "outputs": [],
   "source": []
  }
 ],
 "metadata": {
  "kernelspec": {
   "display_name": "Python 3",
   "language": "python",
   "name": "python3"
  },
  "language_info": {
   "codemirror_mode": {
    "name": "ipython",
    "version": 3
   },
   "file_extension": ".py",
   "mimetype": "text/x-python",
   "name": "python",
   "nbconvert_exporter": "python",
   "pygments_lexer": "ipython3",
   "version": "3.10.0"
  },
  "orig_nbformat": 4
 },
 "nbformat": 4,
 "nbformat_minor": 2
}
