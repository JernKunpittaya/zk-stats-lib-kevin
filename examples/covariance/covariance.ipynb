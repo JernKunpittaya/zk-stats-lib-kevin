{
 "cells": [
  {
   "cell_type": "code",
   "execution_count": 1,
   "metadata": {},
   "outputs": [
    {
     "name": "stdout",
     "output_type": "stream",
     "text": [
      "Requirement already satisfied: ezkl==5.0.8 in /Library/Frameworks/Python.framework/Versions/3.10/lib/python3.10/site-packages (from -r ../../requirements.txt (line 1)) (5.0.8)\n",
      "Requirement already satisfied: torch in /Library/Frameworks/Python.framework/Versions/3.10/lib/python3.10/site-packages (from -r ../../requirements.txt (line 2)) (2.1.1)\n",
      "Requirement already satisfied: requests in /Library/Frameworks/Python.framework/Versions/3.10/lib/python3.10/site-packages (from -r ../../requirements.txt (line 3)) (2.31.0)\n",
      "Requirement already satisfied: scipy in /Library/Frameworks/Python.framework/Versions/3.10/lib/python3.10/site-packages (from -r ../../requirements.txt (line 4)) (1.11.4)\n",
      "Requirement already satisfied: numpy in /Library/Frameworks/Python.framework/Versions/3.10/lib/python3.10/site-packages (from -r ../../requirements.txt (line 5)) (1.26.2)\n",
      "Requirement already satisfied: matplotlib in /Library/Frameworks/Python.framework/Versions/3.10/lib/python3.10/site-packages (from -r ../../requirements.txt (line 6)) (3.8.2)\n",
      "Requirement already satisfied: statistics in /Library/Frameworks/Python.framework/Versions/3.10/lib/python3.10/site-packages (from -r ../../requirements.txt (line 7)) (1.0.3.5)\n",
      "Requirement already satisfied: onnx in /Library/Frameworks/Python.framework/Versions/3.10/lib/python3.10/site-packages (from -r ../../requirements.txt (line 8)) (1.15.0)\n",
      "Requirement already satisfied: fsspec in /Library/Frameworks/Python.framework/Versions/3.10/lib/python3.10/site-packages (from torch->-r ../../requirements.txt (line 2)) (2023.10.0)\n",
      "Requirement already satisfied: networkx in /Library/Frameworks/Python.framework/Versions/3.10/lib/python3.10/site-packages (from torch->-r ../../requirements.txt (line 2)) (3.2.1)\n",
      "Requirement already satisfied: typing-extensions in /Library/Frameworks/Python.framework/Versions/3.10/lib/python3.10/site-packages (from torch->-r ../../requirements.txt (line 2)) (4.8.0)\n",
      "Requirement already satisfied: sympy in /Library/Frameworks/Python.framework/Versions/3.10/lib/python3.10/site-packages (from torch->-r ../../requirements.txt (line 2)) (1.12)\n",
      "Requirement already satisfied: jinja2 in /Library/Frameworks/Python.framework/Versions/3.10/lib/python3.10/site-packages (from torch->-r ../../requirements.txt (line 2)) (3.1.2)\n",
      "Requirement already satisfied: filelock in /Library/Frameworks/Python.framework/Versions/3.10/lib/python3.10/site-packages (from torch->-r ../../requirements.txt (line 2)) (3.13.1)\n",
      "Requirement already satisfied: certifi>=2017.4.17 in /Library/Frameworks/Python.framework/Versions/3.10/lib/python3.10/site-packages (from requests->-r ../../requirements.txt (line 3)) (2023.11.17)\n",
      "Requirement already satisfied: urllib3<3,>=1.21.1 in /Library/Frameworks/Python.framework/Versions/3.10/lib/python3.10/site-packages (from requests->-r ../../requirements.txt (line 3)) (2.1.0)\n",
      "Requirement already satisfied: idna<4,>=2.5 in /Library/Frameworks/Python.framework/Versions/3.10/lib/python3.10/site-packages (from requests->-r ../../requirements.txt (line 3)) (3.6)\n",
      "Requirement already satisfied: charset-normalizer<4,>=2 in /Library/Frameworks/Python.framework/Versions/3.10/lib/python3.10/site-packages (from requests->-r ../../requirements.txt (line 3)) (3.3.2)\n",
      "Requirement already satisfied: pyparsing>=2.3.1 in /Library/Frameworks/Python.framework/Versions/3.10/lib/python3.10/site-packages (from matplotlib->-r ../../requirements.txt (line 6)) (3.1.1)\n",
      "Requirement already satisfied: cycler>=0.10 in /Library/Frameworks/Python.framework/Versions/3.10/lib/python3.10/site-packages (from matplotlib->-r ../../requirements.txt (line 6)) (0.12.1)\n",
      "Requirement already satisfied: pillow>=8 in /Library/Frameworks/Python.framework/Versions/3.10/lib/python3.10/site-packages (from matplotlib->-r ../../requirements.txt (line 6)) (10.1.0)\n",
      "Requirement already satisfied: contourpy>=1.0.1 in /Library/Frameworks/Python.framework/Versions/3.10/lib/python3.10/site-packages (from matplotlib->-r ../../requirements.txt (line 6)) (1.2.0)\n",
      "Requirement already satisfied: python-dateutil>=2.7 in /Users/jernkun/Library/Python/3.10/lib/python/site-packages (from matplotlib->-r ../../requirements.txt (line 6)) (2.8.2)\n",
      "Requirement already satisfied: fonttools>=4.22.0 in /Library/Frameworks/Python.framework/Versions/3.10/lib/python3.10/site-packages (from matplotlib->-r ../../requirements.txt (line 6)) (4.45.1)\n",
      "Requirement already satisfied: packaging>=20.0 in /Users/jernkun/Library/Python/3.10/lib/python/site-packages (from matplotlib->-r ../../requirements.txt (line 6)) (23.2)\n",
      "Requirement already satisfied: kiwisolver>=1.3.1 in /Library/Frameworks/Python.framework/Versions/3.10/lib/python3.10/site-packages (from matplotlib->-r ../../requirements.txt (line 6)) (1.4.5)\n",
      "Requirement already satisfied: docutils>=0.3 in /Library/Frameworks/Python.framework/Versions/3.10/lib/python3.10/site-packages (from statistics->-r ../../requirements.txt (line 7)) (0.20.1)\n",
      "Requirement already satisfied: protobuf>=3.20.2 in /Library/Frameworks/Python.framework/Versions/3.10/lib/python3.10/site-packages (from onnx->-r ../../requirements.txt (line 8)) (4.25.1)\n",
      "Requirement already satisfied: six>=1.5 in /Users/jernkun/Library/Python/3.10/lib/python/site-packages (from python-dateutil>=2.7->matplotlib->-r ../../requirements.txt (line 6)) (1.16.0)\n",
      "Requirement already satisfied: MarkupSafe>=2.0 in /Library/Frameworks/Python.framework/Versions/3.10/lib/python3.10/site-packages (from jinja2->torch->-r ../../requirements.txt (line 2)) (2.1.3)\n",
      "Requirement already satisfied: mpmath>=0.19 in /Library/Frameworks/Python.framework/Versions/3.10/lib/python3.10/site-packages (from sympy->torch->-r ../../requirements.txt (line 2)) (1.3.0)\n",
      "\u001b[33mWARNING: You are using pip version 21.2.3; however, version 23.3.1 is available.\n",
      "You should consider upgrading via the '/usr/local/bin/python3 -m pip install --upgrade pip' command.\u001b[0m\n",
      "Note: you may need to restart the kernel to use updated packages.\n"
     ]
    }
   ],
   "source": [
    "pip install -r ../../requirements.txt"
   ]
  },
  {
   "cell_type": "code",
   "execution_count": 1,
   "metadata": {},
   "outputs": [],
   "source": [
    "import ezkl\n",
    "import torch\n",
    "from torch import nn\n",
    "import json\n",
    "import os\n",
    "import time\n",
    "import scipy\n",
    "import numpy as np\n",
    "import matplotlib.pyplot as plt\n",
    "import statistics\n",
    "import math"
   ]
  },
  {
   "cell_type": "code",
   "execution_count": 2,
   "metadata": {},
   "outputs": [],
   "source": [
    "%run -i ../../core.py"
   ]
  },
  {
   "cell_type": "code",
   "execution_count": 3,
   "metadata": {},
   "outputs": [],
   "source": [
    "# init path\n",
    "os.makedirs(os.path.dirname('shared/'), exist_ok=True)\n",
    "os.makedirs(os.path.dirname('prover/'), exist_ok=True)\n",
    "verifier_model_path = os.path.join('shared/verifier.onnx')\n",
    "prover_model_path = os.path.join('prover/prover.onnx')\n",
    "verifier_compiled_model_path = os.path.join('shared/verifier.compiled')\n",
    "prover_compiled_model_path = os.path.join('prover/prover.compiled')\n",
    "pk_path = os.path.join('shared/test.pk')\n",
    "vk_path = os.path.join('shared/test.vk')\n",
    "proof_path = os.path.join('shared/test.pf')\n",
    "settings_path = os.path.join('shared/settings.json')\n",
    "srs_path = os.path.join('shared/kzg.srs')\n",
    "witness_path = os.path.join('prover/witness.json')\n",
    "# this is private to prover since it contains actual data\n",
    "comb_data_path = os.path.join('prover/comb_data.json')"
   ]
  },
  {
   "attachments": {},
   "cell_type": "markdown",
   "metadata": {},
   "source": [
    "=======================  ZK-STATS FLOW ======================="
   ]
  },
  {
   "cell_type": "code",
   "execution_count": 4,
   "metadata": {},
   "outputs": [
    {
     "name": "stdout",
     "output_type": "stream",
     "text": [
      "cov:  3214.7648484848482\n",
      "x mean:  49.5\n",
      "y mean:  227.703\n"
     ]
    }
   ],
   "source": [
    "x_vals_path = os.path.join('x_vals.json')\n",
    "dummy_x_vals_path = os.path.join('shared/dummy_x_vals.json')\n",
    "x_open = open(x_vals_path, \"r\")\n",
    "x_vals= json.loads(x_open.read())['input_data'][0]\n",
    "dummy_x_vals = np.random.uniform(min(x_vals), max(x_vals), len(x_vals))\n",
    "json.dump({\"input_data\":[dummy_x_vals.tolist()]}, open(dummy_x_vals_path, 'w'))\n",
    "\n",
    "\n",
    "y_vals_path = os.path.join('y_vals.json')\n",
    "dummy_y_vals_path = os.path.join('shared/dummy_y_vals.json')\n",
    "y_open = open(y_vals_path, \"r\")\n",
    "y_vals= json.loads(y_open.read())[\"input_data\"][0]\n",
    "dummy_y_vals = np.random.uniform(min(y_vals), max(y_vals), len(y_vals))\n",
    "json.dump({\"input_data\":[dummy_y_vals.tolist()]}, open(dummy_y_vals_path, 'w'))\n",
    "\n",
    "\n",
    "real_cov = statistics.covariance(x_vals, y_vals)\n",
    "x_mean = statistics.mean(x_vals)\n",
    "y_mean = statistics.mean(y_vals)\n",
    "print(\"cov: \",real_cov )\n",
    "print(\"x mean: \", x_mean)\n",
    "print(\"y mean: \", y_mean)\n",
    "\n",
    "dummy_cov = statistics.covariance(dummy_x_vals, dummy_y_vals)\n",
    "dummy_x_mean = statistics.mean(dummy_x_vals)\n",
    "dummy_y_mean = statistics.mean(dummy_y_vals)"
   ]
  },
  {
   "attachments": {},
   "cell_type": "markdown",
   "metadata": {},
   "source": []
  },
  {
   "cell_type": "code",
   "execution_count": 5,
   "metadata": {},
   "outputs": [
    {
     "name": "stderr",
     "output_type": "stream",
     "text": [
      "/Library/Frameworks/Python.framework/Versions/3.10/lib/python3.10/site-packages/torch/onnx/symbolic_opset9.py:2174: FutureWarning: 'torch.onnx.symbolic_opset9._cast_Bool' is deprecated in version 2.0 and will be removed in the future. Please Avoid using this function and create a Cast node instead.\n",
      "  return fn(g, to_cast_func(g, input, False), to_cast_func(g, other, False))\n"
     ]
    }
   ],
   "source": [
    "# Verifier/ data consumer side:\n",
    "class verifier_model(nn.Module):\n",
    "    def __init__(self):\n",
    "        super(verifier_model, self).__init__()\n",
    "        self.cov = nn.Parameter(data = torch.tensor(dummy_cov), requires_grad = False)\n",
    "        self.x_mean = nn.Parameter(data = torch.tensor(dummy_x_mean), requires_grad = False)\n",
    "        self.y_mean = nn.Parameter(data = torch.tensor(dummy_y_mean), requires_grad = False)\n",
    "    def forward(self,X,Y):\n",
    "        # some expression of tolerance to error in the inference\n",
    "        # print(\"x size: \", X.size()[1])\n",
    "        #  need to enforce same length, not yet\n",
    "        x_mean_cons = torch.abs(torch.sum(X)-X.size()[1]*(self.x_mean))<0.01*X.size()[1]*(self.x_mean)\n",
    "        y_mean_cons = torch.abs(torch.sum(Y)-Y.size()[1]*(self.y_mean))<0.01*Y.size()[1]*(self.y_mean)\n",
    "        return (torch.logical_and(torch.logical_and(x_mean_cons,y_mean_cons), torch.abs(torch.sum((X-self.x_mean)*(Y-self.y_mean))-(X.size()[1]-1)*(self.cov))<0.01*(X.size()[1]-1)*(self.cov)), self.cov)\n",
    "\n",
    "verifier_define_calculation(verifier_model, verifier_model_path, [dummy_x_vals_path, dummy_y_vals_path])"
   ]
  },
  {
   "cell_type": "code",
   "execution_count": 6,
   "metadata": {},
   "outputs": [
    {
     "name": "stdout",
     "output_type": "stream",
     "text": [
      "Theory output:  tensor(3214.7649)\n",
      "==== Generate & Calibrate Setting ====\n",
      "scale:  [0]\n",
      "setting:  {\"run_args\":{\"tolerance\":{\"val\":0.0,\"scale\":1.0},\"input_scale\":0,\"param_scale\":0,\"scale_rebase_multiplier\":10,\"lookup_range\":[0,6246],\"logrows\":14,\"num_inner_cols\":1,\"variables\":[[\"batch_size\",1]],\"input_visibility\":{\"Hashed\":{\"hash_is_public\":true,\"outlets\":[]}},\"output_visibility\":\"Public\",\"param_visibility\":\"Private\"},\"num_rows\":13120,\"total_assignments\":1018,\"total_const_size\":0,\"model_instance_shapes\":[[1],[1]],\"model_output_scales\":[0,0],\"model_input_scales\":[0,0],\"module_sizes\":{\"kzg\":[],\"poseidon\":[13120,[2]],\"elgamal\":[0,[0]]},\"required_lookups\":[\"Abs\",{\"GreaterThan\":{\"a\":0.0}}],\"check_mode\":\"UNSAFE\",\"version\":\"5.0.8\",\"num_blinding_factors\":null}\n"
     ]
    }
   ],
   "source": [
    "# prover calculates settings, send to verifier\n",
    "\n",
    "theory_output = torch.tensor(real_cov)\n",
    "print(\"Theory output: \", theory_output)\n",
    "class prover_model(nn.Module):\n",
    "    def __init__(self):\n",
    "        super(prover_model, self).__init__()\n",
    "        self.cov = nn.Parameter(data = torch.tensor(real_cov), requires_grad = False)\n",
    "        self.x_mean = nn.Parameter(data = torch.tensor(x_mean), requires_grad = False)\n",
    "        self.y_mean = nn.Parameter(data = torch.tensor(y_mean), requires_grad = False)\n",
    "    def forward(self,X,Y):\n",
    "        # some expression of tolerance to error in the inference\n",
    "        # print(\"x size: \", X.size()[1])\n",
    "        #  need to enforce same length\n",
    "        x_mean_cons = torch.abs(torch.sum(X)-X.size()[1]*(self.x_mean))<0.01*X.size()[1]*(self.x_mean)\n",
    "        y_mean_cons = torch.abs(torch.sum(Y)-Y.size()[1]*(self.y_mean))<0.01*Y.size()[1]*(self.y_mean)\n",
    "        return (torch.logical_and(torch.logical_and(x_mean_cons,y_mean_cons), torch.abs(torch.sum((X-self.x_mean)*(Y-self.y_mean))-(X.size()[1]-1)*(self.cov))<0.01*(X.size()[1]-1)*(self.cov)), self.cov)\n",
    "\n",
    "prover_gen_settings([x_vals_path, y_vals_path], comb_data_path, prover_model,prover_model_path, [0], \"resources\", settings_path)"
   ]
  },
  {
   "cell_type": "code",
   "execution_count": 7,
   "metadata": {},
   "outputs": [
    {
     "name": "stderr",
     "output_type": "stream",
     "text": [
      "spawning module 0\n"
     ]
    },
    {
     "name": "stdout",
     "output_type": "stream",
     "text": [
      "==== setting up ezkl ====\n"
     ]
    },
    {
     "name": "stderr",
     "output_type": "stream",
     "text": [
      "spawning module 2\n",
      "spawning module 0\n",
      "spawning module 2\n",
      "spawning module 0\n"
     ]
    },
    {
     "name": "stdout",
     "output_type": "stream",
     "text": [
      "Time setup: 1.365229845046997 seconds\n",
      "=======================================\n",
      "Theory output:  tensor(3214.7649)\n",
      "==== Generating Witness ====\n",
      "witness boolean:  1.0\n",
      "witness result 1 : 3215.0\n",
      "==== Generating Proof ====\n"
     ]
    },
    {
     "name": "stderr",
     "output_type": "stream",
     "text": [
      "spawning module 2\n"
     ]
    },
    {
     "name": "stdout",
     "output_type": "stream",
     "text": [
      "proof:  {'instances': [[[14955570959218682635, 4667139652385906200, 12836539004462631467, 1774684518626433649], [4224417983558473805, 851357164555783563, 5363851773531956453, 1448631618362554917], [12436184717236109307, 3962172157175319849, 7381016538464732718, 1011752739694698287], [5743885005642251665, 3430503978676436355, 7149667244725939006, 2902673458086333540]]], 'proof': '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', 'transcript_type': 'EVM'}\n",
      "Time gen prf: 1.8565382957458496 seconds\n"
     ]
    }
   ],
   "source": [
    "# Here verifier & prover can concurrently call setup since all params are public to get pk. \n",
    "# Here write as verifier function to emphasize that verifier must calculate its own vk to be sure\n",
    "verifier_setup(verifier_model_path, verifier_compiled_model_path, settings_path, srs_path,vk_path, pk_path )\n",
    "\n",
    "print(\"=======================================\")\n",
    "# Prover generates proof\n",
    "print(\"Theory output: \", theory_output)\n",
    "prover_gen_proof(prover_model_path, comb_data_path, witness_path, prover_compiled_model_path, settings_path, proof_path, pk_path, srs_path)"
   ]
  },
  {
   "cell_type": "code",
   "execution_count": 8,
   "metadata": {},
   "outputs": [
    {
     "name": "stdout",
     "output_type": "stream",
     "text": [
      "num_inputs:  2\n",
      "prf instances:  [[[14955570959218682635, 4667139652385906200, 12836539004462631467, 1774684518626433649], [4224417983558473805, 851357164555783563, 5363851773531956453, 1448631618362554917], [12436184717236109307, 3962172157175319849, 7381016538464732718, 1011752739694698287], [5743885005642251665, 3430503978676436355, 7149667244725939006, 2902673458086333540]]]\n",
      "proof boolean:  1.0\n",
      "proof result 1 : 3215.0\n",
      "verified\n"
     ]
    }
   ],
   "source": [
    "# Verifier verifies\n",
    "verifier_verify(proof_path, settings_path, vk_path, srs_path)"
   ]
  },
  {
   "cell_type": "code",
   "execution_count": null,
   "metadata": {},
   "outputs": [],
   "source": []
  },
  {
   "cell_type": "code",
   "execution_count": null,
   "metadata": {},
   "outputs": [],
   "source": []
  },
  {
   "cell_type": "code",
   "execution_count": null,
   "metadata": {},
   "outputs": [],
   "source": []
  }
 ],
 "metadata": {
  "kernelspec": {
   "display_name": "Python 3",
   "language": "python",
   "name": "python3"
  },
  "language_info": {
   "codemirror_mode": {
    "name": "ipython",
    "version": 3
   },
   "file_extension": ".py",
   "mimetype": "text/x-python",
   "name": "python",
   "nbconvert_exporter": "python",
   "pygments_lexer": "ipython3",
   "version": "3.10.0"
  },
  "orig_nbformat": 4
 },
 "nbformat": 4,
 "nbformat_minor": 2
}
