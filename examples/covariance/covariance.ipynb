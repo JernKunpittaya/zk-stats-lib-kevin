{
 "cells": [
  {
   "cell_type": "code",
   "execution_count": 1,
   "metadata": {},
   "outputs": [
    {
     "name": "stdout",
     "output_type": "stream",
     "text": [
      "Requirement already satisfied: ezkl==7.0.0 in /Users/jernkun/Library/Caches/pypoetry/virtualenvs/zkstats-OJpceffF-py3.11/lib/python3.11/site-packages (from -r ../../requirements.txt (line 1)) (7.0.0)\n",
      "Requirement already satisfied: torch in /Users/jernkun/Library/Caches/pypoetry/virtualenvs/zkstats-OJpceffF-py3.11/lib/python3.11/site-packages (from -r ../../requirements.txt (line 2)) (2.2.0)\n",
      "Requirement already satisfied: requests in /Users/jernkun/Library/Caches/pypoetry/virtualenvs/zkstats-OJpceffF-py3.11/lib/python3.11/site-packages (from -r ../../requirements.txt (line 3)) (2.31.0)\n",
      "Requirement already satisfied: scipy in /Users/jernkun/Library/Caches/pypoetry/virtualenvs/zkstats-OJpceffF-py3.11/lib/python3.11/site-packages (from -r ../../requirements.txt (line 4)) (1.12.0)\n",
      "Requirement already satisfied: numpy in /Users/jernkun/Library/Caches/pypoetry/virtualenvs/zkstats-OJpceffF-py3.11/lib/python3.11/site-packages (from -r ../../requirements.txt (line 5)) (1.26.3)\n",
      "Requirement already satisfied: matplotlib in /Users/jernkun/Library/Caches/pypoetry/virtualenvs/zkstats-OJpceffF-py3.11/lib/python3.11/site-packages (from -r ../../requirements.txt (line 6)) (3.8.2)\n",
      "Requirement already satisfied: statistics in /Users/jernkun/Library/Caches/pypoetry/virtualenvs/zkstats-OJpceffF-py3.11/lib/python3.11/site-packages (from -r ../../requirements.txt (line 7)) (1.0.3.5)\n",
      "Requirement already satisfied: onnx in /Users/jernkun/Library/Caches/pypoetry/virtualenvs/zkstats-OJpceffF-py3.11/lib/python3.11/site-packages (from -r ../../requirements.txt (line 8)) (1.15.0)\n",
      "Requirement already satisfied: filelock in /Users/jernkun/Library/Caches/pypoetry/virtualenvs/zkstats-OJpceffF-py3.11/lib/python3.11/site-packages (from torch->-r ../../requirements.txt (line 2)) (3.13.1)\n",
      "Requirement already satisfied: typing-extensions>=4.8.0 in /Users/jernkun/Library/Caches/pypoetry/virtualenvs/zkstats-OJpceffF-py3.11/lib/python3.11/site-packages (from torch->-r ../../requirements.txt (line 2)) (4.9.0)\n",
      "Requirement already satisfied: sympy in /Users/jernkun/Library/Caches/pypoetry/virtualenvs/zkstats-OJpceffF-py3.11/lib/python3.11/site-packages (from torch->-r ../../requirements.txt (line 2)) (1.12)\n",
      "Requirement already satisfied: networkx in /Users/jernkun/Library/Caches/pypoetry/virtualenvs/zkstats-OJpceffF-py3.11/lib/python3.11/site-packages (from torch->-r ../../requirements.txt (line 2)) (3.2.1)\n",
      "Requirement already satisfied: jinja2 in /Users/jernkun/Library/Caches/pypoetry/virtualenvs/zkstats-OJpceffF-py3.11/lib/python3.11/site-packages (from torch->-r ../../requirements.txt (line 2)) (3.1.3)\n",
      "Requirement already satisfied: fsspec in /Users/jernkun/Library/Caches/pypoetry/virtualenvs/zkstats-OJpceffF-py3.11/lib/python3.11/site-packages (from torch->-r ../../requirements.txt (line 2)) (2023.12.2)\n",
      "Requirement already satisfied: charset-normalizer<4,>=2 in /Users/jernkun/Library/Caches/pypoetry/virtualenvs/zkstats-OJpceffF-py3.11/lib/python3.11/site-packages (from requests->-r ../../requirements.txt (line 3)) (3.3.2)\n",
      "Requirement already satisfied: idna<4,>=2.5 in /Users/jernkun/Library/Caches/pypoetry/virtualenvs/zkstats-OJpceffF-py3.11/lib/python3.11/site-packages (from requests->-r ../../requirements.txt (line 3)) (3.6)\n",
      "Requirement already satisfied: urllib3<3,>=1.21.1 in /Users/jernkun/Library/Caches/pypoetry/virtualenvs/zkstats-OJpceffF-py3.11/lib/python3.11/site-packages (from requests->-r ../../requirements.txt (line 3)) (2.2.0)\n",
      "Requirement already satisfied: certifi>=2017.4.17 in /Users/jernkun/Library/Caches/pypoetry/virtualenvs/zkstats-OJpceffF-py3.11/lib/python3.11/site-packages (from requests->-r ../../requirements.txt (line 3)) (2024.2.2)\n",
      "Requirement already satisfied: contourpy>=1.0.1 in /Users/jernkun/Library/Caches/pypoetry/virtualenvs/zkstats-OJpceffF-py3.11/lib/python3.11/site-packages (from matplotlib->-r ../../requirements.txt (line 6)) (1.2.0)\n",
      "Requirement already satisfied: cycler>=0.10 in /Users/jernkun/Library/Caches/pypoetry/virtualenvs/zkstats-OJpceffF-py3.11/lib/python3.11/site-packages (from matplotlib->-r ../../requirements.txt (line 6)) (0.12.1)\n",
      "Requirement already satisfied: fonttools>=4.22.0 in /Users/jernkun/Library/Caches/pypoetry/virtualenvs/zkstats-OJpceffF-py3.11/lib/python3.11/site-packages (from matplotlib->-r ../../requirements.txt (line 6)) (4.47.2)\n",
      "Requirement already satisfied: kiwisolver>=1.3.1 in /Users/jernkun/Library/Caches/pypoetry/virtualenvs/zkstats-OJpceffF-py3.11/lib/python3.11/site-packages (from matplotlib->-r ../../requirements.txt (line 6)) (1.4.5)\n",
      "Requirement already satisfied: packaging>=20.0 in /Users/jernkun/Library/Caches/pypoetry/virtualenvs/zkstats-OJpceffF-py3.11/lib/python3.11/site-packages (from matplotlib->-r ../../requirements.txt (line 6)) (23.2)\n",
      "Requirement already satisfied: pillow>=8 in /Users/jernkun/Library/Caches/pypoetry/virtualenvs/zkstats-OJpceffF-py3.11/lib/python3.11/site-packages (from matplotlib->-r ../../requirements.txt (line 6)) (10.2.0)\n",
      "Requirement already satisfied: pyparsing>=2.3.1 in /Users/jernkun/Library/Caches/pypoetry/virtualenvs/zkstats-OJpceffF-py3.11/lib/python3.11/site-packages (from matplotlib->-r ../../requirements.txt (line 6)) (3.1.1)\n",
      "Requirement already satisfied: python-dateutil>=2.7 in /Users/jernkun/Library/Caches/pypoetry/virtualenvs/zkstats-OJpceffF-py3.11/lib/python3.11/site-packages (from matplotlib->-r ../../requirements.txt (line 6)) (2.8.2)\n",
      "Requirement already satisfied: docutils>=0.3 in /Users/jernkun/Library/Caches/pypoetry/virtualenvs/zkstats-OJpceffF-py3.11/lib/python3.11/site-packages (from statistics->-r ../../requirements.txt (line 7)) (0.20.1)\n",
      "Requirement already satisfied: protobuf>=3.20.2 in /Users/jernkun/Library/Caches/pypoetry/virtualenvs/zkstats-OJpceffF-py3.11/lib/python3.11/site-packages (from onnx->-r ../../requirements.txt (line 8)) (4.25.2)\n",
      "Requirement already satisfied: six>=1.5 in /Users/jernkun/Library/Caches/pypoetry/virtualenvs/zkstats-OJpceffF-py3.11/lib/python3.11/site-packages (from python-dateutil>=2.7->matplotlib->-r ../../requirements.txt (line 6)) (1.16.0)\n",
      "Requirement already satisfied: MarkupSafe>=2.0 in /Users/jernkun/Library/Caches/pypoetry/virtualenvs/zkstats-OJpceffF-py3.11/lib/python3.11/site-packages (from jinja2->torch->-r ../../requirements.txt (line 2)) (2.1.4)\n",
      "Requirement already satisfied: mpmath>=0.19 in /Users/jernkun/Library/Caches/pypoetry/virtualenvs/zkstats-OJpceffF-py3.11/lib/python3.11/site-packages (from sympy->torch->-r ../../requirements.txt (line 2)) (1.3.0)\n",
      "\n",
      "\u001b[1m[\u001b[0m\u001b[34;49mnotice\u001b[0m\u001b[1;39;49m]\u001b[0m\u001b[39;49m A new release of pip is available: \u001b[0m\u001b[31;49m23.2.1\u001b[0m\u001b[39;49m -> \u001b[0m\u001b[32;49m24.0\u001b[0m\n",
      "\u001b[1m[\u001b[0m\u001b[34;49mnotice\u001b[0m\u001b[1;39;49m]\u001b[0m\u001b[39;49m To update, run: \u001b[0m\u001b[32;49mpip install --upgrade pip\u001b[0m\n",
      "Note: you may need to restart the kernel to use updated packages.\n"
     ]
    }
   ],
   "source": [
    "pip install -r ../../requirements.txt"
   ]
  },
  {
   "cell_type": "code",
   "execution_count": 2,
   "metadata": {},
   "outputs": [],
   "source": [
    "import ezkl\n",
    "import torch\n",
    "from torch import nn\n",
    "import json\n",
    "import os\n",
    "import time\n",
    "import scipy\n",
    "import numpy as np\n",
    "import matplotlib.pyplot as plt\n",
    "import statistics\n",
    "import math"
   ]
  },
  {
   "cell_type": "code",
   "execution_count": 3,
   "metadata": {},
   "outputs": [],
   "source": [
    "from zkstats.core import create_dummy, verifier_define_calculation, prover_gen_settings, setup, prover_gen_proof, verifier_verify, get_data_commitment_maps"
   ]
  },
  {
   "cell_type": "code",
   "execution_count": 4,
   "metadata": {},
   "outputs": [],
   "source": [
    "# init path\n",
    "os.makedirs(os.path.dirname('shared/'), exist_ok=True)\n",
    "os.makedirs(os.path.dirname('prover/'), exist_ok=True)\n",
    "verifier_model_path = os.path.join('shared/verifier.onnx')\n",
    "prover_model_path = os.path.join('prover/prover.onnx')\n",
    "verifier_compiled_model_path = os.path.join('shared/verifier.compiled')\n",
    "prover_compiled_model_path = os.path.join('prover/prover.compiled')\n",
    "pk_path = os.path.join('shared/test.pk')\n",
    "vk_path = os.path.join('shared/test.vk')\n",
    "proof_path = os.path.join('shared/test.pf')\n",
    "settings_path = os.path.join('shared/settings.json')\n",
    "srs_path = os.path.join('shared/kzg.srs')\n",
    "witness_path = os.path.join('prover/witness.json')\n",
    "# this is private to prover since it contains actual data\n",
    "sel_data_path = os.path.join('prover/sel_data.json')\n",
    "# this is just dummy random value\n",
    "sel_dummy_data_path = os.path.join('shared/sel_dummy_data.json')"
   ]
  },
  {
   "attachments": {},
   "cell_type": "markdown",
   "metadata": {},
   "source": [
    "=======================  ZK-STATS FLOW ======================="
   ]
  },
  {
   "cell_type": "code",
   "execution_count": 5,
   "metadata": {},
   "outputs": [],
   "source": [
    "data_path = os.path.join('data.json')\n",
    "dummy_data_path = os.path.join('shared/dummy_data.json')\n",
    "\n",
    "create_dummy(data_path, dummy_data_path)"
   ]
  },
  {
   "cell_type": "code",
   "execution_count": 6,
   "metadata": {},
   "outputs": [],
   "source": [
    "# note scale = 2, or 3 makes it more precise, but too big.\n",
    "scales = [0]\n",
    "selected_columns = ['x', 'y']\n",
    "commitment_maps = get_data_commitment_maps(data_path, scales)"
   ]
  },
  {
   "attachments": {},
   "cell_type": "markdown",
   "metadata": {},
   "source": []
  },
  {
   "cell_type": "code",
   "execution_count": 7,
   "metadata": {},
   "outputs": [
    {
     "name": "stderr",
     "output_type": "stream",
     "text": [
      "/Users/jernkun/Desktop/zk-stats-lib/zkstats/computation.py:166: TracerWarning: torch.tensor results are registered as constants in the trace. You can safely ignore this warning if you use this function to create tensors out of constant variables that would be the same every time you call this function. In any other case, this might cause the trace to be incorrect.\n",
      "  is_precise_aggregated = torch.tensor(1.0)\n",
      "/Users/jernkun/Library/Caches/pypoetry/virtualenvs/zkstats-OJpceffF-py3.11/lib/python3.11/site-packages/torch/onnx/symbolic_opset9.py:2174: FutureWarning: 'torch.onnx.symbolic_opset9._cast_Bool' is deprecated in version 2.0 and will be removed in the future. Please Avoid using this function and create a Cast node instead.\n",
      "  return fn(g, to_cast_func(g, input, False), to_cast_func(g, other, False))\n"
     ]
    }
   ],
   "source": [
    "# Verifier/ data consumer side:\n",
    "from zkstats.computation import computation_to_model, State\n",
    "\n",
    "def computation(s: State, data: list[torch.Tensor]) -> torch.Tensor:\n",
    "    x, y = data[0], data[1]\n",
    "    return s.covariance(x, y)\n",
    "\n",
    "error = 0.01\n",
    "_, verifier_model = computation_to_model(computation, error)\n",
    "\n",
    "\n",
    "verifier_define_calculation(dummy_data_path, selected_columns, sel_dummy_data_path,verifier_model, verifier_model_path)"
   ]
  },
  {
   "cell_type": "code",
   "execution_count": 8,
   "metadata": {},
   "outputs": [
    {
     "name": "stdout",
     "output_type": "stream",
     "text": [
      "==== Generate & Calibrate Setting ====\n",
      "scale:  [0]\n",
      "setting:  {\"run_args\":{\"tolerance\":{\"val\":0.0,\"scale\":1.0},\"input_scale\":0,\"param_scale\":0,\"scale_rebase_multiplier\":10,\"lookup_range\":[-448,6246],\"logrows\":14,\"num_inner_cols\":2,\"variables\":[[\"batch_size\",1]],\"input_visibility\":{\"Hashed\":{\"hash_is_public\":true,\"outlets\":[]}},\"output_visibility\":\"Public\",\"param_visibility\":\"Private\"},\"num_rows\":13120,\"total_assignments\":825,\"total_const_size\":8,\"model_instance_shapes\":[[1],[1]],\"model_output_scales\":[0,0],\"model_input_scales\":[0,0],\"module_sizes\":{\"kzg\":[],\"poseidon\":[13120,[2]],\"elgamal\":[0,[0]]},\"required_lookups\":[\"Abs\",{\"GreaterThan\":{\"a\":0.0}}],\"check_mode\":\"UNSAFE\",\"version\":\"7.0.0\",\"num_blinding_factors\":null}\n"
     ]
    }
   ],
   "source": [
    "# prover calculates settings, send to verifier\n",
    "_, prover_model = computation_to_model(computation, error)\n",
    "prover_gen_settings(data_path, selected_columns, sel_data_path, prover_model,prover_model_path, scales, \"resources\", settings_path)"
   ]
  },
  {
   "cell_type": "code",
   "execution_count": 9,
   "metadata": {},
   "outputs": [
    {
     "name": "stderr",
     "output_type": "stream",
     "text": [
      "spawning module 0\n",
      "spawning module 2\n"
     ]
    },
    {
     "name": "stdout",
     "output_type": "stream",
     "text": [
      "==== setting up ezkl ====\n"
     ]
    },
    {
     "name": "stderr",
     "output_type": "stream",
     "text": [
      "spawning module 0\n",
      "spawning module 2\n",
      "spawning module 0\n"
     ]
    },
    {
     "name": "stdout",
     "output_type": "stream",
     "text": [
      "Time setup: 1.6888682842254639 seconds\n",
      "=======================================\n",
      "==== Generating Witness ====\n",
      "witness boolean:  1.0\n",
      "witness result 1 : 3215.0\n",
      "==== Generating Proof ====\n"
     ]
    },
    {
     "name": "stderr",
     "output_type": "stream",
     "text": [
      "spawning module 2\n"
     ]
    },
    {
     "name": "stdout",
     "output_type": "stream",
     "text": [
      "proof:  {'instances': [[[14955570959218682635, 4667139652385906200, 12836539004462631467, 1774684518626433649], [4224417983558473805, 851357164555783563, 5363851773531956453, 1448631618362554917], [12436184717236109307, 3962172157175319849, 7381016538464732718, 1011752739694698287], [5743885005642251665, 3430503978676436355, 7149667244725939006, 2902673458086333540]]], 'proof': '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', 'transcript_type': 'EVM'}\n",
      "Time gen prf: 2.4402859210968018 seconds\n"
     ]
    }
   ],
   "source": [
    "# Here verifier & prover can concurrently call setup since all params are public to get pk.\n",
    "# Here write as verifier function to emphasize that verifier must calculate its own vk to be sure\n",
    "setup(verifier_model_path, verifier_compiled_model_path, settings_path,vk_path, pk_path )\n",
    "\n",
    "print(\"=======================================\")\n",
    "# Prover generates proof\n",
    "prover_gen_proof(prover_model_path, sel_data_path, witness_path, prover_compiled_model_path, settings_path, proof_path, pk_path)"
   ]
  },
  {
   "cell_type": "code",
   "execution_count": 10,
   "metadata": {},
   "outputs": [
    {
     "name": "stdout",
     "output_type": "stream",
     "text": [
      "Verifier gets result: 3215.0\n"
     ]
    }
   ],
   "source": [
    "# Verifier verifies\n",
    "res = verifier_verify(proof_path, settings_path, vk_path, selected_columns, commitment_maps)\n",
    "print(\"Verifier gets result:\", res)"
   ]
  },
  {
   "cell_type": "code",
   "execution_count": null,
   "metadata": {},
   "outputs": [],
   "source": []
  }
 ],
 "metadata": {
  "kernelspec": {
   "display_name": "Python 3",
   "language": "python",
   "name": "python3"
  },
  "language_info": {
   "codemirror_mode": {
    "name": "ipython",
    "version": 3
   },
   "file_extension": ".py",
   "mimetype": "text/x-python",
   "name": "python",
   "nbconvert_exporter": "python",
   "pygments_lexer": "ipython3",
   "version": "3.11.4"
  },
  "orig_nbformat": 4
 },
 "nbformat": 4,
 "nbformat_minor": 2
}
