{
 "cells": [
  {
   "cell_type": "code",
   "execution_count": 1,
   "metadata": {},
   "outputs": [
    {
     "name": "stdout",
     "output_type": "stream",
     "text": [
      "Requirement already satisfied: ezkl==5.0.8 in /Library/Frameworks/Python.framework/Versions/3.10/lib/python3.10/site-packages (from -r ../../requirements.txt (line 1)) (5.0.8)\n",
      "Requirement already satisfied: torch in /Library/Frameworks/Python.framework/Versions/3.10/lib/python3.10/site-packages (from -r ../../requirements.txt (line 2)) (2.1.1)\n",
      "Requirement already satisfied: requests in /Library/Frameworks/Python.framework/Versions/3.10/lib/python3.10/site-packages (from -r ../../requirements.txt (line 3)) (2.31.0)\n",
      "Requirement already satisfied: scipy in /Library/Frameworks/Python.framework/Versions/3.10/lib/python3.10/site-packages (from -r ../../requirements.txt (line 4)) (1.11.4)\n",
      "Requirement already satisfied: numpy in /Library/Frameworks/Python.framework/Versions/3.10/lib/python3.10/site-packages (from -r ../../requirements.txt (line 5)) (1.26.2)\n",
      "Requirement already satisfied: matplotlib in /Library/Frameworks/Python.framework/Versions/3.10/lib/python3.10/site-packages (from -r ../../requirements.txt (line 6)) (3.8.2)\n",
      "Requirement already satisfied: statistics in /Library/Frameworks/Python.framework/Versions/3.10/lib/python3.10/site-packages (from -r ../../requirements.txt (line 7)) (1.0.3.5)\n",
      "Requirement already satisfied: onnx in /Library/Frameworks/Python.framework/Versions/3.10/lib/python3.10/site-packages (from -r ../../requirements.txt (line 8)) (1.15.0)\n",
      "Requirement already satisfied: fsspec in /Library/Frameworks/Python.framework/Versions/3.10/lib/python3.10/site-packages (from torch->-r ../../requirements.txt (line 2)) (2023.10.0)\n",
      "Requirement already satisfied: networkx in /Library/Frameworks/Python.framework/Versions/3.10/lib/python3.10/site-packages (from torch->-r ../../requirements.txt (line 2)) (3.2.1)\n",
      "Requirement already satisfied: typing-extensions in /Library/Frameworks/Python.framework/Versions/3.10/lib/python3.10/site-packages (from torch->-r ../../requirements.txt (line 2)) (4.8.0)\n",
      "Requirement already satisfied: sympy in /Library/Frameworks/Python.framework/Versions/3.10/lib/python3.10/site-packages (from torch->-r ../../requirements.txt (line 2)) (1.12)\n",
      "Requirement already satisfied: jinja2 in /Library/Frameworks/Python.framework/Versions/3.10/lib/python3.10/site-packages (from torch->-r ../../requirements.txt (line 2)) (3.1.2)\n",
      "Requirement already satisfied: filelock in /Library/Frameworks/Python.framework/Versions/3.10/lib/python3.10/site-packages (from torch->-r ../../requirements.txt (line 2)) (3.13.1)\n",
      "Requirement already satisfied: certifi>=2017.4.17 in /Library/Frameworks/Python.framework/Versions/3.10/lib/python3.10/site-packages (from requests->-r ../../requirements.txt (line 3)) (2023.11.17)\n",
      "Requirement already satisfied: urllib3<3,>=1.21.1 in /Library/Frameworks/Python.framework/Versions/3.10/lib/python3.10/site-packages (from requests->-r ../../requirements.txt (line 3)) (2.1.0)\n",
      "Requirement already satisfied: idna<4,>=2.5 in /Library/Frameworks/Python.framework/Versions/3.10/lib/python3.10/site-packages (from requests->-r ../../requirements.txt (line 3)) (3.6)\n",
      "Requirement already satisfied: charset-normalizer<4,>=2 in /Library/Frameworks/Python.framework/Versions/3.10/lib/python3.10/site-packages (from requests->-r ../../requirements.txt (line 3)) (3.3.2)\n",
      "Requirement already satisfied: pyparsing>=2.3.1 in /Library/Frameworks/Python.framework/Versions/3.10/lib/python3.10/site-packages (from matplotlib->-r ../../requirements.txt (line 6)) (3.1.1)\n",
      "Requirement already satisfied: cycler>=0.10 in /Library/Frameworks/Python.framework/Versions/3.10/lib/python3.10/site-packages (from matplotlib->-r ../../requirements.txt (line 6)) (0.12.1)\n",
      "Requirement already satisfied: pillow>=8 in /Library/Frameworks/Python.framework/Versions/3.10/lib/python3.10/site-packages (from matplotlib->-r ../../requirements.txt (line 6)) (10.1.0)\n",
      "Requirement already satisfied: contourpy>=1.0.1 in /Library/Frameworks/Python.framework/Versions/3.10/lib/python3.10/site-packages (from matplotlib->-r ../../requirements.txt (line 6)) (1.2.0)\n",
      "Requirement already satisfied: python-dateutil>=2.7 in /Users/jernkun/Library/Python/3.10/lib/python/site-packages (from matplotlib->-r ../../requirements.txt (line 6)) (2.8.2)\n",
      "Requirement already satisfied: fonttools>=4.22.0 in /Library/Frameworks/Python.framework/Versions/3.10/lib/python3.10/site-packages (from matplotlib->-r ../../requirements.txt (line 6)) (4.45.1)\n",
      "Requirement already satisfied: packaging>=20.0 in /Users/jernkun/Library/Python/3.10/lib/python/site-packages (from matplotlib->-r ../../requirements.txt (line 6)) (23.2)\n",
      "Requirement already satisfied: kiwisolver>=1.3.1 in /Library/Frameworks/Python.framework/Versions/3.10/lib/python3.10/site-packages (from matplotlib->-r ../../requirements.txt (line 6)) (1.4.5)\n",
      "Requirement already satisfied: docutils>=0.3 in /Library/Frameworks/Python.framework/Versions/3.10/lib/python3.10/site-packages (from statistics->-r ../../requirements.txt (line 7)) (0.20.1)\n",
      "Requirement already satisfied: protobuf>=3.20.2 in /Library/Frameworks/Python.framework/Versions/3.10/lib/python3.10/site-packages (from onnx->-r ../../requirements.txt (line 8)) (4.25.1)\n",
      "Requirement already satisfied: six>=1.5 in /Users/jernkun/Library/Python/3.10/lib/python/site-packages (from python-dateutil>=2.7->matplotlib->-r ../../requirements.txt (line 6)) (1.16.0)\n",
      "Requirement already satisfied: MarkupSafe>=2.0 in /Library/Frameworks/Python.framework/Versions/3.10/lib/python3.10/site-packages (from jinja2->torch->-r ../../requirements.txt (line 2)) (2.1.3)\n",
      "Requirement already satisfied: mpmath>=0.19 in /Library/Frameworks/Python.framework/Versions/3.10/lib/python3.10/site-packages (from sympy->torch->-r ../../requirements.txt (line 2)) (1.3.0)\n",
      "\u001b[33mWARNING: You are using pip version 21.2.3; however, version 23.3.1 is available.\n",
      "You should consider upgrading via the '/usr/local/bin/python3 -m pip install --upgrade pip' command.\u001b[0m\n",
      "Note: you may need to restart the kernel to use updated packages.\n"
     ]
    }
   ],
   "source": [
    "pip install -r ../../requirements.txt"
   ]
  },
  {
   "cell_type": "code",
   "execution_count": 1,
   "metadata": {},
   "outputs": [],
   "source": [
    "import ezkl\n",
    "import torch\n",
    "from torch import nn\n",
    "import json\n",
    "import os\n",
    "import time\n",
    "import scipy\n",
    "import numpy as np\n",
    "import matplotlib.pyplot as plt\n",
    "import statistics\n",
    "import math"
   ]
  },
  {
   "cell_type": "code",
   "execution_count": 2,
   "metadata": {},
   "outputs": [],
   "source": [
    "%run -i ../../core.py"
   ]
  },
  {
   "cell_type": "code",
   "execution_count": 3,
   "metadata": {},
   "outputs": [],
   "source": [
    "# init path\n",
    "os.makedirs(os.path.dirname('shared/'), exist_ok=True)\n",
    "os.makedirs(os.path.dirname('prover/'), exist_ok=True)\n",
    "verifier_model_path = os.path.join('shared/verifier.onnx')\n",
    "prover_model_path = os.path.join('prover/prover.onnx')\n",
    "verifier_compiled_model_path = os.path.join('shared/verifier.compiled')\n",
    "prover_compiled_model_path = os.path.join('prover/prover.compiled')\n",
    "pk_path = os.path.join('shared/test.pk')\n",
    "vk_path = os.path.join('shared/test.vk')\n",
    "proof_path = os.path.join('shared/test.pf')\n",
    "settings_path = os.path.join('shared/settings.json')\n",
    "srs_path = os.path.join('shared/kzg.srs')\n",
    "witness_path = os.path.join('prover/witness.json')\n",
    "# this is private to prover since it contains actual data\n",
    "comb_data_path = os.path.join('prover/comb_data.json')"
   ]
  },
  {
   "attachments": {},
   "cell_type": "markdown",
   "metadata": {},
   "source": [
    "=======================  ZK-STATS FLOW ======================="
   ]
  },
  {
   "cell_type": "code",
   "execution_count": 4,
   "metadata": {},
   "outputs": [
    {
     "name": "stdout",
     "output_type": "stream",
     "text": [
      "cov:  3214.750736446082\n",
      "x mean:  49.5\n",
      "y mean:  227.70285322096493\n"
     ]
    }
   ],
   "source": [
    "x_vals_path = os.path.join('x_vals.json')\n",
    "dummy_x_vals_path = os.path.join('shared/dummy_x_vals.json')\n",
    "x_open = open(x_vals_path, \"r\")\n",
    "x_vals= json.loads(x_open.read())['input_data'][0]\n",
    "dummy_x_vals = np.random.uniform(min(x_vals), max(x_vals), len(x_vals))\n",
    "json.dump({\"input_data\":[dummy_x_vals.tolist()]}, open(dummy_x_vals_path, 'w'))\n",
    "\n",
    "\n",
    "y_vals_path = os.path.join('y_vals.json')\n",
    "dummy_y_vals_path = os.path.join('shared/dummy_y_vals.json')\n",
    "y_open = open(y_vals_path, \"r\")\n",
    "y_vals= json.loads(y_open.read())[\"input_data\"][0]\n",
    "dummy_y_vals = np.random.uniform(min(y_vals), max(y_vals), len(y_vals))\n",
    "json.dump({\"input_data\":[dummy_y_vals.tolist()]}, open(dummy_y_vals_path, 'w'))\n",
    "\n",
    "\n",
    "real_cov = statistics.covariance(x_vals, y_vals)\n",
    "x_mean = statistics.mean(x_vals)\n",
    "y_mean = statistics.mean(y_vals)\n",
    "print(\"cov: \",real_cov )\n",
    "print(\"x mean: \", x_mean)\n",
    "print(\"y mean: \", y_mean)\n",
    "\n",
    "dummy_cov = statistics.covariance(dummy_x_vals, dummy_y_vals)\n",
    "dummy_x_mean = statistics.mean(dummy_x_vals)\n",
    "dummy_y_mean = statistics.mean(dummy_y_vals)"
   ]
  },
  {
   "attachments": {},
   "cell_type": "markdown",
   "metadata": {},
   "source": []
  },
  {
   "cell_type": "code",
   "execution_count": 9,
   "metadata": {},
   "outputs": [],
   "source": [
    "# Verifier/ data consumer side:\n",
    "class verifier_model(nn.Module):\n",
    "    def __init__(self):\n",
    "        super(verifier_model, self).__init__()\n",
    "        self.cov = nn.Parameter(data = torch.tensor(dummy_cov), requires_grad = False)\n",
    "        self.x_mean = nn.Parameter(data = torch.tensor(dummy_x_mean), requires_grad = False)\n",
    "        self.y_mean = nn.Parameter(data = torch.tensor(dummy_y_mean), requires_grad = False)\n",
    "    def forward(self,X,Y):\n",
    "        # some expression of tolerance to error in the inference\n",
    "        # print(\"x size: \", X.size()[1])\n",
    "        #  need to enforce same length, not yet\n",
    "        x_mean_cons = torch.abs(torch.sum(X)-X.size()[1]*(self.x_mean))<0.01*X.size()[1]*(self.x_mean)\n",
    "        y_mean_cons = torch.abs(torch.sum(Y)-Y.size()[1]*(self.y_mean))<0.01*Y.size()[1]*(self.y_mean)\n",
    "        return (torch.logical_and(torch.logical_and(x_mean_cons,y_mean_cons), torch.abs(torch.sum((X-self.x_mean)*(Y-self.y_mean))-(X.size()[1]-1)*(self.cov))<0.01*(X.size()[1]-1)*(self.cov)), self.cov)\n",
    "\n",
    "verifier_define_calculation(verifier_model, verifier_model_path, [dummy_x_vals_path, dummy_y_vals_path])"
   ]
  },
  {
   "cell_type": "code",
   "execution_count": 10,
   "metadata": {},
   "outputs": [
    {
     "name": "stdout",
     "output_type": "stream",
     "text": [
      "Theory output:  tensor(3214.7507)\n",
      "==== Generate & Calibrate Setting ====\n",
      "scale:  [0]\n",
      "setting:  {\"run_args\":{\"tolerance\":{\"val\":0.0,\"scale\":1.0},\"input_scale\":0,\"param_scale\":0,\"scale_rebase_multiplier\":10,\"lookup_range\":[0,6226],\"logrows\":14,\"num_inner_cols\":1,\"variables\":[[\"batch_size\",1]],\"input_visibility\":{\"Hashed\":{\"hash_is_public\":true,\"outlets\":[]}},\"output_visibility\":\"Public\",\"param_visibility\":\"Private\"},\"num_rows\":13120,\"total_assignments\":1018,\"total_const_size\":0,\"model_instance_shapes\":[[1],[1]],\"model_output_scales\":[0,0],\"model_input_scales\":[0,0],\"module_sizes\":{\"kzg\":[],\"poseidon\":[13120,[2]],\"elgamal\":[0,[0]]},\"required_lookups\":[\"Abs\",{\"GreaterThan\":{\"a\":0.0}}],\"check_mode\":\"UNSAFE\",\"version\":\"5.0.8\",\"num_blinding_factors\":null}\n"
     ]
    }
   ],
   "source": [
    "# prover calculates settings, send to verifier\n",
    "\n",
    "theory_output = torch.tensor(real_cov)\n",
    "print(\"Theory output: \", theory_output)\n",
    "class prover_model(nn.Module):\n",
    "    def __init__(self):\n",
    "        super(prover_model, self).__init__()\n",
    "        self.cov = nn.Parameter(data = torch.tensor(real_cov), requires_grad = False)\n",
    "        self.x_mean = nn.Parameter(data = torch.tensor(x_mean), requires_grad = False)\n",
    "        self.y_mean = nn.Parameter(data = torch.tensor(y_mean), requires_grad = False)\n",
    "    def forward(self,X,Y):\n",
    "        # some expression of tolerance to error in the inference\n",
    "        # print(\"x size: \", X.size()[1])\n",
    "        #  need to enforce same length\n",
    "        x_mean_cons = torch.abs(torch.sum(X)-X.size()[1]*(self.x_mean))<0.01*X.size()[1]*(self.x_mean)\n",
    "        y_mean_cons = torch.abs(torch.sum(Y)-Y.size()[1]*(self.y_mean))<0.01*Y.size()[1]*(self.y_mean)\n",
    "        return (torch.logical_and(torch.logical_and(x_mean_cons,y_mean_cons), torch.abs(torch.sum((X-self.x_mean)*(Y-self.y_mean))-(X.size()[1]-1)*(self.cov))<0.01*(X.size()[1]-1)*(self.cov)), self.cov)\n",
    "\n",
    "prover_gen_settings([x_vals_path, y_vals_path], comb_data_path, prover_model,prover_model_path, [0], \"resources\", settings_path)"
   ]
  },
  {
   "cell_type": "code",
   "execution_count": 11,
   "metadata": {},
   "outputs": [
    {
     "name": "stderr",
     "output_type": "stream",
     "text": [
      "spawning module 0\n",
      "spawning module 2\n"
     ]
    },
    {
     "name": "stdout",
     "output_type": "stream",
     "text": [
      "==== setting up ezkl ====\n"
     ]
    },
    {
     "name": "stderr",
     "output_type": "stream",
     "text": [
      "spawning module 0\n",
      "spawning module 2\n",
      "spawning module 0\n"
     ]
    },
    {
     "name": "stdout",
     "output_type": "stream",
     "text": [
      "Time setup: 1.340538740158081 seconds\n",
      "=======================================\n",
      "Theory output:  tensor(3214.7507)\n",
      "==== Generating Witness ====\n",
      "witness boolean:  1.0\n",
      "witness result 1 : 3215.0\n",
      "==== Generating Proof ====\n"
     ]
    },
    {
     "name": "stderr",
     "output_type": "stream",
     "text": [
      "spawning module 2\n"
     ]
    },
    {
     "name": "stdout",
     "output_type": "stream",
     "text": [
      "proof:  {'instances': [[[14955570959218682635, 4667139652385906200, 12836539004462631467, 1774684518626433649], [2636517083442646612, 5059672846326347070, 4705835036930416229, 3312472395716484608], [12436184717236109307, 3962172157175319849, 7381016538464732718, 1011752739694698287], [5743885005642251665, 3430503978676436355, 7149667244725939006, 2902673458086333540]]], 'proof': '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', 'transcript_type': 'EVM'}\n",
      "Time gen prf: 1.9261510372161865 seconds\n"
     ]
    }
   ],
   "source": [
    "# Here verifier & prover can concurrently call setup since all params are public to get pk. \n",
    "# Here write as verifier function to emphasize that verifier must calculate its own vk to be sure\n",
    "verifier_setup(verifier_model_path, verifier_compiled_model_path, settings_path, srs_path,vk_path, pk_path )\n",
    "\n",
    "print(\"=======================================\")\n",
    "# Prover generates proof\n",
    "print(\"Theory output: \", theory_output)\n",
    "prover_gen_proof(prover_model_path, comb_data_path, witness_path, prover_compiled_model_path, settings_path, proof_path, pk_path, srs_path)"
   ]
  },
  {
   "cell_type": "code",
   "execution_count": 13,
   "metadata": {},
   "outputs": [
    {
     "name": "stdout",
     "output_type": "stream",
     "text": [
      "num_inputs:  2\n",
      "prf instances:  [[[14955570959218682635, 4667139652385906200, 12836539004462631467, 1774684518626433649], [2636517083442646612, 5059672846326347070, 4705835036930416229, 3312472395716484608], [12436184717236109307, 3962172157175319849, 7381016538464732718, 1011752739694698287], [5743885005642251665, 3430503978676436355, 7149667244725939006, 2902673458086333540]]]\n",
      "proof boolean:  1.0\n",
      "proof result 1 : 3215.0\n",
      "verified\n"
     ]
    }
   ],
   "source": [
    "# Verifier verifies\n",
    "verifier_verify(proof_path, settings_path, vk_path, srs_path)"
   ]
  },
  {
   "cell_type": "code",
   "execution_count": null,
   "metadata": {},
   "outputs": [],
   "source": []
  },
  {
   "cell_type": "code",
   "execution_count": null,
   "metadata": {},
   "outputs": [],
   "source": []
  }
 ],
 "metadata": {
  "kernelspec": {
   "display_name": "Python 3",
   "language": "python",
   "name": "python3"
  },
  "language_info": {
   "codemirror_mode": {
    "name": "ipython",
    "version": 3
   },
   "file_extension": ".py",
   "mimetype": "text/x-python",
   "name": "python",
   "nbconvert_exporter": "python",
   "pygments_lexer": "ipython3",
   "version": "3.10.0"
  },
  "orig_nbformat": 4
 },
 "nbformat": 4,
 "nbformat_minor": 2
}
