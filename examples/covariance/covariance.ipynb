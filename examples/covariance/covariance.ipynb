{
 "cells": [
  {
   "cell_type": "code",
   "execution_count": 1,
   "metadata": {},
   "outputs": [],
   "source": [
    "import ezkl\n",
    "import torch\n",
    "from torch import nn\n",
    "import json\n",
    "import os\n",
    "import time\n",
    "import scipy\n",
    "import numpy as np\n",
    "import matplotlib.pyplot as plt\n",
    "import statistics\n",
    "import math"
   ]
  },
  {
   "cell_type": "code",
   "execution_count": 2,
   "metadata": {},
   "outputs": [],
   "source": [
    "from zkstats.core import create_dummy, verifier_define_calculation, prover_gen_settings, setup, prover_gen_proof, verifier_verify, get_data_commitment_maps"
   ]
  },
  {
   "cell_type": "code",
   "execution_count": 3,
   "metadata": {},
   "outputs": [],
   "source": [
    "# init path\n",
    "os.makedirs(os.path.dirname('shared/'), exist_ok=True)\n",
    "os.makedirs(os.path.dirname('prover/'), exist_ok=True)\n",
    "verifier_model_path = os.path.join('shared/verifier.onnx')\n",
    "prover_model_path = os.path.join('prover/prover.onnx')\n",
    "verifier_compiled_model_path = os.path.join('shared/verifier.compiled')\n",
    "prover_compiled_model_path = os.path.join('prover/prover.compiled')\n",
    "pk_path = os.path.join('shared/test.pk')\n",
    "vk_path = os.path.join('shared/test.vk')\n",
    "proof_path = os.path.join('shared/test.pf')\n",
    "settings_path = os.path.join('shared/settings.json')\n",
    "srs_path = os.path.join('shared/kzg.srs')\n",
    "witness_path = os.path.join('prover/witness.json')\n",
    "# this is private to prover since it contains actual data\n",
    "sel_data_path = os.path.join('prover/sel_data.json')\n",
    "# this is just dummy random value\n",
    "sel_dummy_data_path = os.path.join('shared/sel_dummy_data.json')"
   ]
  },
  {
   "attachments": {},
   "cell_type": "markdown",
   "metadata": {},
   "source": [
    "=======================  ZK-STATS FLOW ======================="
   ]
  },
  {
   "cell_type": "code",
   "execution_count": 4,
   "metadata": {},
   "outputs": [],
   "source": [
    "data_path = os.path.join('data.json')\n",
    "dummy_data_path = os.path.join('shared/dummy_data.json')\n",
    "\n",
    "create_dummy(data_path, dummy_data_path)"
   ]
  },
  {
   "cell_type": "code",
   "execution_count": 5,
   "metadata": {},
   "outputs": [],
   "source": [
    "# note scale = 2, or 3 makes it more precise, but too big.\n",
    "scales = [1]\n",
    "selected_columns = ['x', 'y']\n",
    "commitment_maps = get_data_commitment_maps(data_path, scales)"
   ]
  },
  {
   "attachments": {},
   "cell_type": "markdown",
   "metadata": {},
   "source": []
  },
  {
   "cell_type": "code",
   "execution_count": 6,
   "metadata": {},
   "outputs": [
    {
     "name": "stderr",
     "output_type": "stream",
     "text": [
      "/Users/jernkun/Desktop/zk-stats-lib/zkstats/computation.py:172: TracerWarning: torch.tensor results are registered as constants in the trace. You can safely ignore this warning if you use this function to create tensors out of constant variables that would be the same every time you call this function. In any other case, this might cause the trace to be incorrect.\n",
      "  is_precise_aggregated = torch.tensor(1.0)\n",
      "/Users/jernkun/Library/Caches/pypoetry/virtualenvs/zkstats-OJpceffF-py3.11/lib/python3.11/site-packages/torch/onnx/symbolic_opset9.py:2174: FutureWarning: 'torch.onnx.symbolic_opset9._cast_Bool' is deprecated in version 2.0 and will be removed in the future. Please Avoid using this function and create a Cast node instead.\n",
      "  return fn(g, to_cast_func(g, input, False), to_cast_func(g, other, False))\n",
      "/Users/jernkun/Library/Caches/pypoetry/virtualenvs/zkstats-OJpceffF-py3.11/lib/python3.11/site-packages/torch/onnx/utils.py:1703: UserWarning: The exported ONNX model failed ONNX shape inference. The model will not be executable by the ONNX Runtime. If this is unintended and you believe there is a bug, please report an issue at https://github.com/pytorch/pytorch/issues. Error reported by strict ONNX shape inference: [ShapeInferenceError] (op_type:Where, node name: /Where): Y has inconsistent type tensor(float) (Triggered internally at /Users/runner/work/pytorch/pytorch/pytorch/torch/csrc/jit/serialization/export.cpp:1490.)\n",
      "  _C._check_onnx_proto(proto)\n"
     ]
    }
   ],
   "source": [
    "# Verifier/ data consumer side:\n",
    "from zkstats.computation import computation_to_model, State\n",
    "\n",
    "def computation(s: State, data: list[torch.Tensor]) -> torch.Tensor:\n",
    "    x, y = data[0], data[1]\n",
    "    return s.covariance(x, y)\n",
    "\n",
    "error = 0.01\n",
    "_, verifier_model = computation_to_model(computation, error)\n",
    "\n",
    "\n",
    "verifier_define_calculation(dummy_data_path, selected_columns, sel_dummy_data_path,verifier_model, verifier_model_path)"
   ]
  },
  {
   "cell_type": "code",
   "execution_count": 7,
   "metadata": {},
   "outputs": [
    {
     "name": "stdout",
     "output_type": "stream",
     "text": [
      "==== Generate & Calibrate Setting ====\n"
     ]
    },
    {
     "name": "stderr",
     "output_type": "stream",
     "text": [
      "\n",
      "\n",
      " <------------- Numerical Fidelity Report (input_scale: 1, param_scale: 1, scale_input_multiplier: 1) ------------->\n",
      "\n",
      "+-------------+--------------+-----------+-------------+----------------+------------------+---------------+---------------+--------------------+--------------------+------------------------+\n",
      "| mean_error  | median_error | max_error | min_error   | mean_abs_error | median_abs_error | max_abs_error | min_abs_error | mean_squared_error | mean_percent_error | mean_abs_percent_error |\n",
      "+-------------+--------------+-----------+-------------+----------------+------------------+---------------+---------------+--------------------+--------------------+------------------------+\n",
      "| -0.11755371 | -0.23510742  | 0         | -0.23510742 | 0.11755371     | 0.23510742       | 0.23510742    | 0             | 0.02763775         | -0.000036566813    | 0.000036566813         |\n",
      "+-------------+--------------+-----------+-------------+----------------+------------------+---------------+---------------+--------------------+--------------------+------------------------+\n",
      "\n",
      "\n"
     ]
    },
    {
     "name": "stdout",
     "output_type": "stream",
     "text": [
      "scale:  [1]\n",
      "setting:  {\"run_args\":{\"tolerance\":{\"val\":0.0,\"scale\":1.0},\"input_scale\":1,\"param_scale\":1,\"scale_rebase_multiplier\":1,\"lookup_range\":[-930,12560],\"logrows\":14,\"num_inner_cols\":2,\"variables\":[[\"batch_size\",1]],\"input_visibility\":{\"Hashed\":{\"hash_is_public\":true,\"outlets\":[]}},\"output_visibility\":\"Public\",\"param_visibility\":\"Private\",\"div_rebasing\":false,\"rebase_frac_zero_constants\":false,\"check_mode\":\"UNSAFE\"},\"num_rows\":13120,\"total_assignments\":5558,\"total_const_size\":1222,\"model_instance_shapes\":[[1],[1]],\"model_output_scales\":[0,1],\"model_input_scales\":[1,1],\"module_sizes\":{\"kzg\":[],\"poseidon\":[13120,[2]]},\"required_lookups\":[{\"GreaterThan\":{\"a\":0.0}},\"Abs\"],\"required_range_checks\":[[-1,1]],\"check_mode\":\"UNSAFE\",\"version\":\"9.1.0\",\"num_blinding_factors\":null,\"timestamp\":1709718894085}\n"
     ]
    }
   ],
   "source": [
    "# prover calculates settings, send to verifier\n",
    "_, prover_model = computation_to_model(computation, error)\n",
    "prover_gen_settings(data_path, selected_columns, sel_data_path, prover_model,prover_model_path, scales, \"resources\", settings_path)"
   ]
  },
  {
   "cell_type": "code",
   "execution_count": 8,
   "metadata": {},
   "outputs": [
    {
     "name": "stdout",
     "output_type": "stream",
     "text": [
      "==== setting up ezkl ====\n",
      "Time setup: 3.4424970149993896 seconds\n",
      "=======================================\n",
      "==== Generating Witness ====\n",
      "witness boolean:  1.0\n",
      "witness result 1 : 3215.0\n",
      "==== Generating Proof ====\n",
      "proof:  {'instances': [['b8c4693b3424042141e265e5179743499536c8b9f1ddc7d4d4fc847c1c09df04', '7d055c183092753c601560dfbfa0b446f5417438227d99435c476a0659de3d14', '0100000000000000000000000000000000000000000000000000000000000000', '1e19000000000000000000000000000000000000000000000000000000000000']], 'proof': '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', 'transcript_type': 'EVM'}\n",
      "Time gen prf: 2.4519670009613037 seconds\n"
     ]
    }
   ],
   "source": [
    "# Here verifier & prover can concurrently call setup since all params are public to get pk.\n",
    "# Here write as verifier function to emphasize that verifier must calculate its own vk to be sure\n",
    "setup(verifier_model_path, verifier_compiled_model_path, settings_path,vk_path, pk_path )\n",
    "\n",
    "print(\"=======================================\")\n",
    "# Prover generates proof\n",
    "prover_gen_proof(prover_model_path, sel_data_path, witness_path, prover_compiled_model_path, settings_path, proof_path, pk_path)"
   ]
  },
  {
   "cell_type": "code",
   "execution_count": 9,
   "metadata": {},
   "outputs": [
    {
     "name": "stdout",
     "output_type": "stream",
     "text": [
      "Verifier gets result: [3215.0]\n"
     ]
    }
   ],
   "source": [
    "# Verifier verifies\n",
    "res = verifier_verify(proof_path, settings_path, vk_path, selected_columns, commitment_maps)\n",
    "print(\"Verifier gets result:\", res)"
   ]
  },
  {
   "cell_type": "code",
   "execution_count": null,
   "metadata": {},
   "outputs": [],
   "source": []
  }
 ],
 "metadata": {
  "kernelspec": {
   "display_name": "Python 3",
   "language": "python",
   "name": "python3"
  },
  "language_info": {
   "codemirror_mode": {
    "name": "ipython",
    "version": 3
   },
   "file_extension": ".py",
   "mimetype": "text/x-python",
   "name": "python",
   "nbconvert_exporter": "python",
   "pygments_lexer": "ipython3",
   "version": "3.11.4"
  },
  "orig_nbformat": 4
 },
 "nbformat": 4,
 "nbformat_minor": 2
}
