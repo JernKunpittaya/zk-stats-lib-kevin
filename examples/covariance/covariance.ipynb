{
 "cells": [
  {
   "cell_type": "code",
   "execution_count": 1,
   "metadata": {},
   "outputs": [
    {
     "name": "stdout",
     "output_type": "stream",
     "text": [
      "Requirement already satisfied: ezkl==5.0.8 in /Library/Frameworks/Python.framework/Versions/3.10/lib/python3.10/site-packages (from -r ../../requirements.txt (line 1)) (5.0.8)\n",
      "Requirement already satisfied: torch in /Library/Frameworks/Python.framework/Versions/3.10/lib/python3.10/site-packages (from -r ../../requirements.txt (line 2)) (2.1.1)\n",
      "Requirement already satisfied: requests in /Library/Frameworks/Python.framework/Versions/3.10/lib/python3.10/site-packages (from -r ../../requirements.txt (line 3)) (2.31.0)\n",
      "Requirement already satisfied: scipy in /Library/Frameworks/Python.framework/Versions/3.10/lib/python3.10/site-packages (from -r ../../requirements.txt (line 4)) (1.11.4)\n",
      "Requirement already satisfied: numpy in /Library/Frameworks/Python.framework/Versions/3.10/lib/python3.10/site-packages (from -r ../../requirements.txt (line 5)) (1.26.2)\n",
      "Requirement already satisfied: matplotlib in /Library/Frameworks/Python.framework/Versions/3.10/lib/python3.10/site-packages (from -r ../../requirements.txt (line 6)) (3.8.2)\n",
      "Requirement already satisfied: statistics in /Library/Frameworks/Python.framework/Versions/3.10/lib/python3.10/site-packages (from -r ../../requirements.txt (line 7)) (1.0.3.5)\n",
      "Requirement already satisfied: onnx in /Library/Frameworks/Python.framework/Versions/3.10/lib/python3.10/site-packages (from -r ../../requirements.txt (line 8)) (1.15.0)\n",
      "Requirement already satisfied: sympy in /Library/Frameworks/Python.framework/Versions/3.10/lib/python3.10/site-packages (from torch->-r ../../requirements.txt (line 2)) (1.12)\n",
      "Requirement already satisfied: jinja2 in /Library/Frameworks/Python.framework/Versions/3.10/lib/python3.10/site-packages (from torch->-r ../../requirements.txt (line 2)) (3.1.2)\n",
      "Requirement already satisfied: networkx in /Library/Frameworks/Python.framework/Versions/3.10/lib/python3.10/site-packages (from torch->-r ../../requirements.txt (line 2)) (3.2.1)\n",
      "Requirement already satisfied: fsspec in /Library/Frameworks/Python.framework/Versions/3.10/lib/python3.10/site-packages (from torch->-r ../../requirements.txt (line 2)) (2023.10.0)\n",
      "Requirement already satisfied: typing-extensions in /Library/Frameworks/Python.framework/Versions/3.10/lib/python3.10/site-packages (from torch->-r ../../requirements.txt (line 2)) (4.8.0)\n",
      "Requirement already satisfied: filelock in /Library/Frameworks/Python.framework/Versions/3.10/lib/python3.10/site-packages (from torch->-r ../../requirements.txt (line 2)) (3.13.1)\n",
      "Requirement already satisfied: certifi>=2017.4.17 in /Library/Frameworks/Python.framework/Versions/3.10/lib/python3.10/site-packages (from requests->-r ../../requirements.txt (line 3)) (2023.11.17)\n",
      "Requirement already satisfied: urllib3<3,>=1.21.1 in /Library/Frameworks/Python.framework/Versions/3.10/lib/python3.10/site-packages (from requests->-r ../../requirements.txt (line 3)) (2.1.0)\n",
      "Requirement already satisfied: charset-normalizer<4,>=2 in /Library/Frameworks/Python.framework/Versions/3.10/lib/python3.10/site-packages (from requests->-r ../../requirements.txt (line 3)) (3.3.2)\n",
      "Requirement already satisfied: idna<4,>=2.5 in /Library/Frameworks/Python.framework/Versions/3.10/lib/python3.10/site-packages (from requests->-r ../../requirements.txt (line 3)) (3.6)\n",
      "Requirement already satisfied: contourpy>=1.0.1 in /Library/Frameworks/Python.framework/Versions/3.10/lib/python3.10/site-packages (from matplotlib->-r ../../requirements.txt (line 6)) (1.2.0)\n",
      "Requirement already satisfied: kiwisolver>=1.3.1 in /Library/Frameworks/Python.framework/Versions/3.10/lib/python3.10/site-packages (from matplotlib->-r ../../requirements.txt (line 6)) (1.4.5)\n",
      "Requirement already satisfied: packaging>=20.0 in /Users/jernkun/Library/Python/3.10/lib/python/site-packages (from matplotlib->-r ../../requirements.txt (line 6)) (23.2)\n",
      "Requirement already satisfied: cycler>=0.10 in /Library/Frameworks/Python.framework/Versions/3.10/lib/python3.10/site-packages (from matplotlib->-r ../../requirements.txt (line 6)) (0.12.1)\n",
      "Requirement already satisfied: pillow>=8 in /Library/Frameworks/Python.framework/Versions/3.10/lib/python3.10/site-packages (from matplotlib->-r ../../requirements.txt (line 6)) (10.1.0)\n",
      "Requirement already satisfied: fonttools>=4.22.0 in /Library/Frameworks/Python.framework/Versions/3.10/lib/python3.10/site-packages (from matplotlib->-r ../../requirements.txt (line 6)) (4.45.1)\n",
      "Requirement already satisfied: python-dateutil>=2.7 in /Users/jernkun/Library/Python/3.10/lib/python/site-packages (from matplotlib->-r ../../requirements.txt (line 6)) (2.8.2)\n",
      "Requirement already satisfied: pyparsing>=2.3.1 in /Library/Frameworks/Python.framework/Versions/3.10/lib/python3.10/site-packages (from matplotlib->-r ../../requirements.txt (line 6)) (3.1.1)\n",
      "Requirement already satisfied: docutils>=0.3 in /Library/Frameworks/Python.framework/Versions/3.10/lib/python3.10/site-packages (from statistics->-r ../../requirements.txt (line 7)) (0.20.1)\n",
      "Requirement already satisfied: protobuf>=3.20.2 in /Library/Frameworks/Python.framework/Versions/3.10/lib/python3.10/site-packages (from onnx->-r ../../requirements.txt (line 8)) (4.25.1)\n",
      "Requirement already satisfied: six>=1.5 in /Users/jernkun/Library/Python/3.10/lib/python/site-packages (from python-dateutil>=2.7->matplotlib->-r ../../requirements.txt (line 6)) (1.16.0)\n",
      "Requirement already satisfied: MarkupSafe>=2.0 in /Library/Frameworks/Python.framework/Versions/3.10/lib/python3.10/site-packages (from jinja2->torch->-r ../../requirements.txt (line 2)) (2.1.3)\n",
      "Requirement already satisfied: mpmath>=0.19 in /Library/Frameworks/Python.framework/Versions/3.10/lib/python3.10/site-packages (from sympy->torch->-r ../../requirements.txt (line 2)) (1.3.0)\n",
      "\u001b[33mWARNING: You are using pip version 21.2.3; however, version 23.3.1 is available.\n",
      "You should consider upgrading via the '/usr/local/bin/python3 -m pip install --upgrade pip' command.\u001b[0m\n",
      "Note: you may need to restart the kernel to use updated packages.\n"
     ]
    }
   ],
   "source": [
    "pip install -r ../../requirements.txt"
   ]
  },
  {
   "cell_type": "code",
   "execution_count": 1,
   "metadata": {},
   "outputs": [],
   "source": [
    "import ezkl\n",
    "import torch\n",
    "from torch import nn\n",
    "import json\n",
    "import os\n",
    "import time\n",
    "import scipy\n",
    "import numpy as np\n",
    "import matplotlib.pyplot as plt\n",
    "import statistics\n",
    "import math"
   ]
  },
  {
   "cell_type": "code",
   "execution_count": 2,
   "metadata": {},
   "outputs": [],
   "source": [
    "%run -i ../../core.py"
   ]
  },
  {
   "cell_type": "code",
   "execution_count": 3,
   "metadata": {},
   "outputs": [],
   "source": [
    "# init path\n",
    "os.makedirs(os.path.dirname('shared/'), exist_ok=True)\n",
    "os.makedirs(os.path.dirname('prover/'), exist_ok=True)\n",
    "verifier_model_path = os.path.join('shared/verifier.onnx')\n",
    "prover_model_path = os.path.join('prover/prover.onnx')\n",
    "verifier_compiled_model_path = os.path.join('shared/verifier.compiled')\n",
    "prover_compiled_model_path = os.path.join('prover/prover.compiled')\n",
    "pk_path = os.path.join('shared/test.pk')\n",
    "vk_path = os.path.join('shared/test.vk')\n",
    "proof_path = os.path.join('shared/test.pf')\n",
    "settings_path = os.path.join('shared/settings.json')\n",
    "srs_path = os.path.join('shared/kzg.srs')\n",
    "witness_path = os.path.join('prover/witness.json')\n",
    "# this is private to prover since it contains actual data\n",
    "comb_data_path = os.path.join('prover/comb_data.json')"
   ]
  },
  {
   "attachments": {},
   "cell_type": "markdown",
   "metadata": {},
   "source": [
    "=======================  ZK-STATS FLOW ======================="
   ]
  },
  {
   "cell_type": "code",
   "execution_count": 4,
   "metadata": {},
   "outputs": [
    {
     "name": "stdout",
     "output_type": "stream",
     "text": [
      "cov:  3214.7648484848482\n",
      "x mean:  49.5\n",
      "y mean:  227.703\n"
     ]
    }
   ],
   "source": [
    "x_vals_path = os.path.join('x_vals.json')\n",
    "dummy_x_vals_path = os.path.join('shared/dummy_x_vals.json')\n",
    "x_open = open(x_vals_path, \"r\")\n",
    "x_vals= json.loads(x_open.read())['input_data'][0]\n",
    "dummy_x_vals = np.random.uniform(min(x_vals), max(x_vals), len(x_vals))\n",
    "json.dump({\"input_data\":[dummy_x_vals.tolist()]}, open(dummy_x_vals_path, 'w'))\n",
    "\n",
    "\n",
    "y_vals_path = os.path.join('y_vals.json')\n",
    "dummy_y_vals_path = os.path.join('shared/dummy_y_vals.json')\n",
    "y_open = open(y_vals_path, \"r\")\n",
    "y_vals= json.loads(y_open.read())[\"input_data\"][0]\n",
    "dummy_y_vals = np.random.uniform(min(y_vals), max(y_vals), len(y_vals))\n",
    "json.dump({\"input_data\":[dummy_y_vals.tolist()]}, open(dummy_y_vals_path, 'w'))\n",
    "\n",
    "\n",
    "real_cov = statistics.covariance(x_vals, y_vals)\n",
    "x_mean = statistics.mean(x_vals)\n",
    "y_mean = statistics.mean(y_vals)\n",
    "print(\"cov: \",real_cov )\n",
    "print(\"x mean: \", x_mean)\n",
    "print(\"y mean: \", y_mean)\n",
    "\n",
    "dummy_cov = statistics.covariance(dummy_x_vals, dummy_y_vals)\n",
    "dummy_x_mean = statistics.mean(dummy_x_vals)\n",
    "dummy_y_mean = statistics.mean(dummy_y_vals)"
   ]
  },
  {
   "attachments": {},
   "cell_type": "markdown",
   "metadata": {},
   "source": []
  },
  {
   "cell_type": "code",
   "execution_count": 5,
   "metadata": {},
   "outputs": [
    {
     "name": "stderr",
     "output_type": "stream",
     "text": [
      "/Library/Frameworks/Python.framework/Versions/3.10/lib/python3.10/site-packages/torch/onnx/symbolic_opset9.py:2174: FutureWarning: 'torch.onnx.symbolic_opset9._cast_Bool' is deprecated in version 2.0 and will be removed in the future. Please Avoid using this function and create a Cast node instead.\n",
      "  return fn(g, to_cast_func(g, input, False), to_cast_func(g, other, False))\n"
     ]
    }
   ],
   "source": [
    "# Verifier/ data consumer side:\n",
    "class verifier_model(nn.Module):\n",
    "    def __init__(self):\n",
    "        super(verifier_model, self).__init__()\n",
    "        self.cov = nn.Parameter(data = torch.tensor(dummy_cov), requires_grad = False)\n",
    "        self.x_mean = nn.Parameter(data = torch.tensor(dummy_x_mean), requires_grad = False)\n",
    "        self.y_mean = nn.Parameter(data = torch.tensor(dummy_y_mean), requires_grad = False)\n",
    "    def forward(self,X,Y):\n",
    "        # some expression of tolerance to error in the inference\n",
    "        # print(\"x size: \", X.size()[1])\n",
    "        #  need to enforce same length, not yet\n",
    "        x_mean_cons = torch.abs(torch.sum(X)-X.size()[1]*(self.x_mean))<0.01*X.size()[1]*(self.x_mean)\n",
    "        y_mean_cons = torch.abs(torch.sum(Y)-Y.size()[1]*(self.y_mean))<0.01*Y.size()[1]*(self.y_mean)\n",
    "        return (torch.logical_and(torch.logical_and(x_mean_cons,y_mean_cons), torch.abs(torch.sum((X-self.x_mean)*(Y-self.y_mean))-(X.size()[1]-1)*(self.cov))<0.01*(X.size()[1]-1)*(self.cov)), self.cov)\n",
    "\n",
    "verifier_define_calculation(verifier_model, verifier_model_path, [dummy_x_vals_path, dummy_y_vals_path])"
   ]
  },
  {
   "cell_type": "code",
   "execution_count": 6,
   "metadata": {},
   "outputs": [
    {
     "name": "stdout",
     "output_type": "stream",
     "text": [
      "Theory output:  tensor(3214.7649)\n",
      "==== Generate & Calibrate Setting ====\n",
      "scale:  [0]\n",
      "setting:  {\"run_args\":{\"tolerance\":{\"val\":0.0,\"scale\":1.0},\"input_scale\":0,\"param_scale\":0,\"scale_rebase_multiplier\":10,\"lookup_range\":[0,6246],\"logrows\":14,\"num_inner_cols\":1,\"variables\":[[\"batch_size\",1]],\"input_visibility\":{\"Hashed\":{\"hash_is_public\":true,\"outlets\":[]}},\"output_visibility\":\"Public\",\"param_visibility\":\"Private\"},\"num_rows\":13120,\"total_assignments\":1018,\"total_const_size\":0,\"model_instance_shapes\":[[1],[1]],\"model_output_scales\":[0,0],\"model_input_scales\":[0,0],\"module_sizes\":{\"kzg\":[],\"poseidon\":[13120,[2]],\"elgamal\":[0,[0]]},\"required_lookups\":[\"Abs\",{\"GreaterThan\":{\"a\":0.0}}],\"check_mode\":\"UNSAFE\",\"version\":\"5.0.8\",\"num_blinding_factors\":null}\n"
     ]
    }
   ],
   "source": [
    "# prover calculates settings, send to verifier\n",
    "\n",
    "theory_output = torch.tensor(real_cov)\n",
    "print(\"Theory output: \", theory_output)\n",
    "class prover_model(nn.Module):\n",
    "    def __init__(self):\n",
    "        super(prover_model, self).__init__()\n",
    "        self.cov = nn.Parameter(data = torch.tensor(real_cov), requires_grad = False)\n",
    "        self.x_mean = nn.Parameter(data = torch.tensor(x_mean), requires_grad = False)\n",
    "        self.y_mean = nn.Parameter(data = torch.tensor(y_mean), requires_grad = False)\n",
    "    def forward(self,X,Y):\n",
    "        # some expression of tolerance to error in the inference\n",
    "        # print(\"x size: \", X.size()[1])\n",
    "        #  need to enforce same length\n",
    "        x_mean_cons = torch.abs(torch.sum(X)-X.size()[1]*(self.x_mean))<0.01*X.size()[1]*(self.x_mean)\n",
    "        y_mean_cons = torch.abs(torch.sum(Y)-Y.size()[1]*(self.y_mean))<0.01*Y.size()[1]*(self.y_mean)\n",
    "        return (torch.logical_and(torch.logical_and(x_mean_cons,y_mean_cons), torch.abs(torch.sum((X-self.x_mean)*(Y-self.y_mean))-(X.size()[1]-1)*(self.cov))<0.01*(X.size()[1]-1)*(self.cov)), self.cov)\n",
    "\n",
    "# note scale = 2, or 3 makes it more precise, but too big.\n",
    "prover_gen_settings([x_vals_path, y_vals_path], comb_data_path, prover_model,prover_model_path, [0], \"resources\", settings_path)"
   ]
  },
  {
   "cell_type": "code",
   "execution_count": 7,
   "metadata": {},
   "outputs": [
    {
     "name": "stderr",
     "output_type": "stream",
     "text": [
      "spawning module 0\n",
      "spawning module 2\n"
     ]
    },
    {
     "name": "stdout",
     "output_type": "stream",
     "text": [
      "==== setting up ezkl ====\n"
     ]
    },
    {
     "name": "stderr",
     "output_type": "stream",
     "text": [
      "spawning module 0\n",
      "spawning module 2\n",
      "spawning module 0\n"
     ]
    },
    {
     "name": "stdout",
     "output_type": "stream",
     "text": [
      "Time setup: 1.812696933746338 seconds\n",
      "=======================================\n",
      "Theory output:  tensor(3214.7649)\n",
      "==== Generating Witness ====\n",
      "witness boolean:  1.0\n",
      "witness result 1 : 3215.0\n",
      "==== Generating Proof ====\n"
     ]
    },
    {
     "name": "stderr",
     "output_type": "stream",
     "text": [
      "spawning module 2\n"
     ]
    },
    {
     "name": "stdout",
     "output_type": "stream",
     "text": [
      "proof:  {'instances': [[[14955570959218682635, 4667139652385906200, 12836539004462631467, 1774684518626433649], [4224417983558473805, 851357164555783563, 5363851773531956453, 1448631618362554917], [12436184717236109307, 3962172157175319849, 7381016538464732718, 1011752739694698287], [5743885005642251665, 3430503978676436355, 7149667244725939006, 2902673458086333540]]], 'proof': '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', 'transcript_type': 'EVM'}\n",
      "Time gen prf: 1.9126226902008057 seconds\n"
     ]
    }
   ],
   "source": [
    "# Here verifier & prover can concurrently call setup since all params are public to get pk. \n",
    "# Here write as verifier function to emphasize that verifier must calculate its own vk to be sure\n",
    "verifier_setup(verifier_model_path, verifier_compiled_model_path, settings_path, srs_path,vk_path, pk_path )\n",
    "\n",
    "print(\"=======================================\")\n",
    "# Prover generates proof\n",
    "print(\"Theory output: \", theory_output)\n",
    "prover_gen_proof(prover_model_path, comb_data_path, witness_path, prover_compiled_model_path, settings_path, proof_path, pk_path, srs_path)"
   ]
  },
  {
   "cell_type": "code",
   "execution_count": 8,
   "metadata": {},
   "outputs": [
    {
     "name": "stdout",
     "output_type": "stream",
     "text": [
      "num_inputs:  2\n",
      "prf instances:  [[[14955570959218682635, 4667139652385906200, 12836539004462631467, 1774684518626433649], [4224417983558473805, 851357164555783563, 5363851773531956453, 1448631618362554917], [12436184717236109307, 3962172157175319849, 7381016538464732718, 1011752739694698287], [5743885005642251665, 3430503978676436355, 7149667244725939006, 2902673458086333540]]]\n",
      "proof boolean:  1.0\n",
      "proof result 1 : 3215.0\n",
      "verified\n"
     ]
    }
   ],
   "source": [
    "# Verifier verifies\n",
    "verifier_verify(proof_path, settings_path, vk_path, srs_path)"
   ]
  },
  {
   "cell_type": "code",
   "execution_count": null,
   "metadata": {},
   "outputs": [],
   "source": []
  },
  {
   "cell_type": "code",
   "execution_count": null,
   "metadata": {},
   "outputs": [],
   "source": []
  },
  {
   "cell_type": "code",
   "execution_count": null,
   "metadata": {},
   "outputs": [],
   "source": []
  }
 ],
 "metadata": {
  "kernelspec": {
   "display_name": "Python 3",
   "language": "python",
   "name": "python3"
  },
  "language_info": {
   "codemirror_mode": {
    "name": "ipython",
    "version": 3
   },
   "file_extension": ".py",
   "mimetype": "text/x-python",
   "name": "python",
   "nbconvert_exporter": "python",
   "pygments_lexer": "ipython3",
   "version": "3.10.0"
  },
  "orig_nbformat": 4
 },
 "nbformat": 4,
 "nbformat_minor": 2
}
