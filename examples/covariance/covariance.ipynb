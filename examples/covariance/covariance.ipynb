{
 "cells": [
  {
   "cell_type": "code",
   "execution_count": 1,
   "metadata": {},
   "outputs": [
    {
     "name": "stdout",
     "output_type": "stream",
     "text": [
      "Requirement already satisfied: ezkl==7.0.0 in /Users/mhchia/Library/Caches/pypoetry/virtualenvs/zkstats-brXmXluj-py3.12/lib/python3.12/site-packages (from -r ../../requirements.txt (line 1)) (7.0.0)\n",
      "Requirement already satisfied: torch in /Users/mhchia/Library/Caches/pypoetry/virtualenvs/zkstats-brXmXluj-py3.12/lib/python3.12/site-packages (from -r ../../requirements.txt (line 2)) (2.2.0)\n",
      "Requirement already satisfied: requests in /Users/mhchia/Library/Caches/pypoetry/virtualenvs/zkstats-brXmXluj-py3.12/lib/python3.12/site-packages (from -r ../../requirements.txt (line 3)) (2.31.0)\n",
      "Requirement already satisfied: scipy in /Users/mhchia/Library/Caches/pypoetry/virtualenvs/zkstats-brXmXluj-py3.12/lib/python3.12/site-packages (from -r ../../requirements.txt (line 4)) (1.12.0)\n",
      "Requirement already satisfied: numpy in /Users/mhchia/Library/Caches/pypoetry/virtualenvs/zkstats-brXmXluj-py3.12/lib/python3.12/site-packages (from -r ../../requirements.txt (line 5)) (1.26.3)\n",
      "Requirement already satisfied: matplotlib in /Users/mhchia/Library/Caches/pypoetry/virtualenvs/zkstats-brXmXluj-py3.12/lib/python3.12/site-packages (from -r ../../requirements.txt (line 6)) (3.8.2)\n",
      "Requirement already satisfied: statistics in /Users/mhchia/Library/Caches/pypoetry/virtualenvs/zkstats-brXmXluj-py3.12/lib/python3.12/site-packages (from -r ../../requirements.txt (line 7)) (1.0.3.5)\n",
      "Requirement already satisfied: onnx in /Users/mhchia/Library/Caches/pypoetry/virtualenvs/zkstats-brXmXluj-py3.12/lib/python3.12/site-packages (from -r ../../requirements.txt (line 8)) (1.15.0)\n",
      "Requirement already satisfied: filelock in /Users/mhchia/Library/Caches/pypoetry/virtualenvs/zkstats-brXmXluj-py3.12/lib/python3.12/site-packages (from torch->-r ../../requirements.txt (line 2)) (3.13.1)\n",
      "Requirement already satisfied: typing-extensions>=4.8.0 in /Users/mhchia/Library/Caches/pypoetry/virtualenvs/zkstats-brXmXluj-py3.12/lib/python3.12/site-packages (from torch->-r ../../requirements.txt (line 2)) (4.9.0)\n",
      "Requirement already satisfied: sympy in /Users/mhchia/Library/Caches/pypoetry/virtualenvs/zkstats-brXmXluj-py3.12/lib/python3.12/site-packages (from torch->-r ../../requirements.txt (line 2)) (1.12)\n",
      "Requirement already satisfied: networkx in /Users/mhchia/Library/Caches/pypoetry/virtualenvs/zkstats-brXmXluj-py3.12/lib/python3.12/site-packages (from torch->-r ../../requirements.txt (line 2)) (3.2.1)\n",
      "Requirement already satisfied: jinja2 in /Users/mhchia/Library/Caches/pypoetry/virtualenvs/zkstats-brXmXluj-py3.12/lib/python3.12/site-packages (from torch->-r ../../requirements.txt (line 2)) (3.1.3)\n",
      "Requirement already satisfied: fsspec in /Users/mhchia/Library/Caches/pypoetry/virtualenvs/zkstats-brXmXluj-py3.12/lib/python3.12/site-packages (from torch->-r ../../requirements.txt (line 2)) (2023.12.2)\n",
      "Requirement already satisfied: charset-normalizer<4,>=2 in /Users/mhchia/Library/Caches/pypoetry/virtualenvs/zkstats-brXmXluj-py3.12/lib/python3.12/site-packages (from requests->-r ../../requirements.txt (line 3)) (3.3.2)\n",
      "Requirement already satisfied: idna<4,>=2.5 in /Users/mhchia/Library/Caches/pypoetry/virtualenvs/zkstats-brXmXluj-py3.12/lib/python3.12/site-packages (from requests->-r ../../requirements.txt (line 3)) (3.6)\n",
      "Requirement already satisfied: urllib3<3,>=1.21.1 in /Users/mhchia/Library/Caches/pypoetry/virtualenvs/zkstats-brXmXluj-py3.12/lib/python3.12/site-packages (from requests->-r ../../requirements.txt (line 3)) (2.2.0)\n",
      "Requirement already satisfied: certifi>=2017.4.17 in /Users/mhchia/Library/Caches/pypoetry/virtualenvs/zkstats-brXmXluj-py3.12/lib/python3.12/site-packages (from requests->-r ../../requirements.txt (line 3)) (2024.2.2)\n",
      "Requirement already satisfied: contourpy>=1.0.1 in /Users/mhchia/Library/Caches/pypoetry/virtualenvs/zkstats-brXmXluj-py3.12/lib/python3.12/site-packages (from matplotlib->-r ../../requirements.txt (line 6)) (1.2.0)\n",
      "Requirement already satisfied: cycler>=0.10 in /Users/mhchia/Library/Caches/pypoetry/virtualenvs/zkstats-brXmXluj-py3.12/lib/python3.12/site-packages (from matplotlib->-r ../../requirements.txt (line 6)) (0.12.1)\n",
      "Requirement already satisfied: fonttools>=4.22.0 in /Users/mhchia/Library/Caches/pypoetry/virtualenvs/zkstats-brXmXluj-py3.12/lib/python3.12/site-packages (from matplotlib->-r ../../requirements.txt (line 6)) (4.47.2)\n",
      "Requirement already satisfied: kiwisolver>=1.3.1 in /Users/mhchia/Library/Caches/pypoetry/virtualenvs/zkstats-brXmXluj-py3.12/lib/python3.12/site-packages (from matplotlib->-r ../../requirements.txt (line 6)) (1.4.5)\n",
      "Requirement already satisfied: packaging>=20.0 in /Users/mhchia/Library/Caches/pypoetry/virtualenvs/zkstats-brXmXluj-py3.12/lib/python3.12/site-packages (from matplotlib->-r ../../requirements.txt (line 6)) (23.2)\n",
      "Requirement already satisfied: pillow>=8 in /Users/mhchia/Library/Caches/pypoetry/virtualenvs/zkstats-brXmXluj-py3.12/lib/python3.12/site-packages (from matplotlib->-r ../../requirements.txt (line 6)) (10.2.0)\n",
      "Requirement already satisfied: pyparsing>=2.3.1 in /Users/mhchia/Library/Caches/pypoetry/virtualenvs/zkstats-brXmXluj-py3.12/lib/python3.12/site-packages (from matplotlib->-r ../../requirements.txt (line 6)) (3.1.1)\n",
      "Requirement already satisfied: python-dateutil>=2.7 in /Users/mhchia/Library/Caches/pypoetry/virtualenvs/zkstats-brXmXluj-py3.12/lib/python3.12/site-packages (from matplotlib->-r ../../requirements.txt (line 6)) (2.8.2)\n",
      "Requirement already satisfied: docutils>=0.3 in /Users/mhchia/Library/Caches/pypoetry/virtualenvs/zkstats-brXmXluj-py3.12/lib/python3.12/site-packages (from statistics->-r ../../requirements.txt (line 7)) (0.20.1)\n",
      "Requirement already satisfied: protobuf>=3.20.2 in /Users/mhchia/Library/Caches/pypoetry/virtualenvs/zkstats-brXmXluj-py3.12/lib/python3.12/site-packages (from onnx->-r ../../requirements.txt (line 8)) (4.25.2)\n",
      "Requirement already satisfied: six>=1.5 in /Users/mhchia/Library/Caches/pypoetry/virtualenvs/zkstats-brXmXluj-py3.12/lib/python3.12/site-packages (from python-dateutil>=2.7->matplotlib->-r ../../requirements.txt (line 6)) (1.16.0)\n",
      "Requirement already satisfied: MarkupSafe>=2.0 in /Users/mhchia/Library/Caches/pypoetry/virtualenvs/zkstats-brXmXluj-py3.12/lib/python3.12/site-packages (from jinja2->torch->-r ../../requirements.txt (line 2)) (2.1.4)\n",
      "Requirement already satisfied: mpmath>=0.19 in /Users/mhchia/Library/Caches/pypoetry/virtualenvs/zkstats-brXmXluj-py3.12/lib/python3.12/site-packages (from sympy->torch->-r ../../requirements.txt (line 2)) (1.3.0)\n",
      "\n",
      "\u001b[1m[\u001b[0m\u001b[34;49mnotice\u001b[0m\u001b[1;39;49m]\u001b[0m\u001b[39;49m A new release of pip is available: \u001b[0m\u001b[31;49m23.3.1\u001b[0m\u001b[39;49m -> \u001b[0m\u001b[32;49m24.0\u001b[0m\n",
      "\u001b[1m[\u001b[0m\u001b[34;49mnotice\u001b[0m\u001b[1;39;49m]\u001b[0m\u001b[39;49m To update, run: \u001b[0m\u001b[32;49mpip install --upgrade pip\u001b[0m\n",
      "Note: you may need to restart the kernel to use updated packages.\n"
     ]
    }
   ],
   "source": [
    "pip install -r ../../requirements.txt"
   ]
  },
  {
   "cell_type": "code",
   "execution_count": 2,
   "metadata": {},
   "outputs": [],
   "source": [
    "import ezkl\n",
    "import torch\n",
    "from torch import nn\n",
    "import json\n",
    "import os\n",
    "import time\n",
    "import scipy\n",
    "import numpy as np\n",
    "import matplotlib.pyplot as plt\n",
    "import statistics\n",
    "import math"
   ]
  },
  {
   "cell_type": "code",
   "execution_count": 3,
   "metadata": {},
   "outputs": [],
   "source": [
    "%run -i ../../zkstats/core.py"
   ]
  },
  {
   "cell_type": "code",
   "execution_count": 4,
   "metadata": {},
   "outputs": [],
   "source": [
    "# init path\n",
    "os.makedirs(os.path.dirname('shared/'), exist_ok=True)\n",
    "os.makedirs(os.path.dirname('prover/'), exist_ok=True)\n",
    "verifier_model_path = os.path.join('shared/verifier.onnx')\n",
    "prover_model_path = os.path.join('prover/prover.onnx')\n",
    "verifier_compiled_model_path = os.path.join('shared/verifier.compiled')\n",
    "prover_compiled_model_path = os.path.join('prover/prover.compiled')\n",
    "pk_path = os.path.join('shared/test.pk')\n",
    "vk_path = os.path.join('shared/test.vk')\n",
    "proof_path = os.path.join('shared/test.pf')\n",
    "settings_path = os.path.join('shared/settings.json')\n",
    "srs_path = os.path.join('shared/kzg.srs')\n",
    "witness_path = os.path.join('prover/witness.json')\n",
    "# this is private to prover since it contains actual data\n",
    "sel_data_path = os.path.join('prover/sel_data.json')\n",
    "# this is just dummy random value\n",
    "sel_dummy_data_path = os.path.join('shared/sel_dummy_data.json')"
   ]
  },
  {
   "attachments": {},
   "cell_type": "markdown",
   "metadata": {},
   "source": [
    "=======================  ZK-STATS FLOW ======================="
   ]
  },
  {
   "cell_type": "code",
   "execution_count": 5,
   "metadata": {},
   "outputs": [],
   "source": [
    "data_path = os.path.join('data.json')\n",
    "dummy_data_path = os.path.join('shared/dummy_data.json')\n",
    "\n",
    "create_dummy(data_path, dummy_data_path)"
   ]
  },
  {
   "cell_type": "code",
   "execution_count": 6,
   "metadata": {},
   "outputs": [],
   "source": [
    "# note scale = 2, or 3 makes it more precise, but too big.\n",
    "scales = [0]\n",
    "selected_columns = ['x', 'y']\n",
    "commitment_maps = get_data_commitment_maps(data_path, scales)"
   ]
  },
  {
   "attachments": {},
   "cell_type": "markdown",
   "metadata": {},
   "source": []
  },
  {
   "cell_type": "code",
   "execution_count": 7,
   "metadata": {},
   "outputs": [
    {
     "name": "stderr",
     "output_type": "stream",
     "text": [
      "/Users/mhchia/projects/work/pse/zk-stats-lib/zkstats/computation.py:166: TracerWarning: torch.tensor results are registered as constants in the trace. You can safely ignore this warning if you use this function to create tensors out of constant variables that would be the same every time you call this function. In any other case, this might cause the trace to be incorrect.\n",
      "  is_precise_aggregated = torch.tensor(1.0)\n",
      "/Users/mhchia/Library/Caches/pypoetry/virtualenvs/zkstats-brXmXluj-py3.12/lib/python3.12/site-packages/torch/onnx/symbolic_opset9.py:2174: FutureWarning: 'torch.onnx.symbolic_opset9._cast_Bool' is deprecated in version 2.0 and will be removed in the future. Please Avoid using this function and create a Cast node instead.\n",
      "  return fn(g, to_cast_func(g, input, False), to_cast_func(g, other, False))\n"
     ]
    }
   ],
   "source": [
    "# Verifier/ data consumer side:\n",
    "from zkstats.computation import computation_to_model, State\n",
    "\n",
    "def computation(s: State, data: list[torch.Tensor]) -> torch.Tensor:\n",
    "    x, y = data[0], data[1]\n",
    "    return s.covariance(x, y)\n",
    "\n",
    "error = 0.01\n",
    "_, verifier_model = computation_to_model(computation, error)\n",
    "\n",
    "\n",
    "verifier_define_calculation(dummy_data_path, selected_columns, sel_dummy_data_path,verifier_model, verifier_model_path)"
   ]
  },
  {
   "cell_type": "code",
   "execution_count": 8,
   "metadata": {},
   "outputs": [
    {
     "name": "stdout",
     "output_type": "stream",
     "text": [
      "==== Generate & Calibrate Setting ====\n",
      "scale:  [0]\n",
      "setting:  {\"run_args\":{\"tolerance\":{\"val\":0.0,\"scale\":1.0},\"input_scale\":0,\"param_scale\":0,\"scale_rebase_multiplier\":10,\"lookup_range\":[-448,6246],\"logrows\":14,\"num_inner_cols\":2,\"variables\":[[\"batch_size\",1]],\"input_visibility\":{\"Hashed\":{\"hash_is_public\":true,\"outlets\":[]}},\"output_visibility\":\"Public\",\"param_visibility\":\"Private\"},\"num_rows\":13120,\"total_assignments\":828,\"total_const_size\":8,\"model_instance_shapes\":[[1],[1]],\"model_output_scales\":[0,0],\"model_input_scales\":[0,0],\"module_sizes\":{\"kzg\":[],\"poseidon\":[13120,[2]],\"elgamal\":[0,[0]]},\"required_lookups\":[\"Abs\",{\"GreaterThan\":{\"a\":0.0}}],\"check_mode\":\"UNSAFE\",\"version\":\"7.0.0\",\"num_blinding_factors\":null}\n"
     ]
    }
   ],
   "source": [
    "# prover calculates settings, send to verifier\n",
    "_, prover_model = computation_to_model(computation, error)\n",
    "prover_gen_settings(data_path, selected_columns, sel_data_path, prover_model,prover_model_path, scales, \"resources\", settings_path)"
   ]
  },
  {
   "cell_type": "code",
   "execution_count": 9,
   "metadata": {},
   "outputs": [
    {
     "name": "stderr",
     "output_type": "stream",
     "text": [
      "spawning module 0\n",
      "spawning module 2\n"
     ]
    },
    {
     "name": "stdout",
     "output_type": "stream",
     "text": [
      "==== setting up ezkl ====\n"
     ]
    },
    {
     "name": "stderr",
     "output_type": "stream",
     "text": [
      "spawning module 0\n",
      "spawning module 2\n"
     ]
    },
    {
     "name": "stdout",
     "output_type": "stream",
     "text": [
      "Time setup: 2.779344081878662 seconds\n",
      "=======================================\n",
      "==== Generating Witness ====\n",
      "witness boolean:  1.0\n",
      "witness result 1 : 3215.0\n",
      "==== Generating Proof ====\n"
     ]
    },
    {
     "name": "stderr",
     "output_type": "stream",
     "text": [
      "spawning module 0\n",
      "spawning module 2\n"
     ]
    },
    {
     "name": "stdout",
     "output_type": "stream",
     "text": [
      "proof:  {'instances': [[[14955570959218682635, 4667139652385906200, 12836539004462631467, 1774684518626433649], [4224417983558473805, 851357164555783563, 5363851773531956453, 1448631618362554917], [12436184717236109307, 3962172157175319849, 7381016538464732718, 1011752739694698287], [5743885005642251665, 3430503978676436355, 7149667244725939006, 2902673458086333540]]], 'proof': '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', 'transcript_type': 'EVM'}\n",
      "Time gen prf: 4.404950141906738 seconds\n"
     ]
    }
   ],
   "source": [
    "# Here verifier & prover can concurrently call setup since all params are public to get pk.\n",
    "# Here write as verifier function to emphasize that verifier must calculate its own vk to be sure\n",
    "setup(verifier_model_path, verifier_compiled_model_path, settings_path,vk_path, pk_path )\n",
    "\n",
    "print(\"=======================================\")\n",
    "# Prover generates proof\n",
    "prover_gen_proof(prover_model_path, sel_data_path, witness_path, prover_compiled_model_path, settings_path, proof_path, pk_path)"
   ]
  },
  {
   "cell_type": "code",
   "execution_count": 10,
   "metadata": {},
   "outputs": [
    {
     "name": "stdout",
     "output_type": "stream",
     "text": [
      "Verifier gets result: 3215.0\n"
     ]
    }
   ],
   "source": [
    "# Verifier verifies\n",
    "res = verifier_verify(proof_path, settings_path, vk_path, selected_columns, commitment_maps)\n",
    "print(\"Verifier gets result:\", res)"
   ]
  }
 ],
 "metadata": {
  "kernelspec": {
   "display_name": "Python 3",
   "language": "python",
   "name": "python3"
  },
  "language_info": {
   "codemirror_mode": {
    "name": "ipython",
    "version": 3
   },
   "file_extension": ".py",
   "mimetype": "text/x-python",
   "name": "python",
   "nbconvert_exporter": "python",
   "pygments_lexer": "ipython3",
   "version": "3.12.1"
  },
  "orig_nbformat": 4
 },
 "nbformat": 4,
 "nbformat_minor": 2
}
