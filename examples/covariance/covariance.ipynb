{
 "cells": [
  {
   "cell_type": "code",
   "execution_count": 17,
   "metadata": {},
   "outputs": [
    {
     "name": "stdout",
     "output_type": "stream",
     "text": [
      "Requirement already satisfied: ezkl==5.4.2 in /Library/Frameworks/Python.framework/Versions/3.10/lib/python3.10/site-packages (from -r ../../requirements.txt (line 1)) (5.4.2)\n",
      "Requirement already satisfied: torch in /Library/Frameworks/Python.framework/Versions/3.10/lib/python3.10/site-packages (from -r ../../requirements.txt (line 2)) (2.1.1)\n",
      "Requirement already satisfied: requests in /Library/Frameworks/Python.framework/Versions/3.10/lib/python3.10/site-packages (from -r ../../requirements.txt (line 3)) (2.31.0)\n",
      "Requirement already satisfied: scipy in /Library/Frameworks/Python.framework/Versions/3.10/lib/python3.10/site-packages (from -r ../../requirements.txt (line 4)) (1.11.4)\n",
      "Requirement already satisfied: numpy in /Library/Frameworks/Python.framework/Versions/3.10/lib/python3.10/site-packages (from -r ../../requirements.txt (line 5)) (1.26.2)\n",
      "Requirement already satisfied: matplotlib in /Library/Frameworks/Python.framework/Versions/3.10/lib/python3.10/site-packages (from -r ../../requirements.txt (line 6)) (3.8.2)\n",
      "Requirement already satisfied: statistics in /Library/Frameworks/Python.framework/Versions/3.10/lib/python3.10/site-packages (from -r ../../requirements.txt (line 7)) (1.0.3.5)\n",
      "Requirement already satisfied: onnx in /Library/Frameworks/Python.framework/Versions/3.10/lib/python3.10/site-packages (from -r ../../requirements.txt (line 8)) (1.15.0)\n",
      "Requirement already satisfied: networkx in /Library/Frameworks/Python.framework/Versions/3.10/lib/python3.10/site-packages (from torch->-r ../../requirements.txt (line 2)) (3.2.1)\n",
      "Requirement already satisfied: filelock in /Library/Frameworks/Python.framework/Versions/3.10/lib/python3.10/site-packages (from torch->-r ../../requirements.txt (line 2)) (3.13.1)\n",
      "Requirement already satisfied: fsspec in /Library/Frameworks/Python.framework/Versions/3.10/lib/python3.10/site-packages (from torch->-r ../../requirements.txt (line 2)) (2023.10.0)\n",
      "Requirement already satisfied: jinja2 in /Library/Frameworks/Python.framework/Versions/3.10/lib/python3.10/site-packages (from torch->-r ../../requirements.txt (line 2)) (3.1.2)\n",
      "Requirement already satisfied: typing-extensions in /Library/Frameworks/Python.framework/Versions/3.10/lib/python3.10/site-packages (from torch->-r ../../requirements.txt (line 2)) (4.8.0)\n",
      "Requirement already satisfied: sympy in /Library/Frameworks/Python.framework/Versions/3.10/lib/python3.10/site-packages (from torch->-r ../../requirements.txt (line 2)) (1.12)\n",
      "Requirement already satisfied: certifi>=2017.4.17 in /Library/Frameworks/Python.framework/Versions/3.10/lib/python3.10/site-packages (from requests->-r ../../requirements.txt (line 3)) (2023.11.17)\n",
      "Requirement already satisfied: charset-normalizer<4,>=2 in /Library/Frameworks/Python.framework/Versions/3.10/lib/python3.10/site-packages (from requests->-r ../../requirements.txt (line 3)) (3.3.2)\n",
      "Requirement already satisfied: urllib3<3,>=1.21.1 in /Library/Frameworks/Python.framework/Versions/3.10/lib/python3.10/site-packages (from requests->-r ../../requirements.txt (line 3)) (2.1.0)\n",
      "Requirement already satisfied: idna<4,>=2.5 in /Library/Frameworks/Python.framework/Versions/3.10/lib/python3.10/site-packages (from requests->-r ../../requirements.txt (line 3)) (3.6)\n",
      "Requirement already satisfied: packaging>=20.0 in /Users/jernkun/Library/Python/3.10/lib/python/site-packages (from matplotlib->-r ../../requirements.txt (line 6)) (23.2)\n",
      "Requirement already satisfied: cycler>=0.10 in /Library/Frameworks/Python.framework/Versions/3.10/lib/python3.10/site-packages (from matplotlib->-r ../../requirements.txt (line 6)) (0.12.1)\n",
      "Requirement already satisfied: fonttools>=4.22.0 in /Library/Frameworks/Python.framework/Versions/3.10/lib/python3.10/site-packages (from matplotlib->-r ../../requirements.txt (line 6)) (4.45.1)\n",
      "Requirement already satisfied: contourpy>=1.0.1 in /Library/Frameworks/Python.framework/Versions/3.10/lib/python3.10/site-packages (from matplotlib->-r ../../requirements.txt (line 6)) (1.2.0)\n",
      "Requirement already satisfied: pyparsing>=2.3.1 in /Library/Frameworks/Python.framework/Versions/3.10/lib/python3.10/site-packages (from matplotlib->-r ../../requirements.txt (line 6)) (3.1.1)\n",
      "Requirement already satisfied: python-dateutil>=2.7 in /Users/jernkun/Library/Python/3.10/lib/python/site-packages (from matplotlib->-r ../../requirements.txt (line 6)) (2.8.2)\n",
      "Requirement already satisfied: pillow>=8 in /Library/Frameworks/Python.framework/Versions/3.10/lib/python3.10/site-packages (from matplotlib->-r ../../requirements.txt (line 6)) (10.1.0)\n",
      "Requirement already satisfied: kiwisolver>=1.3.1 in /Library/Frameworks/Python.framework/Versions/3.10/lib/python3.10/site-packages (from matplotlib->-r ../../requirements.txt (line 6)) (1.4.5)\n",
      "Requirement already satisfied: docutils>=0.3 in /Library/Frameworks/Python.framework/Versions/3.10/lib/python3.10/site-packages (from statistics->-r ../../requirements.txt (line 7)) (0.20.1)\n",
      "Requirement already satisfied: protobuf>=3.20.2 in /Library/Frameworks/Python.framework/Versions/3.10/lib/python3.10/site-packages (from onnx->-r ../../requirements.txt (line 8)) (4.25.1)\n",
      "Requirement already satisfied: six>=1.5 in /Users/jernkun/Library/Python/3.10/lib/python/site-packages (from python-dateutil>=2.7->matplotlib->-r ../../requirements.txt (line 6)) (1.16.0)\n",
      "Requirement already satisfied: MarkupSafe>=2.0 in /Library/Frameworks/Python.framework/Versions/3.10/lib/python3.10/site-packages (from jinja2->torch->-r ../../requirements.txt (line 2)) (2.1.3)\n",
      "Requirement already satisfied: mpmath>=0.19 in /Library/Frameworks/Python.framework/Versions/3.10/lib/python3.10/site-packages (from sympy->torch->-r ../../requirements.txt (line 2)) (1.3.0)\n",
      "\u001b[33mWARNING: You are using pip version 21.2.3; however, version 23.3.1 is available.\n",
      "You should consider upgrading via the '/usr/local/bin/python3 -m pip install --upgrade pip' command.\u001b[0m\n",
      "Note: you may need to restart the kernel to use updated packages.\n"
     ]
    }
   ],
   "source": [
    "pip install -r ../../requirements.txt"
   ]
  },
  {
   "cell_type": "code",
   "execution_count": 2,
   "metadata": {},
   "outputs": [],
   "source": [
    "import ezkl\n",
    "import torch\n",
    "from torch import nn\n",
    "import json\n",
    "import os\n",
    "import time\n",
    "import scipy\n",
    "import numpy as np\n",
    "import matplotlib.pyplot as plt\n",
    "import statistics\n",
    "import math"
   ]
  },
  {
   "cell_type": "code",
   "execution_count": 3,
   "metadata": {},
   "outputs": [],
   "source": [
    "%run -i ../../zkstats/core.py"
   ]
  },
  {
   "cell_type": "code",
   "execution_count": 9,
   "metadata": {},
   "outputs": [],
   "source": [
    "# init path\n",
    "os.makedirs(os.path.dirname('shared/'), exist_ok=True)\n",
    "os.makedirs(os.path.dirname('prover/'), exist_ok=True)\n",
    "verifier_model_path = os.path.join('shared/verifier.onnx')\n",
    "prover_model_path = os.path.join('prover/prover.onnx')\n",
    "verifier_compiled_model_path = os.path.join('shared/verifier.compiled')\n",
    "prover_compiled_model_path = os.path.join('prover/prover.compiled')\n",
    "pk_path = os.path.join('shared/test.pk')\n",
    "vk_path = os.path.join('shared/test.vk')\n",
    "proof_path = os.path.join('shared/test.pf')\n",
    "settings_path = os.path.join('shared/settings.json')\n",
    "srs_path = os.path.join('shared/kzg.srs')\n",
    "witness_path = os.path.join('prover/witness.json')\n",
    "# this is private to prover since it contains actual data\n",
    "comb_data_path = os.path.join('prover/comb_data.json')"
   ]
  },
  {
   "attachments": {},
   "cell_type": "markdown",
   "metadata": {},
   "source": [
    "=======================  ZK-STATS FLOW ======================="
   ]
  },
  {
   "cell_type": "code",
   "execution_count": 17,
   "metadata": {},
   "outputs": [
    {
     "name": "stdout",
     "output_type": "stream",
     "text": [
      "cov:  3214.7648484848482\n",
      "x mean:  49.5\n",
      "y mean:  227.703\n",
      "dummy_cov:  -0.053543434343434414\n",
      "dummy x mean:  5.848\n",
      "dummy y mean:  5.696\n"
     ]
    }
   ],
   "source": [
    "x_vals_path = os.path.join('x_vals.json')\n",
    "dummy_x_vals_path = os.path.join('shared/dummy_x_vals.json')\n",
    "x_open = open(x_vals_path, \"r\")\n",
    "x_vals= json.loads(x_open.read())['input_data'][0]\n",
    "dummy_x_vals = np.round(np.random.uniform(1,10,len(x_vals)),1)\n",
    "json.dump({\"input_data\":[dummy_x_vals.tolist()]}, open(dummy_x_vals_path, 'w'))\n",
    "\n",
    "# print(\"dummy x vals: \", dummy_x_vals)\n",
    "\n",
    "y_vals_path = os.path.join('y_vals.json')\n",
    "dummy_y_vals_path = os.path.join('shared/dummy_y_vals.json')\n",
    "y_open = open(y_vals_path, \"r\")\n",
    "y_vals= json.loads(y_open.read())[\"input_data\"][0]\n",
    "# dummy_y_vals = np.random.uniform(max(y_vals), max(y_vals), len(y_vals))\n",
    "dummy_y_vals = np.round(np.random.uniform(1,10,len(y_vals)),1)\n",
    "json.dump({\"input_data\":[dummy_y_vals.tolist()]}, open(dummy_y_vals_path, 'w'))\n",
    "\n",
    "\n",
    "real_cov = statistics.covariance(x_vals, y_vals)\n",
    "x_mean = statistics.mean(x_vals)\n",
    "y_mean = statistics.mean(y_vals)\n",
    "print(\"cov: \",real_cov )\n",
    "print(\"x mean: \", x_mean)\n",
    "print(\"y mean: \", y_mean)\n",
    "\n",
    "dummy_cov = statistics.covariance(dummy_x_vals, dummy_y_vals)\n",
    "dummy_x_mean = statistics.mean(dummy_x_vals)\n",
    "dummy_y_mean = statistics.mean(dummy_y_vals)\n",
    "print('dummy_cov: ', dummy_cov)\n",
    "print(\"dummy x mean: \", dummy_x_mean)\n",
    "print(\"dummy y mean: \", dummy_y_mean)"
   ]
  },
  {
   "attachments": {},
   "cell_type": "markdown",
   "metadata": {},
   "source": []
  },
  {
   "cell_type": "code",
   "execution_count": 18,
   "metadata": {},
   "outputs": [
    {
     "name": "stderr",
     "output_type": "stream",
     "text": [
      "/Library/Frameworks/Python.framework/Versions/3.10/lib/python3.10/site-packages/torch/onnx/symbolic_opset9.py:2174: FutureWarning: 'torch.onnx.symbolic_opset9._cast_Bool' is deprecated in version 2.0 and will be removed in the future. Please Avoid using this function and create a Cast node instead.\n",
      "  return fn(g, to_cast_func(g, input, False), to_cast_func(g, other, False))\n"
     ]
    }
   ],
   "source": [
    "# Verifier/ data consumer side:\n",
    "class verifier_model(nn.Module):\n",
    "    def __init__(self):\n",
    "        super(verifier_model, self).__init__()\n",
    "        self.cov = nn.Parameter(data = torch.tensor(dummy_cov), requires_grad = False)\n",
    "        self.x_mean = nn.Parameter(data = torch.tensor(dummy_x_mean), requires_grad = False)\n",
    "        self.y_mean = nn.Parameter(data = torch.tensor(dummy_y_mean), requires_grad = False)\n",
    "    def forward(self,X,Y):\n",
    "        # print(\"x size: \", X.size()[1])\n",
    "        #  need to enforce same length, not yet\n",
    "        x_mean_cons = torch.abs(torch.sum(X)-X.size()[1]*(self.x_mean))<=torch.abs(0.01*X.size()[1]*(self.x_mean))\n",
    "        y_mean_cons = torch.abs(torch.sum(Y)-Y.size()[1]*(self.y_mean))<=torch.abs(0.01*Y.size()[1]*(self.y_mean))\n",
    "        return (torch.logical_and(torch.logical_and(x_mean_cons,y_mean_cons), torch.abs(torch.sum((X-self.x_mean)*(Y-self.y_mean))-(X.size()[1]-1)*(self.cov))<0.01*(X.size()[1]-1)*(self.cov)), self.cov)\n",
    "\n",
    "verifier_define_calculation(verifier_model, verifier_model_path, [dummy_x_vals_path, dummy_y_vals_path])"
   ]
  },
  {
   "cell_type": "code",
   "execution_count": 19,
   "metadata": {},
   "outputs": [
    {
     "name": "stdout",
     "output_type": "stream",
     "text": [
      "Theory output:  tensor(3214.7649)\n",
      "==== Generate & Calibrate Setting ====\n",
      "scale:  [0]\n",
      "setting:  {\"run_args\":{\"tolerance\":{\"val\":0.0,\"scale\":1.0},\"input_scale\":0,\"param_scale\":0,\"scale_rebase_multiplier\":10,\"lookup_range\":[-448,6246],\"logrows\":14,\"num_inner_cols\":2,\"variables\":[[\"batch_size\",1]],\"input_visibility\":{\"Hashed\":{\"hash_is_public\":true,\"outlets\":[]}},\"output_visibility\":\"Public\",\"param_visibility\":\"Private\"},\"num_rows\":13120,\"total_assignments\":1027,\"total_const_size\":8,\"model_instance_shapes\":[[1],[1]],\"model_output_scales\":[0,0],\"model_input_scales\":[0,0],\"module_sizes\":{\"kzg\":[],\"poseidon\":[13120,[2]],\"elgamal\":[0,[0]]},\"required_lookups\":[\"Abs\",{\"GreaterThan\":{\"a\":0.0}}],\"check_mode\":\"UNSAFE\",\"version\":\"5.4.2\",\"num_blinding_factors\":null}\n"
     ]
    }
   ],
   "source": [
    "# prover calculates settings, send to verifier\n",
    "\n",
    "theory_output = torch.tensor(real_cov)\n",
    "print(\"Theory output: \", theory_output)\n",
    "class prover_model(nn.Module):\n",
    "    def __init__(self):\n",
    "        super(prover_model, self).__init__()\n",
    "        self.cov = nn.Parameter(data = torch.tensor(real_cov), requires_grad = False)\n",
    "        self.x_mean = nn.Parameter(data = torch.tensor(x_mean), requires_grad = False)\n",
    "        self.y_mean = nn.Parameter(data = torch.tensor(y_mean), requires_grad = False)\n",
    "    def forward(self,X,Y):\n",
    "        # print(\"x size: \", X.size()[1])\n",
    "        #  need to enforce same length\n",
    "        x_mean_cons = torch.abs(torch.sum(X)-X.size()[1]*(self.x_mean))<=torch.abs(0.01*X.size()[1]*(self.x_mean))\n",
    "        y_mean_cons = torch.abs(torch.sum(Y)-Y.size()[1]*(self.y_mean))<=torch.abs(0.01*Y.size()[1]*(self.y_mean))\n",
    "        return (torch.logical_and(torch.logical_and(x_mean_cons,y_mean_cons), torch.abs(torch.sum((X-self.x_mean)*(Y-self.y_mean))-(X.size()[1]-1)*(self.cov))<0.01*(X.size()[1]-1)*(self.cov)), self.cov)\n",
    "\n",
    "# note scale = 2, or 3 makes it more precise, but too big.\n",
    "prover_gen_settings([x_vals_path, y_vals_path], comb_data_path, prover_model,prover_model_path, [0], \"resources\", settings_path)"
   ]
  },
  {
   "cell_type": "code",
   "execution_count": 20,
   "metadata": {},
   "outputs": [
    {
     "name": "stderr",
     "output_type": "stream",
     "text": [
      "spawning module 0\n",
      "spawning module 2\n"
     ]
    },
    {
     "name": "stdout",
     "output_type": "stream",
     "text": [
      "==== setting up ezkl ====\n"
     ]
    },
    {
     "name": "stderr",
     "output_type": "stream",
     "text": [
      "spawning module 0\n",
      "spawning module 2\n",
      "spawning module 0\n"
     ]
    },
    {
     "name": "stdout",
     "output_type": "stream",
     "text": [
      "Time setup: 1.718151330947876 seconds\n",
      "=======================================\n",
      "Theory output:  tensor(3214.7649)\n",
      "==== Generating Witness ====\n",
      "witness boolean:  1.0\n",
      "witness result 1 : 3215.0\n",
      "==== Generating Proof ====\n"
     ]
    },
    {
     "name": "stderr",
     "output_type": "stream",
     "text": [
      "spawning module 2\n"
     ]
    },
    {
     "name": "stdout",
     "output_type": "stream",
     "text": [
      "proof:  {'instances': [[[14955570959218682635, 4667139652385906200, 12836539004462631467, 1774684518626433649], [4224417983558473805, 851357164555783563, 5363851773531956453, 1448631618362554917], [12436184717236109307, 3962172157175319849, 7381016538464732718, 1011752739694698287], [5743885005642251665, 3430503978676436355, 7149667244725939006, 2902673458086333540]]], 'proof': '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', 'transcript_type': 'EVM'}\n",
      "Time gen prf: 2.5302019119262695 seconds\n"
     ]
    }
   ],
   "source": [
    "# Here verifier & prover can concurrently call setup since all params are public to get pk. \n",
    "# Here write as verifier function to emphasize that verifier must calculate its own vk to be sure\n",
    "verifier_setup(verifier_model_path, verifier_compiled_model_path, settings_path, srs_path,vk_path, pk_path )\n",
    "\n",
    "print(\"=======================================\")\n",
    "# Prover generates proof\n",
    "print(\"Theory output: \", theory_output)\n",
    "prover_gen_proof(prover_model_path, comb_data_path, witness_path, prover_compiled_model_path, settings_path, proof_path, pk_path, srs_path)"
   ]
  },
  {
   "cell_type": "code",
   "execution_count": 21,
   "metadata": {},
   "outputs": [
    {
     "name": "stdout",
     "output_type": "stream",
     "text": [
      "num_inputs:  2\n",
      "prf instances:  [[[14955570959218682635, 4667139652385906200, 12836539004462631467, 1774684518626433649], [4224417983558473805, 851357164555783563, 5363851773531956453, 1448631618362554917], [12436184717236109307, 3962172157175319849, 7381016538464732718, 1011752739694698287], [5743885005642251665, 3430503978676436355, 7149667244725939006, 2902673458086333540]]]\n",
      "proof boolean:  1.0\n",
      "proof result 1 : 3215.0\n",
      "verified\n"
     ]
    }
   ],
   "source": [
    "# Verifier verifies\n",
    "verifier_verify(proof_path, settings_path, vk_path, srs_path)"
   ]
  },
  {
   "cell_type": "code",
   "execution_count": null,
   "metadata": {},
   "outputs": [],
   "source": []
  }
 ],
 "metadata": {
  "kernelspec": {
   "display_name": "Python 3",
   "language": "python",
   "name": "python3"
  },
  "language_info": {
   "codemirror_mode": {
    "name": "ipython",
    "version": 3
   },
   "file_extension": ".py",
   "mimetype": "text/x-python",
   "name": "python",
   "nbconvert_exporter": "python",
   "pygments_lexer": "ipython3",
   "version": "3.10.0"
  },
  "orig_nbformat": 4
 },
 "nbformat": 4,
 "nbformat_minor": 2
}
