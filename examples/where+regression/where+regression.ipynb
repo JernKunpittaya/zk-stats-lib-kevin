{
 "cells": [
  {
   "cell_type": "code",
   "execution_count": 1,
   "metadata": {},
   "outputs": [
    {
     "name": "stdout",
     "output_type": "stream",
     "text": [
      "Requirement already satisfied: ezkl==7.0.0 in /Users/mhchia/Library/Caches/pypoetry/virtualenvs/zkstats-brXmXluj-py3.12/lib/python3.12/site-packages (from -r ../../requirements.txt (line 1)) (7.0.0)\n",
      "Requirement already satisfied: torch in /Users/mhchia/Library/Caches/pypoetry/virtualenvs/zkstats-brXmXluj-py3.12/lib/python3.12/site-packages (from -r ../../requirements.txt (line 2)) (2.2.0)\n",
      "Requirement already satisfied: requests in /Users/mhchia/Library/Caches/pypoetry/virtualenvs/zkstats-brXmXluj-py3.12/lib/python3.12/site-packages (from -r ../../requirements.txt (line 3)) (2.31.0)\n",
      "Requirement already satisfied: scipy in /Users/mhchia/Library/Caches/pypoetry/virtualenvs/zkstats-brXmXluj-py3.12/lib/python3.12/site-packages (from -r ../../requirements.txt (line 4)) (1.12.0)\n",
      "Requirement already satisfied: numpy in /Users/mhchia/Library/Caches/pypoetry/virtualenvs/zkstats-brXmXluj-py3.12/lib/python3.12/site-packages (from -r ../../requirements.txt (line 5)) (1.26.3)\n",
      "Requirement already satisfied: matplotlib in /Users/mhchia/Library/Caches/pypoetry/virtualenvs/zkstats-brXmXluj-py3.12/lib/python3.12/site-packages (from -r ../../requirements.txt (line 6)) (3.8.2)\n",
      "Requirement already satisfied: statistics in /Users/mhchia/Library/Caches/pypoetry/virtualenvs/zkstats-brXmXluj-py3.12/lib/python3.12/site-packages (from -r ../../requirements.txt (line 7)) (1.0.3.5)\n",
      "Requirement already satisfied: onnx in /Users/mhchia/Library/Caches/pypoetry/virtualenvs/zkstats-brXmXluj-py3.12/lib/python3.12/site-packages (from -r ../../requirements.txt (line 8)) (1.15.0)\n",
      "Requirement already satisfied: filelock in /Users/mhchia/Library/Caches/pypoetry/virtualenvs/zkstats-brXmXluj-py3.12/lib/python3.12/site-packages (from torch->-r ../../requirements.txt (line 2)) (3.13.1)\n",
      "Requirement already satisfied: typing-extensions>=4.8.0 in /Users/mhchia/Library/Caches/pypoetry/virtualenvs/zkstats-brXmXluj-py3.12/lib/python3.12/site-packages (from torch->-r ../../requirements.txt (line 2)) (4.9.0)\n",
      "Requirement already satisfied: sympy in /Users/mhchia/Library/Caches/pypoetry/virtualenvs/zkstats-brXmXluj-py3.12/lib/python3.12/site-packages (from torch->-r ../../requirements.txt (line 2)) (1.12)\n",
      "Requirement already satisfied: networkx in /Users/mhchia/Library/Caches/pypoetry/virtualenvs/zkstats-brXmXluj-py3.12/lib/python3.12/site-packages (from torch->-r ../../requirements.txt (line 2)) (3.2.1)\n",
      "Requirement already satisfied: jinja2 in /Users/mhchia/Library/Caches/pypoetry/virtualenvs/zkstats-brXmXluj-py3.12/lib/python3.12/site-packages (from torch->-r ../../requirements.txt (line 2)) (3.1.3)\n",
      "Requirement already satisfied: fsspec in /Users/mhchia/Library/Caches/pypoetry/virtualenvs/zkstats-brXmXluj-py3.12/lib/python3.12/site-packages (from torch->-r ../../requirements.txt (line 2)) (2023.12.2)\n",
      "Requirement already satisfied: charset-normalizer<4,>=2 in /Users/mhchia/Library/Caches/pypoetry/virtualenvs/zkstats-brXmXluj-py3.12/lib/python3.12/site-packages (from requests->-r ../../requirements.txt (line 3)) (3.3.2)\n",
      "Requirement already satisfied: idna<4,>=2.5 in /Users/mhchia/Library/Caches/pypoetry/virtualenvs/zkstats-brXmXluj-py3.12/lib/python3.12/site-packages (from requests->-r ../../requirements.txt (line 3)) (3.6)\n",
      "Requirement already satisfied: urllib3<3,>=1.21.1 in /Users/mhchia/Library/Caches/pypoetry/virtualenvs/zkstats-brXmXluj-py3.12/lib/python3.12/site-packages (from requests->-r ../../requirements.txt (line 3)) (2.2.0)\n",
      "Requirement already satisfied: certifi>=2017.4.17 in /Users/mhchia/Library/Caches/pypoetry/virtualenvs/zkstats-brXmXluj-py3.12/lib/python3.12/site-packages (from requests->-r ../../requirements.txt (line 3)) (2024.2.2)\n",
      "Requirement already satisfied: contourpy>=1.0.1 in /Users/mhchia/Library/Caches/pypoetry/virtualenvs/zkstats-brXmXluj-py3.12/lib/python3.12/site-packages (from matplotlib->-r ../../requirements.txt (line 6)) (1.2.0)\n",
      "Requirement already satisfied: cycler>=0.10 in /Users/mhchia/Library/Caches/pypoetry/virtualenvs/zkstats-brXmXluj-py3.12/lib/python3.12/site-packages (from matplotlib->-r ../../requirements.txt (line 6)) (0.12.1)\n",
      "Requirement already satisfied: fonttools>=4.22.0 in /Users/mhchia/Library/Caches/pypoetry/virtualenvs/zkstats-brXmXluj-py3.12/lib/python3.12/site-packages (from matplotlib->-r ../../requirements.txt (line 6)) (4.47.2)\n",
      "Requirement already satisfied: kiwisolver>=1.3.1 in /Users/mhchia/Library/Caches/pypoetry/virtualenvs/zkstats-brXmXluj-py3.12/lib/python3.12/site-packages (from matplotlib->-r ../../requirements.txt (line 6)) (1.4.5)\n",
      "Requirement already satisfied: packaging>=20.0 in /Users/mhchia/Library/Caches/pypoetry/virtualenvs/zkstats-brXmXluj-py3.12/lib/python3.12/site-packages (from matplotlib->-r ../../requirements.txt (line 6)) (23.2)\n",
      "Requirement already satisfied: pillow>=8 in /Users/mhchia/Library/Caches/pypoetry/virtualenvs/zkstats-brXmXluj-py3.12/lib/python3.12/site-packages (from matplotlib->-r ../../requirements.txt (line 6)) (10.2.0)\n",
      "Requirement already satisfied: pyparsing>=2.3.1 in /Users/mhchia/Library/Caches/pypoetry/virtualenvs/zkstats-brXmXluj-py3.12/lib/python3.12/site-packages (from matplotlib->-r ../../requirements.txt (line 6)) (3.1.1)\n",
      "Requirement already satisfied: python-dateutil>=2.7 in /Users/mhchia/Library/Caches/pypoetry/virtualenvs/zkstats-brXmXluj-py3.12/lib/python3.12/site-packages (from matplotlib->-r ../../requirements.txt (line 6)) (2.8.2)\n",
      "Requirement already satisfied: docutils>=0.3 in /Users/mhchia/Library/Caches/pypoetry/virtualenvs/zkstats-brXmXluj-py3.12/lib/python3.12/site-packages (from statistics->-r ../../requirements.txt (line 7)) (0.20.1)\n",
      "Requirement already satisfied: protobuf>=3.20.2 in /Users/mhchia/Library/Caches/pypoetry/virtualenvs/zkstats-brXmXluj-py3.12/lib/python3.12/site-packages (from onnx->-r ../../requirements.txt (line 8)) (4.25.2)\n",
      "Requirement already satisfied: six>=1.5 in /Users/mhchia/Library/Caches/pypoetry/virtualenvs/zkstats-brXmXluj-py3.12/lib/python3.12/site-packages (from python-dateutil>=2.7->matplotlib->-r ../../requirements.txt (line 6)) (1.16.0)\n",
      "Requirement already satisfied: MarkupSafe>=2.0 in /Users/mhchia/Library/Caches/pypoetry/virtualenvs/zkstats-brXmXluj-py3.12/lib/python3.12/site-packages (from jinja2->torch->-r ../../requirements.txt (line 2)) (2.1.4)\n",
      "Requirement already satisfied: mpmath>=0.19 in /Users/mhchia/Library/Caches/pypoetry/virtualenvs/zkstats-brXmXluj-py3.12/lib/python3.12/site-packages (from sympy->torch->-r ../../requirements.txt (line 2)) (1.3.0)\n",
      "\n",
      "\u001b[1m[\u001b[0m\u001b[34;49mnotice\u001b[0m\u001b[1;39;49m]\u001b[0m\u001b[39;49m A new release of pip is available: \u001b[0m\u001b[31;49m23.3.1\u001b[0m\u001b[39;49m -> \u001b[0m\u001b[32;49m24.0\u001b[0m\n",
      "\u001b[1m[\u001b[0m\u001b[34;49mnotice\u001b[0m\u001b[1;39;49m]\u001b[0m\u001b[39;49m To update, run: \u001b[0m\u001b[32;49mpip install --upgrade pip\u001b[0m\n",
      "Note: you may need to restart the kernel to use updated packages.\n"
     ]
    }
   ],
   "source": [
    "pip install -r ../../requirements.txt"
   ]
  },
  {
   "cell_type": "code",
   "execution_count": 2,
   "metadata": {},
   "outputs": [],
   "source": [
    "import ezkl\n",
    "import torch\n",
    "from torch import nn\n",
    "import json\n",
    "import os\n",
    "import time\n",
    "import scipy\n",
    "import numpy as np\n",
    "import matplotlib.pyplot as plt\n",
    "import statistics\n",
    "import math"
   ]
  },
  {
   "cell_type": "code",
   "execution_count": 3,
   "metadata": {},
   "outputs": [],
   "source": [
    "%run -i ../../zkstats/core.py"
   ]
  },
  {
   "cell_type": "code",
   "execution_count": 4,
   "metadata": {},
   "outputs": [],
   "source": [
    "# init path\n",
    "os.makedirs(os.path.dirname('shared/'), exist_ok=True)\n",
    "os.makedirs(os.path.dirname('prover/'), exist_ok=True)\n",
    "verifier_model_path = os.path.join('shared/verifier.onnx')\n",
    "prover_model_path = os.path.join('prover/prover.onnx')\n",
    "verifier_compiled_model_path = os.path.join('shared/verifier.compiled')\n",
    "prover_compiled_model_path = os.path.join('prover/prover.compiled')\n",
    "pk_path = os.path.join('shared/test.pk')\n",
    "vk_path = os.path.join('shared/test.vk')\n",
    "proof_path = os.path.join('shared/test.pf')\n",
    "settings_path = os.path.join('shared/settings.json')\n",
    "srs_path = os.path.join('shared/kzg.srs')\n",
    "witness_path = os.path.join('prover/witness.json')\n",
    "# this is private to prover since it contains actual data\n",
    "sel_data_path = os.path.join('prover/sel_data.json')\n",
    "# this is just dummy random value\n",
    "sel_dummy_data_path = os.path.join('shared/sel_dummy_data.json')"
   ]
  },
  {
   "attachments": {},
   "cell_type": "markdown",
   "metadata": {},
   "source": [
    "=======================  ZK-STATS FLOW ======================="
   ]
  },
  {
   "cell_type": "code",
   "execution_count": 5,
   "metadata": {},
   "outputs": [],
   "source": [
    "data_path = os.path.join('data.json')\n",
    "dummy_data_path = os.path.join('shared/dummy_data.json')\n",
    "\n",
    "create_dummy(data_path, dummy_data_path)\n"
   ]
  },
  {
   "cell_type": "code",
   "execution_count": 6,
   "metadata": {},
   "outputs": [],
   "source": [
    "scales = [0]\n",
    "selected_columns = ['x1', 'y']\n",
    "commitment_maps = get_data_commitment_maps(data_path, scales)"
   ]
  },
  {
   "cell_type": "code",
   "execution_count": 7,
   "metadata": {},
   "outputs": [
    {
     "name": "stderr",
     "output_type": "stream",
     "text": [
      "/Users/mhchia/projects/work/pse/zk-stats-lib/zkstats/computation.py:166: TracerWarning: torch.tensor results are registered as constants in the trace. You can safely ignore this warning if you use this function to create tensors out of constant variables that would be the same every time you call this function. In any other case, this might cause the trace to be incorrect.\n",
      "  is_precise_aggregated = torch.tensor(1.0)\n",
      "/Users/mhchia/Library/Caches/pypoetry/virtualenvs/zkstats-brXmXluj-py3.12/lib/python3.12/site-packages/torch/onnx/symbolic_opset9.py:2174: FutureWarning: 'torch.onnx.symbolic_opset9._cast_Bool' is deprecated in version 2.0 and will be removed in the future. Please Avoid using this function and create a Cast node instead.\n",
      "  return fn(g, to_cast_func(g, input, False), to_cast_func(g, other, False))\n"
     ]
    }
   ],
   "source": [
    "# Verifier/ data consumer side: send desired calculation\n",
    "from zkstats.computation import computation_to_model, State\n",
    "\n",
    "\n",
    "def computation(s: State, data: list[torch.Tensor]) -> torch.Tensor:\n",
    "    x = data[0]\n",
    "    y = data[1]\n",
    "    # FIXME: should be replaced by `s.where` when it's available. Now the result may be incorrect\n",
    "    filter = (y < 20)\n",
    "    # FIXME: not sure how to do filtering correctly here\n",
    "    filtered_x = torch.where(filter, x, 0.0)\n",
    "    filtered_y = torch.where(filter, y, 0.0)\n",
    "    return s.linear_regression(filtered_x, filtered_y)\n",
    "\n",
    "\n",
    "error = 0.01\n",
    "_, verifier_model = computation_to_model(computation, error)\n",
    "\n",
    "verifier_define_calculation(dummy_data_path, selected_columns, sel_dummy_data_path,verifier_model, verifier_model_path)"
   ]
  },
  {
   "cell_type": "code",
   "execution_count": 8,
   "metadata": {},
   "outputs": [
    {
     "name": "stdout",
     "output_type": "stream",
     "text": [
      "==== Generate & Calibrate Setting ====\n",
      "scale:  [0]\n",
      "setting:  {\"run_args\":{\"tolerance\":{\"val\":0.0,\"scale\":1.0},\"input_scale\":0,\"param_scale\":0,\"scale_rebase_multiplier\":10,\"lookup_range\":[-15208,13532],\"logrows\":15,\"num_inner_cols\":2,\"variables\":[[\"batch_size\",1]],\"input_visibility\":{\"Hashed\":{\"hash_is_public\":true,\"outlets\":[]}},\"output_visibility\":\"Public\",\"param_visibility\":\"Private\"},\"num_rows\":7872,\"total_assignments\":426,\"total_const_size\":5,\"model_instance_shapes\":[[1],[1,2,1]],\"model_output_scales\":[0,0],\"model_input_scales\":[0,0],\"module_sizes\":{\"kzg\":[],\"poseidon\":[7872,[2]],\"elgamal\":[0,[0]]},\"required_lookups\":[\"Abs\",{\"Div\":{\"denom\":100.0}},{\"GreaterThan\":{\"a\":0.0}}],\"check_mode\":\"UNSAFE\",\"version\":\"7.0.0\",\"num_blinding_factors\":null}\n"
     ]
    }
   ],
   "source": [
    "# Prover/ data owner side\n",
    "_, prover_model = computation_to_model(computation, error)\n",
    "\n",
    "prover_gen_settings(data_path, selected_columns, sel_data_path, prover_model, prover_model_path, scales, \"resources\", settings_path)"
   ]
  },
  {
   "cell_type": "code",
   "execution_count": 9,
   "metadata": {},
   "outputs": [
    {
     "name": "stderr",
     "output_type": "stream",
     "text": [
      "spawning module 0\n"
     ]
    },
    {
     "name": "stdout",
     "output_type": "stream",
     "text": [
      "==== setting up ezkl ====\n"
     ]
    },
    {
     "name": "stderr",
     "output_type": "stream",
     "text": [
      "spawning module 2\n",
      "spawning module 0\n",
      "spawning module 2\n"
     ]
    },
    {
     "name": "stdout",
     "output_type": "stream",
     "text": [
      "Time setup: 6.506374835968018 seconds\n",
      "=======================================\n",
      "==== Generating Witness ====\n",
      "witness boolean:  1.0\n",
      "witness result 1 : 2.0\n",
      "witness result 2 : 10.0\n",
      "==== Generating Proof ====\n"
     ]
    },
    {
     "name": "stderr",
     "output_type": "stream",
     "text": [
      "spawning module 0\n",
      "spawning module 2\n"
     ]
    },
    {
     "name": "stdout",
     "output_type": "stream",
     "text": [
      "proof:  {'instances': [[[6145674602038562713, 11796601694033167407, 3132644448460071153, 1431119980703310933], [3957842973089931008, 9845595232537184463, 786695466761881781, 2995319695946854765], [12436184717236109307, 3962172157175319849, 7381016538464732718, 1011752739694698287], [6425625360762666998, 7924344314350639699, 14762033076929465436, 2023505479389396574], [3898461358030585804, 15381148731429954174, 10354293334678834451, 3143530863341041542]]], 'proof': '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', 'transcript_type': 'EVM'}\n",
      "Time gen prf: 10.795002937316895 seconds\n"
     ]
    }
   ],
   "source": [
    "# Here verifier & prover can concurrently call setup since all params are public to get pk.\n",
    "# Here write as verifier function to emphasize that verifier must calculate its own vk to be sure\n",
    "setup(verifier_model_path, verifier_compiled_model_path, settings_path,vk_path, pk_path )\n",
    "\n",
    "print(\"=======================================\")\n",
    "# Prover generates proof\n",
    "prover_gen_proof(prover_model_path, sel_data_path, witness_path, prover_compiled_model_path, settings_path, proof_path, pk_path)"
   ]
  },
  {
   "cell_type": "code",
   "execution_count": 10,
   "metadata": {},
   "outputs": [
    {
     "name": "stdout",
     "output_type": "stream",
     "text": [
      "Verifier gets result: 2.0\n"
     ]
    }
   ],
   "source": [
    "# Verifier verifies\n",
    "res = verifier_verify(proof_path, settings_path, vk_path, selected_columns, commitment_maps)\n",
    "print(\"Verifier gets result:\", res)"
   ]
  }
 ],
 "metadata": {
  "kernelspec": {
   "display_name": "Python 3",
   "language": "python",
   "name": "python3"
  },
  "language_info": {
   "codemirror_mode": {
    "name": "ipython",
    "version": 3
   },
   "file_extension": ".py",
   "mimetype": "text/x-python",
   "name": "python",
   "nbconvert_exporter": "python",
   "pygments_lexer": "ipython3",
   "version": "3.12.1"
  },
  "orig_nbformat": 4
 },
 "nbformat": 4,
 "nbformat_minor": 2
}
