{
 "cells": [
  {
   "cell_type": "code",
   "execution_count": 1,
   "metadata": {},
   "outputs": [
    {
     "name": "stdout",
     "output_type": "stream",
     "text": [
      "Requirement already satisfied: ezkl==7.0.0 in /Library/Frameworks/Python.framework/Versions/3.10/lib/python3.10/site-packages (from -r ../../requirements.txt (line 1)) (7.0.0)\n",
      "Requirement already satisfied: torch in /Library/Frameworks/Python.framework/Versions/3.10/lib/python3.10/site-packages (from -r ../../requirements.txt (line 2)) (2.1.1)\n",
      "Requirement already satisfied: requests in /Library/Frameworks/Python.framework/Versions/3.10/lib/python3.10/site-packages (from -r ../../requirements.txt (line 3)) (2.31.0)\n",
      "Requirement already satisfied: scipy in /Library/Frameworks/Python.framework/Versions/3.10/lib/python3.10/site-packages (from -r ../../requirements.txt (line 4)) (1.11.4)\n",
      "Requirement already satisfied: numpy in /Library/Frameworks/Python.framework/Versions/3.10/lib/python3.10/site-packages (from -r ../../requirements.txt (line 5)) (1.26.2)\n",
      "Requirement already satisfied: matplotlib in /Library/Frameworks/Python.framework/Versions/3.10/lib/python3.10/site-packages (from -r ../../requirements.txt (line 6)) (3.8.2)\n",
      "Requirement already satisfied: statistics in /Library/Frameworks/Python.framework/Versions/3.10/lib/python3.10/site-packages (from -r ../../requirements.txt (line 7)) (1.0.3.5)\n",
      "Requirement already satisfied: onnx in /Library/Frameworks/Python.framework/Versions/3.10/lib/python3.10/site-packages (from -r ../../requirements.txt (line 8)) (1.15.0)\n",
      "Requirement already satisfied: sympy in /Library/Frameworks/Python.framework/Versions/3.10/lib/python3.10/site-packages (from torch->-r ../../requirements.txt (line 2)) (1.12)\n",
      "Requirement already satisfied: fsspec in /Library/Frameworks/Python.framework/Versions/3.10/lib/python3.10/site-packages (from torch->-r ../../requirements.txt (line 2)) (2023.10.0)\n",
      "Requirement already satisfied: filelock in /Library/Frameworks/Python.framework/Versions/3.10/lib/python3.10/site-packages (from torch->-r ../../requirements.txt (line 2)) (3.13.1)\n",
      "Requirement already satisfied: networkx in /Library/Frameworks/Python.framework/Versions/3.10/lib/python3.10/site-packages (from torch->-r ../../requirements.txt (line 2)) (3.2.1)\n",
      "Requirement already satisfied: jinja2 in /Library/Frameworks/Python.framework/Versions/3.10/lib/python3.10/site-packages (from torch->-r ../../requirements.txt (line 2)) (3.1.2)\n",
      "Requirement already satisfied: typing-extensions in /Library/Frameworks/Python.framework/Versions/3.10/lib/python3.10/site-packages (from torch->-r ../../requirements.txt (line 2)) (4.8.0)\n",
      "Requirement already satisfied: idna<4,>=2.5 in /Library/Frameworks/Python.framework/Versions/3.10/lib/python3.10/site-packages (from requests->-r ../../requirements.txt (line 3)) (3.6)\n",
      "Requirement already satisfied: charset-normalizer<4,>=2 in /Library/Frameworks/Python.framework/Versions/3.10/lib/python3.10/site-packages (from requests->-r ../../requirements.txt (line 3)) (3.3.2)\n",
      "Requirement already satisfied: urllib3<3,>=1.21.1 in /Library/Frameworks/Python.framework/Versions/3.10/lib/python3.10/site-packages (from requests->-r ../../requirements.txt (line 3)) (2.1.0)\n",
      "Requirement already satisfied: certifi>=2017.4.17 in /Library/Frameworks/Python.framework/Versions/3.10/lib/python3.10/site-packages (from requests->-r ../../requirements.txt (line 3)) (2023.11.17)\n",
      "Requirement already satisfied: fonttools>=4.22.0 in /Library/Frameworks/Python.framework/Versions/3.10/lib/python3.10/site-packages (from matplotlib->-r ../../requirements.txt (line 6)) (4.45.1)\n",
      "Requirement already satisfied: kiwisolver>=1.3.1 in /Library/Frameworks/Python.framework/Versions/3.10/lib/python3.10/site-packages (from matplotlib->-r ../../requirements.txt (line 6)) (1.4.5)\n",
      "Requirement already satisfied: pyparsing>=2.3.1 in /Library/Frameworks/Python.framework/Versions/3.10/lib/python3.10/site-packages (from matplotlib->-r ../../requirements.txt (line 6)) (3.1.1)\n",
      "Requirement already satisfied: contourpy>=1.0.1 in /Library/Frameworks/Python.framework/Versions/3.10/lib/python3.10/site-packages (from matplotlib->-r ../../requirements.txt (line 6)) (1.2.0)\n",
      "Requirement already satisfied: cycler>=0.10 in /Library/Frameworks/Python.framework/Versions/3.10/lib/python3.10/site-packages (from matplotlib->-r ../../requirements.txt (line 6)) (0.12.1)\n",
      "Requirement already satisfied: packaging>=20.0 in /Users/jernkun/Library/Python/3.10/lib/python/site-packages (from matplotlib->-r ../../requirements.txt (line 6)) (23.2)\n",
      "Requirement already satisfied: pillow>=8 in /Library/Frameworks/Python.framework/Versions/3.10/lib/python3.10/site-packages (from matplotlib->-r ../../requirements.txt (line 6)) (10.1.0)\n",
      "Requirement already satisfied: python-dateutil>=2.7 in /Users/jernkun/Library/Python/3.10/lib/python/site-packages (from matplotlib->-r ../../requirements.txt (line 6)) (2.8.2)\n",
      "Requirement already satisfied: docutils>=0.3 in /Library/Frameworks/Python.framework/Versions/3.10/lib/python3.10/site-packages (from statistics->-r ../../requirements.txt (line 7)) (0.20.1)\n",
      "Requirement already satisfied: protobuf>=3.20.2 in /Library/Frameworks/Python.framework/Versions/3.10/lib/python3.10/site-packages (from onnx->-r ../../requirements.txt (line 8)) (4.25.1)\n",
      "Requirement already satisfied: six>=1.5 in /Users/jernkun/Library/Python/3.10/lib/python/site-packages (from python-dateutil>=2.7->matplotlib->-r ../../requirements.txt (line 6)) (1.16.0)\n",
      "Requirement already satisfied: MarkupSafe>=2.0 in /Library/Frameworks/Python.framework/Versions/3.10/lib/python3.10/site-packages (from jinja2->torch->-r ../../requirements.txt (line 2)) (2.1.3)\n",
      "Requirement already satisfied: mpmath>=0.19 in /Library/Frameworks/Python.framework/Versions/3.10/lib/python3.10/site-packages (from sympy->torch->-r ../../requirements.txt (line 2)) (1.3.0)\n",
      "\u001b[33mWARNING: You are using pip version 21.2.3; however, version 23.3.2 is available.\n",
      "You should consider upgrading via the '/usr/local/bin/python3 -m pip install --upgrade pip' command.\u001b[0m\n",
      "Note: you may need to restart the kernel to use updated packages.\n"
     ]
    }
   ],
   "source": [
    "pip install -r ../../requirements.txt"
   ]
  },
  {
   "cell_type": "code",
   "execution_count": 2,
   "metadata": {},
   "outputs": [],
   "source": [
    "import ezkl\n",
    "import torch\n",
    "from torch import nn\n",
    "import json\n",
    "import os\n",
    "import time\n",
    "import scipy\n",
    "import numpy as np\n",
    "import matplotlib.pyplot as plt\n",
    "import statistics\n",
    "import math"
   ]
  },
  {
   "cell_type": "code",
   "execution_count": 3,
   "metadata": {},
   "outputs": [],
   "source": [
    "%run -i ../../zkstats/core.py"
   ]
  },
  {
   "cell_type": "code",
   "execution_count": 4,
   "metadata": {},
   "outputs": [],
   "source": [
    "# init path\n",
    "os.makedirs(os.path.dirname('shared/'), exist_ok=True)\n",
    "os.makedirs(os.path.dirname('prover/'), exist_ok=True)\n",
    "verifier_model_path = os.path.join('shared/verifier.onnx')\n",
    "prover_model_path = os.path.join('prover/prover.onnx')\n",
    "verifier_compiled_model_path = os.path.join('shared/verifier.compiled')\n",
    "prover_compiled_model_path = os.path.join('prover/prover.compiled')\n",
    "pk_path = os.path.join('shared/test.pk')\n",
    "vk_path = os.path.join('shared/test.vk')\n",
    "proof_path = os.path.join('shared/test.pf')\n",
    "settings_path = os.path.join('shared/settings.json')\n",
    "srs_path = os.path.join('shared/kzg.srs')\n",
    "witness_path = os.path.join('prover/witness.json')\n",
    "# this is private to prover since it contains actual data\n",
    "sel_data_path = os.path.join('prover/sel_data.json')\n",
    "# this is just dummy random value\n",
    "sel_dummy_data_path = os.path.join('shared/sel_dummy_data.json')"
   ]
  },
  {
   "attachments": {},
   "cell_type": "markdown",
   "metadata": {},
   "source": [
    "=======================  ZK-STATS FLOW ======================="
   ]
  },
  {
   "cell_type": "code",
   "execution_count": 5,
   "metadata": {},
   "outputs": [
    {
     "name": "stdout",
     "output_type": "stream",
     "text": [
      "reg fit:  [1.98835287 3.14238058 0.06413647]\n",
      "lt 20 reg fit:  [ 2.12311694  3.43333008 -1.03203902]\n"
     ]
    }
   ],
   "source": [
    "data_path = os.path.join('data.json')\n",
    "dummy_data_path = os.path.join('shared/dummy_data.json')\n",
    "\n",
    "data = json.loads(open(data_path, \"r\").read())\n",
    "x1_vals = np.array(data['x1'])\n",
    "x2_vals = np.array(data['x2'])\n",
    "y_vals = np.array(data['y'])\n",
    "\n",
    "createDummy(data_path, dummy_data_path)\n",
    "dummy_data = json.loads(open(dummy_data_path, \"r\").read())\n",
    "dummy_x1_vals = np.array(dummy_data['x1'])\n",
    "dummy_x2_vals = np.array(dummy_data['x2'])\n",
    "dummy_y_vals = np.array(dummy_data['y'])\n",
    "\n",
    "\n",
    "\n",
    "def stacked_x(*args):\n",
    "    result = np.column_stack((*args, np.ones_like(args[0])))\n",
    "    return result\n",
    "\n",
    "lt20_y_vals = y_vals[y_vals<20.0]\n",
    "lt20_dummy_y_vals = dummy_y_vals[dummy_y_vals<20.0]\n",
    "\n",
    "x_one = stacked_x(x1_vals, x2_vals)\n",
    "dummy_x_one = stacked_x(dummy_x1_vals, dummy_x2_vals)\n",
    "lt20_x_one = stacked_x(x1_vals[y_vals<20.0], x2_vals[y_vals<20.0])\n",
    "lt20_dummy_x_one = stacked_x(dummy_x1_vals[dummy_y_vals<20.0], dummy_x2_vals[dummy_y_vals<20.0])\n",
    "\n",
    "w_vals = np.matmul(np.matmul(np.linalg.inv(np.matmul(x_one.transpose(), x_one)), x_one.transpose()), y_vals)\n",
    "dummy_w_vals = np.matmul(np.matmul(np.linalg.inv(np.matmul(dummy_x_one.transpose(), dummy_x_one)), dummy_x_one.transpose()), dummy_y_vals)\n",
    "lt20_w_vals = np.matmul(np.matmul(np.linalg.inv(np.matmul(lt20_x_one.transpose(), lt20_x_one)), lt20_x_one.transpose()), lt20_y_vals)\n",
    "lt20_dummy_w_vals = np.matmul(np.matmul(np.linalg.inv(np.matmul(lt20_dummy_x_one.transpose(), lt20_dummy_x_one)), lt20_dummy_x_one.transpose()), lt20_dummy_y_vals)\n",
    "\n",
    "\n",
    "print(\"reg fit: \", w_vals)\n",
    "print(\"lt 20 reg fit: \", lt20_w_vals)\n",
    "\n",
    "lt20_w_tensor = torch.tensor(lt20_w_vals).reshape(1,-1,1)\n",
    "lt20_dummy_w_tensor = torch.tensor(lt20_dummy_w_vals).reshape(1,-1,1)\n",
    "\n"
   ]
  },
  {
   "cell_type": "code",
   "execution_count": 9,
   "metadata": {},
   "outputs": [
    {
     "name": "stderr",
     "output_type": "stream",
     "text": [
      "/var/folders/89/y9dw12v976ngdmqz4l7wbsnr0000gn/T/ipykernel_13580/713816729.py:13: TracerWarning: torch.tensor results are registered as constants in the trace. You can safely ignore this warning if you use this function to create tensors out of constant variables that would be the same every time you call this function. In any other case, this might cause the trace to be incorrect.\n",
      "  fil_X_one = torch.where(filter, X_one, torch.tensor([0.0]*X_one.size()[2]))\n",
      "/Library/Frameworks/Python.framework/Versions/3.10/lib/python3.10/site-packages/torch/onnx/utils.py:1686: UserWarning: The exported ONNX model failed ONNX shape inference. The model will not be executable by the ONNX Runtime. If this is unintended and you believe there is a bug, please report an issue at https://github.com/pytorch/pytorch/issues. Error reported by strict ONNX shape inference: [ShapeInferenceError] (op_type:Where, node name: /Where): Y has inconsistent type tensor(float) (Triggered internally at /Users/runner/work/pytorch/pytorch/pytorch/torch/csrc/jit/serialization/export.cpp:1421.)\n",
      "  _C._check_onnx_proto(proto)\n"
     ]
    }
   ],
   "source": [
    "# Verifier/ data consumer side:\n",
    "# Want to calculate regression of y over \n",
    "class verifier_model(nn.Module):\n",
    "    def __init__(self):\n",
    "        super(verifier_model, self).__init__()\n",
    "        self.w = nn.Parameter(data = lt20_dummy_w_tensor, requires_grad = False)\n",
    "        \n",
    "    def forward(self, *args):\n",
    "        # infer Y from the last parameter\n",
    "        Y = args[-1]\n",
    "        filter = (Y<20)\n",
    "        X_one = torch.cat((*args[:-1], torch.ones_like(args[0])), dim=2)\n",
    "        fil_X_one = torch.where(filter, X_one, torch.tensor([0.0]*X_one.size()[2]))\n",
    "        fil_X_T = torch.transpose(fil_X_one, 1, 2)\n",
    "        fil_Y = torch.where(filter, Y, 0.0)\n",
    "\n",
    "        return (\n",
    "            torch.sum(torch.abs(fil_X_T @ fil_X_one @ self.w - fil_X_T @ fil_Y)) <= 0.01 * torch.sum(torch.abs(fil_X_T @ fil_Y)),\n",
    "            self.w\n",
    "        )\n",
    "\n",
    "verifier_define_calculation(dummy_data_path, ['x1','x2','y'],sel_dummy_data_path,verifier_model, verifier_model_path)"
   ]
  },
  {
   "cell_type": "code",
   "execution_count": 10,
   "metadata": {},
   "outputs": [
    {
     "name": "stdout",
     "output_type": "stream",
     "text": [
      "Theory output:  tensor([[[ 2.1231],\n",
      "         [ 3.4333],\n",
      "         [-1.0320]]], dtype=torch.float64)\n",
      "==== Generate & Calibrate Setting ====\n",
      "scale:  [0]\n",
      "setting:  {\"run_args\":{\"tolerance\":{\"val\":0.0,\"scale\":1.0},\"input_scale\":0,\"param_scale\":0,\"scale_rebase_multiplier\":10,\"lookup_range\":[-5526,4698],\"logrows\":14,\"num_inner_cols\":2,\"variables\":[[\"batch_size\",1]],\"input_visibility\":{\"Hashed\":{\"hash_is_public\":true,\"outlets\":[]}},\"output_visibility\":\"Public\",\"param_visibility\":\"Private\"},\"num_rows\":11808,\"total_assignments\":1694,\"total_const_size\":115,\"model_instance_shapes\":[[1],[1,3,1]],\"model_output_scales\":[0,0],\"model_input_scales\":[0,0,0],\"module_sizes\":{\"kzg\":[],\"poseidon\":[11808,[3]],\"elgamal\":[0,[0]]},\"required_lookups\":[\"Abs\",{\"Div\":{\"denom\":100.0}},{\"GreaterThan\":{\"a\":0.0}}],\"check_mode\":\"UNSAFE\",\"version\":\"7.0.0\",\"num_blinding_factors\":null}\n"
     ]
    },
    {
     "name": "stderr",
     "output_type": "stream",
     "text": [
      "/var/folders/89/y9dw12v976ngdmqz4l7wbsnr0000gn/T/ipykernel_13580/2840331579.py:15: TracerWarning: torch.tensor results are registered as constants in the trace. You can safely ignore this warning if you use this function to create tensors out of constant variables that would be the same every time you call this function. In any other case, this might cause the trace to be incorrect.\n",
      "  fil_X_one = torch.where(filter, X_one, torch.tensor([0.0]*X_one.size()[2]))\n"
     ]
    }
   ],
   "source": [
    "# prover calculates settings, send to verifier\n",
    "\n",
    "theory_output = lt20_w_tensor\n",
    "print(\"Theory output: \", theory_output)\n",
    "class prover_model(nn.Module):\n",
    "    def __init__(self):\n",
    "        super(prover_model, self).__init__()\n",
    "        self.w = nn.Parameter(data = lt20_w_tensor, requires_grad = False)\n",
    "\n",
    "    def forward(self, *args):\n",
    "        # infer Y from the last parameter\n",
    "        Y = args[-1]\n",
    "        filter = (Y<20)\n",
    "        X_one = torch.cat((*args[:-1], torch.ones_like(args[0])), dim=2)\n",
    "        fil_X_one = torch.where(filter, X_one, torch.tensor([0.0]*X_one.size()[2]))\n",
    "        fil_X_T = torch.transpose(fil_X_one, 1, 2)\n",
    "        fil_Y = torch.where(filter, Y, 0.0)\n",
    "\n",
    "        return (\n",
    "            torch.sum(torch.abs(fil_X_T @ fil_X_one @ self.w - fil_X_T @ fil_Y)) <= 0.01 * torch.sum(torch.abs(fil_X_T @ fil_Y)),\n",
    "            self.w\n",
    "        )\n",
    "    \n",
    "prover_gen_settings(data_path,['x1','x2','y'], sel_data_path, prover_model,prover_model_path, [0], \"resources\", settings_path)"
   ]
  },
  {
   "cell_type": "code",
   "execution_count": 11,
   "metadata": {},
   "outputs": [
    {
     "name": "stderr",
     "output_type": "stream",
     "text": [
      "spawning module 0\n"
     ]
    },
    {
     "name": "stderr",
     "output_type": "stream",
     "text": [
      "spawning module 2\n"
     ]
    },
    {
     "name": "stdout",
     "output_type": "stream",
     "text": [
      "==== setting up ezkl ====\n"
     ]
    },
    {
     "name": "stderr",
     "output_type": "stream",
     "text": [
      "spawning module 0\n",
      "spawning module 2\n",
      "spawning module 0\n"
     ]
    },
    {
     "name": "stdout",
     "output_type": "stream",
     "text": [
      "Time setup: 1.9537100791931152 seconds\n",
      "=======================================\n",
      "Theory output:  tensor([[[ 2.1231],\n",
      "         [ 3.4333],\n",
      "         [-1.0320]]], dtype=torch.float64)\n",
      "!@# compiled_model exists? True\n",
      "!@# compiled_model exists? True\n",
      "==== Generating Witness ====\n",
      "witness boolean:  1.0\n",
      "witness result 1 : 2.0\n",
      "witness result 2 : 3.0\n",
      "witness result 3 : -1.0\n",
      "==== Generating Proof ====\n"
     ]
    },
    {
     "name": "stderr",
     "output_type": "stream",
     "text": [
      "spawning module 2\n"
     ]
    },
    {
     "name": "stdout",
     "output_type": "stream",
     "text": [
      "proof:  {'instances': [[[6145674602038562713, 11796601694033167407, 3132644448460071153, 1431119980703310933], [17187590983289934876, 11857991285122296962, 971807162298867662, 379283799527326290], [3957842973089931008, 9845595232537184463, 786695466761881781, 2995319695946854765], [12436184717236109307, 3962172157175319849, 7381016538464732718, 1011752739694698287], [6425625360762666998, 7924344314350639699, 14762033076929465436, 2023505479389396574], [415066004289224689, 11886516471525959549, 3696305541684646538, 3035258219084094862], [10902020042510041094, 17381486299841078119, 5900175412809962030, 2475245527108272378]]], 'proof': '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', 'transcript_type': 'EVM'}\n",
      "Time gen prf: 2.889368772506714 seconds\n"
     ]
    }
   ],
   "source": [
    "# Here verifier & prover can concurrently call setup since all params are public to get pk. \n",
    "# Here write as verifier function to emphasize that verifier must calculate its own vk to be sure\n",
    "verifier_setup(verifier_model_path, verifier_compiled_model_path, settings_path,vk_path, pk_path )\n",
    "\n",
    "print(\"=======================================\")\n",
    "# Prover generates proof\n",
    "print(\"Theory output: \", theory_output)\n",
    "prover_gen_proof(prover_model_path, sel_data_path, witness_path, prover_compiled_model_path, settings_path, proof_path, pk_path)"
   ]
  },
  {
   "cell_type": "code",
   "execution_count": 12,
   "metadata": {},
   "outputs": [
    {
     "name": "stdout",
     "output_type": "stream",
     "text": [
      "num_inputs:  3\n",
      "prf instances:  [[[6145674602038562713, 11796601694033167407, 3132644448460071153, 1431119980703310933], [17187590983289934876, 11857991285122296962, 971807162298867662, 379283799527326290], [3957842973089931008, 9845595232537184463, 786695466761881781, 2995319695946854765], [12436184717236109307, 3962172157175319849, 7381016538464732718, 1011752739694698287], [6425625360762666998, 7924344314350639699, 14762033076929465436, 2023505479389396574], [415066004289224689, 11886516471525959549, 3696305541684646538, 3035258219084094862], [10902020042510041094, 17381486299841078119, 5900175412809962030, 2475245527108272378]]]\n",
      "proof boolean:  1.0\n",
      "proof result 1 : 2.0\n",
      "proof result 2 : 3.0\n",
      "proof result 3 : -1.0\n",
      "verified\n"
     ]
    }
   ],
   "source": [
    "verifier_verify(proof_path, settings_path, vk_path)"
   ]
  },
  {
   "cell_type": "code",
   "execution_count": null,
   "metadata": {},
   "outputs": [],
   "source": []
  }
 ],
 "metadata": {
  "kernelspec": {
   "display_name": "Python 3",
   "language": "python",
   "name": "python3"
  },
  "language_info": {
   "codemirror_mode": {
    "name": "ipython",
    "version": 3
   },
   "file_extension": ".py",
   "mimetype": "text/x-python",
   "name": "python",
   "nbconvert_exporter": "python",
   "pygments_lexer": "ipython3",
   "version": "3.10.0"
  },
  "orig_nbformat": 4
 },
 "nbformat": 4,
 "nbformat_minor": 2
}
