{
 "cells": [
  {
   "cell_type": "code",
   "execution_count": 100,
   "metadata": {},
   "outputs": [
    {
     "name": "stdout",
     "output_type": "stream",
     "text": [
      "Requirement already satisfied: ezkl==7.0.0 in /Library/Frameworks/Python.framework/Versions/3.10/lib/python3.10/site-packages (from -r ../../requirements.txt (line 1)) (7.0.0)\n",
      "Requirement already satisfied: torch in /Library/Frameworks/Python.framework/Versions/3.10/lib/python3.10/site-packages (from -r ../../requirements.txt (line 2)) (2.1.1)\n",
      "Requirement already satisfied: requests in /Library/Frameworks/Python.framework/Versions/3.10/lib/python3.10/site-packages (from -r ../../requirements.txt (line 3)) (2.31.0)\n",
      "Requirement already satisfied: scipy in /Library/Frameworks/Python.framework/Versions/3.10/lib/python3.10/site-packages (from -r ../../requirements.txt (line 4)) (1.11.4)\n",
      "Requirement already satisfied: numpy in /Library/Frameworks/Python.framework/Versions/3.10/lib/python3.10/site-packages (from -r ../../requirements.txt (line 5)) (1.26.2)\n",
      "Requirement already satisfied: matplotlib in /Library/Frameworks/Python.framework/Versions/3.10/lib/python3.10/site-packages (from -r ../../requirements.txt (line 6)) (3.8.2)\n",
      "Requirement already satisfied: statistics in /Library/Frameworks/Python.framework/Versions/3.10/lib/python3.10/site-packages (from -r ../../requirements.txt (line 7)) (1.0.3.5)\n",
      "Requirement already satisfied: onnx in /Library/Frameworks/Python.framework/Versions/3.10/lib/python3.10/site-packages (from -r ../../requirements.txt (line 8)) (1.15.0)\n",
      "Requirement already satisfied: sympy in /Library/Frameworks/Python.framework/Versions/3.10/lib/python3.10/site-packages (from torch->-r ../../requirements.txt (line 2)) (1.12)\n",
      "Requirement already satisfied: typing-extensions in /Library/Frameworks/Python.framework/Versions/3.10/lib/python3.10/site-packages (from torch->-r ../../requirements.txt (line 2)) (4.8.0)\n",
      "Requirement already satisfied: filelock in /Library/Frameworks/Python.framework/Versions/3.10/lib/python3.10/site-packages (from torch->-r ../../requirements.txt (line 2)) (3.13.1)\n",
      "Requirement already satisfied: jinja2 in /Library/Frameworks/Python.framework/Versions/3.10/lib/python3.10/site-packages (from torch->-r ../../requirements.txt (line 2)) (3.1.2)\n",
      "Requirement already satisfied: fsspec in /Library/Frameworks/Python.framework/Versions/3.10/lib/python3.10/site-packages (from torch->-r ../../requirements.txt (line 2)) (2023.10.0)\n",
      "Requirement already satisfied: networkx in /Library/Frameworks/Python.framework/Versions/3.10/lib/python3.10/site-packages (from torch->-r ../../requirements.txt (line 2)) (3.2.1)\n",
      "Requirement already satisfied: urllib3<3,>=1.21.1 in /Library/Frameworks/Python.framework/Versions/3.10/lib/python3.10/site-packages (from requests->-r ../../requirements.txt (line 3)) (2.1.0)\n",
      "Requirement already satisfied: certifi>=2017.4.17 in /Library/Frameworks/Python.framework/Versions/3.10/lib/python3.10/site-packages (from requests->-r ../../requirements.txt (line 3)) (2023.11.17)\n",
      "Requirement already satisfied: idna<4,>=2.5 in /Library/Frameworks/Python.framework/Versions/3.10/lib/python3.10/site-packages (from requests->-r ../../requirements.txt (line 3)) (3.6)\n",
      "Requirement already satisfied: charset-normalizer<4,>=2 in /Library/Frameworks/Python.framework/Versions/3.10/lib/python3.10/site-packages (from requests->-r ../../requirements.txt (line 3)) (3.3.2)\n",
      "Requirement already satisfied: contourpy>=1.0.1 in /Library/Frameworks/Python.framework/Versions/3.10/lib/python3.10/site-packages (from matplotlib->-r ../../requirements.txt (line 6)) (1.2.0)\n",
      "Requirement already satisfied: pillow>=8 in /Library/Frameworks/Python.framework/Versions/3.10/lib/python3.10/site-packages (from matplotlib->-r ../../requirements.txt (line 6)) (10.1.0)\n",
      "Requirement already satisfied: packaging>=20.0 in /Users/jernkun/Library/Python/3.10/lib/python/site-packages (from matplotlib->-r ../../requirements.txt (line 6)) (23.2)\n",
      "Requirement already satisfied: fonttools>=4.22.0 in /Library/Frameworks/Python.framework/Versions/3.10/lib/python3.10/site-packages (from matplotlib->-r ../../requirements.txt (line 6)) (4.45.1)\n",
      "Requirement already satisfied: kiwisolver>=1.3.1 in /Library/Frameworks/Python.framework/Versions/3.10/lib/python3.10/site-packages (from matplotlib->-r ../../requirements.txt (line 6)) (1.4.5)\n",
      "Requirement already satisfied: python-dateutil>=2.7 in /Users/jernkun/Library/Python/3.10/lib/python/site-packages (from matplotlib->-r ../../requirements.txt (line 6)) (2.8.2)\n",
      "Requirement already satisfied: pyparsing>=2.3.1 in /Library/Frameworks/Python.framework/Versions/3.10/lib/python3.10/site-packages (from matplotlib->-r ../../requirements.txt (line 6)) (3.1.1)\n",
      "Requirement already satisfied: cycler>=0.10 in /Library/Frameworks/Python.framework/Versions/3.10/lib/python3.10/site-packages (from matplotlib->-r ../../requirements.txt (line 6)) (0.12.1)\n",
      "Requirement already satisfied: docutils>=0.3 in /Library/Frameworks/Python.framework/Versions/3.10/lib/python3.10/site-packages (from statistics->-r ../../requirements.txt (line 7)) (0.20.1)\n",
      "Requirement already satisfied: protobuf>=3.20.2 in /Library/Frameworks/Python.framework/Versions/3.10/lib/python3.10/site-packages (from onnx->-r ../../requirements.txt (line 8)) (4.25.1)\n",
      "Requirement already satisfied: six>=1.5 in /Users/jernkun/Library/Python/3.10/lib/python/site-packages (from python-dateutil>=2.7->matplotlib->-r ../../requirements.txt (line 6)) (1.16.0)\n",
      "Requirement already satisfied: MarkupSafe>=2.0 in /Library/Frameworks/Python.framework/Versions/3.10/lib/python3.10/site-packages (from jinja2->torch->-r ../../requirements.txt (line 2)) (2.1.3)\n",
      "Requirement already satisfied: mpmath>=0.19 in /Library/Frameworks/Python.framework/Versions/3.10/lib/python3.10/site-packages (from sympy->torch->-r ../../requirements.txt (line 2)) (1.3.0)\n",
      "\u001b[33mWARNING: You are using pip version 21.2.3; however, version 23.3.2 is available.\n",
      "You should consider upgrading via the '/usr/local/bin/python3 -m pip install --upgrade pip' command.\u001b[0m\n",
      "Note: you may need to restart the kernel to use updated packages.\n"
     ]
    }
   ],
   "source": [
    "pip install -r ../../requirements.txt"
   ]
  },
  {
   "cell_type": "code",
   "execution_count": 101,
   "metadata": {},
   "outputs": [],
   "source": [
    "import ezkl\n",
    "import torch\n",
    "from torch import nn\n",
    "import json\n",
    "import os\n",
    "import time\n",
    "import scipy\n",
    "import numpy as np\n",
    "import matplotlib.pyplot as plt\n",
    "import statistics\n",
    "import math"
   ]
  },
  {
   "cell_type": "code",
   "execution_count": 102,
   "metadata": {},
   "outputs": [],
   "source": [
    "%run -i ../../zkstats/core.py"
   ]
  },
  {
   "cell_type": "code",
   "execution_count": 103,
   "metadata": {},
   "outputs": [],
   "source": [
    "# init path\n",
    "os.makedirs(os.path.dirname('shared/'), exist_ok=True)\n",
    "os.makedirs(os.path.dirname('prover/'), exist_ok=True)\n",
    "verifier_model_path = os.path.join('shared/verifier.onnx')\n",
    "prover_model_path = os.path.join('prover/prover.onnx')\n",
    "verifier_compiled_model_path = os.path.join('shared/verifier.compiled')\n",
    "prover_compiled_model_path = os.path.join('prover/prover.compiled')\n",
    "pk_path = os.path.join('shared/test.pk')\n",
    "vk_path = os.path.join('shared/test.vk')\n",
    "proof_path = os.path.join('shared/test.pf')\n",
    "settings_path = os.path.join('shared/settings.json')\n",
    "srs_path = os.path.join('shared/kzg.srs')\n",
    "witness_path = os.path.join('prover/witness.json')\n",
    "# this is private to prover since it contains actual data\n",
    "comb_data_path = os.path.join('prover/comb_data.json')"
   ]
  },
  {
   "attachments": {},
   "cell_type": "markdown",
   "metadata": {},
   "source": [
    "=======================  ZK-STATS FLOW ======================="
   ]
  },
  {
   "cell_type": "code",
   "execution_count": 104,
   "metadata": {},
   "outputs": [],
   "source": [
    "x1_vals_path = os.path.join('x1_vals.json')\n",
    "x2_vals_path = os.path.join('x2_vals.json')\n",
    "dummy_x1_vals_path = os.path.join('shared/dummy_x1_vals.json')\n",
    "dummy_x2_vals_path = os.path.join('shared/dummy_x2_vals.json')\n",
    "\n",
    "x1_vals= np.array(json.loads(open(x1_vals_path, \"r\").read())['input_data'][0])\n",
    "#  dummy data for data consumer: arbitraryyy, just to make sure after filtered, it's not empty\n",
    "dummy_x1_vals = np.random.uniform(1, 10, len(x1_vals))\n",
    "json.dump({\"input_data\":[dummy_x1_vals.tolist()]}, open(dummy_x1_vals_path, 'w'))\n",
    "\n",
    "x2_vals= np.array(json.loads(open(x2_vals_path, \"r\").read())['input_data'][0])\n",
    "#  dummy data for data consumer: arbitraryyy, just to make sure after filtered, it's not empty\n",
    "dummy_x2_vals = np.random.uniform(1, 10, len(x2_vals))\n",
    "json.dump({\"input_data\":[dummy_x2_vals.tolist()]}, open(dummy_x2_vals_path, 'w'))\n",
    "\n",
    "\n",
    "y_vals_path = os.path.join('y_vals.json')\n",
    "dummy_y_vals_path = os.path.join('shared/dummy_y_vals.json')\n",
    "\n",
    "y_vals= np.array(json.loads(open(y_vals_path, \"r\").read())['input_data'][0])\n",
    "#  dummy data for data consumer: arbitraryyy, just to make sure after filtered, it's not empty\n",
    "dummy_y_vals = np.random.uniform(1, 40, len(y_vals))\n",
    "json.dump({\"input_data\":[dummy_y_vals.tolist()]}, open(dummy_y_vals_path, 'w'))\n",
    "\n",
    "\n",
    "def stacked_x(*args):\n",
    "    result = np.column_stack((*args, np.ones_like(args[0])))\n",
    "    return result"
   ]
  },
  {
   "cell_type": "code",
   "execution_count": 105,
   "metadata": {},
   "outputs": [
    {
     "name": "stdout",
     "output_type": "stream",
     "text": [
      "filtered y<20:  29\n",
      "reg fit:  [1.98835287 3.14238058 0.06413647]\n",
      "lt 20 reg fit:  [ 2.12311694  3.43333008 -1.03203902]\n"
     ]
    }
   ],
   "source": [
    "\n",
    "# where y value > 20.0\n",
    "lt20_y_vals = y_vals[y_vals<20.0]\n",
    "print(\"filtered y<20: \", len(lt20_y_vals))\n",
    "lt20_y_vals_tensor = torch.tensor(lt20_y_vals).reshape(1,-1,1)\n",
    "new_size = torch.tensor(lt20_y_vals_tensor.size()[1])\n",
    "\n",
    "lt20_dummy_y_vals = dummy_y_vals[dummy_y_vals<20.0]\n",
    "lt20_dummy_y_vals_tensor = torch.tensor(lt20_dummy_y_vals).reshape(1,-1,1)\n",
    "new_dummy_size = torch.tensor(lt20_dummy_y_vals_tensor.size()[1])\n",
    "\n",
    "x_one = stacked_x(x1_vals, x2_vals)\n",
    "lt20_x_one = stacked_x(x1_vals[y_vals<20.0], x2_vals[y_vals<20.0])\n",
    "lt20_x_one_tensor = torch.tensor(lt20_x_one).reshape(1, len(lt20_x_one), -1)\n",
    "\n",
    "\n",
    "dummy_x_one = stacked_x(dummy_x1_vals, dummy_x2_vals)\n",
    "lt20_dummy_x_one = stacked_x(dummy_x1_vals[dummy_y_vals<20.0], dummy_x2_vals[dummy_y_vals<20.0])\n",
    "lt20_dummy_x_one_tensor = torch.tensor(lt20_dummy_x_one).reshape(1, len(lt20_dummy_x_one), -1)\n",
    "\n",
    "w_vals = np.matmul(np.matmul(np.linalg.inv(np.matmul(x_one.transpose(), x_one)), x_one.transpose()), y_vals)\n",
    "lt20_w_vals = np.matmul(np.matmul(np.linalg.inv(np.matmul(lt20_x_one.transpose(), lt20_x_one)), lt20_x_one.transpose()), lt20_y_vals)\n",
    "dummy_w_vals = np.matmul(np.matmul(np.linalg.inv(np.matmul(dummy_x_one.transpose(), dummy_x_one)), dummy_x_one.transpose()), dummy_y_vals)\n",
    "lt20_dummy_w_vals = np.matmul(np.matmul(np.linalg.inv(np.matmul(lt20_dummy_x_one.transpose(), lt20_dummy_x_one)), lt20_dummy_x_one.transpose()), lt20_dummy_y_vals)\n",
    "\n",
    "\n",
    "print(\"reg fit: \", w_vals)\n",
    "print(\"lt 20 reg fit: \", lt20_w_vals)\n",
    "\n",
    "w_tensor = torch.tensor(w_vals).reshape(1,-1,1)\n",
    "# print(\"w tensor: \", w_tensor)\n",
    "lt20_w_tensor = torch.tensor(lt20_w_vals).reshape(1,-1,1)\n",
    "# print(\"w lt20 tensor: \", lt20_w_tensor)\n",
    "# lt20_x1_vals_tensor = x1_vals[y_vals<20.0].reshape(1,-1,1)\n",
    "# lt20_x2_vals_tensor = x2_vals[y_vals<20.0].reshape(1,-1,1)\n",
    "\n",
    "dummy_w_tensor = torch.tensor(dummy_w_vals).reshape(1,-1,1)\n",
    "lt20_dummy_w_tensor = torch.tensor(lt20_dummy_w_vals).reshape(1,-1,1)\n",
    "# lt20_dummy_x1_vals_tensor = dummy_x1_vals[y_vals<20.0].reshape(1,-1,1)\n",
    "# lt20_dummy_x2_vals_tensor = dummy_x2_vals[y_vals<20.0].reshape(1,-1,1)"
   ]
  },
  {
   "cell_type": "code",
   "execution_count": 111,
   "metadata": {},
   "outputs": [
    {
     "name": "stderr",
     "output_type": "stream",
     "text": [
      "/var/folders/89/y9dw12v976ngdmqz4l7wbsnr0000gn/T/ipykernel_93022/3059247446.py:12: TracerWarning: torch.tensor results are registered as constants in the trace. You can safely ignore this warning if you use this function to create tensors out of constant variables that would be the same every time you call this function. In any other case, this might cause the trace to be incorrect.\n",
      "  fil_X_one = torch.where(Y<20, X_one, torch.tensor([0.0]*X_one.size()[2]))\n"
     ]
    }
   ],
   "source": [
    "# Verifier/ data consumer side:\n",
    "# Want to calculate regression of y over \n",
    "class verifier_model(nn.Module):\n",
    "    def __init__(self):\n",
    "        super(verifier_model, self).__init__()\n",
    "        self.w = nn.Parameter(data = lt20_dummy_w_tensor, requires_grad = False)\n",
    "        \n",
    "    def forward(self, *args):\n",
    "        # infer Y from the last parameter\n",
    "        Y = args[-1]\n",
    "        X_one = torch.cat((*args[:-1], torch.ones_like(args[0][:, :, -1:])), dim=2)\n",
    "        fil_X_one = torch.where(Y<20, X_one, torch.tensor([0.0]*X_one.size()[2]))\n",
    "        X_T = torch.transpose(X_one,1,2)\n",
    "        fil_X_T = torch.transpose(fil_X_one, 1, 2)\n",
    "        fil_Y = torch.where(Y<20, Y, 0.0)\n",
    "\n",
    "        return (\n",
    "            torch.sum(torch.abs(fil_X_T @ fil_X_one @ self.w - fil_X_T @ fil_Y)) <= 0.01 * torch.sum(torch.abs(fil_X_T @ fil_Y)),\n",
    "            self.w\n",
    "        )\n",
    "\n",
    "verifier_define_calculation(verifier_model, verifier_model_path, [dummy_x1_vals_path, dummy_x2_vals_path, dummy_y_vals_path])"
   ]
  },
  {
   "cell_type": "code",
   "execution_count": 112,
   "metadata": {},
   "outputs": [
    {
     "name": "stdout",
     "output_type": "stream",
     "text": [
      "Theory output:  tensor([[[ 2.1231],\n",
      "         [ 3.4333],\n",
      "         [-1.0320]]], dtype=torch.float64)\n",
      "==== Generate & Calibrate Setting ====\n",
      "scale:  [0]\n",
      "setting:  {\"run_args\":{\"tolerance\":{\"val\":0.0,\"scale\":1.0},\"input_scale\":0,\"param_scale\":0,\"scale_rebase_multiplier\":10,\"lookup_range\":[-5526,4698],\"logrows\":14,\"num_inner_cols\":2,\"variables\":[[\"batch_size\",1]],\"input_visibility\":{\"Hashed\":{\"hash_is_public\":true,\"outlets\":[]}},\"output_visibility\":\"Public\",\"param_visibility\":\"Private\"},\"num_rows\":11808,\"total_assignments\":1694,\"total_const_size\":115,\"model_instance_shapes\":[[1],[1,3,1]],\"model_output_scales\":[0,0],\"model_input_scales\":[0,0,0],\"module_sizes\":{\"kzg\":[],\"poseidon\":[11808,[3]],\"elgamal\":[0,[0]]},\"required_lookups\":[\"Abs\",{\"Div\":{\"denom\":100.0}},{\"GreaterThan\":{\"a\":0.0}}],\"check_mode\":\"UNSAFE\",\"version\":\"7.0.0\",\"num_blinding_factors\":null}\n"
     ]
    },
    {
     "name": "stderr",
     "output_type": "stream",
     "text": [
      "/var/folders/89/y9dw12v976ngdmqz4l7wbsnr0000gn/T/ipykernel_93022/3476157547.py:14: TracerWarning: torch.tensor results are registered as constants in the trace. You can safely ignore this warning if you use this function to create tensors out of constant variables that would be the same every time you call this function. In any other case, this might cause the trace to be incorrect.\n",
      "  fil_X_one = torch.where(Y<20, X_one, torch.tensor([0.0]*X_one.size()[2]))\n"
     ]
    }
   ],
   "source": [
    "# prover calculates settings, send to verifier\n",
    "\n",
    "theory_output = lt20_w_tensor\n",
    "print(\"Theory output: \", theory_output)\n",
    "class prover_model(nn.Module):\n",
    "    def __init__(self):\n",
    "        super(prover_model, self).__init__()\n",
    "        self.w = nn.Parameter(data = lt20_w_tensor, requires_grad = False)\n",
    "\n",
    "    def forward(self, *args):\n",
    "        # infer Y from the last parameter\n",
    "        Y = args[-1]\n",
    "        X_one = torch.cat((*args[:-1], torch.ones_like(args[0][:, :, -1:])), dim=2)\n",
    "        fil_X_one = torch.where(Y<20, X_one, torch.tensor([0.0]*X_one.size()[2]))\n",
    "        X_T = torch.transpose(X_one,1,2)\n",
    "        fil_X_T = torch.transpose(fil_X_one, 1, 2)\n",
    "        fil_Y = torch.where(Y<20, Y, 0.0)\n",
    "\n",
    "        return (\n",
    "            torch.sum(torch.abs(fil_X_T @ fil_X_one @ self.w - fil_X_T @ fil_Y)) <= 0.01 * torch.sum(torch.abs(fil_X_T @ fil_Y)),\n",
    "            self.w\n",
    "        )\n",
    "    \n",
    "\n",
    "\n",
    "prover_gen_settings([x1_vals_path, x2_vals_path, y_vals_path], comb_data_path, prover_model,prover_model_path, [0], \"resources\", settings_path)"
   ]
  },
  {
   "cell_type": "code",
   "execution_count": 113,
   "metadata": {},
   "outputs": [
    {
     "name": "stderr",
     "output_type": "stream",
     "text": [
      "spawning module 0\n",
      "spawning module 2\n"
     ]
    },
    {
     "name": "stdout",
     "output_type": "stream",
     "text": [
      "==== setting up ezkl ====\n"
     ]
    },
    {
     "name": "stderr",
     "output_type": "stream",
     "text": [
      "spawning module 0\n",
      "spawning module 2\n",
      "spawning module 0\n"
     ]
    },
    {
     "name": "stdout",
     "output_type": "stream",
     "text": [
      "Time setup: 2.1411027908325195 seconds\n",
      "=======================================\n",
      "Theory output:  tensor([[[ 2.1231],\n",
      "         [ 3.4333],\n",
      "         [-1.0320]]], dtype=torch.float64)\n",
      "!@# compiled_model exists? True\n",
      "!@# compiled_model exists? True\n",
      "==== Generating Witness ====\n",
      "witness boolean:  1.0\n",
      "witness result 1 : 2.0\n",
      "witness result 2 : 3.0\n",
      "witness result 3 : -1.0\n",
      "==== Generating Proof ====\n"
     ]
    },
    {
     "name": "stderr",
     "output_type": "stream",
     "text": [
      "spawning module 2\n"
     ]
    },
    {
     "name": "stdout",
     "output_type": "stream",
     "text": [
      "proof:  {'instances': [[[6145674602038562713, 11796601694033167407, 3132644448460071153, 1431119980703310933], [17187590983289934876, 11857991285122296962, 971807162298867662, 379283799527326290], [3957842973089931008, 9845595232537184463, 786695466761881781, 2995319695946854765], [12436184717236109307, 3962172157175319849, 7381016538464732718, 1011752739694698287], [6425625360762666998, 7924344314350639699, 14762033076929465436, 2023505479389396574], [415066004289224689, 11886516471525959549, 3696305541684646538, 3035258219084094862], [10902020042510041094, 17381486299841078119, 5900175412809962030, 2475245527108272378]]], 'proof': '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', 'transcript_type': 'EVM'}\n",
      "Time gen prf: 3.0100929737091064 seconds\n"
     ]
    }
   ],
   "source": [
    "# Here verifier & prover can concurrently call setup since all params are public to get pk. \n",
    "# Here write as verifier function to emphasize that verifier must calculate its own vk to be sure\n",
    "verifier_setup(verifier_model_path, verifier_compiled_model_path, settings_path,vk_path, pk_path )\n",
    "\n",
    "print(\"=======================================\")\n",
    "# Prover generates proof\n",
    "print(\"Theory output: \", theory_output)\n",
    "prover_gen_proof(prover_model_path, comb_data_path, witness_path, prover_compiled_model_path, settings_path, proof_path, pk_path)"
   ]
  },
  {
   "cell_type": "code",
   "execution_count": 114,
   "metadata": {},
   "outputs": [
    {
     "name": "stdout",
     "output_type": "stream",
     "text": [
      "num_inputs:  3\n",
      "prf instances:  [[[6145674602038562713, 11796601694033167407, 3132644448460071153, 1431119980703310933], [17187590983289934876, 11857991285122296962, 971807162298867662, 379283799527326290], [3957842973089931008, 9845595232537184463, 786695466761881781, 2995319695946854765], [12436184717236109307, 3962172157175319849, 7381016538464732718, 1011752739694698287], [6425625360762666998, 7924344314350639699, 14762033076929465436, 2023505479389396574], [415066004289224689, 11886516471525959549, 3696305541684646538, 3035258219084094862], [10902020042510041094, 17381486299841078119, 5900175412809962030, 2475245527108272378]]]\n",
      "proof boolean:  1.0\n",
      "proof result 1 : 2.0\n",
      "proof result 2 : 3.0\n",
      "proof result 3 : -1.0\n",
      "verified\n"
     ]
    }
   ],
   "source": [
    "verifier_verify(proof_path, settings_path, vk_path)"
   ]
  },
  {
   "cell_type": "code",
   "execution_count": null,
   "metadata": {},
   "outputs": [],
   "source": []
  }
 ],
 "metadata": {
  "kernelspec": {
   "display_name": "Python 3",
   "language": "python",
   "name": "python3"
  },
  "language_info": {
   "codemirror_mode": {
    "name": "ipython",
    "version": 3
   },
   "file_extension": ".py",
   "mimetype": "text/x-python",
   "name": "python",
   "nbconvert_exporter": "python",
   "pygments_lexer": "ipython3",
   "version": "3.10.0"
  },
  "orig_nbformat": 4
 },
 "nbformat": 4,
 "nbformat_minor": 2
}
