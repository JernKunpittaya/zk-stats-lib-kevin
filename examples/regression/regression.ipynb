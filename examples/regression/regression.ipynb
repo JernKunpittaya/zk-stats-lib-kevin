{
 "cells": [
  {
   "cell_type": "code",
   "execution_count": 9,
   "metadata": {},
   "outputs": [
    {
     "name": "stdout",
     "output_type": "stream",
     "text": [
      "Requirement already satisfied: ezkl==5.0.8 in /Library/Frameworks/Python.framework/Versions/3.10/lib/python3.10/site-packages (from -r ../../requirements.txt (line 1)) (5.0.8)\n",
      "Requirement already satisfied: torch in /Library/Frameworks/Python.framework/Versions/3.10/lib/python3.10/site-packages (from -r ../../requirements.txt (line 2)) (2.1.1)\n",
      "Requirement already satisfied: requests in /Library/Frameworks/Python.framework/Versions/3.10/lib/python3.10/site-packages (from -r ../../requirements.txt (line 3)) (2.31.0)\n",
      "Requirement already satisfied: scipy in /Library/Frameworks/Python.framework/Versions/3.10/lib/python3.10/site-packages (from -r ../../requirements.txt (line 4)) (1.11.4)\n",
      "Requirement already satisfied: numpy in /Library/Frameworks/Python.framework/Versions/3.10/lib/python3.10/site-packages (from -r ../../requirements.txt (line 5)) (1.26.2)\n",
      "Requirement already satisfied: matplotlib in /Library/Frameworks/Python.framework/Versions/3.10/lib/python3.10/site-packages (from -r ../../requirements.txt (line 6)) (3.8.2)\n",
      "Requirement already satisfied: statistics in /Library/Frameworks/Python.framework/Versions/3.10/lib/python3.10/site-packages (from -r ../../requirements.txt (line 7)) (1.0.3.5)\n",
      "Requirement already satisfied: onnx in /Library/Frameworks/Python.framework/Versions/3.10/lib/python3.10/site-packages (from -r ../../requirements.txt (line 8)) (1.15.0)\n",
      "Requirement already satisfied: typing-extensions in /Library/Frameworks/Python.framework/Versions/3.10/lib/python3.10/site-packages (from torch->-r ../../requirements.txt (line 2)) (4.8.0)\n",
      "Requirement already satisfied: networkx in /Library/Frameworks/Python.framework/Versions/3.10/lib/python3.10/site-packages (from torch->-r ../../requirements.txt (line 2)) (3.2.1)\n",
      "Requirement already satisfied: jinja2 in /Library/Frameworks/Python.framework/Versions/3.10/lib/python3.10/site-packages (from torch->-r ../../requirements.txt (line 2)) (3.1.2)\n",
      "Requirement already satisfied: sympy in /Library/Frameworks/Python.framework/Versions/3.10/lib/python3.10/site-packages (from torch->-r ../../requirements.txt (line 2)) (1.12)\n",
      "Requirement already satisfied: filelock in /Library/Frameworks/Python.framework/Versions/3.10/lib/python3.10/site-packages (from torch->-r ../../requirements.txt (line 2)) (3.13.1)\n",
      "Requirement already satisfied: fsspec in /Library/Frameworks/Python.framework/Versions/3.10/lib/python3.10/site-packages (from torch->-r ../../requirements.txt (line 2)) (2023.10.0)\n",
      "Requirement already satisfied: urllib3<3,>=1.21.1 in /Library/Frameworks/Python.framework/Versions/3.10/lib/python3.10/site-packages (from requests->-r ../../requirements.txt (line 3)) (2.1.0)\n",
      "Requirement already satisfied: idna<4,>=2.5 in /Library/Frameworks/Python.framework/Versions/3.10/lib/python3.10/site-packages (from requests->-r ../../requirements.txt (line 3)) (3.6)\n",
      "Requirement already satisfied: certifi>=2017.4.17 in /Library/Frameworks/Python.framework/Versions/3.10/lib/python3.10/site-packages (from requests->-r ../../requirements.txt (line 3)) (2023.11.17)\n",
      "Requirement already satisfied: charset-normalizer<4,>=2 in /Library/Frameworks/Python.framework/Versions/3.10/lib/python3.10/site-packages (from requests->-r ../../requirements.txt (line 3)) (3.3.2)\n",
      "Requirement already satisfied: cycler>=0.10 in /Library/Frameworks/Python.framework/Versions/3.10/lib/python3.10/site-packages (from matplotlib->-r ../../requirements.txt (line 6)) (0.12.1)\n",
      "Requirement already satisfied: fonttools>=4.22.0 in /Library/Frameworks/Python.framework/Versions/3.10/lib/python3.10/site-packages (from matplotlib->-r ../../requirements.txt (line 6)) (4.45.1)\n",
      "Requirement already satisfied: pillow>=8 in /Library/Frameworks/Python.framework/Versions/3.10/lib/python3.10/site-packages (from matplotlib->-r ../../requirements.txt (line 6)) (10.1.0)\n",
      "Requirement already satisfied: contourpy>=1.0.1 in /Library/Frameworks/Python.framework/Versions/3.10/lib/python3.10/site-packages (from matplotlib->-r ../../requirements.txt (line 6)) (1.2.0)\n",
      "Requirement already satisfied: kiwisolver>=1.3.1 in /Library/Frameworks/Python.framework/Versions/3.10/lib/python3.10/site-packages (from matplotlib->-r ../../requirements.txt (line 6)) (1.4.5)\n",
      "Requirement already satisfied: python-dateutil>=2.7 in /Users/jernkun/Library/Python/3.10/lib/python/site-packages (from matplotlib->-r ../../requirements.txt (line 6)) (2.8.2)\n",
      "Requirement already satisfied: packaging>=20.0 in /Users/jernkun/Library/Python/3.10/lib/python/site-packages (from matplotlib->-r ../../requirements.txt (line 6)) (23.2)\n",
      "Requirement already satisfied: pyparsing>=2.3.1 in /Library/Frameworks/Python.framework/Versions/3.10/lib/python3.10/site-packages (from matplotlib->-r ../../requirements.txt (line 6)) (3.1.1)\n",
      "Requirement already satisfied: docutils>=0.3 in /Library/Frameworks/Python.framework/Versions/3.10/lib/python3.10/site-packages (from statistics->-r ../../requirements.txt (line 7)) (0.20.1)\n",
      "Requirement already satisfied: protobuf>=3.20.2 in /Library/Frameworks/Python.framework/Versions/3.10/lib/python3.10/site-packages (from onnx->-r ../../requirements.txt (line 8)) (4.25.1)\n",
      "Requirement already satisfied: six>=1.5 in /Users/jernkun/Library/Python/3.10/lib/python/site-packages (from python-dateutil>=2.7->matplotlib->-r ../../requirements.txt (line 6)) (1.16.0)\n",
      "Requirement already satisfied: MarkupSafe>=2.0 in /Library/Frameworks/Python.framework/Versions/3.10/lib/python3.10/site-packages (from jinja2->torch->-r ../../requirements.txt (line 2)) (2.1.3)\n",
      "Requirement already satisfied: mpmath>=0.19 in /Library/Frameworks/Python.framework/Versions/3.10/lib/python3.10/site-packages (from sympy->torch->-r ../../requirements.txt (line 2)) (1.3.0)\n",
      "\u001b[33mWARNING: You are using pip version 21.2.3; however, version 23.3.1 is available.\n",
      "You should consider upgrading via the '/usr/local/bin/python3 -m pip install --upgrade pip' command.\u001b[0m\n",
      "Note: you may need to restart the kernel to use updated packages.\n"
     ]
    }
   ],
   "source": [
    "pip install -r ../../requirements.txt"
   ]
  },
  {
   "cell_type": "code",
   "execution_count": 36,
   "metadata": {},
   "outputs": [],
   "source": [
    "import ezkl\n",
    "import torch\n",
    "from torch import nn\n",
    "import json\n",
    "import os\n",
    "import time\n",
    "import scipy\n",
    "import numpy as np\n",
    "import matplotlib.pyplot as plt\n",
    "import statistics\n",
    "import math"
   ]
  },
  {
   "cell_type": "code",
   "execution_count": 37,
   "metadata": {},
   "outputs": [],
   "source": [
    "%run -i ../../core.py"
   ]
  },
  {
   "cell_type": "code",
   "execution_count": 38,
   "metadata": {},
   "outputs": [],
   "source": [
    "# init path\n",
    "os.makedirs(os.path.dirname('shared/'), exist_ok=True)\n",
    "os.makedirs(os.path.dirname('prover/'), exist_ok=True)\n",
    "verifier_model_path = os.path.join('shared/verifier.onnx')\n",
    "prover_model_path = os.path.join('prover/prover.onnx')\n",
    "verifier_compiled_model_path = os.path.join('shared/verifier.compiled')\n",
    "prover_compiled_model_path = os.path.join('prover/prover.compiled')\n",
    "pk_path = os.path.join('shared/test.pk')\n",
    "vk_path = os.path.join('shared/test.vk')\n",
    "proof_path = os.path.join('shared/test.pf')\n",
    "settings_path = os.path.join('shared/settings.json')\n",
    "srs_path = os.path.join('shared/kzg.srs')\n",
    "witness_path = os.path.join('prover/witness.json')\n",
    "# this is private to prover since it contains actual data\n",
    "comb_data_path = os.path.join('prover/comb_data.json')"
   ]
  },
  {
   "attachments": {},
   "cell_type": "markdown",
   "metadata": {},
   "source": [
    "=======================  ZK-STATS FLOW ======================="
   ]
  },
  {
   "cell_type": "code",
   "execution_count": 39,
   "metadata": {},
   "outputs": [
    {
     "name": "stdout",
     "output_type": "stream",
     "text": [
      "reg fit:  [1.98835287 3.14238058 0.06413647]\n"
     ]
    }
   ],
   "source": [
    "x1_vals_path = os.path.join('x1_vals.json')\n",
    "x2_vals_path = os.path.join('x2_vals.json')\n",
    "dummy_x1_vals_path = os.path.join('shared/dummy_x1_vals.json')\n",
    "dummy_x2_vals_path = os.path.join('shared/dummy_x2_vals.json')\n",
    "\n",
    "x1_vals= np.array(json.loads(open(x1_vals_path, \"r\").read())['input_data'][0])\n",
    "dummy_x1_vals = np.random.uniform(min(x1_vals), max(x1_vals), len(x1_vals))\n",
    "json.dump({\"input_data\":[dummy_x1_vals.tolist()]}, open(dummy_x1_vals_path, 'w'))\n",
    "\n",
    "x2_vals= np.array(json.loads(open(x2_vals_path, \"r\").read())['input_data'][0])\n",
    "dummy_x2_vals = np.random.uniform(min(x2_vals), max(x2_vals), len(x2_vals))\n",
    "json.dump({\"input_data\":[dummy_x2_vals.tolist()]}, open(dummy_x2_vals_path, 'w'))\n",
    "\n",
    "\n",
    "y_vals_path = os.path.join('y_vals.json')\n",
    "dummy_y_vals_path = os.path.join('shared/dummy_y_vals.json')\n",
    "\n",
    "y_vals= np.array(json.loads(open(y_vals_path, \"r\").read())['input_data'][0])\n",
    "dummy_y_vals = np.random.uniform(min(y_vals), max(y_vals), len(y_vals))\n",
    "json.dump({\"input_data\":[dummy_y_vals.tolist()]}, open(dummy_y_vals_path, 'w'))\n",
    "\n",
    "\n",
    "def stacked_x(*args):\n",
    "    result = np.column_stack((*args, np.ones_like(args[0])))\n",
    "    return result\n",
    "\n",
    "x_one = stacked_x(x1_vals, x2_vals)\n",
    "dummy_x_one = stacked_x(dummy_x1_vals, dummy_x2_vals)\n",
    "\n",
    "w_vals = np.matmul(np.matmul(np.linalg.inv(np.matmul(x_one.transpose(), x_one)), x_one.transpose()), y_vals)\n",
    "dummy_w_vals = np.matmul(np.matmul(np.linalg.inv(np.matmul(dummy_x_one.transpose(), dummy_x_one)), dummy_x_one.transpose()), dummy_y_vals)\n",
    "\n",
    "print(\"reg fit: \", w_vals)\n",
    "w_tensor = torch.reshape(torch.tensor(w_vals), (1,3,1))\n",
    "dummy_w_tensor = torch.reshape(torch.tensor(dummy_w_vals), (1,3,1))\n"
   ]
  },
  {
   "cell_type": "code",
   "execution_count": 40,
   "metadata": {},
   "outputs": [],
   "source": [
    "# Verifier/ data consumer side:\n",
    "class verifier_model(nn.Module):\n",
    "    def __init__(self):\n",
    "        super(verifier_model, self).__init__()\n",
    "        self.w = nn.Parameter(data = dummy_w_tensor, requires_grad = False)\n",
    "\n",
    "    def forward(self, *args):\n",
    "        # infer Y from the last parameter\n",
    "        Y = args[-1]\n",
    "        X_one = torch.cat((*args[:-1], torch.ones_like(args[0][:, :, -1:])), dim=2)\n",
    "        X_T = torch.transpose(X_one, 1, 2)\n",
    "        # some expression of tolerance to error in the inference\n",
    "        return (\n",
    "            torch.sum(torch.abs(X_T @ X_one @ self.w.to('cpu') - X_T @ Y)) < 0.01 * torch.sum(X_T @ Y),\n",
    "            self.w.to('cpu')\n",
    "        )\n",
    "    \n",
    "\n",
    "verifier_define_calculation(verifier_model, verifier_model_path, [dummy_x1_vals_path, dummy_x2_vals_path, dummy_y_vals_path])"
   ]
  },
  {
   "cell_type": "code",
   "execution_count": 41,
   "metadata": {},
   "outputs": [
    {
     "name": "stdout",
     "output_type": "stream",
     "text": [
      "Theory output:  tensor([[[1.9884],\n",
      "         [3.1424],\n",
      "         [0.0641]]], dtype=torch.float64)\n",
      "==== Generate & Calibrate Setting ====\n",
      "scale:  [0]\n",
      "setting:  {\"run_args\":{\"tolerance\":{\"val\":0.0,\"scale\":1.0},\"input_scale\":0,\"param_scale\":0,\"scale_rebase_multiplier\":10,\"lookup_range\":[-166,23296],\"logrows\":15,\"num_inner_cols\":1,\"variables\":[[\"batch_size\",1]],\"input_visibility\":{\"Hashed\":{\"hash_is_public\":true,\"outlets\":[]}},\"output_visibility\":\"Public\",\"param_visibility\":\"Private\"},\"num_rows\":11808,\"total_assignments\":781,\"total_const_size\":1,\"model_instance_shapes\":[[1],[1,3,1]],\"model_output_scales\":[0,0],\"model_input_scales\":[0,0,0],\"module_sizes\":{\"kzg\":[],\"poseidon\":[11808,[3]],\"elgamal\":[0,[0]]},\"required_lookups\":[\"Abs\",{\"Div\":{\"denom\":100.0}},{\"GreaterThan\":{\"a\":0.0}}],\"check_mode\":\"UNSAFE\",\"version\":\"5.0.8\",\"num_blinding_factors\":null}\n"
     ]
    }
   ],
   "source": [
    "# prover calculates settings, send to verifier\n",
    "\n",
    "theory_output = w_tensor\n",
    "print(\"Theory output: \", theory_output)\n",
    "class prover_model(nn.Module):\n",
    "    def __init__(self):\n",
    "        super(prover_model, self).__init__()\n",
    "        self.w = nn.Parameter(data = w_tensor, requires_grad = False)\n",
    "\n",
    "    def forward(self, *args):\n",
    "        # infer Y from the last parameter\n",
    "        Y = args[-1]\n",
    "        X_one = torch.cat((*args[:-1], torch.ones_like(args[0][:, :, -1:])), dim=2)\n",
    "        X_T = torch.transpose(X_one, 1, 2)\n",
    "        # some expression of tolerance to error in the inference\n",
    "        return (\n",
    "            torch.sum(torch.abs(X_T @ X_one @ self.w.to('cpu') - X_T @ Y)) < 0.01 * torch.sum(X_T @ Y),\n",
    "            self.w.to('cpu')\n",
    "        )\n",
    "\n",
    "prover_gen_settings([x1_vals_path, x2_vals_path, y_vals_path], comb_data_path, prover_model,prover_model_path, [0], \"resources\", settings_path)"
   ]
  },
  {
   "cell_type": "code",
   "execution_count": 42,
   "metadata": {},
   "outputs": [
    {
     "name": "stderr",
     "output_type": "stream",
     "text": [
      "spawning module 0\n",
      "spawning module 2\n"
     ]
    },
    {
     "name": "stdout",
     "output_type": "stream",
     "text": [
      "==== setting up ezkl ====\n"
     ]
    },
    {
     "name": "stderr",
     "output_type": "stream",
     "text": [
      "spawning module 0\n",
      "spawning module 2\n"
     ]
    },
    {
     "name": "stdout",
     "output_type": "stream",
     "text": [
      "Time setup: 2.879405975341797 seconds\n",
      "=======================================\n",
      "Theory output:  tensor([[[1.9884],\n",
      "         [3.1424],\n",
      "         [0.0641]]], dtype=torch.float64)\n",
      "==== Generating Witness ====\n",
      "witness boolean:  1.0\n",
      "witness result 1 : 2.0\n",
      "witness result 2 : 3.0\n",
      "witness result 3 : 0.0\n",
      "==== Generating Proof ====\n"
     ]
    },
    {
     "name": "stderr",
     "output_type": "stream",
     "text": [
      "spawning module 0\n",
      "spawning module 2\n"
     ]
    },
    {
     "name": "stdout",
     "output_type": "stream",
     "text": [
      "proof:  {'instances': [[[6145674602038562713, 11796601694033167407, 3132644448460071153, 1431119980703310933], [17187590983289934876, 11857991285122296962, 971807162298867662, 379283799527326290], [3957842973089931008, 9845595232537184463, 786695466761881781, 2995319695946854765], [12436184717236109307, 3962172157175319849, 7381016538464732718, 1011752739694698287], [6425625360762666998, 7924344314350639699, 14762033076929465436, 2023505479389396574], [415066004289224689, 11886516471525959549, 3696305541684646538, 3035258219084094862], [0, 0, 0, 0]]], 'proof': '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', 'transcript_type': 'EVM'}\n",
      "Time gen prf: 3.6094772815704346 seconds\n"
     ]
    }
   ],
   "source": [
    "# Here verifier & prover can concurrently call setup since all params are public to get pk. \n",
    "# Here write as verifier function to emphasize that verifier must calculate its own vk to be sure\n",
    "verifier_setup(verifier_model_path, verifier_compiled_model_path, settings_path, srs_path,vk_path, pk_path )\n",
    "\n",
    "print(\"=======================================\")\n",
    "# Prover generates proof\n",
    "print(\"Theory output: \", theory_output)\n",
    "prover_gen_proof(prover_model_path, comb_data_path, witness_path, prover_compiled_model_path, settings_path, proof_path, pk_path, srs_path)"
   ]
  },
  {
   "cell_type": "code",
   "execution_count": 43,
   "metadata": {},
   "outputs": [
    {
     "name": "stdout",
     "output_type": "stream",
     "text": [
      "num_inputs:  3\n",
      "prf instances:  [[[6145674602038562713, 11796601694033167407, 3132644448460071153, 1431119980703310933], [17187590983289934876, 11857991285122296962, 971807162298867662, 379283799527326290], [3957842973089931008, 9845595232537184463, 786695466761881781, 2995319695946854765], [12436184717236109307, 3962172157175319849, 7381016538464732718, 1011752739694698287], [6425625360762666998, 7924344314350639699, 14762033076929465436, 2023505479389396574], [415066004289224689, 11886516471525959549, 3696305541684646538, 3035258219084094862], [0, 0, 0, 0]]]\n",
      "proof boolean:  1.0\n",
      "proof result 1 : 2.0\n",
      "proof result 2 : 3.0\n",
      "proof result 3 : 0.0\n",
      "verified\n"
     ]
    }
   ],
   "source": [
    "verifier_verify(proof_path, settings_path, vk_path, srs_path)"
   ]
  },
  {
   "cell_type": "code",
   "execution_count": null,
   "metadata": {},
   "outputs": [],
   "source": []
  }
 ],
 "metadata": {
  "kernelspec": {
   "display_name": "Python 3",
   "language": "python",
   "name": "python3"
  },
  "language_info": {
   "codemirror_mode": {
    "name": "ipython",
    "version": 3
   },
   "file_extension": ".py",
   "mimetype": "text/x-python",
   "name": "python",
   "nbconvert_exporter": "python",
   "pygments_lexer": "ipython3",
   "version": "3.10.0"
  },
  "orig_nbformat": 4
 },
 "nbformat": 4,
 "nbformat_minor": 2
}
