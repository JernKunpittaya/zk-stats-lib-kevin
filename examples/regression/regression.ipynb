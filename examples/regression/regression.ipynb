{
 "cells": [
  {
   "cell_type": "code",
   "execution_count": 1,
   "metadata": {},
   "outputs": [
    {
     "name": "stdout",
     "output_type": "stream",
     "text": [
      "Requirement already satisfied: ezkl==9.1.0 in /Users/jernkun/Library/Caches/pypoetry/virtualenvs/zkstats-OJpceffF-py3.11/lib/python3.11/site-packages (from -r ../../requirements.txt (line 1)) (9.1.0)\n",
      "Requirement already satisfied: torch in /Users/jernkun/Library/Caches/pypoetry/virtualenvs/zkstats-OJpceffF-py3.11/lib/python3.11/site-packages (from -r ../../requirements.txt (line 2)) (2.2.1)\n",
      "Requirement already satisfied: requests in /Users/jernkun/Library/Caches/pypoetry/virtualenvs/zkstats-OJpceffF-py3.11/lib/python3.11/site-packages (from -r ../../requirements.txt (line 3)) (2.31.0)\n",
      "Requirement already satisfied: scipy in /Users/jernkun/Library/Caches/pypoetry/virtualenvs/zkstats-OJpceffF-py3.11/lib/python3.11/site-packages (from -r ../../requirements.txt (line 4)) (1.12.0)\n",
      "Requirement already satisfied: numpy in /Users/jernkun/Library/Caches/pypoetry/virtualenvs/zkstats-OJpceffF-py3.11/lib/python3.11/site-packages (from -r ../../requirements.txt (line 5)) (1.26.4)\n",
      "Requirement already satisfied: matplotlib in /Users/jernkun/Library/Caches/pypoetry/virtualenvs/zkstats-OJpceffF-py3.11/lib/python3.11/site-packages (from -r ../../requirements.txt (line 6)) (3.8.3)\n",
      "Requirement already satisfied: statistics in /Users/jernkun/Library/Caches/pypoetry/virtualenvs/zkstats-OJpceffF-py3.11/lib/python3.11/site-packages (from -r ../../requirements.txt (line 7)) (1.0.3.5)\n",
      "Requirement already satisfied: onnx in /Users/jernkun/Library/Caches/pypoetry/virtualenvs/zkstats-OJpceffF-py3.11/lib/python3.11/site-packages (from -r ../../requirements.txt (line 8)) (1.15.0)\n",
      "Requirement already satisfied: filelock in /Users/jernkun/Library/Caches/pypoetry/virtualenvs/zkstats-OJpceffF-py3.11/lib/python3.11/site-packages (from torch->-r ../../requirements.txt (line 2)) (3.13.1)\n",
      "Requirement already satisfied: typing-extensions>=4.8.0 in /Users/jernkun/Library/Caches/pypoetry/virtualenvs/zkstats-OJpceffF-py3.11/lib/python3.11/site-packages (from torch->-r ../../requirements.txt (line 2)) (4.10.0)\n",
      "Requirement already satisfied: sympy in /Users/jernkun/Library/Caches/pypoetry/virtualenvs/zkstats-OJpceffF-py3.11/lib/python3.11/site-packages (from torch->-r ../../requirements.txt (line 2)) (1.12)\n",
      "Requirement already satisfied: networkx in /Users/jernkun/Library/Caches/pypoetry/virtualenvs/zkstats-OJpceffF-py3.11/lib/python3.11/site-packages (from torch->-r ../../requirements.txt (line 2)) (3.2.1)\n",
      "Requirement already satisfied: jinja2 in /Users/jernkun/Library/Caches/pypoetry/virtualenvs/zkstats-OJpceffF-py3.11/lib/python3.11/site-packages (from torch->-r ../../requirements.txt (line 2)) (3.1.3)\n",
      "Requirement already satisfied: fsspec in /Users/jernkun/Library/Caches/pypoetry/virtualenvs/zkstats-OJpceffF-py3.11/lib/python3.11/site-packages (from torch->-r ../../requirements.txt (line 2)) (2024.2.0)\n",
      "Requirement already satisfied: charset-normalizer<4,>=2 in /Users/jernkun/Library/Caches/pypoetry/virtualenvs/zkstats-OJpceffF-py3.11/lib/python3.11/site-packages (from requests->-r ../../requirements.txt (line 3)) (3.3.2)\n",
      "Requirement already satisfied: idna<4,>=2.5 in /Users/jernkun/Library/Caches/pypoetry/virtualenvs/zkstats-OJpceffF-py3.11/lib/python3.11/site-packages (from requests->-r ../../requirements.txt (line 3)) (3.6)\n",
      "Requirement already satisfied: urllib3<3,>=1.21.1 in /Users/jernkun/Library/Caches/pypoetry/virtualenvs/zkstats-OJpceffF-py3.11/lib/python3.11/site-packages (from requests->-r ../../requirements.txt (line 3)) (2.2.1)\n",
      "Requirement already satisfied: certifi>=2017.4.17 in /Users/jernkun/Library/Caches/pypoetry/virtualenvs/zkstats-OJpceffF-py3.11/lib/python3.11/site-packages (from requests->-r ../../requirements.txt (line 3)) (2024.2.2)\n",
      "Requirement already satisfied: contourpy>=1.0.1 in /Users/jernkun/Library/Caches/pypoetry/virtualenvs/zkstats-OJpceffF-py3.11/lib/python3.11/site-packages (from matplotlib->-r ../../requirements.txt (line 6)) (1.2.0)\n",
      "Requirement already satisfied: cycler>=0.10 in /Users/jernkun/Library/Caches/pypoetry/virtualenvs/zkstats-OJpceffF-py3.11/lib/python3.11/site-packages (from matplotlib->-r ../../requirements.txt (line 6)) (0.12.1)\n",
      "Requirement already satisfied: fonttools>=4.22.0 in /Users/jernkun/Library/Caches/pypoetry/virtualenvs/zkstats-OJpceffF-py3.11/lib/python3.11/site-packages (from matplotlib->-r ../../requirements.txt (line 6)) (4.49.0)\n",
      "Requirement already satisfied: kiwisolver>=1.3.1 in /Users/jernkun/Library/Caches/pypoetry/virtualenvs/zkstats-OJpceffF-py3.11/lib/python3.11/site-packages (from matplotlib->-r ../../requirements.txt (line 6)) (1.4.5)\n",
      "Requirement already satisfied: packaging>=20.0 in /Users/jernkun/Library/Caches/pypoetry/virtualenvs/zkstats-OJpceffF-py3.11/lib/python3.11/site-packages (from matplotlib->-r ../../requirements.txt (line 6)) (23.2)\n",
      "Requirement already satisfied: pillow>=8 in /Users/jernkun/Library/Caches/pypoetry/virtualenvs/zkstats-OJpceffF-py3.11/lib/python3.11/site-packages (from matplotlib->-r ../../requirements.txt (line 6)) (10.2.0)\n",
      "Requirement already satisfied: pyparsing>=2.3.1 in /Users/jernkun/Library/Caches/pypoetry/virtualenvs/zkstats-OJpceffF-py3.11/lib/python3.11/site-packages (from matplotlib->-r ../../requirements.txt (line 6)) (3.1.1)\n",
      "Requirement already satisfied: python-dateutil>=2.7 in /Users/jernkun/Library/Caches/pypoetry/virtualenvs/zkstats-OJpceffF-py3.11/lib/python3.11/site-packages (from matplotlib->-r ../../requirements.txt (line 6)) (2.9.0.post0)\n",
      "Requirement already satisfied: docutils>=0.3 in /Users/jernkun/Library/Caches/pypoetry/virtualenvs/zkstats-OJpceffF-py3.11/lib/python3.11/site-packages (from statistics->-r ../../requirements.txt (line 7)) (0.20.1)\n",
      "Requirement already satisfied: protobuf>=3.20.2 in /Users/jernkun/Library/Caches/pypoetry/virtualenvs/zkstats-OJpceffF-py3.11/lib/python3.11/site-packages (from onnx->-r ../../requirements.txt (line 8)) (4.25.3)\n",
      "Requirement already satisfied: six>=1.5 in /Users/jernkun/Library/Caches/pypoetry/virtualenvs/zkstats-OJpceffF-py3.11/lib/python3.11/site-packages (from python-dateutil>=2.7->matplotlib->-r ../../requirements.txt (line 6)) (1.16.0)\n",
      "Requirement already satisfied: MarkupSafe>=2.0 in /Users/jernkun/Library/Caches/pypoetry/virtualenvs/zkstats-OJpceffF-py3.11/lib/python3.11/site-packages (from jinja2->torch->-r ../../requirements.txt (line 2)) (2.1.5)\n",
      "Requirement already satisfied: mpmath>=0.19 in /Users/jernkun/Library/Caches/pypoetry/virtualenvs/zkstats-OJpceffF-py3.11/lib/python3.11/site-packages (from sympy->torch->-r ../../requirements.txt (line 2)) (1.3.0)\n",
      "\n",
      "\u001b[1m[\u001b[0m\u001b[34;49mnotice\u001b[0m\u001b[1;39;49m]\u001b[0m\u001b[39;49m A new release of pip is available: \u001b[0m\u001b[31;49m23.2.1\u001b[0m\u001b[39;49m -> \u001b[0m\u001b[32;49m24.0\u001b[0m\n",
      "\u001b[1m[\u001b[0m\u001b[34;49mnotice\u001b[0m\u001b[1;39;49m]\u001b[0m\u001b[39;49m To update, run: \u001b[0m\u001b[32;49mpip install --upgrade pip\u001b[0m\n",
      "Note: you may need to restart the kernel to use updated packages.\n"
     ]
    }
   ],
   "source": [
    "pip install -r ../../requirements.txt"
   ]
  },
  {
   "cell_type": "code",
   "execution_count": 2,
   "metadata": {},
   "outputs": [],
   "source": [
    "import ezkl\n",
    "import torch\n",
    "from torch import nn\n",
    "import json\n",
    "import os\n",
    "import time\n",
    "import scipy\n",
    "import numpy as np\n",
    "import matplotlib.pyplot as plt\n",
    "import statistics\n",
    "import math"
   ]
  },
  {
   "cell_type": "code",
   "execution_count": 3,
   "metadata": {},
   "outputs": [],
   "source": [
    "from zkstats.core import create_dummy, verifier_define_calculation, prover_gen_settings, setup, prover_gen_proof, verifier_verify, get_data_commitment_maps"
   ]
  },
  {
   "cell_type": "code",
   "execution_count": 4,
   "metadata": {},
   "outputs": [],
   "source": [
    "# init path\n",
    "os.makedirs(os.path.dirname('shared/'), exist_ok=True)\n",
    "os.makedirs(os.path.dirname('prover/'), exist_ok=True)\n",
    "verifier_model_path = os.path.join('shared/verifier.onnx')\n",
    "prover_model_path = os.path.join('prover/prover.onnx')\n",
    "verifier_compiled_model_path = os.path.join('shared/verifier.compiled')\n",
    "prover_compiled_model_path = os.path.join('prover/prover.compiled')\n",
    "pk_path = os.path.join('shared/test.pk')\n",
    "vk_path = os.path.join('shared/test.vk')\n",
    "proof_path = os.path.join('shared/test.pf')\n",
    "settings_path = os.path.join('shared/settings.json')\n",
    "srs_path = os.path.join('shared/kzg.srs')\n",
    "witness_path = os.path.join('prover/witness.json')\n",
    "# this is private to prover since it contains actual data\n",
    "sel_data_path = os.path.join('prover/sel_data.json')\n",
    "# this is just dummy random value\n",
    "sel_dummy_data_path = os.path.join('shared/sel_dummy_data.json')"
   ]
  },
  {
   "attachments": {},
   "cell_type": "markdown",
   "metadata": {},
   "source": [
    "=======================  ZK-STATS FLOW ======================="
   ]
  },
  {
   "cell_type": "code",
   "execution_count": 5,
   "metadata": {},
   "outputs": [],
   "source": [
    "data_path = os.path.join('data.json')\n",
    "dummy_data_path = os.path.join('shared/dummy_data.json')\n",
    "create_dummy(data_path, dummy_data_path)\n"
   ]
  },
  {
   "cell_type": "code",
   "execution_count": 6,
   "metadata": {},
   "outputs": [],
   "source": [
    "scales = [4]\n",
    "# to conform to traditional regression, here only one column of x\n",
    "selected_columns = ['x1', 'y']\n",
    "commitment_maps = get_data_commitment_maps(data_path, scales)"
   ]
  },
  {
   "cell_type": "code",
   "execution_count": 7,
   "metadata": {},
   "outputs": [
    {
     "name": "stdout",
     "output_type": "stream",
     "text": [
      "result:  tensor([[[-0.0368],\n",
      "         [14.5325]]])\n"
     ]
    },
    {
     "name": "stderr",
     "output_type": "stream",
     "text": [
      "/Users/jernkun/Desktop/zk-stats-lib/zkstats/computation.py:172: TracerWarning: torch.tensor results are registered as constants in the trace. You can safely ignore this warning if you use this function to create tensors out of constant variables that would be the same every time you call this function. In any other case, this might cause the trace to be incorrect.\n",
      "  is_precise_aggregated = torch.tensor(1.0)\n",
      "/Users/jernkun/Desktop/zk-stats-lib/zkstats/ops.py:399: TracerWarning: torch.tensor results are registered as constants in the trace. You can safely ignore this warning if you use this function to create tensors out of constant variables that would be the same every time you call this function. In any other case, this might cause the trace to be incorrect.\n",
      "  y = torch.where(y==MagicNumber, torch.tensor(0.0), y)\n",
      "/Users/jernkun/Desktop/zk-stats-lib/zkstats/ops.py:401: TracerWarning: torch.tensor results are registered as constants in the trace. You can safely ignore this warning if you use this function to create tensors out of constant variables that would be the same every time you call this function. In any other case, this might cause the trace to be incorrect.\n",
      "  x_one = torch.where((x_one[:,:,0] ==MagicNumber).unsqueeze(-1), torch.tensor([0.0]*x_one.size()[2]), x_one)\n",
      "/Users/jernkun/Library/Caches/pypoetry/virtualenvs/zkstats-OJpceffF-py3.11/lib/python3.11/site-packages/torch/onnx/symbolic_opset9.py:2174: FutureWarning: 'torch.onnx.symbolic_opset9._cast_Bool' is deprecated in version 2.0 and will be removed in the future. Please Avoid using this function and create a Cast node instead.\n",
      "  return fn(g, to_cast_func(g, input, False), to_cast_func(g, other, False))\n"
     ]
    }
   ],
   "source": [
    "# Verifier/ data consumer side: send desired calculation\n",
    "from zkstats.computation import computation_to_model, State\n",
    "\n",
    "\n",
    "def computation(s: State, data: list[torch.Tensor]) -> torch.Tensor:\n",
    "    x, y = data[0], data[1]\n",
    "    return s.linear_regression(x, y)\n",
    "\n",
    "error = 0.05\n",
    "_, verifier_model = computation_to_model(computation, error)\n",
    "\n",
    "verifier_define_calculation(dummy_data_path, selected_columns, sel_dummy_data_path, verifier_model, verifier_model_path)"
   ]
  },
  {
   "cell_type": "code",
   "execution_count": 8,
   "metadata": {},
   "outputs": [
    {
     "name": "stderr",
     "output_type": "stream",
     "text": [
      "Using 2 columns for non-linearity table.\n",
      "Using 2 columns for non-linearity table.\n",
      "Using 2 columns for non-linearity table.\n",
      "Using 2 columns for non-linearity table.\n",
      "Using 2 columns for non-linearity table.\n",
      "Using 2 columns for non-linearity table.\n"
     ]
    },
    {
     "name": "stdout",
     "output_type": "stream",
     "text": [
      "result:  tensor([[[1.5701],\n",
      "         [9.5437]]])\n",
      "==== Generate & Calibrate Setting ====\n"
     ]
    },
    {
     "name": "stderr",
     "output_type": "stream",
     "text": [
      "\n",
      "\n",
      " <------------- Numerical Fidelity Report (input_scale: 4, param_scale: 4, scale_input_multiplier: 1) ------------->\n",
      "\n",
      "+---------------+--------------+--------------+--------------+----------------+------------------+---------------+---------------+--------------------+--------------------+------------------------+\n",
      "| mean_error    | median_error | max_error    | min_error    | mean_abs_error | median_abs_error | max_abs_error | min_abs_error | mean_squared_error | mean_percent_error | mean_abs_percent_error |\n",
      "+---------------+--------------+--------------+--------------+----------------+------------------+---------------+---------------+--------------------+--------------------+------------------------+\n",
      "| -0.0037356615 | 0.0076099634 | 0.0076099634 | -0.018816948 | 0.00880897     | 0.0076099634     | 0.018816948   | 0             | 0.00013732968      | 0.0009583685       | 0.002272812            |\n",
      "+---------------+--------------+--------------+--------------+----------------+------------------+---------------+---------------+--------------------+--------------------+------------------------+\n",
      "\n",
      "\n"
     ]
    },
    {
     "name": "stdout",
     "output_type": "stream",
     "text": [
      "scale:  [4]\n",
      "setting:  {\"run_args\":{\"tolerance\":{\"val\":0.0,\"scale\":1.0},\"input_scale\":4,\"param_scale\":4,\"scale_rebase_multiplier\":1,\"lookup_range\":[-13092,184230],\"logrows\":18,\"num_inner_cols\":2,\"variables\":[[\"batch_size\",1]],\"input_visibility\":{\"Hashed\":{\"hash_is_public\":true,\"outlets\":[]}},\"output_visibility\":\"Public\",\"param_visibility\":\"Private\",\"div_rebasing\":false,\"rebase_frac_zero_constants\":false,\"check_mode\":\"UNSAFE\"},\"num_rows\":7872,\"total_assignments\":1518,\"total_const_size\":219,\"model_instance_shapes\":[[1],[1,2,1]],\"model_output_scales\":[0,4],\"model_input_scales\":[4,4],\"module_sizes\":{\"kzg\":[],\"poseidon\":[7872,[2]]},\"required_lookups\":[{\"GreaterThan\":{\"a\":0.0}},\"Abs\"],\"required_range_checks\":[[-8,8]],\"check_mode\":\"UNSAFE\",\"version\":\"9.1.0\",\"num_blinding_factors\":null,\"timestamp\":1709689578404}\n"
     ]
    }
   ],
   "source": [
    "# Prover/ data owner side\n",
    "_, prover_model = computation_to_model(computation, error)\n",
    "\n",
    "prover_gen_settings(data_path, selected_columns, sel_data_path, prover_model,prover_model_path, scales, \"resources\", settings_path)"
   ]
  },
  {
   "cell_type": "code",
   "execution_count": 9,
   "metadata": {},
   "outputs": [
    {
     "name": "stdout",
     "output_type": "stream",
     "text": [
      "==== setting up ezkl ====\n",
      "Time setup: 27.76781916618347 seconds\n",
      "=======================================\n",
      "==== Generating Witness ====\n",
      "witness boolean:  1.0\n",
      "witness result 1 : 1.5625\n",
      "witness result 2 : 9.5625\n",
      "==== Generating Proof ====\n",
      "proof:  {'instances': [['78f113a919d1324cbee267b4320db42ee0170745a57013fa302f8139d7c36f18', '8dff683cfffbd97a4d94de7d897e03bb3f2fa18084beff4bbfbd152c2e2bcd16', '0100000000000000000000000000000000000000000000000000000000000000', '1900000000000000000000000000000000000000000000000000000000000000', '9900000000000000000000000000000000000000000000000000000000000000']], 'proof': '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', 'transcript_type': 'EVM'}\n",
      "Time gen prf: 30.835069179534912 seconds\n"
     ]
    }
   ],
   "source": [
    "# Here verifier & prover can concurrently call setup since all params are public to get pk.\n",
    "# Here write as verifier function to emphasize that verifier must calculate its own vk to be sure\n",
    "setup(verifier_model_path, verifier_compiled_model_path, settings_path,vk_path, pk_path )\n",
    "\n",
    "print(\"=======================================\")\n",
    "# Prover generates proof\n",
    "prover_gen_proof(prover_model_path, sel_data_path, witness_path, prover_compiled_model_path, settings_path, proof_path, pk_path)"
   ]
  },
  {
   "cell_type": "code",
   "execution_count": 10,
   "metadata": {},
   "outputs": [
    {
     "name": "stdout",
     "output_type": "stream",
     "text": [
      "Verifier gets result: [1.5625, 9.5625]\n"
     ]
    }
   ],
   "source": [
    "# Verifier verifies\n",
    "res = verifier_verify(proof_path, settings_path, vk_path, selected_columns, commitment_maps)\n",
    "print(\"Verifier gets result:\", res)"
   ]
  },
  {
   "cell_type": "code",
   "execution_count": null,
   "metadata": {},
   "outputs": [],
   "source": []
  }
 ],
 "metadata": {
  "kernelspec": {
   "display_name": "Python 3",
   "language": "python",
   "name": "python3"
  },
  "language_info": {
   "codemirror_mode": {
    "name": "ipython",
    "version": 3
   },
   "file_extension": ".py",
   "mimetype": "text/x-python",
   "name": "python",
   "nbconvert_exporter": "python",
   "pygments_lexer": "ipython3",
   "version": "3.11.4"
  },
  "orig_nbformat": 4
 },
 "nbformat": 4,
 "nbformat_minor": 2
}
