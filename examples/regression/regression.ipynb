{
 "cells": [
  {
   "cell_type": "code",
   "execution_count": 1,
   "metadata": {},
   "outputs": [
    {
     "name": "stdout",
     "output_type": "stream",
     "text": [
      "Requirement already satisfied: ezkl==7.0.0 in /Library/Frameworks/Python.framework/Versions/3.10/lib/python3.10/site-packages (from -r ../../requirements.txt (line 1)) (7.0.0)\n",
      "Requirement already satisfied: torch in /Library/Frameworks/Python.framework/Versions/3.10/lib/python3.10/site-packages (from -r ../../requirements.txt (line 2)) (2.1.1)\n",
      "Requirement already satisfied: requests in /Library/Frameworks/Python.framework/Versions/3.10/lib/python3.10/site-packages (from -r ../../requirements.txt (line 3)) (2.31.0)\n",
      "Requirement already satisfied: scipy in /Library/Frameworks/Python.framework/Versions/3.10/lib/python3.10/site-packages (from -r ../../requirements.txt (line 4)) (1.11.4)\n",
      "Requirement already satisfied: numpy in /Library/Frameworks/Python.framework/Versions/3.10/lib/python3.10/site-packages (from -r ../../requirements.txt (line 5)) (1.26.2)\n",
      "Requirement already satisfied: matplotlib in /Library/Frameworks/Python.framework/Versions/3.10/lib/python3.10/site-packages (from -r ../../requirements.txt (line 6)) (3.8.2)\n",
      "Requirement already satisfied: statistics in /Library/Frameworks/Python.framework/Versions/3.10/lib/python3.10/site-packages (from -r ../../requirements.txt (line 7)) (1.0.3.5)\n",
      "Requirement already satisfied: onnx in /Library/Frameworks/Python.framework/Versions/3.10/lib/python3.10/site-packages (from -r ../../requirements.txt (line 8)) (1.15.0)\n",
      "Requirement already satisfied: typing-extensions in /Library/Frameworks/Python.framework/Versions/3.10/lib/python3.10/site-packages (from torch->-r ../../requirements.txt (line 2)) (4.8.0)\n",
      "Requirement already satisfied: filelock in /Library/Frameworks/Python.framework/Versions/3.10/lib/python3.10/site-packages (from torch->-r ../../requirements.txt (line 2)) (3.13.1)\n",
      "Requirement already satisfied: fsspec in /Library/Frameworks/Python.framework/Versions/3.10/lib/python3.10/site-packages (from torch->-r ../../requirements.txt (line 2)) (2023.10.0)\n",
      "Requirement already satisfied: sympy in /Library/Frameworks/Python.framework/Versions/3.10/lib/python3.10/site-packages (from torch->-r ../../requirements.txt (line 2)) (1.12)\n",
      "Requirement already satisfied: networkx in /Library/Frameworks/Python.framework/Versions/3.10/lib/python3.10/site-packages (from torch->-r ../../requirements.txt (line 2)) (3.2.1)\n",
      "Requirement already satisfied: jinja2 in /Library/Frameworks/Python.framework/Versions/3.10/lib/python3.10/site-packages (from torch->-r ../../requirements.txt (line 2)) (3.1.2)\n",
      "Requirement already satisfied: certifi>=2017.4.17 in /Library/Frameworks/Python.framework/Versions/3.10/lib/python3.10/site-packages (from requests->-r ../../requirements.txt (line 3)) (2023.11.17)\n",
      "Requirement already satisfied: urllib3<3,>=1.21.1 in /Library/Frameworks/Python.framework/Versions/3.10/lib/python3.10/site-packages (from requests->-r ../../requirements.txt (line 3)) (2.1.0)\n",
      "Requirement already satisfied: charset-normalizer<4,>=2 in /Library/Frameworks/Python.framework/Versions/3.10/lib/python3.10/site-packages (from requests->-r ../../requirements.txt (line 3)) (3.3.2)\n",
      "Requirement already satisfied: idna<4,>=2.5 in /Library/Frameworks/Python.framework/Versions/3.10/lib/python3.10/site-packages (from requests->-r ../../requirements.txt (line 3)) (3.6)\n",
      "Requirement already satisfied: packaging>=20.0 in /Users/jernkun/Library/Python/3.10/lib/python/site-packages (from matplotlib->-r ../../requirements.txt (line 6)) (23.2)\n",
      "Requirement already satisfied: pyparsing>=2.3.1 in /Library/Frameworks/Python.framework/Versions/3.10/lib/python3.10/site-packages (from matplotlib->-r ../../requirements.txt (line 6)) (3.1.1)\n",
      "Requirement already satisfied: cycler>=0.10 in /Library/Frameworks/Python.framework/Versions/3.10/lib/python3.10/site-packages (from matplotlib->-r ../../requirements.txt (line 6)) (0.12.1)\n",
      "Requirement already satisfied: pillow>=8 in /Library/Frameworks/Python.framework/Versions/3.10/lib/python3.10/site-packages (from matplotlib->-r ../../requirements.txt (line 6)) (10.1.0)\n",
      "Requirement already satisfied: contourpy>=1.0.1 in /Library/Frameworks/Python.framework/Versions/3.10/lib/python3.10/site-packages (from matplotlib->-r ../../requirements.txt (line 6)) (1.2.0)\n",
      "Requirement already satisfied: python-dateutil>=2.7 in /Users/jernkun/Library/Python/3.10/lib/python/site-packages (from matplotlib->-r ../../requirements.txt (line 6)) (2.8.2)\n",
      "Requirement already satisfied: fonttools>=4.22.0 in /Library/Frameworks/Python.framework/Versions/3.10/lib/python3.10/site-packages (from matplotlib->-r ../../requirements.txt (line 6)) (4.45.1)\n",
      "Requirement already satisfied: kiwisolver>=1.3.1 in /Library/Frameworks/Python.framework/Versions/3.10/lib/python3.10/site-packages (from matplotlib->-r ../../requirements.txt (line 6)) (1.4.5)\n",
      "Requirement already satisfied: docutils>=0.3 in /Library/Frameworks/Python.framework/Versions/3.10/lib/python3.10/site-packages (from statistics->-r ../../requirements.txt (line 7)) (0.20.1)\n",
      "Requirement already satisfied: protobuf>=3.20.2 in /Library/Frameworks/Python.framework/Versions/3.10/lib/python3.10/site-packages (from onnx->-r ../../requirements.txt (line 8)) (4.25.1)\n",
      "Requirement already satisfied: six>=1.5 in /Users/jernkun/Library/Python/3.10/lib/python/site-packages (from python-dateutil>=2.7->matplotlib->-r ../../requirements.txt (line 6)) (1.16.0)\n",
      "Requirement already satisfied: MarkupSafe>=2.0 in /Library/Frameworks/Python.framework/Versions/3.10/lib/python3.10/site-packages (from jinja2->torch->-r ../../requirements.txt (line 2)) (2.1.3)\n",
      "Requirement already satisfied: mpmath>=0.19 in /Library/Frameworks/Python.framework/Versions/3.10/lib/python3.10/site-packages (from sympy->torch->-r ../../requirements.txt (line 2)) (1.3.0)\n",
      "\u001b[33mWARNING: You are using pip version 21.2.3; however, version 23.3.2 is available.\n",
      "You should consider upgrading via the '/usr/local/bin/python3 -m pip install --upgrade pip' command.\u001b[0m\n",
      "Note: you may need to restart the kernel to use updated packages.\n"
     ]
    }
   ],
   "source": [
    "pip install -r ../../requirements.txt"
   ]
  },
  {
   "cell_type": "code",
   "execution_count": 2,
   "metadata": {},
   "outputs": [],
   "source": [
    "import ezkl\n",
    "import torch\n",
    "from torch import nn\n",
    "import json\n",
    "import os\n",
    "import time\n",
    "import scipy\n",
    "import numpy as np\n",
    "import matplotlib.pyplot as plt\n",
    "import statistics\n",
    "import math"
   ]
  },
  {
   "cell_type": "code",
   "execution_count": 3,
   "metadata": {},
   "outputs": [],
   "source": [
    "%run -i ../../zkstats/core.py"
   ]
  },
  {
   "cell_type": "code",
   "execution_count": 4,
   "metadata": {},
   "outputs": [],
   "source": [
    "# init path\n",
    "os.makedirs(os.path.dirname('shared/'), exist_ok=True)\n",
    "os.makedirs(os.path.dirname('prover/'), exist_ok=True)\n",
    "verifier_model_path = os.path.join('shared/verifier.onnx')\n",
    "prover_model_path = os.path.join('prover/prover.onnx')\n",
    "verifier_compiled_model_path = os.path.join('shared/verifier.compiled')\n",
    "prover_compiled_model_path = os.path.join('prover/prover.compiled')\n",
    "pk_path = os.path.join('shared/test.pk')\n",
    "vk_path = os.path.join('shared/test.vk')\n",
    "proof_path = os.path.join('shared/test.pf')\n",
    "settings_path = os.path.join('shared/settings.json')\n",
    "srs_path = os.path.join('shared/kzg.srs')\n",
    "witness_path = os.path.join('prover/witness.json')\n",
    "# this is private to prover since it contains actual data\n",
    "comb_data_path = os.path.join('prover/comb_data.json')"
   ]
  },
  {
   "attachments": {},
   "cell_type": "markdown",
   "metadata": {},
   "source": [
    "=======================  ZK-STATS FLOW ======================="
   ]
  },
  {
   "cell_type": "code",
   "execution_count": 5,
   "metadata": {},
   "outputs": [
    {
     "name": "stdout",
     "output_type": "stream",
     "text": [
      "reg fit:  [1.98835287 3.14238058 0.06413647]\n"
     ]
    }
   ],
   "source": [
    "x1_vals_path = os.path.join('x1_vals.json')\n",
    "x2_vals_path = os.path.join('x2_vals.json')\n",
    "dummy_x1_vals_path = os.path.join('shared/dummy_x1_vals.json')\n",
    "dummy_x2_vals_path = os.path.join('shared/dummy_x2_vals.json')\n",
    "\n",
    "x1_vals= np.array(json.loads(open(x1_vals_path, \"r\").read())['input_data'][0])\n",
    "dummy_x1_vals = np.round(np.random.uniform(1,10,len(x1_vals)),1)\n",
    "json.dump({\"input_data\":[dummy_x1_vals.tolist()]}, open(dummy_x1_vals_path, 'w'))\n",
    "\n",
    "x2_vals= np.array(json.loads(open(x2_vals_path, \"r\").read())['input_data'][0])\n",
    "dummy_x2_vals = np.round(np.random.uniform(1,10,len(x2_vals)),1)\n",
    "json.dump({\"input_data\":[dummy_x2_vals.tolist()]}, open(dummy_x2_vals_path, 'w'))\n",
    "\n",
    "\n",
    "y_vals_path = os.path.join('y_vals.json')\n",
    "dummy_y_vals_path = os.path.join('shared/dummy_y_vals.json')\n",
    "\n",
    "y_vals= np.array(json.loads(open(y_vals_path, \"r\").read())['input_data'][0])\n",
    "dummy_y_vals = np.round(np.random.uniform(1,10,len(y_vals)),1)\n",
    "json.dump({\"input_data\":[dummy_y_vals.tolist()]}, open(dummy_y_vals_path, 'w'))\n",
    "\n",
    "\n",
    "def stacked_x(*args):\n",
    "    result = np.column_stack((*args, np.ones_like(args[0])))\n",
    "    return result\n",
    "\n",
    "x_one = stacked_x(x1_vals, x2_vals)\n",
    "dummy_x_one = stacked_x(dummy_x1_vals, dummy_x2_vals)\n",
    "\n",
    "w_vals = np.matmul(np.matmul(np.linalg.inv(np.matmul(x_one.transpose(), x_one)), x_one.transpose()), y_vals)\n",
    "dummy_w_vals = np.matmul(np.matmul(np.linalg.inv(np.matmul(dummy_x_one.transpose(), dummy_x_one)), dummy_x_one.transpose()), dummy_y_vals)\n",
    "\n",
    "print(\"reg fit: \", w_vals)\n",
    "w_tensor = torch.tensor(w_vals).reshape(1,-1,1)\n",
    "dummy_w_tensor = torch.tensor(dummy_w_vals).reshape(1,-1,1)\n"
   ]
  },
  {
   "cell_type": "code",
   "execution_count": 6,
   "metadata": {},
   "outputs": [],
   "source": [
    "# Verifier/ data consumer side:\n",
    "class verifier_model(nn.Module):\n",
    "    def __init__(self):\n",
    "        super(verifier_model, self).__init__()\n",
    "        self.w = nn.Parameter(data = dummy_w_tensor, requires_grad = False)\n",
    "\n",
    "    def forward(self, *args):\n",
    "        # infer Y from the last parameter\n",
    "        Y = args[-1]\n",
    "        X_one = torch.cat((*args[:-1], torch.ones_like(args[0][:, :, -1:])), dim=2)\n",
    "        X_T = torch.transpose(X_one, 1, 2)\n",
    "        return (\n",
    "            torch.sum(torch.abs(X_T @ X_one @ self.w - X_T @ Y)) <= 0.01 * torch.sum(torch.abs(X_T @ Y)),\n",
    "            self.w\n",
    "        )\n",
    "    \n",
    "\n",
    "verifier_define_calculation(verifier_model, verifier_model_path, [dummy_x1_vals_path, dummy_x2_vals_path, dummy_y_vals_path])"
   ]
  },
  {
   "cell_type": "code",
   "execution_count": 7,
   "metadata": {},
   "outputs": [
    {
     "name": "stdout",
     "output_type": "stream",
     "text": [
      "Theory output:  tensor([[[1.9884],\n",
      "         [3.1424],\n",
      "         [0.0641]]], dtype=torch.float64)\n",
      "==== Generate & Calibrate Setting ====\n",
      "scale:  [0]\n",
      "setting:  {\"run_args\":{\"tolerance\":{\"val\":0.0,\"scale\":1.0},\"input_scale\":0,\"param_scale\":0,\"scale_rebase_multiplier\":10,\"lookup_range\":[-23296,18300],\"logrows\":16,\"num_inner_cols\":2,\"variables\":[[\"batch_size\",1]],\"input_visibility\":{\"Hashed\":{\"hash_is_public\":true,\"outlets\":[]}},\"output_visibility\":\"Public\",\"param_visibility\":\"Private\"},\"num_rows\":11808,\"total_assignments\":794,\"total_const_size\":13,\"model_instance_shapes\":[[1],[1,3,1]],\"model_output_scales\":[0,0],\"model_input_scales\":[0,0,0],\"module_sizes\":{\"kzg\":[],\"poseidon\":[11808,[3]],\"elgamal\":[0,[0]]},\"required_lookups\":[\"Abs\",{\"Div\":{\"denom\":100.0}},{\"GreaterThan\":{\"a\":0.0}}],\"check_mode\":\"UNSAFE\",\"version\":\"7.0.0\",\"num_blinding_factors\":null}\n"
     ]
    }
   ],
   "source": [
    "# prover calculates settings, send to verifier\n",
    "\n",
    "theory_output = w_tensor\n",
    "print(\"Theory output: \", theory_output)\n",
    "class prover_model(nn.Module):\n",
    "    def __init__(self):\n",
    "        super(prover_model, self).__init__()\n",
    "        self.w = nn.Parameter(data = w_tensor, requires_grad = False)\n",
    "\n",
    "    def forward(self, *args):\n",
    "        # infer Y from the last parameter\n",
    "        Y = args[-1]\n",
    "        X_one = torch.cat((*args[:-1], torch.ones_like(args[0][:, :, -1:])), dim=2)\n",
    "        X_T = torch.transpose(X_one, 1, 2)\n",
    "        return (\n",
    "            torch.sum(torch.abs(X_T @ X_one @ self.w - X_T @ Y)) <= 0.01 * torch.sum(torch.abs(X_T @ Y)),\n",
    "            self.w\n",
    "        )\n",
    "# try scale = [3] for more accuracy\n",
    "prover_gen_settings([x1_vals_path, x2_vals_path, y_vals_path], comb_data_path, prover_model,prover_model_path, [0], \"resources\", settings_path)"
   ]
  },
  {
   "cell_type": "code",
   "execution_count": 8,
   "metadata": {},
   "outputs": [
    {
     "name": "stderr",
     "output_type": "stream",
     "text": [
      "spawning module 0\n",
      "spawning module 2\n"
     ]
    },
    {
     "name": "stdout",
     "output_type": "stream",
     "text": [
      "==== setting up ezkl ====\n"
     ]
    },
    {
     "name": "stderr",
     "output_type": "stream",
     "text": [
      "spawning module 0\n",
      "spawning module 2\n"
     ]
    },
    {
     "name": "stdout",
     "output_type": "stream",
     "text": [
      "Time setup: 6.747756004333496 seconds\n",
      "=======================================\n",
      "Theory output:  tensor([[[1.9884],\n",
      "         [3.1424],\n",
      "         [0.0641]]], dtype=torch.float64)\n",
      "!@# compiled_model exists? True\n",
      "!@# compiled_model exists? True\n",
      "==== Generating Witness ====\n",
      "witness boolean:  1.0\n",
      "witness result 1 : 2.0\n",
      "witness result 2 : 3.0\n",
      "witness result 3 : 0.0\n",
      "==== Generating Proof ====\n"
     ]
    },
    {
     "name": "stderr",
     "output_type": "stream",
     "text": [
      "spawning module 0\n",
      "spawning module 2\n"
     ]
    },
    {
     "name": "stdout",
     "output_type": "stream",
     "text": [
      "proof:  {'instances': [[[6145674602038562713, 11796601694033167407, 3132644448460071153, 1431119980703310933], [17187590983289934876, 11857991285122296962, 971807162298867662, 379283799527326290], [3957842973089931008, 9845595232537184463, 786695466761881781, 2995319695946854765], [12436184717236109307, 3962172157175319849, 7381016538464732718, 1011752739694698287], [6425625360762666998, 7924344314350639699, 14762033076929465436, 2023505479389396574], [415066004289224689, 11886516471525959549, 3696305541684646538, 3035258219084094862], [0, 0, 0, 0]]], 'proof': '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', 'transcript_type': 'EVM'}\n",
      "Time gen prf: 9.434864044189453 seconds\n"
     ]
    }
   ],
   "source": [
    "# Here verifier & prover can concurrently call setup since all params are public to get pk. \n",
    "# Here write as verifier function to emphasize that verifier must calculate its own vk to be sure\n",
    "verifier_setup(verifier_model_path, verifier_compiled_model_path, settings_path,vk_path, pk_path )\n",
    "\n",
    "print(\"=======================================\")\n",
    "# Prover generates proof\n",
    "print(\"Theory output: \", theory_output)\n",
    "prover_gen_proof(prover_model_path, comb_data_path, witness_path, prover_compiled_model_path, settings_path, proof_path, pk_path)"
   ]
  },
  {
   "cell_type": "code",
   "execution_count": 9,
   "metadata": {},
   "outputs": [
    {
     "name": "stdout",
     "output_type": "stream",
     "text": [
      "num_inputs:  3\n",
      "prf instances:  [[[6145674602038562713, 11796601694033167407, 3132644448460071153, 1431119980703310933], [17187590983289934876, 11857991285122296962, 971807162298867662, 379283799527326290], [3957842973089931008, 9845595232537184463, 786695466761881781, 2995319695946854765], [12436184717236109307, 3962172157175319849, 7381016538464732718, 1011752739694698287], [6425625360762666998, 7924344314350639699, 14762033076929465436, 2023505479389396574], [415066004289224689, 11886516471525959549, 3696305541684646538, 3035258219084094862], [0, 0, 0, 0]]]\n",
      "proof boolean:  1.0\n",
      "proof result 1 : 2.0\n",
      "proof result 2 : 3.0\n",
      "proof result 3 : 0.0\n",
      "verified\n"
     ]
    }
   ],
   "source": [
    "verifier_verify(proof_path, settings_path, vk_path)"
   ]
  },
  {
   "cell_type": "code",
   "execution_count": null,
   "metadata": {},
   "outputs": [],
   "source": []
  }
 ],
 "metadata": {
  "kernelspec": {
   "display_name": "Python 3",
   "language": "python",
   "name": "python3"
  },
  "language_info": {
   "codemirror_mode": {
    "name": "ipython",
    "version": 3
   },
   "file_extension": ".py",
   "mimetype": "text/x-python",
   "name": "python",
   "nbconvert_exporter": "python",
   "pygments_lexer": "ipython3",
   "version": "3.10.0"
  },
  "orig_nbformat": 4
 },
 "nbformat": 4,
 "nbformat_minor": 2
}
