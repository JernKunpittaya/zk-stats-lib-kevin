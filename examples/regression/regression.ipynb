{
 "cells": [
  {
   "cell_type": "code",
   "execution_count": 9,
   "metadata": {},
   "outputs": [
    {
     "name": "stdout",
     "output_type": "stream",
     "text": [
      "Requirement already satisfied: ezkl==5.0.8 in /Library/Frameworks/Python.framework/Versions/3.10/lib/python3.10/site-packages (from -r ../../requirements.txt (line 1)) (5.0.8)\n",
      "Requirement already satisfied: torch in /Library/Frameworks/Python.framework/Versions/3.10/lib/python3.10/site-packages (from -r ../../requirements.txt (line 2)) (2.1.1)\n",
      "Requirement already satisfied: requests in /Library/Frameworks/Python.framework/Versions/3.10/lib/python3.10/site-packages (from -r ../../requirements.txt (line 3)) (2.31.0)\n",
      "Requirement already satisfied: scipy in /Library/Frameworks/Python.framework/Versions/3.10/lib/python3.10/site-packages (from -r ../../requirements.txt (line 4)) (1.11.4)\n",
      "Requirement already satisfied: numpy in /Library/Frameworks/Python.framework/Versions/3.10/lib/python3.10/site-packages (from -r ../../requirements.txt (line 5)) (1.26.2)\n",
      "Requirement already satisfied: matplotlib in /Library/Frameworks/Python.framework/Versions/3.10/lib/python3.10/site-packages (from -r ../../requirements.txt (line 6)) (3.8.2)\n",
      "Requirement already satisfied: statistics in /Library/Frameworks/Python.framework/Versions/3.10/lib/python3.10/site-packages (from -r ../../requirements.txt (line 7)) (1.0.3.5)\n",
      "Requirement already satisfied: onnx in /Library/Frameworks/Python.framework/Versions/3.10/lib/python3.10/site-packages (from -r ../../requirements.txt (line 8)) (1.15.0)\n",
      "Requirement already satisfied: typing-extensions in /Library/Frameworks/Python.framework/Versions/3.10/lib/python3.10/site-packages (from torch->-r ../../requirements.txt (line 2)) (4.8.0)\n",
      "Requirement already satisfied: networkx in /Library/Frameworks/Python.framework/Versions/3.10/lib/python3.10/site-packages (from torch->-r ../../requirements.txt (line 2)) (3.2.1)\n",
      "Requirement already satisfied: jinja2 in /Library/Frameworks/Python.framework/Versions/3.10/lib/python3.10/site-packages (from torch->-r ../../requirements.txt (line 2)) (3.1.2)\n",
      "Requirement already satisfied: sympy in /Library/Frameworks/Python.framework/Versions/3.10/lib/python3.10/site-packages (from torch->-r ../../requirements.txt (line 2)) (1.12)\n",
      "Requirement already satisfied: filelock in /Library/Frameworks/Python.framework/Versions/3.10/lib/python3.10/site-packages (from torch->-r ../../requirements.txt (line 2)) (3.13.1)\n",
      "Requirement already satisfied: fsspec in /Library/Frameworks/Python.framework/Versions/3.10/lib/python3.10/site-packages (from torch->-r ../../requirements.txt (line 2)) (2023.10.0)\n",
      "Requirement already satisfied: urllib3<3,>=1.21.1 in /Library/Frameworks/Python.framework/Versions/3.10/lib/python3.10/site-packages (from requests->-r ../../requirements.txt (line 3)) (2.1.0)\n",
      "Requirement already satisfied: idna<4,>=2.5 in /Library/Frameworks/Python.framework/Versions/3.10/lib/python3.10/site-packages (from requests->-r ../../requirements.txt (line 3)) (3.6)\n",
      "Requirement already satisfied: certifi>=2017.4.17 in /Library/Frameworks/Python.framework/Versions/3.10/lib/python3.10/site-packages (from requests->-r ../../requirements.txt (line 3)) (2023.11.17)\n",
      "Requirement already satisfied: charset-normalizer<4,>=2 in /Library/Frameworks/Python.framework/Versions/3.10/lib/python3.10/site-packages (from requests->-r ../../requirements.txt (line 3)) (3.3.2)\n",
      "Requirement already satisfied: cycler>=0.10 in /Library/Frameworks/Python.framework/Versions/3.10/lib/python3.10/site-packages (from matplotlib->-r ../../requirements.txt (line 6)) (0.12.1)\n",
      "Requirement already satisfied: fonttools>=4.22.0 in /Library/Frameworks/Python.framework/Versions/3.10/lib/python3.10/site-packages (from matplotlib->-r ../../requirements.txt (line 6)) (4.45.1)\n",
      "Requirement already satisfied: pillow>=8 in /Library/Frameworks/Python.framework/Versions/3.10/lib/python3.10/site-packages (from matplotlib->-r ../../requirements.txt (line 6)) (10.1.0)\n",
      "Requirement already satisfied: contourpy>=1.0.1 in /Library/Frameworks/Python.framework/Versions/3.10/lib/python3.10/site-packages (from matplotlib->-r ../../requirements.txt (line 6)) (1.2.0)\n",
      "Requirement already satisfied: kiwisolver>=1.3.1 in /Library/Frameworks/Python.framework/Versions/3.10/lib/python3.10/site-packages (from matplotlib->-r ../../requirements.txt (line 6)) (1.4.5)\n",
      "Requirement already satisfied: python-dateutil>=2.7 in /Users/jernkun/Library/Python/3.10/lib/python/site-packages (from matplotlib->-r ../../requirements.txt (line 6)) (2.8.2)\n",
      "Requirement already satisfied: packaging>=20.0 in /Users/jernkun/Library/Python/3.10/lib/python/site-packages (from matplotlib->-r ../../requirements.txt (line 6)) (23.2)\n",
      "Requirement already satisfied: pyparsing>=2.3.1 in /Library/Frameworks/Python.framework/Versions/3.10/lib/python3.10/site-packages (from matplotlib->-r ../../requirements.txt (line 6)) (3.1.1)\n",
      "Requirement already satisfied: docutils>=0.3 in /Library/Frameworks/Python.framework/Versions/3.10/lib/python3.10/site-packages (from statistics->-r ../../requirements.txt (line 7)) (0.20.1)\n",
      "Requirement already satisfied: protobuf>=3.20.2 in /Library/Frameworks/Python.framework/Versions/3.10/lib/python3.10/site-packages (from onnx->-r ../../requirements.txt (line 8)) (4.25.1)\n",
      "Requirement already satisfied: six>=1.5 in /Users/jernkun/Library/Python/3.10/lib/python/site-packages (from python-dateutil>=2.7->matplotlib->-r ../../requirements.txt (line 6)) (1.16.0)\n",
      "Requirement already satisfied: MarkupSafe>=2.0 in /Library/Frameworks/Python.framework/Versions/3.10/lib/python3.10/site-packages (from jinja2->torch->-r ../../requirements.txt (line 2)) (2.1.3)\n",
      "Requirement already satisfied: mpmath>=0.19 in /Library/Frameworks/Python.framework/Versions/3.10/lib/python3.10/site-packages (from sympy->torch->-r ../../requirements.txt (line 2)) (1.3.0)\n",
      "\u001b[33mWARNING: You are using pip version 21.2.3; however, version 23.3.1 is available.\n",
      "You should consider upgrading via the '/usr/local/bin/python3 -m pip install --upgrade pip' command.\u001b[0m\n",
      "Note: you may need to restart the kernel to use updated packages.\n"
     ]
    }
   ],
   "source": [
    "pip install -r ../../requirements.txt"
   ]
  },
  {
   "cell_type": "code",
   "execution_count": 1,
   "metadata": {},
   "outputs": [],
   "source": [
    "import ezkl\n",
    "import torch\n",
    "from torch import nn\n",
    "import json\n",
    "import os\n",
    "import time\n",
    "import scipy\n",
    "import numpy as np\n",
    "import matplotlib.pyplot as plt\n",
    "import statistics\n",
    "import math"
   ]
  },
  {
   "cell_type": "code",
   "execution_count": 2,
   "metadata": {},
   "outputs": [],
   "source": [
    "%run -i ../../core.py"
   ]
  },
  {
   "cell_type": "code",
   "execution_count": 3,
   "metadata": {},
   "outputs": [],
   "source": [
    "# init path\n",
    "os.makedirs(os.path.dirname('shared/'), exist_ok=True)\n",
    "os.makedirs(os.path.dirname('prover/'), exist_ok=True)\n",
    "verifier_model_path = os.path.join('shared/verifier.onnx')\n",
    "prover_model_path = os.path.join('prover/prover.onnx')\n",
    "verifier_compiled_model_path = os.path.join('shared/verifier.compiled')\n",
    "prover_compiled_model_path = os.path.join('prover/prover.compiled')\n",
    "pk_path = os.path.join('shared/test.pk')\n",
    "vk_path = os.path.join('shared/test.vk')\n",
    "proof_path = os.path.join('shared/test.pf')\n",
    "settings_path = os.path.join('shared/settings.json')\n",
    "srs_path = os.path.join('shared/kzg.srs')\n",
    "witness_path = os.path.join('prover/witness.json')\n",
    "# this is private to prover since it contains actual data\n",
    "comb_data_path = os.path.join('prover/comb_data.json')"
   ]
  },
  {
   "attachments": {},
   "cell_type": "markdown",
   "metadata": {},
   "source": [
    "=======================  ZK-STATS FLOW ======================="
   ]
  },
  {
   "cell_type": "code",
   "execution_count": 4,
   "metadata": {},
   "outputs": [
    {
     "name": "stdout",
     "output_type": "stream",
     "text": [
      "reg fit:  [1.98835287 3.14238058 0.06413647]\n"
     ]
    }
   ],
   "source": [
    "x1_vals_path = os.path.join('x1_vals.json')\n",
    "x2_vals_path = os.path.join('x2_vals.json')\n",
    "dummy_x1_vals_path = os.path.join('shared/dummy_x1_vals.json')\n",
    "dummy_x2_vals_path = os.path.join('shared/dummy_x2_vals.json')\n",
    "\n",
    "x1_vals= np.array(json.loads(open(x1_vals_path, \"r\").read())['input_data'][0])\n",
    "dummy_x1_vals = np.random.uniform(min(x1_vals), max(x1_vals), len(x1_vals))\n",
    "json.dump({\"input_data\":[dummy_x1_vals.tolist()]}, open(dummy_x1_vals_path, 'w'))\n",
    "\n",
    "x2_vals= np.array(json.loads(open(x2_vals_path, \"r\").read())['input_data'][0])\n",
    "dummy_x2_vals = np.random.uniform(min(x2_vals), max(x2_vals), len(x2_vals))\n",
    "json.dump({\"input_data\":[dummy_x2_vals.tolist()]}, open(dummy_x2_vals_path, 'w'))\n",
    "\n",
    "\n",
    "y_vals_path = os.path.join('y_vals.json')\n",
    "dummy_y_vals_path = os.path.join('shared/dummy_y_vals.json')\n",
    "\n",
    "y_vals= np.array(json.loads(open(y_vals_path, \"r\").read())['input_data'][0])\n",
    "dummy_y_vals = np.random.uniform(min(y_vals), max(y_vals), len(y_vals))\n",
    "json.dump({\"input_data\":[dummy_y_vals.tolist()]}, open(dummy_y_vals_path, 'w'))\n",
    "\n",
    "\n",
    "def stacked_x(*args):\n",
    "    result = np.column_stack((*args, np.ones_like(args[0])))\n",
    "    return result\n",
    "\n",
    "x_one = stacked_x(x1_vals, x2_vals)\n",
    "dummy_x_one = stacked_x(dummy_x1_vals, dummy_x2_vals)\n",
    "\n",
    "w_vals = np.matmul(np.matmul(np.linalg.inv(np.matmul(x_one.transpose(), x_one)), x_one.transpose()), y_vals)\n",
    "dummy_w_vals = np.matmul(np.matmul(np.linalg.inv(np.matmul(dummy_x_one.transpose(), dummy_x_one)), dummy_x_one.transpose()), dummy_y_vals)\n",
    "\n",
    "print(\"reg fit: \", w_vals)\n",
    "w_tensor = torch.tensor(w_vals).reshape(1,-1,1)\n",
    "dummy_w_tensor = torch.tensor(dummy_w_vals).reshape(1,-1,1)\n"
   ]
  },
  {
   "cell_type": "code",
   "execution_count": 5,
   "metadata": {},
   "outputs": [],
   "source": [
    "# Verifier/ data consumer side:\n",
    "class verifier_model(nn.Module):\n",
    "    def __init__(self):\n",
    "        super(verifier_model, self).__init__()\n",
    "        self.w = nn.Parameter(data = dummy_w_tensor, requires_grad = False)\n",
    "\n",
    "    def forward(self, *args):\n",
    "        # infer Y from the last parameter\n",
    "        Y = args[-1]\n",
    "        X_one = torch.cat((*args[:-1], torch.ones_like(args[0][:, :, -1:])), dim=2)\n",
    "        X_T = torch.transpose(X_one, 1, 2)\n",
    "        return (\n",
    "            torch.sum(torch.abs(X_T @ X_one @ self.w - X_T @ Y)) <= 0.01 * torch.sum(torch.abs(X_T @ Y)),\n",
    "            self.w\n",
    "        )\n",
    "    \n",
    "\n",
    "verifier_define_calculation(verifier_model, verifier_model_path, [dummy_x1_vals_path, dummy_x2_vals_path, dummy_y_vals_path])"
   ]
  },
  {
   "cell_type": "code",
   "execution_count": 6,
   "metadata": {},
   "outputs": [
    {
     "name": "stdout",
     "output_type": "stream",
     "text": [
      "Theory output:  tensor([[[1.9884],\n",
      "         [3.1424],\n",
      "         [0.0641]]], dtype=torch.float64)\n",
      "==== Generate & Calibrate Setting ====\n",
      "scale:  [0]\n",
      "setting:  {\"run_args\":{\"tolerance\":{\"val\":0.0,\"scale\":1.0},\"input_scale\":0,\"param_scale\":0,\"scale_rebase_multiplier\":10,\"lookup_range\":[-23296,18300],\"logrows\":16,\"num_inner_cols\":1,\"variables\":[[\"batch_size\",1]],\"input_visibility\":{\"Hashed\":{\"hash_is_public\":true,\"outlets\":[]}},\"output_visibility\":\"Public\",\"param_visibility\":\"Private\"},\"num_rows\":11808,\"total_assignments\":788,\"total_const_size\":5,\"model_instance_shapes\":[[1],[1,3,1]],\"model_output_scales\":[0,0],\"model_input_scales\":[0,0,0],\"module_sizes\":{\"kzg\":[],\"poseidon\":[11808,[3]],\"elgamal\":[0,[0]]},\"required_lookups\":[\"Abs\",{\"Div\":{\"denom\":100.0}},{\"GreaterThan\":{\"a\":0.0}}],\"check_mode\":\"UNSAFE\",\"version\":\"5.0.8\",\"num_blinding_factors\":null}\n"
     ]
    }
   ],
   "source": [
    "# prover calculates settings, send to verifier\n",
    "\n",
    "theory_output = w_tensor\n",
    "print(\"Theory output: \", theory_output)\n",
    "class prover_model(nn.Module):\n",
    "    def __init__(self):\n",
    "        super(prover_model, self).__init__()\n",
    "        self.w = nn.Parameter(data = w_tensor, requires_grad = False)\n",
    "\n",
    "    def forward(self, *args):\n",
    "        # infer Y from the last parameter\n",
    "        Y = args[-1]\n",
    "        X_one = torch.cat((*args[:-1], torch.ones_like(args[0][:, :, -1:])), dim=2)\n",
    "        X_T = torch.transpose(X_one, 1, 2)\n",
    "        return (\n",
    "            torch.sum(torch.abs(X_T @ X_one @ self.w - X_T @ Y)) <= 0.01 * torch.sum(torch.abs(X_T @ Y)),\n",
    "            self.w\n",
    "        )\n",
    "\n",
    "prover_gen_settings([x1_vals_path, x2_vals_path, y_vals_path], comb_data_path, prover_model,prover_model_path, [3], \"resources\", settings_path)"
   ]
  },
  {
   "cell_type": "code",
   "execution_count": 7,
   "metadata": {},
   "outputs": [
    {
     "name": "stderr",
     "output_type": "stream",
     "text": [
      "spawning module 0\n"
     ]
    },
    {
     "name": "stdout",
     "output_type": "stream",
     "text": [
      "==== setting up ezkl ====\n"
     ]
    },
    {
     "name": "stderr",
     "output_type": "stream",
     "text": [
      "spawning module 2\n",
      "spawning module 0\n",
      "spawning module 2\n"
     ]
    },
    {
     "name": "stdout",
     "output_type": "stream",
     "text": [
      "Time setup: 5.703142881393433 seconds\n",
      "=======================================\n",
      "Theory output:  tensor([[[1.9884],\n",
      "         [3.1424],\n",
      "         [0.0641]]], dtype=torch.float64)\n",
      "==== Generating Witness ====\n",
      "witness boolean:  1.0\n",
      "witness result 1 : 2.0\n",
      "witness result 2 : 3.0\n",
      "witness result 3 : 0.0\n",
      "==== Generating Proof ====\n"
     ]
    },
    {
     "name": "stderr",
     "output_type": "stream",
     "text": [
      "spawning module 0\n",
      "spawning module 2\n"
     ]
    },
    {
     "name": "stdout",
     "output_type": "stream",
     "text": [
      "proof:  {'instances': [[[6145674602038562713, 11796601694033167407, 3132644448460071153, 1431119980703310933], [17187590983289934876, 11857991285122296962, 971807162298867662, 379283799527326290], [3957842973089931008, 9845595232537184463, 786695466761881781, 2995319695946854765], [12436184717236109307, 3962172157175319849, 7381016538464732718, 1011752739694698287], [6425625360762666998, 7924344314350639699, 14762033076929465436, 2023505479389396574], [415066004289224689, 11886516471525959549, 3696305541684646538, 3035258219084094862], [0, 0, 0, 0]]], 'proof': '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', 'transcript_type': 'EVM'}\n",
      "Time gen prf: 6.726392030715942 seconds\n"
     ]
    }
   ],
   "source": [
    "# Here verifier & prover can concurrently call setup since all params are public to get pk. \n",
    "# Here write as verifier function to emphasize that verifier must calculate its own vk to be sure\n",
    "verifier_setup(verifier_model_path, verifier_compiled_model_path, settings_path, srs_path,vk_path, pk_path )\n",
    "\n",
    "print(\"=======================================\")\n",
    "# Prover generates proof\n",
    "print(\"Theory output: \", theory_output)\n",
    "prover_gen_proof(prover_model_path, comb_data_path, witness_path, prover_compiled_model_path, settings_path, proof_path, pk_path, srs_path)"
   ]
  },
  {
   "cell_type": "code",
   "execution_count": 9,
   "metadata": {},
   "outputs": [
    {
     "name": "stdout",
     "output_type": "stream",
     "text": [
      "num_inputs:  3\n",
      "prf instances:  [[[6145674602038562713, 11796601694033167407, 3132644448460071153, 1431119980703310933], [17187590983289934876, 11857991285122296962, 971807162298867662, 379283799527326290], [3957842973089931008, 9845595232537184463, 786695466761881781, 2995319695946854765], [12436184717236109307, 3962172157175319849, 7381016538464732718, 1011752739694698287], [6425625360762666998, 7924344314350639699, 14762033076929465436, 2023505479389396574], [415066004289224689, 11886516471525959549, 3696305541684646538, 3035258219084094862], [0, 0, 0, 0]]]\n",
      "proof boolean:  1.0\n",
      "proof result 1 : 2.0\n",
      "proof result 2 : 3.0\n",
      "proof result 3 : 0.0\n",
      "verified\n"
     ]
    }
   ],
   "source": [
    "verifier_verify(proof_path, settings_path, vk_path, srs_path)"
   ]
  },
  {
   "cell_type": "code",
   "execution_count": null,
   "metadata": {},
   "outputs": [],
   "source": []
  }
 ],
 "metadata": {
  "kernelspec": {
   "display_name": "Python 3",
   "language": "python",
   "name": "python3"
  },
  "language_info": {
   "codemirror_mode": {
    "name": "ipython",
    "version": 3
   },
   "file_extension": ".py",
   "mimetype": "text/x-python",
   "name": "python",
   "nbconvert_exporter": "python",
   "pygments_lexer": "ipython3",
   "version": "3.10.0"
  },
  "orig_nbformat": 4
 },
 "nbformat": 4,
 "nbformat_minor": 2
}
