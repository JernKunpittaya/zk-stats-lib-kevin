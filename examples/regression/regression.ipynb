{
 "cells": [
  {
   "cell_type": "code",
   "execution_count": 1,
   "metadata": {},
   "outputs": [
    {
     "name": "stdout",
     "output_type": "stream",
     "text": [
      "Requirement already satisfied: ezkl==9.1.0 in /Users/jernkun/Library/Caches/pypoetry/virtualenvs/zkstats-OJpceffF-py3.11/lib/python3.11/site-packages (from -r ../../requirements.txt (line 1)) (9.1.0)\n",
      "Requirement already satisfied: torch in /Users/jernkun/Library/Caches/pypoetry/virtualenvs/zkstats-OJpceffF-py3.11/lib/python3.11/site-packages (from -r ../../requirements.txt (line 2)) (2.2.0)\n",
      "Requirement already satisfied: requests in /Users/jernkun/Library/Caches/pypoetry/virtualenvs/zkstats-OJpceffF-py3.11/lib/python3.11/site-packages (from -r ../../requirements.txt (line 3)) (2.31.0)\n",
      "Requirement already satisfied: scipy in /Users/jernkun/Library/Caches/pypoetry/virtualenvs/zkstats-OJpceffF-py3.11/lib/python3.11/site-packages (from -r ../../requirements.txt (line 4)) (1.12.0)\n",
      "Requirement already satisfied: numpy in /Users/jernkun/Library/Caches/pypoetry/virtualenvs/zkstats-OJpceffF-py3.11/lib/python3.11/site-packages (from -r ../../requirements.txt (line 5)) (1.26.3)\n",
      "Requirement already satisfied: matplotlib in /Users/jernkun/Library/Caches/pypoetry/virtualenvs/zkstats-OJpceffF-py3.11/lib/python3.11/site-packages (from -r ../../requirements.txt (line 6)) (3.8.2)\n",
      "Requirement already satisfied: statistics in /Users/jernkun/Library/Caches/pypoetry/virtualenvs/zkstats-OJpceffF-py3.11/lib/python3.11/site-packages (from -r ../../requirements.txt (line 7)) (1.0.3.5)\n",
      "Requirement already satisfied: onnx in /Users/jernkun/Library/Caches/pypoetry/virtualenvs/zkstats-OJpceffF-py3.11/lib/python3.11/site-packages (from -r ../../requirements.txt (line 8)) (1.15.0)\n",
      "Requirement already satisfied: filelock in /Users/jernkun/Library/Caches/pypoetry/virtualenvs/zkstats-OJpceffF-py3.11/lib/python3.11/site-packages (from torch->-r ../../requirements.txt (line 2)) (3.13.1)\n",
      "Requirement already satisfied: typing-extensions>=4.8.0 in /Users/jernkun/Library/Caches/pypoetry/virtualenvs/zkstats-OJpceffF-py3.11/lib/python3.11/site-packages (from torch->-r ../../requirements.txt (line 2)) (4.9.0)\n",
      "Requirement already satisfied: sympy in /Users/jernkun/Library/Caches/pypoetry/virtualenvs/zkstats-OJpceffF-py3.11/lib/python3.11/site-packages (from torch->-r ../../requirements.txt (line 2)) (1.12)\n",
      "Requirement already satisfied: networkx in /Users/jernkun/Library/Caches/pypoetry/virtualenvs/zkstats-OJpceffF-py3.11/lib/python3.11/site-packages (from torch->-r ../../requirements.txt (line 2)) (3.2.1)\n",
      "Requirement already satisfied: jinja2 in /Users/jernkun/Library/Caches/pypoetry/virtualenvs/zkstats-OJpceffF-py3.11/lib/python3.11/site-packages (from torch->-r ../../requirements.txt (line 2)) (3.1.3)\n",
      "Requirement already satisfied: fsspec in /Users/jernkun/Library/Caches/pypoetry/virtualenvs/zkstats-OJpceffF-py3.11/lib/python3.11/site-packages (from torch->-r ../../requirements.txt (line 2)) (2023.12.2)\n",
      "Requirement already satisfied: charset-normalizer<4,>=2 in /Users/jernkun/Library/Caches/pypoetry/virtualenvs/zkstats-OJpceffF-py3.11/lib/python3.11/site-packages (from requests->-r ../../requirements.txt (line 3)) (3.3.2)\n",
      "Requirement already satisfied: idna<4,>=2.5 in /Users/jernkun/Library/Caches/pypoetry/virtualenvs/zkstats-OJpceffF-py3.11/lib/python3.11/site-packages (from requests->-r ../../requirements.txt (line 3)) (3.6)\n",
      "Requirement already satisfied: urllib3<3,>=1.21.1 in /Users/jernkun/Library/Caches/pypoetry/virtualenvs/zkstats-OJpceffF-py3.11/lib/python3.11/site-packages (from requests->-r ../../requirements.txt (line 3)) (2.2.0)\n",
      "Requirement already satisfied: certifi>=2017.4.17 in /Users/jernkun/Library/Caches/pypoetry/virtualenvs/zkstats-OJpceffF-py3.11/lib/python3.11/site-packages (from requests->-r ../../requirements.txt (line 3)) (2024.2.2)\n",
      "Requirement already satisfied: contourpy>=1.0.1 in /Users/jernkun/Library/Caches/pypoetry/virtualenvs/zkstats-OJpceffF-py3.11/lib/python3.11/site-packages (from matplotlib->-r ../../requirements.txt (line 6)) (1.2.0)\n",
      "Requirement already satisfied: cycler>=0.10 in /Users/jernkun/Library/Caches/pypoetry/virtualenvs/zkstats-OJpceffF-py3.11/lib/python3.11/site-packages (from matplotlib->-r ../../requirements.txt (line 6)) (0.12.1)\n",
      "Requirement already satisfied: fonttools>=4.22.0 in /Users/jernkun/Library/Caches/pypoetry/virtualenvs/zkstats-OJpceffF-py3.11/lib/python3.11/site-packages (from matplotlib->-r ../../requirements.txt (line 6)) (4.47.2)\n",
      "Requirement already satisfied: kiwisolver>=1.3.1 in /Users/jernkun/Library/Caches/pypoetry/virtualenvs/zkstats-OJpceffF-py3.11/lib/python3.11/site-packages (from matplotlib->-r ../../requirements.txt (line 6)) (1.4.5)\n",
      "Requirement already satisfied: packaging>=20.0 in /Users/jernkun/Library/Caches/pypoetry/virtualenvs/zkstats-OJpceffF-py3.11/lib/python3.11/site-packages (from matplotlib->-r ../../requirements.txt (line 6)) (23.2)\n",
      "Requirement already satisfied: pillow>=8 in /Users/jernkun/Library/Caches/pypoetry/virtualenvs/zkstats-OJpceffF-py3.11/lib/python3.11/site-packages (from matplotlib->-r ../../requirements.txt (line 6)) (10.2.0)\n",
      "Requirement already satisfied: pyparsing>=2.3.1 in /Users/jernkun/Library/Caches/pypoetry/virtualenvs/zkstats-OJpceffF-py3.11/lib/python3.11/site-packages (from matplotlib->-r ../../requirements.txt (line 6)) (3.1.1)\n",
      "Requirement already satisfied: python-dateutil>=2.7 in /Users/jernkun/Library/Caches/pypoetry/virtualenvs/zkstats-OJpceffF-py3.11/lib/python3.11/site-packages (from matplotlib->-r ../../requirements.txt (line 6)) (2.8.2)\n",
      "Requirement already satisfied: docutils>=0.3 in /Users/jernkun/Library/Caches/pypoetry/virtualenvs/zkstats-OJpceffF-py3.11/lib/python3.11/site-packages (from statistics->-r ../../requirements.txt (line 7)) (0.20.1)\n",
      "Requirement already satisfied: protobuf>=3.20.2 in /Users/jernkun/Library/Caches/pypoetry/virtualenvs/zkstats-OJpceffF-py3.11/lib/python3.11/site-packages (from onnx->-r ../../requirements.txt (line 8)) (4.25.2)\n",
      "Requirement already satisfied: six>=1.5 in /Users/jernkun/Library/Caches/pypoetry/virtualenvs/zkstats-OJpceffF-py3.11/lib/python3.11/site-packages (from python-dateutil>=2.7->matplotlib->-r ../../requirements.txt (line 6)) (1.16.0)\n",
      "Requirement already satisfied: MarkupSafe>=2.0 in /Users/jernkun/Library/Caches/pypoetry/virtualenvs/zkstats-OJpceffF-py3.11/lib/python3.11/site-packages (from jinja2->torch->-r ../../requirements.txt (line 2)) (2.1.4)\n",
      "Requirement already satisfied: mpmath>=0.19 in /Users/jernkun/Library/Caches/pypoetry/virtualenvs/zkstats-OJpceffF-py3.11/lib/python3.11/site-packages (from sympy->torch->-r ../../requirements.txt (line 2)) (1.3.0)\n",
      "\n",
      "\u001b[1m[\u001b[0m\u001b[34;49mnotice\u001b[0m\u001b[1;39;49m]\u001b[0m\u001b[39;49m A new release of pip is available: \u001b[0m\u001b[31;49m23.2.1\u001b[0m\u001b[39;49m -> \u001b[0m\u001b[32;49m24.0\u001b[0m\n",
      "\u001b[1m[\u001b[0m\u001b[34;49mnotice\u001b[0m\u001b[1;39;49m]\u001b[0m\u001b[39;49m To update, run: \u001b[0m\u001b[32;49mpip install --upgrade pip\u001b[0m\n",
      "Note: you may need to restart the kernel to use updated packages.\n"
     ]
    }
   ],
   "source": [
    "pip install -r ../../requirements.txt"
   ]
  },
  {
   "cell_type": "code",
   "execution_count": 2,
   "metadata": {},
   "outputs": [],
   "source": [
    "import ezkl\n",
    "import torch\n",
    "from torch import nn\n",
    "import json\n",
    "import os\n",
    "import time\n",
    "import scipy\n",
    "import numpy as np\n",
    "import matplotlib.pyplot as plt\n",
    "import statistics\n",
    "import math"
   ]
  },
  {
   "cell_type": "code",
   "execution_count": 3,
   "metadata": {},
   "outputs": [],
   "source": [
    "from zkstats.core import create_dummy, verifier_define_calculation, prover_gen_settings, setup, prover_gen_proof, verifier_verify, get_data_commitment_maps"
   ]
  },
  {
   "cell_type": "code",
   "execution_count": 4,
   "metadata": {},
   "outputs": [],
   "source": [
    "# init path\n",
    "os.makedirs(os.path.dirname('shared/'), exist_ok=True)\n",
    "os.makedirs(os.path.dirname('prover/'), exist_ok=True)\n",
    "verifier_model_path = os.path.join('shared/verifier.onnx')\n",
    "prover_model_path = os.path.join('prover/prover.onnx')\n",
    "verifier_compiled_model_path = os.path.join('shared/verifier.compiled')\n",
    "prover_compiled_model_path = os.path.join('prover/prover.compiled')\n",
    "pk_path = os.path.join('shared/test.pk')\n",
    "vk_path = os.path.join('shared/test.vk')\n",
    "proof_path = os.path.join('shared/test.pf')\n",
    "settings_path = os.path.join('shared/settings.json')\n",
    "srs_path = os.path.join('shared/kzg.srs')\n",
    "witness_path = os.path.join('prover/witness.json')\n",
    "# this is private to prover since it contains actual data\n",
    "sel_data_path = os.path.join('prover/sel_data.json')\n",
    "# this is just dummy random value\n",
    "sel_dummy_data_path = os.path.join('shared/sel_dummy_data.json')"
   ]
  },
  {
   "attachments": {},
   "cell_type": "markdown",
   "metadata": {},
   "source": [
    "=======================  ZK-STATS FLOW ======================="
   ]
  },
  {
   "cell_type": "code",
   "execution_count": 5,
   "metadata": {},
   "outputs": [],
   "source": [
    "data_path = os.path.join('data.json')\n",
    "dummy_data_path = os.path.join('shared/dummy_data.json')\n",
    "create_dummy(data_path, dummy_data_path)\n"
   ]
  },
  {
   "cell_type": "code",
   "execution_count": 22,
   "metadata": {},
   "outputs": [],
   "source": [
    "scales = [5]\n",
    "selected_columns = ['x1', 'y']\n",
    "commitment_maps = get_data_commitment_maps(data_path, scales)"
   ]
  },
  {
   "cell_type": "code",
   "execution_count": 23,
   "metadata": {},
   "outputs": [],
   "source": [
    "# Verifier/ data consumer side: send desired calculation\n",
    "from zkstats.computation import computation_to_model, State\n",
    "\n",
    "\n",
    "def computation(s: State, data: list[torch.Tensor]) -> torch.Tensor:\n",
    "    x, y = data[0], data[1]\n",
    "    return s.linear_regression(x, y)\n",
    "\n",
    "error = 0.02\n",
    "_, verifier_model = computation_to_model(computation, error)\n",
    "\n",
    "verifier_define_calculation(dummy_data_path, selected_columns, sel_dummy_data_path, verifier_model, verifier_model_path)"
   ]
  },
  {
   "cell_type": "code",
   "execution_count": 24,
   "metadata": {},
   "outputs": [
    {
     "name": "stderr",
     "output_type": "stream",
     "text": [
      "Using 6 columns for non-linearity table.\n",
      "Using 6 columns for non-linearity table.\n",
      "Using 6 columns for non-linearity table.\n",
      "Using 12 columns for non-linearity table.\n",
      "Using 12 columns for non-linearity table.\n",
      "Using 12 columns for non-linearity table.\n",
      "\n",
      "\n",
      " <------------- Numerical Fidelity Report (input_scale: 5, param_scale: 5, scale_input_multiplier: 1) ------------->\n",
      "\n",
      "+-------------+--------------+-------------+-----------+----------------+------------------+---------------+---------------+--------------------+--------------------+------------------------+\n",
      "| mean_error  | median_error | max_error   | min_error | mean_abs_error | median_abs_error | max_abs_error | min_abs_error | mean_squared_error | mean_percent_error | mean_abs_percent_error |\n",
      "+-------------+--------------+-------------+-----------+----------------+------------------+---------------+---------------+--------------------+--------------------+------------------------+\n",
      "| 0.006681005 | 0.0076099634 | 0.012433052 | 0         | 0.006681005    | 0.0076099634     | 0.012433052   | 0             | 0.00007083078      | 0.002049841        | 0.002049841            |\n",
      "+-------------+--------------+-------------+-----------+----------------+------------------+---------------+---------------+--------------------+--------------------+------------------------+\n",
      "\n",
      "\n"
     ]
    },
    {
     "name": "stdout",
     "output_type": "stream",
     "text": [
      "==== Generate & Calibrate Setting ====\n",
      "scale:  [5]\n",
      "setting:  {\"run_args\":{\"tolerance\":{\"val\":0.0,\"scale\":1.0},\"input_scale\":5,\"param_scale\":5,\"scale_rebase_multiplier\":1,\"lookup_range\":[-11984,368458],\"logrows\":19,\"num_inner_cols\":2,\"variables\":[[\"batch_size\",1]],\"input_visibility\":{\"Hashed\":{\"hash_is_public\":true,\"outlets\":[]}},\"output_visibility\":\"Public\",\"param_visibility\":\"Private\",\"div_rebasing\":false,\"rebase_frac_zero_constants\":false,\"check_mode\":\"UNSAFE\"},\"num_rows\":7872,\"total_assignments\":468,\"total_const_size\":17,\"model_instance_shapes\":[[1],[1,2,1]],\"model_output_scales\":[0,5],\"model_input_scales\":[5,5],\"module_sizes\":{\"kzg\":[],\"poseidon\":[7872,[2]]},\"required_lookups\":[{\"GreaterThan\":{\"a\":0.0}},\"Abs\"],\"required_range_checks\":[[-16,16]],\"check_mode\":\"UNSAFE\",\"version\":\"9.1.0\",\"num_blinding_factors\":null,\"timestamp\":1709452000287}\n"
     ]
    }
   ],
   "source": [
    "# Prover/ data owner side\n",
    "_, prover_model = computation_to_model(computation, error)\n",
    "\n",
    "prover_gen_settings(data_path, selected_columns, sel_data_path, prover_model,prover_model_path, scales, \"resources\", settings_path)"
   ]
  },
  {
   "cell_type": "code",
   "execution_count": 25,
   "metadata": {},
   "outputs": [
    {
     "name": "stdout",
     "output_type": "stream",
     "text": [
      "==== setting up ezkl ====\n",
      "Time setup: 57.17967200279236 seconds\n",
      "=======================================\n",
      "==== Generating Witness ====\n",
      "witness boolean:  1.0\n",
      "witness result 1 : 1.5625\n",
      "witness result 2 : 9.53125\n",
      "==== Generating Proof ====\n",
      "proof:  {'instances': [['cdb07195b0e3b568c9d622dde480fb97d8a12b0e4ceb8fbbf155e0cb4c58720a', '81c924e0484c8b03dc1fb951bf90b87c4947f9f6ef4918bcacc3fc687376cf06', '0100000000000000000000000000000000000000000000000000000000000000', '3200000000000000000000000000000000000000000000000000000000000000', '3101000000000000000000000000000000000000000000000000000000000000']], 'proof': '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', 'transcript_type': 'EVM'}\n",
      "Time gen prf: 60.853655099868774 seconds\n"
     ]
    }
   ],
   "source": [
    "# Here verifier & prover can concurrently call setup since all params are public to get pk.\n",
    "# Here write as verifier function to emphasize that verifier must calculate its own vk to be sure\n",
    "setup(verifier_model_path, verifier_compiled_model_path, settings_path,vk_path, pk_path )\n",
    "\n",
    "print(\"=======================================\")\n",
    "# Prover generates proof\n",
    "prover_gen_proof(prover_model_path, sel_data_path, witness_path, prover_compiled_model_path, settings_path, proof_path, pk_path)"
   ]
  },
  {
   "cell_type": "code",
   "execution_count": 26,
   "metadata": {},
   "outputs": [
    {
     "name": "stdout",
     "output_type": "stream",
     "text": [
      "Verifier gets result: [1.5625, 9.53125]\n"
     ]
    }
   ],
   "source": [
    "# Verifier verifies\n",
    "res = verifier_verify(proof_path, settings_path, vk_path, selected_columns, commitment_maps)\n",
    "print(\"Verifier gets result:\", res)"
   ]
  },
  {
   "cell_type": "code",
   "execution_count": null,
   "metadata": {},
   "outputs": [],
   "source": []
  }
 ],
 "metadata": {
  "kernelspec": {
   "display_name": "Python 3",
   "language": "python",
   "name": "python3"
  },
  "language_info": {
   "codemirror_mode": {
    "name": "ipython",
    "version": 3
   },
   "file_extension": ".py",
   "mimetype": "text/x-python",
   "name": "python",
   "nbconvert_exporter": "python",
   "pygments_lexer": "ipython3",
   "version": "3.11.4"
  },
  "orig_nbformat": 4
 },
 "nbformat": 4,
 "nbformat_minor": 2
}
