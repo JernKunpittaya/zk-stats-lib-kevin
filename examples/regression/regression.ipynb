{
 "cells": [
  {
   "cell_type": "code",
   "execution_count": 9,
   "metadata": {},
   "outputs": [
    {
     "name": "stdout",
     "output_type": "stream",
     "text": [
      "Requirement already satisfied: ezkl==5.0.8 in /Library/Frameworks/Python.framework/Versions/3.10/lib/python3.10/site-packages (from -r ../../requirements.txt (line 1)) (5.0.8)\n",
      "Requirement already satisfied: torch in /Library/Frameworks/Python.framework/Versions/3.10/lib/python3.10/site-packages (from -r ../../requirements.txt (line 2)) (2.1.1)\n",
      "Requirement already satisfied: requests in /Library/Frameworks/Python.framework/Versions/3.10/lib/python3.10/site-packages (from -r ../../requirements.txt (line 3)) (2.31.0)\n",
      "Requirement already satisfied: scipy in /Library/Frameworks/Python.framework/Versions/3.10/lib/python3.10/site-packages (from -r ../../requirements.txt (line 4)) (1.11.4)\n",
      "Requirement already satisfied: numpy in /Library/Frameworks/Python.framework/Versions/3.10/lib/python3.10/site-packages (from -r ../../requirements.txt (line 5)) (1.26.2)\n",
      "Requirement already satisfied: matplotlib in /Library/Frameworks/Python.framework/Versions/3.10/lib/python3.10/site-packages (from -r ../../requirements.txt (line 6)) (3.8.2)\n",
      "Requirement already satisfied: statistics in /Library/Frameworks/Python.framework/Versions/3.10/lib/python3.10/site-packages (from -r ../../requirements.txt (line 7)) (1.0.3.5)\n",
      "Requirement already satisfied: onnx in /Library/Frameworks/Python.framework/Versions/3.10/lib/python3.10/site-packages (from -r ../../requirements.txt (line 8)) (1.15.0)\n",
      "Requirement already satisfied: typing-extensions in /Library/Frameworks/Python.framework/Versions/3.10/lib/python3.10/site-packages (from torch->-r ../../requirements.txt (line 2)) (4.8.0)\n",
      "Requirement already satisfied: networkx in /Library/Frameworks/Python.framework/Versions/3.10/lib/python3.10/site-packages (from torch->-r ../../requirements.txt (line 2)) (3.2.1)\n",
      "Requirement already satisfied: jinja2 in /Library/Frameworks/Python.framework/Versions/3.10/lib/python3.10/site-packages (from torch->-r ../../requirements.txt (line 2)) (3.1.2)\n",
      "Requirement already satisfied: sympy in /Library/Frameworks/Python.framework/Versions/3.10/lib/python3.10/site-packages (from torch->-r ../../requirements.txt (line 2)) (1.12)\n",
      "Requirement already satisfied: filelock in /Library/Frameworks/Python.framework/Versions/3.10/lib/python3.10/site-packages (from torch->-r ../../requirements.txt (line 2)) (3.13.1)\n",
      "Requirement already satisfied: fsspec in /Library/Frameworks/Python.framework/Versions/3.10/lib/python3.10/site-packages (from torch->-r ../../requirements.txt (line 2)) (2023.10.0)\n",
      "Requirement already satisfied: urllib3<3,>=1.21.1 in /Library/Frameworks/Python.framework/Versions/3.10/lib/python3.10/site-packages (from requests->-r ../../requirements.txt (line 3)) (2.1.0)\n",
      "Requirement already satisfied: idna<4,>=2.5 in /Library/Frameworks/Python.framework/Versions/3.10/lib/python3.10/site-packages (from requests->-r ../../requirements.txt (line 3)) (3.6)\n",
      "Requirement already satisfied: certifi>=2017.4.17 in /Library/Frameworks/Python.framework/Versions/3.10/lib/python3.10/site-packages (from requests->-r ../../requirements.txt (line 3)) (2023.11.17)\n",
      "Requirement already satisfied: charset-normalizer<4,>=2 in /Library/Frameworks/Python.framework/Versions/3.10/lib/python3.10/site-packages (from requests->-r ../../requirements.txt (line 3)) (3.3.2)\n",
      "Requirement already satisfied: cycler>=0.10 in /Library/Frameworks/Python.framework/Versions/3.10/lib/python3.10/site-packages (from matplotlib->-r ../../requirements.txt (line 6)) (0.12.1)\n",
      "Requirement already satisfied: fonttools>=4.22.0 in /Library/Frameworks/Python.framework/Versions/3.10/lib/python3.10/site-packages (from matplotlib->-r ../../requirements.txt (line 6)) (4.45.1)\n",
      "Requirement already satisfied: pillow>=8 in /Library/Frameworks/Python.framework/Versions/3.10/lib/python3.10/site-packages (from matplotlib->-r ../../requirements.txt (line 6)) (10.1.0)\n",
      "Requirement already satisfied: contourpy>=1.0.1 in /Library/Frameworks/Python.framework/Versions/3.10/lib/python3.10/site-packages (from matplotlib->-r ../../requirements.txt (line 6)) (1.2.0)\n",
      "Requirement already satisfied: kiwisolver>=1.3.1 in /Library/Frameworks/Python.framework/Versions/3.10/lib/python3.10/site-packages (from matplotlib->-r ../../requirements.txt (line 6)) (1.4.5)\n",
      "Requirement already satisfied: python-dateutil>=2.7 in /Users/jernkun/Library/Python/3.10/lib/python/site-packages (from matplotlib->-r ../../requirements.txt (line 6)) (2.8.2)\n",
      "Requirement already satisfied: packaging>=20.0 in /Users/jernkun/Library/Python/3.10/lib/python/site-packages (from matplotlib->-r ../../requirements.txt (line 6)) (23.2)\n",
      "Requirement already satisfied: pyparsing>=2.3.1 in /Library/Frameworks/Python.framework/Versions/3.10/lib/python3.10/site-packages (from matplotlib->-r ../../requirements.txt (line 6)) (3.1.1)\n",
      "Requirement already satisfied: docutils>=0.3 in /Library/Frameworks/Python.framework/Versions/3.10/lib/python3.10/site-packages (from statistics->-r ../../requirements.txt (line 7)) (0.20.1)\n",
      "Requirement already satisfied: protobuf>=3.20.2 in /Library/Frameworks/Python.framework/Versions/3.10/lib/python3.10/site-packages (from onnx->-r ../../requirements.txt (line 8)) (4.25.1)\n",
      "Requirement already satisfied: six>=1.5 in /Users/jernkun/Library/Python/3.10/lib/python/site-packages (from python-dateutil>=2.7->matplotlib->-r ../../requirements.txt (line 6)) (1.16.0)\n",
      "Requirement already satisfied: MarkupSafe>=2.0 in /Library/Frameworks/Python.framework/Versions/3.10/lib/python3.10/site-packages (from jinja2->torch->-r ../../requirements.txt (line 2)) (2.1.3)\n",
      "Requirement already satisfied: mpmath>=0.19 in /Library/Frameworks/Python.framework/Versions/3.10/lib/python3.10/site-packages (from sympy->torch->-r ../../requirements.txt (line 2)) (1.3.0)\n",
      "\u001b[33mWARNING: You are using pip version 21.2.3; however, version 23.3.1 is available.\n",
      "You should consider upgrading via the '/usr/local/bin/python3 -m pip install --upgrade pip' command.\u001b[0m\n",
      "Note: you may need to restart the kernel to use updated packages.\n"
     ]
    }
   ],
   "source": [
    "pip install -r ../../requirements.txt"
   ]
  },
  {
   "cell_type": "code",
   "execution_count": 1,
   "metadata": {},
   "outputs": [],
   "source": [
    "import ezkl\n",
    "import torch\n",
    "from torch import nn\n",
    "import json\n",
    "import os\n",
    "import time\n",
    "import scipy\n",
    "import numpy as np\n",
    "import matplotlib.pyplot as plt\n",
    "import statistics\n",
    "import math"
   ]
  },
  {
   "cell_type": "code",
   "execution_count": 2,
   "metadata": {},
   "outputs": [],
   "source": [
    "%run -i ../../core.py"
   ]
  },
  {
   "cell_type": "code",
   "execution_count": 3,
   "metadata": {},
   "outputs": [],
   "source": [
    "# init path\n",
    "os.makedirs(os.path.dirname('shared/'), exist_ok=True)\n",
    "os.makedirs(os.path.dirname('prover/'), exist_ok=True)\n",
    "verifier_model_path = os.path.join('shared/verifier.onnx')\n",
    "prover_model_path = os.path.join('prover/prover.onnx')\n",
    "verifier_compiled_model_path = os.path.join('shared/verifier.compiled')\n",
    "prover_compiled_model_path = os.path.join('prover/prover.compiled')\n",
    "pk_path = os.path.join('shared/test.pk')\n",
    "vk_path = os.path.join('shared/test.vk')\n",
    "proof_path = os.path.join('shared/test.pf')\n",
    "settings_path = os.path.join('shared/settings.json')\n",
    "srs_path = os.path.join('shared/kzg.srs')\n",
    "witness_path = os.path.join('prover/witness.json')\n",
    "# this is private to prover since it contains actual data\n",
    "comb_data_path = os.path.join('prover/comb_data.json')"
   ]
  },
  {
   "attachments": {},
   "cell_type": "markdown",
   "metadata": {},
   "source": [
    "=======================  ZK-STATS FLOW ======================="
   ]
  },
  {
   "cell_type": "code",
   "execution_count": 4,
   "metadata": {},
   "outputs": [
    {
     "name": "stdout",
     "output_type": "stream",
     "text": [
      "reg fit:  [1.98835287 3.14238058 0.06413647]\n"
     ]
    }
   ],
   "source": [
    "x1_vals_path = os.path.join('x1_vals.json')\n",
    "x2_vals_path = os.path.join('x2_vals.json')\n",
    "dummy_x1_vals_path = os.path.join('shared/dummy_x1_vals.json')\n",
    "dummy_x2_vals_path = os.path.join('shared/dummy_x2_vals.json')\n",
    "\n",
    "x1_vals= np.array(json.loads(open(x1_vals_path, \"r\").read())['input_data'][0])\n",
    "dummy_x1_vals = np.round(np.random.uniform(1,10,len(x1_vals)),1)\n",
    "json.dump({\"input_data\":[dummy_x1_vals.tolist()]}, open(dummy_x1_vals_path, 'w'))\n",
    "\n",
    "x2_vals= np.array(json.loads(open(x2_vals_path, \"r\").read())['input_data'][0])\n",
    "dummy_x2_vals = np.round(np.random.uniform(1,10,len(x2_vals)),1)\n",
    "json.dump({\"input_data\":[dummy_x2_vals.tolist()]}, open(dummy_x2_vals_path, 'w'))\n",
    "\n",
    "\n",
    "y_vals_path = os.path.join('y_vals.json')\n",
    "dummy_y_vals_path = os.path.join('shared/dummy_y_vals.json')\n",
    "\n",
    "y_vals= np.array(json.loads(open(y_vals_path, \"r\").read())['input_data'][0])\n",
    "dummy_y_vals = np.round(np.random.uniform(1,10,len(y_vals)),1)\n",
    "json.dump({\"input_data\":[dummy_y_vals.tolist()]}, open(dummy_y_vals_path, 'w'))\n",
    "\n",
    "\n",
    "def stacked_x(*args):\n",
    "    result = np.column_stack((*args, np.ones_like(args[0])))\n",
    "    return result\n",
    "\n",
    "x_one = stacked_x(x1_vals, x2_vals)\n",
    "dummy_x_one = stacked_x(dummy_x1_vals, dummy_x2_vals)\n",
    "\n",
    "w_vals = np.matmul(np.matmul(np.linalg.inv(np.matmul(x_one.transpose(), x_one)), x_one.transpose()), y_vals)\n",
    "dummy_w_vals = np.matmul(np.matmul(np.linalg.inv(np.matmul(dummy_x_one.transpose(), dummy_x_one)), dummy_x_one.transpose()), dummy_y_vals)\n",
    "\n",
    "print(\"reg fit: \", w_vals)\n",
    "w_tensor = torch.tensor(w_vals).reshape(1,-1,1)\n",
    "dummy_w_tensor = torch.tensor(dummy_w_vals).reshape(1,-1,1)\n"
   ]
  },
  {
   "cell_type": "code",
   "execution_count": 5,
   "metadata": {},
   "outputs": [],
   "source": [
    "# Verifier/ data consumer side:\n",
    "class verifier_model(nn.Module):\n",
    "    def __init__(self):\n",
    "        super(verifier_model, self).__init__()\n",
    "        self.w = nn.Parameter(data = dummy_w_tensor, requires_grad = False)\n",
    "\n",
    "    def forward(self, *args):\n",
    "        # infer Y from the last parameter\n",
    "        Y = args[-1]\n",
    "        X_one = torch.cat((*args[:-1], torch.ones_like(args[0][:, :, -1:])), dim=2)\n",
    "        X_T = torch.transpose(X_one, 1, 2)\n",
    "        return (\n",
    "            torch.sum(torch.abs(X_T @ X_one @ self.w - X_T @ Y)) <= 0.01 * torch.sum(torch.abs(X_T @ Y)),\n",
    "            self.w\n",
    "        )\n",
    "    \n",
    "\n",
    "verifier_define_calculation(verifier_model, verifier_model_path, [dummy_x1_vals_path, dummy_x2_vals_path, dummy_y_vals_path])"
   ]
  },
  {
   "cell_type": "code",
   "execution_count": 6,
   "metadata": {},
   "outputs": [
    {
     "name": "stdout",
     "output_type": "stream",
     "text": [
      "Theory output:  tensor([[[1.9884],\n",
      "         [3.1424],\n",
      "         [0.0641]]], dtype=torch.float64)\n",
      "==== Generate & Calibrate Setting ====\n",
      "scale:  [0]\n",
      "setting:  {\"run_args\":{\"tolerance\":{\"val\":0.0,\"scale\":1.0},\"input_scale\":0,\"param_scale\":0,\"scale_rebase_multiplier\":10,\"lookup_range\":[-23296,18300],\"logrows\":16,\"num_inner_cols\":2,\"variables\":[[\"batch_size\",1]],\"input_visibility\":{\"Hashed\":{\"hash_is_public\":true,\"outlets\":[]}},\"output_visibility\":\"Public\",\"param_visibility\":\"Private\"},\"num_rows\":11808,\"total_assignments\":794,\"total_const_size\":13,\"model_instance_shapes\":[[1],[1,3,1]],\"model_output_scales\":[0,0],\"model_input_scales\":[0,0,0],\"module_sizes\":{\"kzg\":[],\"poseidon\":[11808,[3]],\"elgamal\":[0,[0]]},\"required_lookups\":[\"Abs\",{\"Div\":{\"denom\":100.0}},{\"GreaterThan\":{\"a\":0.0}}],\"check_mode\":\"UNSAFE\",\"version\":\"5.4.2\",\"num_blinding_factors\":null}\n"
     ]
    }
   ],
   "source": [
    "# prover calculates settings, send to verifier\n",
    "\n",
    "theory_output = w_tensor\n",
    "print(\"Theory output: \", theory_output)\n",
    "class prover_model(nn.Module):\n",
    "    def __init__(self):\n",
    "        super(prover_model, self).__init__()\n",
    "        self.w = nn.Parameter(data = w_tensor, requires_grad = False)\n",
    "\n",
    "    def forward(self, *args):\n",
    "        # infer Y from the last parameter\n",
    "        Y = args[-1]\n",
    "        X_one = torch.cat((*args[:-1], torch.ones_like(args[0][:, :, -1:])), dim=2)\n",
    "        X_T = torch.transpose(X_one, 1, 2)\n",
    "        return (\n",
    "            torch.sum(torch.abs(X_T @ X_one @ self.w - X_T @ Y)) <= 0.01 * torch.sum(torch.abs(X_T @ Y)),\n",
    "            self.w\n",
    "        )\n",
    "# try scale = [3] for more accuracy\n",
    "prover_gen_settings([x1_vals_path, x2_vals_path, y_vals_path], comb_data_path, prover_model,prover_model_path, [0], \"resources\", settings_path)"
   ]
  },
  {
   "cell_type": "code",
   "execution_count": 7,
   "metadata": {},
   "outputs": [
    {
     "name": "stderr",
     "output_type": "stream",
     "text": [
      "spawning module 0\n",
      "spawning module 2\n"
     ]
    },
    {
     "name": "stdout",
     "output_type": "stream",
     "text": [
      "==== setting up ezkl ====\n"
     ]
    },
    {
     "name": "stderr",
     "output_type": "stream",
     "text": [
      "spawning module 0\n",
      "spawning module 2\n"
     ]
    },
    {
     "name": "stdout",
     "output_type": "stream",
     "text": [
      "Time setup: 9.344501972198486 seconds\n",
      "=======================================\n",
      "Theory output:  tensor([[[1.9884],\n",
      "         [3.1424],\n",
      "         [0.0641]]], dtype=torch.float64)\n",
      "==== Generating Witness ====\n",
      "witness boolean:  1.0\n",
      "witness result 1 : 2.0\n",
      "witness result 2 : 3.0\n",
      "witness result 3 : 0.0\n",
      "==== Generating Proof ====\n"
     ]
    },
    {
     "name": "stderr",
     "output_type": "stream",
     "text": [
      "spawning module 0\n",
      "spawning module 2\n"
     ]
    },
    {
     "name": "stdout",
     "output_type": "stream",
     "text": [
      "proof:  {'instances': [[[6145674602038562713, 11796601694033167407, 3132644448460071153, 1431119980703310933], [17187590983289934876, 11857991285122296962, 971807162298867662, 379283799527326290], [3957842973089931008, 9845595232537184463, 786695466761881781, 2995319695946854765], [12436184717236109307, 3962172157175319849, 7381016538464732718, 1011752739694698287], [6425625360762666998, 7924344314350639699, 14762033076929465436, 2023505479389396574], [415066004289224689, 11886516471525959549, 3696305541684646538, 3035258219084094862], [0, 0, 0, 0]]], 'proof': '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', 'transcript_type': 'EVM'}\n",
      "Time gen prf: 11.172008991241455 seconds\n"
     ]
    }
   ],
   "source": [
    "# Here verifier & prover can concurrently call setup since all params are public to get pk. \n",
    "# Here write as verifier function to emphasize that verifier must calculate its own vk to be sure\n",
    "verifier_setup(verifier_model_path, verifier_compiled_model_path, settings_path, srs_path,vk_path, pk_path )\n",
    "\n",
    "print(\"=======================================\")\n",
    "# Prover generates proof\n",
    "print(\"Theory output: \", theory_output)\n",
    "prover_gen_proof(prover_model_path, comb_data_path, witness_path, prover_compiled_model_path, settings_path, proof_path, pk_path, srs_path)"
   ]
  },
  {
   "cell_type": "code",
   "execution_count": 8,
   "metadata": {},
   "outputs": [
    {
     "name": "stdout",
     "output_type": "stream",
     "text": [
      "num_inputs:  3\n",
      "prf instances:  [[[6145674602038562713, 11796601694033167407, 3132644448460071153, 1431119980703310933], [17187590983289934876, 11857991285122296962, 971807162298867662, 379283799527326290], [3957842973089931008, 9845595232537184463, 786695466761881781, 2995319695946854765], [12436184717236109307, 3962172157175319849, 7381016538464732718, 1011752739694698287], [6425625360762666998, 7924344314350639699, 14762033076929465436, 2023505479389396574], [415066004289224689, 11886516471525959549, 3696305541684646538, 3035258219084094862], [0, 0, 0, 0]]]\n",
      "proof boolean:  1.0\n",
      "proof result 1 : 2.0\n",
      "proof result 2 : 3.0\n",
      "proof result 3 : 0.0\n",
      "verified\n"
     ]
    }
   ],
   "source": [
    "verifier_verify(proof_path, settings_path, vk_path, srs_path)"
   ]
  },
  {
   "cell_type": "code",
   "execution_count": null,
   "metadata": {},
   "outputs": [],
   "source": []
  }
 ],
 "metadata": {
  "kernelspec": {
   "display_name": "Python 3",
   "language": "python",
   "name": "python3"
  },
  "language_info": {
   "codemirror_mode": {
    "name": "ipython",
    "version": 3
   },
   "file_extension": ".py",
   "mimetype": "text/x-python",
   "name": "python",
   "nbconvert_exporter": "python",
   "pygments_lexer": "ipython3",
   "version": "3.10.0"
  },
  "orig_nbformat": 4
 },
 "nbformat": 4,
 "nbformat_minor": 2
}
