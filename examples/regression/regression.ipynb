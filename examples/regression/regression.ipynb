{
 "cells": [
  {
   "cell_type": "code",
   "execution_count": 9,
   "metadata": {},
   "outputs": [
    {
     "name": "stdout",
     "output_type": "stream",
     "text": [
      "Requirement already satisfied: ezkl==5.0.8 in /Library/Frameworks/Python.framework/Versions/3.10/lib/python3.10/site-packages (from -r ../../requirements.txt (line 1)) (5.0.8)\n",
      "Requirement already satisfied: torch in /Library/Frameworks/Python.framework/Versions/3.10/lib/python3.10/site-packages (from -r ../../requirements.txt (line 2)) (2.1.1)\n",
      "Requirement already satisfied: requests in /Library/Frameworks/Python.framework/Versions/3.10/lib/python3.10/site-packages (from -r ../../requirements.txt (line 3)) (2.31.0)\n",
      "Requirement already satisfied: scipy in /Library/Frameworks/Python.framework/Versions/3.10/lib/python3.10/site-packages (from -r ../../requirements.txt (line 4)) (1.11.4)\n",
      "Requirement already satisfied: numpy in /Library/Frameworks/Python.framework/Versions/3.10/lib/python3.10/site-packages (from -r ../../requirements.txt (line 5)) (1.26.2)\n",
      "Requirement already satisfied: matplotlib in /Library/Frameworks/Python.framework/Versions/3.10/lib/python3.10/site-packages (from -r ../../requirements.txt (line 6)) (3.8.2)\n",
      "Requirement already satisfied: statistics in /Library/Frameworks/Python.framework/Versions/3.10/lib/python3.10/site-packages (from -r ../../requirements.txt (line 7)) (1.0.3.5)\n",
      "Requirement already satisfied: onnx in /Library/Frameworks/Python.framework/Versions/3.10/lib/python3.10/site-packages (from -r ../../requirements.txt (line 8)) (1.15.0)\n",
      "Requirement already satisfied: typing-extensions in /Library/Frameworks/Python.framework/Versions/3.10/lib/python3.10/site-packages (from torch->-r ../../requirements.txt (line 2)) (4.8.0)\n",
      "Requirement already satisfied: networkx in /Library/Frameworks/Python.framework/Versions/3.10/lib/python3.10/site-packages (from torch->-r ../../requirements.txt (line 2)) (3.2.1)\n",
      "Requirement already satisfied: jinja2 in /Library/Frameworks/Python.framework/Versions/3.10/lib/python3.10/site-packages (from torch->-r ../../requirements.txt (line 2)) (3.1.2)\n",
      "Requirement already satisfied: sympy in /Library/Frameworks/Python.framework/Versions/3.10/lib/python3.10/site-packages (from torch->-r ../../requirements.txt (line 2)) (1.12)\n",
      "Requirement already satisfied: filelock in /Library/Frameworks/Python.framework/Versions/3.10/lib/python3.10/site-packages (from torch->-r ../../requirements.txt (line 2)) (3.13.1)\n",
      "Requirement already satisfied: fsspec in /Library/Frameworks/Python.framework/Versions/3.10/lib/python3.10/site-packages (from torch->-r ../../requirements.txt (line 2)) (2023.10.0)\n",
      "Requirement already satisfied: urllib3<3,>=1.21.1 in /Library/Frameworks/Python.framework/Versions/3.10/lib/python3.10/site-packages (from requests->-r ../../requirements.txt (line 3)) (2.1.0)\n",
      "Requirement already satisfied: idna<4,>=2.5 in /Library/Frameworks/Python.framework/Versions/3.10/lib/python3.10/site-packages (from requests->-r ../../requirements.txt (line 3)) (3.6)\n",
      "Requirement already satisfied: certifi>=2017.4.17 in /Library/Frameworks/Python.framework/Versions/3.10/lib/python3.10/site-packages (from requests->-r ../../requirements.txt (line 3)) (2023.11.17)\n",
      "Requirement already satisfied: charset-normalizer<4,>=2 in /Library/Frameworks/Python.framework/Versions/3.10/lib/python3.10/site-packages (from requests->-r ../../requirements.txt (line 3)) (3.3.2)\n",
      "Requirement already satisfied: cycler>=0.10 in /Library/Frameworks/Python.framework/Versions/3.10/lib/python3.10/site-packages (from matplotlib->-r ../../requirements.txt (line 6)) (0.12.1)\n",
      "Requirement already satisfied: fonttools>=4.22.0 in /Library/Frameworks/Python.framework/Versions/3.10/lib/python3.10/site-packages (from matplotlib->-r ../../requirements.txt (line 6)) (4.45.1)\n",
      "Requirement already satisfied: pillow>=8 in /Library/Frameworks/Python.framework/Versions/3.10/lib/python3.10/site-packages (from matplotlib->-r ../../requirements.txt (line 6)) (10.1.0)\n",
      "Requirement already satisfied: contourpy>=1.0.1 in /Library/Frameworks/Python.framework/Versions/3.10/lib/python3.10/site-packages (from matplotlib->-r ../../requirements.txt (line 6)) (1.2.0)\n",
      "Requirement already satisfied: kiwisolver>=1.3.1 in /Library/Frameworks/Python.framework/Versions/3.10/lib/python3.10/site-packages (from matplotlib->-r ../../requirements.txt (line 6)) (1.4.5)\n",
      "Requirement already satisfied: python-dateutil>=2.7 in /Users/jernkun/Library/Python/3.10/lib/python/site-packages (from matplotlib->-r ../../requirements.txt (line 6)) (2.8.2)\n",
      "Requirement already satisfied: packaging>=20.0 in /Users/jernkun/Library/Python/3.10/lib/python/site-packages (from matplotlib->-r ../../requirements.txt (line 6)) (23.2)\n",
      "Requirement already satisfied: pyparsing>=2.3.1 in /Library/Frameworks/Python.framework/Versions/3.10/lib/python3.10/site-packages (from matplotlib->-r ../../requirements.txt (line 6)) (3.1.1)\n",
      "Requirement already satisfied: docutils>=0.3 in /Library/Frameworks/Python.framework/Versions/3.10/lib/python3.10/site-packages (from statistics->-r ../../requirements.txt (line 7)) (0.20.1)\n",
      "Requirement already satisfied: protobuf>=3.20.2 in /Library/Frameworks/Python.framework/Versions/3.10/lib/python3.10/site-packages (from onnx->-r ../../requirements.txt (line 8)) (4.25.1)\n",
      "Requirement already satisfied: six>=1.5 in /Users/jernkun/Library/Python/3.10/lib/python/site-packages (from python-dateutil>=2.7->matplotlib->-r ../../requirements.txt (line 6)) (1.16.0)\n",
      "Requirement already satisfied: MarkupSafe>=2.0 in /Library/Frameworks/Python.framework/Versions/3.10/lib/python3.10/site-packages (from jinja2->torch->-r ../../requirements.txt (line 2)) (2.1.3)\n",
      "Requirement already satisfied: mpmath>=0.19 in /Library/Frameworks/Python.framework/Versions/3.10/lib/python3.10/site-packages (from sympy->torch->-r ../../requirements.txt (line 2)) (1.3.0)\n",
      "\u001b[33mWARNING: You are using pip version 21.2.3; however, version 23.3.1 is available.\n",
      "You should consider upgrading via the '/usr/local/bin/python3 -m pip install --upgrade pip' command.\u001b[0m\n",
      "Note: you may need to restart the kernel to use updated packages.\n"
     ]
    }
   ],
   "source": [
    "pip install -r ../../requirements.txt"
   ]
  },
  {
   "cell_type": "code",
   "execution_count": 44,
   "metadata": {},
   "outputs": [],
   "source": [
    "import ezkl\n",
    "import torch\n",
    "from torch import nn\n",
    "import json\n",
    "import os\n",
    "import time\n",
    "import scipy\n",
    "import numpy as np\n",
    "import matplotlib.pyplot as plt\n",
    "import statistics\n",
    "import math"
   ]
  },
  {
   "cell_type": "code",
   "execution_count": 45,
   "metadata": {},
   "outputs": [],
   "source": [
    "%run -i ../../core.py"
   ]
  },
  {
   "cell_type": "code",
   "execution_count": 46,
   "metadata": {},
   "outputs": [],
   "source": [
    "# init path\n",
    "os.makedirs(os.path.dirname('shared/'), exist_ok=True)\n",
    "os.makedirs(os.path.dirname('prover/'), exist_ok=True)\n",
    "verifier_model_path = os.path.join('shared/verifier.onnx')\n",
    "prover_model_path = os.path.join('prover/prover.onnx')\n",
    "verifier_compiled_model_path = os.path.join('shared/verifier.compiled')\n",
    "prover_compiled_model_path = os.path.join('prover/prover.compiled')\n",
    "pk_path = os.path.join('shared/test.pk')\n",
    "vk_path = os.path.join('shared/test.vk')\n",
    "proof_path = os.path.join('shared/test.pf')\n",
    "settings_path = os.path.join('shared/settings.json')\n",
    "srs_path = os.path.join('shared/kzg.srs')\n",
    "witness_path = os.path.join('prover/witness.json')\n",
    "# this is private to prover since it contains actual data\n",
    "comb_data_path = os.path.join('prover/comb_data.json')"
   ]
  },
  {
   "attachments": {},
   "cell_type": "markdown",
   "metadata": {},
   "source": [
    "=======================  ZK-STATS FLOW ======================="
   ]
  },
  {
   "cell_type": "code",
   "execution_count": 47,
   "metadata": {},
   "outputs": [
    {
     "name": "stdout",
     "output_type": "stream",
     "text": [
      "reg fit:  [1.98835287 3.14238058 0.06413647]\n"
     ]
    }
   ],
   "source": [
    "x1_vals_path = os.path.join('x1_vals.json')\n",
    "x2_vals_path = os.path.join('x2_vals.json')\n",
    "dummy_x1_vals_path = os.path.join('shared/dummy_x1_vals.json')\n",
    "dummy_x2_vals_path = os.path.join('shared/dummy_x2_vals.json')\n",
    "\n",
    "x1_vals= np.array(json.loads(open(x1_vals_path, \"r\").read())['input_data'][0])\n",
    "dummy_x1_vals = np.random.uniform(min(x1_vals), max(x1_vals), len(x1_vals))\n",
    "json.dump({\"input_data\":[dummy_x1_vals.tolist()]}, open(dummy_x1_vals_path, 'w'))\n",
    "\n",
    "x2_vals= np.array(json.loads(open(x2_vals_path, \"r\").read())['input_data'][0])\n",
    "dummy_x2_vals = np.random.uniform(min(x2_vals), max(x2_vals), len(x2_vals))\n",
    "json.dump({\"input_data\":[dummy_x2_vals.tolist()]}, open(dummy_x2_vals_path, 'w'))\n",
    "\n",
    "\n",
    "y_vals_path = os.path.join('y_vals.json')\n",
    "dummy_y_vals_path = os.path.join('shared/dummy_y_vals.json')\n",
    "\n",
    "y_vals= np.array(json.loads(open(y_vals_path, \"r\").read())['input_data'][0])\n",
    "dummy_y_vals = np.random.uniform(min(y_vals), max(y_vals), len(y_vals))\n",
    "json.dump({\"input_data\":[dummy_y_vals.tolist()]}, open(dummy_y_vals_path, 'w'))\n",
    "\n",
    "\n",
    "def stacked_x(*args):\n",
    "    result = np.column_stack((*args, np.ones_like(args[0])))\n",
    "    return result\n",
    "\n",
    "x_one = stacked_x(x1_vals, x2_vals)\n",
    "dummy_x_one = stacked_x(dummy_x1_vals, dummy_x2_vals)\n",
    "\n",
    "w_vals = np.matmul(np.matmul(np.linalg.inv(np.matmul(x_one.transpose(), x_one)), x_one.transpose()), y_vals)\n",
    "dummy_w_vals = np.matmul(np.matmul(np.linalg.inv(np.matmul(dummy_x_one.transpose(), dummy_x_one)), dummy_x_one.transpose()), dummy_y_vals)\n",
    "\n",
    "print(\"reg fit: \", w_vals)\n",
    "w_tensor = torch.reshape(torch.tensor(w_vals), (1,3,1))\n",
    "dummy_w_tensor = torch.reshape(torch.tensor(dummy_w_vals), (1,3,1))\n"
   ]
  },
  {
   "cell_type": "code",
   "execution_count": 48,
   "metadata": {},
   "outputs": [],
   "source": [
    "# Verifier/ data consumer side:\n",
    "class verifier_model(nn.Module):\n",
    "    def __init__(self):\n",
    "        super(verifier_model, self).__init__()\n",
    "        self.w = nn.Parameter(data = dummy_w_tensor, requires_grad = False)\n",
    "\n",
    "    def forward(self, *args):\n",
    "        # infer Y from the last parameter\n",
    "        Y = args[-1]\n",
    "        X_one = torch.cat((*args[:-1], torch.ones_like(args[0][:, :, -1:])), dim=2)\n",
    "        X_T = torch.transpose(X_one, 1, 2)\n",
    "        # some expression of tolerance to error in the inference\n",
    "        return (\n",
    "            torch.sum(torch.abs(X_T @ X_one @ self.w.to('cpu') - X_T @ Y)) < 0.01 * torch.sum(X_T @ Y),\n",
    "            self.w.to('cpu')\n",
    "        )\n",
    "    \n",
    "\n",
    "verifier_define_calculation(verifier_model, verifier_model_path, [dummy_x1_vals_path, dummy_x2_vals_path, dummy_y_vals_path])"
   ]
  },
  {
   "cell_type": "code",
   "execution_count": 54,
   "metadata": {},
   "outputs": [
    {
     "name": "stdout",
     "output_type": "stream",
     "text": [
      "Theory output:  tensor([[[1.9884],\n",
      "         [3.1424],\n",
      "         [0.0641]]], dtype=torch.float64)\n",
      "==== Generate & Calibrate Setting ====\n",
      "scale:  [3]\n",
      "setting:  {\"run_args\":{\"tolerance\":{\"val\":0.0,\"scale\":1.0},\"input_scale\":3,\"param_scale\":3,\"scale_rebase_multiplier\":1,\"lookup_range\":[0,742824],\"logrows\":20,\"num_inner_cols\":1,\"variables\":[[\"batch_size\",1]],\"input_visibility\":{\"Hashed\":{\"hash_is_public\":true,\"outlets\":[]}},\"output_visibility\":\"Public\",\"param_visibility\":\"Private\"},\"num_rows\":11808,\"total_assignments\":795,\"total_const_size\":0,\"model_instance_shapes\":[[1],[1,3,1]],\"model_output_scales\":[0,3],\"model_input_scales\":[3,3,3],\"module_sizes\":{\"kzg\":[],\"poseidon\":[11808,[3]],\"elgamal\":[0,[0]]},\"required_lookups\":[\"Abs\",{\"Div\":{\"denom\":8.0}},{\"Div\":{\"denom\":100.0}},{\"GreaterThan\":{\"a\":0.0}}],\"check_mode\":\"UNSAFE\",\"version\":\"5.0.8\",\"num_blinding_factors\":null}\n"
     ]
    }
   ],
   "source": [
    "# prover calculates settings, send to verifier\n",
    "\n",
    "theory_output = w_tensor\n",
    "print(\"Theory output: \", theory_output)\n",
    "class prover_model(nn.Module):\n",
    "    def __init__(self):\n",
    "        super(prover_model, self).__init__()\n",
    "        self.w = nn.Parameter(data = w_tensor, requires_grad = False)\n",
    "\n",
    "    def forward(self, *args):\n",
    "        # infer Y from the last parameter\n",
    "        Y = args[-1]\n",
    "        X_one = torch.cat((*args[:-1], torch.ones_like(args[0][:, :, -1:])), dim=2)\n",
    "        X_T = torch.transpose(X_one, 1, 2)\n",
    "        # some expression of tolerance to error in the inference\n",
    "        return (\n",
    "            torch.sum(torch.abs(X_T @ X_one @ self.w.to('cpu') - X_T @ Y)) < 0.01 * torch.sum(X_T @ Y),\n",
    "            self.w.to('cpu')\n",
    "        )\n",
    "\n",
    "prover_gen_settings([x1_vals_path, x2_vals_path, y_vals_path], comb_data_path, prover_model,prover_model_path, [3], \"resources\", settings_path)"
   ]
  },
  {
   "cell_type": "code",
   "execution_count": 55,
   "metadata": {},
   "outputs": [
    {
     "name": "stderr",
     "output_type": "stream",
     "text": [
      "spawning module 0\n",
      "spawning module 2\n"
     ]
    },
    {
     "name": "stdout",
     "output_type": "stream",
     "text": [
      "==== setting up ezkl ====\n"
     ]
    },
    {
     "name": "stderr",
     "output_type": "stream",
     "text": [
      "spawning module 0\n",
      "spawning module 2\n"
     ]
    },
    {
     "name": "stdout",
     "output_type": "stream",
     "text": [
      "Time setup: 107.16260099411011 seconds\n",
      "=======================================\n",
      "Theory output:  tensor([[[1.9884],\n",
      "         [3.1424],\n",
      "         [0.0641]]], dtype=torch.float64)\n",
      "==== Generating Witness ====\n",
      "witness boolean:  1.0\n",
      "witness result 1 : 2.0\n",
      "witness result 2 : 3.125\n",
      "witness result 3 : 0.125\n",
      "==== Generating Proof ====\n"
     ]
    },
    {
     "name": "stderr",
     "output_type": "stream",
     "text": [
      "spawning module 0\n",
      "spawning module 2\n"
     ]
    },
    {
     "name": "stdout",
     "output_type": "stream",
     "text": [
      "proof:  {'instances': [[[13372645934914757851, 4179548409246906955, 7308753190278705352, 585334253871252673], [14296875065875978922, 10817153402807448554, 16646795345921275234, 1848850777343635446], [11033437535517255964, 15518297366369924990, 13029218448037200835, 1837434524902037587], [12436184717236109307, 3962172157175319849, 7381016538464732718, 1011752739694698287], [13392416068245389228, 14913608834158628949, 9631264589208289646, 2240050767903289935], [18409976096712818556, 4988926951396865304, 17770093507857248247, 884830624746662524], [12436184717236109307, 3962172157175319849, 7381016538464732718, 1011752739694698287]]], 'proof': '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', 'transcript_type': 'EVM'}\n",
      "Time gen prf: 142.48074984550476 seconds\n"
     ]
    }
   ],
   "source": [
    "# Here verifier & prover can concurrently call setup since all params are public to get pk. \n",
    "# Here write as verifier function to emphasize that verifier must calculate its own vk to be sure\n",
    "verifier_setup(verifier_model_path, verifier_compiled_model_path, settings_path, srs_path,vk_path, pk_path )\n",
    "\n",
    "print(\"=======================================\")\n",
    "# Prover generates proof\n",
    "print(\"Theory output: \", theory_output)\n",
    "prover_gen_proof(prover_model_path, comb_data_path, witness_path, prover_compiled_model_path, settings_path, proof_path, pk_path, srs_path)"
   ]
  },
  {
   "cell_type": "code",
   "execution_count": 56,
   "metadata": {},
   "outputs": [
    {
     "name": "stdout",
     "output_type": "stream",
     "text": [
      "num_inputs:  3\n",
      "prf instances:  [[[13372645934914757851, 4179548409246906955, 7308753190278705352, 585334253871252673], [14296875065875978922, 10817153402807448554, 16646795345921275234, 1848850777343635446], [11033437535517255964, 15518297366369924990, 13029218448037200835, 1837434524902037587], [12436184717236109307, 3962172157175319849, 7381016538464732718, 1011752739694698287], [13392416068245389228, 14913608834158628949, 9631264589208289646, 2240050767903289935], [18409976096712818556, 4988926951396865304, 17770093507857248247, 884830624746662524], [12436184717236109307, 3962172157175319849, 7381016538464732718, 1011752739694698287]]]\n",
      "proof boolean:  1.0\n",
      "proof result 1 : 2.0\n",
      "proof result 2 : 3.125\n",
      "proof result 3 : 0.125\n",
      "verified\n"
     ]
    }
   ],
   "source": [
    "verifier_verify(proof_path, settings_path, vk_path, srs_path)"
   ]
  },
  {
   "cell_type": "code",
   "execution_count": null,
   "metadata": {},
   "outputs": [],
   "source": []
  }
 ],
 "metadata": {
  "kernelspec": {
   "display_name": "Python 3",
   "language": "python",
   "name": "python3"
  },
  "language_info": {
   "codemirror_mode": {
    "name": "ipython",
    "version": 3
   },
   "file_extension": ".py",
   "mimetype": "text/x-python",
   "name": "python",
   "nbconvert_exporter": "python",
   "pygments_lexer": "ipython3",
   "version": "3.10.0"
  },
  "orig_nbformat": 4
 },
 "nbformat": 4,
 "nbformat_minor": 2
}
