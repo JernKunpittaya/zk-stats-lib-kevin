{
 "cells": [
  {
   "cell_type": "code",
   "execution_count": 1,
   "metadata": {},
   "outputs": [
    {
     "name": "stdout",
     "output_type": "stream",
     "text": [
      "Requirement already satisfied: ezkl==7.0.0 in /Users/mhchia/Library/Caches/pypoetry/virtualenvs/zkstats-brXmXluj-py3.12/lib/python3.12/site-packages (from -r ../../requirements.txt (line 1)) (7.0.0)\n",
      "Requirement already satisfied: torch in /Users/mhchia/Library/Caches/pypoetry/virtualenvs/zkstats-brXmXluj-py3.12/lib/python3.12/site-packages (from -r ../../requirements.txt (line 2)) (2.2.0)\n",
      "Requirement already satisfied: requests in /Users/mhchia/Library/Caches/pypoetry/virtualenvs/zkstats-brXmXluj-py3.12/lib/python3.12/site-packages (from -r ../../requirements.txt (line 3)) (2.31.0)\n",
      "Requirement already satisfied: scipy in /Users/mhchia/Library/Caches/pypoetry/virtualenvs/zkstats-brXmXluj-py3.12/lib/python3.12/site-packages (from -r ../../requirements.txt (line 4)) (1.12.0)\n",
      "Requirement already satisfied: numpy in /Users/mhchia/Library/Caches/pypoetry/virtualenvs/zkstats-brXmXluj-py3.12/lib/python3.12/site-packages (from -r ../../requirements.txt (line 5)) (1.26.3)\n",
      "Requirement already satisfied: matplotlib in /Users/mhchia/Library/Caches/pypoetry/virtualenvs/zkstats-brXmXluj-py3.12/lib/python3.12/site-packages (from -r ../../requirements.txt (line 6)) (3.8.2)\n",
      "Requirement already satisfied: statistics in /Users/mhchia/Library/Caches/pypoetry/virtualenvs/zkstats-brXmXluj-py3.12/lib/python3.12/site-packages (from -r ../../requirements.txt (line 7)) (1.0.3.5)\n",
      "Requirement already satisfied: onnx in /Users/mhchia/Library/Caches/pypoetry/virtualenvs/zkstats-brXmXluj-py3.12/lib/python3.12/site-packages (from -r ../../requirements.txt (line 8)) (1.15.0)\n",
      "Requirement already satisfied: filelock in /Users/mhchia/Library/Caches/pypoetry/virtualenvs/zkstats-brXmXluj-py3.12/lib/python3.12/site-packages (from torch->-r ../../requirements.txt (line 2)) (3.13.1)\n",
      "Requirement already satisfied: typing-extensions>=4.8.0 in /Users/mhchia/Library/Caches/pypoetry/virtualenvs/zkstats-brXmXluj-py3.12/lib/python3.12/site-packages (from torch->-r ../../requirements.txt (line 2)) (4.9.0)\n",
      "Requirement already satisfied: sympy in /Users/mhchia/Library/Caches/pypoetry/virtualenvs/zkstats-brXmXluj-py3.12/lib/python3.12/site-packages (from torch->-r ../../requirements.txt (line 2)) (1.12)\n",
      "Requirement already satisfied: networkx in /Users/mhchia/Library/Caches/pypoetry/virtualenvs/zkstats-brXmXluj-py3.12/lib/python3.12/site-packages (from torch->-r ../../requirements.txt (line 2)) (3.2.1)\n",
      "Requirement already satisfied: jinja2 in /Users/mhchia/Library/Caches/pypoetry/virtualenvs/zkstats-brXmXluj-py3.12/lib/python3.12/site-packages (from torch->-r ../../requirements.txt (line 2)) (3.1.3)\n",
      "Requirement already satisfied: fsspec in /Users/mhchia/Library/Caches/pypoetry/virtualenvs/zkstats-brXmXluj-py3.12/lib/python3.12/site-packages (from torch->-r ../../requirements.txt (line 2)) (2023.12.2)\n",
      "Requirement already satisfied: charset-normalizer<4,>=2 in /Users/mhchia/Library/Caches/pypoetry/virtualenvs/zkstats-brXmXluj-py3.12/lib/python3.12/site-packages (from requests->-r ../../requirements.txt (line 3)) (3.3.2)\n",
      "Requirement already satisfied: idna<4,>=2.5 in /Users/mhchia/Library/Caches/pypoetry/virtualenvs/zkstats-brXmXluj-py3.12/lib/python3.12/site-packages (from requests->-r ../../requirements.txt (line 3)) (3.6)\n",
      "Requirement already satisfied: urllib3<3,>=1.21.1 in /Users/mhchia/Library/Caches/pypoetry/virtualenvs/zkstats-brXmXluj-py3.12/lib/python3.12/site-packages (from requests->-r ../../requirements.txt (line 3)) (2.2.0)\n",
      "Requirement already satisfied: certifi>=2017.4.17 in /Users/mhchia/Library/Caches/pypoetry/virtualenvs/zkstats-brXmXluj-py3.12/lib/python3.12/site-packages (from requests->-r ../../requirements.txt (line 3)) (2024.2.2)\n",
      "Requirement already satisfied: contourpy>=1.0.1 in /Users/mhchia/Library/Caches/pypoetry/virtualenvs/zkstats-brXmXluj-py3.12/lib/python3.12/site-packages (from matplotlib->-r ../../requirements.txt (line 6)) (1.2.0)\n",
      "Requirement already satisfied: cycler>=0.10 in /Users/mhchia/Library/Caches/pypoetry/virtualenvs/zkstats-brXmXluj-py3.12/lib/python3.12/site-packages (from matplotlib->-r ../../requirements.txt (line 6)) (0.12.1)\n",
      "Requirement already satisfied: fonttools>=4.22.0 in /Users/mhchia/Library/Caches/pypoetry/virtualenvs/zkstats-brXmXluj-py3.12/lib/python3.12/site-packages (from matplotlib->-r ../../requirements.txt (line 6)) (4.47.2)\n",
      "Requirement already satisfied: kiwisolver>=1.3.1 in /Users/mhchia/Library/Caches/pypoetry/virtualenvs/zkstats-brXmXluj-py3.12/lib/python3.12/site-packages (from matplotlib->-r ../../requirements.txt (line 6)) (1.4.5)\n",
      "Requirement already satisfied: packaging>=20.0 in /Users/mhchia/Library/Caches/pypoetry/virtualenvs/zkstats-brXmXluj-py3.12/lib/python3.12/site-packages (from matplotlib->-r ../../requirements.txt (line 6)) (23.2)\n",
      "Requirement already satisfied: pillow>=8 in /Users/mhchia/Library/Caches/pypoetry/virtualenvs/zkstats-brXmXluj-py3.12/lib/python3.12/site-packages (from matplotlib->-r ../../requirements.txt (line 6)) (10.2.0)\n",
      "Requirement already satisfied: pyparsing>=2.3.1 in /Users/mhchia/Library/Caches/pypoetry/virtualenvs/zkstats-brXmXluj-py3.12/lib/python3.12/site-packages (from matplotlib->-r ../../requirements.txt (line 6)) (3.1.1)\n",
      "Requirement already satisfied: python-dateutil>=2.7 in /Users/mhchia/Library/Caches/pypoetry/virtualenvs/zkstats-brXmXluj-py3.12/lib/python3.12/site-packages (from matplotlib->-r ../../requirements.txt (line 6)) (2.8.2)\n",
      "Requirement already satisfied: docutils>=0.3 in /Users/mhchia/Library/Caches/pypoetry/virtualenvs/zkstats-brXmXluj-py3.12/lib/python3.12/site-packages (from statistics->-r ../../requirements.txt (line 7)) (0.20.1)\n",
      "Requirement already satisfied: protobuf>=3.20.2 in /Users/mhchia/Library/Caches/pypoetry/virtualenvs/zkstats-brXmXluj-py3.12/lib/python3.12/site-packages (from onnx->-r ../../requirements.txt (line 8)) (4.25.2)\n",
      "Requirement already satisfied: six>=1.5 in /Users/mhchia/Library/Caches/pypoetry/virtualenvs/zkstats-brXmXluj-py3.12/lib/python3.12/site-packages (from python-dateutil>=2.7->matplotlib->-r ../../requirements.txt (line 6)) (1.16.0)\n",
      "Requirement already satisfied: MarkupSafe>=2.0 in /Users/mhchia/Library/Caches/pypoetry/virtualenvs/zkstats-brXmXluj-py3.12/lib/python3.12/site-packages (from jinja2->torch->-r ../../requirements.txt (line 2)) (2.1.4)\n",
      "Requirement already satisfied: mpmath>=0.19 in /Users/mhchia/Library/Caches/pypoetry/virtualenvs/zkstats-brXmXluj-py3.12/lib/python3.12/site-packages (from sympy->torch->-r ../../requirements.txt (line 2)) (1.3.0)\n",
      "\n",
      "\u001b[1m[\u001b[0m\u001b[34;49mnotice\u001b[0m\u001b[1;39;49m]\u001b[0m\u001b[39;49m A new release of pip is available: \u001b[0m\u001b[31;49m23.3.1\u001b[0m\u001b[39;49m -> \u001b[0m\u001b[32;49m24.0\u001b[0m\n",
      "\u001b[1m[\u001b[0m\u001b[34;49mnotice\u001b[0m\u001b[1;39;49m]\u001b[0m\u001b[39;49m To update, run: \u001b[0m\u001b[32;49mpip install --upgrade pip\u001b[0m\n",
      "Note: you may need to restart the kernel to use updated packages.\n"
     ]
    }
   ],
   "source": [
    "pip install -r ../../requirements.txt"
   ]
  },
  {
   "cell_type": "code",
   "execution_count": 2,
   "metadata": {},
   "outputs": [],
   "source": [
    "import ezkl\n",
    "import torch\n",
    "from torch import nn\n",
    "import json\n",
    "import os\n",
    "import time\n",
    "import scipy\n",
    "import numpy as np\n",
    "import matplotlib.pyplot as plt\n",
    "import statistics\n",
    "import math"
   ]
  },
  {
   "cell_type": "code",
   "execution_count": 3,
   "metadata": {},
   "outputs": [],
   "source": [
    "%run -i ../../zkstats/core.py"
   ]
  },
  {
   "cell_type": "code",
   "execution_count": 4,
   "metadata": {},
   "outputs": [],
   "source": [
    "# init path\n",
    "os.makedirs(os.path.dirname('shared/'), exist_ok=True)\n",
    "os.makedirs(os.path.dirname('prover/'), exist_ok=True)\n",
    "verifier_model_path = os.path.join('shared/verifier.onnx')\n",
    "prover_model_path = os.path.join('prover/prover.onnx')\n",
    "verifier_compiled_model_path = os.path.join('shared/verifier.compiled')\n",
    "prover_compiled_model_path = os.path.join('prover/prover.compiled')\n",
    "pk_path = os.path.join('shared/test.pk')\n",
    "vk_path = os.path.join('shared/test.vk')\n",
    "proof_path = os.path.join('shared/test.pf')\n",
    "settings_path = os.path.join('shared/settings.json')\n",
    "srs_path = os.path.join('shared/kzg.srs')\n",
    "witness_path = os.path.join('prover/witness.json')\n",
    "# this is private to prover since it contains actual data\n",
    "sel_data_path = os.path.join('prover/sel_data.json')\n",
    "# this is just dummy random value\n",
    "sel_dummy_data_path = os.path.join('shared/sel_dummy_data.json')"
   ]
  },
  {
   "attachments": {},
   "cell_type": "markdown",
   "metadata": {},
   "source": [
    "=======================  ZK-STATS FLOW ======================="
   ]
  },
  {
   "cell_type": "code",
   "execution_count": 5,
   "metadata": {},
   "outputs": [],
   "source": [
    "data_path = os.path.join('data.json')\n",
    "dummy_data_path = os.path.join('shared/dummy_data.json')\n",
    "create_dummy(data_path, dummy_data_path)\n"
   ]
  },
  {
   "cell_type": "code",
   "execution_count": 6,
   "metadata": {},
   "outputs": [],
   "source": [
    "scales = [0]\n",
    "selected_columns = ['x1', 'y']\n",
    "commitment_maps = get_data_commitment_maps(data_path, scales)"
   ]
  },
  {
   "cell_type": "code",
   "execution_count": 7,
   "metadata": {},
   "outputs": [
    {
     "name": "stderr",
     "output_type": "stream",
     "text": [
      "/Users/mhchia/projects/work/pse/zk-stats-lib/zkstats/computation.py:166: TracerWarning: torch.tensor results are registered as constants in the trace. You can safely ignore this warning if you use this function to create tensors out of constant variables that would be the same every time you call this function. In any other case, this might cause the trace to be incorrect.\n",
      "  is_precise_aggregated = torch.tensor(1.0)\n",
      "/Users/mhchia/Library/Caches/pypoetry/virtualenvs/zkstats-brXmXluj-py3.12/lib/python3.12/site-packages/torch/onnx/symbolic_opset9.py:2174: FutureWarning: 'torch.onnx.symbolic_opset9._cast_Bool' is deprecated in version 2.0 and will be removed in the future. Please Avoid using this function and create a Cast node instead.\n",
      "  return fn(g, to_cast_func(g, input, False), to_cast_func(g, other, False))\n"
     ]
    }
   ],
   "source": [
    "# Verifier/ data consumer side: send desired calculation\n",
    "from zkstats.computation import computation_to_model, State\n",
    "\n",
    "\n",
    "def computation(s: State, data: list[torch.Tensor]) -> torch.Tensor:\n",
    "    x, y = data[0], data[1]\n",
    "    return s.linear_regression(x, y)\n",
    "\n",
    "error = 0.01\n",
    "_, verifier_model = computation_to_model(computation, error)\n",
    "\n",
    "verifier_define_calculation(dummy_data_path, selected_columns, sel_dummy_data_path, verifier_model, verifier_model_path)"
   ]
  },
  {
   "cell_type": "code",
   "execution_count": 8,
   "metadata": {},
   "outputs": [
    {
     "name": "stdout",
     "output_type": "stream",
     "text": [
      "==== Generate & Calibrate Setting ====\n",
      "scale:  [0]\n",
      "setting:  {\"run_args\":{\"tolerance\":{\"val\":0.0,\"scale\":1.0},\"input_scale\":0,\"param_scale\":0,\"scale_rebase_multiplier\":10,\"lookup_range\":[-15208,13532],\"logrows\":15,\"num_inner_cols\":2,\"variables\":[[\"batch_size\",1]],\"input_visibility\":{\"Hashed\":{\"hash_is_public\":true,\"outlets\":[]}},\"output_visibility\":\"Public\",\"param_visibility\":\"Private\"},\"num_rows\":7872,\"total_assignments\":429,\"total_const_size\":5,\"model_instance_shapes\":[[1],[1,2,1]],\"model_output_scales\":[0,0],\"model_input_scales\":[0,0],\"module_sizes\":{\"kzg\":[],\"poseidon\":[7872,[2]],\"elgamal\":[0,[0]]},\"required_lookups\":[\"Abs\",{\"Div\":{\"denom\":100.0}},{\"GreaterThan\":{\"a\":0.0}}],\"check_mode\":\"UNSAFE\",\"version\":\"7.0.0\",\"num_blinding_factors\":null}\n"
     ]
    }
   ],
   "source": [
    "# Prover/ data owner side\n",
    "_, prover_model = computation_to_model(computation, error)\n",
    "\n",
    "prover_gen_settings(data_path, selected_columns, sel_data_path, prover_model,prover_model_path, scales, \"resources\", settings_path)"
   ]
  },
  {
   "cell_type": "code",
   "execution_count": 9,
   "metadata": {},
   "outputs": [
    {
     "name": "stderr",
     "output_type": "stream",
     "text": [
      "spawning module 0\n",
      "spawning module 2\n"
     ]
    },
    {
     "name": "stdout",
     "output_type": "stream",
     "text": [
      "==== setting up ezkl ====\n"
     ]
    },
    {
     "name": "stderr",
     "output_type": "stream",
     "text": [
      "spawning module 0\n",
      "spawning module 2\n"
     ]
    },
    {
     "name": "stdout",
     "output_type": "stream",
     "text": [
      "Time setup: 6.701804876327515 seconds\n",
      "=======================================\n",
      "==== Generating Witness ====\n",
      "witness boolean:  1.0\n",
      "witness result 1 : 2.0\n",
      "witness result 2 : 10.0\n",
      "==== Generating Proof ====\n"
     ]
    },
    {
     "name": "stderr",
     "output_type": "stream",
     "text": [
      "spawning module 0\n",
      "spawning module 2\n"
     ]
    },
    {
     "name": "stdout",
     "output_type": "stream",
     "text": [
      "proof:  {'instances': [[[6145674602038562713, 11796601694033167407, 3132644448460071153, 1431119980703310933], [3957842973089931008, 9845595232537184463, 786695466761881781, 2995319695946854765], [12436184717236109307, 3962172157175319849, 7381016538464732718, 1011752739694698287], [6425625360762666998, 7924344314350639699, 14762033076929465436, 2023505479389396574], [3898461358030585804, 15381148731429954174, 10354293334678834451, 3143530863341041542]]], 'proof': '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', 'transcript_type': 'EVM'}\n",
      "Time gen prf: 8.66359281539917 seconds\n"
     ]
    }
   ],
   "source": [
    "# Here verifier & prover can concurrently call setup since all params are public to get pk.\n",
    "# Here write as verifier function to emphasize that verifier must calculate its own vk to be sure\n",
    "setup(verifier_model_path, verifier_compiled_model_path, settings_path,vk_path, pk_path )\n",
    "\n",
    "print(\"=======================================\")\n",
    "# Prover generates proof\n",
    "prover_gen_proof(prover_model_path, sel_data_path, witness_path, prover_compiled_model_path, settings_path, proof_path, pk_path)"
   ]
  },
  {
   "cell_type": "code",
   "execution_count": 10,
   "metadata": {},
   "outputs": [
    {
     "name": "stdout",
     "output_type": "stream",
     "text": [
      "Verifier gets result: 2.0\n"
     ]
    }
   ],
   "source": [
    "# Verifier verifies\n",
    "res = verifier_verify(proof_path, settings_path, vk_path, selected_columns, commitment_maps)\n",
    "print(\"Verifier gets result:\", res)"
   ]
  }
 ],
 "metadata": {
  "kernelspec": {
   "display_name": "Python 3",
   "language": "python",
   "name": "python3"
  },
  "language_info": {
   "codemirror_mode": {
    "name": "ipython",
    "version": 3
   },
   "file_extension": ".py",
   "mimetype": "text/x-python",
   "name": "python",
   "nbconvert_exporter": "python",
   "pygments_lexer": "ipython3",
   "version": "3.12.1"
  },
  "orig_nbformat": 4
 },
 "nbformat": 4,
 "nbformat_minor": 2
}
