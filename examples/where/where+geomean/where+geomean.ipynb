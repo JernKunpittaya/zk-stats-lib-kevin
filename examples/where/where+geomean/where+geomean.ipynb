{
 "cells": [
  {
   "cell_type": "code",
   "execution_count": 1,
   "metadata": {},
   "outputs": [],
   "source": [
    "import ezkl\n",
    "import torch\n",
    "from torch import nn\n",
    "import json\n",
    "import os\n",
    "import time\n",
    "import scipy\n",
    "import numpy as np\n",
    "import matplotlib.pyplot as plt\n",
    "import statistics\n",
    "import math"
   ]
  },
  {
   "cell_type": "code",
   "execution_count": 2,
   "metadata": {},
   "outputs": [],
   "source": [
    "from zkstats.core import create_dummy, verifier_define_calculation, prover_gen_settings, setup, prover_gen_proof, verifier_verify, get_data_commitment_maps"
   ]
  },
  {
   "attachments": {},
   "cell_type": "markdown",
   "metadata": {},
   "source": []
  },
  {
   "cell_type": "code",
   "execution_count": 3,
   "metadata": {},
   "outputs": [],
   "source": [
    "# init path\n",
    "os.makedirs(os.path.dirname('shared/'), exist_ok=True)\n",
    "os.makedirs(os.path.dirname('prover/'), exist_ok=True)\n",
    "verifier_model_path = os.path.join('shared/verifier.onnx')\n",
    "prover_model_path = os.path.join('prover/prover.onnx')\n",
    "verifier_compiled_model_path = os.path.join('shared/verifier.compiled')\n",
    "prover_compiled_model_path = os.path.join('prover/prover.compiled')\n",
    "pk_path = os.path.join('shared/test.pk')\n",
    "vk_path = os.path.join('shared/test.vk')\n",
    "proof_path = os.path.join('shared/test.pf')\n",
    "settings_path = os.path.join('shared/settings.json')\n",
    "srs_path = os.path.join('shared/kzg.srs')\n",
    "witness_path = os.path.join('prover/witness.json')\n",
    "# this is private to prover since it contains actual data\n",
    "sel_data_path = os.path.join('prover/sel_data.json')\n",
    "# this is just dummy random value\n",
    "sel_dummy_data_path = os.path.join('shared/sel_dummy_data.json')"
   ]
  },
  {
   "attachments": {},
   "cell_type": "markdown",
   "metadata": {},
   "source": [
    "=======================  ZK-STATS FLOW ======================="
   ]
  },
  {
   "cell_type": "code",
   "execution_count": 4,
   "metadata": {},
   "outputs": [],
   "source": [
    "data_path = os.path.join('data.json')\n",
    "dummy_data_path = os.path.join('shared/dummy_data.json')\n",
    "\n",
    "create_dummy(data_path, dummy_data_path)"
   ]
  },
  {
   "cell_type": "code",
   "execution_count": 5,
   "metadata": {},
   "outputs": [],
   "source": [
    "scales = [8]\n",
    "selected_columns = ['col_name']\n",
    "commitment_maps = get_data_commitment_maps(data_path, scales)"
   ]
  },
  {
   "cell_type": "code",
   "execution_count": 6,
   "metadata": {},
   "outputs": [
    {
     "name": "stderr",
     "output_type": "stream",
     "text": [
      "/Users/jernkun/Desktop/zk-stats-lib/zkstats/computation.py:172: TracerWarning: torch.tensor results are registered as constants in the trace. You can safely ignore this warning if you use this function to create tensors out of constant variables that would be the same every time you call this function. In any other case, this might cause the trace to be incorrect.\n",
      "  is_precise_aggregated = torch.tensor(1.0)\n",
      "/Users/jernkun/Desktop/zk-stats-lib/zkstats/ops.py:122: TracerWarning: torch.tensor results are registered as constants in the trace. You can safely ignore this warning if you use this function to create tensors out of constant variables that would be the same every time you call this function. In any other case, this might cause the trace to be incorrect.\n",
      "  return torch.abs((torch.log(self.result)*size)-torch.sum(torch.log(x)))<=size*torch.log(torch.tensor(1+self.error))\n",
      "/Users/jernkun/Library/Caches/pypoetry/virtualenvs/zkstats-OJpceffF-py3.11/lib/python3.11/site-packages/torch/onnx/symbolic_opset9.py:2174: FutureWarning: 'torch.onnx.symbolic_opset9._cast_Bool' is deprecated in version 2.0 and will be removed in the future. Please Avoid using this function and create a Cast node instead.\n",
      "  return fn(g, to_cast_func(g, input, False), to_cast_func(g, other, False))\n"
     ]
    }
   ],
   "source": [
    "# Verifier/ data consumer side: send desired calculation\n",
    "from zkstats.computation import computation_to_model, State\n",
    "\n",
    "\n",
    "def computation(s: State, data: list[torch.Tensor]) -> torch.Tensor:\n",
    "    x = data[0]\n",
    "    filter = (x > 20)\n",
    "    filtered_x = s.where(filter, x)\n",
    "    return s.geometric_mean(filtered_x)\n",
    "\n",
    "error = 0.01\n",
    "_, verifier_model = computation_to_model(computation, error)\n",
    "\n",
    "verifier_define_calculation(dummy_data_path, selected_columns, sel_dummy_data_path,verifier_model, verifier_model_path)"
   ]
  },
  {
   "cell_type": "code",
   "execution_count": 7,
   "metadata": {},
   "outputs": [
    {
     "name": "stderr",
     "output_type": "stream",
     "text": [
      "\n",
      "\n",
      " <------------- Numerical Fidelity Report (input_scale: 8, param_scale: 8, scale_input_multiplier: 10) ------------->\n",
      "\n",
      "+---------------+---------------+-----------+---------------+----------------+------------------+---------------+---------------+--------------------+--------------------+------------------------+\n",
      "| mean_error    | median_error  | max_error | min_error     | mean_abs_error | median_abs_error | max_abs_error | min_abs_error | mean_squared_error | mean_percent_error | mean_abs_percent_error |\n",
      "+---------------+---------------+-----------+---------------+----------------+------------------+---------------+---------------+--------------------+--------------------+------------------------+\n",
      "| -0.0006465912 | -0.0012931824 | 0         | -0.0012931824 | 0.0006465912   | 0.0012931824     | 0.0012931824  | 0             | 0.0000008361603    | -0.000013434931    | 0.000013434931         |\n",
      "+---------------+---------------+-----------+---------------+----------------+------------------+---------------+---------------+--------------------+--------------------+------------------------+\n",
      "\n",
      "\n"
     ]
    },
    {
     "name": "stdout",
     "output_type": "stream",
     "text": [
      "==== Generate & Calibrate Setting ====\n",
      "scale:  [8]\n",
      "setting:  {\"run_args\":{\"tolerance\":{\"val\":0.0,\"scale\":1.0},\"input_scale\":8,\"param_scale\":8,\"scale_rebase_multiplier\":10,\"lookup_range\":[-2560,34816],\"logrows\":16,\"num_inner_cols\":2,\"variables\":[[\"batch_size\",1]],\"input_visibility\":{\"Hashed\":{\"hash_is_public\":true,\"outlets\":[]}},\"output_visibility\":\"Public\",\"param_visibility\":\"Private\",\"div_rebasing\":false,\"rebase_frac_zero_constants\":false,\"check_mode\":\"UNSAFE\"},\"num_rows\":14432,\"total_assignments\":5411,\"total_const_size\":1205,\"model_instance_shapes\":[[1],[1]],\"model_output_scales\":[0,8],\"model_input_scales\":[8],\"module_sizes\":{\"kzg\":[],\"poseidon\":[14432,[1]]},\"required_lookups\":[{\"GreaterThan\":{\"a\":0.0}}],\"required_range_checks\":[],\"check_mode\":\"UNSAFE\",\"version\":\"9.1.0\",\"num_blinding_factors\":null,\"timestamp\":1709690522834}\n"
     ]
    }
   ],
   "source": [
    "# Prover/ data owner side\n",
    "_, prover_model = computation_to_model(computation, error)\n",
    "\n",
    "prover_gen_settings(data_path, selected_columns, sel_data_path, prover_model, prover_model_path, scales, \"resources\", settings_path)"
   ]
  },
  {
   "cell_type": "code",
   "execution_count": 8,
   "metadata": {},
   "outputs": [
    {
     "name": "stdout",
     "output_type": "stream",
     "text": [
      "==== setting up ezkl ====\n",
      "Time setup: 5.909601926803589 seconds\n",
      "=======================================\n",
      "==== Generating Witness ====\n",
      "witness boolean:  1.0\n",
      "witness result 1 : 48.12890625\n",
      "==== Generating Proof ====\n",
      "proof:  {'instances': [['2be46e82e2e0c1e79761a98c6a2d8eae08bc302d2618f256d97907797f4b4219', '0100000000000000000000000000000000000000000000000000000000000000', '2130000000000000000000000000000000000000000000000000000000000000']], 'proof': '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', 'transcript_type': 'EVM'}\n",
      "Time gen prf: 5.9554078578948975 seconds\n"
     ]
    }
   ],
   "source": [
    "# Here verifier & prover can concurrently call setup since all params are public to get pk.\n",
    "# Here write as verifier function to emphasize that verifier must calculate its own vk to be sure\n",
    "setup(verifier_model_path, verifier_compiled_model_path, settings_path,vk_path, pk_path )\n",
    "\n",
    "print(\"=======================================\")\n",
    "# Prover generates proof\n",
    "prover_gen_proof(prover_model_path, sel_data_path, witness_path, prover_compiled_model_path, settings_path, proof_path, pk_path)"
   ]
  },
  {
   "attachments": {},
   "cell_type": "markdown",
   "metadata": {},
   "source": []
  },
  {
   "cell_type": "code",
   "execution_count": 9,
   "metadata": {},
   "outputs": [
    {
     "name": "stdout",
     "output_type": "stream",
     "text": [
      "Verifier gets result: [48.12890625]\n"
     ]
    }
   ],
   "source": [
    "# Verifier verifies\n",
    "res = verifier_verify(proof_path, settings_path, vk_path, selected_columns, commitment_maps)\n",
    "print(\"Verifier gets result:\", res)"
   ]
  },
  {
   "cell_type": "code",
   "execution_count": null,
   "metadata": {},
   "outputs": [],
   "source": []
  }
 ],
 "metadata": {
  "kernelspec": {
   "display_name": "Python 3",
   "language": "python",
   "name": "python3"
  },
  "language_info": {
   "codemirror_mode": {
    "name": "ipython",
    "version": 3
   },
   "file_extension": ".py",
   "mimetype": "text/x-python",
   "name": "python",
   "nbconvert_exporter": "python",
   "pygments_lexer": "ipython3",
   "version": "3.11.4"
  },
  "orig_nbformat": 4
 },
 "nbformat": 4,
 "nbformat_minor": 2
}
