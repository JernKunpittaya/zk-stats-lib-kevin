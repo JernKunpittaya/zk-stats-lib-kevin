{
 "cells": [
  {
   "cell_type": "code",
   "execution_count": 1,
   "metadata": {},
   "outputs": [],
   "source": [
    "import ezkl\n",
    "import torch\n",
    "from torch import nn\n",
    "import json\n",
    "import os\n",
    "import time\n",
    "import scipy\n",
    "import numpy as np\n",
    "import matplotlib.pyplot as plt\n",
    "import statistics\n",
    "import math"
   ]
  },
  {
   "cell_type": "code",
   "execution_count": 2,
   "metadata": {},
   "outputs": [],
   "source": [
    "from zkstats.core import create_dummy, verifier_define_calculation, prover_gen_settings, setup, prover_gen_proof, verifier_verify, get_data_commitment_maps"
   ]
  },
  {
   "attachments": {},
   "cell_type": "markdown",
   "metadata": {},
   "source": []
  },
  {
   "cell_type": "code",
   "execution_count": 3,
   "metadata": {},
   "outputs": [],
   "source": [
    "# init path\n",
    "os.makedirs(os.path.dirname('shared/'), exist_ok=True)\n",
    "os.makedirs(os.path.dirname('prover/'), exist_ok=True)\n",
    "verifier_model_path = os.path.join('shared/verifier.onnx')\n",
    "prover_model_path = os.path.join('prover/prover.onnx')\n",
    "verifier_compiled_model_path = os.path.join('shared/verifier.compiled')\n",
    "prover_compiled_model_path = os.path.join('prover/prover.compiled')\n",
    "pk_path = os.path.join('shared/test.pk')\n",
    "vk_path = os.path.join('shared/test.vk')\n",
    "proof_path = os.path.join('shared/test.pf')\n",
    "settings_path = os.path.join('shared/settings.json')\n",
    "srs_path = os.path.join('shared/kzg.srs')\n",
    "witness_path = os.path.join('prover/witness.json')\n",
    "# this is private to prover since it contains actual data\n",
    "sel_data_path = os.path.join('prover/sel_data.json')\n",
    "# this is just dummy random value\n",
    "sel_dummy_data_path = os.path.join('shared/sel_dummy_data.json')"
   ]
  },
  {
   "attachments": {},
   "cell_type": "markdown",
   "metadata": {},
   "source": [
    "=======================  ZK-STATS FLOW ======================="
   ]
  },
  {
   "cell_type": "code",
   "execution_count": 4,
   "metadata": {},
   "outputs": [],
   "source": [
    "data_path = os.path.join('data.json')\n",
    "dummy_data_path = os.path.join('shared/dummy_data.json')\n",
    "\n",
    "create_dummy(data_path, dummy_data_path)"
   ]
  },
  {
   "cell_type": "code",
   "execution_count": 5,
   "metadata": {},
   "outputs": [],
   "source": [
    "scales = [3]\n",
    "selected_columns = ['col_name']\n",
    "commitment_maps = get_data_commitment_maps(data_path, scales)"
   ]
  },
  {
   "cell_type": "code",
   "execution_count": 6,
   "metadata": {},
   "outputs": [
    {
     "name": "stderr",
     "output_type": "stream",
     "text": [
      "/Users/jernkun/Desktop/zk-stats-lib/zkstats/computation.py:172: TracerWarning: torch.tensor results are registered as constants in the trace. You can safely ignore this warning if you use this function to create tensors out of constant variables that would be the same every time you call this function. In any other case, this might cause the trace to be incorrect.\n",
      "  is_precise_aggregated = torch.tensor(1.0)\n",
      "/Users/jernkun/Library/Caches/pypoetry/virtualenvs/zkstats-OJpceffF-py3.11/lib/python3.11/site-packages/torch/onnx/symbolic_opset9.py:2174: FutureWarning: 'torch.onnx.symbolic_opset9._cast_Bool' is deprecated in version 2.0 and will be removed in the future. Please Avoid using this function and create a Cast node instead.\n",
      "  return fn(g, to_cast_func(g, input, False), to_cast_func(g, other, False))\n"
     ]
    }
   ],
   "source": [
    "# Verifier/ data consumer side: send desired calculation\n",
    "from zkstats.computation import computation_to_model, State\n",
    "\n",
    "\n",
    "def computation(s: State, data: list[torch.Tensor]) -> torch.Tensor:\n",
    "    x = data[0]\n",
    "    filter = (x > 20.0)\n",
    "    filtered_x = s.where(filter, x)\n",
    "    return s.mean(filtered_x)\n",
    "\n",
    "error = 0.01\n",
    "_, verifier_model = computation_to_model(computation, error)\n",
    "\n",
    "verifier_define_calculation(dummy_data_path, selected_columns,sel_dummy_data_path,verifier_model, verifier_model_path)"
   ]
  },
  {
   "cell_type": "code",
   "execution_count": 7,
   "metadata": {},
   "outputs": [
    {
     "name": "stderr",
     "output_type": "stream",
     "text": [
      "\n",
      "\n",
      " <------------- Numerical Fidelity Report (input_scale: 3, param_scale: 3, scale_input_multiplier: 10) ------------->\n",
      "\n",
      "+--------------+--------------+-----------+--------------+----------------+------------------+---------------+---------------+--------------------+--------------------+------------------------+\n",
      "| mean_error   | median_error | max_error | min_error    | mean_abs_error | median_abs_error | max_abs_error | min_abs_error | mean_squared_error | mean_percent_error | mean_abs_percent_error |\n",
      "+--------------+--------------+-----------+--------------+----------------+------------------+---------------+---------------+--------------------+--------------------+------------------------+\n",
      "| -0.016670227 | -0.033340454 | 0         | -0.033340454 | 0.016670227    | 0.033340454      | 0.033340454   | 0             | 0.00055579294      | -0.00030676697     | 0.00030676697          |\n",
      "+--------------+--------------+-----------+--------------+----------------+------------------+---------------+---------------+--------------------+--------------------+------------------------+\n",
      "\n",
      "\n"
     ]
    },
    {
     "name": "stdout",
     "output_type": "stream",
     "text": [
      "==== Generate & Calibrate Setting ====\n",
      "scale:  [3]\n",
      "setting:  {\"run_args\":{\"tolerance\":{\"val\":0.0,\"scale\":1.0},\"input_scale\":3,\"param_scale\":3,\"scale_rebase_multiplier\":10,\"lookup_range\":[-294,1278],\"logrows\":12,\"num_inner_cols\":2,\"variables\":[[\"batch_size\",1]],\"input_visibility\":{\"Hashed\":{\"hash_is_public\":true,\"outlets\":[]}},\"output_visibility\":\"Public\",\"param_visibility\":\"Private\",\"div_rebasing\":false,\"rebase_frac_zero_constants\":false,\"check_mode\":\"UNSAFE\"},\"num_rows\":3936,\"total_assignments\":911,\"total_const_size\":205,\"model_instance_shapes\":[[1],[1]],\"model_output_scales\":[0,3],\"model_input_scales\":[3],\"module_sizes\":{\"kzg\":[],\"poseidon\":[3936,[1]]},\"required_lookups\":[{\"GreaterThan\":{\"a\":0.0}}],\"required_range_checks\":[],\"check_mode\":\"UNSAFE\",\"version\":\"9.1.0\",\"num_blinding_factors\":null,\"timestamp\":1709715528777}\n"
     ]
    }
   ],
   "source": [
    "# Prover/ data owner side\n",
    "_, prover_model = computation_to_model(computation, error)\n",
    "\n",
    "prover_gen_settings(data_path, selected_columns, sel_data_path, prover_model, prover_model_path, scales, \"resources\", settings_path)"
   ]
  },
  {
   "cell_type": "code",
   "execution_count": 8,
   "metadata": {},
   "outputs": [
    {
     "name": "stdout",
     "output_type": "stream",
     "text": [
      "==== setting up ezkl ====\n",
      "Time setup: 0.5483167171478271 seconds\n",
      "=======================================\n",
      "==== Generating Witness ====\n",
      "witness boolean:  1.0\n",
      "witness result 1 : 54.375\n",
      "==== Generating Proof ====\n",
      "proof:  {'instances': [['11e5950d0c875140b38d8b4bc0997697b7b183cfdbc19e767d87caf0020da12a', '0100000000000000000000000000000000000000000000000000000000000000', 'b301000000000000000000000000000000000000000000000000000000000000']], 'proof': '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', 'transcript_type': 'EVM'}\n",
      "Time gen prf: 0.5321259498596191 seconds\n"
     ]
    }
   ],
   "source": [
    "# Here verifier & prover can concurrently call setup since all params are public to get pk.\n",
    "# Here write as verifier function to emphasize that verifier must calculate its own vk to be sure\n",
    "setup(verifier_model_path, verifier_compiled_model_path, settings_path,vk_path, pk_path )\n",
    "\n",
    "print(\"=======================================\")\n",
    "# Prover generates proof\n",
    "prover_gen_proof(prover_model_path, sel_data_path, witness_path, prover_compiled_model_path, settings_path, proof_path, pk_path)"
   ]
  },
  {
   "cell_type": "code",
   "execution_count": 9,
   "metadata": {},
   "outputs": [
    {
     "name": "stdout",
     "output_type": "stream",
     "text": [
      "Verifier gets result: [54.375]\n"
     ]
    }
   ],
   "source": [
    "# Verifier verifies\n",
    "res = verifier_verify(proof_path, settings_path, vk_path, selected_columns, commitment_maps)\n",
    "print(\"Verifier gets result:\", res)"
   ]
  },
  {
   "cell_type": "code",
   "execution_count": null,
   "metadata": {},
   "outputs": [],
   "source": []
  }
 ],
 "metadata": {
  "kernelspec": {
   "display_name": "Python 3",
   "language": "python",
   "name": "python3"
  },
  "language_info": {
   "codemirror_mode": {
    "name": "ipython",
    "version": 3
   },
   "file_extension": ".py",
   "mimetype": "text/x-python",
   "name": "python",
   "nbconvert_exporter": "python",
   "pygments_lexer": "ipython3",
   "version": "3.11.4"
  },
  "orig_nbformat": 4
 },
 "nbformat": 4,
 "nbformat_minor": 2
}
