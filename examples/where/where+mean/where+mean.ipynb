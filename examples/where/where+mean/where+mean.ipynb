{
 "cells": [
  {
   "cell_type": "code",
   "execution_count": 1,
   "metadata": {},
   "outputs": [],
   "source": [
    "import ezkl\n",
    "import torch\n",
    "from torch import nn\n",
    "import json\n",
    "import os\n",
    "import time\n",
    "import scipy\n",
    "import numpy as np\n",
    "import matplotlib.pyplot as plt\n",
    "import statistics\n",
    "import math"
   ]
  },
  {
   "cell_type": "code",
   "execution_count": 2,
   "metadata": {},
   "outputs": [],
   "source": [
    "from zkstats.core import create_dummy, verifier_define_calculation, prover_gen_settings, setup, prover_gen_proof, verifier_verify, get_data_commitment_maps"
   ]
  },
  {
   "attachments": {},
   "cell_type": "markdown",
   "metadata": {},
   "source": []
  },
  {
   "cell_type": "code",
   "execution_count": 3,
   "metadata": {},
   "outputs": [],
   "source": [
    "# init path\n",
    "os.makedirs(os.path.dirname('shared/'), exist_ok=True)\n",
    "os.makedirs(os.path.dirname('prover/'), exist_ok=True)\n",
    "verifier_model_path = os.path.join('shared/verifier.onnx')\n",
    "prover_model_path = os.path.join('prover/prover.onnx')\n",
    "verifier_compiled_model_path = os.path.join('shared/verifier.compiled')\n",
    "prover_compiled_model_path = os.path.join('prover/prover.compiled')\n",
    "pk_path = os.path.join('shared/test.pk')\n",
    "vk_path = os.path.join('shared/test.vk')\n",
    "proof_path = os.path.join('shared/test.pf')\n",
    "settings_path = os.path.join('shared/settings.json')\n",
    "srs_path = os.path.join('shared/kzg.srs')\n",
    "witness_path = os.path.join('prover/witness.json')\n",
    "# this is private to prover since it contains actual data\n",
    "sel_data_path = os.path.join('prover/sel_data.json')\n",
    "# this is just dummy random value\n",
    "sel_dummy_data_path = os.path.join('shared/sel_dummy_data.json')"
   ]
  },
  {
   "attachments": {},
   "cell_type": "markdown",
   "metadata": {},
   "source": [
    "=======================  ZK-STATS FLOW ======================="
   ]
  },
  {
   "cell_type": "code",
   "execution_count": 4,
   "metadata": {},
   "outputs": [],
   "source": [
    "data_path = os.path.join('data.json')\n",
    "dummy_data_path = os.path.join('shared/dummy_data.json')\n",
    "\n",
    "create_dummy(data_path, dummy_data_path)"
   ]
  },
  {
   "cell_type": "code",
   "execution_count": 5,
   "metadata": {},
   "outputs": [],
   "source": [
    "scales = [5]\n",
    "selected_columns = ['col_name']\n",
    "commitment_maps = get_data_commitment_maps(data_path, scales)"
   ]
  },
  {
   "cell_type": "code",
   "execution_count": 6,
   "metadata": {},
   "outputs": [
    {
     "name": "stderr",
     "output_type": "stream",
     "text": [
      "/Users/jernkun/Desktop/zk-stats-lib/zkstats/computation.py:172: TracerWarning: torch.tensor results are registered as constants in the trace. You can safely ignore this warning if you use this function to create tensors out of constant variables that would be the same every time you call this function. In any other case, this might cause the trace to be incorrect.\n",
      "  is_precise_aggregated = torch.tensor(1.0)\n",
      "/Users/jernkun/Library/Caches/pypoetry/virtualenvs/zkstats-OJpceffF-py3.11/lib/python3.11/site-packages/torch/onnx/symbolic_opset9.py:2174: FutureWarning: 'torch.onnx.symbolic_opset9._cast_Bool' is deprecated in version 2.0 and will be removed in the future. Please Avoid using this function and create a Cast node instead.\n",
      "  return fn(g, to_cast_func(g, input, False), to_cast_func(g, other, False))\n"
     ]
    }
   ],
   "source": [
    "# Verifier/ data consumer side: send desired calculation\n",
    "from zkstats.computation import computation_to_model, State\n",
    "\n",
    "\n",
    "def computation(s: State, data: list[torch.Tensor]) -> torch.Tensor:\n",
    "    x = data[0]\n",
    "    filter = (x > 20.0)\n",
    "    filtered_x = s.where(filter, x)\n",
    "    return s.mean(filtered_x)\n",
    "\n",
    "error = 0.01\n",
    "_, verifier_model = computation_to_model(computation, error)\n",
    "\n",
    "verifier_define_calculation(dummy_data_path, selected_columns,sel_dummy_data_path,verifier_model, verifier_model_path)"
   ]
  },
  {
   "cell_type": "code",
   "execution_count": 7,
   "metadata": {},
   "outputs": [
    {
     "name": "stderr",
     "output_type": "stream",
     "text": [
      "\n",
      "\n",
      " <------------- Numerical Fidelity Report (input_scale: 5, param_scale: 5, scale_input_multiplier: 10) ------------->\n",
      "\n",
      "+--------------+--------------+-----------+--------------+----------------+------------------+---------------+---------------+--------------------+--------------------+------------------------+\n",
      "| mean_error   | median_error | max_error | min_error    | mean_abs_error | median_abs_error | max_abs_error | min_abs_error | mean_squared_error | mean_percent_error | mean_abs_percent_error |\n",
      "+--------------+--------------+-----------+--------------+----------------+------------------+---------------+---------------+--------------------+--------------------+------------------------+\n",
      "| -0.001045227 | -0.002090454 | 0         | -0.002090454 | 0.001045227    | 0.002090454      | 0.002090454   | 0             | 0.0000021849992    | -0.00001923436     | 0.00001923436          |\n",
      "+--------------+--------------+-----------+--------------+----------------+------------------+---------------+---------------+--------------------+--------------------+------------------------+\n",
      "\n",
      "\n"
     ]
    },
    {
     "name": "stdout",
     "output_type": "stream",
     "text": [
      "==== Generate & Calibrate Setting ====\n",
      "scale:  [5]\n",
      "setting:  {\"run_args\":{\"tolerance\":{\"val\":0.0,\"scale\":1.0},\"input_scale\":5,\"param_scale\":5,\"scale_rebase_multiplier\":10,\"lookup_range\":[-1178,5114],\"logrows\":13,\"num_inner_cols\":2,\"variables\":[[\"batch_size\",1]],\"input_visibility\":{\"Hashed\":{\"hash_is_public\":true,\"outlets\":[]}},\"output_visibility\":\"Public\",\"param_visibility\":\"Private\",\"div_rebasing\":false,\"rebase_frac_zero_constants\":false,\"check_mode\":\"UNSAFE\"},\"num_rows\":3936,\"total_assignments\":911,\"total_const_size\":205,\"model_instance_shapes\":[[1],[1]],\"model_output_scales\":[0,5],\"model_input_scales\":[5],\"module_sizes\":{\"kzg\":[],\"poseidon\":[3936,[1]]},\"required_lookups\":[{\"GreaterThan\":{\"a\":0.0}}],\"required_range_checks\":[],\"check_mode\":\"UNSAFE\",\"version\":\"9.1.0\",\"num_blinding_factors\":null,\"timestamp\":1709712608083}\n"
     ]
    }
   ],
   "source": [
    "# Prover/ data owner side\n",
    "_, prover_model = computation_to_model(computation, error)\n",
    "\n",
    "prover_gen_settings(data_path, selected_columns, sel_data_path, prover_model, prover_model_path, scales, \"resources\", settings_path)"
   ]
  },
  {
   "cell_type": "code",
   "execution_count": 8,
   "metadata": {},
   "outputs": [
    {
     "name": "stdout",
     "output_type": "stream",
     "text": [
      "==== setting up ezkl ====\n",
      "Time setup: 0.8972721099853516 seconds\n",
      "=======================================\n",
      "==== Generating Witness ====\n",
      "witness boolean:  1.0\n",
      "witness result 1 : 54.34375\n",
      "==== Generating Proof ====\n",
      "proof:  {'instances': [['cde4916bd205742cffb14e51076823185ef1d3df4377d71dddd8ab4fd1be1002', '0100000000000000000000000000000000000000000000000000000000000000', 'cb06000000000000000000000000000000000000000000000000000000000000']], 'proof': '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', 'transcript_type': 'EVM'}\n",
      "Time gen prf: 0.8991491794586182 seconds\n"
     ]
    }
   ],
   "source": [
    "# Here verifier & prover can concurrently call setup since all params are public to get pk.\n",
    "# Here write as verifier function to emphasize that verifier must calculate its own vk to be sure\n",
    "setup(verifier_model_path, verifier_compiled_model_path, settings_path,vk_path, pk_path )\n",
    "\n",
    "print(\"=======================================\")\n",
    "# Prover generates proof\n",
    "prover_gen_proof(prover_model_path, sel_data_path, witness_path, prover_compiled_model_path, settings_path, proof_path, pk_path)"
   ]
  },
  {
   "cell_type": "code",
   "execution_count": 9,
   "metadata": {},
   "outputs": [
    {
     "name": "stdout",
     "output_type": "stream",
     "text": [
      "Verifier gets result: [54.34375]\n"
     ]
    }
   ],
   "source": [
    "# Verifier verifies\n",
    "res = verifier_verify(proof_path, settings_path, vk_path, selected_columns, commitment_maps)\n",
    "print(\"Verifier gets result:\", res)"
   ]
  },
  {
   "cell_type": "code",
   "execution_count": null,
   "metadata": {},
   "outputs": [],
   "source": []
  }
 ],
 "metadata": {
  "kernelspec": {
   "display_name": "Python 3",
   "language": "python",
   "name": "python3"
  },
  "language_info": {
   "codemirror_mode": {
    "name": "ipython",
    "version": 3
   },
   "file_extension": ".py",
   "mimetype": "text/x-python",
   "name": "python",
   "nbconvert_exporter": "python",
   "pygments_lexer": "ipython3",
   "version": "3.11.4"
  },
  "orig_nbformat": 4
 },
 "nbformat": 4,
 "nbformat_minor": 2
}
