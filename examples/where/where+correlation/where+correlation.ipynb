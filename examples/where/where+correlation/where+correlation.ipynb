{
 "cells": [
  {
   "attachments": {},
   "cell_type": "markdown",
   "metadata": {},
   "source": [
    "Note that it might make more sense to just request cov(x,y), std(x), std(y) and compute correlation on requester's end instead of requesting the whole HUGE circuit of correlation. "
   ]
  },
  {
   "cell_type": "code",
   "execution_count": 1,
   "metadata": {},
   "outputs": [],
   "source": [
    "import ezkl\n",
    "import torch\n",
    "from torch import nn\n",
    "import json\n",
    "import os\n",
    "import time\n",
    "import scipy\n",
    "import numpy as np\n",
    "import matplotlib.pyplot as plt\n",
    "import statistics\n",
    "import math"
   ]
  },
  {
   "cell_type": "code",
   "execution_count": 2,
   "metadata": {},
   "outputs": [],
   "source": [
    "from zkstats.core import create_dummy, verifier_define_calculation, prover_gen_settings, setup, prover_gen_proof, verifier_verify, get_data_commitment_maps"
   ]
  },
  {
   "cell_type": "code",
   "execution_count": 3,
   "metadata": {},
   "outputs": [],
   "source": [
    "# init path\n",
    "os.makedirs(os.path.dirname('shared/'), exist_ok=True)\n",
    "os.makedirs(os.path.dirname('prover/'), exist_ok=True)\n",
    "verifier_model_path = os.path.join('shared/verifier.onnx')\n",
    "prover_model_path = os.path.join('prover/prover.onnx')\n",
    "verifier_compiled_model_path = os.path.join('shared/verifier.compiled')\n",
    "prover_compiled_model_path = os.path.join('prover/prover.compiled')\n",
    "pk_path = os.path.join('shared/test.pk')\n",
    "vk_path = os.path.join('shared/test.vk')\n",
    "proof_path = os.path.join('shared/test.pf')\n",
    "settings_path = os.path.join('shared/settings.json')\n",
    "srs_path = os.path.join('shared/kzg.srs')\n",
    "witness_path = os.path.join('prover/witness.json')\n",
    "# this is private to prover since it contains actual data\n",
    "sel_data_path = os.path.join('prover/sel_data.json')\n",
    "# this is just dummy random value\n",
    "sel_dummy_data_path = os.path.join('shared/sel_dummy_data.json')"
   ]
  },
  {
   "attachments": {},
   "cell_type": "markdown",
   "metadata": {},
   "source": [
    "=======================  ZK-STATS FLOW ======================="
   ]
  },
  {
   "attachments": {},
   "cell_type": "markdown",
   "metadata": {},
   "source": [
    "This example is not necessary. In fact, a person can just request cov(x,y), std(x), and std(y). Then just compute correlation on his own as well, but here we show that the code is composable enough to do all at once. "
   ]
  },
  {
   "cell_type": "code",
   "execution_count": 4,
   "metadata": {},
   "outputs": [],
   "source": [
    "data_path = os.path.join('data.json')\n",
    "dummy_data_path = os.path.join('shared/dummy_data.json')\n",
    "\n",
    "create_dummy(data_path, dummy_data_path)"
   ]
  },
  {
   "cell_type": "code",
   "execution_count": 5,
   "metadata": {},
   "outputs": [],
   "source": [
    "scales = [5]\n",
    "selected_columns = ['x', 'y']\n",
    "commitment_maps = get_data_commitment_maps(data_path, scales)"
   ]
  },
  {
   "cell_type": "code",
   "execution_count": 6,
   "metadata": {},
   "outputs": [
    {
     "name": "stderr",
     "output_type": "stream",
     "text": [
      "/Users/jernkun/Desktop/zk-stats-lib/zkstats/computation.py:172: TracerWarning: torch.tensor results are registered as constants in the trace. You can safely ignore this warning if you use this function to create tensors out of constant variables that would be the same every time you call this function. In any other case, this might cause the trace to be incorrect.\n",
      "  is_precise_aggregated = torch.tensor(1.0)\n",
      "/Users/jernkun/Library/Caches/pypoetry/virtualenvs/zkstats-OJpceffF-py3.11/lib/python3.11/site-packages/torch/onnx/symbolic_opset9.py:2174: FutureWarning: 'torch.onnx.symbolic_opset9._cast_Bool' is deprecated in version 2.0 and will be removed in the future. Please Avoid using this function and create a Cast node instead.\n",
      "  return fn(g, to_cast_func(g, input, False), to_cast_func(g, other, False))\n"
     ]
    }
   ],
   "source": [
    "# Verifier/ data consumer side: send desired calculation\n",
    "from zkstats.computation import computation_to_model, State\n",
    "\n",
    "\n",
    "def computation(s: State, data: list[torch.Tensor]) -> torch.Tensor:\n",
    "    x, y = data[0], data[1]\n",
    "    filter =(y<60)\n",
    "    filtered_x = s.where(filter, x)\n",
    "    filtered_y = s.where(filter, y)\n",
    "    return s.correlation(filtered_x, filtered_y)\n",
    "\n",
    "error = 0.01\n",
    "_, verifier_model = computation_to_model(computation, error)\n",
    "\n",
    "verifier_define_calculation(dummy_data_path, selected_columns, sel_dummy_data_path, verifier_model, verifier_model_path)"
   ]
  },
  {
   "cell_type": "code",
   "execution_count": 7,
   "metadata": {},
   "outputs": [
    {
     "name": "stderr",
     "output_type": "stream",
     "text": [
      "\n",
      "\n",
      " <------------- Numerical Fidelity Report (input_scale: 5, param_scale: 5, scale_input_multiplier: 10) ------------->\n",
      "\n",
      "+---------------+---------------+-----------+---------------+----------------+------------------+---------------+---------------+--------------------+--------------------+------------------------+\n",
      "| mean_error    | median_error  | max_error | min_error     | mean_abs_error | median_abs_error | max_abs_error | min_abs_error | mean_squared_error | mean_percent_error | mean_abs_percent_error |\n",
      "+---------------+---------------+-----------+---------------+----------------+------------------+---------------+---------------+--------------------+--------------------+------------------------+\n",
      "| -0.0014694929 | -0.0029389858 | 0         | -0.0029389858 | 0.0014694929   | 0.0029389858     | 0.0029389858  | 0             | 0.000004318819     | -0.0027814922      | 0.0027814922           |\n",
      "+---------------+---------------+-----------+---------------+----------------+------------------+---------------+---------------+--------------------+--------------------+------------------------+\n",
      "\n",
      "\n"
     ]
    },
    {
     "name": "stdout",
     "output_type": "stream",
     "text": [
      "==== Generate & Calibrate Setting ====\n",
      "scale:  [5]\n",
      "setting:  {\"run_args\":{\"tolerance\":{\"val\":0.0,\"scale\":1.0},\"input_scale\":5,\"param_scale\":5,\"scale_rebase_multiplier\":10,\"lookup_range\":[-2292,3712],\"logrows\":13,\"num_inner_cols\":2,\"variables\":[[\"batch_size\",1]],\"input_visibility\":{\"Hashed\":{\"hash_is_public\":true,\"outlets\":[]}},\"output_visibility\":\"Public\",\"param_visibility\":\"Private\",\"div_rebasing\":false,\"rebase_frac_zero_constants\":false,\"check_mode\":\"UNSAFE\"},\"num_rows\":7872,\"total_assignments\":1517,\"total_const_size\":308,\"model_instance_shapes\":[[1],[1]],\"model_output_scales\":[0,5],\"model_input_scales\":[5,5],\"module_sizes\":{\"kzg\":[],\"poseidon\":[7872,[2]]},\"required_lookups\":[{\"GreaterThan\":{\"a\":0.0}}],\"required_range_checks\":[],\"check_mode\":\"UNSAFE\",\"version\":\"9.1.0\",\"num_blinding_factors\":null,\"timestamp\":1709724737371}\n"
     ]
    }
   ],
   "source": [
    "# Prover/ data owner side\n",
    "_, prover_model = computation_to_model(computation, error)\n",
    "\n",
    "prover_gen_settings(data_path, selected_columns, sel_data_path, prover_model,prover_model_path, scales, \"resources\", settings_path)"
   ]
  },
  {
   "cell_type": "code",
   "execution_count": 8,
   "metadata": {},
   "outputs": [
    {
     "name": "stdout",
     "output_type": "stream",
     "text": [
      "==== setting up ezkl ====\n",
      "Time setup: 0.8491756916046143 seconds\n",
      "=======================================\n",
      "==== Generating Witness ====\n",
      "witness boolean:  1.0\n",
      "witness result 1 : 0.53125\n",
      "==== Generating Proof ====\n",
      "proof:  {'instances': [['7469705c7b45875730aac31b009e8f9e9f9e57031bba148110877f78e4518c22', 'c1f946e3fd2b2229bfcc2dc9ff7f4dfc1fddad53635becb58d130bcae5504712', '0100000000000000000000000000000000000000000000000000000000000000', '1100000000000000000000000000000000000000000000000000000000000000']], 'proof': '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', 'transcript_type': 'EVM'}\n",
      "Time gen prf: 0.9824399948120117 seconds\n"
     ]
    }
   ],
   "source": [
    "# Here verifier & prover can concurrently call setup since all params are public to get pk.\n",
    "# Here write as verifier function to emphasize that verifier must calculate its own vk to be sure\n",
    "setup(verifier_model_path, verifier_compiled_model_path, settings_path,vk_path, pk_path )\n",
    "\n",
    "print(\"=======================================\")\n",
    "# Prover generates proof\n",
    "prover_gen_proof(prover_model_path, sel_data_path, witness_path, prover_compiled_model_path, settings_path, proof_path, pk_path)"
   ]
  },
  {
   "cell_type": "code",
   "execution_count": 9,
   "metadata": {},
   "outputs": [
    {
     "name": "stdout",
     "output_type": "stream",
     "text": [
      "Verifier gets result: [0.53125]\n"
     ]
    }
   ],
   "source": [
    "# Verifier verifies\n",
    "res = verifier_verify(proof_path, settings_path, vk_path, selected_columns, commitment_maps)\n",
    "print(\"Verifier gets result:\", res)"
   ]
  },
  {
   "cell_type": "code",
   "execution_count": null,
   "metadata": {},
   "outputs": [],
   "source": []
  }
 ],
 "metadata": {
  "kernelspec": {
   "display_name": "Python 3",
   "language": "python",
   "name": "python3"
  },
  "language_info": {
   "codemirror_mode": {
    "name": "ipython",
    "version": 3
   },
   "file_extension": ".py",
   "mimetype": "text/x-python",
   "name": "python",
   "nbconvert_exporter": "python",
   "pygments_lexer": "ipython3",
   "version": "3.11.4"
  },
  "orig_nbformat": 4
 },
 "nbformat": 4,
 "nbformat_minor": 2
}
