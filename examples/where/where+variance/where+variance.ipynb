{
 "cells": [
  {
   "cell_type": "code",
   "execution_count": 1,
   "metadata": {},
   "outputs": [],
   "source": [
    "import ezkl\n",
    "import torch\n",
    "from torch import nn\n",
    "import json\n",
    "import os\n",
    "import time\n",
    "import scipy\n",
    "import numpy as np\n",
    "import matplotlib.pyplot as plt\n",
    "import statistics\n",
    "import math"
   ]
  },
  {
   "cell_type": "code",
   "execution_count": 2,
   "metadata": {},
   "outputs": [],
   "source": [
    "from zkstats.core import create_dummy, verifier_define_calculation, prover_gen_settings, setup, prover_gen_proof, verifier_verify, generate_data_commitment"
   ]
  },
  {
   "cell_type": "code",
   "execution_count": 3,
   "metadata": {},
   "outputs": [],
   "source": [
    "# init path\n",
    "os.makedirs(os.path.dirname('shared/'), exist_ok=True)\n",
    "os.makedirs(os.path.dirname('prover/'), exist_ok=True)\n",
    "verifier_model_path = os.path.join('shared/verifier.onnx')\n",
    "prover_model_path = os.path.join('prover/prover.onnx')\n",
    "verifier_compiled_model_path = os.path.join('shared/verifier.compiled')\n",
    "prover_compiled_model_path = os.path.join('prover/prover.compiled')\n",
    "pk_path = os.path.join('shared/test.pk')\n",
    "vk_path = os.path.join('shared/test.vk')\n",
    "proof_path = os.path.join('shared/test.pf')\n",
    "settings_path = os.path.join('shared/settings.json')\n",
    "srs_path = os.path.join('shared/kzg.srs')\n",
    "witness_path = os.path.join('prover/witness.json')\n",
    "# this is private to prover since it contains actual data\n",
    "sel_data_path = os.path.join('prover/sel_data.json')\n",
    "# this is just dummy random value\n",
    "sel_dummy_data_path = os.path.join('shared/sel_dummy_data.json')\n",
    "data_commitment_path = os.path.join('shared/data_commitment.json')"
   ]
  },
  {
   "attachments": {},
   "cell_type": "markdown",
   "metadata": {},
   "source": [
    "=======================  ZK-STATS FLOW ======================="
   ]
  },
  {
   "cell_type": "code",
   "execution_count": 4,
   "metadata": {},
   "outputs": [],
   "source": [
    "data_path = os.path.join('data.json')\n",
    "dummy_data_path = os.path.join('shared/dummy_data.json')\n",
    "create_dummy(data_path, dummy_data_path)"
   ]
  },
  {
   "cell_type": "code",
   "execution_count": 5,
   "metadata": {},
   "outputs": [],
   "source": [
    "scales = [2]\n",
    "selected_columns = ['col_name']\n",
    "generate_data_commitment(data_path, scales, data_commitment_path)"
   ]
  },
  {
   "cell_type": "code",
   "execution_count": 10,
   "metadata": {},
   "outputs": [],
   "source": [
    "# Verifier/ data consumer side: send desired calculation\n",
    "from zkstats.computation import computation_to_model, State\n",
    "\n",
    "\n",
    "def computation(s: State, data: list[torch.Tensor]) -> torch.Tensor:\n",
    "    x = data[0]\n",
    "    filter = (x>50)\n",
    "    filtered_x = s.where(filter, x)\n",
    "    return s.variance(filtered_x)\n",
    "\n",
    "error = 0.01\n",
    "_, verifier_model = computation_to_model(computation, error)\n",
    "\n",
    "verifier_define_calculation(dummy_data_path, selected_columns, sel_dummy_data_path, verifier_model, verifier_model_path)"
   ]
  },
  {
   "cell_type": "code",
   "execution_count": 11,
   "metadata": {},
   "outputs": [
    {
     "name": "stdout",
     "output_type": "stream",
     "text": [
      "==== Generate & Calibrate Setting ====\n"
     ]
    },
    {
     "name": "stderr",
     "output_type": "stream",
     "text": [
      "\n",
      "\n",
      " <------------- Numerical Fidelity Report (input_scale: 2, param_scale: 2, scale_input_multiplier: 10) ------------->\n",
      "\n",
      "+--------------+--------------+-----------+--------------+----------------+------------------+---------------+---------------+--------------------+--------------------+------------------------+\n",
      "| mean_error   | median_error | max_error | min_error    | mean_abs_error | median_abs_error | max_abs_error | min_abs_error | mean_squared_error | mean_percent_error | mean_abs_percent_error |\n",
      "+--------------+--------------+-----------+--------------+----------------+------------------+---------------+---------------+--------------------+--------------------+------------------------+\n",
      "| -0.057937622 | -0.115875244 | 0         | -0.115875244 | 0.057937622    | 0.115875244      | 0.115875244   | 0             | 0.006713536        | -0.0007207595      | 0.0007207595           |\n",
      "+--------------+--------------+-----------+--------------+----------------+------------------+---------------+---------------+--------------------+--------------------+------------------------+\n",
      "\n",
      "\n"
     ]
    },
    {
     "name": "stdout",
     "output_type": "stream",
     "text": [
      "scale:  [2]\n",
      "setting:  {\"run_args\":{\"tolerance\":{\"val\":0.0,\"scale\":1.0},\"input_scale\":2,\"param_scale\":2,\"scale_rebase_multiplier\":10,\"lookup_range\":[-280,304],\"logrows\":14,\"num_inner_cols\":2,\"variables\":[[\"batch_size\",1]],\"input_visibility\":{\"Hashed\":{\"hash_is_public\":true,\"outlets\":[]}},\"output_visibility\":\"Public\",\"param_visibility\":\"Private\",\"div_rebasing\":false,\"rebase_frac_zero_constants\":false,\"check_mode\":\"UNSAFE\"},\"num_rows\":14432,\"total_assignments\":5411,\"total_const_size\":1205,\"model_instance_shapes\":[[1],[1]],\"model_output_scales\":[0,2],\"model_input_scales\":[2],\"module_sizes\":{\"kzg\":[],\"poseidon\":[14432,[1]]},\"required_lookups\":[{\"GreaterThan\":{\"a\":0.0}}],\"required_range_checks\":[],\"check_mode\":\"UNSAFE\",\"version\":\"9.1.0\",\"num_blinding_factors\":null,\"timestamp\":1709726428882}\n"
     ]
    }
   ],
   "source": [
    "# Prover/ data owner side\n",
    "_, prover_model = computation_to_model(computation, error)\n",
    "\n",
    "prover_gen_settings(data_path, selected_columns, sel_data_path, prover_model,prover_model_path, scales, \"resources\", settings_path)"
   ]
  },
  {
   "cell_type": "code",
   "execution_count": 12,
   "metadata": {},
   "outputs": [
    {
     "name": "stdout",
     "output_type": "stream",
     "text": [
      "==== setting up ezkl ====\n",
      "Time setup: 1.499417781829834 seconds\n",
      "=======================================\n",
      "==== Generating Witness ====\n",
      "witness boolean:  1.0\n",
      "witness result 1 : 80.5\n",
      "==== Generating Proof ====\n",
      "proof:  {'instances': [['31220e5513f6e9b7d0f59d8f019cd197642a431b2136f0311abf6046c9006227', '0100000000000000000000000000000000000000000000000000000000000000', '4201000000000000000000000000000000000000000000000000000000000000']], 'proof': '0x054ced15c315add18b81985f2666dcb5d698d3a2b8cfc49becd7357ee6456029201d1a76e4b42b06fe7e5336b0a58a9d4776d2ab031e217d1861a44ec467a38c224639376adb3faae8713682484d4bcd14161402d78d7b39a63d56f171b8151c155aa158d34381c842c649148aebbf264017fa50d80a614aa9eeb6429bd4790003878783966950b14363f79eb6274263bf542a8581e25325efe51d498f2cc6372eaf7f7890c5bb6dd386be7abd7fbced1bc29d44655a18b977d551b060101305174b0a262abd8f0556bd709f184727a28eb79db981c8b44f986ccaaa8d18cb7a0c39c268e75c447d0f696253973a4ff587080df55e9dc091440dac841295ac110178c9624fe94396932630f6542417ee647e704e6282bc69ea46e88d08ba4f24239e61555f1ecd0d69f343641b6dd83b764c121301e06481aa8ec255e8f68f8623f7bee2c22b6b53fd7bb4b9e2cff60f96e4648dd32bd3abb38e4ed2c850fdb21cc25e52702cf88b2e5bbf3a2500951168cfe6ce80387a2e967bf26ad500eda61952cec97d97038fa86e0d588ab9e42f566d25162d84df839b059b078a60fe5b2f3bc14b0fa7b1873df1ff131f35e782f4c40794b24cb1a425383ace18149df9000e9408c5fd0734f27b69f775e2365cc0cd01604d3091bec808b8a3cde6543729d67378a31340686b1418f05480c8d4e7baa988d43a629897dca0258538058e0a9d28c614d595e56f02109ebd877a480212032f432cf77e8cf27e8b9aeee2012aae00b373ea6d958dc8de28212786ded1fada9c121183176d8c4cb30e4bf106222667c71900c4e4b6c0d464017fc2e6455184a15d61b39acfcb94ecdf08a0a326b9f4af5d341b0a82433d4abf5a03bddee59ccb6231b0ce3f7fa6cf038cf2b00cf5f80c055134f5b9885ee34df739c63b7e069c5564d0122cc3a2e4e58363f30c1b0c1364c74e138a4a5be8ee097910eb825c9e3fc21b136ff733c6542f393502beae2e8ad925a1a0018f7412345aa0f23d34f722e063c856bdd0abaacb391708b86e2ceb0022b624f825b9546d328af03fa98a130d5e424117408c31d9c11518e25327fc25dc6dacb00821c987bbf6a3384c28fcd2da8f4f9498fccb83c2fe29ed7a9b943798c1b5f1ee21678eb203d12f2c503c6846170261b23fbcd31687063ca33d47b39e308049f5829caed5089c5adbf37cd29a6f237764fe915640521bf78a202a1a89b72c3250e261c741f4d2fe09ae4b0917ecd5b58409b8e352e9274aa9236b9d318f2e82276a4266d42d6dd07a1668e57ecda5a34ba0bf5290b014324b8235add6512ca1c3e46b9f80940e58a1419ba7be6be77bd2aa91c150a401ac34557d56c5b1d383ff1e9529712ae98663592234f59b9714322b332586e102817e2576f3dba2d8c6f1c9bb35c7e292099bcd5ba77106e04975b584bf0fe0113a71bb21a5df813ada5ff5a4cfcc8acde9c84e30d5998c396682bdaf40937f202b83c9ac18b8ac5e96d48c23a6191471f299be3d57cc3db952a4a607dbc2c919ba041cce7804081dadb66bcd224cc1b9c3c989d624e8c3d822d7189ba76e172e54e67399b02a137e6ff16b47a20d798887aef9f895e402375e18bc2a8e64f70307e351aafe2f924d68c295ca260c21aa0e1bbcbcdeb2c8a831f9e58f37ec6a22636e131fab6dd4ac3c066ce86278f0c044e1c0e54eb2828d2354eadebf8032071c5bee6ebd50ab84c5f2ce0474a2aa00e15a3660adf7de1265ab28a666cf4a1bdce1e470a21f481eb3aff8942633775964d9cad8682eafee227eb20561b69e2d478ecfd8a6c7582141ef656872f02c35c3d5f6e51632123dbb51bff1b9668c063bb442ece3987652c9678e6b0b9ecfd79f525f0fac9e1cc12bef84e2c0a9eb13c03f4974bd0060f94c92b6764ddc13b6aaebb6bd3dbb1bb36bc81ac58c9ffa07e64eecea953ecaf3332d47f9d1b81d4294ef410f837483de261d325f2ca53503f8def30ceefedd18a25314d83699c45b997fc0ec1c458ed13cabc1777dccfd04ebb8888ca9b12b0330f174db36c28577967ef18b4901d92044e6e3739542ea2925b06aab3d4f66e9efbd177ed709e02d507db9ca1723027910c1682f799229110466ac4c0d1538db3d524479ed71e447414eb480b9202fd73ced58034d4c9009c45956d5b55faf7ece16a1d6b8618736c3d8d4db623beeaed4d44cd795046a1d5fb56974c101105ea71ace72e9e0bfc9a5004cd929b15a5d7293433c54cc720e7d3a82603275bd018b3886340986ff1ba3e25236c1e9e93d344a533ebcc9f40c5ef75cb76635b2d419913f06cd11948db5060b1c6fa2a0d5a66bfea10a8e900846b989139a2a86bc69daed0f8805de805ed6c5e66c8e26965a88abb13ef8f61fbc10d6faa85f3f05596417eca9faa218aff5d4acbf324c5e45a9927f0a6aa30e51356a3c95d0b278bf1edbc5d9f2409b33f89af0ac7b025c4b7de063b2b9d2152ac4de4db4222d303c8a213e5670ab1345690444bd91cfec0735ec9e7622e523c71e72ec26d0d7b68ba9f5f404c15bf119b845b12e50732a66102463cb63251f83e4975aeea760a8c5ab1408bb52932b39e26b7192296f4ea8c085f61a74630d75718f52bfb9399f5be19d6b8a0cba1274b4581ed496ba18c0476d92761cd31a2479c258b5adcb6d8f2d98328ca4c5f58a4f45883b713c4373eae56d6215da24535ad566922eb63f8657ec5000508a5121c0876113820ce52d6c88b794293818c20f02b1a2b0457b3463ecd95c2ad77dc2e0c884e94e29c967a8ec416a7aa12d74b23bd96bf721319270590cba734ac7c537fe61e54b484827ea5a86b47eaf0cd90b28e51a3cf1a9fd75400fa3d009e6808f7ece1116e8c8e7df24d40bba65063171a599c477a6af8787ff762bc55c20379ecd9a43e72d3ca88e83674cdc112a87680baaa8c1546b0db4394082aa6f4dba1affe83f5facfdadcee1ccdcb22505baa711834d4fbc0b8a7d2e314e6c80cb67f28c07ba7724f2f904432e0d9bb41dba3a384092769fb89fd4b14adf757dfd212ebf1fdbbb7562c4c34c6aa7384008624dcfb5d1290bae0b39e4f41135640f2ed0029a61d08317b9c20dd2790f04021b0873c47b089781f798538fe3df705df2a58560409ee0ff56612d133867570000000000000000000000000000000000000000000000000000000000000000085c05bd96a37700ef0aeec877c20337da768b9f19dc680fede5957967390b971ab3561cd8e8a1a008dde52d9dee1f978117652e5f4aa00ca0376aec098501f000000000000000000000000000000000000000000000000000000000000000002e26e26bdf1872b2413dcc763af3f067d03530772cc9bd669e886b5e27235679081295cf9d825aeb850ae1cbdacc7976a1e69772ca6362899919ff10e5e45f38056547ea07537cdfe22ffc14edc7bbf5647822572be85c032e980fa8c8b5f3ab00000000000000000000000000000000000000000000000000000000000000000b83bad3fa02a97f4df5aae121c1b6d96f6a0300a79b33775db8568565147bf12f39c30961ade41b7fbd6deb21c1ef8c227d6cec8b1558e97f4efc54ec50f3e60000000000000000000000000000000000000000000000000000000000000000245cbd4a627fb262697db98c4675a1238fa3d5756bfb551aa2dd3324eb33220f00000000000000000000000000000000000000000000000000000000000000000000000000000000000000000000000000000000000000000000000000000000000000000000000000000000000000000000000000000000000000000000000000000000000000000000000000000000000000000000000000000000000000002f4b763a1f6ec4ac603c06122e1aa91d8498f47eeacf391734754e64a79b43d72b053d77b99ef17ef4f88aebea993596ef880ea155e3206d434e7b2acc271b9318711fb8baed3b5e7deb644f74515f51423463cff583b5c38e8fdbce055a0d1618711fb8baed3b5e7deb644f74515f51423463cff583b5c38e8fdbce055a0d162dd37793124af5a64c9103173ac95295fb10d13de11a59d9fc6fbaa9bf6faa4a2213bdb21adf8b4ba8ccdc3c1623dc1666437694e71b7b748039f9e9873d97a612d6f4b9abdf60f44e282105a0de5f291a9b859642064f9782b9b88801adb17a20020cde3a0c0f01d8e9359fd413bf968e240db9153e27c5e116a92bf52d43732f9203027e2ec4e5c43bd414f5184f7820aa04b92fa956fd44997e8a132b946c0038caf71cd610c19375fedeec612f894417f10b4c3aaea912966dcc6934748926f91832c589bc7552eeb66294f132d58be6f4e70d8bde763524461054c7c657210e80defd2ccaaacedafbef835b35b50cddde247f6fce673273a8c226924823247adf20f333b848680b814db802f3ad3662ad426015447205c27e4908fc7e4e15cc8d3e02a5da9199bdbdd7098f4f9bafb2c29d05682bb2de88473dd41f33d715ecfe90905949a12d147567bb9aa327ccbb0fd417920e2e7c6a31240a8208f624f35f6a4525c31b5b3b3cc86fc58cf817edd0cc595d63988de3f2e48d9298620a5a5a0fdeb922817078b9ccba37e941ca2c6aceff6d2550fb88ec2b3338c050293ac2f01d6f687574084d9fe42db13d353e40bccd0c483655fa358109a9488e152200caeaf6524f17322f12937abdcd44b0e9a45f917fc4fc80c40d2bf15cfa166216be67c8ae923b18c32dec8ecaa6b598458d3697ad6143b6786b416c241326762078dc2c650a9cd1fffb2d06f74b3f7fbba8462c5d61e8462143f8360d7722374739b43af30d8b9a9fe8c267583982ea1f6ce420ff2116a0993ef913be8309a5f270d557075d501436f0eaae67fed451e1b920028dcc588d86318d6270b8300bf322b04ac5e1e387045d75dd2e5a2f8a40fcd5bb77a41f26a4d8943082c12ec8738f2bd0259cfbfa148b6aa7b42dae419e9c91b0225949a0a29e5d045a272785d3c1909b7d13804cdc9506fdda764eb2ee92bd986960fb09021f1a0742f211e87aed3483e07b421c3b5930ea4748a712520361a157814cd2fee2eebf8cc019fe5f96be8f81918517cf385f9f8f9640ea2290ff0c5a123c11687bcfd705bf1d3f84f584df7ce776181929427b06b0cb2b9e5ba923df97b96dcb104699582b2d22f0926ab225a66ea82e4a02428ea9989504fe8d4852d2fe13722bcb9bd96929e3258da0706cb61fa55b48abcea3a3013f6502320dc3cffc7d2413e3936dfc1b279c816d02035ae8f1b5d3f60fe98c80f059385ea30369249607d0993a860e2628ba90faef4201e5906fc2ee3a2811f4a0fa2dbff30aa4da00f28130632a6d1bae2b25e032ef6e682a5682e4bdad66771a887446331a8cc2384714545851bf0c1e133546333f90a32b3bbba0a510ac63b5ee8cb912f37a37aa4d7e275df063', 'transcript_type': 'EVM'}\n",
      "Time gen prf: 1.750807762145996 seconds\n"
     ]
    }
   ],
   "source": [
    "# Here verifier & prover can concurrently call setup since all params are public to get pk.\n",
    "# Here write as verifier function to emphasize that verifier must calculate its own vk to be sure\n",
    "setup(verifier_model_path, verifier_compiled_model_path, settings_path,vk_path, pk_path )\n",
    "\n",
    "print(\"=======================================\")\n",
    "# Prover generates proof\n",
    "prover_gen_proof(prover_model_path, sel_data_path, witness_path, prover_compiled_model_path, settings_path, proof_path, pk_path)"
   ]
  },
  {
   "cell_type": "code",
   "execution_count": 14,
   "metadata": {},
   "outputs": [
    {
     "name": "stdout",
     "output_type": "stream",
     "text": [
      "Verifier gets result: [80.5]\n"
     ]
    }
   ],
   "source": [
    "# Verifier verifies\n",
    "res = verifier_verify(proof_path, settings_path, vk_path, selected_columns, data_commitment_path)\n",
    "print(\"Verifier gets result:\", res)"
   ]
  },
  {
   "cell_type": "code",
   "execution_count": null,
   "metadata": {},
   "outputs": [],
   "source": []
  }
 ],
 "metadata": {
  "kernelspec": {
   "display_name": "Python 3",
   "language": "python",
   "name": "python3"
  },
  "language_info": {
   "codemirror_mode": {
    "name": "ipython",
    "version": 3
   },
   "file_extension": ".py",
   "mimetype": "text/x-python",
   "name": "python",
   "nbconvert_exporter": "python",
   "pygments_lexer": "ipython3",
   "version": "3.11.4"
  },
  "orig_nbformat": 4
 },
 "nbformat": 4,
 "nbformat_minor": 2
}
