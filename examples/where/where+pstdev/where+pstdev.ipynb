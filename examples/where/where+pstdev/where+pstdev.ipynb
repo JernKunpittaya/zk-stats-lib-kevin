{
 "cells": [
  {
   "cell_type": "code",
   "execution_count": 1,
   "metadata": {},
   "outputs": [],
   "source": [
    "import ezkl\n",
    "import torch\n",
    "from torch import nn\n",
    "import json\n",
    "import os\n",
    "import time\n",
    "import scipy\n",
    "import numpy as np\n",
    "import matplotlib.pyplot as plt\n",
    "import statistics\n",
    "import math"
   ]
  },
  {
   "cell_type": "code",
   "execution_count": 2,
   "metadata": {},
   "outputs": [],
   "source": [
    "from zkstats.core import create_dummy, verifier_define_calculation, prover_gen_settings, setup, prover_gen_proof, verifier_verify, generate_data_commitment"
   ]
  },
  {
   "cell_type": "code",
   "execution_count": 3,
   "metadata": {},
   "outputs": [],
   "source": [
    "# init path\n",
    "os.makedirs(os.path.dirname('shared/'), exist_ok=True)\n",
    "os.makedirs(os.path.dirname('prover/'), exist_ok=True)\n",
    "verifier_model_path = os.path.join('shared/verifier.onnx')\n",
    "prover_model_path = os.path.join('prover/prover.onnx')\n",
    "verifier_compiled_model_path = os.path.join('shared/verifier.compiled')\n",
    "prover_compiled_model_path = os.path.join('prover/prover.compiled')\n",
    "pk_path = os.path.join('shared/test.pk')\n",
    "vk_path = os.path.join('shared/test.vk')\n",
    "proof_path = os.path.join('shared/test.pf')\n",
    "settings_path = os.path.join('shared/settings.json')\n",
    "srs_path = os.path.join('shared/kzg.srs')\n",
    "witness_path = os.path.join('prover/witness.json')\n",
    "# this is private to prover since it contains actual data\n",
    "sel_data_path = os.path.join('prover/sel_data.json')\n",
    "# this is just dummy random value\n",
    "sel_dummy_data_path = os.path.join('shared/sel_dummy_data.json')\n",
    "data_commitment_path = os.path.join('shared/data_commitment.json')"
   ]
  },
  {
   "attachments": {},
   "cell_type": "markdown",
   "metadata": {},
   "source": [
    "=======================  ZK-STATS FLOW ======================="
   ]
  },
  {
   "cell_type": "code",
   "execution_count": 4,
   "metadata": {},
   "outputs": [],
   "source": [
    "data_path = os.path.join('data.json')\n",
    "dummy_data_path = os.path.join('shared/dummy_data.json')\n",
    "create_dummy(data_path, dummy_data_path)"
   ]
  },
  {
   "cell_type": "code",
   "execution_count": 5,
   "metadata": {},
   "outputs": [],
   "source": [
    "scales = [3]\n",
    "selected_columns = ['col_name']\n",
    "generate_data_commitment(data_path, scales, data_commitment_path)"
   ]
  },
  {
   "cell_type": "code",
   "execution_count": 6,
   "metadata": {},
   "outputs": [
    {
     "name": "stderr",
     "output_type": "stream",
     "text": [
      "/Users/jernkun/Desktop/zk-stats-lib/zkstats/computation.py:172: TracerWarning: torch.tensor results are registered as constants in the trace. You can safely ignore this warning if you use this function to create tensors out of constant variables that would be the same every time you call this function. In any other case, this might cause the trace to be incorrect.\n",
      "  is_precise_aggregated = torch.tensor(1.0)\n",
      "/Users/jernkun/Library/Caches/pypoetry/virtualenvs/zkstats-OJpceffF-py3.11/lib/python3.11/site-packages/torch/onnx/symbolic_opset9.py:2174: FutureWarning: 'torch.onnx.symbolic_opset9._cast_Bool' is deprecated in version 2.0 and will be removed in the future. Please Avoid using this function and create a Cast node instead.\n",
      "  return fn(g, to_cast_func(g, input, False), to_cast_func(g, other, False))\n"
     ]
    }
   ],
   "source": [
    "# Verifier/ data consumer side: send desired calculation\n",
    "from zkstats.computation import computation_to_model, State\n",
    "\n",
    "\n",
    "def computation(s: State, data: list[torch.Tensor]) -> torch.Tensor:\n",
    "    x = data[0]\n",
    "    filter = torch.logical_or(x<30, x>50)\n",
    "    filtered_x = s.where(filter, x)\n",
    "    return s.pstdev(filtered_x)\n",
    "\n",
    "error = 0.01\n",
    "_, verifier_model = computation_to_model(computation, error)\n",
    "\n",
    "verifier_define_calculation(dummy_data_path, selected_columns, sel_dummy_data_path, verifier_model, verifier_model_path)"
   ]
  },
  {
   "cell_type": "code",
   "execution_count": 7,
   "metadata": {},
   "outputs": [
    {
     "name": "stdout",
     "output_type": "stream",
     "text": [
      "==== Generate & Calibrate Setting ====\n"
     ]
    },
    {
     "name": "stderr",
     "output_type": "stream",
     "text": [
      "\n",
      "\n",
      " <------------- Numerical Fidelity Report (input_scale: 3, param_scale: 3, scale_input_multiplier: 10) ------------->\n",
      "\n",
      "+-------------+--------------+-------------+-----------+----------------+------------------+---------------+---------------+--------------------+--------------------+------------------------+\n",
      "| mean_error  | median_error | max_error   | min_error | mean_abs_error | median_abs_error | max_abs_error | min_abs_error | mean_squared_error | mean_percent_error | mean_abs_percent_error |\n",
      "+-------------+--------------+-------------+-----------+----------------+------------------+---------------+---------------+--------------------+--------------------+------------------------+\n",
      "| 0.028796673 | 0.057593346  | 0.057593346 | 0         | 0.028796673    | 0.057593346      | 0.057593346   | 0             | 0.0016584967       | 0.0018074065       | 0.0018074065           |\n",
      "+-------------+--------------+-------------+-----------+----------------+------------------+---------------+---------------+--------------------+--------------------+------------------------+\n",
      "\n",
      "\n"
     ]
    },
    {
     "name": "stdout",
     "output_type": "stream",
     "text": [
      "scale:  [3]\n",
      "setting:  {\"run_args\":{\"tolerance\":{\"val\":0.0,\"scale\":1.0},\"input_scale\":3,\"param_scale\":3,\"scale_rebase_multiplier\":10,\"lookup_range\":[-928,608],\"logrows\":14,\"num_inner_cols\":2,\"variables\":[[\"batch_size\",1]],\"input_visibility\":{\"Hashed\":{\"hash_is_public\":true,\"outlets\":[]}},\"output_visibility\":\"Public\",\"param_visibility\":\"Private\",\"div_rebasing\":false,\"rebase_frac_zero_constants\":false,\"check_mode\":\"UNSAFE\"},\"num_rows\":14432,\"total_assignments\":7511,\"total_const_size\":1506,\"model_instance_shapes\":[[1],[1]],\"model_output_scales\":[0,3],\"model_input_scales\":[3],\"module_sizes\":{\"kzg\":[],\"poseidon\":[14432,[1]]},\"required_lookups\":[{\"GreaterThan\":{\"a\":0.0}}],\"required_range_checks\":[],\"check_mode\":\"UNSAFE\",\"version\":\"9.1.0\",\"num_blinding_factors\":null,\"timestamp\":1709725951872}\n"
     ]
    }
   ],
   "source": [
    "# Prover/ data owner side\n",
    "_, prover_model = computation_to_model(computation, error)\n",
    "\n",
    "prover_gen_settings(data_path, selected_columns, sel_data_path, prover_model,prover_model_path, scales, \"resources\", settings_path)"
   ]
  },
  {
   "cell_type": "code",
   "execution_count": 8,
   "metadata": {},
   "outputs": [
    {
     "name": "stdout",
     "output_type": "stream",
     "text": [
      "==== setting up ezkl ====\n",
      "Time setup: 1.506464958190918 seconds\n",
      "=======================================\n",
      "==== Generating Witness ====\n",
      "witness boolean:  1.0\n",
      "witness result 1 : 15.875\n",
      "==== Generating Proof ====\n",
      "proof:  {'instances': [['d57f47950cdabf2cb79306e0f33e75726a2c2960806e902b0fc88d3ff949a108', '0100000000000000000000000000000000000000000000000000000000000000', '7f00000000000000000000000000000000000000000000000000000000000000']], 'proof': '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', 'transcript_type': 'EVM'}\n",
      "Time gen prf: 1.7523078918457031 seconds\n"
     ]
    }
   ],
   "source": [
    "# Here verifier & prover can concurrently call setup since all params are public to get pk.\n",
    "# Here write as verifier function to emphasize that verifier must calculate its own vk to be sure\n",
    "setup(verifier_model_path, verifier_compiled_model_path, settings_path,vk_path, pk_path )\n",
    "\n",
    "print(\"=======================================\")\n",
    "# Prover generates proof\n",
    "prover_gen_proof(prover_model_path, sel_data_path, witness_path, prover_compiled_model_path, settings_path, proof_path, pk_path)"
   ]
  },
  {
   "cell_type": "code",
   "execution_count": 9,
   "metadata": {},
   "outputs": [
    {
     "name": "stdout",
     "output_type": "stream",
     "text": [
      "Verifier gets result: [15.875]\n"
     ]
    }
   ],
   "source": [
    "# Verifier verifies\n",
    "res = verifier_verify(proof_path, settings_path, vk_path, selected_columns, data_commitment_path)\n",
    "print(\"Verifier gets result:\", res)"
   ]
  },
  {
   "cell_type": "code",
   "execution_count": null,
   "metadata": {},
   "outputs": [],
   "source": []
  }
 ],
 "metadata": {
  "kernelspec": {
   "display_name": "Python 3",
   "language": "python",
   "name": "python3"
  },
  "language_info": {
   "codemirror_mode": {
    "name": "ipython",
    "version": 3
   },
   "file_extension": ".py",
   "mimetype": "text/x-python",
   "name": "python",
   "nbconvert_exporter": "python",
   "pygments_lexer": "ipython3",
   "version": "3.11.4"
  },
  "orig_nbformat": 4
 },
 "nbformat": 4,
 "nbformat_minor": 2
}
