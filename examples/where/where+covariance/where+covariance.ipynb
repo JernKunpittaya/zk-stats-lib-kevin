{
 "cells": [
  {
   "cell_type": "code",
   "execution_count": 1,
   "metadata": {},
   "outputs": [],
   "source": [
    "import ezkl\n",
    "import torch\n",
    "from torch import nn\n",
    "import json\n",
    "import os\n",
    "import time\n",
    "import scipy\n",
    "import numpy as np\n",
    "import matplotlib.pyplot as plt\n",
    "import statistics\n",
    "import math"
   ]
  },
  {
   "cell_type": "code",
   "execution_count": 2,
   "metadata": {},
   "outputs": [],
   "source": [
    "from zkstats.core import create_dummy, verifier_define_calculation, prover_gen_settings, setup, prover_gen_proof, verifier_verify, get_data_commitment_maps"
   ]
  },
  {
   "cell_type": "code",
   "execution_count": 3,
   "metadata": {},
   "outputs": [],
   "source": [
    "# init path\n",
    "os.makedirs(os.path.dirname('shared/'), exist_ok=True)\n",
    "os.makedirs(os.path.dirname('prover/'), exist_ok=True)\n",
    "verifier_model_path = os.path.join('shared/verifier.onnx')\n",
    "prover_model_path = os.path.join('prover/prover.onnx')\n",
    "verifier_compiled_model_path = os.path.join('shared/verifier.compiled')\n",
    "prover_compiled_model_path = os.path.join('prover/prover.compiled')\n",
    "pk_path = os.path.join('shared/test.pk')\n",
    "vk_path = os.path.join('shared/test.vk')\n",
    "proof_path = os.path.join('shared/test.pf')\n",
    "settings_path = os.path.join('shared/settings.json')\n",
    "srs_path = os.path.join('shared/kzg.srs')\n",
    "witness_path = os.path.join('prover/witness.json')\n",
    "# this is private to prover since it contains actual data\n",
    "sel_data_path = os.path.join('prover/sel_data.json')\n",
    "# this is just dummy random value\n",
    "sel_dummy_data_path = os.path.join('shared/sel_dummy_data.json')"
   ]
  },
  {
   "attachments": {},
   "cell_type": "markdown",
   "metadata": {},
   "source": [
    "=======================  ZK-STATS FLOW ======================="
   ]
  },
  {
   "cell_type": "code",
   "execution_count": 4,
   "metadata": {},
   "outputs": [],
   "source": [
    "data_path = os.path.join('data.json')\n",
    "dummy_data_path = os.path.join('shared/dummy_data.json')\n",
    "\n",
    "create_dummy(data_path, dummy_data_path)"
   ]
  },
  {
   "cell_type": "code",
   "execution_count": 5,
   "metadata": {},
   "outputs": [],
   "source": [
    "# note scale = 2, or 3 makes it more precise, but too big.\n",
    "scales = [1]\n",
    "selected_columns = ['x', 'y']\n",
    "commitment_maps = get_data_commitment_maps(data_path, scales)"
   ]
  },
  {
   "attachments": {},
   "cell_type": "markdown",
   "metadata": {},
   "source": []
  },
  {
   "cell_type": "code",
   "execution_count": 6,
   "metadata": {},
   "outputs": [
    {
     "name": "stderr",
     "output_type": "stream",
     "text": [
      "/Users/jernkun/Desktop/zk-stats-lib/zkstats/computation.py:172: TracerWarning: torch.tensor results are registered as constants in the trace. You can safely ignore this warning if you use this function to create tensors out of constant variables that would be the same every time you call this function. In any other case, this might cause the trace to be incorrect.\n",
      "  is_precise_aggregated = torch.tensor(1.0)\n",
      "/Users/jernkun/Library/Caches/pypoetry/virtualenvs/zkstats-OJpceffF-py3.11/lib/python3.11/site-packages/torch/onnx/symbolic_opset9.py:2174: FutureWarning: 'torch.onnx.symbolic_opset9._cast_Bool' is deprecated in version 2.0 and will be removed in the future. Please Avoid using this function and create a Cast node instead.\n",
      "  return fn(g, to_cast_func(g, input, False), to_cast_func(g, other, False))\n"
     ]
    }
   ],
   "source": [
    "# Verifier/ data consumer side:\n",
    "from zkstats.computation import computation_to_model, State\n",
    "\n",
    "def computation(s: State, data: list[torch.Tensor]) -> torch.Tensor:\n",
    "    x, y = data[0], data[1]\n",
    "    # can AND condition! (same for OR as well)\n",
    "    filter = torch.logical_and((x>50), (y>300))\n",
    "    filtered_x = s.where(filter, x)\n",
    "    filtered_y = s.where(filter, y)\n",
    "    return s.covariance(filtered_x, filtered_y)\n",
    "\n",
    "error = 0.01\n",
    "_, verifier_model = computation_to_model(computation, error)\n",
    "\n",
    "\n",
    "verifier_define_calculation(dummy_data_path, selected_columns, sel_dummy_data_path,verifier_model, verifier_model_path)"
   ]
  },
  {
   "cell_type": "code",
   "execution_count": 7,
   "metadata": {},
   "outputs": [
    {
     "name": "stderr",
     "output_type": "stream",
     "text": [
      "\n",
      "\n",
      " <------------- Numerical Fidelity Report (input_scale: 1, param_scale: 1, scale_input_multiplier: 10) ------------->\n",
      "\n",
      "+------------+--------------+------------+-----------+----------------+------------------+---------------+---------------+--------------------+--------------------+------------------------+\n",
      "| mean_error | median_error | max_error  | min_error | mean_abs_error | median_abs_error | max_abs_error | min_abs_error | mean_squared_error | mean_percent_error | mean_abs_percent_error |\n",
      "+------------+--------------+------------+-----------+----------------+------------------+---------------+---------------+--------------------+--------------------+------------------------+\n",
      "| 0.08456421 | 0.16912842   | 0.16912842 | 0         | 0.08456421     | 0.16912842       | 0.16912842    | 0             | 0.014302211        | 0.00025573664      | 0.00025573664          |\n",
      "+------------+--------------+------------+-----------+----------------+------------------+---------------+---------------+--------------------+--------------------+------------------------+\n",
      "\n",
      "\n"
     ]
    },
    {
     "name": "stdout",
     "output_type": "stream",
     "text": [
      "==== Generate & Calibrate Setting ====\n",
      "scale:  [1]\n",
      "setting:  {\"run_args\":{\"tolerance\":{\"val\":0.0,\"scale\":1.0},\"input_scale\":1,\"param_scale\":1,\"scale_rebase_multiplier\":10,\"lookup_range\":[-1348,778],\"logrows\":14,\"num_inner_cols\":2,\"variables\":[[\"batch_size\",1]],\"input_visibility\":{\"Hashed\":{\"hash_is_public\":true,\"outlets\":[]}},\"output_visibility\":\"Public\",\"param_visibility\":\"Private\",\"div_rebasing\":false,\"rebase_frac_zero_constants\":false,\"check_mode\":\"UNSAFE\"},\"num_rows\":13120,\"total_assignments\":3317,\"total_const_size\":608,\"model_instance_shapes\":[[1],[1]],\"model_output_scales\":[0,1],\"model_input_scales\":[1,1],\"module_sizes\":{\"kzg\":[],\"poseidon\":[13120,[2]]},\"required_lookups\":[{\"GreaterThan\":{\"a\":0.0}}],\"required_range_checks\":[],\"check_mode\":\"UNSAFE\",\"version\":\"9.1.0\",\"num_blinding_factors\":null,\"timestamp\":1709724643678}\n"
     ]
    }
   ],
   "source": [
    "# prover calculates settings, send to verifier\n",
    "_, prover_model = computation_to_model(computation, error)\n",
    "prover_gen_settings(data_path, selected_columns, sel_data_path, prover_model,prover_model_path, scales, \"resources\", settings_path)"
   ]
  },
  {
   "cell_type": "code",
   "execution_count": 8,
   "metadata": {},
   "outputs": [
    {
     "name": "stdout",
     "output_type": "stream",
     "text": [
      "==== setting up ezkl ====\n",
      "Time setup: 1.4659230709075928 seconds\n",
      "=======================================\n",
      "==== Generating Witness ====\n",
      "witness boolean:  1.0\n",
      "witness result 1 : 330.5\n",
      "==== Generating Proof ====\n",
      "proof:  {'instances': [['b8c4693b3424042141e265e5179743499536c8b9f1ddc7d4d4fc847c1c09df04', '7d055c183092753c601560dfbfa0b446f5417438227d99435c476a0659de3d14', '0100000000000000000000000000000000000000000000000000000000000000', '9502000000000000000000000000000000000000000000000000000000000000']], 'proof': '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', 'transcript_type': 'EVM'}\n",
      "Time gen prf: 1.7153010368347168 seconds\n"
     ]
    }
   ],
   "source": [
    "# Here verifier & prover can concurrently call setup since all params are public to get pk.\n",
    "# Here write as verifier function to emphasize that verifier must calculate its own vk to be sure\n",
    "setup(verifier_model_path, verifier_compiled_model_path, settings_path,vk_path, pk_path )\n",
    "\n",
    "print(\"=======================================\")\n",
    "# Prover generates proof\n",
    "prover_gen_proof(prover_model_path, sel_data_path, witness_path, prover_compiled_model_path, settings_path, proof_path, pk_path)"
   ]
  },
  {
   "cell_type": "code",
   "execution_count": 9,
   "metadata": {},
   "outputs": [
    {
     "name": "stdout",
     "output_type": "stream",
     "text": [
      "Verifier gets result: [330.5]\n"
     ]
    }
   ],
   "source": [
    "# Verifier verifies\n",
    "res = verifier_verify(proof_path, settings_path, vk_path, selected_columns, commitment_maps)\n",
    "print(\"Verifier gets result:\", res)"
   ]
  }
 ],
 "metadata": {
  "kernelspec": {
   "display_name": "Python 3",
   "language": "python",
   "name": "python3"
  },
  "language_info": {
   "codemirror_mode": {
    "name": "ipython",
    "version": 3
   },
   "file_extension": ".py",
   "mimetype": "text/x-python",
   "name": "python",
   "nbconvert_exporter": "python",
   "pygments_lexer": "ipython3",
   "version": "3.11.4"
  },
  "orig_nbformat": 4
 },
 "nbformat": 4,
 "nbformat_minor": 2
}
