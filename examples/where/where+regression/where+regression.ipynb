{
 "cells": [
  {
   "cell_type": "code",
   "execution_count": 1,
   "metadata": {},
   "outputs": [],
   "source": [
    "import ezkl\n",
    "import torch\n",
    "from torch import nn\n",
    "import json\n",
    "import os\n",
    "import time\n",
    "import scipy\n",
    "import numpy as np\n",
    "import matplotlib.pyplot as plt\n",
    "import statistics\n",
    "import math"
   ]
  },
  {
   "cell_type": "code",
   "execution_count": 2,
   "metadata": {},
   "outputs": [],
   "source": [
    "from zkstats.core import create_dummy, verifier_define_calculation, prover_gen_settings, setup, prover_gen_proof, verifier_verify, get_data_commitment_maps"
   ]
  },
  {
   "cell_type": "code",
   "execution_count": 3,
   "metadata": {},
   "outputs": [],
   "source": [
    "# init path\n",
    "os.makedirs(os.path.dirname('shared/'), exist_ok=True)\n",
    "os.makedirs(os.path.dirname('prover/'), exist_ok=True)\n",
    "verifier_model_path = os.path.join('shared/verifier.onnx')\n",
    "prover_model_path = os.path.join('prover/prover.onnx')\n",
    "verifier_compiled_model_path = os.path.join('shared/verifier.compiled')\n",
    "prover_compiled_model_path = os.path.join('prover/prover.compiled')\n",
    "pk_path = os.path.join('shared/test.pk')\n",
    "vk_path = os.path.join('shared/test.vk')\n",
    "proof_path = os.path.join('shared/test.pf')\n",
    "settings_path = os.path.join('shared/settings.json')\n",
    "srs_path = os.path.join('shared/kzg.srs')\n",
    "witness_path = os.path.join('prover/witness.json')\n",
    "# this is private to prover since it contains actual data\n",
    "sel_data_path = os.path.join('prover/sel_data.json')\n",
    "# this is just dummy random value\n",
    "sel_dummy_data_path = os.path.join('shared/sel_dummy_data.json')"
   ]
  },
  {
   "attachments": {},
   "cell_type": "markdown",
   "metadata": {},
   "source": [
    "=======================  ZK-STATS FLOW ======================="
   ]
  },
  {
   "cell_type": "code",
   "execution_count": 4,
   "metadata": {},
   "outputs": [],
   "source": [
    "data_path = os.path.join('data.json')\n",
    "dummy_data_path = os.path.join('shared/dummy_data.json')\n",
    "\n",
    "create_dummy(data_path, dummy_data_path)\n"
   ]
  },
  {
   "cell_type": "code",
   "execution_count": 5,
   "metadata": {},
   "outputs": [],
   "source": [
    "scales = [4]\n",
    "selected_columns = ['x1', 'y']\n",
    "commitment_maps = get_data_commitment_maps(data_path, scales)"
   ]
  },
  {
   "cell_type": "code",
   "execution_count": 6,
   "metadata": {},
   "outputs": [
    {
     "name": "stdout",
     "output_type": "stream",
     "text": [
      "result:  tensor([[[ 0.0224],\n",
      "         [10.1720]]])\n"
     ]
    },
    {
     "name": "stderr",
     "output_type": "stream",
     "text": [
      "/Users/jernkun/Desktop/zk-stats-lib/zkstats/computation.py:172: TracerWarning: torch.tensor results are registered as constants in the trace. You can safely ignore this warning if you use this function to create tensors out of constant variables that would be the same every time you call this function. In any other case, this might cause the trace to be incorrect.\n",
      "  is_precise_aggregated = torch.tensor(1.0)\n",
      "/Users/jernkun/Desktop/zk-stats-lib/zkstats/ops.py:403: TracerWarning: torch.tensor results are registered as constants in the trace. You can safely ignore this warning if you use this function to create tensors out of constant variables that would be the same every time you call this function. In any other case, this might cause the trace to be incorrect.\n",
      "  y = torch.where(y==MagicNumber, torch.tensor(0.0), y)\n",
      "/Users/jernkun/Desktop/zk-stats-lib/zkstats/ops.py:405: TracerWarning: torch.tensor results are registered as constants in the trace. You can safely ignore this warning if you use this function to create tensors out of constant variables that would be the same every time you call this function. In any other case, this might cause the trace to be incorrect.\n",
      "  x_one = torch.where((x_one[:,:,0] ==MagicNumber).unsqueeze(-1), torch.tensor([0.0]*x_one.size()[2]), x_one)\n",
      "/Users/jernkun/Library/Caches/pypoetry/virtualenvs/zkstats-OJpceffF-py3.11/lib/python3.11/site-packages/torch/onnx/symbolic_opset9.py:2174: FutureWarning: 'torch.onnx.symbolic_opset9._cast_Bool' is deprecated in version 2.0 and will be removed in the future. Please Avoid using this function and create a Cast node instead.\n",
      "  return fn(g, to_cast_func(g, input, False), to_cast_func(g, other, False))\n"
     ]
    }
   ],
   "source": [
    "# Verifier/ data consumer side: send desired calculation\n",
    "from zkstats.computation import computation_to_model, State\n",
    "\n",
    "\n",
    "def computation(s: State, data: list[torch.Tensor]) -> torch.Tensor:\n",
    "    x = data[0]\n",
    "    y = data[1]\n",
    "    # FIXME: should be replaced by `s.where` when it's available. Now the result may be incorrect\n",
    "    filter = (y < 20)\n",
    "    # FIXME: not sure how to do filtering correctly here\n",
    "    filtered_x = s.where(filter, x)\n",
    "    filtered_y = s.where(filter, y)\n",
    "    return s.linear_regression(filtered_x, filtered_y)\n",
    "\n",
    "\n",
    "error = 0.05\n",
    "_, verifier_model = computation_to_model(computation, error)\n",
    "\n",
    "verifier_define_calculation(dummy_data_path, selected_columns, sel_dummy_data_path,verifier_model, verifier_model_path)"
   ]
  },
  {
   "cell_type": "code",
   "execution_count": 7,
   "metadata": {},
   "outputs": [
    {
     "name": "stderr",
     "output_type": "stream",
     "text": [
      "\n",
      "\n",
      " <------------- Numerical Fidelity Report (input_scale: 4, param_scale: 4, scale_input_multiplier: 10) ------------->\n",
      "\n",
      "+---------------+--------------+-----------+--------------+----------------+------------------+---------------+---------------+--------------------+--------------------+------------------------+\n",
      "| mean_error    | median_error | max_error | min_error    | mean_abs_error | median_abs_error | max_abs_error | min_abs_error | mean_squared_error | mean_percent_error | mean_abs_percent_error |\n",
      "+---------------+--------------+-----------+--------------+----------------+------------------+---------------+---------------+--------------------+--------------------+------------------------+\n",
      "| -0.0055365562 | -0.004655361 | 0         | -0.011954308 | 0.0055365562   | 0.004655361      | 0.011954308   | 0             | 0.000054859283     | -0.001968241       | 0.001968241            |\n",
      "+---------------+--------------+-----------+--------------+----------------+------------------+---------------+---------------+--------------------+--------------------+------------------------+\n",
      "\n",
      "\n"
     ]
    },
    {
     "name": "stdout",
     "output_type": "stream",
     "text": [
      "result:  tensor([[[0.9953],\n",
      "         [9.7380]]])\n",
      "==== Generate & Calibrate Setting ====\n",
      "scale:  [4]\n",
      "setting:  {\"run_args\":{\"tolerance\":{\"val\":0.0,\"scale\":1.0},\"input_scale\":4,\"param_scale\":4,\"scale_rebase_multiplier\":10,\"lookup_range\":[-400,512],\"logrows\":13,\"num_inner_cols\":2,\"variables\":[[\"batch_size\",1]],\"input_visibility\":{\"Hashed\":{\"hash_is_public\":true,\"outlets\":[]}},\"output_visibility\":\"Public\",\"param_visibility\":\"Private\",\"div_rebasing\":false,\"rebase_frac_zero_constants\":false,\"check_mode\":\"UNSAFE\"},\"num_rows\":7872,\"total_assignments\":1518,\"total_const_size\":308,\"model_instance_shapes\":[[1],[1,2,1]],\"model_output_scales\":[0,4],\"model_input_scales\":[4,4],\"module_sizes\":{\"kzg\":[],\"poseidon\":[7872,[2]]},\"required_lookups\":[{\"GreaterThan\":{\"a\":0.0}}],\"required_range_checks\":[],\"check_mode\":\"UNSAFE\",\"version\":\"9.1.0\",\"num_blinding_factors\":null,\"timestamp\":1709690487476}\n"
     ]
    }
   ],
   "source": [
    "# Prover/ data owner side\n",
    "_, prover_model = computation_to_model(computation, error)\n",
    "\n",
    "prover_gen_settings(data_path, selected_columns, sel_data_path, prover_model, prover_model_path, scales, \"resources\", settings_path)"
   ]
  },
  {
   "cell_type": "code",
   "execution_count": 8,
   "metadata": {},
   "outputs": [
    {
     "name": "stdout",
     "output_type": "stream",
     "text": [
      "==== setting up ezkl ====\n",
      "Time setup: 0.8701119422912598 seconds\n",
      "=======================================\n",
      "==== Generating Witness ====\n",
      "witness boolean:  1.0\n",
      "witness result 1 : 1.0\n",
      "witness result 2 : 9.75\n",
      "==== Generating Proof ====\n",
      "proof:  {'instances': [['78f113a919d1324cbee267b4320db42ee0170745a57013fa302f8139d7c36f18', '8dff683cfffbd97a4d94de7d897e03bb3f2fa18084beff4bbfbd152c2e2bcd16', '0100000000000000000000000000000000000000000000000000000000000000', '1000000000000000000000000000000000000000000000000000000000000000', '9c00000000000000000000000000000000000000000000000000000000000000']], 'proof': '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', 'transcript_type': 'EVM'}\n",
      "Time gen prf: 1.0586259365081787 seconds\n"
     ]
    }
   ],
   "source": [
    "# Here verifier & prover can concurrently call setup since all params are public to get pk.\n",
    "# Here write as verifier function to emphasize that verifier must calculate its own vk to be sure\n",
    "setup(verifier_model_path, verifier_compiled_model_path, settings_path,vk_path, pk_path )\n",
    "\n",
    "print(\"=======================================\")\n",
    "# Prover generates proof\n",
    "prover_gen_proof(prover_model_path, sel_data_path, witness_path, prover_compiled_model_path, settings_path, proof_path, pk_path)"
   ]
  },
  {
   "cell_type": "code",
   "execution_count": 9,
   "metadata": {},
   "outputs": [
    {
     "name": "stdout",
     "output_type": "stream",
     "text": [
      "Verifier gets result: [1.0, 9.75]\n"
     ]
    }
   ],
   "source": [
    "# Verifier verifies\n",
    "res = verifier_verify(proof_path, settings_path, vk_path, selected_columns, commitment_maps)\n",
    "print(\"Verifier gets result:\", res)"
   ]
  },
  {
   "cell_type": "code",
   "execution_count": 10,
   "metadata": {},
   "outputs": [
    {
     "name": "stdout",
     "output_type": "stream",
     "text": [
      "LinregressResult(slope=1.5701100032164679, intercept=9.543682881955615, rvalue=0.6564886189558647, pvalue=2.2600615271814128e-07, stderr=0.2604036418835096, intercept_stderr=1.631311911135312)\n",
      "LinregressResult(slope=0.9953446553446554, intercept=9.738045954045953, rvalue=0.5646151788621693, pvalue=0.0014190381578603627, stderr=0.2800138217099284, intercept_stderr=1.473954985506841)\n"
     ]
    }
   ],
   "source": [
    "x1_arr=  np.array([\n",
    "    7.1, 3.2, 8.6, 3.5, 0.1, 9.7, 2.3, 5.7, 2.8, 10.0, 6.0, 6.0, 9.1, 1.7, 9.2,\n",
    "    0.2, 7.8, 3.7, 7.0, 2.5, 2.8, 5.9, 7.3, 2.9, 2.9, 3.5, 1.0, 9.7, 4.8, 0.9,\n",
    "    7.1, 3.6, 8.2, 3.0, 7.6, 4.2, 5.2, 8.1, 6.3, 9.3, 8.8, 8.2, 6.7, 4.9, 5.4,\n",
    "    9.8, 5.9, 7.1, 3.9, 9.3\n",
    "  ])\n",
    "y_arr =np.array([\n",
    "    18.5, 5.5, 18.2, 9.0, 4.0, 19.5, 11.7, 17.9, 15.3, 20.8, 12.5, 21.5, 32.5,\n",
    "    18.6, 23.9, 7.0, 16.9, 22.9, 31.0, 15.0, 8.5, 8.7, 28.9, 19.7, 12.5, 17.4,\n",
    "    7.2, 25.5, 21.4, 15.7, 15.5, 8.2, 28.2, 19.5, 25.5, 12.5, 20.3, 21.7, 22.1,\n",
    "    19.6, 32.2, 22.4, 20.6, 19.7, 20.8, 21.1, 21.8, 17.7, 21.1, 19.4\n",
    "  ])\n",
    "from scipy.stats import linregress\n",
    "print(linregress(x1_arr, y_arr))\n",
    "print(linregress(x1_arr[y_arr<20], y_arr[y_arr<20]))"
   ]
  },
  {
   "cell_type": "code",
   "execution_count": null,
   "metadata": {},
   "outputs": [],
   "source": []
  }
 ],
 "metadata": {
  "kernelspec": {
   "display_name": "Python 3",
   "language": "python",
   "name": "python3"
  },
  "language_info": {
   "codemirror_mode": {
    "name": "ipython",
    "version": 3
   },
   "file_extension": ".py",
   "mimetype": "text/x-python",
   "name": "python",
   "nbconvert_exporter": "python",
   "pygments_lexer": "ipython3",
   "version": "3.11.4"
  },
  "orig_nbformat": 4
 },
 "nbformat": 4,
 "nbformat_minor": 2
}
