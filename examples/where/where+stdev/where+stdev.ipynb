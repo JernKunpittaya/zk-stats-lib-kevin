{
 "cells": [
  {
   "cell_type": "code",
   "execution_count": 1,
   "metadata": {},
   "outputs": [],
   "source": [
    "import ezkl\n",
    "import torch\n",
    "from torch import nn\n",
    "import json\n",
    "import os\n",
    "import time\n",
    "import scipy\n",
    "import numpy as np\n",
    "import matplotlib.pyplot as plt\n",
    "import statistics\n",
    "import math"
   ]
  },
  {
   "cell_type": "code",
   "execution_count": 2,
   "metadata": {},
   "outputs": [],
   "source": [
    "from zkstats.core import create_dummy, verifier_define_calculation, prover_gen_settings, setup, prover_gen_proof, verifier_verify, get_data_commitment_maps"
   ]
  },
  {
   "cell_type": "code",
   "execution_count": 3,
   "metadata": {},
   "outputs": [],
   "source": [
    "# init path\n",
    "os.makedirs(os.path.dirname('shared/'), exist_ok=True)\n",
    "os.makedirs(os.path.dirname('prover/'), exist_ok=True)\n",
    "verifier_model_path = os.path.join('shared/verifier.onnx')\n",
    "prover_model_path = os.path.join('prover/prover.onnx')\n",
    "verifier_compiled_model_path = os.path.join('shared/verifier.compiled')\n",
    "prover_compiled_model_path = os.path.join('prover/prover.compiled')\n",
    "pk_path = os.path.join('shared/test.pk')\n",
    "vk_path = os.path.join('shared/test.vk')\n",
    "proof_path = os.path.join('shared/test.pf')\n",
    "settings_path = os.path.join('shared/settings.json')\n",
    "srs_path = os.path.join('shared/kzg.srs')\n",
    "witness_path = os.path.join('prover/witness.json')\n",
    "# this is private to prover since it contains actual data\n",
    "sel_data_path = os.path.join('prover/sel_data.json')\n",
    "# this is just dummy random value\n",
    "sel_dummy_data_path = os.path.join('shared/sel_dummy_data.json')"
   ]
  },
  {
   "attachments": {},
   "cell_type": "markdown",
   "metadata": {},
   "source": [
    "=======================  ZK-STATS FLOW ======================="
   ]
  },
  {
   "cell_type": "code",
   "execution_count": 4,
   "metadata": {},
   "outputs": [],
   "source": [
    "data_path = os.path.join('data.json')\n",
    "dummy_data_path = os.path.join('shared/dummy_data.json')\n",
    "create_dummy(data_path, dummy_data_path)"
   ]
  },
  {
   "cell_type": "code",
   "execution_count": 5,
   "metadata": {},
   "outputs": [],
   "source": [
    "scales = [5]\n",
    "selected_columns = ['col_name']\n",
    "commitment_maps = get_data_commitment_maps(data_path, scales)"
   ]
  },
  {
   "cell_type": "code",
   "execution_count": 6,
   "metadata": {},
   "outputs": [
    {
     "name": "stderr",
     "output_type": "stream",
     "text": [
      "/Users/jernkun/Desktop/zk-stats-lib/zkstats/computation.py:172: TracerWarning: torch.tensor results are registered as constants in the trace. You can safely ignore this warning if you use this function to create tensors out of constant variables that would be the same every time you call this function. In any other case, this might cause the trace to be incorrect.\n",
      "  is_precise_aggregated = torch.tensor(1.0)\n",
      "/Users/jernkun/Library/Caches/pypoetry/virtualenvs/zkstats-OJpceffF-py3.11/lib/python3.11/site-packages/torch/onnx/symbolic_opset9.py:2174: FutureWarning: 'torch.onnx.symbolic_opset9._cast_Bool' is deprecated in version 2.0 and will be removed in the future. Please Avoid using this function and create a Cast node instead.\n",
      "  return fn(g, to_cast_func(g, input, False), to_cast_func(g, other, False))\n"
     ]
    }
   ],
   "source": [
    "# Verifier/ data consumer side: send desired calculation\n",
    "from zkstats.computation import computation_to_model, State\n",
    "\n",
    "\n",
    "def computation(s: State, data: list[torch.Tensor]) -> torch.Tensor:\n",
    "    x = data[0]\n",
    "    # FIXME: should be replaced by `s.where` when it's available. Now the result may be incorrect\n",
    "    filter = (x > 30)\n",
    "    filtered_x = s.where(filter, x)\n",
    "    return s.stdev(filtered_x)\n",
    "\n",
    "error = 0.05\n",
    "_, verifier_model = computation_to_model(computation, error)\n",
    "\n",
    "verifier_define_calculation(dummy_data_path, selected_columns, sel_dummy_data_path,verifier_model, verifier_model_path)"
   ]
  },
  {
   "cell_type": "code",
   "execution_count": 7,
   "metadata": {},
   "outputs": [
    {
     "name": "stderr",
     "output_type": "stream",
     "text": [
      "\n",
      "\n",
      " <------------- Numerical Fidelity Report (input_scale: 5, param_scale: 5, scale_input_multiplier: 10) ------------->\n",
      "\n",
      "+-------------+--------------+-------------+-----------+----------------+------------------+---------------+---------------+--------------------+--------------------+------------------------+\n",
      "| mean_error  | median_error | max_error   | min_error | mean_abs_error | median_abs_error | max_abs_error | min_abs_error | mean_squared_error | mean_percent_error | mean_abs_percent_error |\n",
      "+-------------+--------------+-------------+-----------+----------------+------------------+---------------+---------------+--------------------+--------------------+------------------------+\n",
      "| 0.004298687 | 0.008597374  | 0.008597374 | 0         | 0.004298687    | 0.008597374      | 0.008597374   | 0             | 0.00003695742      | 0.00033692474      | 0.00033692474          |\n",
      "+-------------+--------------+-------------+-----------+----------------+------------------+---------------+---------------+--------------------+--------------------+------------------------+\n",
      "\n",
      "\n"
     ]
    },
    {
     "name": "stdout",
     "output_type": "stream",
     "text": [
      "==== Generate & Calibrate Setting ====\n",
      "scale:  [5]\n",
      "setting:  {\"run_args\":{\"tolerance\":{\"val\":0.0,\"scale\":1.0},\"input_scale\":5,\"param_scale\":5,\"scale_rebase_multiplier\":10,\"lookup_range\":[-960,3712],\"logrows\":14,\"num_inner_cols\":2,\"variables\":[[\"batch_size\",1]],\"input_visibility\":{\"Hashed\":{\"hash_is_public\":true,\"outlets\":[]}},\"output_visibility\":\"Public\",\"param_visibility\":\"Private\",\"div_rebasing\":false,\"rebase_frac_zero_constants\":false,\"check_mode\":\"UNSAFE\"},\"num_rows\":14432,\"total_assignments\":5411,\"total_const_size\":1205,\"model_instance_shapes\":[[1],[1]],\"model_output_scales\":[0,5],\"model_input_scales\":[5],\"module_sizes\":{\"kzg\":[],\"poseidon\":[14432,[1]]},\"required_lookups\":[{\"GreaterThan\":{\"a\":0.0}}],\"required_range_checks\":[],\"check_mode\":\"UNSAFE\",\"version\":\"9.1.0\",\"num_blinding_factors\":null,\"timestamp\":1709714504434}\n"
     ]
    }
   ],
   "source": [
    "# Prover/ data owner side\n",
    "_, prover_model = computation_to_model(computation, error)\n",
    "\n",
    "prover_gen_settings(data_path, selected_columns, sel_data_path, prover_model, prover_model_path, scales, \"resources\", settings_path)"
   ]
  },
  {
   "cell_type": "code",
   "execution_count": 8,
   "metadata": {},
   "outputs": [
    {
     "name": "stdout",
     "output_type": "stream",
     "text": [
      "==== setting up ezkl ====\n",
      "Time setup: 1.4597339630126953 seconds\n",
      "=======================================\n",
      "==== Generating Witness ====\n",
      "witness boolean:  1.0\n",
      "witness result 1 : 12.75\n",
      "==== Generating Proof ====\n",
      "proof:  {'instances': [['4938886cbdcc32c27afdad4c2bbb646fd5d9b0f7d3789ac78da8c4eb7c59db1f', '0100000000000000000000000000000000000000000000000000000000000000', '9801000000000000000000000000000000000000000000000000000000000000']], 'proof': '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', 'transcript_type': 'EVM'}\n",
      "Time gen prf: 1.7498648166656494 seconds\n"
     ]
    }
   ],
   "source": [
    "# Here verifier & prover can concurrently call setup since all params are public to get pk.\n",
    "# Here write as verifier function to emphasize that verifier must calculate its own vk to be sure\n",
    "setup(verifier_model_path, verifier_compiled_model_path, settings_path,vk_path, pk_path )\n",
    "\n",
    "print(\"=======================================\")\n",
    "# Prover generates proof\n",
    "prover_gen_proof(prover_model_path, sel_data_path, witness_path, prover_compiled_model_path, settings_path, proof_path, pk_path)"
   ]
  },
  {
   "cell_type": "code",
   "execution_count": 9,
   "metadata": {},
   "outputs": [
    {
     "name": "stdout",
     "output_type": "stream",
     "text": [
      "Verifier gets result: [12.75]\n"
     ]
    }
   ],
   "source": [
    "# Verifier verifies\n",
    "res = verifier_verify(proof_path, settings_path, vk_path, selected_columns, commitment_maps)\n",
    "print(\"Verifier gets result:\", res)"
   ]
  },
  {
   "cell_type": "code",
   "execution_count": null,
   "metadata": {},
   "outputs": [],
   "source": []
  }
 ],
 "metadata": {
  "kernelspec": {
   "display_name": "Python 3",
   "language": "python",
   "name": "python3"
  },
  "language_info": {
   "codemirror_mode": {
    "name": "ipython",
    "version": 3
   },
   "file_extension": ".py",
   "mimetype": "text/x-python",
   "name": "python",
   "nbconvert_exporter": "python",
   "pygments_lexer": "ipython3",
   "version": "3.11.4"
  },
  "orig_nbformat": 4
 },
 "nbformat": 4,
 "nbformat_minor": 2
}
