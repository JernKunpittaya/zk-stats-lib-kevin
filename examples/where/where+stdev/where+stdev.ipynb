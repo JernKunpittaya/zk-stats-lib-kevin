{
 "cells": [
  {
   "cell_type": "code",
   "execution_count": 1,
   "metadata": {},
   "outputs": [],
   "source": [
    "import ezkl\n",
    "import torch\n",
    "from torch import nn\n",
    "import json\n",
    "import os\n",
    "import time\n",
    "import scipy\n",
    "import numpy as np\n",
    "import matplotlib.pyplot as plt\n",
    "import statistics\n",
    "import math"
   ]
  },
  {
   "cell_type": "code",
   "execution_count": 2,
   "metadata": {},
   "outputs": [],
   "source": [
    "from zkstats.core import create_dummy, verifier_define_calculation, prover_gen_settings, setup, prover_gen_proof, verifier_verify, generate_data_commitment"
   ]
  },
  {
   "cell_type": "code",
   "execution_count": 3,
   "metadata": {},
   "outputs": [],
   "source": [
    "# init path\n",
    "os.makedirs(os.path.dirname('shared/'), exist_ok=True)\n",
    "os.makedirs(os.path.dirname('prover/'), exist_ok=True)\n",
    "verifier_model_path = os.path.join('shared/verifier.onnx')\n",
    "prover_model_path = os.path.join('prover/prover.onnx')\n",
    "verifier_compiled_model_path = os.path.join('shared/verifier.compiled')\n",
    "prover_compiled_model_path = os.path.join('prover/prover.compiled')\n",
    "pk_path = os.path.join('shared/test.pk')\n",
    "vk_path = os.path.join('shared/test.vk')\n",
    "proof_path = os.path.join('shared/test.pf')\n",
    "settings_path = os.path.join('shared/settings.json')\n",
    "srs_path = os.path.join('shared/kzg.srs')\n",
    "witness_path = os.path.join('prover/witness.json')\n",
    "# this is private to prover since it contains actual data\n",
    "sel_data_path = os.path.join('prover/sel_data.json')\n",
    "# this is just dummy random value\n",
    "sel_dummy_data_path = os.path.join('shared/sel_dummy_data.json')\n",
    "data_commitment_path = os.path.join('shared/data_commitment.json')"
   ]
  },
  {
   "attachments": {},
   "cell_type": "markdown",
   "metadata": {},
   "source": [
    "=======================  ZK-STATS FLOW ======================="
   ]
  },
  {
   "cell_type": "code",
   "execution_count": 4,
   "metadata": {},
   "outputs": [],
   "source": [
    "data_path = os.path.join('data.json')\n",
    "dummy_data_path = os.path.join('shared/dummy_data.json')\n",
    "create_dummy(data_path, dummy_data_path)"
   ]
  },
  {
   "cell_type": "code",
   "execution_count": 5,
   "metadata": {},
   "outputs": [],
   "source": [
    "scales = [4]\n",
    "selected_columns = ['col_name']\n",
    "generate_data_commitment(data_path, scales, data_commitment_path)"
   ]
  },
  {
   "cell_type": "code",
   "execution_count": 6,
   "metadata": {},
   "outputs": [
    {
     "name": "stderr",
     "output_type": "stream",
     "text": [
      "/Users/jernkun/Desktop/zk-stats-lib/zkstats/computation.py:172: TracerWarning: torch.tensor results are registered as constants in the trace. You can safely ignore this warning if you use this function to create tensors out of constant variables that would be the same every time you call this function. In any other case, this might cause the trace to be incorrect.\n",
      "  is_precise_aggregated = torch.tensor(1.0)\n",
      "/Users/jernkun/Library/Caches/pypoetry/virtualenvs/zkstats-OJpceffF-py3.11/lib/python3.11/site-packages/torch/onnx/symbolic_opset9.py:2174: FutureWarning: 'torch.onnx.symbolic_opset9._cast_Bool' is deprecated in version 2.0 and will be removed in the future. Please Avoid using this function and create a Cast node instead.\n",
      "  return fn(g, to_cast_func(g, input, False), to_cast_func(g, other, False))\n"
     ]
    }
   ],
   "source": [
    "# Verifier/ data consumer side: send desired calculation\n",
    "from zkstats.computation import computation_to_model, State\n",
    "\n",
    "\n",
    "def computation(s: State, data: list[torch.Tensor]) -> torch.Tensor:\n",
    "    x = data[0]\n",
    "    # FIXME: should be replaced by `s.where` when it's available. Now the result may be incorrect\n",
    "    filter = (x > 30)\n",
    "    filtered_x = s.where(filter, x)\n",
    "    return s.stdev(filtered_x)\n",
    "\n",
    "error = 0.05\n",
    "_, verifier_model = computation_to_model(computation, error)\n",
    "\n",
    "verifier_define_calculation(dummy_data_path, selected_columns, sel_dummy_data_path,verifier_model, verifier_model_path)"
   ]
  },
  {
   "cell_type": "code",
   "execution_count": 7,
   "metadata": {},
   "outputs": [
    {
     "name": "stderr",
     "output_type": "stream",
     "text": [
      "\n",
      "\n",
      " <------------- Numerical Fidelity Report (input_scale: 4, param_scale: 4, scale_input_multiplier: 10) ------------->\n",
      "\n",
      "+-------------+--------------+-------------+-----------+----------------+------------------+---------------+---------------+--------------------+--------------------+------------------------+\n",
      "| mean_error  | median_error | max_error   | min_error | mean_abs_error | median_abs_error | max_abs_error | min_abs_error | mean_squared_error | mean_percent_error | mean_abs_percent_error |\n",
      "+-------------+--------------+-------------+-----------+----------------+------------------+---------------+---------------+--------------------+--------------------+------------------------+\n",
      "| 0.004298687 | 0.008597374  | 0.008597374 | 0         | 0.004298687    | 0.008597374      | 0.008597374   | 0             | 0.00003695742      | 0.00033692474      | 0.00033692474          |\n",
      "+-------------+--------------+-------------+-----------+----------------+------------------+---------------+---------------+--------------------+--------------------+------------------------+\n",
      "\n",
      "\n"
     ]
    },
    {
     "name": "stdout",
     "output_type": "stream",
     "text": [
      "==== Generate & Calibrate Setting ====\n",
      "scale:  [4]\n",
      "setting:  {\"run_args\":{\"tolerance\":{\"val\":0.0,\"scale\":1.0},\"input_scale\":4,\"param_scale\":4,\"scale_rebase_multiplier\":10,\"lookup_range\":[-480,1856],\"logrows\":14,\"num_inner_cols\":2,\"variables\":[[\"batch_size\",1]],\"input_visibility\":{\"Hashed\":{\"hash_is_public\":true,\"outlets\":[]}},\"output_visibility\":\"Public\",\"param_visibility\":\"Private\",\"div_rebasing\":false,\"rebase_frac_zero_constants\":false,\"check_mode\":\"UNSAFE\"},\"num_rows\":14432,\"total_assignments\":5411,\"total_const_size\":1205,\"model_instance_shapes\":[[1],[1]],\"model_output_scales\":[0,4],\"model_input_scales\":[4],\"module_sizes\":{\"kzg\":[],\"poseidon\":[14432,[1]]},\"required_lookups\":[{\"GreaterThan\":{\"a\":0.0}}],\"required_range_checks\":[],\"check_mode\":\"UNSAFE\",\"version\":\"9.1.0\",\"num_blinding_factors\":null,\"timestamp\":1709715704793}\n"
     ]
    }
   ],
   "source": [
    "# Prover/ data owner side\n",
    "_, prover_model = computation_to_model(computation, error)\n",
    "\n",
    "prover_gen_settings(data_path, selected_columns, sel_data_path, prover_model, prover_model_path, scales, \"resources\", settings_path)"
   ]
  },
  {
   "cell_type": "code",
   "execution_count": 8,
   "metadata": {},
   "outputs": [
    {
     "name": "stdout",
     "output_type": "stream",
     "text": [
      "==== setting up ezkl ====\n",
      "Time setup: 1.501824140548706 seconds\n",
      "=======================================\n",
      "==== Generating Witness ====\n",
      "witness boolean:  1.0\n",
      "witness result 1 : 12.75\n",
      "==== Generating Proof ====\n",
      "proof:  {'instances': [['d1c9d1d20a90c893c336feef1eab835aefd88d5a68f68881423b9ce4635f520f', '0100000000000000000000000000000000000000000000000000000000000000', 'cc00000000000000000000000000000000000000000000000000000000000000']], 'proof': '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', 'transcript_type': 'EVM'}\n",
      "Time gen prf: 1.7479989528656006 seconds\n"
     ]
    }
   ],
   "source": [
    "# Here verifier & prover can concurrently call setup since all params are public to get pk.\n",
    "# Here write as verifier function to emphasize that verifier must calculate its own vk to be sure\n",
    "setup(verifier_model_path, verifier_compiled_model_path, settings_path,vk_path, pk_path )\n",
    "\n",
    "print(\"=======================================\")\n",
    "# Prover generates proof\n",
    "prover_gen_proof(prover_model_path, sel_data_path, witness_path, prover_compiled_model_path, settings_path, proof_path, pk_path)"
   ]
  },
  {
   "cell_type": "code",
   "execution_count": 9,
   "metadata": {},
   "outputs": [
    {
     "name": "stdout",
     "output_type": "stream",
     "text": [
      "Verifier gets result: [12.75]\n"
     ]
    }
   ],
   "source": [
    "# Verifier verifies\n",
    "res = verifier_verify(proof_path, settings_path, vk_path, selected_columns, data_commitment_path)\n",
    "print(\"Verifier gets result:\", res)"
   ]
  },
  {
   "cell_type": "code",
   "execution_count": null,
   "metadata": {},
   "outputs": [],
   "source": []
  }
 ],
 "metadata": {
  "kernelspec": {
   "display_name": "Python 3",
   "language": "python",
   "name": "python3"
  },
  "language_info": {
   "codemirror_mode": {
    "name": "ipython",
    "version": 3
   },
   "file_extension": ".py",
   "mimetype": "text/x-python",
   "name": "python",
   "nbconvert_exporter": "python",
   "pygments_lexer": "ipython3",
   "version": "3.11.4"
  },
  "orig_nbformat": 4
 },
 "nbformat": 4,
 "nbformat_minor": 2
}
