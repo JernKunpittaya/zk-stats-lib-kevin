{
 "cells": [
  {
   "cell_type": "code",
   "execution_count": 2,
   "metadata": {},
   "outputs": [],
   "source": [
    "import ezkl\n",
    "import torch\n",
    "from torch import nn\n",
    "import json\n",
    "import os\n",
    "import time\n",
    "import scipy\n",
    "import numpy as np\n",
    "import matplotlib.pyplot as plt\n",
    "import statistics\n",
    "import math"
   ]
  },
  {
   "cell_type": "code",
   "execution_count": 3,
   "metadata": {},
   "outputs": [],
   "source": [
    "from zkstats.core import create_dummy, verifier_define_calculation, prover_gen_settings, setup, prover_gen_proof, verifier_verify, generate_data_commitment"
   ]
  },
  {
   "attachments": {},
   "cell_type": "markdown",
   "metadata": {},
   "source": []
  },
  {
   "cell_type": "code",
   "execution_count": 4,
   "metadata": {},
   "outputs": [],
   "source": [
    "# init path\n",
    "os.makedirs(os.path.dirname('shared/'), exist_ok=True)\n",
    "os.makedirs(os.path.dirname('prover/'), exist_ok=True)\n",
    "verifier_model_path = os.path.join('shared/verifier.onnx')\n",
    "prover_model_path = os.path.join('prover/prover.onnx')\n",
    "verifier_compiled_model_path = os.path.join('shared/verifier.compiled')\n",
    "prover_compiled_model_path = os.path.join('prover/prover.compiled')\n",
    "pk_path = os.path.join('shared/test.pk')\n",
    "vk_path = os.path.join('shared/test.vk')\n",
    "proof_path = os.path.join('shared/test.pf')\n",
    "settings_path = os.path.join('shared/settings.json')\n",
    "srs_path = os.path.join('shared/kzg.srs')\n",
    "witness_path = os.path.join('prover/witness.json')\n",
    "# this is private to prover since it contains actual data\n",
    "sel_data_path = os.path.join('prover/sel_data.json')\n",
    "# this is just dummy random value\n",
    "sel_dummy_data_path = os.path.join('shared/sel_dummy_data.json')\n",
    "data_commitment_path = os.path.join('shared/data_commitment.json')"
   ]
  },
  {
   "attachments": {},
   "cell_type": "markdown",
   "metadata": {},
   "source": [
    "=======================  ZK-STATS FLOW ======================="
   ]
  },
  {
   "cell_type": "code",
   "execution_count": 5,
   "metadata": {},
   "outputs": [],
   "source": [
    "data_path = os.path.join('data.json')\n",
    "dummy_data_path = os.path.join('shared/dummy_data.json')\n",
    "\n",
    "create_dummy(data_path, dummy_data_path)"
   ]
  },
  {
   "cell_type": "code",
   "execution_count": 6,
   "metadata": {},
   "outputs": [],
   "source": [
    "scales = [2]\n",
    "selected_columns = ['col_name']\n",
    "generate_data_commitment(data_path, scales, data_commitment_path)"
   ]
  },
  {
   "cell_type": "code",
   "execution_count": 7,
   "metadata": {},
   "outputs": [
    {
     "name": "stderr",
     "output_type": "stream",
     "text": [
      "/Users/jernkun/Desktop/zk-stats-lib/zkstats/computation.py:172: TracerWarning: torch.tensor results are registered as constants in the trace. You can safely ignore this warning if you use this function to create tensors out of constant variables that would be the same every time you call this function. In any other case, this might cause the trace to be incorrect.\n",
      "  is_precise_aggregated = torch.tensor(1.0)\n",
      "/Users/jernkun/Library/Caches/pypoetry/virtualenvs/zkstats-OJpceffF-py3.11/lib/python3.11/site-packages/torch/onnx/symbolic_opset9.py:2174: FutureWarning: 'torch.onnx.symbolic_opset9._cast_Bool' is deprecated in version 2.0 and will be removed in the future. Please Avoid using this function and create a Cast node instead.\n",
      "  return fn(g, to_cast_func(g, input, False), to_cast_func(g, other, False))\n"
     ]
    }
   ],
   "source": [
    "# Verifier/ data consumer side: send desired calculation\n",
    "from zkstats.computation import computation_to_model, State\n",
    "\n",
    "\n",
    "def computation(s: State, data: list[torch.Tensor]) -> torch.Tensor:\n",
    "    x = data[0]\n",
    "    filter = (x < 50)\n",
    "    filtered_x = s.where(filter, x)\n",
    "    return s.median(filtered_x)\n",
    "\n",
    "error = 0.01\n",
    "_, verifier_model = computation_to_model(computation, error)\n",
    "\n",
    "verifier_define_calculation(dummy_data_path, selected_columns, sel_dummy_data_path,verifier_model, verifier_model_path)"
   ]
  },
  {
   "cell_type": "code",
   "execution_count": 8,
   "metadata": {},
   "outputs": [
    {
     "name": "stderr",
     "output_type": "stream",
     "text": [
      "\n",
      "\n",
      " <------------- Numerical Fidelity Report (input_scale: 2, param_scale: 2, scale_input_multiplier: 10) ------------->\n",
      "\n",
      "+------------+--------------+-----------+-----------+----------------+------------------+---------------+---------------+--------------------+--------------------+------------------------+\n",
      "| mean_error | median_error | max_error | min_error | mean_abs_error | median_abs_error | max_abs_error | min_abs_error | mean_squared_error | mean_percent_error | mean_abs_percent_error |\n",
      "+------------+--------------+-----------+-----------+----------------+------------------+---------------+---------------+--------------------+--------------------+------------------------+\n",
      "| 0          | 0            | 0         | 0         | 0              | 0                | 0             | 0             | 0                  | 0                  | 0                      |\n",
      "+------------+--------------+-----------+-----------+----------------+------------------+---------------+---------------+--------------------+--------------------+------------------------+\n",
      "\n",
      "\n"
     ]
    },
    {
     "name": "stdout",
     "output_type": "stream",
     "text": [
      "==== Generate & Calibrate Setting ====\n",
      "scale:  [2]\n",
      "setting:  {\"run_args\":{\"tolerance\":{\"val\":0.0,\"scale\":1.0},\"input_scale\":2,\"param_scale\":2,\"scale_rebase_multiplier\":10,\"lookup_range\":[-304,280],\"logrows\":14,\"num_inner_cols\":2,\"variables\":[[\"batch_size\",1]],\"input_visibility\":{\"Hashed\":{\"hash_is_public\":true,\"outlets\":[]}},\"output_visibility\":\"Public\",\"param_visibility\":\"Private\",\"div_rebasing\":false,\"rebase_frac_zero_constants\":false,\"check_mode\":\"UNSAFE\"},\"num_rows\":14432,\"total_assignments\":5393,\"total_const_size\":1202,\"model_instance_shapes\":[[1],[1]],\"model_output_scales\":[0,2],\"model_input_scales\":[2],\"module_sizes\":{\"kzg\":[],\"poseidon\":[14432,[1]]},\"required_lookups\":[{\"GreaterThan\":{\"a\":0.0}}],\"required_range_checks\":[],\"check_mode\":\"UNSAFE\",\"version\":\"9.1.0\",\"num_blinding_factors\":null,\"timestamp\":1709690386793}\n"
     ]
    }
   ],
   "source": [
    "# Prover/ data owner side\n",
    "_, prover_model = computation_to_model(computation, error)\n",
    "\n",
    "prover_gen_settings(data_path, selected_columns, sel_data_path, prover_model, prover_model_path, scales, \"resources\", settings_path)"
   ]
  },
  {
   "cell_type": "code",
   "execution_count": 9,
   "metadata": {},
   "outputs": [
    {
     "name": "stdout",
     "output_type": "stream",
     "text": [
      "==== setting up ezkl ====\n",
      "Time setup: 1.621981143951416 seconds\n",
      "=======================================\n",
      "==== Generating Witness ====\n",
      "witness boolean:  1.0\n",
      "witness result 1 : 40.0\n",
      "==== Generating Proof ====\n",
      "proof:  {'instances': [['3e89c37e1116fe2ce68ab4e73ee44968d88afeb2eedb85f2d87c4d984264b311', '0100000000000000000000000000000000000000000000000000000000000000', 'a000000000000000000000000000000000000000000000000000000000000000']], 'proof': '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', 'transcript_type': 'EVM'}\n",
      "Time gen prf: 1.78914213180542 seconds\n"
     ]
    }
   ],
   "source": [
    "# Here verifier & prover can concurrently call setup since all params are public to get pk.\n",
    "# Here write as verifier function to emphasize that verifier must calculate its own vk to be sure\n",
    "setup(verifier_model_path, verifier_compiled_model_path, settings_path,vk_path, pk_path )\n",
    "\n",
    "print(\"=======================================\")\n",
    "# Prover generates proof\n",
    "prover_gen_proof(prover_model_path, sel_data_path, witness_path, prover_compiled_model_path, settings_path, proof_path, pk_path)"
   ]
  },
  {
   "cell_type": "code",
   "execution_count": 10,
   "metadata": {},
   "outputs": [
    {
     "name": "stdout",
     "output_type": "stream",
     "text": [
      "Verifier gets result: [40.0]\n"
     ]
    }
   ],
   "source": [
    "# Verifier verifies\n",
    "res = verifier_verify(proof_path, settings_path, vk_path, selected_columns, data_commitment_path)\n",
    "print(\"Verifier gets result:\", res)"
   ]
  },
  {
   "cell_type": "code",
   "execution_count": null,
   "metadata": {},
   "outputs": [],
   "source": []
  }
 ],
 "metadata": {
  "kernelspec": {
   "display_name": "Python 3",
   "language": "python",
   "name": "python3"
  },
  "language_info": {
   "codemirror_mode": {
    "name": "ipython",
    "version": 3
   },
   "file_extension": ".py",
   "mimetype": "text/x-python",
   "name": "python",
   "nbconvert_exporter": "python",
   "pygments_lexer": "ipython3",
   "version": "3.11.4"
  },
  "orig_nbformat": 4
 },
 "nbformat": 4,
 "nbformat_minor": 2
}
