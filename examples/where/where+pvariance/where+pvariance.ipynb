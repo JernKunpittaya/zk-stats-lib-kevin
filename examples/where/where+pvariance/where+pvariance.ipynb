{
 "cells": [
  {
   "cell_type": "code",
   "execution_count": 1,
   "metadata": {},
   "outputs": [],
   "source": [
    "import ezkl\n",
    "import torch\n",
    "from torch import nn\n",
    "import json\n",
    "import os\n",
    "import time\n",
    "import scipy\n",
    "import numpy as np\n",
    "import matplotlib.pyplot as plt\n",
    "import statistics\n",
    "import math"
   ]
  },
  {
   "cell_type": "code",
   "execution_count": 2,
   "metadata": {},
   "outputs": [],
   "source": [
    "from zkstats.core import create_dummy, verifier_define_calculation, prover_gen_settings, setup, prover_gen_proof, verifier_verify, get_data_commitment_maps"
   ]
  },
  {
   "cell_type": "code",
   "execution_count": 3,
   "metadata": {},
   "outputs": [],
   "source": [
    "# init path\n",
    "os.makedirs(os.path.dirname('shared/'), exist_ok=True)\n",
    "os.makedirs(os.path.dirname('prover/'), exist_ok=True)\n",
    "verifier_model_path = os.path.join('shared/verifier.onnx')\n",
    "prover_model_path = os.path.join('prover/prover.onnx')\n",
    "verifier_compiled_model_path = os.path.join('shared/verifier.compiled')\n",
    "prover_compiled_model_path = os.path.join('prover/prover.compiled')\n",
    "pk_path = os.path.join('shared/test.pk')\n",
    "vk_path = os.path.join('shared/test.vk')\n",
    "proof_path = os.path.join('shared/test.pf')\n",
    "settings_path = os.path.join('shared/settings.json')\n",
    "srs_path = os.path.join('shared/kzg.srs')\n",
    "witness_path = os.path.join('prover/witness.json')\n",
    "# this is private to prover since it contains actual data\n",
    "sel_data_path = os.path.join('prover/sel_data.json')\n",
    "# this is just dummy random value\n",
    "sel_dummy_data_path = os.path.join('shared/sel_dummy_data.json')"
   ]
  },
  {
   "attachments": {},
   "cell_type": "markdown",
   "metadata": {},
   "source": [
    "=======================  ZK-STATS FLOW ======================="
   ]
  },
  {
   "cell_type": "code",
   "execution_count": 4,
   "metadata": {},
   "outputs": [],
   "source": [
    "data_path = os.path.join('data.json')\n",
    "dummy_data_path = os.path.join('shared/dummy_data.json')\n",
    "create_dummy(data_path, dummy_data_path)"
   ]
  },
  {
   "cell_type": "code",
   "execution_count": 5,
   "metadata": {},
   "outputs": [],
   "source": [
    "scales = [2]\n",
    "selected_columns = ['col_name']\n",
    "commitment_maps = get_data_commitment_maps(data_path, scales)"
   ]
  },
  {
   "cell_type": "code",
   "execution_count": 7,
   "metadata": {},
   "outputs": [
    {
     "name": "stderr",
     "output_type": "stream",
     "text": [
      "/Users/jernkun/Desktop/zk-stats-lib/zkstats/computation.py:172: TracerWarning: torch.tensor results are registered as constants in the trace. You can safely ignore this warning if you use this function to create tensors out of constant variables that would be the same every time you call this function. In any other case, this might cause the trace to be incorrect.\n",
      "  is_precise_aggregated = torch.tensor(1.0)\n",
      "/Users/jernkun/Library/Caches/pypoetry/virtualenvs/zkstats-OJpceffF-py3.11/lib/python3.11/site-packages/torch/onnx/symbolic_opset9.py:2174: FutureWarning: 'torch.onnx.symbolic_opset9._cast_Bool' is deprecated in version 2.0 and will be removed in the future. Please Avoid using this function and create a Cast node instead.\n",
      "  return fn(g, to_cast_func(g, input, False), to_cast_func(g, other, False))\n"
     ]
    }
   ],
   "source": [
    "# Verifier/ data consumer side: send desired calculation\n",
    "from zkstats.computation import computation_to_model, State\n",
    "\n",
    "\n",
    "def computation(s: State, data: list[torch.Tensor]) -> torch.Tensor:\n",
    "    x = data[0]\n",
    "    filter = (x<45)\n",
    "    filtered_x = s.where(filter,x)\n",
    "    return s.pvariance(filtered_x)\n",
    "\n",
    "error = 0.01\n",
    "_, verifier_model = computation_to_model(computation, error)\n",
    "\n",
    "verifier_define_calculation(dummy_data_path, selected_columns, sel_dummy_data_path, verifier_model, verifier_model_path)"
   ]
  },
  {
   "cell_type": "code",
   "execution_count": 8,
   "metadata": {},
   "outputs": [
    {
     "name": "stderr",
     "output_type": "stream",
     "text": [
      "\n",
      "\n",
      " <------------- Numerical Fidelity Report (input_scale: 2, param_scale: 2, scale_input_multiplier: 10) ------------->\n",
      "\n",
      "+-------------+--------------+-------------+-----------+----------------+------------------+---------------+---------------+--------------------+--------------------+------------------------+\n",
      "| mean_error  | median_error | max_error   | min_error | mean_abs_error | median_abs_error | max_abs_error | min_abs_error | mean_squared_error | mean_percent_error | mean_abs_percent_error |\n",
      "+-------------+--------------+-------------+-----------+----------------+------------------+---------------+---------------+--------------------+--------------------+------------------------+\n",
      "| 0.059379578 | 0.118759155  | 0.118759155 | 0         | 0.059379578    | 0.118759155      | 0.118759155   | 0             | 0.0070518684       | 0.0012150826       | 0.0012150826           |\n",
      "+-------------+--------------+-------------+-----------+----------------+------------------+---------------+---------------+--------------------+--------------------+------------------------+\n",
      "\n",
      "\n"
     ]
    },
    {
     "name": "stdout",
     "output_type": "stream",
     "text": [
      "==== Generate & Calibrate Setting ====\n",
      "scale:  [2]\n",
      "setting:  {\"run_args\":{\"tolerance\":{\"val\":0.0,\"scale\":1.0},\"input_scale\":2,\"param_scale\":2,\"scale_rebase_multiplier\":10,\"lookup_range\":[-344,240],\"logrows\":14,\"num_inner_cols\":2,\"variables\":[[\"batch_size\",1]],\"input_visibility\":{\"Hashed\":{\"hash_is_public\":true,\"outlets\":[]}},\"output_visibility\":\"Public\",\"param_visibility\":\"Private\",\"div_rebasing\":false,\"rebase_frac_zero_constants\":false,\"check_mode\":\"UNSAFE\"},\"num_rows\":14432,\"total_assignments\":5411,\"total_const_size\":1205,\"model_instance_shapes\":[[1],[1]],\"model_output_scales\":[0,2],\"model_input_scales\":[2],\"module_sizes\":{\"kzg\":[],\"poseidon\":[14432,[1]]},\"required_lookups\":[{\"GreaterThan\":{\"a\":0.0}}],\"required_range_checks\":[],\"check_mode\":\"UNSAFE\",\"version\":\"9.1.0\",\"num_blinding_factors\":null,\"timestamp\":1709726229857}\n"
     ]
    }
   ],
   "source": [
    "# Prover/ data owner side\n",
    "_, prover_model = computation_to_model(computation, error)\n",
    "\n",
    "prover_gen_settings(data_path, selected_columns, sel_data_path, prover_model,prover_model_path, scales, \"resources\", settings_path)"
   ]
  },
  {
   "cell_type": "code",
   "execution_count": 9,
   "metadata": {},
   "outputs": [
    {
     "name": "stdout",
     "output_type": "stream",
     "text": [
      "==== setting up ezkl ====\n",
      "Time setup: 1.7671828269958496 seconds\n",
      "=======================================\n",
      "==== Generating Witness ====\n",
      "witness boolean:  1.0\n",
      "witness result 1 : 48.75\n",
      "==== Generating Proof ====\n",
      "proof:  {'instances': [['31220e5513f6e9b7d0f59d8f019cd197642a431b2136f0311abf6046c9006227', '0100000000000000000000000000000000000000000000000000000000000000', 'c300000000000000000000000000000000000000000000000000000000000000']], 'proof': '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', 'transcript_type': 'EVM'}\n",
      "Time gen prf: 2.065513849258423 seconds\n"
     ]
    }
   ],
   "source": [
    "# Here verifier & prover can concurrently call setup since all params are public to get pk.\n",
    "# Here write as verifier function to emphasize that verifier must calculate its own vk to be sure\n",
    "setup(verifier_model_path, verifier_compiled_model_path, settings_path,vk_path, pk_path )\n",
    "\n",
    "print(\"=======================================\")\n",
    "# Prover generates proof\n",
    "prover_gen_proof(prover_model_path, sel_data_path, witness_path, prover_compiled_model_path, settings_path, proof_path, pk_path)"
   ]
  },
  {
   "cell_type": "code",
   "execution_count": 10,
   "metadata": {},
   "outputs": [
    {
     "name": "stdout",
     "output_type": "stream",
     "text": [
      "Verifier gets result: [48.75]\n"
     ]
    }
   ],
   "source": [
    "# Verifier verifies\n",
    "res = verifier_verify(proof_path, settings_path, vk_path, selected_columns, commitment_maps)\n",
    "print(\"Verifier gets result:\", res)"
   ]
  },
  {
   "cell_type": "code",
   "execution_count": null,
   "metadata": {},
   "outputs": [],
   "source": []
  }
 ],
 "metadata": {
  "kernelspec": {
   "display_name": "Python 3",
   "language": "python",
   "name": "python3"
  },
  "language_info": {
   "codemirror_mode": {
    "name": "ipython",
    "version": 3
   },
   "file_extension": ".py",
   "mimetype": "text/x-python",
   "name": "python",
   "nbconvert_exporter": "python",
   "pygments_lexer": "ipython3",
   "version": "3.11.4"
  },
  "orig_nbformat": 4
 },
 "nbformat": 4,
 "nbformat_minor": 2
}
