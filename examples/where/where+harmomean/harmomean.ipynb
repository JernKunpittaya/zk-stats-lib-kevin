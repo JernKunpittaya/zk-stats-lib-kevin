{
 "cells": [
  {
   "cell_type": "code",
   "execution_count": 1,
   "metadata": {},
   "outputs": [],
   "source": [
    "import ezkl\n",
    "import torch\n",
    "from torch import nn\n",
    "import json\n",
    "import os\n",
    "import time\n",
    "import scipy\n",
    "import numpy as np\n",
    "import matplotlib.pyplot as plt\n",
    "import statistics\n",
    "import math"
   ]
  },
  {
   "cell_type": "code",
   "execution_count": 2,
   "metadata": {},
   "outputs": [],
   "source": [
    "from zkstats.core import create_dummy, verifier_define_calculation, prover_gen_settings, setup, prover_gen_proof, verifier_verify, get_data_commitment_maps"
   ]
  },
  {
   "cell_type": "code",
   "execution_count": 3,
   "metadata": {},
   "outputs": [],
   "source": [
    "# init path\n",
    "os.makedirs(os.path.dirname('shared/'), exist_ok=True)\n",
    "os.makedirs(os.path.dirname('prover/'), exist_ok=True)\n",
    "verifier_model_path = os.path.join('shared/verifier.onnx')\n",
    "prover_model_path = os.path.join('prover/prover.onnx')\n",
    "verifier_compiled_model_path = os.path.join('shared/verifier.compiled')\n",
    "prover_compiled_model_path = os.path.join('prover/prover.compiled')\n",
    "pk_path = os.path.join('shared/test.pk')\n",
    "vk_path = os.path.join('shared/test.vk')\n",
    "proof_path = os.path.join('shared/test.pf')\n",
    "settings_path = os.path.join('shared/settings.json')\n",
    "srs_path = os.path.join('shared/kzg.srs')\n",
    "witness_path = os.path.join('prover/witness.json')\n",
    "# this is private to prover since it contains actual data\n",
    "sel_data_path = os.path.join('prover/sel_data.json')\n",
    "# this is just dummy random value\n",
    "sel_dummy_data_path = os.path.join('shared/sel_dummy_data.json')"
   ]
  },
  {
   "attachments": {},
   "cell_type": "markdown",
   "metadata": {},
   "source": [
    "=======================  ZK-STATS FLOW ======================="
   ]
  },
  {
   "cell_type": "code",
   "execution_count": 4,
   "metadata": {},
   "outputs": [],
   "source": [
    "data_path = os.path.join('data.json')\n",
    "dummy_data_path = os.path.join('shared/dummy_data.json')\n",
    "\n",
    "create_dummy(data_path, dummy_data_path)"
   ]
  },
  {
   "cell_type": "code",
   "execution_count": 5,
   "metadata": {},
   "outputs": [],
   "source": [
    "scales = [6]\n",
    "selected_columns = ['col_name']\n",
    "commitment_maps = get_data_commitment_maps(data_path, scales)"
   ]
  },
  {
   "cell_type": "code",
   "execution_count": 10,
   "metadata": {},
   "outputs": [
    {
     "name": "stderr",
     "output_type": "stream",
     "text": [
      "/Users/jernkun/Desktop/zk-stats-lib/zkstats/computation.py:172: TracerWarning: torch.tensor results are registered as constants in the trace. You can safely ignore this warning if you use this function to create tensors out of constant variables that would be the same every time you call this function. In any other case, this might cause the trace to be incorrect.\n",
      "  is_precise_aggregated = torch.tensor(1.0)\n",
      "/Users/jernkun/Library/Caches/pypoetry/virtualenvs/zkstats-OJpceffF-py3.11/lib/python3.11/site-packages/torch/onnx/symbolic_opset9.py:2174: FutureWarning: 'torch.onnx.symbolic_opset9._cast_Bool' is deprecated in version 2.0 and will be removed in the future. Please Avoid using this function and create a Cast node instead.\n",
      "  return fn(g, to_cast_func(g, input, False), to_cast_func(g, other, False))\n"
     ]
    }
   ],
   "source": [
    "# Verifier/ data consumer side:\n",
    "# since have division, scale must be very LARGE, cant use just 0\n",
    "# So, we allow error rate to be 10% instead of 1%\n",
    "from zkstats.computation import computation_to_model, State\n",
    "\n",
    "\n",
    "def computation(s: State, data: list[torch.Tensor]) -> torch.Tensor:\n",
    "    x = data[0]\n",
    "    filter = torch.logical_and(x>20, x<60)\n",
    "    filtered_x = s.where(filter, x)\n",
    "    return s.harmonic_mean(filtered_x)\n",
    "\n",
    "error = 0.1\n",
    "_, verifier_model = computation_to_model(computation, error)\n",
    "\n",
    "verifier_define_calculation(dummy_data_path, selected_columns,sel_dummy_data_path,verifier_model, verifier_model_path)"
   ]
  },
  {
   "cell_type": "code",
   "execution_count": 11,
   "metadata": {},
   "outputs": [
    {
     "name": "stderr",
     "output_type": "stream",
     "text": [
      "\n",
      "\n",
      " <------------- Numerical Fidelity Report (input_scale: 6, param_scale: 6, scale_input_multiplier: 10) ------------->\n",
      "\n",
      "+-------------+--------------+-------------+-----------+----------------+------------------+---------------+---------------+--------------------+--------------------+------------------------+\n",
      "| mean_error  | median_error | max_error   | min_error | mean_abs_error | median_abs_error | max_abs_error | min_abs_error | mean_squared_error | mean_percent_error | mean_abs_percent_error |\n",
      "+-------------+--------------+-------------+-----------+----------------+------------------+---------------+---------------+--------------------+--------------------+------------------------+\n",
      "| 0.002811432 | 0.005622864  | 0.005622864 | 0         | 0.002811432    | 0.005622864      | 0.005622864   | 0             | 0.000015808298     | 0.0000680693       | 0.0000680693           |\n",
      "+-------------+--------------+-------------+-----------+----------------+------------------+---------------+---------------+--------------------+--------------------+------------------------+\n",
      "\n",
      "\n"
     ]
    },
    {
     "name": "stdout",
     "output_type": "stream",
     "text": [
      "==== Generate & Calibrate Setting ====\n",
      "scale:  [6]\n",
      "setting:  {\"run_args\":{\"tolerance\":{\"val\":0.0,\"scale\":1.0},\"input_scale\":6,\"param_scale\":6,\"scale_rebase_multiplier\":10,\"lookup_range\":[-3584,8704],\"logrows\":14,\"num_inner_cols\":2,\"variables\":[[\"batch_size\",1]],\"input_visibility\":{\"Hashed\":{\"hash_is_public\":true,\"outlets\":[]}},\"output_visibility\":\"Public\",\"param_visibility\":\"Private\",\"div_rebasing\":false,\"rebase_frac_zero_constants\":false,\"check_mode\":\"UNSAFE\"},\"num_rows\":14432,\"total_assignments\":6311,\"total_const_size\":1205,\"model_instance_shapes\":[[1],[1]],\"model_output_scales\":[0,6],\"model_input_scales\":[6],\"module_sizes\":{\"kzg\":[],\"poseidon\":[14432,[1]]},\"required_lookups\":[{\"GreaterThan\":{\"a\":0.0}}],\"required_range_checks\":[],\"check_mode\":\"UNSAFE\",\"version\":\"9.1.0\",\"num_blinding_factors\":null,\"timestamp\":1709725247359}\n"
     ]
    }
   ],
   "source": [
    "# prover calculates settings, send to verifier\n",
    "_, prover_model = computation_to_model(computation, error)\n",
    "\n",
    "prover_gen_settings(data_path, selected_columns, sel_data_path, prover_model,prover_model_path, scales, \"resources\", settings_path)"
   ]
  },
  {
   "cell_type": "code",
   "execution_count": 12,
   "metadata": {},
   "outputs": [
    {
     "name": "stdout",
     "output_type": "stream",
     "text": [
      "==== setting up ezkl ====\n",
      "Time setup: 1.6231889724731445 seconds\n",
      "=======================================\n",
      "==== Generating Witness ====\n",
      "witness boolean:  1.0\n",
      "witness result 1 : 41.296875\n",
      "==== Generating Proof ====\n",
      "proof:  {'instances': [['c371c58876874ace4444c2f2683e0d7bb7ce264f49872aa6deab40635ed90f23', '0100000000000000000000000000000000000000000000000000000000000000', '530a000000000000000000000000000000000000000000000000000000000000']], 'proof': '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', 'transcript_type': 'EVM'}\n",
      "Time gen prf: 1.7341907024383545 seconds\n"
     ]
    }
   ],
   "source": [
    "# Here verifier & prover can concurrently call setup since all params are public to get pk.\n",
    "# Here write as verifier function to emphasize that verifier must calculate its own vk to be sure\n",
    "setup(verifier_model_path, verifier_compiled_model_path, settings_path,vk_path, pk_path )\n",
    "\n",
    "print(\"=======================================\")\n",
    "# Prover generates proof\n",
    "prover_gen_proof(prover_model_path, sel_data_path, witness_path, prover_compiled_model_path, settings_path, proof_path, pk_path)"
   ]
  },
  {
   "cell_type": "code",
   "execution_count": 13,
   "metadata": {},
   "outputs": [
    {
     "name": "stdout",
     "output_type": "stream",
     "text": [
      "Verifier gets result: [41.296875]\n"
     ]
    }
   ],
   "source": [
    "# Verifier verifies\n",
    "res = verifier_verify(proof_path, settings_path, vk_path, selected_columns, commitment_maps)\n",
    "print(\"Verifier gets result:\", res)"
   ]
  },
  {
   "cell_type": "code",
   "execution_count": null,
   "metadata": {},
   "outputs": [],
   "source": []
  }
 ],
 "metadata": {
  "kernelspec": {
   "display_name": "Python 3",
   "language": "python",
   "name": "python3"
  },
  "language_info": {
   "codemirror_mode": {
    "name": "ipython",
    "version": 3
   },
   "file_extension": ".py",
   "mimetype": "text/x-python",
   "name": "python",
   "nbconvert_exporter": "python",
   "pygments_lexer": "ipython3",
   "version": "3.11.4"
  },
  "orig_nbformat": 4
 },
 "nbformat": 4,
 "nbformat_minor": 2
}
