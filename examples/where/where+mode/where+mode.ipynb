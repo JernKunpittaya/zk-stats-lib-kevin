{
 "cells": [
  {
   "cell_type": "code",
   "execution_count": 1,
   "metadata": {},
   "outputs": [],
   "source": [
    "import ezkl\n",
    "import torch\n",
    "from torch import nn\n",
    "import json\n",
    "import os\n",
    "import time\n",
    "import scipy\n",
    "import numpy as np\n",
    "import matplotlib.pyplot as plt\n",
    "import statistics\n",
    "import math"
   ]
  },
  {
   "cell_type": "code",
   "execution_count": 4,
   "metadata": {},
   "outputs": [],
   "source": [
    "from zkstats.core import create_dummy, verifier_define_calculation, prover_gen_settings, setup, prover_gen_proof, verifier_verify, generate_data_commitment"
   ]
  },
  {
   "attachments": {},
   "cell_type": "markdown",
   "metadata": {},
   "source": []
  },
  {
   "cell_type": "code",
   "execution_count": 5,
   "metadata": {},
   "outputs": [],
   "source": [
    "# init path\n",
    "os.makedirs(os.path.dirname('shared/'), exist_ok=True)\n",
    "os.makedirs(os.path.dirname('prover/'), exist_ok=True)\n",
    "verifier_model_path = os.path.join('shared/verifier.onnx')\n",
    "prover_model_path = os.path.join('prover/prover.onnx')\n",
    "verifier_compiled_model_path = os.path.join('shared/verifier.compiled')\n",
    "prover_compiled_model_path = os.path.join('prover/prover.compiled')\n",
    "pk_path = os.path.join('shared/test.pk')\n",
    "vk_path = os.path.join('shared/test.vk')\n",
    "proof_path = os.path.join('shared/test.pf')\n",
    "settings_path = os.path.join('shared/settings.json')\n",
    "srs_path = os.path.join('shared/kzg.srs')\n",
    "witness_path = os.path.join('prover/witness.json')\n",
    "# this is private to prover since it contains actual data\n",
    "sel_data_path = os.path.join('prover/sel_data.json')\n",
    "# this is just dummy random value\n",
    "sel_dummy_data_path = os.path.join('shared/sel_dummy_data.json')\n",
    "data_commitment_path = os.path.join('shared/data_commitment.json')"
   ]
  },
  {
   "attachments": {},
   "cell_type": "markdown",
   "metadata": {},
   "source": [
    "=======================  ZK-STATS FLOW ======================="
   ]
  },
  {
   "cell_type": "code",
   "execution_count": 6,
   "metadata": {},
   "outputs": [],
   "source": [
    "def mode_within(data_array, percent):\n",
    "    max_sum_freq = 0\n",
    "    mode = data_array[0]\n",
    "\n",
    "    for check_val in set(data_array):\n",
    "        sum_freq = sum(1 for ele in data_array if abs(ele - check_val) <= abs(percent * check_val / 100))\n",
    "\n",
    "        if sum_freq > max_sum_freq:\n",
    "            mode = check_val\n",
    "            max_sum_freq = sum_freq\n",
    "\n",
    "    return mode"
   ]
  },
  {
   "cell_type": "code",
   "execution_count": 7,
   "metadata": {},
   "outputs": [],
   "source": [
    "data_path = os.path.join('data.json')\n",
    "dummy_data_path = os.path.join('shared/dummy_data.json')\n",
    "\n",
    "data = np.array(json.loads(open(data_path, \"r\").read())['col_name'])\n",
    "\n",
    "create_dummy(data_path, dummy_data_path)\n",
    "dummy_data = np.array(json.loads(open(dummy_data_path, \"r\").read())['col_name'])\n",
    "\n",
    "dummy_theory_output = torch.tensor(mode_within(dummy_data[dummy_data>20],1))"
   ]
  },
  {
   "cell_type": "code",
   "execution_count": 8,
   "metadata": {},
   "outputs": [],
   "source": [
    "scales = [2]\n",
    "selected_columns = ['col_name']\n",
    "generate_data_commitment(data_path, scales, data_commitment_path)"
   ]
  },
  {
   "cell_type": "code",
   "execution_count": 9,
   "metadata": {},
   "outputs": [
    {
     "name": "stderr",
     "output_type": "stream",
     "text": [
      "/Users/jernkun/Desktop/zk-stats-lib/zkstats/ops.py:191: UserWarning: To copy construct from a tensor, it is recommended to use sourceTensor.clone().detach() or sourceTensor.clone().detach().requires_grad_(True), rather than torch.tensor(sourceTensor).\n",
      "  result = torch.tensor(mode_within(x_1d, 0))\n",
      "/Users/jernkun/Desktop/zk-stats-lib/zkstats/computation.py:172: TracerWarning: torch.tensor results are registered as constants in the trace. You can safely ignore this warning if you use this function to create tensors out of constant variables that would be the same every time you call this function. In any other case, this might cause the trace to be incorrect.\n",
      "  is_precise_aggregated = torch.tensor(1.0)\n",
      "/Users/jernkun/Desktop/zk-stats-lib/zkstats/ops.py:201: TracerWarning: Iterating over a tensor might cause the trace to be incorrect. Passing a tensor of different shape won't change the number of iterations executed (and might lead to errors or silently give incorrect results).\n",
      "  result = torch.tensor([torch.logical_or(torch.sum((x==ele[0]).float())<=count_equal, min_x-1 ==ele[0]) for ele in x[0]])\n",
      "/Users/jernkun/Desktop/zk-stats-lib/zkstats/ops.py:201: TracerWarning: torch.tensor results are registered as constants in the trace. You can safely ignore this warning if you use this function to create tensors out of constant variables that would be the same every time you call this function. In any other case, this might cause the trace to be incorrect.\n",
      "  result = torch.tensor([torch.logical_or(torch.sum((x==ele[0]).float())<=count_equal, min_x-1 ==ele[0]) for ele in x[0]])\n",
      "/Users/jernkun/Library/Caches/pypoetry/virtualenvs/zkstats-OJpceffF-py3.11/lib/python3.11/site-packages/torch/onnx/symbolic_opset9.py:2174: FutureWarning: 'torch.onnx.symbolic_opset9._cast_Bool' is deprecated in version 2.0 and will be removed in the future. Please Avoid using this function and create a Cast node instead.\n",
      "  return fn(g, to_cast_func(g, input, False), to_cast_func(g, other, False))\n"
     ]
    }
   ],
   "source": [
    "# Verifier/ data consumer side: send desired calculation\n",
    "from zkstats.computation import computation_to_model, State\n",
    "\n",
    "\n",
    "def computation(s: State, data: list[torch.Tensor]) -> torch.Tensor:\n",
    "    x = data[0]\n",
    "    filter = (x > 20)\n",
    "    filtered_x = s.where(filter, x)\n",
    "    return s.mode(filtered_x)\n",
    "\n",
    "error = 0.01\n",
    "_, verifier_model = computation_to_model(computation, error)\n",
    "\n",
    "verifier_define_calculation(dummy_data_path, selected_columns, sel_dummy_data_path,verifier_model, verifier_model_path)"
   ]
  },
  {
   "cell_type": "code",
   "execution_count": 10,
   "metadata": {},
   "outputs": [
    {
     "name": "stderr",
     "output_type": "stream",
     "text": [
      "\n",
      "\n",
      " <------------- Numerical Fidelity Report (input_scale: 2, param_scale: 2, scale_input_multiplier: 10) ------------->\n",
      "\n",
      "+------------+--------------+-----------+-----------+----------------+------------------+---------------+---------------+--------------------+--------------------+------------------------+\n",
      "| mean_error | median_error | max_error | min_error | mean_abs_error | median_abs_error | max_abs_error | min_abs_error | mean_squared_error | mean_percent_error | mean_abs_percent_error |\n",
      "+------------+--------------+-----------+-----------+----------------+------------------+---------------+---------------+--------------------+--------------------+------------------------+\n",
      "| 0          | 0            | 0         | 0         | 0              | 0                | 0             | 0             | 0                  | 0                  | 0                      |\n",
      "+------------+--------------+-----------+-----------+----------------+------------------+---------------+---------------+--------------------+--------------------+------------------------+\n",
      "\n",
      "\n"
     ]
    },
    {
     "name": "stdout",
     "output_type": "stream",
     "text": [
      "==== Generate & Calibrate Setting ====\n",
      "scale:  [2]\n",
      "setting:  {\"run_args\":{\"tolerance\":{\"val\":0.0,\"scale\":1.0},\"input_scale\":2,\"param_scale\":2,\"scale_rebase_multiplier\":10,\"lookup_range\":[-40,544],\"logrows\":14,\"num_inner_cols\":2,\"variables\":[[\"batch_size\",1]],\"input_visibility\":{\"Hashed\":{\"hash_is_public\":true,\"outlets\":[]}},\"output_visibility\":\"Public\",\"param_visibility\":\"Private\",\"div_rebasing\":false,\"rebase_frac_zero_constants\":false,\"check_mode\":\"UNSAFE\"},\"num_rows\":14432,\"total_assignments\":5393,\"total_const_size\":1202,\"model_instance_shapes\":[[1],[1]],\"model_output_scales\":[0,2],\"model_input_scales\":[2],\"module_sizes\":{\"kzg\":[],\"poseidon\":[14432,[1]]},\"required_lookups\":[{\"GreaterThan\":{\"a\":0.0}}],\"required_range_checks\":[],\"check_mode\":\"UNSAFE\",\"version\":\"9.1.0\",\"num_blinding_factors\":null,\"timestamp\":1709690439095}\n"
     ]
    }
   ],
   "source": [
    "# Prover/ data owner side\n",
    "_, prover_model = computation_to_model(computation, error)\n",
    "\n",
    "prover_gen_settings(data_path, selected_columns, sel_data_path, prover_model, prover_model_path, scales, \"resources\", settings_path)"
   ]
  },
  {
   "cell_type": "code",
   "execution_count": 11,
   "metadata": {},
   "outputs": [
    {
     "name": "stdout",
     "output_type": "stream",
     "text": [
      "==== setting up ezkl ====\n",
      "Time setup: 1.494189977645874 seconds\n",
      "=======================================\n",
      "==== Generating Witness ====\n",
      "witness boolean:  1.0\n",
      "witness result 1 : 40.0\n",
      "==== Generating Proof ====\n",
      "proof:  {'instances': [['3e89c37e1116fe2ce68ab4e73ee44968d88afeb2eedb85f2d87c4d984264b311', '0100000000000000000000000000000000000000000000000000000000000000', 'a000000000000000000000000000000000000000000000000000000000000000']], 'proof': '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', 'transcript_type': 'EVM'}\n",
      "Time gen prf: 1.85917329788208 seconds\n"
     ]
    }
   ],
   "source": [
    "# Here verifier & prover can concurrently call setup since all params are public to get pk.\n",
    "# Here write as verifier function to emphasize that verifier must calculate its own vk to be sure\n",
    "setup(verifier_model_path, verifier_compiled_model_path, settings_path,vk_path, pk_path )\n",
    "\n",
    "print(\"=======================================\")\n",
    "# Prover generates proof\n",
    "prover_gen_proof(prover_model_path, sel_data_path, witness_path, prover_compiled_model_path, settings_path, proof_path, pk_path)"
   ]
  },
  {
   "cell_type": "code",
   "execution_count": 12,
   "metadata": {},
   "outputs": [
    {
     "name": "stdout",
     "output_type": "stream",
     "text": [
      "Verifier gets result: [40.0]\n"
     ]
    }
   ],
   "source": [
    "# Verifier verifies\n",
    "res = verifier_verify(proof_path, settings_path, vk_path, selected_columns, data_commitment_path)\n",
    "print(\"Verifier gets result:\", res)"
   ]
  },
  {
   "cell_type": "code",
   "execution_count": null,
   "metadata": {},
   "outputs": [],
   "source": []
  }
 ],
 "metadata": {
  "kernelspec": {
   "display_name": "Python 3",
   "language": "python",
   "name": "python3"
  },
  "language_info": {
   "codemirror_mode": {
    "name": "ipython",
    "version": 3
   },
   "file_extension": ".py",
   "mimetype": "text/x-python",
   "name": "python",
   "nbconvert_exporter": "python",
   "pygments_lexer": "ipython3",
   "version": "3.11.4"
  },
  "orig_nbformat": 4
 },
 "nbformat": 4,
 "nbformat_minor": 2
}
