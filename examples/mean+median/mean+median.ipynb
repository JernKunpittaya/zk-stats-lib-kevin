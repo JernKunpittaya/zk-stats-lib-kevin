{
 "cells": [
  {
   "cell_type": "code",
   "execution_count": 5,
   "metadata": {},
   "outputs": [
    {
     "name": "stdout",
     "output_type": "stream",
     "text": [
      "Requirement already satisfied: ezkl==7.0.0 in /Library/Frameworks/Python.framework/Versions/3.10/lib/python3.10/site-packages (from -r ../../requirements.txt (line 1)) (7.0.0)\n",
      "Requirement already satisfied: torch in /Library/Frameworks/Python.framework/Versions/3.10/lib/python3.10/site-packages (from -r ../../requirements.txt (line 2)) (2.1.1)\n",
      "Requirement already satisfied: requests in /Library/Frameworks/Python.framework/Versions/3.10/lib/python3.10/site-packages (from -r ../../requirements.txt (line 3)) (2.31.0)\n",
      "Requirement already satisfied: scipy in /Library/Frameworks/Python.framework/Versions/3.10/lib/python3.10/site-packages (from -r ../../requirements.txt (line 4)) (1.11.4)\n",
      "Requirement already satisfied: numpy in /Library/Frameworks/Python.framework/Versions/3.10/lib/python3.10/site-packages (from -r ../../requirements.txt (line 5)) (1.26.2)\n",
      "Requirement already satisfied: matplotlib in /Library/Frameworks/Python.framework/Versions/3.10/lib/python3.10/site-packages (from -r ../../requirements.txt (line 6)) (3.8.2)\n",
      "Requirement already satisfied: statistics in /Library/Frameworks/Python.framework/Versions/3.10/lib/python3.10/site-packages (from -r ../../requirements.txt (line 7)) (1.0.3.5)\n",
      "Requirement already satisfied: onnx in /Library/Frameworks/Python.framework/Versions/3.10/lib/python3.10/site-packages (from -r ../../requirements.txt (line 8)) (1.15.0)\n",
      "Requirement already satisfied: typing-extensions in /Library/Frameworks/Python.framework/Versions/3.10/lib/python3.10/site-packages (from torch->-r ../../requirements.txt (line 2)) (4.8.0)\n",
      "Requirement already satisfied: networkx in /Library/Frameworks/Python.framework/Versions/3.10/lib/python3.10/site-packages (from torch->-r ../../requirements.txt (line 2)) (3.2.1)\n",
      "Requirement already satisfied: filelock in /Library/Frameworks/Python.framework/Versions/3.10/lib/python3.10/site-packages (from torch->-r ../../requirements.txt (line 2)) (3.13.1)\n",
      "Requirement already satisfied: sympy in /Library/Frameworks/Python.framework/Versions/3.10/lib/python3.10/site-packages (from torch->-r ../../requirements.txt (line 2)) (1.12)\n",
      "Requirement already satisfied: fsspec in /Library/Frameworks/Python.framework/Versions/3.10/lib/python3.10/site-packages (from torch->-r ../../requirements.txt (line 2)) (2023.10.0)\n",
      "Requirement already satisfied: jinja2 in /Library/Frameworks/Python.framework/Versions/3.10/lib/python3.10/site-packages (from torch->-r ../../requirements.txt (line 2)) (3.1.2)\n",
      "Requirement already satisfied: charset-normalizer<4,>=2 in /Library/Frameworks/Python.framework/Versions/3.10/lib/python3.10/site-packages (from requests->-r ../../requirements.txt (line 3)) (3.3.2)\n",
      "Requirement already satisfied: idna<4,>=2.5 in /Library/Frameworks/Python.framework/Versions/3.10/lib/python3.10/site-packages (from requests->-r ../../requirements.txt (line 3)) (3.6)\n",
      "Requirement already satisfied: certifi>=2017.4.17 in /Library/Frameworks/Python.framework/Versions/3.10/lib/python3.10/site-packages (from requests->-r ../../requirements.txt (line 3)) (2023.11.17)\n",
      "Requirement already satisfied: urllib3<3,>=1.21.1 in /Library/Frameworks/Python.framework/Versions/3.10/lib/python3.10/site-packages (from requests->-r ../../requirements.txt (line 3)) (2.1.0)\n",
      "Requirement already satisfied: fonttools>=4.22.0 in /Library/Frameworks/Python.framework/Versions/3.10/lib/python3.10/site-packages (from matplotlib->-r ../../requirements.txt (line 6)) (4.45.1)\n",
      "Requirement already satisfied: kiwisolver>=1.3.1 in /Library/Frameworks/Python.framework/Versions/3.10/lib/python3.10/site-packages (from matplotlib->-r ../../requirements.txt (line 6)) (1.4.5)\n",
      "Requirement already satisfied: pillow>=8 in /Library/Frameworks/Python.framework/Versions/3.10/lib/python3.10/site-packages (from matplotlib->-r ../../requirements.txt (line 6)) (10.1.0)\n",
      "Requirement already satisfied: pyparsing>=2.3.1 in /Library/Frameworks/Python.framework/Versions/3.10/lib/python3.10/site-packages (from matplotlib->-r ../../requirements.txt (line 6)) (3.1.1)\n",
      "Requirement already satisfied: python-dateutil>=2.7 in /Users/jernkun/Library/Python/3.10/lib/python/site-packages (from matplotlib->-r ../../requirements.txt (line 6)) (2.8.2)\n",
      "Requirement already satisfied: contourpy>=1.0.1 in /Library/Frameworks/Python.framework/Versions/3.10/lib/python3.10/site-packages (from matplotlib->-r ../../requirements.txt (line 6)) (1.2.0)\n",
      "Requirement already satisfied: packaging>=20.0 in /Users/jernkun/Library/Python/3.10/lib/python/site-packages (from matplotlib->-r ../../requirements.txt (line 6)) (23.2)\n",
      "Requirement already satisfied: cycler>=0.10 in /Library/Frameworks/Python.framework/Versions/3.10/lib/python3.10/site-packages (from matplotlib->-r ../../requirements.txt (line 6)) (0.12.1)\n",
      "Requirement already satisfied: docutils>=0.3 in /Library/Frameworks/Python.framework/Versions/3.10/lib/python3.10/site-packages (from statistics->-r ../../requirements.txt (line 7)) (0.20.1)\n",
      "Requirement already satisfied: protobuf>=3.20.2 in /Library/Frameworks/Python.framework/Versions/3.10/lib/python3.10/site-packages (from onnx->-r ../../requirements.txt (line 8)) (4.25.1)\n",
      "Requirement already satisfied: six>=1.5 in /Users/jernkun/Library/Python/3.10/lib/python/site-packages (from python-dateutil>=2.7->matplotlib->-r ../../requirements.txt (line 6)) (1.16.0)\n",
      "Requirement already satisfied: MarkupSafe>=2.0 in /Library/Frameworks/Python.framework/Versions/3.10/lib/python3.10/site-packages (from jinja2->torch->-r ../../requirements.txt (line 2)) (2.1.3)\n",
      "Requirement already satisfied: mpmath>=0.19 in /Library/Frameworks/Python.framework/Versions/3.10/lib/python3.10/site-packages (from sympy->torch->-r ../../requirements.txt (line 2)) (1.3.0)\n",
      "\u001b[33mWARNING: You are using pip version 21.2.3; however, version 23.3.2 is available.\n",
      "You should consider upgrading via the '/usr/local/bin/python3 -m pip install --upgrade pip' command.\u001b[0m\n",
      "Note: you may need to restart the kernel to use updated packages.\n"
     ]
    }
   ],
   "source": [
    "pip install -r ../../requirements.txt"
   ]
  },
  {
   "cell_type": "code",
   "execution_count": 18,
   "metadata": {},
   "outputs": [],
   "source": [
    "import ezkl\n",
    "import torch\n",
    "from torch import nn\n",
    "import json\n",
    "import os\n",
    "import time\n",
    "import scipy\n",
    "import numpy as np\n",
    "import matplotlib.pyplot as plt\n",
    "import statistics\n",
    "import math"
   ]
  },
  {
   "cell_type": "code",
   "execution_count": 19,
   "metadata": {},
   "outputs": [],
   "source": [
    "%run -i ../../zkstats/core.py"
   ]
  },
  {
   "attachments": {},
   "cell_type": "markdown",
   "metadata": {},
   "source": []
  },
  {
   "cell_type": "code",
   "execution_count": 20,
   "metadata": {},
   "outputs": [],
   "source": [
    "# init path\n",
    "os.makedirs(os.path.dirname('shared/'), exist_ok=True)\n",
    "os.makedirs(os.path.dirname('prover/'), exist_ok=True)\n",
    "verifier_model_path = os.path.join('shared/verifier.onnx')\n",
    "prover_model_path = os.path.join('prover/prover.onnx')\n",
    "verifier_compiled_model_path = os.path.join('shared/verifier.compiled')\n",
    "prover_compiled_model_path = os.path.join('prover/prover.compiled')\n",
    "pk_path = os.path.join('shared/test.pk')\n",
    "vk_path = os.path.join('shared/test.vk')\n",
    "proof_path = os.path.join('shared/test.pf')\n",
    "settings_path = os.path.join('shared/settings.json')\n",
    "srs_path = os.path.join('shared/kzg.srs')\n",
    "witness_path = os.path.join('prover/witness.json')\n",
    "# this is private to prover since it contains actual data\n",
    "sel_data_path = os.path.join('prover/sel_data.json')\n",
    "# this is just dummy random value\n",
    "sel_dummy_data_path = os.path.join('shared/sel_dummy_data.json')"
   ]
  },
  {
   "attachments": {},
   "cell_type": "markdown",
   "metadata": {},
   "source": [
    "=======================  ZK-STATS FLOW ======================="
   ]
  },
  {
   "attachments": {},
   "cell_type": "markdown",
   "metadata": {},
   "source": [
    "Here is a weird example where different col1 and col2 of data.json have different row number. We just want to show that different dimension is possible. In fact, a person can just request median(col_1), and median(col_2). Then just compute mean on his own as well, but here we show that the code is composable enough to do all at once. "
   ]
  },
  {
   "cell_type": "code",
   "execution_count": 21,
   "metadata": {},
   "outputs": [],
   "source": [
    "\n",
    "data_path = os.path.join('data.json')\n",
    "dummy_data_path = os.path.join('shared/dummy_data.json')\n",
    "\n",
    "data = json.loads(open(data_path, \"r\").read())\n",
    "data1 = data['col_1']\n",
    "data2 = data['col_2']\n",
    "\n",
    "\n",
    "create_dummy(data_path, dummy_data_path)\n",
    "dummy_data = json.loads(open(dummy_data_path, \"r\").read())\n",
    "dummy_data1 = dummy_data['col_1']\n",
    "dummy_data2 = dummy_data['col_2']\n",
    "\n",
    "\n",
    "dummy_theory_output_median1 = torch.tensor(np.median(dummy_data1))\n",
    "dummy_lower_to_median1 = torch.tensor(np.sort(dummy_data1)[int(len(dummy_data1)/2)-1])\n",
    "dummy_upper_to_median1 = torch.tensor(np.sort(dummy_data1)[int(len(dummy_data1)/2)])\n",
    "\n",
    "dummy_theory_output_median2 = torch.tensor(np.median(dummy_data2))\n",
    "dummy_lower_to_median2 = torch.tensor(np.sort(dummy_data2)[int(len(dummy_data2)/2)-1])\n",
    "dummy_upper_to_median2 = torch.tensor(np.sort(dummy_data2)[int(len(dummy_data2)/2)])\n",
    "\n",
    "dummy_theory_output_mean = torch.mean(torch.tensor([dummy_theory_output_median1, dummy_theory_output_median2]))\n",
    "\n",
    "theory_output_median1 = torch.tensor(np.median(data1))\n",
    "lower_to_median1 = torch.tensor(np.sort(data1)[int(len(data1)/2)-1])\n",
    "upper_to_median1 = torch.tensor(np.sort(data1)[int(len(data1)/2)])\n",
    "\n",
    "theory_output_median2 = torch.tensor(np.median(data2))\n",
    "lower_to_median2 = torch.tensor(np.sort(data2)[int(len(data2)/2)-1])\n",
    "upper_to_median2 = torch.tensor(np.sort(data2)[int(len(data2)/2)])\n",
    "\n",
    "theory_output_mean = torch.mean(torch.tensor([theory_output_median1, theory_output_median2]))\n",
    "\n",
    "\n",
    "\n"
   ]
  },
  {
   "cell_type": "code",
   "execution_count": 22,
   "metadata": {},
   "outputs": [],
   "source": [
    "def median(X, median, lower, upper):\n",
    "    # since within 1%, we regard as same value\n",
    "    count_less = torch.sum((X < 0.99*median).double())\n",
    "    count_equal = torch.sum((torch.abs(X-median)<=torch.abs(0.01*median)).double())\n",
    "    len = X.size()[1]\n",
    "    half_len = torch.floor(torch.div(len, 2))\n",
    "        \n",
    "    # not support modulo yet\n",
    "    less_cons = count_less<half_len+2*(len/2 - torch.floor(len/2))\n",
    "    more_cons = count_less+count_equal>half_len\n",
    "\n",
    "    # For count_equal == 0\n",
    "    lower_exist = torch.sum((torch.abs(X-lower)<=torch.abs(0.01*lower)).double())>0\n",
    "    lower_cons = torch.sum((X>1.01*lower).double())==half_len\n",
    "    upper_exist = torch.sum((torch.abs(X-upper)<=torch.abs(0.01*upper)).double())>0\n",
    "    upper_cons = torch.sum((X<0.99*upper).double())==half_len\n",
    "    bound = count_less==half_len\n",
    "    # 0.02 since 2*0.01\n",
    "    bound_avg = (torch.abs(lower+upper-2*median)<=torch.abs(0.02*median))\n",
    "\n",
    "    median_in_cons = torch.logical_and(less_cons, more_cons)\n",
    "    median_out_cons = torch.logical_and(torch.logical_and(bound, bound_avg), torch.logical_and(torch.logical_and(lower_cons, upper_cons), torch.logical_and(lower_exist, upper_exist)))\n",
    "        \n",
    "    return(torch.where(count_equal==0, median_out_cons, median_in_cons), median)\n"
   ]
  },
  {
   "cell_type": "code",
   "execution_count": 23,
   "metadata": {},
   "outputs": [],
   "source": [
    "def mean(X, mean):\n",
    "    return (torch.abs(torch.sum(X)-X.size()[1]*(mean))<=torch.abs(0.01*X.size()[1]*mean), mean)"
   ]
  },
  {
   "cell_type": "code",
   "execution_count": 24,
   "metadata": {},
   "outputs": [
    {
     "name": "stdout",
     "output_type": "stream",
     "text": [
      "dummy output:  tensor(5.3750, dtype=torch.float64)\n"
     ]
    },
    {
     "name": "stderr",
     "output_type": "stream",
     "text": [
      "/var/folders/89/y9dw12v976ngdmqz4l7wbsnr0000gn/T/ipykernel_4875/3449897344.py:17: TracerWarning: torch.tensor results are registered as constants in the trace. You can safely ignore this warning if you use this function to create tensors out of constant variables that would be the same every time you call this function. In any other case, this might cause the trace to be incorrect.\n",
      "  bool3, output_mean = mean(torch.tensor([median1, median2]).reshape(1,-1,1), self.mean)\n",
      "/var/folders/89/y9dw12v976ngdmqz4l7wbsnr0000gn/T/ipykernel_4875/3449897344.py:17: TracerWarning: Converting a tensor to a Python float might cause the trace to be incorrect. We can't record the data flow of Python values, so this value will be treated as a constant in the future. This means that the trace might not generalize to other inputs!\n",
      "  bool3, output_mean = mean(torch.tensor([median1, median2]).reshape(1,-1,1), self.mean)\n",
      "/Library/Frameworks/Python.framework/Versions/3.10/lib/python3.10/site-packages/torch/onnx/symbolic_opset9.py:2174: FutureWarning: 'torch.onnx.symbolic_opset9._cast_Bool' is deprecated in version 2.0 and will be removed in the future. Please Avoid using this function and create a Cast node instead.\n",
      "  return fn(g, to_cast_func(g, input, False), to_cast_func(g, other, False))\n"
     ]
    }
   ],
   "source": [
    "print(\"dummy output: \", dummy_theory_output_mean)\n",
    "# Verifier/ data consumer side: send desired calculation\n",
    "class verifier_model(nn.Module):\n",
    "    def __init__(self):\n",
    "        super(verifier_model, self).__init__()\n",
    "        # w represents mean in this case\n",
    "        self.median1 = nn.Parameter(data = dummy_theory_output_median1, requires_grad = False)\n",
    "        self.lower1 = nn.Parameter(data = dummy_lower_to_median1, requires_grad = False)\n",
    "        self.upper1 = nn.Parameter(data = dummy_upper_to_median1, requires_grad = False)\n",
    "        self.median2 = nn.Parameter(data = dummy_theory_output_median2, requires_grad = False)\n",
    "        self.lower2 = nn.Parameter(data = dummy_lower_to_median2, requires_grad = False)\n",
    "        self.upper2 = nn.Parameter(data = dummy_upper_to_median2, requires_grad = False)\n",
    "        self.mean = nn.Parameter(data = dummy_theory_output_mean, requires_grad = False)\n",
    "    def forward(self,X1, X2):\n",
    "        bool1, median1 = median(X1, self.median1, self.lower1, self.upper1)\n",
    "        bool2, median2 = median(X2, self.median2, self.lower2, self.upper2)\n",
    "        bool3, output_mean = mean(torch.tensor([median1, median2]).reshape(1,-1,1), self.mean)\n",
    "        return (torch.logical_and(torch.logical_and(bool1, bool2),bool3), output_mean )\n",
    "\n",
    "    \n",
    "\n",
    "verifier_define_calculation(dummy_data_path, ['col_1', 'col_2'],sel_dummy_data_path,verifier_model, verifier_model_path)"
   ]
  },
  {
   "cell_type": "code",
   "execution_count": 25,
   "metadata": {},
   "outputs": [
    {
     "name": "stdout",
     "output_type": "stream",
     "text": [
      "theory mean output:  tensor(49.3500, dtype=torch.float64)\n"
     ]
    },
    {
     "name": "stderr",
     "output_type": "stream",
     "text": [
      "/var/folders/89/y9dw12v976ngdmqz4l7wbsnr0000gn/T/ipykernel_4875/3663195370.py:18: TracerWarning: torch.tensor results are registered as constants in the trace. You can safely ignore this warning if you use this function to create tensors out of constant variables that would be the same every time you call this function. In any other case, this might cause the trace to be incorrect.\n",
      "  bool3, output_mean = mean(torch.tensor([median1, median2]).reshape(1,-1,1), self.mean)\n",
      "/var/folders/89/y9dw12v976ngdmqz4l7wbsnr0000gn/T/ipykernel_4875/3663195370.py:18: TracerWarning: Converting a tensor to a Python float might cause the trace to be incorrect. We can't record the data flow of Python values, so this value will be treated as a constant in the future. This means that the trace might not generalize to other inputs!\n",
      "  bool3, output_mean = mean(torch.tensor([median1, median2]).reshape(1,-1,1), self.mean)\n"
     ]
    },
    {
     "name": "stdout",
     "output_type": "stream",
     "text": [
      "==== Generate & Calibrate Setting ====\n",
      "scale:  default\n",
      "setting:  {\"run_args\":{\"tolerance\":{\"val\":0.0,\"scale\":1.0},\"input_scale\":8,\"param_scale\":8,\"scale_rebase_multiplier\":10,\"lookup_range\":[-25518,25754],\"logrows\":16,\"num_inner_cols\":2,\"variables\":[[\"batch_size\",1]],\"input_visibility\":{\"Hashed\":{\"hash_is_public\":true,\"outlets\":[]}},\"output_visibility\":\"Public\",\"param_visibility\":\"Private\"},\"num_rows\":20992,\"total_assignments\":16092,\"total_const_size\":2432,\"model_instance_shapes\":[[1],[1]],\"model_output_scales\":[0,8],\"model_input_scales\":[8,8],\"module_sizes\":{\"kzg\":[],\"poseidon\":[20992,[2]],\"elgamal\":[0,[0]]},\"required_lookups\":[\"Abs\",{\"GreaterThan\":{\"a\":0.0}},\"KroneckerDelta\"],\"check_mode\":\"UNSAFE\",\"version\":\"7.0.0\",\"num_blinding_factors\":null}\n"
     ]
    }
   ],
   "source": [
    "# prover calculates settings, send to verifier\n",
    "print(\"theory mean output: \", theory_output_mean)\n",
    "\n",
    "class prover_model(nn.Module):\n",
    "    def __init__(self):\n",
    "        super(prover_model, self).__init__()\n",
    "        # w represents mean in this case\n",
    "        self.median1 = nn.Parameter(data = theory_output_median1, requires_grad = False)\n",
    "        self.lower1 = nn.Parameter(data = lower_to_median1, requires_grad = False)\n",
    "        self.upper1 = nn.Parameter(data = upper_to_median1, requires_grad = False)\n",
    "        self.median2 = nn.Parameter(data = theory_output_median2, requires_grad = False)\n",
    "        self.lower2 = nn.Parameter(data = lower_to_median2, requires_grad = False)\n",
    "        self.upper2 = nn.Parameter(data = upper_to_median2, requires_grad = False)\n",
    "        self.mean = nn.Parameter(data = theory_output_mean, requires_grad = False)\n",
    "    def forward(self,X1, X2):\n",
    "        bool1, median1 = median(X1, self.median1, self.lower1, self.upper1)\n",
    "        bool2, median2 = median(X2, self.median2, self.lower2, self.upper2)\n",
    "        bool3, output_mean = mean(torch.tensor([median1, median2]).reshape(1,-1,1), self.mean)\n",
    "        return (torch.logical_and(torch.logical_and(bool1, bool2),bool3), output_mean )\n",
    "\n",
    " \n",
    "      \n",
    "prover_gen_settings(data_path,['col_1', 'col_2'], sel_data_path, prover_model,prover_model_path, 'default', \"resources\", settings_path)"
   ]
  },
  {
   "cell_type": "code",
   "execution_count": 26,
   "metadata": {},
   "outputs": [
    {
     "name": "stderr",
     "output_type": "stream",
     "text": [
      "spawning module 0\n",
      "spawning module 2\n"
     ]
    },
    {
     "name": "stdout",
     "output_type": "stream",
     "text": [
      "==== setting up ezkl ====\n"
     ]
    },
    {
     "name": "stderr",
     "output_type": "stream",
     "text": [
      "spawning module 0\n",
      "spawning module 2\n"
     ]
    },
    {
     "name": "stdout",
     "output_type": "stream",
     "text": [
      "Time setup: 7.0805840492248535 seconds\n",
      "=======================================\n",
      "Theory output:  tensor(49.3500, dtype=torch.float64)\n",
      "!@# compiled_model exists? False\n",
      "!@# compiled_model exists? True\n",
      "==== Generating Witness ====\n",
      "witness boolean:  1.0\n",
      "witness result 1 : 49.3515625\n",
      "==== Generating Proof ====\n"
     ]
    },
    {
     "name": "stderr",
     "output_type": "stream",
     "text": [
      "spawning module 0\n",
      "spawning module 2\n"
     ]
    },
    {
     "name": "stdout",
     "output_type": "stream",
     "text": [
      "proof:  {'instances': [[[3042937791208075219, 8157070662846698822, 3804781648660056856, 172406108020799675], [15295097400487804665, 12861486368330479023, 3350118022201779210, 343142782800691716], [12436184717236109307, 3962172157175319849, 7381016538464732718, 1011752739694698287], [10870267098303494893, 1752989342377741058, 8860763459400202009, 2635465469930673149]]], 'proof': '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', 'transcript_type': 'EVM'}\n",
      "Time gen prf: 9.810823917388916 seconds\n"
     ]
    }
   ],
   "source": [
    "# Here verifier & prover can concurrently call setup since all params are public to get pk. \n",
    "# Here write as verifier function to emphasize that verifier must calculate its own vk to be sure\n",
    "verifier_setup(verifier_model_path, verifier_compiled_model_path, settings_path,vk_path, pk_path )\n",
    "\n",
    "print(\"=======================================\")\n",
    "# Prover generates proof\n",
    "print(\"Theory output: \", theory_output_mean)\n",
    "prover_gen_proof(prover_model_path, sel_data_path, witness_path, prover_compiled_model_path, settings_path, proof_path, pk_path)"
   ]
  },
  {
   "cell_type": "code",
   "execution_count": 27,
   "metadata": {},
   "outputs": [
    {
     "name": "stdout",
     "output_type": "stream",
     "text": [
      "num_inputs:  2\n",
      "prf instances:  [[[3042937791208075219, 8157070662846698822, 3804781648660056856, 172406108020799675], [15295097400487804665, 12861486368330479023, 3350118022201779210, 343142782800691716], [12436184717236109307, 3962172157175319849, 7381016538464732718, 1011752739694698287], [10870267098303494893, 1752989342377741058, 8860763459400202009, 2635465469930673149]]]\n",
      "proof boolean:  1.0\n",
      "proof result 1 : 49.3515625\n",
      "verified\n"
     ]
    }
   ],
   "source": [
    "# Verifier verifies\n",
    "verifier_verify(proof_path, settings_path, vk_path)"
   ]
  },
  {
   "cell_type": "code",
   "execution_count": null,
   "metadata": {},
   "outputs": [],
   "source": []
  }
 ],
 "metadata": {
  "kernelspec": {
   "display_name": "Python 3",
   "language": "python",
   "name": "python3"
  },
  "language_info": {
   "codemirror_mode": {
    "name": "ipython",
    "version": 3
   },
   "file_extension": ".py",
   "mimetype": "text/x-python",
   "name": "python",
   "nbconvert_exporter": "python",
   "pygments_lexer": "ipython3",
   "version": "3.10.0"
  },
  "orig_nbformat": 4
 },
 "nbformat": 4,
 "nbformat_minor": 2
}
