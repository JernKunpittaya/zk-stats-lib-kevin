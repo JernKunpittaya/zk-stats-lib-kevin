{
 "cells": [
  {
   "cell_type": "code",
   "execution_count": 1,
   "metadata": {},
   "outputs": [],
   "source": [
    "import ezkl\n",
    "import torch\n",
    "from torch import nn\n",
    "import json\n",
    "import os\n",
    "import time\n",
    "import scipy\n",
    "import numpy as np\n",
    "import matplotlib.pyplot as plt\n",
    "import statistics\n",
    "import math"
   ]
  },
  {
   "cell_type": "code",
   "execution_count": 2,
   "metadata": {},
   "outputs": [],
   "source": [
    "from zkstats.core import create_dummy, verifier_define_calculation, prover_gen_settings, setup, prover_gen_proof, verifier_verify, get_data_commitment_maps"
   ]
  },
  {
   "attachments": {},
   "cell_type": "markdown",
   "metadata": {},
   "source": []
  },
  {
   "cell_type": "code",
   "execution_count": 3,
   "metadata": {},
   "outputs": [],
   "source": [
    "# init path\n",
    "os.makedirs(os.path.dirname('shared/'), exist_ok=True)\n",
    "os.makedirs(os.path.dirname('prover/'), exist_ok=True)\n",
    "verifier_model_path = os.path.join('shared/verifier.onnx')\n",
    "prover_model_path = os.path.join('prover/prover.onnx')\n",
    "verifier_compiled_model_path = os.path.join('shared/verifier.compiled')\n",
    "prover_compiled_model_path = os.path.join('prover/prover.compiled')\n",
    "pk_path = os.path.join('shared/test.pk')\n",
    "vk_path = os.path.join('shared/test.vk')\n",
    "proof_path = os.path.join('shared/test.pf')\n",
    "settings_path = os.path.join('shared/settings.json')\n",
    "srs_path = os.path.join('shared/kzg.srs')\n",
    "witness_path = os.path.join('prover/witness.json')\n",
    "# this is private to prover since it contains actual data\n",
    "sel_data_path = os.path.join('prover/sel_data.json')\n",
    "# this is just dummy random value\n",
    "sel_dummy_data_path = os.path.join('shared/sel_dummy_data.json')"
   ]
  },
  {
   "attachments": {},
   "cell_type": "markdown",
   "metadata": {},
   "source": [
    "=======================  ZK-STATS FLOW ======================="
   ]
  },
  {
   "attachments": {},
   "cell_type": "markdown",
   "metadata": {},
   "source": [
    "Here is a weird example where different col1 and col2 of data.json have different row number. We just want to show that different dimension is possible. In fact, a person can just request median(col_1), and median(col_2). Then just compute mean on his own as well, but here we show that the code is composable enough to do all at once. "
   ]
  },
  {
   "cell_type": "code",
   "execution_count": 4,
   "metadata": {},
   "outputs": [],
   "source": [
    "\n",
    "data_path = os.path.join('data.json')\n",
    "dummy_data_path = os.path.join('shared/dummy_data.json')\n",
    "create_dummy(data_path, dummy_data_path)\n"
   ]
  },
  {
   "cell_type": "code",
   "execution_count": 5,
   "metadata": {},
   "outputs": [],
   "source": [
    "scales = [5]\n",
    "selected_columns = ['col_1', 'col_2']\n",
    "commitment_maps = get_data_commitment_maps(data_path, scales)"
   ]
  },
  {
   "cell_type": "code",
   "execution_count": 6,
   "metadata": {},
   "outputs": [
    {
     "name": "stderr",
     "output_type": "stream",
     "text": [
      "/var/folders/89/y9dw12v976ngdmqz4l7wbsnr0000gn/T/ipykernel_85214/589984064.py:9: TracerWarning: torch.tensor results are registered as constants in the trace. You can safely ignore this warning if you use this function to create tensors out of constant variables that would be the same every time you call this function. In any other case, this might cause the trace to be incorrect.\n",
      "  return s.mean(torch.tensor([out_0, out_1]).reshape(1,-1,1))\n",
      "/var/folders/89/y9dw12v976ngdmqz4l7wbsnr0000gn/T/ipykernel_85214/589984064.py:9: TracerWarning: Converting a tensor to a Python float might cause the trace to be incorrect. We can't record the data flow of Python values, so this value will be treated as a constant in the future. This means that the trace might not generalize to other inputs!\n",
      "  return s.mean(torch.tensor([out_0, out_1]).reshape(1,-1,1))\n",
      "/Users/jernkun/Desktop/zk-stats-lib/zkstats/computation.py:172: TracerWarning: torch.tensor results are registered as constants in the trace. You can safely ignore this warning if you use this function to create tensors out of constant variables that would be the same every time you call this function. In any other case, this might cause the trace to be incorrect.\n",
      "  is_precise_aggregated = torch.tensor(1.0)\n",
      "/Users/jernkun/Library/Caches/pypoetry/virtualenvs/zkstats-OJpceffF-py3.11/lib/python3.11/site-packages/torch/onnx/symbolic_opset9.py:2174: FutureWarning: 'torch.onnx.symbolic_opset9._cast_Bool' is deprecated in version 2.0 and will be removed in the future. Please Avoid using this function and create a Cast node instead.\n",
      "  return fn(g, to_cast_func(g, input, False), to_cast_func(g, other, False))\n"
     ]
    }
   ],
   "source": [
    "# Verifier/ data consumer side: send desired calculation\n",
    "from zkstats.computation import computation_to_model, State\n",
    "\n",
    "\n",
    "def computation(s: State, data: list[torch.Tensor]) -> torch.Tensor:\n",
    "    x1, x2 = data[0], data[1]\n",
    "    out_0 = s.median(x1)\n",
    "    out_1 = s.median(x2)\n",
    "    return s.mean(torch.tensor([out_0, out_1]).reshape(1,-1,1))\n",
    "\n",
    "error = 0.0001\n",
    "_, verifier_model = computation_to_model(computation, error)\n",
    "\n",
    "verifier_define_calculation(dummy_data_path, selected_columns, sel_dummy_data_path, verifier_model, verifier_model_path)"
   ]
  },
  {
   "cell_type": "code",
   "execution_count": 7,
   "metadata": {},
   "outputs": [
    {
     "name": "stderr",
     "output_type": "stream",
     "text": [
      "/var/folders/89/y9dw12v976ngdmqz4l7wbsnr0000gn/T/ipykernel_85214/589984064.py:9: TracerWarning: torch.tensor results are registered as constants in the trace. You can safely ignore this warning if you use this function to create tensors out of constant variables that would be the same every time you call this function. In any other case, this might cause the trace to be incorrect.\n",
      "  return s.mean(torch.tensor([out_0, out_1]).reshape(1,-1,1))\n",
      "/var/folders/89/y9dw12v976ngdmqz4l7wbsnr0000gn/T/ipykernel_85214/589984064.py:9: TracerWarning: Converting a tensor to a Python float might cause the trace to be incorrect. We can't record the data flow of Python values, so this value will be treated as a constant in the future. This means that the trace might not generalize to other inputs!\n",
      "  return s.mean(torch.tensor([out_0, out_1]).reshape(1,-1,1))\n"
     ]
    },
    {
     "name": "stdout",
     "output_type": "stream",
     "text": [
      "==== Generate & Calibrate Setting ====\n"
     ]
    },
    {
     "name": "stderr",
     "output_type": "stream",
     "text": [
      "\n",
      "\n",
      " <------------- Numerical Fidelity Report (input_scale: 5, param_scale: 5, scale_input_multiplier: 10) ------------->\n",
      "\n",
      "+-------------+--------------+-------------+-----------+----------------+------------------+---------------+---------------+--------------------+--------------------+------------------------+\n",
      "| mean_error  | median_error | max_error   | min_error | mean_abs_error | median_abs_error | max_abs_error | min_abs_error | mean_squared_error | mean_percent_error | mean_abs_percent_error |\n",
      "+-------------+--------------+-------------+-----------+----------------+------------------+---------------+---------------+--------------------+--------------------+------------------------+\n",
      "| 0.003124237 | 0.006248474  | 0.006248474 | 0         | 0.003124237    | 0.006248474      | 0.006248474   | 0             | 0.000019521714     | 0.00006330774      | 0.00006330774          |\n",
      "+-------------+--------------+-------------+-----------+----------------+------------------+---------------+---------------+--------------------+--------------------+------------------------+\n",
      "\n",
      "\n"
     ]
    },
    {
     "name": "stdout",
     "output_type": "stream",
     "text": [
      "scale:  [5]\n",
      "setting:  {\"run_args\":{\"tolerance\":{\"val\":0.0,\"scale\":1.0},\"input_scale\":5,\"param_scale\":5,\"scale_rebase_multiplier\":10,\"lookup_range\":[-6212,3220],\"logrows\":15,\"num_inner_cols\":2,\"variables\":[[\"batch_size\",1]],\"input_visibility\":{\"Hashed\":{\"hash_is_public\":true,\"outlets\":[]}},\"output_visibility\":\"Public\",\"param_visibility\":\"Private\",\"div_rebasing\":false,\"rebase_frac_zero_constants\":false,\"check_mode\":\"UNSAFE\"},\"num_rows\":20992,\"total_assignments\":20935,\"total_const_size\":3242,\"model_instance_shapes\":[[1],[1]],\"model_output_scales\":[0,5],\"model_input_scales\":[5,5],\"module_sizes\":{\"kzg\":[],\"poseidon\":[20992,[2]]},\"required_lookups\":[{\"Floor\":{\"scale\":2.0}},{\"GreaterThan\":{\"a\":0.0}},\"ReLU\"],\"required_range_checks\":[],\"check_mode\":\"UNSAFE\",\"version\":\"9.1.0\",\"num_blinding_factors\":null,\"timestamp\":1709716877850}\n"
     ]
    }
   ],
   "source": [
    "# prover calculates settings, send to verifier\n",
    "_, prover_model = computation_to_model(computation, error)\n",
    "\n",
    "prover_gen_settings(data_path,selected_columns, sel_data_path, prover_model, prover_model_path, scales, \"resources\", settings_path)"
   ]
  },
  {
   "cell_type": "code",
   "execution_count": 8,
   "metadata": {},
   "outputs": [
    {
     "name": "stdout",
     "output_type": "stream",
     "text": [
      "==== setting up ezkl ====\n",
      "Time setup: 3.5495471954345703 seconds\n",
      "=======================================\n",
      "==== Generating Witness ====\n",
      "witness boolean:  1.0\n",
      "witness result 1 : 49.34375\n",
      "==== Generating Proof ====\n",
      "proof:  {'instances': [['02d91b6d36d8287fa18398dbe41fa396b3a2bd53aba2288c7b83866942c4ff1e', '19879c7f545b79f54649cf9692b2ace73fb0b0c526ee5251aef63bd64742df02', '0100000000000000000000000000000000000000000000000000000000000000', '2b06000000000000000000000000000000000000000000000000000000000000']], 'proof': '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', 'transcript_type': 'EVM'}\n",
      "Time gen prf: 4.714978218078613 seconds\n"
     ]
    }
   ],
   "source": [
    "# Here verifier & prover can concurrently call setup since all params are public to get pk.\n",
    "# Here write as verifier function to emphasize that verifier must calculate its own vk to be sure\n",
    "setup(verifier_model_path, verifier_compiled_model_path, settings_path,vk_path, pk_path )\n",
    "\n",
    "print(\"=======================================\")\n",
    "# Prover generates proof\n",
    "prover_gen_proof(prover_model_path, sel_data_path, witness_path, prover_compiled_model_path, settings_path, proof_path, pk_path)"
   ]
  },
  {
   "cell_type": "code",
   "execution_count": 9,
   "metadata": {},
   "outputs": [
    {
     "name": "stdout",
     "output_type": "stream",
     "text": [
      "Verifier gets result: [49.34375]\n"
     ]
    }
   ],
   "source": [
    "# Verifier verifies\n",
    "res = verifier_verify(proof_path, settings_path, vk_path, selected_columns, commitment_maps)\n",
    "print(\"Verifier gets result:\", res)"
   ]
  },
  {
   "cell_type": "code",
   "execution_count": null,
   "metadata": {},
   "outputs": [],
   "source": []
  }
 ],
 "metadata": {
  "kernelspec": {
   "display_name": "Python 3",
   "language": "python",
   "name": "python3"
  },
  "language_info": {
   "codemirror_mode": {
    "name": "ipython",
    "version": 3
   },
   "file_extension": ".py",
   "mimetype": "text/x-python",
   "name": "python",
   "nbconvert_exporter": "python",
   "pygments_lexer": "ipython3",
   "version": "3.11.4"
  },
  "orig_nbformat": 4
 },
 "nbformat": 4,
 "nbformat_minor": 2
}
