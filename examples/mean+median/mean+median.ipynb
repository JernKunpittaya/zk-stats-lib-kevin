{
 "cells": [
  {
   "cell_type": "code",
   "execution_count": 1,
   "metadata": {},
   "outputs": [
    {
     "name": "stdout",
     "output_type": "stream",
     "text": [
      "Requirement already satisfied: ezkl==9.1.0 in /Users/jernkun/Library/Caches/pypoetry/virtualenvs/zkstats-OJpceffF-py3.11/lib/python3.11/site-packages (from -r ../../requirements.txt (line 1)) (9.1.0)\n",
      "Requirement already satisfied: torch in /Users/jernkun/Library/Caches/pypoetry/virtualenvs/zkstats-OJpceffF-py3.11/lib/python3.11/site-packages (from -r ../../requirements.txt (line 2)) (2.2.0)\n",
      "Requirement already satisfied: requests in /Users/jernkun/Library/Caches/pypoetry/virtualenvs/zkstats-OJpceffF-py3.11/lib/python3.11/site-packages (from -r ../../requirements.txt (line 3)) (2.31.0)\n",
      "Requirement already satisfied: scipy in /Users/jernkun/Library/Caches/pypoetry/virtualenvs/zkstats-OJpceffF-py3.11/lib/python3.11/site-packages (from -r ../../requirements.txt (line 4)) (1.12.0)\n",
      "Requirement already satisfied: numpy in /Users/jernkun/Library/Caches/pypoetry/virtualenvs/zkstats-OJpceffF-py3.11/lib/python3.11/site-packages (from -r ../../requirements.txt (line 5)) (1.26.3)\n",
      "Requirement already satisfied: matplotlib in /Users/jernkun/Library/Caches/pypoetry/virtualenvs/zkstats-OJpceffF-py3.11/lib/python3.11/site-packages (from -r ../../requirements.txt (line 6)) (3.8.2)\n",
      "Requirement already satisfied: statistics in /Users/jernkun/Library/Caches/pypoetry/virtualenvs/zkstats-OJpceffF-py3.11/lib/python3.11/site-packages (from -r ../../requirements.txt (line 7)) (1.0.3.5)\n",
      "Requirement already satisfied: onnx in /Users/jernkun/Library/Caches/pypoetry/virtualenvs/zkstats-OJpceffF-py3.11/lib/python3.11/site-packages (from -r ../../requirements.txt (line 8)) (1.15.0)\n",
      "Requirement already satisfied: filelock in /Users/jernkun/Library/Caches/pypoetry/virtualenvs/zkstats-OJpceffF-py3.11/lib/python3.11/site-packages (from torch->-r ../../requirements.txt (line 2)) (3.13.1)\n",
      "Requirement already satisfied: typing-extensions>=4.8.0 in /Users/jernkun/Library/Caches/pypoetry/virtualenvs/zkstats-OJpceffF-py3.11/lib/python3.11/site-packages (from torch->-r ../../requirements.txt (line 2)) (4.9.0)\n",
      "Requirement already satisfied: sympy in /Users/jernkun/Library/Caches/pypoetry/virtualenvs/zkstats-OJpceffF-py3.11/lib/python3.11/site-packages (from torch->-r ../../requirements.txt (line 2)) (1.12)\n",
      "Requirement already satisfied: networkx in /Users/jernkun/Library/Caches/pypoetry/virtualenvs/zkstats-OJpceffF-py3.11/lib/python3.11/site-packages (from torch->-r ../../requirements.txt (line 2)) (3.2.1)\n",
      "Requirement already satisfied: jinja2 in /Users/jernkun/Library/Caches/pypoetry/virtualenvs/zkstats-OJpceffF-py3.11/lib/python3.11/site-packages (from torch->-r ../../requirements.txt (line 2)) (3.1.3)\n",
      "Requirement already satisfied: fsspec in /Users/jernkun/Library/Caches/pypoetry/virtualenvs/zkstats-OJpceffF-py3.11/lib/python3.11/site-packages (from torch->-r ../../requirements.txt (line 2)) (2023.12.2)\n",
      "Requirement already satisfied: charset-normalizer<4,>=2 in /Users/jernkun/Library/Caches/pypoetry/virtualenvs/zkstats-OJpceffF-py3.11/lib/python3.11/site-packages (from requests->-r ../../requirements.txt (line 3)) (3.3.2)\n",
      "Requirement already satisfied: idna<4,>=2.5 in /Users/jernkun/Library/Caches/pypoetry/virtualenvs/zkstats-OJpceffF-py3.11/lib/python3.11/site-packages (from requests->-r ../../requirements.txt (line 3)) (3.6)\n",
      "Requirement already satisfied: urllib3<3,>=1.21.1 in /Users/jernkun/Library/Caches/pypoetry/virtualenvs/zkstats-OJpceffF-py3.11/lib/python3.11/site-packages (from requests->-r ../../requirements.txt (line 3)) (2.2.0)\n",
      "Requirement already satisfied: certifi>=2017.4.17 in /Users/jernkun/Library/Caches/pypoetry/virtualenvs/zkstats-OJpceffF-py3.11/lib/python3.11/site-packages (from requests->-r ../../requirements.txt (line 3)) (2024.2.2)\n",
      "Requirement already satisfied: contourpy>=1.0.1 in /Users/jernkun/Library/Caches/pypoetry/virtualenvs/zkstats-OJpceffF-py3.11/lib/python3.11/site-packages (from matplotlib->-r ../../requirements.txt (line 6)) (1.2.0)\n",
      "Requirement already satisfied: cycler>=0.10 in /Users/jernkun/Library/Caches/pypoetry/virtualenvs/zkstats-OJpceffF-py3.11/lib/python3.11/site-packages (from matplotlib->-r ../../requirements.txt (line 6)) (0.12.1)\n",
      "Requirement already satisfied: fonttools>=4.22.0 in /Users/jernkun/Library/Caches/pypoetry/virtualenvs/zkstats-OJpceffF-py3.11/lib/python3.11/site-packages (from matplotlib->-r ../../requirements.txt (line 6)) (4.47.2)\n",
      "Requirement already satisfied: kiwisolver>=1.3.1 in /Users/jernkun/Library/Caches/pypoetry/virtualenvs/zkstats-OJpceffF-py3.11/lib/python3.11/site-packages (from matplotlib->-r ../../requirements.txt (line 6)) (1.4.5)\n",
      "Requirement already satisfied: packaging>=20.0 in /Users/jernkun/Library/Caches/pypoetry/virtualenvs/zkstats-OJpceffF-py3.11/lib/python3.11/site-packages (from matplotlib->-r ../../requirements.txt (line 6)) (23.2)\n",
      "Requirement already satisfied: pillow>=8 in /Users/jernkun/Library/Caches/pypoetry/virtualenvs/zkstats-OJpceffF-py3.11/lib/python3.11/site-packages (from matplotlib->-r ../../requirements.txt (line 6)) (10.2.0)\n",
      "Requirement already satisfied: pyparsing>=2.3.1 in /Users/jernkun/Library/Caches/pypoetry/virtualenvs/zkstats-OJpceffF-py3.11/lib/python3.11/site-packages (from matplotlib->-r ../../requirements.txt (line 6)) (3.1.1)\n",
      "Requirement already satisfied: python-dateutil>=2.7 in /Users/jernkun/Library/Caches/pypoetry/virtualenvs/zkstats-OJpceffF-py3.11/lib/python3.11/site-packages (from matplotlib->-r ../../requirements.txt (line 6)) (2.8.2)\n",
      "Requirement already satisfied: docutils>=0.3 in /Users/jernkun/Library/Caches/pypoetry/virtualenvs/zkstats-OJpceffF-py3.11/lib/python3.11/site-packages (from statistics->-r ../../requirements.txt (line 7)) (0.20.1)\n",
      "Requirement already satisfied: protobuf>=3.20.2 in /Users/jernkun/Library/Caches/pypoetry/virtualenvs/zkstats-OJpceffF-py3.11/lib/python3.11/site-packages (from onnx->-r ../../requirements.txt (line 8)) (4.25.2)\n",
      "Requirement already satisfied: six>=1.5 in /Users/jernkun/Library/Caches/pypoetry/virtualenvs/zkstats-OJpceffF-py3.11/lib/python3.11/site-packages (from python-dateutil>=2.7->matplotlib->-r ../../requirements.txt (line 6)) (1.16.0)\n",
      "Requirement already satisfied: MarkupSafe>=2.0 in /Users/jernkun/Library/Caches/pypoetry/virtualenvs/zkstats-OJpceffF-py3.11/lib/python3.11/site-packages (from jinja2->torch->-r ../../requirements.txt (line 2)) (2.1.4)\n",
      "Requirement already satisfied: mpmath>=0.19 in /Users/jernkun/Library/Caches/pypoetry/virtualenvs/zkstats-OJpceffF-py3.11/lib/python3.11/site-packages (from sympy->torch->-r ../../requirements.txt (line 2)) (1.3.0)\n",
      "\n",
      "\u001b[1m[\u001b[0m\u001b[34;49mnotice\u001b[0m\u001b[1;39;49m]\u001b[0m\u001b[39;49m A new release of pip is available: \u001b[0m\u001b[31;49m23.2.1\u001b[0m\u001b[39;49m -> \u001b[0m\u001b[32;49m24.0\u001b[0m\n",
      "\u001b[1m[\u001b[0m\u001b[34;49mnotice\u001b[0m\u001b[1;39;49m]\u001b[0m\u001b[39;49m To update, run: \u001b[0m\u001b[32;49mpip install --upgrade pip\u001b[0m\n",
      "Note: you may need to restart the kernel to use updated packages.\n"
     ]
    }
   ],
   "source": [
    "pip install -r ../../requirements.txt"
   ]
  },
  {
   "cell_type": "code",
   "execution_count": 2,
   "metadata": {},
   "outputs": [],
   "source": [
    "import ezkl\n",
    "import torch\n",
    "from torch import nn\n",
    "import json\n",
    "import os\n",
    "import time\n",
    "import scipy\n",
    "import numpy as np\n",
    "import matplotlib.pyplot as plt\n",
    "import statistics\n",
    "import math"
   ]
  },
  {
   "cell_type": "code",
   "execution_count": 3,
   "metadata": {},
   "outputs": [],
   "source": [
    "from zkstats.core import create_dummy, verifier_define_calculation, prover_gen_settings, setup, prover_gen_proof, verifier_verify, get_data_commitment_maps"
   ]
  },
  {
   "attachments": {},
   "cell_type": "markdown",
   "metadata": {},
   "source": []
  },
  {
   "cell_type": "code",
   "execution_count": 4,
   "metadata": {},
   "outputs": [],
   "source": [
    "# init path\n",
    "os.makedirs(os.path.dirname('shared/'), exist_ok=True)\n",
    "os.makedirs(os.path.dirname('prover/'), exist_ok=True)\n",
    "verifier_model_path = os.path.join('shared/verifier.onnx')\n",
    "prover_model_path = os.path.join('prover/prover.onnx')\n",
    "verifier_compiled_model_path = os.path.join('shared/verifier.compiled')\n",
    "prover_compiled_model_path = os.path.join('prover/prover.compiled')\n",
    "pk_path = os.path.join('shared/test.pk')\n",
    "vk_path = os.path.join('shared/test.vk')\n",
    "proof_path = os.path.join('shared/test.pf')\n",
    "settings_path = os.path.join('shared/settings.json')\n",
    "srs_path = os.path.join('shared/kzg.srs')\n",
    "witness_path = os.path.join('prover/witness.json')\n",
    "# this is private to prover since it contains actual data\n",
    "sel_data_path = os.path.join('prover/sel_data.json')\n",
    "# this is just dummy random value\n",
    "sel_dummy_data_path = os.path.join('shared/sel_dummy_data.json')"
   ]
  },
  {
   "attachments": {},
   "cell_type": "markdown",
   "metadata": {},
   "source": [
    "=======================  ZK-STATS FLOW ======================="
   ]
  },
  {
   "attachments": {},
   "cell_type": "markdown",
   "metadata": {},
   "source": [
    "Here is a weird example where different col1 and col2 of data.json have different row number. We just want to show that different dimension is possible. In fact, a person can just request median(col_1), and median(col_2). Then just compute mean on his own as well, but here we show that the code is composable enough to do all at once. "
   ]
  },
  {
   "cell_type": "code",
   "execution_count": 5,
   "metadata": {},
   "outputs": [],
   "source": [
    "\n",
    "data_path = os.path.join('data.json')\n",
    "dummy_data_path = os.path.join('shared/dummy_data.json')\n",
    "create_dummy(data_path, dummy_data_path)\n"
   ]
  },
  {
   "cell_type": "code",
   "execution_count": 6,
   "metadata": {},
   "outputs": [],
   "source": [
    "scales = [8]\n",
    "selected_columns = ['col_1', 'col_2']\n",
    "commitment_maps = get_data_commitment_maps(data_path, scales)"
   ]
  },
  {
   "cell_type": "code",
   "execution_count": 7,
   "metadata": {},
   "outputs": [
    {
     "name": "stderr",
     "output_type": "stream",
     "text": [
      "/var/folders/89/y9dw12v976ngdmqz4l7wbsnr0000gn/T/ipykernel_43756/589984064.py:9: TracerWarning: torch.tensor results are registered as constants in the trace. You can safely ignore this warning if you use this function to create tensors out of constant variables that would be the same every time you call this function. In any other case, this might cause the trace to be incorrect.\n",
      "  return s.mean(torch.tensor([out_0, out_1]).reshape(1,-1,1))\n",
      "/var/folders/89/y9dw12v976ngdmqz4l7wbsnr0000gn/T/ipykernel_43756/589984064.py:9: TracerWarning: Converting a tensor to a Python float might cause the trace to be incorrect. We can't record the data flow of Python values, so this value will be treated as a constant in the future. This means that the trace might not generalize to other inputs!\n",
      "  return s.mean(torch.tensor([out_0, out_1]).reshape(1,-1,1))\n",
      "/Users/jernkun/Desktop/zk-stats-lib/zkstats/computation.py:166: TracerWarning: torch.tensor results are registered as constants in the trace. You can safely ignore this warning if you use this function to create tensors out of constant variables that would be the same every time you call this function. In any other case, this might cause the trace to be incorrect.\n",
      "  is_precise_aggregated = torch.tensor(1.0)\n",
      "/Users/jernkun/Library/Caches/pypoetry/virtualenvs/zkstats-OJpceffF-py3.11/lib/python3.11/site-packages/torch/onnx/symbolic_opset9.py:2174: FutureWarning: 'torch.onnx.symbolic_opset9._cast_Bool' is deprecated in version 2.0 and will be removed in the future. Please Avoid using this function and create a Cast node instead.\n",
      "  return fn(g, to_cast_func(g, input, False), to_cast_func(g, other, False))\n"
     ]
    }
   ],
   "source": [
    "# Verifier/ data consumer side: send desired calculation\n",
    "from zkstats.computation import computation_to_model, State\n",
    "\n",
    "\n",
    "def computation(s: State, data: list[torch.Tensor]) -> torch.Tensor:\n",
    "    x1, x2 = data[0], data[1]\n",
    "    out_0 = s.median(x1)\n",
    "    out_1 = s.median(x2)\n",
    "    return s.mean(torch.tensor([out_0, out_1]).reshape(1,-1,1))\n",
    "\n",
    "error = 0.0001\n",
    "_, verifier_model = computation_to_model(computation, error)\n",
    "\n",
    "verifier_define_calculation(dummy_data_path, selected_columns, sel_dummy_data_path, verifier_model, verifier_model_path)"
   ]
  },
  {
   "cell_type": "code",
   "execution_count": 8,
   "metadata": {},
   "outputs": [
    {
     "name": "stderr",
     "output_type": "stream",
     "text": [
      "/var/folders/89/y9dw12v976ngdmqz4l7wbsnr0000gn/T/ipykernel_43756/589984064.py:9: TracerWarning: torch.tensor results are registered as constants in the trace. You can safely ignore this warning if you use this function to create tensors out of constant variables that would be the same every time you call this function. In any other case, this might cause the trace to be incorrect.\n",
      "  return s.mean(torch.tensor([out_0, out_1]).reshape(1,-1,1))\n",
      "/var/folders/89/y9dw12v976ngdmqz4l7wbsnr0000gn/T/ipykernel_43756/589984064.py:9: TracerWarning: Converting a tensor to a Python float might cause the trace to be incorrect. We can't record the data flow of Python values, so this value will be treated as a constant in the future. This means that the trace might not generalize to other inputs!\n",
      "  return s.mean(torch.tensor([out_0, out_1]).reshape(1,-1,1))\n"
     ]
    },
    {
     "name": "stdout",
     "output_type": "stream",
     "text": [
      "==== Generate & Calibrate Setting ====\n"
     ]
    },
    {
     "name": "stderr",
     "output_type": "stream",
     "text": [
      "\n",
      "\n",
      " <------------- Numerical Fidelity Report (input_scale: 8, param_scale: 8, scale_input_multiplier: 10) ------------->\n",
      "\n",
      "+----------------+---------------+-----------+---------------+----------------+------------------+---------------+---------------+--------------------+--------------------+------------------------+\n",
      "| mean_error     | median_error  | max_error | min_error     | mean_abs_error | median_abs_error | max_abs_error | min_abs_error | mean_squared_error | mean_percent_error | mean_abs_percent_error |\n",
      "+----------------+---------------+-----------+---------------+----------------+------------------+---------------+---------------+--------------------+--------------------+------------------------+\n",
      "| -0.00078201294 | -0.0015640259 | 0         | -0.0015640259 | 0.00078201294  | 0.0015640259     | 0.0015640259  | 0             | 0.0000012230885    | -0.00001584626     | 0.00001584626          |\n",
      "+----------------+---------------+-----------+---------------+----------------+------------------+---------------+---------------+--------------------+--------------------+------------------------+\n",
      "\n",
      "\n"
     ]
    },
    {
     "name": "stdout",
     "output_type": "stream",
     "text": [
      "scale:  [8]\n",
      "setting:  {\"run_args\":{\"tolerance\":{\"val\":0.0,\"scale\":1.0},\"input_scale\":8,\"param_scale\":8,\"scale_rebase_multiplier\":10,\"lookup_range\":[-25268,25754],\"logrows\":16,\"num_inner_cols\":2,\"variables\":[[\"batch_size\",1]],\"input_visibility\":{\"Hashed\":{\"hash_is_public\":true,\"outlets\":[]}},\"output_visibility\":\"Public\",\"param_visibility\":\"Private\",\"div_rebasing\":false,\"rebase_frac_zero_constants\":false,\"check_mode\":\"UNSAFE\"},\"num_rows\":20992,\"total_assignments\":12490,\"total_const_size\":1222,\"model_instance_shapes\":[[1],[1]],\"model_output_scales\":[0,8],\"model_input_scales\":[8,8],\"module_sizes\":{\"kzg\":[],\"poseidon\":[20992,[2]]},\"required_lookups\":[{\"GreaterThan\":{\"a\":0.0}}],\"required_range_checks\":[],\"check_mode\":\"UNSAFE\",\"version\":\"9.1.0\",\"num_blinding_factors\":null,\"timestamp\":1709450741807}\n"
     ]
    }
   ],
   "source": [
    "# prover calculates settings, send to verifier\n",
    "_, prover_model = computation_to_model(computation, error)\n",
    "\n",
    "prover_gen_settings(data_path,selected_columns, sel_data_path, prover_model, prover_model_path, scales, \"resources\", settings_path)"
   ]
  },
  {
   "cell_type": "code",
   "execution_count": 9,
   "metadata": {},
   "outputs": [
    {
     "name": "stdout",
     "output_type": "stream",
     "text": [
      "==== setting up ezkl ====\n",
      "Time setup: 5.530666828155518 seconds\n",
      "=======================================\n",
      "==== Generating Witness ====\n",
      "witness boolean:  1.0\n",
      "witness result 1 : 49.3515625\n",
      "==== Generating Proof ====\n",
      "proof:  {'instances': [['c2b6968dfce66ece687a00d15dea969a5dab54b503c9ac9d0ad01308cedbb32e', 'dfb9f22d8e9142be6a825acd931b1e936e0f99940f77141cdc735127c1c44016', '0100000000000000000000000000000000000000000000000000000000000000', '5a31000000000000000000000000000000000000000000000000000000000000']], 'proof': '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', 'transcript_type': 'EVM'}\n",
      "Time gen prf: 5.668032169342041 seconds\n"
     ]
    }
   ],
   "source": [
    "# Here verifier & prover can concurrently call setup since all params are public to get pk.\n",
    "# Here write as verifier function to emphasize that verifier must calculate its own vk to be sure\n",
    "setup(verifier_model_path, verifier_compiled_model_path, settings_path,vk_path, pk_path )\n",
    "\n",
    "print(\"=======================================\")\n",
    "# Prover generates proof\n",
    "prover_gen_proof(prover_model_path, sel_data_path, witness_path, prover_compiled_model_path, settings_path, proof_path, pk_path)"
   ]
  },
  {
   "cell_type": "code",
   "execution_count": 10,
   "metadata": {},
   "outputs": [
    {
     "name": "stdout",
     "output_type": "stream",
     "text": [
      "Verifier gets result: [49.3515625]\n"
     ]
    }
   ],
   "source": [
    "# Verifier verifies\n",
    "res = verifier_verify(proof_path, settings_path, vk_path, selected_columns, commitment_maps)\n",
    "print(\"Verifier gets result:\", res)"
   ]
  },
  {
   "cell_type": "code",
   "execution_count": null,
   "metadata": {},
   "outputs": [],
   "source": []
  }
 ],
 "metadata": {
  "kernelspec": {
   "display_name": "Python 3",
   "language": "python",
   "name": "python3"
  },
  "language_info": {
   "codemirror_mode": {
    "name": "ipython",
    "version": 3
   },
   "file_extension": ".py",
   "mimetype": "text/x-python",
   "name": "python",
   "nbconvert_exporter": "python",
   "pygments_lexer": "ipython3",
   "version": "3.11.4"
  },
  "orig_nbformat": 4
 },
 "nbformat": 4,
 "nbformat_minor": 2
}
