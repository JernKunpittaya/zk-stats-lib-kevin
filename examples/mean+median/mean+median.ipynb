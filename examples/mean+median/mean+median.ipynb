{
 "cells": [
  {
   "cell_type": "code",
   "execution_count": 1,
   "metadata": {},
   "outputs": [
    {
     "name": "stdout",
     "output_type": "stream",
     "text": [
      "Requirement already satisfied: ezkl==7.0.0 in /Users/jernkun/Library/Caches/pypoetry/virtualenvs/zkstats-OJpceffF-py3.11/lib/python3.11/site-packages (from -r ../../requirements.txt (line 1)) (7.0.0)\n",
      "Requirement already satisfied: torch in /Users/jernkun/Library/Caches/pypoetry/virtualenvs/zkstats-OJpceffF-py3.11/lib/python3.11/site-packages (from -r ../../requirements.txt (line 2)) (2.2.0)\n",
      "Requirement already satisfied: requests in /Users/jernkun/Library/Caches/pypoetry/virtualenvs/zkstats-OJpceffF-py3.11/lib/python3.11/site-packages (from -r ../../requirements.txt (line 3)) (2.31.0)\n",
      "Requirement already satisfied: scipy in /Users/jernkun/Library/Caches/pypoetry/virtualenvs/zkstats-OJpceffF-py3.11/lib/python3.11/site-packages (from -r ../../requirements.txt (line 4)) (1.12.0)\n",
      "Requirement already satisfied: numpy in /Users/jernkun/Library/Caches/pypoetry/virtualenvs/zkstats-OJpceffF-py3.11/lib/python3.11/site-packages (from -r ../../requirements.txt (line 5)) (1.26.3)\n",
      "Requirement already satisfied: matplotlib in /Users/jernkun/Library/Caches/pypoetry/virtualenvs/zkstats-OJpceffF-py3.11/lib/python3.11/site-packages (from -r ../../requirements.txt (line 6)) (3.8.2)\n",
      "Requirement already satisfied: statistics in /Users/jernkun/Library/Caches/pypoetry/virtualenvs/zkstats-OJpceffF-py3.11/lib/python3.11/site-packages (from -r ../../requirements.txt (line 7)) (1.0.3.5)\n",
      "Requirement already satisfied: onnx in /Users/jernkun/Library/Caches/pypoetry/virtualenvs/zkstats-OJpceffF-py3.11/lib/python3.11/site-packages (from -r ../../requirements.txt (line 8)) (1.15.0)\n",
      "Requirement already satisfied: filelock in /Users/jernkun/Library/Caches/pypoetry/virtualenvs/zkstats-OJpceffF-py3.11/lib/python3.11/site-packages (from torch->-r ../../requirements.txt (line 2)) (3.13.1)\n",
      "Requirement already satisfied: typing-extensions>=4.8.0 in /Users/jernkun/Library/Caches/pypoetry/virtualenvs/zkstats-OJpceffF-py3.11/lib/python3.11/site-packages (from torch->-r ../../requirements.txt (line 2)) (4.9.0)\n",
      "Requirement already satisfied: sympy in /Users/jernkun/Library/Caches/pypoetry/virtualenvs/zkstats-OJpceffF-py3.11/lib/python3.11/site-packages (from torch->-r ../../requirements.txt (line 2)) (1.12)\n",
      "Requirement already satisfied: networkx in /Users/jernkun/Library/Caches/pypoetry/virtualenvs/zkstats-OJpceffF-py3.11/lib/python3.11/site-packages (from torch->-r ../../requirements.txt (line 2)) (3.2.1)\n",
      "Requirement already satisfied: jinja2 in /Users/jernkun/Library/Caches/pypoetry/virtualenvs/zkstats-OJpceffF-py3.11/lib/python3.11/site-packages (from torch->-r ../../requirements.txt (line 2)) (3.1.3)\n",
      "Requirement already satisfied: fsspec in /Users/jernkun/Library/Caches/pypoetry/virtualenvs/zkstats-OJpceffF-py3.11/lib/python3.11/site-packages (from torch->-r ../../requirements.txt (line 2)) (2023.12.2)\n",
      "Requirement already satisfied: charset-normalizer<4,>=2 in /Users/jernkun/Library/Caches/pypoetry/virtualenvs/zkstats-OJpceffF-py3.11/lib/python3.11/site-packages (from requests->-r ../../requirements.txt (line 3)) (3.3.2)\n",
      "Requirement already satisfied: idna<4,>=2.5 in /Users/jernkun/Library/Caches/pypoetry/virtualenvs/zkstats-OJpceffF-py3.11/lib/python3.11/site-packages (from requests->-r ../../requirements.txt (line 3)) (3.6)\n",
      "Requirement already satisfied: urllib3<3,>=1.21.1 in /Users/jernkun/Library/Caches/pypoetry/virtualenvs/zkstats-OJpceffF-py3.11/lib/python3.11/site-packages (from requests->-r ../../requirements.txt (line 3)) (2.2.0)\n",
      "Requirement already satisfied: certifi>=2017.4.17 in /Users/jernkun/Library/Caches/pypoetry/virtualenvs/zkstats-OJpceffF-py3.11/lib/python3.11/site-packages (from requests->-r ../../requirements.txt (line 3)) (2024.2.2)\n",
      "Requirement already satisfied: contourpy>=1.0.1 in /Users/jernkun/Library/Caches/pypoetry/virtualenvs/zkstats-OJpceffF-py3.11/lib/python3.11/site-packages (from matplotlib->-r ../../requirements.txt (line 6)) (1.2.0)\n",
      "Requirement already satisfied: cycler>=0.10 in /Users/jernkun/Library/Caches/pypoetry/virtualenvs/zkstats-OJpceffF-py3.11/lib/python3.11/site-packages (from matplotlib->-r ../../requirements.txt (line 6)) (0.12.1)\n",
      "Requirement already satisfied: fonttools>=4.22.0 in /Users/jernkun/Library/Caches/pypoetry/virtualenvs/zkstats-OJpceffF-py3.11/lib/python3.11/site-packages (from matplotlib->-r ../../requirements.txt (line 6)) (4.47.2)\n",
      "Requirement already satisfied: kiwisolver>=1.3.1 in /Users/jernkun/Library/Caches/pypoetry/virtualenvs/zkstats-OJpceffF-py3.11/lib/python3.11/site-packages (from matplotlib->-r ../../requirements.txt (line 6)) (1.4.5)\n",
      "Requirement already satisfied: packaging>=20.0 in /Users/jernkun/Library/Caches/pypoetry/virtualenvs/zkstats-OJpceffF-py3.11/lib/python3.11/site-packages (from matplotlib->-r ../../requirements.txt (line 6)) (23.2)\n",
      "Requirement already satisfied: pillow>=8 in /Users/jernkun/Library/Caches/pypoetry/virtualenvs/zkstats-OJpceffF-py3.11/lib/python3.11/site-packages (from matplotlib->-r ../../requirements.txt (line 6)) (10.2.0)\n",
      "Requirement already satisfied: pyparsing>=2.3.1 in /Users/jernkun/Library/Caches/pypoetry/virtualenvs/zkstats-OJpceffF-py3.11/lib/python3.11/site-packages (from matplotlib->-r ../../requirements.txt (line 6)) (3.1.1)\n",
      "Requirement already satisfied: python-dateutil>=2.7 in /Users/jernkun/Library/Caches/pypoetry/virtualenvs/zkstats-OJpceffF-py3.11/lib/python3.11/site-packages (from matplotlib->-r ../../requirements.txt (line 6)) (2.8.2)\n",
      "Requirement already satisfied: docutils>=0.3 in /Users/jernkun/Library/Caches/pypoetry/virtualenvs/zkstats-OJpceffF-py3.11/lib/python3.11/site-packages (from statistics->-r ../../requirements.txt (line 7)) (0.20.1)\n",
      "Requirement already satisfied: protobuf>=3.20.2 in /Users/jernkun/Library/Caches/pypoetry/virtualenvs/zkstats-OJpceffF-py3.11/lib/python3.11/site-packages (from onnx->-r ../../requirements.txt (line 8)) (4.25.2)\n",
      "Requirement already satisfied: six>=1.5 in /Users/jernkun/Library/Caches/pypoetry/virtualenvs/zkstats-OJpceffF-py3.11/lib/python3.11/site-packages (from python-dateutil>=2.7->matplotlib->-r ../../requirements.txt (line 6)) (1.16.0)\n",
      "Requirement already satisfied: MarkupSafe>=2.0 in /Users/jernkun/Library/Caches/pypoetry/virtualenvs/zkstats-OJpceffF-py3.11/lib/python3.11/site-packages (from jinja2->torch->-r ../../requirements.txt (line 2)) (2.1.4)\n",
      "Requirement already satisfied: mpmath>=0.19 in /Users/jernkun/Library/Caches/pypoetry/virtualenvs/zkstats-OJpceffF-py3.11/lib/python3.11/site-packages (from sympy->torch->-r ../../requirements.txt (line 2)) (1.3.0)\n",
      "\n",
      "\u001b[1m[\u001b[0m\u001b[34;49mnotice\u001b[0m\u001b[1;39;49m]\u001b[0m\u001b[39;49m A new release of pip is available: \u001b[0m\u001b[31;49m23.2.1\u001b[0m\u001b[39;49m -> \u001b[0m\u001b[32;49m24.0\u001b[0m\n",
      "\u001b[1m[\u001b[0m\u001b[34;49mnotice\u001b[0m\u001b[1;39;49m]\u001b[0m\u001b[39;49m To update, run: \u001b[0m\u001b[32;49mpip install --upgrade pip\u001b[0m\n",
      "Note: you may need to restart the kernel to use updated packages.\n"
     ]
    }
   ],
   "source": [
    "pip install -r ../../requirements.txt"
   ]
  },
  {
   "cell_type": "code",
   "execution_count": 2,
   "metadata": {},
   "outputs": [],
   "source": [
    "import ezkl\n",
    "import torch\n",
    "from torch import nn\n",
    "import json\n",
    "import os\n",
    "import time\n",
    "import scipy\n",
    "import numpy as np\n",
    "import matplotlib.pyplot as plt\n",
    "import statistics\n",
    "import math"
   ]
  },
  {
   "cell_type": "code",
   "execution_count": 3,
   "metadata": {},
   "outputs": [],
   "source": [
    "from zkstats.core import create_dummy, verifier_define_calculation, prover_gen_settings, setup, prover_gen_proof, verifier_verify, get_data_commitment_maps"
   ]
  },
  {
   "attachments": {},
   "cell_type": "markdown",
   "metadata": {},
   "source": []
  },
  {
   "cell_type": "code",
   "execution_count": 4,
   "metadata": {},
   "outputs": [],
   "source": [
    "# init path\n",
    "os.makedirs(os.path.dirname('shared/'), exist_ok=True)\n",
    "os.makedirs(os.path.dirname('prover/'), exist_ok=True)\n",
    "verifier_model_path = os.path.join('shared/verifier.onnx')\n",
    "prover_model_path = os.path.join('prover/prover.onnx')\n",
    "verifier_compiled_model_path = os.path.join('shared/verifier.compiled')\n",
    "prover_compiled_model_path = os.path.join('prover/prover.compiled')\n",
    "pk_path = os.path.join('shared/test.pk')\n",
    "vk_path = os.path.join('shared/test.vk')\n",
    "proof_path = os.path.join('shared/test.pf')\n",
    "settings_path = os.path.join('shared/settings.json')\n",
    "srs_path = os.path.join('shared/kzg.srs')\n",
    "witness_path = os.path.join('prover/witness.json')\n",
    "# this is private to prover since it contains actual data\n",
    "sel_data_path = os.path.join('prover/sel_data.json')\n",
    "# this is just dummy random value\n",
    "sel_dummy_data_path = os.path.join('shared/sel_dummy_data.json')"
   ]
  },
  {
   "attachments": {},
   "cell_type": "markdown",
   "metadata": {},
   "source": [
    "=======================  ZK-STATS FLOW ======================="
   ]
  },
  {
   "attachments": {},
   "cell_type": "markdown",
   "metadata": {},
   "source": [
    "Here is a weird example where different col1 and col2 of data.json have different row number. We just want to show that different dimension is possible. In fact, a person can just request median(col_1), and median(col_2). Then just compute mean on his own as well, but here we show that the code is composable enough to do all at once. "
   ]
  },
  {
   "cell_type": "code",
   "execution_count": 5,
   "metadata": {},
   "outputs": [],
   "source": [
    "\n",
    "data_path = os.path.join('data.json')\n",
    "dummy_data_path = os.path.join('shared/dummy_data.json')\n",
    "create_dummy(data_path, dummy_data_path)\n"
   ]
  },
  {
   "cell_type": "code",
   "execution_count": 6,
   "metadata": {},
   "outputs": [],
   "source": [
    "scales = [8]\n",
    "selected_columns = ['col_1', 'col_2']\n",
    "commitment_maps = get_data_commitment_maps(data_path, scales)"
   ]
  },
  {
   "cell_type": "code",
   "execution_count": 7,
   "metadata": {},
   "outputs": [
    {
     "name": "stderr",
     "output_type": "stream",
     "text": [
      "/var/folders/89/y9dw12v976ngdmqz4l7wbsnr0000gn/T/ipykernel_36701/589984064.py:9: TracerWarning: torch.tensor results are registered as constants in the trace. You can safely ignore this warning if you use this function to create tensors out of constant variables that would be the same every time you call this function. In any other case, this might cause the trace to be incorrect.\n",
      "  return s.mean(torch.tensor([out_0, out_1]).reshape(1,-1,1))\n",
      "/var/folders/89/y9dw12v976ngdmqz4l7wbsnr0000gn/T/ipykernel_36701/589984064.py:9: TracerWarning: Converting a tensor to a Python float might cause the trace to be incorrect. We can't record the data flow of Python values, so this value will be treated as a constant in the future. This means that the trace might not generalize to other inputs!\n",
      "  return s.mean(torch.tensor([out_0, out_1]).reshape(1,-1,1))\n",
      "/Users/jernkun/Desktop/zk-stats-lib/zkstats/computation.py:166: TracerWarning: torch.tensor results are registered as constants in the trace. You can safely ignore this warning if you use this function to create tensors out of constant variables that would be the same every time you call this function. In any other case, this might cause the trace to be incorrect.\n",
      "  is_precise_aggregated = torch.tensor(1.0)\n",
      "/Users/jernkun/Library/Caches/pypoetry/virtualenvs/zkstats-OJpceffF-py3.11/lib/python3.11/site-packages/torch/onnx/symbolic_opset9.py:2174: FutureWarning: 'torch.onnx.symbolic_opset9._cast_Bool' is deprecated in version 2.0 and will be removed in the future. Please Avoid using this function and create a Cast node instead.\n",
      "  return fn(g, to_cast_func(g, input, False), to_cast_func(g, other, False))\n"
     ]
    }
   ],
   "source": [
    "# Verifier/ data consumer side: send desired calculation\n",
    "from zkstats.computation import computation_to_model, State\n",
    "\n",
    "\n",
    "def computation(s: State, data: list[torch.Tensor]) -> torch.Tensor:\n",
    "    x1, x2 = data[0], data[1]\n",
    "    out_0 = s.median(x1)\n",
    "    out_1 = s.median(x2)\n",
    "    return s.mean(torch.tensor([out_0, out_1]).reshape(1,-1,1))\n",
    "\n",
    "error = 0.0001\n",
    "_, verifier_model = computation_to_model(computation, error)\n",
    "\n",
    "verifier_define_calculation(dummy_data_path, selected_columns, sel_dummy_data_path, verifier_model, verifier_model_path)"
   ]
  },
  {
   "cell_type": "code",
   "execution_count": 8,
   "metadata": {},
   "outputs": [
    {
     "name": "stderr",
     "output_type": "stream",
     "text": [
      "/var/folders/89/y9dw12v976ngdmqz4l7wbsnr0000gn/T/ipykernel_36701/589984064.py:9: TracerWarning: torch.tensor results are registered as constants in the trace. You can safely ignore this warning if you use this function to create tensors out of constant variables that would be the same every time you call this function. In any other case, this might cause the trace to be incorrect.\n",
      "  return s.mean(torch.tensor([out_0, out_1]).reshape(1,-1,1))\n",
      "/var/folders/89/y9dw12v976ngdmqz4l7wbsnr0000gn/T/ipykernel_36701/589984064.py:9: TracerWarning: Converting a tensor to a Python float might cause the trace to be incorrect. We can't record the data flow of Python values, so this value will be treated as a constant in the future. This means that the trace might not generalize to other inputs!\n",
      "  return s.mean(torch.tensor([out_0, out_1]).reshape(1,-1,1))\n"
     ]
    },
    {
     "name": "stdout",
     "output_type": "stream",
     "text": [
      "==== Generate & Calibrate Setting ====\n",
      "scale:  [8]\n",
      "setting:  {\"run_args\":{\"tolerance\":{\"val\":0.0,\"scale\":1.0},\"input_scale\":8,\"param_scale\":8,\"scale_rebase_multiplier\":10,\"lookup_range\":[-25754,25754],\"logrows\":16,\"num_inner_cols\":2,\"variables\":[[\"batch_size\",1]],\"input_visibility\":{\"Hashed\":{\"hash_is_public\":true,\"outlets\":[]}},\"output_visibility\":\"Public\",\"param_visibility\":\"Private\"},\"num_rows\":20992,\"total_assignments\":10073,\"total_const_size\":14,\"model_instance_shapes\":[[1],[1]],\"model_output_scales\":[0,8],\"model_input_scales\":[8,8],\"module_sizes\":{\"kzg\":[],\"poseidon\":[20992,[2]],\"elgamal\":[0,[0]]},\"required_lookups\":[{\"GreaterThan\":{\"a\":0.0}},\"KroneckerDelta\"],\"check_mode\":\"UNSAFE\",\"version\":\"7.0.0\",\"num_blinding_factors\":null}\n"
     ]
    }
   ],
   "source": [
    "# prover calculates settings, send to verifier\n",
    "_, prover_model = computation_to_model(computation, error)\n",
    "\n",
    "prover_gen_settings(data_path,selected_columns, sel_data_path, prover_model, prover_model_path, scales, \"resources\", settings_path)"
   ]
  },
  {
   "cell_type": "code",
   "execution_count": 9,
   "metadata": {},
   "outputs": [
    {
     "name": "stderr",
     "output_type": "stream",
     "text": [
      "spawning module 0\n",
      "spawning module 2\n"
     ]
    },
    {
     "name": "stdout",
     "output_type": "stream",
     "text": [
      "==== setting up ezkl ====\n"
     ]
    },
    {
     "name": "stderr",
     "output_type": "stream",
     "text": [
      "spawning module 0\n",
      "spawning module 2\n"
     ]
    },
    {
     "name": "stdout",
     "output_type": "stream",
     "text": [
      "Time setup: 6.3793909549713135 seconds\n",
      "=======================================\n",
      "==== Generating Witness ====\n",
      "witness boolean:  1.0\n",
      "witness result 1 : 49.3515625\n",
      "==== Generating Proof ====\n"
     ]
    },
    {
     "name": "stderr",
     "output_type": "stream",
     "text": [
      "spawning module 0\n",
      "spawning module 2\n"
     ]
    },
    {
     "name": "stdout",
     "output_type": "stream",
     "text": [
      "proof:  {'instances': [[[3042937791208075219, 8157070662846698822, 3804781648660056856, 172406108020799675], [15295097400487804665, 12861486368330479023, 3350118022201779210, 343142782800691716], [12436184717236109307, 3962172157175319849, 7381016538464732718, 1011752739694698287], [10870267098303494893, 1752989342377741058, 8860763459400202009, 2635465469930673149]]], 'proof': '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', 'transcript_type': 'EVM'}\n",
      "Time gen prf: 8.371242046356201 seconds\n"
     ]
    }
   ],
   "source": [
    "# Here verifier & prover can concurrently call setup since all params are public to get pk.\n",
    "# Here write as verifier function to emphasize that verifier must calculate its own vk to be sure\n",
    "setup(verifier_model_path, verifier_compiled_model_path, settings_path,vk_path, pk_path )\n",
    "\n",
    "print(\"=======================================\")\n",
    "# Prover generates proof\n",
    "prover_gen_proof(prover_model_path, sel_data_path, witness_path, prover_compiled_model_path, settings_path, proof_path, pk_path)"
   ]
  },
  {
   "cell_type": "code",
   "execution_count": 10,
   "metadata": {},
   "outputs": [
    {
     "name": "stdout",
     "output_type": "stream",
     "text": [
      "Verifier gets result: 49.3515625\n"
     ]
    }
   ],
   "source": [
    "# Verifier verifies\n",
    "res = verifier_verify(proof_path, settings_path, vk_path, selected_columns, commitment_maps)\n",
    "print(\"Verifier gets result:\", res)"
   ]
  },
  {
   "cell_type": "code",
   "execution_count": null,
   "metadata": {},
   "outputs": [],
   "source": []
  }
 ],
 "metadata": {
  "kernelspec": {
   "display_name": "Python 3",
   "language": "python",
   "name": "python3"
  },
  "language_info": {
   "codemirror_mode": {
    "name": "ipython",
    "version": 3
   },
   "file_extension": ".py",
   "mimetype": "text/x-python",
   "name": "python",
   "nbconvert_exporter": "python",
   "pygments_lexer": "ipython3",
   "version": "3.11.4"
  },
  "orig_nbformat": 4
 },
 "nbformat": 4,
 "nbformat_minor": 2
}
