{
 "cells": [
  {
   "cell_type": "code",
   "execution_count": 1,
   "metadata": {},
   "outputs": [
    {
     "name": "stdout",
     "output_type": "stream",
     "text": [
      "Requirement already satisfied: ezkl==7.0.0 in /Users/mhchia/Library/Caches/pypoetry/virtualenvs/zkstats-brXmXluj-py3.12/lib/python3.12/site-packages (from -r ../../requirements.txt (line 1)) (7.0.0)\n",
      "Requirement already satisfied: torch in /Users/mhchia/Library/Caches/pypoetry/virtualenvs/zkstats-brXmXluj-py3.12/lib/python3.12/site-packages (from -r ../../requirements.txt (line 2)) (2.2.0)\n",
      "Requirement already satisfied: requests in /Users/mhchia/Library/Caches/pypoetry/virtualenvs/zkstats-brXmXluj-py3.12/lib/python3.12/site-packages (from -r ../../requirements.txt (line 3)) (2.31.0)\n",
      "Requirement already satisfied: scipy in /Users/mhchia/Library/Caches/pypoetry/virtualenvs/zkstats-brXmXluj-py3.12/lib/python3.12/site-packages (from -r ../../requirements.txt (line 4)) (1.12.0)\n",
      "Requirement already satisfied: numpy in /Users/mhchia/Library/Caches/pypoetry/virtualenvs/zkstats-brXmXluj-py3.12/lib/python3.12/site-packages (from -r ../../requirements.txt (line 5)) (1.26.3)\n",
      "Requirement already satisfied: matplotlib in /Users/mhchia/Library/Caches/pypoetry/virtualenvs/zkstats-brXmXluj-py3.12/lib/python3.12/site-packages (from -r ../../requirements.txt (line 6)) (3.8.2)\n",
      "Requirement already satisfied: statistics in /Users/mhchia/Library/Caches/pypoetry/virtualenvs/zkstats-brXmXluj-py3.12/lib/python3.12/site-packages (from -r ../../requirements.txt (line 7)) (1.0.3.5)\n",
      "Requirement already satisfied: onnx in /Users/mhchia/Library/Caches/pypoetry/virtualenvs/zkstats-brXmXluj-py3.12/lib/python3.12/site-packages (from -r ../../requirements.txt (line 8)) (1.15.0)\n",
      "Requirement already satisfied: filelock in /Users/mhchia/Library/Caches/pypoetry/virtualenvs/zkstats-brXmXluj-py3.12/lib/python3.12/site-packages (from torch->-r ../../requirements.txt (line 2)) (3.13.1)\n",
      "Requirement already satisfied: typing-extensions>=4.8.0 in /Users/mhchia/Library/Caches/pypoetry/virtualenvs/zkstats-brXmXluj-py3.12/lib/python3.12/site-packages (from torch->-r ../../requirements.txt (line 2)) (4.9.0)\n",
      "Requirement already satisfied: sympy in /Users/mhchia/Library/Caches/pypoetry/virtualenvs/zkstats-brXmXluj-py3.12/lib/python3.12/site-packages (from torch->-r ../../requirements.txt (line 2)) (1.12)\n",
      "Requirement already satisfied: networkx in /Users/mhchia/Library/Caches/pypoetry/virtualenvs/zkstats-brXmXluj-py3.12/lib/python3.12/site-packages (from torch->-r ../../requirements.txt (line 2)) (3.2.1)\n",
      "Requirement already satisfied: jinja2 in /Users/mhchia/Library/Caches/pypoetry/virtualenvs/zkstats-brXmXluj-py3.12/lib/python3.12/site-packages (from torch->-r ../../requirements.txt (line 2)) (3.1.3)\n",
      "Requirement already satisfied: fsspec in /Users/mhchia/Library/Caches/pypoetry/virtualenvs/zkstats-brXmXluj-py3.12/lib/python3.12/site-packages (from torch->-r ../../requirements.txt (line 2)) (2023.12.2)\n",
      "Requirement already satisfied: charset-normalizer<4,>=2 in /Users/mhchia/Library/Caches/pypoetry/virtualenvs/zkstats-brXmXluj-py3.12/lib/python3.12/site-packages (from requests->-r ../../requirements.txt (line 3)) (3.3.2)\n",
      "Requirement already satisfied: idna<4,>=2.5 in /Users/mhchia/Library/Caches/pypoetry/virtualenvs/zkstats-brXmXluj-py3.12/lib/python3.12/site-packages (from requests->-r ../../requirements.txt (line 3)) (3.6)\n",
      "Requirement already satisfied: urllib3<3,>=1.21.1 in /Users/mhchia/Library/Caches/pypoetry/virtualenvs/zkstats-brXmXluj-py3.12/lib/python3.12/site-packages (from requests->-r ../../requirements.txt (line 3)) (2.2.0)\n",
      "Requirement already satisfied: certifi>=2017.4.17 in /Users/mhchia/Library/Caches/pypoetry/virtualenvs/zkstats-brXmXluj-py3.12/lib/python3.12/site-packages (from requests->-r ../../requirements.txt (line 3)) (2024.2.2)\n",
      "Requirement already satisfied: contourpy>=1.0.1 in /Users/mhchia/Library/Caches/pypoetry/virtualenvs/zkstats-brXmXluj-py3.12/lib/python3.12/site-packages (from matplotlib->-r ../../requirements.txt (line 6)) (1.2.0)\n",
      "Requirement already satisfied: cycler>=0.10 in /Users/mhchia/Library/Caches/pypoetry/virtualenvs/zkstats-brXmXluj-py3.12/lib/python3.12/site-packages (from matplotlib->-r ../../requirements.txt (line 6)) (0.12.1)\n",
      "Requirement already satisfied: fonttools>=4.22.0 in /Users/mhchia/Library/Caches/pypoetry/virtualenvs/zkstats-brXmXluj-py3.12/lib/python3.12/site-packages (from matplotlib->-r ../../requirements.txt (line 6)) (4.47.2)\n",
      "Requirement already satisfied: kiwisolver>=1.3.1 in /Users/mhchia/Library/Caches/pypoetry/virtualenvs/zkstats-brXmXluj-py3.12/lib/python3.12/site-packages (from matplotlib->-r ../../requirements.txt (line 6)) (1.4.5)\n",
      "Requirement already satisfied: packaging>=20.0 in /Users/mhchia/Library/Caches/pypoetry/virtualenvs/zkstats-brXmXluj-py3.12/lib/python3.12/site-packages (from matplotlib->-r ../../requirements.txt (line 6)) (23.2)\n",
      "Requirement already satisfied: pillow>=8 in /Users/mhchia/Library/Caches/pypoetry/virtualenvs/zkstats-brXmXluj-py3.12/lib/python3.12/site-packages (from matplotlib->-r ../../requirements.txt (line 6)) (10.2.0)\n",
      "Requirement already satisfied: pyparsing>=2.3.1 in /Users/mhchia/Library/Caches/pypoetry/virtualenvs/zkstats-brXmXluj-py3.12/lib/python3.12/site-packages (from matplotlib->-r ../../requirements.txt (line 6)) (3.1.1)\n",
      "Requirement already satisfied: python-dateutil>=2.7 in /Users/mhchia/Library/Caches/pypoetry/virtualenvs/zkstats-brXmXluj-py3.12/lib/python3.12/site-packages (from matplotlib->-r ../../requirements.txt (line 6)) (2.8.2)\n",
      "Requirement already satisfied: docutils>=0.3 in /Users/mhchia/Library/Caches/pypoetry/virtualenvs/zkstats-brXmXluj-py3.12/lib/python3.12/site-packages (from statistics->-r ../../requirements.txt (line 7)) (0.20.1)\n",
      "Requirement already satisfied: protobuf>=3.20.2 in /Users/mhchia/Library/Caches/pypoetry/virtualenvs/zkstats-brXmXluj-py3.12/lib/python3.12/site-packages (from onnx->-r ../../requirements.txt (line 8)) (4.25.2)\n",
      "Requirement already satisfied: six>=1.5 in /Users/mhchia/Library/Caches/pypoetry/virtualenvs/zkstats-brXmXluj-py3.12/lib/python3.12/site-packages (from python-dateutil>=2.7->matplotlib->-r ../../requirements.txt (line 6)) (1.16.0)\n",
      "Requirement already satisfied: MarkupSafe>=2.0 in /Users/mhchia/Library/Caches/pypoetry/virtualenvs/zkstats-brXmXluj-py3.12/lib/python3.12/site-packages (from jinja2->torch->-r ../../requirements.txt (line 2)) (2.1.4)\n",
      "Requirement already satisfied: mpmath>=0.19 in /Users/mhchia/Library/Caches/pypoetry/virtualenvs/zkstats-brXmXluj-py3.12/lib/python3.12/site-packages (from sympy->torch->-r ../../requirements.txt (line 2)) (1.3.0)\n",
      "\n",
      "\u001b[1m[\u001b[0m\u001b[34;49mnotice\u001b[0m\u001b[1;39;49m]\u001b[0m\u001b[39;49m A new release of pip is available: \u001b[0m\u001b[31;49m23.3.1\u001b[0m\u001b[39;49m -> \u001b[0m\u001b[32;49m24.0\u001b[0m\n",
      "\u001b[1m[\u001b[0m\u001b[34;49mnotice\u001b[0m\u001b[1;39;49m]\u001b[0m\u001b[39;49m To update, run: \u001b[0m\u001b[32;49mpip install --upgrade pip\u001b[0m\n",
      "Note: you may need to restart the kernel to use updated packages.\n"
     ]
    }
   ],
   "source": [
    "pip install -r ../../requirements.txt"
   ]
  },
  {
   "cell_type": "code",
   "execution_count": 2,
   "metadata": {},
   "outputs": [],
   "source": [
    "import ezkl\n",
    "import torch\n",
    "from torch import nn\n",
    "import json\n",
    "import os\n",
    "import time\n",
    "import scipy\n",
    "import numpy as np\n",
    "import matplotlib.pyplot as plt\n",
    "import statistics\n",
    "import math"
   ]
  },
  {
   "cell_type": "code",
   "execution_count": 3,
   "metadata": {},
   "outputs": [],
   "source": [
    "%run -i ../../zkstats/core.py"
   ]
  },
  {
   "attachments": {},
   "cell_type": "markdown",
   "metadata": {},
   "source": []
  },
  {
   "cell_type": "code",
   "execution_count": 4,
   "metadata": {},
   "outputs": [],
   "source": [
    "# init path\n",
    "os.makedirs(os.path.dirname('shared/'), exist_ok=True)\n",
    "os.makedirs(os.path.dirname('prover/'), exist_ok=True)\n",
    "verifier_model_path = os.path.join('shared/verifier.onnx')\n",
    "prover_model_path = os.path.join('prover/prover.onnx')\n",
    "verifier_compiled_model_path = os.path.join('shared/verifier.compiled')\n",
    "prover_compiled_model_path = os.path.join('prover/prover.compiled')\n",
    "pk_path = os.path.join('shared/test.pk')\n",
    "vk_path = os.path.join('shared/test.vk')\n",
    "proof_path = os.path.join('shared/test.pf')\n",
    "settings_path = os.path.join('shared/settings.json')\n",
    "srs_path = os.path.join('shared/kzg.srs')\n",
    "witness_path = os.path.join('prover/witness.json')\n",
    "# this is private to prover since it contains actual data\n",
    "sel_data_path = os.path.join('prover/sel_data.json')\n",
    "# this is just dummy random value\n",
    "sel_dummy_data_path = os.path.join('shared/sel_dummy_data.json')"
   ]
  },
  {
   "attachments": {},
   "cell_type": "markdown",
   "metadata": {},
   "source": [
    "=======================  ZK-STATS FLOW ======================="
   ]
  },
  {
   "attachments": {},
   "cell_type": "markdown",
   "metadata": {},
   "source": [
    "Here is a weird example where different col1 and col2 of data.json have different row number. We just want to show that different dimension is possible. In fact, a person can just request median(col_1), and median(col_2). Then just compute mean on his own as well, but here we show that the code is composable enough to do all at once. "
   ]
  },
  {
   "cell_type": "code",
   "execution_count": 5,
   "metadata": {},
   "outputs": [],
   "source": [
    "\n",
    "data_path = os.path.join('data.json')\n",
    "dummy_data_path = os.path.join('shared/dummy_data.json')\n",
    "create_dummy(data_path, dummy_data_path)\n"
   ]
  },
  {
   "cell_type": "code",
   "execution_count": 6,
   "metadata": {},
   "outputs": [],
   "source": [
    "scales = [8]\n",
    "selected_columns = ['col_1', 'col_2']\n",
    "commitment_maps = get_data_commitment_maps(data_path, scales)"
   ]
  },
  {
   "cell_type": "code",
   "execution_count": 7,
   "metadata": {},
   "outputs": [
    {
     "name": "stderr",
     "output_type": "stream",
     "text": [
      "/var/folders/t3/5psrvr1x0w1_6n9kx2n7d9700000gn/T/ipykernel_20111/589984064.py:9: TracerWarning: torch.tensor results are registered as constants in the trace. You can safely ignore this warning if you use this function to create tensors out of constant variables that would be the same every time you call this function. In any other case, this might cause the trace to be incorrect.\n",
      "  return s.mean(torch.tensor([out_0, out_1]).reshape(1,-1,1))\n",
      "/var/folders/t3/5psrvr1x0w1_6n9kx2n7d9700000gn/T/ipykernel_20111/589984064.py:9: TracerWarning: Converting a tensor to a Python float might cause the trace to be incorrect. We can't record the data flow of Python values, so this value will be treated as a constant in the future. This means that the trace might not generalize to other inputs!\n",
      "  return s.mean(torch.tensor([out_0, out_1]).reshape(1,-1,1))\n",
      "/Users/mhchia/projects/work/pse/zk-stats-lib/zkstats/computation.py:166: TracerWarning: torch.tensor results are registered as constants in the trace. You can safely ignore this warning if you use this function to create tensors out of constant variables that would be the same every time you call this function. In any other case, this might cause the trace to be incorrect.\n",
      "  is_precise_aggregated = torch.tensor(1.0)\n",
      "/Users/mhchia/Library/Caches/pypoetry/virtualenvs/zkstats-brXmXluj-py3.12/lib/python3.12/site-packages/torch/onnx/symbolic_opset9.py:2174: FutureWarning: 'torch.onnx.symbolic_opset9._cast_Bool' is deprecated in version 2.0 and will be removed in the future. Please Avoid using this function and create a Cast node instead.\n",
      "  return fn(g, to_cast_func(g, input, False), to_cast_func(g, other, False))\n"
     ]
    }
   ],
   "source": [
    "# Verifier/ data consumer side: send desired calculation\n",
    "from zkstats.computation import computation_to_model, State\n",
    "\n",
    "\n",
    "def computation(s: State, data: list[torch.Tensor]) -> torch.Tensor:\n",
    "    x1, x2 = data[0], data[1]\n",
    "    out_0 = s.median(x1)\n",
    "    out_1 = s.median(x2)\n",
    "    return s.mean(torch.tensor([out_0, out_1]).reshape(1,-1,1))\n",
    "\n",
    "error = 0.0001\n",
    "_, verifier_model = computation_to_model(computation, error)\n",
    "\n",
    "verifier_define_calculation(dummy_data_path, selected_columns, sel_dummy_data_path, verifier_model, verifier_model_path)"
   ]
  },
  {
   "cell_type": "code",
   "execution_count": 8,
   "metadata": {},
   "outputs": [
    {
     "name": "stderr",
     "output_type": "stream",
     "text": [
      "/var/folders/t3/5psrvr1x0w1_6n9kx2n7d9700000gn/T/ipykernel_20111/589984064.py:9: TracerWarning: torch.tensor results are registered as constants in the trace. You can safely ignore this warning if you use this function to create tensors out of constant variables that would be the same every time you call this function. In any other case, this might cause the trace to be incorrect.\n",
      "  return s.mean(torch.tensor([out_0, out_1]).reshape(1,-1,1))\n",
      "/var/folders/t3/5psrvr1x0w1_6n9kx2n7d9700000gn/T/ipykernel_20111/589984064.py:9: TracerWarning: Converting a tensor to a Python float might cause the trace to be incorrect. We can't record the data flow of Python values, so this value will be treated as a constant in the future. This means that the trace might not generalize to other inputs!\n",
      "  return s.mean(torch.tensor([out_0, out_1]).reshape(1,-1,1))\n"
     ]
    },
    {
     "name": "stdout",
     "output_type": "stream",
     "text": [
      "==== Generate & Calibrate Setting ====\n",
      "scale:  [8]\n",
      "setting:  {\"run_args\":{\"tolerance\":{\"val\":0.0,\"scale\":1.0},\"input_scale\":8,\"param_scale\":8,\"scale_rebase_multiplier\":10,\"lookup_range\":[-25270,25754],\"logrows\":16,\"num_inner_cols\":2,\"variables\":[[\"batch_size\",1]],\"input_visibility\":{\"Hashed\":{\"hash_is_public\":true,\"outlets\":[]}},\"output_visibility\":\"Public\",\"param_visibility\":\"Private\"},\"num_rows\":20992,\"total_assignments\":16106,\"total_const_size\":2432,\"model_instance_shapes\":[[1],[1]],\"model_output_scales\":[0,8],\"model_input_scales\":[8,8],\"module_sizes\":{\"kzg\":[],\"poseidon\":[20992,[2]],\"elgamal\":[0,[0]]},\"required_lookups\":[\"Abs\",{\"GreaterThan\":{\"a\":0.0}},\"KroneckerDelta\"],\"check_mode\":\"UNSAFE\",\"version\":\"7.0.0\",\"num_blinding_factors\":null}\n"
     ]
    }
   ],
   "source": [
    "# prover calculates settings, send to verifier\n",
    "_, prover_model = computation_to_model(computation, error)\n",
    "\n",
    "prover_gen_settings(data_path,selected_columns, sel_data_path, prover_model, prover_model_path, scales, \"resources\", settings_path)"
   ]
  },
  {
   "cell_type": "code",
   "execution_count": 9,
   "metadata": {},
   "outputs": [
    {
     "name": "stderr",
     "output_type": "stream",
     "text": [
      "spawning module 0\n",
      "spawning module 2\n"
     ]
    },
    {
     "name": "stdout",
     "output_type": "stream",
     "text": [
      "==== setting up ezkl ====\n"
     ]
    },
    {
     "name": "stderr",
     "output_type": "stream",
     "text": [
      "spawning module 0\n",
      "spawning module 2\n"
     ]
    },
    {
     "name": "stdout",
     "output_type": "stream",
     "text": [
      "Time setup: 11.835763931274414 seconds\n",
      "=======================================\n",
      "==== Generating Witness ====\n",
      "witness boolean:  1.0\n",
      "witness result 1 : 49.3515625\n",
      "==== Generating Proof ====\n"
     ]
    },
    {
     "name": "stderr",
     "output_type": "stream",
     "text": [
      "spawning module 0\n",
      "spawning module 2\n"
     ]
    },
    {
     "name": "stdout",
     "output_type": "stream",
     "text": [
      "proof:  {'instances': [[[3042937791208075219, 8157070662846698822, 3804781648660056856, 172406108020799675], [15295097400487804665, 12861486368330479023, 3350118022201779210, 343142782800691716], [12436184717236109307, 3962172157175319849, 7381016538464732718, 1011752739694698287], [10870267098303494893, 1752989342377741058, 8860763459400202009, 2635465469930673149]]], 'proof': '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', 'transcript_type': 'EVM'}\n",
      "Time gen prf: 15.752885103225708 seconds\n"
     ]
    }
   ],
   "source": [
    "# Here verifier & prover can concurrently call setup since all params are public to get pk.\n",
    "# Here write as verifier function to emphasize that verifier must calculate its own vk to be sure\n",
    "setup(verifier_model_path, verifier_compiled_model_path, settings_path,vk_path, pk_path )\n",
    "\n",
    "print(\"=======================================\")\n",
    "# Prover generates proof\n",
    "prover_gen_proof(prover_model_path, sel_data_path, witness_path, prover_compiled_model_path, settings_path, proof_path, pk_path)"
   ]
  },
  {
   "cell_type": "code",
   "execution_count": 10,
   "metadata": {},
   "outputs": [
    {
     "name": "stdout",
     "output_type": "stream",
     "text": [
      "Verifier gets result: 49.3515625\n"
     ]
    }
   ],
   "source": [
    "# Verifier verifies\n",
    "res = verifier_verify(proof_path, settings_path, vk_path, selected_columns, commitment_maps)\n",
    "print(\"Verifier gets result:\", res)"
   ]
  }
 ],
 "metadata": {
  "kernelspec": {
   "display_name": "Python 3",
   "language": "python",
   "name": "python3"
  },
  "language_info": {
   "codemirror_mode": {
    "name": "ipython",
    "version": 3
   },
   "file_extension": ".py",
   "mimetype": "text/x-python",
   "name": "python",
   "nbconvert_exporter": "python",
   "pygments_lexer": "ipython3",
   "version": "3.12.1"
  },
  "orig_nbformat": 4
 },
 "nbformat": 4,
 "nbformat_minor": 2
}
