{
 "cells": [
  {
   "cell_type": "code",
   "execution_count": 1,
   "metadata": {},
   "outputs": [
    {
     "name": "stdout",
     "output_type": "stream",
     "text": [
      "Requirement already satisfied: ezkl==7.0.0 in /Library/Frameworks/Python.framework/Versions/3.10/lib/python3.10/site-packages (from -r ../../requirements.txt (line 1)) (7.0.0)\n",
      "Requirement already satisfied: torch in /Library/Frameworks/Python.framework/Versions/3.10/lib/python3.10/site-packages (from -r ../../requirements.txt (line 2)) (2.1.1)\n",
      "Requirement already satisfied: requests in /Library/Frameworks/Python.framework/Versions/3.10/lib/python3.10/site-packages (from -r ../../requirements.txt (line 3)) (2.31.0)\n",
      "Requirement already satisfied: scipy in /Library/Frameworks/Python.framework/Versions/3.10/lib/python3.10/site-packages (from -r ../../requirements.txt (line 4)) (1.11.4)\n",
      "Requirement already satisfied: numpy in /Library/Frameworks/Python.framework/Versions/3.10/lib/python3.10/site-packages (from -r ../../requirements.txt (line 5)) (1.26.2)\n",
      "Requirement already satisfied: matplotlib in /Library/Frameworks/Python.framework/Versions/3.10/lib/python3.10/site-packages (from -r ../../requirements.txt (line 6)) (3.8.2)\n",
      "Requirement already satisfied: statistics in /Library/Frameworks/Python.framework/Versions/3.10/lib/python3.10/site-packages (from -r ../../requirements.txt (line 7)) (1.0.3.5)\n",
      "Requirement already satisfied: onnx in /Library/Frameworks/Python.framework/Versions/3.10/lib/python3.10/site-packages (from -r ../../requirements.txt (line 8)) (1.15.0)\n",
      "Requirement already satisfied: typing-extensions in /Library/Frameworks/Python.framework/Versions/3.10/lib/python3.10/site-packages (from torch->-r ../../requirements.txt (line 2)) (4.8.0)\n",
      "Requirement already satisfied: networkx in /Library/Frameworks/Python.framework/Versions/3.10/lib/python3.10/site-packages (from torch->-r ../../requirements.txt (line 2)) (3.2.1)\n",
      "Requirement already satisfied: sympy in /Library/Frameworks/Python.framework/Versions/3.10/lib/python3.10/site-packages (from torch->-r ../../requirements.txt (line 2)) (1.12)\n",
      "Requirement already satisfied: fsspec in /Library/Frameworks/Python.framework/Versions/3.10/lib/python3.10/site-packages (from torch->-r ../../requirements.txt (line 2)) (2023.10.0)\n",
      "Requirement already satisfied: jinja2 in /Library/Frameworks/Python.framework/Versions/3.10/lib/python3.10/site-packages (from torch->-r ../../requirements.txt (line 2)) (3.1.2)\n",
      "Requirement already satisfied: filelock in /Library/Frameworks/Python.framework/Versions/3.10/lib/python3.10/site-packages (from torch->-r ../../requirements.txt (line 2)) (3.13.1)\n",
      "Requirement already satisfied: urllib3<3,>=1.21.1 in /Library/Frameworks/Python.framework/Versions/3.10/lib/python3.10/site-packages (from requests->-r ../../requirements.txt (line 3)) (2.1.0)\n",
      "Requirement already satisfied: certifi>=2017.4.17 in /Library/Frameworks/Python.framework/Versions/3.10/lib/python3.10/site-packages (from requests->-r ../../requirements.txt (line 3)) (2023.11.17)\n",
      "Requirement already satisfied: idna<4,>=2.5 in /Library/Frameworks/Python.framework/Versions/3.10/lib/python3.10/site-packages (from requests->-r ../../requirements.txt (line 3)) (3.6)\n",
      "Requirement already satisfied: charset-normalizer<4,>=2 in /Library/Frameworks/Python.framework/Versions/3.10/lib/python3.10/site-packages (from requests->-r ../../requirements.txt (line 3)) (3.3.2)\n",
      "Requirement already satisfied: packaging>=20.0 in /Users/jernkun/Library/Python/3.10/lib/python/site-packages (from matplotlib->-r ../../requirements.txt (line 6)) (23.2)\n",
      "Requirement already satisfied: pyparsing>=2.3.1 in /Library/Frameworks/Python.framework/Versions/3.10/lib/python3.10/site-packages (from matplotlib->-r ../../requirements.txt (line 6)) (3.1.1)\n",
      "Requirement already satisfied: contourpy>=1.0.1 in /Library/Frameworks/Python.framework/Versions/3.10/lib/python3.10/site-packages (from matplotlib->-r ../../requirements.txt (line 6)) (1.2.0)\n",
      "Requirement already satisfied: pillow>=8 in /Library/Frameworks/Python.framework/Versions/3.10/lib/python3.10/site-packages (from matplotlib->-r ../../requirements.txt (line 6)) (10.1.0)\n",
      "Requirement already satisfied: cycler>=0.10 in /Library/Frameworks/Python.framework/Versions/3.10/lib/python3.10/site-packages (from matplotlib->-r ../../requirements.txt (line 6)) (0.12.1)\n",
      "Requirement already satisfied: fonttools>=4.22.0 in /Library/Frameworks/Python.framework/Versions/3.10/lib/python3.10/site-packages (from matplotlib->-r ../../requirements.txt (line 6)) (4.45.1)\n",
      "Requirement already satisfied: kiwisolver>=1.3.1 in /Library/Frameworks/Python.framework/Versions/3.10/lib/python3.10/site-packages (from matplotlib->-r ../../requirements.txt (line 6)) (1.4.5)\n",
      "Requirement already satisfied: python-dateutil>=2.7 in /Users/jernkun/Library/Python/3.10/lib/python/site-packages (from matplotlib->-r ../../requirements.txt (line 6)) (2.8.2)\n",
      "Requirement already satisfied: docutils>=0.3 in /Library/Frameworks/Python.framework/Versions/3.10/lib/python3.10/site-packages (from statistics->-r ../../requirements.txt (line 7)) (0.20.1)\n",
      "Requirement already satisfied: protobuf>=3.20.2 in /Library/Frameworks/Python.framework/Versions/3.10/lib/python3.10/site-packages (from onnx->-r ../../requirements.txt (line 8)) (4.25.1)\n",
      "Requirement already satisfied: six>=1.5 in /Users/jernkun/Library/Python/3.10/lib/python/site-packages (from python-dateutil>=2.7->matplotlib->-r ../../requirements.txt (line 6)) (1.16.0)\n",
      "Requirement already satisfied: MarkupSafe>=2.0 in /Library/Frameworks/Python.framework/Versions/3.10/lib/python3.10/site-packages (from jinja2->torch->-r ../../requirements.txt (line 2)) (2.1.3)\n",
      "Requirement already satisfied: mpmath>=0.19 in /Library/Frameworks/Python.framework/Versions/3.10/lib/python3.10/site-packages (from sympy->torch->-r ../../requirements.txt (line 2)) (1.3.0)\n",
      "\u001b[33mWARNING: You are using pip version 21.2.3; however, version 23.3.2 is available.\n",
      "You should consider upgrading via the '/usr/local/bin/python3 -m pip install --upgrade pip' command.\u001b[0m\n",
      "Note: you may need to restart the kernel to use updated packages.\n"
     ]
    }
   ],
   "source": [
    "pip install -r ../../requirements.txt"
   ]
  },
  {
   "cell_type": "code",
   "execution_count": 2,
   "metadata": {},
   "outputs": [],
   "source": [
    "import ezkl\n",
    "import torch\n",
    "from torch import nn\n",
    "import json\n",
    "import os\n",
    "import time\n",
    "import scipy\n",
    "import numpy as np\n",
    "import matplotlib.pyplot as plt\n",
    "import statistics\n",
    "import math"
   ]
  },
  {
   "cell_type": "code",
   "execution_count": 3,
   "metadata": {},
   "outputs": [],
   "source": [
    "%run -i ../../zkstats/core.py"
   ]
  },
  {
   "cell_type": "code",
   "execution_count": 4,
   "metadata": {},
   "outputs": [],
   "source": [
    "# init path\n",
    "os.makedirs(os.path.dirname('shared/'), exist_ok=True)\n",
    "os.makedirs(os.path.dirname('prover/'), exist_ok=True)\n",
    "verifier_model_path = os.path.join('shared/verifier.onnx')\n",
    "prover_model_path = os.path.join('prover/prover.onnx')\n",
    "verifier_compiled_model_path = os.path.join('shared/verifier.compiled')\n",
    "prover_compiled_model_path = os.path.join('prover/prover.compiled')\n",
    "pk_path = os.path.join('shared/test.pk')\n",
    "vk_path = os.path.join('shared/test.vk')\n",
    "proof_path = os.path.join('shared/test.pf')\n",
    "settings_path = os.path.join('shared/settings.json')\n",
    "srs_path = os.path.join('shared/kzg.srs')\n",
    "witness_path = os.path.join('prover/witness.json')\n",
    "# this is private to prover since it contains actual data\n",
    "comb_data_path = os.path.join('prover/comb_data.json')"
   ]
  },
  {
   "attachments": {},
   "cell_type": "markdown",
   "metadata": {},
   "source": [
    "=======================  ZK-STATS FLOW ======================="
   ]
  },
  {
   "cell_type": "code",
   "execution_count": 5,
   "metadata": {},
   "outputs": [],
   "source": [
    "data_path = os.path.join('data.json')\n",
    "dummy_data_path = os.path.join('shared/dummy_data.json')\n",
    "\n",
    "f_raw_input = open(data_path, \"r\")\n",
    "data = json.loads(f_raw_input.read())[\"input_data\"][0]\n",
    "data_tensor = torch.reshape(torch.tensor(data),(1, len(data), 1))\n",
    "\n",
    "#  dummy data for data consumer: arbitraryyy, just to make sure after filtered, it's not empty\n",
    "dummy_data = np.round(np.random.uniform(1,100,len(data)),1)\n",
    "json.dump({\"input_data\":[dummy_data.tolist()]}, open(dummy_data_path, 'w'))\n",
    "\n",
    "dummy_data_tensor = torch.reshape(torch.tensor(dummy_data), (1, len(dummy_data),1 ))\n",
    "gt30_dummy_data_tensor = dummy_data_tensor[dummy_data_tensor > 30].reshape(1,-1,1)\n",
    "dummy_theory_output = torch.sqrt(torch.var(gt30_dummy_data_tensor, correction = 1))\n",
    "dummy_data_mean = torch.mean(gt30_dummy_data_tensor)"
   ]
  },
  {
   "cell_type": "code",
   "execution_count": 6,
   "metadata": {},
   "outputs": [
    {
     "name": "stderr",
     "output_type": "stream",
     "text": [
      "/var/folders/89/y9dw12v976ngdmqz4l7wbsnr0000gn/T/ipykernel_90366/278749945.py:11: TracerWarning: Iterating over a tensor might cause the trace to be incorrect. Passing a tensor of different shape won't change the number of iterations executed (and might lead to errors or silently give incorrect results).\n",
      "  fil_mean_X = torch.tensor([ele[0] if ele[0]>30 else 0 for ele in X[0]])\n",
      "/var/folders/89/y9dw12v976ngdmqz4l7wbsnr0000gn/T/ipykernel_90366/278749945.py:11: TracerWarning: Converting a tensor to a Python boolean might cause the trace to be incorrect. We can't record the data flow of Python values, so this value will be treated as a constant in the future. This means that the trace might not generalize to other inputs!\n",
      "  fil_mean_X = torch.tensor([ele[0] if ele[0]>30 else 0 for ele in X[0]])\n",
      "/var/folders/89/y9dw12v976ngdmqz4l7wbsnr0000gn/T/ipykernel_90366/278749945.py:11: TracerWarning: torch.tensor results are registered as constants in the trace. You can safely ignore this warning if you use this function to create tensors out of constant variables that would be the same every time you call this function. In any other case, this might cause the trace to be incorrect.\n",
      "  fil_mean_X = torch.tensor([ele[0] if ele[0]>30 else 0 for ele in X[0]])\n",
      "/var/folders/89/y9dw12v976ngdmqz4l7wbsnr0000gn/T/ipykernel_90366/278749945.py:11: TracerWarning: Converting a tensor to a Python float might cause the trace to be incorrect. We can't record the data flow of Python values, so this value will be treated as a constant in the future. This means that the trace might not generalize to other inputs!\n",
      "  fil_mean_X = torch.tensor([ele[0] if ele[0]>30 else 0 for ele in X[0]])\n",
      "/var/folders/89/y9dw12v976ngdmqz4l7wbsnr0000gn/T/ipykernel_90366/278749945.py:13: TracerWarning: Iterating over a tensor might cause the trace to be incorrect. Passing a tensor of different shape won't change the number of iterations executed (and might lead to errors or silently give incorrect results).\n",
      "  fil_std_X = torch.tensor([ele[0] if ele[0]>30 else self.data_mean for ele in X[0]])\n",
      "/var/folders/89/y9dw12v976ngdmqz4l7wbsnr0000gn/T/ipykernel_90366/278749945.py:13: TracerWarning: Converting a tensor to a Python boolean might cause the trace to be incorrect. We can't record the data flow of Python values, so this value will be treated as a constant in the future. This means that the trace might not generalize to other inputs!\n",
      "  fil_std_X = torch.tensor([ele[0] if ele[0]>30 else self.data_mean for ele in X[0]])\n",
      "/var/folders/89/y9dw12v976ngdmqz4l7wbsnr0000gn/T/ipykernel_90366/278749945.py:13: TracerWarning: torch.tensor results are registered as constants in the trace. You can safely ignore this warning if you use this function to create tensors out of constant variables that would be the same every time you call this function. In any other case, this might cause the trace to be incorrect.\n",
      "  fil_std_X = torch.tensor([ele[0] if ele[0]>30 else self.data_mean for ele in X[0]])\n",
      "/var/folders/89/y9dw12v976ngdmqz4l7wbsnr0000gn/T/ipykernel_90366/278749945.py:13: TracerWarning: Converting a tensor to a Python float might cause the trace to be incorrect. We can't record the data flow of Python values, so this value will be treated as a constant in the future. This means that the trace might not generalize to other inputs!\n",
      "  fil_std_X = torch.tensor([ele[0] if ele[0]>30 else self.data_mean for ele in X[0]])\n",
      "/Library/Frameworks/Python.framework/Versions/3.10/lib/python3.10/site-packages/torch/onnx/symbolic_opset9.py:2174: FutureWarning: 'torch.onnx.symbolic_opset9._cast_Bool' is deprecated in version 2.0 and will be removed in the future. Please Avoid using this function and create a Cast node instead.\n",
      "  return fn(g, to_cast_func(g, input, False), to_cast_func(g, other, False))\n"
     ]
    }
   ],
   "source": [
    "# Verifier/ data consumer side:\n",
    "class verifier_model(nn.Module):\n",
    "    def __init__(self):\n",
    "        super(verifier_model, self).__init__()\n",
    "        # w represents mean in this case\n",
    "        self.w = nn.Parameter(data = dummy_theory_output, requires_grad = False)\n",
    "        self.data_mean = nn.Parameter(data = dummy_data_mean, requires_grad = False)\n",
    "\n",
    "    def forward(self,X):\n",
    "        num_fil_X = torch.sum((X>30).double())\n",
    "        fil_mean_X = torch.tensor([ele[0] if ele[0]>30 else 0 for ele in X[0]])\n",
    "        x_mean_cons = torch.abs(torch.sum(fil_mean_X)-num_fil_X*(self.data_mean))<=torch.abs(0.01*num_fil_X*self.data_mean)\n",
    "        fil_std_X = torch.tensor([ele[0] if ele[0]>30 else self.data_mean for ele in X[0]])\n",
    "        return (torch.logical_and(torch.abs(torch.sum((fil_std_X-self.data_mean)*(fil_std_X-self.data_mean))-self.w*self.w*(num_fil_X-1))<=torch.abs(0.02*self.w*self.w*(num_fil_X-1)),x_mean_cons),self.w)\n",
    "verifier_define_calculation(verifier_model, verifier_model_path, [dummy_data_path])"
   ]
  },
  {
   "cell_type": "code",
   "execution_count": 7,
   "metadata": {},
   "outputs": [
    {
     "name": "stderr",
     "output_type": "stream",
     "text": [
      "/var/folders/89/y9dw12v976ngdmqz4l7wbsnr0000gn/T/ipykernel_90366/1125113063.py:15: TracerWarning: Iterating over a tensor might cause the trace to be incorrect. Passing a tensor of different shape won't change the number of iterations executed (and might lead to errors or silently give incorrect results).\n",
      "  fil_mean_X = torch.tensor([ele[0] if ele[0]>30 else 0 for ele in X[0]])\n",
      "/var/folders/89/y9dw12v976ngdmqz4l7wbsnr0000gn/T/ipykernel_90366/1125113063.py:15: TracerWarning: Converting a tensor to a Python boolean might cause the trace to be incorrect. We can't record the data flow of Python values, so this value will be treated as a constant in the future. This means that the trace might not generalize to other inputs!\n",
      "  fil_mean_X = torch.tensor([ele[0] if ele[0]>30 else 0 for ele in X[0]])\n",
      "/var/folders/89/y9dw12v976ngdmqz4l7wbsnr0000gn/T/ipykernel_90366/1125113063.py:15: TracerWarning: torch.tensor results are registered as constants in the trace. You can safely ignore this warning if you use this function to create tensors out of constant variables that would be the same every time you call this function. In any other case, this might cause the trace to be incorrect.\n",
      "  fil_mean_X = torch.tensor([ele[0] if ele[0]>30 else 0 for ele in X[0]])\n",
      "/var/folders/89/y9dw12v976ngdmqz4l7wbsnr0000gn/T/ipykernel_90366/1125113063.py:15: TracerWarning: Converting a tensor to a Python float might cause the trace to be incorrect. We can't record the data flow of Python values, so this value will be treated as a constant in the future. This means that the trace might not generalize to other inputs!\n",
      "  fil_mean_X = torch.tensor([ele[0] if ele[0]>30 else 0 for ele in X[0]])\n",
      "/var/folders/89/y9dw12v976ngdmqz4l7wbsnr0000gn/T/ipykernel_90366/1125113063.py:17: TracerWarning: Iterating over a tensor might cause the trace to be incorrect. Passing a tensor of different shape won't change the number of iterations executed (and might lead to errors or silently give incorrect results).\n",
      "  fil_std_X = torch.tensor([ele[0] if ele[0]>30 else self.data_mean for ele in X[0]])\n",
      "/var/folders/89/y9dw12v976ngdmqz4l7wbsnr0000gn/T/ipykernel_90366/1125113063.py:17: TracerWarning: Converting a tensor to a Python boolean might cause the trace to be incorrect. We can't record the data flow of Python values, so this value will be treated as a constant in the future. This means that the trace might not generalize to other inputs!\n",
      "  fil_std_X = torch.tensor([ele[0] if ele[0]>30 else self.data_mean for ele in X[0]])\n"
     ]
    },
    {
     "name": "stdout",
     "output_type": "stream",
     "text": [
      "theory output:  tensor(12.7586)\n",
      "==== Generate & Calibrate Setting ====\n",
      "scale:  [2]\n",
      "setting:  {\"run_args\":{\"tolerance\":{\"val\":0.0,\"scale\":1.0},\"input_scale\":2,\"param_scale\":2,\"scale_rebase_multiplier\":10,\"lookup_range\":[-161232,28184],\"logrows\":18,\"num_inner_cols\":2,\"variables\":[[\"batch_size\",1]],\"input_visibility\":{\"Hashed\":{\"hash_is_public\":true,\"outlets\":[]}},\"output_visibility\":\"Public\",\"param_visibility\":\"Private\"},\"num_rows\":14432,\"total_assignments\":1531,\"total_const_size\":10,\"model_instance_shapes\":[[1],[1]],\"model_output_scales\":[0,2],\"model_input_scales\":[2],\"module_sizes\":{\"kzg\":[],\"poseidon\":[14432,[1]],\"elgamal\":[0,[0]]},\"required_lookups\":[\"Abs\",{\"Div\":{\"denom\":100.0}},{\"GreaterThan\":{\"a\":0.0}}],\"check_mode\":\"UNSAFE\",\"version\":\"7.0.0\",\"num_blinding_factors\":null}\n"
     ]
    },
    {
     "name": "stderr",
     "output_type": "stream",
     "text": [
      "/var/folders/89/y9dw12v976ngdmqz4l7wbsnr0000gn/T/ipykernel_90366/1125113063.py:17: TracerWarning: torch.tensor results are registered as constants in the trace. You can safely ignore this warning if you use this function to create tensors out of constant variables that would be the same every time you call this function. In any other case, this might cause the trace to be incorrect.\n",
      "  fil_std_X = torch.tensor([ele[0] if ele[0]>30 else self.data_mean for ele in X[0]])\n",
      "/var/folders/89/y9dw12v976ngdmqz4l7wbsnr0000gn/T/ipykernel_90366/1125113063.py:17: TracerWarning: Converting a tensor to a Python float might cause the trace to be incorrect. We can't record the data flow of Python values, so this value will be treated as a constant in the future. This means that the trace might not generalize to other inputs!\n",
      "  fil_std_X = torch.tensor([ele[0] if ele[0]>30 else self.data_mean for ele in X[0]])\n"
     ]
    }
   ],
   "source": [
    "# Prover/ data owner side\n",
    "gt30_data_tensor = data_tensor[data_tensor > 30].reshape(1,-1,1)\n",
    "theory_output = torch.sqrt(torch.var(gt30_data_tensor, correction = 1))\n",
    "data_mean = torch.mean(gt30_data_tensor)\n",
    "print(\"theory output: \", theory_output)\n",
    "class prover_model(nn.Module):\n",
    "    def __init__(self):\n",
    "        super(prover_model, self).__init__()\n",
    "        # w represents mean in this case\n",
    "        self.w = nn.Parameter(data = theory_output, requires_grad = False)\n",
    "        self.data_mean = nn.Parameter(data = data_mean, requires_grad = False)\n",
    "        \n",
    "    def forward(self,X):\n",
    "        num_fil_X = torch.sum((X>30).double())\n",
    "        fil_mean_X = torch.tensor([ele[0] if ele[0]>30 else 0 for ele in X[0]])\n",
    "        x_mean_cons = torch.abs(torch.sum(fil_mean_X)-num_fil_X*(self.data_mean))<=torch.abs(0.01*num_fil_X*self.data_mean)\n",
    "        fil_std_X = torch.tensor([ele[0] if ele[0]>30 else self.data_mean for ele in X[0]])\n",
    "        return (torch.logical_and(torch.abs(torch.sum((fil_std_X-self.data_mean)*(fil_std_X-self.data_mean))-self.w*self.w*(num_fil_X-1))<=torch.abs(0.02*self.w*self.w*(num_fil_X-1)),x_mean_cons),self.w)\n",
    "\n",
    "prover_gen_settings([data_path], comb_data_path, prover_model,prover_model_path, [2], \"resources\", settings_path)"
   ]
  },
  {
   "cell_type": "code",
   "execution_count": 8,
   "metadata": {},
   "outputs": [
    {
     "name": "stderr",
     "output_type": "stream",
     "text": [
      "spawning module 0\n",
      "spawning module 2\n",
      "spawning module 0\n"
     ]
    },
    {
     "name": "stdout",
     "output_type": "stream",
     "text": [
      "==== setting up ezkl ====\n"
     ]
    },
    {
     "name": "stderr",
     "output_type": "stream",
     "text": [
      "spawning module 2\n"
     ]
    },
    {
     "name": "stdout",
     "output_type": "stream",
     "text": [
      "Time setup: 25.42341899871826 seconds\n",
      "=======================================\n",
      "Theory output:  tensor(12.7586)\n",
      "!@# compiled_model exists? True\n",
      "!@# compiled_model exists? True\n",
      "==== Generating Witness ====\n",
      "witness boolean:  1.0\n",
      "witness result 1 : 12.75\n",
      "==== Generating Proof ====\n"
     ]
    },
    {
     "name": "stderr",
     "output_type": "stream",
     "text": [
      "spawning module 0\n",
      "spawning module 2\n"
     ]
    },
    {
     "name": "stdout",
     "output_type": "stream",
     "text": [
      "proof:  {'instances': [[[10537101196673941533, 17227541574925932677, 11187715152301828262, 1869164017182098189], [12436184717236109307, 3962172157175319849, 7381016538464732718, 1011752739694698287], [12362648763242643187, 13940026059969050459, 6027715406760125980, 2781413989188023337]]], 'proof': '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', 'transcript_type': 'EVM'}\n",
      "Time gen prf: 34.71966505050659 seconds\n"
     ]
    }
   ],
   "source": [
    "# Here verifier & prover can concurrently call setup since all params are public to get pk. \n",
    "# Here write as verifier function to emphasize that verifier must calculate its own vk to be sure\n",
    "verifier_setup(verifier_model_path, verifier_compiled_model_path, settings_path,vk_path, pk_path )\n",
    "\n",
    "print(\"=======================================\")\n",
    "# Prover generates proof\n",
    "print(\"Theory output: \", theory_output)\n",
    "prover_gen_proof(prover_model_path, comb_data_path, witness_path, prover_compiled_model_path, settings_path, proof_path, pk_path)"
   ]
  },
  {
   "cell_type": "code",
   "execution_count": 9,
   "metadata": {},
   "outputs": [
    {
     "name": "stdout",
     "output_type": "stream",
     "text": [
      "num_inputs:  1\n",
      "prf instances:  [[[10537101196673941533, 17227541574925932677, 11187715152301828262, 1869164017182098189], [12436184717236109307, 3962172157175319849, 7381016538464732718, 1011752739694698287], [12362648763242643187, 13940026059969050459, 6027715406760125980, 2781413989188023337]]]\n",
      "proof boolean:  1.0\n",
      "proof result 1 : 12.75\n",
      "verified\n"
     ]
    }
   ],
   "source": [
    "# Verifier verifies\n",
    "verifier_verify(proof_path, settings_path, vk_path)"
   ]
  },
  {
   "cell_type": "code",
   "execution_count": null,
   "metadata": {},
   "outputs": [],
   "source": []
  }
 ],
 "metadata": {
  "kernelspec": {
   "display_name": "Python 3",
   "language": "python",
   "name": "python3"
  },
  "language_info": {
   "codemirror_mode": {
    "name": "ipython",
    "version": 3
   },
   "file_extension": ".py",
   "mimetype": "text/x-python",
   "name": "python",
   "nbconvert_exporter": "python",
   "pygments_lexer": "ipython3",
   "version": "3.10.0"
  },
  "orig_nbformat": 4
 },
 "nbformat": 4,
 "nbformat_minor": 2
}
