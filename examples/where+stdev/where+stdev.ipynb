{
 "cells": [
  {
   "cell_type": "code",
   "execution_count": 1,
   "metadata": {},
   "outputs": [
    {
     "name": "stdout",
     "output_type": "stream",
     "text": [
      "Requirement already satisfied: ezkl==7.0.0 in /Library/Frameworks/Python.framework/Versions/3.10/lib/python3.10/site-packages (from -r ../../requirements.txt (line 1)) (7.0.0)\n",
      "Requirement already satisfied: torch in /Library/Frameworks/Python.framework/Versions/3.10/lib/python3.10/site-packages (from -r ../../requirements.txt (line 2)) (2.1.1)\n",
      "Requirement already satisfied: requests in /Library/Frameworks/Python.framework/Versions/3.10/lib/python3.10/site-packages (from -r ../../requirements.txt (line 3)) (2.31.0)\n",
      "Requirement already satisfied: scipy in /Library/Frameworks/Python.framework/Versions/3.10/lib/python3.10/site-packages (from -r ../../requirements.txt (line 4)) (1.11.4)\n",
      "Requirement already satisfied: numpy in /Library/Frameworks/Python.framework/Versions/3.10/lib/python3.10/site-packages (from -r ../../requirements.txt (line 5)) (1.26.2)\n",
      "Requirement already satisfied: matplotlib in /Library/Frameworks/Python.framework/Versions/3.10/lib/python3.10/site-packages (from -r ../../requirements.txt (line 6)) (3.8.2)\n",
      "Requirement already satisfied: statistics in /Library/Frameworks/Python.framework/Versions/3.10/lib/python3.10/site-packages (from -r ../../requirements.txt (line 7)) (1.0.3.5)\n",
      "Requirement already satisfied: onnx in /Library/Frameworks/Python.framework/Versions/3.10/lib/python3.10/site-packages (from -r ../../requirements.txt (line 8)) (1.15.0)\n",
      "Requirement already satisfied: fsspec in /Library/Frameworks/Python.framework/Versions/3.10/lib/python3.10/site-packages (from torch->-r ../../requirements.txt (line 2)) (2023.10.0)\n",
      "Requirement already satisfied: filelock in /Library/Frameworks/Python.framework/Versions/3.10/lib/python3.10/site-packages (from torch->-r ../../requirements.txt (line 2)) (3.13.1)\n",
      "Requirement already satisfied: sympy in /Library/Frameworks/Python.framework/Versions/3.10/lib/python3.10/site-packages (from torch->-r ../../requirements.txt (line 2)) (1.12)\n",
      "Requirement already satisfied: networkx in /Library/Frameworks/Python.framework/Versions/3.10/lib/python3.10/site-packages (from torch->-r ../../requirements.txt (line 2)) (3.2.1)\n",
      "Requirement already satisfied: typing-extensions in /Library/Frameworks/Python.framework/Versions/3.10/lib/python3.10/site-packages (from torch->-r ../../requirements.txt (line 2)) (4.8.0)\n",
      "Requirement already satisfied: jinja2 in /Library/Frameworks/Python.framework/Versions/3.10/lib/python3.10/site-packages (from torch->-r ../../requirements.txt (line 2)) (3.1.2)\n",
      "Requirement already satisfied: charset-normalizer<4,>=2 in /Library/Frameworks/Python.framework/Versions/3.10/lib/python3.10/site-packages (from requests->-r ../../requirements.txt (line 3)) (3.3.2)\n",
      "Requirement already satisfied: urllib3<3,>=1.21.1 in /Library/Frameworks/Python.framework/Versions/3.10/lib/python3.10/site-packages (from requests->-r ../../requirements.txt (line 3)) (2.1.0)\n",
      "Requirement already satisfied: idna<4,>=2.5 in /Library/Frameworks/Python.framework/Versions/3.10/lib/python3.10/site-packages (from requests->-r ../../requirements.txt (line 3)) (3.6)\n",
      "Requirement already satisfied: certifi>=2017.4.17 in /Library/Frameworks/Python.framework/Versions/3.10/lib/python3.10/site-packages (from requests->-r ../../requirements.txt (line 3)) (2023.11.17)\n",
      "Requirement already satisfied: cycler>=0.10 in /Library/Frameworks/Python.framework/Versions/3.10/lib/python3.10/site-packages (from matplotlib->-r ../../requirements.txt (line 6)) (0.12.1)\n",
      "Requirement already satisfied: pillow>=8 in /Library/Frameworks/Python.framework/Versions/3.10/lib/python3.10/site-packages (from matplotlib->-r ../../requirements.txt (line 6)) (10.1.0)\n",
      "Requirement already satisfied: pyparsing>=2.3.1 in /Library/Frameworks/Python.framework/Versions/3.10/lib/python3.10/site-packages (from matplotlib->-r ../../requirements.txt (line 6)) (3.1.1)\n",
      "Requirement already satisfied: packaging>=20.0 in /Users/jernkun/Library/Python/3.10/lib/python/site-packages (from matplotlib->-r ../../requirements.txt (line 6)) (23.2)\n",
      "Requirement already satisfied: kiwisolver>=1.3.1 in /Library/Frameworks/Python.framework/Versions/3.10/lib/python3.10/site-packages (from matplotlib->-r ../../requirements.txt (line 6)) (1.4.5)\n",
      "Requirement already satisfied: fonttools>=4.22.0 in /Library/Frameworks/Python.framework/Versions/3.10/lib/python3.10/site-packages (from matplotlib->-r ../../requirements.txt (line 6)) (4.45.1)\n",
      "Requirement already satisfied: python-dateutil>=2.7 in /Users/jernkun/Library/Python/3.10/lib/python/site-packages (from matplotlib->-r ../../requirements.txt (line 6)) (2.8.2)\n",
      "Requirement already satisfied: contourpy>=1.0.1 in /Library/Frameworks/Python.framework/Versions/3.10/lib/python3.10/site-packages (from matplotlib->-r ../../requirements.txt (line 6)) (1.2.0)\n",
      "Requirement already satisfied: docutils>=0.3 in /Library/Frameworks/Python.framework/Versions/3.10/lib/python3.10/site-packages (from statistics->-r ../../requirements.txt (line 7)) (0.20.1)\n",
      "Requirement already satisfied: protobuf>=3.20.2 in /Library/Frameworks/Python.framework/Versions/3.10/lib/python3.10/site-packages (from onnx->-r ../../requirements.txt (line 8)) (4.25.1)\n",
      "Requirement already satisfied: six>=1.5 in /Users/jernkun/Library/Python/3.10/lib/python/site-packages (from python-dateutil>=2.7->matplotlib->-r ../../requirements.txt (line 6)) (1.16.0)\n",
      "Requirement already satisfied: MarkupSafe>=2.0 in /Library/Frameworks/Python.framework/Versions/3.10/lib/python3.10/site-packages (from jinja2->torch->-r ../../requirements.txt (line 2)) (2.1.3)\n",
      "Requirement already satisfied: mpmath>=0.19 in /Library/Frameworks/Python.framework/Versions/3.10/lib/python3.10/site-packages (from sympy->torch->-r ../../requirements.txt (line 2)) (1.3.0)\n",
      "\u001b[33mWARNING: You are using pip version 21.2.3; however, version 23.3.2 is available.\n",
      "You should consider upgrading via the '/usr/local/bin/python3 -m pip install --upgrade pip' command.\u001b[0m\n",
      "Note: you may need to restart the kernel to use updated packages.\n"
     ]
    }
   ],
   "source": [
    "pip install -r ../../requirements.txt"
   ]
  },
  {
   "cell_type": "code",
   "execution_count": 2,
   "metadata": {},
   "outputs": [],
   "source": [
    "import ezkl\n",
    "import torch\n",
    "from torch import nn\n",
    "import json\n",
    "import os\n",
    "import time\n",
    "import scipy\n",
    "import numpy as np\n",
    "import matplotlib.pyplot as plt\n",
    "import statistics\n",
    "import math"
   ]
  },
  {
   "cell_type": "code",
   "execution_count": 3,
   "metadata": {},
   "outputs": [],
   "source": [
    "%run -i ../../zkstats/core.py"
   ]
  },
  {
   "cell_type": "code",
   "execution_count": 4,
   "metadata": {},
   "outputs": [],
   "source": [
    "# init path\n",
    "os.makedirs(os.path.dirname('shared/'), exist_ok=True)\n",
    "os.makedirs(os.path.dirname('prover/'), exist_ok=True)\n",
    "verifier_model_path = os.path.join('shared/verifier.onnx')\n",
    "prover_model_path = os.path.join('prover/prover.onnx')\n",
    "verifier_compiled_model_path = os.path.join('shared/verifier.compiled')\n",
    "prover_compiled_model_path = os.path.join('prover/prover.compiled')\n",
    "pk_path = os.path.join('shared/test.pk')\n",
    "vk_path = os.path.join('shared/test.vk')\n",
    "proof_path = os.path.join('shared/test.pf')\n",
    "settings_path = os.path.join('shared/settings.json')\n",
    "srs_path = os.path.join('shared/kzg.srs')\n",
    "witness_path = os.path.join('prover/witness.json')\n",
    "# this is private to prover since it contains actual data\n",
    "comb_data_path = os.path.join('prover/comb_data.json')"
   ]
  },
  {
   "attachments": {},
   "cell_type": "markdown",
   "metadata": {},
   "source": [
    "=======================  ZK-STATS FLOW ======================="
   ]
  },
  {
   "cell_type": "code",
   "execution_count": 5,
   "metadata": {},
   "outputs": [],
   "source": [
    "data_path = os.path.join('data.json')\n",
    "dummy_data_path = os.path.join('shared/dummy_data.json')\n",
    "\n",
    "f_raw_input = open(data_path, \"r\")\n",
    "data = json.loads(f_raw_input.read())[\"input_data\"][0]\n",
    "data_tensor = torch.reshape(torch.tensor(data),(1, len(data), 1))\n",
    "\n",
    "#  dummy data for data consumer: arbitraryyy, just to make sure after filtered, it's not empty\n",
    "dummy_data = np.round(np.random.uniform(1,100,len(data)),1)\n",
    "json.dump({\"input_data\":[dummy_data.tolist()]}, open(dummy_data_path, 'w'))\n",
    "\n",
    "dummy_data_tensor = torch.reshape(torch.tensor(dummy_data), (1, len(dummy_data),1 ))\n",
    "gt30_dummy_data_tensor = dummy_data_tensor[dummy_data_tensor > 30].reshape(1,-1,1)\n",
    "dummy_theory_output = torch.sqrt(torch.var(gt30_dummy_data_tensor, correction = 1))\n",
    "dummy_data_mean = torch.mean(gt30_dummy_data_tensor)"
   ]
  },
  {
   "cell_type": "code",
   "execution_count": 6,
   "metadata": {},
   "outputs": [
    {
     "name": "stderr",
     "output_type": "stream",
     "text": [
      "/Library/Frameworks/Python.framework/Versions/3.10/lib/python3.10/site-packages/torch/onnx/symbolic_opset9.py:2174: FutureWarning: 'torch.onnx.symbolic_opset9._cast_Bool' is deprecated in version 2.0 and will be removed in the future. Please Avoid using this function and create a Cast node instead.\n",
      "  return fn(g, to_cast_func(g, input, False), to_cast_func(g, other, False))\n"
     ]
    }
   ],
   "source": [
    "# Verifier/ data consumer side:\n",
    "class verifier_model(nn.Module):\n",
    "    def __init__(self):\n",
    "        super(verifier_model, self).__init__()\n",
    "        # w represents mean in this case\n",
    "        self.w = nn.Parameter(data = dummy_theory_output, requires_grad = False)\n",
    "        self.data_mean = nn.Parameter(data = dummy_data_mean, requires_grad = False)\n",
    "\n",
    "    def forward(self,X):\n",
    "        num_fil_X = torch.sum((X>30).double())\n",
    "        fil_mean_X = torch.where(X>30, X, 0.0)\n",
    "        x_mean_cons = torch.abs(torch.sum(fil_mean_X)-num_fil_X*(self.data_mean))<=torch.abs(0.01*num_fil_X*self.data_mean)\n",
    "        fil_std_X = torch.where(X>30, X, self.data_mean)\n",
    "        return (torch.logical_and(torch.abs(torch.sum((fil_std_X-self.data_mean)*(fil_std_X-self.data_mean))-self.w*self.w*(num_fil_X-1))<=torch.abs(0.02*self.w*self.w*(num_fil_X-1)),x_mean_cons),self.w)\n",
    "verifier_define_calculation(verifier_model, verifier_model_path, [dummy_data_path])"
   ]
  },
  {
   "cell_type": "code",
   "execution_count": 7,
   "metadata": {},
   "outputs": [
    {
     "name": "stdout",
     "output_type": "stream",
     "text": [
      "theory output:  tensor(12.7586)\n",
      "==== Generate & Calibrate Setting ====\n",
      "scale:  [2]\n",
      "setting:  {\"run_args\":{\"tolerance\":{\"val\":0.0,\"scale\":1.0},\"input_scale\":2,\"param_scale\":2,\"scale_rebase_multiplier\":10,\"lookup_range\":[-161232,28184],\"logrows\":18,\"num_inner_cols\":2,\"variables\":[[\"batch_size\",1]],\"input_visibility\":{\"Hashed\":{\"hash_is_public\":true,\"outlets\":[]}},\"output_visibility\":\"Public\",\"param_visibility\":\"Private\"},\"num_rows\":14432,\"total_assignments\":5734,\"total_const_size\":612,\"model_instance_shapes\":[[1],[1]],\"model_output_scales\":[0,2],\"model_input_scales\":[2],\"module_sizes\":{\"kzg\":[],\"poseidon\":[14432,[1]],\"elgamal\":[0,[0]]},\"required_lookups\":[\"Abs\",{\"Div\":{\"denom\":100.0}},{\"GreaterThan\":{\"a\":0.0}}],\"check_mode\":\"UNSAFE\",\"version\":\"7.0.0\",\"num_blinding_factors\":null}\n"
     ]
    },
    {
     "name": "stderr",
     "output_type": "stream",
     "text": [
      "/Library/Frameworks/Python.framework/Versions/3.10/lib/python3.10/site-packages/torch/onnx/utils.py:1686: UserWarning: The exported ONNX model failed ONNX shape inference. The model will not be executable by the ONNX Runtime. If this is unintended and you believe there is a bug, please report an issue at https://github.com/pytorch/pytorch/issues. Error reported by strict ONNX shape inference: [ShapeInferenceError] (op_type:Where, node name: /Where_1): Y has inconsistent type tensor(float) (Triggered internally at /Users/runner/work/pytorch/pytorch/pytorch/torch/csrc/jit/serialization/export.cpp:1421.)\n",
      "  _C._check_onnx_proto(proto)\n"
     ]
    }
   ],
   "source": [
    "# Prover/ data owner side\n",
    "gt30_data_tensor = data_tensor[data_tensor > 30].reshape(1,-1,1)\n",
    "theory_output = torch.sqrt(torch.var(gt30_data_tensor, correction = 1))\n",
    "data_mean = torch.mean(gt30_data_tensor)\n",
    "print(\"theory output: \", theory_output)\n",
    "class prover_model(nn.Module):\n",
    "    def __init__(self):\n",
    "        super(prover_model, self).__init__()\n",
    "        # w represents mean in this case\n",
    "        self.w = nn.Parameter(data = theory_output, requires_grad = False)\n",
    "        self.data_mean = nn.Parameter(data = data_mean, requires_grad = False)\n",
    "        \n",
    "    def forward(self,X):\n",
    "        num_fil_X = torch.sum((X>30).double())\n",
    "        fil_mean_X = torch.where(X>30, X, 0.0)\n",
    "        x_mean_cons = torch.abs(torch.sum(fil_mean_X)-num_fil_X*(self.data_mean))<=torch.abs(0.01*num_fil_X*self.data_mean)\n",
    "        fil_std_X = torch.where(X>30, X, self.data_mean)\n",
    "        return (torch.logical_and(torch.abs(torch.sum((fil_std_X-self.data_mean)*(fil_std_X-self.data_mean))-self.w*self.w*(num_fil_X-1))<=torch.abs(0.02*self.w*self.w*(num_fil_X-1)),x_mean_cons),self.w)\n",
    "\n",
    "prover_gen_settings([data_path], comb_data_path, prover_model,prover_model_path, [2], \"resources\", settings_path)"
   ]
  },
  {
   "cell_type": "code",
   "execution_count": 8,
   "metadata": {},
   "outputs": [
    {
     "name": "stderr",
     "output_type": "stream",
     "text": [
      "spawning module 0\n",
      "spawning module 2\n"
     ]
    },
    {
     "name": "stdout",
     "output_type": "stream",
     "text": [
      "==== setting up ezkl ====\n"
     ]
    },
    {
     "name": "stderr",
     "output_type": "stream",
     "text": [
      "spawning module 0\n",
      "spawning module 2\n"
     ]
    },
    {
     "name": "stdout",
     "output_type": "stream",
     "text": [
      "Time setup: 30.583266735076904 seconds\n",
      "=======================================\n",
      "Theory output:  tensor(12.7586)\n",
      "!@# compiled_model exists? True\n",
      "!@# compiled_model exists? True\n",
      "==== Generating Witness ====\n",
      "witness boolean:  1.0\n",
      "witness result 1 : 12.75\n",
      "==== Generating Proof ====\n"
     ]
    },
    {
     "name": "stderr",
     "output_type": "stream",
     "text": [
      "spawning module 0\n",
      "spawning module 2\n"
     ]
    },
    {
     "name": "stdout",
     "output_type": "stream",
     "text": [
      "proof:  {'instances': [[[10537101196673941533, 17227541574925932677, 11187715152301828262, 1869164017182098189], [12436184717236109307, 3962172157175319849, 7381016538464732718, 1011752739694698287], [12362648763242643187, 13940026059969050459, 6027715406760125980, 2781413989188023337]]], 'proof': '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', 'transcript_type': 'EVM'}\n",
      "Time gen prf: 36.91511821746826 seconds\n"
     ]
    }
   ],
   "source": [
    "# Here verifier & prover can concurrently call setup since all params are public to get pk. \n",
    "# Here write as verifier function to emphasize that verifier must calculate its own vk to be sure\n",
    "verifier_setup(verifier_model_path, verifier_compiled_model_path, settings_path,vk_path, pk_path )\n",
    "\n",
    "print(\"=======================================\")\n",
    "# Prover generates proof\n",
    "print(\"Theory output: \", theory_output)\n",
    "prover_gen_proof(prover_model_path, comb_data_path, witness_path, prover_compiled_model_path, settings_path, proof_path, pk_path)"
   ]
  },
  {
   "cell_type": "code",
   "execution_count": 9,
   "metadata": {},
   "outputs": [
    {
     "name": "stdout",
     "output_type": "stream",
     "text": [
      "num_inputs:  1\n",
      "prf instances:  [[[10537101196673941533, 17227541574925932677, 11187715152301828262, 1869164017182098189], [12436184717236109307, 3962172157175319849, 7381016538464732718, 1011752739694698287], [12362648763242643187, 13940026059969050459, 6027715406760125980, 2781413989188023337]]]\n",
      "proof boolean:  1.0\n",
      "proof result 1 : 12.75\n",
      "verified\n"
     ]
    }
   ],
   "source": [
    "# Verifier verifies\n",
    "verifier_verify(proof_path, settings_path, vk_path)"
   ]
  },
  {
   "cell_type": "code",
   "execution_count": null,
   "metadata": {},
   "outputs": [],
   "source": []
  }
 ],
 "metadata": {
  "kernelspec": {
   "display_name": "Python 3",
   "language": "python",
   "name": "python3"
  },
  "language_info": {
   "codemirror_mode": {
    "name": "ipython",
    "version": 3
   },
   "file_extension": ".py",
   "mimetype": "text/x-python",
   "name": "python",
   "nbconvert_exporter": "python",
   "pygments_lexer": "ipython3",
   "version": "3.10.0"
  },
  "orig_nbformat": 4
 },
 "nbformat": 4,
 "nbformat_minor": 2
}
