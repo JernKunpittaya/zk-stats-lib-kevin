{
 "cells": [
  {
   "cell_type": "code",
   "execution_count": 1,
   "metadata": {},
   "outputs": [
    {
     "name": "stdout",
     "output_type": "stream",
     "text": [
      "Requirement already satisfied: ezkl==7.0.0 in /Users/mhchia/Library/Caches/pypoetry/virtualenvs/zkstats-brXmXluj-py3.12/lib/python3.12/site-packages (from -r ../../requirements.txt (line 1)) (7.0.0)\n",
      "Requirement already satisfied: torch in /Users/mhchia/Library/Caches/pypoetry/virtualenvs/zkstats-brXmXluj-py3.12/lib/python3.12/site-packages (from -r ../../requirements.txt (line 2)) (2.2.0)\n",
      "Requirement already satisfied: requests in /Users/mhchia/Library/Caches/pypoetry/virtualenvs/zkstats-brXmXluj-py3.12/lib/python3.12/site-packages (from -r ../../requirements.txt (line 3)) (2.31.0)\n",
      "Requirement already satisfied: scipy in /Users/mhchia/Library/Caches/pypoetry/virtualenvs/zkstats-brXmXluj-py3.12/lib/python3.12/site-packages (from -r ../../requirements.txt (line 4)) (1.12.0)\n",
      "Requirement already satisfied: numpy in /Users/mhchia/Library/Caches/pypoetry/virtualenvs/zkstats-brXmXluj-py3.12/lib/python3.12/site-packages (from -r ../../requirements.txt (line 5)) (1.26.3)\n",
      "Requirement already satisfied: matplotlib in /Users/mhchia/Library/Caches/pypoetry/virtualenvs/zkstats-brXmXluj-py3.12/lib/python3.12/site-packages (from -r ../../requirements.txt (line 6)) (3.8.2)\n",
      "Requirement already satisfied: statistics in /Users/mhchia/Library/Caches/pypoetry/virtualenvs/zkstats-brXmXluj-py3.12/lib/python3.12/site-packages (from -r ../../requirements.txt (line 7)) (1.0.3.5)\n",
      "Requirement already satisfied: onnx in /Users/mhchia/Library/Caches/pypoetry/virtualenvs/zkstats-brXmXluj-py3.12/lib/python3.12/site-packages (from -r ../../requirements.txt (line 8)) (1.15.0)\n",
      "Requirement already satisfied: filelock in /Users/mhchia/Library/Caches/pypoetry/virtualenvs/zkstats-brXmXluj-py3.12/lib/python3.12/site-packages (from torch->-r ../../requirements.txt (line 2)) (3.13.1)\n",
      "Requirement already satisfied: typing-extensions>=4.8.0 in /Users/mhchia/Library/Caches/pypoetry/virtualenvs/zkstats-brXmXluj-py3.12/lib/python3.12/site-packages (from torch->-r ../../requirements.txt (line 2)) (4.9.0)\n",
      "Requirement already satisfied: sympy in /Users/mhchia/Library/Caches/pypoetry/virtualenvs/zkstats-brXmXluj-py3.12/lib/python3.12/site-packages (from torch->-r ../../requirements.txt (line 2)) (1.12)\n",
      "Requirement already satisfied: networkx in /Users/mhchia/Library/Caches/pypoetry/virtualenvs/zkstats-brXmXluj-py3.12/lib/python3.12/site-packages (from torch->-r ../../requirements.txt (line 2)) (3.2.1)\n",
      "Requirement already satisfied: jinja2 in /Users/mhchia/Library/Caches/pypoetry/virtualenvs/zkstats-brXmXluj-py3.12/lib/python3.12/site-packages (from torch->-r ../../requirements.txt (line 2)) (3.1.3)\n",
      "Requirement already satisfied: fsspec in /Users/mhchia/Library/Caches/pypoetry/virtualenvs/zkstats-brXmXluj-py3.12/lib/python3.12/site-packages (from torch->-r ../../requirements.txt (line 2)) (2023.12.2)\n",
      "Requirement already satisfied: charset-normalizer<4,>=2 in /Users/mhchia/Library/Caches/pypoetry/virtualenvs/zkstats-brXmXluj-py3.12/lib/python3.12/site-packages (from requests->-r ../../requirements.txt (line 3)) (3.3.2)\n",
      "Requirement already satisfied: idna<4,>=2.5 in /Users/mhchia/Library/Caches/pypoetry/virtualenvs/zkstats-brXmXluj-py3.12/lib/python3.12/site-packages (from requests->-r ../../requirements.txt (line 3)) (3.6)\n",
      "Requirement already satisfied: urllib3<3,>=1.21.1 in /Users/mhchia/Library/Caches/pypoetry/virtualenvs/zkstats-brXmXluj-py3.12/lib/python3.12/site-packages (from requests->-r ../../requirements.txt (line 3)) (2.2.0)\n",
      "Requirement already satisfied: certifi>=2017.4.17 in /Users/mhchia/Library/Caches/pypoetry/virtualenvs/zkstats-brXmXluj-py3.12/lib/python3.12/site-packages (from requests->-r ../../requirements.txt (line 3)) (2024.2.2)\n",
      "Requirement already satisfied: contourpy>=1.0.1 in /Users/mhchia/Library/Caches/pypoetry/virtualenvs/zkstats-brXmXluj-py3.12/lib/python3.12/site-packages (from matplotlib->-r ../../requirements.txt (line 6)) (1.2.0)\n",
      "Requirement already satisfied: cycler>=0.10 in /Users/mhchia/Library/Caches/pypoetry/virtualenvs/zkstats-brXmXluj-py3.12/lib/python3.12/site-packages (from matplotlib->-r ../../requirements.txt (line 6)) (0.12.1)\n",
      "Requirement already satisfied: fonttools>=4.22.0 in /Users/mhchia/Library/Caches/pypoetry/virtualenvs/zkstats-brXmXluj-py3.12/lib/python3.12/site-packages (from matplotlib->-r ../../requirements.txt (line 6)) (4.47.2)\n",
      "Requirement already satisfied: kiwisolver>=1.3.1 in /Users/mhchia/Library/Caches/pypoetry/virtualenvs/zkstats-brXmXluj-py3.12/lib/python3.12/site-packages (from matplotlib->-r ../../requirements.txt (line 6)) (1.4.5)\n",
      "Requirement already satisfied: packaging>=20.0 in /Users/mhchia/Library/Caches/pypoetry/virtualenvs/zkstats-brXmXluj-py3.12/lib/python3.12/site-packages (from matplotlib->-r ../../requirements.txt (line 6)) (23.2)\n",
      "Requirement already satisfied: pillow>=8 in /Users/mhchia/Library/Caches/pypoetry/virtualenvs/zkstats-brXmXluj-py3.12/lib/python3.12/site-packages (from matplotlib->-r ../../requirements.txt (line 6)) (10.2.0)\n",
      "Requirement already satisfied: pyparsing>=2.3.1 in /Users/mhchia/Library/Caches/pypoetry/virtualenvs/zkstats-brXmXluj-py3.12/lib/python3.12/site-packages (from matplotlib->-r ../../requirements.txt (line 6)) (3.1.1)\n",
      "Requirement already satisfied: python-dateutil>=2.7 in /Users/mhchia/Library/Caches/pypoetry/virtualenvs/zkstats-brXmXluj-py3.12/lib/python3.12/site-packages (from matplotlib->-r ../../requirements.txt (line 6)) (2.8.2)\n",
      "Requirement already satisfied: docutils>=0.3 in /Users/mhchia/Library/Caches/pypoetry/virtualenvs/zkstats-brXmXluj-py3.12/lib/python3.12/site-packages (from statistics->-r ../../requirements.txt (line 7)) (0.20.1)\n",
      "Requirement already satisfied: protobuf>=3.20.2 in /Users/mhchia/Library/Caches/pypoetry/virtualenvs/zkstats-brXmXluj-py3.12/lib/python3.12/site-packages (from onnx->-r ../../requirements.txt (line 8)) (4.25.2)\n",
      "Requirement already satisfied: six>=1.5 in /Users/mhchia/Library/Caches/pypoetry/virtualenvs/zkstats-brXmXluj-py3.12/lib/python3.12/site-packages (from python-dateutil>=2.7->matplotlib->-r ../../requirements.txt (line 6)) (1.16.0)\n",
      "Requirement already satisfied: MarkupSafe>=2.0 in /Users/mhchia/Library/Caches/pypoetry/virtualenvs/zkstats-brXmXluj-py3.12/lib/python3.12/site-packages (from jinja2->torch->-r ../../requirements.txt (line 2)) (2.1.4)\n",
      "Requirement already satisfied: mpmath>=0.19 in /Users/mhchia/Library/Caches/pypoetry/virtualenvs/zkstats-brXmXluj-py3.12/lib/python3.12/site-packages (from sympy->torch->-r ../../requirements.txt (line 2)) (1.3.0)\n",
      "\n",
      "\u001b[1m[\u001b[0m\u001b[34;49mnotice\u001b[0m\u001b[1;39;49m]\u001b[0m\u001b[39;49m A new release of pip is available: \u001b[0m\u001b[31;49m23.3.1\u001b[0m\u001b[39;49m -> \u001b[0m\u001b[32;49m24.0\u001b[0m\n",
      "\u001b[1m[\u001b[0m\u001b[34;49mnotice\u001b[0m\u001b[1;39;49m]\u001b[0m\u001b[39;49m To update, run: \u001b[0m\u001b[32;49mpip install --upgrade pip\u001b[0m\n",
      "Note: you may need to restart the kernel to use updated packages.\n"
     ]
    }
   ],
   "source": [
    "pip install -r ../../requirements.txt"
   ]
  },
  {
   "cell_type": "code",
   "execution_count": 2,
   "metadata": {},
   "outputs": [],
   "source": [
    "import ezkl\n",
    "import torch\n",
    "from torch import nn\n",
    "import json\n",
    "import os\n",
    "import time\n",
    "import scipy\n",
    "import numpy as np\n",
    "import matplotlib.pyplot as plt\n",
    "import statistics\n",
    "import math"
   ]
  },
  {
   "cell_type": "code",
   "execution_count": 3,
   "metadata": {},
   "outputs": [],
   "source": [
    "%run -i ../../zkstats/core.py"
   ]
  },
  {
   "cell_type": "code",
   "execution_count": 4,
   "metadata": {},
   "outputs": [],
   "source": [
    "# init path\n",
    "os.makedirs(os.path.dirname('shared/'), exist_ok=True)\n",
    "os.makedirs(os.path.dirname('prover/'), exist_ok=True)\n",
    "verifier_model_path = os.path.join('shared/verifier.onnx')\n",
    "prover_model_path = os.path.join('prover/prover.onnx')\n",
    "verifier_compiled_model_path = os.path.join('shared/verifier.compiled')\n",
    "prover_compiled_model_path = os.path.join('prover/prover.compiled')\n",
    "pk_path = os.path.join('shared/test.pk')\n",
    "vk_path = os.path.join('shared/test.vk')\n",
    "proof_path = os.path.join('shared/test.pf')\n",
    "settings_path = os.path.join('shared/settings.json')\n",
    "srs_path = os.path.join('shared/kzg.srs')\n",
    "witness_path = os.path.join('prover/witness.json')\n",
    "# this is private to prover since it contains actual data\n",
    "sel_data_path = os.path.join('prover/sel_data.json')\n",
    "# this is just dummy random value\n",
    "sel_dummy_data_path = os.path.join('shared/sel_dummy_data.json')"
   ]
  },
  {
   "attachments": {},
   "cell_type": "markdown",
   "metadata": {},
   "source": [
    "=======================  ZK-STATS FLOW ======================="
   ]
  },
  {
   "cell_type": "code",
   "execution_count": 5,
   "metadata": {},
   "outputs": [],
   "source": [
    "data_path = os.path.join('data.json')\n",
    "dummy_data_path = os.path.join('shared/dummy_data.json')\n",
    "create_dummy(data_path, dummy_data_path)"
   ]
  },
  {
   "cell_type": "code",
   "execution_count": 6,
   "metadata": {},
   "outputs": [],
   "source": [
    "scales = [2]\n",
    "selected_columns = ['col_name']\n",
    "commitment_maps = get_data_commitment_maps(data_path, scales)"
   ]
  },
  {
   "cell_type": "code",
   "execution_count": 7,
   "metadata": {},
   "outputs": [
    {
     "name": "stderr",
     "output_type": "stream",
     "text": [
      "/Users/mhchia/projects/work/pse/zk-stats-lib/zkstats/computation.py:166: TracerWarning: torch.tensor results are registered as constants in the trace. You can safely ignore this warning if you use this function to create tensors out of constant variables that would be the same every time you call this function. In any other case, this might cause the trace to be incorrect.\n",
      "  is_precise_aggregated = torch.tensor(1.0)\n",
      "/Users/mhchia/Library/Caches/pypoetry/virtualenvs/zkstats-brXmXluj-py3.12/lib/python3.12/site-packages/torch/onnx/symbolic_opset9.py:2174: FutureWarning: 'torch.onnx.symbolic_opset9._cast_Bool' is deprecated in version 2.0 and will be removed in the future. Please Avoid using this function and create a Cast node instead.\n",
      "  return fn(g, to_cast_func(g, input, False), to_cast_func(g, other, False))\n",
      "/Users/mhchia/Library/Caches/pypoetry/virtualenvs/zkstats-brXmXluj-py3.12/lib/python3.12/site-packages/torch/onnx/utils.py:1703: UserWarning: The exported ONNX model failed ONNX shape inference. The model will not be executable by the ONNX Runtime. If this is unintended and you believe there is a bug, please report an issue at https://github.com/pytorch/pytorch/issues. Error reported by strict ONNX shape inference: [ShapeInferenceError] (op_type:Where, node name: /Where): Y has inconsistent type tensor(double) (Triggered internally at /Users/runner/work/pytorch/pytorch/pytorch/torch/csrc/jit/serialization/export.cpp:1490.)\n",
      "  _C._check_onnx_proto(proto)\n"
     ]
    }
   ],
   "source": [
    "# Verifier/ data consumer side: send desired calculation\n",
    "from zkstats.computation import computation_to_model, State\n",
    "\n",
    "\n",
    "def computation(s: State, data: list[torch.Tensor]) -> torch.Tensor:\n",
    "    x = data[0]\n",
    "    # FIXME: should be replaced by `s.where` when it's available. Now the result may be incorrect\n",
    "    filter = (x > 5)\n",
    "    filtered_x = torch.where(filter, x, 0.0)\n",
    "    return s.stdev(filtered_x)\n",
    "\n",
    "error = 0.01\n",
    "_, verifier_model = computation_to_model(computation, error)\n",
    "\n",
    "verifier_define_calculation(dummy_data_path, selected_columns, sel_dummy_data_path,verifier_model, verifier_model_path)"
   ]
  },
  {
   "cell_type": "code",
   "execution_count": 8,
   "metadata": {},
   "outputs": [
    {
     "name": "stdout",
     "output_type": "stream",
     "text": [
      "==== Generate & Calibrate Setting ====\n",
      "scale:  [2]\n",
      "setting:  {\"run_args\":{\"tolerance\":{\"val\":0.0,\"scale\":1.0},\"input_scale\":2,\"param_scale\":2,\"scale_rebase_multiplier\":10,\"lookup_range\":[-40922,664],\"logrows\":16,\"num_inner_cols\":2,\"variables\":[[\"batch_size\",1]],\"input_visibility\":{\"Hashed\":{\"hash_is_public\":true,\"outlets\":[]}},\"output_visibility\":\"Public\",\"param_visibility\":\"Private\"},\"num_rows\":14432,\"total_assignments\":3919,\"total_const_size\":309,\"model_instance_shapes\":[[1],[1]],\"model_output_scales\":[0,2],\"model_input_scales\":[2],\"module_sizes\":{\"kzg\":[],\"poseidon\":[14432,[1]],\"elgamal\":[0,[0]]},\"required_lookups\":[\"Abs\",{\"GreaterThan\":{\"a\":0.0}}],\"check_mode\":\"UNSAFE\",\"version\":\"7.0.0\",\"num_blinding_factors\":null}\n"
     ]
    }
   ],
   "source": [
    "# Prover/ data owner side\n",
    "_, prover_model = computation_to_model(computation, error)\n",
    "\n",
    "prover_gen_settings(data_path, selected_columns, sel_data_path, prover_model, prover_model_path, scales, \"resources\", settings_path)"
   ]
  },
  {
   "cell_type": "code",
   "execution_count": 9,
   "metadata": {},
   "outputs": [
    {
     "name": "stderr",
     "output_type": "stream",
     "text": [
      "spawning module 0\n"
     ]
    },
    {
     "name": "stdout",
     "output_type": "stream",
     "text": [
      "==== setting up ezkl ====\n"
     ]
    },
    {
     "name": "stderr",
     "output_type": "stream",
     "text": [
      "spawning module 2\n",
      "spawning module 0\n",
      "spawning module 2\n"
     ]
    },
    {
     "name": "stdout",
     "output_type": "stream",
     "text": [
      "Time setup: 14.081051111221313 seconds\n",
      "=======================================\n",
      "==== Generating Witness ====\n",
      "witness boolean:  1.0\n",
      "witness result 1 : 14.75\n",
      "==== Generating Proof ====\n"
     ]
    },
    {
     "name": "stderr",
     "output_type": "stream",
     "text": [
      "spawning module 0\n",
      "spawning module 2\n"
     ]
    },
    {
     "name": "stdout",
     "output_type": "stream",
     "text": [
      "proof:  {'instances': [[[10537101196673941533, 17227541574925932677, 11187715152301828262, 1869164017182098189], [12436184717236109307, 3962172157175319849, 7381016538464732718, 1011752739694698287], [4944024074473963208, 53172020031966965, 6785527786944351863, 414441106336697639]]], 'proof': '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', 'transcript_type': 'EVM'}\n",
      "Time gen prf: 21.13408088684082 seconds\n"
     ]
    }
   ],
   "source": [
    "# Here verifier & prover can concurrently call setup since all params are public to get pk.\n",
    "# Here write as verifier function to emphasize that verifier must calculate its own vk to be sure\n",
    "setup(verifier_model_path, verifier_compiled_model_path, settings_path,vk_path, pk_path )\n",
    "\n",
    "print(\"=======================================\")\n",
    "# Prover generates proof\n",
    "prover_gen_proof(prover_model_path, sel_data_path, witness_path, prover_compiled_model_path, settings_path, proof_path, pk_path)"
   ]
  },
  {
   "cell_type": "code",
   "execution_count": 10,
   "metadata": {},
   "outputs": [
    {
     "name": "stdout",
     "output_type": "stream",
     "text": [
      "Verifier gets result: 14.75\n"
     ]
    }
   ],
   "source": [
    "# Verifier verifies\n",
    "res = verifier_verify(proof_path, settings_path, vk_path, selected_columns, commitment_maps)\n",
    "print(\"Verifier gets result:\", res)"
   ]
  }
 ],
 "metadata": {
  "kernelspec": {
   "display_name": "Python 3",
   "language": "python",
   "name": "python3"
  },
  "language_info": {
   "codemirror_mode": {
    "name": "ipython",
    "version": 3
   },
   "file_extension": ".py",
   "mimetype": "text/x-python",
   "name": "python",
   "nbconvert_exporter": "python",
   "pygments_lexer": "ipython3",
   "version": "3.12.1"
  },
  "orig_nbformat": 4
 },
 "nbformat": 4,
 "nbformat_minor": 2
}
