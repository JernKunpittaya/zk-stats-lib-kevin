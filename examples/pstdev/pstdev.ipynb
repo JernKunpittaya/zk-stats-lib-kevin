{
 "cells": [
  {
   "cell_type": "code",
   "execution_count": 1,
   "metadata": {},
   "outputs": [],
   "source": [
    "import ezkl\n",
    "import torch\n",
    "from torch import nn\n",
    "import json\n",
    "import os\n",
    "import time\n",
    "import scipy\n",
    "import numpy as np\n",
    "import matplotlib.pyplot as plt\n",
    "import statistics\n",
    "import math"
   ]
  },
  {
   "cell_type": "code",
   "execution_count": 2,
   "metadata": {},
   "outputs": [],
   "source": [
    "from zkstats.core import create_dummy, verifier_define_calculation, prover_gen_settings, setup, prover_gen_proof, verifier_verify, generate_data_commitment"
   ]
  },
  {
   "cell_type": "code",
   "execution_count": 3,
   "metadata": {},
   "outputs": [],
   "source": [
    "# init path\n",
    "os.makedirs(os.path.dirname('shared/'), exist_ok=True)\n",
    "os.makedirs(os.path.dirname('prover/'), exist_ok=True)\n",
    "verifier_model_path = os.path.join('shared/verifier.onnx')\n",
    "prover_model_path = os.path.join('prover/prover.onnx')\n",
    "verifier_compiled_model_path = os.path.join('shared/verifier.compiled')\n",
    "prover_compiled_model_path = os.path.join('prover/prover.compiled')\n",
    "pk_path = os.path.join('shared/test.pk')\n",
    "vk_path = os.path.join('shared/test.vk')\n",
    "proof_path = os.path.join('shared/test.pf')\n",
    "settings_path = os.path.join('shared/settings.json')\n",
    "srs_path = os.path.join('shared/kzg.srs')\n",
    "witness_path = os.path.join('prover/witness.json')\n",
    "# this is private to prover since it contains actual data\n",
    "sel_data_path = os.path.join('prover/sel_data.json')\n",
    "# this is just dummy random value\n",
    "sel_dummy_data_path = os.path.join('shared/sel_dummy_data.json')\n",
    "data_commitment_path = os.path.join('shared/data_commitment.json')"
   ]
  },
  {
   "attachments": {},
   "cell_type": "markdown",
   "metadata": {},
   "source": [
    "=======================  ZK-STATS FLOW ======================="
   ]
  },
  {
   "cell_type": "code",
   "execution_count": 4,
   "metadata": {},
   "outputs": [],
   "source": [
    "data_path = os.path.join('data.json')\n",
    "dummy_data_path = os.path.join('shared/dummy_data.json')\n",
    "create_dummy(data_path, dummy_data_path)"
   ]
  },
  {
   "cell_type": "code",
   "execution_count": 5,
   "metadata": {},
   "outputs": [],
   "source": [
    "scales = [3]\n",
    "selected_columns = ['col_name']\n",
    "generate_data_commitment(data_path, scales, data_commitment_path)"
   ]
  },
  {
   "cell_type": "code",
   "execution_count": 6,
   "metadata": {},
   "outputs": [
    {
     "name": "stderr",
     "output_type": "stream",
     "text": [
      "/Users/jernkun/Desktop/zk-stats-lib/zkstats/computation.py:172: TracerWarning: torch.tensor results are registered as constants in the trace. You can safely ignore this warning if you use this function to create tensors out of constant variables that would be the same every time you call this function. In any other case, this might cause the trace to be incorrect.\n",
      "  is_precise_aggregated = torch.tensor(1.0)\n",
      "/Users/jernkun/Library/Caches/pypoetry/virtualenvs/zkstats-OJpceffF-py3.11/lib/python3.11/site-packages/torch/onnx/symbolic_opset9.py:2174: FutureWarning: 'torch.onnx.symbolic_opset9._cast_Bool' is deprecated in version 2.0 and will be removed in the future. Please Avoid using this function and create a Cast node instead.\n",
      "  return fn(g, to_cast_func(g, input, False), to_cast_func(g, other, False))\n",
      "/Users/jernkun/Library/Caches/pypoetry/virtualenvs/zkstats-OJpceffF-py3.11/lib/python3.11/site-packages/torch/onnx/utils.py:1703: UserWarning: The exported ONNX model failed ONNX shape inference. The model will not be executable by the ONNX Runtime. If this is unintended and you believe there is a bug, please report an issue at https://github.com/pytorch/pytorch/issues. Error reported by strict ONNX shape inference: [ShapeInferenceError] (op_type:Where, node name: /Where): Y has inconsistent type tensor(float) (Triggered internally at /Users/runner/work/pytorch/pytorch/pytorch/torch/csrc/jit/serialization/export.cpp:1490.)\n",
      "  _C._check_onnx_proto(proto)\n"
     ]
    }
   ],
   "source": [
    "# Verifier/ data consumer side: send desired calculation\n",
    "from zkstats.computation import computation_to_model, State\n",
    "\n",
    "\n",
    "def computation(s: State, data: list[torch.Tensor]) -> torch.Tensor:\n",
    "    x = data[0]\n",
    "    return s.pstdev(x)\n",
    "\n",
    "error = 0.01\n",
    "_, verifier_model = computation_to_model(computation, error)\n",
    "\n",
    "verifier_define_calculation(dummy_data_path, selected_columns, sel_dummy_data_path, verifier_model, verifier_model_path)"
   ]
  },
  {
   "cell_type": "code",
   "execution_count": 7,
   "metadata": {},
   "outputs": [
    {
     "name": "stderr",
     "output_type": "stream",
     "text": [
      "\n",
      "\n",
      " <------------- Numerical Fidelity Report (input_scale: 3, param_scale: 3, scale_input_multiplier: 1) ------------->\n",
      "\n",
      "+-------------+--------------+-------------+-----------+----------------+------------------+---------------+---------------+--------------------+--------------------+------------------------+\n",
      "| mean_error  | median_error | max_error   | min_error | mean_abs_error | median_abs_error | max_abs_error | min_abs_error | mean_squared_error | mean_percent_error | mean_abs_percent_error |\n",
      "+-------------+--------------+-------------+-----------+----------------+------------------+---------------+---------------+--------------------+--------------------+------------------------+\n",
      "| 0.027862072 | 0.055724144  | 0.055724144 | 0         | 0.027862072    | 0.055724144      | 0.055724144   | 0             | 0.0015525902       | 0.001914166        | 0.001914166            |\n",
      "+-------------+--------------+-------------+-----------+----------------+------------------+---------------+---------------+--------------------+--------------------+------------------------+\n",
      "\n",
      "\n"
     ]
    },
    {
     "name": "stdout",
     "output_type": "stream",
     "text": [
      "==== Generate & Calibrate Setting ====\n",
      "scale:  [3]\n",
      "setting:  {\"run_args\":{\"tolerance\":{\"val\":0.0,\"scale\":1.0},\"input_scale\":3,\"param_scale\":3,\"scale_rebase_multiplier\":1,\"lookup_range\":[-20376,20400],\"logrows\":16,\"num_inner_cols\":2,\"variables\":[[\"batch_size\",1]],\"input_visibility\":{\"Hashed\":{\"hash_is_public\":true,\"outlets\":[]}},\"output_visibility\":\"Public\",\"param_visibility\":\"Private\",\"div_rebasing\":false,\"rebase_frac_zero_constants\":false,\"check_mode\":\"UNSAFE\"},\"num_rows\":14432,\"total_assignments\":9932,\"total_const_size\":2113,\"model_instance_shapes\":[[1],[1]],\"model_output_scales\":[0,3],\"model_input_scales\":[3],\"module_sizes\":{\"kzg\":[],\"poseidon\":[14432,[1]]},\"required_lookups\":[{\"GreaterThan\":{\"a\":0.0}},\"Abs\"],\"required_range_checks\":[[-4,4]],\"check_mode\":\"UNSAFE\",\"version\":\"9.1.0\",\"num_blinding_factors\":null,\"timestamp\":1709725506897}\n"
     ]
    }
   ],
   "source": [
    "# Prover/ data owner side\n",
    "_, prover_model = computation_to_model(computation, error)\n",
    "\n",
    "prover_gen_settings(data_path, selected_columns, sel_data_path, prover_model,prover_model_path, scales, \"resources\", settings_path)"
   ]
  },
  {
   "cell_type": "code",
   "execution_count": 8,
   "metadata": {},
   "outputs": [
    {
     "name": "stdout",
     "output_type": "stream",
     "text": [
      "==== setting up ezkl ====\n",
      "Time setup: 6.595102310180664 seconds\n",
      "=======================================\n",
      "==== Generating Witness ====\n",
      "witness boolean:  1.0\n",
      "witness result 1 : 14.5\n",
      "==== Generating Proof ====\n",
      "proof:  {'instances': [['d57f47950cdabf2cb79306e0f33e75726a2c2960806e902b0fc88d3ff949a108', '0100000000000000000000000000000000000000000000000000000000000000', '7400000000000000000000000000000000000000000000000000000000000000']], 'proof': '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', 'transcript_type': 'EVM'}\n",
      "Time gen prf: 8.113913774490356 seconds\n"
     ]
    }
   ],
   "source": [
    "# Here verifier & prover can concurrently call setup since all params are public to get pk.\n",
    "# Here write as verifier function to emphasize that verifier must calculate its own vk to be sure\n",
    "setup(verifier_model_path, verifier_compiled_model_path, settings_path,vk_path, pk_path )\n",
    "\n",
    "print(\"=======================================\")\n",
    "# Prover generates proof\n",
    "prover_gen_proof(prover_model_path, sel_data_path, witness_path, prover_compiled_model_path, settings_path, proof_path, pk_path)"
   ]
  },
  {
   "cell_type": "code",
   "execution_count": 9,
   "metadata": {},
   "outputs": [
    {
     "name": "stdout",
     "output_type": "stream",
     "text": [
      "Verifier gets result: [14.5]\n"
     ]
    }
   ],
   "source": [
    "# Verifier verifies\n",
    "res = verifier_verify(proof_path, settings_path, vk_path, selected_columns, data_commitment_path)\n",
    "print(\"Verifier gets result:\", res)"
   ]
  },
  {
   "cell_type": "code",
   "execution_count": null,
   "metadata": {},
   "outputs": [],
   "source": []
  }
 ],
 "metadata": {
  "kernelspec": {
   "display_name": "Python 3",
   "language": "python",
   "name": "python3"
  },
  "language_info": {
   "codemirror_mode": {
    "name": "ipython",
    "version": 3
   },
   "file_extension": ".py",
   "mimetype": "text/x-python",
   "name": "python",
   "nbconvert_exporter": "python",
   "pygments_lexer": "ipython3",
   "version": "3.11.4"
  },
  "orig_nbformat": 4
 },
 "nbformat": 4,
 "nbformat_minor": 2
}
