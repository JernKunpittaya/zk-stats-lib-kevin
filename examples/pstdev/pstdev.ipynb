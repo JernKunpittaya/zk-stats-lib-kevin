{
 "cells": [
  {
   "cell_type": "code",
   "execution_count": 1,
   "metadata": {},
   "outputs": [
    {
     "name": "stdout",
     "output_type": "stream",
     "text": [
      "Requirement already satisfied: ezkl==7.0.0 in /Users/mhchia/Library/Caches/pypoetry/virtualenvs/zkstats-brXmXluj-py3.12/lib/python3.12/site-packages (from -r ../../requirements.txt (line 1)) (7.0.0)\n",
      "Requirement already satisfied: torch in /Users/mhchia/Library/Caches/pypoetry/virtualenvs/zkstats-brXmXluj-py3.12/lib/python3.12/site-packages (from -r ../../requirements.txt (line 2)) (2.2.0)\n",
      "Requirement already satisfied: requests in /Users/mhchia/Library/Caches/pypoetry/virtualenvs/zkstats-brXmXluj-py3.12/lib/python3.12/site-packages (from -r ../../requirements.txt (line 3)) (2.31.0)\n",
      "Requirement already satisfied: scipy in /Users/mhchia/Library/Caches/pypoetry/virtualenvs/zkstats-brXmXluj-py3.12/lib/python3.12/site-packages (from -r ../../requirements.txt (line 4)) (1.12.0)\n",
      "Requirement already satisfied: numpy in /Users/mhchia/Library/Caches/pypoetry/virtualenvs/zkstats-brXmXluj-py3.12/lib/python3.12/site-packages (from -r ../../requirements.txt (line 5)) (1.26.3)\n",
      "Requirement already satisfied: matplotlib in /Users/mhchia/Library/Caches/pypoetry/virtualenvs/zkstats-brXmXluj-py3.12/lib/python3.12/site-packages (from -r ../../requirements.txt (line 6)) (3.8.2)\n",
      "Requirement already satisfied: statistics in /Users/mhchia/Library/Caches/pypoetry/virtualenvs/zkstats-brXmXluj-py3.12/lib/python3.12/site-packages (from -r ../../requirements.txt (line 7)) (1.0.3.5)\n",
      "Requirement already satisfied: onnx in /Users/mhchia/Library/Caches/pypoetry/virtualenvs/zkstats-brXmXluj-py3.12/lib/python3.12/site-packages (from -r ../../requirements.txt (line 8)) (1.15.0)\n",
      "Requirement already satisfied: filelock in /Users/mhchia/Library/Caches/pypoetry/virtualenvs/zkstats-brXmXluj-py3.12/lib/python3.12/site-packages (from torch->-r ../../requirements.txt (line 2)) (3.13.1)\n",
      "Requirement already satisfied: typing-extensions>=4.8.0 in /Users/mhchia/Library/Caches/pypoetry/virtualenvs/zkstats-brXmXluj-py3.12/lib/python3.12/site-packages (from torch->-r ../../requirements.txt (line 2)) (4.9.0)\n",
      "Requirement already satisfied: sympy in /Users/mhchia/Library/Caches/pypoetry/virtualenvs/zkstats-brXmXluj-py3.12/lib/python3.12/site-packages (from torch->-r ../../requirements.txt (line 2)) (1.12)\n",
      "Requirement already satisfied: networkx in /Users/mhchia/Library/Caches/pypoetry/virtualenvs/zkstats-brXmXluj-py3.12/lib/python3.12/site-packages (from torch->-r ../../requirements.txt (line 2)) (3.2.1)\n",
      "Requirement already satisfied: jinja2 in /Users/mhchia/Library/Caches/pypoetry/virtualenvs/zkstats-brXmXluj-py3.12/lib/python3.12/site-packages (from torch->-r ../../requirements.txt (line 2)) (3.1.3)\n",
      "Requirement already satisfied: fsspec in /Users/mhchia/Library/Caches/pypoetry/virtualenvs/zkstats-brXmXluj-py3.12/lib/python3.12/site-packages (from torch->-r ../../requirements.txt (line 2)) (2023.12.2)\n",
      "Requirement already satisfied: charset-normalizer<4,>=2 in /Users/mhchia/Library/Caches/pypoetry/virtualenvs/zkstats-brXmXluj-py3.12/lib/python3.12/site-packages (from requests->-r ../../requirements.txt (line 3)) (3.3.2)\n",
      "Requirement already satisfied: idna<4,>=2.5 in /Users/mhchia/Library/Caches/pypoetry/virtualenvs/zkstats-brXmXluj-py3.12/lib/python3.12/site-packages (from requests->-r ../../requirements.txt (line 3)) (3.6)\n",
      "Requirement already satisfied: urllib3<3,>=1.21.1 in /Users/mhchia/Library/Caches/pypoetry/virtualenvs/zkstats-brXmXluj-py3.12/lib/python3.12/site-packages (from requests->-r ../../requirements.txt (line 3)) (2.2.0)\n",
      "Requirement already satisfied: certifi>=2017.4.17 in /Users/mhchia/Library/Caches/pypoetry/virtualenvs/zkstats-brXmXluj-py3.12/lib/python3.12/site-packages (from requests->-r ../../requirements.txt (line 3)) (2024.2.2)\n",
      "Requirement already satisfied: contourpy>=1.0.1 in /Users/mhchia/Library/Caches/pypoetry/virtualenvs/zkstats-brXmXluj-py3.12/lib/python3.12/site-packages (from matplotlib->-r ../../requirements.txt (line 6)) (1.2.0)\n",
      "Requirement already satisfied: cycler>=0.10 in /Users/mhchia/Library/Caches/pypoetry/virtualenvs/zkstats-brXmXluj-py3.12/lib/python3.12/site-packages (from matplotlib->-r ../../requirements.txt (line 6)) (0.12.1)\n",
      "Requirement already satisfied: fonttools>=4.22.0 in /Users/mhchia/Library/Caches/pypoetry/virtualenvs/zkstats-brXmXluj-py3.12/lib/python3.12/site-packages (from matplotlib->-r ../../requirements.txt (line 6)) (4.47.2)\n",
      "Requirement already satisfied: kiwisolver>=1.3.1 in /Users/mhchia/Library/Caches/pypoetry/virtualenvs/zkstats-brXmXluj-py3.12/lib/python3.12/site-packages (from matplotlib->-r ../../requirements.txt (line 6)) (1.4.5)\n",
      "Requirement already satisfied: packaging>=20.0 in /Users/mhchia/Library/Caches/pypoetry/virtualenvs/zkstats-brXmXluj-py3.12/lib/python3.12/site-packages (from matplotlib->-r ../../requirements.txt (line 6)) (23.2)\n",
      "Requirement already satisfied: pillow>=8 in /Users/mhchia/Library/Caches/pypoetry/virtualenvs/zkstats-brXmXluj-py3.12/lib/python3.12/site-packages (from matplotlib->-r ../../requirements.txt (line 6)) (10.2.0)\n",
      "Requirement already satisfied: pyparsing>=2.3.1 in /Users/mhchia/Library/Caches/pypoetry/virtualenvs/zkstats-brXmXluj-py3.12/lib/python3.12/site-packages (from matplotlib->-r ../../requirements.txt (line 6)) (3.1.1)\n",
      "Requirement already satisfied: python-dateutil>=2.7 in /Users/mhchia/Library/Caches/pypoetry/virtualenvs/zkstats-brXmXluj-py3.12/lib/python3.12/site-packages (from matplotlib->-r ../../requirements.txt (line 6)) (2.8.2)\n",
      "Requirement already satisfied: docutils>=0.3 in /Users/mhchia/Library/Caches/pypoetry/virtualenvs/zkstats-brXmXluj-py3.12/lib/python3.12/site-packages (from statistics->-r ../../requirements.txt (line 7)) (0.20.1)\n",
      "Requirement already satisfied: protobuf>=3.20.2 in /Users/mhchia/Library/Caches/pypoetry/virtualenvs/zkstats-brXmXluj-py3.12/lib/python3.12/site-packages (from onnx->-r ../../requirements.txt (line 8)) (4.25.2)\n",
      "Requirement already satisfied: six>=1.5 in /Users/mhchia/Library/Caches/pypoetry/virtualenvs/zkstats-brXmXluj-py3.12/lib/python3.12/site-packages (from python-dateutil>=2.7->matplotlib->-r ../../requirements.txt (line 6)) (1.16.0)\n",
      "Requirement already satisfied: MarkupSafe>=2.0 in /Users/mhchia/Library/Caches/pypoetry/virtualenvs/zkstats-brXmXluj-py3.12/lib/python3.12/site-packages (from jinja2->torch->-r ../../requirements.txt (line 2)) (2.1.4)\n",
      "Requirement already satisfied: mpmath>=0.19 in /Users/mhchia/Library/Caches/pypoetry/virtualenvs/zkstats-brXmXluj-py3.12/lib/python3.12/site-packages (from sympy->torch->-r ../../requirements.txt (line 2)) (1.3.0)\n",
      "\n",
      "\u001b[1m[\u001b[0m\u001b[34;49mnotice\u001b[0m\u001b[1;39;49m]\u001b[0m\u001b[39;49m A new release of pip is available: \u001b[0m\u001b[31;49m23.3.1\u001b[0m\u001b[39;49m -> \u001b[0m\u001b[32;49m24.0\u001b[0m\n",
      "\u001b[1m[\u001b[0m\u001b[34;49mnotice\u001b[0m\u001b[1;39;49m]\u001b[0m\u001b[39;49m To update, run: \u001b[0m\u001b[32;49mpip install --upgrade pip\u001b[0m\n",
      "Note: you may need to restart the kernel to use updated packages.\n"
     ]
    }
   ],
   "source": [
    "pip install -r ../../requirements.txt"
   ]
  },
  {
   "cell_type": "code",
   "execution_count": 2,
   "metadata": {},
   "outputs": [],
   "source": [
    "import ezkl\n",
    "import torch\n",
    "from torch import nn\n",
    "import json\n",
    "import os\n",
    "import time\n",
    "import scipy\n",
    "import numpy as np\n",
    "import matplotlib.pyplot as plt\n",
    "import statistics\n",
    "import math"
   ]
  },
  {
   "cell_type": "code",
   "execution_count": 3,
   "metadata": {},
   "outputs": [],
   "source": [
    "%run -i ../../zkstats/core.py"
   ]
  },
  {
   "cell_type": "code",
   "execution_count": 4,
   "metadata": {},
   "outputs": [],
   "source": [
    "# init path\n",
    "os.makedirs(os.path.dirname('shared/'), exist_ok=True)\n",
    "os.makedirs(os.path.dirname('prover/'), exist_ok=True)\n",
    "verifier_model_path = os.path.join('shared/verifier.onnx')\n",
    "prover_model_path = os.path.join('prover/prover.onnx')\n",
    "verifier_compiled_model_path = os.path.join('shared/verifier.compiled')\n",
    "prover_compiled_model_path = os.path.join('prover/prover.compiled')\n",
    "pk_path = os.path.join('shared/test.pk')\n",
    "vk_path = os.path.join('shared/test.vk')\n",
    "proof_path = os.path.join('shared/test.pf')\n",
    "settings_path = os.path.join('shared/settings.json')\n",
    "srs_path = os.path.join('shared/kzg.srs')\n",
    "witness_path = os.path.join('prover/witness.json')\n",
    "# this is private to prover since it contains actual data\n",
    "sel_data_path = os.path.join('prover/sel_data.json')\n",
    "# this is just dummy random value\n",
    "sel_dummy_data_path = os.path.join('shared/sel_dummy_data.json')"
   ]
  },
  {
   "attachments": {},
   "cell_type": "markdown",
   "metadata": {},
   "source": [
    "=======================  ZK-STATS FLOW ======================="
   ]
  },
  {
   "cell_type": "code",
   "execution_count": 5,
   "metadata": {},
   "outputs": [],
   "source": [
    "data_path = os.path.join('data.json')\n",
    "dummy_data_path = os.path.join('shared/dummy_data.json')\n",
    "create_dummy(data_path, dummy_data_path)"
   ]
  },
  {
   "cell_type": "code",
   "execution_count": 6,
   "metadata": {},
   "outputs": [],
   "source": [
    "scales = [2]\n",
    "selected_columns = ['col_name']\n",
    "commitment_maps = get_data_commitment_maps(data_path, scales)"
   ]
  },
  {
   "cell_type": "code",
   "execution_count": 7,
   "metadata": {},
   "outputs": [
    {
     "name": "stderr",
     "output_type": "stream",
     "text": [
      "/Users/mhchia/projects/work/pse/zk-stats-lib/zkstats/computation.py:166: TracerWarning: torch.tensor results are registered as constants in the trace. You can safely ignore this warning if you use this function to create tensors out of constant variables that would be the same every time you call this function. In any other case, this might cause the trace to be incorrect.\n",
      "  is_precise_aggregated = torch.tensor(1.0)\n",
      "/Users/mhchia/Library/Caches/pypoetry/virtualenvs/zkstats-brXmXluj-py3.12/lib/python3.12/site-packages/torch/onnx/symbolic_opset9.py:2174: FutureWarning: 'torch.onnx.symbolic_opset9._cast_Bool' is deprecated in version 2.0 and will be removed in the future. Please Avoid using this function and create a Cast node instead.\n",
      "  return fn(g, to_cast_func(g, input, False), to_cast_func(g, other, False))\n"
     ]
    }
   ],
   "source": [
    "# Verifier/ data consumer side: send desired calculation\n",
    "from zkstats.computation import computation_to_model, State\n",
    "\n",
    "\n",
    "def computation(s: State, data: list[torch.Tensor]) -> torch.Tensor:\n",
    "    x = data[0]\n",
    "    return s.pstdev(x)\n",
    "\n",
    "error = 0.01\n",
    "_, verifier_model = computation_to_model(computation, error)\n",
    "\n",
    "verifier_define_calculation(dummy_data_path, selected_columns, sel_dummy_data_path, verifier_model, verifier_model_path)"
   ]
  },
  {
   "cell_type": "code",
   "execution_count": 8,
   "metadata": {},
   "outputs": [
    {
     "name": "stdout",
     "output_type": "stream",
     "text": [
      "==== Generate & Calibrate Setting ====\n",
      "scale:  [2]\n",
      "setting:  {\"run_args\":{\"tolerance\":{\"val\":0.0,\"scale\":1.0},\"input_scale\":2,\"param_scale\":2,\"scale_rebase_multiplier\":10,\"lookup_range\":[-40670,8],\"logrows\":16,\"num_inner_cols\":2,\"variables\":[[\"batch_size\",1]],\"input_visibility\":{\"Hashed\":{\"hash_is_public\":true,\"outlets\":[]}},\"output_visibility\":\"Public\",\"param_visibility\":\"Private\"},\"num_rows\":14432,\"total_assignments\":1522,\"total_const_size\":8,\"model_instance_shapes\":[[1],[1]],\"model_output_scales\":[0,2],\"model_input_scales\":[2],\"module_sizes\":{\"kzg\":[],\"poseidon\":[14432,[1]],\"elgamal\":[0,[0]]},\"required_lookups\":[\"Abs\",{\"GreaterThan\":{\"a\":0.0}}],\"check_mode\":\"UNSAFE\",\"version\":\"7.0.0\",\"num_blinding_factors\":null}\n"
     ]
    }
   ],
   "source": [
    "# Prover/ data owner side\n",
    "_, prover_model = computation_to_model(computation, error)\n",
    "\n",
    "prover_gen_settings(data_path, selected_columns, sel_data_path, prover_model,prover_model_path, scales, \"resources\", settings_path)"
   ]
  },
  {
   "cell_type": "code",
   "execution_count": 9,
   "metadata": {},
   "outputs": [
    {
     "name": "stderr",
     "output_type": "stream",
     "text": [
      "spawning module 0\n",
      "spawning module 2\n"
     ]
    },
    {
     "name": "stdout",
     "output_type": "stream",
     "text": [
      "==== setting up ezkl ====\n"
     ]
    },
    {
     "name": "stderr",
     "output_type": "stream",
     "text": [
      "spawning module 0\n",
      "spawning module 2\n"
     ]
    },
    {
     "name": "stdout",
     "output_type": "stream",
     "text": [
      "Time setup: 10.10023283958435 seconds\n",
      "=======================================\n",
      "==== Generating Witness ====\n",
      "witness boolean:  1.0\n",
      "witness result 1 : 14.5\n",
      "==== Generating Proof ====\n"
     ]
    },
    {
     "name": "stderr",
     "output_type": "stream",
     "text": [
      "spawning module 0\n",
      "spawning module 2\n"
     ]
    },
    {
     "name": "stdout",
     "output_type": "stream",
     "text": [
      "proof:  {'instances': [[[12907834141446617622, 16863260785082668294, 2215826187815521673, 2191547160659437828], [12436184717236109307, 3962172157175319849, 7381016538464732718, 1011752739694698287], [15846044116984004302, 17434658319873045084, 12685703199754313893, 2889686633444970017]]], 'proof': '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', 'transcript_type': 'EVM'}\n",
      "Time gen prf: 12.10996389389038 seconds\n"
     ]
    }
   ],
   "source": [
    "# Here verifier & prover can concurrently call setup since all params are public to get pk.\n",
    "# Here write as verifier function to emphasize that verifier must calculate its own vk to be sure\n",
    "setup(verifier_model_path, verifier_compiled_model_path, settings_path,vk_path, pk_path )\n",
    "\n",
    "print(\"=======================================\")\n",
    "# Prover generates proof\n",
    "prover_gen_proof(prover_model_path, sel_data_path, witness_path, prover_compiled_model_path, settings_path, proof_path, pk_path)"
   ]
  },
  {
   "cell_type": "code",
   "execution_count": 10,
   "metadata": {},
   "outputs": [
    {
     "name": "stdout",
     "output_type": "stream",
     "text": [
      "Verifier gets result: 14.5\n"
     ]
    }
   ],
   "source": [
    "# Verifier verifies\n",
    "res = verifier_verify(proof_path, settings_path, vk_path, selected_columns, commitment_maps)\n",
    "print(\"Verifier gets result:\", res)"
   ]
  }
 ],
 "metadata": {
  "kernelspec": {
   "display_name": "Python 3",
   "language": "python",
   "name": "python3"
  },
  "language_info": {
   "codemirror_mode": {
    "name": "ipython",
    "version": 3
   },
   "file_extension": ".py",
   "mimetype": "text/x-python",
   "name": "python",
   "nbconvert_exporter": "python",
   "pygments_lexer": "ipython3",
   "version": "3.12.1"
  },
  "orig_nbformat": 4
 },
 "nbformat": 4,
 "nbformat_minor": 2
}
