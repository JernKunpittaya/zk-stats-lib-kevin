{
 "cells": [
  {
   "cell_type": "code",
   "execution_count": 1,
   "metadata": {},
   "outputs": [
    {
     "name": "stdout",
     "output_type": "stream",
     "text": [
      "Requirement already satisfied: ezkl==5.0.8 in /Library/Frameworks/Python.framework/Versions/3.10/lib/python3.10/site-packages (from -r ../../requirements.txt (line 1)) (5.0.8)\n",
      "Requirement already satisfied: torch in /Library/Frameworks/Python.framework/Versions/3.10/lib/python3.10/site-packages (from -r ../../requirements.txt (line 2)) (2.1.1)\n",
      "Requirement already satisfied: requests in /Library/Frameworks/Python.framework/Versions/3.10/lib/python3.10/site-packages (from -r ../../requirements.txt (line 3)) (2.31.0)\n",
      "Requirement already satisfied: scipy in /Library/Frameworks/Python.framework/Versions/3.10/lib/python3.10/site-packages (from -r ../../requirements.txt (line 4)) (1.11.4)\n",
      "Requirement already satisfied: numpy in /Library/Frameworks/Python.framework/Versions/3.10/lib/python3.10/site-packages (from -r ../../requirements.txt (line 5)) (1.26.2)\n",
      "Requirement already satisfied: matplotlib in /Library/Frameworks/Python.framework/Versions/3.10/lib/python3.10/site-packages (from -r ../../requirements.txt (line 6)) (3.8.2)\n",
      "Requirement already satisfied: statistics in /Library/Frameworks/Python.framework/Versions/3.10/lib/python3.10/site-packages (from -r ../../requirements.txt (line 7)) (1.0.3.5)\n",
      "Requirement already satisfied: onnx in /Library/Frameworks/Python.framework/Versions/3.10/lib/python3.10/site-packages (from -r ../../requirements.txt (line 8)) (1.15.0)\n",
      "Requirement already satisfied: filelock in /Library/Frameworks/Python.framework/Versions/3.10/lib/python3.10/site-packages (from torch->-r ../../requirements.txt (line 2)) (3.13.1)\n",
      "Requirement already satisfied: networkx in /Library/Frameworks/Python.framework/Versions/3.10/lib/python3.10/site-packages (from torch->-r ../../requirements.txt (line 2)) (3.2.1)\n",
      "Requirement already satisfied: fsspec in /Library/Frameworks/Python.framework/Versions/3.10/lib/python3.10/site-packages (from torch->-r ../../requirements.txt (line 2)) (2023.10.0)\n",
      "Requirement already satisfied: sympy in /Library/Frameworks/Python.framework/Versions/3.10/lib/python3.10/site-packages (from torch->-r ../../requirements.txt (line 2)) (1.12)\n",
      "Requirement already satisfied: typing-extensions in /Library/Frameworks/Python.framework/Versions/3.10/lib/python3.10/site-packages (from torch->-r ../../requirements.txt (line 2)) (4.8.0)\n",
      "Requirement already satisfied: jinja2 in /Library/Frameworks/Python.framework/Versions/3.10/lib/python3.10/site-packages (from torch->-r ../../requirements.txt (line 2)) (3.1.2)\n",
      "Requirement already satisfied: urllib3<3,>=1.21.1 in /Library/Frameworks/Python.framework/Versions/3.10/lib/python3.10/site-packages (from requests->-r ../../requirements.txt (line 3)) (2.1.0)\n",
      "Requirement already satisfied: certifi>=2017.4.17 in /Library/Frameworks/Python.framework/Versions/3.10/lib/python3.10/site-packages (from requests->-r ../../requirements.txt (line 3)) (2023.11.17)\n",
      "Requirement already satisfied: charset-normalizer<4,>=2 in /Library/Frameworks/Python.framework/Versions/3.10/lib/python3.10/site-packages (from requests->-r ../../requirements.txt (line 3)) (3.3.2)\n",
      "Requirement already satisfied: idna<4,>=2.5 in /Library/Frameworks/Python.framework/Versions/3.10/lib/python3.10/site-packages (from requests->-r ../../requirements.txt (line 3)) (3.6)\n",
      "Requirement already satisfied: cycler>=0.10 in /Library/Frameworks/Python.framework/Versions/3.10/lib/python3.10/site-packages (from matplotlib->-r ../../requirements.txt (line 6)) (0.12.1)\n",
      "Requirement already satisfied: kiwisolver>=1.3.1 in /Library/Frameworks/Python.framework/Versions/3.10/lib/python3.10/site-packages (from matplotlib->-r ../../requirements.txt (line 6)) (1.4.5)\n",
      "Requirement already satisfied: fonttools>=4.22.0 in /Library/Frameworks/Python.framework/Versions/3.10/lib/python3.10/site-packages (from matplotlib->-r ../../requirements.txt (line 6)) (4.45.1)\n",
      "Requirement already satisfied: packaging>=20.0 in /Users/jernkun/Library/Python/3.10/lib/python/site-packages (from matplotlib->-r ../../requirements.txt (line 6)) (23.2)\n",
      "Requirement already satisfied: python-dateutil>=2.7 in /Users/jernkun/Library/Python/3.10/lib/python/site-packages (from matplotlib->-r ../../requirements.txt (line 6)) (2.8.2)\n",
      "Requirement already satisfied: contourpy>=1.0.1 in /Library/Frameworks/Python.framework/Versions/3.10/lib/python3.10/site-packages (from matplotlib->-r ../../requirements.txt (line 6)) (1.2.0)\n",
      "Requirement already satisfied: pillow>=8 in /Library/Frameworks/Python.framework/Versions/3.10/lib/python3.10/site-packages (from matplotlib->-r ../../requirements.txt (line 6)) (10.1.0)\n",
      "Requirement already satisfied: pyparsing>=2.3.1 in /Library/Frameworks/Python.framework/Versions/3.10/lib/python3.10/site-packages (from matplotlib->-r ../../requirements.txt (line 6)) (3.1.1)\n",
      "Requirement already satisfied: docutils>=0.3 in /Library/Frameworks/Python.framework/Versions/3.10/lib/python3.10/site-packages (from statistics->-r ../../requirements.txt (line 7)) (0.20.1)\n",
      "Requirement already satisfied: protobuf>=3.20.2 in /Library/Frameworks/Python.framework/Versions/3.10/lib/python3.10/site-packages (from onnx->-r ../../requirements.txt (line 8)) (4.25.1)\n",
      "Requirement already satisfied: six>=1.5 in /Users/jernkun/Library/Python/3.10/lib/python/site-packages (from python-dateutil>=2.7->matplotlib->-r ../../requirements.txt (line 6)) (1.16.0)\n",
      "Requirement already satisfied: MarkupSafe>=2.0 in /Library/Frameworks/Python.framework/Versions/3.10/lib/python3.10/site-packages (from jinja2->torch->-r ../../requirements.txt (line 2)) (2.1.3)\n",
      "Requirement already satisfied: mpmath>=0.19 in /Library/Frameworks/Python.framework/Versions/3.10/lib/python3.10/site-packages (from sympy->torch->-r ../../requirements.txt (line 2)) (1.3.0)\n",
      "\u001b[33mWARNING: You are using pip version 21.2.3; however, version 23.3.1 is available.\n",
      "You should consider upgrading via the '/usr/local/bin/python3 -m pip install --upgrade pip' command.\u001b[0m\n",
      "Note: you may need to restart the kernel to use updated packages.\n"
     ]
    }
   ],
   "source": [
    "pip install -r ../../requirements.txt"
   ]
  },
  {
   "cell_type": "code",
   "execution_count": 1,
   "metadata": {},
   "outputs": [],
   "source": [
    "import ezkl\n",
    "import torch\n",
    "from torch import nn\n",
    "import json\n",
    "import os\n",
    "import time\n",
    "import scipy\n",
    "import numpy as np\n",
    "import matplotlib.pyplot as plt\n",
    "import statistics\n",
    "import math"
   ]
  },
  {
   "cell_type": "code",
   "execution_count": 2,
   "metadata": {},
   "outputs": [],
   "source": [
    "%run -i ../../core.py"
   ]
  },
  {
   "cell_type": "code",
   "execution_count": 3,
   "metadata": {},
   "outputs": [],
   "source": [
    "# init path\n",
    "os.makedirs(os.path.dirname('shared/'), exist_ok=True)\n",
    "os.makedirs(os.path.dirname('prover/'), exist_ok=True)\n",
    "verifier_model_path = os.path.join('shared/verifier.onnx')\n",
    "prover_model_path = os.path.join('prover/prover.onnx')\n",
    "verifier_compiled_model_path = os.path.join('shared/verifier.compiled')\n",
    "prover_compiled_model_path = os.path.join('prover/prover.compiled')\n",
    "pk_path = os.path.join('shared/test.pk')\n",
    "vk_path = os.path.join('shared/test.vk')\n",
    "proof_path = os.path.join('shared/test.pf')\n",
    "settings_path = os.path.join('shared/settings.json')\n",
    "srs_path = os.path.join('shared/kzg.srs')\n",
    "witness_path = os.path.join('prover/witness.json')\n",
    "# this is private to prover since it contains actual data\n",
    "comb_data_path = os.path.join('prover/comb_data.json')"
   ]
  },
  {
   "attachments": {},
   "cell_type": "markdown",
   "metadata": {},
   "source": [
    "=======================  ZK-STATS FLOW ======================="
   ]
  },
  {
   "cell_type": "code",
   "execution_count": 4,
   "metadata": {},
   "outputs": [],
   "source": [
    "data_path = os.path.join('data.json')\n",
    "dummy_data_path = os.path.join('shared/dummy_data.json')\n",
    "\n",
    "f_raw_input = open(data_path, \"r\")\n",
    "data = json.loads(f_raw_input.read())[\"input_data\"][0]\n",
    "data_tensor = torch.reshape(torch.tensor(data),(1, len(data), 1))\n",
    "\n",
    "#  dummy data for data consumer: make the bound approx same as real data\n",
    "dummy_data = np.random.uniform(min(data), max(data), len(data))\n",
    "json.dump({\"input_data\":[dummy_data.tolist()]}, open(dummy_data_path, 'w'))\n",
    "\n",
    "dummy_data_tensor = torch.reshape(torch.tensor(dummy_data), (1, len(dummy_data),1 ))\n",
    "dummy_theory_output = torch.sqrt(torch.var(dummy_data_tensor, correction = 0))\n",
    "dummy_data_mean = torch.mean(dummy_data_tensor)"
   ]
  },
  {
   "cell_type": "code",
   "execution_count": 5,
   "metadata": {},
   "outputs": [
    {
     "name": "stderr",
     "output_type": "stream",
     "text": [
      "/Library/Frameworks/Python.framework/Versions/3.10/lib/python3.10/site-packages/torch/onnx/symbolic_opset9.py:2174: FutureWarning: 'torch.onnx.symbolic_opset9._cast_Bool' is deprecated in version 2.0 and will be removed in the future. Please Avoid using this function and create a Cast node instead.\n",
      "  return fn(g, to_cast_func(g, input, False), to_cast_func(g, other, False))\n"
     ]
    }
   ],
   "source": [
    "# Verifier/ data consumer side:\n",
    "class verifier_model(nn.Module):\n",
    "    def __init__(self):\n",
    "        super(verifier_model, self).__init__()\n",
    "        # w represents mean in this case\n",
    "        self.w = nn.Parameter(data = dummy_theory_output, requires_grad = False)\n",
    "        self.data_mean = nn.Parameter(data = dummy_data_mean, requires_grad = False)\n",
    "\n",
    "    def forward(self,X):\n",
    "        # some expression of tolerance to error in the inference\n",
    "        x_mean_cons = torch.abs(torch.sum(X)-X.size()[1]*(self.data_mean))<0.01*X.size()[1]*(self.data_mean)\n",
    "        # since we square\n",
    "        return (torch.logical_and(torch.abs(torch.sum((X-self.data_mean)*(X-self.data_mean))-self.w*self.w*X.size()[1])<0.02*self.w*self.w*X.size()[1],x_mean_cons ),self.w)\n",
    "\n",
    "        # return (torch.logical_and(torch.abs(torch.sqrt(torch.sum((X-self.data_mean)*(X-self.data_mean)))-self.w*torch.sqrt(X.size()[1]))<0.01*self.w*torch.sqrt(X.size()[1]),x_mean_cons ),self.w)\n",
    "verifier_define_calculation(verifier_model, verifier_model_path, [dummy_data_path])"
   ]
  },
  {
   "cell_type": "code",
   "execution_count": 6,
   "metadata": {},
   "outputs": [
    {
     "name": "stdout",
     "output_type": "stream",
     "text": [
      "theory output:  tensor(14.5557)\n",
      "==== Generate & Calibrate Setting ====\n",
      "scale:  [0]\n",
      "setting:  {\"run_args\":{\"tolerance\":{\"val\":0.0,\"scale\":1.0},\"input_scale\":0,\"param_scale\":0,\"scale_rebase_multiplier\":10,\"lookup_range\":[0,2542],\"logrows\":14,\"num_inner_cols\":1,\"variables\":[[\"batch_size\",1]],\"input_visibility\":{\"Hashed\":{\"hash_is_public\":true,\"outlets\":[]}},\"output_visibility\":\"Public\",\"param_visibility\":\"Private\"},\"num_rows\":14432,\"total_assignments\":1512,\"total_const_size\":0,\"model_instance_shapes\":[[1],[1]],\"model_output_scales\":[0,0],\"model_input_scales\":[0],\"module_sizes\":{\"kzg\":[],\"poseidon\":[14432,[1]],\"elgamal\":[0,[0]]},\"required_lookups\":[\"Abs\",{\"GreaterThan\":{\"a\":0.0}}],\"check_mode\":\"UNSAFE\",\"version\":\"5.0.8\",\"num_blinding_factors\":null}\n"
     ]
    }
   ],
   "source": [
    "# Prover/ data owner side\n",
    "theory_output = torch.sqrt(torch.var(data_tensor, correction = 0))\n",
    "data_mean = torch.mean(data_tensor)\n",
    "print(\"theory output: \", theory_output)\n",
    "class prover_model(nn.Module):\n",
    "    def __init__(self):\n",
    "        super(prover_model, self).__init__()\n",
    "        # w represents mean in this case\n",
    "        self.w = nn.Parameter(data = theory_output, requires_grad = False)\n",
    "        self.data_mean = nn.Parameter(data = data_mean, requires_grad = False)\n",
    "    def forward(self,X):\n",
    "        # some expression of tolerance to error in the inference\n",
    "        x_mean_cons = torch.abs(torch.sum(X)-X.size()[1]*(self.data_mean))<0.01*X.size()[1]*(self.data_mean)\n",
    "        # since we square\n",
    "        return (torch.logical_and(torch.abs(torch.sum((X-self.data_mean)*(X-self.data_mean))-self.w*self.w*X.size()[1])<0.02*self.w*self.w*X.size()[1],x_mean_cons ),self.w)\n",
    "        # return (torch.logical_and(torch.abs(torch.sqrt(torch.sum((X-self.data_mean)*(X-self.data_mean)))-self.w*torch.sqrt(X.size()[1]))<0.01*self.w*torch.sqrt(X.size()[1]),x_mean_cons ),self.w)\n",
    "prover_gen_settings([data_path], comb_data_path, prover_model,prover_model_path, [0], \"resources\", settings_path)"
   ]
  },
  {
   "cell_type": "code",
   "execution_count": 7,
   "metadata": {},
   "outputs": [
    {
     "name": "stderr",
     "output_type": "stream",
     "text": [
      "spawning module 0\n",
      "spawning module 2\n"
     ]
    },
    {
     "name": "stdout",
     "output_type": "stream",
     "text": [
      "==== setting up ezkl ====\n"
     ]
    },
    {
     "name": "stderr",
     "output_type": "stream",
     "text": [
      "spawning module 0\n",
      "spawning module 2\n",
      "spawning module 0\n"
     ]
    },
    {
     "name": "stdout",
     "output_type": "stream",
     "text": [
      "Time setup: 1.2592887878417969 seconds\n",
      "=======================================\n",
      "Theory output:  tensor(14.5557)\n",
      "==== Generating Witness ====\n",
      "witness boolean:  1.0\n",
      "witness result 1 : 15.0\n",
      "==== Generating Proof ====\n"
     ]
    },
    {
     "name": "stderr",
     "output_type": "stream",
     "text": [
      "spawning module 2\n"
     ]
    },
    {
     "name": "stdout",
     "output_type": "stream",
     "text": [
      "proof:  {'instances': [[[10512373747352303962, 11798585516934984832, 13421675179368312123, 2200257403316998104], [12436184717236109307, 3962172157175319849, 7381016538464732718, 1011752739694698287], [956231351009279921, 10951436676983309100, 2250248050743556928, 1228298028208591648]]], 'proof': '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', 'transcript_type': 'EVM'}\n",
      "Time gen prf: 1.907270908355713 seconds\n"
     ]
    }
   ],
   "source": [
    "# Here verifier & prover can concurrently call setup since all params are public to get pk. \n",
    "# Here write as verifier function to emphasize that verifier must calculate its own vk to be sure\n",
    "verifier_setup(verifier_model_path, verifier_compiled_model_path, settings_path, srs_path,vk_path, pk_path )\n",
    "\n",
    "print(\"=======================================\")\n",
    "# Prover generates proof\n",
    "print(\"Theory output: \", theory_output)\n",
    "prover_gen_proof(prover_model_path, comb_data_path, witness_path, prover_compiled_model_path, settings_path, proof_path, pk_path, srs_path)"
   ]
  },
  {
   "cell_type": "code",
   "execution_count": 8,
   "metadata": {},
   "outputs": [
    {
     "name": "stdout",
     "output_type": "stream",
     "text": [
      "num_inputs:  1\n",
      "prf instances:  [[[10512373747352303962, 11798585516934984832, 13421675179368312123, 2200257403316998104], [12436184717236109307, 3962172157175319849, 7381016538464732718, 1011752739694698287], [956231351009279921, 10951436676983309100, 2250248050743556928, 1228298028208591648]]]\n",
      "proof boolean:  1.0\n",
      "proof result 1 : 15.0\n",
      "verified\n"
     ]
    }
   ],
   "source": [
    "# Verifier verifies\n",
    "verifier_verify(proof_path, settings_path, vk_path, srs_path)"
   ]
  },
  {
   "cell_type": "code",
   "execution_count": null,
   "metadata": {},
   "outputs": [],
   "source": []
  }
 ],
 "metadata": {
  "kernelspec": {
   "display_name": "Python 3",
   "language": "python",
   "name": "python3"
  },
  "language_info": {
   "codemirror_mode": {
    "name": "ipython",
    "version": 3
   },
   "file_extension": ".py",
   "mimetype": "text/x-python",
   "name": "python",
   "nbconvert_exporter": "python",
   "pygments_lexer": "ipython3",
   "version": "3.10.0"
  },
  "orig_nbformat": 4
 },
 "nbformat": 4,
 "nbformat_minor": 2
}
