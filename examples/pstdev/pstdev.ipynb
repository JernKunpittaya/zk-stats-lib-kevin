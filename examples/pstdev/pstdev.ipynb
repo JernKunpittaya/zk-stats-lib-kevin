{
 "cells": [
  {
   "cell_type": "code",
   "execution_count": 1,
   "metadata": {},
   "outputs": [
    {
     "name": "stdout",
     "output_type": "stream",
     "text": [
      "Requirement already satisfied: ezkl==5.0.8 in /Library/Frameworks/Python.framework/Versions/3.10/lib/python3.10/site-packages (from -r ../../requirements.txt (line 1)) (5.0.8)\n",
      "Requirement already satisfied: torch in /Library/Frameworks/Python.framework/Versions/3.10/lib/python3.10/site-packages (from -r ../../requirements.txt (line 2)) (2.1.1)\n",
      "Requirement already satisfied: requests in /Library/Frameworks/Python.framework/Versions/3.10/lib/python3.10/site-packages (from -r ../../requirements.txt (line 3)) (2.31.0)\n",
      "Requirement already satisfied: scipy in /Library/Frameworks/Python.framework/Versions/3.10/lib/python3.10/site-packages (from -r ../../requirements.txt (line 4)) (1.11.4)\n",
      "Requirement already satisfied: numpy in /Library/Frameworks/Python.framework/Versions/3.10/lib/python3.10/site-packages (from -r ../../requirements.txt (line 5)) (1.26.2)\n",
      "Requirement already satisfied: matplotlib in /Library/Frameworks/Python.framework/Versions/3.10/lib/python3.10/site-packages (from -r ../../requirements.txt (line 6)) (3.8.2)\n",
      "Requirement already satisfied: statistics in /Library/Frameworks/Python.framework/Versions/3.10/lib/python3.10/site-packages (from -r ../../requirements.txt (line 7)) (1.0.3.5)\n",
      "Requirement already satisfied: onnx in /Library/Frameworks/Python.framework/Versions/3.10/lib/python3.10/site-packages (from -r ../../requirements.txt (line 8)) (1.15.0)\n",
      "Requirement already satisfied: filelock in /Library/Frameworks/Python.framework/Versions/3.10/lib/python3.10/site-packages (from torch->-r ../../requirements.txt (line 2)) (3.13.1)\n",
      "Requirement already satisfied: networkx in /Library/Frameworks/Python.framework/Versions/3.10/lib/python3.10/site-packages (from torch->-r ../../requirements.txt (line 2)) (3.2.1)\n",
      "Requirement already satisfied: fsspec in /Library/Frameworks/Python.framework/Versions/3.10/lib/python3.10/site-packages (from torch->-r ../../requirements.txt (line 2)) (2023.10.0)\n",
      "Requirement already satisfied: sympy in /Library/Frameworks/Python.framework/Versions/3.10/lib/python3.10/site-packages (from torch->-r ../../requirements.txt (line 2)) (1.12)\n",
      "Requirement already satisfied: typing-extensions in /Library/Frameworks/Python.framework/Versions/3.10/lib/python3.10/site-packages (from torch->-r ../../requirements.txt (line 2)) (4.8.0)\n",
      "Requirement already satisfied: jinja2 in /Library/Frameworks/Python.framework/Versions/3.10/lib/python3.10/site-packages (from torch->-r ../../requirements.txt (line 2)) (3.1.2)\n",
      "Requirement already satisfied: urllib3<3,>=1.21.1 in /Library/Frameworks/Python.framework/Versions/3.10/lib/python3.10/site-packages (from requests->-r ../../requirements.txt (line 3)) (2.1.0)\n",
      "Requirement already satisfied: certifi>=2017.4.17 in /Library/Frameworks/Python.framework/Versions/3.10/lib/python3.10/site-packages (from requests->-r ../../requirements.txt (line 3)) (2023.11.17)\n",
      "Requirement already satisfied: charset-normalizer<4,>=2 in /Library/Frameworks/Python.framework/Versions/3.10/lib/python3.10/site-packages (from requests->-r ../../requirements.txt (line 3)) (3.3.2)\n",
      "Requirement already satisfied: idna<4,>=2.5 in /Library/Frameworks/Python.framework/Versions/3.10/lib/python3.10/site-packages (from requests->-r ../../requirements.txt (line 3)) (3.6)\n",
      "Requirement already satisfied: cycler>=0.10 in /Library/Frameworks/Python.framework/Versions/3.10/lib/python3.10/site-packages (from matplotlib->-r ../../requirements.txt (line 6)) (0.12.1)\n",
      "Requirement already satisfied: kiwisolver>=1.3.1 in /Library/Frameworks/Python.framework/Versions/3.10/lib/python3.10/site-packages (from matplotlib->-r ../../requirements.txt (line 6)) (1.4.5)\n",
      "Requirement already satisfied: fonttools>=4.22.0 in /Library/Frameworks/Python.framework/Versions/3.10/lib/python3.10/site-packages (from matplotlib->-r ../../requirements.txt (line 6)) (4.45.1)\n",
      "Requirement already satisfied: packaging>=20.0 in /Users/jernkun/Library/Python/3.10/lib/python/site-packages (from matplotlib->-r ../../requirements.txt (line 6)) (23.2)\n",
      "Requirement already satisfied: python-dateutil>=2.7 in /Users/jernkun/Library/Python/3.10/lib/python/site-packages (from matplotlib->-r ../../requirements.txt (line 6)) (2.8.2)\n",
      "Requirement already satisfied: contourpy>=1.0.1 in /Library/Frameworks/Python.framework/Versions/3.10/lib/python3.10/site-packages (from matplotlib->-r ../../requirements.txt (line 6)) (1.2.0)\n",
      "Requirement already satisfied: pillow>=8 in /Library/Frameworks/Python.framework/Versions/3.10/lib/python3.10/site-packages (from matplotlib->-r ../../requirements.txt (line 6)) (10.1.0)\n",
      "Requirement already satisfied: pyparsing>=2.3.1 in /Library/Frameworks/Python.framework/Versions/3.10/lib/python3.10/site-packages (from matplotlib->-r ../../requirements.txt (line 6)) (3.1.1)\n",
      "Requirement already satisfied: docutils>=0.3 in /Library/Frameworks/Python.framework/Versions/3.10/lib/python3.10/site-packages (from statistics->-r ../../requirements.txt (line 7)) (0.20.1)\n",
      "Requirement already satisfied: protobuf>=3.20.2 in /Library/Frameworks/Python.framework/Versions/3.10/lib/python3.10/site-packages (from onnx->-r ../../requirements.txt (line 8)) (4.25.1)\n",
      "Requirement already satisfied: six>=1.5 in /Users/jernkun/Library/Python/3.10/lib/python/site-packages (from python-dateutil>=2.7->matplotlib->-r ../../requirements.txt (line 6)) (1.16.0)\n",
      "Requirement already satisfied: MarkupSafe>=2.0 in /Library/Frameworks/Python.framework/Versions/3.10/lib/python3.10/site-packages (from jinja2->torch->-r ../../requirements.txt (line 2)) (2.1.3)\n",
      "Requirement already satisfied: mpmath>=0.19 in /Library/Frameworks/Python.framework/Versions/3.10/lib/python3.10/site-packages (from sympy->torch->-r ../../requirements.txt (line 2)) (1.3.0)\n",
      "\u001b[33mWARNING: You are using pip version 21.2.3; however, version 23.3.1 is available.\n",
      "You should consider upgrading via the '/usr/local/bin/python3 -m pip install --upgrade pip' command.\u001b[0m\n",
      "Note: you may need to restart the kernel to use updated packages.\n"
     ]
    }
   ],
   "source": [
    "pip install -r ../../requirements.txt"
   ]
  },
  {
   "cell_type": "code",
   "execution_count": 2,
   "metadata": {},
   "outputs": [],
   "source": [
    "import ezkl\n",
    "import torch\n",
    "from torch import nn\n",
    "import json\n",
    "import os\n",
    "import time\n",
    "import scipy\n",
    "import numpy as np\n",
    "import matplotlib.pyplot as plt\n",
    "import statistics\n",
    "import math"
   ]
  },
  {
   "cell_type": "code",
   "execution_count": 3,
   "metadata": {},
   "outputs": [],
   "source": [
    "%run -i ../../core.py"
   ]
  },
  {
   "cell_type": "code",
   "execution_count": 4,
   "metadata": {},
   "outputs": [],
   "source": [
    "# init path\n",
    "os.makedirs(os.path.dirname('shared/'), exist_ok=True)\n",
    "os.makedirs(os.path.dirname('prover/'), exist_ok=True)\n",
    "verifier_model_path = os.path.join('shared/verifier.onnx')\n",
    "prover_model_path = os.path.join('prover/prover.onnx')\n",
    "verifier_compiled_model_path = os.path.join('shared/verifier.compiled')\n",
    "prover_compiled_model_path = os.path.join('prover/prover.compiled')\n",
    "pk_path = os.path.join('shared/test.pk')\n",
    "vk_path = os.path.join('shared/test.vk')\n",
    "proof_path = os.path.join('shared/test.pf')\n",
    "settings_path = os.path.join('shared/settings.json')\n",
    "srs_path = os.path.join('shared/kzg.srs')\n",
    "witness_path = os.path.join('prover/witness.json')\n",
    "# this is private to prover since it contains actual data\n",
    "comb_data_path = os.path.join('prover/comb_data.json')"
   ]
  },
  {
   "attachments": {},
   "cell_type": "markdown",
   "metadata": {},
   "source": [
    "=======================  ZK-STATS FLOW ======================="
   ]
  },
  {
   "cell_type": "code",
   "execution_count": 5,
   "metadata": {},
   "outputs": [],
   "source": [
    "data_path = os.path.join('data.json')\n",
    "dummy_data_path = os.path.join('shared/dummy_data.json')\n",
    "\n",
    "f_raw_input = open(data_path, \"r\")\n",
    "data = json.loads(f_raw_input.read())[\"input_data\"][0]\n",
    "data_tensor = torch.reshape(torch.tensor(data),(1, len(data), 1))\n",
    "\n",
    "#  dummy data for data consumer: make the bound approx same as real data\n",
    "dummy_data = np.random.uniform(min(data), max(data), len(data))\n",
    "json.dump({\"input_data\":[dummy_data.tolist()]}, open(dummy_data_path, 'w'))\n",
    "\n",
    "dummy_data_tensor = torch.reshape(torch.tensor(dummy_data), (1, len(dummy_data),1 ))\n",
    "dummy_theory_output = torch.sqrt(torch.var(dummy_data_tensor, correction = 0))\n",
    "dummy_data_mean = torch.mean(dummy_data_tensor)"
   ]
  },
  {
   "cell_type": "code",
   "execution_count": 6,
   "metadata": {},
   "outputs": [
    {
     "name": "stderr",
     "output_type": "stream",
     "text": [
      "/Library/Frameworks/Python.framework/Versions/3.10/lib/python3.10/site-packages/torch/onnx/symbolic_opset9.py:2174: FutureWarning: 'torch.onnx.symbolic_opset9._cast_Bool' is deprecated in version 2.0 and will be removed in the future. Please Avoid using this function and create a Cast node instead.\n",
      "  return fn(g, to_cast_func(g, input, False), to_cast_func(g, other, False))\n"
     ]
    }
   ],
   "source": [
    "# Verifier/ data consumer side:\n",
    "class verifier_model(nn.Module):\n",
    "    def __init__(self):\n",
    "        super(verifier_model, self).__init__()\n",
    "        # w represents mean in this case\n",
    "        self.w = nn.Parameter(data = dummy_theory_output, requires_grad = False)\n",
    "        self.data_mean = nn.Parameter(data = dummy_data_mean, requires_grad = False)\n",
    "\n",
    "    def forward(self,X):\n",
    "        # some expression of tolerance to error in the inference\n",
    "        x_mean_cons = torch.abs(torch.sum(X)-X.size()[1]*(self.data_mean))<0.01*X.size()[1]*(self.data_mean)\n",
    "        return (torch.logical_and(torch.abs(torch.sum((X-self.data_mean)*(X-self.data_mean))-self.w*self.w*X.size()[1])<0.01*self.w*self.w*X.size()[1],x_mean_cons ),self.w)\n",
    "\n",
    "\n",
    "verifier_define_calculation(verifier_model, verifier_model_path, [dummy_data_path])"
   ]
  },
  {
   "cell_type": "code",
   "execution_count": 7,
   "metadata": {},
   "outputs": [
    {
     "name": "stdout",
     "output_type": "stream",
     "text": [
      "theory output:  tensor(14.5557)\n",
      "==== Generate & Calibrate Setting ====\n",
      "scale:  [0]\n",
      "setting:  {\"run_args\":{\"tolerance\":{\"val\":0.0,\"scale\":1.0},\"input_scale\":0,\"param_scale\":0,\"scale_rebase_multiplier\":10,\"lookup_range\":[0,1272],\"logrows\":14,\"num_inner_cols\":1,\"variables\":[[\"batch_size\",1]],\"input_visibility\":{\"Hashed\":{\"hash_is_public\":true,\"outlets\":[]}},\"output_visibility\":\"Public\",\"param_visibility\":\"Private\"},\"num_rows\":14432,\"total_assignments\":1512,\"total_const_size\":0,\"model_instance_shapes\":[[1],[1]],\"model_output_scales\":[0,0],\"model_input_scales\":[0],\"module_sizes\":{\"kzg\":[],\"poseidon\":[14432,[1]],\"elgamal\":[0,[0]]},\"required_lookups\":[\"Abs\",{\"GreaterThan\":{\"a\":0.0}}],\"check_mode\":\"UNSAFE\",\"version\":\"5.0.8\",\"num_blinding_factors\":null}\n"
     ]
    }
   ],
   "source": [
    "# Prover/ data owner side\n",
    "theory_output = torch.sqrt(torch.var(data_tensor, correction = 0))\n",
    "data_mean = torch.mean(data_tensor)\n",
    "print(\"theory output: \", theory_output)\n",
    "class prover_model(nn.Module):\n",
    "    def __init__(self):\n",
    "        super(prover_model, self).__init__()\n",
    "        # w represents mean in this case\n",
    "        self.w = nn.Parameter(data = theory_output, requires_grad = False)\n",
    "        self.data_mean = nn.Parameter(data = data_mean, requires_grad = False)\n",
    "    def forward(self,X):\n",
    "        # some expression of tolerance to error in the inference\n",
    "        x_mean_cons = torch.abs(torch.sum(X)-X.size()[1]*(self.data_mean))<0.01*X.size()[1]*(self.data_mean)\n",
    "        return (torch.logical_and(torch.abs(torch.sum((X-self.data_mean)*(X-self.data_mean))-self.w*self.w*X.size()[1])<0.01*self.w*self.w*X.size()[1],x_mean_cons ),self.w)\n",
    "\n",
    "prover_gen_settings([data_path], comb_data_path, prover_model,prover_model_path, [0], \"resources\", settings_path)"
   ]
  },
  {
   "cell_type": "code",
   "execution_count": 8,
   "metadata": {},
   "outputs": [
    {
     "name": "stderr",
     "output_type": "stream",
     "text": [
      "spawning module 0\n",
      "spawning module 2\n"
     ]
    },
    {
     "name": "stdout",
     "output_type": "stream",
     "text": [
      "==== setting up ezkl ====\n"
     ]
    },
    {
     "name": "stderr",
     "output_type": "stream",
     "text": [
      "spawning module 0\n",
      "spawning module 2\n",
      "spawning module 0\n"
     ]
    },
    {
     "name": "stdout",
     "output_type": "stream",
     "text": [
      "Time setup: 1.334764003753662 seconds\n",
      "=======================================\n",
      "Theory output:  tensor(14.5557)\n",
      "==== Generating Witness ====\n",
      "witness boolean:  1.0\n",
      "witness result 1 : 15.0\n",
      "==== Generating Proof ====\n"
     ]
    },
    {
     "name": "stderr",
     "output_type": "stream",
     "text": [
      "spawning module 2\n"
     ]
    },
    {
     "name": "stdout",
     "output_type": "stream",
     "text": [
      "proof:  {'instances': [[[10512373747352303962, 11798585516934984832, 13421675179368312123, 2200257403316998104], [12436184717236109307, 3962172157175319849, 7381016538464732718, 1011752739694698287], [956231351009279921, 10951436676983309100, 2250248050743556928, 1228298028208591648]]], 'proof': '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', 'transcript_type': 'EVM'}\n",
      "Time gen prf: 1.896116018295288 seconds\n"
     ]
    }
   ],
   "source": [
    "# Here verifier & prover can concurrently call setup since all params are public to get pk. \n",
    "# Here write as verifier function to emphasize that verifier must calculate its own vk to be sure\n",
    "verifier_setup(verifier_model_path, verifier_compiled_model_path, settings_path, srs_path,vk_path, pk_path )\n",
    "\n",
    "print(\"=======================================\")\n",
    "# Prover generates proof\n",
    "print(\"Theory output: \", theory_output)\n",
    "prover_gen_proof(prover_model_path, comb_data_path, witness_path, prover_compiled_model_path, settings_path, proof_path, pk_path, srs_path)"
   ]
  },
  {
   "cell_type": "code",
   "execution_count": 9,
   "metadata": {},
   "outputs": [
    {
     "name": "stdout",
     "output_type": "stream",
     "text": [
      "num_inputs:  1\n",
      "prf instances:  [[[10512373747352303962, 11798585516934984832, 13421675179368312123, 2200257403316998104], [12436184717236109307, 3962172157175319849, 7381016538464732718, 1011752739694698287], [956231351009279921, 10951436676983309100, 2250248050743556928, 1228298028208591648]]]\n",
      "proof boolean:  1.0\n",
      "proof result 1 : 15.0\n",
      "verified\n"
     ]
    }
   ],
   "source": [
    "# Verifier verifies\n",
    "verifier_verify(proof_path, settings_path, vk_path, srs_path)"
   ]
  }
 ],
 "metadata": {
  "kernelspec": {
   "display_name": "Python 3",
   "language": "python",
   "name": "python3"
  },
  "language_info": {
   "codemirror_mode": {
    "name": "ipython",
    "version": 3
   },
   "file_extension": ".py",
   "mimetype": "text/x-python",
   "name": "python",
   "nbconvert_exporter": "python",
   "pygments_lexer": "ipython3",
   "version": "3.10.0"
  },
  "orig_nbformat": 4
 },
 "nbformat": 4,
 "nbformat_minor": 2
}
