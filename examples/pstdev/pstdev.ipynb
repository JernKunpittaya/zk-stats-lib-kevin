{
 "cells": [
  {
   "cell_type": "code",
   "execution_count": 1,
   "metadata": {},
   "outputs": [
    {
     "name": "stdout",
     "output_type": "stream",
     "text": [
      "Requirement already satisfied: ezkl==5.0.8 in /Library/Frameworks/Python.framework/Versions/3.10/lib/python3.10/site-packages (from -r ../../requirements.txt (line 1)) (5.0.8)\n",
      "Requirement already satisfied: torch in /Library/Frameworks/Python.framework/Versions/3.10/lib/python3.10/site-packages (from -r ../../requirements.txt (line 2)) (2.1.1)\n",
      "Requirement already satisfied: requests in /Library/Frameworks/Python.framework/Versions/3.10/lib/python3.10/site-packages (from -r ../../requirements.txt (line 3)) (2.31.0)\n",
      "Requirement already satisfied: scipy in /Library/Frameworks/Python.framework/Versions/3.10/lib/python3.10/site-packages (from -r ../../requirements.txt (line 4)) (1.11.4)\n",
      "Requirement already satisfied: numpy in /Library/Frameworks/Python.framework/Versions/3.10/lib/python3.10/site-packages (from -r ../../requirements.txt (line 5)) (1.26.2)\n",
      "Requirement already satisfied: matplotlib in /Library/Frameworks/Python.framework/Versions/3.10/lib/python3.10/site-packages (from -r ../../requirements.txt (line 6)) (3.8.2)\n",
      "Requirement already satisfied: statistics in /Library/Frameworks/Python.framework/Versions/3.10/lib/python3.10/site-packages (from -r ../../requirements.txt (line 7)) (1.0.3.5)\n",
      "Requirement already satisfied: onnx in /Library/Frameworks/Python.framework/Versions/3.10/lib/python3.10/site-packages (from -r ../../requirements.txt (line 8)) (1.15.0)\n",
      "Requirement already satisfied: filelock in /Library/Frameworks/Python.framework/Versions/3.10/lib/python3.10/site-packages (from torch->-r ../../requirements.txt (line 2)) (3.13.1)\n",
      "Requirement already satisfied: networkx in /Library/Frameworks/Python.framework/Versions/3.10/lib/python3.10/site-packages (from torch->-r ../../requirements.txt (line 2)) (3.2.1)\n",
      "Requirement already satisfied: fsspec in /Library/Frameworks/Python.framework/Versions/3.10/lib/python3.10/site-packages (from torch->-r ../../requirements.txt (line 2)) (2023.10.0)\n",
      "Requirement already satisfied: sympy in /Library/Frameworks/Python.framework/Versions/3.10/lib/python3.10/site-packages (from torch->-r ../../requirements.txt (line 2)) (1.12)\n",
      "Requirement already satisfied: typing-extensions in /Library/Frameworks/Python.framework/Versions/3.10/lib/python3.10/site-packages (from torch->-r ../../requirements.txt (line 2)) (4.8.0)\n",
      "Requirement already satisfied: jinja2 in /Library/Frameworks/Python.framework/Versions/3.10/lib/python3.10/site-packages (from torch->-r ../../requirements.txt (line 2)) (3.1.2)\n",
      "Requirement already satisfied: urllib3<3,>=1.21.1 in /Library/Frameworks/Python.framework/Versions/3.10/lib/python3.10/site-packages (from requests->-r ../../requirements.txt (line 3)) (2.1.0)\n",
      "Requirement already satisfied: certifi>=2017.4.17 in /Library/Frameworks/Python.framework/Versions/3.10/lib/python3.10/site-packages (from requests->-r ../../requirements.txt (line 3)) (2023.11.17)\n",
      "Requirement already satisfied: charset-normalizer<4,>=2 in /Library/Frameworks/Python.framework/Versions/3.10/lib/python3.10/site-packages (from requests->-r ../../requirements.txt (line 3)) (3.3.2)\n",
      "Requirement already satisfied: idna<4,>=2.5 in /Library/Frameworks/Python.framework/Versions/3.10/lib/python3.10/site-packages (from requests->-r ../../requirements.txt (line 3)) (3.6)\n",
      "Requirement already satisfied: cycler>=0.10 in /Library/Frameworks/Python.framework/Versions/3.10/lib/python3.10/site-packages (from matplotlib->-r ../../requirements.txt (line 6)) (0.12.1)\n",
      "Requirement already satisfied: kiwisolver>=1.3.1 in /Library/Frameworks/Python.framework/Versions/3.10/lib/python3.10/site-packages (from matplotlib->-r ../../requirements.txt (line 6)) (1.4.5)\n",
      "Requirement already satisfied: fonttools>=4.22.0 in /Library/Frameworks/Python.framework/Versions/3.10/lib/python3.10/site-packages (from matplotlib->-r ../../requirements.txt (line 6)) (4.45.1)\n",
      "Requirement already satisfied: packaging>=20.0 in /Users/jernkun/Library/Python/3.10/lib/python/site-packages (from matplotlib->-r ../../requirements.txt (line 6)) (23.2)\n",
      "Requirement already satisfied: python-dateutil>=2.7 in /Users/jernkun/Library/Python/3.10/lib/python/site-packages (from matplotlib->-r ../../requirements.txt (line 6)) (2.8.2)\n",
      "Requirement already satisfied: contourpy>=1.0.1 in /Library/Frameworks/Python.framework/Versions/3.10/lib/python3.10/site-packages (from matplotlib->-r ../../requirements.txt (line 6)) (1.2.0)\n",
      "Requirement already satisfied: pillow>=8 in /Library/Frameworks/Python.framework/Versions/3.10/lib/python3.10/site-packages (from matplotlib->-r ../../requirements.txt (line 6)) (10.1.0)\n",
      "Requirement already satisfied: pyparsing>=2.3.1 in /Library/Frameworks/Python.framework/Versions/3.10/lib/python3.10/site-packages (from matplotlib->-r ../../requirements.txt (line 6)) (3.1.1)\n",
      "Requirement already satisfied: docutils>=0.3 in /Library/Frameworks/Python.framework/Versions/3.10/lib/python3.10/site-packages (from statistics->-r ../../requirements.txt (line 7)) (0.20.1)\n",
      "Requirement already satisfied: protobuf>=3.20.2 in /Library/Frameworks/Python.framework/Versions/3.10/lib/python3.10/site-packages (from onnx->-r ../../requirements.txt (line 8)) (4.25.1)\n",
      "Requirement already satisfied: six>=1.5 in /Users/jernkun/Library/Python/3.10/lib/python/site-packages (from python-dateutil>=2.7->matplotlib->-r ../../requirements.txt (line 6)) (1.16.0)\n",
      "Requirement already satisfied: MarkupSafe>=2.0 in /Library/Frameworks/Python.framework/Versions/3.10/lib/python3.10/site-packages (from jinja2->torch->-r ../../requirements.txt (line 2)) (2.1.3)\n",
      "Requirement already satisfied: mpmath>=0.19 in /Library/Frameworks/Python.framework/Versions/3.10/lib/python3.10/site-packages (from sympy->torch->-r ../../requirements.txt (line 2)) (1.3.0)\n",
      "\u001b[33mWARNING: You are using pip version 21.2.3; however, version 23.3.1 is available.\n",
      "You should consider upgrading via the '/usr/local/bin/python3 -m pip install --upgrade pip' command.\u001b[0m\n",
      "Note: you may need to restart the kernel to use updated packages.\n"
     ]
    }
   ],
   "source": [
    "pip install -r ../../requirements.txt"
   ]
  },
  {
   "cell_type": "code",
   "execution_count": 25,
   "metadata": {},
   "outputs": [],
   "source": [
    "import ezkl\n",
    "import torch\n",
    "from torch import nn\n",
    "import json\n",
    "import os\n",
    "import time\n",
    "import scipy\n",
    "import numpy as np\n",
    "import matplotlib.pyplot as plt\n",
    "import statistics\n",
    "import math"
   ]
  },
  {
   "cell_type": "code",
   "execution_count": 26,
   "metadata": {},
   "outputs": [],
   "source": [
    "%run -i ../../core.py"
   ]
  },
  {
   "cell_type": "code",
   "execution_count": 27,
   "metadata": {},
   "outputs": [],
   "source": [
    "# init path\n",
    "os.makedirs(os.path.dirname('shared/'), exist_ok=True)\n",
    "os.makedirs(os.path.dirname('prover/'), exist_ok=True)\n",
    "verifier_model_path = os.path.join('shared/verifier.onnx')\n",
    "prover_model_path = os.path.join('prover/prover.onnx')\n",
    "verifier_compiled_model_path = os.path.join('shared/verifier.compiled')\n",
    "prover_compiled_model_path = os.path.join('prover/prover.compiled')\n",
    "pk_path = os.path.join('shared/test.pk')\n",
    "vk_path = os.path.join('shared/test.vk')\n",
    "proof_path = os.path.join('shared/test.pf')\n",
    "settings_path = os.path.join('shared/settings.json')\n",
    "srs_path = os.path.join('shared/kzg.srs')\n",
    "witness_path = os.path.join('prover/witness.json')\n",
    "# this is private to prover since it contains actual data\n",
    "comb_data_path = os.path.join('prover/comb_data.json')"
   ]
  },
  {
   "attachments": {},
   "cell_type": "markdown",
   "metadata": {},
   "source": [
    "=======================  ZK-STATS FLOW ======================="
   ]
  },
  {
   "cell_type": "code",
   "execution_count": 28,
   "metadata": {},
   "outputs": [],
   "source": [
    "data_path = os.path.join('data.json')\n",
    "dummy_data_path = os.path.join('shared/dummy_data.json')\n",
    "\n",
    "f_raw_input = open(data_path, \"r\")\n",
    "data = json.loads(f_raw_input.read())[\"input_data\"][0]\n",
    "data_tensor = torch.reshape(torch.tensor(data),(1, len(data), 1))\n",
    "\n",
    "#  dummy data for data consumer: make the bound approx same as real data\n",
    "dummy_data = np.round(np.random.uniform(1,10,len(data)),1)\n",
    "json.dump({\"input_data\":[dummy_data.tolist()]}, open(dummy_data_path, 'w'))\n",
    "\n",
    "dummy_data_tensor = torch.reshape(torch.tensor(dummy_data), (1, len(dummy_data),1 ))\n",
    "dummy_theory_output = torch.sqrt(torch.var(dummy_data_tensor, correction = 0))\n",
    "dummy_data_mean = torch.mean(dummy_data_tensor)"
   ]
  },
  {
   "cell_type": "code",
   "execution_count": 29,
   "metadata": {},
   "outputs": [],
   "source": [
    "# Verifier/ data consumer side:\n",
    "class verifier_model(nn.Module):\n",
    "    def __init__(self):\n",
    "        super(verifier_model, self).__init__()\n",
    "        self.w = nn.Parameter(data = dummy_theory_output, requires_grad = False)\n",
    "        self.data_mean = nn.Parameter(data = dummy_data_mean, requires_grad = False)\n",
    "\n",
    "    def forward(self,X):\n",
    "        x_mean_cons = torch.abs(torch.sum(X)-X.size()[1]*(self.data_mean))<=torch.abs(0.01*X.size()[1]*self.data_mean)\n",
    "        # since we square\n",
    "        return (torch.logical_and(torch.abs(torch.sum((X-self.data_mean)*(X-self.data_mean))-self.w*self.w*X.size()[1])<=torch.abs(0.02*self.w*self.w*X.size()[1]),x_mean_cons ),self.w)\n",
    "\n",
    "        # return (torch.logical_and(torch.abs(torch.sqrt(torch.sum((X-self.data_mean)*(X-self.data_mean)))-self.w*torch.sqrt(X.size()[1]))<0.01*self.w*torch.sqrt(X.size()[1]),x_mean_cons ),self.w)\n",
    "verifier_define_calculation(verifier_model, verifier_model_path, [dummy_data_path])"
   ]
  },
  {
   "cell_type": "code",
   "execution_count": 30,
   "metadata": {},
   "outputs": [
    {
     "name": "stdout",
     "output_type": "stream",
     "text": [
      "theory output:  tensor(14.5557)\n",
      "==== Generate & Calibrate Setting ====\n",
      "scale:  default\n",
      "setting:  {\"run_args\":{\"tolerance\":{\"val\":0.0,\"scale\":1.0},\"input_scale\":2,\"param_scale\":2,\"scale_rebase_multiplier\":10,\"lookup_range\":[-40670,8],\"logrows\":16,\"num_inner_cols\":1,\"variables\":[[\"batch_size\",1]],\"input_visibility\":{\"Hashed\":{\"hash_is_public\":true,\"outlets\":[]}},\"output_visibility\":\"Public\",\"param_visibility\":\"Private\"},\"num_rows\":14432,\"total_assignments\":1520,\"total_const_size\":8,\"model_instance_shapes\":[[1],[1]],\"model_output_scales\":[0,2],\"model_input_scales\":[2],\"module_sizes\":{\"kzg\":[],\"poseidon\":[14432,[1]],\"elgamal\":[0,[0]]},\"required_lookups\":[\"Abs\",{\"GreaterThan\":{\"a\":0.0}}],\"check_mode\":\"UNSAFE\",\"version\":\"5.0.8\",\"num_blinding_factors\":null}\n"
     ]
    }
   ],
   "source": [
    "# Prover/ data owner side\n",
    "theory_output = torch.sqrt(torch.var(data_tensor, correction = 0))\n",
    "data_mean = torch.mean(data_tensor)\n",
    "print(\"theory output: \", theory_output)\n",
    "class prover_model(nn.Module):\n",
    "    def __init__(self):\n",
    "        super(prover_model, self).__init__()\n",
    "        self.w = nn.Parameter(data = theory_output, requires_grad = False)\n",
    "        self.data_mean = nn.Parameter(data = data_mean, requires_grad = False)\n",
    "    def forward(self,X):\n",
    "        x_mean_cons = torch.abs(torch.sum(X)-X.size()[1]*(self.data_mean))<=torch.abs(0.01*X.size()[1]*self.data_mean)\n",
    "        # since we square\n",
    "        return (torch.logical_and(torch.abs(torch.sum((X-self.data_mean)*(X-self.data_mean))-self.w*self.w*X.size()[1])<=torch.abs(0.02*self.w*self.w*X.size()[1]),x_mean_cons ),self.w)\n",
    "        # return (torch.logical_and(torch.abs(torch.sqrt(torch.sum((X-self.data_mean)*(X-self.data_mean)))-self.w*torch.sqrt(X.size()[1]))<0.01*self.w*torch.sqrt(X.size()[1]),x_mean_cons ),self.w)\n",
    "prover_gen_settings([data_path], comb_data_path, prover_model,prover_model_path, \"default\", \"resources\", settings_path)"
   ]
  },
  {
   "cell_type": "code",
   "execution_count": 31,
   "metadata": {},
   "outputs": [
    {
     "name": "stdout",
     "output_type": "stream",
     "text": [
      "==== setting up ezkl ====\n"
     ]
    },
    {
     "name": "stderr",
     "output_type": "stream",
     "text": [
      "spawning module 0\n",
      "spawning module 2\n",
      "spawning module 0\n",
      "spawning module 2\n"
     ]
    },
    {
     "name": "stdout",
     "output_type": "stream",
     "text": [
      "Time setup: 4.821185111999512 seconds\n",
      "=======================================\n",
      "Theory output:  tensor(14.5557)\n",
      "==== Generating Witness ====\n",
      "witness boolean:  1.0\n",
      "witness result 1 : 14.5\n",
      "==== Generating Proof ====\n"
     ]
    },
    {
     "name": "stderr",
     "output_type": "stream",
     "text": [
      "spawning module 0\n",
      "spawning module 2\n"
     ]
    },
    {
     "name": "stdout",
     "output_type": "stream",
     "text": [
      "proof:  {'instances': [[[12907834141446617622, 16863260785082668294, 2215826187815521673, 2191547160659437828], [12436184717236109307, 3962172157175319849, 7381016538464732718, 1011752739694698287], [15846044116984004302, 17434658319873045084, 12685703199754313893, 2889686633444970017]]], 'proof': '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', 'transcript_type': 'EVM'}\n",
      "Time gen prf: 5.805878162384033 seconds\n"
     ]
    }
   ],
   "source": [
    "# Here verifier & prover can concurrently call setup since all params are public to get pk. \n",
    "# Here write as verifier function to emphasize that verifier must calculate its own vk to be sure\n",
    "verifier_setup(verifier_model_path, verifier_compiled_model_path, settings_path, srs_path,vk_path, pk_path )\n",
    "\n",
    "print(\"=======================================\")\n",
    "# Prover generates proof\n",
    "print(\"Theory output: \", theory_output)\n",
    "prover_gen_proof(prover_model_path, comb_data_path, witness_path, prover_compiled_model_path, settings_path, proof_path, pk_path, srs_path)"
   ]
  },
  {
   "cell_type": "code",
   "execution_count": 32,
   "metadata": {},
   "outputs": [
    {
     "name": "stdout",
     "output_type": "stream",
     "text": [
      "num_inputs:  1\n",
      "prf instances:  [[[12907834141446617622, 16863260785082668294, 2215826187815521673, 2191547160659437828], [12436184717236109307, 3962172157175319849, 7381016538464732718, 1011752739694698287], [15846044116984004302, 17434658319873045084, 12685703199754313893, 2889686633444970017]]]\n",
      "proof boolean:  1.0\n",
      "proof result 1 : 14.5\n",
      "verified\n"
     ]
    }
   ],
   "source": [
    "# Verifier verifies\n",
    "verifier_verify(proof_path, settings_path, vk_path, srs_path)"
   ]
  },
  {
   "cell_type": "code",
   "execution_count": null,
   "metadata": {},
   "outputs": [],
   "source": []
  }
 ],
 "metadata": {
  "kernelspec": {
   "display_name": "Python 3",
   "language": "python",
   "name": "python3"
  },
  "language_info": {
   "codemirror_mode": {
    "name": "ipython",
    "version": 3
   },
   "file_extension": ".py",
   "mimetype": "text/x-python",
   "name": "python",
   "nbconvert_exporter": "python",
   "pygments_lexer": "ipython3",
   "version": "3.10.0"
  },
  "orig_nbformat": 4
 },
 "nbformat": 4,
 "nbformat_minor": 2
}
