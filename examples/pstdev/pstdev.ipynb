{
 "cells": [
  {
   "cell_type": "code",
   "execution_count": 1,
   "metadata": {},
   "outputs": [
    {
     "name": "stdout",
     "output_type": "stream",
     "text": [
      "Requirement already satisfied: ezkl==7.0.0 in /Library/Frameworks/Python.framework/Versions/3.10/lib/python3.10/site-packages (from -r ../../requirements.txt (line 1)) (7.0.0)\n",
      "Requirement already satisfied: torch in /Library/Frameworks/Python.framework/Versions/3.10/lib/python3.10/site-packages (from -r ../../requirements.txt (line 2)) (2.1.1)\n",
      "Requirement already satisfied: requests in /Library/Frameworks/Python.framework/Versions/3.10/lib/python3.10/site-packages (from -r ../../requirements.txt (line 3)) (2.31.0)\n",
      "Requirement already satisfied: scipy in /Library/Frameworks/Python.framework/Versions/3.10/lib/python3.10/site-packages (from -r ../../requirements.txt (line 4)) (1.11.4)\n",
      "Requirement already satisfied: numpy in /Library/Frameworks/Python.framework/Versions/3.10/lib/python3.10/site-packages (from -r ../../requirements.txt (line 5)) (1.26.2)\n",
      "Requirement already satisfied: matplotlib in /Library/Frameworks/Python.framework/Versions/3.10/lib/python3.10/site-packages (from -r ../../requirements.txt (line 6)) (3.8.2)\n",
      "Requirement already satisfied: statistics in /Library/Frameworks/Python.framework/Versions/3.10/lib/python3.10/site-packages (from -r ../../requirements.txt (line 7)) (1.0.3.5)\n",
      "Requirement already satisfied: onnx in /Library/Frameworks/Python.framework/Versions/3.10/lib/python3.10/site-packages (from -r ../../requirements.txt (line 8)) (1.15.0)\n",
      "Requirement already satisfied: fsspec in /Library/Frameworks/Python.framework/Versions/3.10/lib/python3.10/site-packages (from torch->-r ../../requirements.txt (line 2)) (2023.10.0)\n",
      "Requirement already satisfied: typing-extensions in /Library/Frameworks/Python.framework/Versions/3.10/lib/python3.10/site-packages (from torch->-r ../../requirements.txt (line 2)) (4.8.0)\n",
      "Requirement already satisfied: jinja2 in /Library/Frameworks/Python.framework/Versions/3.10/lib/python3.10/site-packages (from torch->-r ../../requirements.txt (line 2)) (3.1.2)\n",
      "Requirement already satisfied: filelock in /Library/Frameworks/Python.framework/Versions/3.10/lib/python3.10/site-packages (from torch->-r ../../requirements.txt (line 2)) (3.13.1)\n",
      "Requirement already satisfied: sympy in /Library/Frameworks/Python.framework/Versions/3.10/lib/python3.10/site-packages (from torch->-r ../../requirements.txt (line 2)) (1.12)\n",
      "Requirement already satisfied: networkx in /Library/Frameworks/Python.framework/Versions/3.10/lib/python3.10/site-packages (from torch->-r ../../requirements.txt (line 2)) (3.2.1)\n",
      "Requirement already satisfied: charset-normalizer<4,>=2 in /Library/Frameworks/Python.framework/Versions/3.10/lib/python3.10/site-packages (from requests->-r ../../requirements.txt (line 3)) (3.3.2)\n",
      "Requirement already satisfied: urllib3<3,>=1.21.1 in /Library/Frameworks/Python.framework/Versions/3.10/lib/python3.10/site-packages (from requests->-r ../../requirements.txt (line 3)) (2.1.0)\n",
      "Requirement already satisfied: certifi>=2017.4.17 in /Library/Frameworks/Python.framework/Versions/3.10/lib/python3.10/site-packages (from requests->-r ../../requirements.txt (line 3)) (2023.11.17)\n",
      "Requirement already satisfied: idna<4,>=2.5 in /Library/Frameworks/Python.framework/Versions/3.10/lib/python3.10/site-packages (from requests->-r ../../requirements.txt (line 3)) (3.6)\n",
      "Requirement already satisfied: pillow>=8 in /Library/Frameworks/Python.framework/Versions/3.10/lib/python3.10/site-packages (from matplotlib->-r ../../requirements.txt (line 6)) (10.1.0)\n",
      "Requirement already satisfied: cycler>=0.10 in /Library/Frameworks/Python.framework/Versions/3.10/lib/python3.10/site-packages (from matplotlib->-r ../../requirements.txt (line 6)) (0.12.1)\n",
      "Requirement already satisfied: kiwisolver>=1.3.1 in /Library/Frameworks/Python.framework/Versions/3.10/lib/python3.10/site-packages (from matplotlib->-r ../../requirements.txt (line 6)) (1.4.5)\n",
      "Requirement already satisfied: contourpy>=1.0.1 in /Library/Frameworks/Python.framework/Versions/3.10/lib/python3.10/site-packages (from matplotlib->-r ../../requirements.txt (line 6)) (1.2.0)\n",
      "Requirement already satisfied: python-dateutil>=2.7 in /Users/jernkun/Library/Python/3.10/lib/python/site-packages (from matplotlib->-r ../../requirements.txt (line 6)) (2.8.2)\n",
      "Requirement already satisfied: fonttools>=4.22.0 in /Library/Frameworks/Python.framework/Versions/3.10/lib/python3.10/site-packages (from matplotlib->-r ../../requirements.txt (line 6)) (4.45.1)\n",
      "Requirement already satisfied: packaging>=20.0 in /Users/jernkun/Library/Python/3.10/lib/python/site-packages (from matplotlib->-r ../../requirements.txt (line 6)) (23.2)\n",
      "Requirement already satisfied: pyparsing>=2.3.1 in /Library/Frameworks/Python.framework/Versions/3.10/lib/python3.10/site-packages (from matplotlib->-r ../../requirements.txt (line 6)) (3.1.1)\n",
      "Requirement already satisfied: docutils>=0.3 in /Library/Frameworks/Python.framework/Versions/3.10/lib/python3.10/site-packages (from statistics->-r ../../requirements.txt (line 7)) (0.20.1)\n",
      "Requirement already satisfied: protobuf>=3.20.2 in /Library/Frameworks/Python.framework/Versions/3.10/lib/python3.10/site-packages (from onnx->-r ../../requirements.txt (line 8)) (4.25.1)\n",
      "Requirement already satisfied: six>=1.5 in /Users/jernkun/Library/Python/3.10/lib/python/site-packages (from python-dateutil>=2.7->matplotlib->-r ../../requirements.txt (line 6)) (1.16.0)\n",
      "Requirement already satisfied: MarkupSafe>=2.0 in /Library/Frameworks/Python.framework/Versions/3.10/lib/python3.10/site-packages (from jinja2->torch->-r ../../requirements.txt (line 2)) (2.1.3)\n",
      "Requirement already satisfied: mpmath>=0.19 in /Library/Frameworks/Python.framework/Versions/3.10/lib/python3.10/site-packages (from sympy->torch->-r ../../requirements.txt (line 2)) (1.3.0)\n",
      "\u001b[33mWARNING: You are using pip version 21.2.3; however, version 23.3.2 is available.\n",
      "You should consider upgrading via the '/usr/local/bin/python3 -m pip install --upgrade pip' command.\u001b[0m\n",
      "Note: you may need to restart the kernel to use updated packages.\n"
     ]
    }
   ],
   "source": [
    "pip install -r ../../requirements.txt"
   ]
  },
  {
   "cell_type": "code",
   "execution_count": 2,
   "metadata": {},
   "outputs": [],
   "source": [
    "import ezkl\n",
    "import torch\n",
    "from torch import nn\n",
    "import json\n",
    "import os\n",
    "import time\n",
    "import scipy\n",
    "import numpy as np\n",
    "import matplotlib.pyplot as plt\n",
    "import statistics\n",
    "import math"
   ]
  },
  {
   "cell_type": "code",
   "execution_count": 3,
   "metadata": {},
   "outputs": [],
   "source": [
    "%run -i ../../zkstats/core.py"
   ]
  },
  {
   "cell_type": "code",
   "execution_count": 4,
   "metadata": {},
   "outputs": [],
   "source": [
    "# init path\n",
    "os.makedirs(os.path.dirname('shared/'), exist_ok=True)\n",
    "os.makedirs(os.path.dirname('prover/'), exist_ok=True)\n",
    "verifier_model_path = os.path.join('shared/verifier.onnx')\n",
    "prover_model_path = os.path.join('prover/prover.onnx')\n",
    "verifier_compiled_model_path = os.path.join('shared/verifier.compiled')\n",
    "prover_compiled_model_path = os.path.join('prover/prover.compiled')\n",
    "pk_path = os.path.join('shared/test.pk')\n",
    "vk_path = os.path.join('shared/test.vk')\n",
    "proof_path = os.path.join('shared/test.pf')\n",
    "settings_path = os.path.join('shared/settings.json')\n",
    "srs_path = os.path.join('shared/kzg.srs')\n",
    "witness_path = os.path.join('prover/witness.json')\n",
    "# this is private to prover since it contains actual data\n",
    "comb_data_path = os.path.join('prover/comb_data.json')"
   ]
  },
  {
   "attachments": {},
   "cell_type": "markdown",
   "metadata": {},
   "source": [
    "=======================  ZK-STATS FLOW ======================="
   ]
  },
  {
   "cell_type": "code",
   "execution_count": 5,
   "metadata": {},
   "outputs": [],
   "source": [
    "data_path = os.path.join('data.json')\n",
    "dummy_data_path = os.path.join('shared/dummy_data.json')\n",
    "\n",
    "f_raw_input = open(data_path, \"r\")\n",
    "data = json.loads(f_raw_input.read())[\"input_data\"][0]\n",
    "data_tensor = torch.reshape(torch.tensor(data),(1, len(data), 1))\n",
    "\n",
    "#  dummy data for data consumer: make the bound approx same as real data\n",
    "dummy_data = np.round(np.random.uniform(1,10,len(data)),1)\n",
    "json.dump({\"input_data\":[dummy_data.tolist()]}, open(dummy_data_path, 'w'))\n",
    "\n",
    "dummy_data_tensor = torch.reshape(torch.tensor(dummy_data), (1, len(dummy_data),1 ))\n",
    "dummy_theory_output = torch.sqrt(torch.var(dummy_data_tensor, correction = 0))\n",
    "dummy_data_mean = torch.mean(dummy_data_tensor)"
   ]
  },
  {
   "cell_type": "code",
   "execution_count": 6,
   "metadata": {},
   "outputs": [
    {
     "name": "stderr",
     "output_type": "stream",
     "text": [
      "/Library/Frameworks/Python.framework/Versions/3.10/lib/python3.10/site-packages/torch/onnx/symbolic_opset9.py:2174: FutureWarning: 'torch.onnx.symbolic_opset9._cast_Bool' is deprecated in version 2.0 and will be removed in the future. Please Avoid using this function and create a Cast node instead.\n",
      "  return fn(g, to_cast_func(g, input, False), to_cast_func(g, other, False))\n"
     ]
    }
   ],
   "source": [
    "# Verifier/ data consumer side:\n",
    "class verifier_model(nn.Module):\n",
    "    def __init__(self):\n",
    "        super(verifier_model, self).__init__()\n",
    "        self.w = nn.Parameter(data = dummy_theory_output, requires_grad = False)\n",
    "        self.data_mean = nn.Parameter(data = dummy_data_mean, requires_grad = False)\n",
    "\n",
    "    def forward(self,X):\n",
    "        x_mean_cons = torch.abs(torch.sum(X)-X.size()[1]*(self.data_mean))<=torch.abs(0.01*X.size()[1]*self.data_mean)\n",
    "        # since we square\n",
    "        return (torch.logical_and(torch.abs(torch.sum((X-self.data_mean)*(X-self.data_mean))-self.w*self.w*X.size()[1])<=torch.abs(0.02*self.w*self.w*X.size()[1]),x_mean_cons ),self.w)\n",
    "\n",
    "        # return (torch.logical_and(torch.abs(torch.sqrt(torch.sum((X-self.data_mean)*(X-self.data_mean)))-self.w*torch.sqrt(X.size()[1]))<0.01*self.w*torch.sqrt(X.size()[1]),x_mean_cons ),self.w)\n",
    "verifier_define_calculation(verifier_model, verifier_model_path, [dummy_data_path])"
   ]
  },
  {
   "cell_type": "code",
   "execution_count": 7,
   "metadata": {},
   "outputs": [
    {
     "name": "stdout",
     "output_type": "stream",
     "text": [
      "theory output:  tensor(14.5557)\n",
      "==== Generate & Calibrate Setting ====\n",
      "scale:  [2]\n",
      "setting:  {\"run_args\":{\"tolerance\":{\"val\":0.0,\"scale\":1.0},\"input_scale\":2,\"param_scale\":2,\"scale_rebase_multiplier\":10,\"lookup_range\":[-40670,8],\"logrows\":16,\"num_inner_cols\":2,\"variables\":[[\"batch_size\",1]],\"input_visibility\":{\"Hashed\":{\"hash_is_public\":true,\"outlets\":[]}},\"output_visibility\":\"Public\",\"param_visibility\":\"Private\"},\"num_rows\":14432,\"total_assignments\":1521,\"total_const_size\":8,\"model_instance_shapes\":[[1],[1]],\"model_output_scales\":[0,2],\"model_input_scales\":[2],\"module_sizes\":{\"kzg\":[],\"poseidon\":[14432,[1]],\"elgamal\":[0,[0]]},\"required_lookups\":[\"Abs\",{\"GreaterThan\":{\"a\":0.0}}],\"check_mode\":\"UNSAFE\",\"version\":\"7.0.0\",\"num_blinding_factors\":null}\n"
     ]
    }
   ],
   "source": [
    "# Prover/ data owner side\n",
    "theory_output = torch.sqrt(torch.var(data_tensor, correction = 0))\n",
    "data_mean = torch.mean(data_tensor)\n",
    "print(\"theory output: \", theory_output)\n",
    "class prover_model(nn.Module):\n",
    "    def __init__(self):\n",
    "        super(prover_model, self).__init__()\n",
    "        self.w = nn.Parameter(data = theory_output, requires_grad = False)\n",
    "        self.data_mean = nn.Parameter(data = data_mean, requires_grad = False)\n",
    "    def forward(self,X):\n",
    "        x_mean_cons = torch.abs(torch.sum(X)-X.size()[1]*(self.data_mean))<=torch.abs(0.01*X.size()[1]*self.data_mean)\n",
    "        # since we square\n",
    "        return (torch.logical_and(torch.abs(torch.sum((X-self.data_mean)*(X-self.data_mean))-self.w*self.w*X.size()[1])<=torch.abs(0.02*self.w*self.w*X.size()[1]),x_mean_cons ),self.w)\n",
    "        # return (torch.logical_and(torch.abs(torch.sqrt(torch.sum((X-self.data_mean)*(X-self.data_mean)))-self.w*torch.sqrt(X.size()[1]))<0.01*self.w*torch.sqrt(X.size()[1]),x_mean_cons ),self.w)\n",
    "prover_gen_settings([data_path], comb_data_path, prover_model,prover_model_path, [2], \"resources\", settings_path)"
   ]
  },
  {
   "cell_type": "code",
   "execution_count": 8,
   "metadata": {},
   "outputs": [
    {
     "name": "stderr",
     "output_type": "stream",
     "text": [
      "spawning module 0\n",
      "spawning module 2\n"
     ]
    },
    {
     "name": "stdout",
     "output_type": "stream",
     "text": [
      "==== setting up ezkl ====\n"
     ]
    },
    {
     "name": "stderr",
     "output_type": "stream",
     "text": [
      "spawning module 0\n",
      "spawning module 2\n"
     ]
    },
    {
     "name": "stdout",
     "output_type": "stream",
     "text": [
      "Time setup: 6.129555940628052 seconds\n",
      "=======================================\n",
      "Theory output:  tensor(14.5557)\n",
      "!@# compiled_model exists? True\n",
      "!@# compiled_model exists? True\n",
      "==== Generating Witness ====\n",
      "witness boolean:  1.0\n",
      "witness result 1 : 14.5\n",
      "==== Generating Proof ====\n"
     ]
    },
    {
     "name": "stderr",
     "output_type": "stream",
     "text": [
      "spawning module 0\n",
      "spawning module 2\n"
     ]
    },
    {
     "name": "stdout",
     "output_type": "stream",
     "text": [
      "proof:  {'instances': [[[12907834141446617622, 16863260785082668294, 2215826187815521673, 2191547160659437828], [12436184717236109307, 3962172157175319849, 7381016538464732718, 1011752739694698287], [15846044116984004302, 17434658319873045084, 12685703199754313893, 2889686633444970017]]], 'proof': '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', 'transcript_type': 'EVM'}\n",
      "Time gen prf: 7.9514429569244385 seconds\n"
     ]
    }
   ],
   "source": [
    "# Here verifier & prover can concurrently call setup since all params are public to get pk. \n",
    "# Here write as verifier function to emphasize that verifier must calculate its own vk to be sure\n",
    "verifier_setup(verifier_model_path, verifier_compiled_model_path, settings_path,vk_path, pk_path )\n",
    "\n",
    "print(\"=======================================\")\n",
    "# Prover generates proof\n",
    "print(\"Theory output: \", theory_output)\n",
    "prover_gen_proof(prover_model_path, comb_data_path, witness_path, prover_compiled_model_path, settings_path, proof_path, pk_path)"
   ]
  },
  {
   "cell_type": "code",
   "execution_count": 10,
   "metadata": {},
   "outputs": [
    {
     "name": "stdout",
     "output_type": "stream",
     "text": [
      "num_inputs:  1\n",
      "prf instances:  [[[12907834141446617622, 16863260785082668294, 2215826187815521673, 2191547160659437828], [12436184717236109307, 3962172157175319849, 7381016538464732718, 1011752739694698287], [15846044116984004302, 17434658319873045084, 12685703199754313893, 2889686633444970017]]]\n",
      "proof boolean:  1.0\n",
      "proof result 1 : 14.5\n",
      "verified\n"
     ]
    }
   ],
   "source": [
    "# Verifier verifies\n",
    "verifier_verify(proof_path, settings_path, vk_path)"
   ]
  },
  {
   "cell_type": "code",
   "execution_count": null,
   "metadata": {},
   "outputs": [],
   "source": []
  }
 ],
 "metadata": {
  "kernelspec": {
   "display_name": "Python 3",
   "language": "python",
   "name": "python3"
  },
  "language_info": {
   "codemirror_mode": {
    "name": "ipython",
    "version": 3
   },
   "file_extension": ".py",
   "mimetype": "text/x-python",
   "name": "python",
   "nbconvert_exporter": "python",
   "pygments_lexer": "ipython3",
   "version": "3.10.0"
  },
  "orig_nbformat": 4
 },
 "nbformat": 4,
 "nbformat_minor": 2
}
