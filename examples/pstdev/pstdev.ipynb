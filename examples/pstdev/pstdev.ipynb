{
 "cells": [
  {
   "cell_type": "code",
   "execution_count": 1,
   "metadata": {},
   "outputs": [
    {
     "name": "stdout",
     "output_type": "stream",
     "text": [
      "Requirement already satisfied: ezkl==9.1.0 in /Users/jernkun/Library/Caches/pypoetry/virtualenvs/zkstats-OJpceffF-py3.11/lib/python3.11/site-packages (from -r ../../requirements.txt (line 1)) (9.1.0)\n",
      "Requirement already satisfied: torch in /Users/jernkun/Library/Caches/pypoetry/virtualenvs/zkstats-OJpceffF-py3.11/lib/python3.11/site-packages (from -r ../../requirements.txt (line 2)) (2.2.0)\n",
      "Requirement already satisfied: requests in /Users/jernkun/Library/Caches/pypoetry/virtualenvs/zkstats-OJpceffF-py3.11/lib/python3.11/site-packages (from -r ../../requirements.txt (line 3)) (2.31.0)\n",
      "Requirement already satisfied: scipy in /Users/jernkun/Library/Caches/pypoetry/virtualenvs/zkstats-OJpceffF-py3.11/lib/python3.11/site-packages (from -r ../../requirements.txt (line 4)) (1.12.0)\n",
      "Requirement already satisfied: numpy in /Users/jernkun/Library/Caches/pypoetry/virtualenvs/zkstats-OJpceffF-py3.11/lib/python3.11/site-packages (from -r ../../requirements.txt (line 5)) (1.26.3)\n",
      "Requirement already satisfied: matplotlib in /Users/jernkun/Library/Caches/pypoetry/virtualenvs/zkstats-OJpceffF-py3.11/lib/python3.11/site-packages (from -r ../../requirements.txt (line 6)) (3.8.2)\n",
      "Requirement already satisfied: statistics in /Users/jernkun/Library/Caches/pypoetry/virtualenvs/zkstats-OJpceffF-py3.11/lib/python3.11/site-packages (from -r ../../requirements.txt (line 7)) (1.0.3.5)\n",
      "Requirement already satisfied: onnx in /Users/jernkun/Library/Caches/pypoetry/virtualenvs/zkstats-OJpceffF-py3.11/lib/python3.11/site-packages (from -r ../../requirements.txt (line 8)) (1.15.0)\n",
      "Requirement already satisfied: filelock in /Users/jernkun/Library/Caches/pypoetry/virtualenvs/zkstats-OJpceffF-py3.11/lib/python3.11/site-packages (from torch->-r ../../requirements.txt (line 2)) (3.13.1)\n",
      "Requirement already satisfied: typing-extensions>=4.8.0 in /Users/jernkun/Library/Caches/pypoetry/virtualenvs/zkstats-OJpceffF-py3.11/lib/python3.11/site-packages (from torch->-r ../../requirements.txt (line 2)) (4.9.0)\n",
      "Requirement already satisfied: sympy in /Users/jernkun/Library/Caches/pypoetry/virtualenvs/zkstats-OJpceffF-py3.11/lib/python3.11/site-packages (from torch->-r ../../requirements.txt (line 2)) (1.12)\n",
      "Requirement already satisfied: networkx in /Users/jernkun/Library/Caches/pypoetry/virtualenvs/zkstats-OJpceffF-py3.11/lib/python3.11/site-packages (from torch->-r ../../requirements.txt (line 2)) (3.2.1)\n",
      "Requirement already satisfied: jinja2 in /Users/jernkun/Library/Caches/pypoetry/virtualenvs/zkstats-OJpceffF-py3.11/lib/python3.11/site-packages (from torch->-r ../../requirements.txt (line 2)) (3.1.3)\n",
      "Requirement already satisfied: fsspec in /Users/jernkun/Library/Caches/pypoetry/virtualenvs/zkstats-OJpceffF-py3.11/lib/python3.11/site-packages (from torch->-r ../../requirements.txt (line 2)) (2023.12.2)\n",
      "Requirement already satisfied: charset-normalizer<4,>=2 in /Users/jernkun/Library/Caches/pypoetry/virtualenvs/zkstats-OJpceffF-py3.11/lib/python3.11/site-packages (from requests->-r ../../requirements.txt (line 3)) (3.3.2)\n",
      "Requirement already satisfied: idna<4,>=2.5 in /Users/jernkun/Library/Caches/pypoetry/virtualenvs/zkstats-OJpceffF-py3.11/lib/python3.11/site-packages (from requests->-r ../../requirements.txt (line 3)) (3.6)\n",
      "Requirement already satisfied: urllib3<3,>=1.21.1 in /Users/jernkun/Library/Caches/pypoetry/virtualenvs/zkstats-OJpceffF-py3.11/lib/python3.11/site-packages (from requests->-r ../../requirements.txt (line 3)) (2.2.0)\n",
      "Requirement already satisfied: certifi>=2017.4.17 in /Users/jernkun/Library/Caches/pypoetry/virtualenvs/zkstats-OJpceffF-py3.11/lib/python3.11/site-packages (from requests->-r ../../requirements.txt (line 3)) (2024.2.2)\n",
      "Requirement already satisfied: contourpy>=1.0.1 in /Users/jernkun/Library/Caches/pypoetry/virtualenvs/zkstats-OJpceffF-py3.11/lib/python3.11/site-packages (from matplotlib->-r ../../requirements.txt (line 6)) (1.2.0)\n",
      "Requirement already satisfied: cycler>=0.10 in /Users/jernkun/Library/Caches/pypoetry/virtualenvs/zkstats-OJpceffF-py3.11/lib/python3.11/site-packages (from matplotlib->-r ../../requirements.txt (line 6)) (0.12.1)\n",
      "Requirement already satisfied: fonttools>=4.22.0 in /Users/jernkun/Library/Caches/pypoetry/virtualenvs/zkstats-OJpceffF-py3.11/lib/python3.11/site-packages (from matplotlib->-r ../../requirements.txt (line 6)) (4.47.2)\n",
      "Requirement already satisfied: kiwisolver>=1.3.1 in /Users/jernkun/Library/Caches/pypoetry/virtualenvs/zkstats-OJpceffF-py3.11/lib/python3.11/site-packages (from matplotlib->-r ../../requirements.txt (line 6)) (1.4.5)\n",
      "Requirement already satisfied: packaging>=20.0 in /Users/jernkun/Library/Caches/pypoetry/virtualenvs/zkstats-OJpceffF-py3.11/lib/python3.11/site-packages (from matplotlib->-r ../../requirements.txt (line 6)) (23.2)\n",
      "Requirement already satisfied: pillow>=8 in /Users/jernkun/Library/Caches/pypoetry/virtualenvs/zkstats-OJpceffF-py3.11/lib/python3.11/site-packages (from matplotlib->-r ../../requirements.txt (line 6)) (10.2.0)\n",
      "Requirement already satisfied: pyparsing>=2.3.1 in /Users/jernkun/Library/Caches/pypoetry/virtualenvs/zkstats-OJpceffF-py3.11/lib/python3.11/site-packages (from matplotlib->-r ../../requirements.txt (line 6)) (3.1.1)\n",
      "Requirement already satisfied: python-dateutil>=2.7 in /Users/jernkun/Library/Caches/pypoetry/virtualenvs/zkstats-OJpceffF-py3.11/lib/python3.11/site-packages (from matplotlib->-r ../../requirements.txt (line 6)) (2.8.2)\n",
      "Requirement already satisfied: docutils>=0.3 in /Users/jernkun/Library/Caches/pypoetry/virtualenvs/zkstats-OJpceffF-py3.11/lib/python3.11/site-packages (from statistics->-r ../../requirements.txt (line 7)) (0.20.1)\n",
      "Requirement already satisfied: protobuf>=3.20.2 in /Users/jernkun/Library/Caches/pypoetry/virtualenvs/zkstats-OJpceffF-py3.11/lib/python3.11/site-packages (from onnx->-r ../../requirements.txt (line 8)) (4.25.2)\n",
      "Requirement already satisfied: six>=1.5 in /Users/jernkun/Library/Caches/pypoetry/virtualenvs/zkstats-OJpceffF-py3.11/lib/python3.11/site-packages (from python-dateutil>=2.7->matplotlib->-r ../../requirements.txt (line 6)) (1.16.0)\n",
      "Requirement already satisfied: MarkupSafe>=2.0 in /Users/jernkun/Library/Caches/pypoetry/virtualenvs/zkstats-OJpceffF-py3.11/lib/python3.11/site-packages (from jinja2->torch->-r ../../requirements.txt (line 2)) (2.1.4)\n",
      "Requirement already satisfied: mpmath>=0.19 in /Users/jernkun/Library/Caches/pypoetry/virtualenvs/zkstats-OJpceffF-py3.11/lib/python3.11/site-packages (from sympy->torch->-r ../../requirements.txt (line 2)) (1.3.0)\n",
      "\n",
      "\u001b[1m[\u001b[0m\u001b[34;49mnotice\u001b[0m\u001b[1;39;49m]\u001b[0m\u001b[39;49m A new release of pip is available: \u001b[0m\u001b[31;49m23.2.1\u001b[0m\u001b[39;49m -> \u001b[0m\u001b[32;49m24.0\u001b[0m\n",
      "\u001b[1m[\u001b[0m\u001b[34;49mnotice\u001b[0m\u001b[1;39;49m]\u001b[0m\u001b[39;49m To update, run: \u001b[0m\u001b[32;49mpip install --upgrade pip\u001b[0m\n",
      "Note: you may need to restart the kernel to use updated packages.\n"
     ]
    }
   ],
   "source": [
    "pip install -r ../../requirements.txt"
   ]
  },
  {
   "cell_type": "code",
   "execution_count": 2,
   "metadata": {},
   "outputs": [],
   "source": [
    "import ezkl\n",
    "import torch\n",
    "from torch import nn\n",
    "import json\n",
    "import os\n",
    "import time\n",
    "import scipy\n",
    "import numpy as np\n",
    "import matplotlib.pyplot as plt\n",
    "import statistics\n",
    "import math"
   ]
  },
  {
   "cell_type": "code",
   "execution_count": 3,
   "metadata": {},
   "outputs": [],
   "source": [
    "from zkstats.core import create_dummy, verifier_define_calculation, prover_gen_settings, setup, prover_gen_proof, verifier_verify, get_data_commitment_maps"
   ]
  },
  {
   "cell_type": "code",
   "execution_count": 4,
   "metadata": {},
   "outputs": [],
   "source": [
    "# init path\n",
    "os.makedirs(os.path.dirname('shared/'), exist_ok=True)\n",
    "os.makedirs(os.path.dirname('prover/'), exist_ok=True)\n",
    "verifier_model_path = os.path.join('shared/verifier.onnx')\n",
    "prover_model_path = os.path.join('prover/prover.onnx')\n",
    "verifier_compiled_model_path = os.path.join('shared/verifier.compiled')\n",
    "prover_compiled_model_path = os.path.join('prover/prover.compiled')\n",
    "pk_path = os.path.join('shared/test.pk')\n",
    "vk_path = os.path.join('shared/test.vk')\n",
    "proof_path = os.path.join('shared/test.pf')\n",
    "settings_path = os.path.join('shared/settings.json')\n",
    "srs_path = os.path.join('shared/kzg.srs')\n",
    "witness_path = os.path.join('prover/witness.json')\n",
    "# this is private to prover since it contains actual data\n",
    "sel_data_path = os.path.join('prover/sel_data.json')\n",
    "# this is just dummy random value\n",
    "sel_dummy_data_path = os.path.join('shared/sel_dummy_data.json')"
   ]
  },
  {
   "attachments": {},
   "cell_type": "markdown",
   "metadata": {},
   "source": [
    "=======================  ZK-STATS FLOW ======================="
   ]
  },
  {
   "cell_type": "code",
   "execution_count": 5,
   "metadata": {},
   "outputs": [],
   "source": [
    "data_path = os.path.join('data.json')\n",
    "dummy_data_path = os.path.join('shared/dummy_data.json')\n",
    "create_dummy(data_path, dummy_data_path)"
   ]
  },
  {
   "cell_type": "code",
   "execution_count": 6,
   "metadata": {},
   "outputs": [],
   "source": [
    "scales = [3]\n",
    "selected_columns = ['col_name']\n",
    "commitment_maps = get_data_commitment_maps(data_path, scales)"
   ]
  },
  {
   "cell_type": "code",
   "execution_count": 7,
   "metadata": {},
   "outputs": [
    {
     "name": "stderr",
     "output_type": "stream",
     "text": [
      "/Users/jernkun/Desktop/zk-stats-lib/zkstats/computation.py:166: TracerWarning: torch.tensor results are registered as constants in the trace. You can safely ignore this warning if you use this function to create tensors out of constant variables that would be the same every time you call this function. In any other case, this might cause the trace to be incorrect.\n",
      "  is_precise_aggregated = torch.tensor(1.0)\n",
      "/Users/jernkun/Library/Caches/pypoetry/virtualenvs/zkstats-OJpceffF-py3.11/lib/python3.11/site-packages/torch/onnx/symbolic_opset9.py:2174: FutureWarning: 'torch.onnx.symbolic_opset9._cast_Bool' is deprecated in version 2.0 and will be removed in the future. Please Avoid using this function and create a Cast node instead.\n",
      "  return fn(g, to_cast_func(g, input, False), to_cast_func(g, other, False))\n"
     ]
    }
   ],
   "source": [
    "# Verifier/ data consumer side: send desired calculation\n",
    "from zkstats.computation import computation_to_model, State\n",
    "\n",
    "\n",
    "def computation(s: State, data: list[torch.Tensor]) -> torch.Tensor:\n",
    "    x = data[0]\n",
    "    return s.pstdev(x)\n",
    "\n",
    "error = 0.01\n",
    "_, verifier_model = computation_to_model(computation, error)\n",
    "\n",
    "verifier_define_calculation(dummy_data_path, selected_columns, sel_dummy_data_path, verifier_model, verifier_model_path)"
   ]
  },
  {
   "cell_type": "code",
   "execution_count": 8,
   "metadata": {},
   "outputs": [
    {
     "name": "stdout",
     "output_type": "stream",
     "text": [
      "==== Generate & Calibrate Setting ====\n"
     ]
    },
    {
     "name": "stderr",
     "output_type": "stream",
     "text": [
      "\n",
      "\n",
      " <------------- Numerical Fidelity Report (input_scale: 3, param_scale: 3, scale_input_multiplier: 1) ------------->\n",
      "\n",
      "+-------------+--------------+-------------+-----------+----------------+------------------+---------------+---------------+--------------------+--------------------+------------------------+\n",
      "| mean_error  | median_error | max_error   | min_error | mean_abs_error | median_abs_error | max_abs_error | min_abs_error | mean_squared_error | mean_percent_error | mean_abs_percent_error |\n",
      "+-------------+--------------+-------------+-----------+----------------+------------------+---------------+---------------+--------------------+--------------------+------------------------+\n",
      "| 0.027862072 | 0.055724144  | 0.055724144 | 0         | 0.027862072    | 0.055724144      | 0.055724144   | 0             | 0.0015525902       | 0.001914166        | 0.001914166            |\n",
      "+-------------+--------------+-------------+-----------+----------------+------------------+---------------+---------------+--------------------+--------------------+------------------------+\n",
      "\n",
      "\n"
     ]
    },
    {
     "name": "stdout",
     "output_type": "stream",
     "text": [
      "scale:  [3]\n",
      "setting:  {\"run_args\":{\"tolerance\":{\"val\":0.0,\"scale\":1.0},\"input_scale\":3,\"param_scale\":3,\"scale_rebase_multiplier\":1,\"lookup_range\":[-20336,4],\"logrows\":15,\"num_inner_cols\":2,\"variables\":[[\"batch_size\",1]],\"input_visibility\":{\"Hashed\":{\"hash_is_public\":true,\"outlets\":[]}},\"output_visibility\":\"Public\",\"param_visibility\":\"Private\",\"div_rebasing\":false,\"rebase_frac_zero_constants\":false,\"check_mode\":\"UNSAFE\"},\"num_rows\":14432,\"total_assignments\":2722,\"total_const_size\":309,\"model_instance_shapes\":[[1],[1]],\"model_output_scales\":[0,3],\"model_input_scales\":[3],\"module_sizes\":{\"kzg\":[],\"poseidon\":[14432,[1]]},\"required_lookups\":[\"Abs\",{\"GreaterThan\":{\"a\":0.0}}],\"required_range_checks\":[[-4,4]],\"check_mode\":\"UNSAFE\",\"version\":\"9.1.0\",\"num_blinding_factors\":null,\"timestamp\":1709450967707}\n"
     ]
    }
   ],
   "source": [
    "# Prover/ data owner side\n",
    "_, prover_model = computation_to_model(computation, error)\n",
    "\n",
    "prover_gen_settings(data_path, selected_columns, sel_data_path, prover_model,prover_model_path, scales, \"resources\", settings_path)"
   ]
  },
  {
   "cell_type": "code",
   "execution_count": 9,
   "metadata": {},
   "outputs": [
    {
     "name": "stdout",
     "output_type": "stream",
     "text": [
      "==== setting up ezkl ====\n",
      "Time setup: 5.9353179931640625 seconds\n",
      "=======================================\n",
      "==== Generating Witness ====\n",
      "witness boolean:  1.0\n",
      "witness result 1 : 14.5\n",
      "==== Generating Proof ====\n",
      "proof:  {'instances': [['d57f47950cdabf2cb79306e0f33e75726a2c2960806e902b0fc88d3ff949a108', '0100000000000000000000000000000000000000000000000000000000000000', '7400000000000000000000000000000000000000000000000000000000000000']], 'proof': '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', 'transcript_type': 'EVM'}\n",
      "Time gen prf: 7.377405881881714 seconds\n"
     ]
    }
   ],
   "source": [
    "# Here verifier & prover can concurrently call setup since all params are public to get pk.\n",
    "# Here write as verifier function to emphasize that verifier must calculate its own vk to be sure\n",
    "setup(verifier_model_path, verifier_compiled_model_path, settings_path,vk_path, pk_path )\n",
    "\n",
    "print(\"=======================================\")\n",
    "# Prover generates proof\n",
    "prover_gen_proof(prover_model_path, sel_data_path, witness_path, prover_compiled_model_path, settings_path, proof_path, pk_path)"
   ]
  },
  {
   "cell_type": "code",
   "execution_count": 11,
   "metadata": {},
   "outputs": [
    {
     "name": "stdout",
     "output_type": "stream",
     "text": [
      "Verifier gets result: [14.5]\n"
     ]
    }
   ],
   "source": [
    "# Verifier verifies\n",
    "res = verifier_verify(proof_path, settings_path, vk_path, selected_columns, commitment_maps)\n",
    "print(\"Verifier gets result:\", res)"
   ]
  },
  {
   "cell_type": "code",
   "execution_count": null,
   "metadata": {},
   "outputs": [],
   "source": []
  }
 ],
 "metadata": {
  "kernelspec": {
   "display_name": "Python 3",
   "language": "python",
   "name": "python3"
  },
  "language_info": {
   "codemirror_mode": {
    "name": "ipython",
    "version": 3
   },
   "file_extension": ".py",
   "mimetype": "text/x-python",
   "name": "python",
   "nbconvert_exporter": "python",
   "pygments_lexer": "ipython3",
   "version": "3.11.4"
  },
  "orig_nbformat": 4
 },
 "nbformat": 4,
 "nbformat_minor": 2
}
