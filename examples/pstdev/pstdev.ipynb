{
 "cells": [
  {
   "cell_type": "code",
   "execution_count": 1,
   "metadata": {},
   "outputs": [
    {
     "name": "stdout",
     "output_type": "stream",
     "text": [
      "Requirement already satisfied: ezkl==5.0.8 in /Library/Frameworks/Python.framework/Versions/3.10/lib/python3.10/site-packages (from -r ../../requirements.txt (line 1)) (5.0.8)\n",
      "Requirement already satisfied: torch in /Library/Frameworks/Python.framework/Versions/3.10/lib/python3.10/site-packages (from -r ../../requirements.txt (line 2)) (2.1.1)\n",
      "Requirement already satisfied: requests in /Library/Frameworks/Python.framework/Versions/3.10/lib/python3.10/site-packages (from -r ../../requirements.txt (line 3)) (2.31.0)\n",
      "Requirement already satisfied: scipy in /Library/Frameworks/Python.framework/Versions/3.10/lib/python3.10/site-packages (from -r ../../requirements.txt (line 4)) (1.11.4)\n",
      "Requirement already satisfied: numpy in /Library/Frameworks/Python.framework/Versions/3.10/lib/python3.10/site-packages (from -r ../../requirements.txt (line 5)) (1.26.2)\n",
      "Requirement already satisfied: matplotlib in /Library/Frameworks/Python.framework/Versions/3.10/lib/python3.10/site-packages (from -r ../../requirements.txt (line 6)) (3.8.2)\n",
      "Requirement already satisfied: statistics in /Library/Frameworks/Python.framework/Versions/3.10/lib/python3.10/site-packages (from -r ../../requirements.txt (line 7)) (1.0.3.5)\n",
      "Requirement already satisfied: onnx in /Library/Frameworks/Python.framework/Versions/3.10/lib/python3.10/site-packages (from -r ../../requirements.txt (line 8)) (1.15.0)\n",
      "Requirement already satisfied: filelock in /Library/Frameworks/Python.framework/Versions/3.10/lib/python3.10/site-packages (from torch->-r ../../requirements.txt (line 2)) (3.13.1)\n",
      "Requirement already satisfied: networkx in /Library/Frameworks/Python.framework/Versions/3.10/lib/python3.10/site-packages (from torch->-r ../../requirements.txt (line 2)) (3.2.1)\n",
      "Requirement already satisfied: fsspec in /Library/Frameworks/Python.framework/Versions/3.10/lib/python3.10/site-packages (from torch->-r ../../requirements.txt (line 2)) (2023.10.0)\n",
      "Requirement already satisfied: sympy in /Library/Frameworks/Python.framework/Versions/3.10/lib/python3.10/site-packages (from torch->-r ../../requirements.txt (line 2)) (1.12)\n",
      "Requirement already satisfied: typing-extensions in /Library/Frameworks/Python.framework/Versions/3.10/lib/python3.10/site-packages (from torch->-r ../../requirements.txt (line 2)) (4.8.0)\n",
      "Requirement already satisfied: jinja2 in /Library/Frameworks/Python.framework/Versions/3.10/lib/python3.10/site-packages (from torch->-r ../../requirements.txt (line 2)) (3.1.2)\n",
      "Requirement already satisfied: urllib3<3,>=1.21.1 in /Library/Frameworks/Python.framework/Versions/3.10/lib/python3.10/site-packages (from requests->-r ../../requirements.txt (line 3)) (2.1.0)\n",
      "Requirement already satisfied: certifi>=2017.4.17 in /Library/Frameworks/Python.framework/Versions/3.10/lib/python3.10/site-packages (from requests->-r ../../requirements.txt (line 3)) (2023.11.17)\n",
      "Requirement already satisfied: charset-normalizer<4,>=2 in /Library/Frameworks/Python.framework/Versions/3.10/lib/python3.10/site-packages (from requests->-r ../../requirements.txt (line 3)) (3.3.2)\n",
      "Requirement already satisfied: idna<4,>=2.5 in /Library/Frameworks/Python.framework/Versions/3.10/lib/python3.10/site-packages (from requests->-r ../../requirements.txt (line 3)) (3.6)\n",
      "Requirement already satisfied: cycler>=0.10 in /Library/Frameworks/Python.framework/Versions/3.10/lib/python3.10/site-packages (from matplotlib->-r ../../requirements.txt (line 6)) (0.12.1)\n",
      "Requirement already satisfied: kiwisolver>=1.3.1 in /Library/Frameworks/Python.framework/Versions/3.10/lib/python3.10/site-packages (from matplotlib->-r ../../requirements.txt (line 6)) (1.4.5)\n",
      "Requirement already satisfied: fonttools>=4.22.0 in /Library/Frameworks/Python.framework/Versions/3.10/lib/python3.10/site-packages (from matplotlib->-r ../../requirements.txt (line 6)) (4.45.1)\n",
      "Requirement already satisfied: packaging>=20.0 in /Users/jernkun/Library/Python/3.10/lib/python/site-packages (from matplotlib->-r ../../requirements.txt (line 6)) (23.2)\n",
      "Requirement already satisfied: python-dateutil>=2.7 in /Users/jernkun/Library/Python/3.10/lib/python/site-packages (from matplotlib->-r ../../requirements.txt (line 6)) (2.8.2)\n",
      "Requirement already satisfied: contourpy>=1.0.1 in /Library/Frameworks/Python.framework/Versions/3.10/lib/python3.10/site-packages (from matplotlib->-r ../../requirements.txt (line 6)) (1.2.0)\n",
      "Requirement already satisfied: pillow>=8 in /Library/Frameworks/Python.framework/Versions/3.10/lib/python3.10/site-packages (from matplotlib->-r ../../requirements.txt (line 6)) (10.1.0)\n",
      "Requirement already satisfied: pyparsing>=2.3.1 in /Library/Frameworks/Python.framework/Versions/3.10/lib/python3.10/site-packages (from matplotlib->-r ../../requirements.txt (line 6)) (3.1.1)\n",
      "Requirement already satisfied: docutils>=0.3 in /Library/Frameworks/Python.framework/Versions/3.10/lib/python3.10/site-packages (from statistics->-r ../../requirements.txt (line 7)) (0.20.1)\n",
      "Requirement already satisfied: protobuf>=3.20.2 in /Library/Frameworks/Python.framework/Versions/3.10/lib/python3.10/site-packages (from onnx->-r ../../requirements.txt (line 8)) (4.25.1)\n",
      "Requirement already satisfied: six>=1.5 in /Users/jernkun/Library/Python/3.10/lib/python/site-packages (from python-dateutil>=2.7->matplotlib->-r ../../requirements.txt (line 6)) (1.16.0)\n",
      "Requirement already satisfied: MarkupSafe>=2.0 in /Library/Frameworks/Python.framework/Versions/3.10/lib/python3.10/site-packages (from jinja2->torch->-r ../../requirements.txt (line 2)) (2.1.3)\n",
      "Requirement already satisfied: mpmath>=0.19 in /Library/Frameworks/Python.framework/Versions/3.10/lib/python3.10/site-packages (from sympy->torch->-r ../../requirements.txt (line 2)) (1.3.0)\n",
      "\u001b[33mWARNING: You are using pip version 21.2.3; however, version 23.3.1 is available.\n",
      "You should consider upgrading via the '/usr/local/bin/python3 -m pip install --upgrade pip' command.\u001b[0m\n",
      "Note: you may need to restart the kernel to use updated packages.\n"
     ]
    }
   ],
   "source": [
    "pip install -r ../../requirements.txt"
   ]
  },
  {
   "cell_type": "code",
   "execution_count": 17,
   "metadata": {},
   "outputs": [],
   "source": [
    "import ezkl\n",
    "import torch\n",
    "from torch import nn\n",
    "import json\n",
    "import os\n",
    "import time\n",
    "import scipy\n",
    "import numpy as np\n",
    "import matplotlib.pyplot as plt\n",
    "import statistics\n",
    "import math"
   ]
  },
  {
   "cell_type": "code",
   "execution_count": 18,
   "metadata": {},
   "outputs": [],
   "source": [
    "%run -i ../../core.py"
   ]
  },
  {
   "cell_type": "code",
   "execution_count": 19,
   "metadata": {},
   "outputs": [],
   "source": [
    "# init path\n",
    "os.makedirs(os.path.dirname('shared/'), exist_ok=True)\n",
    "os.makedirs(os.path.dirname('prover/'), exist_ok=True)\n",
    "verifier_model_path = os.path.join('shared/verifier.onnx')\n",
    "prover_model_path = os.path.join('prover/prover.onnx')\n",
    "verifier_compiled_model_path = os.path.join('shared/verifier.compiled')\n",
    "prover_compiled_model_path = os.path.join('prover/prover.compiled')\n",
    "pk_path = os.path.join('shared/test.pk')\n",
    "vk_path = os.path.join('shared/test.vk')\n",
    "proof_path = os.path.join('shared/test.pf')\n",
    "settings_path = os.path.join('shared/settings.json')\n",
    "srs_path = os.path.join('shared/kzg.srs')\n",
    "witness_path = os.path.join('prover/witness.json')\n",
    "# this is private to prover since it contains actual data\n",
    "comb_data_path = os.path.join('prover/comb_data.json')"
   ]
  },
  {
   "attachments": {},
   "cell_type": "markdown",
   "metadata": {},
   "source": [
    "=======================  ZK-STATS FLOW ======================="
   ]
  },
  {
   "cell_type": "code",
   "execution_count": 20,
   "metadata": {},
   "outputs": [],
   "source": [
    "data_path = os.path.join('data.json')\n",
    "dummy_data_path = os.path.join('shared/dummy_data.json')\n",
    "\n",
    "f_raw_input = open(data_path, \"r\")\n",
    "data = json.loads(f_raw_input.read())[\"input_data\"][0]\n",
    "data_tensor = torch.reshape(torch.tensor(data),(1, len(data), 1))\n",
    "\n",
    "#  dummy data for data consumer: make the bound approx same as real data\n",
    "dummy_data = np.random.uniform(min(data), max(data), len(data))\n",
    "json.dump({\"input_data\":[dummy_data.tolist()]}, open(dummy_data_path, 'w'))\n",
    "\n",
    "dummy_data_tensor = torch.reshape(torch.tensor(dummy_data), (1, len(dummy_data),1 ))\n",
    "dummy_theory_output = torch.sqrt(torch.var(dummy_data_tensor, correction = 0))\n",
    "dummy_data_mean = torch.mean(dummy_data_tensor)"
   ]
  },
  {
   "cell_type": "code",
   "execution_count": 21,
   "metadata": {},
   "outputs": [
    {
     "name": "stderr",
     "output_type": "stream",
     "text": [
      "/Library/Frameworks/Python.framework/Versions/3.10/lib/python3.10/site-packages/torch/onnx/symbolic_opset9.py:2174: FutureWarning: 'torch.onnx.symbolic_opset9._cast_Bool' is deprecated in version 2.0 and will be removed in the future. Please Avoid using this function and create a Cast node instead.\n",
      "  return fn(g, to_cast_func(g, input, False), to_cast_func(g, other, False))\n"
     ]
    }
   ],
   "source": [
    "# Verifier/ data consumer side:\n",
    "class verifier_model(nn.Module):\n",
    "    def __init__(self):\n",
    "        super(verifier_model, self).__init__()\n",
    "        self.w = nn.Parameter(data = dummy_theory_output, requires_grad = False)\n",
    "        self.data_mean = nn.Parameter(data = dummy_data_mean, requires_grad = False)\n",
    "\n",
    "    def forward(self,X):\n",
    "        x_mean_cons = torch.abs(torch.sum(X)-X.size()[1]*(self.data_mean))<=torch.abs(0.01*X.size()[1]*self.data_mean)\n",
    "        # since we square\n",
    "        return (torch.logical_and(torch.abs(torch.sum((X-self.data_mean)*(X-self.data_mean))-self.w*self.w*X.size()[1])<=torch.abs(0.02*self.w*self.w*X.size()[1]),x_mean_cons ),self.w)\n",
    "\n",
    "        # return (torch.logical_and(torch.abs(torch.sqrt(torch.sum((X-self.data_mean)*(X-self.data_mean)))-self.w*torch.sqrt(X.size()[1]))<0.01*self.w*torch.sqrt(X.size()[1]),x_mean_cons ),self.w)\n",
    "verifier_define_calculation(verifier_model, verifier_model_path, [dummy_data_path])"
   ]
  },
  {
   "cell_type": "code",
   "execution_count": 22,
   "metadata": {},
   "outputs": [
    {
     "name": "stdout",
     "output_type": "stream",
     "text": [
      "theory output:  tensor(14.5557)\n",
      "==== Generate & Calibrate Setting ====\n",
      "scale:  default\n",
      "setting:  {\"run_args\":{\"tolerance\":{\"val\":0.0,\"scale\":1.0},\"input_scale\":2,\"param_scale\":2,\"scale_rebase_multiplier\":10,\"lookup_range\":[-40670,8],\"logrows\":16,\"num_inner_cols\":1,\"variables\":[[\"batch_size\",1]],\"input_visibility\":{\"Hashed\":{\"hash_is_public\":true,\"outlets\":[]}},\"output_visibility\":\"Public\",\"param_visibility\":\"Private\"},\"num_rows\":14432,\"total_assignments\":1520,\"total_const_size\":8,\"model_instance_shapes\":[[1],[1]],\"model_output_scales\":[0,2],\"model_input_scales\":[2],\"module_sizes\":{\"kzg\":[],\"poseidon\":[14432,[1]],\"elgamal\":[0,[0]]},\"required_lookups\":[\"Abs\",{\"GreaterThan\":{\"a\":0.0}}],\"check_mode\":\"UNSAFE\",\"version\":\"5.0.8\",\"num_blinding_factors\":null}\n"
     ]
    }
   ],
   "source": [
    "# Prover/ data owner side\n",
    "theory_output = torch.sqrt(torch.var(data_tensor, correction = 0))\n",
    "data_mean = torch.mean(data_tensor)\n",
    "print(\"theory output: \", theory_output)\n",
    "class prover_model(nn.Module):\n",
    "    def __init__(self):\n",
    "        super(prover_model, self).__init__()\n",
    "        self.w = nn.Parameter(data = theory_output, requires_grad = False)\n",
    "        self.data_mean = nn.Parameter(data = data_mean, requires_grad = False)\n",
    "    def forward(self,X):\n",
    "        x_mean_cons = torch.abs(torch.sum(X)-X.size()[1]*(self.data_mean))<=torch.abs(0.01*X.size()[1]*self.data_mean)\n",
    "        # since we square\n",
    "        return (torch.logical_and(torch.abs(torch.sum((X-self.data_mean)*(X-self.data_mean))-self.w*self.w*X.size()[1])<=torch.abs(0.02*self.w*self.w*X.size()[1]),x_mean_cons ),self.w)\n",
    "        # return (torch.logical_and(torch.abs(torch.sqrt(torch.sum((X-self.data_mean)*(X-self.data_mean)))-self.w*torch.sqrt(X.size()[1]))<0.01*self.w*torch.sqrt(X.size()[1]),x_mean_cons ),self.w)\n",
    "prover_gen_settings([data_path], comb_data_path, prover_model,prover_model_path, \"default\", \"resources\", settings_path)"
   ]
  },
  {
   "cell_type": "code",
   "execution_count": 23,
   "metadata": {},
   "outputs": [
    {
     "name": "stdout",
     "output_type": "stream",
     "text": [
      "==== setting up ezkl ====\n"
     ]
    },
    {
     "name": "stderr",
     "output_type": "stream",
     "text": [
      "spawning module 0\n",
      "spawning module 2\n",
      "spawning module 0\n",
      "spawning module 2\n"
     ]
    },
    {
     "name": "stdout",
     "output_type": "stream",
     "text": [
      "Time setup: 5.533793687820435 seconds\n",
      "=======================================\n",
      "Theory output:  tensor(14.5557)\n",
      "==== Generating Witness ====\n",
      "witness boolean:  1.0\n",
      "witness result 1 : 14.5\n",
      "==== Generating Proof ====\n"
     ]
    },
    {
     "name": "stderr",
     "output_type": "stream",
     "text": [
      "spawning module 0\n",
      "spawning module 2\n"
     ]
    },
    {
     "name": "stdout",
     "output_type": "stream",
     "text": [
      "proof:  {'instances': [[[12907834141446617622, 16863260785082668294, 2215826187815521673, 2191547160659437828], [12436184717236109307, 3962172157175319849, 7381016538464732718, 1011752739694698287], [15846044116984004302, 17434658319873045084, 12685703199754313893, 2889686633444970017]]], 'proof': '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', 'transcript_type': 'EVM'}\n",
      "Time gen prf: 6.33561897277832 seconds\n"
     ]
    }
   ],
   "source": [
    "# Here verifier & prover can concurrently call setup since all params are public to get pk. \n",
    "# Here write as verifier function to emphasize that verifier must calculate its own vk to be sure\n",
    "verifier_setup(verifier_model_path, verifier_compiled_model_path, settings_path, srs_path,vk_path, pk_path )\n",
    "\n",
    "print(\"=======================================\")\n",
    "# Prover generates proof\n",
    "print(\"Theory output: \", theory_output)\n",
    "prover_gen_proof(prover_model_path, comb_data_path, witness_path, prover_compiled_model_path, settings_path, proof_path, pk_path, srs_path)"
   ]
  },
  {
   "cell_type": "code",
   "execution_count": 24,
   "metadata": {},
   "outputs": [
    {
     "name": "stdout",
     "output_type": "stream",
     "text": [
      "num_inputs:  1\n",
      "prf instances:  [[[12907834141446617622, 16863260785082668294, 2215826187815521673, 2191547160659437828], [12436184717236109307, 3962172157175319849, 7381016538464732718, 1011752739694698287], [15846044116984004302, 17434658319873045084, 12685703199754313893, 2889686633444970017]]]\n",
      "proof boolean:  1.0\n",
      "proof result 1 : 14.5\n",
      "verified\n"
     ]
    }
   ],
   "source": [
    "# Verifier verifies\n",
    "verifier_verify(proof_path, settings_path, vk_path, srs_path)"
   ]
  },
  {
   "cell_type": "code",
   "execution_count": null,
   "metadata": {},
   "outputs": [],
   "source": []
  }
 ],
 "metadata": {
  "kernelspec": {
   "display_name": "Python 3",
   "language": "python",
   "name": "python3"
  },
  "language_info": {
   "codemirror_mode": {
    "name": "ipython",
    "version": 3
   },
   "file_extension": ".py",
   "mimetype": "text/x-python",
   "name": "python",
   "nbconvert_exporter": "python",
   "pygments_lexer": "ipython3",
   "version": "3.10.0"
  },
  "orig_nbformat": 4
 },
 "nbformat": 4,
 "nbformat_minor": 2
}
