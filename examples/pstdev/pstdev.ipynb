{
 "cells": [
  {
   "cell_type": "code",
   "execution_count": 1,
   "metadata": {},
   "outputs": [
    {
     "name": "stdout",
     "output_type": "stream",
     "text": [
      "Requirement already satisfied: ezkl==7.0.0 in /Library/Frameworks/Python.framework/Versions/3.10/lib/python3.10/site-packages (from -r ../../requirements.txt (line 1)) (7.0.0)\n",
      "Requirement already satisfied: torch in /Library/Frameworks/Python.framework/Versions/3.10/lib/python3.10/site-packages (from -r ../../requirements.txt (line 2)) (2.1.1)\n",
      "Requirement already satisfied: requests in /Library/Frameworks/Python.framework/Versions/3.10/lib/python3.10/site-packages (from -r ../../requirements.txt (line 3)) (2.31.0)\n",
      "Requirement already satisfied: scipy in /Library/Frameworks/Python.framework/Versions/3.10/lib/python3.10/site-packages (from -r ../../requirements.txt (line 4)) (1.11.4)\n",
      "Requirement already satisfied: numpy in /Library/Frameworks/Python.framework/Versions/3.10/lib/python3.10/site-packages (from -r ../../requirements.txt (line 5)) (1.26.2)\n",
      "Requirement already satisfied: matplotlib in /Library/Frameworks/Python.framework/Versions/3.10/lib/python3.10/site-packages (from -r ../../requirements.txt (line 6)) (3.8.2)\n",
      "Requirement already satisfied: statistics in /Library/Frameworks/Python.framework/Versions/3.10/lib/python3.10/site-packages (from -r ../../requirements.txt (line 7)) (1.0.3.5)\n",
      "Requirement already satisfied: onnx in /Library/Frameworks/Python.framework/Versions/3.10/lib/python3.10/site-packages (from -r ../../requirements.txt (line 8)) (1.15.0)\n",
      "Requirement already satisfied: networkx in /Library/Frameworks/Python.framework/Versions/3.10/lib/python3.10/site-packages (from torch->-r ../../requirements.txt (line 2)) (3.2.1)\n",
      "Requirement already satisfied: fsspec in /Library/Frameworks/Python.framework/Versions/3.10/lib/python3.10/site-packages (from torch->-r ../../requirements.txt (line 2)) (2023.10.0)\n",
      "Requirement already satisfied: typing-extensions in /Library/Frameworks/Python.framework/Versions/3.10/lib/python3.10/site-packages (from torch->-r ../../requirements.txt (line 2)) (4.8.0)\n",
      "Requirement already satisfied: jinja2 in /Library/Frameworks/Python.framework/Versions/3.10/lib/python3.10/site-packages (from torch->-r ../../requirements.txt (line 2)) (3.1.2)\n",
      "Requirement already satisfied: filelock in /Library/Frameworks/Python.framework/Versions/3.10/lib/python3.10/site-packages (from torch->-r ../../requirements.txt (line 2)) (3.13.1)\n",
      "Requirement already satisfied: sympy in /Library/Frameworks/Python.framework/Versions/3.10/lib/python3.10/site-packages (from torch->-r ../../requirements.txt (line 2)) (1.12)\n",
      "Requirement already satisfied: idna<4,>=2.5 in /Library/Frameworks/Python.framework/Versions/3.10/lib/python3.10/site-packages (from requests->-r ../../requirements.txt (line 3)) (3.6)\n",
      "Requirement already satisfied: urllib3<3,>=1.21.1 in /Library/Frameworks/Python.framework/Versions/3.10/lib/python3.10/site-packages (from requests->-r ../../requirements.txt (line 3)) (2.1.0)\n",
      "Requirement already satisfied: certifi>=2017.4.17 in /Library/Frameworks/Python.framework/Versions/3.10/lib/python3.10/site-packages (from requests->-r ../../requirements.txt (line 3)) (2023.11.17)\n",
      "Requirement already satisfied: charset-normalizer<4,>=2 in /Library/Frameworks/Python.framework/Versions/3.10/lib/python3.10/site-packages (from requests->-r ../../requirements.txt (line 3)) (3.3.2)\n",
      "Requirement already satisfied: cycler>=0.10 in /Library/Frameworks/Python.framework/Versions/3.10/lib/python3.10/site-packages (from matplotlib->-r ../../requirements.txt (line 6)) (0.12.1)\n",
      "Requirement already satisfied: pillow>=8 in /Library/Frameworks/Python.framework/Versions/3.10/lib/python3.10/site-packages (from matplotlib->-r ../../requirements.txt (line 6)) (10.1.0)\n",
      "Requirement already satisfied: python-dateutil>=2.7 in /Users/jernkun/Library/Python/3.10/lib/python/site-packages (from matplotlib->-r ../../requirements.txt (line 6)) (2.8.2)\n",
      "Requirement already satisfied: packaging>=20.0 in /Users/jernkun/Library/Python/3.10/lib/python/site-packages (from matplotlib->-r ../../requirements.txt (line 6)) (23.2)\n",
      "Requirement already satisfied: fonttools>=4.22.0 in /Library/Frameworks/Python.framework/Versions/3.10/lib/python3.10/site-packages (from matplotlib->-r ../../requirements.txt (line 6)) (4.45.1)\n",
      "Requirement already satisfied: kiwisolver>=1.3.1 in /Library/Frameworks/Python.framework/Versions/3.10/lib/python3.10/site-packages (from matplotlib->-r ../../requirements.txt (line 6)) (1.4.5)\n",
      "Requirement already satisfied: contourpy>=1.0.1 in /Library/Frameworks/Python.framework/Versions/3.10/lib/python3.10/site-packages (from matplotlib->-r ../../requirements.txt (line 6)) (1.2.0)\n",
      "Requirement already satisfied: pyparsing>=2.3.1 in /Library/Frameworks/Python.framework/Versions/3.10/lib/python3.10/site-packages (from matplotlib->-r ../../requirements.txt (line 6)) (3.1.1)\n",
      "Requirement already satisfied: docutils>=0.3 in /Library/Frameworks/Python.framework/Versions/3.10/lib/python3.10/site-packages (from statistics->-r ../../requirements.txt (line 7)) (0.20.1)\n",
      "Requirement already satisfied: protobuf>=3.20.2 in /Library/Frameworks/Python.framework/Versions/3.10/lib/python3.10/site-packages (from onnx->-r ../../requirements.txt (line 8)) (4.25.1)\n",
      "Requirement already satisfied: six>=1.5 in /Users/jernkun/Library/Python/3.10/lib/python/site-packages (from python-dateutil>=2.7->matplotlib->-r ../../requirements.txt (line 6)) (1.16.0)\n",
      "Requirement already satisfied: MarkupSafe>=2.0 in /Library/Frameworks/Python.framework/Versions/3.10/lib/python3.10/site-packages (from jinja2->torch->-r ../../requirements.txt (line 2)) (2.1.3)\n",
      "Requirement already satisfied: mpmath>=0.19 in /Library/Frameworks/Python.framework/Versions/3.10/lib/python3.10/site-packages (from sympy->torch->-r ../../requirements.txt (line 2)) (1.3.0)\n",
      "\u001b[33mWARNING: You are using pip version 21.2.3; however, version 23.3.2 is available.\n",
      "You should consider upgrading via the '/usr/local/bin/python3 -m pip install --upgrade pip' command.\u001b[0m\n",
      "Note: you may need to restart the kernel to use updated packages.\n"
     ]
    }
   ],
   "source": [
    "pip install -r ../../requirements.txt"
   ]
  },
  {
   "cell_type": "code",
   "execution_count": 2,
   "metadata": {},
   "outputs": [],
   "source": [
    "import ezkl\n",
    "import torch\n",
    "from torch import nn\n",
    "import json\n",
    "import os\n",
    "import time\n",
    "import scipy\n",
    "import numpy as np\n",
    "import matplotlib.pyplot as plt\n",
    "import statistics\n",
    "import math"
   ]
  },
  {
   "cell_type": "code",
   "execution_count": 3,
   "metadata": {},
   "outputs": [],
   "source": [
    "%run -i ../../zkstats/core.py"
   ]
  },
  {
   "cell_type": "code",
   "execution_count": 4,
   "metadata": {},
   "outputs": [],
   "source": [
    "# init path\n",
    "os.makedirs(os.path.dirname('shared/'), exist_ok=True)\n",
    "os.makedirs(os.path.dirname('prover/'), exist_ok=True)\n",
    "verifier_model_path = os.path.join('shared/verifier.onnx')\n",
    "prover_model_path = os.path.join('prover/prover.onnx')\n",
    "verifier_compiled_model_path = os.path.join('shared/verifier.compiled')\n",
    "prover_compiled_model_path = os.path.join('prover/prover.compiled')\n",
    "pk_path = os.path.join('shared/test.pk')\n",
    "vk_path = os.path.join('shared/test.vk')\n",
    "proof_path = os.path.join('shared/test.pf')\n",
    "settings_path = os.path.join('shared/settings.json')\n",
    "srs_path = os.path.join('shared/kzg.srs')\n",
    "witness_path = os.path.join('prover/witness.json')\n",
    "# this is private to prover since it contains actual data\n",
    "sel_data_path = os.path.join('prover/sel_data.json')\n",
    "# this is just dummy random value\n",
    "sel_dummy_data_path = os.path.join('shared/sel_dummy_data.json')"
   ]
  },
  {
   "attachments": {},
   "cell_type": "markdown",
   "metadata": {},
   "source": [
    "=======================  ZK-STATS FLOW ======================="
   ]
  },
  {
   "cell_type": "code",
   "execution_count": 5,
   "metadata": {},
   "outputs": [],
   "source": [
    "data_path = os.path.join('data.json')\n",
    "dummy_data_path = os.path.join('shared/dummy_data.json')\n",
    "\n",
    "data = json.loads(open(data_path, \"r\").read())['col_name']\n",
    "data_tensor = torch.reshape(torch.tensor(data),(1,-1, 1))\n",
    "\n",
    "createDummy(data_path, dummy_data_path)\n",
    "dummy_data = json.loads(open(dummy_data_path, \"r\").read())['col_name']\n",
    "dummy_data_tensor = torch.reshape(torch.tensor(dummy_data), (1,-1,1))\n",
    "\n",
    "dummy_theory_output = torch.sqrt(torch.var(dummy_data_tensor, correction = 0))\n",
    "dummy_data_mean = torch.mean(dummy_data_tensor)\n",
    "theory_output = torch.sqrt(torch.var(data_tensor, correction = 0))\n",
    "data_mean = torch.mean(data_tensor)"
   ]
  },
  {
   "cell_type": "code",
   "execution_count": 6,
   "metadata": {},
   "outputs": [
    {
     "name": "stderr",
     "output_type": "stream",
     "text": [
      "/Library/Frameworks/Python.framework/Versions/3.10/lib/python3.10/site-packages/torch/onnx/symbolic_opset9.py:2174: FutureWarning: 'torch.onnx.symbolic_opset9._cast_Bool' is deprecated in version 2.0 and will be removed in the future. Please Avoid using this function and create a Cast node instead.\n",
      "  return fn(g, to_cast_func(g, input, False), to_cast_func(g, other, False))\n"
     ]
    }
   ],
   "source": [
    "# Verifier/ data consumer side:\n",
    "class verifier_model(nn.Module):\n",
    "    def __init__(self):\n",
    "        super(verifier_model, self).__init__()\n",
    "        self.w = nn.Parameter(data = dummy_theory_output, requires_grad = False)\n",
    "        self.data_mean = nn.Parameter(data = dummy_data_mean, requires_grad = False)\n",
    "\n",
    "    def forward(self,X):\n",
    "        x_mean_cons = torch.abs(torch.sum(X)-X.size()[1]*(self.data_mean))<=torch.abs(0.01*X.size()[1]*self.data_mean)\n",
    "        # since we square\n",
    "        return (torch.logical_and(torch.abs(torch.sum((X-self.data_mean)*(X-self.data_mean))-self.w*self.w*X.size()[1])<=torch.abs(0.02*self.w*self.w*X.size()[1]),x_mean_cons ),self.w)\n",
    "\n",
    "        \n",
    "verifier_define_calculation(dummy_data_path, ['col_name'],sel_dummy_data_path,verifier_model, verifier_model_path)"
   ]
  },
  {
   "cell_type": "code",
   "execution_count": 7,
   "metadata": {},
   "outputs": [
    {
     "name": "stdout",
     "output_type": "stream",
     "text": [
      "theory output:  tensor(14.5557)\n",
      "==== Generate & Calibrate Setting ====\n",
      "scale:  [2]\n",
      "setting:  {\"run_args\":{\"tolerance\":{\"val\":0.0,\"scale\":1.0},\"input_scale\":2,\"param_scale\":2,\"scale_rebase_multiplier\":10,\"lookup_range\":[-40670,8],\"logrows\":16,\"num_inner_cols\":2,\"variables\":[[\"batch_size\",1]],\"input_visibility\":{\"Hashed\":{\"hash_is_public\":true,\"outlets\":[]}},\"output_visibility\":\"Public\",\"param_visibility\":\"Private\"},\"num_rows\":14432,\"total_assignments\":1521,\"total_const_size\":8,\"model_instance_shapes\":[[1],[1]],\"model_output_scales\":[0,2],\"model_input_scales\":[2],\"module_sizes\":{\"kzg\":[],\"poseidon\":[14432,[1]],\"elgamal\":[0,[0]]},\"required_lookups\":[\"Abs\",{\"GreaterThan\":{\"a\":0.0}}],\"check_mode\":\"UNSAFE\",\"version\":\"7.0.0\",\"num_blinding_factors\":null}\n"
     ]
    }
   ],
   "source": [
    "# Prover/ data owner side\n",
    "print(\"theory output: \", theory_output)\n",
    "class prover_model(nn.Module):\n",
    "    def __init__(self):\n",
    "        super(prover_model, self).__init__()\n",
    "        self.w = nn.Parameter(data = theory_output, requires_grad = False)\n",
    "        self.data_mean = nn.Parameter(data = data_mean, requires_grad = False)\n",
    "    def forward(self,X):\n",
    "        x_mean_cons = torch.abs(torch.sum(X)-X.size()[1]*(self.data_mean))<=torch.abs(0.01*X.size()[1]*self.data_mean)\n",
    "        # since we square\n",
    "        return (torch.logical_and(torch.abs(torch.sum((X-self.data_mean)*(X-self.data_mean))-self.w*self.w*X.size()[1])<=torch.abs(0.02*self.w*self.w*X.size()[1]),x_mean_cons ),self.w)\n",
    "\n",
    "prover_gen_settings(data_path,['col_name'], sel_data_path, prover_model,prover_model_path, [2], \"resources\", settings_path)"
   ]
  },
  {
   "cell_type": "code",
   "execution_count": 8,
   "metadata": {},
   "outputs": [
    {
     "name": "stderr",
     "output_type": "stream",
     "text": [
      "spawning module 0\n",
      "spawning module 2\n"
     ]
    },
    {
     "name": "stdout",
     "output_type": "stream",
     "text": [
      "==== setting up ezkl ====\n"
     ]
    },
    {
     "name": "stderr",
     "output_type": "stream",
     "text": [
      "spawning module 0\n",
      "spawning module 2\n"
     ]
    },
    {
     "name": "stdout",
     "output_type": "stream",
     "text": [
      "Time setup: 6.110619068145752 seconds\n",
      "=======================================\n",
      "Theory output:  tensor(14.5557)\n",
      "!@# compiled_model exists? True\n",
      "!@# compiled_model exists? True\n",
      "==== Generating Witness ====\n",
      "witness boolean:  1.0\n",
      "witness result 1 : 14.5\n",
      "==== Generating Proof ====\n"
     ]
    },
    {
     "name": "stderr",
     "output_type": "stream",
     "text": [
      "spawning module 0\n",
      "spawning module 2\n"
     ]
    },
    {
     "name": "stdout",
     "output_type": "stream",
     "text": [
      "proof:  {'instances': [[[12907834141446617622, 16863260785082668294, 2215826187815521673, 2191547160659437828], [12436184717236109307, 3962172157175319849, 7381016538464732718, 1011752739694698287], [15846044116984004302, 17434658319873045084, 12685703199754313893, 2889686633444970017]]], 'proof': '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', 'transcript_type': 'EVM'}\n",
      "Time gen prf: 7.914047956466675 seconds\n"
     ]
    }
   ],
   "source": [
    "# Here verifier & prover can concurrently call setup since all params are public to get pk. \n",
    "# Here write as verifier function to emphasize that verifier must calculate its own vk to be sure\n",
    "verifier_setup(verifier_model_path, verifier_compiled_model_path, settings_path,vk_path, pk_path )\n",
    "\n",
    "print(\"=======================================\")\n",
    "# Prover generates proof\n",
    "print(\"Theory output: \", theory_output)\n",
    "prover_gen_proof(prover_model_path, sel_data_path, witness_path, prover_compiled_model_path, settings_path, proof_path, pk_path)"
   ]
  },
  {
   "cell_type": "code",
   "execution_count": 10,
   "metadata": {},
   "outputs": [
    {
     "name": "stdout",
     "output_type": "stream",
     "text": [
      "num_inputs:  1\n",
      "prf instances:  [[[12907834141446617622, 16863260785082668294, 2215826187815521673, 2191547160659437828], [12436184717236109307, 3962172157175319849, 7381016538464732718, 1011752739694698287], [15846044116984004302, 17434658319873045084, 12685703199754313893, 2889686633444970017]]]\n",
      "proof boolean:  1.0\n",
      "proof result 1 : 14.5\n",
      "verified\n"
     ]
    }
   ],
   "source": [
    "# Verifier verifies\n",
    "verifier_verify(proof_path, settings_path, vk_path)"
   ]
  },
  {
   "cell_type": "code",
   "execution_count": null,
   "metadata": {},
   "outputs": [],
   "source": []
  }
 ],
 "metadata": {
  "kernelspec": {
   "display_name": "Python 3",
   "language": "python",
   "name": "python3"
  },
  "language_info": {
   "codemirror_mode": {
    "name": "ipython",
    "version": 3
   },
   "file_extension": ".py",
   "mimetype": "text/x-python",
   "name": "python",
   "nbconvert_exporter": "python",
   "pygments_lexer": "ipython3",
   "version": "3.10.0"
  },
  "orig_nbformat": 4
 },
 "nbformat": 4,
 "nbformat_minor": 2
}
