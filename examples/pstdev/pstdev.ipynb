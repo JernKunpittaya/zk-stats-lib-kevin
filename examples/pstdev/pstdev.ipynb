{
 "cells": [
  {
   "cell_type": "code",
   "execution_count": 1,
   "metadata": {},
   "outputs": [
    {
     "name": "stdout",
     "output_type": "stream",
     "text": [
      "Requirement already satisfied: ezkl==5.0.8 in /Library/Frameworks/Python.framework/Versions/3.10/lib/python3.10/site-packages (from -r ../../requirements.txt (line 1)) (5.0.8)\n",
      "Requirement already satisfied: torch in /Library/Frameworks/Python.framework/Versions/3.10/lib/python3.10/site-packages (from -r ../../requirements.txt (line 2)) (2.1.1)\n",
      "Requirement already satisfied: requests in /Library/Frameworks/Python.framework/Versions/3.10/lib/python3.10/site-packages (from -r ../../requirements.txt (line 3)) (2.31.0)\n",
      "Requirement already satisfied: scipy in /Library/Frameworks/Python.framework/Versions/3.10/lib/python3.10/site-packages (from -r ../../requirements.txt (line 4)) (1.11.4)\n",
      "Requirement already satisfied: numpy in /Library/Frameworks/Python.framework/Versions/3.10/lib/python3.10/site-packages (from -r ../../requirements.txt (line 5)) (1.26.2)\n",
      "Requirement already satisfied: matplotlib in /Library/Frameworks/Python.framework/Versions/3.10/lib/python3.10/site-packages (from -r ../../requirements.txt (line 6)) (3.8.2)\n",
      "Requirement already satisfied: statistics in /Library/Frameworks/Python.framework/Versions/3.10/lib/python3.10/site-packages (from -r ../../requirements.txt (line 7)) (1.0.3.5)\n",
      "Requirement already satisfied: onnx in /Library/Frameworks/Python.framework/Versions/3.10/lib/python3.10/site-packages (from -r ../../requirements.txt (line 8)) (1.15.0)\n",
      "Requirement already satisfied: filelock in /Library/Frameworks/Python.framework/Versions/3.10/lib/python3.10/site-packages (from torch->-r ../../requirements.txt (line 2)) (3.13.1)\n",
      "Requirement already satisfied: networkx in /Library/Frameworks/Python.framework/Versions/3.10/lib/python3.10/site-packages (from torch->-r ../../requirements.txt (line 2)) (3.2.1)\n",
      "Requirement already satisfied: fsspec in /Library/Frameworks/Python.framework/Versions/3.10/lib/python3.10/site-packages (from torch->-r ../../requirements.txt (line 2)) (2023.10.0)\n",
      "Requirement already satisfied: sympy in /Library/Frameworks/Python.framework/Versions/3.10/lib/python3.10/site-packages (from torch->-r ../../requirements.txt (line 2)) (1.12)\n",
      "Requirement already satisfied: typing-extensions in /Library/Frameworks/Python.framework/Versions/3.10/lib/python3.10/site-packages (from torch->-r ../../requirements.txt (line 2)) (4.8.0)\n",
      "Requirement already satisfied: jinja2 in /Library/Frameworks/Python.framework/Versions/3.10/lib/python3.10/site-packages (from torch->-r ../../requirements.txt (line 2)) (3.1.2)\n",
      "Requirement already satisfied: urllib3<3,>=1.21.1 in /Library/Frameworks/Python.framework/Versions/3.10/lib/python3.10/site-packages (from requests->-r ../../requirements.txt (line 3)) (2.1.0)\n",
      "Requirement already satisfied: certifi>=2017.4.17 in /Library/Frameworks/Python.framework/Versions/3.10/lib/python3.10/site-packages (from requests->-r ../../requirements.txt (line 3)) (2023.11.17)\n",
      "Requirement already satisfied: charset-normalizer<4,>=2 in /Library/Frameworks/Python.framework/Versions/3.10/lib/python3.10/site-packages (from requests->-r ../../requirements.txt (line 3)) (3.3.2)\n",
      "Requirement already satisfied: idna<4,>=2.5 in /Library/Frameworks/Python.framework/Versions/3.10/lib/python3.10/site-packages (from requests->-r ../../requirements.txt (line 3)) (3.6)\n",
      "Requirement already satisfied: cycler>=0.10 in /Library/Frameworks/Python.framework/Versions/3.10/lib/python3.10/site-packages (from matplotlib->-r ../../requirements.txt (line 6)) (0.12.1)\n",
      "Requirement already satisfied: kiwisolver>=1.3.1 in /Library/Frameworks/Python.framework/Versions/3.10/lib/python3.10/site-packages (from matplotlib->-r ../../requirements.txt (line 6)) (1.4.5)\n",
      "Requirement already satisfied: fonttools>=4.22.0 in /Library/Frameworks/Python.framework/Versions/3.10/lib/python3.10/site-packages (from matplotlib->-r ../../requirements.txt (line 6)) (4.45.1)\n",
      "Requirement already satisfied: packaging>=20.0 in /Users/jernkun/Library/Python/3.10/lib/python/site-packages (from matplotlib->-r ../../requirements.txt (line 6)) (23.2)\n",
      "Requirement already satisfied: python-dateutil>=2.7 in /Users/jernkun/Library/Python/3.10/lib/python/site-packages (from matplotlib->-r ../../requirements.txt (line 6)) (2.8.2)\n",
      "Requirement already satisfied: contourpy>=1.0.1 in /Library/Frameworks/Python.framework/Versions/3.10/lib/python3.10/site-packages (from matplotlib->-r ../../requirements.txt (line 6)) (1.2.0)\n",
      "Requirement already satisfied: pillow>=8 in /Library/Frameworks/Python.framework/Versions/3.10/lib/python3.10/site-packages (from matplotlib->-r ../../requirements.txt (line 6)) (10.1.0)\n",
      "Requirement already satisfied: pyparsing>=2.3.1 in /Library/Frameworks/Python.framework/Versions/3.10/lib/python3.10/site-packages (from matplotlib->-r ../../requirements.txt (line 6)) (3.1.1)\n",
      "Requirement already satisfied: docutils>=0.3 in /Library/Frameworks/Python.framework/Versions/3.10/lib/python3.10/site-packages (from statistics->-r ../../requirements.txt (line 7)) (0.20.1)\n",
      "Requirement already satisfied: protobuf>=3.20.2 in /Library/Frameworks/Python.framework/Versions/3.10/lib/python3.10/site-packages (from onnx->-r ../../requirements.txt (line 8)) (4.25.1)\n",
      "Requirement already satisfied: six>=1.5 in /Users/jernkun/Library/Python/3.10/lib/python/site-packages (from python-dateutil>=2.7->matplotlib->-r ../../requirements.txt (line 6)) (1.16.0)\n",
      "Requirement already satisfied: MarkupSafe>=2.0 in /Library/Frameworks/Python.framework/Versions/3.10/lib/python3.10/site-packages (from jinja2->torch->-r ../../requirements.txt (line 2)) (2.1.3)\n",
      "Requirement already satisfied: mpmath>=0.19 in /Library/Frameworks/Python.framework/Versions/3.10/lib/python3.10/site-packages (from sympy->torch->-r ../../requirements.txt (line 2)) (1.3.0)\n",
      "\u001b[33mWARNING: You are using pip version 21.2.3; however, version 23.3.1 is available.\n",
      "You should consider upgrading via the '/usr/local/bin/python3 -m pip install --upgrade pip' command.\u001b[0m\n",
      "Note: you may need to restart the kernel to use updated packages.\n"
     ]
    }
   ],
   "source": [
    "pip install -r ../../requirements.txt"
   ]
  },
  {
   "cell_type": "code",
   "execution_count": 9,
   "metadata": {},
   "outputs": [],
   "source": [
    "import ezkl\n",
    "import torch\n",
    "from torch import nn\n",
    "import json\n",
    "import os\n",
    "import time\n",
    "import scipy\n",
    "import numpy as np\n",
    "import matplotlib.pyplot as plt\n",
    "import statistics\n",
    "import math"
   ]
  },
  {
   "cell_type": "code",
   "execution_count": 10,
   "metadata": {},
   "outputs": [],
   "source": [
    "%run -i ../../core.py"
   ]
  },
  {
   "cell_type": "code",
   "execution_count": 11,
   "metadata": {},
   "outputs": [],
   "source": [
    "# init path\n",
    "os.makedirs(os.path.dirname('shared/'), exist_ok=True)\n",
    "os.makedirs(os.path.dirname('prover/'), exist_ok=True)\n",
    "verifier_model_path = os.path.join('shared/verifier.onnx')\n",
    "prover_model_path = os.path.join('prover/prover.onnx')\n",
    "verifier_compiled_model_path = os.path.join('shared/verifier.compiled')\n",
    "prover_compiled_model_path = os.path.join('prover/prover.compiled')\n",
    "pk_path = os.path.join('shared/test.pk')\n",
    "vk_path = os.path.join('shared/test.vk')\n",
    "proof_path = os.path.join('shared/test.pf')\n",
    "settings_path = os.path.join('shared/settings.json')\n",
    "srs_path = os.path.join('shared/kzg.srs')\n",
    "witness_path = os.path.join('prover/witness.json')\n",
    "# this is private to prover since it contains actual data\n",
    "comb_data_path = os.path.join('prover/comb_data.json')"
   ]
  },
  {
   "attachments": {},
   "cell_type": "markdown",
   "metadata": {},
   "source": [
    "=======================  ZK-STATS FLOW ======================="
   ]
  },
  {
   "cell_type": "code",
   "execution_count": 12,
   "metadata": {},
   "outputs": [],
   "source": [
    "data_path = os.path.join('data.json')\n",
    "dummy_data_path = os.path.join('shared/dummy_data.json')\n",
    "\n",
    "f_raw_input = open(data_path, \"r\")\n",
    "data = json.loads(f_raw_input.read())[\"input_data\"][0]\n",
    "data_tensor = torch.reshape(torch.tensor(data),(1, len(data), 1))\n",
    "\n",
    "#  dummy data for data consumer: make the bound approx same as real data\n",
    "dummy_data = np.random.uniform(min(data), max(data), len(data))\n",
    "json.dump({\"input_data\":[dummy_data.tolist()]}, open(dummy_data_path, 'w'))\n",
    "\n",
    "dummy_data_tensor = torch.reshape(torch.tensor(dummy_data), (1, len(dummy_data),1 ))\n",
    "dummy_theory_output = torch.sqrt(torch.var(dummy_data_tensor, correction = 0))\n",
    "dummy_data_mean = torch.mean(dummy_data_tensor)"
   ]
  },
  {
   "cell_type": "code",
   "execution_count": 13,
   "metadata": {},
   "outputs": [
    {
     "name": "stderr",
     "output_type": "stream",
     "text": [
      "/Library/Frameworks/Python.framework/Versions/3.10/lib/python3.10/site-packages/torch/onnx/symbolic_opset9.py:2174: FutureWarning: 'torch.onnx.symbolic_opset9._cast_Bool' is deprecated in version 2.0 and will be removed in the future. Please Avoid using this function and create a Cast node instead.\n",
      "  return fn(g, to_cast_func(g, input, False), to_cast_func(g, other, False))\n"
     ]
    }
   ],
   "source": [
    "# Verifier/ data consumer side:\n",
    "class verifier_model(nn.Module):\n",
    "    def __init__(self):\n",
    "        super(verifier_model, self).__init__()\n",
    "        # w represents mean in this case\n",
    "        self.w = nn.Parameter(data = dummy_theory_output, requires_grad = False)\n",
    "        self.data_mean = nn.Parameter(data = dummy_data_mean, requires_grad = False)\n",
    "\n",
    "    def forward(self,X):\n",
    "        # some expression of tolerance to error in the inference\n",
    "        x_mean_cons = torch.abs(torch.sum(X)-X.size()[1]*(self.data_mean))<0.01*X.size()[1]*(self.data_mean)\n",
    "        # since we square\n",
    "        return (torch.logical_and(torch.abs(torch.sum((X-self.data_mean)*(X-self.data_mean))-self.w*self.w*X.size()[1])<0.02*self.w*self.w*X.size()[1],x_mean_cons ),self.w)\n",
    "\n",
    "        # return (torch.logical_and(torch.abs(torch.sqrt(torch.sum((X-self.data_mean)*(X-self.data_mean)))-self.w*torch.sqrt(X.size()[1]))<0.01*self.w*torch.sqrt(X.size()[1]),x_mean_cons ),self.w)\n",
    "verifier_define_calculation(verifier_model, verifier_model_path, [dummy_data_path])"
   ]
  },
  {
   "cell_type": "code",
   "execution_count": 14,
   "metadata": {},
   "outputs": [
    {
     "name": "stdout",
     "output_type": "stream",
     "text": [
      "theory output:  tensor(14.5557)\n",
      "==== Generate & Calibrate Setting ====\n",
      "scale:  default\n",
      "setting:  {\"run_args\":{\"tolerance\":{\"val\":0.0,\"scale\":1.0},\"input_scale\":2,\"param_scale\":2,\"scale_rebase_multiplier\":10,\"lookup_range\":[0,40670],\"logrows\":16,\"num_inner_cols\":1,\"variables\":[[\"batch_size\",1]],\"input_visibility\":{\"Hashed\":{\"hash_is_public\":true,\"outlets\":[]}},\"output_visibility\":\"Public\",\"param_visibility\":\"Private\"},\"num_rows\":14432,\"total_assignments\":1512,\"total_const_size\":0,\"model_instance_shapes\":[[1],[1]],\"model_output_scales\":[0,2],\"model_input_scales\":[2],\"module_sizes\":{\"kzg\":[],\"poseidon\":[14432,[1]],\"elgamal\":[0,[0]]},\"required_lookups\":[\"Abs\",{\"GreaterThan\":{\"a\":0.0}}],\"check_mode\":\"UNSAFE\",\"version\":\"5.0.8\",\"num_blinding_factors\":null}\n"
     ]
    }
   ],
   "source": [
    "# Prover/ data owner side\n",
    "theory_output = torch.sqrt(torch.var(data_tensor, correction = 0))\n",
    "data_mean = torch.mean(data_tensor)\n",
    "print(\"theory output: \", theory_output)\n",
    "class prover_model(nn.Module):\n",
    "    def __init__(self):\n",
    "        super(prover_model, self).__init__()\n",
    "        # w represents mean in this case\n",
    "        self.w = nn.Parameter(data = theory_output, requires_grad = False)\n",
    "        self.data_mean = nn.Parameter(data = data_mean, requires_grad = False)\n",
    "    def forward(self,X):\n",
    "        # some expression of tolerance to error in the inference\n",
    "        x_mean_cons = torch.abs(torch.sum(X)-X.size()[1]*(self.data_mean))<0.01*X.size()[1]*(self.data_mean)\n",
    "        # since we square\n",
    "        return (torch.logical_and(torch.abs(torch.sum((X-self.data_mean)*(X-self.data_mean))-self.w*self.w*X.size()[1])<0.02*self.w*self.w*X.size()[1],x_mean_cons ),self.w)\n",
    "        # return (torch.logical_and(torch.abs(torch.sqrt(torch.sum((X-self.data_mean)*(X-self.data_mean)))-self.w*torch.sqrt(X.size()[1]))<0.01*self.w*torch.sqrt(X.size()[1]),x_mean_cons ),self.w)\n",
    "prover_gen_settings([data_path], comb_data_path, prover_model,prover_model_path, \"default\", \"resources\", settings_path)"
   ]
  },
  {
   "cell_type": "code",
   "execution_count": 15,
   "metadata": {},
   "outputs": [
    {
     "name": "stderr",
     "output_type": "stream",
     "text": [
      "spawning module 0\n",
      "spawning module 2\n"
     ]
    },
    {
     "name": "stdout",
     "output_type": "stream",
     "text": [
      "==== setting up ezkl ====\n"
     ]
    },
    {
     "name": "stderr",
     "output_type": "stream",
     "text": [
      "spawning module 0\n",
      "spawning module 2\n"
     ]
    },
    {
     "name": "stdout",
     "output_type": "stream",
     "text": [
      "Time setup: 4.781672954559326 seconds\n",
      "=======================================\n",
      "Theory output:  tensor(14.5557)\n",
      "==== Generating Witness ====\n",
      "witness boolean:  1.0\n",
      "witness result 1 : 14.5\n",
      "==== Generating Proof ====\n"
     ]
    },
    {
     "name": "stderr",
     "output_type": "stream",
     "text": [
      "spawning module 0\n",
      "spawning module 2\n"
     ]
    },
    {
     "name": "stdout",
     "output_type": "stream",
     "text": [
      "proof:  {'instances': [[[12907834141446617622, 16863260785082668294, 2215826187815521673, 2191547160659437828], [12436184717236109307, 3962172157175319849, 7381016538464732718, 1011752739694698287], [15846044116984004302, 17434658319873045084, 12685703199754313893, 2889686633444970017]]], 'proof': '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', 'transcript_type': 'EVM'}\n",
      "Time gen prf: 5.747406959533691 seconds\n"
     ]
    }
   ],
   "source": [
    "# Here verifier & prover can concurrently call setup since all params are public to get pk. \n",
    "# Here write as verifier function to emphasize that verifier must calculate its own vk to be sure\n",
    "verifier_setup(verifier_model_path, verifier_compiled_model_path, settings_path, srs_path,vk_path, pk_path )\n",
    "\n",
    "print(\"=======================================\")\n",
    "# Prover generates proof\n",
    "print(\"Theory output: \", theory_output)\n",
    "prover_gen_proof(prover_model_path, comb_data_path, witness_path, prover_compiled_model_path, settings_path, proof_path, pk_path, srs_path)"
   ]
  },
  {
   "cell_type": "code",
   "execution_count": 16,
   "metadata": {},
   "outputs": [
    {
     "name": "stdout",
     "output_type": "stream",
     "text": [
      "num_inputs:  1\n",
      "prf instances:  [[[12907834141446617622, 16863260785082668294, 2215826187815521673, 2191547160659437828], [12436184717236109307, 3962172157175319849, 7381016538464732718, 1011752739694698287], [15846044116984004302, 17434658319873045084, 12685703199754313893, 2889686633444970017]]]\n",
      "proof boolean:  1.0\n",
      "proof result 1 : 14.5\n",
      "verified\n"
     ]
    }
   ],
   "source": [
    "# Verifier verifies\n",
    "verifier_verify(proof_path, settings_path, vk_path, srs_path)"
   ]
  },
  {
   "cell_type": "code",
   "execution_count": null,
   "metadata": {},
   "outputs": [],
   "source": []
  }
 ],
 "metadata": {
  "kernelspec": {
   "display_name": "Python 3",
   "language": "python",
   "name": "python3"
  },
  "language_info": {
   "codemirror_mode": {
    "name": "ipython",
    "version": 3
   },
   "file_extension": ".py",
   "mimetype": "text/x-python",
   "name": "python",
   "nbconvert_exporter": "python",
   "pygments_lexer": "ipython3",
   "version": "3.10.0"
  },
  "orig_nbformat": 4
 },
 "nbformat": 4,
 "nbformat_minor": 2
}
