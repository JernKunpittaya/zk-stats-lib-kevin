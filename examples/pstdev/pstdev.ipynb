{
 "cells": [
  {
   "cell_type": "code",
   "execution_count": 1,
   "metadata": {},
   "outputs": [
    {
     "name": "stdout",
     "output_type": "stream",
     "text": [
      "Requirement already satisfied: ezkl==7.0.0 in /Users/jernkun/Library/Caches/pypoetry/virtualenvs/zkstats-OJpceffF-py3.11/lib/python3.11/site-packages (from -r ../../requirements.txt (line 1)) (7.0.0)\n",
      "Requirement already satisfied: torch in /Users/jernkun/Library/Caches/pypoetry/virtualenvs/zkstats-OJpceffF-py3.11/lib/python3.11/site-packages (from -r ../../requirements.txt (line 2)) (2.2.0)\n",
      "Requirement already satisfied: requests in /Users/jernkun/Library/Caches/pypoetry/virtualenvs/zkstats-OJpceffF-py3.11/lib/python3.11/site-packages (from -r ../../requirements.txt (line 3)) (2.31.0)\n",
      "Requirement already satisfied: scipy in /Users/jernkun/Library/Caches/pypoetry/virtualenvs/zkstats-OJpceffF-py3.11/lib/python3.11/site-packages (from -r ../../requirements.txt (line 4)) (1.12.0)\n",
      "Requirement already satisfied: numpy in /Users/jernkun/Library/Caches/pypoetry/virtualenvs/zkstats-OJpceffF-py3.11/lib/python3.11/site-packages (from -r ../../requirements.txt (line 5)) (1.26.3)\n",
      "Requirement already satisfied: matplotlib in /Users/jernkun/Library/Caches/pypoetry/virtualenvs/zkstats-OJpceffF-py3.11/lib/python3.11/site-packages (from -r ../../requirements.txt (line 6)) (3.8.2)\n",
      "Requirement already satisfied: statistics in /Users/jernkun/Library/Caches/pypoetry/virtualenvs/zkstats-OJpceffF-py3.11/lib/python3.11/site-packages (from -r ../../requirements.txt (line 7)) (1.0.3.5)\n",
      "Requirement already satisfied: onnx in /Users/jernkun/Library/Caches/pypoetry/virtualenvs/zkstats-OJpceffF-py3.11/lib/python3.11/site-packages (from -r ../../requirements.txt (line 8)) (1.15.0)\n",
      "Requirement already satisfied: filelock in /Users/jernkun/Library/Caches/pypoetry/virtualenvs/zkstats-OJpceffF-py3.11/lib/python3.11/site-packages (from torch->-r ../../requirements.txt (line 2)) (3.13.1)\n",
      "Requirement already satisfied: typing-extensions>=4.8.0 in /Users/jernkun/Library/Caches/pypoetry/virtualenvs/zkstats-OJpceffF-py3.11/lib/python3.11/site-packages (from torch->-r ../../requirements.txt (line 2)) (4.9.0)\n",
      "Requirement already satisfied: sympy in /Users/jernkun/Library/Caches/pypoetry/virtualenvs/zkstats-OJpceffF-py3.11/lib/python3.11/site-packages (from torch->-r ../../requirements.txt (line 2)) (1.12)\n",
      "Requirement already satisfied: networkx in /Users/jernkun/Library/Caches/pypoetry/virtualenvs/zkstats-OJpceffF-py3.11/lib/python3.11/site-packages (from torch->-r ../../requirements.txt (line 2)) (3.2.1)\n",
      "Requirement already satisfied: jinja2 in /Users/jernkun/Library/Caches/pypoetry/virtualenvs/zkstats-OJpceffF-py3.11/lib/python3.11/site-packages (from torch->-r ../../requirements.txt (line 2)) (3.1.3)\n",
      "Requirement already satisfied: fsspec in /Users/jernkun/Library/Caches/pypoetry/virtualenvs/zkstats-OJpceffF-py3.11/lib/python3.11/site-packages (from torch->-r ../../requirements.txt (line 2)) (2023.12.2)\n",
      "Requirement already satisfied: charset-normalizer<4,>=2 in /Users/jernkun/Library/Caches/pypoetry/virtualenvs/zkstats-OJpceffF-py3.11/lib/python3.11/site-packages (from requests->-r ../../requirements.txt (line 3)) (3.3.2)\n",
      "Requirement already satisfied: idna<4,>=2.5 in /Users/jernkun/Library/Caches/pypoetry/virtualenvs/zkstats-OJpceffF-py3.11/lib/python3.11/site-packages (from requests->-r ../../requirements.txt (line 3)) (3.6)\n",
      "Requirement already satisfied: urllib3<3,>=1.21.1 in /Users/jernkun/Library/Caches/pypoetry/virtualenvs/zkstats-OJpceffF-py3.11/lib/python3.11/site-packages (from requests->-r ../../requirements.txt (line 3)) (2.2.0)\n",
      "Requirement already satisfied: certifi>=2017.4.17 in /Users/jernkun/Library/Caches/pypoetry/virtualenvs/zkstats-OJpceffF-py3.11/lib/python3.11/site-packages (from requests->-r ../../requirements.txt (line 3)) (2024.2.2)\n",
      "Requirement already satisfied: contourpy>=1.0.1 in /Users/jernkun/Library/Caches/pypoetry/virtualenvs/zkstats-OJpceffF-py3.11/lib/python3.11/site-packages (from matplotlib->-r ../../requirements.txt (line 6)) (1.2.0)\n",
      "Requirement already satisfied: cycler>=0.10 in /Users/jernkun/Library/Caches/pypoetry/virtualenvs/zkstats-OJpceffF-py3.11/lib/python3.11/site-packages (from matplotlib->-r ../../requirements.txt (line 6)) (0.12.1)\n",
      "Requirement already satisfied: fonttools>=4.22.0 in /Users/jernkun/Library/Caches/pypoetry/virtualenvs/zkstats-OJpceffF-py3.11/lib/python3.11/site-packages (from matplotlib->-r ../../requirements.txt (line 6)) (4.47.2)\n",
      "Requirement already satisfied: kiwisolver>=1.3.1 in /Users/jernkun/Library/Caches/pypoetry/virtualenvs/zkstats-OJpceffF-py3.11/lib/python3.11/site-packages (from matplotlib->-r ../../requirements.txt (line 6)) (1.4.5)\n",
      "Requirement already satisfied: packaging>=20.0 in /Users/jernkun/Library/Caches/pypoetry/virtualenvs/zkstats-OJpceffF-py3.11/lib/python3.11/site-packages (from matplotlib->-r ../../requirements.txt (line 6)) (23.2)\n",
      "Requirement already satisfied: pillow>=8 in /Users/jernkun/Library/Caches/pypoetry/virtualenvs/zkstats-OJpceffF-py3.11/lib/python3.11/site-packages (from matplotlib->-r ../../requirements.txt (line 6)) (10.2.0)\n",
      "Requirement already satisfied: pyparsing>=2.3.1 in /Users/jernkun/Library/Caches/pypoetry/virtualenvs/zkstats-OJpceffF-py3.11/lib/python3.11/site-packages (from matplotlib->-r ../../requirements.txt (line 6)) (3.1.1)\n",
      "Requirement already satisfied: python-dateutil>=2.7 in /Users/jernkun/Library/Caches/pypoetry/virtualenvs/zkstats-OJpceffF-py3.11/lib/python3.11/site-packages (from matplotlib->-r ../../requirements.txt (line 6)) (2.8.2)\n",
      "Requirement already satisfied: docutils>=0.3 in /Users/jernkun/Library/Caches/pypoetry/virtualenvs/zkstats-OJpceffF-py3.11/lib/python3.11/site-packages (from statistics->-r ../../requirements.txt (line 7)) (0.20.1)\n",
      "Requirement already satisfied: protobuf>=3.20.2 in /Users/jernkun/Library/Caches/pypoetry/virtualenvs/zkstats-OJpceffF-py3.11/lib/python3.11/site-packages (from onnx->-r ../../requirements.txt (line 8)) (4.25.2)\n",
      "Requirement already satisfied: six>=1.5 in /Users/jernkun/Library/Caches/pypoetry/virtualenvs/zkstats-OJpceffF-py3.11/lib/python3.11/site-packages (from python-dateutil>=2.7->matplotlib->-r ../../requirements.txt (line 6)) (1.16.0)\n",
      "Requirement already satisfied: MarkupSafe>=2.0 in /Users/jernkun/Library/Caches/pypoetry/virtualenvs/zkstats-OJpceffF-py3.11/lib/python3.11/site-packages (from jinja2->torch->-r ../../requirements.txt (line 2)) (2.1.4)\n",
      "Requirement already satisfied: mpmath>=0.19 in /Users/jernkun/Library/Caches/pypoetry/virtualenvs/zkstats-OJpceffF-py3.11/lib/python3.11/site-packages (from sympy->torch->-r ../../requirements.txt (line 2)) (1.3.0)\n",
      "\n",
      "\u001b[1m[\u001b[0m\u001b[34;49mnotice\u001b[0m\u001b[1;39;49m]\u001b[0m\u001b[39;49m A new release of pip is available: \u001b[0m\u001b[31;49m23.2.1\u001b[0m\u001b[39;49m -> \u001b[0m\u001b[32;49m24.0\u001b[0m\n",
      "\u001b[1m[\u001b[0m\u001b[34;49mnotice\u001b[0m\u001b[1;39;49m]\u001b[0m\u001b[39;49m To update, run: \u001b[0m\u001b[32;49mpip install --upgrade pip\u001b[0m\n",
      "Note: you may need to restart the kernel to use updated packages.\n"
     ]
    }
   ],
   "source": [
    "pip install -r ../../requirements.txt"
   ]
  },
  {
   "cell_type": "code",
   "execution_count": 2,
   "metadata": {},
   "outputs": [],
   "source": [
    "import ezkl\n",
    "import torch\n",
    "from torch import nn\n",
    "import json\n",
    "import os\n",
    "import time\n",
    "import scipy\n",
    "import numpy as np\n",
    "import matplotlib.pyplot as plt\n",
    "import statistics\n",
    "import math"
   ]
  },
  {
   "cell_type": "code",
   "execution_count": 3,
   "metadata": {},
   "outputs": [],
   "source": [
    "from zkstats.core import create_dummy, verifier_define_calculation, prover_gen_settings, setup, prover_gen_proof, verifier_verify, get_data_commitment_maps"
   ]
  },
  {
   "cell_type": "code",
   "execution_count": 4,
   "metadata": {},
   "outputs": [],
   "source": [
    "# init path\n",
    "os.makedirs(os.path.dirname('shared/'), exist_ok=True)\n",
    "os.makedirs(os.path.dirname('prover/'), exist_ok=True)\n",
    "verifier_model_path = os.path.join('shared/verifier.onnx')\n",
    "prover_model_path = os.path.join('prover/prover.onnx')\n",
    "verifier_compiled_model_path = os.path.join('shared/verifier.compiled')\n",
    "prover_compiled_model_path = os.path.join('prover/prover.compiled')\n",
    "pk_path = os.path.join('shared/test.pk')\n",
    "vk_path = os.path.join('shared/test.vk')\n",
    "proof_path = os.path.join('shared/test.pf')\n",
    "settings_path = os.path.join('shared/settings.json')\n",
    "srs_path = os.path.join('shared/kzg.srs')\n",
    "witness_path = os.path.join('prover/witness.json')\n",
    "# this is private to prover since it contains actual data\n",
    "sel_data_path = os.path.join('prover/sel_data.json')\n",
    "# this is just dummy random value\n",
    "sel_dummy_data_path = os.path.join('shared/sel_dummy_data.json')"
   ]
  },
  {
   "attachments": {},
   "cell_type": "markdown",
   "metadata": {},
   "source": [
    "=======================  ZK-STATS FLOW ======================="
   ]
  },
  {
   "cell_type": "code",
   "execution_count": 5,
   "metadata": {},
   "outputs": [],
   "source": [
    "data_path = os.path.join('data.json')\n",
    "dummy_data_path = os.path.join('shared/dummy_data.json')\n",
    "create_dummy(data_path, dummy_data_path)"
   ]
  },
  {
   "cell_type": "code",
   "execution_count": 6,
   "metadata": {},
   "outputs": [],
   "source": [
    "scales = [3]\n",
    "selected_columns = ['col_name']\n",
    "commitment_maps = get_data_commitment_maps(data_path, scales)"
   ]
  },
  {
   "cell_type": "code",
   "execution_count": 7,
   "metadata": {},
   "outputs": [
    {
     "name": "stderr",
     "output_type": "stream",
     "text": [
      "/Users/jernkun/Desktop/zk-stats-lib/zkstats/computation.py:166: TracerWarning: torch.tensor results are registered as constants in the trace. You can safely ignore this warning if you use this function to create tensors out of constant variables that would be the same every time you call this function. In any other case, this might cause the trace to be incorrect.\n",
      "  is_precise_aggregated = torch.tensor(1.0)\n",
      "/Users/jernkun/Library/Caches/pypoetry/virtualenvs/zkstats-OJpceffF-py3.11/lib/python3.11/site-packages/torch/onnx/symbolic_opset9.py:2174: FutureWarning: 'torch.onnx.symbolic_opset9._cast_Bool' is deprecated in version 2.0 and will be removed in the future. Please Avoid using this function and create a Cast node instead.\n",
      "  return fn(g, to_cast_func(g, input, False), to_cast_func(g, other, False))\n"
     ]
    }
   ],
   "source": [
    "# Verifier/ data consumer side: send desired calculation\n",
    "from zkstats.computation import computation_to_model, State\n",
    "\n",
    "\n",
    "def computation(s: State, data: list[torch.Tensor]) -> torch.Tensor:\n",
    "    x = data[0]\n",
    "    return s.pstdev(x)\n",
    "\n",
    "error = 0.01\n",
    "_, verifier_model = computation_to_model(computation, error)\n",
    "\n",
    "verifier_define_calculation(dummy_data_path, selected_columns, sel_dummy_data_path, verifier_model, verifier_model_path)"
   ]
  },
  {
   "cell_type": "code",
   "execution_count": 8,
   "metadata": {},
   "outputs": [
    {
     "name": "stdout",
     "output_type": "stream",
     "text": [
      "==== Generate & Calibrate Setting ====\n",
      "scale:  [3]\n",
      "setting:  {\"run_args\":{\"tolerance\":{\"val\":0.0,\"scale\":1.0},\"input_scale\":3,\"param_scale\":3,\"scale_rebase_multiplier\":10,\"lookup_range\":[-162682,34],\"logrows\":18,\"num_inner_cols\":2,\"variables\":[[\"batch_size\",1]],\"input_visibility\":{\"Hashed\":{\"hash_is_public\":true,\"outlets\":[]}},\"output_visibility\":\"Public\",\"param_visibility\":\"Private\"},\"num_rows\":14432,\"total_assignments\":1519,\"total_const_size\":8,\"model_instance_shapes\":[[1],[1]],\"model_output_scales\":[0,3],\"model_input_scales\":[3],\"module_sizes\":{\"kzg\":[],\"poseidon\":[14432,[1]],\"elgamal\":[0,[0]]},\"required_lookups\":[\"Abs\",{\"GreaterThan\":{\"a\":0.0}}],\"check_mode\":\"UNSAFE\",\"version\":\"7.0.0\",\"num_blinding_factors\":null}\n"
     ]
    }
   ],
   "source": [
    "# Prover/ data owner side\n",
    "_, prover_model = computation_to_model(computation, error)\n",
    "\n",
    "prover_gen_settings(data_path, selected_columns, sel_data_path, prover_model,prover_model_path, scales, \"resources\", settings_path)"
   ]
  },
  {
   "cell_type": "code",
   "execution_count": 9,
   "metadata": {},
   "outputs": [
    {
     "name": "stderr",
     "output_type": "stream",
     "text": [
      "spawning module 0\n",
      "spawning module 2\n",
      "spawning module 0\n"
     ]
    },
    {
     "name": "stdout",
     "output_type": "stream",
     "text": [
      "==== setting up ezkl ====\n"
     ]
    },
    {
     "name": "stderr",
     "output_type": "stream",
     "text": [
      "spawning module 2\n"
     ]
    },
    {
     "name": "stdout",
     "output_type": "stream",
     "text": [
      "Time setup: 23.130786180496216 seconds\n",
      "=======================================\n",
      "==== Generating Witness ====\n",
      "witness boolean:  1.0\n",
      "witness result 1 : 14.5\n",
      "==== Generating Proof ====\n"
     ]
    },
    {
     "name": "stderr",
     "output_type": "stream",
     "text": [
      "spawning module 0\n",
      "spawning module 2\n"
     ]
    },
    {
     "name": "stdout",
     "output_type": "stream",
     "text": [
      "proof:  {'instances': [[[2220140900277941808, 6087627386785158829, 13612075262281438935, 1146358877253972239], [12436184717236109307, 3962172157175319849, 7381016538464732718, 1011752739694698287], [8353883474221858203, 13525658182729692200, 12090214448233933038, 2292375000086969369]]], 'proof': '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', 'transcript_type': 'EVM'}\n",
      "Time gen prf: 29.44297170639038 seconds\n"
     ]
    }
   ],
   "source": [
    "# Here verifier & prover can concurrently call setup since all params are public to get pk.\n",
    "# Here write as verifier function to emphasize that verifier must calculate its own vk to be sure\n",
    "setup(verifier_model_path, verifier_compiled_model_path, settings_path,vk_path, pk_path )\n",
    "\n",
    "print(\"=======================================\")\n",
    "# Prover generates proof\n",
    "prover_gen_proof(prover_model_path, sel_data_path, witness_path, prover_compiled_model_path, settings_path, proof_path, pk_path)"
   ]
  },
  {
   "cell_type": "code",
   "execution_count": 10,
   "metadata": {},
   "outputs": [
    {
     "name": "stdout",
     "output_type": "stream",
     "text": [
      "Verifier gets result: 14.5\n"
     ]
    }
   ],
   "source": [
    "# Verifier verifies\n",
    "res = verifier_verify(proof_path, settings_path, vk_path, selected_columns, commitment_maps)\n",
    "print(\"Verifier gets result:\", res)"
   ]
  },
  {
   "cell_type": "code",
   "execution_count": null,
   "metadata": {},
   "outputs": [],
   "source": []
  }
 ],
 "metadata": {
  "kernelspec": {
   "display_name": "Python 3",
   "language": "python",
   "name": "python3"
  },
  "language_info": {
   "codemirror_mode": {
    "name": "ipython",
    "version": 3
   },
   "file_extension": ".py",
   "mimetype": "text/x-python",
   "name": "python",
   "nbconvert_exporter": "python",
   "pygments_lexer": "ipython3",
   "version": "3.11.4"
  },
  "orig_nbformat": 4
 },
 "nbformat": 4,
 "nbformat_minor": 2
}
