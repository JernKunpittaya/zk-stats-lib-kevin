{
 "cells": [
  {
   "cell_type": "code",
   "execution_count": 1,
   "metadata": {},
   "outputs": [
    {
     "name": "stdout",
     "output_type": "stream",
     "text": [
      "Requirement already satisfied: ezkl==9.1.0 in /Users/jernkun/Library/Caches/pypoetry/virtualenvs/zkstats-OJpceffF-py3.11/lib/python3.11/site-packages (from -r ../../requirements.txt (line 1)) (9.1.0)\n",
      "Requirement already satisfied: torch in /Users/jernkun/Library/Caches/pypoetry/virtualenvs/zkstats-OJpceffF-py3.11/lib/python3.11/site-packages (from -r ../../requirements.txt (line 2)) (2.2.0)\n",
      "Requirement already satisfied: requests in /Users/jernkun/Library/Caches/pypoetry/virtualenvs/zkstats-OJpceffF-py3.11/lib/python3.11/site-packages (from -r ../../requirements.txt (line 3)) (2.31.0)\n",
      "Requirement already satisfied: scipy in /Users/jernkun/Library/Caches/pypoetry/virtualenvs/zkstats-OJpceffF-py3.11/lib/python3.11/site-packages (from -r ../../requirements.txt (line 4)) (1.12.0)\n",
      "Requirement already satisfied: numpy in /Users/jernkun/Library/Caches/pypoetry/virtualenvs/zkstats-OJpceffF-py3.11/lib/python3.11/site-packages (from -r ../../requirements.txt (line 5)) (1.26.3)\n",
      "Requirement already satisfied: matplotlib in /Users/jernkun/Library/Caches/pypoetry/virtualenvs/zkstats-OJpceffF-py3.11/lib/python3.11/site-packages (from -r ../../requirements.txt (line 6)) (3.8.2)\n",
      "Requirement already satisfied: statistics in /Users/jernkun/Library/Caches/pypoetry/virtualenvs/zkstats-OJpceffF-py3.11/lib/python3.11/site-packages (from -r ../../requirements.txt (line 7)) (1.0.3.5)\n",
      "Requirement already satisfied: onnx in /Users/jernkun/Library/Caches/pypoetry/virtualenvs/zkstats-OJpceffF-py3.11/lib/python3.11/site-packages (from -r ../../requirements.txt (line 8)) (1.15.0)\n",
      "Requirement already satisfied: filelock in /Users/jernkun/Library/Caches/pypoetry/virtualenvs/zkstats-OJpceffF-py3.11/lib/python3.11/site-packages (from torch->-r ../../requirements.txt (line 2)) (3.13.1)\n",
      "Requirement already satisfied: typing-extensions>=4.8.0 in /Users/jernkun/Library/Caches/pypoetry/virtualenvs/zkstats-OJpceffF-py3.11/lib/python3.11/site-packages (from torch->-r ../../requirements.txt (line 2)) (4.9.0)\n",
      "Requirement already satisfied: sympy in /Users/jernkun/Library/Caches/pypoetry/virtualenvs/zkstats-OJpceffF-py3.11/lib/python3.11/site-packages (from torch->-r ../../requirements.txt (line 2)) (1.12)\n",
      "Requirement already satisfied: networkx in /Users/jernkun/Library/Caches/pypoetry/virtualenvs/zkstats-OJpceffF-py3.11/lib/python3.11/site-packages (from torch->-r ../../requirements.txt (line 2)) (3.2.1)\n",
      "Requirement already satisfied: jinja2 in /Users/jernkun/Library/Caches/pypoetry/virtualenvs/zkstats-OJpceffF-py3.11/lib/python3.11/site-packages (from torch->-r ../../requirements.txt (line 2)) (3.1.3)\n",
      "Requirement already satisfied: fsspec in /Users/jernkun/Library/Caches/pypoetry/virtualenvs/zkstats-OJpceffF-py3.11/lib/python3.11/site-packages (from torch->-r ../../requirements.txt (line 2)) (2023.12.2)\n",
      "Requirement already satisfied: charset-normalizer<4,>=2 in /Users/jernkun/Library/Caches/pypoetry/virtualenvs/zkstats-OJpceffF-py3.11/lib/python3.11/site-packages (from requests->-r ../../requirements.txt (line 3)) (3.3.2)\n",
      "Requirement already satisfied: idna<4,>=2.5 in /Users/jernkun/Library/Caches/pypoetry/virtualenvs/zkstats-OJpceffF-py3.11/lib/python3.11/site-packages (from requests->-r ../../requirements.txt (line 3)) (3.6)\n",
      "Requirement already satisfied: urllib3<3,>=1.21.1 in /Users/jernkun/Library/Caches/pypoetry/virtualenvs/zkstats-OJpceffF-py3.11/lib/python3.11/site-packages (from requests->-r ../../requirements.txt (line 3)) (2.2.0)\n",
      "Requirement already satisfied: certifi>=2017.4.17 in /Users/jernkun/Library/Caches/pypoetry/virtualenvs/zkstats-OJpceffF-py3.11/lib/python3.11/site-packages (from requests->-r ../../requirements.txt (line 3)) (2024.2.2)\n",
      "Requirement already satisfied: contourpy>=1.0.1 in /Users/jernkun/Library/Caches/pypoetry/virtualenvs/zkstats-OJpceffF-py3.11/lib/python3.11/site-packages (from matplotlib->-r ../../requirements.txt (line 6)) (1.2.0)\n",
      "Requirement already satisfied: cycler>=0.10 in /Users/jernkun/Library/Caches/pypoetry/virtualenvs/zkstats-OJpceffF-py3.11/lib/python3.11/site-packages (from matplotlib->-r ../../requirements.txt (line 6)) (0.12.1)\n",
      "Requirement already satisfied: fonttools>=4.22.0 in /Users/jernkun/Library/Caches/pypoetry/virtualenvs/zkstats-OJpceffF-py3.11/lib/python3.11/site-packages (from matplotlib->-r ../../requirements.txt (line 6)) (4.47.2)\n",
      "Requirement already satisfied: kiwisolver>=1.3.1 in /Users/jernkun/Library/Caches/pypoetry/virtualenvs/zkstats-OJpceffF-py3.11/lib/python3.11/site-packages (from matplotlib->-r ../../requirements.txt (line 6)) (1.4.5)\n",
      "Requirement already satisfied: packaging>=20.0 in /Users/jernkun/Library/Caches/pypoetry/virtualenvs/zkstats-OJpceffF-py3.11/lib/python3.11/site-packages (from matplotlib->-r ../../requirements.txt (line 6)) (23.2)\n",
      "Requirement already satisfied: pillow>=8 in /Users/jernkun/Library/Caches/pypoetry/virtualenvs/zkstats-OJpceffF-py3.11/lib/python3.11/site-packages (from matplotlib->-r ../../requirements.txt (line 6)) (10.2.0)\n",
      "Requirement already satisfied: pyparsing>=2.3.1 in /Users/jernkun/Library/Caches/pypoetry/virtualenvs/zkstats-OJpceffF-py3.11/lib/python3.11/site-packages (from matplotlib->-r ../../requirements.txt (line 6)) (3.1.1)\n",
      "Requirement already satisfied: python-dateutil>=2.7 in /Users/jernkun/Library/Caches/pypoetry/virtualenvs/zkstats-OJpceffF-py3.11/lib/python3.11/site-packages (from matplotlib->-r ../../requirements.txt (line 6)) (2.8.2)\n",
      "Requirement already satisfied: docutils>=0.3 in /Users/jernkun/Library/Caches/pypoetry/virtualenvs/zkstats-OJpceffF-py3.11/lib/python3.11/site-packages (from statistics->-r ../../requirements.txt (line 7)) (0.20.1)\n",
      "Requirement already satisfied: protobuf>=3.20.2 in /Users/jernkun/Library/Caches/pypoetry/virtualenvs/zkstats-OJpceffF-py3.11/lib/python3.11/site-packages (from onnx->-r ../../requirements.txt (line 8)) (4.25.2)\n",
      "Requirement already satisfied: six>=1.5 in /Users/jernkun/Library/Caches/pypoetry/virtualenvs/zkstats-OJpceffF-py3.11/lib/python3.11/site-packages (from python-dateutil>=2.7->matplotlib->-r ../../requirements.txt (line 6)) (1.16.0)\n",
      "Requirement already satisfied: MarkupSafe>=2.0 in /Users/jernkun/Library/Caches/pypoetry/virtualenvs/zkstats-OJpceffF-py3.11/lib/python3.11/site-packages (from jinja2->torch->-r ../../requirements.txt (line 2)) (2.1.4)\n",
      "Requirement already satisfied: mpmath>=0.19 in /Users/jernkun/Library/Caches/pypoetry/virtualenvs/zkstats-OJpceffF-py3.11/lib/python3.11/site-packages (from sympy->torch->-r ../../requirements.txt (line 2)) (1.3.0)\n",
      "\n",
      "\u001b[1m[\u001b[0m\u001b[34;49mnotice\u001b[0m\u001b[1;39;49m]\u001b[0m\u001b[39;49m A new release of pip is available: \u001b[0m\u001b[31;49m23.2.1\u001b[0m\u001b[39;49m -> \u001b[0m\u001b[32;49m24.0\u001b[0m\n",
      "\u001b[1m[\u001b[0m\u001b[34;49mnotice\u001b[0m\u001b[1;39;49m]\u001b[0m\u001b[39;49m To update, run: \u001b[0m\u001b[32;49mpip install --upgrade pip\u001b[0m\n",
      "Note: you may need to restart the kernel to use updated packages.\n"
     ]
    }
   ],
   "source": [
    "pip install -r ../../requirements.txt"
   ]
  },
  {
   "cell_type": "code",
   "execution_count": 2,
   "metadata": {},
   "outputs": [],
   "source": [
    "import ezkl\n",
    "import torch\n",
    "from torch import nn\n",
    "import json\n",
    "import os\n",
    "import time\n",
    "import scipy\n",
    "import numpy as np\n",
    "import matplotlib.pyplot as plt\n",
    "import statistics\n",
    "import math"
   ]
  },
  {
   "cell_type": "code",
   "execution_count": 3,
   "metadata": {},
   "outputs": [],
   "source": [
    "from zkstats.core import prover_gen_settings, setup, prover_gen_proof, verifier_verify, get_data_commitment_maps"
   ]
  },
  {
   "attachments": {},
   "cell_type": "markdown",
   "metadata": {},
   "source": []
  },
  {
   "cell_type": "code",
   "execution_count": 4,
   "metadata": {},
   "outputs": [],
   "source": [
    "# init path\n",
    "os.makedirs(os.path.dirname('shared/'), exist_ok=True)\n",
    "os.makedirs(os.path.dirname('prover/'), exist_ok=True)\n",
    "verifier_model_path = os.path.join('shared/verifier.onnx')\n",
    "prover_model_path = os.path.join('prover/prover.onnx')\n",
    "verifier_compiled_model_path = os.path.join('shared/verifier.compiled')\n",
    "prover_compiled_model_path = os.path.join('prover/prover.compiled')\n",
    "pk_path = os.path.join('shared/test.pk')\n",
    "vk_path = os.path.join('shared/test.vk')\n",
    "proof_path = os.path.join('shared/test.pf')\n",
    "settings_path = os.path.join('shared/settings.json')\n",
    "# srs_path = os.path.join('shared/kzg.srs')\n",
    "# this is private to prover since it contains actual data\n",
    "sel_data_path = os.path.join('prover/sel_data.json')\n",
    "witness_path = os.path.join('prover/witness.json')"
   ]
  },
  {
   "attachments": {},
   "cell_type": "markdown",
   "metadata": {},
   "source": [
    "=======================  ZK-STATS FLOW ======================="
   ]
  },
  {
   "attachments": {},
   "cell_type": "markdown",
   "metadata": {},
   "source": [
    "## Step 1\n",
    "Verifier calls `export_onnx` with dummy data, to generate the onnx model. Dummy data is used to infer the shape of the model\n",
    "\n",
    "### Output\n",
    "- `verifier.onnx` file"
   ]
  },
  {
   "cell_type": "code",
   "execution_count": 5,
   "metadata": {},
   "outputs": [],
   "source": [
    "data_path = os.path.join('data.json')"
   ]
  },
  {
   "cell_type": "code",
   "execution_count": 6,
   "metadata": {},
   "outputs": [],
   "source": [
    "scales = [2]\n",
    "selected_columns = ['x', 'y']\n",
    "commitment_maps = get_data_commitment_maps(data_path, scales)"
   ]
  },
  {
   "attachments": {},
   "cell_type": "markdown",
   "metadata": {},
   "source": [
    "## Step 2\n",
    "- User defines their computation in a function with signature `computation(state: State, x: list[torch.Tensor])`.\n",
    "- Prover calls `computation_to_model(computation)` to derive the actual model.\n",
    "- Prover calls `prover_gen_settings`: export onnx file and compute the settings required by `ezkl.calibrate_settings`"
   ]
  },
  {
   "cell_type": "code",
   "execution_count": 7,
   "metadata": {},
   "outputs": [
    {
     "name": "stderr",
     "output_type": "stream",
     "text": [
      "/var/folders/89/y9dw12v976ngdmqz4l7wbsnr0000gn/T/ipykernel_43530/4262130413.py:7: TracerWarning: torch.tensor results are registered as constants in the trace. You can safely ignore this warning if you use this function to create tensors out of constant variables that would be the same every time you call this function. In any other case, this might cause the trace to be incorrect.\n",
      "  return state.mean(torch.tensor([out_0, out_1]).reshape(1,-1,1))\n",
      "/var/folders/89/y9dw12v976ngdmqz4l7wbsnr0000gn/T/ipykernel_43530/4262130413.py:7: TracerWarning: Converting a tensor to a Python float might cause the trace to be incorrect. We can't record the data flow of Python values, so this value will be treated as a constant in the future. This means that the trace might not generalize to other inputs!\n",
      "  return state.mean(torch.tensor([out_0, out_1]).reshape(1,-1,1))\n",
      "/Users/jernkun/Desktop/zk-stats-lib/zkstats/computation.py:166: TracerWarning: torch.tensor results are registered as constants in the trace. You can safely ignore this warning if you use this function to create tensors out of constant variables that would be the same every time you call this function. In any other case, this might cause the trace to be incorrect.\n",
      "  is_precise_aggregated = torch.tensor(1.0)\n",
      "/Users/jernkun/Library/Caches/pypoetry/virtualenvs/zkstats-OJpceffF-py3.11/lib/python3.11/site-packages/torch/onnx/symbolic_opset9.py:2174: FutureWarning: 'torch.onnx.symbolic_opset9._cast_Bool' is deprecated in version 2.0 and will be removed in the future. Please Avoid using this function and create a Cast node instead.\n",
      "  return fn(g, to_cast_func(g, input, False), to_cast_func(g, other, False))\n",
      "\n",
      "\n",
      " <------------- Numerical Fidelity Report (input_scale: 2, param_scale: 2, scale_input_multiplier: 10) ------------->\n",
      "\n",
      "+-------------+--------------+------------+-----------+----------------+------------------+---------------+---------------+--------------------+--------------------+------------------------+\n",
      "| mean_error  | median_error | max_error  | min_error | mean_abs_error | median_abs_error | max_abs_error | min_abs_error | mean_squared_error | mean_percent_error | mean_abs_percent_error |\n",
      "+-------------+--------------+------------+-----------+----------------+------------------+---------------+---------------+--------------------+--------------------+------------------------+\n",
      "| 0.025000095 | 0.05000019   | 0.05000019 | 0         | 0.025000095    | 0.05000019       | 0.05000019    | 0             | 0.0012500095       | 0.0019531325       | 0.0019531325           |\n",
      "+-------------+--------------+------------+-----------+----------------+------------------+---------------+---------------+--------------------+--------------------+------------------------+\n",
      "\n",
      "\n"
     ]
    },
    {
     "name": "stdout",
     "output_type": "stream",
     "text": [
      "==== Generate & Calibrate Setting ====\n",
      "scale:  [2]\n",
      "setting:  {\"run_args\":{\"tolerance\":{\"val\":0.0,\"scale\":1.0},\"input_scale\":2,\"param_scale\":2,\"scale_rebase_multiplier\":10,\"lookup_range\":[-192,338],\"logrows\":12,\"num_inner_cols\":2,\"variables\":[[\"batch_size\",1]],\"input_visibility\":{\"Hashed\":{\"hash_is_public\":true,\"outlets\":[]}},\"output_visibility\":\"Public\",\"param_visibility\":\"Private\",\"div_rebasing\":false,\"rebase_frac_zero_constants\":false,\"check_mode\":\"UNSAFE\"},\"num_rows\":2624,\"total_assignments\":302,\"total_const_size\":46,\"model_instance_shapes\":[[1],[1]],\"model_output_scales\":[0,2],\"model_input_scales\":[2,2],\"module_sizes\":{\"kzg\":[],\"poseidon\":[2624,[2]]},\"required_lookups\":[{\"GreaterThan\":{\"a\":0.0}}],\"required_range_checks\":[],\"check_mode\":\"UNSAFE\",\"version\":\"9.1.0\",\"num_blinding_factors\":null,\"timestamp\":1709450403352}\n"
     ]
    }
   ],
   "source": [
    "from zkstats.computation import State, computation_to_model\n",
    "\n",
    "\n",
    "def computation(state: State, x: list[torch.Tensor]):\n",
    "    out_0 = state.median(x[0])\n",
    "    out_1 = state.median(x[1])\n",
    "    return state.mean(torch.tensor([out_0, out_1]).reshape(1,-1,1))\n",
    "\n",
    "_, prover_model = computation_to_model(computation)\n",
    "prover_gen_settings(data_path, selected_columns, sel_data_path, prover_model, prover_model_path, scales, \"resources\", settings_path)\n"
   ]
  },
  {
   "attachments": {},
   "cell_type": "markdown",
   "metadata": {},
   "source": [
    "## Step 3\n",
    "- Prover generates proof with `prover_gen_proof`:\n",
    "    - 1. Compile circuit with `compile_circuit`\n",
    "        - Inputs: onnx model, settings path\n",
    "        - Outputs: compiled \n",
    "    - 2. Generate witness with\n",
    "- Verifier generates keys with "
   ]
  },
  {
   "cell_type": "code",
   "execution_count": 8,
   "metadata": {},
   "outputs": [
    {
     "name": "stdout",
     "output_type": "stream",
     "text": [
      "==== setting up ezkl ====\n",
      "Time setup: 0.45028138160705566 seconds\n",
      "=======================================\n",
      "==== Generating Witness ====\n",
      "witness boolean:  1.0\n",
      "witness result 1 : 12.75\n",
      "==== Generating Proof ====\n",
      "proof:  {'instances': [['43aef79b2c02e756f80f1c9c237be69f1b7497caef637e58f03450a15b654b21', 'f1a01cfac5286cb0b9c26b8dcd3e1437756456e3e433a5571d64d0781222490e', '0100000000000000000000000000000000000000000000000000000000000000', '3300000000000000000000000000000000000000000000000000000000000000']], 'proof': '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', 'transcript_type': 'EVM'}\n",
      "Time gen prf: 0.4699513912200928 seconds\n"
     ]
    }
   ],
   "source": [
    "# Here verifier & prover can concurrently call setup since all params are public to get pk.\n",
    "# Here write as verifier function to emphasize that verifier must calculate its own vk to be sure\n",
    "setup(prover_model_path, prover_compiled_model_path, settings_path, vk_path, pk_path )\n",
    "\n",
    "print(\"=======================================\")\n",
    "# Prover generates proof\n",
    "# print(\"Theory output: \", theory_output)\n",
    "prover_gen_proof(prover_model_path, sel_data_path, witness_path, prover_compiled_model_path, settings_path, proof_path, pk_path)"
   ]
  },
  {
   "cell_type": "code",
   "execution_count": 9,
   "metadata": {},
   "outputs": [
    {
     "data": {
      "text/plain": [
       "[12.75]"
      ]
     },
     "execution_count": 9,
     "metadata": {},
     "output_type": "execute_result"
    }
   ],
   "source": [
    "# Verifier verifies\n",
    "verifier_verify(proof_path, settings_path, vk_path, selected_columns, commitment_maps)"
   ]
  },
  {
   "cell_type": "code",
   "execution_count": null,
   "metadata": {},
   "outputs": [],
   "source": []
  }
 ],
 "metadata": {
  "kernelspec": {
   "display_name": "Python 3",
   "language": "python",
   "name": "python3"
  },
  "language_info": {
   "codemirror_mode": {
    "name": "ipython",
    "version": 3
   },
   "file_extension": ".py",
   "mimetype": "text/x-python",
   "name": "python",
   "nbconvert_exporter": "python",
   "pygments_lexer": "ipython3",
   "version": "3.11.4"
  },
  "orig_nbformat": 4
 },
 "nbformat": 4,
 "nbformat_minor": 2
}
