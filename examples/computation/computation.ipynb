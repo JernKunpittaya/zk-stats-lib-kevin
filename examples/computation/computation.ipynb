{
 "cells": [
  {
   "cell_type": "code",
   "execution_count": 1,
   "metadata": {},
   "outputs": [],
   "source": [
    "import ezkl\n",
    "import torch\n",
    "from torch import nn\n",
    "import json\n",
    "import os\n",
    "import time\n",
    "import scipy\n",
    "import numpy as np\n",
    "import matplotlib.pyplot as plt\n",
    "import statistics\n",
    "import math"
   ]
  },
  {
   "cell_type": "code",
   "execution_count": 2,
   "metadata": {},
   "outputs": [],
   "source": [
    "from zkstats.core import create_dummy, verifier_define_calculation,prover_gen_settings, setup, prover_gen_proof, verifier_verify, generate_data_commitment"
   ]
  },
  {
   "attachments": {},
   "cell_type": "markdown",
   "metadata": {},
   "source": []
  },
  {
   "cell_type": "code",
   "execution_count": 3,
   "metadata": {},
   "outputs": [],
   "source": [
    "# init path\n",
    "os.makedirs(os.path.dirname('shared/'), exist_ok=True)\n",
    "os.makedirs(os.path.dirname('prover/'), exist_ok=True)\n",
    "verifier_model_path = os.path.join('shared/verifier.onnx')\n",
    "prover_model_path = os.path.join('prover/prover.onnx')\n",
    "verifier_compiled_model_path = os.path.join('shared/verifier.compiled')\n",
    "prover_compiled_model_path = os.path.join('prover/prover.compiled')\n",
    "pk_path = os.path.join('shared/test.pk')\n",
    "vk_path = os.path.join('shared/test.vk')\n",
    "proof_path = os.path.join('shared/test.pf')\n",
    "settings_path = os.path.join('shared/settings.json')\n",
    "srs_path = os.path.join('shared/kzg.srs')\n",
    "witness_path = os.path.join('prover/witness.json')\n",
    "# this is private to prover since it contains actual data\n",
    "sel_data_path = os.path.join('prover/sel_data.json')\n",
    "# this is just dummy random value\n",
    "sel_dummy_data_path = os.path.join('shared/sel_dummy_data.json')\n",
    "data_commitment_path = os.path.join('shared/data_commitment.json')\n",
    "precal_witness_path = os.path.join('shared/precal_witness_arr.json')"
   ]
  },
  {
   "attachments": {},
   "cell_type": "markdown",
   "metadata": {},
   "source": [
    "=======================  ZK-STATS FLOW ======================="
   ]
  },
  {
   "attachments": {},
   "cell_type": "markdown",
   "metadata": {},
   "source": [
    "## Step 1\n",
    "Here're just a preparatory phase for prover\n",
    "- Create dummy data associated with their dataset for verifier to use for generating onnx model.\n",
    "- Generate data commitment for their dataset."
   ]
  },
  {
   "cell_type": "code",
   "execution_count": 4,
   "metadata": {},
   "outputs": [],
   "source": [
    "data_path = os.path.join('data.json')\n",
    "dummy_data_path = os.path.join('shared/dummy_data.json')\n",
    "\n",
    "create_dummy(data_path, dummy_data_path)"
   ]
  },
  {
   "cell_type": "code",
   "execution_count": 5,
   "metadata": {},
   "outputs": [],
   "source": [
    "scales = [2]\n",
    "selected_columns = ['x', 'y']\n",
    "generate_data_commitment(data_path, scales, data_commitment_path)"
   ]
  },
  {
   "attachments": {},
   "cell_type": "markdown",
   "metadata": {},
   "source": [
    "## Step 2\n",
    "- User (Verifier) defines their computation in a function with signature `computation(state: State, x: list[torch.Tensor])`.\n",
    "- Prover calls `computation_to_model()` to derive the actual model.\n",
    "- Prover calls `prover_gen_settings`: export onnx file and compute the settings required by `ezkl.calibrate_settings`, while also export `precal_witness_arr.json` which is the constant witness needed for verifier to generate the same onnx."
   ]
  },
  {
   "cell_type": "code",
   "execution_count": 6,
   "metadata": {},
   "outputs": [
    {
     "name": "stderr",
     "output_type": "stream",
     "text": [
      "/Users/jernkun/Desktop/zk-stats-lib/zkstats/computation.py:254: TracerWarning: torch.tensor results are registered as constants in the trace. You can safely ignore this warning if you use this function to create tensors out of constant variables that would be the same every time you call this function. In any other case, this might cause the trace to be incorrect.\n",
      "  is_precise_aggregated = torch.tensor(1.0)\n",
      "/Users/jernkun/Library/Caches/pypoetry/virtualenvs/zkstats-OJpceffF-py3.11/lib/python3.11/site-packages/torch/onnx/symbolic_opset9.py:2174: FutureWarning: 'torch.onnx.symbolic_opset9._cast_Bool' is deprecated in version 2.0 and will be removed in the future. Please Avoid using this function and create a Cast node instead.\n",
      "  return fn(g, to_cast_func(g, input, False), to_cast_func(g, other, False))\n",
      "/Users/jernkun/Library/Caches/pypoetry/virtualenvs/zkstats-OJpceffF-py3.11/lib/python3.11/site-packages/torch/onnx/utils.py:1703: UserWarning: The exported ONNX model failed ONNX shape inference. The model will not be executable by the ONNX Runtime. If this is unintended and you believe there is a bug, please report an issue at https://github.com/pytorch/pytorch/issues. Error reported by strict ONNX shape inference: [ShapeInferenceError] (op_type:Where, node name: /Where_17): Y has inconsistent type tensor(float) (Triggered internally at /Users/runner/work/pytorch/pytorch/pytorch/torch/csrc/jit/serialization/export.cpp:1490.)\n",
      "  _C._check_onnx_proto(proto)\n",
      "\n",
      "\n",
      " <------------- Numerical Fidelity Report (input_scale: 2, param_scale: 2, scale_input_multiplier: 10) ------------->\n",
      "\n",
      "+-------------+--------------+-------------+-----------+----------------+------------------+---------------+---------------+--------------------+--------------------+------------------------+\n",
      "| mean_error  | median_error | max_error   | min_error | mean_abs_error | median_abs_error | max_abs_error | min_abs_error | mean_squared_error | mean_percent_error | mean_abs_percent_error |\n",
      "+-------------+--------------+-------------+-----------+----------------+------------------+---------------+---------------+--------------------+--------------------+------------------------+\n",
      "| 0.012500048 | 0.025000095  | 0.025000095 | 0         | 0.012500048    | 0.025000095      | 0.025000095   | 0             | 0.00031250238      | 0.0038168083       | 0.0038168083           |\n",
      "+-------------+--------------+-------------+-----------+----------------+------------------+---------------+---------------+--------------------+--------------------+------------------------+\n",
      "\n",
      "\n"
     ]
    },
    {
     "name": "stdout",
     "output_type": "stream",
     "text": [
      "==== Generate & Calibrate Setting ====\n",
      "scale:  [2]\n",
      "setting:  {\"run_args\":{\"tolerance\":{\"val\":0.0,\"scale\":1.0},\"input_scale\":2,\"param_scale\":2,\"scale_rebase_multiplier\":10,\"lookup_range\":[-56,64],\"logrows\":12,\"num_inner_cols\":2,\"variables\":[[\"batch_size\",1]],\"input_visibility\":{\"Hashed\":{\"hash_is_public\":true,\"outlets\":[]}},\"output_visibility\":\"Public\",\"param_visibility\":\"Fixed\",\"div_rebasing\":false,\"rebase_frac_zero_constants\":false,\"check_mode\":\"UNSAFE\"},\"num_rows\":2624,\"total_assignments\":1111,\"total_const_size\":496,\"model_instance_shapes\":[[1],[1]],\"model_output_scales\":[0,2],\"model_input_scales\":[2,2],\"module_sizes\":{\"kzg\":[],\"poseidon\":[2624,[2]]},\"required_lookups\":[\"Abs\",\"ReLU\",{\"GreaterThan\":{\"a\":0.0}},{\"Floor\":{\"scale\":8.0}}],\"required_range_checks\":[],\"check_mode\":\"UNSAFE\",\"version\":\"9.1.0\",\"num_blinding_factors\":null,\"timestamp\":1715254003218}\n"
     ]
    }
   ],
   "source": [
    "from zkstats.computation import State, computation_to_model\n",
    "\n",
    "\n",
    "def computation(state: State, x: list[torch.Tensor]):\n",
    "    out_0 = state.median(x[0])\n",
    "    out_1 = state.median(x[1])\n",
    "    return state.mean(torch.cat((out_0.unsqueeze(0), out_1.unsqueeze(0))).reshape(1,-1,1))\n",
    "\n",
    "error = 0.01\n",
    "\n",
    "_, prover_model = computation_to_model(computation,precal_witness_path, True, error )\n",
    "prover_gen_settings(data_path, selected_columns, sel_data_path, prover_model, prover_model_path, scales, \"resources\", settings_path)\n"
   ]
  },
  {
   "attachments": {},
   "cell_type": "markdown",
   "metadata": {},
   "source": [
    "## Step 3\n",
    "- User (Verifier) gets `precal_witness_arr.json`, and generate the same onnx format with same parameter."
   ]
  },
  {
   "cell_type": "code",
   "execution_count": 7,
   "metadata": {},
   "outputs": [],
   "source": [
    "_, verifier_model = computation_to_model(computation, precal_witness_path, False,error)\n",
    "verifier_define_calculation(dummy_data_path, selected_columns, sel_dummy_data_path,verifier_model, verifier_model_path)"
   ]
  },
  {
   "attachments": {},
   "cell_type": "markdown",
   "metadata": {},
   "source": [
    "## Step 4\n",
    "- Verifier sets up vk, pk.\n",
    "- Prover generates proof with `prover_gen_proof`\n"
   ]
  },
  {
   "cell_type": "code",
   "execution_count": 8,
   "metadata": {},
   "outputs": [
    {
     "name": "stdout",
     "output_type": "stream",
     "text": [
      "==== setting up ezkl ====\n",
      "Time setup: 0.5904722213745117 seconds\n",
      "=======================================\n",
      "==== Generating Witness ====\n",
      "witness boolean:  1.0\n",
      "witness result 1 : 3.25\n",
      "==== Generating Proof ====\n",
      "proof:  {'instances': [['cde936180fb7e379a578309232773e02b017d59f9001712b917a148b525d7b19', 'a38c8628cd223f38f854eade2722b8dd09b5797a0408398dd3d5160b6584e90b', '0100000000000000000000000000000000000000000000000000000000000000', '0d00000000000000000000000000000000000000000000000000000000000000']], 'proof': '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', 'transcript_type': 'EVM'}\n",
      "Time gen prf: 0.8806459903717041 seconds\n"
     ]
    }
   ],
   "source": [
    "# Here verifier & prover can concurrently call setup since all params are public to get pk.\n",
    "# Here write as verifier function to emphasize that verifier must calculate its own vk to be sure\n",
    "setup(verifier_model_path, verifier_compiled_model_path, settings_path, vk_path, pk_path )\n",
    "\n",
    "print(\"=======================================\")\n",
    "# Prover generates proof\n",
    "# print(\"Theory output: \", theory_output)\n",
    "prover_gen_proof(prover_model_path, sel_data_path, witness_path, prover_compiled_model_path, settings_path, proof_path, pk_path)"
   ]
  },
  {
   "cell_type": "code",
   "execution_count": 9,
   "metadata": {},
   "outputs": [
    {
     "data": {
      "text/plain": [
       "[3.25]"
      ]
     },
     "execution_count": 9,
     "metadata": {},
     "output_type": "execute_result"
    }
   ],
   "source": [
    "# Verifier verifies\n",
    "verifier_verify(proof_path, settings_path, vk_path, selected_columns, data_commitment_path)"
   ]
  },
  {
   "cell_type": "code",
   "execution_count": null,
   "metadata": {},
   "outputs": [],
   "source": []
  }
 ],
 "metadata": {
  "kernelspec": {
   "display_name": "Python 3",
   "language": "python",
   "name": "python3"
  },
  "language_info": {
   "codemirror_mode": {
    "name": "ipython",
    "version": 3
   },
   "file_extension": ".py",
   "mimetype": "text/x-python",
   "name": "python",
   "nbconvert_exporter": "python",
   "pygments_lexer": "ipython3",
   "version": "3.11.4"
  },
  "orig_nbformat": 4
 },
 "nbformat": 4,
 "nbformat_minor": 2
}
