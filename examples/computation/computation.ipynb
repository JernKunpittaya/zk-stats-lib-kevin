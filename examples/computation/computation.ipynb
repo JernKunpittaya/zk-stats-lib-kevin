{
 "cells": [
  {
   "cell_type": "code",
   "execution_count": 1,
   "metadata": {},
   "outputs": [
    {
     "name": "stdout",
     "output_type": "stream",
     "text": [
      "Requirement already satisfied: ezkl==7.0.0 in /Users/mhchia/projects/work/pse/zk-stats-lib/.venv/lib/python3.9/site-packages (from -r ../../requirements.txt (line 1)) (7.0.0)\n",
      "Requirement already satisfied: torch in /Users/mhchia/projects/work/pse/zk-stats-lib/.venv/lib/python3.9/site-packages (from -r ../../requirements.txt (line 2)) (2.1.1)\n",
      "Requirement already satisfied: requests in /Users/mhchia/projects/work/pse/zk-stats-lib/.venv/lib/python3.9/site-packages (from -r ../../requirements.txt (line 3)) (2.31.0)\n",
      "Requirement already satisfied: scipy in /Users/mhchia/projects/work/pse/zk-stats-lib/.venv/lib/python3.9/site-packages (from -r ../../requirements.txt (line 4)) (1.11.4)\n",
      "Requirement already satisfied: numpy in /Users/mhchia/projects/work/pse/zk-stats-lib/.venv/lib/python3.9/site-packages (from -r ../../requirements.txt (line 5)) (1.26.2)\n",
      "Requirement already satisfied: matplotlib in /Users/mhchia/projects/work/pse/zk-stats-lib/.venv/lib/python3.9/site-packages (from -r ../../requirements.txt (line 6)) (3.8.2)\n",
      "Requirement already satisfied: statistics in /Users/mhchia/projects/work/pse/zk-stats-lib/.venv/lib/python3.9/site-packages (from -r ../../requirements.txt (line 7)) (1.0.3.5)\n",
      "Requirement already satisfied: onnx in /Users/mhchia/projects/work/pse/zk-stats-lib/.venv/lib/python3.9/site-packages (from -r ../../requirements.txt (line 8)) (1.15.0)\n",
      "Requirement already satisfied: fsspec in /Users/mhchia/projects/work/pse/zk-stats-lib/.venv/lib/python3.9/site-packages (from torch->-r ../../requirements.txt (line 2)) (2023.12.0)\n",
      "Requirement already satisfied: filelock in /Users/mhchia/projects/work/pse/zk-stats-lib/.venv/lib/python3.9/site-packages (from torch->-r ../../requirements.txt (line 2)) (3.13.1)\n",
      "Requirement already satisfied: typing-extensions in /Users/mhchia/projects/work/pse/zk-stats-lib/.venv/lib/python3.9/site-packages (from torch->-r ../../requirements.txt (line 2)) (4.8.0)\n",
      "Requirement already satisfied: jinja2 in /Users/mhchia/projects/work/pse/zk-stats-lib/.venv/lib/python3.9/site-packages (from torch->-r ../../requirements.txt (line 2)) (3.1.2)\n",
      "Requirement already satisfied: networkx in /Users/mhchia/projects/work/pse/zk-stats-lib/.venv/lib/python3.9/site-packages (from torch->-r ../../requirements.txt (line 2)) (3.2.1)\n",
      "Requirement already satisfied: sympy in /Users/mhchia/projects/work/pse/zk-stats-lib/.venv/lib/python3.9/site-packages (from torch->-r ../../requirements.txt (line 2)) (1.12)\n",
      "Requirement already satisfied: idna<4,>=2.5 in /Users/mhchia/projects/work/pse/zk-stats-lib/.venv/lib/python3.9/site-packages (from requests->-r ../../requirements.txt (line 3)) (3.6)\n",
      "Requirement already satisfied: certifi>=2017.4.17 in /Users/mhchia/projects/work/pse/zk-stats-lib/.venv/lib/python3.9/site-packages (from requests->-r ../../requirements.txt (line 3)) (2023.11.17)\n",
      "Requirement already satisfied: charset-normalizer<4,>=2 in /Users/mhchia/projects/work/pse/zk-stats-lib/.venv/lib/python3.9/site-packages (from requests->-r ../../requirements.txt (line 3)) (3.3.2)\n",
      "Requirement already satisfied: urllib3<3,>=1.21.1 in /Users/mhchia/projects/work/pse/zk-stats-lib/.venv/lib/python3.9/site-packages (from requests->-r ../../requirements.txt (line 3)) (2.1.0)\n",
      "Requirement already satisfied: python-dateutil>=2.7 in /Users/mhchia/projects/work/pse/zk-stats-lib/.venv/lib/python3.9/site-packages (from matplotlib->-r ../../requirements.txt (line 6)) (2.8.2)\n",
      "Requirement already satisfied: contourpy>=1.0.1 in /Users/mhchia/projects/work/pse/zk-stats-lib/.venv/lib/python3.9/site-packages (from matplotlib->-r ../../requirements.txt (line 6)) (1.2.0)\n",
      "Requirement already satisfied: fonttools>=4.22.0 in /Users/mhchia/projects/work/pse/zk-stats-lib/.venv/lib/python3.9/site-packages (from matplotlib->-r ../../requirements.txt (line 6)) (4.46.0)\n",
      "Requirement already satisfied: cycler>=0.10 in /Users/mhchia/projects/work/pse/zk-stats-lib/.venv/lib/python3.9/site-packages (from matplotlib->-r ../../requirements.txt (line 6)) (0.12.1)\n",
      "Requirement already satisfied: kiwisolver>=1.3.1 in /Users/mhchia/projects/work/pse/zk-stats-lib/.venv/lib/python3.9/site-packages (from matplotlib->-r ../../requirements.txt (line 6)) (1.4.5)\n",
      "Requirement already satisfied: pyparsing>=2.3.1 in /Users/mhchia/projects/work/pse/zk-stats-lib/.venv/lib/python3.9/site-packages (from matplotlib->-r ../../requirements.txt (line 6)) (3.1.1)\n",
      "Requirement already satisfied: importlib-resources>=3.2.0 in /Users/mhchia/projects/work/pse/zk-stats-lib/.venv/lib/python3.9/site-packages (from matplotlib->-r ../../requirements.txt (line 6)) (6.1.1)\n",
      "Requirement already satisfied: pillow>=8 in /Users/mhchia/projects/work/pse/zk-stats-lib/.venv/lib/python3.9/site-packages (from matplotlib->-r ../../requirements.txt (line 6)) (10.1.0)\n",
      "Requirement already satisfied: packaging>=20.0 in /Users/mhchia/projects/work/pse/zk-stats-lib/.venv/lib/python3.9/site-packages (from matplotlib->-r ../../requirements.txt (line 6)) (23.2)\n",
      "Requirement already satisfied: docutils>=0.3 in /Users/mhchia/projects/work/pse/zk-stats-lib/.venv/lib/python3.9/site-packages (from statistics->-r ../../requirements.txt (line 7)) (0.20.1)\n",
      "Requirement already satisfied: protobuf>=3.20.2 in /Users/mhchia/projects/work/pse/zk-stats-lib/.venv/lib/python3.9/site-packages (from onnx->-r ../../requirements.txt (line 8)) (4.25.1)\n",
      "Requirement already satisfied: zipp>=3.1.0 in /Users/mhchia/projects/work/pse/zk-stats-lib/.venv/lib/python3.9/site-packages (from importlib-resources>=3.2.0->matplotlib->-r ../../requirements.txt (line 6)) (3.17.0)\n",
      "Requirement already satisfied: six>=1.5 in /Users/mhchia/projects/work/pse/zk-stats-lib/.venv/lib/python3.9/site-packages (from python-dateutil>=2.7->matplotlib->-r ../../requirements.txt (line 6)) (1.16.0)\n",
      "Requirement already satisfied: MarkupSafe>=2.0 in /Users/mhchia/projects/work/pse/zk-stats-lib/.venv/lib/python3.9/site-packages (from jinja2->torch->-r ../../requirements.txt (line 2)) (2.1.3)\n",
      "Requirement already satisfied: mpmath>=0.19 in /Users/mhchia/projects/work/pse/zk-stats-lib/.venv/lib/python3.9/site-packages (from sympy->torch->-r ../../requirements.txt (line 2)) (1.3.0)\n",
      "\n",
      "\u001b[1m[\u001b[0m\u001b[34;49mnotice\u001b[0m\u001b[1;39;49m]\u001b[0m\u001b[39;49m A new release of pip available: \u001b[0m\u001b[31;49m22.3.1\u001b[0m\u001b[39;49m -> \u001b[0m\u001b[32;49m23.3.2\u001b[0m\n",
      "\u001b[1m[\u001b[0m\u001b[34;49mnotice\u001b[0m\u001b[1;39;49m]\u001b[0m\u001b[39;49m To update, run: \u001b[0m\u001b[32;49mpip install --upgrade pip\u001b[0m\n",
      "Note: you may need to restart the kernel to use updated packages.\n"
     ]
    }
   ],
   "source": [
    "pip install -r ../../requirements.txt"
   ]
  },
  {
   "cell_type": "code",
   "execution_count": 2,
   "metadata": {},
   "outputs": [],
   "source": [
    "import ezkl\n",
    "import torch\n",
    "from torch import nn\n",
    "import json\n",
    "import os\n",
    "import time\n",
    "import scipy\n",
    "import numpy as np\n",
    "import matplotlib.pyplot as plt\n",
    "import statistics\n",
    "import math"
   ]
  },
  {
   "cell_type": "code",
   "execution_count": 3,
   "metadata": {},
   "outputs": [],
   "source": [
    "from zkstats.core import prover_gen_settings, verifier_setup, prover_gen_proof, verifier_verify"
   ]
  },
  {
   "attachments": {},
   "cell_type": "markdown",
   "metadata": {},
   "source": []
  },
  {
   "cell_type": "code",
   "execution_count": 4,
   "metadata": {},
   "outputs": [],
   "source": [
    "# init path\n",
    "os.makedirs(os.path.dirname('shared/'), exist_ok=True)\n",
    "os.makedirs(os.path.dirname('prover/'), exist_ok=True)\n",
    "verifier_model_path = os.path.join('shared/verifier.onnx')\n",
    "prover_model_path = os.path.join('prover/prover.onnx')\n",
    "verifier_compiled_model_path = os.path.join('shared/verifier.compiled')\n",
    "prover_compiled_model_path = os.path.join('prover/prover.compiled')\n",
    "pk_path = os.path.join('shared/test.pk')\n",
    "vk_path = os.path.join('shared/test.vk')\n",
    "proof_path = os.path.join('shared/test.pf')\n",
    "settings_path = os.path.join('shared/settings.json')\n",
    "# srs_path = os.path.join('shared/kzg.srs')\n",
    "witness_path = os.path.join('prover/witness.json')\n",
    "# this is private to prover since it contains actual data\n",
    "comb_data_path = os.path.join('prover/comb_data.json')"
   ]
  },
  {
   "attachments": {},
   "cell_type": "markdown",
   "metadata": {},
   "source": [
    "=======================  ZK-STATS FLOW ======================="
   ]
  },
  {
   "attachments": {},
   "cell_type": "markdown",
   "metadata": {},
   "source": [
    "## Step 1\n",
    "Verifier calls `export_onnx` with dummy data, to generate the onnx model. Dummy data is used to infer the shape of the model\n",
    "\n",
    "### Output\n",
    "- `verifier.onnx` file"
   ]
  },
  {
   "cell_type": "code",
   "execution_count": 5,
   "metadata": {},
   "outputs": [],
   "source": [
    "data_path = os.path.join('data.json')\n",
    "dummy_data_path = os.path.join('shared/dummy_data.json')"
   ]
  },
  {
   "attachments": {},
   "cell_type": "markdown",
   "metadata": {},
   "source": [
    "## Step 2\n",
    "- User defines their computation in a function with signature `computation(state: State, x: list[torch.Tensor])`.\n",
    "- Prover calls `create_model(computation)` to derive the actual model.\n",
    "- Prover calls `prover_gen_settings`: export onnx file and compute the settings required by `ezkl.calibrate_settings`"
   ]
  },
  {
   "cell_type": "code",
   "execution_count": 6,
   "metadata": {},
   "outputs": [
    {
     "name": "stderr",
     "output_type": "stream",
     "text": [
      "/var/folders/t3/5psrvr1x0w1_6n9kx2n7d9700000gn/T/ipykernel_56057/1617438771.py:8: TracerWarning: torch.tensor results are registered as constants in the trace. You can safely ignore this warning if you use this function to create tensors out of constant variables that would be the same every time you call this function. In any other case, this might cause the trace to be incorrect.\n",
      "  return state.mean(torch.tensor([out_0, out_1]).reshape(1,-1,1))\n",
      "/var/folders/t3/5psrvr1x0w1_6n9kx2n7d9700000gn/T/ipykernel_56057/1617438771.py:8: TracerWarning: Converting a tensor to a Python float might cause the trace to be incorrect. We can't record the data flow of Python values, so this value will be treated as a constant in the future. This means that the trace might not generalize to other inputs!\n",
      "  return state.mean(torch.tensor([out_0, out_1]).reshape(1,-1,1))\n",
      "/Users/mhchia/projects/work/pse/zk-stats-lib/zkstats/computation.py:75: TracerWarning: torch.tensor results are registered as constants in the trace. You can safely ignore this warning if you use this function to create tensors out of constant variables that would be the same every time you call this function. In any other case, this might cause the trace to be incorrect.\n",
      "  is_precise_aggregated = torch.tensor(1.0)\n",
      "/Users/mhchia/projects/work/pse/zk-stats-lib/.venv/lib/python3.9/site-packages/torch/onnx/symbolic_opset9.py:2174: FutureWarning: 'torch.onnx.symbolic_opset9._cast_Bool' is deprecated in version 2.0 and will be removed in the future. Please Avoid using this function and create a Cast node instead.\n",
      "  return fn(g, to_cast_func(g, input, False), to_cast_func(g, other, False))\n"
     ]
    },
    {
     "name": "stdout",
     "output_type": "stream",
     "text": [
      "==== Generate & Calibrate Setting ====\n",
      "scale:  default\n",
      "setting:  {\"run_args\":{\"tolerance\":{\"val\":0.0,\"scale\":1.0},\"input_scale\":8,\"param_scale\":8,\"scale_rebase_multiplier\":10,\"lookup_range\":[-34048,33628],\"logrows\":17,\"num_inner_cols\":2,\"variables\":[[\"batch_size\",1]],\"input_visibility\":{\"Hashed\":{\"hash_is_public\":true,\"outlets\":[]}},\"output_visibility\":\"Public\",\"param_visibility\":\"Private\"},\"num_rows\":1312,\"total_assignments\":289,\"total_const_size\":52,\"model_instance_shapes\":[[1],[1]],\"model_output_scales\":[0,8],\"model_input_scales\":[8],\"module_sizes\":{\"kzg\":[],\"poseidon\":[1312,[1]],\"elgamal\":[0,[0]]},\"required_lookups\":[\"Abs\",{\"GreaterThan\":{\"a\":0.0}},\"KroneckerDelta\"],\"check_mode\":\"UNSAFE\",\"version\":\"7.0.0\",\"num_blinding_factors\":null}\n"
     ]
    }
   ],
   "source": [
    "from zkstats.computation import State, create_model\n",
    "\n",
    "\n",
    "def computation(state: State, x: list[torch.Tensor]):\n",
    "    x_0 = x[0]\n",
    "    out_0 = state.median(x_0)\n",
    "    out_1 = state.median(x_0)\n",
    "    return state.mean(torch.tensor([out_0, out_1]).reshape(1,-1,1))\n",
    "\n",
    "_, prover_model = create_model(computation)\n",
    "prover_gen_settings([data_path], comb_data_path, prover_model, prover_model_path, \"default\", \"resources\", settings_path)\n"
   ]
  },
  {
   "attachments": {},
   "cell_type": "markdown",
   "metadata": {},
   "source": [
    "## Step 3\n",
    "- Prover generates proof with `prover_gen_proof`:\n",
    "    - 1. Compile circuit with `compile_circuit`\n",
    "        - Inputs: onnx model, settings path\n",
    "        - Outputs: compiled \n",
    "    - 2. Generate witness with\n",
    "- Verifier generates keys with "
   ]
  },
  {
   "cell_type": "code",
   "execution_count": 7,
   "metadata": {},
   "outputs": [
    {
     "name": "stderr",
     "output_type": "stream",
     "text": [
      "spawning module 0\n"
     ]
    },
    {
     "name": "stdout",
     "output_type": "stream",
     "text": [
      "==== setting up ezkl ====\n"
     ]
    },
    {
     "name": "stderr",
     "output_type": "stream",
     "text": [
      "spawning module 2\n",
      "spawning module 0\n",
      "spawning module 2\n"
     ]
    },
    {
     "name": "stdout",
     "output_type": "stream",
     "text": [
      "Time setup: 23.758974313735962 seconds\n",
      "=======================================\n",
      "!@# compiled_model exists? True\n",
      "!@# compiled_model exists? True\n",
      "==== Generating Witness ====\n",
      "witness boolean:  1.0\n",
      "witness result 1 : 59.6015625\n",
      "==== Generating Proof ====\n"
     ]
    },
    {
     "name": "stderr",
     "output_type": "stream",
     "text": [
      "spawning module 0\n",
      "spawning module 2\n"
     ]
    },
    {
     "name": "stdout",
     "output_type": "stream",
     "text": [
      "proof:  {'instances': [[[1969817931821079592, 14093252634055327186, 3010599488369023793, 2676483216109330922], [12436184717236109307, 3962172157175319849, 7381016538464732718, 1011752739694698287], [10077958863098660019, 689600963559187911, 14561112591056096131, 381975124955332008]]], 'proof': '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', 'transcript_type': 'EVM'}\n",
      "Time gen prf: 32.832326889038086 seconds\n"
     ]
    }
   ],
   "source": [
    "# Here verifier & prover can concurrently call setup since all params are public to get pk.\n",
    "# Here write as verifier function to emphasize that verifier must calculate its own vk to be sure\n",
    "verifier_setup(prover_model_path, prover_compiled_model_path, settings_path, vk_path, pk_path )\n",
    "\n",
    "print(\"=======================================\")\n",
    "# Prover generates proof\n",
    "# print(\"Theory output: \", theory_output)\n",
    "prover_gen_proof(prover_model_path, comb_data_path, witness_path, prover_compiled_model_path, settings_path, proof_path, pk_path)"
   ]
  },
  {
   "cell_type": "code",
   "execution_count": 8,
   "metadata": {},
   "outputs": [
    {
     "name": "stdout",
     "output_type": "stream",
     "text": [
      "num_inputs:  1\n",
      "prf instances:  [[[1969817931821079592, 14093252634055327186, 3010599488369023793, 2676483216109330922], [12436184717236109307, 3962172157175319849, 7381016538464732718, 1011752739694698287], [10077958863098660019, 689600963559187911, 14561112591056096131, 381975124955332008]]]\n",
      "proof boolean:  1.0\n",
      "proof result 1 : 59.6015625\n",
      "verified\n"
     ]
    }
   ],
   "source": [
    "# Verifier verifies\n",
    "verifier_verify(proof_path, settings_path, vk_path)"
   ]
  }
 ],
 "metadata": {
  "kernelspec": {
   "display_name": "Python 3",
   "language": "python",
   "name": "python3"
  },
  "language_info": {
   "codemirror_mode": {
    "name": "ipython",
    "version": 3
   },
   "file_extension": ".py",
   "mimetype": "text/x-python",
   "name": "python",
   "nbconvert_exporter": "python",
   "pygments_lexer": "ipython3",
   "version": "3.9.6"
  },
  "orig_nbformat": 4
 },
 "nbformat": 4,
 "nbformat_minor": 2
}
