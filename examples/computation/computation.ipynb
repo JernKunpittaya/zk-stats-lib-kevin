{
 "cells": [
  {
   "cell_type": "code",
   "execution_count": 10,
   "metadata": {},
   "outputs": [],
   "source": [
    "import ezkl\n",
    "import torch\n",
    "from torch import nn\n",
    "import json\n",
    "import os\n",
    "import time\n",
    "import scipy\n",
    "import numpy as np\n",
    "import matplotlib.pyplot as plt\n",
    "import statistics\n",
    "import math"
   ]
  },
  {
   "cell_type": "code",
   "execution_count": 11,
   "metadata": {},
   "outputs": [],
   "source": [
    "from zkstats.core import prover_gen_settings, setup, prover_gen_proof, verifier_verify, get_data_commitment_maps"
   ]
  },
  {
   "attachments": {},
   "cell_type": "markdown",
   "metadata": {},
   "source": []
  },
  {
   "cell_type": "code",
   "execution_count": 12,
   "metadata": {},
   "outputs": [],
   "source": [
    "# init path\n",
    "os.makedirs(os.path.dirname('shared/'), exist_ok=True)\n",
    "os.makedirs(os.path.dirname('prover/'), exist_ok=True)\n",
    "verifier_model_path = os.path.join('shared/verifier.onnx')\n",
    "prover_model_path = os.path.join('prover/prover.onnx')\n",
    "verifier_compiled_model_path = os.path.join('shared/verifier.compiled')\n",
    "prover_compiled_model_path = os.path.join('prover/prover.compiled')\n",
    "pk_path = os.path.join('shared/test.pk')\n",
    "vk_path = os.path.join('shared/test.vk')\n",
    "proof_path = os.path.join('shared/test.pf')\n",
    "settings_path = os.path.join('shared/settings.json')\n",
    "# srs_path = os.path.join('shared/kzg.srs')\n",
    "# this is private to prover since it contains actual data\n",
    "sel_data_path = os.path.join('prover/sel_data.json')\n",
    "witness_path = os.path.join('prover/witness.json')"
   ]
  },
  {
   "attachments": {},
   "cell_type": "markdown",
   "metadata": {},
   "source": [
    "=======================  ZK-STATS FLOW ======================="
   ]
  },
  {
   "attachments": {},
   "cell_type": "markdown",
   "metadata": {},
   "source": [
    "## Step 1\n",
    "Verifier calls `export_onnx` with dummy data, to generate the onnx model. Dummy data is used to infer the shape of the model\n",
    "\n",
    "### Output\n",
    "- `verifier.onnx` file"
   ]
  },
  {
   "cell_type": "code",
   "execution_count": 13,
   "metadata": {},
   "outputs": [],
   "source": [
    "data_path = os.path.join('data.json')"
   ]
  },
  {
   "cell_type": "code",
   "execution_count": 14,
   "metadata": {},
   "outputs": [],
   "source": [
    "scales = [2]\n",
    "selected_columns = ['x', 'y']\n",
    "commitment_maps = get_data_commitment_maps(data_path, scales)"
   ]
  },
  {
   "attachments": {},
   "cell_type": "markdown",
   "metadata": {},
   "source": [
    "## Step 2\n",
    "- User defines their computation in a function with signature `computation(state: State, x: list[torch.Tensor])`.\n",
    "- Prover calls `computation_to_model(computation)` to derive the actual model.\n",
    "- Prover calls `prover_gen_settings`: export onnx file and compute the settings required by `ezkl.calibrate_settings`"
   ]
  },
  {
   "cell_type": "code",
   "execution_count": 15,
   "metadata": {},
   "outputs": [
    {
     "name": "stderr",
     "output_type": "stream",
     "text": [
      "/var/folders/89/y9dw12v976ngdmqz4l7wbsnr0000gn/T/ipykernel_43530/4262130413.py:7: TracerWarning: torch.tensor results are registered as constants in the trace. You can safely ignore this warning if you use this function to create tensors out of constant variables that would be the same every time you call this function. In any other case, this might cause the trace to be incorrect.\n",
      "  return state.mean(torch.tensor([out_0, out_1]).reshape(1,-1,1))\n",
      "/var/folders/89/y9dw12v976ngdmqz4l7wbsnr0000gn/T/ipykernel_43530/4262130413.py:7: TracerWarning: Converting a tensor to a Python float might cause the trace to be incorrect. We can't record the data flow of Python values, so this value will be treated as a constant in the future. This means that the trace might not generalize to other inputs!\n",
      "  return state.mean(torch.tensor([out_0, out_1]).reshape(1,-1,1))\n",
      "\n",
      "\n",
      " <------------- Numerical Fidelity Report (input_scale: 2, param_scale: 2, scale_input_multiplier: 10) ------------->\n",
      "\n",
      "+-------------+--------------+------------+-----------+----------------+------------------+---------------+---------------+--------------------+--------------------+------------------------+\n",
      "| mean_error  | median_error | max_error  | min_error | mean_abs_error | median_abs_error | max_abs_error | min_abs_error | mean_squared_error | mean_percent_error | mean_abs_percent_error |\n",
      "+-------------+--------------+------------+-----------+----------------+------------------+---------------+---------------+--------------------+--------------------+------------------------+\n",
      "| 0.025000095 | 0.05000019   | 0.05000019 | 0         | 0.025000095    | 0.05000019       | 0.05000019    | 0             | 0.0012500095       | 0.0019531325       | 0.0019531325           |\n",
      "+-------------+--------------+------------+-----------+----------------+------------------+---------------+---------------+--------------------+--------------------+------------------------+\n",
      "\n",
      "\n"
     ]
    },
    {
     "name": "stdout",
     "output_type": "stream",
     "text": [
      "==== Generate & Calibrate Setting ====\n",
      "scale:  [2]\n",
      "setting:  {\"run_args\":{\"tolerance\":{\"val\":0.0,\"scale\":1.0},\"input_scale\":2,\"param_scale\":2,\"scale_rebase_multiplier\":10,\"lookup_range\":[-192,338],\"logrows\":12,\"num_inner_cols\":2,\"variables\":[[\"batch_size\",1]],\"input_visibility\":{\"Hashed\":{\"hash_is_public\":true,\"outlets\":[]}},\"output_visibility\":\"Public\",\"param_visibility\":\"Private\",\"div_rebasing\":false,\"rebase_frac_zero_constants\":false,\"check_mode\":\"UNSAFE\"},\"num_rows\":2624,\"total_assignments\":302,\"total_const_size\":46,\"model_instance_shapes\":[[1],[1]],\"model_output_scales\":[0,2],\"model_input_scales\":[2,2],\"module_sizes\":{\"kzg\":[],\"poseidon\":[2624,[2]]},\"required_lookups\":[{\"GreaterThan\":{\"a\":0.0}}],\"required_range_checks\":[],\"check_mode\":\"UNSAFE\",\"version\":\"9.1.0\",\"num_blinding_factors\":null,\"timestamp\":1709716989569}\n"
     ]
    }
   ],
   "source": [
    "from zkstats.computation import State, computation_to_model\n",
    "\n",
    "\n",
    "def computation(state: State, x: list[torch.Tensor]):\n",
    "    out_0 = state.median(x[0])\n",
    "    out_1 = state.median(x[1])\n",
    "    return state.mean(torch.tensor([out_0, out_1]).reshape(1,-1,1))\n",
    "\n",
    "_, prover_model = computation_to_model(computation)\n",
    "prover_gen_settings(data_path, selected_columns, sel_data_path, prover_model, prover_model_path, scales, \"resources\", settings_path)\n"
   ]
  },
  {
   "attachments": {},
   "cell_type": "markdown",
   "metadata": {},
   "source": [
    "## Step 3\n",
    "- Prover generates proof with `prover_gen_proof`:\n",
    "    - 1. Compile circuit with `compile_circuit`\n",
    "        - Inputs: onnx model, settings path\n",
    "        - Outputs: compiled \n",
    "    - 2. Generate witness with\n",
    "- Verifier generates keys with "
   ]
  },
  {
   "cell_type": "code",
   "execution_count": 16,
   "metadata": {},
   "outputs": [
    {
     "name": "stdout",
     "output_type": "stream",
     "text": [
      "==== setting up ezkl ====\n",
      "Time setup: 0.5198168754577637 seconds\n",
      "=======================================\n",
      "==== Generating Witness ====\n",
      "witness boolean:  1.0\n",
      "witness result 1 : 12.75\n",
      "==== Generating Proof ====\n",
      "proof:  {'instances': [['43aef79b2c02e756f80f1c9c237be69f1b7497caef637e58f03450a15b654b21', 'f1a01cfac5286cb0b9c26b8dcd3e1437756456e3e433a5571d64d0781222490e', '0100000000000000000000000000000000000000000000000000000000000000', '3300000000000000000000000000000000000000000000000000000000000000']], 'proof': '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', 'transcript_type': 'EVM'}\n",
      "Time gen prf: 0.4941589832305908 seconds\n"
     ]
    }
   ],
   "source": [
    "# Here verifier & prover can concurrently call setup since all params are public to get pk.\n",
    "# Here write as verifier function to emphasize that verifier must calculate its own vk to be sure\n",
    "setup(prover_model_path, prover_compiled_model_path, settings_path, vk_path, pk_path )\n",
    "\n",
    "print(\"=======================================\")\n",
    "# Prover generates proof\n",
    "# print(\"Theory output: \", theory_output)\n",
    "prover_gen_proof(prover_model_path, sel_data_path, witness_path, prover_compiled_model_path, settings_path, proof_path, pk_path)"
   ]
  },
  {
   "cell_type": "code",
   "execution_count": 17,
   "metadata": {},
   "outputs": [
    {
     "data": {
      "text/plain": [
       "[12.75]"
      ]
     },
     "execution_count": 17,
     "metadata": {},
     "output_type": "execute_result"
    }
   ],
   "source": [
    "# Verifier verifies\n",
    "verifier_verify(proof_path, settings_path, vk_path, selected_columns, commitment_maps)"
   ]
  },
  {
   "cell_type": "code",
   "execution_count": null,
   "metadata": {},
   "outputs": [],
   "source": []
  }
 ],
 "metadata": {
  "kernelspec": {
   "display_name": "Python 3",
   "language": "python",
   "name": "python3"
  },
  "language_info": {
   "codemirror_mode": {
    "name": "ipython",
    "version": 3
   },
   "file_extension": ".py",
   "mimetype": "text/x-python",
   "name": "python",
   "nbconvert_exporter": "python",
   "pygments_lexer": "ipython3",
   "version": "3.11.4"
  },
  "orig_nbformat": 4
 },
 "nbformat": 4,
 "nbformat_minor": 2
}
