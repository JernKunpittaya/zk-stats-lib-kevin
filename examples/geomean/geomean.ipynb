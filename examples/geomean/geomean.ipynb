{
 "cells": [
  {
   "cell_type": "code",
   "execution_count": 17,
   "metadata": {},
   "outputs": [
    {
     "name": "stdout",
     "output_type": "stream",
     "text": [
      "Requirement already satisfied: ezkl==5.4.2 in /Library/Frameworks/Python.framework/Versions/3.10/lib/python3.10/site-packages (from -r ../../requirements.txt (line 1)) (5.4.2)\n",
      "Requirement already satisfied: torch in /Library/Frameworks/Python.framework/Versions/3.10/lib/python3.10/site-packages (from -r ../../requirements.txt (line 2)) (2.1.1)\n",
      "Requirement already satisfied: requests in /Library/Frameworks/Python.framework/Versions/3.10/lib/python3.10/site-packages (from -r ../../requirements.txt (line 3)) (2.31.0)\n",
      "Requirement already satisfied: scipy in /Library/Frameworks/Python.framework/Versions/3.10/lib/python3.10/site-packages (from -r ../../requirements.txt (line 4)) (1.11.4)\n",
      "Requirement already satisfied: numpy in /Library/Frameworks/Python.framework/Versions/3.10/lib/python3.10/site-packages (from -r ../../requirements.txt (line 5)) (1.26.2)\n",
      "Requirement already satisfied: matplotlib in /Library/Frameworks/Python.framework/Versions/3.10/lib/python3.10/site-packages (from -r ../../requirements.txt (line 6)) (3.8.2)\n",
      "Requirement already satisfied: statistics in /Library/Frameworks/Python.framework/Versions/3.10/lib/python3.10/site-packages (from -r ../../requirements.txt (line 7)) (1.0.3.5)\n",
      "Requirement already satisfied: onnx in /Library/Frameworks/Python.framework/Versions/3.10/lib/python3.10/site-packages (from -r ../../requirements.txt (line 8)) (1.15.0)\n",
      "Requirement already satisfied: filelock in /Library/Frameworks/Python.framework/Versions/3.10/lib/python3.10/site-packages (from torch->-r ../../requirements.txt (line 2)) (3.13.1)\n",
      "Requirement already satisfied: networkx in /Library/Frameworks/Python.framework/Versions/3.10/lib/python3.10/site-packages (from torch->-r ../../requirements.txt (line 2)) (3.2.1)\n",
      "Requirement already satisfied: fsspec in /Library/Frameworks/Python.framework/Versions/3.10/lib/python3.10/site-packages (from torch->-r ../../requirements.txt (line 2)) (2023.10.0)\n",
      "Requirement already satisfied: jinja2 in /Library/Frameworks/Python.framework/Versions/3.10/lib/python3.10/site-packages (from torch->-r ../../requirements.txt (line 2)) (3.1.2)\n",
      "Requirement already satisfied: typing-extensions in /Library/Frameworks/Python.framework/Versions/3.10/lib/python3.10/site-packages (from torch->-r ../../requirements.txt (line 2)) (4.8.0)\n",
      "Requirement already satisfied: sympy in /Library/Frameworks/Python.framework/Versions/3.10/lib/python3.10/site-packages (from torch->-r ../../requirements.txt (line 2)) (1.12)\n",
      "Requirement already satisfied: urllib3<3,>=1.21.1 in /Library/Frameworks/Python.framework/Versions/3.10/lib/python3.10/site-packages (from requests->-r ../../requirements.txt (line 3)) (2.1.0)\n",
      "Requirement already satisfied: certifi>=2017.4.17 in /Library/Frameworks/Python.framework/Versions/3.10/lib/python3.10/site-packages (from requests->-r ../../requirements.txt (line 3)) (2023.11.17)\n",
      "Requirement already satisfied: idna<4,>=2.5 in /Library/Frameworks/Python.framework/Versions/3.10/lib/python3.10/site-packages (from requests->-r ../../requirements.txt (line 3)) (3.6)\n",
      "Requirement already satisfied: charset-normalizer<4,>=2 in /Library/Frameworks/Python.framework/Versions/3.10/lib/python3.10/site-packages (from requests->-r ../../requirements.txt (line 3)) (3.3.2)\n",
      "Requirement already satisfied: cycler>=0.10 in /Library/Frameworks/Python.framework/Versions/3.10/lib/python3.10/site-packages (from matplotlib->-r ../../requirements.txt (line 6)) (0.12.1)\n",
      "Requirement already satisfied: fonttools>=4.22.0 in /Library/Frameworks/Python.framework/Versions/3.10/lib/python3.10/site-packages (from matplotlib->-r ../../requirements.txt (line 6)) (4.45.1)\n",
      "Requirement already satisfied: contourpy>=1.0.1 in /Library/Frameworks/Python.framework/Versions/3.10/lib/python3.10/site-packages (from matplotlib->-r ../../requirements.txt (line 6)) (1.2.0)\n",
      "Requirement already satisfied: kiwisolver>=1.3.1 in /Library/Frameworks/Python.framework/Versions/3.10/lib/python3.10/site-packages (from matplotlib->-r ../../requirements.txt (line 6)) (1.4.5)\n",
      "Requirement already satisfied: pillow>=8 in /Library/Frameworks/Python.framework/Versions/3.10/lib/python3.10/site-packages (from matplotlib->-r ../../requirements.txt (line 6)) (10.1.0)\n",
      "Requirement already satisfied: python-dateutil>=2.7 in /Users/jernkun/Library/Python/3.10/lib/python/site-packages (from matplotlib->-r ../../requirements.txt (line 6)) (2.8.2)\n",
      "Requirement already satisfied: packaging>=20.0 in /Users/jernkun/Library/Python/3.10/lib/python/site-packages (from matplotlib->-r ../../requirements.txt (line 6)) (23.2)\n",
      "Requirement already satisfied: pyparsing>=2.3.1 in /Library/Frameworks/Python.framework/Versions/3.10/lib/python3.10/site-packages (from matplotlib->-r ../../requirements.txt (line 6)) (3.1.1)\n",
      "Requirement already satisfied: docutils>=0.3 in /Library/Frameworks/Python.framework/Versions/3.10/lib/python3.10/site-packages (from statistics->-r ../../requirements.txt (line 7)) (0.20.1)\n",
      "Requirement already satisfied: protobuf>=3.20.2 in /Library/Frameworks/Python.framework/Versions/3.10/lib/python3.10/site-packages (from onnx->-r ../../requirements.txt (line 8)) (4.25.1)\n",
      "Requirement already satisfied: six>=1.5 in /Users/jernkun/Library/Python/3.10/lib/python/site-packages (from python-dateutil>=2.7->matplotlib->-r ../../requirements.txt (line 6)) (1.16.0)\n",
      "Requirement already satisfied: MarkupSafe>=2.0 in /Library/Frameworks/Python.framework/Versions/3.10/lib/python3.10/site-packages (from jinja2->torch->-r ../../requirements.txt (line 2)) (2.1.3)\n",
      "Requirement already satisfied: mpmath>=0.19 in /Library/Frameworks/Python.framework/Versions/3.10/lib/python3.10/site-packages (from sympy->torch->-r ../../requirements.txt (line 2)) (1.3.0)\n",
      "\u001b[33mWARNING: You are using pip version 21.2.3; however, version 23.3.1 is available.\n",
      "You should consider upgrading via the '/usr/local/bin/python3 -m pip install --upgrade pip' command.\u001b[0m\n",
      "Note: you may need to restart the kernel to use updated packages.\n"
     ]
    }
   ],
   "source": [
    "pip install -r ../../requirements.txt"
   ]
  },
  {
   "cell_type": "code",
   "execution_count": 44,
   "metadata": {},
   "outputs": [],
   "source": [
    "import ezkl\n",
    "import torch\n",
    "from torch import nn\n",
    "import json\n",
    "import os\n",
    "import time\n",
    "import scipy\n",
    "import numpy as np\n",
    "import matplotlib.pyplot as plt\n",
    "import statistics\n",
    "import math"
   ]
  },
  {
   "cell_type": "code",
   "execution_count": 45,
   "metadata": {},
   "outputs": [],
   "source": [
    "%run -i ../../zkstats/core.py"
   ]
  },
  {
   "attachments": {},
   "cell_type": "markdown",
   "metadata": {},
   "source": []
  },
  {
   "cell_type": "code",
   "execution_count": 46,
   "metadata": {},
   "outputs": [],
   "source": [
    "# init path\n",
    "os.makedirs(os.path.dirname('shared/'), exist_ok=True)\n",
    "os.makedirs(os.path.dirname('prover/'), exist_ok=True)\n",
    "verifier_model_path = os.path.join('shared/verifier.onnx')\n",
    "prover_model_path = os.path.join('prover/prover.onnx')\n",
    "verifier_compiled_model_path = os.path.join('shared/verifier.compiled')\n",
    "prover_compiled_model_path = os.path.join('prover/prover.compiled')\n",
    "pk_path = os.path.join('shared/test.pk')\n",
    "vk_path = os.path.join('shared/test.vk')\n",
    "proof_path = os.path.join('shared/test.pf')\n",
    "settings_path = os.path.join('shared/settings.json')\n",
    "srs_path = os.path.join('shared/kzg.srs')\n",
    "witness_path = os.path.join('prover/witness.json')\n",
    "# this is private to prover since it contains actual data\n",
    "comb_data_path = os.path.join('prover/comb_data.json')"
   ]
  },
  {
   "attachments": {},
   "cell_type": "markdown",
   "metadata": {},
   "source": [
    "=======================  ZK-STATS FLOW ======================="
   ]
  },
  {
   "cell_type": "code",
   "execution_count": 47,
   "metadata": {},
   "outputs": [],
   "source": [
    "data_path = os.path.join('data.json')\n",
    "dummy_data_path = os.path.join('shared/dummy_data.json')\n",
    "\n",
    "f_raw_input = open(data_path, \"r\")\n",
    "data = json.loads(f_raw_input.read())[\"input_data\"][0]\n",
    "data_tensor = torch.reshape(torch.tensor(data),(1, len(data), 1))\n",
    "\n",
    "\n",
    "dummy_data = np.round(np.random.uniform(1,10,len(data)),1)\n",
    "json.dump({\"input_data\":[dummy_data.tolist()]}, open(dummy_data_path, 'w'))\n",
    "\n",
    "dummy_data_tensor = torch.reshape(torch.tensor(dummy_data), (1, len(dummy_data),1 ))\n",
    "dummy_theory_output = torch.exp(torch.mean(torch.log(dummy_data_tensor)))\n",
    "\n"
   ]
  },
  {
   "cell_type": "code",
   "execution_count": 48,
   "metadata": {},
   "outputs": [
    {
     "name": "stdout",
     "output_type": "stream",
     "text": [
      "!@# model= <class '__main__.verifier_model'>\n",
      "!@# circuit= verifier_model()\n",
      "!@# circuit.eval= verifier_model()\n"
     ]
    },
    {
     "name": "stderr",
     "output_type": "stream",
     "text": [
      "/var/folders/89/y9dw12v976ngdmqz4l7wbsnr0000gn/T/ipykernel_33364/1643889957.py:8: TracerWarning: torch.tensor results are registered as constants in the trace. You can safely ignore this warning if you use this function to create tensors out of constant variables that would be the same every time you call this function. In any other case, this might cause the trace to be incorrect.\n",
      "  return (torch.abs((torch.log(self.w)*X.size()[1])-torch.sum(torch.log(X)))<=torch.log(torch.tensor(1.01)), self.w)\n"
     ]
    }
   ],
   "source": [
    "# Verifier/ data consumer side:\n",
    "class verifier_model(nn.Module):\n",
    "    def __init__(self):\n",
    "        super(verifier_model, self).__init__()\n",
    "        self.w = nn.Parameter(data = dummy_theory_output, requires_grad = False)\n",
    "\n",
    "    def forward(self,X):\n",
    "        return (torch.abs((torch.log(self.w)*X.size()[1])-torch.sum(torch.log(X)))<=torch.log(torch.tensor(1.01)), self.w)\n",
    "\n",
    "verifier_define_calculation(verifier_model, verifier_model_path, [dummy_data_path])"
   ]
  },
  {
   "cell_type": "code",
   "execution_count": 49,
   "metadata": {},
   "outputs": [
    {
     "name": "stdout",
     "output_type": "stream",
     "text": [
      "Theory output:  tensor(47.6981)\n",
      "!@# model= <class '__main__.prover_model'>\n",
      "!@# circuit= prover_model()\n",
      "!@# circuit.eval= prover_model()\n",
      "==== Generate & Calibrate Setting ====\n",
      "scale:  [8]\n",
      "setting:  {\"run_args\":{\"tolerance\":{\"val\":0.0,\"scale\":1.0},\"input_scale\":8,\"param_scale\":8,\"scale_rebase_multiplier\":10,\"lookup_range\":[-6,45056],\"logrows\":16,\"num_inner_cols\":1,\"variables\":[[\"batch_size\",1]],\"input_visibility\":{\"Hashed\":{\"hash_is_public\":true,\"outlets\":[]}},\"output_visibility\":\"Public\",\"param_visibility\":\"Private\"},\"num_rows\":14432,\"total_assignments\":910,\"total_const_size\":4,\"model_instance_shapes\":[[1],[1]],\"model_output_scales\":[0,8],\"model_input_scales\":[8],\"module_sizes\":{\"kzg\":[],\"poseidon\":[14432,[1]],\"elgamal\":[0,[0]]},\"required_lookups\":[\"Abs\",{\"Ln\":{\"scale\":256.0}},{\"GreaterThan\":{\"a\":0.0}}],\"check_mode\":\"UNSAFE\",\"version\":\"5.0.8\",\"num_blinding_factors\":null}\n"
     ]
    },
    {
     "name": "stderr",
     "output_type": "stream",
     "text": [
      "/var/folders/89/y9dw12v976ngdmqz4l7wbsnr0000gn/T/ipykernel_33364/21767248.py:11: TracerWarning: torch.tensor results are registered as constants in the trace. You can safely ignore this warning if you use this function to create tensors out of constant variables that would be the same every time you call this function. In any other case, this might cause the trace to be incorrect.\n",
      "  return (torch.abs((torch.log(self.w)*X.size()[1])-torch.sum(torch.log(X)))<=torch.log(torch.tensor(1.01)), self.w)\n"
     ]
    }
   ],
   "source": [
    "# prover calculates settings, send to verifier\n",
    "theory_output = torch.exp(torch.mean(torch.log(data_tensor)))\n",
    "print(\"Theory output: \", theory_output)\n",
    "class prover_model(nn.Module):\n",
    "    def __init__(self):\n",
    "        super(prover_model, self).__init__()\n",
    "        # w represents mean in this case\n",
    "        self.w = nn.Parameter(data = theory_output, requires_grad = False)\n",
    "\n",
    "    def forward(self,X):\n",
    "        return (torch.abs((torch.log(self.w)*X.size()[1])-torch.sum(torch.log(X)))<=torch.log(torch.tensor(1.01)), self.w)\n",
    "\n",
    "\n",
    "prover_gen_settings([data_path], comb_data_path, prover_model,prover_model_path, [8], \"resources\", settings_path)"
   ]
  },
  {
   "cell_type": "code",
   "execution_count": 50,
   "metadata": {},
   "outputs": [
    {
     "name": "stderr",
     "output_type": "stream",
     "text": [
      "spawning module 0\n"
     ]
    },
    {
     "name": "stdout",
     "output_type": "stream",
     "text": [
      "==== setting up ezkl ====\n"
     ]
    },
    {
     "name": "stderr",
     "output_type": "stream",
     "text": [
      "spawning module 2\n",
      "spawning module 0\n",
      "spawning module 2\n"
     ]
    },
    {
     "name": "stdout",
     "output_type": "stream",
     "text": [
      "Time setup: 5.308499813079834 seconds\n",
      "=======================================\n",
      "Theory output:  tensor(47.6981)\n",
      "!@# compiled_model exists? False\n",
      "!@# compiled_model exists? True\n",
      "==== Generating Witness ====\n",
      "witness boolean:  1.0\n",
      "witness result 1 : 47.69921875\n",
      "==== Generating Proof ====\n"
     ]
    },
    {
     "name": "stderr",
     "output_type": "stream",
     "text": [
      "spawning module 0\n",
      "spawning module 2\n"
     ]
    },
    {
     "name": "stdout",
     "output_type": "stream",
     "text": [
      "proof:  {'instances': [[[12773529019820117503, 7223165032241168505, 6388811546753741567, 1325363978837834469], [12436184717236109307, 3962172157175319849, 7381016538464732718, 1011752739694698287], [14148586052410868650, 7343294927740416096, 1182455714804702497, 77845129035718797]]], 'proof': '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', 'transcript_type': 'EVM'}\n",
      "Time gen prf: 6.931292772293091 seconds\n"
     ]
    }
   ],
   "source": [
    "# Here verifier & prover can concurrently call setup since all params are public to get pk.\n",
    "# Here write as verifier function to emphasize that verifier must calculate its own vk to be sure\n",
    "verifier_setup(verifier_model_path, verifier_compiled_model_path, settings_path, srs_path,vk_path, pk_path )\n",
    "\n",
    "print(\"=======================================\")\n",
    "# Prover generates proof\n",
    "print(\"Theory output: \", theory_output)\n",
    "prover_gen_proof(prover_model_path, comb_data_path, witness_path, prover_compiled_model_path, settings_path, proof_path, pk_path, srs_path)"
   ]
  },
  {
   "cell_type": "code",
   "execution_count": 51,
   "metadata": {},
   "outputs": [
    {
     "name": "stdout",
     "output_type": "stream",
     "text": [
      "num_inputs:  1\n",
      "prf instances:  [[[12773529019820117503, 7223165032241168505, 6388811546753741567, 1325363978837834469], [12436184717236109307, 3962172157175319849, 7381016538464732718, 1011752739694698287], [14148586052410868650, 7343294927740416096, 1182455714804702497, 77845129035718797]]]\n",
      "proof boolean:  1.0\n",
      "proof result 1 : 47.69921875\n",
      "verified\n"
     ]
    }
   ],
   "source": [
    "# Verifier verifies\n",
    "verifier_verify(proof_path, settings_path, vk_path, srs_path)"
   ]
  },
  {
   "cell_type": "code",
   "execution_count": null,
   "metadata": {},
   "outputs": [],
   "source": []
  },
  {
   "cell_type": "code",
   "execution_count": null,
   "metadata": {},
   "outputs": [],
   "source": []
  }
 ],
 "metadata": {
  "kernelspec": {
   "display_name": "Python 3",
   "language": "python",
   "name": "python3"
  },
  "language_info": {
   "codemirror_mode": {
    "name": "ipython",
    "version": 3
   },
   "file_extension": ".py",
   "mimetype": "text/x-python",
   "name": "python",
   "nbconvert_exporter": "python",
   "pygments_lexer": "ipython3",
   "version": "3.9.6"
  },
  "orig_nbformat": 4
 },
 "nbformat": 4,
 "nbformat_minor": 2
}
