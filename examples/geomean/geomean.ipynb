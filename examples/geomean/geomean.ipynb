{
 "cells": [
  {
   "cell_type": "code",
   "execution_count": 2,
   "metadata": {},
   "outputs": [
    {
     "name": "stdout",
     "output_type": "stream",
     "text": [
      "Requirement already satisfied: ezkl==7.0.0 in /Library/Frameworks/Python.framework/Versions/3.10/lib/python3.10/site-packages (from -r ../../requirements.txt (line 1)) (7.0.0)\n",
      "Requirement already satisfied: torch in /Library/Frameworks/Python.framework/Versions/3.10/lib/python3.10/site-packages (from -r ../../requirements.txt (line 2)) (2.1.1)\n",
      "Requirement already satisfied: requests in /Library/Frameworks/Python.framework/Versions/3.10/lib/python3.10/site-packages (from -r ../../requirements.txt (line 3)) (2.31.0)\n",
      "Requirement already satisfied: scipy in /Library/Frameworks/Python.framework/Versions/3.10/lib/python3.10/site-packages (from -r ../../requirements.txt (line 4)) (1.11.4)\n",
      "Requirement already satisfied: numpy in /Library/Frameworks/Python.framework/Versions/3.10/lib/python3.10/site-packages (from -r ../../requirements.txt (line 5)) (1.26.2)\n",
      "Requirement already satisfied: matplotlib in /Library/Frameworks/Python.framework/Versions/3.10/lib/python3.10/site-packages (from -r ../../requirements.txt (line 6)) (3.8.2)\n",
      "Requirement already satisfied: statistics in /Library/Frameworks/Python.framework/Versions/3.10/lib/python3.10/site-packages (from -r ../../requirements.txt (line 7)) (1.0.3.5)\n",
      "Requirement already satisfied: onnx in /Library/Frameworks/Python.framework/Versions/3.10/lib/python3.10/site-packages (from -r ../../requirements.txt (line 8)) (1.15.0)\n",
      "Requirement already satisfied: fsspec in /Library/Frameworks/Python.framework/Versions/3.10/lib/python3.10/site-packages (from torch->-r ../../requirements.txt (line 2)) (2023.10.0)\n",
      "Requirement already satisfied: networkx in /Library/Frameworks/Python.framework/Versions/3.10/lib/python3.10/site-packages (from torch->-r ../../requirements.txt (line 2)) (3.2.1)\n",
      "Requirement already satisfied: filelock in /Library/Frameworks/Python.framework/Versions/3.10/lib/python3.10/site-packages (from torch->-r ../../requirements.txt (line 2)) (3.13.1)\n",
      "Requirement already satisfied: sympy in /Library/Frameworks/Python.framework/Versions/3.10/lib/python3.10/site-packages (from torch->-r ../../requirements.txt (line 2)) (1.12)\n",
      "Requirement already satisfied: typing-extensions in /Library/Frameworks/Python.framework/Versions/3.10/lib/python3.10/site-packages (from torch->-r ../../requirements.txt (line 2)) (4.8.0)\n",
      "Requirement already satisfied: jinja2 in /Library/Frameworks/Python.framework/Versions/3.10/lib/python3.10/site-packages (from torch->-r ../../requirements.txt (line 2)) (3.1.2)\n",
      "Requirement already satisfied: idna<4,>=2.5 in /Library/Frameworks/Python.framework/Versions/3.10/lib/python3.10/site-packages (from requests->-r ../../requirements.txt (line 3)) (3.6)\n",
      "Requirement already satisfied: charset-normalizer<4,>=2 in /Library/Frameworks/Python.framework/Versions/3.10/lib/python3.10/site-packages (from requests->-r ../../requirements.txt (line 3)) (3.3.2)\n",
      "Requirement already satisfied: certifi>=2017.4.17 in /Library/Frameworks/Python.framework/Versions/3.10/lib/python3.10/site-packages (from requests->-r ../../requirements.txt (line 3)) (2023.11.17)\n",
      "Requirement already satisfied: urllib3<3,>=1.21.1 in /Library/Frameworks/Python.framework/Versions/3.10/lib/python3.10/site-packages (from requests->-r ../../requirements.txt (line 3)) (2.1.0)\n",
      "Requirement already satisfied: contourpy>=1.0.1 in /Library/Frameworks/Python.framework/Versions/3.10/lib/python3.10/site-packages (from matplotlib->-r ../../requirements.txt (line 6)) (1.2.0)\n",
      "Requirement already satisfied: cycler>=0.10 in /Library/Frameworks/Python.framework/Versions/3.10/lib/python3.10/site-packages (from matplotlib->-r ../../requirements.txt (line 6)) (0.12.1)\n",
      "Requirement already satisfied: kiwisolver>=1.3.1 in /Library/Frameworks/Python.framework/Versions/3.10/lib/python3.10/site-packages (from matplotlib->-r ../../requirements.txt (line 6)) (1.4.5)\n",
      "Requirement already satisfied: packaging>=20.0 in /Users/jernkun/Library/Python/3.10/lib/python/site-packages (from matplotlib->-r ../../requirements.txt (line 6)) (23.2)\n",
      "Requirement already satisfied: fonttools>=4.22.0 in /Library/Frameworks/Python.framework/Versions/3.10/lib/python3.10/site-packages (from matplotlib->-r ../../requirements.txt (line 6)) (4.45.1)\n",
      "Requirement already satisfied: pyparsing>=2.3.1 in /Library/Frameworks/Python.framework/Versions/3.10/lib/python3.10/site-packages (from matplotlib->-r ../../requirements.txt (line 6)) (3.1.1)\n",
      "Requirement already satisfied: pillow>=8 in /Library/Frameworks/Python.framework/Versions/3.10/lib/python3.10/site-packages (from matplotlib->-r ../../requirements.txt (line 6)) (10.1.0)\n",
      "Requirement already satisfied: python-dateutil>=2.7 in /Users/jernkun/Library/Python/3.10/lib/python/site-packages (from matplotlib->-r ../../requirements.txt (line 6)) (2.8.2)\n",
      "Requirement already satisfied: docutils>=0.3 in /Library/Frameworks/Python.framework/Versions/3.10/lib/python3.10/site-packages (from statistics->-r ../../requirements.txt (line 7)) (0.20.1)\n",
      "Requirement already satisfied: protobuf>=3.20.2 in /Library/Frameworks/Python.framework/Versions/3.10/lib/python3.10/site-packages (from onnx->-r ../../requirements.txt (line 8)) (4.25.1)\n",
      "Requirement already satisfied: six>=1.5 in /Users/jernkun/Library/Python/3.10/lib/python/site-packages (from python-dateutil>=2.7->matplotlib->-r ../../requirements.txt (line 6)) (1.16.0)\n",
      "Requirement already satisfied: MarkupSafe>=2.0 in /Library/Frameworks/Python.framework/Versions/3.10/lib/python3.10/site-packages (from jinja2->torch->-r ../../requirements.txt (line 2)) (2.1.3)\n",
      "Requirement already satisfied: mpmath>=0.19 in /Library/Frameworks/Python.framework/Versions/3.10/lib/python3.10/site-packages (from sympy->torch->-r ../../requirements.txt (line 2)) (1.3.0)\n",
      "\u001b[33mWARNING: You are using pip version 21.2.3; however, version 23.3.2 is available.\n",
      "You should consider upgrading via the '/usr/local/bin/python3 -m pip install --upgrade pip' command.\u001b[0m\n",
      "Note: you may need to restart the kernel to use updated packages.\n"
     ]
    }
   ],
   "source": [
    "pip install -r ../../requirements.txt"
   ]
  },
  {
   "cell_type": "code",
   "execution_count": 3,
   "metadata": {},
   "outputs": [],
   "source": [
    "import ezkl\n",
    "import torch\n",
    "from torch import nn\n",
    "import json\n",
    "import os\n",
    "import time\n",
    "import scipy\n",
    "import numpy as np\n",
    "import matplotlib.pyplot as plt\n",
    "import statistics\n",
    "import math"
   ]
  },
  {
   "cell_type": "code",
   "execution_count": 4,
   "metadata": {},
   "outputs": [],
   "source": [
    "%run -i ../../zkstats/core.py"
   ]
  },
  {
   "attachments": {},
   "cell_type": "markdown",
   "metadata": {},
   "source": []
  },
  {
   "cell_type": "code",
   "execution_count": 5,
   "metadata": {},
   "outputs": [],
   "source": [
    "# init path\n",
    "os.makedirs(os.path.dirname('shared/'), exist_ok=True)\n",
    "os.makedirs(os.path.dirname('prover/'), exist_ok=True)\n",
    "verifier_model_path = os.path.join('shared/verifier.onnx')\n",
    "prover_model_path = os.path.join('prover/prover.onnx')\n",
    "verifier_compiled_model_path = os.path.join('shared/verifier.compiled')\n",
    "prover_compiled_model_path = os.path.join('prover/prover.compiled')\n",
    "pk_path = os.path.join('shared/test.pk')\n",
    "vk_path = os.path.join('shared/test.vk')\n",
    "proof_path = os.path.join('shared/test.pf')\n",
    "settings_path = os.path.join('shared/settings.json')\n",
    "srs_path = os.path.join('shared/kzg.srs')\n",
    "witness_path = os.path.join('prover/witness.json')\n",
    "# this is private to prover since it contains actual data\n",
    "sel_data_path = os.path.join('prover/sel_data.json')\n",
    "# this is just dummy random value\n",
    "sel_dummy_data_path = os.path.join('shared/sel_dummy_data.json')"
   ]
  },
  {
   "attachments": {},
   "cell_type": "markdown",
   "metadata": {},
   "source": [
    "=======================  ZK-STATS FLOW ======================="
   ]
  },
  {
   "cell_type": "code",
   "execution_count": 6,
   "metadata": {},
   "outputs": [],
   "source": [
    "data_path = os.path.join('data.json')\n",
    "dummy_data_path = os.path.join('shared/dummy_data.json')\n",
    "\n",
    "data = json.loads(open(data_path, \"r\").read())['col_name']\n",
    "data_tensor = torch.reshape(torch.tensor(data),(1,-1, 1))\n",
    "\n",
    "create_dummy(data_path, dummy_data_path)\n",
    "dummy_data = json.loads(open(dummy_data_path, \"r\").read())['col_name']\n",
    "dummy_data_tensor = torch.reshape(torch.tensor(dummy_data), (1,-1,1))\n",
    "\n",
    "dummy_theory_output = torch.exp(torch.mean(torch.log(dummy_data_tensor)))\n",
    "theory_output = torch.exp(torch.mean(torch.log(data_tensor)))\n",
    "\n"
   ]
  },
  {
   "cell_type": "code",
   "execution_count": null,
   "metadata": {},
   "outputs": [],
   "source": [
    "scales = [1]\n",
    "selected_columns = ['col_name']\n",
    "commitment_maps = get_data_commitment_maps(data_path, scales)"
   ]
  },
  {
   "cell_type": "code",
   "execution_count": 7,
   "metadata": {},
   "outputs": [
    {
     "name": "stderr",
     "output_type": "stream",
     "text": [
      "/var/folders/89/y9dw12v976ngdmqz4l7wbsnr0000gn/T/ipykernel_2484/1337869238.py:8: TracerWarning: torch.tensor results are registered as constants in the trace. You can safely ignore this warning if you use this function to create tensors out of constant variables that would be the same every time you call this function. In any other case, this might cause the trace to be incorrect.\n",
      "  return (torch.abs((torch.log(self.w)*X.size()[1])-torch.sum(torch.log(X)))<=X.size()[1]*torch.log(torch.tensor(1.01)), self.w)\n"
     ]
    }
   ],
   "source": [
    "# Verifier/ data consumer side:\n",
    "class verifier_model(nn.Module):\n",
    "    def __init__(self):\n",
    "        super(verifier_model, self).__init__()\n",
    "        self.w = nn.Parameter(data = dummy_theory_output, requires_grad = False)\n",
    "\n",
    "    def forward(self,X):\n",
    "        return (torch.abs((torch.log(self.w)*X.size()[1])-torch.sum(torch.log(X)))<=X.size()[1]*torch.log(torch.tensor(1.01)), self.w)\n",
    "\n",
    "\n",
    "verifier_define_calculation(dummy_data_path, ['col_name'],sel_dummy_data_path,verifier_model, verifier_model_path)"
   ]
  },
  {
   "cell_type": "code",
   "execution_count": 8,
   "metadata": {},
   "outputs": [
    {
     "name": "stdout",
     "output_type": "stream",
     "text": [
      "Theory output:  tensor(47.6981)\n",
      "==== Generate & Calibrate Setting ====\n",
      "scale:  default\n",
      "setting:  {\"run_args\":{\"tolerance\":{\"val\":0.0,\"scale\":1.0},\"input_scale\":8,\"param_scale\":9,\"scale_rebase_multiplier\":10,\"lookup_range\":[-3042,45056],\"logrows\":16,\"num_inner_cols\":2,\"variables\":[[\"batch_size\",1]],\"input_visibility\":{\"Hashed\":{\"hash_is_public\":true,\"outlets\":[]}},\"output_visibility\":\"Public\",\"param_visibility\":\"Private\"},\"num_rows\":14432,\"total_assignments\":911,\"total_const_size\":5,\"model_instance_shapes\":[[1],[1]],\"model_output_scales\":[0,9],\"model_input_scales\":[8],\"module_sizes\":{\"kzg\":[],\"poseidon\":[14432,[1]],\"elgamal\":[0,[0]]},\"required_lookups\":[\"Abs\",{\"Ln\":{\"scale\":256.0}},{\"GreaterThan\":{\"a\":0.0}}],\"check_mode\":\"UNSAFE\",\"version\":\"7.0.0\",\"num_blinding_factors\":null}\n"
     ]
    },
    {
     "name": "stderr",
     "output_type": "stream",
     "text": [
      "/var/folders/89/y9dw12v976ngdmqz4l7wbsnr0000gn/T/ipykernel_2484/2234710793.py:10: TracerWarning: torch.tensor results are registered as constants in the trace. You can safely ignore this warning if you use this function to create tensors out of constant variables that would be the same every time you call this function. In any other case, this might cause the trace to be incorrect.\n",
      "  return (torch.abs((torch.log(self.w)*X.size()[1])-torch.sum(torch.log(X)))<=X.size()[1]*torch.log(torch.tensor(1.01)), self.w)\n"
     ]
    }
   ],
   "source": [
    "# prover calculates settings, send to verifier\n",
    "print(\"Theory output: \", theory_output)\n",
    "class prover_model(nn.Module):\n",
    "    def __init__(self):\n",
    "        super(prover_model, self).__init__()\n",
    "        # w represents mean in this case\n",
    "        self.w = nn.Parameter(data = theory_output, requires_grad = False)\n",
    "\n",
    "    def forward(self,X):\n",
    "        return (torch.abs((torch.log(self.w)*X.size()[1])-torch.sum(torch.log(X)))<=X.size()[1]*torch.log(torch.tensor(1.01)), self.w)\n",
    "\n",
    "\n",
    "\n",
    "prover_gen_settings(data_path, selected_columns, sel_data_path, prover_model,prover_model_path, scales, \"resources\", settings_path)"
   ]
  },
  {
   "cell_type": "code",
   "execution_count": 9,
   "metadata": {},
   "outputs": [
    {
     "name": "stderr",
     "output_type": "stream",
     "text": [
      "spawning module 0\n",
      "spawning module 2\n",
      "spawning module 0\n"
     ]
    },
    {
     "name": "stdout",
     "output_type": "stream",
     "text": [
      "==== setting up ezkl ====\n"
     ]
    },
    {
     "name": "stderr",
     "output_type": "stream",
     "text": [
      "spawning module 2\n"
     ]
    },
    {
     "name": "stdout",
     "output_type": "stream",
     "text": [
      "Time setup: 7.222949981689453 seconds\n",
      "=======================================\n",
      "Theory output:  tensor(47.6981)\n",
      "!@# compiled_model exists? True\n",
      "!@# compiled_model exists? True\n",
      "==== Generating Witness ====\n",
      "witness boolean:  1.0\n",
      "witness result 1 : 47.697265625\n",
      "==== Generating Proof ====\n"
     ]
    },
    {
     "name": "stderr",
     "output_type": "stream",
     "text": [
      "spawning module 0\n",
      "spawning module 2\n"
     ]
    },
    {
     "name": "stdout",
     "output_type": "stream",
     "text": [
      "proof:  {'instances': [[[12773529019820117503, 7223165032241168505, 6388811546753741567, 1325363978837834469], [12436184717236109307, 3962172157175319849, 7381016538464732718, 1011752739694698287], [2305703999912675162, 13621332081612358697, 8265086842419367025, 2630935785179709972]]], 'proof': '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', 'transcript_type': 'EVM'}\n",
      "Time gen prf: 9.943438053131104 seconds\n"
     ]
    }
   ],
   "source": [
    "# Here verifier & prover can concurrently call setup since all params are public to get pk.\n",
    "# Here write as verifier function to emphasize that verifier must calculate its own vk to be sure\n",
    "verifier_setup(verifier_model_path, verifier_compiled_model_path, settings_path,vk_path, pk_path )\n",
    "\n",
    "print(\"=======================================\")\n",
    "# Prover generates proof\n",
    "print(\"Theory output: \", theory_output)\n",
    "prover_gen_proof(prover_model_path, sel_data_path, witness_path, prover_compiled_model_path, settings_path, proof_path, pk_path)"
   ]
  },
  {
   "cell_type": "code",
   "execution_count": 10,
   "metadata": {},
   "outputs": [
    {
     "name": "stdout",
     "output_type": "stream",
     "text": [
      "num_inputs:  1\n",
      "prf instances:  [[[12773529019820117503, 7223165032241168505, 6388811546753741567, 1325363978837834469], [12436184717236109307, 3962172157175319849, 7381016538464732718, 1011752739694698287], [2305703999912675162, 13621332081612358697, 8265086842419367025, 2630935785179709972]]]\n",
      "proof boolean:  1.0\n",
      "proof result 1 : 47.697265625\n",
      "verified\n"
     ]
    }
   ],
   "source": [
    "# Verifier verifies\n",
    "verifier_verify(proof_path, settings_path, vk_path, selected_columns, commitment_maps)"
   ]
  },
  {
   "cell_type": "code",
   "execution_count": null,
   "metadata": {},
   "outputs": [],
   "source": []
  },
  {
   "cell_type": "code",
   "execution_count": null,
   "metadata": {},
   "outputs": [],
   "source": []
  }
 ],
 "metadata": {
  "kernelspec": {
   "display_name": "Python 3",
   "language": "python",
   "name": "python3"
  },
  "language_info": {
   "codemirror_mode": {
    "name": "ipython",
    "version": 3
   },
   "file_extension": ".py",
   "mimetype": "text/x-python",
   "name": "python",
   "nbconvert_exporter": "python",
   "pygments_lexer": "ipython3",
   "version": "3.12.1"
  },
  "orig_nbformat": 4
 },
 "nbformat": 4,
 "nbformat_minor": 2
}
