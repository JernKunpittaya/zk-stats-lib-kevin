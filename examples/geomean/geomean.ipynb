{
 "cells": [
  {
   "cell_type": "code",
   "execution_count": 1,
   "metadata": {},
   "outputs": [
    {
     "name": "stdout",
     "output_type": "stream",
     "text": [
      "Requirement already satisfied: ezkl==5.0.8 in /Users/mhchia/projects/work/pse/zk-stats-lib/.venv/lib/python3.9/site-packages (from -r ../../requirements.txt (line 1)) (5.0.8)\n",
      "Requirement already satisfied: torch in /Users/mhchia/projects/work/pse/zk-stats-lib/.venv/lib/python3.9/site-packages (from -r ../../requirements.txt (line 2)) (2.1.1)\n",
      "Requirement already satisfied: requests in /Users/mhchia/projects/work/pse/zk-stats-lib/.venv/lib/python3.9/site-packages (from -r ../../requirements.txt (line 3)) (2.31.0)\n",
      "Requirement already satisfied: scipy in /Users/mhchia/projects/work/pse/zk-stats-lib/.venv/lib/python3.9/site-packages (from -r ../../requirements.txt (line 4)) (1.11.4)\n",
      "Requirement already satisfied: numpy in /Users/mhchia/projects/work/pse/zk-stats-lib/.venv/lib/python3.9/site-packages (from -r ../../requirements.txt (line 5)) (1.26.2)\n",
      "Requirement already satisfied: matplotlib in /Users/mhchia/projects/work/pse/zk-stats-lib/.venv/lib/python3.9/site-packages (from -r ../../requirements.txt (line 6)) (3.8.2)\n",
      "Requirement already satisfied: statistics in /Users/mhchia/projects/work/pse/zk-stats-lib/.venv/lib/python3.9/site-packages (from -r ../../requirements.txt (line 7)) (1.0.3.5)\n",
      "Requirement already satisfied: onnx in /Users/mhchia/projects/work/pse/zk-stats-lib/.venv/lib/python3.9/site-packages (from -r ../../requirements.txt (line 8)) (1.15.0)\n",
      "Requirement already satisfied: jinja2 in /Users/mhchia/projects/work/pse/zk-stats-lib/.venv/lib/python3.9/site-packages (from torch->-r ../../requirements.txt (line 2)) (3.1.2)\n",
      "Requirement already satisfied: filelock in /Users/mhchia/projects/work/pse/zk-stats-lib/.venv/lib/python3.9/site-packages (from torch->-r ../../requirements.txt (line 2)) (3.13.1)\n",
      "Requirement already satisfied: typing-extensions in /Users/mhchia/projects/work/pse/zk-stats-lib/.venv/lib/python3.9/site-packages (from torch->-r ../../requirements.txt (line 2)) (4.8.0)\n",
      "Requirement already satisfied: networkx in /Users/mhchia/projects/work/pse/zk-stats-lib/.venv/lib/python3.9/site-packages (from torch->-r ../../requirements.txt (line 2)) (3.2.1)\n",
      "Requirement already satisfied: fsspec in /Users/mhchia/projects/work/pse/zk-stats-lib/.venv/lib/python3.9/site-packages (from torch->-r ../../requirements.txt (line 2)) (2023.12.0)\n",
      "Requirement already satisfied: sympy in /Users/mhchia/projects/work/pse/zk-stats-lib/.venv/lib/python3.9/site-packages (from torch->-r ../../requirements.txt (line 2)) (1.12)\n",
      "Requirement already satisfied: charset-normalizer<4,>=2 in /Users/mhchia/projects/work/pse/zk-stats-lib/.venv/lib/python3.9/site-packages (from requests->-r ../../requirements.txt (line 3)) (3.3.2)\n",
      "Requirement already satisfied: idna<4,>=2.5 in /Users/mhchia/projects/work/pse/zk-stats-lib/.venv/lib/python3.9/site-packages (from requests->-r ../../requirements.txt (line 3)) (3.6)\n",
      "Requirement already satisfied: urllib3<3,>=1.21.1 in /Users/mhchia/projects/work/pse/zk-stats-lib/.venv/lib/python3.9/site-packages (from requests->-r ../../requirements.txt (line 3)) (2.1.0)\n",
      "Requirement already satisfied: certifi>=2017.4.17 in /Users/mhchia/projects/work/pse/zk-stats-lib/.venv/lib/python3.9/site-packages (from requests->-r ../../requirements.txt (line 3)) (2023.11.17)\n",
      "Requirement already satisfied: kiwisolver>=1.3.1 in /Users/mhchia/projects/work/pse/zk-stats-lib/.venv/lib/python3.9/site-packages (from matplotlib->-r ../../requirements.txt (line 6)) (1.4.5)\n",
      "Requirement already satisfied: pyparsing>=2.3.1 in /Users/mhchia/projects/work/pse/zk-stats-lib/.venv/lib/python3.9/site-packages (from matplotlib->-r ../../requirements.txt (line 6)) (3.1.1)\n",
      "Requirement already satisfied: python-dateutil>=2.7 in /Users/mhchia/projects/work/pse/zk-stats-lib/.venv/lib/python3.9/site-packages (from matplotlib->-r ../../requirements.txt (line 6)) (2.8.2)\n",
      "Requirement already satisfied: cycler>=0.10 in /Users/mhchia/projects/work/pse/zk-stats-lib/.venv/lib/python3.9/site-packages (from matplotlib->-r ../../requirements.txt (line 6)) (0.12.1)\n",
      "Requirement already satisfied: contourpy>=1.0.1 in /Users/mhchia/projects/work/pse/zk-stats-lib/.venv/lib/python3.9/site-packages (from matplotlib->-r ../../requirements.txt (line 6)) (1.2.0)\n",
      "Requirement already satisfied: fonttools>=4.22.0 in /Users/mhchia/projects/work/pse/zk-stats-lib/.venv/lib/python3.9/site-packages (from matplotlib->-r ../../requirements.txt (line 6)) (4.46.0)\n",
      "Requirement already satisfied: packaging>=20.0 in /Users/mhchia/projects/work/pse/zk-stats-lib/.venv/lib/python3.9/site-packages (from matplotlib->-r ../../requirements.txt (line 6)) (23.2)\n",
      "Requirement already satisfied: pillow>=8 in /Users/mhchia/projects/work/pse/zk-stats-lib/.venv/lib/python3.9/site-packages (from matplotlib->-r ../../requirements.txt (line 6)) (10.1.0)\n",
      "Requirement already satisfied: importlib-resources>=3.2.0 in /Users/mhchia/projects/work/pse/zk-stats-lib/.venv/lib/python3.9/site-packages (from matplotlib->-r ../../requirements.txt (line 6)) (6.1.1)\n",
      "Requirement already satisfied: docutils>=0.3 in /Users/mhchia/projects/work/pse/zk-stats-lib/.venv/lib/python3.9/site-packages (from statistics->-r ../../requirements.txt (line 7)) (0.20.1)\n",
      "Requirement already satisfied: protobuf>=3.20.2 in /Users/mhchia/projects/work/pse/zk-stats-lib/.venv/lib/python3.9/site-packages (from onnx->-r ../../requirements.txt (line 8)) (4.25.1)\n",
      "Requirement already satisfied: zipp>=3.1.0 in /Users/mhchia/projects/work/pse/zk-stats-lib/.venv/lib/python3.9/site-packages (from importlib-resources>=3.2.0->matplotlib->-r ../../requirements.txt (line 6)) (3.17.0)\n",
      "Requirement already satisfied: six>=1.5 in /Users/mhchia/projects/work/pse/zk-stats-lib/.venv/lib/python3.9/site-packages (from python-dateutil>=2.7->matplotlib->-r ../../requirements.txt (line 6)) (1.16.0)\n",
      "Requirement already satisfied: MarkupSafe>=2.0 in /Users/mhchia/projects/work/pse/zk-stats-lib/.venv/lib/python3.9/site-packages (from jinja2->torch->-r ../../requirements.txt (line 2)) (2.1.3)\n",
      "Requirement already satisfied: mpmath>=0.19 in /Users/mhchia/projects/work/pse/zk-stats-lib/.venv/lib/python3.9/site-packages (from sympy->torch->-r ../../requirements.txt (line 2)) (1.3.0)\n",
      "\n",
      "\u001b[1m[\u001b[0m\u001b[34;49mnotice\u001b[0m\u001b[1;39;49m]\u001b[0m\u001b[39;49m A new release of pip available: \u001b[0m\u001b[31;49m22.3.1\u001b[0m\u001b[39;49m -> \u001b[0m\u001b[32;49m23.3.1\u001b[0m\n",
      "\u001b[1m[\u001b[0m\u001b[34;49mnotice\u001b[0m\u001b[1;39;49m]\u001b[0m\u001b[39;49m To update, run: \u001b[0m\u001b[32;49mpip install --upgrade pip\u001b[0m\n",
      "Note: you may need to restart the kernel to use updated packages.\n"
     ]
    }
   ],
   "source": [
    "pip install -r ../../requirements.txt"
   ]
  },
  {
   "cell_type": "code",
   "execution_count": 2,
   "metadata": {},
   "outputs": [],
   "source": [
    "import ezkl\n",
    "import torch\n",
    "from torch import nn\n",
    "import json\n",
    "import os\n",
    "import time\n",
    "import scipy\n",
    "import numpy as np\n",
    "import matplotlib.pyplot as plt\n",
    "import statistics\n",
    "import math"
   ]
  },
  {
   "cell_type": "code",
   "execution_count": 3,
   "metadata": {},
   "outputs": [],
   "source": [
    "%run -i ../../zkstats/core.py"
   ]
  },
  {
   "attachments": {},
   "cell_type": "markdown",
   "metadata": {},
   "source": []
  },
  {
   "cell_type": "code",
   "execution_count": 4,
   "metadata": {},
   "outputs": [],
   "source": [
    "# init path\n",
    "os.makedirs(os.path.dirname('shared/'), exist_ok=True)\n",
    "os.makedirs(os.path.dirname('prover/'), exist_ok=True)\n",
    "verifier_model_path = os.path.join('shared/verifier.onnx')\n",
    "prover_model_path = os.path.join('prover/prover.onnx')\n",
    "verifier_compiled_model_path = os.path.join('shared/verifier.compiled')\n",
    "prover_compiled_model_path = os.path.join('prover/prover.compiled')\n",
    "pk_path = os.path.join('shared/test.pk')\n",
    "vk_path = os.path.join('shared/test.vk')\n",
    "proof_path = os.path.join('shared/test.pf')\n",
    "settings_path = os.path.join('shared/settings.json')\n",
    "srs_path = os.path.join('shared/kzg.srs')\n",
    "witness_path = os.path.join('prover/witness.json')\n",
    "# this is private to prover since it contains actual data\n",
    "comb_data_path = os.path.join('prover/comb_data.json')"
   ]
  },
  {
   "attachments": {},
   "cell_type": "markdown",
   "metadata": {},
   "source": [
    "=======================  ZK-STATS FLOW ======================="
   ]
  },
  {
   "cell_type": "code",
   "execution_count": 5,
   "metadata": {},
   "outputs": [],
   "source": [
    "data_path = os.path.join('data.json')\n",
    "dummy_data_path = os.path.join('shared/dummy_data.json')\n",
    "\n",
    "f_raw_input = open(data_path, \"r\")\n",
    "data = json.loads(f_raw_input.read())[\"input_data\"][0]\n",
    "data_tensor = torch.reshape(torch.tensor(data),(1, len(data), 1))\n",
    "\n",
    "#  dummy data for data consumer: make the bound approx same as real data\n",
    "dummy_data = np.random.uniform(min(data), max(data), len(data))\n",
    "json.dump({\"input_data\":[dummy_data.tolist()]}, open(dummy_data_path, 'w'))\n",
    "\n",
    "dummy_data_tensor = torch.reshape(torch.tensor(dummy_data), (1, len(dummy_data),1 ))\n",
    "dummy_theory_output = torch.exp(torch.mean(torch.log(dummy_data_tensor)))\n",
    "\n"
   ]
  },
  {
   "cell_type": "code",
   "execution_count": 6,
   "metadata": {},
   "outputs": [
    {
     "name": "stdout",
     "output_type": "stream",
     "text": [
      "!@# model= <class '__main__.verifier_model'>\n",
      "!@# circuit= verifier_model()\n",
      "!@# circuit.eval= verifier_model()\n"
     ]
    },
    {
     "name": "stderr",
     "output_type": "stream",
     "text": [
      "/var/folders/t3/5psrvr1x0w1_6n9kx2n7d9700000gn/T/ipykernel_2464/2634772801.py:10: TracerWarning: torch.tensor results are registered as constants in the trace. You can safely ignore this warning if you use this function to create tensors out of constant variables that would be the same every time you call this function. In any other case, this might cause the trace to be incorrect.\n",
      "  return (torch.abs((torch.log(self.w)*X.size()[1])-torch.sum(torch.log(X)))<torch.log(torch.tensor(1.01)), self.w)\n"
     ]
    }
   ],
   "source": [
    "# Verifier/ data consumer side:\n",
    "class verifier_model(nn.Module):\n",
    "    def __init__(self):\n",
    "        super(verifier_model, self).__init__()\n",
    "        # w represents mean in this case\n",
    "        self.w = nn.Parameter(data = dummy_theory_output, requires_grad = False)\n",
    "\n",
    "    def forward(self,X):\n",
    "        # some expression of tolerance to error in the inference\n",
    "        return (torch.abs((torch.log(self.w)*X.size()[1])-torch.sum(torch.log(X)))<torch.log(torch.tensor(1.01)), self.w)\n",
    "\n",
    "verifier_define_calculation(verifier_model, verifier_model_path, [dummy_data_path])"
   ]
  },
  {
   "cell_type": "code",
   "execution_count": 7,
   "metadata": {},
   "outputs": [
    {
     "name": "stdout",
     "output_type": "stream",
     "text": [
      "Theory output:  tensor(47.6981)\n",
      "!@# model= <class '__main__.prover_model'>\n",
      "!@# circuit= prover_model()\n",
      "!@# circuit.eval= prover_model()\n",
      "==== Generate & Calibrate Setting ====\n",
      "scale:  [10]\n",
      "setting:  {\"run_args\":{\"tolerance\":{\"val\":0.0,\"scale\":1.0},\"input_scale\":10,\"param_scale\":10,\"scale_rebase_multiplier\":10,\"lookup_range\":[-16,180224],\"logrows\":18,\"num_inner_cols\":1,\"variables\":[[\"batch_size\",1]],\"input_visibility\":{\"Hashed\":{\"hash_is_public\":true,\"outlets\":[]}},\"output_visibility\":\"Public\",\"param_visibility\":\"Private\"},\"num_rows\":14432,\"total_assignments\":906,\"total_const_size\":0,\"model_instance_shapes\":[[1],[1]],\"model_output_scales\":[0,10],\"model_input_scales\":[10],\"module_sizes\":{\"kzg\":[],\"poseidon\":[14432,[1]],\"elgamal\":[0,[0]]},\"required_lookups\":[\"Abs\",{\"Ln\":{\"scale\":1024.0}},{\"GreaterThan\":{\"a\":0.0}}],\"check_mode\":\"UNSAFE\",\"version\":\"5.0.8\",\"num_blinding_factors\":null}\n"
     ]
    },
    {
     "name": "stderr",
     "output_type": "stream",
     "text": [
      "/var/folders/t3/5psrvr1x0w1_6n9kx2n7d9700000gn/T/ipykernel_2464/788883855.py:12: TracerWarning: torch.tensor results are registered as constants in the trace. You can safely ignore this warning if you use this function to create tensors out of constant variables that would be the same every time you call this function. In any other case, this might cause the trace to be incorrect.\n",
      "  return (torch.abs((torch.log(self.w)*X.size()[1])-torch.sum(torch.log(X)))<torch.log(torch.tensor(1.01)), self.w)\n"
     ]
    }
   ],
   "source": [
    "# prover calculates settings, send to verifier\n",
    "theory_output = torch.exp(torch.mean(torch.log(data_tensor)))\n",
    "print(\"Theory output: \", theory_output)\n",
    "class prover_model(nn.Module):\n",
    "    def __init__(self):\n",
    "        super(prover_model, self).__init__()\n",
    "        # w represents mean in this case\n",
    "        self.w = nn.Parameter(data = theory_output, requires_grad = False)\n",
    "\n",
    "    def forward(self,X):\n",
    "        # some expression of tolerance to error in the inference\n",
    "        return (torch.abs((torch.log(self.w)*X.size()[1])-torch.sum(torch.log(X)))<torch.log(torch.tensor(1.01)), self.w)\n",
    "\n",
    "\n",
    "prover_gen_settings([data_path], comb_data_path, prover_model,prover_model_path, [10], \"resources\", settings_path)"
   ]
  },
  {
   "cell_type": "code",
   "execution_count": 8,
   "metadata": {},
   "outputs": [
    {
     "name": "stderr",
     "output_type": "stream",
     "text": [
      "spawning module 0\n"
     ]
    },
    {
     "name": "stdout",
     "output_type": "stream",
     "text": [
      "==== setting up ezkl ====\n"
     ]
    },
    {
     "name": "stderr",
     "output_type": "stream",
     "text": [
      "spawning module 2\n",
      "spawning module 0\n",
      "spawning module 2\n"
     ]
    },
    {
     "name": "stdout",
     "output_type": "stream",
     "text": [
      "Time setup: 41.862324953079224 seconds\n",
      "=======================================\n",
      "Theory output:  tensor(47.6981)\n",
      "!@# compiled_model exists? False\n",
      "!@# compiled_model exists? True\n",
      "==== Generating Witness ====\n",
      "witness boolean:  1.0\n",
      "witness result 1 : 47.6982421875\n",
      "==== Generating Proof ====\n"
     ]
    },
    {
     "name": "stderr",
     "output_type": "stream",
     "text": [
      "spawning module 0\n",
      "spawning module 2\n"
     ]
    },
    {
     "name": "stdout",
     "output_type": "stream",
     "text": [
      "proof:  {'instances': [[[14672592657000597156, 2402501382455789823, 5345685197495592745, 3011024057811024003], [12436184717236109307, 3962172157175319849, 7381016538464732718, 1011752739694698287], [12156132031024860846, 9861177863383639274, 10629998272028772020, 2786626043251147566]]], 'proof': '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', 'transcript_type': 'EVM'}\n",
      "Time gen prf: 52.153839111328125 seconds\n"
     ]
    }
   ],
   "source": [
    "# Here verifier & prover can concurrently call setup since all params are public to get pk.\n",
    "# Here write as verifier function to emphasize that verifier must calculate its own vk to be sure\n",
    "verifier_setup(verifier_model_path, verifier_compiled_model_path, settings_path, srs_path,vk_path, pk_path )\n",
    "\n",
    "print(\"=======================================\")\n",
    "# Prover generates proof\n",
    "print(\"Theory output: \", theory_output)\n",
    "prover_gen_proof(prover_model_path, comb_data_path, witness_path, prover_compiled_model_path, settings_path, proof_path, pk_path, srs_path)"
   ]
  },
  {
   "cell_type": "code",
   "execution_count": 9,
   "metadata": {},
   "outputs": [
    {
     "name": "stdout",
     "output_type": "stream",
     "text": [
      "num_inputs:  1\n",
      "prf instances:  [[[14672592657000597156, 2402501382455789823, 5345685197495592745, 3011024057811024003], [12436184717236109307, 3962172157175319849, 7381016538464732718, 1011752739694698287], [12156132031024860846, 9861177863383639274, 10629998272028772020, 2786626043251147566]]]\n",
      "proof boolean:  1.0\n",
      "proof result 1 : 47.6982421875\n",
      "verified\n"
     ]
    }
   ],
   "source": [
    "# Verifier verifies\n",
    "verifier_verify(proof_path, settings_path, vk_path, srs_path)"
   ]
  },
  {
   "cell_type": "code",
   "execution_count": null,
   "metadata": {},
   "outputs": [],
   "source": []
  },
  {
   "cell_type": "code",
   "execution_count": null,
   "metadata": {},
   "outputs": [],
   "source": []
  }
 ],
 "metadata": {
  "kernelspec": {
   "display_name": "Python 3",
   "language": "python",
   "name": "python3"
  },
  "language_info": {
   "codemirror_mode": {
    "name": "ipython",
    "version": 3
   },
   "file_extension": ".py",
   "mimetype": "text/x-python",
   "name": "python",
   "nbconvert_exporter": "python",
   "pygments_lexer": "ipython3",
   "version": "3.9.6"
  },
  "orig_nbformat": 4
 },
 "nbformat": 4,
 "nbformat_minor": 2
}
