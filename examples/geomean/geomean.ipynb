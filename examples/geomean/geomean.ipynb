{
 "cells": [
  {
   "cell_type": "code",
   "execution_count": 1,
   "metadata": {},
   "outputs": [
    {
     "name": "stdout",
     "output_type": "stream",
     "text": [
      "Requirement already satisfied: ezkl==7.0.0 in /Library/Frameworks/Python.framework/Versions/3.10/lib/python3.10/site-packages (from -r ../../requirements.txt (line 1)) (7.0.0)\n",
      "Requirement already satisfied: torch in /Library/Frameworks/Python.framework/Versions/3.10/lib/python3.10/site-packages (from -r ../../requirements.txt (line 2)) (2.1.1)\n",
      "Requirement already satisfied: requests in /Library/Frameworks/Python.framework/Versions/3.10/lib/python3.10/site-packages (from -r ../../requirements.txt (line 3)) (2.31.0)\n",
      "Requirement already satisfied: scipy in /Library/Frameworks/Python.framework/Versions/3.10/lib/python3.10/site-packages (from -r ../../requirements.txt (line 4)) (1.11.4)\n",
      "Requirement already satisfied: numpy in /Library/Frameworks/Python.framework/Versions/3.10/lib/python3.10/site-packages (from -r ../../requirements.txt (line 5)) (1.26.2)\n",
      "Requirement already satisfied: matplotlib in /Library/Frameworks/Python.framework/Versions/3.10/lib/python3.10/site-packages (from -r ../../requirements.txt (line 6)) (3.8.2)\n",
      "Requirement already satisfied: statistics in /Library/Frameworks/Python.framework/Versions/3.10/lib/python3.10/site-packages (from -r ../../requirements.txt (line 7)) (1.0.3.5)\n",
      "Requirement already satisfied: onnx in /Library/Frameworks/Python.framework/Versions/3.10/lib/python3.10/site-packages (from -r ../../requirements.txt (line 8)) (1.15.0)\n",
      "Requirement already satisfied: filelock in /Library/Frameworks/Python.framework/Versions/3.10/lib/python3.10/site-packages (from torch->-r ../../requirements.txt (line 2)) (3.13.1)\n",
      "Requirement already satisfied: networkx in /Library/Frameworks/Python.framework/Versions/3.10/lib/python3.10/site-packages (from torch->-r ../../requirements.txt (line 2)) (3.2.1)\n",
      "Requirement already satisfied: typing-extensions in /Library/Frameworks/Python.framework/Versions/3.10/lib/python3.10/site-packages (from torch->-r ../../requirements.txt (line 2)) (4.8.0)\n",
      "Requirement already satisfied: fsspec in /Library/Frameworks/Python.framework/Versions/3.10/lib/python3.10/site-packages (from torch->-r ../../requirements.txt (line 2)) (2023.10.0)\n",
      "Requirement already satisfied: sympy in /Library/Frameworks/Python.framework/Versions/3.10/lib/python3.10/site-packages (from torch->-r ../../requirements.txt (line 2)) (1.12)\n",
      "Requirement already satisfied: jinja2 in /Library/Frameworks/Python.framework/Versions/3.10/lib/python3.10/site-packages (from torch->-r ../../requirements.txt (line 2)) (3.1.2)\n",
      "Requirement already satisfied: certifi>=2017.4.17 in /Library/Frameworks/Python.framework/Versions/3.10/lib/python3.10/site-packages (from requests->-r ../../requirements.txt (line 3)) (2023.11.17)\n",
      "Requirement already satisfied: urllib3<3,>=1.21.1 in /Library/Frameworks/Python.framework/Versions/3.10/lib/python3.10/site-packages (from requests->-r ../../requirements.txt (line 3)) (2.1.0)\n",
      "Requirement already satisfied: charset-normalizer<4,>=2 in /Library/Frameworks/Python.framework/Versions/3.10/lib/python3.10/site-packages (from requests->-r ../../requirements.txt (line 3)) (3.3.2)\n",
      "Requirement already satisfied: idna<4,>=2.5 in /Library/Frameworks/Python.framework/Versions/3.10/lib/python3.10/site-packages (from requests->-r ../../requirements.txt (line 3)) (3.6)\n",
      "Requirement already satisfied: fonttools>=4.22.0 in /Library/Frameworks/Python.framework/Versions/3.10/lib/python3.10/site-packages (from matplotlib->-r ../../requirements.txt (line 6)) (4.45.1)\n",
      "Requirement already satisfied: kiwisolver>=1.3.1 in /Library/Frameworks/Python.framework/Versions/3.10/lib/python3.10/site-packages (from matplotlib->-r ../../requirements.txt (line 6)) (1.4.5)\n",
      "Requirement already satisfied: pillow>=8 in /Library/Frameworks/Python.framework/Versions/3.10/lib/python3.10/site-packages (from matplotlib->-r ../../requirements.txt (line 6)) (10.1.0)\n",
      "Requirement already satisfied: cycler>=0.10 in /Library/Frameworks/Python.framework/Versions/3.10/lib/python3.10/site-packages (from matplotlib->-r ../../requirements.txt (line 6)) (0.12.1)\n",
      "Requirement already satisfied: python-dateutil>=2.7 in /Users/jernkun/Library/Python/3.10/lib/python/site-packages (from matplotlib->-r ../../requirements.txt (line 6)) (2.8.2)\n",
      "Requirement already satisfied: packaging>=20.0 in /Users/jernkun/Library/Python/3.10/lib/python/site-packages (from matplotlib->-r ../../requirements.txt (line 6)) (23.2)\n",
      "Requirement already satisfied: contourpy>=1.0.1 in /Library/Frameworks/Python.framework/Versions/3.10/lib/python3.10/site-packages (from matplotlib->-r ../../requirements.txt (line 6)) (1.2.0)\n",
      "Requirement already satisfied: pyparsing>=2.3.1 in /Library/Frameworks/Python.framework/Versions/3.10/lib/python3.10/site-packages (from matplotlib->-r ../../requirements.txt (line 6)) (3.1.1)\n",
      "Requirement already satisfied: docutils>=0.3 in /Library/Frameworks/Python.framework/Versions/3.10/lib/python3.10/site-packages (from statistics->-r ../../requirements.txt (line 7)) (0.20.1)\n",
      "Requirement already satisfied: protobuf>=3.20.2 in /Library/Frameworks/Python.framework/Versions/3.10/lib/python3.10/site-packages (from onnx->-r ../../requirements.txt (line 8)) (4.25.1)\n",
      "Requirement already satisfied: six>=1.5 in /Users/jernkun/Library/Python/3.10/lib/python/site-packages (from python-dateutil>=2.7->matplotlib->-r ../../requirements.txt (line 6)) (1.16.0)\n",
      "Requirement already satisfied: MarkupSafe>=2.0 in /Library/Frameworks/Python.framework/Versions/3.10/lib/python3.10/site-packages (from jinja2->torch->-r ../../requirements.txt (line 2)) (2.1.3)\n",
      "Requirement already satisfied: mpmath>=0.19 in /Library/Frameworks/Python.framework/Versions/3.10/lib/python3.10/site-packages (from sympy->torch->-r ../../requirements.txt (line 2)) (1.3.0)\n",
      "\u001b[33mWARNING: You are using pip version 21.2.3; however, version 23.3.2 is available.\n",
      "You should consider upgrading via the '/usr/local/bin/python3 -m pip install --upgrade pip' command.\u001b[0m\n",
      "Note: you may need to restart the kernel to use updated packages.\n"
     ]
    }
   ],
   "source": [
    "pip install -r ../../requirements.txt"
   ]
  },
  {
   "cell_type": "code",
   "execution_count": 2,
   "metadata": {},
   "outputs": [],
   "source": [
    "import ezkl\n",
    "import torch\n",
    "from torch import nn\n",
    "import json\n",
    "import os\n",
    "import time\n",
    "import scipy\n",
    "import numpy as np\n",
    "import matplotlib.pyplot as plt\n",
    "import statistics\n",
    "import math"
   ]
  },
  {
   "cell_type": "code",
   "execution_count": 3,
   "metadata": {},
   "outputs": [],
   "source": [
    "%run -i ../../zkstats/core.py"
   ]
  },
  {
   "attachments": {},
   "cell_type": "markdown",
   "metadata": {},
   "source": []
  },
  {
   "cell_type": "code",
   "execution_count": 4,
   "metadata": {},
   "outputs": [],
   "source": [
    "# init path\n",
    "os.makedirs(os.path.dirname('shared/'), exist_ok=True)\n",
    "os.makedirs(os.path.dirname('prover/'), exist_ok=True)\n",
    "verifier_model_path = os.path.join('shared/verifier.onnx')\n",
    "prover_model_path = os.path.join('prover/prover.onnx')\n",
    "verifier_compiled_model_path = os.path.join('shared/verifier.compiled')\n",
    "prover_compiled_model_path = os.path.join('prover/prover.compiled')\n",
    "pk_path = os.path.join('shared/test.pk')\n",
    "vk_path = os.path.join('shared/test.vk')\n",
    "proof_path = os.path.join('shared/test.pf')\n",
    "settings_path = os.path.join('shared/settings.json')\n",
    "srs_path = os.path.join('shared/kzg.srs')\n",
    "witness_path = os.path.join('prover/witness.json')\n",
    "# this is private to prover since it contains actual data\n",
    "comb_data_path = os.path.join('prover/comb_data.json')"
   ]
  },
  {
   "attachments": {},
   "cell_type": "markdown",
   "metadata": {},
   "source": [
    "=======================  ZK-STATS FLOW ======================="
   ]
  },
  {
   "cell_type": "code",
   "execution_count": 5,
   "metadata": {},
   "outputs": [],
   "source": [
    "data_path = os.path.join('data.json')\n",
    "dummy_data_path = os.path.join('shared/dummy_data.json')\n",
    "\n",
    "f_raw_input = open(data_path, \"r\")\n",
    "data = json.loads(f_raw_input.read())[\"input_data\"][0]\n",
    "data_tensor = torch.reshape(torch.tensor(data),(1, len(data), 1))\n",
    "\n",
    "\n",
    "dummy_data = np.round(np.random.uniform(1,10,len(data)),1)\n",
    "json.dump({\"input_data\":[dummy_data.tolist()]}, open(dummy_data_path, 'w'))\n",
    "\n",
    "dummy_data_tensor = torch.reshape(torch.tensor(dummy_data), (1, len(dummy_data),1 ))\n",
    "dummy_theory_output = torch.exp(torch.mean(torch.log(dummy_data_tensor)))\n",
    "\n"
   ]
  },
  {
   "cell_type": "code",
   "execution_count": 6,
   "metadata": {},
   "outputs": [
    {
     "name": "stderr",
     "output_type": "stream",
     "text": [
      "/var/folders/89/y9dw12v976ngdmqz4l7wbsnr0000gn/T/ipykernel_45071/1643889957.py:8: TracerWarning: torch.tensor results are registered as constants in the trace. You can safely ignore this warning if you use this function to create tensors out of constant variables that would be the same every time you call this function. In any other case, this might cause the trace to be incorrect.\n",
      "  return (torch.abs((torch.log(self.w)*X.size()[1])-torch.sum(torch.log(X)))<=torch.log(torch.tensor(1.01)), self.w)\n"
     ]
    }
   ],
   "source": [
    "# Verifier/ data consumer side:\n",
    "class verifier_model(nn.Module):\n",
    "    def __init__(self):\n",
    "        super(verifier_model, self).__init__()\n",
    "        self.w = nn.Parameter(data = dummy_theory_output, requires_grad = False)\n",
    "\n",
    "    def forward(self,X):\n",
    "        return (torch.abs((torch.log(self.w)*X.size()[1])-torch.sum(torch.log(X)))<=torch.log(torch.tensor(1.01)), self.w)\n",
    "\n",
    "verifier_define_calculation(verifier_model, verifier_model_path, [dummy_data_path])"
   ]
  },
  {
   "cell_type": "code",
   "execution_count": 7,
   "metadata": {},
   "outputs": [
    {
     "name": "stdout",
     "output_type": "stream",
     "text": [
      "Theory output:  tensor(47.6981)\n",
      "==== Generate & Calibrate Setting ====\n",
      "scale:  [8]\n",
      "setting:  {\"run_args\":{\"tolerance\":{\"val\":0.0,\"scale\":1.0},\"input_scale\":8,\"param_scale\":8,\"scale_rebase_multiplier\":10,\"lookup_range\":[-6,45056],\"logrows\":16,\"num_inner_cols\":2,\"variables\":[[\"batch_size\",1]],\"input_visibility\":{\"Hashed\":{\"hash_is_public\":true,\"outlets\":[]}},\"output_visibility\":\"Public\",\"param_visibility\":\"Private\"},\"num_rows\":14432,\"total_assignments\":910,\"total_const_size\":4,\"model_instance_shapes\":[[1],[1]],\"model_output_scales\":[0,8],\"model_input_scales\":[8],\"module_sizes\":{\"kzg\":[],\"poseidon\":[14432,[1]],\"elgamal\":[0,[0]]},\"required_lookups\":[\"Abs\",{\"Ln\":{\"scale\":256.0}},{\"GreaterThan\":{\"a\":0.0}}],\"check_mode\":\"UNSAFE\",\"version\":\"7.0.0\",\"num_blinding_factors\":null}\n"
     ]
    },
    {
     "name": "stderr",
     "output_type": "stream",
     "text": [
      "/var/folders/89/y9dw12v976ngdmqz4l7wbsnr0000gn/T/ipykernel_45071/21767248.py:11: TracerWarning: torch.tensor results are registered as constants in the trace. You can safely ignore this warning if you use this function to create tensors out of constant variables that would be the same every time you call this function. In any other case, this might cause the trace to be incorrect.\n",
      "  return (torch.abs((torch.log(self.w)*X.size()[1])-torch.sum(torch.log(X)))<=torch.log(torch.tensor(1.01)), self.w)\n"
     ]
    }
   ],
   "source": [
    "# prover calculates settings, send to verifier\n",
    "theory_output = torch.exp(torch.mean(torch.log(data_tensor)))\n",
    "print(\"Theory output: \", theory_output)\n",
    "class prover_model(nn.Module):\n",
    "    def __init__(self):\n",
    "        super(prover_model, self).__init__()\n",
    "        # w represents mean in this case\n",
    "        self.w = nn.Parameter(data = theory_output, requires_grad = False)\n",
    "\n",
    "    def forward(self,X):\n",
    "        return (torch.abs((torch.log(self.w)*X.size()[1])-torch.sum(torch.log(X)))<=torch.log(torch.tensor(1.01)), self.w)\n",
    "\n",
    "\n",
    "prover_gen_settings([data_path], comb_data_path, prover_model,prover_model_path, [8], \"resources\", settings_path)"
   ]
  },
  {
   "cell_type": "code",
   "execution_count": 8,
   "metadata": {},
   "outputs": [
    {
     "name": "stderr",
     "output_type": "stream",
     "text": [
      "spawning module 0\n",
      "spawning module 2\n"
     ]
    },
    {
     "name": "stdout",
     "output_type": "stream",
     "text": [
      "==== setting up ezkl ====\n"
     ]
    },
    {
     "name": "stderr",
     "output_type": "stream",
     "text": [
      "spawning module 0\n",
      "spawning module 2\n"
     ]
    },
    {
     "name": "stdout",
     "output_type": "stream",
     "text": [
      "Time setup: 8.106843948364258 seconds\n",
      "=======================================\n",
      "Theory output:  tensor(47.6981)\n",
      "!@# compiled_model exists? True\n",
      "!@# compiled_model exists? True\n",
      "==== Generating Witness ====\n",
      "witness boolean:  1.0\n",
      "witness result 1 : 47.69921875\n",
      "==== Generating Proof ====\n"
     ]
    },
    {
     "name": "stderr",
     "output_type": "stream",
     "text": [
      "spawning module 0\n",
      "spawning module 2\n"
     ]
    },
    {
     "name": "stdout",
     "output_type": "stream",
     "text": [
      "proof:  {'instances': [[[12773529019820117503, 7223165032241168505, 6388811546753741567, 1325363978837834469], [12436184717236109307, 3962172157175319849, 7381016538464732718, 1011752739694698287], [14148586052410868650, 7343294927740416096, 1182455714804702497, 77845129035718797]]], 'proof': '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', 'transcript_type': 'EVM'}\n",
      "Time gen prf: 9.619640111923218 seconds\n"
     ]
    }
   ],
   "source": [
    "# Here verifier & prover can concurrently call setup since all params are public to get pk.\n",
    "# Here write as verifier function to emphasize that verifier must calculate its own vk to be sure\n",
    "verifier_setup(verifier_model_path, verifier_compiled_model_path, settings_path,vk_path, pk_path )\n",
    "\n",
    "print(\"=======================================\")\n",
    "# Prover generates proof\n",
    "print(\"Theory output: \", theory_output)\n",
    "prover_gen_proof(prover_model_path, comb_data_path, witness_path, prover_compiled_model_path, settings_path, proof_path, pk_path)"
   ]
  },
  {
   "cell_type": "code",
   "execution_count": 9,
   "metadata": {},
   "outputs": [
    {
     "name": "stdout",
     "output_type": "stream",
     "text": [
      "num_inputs:  1\n",
      "prf instances:  [[[12773529019820117503, 7223165032241168505, 6388811546753741567, 1325363978837834469], [12436184717236109307, 3962172157175319849, 7381016538464732718, 1011752739694698287], [14148586052410868650, 7343294927740416096, 1182455714804702497, 77845129035718797]]]\n",
      "proof boolean:  1.0\n",
      "proof result 1 : 47.69921875\n",
      "verified\n"
     ]
    }
   ],
   "source": [
    "# Verifier verifies\n",
    "verifier_verify(proof_path, settings_path, vk_path)"
   ]
  },
  {
   "cell_type": "code",
   "execution_count": null,
   "metadata": {},
   "outputs": [],
   "source": []
  },
  {
   "cell_type": "code",
   "execution_count": null,
   "metadata": {},
   "outputs": [],
   "source": []
  }
 ],
 "metadata": {
  "kernelspec": {
   "display_name": "Python 3",
   "language": "python",
   "name": "python3"
  },
  "language_info": {
   "codemirror_mode": {
    "name": "ipython",
    "version": 3
   },
   "file_extension": ".py",
   "mimetype": "text/x-python",
   "name": "python",
   "nbconvert_exporter": "python",
   "pygments_lexer": "ipython3",
   "version": "3.10.0"
  },
  "orig_nbformat": 4
 },
 "nbformat": 4,
 "nbformat_minor": 2
}
