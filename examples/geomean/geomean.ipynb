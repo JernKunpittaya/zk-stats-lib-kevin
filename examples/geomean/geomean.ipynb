{
 "cells": [
  {
   "cell_type": "code",
   "execution_count": 1,
   "metadata": {},
   "outputs": [
    {
     "name": "stdout",
     "output_type": "stream",
     "text": [
      "Requirement already satisfied: ezkl==7.0.0 in /Library/Frameworks/Python.framework/Versions/3.10/lib/python3.10/site-packages (from -r ../../requirements.txt (line 1)) (7.0.0)\n",
      "Requirement already satisfied: torch in /Library/Frameworks/Python.framework/Versions/3.10/lib/python3.10/site-packages (from -r ../../requirements.txt (line 2)) (2.1.1)\n",
      "Requirement already satisfied: requests in /Library/Frameworks/Python.framework/Versions/3.10/lib/python3.10/site-packages (from -r ../../requirements.txt (line 3)) (2.31.0)\n",
      "Requirement already satisfied: scipy in /Library/Frameworks/Python.framework/Versions/3.10/lib/python3.10/site-packages (from -r ../../requirements.txt (line 4)) (1.11.4)\n",
      "Requirement already satisfied: numpy in /Library/Frameworks/Python.framework/Versions/3.10/lib/python3.10/site-packages (from -r ../../requirements.txt (line 5)) (1.26.2)\n",
      "Requirement already satisfied: matplotlib in /Library/Frameworks/Python.framework/Versions/3.10/lib/python3.10/site-packages (from -r ../../requirements.txt (line 6)) (3.8.2)\n",
      "Requirement already satisfied: statistics in /Library/Frameworks/Python.framework/Versions/3.10/lib/python3.10/site-packages (from -r ../../requirements.txt (line 7)) (1.0.3.5)\n",
      "Requirement already satisfied: onnx in /Library/Frameworks/Python.framework/Versions/3.10/lib/python3.10/site-packages (from -r ../../requirements.txt (line 8)) (1.15.0)\n",
      "Requirement already satisfied: filelock in /Library/Frameworks/Python.framework/Versions/3.10/lib/python3.10/site-packages (from torch->-r ../../requirements.txt (line 2)) (3.13.1)\n",
      "Requirement already satisfied: fsspec in /Library/Frameworks/Python.framework/Versions/3.10/lib/python3.10/site-packages (from torch->-r ../../requirements.txt (line 2)) (2023.10.0)\n",
      "Requirement already satisfied: jinja2 in /Library/Frameworks/Python.framework/Versions/3.10/lib/python3.10/site-packages (from torch->-r ../../requirements.txt (line 2)) (3.1.2)\n",
      "Requirement already satisfied: networkx in /Library/Frameworks/Python.framework/Versions/3.10/lib/python3.10/site-packages (from torch->-r ../../requirements.txt (line 2)) (3.2.1)\n",
      "Requirement already satisfied: typing-extensions in /Library/Frameworks/Python.framework/Versions/3.10/lib/python3.10/site-packages (from torch->-r ../../requirements.txt (line 2)) (4.8.0)\n",
      "Requirement already satisfied: sympy in /Library/Frameworks/Python.framework/Versions/3.10/lib/python3.10/site-packages (from torch->-r ../../requirements.txt (line 2)) (1.12)\n",
      "Requirement already satisfied: certifi>=2017.4.17 in /Library/Frameworks/Python.framework/Versions/3.10/lib/python3.10/site-packages (from requests->-r ../../requirements.txt (line 3)) (2023.11.17)\n",
      "Requirement already satisfied: idna<4,>=2.5 in /Library/Frameworks/Python.framework/Versions/3.10/lib/python3.10/site-packages (from requests->-r ../../requirements.txt (line 3)) (3.6)\n",
      "Requirement already satisfied: charset-normalizer<4,>=2 in /Library/Frameworks/Python.framework/Versions/3.10/lib/python3.10/site-packages (from requests->-r ../../requirements.txt (line 3)) (3.3.2)\n",
      "Requirement already satisfied: urllib3<3,>=1.21.1 in /Library/Frameworks/Python.framework/Versions/3.10/lib/python3.10/site-packages (from requests->-r ../../requirements.txt (line 3)) (2.1.0)\n",
      "Requirement already satisfied: pyparsing>=2.3.1 in /Library/Frameworks/Python.framework/Versions/3.10/lib/python3.10/site-packages (from matplotlib->-r ../../requirements.txt (line 6)) (3.1.1)\n",
      "Requirement already satisfied: fonttools>=4.22.0 in /Library/Frameworks/Python.framework/Versions/3.10/lib/python3.10/site-packages (from matplotlib->-r ../../requirements.txt (line 6)) (4.45.1)\n",
      "Requirement already satisfied: packaging>=20.0 in /Users/jernkun/Library/Python/3.10/lib/python/site-packages (from matplotlib->-r ../../requirements.txt (line 6)) (23.2)\n",
      "Requirement already satisfied: kiwisolver>=1.3.1 in /Library/Frameworks/Python.framework/Versions/3.10/lib/python3.10/site-packages (from matplotlib->-r ../../requirements.txt (line 6)) (1.4.5)\n",
      "Requirement already satisfied: python-dateutil>=2.7 in /Users/jernkun/Library/Python/3.10/lib/python/site-packages (from matplotlib->-r ../../requirements.txt (line 6)) (2.8.2)\n",
      "Requirement already satisfied: pillow>=8 in /Library/Frameworks/Python.framework/Versions/3.10/lib/python3.10/site-packages (from matplotlib->-r ../../requirements.txt (line 6)) (10.1.0)\n",
      "Requirement already satisfied: cycler>=0.10 in /Library/Frameworks/Python.framework/Versions/3.10/lib/python3.10/site-packages (from matplotlib->-r ../../requirements.txt (line 6)) (0.12.1)\n",
      "Requirement already satisfied: contourpy>=1.0.1 in /Library/Frameworks/Python.framework/Versions/3.10/lib/python3.10/site-packages (from matplotlib->-r ../../requirements.txt (line 6)) (1.2.0)\n",
      "Requirement already satisfied: docutils>=0.3 in /Library/Frameworks/Python.framework/Versions/3.10/lib/python3.10/site-packages (from statistics->-r ../../requirements.txt (line 7)) (0.20.1)\n",
      "Requirement already satisfied: protobuf>=3.20.2 in /Library/Frameworks/Python.framework/Versions/3.10/lib/python3.10/site-packages (from onnx->-r ../../requirements.txt (line 8)) (4.25.1)\n",
      "Requirement already satisfied: six>=1.5 in /Users/jernkun/Library/Python/3.10/lib/python/site-packages (from python-dateutil>=2.7->matplotlib->-r ../../requirements.txt (line 6)) (1.16.0)\n",
      "Requirement already satisfied: MarkupSafe>=2.0 in /Library/Frameworks/Python.framework/Versions/3.10/lib/python3.10/site-packages (from jinja2->torch->-r ../../requirements.txt (line 2)) (2.1.3)\n",
      "Requirement already satisfied: mpmath>=0.19 in /Library/Frameworks/Python.framework/Versions/3.10/lib/python3.10/site-packages (from sympy->torch->-r ../../requirements.txt (line 2)) (1.3.0)\n",
      "\u001b[33mWARNING: You are using pip version 21.2.3; however, version 23.3.2 is available.\n",
      "You should consider upgrading via the '/usr/local/bin/python3 -m pip install --upgrade pip' command.\u001b[0m\n",
      "Note: you may need to restart the kernel to use updated packages.\n"
     ]
    }
   ],
   "source": [
    "pip install -r ../../requirements.txt"
   ]
  },
  {
   "cell_type": "code",
   "execution_count": 2,
   "metadata": {},
   "outputs": [],
   "source": [
    "import ezkl\n",
    "import torch\n",
    "from torch import nn\n",
    "import json\n",
    "import os\n",
    "import time\n",
    "import scipy\n",
    "import numpy as np\n",
    "import matplotlib.pyplot as plt\n",
    "import statistics\n",
    "import math"
   ]
  },
  {
   "cell_type": "code",
   "execution_count": 3,
   "metadata": {},
   "outputs": [],
   "source": [
    "%run -i ../../zkstats/core.py"
   ]
  },
  {
   "attachments": {},
   "cell_type": "markdown",
   "metadata": {},
   "source": []
  },
  {
   "cell_type": "code",
   "execution_count": 4,
   "metadata": {},
   "outputs": [],
   "source": [
    "# init path\n",
    "os.makedirs(os.path.dirname('shared/'), exist_ok=True)\n",
    "os.makedirs(os.path.dirname('prover/'), exist_ok=True)\n",
    "verifier_model_path = os.path.join('shared/verifier.onnx')\n",
    "prover_model_path = os.path.join('prover/prover.onnx')\n",
    "verifier_compiled_model_path = os.path.join('shared/verifier.compiled')\n",
    "prover_compiled_model_path = os.path.join('prover/prover.compiled')\n",
    "pk_path = os.path.join('shared/test.pk')\n",
    "vk_path = os.path.join('shared/test.vk')\n",
    "proof_path = os.path.join('shared/test.pf')\n",
    "settings_path = os.path.join('shared/settings.json')\n",
    "srs_path = os.path.join('shared/kzg.srs')\n",
    "witness_path = os.path.join('prover/witness.json')\n",
    "# this is private to prover since it contains actual data\n",
    "comb_data_path = os.path.join('prover/comb_data.json')"
   ]
  },
  {
   "attachments": {},
   "cell_type": "markdown",
   "metadata": {},
   "source": [
    "=======================  ZK-STATS FLOW ======================="
   ]
  },
  {
   "cell_type": "code",
   "execution_count": 5,
   "metadata": {},
   "outputs": [],
   "source": [
    "data_path = os.path.join('data.json')\n",
    "dummy_data_path = os.path.join('shared/dummy_data.json')\n",
    "\n",
    "f_raw_input = open(data_path, \"r\")\n",
    "data = json.loads(f_raw_input.read())[\"input_data\"][0]\n",
    "data_tensor = torch.reshape(torch.tensor(data),(1, len(data), 1))\n",
    "\n",
    "\n",
    "dummy_data = np.round(np.random.uniform(1,10,len(data)),1)\n",
    "json.dump({\"input_data\":[dummy_data.tolist()]}, open(dummy_data_path, 'w'))\n",
    "\n",
    "dummy_data_tensor = torch.reshape(torch.tensor(dummy_data), (1, len(dummy_data),1 ))\n",
    "dummy_theory_output = torch.exp(torch.mean(torch.log(dummy_data_tensor)))\n",
    "\n"
   ]
  },
  {
   "cell_type": "code",
   "execution_count": 6,
   "metadata": {},
   "outputs": [
    {
     "name": "stderr",
     "output_type": "stream",
     "text": [
      "/var/folders/89/y9dw12v976ngdmqz4l7wbsnr0000gn/T/ipykernel_85593/1255054198.py:8: TracerWarning: torch.tensor results are registered as constants in the trace. You can safely ignore this warning if you use this function to create tensors out of constant variables that would be the same every time you call this function. In any other case, this might cause the trace to be incorrect.\n",
      "  return (torch.abs((torch.log(self.w)*X.size()[1])-torch.sum(torch.log(X)))<=X.size()[1]*torch.log(torch.tensor(1.01)), self.w)\n"
     ]
    }
   ],
   "source": [
    "# Verifier/ data consumer side:\n",
    "class verifier_model(nn.Module):\n",
    "    def __init__(self):\n",
    "        super(verifier_model, self).__init__()\n",
    "        self.w = nn.Parameter(data = dummy_theory_output, requires_grad = False)\n",
    "\n",
    "    def forward(self,X):\n",
    "        return (torch.abs((torch.log(self.w)*X.size()[1])-torch.sum(torch.log(X)))<=X.size()[1]*torch.log(torch.tensor(1.01)), self.w)\n",
    "\n",
    "verifier_define_calculation(verifier_model, verifier_model_path, [dummy_data_path])"
   ]
  },
  {
   "cell_type": "code",
   "execution_count": 10,
   "metadata": {},
   "outputs": [
    {
     "name": "stdout",
     "output_type": "stream",
     "text": [
      "Theory output:  tensor(47.6981)\n",
      "==== Generate & Calibrate Setting ====\n"
     ]
    },
    {
     "name": "stderr",
     "output_type": "stream",
     "text": [
      "/var/folders/89/y9dw12v976ngdmqz4l7wbsnr0000gn/T/ipykernel_85593/4282877004.py:11: TracerWarning: torch.tensor results are registered as constants in the trace. You can safely ignore this warning if you use this function to create tensors out of constant variables that would be the same every time you call this function. In any other case, this might cause the trace to be incorrect.\n",
      "  return (torch.abs((torch.log(self.w)*X.size()[1])-torch.sum(torch.log(X)))<=X.size()[1]*torch.log(torch.tensor(1.01)), self.w)\n"
     ]
    },
    {
     "name": "stdout",
     "output_type": "stream",
     "text": [
      "scale:  default\n",
      "setting:  {\"run_args\":{\"tolerance\":{\"val\":0.0,\"scale\":1.0},\"input_scale\":8,\"param_scale\":9,\"scale_rebase_multiplier\":10,\"lookup_range\":[-3042,45056],\"logrows\":16,\"num_inner_cols\":2,\"variables\":[[\"batch_size\",1]],\"input_visibility\":{\"Hashed\":{\"hash_is_public\":true,\"outlets\":[]}},\"output_visibility\":\"Public\",\"param_visibility\":\"Private\"},\"num_rows\":14432,\"total_assignments\":911,\"total_const_size\":5,\"model_instance_shapes\":[[1],[1]],\"model_output_scales\":[0,9],\"model_input_scales\":[8],\"module_sizes\":{\"kzg\":[],\"poseidon\":[14432,[1]],\"elgamal\":[0,[0]]},\"required_lookups\":[\"Abs\",{\"Ln\":{\"scale\":256.0}},{\"GreaterThan\":{\"a\":0.0}}],\"check_mode\":\"UNSAFE\",\"version\":\"7.0.0\",\"num_blinding_factors\":null}\n"
     ]
    }
   ],
   "source": [
    "# prover calculates settings, send to verifier\n",
    "theory_output = torch.exp(torch.mean(torch.log(data_tensor)))\n",
    "print(\"Theory output: \", theory_output)\n",
    "class prover_model(nn.Module):\n",
    "    def __init__(self):\n",
    "        super(prover_model, self).__init__()\n",
    "        # w represents mean in this case\n",
    "        self.w = nn.Parameter(data = theory_output, requires_grad = False)\n",
    "\n",
    "    def forward(self,X):\n",
    "        return (torch.abs((torch.log(self.w)*X.size()[1])-torch.sum(torch.log(X)))<=X.size()[1]*torch.log(torch.tensor(1.01)), self.w)\n",
    "\n",
    "\n",
    "prover_gen_settings([data_path], comb_data_path, prover_model,prover_model_path, \"default\", \"resources\", settings_path)"
   ]
  },
  {
   "cell_type": "code",
   "execution_count": 11,
   "metadata": {},
   "outputs": [
    {
     "name": "stderr",
     "output_type": "stream",
     "text": [
      "spawning module 0\n",
      "spawning module 2\n"
     ]
    },
    {
     "name": "stdout",
     "output_type": "stream",
     "text": [
      "==== setting up ezkl ====\n"
     ]
    },
    {
     "name": "stderr",
     "output_type": "stream",
     "text": [
      "spawning module 0\n",
      "spawning module 2\n"
     ]
    },
    {
     "name": "stdout",
     "output_type": "stream",
     "text": [
      "Time setup: 6.590507984161377 seconds\n",
      "=======================================\n",
      "Theory output:  tensor(47.6981)\n",
      "!@# compiled_model exists? True\n",
      "!@# compiled_model exists? True\n",
      "==== Generating Witness ====\n",
      "witness boolean:  1.0\n",
      "witness result 1 : 47.697265625\n",
      "==== Generating Proof ====\n"
     ]
    },
    {
     "name": "stderr",
     "output_type": "stream",
     "text": [
      "spawning module 0\n",
      "spawning module 2\n"
     ]
    },
    {
     "name": "stdout",
     "output_type": "stream",
     "text": [
      "proof:  {'instances': [[[12773529019820117503, 7223165032241168505, 6388811546753741567, 1325363978837834469], [12436184717236109307, 3962172157175319849, 7381016538464732718, 1011752739694698287], [2305703999912675162, 13621332081612358697, 8265086842419367025, 2630935785179709972]]], 'proof': '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', 'transcript_type': 'EVM'}\n",
      "Time gen prf: 12.01541519165039 seconds\n"
     ]
    }
   ],
   "source": [
    "# Here verifier & prover can concurrently call setup since all params are public to get pk.\n",
    "# Here write as verifier function to emphasize that verifier must calculate its own vk to be sure\n",
    "verifier_setup(verifier_model_path, verifier_compiled_model_path, settings_path,vk_path, pk_path )\n",
    "\n",
    "print(\"=======================================\")\n",
    "# Prover generates proof\n",
    "print(\"Theory output: \", theory_output)\n",
    "prover_gen_proof(prover_model_path, comb_data_path, witness_path, prover_compiled_model_path, settings_path, proof_path, pk_path)"
   ]
  },
  {
   "cell_type": "code",
   "execution_count": 9,
   "metadata": {},
   "outputs": [
    {
     "name": "stdout",
     "output_type": "stream",
     "text": [
      "num_inputs:  1\n",
      "prf instances:  [[[12773529019820117503, 7223165032241168505, 6388811546753741567, 1325363978837834469], [12436184717236109307, 3962172157175319849, 7381016538464732718, 1011752739694698287], [14148586052410868650, 7343294927740416096, 1182455714804702497, 77845129035718797]]]\n",
      "proof boolean:  1.0\n",
      "proof result 1 : 47.69921875\n",
      "verified\n"
     ]
    }
   ],
   "source": [
    "# Verifier verifies\n",
    "verifier_verify(proof_path, settings_path, vk_path)"
   ]
  },
  {
   "cell_type": "code",
   "execution_count": null,
   "metadata": {},
   "outputs": [],
   "source": []
  },
  {
   "cell_type": "code",
   "execution_count": null,
   "metadata": {},
   "outputs": [],
   "source": []
  }
 ],
 "metadata": {
  "kernelspec": {
   "display_name": "Python 3",
   "language": "python",
   "name": "python3"
  },
  "language_info": {
   "codemirror_mode": {
    "name": "ipython",
    "version": 3
   },
   "file_extension": ".py",
   "mimetype": "text/x-python",
   "name": "python",
   "nbconvert_exporter": "python",
   "pygments_lexer": "ipython3",
   "version": "3.10.0"
  },
  "orig_nbformat": 4
 },
 "nbformat": 4,
 "nbformat_minor": 2
}
