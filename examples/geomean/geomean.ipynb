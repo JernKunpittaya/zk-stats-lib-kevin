{
 "cells": [
  {
   "cell_type": "code",
   "execution_count": 1,
   "metadata": {},
   "outputs": [
    {
     "name": "stdout",
     "output_type": "stream",
     "text": [
      "Requirement already satisfied: ezkl==9.1.0 in /Users/jernkun/Library/Caches/pypoetry/virtualenvs/zkstats-OJpceffF-py3.11/lib/python3.11/site-packages (from -r ../../requirements.txt (line 1)) (9.1.0)\n",
      "Requirement already satisfied: torch in /Users/jernkun/Library/Caches/pypoetry/virtualenvs/zkstats-OJpceffF-py3.11/lib/python3.11/site-packages (from -r ../../requirements.txt (line 2)) (2.2.0)\n",
      "Requirement already satisfied: requests in /Users/jernkun/Library/Caches/pypoetry/virtualenvs/zkstats-OJpceffF-py3.11/lib/python3.11/site-packages (from -r ../../requirements.txt (line 3)) (2.31.0)\n",
      "Requirement already satisfied: scipy in /Users/jernkun/Library/Caches/pypoetry/virtualenvs/zkstats-OJpceffF-py3.11/lib/python3.11/site-packages (from -r ../../requirements.txt (line 4)) (1.12.0)\n",
      "Requirement already satisfied: numpy in /Users/jernkun/Library/Caches/pypoetry/virtualenvs/zkstats-OJpceffF-py3.11/lib/python3.11/site-packages (from -r ../../requirements.txt (line 5)) (1.26.3)\n",
      "Requirement already satisfied: matplotlib in /Users/jernkun/Library/Caches/pypoetry/virtualenvs/zkstats-OJpceffF-py3.11/lib/python3.11/site-packages (from -r ../../requirements.txt (line 6)) (3.8.2)\n",
      "Requirement already satisfied: statistics in /Users/jernkun/Library/Caches/pypoetry/virtualenvs/zkstats-OJpceffF-py3.11/lib/python3.11/site-packages (from -r ../../requirements.txt (line 7)) (1.0.3.5)\n",
      "Requirement already satisfied: onnx in /Users/jernkun/Library/Caches/pypoetry/virtualenvs/zkstats-OJpceffF-py3.11/lib/python3.11/site-packages (from -r ../../requirements.txt (line 8)) (1.15.0)\n",
      "Requirement already satisfied: filelock in /Users/jernkun/Library/Caches/pypoetry/virtualenvs/zkstats-OJpceffF-py3.11/lib/python3.11/site-packages (from torch->-r ../../requirements.txt (line 2)) (3.13.1)\n",
      "Requirement already satisfied: typing-extensions>=4.8.0 in /Users/jernkun/Library/Caches/pypoetry/virtualenvs/zkstats-OJpceffF-py3.11/lib/python3.11/site-packages (from torch->-r ../../requirements.txt (line 2)) (4.9.0)\n",
      "Requirement already satisfied: sympy in /Users/jernkun/Library/Caches/pypoetry/virtualenvs/zkstats-OJpceffF-py3.11/lib/python3.11/site-packages (from torch->-r ../../requirements.txt (line 2)) (1.12)\n",
      "Requirement already satisfied: networkx in /Users/jernkun/Library/Caches/pypoetry/virtualenvs/zkstats-OJpceffF-py3.11/lib/python3.11/site-packages (from torch->-r ../../requirements.txt (line 2)) (3.2.1)\n",
      "Requirement already satisfied: jinja2 in /Users/jernkun/Library/Caches/pypoetry/virtualenvs/zkstats-OJpceffF-py3.11/lib/python3.11/site-packages (from torch->-r ../../requirements.txt (line 2)) (3.1.3)\n",
      "Requirement already satisfied: fsspec in /Users/jernkun/Library/Caches/pypoetry/virtualenvs/zkstats-OJpceffF-py3.11/lib/python3.11/site-packages (from torch->-r ../../requirements.txt (line 2)) (2023.12.2)\n",
      "Requirement already satisfied: charset-normalizer<4,>=2 in /Users/jernkun/Library/Caches/pypoetry/virtualenvs/zkstats-OJpceffF-py3.11/lib/python3.11/site-packages (from requests->-r ../../requirements.txt (line 3)) (3.3.2)\n",
      "Requirement already satisfied: idna<4,>=2.5 in /Users/jernkun/Library/Caches/pypoetry/virtualenvs/zkstats-OJpceffF-py3.11/lib/python3.11/site-packages (from requests->-r ../../requirements.txt (line 3)) (3.6)\n",
      "Requirement already satisfied: urllib3<3,>=1.21.1 in /Users/jernkun/Library/Caches/pypoetry/virtualenvs/zkstats-OJpceffF-py3.11/lib/python3.11/site-packages (from requests->-r ../../requirements.txt (line 3)) (2.2.0)\n",
      "Requirement already satisfied: certifi>=2017.4.17 in /Users/jernkun/Library/Caches/pypoetry/virtualenvs/zkstats-OJpceffF-py3.11/lib/python3.11/site-packages (from requests->-r ../../requirements.txt (line 3)) (2024.2.2)\n",
      "Requirement already satisfied: contourpy>=1.0.1 in /Users/jernkun/Library/Caches/pypoetry/virtualenvs/zkstats-OJpceffF-py3.11/lib/python3.11/site-packages (from matplotlib->-r ../../requirements.txt (line 6)) (1.2.0)\n",
      "Requirement already satisfied: cycler>=0.10 in /Users/jernkun/Library/Caches/pypoetry/virtualenvs/zkstats-OJpceffF-py3.11/lib/python3.11/site-packages (from matplotlib->-r ../../requirements.txt (line 6)) (0.12.1)\n",
      "Requirement already satisfied: fonttools>=4.22.0 in /Users/jernkun/Library/Caches/pypoetry/virtualenvs/zkstats-OJpceffF-py3.11/lib/python3.11/site-packages (from matplotlib->-r ../../requirements.txt (line 6)) (4.47.2)\n",
      "Requirement already satisfied: kiwisolver>=1.3.1 in /Users/jernkun/Library/Caches/pypoetry/virtualenvs/zkstats-OJpceffF-py3.11/lib/python3.11/site-packages (from matplotlib->-r ../../requirements.txt (line 6)) (1.4.5)\n",
      "Requirement already satisfied: packaging>=20.0 in /Users/jernkun/Library/Caches/pypoetry/virtualenvs/zkstats-OJpceffF-py3.11/lib/python3.11/site-packages (from matplotlib->-r ../../requirements.txt (line 6)) (23.2)\n",
      "Requirement already satisfied: pillow>=8 in /Users/jernkun/Library/Caches/pypoetry/virtualenvs/zkstats-OJpceffF-py3.11/lib/python3.11/site-packages (from matplotlib->-r ../../requirements.txt (line 6)) (10.2.0)\n",
      "Requirement already satisfied: pyparsing>=2.3.1 in /Users/jernkun/Library/Caches/pypoetry/virtualenvs/zkstats-OJpceffF-py3.11/lib/python3.11/site-packages (from matplotlib->-r ../../requirements.txt (line 6)) (3.1.1)\n",
      "Requirement already satisfied: python-dateutil>=2.7 in /Users/jernkun/Library/Caches/pypoetry/virtualenvs/zkstats-OJpceffF-py3.11/lib/python3.11/site-packages (from matplotlib->-r ../../requirements.txt (line 6)) (2.8.2)\n",
      "Requirement already satisfied: docutils>=0.3 in /Users/jernkun/Library/Caches/pypoetry/virtualenvs/zkstats-OJpceffF-py3.11/lib/python3.11/site-packages (from statistics->-r ../../requirements.txt (line 7)) (0.20.1)\n",
      "Requirement already satisfied: protobuf>=3.20.2 in /Users/jernkun/Library/Caches/pypoetry/virtualenvs/zkstats-OJpceffF-py3.11/lib/python3.11/site-packages (from onnx->-r ../../requirements.txt (line 8)) (4.25.2)\n",
      "Requirement already satisfied: six>=1.5 in /Users/jernkun/Library/Caches/pypoetry/virtualenvs/zkstats-OJpceffF-py3.11/lib/python3.11/site-packages (from python-dateutil>=2.7->matplotlib->-r ../../requirements.txt (line 6)) (1.16.0)\n",
      "Requirement already satisfied: MarkupSafe>=2.0 in /Users/jernkun/Library/Caches/pypoetry/virtualenvs/zkstats-OJpceffF-py3.11/lib/python3.11/site-packages (from jinja2->torch->-r ../../requirements.txt (line 2)) (2.1.4)\n",
      "Requirement already satisfied: mpmath>=0.19 in /Users/jernkun/Library/Caches/pypoetry/virtualenvs/zkstats-OJpceffF-py3.11/lib/python3.11/site-packages (from sympy->torch->-r ../../requirements.txt (line 2)) (1.3.0)\n",
      "\n",
      "\u001b[1m[\u001b[0m\u001b[34;49mnotice\u001b[0m\u001b[1;39;49m]\u001b[0m\u001b[39;49m A new release of pip is available: \u001b[0m\u001b[31;49m23.2.1\u001b[0m\u001b[39;49m -> \u001b[0m\u001b[32;49m24.0\u001b[0m\n",
      "\u001b[1m[\u001b[0m\u001b[34;49mnotice\u001b[0m\u001b[1;39;49m]\u001b[0m\u001b[39;49m To update, run: \u001b[0m\u001b[32;49mpip install --upgrade pip\u001b[0m\n",
      "Note: you may need to restart the kernel to use updated packages.\n"
     ]
    }
   ],
   "source": [
    "pip install -r ../../requirements.txt"
   ]
  },
  {
   "cell_type": "code",
   "execution_count": 2,
   "metadata": {},
   "outputs": [],
   "source": [
    "import ezkl\n",
    "import torch\n",
    "from torch import nn\n",
    "import json\n",
    "import os\n",
    "import time\n",
    "import scipy\n",
    "import numpy as np\n",
    "import matplotlib.pyplot as plt\n",
    "import statistics\n",
    "import math"
   ]
  },
  {
   "cell_type": "code",
   "execution_count": 3,
   "metadata": {},
   "outputs": [],
   "source": [
    "from zkstats.core import create_dummy, verifier_define_calculation, prover_gen_settings, setup, prover_gen_proof, verifier_verify, get_data_commitment_maps"
   ]
  },
  {
   "attachments": {},
   "cell_type": "markdown",
   "metadata": {},
   "source": []
  },
  {
   "cell_type": "code",
   "execution_count": 4,
   "metadata": {},
   "outputs": [],
   "source": [
    "# init path\n",
    "os.makedirs(os.path.dirname('shared/'), exist_ok=True)\n",
    "os.makedirs(os.path.dirname('prover/'), exist_ok=True)\n",
    "verifier_model_path = os.path.join('shared/verifier.onnx')\n",
    "prover_model_path = os.path.join('prover/prover.onnx')\n",
    "verifier_compiled_model_path = os.path.join('shared/verifier.compiled')\n",
    "prover_compiled_model_path = os.path.join('prover/prover.compiled')\n",
    "pk_path = os.path.join('shared/test.pk')\n",
    "vk_path = os.path.join('shared/test.vk')\n",
    "proof_path = os.path.join('shared/test.pf')\n",
    "settings_path = os.path.join('shared/settings.json')\n",
    "srs_path = os.path.join('shared/kzg.srs')\n",
    "witness_path = os.path.join('prover/witness.json')\n",
    "# this is private to prover since it contains actual data\n",
    "sel_data_path = os.path.join('prover/sel_data.json')\n",
    "# this is just dummy random value\n",
    "sel_dummy_data_path = os.path.join('shared/sel_dummy_data.json')"
   ]
  },
  {
   "attachments": {},
   "cell_type": "markdown",
   "metadata": {},
   "source": [
    "=======================  ZK-STATS FLOW ======================="
   ]
  },
  {
   "cell_type": "code",
   "execution_count": 5,
   "metadata": {},
   "outputs": [],
   "source": [
    "data_path = os.path.join('data.json')\n",
    "dummy_data_path = os.path.join('shared/dummy_data.json')\n",
    "\n",
    "create_dummy(data_path, dummy_data_path)"
   ]
  },
  {
   "cell_type": "code",
   "execution_count": 6,
   "metadata": {},
   "outputs": [],
   "source": [
    "scales = [8]\n",
    "selected_columns = ['col_name']\n",
    "commitment_maps = get_data_commitment_maps(data_path, scales)"
   ]
  },
  {
   "cell_type": "code",
   "execution_count": 7,
   "metadata": {},
   "outputs": [
    {
     "name": "stderr",
     "output_type": "stream",
     "text": [
      "/Users/jernkun/Desktop/zk-stats-lib/zkstats/computation.py:166: TracerWarning: torch.tensor results are registered as constants in the trace. You can safely ignore this warning if you use this function to create tensors out of constant variables that would be the same every time you call this function. In any other case, this might cause the trace to be incorrect.\n",
      "  is_precise_aggregated = torch.tensor(1.0)\n",
      "/Users/jernkun/Desktop/zk-stats-lib/zkstats/ops.py:100: TracerWarning: torch.tensor results are registered as constants in the trace. You can safely ignore this warning if you use this function to create tensors out of constant variables that would be the same every time you call this function. In any other case, this might cause the trace to be incorrect.\n",
      "  return torch.abs((torch.log(self.result)*size)-torch.sum(torch.log(x)))<=size*torch.log(torch.tensor(1+self.error))\n",
      "/Users/jernkun/Library/Caches/pypoetry/virtualenvs/zkstats-OJpceffF-py3.11/lib/python3.11/site-packages/torch/onnx/symbolic_opset9.py:2174: FutureWarning: 'torch.onnx.symbolic_opset9._cast_Bool' is deprecated in version 2.0 and will be removed in the future. Please Avoid using this function and create a Cast node instead.\n",
      "  return fn(g, to_cast_func(g, input, False), to_cast_func(g, other, False))\n"
     ]
    }
   ],
   "source": [
    "# Verifier/ data consumer side:\n",
    "from zkstats.computation import computation_to_model, State\n",
    "\n",
    "\n",
    "def computation(s: State, data: list[torch.Tensor]) -> torch.Tensor:\n",
    "    x = data[0]\n",
    "    return s.geometric_mean(x)\n",
    "\n",
    "error = 0.01\n",
    "_, verifier_model = computation_to_model(computation, error)\n",
    "\n",
    "verifier_define_calculation(dummy_data_path, selected_columns,sel_dummy_data_path,verifier_model, verifier_model_path)"
   ]
  },
  {
   "cell_type": "code",
   "execution_count": 8,
   "metadata": {},
   "outputs": [
    {
     "name": "stderr",
     "output_type": "stream",
     "text": [
      "\n",
      "\n",
      " <------------- Numerical Fidelity Report (input_scale: 8, param_scale: 8, scale_input_multiplier: 10) ------------->\n",
      "\n",
      "+----------------+---------------+-----------+---------------+----------------+------------------+---------------+---------------+--------------------+--------------------+------------------------+\n",
      "| mean_error     | median_error  | max_error | min_error     | mean_abs_error | median_abs_error | max_abs_error | min_abs_error | mean_squared_error | mean_percent_error | mean_abs_percent_error |\n",
      "+----------------+---------------+-----------+---------------+----------------+------------------+---------------+---------------+--------------------+--------------------+------------------------+\n",
      "| -0.00054359436 | -0.0010871887 | 0         | -0.0010871887 | 0.00054359436  | 0.0010871887     | 0.0010871887  | 0             | 0.00000059098966   | -0.000011396554    | 0.000011396554         |\n",
      "+----------------+---------------+-----------+---------------+----------------+------------------+---------------+---------------+--------------------+--------------------+------------------------+\n",
      "\n",
      "\n"
     ]
    },
    {
     "name": "stdout",
     "output_type": "stream",
     "text": [
      "==== Generate & Calibrate Setting ====\n",
      "scale:  [8]\n",
      "setting:  {\"run_args\":{\"tolerance\":{\"val\":0.0,\"scale\":1.0},\"input_scale\":8,\"param_scale\":8,\"scale_rebase_multiplier\":10,\"lookup_range\":[-1522,45056],\"logrows\":16,\"num_inner_cols\":2,\"variables\":[[\"batch_size\",1]],\"input_visibility\":{\"Hashed\":{\"hash_is_public\":true,\"outlets\":[]}},\"output_visibility\":\"Public\",\"param_visibility\":\"Private\",\"div_rebasing\":false,\"rebase_frac_zero_constants\":false,\"check_mode\":\"UNSAFE\"},\"num_rows\":14432,\"total_assignments\":911,\"total_const_size\":4,\"model_instance_shapes\":[[1],[1]],\"model_output_scales\":[0,8],\"model_input_scales\":[8],\"module_sizes\":{\"kzg\":[],\"poseidon\":[14432,[1]]},\"required_lookups\":[{\"Ln\":{\"scale\":256.0}},\"Abs\",{\"GreaterThan\":{\"a\":0.0}}],\"required_range_checks\":[],\"check_mode\":\"UNSAFE\",\"version\":\"9.1.0\",\"num_blinding_factors\":null,\"timestamp\":1709450475706}\n"
     ]
    }
   ],
   "source": [
    "# prover calculates settings, send to verifier\n",
    "_, prover_model = computation_to_model(computation, error)\n",
    "\n",
    "prover_gen_settings(data_path, selected_columns, sel_data_path, prover_model,prover_model_path, scales, \"resources\", settings_path)"
   ]
  },
  {
   "cell_type": "code",
   "execution_count": 9,
   "metadata": {},
   "outputs": [
    {
     "name": "stdout",
     "output_type": "stream",
     "text": [
      "==== setting up ezkl ====\n",
      "Time setup: 6.470684289932251 seconds\n",
      "=======================================\n",
      "==== Generating Witness ====\n",
      "witness boolean:  1.0\n",
      "witness result 1 : 47.69921875\n",
      "==== Generating Proof ====\n",
      "proof:  {'instances': [['ad297b8184503f0131009e1b94795f879c4560a1c673ff814dc0228dafd72103', '0100000000000000000000000000000000000000000000000000000000000000', 'b32f000000000000000000000000000000000000000000000000000000000000']], 'proof': '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', 'transcript_type': 'EVM'}\n",
      "Time gen prf: 8.045958280563354 seconds\n"
     ]
    }
   ],
   "source": [
    "# Here verifier & prover can concurrently call setup since all params are public to get pk.\n",
    "# Here write as verifier function to emphasize that verifier must calculate its own vk to be sure\n",
    "setup(verifier_model_path, verifier_compiled_model_path, settings_path,vk_path, pk_path )\n",
    "\n",
    "print(\"=======================================\")\n",
    "# Prover generates proof\n",
    "prover_gen_proof(prover_model_path, sel_data_path, witness_path, prover_compiled_model_path, settings_path, proof_path, pk_path)"
   ]
  },
  {
   "cell_type": "code",
   "execution_count": 11,
   "metadata": {},
   "outputs": [
    {
     "name": "stdout",
     "output_type": "stream",
     "text": [
      "Verifier gets result: [47.69921875]\n"
     ]
    }
   ],
   "source": [
    "# Verifier verifies\n",
    "res = verifier_verify(proof_path, settings_path, vk_path, selected_columns, commitment_maps)\n",
    "print(\"Verifier gets result:\", res)"
   ]
  },
  {
   "cell_type": "code",
   "execution_count": null,
   "metadata": {},
   "outputs": [],
   "source": []
  }
 ],
 "metadata": {
  "kernelspec": {
   "display_name": "Python 3",
   "language": "python",
   "name": "python3"
  },
  "language_info": {
   "codemirror_mode": {
    "name": "ipython",
    "version": 3
   },
   "file_extension": ".py",
   "mimetype": "text/x-python",
   "name": "python",
   "nbconvert_exporter": "python",
   "pygments_lexer": "ipython3",
   "version": "3.11.4"
  },
  "orig_nbformat": 4
 },
 "nbformat": 4,
 "nbformat_minor": 2
}
