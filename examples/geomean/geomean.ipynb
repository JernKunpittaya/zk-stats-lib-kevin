{
 "cells": [
  {
   "cell_type": "code",
   "execution_count": 1,
   "metadata": {},
   "outputs": [
    {
     "name": "stdout",
     "output_type": "stream",
     "text": [
      "Requirement already satisfied: ezkl==5.0.8 in /Library/Frameworks/Python.framework/Versions/3.10/lib/python3.10/site-packages (from -r ../../requirements.txt (line 1)) (5.0.8)\n",
      "Requirement already satisfied: torch in /Library/Frameworks/Python.framework/Versions/3.10/lib/python3.10/site-packages (from -r ../../requirements.txt (line 2)) (2.1.1)\n",
      "Requirement already satisfied: requests in /Library/Frameworks/Python.framework/Versions/3.10/lib/python3.10/site-packages (from -r ../../requirements.txt (line 3)) (2.31.0)\n",
      "Requirement already satisfied: scipy in /Library/Frameworks/Python.framework/Versions/3.10/lib/python3.10/site-packages (from -r ../../requirements.txt (line 4)) (1.11.4)\n",
      "Requirement already satisfied: numpy in /Library/Frameworks/Python.framework/Versions/3.10/lib/python3.10/site-packages (from -r ../../requirements.txt (line 5)) (1.26.2)\n",
      "Requirement already satisfied: matplotlib in /Library/Frameworks/Python.framework/Versions/3.10/lib/python3.10/site-packages (from -r ../../requirements.txt (line 6)) (3.8.2)\n",
      "Requirement already satisfied: statistics in /Library/Frameworks/Python.framework/Versions/3.10/lib/python3.10/site-packages (from -r ../../requirements.txt (line 7)) (1.0.3.5)\n",
      "Requirement already satisfied: onnx in /Library/Frameworks/Python.framework/Versions/3.10/lib/python3.10/site-packages (from -r ../../requirements.txt (line 8)) (1.15.0)\n",
      "Requirement already satisfied: filelock in /Library/Frameworks/Python.framework/Versions/3.10/lib/python3.10/site-packages (from torch->-r ../../requirements.txt (line 2)) (3.13.1)\n",
      "Requirement already satisfied: networkx in /Library/Frameworks/Python.framework/Versions/3.10/lib/python3.10/site-packages (from torch->-r ../../requirements.txt (line 2)) (3.2.1)\n",
      "Requirement already satisfied: fsspec in /Library/Frameworks/Python.framework/Versions/3.10/lib/python3.10/site-packages (from torch->-r ../../requirements.txt (line 2)) (2023.10.0)\n",
      "Requirement already satisfied: sympy in /Library/Frameworks/Python.framework/Versions/3.10/lib/python3.10/site-packages (from torch->-r ../../requirements.txt (line 2)) (1.12)\n",
      "Requirement already satisfied: typing-extensions in /Library/Frameworks/Python.framework/Versions/3.10/lib/python3.10/site-packages (from torch->-r ../../requirements.txt (line 2)) (4.8.0)\n",
      "Requirement already satisfied: jinja2 in /Library/Frameworks/Python.framework/Versions/3.10/lib/python3.10/site-packages (from torch->-r ../../requirements.txt (line 2)) (3.1.2)\n",
      "Requirement already satisfied: urllib3<3,>=1.21.1 in /Library/Frameworks/Python.framework/Versions/3.10/lib/python3.10/site-packages (from requests->-r ../../requirements.txt (line 3)) (2.1.0)\n",
      "Requirement already satisfied: certifi>=2017.4.17 in /Library/Frameworks/Python.framework/Versions/3.10/lib/python3.10/site-packages (from requests->-r ../../requirements.txt (line 3)) (2023.11.17)\n",
      "Requirement already satisfied: charset-normalizer<4,>=2 in /Library/Frameworks/Python.framework/Versions/3.10/lib/python3.10/site-packages (from requests->-r ../../requirements.txt (line 3)) (3.3.2)\n",
      "Requirement already satisfied: idna<4,>=2.5 in /Library/Frameworks/Python.framework/Versions/3.10/lib/python3.10/site-packages (from requests->-r ../../requirements.txt (line 3)) (3.6)\n",
      "Requirement already satisfied: cycler>=0.10 in /Library/Frameworks/Python.framework/Versions/3.10/lib/python3.10/site-packages (from matplotlib->-r ../../requirements.txt (line 6)) (0.12.1)\n",
      "Requirement already satisfied: kiwisolver>=1.3.1 in /Library/Frameworks/Python.framework/Versions/3.10/lib/python3.10/site-packages (from matplotlib->-r ../../requirements.txt (line 6)) (1.4.5)\n",
      "Requirement already satisfied: fonttools>=4.22.0 in /Library/Frameworks/Python.framework/Versions/3.10/lib/python3.10/site-packages (from matplotlib->-r ../../requirements.txt (line 6)) (4.45.1)\n",
      "Requirement already satisfied: packaging>=20.0 in /Users/jernkun/Library/Python/3.10/lib/python/site-packages (from matplotlib->-r ../../requirements.txt (line 6)) (23.2)\n",
      "Requirement already satisfied: python-dateutil>=2.7 in /Users/jernkun/Library/Python/3.10/lib/python/site-packages (from matplotlib->-r ../../requirements.txt (line 6)) (2.8.2)\n",
      "Requirement already satisfied: contourpy>=1.0.1 in /Library/Frameworks/Python.framework/Versions/3.10/lib/python3.10/site-packages (from matplotlib->-r ../../requirements.txt (line 6)) (1.2.0)\n",
      "Requirement already satisfied: pillow>=8 in /Library/Frameworks/Python.framework/Versions/3.10/lib/python3.10/site-packages (from matplotlib->-r ../../requirements.txt (line 6)) (10.1.0)\n",
      "Requirement already satisfied: pyparsing>=2.3.1 in /Library/Frameworks/Python.framework/Versions/3.10/lib/python3.10/site-packages (from matplotlib->-r ../../requirements.txt (line 6)) (3.1.1)\n",
      "Requirement already satisfied: docutils>=0.3 in /Library/Frameworks/Python.framework/Versions/3.10/lib/python3.10/site-packages (from statistics->-r ../../requirements.txt (line 7)) (0.20.1)\n",
      "Requirement already satisfied: protobuf>=3.20.2 in /Library/Frameworks/Python.framework/Versions/3.10/lib/python3.10/site-packages (from onnx->-r ../../requirements.txt (line 8)) (4.25.1)\n",
      "Requirement already satisfied: six>=1.5 in /Users/jernkun/Library/Python/3.10/lib/python/site-packages (from python-dateutil>=2.7->matplotlib->-r ../../requirements.txt (line 6)) (1.16.0)\n",
      "Requirement already satisfied: MarkupSafe>=2.0 in /Library/Frameworks/Python.framework/Versions/3.10/lib/python3.10/site-packages (from jinja2->torch->-r ../../requirements.txt (line 2)) (2.1.3)\n",
      "Requirement already satisfied: mpmath>=0.19 in /Library/Frameworks/Python.framework/Versions/3.10/lib/python3.10/site-packages (from sympy->torch->-r ../../requirements.txt (line 2)) (1.3.0)\n",
      "\u001b[33mWARNING: You are using pip version 21.2.3; however, version 23.3.1 is available.\n",
      "You should consider upgrading via the '/usr/local/bin/python3 -m pip install --upgrade pip' command.\u001b[0m\n",
      "Note: you may need to restart the kernel to use updated packages.\n"
     ]
    }
   ],
   "source": [
    "pip install -r ../../requirements.txt"
   ]
  },
  {
   "cell_type": "code",
   "execution_count": 1,
   "metadata": {},
   "outputs": [],
   "source": [
    "import ezkl\n",
    "import torch\n",
    "from torch import nn\n",
    "import json\n",
    "import os\n",
    "import time\n",
    "import scipy\n",
    "import numpy as np\n",
    "import matplotlib.pyplot as plt\n",
    "import statistics\n",
    "import math"
   ]
  },
  {
   "cell_type": "code",
   "execution_count": 2,
   "metadata": {},
   "outputs": [],
   "source": [
    "%run -i ../../core.py"
   ]
  },
  {
   "attachments": {},
   "cell_type": "markdown",
   "metadata": {},
   "source": []
  },
  {
   "cell_type": "code",
   "execution_count": 3,
   "metadata": {},
   "outputs": [],
   "source": [
    "# init path\n",
    "os.makedirs(os.path.dirname('shared/'), exist_ok=True)\n",
    "os.makedirs(os.path.dirname('prover/'), exist_ok=True)\n",
    "verifier_model_path = os.path.join('shared/verifier.onnx')\n",
    "prover_model_path = os.path.join('prover/prover.onnx')\n",
    "verifier_compiled_model_path = os.path.join('shared/verifier.compiled')\n",
    "prover_compiled_model_path = os.path.join('prover/prover.compiled')\n",
    "pk_path = os.path.join('shared/test.pk')\n",
    "vk_path = os.path.join('shared/test.vk')\n",
    "proof_path = os.path.join('shared/test.pf')\n",
    "settings_path = os.path.join('shared/settings.json')\n",
    "srs_path = os.path.join('shared/kzg.srs')\n",
    "witness_path = os.path.join('prover/witness.json')\n",
    "# this is private to prover since it contains actual data\n",
    "comb_data_path = os.path.join('prover/comb_data.json')"
   ]
  },
  {
   "attachments": {},
   "cell_type": "markdown",
   "metadata": {},
   "source": [
    "=======================  ZK-STATS FLOW ======================="
   ]
  },
  {
   "cell_type": "code",
   "execution_count": 4,
   "metadata": {},
   "outputs": [],
   "source": [
    "data_path = os.path.join('data.json')\n",
    "dummy_data_path = os.path.join('shared/dummy_data.json')\n",
    "\n",
    "f_raw_input = open(data_path, \"r\")\n",
    "data = json.loads(f_raw_input.read())[\"input_data\"][0]\n",
    "data_tensor = torch.reshape(torch.tensor(data),(1, len(data), 1))\n",
    "\n",
    "#  dummy data for data consumer: make the bound approx same as real data\n",
    "dummy_data = np.random.uniform(min(data), max(data), len(data))\n",
    "json.dump({\"input_data\":[dummy_data.tolist()]}, open(dummy_data_path, 'w'))\n",
    "\n",
    "dummy_data_tensor = torch.reshape(torch.tensor(dummy_data), (1, len(dummy_data),1 ))\n",
    "dummy_theory_output = torch.exp(torch.mean(torch.log(dummy_data_tensor)))\n",
    "\n"
   ]
  },
  {
   "cell_type": "code",
   "execution_count": 5,
   "metadata": {},
   "outputs": [
    {
     "name": "stderr",
     "output_type": "stream",
     "text": [
      "/var/folders/89/y9dw12v976ngdmqz4l7wbsnr0000gn/T/ipykernel_33364/2634772801.py:10: TracerWarning: torch.tensor results are registered as constants in the trace. You can safely ignore this warning if you use this function to create tensors out of constant variables that would be the same every time you call this function. In any other case, this might cause the trace to be incorrect.\n",
      "  return (torch.abs((torch.log(self.w)*X.size()[1])-torch.sum(torch.log(X)))<torch.log(torch.tensor(1.01)), self.w)\n"
     ]
    }
   ],
   "source": [
    "# Verifier/ data consumer side:\n",
    "class verifier_model(nn.Module):\n",
    "    def __init__(self):\n",
    "        super(verifier_model, self).__init__()\n",
    "        # w represents mean in this case\n",
    "        self.w = nn.Parameter(data = dummy_theory_output, requires_grad = False)\n",
    "\n",
    "    def forward(self,X):\n",
    "        # some expression of tolerance to error in the inference\n",
    "        return (torch.abs((torch.log(self.w)*X.size()[1])-torch.sum(torch.log(X)))<torch.log(torch.tensor(1.01)), self.w)\n",
    "\n",
    "verifier_define_calculation(verifier_model, verifier_model_path, [dummy_data_path])"
   ]
  },
  {
   "cell_type": "code",
   "execution_count": 6,
   "metadata": {},
   "outputs": [
    {
     "name": "stdout",
     "output_type": "stream",
     "text": [
      "Theory output:  tensor(47.6981)\n",
      "==== Generate & Calibrate Setting ====\n",
      "scale:  [10]\n",
      "setting:  {\"run_args\":{\"tolerance\":{\"val\":0.0,\"scale\":1.0},\"input_scale\":10,\"param_scale\":10,\"scale_rebase_multiplier\":10,\"lookup_range\":[-16,180224],\"logrows\":18,\"num_inner_cols\":1,\"variables\":[[\"batch_size\",1]],\"input_visibility\":{\"Hashed\":{\"hash_is_public\":true,\"outlets\":[]}},\"output_visibility\":\"Public\",\"param_visibility\":\"Private\"},\"num_rows\":14432,\"total_assignments\":906,\"total_const_size\":0,\"model_instance_shapes\":[[1],[1]],\"model_output_scales\":[0,10],\"model_input_scales\":[10],\"module_sizes\":{\"kzg\":[],\"poseidon\":[14432,[1]],\"elgamal\":[0,[0]]},\"required_lookups\":[\"Abs\",{\"Ln\":{\"scale\":1024.0}},{\"GreaterThan\":{\"a\":0.0}}],\"check_mode\":\"UNSAFE\",\"version\":\"5.0.8\",\"num_blinding_factors\":null}\n"
     ]
    },
    {
     "name": "stderr",
     "output_type": "stream",
     "text": [
      "/var/folders/89/y9dw12v976ngdmqz4l7wbsnr0000gn/T/ipykernel_33364/788883855.py:12: TracerWarning: torch.tensor results are registered as constants in the trace. You can safely ignore this warning if you use this function to create tensors out of constant variables that would be the same every time you call this function. In any other case, this might cause the trace to be incorrect.\n",
      "  return (torch.abs((torch.log(self.w)*X.size()[1])-torch.sum(torch.log(X)))<torch.log(torch.tensor(1.01)), self.w)\n"
     ]
    }
   ],
   "source": [
    "# prover calculates settings, send to verifier\n",
    "theory_output = torch.exp(torch.mean(torch.log(data_tensor)))\n",
    "print(\"Theory output: \", theory_output)\n",
    "class prover_model(nn.Module):\n",
    "    def __init__(self):\n",
    "        super(prover_model, self).__init__()\n",
    "        # w represents mean in this case\n",
    "        self.w = nn.Parameter(data = theory_output, requires_grad = False)\n",
    "\n",
    "    def forward(self,X):\n",
    "        # some expression of tolerance to error in the inference\n",
    "        return (torch.abs((torch.log(self.w)*X.size()[1])-torch.sum(torch.log(X)))<torch.log(torch.tensor(1.01)), self.w)\n",
    "\n",
    "\n",
    "prover_gen_settings([data_path], comb_data_path, prover_model,prover_model_path, [10], \"resources\", settings_path)"
   ]
  },
  {
   "cell_type": "code",
   "execution_count": 7,
   "metadata": {},
   "outputs": [
    {
     "name": "stderr",
     "output_type": "stream",
     "text": [
      "spawning module 0\n",
      "spawning module 2\n"
     ]
    },
    {
     "name": "stdout",
     "output_type": "stream",
     "text": [
      "==== setting up ezkl ====\n"
     ]
    },
    {
     "name": "stderr",
     "output_type": "stream",
     "text": [
      "spawning module 0\n",
      "spawning module 2\n"
     ]
    },
    {
     "name": "stdout",
     "output_type": "stream",
     "text": [
      "Time setup: 19.89814805984497 seconds\n",
      "=======================================\n",
      "Theory output:  tensor(47.6981)\n",
      "==== Generating Witness ====\n",
      "witness boolean:  1.0\n",
      "witness result 1 : 47.6982421875\n",
      "==== Generating Proof ====\n"
     ]
    },
    {
     "name": "stderr",
     "output_type": "stream",
     "text": [
      "spawning module 0\n",
      "spawning module 2\n"
     ]
    },
    {
     "name": "stdout",
     "output_type": "stream",
     "text": [
      "proof:  {'instances': [[[14672592657000597156, 2402501382455789823, 5345685197495592745, 3011024057811024003], [12436184717236109307, 3962172157175319849, 7381016538464732718, 1011752739694698287], [12156132031024860846, 9861177863383639274, 10629998272028772020, 2786626043251147566]]], 'proof': '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', 'transcript_type': 'EVM'}\n",
      "Time gen prf: 24.32754397392273 seconds\n"
     ]
    }
   ],
   "source": [
    "# Here verifier & prover can concurrently call setup since all params are public to get pk. \n",
    "# Here write as verifier function to emphasize that verifier must calculate its own vk to be sure\n",
    "verifier_setup(verifier_model_path, verifier_compiled_model_path, settings_path, srs_path,vk_path, pk_path )\n",
    "\n",
    "print(\"=======================================\")\n",
    "# Prover generates proof\n",
    "print(\"Theory output: \", theory_output)\n",
    "prover_gen_proof(prover_model_path, comb_data_path, witness_path, prover_compiled_model_path, settings_path, proof_path, pk_path, srs_path)"
   ]
  },
  {
   "cell_type": "code",
   "execution_count": 8,
   "metadata": {},
   "outputs": [
    {
     "name": "stdout",
     "output_type": "stream",
     "text": [
      "num_inputs:  1\n",
      "prf instances:  [[[14672592657000597156, 2402501382455789823, 5345685197495592745, 3011024057811024003], [12436184717236109307, 3962172157175319849, 7381016538464732718, 1011752739694698287], [12156132031024860846, 9861177863383639274, 10629998272028772020, 2786626043251147566]]]\n",
      "proof boolean:  1.0\n",
      "proof result 1 : 47.6982421875\n",
      "verified\n"
     ]
    }
   ],
   "source": [
    "# Verifier verifies\n",
    "verifier_verify(proof_path, settings_path, vk_path, srs_path)"
   ]
  },
  {
   "cell_type": "code",
   "execution_count": null,
   "metadata": {},
   "outputs": [],
   "source": []
  },
  {
   "cell_type": "code",
   "execution_count": null,
   "metadata": {},
   "outputs": [],
   "source": []
  }
 ],
 "metadata": {
  "kernelspec": {
   "display_name": "Python 3",
   "language": "python",
   "name": "python3"
  },
  "language_info": {
   "codemirror_mode": {
    "name": "ipython",
    "version": 3
   },
   "file_extension": ".py",
   "mimetype": "text/x-python",
   "name": "python",
   "nbconvert_exporter": "python",
   "pygments_lexer": "ipython3",
   "version": "3.10.0"
  },
  "orig_nbformat": 4
 },
 "nbformat": 4,
 "nbformat_minor": 2
}
