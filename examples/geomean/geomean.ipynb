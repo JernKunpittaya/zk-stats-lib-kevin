{
 "cells": [
  {
   "cell_type": "code",
   "execution_count": 1,
   "metadata": {},
   "outputs": [
    {
     "name": "stdout",
     "output_type": "stream",
     "text": [
      "Requirement already satisfied: ezkl==5.0.8 in /Library/Frameworks/Python.framework/Versions/3.10/lib/python3.10/site-packages (from -r ../../requirements.txt (line 1)) (5.0.8)\n",
      "Requirement already satisfied: torch in /Library/Frameworks/Python.framework/Versions/3.10/lib/python3.10/site-packages (from -r ../../requirements.txt (line 2)) (2.1.1)\n",
      "Requirement already satisfied: requests in /Library/Frameworks/Python.framework/Versions/3.10/lib/python3.10/site-packages (from -r ../../requirements.txt (line 3)) (2.31.0)\n",
      "Requirement already satisfied: scipy in /Library/Frameworks/Python.framework/Versions/3.10/lib/python3.10/site-packages (from -r ../../requirements.txt (line 4)) (1.11.4)\n",
      "Requirement already satisfied: numpy in /Library/Frameworks/Python.framework/Versions/3.10/lib/python3.10/site-packages (from -r ../../requirements.txt (line 5)) (1.26.2)\n",
      "Requirement already satisfied: matplotlib in /Library/Frameworks/Python.framework/Versions/3.10/lib/python3.10/site-packages (from -r ../../requirements.txt (line 6)) (3.8.2)\n",
      "Requirement already satisfied: statistics in /Library/Frameworks/Python.framework/Versions/3.10/lib/python3.10/site-packages (from -r ../../requirements.txt (line 7)) (1.0.3.5)\n",
      "Requirement already satisfied: onnx in /Library/Frameworks/Python.framework/Versions/3.10/lib/python3.10/site-packages (from -r ../../requirements.txt (line 8)) (1.15.0)\n",
      "Requirement already satisfied: filelock in /Library/Frameworks/Python.framework/Versions/3.10/lib/python3.10/site-packages (from torch->-r ../../requirements.txt (line 2)) (3.13.1)\n",
      "Requirement already satisfied: networkx in /Library/Frameworks/Python.framework/Versions/3.10/lib/python3.10/site-packages (from torch->-r ../../requirements.txt (line 2)) (3.2.1)\n",
      "Requirement already satisfied: fsspec in /Library/Frameworks/Python.framework/Versions/3.10/lib/python3.10/site-packages (from torch->-r ../../requirements.txt (line 2)) (2023.10.0)\n",
      "Requirement already satisfied: sympy in /Library/Frameworks/Python.framework/Versions/3.10/lib/python3.10/site-packages (from torch->-r ../../requirements.txt (line 2)) (1.12)\n",
      "Requirement already satisfied: typing-extensions in /Library/Frameworks/Python.framework/Versions/3.10/lib/python3.10/site-packages (from torch->-r ../../requirements.txt (line 2)) (4.8.0)\n",
      "Requirement already satisfied: jinja2 in /Library/Frameworks/Python.framework/Versions/3.10/lib/python3.10/site-packages (from torch->-r ../../requirements.txt (line 2)) (3.1.2)\n",
      "Requirement already satisfied: urllib3<3,>=1.21.1 in /Library/Frameworks/Python.framework/Versions/3.10/lib/python3.10/site-packages (from requests->-r ../../requirements.txt (line 3)) (2.1.0)\n",
      "Requirement already satisfied: certifi>=2017.4.17 in /Library/Frameworks/Python.framework/Versions/3.10/lib/python3.10/site-packages (from requests->-r ../../requirements.txt (line 3)) (2023.11.17)\n",
      "Requirement already satisfied: charset-normalizer<4,>=2 in /Library/Frameworks/Python.framework/Versions/3.10/lib/python3.10/site-packages (from requests->-r ../../requirements.txt (line 3)) (3.3.2)\n",
      "Requirement already satisfied: idna<4,>=2.5 in /Library/Frameworks/Python.framework/Versions/3.10/lib/python3.10/site-packages (from requests->-r ../../requirements.txt (line 3)) (3.6)\n",
      "Requirement already satisfied: cycler>=0.10 in /Library/Frameworks/Python.framework/Versions/3.10/lib/python3.10/site-packages (from matplotlib->-r ../../requirements.txt (line 6)) (0.12.1)\n",
      "Requirement already satisfied: kiwisolver>=1.3.1 in /Library/Frameworks/Python.framework/Versions/3.10/lib/python3.10/site-packages (from matplotlib->-r ../../requirements.txt (line 6)) (1.4.5)\n",
      "Requirement already satisfied: fonttools>=4.22.0 in /Library/Frameworks/Python.framework/Versions/3.10/lib/python3.10/site-packages (from matplotlib->-r ../../requirements.txt (line 6)) (4.45.1)\n",
      "Requirement already satisfied: packaging>=20.0 in /Users/jernkun/Library/Python/3.10/lib/python/site-packages (from matplotlib->-r ../../requirements.txt (line 6)) (23.2)\n",
      "Requirement already satisfied: python-dateutil>=2.7 in /Users/jernkun/Library/Python/3.10/lib/python/site-packages (from matplotlib->-r ../../requirements.txt (line 6)) (2.8.2)\n",
      "Requirement already satisfied: contourpy>=1.0.1 in /Library/Frameworks/Python.framework/Versions/3.10/lib/python3.10/site-packages (from matplotlib->-r ../../requirements.txt (line 6)) (1.2.0)\n",
      "Requirement already satisfied: pillow>=8 in /Library/Frameworks/Python.framework/Versions/3.10/lib/python3.10/site-packages (from matplotlib->-r ../../requirements.txt (line 6)) (10.1.0)\n",
      "Requirement already satisfied: pyparsing>=2.3.1 in /Library/Frameworks/Python.framework/Versions/3.10/lib/python3.10/site-packages (from matplotlib->-r ../../requirements.txt (line 6)) (3.1.1)\n",
      "Requirement already satisfied: docutils>=0.3 in /Library/Frameworks/Python.framework/Versions/3.10/lib/python3.10/site-packages (from statistics->-r ../../requirements.txt (line 7)) (0.20.1)\n",
      "Requirement already satisfied: protobuf>=3.20.2 in /Library/Frameworks/Python.framework/Versions/3.10/lib/python3.10/site-packages (from onnx->-r ../../requirements.txt (line 8)) (4.25.1)\n",
      "Requirement already satisfied: six>=1.5 in /Users/jernkun/Library/Python/3.10/lib/python/site-packages (from python-dateutil>=2.7->matplotlib->-r ../../requirements.txt (line 6)) (1.16.0)\n",
      "Requirement already satisfied: MarkupSafe>=2.0 in /Library/Frameworks/Python.framework/Versions/3.10/lib/python3.10/site-packages (from jinja2->torch->-r ../../requirements.txt (line 2)) (2.1.3)\n",
      "Requirement already satisfied: mpmath>=0.19 in /Library/Frameworks/Python.framework/Versions/3.10/lib/python3.10/site-packages (from sympy->torch->-r ../../requirements.txt (line 2)) (1.3.0)\n",
      "\u001b[33mWARNING: You are using pip version 21.2.3; however, version 23.3.1 is available.\n",
      "You should consider upgrading via the '/usr/local/bin/python3 -m pip install --upgrade pip' command.\u001b[0m\n",
      "Note: you may need to restart the kernel to use updated packages.\n"
     ]
    }
   ],
   "source": [
    "pip install -r ../../requirements.txt"
   ]
  },
  {
   "cell_type": "code",
   "execution_count": 9,
   "metadata": {},
   "outputs": [],
   "source": [
    "import ezkl\n",
    "import torch\n",
    "from torch import nn\n",
    "import json\n",
    "import os\n",
    "import time\n",
    "import scipy\n",
    "import numpy as np\n",
    "import matplotlib.pyplot as plt\n",
    "import statistics\n",
    "import math"
   ]
  },
  {
   "cell_type": "code",
   "execution_count": 10,
   "metadata": {},
   "outputs": [],
   "source": [
    "%run -i ../../core.py"
   ]
  },
  {
   "attachments": {},
   "cell_type": "markdown",
   "metadata": {},
   "source": []
  },
  {
   "cell_type": "code",
   "execution_count": 11,
   "metadata": {},
   "outputs": [],
   "source": [
    "# init path\n",
    "os.makedirs(os.path.dirname('shared/'), exist_ok=True)\n",
    "os.makedirs(os.path.dirname('prover/'), exist_ok=True)\n",
    "verifier_model_path = os.path.join('shared/verifier.onnx')\n",
    "prover_model_path = os.path.join('prover/prover.onnx')\n",
    "verifier_compiled_model_path = os.path.join('shared/verifier.compiled')\n",
    "prover_compiled_model_path = os.path.join('prover/prover.compiled')\n",
    "pk_path = os.path.join('shared/test.pk')\n",
    "vk_path = os.path.join('shared/test.vk')\n",
    "proof_path = os.path.join('shared/test.pf')\n",
    "settings_path = os.path.join('shared/settings.json')\n",
    "srs_path = os.path.join('shared/kzg.srs')\n",
    "witness_path = os.path.join('prover/witness.json')\n",
    "# this is private to prover since it contains actual data\n",
    "comb_data_path = os.path.join('prover/comb_data.json')"
   ]
  },
  {
   "attachments": {},
   "cell_type": "markdown",
   "metadata": {},
   "source": [
    "=======================  ZK-STATS FLOW ======================="
   ]
  },
  {
   "cell_type": "code",
   "execution_count": 12,
   "metadata": {},
   "outputs": [],
   "source": [
    "data_path = os.path.join('data.json')\n",
    "dummy_data_path = os.path.join('shared/dummy_data.json')\n",
    "\n",
    "f_raw_input = open(data_path, \"r\")\n",
    "data = json.loads(f_raw_input.read())[\"input_data\"][0]\n",
    "data_tensor = torch.reshape(torch.tensor(data),(1, len(data), 1))\n",
    "\n",
    "#  dummy data for data consumer: make the bound approx same as real data\n",
    "dummy_data = np.random.uniform(min(data), max(data), len(data))\n",
    "json.dump({\"input_data\":[dummy_data.tolist()]}, open(dummy_data_path, 'w'))\n",
    "\n",
    "dummy_data_tensor = torch.reshape(torch.tensor(dummy_data), (1, len(dummy_data),1 ))\n",
    "dummy_theory_output = torch.exp(torch.mean(torch.log(dummy_data_tensor)))\n",
    "\n"
   ]
  },
  {
   "cell_type": "code",
   "execution_count": 13,
   "metadata": {},
   "outputs": [
    {
     "name": "stderr",
     "output_type": "stream",
     "text": [
      "/var/folders/89/y9dw12v976ngdmqz4l7wbsnr0000gn/T/ipykernel_33364/1725484839.py:10: TracerWarning: torch.tensor results are registered as constants in the trace. You can safely ignore this warning if you use this function to create tensors out of constant variables that would be the same every time you call this function. In any other case, this might cause the trace to be incorrect.\n",
      "  return (torch.abs((torch.log(self.w)*X.size()[1])-torch.sum(torch.log(X)))<=torch.log(torch.tensor(1.01)), self.w)\n"
     ]
    }
   ],
   "source": [
    "# Verifier/ data consumer side:\n",
    "class verifier_model(nn.Module):\n",
    "    def __init__(self):\n",
    "        super(verifier_model, self).__init__()\n",
    "        self.w = nn.Parameter(data = dummy_theory_output, requires_grad = False)\n",
    "\n",
    "    def forward(self,X):\n",
    "        return (torch.abs((torch.log(self.w)*X.size()[1])-torch.sum(torch.log(X)))<=torch.log(torch.tensor(1.01)), self.w)\n",
    "\n",
    "verifier_define_calculation(verifier_model, verifier_model_path, [dummy_data_path])"
   ]
  },
  {
   "cell_type": "code",
   "execution_count": 14,
   "metadata": {},
   "outputs": [
    {
     "name": "stdout",
     "output_type": "stream",
     "text": [
      "Theory output:  tensor(47.6981)\n",
      "==== Generate & Calibrate Setting ====\n",
      "scale:  [10]\n",
      "setting:  {\"run_args\":{\"tolerance\":{\"val\":0.0,\"scale\":1.0},\"input_scale\":10,\"param_scale\":10,\"scale_rebase_multiplier\":10,\"lookup_range\":[-16,180224],\"logrows\":18,\"num_inner_cols\":1,\"variables\":[[\"batch_size\",1]],\"input_visibility\":{\"Hashed\":{\"hash_is_public\":true,\"outlets\":[]}},\"output_visibility\":\"Public\",\"param_visibility\":\"Private\"},\"num_rows\":14432,\"total_assignments\":910,\"total_const_size\":4,\"model_instance_shapes\":[[1],[1]],\"model_output_scales\":[0,10],\"model_input_scales\":[10],\"module_sizes\":{\"kzg\":[],\"poseidon\":[14432,[1]],\"elgamal\":[0,[0]]},\"required_lookups\":[\"Abs\",{\"Ln\":{\"scale\":1024.0}},{\"GreaterThan\":{\"a\":0.0}}],\"check_mode\":\"UNSAFE\",\"version\":\"5.0.8\",\"num_blinding_factors\":null}\n"
     ]
    },
    {
     "name": "stderr",
     "output_type": "stream",
     "text": [
      "/var/folders/89/y9dw12v976ngdmqz4l7wbsnr0000gn/T/ipykernel_33364/1964047673.py:12: TracerWarning: torch.tensor results are registered as constants in the trace. You can safely ignore this warning if you use this function to create tensors out of constant variables that would be the same every time you call this function. In any other case, this might cause the trace to be incorrect.\n",
      "  return (torch.abs((torch.log(self.w)*X.size()[1])-torch.sum(torch.log(X)))<=torch.log(torch.tensor(1.01)), self.w)\n"
     ]
    }
   ],
   "source": [
    "# prover calculates settings, send to verifier\n",
    "theory_output = torch.exp(torch.mean(torch.log(data_tensor)))\n",
    "print(\"Theory output: \", theory_output)\n",
    "class prover_model(nn.Module):\n",
    "    def __init__(self):\n",
    "        super(prover_model, self).__init__()\n",
    "        # w represents mean in this case\n",
    "        self.w = nn.Parameter(data = theory_output, requires_grad = False)\n",
    "\n",
    "    def forward(self,X):\n",
    "        return (torch.abs((torch.log(self.w)*X.size()[1])-torch.sum(torch.log(X)))<=torch.log(torch.tensor(1.01)), self.w)\n",
    "\n",
    "\n",
    "prover_gen_settings([data_path], comb_data_path, prover_model,prover_model_path, [10], \"resources\", settings_path)"
   ]
  },
  {
   "cell_type": "code",
   "execution_count": 15,
   "metadata": {},
   "outputs": [
    {
     "name": "stdout",
     "output_type": "stream",
     "text": [
      "==== setting up ezkl ====\n"
     ]
    },
    {
     "name": "stderr",
     "output_type": "stream",
     "text": [
      "spawning module 0\n",
      "spawning module 2\n",
      "spawning module 0\n",
      "spawning module 2\n"
     ]
    },
    {
     "name": "stdout",
     "output_type": "stream",
     "text": [
      "Time setup: 20.89489984512329 seconds\n",
      "=======================================\n",
      "Theory output:  tensor(47.6981)\n",
      "==== Generating Witness ====\n",
      "witness boolean:  1.0\n",
      "witness result 1 : 47.6982421875\n",
      "==== Generating Proof ====\n"
     ]
    },
    {
     "name": "stderr",
     "output_type": "stream",
     "text": [
      "spawning module 0\n",
      "spawning module 2\n"
     ]
    },
    {
     "name": "stdout",
     "output_type": "stream",
     "text": [
      "proof:  {'instances': [[[14672592657000597156, 2402501382455789823, 5345685197495592745, 3011024057811024003], [12436184717236109307, 3962172157175319849, 7381016538464732718, 1011752739694698287], [12156132031024860846, 9861177863383639274, 10629998272028772020, 2786626043251147566]]], 'proof': '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', 'transcript_type': 'EVM'}\n",
      "Time gen prf: 24.897894144058228 seconds\n"
     ]
    }
   ],
   "source": [
    "# Here verifier & prover can concurrently call setup since all params are public to get pk. \n",
    "# Here write as verifier function to emphasize that verifier must calculate its own vk to be sure\n",
    "verifier_setup(verifier_model_path, verifier_compiled_model_path, settings_path, srs_path,vk_path, pk_path )\n",
    "\n",
    "print(\"=======================================\")\n",
    "# Prover generates proof\n",
    "print(\"Theory output: \", theory_output)\n",
    "prover_gen_proof(prover_model_path, comb_data_path, witness_path, prover_compiled_model_path, settings_path, proof_path, pk_path, srs_path)"
   ]
  },
  {
   "cell_type": "code",
   "execution_count": 16,
   "metadata": {},
   "outputs": [
    {
     "name": "stdout",
     "output_type": "stream",
     "text": [
      "num_inputs:  1\n",
      "prf instances:  [[[14672592657000597156, 2402501382455789823, 5345685197495592745, 3011024057811024003], [12436184717236109307, 3962172157175319849, 7381016538464732718, 1011752739694698287], [12156132031024860846, 9861177863383639274, 10629998272028772020, 2786626043251147566]]]\n",
      "proof boolean:  1.0\n",
      "proof result 1 : 47.6982421875\n",
      "verified\n"
     ]
    }
   ],
   "source": [
    "# Verifier verifies\n",
    "verifier_verify(proof_path, settings_path, vk_path, srs_path)"
   ]
  },
  {
   "cell_type": "code",
   "execution_count": null,
   "metadata": {},
   "outputs": [],
   "source": []
  },
  {
   "cell_type": "code",
   "execution_count": null,
   "metadata": {},
   "outputs": [],
   "source": []
  }
 ],
 "metadata": {
  "kernelspec": {
   "display_name": "Python 3",
   "language": "python",
   "name": "python3"
  },
  "language_info": {
   "codemirror_mode": {
    "name": "ipython",
    "version": 3
   },
   "file_extension": ".py",
   "mimetype": "text/x-python",
   "name": "python",
   "nbconvert_exporter": "python",
   "pygments_lexer": "ipython3",
   "version": "3.10.0"
  },
  "orig_nbformat": 4
 },
 "nbformat": 4,
 "nbformat_minor": 2
}
