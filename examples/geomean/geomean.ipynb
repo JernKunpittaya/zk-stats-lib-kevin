{
 "cells": [
  {
   "cell_type": "code",
   "execution_count": 11,
   "metadata": {},
   "outputs": [
    {
     "name": "stdout",
     "output_type": "stream",
     "text": [
      "Requirement already satisfied: ezkl==7.0.0 in /Users/jernkun/Library/Caches/pypoetry/virtualenvs/zkstats-OJpceffF-py3.11/lib/python3.11/site-packages (from -r ../../requirements.txt (line 1)) (7.0.0)\n",
      "Requirement already satisfied: torch in /Users/jernkun/Library/Caches/pypoetry/virtualenvs/zkstats-OJpceffF-py3.11/lib/python3.11/site-packages (from -r ../../requirements.txt (line 2)) (2.2.0)\n",
      "Requirement already satisfied: requests in /Users/jernkun/Library/Caches/pypoetry/virtualenvs/zkstats-OJpceffF-py3.11/lib/python3.11/site-packages (from -r ../../requirements.txt (line 3)) (2.31.0)\n",
      "Requirement already satisfied: scipy in /Users/jernkun/Library/Caches/pypoetry/virtualenvs/zkstats-OJpceffF-py3.11/lib/python3.11/site-packages (from -r ../../requirements.txt (line 4)) (1.12.0)\n",
      "Requirement already satisfied: numpy in /Users/jernkun/Library/Caches/pypoetry/virtualenvs/zkstats-OJpceffF-py3.11/lib/python3.11/site-packages (from -r ../../requirements.txt (line 5)) (1.26.3)\n",
      "Requirement already satisfied: matplotlib in /Users/jernkun/Library/Caches/pypoetry/virtualenvs/zkstats-OJpceffF-py3.11/lib/python3.11/site-packages (from -r ../../requirements.txt (line 6)) (3.8.2)\n",
      "Requirement already satisfied: statistics in /Users/jernkun/Library/Caches/pypoetry/virtualenvs/zkstats-OJpceffF-py3.11/lib/python3.11/site-packages (from -r ../../requirements.txt (line 7)) (1.0.3.5)\n",
      "Requirement already satisfied: onnx in /Users/jernkun/Library/Caches/pypoetry/virtualenvs/zkstats-OJpceffF-py3.11/lib/python3.11/site-packages (from -r ../../requirements.txt (line 8)) (1.15.0)\n",
      "Requirement already satisfied: filelock in /Users/jernkun/Library/Caches/pypoetry/virtualenvs/zkstats-OJpceffF-py3.11/lib/python3.11/site-packages (from torch->-r ../../requirements.txt (line 2)) (3.13.1)\n",
      "Requirement already satisfied: typing-extensions>=4.8.0 in /Users/jernkun/Library/Caches/pypoetry/virtualenvs/zkstats-OJpceffF-py3.11/lib/python3.11/site-packages (from torch->-r ../../requirements.txt (line 2)) (4.9.0)\n",
      "Requirement already satisfied: sympy in /Users/jernkun/Library/Caches/pypoetry/virtualenvs/zkstats-OJpceffF-py3.11/lib/python3.11/site-packages (from torch->-r ../../requirements.txt (line 2)) (1.12)\n",
      "Requirement already satisfied: networkx in /Users/jernkun/Library/Caches/pypoetry/virtualenvs/zkstats-OJpceffF-py3.11/lib/python3.11/site-packages (from torch->-r ../../requirements.txt (line 2)) (3.2.1)\n",
      "Requirement already satisfied: jinja2 in /Users/jernkun/Library/Caches/pypoetry/virtualenvs/zkstats-OJpceffF-py3.11/lib/python3.11/site-packages (from torch->-r ../../requirements.txt (line 2)) (3.1.3)\n",
      "Requirement already satisfied: fsspec in /Users/jernkun/Library/Caches/pypoetry/virtualenvs/zkstats-OJpceffF-py3.11/lib/python3.11/site-packages (from torch->-r ../../requirements.txt (line 2)) (2023.12.2)\n",
      "Requirement already satisfied: charset-normalizer<4,>=2 in /Users/jernkun/Library/Caches/pypoetry/virtualenvs/zkstats-OJpceffF-py3.11/lib/python3.11/site-packages (from requests->-r ../../requirements.txt (line 3)) (3.3.2)\n",
      "Requirement already satisfied: idna<4,>=2.5 in /Users/jernkun/Library/Caches/pypoetry/virtualenvs/zkstats-OJpceffF-py3.11/lib/python3.11/site-packages (from requests->-r ../../requirements.txt (line 3)) (3.6)\n",
      "Requirement already satisfied: urllib3<3,>=1.21.1 in /Users/jernkun/Library/Caches/pypoetry/virtualenvs/zkstats-OJpceffF-py3.11/lib/python3.11/site-packages (from requests->-r ../../requirements.txt (line 3)) (2.2.0)\n",
      "Requirement already satisfied: certifi>=2017.4.17 in /Users/jernkun/Library/Caches/pypoetry/virtualenvs/zkstats-OJpceffF-py3.11/lib/python3.11/site-packages (from requests->-r ../../requirements.txt (line 3)) (2024.2.2)\n",
      "Requirement already satisfied: contourpy>=1.0.1 in /Users/jernkun/Library/Caches/pypoetry/virtualenvs/zkstats-OJpceffF-py3.11/lib/python3.11/site-packages (from matplotlib->-r ../../requirements.txt (line 6)) (1.2.0)\n",
      "Requirement already satisfied: cycler>=0.10 in /Users/jernkun/Library/Caches/pypoetry/virtualenvs/zkstats-OJpceffF-py3.11/lib/python3.11/site-packages (from matplotlib->-r ../../requirements.txt (line 6)) (0.12.1)\n",
      "Requirement already satisfied: fonttools>=4.22.0 in /Users/jernkun/Library/Caches/pypoetry/virtualenvs/zkstats-OJpceffF-py3.11/lib/python3.11/site-packages (from matplotlib->-r ../../requirements.txt (line 6)) (4.47.2)\n",
      "Requirement already satisfied: kiwisolver>=1.3.1 in /Users/jernkun/Library/Caches/pypoetry/virtualenvs/zkstats-OJpceffF-py3.11/lib/python3.11/site-packages (from matplotlib->-r ../../requirements.txt (line 6)) (1.4.5)\n",
      "Requirement already satisfied: packaging>=20.0 in /Users/jernkun/Library/Caches/pypoetry/virtualenvs/zkstats-OJpceffF-py3.11/lib/python3.11/site-packages (from matplotlib->-r ../../requirements.txt (line 6)) (23.2)\n",
      "Requirement already satisfied: pillow>=8 in /Users/jernkun/Library/Caches/pypoetry/virtualenvs/zkstats-OJpceffF-py3.11/lib/python3.11/site-packages (from matplotlib->-r ../../requirements.txt (line 6)) (10.2.0)\n",
      "Requirement already satisfied: pyparsing>=2.3.1 in /Users/jernkun/Library/Caches/pypoetry/virtualenvs/zkstats-OJpceffF-py3.11/lib/python3.11/site-packages (from matplotlib->-r ../../requirements.txt (line 6)) (3.1.1)\n",
      "Requirement already satisfied: python-dateutil>=2.7 in /Users/jernkun/Library/Caches/pypoetry/virtualenvs/zkstats-OJpceffF-py3.11/lib/python3.11/site-packages (from matplotlib->-r ../../requirements.txt (line 6)) (2.8.2)\n",
      "Requirement already satisfied: docutils>=0.3 in /Users/jernkun/Library/Caches/pypoetry/virtualenvs/zkstats-OJpceffF-py3.11/lib/python3.11/site-packages (from statistics->-r ../../requirements.txt (line 7)) (0.20.1)\n",
      "Requirement already satisfied: protobuf>=3.20.2 in /Users/jernkun/Library/Caches/pypoetry/virtualenvs/zkstats-OJpceffF-py3.11/lib/python3.11/site-packages (from onnx->-r ../../requirements.txt (line 8)) (4.25.2)\n",
      "Requirement already satisfied: six>=1.5 in /Users/jernkun/Library/Caches/pypoetry/virtualenvs/zkstats-OJpceffF-py3.11/lib/python3.11/site-packages (from python-dateutil>=2.7->matplotlib->-r ../../requirements.txt (line 6)) (1.16.0)\n",
      "Requirement already satisfied: MarkupSafe>=2.0 in /Users/jernkun/Library/Caches/pypoetry/virtualenvs/zkstats-OJpceffF-py3.11/lib/python3.11/site-packages (from jinja2->torch->-r ../../requirements.txt (line 2)) (2.1.4)\n",
      "Requirement already satisfied: mpmath>=0.19 in /Users/jernkun/Library/Caches/pypoetry/virtualenvs/zkstats-OJpceffF-py3.11/lib/python3.11/site-packages (from sympy->torch->-r ../../requirements.txt (line 2)) (1.3.0)\n",
      "\n",
      "\u001b[1m[\u001b[0m\u001b[34;49mnotice\u001b[0m\u001b[1;39;49m]\u001b[0m\u001b[39;49m A new release of pip is available: \u001b[0m\u001b[31;49m23.2.1\u001b[0m\u001b[39;49m -> \u001b[0m\u001b[32;49m24.0\u001b[0m\n",
      "\u001b[1m[\u001b[0m\u001b[34;49mnotice\u001b[0m\u001b[1;39;49m]\u001b[0m\u001b[39;49m To update, run: \u001b[0m\u001b[32;49mpip install --upgrade pip\u001b[0m\n",
      "Note: you may need to restart the kernel to use updated packages.\n"
     ]
    }
   ],
   "source": [
    "pip install -r ../../requirements.txt"
   ]
  },
  {
   "cell_type": "code",
   "execution_count": 12,
   "metadata": {},
   "outputs": [],
   "source": [
    "import ezkl\n",
    "import torch\n",
    "from torch import nn\n",
    "import json\n",
    "import os\n",
    "import time\n",
    "import scipy\n",
    "import numpy as np\n",
    "import matplotlib.pyplot as plt\n",
    "import statistics\n",
    "import math"
   ]
  },
  {
   "cell_type": "code",
   "execution_count": 13,
   "metadata": {},
   "outputs": [],
   "source": [
    "%run -i ../../zkstats/core.py"
   ]
  },
  {
   "attachments": {},
   "cell_type": "markdown",
   "metadata": {},
   "source": []
  },
  {
   "cell_type": "code",
   "execution_count": 14,
   "metadata": {},
   "outputs": [],
   "source": [
    "# init path\n",
    "os.makedirs(os.path.dirname('shared/'), exist_ok=True)\n",
    "os.makedirs(os.path.dirname('prover/'), exist_ok=True)\n",
    "verifier_model_path = os.path.join('shared/verifier.onnx')\n",
    "prover_model_path = os.path.join('prover/prover.onnx')\n",
    "verifier_compiled_model_path = os.path.join('shared/verifier.compiled')\n",
    "prover_compiled_model_path = os.path.join('prover/prover.compiled')\n",
    "pk_path = os.path.join('shared/test.pk')\n",
    "vk_path = os.path.join('shared/test.vk')\n",
    "proof_path = os.path.join('shared/test.pf')\n",
    "settings_path = os.path.join('shared/settings.json')\n",
    "srs_path = os.path.join('shared/kzg.srs')\n",
    "witness_path = os.path.join('prover/witness.json')\n",
    "# this is private to prover since it contains actual data\n",
    "sel_data_path = os.path.join('prover/sel_data.json')\n",
    "# this is just dummy random value\n",
    "sel_dummy_data_path = os.path.join('shared/sel_dummy_data.json')"
   ]
  },
  {
   "attachments": {},
   "cell_type": "markdown",
   "metadata": {},
   "source": [
    "=======================  ZK-STATS FLOW ======================="
   ]
  },
  {
   "cell_type": "code",
   "execution_count": 15,
   "metadata": {},
   "outputs": [],
   "source": [
    "data_path = os.path.join('data.json')\n",
    "dummy_data_path = os.path.join('shared/dummy_data.json')\n",
    "\n",
    "data = json.loads(open(data_path, \"r\").read())['col_name']\n",
    "data_tensor = torch.reshape(torch.tensor(data),(1,-1, 1))\n",
    "\n",
    "create_dummy(data_path, dummy_data_path)\n",
    "dummy_data = json.loads(open(dummy_data_path, \"r\").read())['col_name']\n",
    "dummy_data_tensor = torch.reshape(torch.tensor(dummy_data), (1,-1,1))\n",
    "\n",
    "dummy_theory_output = torch.exp(torch.mean(torch.log(dummy_data_tensor)))\n",
    "theory_output = torch.exp(torch.mean(torch.log(data_tensor)))\n",
    "\n"
   ]
  },
  {
   "cell_type": "code",
   "execution_count": 32,
   "metadata": {},
   "outputs": [],
   "source": [
    "scales = [8]\n",
    "selected_columns = ['col_name']\n",
    "commitment_maps = get_data_commitment_maps(data_path, scales)"
   ]
  },
  {
   "cell_type": "code",
   "execution_count": 33,
   "metadata": {},
   "outputs": [
    {
     "name": "stderr",
     "output_type": "stream",
     "text": [
      "/var/folders/89/y9dw12v976ngdmqz4l7wbsnr0000gn/T/ipykernel_86541/1155542345.py:8: TracerWarning: torch.tensor results are registered as constants in the trace. You can safely ignore this warning if you use this function to create tensors out of constant variables that would be the same every time you call this function. In any other case, this might cause the trace to be incorrect.\n",
      "  return (torch.abs((torch.log(self.w)*X.size()[1])-torch.sum(torch.log(X)))<=X.size()[1]*torch.log(torch.tensor(1.01)), self.w)\n"
     ]
    }
   ],
   "source": [
    "# Verifier/ data consumer side:\n",
    "class verifier_model(nn.Module):\n",
    "    def __init__(self):\n",
    "        super(verifier_model, self).__init__()\n",
    "        self.w = nn.Parameter(data = dummy_theory_output, requires_grad = False)\n",
    "\n",
    "    def forward(self,X):\n",
    "        return (torch.abs((torch.log(self.w)*X.size()[1])-torch.sum(torch.log(X)))<=X.size()[1]*torch.log(torch.tensor(1.01)), self.w)\n",
    "\n",
    "\n",
    "verifier_define_calculation(dummy_data_path, selected_columns,sel_dummy_data_path,verifier_model, verifier_model_path)"
   ]
  },
  {
   "cell_type": "code",
   "execution_count": 34,
   "metadata": {},
   "outputs": [
    {
     "name": "stdout",
     "output_type": "stream",
     "text": [
      "Theory output:  tensor(47.6981)\n",
      "==== Generate & Calibrate Setting ====\n",
      "scale:  [8]\n",
      "setting:  {\"run_args\":{\"tolerance\":{\"val\":0.0,\"scale\":1.0},\"input_scale\":8,\"param_scale\":8,\"scale_rebase_multiplier\":10,\"lookup_range\":[-1522,45056],\"logrows\":16,\"num_inner_cols\":2,\"variables\":[[\"batch_size\",1]],\"input_visibility\":{\"Hashed\":{\"hash_is_public\":true,\"outlets\":[]}},\"output_visibility\":\"Public\",\"param_visibility\":\"Private\"},\"num_rows\":14432,\"total_assignments\":910,\"total_const_size\":4,\"model_instance_shapes\":[[1],[1]],\"model_output_scales\":[0,8],\"model_input_scales\":[8],\"module_sizes\":{\"kzg\":[],\"poseidon\":[14432,[1]],\"elgamal\":[0,[0]]},\"required_lookups\":[\"Abs\",{\"Ln\":{\"scale\":256.0}},{\"GreaterThan\":{\"a\":0.0}}],\"check_mode\":\"UNSAFE\",\"version\":\"7.0.0\",\"num_blinding_factors\":null}\n"
     ]
    },
    {
     "name": "stderr",
     "output_type": "stream",
     "text": [
      "/var/folders/89/y9dw12v976ngdmqz4l7wbsnr0000gn/T/ipykernel_86541/669315669.py:10: TracerWarning: torch.tensor results are registered as constants in the trace. You can safely ignore this warning if you use this function to create tensors out of constant variables that would be the same every time you call this function. In any other case, this might cause the trace to be incorrect.\n",
      "  return (torch.abs((torch.log(self.w)*X.size()[1])-torch.sum(torch.log(X)))<=X.size()[1]*torch.log(torch.tensor(1.01)), self.w)\n"
     ]
    }
   ],
   "source": [
    "# prover calculates settings, send to verifier\n",
    "print(\"Theory output: \", theory_output)\n",
    "class prover_model(nn.Module):\n",
    "    def __init__(self):\n",
    "        super(prover_model, self).__init__()\n",
    "        # w represents mean in this case\n",
    "        self.w = nn.Parameter(data = theory_output, requires_grad = False)\n",
    "\n",
    "    def forward(self,X):\n",
    "        return (torch.abs((torch.log(self.w)*X.size()[1])-torch.sum(torch.log(X)))<=X.size()[1]*torch.log(torch.tensor(1.01)), self.w)\n",
    "\n",
    "\n",
    "\n",
    "prover_gen_settings(data_path, selected_columns, sel_data_path, prover_model,prover_model_path, scales, \"resources\", settings_path)"
   ]
  },
  {
   "cell_type": "code",
   "execution_count": 35,
   "metadata": {},
   "outputs": [
    {
     "name": "stderr",
     "output_type": "stream",
     "text": [
      "spawning module 0\n",
      "spawning module 2\n"
     ]
    },
    {
     "name": "stdout",
     "output_type": "stream",
     "text": [
      "==== setting up ezkl ====\n"
     ]
    },
    {
     "name": "stderr",
     "output_type": "stream",
     "text": [
      "spawning module 0\n",
      "spawning module 2\n"
     ]
    },
    {
     "name": "stdout",
     "output_type": "stream",
     "text": [
      "Time setup: 6.883466958999634 seconds\n",
      "=======================================\n",
      "Theory output:  tensor(47.6981)\n",
      "==== Generating Witness ====\n",
      "witness boolean:  1.0\n",
      "witness result 1 : 47.69921875\n",
      "==== Generating Proof ====\n"
     ]
    },
    {
     "name": "stderr",
     "output_type": "stream",
     "text": [
      "spawning module 0\n",
      "spawning module 2\n"
     ]
    },
    {
     "name": "stdout",
     "output_type": "stream",
     "text": [
      "proof:  {'instances': [[[12773529019820117503, 7223165032241168505, 6388811546753741567, 1325363978837834469], [12436184717236109307, 3962172157175319849, 7381016538464732718, 1011752739694698287], [14148586052410868650, 7343294927740416096, 1182455714804702497, 77845129035718797]]], 'proof': '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', 'transcript_type': 'EVM'}\n",
      "Time gen prf: 10.143173694610596 seconds\n"
     ]
    }
   ],
   "source": [
    "# Here verifier & prover can concurrently call setup since all params are public to get pk.\n",
    "# Here write as verifier function to emphasize that verifier must calculate its own vk to be sure\n",
    "verifier_setup(verifier_model_path, verifier_compiled_model_path, settings_path,vk_path, pk_path )\n",
    "\n",
    "print(\"=======================================\")\n",
    "# Prover generates proof\n",
    "print(\"Theory output: \", theory_output)\n",
    "prover_gen_proof(prover_model_path, sel_data_path, witness_path, prover_compiled_model_path, settings_path, proof_path, pk_path)"
   ]
  },
  {
   "cell_type": "code",
   "execution_count": 36,
   "metadata": {},
   "outputs": [
    {
     "data": {
      "text/plain": [
       "47.69921875"
      ]
     },
     "execution_count": 36,
     "metadata": {},
     "output_type": "execute_result"
    }
   ],
   "source": [
    "# Verifier verifies\n",
    "verifier_verify(proof_path, settings_path, vk_path, selected_columns, commitment_maps)"
   ]
  },
  {
   "cell_type": "code",
   "execution_count": null,
   "metadata": {},
   "outputs": [],
   "source": []
  },
  {
   "cell_type": "code",
   "execution_count": null,
   "metadata": {},
   "outputs": [],
   "source": []
  }
 ],
 "metadata": {
  "kernelspec": {
   "display_name": "Python 3",
   "language": "python",
   "name": "python3"
  },
  "language_info": {
   "codemirror_mode": {
    "name": "ipython",
    "version": 3
   },
   "file_extension": ".py",
   "mimetype": "text/x-python",
   "name": "python",
   "nbconvert_exporter": "python",
   "pygments_lexer": "ipython3",
   "version": "3.11.4"
  },
  "orig_nbformat": 4
 },
 "nbformat": 4,
 "nbformat_minor": 2
}
