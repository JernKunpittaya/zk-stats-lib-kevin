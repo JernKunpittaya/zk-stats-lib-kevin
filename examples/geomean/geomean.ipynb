{
 "cells": [
  {
   "cell_type": "code",
   "execution_count": 8,
   "metadata": {},
   "outputs": [
    {
     "name": "stdout",
     "output_type": "stream",
     "text": [
      "Requirement already satisfied: ezkl==7.0.0 in /Users/mhchia/Library/Caches/pypoetry/virtualenvs/zkstats-brXmXluj-py3.12/lib/python3.12/site-packages (from -r ../../requirements.txt (line 1)) (7.0.0)\n",
      "Requirement already satisfied: torch in /Users/mhchia/Library/Caches/pypoetry/virtualenvs/zkstats-brXmXluj-py3.12/lib/python3.12/site-packages (from -r ../../requirements.txt (line 2)) (2.2.0)\n",
      "Requirement already satisfied: requests in /Users/mhchia/Library/Caches/pypoetry/virtualenvs/zkstats-brXmXluj-py3.12/lib/python3.12/site-packages (from -r ../../requirements.txt (line 3)) (2.31.0)\n",
      "Requirement already satisfied: scipy in /Users/mhchia/Library/Caches/pypoetry/virtualenvs/zkstats-brXmXluj-py3.12/lib/python3.12/site-packages (from -r ../../requirements.txt (line 4)) (1.12.0)\n",
      "Requirement already satisfied: numpy in /Users/mhchia/Library/Caches/pypoetry/virtualenvs/zkstats-brXmXluj-py3.12/lib/python3.12/site-packages (from -r ../../requirements.txt (line 5)) (1.26.3)\n",
      "Requirement already satisfied: matplotlib in /Users/mhchia/Library/Caches/pypoetry/virtualenvs/zkstats-brXmXluj-py3.12/lib/python3.12/site-packages (from -r ../../requirements.txt (line 6)) (3.8.2)\n",
      "Requirement already satisfied: statistics in /Users/mhchia/Library/Caches/pypoetry/virtualenvs/zkstats-brXmXluj-py3.12/lib/python3.12/site-packages (from -r ../../requirements.txt (line 7)) (1.0.3.5)\n",
      "Requirement already satisfied: onnx in /Users/mhchia/Library/Caches/pypoetry/virtualenvs/zkstats-brXmXluj-py3.12/lib/python3.12/site-packages (from -r ../../requirements.txt (line 8)) (1.15.0)\n",
      "Requirement already satisfied: filelock in /Users/mhchia/Library/Caches/pypoetry/virtualenvs/zkstats-brXmXluj-py3.12/lib/python3.12/site-packages (from torch->-r ../../requirements.txt (line 2)) (3.13.1)\n",
      "Requirement already satisfied: typing-extensions>=4.8.0 in /Users/mhchia/Library/Caches/pypoetry/virtualenvs/zkstats-brXmXluj-py3.12/lib/python3.12/site-packages (from torch->-r ../../requirements.txt (line 2)) (4.9.0)\n",
      "Requirement already satisfied: sympy in /Users/mhchia/Library/Caches/pypoetry/virtualenvs/zkstats-brXmXluj-py3.12/lib/python3.12/site-packages (from torch->-r ../../requirements.txt (line 2)) (1.12)\n",
      "Requirement already satisfied: networkx in /Users/mhchia/Library/Caches/pypoetry/virtualenvs/zkstats-brXmXluj-py3.12/lib/python3.12/site-packages (from torch->-r ../../requirements.txt (line 2)) (3.2.1)\n",
      "Requirement already satisfied: jinja2 in /Users/mhchia/Library/Caches/pypoetry/virtualenvs/zkstats-brXmXluj-py3.12/lib/python3.12/site-packages (from torch->-r ../../requirements.txt (line 2)) (3.1.3)\n",
      "Requirement already satisfied: fsspec in /Users/mhchia/Library/Caches/pypoetry/virtualenvs/zkstats-brXmXluj-py3.12/lib/python3.12/site-packages (from torch->-r ../../requirements.txt (line 2)) (2023.12.2)\n",
      "Requirement already satisfied: charset-normalizer<4,>=2 in /Users/mhchia/Library/Caches/pypoetry/virtualenvs/zkstats-brXmXluj-py3.12/lib/python3.12/site-packages (from requests->-r ../../requirements.txt (line 3)) (3.3.2)\n",
      "Requirement already satisfied: idna<4,>=2.5 in /Users/mhchia/Library/Caches/pypoetry/virtualenvs/zkstats-brXmXluj-py3.12/lib/python3.12/site-packages (from requests->-r ../../requirements.txt (line 3)) (3.6)\n",
      "Requirement already satisfied: urllib3<3,>=1.21.1 in /Users/mhchia/Library/Caches/pypoetry/virtualenvs/zkstats-brXmXluj-py3.12/lib/python3.12/site-packages (from requests->-r ../../requirements.txt (line 3)) (2.2.0)\n",
      "Requirement already satisfied: certifi>=2017.4.17 in /Users/mhchia/Library/Caches/pypoetry/virtualenvs/zkstats-brXmXluj-py3.12/lib/python3.12/site-packages (from requests->-r ../../requirements.txt (line 3)) (2024.2.2)\n",
      "Requirement already satisfied: contourpy>=1.0.1 in /Users/mhchia/Library/Caches/pypoetry/virtualenvs/zkstats-brXmXluj-py3.12/lib/python3.12/site-packages (from matplotlib->-r ../../requirements.txt (line 6)) (1.2.0)\n",
      "Requirement already satisfied: cycler>=0.10 in /Users/mhchia/Library/Caches/pypoetry/virtualenvs/zkstats-brXmXluj-py3.12/lib/python3.12/site-packages (from matplotlib->-r ../../requirements.txt (line 6)) (0.12.1)\n",
      "Requirement already satisfied: fonttools>=4.22.0 in /Users/mhchia/Library/Caches/pypoetry/virtualenvs/zkstats-brXmXluj-py3.12/lib/python3.12/site-packages (from matplotlib->-r ../../requirements.txt (line 6)) (4.47.2)\n",
      "Requirement already satisfied: kiwisolver>=1.3.1 in /Users/mhchia/Library/Caches/pypoetry/virtualenvs/zkstats-brXmXluj-py3.12/lib/python3.12/site-packages (from matplotlib->-r ../../requirements.txt (line 6)) (1.4.5)\n",
      "Requirement already satisfied: packaging>=20.0 in /Users/mhchia/Library/Caches/pypoetry/virtualenvs/zkstats-brXmXluj-py3.12/lib/python3.12/site-packages (from matplotlib->-r ../../requirements.txt (line 6)) (23.2)\n",
      "Requirement already satisfied: pillow>=8 in /Users/mhchia/Library/Caches/pypoetry/virtualenvs/zkstats-brXmXluj-py3.12/lib/python3.12/site-packages (from matplotlib->-r ../../requirements.txt (line 6)) (10.2.0)\n",
      "Requirement already satisfied: pyparsing>=2.3.1 in /Users/mhchia/Library/Caches/pypoetry/virtualenvs/zkstats-brXmXluj-py3.12/lib/python3.12/site-packages (from matplotlib->-r ../../requirements.txt (line 6)) (3.1.1)\n",
      "Requirement already satisfied: python-dateutil>=2.7 in /Users/mhchia/Library/Caches/pypoetry/virtualenvs/zkstats-brXmXluj-py3.12/lib/python3.12/site-packages (from matplotlib->-r ../../requirements.txt (line 6)) (2.8.2)\n",
      "Requirement already satisfied: docutils>=0.3 in /Users/mhchia/Library/Caches/pypoetry/virtualenvs/zkstats-brXmXluj-py3.12/lib/python3.12/site-packages (from statistics->-r ../../requirements.txt (line 7)) (0.20.1)\n",
      "Requirement already satisfied: protobuf>=3.20.2 in /Users/mhchia/Library/Caches/pypoetry/virtualenvs/zkstats-brXmXluj-py3.12/lib/python3.12/site-packages (from onnx->-r ../../requirements.txt (line 8)) (4.25.2)\n",
      "Requirement already satisfied: six>=1.5 in /Users/mhchia/Library/Caches/pypoetry/virtualenvs/zkstats-brXmXluj-py3.12/lib/python3.12/site-packages (from python-dateutil>=2.7->matplotlib->-r ../../requirements.txt (line 6)) (1.16.0)\n",
      "Requirement already satisfied: MarkupSafe>=2.0 in /Users/mhchia/Library/Caches/pypoetry/virtualenvs/zkstats-brXmXluj-py3.12/lib/python3.12/site-packages (from jinja2->torch->-r ../../requirements.txt (line 2)) (2.1.4)\n",
      "Requirement already satisfied: mpmath>=0.19 in /Users/mhchia/Library/Caches/pypoetry/virtualenvs/zkstats-brXmXluj-py3.12/lib/python3.12/site-packages (from sympy->torch->-r ../../requirements.txt (line 2)) (1.3.0)\n",
      "\n",
      "\u001b[1m[\u001b[0m\u001b[34;49mnotice\u001b[0m\u001b[1;39;49m]\u001b[0m\u001b[39;49m A new release of pip is available: \u001b[0m\u001b[31;49m23.3.1\u001b[0m\u001b[39;49m -> \u001b[0m\u001b[32;49m24.0\u001b[0m\n",
      "\u001b[1m[\u001b[0m\u001b[34;49mnotice\u001b[0m\u001b[1;39;49m]\u001b[0m\u001b[39;49m To update, run: \u001b[0m\u001b[32;49mpip install --upgrade pip\u001b[0m\n",
      "Note: you may need to restart the kernel to use updated packages.\n"
     ]
    }
   ],
   "source": [
    "pip install -r ../../requirements.txt"
   ]
  },
  {
   "cell_type": "code",
   "execution_count": 9,
   "metadata": {},
   "outputs": [],
   "source": [
    "import ezkl\n",
    "import torch\n",
    "from torch import nn\n",
    "import json\n",
    "import os\n",
    "import time\n",
    "import scipy\n",
    "import numpy as np\n",
    "import matplotlib.pyplot as plt\n",
    "import statistics\n",
    "import math"
   ]
  },
  {
   "cell_type": "code",
   "execution_count": 10,
   "metadata": {},
   "outputs": [],
   "source": [
    "%run -i ../../zkstats/core.py"
   ]
  },
  {
   "attachments": {},
   "cell_type": "markdown",
   "metadata": {},
   "source": []
  },
  {
   "cell_type": "code",
   "execution_count": 11,
   "metadata": {},
   "outputs": [],
   "source": [
    "# init path\n",
    "os.makedirs(os.path.dirname('shared/'), exist_ok=True)\n",
    "os.makedirs(os.path.dirname('prover/'), exist_ok=True)\n",
    "verifier_model_path = os.path.join('shared/verifier.onnx')\n",
    "prover_model_path = os.path.join('prover/prover.onnx')\n",
    "verifier_compiled_model_path = os.path.join('shared/verifier.compiled')\n",
    "prover_compiled_model_path = os.path.join('prover/prover.compiled')\n",
    "pk_path = os.path.join('shared/test.pk')\n",
    "vk_path = os.path.join('shared/test.vk')\n",
    "proof_path = os.path.join('shared/test.pf')\n",
    "settings_path = os.path.join('shared/settings.json')\n",
    "srs_path = os.path.join('shared/kzg.srs')\n",
    "witness_path = os.path.join('prover/witness.json')\n",
    "# this is private to prover since it contains actual data\n",
    "sel_data_path = os.path.join('prover/sel_data.json')\n",
    "# this is just dummy random value\n",
    "sel_dummy_data_path = os.path.join('shared/sel_dummy_data.json')"
   ]
  },
  {
   "attachments": {},
   "cell_type": "markdown",
   "metadata": {},
   "source": [
    "=======================  ZK-STATS FLOW ======================="
   ]
  },
  {
   "cell_type": "code",
   "execution_count": 12,
   "metadata": {},
   "outputs": [],
   "source": [
    "data_path = os.path.join('data.json')\n",
    "dummy_data_path = os.path.join('shared/dummy_data.json')\n",
    "\n",
    "create_dummy(data_path, dummy_data_path)"
   ]
  },
  {
   "cell_type": "code",
   "execution_count": 13,
   "metadata": {},
   "outputs": [],
   "source": [
    "scales = [8]\n",
    "selected_columns = ['col_name']\n",
    "commitment_maps = get_data_commitment_maps(data_path, scales)"
   ]
  },
  {
   "cell_type": "code",
   "execution_count": 14,
   "metadata": {},
   "outputs": [
    {
     "name": "stderr",
     "output_type": "stream",
     "text": [
      "/Users/mhchia/projects/work/pse/zk-stats-lib/zkstats/computation.py:166: TracerWarning: torch.tensor results are registered as constants in the trace. You can safely ignore this warning if you use this function to create tensors out of constant variables that would be the same every time you call this function. In any other case, this might cause the trace to be incorrect.\n",
      "  is_precise_aggregated = torch.tensor(1.0)\n",
      "/Users/mhchia/projects/work/pse/zk-stats-lib/zkstats/ops.py:102: TracerWarning: torch.tensor results are registered as constants in the trace. You can safely ignore this warning if you use this function to create tensors out of constant variables that would be the same every time you call this function. In any other case, this might cause the trace to be incorrect.\n",
      "  return torch.abs((torch.log(self.result)*size)-torch.sum(torch.log(x)))<=size*torch.log(torch.tensor(1+self.error))\n",
      "/Users/mhchia/Library/Caches/pypoetry/virtualenvs/zkstats-brXmXluj-py3.12/lib/python3.12/site-packages/torch/onnx/symbolic_opset9.py:2174: FutureWarning: 'torch.onnx.symbolic_opset9._cast_Bool' is deprecated in version 2.0 and will be removed in the future. Please Avoid using this function and create a Cast node instead.\n",
      "  return fn(g, to_cast_func(g, input, False), to_cast_func(g, other, False))\n"
     ]
    }
   ],
   "source": [
    "# Verifier/ data consumer side:\n",
    "from zkstats.computation import computation_to_model, State\n",
    "\n",
    "\n",
    "def computation(s: State, data: list[torch.Tensor]) -> torch.Tensor:\n",
    "    x = data[0]\n",
    "    return s.geometric_mean(x)\n",
    "\n",
    "error = 0.01\n",
    "_, verifier_model = computation_to_model(computation, error)\n",
    "\n",
    "verifier_define_calculation(dummy_data_path, selected_columns,sel_dummy_data_path,verifier_model, verifier_model_path)"
   ]
  },
  {
   "cell_type": "code",
   "execution_count": 15,
   "metadata": {},
   "outputs": [
    {
     "name": "stdout",
     "output_type": "stream",
     "text": [
      "==== Generate & Calibrate Setting ====\n",
      "scale:  [8]\n",
      "setting:  {\"run_args\":{\"tolerance\":{\"val\":0.0,\"scale\":1.0},\"input_scale\":8,\"param_scale\":8,\"scale_rebase_multiplier\":10,\"lookup_range\":[-1522,45056],\"logrows\":16,\"num_inner_cols\":2,\"variables\":[[\"batch_size\",1]],\"input_visibility\":{\"Hashed\":{\"hash_is_public\":true,\"outlets\":[]}},\"output_visibility\":\"Public\",\"param_visibility\":\"Private\"},\"num_rows\":14432,\"total_assignments\":911,\"total_const_size\":4,\"model_instance_shapes\":[[1],[1]],\"model_output_scales\":[0,8],\"model_input_scales\":[8],\"module_sizes\":{\"kzg\":[],\"poseidon\":[14432,[1]],\"elgamal\":[0,[0]]},\"required_lookups\":[\"Abs\",{\"Ln\":{\"scale\":256.0}},{\"GreaterThan\":{\"a\":0.0}}],\"check_mode\":\"UNSAFE\",\"version\":\"7.0.0\",\"num_blinding_factors\":null}\n"
     ]
    }
   ],
   "source": [
    "# prover calculates settings, send to verifier\n",
    "_, prover_model = computation_to_model(computation, error)\n",
    "\n",
    "prover_gen_settings(data_path, selected_columns, sel_data_path, prover_model,prover_model_path, scales, \"resources\", settings_path)"
   ]
  },
  {
   "cell_type": "code",
   "execution_count": 16,
   "metadata": {},
   "outputs": [
    {
     "name": "stderr",
     "output_type": "stream",
     "text": [
      "spawning module 0\n"
     ]
    },
    {
     "name": "stdout",
     "output_type": "stream",
     "text": [
      "==== setting up ezkl ====\n"
     ]
    },
    {
     "name": "stderr",
     "output_type": "stream",
     "text": [
      "spawning module 2\n",
      "spawning module 0\n",
      "spawning module 2\n"
     ]
    },
    {
     "name": "stdout",
     "output_type": "stream",
     "text": [
      "Time setup: 12.893370866775513 seconds\n",
      "=======================================\n",
      "==== Generating Witness ====\n",
      "witness boolean:  1.0\n",
      "witness result 1 : 47.69921875\n",
      "==== Generating Proof ====\n"
     ]
    },
    {
     "name": "stderr",
     "output_type": "stream",
     "text": [
      "spawning module 0\n",
      "spawning module 2\n"
     ]
    },
    {
     "name": "stdout",
     "output_type": "stream",
     "text": [
      "proof:  {'instances': [[[12773529019820117503, 7223165032241168505, 6388811546753741567, 1325363978837834469], [12436184717236109307, 3962172157175319849, 7381016538464732718, 1011752739694698287], [14148586052410868650, 7343294927740416096, 1182455714804702497, 77845129035718797]]], 'proof': '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', 'transcript_type': 'EVM'}\n",
      "Time gen prf: 17.02580213546753 seconds\n"
     ]
    }
   ],
   "source": [
    "# Here verifier & prover can concurrently call setup since all params are public to get pk.\n",
    "# Here write as verifier function to emphasize that verifier must calculate its own vk to be sure\n",
    "setup(verifier_model_path, verifier_compiled_model_path, settings_path,vk_path, pk_path )\n",
    "\n",
    "print(\"=======================================\")\n",
    "# Prover generates proof\n",
    "prover_gen_proof(prover_model_path, sel_data_path, witness_path, prover_compiled_model_path, settings_path, proof_path, pk_path)"
   ]
  },
  {
   "cell_type": "code",
   "execution_count": 17,
   "metadata": {},
   "outputs": [
    {
     "name": "stdout",
     "output_type": "stream",
     "text": [
      "Verifier gets result: 47.69921875\n"
     ]
    }
   ],
   "source": [
    "# Verifier verifies\n",
    "res = verifier_verify(proof_path, settings_path, vk_path, selected_columns, commitment_maps)\n",
    "print(\"Verifier gets result:\", res)"
   ]
  }
 ],
 "metadata": {
  "kernelspec": {
   "display_name": "Python 3",
   "language": "python",
   "name": "python3"
  },
  "language_info": {
   "codemirror_mode": {
    "name": "ipython",
    "version": 3
   },
   "file_extension": ".py",
   "mimetype": "text/x-python",
   "name": "python",
   "nbconvert_exporter": "python",
   "pygments_lexer": "ipython3",
   "version": "3.12.1"
  },
  "orig_nbformat": 4
 },
 "nbformat": 4,
 "nbformat_minor": 2
}
