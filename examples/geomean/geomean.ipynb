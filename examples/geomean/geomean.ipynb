{
 "cells": [
  {
   "cell_type": "code",
   "execution_count": 2,
   "metadata": {},
   "outputs": [],
   "source": [
    "import ezkl\n",
    "import torch\n",
    "from torch import nn\n",
    "import json\n",
    "import os\n",
    "import time\n",
    "import scipy\n",
    "import numpy as np\n",
    "import matplotlib.pyplot as plt\n",
    "import statistics\n",
    "import math"
   ]
  },
  {
   "cell_type": "code",
   "execution_count": 3,
   "metadata": {},
   "outputs": [],
   "source": [
    "from zkstats.core import create_dummy, verifier_define_calculation, prover_gen_settings, setup, prover_gen_proof, verifier_verify, generate_data_commitment"
   ]
  },
  {
   "attachments": {},
   "cell_type": "markdown",
   "metadata": {},
   "source": []
  },
  {
   "cell_type": "code",
   "execution_count": 4,
   "metadata": {},
   "outputs": [],
   "source": [
    "# init path\n",
    "os.makedirs(os.path.dirname('shared/'), exist_ok=True)\n",
    "os.makedirs(os.path.dirname('prover/'), exist_ok=True)\n",
    "verifier_model_path = os.path.join('shared/verifier.onnx')\n",
    "prover_model_path = os.path.join('prover/prover.onnx')\n",
    "verifier_compiled_model_path = os.path.join('shared/verifier.compiled')\n",
    "prover_compiled_model_path = os.path.join('prover/prover.compiled')\n",
    "pk_path = os.path.join('shared/test.pk')\n",
    "vk_path = os.path.join('shared/test.vk')\n",
    "proof_path = os.path.join('shared/test.pf')\n",
    "settings_path = os.path.join('shared/settings.json')\n",
    "srs_path = os.path.join('shared/kzg.srs')\n",
    "witness_path = os.path.join('prover/witness.json')\n",
    "# this is private to prover since it contains actual data\n",
    "sel_data_path = os.path.join('prover/sel_data.json')\n",
    "# this is just dummy random value\n",
    "sel_dummy_data_path = os.path.join('shared/sel_dummy_data.json')\n",
    "data_commitment_path = os.path.join('shared/data_commitment.json')"
   ]
  },
  {
   "attachments": {},
   "cell_type": "markdown",
   "metadata": {},
   "source": [
    "=======================  ZK-STATS FLOW ======================="
   ]
  },
  {
   "cell_type": "code",
   "execution_count": 5,
   "metadata": {},
   "outputs": [],
   "source": [
    "data_path = os.path.join('data.json')\n",
    "dummy_data_path = os.path.join('shared/dummy_data.json')\n",
    "\n",
    "create_dummy(data_path, dummy_data_path)"
   ]
  },
  {
   "cell_type": "code",
   "execution_count": 6,
   "metadata": {},
   "outputs": [],
   "source": [
    "scales = [8]\n",
    "selected_columns = ['col_name']\n",
    "generate_data_commitment(data_path, scales, data_commitment_path)"
   ]
  },
  {
   "cell_type": "code",
   "execution_count": 7,
   "metadata": {},
   "outputs": [
    {
     "name": "stderr",
     "output_type": "stream",
     "text": [
      "/Users/jernkun/Desktop/zk-stats-lib/zkstats/computation.py:171: TracerWarning: torch.tensor results are registered as constants in the trace. You can safely ignore this warning if you use this function to create tensors out of constant variables that would be the same every time you call this function. In any other case, this might cause the trace to be incorrect.\n",
      "  is_precise_aggregated = torch.tensor(1.0)\n",
      "/Users/jernkun/Desktop/zk-stats-lib/zkstats/ops.py:121: TracerWarning: torch.tensor results are registered as constants in the trace. You can safely ignore this warning if you use this function to create tensors out of constant variables that would be the same every time you call this function. In any other case, this might cause the trace to be incorrect.\n",
      "  return torch.abs((torch.log(self.result)*size)-torch.sum(torch.log(x)))<=size*torch.log(torch.tensor(1+self.error))\n",
      "/Users/jernkun/Library/Caches/pypoetry/virtualenvs/zkstats-OJpceffF-py3.11/lib/python3.11/site-packages/torch/onnx/symbolic_opset9.py:2174: FutureWarning: 'torch.onnx.symbolic_opset9._cast_Bool' is deprecated in version 2.0 and will be removed in the future. Please Avoid using this function and create a Cast node instead.\n",
      "  return fn(g, to_cast_func(g, input, False), to_cast_func(g, other, False))\n",
      "/Users/jernkun/Library/Caches/pypoetry/virtualenvs/zkstats-OJpceffF-py3.11/lib/python3.11/site-packages/torch/onnx/utils.py:1703: UserWarning: The exported ONNX model failed ONNX shape inference. The model will not be executable by the ONNX Runtime. If this is unintended and you believe there is a bug, please report an issue at https://github.com/pytorch/pytorch/issues. Error reported by strict ONNX shape inference: [ShapeInferenceError] (op_type:Where, node name: /Where): Y has inconsistent type tensor(float) (Triggered internally at /Users/runner/work/pytorch/pytorch/pytorch/torch/csrc/jit/serialization/export.cpp:1490.)\n",
      "  _C._check_onnx_proto(proto)\n"
     ]
    }
   ],
   "source": [
    "# Verifier/ data consumer side:\n",
    "from zkstats.computation import computation_to_model, State\n",
    "\n",
    "\n",
    "def computation(s: State, data: list[torch.Tensor]) -> torch.Tensor:\n",
    "    x = data[0]\n",
    "    return s.geometric_mean(x)\n",
    "\n",
    "error = 0.01\n",
    "_, verifier_model = computation_to_model(computation, error)\n",
    "\n",
    "verifier_define_calculation(dummy_data_path, selected_columns,sel_dummy_data_path,verifier_model, verifier_model_path)"
   ]
  },
  {
   "cell_type": "code",
   "execution_count": 8,
   "metadata": {},
   "outputs": [
    {
     "name": "stderr",
     "output_type": "stream",
     "text": [
      "\n",
      "\n",
      " <------------- Numerical Fidelity Report (input_scale: 8, param_scale: 8, scale_input_multiplier: 10) ------------->\n",
      "\n",
      "+----------------+---------------+-----------+---------------+----------------+------------------+---------------+---------------+--------------------+--------------------+------------------------+\n",
      "| mean_error     | median_error  | max_error | min_error     | mean_abs_error | median_abs_error | max_abs_error | min_abs_error | mean_squared_error | mean_percent_error | mean_abs_percent_error |\n",
      "+----------------+---------------+-----------+---------------+----------------+------------------+---------------+---------------+--------------------+--------------------+------------------------+\n",
      "| -0.00054359436 | -0.0010871887 | 0         | -0.0010871887 | 0.00054359436  | 0.0010871887     | 0.0010871887  | 0             | 0.00000059098966   | -0.000011396554    | 0.000011396554         |\n",
      "+----------------+---------------+-----------+---------------+----------------+------------------+---------------+---------------+--------------------+--------------------+------------------------+\n",
      "\n",
      "\n"
     ]
    },
    {
     "name": "stdout",
     "output_type": "stream",
     "text": [
      "==== Generate & Calibrate Setting ====\n",
      "scale:  [8]\n",
      "setting:  {\"run_args\":{\"tolerance\":{\"val\":0.0,\"scale\":1.0},\"input_scale\":8,\"param_scale\":8,\"scale_rebase_multiplier\":10,\"lookup_range\":[-1546,45056],\"logrows\":16,\"num_inner_cols\":2,\"variables\":[[\"batch_size\",1]],\"input_visibility\":{\"Hashed\":{\"hash_is_public\":true,\"outlets\":[]}},\"output_visibility\":\"Public\",\"param_visibility\":\"Private\",\"div_rebasing\":false,\"rebase_frac_zero_constants\":false,\"check_mode\":\"UNSAFE\"},\"num_rows\":14432,\"total_assignments\":6617,\"total_const_size\":1507,\"model_instance_shapes\":[[1],[1]],\"model_output_scales\":[0,8],\"model_input_scales\":[8],\"module_sizes\":{\"kzg\":[],\"poseidon\":[14432,[1]]},\"required_lookups\":[{\"GreaterThan\":{\"a\":0.0}},{\"Ln\":{\"scale\":256.0}},\"Abs\"],\"required_range_checks\":[],\"check_mode\":\"UNSAFE\",\"version\":\"9.1.0\",\"num_blinding_factors\":null,\"timestamp\":1709631663708}\n"
     ]
    }
   ],
   "source": [
    "# prover calculates settings, send to verifier\n",
    "_, prover_model = computation_to_model(computation, error)\n",
    "\n",
    "prover_gen_settings(data_path, selected_columns, sel_data_path, prover_model,prover_model_path, scales, \"resources\", settings_path)"
   ]
  },
  {
   "cell_type": "code",
   "execution_count": 9,
   "metadata": {},
   "outputs": [
    {
     "name": "stdout",
     "output_type": "stream",
     "text": [
      "==== setting up ezkl ====\n",
      "Time setup: 6.885586977005005 seconds\n",
      "=======================================\n",
      "==== Generating Witness ====\n",
      "witness boolean:  1.0\n",
      "witness result 1 : 47.69921875\n",
      "==== Generating Proof ====\n",
      "proof:  {'instances': [['ad297b8184503f0131009e1b94795f879c4560a1c673ff814dc0228dafd72103', '0100000000000000000000000000000000000000000000000000000000000000', 'b32f000000000000000000000000000000000000000000000000000000000000']], 'proof': '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', 'transcript_type': 'EVM'}\n",
      "Time gen prf: 8.429817914962769 seconds\n"
     ]
    }
   ],
   "source": [
    "# Here verifier & prover can concurrently call setup since all params are public to get pk.\n",
    "# Here write as verifier function to emphasize that verifier must calculate its own vk to be sure\n",
    "setup(verifier_model_path, verifier_compiled_model_path, settings_path,vk_path, pk_path )\n",
    "\n",
    "print(\"=======================================\")\n",
    "# Prover generates proof\n",
    "prover_gen_proof(prover_model_path, sel_data_path, witness_path, prover_compiled_model_path, settings_path, proof_path, pk_path)"
   ]
  },
  {
   "cell_type": "code",
   "execution_count": 10,
   "metadata": {},
   "outputs": [
    {
     "name": "stdout",
     "output_type": "stream",
     "text": [
      "Verifier gets result: [47.69921875]\n"
     ]
    }
   ],
   "source": [
    "# Verifier verifies\n",
    "res = verifier_verify(proof_path, settings_path, vk_path, selected_columns, data_commitment_path)\n",
    "print(\"Verifier gets result:\", res)"
   ]
  },
  {
   "cell_type": "code",
   "execution_count": null,
   "metadata": {},
   "outputs": [],
   "source": []
  }
 ],
 "metadata": {
  "kernelspec": {
   "display_name": "Python 3",
   "language": "python",
   "name": "python3"
  },
  "language_info": {
   "codemirror_mode": {
    "name": "ipython",
    "version": 3
   },
   "file_extension": ".py",
   "mimetype": "text/x-python",
   "name": "python",
   "nbconvert_exporter": "python",
   "pygments_lexer": "ipython3",
   "version": "3.11.4"
  },
  "orig_nbformat": 4
 },
 "nbformat": 4,
 "nbformat_minor": 2
}
