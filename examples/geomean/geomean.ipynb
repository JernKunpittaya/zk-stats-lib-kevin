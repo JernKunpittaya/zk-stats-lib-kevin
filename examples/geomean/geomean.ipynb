{
 "cells": [
  {
   "cell_type": "code",
   "execution_count": 1,
   "metadata": {},
   "outputs": [
    {
     "name": "stdout",
     "output_type": "stream",
     "text": [
      "Requirement already satisfied: ezkl==5.0.8 in /Library/Frameworks/Python.framework/Versions/3.10/lib/python3.10/site-packages (from -r ../../requirements.txt (line 1)) (5.0.8)\n",
      "Requirement already satisfied: torch in /Library/Frameworks/Python.framework/Versions/3.10/lib/python3.10/site-packages (from -r ../../requirements.txt (line 2)) (2.1.1)\n",
      "Requirement already satisfied: requests in /Library/Frameworks/Python.framework/Versions/3.10/lib/python3.10/site-packages (from -r ../../requirements.txt (line 3)) (2.31.0)\n",
      "Requirement already satisfied: scipy in /Library/Frameworks/Python.framework/Versions/3.10/lib/python3.10/site-packages (from -r ../../requirements.txt (line 4)) (1.11.4)\n",
      "Requirement already satisfied: numpy in /Library/Frameworks/Python.framework/Versions/3.10/lib/python3.10/site-packages (from -r ../../requirements.txt (line 5)) (1.26.2)\n",
      "Requirement already satisfied: matplotlib in /Library/Frameworks/Python.framework/Versions/3.10/lib/python3.10/site-packages (from -r ../../requirements.txt (line 6)) (3.8.2)\n",
      "Requirement already satisfied: statistics in /Library/Frameworks/Python.framework/Versions/3.10/lib/python3.10/site-packages (from -r ../../requirements.txt (line 7)) (1.0.3.5)\n",
      "Requirement already satisfied: onnx in /Library/Frameworks/Python.framework/Versions/3.10/lib/python3.10/site-packages (from -r ../../requirements.txt (line 8)) (1.15.0)\n",
      "Requirement already satisfied: filelock in /Library/Frameworks/Python.framework/Versions/3.10/lib/python3.10/site-packages (from torch->-r ../../requirements.txt (line 2)) (3.13.1)\n",
      "Requirement already satisfied: networkx in /Library/Frameworks/Python.framework/Versions/3.10/lib/python3.10/site-packages (from torch->-r ../../requirements.txt (line 2)) (3.2.1)\n",
      "Requirement already satisfied: fsspec in /Library/Frameworks/Python.framework/Versions/3.10/lib/python3.10/site-packages (from torch->-r ../../requirements.txt (line 2)) (2023.10.0)\n",
      "Requirement already satisfied: sympy in /Library/Frameworks/Python.framework/Versions/3.10/lib/python3.10/site-packages (from torch->-r ../../requirements.txt (line 2)) (1.12)\n",
      "Requirement already satisfied: typing-extensions in /Library/Frameworks/Python.framework/Versions/3.10/lib/python3.10/site-packages (from torch->-r ../../requirements.txt (line 2)) (4.8.0)\n",
      "Requirement already satisfied: jinja2 in /Library/Frameworks/Python.framework/Versions/3.10/lib/python3.10/site-packages (from torch->-r ../../requirements.txt (line 2)) (3.1.2)\n",
      "Requirement already satisfied: urllib3<3,>=1.21.1 in /Library/Frameworks/Python.framework/Versions/3.10/lib/python3.10/site-packages (from requests->-r ../../requirements.txt (line 3)) (2.1.0)\n",
      "Requirement already satisfied: certifi>=2017.4.17 in /Library/Frameworks/Python.framework/Versions/3.10/lib/python3.10/site-packages (from requests->-r ../../requirements.txt (line 3)) (2023.11.17)\n",
      "Requirement already satisfied: charset-normalizer<4,>=2 in /Library/Frameworks/Python.framework/Versions/3.10/lib/python3.10/site-packages (from requests->-r ../../requirements.txt (line 3)) (3.3.2)\n",
      "Requirement already satisfied: idna<4,>=2.5 in /Library/Frameworks/Python.framework/Versions/3.10/lib/python3.10/site-packages (from requests->-r ../../requirements.txt (line 3)) (3.6)\n",
      "Requirement already satisfied: cycler>=0.10 in /Library/Frameworks/Python.framework/Versions/3.10/lib/python3.10/site-packages (from matplotlib->-r ../../requirements.txt (line 6)) (0.12.1)\n",
      "Requirement already satisfied: kiwisolver>=1.3.1 in /Library/Frameworks/Python.framework/Versions/3.10/lib/python3.10/site-packages (from matplotlib->-r ../../requirements.txt (line 6)) (1.4.5)\n",
      "Requirement already satisfied: fonttools>=4.22.0 in /Library/Frameworks/Python.framework/Versions/3.10/lib/python3.10/site-packages (from matplotlib->-r ../../requirements.txt (line 6)) (4.45.1)\n",
      "Requirement already satisfied: packaging>=20.0 in /Users/jernkun/Library/Python/3.10/lib/python/site-packages (from matplotlib->-r ../../requirements.txt (line 6)) (23.2)\n",
      "Requirement already satisfied: python-dateutil>=2.7 in /Users/jernkun/Library/Python/3.10/lib/python/site-packages (from matplotlib->-r ../../requirements.txt (line 6)) (2.8.2)\n",
      "Requirement already satisfied: contourpy>=1.0.1 in /Library/Frameworks/Python.framework/Versions/3.10/lib/python3.10/site-packages (from matplotlib->-r ../../requirements.txt (line 6)) (1.2.0)\n",
      "Requirement already satisfied: pillow>=8 in /Library/Frameworks/Python.framework/Versions/3.10/lib/python3.10/site-packages (from matplotlib->-r ../../requirements.txt (line 6)) (10.1.0)\n",
      "Requirement already satisfied: pyparsing>=2.3.1 in /Library/Frameworks/Python.framework/Versions/3.10/lib/python3.10/site-packages (from matplotlib->-r ../../requirements.txt (line 6)) (3.1.1)\n",
      "Requirement already satisfied: docutils>=0.3 in /Library/Frameworks/Python.framework/Versions/3.10/lib/python3.10/site-packages (from statistics->-r ../../requirements.txt (line 7)) (0.20.1)\n",
      "Requirement already satisfied: protobuf>=3.20.2 in /Library/Frameworks/Python.framework/Versions/3.10/lib/python3.10/site-packages (from onnx->-r ../../requirements.txt (line 8)) (4.25.1)\n",
      "Requirement already satisfied: six>=1.5 in /Users/jernkun/Library/Python/3.10/lib/python/site-packages (from python-dateutil>=2.7->matplotlib->-r ../../requirements.txt (line 6)) (1.16.0)\n",
      "Requirement already satisfied: MarkupSafe>=2.0 in /Library/Frameworks/Python.framework/Versions/3.10/lib/python3.10/site-packages (from jinja2->torch->-r ../../requirements.txt (line 2)) (2.1.3)\n",
      "Requirement already satisfied: mpmath>=0.19 in /Library/Frameworks/Python.framework/Versions/3.10/lib/python3.10/site-packages (from sympy->torch->-r ../../requirements.txt (line 2)) (1.3.0)\n",
      "\u001b[33mWARNING: You are using pip version 21.2.3; however, version 23.3.1 is available.\n",
      "You should consider upgrading via the '/usr/local/bin/python3 -m pip install --upgrade pip' command.\u001b[0m\n",
      "Note: you may need to restart the kernel to use updated packages.\n"
     ]
    }
   ],
   "source": [
    "pip install -r ../../requirements.txt"
   ]
  },
  {
   "cell_type": "code",
   "execution_count": 1,
   "metadata": {},
   "outputs": [],
   "source": [
    "import ezkl\n",
    "import torch\n",
    "from torch import nn\n",
    "import json\n",
    "import os\n",
    "import time\n",
    "import scipy\n",
    "import numpy as np\n",
    "import matplotlib.pyplot as plt\n",
    "import statistics\n",
    "import math"
   ]
  },
  {
   "cell_type": "code",
   "execution_count": 2,
   "metadata": {},
   "outputs": [],
   "source": [
    "%run -i ../../core.py"
   ]
  },
  {
   "attachments": {},
   "cell_type": "markdown",
   "metadata": {},
   "source": []
  },
  {
   "cell_type": "code",
   "execution_count": 3,
   "metadata": {},
   "outputs": [],
   "source": [
    "# init path\n",
    "os.makedirs(os.path.dirname('shared/'), exist_ok=True)\n",
    "os.makedirs(os.path.dirname('prover/'), exist_ok=True)\n",
    "verifier_model_path = os.path.join('shared/verifier.onnx')\n",
    "prover_model_path = os.path.join('prover/prover.onnx')\n",
    "verifier_compiled_model_path = os.path.join('shared/verifier.compiled')\n",
    "prover_compiled_model_path = os.path.join('prover/prover.compiled')\n",
    "pk_path = os.path.join('shared/test.pk')\n",
    "vk_path = os.path.join('shared/test.vk')\n",
    "proof_path = os.path.join('shared/test.pf')\n",
    "settings_path = os.path.join('shared/settings.json')\n",
    "srs_path = os.path.join('shared/kzg.srs')\n",
    "witness_path = os.path.join('prover/witness.json')\n",
    "# this is private to prover since it contains actual data\n",
    "comb_data_path = os.path.join('prover/comb_data.json')"
   ]
  },
  {
   "attachments": {},
   "cell_type": "markdown",
   "metadata": {},
   "source": [
    "=======================  ZK-STATS FLOW ======================="
   ]
  },
  {
   "cell_type": "code",
   "execution_count": 4,
   "metadata": {},
   "outputs": [],
   "source": [
    "data_path = os.path.join('data.json')\n",
    "dummy_data_path = os.path.join('shared/dummy_data.json')\n",
    "\n",
    "f_raw_input = open(data_path, \"r\")\n",
    "data = json.loads(f_raw_input.read())[\"input_data\"][0]\n",
    "data_tensor = torch.reshape(torch.tensor(data),(1, len(data), 1))\n",
    "\n",
    "#  dummy data for data consumer: make the bound approx same as real data\n",
    "dummy_data = np.random.uniform(min(data), max(data), len(data))\n",
    "json.dump({\"input_data\":[dummy_data.tolist()]}, open(dummy_data_path, 'w'))\n",
    "\n",
    "dummy_data_tensor = torch.reshape(torch.tensor(dummy_data), (1, len(dummy_data),1 ))\n",
    "dummy_theory_output = torch.exp(torch.mean(torch.log(dummy_data_tensor)))\n",
    "\n"
   ]
  },
  {
   "cell_type": "code",
   "execution_count": 35,
   "metadata": {},
   "outputs": [
    {
     "name": "stderr",
     "output_type": "stream",
     "text": [
      "/var/folders/89/y9dw12v976ngdmqz4l7wbsnr0000gn/T/ipykernel_14012/2634772801.py:10: TracerWarning: torch.tensor results are registered as constants in the trace. You can safely ignore this warning if you use this function to create tensors out of constant variables that would be the same every time you call this function. In any other case, this might cause the trace to be incorrect.\n",
      "  return (torch.abs((torch.log(self.w)*X.size()[1])-torch.sum(torch.log(X)))<torch.log(torch.tensor(1.01)), self.w)\n"
     ]
    }
   ],
   "source": [
    "# Verifier/ data consumer side:\n",
    "class verifier_model(nn.Module):\n",
    "    def __init__(self):\n",
    "        super(verifier_model, self).__init__()\n",
    "        # w represents mean in this case\n",
    "        self.w = nn.Parameter(data = dummy_theory_output, requires_grad = False)\n",
    "\n",
    "    def forward(self,X):\n",
    "        # some expression of tolerance to error in the inference\n",
    "        return (torch.abs((torch.log(self.w)*X.size()[1])-torch.sum(torch.log(X)))<torch.log(torch.tensor(1.01)), self.w)\n",
    "\n",
    "verifier_define_calculation(verifier_model, verifier_model_path, [dummy_data_path])"
   ]
  },
  {
   "cell_type": "code",
   "execution_count": 36,
   "metadata": {},
   "outputs": [
    {
     "name": "stdout",
     "output_type": "stream",
     "text": [
      "Theory output:  tensor(47.6981)\n",
      "==== Generate & Calibrate Setting ====\n",
      "scale:  [10]\n",
      "setting:  {\"run_args\":{\"tolerance\":{\"val\":0.0,\"scale\":1.0},\"input_scale\":10,\"param_scale\":10,\"scale_rebase_multiplier\":10,\"lookup_range\":[-16,180224],\"logrows\":18,\"num_inner_cols\":1,\"variables\":[[\"batch_size\",1]],\"input_visibility\":{\"Hashed\":{\"hash_is_public\":true,\"outlets\":[]}},\"output_visibility\":\"Public\",\"param_visibility\":\"Private\"},\"num_rows\":14432,\"total_assignments\":906,\"total_const_size\":0,\"model_instance_shapes\":[[1],[1]],\"model_output_scales\":[0,10],\"model_input_scales\":[10],\"module_sizes\":{\"kzg\":[],\"poseidon\":[14432,[1]],\"elgamal\":[0,[0]]},\"required_lookups\":[\"Abs\",{\"Ln\":{\"scale\":1024.0}},{\"GreaterThan\":{\"a\":0.0}}],\"check_mode\":\"UNSAFE\",\"version\":\"5.0.8\",\"num_blinding_factors\":null}\n"
     ]
    },
    {
     "name": "stderr",
     "output_type": "stream",
     "text": [
      "/var/folders/89/y9dw12v976ngdmqz4l7wbsnr0000gn/T/ipykernel_14012/788883855.py:12: TracerWarning: torch.tensor results are registered as constants in the trace. You can safely ignore this warning if you use this function to create tensors out of constant variables that would be the same every time you call this function. In any other case, this might cause the trace to be incorrect.\n",
      "  return (torch.abs((torch.log(self.w)*X.size()[1])-torch.sum(torch.log(X)))<torch.log(torch.tensor(1.01)), self.w)\n"
     ]
    }
   ],
   "source": [
    "# prover calculates settings, send to verifier\n",
    "theory_output = torch.exp(torch.mean(torch.log(data_tensor)))\n",
    "print(\"Theory output: \", theory_output)\n",
    "class prover_model(nn.Module):\n",
    "    def __init__(self):\n",
    "        super(prover_model, self).__init__()\n",
    "        # w represents mean in this case\n",
    "        self.w = nn.Parameter(data = theory_output, requires_grad = False)\n",
    "\n",
    "    def forward(self,X):\n",
    "        # some expression of tolerance to error in the inference\n",
    "        return (torch.abs((torch.log(self.w)*X.size()[1])-torch.sum(torch.log(X)))<torch.log(torch.tensor(1.01)), self.w)\n",
    "\n",
    "\n",
    "prover_gen_settings([data_path], comb_data_path, prover_model,prover_model_path, [10], \"resources\", settings_path)"
   ]
  },
  {
   "cell_type": "code",
   "execution_count": 37,
   "metadata": {},
   "outputs": [
    {
     "name": "stderr",
     "output_type": "stream",
     "text": [
      "spawning module 0\n",
      "spawning module 2\n"
     ]
    },
    {
     "name": "stdout",
     "output_type": "stream",
     "text": [
      "==== setting up ezkl ====\n"
     ]
    },
    {
     "name": "stderr",
     "output_type": "stream",
     "text": [
      "spawning module 0\n",
      "spawning module 2\n"
     ]
    },
    {
     "name": "stdout",
     "output_type": "stream",
     "text": [
      "Time setup: 20.584895849227905 seconds\n",
      "=======================================\n",
      "Theory output:  tensor(47.6981)\n",
      "==== Generating Witness ====\n",
      "witness boolean:  1.0\n",
      "witness result 1 : 47.6982421875\n",
      "==== Generating Proof ====\n"
     ]
    },
    {
     "name": "stderr",
     "output_type": "stream",
     "text": [
      "spawning module 0\n",
      "spawning module 2\n"
     ]
    },
    {
     "name": "stdout",
     "output_type": "stream",
     "text": [
      "proof:  {'instances': [[[14672592657000597156, 2402501382455789823, 5345685197495592745, 3011024057811024003], [12436184717236109307, 3962172157175319849, 7381016538464732718, 1011752739694698287], [12156132031024860846, 9861177863383639274, 10629998272028772020, 2786626043251147566]]], 'proof': '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', 'transcript_type': 'EVM'}\n",
      "Time gen prf: 24.171605110168457 seconds\n"
     ]
    }
   ],
   "source": [
    "# Here verifier & prover can concurrently call setup since all params are public to get pk. \n",
    "# Here write as verifier function to emphasize that verifier must calculate its own vk to be sure\n",
    "verifier_setup(verifier_model_path, verifier_compiled_model_path, settings_path, srs_path,vk_path, pk_path )\n",
    "\n",
    "print(\"=======================================\")\n",
    "# Prover generates proof\n",
    "print(\"Theory output: \", theory_output)\n",
    "prover_gen_proof(prover_model_path, comb_data_path, witness_path, prover_compiled_model_path, settings_path, proof_path, pk_path, srs_path)"
   ]
  },
  {
   "cell_type": "code",
   "execution_count": 38,
   "metadata": {},
   "outputs": [
    {
     "name": "stdout",
     "output_type": "stream",
     "text": [
      "num_inputs:  1\n",
      "prf instances:  [[[14672592657000597156, 2402501382455789823, 5345685197495592745, 3011024057811024003], [12436184717236109307, 3962172157175319849, 7381016538464732718, 1011752739694698287], [12156132031024860846, 9861177863383639274, 10629998272028772020, 2786626043251147566]]]\n",
      "proof boolean:  1.0\n",
      "proof result 1 : 47.6982421875\n",
      "verified\n"
     ]
    }
   ],
   "source": [
    "# Verifier verifies\n",
    "verifier_verify(proof_path, settings_path, vk_path, srs_path)"
   ]
  },
  {
   "cell_type": "code",
   "execution_count": null,
   "metadata": {},
   "outputs": [],
   "source": []
  },
  {
   "cell_type": "code",
   "execution_count": null,
   "metadata": {},
   "outputs": [],
   "source": []
  }
 ],
 "metadata": {
  "kernelspec": {
   "display_name": "Python 3",
   "language": "python",
   "name": "python3"
  },
  "language_info": {
   "codemirror_mode": {
    "name": "ipython",
    "version": 3
   },
   "file_extension": ".py",
   "mimetype": "text/x-python",
   "name": "python",
   "nbconvert_exporter": "python",
   "pygments_lexer": "ipython3",
   "version": "3.10.0"
  },
  "orig_nbformat": 4
 },
 "nbformat": 4,
 "nbformat_minor": 2
}
