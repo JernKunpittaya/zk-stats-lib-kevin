{
 "cells": [
  {
   "cell_type": "code",
   "execution_count": 1,
   "metadata": {},
   "outputs": [
    {
     "name": "stdout",
     "output_type": "stream",
     "text": [
      "Requirement already satisfied: ezkl==7.0.0 in /Users/mhchia/Library/Caches/pypoetry/virtualenvs/zkstats-brXmXluj-py3.12/lib/python3.12/site-packages (from -r ../../requirements.txt (line 1)) (7.0.0)\n",
      "Requirement already satisfied: torch in /Users/mhchia/Library/Caches/pypoetry/virtualenvs/zkstats-brXmXluj-py3.12/lib/python3.12/site-packages (from -r ../../requirements.txt (line 2)) (2.2.0)\n",
      "Requirement already satisfied: requests in /Users/mhchia/Library/Caches/pypoetry/virtualenvs/zkstats-brXmXluj-py3.12/lib/python3.12/site-packages (from -r ../../requirements.txt (line 3)) (2.31.0)\n",
      "Requirement already satisfied: scipy in /Users/mhchia/Library/Caches/pypoetry/virtualenvs/zkstats-brXmXluj-py3.12/lib/python3.12/site-packages (from -r ../../requirements.txt (line 4)) (1.12.0)\n",
      "Requirement already satisfied: numpy in /Users/mhchia/Library/Caches/pypoetry/virtualenvs/zkstats-brXmXluj-py3.12/lib/python3.12/site-packages (from -r ../../requirements.txt (line 5)) (1.26.3)\n",
      "Requirement already satisfied: matplotlib in /Users/mhchia/Library/Caches/pypoetry/virtualenvs/zkstats-brXmXluj-py3.12/lib/python3.12/site-packages (from -r ../../requirements.txt (line 6)) (3.8.2)\n",
      "Requirement already satisfied: statistics in /Users/mhchia/Library/Caches/pypoetry/virtualenvs/zkstats-brXmXluj-py3.12/lib/python3.12/site-packages (from -r ../../requirements.txt (line 7)) (1.0.3.5)\n",
      "Requirement already satisfied: onnx in /Users/mhchia/Library/Caches/pypoetry/virtualenvs/zkstats-brXmXluj-py3.12/lib/python3.12/site-packages (from -r ../../requirements.txt (line 8)) (1.15.0)\n",
      "Requirement already satisfied: filelock in /Users/mhchia/Library/Caches/pypoetry/virtualenvs/zkstats-brXmXluj-py3.12/lib/python3.12/site-packages (from torch->-r ../../requirements.txt (line 2)) (3.13.1)\n",
      "Requirement already satisfied: typing-extensions>=4.8.0 in /Users/mhchia/Library/Caches/pypoetry/virtualenvs/zkstats-brXmXluj-py3.12/lib/python3.12/site-packages (from torch->-r ../../requirements.txt (line 2)) (4.9.0)\n",
      "Requirement already satisfied: sympy in /Users/mhchia/Library/Caches/pypoetry/virtualenvs/zkstats-brXmXluj-py3.12/lib/python3.12/site-packages (from torch->-r ../../requirements.txt (line 2)) (1.12)\n",
      "Requirement already satisfied: networkx in /Users/mhchia/Library/Caches/pypoetry/virtualenvs/zkstats-brXmXluj-py3.12/lib/python3.12/site-packages (from torch->-r ../../requirements.txt (line 2)) (3.2.1)\n",
      "Requirement already satisfied: jinja2 in /Users/mhchia/Library/Caches/pypoetry/virtualenvs/zkstats-brXmXluj-py3.12/lib/python3.12/site-packages (from torch->-r ../../requirements.txt (line 2)) (3.1.3)\n",
      "Requirement already satisfied: fsspec in /Users/mhchia/Library/Caches/pypoetry/virtualenvs/zkstats-brXmXluj-py3.12/lib/python3.12/site-packages (from torch->-r ../../requirements.txt (line 2)) (2023.12.2)\n",
      "Requirement already satisfied: charset-normalizer<4,>=2 in /Users/mhchia/Library/Caches/pypoetry/virtualenvs/zkstats-brXmXluj-py3.12/lib/python3.12/site-packages (from requests->-r ../../requirements.txt (line 3)) (3.3.2)\n",
      "Requirement already satisfied: idna<4,>=2.5 in /Users/mhchia/Library/Caches/pypoetry/virtualenvs/zkstats-brXmXluj-py3.12/lib/python3.12/site-packages (from requests->-r ../../requirements.txt (line 3)) (3.6)\n",
      "Requirement already satisfied: urllib3<3,>=1.21.1 in /Users/mhchia/Library/Caches/pypoetry/virtualenvs/zkstats-brXmXluj-py3.12/lib/python3.12/site-packages (from requests->-r ../../requirements.txt (line 3)) (2.2.0)\n",
      "Requirement already satisfied: certifi>=2017.4.17 in /Users/mhchia/Library/Caches/pypoetry/virtualenvs/zkstats-brXmXluj-py3.12/lib/python3.12/site-packages (from requests->-r ../../requirements.txt (line 3)) (2024.2.2)\n",
      "Requirement already satisfied: contourpy>=1.0.1 in /Users/mhchia/Library/Caches/pypoetry/virtualenvs/zkstats-brXmXluj-py3.12/lib/python3.12/site-packages (from matplotlib->-r ../../requirements.txt (line 6)) (1.2.0)\n",
      "Requirement already satisfied: cycler>=0.10 in /Users/mhchia/Library/Caches/pypoetry/virtualenvs/zkstats-brXmXluj-py3.12/lib/python3.12/site-packages (from matplotlib->-r ../../requirements.txt (line 6)) (0.12.1)\n",
      "Requirement already satisfied: fonttools>=4.22.0 in /Users/mhchia/Library/Caches/pypoetry/virtualenvs/zkstats-brXmXluj-py3.12/lib/python3.12/site-packages (from matplotlib->-r ../../requirements.txt (line 6)) (4.47.2)\n",
      "Requirement already satisfied: kiwisolver>=1.3.1 in /Users/mhchia/Library/Caches/pypoetry/virtualenvs/zkstats-brXmXluj-py3.12/lib/python3.12/site-packages (from matplotlib->-r ../../requirements.txt (line 6)) (1.4.5)\n",
      "Requirement already satisfied: packaging>=20.0 in /Users/mhchia/Library/Caches/pypoetry/virtualenvs/zkstats-brXmXluj-py3.12/lib/python3.12/site-packages (from matplotlib->-r ../../requirements.txt (line 6)) (23.2)\n",
      "Requirement already satisfied: pillow>=8 in /Users/mhchia/Library/Caches/pypoetry/virtualenvs/zkstats-brXmXluj-py3.12/lib/python3.12/site-packages (from matplotlib->-r ../../requirements.txt (line 6)) (10.2.0)\n",
      "Requirement already satisfied: pyparsing>=2.3.1 in /Users/mhchia/Library/Caches/pypoetry/virtualenvs/zkstats-brXmXluj-py3.12/lib/python3.12/site-packages (from matplotlib->-r ../../requirements.txt (line 6)) (3.1.1)\n",
      "Requirement already satisfied: python-dateutil>=2.7 in /Users/mhchia/Library/Caches/pypoetry/virtualenvs/zkstats-brXmXluj-py3.12/lib/python3.12/site-packages (from matplotlib->-r ../../requirements.txt (line 6)) (2.8.2)\n",
      "Requirement already satisfied: docutils>=0.3 in /Users/mhchia/Library/Caches/pypoetry/virtualenvs/zkstats-brXmXluj-py3.12/lib/python3.12/site-packages (from statistics->-r ../../requirements.txt (line 7)) (0.20.1)\n",
      "Requirement already satisfied: protobuf>=3.20.2 in /Users/mhchia/Library/Caches/pypoetry/virtualenvs/zkstats-brXmXluj-py3.12/lib/python3.12/site-packages (from onnx->-r ../../requirements.txt (line 8)) (4.25.2)\n",
      "Requirement already satisfied: six>=1.5 in /Users/mhchia/Library/Caches/pypoetry/virtualenvs/zkstats-brXmXluj-py3.12/lib/python3.12/site-packages (from python-dateutil>=2.7->matplotlib->-r ../../requirements.txt (line 6)) (1.16.0)\n",
      "Requirement already satisfied: MarkupSafe>=2.0 in /Users/mhchia/Library/Caches/pypoetry/virtualenvs/zkstats-brXmXluj-py3.12/lib/python3.12/site-packages (from jinja2->torch->-r ../../requirements.txt (line 2)) (2.1.4)\n",
      "Requirement already satisfied: mpmath>=0.19 in /Users/mhchia/Library/Caches/pypoetry/virtualenvs/zkstats-brXmXluj-py3.12/lib/python3.12/site-packages (from sympy->torch->-r ../../requirements.txt (line 2)) (1.3.0)\n",
      "\n",
      "\u001b[1m[\u001b[0m\u001b[34;49mnotice\u001b[0m\u001b[1;39;49m]\u001b[0m\u001b[39;49m A new release of pip is available: \u001b[0m\u001b[31;49m23.3.1\u001b[0m\u001b[39;49m -> \u001b[0m\u001b[32;49m23.3.2\u001b[0m\n",
      "\u001b[1m[\u001b[0m\u001b[34;49mnotice\u001b[0m\u001b[1;39;49m]\u001b[0m\u001b[39;49m To update, run: \u001b[0m\u001b[32;49mpip install --upgrade pip\u001b[0m\n",
      "Note: you may need to restart the kernel to use updated packages.\n"
     ]
    }
   ],
   "source": [
    "pip install -r ../../requirements.txt"
   ]
  },
  {
   "cell_type": "code",
   "execution_count": 2,
   "metadata": {},
   "outputs": [],
   "source": [
    "import ezkl\n",
    "import torch\n",
    "from torch import nn\n",
    "import json\n",
    "import os\n",
    "import time\n",
    "import scipy\n",
    "import numpy as np\n",
    "import matplotlib.pyplot as plt\n",
    "import statistics\n",
    "import math"
   ]
  },
  {
   "cell_type": "code",
   "execution_count": 3,
   "metadata": {},
   "outputs": [],
   "source": [
    "%run -i ../../zkstats/core.py"
   ]
  },
  {
   "attachments": {},
   "cell_type": "markdown",
   "metadata": {},
   "source": []
  },
  {
   "cell_type": "code",
   "execution_count": 4,
   "metadata": {},
   "outputs": [],
   "source": [
    "# init path\n",
    "os.makedirs(os.path.dirname('shared/'), exist_ok=True)\n",
    "os.makedirs(os.path.dirname('prover/'), exist_ok=True)\n",
    "verifier_model_path = os.path.join('shared/verifier.onnx')\n",
    "prover_model_path = os.path.join('prover/prover.onnx')\n",
    "verifier_compiled_model_path = os.path.join('shared/verifier.compiled')\n",
    "prover_compiled_model_path = os.path.join('prover/prover.compiled')\n",
    "pk_path = os.path.join('shared/test.pk')\n",
    "vk_path = os.path.join('shared/test.vk')\n",
    "proof_path = os.path.join('shared/test.pf')\n",
    "settings_path = os.path.join('shared/settings.json')\n",
    "srs_path = os.path.join('shared/kzg.srs')\n",
    "witness_path = os.path.join('prover/witness.json')\n",
    "# this is private to prover since it contains actual data\n",
    "sel_data_path = os.path.join('prover/sel_data.json')\n",
    "# this is just dummy random value\n",
    "sel_dummy_data_path = os.path.join('shared/sel_dummy_data.json')"
   ]
  },
  {
   "attachments": {},
   "cell_type": "markdown",
   "metadata": {},
   "source": [
    "=======================  ZK-STATS FLOW ======================="
   ]
  },
  {
   "cell_type": "code",
   "execution_count": 5,
   "metadata": {},
   "outputs": [],
   "source": [
    "data_path = os.path.join('data.json')\n",
    "dummy_data_path = os.path.join('shared/dummy_data.json')\n",
    "\n",
    "data = json.loads(open(data_path, \"r\").read())['col_name']\n",
    "data_tensor = torch.reshape(torch.tensor(data),(1,-1, 1))\n",
    "\n",
    "create_dummy(data_path, dummy_data_path)\n",
    "dummy_data = json.loads(open(dummy_data_path, \"r\").read())['col_name']\n",
    "dummy_data_tensor = torch.reshape(torch.tensor(dummy_data), (1,-1,1))\n",
    "\n",
    "dummy_theory_output = torch.exp(torch.mean(torch.log(dummy_data_tensor)))\n",
    "theory_output = torch.exp(torch.mean(torch.log(data_tensor)))\n",
    "\n"
   ]
  },
  {
   "cell_type": "code",
   "execution_count": 6,
   "metadata": {},
   "outputs": [],
   "source": [
    "scales = [8]\n",
    "selected_columns = ['col_name']\n",
    "commitment_maps = get_data_commitment_maps(data_path, scales)"
   ]
  },
  {
   "cell_type": "code",
   "execution_count": 7,
   "metadata": {},
   "outputs": [
    {
     "name": "stderr",
     "output_type": "stream",
     "text": [
      "/var/folders/t3/5psrvr1x0w1_6n9kx2n7d9700000gn/T/ipykernel_38873/3257546855.py:8: TracerWarning: torch.tensor results are registered as constants in the trace. You can safely ignore this warning if you use this function to create tensors out of constant variables that would be the same every time you call this function. In any other case, this might cause the trace to be incorrect.\n",
      "  return (torch.tensor(1), torch.exp(torch.mean(torch.log(X))))\n"
     ]
    }
   ],
   "source": [
    "# Verifier/ data consumer side:\n",
    "class verifier_model(nn.Module):\n",
    "    def __init__(self):\n",
    "        super(verifier_model, self).__init__()\n",
    "        # self.w = nn.Parameter(data = dummy_theory_output, requires_grad = False)\n",
    "\n",
    "    def forward(self,X):\n",
    "        return (torch.tensor(1), torch.exp(torch.mean(torch.log(X))))\n",
    "\n",
    "\n",
    "verifier_define_calculation(dummy_data_path, selected_columns,sel_dummy_data_path,verifier_model, verifier_model_path)"
   ]
  },
  {
   "cell_type": "code",
   "execution_count": 8,
   "metadata": {},
   "outputs": [
    {
     "name": "stdout",
     "output_type": "stream",
     "text": [
      "Theory output:  tensor(47.6981)\n",
      "==== Generate & Calibrate Setting ====\n",
      "scale:  [8]\n",
      "setting:  {\"run_args\":{\"tolerance\":{\"val\":0.0,\"scale\":1.0},\"input_scale\":8,\"param_scale\":8,\"scale_rebase_multiplier\":10,\"lookup_range\":[0,593654],\"logrows\":20,\"num_inner_cols\":2,\"variables\":[[\"batch_size\",1]],\"input_visibility\":{\"Hashed\":{\"hash_is_public\":true,\"outlets\":[]}},\"output_visibility\":\"Public\",\"param_visibility\":\"Private\"},\"num_rows\":14432,\"total_assignments\":905,\"total_const_size\":0,\"model_instance_shapes\":[[1],[1]],\"model_output_scales\":[0,16],\"model_input_scales\":[8],\"module_sizes\":{\"kzg\":[],\"poseidon\":[14432,[1]],\"elgamal\":[0,[0]]},\"required_lookups\":[{\"Recip\":{\"scale\":256.0}},{\"Ln\":{\"scale\":256.0}},{\"Exp\":{\"scale\":65536.0}}],\"check_mode\":\"UNSAFE\",\"version\":\"7.0.0\",\"num_blinding_factors\":null}\n"
     ]
    },
    {
     "name": "stderr",
     "output_type": "stream",
     "text": [
      "/var/folders/t3/5psrvr1x0w1_6n9kx2n7d9700000gn/T/ipykernel_38873/4202400027.py:12: TracerWarning: torch.tensor results are registered as constants in the trace. You can safely ignore this warning if you use this function to create tensors out of constant variables that would be the same every time you call this function. In any other case, this might cause the trace to be incorrect.\n",
      "  return (torch.tensor(1), torch.exp(torch.mean(torch.log(X))))\n"
     ]
    }
   ],
   "source": [
    "# prover calculates settings, send to verifier\n",
    "# In non-linearity, scale greatly affects lookup size\n",
    "theory_output = torch.exp(torch.mean(torch.log(data_tensor)))\n",
    "print(\"Theory output: \", theory_output)\n",
    "class prover_model(nn.Module):\n",
    "    def __init__(self):\n",
    "        super(prover_model, self).__init__()\n",
    "        # w represents mean in this case\n",
    "        # self.w = nn.Parameter(data = theory_output, requires_grad = False)\n",
    "\n",
    "    def forward(self,X):\n",
    "        return (torch.tensor(1), torch.exp(torch.mean(torch.log(X))))\n",
    "\n",
    "\n",
    "prover_gen_settings(data_path, selected_columns, sel_data_path, prover_model,prover_model_path, scales, \"resources\", settings_path)"
   ]
  },
  {
   "cell_type": "code",
   "execution_count": 9,
   "metadata": {},
   "outputs": [
    {
     "name": "stdout",
     "output_type": "stream",
     "text": [
      "==== setting up ezkl ===="
     ]
    },
    {
     "name": "stderr",
     "output_type": "stream",
     "text": [
      "spawning module 0\n",
      "spawning module 2\n"
     ]
    },
    {
     "name": "stdout",
     "output_type": "stream",
     "text": [
      "\n"
     ]
    },
    {
     "name": "stderr",
     "output_type": "stream",
     "text": [
      "spawning module 0\n",
      "spawning module 2\n"
     ]
    },
    {
     "name": "stdout",
     "output_type": "stream",
     "text": [
      "Time setup: 245.56888508796692 seconds\n",
      "=======================================\n",
      "Theory output:  tensor(47.6981)\n",
      "==== Generating Witness ====\n",
      "witness boolean:  1.0\n",
      "witness result 1 : 92.68629455566406\n",
      "==== Generating Proof ====\n"
     ]
    },
    {
     "name": "stderr",
     "output_type": "stream",
     "text": [
      "spawning module 0\n",
      "spawning module 2\n"
     ]
    },
    {
     "name": "stdout",
     "output_type": "stream",
     "text": [
      "proof:  {'instances': [[[12773529019820117503, 7223165032241168505, 6388811546753741567, 1325363978837834469], [12436184717236109307, 3962172157175319849, 7381016538464732718, 1011752739694698287], [9340507686675262708, 12576478094795452846, 16595392862476743742, 1007129139500821923]]], 'proof': '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', 'transcript_type': 'EVM'}\n",
      "Time gen prf: 364.6829569339752 seconds\n"
     ]
    }
   ],
   "source": [
    "# Here verifier & prover can concurrently call setup since all params are public to get pk.\n",
    "# Here write as verifier function to emphasize that verifier must calculate its own vk to be sure\n",
    "setup(verifier_model_path, verifier_compiled_model_path, settings_path,vk_path, pk_path )\n",
    "\n",
    "print(\"=======================================\")\n",
    "# Prover generates proof\n",
    "print(\"Theory output: \", theory_output)\n",
    "# We can see here that it took huge resource, yet still inaccurate\n",
    "prover_gen_proof(prover_model_path, sel_data_path, witness_path, prover_compiled_model_path, settings_path, proof_path, pk_path)"
   ]
  },
  {
   "cell_type": "code",
   "execution_count": 10,
   "metadata": {},
   "outputs": [
    {
     "data": {
      "text/plain": [
       "92.68629455566406"
      ]
     },
     "execution_count": 10,
     "metadata": {},
     "output_type": "execute_result"
    }
   ],
   "source": [
    "# Verifier verifies\n",
    "verifier_verify(proof_path, settings_path, vk_path, selected_columns, commitment_maps)"
   ]
  },
  {
   "cell_type": "code",
   "execution_count": null,
   "metadata": {},
   "outputs": [],
   "source": []
  },
  {
   "cell_type": "code",
   "execution_count": null,
   "metadata": {},
   "outputs": [],
   "source": []
  }
 ],
 "metadata": {
  "kernelspec": {
   "display_name": "Python 3",
   "language": "python",
   "name": "python3"
  },
  "language_info": {
   "codemirror_mode": {
    "name": "ipython",
    "version": 3
   },
   "file_extension": ".py",
   "mimetype": "text/x-python",
   "name": "python",
   "nbconvert_exporter": "python",
   "pygments_lexer": "ipython3",
   "version": "3.12.1"
  },
  "orig_nbformat": 4
 },
 "nbformat": 4,
 "nbformat_minor": 2
}
