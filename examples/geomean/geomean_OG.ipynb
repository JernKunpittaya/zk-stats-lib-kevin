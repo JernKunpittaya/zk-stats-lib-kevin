{
 "cells": [
  {
   "cell_type": "code",
   "execution_count": 1,
   "metadata": {},
   "outputs": [
    {
     "name": "stdout",
     "output_type": "stream",
     "text": [
      "Requirement already satisfied: ezkl==5.4.2 in /Library/Frameworks/Python.framework/Versions/3.10/lib/python3.10/site-packages (from -r ../../requirements.txt (line 1)) (5.4.2)\n",
      "Requirement already satisfied: torch in /Library/Frameworks/Python.framework/Versions/3.10/lib/python3.10/site-packages (from -r ../../requirements.txt (line 2)) (2.1.1)\n",
      "Requirement already satisfied: requests in /Library/Frameworks/Python.framework/Versions/3.10/lib/python3.10/site-packages (from -r ../../requirements.txt (line 3)) (2.31.0)\n",
      "Requirement already satisfied: scipy in /Library/Frameworks/Python.framework/Versions/3.10/lib/python3.10/site-packages (from -r ../../requirements.txt (line 4)) (1.11.4)\n",
      "Requirement already satisfied: numpy in /Library/Frameworks/Python.framework/Versions/3.10/lib/python3.10/site-packages (from -r ../../requirements.txt (line 5)) (1.26.2)\n",
      "Requirement already satisfied: matplotlib in /Library/Frameworks/Python.framework/Versions/3.10/lib/python3.10/site-packages (from -r ../../requirements.txt (line 6)) (3.8.2)\n",
      "Requirement already satisfied: statistics in /Library/Frameworks/Python.framework/Versions/3.10/lib/python3.10/site-packages (from -r ../../requirements.txt (line 7)) (1.0.3.5)\n",
      "Requirement already satisfied: onnx in /Library/Frameworks/Python.framework/Versions/3.10/lib/python3.10/site-packages (from -r ../../requirements.txt (line 8)) (1.15.0)\n",
      "Requirement already satisfied: filelock in /Library/Frameworks/Python.framework/Versions/3.10/lib/python3.10/site-packages (from torch->-r ../../requirements.txt (line 2)) (3.13.1)\n",
      "Requirement already satisfied: networkx in /Library/Frameworks/Python.framework/Versions/3.10/lib/python3.10/site-packages (from torch->-r ../../requirements.txt (line 2)) (3.2.1)\n",
      "Requirement already satisfied: jinja2 in /Library/Frameworks/Python.framework/Versions/3.10/lib/python3.10/site-packages (from torch->-r ../../requirements.txt (line 2)) (3.1.2)\n",
      "Requirement already satisfied: fsspec in /Library/Frameworks/Python.framework/Versions/3.10/lib/python3.10/site-packages (from torch->-r ../../requirements.txt (line 2)) (2023.10.0)\n",
      "Requirement already satisfied: typing-extensions in /Library/Frameworks/Python.framework/Versions/3.10/lib/python3.10/site-packages (from torch->-r ../../requirements.txt (line 2)) (4.8.0)\n",
      "Requirement already satisfied: sympy in /Library/Frameworks/Python.framework/Versions/3.10/lib/python3.10/site-packages (from torch->-r ../../requirements.txt (line 2)) (1.12)\n",
      "Requirement already satisfied: urllib3<3,>=1.21.1 in /Library/Frameworks/Python.framework/Versions/3.10/lib/python3.10/site-packages (from requests->-r ../../requirements.txt (line 3)) (2.1.0)\n",
      "Requirement already satisfied: charset-normalizer<4,>=2 in /Library/Frameworks/Python.framework/Versions/3.10/lib/python3.10/site-packages (from requests->-r ../../requirements.txt (line 3)) (3.3.2)\n",
      "Requirement already satisfied: idna<4,>=2.5 in /Library/Frameworks/Python.framework/Versions/3.10/lib/python3.10/site-packages (from requests->-r ../../requirements.txt (line 3)) (3.6)\n",
      "Requirement already satisfied: certifi>=2017.4.17 in /Library/Frameworks/Python.framework/Versions/3.10/lib/python3.10/site-packages (from requests->-r ../../requirements.txt (line 3)) (2023.11.17)\n",
      "Requirement already satisfied: cycler>=0.10 in /Library/Frameworks/Python.framework/Versions/3.10/lib/python3.10/site-packages (from matplotlib->-r ../../requirements.txt (line 6)) (0.12.1)\n",
      "Requirement already satisfied: packaging>=20.0 in /Users/jernkun/Library/Python/3.10/lib/python/site-packages (from matplotlib->-r ../../requirements.txt (line 6)) (23.2)\n",
      "Requirement already satisfied: pillow>=8 in /Library/Frameworks/Python.framework/Versions/3.10/lib/python3.10/site-packages (from matplotlib->-r ../../requirements.txt (line 6)) (10.1.0)\n",
      "Requirement already satisfied: contourpy>=1.0.1 in /Library/Frameworks/Python.framework/Versions/3.10/lib/python3.10/site-packages (from matplotlib->-r ../../requirements.txt (line 6)) (1.2.0)\n",
      "Requirement already satisfied: kiwisolver>=1.3.1 in /Library/Frameworks/Python.framework/Versions/3.10/lib/python3.10/site-packages (from matplotlib->-r ../../requirements.txt (line 6)) (1.4.5)\n",
      "Requirement already satisfied: fonttools>=4.22.0 in /Library/Frameworks/Python.framework/Versions/3.10/lib/python3.10/site-packages (from matplotlib->-r ../../requirements.txt (line 6)) (4.45.1)\n",
      "Requirement already satisfied: python-dateutil>=2.7 in /Users/jernkun/Library/Python/3.10/lib/python/site-packages (from matplotlib->-r ../../requirements.txt (line 6)) (2.8.2)\n",
      "Requirement already satisfied: pyparsing>=2.3.1 in /Library/Frameworks/Python.framework/Versions/3.10/lib/python3.10/site-packages (from matplotlib->-r ../../requirements.txt (line 6)) (3.1.1)\n",
      "Requirement already satisfied: docutils>=0.3 in /Library/Frameworks/Python.framework/Versions/3.10/lib/python3.10/site-packages (from statistics->-r ../../requirements.txt (line 7)) (0.20.1)\n",
      "Requirement already satisfied: protobuf>=3.20.2 in /Library/Frameworks/Python.framework/Versions/3.10/lib/python3.10/site-packages (from onnx->-r ../../requirements.txt (line 8)) (4.25.1)\n",
      "Requirement already satisfied: six>=1.5 in /Users/jernkun/Library/Python/3.10/lib/python/site-packages (from python-dateutil>=2.7->matplotlib->-r ../../requirements.txt (line 6)) (1.16.0)\n",
      "Requirement already satisfied: MarkupSafe>=2.0 in /Library/Frameworks/Python.framework/Versions/3.10/lib/python3.10/site-packages (from jinja2->torch->-r ../../requirements.txt (line 2)) (2.1.3)\n",
      "Requirement already satisfied: mpmath>=0.19 in /Library/Frameworks/Python.framework/Versions/3.10/lib/python3.10/site-packages (from sympy->torch->-r ../../requirements.txt (line 2)) (1.3.0)\n",
      "\u001b[33mWARNING: You are using pip version 21.2.3; however, version 23.3.1 is available.\n",
      "You should consider upgrading via the '/usr/local/bin/python3 -m pip install --upgrade pip' command.\u001b[0m\n",
      "Note: you may need to restart the kernel to use updated packages.\n"
     ]
    }
   ],
   "source": [
    "pip install -r ../../requirements.txt"
   ]
  },
  {
   "cell_type": "code",
   "execution_count": 16,
   "metadata": {},
   "outputs": [],
   "source": [
    "import ezkl\n",
    "import torch\n",
    "from torch import nn\n",
    "import json\n",
    "import os\n",
    "import time\n",
    "import scipy\n",
    "import numpy as np\n",
    "import matplotlib.pyplot as plt\n",
    "import statistics\n",
    "import math"
   ]
  },
  {
   "cell_type": "code",
   "execution_count": 17,
   "metadata": {},
   "outputs": [],
   "source": [
    "%run -i ../../core.py"
   ]
  },
  {
   "attachments": {},
   "cell_type": "markdown",
   "metadata": {},
   "source": []
  },
  {
   "cell_type": "code",
   "execution_count": 18,
   "metadata": {},
   "outputs": [],
   "source": [
    "# init path\n",
    "os.makedirs(os.path.dirname('shared/'), exist_ok=True)\n",
    "os.makedirs(os.path.dirname('prover/'), exist_ok=True)\n",
    "verifier_model_path = os.path.join('shared/verifier.onnx')\n",
    "prover_model_path = os.path.join('prover/prover.onnx')\n",
    "verifier_compiled_model_path = os.path.join('shared/verifier.compiled')\n",
    "prover_compiled_model_path = os.path.join('prover/prover.compiled')\n",
    "pk_path = os.path.join('shared/test.pk')\n",
    "vk_path = os.path.join('shared/test.vk')\n",
    "proof_path = os.path.join('shared/test.pf')\n",
    "settings_path = os.path.join('shared/settings.json')\n",
    "srs_path = os.path.join('shared/kzg.srs')\n",
    "witness_path = os.path.join('prover/witness.json')\n",
    "# this is private to prover since it contains actual data\n",
    "comb_data_path = os.path.join('prover/comb_data.json')"
   ]
  },
  {
   "attachments": {},
   "cell_type": "markdown",
   "metadata": {},
   "source": [
    "=======================  ZK-STATS FLOW ======================="
   ]
  },
  {
   "cell_type": "code",
   "execution_count": 19,
   "metadata": {},
   "outputs": [],
   "source": [
    "data_path = os.path.join('data.json')\n",
    "dummy_data_path = os.path.join('shared/dummy_data.json')\n",
    "\n",
    "f_raw_input = open(data_path, \"r\")\n",
    "data = json.loads(f_raw_input.read())[\"input_data\"][0]\n",
    "data_tensor = torch.reshape(torch.tensor(data),(1, len(data), 1))\n",
    "\n",
    "\n",
    "dummy_data = np.round(np.random.uniform(1,10,len(data)),1)\n",
    "json.dump({\"input_data\":[dummy_data.tolist()]}, open(dummy_data_path, 'w'))\n",
    "\n",
    "dummy_data_tensor = torch.reshape(torch.tensor(dummy_data), (1, len(dummy_data),1 ))\n",
    "dummy_theory_output = torch.exp(torch.mean(torch.log(dummy_data_tensor)))\n",
    "\n"
   ]
  },
  {
   "cell_type": "code",
   "execution_count": 20,
   "metadata": {},
   "outputs": [
    {
     "name": "stderr",
     "output_type": "stream",
     "text": [
      "/var/folders/89/y9dw12v976ngdmqz4l7wbsnr0000gn/T/ipykernel_63327/2554060029.py:8: TracerWarning: torch.tensor results are registered as constants in the trace. You can safely ignore this warning if you use this function to create tensors out of constant variables that would be the same every time you call this function. In any other case, this might cause the trace to be incorrect.\n",
      "  return (torch.tensor(1), torch.exp(torch.mean(torch.log(X))))\n"
     ]
    }
   ],
   "source": [
    "# Verifier/ data consumer side:\n",
    "class verifier_model(nn.Module):\n",
    "    def __init__(self):\n",
    "        super(verifier_model, self).__init__()\n",
    "        # self.w = nn.Parameter(data = dummy_theory_output, requires_grad = False)\n",
    "\n",
    "    def forward(self,X):\n",
    "        return (torch.tensor(1), torch.exp(torch.mean(torch.log(X))))\n",
    "        return (torch.abs((torch.log(self.w)*X.size()[1])-torch.sum(torch.log(X)))<=torch.log(torch.tensor(1.01)), self.w)\n",
    "\n",
    "verifier_define_calculation(verifier_model, verifier_model_path, [dummy_data_path])"
   ]
  },
  {
   "cell_type": "code",
   "execution_count": 21,
   "metadata": {},
   "outputs": [
    {
     "name": "stdout",
     "output_type": "stream",
     "text": [
      "Theory output:  tensor(47.6981)\n",
      "==== Generate & Calibrate Setting ====\n",
      "scale:  [8]\n",
      "setting:  {\"run_args\":{\"tolerance\":{\"val\":0.0,\"scale\":1.0},\"input_scale\":8,\"param_scale\":8,\"scale_rebase_multiplier\":10,\"lookup_range\":[0,593654],\"logrows\":20,\"num_inner_cols\":2,\"variables\":[[\"batch_size\",1]],\"input_visibility\":{\"Hashed\":{\"hash_is_public\":true,\"outlets\":[]}},\"output_visibility\":\"Public\",\"param_visibility\":\"Private\"},\"num_rows\":14432,\"total_assignments\":905,\"total_const_size\":0,\"model_instance_shapes\":[[1],[1]],\"model_output_scales\":[0,16],\"model_input_scales\":[8],\"module_sizes\":{\"kzg\":[],\"poseidon\":[14432,[1]],\"elgamal\":[0,[0]]},\"required_lookups\":[{\"Recip\":{\"scale\":256.0}},{\"Ln\":{\"scale\":256.0}},{\"Exp\":{\"scale\":65536.0}}],\"check_mode\":\"UNSAFE\",\"version\":\"5.4.2\",\"num_blinding_factors\":null}\n"
     ]
    },
    {
     "name": "stderr",
     "output_type": "stream",
     "text": [
      "/var/folders/89/y9dw12v976ngdmqz4l7wbsnr0000gn/T/ipykernel_63327/2872853185.py:12: TracerWarning: torch.tensor results are registered as constants in the trace. You can safely ignore this warning if you use this function to create tensors out of constant variables that would be the same every time you call this function. In any other case, this might cause the trace to be incorrect.\n",
      "  return (torch.tensor(1), torch.exp(torch.mean(torch.log(X))))\n"
     ]
    }
   ],
   "source": [
    "# prover calculates settings, send to verifier\n",
    "# In non-linearity, scale greatly affects lookup size\n",
    "theory_output = torch.exp(torch.mean(torch.log(data_tensor)))\n",
    "print(\"Theory output: \", theory_output)\n",
    "class prover_model(nn.Module):\n",
    "    def __init__(self):\n",
    "        super(prover_model, self).__init__()\n",
    "        # w represents mean in this case\n",
    "        # self.w = nn.Parameter(data = theory_output, requires_grad = False)\n",
    "\n",
    "    def forward(self,X):\n",
    "        return (torch.tensor(1), torch.exp(torch.mean(torch.log(X))))\n",
    "        return (torch.abs((torch.log(self.w)*X.size()[1])-torch.sum(torch.log(X)))<=torch.log(torch.tensor(1.01)), self.w)\n",
    "\n",
    "\n",
    "prover_gen_settings([data_path], comb_data_path, prover_model,prover_model_path, [8], \"resources\", settings_path)"
   ]
  },
  {
   "cell_type": "code",
   "execution_count": 22,
   "metadata": {},
   "outputs": [
    {
     "name": "stderr",
     "output_type": "stream",
     "text": [
      "spawning module 0\n",
      "spawning module 2\n"
     ]
    },
    {
     "name": "stdout",
     "output_type": "stream",
     "text": [
      "==== setting up ezkl ====\n"
     ]
    },
    {
     "name": "stderr",
     "output_type": "stream",
     "text": [
      "spawning module 0\n",
      "spawning module 2\n"
     ]
    },
    {
     "name": "stdout",
     "output_type": "stream",
     "text": [
      "Time setup: 248.79935908317566 seconds\n",
      "=======================================\n",
      "Theory output:  tensor(47.6981)\n",
      "==== Generating Witness ====\n",
      "witness boolean:  1.0\n",
      "witness result 1 : 92.68629455566406\n",
      "==== Generating Proof ====\n"
     ]
    },
    {
     "name": "stderr",
     "output_type": "stream",
     "text": [
      "spawning module 0\n",
      "spawning module 2\n"
     ]
    },
    {
     "name": "stdout",
     "output_type": "stream",
     "text": [
      "proof:  {'instances': [[[12773529019820117503, 7223165032241168505, 6388811546753741567, 1325363978837834469], [12436184717236109307, 3962172157175319849, 7381016538464732718, 1011752739694698287], [9340507686675262708, 12576478094795452846, 16595392862476743742, 1007129139500821923]]], 'proof': '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', 'transcript_type': 'EVM'}\n",
      "Time gen prf: 211.61606311798096 seconds\n"
     ]
    }
   ],
   "source": [
    "# Here verifier & prover can concurrently call setup since all params are public to get pk. \n",
    "# Here write as verifier function to emphasize that verifier must calculate its own vk to be sure\n",
    "verifier_setup(verifier_model_path, verifier_compiled_model_path, settings_path, srs_path,vk_path, pk_path )\n",
    "\n",
    "print(\"=======================================\")\n",
    "# Prover generates proof\n",
    "print(\"Theory output: \", theory_output)\n",
    "prover_gen_proof(prover_model_path, comb_data_path, witness_path, prover_compiled_model_path, settings_path, proof_path, pk_path, srs_path)"
   ]
  },
  {
   "cell_type": "code",
   "execution_count": 24,
   "metadata": {},
   "outputs": [
    {
     "name": "stdout",
     "output_type": "stream",
     "text": [
      "num_inputs:  1\n",
      "prf instances:  [[[12773529019820117503, 7223165032241168505, 6388811546753741567, 1325363978837834469], [12436184717236109307, 3962172157175319849, 7381016538464732718, 1011752739694698287], [9340507686675262708, 12576478094795452846, 16595392862476743742, 1007129139500821923]]]\n",
      "proof boolean:  1.0\n",
      "proof result 1 : 92.68629455566406\n",
      "verified\n"
     ]
    }
   ],
   "source": [
    "# Verifier verifies\n",
    "verifier_verify(proof_path, settings_path, vk_path, srs_path)"
   ]
  },
  {
   "cell_type": "code",
   "execution_count": null,
   "metadata": {},
   "outputs": [],
   "source": []
  },
  {
   "cell_type": "code",
   "execution_count": null,
   "metadata": {},
   "outputs": [],
   "source": []
  }
 ],
 "metadata": {
  "kernelspec": {
   "display_name": "Python 3",
   "language": "python",
   "name": "python3"
  },
  "language_info": {
   "codemirror_mode": {
    "name": "ipython",
    "version": 3
   },
   "file_extension": ".py",
   "mimetype": "text/x-python",
   "name": "python",
   "nbconvert_exporter": "python",
   "pygments_lexer": "ipython3",
   "version": "3.10.0"
  },
  "orig_nbformat": 4
 },
 "nbformat": 4,
 "nbformat_minor": 2
}
