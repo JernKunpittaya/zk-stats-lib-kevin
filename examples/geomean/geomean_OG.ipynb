{
 "cells": [
  {
   "cell_type": "code",
   "execution_count": 1,
   "metadata": {},
   "outputs": [
    {
     "name": "stdout",
     "output_type": "stream",
     "text": [
      "Requirement already satisfied: ezkl==7.0.0 in /Library/Frameworks/Python.framework/Versions/3.10/lib/python3.10/site-packages (from -r ../../requirements.txt (line 1)) (7.0.0)\n",
      "Requirement already satisfied: torch in /Library/Frameworks/Python.framework/Versions/3.10/lib/python3.10/site-packages (from -r ../../requirements.txt (line 2)) (2.1.1)\n",
      "Requirement already satisfied: requests in /Library/Frameworks/Python.framework/Versions/3.10/lib/python3.10/site-packages (from -r ../../requirements.txt (line 3)) (2.31.0)\n",
      "Requirement already satisfied: scipy in /Library/Frameworks/Python.framework/Versions/3.10/lib/python3.10/site-packages (from -r ../../requirements.txt (line 4)) (1.11.4)\n",
      "Requirement already satisfied: numpy in /Library/Frameworks/Python.framework/Versions/3.10/lib/python3.10/site-packages (from -r ../../requirements.txt (line 5)) (1.26.2)\n",
      "Requirement already satisfied: matplotlib in /Library/Frameworks/Python.framework/Versions/3.10/lib/python3.10/site-packages (from -r ../../requirements.txt (line 6)) (3.8.2)\n",
      "Requirement already satisfied: statistics in /Library/Frameworks/Python.framework/Versions/3.10/lib/python3.10/site-packages (from -r ../../requirements.txt (line 7)) (1.0.3.5)\n",
      "Requirement already satisfied: onnx in /Library/Frameworks/Python.framework/Versions/3.10/lib/python3.10/site-packages (from -r ../../requirements.txt (line 8)) (1.15.0)\n",
      "Requirement already satisfied: sympy in /Library/Frameworks/Python.framework/Versions/3.10/lib/python3.10/site-packages (from torch->-r ../../requirements.txt (line 2)) (1.12)\n",
      "Requirement already satisfied: typing-extensions in /Library/Frameworks/Python.framework/Versions/3.10/lib/python3.10/site-packages (from torch->-r ../../requirements.txt (line 2)) (4.8.0)\n",
      "Requirement already satisfied: jinja2 in /Library/Frameworks/Python.framework/Versions/3.10/lib/python3.10/site-packages (from torch->-r ../../requirements.txt (line 2)) (3.1.2)\n",
      "Requirement already satisfied: fsspec in /Library/Frameworks/Python.framework/Versions/3.10/lib/python3.10/site-packages (from torch->-r ../../requirements.txt (line 2)) (2023.10.0)\n",
      "Requirement already satisfied: networkx in /Library/Frameworks/Python.framework/Versions/3.10/lib/python3.10/site-packages (from torch->-r ../../requirements.txt (line 2)) (3.2.1)\n",
      "Requirement already satisfied: filelock in /Library/Frameworks/Python.framework/Versions/3.10/lib/python3.10/site-packages (from torch->-r ../../requirements.txt (line 2)) (3.13.1)\n",
      "Requirement already satisfied: idna<4,>=2.5 in /Library/Frameworks/Python.framework/Versions/3.10/lib/python3.10/site-packages (from requests->-r ../../requirements.txt (line 3)) (3.6)\n",
      "Requirement already satisfied: charset-normalizer<4,>=2 in /Library/Frameworks/Python.framework/Versions/3.10/lib/python3.10/site-packages (from requests->-r ../../requirements.txt (line 3)) (3.3.2)\n",
      "Requirement already satisfied: certifi>=2017.4.17 in /Library/Frameworks/Python.framework/Versions/3.10/lib/python3.10/site-packages (from requests->-r ../../requirements.txt (line 3)) (2023.11.17)\n",
      "Requirement already satisfied: urllib3<3,>=1.21.1 in /Library/Frameworks/Python.framework/Versions/3.10/lib/python3.10/site-packages (from requests->-r ../../requirements.txt (line 3)) (2.1.0)\n",
      "Requirement already satisfied: fonttools>=4.22.0 in /Library/Frameworks/Python.framework/Versions/3.10/lib/python3.10/site-packages (from matplotlib->-r ../../requirements.txt (line 6)) (4.45.1)\n",
      "Requirement already satisfied: cycler>=0.10 in /Library/Frameworks/Python.framework/Versions/3.10/lib/python3.10/site-packages (from matplotlib->-r ../../requirements.txt (line 6)) (0.12.1)\n",
      "Requirement already satisfied: kiwisolver>=1.3.1 in /Library/Frameworks/Python.framework/Versions/3.10/lib/python3.10/site-packages (from matplotlib->-r ../../requirements.txt (line 6)) (1.4.5)\n",
      "Requirement already satisfied: python-dateutil>=2.7 in /Users/jernkun/Library/Python/3.10/lib/python/site-packages (from matplotlib->-r ../../requirements.txt (line 6)) (2.8.2)\n",
      "Requirement already satisfied: pyparsing>=2.3.1 in /Library/Frameworks/Python.framework/Versions/3.10/lib/python3.10/site-packages (from matplotlib->-r ../../requirements.txt (line 6)) (3.1.1)\n",
      "Requirement already satisfied: packaging>=20.0 in /Users/jernkun/Library/Python/3.10/lib/python/site-packages (from matplotlib->-r ../../requirements.txt (line 6)) (23.2)\n",
      "Requirement already satisfied: contourpy>=1.0.1 in /Library/Frameworks/Python.framework/Versions/3.10/lib/python3.10/site-packages (from matplotlib->-r ../../requirements.txt (line 6)) (1.2.0)\n",
      "Requirement already satisfied: pillow>=8 in /Library/Frameworks/Python.framework/Versions/3.10/lib/python3.10/site-packages (from matplotlib->-r ../../requirements.txt (line 6)) (10.1.0)\n",
      "Requirement already satisfied: docutils>=0.3 in /Library/Frameworks/Python.framework/Versions/3.10/lib/python3.10/site-packages (from statistics->-r ../../requirements.txt (line 7)) (0.20.1)\n",
      "Requirement already satisfied: protobuf>=3.20.2 in /Library/Frameworks/Python.framework/Versions/3.10/lib/python3.10/site-packages (from onnx->-r ../../requirements.txt (line 8)) (4.25.1)\n",
      "Requirement already satisfied: six>=1.5 in /Users/jernkun/Library/Python/3.10/lib/python/site-packages (from python-dateutil>=2.7->matplotlib->-r ../../requirements.txt (line 6)) (1.16.0)\n",
      "Requirement already satisfied: MarkupSafe>=2.0 in /Library/Frameworks/Python.framework/Versions/3.10/lib/python3.10/site-packages (from jinja2->torch->-r ../../requirements.txt (line 2)) (2.1.3)\n",
      "Requirement already satisfied: mpmath>=0.19 in /Library/Frameworks/Python.framework/Versions/3.10/lib/python3.10/site-packages (from sympy->torch->-r ../../requirements.txt (line 2)) (1.3.0)\n",
      "\u001b[33mWARNING: You are using pip version 21.2.3; however, version 23.3.2 is available.\n",
      "You should consider upgrading via the '/usr/local/bin/python3 -m pip install --upgrade pip' command.\u001b[0m\n",
      "Note: you may need to restart the kernel to use updated packages.\n"
     ]
    }
   ],
   "source": [
    "pip install -r ../../requirements.txt"
   ]
  },
  {
   "cell_type": "code",
   "execution_count": 2,
   "metadata": {},
   "outputs": [],
   "source": [
    "import ezkl\n",
    "import torch\n",
    "from torch import nn\n",
    "import json\n",
    "import os\n",
    "import time\n",
    "import scipy\n",
    "import numpy as np\n",
    "import matplotlib.pyplot as plt\n",
    "import statistics\n",
    "import math"
   ]
  },
  {
   "cell_type": "code",
   "execution_count": 3,
   "metadata": {},
   "outputs": [],
   "source": [
    "%run -i ../../zkstats/core.py"
   ]
  },
  {
   "attachments": {},
   "cell_type": "markdown",
   "metadata": {},
   "source": []
  },
  {
   "cell_type": "code",
   "execution_count": 4,
   "metadata": {},
   "outputs": [],
   "source": [
    "# init path\n",
    "os.makedirs(os.path.dirname('shared/'), exist_ok=True)\n",
    "os.makedirs(os.path.dirname('prover/'), exist_ok=True)\n",
    "verifier_model_path = os.path.join('shared/verifier.onnx')\n",
    "prover_model_path = os.path.join('prover/prover.onnx')\n",
    "verifier_compiled_model_path = os.path.join('shared/verifier.compiled')\n",
    "prover_compiled_model_path = os.path.join('prover/prover.compiled')\n",
    "pk_path = os.path.join('shared/test.pk')\n",
    "vk_path = os.path.join('shared/test.vk')\n",
    "proof_path = os.path.join('shared/test.pf')\n",
    "settings_path = os.path.join('shared/settings.json')\n",
    "srs_path = os.path.join('shared/kzg.srs')\n",
    "witness_path = os.path.join('prover/witness.json')\n",
    "# this is private to prover since it contains actual data\n",
    "sel_data_path = os.path.join('prover/sel_data.json')\n",
    "# this is just dummy random value\n",
    "sel_dummy_data_path = os.path.join('shared/sel_dummy_data.json')"
   ]
  },
  {
   "attachments": {},
   "cell_type": "markdown",
   "metadata": {},
   "source": [
    "=======================  ZK-STATS FLOW ======================="
   ]
  },
  {
   "cell_type": "code",
   "execution_count": 5,
   "metadata": {},
   "outputs": [],
   "source": [
    "data_path = os.path.join('data.json')\n",
    "dummy_data_path = os.path.join('shared/dummy_data.json')\n",
    "\n",
    "data = json.loads(open(data_path, \"r\").read())['col_name']\n",
    "data_tensor = torch.reshape(torch.tensor(data),(1,-1, 1))\n",
    "\n",
    "createDummy(data_path, dummy_data_path)\n",
    "dummy_data = json.loads(open(dummy_data_path, \"r\").read())['col_name']\n",
    "dummy_data_tensor = torch.reshape(torch.tensor(dummy_data), (1,-1,1))\n",
    "\n",
    "dummy_theory_output = torch.exp(torch.mean(torch.log(dummy_data_tensor)))\n",
    "theory_output = torch.exp(torch.mean(torch.log(data_tensor)))\n",
    "\n"
   ]
  },
  {
   "cell_type": "code",
   "execution_count": 6,
   "metadata": {},
   "outputs": [
    {
     "name": "stderr",
     "output_type": "stream",
     "text": [
      "/var/folders/89/y9dw12v976ngdmqz4l7wbsnr0000gn/T/ipykernel_2544/3753290993.py:8: TracerWarning: torch.tensor results are registered as constants in the trace. You can safely ignore this warning if you use this function to create tensors out of constant variables that would be the same every time you call this function. In any other case, this might cause the trace to be incorrect.\n",
      "  return (torch.tensor(1), torch.exp(torch.mean(torch.log(X))))\n"
     ]
    }
   ],
   "source": [
    "# Verifier/ data consumer side:\n",
    "class verifier_model(nn.Module):\n",
    "    def __init__(self):\n",
    "        super(verifier_model, self).__init__()\n",
    "        # self.w = nn.Parameter(data = dummy_theory_output, requires_grad = False)\n",
    "\n",
    "    def forward(self,X):\n",
    "        return (torch.tensor(1), torch.exp(torch.mean(torch.log(X))))\n",
    "\n",
    "\n",
    "verifier_define_calculation(dummy_data_path, ['col_name'],sel_dummy_data_path,verifier_model, verifier_model_path)"
   ]
  },
  {
   "cell_type": "code",
   "execution_count": 7,
   "metadata": {},
   "outputs": [
    {
     "name": "stdout",
     "output_type": "stream",
     "text": [
      "Theory output:  tensor(47.6981)\n",
      "==== Generate & Calibrate Setting ====\n",
      "scale:  [8]\n",
      "setting:  {\"run_args\":{\"tolerance\":{\"val\":0.0,\"scale\":1.0},\"input_scale\":8,\"param_scale\":8,\"scale_rebase_multiplier\":10,\"lookup_range\":[0,593654],\"logrows\":20,\"num_inner_cols\":2,\"variables\":[[\"batch_size\",1]],\"input_visibility\":{\"Hashed\":{\"hash_is_public\":true,\"outlets\":[]}},\"output_visibility\":\"Public\",\"param_visibility\":\"Private\"},\"num_rows\":14432,\"total_assignments\":905,\"total_const_size\":0,\"model_instance_shapes\":[[1],[1]],\"model_output_scales\":[0,16],\"model_input_scales\":[8],\"module_sizes\":{\"kzg\":[],\"poseidon\":[14432,[1]],\"elgamal\":[0,[0]]},\"required_lookups\":[{\"Recip\":{\"scale\":256.0}},{\"Ln\":{\"scale\":256.0}},{\"Exp\":{\"scale\":65536.0}}],\"check_mode\":\"UNSAFE\",\"version\":\"7.0.0\",\"num_blinding_factors\":null}\n"
     ]
    },
    {
     "name": "stderr",
     "output_type": "stream",
     "text": [
      "/var/folders/89/y9dw12v976ngdmqz4l7wbsnr0000gn/T/ipykernel_2544/1886633819.py:12: TracerWarning: torch.tensor results are registered as constants in the trace. You can safely ignore this warning if you use this function to create tensors out of constant variables that would be the same every time you call this function. In any other case, this might cause the trace to be incorrect.\n",
      "  return (torch.tensor(1), torch.exp(torch.mean(torch.log(X))))\n"
     ]
    }
   ],
   "source": [
    "# prover calculates settings, send to verifier\n",
    "# In non-linearity, scale greatly affects lookup size\n",
    "theory_output = torch.exp(torch.mean(torch.log(data_tensor)))\n",
    "print(\"Theory output: \", theory_output)\n",
    "class prover_model(nn.Module):\n",
    "    def __init__(self):\n",
    "        super(prover_model, self).__init__()\n",
    "        # w represents mean in this case\n",
    "        # self.w = nn.Parameter(data = theory_output, requires_grad = False)\n",
    "\n",
    "    def forward(self,X):\n",
    "        return (torch.tensor(1), torch.exp(torch.mean(torch.log(X))))\n",
    "\n",
    "\n",
    "prover_gen_settings(data_path,['col_name'], sel_data_path, prover_model,prover_model_path, [8], \"resources\", settings_path)"
   ]
  },
  {
   "cell_type": "code",
   "execution_count": 9,
   "metadata": {},
   "outputs": [
    {
     "name": "stderr",
     "output_type": "stream",
     "text": [
      "spawning module 0\n",
      "spawning module 2\n"
     ]
    },
    {
     "name": "stdout",
     "output_type": "stream",
     "text": [
      "==== setting up ezkl ====\n"
     ]
    },
    {
     "name": "stderr",
     "output_type": "stream",
     "text": [
      "spawning module 0\n",
      "spawning module 2\n"
     ]
    },
    {
     "name": "stdout",
     "output_type": "stream",
     "text": [
      "Time setup: 219.55537796020508 seconds\n",
      "=======================================\n",
      "Theory output:  tensor(47.6981)\n",
      "!@# compiled_model exists? True\n",
      "!@# compiled_model exists? True\n",
      "==== Generating Witness ====\n",
      "witness boolean:  1.0\n",
      "witness result 1 : 92.68629455566406\n",
      "==== Generating Proof ====\n"
     ]
    },
    {
     "name": "stderr",
     "output_type": "stream",
     "text": [
      "spawning module 0\n",
      "spawning module 2\n"
     ]
    },
    {
     "name": "stdout",
     "output_type": "stream",
     "text": [
      "proof:  {'instances': [[[12773529019820117503, 7223165032241168505, 6388811546753741567, 1325363978837834469], [12436184717236109307, 3962172157175319849, 7381016538464732718, 1011752739694698287], [9340507686675262708, 12576478094795452846, 16595392862476743742, 1007129139500821923]]], 'proof': '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', 'transcript_type': 'EVM'}\n",
      "Time gen prf: 187.8102400302887 seconds\n"
     ]
    }
   ],
   "source": [
    "# Here verifier & prover can concurrently call setup since all params are public to get pk. \n",
    "# Here write as verifier function to emphasize that verifier must calculate its own vk to be sure\n",
    "verifier_setup(verifier_model_path, verifier_compiled_model_path, settings_path,vk_path, pk_path )\n",
    "\n",
    "print(\"=======================================\")\n",
    "# Prover generates proof\n",
    "print(\"Theory output: \", theory_output)\n",
    "# We can see here that it took huge resource, yet still inaccurate\n",
    "prover_gen_proof(prover_model_path, sel_data_path, witness_path, prover_compiled_model_path, settings_path, proof_path, pk_path)"
   ]
  },
  {
   "cell_type": "code",
   "execution_count": 10,
   "metadata": {},
   "outputs": [
    {
     "name": "stdout",
     "output_type": "stream",
     "text": [
      "num_inputs:  1\n",
      "prf instances:  [[[12773529019820117503, 7223165032241168505, 6388811546753741567, 1325363978837834469], [12436184717236109307, 3962172157175319849, 7381016538464732718, 1011752739694698287], [9340507686675262708, 12576478094795452846, 16595392862476743742, 1007129139500821923]]]\n",
      "proof boolean:  1.0\n",
      "proof result 1 : 92.68629455566406\n",
      "verified\n"
     ]
    }
   ],
   "source": [
    "# Verifier verifies\n",
    "verifier_verify(proof_path, settings_path, vk_path)"
   ]
  },
  {
   "cell_type": "code",
   "execution_count": null,
   "metadata": {},
   "outputs": [],
   "source": []
  },
  {
   "cell_type": "code",
   "execution_count": null,
   "metadata": {},
   "outputs": [],
   "source": []
  }
 ],
 "metadata": {
  "kernelspec": {
   "display_name": "Python 3",
   "language": "python",
   "name": "python3"
  },
  "language_info": {
   "codemirror_mode": {
    "name": "ipython",
    "version": 3
   },
   "file_extension": ".py",
   "mimetype": "text/x-python",
   "name": "python",
   "nbconvert_exporter": "python",
   "pygments_lexer": "ipython3",
   "version": "3.10.0"
  },
  "orig_nbformat": 4
 },
 "nbformat": 4,
 "nbformat_minor": 2
}
