{
 "cells": [
  {
   "cell_type": "code",
   "execution_count": 1,
   "metadata": {},
   "outputs": [
    {
     "name": "stdout",
     "output_type": "stream",
     "text": [
      "Requirement already satisfied: ezkl==7.0.0 in /Library/Frameworks/Python.framework/Versions/3.10/lib/python3.10/site-packages (from -r ../../requirements.txt (line 1)) (7.0.0)\n",
      "Requirement already satisfied: torch in /Library/Frameworks/Python.framework/Versions/3.10/lib/python3.10/site-packages (from -r ../../requirements.txt (line 2)) (2.1.1)\n",
      "Requirement already satisfied: requests in /Library/Frameworks/Python.framework/Versions/3.10/lib/python3.10/site-packages (from -r ../../requirements.txt (line 3)) (2.31.0)\n",
      "Requirement already satisfied: scipy in /Library/Frameworks/Python.framework/Versions/3.10/lib/python3.10/site-packages (from -r ../../requirements.txt (line 4)) (1.11.4)\n",
      "Requirement already satisfied: numpy in /Library/Frameworks/Python.framework/Versions/3.10/lib/python3.10/site-packages (from -r ../../requirements.txt (line 5)) (1.26.2)\n",
      "Requirement already satisfied: matplotlib in /Library/Frameworks/Python.framework/Versions/3.10/lib/python3.10/site-packages (from -r ../../requirements.txt (line 6)) (3.8.2)\n",
      "Requirement already satisfied: statistics in /Library/Frameworks/Python.framework/Versions/3.10/lib/python3.10/site-packages (from -r ../../requirements.txt (line 7)) (1.0.3.5)\n",
      "Requirement already satisfied: onnx in /Library/Frameworks/Python.framework/Versions/3.10/lib/python3.10/site-packages (from -r ../../requirements.txt (line 8)) (1.15.0)\n",
      "Requirement already satisfied: filelock in /Library/Frameworks/Python.framework/Versions/3.10/lib/python3.10/site-packages (from torch->-r ../../requirements.txt (line 2)) (3.13.1)\n",
      "Requirement already satisfied: fsspec in /Library/Frameworks/Python.framework/Versions/3.10/lib/python3.10/site-packages (from torch->-r ../../requirements.txt (line 2)) (2023.10.0)\n",
      "Requirement already satisfied: sympy in /Library/Frameworks/Python.framework/Versions/3.10/lib/python3.10/site-packages (from torch->-r ../../requirements.txt (line 2)) (1.12)\n",
      "Requirement already satisfied: typing-extensions in /Library/Frameworks/Python.framework/Versions/3.10/lib/python3.10/site-packages (from torch->-r ../../requirements.txt (line 2)) (4.8.0)\n",
      "Requirement already satisfied: jinja2 in /Library/Frameworks/Python.framework/Versions/3.10/lib/python3.10/site-packages (from torch->-r ../../requirements.txt (line 2)) (3.1.2)\n",
      "Requirement already satisfied: networkx in /Library/Frameworks/Python.framework/Versions/3.10/lib/python3.10/site-packages (from torch->-r ../../requirements.txt (line 2)) (3.2.1)\n",
      "Requirement already satisfied: idna<4,>=2.5 in /Library/Frameworks/Python.framework/Versions/3.10/lib/python3.10/site-packages (from requests->-r ../../requirements.txt (line 3)) (3.6)\n",
      "Requirement already satisfied: certifi>=2017.4.17 in /Library/Frameworks/Python.framework/Versions/3.10/lib/python3.10/site-packages (from requests->-r ../../requirements.txt (line 3)) (2023.11.17)\n",
      "Requirement already satisfied: urllib3<3,>=1.21.1 in /Library/Frameworks/Python.framework/Versions/3.10/lib/python3.10/site-packages (from requests->-r ../../requirements.txt (line 3)) (2.1.0)\n",
      "Requirement already satisfied: charset-normalizer<4,>=2 in /Library/Frameworks/Python.framework/Versions/3.10/lib/python3.10/site-packages (from requests->-r ../../requirements.txt (line 3)) (3.3.2)\n",
      "Requirement already satisfied: contourpy>=1.0.1 in /Library/Frameworks/Python.framework/Versions/3.10/lib/python3.10/site-packages (from matplotlib->-r ../../requirements.txt (line 6)) (1.2.0)\n",
      "Requirement already satisfied: fonttools>=4.22.0 in /Library/Frameworks/Python.framework/Versions/3.10/lib/python3.10/site-packages (from matplotlib->-r ../../requirements.txt (line 6)) (4.45.1)\n",
      "Requirement already satisfied: pyparsing>=2.3.1 in /Library/Frameworks/Python.framework/Versions/3.10/lib/python3.10/site-packages (from matplotlib->-r ../../requirements.txt (line 6)) (3.1.1)\n",
      "Requirement already satisfied: python-dateutil>=2.7 in /Users/jernkun/Library/Python/3.10/lib/python/site-packages (from matplotlib->-r ../../requirements.txt (line 6)) (2.8.2)\n",
      "Requirement already satisfied: cycler>=0.10 in /Library/Frameworks/Python.framework/Versions/3.10/lib/python3.10/site-packages (from matplotlib->-r ../../requirements.txt (line 6)) (0.12.1)\n",
      "Requirement already satisfied: pillow>=8 in /Library/Frameworks/Python.framework/Versions/3.10/lib/python3.10/site-packages (from matplotlib->-r ../../requirements.txt (line 6)) (10.1.0)\n",
      "Requirement already satisfied: packaging>=20.0 in /Users/jernkun/Library/Python/3.10/lib/python/site-packages (from matplotlib->-r ../../requirements.txt (line 6)) (23.2)\n",
      "Requirement already satisfied: kiwisolver>=1.3.1 in /Library/Frameworks/Python.framework/Versions/3.10/lib/python3.10/site-packages (from matplotlib->-r ../../requirements.txt (line 6)) (1.4.5)\n",
      "Requirement already satisfied: docutils>=0.3 in /Library/Frameworks/Python.framework/Versions/3.10/lib/python3.10/site-packages (from statistics->-r ../../requirements.txt (line 7)) (0.20.1)\n",
      "Requirement already satisfied: protobuf>=3.20.2 in /Library/Frameworks/Python.framework/Versions/3.10/lib/python3.10/site-packages (from onnx->-r ../../requirements.txt (line 8)) (4.25.1)\n",
      "Requirement already satisfied: six>=1.5 in /Users/jernkun/Library/Python/3.10/lib/python/site-packages (from python-dateutil>=2.7->matplotlib->-r ../../requirements.txt (line 6)) (1.16.0)\n",
      "Requirement already satisfied: MarkupSafe>=2.0 in /Library/Frameworks/Python.framework/Versions/3.10/lib/python3.10/site-packages (from jinja2->torch->-r ../../requirements.txt (line 2)) (2.1.3)\n",
      "Requirement already satisfied: mpmath>=0.19 in /Library/Frameworks/Python.framework/Versions/3.10/lib/python3.10/site-packages (from sympy->torch->-r ../../requirements.txt (line 2)) (1.3.0)\n",
      "\u001b[33mWARNING: You are using pip version 21.2.3; however, version 23.3.2 is available.\n",
      "You should consider upgrading via the '/usr/local/bin/python3 -m pip install --upgrade pip' command.\u001b[0m\n",
      "Note: you may need to restart the kernel to use updated packages.\n"
     ]
    }
   ],
   "source": [
    "pip install -r ../../requirements.txt"
   ]
  },
  {
   "cell_type": "code",
   "execution_count": 2,
   "metadata": {},
   "outputs": [],
   "source": [
    "import ezkl\n",
    "import torch\n",
    "from torch import nn\n",
    "import json\n",
    "import os\n",
    "import time\n",
    "import scipy\n",
    "import numpy as np\n",
    "import matplotlib.pyplot as plt\n",
    "import statistics\n",
    "import math"
   ]
  },
  {
   "cell_type": "code",
   "execution_count": 4,
   "metadata": {},
   "outputs": [],
   "source": [
    "%run -i ../../zkstats/core.py"
   ]
  },
  {
   "attachments": {},
   "cell_type": "markdown",
   "metadata": {},
   "source": []
  },
  {
   "cell_type": "code",
   "execution_count": 5,
   "metadata": {},
   "outputs": [],
   "source": [
    "# init path\n",
    "os.makedirs(os.path.dirname('shared/'), exist_ok=True)\n",
    "os.makedirs(os.path.dirname('prover/'), exist_ok=True)\n",
    "verifier_model_path = os.path.join('shared/verifier.onnx')\n",
    "prover_model_path = os.path.join('prover/prover.onnx')\n",
    "verifier_compiled_model_path = os.path.join('shared/verifier.compiled')\n",
    "prover_compiled_model_path = os.path.join('prover/prover.compiled')\n",
    "pk_path = os.path.join('shared/test.pk')\n",
    "vk_path = os.path.join('shared/test.vk')\n",
    "proof_path = os.path.join('shared/test.pf')\n",
    "settings_path = os.path.join('shared/settings.json')\n",
    "srs_path = os.path.join('shared/kzg.srs')\n",
    "witness_path = os.path.join('prover/witness.json')\n",
    "# this is private to prover since it contains actual data\n",
    "comb_data_path = os.path.join('prover/comb_data.json')"
   ]
  },
  {
   "attachments": {},
   "cell_type": "markdown",
   "metadata": {},
   "source": [
    "=======================  ZK-STATS FLOW ======================="
   ]
  },
  {
   "cell_type": "code",
   "execution_count": 6,
   "metadata": {},
   "outputs": [],
   "source": [
    "data_path = os.path.join('data.json')\n",
    "dummy_data_path = os.path.join('shared/dummy_data.json')\n",
    "\n",
    "f_raw_input = open(data_path, \"r\")\n",
    "data = json.loads(f_raw_input.read())[\"input_data\"][0]\n",
    "data_tensor = torch.reshape(torch.tensor(data),(1, len(data), 1))\n",
    "\n",
    "\n",
    "dummy_data = np.round(np.random.uniform(1,10,len(data)),1)\n",
    "json.dump({\"input_data\":[dummy_data.tolist()]}, open(dummy_data_path, 'w'))\n",
    "\n",
    "dummy_data_tensor = torch.reshape(torch.tensor(dummy_data), (1, len(dummy_data),1 ))\n",
    "dummy_theory_output = torch.exp(torch.mean(torch.log(dummy_data_tensor)))\n",
    "\n"
   ]
  },
  {
   "cell_type": "code",
   "execution_count": 7,
   "metadata": {},
   "outputs": [
    {
     "name": "stderr",
     "output_type": "stream",
     "text": [
      "/var/folders/89/y9dw12v976ngdmqz4l7wbsnr0000gn/T/ipykernel_45124/2554060029.py:8: TracerWarning: torch.tensor results are registered as constants in the trace. You can safely ignore this warning if you use this function to create tensors out of constant variables that would be the same every time you call this function. In any other case, this might cause the trace to be incorrect.\n",
      "  return (torch.tensor(1), torch.exp(torch.mean(torch.log(X))))\n"
     ]
    }
   ],
   "source": [
    "# Verifier/ data consumer side:\n",
    "class verifier_model(nn.Module):\n",
    "    def __init__(self):\n",
    "        super(verifier_model, self).__init__()\n",
    "        # self.w = nn.Parameter(data = dummy_theory_output, requires_grad = False)\n",
    "\n",
    "    def forward(self,X):\n",
    "        return (torch.tensor(1), torch.exp(torch.mean(torch.log(X))))\n",
    "        return (torch.abs((torch.log(self.w)*X.size()[1])-torch.sum(torch.log(X)))<=torch.log(torch.tensor(1.01)), self.w)\n",
    "\n",
    "verifier_define_calculation(verifier_model, verifier_model_path, [dummy_data_path])"
   ]
  },
  {
   "cell_type": "code",
   "execution_count": 8,
   "metadata": {},
   "outputs": [
    {
     "name": "stdout",
     "output_type": "stream",
     "text": [
      "Theory output:  tensor(47.6981)\n",
      "==== Generate & Calibrate Setting ====\n",
      "scale:  [8]\n",
      "setting:  {\"run_args\":{\"tolerance\":{\"val\":0.0,\"scale\":1.0},\"input_scale\":8,\"param_scale\":8,\"scale_rebase_multiplier\":10,\"lookup_range\":[0,593654],\"logrows\":20,\"num_inner_cols\":2,\"variables\":[[\"batch_size\",1]],\"input_visibility\":{\"Hashed\":{\"hash_is_public\":true,\"outlets\":[]}},\"output_visibility\":\"Public\",\"param_visibility\":\"Private\"},\"num_rows\":14432,\"total_assignments\":905,\"total_const_size\":0,\"model_instance_shapes\":[[1],[1]],\"model_output_scales\":[0,16],\"model_input_scales\":[8],\"module_sizes\":{\"kzg\":[],\"poseidon\":[14432,[1]],\"elgamal\":[0,[0]]},\"required_lookups\":[{\"Recip\":{\"scale\":256.0}},{\"Ln\":{\"scale\":256.0}},{\"Exp\":{\"scale\":65536.0}}],\"check_mode\":\"UNSAFE\",\"version\":\"7.0.0\",\"num_blinding_factors\":null}\n"
     ]
    },
    {
     "name": "stderr",
     "output_type": "stream",
     "text": [
      "/var/folders/89/y9dw12v976ngdmqz4l7wbsnr0000gn/T/ipykernel_45124/2872853185.py:12: TracerWarning: torch.tensor results are registered as constants in the trace. You can safely ignore this warning if you use this function to create tensors out of constant variables that would be the same every time you call this function. In any other case, this might cause the trace to be incorrect.\n",
      "  return (torch.tensor(1), torch.exp(torch.mean(torch.log(X))))\n"
     ]
    }
   ],
   "source": [
    "# prover calculates settings, send to verifier\n",
    "# In non-linearity, scale greatly affects lookup size\n",
    "theory_output = torch.exp(torch.mean(torch.log(data_tensor)))\n",
    "print(\"Theory output: \", theory_output)\n",
    "class prover_model(nn.Module):\n",
    "    def __init__(self):\n",
    "        super(prover_model, self).__init__()\n",
    "        # w represents mean in this case\n",
    "        # self.w = nn.Parameter(data = theory_output, requires_grad = False)\n",
    "\n",
    "    def forward(self,X):\n",
    "        return (torch.tensor(1), torch.exp(torch.mean(torch.log(X))))\n",
    "        return (torch.abs((torch.log(self.w)*X.size()[1])-torch.sum(torch.log(X)))<=torch.log(torch.tensor(1.01)), self.w)\n",
    "\n",
    "\n",
    "prover_gen_settings([data_path], comb_data_path, prover_model,prover_model_path, [8], \"resources\", settings_path)"
   ]
  },
  {
   "cell_type": "code",
   "execution_count": 9,
   "metadata": {},
   "outputs": [
    {
     "name": "stderr",
     "output_type": "stream",
     "text": [
      "spawning module 0\n",
      "spawning module 2\n"
     ]
    },
    {
     "name": "stdout",
     "output_type": "stream",
     "text": [
      "==== setting up ezkl ====\n"
     ]
    },
    {
     "name": "stderr",
     "output_type": "stream",
     "text": [
      "spawning module 0\n",
      "spawning module 2\n"
     ]
    },
    {
     "name": "stdout",
     "output_type": "stream",
     "text": [
      "Time setup: 197.65462398529053 seconds\n",
      "=======================================\n",
      "Theory output:  tensor(47.6981)\n",
      "!@# compiled_model exists? True\n",
      "!@# compiled_model exists? True\n",
      "==== Generating Witness ====\n"
     ]
    },
    {
     "name": "stderr",
     "output_type": "stream",
     "text": [
      "spawning module 0\n"
     ]
    },
    {
     "name": "stdout",
     "output_type": "stream",
     "text": [
      "witness boolean:  1.0\n",
      "witness result 1 : 92.68629455566406\n",
      "==== Generating Proof ====\n"
     ]
    },
    {
     "name": "stderr",
     "output_type": "stream",
     "text": [
      "spawning module 2\n"
     ]
    },
    {
     "name": "stdout",
     "output_type": "stream",
     "text": [
      "proof:  {'instances': [[[12773529019820117503, 7223165032241168505, 6388811546753741567, 1325363978837834469], [12436184717236109307, 3962172157175319849, 7381016538464732718, 1011752739694698287], [9340507686675262708, 12576478094795452846, 16595392862476743742, 1007129139500821923]]], 'proof': '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', 'transcript_type': 'EVM'}\n",
      "Time gen prf: 186.97969698905945 seconds\n"
     ]
    }
   ],
   "source": [
    "# Here verifier & prover can concurrently call setup since all params are public to get pk. \n",
    "# Here write as verifier function to emphasize that verifier must calculate its own vk to be sure\n",
    "verifier_setup(verifier_model_path, verifier_compiled_model_path, settings_path,vk_path, pk_path )\n",
    "\n",
    "print(\"=======================================\")\n",
    "# Prover generates proof\n",
    "print(\"Theory output: \", theory_output)\n",
    "prover_gen_proof(prover_model_path, comb_data_path, witness_path, prover_compiled_model_path, settings_path, proof_path, pk_path)"
   ]
  },
  {
   "cell_type": "code",
   "execution_count": 11,
   "metadata": {},
   "outputs": [
    {
     "name": "stdout",
     "output_type": "stream",
     "text": [
      "num_inputs:  1\n",
      "prf instances:  [[[12773529019820117503, 7223165032241168505, 6388811546753741567, 1325363978837834469], [12436184717236109307, 3962172157175319849, 7381016538464732718, 1011752739694698287], [9340507686675262708, 12576478094795452846, 16595392862476743742, 1007129139500821923]]]\n",
      "proof boolean:  1.0\n",
      "proof result 1 : 92.68629455566406\n",
      "verified\n"
     ]
    }
   ],
   "source": [
    "# Verifier verifies\n",
    "verifier_verify(proof_path, settings_path, vk_path)"
   ]
  },
  {
   "cell_type": "code",
   "execution_count": null,
   "metadata": {},
   "outputs": [],
   "source": []
  },
  {
   "cell_type": "code",
   "execution_count": null,
   "metadata": {},
   "outputs": [],
   "source": []
  }
 ],
 "metadata": {
  "kernelspec": {
   "display_name": "Python 3",
   "language": "python",
   "name": "python3"
  },
  "language_info": {
   "codemirror_mode": {
    "name": "ipython",
    "version": 3
   },
   "file_extension": ".py",
   "mimetype": "text/x-python",
   "name": "python",
   "nbconvert_exporter": "python",
   "pygments_lexer": "ipython3",
   "version": "3.10.0"
  },
  "orig_nbformat": 4
 },
 "nbformat": 4,
 "nbformat_minor": 2
}
