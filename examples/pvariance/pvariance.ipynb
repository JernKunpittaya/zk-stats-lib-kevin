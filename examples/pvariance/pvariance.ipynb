{
 "cells": [
  {
   "cell_type": "code",
   "execution_count": 1,
   "metadata": {},
   "outputs": [
    {
     "name": "stdout",
     "output_type": "stream",
     "text": [
      "Requirement already satisfied: ezkl==5.0.8 in /Library/Frameworks/Python.framework/Versions/3.10/lib/python3.10/site-packages (from -r ../../requirements.txt (line 1)) (5.0.8)\n",
      "Requirement already satisfied: torch in /Library/Frameworks/Python.framework/Versions/3.10/lib/python3.10/site-packages (from -r ../../requirements.txt (line 2)) (2.1.1)\n",
      "Requirement already satisfied: requests in /Library/Frameworks/Python.framework/Versions/3.10/lib/python3.10/site-packages (from -r ../../requirements.txt (line 3)) (2.31.0)\n",
      "Requirement already satisfied: scipy in /Library/Frameworks/Python.framework/Versions/3.10/lib/python3.10/site-packages (from -r ../../requirements.txt (line 4)) (1.11.4)\n",
      "Requirement already satisfied: numpy in /Library/Frameworks/Python.framework/Versions/3.10/lib/python3.10/site-packages (from -r ../../requirements.txt (line 5)) (1.26.2)\n",
      "Requirement already satisfied: matplotlib in /Library/Frameworks/Python.framework/Versions/3.10/lib/python3.10/site-packages (from -r ../../requirements.txt (line 6)) (3.8.2)\n",
      "Requirement already satisfied: statistics in /Library/Frameworks/Python.framework/Versions/3.10/lib/python3.10/site-packages (from -r ../../requirements.txt (line 7)) (1.0.3.5)\n",
      "Requirement already satisfied: onnx in /Library/Frameworks/Python.framework/Versions/3.10/lib/python3.10/site-packages (from -r ../../requirements.txt (line 8)) (1.15.0)\n",
      "Requirement already satisfied: filelock in /Library/Frameworks/Python.framework/Versions/3.10/lib/python3.10/site-packages (from torch->-r ../../requirements.txt (line 2)) (3.13.1)\n",
      "Requirement already satisfied: networkx in /Library/Frameworks/Python.framework/Versions/3.10/lib/python3.10/site-packages (from torch->-r ../../requirements.txt (line 2)) (3.2.1)\n",
      "Requirement already satisfied: fsspec in /Library/Frameworks/Python.framework/Versions/3.10/lib/python3.10/site-packages (from torch->-r ../../requirements.txt (line 2)) (2023.10.0)\n",
      "Requirement already satisfied: sympy in /Library/Frameworks/Python.framework/Versions/3.10/lib/python3.10/site-packages (from torch->-r ../../requirements.txt (line 2)) (1.12)\n",
      "Requirement already satisfied: typing-extensions in /Library/Frameworks/Python.framework/Versions/3.10/lib/python3.10/site-packages (from torch->-r ../../requirements.txt (line 2)) (4.8.0)\n",
      "Requirement already satisfied: jinja2 in /Library/Frameworks/Python.framework/Versions/3.10/lib/python3.10/site-packages (from torch->-r ../../requirements.txt (line 2)) (3.1.2)\n",
      "Requirement already satisfied: urllib3<3,>=1.21.1 in /Library/Frameworks/Python.framework/Versions/3.10/lib/python3.10/site-packages (from requests->-r ../../requirements.txt (line 3)) (2.1.0)\n",
      "Requirement already satisfied: certifi>=2017.4.17 in /Library/Frameworks/Python.framework/Versions/3.10/lib/python3.10/site-packages (from requests->-r ../../requirements.txt (line 3)) (2023.11.17)\n",
      "Requirement already satisfied: charset-normalizer<4,>=2 in /Library/Frameworks/Python.framework/Versions/3.10/lib/python3.10/site-packages (from requests->-r ../../requirements.txt (line 3)) (3.3.2)\n",
      "Requirement already satisfied: idna<4,>=2.5 in /Library/Frameworks/Python.framework/Versions/3.10/lib/python3.10/site-packages (from requests->-r ../../requirements.txt (line 3)) (3.6)\n",
      "Requirement already satisfied: cycler>=0.10 in /Library/Frameworks/Python.framework/Versions/3.10/lib/python3.10/site-packages (from matplotlib->-r ../../requirements.txt (line 6)) (0.12.1)\n",
      "Requirement already satisfied: kiwisolver>=1.3.1 in /Library/Frameworks/Python.framework/Versions/3.10/lib/python3.10/site-packages (from matplotlib->-r ../../requirements.txt (line 6)) (1.4.5)\n",
      "Requirement already satisfied: fonttools>=4.22.0 in /Library/Frameworks/Python.framework/Versions/3.10/lib/python3.10/site-packages (from matplotlib->-r ../../requirements.txt (line 6)) (4.45.1)\n",
      "Requirement already satisfied: packaging>=20.0 in /Users/jernkun/Library/Python/3.10/lib/python/site-packages (from matplotlib->-r ../../requirements.txt (line 6)) (23.2)\n",
      "Requirement already satisfied: python-dateutil>=2.7 in /Users/jernkun/Library/Python/3.10/lib/python/site-packages (from matplotlib->-r ../../requirements.txt (line 6)) (2.8.2)\n",
      "Requirement already satisfied: contourpy>=1.0.1 in /Library/Frameworks/Python.framework/Versions/3.10/lib/python3.10/site-packages (from matplotlib->-r ../../requirements.txt (line 6)) (1.2.0)\n",
      "Requirement already satisfied: pillow>=8 in /Library/Frameworks/Python.framework/Versions/3.10/lib/python3.10/site-packages (from matplotlib->-r ../../requirements.txt (line 6)) (10.1.0)\n",
      "Requirement already satisfied: pyparsing>=2.3.1 in /Library/Frameworks/Python.framework/Versions/3.10/lib/python3.10/site-packages (from matplotlib->-r ../../requirements.txt (line 6)) (3.1.1)\n",
      "Requirement already satisfied: docutils>=0.3 in /Library/Frameworks/Python.framework/Versions/3.10/lib/python3.10/site-packages (from statistics->-r ../../requirements.txt (line 7)) (0.20.1)\n",
      "Requirement already satisfied: protobuf>=3.20.2 in /Library/Frameworks/Python.framework/Versions/3.10/lib/python3.10/site-packages (from onnx->-r ../../requirements.txt (line 8)) (4.25.1)\n",
      "Requirement already satisfied: six>=1.5 in /Users/jernkun/Library/Python/3.10/lib/python/site-packages (from python-dateutil>=2.7->matplotlib->-r ../../requirements.txt (line 6)) (1.16.0)\n",
      "Requirement already satisfied: MarkupSafe>=2.0 in /Library/Frameworks/Python.framework/Versions/3.10/lib/python3.10/site-packages (from jinja2->torch->-r ../../requirements.txt (line 2)) (2.1.3)\n",
      "Requirement already satisfied: mpmath>=0.19 in /Library/Frameworks/Python.framework/Versions/3.10/lib/python3.10/site-packages (from sympy->torch->-r ../../requirements.txt (line 2)) (1.3.0)\n",
      "\u001b[33mWARNING: You are using pip version 21.2.3; however, version 23.3.1 is available.\n",
      "You should consider upgrading via the '/usr/local/bin/python3 -m pip install --upgrade pip' command.\u001b[0m\n",
      "Note: you may need to restart the kernel to use updated packages.\n"
     ]
    }
   ],
   "source": [
    "pip install -r ../../requirements.txt"
   ]
  },
  {
   "cell_type": "code",
   "execution_count": 1,
   "metadata": {},
   "outputs": [],
   "source": [
    "import ezkl\n",
    "import torch\n",
    "from torch import nn\n",
    "import json\n",
    "import os\n",
    "import time\n",
    "import scipy\n",
    "import numpy as np\n",
    "import matplotlib.pyplot as plt\n",
    "import statistics\n",
    "import math"
   ]
  },
  {
   "cell_type": "code",
   "execution_count": 2,
   "metadata": {},
   "outputs": [],
   "source": [
    "%run -i ../../core.py"
   ]
  },
  {
   "cell_type": "code",
   "execution_count": 3,
   "metadata": {},
   "outputs": [],
   "source": [
    "# init path\n",
    "os.makedirs(os.path.dirname('shared/'), exist_ok=True)\n",
    "os.makedirs(os.path.dirname('prover/'), exist_ok=True)\n",
    "verifier_model_path = os.path.join('shared/verifier.onnx')\n",
    "prover_model_path = os.path.join('prover/prover.onnx')\n",
    "verifier_compiled_model_path = os.path.join('shared/verifier.compiled')\n",
    "prover_compiled_model_path = os.path.join('prover/prover.compiled')\n",
    "pk_path = os.path.join('shared/test.pk')\n",
    "vk_path = os.path.join('shared/test.vk')\n",
    "proof_path = os.path.join('shared/test.pf')\n",
    "settings_path = os.path.join('shared/settings.json')\n",
    "srs_path = os.path.join('shared/kzg.srs')\n",
    "witness_path = os.path.join('prover/witness.json')\n",
    "# this is private to prover since it contains actual data\n",
    "comb_data_path = os.path.join('prover/comb_data.json')"
   ]
  },
  {
   "attachments": {},
   "cell_type": "markdown",
   "metadata": {},
   "source": [
    "=======================  ZK-STATS FLOW ======================="
   ]
  },
  {
   "cell_type": "code",
   "execution_count": 4,
   "metadata": {},
   "outputs": [],
   "source": [
    "data_path = os.path.join('data.json')\n",
    "dummy_data_path = os.path.join('shared/dummy_data.json')\n",
    "\n",
    "f_raw_input = open(data_path, \"r\")\n",
    "data = json.loads(f_raw_input.read())[\"input_data\"][0]\n",
    "data_tensor = torch.reshape(torch.tensor(data),(1, len(data), 1))\n",
    "\n",
    "#  dummy data for data consumer: make the bound approx same as real data\n",
    "dummy_data = np.random.uniform(min(data), max(data), len(data))\n",
    "json.dump({\"input_data\":[dummy_data.tolist()]}, open(dummy_data_path, 'w'))\n",
    "\n",
    "dummy_data_tensor = torch.reshape(torch.tensor(dummy_data), (1, len(dummy_data),1 ))\n",
    "dummy_theory_output = torch.var(dummy_data_tensor, correction = 0)\n",
    "dummy_data_mean = torch.mean(dummy_data_tensor)"
   ]
  },
  {
   "cell_type": "code",
   "execution_count": 5,
   "metadata": {},
   "outputs": [
    {
     "name": "stderr",
     "output_type": "stream",
     "text": [
      "/Library/Frameworks/Python.framework/Versions/3.10/lib/python3.10/site-packages/torch/onnx/symbolic_opset9.py:2174: FutureWarning: 'torch.onnx.symbolic_opset9._cast_Bool' is deprecated in version 2.0 and will be removed in the future. Please Avoid using this function and create a Cast node instead.\n",
      "  return fn(g, to_cast_func(g, input, False), to_cast_func(g, other, False))\n"
     ]
    }
   ],
   "source": [
    "# Verifier/ data consumer side:\n",
    "class verifier_model(nn.Module):\n",
    "    def __init__(self):\n",
    "        super(verifier_model, self).__init__()\n",
    "        # w represents mean in this case\n",
    "        self.w = nn.Parameter(data = dummy_theory_output, requires_grad = False)\n",
    "        self.data_mean = nn.Parameter(data = dummy_data_mean, requires_grad = False)\n",
    "\n",
    "    def forward(self,X):\n",
    "        # some expression of tolerance to error in the inference\n",
    "        x_mean_cons = torch.abs(torch.sum(X)-X.size()[1]*(self.data_mean))<0.01*X.size()[1]*(self.data_mean)\n",
    "        return (torch.logical_and(torch.abs(torch.sum((X-self.data_mean)*(X-self.data_mean))-self.w*X.size()[1])<0.01*self.w*X.size()[1],x_mean_cons ),self.w)\n",
    "\n",
    "verifier_define_calculation(verifier_model, verifier_model_path, [dummy_data_path])"
   ]
  },
  {
   "cell_type": "code",
   "execution_count": 6,
   "metadata": {},
   "outputs": [
    {
     "name": "stdout",
     "output_type": "stream",
     "text": [
      "theory output:  tensor(211.8691)\n",
      "==== Generate & Calibrate Setting ====\n",
      "scale:  default\n",
      "setting:  {\"run_args\":{\"tolerance\":{\"val\":0.0,\"scale\":1.0},\"input_scale\":2,\"param_scale\":2,\"scale_rebase_multiplier\":10,\"lookup_range\":[0,20332],\"logrows\":15,\"num_inner_cols\":1,\"variables\":[[\"batch_size\",1]],\"input_visibility\":{\"Hashed\":{\"hash_is_public\":true,\"outlets\":[]}},\"output_visibility\":\"Public\",\"param_visibility\":\"Private\"},\"num_rows\":14432,\"total_assignments\":1512,\"total_const_size\":0,\"model_instance_shapes\":[[1],[1]],\"model_output_scales\":[0,2],\"model_input_scales\":[2],\"module_sizes\":{\"kzg\":[],\"poseidon\":[14432,[1]],\"elgamal\":[0,[0]]},\"required_lookups\":[\"Abs\",{\"GreaterThan\":{\"a\":0.0}}],\"check_mode\":\"UNSAFE\",\"version\":\"5.0.8\",\"num_blinding_factors\":null}\n"
     ]
    }
   ],
   "source": [
    "# Prover/ data owner side\n",
    "theory_output = torch.var(data_tensor, correction = 0)\n",
    "data_mean = torch.mean(data_tensor)\n",
    "print(\"theory output: \", theory_output)\n",
    "class prover_model(nn.Module):\n",
    "    def __init__(self):\n",
    "        super(prover_model, self).__init__()\n",
    "        # w represents mean in this case\n",
    "        self.w = nn.Parameter(data = theory_output, requires_grad = False)\n",
    "        self.data_mean = nn.Parameter(data = data_mean, requires_grad = False)\n",
    "    def forward(self,X):\n",
    "        # some expression of tolerance to error in the inference\n",
    "        x_mean_cons = torch.abs(torch.sum(X)-X.size()[1]*(self.data_mean))<0.01*X.size()[1]*(self.data_mean)\n",
    "        return (torch.logical_and(torch.abs(torch.sum((X-self.data_mean)*(X-self.data_mean))-self.w*X.size()[1])<0.01*self.w*X.size()[1],x_mean_cons ),self.w)\n",
    "\n",
    "prover_gen_settings([data_path], comb_data_path, prover_model,prover_model_path, \"default\", \"resources\", settings_path)"
   ]
  },
  {
   "cell_type": "code",
   "execution_count": 7,
   "metadata": {},
   "outputs": [
    {
     "name": "stderr",
     "output_type": "stream",
     "text": [
      "spawning module 0\n"
     ]
    },
    {
     "name": "stdout",
     "output_type": "stream",
     "text": [
      "==== setting up ezkl ====\n"
     ]
    },
    {
     "name": "stderr",
     "output_type": "stream",
     "text": [
      "spawning module 2\n",
      "spawning module 0\n",
      "spawning module 2\n"
     ]
    },
    {
     "name": "stdout",
     "output_type": "stream",
     "text": [
      "Time setup: 2.55598783493042 seconds\n",
      "=======================================\n",
      "Theory output:  tensor(211.8691)\n",
      "==== Generating Witness ====\n",
      "witness boolean:  1.0\n",
      "witness result 1 : 211.75\n",
      "==== Generating Proof ====\n"
     ]
    },
    {
     "name": "stderr",
     "output_type": "stream",
     "text": [
      "spawning module 0\n",
      "spawning module 2\n"
     ]
    },
    {
     "name": "stdout",
     "output_type": "stream",
     "text": [
      "proof:  {'instances': [[[12907834141446617622, 16863260785082668294, 2215826187815521673, 2191547160659437828], [12436184717236109307, 3962172157175319849, 7381016538464732718, 1011752739694698287], [988086122984763008, 8331390676852675036, 9456440076381036992, 2639995154681636326]]], 'proof': '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', 'transcript_type': 'EVM'}\n",
      "Time gen prf: 3.203911781311035 seconds\n"
     ]
    }
   ],
   "source": [
    "# Here verifier & prover can concurrently call setup since all params are public to get pk. \n",
    "# Here write as verifier function to emphasize that verifier must calculate its own vk to be sure\n",
    "verifier_setup(verifier_model_path, verifier_compiled_model_path, settings_path, srs_path,vk_path, pk_path )\n",
    "\n",
    "print(\"=======================================\")\n",
    "# Prover generates proof\n",
    "print(\"Theory output: \", theory_output)\n",
    "prover_gen_proof(prover_model_path, comb_data_path, witness_path, prover_compiled_model_path, settings_path, proof_path, pk_path, srs_path)"
   ]
  },
  {
   "cell_type": "code",
   "execution_count": 8,
   "metadata": {},
   "outputs": [
    {
     "name": "stdout",
     "output_type": "stream",
     "text": [
      "num_inputs:  1\n",
      "prf instances:  [[[12907834141446617622, 16863260785082668294, 2215826187815521673, 2191547160659437828], [12436184717236109307, 3962172157175319849, 7381016538464732718, 1011752739694698287], [988086122984763008, 8331390676852675036, 9456440076381036992, 2639995154681636326]]]\n",
      "proof boolean:  1.0\n",
      "proof result 1 : 211.75\n",
      "verified\n"
     ]
    }
   ],
   "source": [
    "# Verifier verifies\n",
    "verifier_verify(proof_path, settings_path, vk_path, srs_path)"
   ]
  },
  {
   "cell_type": "code",
   "execution_count": null,
   "metadata": {},
   "outputs": [],
   "source": []
  }
 ],
 "metadata": {
  "kernelspec": {
   "display_name": "Python 3",
   "language": "python",
   "name": "python3"
  },
  "language_info": {
   "codemirror_mode": {
    "name": "ipython",
    "version": 3
   },
   "file_extension": ".py",
   "mimetype": "text/x-python",
   "name": "python",
   "nbconvert_exporter": "python",
   "pygments_lexer": "ipython3",
   "version": "3.10.0"
  },
  "orig_nbformat": 4
 },
 "nbformat": 4,
 "nbformat_minor": 2
}
