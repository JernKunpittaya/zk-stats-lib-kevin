{
 "cells": [
  {
   "cell_type": "code",
   "execution_count": 1,
   "metadata": {},
   "outputs": [
    {
     "name": "stdout",
     "output_type": "stream",
     "text": [
      "Requirement already satisfied: ezkl==9.1.0 in /Users/jernkun/Library/Caches/pypoetry/virtualenvs/zkstats-OJpceffF-py3.11/lib/python3.11/site-packages (from -r ../../requirements.txt (line 1)) (9.1.0)\n",
      "Requirement already satisfied: torch in /Users/jernkun/Library/Caches/pypoetry/virtualenvs/zkstats-OJpceffF-py3.11/lib/python3.11/site-packages (from -r ../../requirements.txt (line 2)) (2.2.0)\n",
      "Requirement already satisfied: requests in /Users/jernkun/Library/Caches/pypoetry/virtualenvs/zkstats-OJpceffF-py3.11/lib/python3.11/site-packages (from -r ../../requirements.txt (line 3)) (2.31.0)\n",
      "Requirement already satisfied: scipy in /Users/jernkun/Library/Caches/pypoetry/virtualenvs/zkstats-OJpceffF-py3.11/lib/python3.11/site-packages (from -r ../../requirements.txt (line 4)) (1.12.0)\n",
      "Requirement already satisfied: numpy in /Users/jernkun/Library/Caches/pypoetry/virtualenvs/zkstats-OJpceffF-py3.11/lib/python3.11/site-packages (from -r ../../requirements.txt (line 5)) (1.26.3)\n",
      "Requirement already satisfied: matplotlib in /Users/jernkun/Library/Caches/pypoetry/virtualenvs/zkstats-OJpceffF-py3.11/lib/python3.11/site-packages (from -r ../../requirements.txt (line 6)) (3.8.2)\n",
      "Requirement already satisfied: statistics in /Users/jernkun/Library/Caches/pypoetry/virtualenvs/zkstats-OJpceffF-py3.11/lib/python3.11/site-packages (from -r ../../requirements.txt (line 7)) (1.0.3.5)\n",
      "Requirement already satisfied: onnx in /Users/jernkun/Library/Caches/pypoetry/virtualenvs/zkstats-OJpceffF-py3.11/lib/python3.11/site-packages (from -r ../../requirements.txt (line 8)) (1.15.0)\n",
      "Requirement already satisfied: filelock in /Users/jernkun/Library/Caches/pypoetry/virtualenvs/zkstats-OJpceffF-py3.11/lib/python3.11/site-packages (from torch->-r ../../requirements.txt (line 2)) (3.13.1)\n",
      "Requirement already satisfied: typing-extensions>=4.8.0 in /Users/jernkun/Library/Caches/pypoetry/virtualenvs/zkstats-OJpceffF-py3.11/lib/python3.11/site-packages (from torch->-r ../../requirements.txt (line 2)) (4.9.0)\n",
      "Requirement already satisfied: sympy in /Users/jernkun/Library/Caches/pypoetry/virtualenvs/zkstats-OJpceffF-py3.11/lib/python3.11/site-packages (from torch->-r ../../requirements.txt (line 2)) (1.12)\n",
      "Requirement already satisfied: networkx in /Users/jernkun/Library/Caches/pypoetry/virtualenvs/zkstats-OJpceffF-py3.11/lib/python3.11/site-packages (from torch->-r ../../requirements.txt (line 2)) (3.2.1)\n",
      "Requirement already satisfied: jinja2 in /Users/jernkun/Library/Caches/pypoetry/virtualenvs/zkstats-OJpceffF-py3.11/lib/python3.11/site-packages (from torch->-r ../../requirements.txt (line 2)) (3.1.3)\n",
      "Requirement already satisfied: fsspec in /Users/jernkun/Library/Caches/pypoetry/virtualenvs/zkstats-OJpceffF-py3.11/lib/python3.11/site-packages (from torch->-r ../../requirements.txt (line 2)) (2023.12.2)\n",
      "Requirement already satisfied: charset-normalizer<4,>=2 in /Users/jernkun/Library/Caches/pypoetry/virtualenvs/zkstats-OJpceffF-py3.11/lib/python3.11/site-packages (from requests->-r ../../requirements.txt (line 3)) (3.3.2)\n",
      "Requirement already satisfied: idna<4,>=2.5 in /Users/jernkun/Library/Caches/pypoetry/virtualenvs/zkstats-OJpceffF-py3.11/lib/python3.11/site-packages (from requests->-r ../../requirements.txt (line 3)) (3.6)\n",
      "Requirement already satisfied: urllib3<3,>=1.21.1 in /Users/jernkun/Library/Caches/pypoetry/virtualenvs/zkstats-OJpceffF-py3.11/lib/python3.11/site-packages (from requests->-r ../../requirements.txt (line 3)) (2.2.0)\n",
      "Requirement already satisfied: certifi>=2017.4.17 in /Users/jernkun/Library/Caches/pypoetry/virtualenvs/zkstats-OJpceffF-py3.11/lib/python3.11/site-packages (from requests->-r ../../requirements.txt (line 3)) (2024.2.2)\n",
      "Requirement already satisfied: contourpy>=1.0.1 in /Users/jernkun/Library/Caches/pypoetry/virtualenvs/zkstats-OJpceffF-py3.11/lib/python3.11/site-packages (from matplotlib->-r ../../requirements.txt (line 6)) (1.2.0)\n",
      "Requirement already satisfied: cycler>=0.10 in /Users/jernkun/Library/Caches/pypoetry/virtualenvs/zkstats-OJpceffF-py3.11/lib/python3.11/site-packages (from matplotlib->-r ../../requirements.txt (line 6)) (0.12.1)\n",
      "Requirement already satisfied: fonttools>=4.22.0 in /Users/jernkun/Library/Caches/pypoetry/virtualenvs/zkstats-OJpceffF-py3.11/lib/python3.11/site-packages (from matplotlib->-r ../../requirements.txt (line 6)) (4.47.2)\n",
      "Requirement already satisfied: kiwisolver>=1.3.1 in /Users/jernkun/Library/Caches/pypoetry/virtualenvs/zkstats-OJpceffF-py3.11/lib/python3.11/site-packages (from matplotlib->-r ../../requirements.txt (line 6)) (1.4.5)\n",
      "Requirement already satisfied: packaging>=20.0 in /Users/jernkun/Library/Caches/pypoetry/virtualenvs/zkstats-OJpceffF-py3.11/lib/python3.11/site-packages (from matplotlib->-r ../../requirements.txt (line 6)) (23.2)\n",
      "Requirement already satisfied: pillow>=8 in /Users/jernkun/Library/Caches/pypoetry/virtualenvs/zkstats-OJpceffF-py3.11/lib/python3.11/site-packages (from matplotlib->-r ../../requirements.txt (line 6)) (10.2.0)\n",
      "Requirement already satisfied: pyparsing>=2.3.1 in /Users/jernkun/Library/Caches/pypoetry/virtualenvs/zkstats-OJpceffF-py3.11/lib/python3.11/site-packages (from matplotlib->-r ../../requirements.txt (line 6)) (3.1.1)\n",
      "Requirement already satisfied: python-dateutil>=2.7 in /Users/jernkun/Library/Caches/pypoetry/virtualenvs/zkstats-OJpceffF-py3.11/lib/python3.11/site-packages (from matplotlib->-r ../../requirements.txt (line 6)) (2.8.2)\n",
      "Requirement already satisfied: docutils>=0.3 in /Users/jernkun/Library/Caches/pypoetry/virtualenvs/zkstats-OJpceffF-py3.11/lib/python3.11/site-packages (from statistics->-r ../../requirements.txt (line 7)) (0.20.1)\n",
      "Requirement already satisfied: protobuf>=3.20.2 in /Users/jernkun/Library/Caches/pypoetry/virtualenvs/zkstats-OJpceffF-py3.11/lib/python3.11/site-packages (from onnx->-r ../../requirements.txt (line 8)) (4.25.2)\n",
      "Requirement already satisfied: six>=1.5 in /Users/jernkun/Library/Caches/pypoetry/virtualenvs/zkstats-OJpceffF-py3.11/lib/python3.11/site-packages (from python-dateutil>=2.7->matplotlib->-r ../../requirements.txt (line 6)) (1.16.0)\n",
      "Requirement already satisfied: MarkupSafe>=2.0 in /Users/jernkun/Library/Caches/pypoetry/virtualenvs/zkstats-OJpceffF-py3.11/lib/python3.11/site-packages (from jinja2->torch->-r ../../requirements.txt (line 2)) (2.1.4)\n",
      "Requirement already satisfied: mpmath>=0.19 in /Users/jernkun/Library/Caches/pypoetry/virtualenvs/zkstats-OJpceffF-py3.11/lib/python3.11/site-packages (from sympy->torch->-r ../../requirements.txt (line 2)) (1.3.0)\n",
      "\n",
      "\u001b[1m[\u001b[0m\u001b[34;49mnotice\u001b[0m\u001b[1;39;49m]\u001b[0m\u001b[39;49m A new release of pip is available: \u001b[0m\u001b[31;49m23.2.1\u001b[0m\u001b[39;49m -> \u001b[0m\u001b[32;49m24.0\u001b[0m\n",
      "\u001b[1m[\u001b[0m\u001b[34;49mnotice\u001b[0m\u001b[1;39;49m]\u001b[0m\u001b[39;49m To update, run: \u001b[0m\u001b[32;49mpip install --upgrade pip\u001b[0m\n",
      "Note: you may need to restart the kernel to use updated packages.\n"
     ]
    }
   ],
   "source": [
    "pip install -r ../../requirements.txt"
   ]
  },
  {
   "cell_type": "code",
   "execution_count": 2,
   "metadata": {},
   "outputs": [],
   "source": [
    "import ezkl\n",
    "import torch\n",
    "from torch import nn\n",
    "import json\n",
    "import os\n",
    "import time\n",
    "import scipy\n",
    "import numpy as np\n",
    "import matplotlib.pyplot as plt\n",
    "import statistics\n",
    "import math"
   ]
  },
  {
   "cell_type": "code",
   "execution_count": 3,
   "metadata": {},
   "outputs": [],
   "source": [
    "from zkstats.core import create_dummy, verifier_define_calculation, prover_gen_settings, setup, prover_gen_proof, verifier_verify, get_data_commitment_maps"
   ]
  },
  {
   "cell_type": "code",
   "execution_count": 4,
   "metadata": {},
   "outputs": [],
   "source": [
    "# init path\n",
    "os.makedirs(os.path.dirname('shared/'), exist_ok=True)\n",
    "os.makedirs(os.path.dirname('prover/'), exist_ok=True)\n",
    "verifier_model_path = os.path.join('shared/verifier.onnx')\n",
    "prover_model_path = os.path.join('prover/prover.onnx')\n",
    "verifier_compiled_model_path = os.path.join('shared/verifier.compiled')\n",
    "prover_compiled_model_path = os.path.join('prover/prover.compiled')\n",
    "pk_path = os.path.join('shared/test.pk')\n",
    "vk_path = os.path.join('shared/test.vk')\n",
    "proof_path = os.path.join('shared/test.pf')\n",
    "settings_path = os.path.join('shared/settings.json')\n",
    "srs_path = os.path.join('shared/kzg.srs')\n",
    "witness_path = os.path.join('prover/witness.json')\n",
    "# this is private to prover since it contains actual data\n",
    "sel_data_path = os.path.join('prover/sel_data.json')\n",
    "# this is just dummy random value\n",
    "sel_dummy_data_path = os.path.join('shared/sel_dummy_data.json')"
   ]
  },
  {
   "attachments": {},
   "cell_type": "markdown",
   "metadata": {},
   "source": [
    "=======================  ZK-STATS FLOW ======================="
   ]
  },
  {
   "cell_type": "code",
   "execution_count": 5,
   "metadata": {},
   "outputs": [],
   "source": [
    "data_path = os.path.join('data.json')\n",
    "dummy_data_path = os.path.join('shared/dummy_data.json')\n",
    "create_dummy(data_path, dummy_data_path)"
   ]
  },
  {
   "cell_type": "code",
   "execution_count": 6,
   "metadata": {},
   "outputs": [],
   "source": [
    "scales = [2]\n",
    "selected_columns = ['col_name']\n",
    "commitment_maps = get_data_commitment_maps(data_path, scales)"
   ]
  },
  {
   "cell_type": "code",
   "execution_count": 7,
   "metadata": {},
   "outputs": [
    {
     "name": "stderr",
     "output_type": "stream",
     "text": [
      "/Users/jernkun/Desktop/zk-stats-lib/zkstats/computation.py:166: TracerWarning: torch.tensor results are registered as constants in the trace. You can safely ignore this warning if you use this function to create tensors out of constant variables that would be the same every time you call this function. In any other case, this might cause the trace to be incorrect.\n",
      "  is_precise_aggregated = torch.tensor(1.0)\n",
      "/Users/jernkun/Library/Caches/pypoetry/virtualenvs/zkstats-OJpceffF-py3.11/lib/python3.11/site-packages/torch/onnx/symbolic_opset9.py:2174: FutureWarning: 'torch.onnx.symbolic_opset9._cast_Bool' is deprecated in version 2.0 and will be removed in the future. Please Avoid using this function and create a Cast node instead.\n",
      "  return fn(g, to_cast_func(g, input, False), to_cast_func(g, other, False))\n"
     ]
    }
   ],
   "source": [
    "# Verifier/ data consumer side: send desired calculation\n",
    "from zkstats.computation import computation_to_model, State\n",
    "\n",
    "\n",
    "def computation(s: State, data: list[torch.Tensor]) -> torch.Tensor:\n",
    "    x = data[0]\n",
    "    return s.pvariance(x)\n",
    "\n",
    "error = 0.01\n",
    "_, verifier_model = computation_to_model(computation, error)\n",
    "\n",
    "verifier_define_calculation(dummy_data_path, selected_columns, sel_dummy_data_path, verifier_model, verifier_model_path)"
   ]
  },
  {
   "cell_type": "code",
   "execution_count": 8,
   "metadata": {},
   "outputs": [
    {
     "name": "stderr",
     "output_type": "stream",
     "text": [
      "\n",
      "\n",
      " <------------- Numerical Fidelity Report (input_scale: 2, param_scale: 2, scale_input_multiplier: 1) ------------->\n",
      "\n",
      "+-------------+--------------+------------+-----------+----------------+------------------+---------------+---------------+--------------------+--------------------+------------------------+\n",
      "| mean_error  | median_error | max_error  | min_error | mean_abs_error | median_abs_error | max_abs_error | min_abs_error | mean_squared_error | mean_percent_error | mean_abs_percent_error |\n",
      "+-------------+--------------+------------+-----------+----------------+------------------+---------------+---------------+--------------------+--------------------+------------------------+\n",
      "| 0.059547424 | 0.11909485   | 0.11909485 | 0         | 0.059547424    | 0.11909485       | 0.11909485    | 0             | 0.0070917914       | 0.0002810576       | 0.0002810576           |\n",
      "+-------------+--------------+------------+-----------+----------------+------------------+---------------+---------------+--------------------+--------------------+------------------------+\n",
      "\n",
      "\n"
     ]
    },
    {
     "name": "stdout",
     "output_type": "stream",
     "text": [
      "==== Generate & Calibrate Setting ====\n",
      "scale:  [2]\n",
      "setting:  {\"run_args\":{\"tolerance\":{\"val\":0.0,\"scale\":1.0},\"input_scale\":2,\"param_scale\":2,\"scale_rebase_multiplier\":1,\"lookup_range\":[-5082,2],\"logrows\":14,\"num_inner_cols\":2,\"variables\":[[\"batch_size\",1]],\"input_visibility\":{\"Hashed\":{\"hash_is_public\":true,\"outlets\":[]}},\"output_visibility\":\"Public\",\"param_visibility\":\"Private\",\"div_rebasing\":false,\"rebase_frac_zero_constants\":false,\"check_mode\":\"UNSAFE\"},\"num_rows\":14432,\"total_assignments\":2722,\"total_const_size\":309,\"model_instance_shapes\":[[1],[1]],\"model_output_scales\":[0,2],\"model_input_scales\":[2],\"module_sizes\":{\"kzg\":[],\"poseidon\":[14432,[1]]},\"required_lookups\":[{\"GreaterThan\":{\"a\":0.0}},\"Abs\"],\"required_range_checks\":[[-2,2]],\"check_mode\":\"UNSAFE\",\"version\":\"9.1.0\",\"num_blinding_factors\":null,\"timestamp\":1709450996625}\n"
     ]
    }
   ],
   "source": [
    "# Prover/ data owner side\n",
    "_, prover_model = computation_to_model(computation, error)\n",
    "\n",
    "prover_gen_settings(data_path, selected_columns, sel_data_path, prover_model,prover_model_path, scales, \"resources\", settings_path)"
   ]
  },
  {
   "cell_type": "code",
   "execution_count": 9,
   "metadata": {},
   "outputs": [
    {
     "name": "stdout",
     "output_type": "stream",
     "text": [
      "==== setting up ezkl ====\n",
      "Time setup: 1.6004958152770996 seconds\n",
      "=======================================\n",
      "==== Generating Witness ====\n",
      "witness boolean:  1.0\n",
      "witness result 1 : 211.75\n",
      "==== Generating Proof ====\n",
      "proof:  {'instances': [['31220e5513f6e9b7d0f59d8f019cd197642a431b2136f0311abf6046c9006227', '0100000000000000000000000000000000000000000000000000000000000000', '4f03000000000000000000000000000000000000000000000000000000000000']], 'proof': '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', 'transcript_type': 'EVM'}\n",
      "Time gen prf: 2.354520082473755 seconds\n"
     ]
    }
   ],
   "source": [
    "# Here verifier & prover can concurrently call setup since all params are public to get pk.\n",
    "# Here write as verifier function to emphasize that verifier must calculate its own vk to be sure\n",
    "setup(verifier_model_path, verifier_compiled_model_path, settings_path,vk_path, pk_path )\n",
    "\n",
    "print(\"=======================================\")\n",
    "# Prover generates proof\n",
    "prover_gen_proof(prover_model_path, sel_data_path, witness_path, prover_compiled_model_path, settings_path, proof_path, pk_path)"
   ]
  },
  {
   "cell_type": "code",
   "execution_count": 11,
   "metadata": {},
   "outputs": [
    {
     "name": "stdout",
     "output_type": "stream",
     "text": [
      "Verifier gets result: [211.75]\n"
     ]
    }
   ],
   "source": [
    "# Verifier verifies\n",
    "res = verifier_verify(proof_path, settings_path, vk_path, selected_columns, commitment_maps)\n",
    "print(\"Verifier gets result:\", res)"
   ]
  },
  {
   "cell_type": "code",
   "execution_count": null,
   "metadata": {},
   "outputs": [],
   "source": []
  }
 ],
 "metadata": {
  "kernelspec": {
   "display_name": "Python 3",
   "language": "python",
   "name": "python3"
  },
  "language_info": {
   "codemirror_mode": {
    "name": "ipython",
    "version": 3
   },
   "file_extension": ".py",
   "mimetype": "text/x-python",
   "name": "python",
   "nbconvert_exporter": "python",
   "pygments_lexer": "ipython3",
   "version": "3.11.4"
  },
  "orig_nbformat": 4
 },
 "nbformat": 4,
 "nbformat_minor": 2
}
