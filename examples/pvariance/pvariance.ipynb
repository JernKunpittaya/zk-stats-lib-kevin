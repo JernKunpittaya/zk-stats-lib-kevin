{
 "cells": [
  {
   "cell_type": "code",
   "execution_count": 1,
   "metadata": {},
   "outputs": [
    {
     "name": "stdout",
     "output_type": "stream",
     "text": [
      "Requirement already satisfied: ezkl==7.0.0 in /Users/mhchia/Library/Caches/pypoetry/virtualenvs/zkstats-brXmXluj-py3.12/lib/python3.12/site-packages (from -r ../../requirements.txt (line 1)) (7.0.0)\n",
      "Requirement already satisfied: torch in /Users/mhchia/Library/Caches/pypoetry/virtualenvs/zkstats-brXmXluj-py3.12/lib/python3.12/site-packages (from -r ../../requirements.txt (line 2)) (2.2.0)\n",
      "Requirement already satisfied: requests in /Users/mhchia/Library/Caches/pypoetry/virtualenvs/zkstats-brXmXluj-py3.12/lib/python3.12/site-packages (from -r ../../requirements.txt (line 3)) (2.31.0)\n",
      "Requirement already satisfied: scipy in /Users/mhchia/Library/Caches/pypoetry/virtualenvs/zkstats-brXmXluj-py3.12/lib/python3.12/site-packages (from -r ../../requirements.txt (line 4)) (1.12.0)\n",
      "Requirement already satisfied: numpy in /Users/mhchia/Library/Caches/pypoetry/virtualenvs/zkstats-brXmXluj-py3.12/lib/python3.12/site-packages (from -r ../../requirements.txt (line 5)) (1.26.3)\n",
      "Requirement already satisfied: matplotlib in /Users/mhchia/Library/Caches/pypoetry/virtualenvs/zkstats-brXmXluj-py3.12/lib/python3.12/site-packages (from -r ../../requirements.txt (line 6)) (3.8.2)\n",
      "Requirement already satisfied: statistics in /Users/mhchia/Library/Caches/pypoetry/virtualenvs/zkstats-brXmXluj-py3.12/lib/python3.12/site-packages (from -r ../../requirements.txt (line 7)) (1.0.3.5)\n",
      "Requirement already satisfied: onnx in /Users/mhchia/Library/Caches/pypoetry/virtualenvs/zkstats-brXmXluj-py3.12/lib/python3.12/site-packages (from -r ../../requirements.txt (line 8)) (1.15.0)\n",
      "Requirement already satisfied: filelock in /Users/mhchia/Library/Caches/pypoetry/virtualenvs/zkstats-brXmXluj-py3.12/lib/python3.12/site-packages (from torch->-r ../../requirements.txt (line 2)) (3.13.1)\n",
      "Requirement already satisfied: typing-extensions>=4.8.0 in /Users/mhchia/Library/Caches/pypoetry/virtualenvs/zkstats-brXmXluj-py3.12/lib/python3.12/site-packages (from torch->-r ../../requirements.txt (line 2)) (4.9.0)\n",
      "Requirement already satisfied: sympy in /Users/mhchia/Library/Caches/pypoetry/virtualenvs/zkstats-brXmXluj-py3.12/lib/python3.12/site-packages (from torch->-r ../../requirements.txt (line 2)) (1.12)\n",
      "Requirement already satisfied: networkx in /Users/mhchia/Library/Caches/pypoetry/virtualenvs/zkstats-brXmXluj-py3.12/lib/python3.12/site-packages (from torch->-r ../../requirements.txt (line 2)) (3.2.1)\n",
      "Requirement already satisfied: jinja2 in /Users/mhchia/Library/Caches/pypoetry/virtualenvs/zkstats-brXmXluj-py3.12/lib/python3.12/site-packages (from torch->-r ../../requirements.txt (line 2)) (3.1.3)\n",
      "Requirement already satisfied: fsspec in /Users/mhchia/Library/Caches/pypoetry/virtualenvs/zkstats-brXmXluj-py3.12/lib/python3.12/site-packages (from torch->-r ../../requirements.txt (line 2)) (2023.12.2)\n",
      "Requirement already satisfied: charset-normalizer<4,>=2 in /Users/mhchia/Library/Caches/pypoetry/virtualenvs/zkstats-brXmXluj-py3.12/lib/python3.12/site-packages (from requests->-r ../../requirements.txt (line 3)) (3.3.2)\n",
      "Requirement already satisfied: idna<4,>=2.5 in /Users/mhchia/Library/Caches/pypoetry/virtualenvs/zkstats-brXmXluj-py3.12/lib/python3.12/site-packages (from requests->-r ../../requirements.txt (line 3)) (3.6)\n",
      "Requirement already satisfied: urllib3<3,>=1.21.1 in /Users/mhchia/Library/Caches/pypoetry/virtualenvs/zkstats-brXmXluj-py3.12/lib/python3.12/site-packages (from requests->-r ../../requirements.txt (line 3)) (2.2.0)\n",
      "Requirement already satisfied: certifi>=2017.4.17 in /Users/mhchia/Library/Caches/pypoetry/virtualenvs/zkstats-brXmXluj-py3.12/lib/python3.12/site-packages (from requests->-r ../../requirements.txt (line 3)) (2024.2.2)\n",
      "Requirement already satisfied: contourpy>=1.0.1 in /Users/mhchia/Library/Caches/pypoetry/virtualenvs/zkstats-brXmXluj-py3.12/lib/python3.12/site-packages (from matplotlib->-r ../../requirements.txt (line 6)) (1.2.0)\n",
      "Requirement already satisfied: cycler>=0.10 in /Users/mhchia/Library/Caches/pypoetry/virtualenvs/zkstats-brXmXluj-py3.12/lib/python3.12/site-packages (from matplotlib->-r ../../requirements.txt (line 6)) (0.12.1)\n",
      "Requirement already satisfied: fonttools>=4.22.0 in /Users/mhchia/Library/Caches/pypoetry/virtualenvs/zkstats-brXmXluj-py3.12/lib/python3.12/site-packages (from matplotlib->-r ../../requirements.txt (line 6)) (4.47.2)\n",
      "Requirement already satisfied: kiwisolver>=1.3.1 in /Users/mhchia/Library/Caches/pypoetry/virtualenvs/zkstats-brXmXluj-py3.12/lib/python3.12/site-packages (from matplotlib->-r ../../requirements.txt (line 6)) (1.4.5)\n",
      "Requirement already satisfied: packaging>=20.0 in /Users/mhchia/Library/Caches/pypoetry/virtualenvs/zkstats-brXmXluj-py3.12/lib/python3.12/site-packages (from matplotlib->-r ../../requirements.txt (line 6)) (23.2)\n",
      "Requirement already satisfied: pillow>=8 in /Users/mhchia/Library/Caches/pypoetry/virtualenvs/zkstats-brXmXluj-py3.12/lib/python3.12/site-packages (from matplotlib->-r ../../requirements.txt (line 6)) (10.2.0)\n",
      "Requirement already satisfied: pyparsing>=2.3.1 in /Users/mhchia/Library/Caches/pypoetry/virtualenvs/zkstats-brXmXluj-py3.12/lib/python3.12/site-packages (from matplotlib->-r ../../requirements.txt (line 6)) (3.1.1)\n",
      "Requirement already satisfied: python-dateutil>=2.7 in /Users/mhchia/Library/Caches/pypoetry/virtualenvs/zkstats-brXmXluj-py3.12/lib/python3.12/site-packages (from matplotlib->-r ../../requirements.txt (line 6)) (2.8.2)\n",
      "Requirement already satisfied: docutils>=0.3 in /Users/mhchia/Library/Caches/pypoetry/virtualenvs/zkstats-brXmXluj-py3.12/lib/python3.12/site-packages (from statistics->-r ../../requirements.txt (line 7)) (0.20.1)\n",
      "Requirement already satisfied: protobuf>=3.20.2 in /Users/mhchia/Library/Caches/pypoetry/virtualenvs/zkstats-brXmXluj-py3.12/lib/python3.12/site-packages (from onnx->-r ../../requirements.txt (line 8)) (4.25.2)\n",
      "Requirement already satisfied: six>=1.5 in /Users/mhchia/Library/Caches/pypoetry/virtualenvs/zkstats-brXmXluj-py3.12/lib/python3.12/site-packages (from python-dateutil>=2.7->matplotlib->-r ../../requirements.txt (line 6)) (1.16.0)\n",
      "Requirement already satisfied: MarkupSafe>=2.0 in /Users/mhchia/Library/Caches/pypoetry/virtualenvs/zkstats-brXmXluj-py3.12/lib/python3.12/site-packages (from jinja2->torch->-r ../../requirements.txt (line 2)) (2.1.4)\n",
      "Requirement already satisfied: mpmath>=0.19 in /Users/mhchia/Library/Caches/pypoetry/virtualenvs/zkstats-brXmXluj-py3.12/lib/python3.12/site-packages (from sympy->torch->-r ../../requirements.txt (line 2)) (1.3.0)\n",
      "\n",
      "\u001b[1m[\u001b[0m\u001b[34;49mnotice\u001b[0m\u001b[1;39;49m]\u001b[0m\u001b[39;49m A new release of pip is available: \u001b[0m\u001b[31;49m23.3.1\u001b[0m\u001b[39;49m -> \u001b[0m\u001b[32;49m24.0\u001b[0m\n",
      "\u001b[1m[\u001b[0m\u001b[34;49mnotice\u001b[0m\u001b[1;39;49m]\u001b[0m\u001b[39;49m To update, run: \u001b[0m\u001b[32;49mpip install --upgrade pip\u001b[0m\n",
      "Note: you may need to restart the kernel to use updated packages.\n"
     ]
    }
   ],
   "source": [
    "pip install -r ../../requirements.txt"
   ]
  },
  {
   "cell_type": "code",
   "execution_count": 2,
   "metadata": {},
   "outputs": [],
   "source": [
    "import ezkl\n",
    "import torch\n",
    "from torch import nn\n",
    "import json\n",
    "import os\n",
    "import time\n",
    "import scipy\n",
    "import numpy as np\n",
    "import matplotlib.pyplot as plt\n",
    "import statistics\n",
    "import math"
   ]
  },
  {
   "cell_type": "code",
   "execution_count": 3,
   "metadata": {},
   "outputs": [],
   "source": [
    "%run -i ../../zkstats/core.py"
   ]
  },
  {
   "cell_type": "code",
   "execution_count": 4,
   "metadata": {},
   "outputs": [],
   "source": [
    "# init path\n",
    "os.makedirs(os.path.dirname('shared/'), exist_ok=True)\n",
    "os.makedirs(os.path.dirname('prover/'), exist_ok=True)\n",
    "verifier_model_path = os.path.join('shared/verifier.onnx')\n",
    "prover_model_path = os.path.join('prover/prover.onnx')\n",
    "verifier_compiled_model_path = os.path.join('shared/verifier.compiled')\n",
    "prover_compiled_model_path = os.path.join('prover/prover.compiled')\n",
    "pk_path = os.path.join('shared/test.pk')\n",
    "vk_path = os.path.join('shared/test.vk')\n",
    "proof_path = os.path.join('shared/test.pf')\n",
    "settings_path = os.path.join('shared/settings.json')\n",
    "srs_path = os.path.join('shared/kzg.srs')\n",
    "witness_path = os.path.join('prover/witness.json')\n",
    "# this is private to prover since it contains actual data\n",
    "sel_data_path = os.path.join('prover/sel_data.json')\n",
    "# this is just dummy random value\n",
    "sel_dummy_data_path = os.path.join('shared/sel_dummy_data.json')"
   ]
  },
  {
   "attachments": {},
   "cell_type": "markdown",
   "metadata": {},
   "source": [
    "=======================  ZK-STATS FLOW ======================="
   ]
  },
  {
   "cell_type": "code",
   "execution_count": 5,
   "metadata": {},
   "outputs": [],
   "source": [
    "data_path = os.path.join('data.json')\n",
    "dummy_data_path = os.path.join('shared/dummy_data.json')\n",
    "create_dummy(data_path, dummy_data_path)"
   ]
  },
  {
   "cell_type": "code",
   "execution_count": 6,
   "metadata": {},
   "outputs": [],
   "source": [
    "scales = [2]\n",
    "selected_columns = ['col_name']\n",
    "commitment_maps = get_data_commitment_maps(data_path, scales)"
   ]
  },
  {
   "cell_type": "code",
   "execution_count": 7,
   "metadata": {},
   "outputs": [
    {
     "name": "stderr",
     "output_type": "stream",
     "text": [
      "/Users/mhchia/projects/work/pse/zk-stats-lib/zkstats/computation.py:166: TracerWarning: torch.tensor results are registered as constants in the trace. You can safely ignore this warning if you use this function to create tensors out of constant variables that would be the same every time you call this function. In any other case, this might cause the trace to be incorrect.\n",
      "  is_precise_aggregated = torch.tensor(1.0)\n",
      "/Users/mhchia/Library/Caches/pypoetry/virtualenvs/zkstats-brXmXluj-py3.12/lib/python3.12/site-packages/torch/onnx/symbolic_opset9.py:2174: FutureWarning: 'torch.onnx.symbolic_opset9._cast_Bool' is deprecated in version 2.0 and will be removed in the future. Please Avoid using this function and create a Cast node instead.\n",
      "  return fn(g, to_cast_func(g, input, False), to_cast_func(g, other, False))\n"
     ]
    }
   ],
   "source": [
    "# Verifier/ data consumer side: send desired calculation\n",
    "from zkstats.computation import computation_to_model, State\n",
    "\n",
    "\n",
    "def computation(s: State, data: list[torch.Tensor]) -> torch.Tensor:\n",
    "    x = data[0]\n",
    "    return s.pvariance(x)\n",
    "\n",
    "error = 0.01\n",
    "_, verifier_model = computation_to_model(computation, error)\n",
    "\n",
    "verifier_define_calculation(dummy_data_path, selected_columns, sel_dummy_data_path, verifier_model, verifier_model_path)"
   ]
  },
  {
   "cell_type": "code",
   "execution_count": 8,
   "metadata": {},
   "outputs": [
    {
     "name": "stdout",
     "output_type": "stream",
     "text": [
      "==== Generate & Calibrate Setting ====\n",
      "scale:  [2]\n",
      "setting:  {\"run_args\":{\"tolerance\":{\"val\":0.0,\"scale\":1.0},\"input_scale\":2,\"param_scale\":2,\"scale_rebase_multiplier\":10,\"lookup_range\":[-20332,8],\"logrows\":15,\"num_inner_cols\":2,\"variables\":[[\"batch_size\",1]],\"input_visibility\":{\"Hashed\":{\"hash_is_public\":true,\"outlets\":[]}},\"output_visibility\":\"Public\",\"param_visibility\":\"Private\"},\"num_rows\":14432,\"total_assignments\":1522,\"total_const_size\":8,\"model_instance_shapes\":[[1],[1]],\"model_output_scales\":[0,2],\"model_input_scales\":[2],\"module_sizes\":{\"kzg\":[],\"poseidon\":[14432,[1]],\"elgamal\":[0,[0]]},\"required_lookups\":[\"Abs\",{\"GreaterThan\":{\"a\":0.0}}],\"check_mode\":\"UNSAFE\",\"version\":\"7.0.0\",\"num_blinding_factors\":null}\n"
     ]
    }
   ],
   "source": [
    "# Prover/ data owner side\n",
    "_, prover_model = computation_to_model(computation, error)\n",
    "\n",
    "prover_gen_settings(data_path, selected_columns, sel_data_path, prover_model,prover_model_path, scales, \"resources\", settings_path)"
   ]
  },
  {
   "cell_type": "code",
   "execution_count": 9,
   "metadata": {},
   "outputs": [
    {
     "name": "stderr",
     "output_type": "stream",
     "text": [
      "spawning module 0\n",
      "spawning module 2\n"
     ]
    },
    {
     "name": "stdout",
     "output_type": "stream",
     "text": [
      "==== setting up ezkl ====\n"
     ]
    },
    {
     "name": "stderr",
     "output_type": "stream",
     "text": [
      "spawning module 0\n",
      "spawning module 2\n"
     ]
    },
    {
     "name": "stdout",
     "output_type": "stream",
     "text": [
      "Time setup: 5.898558139801025 seconds\n",
      "=======================================\n",
      "==== Generating Witness ====\n",
      "witness boolean:  1.0\n",
      "witness result 1 : 211.75\n",
      "==== Generating Proof ====\n"
     ]
    },
    {
     "name": "stderr",
     "output_type": "stream",
     "text": [
      "spawning module 0\n",
      "spawning module 2\n"
     ]
    },
    {
     "name": "stdout",
     "output_type": "stream",
     "text": [
      "proof:  {'instances': [[[12907834141446617622, 16863260785082668294, 2215826187815521673, 2191547160659437828], [12436184717236109307, 3962172157175319849, 7381016538464732718, 1011752739694698287], [988086122984763008, 8331390676852675036, 9456440076381036992, 2639995154681636326]]], 'proof': '2e617d0b3f9f8fa8aa186dea6bdd480e7851722c6c801f87f07f7ec8a10548282294c0f92f6799d41129d0101766d9d2737868a63eacc1a3446426f9f35ed16415e03f5880ea7707959b871f921506773246457a0d62670a81462dbb4c6af1752f84818c2bd87ea15a60101d1e372ff9664a5c83e45b5bf3a2d10bec9ae5292023c2610b4f287cb53aadb1d4211db02f62f6cc9aee4c25dbeada657e5cb5f71b2ad522974903ba7c3e8870202c5e4f9099144d29e1ce8006b157b32f4b3acf2a045e4d8d5299e26e6f556ac958e158be70b44c454a798bc2e2a6d43c9bc21c28143f4430e9c26126f4dac72db73d830a8004bbd13bde79a68d97772e8178aaeb163a795aed6a777ea1a87f20eff83ccfe3c4a21b4ecb5887ede3c0f5c9ca437504b7cbaca789aa20dc58167eff488e9fd4a196d58a8eaf04656990ae56764e272349a78cccef3077e8299a9ac570769396908c9da40fea88deabb954626e87572f98f8e238d8003f87964d04551f5afacb7b465734c0e88f85e9934302101171297a11e6a2fc65e183307c943fdff6e147e8ba51d8ce57cee976bd0ef7311ffe183d98382a0bfacf472edca2a7d77db00d10a5ca64c207ffbcdbba89d49acd9c239f55495abbefde8ca9fd4251088ab7ff0ee6045cdc448429d3858ecfda875b0c2ecb5498f97e277abdf64118048bdc13de76e12667ae4e13a58641434f49ee064ebb7cea63f6e4b4677c4ff04907476fcdd665d885ad2e967b01d6787237e22b386f8759de610c87691da6a7036a5ada9c792f615a2d9619f218cef908074700577c5dc7510b687fd03b40c8718ca1b8a1330daa170d56349c5a79de6d10f90593096b71407e34ff579ee7b86792ea873f58f24933247328a34c3e0d1f9118281d6bf0c4f7413fe786410bd96d5eb27b4eebd12a00163fb19e3cc763f6af1012b5c71136c79acde2997608774ea110d86bce04e23a5c06259bc055726a49f500577c5dc7510b687fd03b40c8718ca1b8a1330daa170d56349c5a79de6d10f90593096b71407e34ff579ee7b86792ea873f58f24933247328a34c3e0d1f91180ebaf320c6e4cb0349ecc6f755cc4d09e29dd54ff3b3d5acc6dc046e25f2e30a215d3405ad6dcab3e31140e93dcc2d2ecc1c81fa8e1a59dafc94d4a8a2ba51a62d36a6f903c8fee805b72c9d50654f271f3980d3a3b5a5f3c09044d930db9638101b3eddb75c238e209c26b58e022781f4b78338f434d553ee84e22f0c4e097d001292642e4c0afa7cc3ef220a3e3509acd640dd9529532182a246fc987a7ba92dcf5c758d8a1e4c35575e4ac1c70810e4ee368b022c8654d78809176bc544d015e9ce9474fb8e36d552f100e808bdf9efd243a84283f70f42a78af1e6aa18601ffacb01c31e8de5eaff4808ef0da0825336a45a3314107c8f46fe3b026221e523ed962c9fb61da621808f473391ffaaba72a993b476628f382304dea7707c3b05b5d64fd807a981eb1f2e690d7c923880baa4c40ef389f5bd6346fbf428ec6c0e1680a47d08967ac9d1fc79a931109edf9757c83e52bc866a9901a1ce824611247fd130d3e8cfb2b36ae42d37aa80f9a36e3aca1017f24fd48ef71b5580890923d2cf2c95dcedbe00e923982f72861abdb932375271d6ccbe7fb0891430c4361b02b0a69f95d8560e69aa74e0d130192b9d176c4918bc26f106cf68e324e63b220bbf77dbe906ce55f389691756791646e4923b09f5886e35cee24e8b93645803ec93dcac9f31d53839ff3a1e7124322b34e5f9e0b65fade558f20ff8ba7f0426ae53d732377525c6f2aae8871fc48e3b2211ca8475878ce6f6fea9386140700f46217f6ce4a33aceb23be028dd008d5ef7a2efa46462e33b30449975bb4ee8271ffa780afb777010c50a49bab573f84054a090843d5c67c284e78f3aec45ab1abb1e369ea43b65c48e26597056cf11b2f84d3b11bc2e25dcb7001c9ea77ae727dc23b960ec42b4ab76af0e0e6a7950977409e43405f42599a5f46de962a9320b722f34069f5f4256c64ce82ac48b717afda3122dbbf4b8a79f74f14cee68bc01c717a7da9a5dc7d5cb6ba5ee627e0baff30fa815c66a1bec45508045b8e7322c1c2d0d23fd9fd675cdee6b9122b28ef3e918e08ba27c4827bfe88e36f4d82121368cb7ac5d3f23c216df03308914a9675b943bf5c14d23d9e5b979aff3522223e74fb5fdee8360f66233d73f1cadbeb34a34d8a239f81bae90bd0bb5c8fcc20f579faff6852c4c60c1add9caf20183c52383f293b208c845101026d4704c8813391181f123bb16293cdada4af62d8fc47ed51794ea6af8f18025759f7017c41178d243a067433cdbeadb0aa1b1ff7391f3fcce6ca801f07769627a50f4549809e7f3804f795014290fff0161f23b609905c85f6a688193e39ce0e4c7901d5300e56c08b1fdfbdd2ea6e68a7c755a05c61532fa1356ab1f4a94c9b559c5ed1f1379f7b3ce3762b98f771577e3dc0dfda3958e502ada742806fb66b3f0c910302b50b0c1b5b2284721157d79728f18452059a6f4b1a9118551ca84999bca29dd1cdf32c44c3389586481fc457a56edfe4233c49d58af21a2b8269244df664435270a5e895ea45cb50931fa2c40abc6067a7676919cc47f30d11d514ad90c2dce13f9287fdb36653087ba999637ee0e3e708c54f5bc58198b060e686f1011ffb80afe90c0980d2442c88706bfb4b9d799826bed96600ce1f3efbe6b682387a0831ec2a28e81a65bb5b98b8f4dfefb822715141f34806ce62d1328ae4d09bd3edd21d49e0a22ab7669762286b400ea52b8baf66cc47bb19a90637fa780a04cdb1a2b69b065047e032e3ce13c2f9652a790b5d59937527138032bae6eb4bec0e94214e8887672cea1e414efc1ec54189523d66b4aa33d1acbf908596508674b57881eb72db284dc77e8196ee7cdd9f58af6b8d15a2973e5089f04269b803084a9fd0b5167f2602f89b836e160d5c748415151cc6c4cefb8876f17d47f4396b232ad2f1d589793328b5e4c52217d7910c57313e4603bf984698b1ff1cfc6364052cd255138cb54cad6d119637d2ec70f944eebb767c153c43e0fa0a42d7824ee9a862502d9d44c4ee76848197dc1411dc93c1f147a6319f319b4864b0a995742ea9a1b0532f89baccc2f3606af1c7b20d6da950bdb2483fedef90a2c8440a0ad68b42d834f34cc4ad97a05b9b74072f6cafe966ea9f87fd5a2aa0689a889604dfbc60353250c7255fc1917e7c913e13b6a42a12bc3f4ed76edd29281a6fbac7bc8ea2a2d68fe496d3dde6d94898f8ad1e4d226863bec484e1061079fa1ed7421724300000000000000000000000000000000000000000000000000000000000000002a493f61c4d3b29e96739609a48b4edbc02062b3ed0fcd1cf7d356f10e9cd1be0000000000000000000000000000000000000000000000000000000000000000228205445d539e11c311e594db909715fa5358ccab55bf9b687f79d4142dcecc0da07be7fd3e54c1998d94e609389a90618fc7d22fd39cc12012bfa97b59d53e1644291008f6fb1c1d54e2c445d0456c27e18dd72349e47f3060608207be4b0803a9e64cddd76dfce63c7d9aaf2a70956960c1b9147a022d944da2c892f6e88305bbc89f12f61054c5a38c0be08fb35dbdc98094f3fe05a6dc0ea14484a3d8fe1f2104a9b7aae86c5a5def5d30f7306a9f3090016bac1ca3713360964c2bbcbf27c2953ca9f308064ee2bfd44d7f1f449ee973ec05b2064d1cc946cf794bfe032d1d673b0f43893ef8379d688e9b71f00d6cb1da92dd2a42cd6b3c60bc82cc7018ba06b0841eb36b441b60800946e2b2e740f6aead6bc9e23ec6d3bd90328e442a6f02106aa58ead7523c82f0a6d49b6758a674491f6a193f858a37dc6d5d900171c00b36e0c5607f0f93626ee2ba446d13a97997f55cf331ebebbbd1c3a5e8f2d9651ace7affc47fd7e3851145b6affc6d675cb0f829ad187b9ae5c2fc185f1241c27b36494e18b8789bdd2109a0b56bb02863cc5975d51b9d2086ba3bc20950210b4a4e26952cd98daecd2e3803d25868617b39e8eaaceb7a93beed2a5ba461ebbab4debec0d99d91d59aa715118a5af9a0dd2c4aa5964bedff678f4f052fc209f4738b9356d2619013499024d3edadc597e1fbaabffb8f862232b9eb88d45076b9d5345f904cd030f5e5c1013c1dbb62be5f44b37cf13ae6e6cc176dd6bb82f288cbd4daf9e266cf077daa4593080bb16db56b631ae6e15fd229af80f21dd09c7a05de8dc9764781400413444ac3d1c5a3c804af260aea6dc75615e4c9b5b07bfc24d3a7b49bda6e3a8838340febb7f48f5e9bc14c3113fb671fd27a0489b28d4662b18ddd87c6cc5f1cfc3beb965eb889a90b973c1a073bd2205940b2b062cfb5516c8b34fd6a83dea907331a85343fefd20b4dd98b8b50ba4eb3801f72e084a011761dffba180179603327f2a6ed3fac75cafc14d6659211838ead1030d168a042f5112d5ab73ee9cd48e3ec56f3a6aa1f6e0a1bd874e22f320a6c6f12e2d8dc55071d668501c6c4933bbf7f5ffc232f79d3624a91daba75d62de27801b1eee82cafb8412957d9cf1d0260a3aa9b0c0e52e85224336eedbf2412bf1789709c82fabe4efbfd741c31f1f2bc8af5812171734a875768eeea112ca73d0f6ed2738052ccc99ea23d245e10e65c6e0bbe9eb3cca6bba7eb8a1757857611b99e01b5c6acba45cc8e5d8b3502f2b5d2bbe0c3d1293855df7a9b31079c3840a8d9205406b17546c33981d57a8699417aa0c8958b07c3f4dfadaff6fb5e1e0818fdb14ef73a445c34d45371548e94e7dc3940d5ba3c7d2f124818173a71aa77ba7f904b5e79d3ed7522c36cb714562014100fff9c0efc70775743ebd48d5f5c19c5e04efbd4b22807a7f310971212699d7b925998acd0409059b441cab94ea5a07de0f256085f232ea74f1163780ac11aeeb29fbce064e3fa3968f0a19e40338157a24928b3f18805a31974de9fe94928afdf19e748c212b50f2124cc0dc37e2c4dc26faf33ba08e1b18d38cb526223b04fc7a75f7f3f6d0e7b02bb61c456ec84feb22995a8a0fb29bc9525b48c2c283fadcf9e3cd5841cfdcc30a7958ca981bff320d600031d83eb2a56775e272c9e64093caa9275eec408052ca53e367bf73402d04efbd4b22807a7f310971212699d7b925998acd0409059b441cab94ea5a07de09d78223ae4604fe38feca72468a96e8a8303e9db20fdf0709dac14e1babacd31b3803f3753923d756e609a4d3584a49ef36dd0aeb7f0ff01e220476622b32371b1fab3fc4d183cb305ebe817c7e7bb2b417ec72324f71ad663408f1b4585ff524fe0317c26a7a5b6037f6c4dc3fab6d1f9ca0b042cfc3c453d161b47ca322371358957e38bb5e309ca5283df9193ec7b8e35bd57cb90e9fdd18454f9f6541e01c1f67ab8fa1e804d1d6a56834b1a6dc34b73e27463f6b2b8614a00da2c8c0d30dec1f649ad1798997ae619817fc6dc81c9dc6e8b1fe68c2a84cfaffc6e6c387', 'transcript_type': 'EVM'}\n",
      "Time gen prf: 6.920274972915649 seconds\n"
     ]
    }
   ],
   "source": [
    "# Here verifier & prover can concurrently call setup since all params are public to get pk.\n",
    "# Here write as verifier function to emphasize that verifier must calculate its own vk to be sure\n",
    "setup(verifier_model_path, verifier_compiled_model_path, settings_path,vk_path, pk_path )\n",
    "\n",
    "print(\"=======================================\")\n",
    "# Prover generates proof\n",
    "prover_gen_proof(prover_model_path, sel_data_path, witness_path, prover_compiled_model_path, settings_path, proof_path, pk_path)"
   ]
  },
  {
   "cell_type": "code",
   "execution_count": 10,
   "metadata": {},
   "outputs": [
    {
     "name": "stdout",
     "output_type": "stream",
     "text": [
      "Verifier gets result: 211.75\n"
     ]
    }
   ],
   "source": [
    "# Verifier verifies\n",
    "res = verifier_verify(proof_path, settings_path, vk_path, selected_columns, commitment_maps)\n",
    "print(\"Verifier gets result:\", res)"
   ]
  }
 ],
 "metadata": {
  "kernelspec": {
   "display_name": "Python 3",
   "language": "python",
   "name": "python3"
  },
  "language_info": {
   "codemirror_mode": {
    "name": "ipython",
    "version": 3
   },
   "file_extension": ".py",
   "mimetype": "text/x-python",
   "name": "python",
   "nbconvert_exporter": "python",
   "pygments_lexer": "ipython3",
   "version": "3.12.1"
  },
  "orig_nbformat": 4
 },
 "nbformat": 4,
 "nbformat_minor": 2
}
