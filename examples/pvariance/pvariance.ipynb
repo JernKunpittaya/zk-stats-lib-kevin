{
 "cells": [
  {
   "cell_type": "code",
   "execution_count": 1,
   "metadata": {},
   "outputs": [
    {
     "name": "stdout",
     "output_type": "stream",
     "text": [
      "Requirement already satisfied: ezkl==5.0.8 in /Library/Frameworks/Python.framework/Versions/3.10/lib/python3.10/site-packages (from -r ../../requirements.txt (line 1)) (5.0.8)\n",
      "Requirement already satisfied: torch in /Library/Frameworks/Python.framework/Versions/3.10/lib/python3.10/site-packages (from -r ../../requirements.txt (line 2)) (2.1.1)\n",
      "Requirement already satisfied: requests in /Library/Frameworks/Python.framework/Versions/3.10/lib/python3.10/site-packages (from -r ../../requirements.txt (line 3)) (2.31.0)\n",
      "Requirement already satisfied: scipy in /Library/Frameworks/Python.framework/Versions/3.10/lib/python3.10/site-packages (from -r ../../requirements.txt (line 4)) (1.11.4)\n",
      "Requirement already satisfied: numpy in /Library/Frameworks/Python.framework/Versions/3.10/lib/python3.10/site-packages (from -r ../../requirements.txt (line 5)) (1.26.2)\n",
      "Requirement already satisfied: matplotlib in /Library/Frameworks/Python.framework/Versions/3.10/lib/python3.10/site-packages (from -r ../../requirements.txt (line 6)) (3.8.2)\n",
      "Requirement already satisfied: statistics in /Library/Frameworks/Python.framework/Versions/3.10/lib/python3.10/site-packages (from -r ../../requirements.txt (line 7)) (1.0.3.5)\n",
      "Requirement already satisfied: onnx in /Library/Frameworks/Python.framework/Versions/3.10/lib/python3.10/site-packages (from -r ../../requirements.txt (line 8)) (1.15.0)\n",
      "Requirement already satisfied: filelock in /Library/Frameworks/Python.framework/Versions/3.10/lib/python3.10/site-packages (from torch->-r ../../requirements.txt (line 2)) (3.13.1)\n",
      "Requirement already satisfied: networkx in /Library/Frameworks/Python.framework/Versions/3.10/lib/python3.10/site-packages (from torch->-r ../../requirements.txt (line 2)) (3.2.1)\n",
      "Requirement already satisfied: fsspec in /Library/Frameworks/Python.framework/Versions/3.10/lib/python3.10/site-packages (from torch->-r ../../requirements.txt (line 2)) (2023.10.0)\n",
      "Requirement already satisfied: sympy in /Library/Frameworks/Python.framework/Versions/3.10/lib/python3.10/site-packages (from torch->-r ../../requirements.txt (line 2)) (1.12)\n",
      "Requirement already satisfied: typing-extensions in /Library/Frameworks/Python.framework/Versions/3.10/lib/python3.10/site-packages (from torch->-r ../../requirements.txt (line 2)) (4.8.0)\n",
      "Requirement already satisfied: jinja2 in /Library/Frameworks/Python.framework/Versions/3.10/lib/python3.10/site-packages (from torch->-r ../../requirements.txt (line 2)) (3.1.2)\n",
      "Requirement already satisfied: urllib3<3,>=1.21.1 in /Library/Frameworks/Python.framework/Versions/3.10/lib/python3.10/site-packages (from requests->-r ../../requirements.txt (line 3)) (2.1.0)\n",
      "Requirement already satisfied: certifi>=2017.4.17 in /Library/Frameworks/Python.framework/Versions/3.10/lib/python3.10/site-packages (from requests->-r ../../requirements.txt (line 3)) (2023.11.17)\n",
      "Requirement already satisfied: charset-normalizer<4,>=2 in /Library/Frameworks/Python.framework/Versions/3.10/lib/python3.10/site-packages (from requests->-r ../../requirements.txt (line 3)) (3.3.2)\n",
      "Requirement already satisfied: idna<4,>=2.5 in /Library/Frameworks/Python.framework/Versions/3.10/lib/python3.10/site-packages (from requests->-r ../../requirements.txt (line 3)) (3.6)\n",
      "Requirement already satisfied: cycler>=0.10 in /Library/Frameworks/Python.framework/Versions/3.10/lib/python3.10/site-packages (from matplotlib->-r ../../requirements.txt (line 6)) (0.12.1)\n",
      "Requirement already satisfied: kiwisolver>=1.3.1 in /Library/Frameworks/Python.framework/Versions/3.10/lib/python3.10/site-packages (from matplotlib->-r ../../requirements.txt (line 6)) (1.4.5)\n",
      "Requirement already satisfied: fonttools>=4.22.0 in /Library/Frameworks/Python.framework/Versions/3.10/lib/python3.10/site-packages (from matplotlib->-r ../../requirements.txt (line 6)) (4.45.1)\n",
      "Requirement already satisfied: packaging>=20.0 in /Users/jernkun/Library/Python/3.10/lib/python/site-packages (from matplotlib->-r ../../requirements.txt (line 6)) (23.2)\n",
      "Requirement already satisfied: python-dateutil>=2.7 in /Users/jernkun/Library/Python/3.10/lib/python/site-packages (from matplotlib->-r ../../requirements.txt (line 6)) (2.8.2)\n",
      "Requirement already satisfied: contourpy>=1.0.1 in /Library/Frameworks/Python.framework/Versions/3.10/lib/python3.10/site-packages (from matplotlib->-r ../../requirements.txt (line 6)) (1.2.0)\n",
      "Requirement already satisfied: pillow>=8 in /Library/Frameworks/Python.framework/Versions/3.10/lib/python3.10/site-packages (from matplotlib->-r ../../requirements.txt (line 6)) (10.1.0)\n",
      "Requirement already satisfied: pyparsing>=2.3.1 in /Library/Frameworks/Python.framework/Versions/3.10/lib/python3.10/site-packages (from matplotlib->-r ../../requirements.txt (line 6)) (3.1.1)\n",
      "Requirement already satisfied: docutils>=0.3 in /Library/Frameworks/Python.framework/Versions/3.10/lib/python3.10/site-packages (from statistics->-r ../../requirements.txt (line 7)) (0.20.1)\n",
      "Requirement already satisfied: protobuf>=3.20.2 in /Library/Frameworks/Python.framework/Versions/3.10/lib/python3.10/site-packages (from onnx->-r ../../requirements.txt (line 8)) (4.25.1)\n",
      "Requirement already satisfied: six>=1.5 in /Users/jernkun/Library/Python/3.10/lib/python/site-packages (from python-dateutil>=2.7->matplotlib->-r ../../requirements.txt (line 6)) (1.16.0)\n",
      "Requirement already satisfied: MarkupSafe>=2.0 in /Library/Frameworks/Python.framework/Versions/3.10/lib/python3.10/site-packages (from jinja2->torch->-r ../../requirements.txt (line 2)) (2.1.3)\n",
      "Requirement already satisfied: mpmath>=0.19 in /Library/Frameworks/Python.framework/Versions/3.10/lib/python3.10/site-packages (from sympy->torch->-r ../../requirements.txt (line 2)) (1.3.0)\n",
      "\u001b[33mWARNING: You are using pip version 21.2.3; however, version 23.3.1 is available.\n",
      "You should consider upgrading via the '/usr/local/bin/python3 -m pip install --upgrade pip' command.\u001b[0m\n",
      "Note: you may need to restart the kernel to use updated packages.\n"
     ]
    }
   ],
   "source": [
    "pip install -r ../../requirements.txt"
   ]
  },
  {
   "cell_type": "code",
   "execution_count": 9,
   "metadata": {},
   "outputs": [],
   "source": [
    "import ezkl\n",
    "import torch\n",
    "from torch import nn\n",
    "import json\n",
    "import os\n",
    "import time\n",
    "import scipy\n",
    "import numpy as np\n",
    "import matplotlib.pyplot as plt\n",
    "import statistics\n",
    "import math"
   ]
  },
  {
   "cell_type": "code",
   "execution_count": 10,
   "metadata": {},
   "outputs": [],
   "source": [
    "%run -i ../../core.py"
   ]
  },
  {
   "cell_type": "code",
   "execution_count": 11,
   "metadata": {},
   "outputs": [],
   "source": [
    "# init path\n",
    "os.makedirs(os.path.dirname('shared/'), exist_ok=True)\n",
    "os.makedirs(os.path.dirname('prover/'), exist_ok=True)\n",
    "verifier_model_path = os.path.join('shared/verifier.onnx')\n",
    "prover_model_path = os.path.join('prover/prover.onnx')\n",
    "verifier_compiled_model_path = os.path.join('shared/verifier.compiled')\n",
    "prover_compiled_model_path = os.path.join('prover/prover.compiled')\n",
    "pk_path = os.path.join('shared/test.pk')\n",
    "vk_path = os.path.join('shared/test.vk')\n",
    "proof_path = os.path.join('shared/test.pf')\n",
    "settings_path = os.path.join('shared/settings.json')\n",
    "srs_path = os.path.join('shared/kzg.srs')\n",
    "witness_path = os.path.join('prover/witness.json')\n",
    "# this is private to prover since it contains actual data\n",
    "comb_data_path = os.path.join('prover/comb_data.json')"
   ]
  },
  {
   "attachments": {},
   "cell_type": "markdown",
   "metadata": {},
   "source": [
    "=======================  ZK-STATS FLOW ======================="
   ]
  },
  {
   "cell_type": "code",
   "execution_count": 12,
   "metadata": {},
   "outputs": [],
   "source": [
    "data_path = os.path.join('data.json')\n",
    "dummy_data_path = os.path.join('shared/dummy_data.json')\n",
    "\n",
    "f_raw_input = open(data_path, \"r\")\n",
    "data = json.loads(f_raw_input.read())[\"input_data\"][0]\n",
    "data_tensor = torch.reshape(torch.tensor(data),(1, len(data), 1))\n",
    "\n",
    "#  dummy data for data consumer: make the bound approx same as real data\n",
    "dummy_data = np.random.uniform(min(data), max(data), len(data))\n",
    "json.dump({\"input_data\":[dummy_data.tolist()]}, open(dummy_data_path, 'w'))\n",
    "\n",
    "dummy_data_tensor = torch.reshape(torch.tensor(dummy_data), (1, len(dummy_data),1 ))\n",
    "dummy_theory_output = torch.var(dummy_data_tensor, correction = 0)\n",
    "dummy_data_mean = torch.mean(dummy_data_tensor)"
   ]
  },
  {
   "cell_type": "code",
   "execution_count": 13,
   "metadata": {},
   "outputs": [
    {
     "name": "stderr",
     "output_type": "stream",
     "text": [
      "/Library/Frameworks/Python.framework/Versions/3.10/lib/python3.10/site-packages/torch/onnx/symbolic_opset9.py:2174: FutureWarning: 'torch.onnx.symbolic_opset9._cast_Bool' is deprecated in version 2.0 and will be removed in the future. Please Avoid using this function and create a Cast node instead.\n",
      "  return fn(g, to_cast_func(g, input, False), to_cast_func(g, other, False))\n"
     ]
    }
   ],
   "source": [
    "# Verifier/ data consumer side:\n",
    "class verifier_model(nn.Module):\n",
    "    def __init__(self):\n",
    "        super(verifier_model, self).__init__()\n",
    "        # w represents mean in this case\n",
    "        self.w = nn.Parameter(data = dummy_theory_output, requires_grad = False)\n",
    "        self.data_mean = nn.Parameter(data = dummy_data_mean, requires_grad = False)\n",
    "\n",
    "    def forward(self,X):\n",
    "        x_mean_cons = torch.abs(torch.sum(X)-X.size()[1]*(self.data_mean))<=torch.abs(0.01*X.size()[1]*self.data_mean)\n",
    "        return (torch.logical_and(torch.abs(torch.sum((X-self.data_mean)*(X-self.data_mean))-self.w*X.size()[1])<=torch.abs(0.01*self.w*X.size()[1]),x_mean_cons ),self.w)\n",
    "\n",
    "verifier_define_calculation(verifier_model, verifier_model_path, [dummy_data_path])"
   ]
  },
  {
   "cell_type": "code",
   "execution_count": 14,
   "metadata": {},
   "outputs": [
    {
     "name": "stdout",
     "output_type": "stream",
     "text": [
      "theory output:  tensor(211.8691)\n",
      "==== Generate & Calibrate Setting ====\n",
      "scale:  default\n",
      "setting:  {\"run_args\":{\"tolerance\":{\"val\":0.0,\"scale\":1.0},\"input_scale\":2,\"param_scale\":2,\"scale_rebase_multiplier\":10,\"lookup_range\":[-20332,8],\"logrows\":15,\"num_inner_cols\":1,\"variables\":[[\"batch_size\",1]],\"input_visibility\":{\"Hashed\":{\"hash_is_public\":true,\"outlets\":[]}},\"output_visibility\":\"Public\",\"param_visibility\":\"Private\"},\"num_rows\":14432,\"total_assignments\":1520,\"total_const_size\":8,\"model_instance_shapes\":[[1],[1]],\"model_output_scales\":[0,2],\"model_input_scales\":[2],\"module_sizes\":{\"kzg\":[],\"poseidon\":[14432,[1]],\"elgamal\":[0,[0]]},\"required_lookups\":[\"Abs\",{\"GreaterThan\":{\"a\":0.0}}],\"check_mode\":\"UNSAFE\",\"version\":\"5.0.8\",\"num_blinding_factors\":null}\n"
     ]
    }
   ],
   "source": [
    "# Prover/ data owner side\n",
    "theory_output = torch.var(data_tensor, correction = 0)\n",
    "data_mean = torch.mean(data_tensor)\n",
    "print(\"theory output: \", theory_output)\n",
    "class prover_model(nn.Module):\n",
    "    def __init__(self):\n",
    "        super(prover_model, self).__init__()\n",
    "        self.w = nn.Parameter(data = theory_output, requires_grad = False)\n",
    "        self.data_mean = nn.Parameter(data = data_mean, requires_grad = False)\n",
    "    def forward(self,X):\n",
    "        x_mean_cons = torch.abs(torch.sum(X)-X.size()[1]*(self.data_mean))<=torch.abs(0.01*X.size()[1]*self.data_mean)\n",
    "        return (torch.logical_and(torch.abs(torch.sum((X-self.data_mean)*(X-self.data_mean))-self.w*X.size()[1])<=torch.abs(0.01*self.w*X.size()[1]),x_mean_cons ),self.w)\n",
    "\n",
    "prover_gen_settings([data_path], comb_data_path, prover_model,prover_model_path, \"default\", \"resources\", settings_path)"
   ]
  },
  {
   "cell_type": "code",
   "execution_count": 15,
   "metadata": {},
   "outputs": [
    {
     "name": "stderr",
     "output_type": "stream",
     "text": [
      "spawning module 0\n"
     ]
    },
    {
     "name": "stdout",
     "output_type": "stream",
     "text": [
      "==== setting up ezkl ====\n"
     ]
    },
    {
     "name": "stderr",
     "output_type": "stream",
     "text": [
      "spawning module 2\n",
      "spawning module 0\n",
      "spawning module 2\n"
     ]
    },
    {
     "name": "stdout",
     "output_type": "stream",
     "text": [
      "Time setup: 2.6693801879882812 seconds\n",
      "=======================================\n",
      "Theory output:  tensor(211.8691)\n",
      "==== Generating Witness ====\n",
      "witness boolean:  1.0\n",
      "witness result 1 : 211.75\n",
      "==== Generating Proof ====\n"
     ]
    },
    {
     "name": "stderr",
     "output_type": "stream",
     "text": [
      "spawning module 0\n",
      "spawning module 2\n"
     ]
    },
    {
     "name": "stdout",
     "output_type": "stream",
     "text": [
      "proof:  {'instances': [[[12907834141446617622, 16863260785082668294, 2215826187815521673, 2191547160659437828], [12436184717236109307, 3962172157175319849, 7381016538464732718, 1011752739694698287], [988086122984763008, 8331390676852675036, 9456440076381036992, 2639995154681636326]]], 'proof': '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', 'transcript_type': 'EVM'}\n",
      "Time gen prf: 3.3532068729400635 seconds\n"
     ]
    }
   ],
   "source": [
    "# Here verifier & prover can concurrently call setup since all params are public to get pk. \n",
    "# Here write as verifier function to emphasize that verifier must calculate its own vk to be sure\n",
    "verifier_setup(verifier_model_path, verifier_compiled_model_path, settings_path, srs_path,vk_path, pk_path )\n",
    "\n",
    "print(\"=======================================\")\n",
    "# Prover generates proof\n",
    "print(\"Theory output: \", theory_output)\n",
    "prover_gen_proof(prover_model_path, comb_data_path, witness_path, prover_compiled_model_path, settings_path, proof_path, pk_path, srs_path)"
   ]
  },
  {
   "cell_type": "code",
   "execution_count": 17,
   "metadata": {},
   "outputs": [
    {
     "name": "stdout",
     "output_type": "stream",
     "text": [
      "num_inputs:  1\n",
      "prf instances:  [[[12907834141446617622, 16863260785082668294, 2215826187815521673, 2191547160659437828], [12436184717236109307, 3962172157175319849, 7381016538464732718, 1011752739694698287], [988086122984763008, 8331390676852675036, 9456440076381036992, 2639995154681636326]]]\n",
      "proof boolean:  1.0\n",
      "proof result 1 : 211.75\n",
      "verified\n"
     ]
    }
   ],
   "source": [
    "# Verifier verifies\n",
    "verifier_verify(proof_path, settings_path, vk_path, srs_path)"
   ]
  },
  {
   "cell_type": "code",
   "execution_count": null,
   "metadata": {},
   "outputs": [],
   "source": []
  }
 ],
 "metadata": {
  "kernelspec": {
   "display_name": "Python 3",
   "language": "python",
   "name": "python3"
  },
  "language_info": {
   "codemirror_mode": {
    "name": "ipython",
    "version": 3
   },
   "file_extension": ".py",
   "mimetype": "text/x-python",
   "name": "python",
   "nbconvert_exporter": "python",
   "pygments_lexer": "ipython3",
   "version": "3.10.0"
  },
  "orig_nbformat": 4
 },
 "nbformat": 4,
 "nbformat_minor": 2
}
