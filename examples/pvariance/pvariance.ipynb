{
 "cells": [
  {
   "cell_type": "code",
   "execution_count": 1,
   "metadata": {},
   "outputs": [],
   "source": [
    "import ezkl\n",
    "import torch\n",
    "from torch import nn\n",
    "import json\n",
    "import os\n",
    "import time\n",
    "import scipy\n",
    "import numpy as np\n",
    "import matplotlib.pyplot as plt\n",
    "import statistics\n",
    "import math"
   ]
  },
  {
   "cell_type": "code",
   "execution_count": 2,
   "metadata": {},
   "outputs": [],
   "source": [
    "from zkstats.core import create_dummy, verifier_define_calculation, prover_gen_settings, setup, prover_gen_proof, verifier_verify, generate_data_commitment"
   ]
  },
  {
   "cell_type": "code",
   "execution_count": 3,
   "metadata": {},
   "outputs": [],
   "source": [
    "# init path\n",
    "os.makedirs(os.path.dirname('shared/'), exist_ok=True)\n",
    "os.makedirs(os.path.dirname('prover/'), exist_ok=True)\n",
    "verifier_model_path = os.path.join('shared/verifier.onnx')\n",
    "prover_model_path = os.path.join('prover/prover.onnx')\n",
    "verifier_compiled_model_path = os.path.join('shared/verifier.compiled')\n",
    "prover_compiled_model_path = os.path.join('prover/prover.compiled')\n",
    "pk_path = os.path.join('shared/test.pk')\n",
    "vk_path = os.path.join('shared/test.vk')\n",
    "proof_path = os.path.join('shared/test.pf')\n",
    "settings_path = os.path.join('shared/settings.json')\n",
    "srs_path = os.path.join('shared/kzg.srs')\n",
    "witness_path = os.path.join('prover/witness.json')\n",
    "# this is private to prover since it contains actual data\n",
    "sel_data_path = os.path.join('prover/sel_data.json')\n",
    "# this is just dummy random value\n",
    "sel_dummy_data_path = os.path.join('shared/sel_dummy_data.json')\n",
    "data_commitment_path = os.path.join('shared/data_commitment.json')"
   ]
  },
  {
   "attachments": {},
   "cell_type": "markdown",
   "metadata": {},
   "source": [
    "=======================  ZK-STATS FLOW ======================="
   ]
  },
  {
   "cell_type": "code",
   "execution_count": 4,
   "metadata": {},
   "outputs": [],
   "source": [
    "data_path = os.path.join('data.json')\n",
    "dummy_data_path = os.path.join('shared/dummy_data.json')\n",
    "create_dummy(data_path, dummy_data_path)"
   ]
  },
  {
   "cell_type": "code",
   "execution_count": 5,
   "metadata": {},
   "outputs": [],
   "source": [
    "scales = [2]\n",
    "selected_columns = ['col_name']\n",
    "generate_data_commitment(data_path, scales, data_commitment_path)"
   ]
  },
  {
   "cell_type": "code",
   "execution_count": 6,
   "metadata": {},
   "outputs": [
    {
     "name": "stderr",
     "output_type": "stream",
     "text": [
      "/Users/jernkun/Desktop/zk-stats-lib/zkstats/computation.py:172: TracerWarning: torch.tensor results are registered as constants in the trace. You can safely ignore this warning if you use this function to create tensors out of constant variables that would be the same every time you call this function. In any other case, this might cause the trace to be incorrect.\n",
      "  is_precise_aggregated = torch.tensor(1.0)\n",
      "/Users/jernkun/Library/Caches/pypoetry/virtualenvs/zkstats-OJpceffF-py3.11/lib/python3.11/site-packages/torch/onnx/symbolic_opset9.py:2174: FutureWarning: 'torch.onnx.symbolic_opset9._cast_Bool' is deprecated in version 2.0 and will be removed in the future. Please Avoid using this function and create a Cast node instead.\n",
      "  return fn(g, to_cast_func(g, input, False), to_cast_func(g, other, False))\n",
      "/Users/jernkun/Library/Caches/pypoetry/virtualenvs/zkstats-OJpceffF-py3.11/lib/python3.11/site-packages/torch/onnx/utils.py:1703: UserWarning: The exported ONNX model failed ONNX shape inference. The model will not be executable by the ONNX Runtime. If this is unintended and you believe there is a bug, please report an issue at https://github.com/pytorch/pytorch/issues. Error reported by strict ONNX shape inference: [ShapeInferenceError] (op_type:Where, node name: /Where): Y has inconsistent type tensor(float) (Triggered internally at /Users/runner/work/pytorch/pytorch/pytorch/torch/csrc/jit/serialization/export.cpp:1490.)\n",
      "  _C._check_onnx_proto(proto)\n"
     ]
    }
   ],
   "source": [
    "# Verifier/ data consumer side: send desired calculation\n",
    "from zkstats.computation import computation_to_model, State\n",
    "\n",
    "\n",
    "def computation(s: State, data: list[torch.Tensor]) -> torch.Tensor:\n",
    "    x = data[0]\n",
    "    return s.pvariance(x)\n",
    "\n",
    "error = 0.01\n",
    "_, verifier_model = computation_to_model(computation, error)\n",
    "\n",
    "verifier_define_calculation(dummy_data_path, selected_columns, sel_dummy_data_path, verifier_model, verifier_model_path)"
   ]
  },
  {
   "cell_type": "code",
   "execution_count": 7,
   "metadata": {},
   "outputs": [
    {
     "name": "stdout",
     "output_type": "stream",
     "text": [
      "==== Generate & Calibrate Setting ====\n"
     ]
    },
    {
     "name": "stderr",
     "output_type": "stream",
     "text": [
      "\n",
      "\n",
      " <------------- Numerical Fidelity Report (input_scale: 2, param_scale: 2, scale_input_multiplier: 1) ------------->\n",
      "\n",
      "+-------------+--------------+------------+-----------+----------------+------------------+---------------+---------------+--------------------+--------------------+------------------------+\n",
      "| mean_error  | median_error | max_error  | min_error | mean_abs_error | median_abs_error | max_abs_error | min_abs_error | mean_squared_error | mean_percent_error | mean_abs_percent_error |\n",
      "+-------------+--------------+------------+-----------+----------------+------------------+---------------+---------------+--------------------+--------------------+------------------------+\n",
      "| 0.059547424 | 0.11909485   | 0.11909485 | 0         | 0.059547424    | 0.11909485       | 0.11909485    | 0             | 0.0070917914       | 0.0002810576       | 0.0002810576           |\n",
      "+-------------+--------------+------------+-----------+----------------+------------------+---------------+---------------+--------------------+--------------------+------------------------+\n",
      "\n",
      "\n"
     ]
    },
    {
     "name": "stdout",
     "output_type": "stream",
     "text": [
      "scale:  [2]\n",
      "setting:  {\"run_args\":{\"tolerance\":{\"val\":0.0,\"scale\":1.0},\"input_scale\":2,\"param_scale\":2,\"scale_rebase_multiplier\":1,\"lookup_range\":[-4512,4800],\"logrows\":14,\"num_inner_cols\":2,\"variables\":[[\"batch_size\",1]],\"input_visibility\":{\"Hashed\":{\"hash_is_public\":true,\"outlets\":[]}},\"output_visibility\":\"Public\",\"param_visibility\":\"Private\",\"div_rebasing\":false,\"rebase_frac_zero_constants\":false,\"check_mode\":\"UNSAFE\"},\"num_rows\":14432,\"total_assignments\":9932,\"total_const_size\":2113,\"model_instance_shapes\":[[1],[1]],\"model_output_scales\":[0,2],\"model_input_scales\":[2],\"module_sizes\":{\"kzg\":[],\"poseidon\":[14432,[1]]},\"required_lookups\":[\"Abs\",{\"GreaterThan\":{\"a\":0.0}}],\"required_range_checks\":[[-2,2]],\"check_mode\":\"UNSAFE\",\"version\":\"9.1.0\",\"num_blinding_factors\":null,\"timestamp\":1709726157467}\n"
     ]
    }
   ],
   "source": [
    "# Prover/ data owner side\n",
    "_, prover_model = computation_to_model(computation, error)\n",
    "\n",
    "prover_gen_settings(data_path, selected_columns, sel_data_path, prover_model,prover_model_path, scales, \"resources\", settings_path)"
   ]
  },
  {
   "cell_type": "code",
   "execution_count": 8,
   "metadata": {},
   "outputs": [
    {
     "name": "stdout",
     "output_type": "stream",
     "text": [
      "==== setting up ezkl ====\n",
      "Time setup: 1.720738172531128 seconds\n",
      "=======================================\n",
      "==== Generating Witness ====\n",
      "witness boolean:  1.0\n",
      "witness result 1 : 211.75\n",
      "==== Generating Proof ====\n",
      "proof:  {'instances': [['31220e5513f6e9b7d0f59d8f019cd197642a431b2136f0311abf6046c9006227', '0100000000000000000000000000000000000000000000000000000000000000', '4f03000000000000000000000000000000000000000000000000000000000000']], 'proof': '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', 'transcript_type': 'EVM'}\n",
      "Time gen prf: 2.419577121734619 seconds\n"
     ]
    }
   ],
   "source": [
    "# Here verifier & prover can concurrently call setup since all params are public to get pk.\n",
    "# Here write as verifier function to emphasize that verifier must calculate its own vk to be sure\n",
    "setup(verifier_model_path, verifier_compiled_model_path, settings_path,vk_path, pk_path )\n",
    "\n",
    "print(\"=======================================\")\n",
    "# Prover generates proof\n",
    "prover_gen_proof(prover_model_path, sel_data_path, witness_path, prover_compiled_model_path, settings_path, proof_path, pk_path)"
   ]
  },
  {
   "cell_type": "code",
   "execution_count": 9,
   "metadata": {},
   "outputs": [
    {
     "name": "stdout",
     "output_type": "stream",
     "text": [
      "Verifier gets result: [211.75]\n"
     ]
    }
   ],
   "source": [
    "# Verifier verifies\n",
    "res = verifier_verify(proof_path, settings_path, vk_path, selected_columns, data_commitment_path)\n",
    "print(\"Verifier gets result:\", res)"
   ]
  },
  {
   "cell_type": "code",
   "execution_count": null,
   "metadata": {},
   "outputs": [],
   "source": []
  }
 ],
 "metadata": {
  "kernelspec": {
   "display_name": "Python 3",
   "language": "python",
   "name": "python3"
  },
  "language_info": {
   "codemirror_mode": {
    "name": "ipython",
    "version": 3
   },
   "file_extension": ".py",
   "mimetype": "text/x-python",
   "name": "python",
   "nbconvert_exporter": "python",
   "pygments_lexer": "ipython3",
   "version": "3.11.4"
  },
  "orig_nbformat": 4
 },
 "nbformat": 4,
 "nbformat_minor": 2
}
