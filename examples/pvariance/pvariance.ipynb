{
 "cells": [
  {
   "cell_type": "code",
   "execution_count": 1,
   "metadata": {},
   "outputs": [
    {
     "name": "stdout",
     "output_type": "stream",
     "text": [
      "Requirement already satisfied: ezkl==7.0.0 in /Library/Frameworks/Python.framework/Versions/3.10/lib/python3.10/site-packages (from -r ../../requirements.txt (line 1)) (7.0.0)\n",
      "Requirement already satisfied: torch in /Library/Frameworks/Python.framework/Versions/3.10/lib/python3.10/site-packages (from -r ../../requirements.txt (line 2)) (2.1.1)\n",
      "Requirement already satisfied: requests in /Library/Frameworks/Python.framework/Versions/3.10/lib/python3.10/site-packages (from -r ../../requirements.txt (line 3)) (2.31.0)\n",
      "Requirement already satisfied: scipy in /Library/Frameworks/Python.framework/Versions/3.10/lib/python3.10/site-packages (from -r ../../requirements.txt (line 4)) (1.11.4)\n",
      "Requirement already satisfied: numpy in /Library/Frameworks/Python.framework/Versions/3.10/lib/python3.10/site-packages (from -r ../../requirements.txt (line 5)) (1.26.2)\n",
      "Requirement already satisfied: matplotlib in /Library/Frameworks/Python.framework/Versions/3.10/lib/python3.10/site-packages (from -r ../../requirements.txt (line 6)) (3.8.2)\n",
      "Requirement already satisfied: statistics in /Library/Frameworks/Python.framework/Versions/3.10/lib/python3.10/site-packages (from -r ../../requirements.txt (line 7)) (1.0.3.5)\n",
      "Requirement already satisfied: onnx in /Library/Frameworks/Python.framework/Versions/3.10/lib/python3.10/site-packages (from -r ../../requirements.txt (line 8)) (1.15.0)\n",
      "Requirement already satisfied: jinja2 in /Library/Frameworks/Python.framework/Versions/3.10/lib/python3.10/site-packages (from torch->-r ../../requirements.txt (line 2)) (3.1.2)\n",
      "Requirement already satisfied: filelock in /Library/Frameworks/Python.framework/Versions/3.10/lib/python3.10/site-packages (from torch->-r ../../requirements.txt (line 2)) (3.13.1)\n",
      "Requirement already satisfied: typing-extensions in /Library/Frameworks/Python.framework/Versions/3.10/lib/python3.10/site-packages (from torch->-r ../../requirements.txt (line 2)) (4.8.0)\n",
      "Requirement already satisfied: networkx in /Library/Frameworks/Python.framework/Versions/3.10/lib/python3.10/site-packages (from torch->-r ../../requirements.txt (line 2)) (3.2.1)\n",
      "Requirement already satisfied: fsspec in /Library/Frameworks/Python.framework/Versions/3.10/lib/python3.10/site-packages (from torch->-r ../../requirements.txt (line 2)) (2023.10.0)\n",
      "Requirement already satisfied: sympy in /Library/Frameworks/Python.framework/Versions/3.10/lib/python3.10/site-packages (from torch->-r ../../requirements.txt (line 2)) (1.12)\n",
      "Requirement already satisfied: charset-normalizer<4,>=2 in /Library/Frameworks/Python.framework/Versions/3.10/lib/python3.10/site-packages (from requests->-r ../../requirements.txt (line 3)) (3.3.2)\n",
      "Requirement already satisfied: urllib3<3,>=1.21.1 in /Library/Frameworks/Python.framework/Versions/3.10/lib/python3.10/site-packages (from requests->-r ../../requirements.txt (line 3)) (2.1.0)\n",
      "Requirement already satisfied: idna<4,>=2.5 in /Library/Frameworks/Python.framework/Versions/3.10/lib/python3.10/site-packages (from requests->-r ../../requirements.txt (line 3)) (3.6)\n",
      "Requirement already satisfied: certifi>=2017.4.17 in /Library/Frameworks/Python.framework/Versions/3.10/lib/python3.10/site-packages (from requests->-r ../../requirements.txt (line 3)) (2023.11.17)\n",
      "Requirement already satisfied: kiwisolver>=1.3.1 in /Library/Frameworks/Python.framework/Versions/3.10/lib/python3.10/site-packages (from matplotlib->-r ../../requirements.txt (line 6)) (1.4.5)\n",
      "Requirement already satisfied: cycler>=0.10 in /Library/Frameworks/Python.framework/Versions/3.10/lib/python3.10/site-packages (from matplotlib->-r ../../requirements.txt (line 6)) (0.12.1)\n",
      "Requirement already satisfied: pyparsing>=2.3.1 in /Library/Frameworks/Python.framework/Versions/3.10/lib/python3.10/site-packages (from matplotlib->-r ../../requirements.txt (line 6)) (3.1.1)\n",
      "Requirement already satisfied: python-dateutil>=2.7 in /Users/jernkun/Library/Python/3.10/lib/python/site-packages (from matplotlib->-r ../../requirements.txt (line 6)) (2.8.2)\n",
      "Requirement already satisfied: fonttools>=4.22.0 in /Library/Frameworks/Python.framework/Versions/3.10/lib/python3.10/site-packages (from matplotlib->-r ../../requirements.txt (line 6)) (4.45.1)\n",
      "Requirement already satisfied: pillow>=8 in /Library/Frameworks/Python.framework/Versions/3.10/lib/python3.10/site-packages (from matplotlib->-r ../../requirements.txt (line 6)) (10.1.0)\n",
      "Requirement already satisfied: packaging>=20.0 in /Users/jernkun/Library/Python/3.10/lib/python/site-packages (from matplotlib->-r ../../requirements.txt (line 6)) (23.2)\n",
      "Requirement already satisfied: contourpy>=1.0.1 in /Library/Frameworks/Python.framework/Versions/3.10/lib/python3.10/site-packages (from matplotlib->-r ../../requirements.txt (line 6)) (1.2.0)\n",
      "Requirement already satisfied: docutils>=0.3 in /Library/Frameworks/Python.framework/Versions/3.10/lib/python3.10/site-packages (from statistics->-r ../../requirements.txt (line 7)) (0.20.1)\n",
      "Requirement already satisfied: protobuf>=3.20.2 in /Library/Frameworks/Python.framework/Versions/3.10/lib/python3.10/site-packages (from onnx->-r ../../requirements.txt (line 8)) (4.25.1)\n",
      "Requirement already satisfied: six>=1.5 in /Users/jernkun/Library/Python/3.10/lib/python/site-packages (from python-dateutil>=2.7->matplotlib->-r ../../requirements.txt (line 6)) (1.16.0)\n",
      "Requirement already satisfied: MarkupSafe>=2.0 in /Library/Frameworks/Python.framework/Versions/3.10/lib/python3.10/site-packages (from jinja2->torch->-r ../../requirements.txt (line 2)) (2.1.3)\n",
      "Requirement already satisfied: mpmath>=0.19 in /Library/Frameworks/Python.framework/Versions/3.10/lib/python3.10/site-packages (from sympy->torch->-r ../../requirements.txt (line 2)) (1.3.0)\n",
      "\u001b[33mWARNING: You are using pip version 21.2.3; however, version 23.3.2 is available.\n",
      "You should consider upgrading via the '/usr/local/bin/python3 -m pip install --upgrade pip' command.\u001b[0m\n",
      "Note: you may need to restart the kernel to use updated packages.\n"
     ]
    }
   ],
   "source": [
    "pip install -r ../../requirements.txt"
   ]
  },
  {
   "cell_type": "code",
   "execution_count": 1,
   "metadata": {},
   "outputs": [],
   "source": [
    "import ezkl\n",
    "import torch\n",
    "from torch import nn\n",
    "import json\n",
    "import os\n",
    "import time\n",
    "import scipy\n",
    "import numpy as np\n",
    "import matplotlib.pyplot as plt\n",
    "import statistics\n",
    "import math"
   ]
  },
  {
   "cell_type": "code",
   "execution_count": 2,
   "metadata": {},
   "outputs": [],
   "source": [
    "%run -i ../../zkstats/core.py"
   ]
  },
  {
   "cell_type": "code",
   "execution_count": 3,
   "metadata": {},
   "outputs": [],
   "source": [
    "# init path\n",
    "os.makedirs(os.path.dirname('shared/'), exist_ok=True)\n",
    "os.makedirs(os.path.dirname('prover/'), exist_ok=True)\n",
    "verifier_model_path = os.path.join('shared/verifier.onnx')\n",
    "prover_model_path = os.path.join('prover/prover.onnx')\n",
    "verifier_compiled_model_path = os.path.join('shared/verifier.compiled')\n",
    "prover_compiled_model_path = os.path.join('prover/prover.compiled')\n",
    "pk_path = os.path.join('shared/test.pk')\n",
    "vk_path = os.path.join('shared/test.vk')\n",
    "proof_path = os.path.join('shared/test.pf')\n",
    "settings_path = os.path.join('shared/settings.json')\n",
    "srs_path = os.path.join('shared/kzg.srs')\n",
    "witness_path = os.path.join('prover/witness.json')\n",
    "# this is private to prover since it contains actual data\n",
    "comb_data_path = os.path.join('prover/comb_data.json')"
   ]
  },
  {
   "attachments": {},
   "cell_type": "markdown",
   "metadata": {},
   "source": [
    "=======================  ZK-STATS FLOW ======================="
   ]
  },
  {
   "cell_type": "code",
   "execution_count": 4,
   "metadata": {},
   "outputs": [],
   "source": [
    "data_path = os.path.join('data.json')\n",
    "dummy_data_path = os.path.join('shared/dummy_data.json')\n",
    "\n",
    "f_raw_input = open(data_path, \"r\")\n",
    "data = json.loads(f_raw_input.read())[\"input_data\"][0]\n",
    "data_tensor = torch.reshape(torch.tensor(data),(1, len(data), 1))\n",
    "\n",
    "#  dummy data for data consumer: make the bound approx same as real data\n",
    "dummy_data = np.round(np.random.uniform(1,10,len(data)),1)\n",
    "json.dump({\"input_data\":[dummy_data.tolist()]}, open(dummy_data_path, 'w'))\n",
    "\n",
    "dummy_data_tensor = torch.reshape(torch.tensor(dummy_data), (1, len(dummy_data),1 ))\n",
    "dummy_theory_output = torch.var(dummy_data_tensor, correction = 0)\n",
    "dummy_data_mean = torch.mean(dummy_data_tensor)"
   ]
  },
  {
   "cell_type": "code",
   "execution_count": 5,
   "metadata": {},
   "outputs": [
    {
     "name": "stderr",
     "output_type": "stream",
     "text": [
      "/Library/Frameworks/Python.framework/Versions/3.10/lib/python3.10/site-packages/torch/onnx/symbolic_opset9.py:2174: FutureWarning: 'torch.onnx.symbolic_opset9._cast_Bool' is deprecated in version 2.0 and will be removed in the future. Please Avoid using this function and create a Cast node instead.\n",
      "  return fn(g, to_cast_func(g, input, False), to_cast_func(g, other, False))\n"
     ]
    }
   ],
   "source": [
    "# Verifier/ data consumer side:\n",
    "class verifier_model(nn.Module):\n",
    "    def __init__(self):\n",
    "        super(verifier_model, self).__init__()\n",
    "        # w represents mean in this case\n",
    "        self.w = nn.Parameter(data = dummy_theory_output, requires_grad = False)\n",
    "        self.data_mean = nn.Parameter(data = dummy_data_mean, requires_grad = False)\n",
    "\n",
    "    def forward(self,X):\n",
    "        x_mean_cons = torch.abs(torch.sum(X)-X.size()[1]*(self.data_mean))<=torch.abs(0.01*X.size()[1]*self.data_mean)\n",
    "        return (torch.logical_and(torch.abs(torch.sum((X-self.data_mean)*(X-self.data_mean))-self.w*X.size()[1])<=torch.abs(0.01*self.w*X.size()[1]),x_mean_cons ),self.w)\n",
    "\n",
    "verifier_define_calculation(verifier_model, verifier_model_path, [dummy_data_path])"
   ]
  },
  {
   "cell_type": "code",
   "execution_count": 6,
   "metadata": {},
   "outputs": [
    {
     "name": "stdout",
     "output_type": "stream",
     "text": [
      "theory output:  tensor(211.8691)\n",
      "==== Generate & Calibrate Setting ====\n",
      "scale:  [2]\n",
      "setting:  {\"run_args\":{\"tolerance\":{\"val\":0.0,\"scale\":1.0},\"input_scale\":2,\"param_scale\":2,\"scale_rebase_multiplier\":10,\"lookup_range\":[-20332,8],\"logrows\":15,\"num_inner_cols\":2,\"variables\":[[\"batch_size\",1]],\"input_visibility\":{\"Hashed\":{\"hash_is_public\":true,\"outlets\":[]}},\"output_visibility\":\"Public\",\"param_visibility\":\"Private\"},\"num_rows\":14432,\"total_assignments\":1521,\"total_const_size\":8,\"model_instance_shapes\":[[1],[1]],\"model_output_scales\":[0,2],\"model_input_scales\":[2],\"module_sizes\":{\"kzg\":[],\"poseidon\":[14432,[1]],\"elgamal\":[0,[0]]},\"required_lookups\":[\"Abs\",{\"GreaterThan\":{\"a\":0.0}}],\"check_mode\":\"UNSAFE\",\"version\":\"7.0.0\",\"num_blinding_factors\":null}\n"
     ]
    }
   ],
   "source": [
    "# Prover/ data owner side\n",
    "theory_output = torch.var(data_tensor, correction = 0)\n",
    "data_mean = torch.mean(data_tensor)\n",
    "print(\"theory output: \", theory_output)\n",
    "class prover_model(nn.Module):\n",
    "    def __init__(self):\n",
    "        super(prover_model, self).__init__()\n",
    "        self.w = nn.Parameter(data = theory_output, requires_grad = False)\n",
    "        self.data_mean = nn.Parameter(data = data_mean, requires_grad = False)\n",
    "    def forward(self,X):\n",
    "        x_mean_cons = torch.abs(torch.sum(X)-X.size()[1]*(self.data_mean))<=torch.abs(0.01*X.size()[1]*self.data_mean)\n",
    "        return (torch.logical_and(torch.abs(torch.sum((X-self.data_mean)*(X-self.data_mean))-self.w*X.size()[1])<=torch.abs(0.01*self.w*X.size()[1]),x_mean_cons ),self.w)\n",
    "\n",
    "prover_gen_settings([data_path], comb_data_path, prover_model,prover_model_path, [2], \"resources\", settings_path)"
   ]
  },
  {
   "cell_type": "code",
   "execution_count": 7,
   "metadata": {},
   "outputs": [
    {
     "name": "stderr",
     "output_type": "stream",
     "text": [
      "spawning module 0\n"
     ]
    },
    {
     "name": "stdout",
     "output_type": "stream",
     "text": [
      "==== setting up ezkl ====\n"
     ]
    },
    {
     "name": "stderr",
     "output_type": "stream",
     "text": [
      "spawning module 2\n",
      "spawning module 0\n",
      "spawning module 2\n"
     ]
    },
    {
     "name": "stdout",
     "output_type": "stream",
     "text": [
      "Time setup: 3.4044930934906006 seconds\n",
      "=======================================\n",
      "Theory output:  tensor(211.8691)\n",
      "!@# compiled_model exists? True\n",
      "!@# compiled_model exists? True\n",
      "==== Generating Witness ====\n",
      "witness boolean:  1.0\n",
      "witness result 1 : 211.75\n",
      "==== Generating Proof ====\n"
     ]
    },
    {
     "name": "stderr",
     "output_type": "stream",
     "text": [
      "spawning module 0\n",
      "spawning module 2\n"
     ]
    },
    {
     "name": "stdout",
     "output_type": "stream",
     "text": [
      "proof:  {'instances': [[[12907834141446617622, 16863260785082668294, 2215826187815521673, 2191547160659437828], [12436184717236109307, 3962172157175319849, 7381016538464732718, 1011752739694698287], [988086122984763008, 8331390676852675036, 9456440076381036992, 2639995154681636326]]], 'proof': '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', 'transcript_type': 'EVM'}\n",
      "Time gen prf: 4.63217830657959 seconds\n"
     ]
    }
   ],
   "source": [
    "# Here verifier & prover can concurrently call setup since all params are public to get pk. \n",
    "# Here write as verifier function to emphasize that verifier must calculate its own vk to be sure\n",
    "verifier_setup(verifier_model_path, verifier_compiled_model_path, settings_path,vk_path, pk_path )\n",
    "\n",
    "print(\"=======================================\")\n",
    "# Prover generates proof\n",
    "print(\"Theory output: \", theory_output)\n",
    "prover_gen_proof(prover_model_path, comb_data_path, witness_path, prover_compiled_model_path, settings_path, proof_path, pk_path)"
   ]
  },
  {
   "cell_type": "code",
   "execution_count": 9,
   "metadata": {},
   "outputs": [
    {
     "name": "stdout",
     "output_type": "stream",
     "text": [
      "num_inputs:  1\n",
      "prf instances:  [[[12907834141446617622, 16863260785082668294, 2215826187815521673, 2191547160659437828], [12436184717236109307, 3962172157175319849, 7381016538464732718, 1011752739694698287], [988086122984763008, 8331390676852675036, 9456440076381036992, 2639995154681636326]]]\n",
      "proof boolean:  1.0\n",
      "proof result 1 : 211.75\n",
      "verified\n"
     ]
    }
   ],
   "source": [
    "# Verifier verifies\n",
    "verifier_verify(proof_path, settings_path, vk_path)"
   ]
  },
  {
   "cell_type": "code",
   "execution_count": null,
   "metadata": {},
   "outputs": [],
   "source": []
  }
 ],
 "metadata": {
  "kernelspec": {
   "display_name": "Python 3",
   "language": "python",
   "name": "python3"
  },
  "language_info": {
   "codemirror_mode": {
    "name": "ipython",
    "version": 3
   },
   "file_extension": ".py",
   "mimetype": "text/x-python",
   "name": "python",
   "nbconvert_exporter": "python",
   "pygments_lexer": "ipython3",
   "version": "3.10.0"
  },
  "orig_nbformat": 4
 },
 "nbformat": 4,
 "nbformat_minor": 2
}
