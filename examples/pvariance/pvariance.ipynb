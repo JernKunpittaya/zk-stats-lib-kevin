{
 "cells": [
  {
   "cell_type": "code",
   "execution_count": 1,
   "metadata": {},
   "outputs": [
    {
     "name": "stdout",
     "output_type": "stream",
     "text": [
      "Requirement already satisfied: ezkl==7.0.0 in /Library/Frameworks/Python.framework/Versions/3.10/lib/python3.10/site-packages (from -r ../../requirements.txt (line 1)) (7.0.0)\n",
      "Requirement already satisfied: torch in /Library/Frameworks/Python.framework/Versions/3.10/lib/python3.10/site-packages (from -r ../../requirements.txt (line 2)) (2.1.1)\n",
      "Requirement already satisfied: requests in /Library/Frameworks/Python.framework/Versions/3.10/lib/python3.10/site-packages (from -r ../../requirements.txt (line 3)) (2.31.0)\n",
      "Requirement already satisfied: scipy in /Library/Frameworks/Python.framework/Versions/3.10/lib/python3.10/site-packages (from -r ../../requirements.txt (line 4)) (1.11.4)\n",
      "Requirement already satisfied: numpy in /Library/Frameworks/Python.framework/Versions/3.10/lib/python3.10/site-packages (from -r ../../requirements.txt (line 5)) (1.26.2)\n",
      "Requirement already satisfied: matplotlib in /Library/Frameworks/Python.framework/Versions/3.10/lib/python3.10/site-packages (from -r ../../requirements.txt (line 6)) (3.8.2)\n",
      "Requirement already satisfied: statistics in /Library/Frameworks/Python.framework/Versions/3.10/lib/python3.10/site-packages (from -r ../../requirements.txt (line 7)) (1.0.3.5)\n",
      "Requirement already satisfied: onnx in /Library/Frameworks/Python.framework/Versions/3.10/lib/python3.10/site-packages (from -r ../../requirements.txt (line 8)) (1.15.0)\n",
      "Requirement already satisfied: filelock in /Library/Frameworks/Python.framework/Versions/3.10/lib/python3.10/site-packages (from torch->-r ../../requirements.txt (line 2)) (3.13.1)\n",
      "Requirement already satisfied: typing-extensions in /Library/Frameworks/Python.framework/Versions/3.10/lib/python3.10/site-packages (from torch->-r ../../requirements.txt (line 2)) (4.8.0)\n",
      "Requirement already satisfied: fsspec in /Library/Frameworks/Python.framework/Versions/3.10/lib/python3.10/site-packages (from torch->-r ../../requirements.txt (line 2)) (2023.10.0)\n",
      "Requirement already satisfied: sympy in /Library/Frameworks/Python.framework/Versions/3.10/lib/python3.10/site-packages (from torch->-r ../../requirements.txt (line 2)) (1.12)\n",
      "Requirement already satisfied: jinja2 in /Library/Frameworks/Python.framework/Versions/3.10/lib/python3.10/site-packages (from torch->-r ../../requirements.txt (line 2)) (3.1.2)\n",
      "Requirement already satisfied: networkx in /Library/Frameworks/Python.framework/Versions/3.10/lib/python3.10/site-packages (from torch->-r ../../requirements.txt (line 2)) (3.2.1)\n",
      "Requirement already satisfied: idna<4,>=2.5 in /Library/Frameworks/Python.framework/Versions/3.10/lib/python3.10/site-packages (from requests->-r ../../requirements.txt (line 3)) (3.6)\n",
      "Requirement already satisfied: certifi>=2017.4.17 in /Library/Frameworks/Python.framework/Versions/3.10/lib/python3.10/site-packages (from requests->-r ../../requirements.txt (line 3)) (2023.11.17)\n",
      "Requirement already satisfied: urllib3<3,>=1.21.1 in /Library/Frameworks/Python.framework/Versions/3.10/lib/python3.10/site-packages (from requests->-r ../../requirements.txt (line 3)) (2.1.0)\n",
      "Requirement already satisfied: charset-normalizer<4,>=2 in /Library/Frameworks/Python.framework/Versions/3.10/lib/python3.10/site-packages (from requests->-r ../../requirements.txt (line 3)) (3.3.2)\n",
      "Requirement already satisfied: packaging>=20.0 in /Users/jernkun/Library/Python/3.10/lib/python/site-packages (from matplotlib->-r ../../requirements.txt (line 6)) (23.2)\n",
      "Requirement already satisfied: fonttools>=4.22.0 in /Library/Frameworks/Python.framework/Versions/3.10/lib/python3.10/site-packages (from matplotlib->-r ../../requirements.txt (line 6)) (4.45.1)\n",
      "Requirement already satisfied: pillow>=8 in /Library/Frameworks/Python.framework/Versions/3.10/lib/python3.10/site-packages (from matplotlib->-r ../../requirements.txt (line 6)) (10.1.0)\n",
      "Requirement already satisfied: cycler>=0.10 in /Library/Frameworks/Python.framework/Versions/3.10/lib/python3.10/site-packages (from matplotlib->-r ../../requirements.txt (line 6)) (0.12.1)\n",
      "Requirement already satisfied: kiwisolver>=1.3.1 in /Library/Frameworks/Python.framework/Versions/3.10/lib/python3.10/site-packages (from matplotlib->-r ../../requirements.txt (line 6)) (1.4.5)\n",
      "Requirement already satisfied: pyparsing>=2.3.1 in /Library/Frameworks/Python.framework/Versions/3.10/lib/python3.10/site-packages (from matplotlib->-r ../../requirements.txt (line 6)) (3.1.1)\n",
      "Requirement already satisfied: contourpy>=1.0.1 in /Library/Frameworks/Python.framework/Versions/3.10/lib/python3.10/site-packages (from matplotlib->-r ../../requirements.txt (line 6)) (1.2.0)\n",
      "Requirement already satisfied: python-dateutil>=2.7 in /Users/jernkun/Library/Python/3.10/lib/python/site-packages (from matplotlib->-r ../../requirements.txt (line 6)) (2.8.2)\n",
      "Requirement already satisfied: docutils>=0.3 in /Library/Frameworks/Python.framework/Versions/3.10/lib/python3.10/site-packages (from statistics->-r ../../requirements.txt (line 7)) (0.20.1)\n",
      "Requirement already satisfied: protobuf>=3.20.2 in /Library/Frameworks/Python.framework/Versions/3.10/lib/python3.10/site-packages (from onnx->-r ../../requirements.txt (line 8)) (4.25.1)\n",
      "Requirement already satisfied: six>=1.5 in /Users/jernkun/Library/Python/3.10/lib/python/site-packages (from python-dateutil>=2.7->matplotlib->-r ../../requirements.txt (line 6)) (1.16.0)\n",
      "Requirement already satisfied: MarkupSafe>=2.0 in /Library/Frameworks/Python.framework/Versions/3.10/lib/python3.10/site-packages (from jinja2->torch->-r ../../requirements.txt (line 2)) (2.1.3)\n",
      "Requirement already satisfied: mpmath>=0.19 in /Library/Frameworks/Python.framework/Versions/3.10/lib/python3.10/site-packages (from sympy->torch->-r ../../requirements.txt (line 2)) (1.3.0)\n",
      "\u001b[33mWARNING: You are using pip version 21.2.3; however, version 23.3.2 is available.\n",
      "You should consider upgrading via the '/usr/local/bin/python3 -m pip install --upgrade pip' command.\u001b[0m\n",
      "Note: you may need to restart the kernel to use updated packages.\n"
     ]
    }
   ],
   "source": [
    "pip install -r ../../requirements.txt"
   ]
  },
  {
   "cell_type": "code",
   "execution_count": 2,
   "metadata": {},
   "outputs": [],
   "source": [
    "import ezkl\n",
    "import torch\n",
    "from torch import nn\n",
    "import json\n",
    "import os\n",
    "import time\n",
    "import scipy\n",
    "import numpy as np\n",
    "import matplotlib.pyplot as plt\n",
    "import statistics\n",
    "import math"
   ]
  },
  {
   "cell_type": "code",
   "execution_count": 3,
   "metadata": {},
   "outputs": [],
   "source": [
    "%run -i ../../zkstats/core.py"
   ]
  },
  {
   "cell_type": "code",
   "execution_count": 4,
   "metadata": {},
   "outputs": [],
   "source": [
    "# init path\n",
    "os.makedirs(os.path.dirname('shared/'), exist_ok=True)\n",
    "os.makedirs(os.path.dirname('prover/'), exist_ok=True)\n",
    "verifier_model_path = os.path.join('shared/verifier.onnx')\n",
    "prover_model_path = os.path.join('prover/prover.onnx')\n",
    "verifier_compiled_model_path = os.path.join('shared/verifier.compiled')\n",
    "prover_compiled_model_path = os.path.join('prover/prover.compiled')\n",
    "pk_path = os.path.join('shared/test.pk')\n",
    "vk_path = os.path.join('shared/test.vk')\n",
    "proof_path = os.path.join('shared/test.pf')\n",
    "settings_path = os.path.join('shared/settings.json')\n",
    "srs_path = os.path.join('shared/kzg.srs')\n",
    "witness_path = os.path.join('prover/witness.json')\n",
    "# this is private to prover since it contains actual data\n",
    "sel_data_path = os.path.join('prover/sel_data.json')\n",
    "# this is just dummy random value\n",
    "sel_dummy_data_path = os.path.join('shared/sel_dummy_data.json')"
   ]
  },
  {
   "attachments": {},
   "cell_type": "markdown",
   "metadata": {},
   "source": [
    "=======================  ZK-STATS FLOW ======================="
   ]
  },
  {
   "cell_type": "code",
   "execution_count": 5,
   "metadata": {},
   "outputs": [],
   "source": [
    "data_path = os.path.join('data.json')\n",
    "dummy_data_path = os.path.join('shared/dummy_data.json')\n",
    "\n",
    "data = json.loads(open(data_path, \"r\").read())['col_name']\n",
    "data_tensor = torch.reshape(torch.tensor(data),(1,-1, 1))\n",
    "\n",
    "create_dummy(data_path, dummy_data_path)\n",
    "dummy_data = json.loads(open(dummy_data_path, \"r\").read())['col_name']\n",
    "dummy_data_tensor = torch.reshape(torch.tensor(dummy_data), (1,-1,1))\n",
    "\n",
    "dummy_theory_output = torch.var(dummy_data_tensor, correction = 0)\n",
    "dummy_data_mean = torch.mean(dummy_data_tensor)\n",
    "theory_output = torch.var(data_tensor, correction = 0)\n",
    "data_mean = torch.mean(data_tensor)"
   ]
  },
  {
   "cell_type": "code",
   "execution_count": null,
   "metadata": {},
   "outputs": [],
   "source": [
    "scales = [2]\n",
    "selected_columns = ['col_name']\n",
    "commitment_maps = get_data_commitment_maps(data_path, scales)"
   ]
  },
  {
   "cell_type": "code",
   "execution_count": 6,
   "metadata": {},
   "outputs": [
    {
     "name": "stderr",
     "output_type": "stream",
     "text": [
      "/Library/Frameworks/Python.framework/Versions/3.10/lib/python3.10/site-packages/torch/onnx/symbolic_opset9.py:2174: FutureWarning: 'torch.onnx.symbolic_opset9._cast_Bool' is deprecated in version 2.0 and will be removed in the future. Please Avoid using this function and create a Cast node instead.\n",
      "  return fn(g, to_cast_func(g, input, False), to_cast_func(g, other, False))\n"
     ]
    }
   ],
   "source": [
    "# Verifier/ data consumer side:\n",
    "class verifier_model(nn.Module):\n",
    "    def __init__(self):\n",
    "        super(verifier_model, self).__init__()\n",
    "        # w represents mean in this case\n",
    "        self.w = nn.Parameter(data = dummy_theory_output, requires_grad = False)\n",
    "        self.data_mean = nn.Parameter(data = dummy_data_mean, requires_grad = False)\n",
    "\n",
    "    def forward(self,X):\n",
    "        x_mean_cons = torch.abs(torch.sum(X)-X.size()[1]*(self.data_mean))<=torch.abs(0.01*X.size()[1]*self.data_mean)\n",
    "        return (torch.logical_and(torch.abs(torch.sum((X-self.data_mean)*(X-self.data_mean))-self.w*X.size()[1])<=torch.abs(0.01*self.w*X.size()[1]),x_mean_cons ),self.w)\n",
    "\n",
    "verifier_define_calculation(dummy_data_path, ['col_name'],sel_dummy_data_path,verifier_model, verifier_model_path)"
   ]
  },
  {
   "cell_type": "code",
   "execution_count": 7,
   "metadata": {},
   "outputs": [
    {
     "name": "stdout",
     "output_type": "stream",
     "text": [
      "theory output:  tensor(211.8691)\n",
      "==== Generate & Calibrate Setting ====\n",
      "scale:  [2]\n",
      "setting:  {\"run_args\":{\"tolerance\":{\"val\":0.0,\"scale\":1.0},\"input_scale\":2,\"param_scale\":2,\"scale_rebase_multiplier\":10,\"lookup_range\":[-20332,8],\"logrows\":15,\"num_inner_cols\":2,\"variables\":[[\"batch_size\",1]],\"input_visibility\":{\"Hashed\":{\"hash_is_public\":true,\"outlets\":[]}},\"output_visibility\":\"Public\",\"param_visibility\":\"Private\"},\"num_rows\":14432,\"total_assignments\":1521,\"total_const_size\":8,\"model_instance_shapes\":[[1],[1]],\"model_output_scales\":[0,2],\"model_input_scales\":[2],\"module_sizes\":{\"kzg\":[],\"poseidon\":[14432,[1]],\"elgamal\":[0,[0]]},\"required_lookups\":[\"Abs\",{\"GreaterThan\":{\"a\":0.0}}],\"check_mode\":\"UNSAFE\",\"version\":\"7.0.0\",\"num_blinding_factors\":null}\n"
     ]
    }
   ],
   "source": [
    "# Prover/ data owner side\n",
    "print(\"theory output: \", theory_output)\n",
    "class prover_model(nn.Module):\n",
    "    def __init__(self):\n",
    "        super(prover_model, self).__init__()\n",
    "        self.w = nn.Parameter(data = theory_output, requires_grad = False)\n",
    "        self.data_mean = nn.Parameter(data = data_mean, requires_grad = False)\n",
    "    def forward(self,X):\n",
    "        x_mean_cons = torch.abs(torch.sum(X)-X.size()[1]*(self.data_mean))<=torch.abs(0.01*X.size()[1]*self.data_mean)\n",
    "        return (torch.logical_and(torch.abs(torch.sum((X-self.data_mean)*(X-self.data_mean))-self.w*X.size()[1])<=torch.abs(0.01*self.w*X.size()[1]),x_mean_cons ),self.w)\n",
    "\n",
    "prover_gen_settings(data_path, selected_columns, sel_data_path, prover_model,prover_model_path, scales, \"resources\", settings_path)"
   ]
  },
  {
   "cell_type": "code",
   "execution_count": 9,
   "metadata": {},
   "outputs": [
    {
     "name": "stderr",
     "output_type": "stream",
     "text": [
      "spawning module 0\n",
      "spawning module 2\n"
     ]
    },
    {
     "name": "stdout",
     "output_type": "stream",
     "text": [
      "==== setting up ezkl ====\n"
     ]
    },
    {
     "name": "stderr",
     "output_type": "stream",
     "text": [
      "spawning module 0\n",
      "spawning module 2\n"
     ]
    },
    {
     "name": "stdout",
     "output_type": "stream",
     "text": [
      "Time setup: 3.282626152038574 seconds\n",
      "=======================================\n",
      "Theory output:  tensor(211.8691)\n",
      "!@# compiled_model exists? True\n",
      "!@# compiled_model exists? True\n",
      "==== Generating Witness ====\n",
      "witness boolean:  1.0\n",
      "witness result 1 : 211.75\n",
      "==== Generating Proof ====\n"
     ]
    },
    {
     "name": "stderr",
     "output_type": "stream",
     "text": [
      "spawning module 0\n",
      "spawning module 2\n"
     ]
    },
    {
     "name": "stdout",
     "output_type": "stream",
     "text": [
      "proof:  {'instances': [[[12907834141446617622, 16863260785082668294, 2215826187815521673, 2191547160659437828], [12436184717236109307, 3962172157175319849, 7381016538464732718, 1011752739694698287], [988086122984763008, 8331390676852675036, 9456440076381036992, 2639995154681636326]]], 'proof': '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', 'transcript_type': 'EVM'}\n",
      "Time gen prf: 4.563145399093628 seconds\n"
     ]
    }
   ],
   "source": [
    "# Here verifier & prover can concurrently call setup since all params are public to get pk.\n",
    "# Here write as verifier function to emphasize that verifier must calculate its own vk to be sure\n",
    "verifier_setup(verifier_model_path, verifier_compiled_model_path, settings_path,vk_path, pk_path )\n",
    "\n",
    "print(\"=======================================\")\n",
    "# Prover generates proof\n",
    "print(\"Theory output: \", theory_output)\n",
    "prover_gen_proof(prover_model_path, sel_data_path, witness_path, prover_compiled_model_path, settings_path, proof_path, pk_path)"
   ]
  },
  {
   "cell_type": "code",
   "execution_count": 10,
   "metadata": {},
   "outputs": [
    {
     "name": "stdout",
     "output_type": "stream",
     "text": [
      "num_inputs:  1\n",
      "prf instances:  [[[12907834141446617622, 16863260785082668294, 2215826187815521673, 2191547160659437828], [12436184717236109307, 3962172157175319849, 7381016538464732718, 1011752739694698287], [988086122984763008, 8331390676852675036, 9456440076381036992, 2639995154681636326]]]\n",
      "proof boolean:  1.0\n",
      "proof result 1 : 211.75\n",
      "verified\n"
     ]
    }
   ],
   "source": [
    "# Verifier verifies\n",
    "verifier_verify(proof_path, settings_path, vk_path, selected_columns, commitment_maps)"
   ]
  },
  {
   "cell_type": "code",
   "execution_count": null,
   "metadata": {},
   "outputs": [],
   "source": []
  }
 ],
 "metadata": {
  "kernelspec": {
   "display_name": "Python 3",
   "language": "python",
   "name": "python3"
  },
  "language_info": {
   "codemirror_mode": {
    "name": "ipython",
    "version": 3
   },
   "file_extension": ".py",
   "mimetype": "text/x-python",
   "name": "python",
   "nbconvert_exporter": "python",
   "pygments_lexer": "ipython3",
   "version": "3.10.0"
  },
  "orig_nbformat": 4
 },
 "nbformat": 4,
 "nbformat_minor": 2
}
