{
 "cells": [
  {
   "cell_type": "code",
   "execution_count": 1,
   "metadata": {},
   "outputs": [
    {
     "name": "stdout",
     "output_type": "stream",
     "text": [
      "Requirement already satisfied: ezkl==7.0.0 in /Users/jernkun/Library/Caches/pypoetry/virtualenvs/zkstats-OJpceffF-py3.11/lib/python3.11/site-packages (from -r ../../requirements.txt (line 1)) (7.0.0)\n",
      "Requirement already satisfied: torch in /Users/jernkun/Library/Caches/pypoetry/virtualenvs/zkstats-OJpceffF-py3.11/lib/python3.11/site-packages (from -r ../../requirements.txt (line 2)) (2.2.0)\n",
      "Requirement already satisfied: requests in /Users/jernkun/Library/Caches/pypoetry/virtualenvs/zkstats-OJpceffF-py3.11/lib/python3.11/site-packages (from -r ../../requirements.txt (line 3)) (2.31.0)\n",
      "Requirement already satisfied: scipy in /Users/jernkun/Library/Caches/pypoetry/virtualenvs/zkstats-OJpceffF-py3.11/lib/python3.11/site-packages (from -r ../../requirements.txt (line 4)) (1.12.0)\n",
      "Requirement already satisfied: numpy in /Users/jernkun/Library/Caches/pypoetry/virtualenvs/zkstats-OJpceffF-py3.11/lib/python3.11/site-packages (from -r ../../requirements.txt (line 5)) (1.26.3)\n",
      "Requirement already satisfied: matplotlib in /Users/jernkun/Library/Caches/pypoetry/virtualenvs/zkstats-OJpceffF-py3.11/lib/python3.11/site-packages (from -r ../../requirements.txt (line 6)) (3.8.2)\n",
      "Requirement already satisfied: statistics in /Users/jernkun/Library/Caches/pypoetry/virtualenvs/zkstats-OJpceffF-py3.11/lib/python3.11/site-packages (from -r ../../requirements.txt (line 7)) (1.0.3.5)\n",
      "Requirement already satisfied: onnx in /Users/jernkun/Library/Caches/pypoetry/virtualenvs/zkstats-OJpceffF-py3.11/lib/python3.11/site-packages (from -r ../../requirements.txt (line 8)) (1.15.0)\n",
      "Requirement already satisfied: filelock in /Users/jernkun/Library/Caches/pypoetry/virtualenvs/zkstats-OJpceffF-py3.11/lib/python3.11/site-packages (from torch->-r ../../requirements.txt (line 2)) (3.13.1)\n",
      "Requirement already satisfied: typing-extensions>=4.8.0 in /Users/jernkun/Library/Caches/pypoetry/virtualenvs/zkstats-OJpceffF-py3.11/lib/python3.11/site-packages (from torch->-r ../../requirements.txt (line 2)) (4.9.0)\n",
      "Requirement already satisfied: sympy in /Users/jernkun/Library/Caches/pypoetry/virtualenvs/zkstats-OJpceffF-py3.11/lib/python3.11/site-packages (from torch->-r ../../requirements.txt (line 2)) (1.12)\n",
      "Requirement already satisfied: networkx in /Users/jernkun/Library/Caches/pypoetry/virtualenvs/zkstats-OJpceffF-py3.11/lib/python3.11/site-packages (from torch->-r ../../requirements.txt (line 2)) (3.2.1)\n",
      "Requirement already satisfied: jinja2 in /Users/jernkun/Library/Caches/pypoetry/virtualenvs/zkstats-OJpceffF-py3.11/lib/python3.11/site-packages (from torch->-r ../../requirements.txt (line 2)) (3.1.3)\n",
      "Requirement already satisfied: fsspec in /Users/jernkun/Library/Caches/pypoetry/virtualenvs/zkstats-OJpceffF-py3.11/lib/python3.11/site-packages (from torch->-r ../../requirements.txt (line 2)) (2023.12.2)\n",
      "Requirement already satisfied: charset-normalizer<4,>=2 in /Users/jernkun/Library/Caches/pypoetry/virtualenvs/zkstats-OJpceffF-py3.11/lib/python3.11/site-packages (from requests->-r ../../requirements.txt (line 3)) (3.3.2)\n",
      "Requirement already satisfied: idna<4,>=2.5 in /Users/jernkun/Library/Caches/pypoetry/virtualenvs/zkstats-OJpceffF-py3.11/lib/python3.11/site-packages (from requests->-r ../../requirements.txt (line 3)) (3.6)\n",
      "Requirement already satisfied: urllib3<3,>=1.21.1 in /Users/jernkun/Library/Caches/pypoetry/virtualenvs/zkstats-OJpceffF-py3.11/lib/python3.11/site-packages (from requests->-r ../../requirements.txt (line 3)) (2.2.0)\n",
      "Requirement already satisfied: certifi>=2017.4.17 in /Users/jernkun/Library/Caches/pypoetry/virtualenvs/zkstats-OJpceffF-py3.11/lib/python3.11/site-packages (from requests->-r ../../requirements.txt (line 3)) (2024.2.2)\n",
      "Requirement already satisfied: contourpy>=1.0.1 in /Users/jernkun/Library/Caches/pypoetry/virtualenvs/zkstats-OJpceffF-py3.11/lib/python3.11/site-packages (from matplotlib->-r ../../requirements.txt (line 6)) (1.2.0)\n",
      "Requirement already satisfied: cycler>=0.10 in /Users/jernkun/Library/Caches/pypoetry/virtualenvs/zkstats-OJpceffF-py3.11/lib/python3.11/site-packages (from matplotlib->-r ../../requirements.txt (line 6)) (0.12.1)\n",
      "Requirement already satisfied: fonttools>=4.22.0 in /Users/jernkun/Library/Caches/pypoetry/virtualenvs/zkstats-OJpceffF-py3.11/lib/python3.11/site-packages (from matplotlib->-r ../../requirements.txt (line 6)) (4.47.2)\n",
      "Requirement already satisfied: kiwisolver>=1.3.1 in /Users/jernkun/Library/Caches/pypoetry/virtualenvs/zkstats-OJpceffF-py3.11/lib/python3.11/site-packages (from matplotlib->-r ../../requirements.txt (line 6)) (1.4.5)\n",
      "Requirement already satisfied: packaging>=20.0 in /Users/jernkun/Library/Caches/pypoetry/virtualenvs/zkstats-OJpceffF-py3.11/lib/python3.11/site-packages (from matplotlib->-r ../../requirements.txt (line 6)) (23.2)\n",
      "Requirement already satisfied: pillow>=8 in /Users/jernkun/Library/Caches/pypoetry/virtualenvs/zkstats-OJpceffF-py3.11/lib/python3.11/site-packages (from matplotlib->-r ../../requirements.txt (line 6)) (10.2.0)\n",
      "Requirement already satisfied: pyparsing>=2.3.1 in /Users/jernkun/Library/Caches/pypoetry/virtualenvs/zkstats-OJpceffF-py3.11/lib/python3.11/site-packages (from matplotlib->-r ../../requirements.txt (line 6)) (3.1.1)\n",
      "Requirement already satisfied: python-dateutil>=2.7 in /Users/jernkun/Library/Caches/pypoetry/virtualenvs/zkstats-OJpceffF-py3.11/lib/python3.11/site-packages (from matplotlib->-r ../../requirements.txt (line 6)) (2.8.2)\n",
      "Requirement already satisfied: docutils>=0.3 in /Users/jernkun/Library/Caches/pypoetry/virtualenvs/zkstats-OJpceffF-py3.11/lib/python3.11/site-packages (from statistics->-r ../../requirements.txt (line 7)) (0.20.1)\n",
      "Requirement already satisfied: protobuf>=3.20.2 in /Users/jernkun/Library/Caches/pypoetry/virtualenvs/zkstats-OJpceffF-py3.11/lib/python3.11/site-packages (from onnx->-r ../../requirements.txt (line 8)) (4.25.2)\n",
      "Requirement already satisfied: six>=1.5 in /Users/jernkun/Library/Caches/pypoetry/virtualenvs/zkstats-OJpceffF-py3.11/lib/python3.11/site-packages (from python-dateutil>=2.7->matplotlib->-r ../../requirements.txt (line 6)) (1.16.0)\n",
      "Requirement already satisfied: MarkupSafe>=2.0 in /Users/jernkun/Library/Caches/pypoetry/virtualenvs/zkstats-OJpceffF-py3.11/lib/python3.11/site-packages (from jinja2->torch->-r ../../requirements.txt (line 2)) (2.1.4)\n",
      "Requirement already satisfied: mpmath>=0.19 in /Users/jernkun/Library/Caches/pypoetry/virtualenvs/zkstats-OJpceffF-py3.11/lib/python3.11/site-packages (from sympy->torch->-r ../../requirements.txt (line 2)) (1.3.0)\n",
      "\n",
      "\u001b[1m[\u001b[0m\u001b[34;49mnotice\u001b[0m\u001b[1;39;49m]\u001b[0m\u001b[39;49m A new release of pip is available: \u001b[0m\u001b[31;49m23.2.1\u001b[0m\u001b[39;49m -> \u001b[0m\u001b[32;49m24.0\u001b[0m\n",
      "\u001b[1m[\u001b[0m\u001b[34;49mnotice\u001b[0m\u001b[1;39;49m]\u001b[0m\u001b[39;49m To update, run: \u001b[0m\u001b[32;49mpip install --upgrade pip\u001b[0m\n",
      "Note: you may need to restart the kernel to use updated packages.\n"
     ]
    }
   ],
   "source": [
    "pip install -r ../../requirements.txt"
   ]
  },
  {
   "cell_type": "code",
   "execution_count": 2,
   "metadata": {},
   "outputs": [],
   "source": [
    "import ezkl\n",
    "import torch\n",
    "from torch import nn\n",
    "import json\n",
    "import os\n",
    "import time\n",
    "import scipy\n",
    "import numpy as np\n",
    "import matplotlib.pyplot as plt\n",
    "import statistics\n",
    "import math"
   ]
  },
  {
   "cell_type": "code",
   "execution_count": 3,
   "metadata": {},
   "outputs": [],
   "source": [
    "from zkstats.core import create_dummy, verifier_define_calculation, prover_gen_settings, setup, prover_gen_proof, verifier_verify, get_data_commitment_maps"
   ]
  },
  {
   "cell_type": "code",
   "execution_count": 4,
   "metadata": {},
   "outputs": [],
   "source": [
    "# init path\n",
    "os.makedirs(os.path.dirname('shared/'), exist_ok=True)\n",
    "os.makedirs(os.path.dirname('prover/'), exist_ok=True)\n",
    "verifier_model_path = os.path.join('shared/verifier.onnx')\n",
    "prover_model_path = os.path.join('prover/prover.onnx')\n",
    "verifier_compiled_model_path = os.path.join('shared/verifier.compiled')\n",
    "prover_compiled_model_path = os.path.join('prover/prover.compiled')\n",
    "pk_path = os.path.join('shared/test.pk')\n",
    "vk_path = os.path.join('shared/test.vk')\n",
    "proof_path = os.path.join('shared/test.pf')\n",
    "settings_path = os.path.join('shared/settings.json')\n",
    "srs_path = os.path.join('shared/kzg.srs')\n",
    "witness_path = os.path.join('prover/witness.json')\n",
    "# this is private to prover since it contains actual data\n",
    "sel_data_path = os.path.join('prover/sel_data.json')\n",
    "# this is just dummy random value\n",
    "sel_dummy_data_path = os.path.join('shared/sel_dummy_data.json')"
   ]
  },
  {
   "attachments": {},
   "cell_type": "markdown",
   "metadata": {},
   "source": [
    "=======================  ZK-STATS FLOW ======================="
   ]
  },
  {
   "cell_type": "code",
   "execution_count": 5,
   "metadata": {},
   "outputs": [],
   "source": [
    "data_path = os.path.join('data.json')\n",
    "dummy_data_path = os.path.join('shared/dummy_data.json')\n",
    "create_dummy(data_path, dummy_data_path)"
   ]
  },
  {
   "cell_type": "code",
   "execution_count": 6,
   "metadata": {},
   "outputs": [],
   "source": [
    "scales = [2]\n",
    "selected_columns = ['col_name']\n",
    "commitment_maps = get_data_commitment_maps(data_path, scales)"
   ]
  },
  {
   "cell_type": "code",
   "execution_count": 7,
   "metadata": {},
   "outputs": [
    {
     "name": "stderr",
     "output_type": "stream",
     "text": [
      "/Users/jernkun/Desktop/zk-stats-lib/zkstats/computation.py:166: TracerWarning: torch.tensor results are registered as constants in the trace. You can safely ignore this warning if you use this function to create tensors out of constant variables that would be the same every time you call this function. In any other case, this might cause the trace to be incorrect.\n",
      "  is_precise_aggregated = torch.tensor(1.0)\n",
      "/Users/jernkun/Library/Caches/pypoetry/virtualenvs/zkstats-OJpceffF-py3.11/lib/python3.11/site-packages/torch/onnx/symbolic_opset9.py:2174: FutureWarning: 'torch.onnx.symbolic_opset9._cast_Bool' is deprecated in version 2.0 and will be removed in the future. Please Avoid using this function and create a Cast node instead.\n",
      "  return fn(g, to_cast_func(g, input, False), to_cast_func(g, other, False))\n"
     ]
    }
   ],
   "source": [
    "# Verifier/ data consumer side: send desired calculation\n",
    "from zkstats.computation import computation_to_model, State\n",
    "\n",
    "\n",
    "def computation(s: State, data: list[torch.Tensor]) -> torch.Tensor:\n",
    "    x = data[0]\n",
    "    return s.pvariance(x)\n",
    "\n",
    "error = 0.01\n",
    "_, verifier_model = computation_to_model(computation, error)\n",
    "\n",
    "verifier_define_calculation(dummy_data_path, selected_columns, sel_dummy_data_path, verifier_model, verifier_model_path)"
   ]
  },
  {
   "cell_type": "code",
   "execution_count": 8,
   "metadata": {},
   "outputs": [
    {
     "name": "stdout",
     "output_type": "stream",
     "text": [
      "==== Generate & Calibrate Setting ====\n",
      "scale:  [2]\n",
      "setting:  {\"run_args\":{\"tolerance\":{\"val\":0.0,\"scale\":1.0},\"input_scale\":2,\"param_scale\":2,\"scale_rebase_multiplier\":10,\"lookup_range\":[-20332,8],\"logrows\":15,\"num_inner_cols\":2,\"variables\":[[\"batch_size\",1]],\"input_visibility\":{\"Hashed\":{\"hash_is_public\":true,\"outlets\":[]}},\"output_visibility\":\"Public\",\"param_visibility\":\"Private\"},\"num_rows\":14432,\"total_assignments\":1519,\"total_const_size\":8,\"model_instance_shapes\":[[1],[1]],\"model_output_scales\":[0,2],\"model_input_scales\":[2],\"module_sizes\":{\"kzg\":[],\"poseidon\":[14432,[1]],\"elgamal\":[0,[0]]},\"required_lookups\":[\"Abs\",{\"GreaterThan\":{\"a\":0.0}}],\"check_mode\":\"UNSAFE\",\"version\":\"7.0.0\",\"num_blinding_factors\":null}\n"
     ]
    }
   ],
   "source": [
    "# Prover/ data owner side\n",
    "_, prover_model = computation_to_model(computation, error)\n",
    "\n",
    "prover_gen_settings(data_path, selected_columns, sel_data_path, prover_model,prover_model_path, scales, \"resources\", settings_path)"
   ]
  },
  {
   "cell_type": "code",
   "execution_count": 9,
   "metadata": {},
   "outputs": [
    {
     "name": "stderr",
     "output_type": "stream",
     "text": [
      "spawning module 0\n",
      "spawning module 2\n"
     ]
    },
    {
     "name": "stdout",
     "output_type": "stream",
     "text": [
      "==== setting up ezkl ====\n"
     ]
    },
    {
     "name": "stderr",
     "output_type": "stream",
     "text": [
      "spawning module 0\n",
      "spawning module 2\n"
     ]
    },
    {
     "name": "stdout",
     "output_type": "stream",
     "text": [
      "Time setup: 3.3062751293182373 seconds\n",
      "=======================================\n",
      "==== Generating Witness ====\n",
      "witness boolean:  1.0\n",
      "witness result 1 : 211.75\n",
      "==== Generating Proof ====\n"
     ]
    },
    {
     "name": "stderr",
     "output_type": "stream",
     "text": [
      "spawning module 0\n",
      "spawning module 2\n"
     ]
    },
    {
     "name": "stdout",
     "output_type": "stream",
     "text": [
      "proof:  {'instances': [[[12907834141446617622, 16863260785082668294, 2215826187815521673, 2191547160659437828], [12436184717236109307, 3962172157175319849, 7381016538464732718, 1011752739694698287], [988086122984763008, 8331390676852675036, 9456440076381036992, 2639995154681636326]]], 'proof': '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', 'transcript_type': 'EVM'}\n",
      "Time gen prf: 4.4941089153289795 seconds\n"
     ]
    }
   ],
   "source": [
    "# Here verifier & prover can concurrently call setup since all params are public to get pk.\n",
    "# Here write as verifier function to emphasize that verifier must calculate its own vk to be sure\n",
    "setup(verifier_model_path, verifier_compiled_model_path, settings_path,vk_path, pk_path )\n",
    "\n",
    "print(\"=======================================\")\n",
    "# Prover generates proof\n",
    "prover_gen_proof(prover_model_path, sel_data_path, witness_path, prover_compiled_model_path, settings_path, proof_path, pk_path)"
   ]
  },
  {
   "cell_type": "code",
   "execution_count": 10,
   "metadata": {},
   "outputs": [
    {
     "name": "stdout",
     "output_type": "stream",
     "text": [
      "Verifier gets result: 211.75\n"
     ]
    }
   ],
   "source": [
    "# Verifier verifies\n",
    "res = verifier_verify(proof_path, settings_path, vk_path, selected_columns, commitment_maps)\n",
    "print(\"Verifier gets result:\", res)"
   ]
  },
  {
   "cell_type": "code",
   "execution_count": null,
   "metadata": {},
   "outputs": [],
   "source": []
  }
 ],
 "metadata": {
  "kernelspec": {
   "display_name": "Python 3",
   "language": "python",
   "name": "python3"
  },
  "language_info": {
   "codemirror_mode": {
    "name": "ipython",
    "version": 3
   },
   "file_extension": ".py",
   "mimetype": "text/x-python",
   "name": "python",
   "nbconvert_exporter": "python",
   "pygments_lexer": "ipython3",
   "version": "3.11.4"
  },
  "orig_nbformat": 4
 },
 "nbformat": 4,
 "nbformat_minor": 2
}
