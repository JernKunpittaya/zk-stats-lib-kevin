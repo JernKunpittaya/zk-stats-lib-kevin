{
 "cells": [
  {
   "cell_type": "code",
   "execution_count": 2,
   "metadata": {},
   "outputs": [],
   "source": [
    "import ezkl\n",
    "import torch\n",
    "from torch import nn\n",
    "import json\n",
    "import os\n",
    "import time\n",
    "import scipy\n",
    "import numpy as np\n",
    "import matplotlib.pyplot as plt\n",
    "import statistics\n",
    "import math"
   ]
  },
  {
   "cell_type": "code",
   "execution_count": 3,
   "metadata": {},
   "outputs": [],
   "source": [
    "%run -i ../../bench.py"
   ]
  },
  {
   "cell_type": "code",
   "execution_count": 4,
   "metadata": {},
   "outputs": [],
   "source": [
    "data_50_path = os.path.join('data_50.json')\n",
    "data_100_path = os.path.join('data_100.json')\n",
    "data_300_path = os.path.join('data_300.json')\n",
    "data_600_path = os.path.join('data_600.json')\n",
    "data_1000_path = os.path.join('data_1000.json')"
   ]
  },
  {
   "cell_type": "code",
   "execution_count": 5,
   "metadata": {},
   "outputs": [],
   "source": [
    "def gen_param_func(data_tensor_array):\n",
    "    # for 1 value, just have 1 element in tensor array\n",
    "    data_tensor = data_tensor_array[0]\n",
    "    return [torch.mean(data_tensor)]\n",
    "\n",
    "def model_func(param):\n",
    "    class verifier_model(nn.Module):\n",
    "        def __init__(self):\n",
    "            super(verifier_model, self).__init__()\n",
    "            self.w = nn.Parameter(data = param[0], requires_grad = False)\n",
    "\n",
    "        def forward(self,X):\n",
    "            # here is witness approach\n",
    "            return (torch.abs(torch.sum(X)-X.size()[1]*(self.w))<=torch.abs(0.01*X.size()[1]*self.w), self.w)\n",
    "    return verifier_model\n",
    "\n",
    "sm_time =[0,0,0,0,0]\n",
    "med_time = [0,0,0,0,0]\n",
    "lar_time = [0,0,0,0,0]"
   ]
  },
  {
   "attachments": {},
   "cell_type": "markdown",
   "metadata": {},
   "source": [
    "Summary of Proving Time (1% accuracy)"
   ]
  },
  {
   "cell_type": "code",
   "execution_count": null,
   "metadata": {},
   "outputs": [],
   "source": [
    "# RUN this cell LAST\n",
    "# Hence calibrate scale accordingly to compres the circuit size as long as the answer still within 1 percent\n",
    "import matplotlib.pyplot as plt\n",
    "data_number = [50, 100, 300, 600, 1000]\n",
    "# sm_time = [0.7684879302978516,1.3166420459747314,2.6340391635894775, 4.918079853057861 , 8.896933794021606]\n",
    "plt.title(\"Mean w/ 1 percent accuracy\")\n",
    "plt.xlabel(\"number of data\")\n",
    "plt.ylabel(\"gen-prf time (s)\")\n",
    "plt.plot(data_number, sm_time, label = 'Small-val data')\n",
    "\n",
    "# med_time = [0.7951033115386963, 1.3345720767974854, 2.5550217628479004, 4.829335927963257, 9.212452173233032]\n",
    "plt.plot(data_number, med_time, label = 'Medium-val data')\n",
    "\n",
    "# lar_time = [1.2746598720550537, 2.2985689640045166, 4.399665117263794, 8.803163051605225, 17.28679895401001]\n",
    "plt.plot(data_number, lar_time, label = 'Large-val data')\n",
    "\n",
    "\n",
    "plt.legend()\n"
   ]
  },
  {
   "attachments": {},
   "cell_type": "markdown",
   "metadata": {},
   "source": [
    "=============================================================================================================\n",
    "\n",
    "Small-Valued Data: value 0-1, 3 decimals on 50, 100, 300, 600, 1000 data"
   ]
  },
  {
   "cell_type": "code",
   "execution_count": 5,
   "metadata": {},
   "outputs": [
    {
     "name": "stderr",
     "output_type": "stream",
     "text": [
      "spawning module 0\n",
      "spawning module 2\n"
     ]
    },
    {
     "name": "stdout",
     "output_type": "stream",
     "text": [
      "=====================================  50 small values  =====================================\n",
      "og setting:  {'run_args': {'tolerance': {'val': 0.0, 'scale': 1.0}, 'input_scale': 9, 'param_scale': 9, 'scale_rebase_multiplier': 10, 'lookup_range': [-270, 0], 'logrows': 12, 'num_inner_cols': 2, 'variables': [['batch_size', 1]], 'input_visibility': {'Hashed': {'hash_is_public': True, 'outlets': []}}, 'output_visibility': 'Public', 'param_visibility': 'Private'}, 'num_rows': 3936, 'total_assignments': 110, 'total_const_size': 4, 'model_instance_shapes': [[1], [1]], 'model_output_scales': [0, 9], 'model_input_scales': [9], 'module_sizes': {'kzg': [], 'poseidon': [3936, [1]], 'elgamal': [0, [0]]}, 'required_lookups': ['Abs', {'GreaterThan': {'a': 0.0}}], 'check_mode': 'UNSAFE', 'version': '7.0.0', 'num_blinding_factors': None}\n",
      "logrow cal settings:  {'run_args': {'tolerance': {'val': 0.0, 'scale': 1.0}, 'input_scale': 9, 'param_scale': 9, 'scale_rebase_multiplier': 10, 'lookup_range': [-270, 0], 'logrows': 12, 'num_inner_cols': 2, 'variables': [['batch_size', 1]], 'input_visibility': {'Hashed': {'hash_is_public': True, 'outlets': []}}, 'output_visibility': 'Public', 'param_visibility': 'Private'}, 'num_rows': 3936, 'total_assignments': 110, 'total_const_size': 4, 'model_instance_shapes': [[1], [1]], 'model_output_scales': [0, 9], 'model_input_scales': [9], 'module_sizes': {'kzg': [], 'poseidon': [3936, [1]], 'elgamal': [0, [0]]}, 'required_lookups': ['Abs', {'GreaterThan': {'a': 0.0}}], 'check_mode': 'UNSAFE', 'version': '7.0.0', 'num_blinding_factors': None}\n"
     ]
    },
    {
     "name": "stderr",
     "output_type": "stream",
     "text": [
      "spawning module 0\n",
      "spawning module 2\n",
      "spawning module 0\n",
      "spawning module 2\n"
     ]
    },
    {
     "name": "stdout",
     "output_type": "stream",
     "text": [
      "gen prf time:  0.9181699752807617\n",
      "Theory result:  tensor(0.5284, dtype=torch.float64)\n",
      "Our result:  [0.529296875]\n"
     ]
    }
   ],
   "source": [
    "sm_time[0]= bench_one(data_50_path, ['small'],model_func,gen_param_func, \"50 small values\",\"default\", 12, \"resources\", )"
   ]
  },
  {
   "cell_type": "code",
   "execution_count": 6,
   "metadata": {},
   "outputs": [
    {
     "name": "stderr",
     "output_type": "stream",
     "text": [
      "spawning module 0\n",
      "spawning module 2\n"
     ]
    },
    {
     "name": "stdout",
     "output_type": "stream",
     "text": [
      "=====================================  100 small values  =====================================\n",
      "og setting:  {'run_args': {'tolerance': {'val': 0.0, 'scale': 1.0}, 'input_scale': 9, 'param_scale': 9, 'scale_rebase_multiplier': 10, 'lookup_range': [-538, 0], 'logrows': 13, 'num_inner_cols': 2, 'variables': [['batch_size', 1]], 'input_visibility': {'Hashed': {'hash_is_public': True, 'outlets': []}}, 'output_visibility': 'Public', 'param_visibility': 'Private'}, 'num_rows': 6560, 'total_assignments': 210, 'total_const_size': 4, 'model_instance_shapes': [[1], [1]], 'model_output_scales': [0, 9], 'model_input_scales': [9], 'module_sizes': {'kzg': [], 'poseidon': [6560, [1]], 'elgamal': [0, [0]]}, 'required_lookups': ['Abs', {'GreaterThan': {'a': 0.0}}], 'check_mode': 'UNSAFE', 'version': '7.0.0', 'num_blinding_factors': None}\n",
      "logrow cal settings:  {'run_args': {'tolerance': {'val': 0.0, 'scale': 1.0}, 'input_scale': 9, 'param_scale': 9, 'scale_rebase_multiplier': 10, 'lookup_range': [-538, 0], 'logrows': 13, 'num_inner_cols': 2, 'variables': [['batch_size', 1]], 'input_visibility': {'Hashed': {'hash_is_public': True, 'outlets': []}}, 'output_visibility': 'Public', 'param_visibility': 'Private'}, 'num_rows': 6560, 'total_assignments': 210, 'total_const_size': 4, 'model_instance_shapes': [[1], [1]], 'model_output_scales': [0, 9], 'model_input_scales': [9], 'module_sizes': {'kzg': [], 'poseidon': [6560, [1]], 'elgamal': [0, [0]]}, 'required_lookups': ['Abs', {'GreaterThan': {'a': 0.0}}], 'check_mode': 'UNSAFE', 'version': '7.0.0', 'num_blinding_factors': None}\n"
     ]
    },
    {
     "name": "stderr",
     "output_type": "stream",
     "text": [
      "spawning module 0\n",
      "spawning module 2\n",
      "spawning module 0\n",
      "spawning module 2\n"
     ]
    },
    {
     "name": "stdout",
     "output_type": "stream",
     "text": [
      "gen prf time:  1.3899168968200684\n",
      "Theory result:  tensor(0.5274, dtype=torch.float64)\n",
      "Our result:  [0.52734375]\n"
     ]
    }
   ],
   "source": [
    "sm_time[1]= bench_one(data_100_path,['small'], model_func,gen_param_func, \"100 small values\",\"default\", 13,\"resources\")"
   ]
  },
  {
   "cell_type": "code",
   "execution_count": 7,
   "metadata": {},
   "outputs": [
    {
     "name": "stderr",
     "output_type": "stream",
     "text": [
      "spawning module 0\n",
      "spawning module 2\n"
     ]
    },
    {
     "name": "stdout",
     "output_type": "stream",
     "text": [
      "=====================================  300 small values  =====================================\n",
      "og setting:  {'run_args': {'tolerance': {'val': 0.0, 'scale': 1.0}, 'input_scale': 9, 'param_scale': 9, 'scale_rebase_multiplier': 10, 'lookup_range': [-1534, 0], 'logrows': 14, 'num_inner_cols': 2, 'variables': [['batch_size', 1]], 'input_visibility': {'Hashed': {'hash_is_public': True, 'outlets': []}}, 'output_visibility': 'Public', 'param_visibility': 'Private'}, 'num_rows': 14432, 'total_assignments': 610, 'total_const_size': 4, 'model_instance_shapes': [[1], [1]], 'model_output_scales': [0, 9], 'model_input_scales': [9], 'module_sizes': {'kzg': [], 'poseidon': [14432, [1]], 'elgamal': [0, [0]]}, 'required_lookups': ['Abs', {'GreaterThan': {'a': 0.0}}], 'check_mode': 'UNSAFE', 'version': '7.0.0', 'num_blinding_factors': None}\n",
      "logrow cal settings:  {'run_args': {'tolerance': {'val': 0.0, 'scale': 1.0}, 'input_scale': 9, 'param_scale': 9, 'scale_rebase_multiplier': 10, 'lookup_range': [-1534, 0], 'logrows': 14, 'num_inner_cols': 2, 'variables': [['batch_size', 1]], 'input_visibility': {'Hashed': {'hash_is_public': True, 'outlets': []}}, 'output_visibility': 'Public', 'param_visibility': 'Private'}, 'num_rows': 14432, 'total_assignments': 610, 'total_const_size': 4, 'model_instance_shapes': [[1], [1]], 'model_output_scales': [0, 9], 'model_input_scales': [9], 'module_sizes': {'kzg': [], 'poseidon': [14432, [1]], 'elgamal': [0, [0]]}, 'required_lookups': ['Abs', {'GreaterThan': {'a': 0.0}}], 'check_mode': 'UNSAFE', 'version': '7.0.0', 'num_blinding_factors': None}\n"
     ]
    },
    {
     "name": "stderr",
     "output_type": "stream",
     "text": [
      "spawning module 0\n",
      "spawning module 2\n",
      "spawning module 0\n",
      "spawning module 2\n"
     ]
    },
    {
     "name": "stdout",
     "output_type": "stream",
     "text": [
      "gen prf time:  2.75862193107605\n",
      "Theory result:  tensor(0.5015, dtype=torch.float64)\n",
      "Our result:  [0.501953125]\n"
     ]
    }
   ],
   "source": [
    "sm_time[2]= bench_one(data_300_path,['small'], model_func,gen_param_func, \"300 small values\",\"default\",14,  \"resources\")"
   ]
  },
  {
   "cell_type": "code",
   "execution_count": 8,
   "metadata": {},
   "outputs": [
    {
     "name": "stdout",
     "output_type": "stream",
     "text": [
      "=====================================  600 small values  =====================================\n"
     ]
    },
    {
     "name": "stderr",
     "output_type": "stream",
     "text": [
      "spawning module 0\n",
      "spawning module 2\n"
     ]
    },
    {
     "name": "stdout",
     "output_type": "stream",
     "text": [
      "og setting:  {'run_args': {'tolerance': {'val': 0.0, 'scale': 1.0}, 'input_scale': 9, 'param_scale': 9, 'scale_rebase_multiplier': 10, 'lookup_range': [-3032, 0], 'logrows': 15, 'num_inner_cols': 2, 'variables': [['batch_size', 1]], 'input_visibility': {'Hashed': {'hash_is_public': True, 'outlets': []}}, 'output_visibility': 'Public', 'param_visibility': 'Private'}, 'num_rows': 26240, 'total_assignments': 1210, 'total_const_size': 4, 'model_instance_shapes': [[1], [1]], 'model_output_scales': [0, 9], 'model_input_scales': [9], 'module_sizes': {'kzg': [], 'poseidon': [26240, [1]], 'elgamal': [0, [0]]}, 'required_lookups': ['Abs', {'GreaterThan': {'a': 0.0}}], 'check_mode': 'UNSAFE', 'version': '7.0.0', 'num_blinding_factors': None}\n",
      "logrow cal settings:  {'run_args': {'tolerance': {'val': 0.0, 'scale': 1.0}, 'input_scale': 9, 'param_scale': 9, 'scale_rebase_multiplier': 10, 'lookup_range': [-3032, 0], 'logrows': 15, 'num_inner_cols': 2, 'variables': [['batch_size', 1]], 'input_visibility': {'Hashed': {'hash_is_public': True, 'outlets': []}}, 'output_visibility': 'Public', 'param_visibility': 'Private'}, 'num_rows': 26240, 'total_assignments': 1210, 'total_const_size': 4, 'model_instance_shapes': [[1], [1]], 'model_output_scales': [0, 9], 'model_input_scales': [9], 'module_sizes': {'kzg': [], 'poseidon': [26240, [1]], 'elgamal': [0, [0]]}, 'required_lookups': ['Abs', {'GreaterThan': {'a': 0.0}}], 'check_mode': 'UNSAFE', 'version': '7.0.0', 'num_blinding_factors': None}\n"
     ]
    },
    {
     "name": "stderr",
     "output_type": "stream",
     "text": [
      "spawning module 0\n",
      "spawning module 2\n",
      "spawning module 0\n",
      "spawning module 2\n"
     ]
    },
    {
     "name": "stdout",
     "output_type": "stream",
     "text": [
      "gen prf time:  5.01526403427124\n",
      "Theory result:  tensor(0.4951, dtype=torch.float64)\n",
      "Our result:  [0.49609375]\n"
     ]
    }
   ],
   "source": [
    "sm_time[3] = bench_one(data_600_path, ['small'],model_func,gen_param_func, \"600 small values\",\"default\", 15,\"resources\")"
   ]
  },
  {
   "cell_type": "code",
   "execution_count": 9,
   "metadata": {},
   "outputs": [
    {
     "name": "stdout",
     "output_type": "stream",
     "text": [
      "=====================================  1000 small values  =====================================\n"
     ]
    },
    {
     "name": "stderr",
     "output_type": "stream",
     "text": [
      "spawning module 0\n",
      "spawning module 2\n"
     ]
    },
    {
     "name": "stdout",
     "output_type": "stream",
     "text": [
      "og setting:  {'run_args': {'tolerance': {'val': 0.0, 'scale': 1.0}, 'input_scale': 9, 'param_scale': 9, 'scale_rebase_multiplier': 10, 'lookup_range': [-4998, 0], 'logrows': 16, 'num_inner_cols': 2, 'variables': [['batch_size', 1]], 'input_visibility': {'Hashed': {'hash_is_public': True, 'outlets': []}}, 'output_visibility': 'Public', 'param_visibility': 'Private'}, 'num_rows': 45920, 'total_assignments': 2010, 'total_const_size': 4, 'model_instance_shapes': [[1], [1]], 'model_output_scales': [0, 9], 'model_input_scales': [9], 'module_sizes': {'kzg': [], 'poseidon': [45920, [1]], 'elgamal': [0, [0]]}, 'required_lookups': ['Abs', {'GreaterThan': {'a': 0.0}}], 'check_mode': 'UNSAFE', 'version': '7.0.0', 'num_blinding_factors': None}\n",
      "logrow cal settings:  {'run_args': {'tolerance': {'val': 0.0, 'scale': 1.0}, 'input_scale': 9, 'param_scale': 9, 'scale_rebase_multiplier': 10, 'lookup_range': [-4998, 0], 'logrows': 16, 'num_inner_cols': 2, 'variables': [['batch_size', 1]], 'input_visibility': {'Hashed': {'hash_is_public': True, 'outlets': []}}, 'output_visibility': 'Public', 'param_visibility': 'Private'}, 'num_rows': 45920, 'total_assignments': 2010, 'total_const_size': 4, 'model_instance_shapes': [[1], [1]], 'model_output_scales': [0, 9], 'model_input_scales': [9], 'module_sizes': {'kzg': [], 'poseidon': [45920, [1]], 'elgamal': [0, [0]]}, 'required_lookups': ['Abs', {'GreaterThan': {'a': 0.0}}], 'check_mode': 'UNSAFE', 'version': '7.0.0', 'num_blinding_factors': None}\n"
     ]
    },
    {
     "name": "stderr",
     "output_type": "stream",
     "text": [
      "spawning module 0\n",
      "spawning module 2\n",
      "spawning module 0\n",
      "spawning module 2\n"
     ]
    },
    {
     "name": "stdout",
     "output_type": "stream",
     "text": [
      "gen prf time:  9.175563097000122\n",
      "Theory result:  tensor(0.4881, dtype=torch.float64)\n",
      "Our result:  [0.48828125]\n"
     ]
    }
   ],
   "source": [
    "sm_time[4] = bench_one(data_1000_path, ['small'],model_func,gen_param_func, \"1000 small values\",\"default\", 16,\"resources\")"
   ]
  },
  {
   "attachments": {},
   "cell_type": "markdown",
   "metadata": {},
   "source": [
    "=============================================================================================================\n",
    "\n",
    "Medium data: value 1-100, 1 decimal on 50, 100, 300, 600, 1000 data"
   ]
  },
  {
   "cell_type": "code",
   "execution_count": 10,
   "metadata": {},
   "outputs": [
    {
     "name": "stderr",
     "output_type": "stream",
     "text": [
      "spawning module 0\n",
      "spawning module 2\n"
     ]
    },
    {
     "name": "stdout",
     "output_type": "stream",
     "text": [
      "=====================================  50 medium values  =====================================\n",
      "og setting:  {'run_args': {'tolerance': {'val': 0.0, 'scale': 1.0}, 'input_scale': 3, 'param_scale': 3, 'scale_rebase_multiplier': 10, 'lookup_range': [-334, 4], 'logrows': 12, 'num_inner_cols': 2, 'variables': [['batch_size', 1]], 'input_visibility': {'Hashed': {'hash_is_public': True, 'outlets': []}}, 'output_visibility': 'Public', 'param_visibility': 'Private'}, 'num_rows': 3936, 'total_assignments': 110, 'total_const_size': 4, 'model_instance_shapes': [[1], [1]], 'model_output_scales': [0, 3], 'model_input_scales': [3], 'module_sizes': {'kzg': [], 'poseidon': [3936, [1]], 'elgamal': [0, [0]]}, 'required_lookups': ['Abs', {'GreaterThan': {'a': 0.0}}], 'check_mode': 'UNSAFE', 'version': '7.0.0', 'num_blinding_factors': None}\n",
      "logrow cal settings:  {'run_args': {'tolerance': {'val': 0.0, 'scale': 1.0}, 'input_scale': 3, 'param_scale': 3, 'scale_rebase_multiplier': 10, 'lookup_range': [-334, 4], 'logrows': 12, 'num_inner_cols': 2, 'variables': [['batch_size', 1]], 'input_visibility': {'Hashed': {'hash_is_public': True, 'outlets': []}}, 'output_visibility': 'Public', 'param_visibility': 'Private'}, 'num_rows': 3936, 'total_assignments': 110, 'total_const_size': 4, 'model_instance_shapes': [[1], [1]], 'model_output_scales': [0, 3], 'model_input_scales': [3], 'module_sizes': {'kzg': [], 'poseidon': [3936, [1]], 'elgamal': [0, [0]]}, 'required_lookups': ['Abs', {'GreaterThan': {'a': 0.0}}], 'check_mode': 'UNSAFE', 'version': '7.0.0', 'num_blinding_factors': None}\n"
     ]
    },
    {
     "name": "stderr",
     "output_type": "stream",
     "text": [
      "spawning module 0\n",
      "spawning module 2\n",
      "spawning module 0\n",
      "spawning module 2\n"
     ]
    },
    {
     "name": "stdout",
     "output_type": "stream",
     "text": [
      "gen prf time:  0.8020322322845459\n",
      "Theory result:  tensor(42.1340, dtype=torch.float64)\n",
      "Our result:  [42.125]\n"
     ]
    }
   ],
   "source": [
    "# can use \"default\" which will set to scale 8, but overkill, we just want 1% accuracy\n",
    "med_time[0] = bench_one(data_50_path,['medium'], model_func,gen_param_func, \"50 medium values\",[3],12,  \"resources\")"
   ]
  },
  {
   "cell_type": "code",
   "execution_count": 11,
   "metadata": {},
   "outputs": [
    {
     "name": "stderr",
     "output_type": "stream",
     "text": [
      "spawning module 0\n",
      "spawning module 2\n"
     ]
    },
    {
     "name": "stdout",
     "output_type": "stream",
     "text": [
      "=====================================  100 medium values  =====================================\n",
      "og setting:  {'run_args': {'tolerance': {'val': 0.0, 'scale': 1.0}, 'input_scale': 3, 'param_scale': 3, 'scale_rebase_multiplier': 10, 'lookup_range': [-732, 8], 'logrows': 13, 'num_inner_cols': 2, 'variables': [['batch_size', 1]], 'input_visibility': {'Hashed': {'hash_is_public': True, 'outlets': []}}, 'output_visibility': 'Public', 'param_visibility': 'Private'}, 'num_rows': 6560, 'total_assignments': 210, 'total_const_size': 4, 'model_instance_shapes': [[1], [1]], 'model_output_scales': [0, 3], 'model_input_scales': [3], 'module_sizes': {'kzg': [], 'poseidon': [6560, [1]], 'elgamal': [0, [0]]}, 'required_lookups': ['Abs', {'GreaterThan': {'a': 0.0}}], 'check_mode': 'UNSAFE', 'version': '7.0.0', 'num_blinding_factors': None}\n",
      "logrow cal settings:  {'run_args': {'tolerance': {'val': 0.0, 'scale': 1.0}, 'input_scale': 3, 'param_scale': 3, 'scale_rebase_multiplier': 10, 'lookup_range': [-732, 8], 'logrows': 13, 'num_inner_cols': 2, 'variables': [['batch_size', 1]], 'input_visibility': {'Hashed': {'hash_is_public': True, 'outlets': []}}, 'output_visibility': 'Public', 'param_visibility': 'Private'}, 'num_rows': 6560, 'total_assignments': 210, 'total_const_size': 4, 'model_instance_shapes': [[1], [1]], 'model_output_scales': [0, 3], 'model_input_scales': [3], 'module_sizes': {'kzg': [], 'poseidon': [6560, [1]], 'elgamal': [0, [0]]}, 'required_lookups': ['Abs', {'GreaterThan': {'a': 0.0}}], 'check_mode': 'UNSAFE', 'version': '7.0.0', 'num_blinding_factors': None}\n"
     ]
    },
    {
     "name": "stderr",
     "output_type": "stream",
     "text": [
      "spawning module 0\n",
      "spawning module 2\n",
      "spawning module 0\n",
      "spawning module 2\n"
     ]
    },
    {
     "name": "stdout",
     "output_type": "stream",
     "text": [
      "gen prf time:  1.4096109867095947\n",
      "Theory result:  tensor(46.1910, dtype=torch.float64)\n",
      "Our result:  [46.25]\n"
     ]
    }
   ],
   "source": [
    "med_time[1] = bench_one(data_100_path,['medium'], model_func,gen_param_func, \"100 medium values\",[3],13, \"resources\")"
   ]
  },
  {
   "cell_type": "code",
   "execution_count": 12,
   "metadata": {},
   "outputs": [
    {
     "name": "stderr",
     "output_type": "stream",
     "text": [
      "spawning module 0\n",
      "spawning module 2\n"
     ]
    },
    {
     "name": "stdout",
     "output_type": "stream",
     "text": [
      "=====================================  300 medium values  =====================================\n",
      "og setting:  {'run_args': {'tolerance': {'val': 0.0, 'scale': 1.0}, 'input_scale': 3, 'param_scale': 3, 'scale_rebase_multiplier': 10, 'lookup_range': [-2384, 0], 'logrows': 14, 'num_inner_cols': 2, 'variables': [['batch_size', 1]], 'input_visibility': {'Hashed': {'hash_is_public': True, 'outlets': []}}, 'output_visibility': 'Public', 'param_visibility': 'Private'}, 'num_rows': 14432, 'total_assignments': 610, 'total_const_size': 4, 'model_instance_shapes': [[1], [1]], 'model_output_scales': [0, 3], 'model_input_scales': [3], 'module_sizes': {'kzg': [], 'poseidon': [14432, [1]], 'elgamal': [0, [0]]}, 'required_lookups': ['Abs', {'GreaterThan': {'a': 0.0}}], 'check_mode': 'UNSAFE', 'version': '7.0.0', 'num_blinding_factors': None}\n",
      "logrow cal settings:  {'run_args': {'tolerance': {'val': 0.0, 'scale': 1.0}, 'input_scale': 3, 'param_scale': 3, 'scale_rebase_multiplier': 10, 'lookup_range': [-2384, 0], 'logrows': 14, 'num_inner_cols': 2, 'variables': [['batch_size', 1]], 'input_visibility': {'Hashed': {'hash_is_public': True, 'outlets': []}}, 'output_visibility': 'Public', 'param_visibility': 'Private'}, 'num_rows': 14432, 'total_assignments': 610, 'total_const_size': 4, 'model_instance_shapes': [[1], [1]], 'model_output_scales': [0, 3], 'model_input_scales': [3], 'module_sizes': {'kzg': [], 'poseidon': [14432, [1]], 'elgamal': [0, [0]]}, 'required_lookups': ['Abs', {'GreaterThan': {'a': 0.0}}], 'check_mode': 'UNSAFE', 'version': '7.0.0', 'num_blinding_factors': None}\n"
     ]
    },
    {
     "name": "stderr",
     "output_type": "stream",
     "text": [
      "spawning module 0\n",
      "spawning module 2\n",
      "spawning module 0\n",
      "spawning module 2\n"
     ]
    },
    {
     "name": "stdout",
     "output_type": "stream",
     "text": [
      "gen prf time:  2.6047370433807373\n",
      "Theory result:  tensor(49.6743, dtype=torch.float64)\n",
      "Our result:  [49.625]\n"
     ]
    }
   ],
   "source": [
    "med_time[2]= bench_one(data_300_path,['medium'], model_func,gen_param_func, \"300 medium values\",[3],14, \"resources\")"
   ]
  },
  {
   "cell_type": "code",
   "execution_count": 13,
   "metadata": {},
   "outputs": [
    {
     "name": "stderr",
     "output_type": "stream",
     "text": [
      "spawning module 0\n",
      "spawning module 2\n"
     ]
    },
    {
     "name": "stdout",
     "output_type": "stream",
     "text": [
      "=====================================  600 medium values  =====================================\n",
      "og setting:  {'run_args': {'tolerance': {'val': 0.0, 'scale': 1.0}, 'input_scale': 3, 'param_scale': 3, 'scale_rebase_multiplier': 10, 'lookup_range': [-4760, 0], 'logrows': 15, 'num_inner_cols': 2, 'variables': [['batch_size', 1]], 'input_visibility': {'Hashed': {'hash_is_public': True, 'outlets': []}}, 'output_visibility': 'Public', 'param_visibility': 'Private'}, 'num_rows': 26240, 'total_assignments': 1210, 'total_const_size': 4, 'model_instance_shapes': [[1], [1]], 'model_output_scales': [0, 3], 'model_input_scales': [3], 'module_sizes': {'kzg': [], 'poseidon': [26240, [1]], 'elgamal': [0, [0]]}, 'required_lookups': ['Abs', {'GreaterThan': {'a': 0.0}}], 'check_mode': 'UNSAFE', 'version': '7.0.0', 'num_blinding_factors': None}\n",
      "logrow cal settings:  {'run_args': {'tolerance': {'val': 0.0, 'scale': 1.0}, 'input_scale': 3, 'param_scale': 3, 'scale_rebase_multiplier': 10, 'lookup_range': [-4760, 0], 'logrows': 15, 'num_inner_cols': 2, 'variables': [['batch_size', 1]], 'input_visibility': {'Hashed': {'hash_is_public': True, 'outlets': []}}, 'output_visibility': 'Public', 'param_visibility': 'Private'}, 'num_rows': 26240, 'total_assignments': 1210, 'total_const_size': 4, 'model_instance_shapes': [[1], [1]], 'model_output_scales': [0, 3], 'model_input_scales': [3], 'module_sizes': {'kzg': [], 'poseidon': [26240, [1]], 'elgamal': [0, [0]]}, 'required_lookups': ['Abs', {'GreaterThan': {'a': 0.0}}], 'check_mode': 'UNSAFE', 'version': '7.0.0', 'num_blinding_factors': None}\n"
     ]
    },
    {
     "name": "stderr",
     "output_type": "stream",
     "text": [
      "spawning module 0\n",
      "spawning module 2\n",
      "spawning module 0\n",
      "spawning module 2\n"
     ]
    },
    {
     "name": "stdout",
     "output_type": "stream",
     "text": [
      "gen prf time:  4.926774978637695\n",
      "Theory result:  tensor(49.6887, dtype=torch.float64)\n",
      "Our result:  [49.75]\n"
     ]
    }
   ],
   "source": [
    "med_time[3] = bench_one(data_600_path,['medium'], model_func,gen_param_func, \"600 medium values\",[3],15, \"resources\")"
   ]
  },
  {
   "cell_type": "code",
   "execution_count": 14,
   "metadata": {},
   "outputs": [
    {
     "name": "stderr",
     "output_type": "stream",
     "text": [
      "spawning module 0\n",
      "spawning module 2\n"
     ]
    },
    {
     "name": "stdout",
     "output_type": "stream",
     "text": [
      "=====================================  1000 medium values  =====================================\n",
      "og setting:  {'run_args': {'tolerance': {'val': 0.0, 'scale': 1.0}, 'input_scale': 3, 'param_scale': 3, 'scale_rebase_multiplier': 10, 'lookup_range': [-8100, 10], 'logrows': 16, 'num_inner_cols': 2, 'variables': [['batch_size', 1]], 'input_visibility': {'Hashed': {'hash_is_public': True, 'outlets': []}}, 'output_visibility': 'Public', 'param_visibility': 'Private'}, 'num_rows': 45920, 'total_assignments': 2010, 'total_const_size': 4, 'model_instance_shapes': [[1], [1]], 'model_output_scales': [0, 3], 'model_input_scales': [3], 'module_sizes': {'kzg': [], 'poseidon': [45920, [1]], 'elgamal': [0, [0]]}, 'required_lookups': ['Abs', {'GreaterThan': {'a': 0.0}}], 'check_mode': 'UNSAFE', 'version': '7.0.0', 'num_blinding_factors': None}\n",
      "logrow cal settings:  {'run_args': {'tolerance': {'val': 0.0, 'scale': 1.0}, 'input_scale': 3, 'param_scale': 3, 'scale_rebase_multiplier': 10, 'lookup_range': [-8100, 10], 'logrows': 16, 'num_inner_cols': 2, 'variables': [['batch_size', 1]], 'input_visibility': {'Hashed': {'hash_is_public': True, 'outlets': []}}, 'output_visibility': 'Public', 'param_visibility': 'Private'}, 'num_rows': 45920, 'total_assignments': 2010, 'total_const_size': 4, 'model_instance_shapes': [[1], [1]], 'model_output_scales': [0, 3], 'model_input_scales': [3], 'module_sizes': {'kzg': [], 'poseidon': [45920, [1]], 'elgamal': [0, [0]]}, 'required_lookups': ['Abs', {'GreaterThan': {'a': 0.0}}], 'check_mode': 'UNSAFE', 'version': '7.0.0', 'num_blinding_factors': None}\n"
     ]
    },
    {
     "name": "stderr",
     "output_type": "stream",
     "text": [
      "spawning module 0\n",
      "spawning module 2\n",
      "spawning module 0\n",
      "spawning module 2\n"
     ]
    },
    {
     "name": "stdout",
     "output_type": "stream",
     "text": [
      "gen prf time:  8.961522817611694\n",
      "Theory result:  tensor(50.6906, dtype=torch.float64)\n",
      "Our result:  [50.75]\n"
     ]
    }
   ],
   "source": [
    "med_time[4] = bench_one(data_1000_path,['medium'], model_func,gen_param_func, \"1000 medium values\",[3],16, \"resources\")"
   ]
  },
  {
   "attachments": {},
   "cell_type": "markdown",
   "metadata": {},
   "source": [
    "=============================================================================================================\n",
    "\n",
    "Large-valued data: value 100-10000, 0 decimal on 50, 100, 300, 600, 1000 data"
   ]
  },
  {
   "cell_type": "code",
   "execution_count": 6,
   "metadata": {},
   "outputs": [
    {
     "name": "stderr",
     "output_type": "stream",
     "text": [
      "spawning module 0\n",
      "spawning module 2\n"
     ]
    },
    {
     "name": "stdout",
     "output_type": "stream",
     "text": [
      "=====================================  50 large values  =====================================\n",
      "og setting:  {'run_args': {'tolerance': {'val': 0.0, 'scale': 1.0}, 'input_scale': 0, 'param_scale': 0, 'scale_rebase_multiplier': 10, 'lookup_range': [-5364, 0], 'logrows': 13, 'num_inner_cols': 2, 'variables': [['batch_size', 1]], 'input_visibility': {'Hashed': {'hash_is_public': True, 'outlets': []}}, 'output_visibility': 'Public', 'param_visibility': 'Private'}, 'num_rows': 3936, 'total_assignments': 110, 'total_const_size': 4, 'model_instance_shapes': [[1], [1]], 'model_output_scales': [0, 0], 'model_input_scales': [0], 'module_sizes': {'kzg': [], 'poseidon': [3936, [1]], 'elgamal': [0, [0]]}, 'required_lookups': ['Abs', {'GreaterThan': {'a': 0.0}}], 'check_mode': 'UNSAFE', 'version': '7.0.0', 'num_blinding_factors': None}\n",
      "logrow cal settings:  {'run_args': {'tolerance': {'val': 0.0, 'scale': 1.0}, 'input_scale': 0, 'param_scale': 0, 'scale_rebase_multiplier': 10, 'lookup_range': [-5364, 0], 'logrows': 13, 'num_inner_cols': 2, 'variables': [['batch_size', 1]], 'input_visibility': {'Hashed': {'hash_is_public': True, 'outlets': []}}, 'output_visibility': 'Public', 'param_visibility': 'Private'}, 'num_rows': 3936, 'total_assignments': 110, 'total_const_size': 4, 'model_instance_shapes': [[1], [1]], 'model_output_scales': [0, 0], 'model_input_scales': [0], 'module_sizes': {'kzg': [], 'poseidon': [3936, [1]], 'elgamal': [0, [0]]}, 'required_lookups': ['Abs', {'GreaterThan': {'a': 0.0}}], 'check_mode': 'UNSAFE', 'version': '7.0.0', 'num_blinding_factors': None}\n"
     ]
    },
    {
     "name": "stderr",
     "output_type": "stream",
     "text": [
      "spawning module 0\n",
      "spawning module 2\n",
      "spawning module 0\n",
      "spawning module 2\n"
     ]
    },
    {
     "name": "stdout",
     "output_type": "stream",
     "text": [
      "gen prf time:  1.2345590591430664\n",
      "Theory result:  tensor(5363.5200, dtype=torch.float64)\n",
      "Our result:  [5364.0]\n"
     ]
    }
   ],
   "source": [
    "lar_time[0] = bench_one(data_50_path, ['large'],model_func,gen_param_func, \"50 large values\",[0],13, \"resources\")"
   ]
  },
  {
   "cell_type": "code",
   "execution_count": 16,
   "metadata": {},
   "outputs": [
    {
     "name": "stderr",
     "output_type": "stream",
     "text": [
      "Using 2 columns for non-linearity table.\n",
      "Using 2 columns for non-linearity table.\n",
      "spawning module 0\n",
      "spawning module 2\n",
      "Using 2 columns for non-linearity table.\n"
     ]
    },
    {
     "name": "stdout",
     "output_type": "stream",
     "text": [
      "=====================================  50 large values  =====================================\n",
      "og setting:  {'run_args': {'tolerance': {'val': 0.0, 'scale': 1.0}, 'input_scale': 0, 'param_scale': 0, 'scale_rebase_multiplier': 10, 'lookup_range': [-5364, 0], 'logrows': 13, 'num_inner_cols': 2, 'variables': [['batch_size', 1]], 'input_visibility': {'Hashed': {'hash_is_public': True, 'outlets': []}}, 'output_visibility': 'Public', 'param_visibility': 'Private'}, 'num_rows': 3936, 'total_assignments': 110, 'total_const_size': 4, 'model_instance_shapes': [[1], [1]], 'model_output_scales': [0, 0], 'model_input_scales': [0], 'module_sizes': {'kzg': [], 'poseidon': [3936, [1]], 'elgamal': [0, [0]]}, 'required_lookups': ['Abs', {'GreaterThan': {'a': 0.0}}], 'check_mode': 'UNSAFE', 'version': '7.0.0', 'num_blinding_factors': None}\n",
      "logrow cal settings:  {'run_args': {'tolerance': {'val': 0.0, 'scale': 1.0}, 'input_scale': 0, 'param_scale': 0, 'scale_rebase_multiplier': 10, 'lookup_range': [-5364, 0], 'logrows': 12, 'num_inner_cols': 2, 'variables': [['batch_size', 1]], 'input_visibility': {'Hashed': {'hash_is_public': True, 'outlets': []}}, 'output_visibility': 'Public', 'param_visibility': 'Private'}, 'num_rows': 3936, 'total_assignments': 110, 'total_const_size': 4, 'model_instance_shapes': [[1], [1]], 'model_output_scales': [0, 0], 'model_input_scales': [0], 'module_sizes': {'kzg': [], 'poseidon': [3936, [1]], 'elgamal': [0, [0]]}, 'required_lookups': ['Abs', {'GreaterThan': {'a': 0.0}}], 'check_mode': 'UNSAFE', 'version': '7.0.0', 'num_blinding_factors': None}\n"
     ]
    },
    {
     "name": "stderr",
     "output_type": "stream",
     "text": [
      "Using 2 columns for non-linearity table.\n",
      "spawning module 0\n",
      "spawning module 2\n",
      "Using 2 columns for non-linearity table.\n",
      "Using 2 columns for non-linearity table.\n",
      "Using 2 columns for non-linearity table.\n",
      "Using 2 columns for non-linearity table.\n",
      "spawning module 0\n",
      "spawning module 2\n",
      "Using 2 columns for non-linearity table.\n",
      "Using 2 columns for non-linearity table.\n"
     ]
    },
    {
     "name": "stdout",
     "output_type": "stream",
     "text": [
      "gen prf time:  1.0602927207946777\n",
      "Theory result:  tensor(5363.5200, dtype=torch.float64)\n",
      "Our result:  [5364.0]\n"
     ]
    }
   ],
   "source": [
    "lar_time[0] = bench_one(data_50_path, ['large'],model_func,gen_param_func, \"50 large values\",[0],12, \"resources\")"
   ]
  },
  {
   "cell_type": "code",
   "execution_count": 17,
   "metadata": {},
   "outputs": [
    {
     "name": "stderr",
     "output_type": "stream",
     "text": [
      "spawning module 0\n",
      "spawning module 2\n",
      "spawning module 0\n"
     ]
    },
    {
     "name": "stdout",
     "output_type": "stream",
     "text": [
      "=====================================  100 large values  =====================================\n",
      "og setting:  {'run_args': {'tolerance': {'val': 0.0, 'scale': 1.0}, 'input_scale': 0, 'param_scale': 0, 'scale_rebase_multiplier': 10, 'lookup_range': [-10006, 0], 'logrows': 14, 'num_inner_cols': 2, 'variables': [['batch_size', 1]], 'input_visibility': {'Hashed': {'hash_is_public': True, 'outlets': []}}, 'output_visibility': 'Public', 'param_visibility': 'Private'}, 'num_rows': 6560, 'total_assignments': 210, 'total_const_size': 4, 'model_instance_shapes': [[1], [1]], 'model_output_scales': [0, 0], 'model_input_scales': [0], 'module_sizes': {'kzg': [], 'poseidon': [6560, [1]], 'elgamal': [0, [0]]}, 'required_lookups': ['Abs', {'GreaterThan': {'a': 0.0}}], 'check_mode': 'UNSAFE', 'version': '7.0.0', 'num_blinding_factors': None}\n",
      "logrow cal settings:  {'run_args': {'tolerance': {'val': 0.0, 'scale': 1.0}, 'input_scale': 0, 'param_scale': 0, 'scale_rebase_multiplier': 10, 'lookup_range': [-10006, 0], 'logrows': 14, 'num_inner_cols': 2, 'variables': [['batch_size', 1]], 'input_visibility': {'Hashed': {'hash_is_public': True, 'outlets': []}}, 'output_visibility': 'Public', 'param_visibility': 'Private'}, 'num_rows': 6560, 'total_assignments': 210, 'total_const_size': 4, 'model_instance_shapes': [[1], [1]], 'model_output_scales': [0, 0], 'model_input_scales': [0], 'module_sizes': {'kzg': [], 'poseidon': [6560, [1]], 'elgamal': [0, [0]]}, 'required_lookups': ['Abs', {'GreaterThan': {'a': 0.0}}], 'check_mode': 'UNSAFE', 'version': '7.0.0', 'num_blinding_factors': None}\n"
     ]
    },
    {
     "name": "stderr",
     "output_type": "stream",
     "text": [
      "spawning module 2\n",
      "spawning module 0\n",
      "spawning module 2\n"
     ]
    },
    {
     "name": "stdout",
     "output_type": "stream",
     "text": [
      "gen prf time:  2.358635902404785\n",
      "Theory result:  tensor(5003.3000, dtype=torch.float64)\n",
      "Our result:  [5003.0]\n"
     ]
    }
   ],
   "source": [
    "lar_time[1] = bench_one(data_100_path,['large'], model_func,gen_param_func, \"100 large values\",[0],14, \"resources\")"
   ]
  },
  {
   "cell_type": "code",
   "execution_count": 18,
   "metadata": {},
   "outputs": [
    {
     "name": "stderr",
     "output_type": "stream",
     "text": [
      "Using 2 columns for non-linearity table.\n",
      "Using 2 columns for non-linearity table.\n",
      "spawning module 0\n",
      "spawning module 2\n"
     ]
    },
    {
     "name": "stdout",
     "output_type": "stream",
     "text": [
      "=====================================  100 large values  =====================================\n",
      "og setting:  {'run_args': {'tolerance': {'val': 0.0, 'scale': 1.0}, 'input_scale': 0, 'param_scale': 0, 'scale_rebase_multiplier': 10, 'lookup_range': [-10006, 0], 'logrows': 14, 'num_inner_cols': 2, 'variables': [['batch_size', 1]], 'input_visibility': {'Hashed': {'hash_is_public': True, 'outlets': []}}, 'output_visibility': 'Public', 'param_visibility': 'Private'}, 'num_rows': 6560, 'total_assignments': 210, 'total_const_size': 4, 'model_instance_shapes': [[1], [1]], 'model_output_scales': [0, 0], 'model_input_scales': [0], 'module_sizes': {'kzg': [], 'poseidon': [6560, [1]], 'elgamal': [0, [0]]}, 'required_lookups': ['Abs', {'GreaterThan': {'a': 0.0}}], 'check_mode': 'UNSAFE', 'version': '7.0.0', 'num_blinding_factors': None}\n",
      "logrow cal settings:  {'run_args': {'tolerance': {'val': 0.0, 'scale': 1.0}, 'input_scale': 0, 'param_scale': 0, 'scale_rebase_multiplier': 10, 'lookup_range': [-10006, 0], 'logrows': 13, 'num_inner_cols': 2, 'variables': [['batch_size', 1]], 'input_visibility': {'Hashed': {'hash_is_public': True, 'outlets': []}}, 'output_visibility': 'Public', 'param_visibility': 'Private'}, 'num_rows': 6560, 'total_assignments': 210, 'total_const_size': 4, 'model_instance_shapes': [[1], [1]], 'model_output_scales': [0, 0], 'model_input_scales': [0], 'module_sizes': {'kzg': [], 'poseidon': [6560, [1]], 'elgamal': [0, [0]]}, 'required_lookups': ['Abs', {'GreaterThan': {'a': 0.0}}], 'check_mode': 'UNSAFE', 'version': '7.0.0', 'num_blinding_factors': None}\n"
     ]
    },
    {
     "name": "stderr",
     "output_type": "stream",
     "text": [
      "Using 2 columns for non-linearity table.\n",
      "Using 2 columns for non-linearity table.\n",
      "spawning module 0\n",
      "spawning module 2\n",
      "Using 2 columns for non-linearity table.\n",
      "Using 2 columns for non-linearity table.\n",
      "Using 2 columns for non-linearity table.\n",
      "Using 2 columns for non-linearity table.\n",
      "spawning module 0\n",
      "spawning module 2\n",
      "Using 2 columns for non-linearity table.\n",
      "Using 2 columns for non-linearity table.\n"
     ]
    },
    {
     "name": "stdout",
     "output_type": "stream",
     "text": [
      "gen prf time:  1.8810648918151855\n",
      "Theory result:  tensor(5003.3000, dtype=torch.float64)\n",
      "Our result:  [5003.0]\n"
     ]
    }
   ],
   "source": [
    "lar_time[1] = bench_one(data_100_path,['large'], model_func,gen_param_func, \"100 large values\",[0],13, \"resources\")"
   ]
  },
  {
   "cell_type": "code",
   "execution_count": 19,
   "metadata": {},
   "outputs": [
    {
     "name": "stderr",
     "output_type": "stream",
     "text": [
      "spawning module 0\n",
      "spawning module 2\n",
      "spawning module 0\n"
     ]
    },
    {
     "name": "stdout",
     "output_type": "stream",
     "text": [
      "=====================================  300 large values  =====================================\n",
      "og setting:  {'run_args': {'tolerance': {'val': 0.0, 'scale': 1.0}, 'input_scale': 0, 'param_scale': 0, 'scale_rebase_multiplier': 10, 'lookup_range': [-30308, 0], 'logrows': 15, 'num_inner_cols': 2, 'variables': [['batch_size', 1]], 'input_visibility': {'Hashed': {'hash_is_public': True, 'outlets': []}}, 'output_visibility': 'Public', 'param_visibility': 'Private'}, 'num_rows': 14432, 'total_assignments': 610, 'total_const_size': 4, 'model_instance_shapes': [[1], [1]], 'model_output_scales': [0, 0], 'model_input_scales': [0], 'module_sizes': {'kzg': [], 'poseidon': [14432, [1]], 'elgamal': [0, [0]]}, 'required_lookups': ['Abs', {'GreaterThan': {'a': 0.0}}], 'check_mode': 'UNSAFE', 'version': '7.0.0', 'num_blinding_factors': None}\n",
      "logrow cal settings:  {'run_args': {'tolerance': {'val': 0.0, 'scale': 1.0}, 'input_scale': 0, 'param_scale': 0, 'scale_rebase_multiplier': 10, 'lookup_range': [-30308, 0], 'logrows': 15, 'num_inner_cols': 2, 'variables': [['batch_size', 1]], 'input_visibility': {'Hashed': {'hash_is_public': True, 'outlets': []}}, 'output_visibility': 'Public', 'param_visibility': 'Private'}, 'num_rows': 14432, 'total_assignments': 610, 'total_const_size': 4, 'model_instance_shapes': [[1], [1]], 'model_output_scales': [0, 0], 'model_input_scales': [0], 'module_sizes': {'kzg': [], 'poseidon': [14432, [1]], 'elgamal': [0, [0]]}, 'required_lookups': ['Abs', {'GreaterThan': {'a': 0.0}}], 'check_mode': 'UNSAFE', 'version': '7.0.0', 'num_blinding_factors': None}\n"
     ]
    },
    {
     "name": "stderr",
     "output_type": "stream",
     "text": [
      "spawning module 2\n",
      "spawning module 0\n",
      "spawning module 2\n"
     ]
    },
    {
     "name": "stdout",
     "output_type": "stream",
     "text": [
      "gen prf time:  4.595643043518066\n",
      "Theory result:  tensor(5051.2367, dtype=torch.float64)\n",
      "Our result:  [5051.0]\n"
     ]
    }
   ],
   "source": [
    "lar_time[2] = bench_one(data_300_path,['large'], model_func,gen_param_func, \"300 large values\",[0],15, \"resources\")"
   ]
  },
  {
   "cell_type": "code",
   "execution_count": 20,
   "metadata": {},
   "outputs": [
    {
     "name": "stderr",
     "output_type": "stream",
     "text": [
      "Using 2 columns for non-linearity table.\n",
      "Using 2 columns for non-linearity table.\n",
      "spawning module 0\n",
      "spawning module 2\n"
     ]
    },
    {
     "name": "stdout",
     "output_type": "stream",
     "text": [
      "=====================================  300 large values  =====================================\n",
      "og setting:  {'run_args': {'tolerance': {'val': 0.0, 'scale': 1.0}, 'input_scale': 0, 'param_scale': 0, 'scale_rebase_multiplier': 10, 'lookup_range': [-30308, 0], 'logrows': 15, 'num_inner_cols': 2, 'variables': [['batch_size', 1]], 'input_visibility': {'Hashed': {'hash_is_public': True, 'outlets': []}}, 'output_visibility': 'Public', 'param_visibility': 'Private'}, 'num_rows': 14432, 'total_assignments': 610, 'total_const_size': 4, 'model_instance_shapes': [[1], [1]], 'model_output_scales': [0, 0], 'model_input_scales': [0], 'module_sizes': {'kzg': [], 'poseidon': [14432, [1]], 'elgamal': [0, [0]]}, 'required_lookups': ['Abs', {'GreaterThan': {'a': 0.0}}], 'check_mode': 'UNSAFE', 'version': '7.0.0', 'num_blinding_factors': None}\n",
      "logrow cal settings:  {'run_args': {'tolerance': {'val': 0.0, 'scale': 1.0}, 'input_scale': 0, 'param_scale': 0, 'scale_rebase_multiplier': 10, 'lookup_range': [-30308, 0], 'logrows': 14, 'num_inner_cols': 2, 'variables': [['batch_size', 1]], 'input_visibility': {'Hashed': {'hash_is_public': True, 'outlets': []}}, 'output_visibility': 'Public', 'param_visibility': 'Private'}, 'num_rows': 14432, 'total_assignments': 610, 'total_const_size': 4, 'model_instance_shapes': [[1], [1]], 'model_output_scales': [0, 0], 'model_input_scales': [0], 'module_sizes': {'kzg': [], 'poseidon': [14432, [1]], 'elgamal': [0, [0]]}, 'required_lookups': ['Abs', {'GreaterThan': {'a': 0.0}}], 'check_mode': 'UNSAFE', 'version': '7.0.0', 'num_blinding_factors': None}\n"
     ]
    },
    {
     "name": "stderr",
     "output_type": "stream",
     "text": [
      "Using 2 columns for non-linearity table.\n",
      "Using 2 columns for non-linearity table.\n",
      "spawning module 0\n",
      "spawning module 2\n",
      "Using 2 columns for non-linearity table.\n",
      "Using 2 columns for non-linearity table.\n",
      "Using 2 columns for non-linearity table.\n",
      "Using 2 columns for non-linearity table.\n",
      "spawning module 0\n",
      "spawning module 2\n",
      "Using 2 columns for non-linearity table.\n",
      "Using 2 columns for non-linearity table.\n"
     ]
    },
    {
     "name": "stdout",
     "output_type": "stream",
     "text": [
      "gen prf time:  3.6212968826293945\n",
      "Theory result:  tensor(5051.2367, dtype=torch.float64)\n",
      "Our result:  [5051.0]\n"
     ]
    }
   ],
   "source": [
    "lar_time[2] = bench_one(data_300_path,['large'], model_func,gen_param_func, \"300 large values\",[0],14, \"resources\")"
   ]
  },
  {
   "cell_type": "code",
   "execution_count": 21,
   "metadata": {},
   "outputs": [
    {
     "name": "stderr",
     "output_type": "stream",
     "text": [
      "spawning module 0\n",
      "spawning module 2\n",
      "spawning module 0\n"
     ]
    },
    {
     "name": "stdout",
     "output_type": "stream",
     "text": [
      "=====================================  600 large values  =====================================\n",
      "og setting:  {'run_args': {'tolerance': {'val': 0.0, 'scale': 1.0}, 'input_scale': 0, 'param_scale': 0, 'scale_rebase_multiplier': 10, 'lookup_range': [-59772, 0], 'logrows': 16, 'num_inner_cols': 2, 'variables': [['batch_size', 1]], 'input_visibility': {'Hashed': {'hash_is_public': True, 'outlets': []}}, 'output_visibility': 'Public', 'param_visibility': 'Private'}, 'num_rows': 26240, 'total_assignments': 1210, 'total_const_size': 4, 'model_instance_shapes': [[1], [1]], 'model_output_scales': [0, 0], 'model_input_scales': [0], 'module_sizes': {'kzg': [], 'poseidon': [26240, [1]], 'elgamal': [0, [0]]}, 'required_lookups': ['Abs', {'GreaterThan': {'a': 0.0}}], 'check_mode': 'UNSAFE', 'version': '7.0.0', 'num_blinding_factors': None}\n",
      "logrow cal settings:  {'run_args': {'tolerance': {'val': 0.0, 'scale': 1.0}, 'input_scale': 0, 'param_scale': 0, 'scale_rebase_multiplier': 10, 'lookup_range': [-59772, 0], 'logrows': 16, 'num_inner_cols': 2, 'variables': [['batch_size', 1]], 'input_visibility': {'Hashed': {'hash_is_public': True, 'outlets': []}}, 'output_visibility': 'Public', 'param_visibility': 'Private'}, 'num_rows': 26240, 'total_assignments': 1210, 'total_const_size': 4, 'model_instance_shapes': [[1], [1]], 'model_output_scales': [0, 0], 'model_input_scales': [0], 'module_sizes': {'kzg': [], 'poseidon': [26240, [1]], 'elgamal': [0, [0]]}, 'required_lookups': ['Abs', {'GreaterThan': {'a': 0.0}}], 'check_mode': 'UNSAFE', 'version': '7.0.0', 'num_blinding_factors': None}\n"
     ]
    },
    {
     "name": "stderr",
     "output_type": "stream",
     "text": [
      "spawning module 2\n",
      "spawning module 0\n",
      "spawning module 2\n"
     ]
    },
    {
     "name": "stdout",
     "output_type": "stream",
     "text": [
      "gen prf time:  8.743141889572144\n",
      "Theory result:  tensor(4981.0350, dtype=torch.float64)\n",
      "Our result:  [4981.0]\n"
     ]
    }
   ],
   "source": [
    "lar_time[3] = bench_one(data_600_path,['large'], model_func,gen_param_func, \"600 large values\",[0], 16,\"resources\")"
   ]
  },
  {
   "cell_type": "code",
   "execution_count": 22,
   "metadata": {},
   "outputs": [
    {
     "name": "stderr",
     "output_type": "stream",
     "text": [
      "Using 2 columns for non-linearity table.\n",
      "Using 2 columns for non-linearity table.\n",
      "spawning module 0\n",
      "spawning module 2\n"
     ]
    },
    {
     "name": "stdout",
     "output_type": "stream",
     "text": [
      "=====================================  600 large values  =====================================\n",
      "og setting:  {'run_args': {'tolerance': {'val': 0.0, 'scale': 1.0}, 'input_scale': 0, 'param_scale': 0, 'scale_rebase_multiplier': 10, 'lookup_range': [-59772, 0], 'logrows': 16, 'num_inner_cols': 2, 'variables': [['batch_size', 1]], 'input_visibility': {'Hashed': {'hash_is_public': True, 'outlets': []}}, 'output_visibility': 'Public', 'param_visibility': 'Private'}, 'num_rows': 26240, 'total_assignments': 1210, 'total_const_size': 4, 'model_instance_shapes': [[1], [1]], 'model_output_scales': [0, 0], 'model_input_scales': [0], 'module_sizes': {'kzg': [], 'poseidon': [26240, [1]], 'elgamal': [0, [0]]}, 'required_lookups': ['Abs', {'GreaterThan': {'a': 0.0}}], 'check_mode': 'UNSAFE', 'version': '7.0.0', 'num_blinding_factors': None}\n",
      "logrow cal settings:  {'run_args': {'tolerance': {'val': 0.0, 'scale': 1.0}, 'input_scale': 0, 'param_scale': 0, 'scale_rebase_multiplier': 10, 'lookup_range': [-59772, 0], 'logrows': 15, 'num_inner_cols': 2, 'variables': [['batch_size', 1]], 'input_visibility': {'Hashed': {'hash_is_public': True, 'outlets': []}}, 'output_visibility': 'Public', 'param_visibility': 'Private'}, 'num_rows': 26240, 'total_assignments': 1210, 'total_const_size': 4, 'model_instance_shapes': [[1], [1]], 'model_output_scales': [0, 0], 'model_input_scales': [0], 'module_sizes': {'kzg': [], 'poseidon': [26240, [1]], 'elgamal': [0, [0]]}, 'required_lookups': ['Abs', {'GreaterThan': {'a': 0.0}}], 'check_mode': 'UNSAFE', 'version': '7.0.0', 'num_blinding_factors': None}\n"
     ]
    },
    {
     "name": "stderr",
     "output_type": "stream",
     "text": [
      "Using 2 columns for non-linearity table.\n",
      "Using 2 columns for non-linearity table.\n",
      "spawning module 0\n",
      "spawning module 2\n",
      "Using 2 columns for non-linearity table.\n",
      "Using 2 columns for non-linearity table.\n",
      "Using 2 columns for non-linearity table.\n",
      "Using 2 columns for non-linearity table.\n",
      "spawning module 0\n",
      "spawning module 2\n",
      "Using 2 columns for non-linearity table.\n",
      "Using 2 columns for non-linearity table.\n"
     ]
    },
    {
     "name": "stdout",
     "output_type": "stream",
     "text": [
      "gen prf time:  6.778165817260742\n",
      "Theory result:  tensor(4981.0350, dtype=torch.float64)\n",
      "Our result:  [4981.0]\n"
     ]
    }
   ],
   "source": [
    "lar_time[3] = bench_one(data_600_path,['large'], model_func,gen_param_func, \"600 large values\",[0], 15,\"resources\")"
   ]
  },
  {
   "cell_type": "code",
   "execution_count": 23,
   "metadata": {},
   "outputs": [
    {
     "name": "stderr",
     "output_type": "stream",
     "text": [
      "spawning module 0\n",
      "spawning module 2\n"
     ]
    },
    {
     "name": "stdout",
     "output_type": "stream",
     "text": [
      "=====================================  1000 large values  =====================================\n",
      "og setting:  {'run_args': {'tolerance': {'val': 0.0, 'scale': 1.0}, 'input_scale': 0, 'param_scale': 0, 'scale_rebase_multiplier': 10, 'lookup_range': [-100912, 0], 'logrows': 17, 'num_inner_cols': 2, 'variables': [['batch_size', 1]], 'input_visibility': {'Hashed': {'hash_is_public': True, 'outlets': []}}, 'output_visibility': 'Public', 'param_visibility': 'Private'}, 'num_rows': 45920, 'total_assignments': 2010, 'total_const_size': 4, 'model_instance_shapes': [[1], [1]], 'model_output_scales': [0, 0], 'model_input_scales': [0], 'module_sizes': {'kzg': [], 'poseidon': [45920, [1]], 'elgamal': [0, [0]]}, 'required_lookups': ['Abs', {'GreaterThan': {'a': 0.0}}], 'check_mode': 'UNSAFE', 'version': '7.0.0', 'num_blinding_factors': None}\n",
      "logrow cal settings:  {'run_args': {'tolerance': {'val': 0.0, 'scale': 1.0}, 'input_scale': 0, 'param_scale': 0, 'scale_rebase_multiplier': 10, 'lookup_range': [-100912, 0], 'logrows': 17, 'num_inner_cols': 2, 'variables': [['batch_size', 1]], 'input_visibility': {'Hashed': {'hash_is_public': True, 'outlets': []}}, 'output_visibility': 'Public', 'param_visibility': 'Private'}, 'num_rows': 45920, 'total_assignments': 2010, 'total_const_size': 4, 'model_instance_shapes': [[1], [1]], 'model_output_scales': [0, 0], 'model_input_scales': [0], 'module_sizes': {'kzg': [], 'poseidon': [45920, [1]], 'elgamal': [0, [0]]}, 'required_lookups': ['Abs', {'GreaterThan': {'a': 0.0}}], 'check_mode': 'UNSAFE', 'version': '7.0.0', 'num_blinding_factors': None}\n"
     ]
    },
    {
     "name": "stderr",
     "output_type": "stream",
     "text": [
      "spawning module 0\n",
      "spawning module 2\n",
      "spawning module 0\n",
      "spawning module 2\n"
     ]
    },
    {
     "name": "stdout",
     "output_type": "stream",
     "text": [
      "gen prf time:  17.387351989746094\n",
      "Theory result:  tensor(5045.6150, dtype=torch.float64)\n",
      "Our result:  [5046.0]\n"
     ]
    }
   ],
   "source": [
    "lar_time[4] = bench_one(data_1000_path,['large'], model_func,gen_param_func, \"1000 large values\",[0], 17,\"resources\")"
   ]
  },
  {
   "cell_type": "code",
   "execution_count": 24,
   "metadata": {},
   "outputs": [
    {
     "name": "stderr",
     "output_type": "stream",
     "text": [
      "Using 2 columns for non-linearity table.\n",
      "Using 2 columns for non-linearity table.\n",
      "spawning module 0\n"
     ]
    },
    {
     "name": "stdout",
     "output_type": "stream",
     "text": [
      "=====================================  1000 large values  =====================================\n",
      "og setting:  {'run_args': {'tolerance': {'val': 0.0, 'scale': 1.0}, 'input_scale': 0, 'param_scale': 0, 'scale_rebase_multiplier': 10, 'lookup_range': [-100912, 0], 'logrows': 17, 'num_inner_cols': 2, 'variables': [['batch_size', 1]], 'input_visibility': {'Hashed': {'hash_is_public': True, 'outlets': []}}, 'output_visibility': 'Public', 'param_visibility': 'Private'}, 'num_rows': 45920, 'total_assignments': 2010, 'total_const_size': 4, 'model_instance_shapes': [[1], [1]], 'model_output_scales': [0, 0], 'model_input_scales': [0], 'module_sizes': {'kzg': [], 'poseidon': [45920, [1]], 'elgamal': [0, [0]]}, 'required_lookups': ['Abs', {'GreaterThan': {'a': 0.0}}], 'check_mode': 'UNSAFE', 'version': '7.0.0', 'num_blinding_factors': None}\n",
      "logrow cal settings:  {'run_args': {'tolerance': {'val': 0.0, 'scale': 1.0}, 'input_scale': 0, 'param_scale': 0, 'scale_rebase_multiplier': 10, 'lookup_range': [-100912, 0], 'logrows': 16, 'num_inner_cols': 2, 'variables': [['batch_size', 1]], 'input_visibility': {'Hashed': {'hash_is_public': True, 'outlets': []}}, 'output_visibility': 'Public', 'param_visibility': 'Private'}, 'num_rows': 45920, 'total_assignments': 2010, 'total_const_size': 4, 'model_instance_shapes': [[1], [1]], 'model_output_scales': [0, 0], 'model_input_scales': [0], 'module_sizes': {'kzg': [], 'poseidon': [45920, [1]], 'elgamal': [0, [0]]}, 'required_lookups': ['Abs', {'GreaterThan': {'a': 0.0}}], 'check_mode': 'UNSAFE', 'version': '7.0.0', 'num_blinding_factors': None}\n"
     ]
    },
    {
     "name": "stderr",
     "output_type": "stream",
     "text": [
      "spawning module 2\n",
      "Using 2 columns for non-linearity table.\n",
      "Using 2 columns for non-linearity table.\n",
      "spawning module 0\n",
      "spawning module 2\n",
      "Using 2 columns for non-linearity table.\n",
      "Using 2 columns for non-linearity table.\n",
      "Using 2 columns for non-linearity table.\n",
      "Using 2 columns for non-linearity table.\n",
      "spawning module 0\n",
      "spawning module 2\n",
      "Using 2 columns for non-linearity table.\n",
      "Using 2 columns for non-linearity table.\n"
     ]
    },
    {
     "name": "stdout",
     "output_type": "stream",
     "text": [
      "gen prf time:  12.426290035247803\n",
      "Theory result:  tensor(5045.6150, dtype=torch.float64)\n",
      "Our result:  [5046.0]\n"
     ]
    }
   ],
   "source": [
    "lar_time[4] = bench_one(data_1000_path,['large'], model_func,gen_param_func, \"1000 large values\",[0], 16,\"resources\")"
   ]
  },
  {
   "cell_type": "code",
   "execution_count": null,
   "metadata": {},
   "outputs": [],
   "source": []
  }
 ],
 "metadata": {
  "kernelspec": {
   "display_name": "Python 3",
   "language": "python",
   "name": "python3"
  },
  "language_info": {
   "codemirror_mode": {
    "name": "ipython",
    "version": 3
   },
   "file_extension": ".py",
   "mimetype": "text/x-python",
   "name": "python",
   "nbconvert_exporter": "python",
   "pygments_lexer": "ipython3",
   "version": "3.10.0"
  },
  "orig_nbformat": 4
 },
 "nbformat": 4,
 "nbformat_minor": 2
}
